{
 "cells": [
  {
   "cell_type": "code",
   "execution_count": 1,
   "id": "a76a111d",
   "metadata": {},
   "outputs": [],
   "source": [
    "import numpy as np\n",
    "import math\n",
    "import pandas as pd\n",
    "from logregress import log_regress\n",
    "from logregress import lin_regress\n",
    "from sklearn.model_selection import train_test_split\n",
    "from sklearn.metrics import r2_score\n",
    "from sklearn.metrics import mean_squared_error"
   ]
  },
  {
   "cell_type": "code",
   "execution_count": 2,
   "id": "69d3d2b9",
   "metadata": {},
   "outputs": [
    {
     "data": {
      "text/html": [
       "<div>\n",
       "<style scoped>\n",
       "    .dataframe tbody tr th:only-of-type {\n",
       "        vertical-align: middle;\n",
       "    }\n",
       "\n",
       "    .dataframe tbody tr th {\n",
       "        vertical-align: top;\n",
       "    }\n",
       "\n",
       "    .dataframe thead th {\n",
       "        text-align: right;\n",
       "    }\n",
       "</style>\n",
       "<table border=\"1\" class=\"dataframe\">\n",
       "  <thead>\n",
       "    <tr style=\"text-align: right;\">\n",
       "      <th></th>\n",
       "      <th>TIME_PERIOD</th>\n",
       "      <th>Reference area</th>\n",
       "      <th>REF_AREA</th>\n",
       "      <th>Trade union density</th>\n",
       "      <th>Combined corporate income tax rate</th>\n",
       "      <th>Education spending</th>\n",
       "      <th>Health spending</th>\n",
       "      <th>Housing spending</th>\n",
       "      <th>Community development spending</th>\n",
       "      <th>IRLT</th>\n",
       "      <th>UNEMP</th>\n",
       "      <th>Population, total</th>\n",
       "      <th>GDP per capita (current US$)</th>\n",
       "      <th>Inflation, consumer prices (annual %)</th>\n",
       "      <th>Gini index</th>\n",
       "      <th>Region</th>\n",
       "    </tr>\n",
       "  </thead>\n",
       "  <tbody>\n",
       "    <tr>\n",
       "      <th>0</th>\n",
       "      <td>2001</td>\n",
       "      <td>Sweden</td>\n",
       "      <td>SWE</td>\n",
       "      <td>78.699997</td>\n",
       "      <td>28.0</td>\n",
       "      <td>0.073432</td>\n",
       "      <td>0.063153</td>\n",
       "      <td>0.005750</td>\n",
       "      <td>0.002563</td>\n",
       "      <td>5.107500</td>\n",
       "      <td>5.825000</td>\n",
       "      <td>8895960.0</td>\n",
       "      <td>27259.480674</td>\n",
       "      <td>2.405958</td>\n",
       "      <td>26.5</td>\n",
       "      <td>Europe and Central Asia</td>\n",
       "    </tr>\n",
       "    <tr>\n",
       "      <th>1</th>\n",
       "      <td>2002</td>\n",
       "      <td>Sweden</td>\n",
       "      <td>SWE</td>\n",
       "      <td>78.000000</td>\n",
       "      <td>28.0</td>\n",
       "      <td>0.074421</td>\n",
       "      <td>0.066268</td>\n",
       "      <td>0.005462</td>\n",
       "      <td>0.002885</td>\n",
       "      <td>5.303333</td>\n",
       "      <td>5.950000</td>\n",
       "      <td>8924958.0</td>\n",
       "      <td>29957.938765</td>\n",
       "      <td>2.158482</td>\n",
       "      <td>26.2</td>\n",
       "      <td>Europe and Central Asia</td>\n",
       "    </tr>\n",
       "    <tr>\n",
       "      <th>2</th>\n",
       "      <td>2003</td>\n",
       "      <td>Sweden</td>\n",
       "      <td>SWE</td>\n",
       "      <td>77.199997</td>\n",
       "      <td>28.0</td>\n",
       "      <td>0.073959</td>\n",
       "      <td>0.068195</td>\n",
       "      <td>0.005385</td>\n",
       "      <td>0.002733</td>\n",
       "      <td>4.638333</td>\n",
       "      <td>6.566667</td>\n",
       "      <td>8958229.0</td>\n",
       "      <td>37292.421434</td>\n",
       "      <td>1.925655</td>\n",
       "      <td>25.3</td>\n",
       "      <td>Europe and Central Asia</td>\n",
       "    </tr>\n",
       "    <tr>\n",
       "      <th>3</th>\n",
       "      <td>2004</td>\n",
       "      <td>Sweden</td>\n",
       "      <td>SWE</td>\n",
       "      <td>76.400002</td>\n",
       "      <td>28.0</td>\n",
       "      <td>0.072734</td>\n",
       "      <td>0.066088</td>\n",
       "      <td>0.005046</td>\n",
       "      <td>0.002877</td>\n",
       "      <td>4.425000</td>\n",
       "      <td>7.375000</td>\n",
       "      <td>8993531.0</td>\n",
       "      <td>42758.201550</td>\n",
       "      <td>0.373660</td>\n",
       "      <td>26.1</td>\n",
       "      <td>Europe and Central Asia</td>\n",
       "    </tr>\n",
       "    <tr>\n",
       "      <th>4</th>\n",
       "      <td>2005</td>\n",
       "      <td>Sweden</td>\n",
       "      <td>SWE</td>\n",
       "      <td>75.699997</td>\n",
       "      <td>28.0</td>\n",
       "      <td>0.072877</td>\n",
       "      <td>0.066296</td>\n",
       "      <td>0.003736</td>\n",
       "      <td>0.002917</td>\n",
       "      <td>3.382500</td>\n",
       "      <td>7.783333</td>\n",
       "      <td>9029572.0</td>\n",
       "      <td>43378.615212</td>\n",
       "      <td>0.453171</td>\n",
       "      <td>26.8</td>\n",
       "      <td>Europe and Central Asia</td>\n",
       "    </tr>\n",
       "  </tbody>\n",
       "</table>\n",
       "</div>"
      ],
      "text/plain": [
       "   TIME_PERIOD Reference area REF_AREA  Trade union density  \\\n",
       "0         2001         Sweden      SWE            78.699997   \n",
       "1         2002         Sweden      SWE            78.000000   \n",
       "2         2003         Sweden      SWE            77.199997   \n",
       "3         2004         Sweden      SWE            76.400002   \n",
       "4         2005         Sweden      SWE            75.699997   \n",
       "\n",
       "   Combined corporate income tax rate  Education spending  Health spending  \\\n",
       "0                                28.0            0.073432         0.063153   \n",
       "1                                28.0            0.074421         0.066268   \n",
       "2                                28.0            0.073959         0.068195   \n",
       "3                                28.0            0.072734         0.066088   \n",
       "4                                28.0            0.072877         0.066296   \n",
       "\n",
       "   Housing spending  Community development spending      IRLT     UNEMP  \\\n",
       "0          0.005750                        0.002563  5.107500  5.825000   \n",
       "1          0.005462                        0.002885  5.303333  5.950000   \n",
       "2          0.005385                        0.002733  4.638333  6.566667   \n",
       "3          0.005046                        0.002877  4.425000  7.375000   \n",
       "4          0.003736                        0.002917  3.382500  7.783333   \n",
       "\n",
       "   Population, total  GDP per capita (current US$)  \\\n",
       "0          8895960.0                  27259.480674   \n",
       "1          8924958.0                  29957.938765   \n",
       "2          8958229.0                  37292.421434   \n",
       "3          8993531.0                  42758.201550   \n",
       "4          9029572.0                  43378.615212   \n",
       "\n",
       "   Inflation, consumer prices (annual %)  Gini index                   Region  \n",
       "0                               2.405958        26.5  Europe and Central Asia  \n",
       "1                               2.158482        26.2  Europe and Central Asia  \n",
       "2                               1.925655        25.3  Europe and Central Asia  \n",
       "3                               0.373660        26.1  Europe and Central Asia  \n",
       "4                               0.453171        26.8  Europe and Central Asia  "
      ]
     },
     "execution_count": 2,
     "metadata": {},
     "output_type": "execute_result"
    }
   ],
   "source": [
    "megaframe = pd.read_csv('../datasets/MEGAFRAME_CLEANEDV2.csv')\n",
    "megaframe.head()"
   ]
  },
  {
   "cell_type": "code",
   "execution_count": 3,
   "id": "ec607c55",
   "metadata": {},
   "outputs": [
    {
     "data": {
      "text/html": [
       "<div>\n",
       "<style scoped>\n",
       "    .dataframe tbody tr th:only-of-type {\n",
       "        vertical-align: middle;\n",
       "    }\n",
       "\n",
       "    .dataframe tbody tr th {\n",
       "        vertical-align: top;\n",
       "    }\n",
       "\n",
       "    .dataframe thead th {\n",
       "        text-align: right;\n",
       "    }\n",
       "</style>\n",
       "<table border=\"1\" class=\"dataframe\">\n",
       "  <thead>\n",
       "    <tr style=\"text-align: right;\">\n",
       "      <th></th>\n",
       "      <th>TIME_PERIOD</th>\n",
       "      <th>Reference area</th>\n",
       "      <th>REF_AREA</th>\n",
       "      <th>Trade union density</th>\n",
       "      <th>Combined corporate income tax rate</th>\n",
       "      <th>Education spending</th>\n",
       "      <th>Health spending</th>\n",
       "      <th>Housing spending</th>\n",
       "      <th>Community development spending</th>\n",
       "      <th>IRLT</th>\n",
       "      <th>UNEMP</th>\n",
       "      <th>Population, total</th>\n",
       "      <th>GDP per capita (current US$)</th>\n",
       "      <th>Inflation, consumer prices (annual %)</th>\n",
       "      <th>Gini index</th>\n",
       "      <th>Region_East Asia and Pacific</th>\n",
       "      <th>Region_Europe and Central Asia</th>\n",
       "      <th>Region_Latin America and Caribbean</th>\n",
       "      <th>Region_Middle East and North Africa</th>\n",
       "    </tr>\n",
       "  </thead>\n",
       "  <tbody>\n",
       "    <tr>\n",
       "      <th>0</th>\n",
       "      <td>2001</td>\n",
       "      <td>Sweden</td>\n",
       "      <td>SWE</td>\n",
       "      <td>78.699997</td>\n",
       "      <td>28.0</td>\n",
       "      <td>0.073432</td>\n",
       "      <td>0.063153</td>\n",
       "      <td>0.005750</td>\n",
       "      <td>0.002563</td>\n",
       "      <td>5.107500</td>\n",
       "      <td>5.825000</td>\n",
       "      <td>8895960.0</td>\n",
       "      <td>27259.480674</td>\n",
       "      <td>2.405958</td>\n",
       "      <td>26.5</td>\n",
       "      <td>0</td>\n",
       "      <td>1</td>\n",
       "      <td>0</td>\n",
       "      <td>0</td>\n",
       "    </tr>\n",
       "    <tr>\n",
       "      <th>1</th>\n",
       "      <td>2002</td>\n",
       "      <td>Sweden</td>\n",
       "      <td>SWE</td>\n",
       "      <td>78.000000</td>\n",
       "      <td>28.0</td>\n",
       "      <td>0.074421</td>\n",
       "      <td>0.066268</td>\n",
       "      <td>0.005462</td>\n",
       "      <td>0.002885</td>\n",
       "      <td>5.303333</td>\n",
       "      <td>5.950000</td>\n",
       "      <td>8924958.0</td>\n",
       "      <td>29957.938765</td>\n",
       "      <td>2.158482</td>\n",
       "      <td>26.2</td>\n",
       "      <td>0</td>\n",
       "      <td>1</td>\n",
       "      <td>0</td>\n",
       "      <td>0</td>\n",
       "    </tr>\n",
       "    <tr>\n",
       "      <th>2</th>\n",
       "      <td>2003</td>\n",
       "      <td>Sweden</td>\n",
       "      <td>SWE</td>\n",
       "      <td>77.199997</td>\n",
       "      <td>28.0</td>\n",
       "      <td>0.073959</td>\n",
       "      <td>0.068195</td>\n",
       "      <td>0.005385</td>\n",
       "      <td>0.002733</td>\n",
       "      <td>4.638333</td>\n",
       "      <td>6.566667</td>\n",
       "      <td>8958229.0</td>\n",
       "      <td>37292.421434</td>\n",
       "      <td>1.925655</td>\n",
       "      <td>25.3</td>\n",
       "      <td>0</td>\n",
       "      <td>1</td>\n",
       "      <td>0</td>\n",
       "      <td>0</td>\n",
       "    </tr>\n",
       "    <tr>\n",
       "      <th>3</th>\n",
       "      <td>2004</td>\n",
       "      <td>Sweden</td>\n",
       "      <td>SWE</td>\n",
       "      <td>76.400002</td>\n",
       "      <td>28.0</td>\n",
       "      <td>0.072734</td>\n",
       "      <td>0.066088</td>\n",
       "      <td>0.005046</td>\n",
       "      <td>0.002877</td>\n",
       "      <td>4.425000</td>\n",
       "      <td>7.375000</td>\n",
       "      <td>8993531.0</td>\n",
       "      <td>42758.201550</td>\n",
       "      <td>0.373660</td>\n",
       "      <td>26.1</td>\n",
       "      <td>0</td>\n",
       "      <td>1</td>\n",
       "      <td>0</td>\n",
       "      <td>0</td>\n",
       "    </tr>\n",
       "    <tr>\n",
       "      <th>4</th>\n",
       "      <td>2005</td>\n",
       "      <td>Sweden</td>\n",
       "      <td>SWE</td>\n",
       "      <td>75.699997</td>\n",
       "      <td>28.0</td>\n",
       "      <td>0.072877</td>\n",
       "      <td>0.066296</td>\n",
       "      <td>0.003736</td>\n",
       "      <td>0.002917</td>\n",
       "      <td>3.382500</td>\n",
       "      <td>7.783333</td>\n",
       "      <td>9029572.0</td>\n",
       "      <td>43378.615212</td>\n",
       "      <td>0.453171</td>\n",
       "      <td>26.8</td>\n",
       "      <td>0</td>\n",
       "      <td>1</td>\n",
       "      <td>0</td>\n",
       "      <td>0</td>\n",
       "    </tr>\n",
       "    <tr>\n",
       "      <th>...</th>\n",
       "      <td>...</td>\n",
       "      <td>...</td>\n",
       "      <td>...</td>\n",
       "      <td>...</td>\n",
       "      <td>...</td>\n",
       "      <td>...</td>\n",
       "      <td>...</td>\n",
       "      <td>...</td>\n",
       "      <td>...</td>\n",
       "      <td>...</td>\n",
       "      <td>...</td>\n",
       "      <td>...</td>\n",
       "      <td>...</td>\n",
       "      <td>...</td>\n",
       "      <td>...</td>\n",
       "      <td>...</td>\n",
       "      <td>...</td>\n",
       "      <td>...</td>\n",
       "      <td>...</td>\n",
       "    </tr>\n",
       "    <tr>\n",
       "      <th>395</th>\n",
       "      <td>2015</td>\n",
       "      <td>Finland</td>\n",
       "      <td>FIN</td>\n",
       "      <td>67.500000</td>\n",
       "      <td>20.0</td>\n",
       "      <td>0.063628</td>\n",
       "      <td>0.072967</td>\n",
       "      <td>0.004367</td>\n",
       "      <td>0.002398</td>\n",
       "      <td>0.723333</td>\n",
       "      <td>9.458333</td>\n",
       "      <td>5479531.0</td>\n",
       "      <td>42560.345677</td>\n",
       "      <td>-0.207929</td>\n",
       "      <td>27.1</td>\n",
       "      <td>0</td>\n",
       "      <td>1</td>\n",
       "      <td>0</td>\n",
       "      <td>0</td>\n",
       "    </tr>\n",
       "    <tr>\n",
       "      <th>396</th>\n",
       "      <td>2016</td>\n",
       "      <td>Finland</td>\n",
       "      <td>FIN</td>\n",
       "      <td>65.699997</td>\n",
       "      <td>20.0</td>\n",
       "      <td>0.062434</td>\n",
       "      <td>0.072201</td>\n",
       "      <td>0.005007</td>\n",
       "      <td>0.002295</td>\n",
       "      <td>0.365000</td>\n",
       "      <td>8.916667</td>\n",
       "      <td>5495303.0</td>\n",
       "      <td>43451.256244</td>\n",
       "      <td>0.356685</td>\n",
       "      <td>27.1</td>\n",
       "      <td>0</td>\n",
       "      <td>1</td>\n",
       "      <td>0</td>\n",
       "      <td>0</td>\n",
       "    </tr>\n",
       "    <tr>\n",
       "      <th>397</th>\n",
       "      <td>2017</td>\n",
       "      <td>Finland</td>\n",
       "      <td>FIN</td>\n",
       "      <td>62.900002</td>\n",
       "      <td>20.0</td>\n",
       "      <td>0.058111</td>\n",
       "      <td>0.070630</td>\n",
       "      <td>0.005621</td>\n",
       "      <td>0.002109</td>\n",
       "      <td>0.546667</td>\n",
       "      <td>8.766667</td>\n",
       "      <td>5508214.0</td>\n",
       "      <td>46085.017474</td>\n",
       "      <td>0.754015</td>\n",
       "      <td>27.4</td>\n",
       "      <td>0</td>\n",
       "      <td>1</td>\n",
       "      <td>0</td>\n",
       "      <td>0</td>\n",
       "    </tr>\n",
       "    <tr>\n",
       "      <th>398</th>\n",
       "      <td>2018</td>\n",
       "      <td>Finland</td>\n",
       "      <td>FIN</td>\n",
       "      <td>60.000000</td>\n",
       "      <td>20.0</td>\n",
       "      <td>0.057562</td>\n",
       "      <td>0.071478</td>\n",
       "      <td>0.006421</td>\n",
       "      <td>0.002053</td>\n",
       "      <td>0.661667</td>\n",
       "      <td>7.433333</td>\n",
       "      <td>5515525.0</td>\n",
       "      <td>49654.249704</td>\n",
       "      <td>1.083821</td>\n",
       "      <td>27.3</td>\n",
       "      <td>0</td>\n",
       "      <td>1</td>\n",
       "      <td>0</td>\n",
       "      <td>0</td>\n",
       "    </tr>\n",
       "    <tr>\n",
       "      <th>399</th>\n",
       "      <td>2019</td>\n",
       "      <td>Finland</td>\n",
       "      <td>FIN</td>\n",
       "      <td>58.799999</td>\n",
       "      <td>20.0</td>\n",
       "      <td>0.058524</td>\n",
       "      <td>0.072091</td>\n",
       "      <td>0.006251</td>\n",
       "      <td>0.002008</td>\n",
       "      <td>0.070000</td>\n",
       "      <td>6.741667</td>\n",
       "      <td>5521606.0</td>\n",
       "      <td>48358.180777</td>\n",
       "      <td>1.024094</td>\n",
       "      <td>27.7</td>\n",
       "      <td>0</td>\n",
       "      <td>1</td>\n",
       "      <td>0</td>\n",
       "      <td>0</td>\n",
       "    </tr>\n",
       "  </tbody>\n",
       "</table>\n",
       "<p>400 rows × 19 columns</p>\n",
       "</div>"
      ],
      "text/plain": [
       "     TIME_PERIOD Reference area REF_AREA  Trade union density  \\\n",
       "0           2001         Sweden      SWE            78.699997   \n",
       "1           2002         Sweden      SWE            78.000000   \n",
       "2           2003         Sweden      SWE            77.199997   \n",
       "3           2004         Sweden      SWE            76.400002   \n",
       "4           2005         Sweden      SWE            75.699997   \n",
       "..           ...            ...      ...                  ...   \n",
       "395         2015        Finland      FIN            67.500000   \n",
       "396         2016        Finland      FIN            65.699997   \n",
       "397         2017        Finland      FIN            62.900002   \n",
       "398         2018        Finland      FIN            60.000000   \n",
       "399         2019        Finland      FIN            58.799999   \n",
       "\n",
       "     Combined corporate income tax rate  Education spending  Health spending  \\\n",
       "0                                  28.0            0.073432         0.063153   \n",
       "1                                  28.0            0.074421         0.066268   \n",
       "2                                  28.0            0.073959         0.068195   \n",
       "3                                  28.0            0.072734         0.066088   \n",
       "4                                  28.0            0.072877         0.066296   \n",
       "..                                  ...                 ...              ...   \n",
       "395                                20.0            0.063628         0.072967   \n",
       "396                                20.0            0.062434         0.072201   \n",
       "397                                20.0            0.058111         0.070630   \n",
       "398                                20.0            0.057562         0.071478   \n",
       "399                                20.0            0.058524         0.072091   \n",
       "\n",
       "     Housing spending  Community development spending      IRLT     UNEMP  \\\n",
       "0            0.005750                        0.002563  5.107500  5.825000   \n",
       "1            0.005462                        0.002885  5.303333  5.950000   \n",
       "2            0.005385                        0.002733  4.638333  6.566667   \n",
       "3            0.005046                        0.002877  4.425000  7.375000   \n",
       "4            0.003736                        0.002917  3.382500  7.783333   \n",
       "..                ...                             ...       ...       ...   \n",
       "395          0.004367                        0.002398  0.723333  9.458333   \n",
       "396          0.005007                        0.002295  0.365000  8.916667   \n",
       "397          0.005621                        0.002109  0.546667  8.766667   \n",
       "398          0.006421                        0.002053  0.661667  7.433333   \n",
       "399          0.006251                        0.002008  0.070000  6.741667   \n",
       "\n",
       "     Population, total  GDP per capita (current US$)  \\\n",
       "0            8895960.0                  27259.480674   \n",
       "1            8924958.0                  29957.938765   \n",
       "2            8958229.0                  37292.421434   \n",
       "3            8993531.0                  42758.201550   \n",
       "4            9029572.0                  43378.615212   \n",
       "..                 ...                           ...   \n",
       "395          5479531.0                  42560.345677   \n",
       "396          5495303.0                  43451.256244   \n",
       "397          5508214.0                  46085.017474   \n",
       "398          5515525.0                  49654.249704   \n",
       "399          5521606.0                  48358.180777   \n",
       "\n",
       "     Inflation, consumer prices (annual %)  Gini index  \\\n",
       "0                                 2.405958        26.5   \n",
       "1                                 2.158482        26.2   \n",
       "2                                 1.925655        25.3   \n",
       "3                                 0.373660        26.1   \n",
       "4                                 0.453171        26.8   \n",
       "..                                     ...         ...   \n",
       "395                              -0.207929        27.1   \n",
       "396                               0.356685        27.1   \n",
       "397                               0.754015        27.4   \n",
       "398                               1.083821        27.3   \n",
       "399                               1.024094        27.7   \n",
       "\n",
       "     Region_East Asia and Pacific  Region_Europe and Central Asia  \\\n",
       "0                               0                               1   \n",
       "1                               0                               1   \n",
       "2                               0                               1   \n",
       "3                               0                               1   \n",
       "4                               0                               1   \n",
       "..                            ...                             ...   \n",
       "395                             0                               1   \n",
       "396                             0                               1   \n",
       "397                             0                               1   \n",
       "398                             0                               1   \n",
       "399                             0                               1   \n",
       "\n",
       "     Region_Latin America and Caribbean  Region_Middle East and North Africa  \n",
       "0                                     0                                    0  \n",
       "1                                     0                                    0  \n",
       "2                                     0                                    0  \n",
       "3                                     0                                    0  \n",
       "4                                     0                                    0  \n",
       "..                                  ...                                  ...  \n",
       "395                                   0                                    0  \n",
       "396                                   0                                    0  \n",
       "397                                   0                                    0  \n",
       "398                                   0                                    0  \n",
       "399                                   0                                    0  \n",
       "\n",
       "[400 rows x 19 columns]"
      ]
     },
     "execution_count": 3,
     "metadata": {},
     "output_type": "execute_result"
    }
   ],
   "source": [
    "master_df = pd.get_dummies(megaframe, columns=['Region'], dtype=int)\n",
    "master_df"
   ]
  },
  {
   "cell_type": "code",
   "execution_count": 33,
   "id": "83841d76",
   "metadata": {},
   "outputs": [
    {
     "data": {
      "text/plain": [
       "array([1., 1., 1., 1., 1., 1., 1., 1., 1., 1., 1., 1., 1., 1., 1.])"
      ]
     },
     "execution_count": 33,
     "metadata": {},
     "output_type": "execute_result"
    }
   ],
   "source": [
    "population_log = False\n",
    "\n",
    "X_df = pd.get_dummies(megaframe, columns=['Region'], dtype=int)\n",
    "if population_log:\n",
    "    target_idx = X_df.columns.get_loc('Population, total')\n",
    "    log_pop = X_df['Population, total'].apply(lambda x: math.log(x,10))\n",
    "    X_df.insert(target_idx + 1, 'Log Population', log_pop)\n",
    "    X_df.drop(labels=['Population, total'], axis=1)\n",
    "X_df = X_df.drop(labels=['TIME_PERIOD', 'Reference area', 'REF_AREA', 'Gini index'], axis=1)\n",
    "\n",
    "\n",
    "X = X_df.to_numpy()\n",
    "\n",
    "# Assume X is your full NumPy array\n",
    "num_exclude = 4\n",
    "\n",
    "# Split the array\n",
    "X_main = X[:, :-num_exclude]   # Columns to standardize\n",
    "X_last = X[:, -num_exclude:]   # Columns to leave untouched\n",
    "\n",
    "# Standardize the first part\n",
    "mean = X_main.mean(axis=0)\n",
    "std = X_main.std(axis=0)\n",
    "std[std == 0] = 1  # Avoid division by zero\n",
    "X_main_standardized = (X_main - mean) / std\n",
    "\n",
    "# Concatenate back together\n",
    "X = np.hstack([X_main_standardized, X_last])\n",
    "\n",
    "y = master_df['Gini index'].apply(lambda x: x/100).to_numpy()\n",
    "X.shape\n",
    "\n",
    "w = np.ones(len(X[0]))\n",
    "w"
   ]
  },
  {
   "cell_type": "code",
   "execution_count": null,
   "id": "cbfdea5b",
   "metadata": {},
   "outputs": [],
   "source": [
    "#logistic regression\n",
    "X_train, X_test, y_train, y_test = train_test_split(\n",
    "    X, y, test_size=0.3, random_state=3)\n",
    "\n",
    "cval_weights = log_regress(X,y,w,alpha=.1,max_iter=10000)\n",
    "predictions = []\n",
    "for x in X_test:\n",
    "    dot_prod = np.dot(x, cval_weights)\n",
    "    y_hat = 1 / (1 + np.exp(-dot_prod))\n",
    "    predictions.append(y_hat)\n",
    "\n",
    "column_names = X_df.columns\n",
    "log_cval_results = {\n",
    "    'ypreds': predictions,\n",
    "    'mse': mean_squared_error(y_test, predictions),\n",
    "    'r2': r2_score(y_test, predictions),\n",
    "    'resids': [y_test[i] - predictions[i] for i in range(len(y_test))],\n",
    "    'coefficients': {column_names[i]: cval_weights[i] for i in range(len(cval_weights))}\n",
    "}"
   ]
  },
  {
   "cell_type": "code",
   "execution_count": 45,
   "id": "d001932d",
   "metadata": {},
   "outputs": [],
   "source": [
    "X_train, X_test, y_train, y_test = train_test_split(\n",
    "    X, y, test_size=0.3, random_state=3)\n",
    "\n",
    "cval_weights = lin_regress(X,y)\n",
    "predictions = []\n",
    "for x in X_test:\n",
    "    y_hat = np.dot(x,cval_weights)\n",
    "    predictions.append(y_hat)\n",
    "\n",
    "column_names = X_df.columns\n",
    "lin_cval_results = {\n",
    "    'ypreds': predictions,\n",
    "    'mse': mean_squared_error(y_test, predictions),\n",
    "    'r2': r2_score(y_test, predictions),\n",
    "    'resids': [y_test[i] - predictions[i] for i in range(len(y_test))],\n",
    "    'coefficients': {column_names[i]: cval_weights[i] for i in range(len(cval_weights))}\n",
    "}"
   ]
  },
  {
   "cell_type": "code",
   "execution_count": 46,
   "id": "c8d2e8d6",
   "metadata": {},
   "outputs": [
    {
     "name": "stdout",
     "output_type": "stream",
     "text": [
      "linear r2: 0.6907353425294364\n",
      "logistic r2: 0.4680970373469502\n"
     ]
    },
    {
     "data": {
      "text/plain": [
       "{'Trade union density': -0.01590215205562584,\n",
       " 'Combined corporate income tax rate': -0.002657754577600327,\n",
       " 'Education spending': 0.010917773995207656,\n",
       " 'Health spending': -0.009051435765733522,\n",
       " 'Housing spending': 0.002993422243756192,\n",
       " 'Community development spending': -0.0004333729544671649,\n",
       " 'IRLT': 0.0017525949705529348,\n",
       " 'UNEMP': 0.011690398456695571,\n",
       " 'Population, total': 0.013550247928680164,\n",
       " 'GDP per capita (current US$)': 0.009428127863406764,\n",
       " 'Inflation, consumer prices (annual %)': 0.004860250345119562,\n",
       " 'Region_East Asia and Pacific': 0.32542172572703415,\n",
       " 'Region_Europe and Central Asia': 0.3068476555189667,\n",
       " 'Region_Latin America and Caribbean': 0.4962985345068884,\n",
       " 'Region_Middle East and North Africa': 0.38170749082472405}"
      ]
     },
     "execution_count": 46,
     "metadata": {},
     "output_type": "execute_result"
    }
   ],
   "source": [
    "print('linear r2:', lin_cval_results['r2'])\n",
    "print('logistic r2:', log_cval_results['r2'])\n",
    "lin_cval_results['coefficients']"
   ]
  },
  {
   "cell_type": "code",
   "execution_count": 47,
   "id": "8f964675",
   "metadata": {},
   "outputs": [
    {
     "data": {
      "application/vnd.plotly.v1+json": {
       "config": {
        "plotlyServerURL": "https://plot.ly"
       },
       "data": [
        {
         "hovertemplate": "x=%{x}<br>y=%{y}<extra></extra>",
         "legendgroup": "",
         "marker": {
          "color": "#636efa",
          "symbol": "circle"
         },
         "mode": "markers",
         "name": "",
         "orientation": "v",
         "showlegend": false,
         "type": "scatter",
         "x": [
          0.2943841571293728,
          0.28933171540153896,
          0.3257616165917264,
          0.3089697245810023,
          0.336956312547245,
          0.3068121218695169,
          0.2788329517617803,
          0.3111197735305972,
          0.28259957018924814,
          0.31181935012323636,
          0.3238957309086204,
          0.36388539430394923,
          0.2854074378860184,
          0.26482291070921804,
          0.2677572067894958,
          0.5049000033806924,
          0.3099549535983269,
          0.33220122349133824,
          0.2844115986423645,
          0.30247211716571926,
          0.2998117465494191,
          0.2978560874643854,
          0.2860237060635779,
          0.2693313892458189,
          0.34744178704815953,
          0.27398928954475643,
          0.3623769348756049,
          0.3049338750388624,
          0.27781805005810584,
          0.3035114610338284,
          0.2819828299602503,
          0.3363904427752909,
          0.3181271755202286,
          0.3217550063286222,
          0.3088895078724312,
          0.2780521094614158,
          0.27040826504990256,
          0.33256165854016284,
          0.308300008499715,
          0.27149333964258177,
          0.2776568432136447,
          0.318694661582805,
          0.49772691739048375,
          0.3152203016028507,
          0.2716406130522016,
          0.2664474485253237,
          0.33502368860684545,
          0.2830870574803387,
          0.3288685934098682,
          0.3428582381894955,
          0.2774899259378337,
          0.3181611746139171,
          0.27073394281285423,
          0.3163044870050468,
          0.30178576000747503,
          0.28601817330455137,
          0.31556373289401723,
          0.34107822762050133,
          0.31230325835056155,
          0.3377307198906926,
          0.2666526502869682,
          0.28342968889398057,
          0.2791647018318889,
          0.3064720706742674,
          0.29107694356516084,
          0.28104888192255045,
          0.308393666565344,
          0.28129765906628335,
          0.3463150244713341,
          0.3247644494235242,
          0.32610784902704065,
          0.3385173689205796,
          0.30727632752847783,
          0.3110236524378995,
          0.34185041385701387,
          0.276847118677645,
          0.29428982407902593,
          0.32975974114530093,
          0.2997287944872076,
          0.33367690168883696,
          0.33983103758527394,
          0.33306740430536597,
          0.32570679202973934,
          0.2979704194638423,
          0.32130715144016897,
          0.3340668791038477,
          0.28759970895823056,
          0.3136017449644295,
          0.3388578246166338,
          0.3082332779477146,
          0.32601988161141077,
          0.31833035723127545,
          0.30615587747221623,
          0.27782225065244864,
          0.2760812880387319,
          0.32454650080962655,
          0.32519496830464023,
          0.2811701776111776,
          0.2774882494830753,
          0.2816415189392741,
          0.30169284304659016,
          0.28366563809872103,
          0.30766388673682354,
          0.30602125469234015,
          0.2811392651883791,
          0.27401304273786353,
          0.33311752640405445,
          0.31177191516829345,
          0.32703404956898385,
          0.3062441499442256,
          0.3084721351604034,
          0.28721695459272206,
          0.2953006497547952,
          0.3094029108217169,
          0.33668071498897356,
          0.31149819397599293,
          0.31309020524950004,
          0.5024872650702704,
          0.5066355242720026,
          0.3407276666776944
         ],
         "xaxis": "x",
         "y": [
          0.261,
          0.28800000000000003,
          0.35600000000000004,
          0.377,
          0.302,
          0.349,
          0.271,
          0.34600000000000003,
          0.262,
          0.349,
          0.371,
          0.38,
          0.266,
          0.23800000000000002,
          0.259,
          0.484,
          0.308,
          0.316,
          0.308,
          0.336,
          0.25,
          0.309,
          0.29600000000000004,
          0.252,
          0.32899999999999996,
          0.267,
          0.358,
          0.281,
          0.298,
          0.327,
          0.25,
          0.317,
          0.34299999999999997,
          0.358,
          0.374,
          0.271,
          0.282,
          0.305,
          0.35200000000000004,
          0.282,
          0.295,
          0.335,
          0.49700000000000005,
          0.353,
          0.27699999999999997,
          0.28,
          0.325,
          0.276,
          0.315,
          0.34700000000000003,
          0.285,
          0.342,
          0.254,
          0.326,
          0.327,
          0.259,
          0.35200000000000004,
          0.326,
          0.345,
          0.35100000000000003,
          0.262,
          0.27699999999999997,
          0.272,
          0.261,
          0.302,
          0.302,
          0.389,
          0.292,
          0.34700000000000003,
          0.34700000000000003,
          0.298,
          0.355,
          0.384,
          0.35200000000000004,
          0.306,
          0.306,
          0.276,
          0.311,
          0.344,
          0.33,
          0.33,
          0.326,
          0.32799999999999996,
          0.33799999999999997,
          0.32799999999999996,
          0.306,
          0.284,
          0.312,
          0.325,
          0.32899999999999996,
          0.331,
          0.349,
          0.292,
          0.281,
          0.27699999999999997,
          0.38799999999999996,
          0.35100000000000003,
          0.281,
          0.271,
          0.264,
          0.348,
          0.292,
          0.34700000000000003,
          0.33799999999999997,
          0.259,
          0.24600000000000002,
          0.325,
          0.309,
          0.332,
          0.282,
          0.317,
          0.26,
          0.23199999999999998,
          0.298,
          0.327,
          0.319,
          0.355,
          0.48700000000000004,
          0.506,
          0.332
         ],
         "yaxis": "y"
        }
       ],
       "layout": {
        "legend": {
         "tracegroupgap": 0
        },
        "margin": {
         "t": 60
        },
        "template": {
         "data": {
          "bar": [
           {
            "error_x": {
             "color": "#2a3f5f"
            },
            "error_y": {
             "color": "#2a3f5f"
            },
            "marker": {
             "line": {
              "color": "#E5ECF6",
              "width": 0.5
             },
             "pattern": {
              "fillmode": "overlay",
              "size": 10,
              "solidity": 0.2
             }
            },
            "type": "bar"
           }
          ],
          "barpolar": [
           {
            "marker": {
             "line": {
              "color": "#E5ECF6",
              "width": 0.5
             },
             "pattern": {
              "fillmode": "overlay",
              "size": 10,
              "solidity": 0.2
             }
            },
            "type": "barpolar"
           }
          ],
          "carpet": [
           {
            "aaxis": {
             "endlinecolor": "#2a3f5f",
             "gridcolor": "white",
             "linecolor": "white",
             "minorgridcolor": "white",
             "startlinecolor": "#2a3f5f"
            },
            "baxis": {
             "endlinecolor": "#2a3f5f",
             "gridcolor": "white",
             "linecolor": "white",
             "minorgridcolor": "white",
             "startlinecolor": "#2a3f5f"
            },
            "type": "carpet"
           }
          ],
          "choropleth": [
           {
            "colorbar": {
             "outlinewidth": 0,
             "ticks": ""
            },
            "type": "choropleth"
           }
          ],
          "contour": [
           {
            "colorbar": {
             "outlinewidth": 0,
             "ticks": ""
            },
            "colorscale": [
             [
              0,
              "#0d0887"
             ],
             [
              0.1111111111111111,
              "#46039f"
             ],
             [
              0.2222222222222222,
              "#7201a8"
             ],
             [
              0.3333333333333333,
              "#9c179e"
             ],
             [
              0.4444444444444444,
              "#bd3786"
             ],
             [
              0.5555555555555556,
              "#d8576b"
             ],
             [
              0.6666666666666666,
              "#ed7953"
             ],
             [
              0.7777777777777778,
              "#fb9f3a"
             ],
             [
              0.8888888888888888,
              "#fdca26"
             ],
             [
              1,
              "#f0f921"
             ]
            ],
            "type": "contour"
           }
          ],
          "contourcarpet": [
           {
            "colorbar": {
             "outlinewidth": 0,
             "ticks": ""
            },
            "type": "contourcarpet"
           }
          ],
          "heatmap": [
           {
            "colorbar": {
             "outlinewidth": 0,
             "ticks": ""
            },
            "colorscale": [
             [
              0,
              "#0d0887"
             ],
             [
              0.1111111111111111,
              "#46039f"
             ],
             [
              0.2222222222222222,
              "#7201a8"
             ],
             [
              0.3333333333333333,
              "#9c179e"
             ],
             [
              0.4444444444444444,
              "#bd3786"
             ],
             [
              0.5555555555555556,
              "#d8576b"
             ],
             [
              0.6666666666666666,
              "#ed7953"
             ],
             [
              0.7777777777777778,
              "#fb9f3a"
             ],
             [
              0.8888888888888888,
              "#fdca26"
             ],
             [
              1,
              "#f0f921"
             ]
            ],
            "type": "heatmap"
           }
          ],
          "heatmapgl": [
           {
            "colorbar": {
             "outlinewidth": 0,
             "ticks": ""
            },
            "colorscale": [
             [
              0,
              "#0d0887"
             ],
             [
              0.1111111111111111,
              "#46039f"
             ],
             [
              0.2222222222222222,
              "#7201a8"
             ],
             [
              0.3333333333333333,
              "#9c179e"
             ],
             [
              0.4444444444444444,
              "#bd3786"
             ],
             [
              0.5555555555555556,
              "#d8576b"
             ],
             [
              0.6666666666666666,
              "#ed7953"
             ],
             [
              0.7777777777777778,
              "#fb9f3a"
             ],
             [
              0.8888888888888888,
              "#fdca26"
             ],
             [
              1,
              "#f0f921"
             ]
            ],
            "type": "heatmapgl"
           }
          ],
          "histogram": [
           {
            "marker": {
             "pattern": {
              "fillmode": "overlay",
              "size": 10,
              "solidity": 0.2
             }
            },
            "type": "histogram"
           }
          ],
          "histogram2d": [
           {
            "colorbar": {
             "outlinewidth": 0,
             "ticks": ""
            },
            "colorscale": [
             [
              0,
              "#0d0887"
             ],
             [
              0.1111111111111111,
              "#46039f"
             ],
             [
              0.2222222222222222,
              "#7201a8"
             ],
             [
              0.3333333333333333,
              "#9c179e"
             ],
             [
              0.4444444444444444,
              "#bd3786"
             ],
             [
              0.5555555555555556,
              "#d8576b"
             ],
             [
              0.6666666666666666,
              "#ed7953"
             ],
             [
              0.7777777777777778,
              "#fb9f3a"
             ],
             [
              0.8888888888888888,
              "#fdca26"
             ],
             [
              1,
              "#f0f921"
             ]
            ],
            "type": "histogram2d"
           }
          ],
          "histogram2dcontour": [
           {
            "colorbar": {
             "outlinewidth": 0,
             "ticks": ""
            },
            "colorscale": [
             [
              0,
              "#0d0887"
             ],
             [
              0.1111111111111111,
              "#46039f"
             ],
             [
              0.2222222222222222,
              "#7201a8"
             ],
             [
              0.3333333333333333,
              "#9c179e"
             ],
             [
              0.4444444444444444,
              "#bd3786"
             ],
             [
              0.5555555555555556,
              "#d8576b"
             ],
             [
              0.6666666666666666,
              "#ed7953"
             ],
             [
              0.7777777777777778,
              "#fb9f3a"
             ],
             [
              0.8888888888888888,
              "#fdca26"
             ],
             [
              1,
              "#f0f921"
             ]
            ],
            "type": "histogram2dcontour"
           }
          ],
          "mesh3d": [
           {
            "colorbar": {
             "outlinewidth": 0,
             "ticks": ""
            },
            "type": "mesh3d"
           }
          ],
          "parcoords": [
           {
            "line": {
             "colorbar": {
              "outlinewidth": 0,
              "ticks": ""
             }
            },
            "type": "parcoords"
           }
          ],
          "pie": [
           {
            "automargin": true,
            "type": "pie"
           }
          ],
          "scatter": [
           {
            "fillpattern": {
             "fillmode": "overlay",
             "size": 10,
             "solidity": 0.2
            },
            "type": "scatter"
           }
          ],
          "scatter3d": [
           {
            "line": {
             "colorbar": {
              "outlinewidth": 0,
              "ticks": ""
             }
            },
            "marker": {
             "colorbar": {
              "outlinewidth": 0,
              "ticks": ""
             }
            },
            "type": "scatter3d"
           }
          ],
          "scattercarpet": [
           {
            "marker": {
             "colorbar": {
              "outlinewidth": 0,
              "ticks": ""
             }
            },
            "type": "scattercarpet"
           }
          ],
          "scattergeo": [
           {
            "marker": {
             "colorbar": {
              "outlinewidth": 0,
              "ticks": ""
             }
            },
            "type": "scattergeo"
           }
          ],
          "scattergl": [
           {
            "marker": {
             "colorbar": {
              "outlinewidth": 0,
              "ticks": ""
             }
            },
            "type": "scattergl"
           }
          ],
          "scattermapbox": [
           {
            "marker": {
             "colorbar": {
              "outlinewidth": 0,
              "ticks": ""
             }
            },
            "type": "scattermapbox"
           }
          ],
          "scatterpolar": [
           {
            "marker": {
             "colorbar": {
              "outlinewidth": 0,
              "ticks": ""
             }
            },
            "type": "scatterpolar"
           }
          ],
          "scatterpolargl": [
           {
            "marker": {
             "colorbar": {
              "outlinewidth": 0,
              "ticks": ""
             }
            },
            "type": "scatterpolargl"
           }
          ],
          "scatterternary": [
           {
            "marker": {
             "colorbar": {
              "outlinewidth": 0,
              "ticks": ""
             }
            },
            "type": "scatterternary"
           }
          ],
          "surface": [
           {
            "colorbar": {
             "outlinewidth": 0,
             "ticks": ""
            },
            "colorscale": [
             [
              0,
              "#0d0887"
             ],
             [
              0.1111111111111111,
              "#46039f"
             ],
             [
              0.2222222222222222,
              "#7201a8"
             ],
             [
              0.3333333333333333,
              "#9c179e"
             ],
             [
              0.4444444444444444,
              "#bd3786"
             ],
             [
              0.5555555555555556,
              "#d8576b"
             ],
             [
              0.6666666666666666,
              "#ed7953"
             ],
             [
              0.7777777777777778,
              "#fb9f3a"
             ],
             [
              0.8888888888888888,
              "#fdca26"
             ],
             [
              1,
              "#f0f921"
             ]
            ],
            "type": "surface"
           }
          ],
          "table": [
           {
            "cells": {
             "fill": {
              "color": "#EBF0F8"
             },
             "line": {
              "color": "white"
             }
            },
            "header": {
             "fill": {
              "color": "#C8D4E3"
             },
             "line": {
              "color": "white"
             }
            },
            "type": "table"
           }
          ]
         },
         "layout": {
          "annotationdefaults": {
           "arrowcolor": "#2a3f5f",
           "arrowhead": 0,
           "arrowwidth": 1
          },
          "autotypenumbers": "strict",
          "coloraxis": {
           "colorbar": {
            "outlinewidth": 0,
            "ticks": ""
           }
          },
          "colorscale": {
           "diverging": [
            [
             0,
             "#8e0152"
            ],
            [
             0.1,
             "#c51b7d"
            ],
            [
             0.2,
             "#de77ae"
            ],
            [
             0.3,
             "#f1b6da"
            ],
            [
             0.4,
             "#fde0ef"
            ],
            [
             0.5,
             "#f7f7f7"
            ],
            [
             0.6,
             "#e6f5d0"
            ],
            [
             0.7,
             "#b8e186"
            ],
            [
             0.8,
             "#7fbc41"
            ],
            [
             0.9,
             "#4d9221"
            ],
            [
             1,
             "#276419"
            ]
           ],
           "sequential": [
            [
             0,
             "#0d0887"
            ],
            [
             0.1111111111111111,
             "#46039f"
            ],
            [
             0.2222222222222222,
             "#7201a8"
            ],
            [
             0.3333333333333333,
             "#9c179e"
            ],
            [
             0.4444444444444444,
             "#bd3786"
            ],
            [
             0.5555555555555556,
             "#d8576b"
            ],
            [
             0.6666666666666666,
             "#ed7953"
            ],
            [
             0.7777777777777778,
             "#fb9f3a"
            ],
            [
             0.8888888888888888,
             "#fdca26"
            ],
            [
             1,
             "#f0f921"
            ]
           ],
           "sequentialminus": [
            [
             0,
             "#0d0887"
            ],
            [
             0.1111111111111111,
             "#46039f"
            ],
            [
             0.2222222222222222,
             "#7201a8"
            ],
            [
             0.3333333333333333,
             "#9c179e"
            ],
            [
             0.4444444444444444,
             "#bd3786"
            ],
            [
             0.5555555555555556,
             "#d8576b"
            ],
            [
             0.6666666666666666,
             "#ed7953"
            ],
            [
             0.7777777777777778,
             "#fb9f3a"
            ],
            [
             0.8888888888888888,
             "#fdca26"
            ],
            [
             1,
             "#f0f921"
            ]
           ]
          },
          "colorway": [
           "#636efa",
           "#EF553B",
           "#00cc96",
           "#ab63fa",
           "#FFA15A",
           "#19d3f3",
           "#FF6692",
           "#B6E880",
           "#FF97FF",
           "#FECB52"
          ],
          "font": {
           "color": "#2a3f5f"
          },
          "geo": {
           "bgcolor": "white",
           "lakecolor": "white",
           "landcolor": "#E5ECF6",
           "showlakes": true,
           "showland": true,
           "subunitcolor": "white"
          },
          "hoverlabel": {
           "align": "left"
          },
          "hovermode": "closest",
          "mapbox": {
           "style": "light"
          },
          "paper_bgcolor": "white",
          "plot_bgcolor": "#E5ECF6",
          "polar": {
           "angularaxis": {
            "gridcolor": "white",
            "linecolor": "white",
            "ticks": ""
           },
           "bgcolor": "#E5ECF6",
           "radialaxis": {
            "gridcolor": "white",
            "linecolor": "white",
            "ticks": ""
           }
          },
          "scene": {
           "xaxis": {
            "backgroundcolor": "#E5ECF6",
            "gridcolor": "white",
            "gridwidth": 2,
            "linecolor": "white",
            "showbackground": true,
            "ticks": "",
            "zerolinecolor": "white"
           },
           "yaxis": {
            "backgroundcolor": "#E5ECF6",
            "gridcolor": "white",
            "gridwidth": 2,
            "linecolor": "white",
            "showbackground": true,
            "ticks": "",
            "zerolinecolor": "white"
           },
           "zaxis": {
            "backgroundcolor": "#E5ECF6",
            "gridcolor": "white",
            "gridwidth": 2,
            "linecolor": "white",
            "showbackground": true,
            "ticks": "",
            "zerolinecolor": "white"
           }
          },
          "shapedefaults": {
           "line": {
            "color": "#2a3f5f"
           }
          },
          "ternary": {
           "aaxis": {
            "gridcolor": "white",
            "linecolor": "white",
            "ticks": ""
           },
           "baxis": {
            "gridcolor": "white",
            "linecolor": "white",
            "ticks": ""
           },
           "bgcolor": "#E5ECF6",
           "caxis": {
            "gridcolor": "white",
            "linecolor": "white",
            "ticks": ""
           }
          },
          "title": {
           "x": 0.05
          },
          "xaxis": {
           "automargin": true,
           "gridcolor": "white",
           "linecolor": "white",
           "ticks": "",
           "title": {
            "standoff": 15
           },
           "zerolinecolor": "white",
           "zerolinewidth": 2
          },
          "yaxis": {
           "automargin": true,
           "gridcolor": "white",
           "linecolor": "white",
           "ticks": "",
           "title": {
            "standoff": 15
           },
           "zerolinecolor": "white",
           "zerolinewidth": 2
          }
         }
        },
        "xaxis": {
         "anchor": "y",
         "domain": [
          0,
          1
         ],
         "title": {
          "text": "x"
         }
        },
        "yaxis": {
         "anchor": "x",
         "domain": [
          0,
          1
         ],
         "title": {
          "text": "y"
         }
        }
       }
      }
     },
     "metadata": {},
     "output_type": "display_data"
    }
   ],
   "source": [
    "import plotly.express as px\n",
    "\n",
    "px.scatter(x=np.array(predictions), y=y_test)"
   ]
  },
  {
   "cell_type": "code",
   "execution_count": 48,
   "id": "e0d58abf",
   "metadata": {},
   "outputs": [
    {
     "data": {
      "application/vnd.plotly.v1+json": {
       "config": {
        "plotlyServerURL": "https://plot.ly"
       },
       "data": [
        {
         "hovertemplate": "x=%{x}<br>y=%{y}<extra></extra>",
         "legendgroup": "",
         "marker": {
          "color": "#636efa",
          "symbol": "circle"
         },
         "mode": "markers",
         "name": "",
         "orientation": "v",
         "showlegend": false,
         "type": "scatter",
         "x": [
          0,
          1,
          2,
          3,
          4,
          5,
          6,
          7,
          8,
          9,
          10,
          11,
          12,
          13,
          14,
          15,
          16,
          17,
          18,
          19,
          20,
          21,
          22,
          23,
          24,
          25,
          26,
          27,
          28,
          29,
          30,
          31,
          32,
          33,
          34,
          35,
          36,
          37,
          38,
          39,
          40,
          41,
          42,
          43,
          44,
          45,
          46,
          47,
          48,
          49,
          50,
          51,
          52,
          53,
          54,
          55,
          56,
          57,
          58,
          59,
          60,
          61,
          62,
          63,
          64,
          65,
          66,
          67,
          68,
          69,
          70,
          71,
          72,
          73,
          74,
          75,
          76,
          77,
          78,
          79,
          80,
          81,
          82,
          83,
          84,
          85,
          86,
          87,
          88,
          89,
          90,
          91,
          92,
          93,
          94,
          95,
          96,
          97,
          98,
          99,
          100,
          101,
          102,
          103,
          104,
          105,
          106,
          107,
          108,
          109,
          110,
          111,
          112,
          113,
          114,
          115,
          116,
          117,
          118,
          119
         ],
         "xaxis": "x",
         "y": [
          -0.033384157129372816,
          -0.0013317154015389243,
          0.030238383408273617,
          0.0680302754189977,
          -0.034956312547245016,
          0.04218787813048308,
          -0.007832951761780282,
          0.03488022646940281,
          -0.02059957018924813,
          0.037180649876763616,
          0.0471042690913796,
          0.016114605696050777,
          -0.019407437886018397,
          -0.026822910709218023,
          -0.00875720678949582,
          -0.020900003380692422,
          -0.001954953598326925,
          -0.016201223491338235,
          0.023588401357635513,
          0.033527882834280764,
          -0.04981174654941911,
          0.011143912535614586,
          0.009976293936422131,
          -0.017331389245818896,
          -0.018441787048159575,
          -0.006989289544756416,
          -0.004376934875604921,
          -0.02393387503886235,
          0.02018194994189415,
          0.02348853896617159,
          -0.031982829960250314,
          -0.019390442775290895,
          0.02487282447977135,
          0.03624499367137779,
          0.06511049212756881,
          -0.0070521094614157676,
          0.01159173495009741,
          -0.027561658540162848,
          0.04369999150028503,
          0.010506660357418207,
          0.017343156786355285,
          0.016305338417195003,
          -0.0007269173904836945,
          0.037779698397149286,
          0.005359386947798361,
          0.013552551474676322,
          -0.010023688606845438,
          -0.0070870574803386654,
          -0.01386859340986818,
          0.004141761810504518,
          0.00751007406216625,
          0.02383882538608295,
          -0.01673394281285423,
          0.009695512994953193,
          0.02521423999252498,
          -0.027018173304551363,
          0.0364362671059828,
          -0.015078227620501317,
          0.03269674164943842,
          0.013269280109307446,
          -0.004652650286968207,
          -0.006429688893980601,
          -0.007164701831888887,
          -0.045472070674267395,
          0.010923056434839151,
          0.020951118077449538,
          0.08060633343465601,
          0.010702340933716636,
          0.0006849755286659209,
          0.022235550576475804,
          -0.028107849027040666,
          0.016482631079420385,
          0.07672367247152218,
          0.04097634756210056,
          -0.035850413857013874,
          0.029152881322354995,
          -0.018289824079025907,
          -0.018759741145300934,
          0.0442712055127924,
          -0.003676901688836942,
          -0.009831037585273927,
          -0.007067404305365954,
          0.0022932079702606134,
          0.04002958053615768,
          0.006692848559830988,
          -0.028066879103847697,
          -0.0035997089582305852,
          -0.0016017449644294968,
          -0.013857824616633763,
          0.020766722052285358,
          0.00498011838858925,
          0.030669642768724525,
          -0.01415587747221625,
          0.003177749347551384,
          0.0009187119612680816,
          0.06345349919037341,
          0.025805031695359804,
          -0.0001701776111775466,
          -0.0064882494830753035,
          -0.01764151893927407,
          0.04630715695340981,
          0.008334361901278953,
          0.039336113263176486,
          0.03197874530765982,
          -0.02213926518837911,
          -0.02801304273786351,
          -0.008117526404054443,
          -0.0027719151682934484,
          0.004965950431016164,
          -0.024244149944225635,
          0.00852786483959661,
          -0.027216954592722054,
          -0.06330064975479521,
          -0.011402910821716905,
          -0.009680714988973549,
          0.007501806024007074,
          0.04190979475049994,
          -0.015487265070270373,
          -0.0006355242720026411,
          -0.008727666677694368
         ],
         "yaxis": "y"
        }
       ],
       "layout": {
        "legend": {
         "tracegroupgap": 0
        },
        "margin": {
         "t": 60
        },
        "template": {
         "data": {
          "bar": [
           {
            "error_x": {
             "color": "#2a3f5f"
            },
            "error_y": {
             "color": "#2a3f5f"
            },
            "marker": {
             "line": {
              "color": "#E5ECF6",
              "width": 0.5
             },
             "pattern": {
              "fillmode": "overlay",
              "size": 10,
              "solidity": 0.2
             }
            },
            "type": "bar"
           }
          ],
          "barpolar": [
           {
            "marker": {
             "line": {
              "color": "#E5ECF6",
              "width": 0.5
             },
             "pattern": {
              "fillmode": "overlay",
              "size": 10,
              "solidity": 0.2
             }
            },
            "type": "barpolar"
           }
          ],
          "carpet": [
           {
            "aaxis": {
             "endlinecolor": "#2a3f5f",
             "gridcolor": "white",
             "linecolor": "white",
             "minorgridcolor": "white",
             "startlinecolor": "#2a3f5f"
            },
            "baxis": {
             "endlinecolor": "#2a3f5f",
             "gridcolor": "white",
             "linecolor": "white",
             "minorgridcolor": "white",
             "startlinecolor": "#2a3f5f"
            },
            "type": "carpet"
           }
          ],
          "choropleth": [
           {
            "colorbar": {
             "outlinewidth": 0,
             "ticks": ""
            },
            "type": "choropleth"
           }
          ],
          "contour": [
           {
            "colorbar": {
             "outlinewidth": 0,
             "ticks": ""
            },
            "colorscale": [
             [
              0,
              "#0d0887"
             ],
             [
              0.1111111111111111,
              "#46039f"
             ],
             [
              0.2222222222222222,
              "#7201a8"
             ],
             [
              0.3333333333333333,
              "#9c179e"
             ],
             [
              0.4444444444444444,
              "#bd3786"
             ],
             [
              0.5555555555555556,
              "#d8576b"
             ],
             [
              0.6666666666666666,
              "#ed7953"
             ],
             [
              0.7777777777777778,
              "#fb9f3a"
             ],
             [
              0.8888888888888888,
              "#fdca26"
             ],
             [
              1,
              "#f0f921"
             ]
            ],
            "type": "contour"
           }
          ],
          "contourcarpet": [
           {
            "colorbar": {
             "outlinewidth": 0,
             "ticks": ""
            },
            "type": "contourcarpet"
           }
          ],
          "heatmap": [
           {
            "colorbar": {
             "outlinewidth": 0,
             "ticks": ""
            },
            "colorscale": [
             [
              0,
              "#0d0887"
             ],
             [
              0.1111111111111111,
              "#46039f"
             ],
             [
              0.2222222222222222,
              "#7201a8"
             ],
             [
              0.3333333333333333,
              "#9c179e"
             ],
             [
              0.4444444444444444,
              "#bd3786"
             ],
             [
              0.5555555555555556,
              "#d8576b"
             ],
             [
              0.6666666666666666,
              "#ed7953"
             ],
             [
              0.7777777777777778,
              "#fb9f3a"
             ],
             [
              0.8888888888888888,
              "#fdca26"
             ],
             [
              1,
              "#f0f921"
             ]
            ],
            "type": "heatmap"
           }
          ],
          "heatmapgl": [
           {
            "colorbar": {
             "outlinewidth": 0,
             "ticks": ""
            },
            "colorscale": [
             [
              0,
              "#0d0887"
             ],
             [
              0.1111111111111111,
              "#46039f"
             ],
             [
              0.2222222222222222,
              "#7201a8"
             ],
             [
              0.3333333333333333,
              "#9c179e"
             ],
             [
              0.4444444444444444,
              "#bd3786"
             ],
             [
              0.5555555555555556,
              "#d8576b"
             ],
             [
              0.6666666666666666,
              "#ed7953"
             ],
             [
              0.7777777777777778,
              "#fb9f3a"
             ],
             [
              0.8888888888888888,
              "#fdca26"
             ],
             [
              1,
              "#f0f921"
             ]
            ],
            "type": "heatmapgl"
           }
          ],
          "histogram": [
           {
            "marker": {
             "pattern": {
              "fillmode": "overlay",
              "size": 10,
              "solidity": 0.2
             }
            },
            "type": "histogram"
           }
          ],
          "histogram2d": [
           {
            "colorbar": {
             "outlinewidth": 0,
             "ticks": ""
            },
            "colorscale": [
             [
              0,
              "#0d0887"
             ],
             [
              0.1111111111111111,
              "#46039f"
             ],
             [
              0.2222222222222222,
              "#7201a8"
             ],
             [
              0.3333333333333333,
              "#9c179e"
             ],
             [
              0.4444444444444444,
              "#bd3786"
             ],
             [
              0.5555555555555556,
              "#d8576b"
             ],
             [
              0.6666666666666666,
              "#ed7953"
             ],
             [
              0.7777777777777778,
              "#fb9f3a"
             ],
             [
              0.8888888888888888,
              "#fdca26"
             ],
             [
              1,
              "#f0f921"
             ]
            ],
            "type": "histogram2d"
           }
          ],
          "histogram2dcontour": [
           {
            "colorbar": {
             "outlinewidth": 0,
             "ticks": ""
            },
            "colorscale": [
             [
              0,
              "#0d0887"
             ],
             [
              0.1111111111111111,
              "#46039f"
             ],
             [
              0.2222222222222222,
              "#7201a8"
             ],
             [
              0.3333333333333333,
              "#9c179e"
             ],
             [
              0.4444444444444444,
              "#bd3786"
             ],
             [
              0.5555555555555556,
              "#d8576b"
             ],
             [
              0.6666666666666666,
              "#ed7953"
             ],
             [
              0.7777777777777778,
              "#fb9f3a"
             ],
             [
              0.8888888888888888,
              "#fdca26"
             ],
             [
              1,
              "#f0f921"
             ]
            ],
            "type": "histogram2dcontour"
           }
          ],
          "mesh3d": [
           {
            "colorbar": {
             "outlinewidth": 0,
             "ticks": ""
            },
            "type": "mesh3d"
           }
          ],
          "parcoords": [
           {
            "line": {
             "colorbar": {
              "outlinewidth": 0,
              "ticks": ""
             }
            },
            "type": "parcoords"
           }
          ],
          "pie": [
           {
            "automargin": true,
            "type": "pie"
           }
          ],
          "scatter": [
           {
            "fillpattern": {
             "fillmode": "overlay",
             "size": 10,
             "solidity": 0.2
            },
            "type": "scatter"
           }
          ],
          "scatter3d": [
           {
            "line": {
             "colorbar": {
              "outlinewidth": 0,
              "ticks": ""
             }
            },
            "marker": {
             "colorbar": {
              "outlinewidth": 0,
              "ticks": ""
             }
            },
            "type": "scatter3d"
           }
          ],
          "scattercarpet": [
           {
            "marker": {
             "colorbar": {
              "outlinewidth": 0,
              "ticks": ""
             }
            },
            "type": "scattercarpet"
           }
          ],
          "scattergeo": [
           {
            "marker": {
             "colorbar": {
              "outlinewidth": 0,
              "ticks": ""
             }
            },
            "type": "scattergeo"
           }
          ],
          "scattergl": [
           {
            "marker": {
             "colorbar": {
              "outlinewidth": 0,
              "ticks": ""
             }
            },
            "type": "scattergl"
           }
          ],
          "scattermapbox": [
           {
            "marker": {
             "colorbar": {
              "outlinewidth": 0,
              "ticks": ""
             }
            },
            "type": "scattermapbox"
           }
          ],
          "scatterpolar": [
           {
            "marker": {
             "colorbar": {
              "outlinewidth": 0,
              "ticks": ""
             }
            },
            "type": "scatterpolar"
           }
          ],
          "scatterpolargl": [
           {
            "marker": {
             "colorbar": {
              "outlinewidth": 0,
              "ticks": ""
             }
            },
            "type": "scatterpolargl"
           }
          ],
          "scatterternary": [
           {
            "marker": {
             "colorbar": {
              "outlinewidth": 0,
              "ticks": ""
             }
            },
            "type": "scatterternary"
           }
          ],
          "surface": [
           {
            "colorbar": {
             "outlinewidth": 0,
             "ticks": ""
            },
            "colorscale": [
             [
              0,
              "#0d0887"
             ],
             [
              0.1111111111111111,
              "#46039f"
             ],
             [
              0.2222222222222222,
              "#7201a8"
             ],
             [
              0.3333333333333333,
              "#9c179e"
             ],
             [
              0.4444444444444444,
              "#bd3786"
             ],
             [
              0.5555555555555556,
              "#d8576b"
             ],
             [
              0.6666666666666666,
              "#ed7953"
             ],
             [
              0.7777777777777778,
              "#fb9f3a"
             ],
             [
              0.8888888888888888,
              "#fdca26"
             ],
             [
              1,
              "#f0f921"
             ]
            ],
            "type": "surface"
           }
          ],
          "table": [
           {
            "cells": {
             "fill": {
              "color": "#EBF0F8"
             },
             "line": {
              "color": "white"
             }
            },
            "header": {
             "fill": {
              "color": "#C8D4E3"
             },
             "line": {
              "color": "white"
             }
            },
            "type": "table"
           }
          ]
         },
         "layout": {
          "annotationdefaults": {
           "arrowcolor": "#2a3f5f",
           "arrowhead": 0,
           "arrowwidth": 1
          },
          "autotypenumbers": "strict",
          "coloraxis": {
           "colorbar": {
            "outlinewidth": 0,
            "ticks": ""
           }
          },
          "colorscale": {
           "diverging": [
            [
             0,
             "#8e0152"
            ],
            [
             0.1,
             "#c51b7d"
            ],
            [
             0.2,
             "#de77ae"
            ],
            [
             0.3,
             "#f1b6da"
            ],
            [
             0.4,
             "#fde0ef"
            ],
            [
             0.5,
             "#f7f7f7"
            ],
            [
             0.6,
             "#e6f5d0"
            ],
            [
             0.7,
             "#b8e186"
            ],
            [
             0.8,
             "#7fbc41"
            ],
            [
             0.9,
             "#4d9221"
            ],
            [
             1,
             "#276419"
            ]
           ],
           "sequential": [
            [
             0,
             "#0d0887"
            ],
            [
             0.1111111111111111,
             "#46039f"
            ],
            [
             0.2222222222222222,
             "#7201a8"
            ],
            [
             0.3333333333333333,
             "#9c179e"
            ],
            [
             0.4444444444444444,
             "#bd3786"
            ],
            [
             0.5555555555555556,
             "#d8576b"
            ],
            [
             0.6666666666666666,
             "#ed7953"
            ],
            [
             0.7777777777777778,
             "#fb9f3a"
            ],
            [
             0.8888888888888888,
             "#fdca26"
            ],
            [
             1,
             "#f0f921"
            ]
           ],
           "sequentialminus": [
            [
             0,
             "#0d0887"
            ],
            [
             0.1111111111111111,
             "#46039f"
            ],
            [
             0.2222222222222222,
             "#7201a8"
            ],
            [
             0.3333333333333333,
             "#9c179e"
            ],
            [
             0.4444444444444444,
             "#bd3786"
            ],
            [
             0.5555555555555556,
             "#d8576b"
            ],
            [
             0.6666666666666666,
             "#ed7953"
            ],
            [
             0.7777777777777778,
             "#fb9f3a"
            ],
            [
             0.8888888888888888,
             "#fdca26"
            ],
            [
             1,
             "#f0f921"
            ]
           ]
          },
          "colorway": [
           "#636efa",
           "#EF553B",
           "#00cc96",
           "#ab63fa",
           "#FFA15A",
           "#19d3f3",
           "#FF6692",
           "#B6E880",
           "#FF97FF",
           "#FECB52"
          ],
          "font": {
           "color": "#2a3f5f"
          },
          "geo": {
           "bgcolor": "white",
           "lakecolor": "white",
           "landcolor": "#E5ECF6",
           "showlakes": true,
           "showland": true,
           "subunitcolor": "white"
          },
          "hoverlabel": {
           "align": "left"
          },
          "hovermode": "closest",
          "mapbox": {
           "style": "light"
          },
          "paper_bgcolor": "white",
          "plot_bgcolor": "#E5ECF6",
          "polar": {
           "angularaxis": {
            "gridcolor": "white",
            "linecolor": "white",
            "ticks": ""
           },
           "bgcolor": "#E5ECF6",
           "radialaxis": {
            "gridcolor": "white",
            "linecolor": "white",
            "ticks": ""
           }
          },
          "scene": {
           "xaxis": {
            "backgroundcolor": "#E5ECF6",
            "gridcolor": "white",
            "gridwidth": 2,
            "linecolor": "white",
            "showbackground": true,
            "ticks": "",
            "zerolinecolor": "white"
           },
           "yaxis": {
            "backgroundcolor": "#E5ECF6",
            "gridcolor": "white",
            "gridwidth": 2,
            "linecolor": "white",
            "showbackground": true,
            "ticks": "",
            "zerolinecolor": "white"
           },
           "zaxis": {
            "backgroundcolor": "#E5ECF6",
            "gridcolor": "white",
            "gridwidth": 2,
            "linecolor": "white",
            "showbackground": true,
            "ticks": "",
            "zerolinecolor": "white"
           }
          },
          "shapedefaults": {
           "line": {
            "color": "#2a3f5f"
           }
          },
          "ternary": {
           "aaxis": {
            "gridcolor": "white",
            "linecolor": "white",
            "ticks": ""
           },
           "baxis": {
            "gridcolor": "white",
            "linecolor": "white",
            "ticks": ""
           },
           "bgcolor": "#E5ECF6",
           "caxis": {
            "gridcolor": "white",
            "linecolor": "white",
            "ticks": ""
           }
          },
          "title": {
           "x": 0.05
          },
          "xaxis": {
           "automargin": true,
           "gridcolor": "white",
           "linecolor": "white",
           "ticks": "",
           "title": {
            "standoff": 15
           },
           "zerolinecolor": "white",
           "zerolinewidth": 2
          },
          "yaxis": {
           "automargin": true,
           "gridcolor": "white",
           "linecolor": "white",
           "ticks": "",
           "title": {
            "standoff": 15
           },
           "zerolinecolor": "white",
           "zerolinewidth": 2
          }
         }
        },
        "xaxis": {
         "anchor": "y",
         "domain": [
          0,
          1
         ],
         "title": {
          "text": "x"
         }
        },
        "yaxis": {
         "anchor": "x",
         "domain": [
          0,
          1
         ],
         "title": {
          "text": "y"
         }
        }
       }
      }
     },
     "metadata": {},
     "output_type": "display_data"
    }
   ],
   "source": [
    "px.scatter(x = range(len(lin_cval_results['resids'])), y = lin_cval_results['resids'])"
   ]
  },
  {
   "cell_type": "code",
   "execution_count": 49,
   "id": "397d9361",
   "metadata": {},
   "outputs": [
    {
     "data": {
      "application/vnd.plotly.v1+json": {
       "config": {
        "plotlyServerURL": "https://plot.ly"
       },
       "data": [
        {
         "hovertemplate": "Trade union density=%{x}<br>Residuals=%{y}<extra></extra>",
         "legendgroup": "",
         "marker": {
          "color": "#636efa",
          "symbol": "circle"
         },
         "mode": "markers",
         "name": "",
         "orientation": "v",
         "showlegend": false,
         "type": "scatter",
         "x": [
          -0.8314046029858563,
          1.5189042509827053,
          -0.9459420759682412,
          -1.1383650122526525,
          -0.4923736371430075,
          -0.5748406635053139,
          1.5005782094905342,
          -0.02047929427057058,
          0.7950274675490213,
          0.029917102211700398,
          -0.16708730550301257,
          -0.460303190522929,
          -0.483210685119406,
          1.9037502518334972,
          1.6838381662623503,
          -0.6573076440526311,
          -0.35951021429843005,
          -0.7535191213578345,
          -0.3045322730818745,
          -0.40532520349138407,
          -0.9917570651611952,
          0.38727420117669836,
          1.5463931986834882,
          1.7663052842546352,
          -0.6939596812219835,
          1.6471864039829331,
          -0.8818010910981057,
          -0.7535191213578345,
          0.0848951350582344,
          -0.05713123980994457,
          -0.9871755662419,
          -0.7306116267613575,
          -0.9413605770489459,
          -0.6114926548596771,
          -1.14752802383574,
          0.7858644238954413,
          1.5784639201935022,
          -0.6481446920290295,
          -0.8084971083893793,
          1.6151156824729194,
          2.380226231070197,
          -0.20373925104238655,
          -1.0742240457085124,
          -1.1246205521467574,
          1.9037502518334972,
          2.343574056455877,
          -0.748937622438539,
          0.7767016093168073,
          -0.6847966375684035,
          -0.666470641891222,
          1.6426049508786271,
          -0.21748370198528355,
          2.563486187842013,
          0.21317705898351638,
          -0.047968287786343045,
          -0.9184530824524689,
          -0.015897886981253596,
          -1.0146645597576722,
          -0.03880538157773059,
          -0.254135739154636,
          1.6517678112722503,
          0.9324724351278832,
          0.7400494347024873,
          -0.8955455878559919,
          0.4789041795626064,
          -0.3045322730818745,
          -0.519862676473769,
          0.9462168860707802,
          -0.8955455878559919,
          -0.7168671758184605,
          -0.4328141970071565,
          -0.9184530824524689,
          -1.1566910354188276,
          0.029917102211700398,
          -1.0284090565155584,
          0.8362610494526583,
          1.5830453274828191,
          -0.6710521866255065,
          -1.0604795397876285,
          -0.8084971083893793,
          -0.748937622438539,
          -0.703122633245585,
          -0.7535191213578345,
          -0.025060701559887565,
          -0.4328141970071565,
          -0.666470641891222,
          0.9370540714921464,
          -0.863475095420924,
          -1.0146645597576722,
          0.016172651268803406,
          -0.4648847352572135,
          0.12612871696187142,
          -0.3091136803711915,
          1.0286840498780543,
          1.7617238769653183,
          -0.14417981090653556,
          -1.0971315403049895,
          0.9553799297243603,
          1.5830453274828191,
          1.894587391439874,
          -1.0833870343841054,
          1.5601378328863422,
          0.1078026296547114,
          0.08031372776891742,
          -0.9642680716454229,
          0.20859565169419939,
          -1.0650610570329195,
          -1.0055015619190815,
          -0.1304352683336601,
          -0.7168671758184605,
          -0.029642337924150587,
          -0.712285631084176,
          -0.9825940673226045,
          -0.5336072190466445,
          -0.8268231040665609,
          -0.11210927265647856,
          -0.771845117035016,
          -0.6252371974325525,
          -1.0742240457085124,
          -0.7168671758184605
         ],
         "xaxis": "x",
         "y": [
          -0.033384157129372816,
          -0.0013317154015389243,
          0.030238383408273617,
          0.0680302754189977,
          -0.034956312547245016,
          0.04218787813048308,
          -0.007832951761780282,
          0.03488022646940281,
          -0.02059957018924813,
          0.037180649876763616,
          0.0471042690913796,
          0.016114605696050777,
          -0.019407437886018397,
          -0.026822910709218023,
          -0.00875720678949582,
          -0.020900003380692422,
          -0.001954953598326925,
          -0.016201223491338235,
          0.023588401357635513,
          0.033527882834280764,
          -0.04981174654941911,
          0.011143912535614586,
          0.009976293936422131,
          -0.017331389245818896,
          -0.018441787048159575,
          -0.006989289544756416,
          -0.004376934875604921,
          -0.02393387503886235,
          0.02018194994189415,
          0.02348853896617159,
          -0.031982829960250314,
          -0.019390442775290895,
          0.02487282447977135,
          0.03624499367137779,
          0.06511049212756881,
          -0.0070521094614157676,
          0.01159173495009741,
          -0.027561658540162848,
          0.04369999150028503,
          0.010506660357418207,
          0.017343156786355285,
          0.016305338417195003,
          -0.0007269173904836945,
          0.037779698397149286,
          0.005359386947798361,
          0.013552551474676322,
          -0.010023688606845438,
          -0.0070870574803386654,
          -0.01386859340986818,
          0.004141761810504518,
          0.00751007406216625,
          0.02383882538608295,
          -0.01673394281285423,
          0.009695512994953193,
          0.02521423999252498,
          -0.027018173304551363,
          0.0364362671059828,
          -0.015078227620501317,
          0.03269674164943842,
          0.013269280109307446,
          -0.004652650286968207,
          -0.006429688893980601,
          -0.007164701831888887,
          -0.045472070674267395,
          0.010923056434839151,
          0.020951118077449538,
          0.08060633343465601,
          0.010702340933716636,
          0.0006849755286659209,
          0.022235550576475804,
          -0.028107849027040666,
          0.016482631079420385,
          0.07672367247152218,
          0.04097634756210056,
          -0.035850413857013874,
          0.029152881322354995,
          -0.018289824079025907,
          -0.018759741145300934,
          0.0442712055127924,
          -0.003676901688836942,
          -0.009831037585273927,
          -0.007067404305365954,
          0.0022932079702606134,
          0.04002958053615768,
          0.006692848559830988,
          -0.028066879103847697,
          -0.0035997089582305852,
          -0.0016017449644294968,
          -0.013857824616633763,
          0.020766722052285358,
          0.00498011838858925,
          0.030669642768724525,
          -0.01415587747221625,
          0.003177749347551384,
          0.0009187119612680816,
          0.06345349919037341,
          0.025805031695359804,
          -0.0001701776111775466,
          -0.0064882494830753035,
          -0.01764151893927407,
          0.04630715695340981,
          0.008334361901278953,
          0.039336113263176486,
          0.03197874530765982,
          -0.02213926518837911,
          -0.02801304273786351,
          -0.008117526404054443,
          -0.0027719151682934484,
          0.004965950431016164,
          -0.024244149944225635,
          0.00852786483959661,
          -0.027216954592722054,
          -0.06330064975479521,
          -0.011402910821716905,
          -0.009680714988973549,
          0.007501806024007074,
          0.04190979475049994,
          -0.015487265070270373,
          -0.0006355242720026411,
          -0.008727666677694368
         ],
         "yaxis": "y"
        }
       ],
       "layout": {
        "legend": {
         "tracegroupgap": 0
        },
        "template": {
         "data": {
          "bar": [
           {
            "error_x": {
             "color": "#2a3f5f"
            },
            "error_y": {
             "color": "#2a3f5f"
            },
            "marker": {
             "line": {
              "color": "#E5ECF6",
              "width": 0.5
             },
             "pattern": {
              "fillmode": "overlay",
              "size": 10,
              "solidity": 0.2
             }
            },
            "type": "bar"
           }
          ],
          "barpolar": [
           {
            "marker": {
             "line": {
              "color": "#E5ECF6",
              "width": 0.5
             },
             "pattern": {
              "fillmode": "overlay",
              "size": 10,
              "solidity": 0.2
             }
            },
            "type": "barpolar"
           }
          ],
          "carpet": [
           {
            "aaxis": {
             "endlinecolor": "#2a3f5f",
             "gridcolor": "white",
             "linecolor": "white",
             "minorgridcolor": "white",
             "startlinecolor": "#2a3f5f"
            },
            "baxis": {
             "endlinecolor": "#2a3f5f",
             "gridcolor": "white",
             "linecolor": "white",
             "minorgridcolor": "white",
             "startlinecolor": "#2a3f5f"
            },
            "type": "carpet"
           }
          ],
          "choropleth": [
           {
            "colorbar": {
             "outlinewidth": 0,
             "ticks": ""
            },
            "type": "choropleth"
           }
          ],
          "contour": [
           {
            "colorbar": {
             "outlinewidth": 0,
             "ticks": ""
            },
            "colorscale": [
             [
              0,
              "#0d0887"
             ],
             [
              0.1111111111111111,
              "#46039f"
             ],
             [
              0.2222222222222222,
              "#7201a8"
             ],
             [
              0.3333333333333333,
              "#9c179e"
             ],
             [
              0.4444444444444444,
              "#bd3786"
             ],
             [
              0.5555555555555556,
              "#d8576b"
             ],
             [
              0.6666666666666666,
              "#ed7953"
             ],
             [
              0.7777777777777778,
              "#fb9f3a"
             ],
             [
              0.8888888888888888,
              "#fdca26"
             ],
             [
              1,
              "#f0f921"
             ]
            ],
            "type": "contour"
           }
          ],
          "contourcarpet": [
           {
            "colorbar": {
             "outlinewidth": 0,
             "ticks": ""
            },
            "type": "contourcarpet"
           }
          ],
          "heatmap": [
           {
            "colorbar": {
             "outlinewidth": 0,
             "ticks": ""
            },
            "colorscale": [
             [
              0,
              "#0d0887"
             ],
             [
              0.1111111111111111,
              "#46039f"
             ],
             [
              0.2222222222222222,
              "#7201a8"
             ],
             [
              0.3333333333333333,
              "#9c179e"
             ],
             [
              0.4444444444444444,
              "#bd3786"
             ],
             [
              0.5555555555555556,
              "#d8576b"
             ],
             [
              0.6666666666666666,
              "#ed7953"
             ],
             [
              0.7777777777777778,
              "#fb9f3a"
             ],
             [
              0.8888888888888888,
              "#fdca26"
             ],
             [
              1,
              "#f0f921"
             ]
            ],
            "type": "heatmap"
           }
          ],
          "heatmapgl": [
           {
            "colorbar": {
             "outlinewidth": 0,
             "ticks": ""
            },
            "colorscale": [
             [
              0,
              "#0d0887"
             ],
             [
              0.1111111111111111,
              "#46039f"
             ],
             [
              0.2222222222222222,
              "#7201a8"
             ],
             [
              0.3333333333333333,
              "#9c179e"
             ],
             [
              0.4444444444444444,
              "#bd3786"
             ],
             [
              0.5555555555555556,
              "#d8576b"
             ],
             [
              0.6666666666666666,
              "#ed7953"
             ],
             [
              0.7777777777777778,
              "#fb9f3a"
             ],
             [
              0.8888888888888888,
              "#fdca26"
             ],
             [
              1,
              "#f0f921"
             ]
            ],
            "type": "heatmapgl"
           }
          ],
          "histogram": [
           {
            "marker": {
             "pattern": {
              "fillmode": "overlay",
              "size": 10,
              "solidity": 0.2
             }
            },
            "type": "histogram"
           }
          ],
          "histogram2d": [
           {
            "colorbar": {
             "outlinewidth": 0,
             "ticks": ""
            },
            "colorscale": [
             [
              0,
              "#0d0887"
             ],
             [
              0.1111111111111111,
              "#46039f"
             ],
             [
              0.2222222222222222,
              "#7201a8"
             ],
             [
              0.3333333333333333,
              "#9c179e"
             ],
             [
              0.4444444444444444,
              "#bd3786"
             ],
             [
              0.5555555555555556,
              "#d8576b"
             ],
             [
              0.6666666666666666,
              "#ed7953"
             ],
             [
              0.7777777777777778,
              "#fb9f3a"
             ],
             [
              0.8888888888888888,
              "#fdca26"
             ],
             [
              1,
              "#f0f921"
             ]
            ],
            "type": "histogram2d"
           }
          ],
          "histogram2dcontour": [
           {
            "colorbar": {
             "outlinewidth": 0,
             "ticks": ""
            },
            "colorscale": [
             [
              0,
              "#0d0887"
             ],
             [
              0.1111111111111111,
              "#46039f"
             ],
             [
              0.2222222222222222,
              "#7201a8"
             ],
             [
              0.3333333333333333,
              "#9c179e"
             ],
             [
              0.4444444444444444,
              "#bd3786"
             ],
             [
              0.5555555555555556,
              "#d8576b"
             ],
             [
              0.6666666666666666,
              "#ed7953"
             ],
             [
              0.7777777777777778,
              "#fb9f3a"
             ],
             [
              0.8888888888888888,
              "#fdca26"
             ],
             [
              1,
              "#f0f921"
             ]
            ],
            "type": "histogram2dcontour"
           }
          ],
          "mesh3d": [
           {
            "colorbar": {
             "outlinewidth": 0,
             "ticks": ""
            },
            "type": "mesh3d"
           }
          ],
          "parcoords": [
           {
            "line": {
             "colorbar": {
              "outlinewidth": 0,
              "ticks": ""
             }
            },
            "type": "parcoords"
           }
          ],
          "pie": [
           {
            "automargin": true,
            "type": "pie"
           }
          ],
          "scatter": [
           {
            "fillpattern": {
             "fillmode": "overlay",
             "size": 10,
             "solidity": 0.2
            },
            "type": "scatter"
           }
          ],
          "scatter3d": [
           {
            "line": {
             "colorbar": {
              "outlinewidth": 0,
              "ticks": ""
             }
            },
            "marker": {
             "colorbar": {
              "outlinewidth": 0,
              "ticks": ""
             }
            },
            "type": "scatter3d"
           }
          ],
          "scattercarpet": [
           {
            "marker": {
             "colorbar": {
              "outlinewidth": 0,
              "ticks": ""
             }
            },
            "type": "scattercarpet"
           }
          ],
          "scattergeo": [
           {
            "marker": {
             "colorbar": {
              "outlinewidth": 0,
              "ticks": ""
             }
            },
            "type": "scattergeo"
           }
          ],
          "scattergl": [
           {
            "marker": {
             "colorbar": {
              "outlinewidth": 0,
              "ticks": ""
             }
            },
            "type": "scattergl"
           }
          ],
          "scattermapbox": [
           {
            "marker": {
             "colorbar": {
              "outlinewidth": 0,
              "ticks": ""
             }
            },
            "type": "scattermapbox"
           }
          ],
          "scatterpolar": [
           {
            "marker": {
             "colorbar": {
              "outlinewidth": 0,
              "ticks": ""
             }
            },
            "type": "scatterpolar"
           }
          ],
          "scatterpolargl": [
           {
            "marker": {
             "colorbar": {
              "outlinewidth": 0,
              "ticks": ""
             }
            },
            "type": "scatterpolargl"
           }
          ],
          "scatterternary": [
           {
            "marker": {
             "colorbar": {
              "outlinewidth": 0,
              "ticks": ""
             }
            },
            "type": "scatterternary"
           }
          ],
          "surface": [
           {
            "colorbar": {
             "outlinewidth": 0,
             "ticks": ""
            },
            "colorscale": [
             [
              0,
              "#0d0887"
             ],
             [
              0.1111111111111111,
              "#46039f"
             ],
             [
              0.2222222222222222,
              "#7201a8"
             ],
             [
              0.3333333333333333,
              "#9c179e"
             ],
             [
              0.4444444444444444,
              "#bd3786"
             ],
             [
              0.5555555555555556,
              "#d8576b"
             ],
             [
              0.6666666666666666,
              "#ed7953"
             ],
             [
              0.7777777777777778,
              "#fb9f3a"
             ],
             [
              0.8888888888888888,
              "#fdca26"
             ],
             [
              1,
              "#f0f921"
             ]
            ],
            "type": "surface"
           }
          ],
          "table": [
           {
            "cells": {
             "fill": {
              "color": "#EBF0F8"
             },
             "line": {
              "color": "white"
             }
            },
            "header": {
             "fill": {
              "color": "#C8D4E3"
             },
             "line": {
              "color": "white"
             }
            },
            "type": "table"
           }
          ]
         },
         "layout": {
          "annotationdefaults": {
           "arrowcolor": "#2a3f5f",
           "arrowhead": 0,
           "arrowwidth": 1
          },
          "autotypenumbers": "strict",
          "coloraxis": {
           "colorbar": {
            "outlinewidth": 0,
            "ticks": ""
           }
          },
          "colorscale": {
           "diverging": [
            [
             0,
             "#8e0152"
            ],
            [
             0.1,
             "#c51b7d"
            ],
            [
             0.2,
             "#de77ae"
            ],
            [
             0.3,
             "#f1b6da"
            ],
            [
             0.4,
             "#fde0ef"
            ],
            [
             0.5,
             "#f7f7f7"
            ],
            [
             0.6,
             "#e6f5d0"
            ],
            [
             0.7,
             "#b8e186"
            ],
            [
             0.8,
             "#7fbc41"
            ],
            [
             0.9,
             "#4d9221"
            ],
            [
             1,
             "#276419"
            ]
           ],
           "sequential": [
            [
             0,
             "#0d0887"
            ],
            [
             0.1111111111111111,
             "#46039f"
            ],
            [
             0.2222222222222222,
             "#7201a8"
            ],
            [
             0.3333333333333333,
             "#9c179e"
            ],
            [
             0.4444444444444444,
             "#bd3786"
            ],
            [
             0.5555555555555556,
             "#d8576b"
            ],
            [
             0.6666666666666666,
             "#ed7953"
            ],
            [
             0.7777777777777778,
             "#fb9f3a"
            ],
            [
             0.8888888888888888,
             "#fdca26"
            ],
            [
             1,
             "#f0f921"
            ]
           ],
           "sequentialminus": [
            [
             0,
             "#0d0887"
            ],
            [
             0.1111111111111111,
             "#46039f"
            ],
            [
             0.2222222222222222,
             "#7201a8"
            ],
            [
             0.3333333333333333,
             "#9c179e"
            ],
            [
             0.4444444444444444,
             "#bd3786"
            ],
            [
             0.5555555555555556,
             "#d8576b"
            ],
            [
             0.6666666666666666,
             "#ed7953"
            ],
            [
             0.7777777777777778,
             "#fb9f3a"
            ],
            [
             0.8888888888888888,
             "#fdca26"
            ],
            [
             1,
             "#f0f921"
            ]
           ]
          },
          "colorway": [
           "#636efa",
           "#EF553B",
           "#00cc96",
           "#ab63fa",
           "#FFA15A",
           "#19d3f3",
           "#FF6692",
           "#B6E880",
           "#FF97FF",
           "#FECB52"
          ],
          "font": {
           "color": "#2a3f5f"
          },
          "geo": {
           "bgcolor": "white",
           "lakecolor": "white",
           "landcolor": "#E5ECF6",
           "showlakes": true,
           "showland": true,
           "subunitcolor": "white"
          },
          "hoverlabel": {
           "align": "left"
          },
          "hovermode": "closest",
          "mapbox": {
           "style": "light"
          },
          "paper_bgcolor": "white",
          "plot_bgcolor": "#E5ECF6",
          "polar": {
           "angularaxis": {
            "gridcolor": "white",
            "linecolor": "white",
            "ticks": ""
           },
           "bgcolor": "#E5ECF6",
           "radialaxis": {
            "gridcolor": "white",
            "linecolor": "white",
            "ticks": ""
           }
          },
          "scene": {
           "xaxis": {
            "backgroundcolor": "#E5ECF6",
            "gridcolor": "white",
            "gridwidth": 2,
            "linecolor": "white",
            "showbackground": true,
            "ticks": "",
            "zerolinecolor": "white"
           },
           "yaxis": {
            "backgroundcolor": "#E5ECF6",
            "gridcolor": "white",
            "gridwidth": 2,
            "linecolor": "white",
            "showbackground": true,
            "ticks": "",
            "zerolinecolor": "white"
           },
           "zaxis": {
            "backgroundcolor": "#E5ECF6",
            "gridcolor": "white",
            "gridwidth": 2,
            "linecolor": "white",
            "showbackground": true,
            "ticks": "",
            "zerolinecolor": "white"
           }
          },
          "shapedefaults": {
           "line": {
            "color": "#2a3f5f"
           }
          },
          "ternary": {
           "aaxis": {
            "gridcolor": "white",
            "linecolor": "white",
            "ticks": ""
           },
           "baxis": {
            "gridcolor": "white",
            "linecolor": "white",
            "ticks": ""
           },
           "bgcolor": "#E5ECF6",
           "caxis": {
            "gridcolor": "white",
            "linecolor": "white",
            "ticks": ""
           }
          },
          "title": {
           "x": 0.05
          },
          "xaxis": {
           "automargin": true,
           "gridcolor": "white",
           "linecolor": "white",
           "ticks": "",
           "title": {
            "standoff": 15
           },
           "zerolinecolor": "white",
           "zerolinewidth": 2
          },
          "yaxis": {
           "automargin": true,
           "gridcolor": "white",
           "linecolor": "white",
           "ticks": "",
           "title": {
            "standoff": 15
           },
           "zerolinecolor": "white",
           "zerolinewidth": 2
          }
         }
        },
        "title": {
         "text": "Residual plot of Trade union density"
        },
        "xaxis": {
         "anchor": "y",
         "domain": [
          0,
          1
         ],
         "title": {
          "text": "Trade union density"
         }
        },
        "yaxis": {
         "anchor": "x",
         "domain": [
          0,
          1
         ],
         "title": {
          "text": "Residuals"
         }
        }
       }
      }
     },
     "metadata": {},
     "output_type": "display_data"
    },
    {
     "data": {
      "application/vnd.plotly.v1+json": {
       "config": {
        "plotlyServerURL": "https://plot.ly"
       },
       "data": [
        {
         "hovertemplate": "Combined corporate income tax rate=%{x}<br>Residuals=%{y}<extra></extra>",
         "legendgroup": "",
         "marker": {
          "color": "#636efa",
          "symbol": "circle"
         },
         "mode": "markers",
         "name": "",
         "orientation": "v",
         "showlegend": false,
         "type": "scatter",
         "x": [
          -0.9275514124936414,
          -0.4917340482474348,
          -1.5086412314885838,
          -1.5086412314885838,
          1.8816577319315824,
          0.16199199812187526,
          -0.7822789577449059,
          0.3517759330056234,
          0.3799006802449786,
          1.868943341419518,
          0.6704455897424497,
          -0.9275514124936414,
          0.8157180444911852,
          0.9609904992399209,
          0.3799006802449786,
          0.6704455897424497,
          -1.8718223683604225,
          -0.6116654665347105,
          -0.05591668400122808,
          1.3968078634861274,
          -0.6370065029961703,
          0.6166947814854173,
          -0.4917340482474348,
          0.3799006802449786,
          1.6873527729835986,
          -0.05591668400122808,
          -1.5086412314885838,
          -0.05591668400122808,
          1.251535408737392,
          -1.8718223683604225,
          -0.9275514124936414,
          -0.6116654665347105,
          -1.5086412314885838,
          0.16199199812187526,
          -1.5086412314885838,
          0.3799006802449786,
          -0.4917340482474348,
          0.5789239432507465,
          0.5978093623680819,
          -0.2738253661243314,
          -1.0728238672423769,
          -1.8718223683604225,
          2.1231701372298053,
          -1.5086412314885838,
          0.5251731349937141,
          -1.0728238672423769,
          -0.6154217763971485,
          -0.3464615934986992,
          0.6188700912228253,
          0.6704455897424497,
          -0.05591668400122808,
          -0.06463303128615203,
          -0.7822789577449059,
          0.6166947814854173,
          -1.8718223683604225,
          -0.9275514124936414,
          0.3517759330056234,
          1.798728370048447,
          0.24625002187614162,
          0.3799006802449786,
          -0.05591668400122808,
          1.2500826841899049,
          0.6094311587479805,
          -0.4917340482474348,
          0.7256491225469691,
          -0.05591668400122808,
          0.3072644528706108,
          1.2500826841899049,
          -0.05591668400122808,
          -1.3633687767398481,
          1.8741490345629843,
          -1.5086412314885838,
          -1.5086412314885838,
          0.8582465556188779,
          1.459759212119761,
          0.3799006802449786,
          0.13293750717212824,
          0.6094311587479805,
          -0.9275514124936414,
          -0.6154217763971485,
          -0.9275514124936414,
          -0.6116654665347105,
          -0.9275514124936414,
          -1.8718223683604225,
          -0.9275514124936414,
          0.6052086695782543,
          1.2500826841899049,
          -0.9275514124936414,
          1.6050316668684965,
          0.5571330750384358,
          0.6704455897424497,
          0.8582465556188779,
          -1.8718223683604225,
          1.2500826841899049,
          0.08935577074750747,
          0.6704455897424497,
          -1.5086412314885838,
          1.5377221445924008,
          -0.7822789577449059,
          0.3799006802449786,
          -1.0728238672423769,
          -0.4917340482474348,
          0.8738270263906792,
          0.8738270263906792,
          -0.9275514124936414,
          -0.05591668400122808,
          -1.5086412314885838,
          -0.9275514124936414,
          -1.8718223683604225,
          -0.05591668400122808,
          0.5571330750384358,
          -0.20118913874996364,
          -0.6370065029961703,
          1.3241716361117597,
          -0.6154217763971485,
          -1.8718223683604225,
          0.5978093623680819,
          0.6704455897424497,
          2.1231701372298053,
          -0.9275514124936414
         ],
         "xaxis": "x",
         "y": [
          -0.033384157129372816,
          -0.0013317154015389243,
          0.030238383408273617,
          0.0680302754189977,
          -0.034956312547245016,
          0.04218787813048308,
          -0.007832951761780282,
          0.03488022646940281,
          -0.02059957018924813,
          0.037180649876763616,
          0.0471042690913796,
          0.016114605696050777,
          -0.019407437886018397,
          -0.026822910709218023,
          -0.00875720678949582,
          -0.020900003380692422,
          -0.001954953598326925,
          -0.016201223491338235,
          0.023588401357635513,
          0.033527882834280764,
          -0.04981174654941911,
          0.011143912535614586,
          0.009976293936422131,
          -0.017331389245818896,
          -0.018441787048159575,
          -0.006989289544756416,
          -0.004376934875604921,
          -0.02393387503886235,
          0.02018194994189415,
          0.02348853896617159,
          -0.031982829960250314,
          -0.019390442775290895,
          0.02487282447977135,
          0.03624499367137779,
          0.06511049212756881,
          -0.0070521094614157676,
          0.01159173495009741,
          -0.027561658540162848,
          0.04369999150028503,
          0.010506660357418207,
          0.017343156786355285,
          0.016305338417195003,
          -0.0007269173904836945,
          0.037779698397149286,
          0.005359386947798361,
          0.013552551474676322,
          -0.010023688606845438,
          -0.0070870574803386654,
          -0.01386859340986818,
          0.004141761810504518,
          0.00751007406216625,
          0.02383882538608295,
          -0.01673394281285423,
          0.009695512994953193,
          0.02521423999252498,
          -0.027018173304551363,
          0.0364362671059828,
          -0.015078227620501317,
          0.03269674164943842,
          0.013269280109307446,
          -0.004652650286968207,
          -0.006429688893980601,
          -0.007164701831888887,
          -0.045472070674267395,
          0.010923056434839151,
          0.020951118077449538,
          0.08060633343465601,
          0.010702340933716636,
          0.0006849755286659209,
          0.022235550576475804,
          -0.028107849027040666,
          0.016482631079420385,
          0.07672367247152218,
          0.04097634756210056,
          -0.035850413857013874,
          0.029152881322354995,
          -0.018289824079025907,
          -0.018759741145300934,
          0.0442712055127924,
          -0.003676901688836942,
          -0.009831037585273927,
          -0.007067404305365954,
          0.0022932079702606134,
          0.04002958053615768,
          0.006692848559830988,
          -0.028066879103847697,
          -0.0035997089582305852,
          -0.0016017449644294968,
          -0.013857824616633763,
          0.020766722052285358,
          0.00498011838858925,
          0.030669642768724525,
          -0.01415587747221625,
          0.003177749347551384,
          0.0009187119612680816,
          0.06345349919037341,
          0.025805031695359804,
          -0.0001701776111775466,
          -0.0064882494830753035,
          -0.01764151893927407,
          0.04630715695340981,
          0.008334361901278953,
          0.039336113263176486,
          0.03197874530765982,
          -0.02213926518837911,
          -0.02801304273786351,
          -0.008117526404054443,
          -0.0027719151682934484,
          0.004965950431016164,
          -0.024244149944225635,
          0.00852786483959661,
          -0.027216954592722054,
          -0.06330064975479521,
          -0.011402910821716905,
          -0.009680714988973549,
          0.007501806024007074,
          0.04190979475049994,
          -0.015487265070270373,
          -0.0006355242720026411,
          -0.008727666677694368
         ],
         "yaxis": "y"
        }
       ],
       "layout": {
        "legend": {
         "tracegroupgap": 0
        },
        "template": {
         "data": {
          "bar": [
           {
            "error_x": {
             "color": "#2a3f5f"
            },
            "error_y": {
             "color": "#2a3f5f"
            },
            "marker": {
             "line": {
              "color": "#E5ECF6",
              "width": 0.5
             },
             "pattern": {
              "fillmode": "overlay",
              "size": 10,
              "solidity": 0.2
             }
            },
            "type": "bar"
           }
          ],
          "barpolar": [
           {
            "marker": {
             "line": {
              "color": "#E5ECF6",
              "width": 0.5
             },
             "pattern": {
              "fillmode": "overlay",
              "size": 10,
              "solidity": 0.2
             }
            },
            "type": "barpolar"
           }
          ],
          "carpet": [
           {
            "aaxis": {
             "endlinecolor": "#2a3f5f",
             "gridcolor": "white",
             "linecolor": "white",
             "minorgridcolor": "white",
             "startlinecolor": "#2a3f5f"
            },
            "baxis": {
             "endlinecolor": "#2a3f5f",
             "gridcolor": "white",
             "linecolor": "white",
             "minorgridcolor": "white",
             "startlinecolor": "#2a3f5f"
            },
            "type": "carpet"
           }
          ],
          "choropleth": [
           {
            "colorbar": {
             "outlinewidth": 0,
             "ticks": ""
            },
            "type": "choropleth"
           }
          ],
          "contour": [
           {
            "colorbar": {
             "outlinewidth": 0,
             "ticks": ""
            },
            "colorscale": [
             [
              0,
              "#0d0887"
             ],
             [
              0.1111111111111111,
              "#46039f"
             ],
             [
              0.2222222222222222,
              "#7201a8"
             ],
             [
              0.3333333333333333,
              "#9c179e"
             ],
             [
              0.4444444444444444,
              "#bd3786"
             ],
             [
              0.5555555555555556,
              "#d8576b"
             ],
             [
              0.6666666666666666,
              "#ed7953"
             ],
             [
              0.7777777777777778,
              "#fb9f3a"
             ],
             [
              0.8888888888888888,
              "#fdca26"
             ],
             [
              1,
              "#f0f921"
             ]
            ],
            "type": "contour"
           }
          ],
          "contourcarpet": [
           {
            "colorbar": {
             "outlinewidth": 0,
             "ticks": ""
            },
            "type": "contourcarpet"
           }
          ],
          "heatmap": [
           {
            "colorbar": {
             "outlinewidth": 0,
             "ticks": ""
            },
            "colorscale": [
             [
              0,
              "#0d0887"
             ],
             [
              0.1111111111111111,
              "#46039f"
             ],
             [
              0.2222222222222222,
              "#7201a8"
             ],
             [
              0.3333333333333333,
              "#9c179e"
             ],
             [
              0.4444444444444444,
              "#bd3786"
             ],
             [
              0.5555555555555556,
              "#d8576b"
             ],
             [
              0.6666666666666666,
              "#ed7953"
             ],
             [
              0.7777777777777778,
              "#fb9f3a"
             ],
             [
              0.8888888888888888,
              "#fdca26"
             ],
             [
              1,
              "#f0f921"
             ]
            ],
            "type": "heatmap"
           }
          ],
          "heatmapgl": [
           {
            "colorbar": {
             "outlinewidth": 0,
             "ticks": ""
            },
            "colorscale": [
             [
              0,
              "#0d0887"
             ],
             [
              0.1111111111111111,
              "#46039f"
             ],
             [
              0.2222222222222222,
              "#7201a8"
             ],
             [
              0.3333333333333333,
              "#9c179e"
             ],
             [
              0.4444444444444444,
              "#bd3786"
             ],
             [
              0.5555555555555556,
              "#d8576b"
             ],
             [
              0.6666666666666666,
              "#ed7953"
             ],
             [
              0.7777777777777778,
              "#fb9f3a"
             ],
             [
              0.8888888888888888,
              "#fdca26"
             ],
             [
              1,
              "#f0f921"
             ]
            ],
            "type": "heatmapgl"
           }
          ],
          "histogram": [
           {
            "marker": {
             "pattern": {
              "fillmode": "overlay",
              "size": 10,
              "solidity": 0.2
             }
            },
            "type": "histogram"
           }
          ],
          "histogram2d": [
           {
            "colorbar": {
             "outlinewidth": 0,
             "ticks": ""
            },
            "colorscale": [
             [
              0,
              "#0d0887"
             ],
             [
              0.1111111111111111,
              "#46039f"
             ],
             [
              0.2222222222222222,
              "#7201a8"
             ],
             [
              0.3333333333333333,
              "#9c179e"
             ],
             [
              0.4444444444444444,
              "#bd3786"
             ],
             [
              0.5555555555555556,
              "#d8576b"
             ],
             [
              0.6666666666666666,
              "#ed7953"
             ],
             [
              0.7777777777777778,
              "#fb9f3a"
             ],
             [
              0.8888888888888888,
              "#fdca26"
             ],
             [
              1,
              "#f0f921"
             ]
            ],
            "type": "histogram2d"
           }
          ],
          "histogram2dcontour": [
           {
            "colorbar": {
             "outlinewidth": 0,
             "ticks": ""
            },
            "colorscale": [
             [
              0,
              "#0d0887"
             ],
             [
              0.1111111111111111,
              "#46039f"
             ],
             [
              0.2222222222222222,
              "#7201a8"
             ],
             [
              0.3333333333333333,
              "#9c179e"
             ],
             [
              0.4444444444444444,
              "#bd3786"
             ],
             [
              0.5555555555555556,
              "#d8576b"
             ],
             [
              0.6666666666666666,
              "#ed7953"
             ],
             [
              0.7777777777777778,
              "#fb9f3a"
             ],
             [
              0.8888888888888888,
              "#fdca26"
             ],
             [
              1,
              "#f0f921"
             ]
            ],
            "type": "histogram2dcontour"
           }
          ],
          "mesh3d": [
           {
            "colorbar": {
             "outlinewidth": 0,
             "ticks": ""
            },
            "type": "mesh3d"
           }
          ],
          "parcoords": [
           {
            "line": {
             "colorbar": {
              "outlinewidth": 0,
              "ticks": ""
             }
            },
            "type": "parcoords"
           }
          ],
          "pie": [
           {
            "automargin": true,
            "type": "pie"
           }
          ],
          "scatter": [
           {
            "fillpattern": {
             "fillmode": "overlay",
             "size": 10,
             "solidity": 0.2
            },
            "type": "scatter"
           }
          ],
          "scatter3d": [
           {
            "line": {
             "colorbar": {
              "outlinewidth": 0,
              "ticks": ""
             }
            },
            "marker": {
             "colorbar": {
              "outlinewidth": 0,
              "ticks": ""
             }
            },
            "type": "scatter3d"
           }
          ],
          "scattercarpet": [
           {
            "marker": {
             "colorbar": {
              "outlinewidth": 0,
              "ticks": ""
             }
            },
            "type": "scattercarpet"
           }
          ],
          "scattergeo": [
           {
            "marker": {
             "colorbar": {
              "outlinewidth": 0,
              "ticks": ""
             }
            },
            "type": "scattergeo"
           }
          ],
          "scattergl": [
           {
            "marker": {
             "colorbar": {
              "outlinewidth": 0,
              "ticks": ""
             }
            },
            "type": "scattergl"
           }
          ],
          "scattermapbox": [
           {
            "marker": {
             "colorbar": {
              "outlinewidth": 0,
              "ticks": ""
             }
            },
            "type": "scattermapbox"
           }
          ],
          "scatterpolar": [
           {
            "marker": {
             "colorbar": {
              "outlinewidth": 0,
              "ticks": ""
             }
            },
            "type": "scatterpolar"
           }
          ],
          "scatterpolargl": [
           {
            "marker": {
             "colorbar": {
              "outlinewidth": 0,
              "ticks": ""
             }
            },
            "type": "scatterpolargl"
           }
          ],
          "scatterternary": [
           {
            "marker": {
             "colorbar": {
              "outlinewidth": 0,
              "ticks": ""
             }
            },
            "type": "scatterternary"
           }
          ],
          "surface": [
           {
            "colorbar": {
             "outlinewidth": 0,
             "ticks": ""
            },
            "colorscale": [
             [
              0,
              "#0d0887"
             ],
             [
              0.1111111111111111,
              "#46039f"
             ],
             [
              0.2222222222222222,
              "#7201a8"
             ],
             [
              0.3333333333333333,
              "#9c179e"
             ],
             [
              0.4444444444444444,
              "#bd3786"
             ],
             [
              0.5555555555555556,
              "#d8576b"
             ],
             [
              0.6666666666666666,
              "#ed7953"
             ],
             [
              0.7777777777777778,
              "#fb9f3a"
             ],
             [
              0.8888888888888888,
              "#fdca26"
             ],
             [
              1,
              "#f0f921"
             ]
            ],
            "type": "surface"
           }
          ],
          "table": [
           {
            "cells": {
             "fill": {
              "color": "#EBF0F8"
             },
             "line": {
              "color": "white"
             }
            },
            "header": {
             "fill": {
              "color": "#C8D4E3"
             },
             "line": {
              "color": "white"
             }
            },
            "type": "table"
           }
          ]
         },
         "layout": {
          "annotationdefaults": {
           "arrowcolor": "#2a3f5f",
           "arrowhead": 0,
           "arrowwidth": 1
          },
          "autotypenumbers": "strict",
          "coloraxis": {
           "colorbar": {
            "outlinewidth": 0,
            "ticks": ""
           }
          },
          "colorscale": {
           "diverging": [
            [
             0,
             "#8e0152"
            ],
            [
             0.1,
             "#c51b7d"
            ],
            [
             0.2,
             "#de77ae"
            ],
            [
             0.3,
             "#f1b6da"
            ],
            [
             0.4,
             "#fde0ef"
            ],
            [
             0.5,
             "#f7f7f7"
            ],
            [
             0.6,
             "#e6f5d0"
            ],
            [
             0.7,
             "#b8e186"
            ],
            [
             0.8,
             "#7fbc41"
            ],
            [
             0.9,
             "#4d9221"
            ],
            [
             1,
             "#276419"
            ]
           ],
           "sequential": [
            [
             0,
             "#0d0887"
            ],
            [
             0.1111111111111111,
             "#46039f"
            ],
            [
             0.2222222222222222,
             "#7201a8"
            ],
            [
             0.3333333333333333,
             "#9c179e"
            ],
            [
             0.4444444444444444,
             "#bd3786"
            ],
            [
             0.5555555555555556,
             "#d8576b"
            ],
            [
             0.6666666666666666,
             "#ed7953"
            ],
            [
             0.7777777777777778,
             "#fb9f3a"
            ],
            [
             0.8888888888888888,
             "#fdca26"
            ],
            [
             1,
             "#f0f921"
            ]
           ],
           "sequentialminus": [
            [
             0,
             "#0d0887"
            ],
            [
             0.1111111111111111,
             "#46039f"
            ],
            [
             0.2222222222222222,
             "#7201a8"
            ],
            [
             0.3333333333333333,
             "#9c179e"
            ],
            [
             0.4444444444444444,
             "#bd3786"
            ],
            [
             0.5555555555555556,
             "#d8576b"
            ],
            [
             0.6666666666666666,
             "#ed7953"
            ],
            [
             0.7777777777777778,
             "#fb9f3a"
            ],
            [
             0.8888888888888888,
             "#fdca26"
            ],
            [
             1,
             "#f0f921"
            ]
           ]
          },
          "colorway": [
           "#636efa",
           "#EF553B",
           "#00cc96",
           "#ab63fa",
           "#FFA15A",
           "#19d3f3",
           "#FF6692",
           "#B6E880",
           "#FF97FF",
           "#FECB52"
          ],
          "font": {
           "color": "#2a3f5f"
          },
          "geo": {
           "bgcolor": "white",
           "lakecolor": "white",
           "landcolor": "#E5ECF6",
           "showlakes": true,
           "showland": true,
           "subunitcolor": "white"
          },
          "hoverlabel": {
           "align": "left"
          },
          "hovermode": "closest",
          "mapbox": {
           "style": "light"
          },
          "paper_bgcolor": "white",
          "plot_bgcolor": "#E5ECF6",
          "polar": {
           "angularaxis": {
            "gridcolor": "white",
            "linecolor": "white",
            "ticks": ""
           },
           "bgcolor": "#E5ECF6",
           "radialaxis": {
            "gridcolor": "white",
            "linecolor": "white",
            "ticks": ""
           }
          },
          "scene": {
           "xaxis": {
            "backgroundcolor": "#E5ECF6",
            "gridcolor": "white",
            "gridwidth": 2,
            "linecolor": "white",
            "showbackground": true,
            "ticks": "",
            "zerolinecolor": "white"
           },
           "yaxis": {
            "backgroundcolor": "#E5ECF6",
            "gridcolor": "white",
            "gridwidth": 2,
            "linecolor": "white",
            "showbackground": true,
            "ticks": "",
            "zerolinecolor": "white"
           },
           "zaxis": {
            "backgroundcolor": "#E5ECF6",
            "gridcolor": "white",
            "gridwidth": 2,
            "linecolor": "white",
            "showbackground": true,
            "ticks": "",
            "zerolinecolor": "white"
           }
          },
          "shapedefaults": {
           "line": {
            "color": "#2a3f5f"
           }
          },
          "ternary": {
           "aaxis": {
            "gridcolor": "white",
            "linecolor": "white",
            "ticks": ""
           },
           "baxis": {
            "gridcolor": "white",
            "linecolor": "white",
            "ticks": ""
           },
           "bgcolor": "#E5ECF6",
           "caxis": {
            "gridcolor": "white",
            "linecolor": "white",
            "ticks": ""
           }
          },
          "title": {
           "x": 0.05
          },
          "xaxis": {
           "automargin": true,
           "gridcolor": "white",
           "linecolor": "white",
           "ticks": "",
           "title": {
            "standoff": 15
           },
           "zerolinecolor": "white",
           "zerolinewidth": 2
          },
          "yaxis": {
           "automargin": true,
           "gridcolor": "white",
           "linecolor": "white",
           "ticks": "",
           "title": {
            "standoff": 15
           },
           "zerolinecolor": "white",
           "zerolinewidth": 2
          }
         }
        },
        "title": {
         "text": "Residual plot of Combined corporate income tax rate"
        },
        "xaxis": {
         "anchor": "y",
         "domain": [
          0,
          1
         ],
         "title": {
          "text": "Combined corporate income tax rate"
         }
        },
        "yaxis": {
         "anchor": "x",
         "domain": [
          0,
          1
         ],
         "title": {
          "text": "Residuals"
         }
        }
       }
      }
     },
     "metadata": {},
     "output_type": "display_data"
    },
    {
     "data": {
      "application/vnd.plotly.v1+json": {
       "config": {
        "plotlyServerURL": "https://plot.ly"
       },
       "data": [
        {
         "hovertemplate": "Education spending=%{x}<br>Residuals=%{y}<extra></extra>",
         "legendgroup": "",
         "marker": {
          "color": "#636efa",
          "symbol": "circle"
         },
         "mode": "markers",
         "name": "",
         "orientation": "v",
         "showlegend": false,
         "type": "scatter",
         "x": [
          -0.6009941971356422,
          1.5090450957980586,
          0.5251511023471392,
          -2.5083386769360105,
          -0.760206909147432,
          0.8753776641397876,
          0.700439658506137,
          -0.8360425376238201,
          0.1277194840957279,
          -0.42120620617639704,
          -0.18760533029559145,
          0.2843406264729526,
          -0.3233977904989399,
          0.7335912869559965,
          0.6304312206226028,
          1.4877871372427314,
          -1.3864868623579112,
          0.06581330234390197,
          -0.2656808934014266,
          -0.6649970760275649,
          -0.6898968548496767,
          -0.5224928419542932,
          1.394665614506963,
          0.7514556465417288,
          -1.0742706079633841,
          1.114380900182573,
          2.514221490887792,
          -0.1537335084597337,
          -0.1761929145014727,
          -0.7984845281863551,
          -0.5830748007888981,
          0.0027356455685801804,
          0.3628052997917085,
          1.0203647798474211,
          -0.09484733196266587,
          -0.24405333578251026,
          1.0681559556655402,
          -0.6197234960562522,
          -0.2867468723489326,
          1.2146484013037522,
          1.4999593100811177,
          -0.3985740290358042,
          -0.32846882838714986,
          -2.4691581630528643,
          0.7309629585453824,
          1.6282468897879547,
          0.10915276682763626,
          0.10766455148716825,
          -0.655299603279558,
          1.3941823769026278,
          1.1046268353268958,
          -0.26402504978378766,
          1.0883231518491936,
          -0.5868518138429623,
          -0.3129603834267057,
          -0.6194704908674915,
          -0.837047714971117,
          0.2813714595405875,
          -0.5107008550488278,
          0.6797415177385842,
          0.45792845286420125,
          0.7679077098561444,
          0.6173464113856143,
          -0.7705622398882247,
          -0.1986906026971661,
          -0.24536853617726767,
          0.9412361925880913,
          0.21336529540472082,
          -0.8270511812978707,
          0.5244364228143276,
          -0.7108668639242528,
          2.2000625813879027,
          -0.27771816509620095,
          -0.8411295557786336,
          0.25157344281834537,
          -0.0065482292471432954,
          1.1948526175421565,
          -0.7032353182403281,
          -2.444921176739346,
          0.1916878052405437,
          0.1275253745308184,
          -0.02385961429521886,
          0.05763163536352986,
          -0.7350436495796512,
          -0.20022756078176587,
          -0.6468751899673423,
          0.35139248375829674,
          -0.1644797736361371,
          0.3002917284867588,
          -0.4915985991090313,
          0.7482477727826845,
          -0.72590246944185,
          -1.3777165132747644,
          0.46396775852921135,
          0.8986866726667092,
          -0.36357085145197676,
          -2.43335575633059,
          0.2861391158136471,
          0.780633967705134,
          1.319047462344322,
          -2.526074182900489,
          1.320991493447964,
          -0.5417781696285179,
          -0.4189267522970826,
          -0.6982689007858286,
          -3.47491275507496,
          -2.3982284008185073,
          -0.0013983884102158474,
          -0.12348989083237949,
          -0.006280882713341209,
          -0.5714787218974435,
          -0.7238853846429175,
          -0.8409653153961956,
          -0.00479244555217525,
          0.1994909468095175,
          -0.5873723489443438,
          -0.07304722541862933,
          1.5596745146725466,
          -0.5204746058635185,
          0.15527102554266575
         ],
         "xaxis": "x",
         "y": [
          -0.033384157129372816,
          -0.0013317154015389243,
          0.030238383408273617,
          0.0680302754189977,
          -0.034956312547245016,
          0.04218787813048308,
          -0.007832951761780282,
          0.03488022646940281,
          -0.02059957018924813,
          0.037180649876763616,
          0.0471042690913796,
          0.016114605696050777,
          -0.019407437886018397,
          -0.026822910709218023,
          -0.00875720678949582,
          -0.020900003380692422,
          -0.001954953598326925,
          -0.016201223491338235,
          0.023588401357635513,
          0.033527882834280764,
          -0.04981174654941911,
          0.011143912535614586,
          0.009976293936422131,
          -0.017331389245818896,
          -0.018441787048159575,
          -0.006989289544756416,
          -0.004376934875604921,
          -0.02393387503886235,
          0.02018194994189415,
          0.02348853896617159,
          -0.031982829960250314,
          -0.019390442775290895,
          0.02487282447977135,
          0.03624499367137779,
          0.06511049212756881,
          -0.0070521094614157676,
          0.01159173495009741,
          -0.027561658540162848,
          0.04369999150028503,
          0.010506660357418207,
          0.017343156786355285,
          0.016305338417195003,
          -0.0007269173904836945,
          0.037779698397149286,
          0.005359386947798361,
          0.013552551474676322,
          -0.010023688606845438,
          -0.0070870574803386654,
          -0.01386859340986818,
          0.004141761810504518,
          0.00751007406216625,
          0.02383882538608295,
          -0.01673394281285423,
          0.009695512994953193,
          0.02521423999252498,
          -0.027018173304551363,
          0.0364362671059828,
          -0.015078227620501317,
          0.03269674164943842,
          0.013269280109307446,
          -0.004652650286968207,
          -0.006429688893980601,
          -0.007164701831888887,
          -0.045472070674267395,
          0.010923056434839151,
          0.020951118077449538,
          0.08060633343465601,
          0.010702340933716636,
          0.0006849755286659209,
          0.022235550576475804,
          -0.028107849027040666,
          0.016482631079420385,
          0.07672367247152218,
          0.04097634756210056,
          -0.035850413857013874,
          0.029152881322354995,
          -0.018289824079025907,
          -0.018759741145300934,
          0.0442712055127924,
          -0.003676901688836942,
          -0.009831037585273927,
          -0.007067404305365954,
          0.0022932079702606134,
          0.04002958053615768,
          0.006692848559830988,
          -0.028066879103847697,
          -0.0035997089582305852,
          -0.0016017449644294968,
          -0.013857824616633763,
          0.020766722052285358,
          0.00498011838858925,
          0.030669642768724525,
          -0.01415587747221625,
          0.003177749347551384,
          0.0009187119612680816,
          0.06345349919037341,
          0.025805031695359804,
          -0.0001701776111775466,
          -0.0064882494830753035,
          -0.01764151893927407,
          0.04630715695340981,
          0.008334361901278953,
          0.039336113263176486,
          0.03197874530765982,
          -0.02213926518837911,
          -0.02801304273786351,
          -0.008117526404054443,
          -0.0027719151682934484,
          0.004965950431016164,
          -0.024244149944225635,
          0.00852786483959661,
          -0.027216954592722054,
          -0.06330064975479521,
          -0.011402910821716905,
          -0.009680714988973549,
          0.007501806024007074,
          0.04190979475049994,
          -0.015487265070270373,
          -0.0006355242720026411,
          -0.008727666677694368
         ],
         "yaxis": "y"
        }
       ],
       "layout": {
        "legend": {
         "tracegroupgap": 0
        },
        "template": {
         "data": {
          "bar": [
           {
            "error_x": {
             "color": "#2a3f5f"
            },
            "error_y": {
             "color": "#2a3f5f"
            },
            "marker": {
             "line": {
              "color": "#E5ECF6",
              "width": 0.5
             },
             "pattern": {
              "fillmode": "overlay",
              "size": 10,
              "solidity": 0.2
             }
            },
            "type": "bar"
           }
          ],
          "barpolar": [
           {
            "marker": {
             "line": {
              "color": "#E5ECF6",
              "width": 0.5
             },
             "pattern": {
              "fillmode": "overlay",
              "size": 10,
              "solidity": 0.2
             }
            },
            "type": "barpolar"
           }
          ],
          "carpet": [
           {
            "aaxis": {
             "endlinecolor": "#2a3f5f",
             "gridcolor": "white",
             "linecolor": "white",
             "minorgridcolor": "white",
             "startlinecolor": "#2a3f5f"
            },
            "baxis": {
             "endlinecolor": "#2a3f5f",
             "gridcolor": "white",
             "linecolor": "white",
             "minorgridcolor": "white",
             "startlinecolor": "#2a3f5f"
            },
            "type": "carpet"
           }
          ],
          "choropleth": [
           {
            "colorbar": {
             "outlinewidth": 0,
             "ticks": ""
            },
            "type": "choropleth"
           }
          ],
          "contour": [
           {
            "colorbar": {
             "outlinewidth": 0,
             "ticks": ""
            },
            "colorscale": [
             [
              0,
              "#0d0887"
             ],
             [
              0.1111111111111111,
              "#46039f"
             ],
             [
              0.2222222222222222,
              "#7201a8"
             ],
             [
              0.3333333333333333,
              "#9c179e"
             ],
             [
              0.4444444444444444,
              "#bd3786"
             ],
             [
              0.5555555555555556,
              "#d8576b"
             ],
             [
              0.6666666666666666,
              "#ed7953"
             ],
             [
              0.7777777777777778,
              "#fb9f3a"
             ],
             [
              0.8888888888888888,
              "#fdca26"
             ],
             [
              1,
              "#f0f921"
             ]
            ],
            "type": "contour"
           }
          ],
          "contourcarpet": [
           {
            "colorbar": {
             "outlinewidth": 0,
             "ticks": ""
            },
            "type": "contourcarpet"
           }
          ],
          "heatmap": [
           {
            "colorbar": {
             "outlinewidth": 0,
             "ticks": ""
            },
            "colorscale": [
             [
              0,
              "#0d0887"
             ],
             [
              0.1111111111111111,
              "#46039f"
             ],
             [
              0.2222222222222222,
              "#7201a8"
             ],
             [
              0.3333333333333333,
              "#9c179e"
             ],
             [
              0.4444444444444444,
              "#bd3786"
             ],
             [
              0.5555555555555556,
              "#d8576b"
             ],
             [
              0.6666666666666666,
              "#ed7953"
             ],
             [
              0.7777777777777778,
              "#fb9f3a"
             ],
             [
              0.8888888888888888,
              "#fdca26"
             ],
             [
              1,
              "#f0f921"
             ]
            ],
            "type": "heatmap"
           }
          ],
          "heatmapgl": [
           {
            "colorbar": {
             "outlinewidth": 0,
             "ticks": ""
            },
            "colorscale": [
             [
              0,
              "#0d0887"
             ],
             [
              0.1111111111111111,
              "#46039f"
             ],
             [
              0.2222222222222222,
              "#7201a8"
             ],
             [
              0.3333333333333333,
              "#9c179e"
             ],
             [
              0.4444444444444444,
              "#bd3786"
             ],
             [
              0.5555555555555556,
              "#d8576b"
             ],
             [
              0.6666666666666666,
              "#ed7953"
             ],
             [
              0.7777777777777778,
              "#fb9f3a"
             ],
             [
              0.8888888888888888,
              "#fdca26"
             ],
             [
              1,
              "#f0f921"
             ]
            ],
            "type": "heatmapgl"
           }
          ],
          "histogram": [
           {
            "marker": {
             "pattern": {
              "fillmode": "overlay",
              "size": 10,
              "solidity": 0.2
             }
            },
            "type": "histogram"
           }
          ],
          "histogram2d": [
           {
            "colorbar": {
             "outlinewidth": 0,
             "ticks": ""
            },
            "colorscale": [
             [
              0,
              "#0d0887"
             ],
             [
              0.1111111111111111,
              "#46039f"
             ],
             [
              0.2222222222222222,
              "#7201a8"
             ],
             [
              0.3333333333333333,
              "#9c179e"
             ],
             [
              0.4444444444444444,
              "#bd3786"
             ],
             [
              0.5555555555555556,
              "#d8576b"
             ],
             [
              0.6666666666666666,
              "#ed7953"
             ],
             [
              0.7777777777777778,
              "#fb9f3a"
             ],
             [
              0.8888888888888888,
              "#fdca26"
             ],
             [
              1,
              "#f0f921"
             ]
            ],
            "type": "histogram2d"
           }
          ],
          "histogram2dcontour": [
           {
            "colorbar": {
             "outlinewidth": 0,
             "ticks": ""
            },
            "colorscale": [
             [
              0,
              "#0d0887"
             ],
             [
              0.1111111111111111,
              "#46039f"
             ],
             [
              0.2222222222222222,
              "#7201a8"
             ],
             [
              0.3333333333333333,
              "#9c179e"
             ],
             [
              0.4444444444444444,
              "#bd3786"
             ],
             [
              0.5555555555555556,
              "#d8576b"
             ],
             [
              0.6666666666666666,
              "#ed7953"
             ],
             [
              0.7777777777777778,
              "#fb9f3a"
             ],
             [
              0.8888888888888888,
              "#fdca26"
             ],
             [
              1,
              "#f0f921"
             ]
            ],
            "type": "histogram2dcontour"
           }
          ],
          "mesh3d": [
           {
            "colorbar": {
             "outlinewidth": 0,
             "ticks": ""
            },
            "type": "mesh3d"
           }
          ],
          "parcoords": [
           {
            "line": {
             "colorbar": {
              "outlinewidth": 0,
              "ticks": ""
             }
            },
            "type": "parcoords"
           }
          ],
          "pie": [
           {
            "automargin": true,
            "type": "pie"
           }
          ],
          "scatter": [
           {
            "fillpattern": {
             "fillmode": "overlay",
             "size": 10,
             "solidity": 0.2
            },
            "type": "scatter"
           }
          ],
          "scatter3d": [
           {
            "line": {
             "colorbar": {
              "outlinewidth": 0,
              "ticks": ""
             }
            },
            "marker": {
             "colorbar": {
              "outlinewidth": 0,
              "ticks": ""
             }
            },
            "type": "scatter3d"
           }
          ],
          "scattercarpet": [
           {
            "marker": {
             "colorbar": {
              "outlinewidth": 0,
              "ticks": ""
             }
            },
            "type": "scattercarpet"
           }
          ],
          "scattergeo": [
           {
            "marker": {
             "colorbar": {
              "outlinewidth": 0,
              "ticks": ""
             }
            },
            "type": "scattergeo"
           }
          ],
          "scattergl": [
           {
            "marker": {
             "colorbar": {
              "outlinewidth": 0,
              "ticks": ""
             }
            },
            "type": "scattergl"
           }
          ],
          "scattermapbox": [
           {
            "marker": {
             "colorbar": {
              "outlinewidth": 0,
              "ticks": ""
             }
            },
            "type": "scattermapbox"
           }
          ],
          "scatterpolar": [
           {
            "marker": {
             "colorbar": {
              "outlinewidth": 0,
              "ticks": ""
             }
            },
            "type": "scatterpolar"
           }
          ],
          "scatterpolargl": [
           {
            "marker": {
             "colorbar": {
              "outlinewidth": 0,
              "ticks": ""
             }
            },
            "type": "scatterpolargl"
           }
          ],
          "scatterternary": [
           {
            "marker": {
             "colorbar": {
              "outlinewidth": 0,
              "ticks": ""
             }
            },
            "type": "scatterternary"
           }
          ],
          "surface": [
           {
            "colorbar": {
             "outlinewidth": 0,
             "ticks": ""
            },
            "colorscale": [
             [
              0,
              "#0d0887"
             ],
             [
              0.1111111111111111,
              "#46039f"
             ],
             [
              0.2222222222222222,
              "#7201a8"
             ],
             [
              0.3333333333333333,
              "#9c179e"
             ],
             [
              0.4444444444444444,
              "#bd3786"
             ],
             [
              0.5555555555555556,
              "#d8576b"
             ],
             [
              0.6666666666666666,
              "#ed7953"
             ],
             [
              0.7777777777777778,
              "#fb9f3a"
             ],
             [
              0.8888888888888888,
              "#fdca26"
             ],
             [
              1,
              "#f0f921"
             ]
            ],
            "type": "surface"
           }
          ],
          "table": [
           {
            "cells": {
             "fill": {
              "color": "#EBF0F8"
             },
             "line": {
              "color": "white"
             }
            },
            "header": {
             "fill": {
              "color": "#C8D4E3"
             },
             "line": {
              "color": "white"
             }
            },
            "type": "table"
           }
          ]
         },
         "layout": {
          "annotationdefaults": {
           "arrowcolor": "#2a3f5f",
           "arrowhead": 0,
           "arrowwidth": 1
          },
          "autotypenumbers": "strict",
          "coloraxis": {
           "colorbar": {
            "outlinewidth": 0,
            "ticks": ""
           }
          },
          "colorscale": {
           "diverging": [
            [
             0,
             "#8e0152"
            ],
            [
             0.1,
             "#c51b7d"
            ],
            [
             0.2,
             "#de77ae"
            ],
            [
             0.3,
             "#f1b6da"
            ],
            [
             0.4,
             "#fde0ef"
            ],
            [
             0.5,
             "#f7f7f7"
            ],
            [
             0.6,
             "#e6f5d0"
            ],
            [
             0.7,
             "#b8e186"
            ],
            [
             0.8,
             "#7fbc41"
            ],
            [
             0.9,
             "#4d9221"
            ],
            [
             1,
             "#276419"
            ]
           ],
           "sequential": [
            [
             0,
             "#0d0887"
            ],
            [
             0.1111111111111111,
             "#46039f"
            ],
            [
             0.2222222222222222,
             "#7201a8"
            ],
            [
             0.3333333333333333,
             "#9c179e"
            ],
            [
             0.4444444444444444,
             "#bd3786"
            ],
            [
             0.5555555555555556,
             "#d8576b"
            ],
            [
             0.6666666666666666,
             "#ed7953"
            ],
            [
             0.7777777777777778,
             "#fb9f3a"
            ],
            [
             0.8888888888888888,
             "#fdca26"
            ],
            [
             1,
             "#f0f921"
            ]
           ],
           "sequentialminus": [
            [
             0,
             "#0d0887"
            ],
            [
             0.1111111111111111,
             "#46039f"
            ],
            [
             0.2222222222222222,
             "#7201a8"
            ],
            [
             0.3333333333333333,
             "#9c179e"
            ],
            [
             0.4444444444444444,
             "#bd3786"
            ],
            [
             0.5555555555555556,
             "#d8576b"
            ],
            [
             0.6666666666666666,
             "#ed7953"
            ],
            [
             0.7777777777777778,
             "#fb9f3a"
            ],
            [
             0.8888888888888888,
             "#fdca26"
            ],
            [
             1,
             "#f0f921"
            ]
           ]
          },
          "colorway": [
           "#636efa",
           "#EF553B",
           "#00cc96",
           "#ab63fa",
           "#FFA15A",
           "#19d3f3",
           "#FF6692",
           "#B6E880",
           "#FF97FF",
           "#FECB52"
          ],
          "font": {
           "color": "#2a3f5f"
          },
          "geo": {
           "bgcolor": "white",
           "lakecolor": "white",
           "landcolor": "#E5ECF6",
           "showlakes": true,
           "showland": true,
           "subunitcolor": "white"
          },
          "hoverlabel": {
           "align": "left"
          },
          "hovermode": "closest",
          "mapbox": {
           "style": "light"
          },
          "paper_bgcolor": "white",
          "plot_bgcolor": "#E5ECF6",
          "polar": {
           "angularaxis": {
            "gridcolor": "white",
            "linecolor": "white",
            "ticks": ""
           },
           "bgcolor": "#E5ECF6",
           "radialaxis": {
            "gridcolor": "white",
            "linecolor": "white",
            "ticks": ""
           }
          },
          "scene": {
           "xaxis": {
            "backgroundcolor": "#E5ECF6",
            "gridcolor": "white",
            "gridwidth": 2,
            "linecolor": "white",
            "showbackground": true,
            "ticks": "",
            "zerolinecolor": "white"
           },
           "yaxis": {
            "backgroundcolor": "#E5ECF6",
            "gridcolor": "white",
            "gridwidth": 2,
            "linecolor": "white",
            "showbackground": true,
            "ticks": "",
            "zerolinecolor": "white"
           },
           "zaxis": {
            "backgroundcolor": "#E5ECF6",
            "gridcolor": "white",
            "gridwidth": 2,
            "linecolor": "white",
            "showbackground": true,
            "ticks": "",
            "zerolinecolor": "white"
           }
          },
          "shapedefaults": {
           "line": {
            "color": "#2a3f5f"
           }
          },
          "ternary": {
           "aaxis": {
            "gridcolor": "white",
            "linecolor": "white",
            "ticks": ""
           },
           "baxis": {
            "gridcolor": "white",
            "linecolor": "white",
            "ticks": ""
           },
           "bgcolor": "#E5ECF6",
           "caxis": {
            "gridcolor": "white",
            "linecolor": "white",
            "ticks": ""
           }
          },
          "title": {
           "x": 0.05
          },
          "xaxis": {
           "automargin": true,
           "gridcolor": "white",
           "linecolor": "white",
           "ticks": "",
           "title": {
            "standoff": 15
           },
           "zerolinecolor": "white",
           "zerolinewidth": 2
          },
          "yaxis": {
           "automargin": true,
           "gridcolor": "white",
           "linecolor": "white",
           "ticks": "",
           "title": {
            "standoff": 15
           },
           "zerolinecolor": "white",
           "zerolinewidth": 2
          }
         }
        },
        "title": {
         "text": "Residual plot of Education spending"
        },
        "xaxis": {
         "anchor": "y",
         "domain": [
          0,
          1
         ],
         "title": {
          "text": "Education spending"
         }
        },
        "yaxis": {
         "anchor": "x",
         "domain": [
          0,
          1
         ],
         "title": {
          "text": "Residuals"
         }
        }
       }
      }
     },
     "metadata": {},
     "output_type": "display_data"
    },
    {
     "data": {
      "application/vnd.plotly.v1+json": {
       "config": {
        "plotlyServerURL": "https://plot.ly"
       },
       "data": [
        {
         "hovertemplate": "Health spending=%{x}<br>Residuals=%{y}<extra></extra>",
         "legendgroup": "",
         "marker": {
          "color": "#636efa",
          "symbol": "circle"
         },
         "mode": "markers",
         "name": "",
         "orientation": "v",
         "showlegend": false,
         "type": "scatter",
         "x": [
          0.7039789556636077,
          0.36781831176920193,
          -1.5666753474492399,
          -2.8939423487248366,
          -0.027742816510321937,
          0.9046056367119699,
          0.4562024475226648,
          0.1686717534964933,
          0.5764047916220258,
          -0.11339743293892009,
          -0.6759964170378244,
          -1.2495834627275233,
          0.47452764605512543,
          0.15840434720434612,
          0.6179379812656955,
          -0.1436498550368617,
          -0.982536129838093,
          -2.4680218900225306,
          1.091093190244867,
          -0.3592047759418902,
          -0.5447991827779168,
          -0.8407400567622575,
          0.3512886386680339,
          0.5654897258952619,
          0.6938821158985375,
          1.6240990453742443,
          -0.05924700838433283,
          0.45936322746598535,
          0.7584223549637159,
          -0.2711826972495157,
          0.5599075700731811,
          -2.5457578058486012,
          -1.466026285578893,
          0.5961887394367448,
          -0.9676651728695208,
          0.24564606876508713,
          1.3521358185457788,
          0.33011719561428793,
          -0.17016673375623687,
          1.4207609889872774,
          0.5997096368409374,
          0.41299673999115544,
          2.0859919464635865,
          -2.880504489627345,
          0.0015004965992972544,
          0.9678870245061812,
          -2.4294035045979707,
          0.9714190951916456,
          0.28549564836090024,
          0.745214140915188,
          1.3948559646810061,
          -0.6970181327198998,
          0.40870444809198236,
          -0.9467899859931069,
          0.8280599318646468,
          0.6177900909086499,
          0.17558637659861426,
          0.3353558130211763,
          -0.8045355577339767,
          0.726648002296254,
          0.9105335091464766,
          0.8788619093472576,
          0.5900515949895312,
          -0.4019954059158958,
          -0.5680878202467367,
          1.1208144414881818,
          0.47965435600102335,
          0.19740799357270788,
          -0.2768169968722704,
          -0.4096151835584867,
          0.13261784110392566,
          -0.5659287409504112,
          -0.9323270288174204,
          0.23824401198981257,
          0.6800390459807486,
          0.46793774231606255,
          0.28124169877253824,
          0.1648617768854315,
          -2.87320987593946,
          -2.4042730493016276,
          -1.0075782769487194,
          -2.588060793952815,
          -0.9875159083632828,
          -0.2345770938345138,
          0.695663308878631,
          0.14772370978819402,
          0.4970310110829495,
          -1.0132092475618668,
          0.36448184968498126,
          -0.8498760297203982,
          0.3730082560482674,
          0.3581747646839213,
          -0.5801898102773254,
          0.25529787905443774,
          0.5173407011381955,
          -0.8320468312592639,
          -2.855633610642643,
          0.16132951322476147,
          0.49945748583612837,
          0.06279443164702563,
          -2.8747664074373387,
          0.3556141258662033,
          0.5365814317458328,
          0.5546035638766381,
          0.6151381924981795,
          -3.6080881160971345,
          -2.767862562248877,
          -0.9153237838860299,
          0.6755125739711599,
          0.40893931466873795,
          -0.9296007604719884,
          0.20041023796446258,
          -0.44144857005845517,
          -0.6075924101634033,
          -2.430233379088937,
          -0.10252262992215389,
          -0.1398649751288838,
          -0.1976035684227069,
          1.7784558506896526,
          -0.9800738909919448
         ],
         "xaxis": "x",
         "y": [
          -0.033384157129372816,
          -0.0013317154015389243,
          0.030238383408273617,
          0.0680302754189977,
          -0.034956312547245016,
          0.04218787813048308,
          -0.007832951761780282,
          0.03488022646940281,
          -0.02059957018924813,
          0.037180649876763616,
          0.0471042690913796,
          0.016114605696050777,
          -0.019407437886018397,
          -0.026822910709218023,
          -0.00875720678949582,
          -0.020900003380692422,
          -0.001954953598326925,
          -0.016201223491338235,
          0.023588401357635513,
          0.033527882834280764,
          -0.04981174654941911,
          0.011143912535614586,
          0.009976293936422131,
          -0.017331389245818896,
          -0.018441787048159575,
          -0.006989289544756416,
          -0.004376934875604921,
          -0.02393387503886235,
          0.02018194994189415,
          0.02348853896617159,
          -0.031982829960250314,
          -0.019390442775290895,
          0.02487282447977135,
          0.03624499367137779,
          0.06511049212756881,
          -0.0070521094614157676,
          0.01159173495009741,
          -0.027561658540162848,
          0.04369999150028503,
          0.010506660357418207,
          0.017343156786355285,
          0.016305338417195003,
          -0.0007269173904836945,
          0.037779698397149286,
          0.005359386947798361,
          0.013552551474676322,
          -0.010023688606845438,
          -0.0070870574803386654,
          -0.01386859340986818,
          0.004141761810504518,
          0.00751007406216625,
          0.02383882538608295,
          -0.01673394281285423,
          0.009695512994953193,
          0.02521423999252498,
          -0.027018173304551363,
          0.0364362671059828,
          -0.015078227620501317,
          0.03269674164943842,
          0.013269280109307446,
          -0.004652650286968207,
          -0.006429688893980601,
          -0.007164701831888887,
          -0.045472070674267395,
          0.010923056434839151,
          0.020951118077449538,
          0.08060633343465601,
          0.010702340933716636,
          0.0006849755286659209,
          0.022235550576475804,
          -0.028107849027040666,
          0.016482631079420385,
          0.07672367247152218,
          0.04097634756210056,
          -0.035850413857013874,
          0.029152881322354995,
          -0.018289824079025907,
          -0.018759741145300934,
          0.0442712055127924,
          -0.003676901688836942,
          -0.009831037585273927,
          -0.007067404305365954,
          0.0022932079702606134,
          0.04002958053615768,
          0.006692848559830988,
          -0.028066879103847697,
          -0.0035997089582305852,
          -0.0016017449644294968,
          -0.013857824616633763,
          0.020766722052285358,
          0.00498011838858925,
          0.030669642768724525,
          -0.01415587747221625,
          0.003177749347551384,
          0.0009187119612680816,
          0.06345349919037341,
          0.025805031695359804,
          -0.0001701776111775466,
          -0.0064882494830753035,
          -0.01764151893927407,
          0.04630715695340981,
          0.008334361901278953,
          0.039336113263176486,
          0.03197874530765982,
          -0.02213926518837911,
          -0.02801304273786351,
          -0.008117526404054443,
          -0.0027719151682934484,
          0.004965950431016164,
          -0.024244149944225635,
          0.00852786483959661,
          -0.027216954592722054,
          -0.06330064975479521,
          -0.011402910821716905,
          -0.009680714988973549,
          0.007501806024007074,
          0.04190979475049994,
          -0.015487265070270373,
          -0.0006355242720026411,
          -0.008727666677694368
         ],
         "yaxis": "y"
        }
       ],
       "layout": {
        "legend": {
         "tracegroupgap": 0
        },
        "template": {
         "data": {
          "bar": [
           {
            "error_x": {
             "color": "#2a3f5f"
            },
            "error_y": {
             "color": "#2a3f5f"
            },
            "marker": {
             "line": {
              "color": "#E5ECF6",
              "width": 0.5
             },
             "pattern": {
              "fillmode": "overlay",
              "size": 10,
              "solidity": 0.2
             }
            },
            "type": "bar"
           }
          ],
          "barpolar": [
           {
            "marker": {
             "line": {
              "color": "#E5ECF6",
              "width": 0.5
             },
             "pattern": {
              "fillmode": "overlay",
              "size": 10,
              "solidity": 0.2
             }
            },
            "type": "barpolar"
           }
          ],
          "carpet": [
           {
            "aaxis": {
             "endlinecolor": "#2a3f5f",
             "gridcolor": "white",
             "linecolor": "white",
             "minorgridcolor": "white",
             "startlinecolor": "#2a3f5f"
            },
            "baxis": {
             "endlinecolor": "#2a3f5f",
             "gridcolor": "white",
             "linecolor": "white",
             "minorgridcolor": "white",
             "startlinecolor": "#2a3f5f"
            },
            "type": "carpet"
           }
          ],
          "choropleth": [
           {
            "colorbar": {
             "outlinewidth": 0,
             "ticks": ""
            },
            "type": "choropleth"
           }
          ],
          "contour": [
           {
            "colorbar": {
             "outlinewidth": 0,
             "ticks": ""
            },
            "colorscale": [
             [
              0,
              "#0d0887"
             ],
             [
              0.1111111111111111,
              "#46039f"
             ],
             [
              0.2222222222222222,
              "#7201a8"
             ],
             [
              0.3333333333333333,
              "#9c179e"
             ],
             [
              0.4444444444444444,
              "#bd3786"
             ],
             [
              0.5555555555555556,
              "#d8576b"
             ],
             [
              0.6666666666666666,
              "#ed7953"
             ],
             [
              0.7777777777777778,
              "#fb9f3a"
             ],
             [
              0.8888888888888888,
              "#fdca26"
             ],
             [
              1,
              "#f0f921"
             ]
            ],
            "type": "contour"
           }
          ],
          "contourcarpet": [
           {
            "colorbar": {
             "outlinewidth": 0,
             "ticks": ""
            },
            "type": "contourcarpet"
           }
          ],
          "heatmap": [
           {
            "colorbar": {
             "outlinewidth": 0,
             "ticks": ""
            },
            "colorscale": [
             [
              0,
              "#0d0887"
             ],
             [
              0.1111111111111111,
              "#46039f"
             ],
             [
              0.2222222222222222,
              "#7201a8"
             ],
             [
              0.3333333333333333,
              "#9c179e"
             ],
             [
              0.4444444444444444,
              "#bd3786"
             ],
             [
              0.5555555555555556,
              "#d8576b"
             ],
             [
              0.6666666666666666,
              "#ed7953"
             ],
             [
              0.7777777777777778,
              "#fb9f3a"
             ],
             [
              0.8888888888888888,
              "#fdca26"
             ],
             [
              1,
              "#f0f921"
             ]
            ],
            "type": "heatmap"
           }
          ],
          "heatmapgl": [
           {
            "colorbar": {
             "outlinewidth": 0,
             "ticks": ""
            },
            "colorscale": [
             [
              0,
              "#0d0887"
             ],
             [
              0.1111111111111111,
              "#46039f"
             ],
             [
              0.2222222222222222,
              "#7201a8"
             ],
             [
              0.3333333333333333,
              "#9c179e"
             ],
             [
              0.4444444444444444,
              "#bd3786"
             ],
             [
              0.5555555555555556,
              "#d8576b"
             ],
             [
              0.6666666666666666,
              "#ed7953"
             ],
             [
              0.7777777777777778,
              "#fb9f3a"
             ],
             [
              0.8888888888888888,
              "#fdca26"
             ],
             [
              1,
              "#f0f921"
             ]
            ],
            "type": "heatmapgl"
           }
          ],
          "histogram": [
           {
            "marker": {
             "pattern": {
              "fillmode": "overlay",
              "size": 10,
              "solidity": 0.2
             }
            },
            "type": "histogram"
           }
          ],
          "histogram2d": [
           {
            "colorbar": {
             "outlinewidth": 0,
             "ticks": ""
            },
            "colorscale": [
             [
              0,
              "#0d0887"
             ],
             [
              0.1111111111111111,
              "#46039f"
             ],
             [
              0.2222222222222222,
              "#7201a8"
             ],
             [
              0.3333333333333333,
              "#9c179e"
             ],
             [
              0.4444444444444444,
              "#bd3786"
             ],
             [
              0.5555555555555556,
              "#d8576b"
             ],
             [
              0.6666666666666666,
              "#ed7953"
             ],
             [
              0.7777777777777778,
              "#fb9f3a"
             ],
             [
              0.8888888888888888,
              "#fdca26"
             ],
             [
              1,
              "#f0f921"
             ]
            ],
            "type": "histogram2d"
           }
          ],
          "histogram2dcontour": [
           {
            "colorbar": {
             "outlinewidth": 0,
             "ticks": ""
            },
            "colorscale": [
             [
              0,
              "#0d0887"
             ],
             [
              0.1111111111111111,
              "#46039f"
             ],
             [
              0.2222222222222222,
              "#7201a8"
             ],
             [
              0.3333333333333333,
              "#9c179e"
             ],
             [
              0.4444444444444444,
              "#bd3786"
             ],
             [
              0.5555555555555556,
              "#d8576b"
             ],
             [
              0.6666666666666666,
              "#ed7953"
             ],
             [
              0.7777777777777778,
              "#fb9f3a"
             ],
             [
              0.8888888888888888,
              "#fdca26"
             ],
             [
              1,
              "#f0f921"
             ]
            ],
            "type": "histogram2dcontour"
           }
          ],
          "mesh3d": [
           {
            "colorbar": {
             "outlinewidth": 0,
             "ticks": ""
            },
            "type": "mesh3d"
           }
          ],
          "parcoords": [
           {
            "line": {
             "colorbar": {
              "outlinewidth": 0,
              "ticks": ""
             }
            },
            "type": "parcoords"
           }
          ],
          "pie": [
           {
            "automargin": true,
            "type": "pie"
           }
          ],
          "scatter": [
           {
            "fillpattern": {
             "fillmode": "overlay",
             "size": 10,
             "solidity": 0.2
            },
            "type": "scatter"
           }
          ],
          "scatter3d": [
           {
            "line": {
             "colorbar": {
              "outlinewidth": 0,
              "ticks": ""
             }
            },
            "marker": {
             "colorbar": {
              "outlinewidth": 0,
              "ticks": ""
             }
            },
            "type": "scatter3d"
           }
          ],
          "scattercarpet": [
           {
            "marker": {
             "colorbar": {
              "outlinewidth": 0,
              "ticks": ""
             }
            },
            "type": "scattercarpet"
           }
          ],
          "scattergeo": [
           {
            "marker": {
             "colorbar": {
              "outlinewidth": 0,
              "ticks": ""
             }
            },
            "type": "scattergeo"
           }
          ],
          "scattergl": [
           {
            "marker": {
             "colorbar": {
              "outlinewidth": 0,
              "ticks": ""
             }
            },
            "type": "scattergl"
           }
          ],
          "scattermapbox": [
           {
            "marker": {
             "colorbar": {
              "outlinewidth": 0,
              "ticks": ""
             }
            },
            "type": "scattermapbox"
           }
          ],
          "scatterpolar": [
           {
            "marker": {
             "colorbar": {
              "outlinewidth": 0,
              "ticks": ""
             }
            },
            "type": "scatterpolar"
           }
          ],
          "scatterpolargl": [
           {
            "marker": {
             "colorbar": {
              "outlinewidth": 0,
              "ticks": ""
             }
            },
            "type": "scatterpolargl"
           }
          ],
          "scatterternary": [
           {
            "marker": {
             "colorbar": {
              "outlinewidth": 0,
              "ticks": ""
             }
            },
            "type": "scatterternary"
           }
          ],
          "surface": [
           {
            "colorbar": {
             "outlinewidth": 0,
             "ticks": ""
            },
            "colorscale": [
             [
              0,
              "#0d0887"
             ],
             [
              0.1111111111111111,
              "#46039f"
             ],
             [
              0.2222222222222222,
              "#7201a8"
             ],
             [
              0.3333333333333333,
              "#9c179e"
             ],
             [
              0.4444444444444444,
              "#bd3786"
             ],
             [
              0.5555555555555556,
              "#d8576b"
             ],
             [
              0.6666666666666666,
              "#ed7953"
             ],
             [
              0.7777777777777778,
              "#fb9f3a"
             ],
             [
              0.8888888888888888,
              "#fdca26"
             ],
             [
              1,
              "#f0f921"
             ]
            ],
            "type": "surface"
           }
          ],
          "table": [
           {
            "cells": {
             "fill": {
              "color": "#EBF0F8"
             },
             "line": {
              "color": "white"
             }
            },
            "header": {
             "fill": {
              "color": "#C8D4E3"
             },
             "line": {
              "color": "white"
             }
            },
            "type": "table"
           }
          ]
         },
         "layout": {
          "annotationdefaults": {
           "arrowcolor": "#2a3f5f",
           "arrowhead": 0,
           "arrowwidth": 1
          },
          "autotypenumbers": "strict",
          "coloraxis": {
           "colorbar": {
            "outlinewidth": 0,
            "ticks": ""
           }
          },
          "colorscale": {
           "diverging": [
            [
             0,
             "#8e0152"
            ],
            [
             0.1,
             "#c51b7d"
            ],
            [
             0.2,
             "#de77ae"
            ],
            [
             0.3,
             "#f1b6da"
            ],
            [
             0.4,
             "#fde0ef"
            ],
            [
             0.5,
             "#f7f7f7"
            ],
            [
             0.6,
             "#e6f5d0"
            ],
            [
             0.7,
             "#b8e186"
            ],
            [
             0.8,
             "#7fbc41"
            ],
            [
             0.9,
             "#4d9221"
            ],
            [
             1,
             "#276419"
            ]
           ],
           "sequential": [
            [
             0,
             "#0d0887"
            ],
            [
             0.1111111111111111,
             "#46039f"
            ],
            [
             0.2222222222222222,
             "#7201a8"
            ],
            [
             0.3333333333333333,
             "#9c179e"
            ],
            [
             0.4444444444444444,
             "#bd3786"
            ],
            [
             0.5555555555555556,
             "#d8576b"
            ],
            [
             0.6666666666666666,
             "#ed7953"
            ],
            [
             0.7777777777777778,
             "#fb9f3a"
            ],
            [
             0.8888888888888888,
             "#fdca26"
            ],
            [
             1,
             "#f0f921"
            ]
           ],
           "sequentialminus": [
            [
             0,
             "#0d0887"
            ],
            [
             0.1111111111111111,
             "#46039f"
            ],
            [
             0.2222222222222222,
             "#7201a8"
            ],
            [
             0.3333333333333333,
             "#9c179e"
            ],
            [
             0.4444444444444444,
             "#bd3786"
            ],
            [
             0.5555555555555556,
             "#d8576b"
            ],
            [
             0.6666666666666666,
             "#ed7953"
            ],
            [
             0.7777777777777778,
             "#fb9f3a"
            ],
            [
             0.8888888888888888,
             "#fdca26"
            ],
            [
             1,
             "#f0f921"
            ]
           ]
          },
          "colorway": [
           "#636efa",
           "#EF553B",
           "#00cc96",
           "#ab63fa",
           "#FFA15A",
           "#19d3f3",
           "#FF6692",
           "#B6E880",
           "#FF97FF",
           "#FECB52"
          ],
          "font": {
           "color": "#2a3f5f"
          },
          "geo": {
           "bgcolor": "white",
           "lakecolor": "white",
           "landcolor": "#E5ECF6",
           "showlakes": true,
           "showland": true,
           "subunitcolor": "white"
          },
          "hoverlabel": {
           "align": "left"
          },
          "hovermode": "closest",
          "mapbox": {
           "style": "light"
          },
          "paper_bgcolor": "white",
          "plot_bgcolor": "#E5ECF6",
          "polar": {
           "angularaxis": {
            "gridcolor": "white",
            "linecolor": "white",
            "ticks": ""
           },
           "bgcolor": "#E5ECF6",
           "radialaxis": {
            "gridcolor": "white",
            "linecolor": "white",
            "ticks": ""
           }
          },
          "scene": {
           "xaxis": {
            "backgroundcolor": "#E5ECF6",
            "gridcolor": "white",
            "gridwidth": 2,
            "linecolor": "white",
            "showbackground": true,
            "ticks": "",
            "zerolinecolor": "white"
           },
           "yaxis": {
            "backgroundcolor": "#E5ECF6",
            "gridcolor": "white",
            "gridwidth": 2,
            "linecolor": "white",
            "showbackground": true,
            "ticks": "",
            "zerolinecolor": "white"
           },
           "zaxis": {
            "backgroundcolor": "#E5ECF6",
            "gridcolor": "white",
            "gridwidth": 2,
            "linecolor": "white",
            "showbackground": true,
            "ticks": "",
            "zerolinecolor": "white"
           }
          },
          "shapedefaults": {
           "line": {
            "color": "#2a3f5f"
           }
          },
          "ternary": {
           "aaxis": {
            "gridcolor": "white",
            "linecolor": "white",
            "ticks": ""
           },
           "baxis": {
            "gridcolor": "white",
            "linecolor": "white",
            "ticks": ""
           },
           "bgcolor": "#E5ECF6",
           "caxis": {
            "gridcolor": "white",
            "linecolor": "white",
            "ticks": ""
           }
          },
          "title": {
           "x": 0.05
          },
          "xaxis": {
           "automargin": true,
           "gridcolor": "white",
           "linecolor": "white",
           "ticks": "",
           "title": {
            "standoff": 15
           },
           "zerolinecolor": "white",
           "zerolinewidth": 2
          },
          "yaxis": {
           "automargin": true,
           "gridcolor": "white",
           "linecolor": "white",
           "ticks": "",
           "title": {
            "standoff": 15
           },
           "zerolinecolor": "white",
           "zerolinewidth": 2
          }
         }
        },
        "title": {
         "text": "Residual plot of Health spending"
        },
        "xaxis": {
         "anchor": "y",
         "domain": [
          0,
          1
         ],
         "title": {
          "text": "Health spending"
         }
        },
        "yaxis": {
         "anchor": "x",
         "domain": [
          0,
          1
         ],
         "title": {
          "text": "Residuals"
         }
        }
       }
      }
     },
     "metadata": {},
     "output_type": "display_data"
    },
    {
     "data": {
      "application/vnd.plotly.v1+json": {
       "config": {
        "plotlyServerURL": "https://plot.ly"
       },
       "data": [
        {
         "hovertemplate": "Housing spending=%{x}<br>Residuals=%{y}<extra></extra>",
         "legendgroup": "",
         "marker": {
          "color": "#636efa",
          "symbol": "circle"
         },
         "mode": "markers",
         "name": "",
         "orientation": "v",
         "showlegend": false,
         "type": "scatter",
         "x": [
          -0.41113932209412557,
          -0.10493528790944523,
          -0.6061490548019466,
          -0.8933950958783048,
          -0.2384147503918125,
          -0.08611807923526735,
          0.5563104459158354,
          -0.8572015292650634,
          -0.4296884100894452,
          -0.9199731546263354,
          2.250939392305965,
          -0.6397238499450777,
          0.23574246718144967,
          1.0143171210501611,
          1.0096501404653044,
          -0.958679838943427,
          1.6853221853458875,
          -0.8359648952998979,
          -0.6484467609871151,
          -0.36278518222038647,
          -0.001762197302222916,
          -0.958679838943427,
          -0.056388513539131956,
          1.0657035844366485,
          -0.9387523296007676,
          1.076872209066865,
          -0.26808730978840917,
          0.39044526461867407,
          -0.571568615165482,
          1.7161670459675686,
          -0.425348205319166,
          -0.8282080358414889,
          -0.6161592998387042,
          -0.22339397751662582,
          -0.799300048067249,
          -0.49532141781468514,
          1.1105371866573561,
          0.5426393025850387,
          -0.2437271981786196,
          1.1766502662121747,
          0.7703915482075884,
          0.7569976776323072,
          -0.24807127311301708,
          -0.870037343723325,
          -0.10102358068921671,
          1.4431360725477786,
          -0.8662416202029597,
          -0.5996955591344306,
          0.4008340653916888,
          0.05029894759764922,
          1.1281292797986482,
          -0.7208411233153859,
          1.2026889009287944,
          -0.958679838943427,
          1.9450422620716572,
          -0.11985522124530773,
          -0.8660821719598724,
          1.8925342616139618,
          -0.7318673478911625,
          2.9260899253967296,
          0.9795804828756159,
          -0.441534034511857,
          -0.34678107713042405,
          -0.9467437393005544,
          -0.958679838943427,
          -0.6739475770411305,
          0.3663393238022852,
          -0.7077003208760735,
          -0.8412626856828692,
          2.1787067392279207,
          -0.25449430272571605,
          -0.33594438393316484,
          -0.8047317695997647,
          -0.8232522578399223,
          1.820755760929844,
          -0.5556232830252444,
          -0.07280739329702415,
          0.38900889884406387,
          -0.8836561720751606,
          -0.8839768983178556,
          -0.7473383428764656,
          -0.8264607175225456,
          -0.7836856171356112,
          1.8922314228735568,
          1.6163648495020566,
          0.4734886733085249,
          -0.5702589014950166,
          -0.8219226280699375,
          1.8532042781215186,
          -0.8252146352286812,
          0.03371545532574463,
          -0.8558381482474414,
          1.5373602131673147,
          -0.8024293246883982,
          -0.10626885760740876,
          2.493677811612269,
          -0.8581643332532382,
          -0.6768801085793759,
          0.3629108276239485,
          0.11339444334069847,
          -0.8956338323248415,
          0.008672239464551883,
          -0.8524478956051549,
          -0.8545722213216227,
          -0.15524559564020132,
          -0.9585317569831838,
          -0.8262583700716882,
          0.14914239260306386,
          0.8417844761044492,
          0.44891358753160937,
          -0.8101466494503466,
          -0.7928096658162238,
          -0.9224576224377479,
          0.001654886177468168,
          -0.8854871342293904,
          1.7668725208859086,
          -0.22738105820737992,
          -0.958679838943427,
          -0.26079846711595694,
          -0.7864764062360938
         ],
         "xaxis": "x",
         "y": [
          -0.033384157129372816,
          -0.0013317154015389243,
          0.030238383408273617,
          0.0680302754189977,
          -0.034956312547245016,
          0.04218787813048308,
          -0.007832951761780282,
          0.03488022646940281,
          -0.02059957018924813,
          0.037180649876763616,
          0.0471042690913796,
          0.016114605696050777,
          -0.019407437886018397,
          -0.026822910709218023,
          -0.00875720678949582,
          -0.020900003380692422,
          -0.001954953598326925,
          -0.016201223491338235,
          0.023588401357635513,
          0.033527882834280764,
          -0.04981174654941911,
          0.011143912535614586,
          0.009976293936422131,
          -0.017331389245818896,
          -0.018441787048159575,
          -0.006989289544756416,
          -0.004376934875604921,
          -0.02393387503886235,
          0.02018194994189415,
          0.02348853896617159,
          -0.031982829960250314,
          -0.019390442775290895,
          0.02487282447977135,
          0.03624499367137779,
          0.06511049212756881,
          -0.0070521094614157676,
          0.01159173495009741,
          -0.027561658540162848,
          0.04369999150028503,
          0.010506660357418207,
          0.017343156786355285,
          0.016305338417195003,
          -0.0007269173904836945,
          0.037779698397149286,
          0.005359386947798361,
          0.013552551474676322,
          -0.010023688606845438,
          -0.0070870574803386654,
          -0.01386859340986818,
          0.004141761810504518,
          0.00751007406216625,
          0.02383882538608295,
          -0.01673394281285423,
          0.009695512994953193,
          0.02521423999252498,
          -0.027018173304551363,
          0.0364362671059828,
          -0.015078227620501317,
          0.03269674164943842,
          0.013269280109307446,
          -0.004652650286968207,
          -0.006429688893980601,
          -0.007164701831888887,
          -0.045472070674267395,
          0.010923056434839151,
          0.020951118077449538,
          0.08060633343465601,
          0.010702340933716636,
          0.0006849755286659209,
          0.022235550576475804,
          -0.028107849027040666,
          0.016482631079420385,
          0.07672367247152218,
          0.04097634756210056,
          -0.035850413857013874,
          0.029152881322354995,
          -0.018289824079025907,
          -0.018759741145300934,
          0.0442712055127924,
          -0.003676901688836942,
          -0.009831037585273927,
          -0.007067404305365954,
          0.0022932079702606134,
          0.04002958053615768,
          0.006692848559830988,
          -0.028066879103847697,
          -0.0035997089582305852,
          -0.0016017449644294968,
          -0.013857824616633763,
          0.020766722052285358,
          0.00498011838858925,
          0.030669642768724525,
          -0.01415587747221625,
          0.003177749347551384,
          0.0009187119612680816,
          0.06345349919037341,
          0.025805031695359804,
          -0.0001701776111775466,
          -0.0064882494830753035,
          -0.01764151893927407,
          0.04630715695340981,
          0.008334361901278953,
          0.039336113263176486,
          0.03197874530765982,
          -0.02213926518837911,
          -0.02801304273786351,
          -0.008117526404054443,
          -0.0027719151682934484,
          0.004965950431016164,
          -0.024244149944225635,
          0.00852786483959661,
          -0.027216954592722054,
          -0.06330064975479521,
          -0.011402910821716905,
          -0.009680714988973549,
          0.007501806024007074,
          0.04190979475049994,
          -0.015487265070270373,
          -0.0006355242720026411,
          -0.008727666677694368
         ],
         "yaxis": "y"
        }
       ],
       "layout": {
        "legend": {
         "tracegroupgap": 0
        },
        "template": {
         "data": {
          "bar": [
           {
            "error_x": {
             "color": "#2a3f5f"
            },
            "error_y": {
             "color": "#2a3f5f"
            },
            "marker": {
             "line": {
              "color": "#E5ECF6",
              "width": 0.5
             },
             "pattern": {
              "fillmode": "overlay",
              "size": 10,
              "solidity": 0.2
             }
            },
            "type": "bar"
           }
          ],
          "barpolar": [
           {
            "marker": {
             "line": {
              "color": "#E5ECF6",
              "width": 0.5
             },
             "pattern": {
              "fillmode": "overlay",
              "size": 10,
              "solidity": 0.2
             }
            },
            "type": "barpolar"
           }
          ],
          "carpet": [
           {
            "aaxis": {
             "endlinecolor": "#2a3f5f",
             "gridcolor": "white",
             "linecolor": "white",
             "minorgridcolor": "white",
             "startlinecolor": "#2a3f5f"
            },
            "baxis": {
             "endlinecolor": "#2a3f5f",
             "gridcolor": "white",
             "linecolor": "white",
             "minorgridcolor": "white",
             "startlinecolor": "#2a3f5f"
            },
            "type": "carpet"
           }
          ],
          "choropleth": [
           {
            "colorbar": {
             "outlinewidth": 0,
             "ticks": ""
            },
            "type": "choropleth"
           }
          ],
          "contour": [
           {
            "colorbar": {
             "outlinewidth": 0,
             "ticks": ""
            },
            "colorscale": [
             [
              0,
              "#0d0887"
             ],
             [
              0.1111111111111111,
              "#46039f"
             ],
             [
              0.2222222222222222,
              "#7201a8"
             ],
             [
              0.3333333333333333,
              "#9c179e"
             ],
             [
              0.4444444444444444,
              "#bd3786"
             ],
             [
              0.5555555555555556,
              "#d8576b"
             ],
             [
              0.6666666666666666,
              "#ed7953"
             ],
             [
              0.7777777777777778,
              "#fb9f3a"
             ],
             [
              0.8888888888888888,
              "#fdca26"
             ],
             [
              1,
              "#f0f921"
             ]
            ],
            "type": "contour"
           }
          ],
          "contourcarpet": [
           {
            "colorbar": {
             "outlinewidth": 0,
             "ticks": ""
            },
            "type": "contourcarpet"
           }
          ],
          "heatmap": [
           {
            "colorbar": {
             "outlinewidth": 0,
             "ticks": ""
            },
            "colorscale": [
             [
              0,
              "#0d0887"
             ],
             [
              0.1111111111111111,
              "#46039f"
             ],
             [
              0.2222222222222222,
              "#7201a8"
             ],
             [
              0.3333333333333333,
              "#9c179e"
             ],
             [
              0.4444444444444444,
              "#bd3786"
             ],
             [
              0.5555555555555556,
              "#d8576b"
             ],
             [
              0.6666666666666666,
              "#ed7953"
             ],
             [
              0.7777777777777778,
              "#fb9f3a"
             ],
             [
              0.8888888888888888,
              "#fdca26"
             ],
             [
              1,
              "#f0f921"
             ]
            ],
            "type": "heatmap"
           }
          ],
          "heatmapgl": [
           {
            "colorbar": {
             "outlinewidth": 0,
             "ticks": ""
            },
            "colorscale": [
             [
              0,
              "#0d0887"
             ],
             [
              0.1111111111111111,
              "#46039f"
             ],
             [
              0.2222222222222222,
              "#7201a8"
             ],
             [
              0.3333333333333333,
              "#9c179e"
             ],
             [
              0.4444444444444444,
              "#bd3786"
             ],
             [
              0.5555555555555556,
              "#d8576b"
             ],
             [
              0.6666666666666666,
              "#ed7953"
             ],
             [
              0.7777777777777778,
              "#fb9f3a"
             ],
             [
              0.8888888888888888,
              "#fdca26"
             ],
             [
              1,
              "#f0f921"
             ]
            ],
            "type": "heatmapgl"
           }
          ],
          "histogram": [
           {
            "marker": {
             "pattern": {
              "fillmode": "overlay",
              "size": 10,
              "solidity": 0.2
             }
            },
            "type": "histogram"
           }
          ],
          "histogram2d": [
           {
            "colorbar": {
             "outlinewidth": 0,
             "ticks": ""
            },
            "colorscale": [
             [
              0,
              "#0d0887"
             ],
             [
              0.1111111111111111,
              "#46039f"
             ],
             [
              0.2222222222222222,
              "#7201a8"
             ],
             [
              0.3333333333333333,
              "#9c179e"
             ],
             [
              0.4444444444444444,
              "#bd3786"
             ],
             [
              0.5555555555555556,
              "#d8576b"
             ],
             [
              0.6666666666666666,
              "#ed7953"
             ],
             [
              0.7777777777777778,
              "#fb9f3a"
             ],
             [
              0.8888888888888888,
              "#fdca26"
             ],
             [
              1,
              "#f0f921"
             ]
            ],
            "type": "histogram2d"
           }
          ],
          "histogram2dcontour": [
           {
            "colorbar": {
             "outlinewidth": 0,
             "ticks": ""
            },
            "colorscale": [
             [
              0,
              "#0d0887"
             ],
             [
              0.1111111111111111,
              "#46039f"
             ],
             [
              0.2222222222222222,
              "#7201a8"
             ],
             [
              0.3333333333333333,
              "#9c179e"
             ],
             [
              0.4444444444444444,
              "#bd3786"
             ],
             [
              0.5555555555555556,
              "#d8576b"
             ],
             [
              0.6666666666666666,
              "#ed7953"
             ],
             [
              0.7777777777777778,
              "#fb9f3a"
             ],
             [
              0.8888888888888888,
              "#fdca26"
             ],
             [
              1,
              "#f0f921"
             ]
            ],
            "type": "histogram2dcontour"
           }
          ],
          "mesh3d": [
           {
            "colorbar": {
             "outlinewidth": 0,
             "ticks": ""
            },
            "type": "mesh3d"
           }
          ],
          "parcoords": [
           {
            "line": {
             "colorbar": {
              "outlinewidth": 0,
              "ticks": ""
             }
            },
            "type": "parcoords"
           }
          ],
          "pie": [
           {
            "automargin": true,
            "type": "pie"
           }
          ],
          "scatter": [
           {
            "fillpattern": {
             "fillmode": "overlay",
             "size": 10,
             "solidity": 0.2
            },
            "type": "scatter"
           }
          ],
          "scatter3d": [
           {
            "line": {
             "colorbar": {
              "outlinewidth": 0,
              "ticks": ""
             }
            },
            "marker": {
             "colorbar": {
              "outlinewidth": 0,
              "ticks": ""
             }
            },
            "type": "scatter3d"
           }
          ],
          "scattercarpet": [
           {
            "marker": {
             "colorbar": {
              "outlinewidth": 0,
              "ticks": ""
             }
            },
            "type": "scattercarpet"
           }
          ],
          "scattergeo": [
           {
            "marker": {
             "colorbar": {
              "outlinewidth": 0,
              "ticks": ""
             }
            },
            "type": "scattergeo"
           }
          ],
          "scattergl": [
           {
            "marker": {
             "colorbar": {
              "outlinewidth": 0,
              "ticks": ""
             }
            },
            "type": "scattergl"
           }
          ],
          "scattermapbox": [
           {
            "marker": {
             "colorbar": {
              "outlinewidth": 0,
              "ticks": ""
             }
            },
            "type": "scattermapbox"
           }
          ],
          "scatterpolar": [
           {
            "marker": {
             "colorbar": {
              "outlinewidth": 0,
              "ticks": ""
             }
            },
            "type": "scatterpolar"
           }
          ],
          "scatterpolargl": [
           {
            "marker": {
             "colorbar": {
              "outlinewidth": 0,
              "ticks": ""
             }
            },
            "type": "scatterpolargl"
           }
          ],
          "scatterternary": [
           {
            "marker": {
             "colorbar": {
              "outlinewidth": 0,
              "ticks": ""
             }
            },
            "type": "scatterternary"
           }
          ],
          "surface": [
           {
            "colorbar": {
             "outlinewidth": 0,
             "ticks": ""
            },
            "colorscale": [
             [
              0,
              "#0d0887"
             ],
             [
              0.1111111111111111,
              "#46039f"
             ],
             [
              0.2222222222222222,
              "#7201a8"
             ],
             [
              0.3333333333333333,
              "#9c179e"
             ],
             [
              0.4444444444444444,
              "#bd3786"
             ],
             [
              0.5555555555555556,
              "#d8576b"
             ],
             [
              0.6666666666666666,
              "#ed7953"
             ],
             [
              0.7777777777777778,
              "#fb9f3a"
             ],
             [
              0.8888888888888888,
              "#fdca26"
             ],
             [
              1,
              "#f0f921"
             ]
            ],
            "type": "surface"
           }
          ],
          "table": [
           {
            "cells": {
             "fill": {
              "color": "#EBF0F8"
             },
             "line": {
              "color": "white"
             }
            },
            "header": {
             "fill": {
              "color": "#C8D4E3"
             },
             "line": {
              "color": "white"
             }
            },
            "type": "table"
           }
          ]
         },
         "layout": {
          "annotationdefaults": {
           "arrowcolor": "#2a3f5f",
           "arrowhead": 0,
           "arrowwidth": 1
          },
          "autotypenumbers": "strict",
          "coloraxis": {
           "colorbar": {
            "outlinewidth": 0,
            "ticks": ""
           }
          },
          "colorscale": {
           "diverging": [
            [
             0,
             "#8e0152"
            ],
            [
             0.1,
             "#c51b7d"
            ],
            [
             0.2,
             "#de77ae"
            ],
            [
             0.3,
             "#f1b6da"
            ],
            [
             0.4,
             "#fde0ef"
            ],
            [
             0.5,
             "#f7f7f7"
            ],
            [
             0.6,
             "#e6f5d0"
            ],
            [
             0.7,
             "#b8e186"
            ],
            [
             0.8,
             "#7fbc41"
            ],
            [
             0.9,
             "#4d9221"
            ],
            [
             1,
             "#276419"
            ]
           ],
           "sequential": [
            [
             0,
             "#0d0887"
            ],
            [
             0.1111111111111111,
             "#46039f"
            ],
            [
             0.2222222222222222,
             "#7201a8"
            ],
            [
             0.3333333333333333,
             "#9c179e"
            ],
            [
             0.4444444444444444,
             "#bd3786"
            ],
            [
             0.5555555555555556,
             "#d8576b"
            ],
            [
             0.6666666666666666,
             "#ed7953"
            ],
            [
             0.7777777777777778,
             "#fb9f3a"
            ],
            [
             0.8888888888888888,
             "#fdca26"
            ],
            [
             1,
             "#f0f921"
            ]
           ],
           "sequentialminus": [
            [
             0,
             "#0d0887"
            ],
            [
             0.1111111111111111,
             "#46039f"
            ],
            [
             0.2222222222222222,
             "#7201a8"
            ],
            [
             0.3333333333333333,
             "#9c179e"
            ],
            [
             0.4444444444444444,
             "#bd3786"
            ],
            [
             0.5555555555555556,
             "#d8576b"
            ],
            [
             0.6666666666666666,
             "#ed7953"
            ],
            [
             0.7777777777777778,
             "#fb9f3a"
            ],
            [
             0.8888888888888888,
             "#fdca26"
            ],
            [
             1,
             "#f0f921"
            ]
           ]
          },
          "colorway": [
           "#636efa",
           "#EF553B",
           "#00cc96",
           "#ab63fa",
           "#FFA15A",
           "#19d3f3",
           "#FF6692",
           "#B6E880",
           "#FF97FF",
           "#FECB52"
          ],
          "font": {
           "color": "#2a3f5f"
          },
          "geo": {
           "bgcolor": "white",
           "lakecolor": "white",
           "landcolor": "#E5ECF6",
           "showlakes": true,
           "showland": true,
           "subunitcolor": "white"
          },
          "hoverlabel": {
           "align": "left"
          },
          "hovermode": "closest",
          "mapbox": {
           "style": "light"
          },
          "paper_bgcolor": "white",
          "plot_bgcolor": "#E5ECF6",
          "polar": {
           "angularaxis": {
            "gridcolor": "white",
            "linecolor": "white",
            "ticks": ""
           },
           "bgcolor": "#E5ECF6",
           "radialaxis": {
            "gridcolor": "white",
            "linecolor": "white",
            "ticks": ""
           }
          },
          "scene": {
           "xaxis": {
            "backgroundcolor": "#E5ECF6",
            "gridcolor": "white",
            "gridwidth": 2,
            "linecolor": "white",
            "showbackground": true,
            "ticks": "",
            "zerolinecolor": "white"
           },
           "yaxis": {
            "backgroundcolor": "#E5ECF6",
            "gridcolor": "white",
            "gridwidth": 2,
            "linecolor": "white",
            "showbackground": true,
            "ticks": "",
            "zerolinecolor": "white"
           },
           "zaxis": {
            "backgroundcolor": "#E5ECF6",
            "gridcolor": "white",
            "gridwidth": 2,
            "linecolor": "white",
            "showbackground": true,
            "ticks": "",
            "zerolinecolor": "white"
           }
          },
          "shapedefaults": {
           "line": {
            "color": "#2a3f5f"
           }
          },
          "ternary": {
           "aaxis": {
            "gridcolor": "white",
            "linecolor": "white",
            "ticks": ""
           },
           "baxis": {
            "gridcolor": "white",
            "linecolor": "white",
            "ticks": ""
           },
           "bgcolor": "#E5ECF6",
           "caxis": {
            "gridcolor": "white",
            "linecolor": "white",
            "ticks": ""
           }
          },
          "title": {
           "x": 0.05
          },
          "xaxis": {
           "automargin": true,
           "gridcolor": "white",
           "linecolor": "white",
           "ticks": "",
           "title": {
            "standoff": 15
           },
           "zerolinecolor": "white",
           "zerolinewidth": 2
          },
          "yaxis": {
           "automargin": true,
           "gridcolor": "white",
           "linecolor": "white",
           "ticks": "",
           "title": {
            "standoff": 15
           },
           "zerolinecolor": "white",
           "zerolinewidth": 2
          }
         }
        },
        "title": {
         "text": "Residual plot of Housing spending"
        },
        "xaxis": {
         "anchor": "y",
         "domain": [
          0,
          1
         ],
         "title": {
          "text": "Housing spending"
         }
        },
        "yaxis": {
         "anchor": "x",
         "domain": [
          0,
          1
         ],
         "title": {
          "text": "Residuals"
         }
        }
       }
      }
     },
     "metadata": {},
     "output_type": "display_data"
    },
    {
     "data": {
      "application/vnd.plotly.v1+json": {
       "config": {
        "plotlyServerURL": "https://plot.ly"
       },
       "data": [
        {
         "hovertemplate": "Community development spending=%{x}<br>Residuals=%{y}<extra></extra>",
         "legendgroup": "",
         "marker": {
          "color": "#636efa",
          "symbol": "circle"
         },
         "mode": "markers",
         "name": "",
         "orientation": "v",
         "showlegend": false,
         "type": "scatter",
         "x": [
          -0.46451206369071857,
          0.39777800653049045,
          0.9198438235600619,
          -0.9119529882516892,
          0.2503870558203726,
          0.19522548101656845,
          0.21177641114258353,
          -0.16766112083977838,
          -1.1494389720516263,
          0.5466645858233072,
          0.8626075291068152,
          -0.7566043247586711,
          -0.20216656923133697,
          -1.1496821603864553,
          -1.1494005081418859,
          2.7099370673429783,
          -0.43742952418134895,
          -0.7772011285908552,
          -0.9176576208817223,
          -1.1496821603864553,
          0.18474114174881112,
          -0.05698139583889862,
          0.32149394849815216,
          -1.1496821603864553,
          1.2970443898401098,
          -1.1493048044928365,
          1.8657537336878676,
          -0.3274717017888588,
          -0.9000900951195677,
          -0.17842259180042122,
          0.464008765792987,
          -0.8026102834868373,
          0.3509052470275511,
          0.2070238772698385,
          -0.3300896190514096,
          -1.1489280007129434,
          -1.1496821603864553,
          0.1706558926202937,
          -0.06645641142342906,
          -1.1496821603864553,
          0.15758939134028102,
          -0.6091049290725306,
          -1.1405241347175834,
          -0.9379962810426478,
          0.42243170387354134,
          0.4126576436774314,
          -0.8058370559793364,
          -1.1496821603864553,
          0.10407795676462023,
          0.28810095797773433,
          -1.1496821603864553,
          -0.24505221672332428,
          -0.01952926764846129,
          -0.14707506225692543,
          -0.33492588757235164,
          0.11541261247873186,
          -0.33868271389563603,
          3.0258046941419896,
          -0.2368979341855047,
          2.2048350113222606,
          -1.149317965404071,
          -0.4809174287815932,
          -0.35508397282503235,
          -0.06089007273942745,
          0.4101389180586692,
          -0.9288842702617818,
          0.48631927293038923,
          -0.30102929402413875,
          -0.8175353140992285,
          -1.1377082293096465,
          0.29853482554094185,
          1.7248264824870498,
          0.1507832630008117,
          -0.16863293622857267,
          3.386282773906803,
          -0.6021333655973776,
          0.2776946577640972,
          0.07767275053905852,
          -0.8237009062524577,
          -0.8039783339207963,
          -0.8450238647296789,
          -0.7765349428944978,
          -0.8502824663808173,
          -0.24104060552814102,
          1.0034761666897836,
          0.12425766745560911,
          -0.31911250372320676,
          -0.880173812474676,
          2.836573625623109,
          -0.20463035024957538,
          -0.15655121505424263,
          0.2742587869114609,
          -0.47767734789840816,
          -0.29663759682269125,
          0.4018165121577242,
          0.3061068731924339,
          -0.9277778353771265,
          -0.30282647009593894,
          0.2729674764627307,
          0.4181302020072788,
          -0.8848185099538327,
          0.3695813604719696,
          0.866843020099788,
          0.7690904085592181,
          -0.19195134829324959,
          -1.148087400612833,
          -0.8776388371010055,
          -0.999259196438758,
          -0.5582264039210171,
          -0.2739348207183514,
          -0.155867795293207,
          -0.6826161954582203,
          -0.07179365109079507,
          -0.1496160757037168,
          -0.7699251629441103,
          -0.006467223559021577,
          -0.013180989736879336,
          2.7832186756790356,
          -1.1405722565998797,
          -0.8435291940242563
         ],
         "xaxis": "x",
         "y": [
          -0.033384157129372816,
          -0.0013317154015389243,
          0.030238383408273617,
          0.0680302754189977,
          -0.034956312547245016,
          0.04218787813048308,
          -0.007832951761780282,
          0.03488022646940281,
          -0.02059957018924813,
          0.037180649876763616,
          0.0471042690913796,
          0.016114605696050777,
          -0.019407437886018397,
          -0.026822910709218023,
          -0.00875720678949582,
          -0.020900003380692422,
          -0.001954953598326925,
          -0.016201223491338235,
          0.023588401357635513,
          0.033527882834280764,
          -0.04981174654941911,
          0.011143912535614586,
          0.009976293936422131,
          -0.017331389245818896,
          -0.018441787048159575,
          -0.006989289544756416,
          -0.004376934875604921,
          -0.02393387503886235,
          0.02018194994189415,
          0.02348853896617159,
          -0.031982829960250314,
          -0.019390442775290895,
          0.02487282447977135,
          0.03624499367137779,
          0.06511049212756881,
          -0.0070521094614157676,
          0.01159173495009741,
          -0.027561658540162848,
          0.04369999150028503,
          0.010506660357418207,
          0.017343156786355285,
          0.016305338417195003,
          -0.0007269173904836945,
          0.037779698397149286,
          0.005359386947798361,
          0.013552551474676322,
          -0.010023688606845438,
          -0.0070870574803386654,
          -0.01386859340986818,
          0.004141761810504518,
          0.00751007406216625,
          0.02383882538608295,
          -0.01673394281285423,
          0.009695512994953193,
          0.02521423999252498,
          -0.027018173304551363,
          0.0364362671059828,
          -0.015078227620501317,
          0.03269674164943842,
          0.013269280109307446,
          -0.004652650286968207,
          -0.006429688893980601,
          -0.007164701831888887,
          -0.045472070674267395,
          0.010923056434839151,
          0.020951118077449538,
          0.08060633343465601,
          0.010702340933716636,
          0.0006849755286659209,
          0.022235550576475804,
          -0.028107849027040666,
          0.016482631079420385,
          0.07672367247152218,
          0.04097634756210056,
          -0.035850413857013874,
          0.029152881322354995,
          -0.018289824079025907,
          -0.018759741145300934,
          0.0442712055127924,
          -0.003676901688836942,
          -0.009831037585273927,
          -0.007067404305365954,
          0.0022932079702606134,
          0.04002958053615768,
          0.006692848559830988,
          -0.028066879103847697,
          -0.0035997089582305852,
          -0.0016017449644294968,
          -0.013857824616633763,
          0.020766722052285358,
          0.00498011838858925,
          0.030669642768724525,
          -0.01415587747221625,
          0.003177749347551384,
          0.0009187119612680816,
          0.06345349919037341,
          0.025805031695359804,
          -0.0001701776111775466,
          -0.0064882494830753035,
          -0.01764151893927407,
          0.04630715695340981,
          0.008334361901278953,
          0.039336113263176486,
          0.03197874530765982,
          -0.02213926518837911,
          -0.02801304273786351,
          -0.008117526404054443,
          -0.0027719151682934484,
          0.004965950431016164,
          -0.024244149944225635,
          0.00852786483959661,
          -0.027216954592722054,
          -0.06330064975479521,
          -0.011402910821716905,
          -0.009680714988973549,
          0.007501806024007074,
          0.04190979475049994,
          -0.015487265070270373,
          -0.0006355242720026411,
          -0.008727666677694368
         ],
         "yaxis": "y"
        }
       ],
       "layout": {
        "legend": {
         "tracegroupgap": 0
        },
        "template": {
         "data": {
          "bar": [
           {
            "error_x": {
             "color": "#2a3f5f"
            },
            "error_y": {
             "color": "#2a3f5f"
            },
            "marker": {
             "line": {
              "color": "#E5ECF6",
              "width": 0.5
             },
             "pattern": {
              "fillmode": "overlay",
              "size": 10,
              "solidity": 0.2
             }
            },
            "type": "bar"
           }
          ],
          "barpolar": [
           {
            "marker": {
             "line": {
              "color": "#E5ECF6",
              "width": 0.5
             },
             "pattern": {
              "fillmode": "overlay",
              "size": 10,
              "solidity": 0.2
             }
            },
            "type": "barpolar"
           }
          ],
          "carpet": [
           {
            "aaxis": {
             "endlinecolor": "#2a3f5f",
             "gridcolor": "white",
             "linecolor": "white",
             "minorgridcolor": "white",
             "startlinecolor": "#2a3f5f"
            },
            "baxis": {
             "endlinecolor": "#2a3f5f",
             "gridcolor": "white",
             "linecolor": "white",
             "minorgridcolor": "white",
             "startlinecolor": "#2a3f5f"
            },
            "type": "carpet"
           }
          ],
          "choropleth": [
           {
            "colorbar": {
             "outlinewidth": 0,
             "ticks": ""
            },
            "type": "choropleth"
           }
          ],
          "contour": [
           {
            "colorbar": {
             "outlinewidth": 0,
             "ticks": ""
            },
            "colorscale": [
             [
              0,
              "#0d0887"
             ],
             [
              0.1111111111111111,
              "#46039f"
             ],
             [
              0.2222222222222222,
              "#7201a8"
             ],
             [
              0.3333333333333333,
              "#9c179e"
             ],
             [
              0.4444444444444444,
              "#bd3786"
             ],
             [
              0.5555555555555556,
              "#d8576b"
             ],
             [
              0.6666666666666666,
              "#ed7953"
             ],
             [
              0.7777777777777778,
              "#fb9f3a"
             ],
             [
              0.8888888888888888,
              "#fdca26"
             ],
             [
              1,
              "#f0f921"
             ]
            ],
            "type": "contour"
           }
          ],
          "contourcarpet": [
           {
            "colorbar": {
             "outlinewidth": 0,
             "ticks": ""
            },
            "type": "contourcarpet"
           }
          ],
          "heatmap": [
           {
            "colorbar": {
             "outlinewidth": 0,
             "ticks": ""
            },
            "colorscale": [
             [
              0,
              "#0d0887"
             ],
             [
              0.1111111111111111,
              "#46039f"
             ],
             [
              0.2222222222222222,
              "#7201a8"
             ],
             [
              0.3333333333333333,
              "#9c179e"
             ],
             [
              0.4444444444444444,
              "#bd3786"
             ],
             [
              0.5555555555555556,
              "#d8576b"
             ],
             [
              0.6666666666666666,
              "#ed7953"
             ],
             [
              0.7777777777777778,
              "#fb9f3a"
             ],
             [
              0.8888888888888888,
              "#fdca26"
             ],
             [
              1,
              "#f0f921"
             ]
            ],
            "type": "heatmap"
           }
          ],
          "heatmapgl": [
           {
            "colorbar": {
             "outlinewidth": 0,
             "ticks": ""
            },
            "colorscale": [
             [
              0,
              "#0d0887"
             ],
             [
              0.1111111111111111,
              "#46039f"
             ],
             [
              0.2222222222222222,
              "#7201a8"
             ],
             [
              0.3333333333333333,
              "#9c179e"
             ],
             [
              0.4444444444444444,
              "#bd3786"
             ],
             [
              0.5555555555555556,
              "#d8576b"
             ],
             [
              0.6666666666666666,
              "#ed7953"
             ],
             [
              0.7777777777777778,
              "#fb9f3a"
             ],
             [
              0.8888888888888888,
              "#fdca26"
             ],
             [
              1,
              "#f0f921"
             ]
            ],
            "type": "heatmapgl"
           }
          ],
          "histogram": [
           {
            "marker": {
             "pattern": {
              "fillmode": "overlay",
              "size": 10,
              "solidity": 0.2
             }
            },
            "type": "histogram"
           }
          ],
          "histogram2d": [
           {
            "colorbar": {
             "outlinewidth": 0,
             "ticks": ""
            },
            "colorscale": [
             [
              0,
              "#0d0887"
             ],
             [
              0.1111111111111111,
              "#46039f"
             ],
             [
              0.2222222222222222,
              "#7201a8"
             ],
             [
              0.3333333333333333,
              "#9c179e"
             ],
             [
              0.4444444444444444,
              "#bd3786"
             ],
             [
              0.5555555555555556,
              "#d8576b"
             ],
             [
              0.6666666666666666,
              "#ed7953"
             ],
             [
              0.7777777777777778,
              "#fb9f3a"
             ],
             [
              0.8888888888888888,
              "#fdca26"
             ],
             [
              1,
              "#f0f921"
             ]
            ],
            "type": "histogram2d"
           }
          ],
          "histogram2dcontour": [
           {
            "colorbar": {
             "outlinewidth": 0,
             "ticks": ""
            },
            "colorscale": [
             [
              0,
              "#0d0887"
             ],
             [
              0.1111111111111111,
              "#46039f"
             ],
             [
              0.2222222222222222,
              "#7201a8"
             ],
             [
              0.3333333333333333,
              "#9c179e"
             ],
             [
              0.4444444444444444,
              "#bd3786"
             ],
             [
              0.5555555555555556,
              "#d8576b"
             ],
             [
              0.6666666666666666,
              "#ed7953"
             ],
             [
              0.7777777777777778,
              "#fb9f3a"
             ],
             [
              0.8888888888888888,
              "#fdca26"
             ],
             [
              1,
              "#f0f921"
             ]
            ],
            "type": "histogram2dcontour"
           }
          ],
          "mesh3d": [
           {
            "colorbar": {
             "outlinewidth": 0,
             "ticks": ""
            },
            "type": "mesh3d"
           }
          ],
          "parcoords": [
           {
            "line": {
             "colorbar": {
              "outlinewidth": 0,
              "ticks": ""
             }
            },
            "type": "parcoords"
           }
          ],
          "pie": [
           {
            "automargin": true,
            "type": "pie"
           }
          ],
          "scatter": [
           {
            "fillpattern": {
             "fillmode": "overlay",
             "size": 10,
             "solidity": 0.2
            },
            "type": "scatter"
           }
          ],
          "scatter3d": [
           {
            "line": {
             "colorbar": {
              "outlinewidth": 0,
              "ticks": ""
             }
            },
            "marker": {
             "colorbar": {
              "outlinewidth": 0,
              "ticks": ""
             }
            },
            "type": "scatter3d"
           }
          ],
          "scattercarpet": [
           {
            "marker": {
             "colorbar": {
              "outlinewidth": 0,
              "ticks": ""
             }
            },
            "type": "scattercarpet"
           }
          ],
          "scattergeo": [
           {
            "marker": {
             "colorbar": {
              "outlinewidth": 0,
              "ticks": ""
             }
            },
            "type": "scattergeo"
           }
          ],
          "scattergl": [
           {
            "marker": {
             "colorbar": {
              "outlinewidth": 0,
              "ticks": ""
             }
            },
            "type": "scattergl"
           }
          ],
          "scattermapbox": [
           {
            "marker": {
             "colorbar": {
              "outlinewidth": 0,
              "ticks": ""
             }
            },
            "type": "scattermapbox"
           }
          ],
          "scatterpolar": [
           {
            "marker": {
             "colorbar": {
              "outlinewidth": 0,
              "ticks": ""
             }
            },
            "type": "scatterpolar"
           }
          ],
          "scatterpolargl": [
           {
            "marker": {
             "colorbar": {
              "outlinewidth": 0,
              "ticks": ""
             }
            },
            "type": "scatterpolargl"
           }
          ],
          "scatterternary": [
           {
            "marker": {
             "colorbar": {
              "outlinewidth": 0,
              "ticks": ""
             }
            },
            "type": "scatterternary"
           }
          ],
          "surface": [
           {
            "colorbar": {
             "outlinewidth": 0,
             "ticks": ""
            },
            "colorscale": [
             [
              0,
              "#0d0887"
             ],
             [
              0.1111111111111111,
              "#46039f"
             ],
             [
              0.2222222222222222,
              "#7201a8"
             ],
             [
              0.3333333333333333,
              "#9c179e"
             ],
             [
              0.4444444444444444,
              "#bd3786"
             ],
             [
              0.5555555555555556,
              "#d8576b"
             ],
             [
              0.6666666666666666,
              "#ed7953"
             ],
             [
              0.7777777777777778,
              "#fb9f3a"
             ],
             [
              0.8888888888888888,
              "#fdca26"
             ],
             [
              1,
              "#f0f921"
             ]
            ],
            "type": "surface"
           }
          ],
          "table": [
           {
            "cells": {
             "fill": {
              "color": "#EBF0F8"
             },
             "line": {
              "color": "white"
             }
            },
            "header": {
             "fill": {
              "color": "#C8D4E3"
             },
             "line": {
              "color": "white"
             }
            },
            "type": "table"
           }
          ]
         },
         "layout": {
          "annotationdefaults": {
           "arrowcolor": "#2a3f5f",
           "arrowhead": 0,
           "arrowwidth": 1
          },
          "autotypenumbers": "strict",
          "coloraxis": {
           "colorbar": {
            "outlinewidth": 0,
            "ticks": ""
           }
          },
          "colorscale": {
           "diverging": [
            [
             0,
             "#8e0152"
            ],
            [
             0.1,
             "#c51b7d"
            ],
            [
             0.2,
             "#de77ae"
            ],
            [
             0.3,
             "#f1b6da"
            ],
            [
             0.4,
             "#fde0ef"
            ],
            [
             0.5,
             "#f7f7f7"
            ],
            [
             0.6,
             "#e6f5d0"
            ],
            [
             0.7,
             "#b8e186"
            ],
            [
             0.8,
             "#7fbc41"
            ],
            [
             0.9,
             "#4d9221"
            ],
            [
             1,
             "#276419"
            ]
           ],
           "sequential": [
            [
             0,
             "#0d0887"
            ],
            [
             0.1111111111111111,
             "#46039f"
            ],
            [
             0.2222222222222222,
             "#7201a8"
            ],
            [
             0.3333333333333333,
             "#9c179e"
            ],
            [
             0.4444444444444444,
             "#bd3786"
            ],
            [
             0.5555555555555556,
             "#d8576b"
            ],
            [
             0.6666666666666666,
             "#ed7953"
            ],
            [
             0.7777777777777778,
             "#fb9f3a"
            ],
            [
             0.8888888888888888,
             "#fdca26"
            ],
            [
             1,
             "#f0f921"
            ]
           ],
           "sequentialminus": [
            [
             0,
             "#0d0887"
            ],
            [
             0.1111111111111111,
             "#46039f"
            ],
            [
             0.2222222222222222,
             "#7201a8"
            ],
            [
             0.3333333333333333,
             "#9c179e"
            ],
            [
             0.4444444444444444,
             "#bd3786"
            ],
            [
             0.5555555555555556,
             "#d8576b"
            ],
            [
             0.6666666666666666,
             "#ed7953"
            ],
            [
             0.7777777777777778,
             "#fb9f3a"
            ],
            [
             0.8888888888888888,
             "#fdca26"
            ],
            [
             1,
             "#f0f921"
            ]
           ]
          },
          "colorway": [
           "#636efa",
           "#EF553B",
           "#00cc96",
           "#ab63fa",
           "#FFA15A",
           "#19d3f3",
           "#FF6692",
           "#B6E880",
           "#FF97FF",
           "#FECB52"
          ],
          "font": {
           "color": "#2a3f5f"
          },
          "geo": {
           "bgcolor": "white",
           "lakecolor": "white",
           "landcolor": "#E5ECF6",
           "showlakes": true,
           "showland": true,
           "subunitcolor": "white"
          },
          "hoverlabel": {
           "align": "left"
          },
          "hovermode": "closest",
          "mapbox": {
           "style": "light"
          },
          "paper_bgcolor": "white",
          "plot_bgcolor": "#E5ECF6",
          "polar": {
           "angularaxis": {
            "gridcolor": "white",
            "linecolor": "white",
            "ticks": ""
           },
           "bgcolor": "#E5ECF6",
           "radialaxis": {
            "gridcolor": "white",
            "linecolor": "white",
            "ticks": ""
           }
          },
          "scene": {
           "xaxis": {
            "backgroundcolor": "#E5ECF6",
            "gridcolor": "white",
            "gridwidth": 2,
            "linecolor": "white",
            "showbackground": true,
            "ticks": "",
            "zerolinecolor": "white"
           },
           "yaxis": {
            "backgroundcolor": "#E5ECF6",
            "gridcolor": "white",
            "gridwidth": 2,
            "linecolor": "white",
            "showbackground": true,
            "ticks": "",
            "zerolinecolor": "white"
           },
           "zaxis": {
            "backgroundcolor": "#E5ECF6",
            "gridcolor": "white",
            "gridwidth": 2,
            "linecolor": "white",
            "showbackground": true,
            "ticks": "",
            "zerolinecolor": "white"
           }
          },
          "shapedefaults": {
           "line": {
            "color": "#2a3f5f"
           }
          },
          "ternary": {
           "aaxis": {
            "gridcolor": "white",
            "linecolor": "white",
            "ticks": ""
           },
           "baxis": {
            "gridcolor": "white",
            "linecolor": "white",
            "ticks": ""
           },
           "bgcolor": "#E5ECF6",
           "caxis": {
            "gridcolor": "white",
            "linecolor": "white",
            "ticks": ""
           }
          },
          "title": {
           "x": 0.05
          },
          "xaxis": {
           "automargin": true,
           "gridcolor": "white",
           "linecolor": "white",
           "ticks": "",
           "title": {
            "standoff": 15
           },
           "zerolinecolor": "white",
           "zerolinewidth": 2
          },
          "yaxis": {
           "automargin": true,
           "gridcolor": "white",
           "linecolor": "white",
           "ticks": "",
           "title": {
            "standoff": 15
           },
           "zerolinecolor": "white",
           "zerolinewidth": 2
          }
         }
        },
        "title": {
         "text": "Residual plot of Community development spending"
        },
        "xaxis": {
         "anchor": "y",
         "domain": [
          0,
          1
         ],
         "title": {
          "text": "Community development spending"
         }
        },
        "yaxis": {
         "anchor": "x",
         "domain": [
          0,
          1
         ],
         "title": {
          "text": "Residuals"
         }
        }
       }
      }
     },
     "metadata": {},
     "output_type": "display_data"
    },
    {
     "data": {
      "application/vnd.plotly.v1+json": {
       "config": {
        "plotlyServerURL": "https://plot.ly"
       },
       "data": [
        {
         "hovertemplate": "IRLT=%{x}<br>Residuals=%{y}<extra></extra>",
         "legendgroup": "",
         "marker": {
          "color": "#636efa",
          "symbol": "circle"
         },
         "mode": "markers",
         "name": "",
         "orientation": "v",
         "showlegend": false,
         "type": "scatter",
         "x": [
          -0.3082916891227334,
          -1.2526602367064816,
          -1.1731059215470319,
          -0.30355875585071823,
          0.24909833243302884,
          0.3262154041557165,
          -1.3814272212436378,
          -0.6769830110084711,
          0.23186028617590382,
          0.34275530130747356,
          0.6453207129627395,
          1.5187900914064505,
          0.6218279371779383,
          0.9616138692338907,
          0.1491237984100773,
          2.732455922676197,
          -1.396498138715472,
          -1.2569154675173357,
          -1.2388251862701476,
          0.3461964879632078,
          -1.150307800938742,
          -0.0765884446004535,
          -1.3129735081994596,
          -0.03214903413231574,
          -1.237267401773304,
          0.048922363316219894,
          1.0795762677121834,
          -1.2873311173131812,
          0.29071937879178467,
          0.12825466643336592,
          -0.6638294992888698,
          -0.890188575635797,
          -1.3063131469302964,
          0.8527539644901242,
          -0.9303727552930833,
          0.5763489718198503,
          -1.4012602970229238,
          -0.11275368953143865,
          -0.1348296036985826,
          -1.236897381702795,
          0.6598032556001364,
          0.13935526854863794,
          1.4632870808300888,
          0.15785627207409295,
          0.2925435777393926,
          0.15489611151001895,
          -1.1219691478026783,
          -0.709100753128657,
          -0.8457530106927643,
          0.8391557268989173,
          -0.7686739844806185,
          -1.5970379163292723,
          -0.4104945562278379,
          0.5026409737744438,
          0.7765298299652559,
          -0.8439488701039929,
          -0.3844451432640007,
          0.8516439042785968,
          -1.3015768900277807,
          0.07608923689299865,
          0.35977622455089225,
          -0.47339796821438107,
          -1.4576513557685062,
          -0.6236106870041216,
          -0.2809505295426127,
          -1.515552096401765,
          0.2962437784444819,
          0.37838823409749517,
          -0.8517660626326307,
          1.3863229061642006,
          0.5805285387612126,
          -0.06045556952625965,
          -1.1446143761178333,
          -0.8835282143666338,
          0.27626269463699377,
          0.11974420481165579,
          -0.38681327171525887,
          -0.879622188815472,
          0.2675302209729813,
          -1.7042327307557499,
          0.6763061936671675,
          -0.8188857080486994,
          0.017786435596293455,
          -0.0652658304428777,
          -1.1279671731456302,
          -0.3849550347112777,
          0.41798038164196744,
          -0.19557688368391066,
          0.6496129457806444,
          -1.3797621309263468,
          0.9389425208319397,
          0.3730969470892165,
          -1.5705999822913994,
          0.31289468161738987,
          -0.20661349737734344,
          0.8226972341626722,
          0.6015103366144643,
          0.15045587066391,
          -1.2223185909247374,
          0.10124320128620534,
          0.474482446408702,
          -1.2241686912772836,
          0.24851118934881317,
          0.3707658206450097,
          -1.2886494148085252,
          0.1467556699588209,
          0.7476682644655482,
          0.5918898147812313,
          1.1968726300635586,
          -1.414248001497792,
          -1.430602888614293,
          0.3667909120102019,
          -1.1370538300211357,
          0.27478261435495727,
          -1.5755027482256447,
          0.3683976921937523,
          -0.46747764708623757,
          2.1574447331051023,
          1.9668843967929321,
          1.100926425780555
         ],
         "xaxis": "x",
         "y": [
          -0.033384157129372816,
          -0.0013317154015389243,
          0.030238383408273617,
          0.0680302754189977,
          -0.034956312547245016,
          0.04218787813048308,
          -0.007832951761780282,
          0.03488022646940281,
          -0.02059957018924813,
          0.037180649876763616,
          0.0471042690913796,
          0.016114605696050777,
          -0.019407437886018397,
          -0.026822910709218023,
          -0.00875720678949582,
          -0.020900003380692422,
          -0.001954953598326925,
          -0.016201223491338235,
          0.023588401357635513,
          0.033527882834280764,
          -0.04981174654941911,
          0.011143912535614586,
          0.009976293936422131,
          -0.017331389245818896,
          -0.018441787048159575,
          -0.006989289544756416,
          -0.004376934875604921,
          -0.02393387503886235,
          0.02018194994189415,
          0.02348853896617159,
          -0.031982829960250314,
          -0.019390442775290895,
          0.02487282447977135,
          0.03624499367137779,
          0.06511049212756881,
          -0.0070521094614157676,
          0.01159173495009741,
          -0.027561658540162848,
          0.04369999150028503,
          0.010506660357418207,
          0.017343156786355285,
          0.016305338417195003,
          -0.0007269173904836945,
          0.037779698397149286,
          0.005359386947798361,
          0.013552551474676322,
          -0.010023688606845438,
          -0.0070870574803386654,
          -0.01386859340986818,
          0.004141761810504518,
          0.00751007406216625,
          0.02383882538608295,
          -0.01673394281285423,
          0.009695512994953193,
          0.02521423999252498,
          -0.027018173304551363,
          0.0364362671059828,
          -0.015078227620501317,
          0.03269674164943842,
          0.013269280109307446,
          -0.004652650286968207,
          -0.006429688893980601,
          -0.007164701831888887,
          -0.045472070674267395,
          0.010923056434839151,
          0.020951118077449538,
          0.08060633343465601,
          0.010702340933716636,
          0.0006849755286659209,
          0.022235550576475804,
          -0.028107849027040666,
          0.016482631079420385,
          0.07672367247152218,
          0.04097634756210056,
          -0.035850413857013874,
          0.029152881322354995,
          -0.018289824079025907,
          -0.018759741145300934,
          0.0442712055127924,
          -0.003676901688836942,
          -0.009831037585273927,
          -0.007067404305365954,
          0.0022932079702606134,
          0.04002958053615768,
          0.006692848559830988,
          -0.028066879103847697,
          -0.0035997089582305852,
          -0.0016017449644294968,
          -0.013857824616633763,
          0.020766722052285358,
          0.00498011838858925,
          0.030669642768724525,
          -0.01415587747221625,
          0.003177749347551384,
          0.0009187119612680816,
          0.06345349919037341,
          0.025805031695359804,
          -0.0001701776111775466,
          -0.0064882494830753035,
          -0.01764151893927407,
          0.04630715695340981,
          0.008334361901278953,
          0.039336113263176486,
          0.03197874530765982,
          -0.02213926518837911,
          -0.02801304273786351,
          -0.008117526404054443,
          -0.0027719151682934484,
          0.004965950431016164,
          -0.024244149944225635,
          0.00852786483959661,
          -0.027216954592722054,
          -0.06330064975479521,
          -0.011402910821716905,
          -0.009680714988973549,
          0.007501806024007074,
          0.04190979475049994,
          -0.015487265070270373,
          -0.0006355242720026411,
          -0.008727666677694368
         ],
         "yaxis": "y"
        }
       ],
       "layout": {
        "legend": {
         "tracegroupgap": 0
        },
        "template": {
         "data": {
          "bar": [
           {
            "error_x": {
             "color": "#2a3f5f"
            },
            "error_y": {
             "color": "#2a3f5f"
            },
            "marker": {
             "line": {
              "color": "#E5ECF6",
              "width": 0.5
             },
             "pattern": {
              "fillmode": "overlay",
              "size": 10,
              "solidity": 0.2
             }
            },
            "type": "bar"
           }
          ],
          "barpolar": [
           {
            "marker": {
             "line": {
              "color": "#E5ECF6",
              "width": 0.5
             },
             "pattern": {
              "fillmode": "overlay",
              "size": 10,
              "solidity": 0.2
             }
            },
            "type": "barpolar"
           }
          ],
          "carpet": [
           {
            "aaxis": {
             "endlinecolor": "#2a3f5f",
             "gridcolor": "white",
             "linecolor": "white",
             "minorgridcolor": "white",
             "startlinecolor": "#2a3f5f"
            },
            "baxis": {
             "endlinecolor": "#2a3f5f",
             "gridcolor": "white",
             "linecolor": "white",
             "minorgridcolor": "white",
             "startlinecolor": "#2a3f5f"
            },
            "type": "carpet"
           }
          ],
          "choropleth": [
           {
            "colorbar": {
             "outlinewidth": 0,
             "ticks": ""
            },
            "type": "choropleth"
           }
          ],
          "contour": [
           {
            "colorbar": {
             "outlinewidth": 0,
             "ticks": ""
            },
            "colorscale": [
             [
              0,
              "#0d0887"
             ],
             [
              0.1111111111111111,
              "#46039f"
             ],
             [
              0.2222222222222222,
              "#7201a8"
             ],
             [
              0.3333333333333333,
              "#9c179e"
             ],
             [
              0.4444444444444444,
              "#bd3786"
             ],
             [
              0.5555555555555556,
              "#d8576b"
             ],
             [
              0.6666666666666666,
              "#ed7953"
             ],
             [
              0.7777777777777778,
              "#fb9f3a"
             ],
             [
              0.8888888888888888,
              "#fdca26"
             ],
             [
              1,
              "#f0f921"
             ]
            ],
            "type": "contour"
           }
          ],
          "contourcarpet": [
           {
            "colorbar": {
             "outlinewidth": 0,
             "ticks": ""
            },
            "type": "contourcarpet"
           }
          ],
          "heatmap": [
           {
            "colorbar": {
             "outlinewidth": 0,
             "ticks": ""
            },
            "colorscale": [
             [
              0,
              "#0d0887"
             ],
             [
              0.1111111111111111,
              "#46039f"
             ],
             [
              0.2222222222222222,
              "#7201a8"
             ],
             [
              0.3333333333333333,
              "#9c179e"
             ],
             [
              0.4444444444444444,
              "#bd3786"
             ],
             [
              0.5555555555555556,
              "#d8576b"
             ],
             [
              0.6666666666666666,
              "#ed7953"
             ],
             [
              0.7777777777777778,
              "#fb9f3a"
             ],
             [
              0.8888888888888888,
              "#fdca26"
             ],
             [
              1,
              "#f0f921"
             ]
            ],
            "type": "heatmap"
           }
          ],
          "heatmapgl": [
           {
            "colorbar": {
             "outlinewidth": 0,
             "ticks": ""
            },
            "colorscale": [
             [
              0,
              "#0d0887"
             ],
             [
              0.1111111111111111,
              "#46039f"
             ],
             [
              0.2222222222222222,
              "#7201a8"
             ],
             [
              0.3333333333333333,
              "#9c179e"
             ],
             [
              0.4444444444444444,
              "#bd3786"
             ],
             [
              0.5555555555555556,
              "#d8576b"
             ],
             [
              0.6666666666666666,
              "#ed7953"
             ],
             [
              0.7777777777777778,
              "#fb9f3a"
             ],
             [
              0.8888888888888888,
              "#fdca26"
             ],
             [
              1,
              "#f0f921"
             ]
            ],
            "type": "heatmapgl"
           }
          ],
          "histogram": [
           {
            "marker": {
             "pattern": {
              "fillmode": "overlay",
              "size": 10,
              "solidity": 0.2
             }
            },
            "type": "histogram"
           }
          ],
          "histogram2d": [
           {
            "colorbar": {
             "outlinewidth": 0,
             "ticks": ""
            },
            "colorscale": [
             [
              0,
              "#0d0887"
             ],
             [
              0.1111111111111111,
              "#46039f"
             ],
             [
              0.2222222222222222,
              "#7201a8"
             ],
             [
              0.3333333333333333,
              "#9c179e"
             ],
             [
              0.4444444444444444,
              "#bd3786"
             ],
             [
              0.5555555555555556,
              "#d8576b"
             ],
             [
              0.6666666666666666,
              "#ed7953"
             ],
             [
              0.7777777777777778,
              "#fb9f3a"
             ],
             [
              0.8888888888888888,
              "#fdca26"
             ],
             [
              1,
              "#f0f921"
             ]
            ],
            "type": "histogram2d"
           }
          ],
          "histogram2dcontour": [
           {
            "colorbar": {
             "outlinewidth": 0,
             "ticks": ""
            },
            "colorscale": [
             [
              0,
              "#0d0887"
             ],
             [
              0.1111111111111111,
              "#46039f"
             ],
             [
              0.2222222222222222,
              "#7201a8"
             ],
             [
              0.3333333333333333,
              "#9c179e"
             ],
             [
              0.4444444444444444,
              "#bd3786"
             ],
             [
              0.5555555555555556,
              "#d8576b"
             ],
             [
              0.6666666666666666,
              "#ed7953"
             ],
             [
              0.7777777777777778,
              "#fb9f3a"
             ],
             [
              0.8888888888888888,
              "#fdca26"
             ],
             [
              1,
              "#f0f921"
             ]
            ],
            "type": "histogram2dcontour"
           }
          ],
          "mesh3d": [
           {
            "colorbar": {
             "outlinewidth": 0,
             "ticks": ""
            },
            "type": "mesh3d"
           }
          ],
          "parcoords": [
           {
            "line": {
             "colorbar": {
              "outlinewidth": 0,
              "ticks": ""
             }
            },
            "type": "parcoords"
           }
          ],
          "pie": [
           {
            "automargin": true,
            "type": "pie"
           }
          ],
          "scatter": [
           {
            "fillpattern": {
             "fillmode": "overlay",
             "size": 10,
             "solidity": 0.2
            },
            "type": "scatter"
           }
          ],
          "scatter3d": [
           {
            "line": {
             "colorbar": {
              "outlinewidth": 0,
              "ticks": ""
             }
            },
            "marker": {
             "colorbar": {
              "outlinewidth": 0,
              "ticks": ""
             }
            },
            "type": "scatter3d"
           }
          ],
          "scattercarpet": [
           {
            "marker": {
             "colorbar": {
              "outlinewidth": 0,
              "ticks": ""
             }
            },
            "type": "scattercarpet"
           }
          ],
          "scattergeo": [
           {
            "marker": {
             "colorbar": {
              "outlinewidth": 0,
              "ticks": ""
             }
            },
            "type": "scattergeo"
           }
          ],
          "scattergl": [
           {
            "marker": {
             "colorbar": {
              "outlinewidth": 0,
              "ticks": ""
             }
            },
            "type": "scattergl"
           }
          ],
          "scattermapbox": [
           {
            "marker": {
             "colorbar": {
              "outlinewidth": 0,
              "ticks": ""
             }
            },
            "type": "scattermapbox"
           }
          ],
          "scatterpolar": [
           {
            "marker": {
             "colorbar": {
              "outlinewidth": 0,
              "ticks": ""
             }
            },
            "type": "scatterpolar"
           }
          ],
          "scatterpolargl": [
           {
            "marker": {
             "colorbar": {
              "outlinewidth": 0,
              "ticks": ""
             }
            },
            "type": "scatterpolargl"
           }
          ],
          "scatterternary": [
           {
            "marker": {
             "colorbar": {
              "outlinewidth": 0,
              "ticks": ""
             }
            },
            "type": "scatterternary"
           }
          ],
          "surface": [
           {
            "colorbar": {
             "outlinewidth": 0,
             "ticks": ""
            },
            "colorscale": [
             [
              0,
              "#0d0887"
             ],
             [
              0.1111111111111111,
              "#46039f"
             ],
             [
              0.2222222222222222,
              "#7201a8"
             ],
             [
              0.3333333333333333,
              "#9c179e"
             ],
             [
              0.4444444444444444,
              "#bd3786"
             ],
             [
              0.5555555555555556,
              "#d8576b"
             ],
             [
              0.6666666666666666,
              "#ed7953"
             ],
             [
              0.7777777777777778,
              "#fb9f3a"
             ],
             [
              0.8888888888888888,
              "#fdca26"
             ],
             [
              1,
              "#f0f921"
             ]
            ],
            "type": "surface"
           }
          ],
          "table": [
           {
            "cells": {
             "fill": {
              "color": "#EBF0F8"
             },
             "line": {
              "color": "white"
             }
            },
            "header": {
             "fill": {
              "color": "#C8D4E3"
             },
             "line": {
              "color": "white"
             }
            },
            "type": "table"
           }
          ]
         },
         "layout": {
          "annotationdefaults": {
           "arrowcolor": "#2a3f5f",
           "arrowhead": 0,
           "arrowwidth": 1
          },
          "autotypenumbers": "strict",
          "coloraxis": {
           "colorbar": {
            "outlinewidth": 0,
            "ticks": ""
           }
          },
          "colorscale": {
           "diverging": [
            [
             0,
             "#8e0152"
            ],
            [
             0.1,
             "#c51b7d"
            ],
            [
             0.2,
             "#de77ae"
            ],
            [
             0.3,
             "#f1b6da"
            ],
            [
             0.4,
             "#fde0ef"
            ],
            [
             0.5,
             "#f7f7f7"
            ],
            [
             0.6,
             "#e6f5d0"
            ],
            [
             0.7,
             "#b8e186"
            ],
            [
             0.8,
             "#7fbc41"
            ],
            [
             0.9,
             "#4d9221"
            ],
            [
             1,
             "#276419"
            ]
           ],
           "sequential": [
            [
             0,
             "#0d0887"
            ],
            [
             0.1111111111111111,
             "#46039f"
            ],
            [
             0.2222222222222222,
             "#7201a8"
            ],
            [
             0.3333333333333333,
             "#9c179e"
            ],
            [
             0.4444444444444444,
             "#bd3786"
            ],
            [
             0.5555555555555556,
             "#d8576b"
            ],
            [
             0.6666666666666666,
             "#ed7953"
            ],
            [
             0.7777777777777778,
             "#fb9f3a"
            ],
            [
             0.8888888888888888,
             "#fdca26"
            ],
            [
             1,
             "#f0f921"
            ]
           ],
           "sequentialminus": [
            [
             0,
             "#0d0887"
            ],
            [
             0.1111111111111111,
             "#46039f"
            ],
            [
             0.2222222222222222,
             "#7201a8"
            ],
            [
             0.3333333333333333,
             "#9c179e"
            ],
            [
             0.4444444444444444,
             "#bd3786"
            ],
            [
             0.5555555555555556,
             "#d8576b"
            ],
            [
             0.6666666666666666,
             "#ed7953"
            ],
            [
             0.7777777777777778,
             "#fb9f3a"
            ],
            [
             0.8888888888888888,
             "#fdca26"
            ],
            [
             1,
             "#f0f921"
            ]
           ]
          },
          "colorway": [
           "#636efa",
           "#EF553B",
           "#00cc96",
           "#ab63fa",
           "#FFA15A",
           "#19d3f3",
           "#FF6692",
           "#B6E880",
           "#FF97FF",
           "#FECB52"
          ],
          "font": {
           "color": "#2a3f5f"
          },
          "geo": {
           "bgcolor": "white",
           "lakecolor": "white",
           "landcolor": "#E5ECF6",
           "showlakes": true,
           "showland": true,
           "subunitcolor": "white"
          },
          "hoverlabel": {
           "align": "left"
          },
          "hovermode": "closest",
          "mapbox": {
           "style": "light"
          },
          "paper_bgcolor": "white",
          "plot_bgcolor": "#E5ECF6",
          "polar": {
           "angularaxis": {
            "gridcolor": "white",
            "linecolor": "white",
            "ticks": ""
           },
           "bgcolor": "#E5ECF6",
           "radialaxis": {
            "gridcolor": "white",
            "linecolor": "white",
            "ticks": ""
           }
          },
          "scene": {
           "xaxis": {
            "backgroundcolor": "#E5ECF6",
            "gridcolor": "white",
            "gridwidth": 2,
            "linecolor": "white",
            "showbackground": true,
            "ticks": "",
            "zerolinecolor": "white"
           },
           "yaxis": {
            "backgroundcolor": "#E5ECF6",
            "gridcolor": "white",
            "gridwidth": 2,
            "linecolor": "white",
            "showbackground": true,
            "ticks": "",
            "zerolinecolor": "white"
           },
           "zaxis": {
            "backgroundcolor": "#E5ECF6",
            "gridcolor": "white",
            "gridwidth": 2,
            "linecolor": "white",
            "showbackground": true,
            "ticks": "",
            "zerolinecolor": "white"
           }
          },
          "shapedefaults": {
           "line": {
            "color": "#2a3f5f"
           }
          },
          "ternary": {
           "aaxis": {
            "gridcolor": "white",
            "linecolor": "white",
            "ticks": ""
           },
           "baxis": {
            "gridcolor": "white",
            "linecolor": "white",
            "ticks": ""
           },
           "bgcolor": "#E5ECF6",
           "caxis": {
            "gridcolor": "white",
            "linecolor": "white",
            "ticks": ""
           }
          },
          "title": {
           "x": 0.05
          },
          "xaxis": {
           "automargin": true,
           "gridcolor": "white",
           "linecolor": "white",
           "ticks": "",
           "title": {
            "standoff": 15
           },
           "zerolinecolor": "white",
           "zerolinewidth": 2
          },
          "yaxis": {
           "automargin": true,
           "gridcolor": "white",
           "linecolor": "white",
           "ticks": "",
           "title": {
            "standoff": 15
           },
           "zerolinecolor": "white",
           "zerolinewidth": 2
          }
         }
        },
        "title": {
         "text": "Residual plot of IRLT"
        },
        "xaxis": {
         "anchor": "y",
         "domain": [
          0,
          1
         ],
         "title": {
          "text": "IRLT"
         }
        },
        "yaxis": {
         "anchor": "x",
         "domain": [
          0,
          1
         ],
         "title": {
          "text": "Residuals"
         }
        }
       }
      }
     },
     "metadata": {},
     "output_type": "display_data"
    },
    {
     "data": {
      "application/vnd.plotly.v1+json": {
       "config": {
        "plotlyServerURL": "https://plot.ly"
       },
       "data": [
        {
         "hovertemplate": "UNEMP=%{x}<br>Residuals=%{y}<extra></extra>",
         "legendgroup": "",
         "marker": {
          "color": "#636efa",
          "symbol": "circle"
         },
         "mode": "markers",
         "name": "",
         "orientation": "v",
         "showlegend": false,
         "type": "scatter",
         "x": [
          -0.2400532715815779,
          -0.2695264661474357,
          0.19783419053972745,
          0.7072994108923966,
          0.6504582499439582,
          0.8336131018889266,
          0.2504648951216142,
          0.5073027334812235,
          -1.1284595649238391,
          0.12836166049163364,
          -0.7200452973683915,
          2.8335798760006594,
          -0.16005460061710813,
          -0.9095158338631865,
          -1.0147772430269624,
          0.4263711043109321,
          -0.7368871228345957,
          -0.8693005262266055,
          -0.6863616464359844,
          0.6778262163265314,
          -0.35794604984500655,
          -0.8463589883649215,
          -0.19584347973279226,
          -0.7789916865001046,
          -0.9853040484611044,
          -0.3832087880443127,
          2.0925395554876665,
          -0.7726760019502783,
          -0.5137329354073918,
          -0.7916230555997578,
          -1.4295071951322338,
          -0.8901472981938575,
          0.43151451888330533,
          1.1767652957628245,
          0.30520082788677805,
          -1.3158248732353568,
          -0.49057542539136306,
          -0.17689642608331296,
          0.8967699473871915,
          -0.41899766715999437,
          -1.3726660341837962,
          1.4778129259712294,
          0.346252777460648,
          0.9788738465349363,
          0.2736224051376429,
          -1.15582753130642,
          -0.8028332755373914,
          -0.9937249611942056,
          -0.751623720117524,
          -0.6850967137663772,
          -0.13900231878435387,
          -0.5895211500053097,
          -0.46110223082550533,
          -0.7600446328506253,
          1.1957123494123039,
          -0.4568917744589534,
          0.6757209881432641,
          0.4125674652338287,
          -0.5832054654554834,
          -0.07584547328608891,
          -1.0547765785091958,
          0.15783485505749165,
          -0.6463623109537483,
          1.3072894431259139,
          -0.751623720117524,
          -0.7789916865001046,
          0.06099435862681702,
          -0.11163435240177327,
          2.3514826220305527,
          -0.1895277951829659,
          0.1915185059898986,
          0.9936104438178562,
          -0.0063729432379973595,
          0.966242477435283,
          0.23993875420523592,
          -0.8589903574645744,
          0.0062584258616555895,
          -0.7179400691851169,
          -0.538995673606698,
          -0.7594095715461479,
          0.6230902835613851,
          -0.7886019595895927,
          0.3241478815362574,
          -0.8316223910819939,
          -1.0358295248597165,
          -0.6084682036547893,
          -0.2400532715815779,
          -0.41478721079344516,
          0.20625510327282895,
          -0.3705774189446595,
          -0.6387665929325582,
          1.122029362997678,
          -0.5221538481404947,
          0.0630995868100942,
          0.15572962687421446,
          -0.6253100291209941,
          1.3851828859070987,
          0.08204664045957351,
          0.38730472703452234,
          -0.17268596971676106,
          -0.9263576593293913,
          -0.08426638601918998,
          0.1557296268742167,
          -0.012688627787823946,
          -0.7242557537349434,
          -0.34952513711190303,
          1.8862271935266843,
          -0.11795003695159964,
          1.9093847035426983,
          -0.23373758703175135,
          -0.402155841693792,
          -0.6568884518701266,
          0.03994207679406502,
          -0.29057874798018973,
          -0.7901272829983953,
          -0.7389923510178711,
          1.2778162485600566,
          0.40739339426549115,
          0.32877938353946284,
          0.5115131898477752
         ],
         "xaxis": "x",
         "y": [
          -0.033384157129372816,
          -0.0013317154015389243,
          0.030238383408273617,
          0.0680302754189977,
          -0.034956312547245016,
          0.04218787813048308,
          -0.007832951761780282,
          0.03488022646940281,
          -0.02059957018924813,
          0.037180649876763616,
          0.0471042690913796,
          0.016114605696050777,
          -0.019407437886018397,
          -0.026822910709218023,
          -0.00875720678949582,
          -0.020900003380692422,
          -0.001954953598326925,
          -0.016201223491338235,
          0.023588401357635513,
          0.033527882834280764,
          -0.04981174654941911,
          0.011143912535614586,
          0.009976293936422131,
          -0.017331389245818896,
          -0.018441787048159575,
          -0.006989289544756416,
          -0.004376934875604921,
          -0.02393387503886235,
          0.02018194994189415,
          0.02348853896617159,
          -0.031982829960250314,
          -0.019390442775290895,
          0.02487282447977135,
          0.03624499367137779,
          0.06511049212756881,
          -0.0070521094614157676,
          0.01159173495009741,
          -0.027561658540162848,
          0.04369999150028503,
          0.010506660357418207,
          0.017343156786355285,
          0.016305338417195003,
          -0.0007269173904836945,
          0.037779698397149286,
          0.005359386947798361,
          0.013552551474676322,
          -0.010023688606845438,
          -0.0070870574803386654,
          -0.01386859340986818,
          0.004141761810504518,
          0.00751007406216625,
          0.02383882538608295,
          -0.01673394281285423,
          0.009695512994953193,
          0.02521423999252498,
          -0.027018173304551363,
          0.0364362671059828,
          -0.015078227620501317,
          0.03269674164943842,
          0.013269280109307446,
          -0.004652650286968207,
          -0.006429688893980601,
          -0.007164701831888887,
          -0.045472070674267395,
          0.010923056434839151,
          0.020951118077449538,
          0.08060633343465601,
          0.010702340933716636,
          0.0006849755286659209,
          0.022235550576475804,
          -0.028107849027040666,
          0.016482631079420385,
          0.07672367247152218,
          0.04097634756210056,
          -0.035850413857013874,
          0.029152881322354995,
          -0.018289824079025907,
          -0.018759741145300934,
          0.0442712055127924,
          -0.003676901688836942,
          -0.009831037585273927,
          -0.007067404305365954,
          0.0022932079702606134,
          0.04002958053615768,
          0.006692848559830988,
          -0.028066879103847697,
          -0.0035997089582305852,
          -0.0016017449644294968,
          -0.013857824616633763,
          0.020766722052285358,
          0.00498011838858925,
          0.030669642768724525,
          -0.01415587747221625,
          0.003177749347551384,
          0.0009187119612680816,
          0.06345349919037341,
          0.025805031695359804,
          -0.0001701776111775466,
          -0.0064882494830753035,
          -0.01764151893927407,
          0.04630715695340981,
          0.008334361901278953,
          0.039336113263176486,
          0.03197874530765982,
          -0.02213926518837911,
          -0.02801304273786351,
          -0.008117526404054443,
          -0.0027719151682934484,
          0.004965950431016164,
          -0.024244149944225635,
          0.00852786483959661,
          -0.027216954592722054,
          -0.06330064975479521,
          -0.011402910821716905,
          -0.009680714988973549,
          0.007501806024007074,
          0.04190979475049994,
          -0.015487265070270373,
          -0.0006355242720026411,
          -0.008727666677694368
         ],
         "yaxis": "y"
        }
       ],
       "layout": {
        "legend": {
         "tracegroupgap": 0
        },
        "template": {
         "data": {
          "bar": [
           {
            "error_x": {
             "color": "#2a3f5f"
            },
            "error_y": {
             "color": "#2a3f5f"
            },
            "marker": {
             "line": {
              "color": "#E5ECF6",
              "width": 0.5
             },
             "pattern": {
              "fillmode": "overlay",
              "size": 10,
              "solidity": 0.2
             }
            },
            "type": "bar"
           }
          ],
          "barpolar": [
           {
            "marker": {
             "line": {
              "color": "#E5ECF6",
              "width": 0.5
             },
             "pattern": {
              "fillmode": "overlay",
              "size": 10,
              "solidity": 0.2
             }
            },
            "type": "barpolar"
           }
          ],
          "carpet": [
           {
            "aaxis": {
             "endlinecolor": "#2a3f5f",
             "gridcolor": "white",
             "linecolor": "white",
             "minorgridcolor": "white",
             "startlinecolor": "#2a3f5f"
            },
            "baxis": {
             "endlinecolor": "#2a3f5f",
             "gridcolor": "white",
             "linecolor": "white",
             "minorgridcolor": "white",
             "startlinecolor": "#2a3f5f"
            },
            "type": "carpet"
           }
          ],
          "choropleth": [
           {
            "colorbar": {
             "outlinewidth": 0,
             "ticks": ""
            },
            "type": "choropleth"
           }
          ],
          "contour": [
           {
            "colorbar": {
             "outlinewidth": 0,
             "ticks": ""
            },
            "colorscale": [
             [
              0,
              "#0d0887"
             ],
             [
              0.1111111111111111,
              "#46039f"
             ],
             [
              0.2222222222222222,
              "#7201a8"
             ],
             [
              0.3333333333333333,
              "#9c179e"
             ],
             [
              0.4444444444444444,
              "#bd3786"
             ],
             [
              0.5555555555555556,
              "#d8576b"
             ],
             [
              0.6666666666666666,
              "#ed7953"
             ],
             [
              0.7777777777777778,
              "#fb9f3a"
             ],
             [
              0.8888888888888888,
              "#fdca26"
             ],
             [
              1,
              "#f0f921"
             ]
            ],
            "type": "contour"
           }
          ],
          "contourcarpet": [
           {
            "colorbar": {
             "outlinewidth": 0,
             "ticks": ""
            },
            "type": "contourcarpet"
           }
          ],
          "heatmap": [
           {
            "colorbar": {
             "outlinewidth": 0,
             "ticks": ""
            },
            "colorscale": [
             [
              0,
              "#0d0887"
             ],
             [
              0.1111111111111111,
              "#46039f"
             ],
             [
              0.2222222222222222,
              "#7201a8"
             ],
             [
              0.3333333333333333,
              "#9c179e"
             ],
             [
              0.4444444444444444,
              "#bd3786"
             ],
             [
              0.5555555555555556,
              "#d8576b"
             ],
             [
              0.6666666666666666,
              "#ed7953"
             ],
             [
              0.7777777777777778,
              "#fb9f3a"
             ],
             [
              0.8888888888888888,
              "#fdca26"
             ],
             [
              1,
              "#f0f921"
             ]
            ],
            "type": "heatmap"
           }
          ],
          "heatmapgl": [
           {
            "colorbar": {
             "outlinewidth": 0,
             "ticks": ""
            },
            "colorscale": [
             [
              0,
              "#0d0887"
             ],
             [
              0.1111111111111111,
              "#46039f"
             ],
             [
              0.2222222222222222,
              "#7201a8"
             ],
             [
              0.3333333333333333,
              "#9c179e"
             ],
             [
              0.4444444444444444,
              "#bd3786"
             ],
             [
              0.5555555555555556,
              "#d8576b"
             ],
             [
              0.6666666666666666,
              "#ed7953"
             ],
             [
              0.7777777777777778,
              "#fb9f3a"
             ],
             [
              0.8888888888888888,
              "#fdca26"
             ],
             [
              1,
              "#f0f921"
             ]
            ],
            "type": "heatmapgl"
           }
          ],
          "histogram": [
           {
            "marker": {
             "pattern": {
              "fillmode": "overlay",
              "size": 10,
              "solidity": 0.2
             }
            },
            "type": "histogram"
           }
          ],
          "histogram2d": [
           {
            "colorbar": {
             "outlinewidth": 0,
             "ticks": ""
            },
            "colorscale": [
             [
              0,
              "#0d0887"
             ],
             [
              0.1111111111111111,
              "#46039f"
             ],
             [
              0.2222222222222222,
              "#7201a8"
             ],
             [
              0.3333333333333333,
              "#9c179e"
             ],
             [
              0.4444444444444444,
              "#bd3786"
             ],
             [
              0.5555555555555556,
              "#d8576b"
             ],
             [
              0.6666666666666666,
              "#ed7953"
             ],
             [
              0.7777777777777778,
              "#fb9f3a"
             ],
             [
              0.8888888888888888,
              "#fdca26"
             ],
             [
              1,
              "#f0f921"
             ]
            ],
            "type": "histogram2d"
           }
          ],
          "histogram2dcontour": [
           {
            "colorbar": {
             "outlinewidth": 0,
             "ticks": ""
            },
            "colorscale": [
             [
              0,
              "#0d0887"
             ],
             [
              0.1111111111111111,
              "#46039f"
             ],
             [
              0.2222222222222222,
              "#7201a8"
             ],
             [
              0.3333333333333333,
              "#9c179e"
             ],
             [
              0.4444444444444444,
              "#bd3786"
             ],
             [
              0.5555555555555556,
              "#d8576b"
             ],
             [
              0.6666666666666666,
              "#ed7953"
             ],
             [
              0.7777777777777778,
              "#fb9f3a"
             ],
             [
              0.8888888888888888,
              "#fdca26"
             ],
             [
              1,
              "#f0f921"
             ]
            ],
            "type": "histogram2dcontour"
           }
          ],
          "mesh3d": [
           {
            "colorbar": {
             "outlinewidth": 0,
             "ticks": ""
            },
            "type": "mesh3d"
           }
          ],
          "parcoords": [
           {
            "line": {
             "colorbar": {
              "outlinewidth": 0,
              "ticks": ""
             }
            },
            "type": "parcoords"
           }
          ],
          "pie": [
           {
            "automargin": true,
            "type": "pie"
           }
          ],
          "scatter": [
           {
            "fillpattern": {
             "fillmode": "overlay",
             "size": 10,
             "solidity": 0.2
            },
            "type": "scatter"
           }
          ],
          "scatter3d": [
           {
            "line": {
             "colorbar": {
              "outlinewidth": 0,
              "ticks": ""
             }
            },
            "marker": {
             "colorbar": {
              "outlinewidth": 0,
              "ticks": ""
             }
            },
            "type": "scatter3d"
           }
          ],
          "scattercarpet": [
           {
            "marker": {
             "colorbar": {
              "outlinewidth": 0,
              "ticks": ""
             }
            },
            "type": "scattercarpet"
           }
          ],
          "scattergeo": [
           {
            "marker": {
             "colorbar": {
              "outlinewidth": 0,
              "ticks": ""
             }
            },
            "type": "scattergeo"
           }
          ],
          "scattergl": [
           {
            "marker": {
             "colorbar": {
              "outlinewidth": 0,
              "ticks": ""
             }
            },
            "type": "scattergl"
           }
          ],
          "scattermapbox": [
           {
            "marker": {
             "colorbar": {
              "outlinewidth": 0,
              "ticks": ""
             }
            },
            "type": "scattermapbox"
           }
          ],
          "scatterpolar": [
           {
            "marker": {
             "colorbar": {
              "outlinewidth": 0,
              "ticks": ""
             }
            },
            "type": "scatterpolar"
           }
          ],
          "scatterpolargl": [
           {
            "marker": {
             "colorbar": {
              "outlinewidth": 0,
              "ticks": ""
             }
            },
            "type": "scatterpolargl"
           }
          ],
          "scatterternary": [
           {
            "marker": {
             "colorbar": {
              "outlinewidth": 0,
              "ticks": ""
             }
            },
            "type": "scatterternary"
           }
          ],
          "surface": [
           {
            "colorbar": {
             "outlinewidth": 0,
             "ticks": ""
            },
            "colorscale": [
             [
              0,
              "#0d0887"
             ],
             [
              0.1111111111111111,
              "#46039f"
             ],
             [
              0.2222222222222222,
              "#7201a8"
             ],
             [
              0.3333333333333333,
              "#9c179e"
             ],
             [
              0.4444444444444444,
              "#bd3786"
             ],
             [
              0.5555555555555556,
              "#d8576b"
             ],
             [
              0.6666666666666666,
              "#ed7953"
             ],
             [
              0.7777777777777778,
              "#fb9f3a"
             ],
             [
              0.8888888888888888,
              "#fdca26"
             ],
             [
              1,
              "#f0f921"
             ]
            ],
            "type": "surface"
           }
          ],
          "table": [
           {
            "cells": {
             "fill": {
              "color": "#EBF0F8"
             },
             "line": {
              "color": "white"
             }
            },
            "header": {
             "fill": {
              "color": "#C8D4E3"
             },
             "line": {
              "color": "white"
             }
            },
            "type": "table"
           }
          ]
         },
         "layout": {
          "annotationdefaults": {
           "arrowcolor": "#2a3f5f",
           "arrowhead": 0,
           "arrowwidth": 1
          },
          "autotypenumbers": "strict",
          "coloraxis": {
           "colorbar": {
            "outlinewidth": 0,
            "ticks": ""
           }
          },
          "colorscale": {
           "diverging": [
            [
             0,
             "#8e0152"
            ],
            [
             0.1,
             "#c51b7d"
            ],
            [
             0.2,
             "#de77ae"
            ],
            [
             0.3,
             "#f1b6da"
            ],
            [
             0.4,
             "#fde0ef"
            ],
            [
             0.5,
             "#f7f7f7"
            ],
            [
             0.6,
             "#e6f5d0"
            ],
            [
             0.7,
             "#b8e186"
            ],
            [
             0.8,
             "#7fbc41"
            ],
            [
             0.9,
             "#4d9221"
            ],
            [
             1,
             "#276419"
            ]
           ],
           "sequential": [
            [
             0,
             "#0d0887"
            ],
            [
             0.1111111111111111,
             "#46039f"
            ],
            [
             0.2222222222222222,
             "#7201a8"
            ],
            [
             0.3333333333333333,
             "#9c179e"
            ],
            [
             0.4444444444444444,
             "#bd3786"
            ],
            [
             0.5555555555555556,
             "#d8576b"
            ],
            [
             0.6666666666666666,
             "#ed7953"
            ],
            [
             0.7777777777777778,
             "#fb9f3a"
            ],
            [
             0.8888888888888888,
             "#fdca26"
            ],
            [
             1,
             "#f0f921"
            ]
           ],
           "sequentialminus": [
            [
             0,
             "#0d0887"
            ],
            [
             0.1111111111111111,
             "#46039f"
            ],
            [
             0.2222222222222222,
             "#7201a8"
            ],
            [
             0.3333333333333333,
             "#9c179e"
            ],
            [
             0.4444444444444444,
             "#bd3786"
            ],
            [
             0.5555555555555556,
             "#d8576b"
            ],
            [
             0.6666666666666666,
             "#ed7953"
            ],
            [
             0.7777777777777778,
             "#fb9f3a"
            ],
            [
             0.8888888888888888,
             "#fdca26"
            ],
            [
             1,
             "#f0f921"
            ]
           ]
          },
          "colorway": [
           "#636efa",
           "#EF553B",
           "#00cc96",
           "#ab63fa",
           "#FFA15A",
           "#19d3f3",
           "#FF6692",
           "#B6E880",
           "#FF97FF",
           "#FECB52"
          ],
          "font": {
           "color": "#2a3f5f"
          },
          "geo": {
           "bgcolor": "white",
           "lakecolor": "white",
           "landcolor": "#E5ECF6",
           "showlakes": true,
           "showland": true,
           "subunitcolor": "white"
          },
          "hoverlabel": {
           "align": "left"
          },
          "hovermode": "closest",
          "mapbox": {
           "style": "light"
          },
          "paper_bgcolor": "white",
          "plot_bgcolor": "#E5ECF6",
          "polar": {
           "angularaxis": {
            "gridcolor": "white",
            "linecolor": "white",
            "ticks": ""
           },
           "bgcolor": "#E5ECF6",
           "radialaxis": {
            "gridcolor": "white",
            "linecolor": "white",
            "ticks": ""
           }
          },
          "scene": {
           "xaxis": {
            "backgroundcolor": "#E5ECF6",
            "gridcolor": "white",
            "gridwidth": 2,
            "linecolor": "white",
            "showbackground": true,
            "ticks": "",
            "zerolinecolor": "white"
           },
           "yaxis": {
            "backgroundcolor": "#E5ECF6",
            "gridcolor": "white",
            "gridwidth": 2,
            "linecolor": "white",
            "showbackground": true,
            "ticks": "",
            "zerolinecolor": "white"
           },
           "zaxis": {
            "backgroundcolor": "#E5ECF6",
            "gridcolor": "white",
            "gridwidth": 2,
            "linecolor": "white",
            "showbackground": true,
            "ticks": "",
            "zerolinecolor": "white"
           }
          },
          "shapedefaults": {
           "line": {
            "color": "#2a3f5f"
           }
          },
          "ternary": {
           "aaxis": {
            "gridcolor": "white",
            "linecolor": "white",
            "ticks": ""
           },
           "baxis": {
            "gridcolor": "white",
            "linecolor": "white",
            "ticks": ""
           },
           "bgcolor": "#E5ECF6",
           "caxis": {
            "gridcolor": "white",
            "linecolor": "white",
            "ticks": ""
           }
          },
          "title": {
           "x": 0.05
          },
          "xaxis": {
           "automargin": true,
           "gridcolor": "white",
           "linecolor": "white",
           "ticks": "",
           "title": {
            "standoff": 15
           },
           "zerolinecolor": "white",
           "zerolinewidth": 2
          },
          "yaxis": {
           "automargin": true,
           "gridcolor": "white",
           "linecolor": "white",
           "ticks": "",
           "title": {
            "standoff": 15
           },
           "zerolinecolor": "white",
           "zerolinewidth": 2
          }
         }
        },
        "title": {
         "text": "Residual plot of UNEMP"
        },
        "xaxis": {
         "anchor": "y",
         "domain": [
          0,
          1
         ],
         "title": {
          "text": "UNEMP"
         }
        },
        "yaxis": {
         "anchor": "x",
         "domain": [
          0,
          1
         ],
         "title": {
          "text": "Residuals"
         }
        }
       }
      }
     },
     "metadata": {},
     "output_type": "display_data"
    },
    {
     "data": {
      "application/vnd.plotly.v1+json": {
       "config": {
        "plotlyServerURL": "https://plot.ly"
       },
       "data": [
        {
         "hovertemplate": "Population, total=%{x}<br>Residuals=%{y}<extra></extra>",
         "legendgroup": "",
         "marker": {
          "color": "#636efa",
          "symbol": "circle"
         },
         "mode": "markers",
         "name": "",
         "orientation": "v",
         "showlegend": false,
         "type": "scatter",
         "x": [
          -0.42954353287407365,
          -0.446930366063261,
          -0.7583539456521488,
          -0.7203589603834366,
          2.33360611064516,
          -0.4273384768722085,
          -0.6220084433600768,
          1.4591672498410482,
          -0.6475877760417669,
          1.3664599600900125,
          1.4357817295322417,
          0.6323246275986535,
          -0.44158799220805817,
          -0.627982801262036,
          -0.6242353342591794,
          -0.6479979190675567,
          -0.643534927470868,
          -0.5260132555505014,
          -0.4936385114320654,
          -0.4124917444788768,
          -0.6238708181100423,
          -0.8147490338140134,
          -0.4520960269100654,
          -0.6249199292797717,
          4.057708783598409,
          -0.6209419486957101,
          -0.7538464784036178,
          -0.17163697942101794,
          -0.5192937482029221,
          -0.6688906155460552,
          -0.42497152028783886,
          -0.5292544522558986,
          -0.7576904947939077,
          -0.42715224707204397,
          -0.721412599704087,
          -0.6521762895169508,
          -0.6130785076281837,
          2.310046179777576,
          -0.43665553113368305,
          -0.6147871938659591,
          -0.8209299981952815,
          -0.6554510252384915,
          1.01410362301288,
          -0.7193872498951273,
          -0.6328410467102998,
          -0.8216779873287672,
          -0.5224642213307996,
          -0.6290457655036508,
          2.2618212957210524,
          0.012563825389274703,
          -0.6174177809319134,
          -0.8090940640486232,
          -0.8204619101873676,
          -0.8141345483843753,
          -0.6588448743537495,
          -0.42898472835109913,
          1.4857482248561185,
          1.5048163835067536,
          -0.8100021885532372,
          1.5569134889614222,
          -0.6233079843002314,
          -0.40465320824141576,
          -0.3920061210933403,
          -0.6249499762473235,
          -0.815307070853781,
          -0.4921266078885499,
          -0.430576718767259,
          -0.4251337662377864,
          0.9550902275163721,
          -0.44580343209634765,
          2.3325406520831233,
          -0.7556524431378732,
          -0.7228201255314584,
          1.4936432478576105,
          1.5734649550540136,
          -0.6554711716726738,
          -0.4702804670220673,
          2.253387346011646,
          -0.7074060695515552,
          -0.5115662667855054,
          0.6277558768160483,
          -0.5326117691705062,
          0.6257823321235572,
          -0.6732528749718327,
          1.7319018474713466,
          2.247598987664889,
          -0.4218998606228551,
          0.624184125093421,
          1.5219203607600225,
          -0.811028006607636,
          -0.06798461165578182,
          1.4785410970530086,
          -0.6415762335784313,
          -0.4347106903131316,
          -0.6270719521920372,
          1.4270646936419544,
          -0.7182328016552451,
          -0.4281170502114908,
          -0.6226136806170712,
          -0.4844293269353265,
          -0.7088878877533584,
          -0.45685054700291094,
          1.441835023082035,
          1.4348489304425243,
          -0.42818992274198997,
          -0.7561195717917784,
          -0.7166847112785223,
          -0.45426865674643724,
          -0.6563828649742002,
          -0.17936208164049303,
          -0.8105517832777285,
          -0.4376772047787643,
          -0.6241601209048991,
          -0.2080864837559109,
          -0.5085538184499373,
          -0.6640803761723857,
          -0.4354036125265192,
          -0.6461191201769626,
          0.9874886101175818,
          0.6277593688646399
         ],
         "xaxis": "x",
         "y": [
          -0.033384157129372816,
          -0.0013317154015389243,
          0.030238383408273617,
          0.0680302754189977,
          -0.034956312547245016,
          0.04218787813048308,
          -0.007832951761780282,
          0.03488022646940281,
          -0.02059957018924813,
          0.037180649876763616,
          0.0471042690913796,
          0.016114605696050777,
          -0.019407437886018397,
          -0.026822910709218023,
          -0.00875720678949582,
          -0.020900003380692422,
          -0.001954953598326925,
          -0.016201223491338235,
          0.023588401357635513,
          0.033527882834280764,
          -0.04981174654941911,
          0.011143912535614586,
          0.009976293936422131,
          -0.017331389245818896,
          -0.018441787048159575,
          -0.006989289544756416,
          -0.004376934875604921,
          -0.02393387503886235,
          0.02018194994189415,
          0.02348853896617159,
          -0.031982829960250314,
          -0.019390442775290895,
          0.02487282447977135,
          0.03624499367137779,
          0.06511049212756881,
          -0.0070521094614157676,
          0.01159173495009741,
          -0.027561658540162848,
          0.04369999150028503,
          0.010506660357418207,
          0.017343156786355285,
          0.016305338417195003,
          -0.0007269173904836945,
          0.037779698397149286,
          0.005359386947798361,
          0.013552551474676322,
          -0.010023688606845438,
          -0.0070870574803386654,
          -0.01386859340986818,
          0.004141761810504518,
          0.00751007406216625,
          0.02383882538608295,
          -0.01673394281285423,
          0.009695512994953193,
          0.02521423999252498,
          -0.027018173304551363,
          0.0364362671059828,
          -0.015078227620501317,
          0.03269674164943842,
          0.013269280109307446,
          -0.004652650286968207,
          -0.006429688893980601,
          -0.007164701831888887,
          -0.045472070674267395,
          0.010923056434839151,
          0.020951118077449538,
          0.08060633343465601,
          0.010702340933716636,
          0.0006849755286659209,
          0.022235550576475804,
          -0.028107849027040666,
          0.016482631079420385,
          0.07672367247152218,
          0.04097634756210056,
          -0.035850413857013874,
          0.029152881322354995,
          -0.018289824079025907,
          -0.018759741145300934,
          0.0442712055127924,
          -0.003676901688836942,
          -0.009831037585273927,
          -0.007067404305365954,
          0.0022932079702606134,
          0.04002958053615768,
          0.006692848559830988,
          -0.028066879103847697,
          -0.0035997089582305852,
          -0.0016017449644294968,
          -0.013857824616633763,
          0.020766722052285358,
          0.00498011838858925,
          0.030669642768724525,
          -0.01415587747221625,
          0.003177749347551384,
          0.0009187119612680816,
          0.06345349919037341,
          0.025805031695359804,
          -0.0001701776111775466,
          -0.0064882494830753035,
          -0.01764151893927407,
          0.04630715695340981,
          0.008334361901278953,
          0.039336113263176486,
          0.03197874530765982,
          -0.02213926518837911,
          -0.02801304273786351,
          -0.008117526404054443,
          -0.0027719151682934484,
          0.004965950431016164,
          -0.024244149944225635,
          0.00852786483959661,
          -0.027216954592722054,
          -0.06330064975479521,
          -0.011402910821716905,
          -0.009680714988973549,
          0.007501806024007074,
          0.04190979475049994,
          -0.015487265070270373,
          -0.0006355242720026411,
          -0.008727666677694368
         ],
         "yaxis": "y"
        }
       ],
       "layout": {
        "legend": {
         "tracegroupgap": 0
        },
        "template": {
         "data": {
          "bar": [
           {
            "error_x": {
             "color": "#2a3f5f"
            },
            "error_y": {
             "color": "#2a3f5f"
            },
            "marker": {
             "line": {
              "color": "#E5ECF6",
              "width": 0.5
             },
             "pattern": {
              "fillmode": "overlay",
              "size": 10,
              "solidity": 0.2
             }
            },
            "type": "bar"
           }
          ],
          "barpolar": [
           {
            "marker": {
             "line": {
              "color": "#E5ECF6",
              "width": 0.5
             },
             "pattern": {
              "fillmode": "overlay",
              "size": 10,
              "solidity": 0.2
             }
            },
            "type": "barpolar"
           }
          ],
          "carpet": [
           {
            "aaxis": {
             "endlinecolor": "#2a3f5f",
             "gridcolor": "white",
             "linecolor": "white",
             "minorgridcolor": "white",
             "startlinecolor": "#2a3f5f"
            },
            "baxis": {
             "endlinecolor": "#2a3f5f",
             "gridcolor": "white",
             "linecolor": "white",
             "minorgridcolor": "white",
             "startlinecolor": "#2a3f5f"
            },
            "type": "carpet"
           }
          ],
          "choropleth": [
           {
            "colorbar": {
             "outlinewidth": 0,
             "ticks": ""
            },
            "type": "choropleth"
           }
          ],
          "contour": [
           {
            "colorbar": {
             "outlinewidth": 0,
             "ticks": ""
            },
            "colorscale": [
             [
              0,
              "#0d0887"
             ],
             [
              0.1111111111111111,
              "#46039f"
             ],
             [
              0.2222222222222222,
              "#7201a8"
             ],
             [
              0.3333333333333333,
              "#9c179e"
             ],
             [
              0.4444444444444444,
              "#bd3786"
             ],
             [
              0.5555555555555556,
              "#d8576b"
             ],
             [
              0.6666666666666666,
              "#ed7953"
             ],
             [
              0.7777777777777778,
              "#fb9f3a"
             ],
             [
              0.8888888888888888,
              "#fdca26"
             ],
             [
              1,
              "#f0f921"
             ]
            ],
            "type": "contour"
           }
          ],
          "contourcarpet": [
           {
            "colorbar": {
             "outlinewidth": 0,
             "ticks": ""
            },
            "type": "contourcarpet"
           }
          ],
          "heatmap": [
           {
            "colorbar": {
             "outlinewidth": 0,
             "ticks": ""
            },
            "colorscale": [
             [
              0,
              "#0d0887"
             ],
             [
              0.1111111111111111,
              "#46039f"
             ],
             [
              0.2222222222222222,
              "#7201a8"
             ],
             [
              0.3333333333333333,
              "#9c179e"
             ],
             [
              0.4444444444444444,
              "#bd3786"
             ],
             [
              0.5555555555555556,
              "#d8576b"
             ],
             [
              0.6666666666666666,
              "#ed7953"
             ],
             [
              0.7777777777777778,
              "#fb9f3a"
             ],
             [
              0.8888888888888888,
              "#fdca26"
             ],
             [
              1,
              "#f0f921"
             ]
            ],
            "type": "heatmap"
           }
          ],
          "heatmapgl": [
           {
            "colorbar": {
             "outlinewidth": 0,
             "ticks": ""
            },
            "colorscale": [
             [
              0,
              "#0d0887"
             ],
             [
              0.1111111111111111,
              "#46039f"
             ],
             [
              0.2222222222222222,
              "#7201a8"
             ],
             [
              0.3333333333333333,
              "#9c179e"
             ],
             [
              0.4444444444444444,
              "#bd3786"
             ],
             [
              0.5555555555555556,
              "#d8576b"
             ],
             [
              0.6666666666666666,
              "#ed7953"
             ],
             [
              0.7777777777777778,
              "#fb9f3a"
             ],
             [
              0.8888888888888888,
              "#fdca26"
             ],
             [
              1,
              "#f0f921"
             ]
            ],
            "type": "heatmapgl"
           }
          ],
          "histogram": [
           {
            "marker": {
             "pattern": {
              "fillmode": "overlay",
              "size": 10,
              "solidity": 0.2
             }
            },
            "type": "histogram"
           }
          ],
          "histogram2d": [
           {
            "colorbar": {
             "outlinewidth": 0,
             "ticks": ""
            },
            "colorscale": [
             [
              0,
              "#0d0887"
             ],
             [
              0.1111111111111111,
              "#46039f"
             ],
             [
              0.2222222222222222,
              "#7201a8"
             ],
             [
              0.3333333333333333,
              "#9c179e"
             ],
             [
              0.4444444444444444,
              "#bd3786"
             ],
             [
              0.5555555555555556,
              "#d8576b"
             ],
             [
              0.6666666666666666,
              "#ed7953"
             ],
             [
              0.7777777777777778,
              "#fb9f3a"
             ],
             [
              0.8888888888888888,
              "#fdca26"
             ],
             [
              1,
              "#f0f921"
             ]
            ],
            "type": "histogram2d"
           }
          ],
          "histogram2dcontour": [
           {
            "colorbar": {
             "outlinewidth": 0,
             "ticks": ""
            },
            "colorscale": [
             [
              0,
              "#0d0887"
             ],
             [
              0.1111111111111111,
              "#46039f"
             ],
             [
              0.2222222222222222,
              "#7201a8"
             ],
             [
              0.3333333333333333,
              "#9c179e"
             ],
             [
              0.4444444444444444,
              "#bd3786"
             ],
             [
              0.5555555555555556,
              "#d8576b"
             ],
             [
              0.6666666666666666,
              "#ed7953"
             ],
             [
              0.7777777777777778,
              "#fb9f3a"
             ],
             [
              0.8888888888888888,
              "#fdca26"
             ],
             [
              1,
              "#f0f921"
             ]
            ],
            "type": "histogram2dcontour"
           }
          ],
          "mesh3d": [
           {
            "colorbar": {
             "outlinewidth": 0,
             "ticks": ""
            },
            "type": "mesh3d"
           }
          ],
          "parcoords": [
           {
            "line": {
             "colorbar": {
              "outlinewidth": 0,
              "ticks": ""
             }
            },
            "type": "parcoords"
           }
          ],
          "pie": [
           {
            "automargin": true,
            "type": "pie"
           }
          ],
          "scatter": [
           {
            "fillpattern": {
             "fillmode": "overlay",
             "size": 10,
             "solidity": 0.2
            },
            "type": "scatter"
           }
          ],
          "scatter3d": [
           {
            "line": {
             "colorbar": {
              "outlinewidth": 0,
              "ticks": ""
             }
            },
            "marker": {
             "colorbar": {
              "outlinewidth": 0,
              "ticks": ""
             }
            },
            "type": "scatter3d"
           }
          ],
          "scattercarpet": [
           {
            "marker": {
             "colorbar": {
              "outlinewidth": 0,
              "ticks": ""
             }
            },
            "type": "scattercarpet"
           }
          ],
          "scattergeo": [
           {
            "marker": {
             "colorbar": {
              "outlinewidth": 0,
              "ticks": ""
             }
            },
            "type": "scattergeo"
           }
          ],
          "scattergl": [
           {
            "marker": {
             "colorbar": {
              "outlinewidth": 0,
              "ticks": ""
             }
            },
            "type": "scattergl"
           }
          ],
          "scattermapbox": [
           {
            "marker": {
             "colorbar": {
              "outlinewidth": 0,
              "ticks": ""
             }
            },
            "type": "scattermapbox"
           }
          ],
          "scatterpolar": [
           {
            "marker": {
             "colorbar": {
              "outlinewidth": 0,
              "ticks": ""
             }
            },
            "type": "scatterpolar"
           }
          ],
          "scatterpolargl": [
           {
            "marker": {
             "colorbar": {
              "outlinewidth": 0,
              "ticks": ""
             }
            },
            "type": "scatterpolargl"
           }
          ],
          "scatterternary": [
           {
            "marker": {
             "colorbar": {
              "outlinewidth": 0,
              "ticks": ""
             }
            },
            "type": "scatterternary"
           }
          ],
          "surface": [
           {
            "colorbar": {
             "outlinewidth": 0,
             "ticks": ""
            },
            "colorscale": [
             [
              0,
              "#0d0887"
             ],
             [
              0.1111111111111111,
              "#46039f"
             ],
             [
              0.2222222222222222,
              "#7201a8"
             ],
             [
              0.3333333333333333,
              "#9c179e"
             ],
             [
              0.4444444444444444,
              "#bd3786"
             ],
             [
              0.5555555555555556,
              "#d8576b"
             ],
             [
              0.6666666666666666,
              "#ed7953"
             ],
             [
              0.7777777777777778,
              "#fb9f3a"
             ],
             [
              0.8888888888888888,
              "#fdca26"
             ],
             [
              1,
              "#f0f921"
             ]
            ],
            "type": "surface"
           }
          ],
          "table": [
           {
            "cells": {
             "fill": {
              "color": "#EBF0F8"
             },
             "line": {
              "color": "white"
             }
            },
            "header": {
             "fill": {
              "color": "#C8D4E3"
             },
             "line": {
              "color": "white"
             }
            },
            "type": "table"
           }
          ]
         },
         "layout": {
          "annotationdefaults": {
           "arrowcolor": "#2a3f5f",
           "arrowhead": 0,
           "arrowwidth": 1
          },
          "autotypenumbers": "strict",
          "coloraxis": {
           "colorbar": {
            "outlinewidth": 0,
            "ticks": ""
           }
          },
          "colorscale": {
           "diverging": [
            [
             0,
             "#8e0152"
            ],
            [
             0.1,
             "#c51b7d"
            ],
            [
             0.2,
             "#de77ae"
            ],
            [
             0.3,
             "#f1b6da"
            ],
            [
             0.4,
             "#fde0ef"
            ],
            [
             0.5,
             "#f7f7f7"
            ],
            [
             0.6,
             "#e6f5d0"
            ],
            [
             0.7,
             "#b8e186"
            ],
            [
             0.8,
             "#7fbc41"
            ],
            [
             0.9,
             "#4d9221"
            ],
            [
             1,
             "#276419"
            ]
           ],
           "sequential": [
            [
             0,
             "#0d0887"
            ],
            [
             0.1111111111111111,
             "#46039f"
            ],
            [
             0.2222222222222222,
             "#7201a8"
            ],
            [
             0.3333333333333333,
             "#9c179e"
            ],
            [
             0.4444444444444444,
             "#bd3786"
            ],
            [
             0.5555555555555556,
             "#d8576b"
            ],
            [
             0.6666666666666666,
             "#ed7953"
            ],
            [
             0.7777777777777778,
             "#fb9f3a"
            ],
            [
             0.8888888888888888,
             "#fdca26"
            ],
            [
             1,
             "#f0f921"
            ]
           ],
           "sequentialminus": [
            [
             0,
             "#0d0887"
            ],
            [
             0.1111111111111111,
             "#46039f"
            ],
            [
             0.2222222222222222,
             "#7201a8"
            ],
            [
             0.3333333333333333,
             "#9c179e"
            ],
            [
             0.4444444444444444,
             "#bd3786"
            ],
            [
             0.5555555555555556,
             "#d8576b"
            ],
            [
             0.6666666666666666,
             "#ed7953"
            ],
            [
             0.7777777777777778,
             "#fb9f3a"
            ],
            [
             0.8888888888888888,
             "#fdca26"
            ],
            [
             1,
             "#f0f921"
            ]
           ]
          },
          "colorway": [
           "#636efa",
           "#EF553B",
           "#00cc96",
           "#ab63fa",
           "#FFA15A",
           "#19d3f3",
           "#FF6692",
           "#B6E880",
           "#FF97FF",
           "#FECB52"
          ],
          "font": {
           "color": "#2a3f5f"
          },
          "geo": {
           "bgcolor": "white",
           "lakecolor": "white",
           "landcolor": "#E5ECF6",
           "showlakes": true,
           "showland": true,
           "subunitcolor": "white"
          },
          "hoverlabel": {
           "align": "left"
          },
          "hovermode": "closest",
          "mapbox": {
           "style": "light"
          },
          "paper_bgcolor": "white",
          "plot_bgcolor": "#E5ECF6",
          "polar": {
           "angularaxis": {
            "gridcolor": "white",
            "linecolor": "white",
            "ticks": ""
           },
           "bgcolor": "#E5ECF6",
           "radialaxis": {
            "gridcolor": "white",
            "linecolor": "white",
            "ticks": ""
           }
          },
          "scene": {
           "xaxis": {
            "backgroundcolor": "#E5ECF6",
            "gridcolor": "white",
            "gridwidth": 2,
            "linecolor": "white",
            "showbackground": true,
            "ticks": "",
            "zerolinecolor": "white"
           },
           "yaxis": {
            "backgroundcolor": "#E5ECF6",
            "gridcolor": "white",
            "gridwidth": 2,
            "linecolor": "white",
            "showbackground": true,
            "ticks": "",
            "zerolinecolor": "white"
           },
           "zaxis": {
            "backgroundcolor": "#E5ECF6",
            "gridcolor": "white",
            "gridwidth": 2,
            "linecolor": "white",
            "showbackground": true,
            "ticks": "",
            "zerolinecolor": "white"
           }
          },
          "shapedefaults": {
           "line": {
            "color": "#2a3f5f"
           }
          },
          "ternary": {
           "aaxis": {
            "gridcolor": "white",
            "linecolor": "white",
            "ticks": ""
           },
           "baxis": {
            "gridcolor": "white",
            "linecolor": "white",
            "ticks": ""
           },
           "bgcolor": "#E5ECF6",
           "caxis": {
            "gridcolor": "white",
            "linecolor": "white",
            "ticks": ""
           }
          },
          "title": {
           "x": 0.05
          },
          "xaxis": {
           "automargin": true,
           "gridcolor": "white",
           "linecolor": "white",
           "ticks": "",
           "title": {
            "standoff": 15
           },
           "zerolinecolor": "white",
           "zerolinewidth": 2
          },
          "yaxis": {
           "automargin": true,
           "gridcolor": "white",
           "linecolor": "white",
           "ticks": "",
           "title": {
            "standoff": 15
           },
           "zerolinecolor": "white",
           "zerolinewidth": 2
          }
         }
        },
        "title": {
         "text": "Residual plot of Population, total"
        },
        "xaxis": {
         "anchor": "y",
         "domain": [
          0,
          1
         ],
         "title": {
          "text": "Population, total"
         }
        },
        "yaxis": {
         "anchor": "x",
         "domain": [
          0,
          1
         ],
         "title": {
          "text": "Residuals"
         }
        }
       }
      }
     },
     "metadata": {},
     "output_type": "display_data"
    },
    {
     "data": {
      "application/vnd.plotly.v1+json": {
       "config": {
        "plotlyServerURL": "https://plot.ly"
       },
       "data": [
        {
         "hovertemplate": "GDP per capita (current US$)=%{x}<br>Residuals=%{y}<extra></extra>",
         "legendgroup": "",
         "marker": {
          "color": "#636efa",
          "symbol": "circle"
         },
         "mode": "markers",
         "name": "",
         "orientation": "v",
         "showlegend": false,
         "type": "scatter",
         "x": [
          -0.8614007232290137,
          0.5062101114535884,
          -1.0619619584593836,
          -1.0068631415700755,
          -0.263493536353272,
          -0.7325076374560812,
          0.10153277285052172,
          -0.29446994810117016,
          1.6174418774244423,
          -0.5489481875905765,
          -0.5371308148537087,
          -1.407934728860416,
          -1.3508448584100292,
          -0.42145598292895364,
          0.45766002125140787,
          -1.2023838927658863,
          1.7062236949721226,
          1.8429461314566222,
          0.4196515280039559,
          -0.8024337791078,
          -0.8795056785276485,
          2.0464266354824763,
          0.44538438649969514,
          0.3264582868080609,
          -0.00334280505649354,
          0.7162353830205241,
          -1.1535797483871986,
          0.5330890957089713,
          -0.17937005861119537,
          0.5484586159313132,
          -0.7097167045748948,
          2.033606206125345,
          -1.1151255245162353,
          -0.7571294598136539,
          -1.0961551005379853,
          1.829225990191184,
          0.5555156592761172,
          0.06192445691886069,
          -0.8627875494754137,
          0.49771173469913216,
          1.1715868203903066,
          0.47820422667893114,
          -1.417474605207947,
          -1.0404800995234702,
          -0.33114723300296217,
          0.2610960675742556,
          1.9032649180016725,
          1.7179074980088875,
          0.25637448622525416,
          0.4587071577891107,
          0.8380480474125941,
          2.9477488416482234,
          0.3625797782553651,
          3.2639316212236684,
          0.4582316099905763,
          -0.8603990173813199,
          -0.25611421535537515,
          -0.7658125486104178,
          2.843669605244347,
          -0.09186250771468932,
          0.7252294187261735,
          0.24588057259081267,
          0.23569248416673774,
          -0.9124745604901426,
          1.4612074009620775,
          0.36590819830629273,
          -0.9415127034817062,
          0.1371913882755977,
          -0.5181751375991999,
          -1.2225697375788562,
          -0.6365570776220976,
          -1.088586459458216,
          -1.0681607570368008,
          -0.404845073974557,
          -0.30136660628134226,
          1.0709862894374373,
          0.7970519933763712,
          0.15430038977043756,
          -1.3052874032647062,
          1.6916222058480594,
          -1.1459851934181453,
          1.4606509308915845,
          -1.097715171025467,
          0.40892597993978275,
          0.0691276617643909,
          0.2739004680592324,
          0.30088617800190576,
          -1.1715983952256015,
          -0.7661740660812135,
          2.649285119341395,
          -0.41674323274259756,
          -0.21497253033213545,
          1.9140615829165408,
          -0.4242011583863663,
          0.2270509042881696,
          -0.5217501018480446,
          -1.0963826125799576,
          -0.09346587105192576,
          0.06492913143671862,
          0.2280907086098562,
          -1.1785373416379243,
          0.4198108561070722,
          -0.19701793953002184,
          -0.14756142119544594,
          -0.9469589898094883,
          -0.9453931817773943,
          -1.0977332821017356,
          -1.096401489080318,
          0.346423081897906,
          0.23946851862154803,
          2.708336744697878,
          -0.9255511254419927,
          -0.9587123168535356,
          -0.015146978296697608,
          1.6957842802550884,
          0.8388214191595017,
          -0.8941975132797859,
          -1.1869225582316443,
          -1.4388263997852677,
          -1.1139282780007593
         ],
         "xaxis": "x",
         "y": [
          -0.033384157129372816,
          -0.0013317154015389243,
          0.030238383408273617,
          0.0680302754189977,
          -0.034956312547245016,
          0.04218787813048308,
          -0.007832951761780282,
          0.03488022646940281,
          -0.02059957018924813,
          0.037180649876763616,
          0.0471042690913796,
          0.016114605696050777,
          -0.019407437886018397,
          -0.026822910709218023,
          -0.00875720678949582,
          -0.020900003380692422,
          -0.001954953598326925,
          -0.016201223491338235,
          0.023588401357635513,
          0.033527882834280764,
          -0.04981174654941911,
          0.011143912535614586,
          0.009976293936422131,
          -0.017331389245818896,
          -0.018441787048159575,
          -0.006989289544756416,
          -0.004376934875604921,
          -0.02393387503886235,
          0.02018194994189415,
          0.02348853896617159,
          -0.031982829960250314,
          -0.019390442775290895,
          0.02487282447977135,
          0.03624499367137779,
          0.06511049212756881,
          -0.0070521094614157676,
          0.01159173495009741,
          -0.027561658540162848,
          0.04369999150028503,
          0.010506660357418207,
          0.017343156786355285,
          0.016305338417195003,
          -0.0007269173904836945,
          0.037779698397149286,
          0.005359386947798361,
          0.013552551474676322,
          -0.010023688606845438,
          -0.0070870574803386654,
          -0.01386859340986818,
          0.004141761810504518,
          0.00751007406216625,
          0.02383882538608295,
          -0.01673394281285423,
          0.009695512994953193,
          0.02521423999252498,
          -0.027018173304551363,
          0.0364362671059828,
          -0.015078227620501317,
          0.03269674164943842,
          0.013269280109307446,
          -0.004652650286968207,
          -0.006429688893980601,
          -0.007164701831888887,
          -0.045472070674267395,
          0.010923056434839151,
          0.020951118077449538,
          0.08060633343465601,
          0.010702340933716636,
          0.0006849755286659209,
          0.022235550576475804,
          -0.028107849027040666,
          0.016482631079420385,
          0.07672367247152218,
          0.04097634756210056,
          -0.035850413857013874,
          0.029152881322354995,
          -0.018289824079025907,
          -0.018759741145300934,
          0.0442712055127924,
          -0.003676901688836942,
          -0.009831037585273927,
          -0.007067404305365954,
          0.0022932079702606134,
          0.04002958053615768,
          0.006692848559830988,
          -0.028066879103847697,
          -0.0035997089582305852,
          -0.0016017449644294968,
          -0.013857824616633763,
          0.020766722052285358,
          0.00498011838858925,
          0.030669642768724525,
          -0.01415587747221625,
          0.003177749347551384,
          0.0009187119612680816,
          0.06345349919037341,
          0.025805031695359804,
          -0.0001701776111775466,
          -0.0064882494830753035,
          -0.01764151893927407,
          0.04630715695340981,
          0.008334361901278953,
          0.039336113263176486,
          0.03197874530765982,
          -0.02213926518837911,
          -0.02801304273786351,
          -0.008117526404054443,
          -0.0027719151682934484,
          0.004965950431016164,
          -0.024244149944225635,
          0.00852786483959661,
          -0.027216954592722054,
          -0.06330064975479521,
          -0.011402910821716905,
          -0.009680714988973549,
          0.007501806024007074,
          0.04190979475049994,
          -0.015487265070270373,
          -0.0006355242720026411,
          -0.008727666677694368
         ],
         "yaxis": "y"
        }
       ],
       "layout": {
        "legend": {
         "tracegroupgap": 0
        },
        "template": {
         "data": {
          "bar": [
           {
            "error_x": {
             "color": "#2a3f5f"
            },
            "error_y": {
             "color": "#2a3f5f"
            },
            "marker": {
             "line": {
              "color": "#E5ECF6",
              "width": 0.5
             },
             "pattern": {
              "fillmode": "overlay",
              "size": 10,
              "solidity": 0.2
             }
            },
            "type": "bar"
           }
          ],
          "barpolar": [
           {
            "marker": {
             "line": {
              "color": "#E5ECF6",
              "width": 0.5
             },
             "pattern": {
              "fillmode": "overlay",
              "size": 10,
              "solidity": 0.2
             }
            },
            "type": "barpolar"
           }
          ],
          "carpet": [
           {
            "aaxis": {
             "endlinecolor": "#2a3f5f",
             "gridcolor": "white",
             "linecolor": "white",
             "minorgridcolor": "white",
             "startlinecolor": "#2a3f5f"
            },
            "baxis": {
             "endlinecolor": "#2a3f5f",
             "gridcolor": "white",
             "linecolor": "white",
             "minorgridcolor": "white",
             "startlinecolor": "#2a3f5f"
            },
            "type": "carpet"
           }
          ],
          "choropleth": [
           {
            "colorbar": {
             "outlinewidth": 0,
             "ticks": ""
            },
            "type": "choropleth"
           }
          ],
          "contour": [
           {
            "colorbar": {
             "outlinewidth": 0,
             "ticks": ""
            },
            "colorscale": [
             [
              0,
              "#0d0887"
             ],
             [
              0.1111111111111111,
              "#46039f"
             ],
             [
              0.2222222222222222,
              "#7201a8"
             ],
             [
              0.3333333333333333,
              "#9c179e"
             ],
             [
              0.4444444444444444,
              "#bd3786"
             ],
             [
              0.5555555555555556,
              "#d8576b"
             ],
             [
              0.6666666666666666,
              "#ed7953"
             ],
             [
              0.7777777777777778,
              "#fb9f3a"
             ],
             [
              0.8888888888888888,
              "#fdca26"
             ],
             [
              1,
              "#f0f921"
             ]
            ],
            "type": "contour"
           }
          ],
          "contourcarpet": [
           {
            "colorbar": {
             "outlinewidth": 0,
             "ticks": ""
            },
            "type": "contourcarpet"
           }
          ],
          "heatmap": [
           {
            "colorbar": {
             "outlinewidth": 0,
             "ticks": ""
            },
            "colorscale": [
             [
              0,
              "#0d0887"
             ],
             [
              0.1111111111111111,
              "#46039f"
             ],
             [
              0.2222222222222222,
              "#7201a8"
             ],
             [
              0.3333333333333333,
              "#9c179e"
             ],
             [
              0.4444444444444444,
              "#bd3786"
             ],
             [
              0.5555555555555556,
              "#d8576b"
             ],
             [
              0.6666666666666666,
              "#ed7953"
             ],
             [
              0.7777777777777778,
              "#fb9f3a"
             ],
             [
              0.8888888888888888,
              "#fdca26"
             ],
             [
              1,
              "#f0f921"
             ]
            ],
            "type": "heatmap"
           }
          ],
          "heatmapgl": [
           {
            "colorbar": {
             "outlinewidth": 0,
             "ticks": ""
            },
            "colorscale": [
             [
              0,
              "#0d0887"
             ],
             [
              0.1111111111111111,
              "#46039f"
             ],
             [
              0.2222222222222222,
              "#7201a8"
             ],
             [
              0.3333333333333333,
              "#9c179e"
             ],
             [
              0.4444444444444444,
              "#bd3786"
             ],
             [
              0.5555555555555556,
              "#d8576b"
             ],
             [
              0.6666666666666666,
              "#ed7953"
             ],
             [
              0.7777777777777778,
              "#fb9f3a"
             ],
             [
              0.8888888888888888,
              "#fdca26"
             ],
             [
              1,
              "#f0f921"
             ]
            ],
            "type": "heatmapgl"
           }
          ],
          "histogram": [
           {
            "marker": {
             "pattern": {
              "fillmode": "overlay",
              "size": 10,
              "solidity": 0.2
             }
            },
            "type": "histogram"
           }
          ],
          "histogram2d": [
           {
            "colorbar": {
             "outlinewidth": 0,
             "ticks": ""
            },
            "colorscale": [
             [
              0,
              "#0d0887"
             ],
             [
              0.1111111111111111,
              "#46039f"
             ],
             [
              0.2222222222222222,
              "#7201a8"
             ],
             [
              0.3333333333333333,
              "#9c179e"
             ],
             [
              0.4444444444444444,
              "#bd3786"
             ],
             [
              0.5555555555555556,
              "#d8576b"
             ],
             [
              0.6666666666666666,
              "#ed7953"
             ],
             [
              0.7777777777777778,
              "#fb9f3a"
             ],
             [
              0.8888888888888888,
              "#fdca26"
             ],
             [
              1,
              "#f0f921"
             ]
            ],
            "type": "histogram2d"
           }
          ],
          "histogram2dcontour": [
           {
            "colorbar": {
             "outlinewidth": 0,
             "ticks": ""
            },
            "colorscale": [
             [
              0,
              "#0d0887"
             ],
             [
              0.1111111111111111,
              "#46039f"
             ],
             [
              0.2222222222222222,
              "#7201a8"
             ],
             [
              0.3333333333333333,
              "#9c179e"
             ],
             [
              0.4444444444444444,
              "#bd3786"
             ],
             [
              0.5555555555555556,
              "#d8576b"
             ],
             [
              0.6666666666666666,
              "#ed7953"
             ],
             [
              0.7777777777777778,
              "#fb9f3a"
             ],
             [
              0.8888888888888888,
              "#fdca26"
             ],
             [
              1,
              "#f0f921"
             ]
            ],
            "type": "histogram2dcontour"
           }
          ],
          "mesh3d": [
           {
            "colorbar": {
             "outlinewidth": 0,
             "ticks": ""
            },
            "type": "mesh3d"
           }
          ],
          "parcoords": [
           {
            "line": {
             "colorbar": {
              "outlinewidth": 0,
              "ticks": ""
             }
            },
            "type": "parcoords"
           }
          ],
          "pie": [
           {
            "automargin": true,
            "type": "pie"
           }
          ],
          "scatter": [
           {
            "fillpattern": {
             "fillmode": "overlay",
             "size": 10,
             "solidity": 0.2
            },
            "type": "scatter"
           }
          ],
          "scatter3d": [
           {
            "line": {
             "colorbar": {
              "outlinewidth": 0,
              "ticks": ""
             }
            },
            "marker": {
             "colorbar": {
              "outlinewidth": 0,
              "ticks": ""
             }
            },
            "type": "scatter3d"
           }
          ],
          "scattercarpet": [
           {
            "marker": {
             "colorbar": {
              "outlinewidth": 0,
              "ticks": ""
             }
            },
            "type": "scattercarpet"
           }
          ],
          "scattergeo": [
           {
            "marker": {
             "colorbar": {
              "outlinewidth": 0,
              "ticks": ""
             }
            },
            "type": "scattergeo"
           }
          ],
          "scattergl": [
           {
            "marker": {
             "colorbar": {
              "outlinewidth": 0,
              "ticks": ""
             }
            },
            "type": "scattergl"
           }
          ],
          "scattermapbox": [
           {
            "marker": {
             "colorbar": {
              "outlinewidth": 0,
              "ticks": ""
             }
            },
            "type": "scattermapbox"
           }
          ],
          "scatterpolar": [
           {
            "marker": {
             "colorbar": {
              "outlinewidth": 0,
              "ticks": ""
             }
            },
            "type": "scatterpolar"
           }
          ],
          "scatterpolargl": [
           {
            "marker": {
             "colorbar": {
              "outlinewidth": 0,
              "ticks": ""
             }
            },
            "type": "scatterpolargl"
           }
          ],
          "scatterternary": [
           {
            "marker": {
             "colorbar": {
              "outlinewidth": 0,
              "ticks": ""
             }
            },
            "type": "scatterternary"
           }
          ],
          "surface": [
           {
            "colorbar": {
             "outlinewidth": 0,
             "ticks": ""
            },
            "colorscale": [
             [
              0,
              "#0d0887"
             ],
             [
              0.1111111111111111,
              "#46039f"
             ],
             [
              0.2222222222222222,
              "#7201a8"
             ],
             [
              0.3333333333333333,
              "#9c179e"
             ],
             [
              0.4444444444444444,
              "#bd3786"
             ],
             [
              0.5555555555555556,
              "#d8576b"
             ],
             [
              0.6666666666666666,
              "#ed7953"
             ],
             [
              0.7777777777777778,
              "#fb9f3a"
             ],
             [
              0.8888888888888888,
              "#fdca26"
             ],
             [
              1,
              "#f0f921"
             ]
            ],
            "type": "surface"
           }
          ],
          "table": [
           {
            "cells": {
             "fill": {
              "color": "#EBF0F8"
             },
             "line": {
              "color": "white"
             }
            },
            "header": {
             "fill": {
              "color": "#C8D4E3"
             },
             "line": {
              "color": "white"
             }
            },
            "type": "table"
           }
          ]
         },
         "layout": {
          "annotationdefaults": {
           "arrowcolor": "#2a3f5f",
           "arrowhead": 0,
           "arrowwidth": 1
          },
          "autotypenumbers": "strict",
          "coloraxis": {
           "colorbar": {
            "outlinewidth": 0,
            "ticks": ""
           }
          },
          "colorscale": {
           "diverging": [
            [
             0,
             "#8e0152"
            ],
            [
             0.1,
             "#c51b7d"
            ],
            [
             0.2,
             "#de77ae"
            ],
            [
             0.3,
             "#f1b6da"
            ],
            [
             0.4,
             "#fde0ef"
            ],
            [
             0.5,
             "#f7f7f7"
            ],
            [
             0.6,
             "#e6f5d0"
            ],
            [
             0.7,
             "#b8e186"
            ],
            [
             0.8,
             "#7fbc41"
            ],
            [
             0.9,
             "#4d9221"
            ],
            [
             1,
             "#276419"
            ]
           ],
           "sequential": [
            [
             0,
             "#0d0887"
            ],
            [
             0.1111111111111111,
             "#46039f"
            ],
            [
             0.2222222222222222,
             "#7201a8"
            ],
            [
             0.3333333333333333,
             "#9c179e"
            ],
            [
             0.4444444444444444,
             "#bd3786"
            ],
            [
             0.5555555555555556,
             "#d8576b"
            ],
            [
             0.6666666666666666,
             "#ed7953"
            ],
            [
             0.7777777777777778,
             "#fb9f3a"
            ],
            [
             0.8888888888888888,
             "#fdca26"
            ],
            [
             1,
             "#f0f921"
            ]
           ],
           "sequentialminus": [
            [
             0,
             "#0d0887"
            ],
            [
             0.1111111111111111,
             "#46039f"
            ],
            [
             0.2222222222222222,
             "#7201a8"
            ],
            [
             0.3333333333333333,
             "#9c179e"
            ],
            [
             0.4444444444444444,
             "#bd3786"
            ],
            [
             0.5555555555555556,
             "#d8576b"
            ],
            [
             0.6666666666666666,
             "#ed7953"
            ],
            [
             0.7777777777777778,
             "#fb9f3a"
            ],
            [
             0.8888888888888888,
             "#fdca26"
            ],
            [
             1,
             "#f0f921"
            ]
           ]
          },
          "colorway": [
           "#636efa",
           "#EF553B",
           "#00cc96",
           "#ab63fa",
           "#FFA15A",
           "#19d3f3",
           "#FF6692",
           "#B6E880",
           "#FF97FF",
           "#FECB52"
          ],
          "font": {
           "color": "#2a3f5f"
          },
          "geo": {
           "bgcolor": "white",
           "lakecolor": "white",
           "landcolor": "#E5ECF6",
           "showlakes": true,
           "showland": true,
           "subunitcolor": "white"
          },
          "hoverlabel": {
           "align": "left"
          },
          "hovermode": "closest",
          "mapbox": {
           "style": "light"
          },
          "paper_bgcolor": "white",
          "plot_bgcolor": "#E5ECF6",
          "polar": {
           "angularaxis": {
            "gridcolor": "white",
            "linecolor": "white",
            "ticks": ""
           },
           "bgcolor": "#E5ECF6",
           "radialaxis": {
            "gridcolor": "white",
            "linecolor": "white",
            "ticks": ""
           }
          },
          "scene": {
           "xaxis": {
            "backgroundcolor": "#E5ECF6",
            "gridcolor": "white",
            "gridwidth": 2,
            "linecolor": "white",
            "showbackground": true,
            "ticks": "",
            "zerolinecolor": "white"
           },
           "yaxis": {
            "backgroundcolor": "#E5ECF6",
            "gridcolor": "white",
            "gridwidth": 2,
            "linecolor": "white",
            "showbackground": true,
            "ticks": "",
            "zerolinecolor": "white"
           },
           "zaxis": {
            "backgroundcolor": "#E5ECF6",
            "gridcolor": "white",
            "gridwidth": 2,
            "linecolor": "white",
            "showbackground": true,
            "ticks": "",
            "zerolinecolor": "white"
           }
          },
          "shapedefaults": {
           "line": {
            "color": "#2a3f5f"
           }
          },
          "ternary": {
           "aaxis": {
            "gridcolor": "white",
            "linecolor": "white",
            "ticks": ""
           },
           "baxis": {
            "gridcolor": "white",
            "linecolor": "white",
            "ticks": ""
           },
           "bgcolor": "#E5ECF6",
           "caxis": {
            "gridcolor": "white",
            "linecolor": "white",
            "ticks": ""
           }
          },
          "title": {
           "x": 0.05
          },
          "xaxis": {
           "automargin": true,
           "gridcolor": "white",
           "linecolor": "white",
           "ticks": "",
           "title": {
            "standoff": 15
           },
           "zerolinecolor": "white",
           "zerolinewidth": 2
          },
          "yaxis": {
           "automargin": true,
           "gridcolor": "white",
           "linecolor": "white",
           "ticks": "",
           "title": {
            "standoff": 15
           },
           "zerolinecolor": "white",
           "zerolinewidth": 2
          }
         }
        },
        "title": {
         "text": "Residual plot of GDP per capita (current US$)"
        },
        "xaxis": {
         "anchor": "y",
         "domain": [
          0,
          1
         ],
         "title": {
          "text": "GDP per capita (current US$)"
         }
        },
        "yaxis": {
         "anchor": "x",
         "domain": [
          0,
          1
         ],
         "title": {
          "text": "Residuals"
         }
        }
       }
      }
     },
     "metadata": {},
     "output_type": "display_data"
    },
    {
     "data": {
      "application/vnd.plotly.v1+json": {
       "config": {
        "plotlyServerURL": "https://plot.ly"
       },
       "data": [
        {
         "hovertemplate": "Inflation, consumer prices (annual %)=%{x}<br>Residuals=%{y}<extra></extra>",
         "legendgroup": "",
         "marker": {
          "color": "#636efa",
          "symbol": "circle"
         },
         "mode": "markers",
         "name": "",
         "orientation": "v",
         "showlegend": false,
         "type": "scatter",
         "x": [
          0.6381497018658955,
          -0.14380913133239084,
          0.45105032898355163,
          -1.0292612916929833,
          -0.21124267643686084,
          -1.5211725885059002,
          -0.8968020307278345,
          -0.763486011286185,
          0.06718533734178912,
          0.31603480157511393,
          -0.28109851294462496,
          0.6879142638534129,
          -0.0869964371119626,
          0.4368677839684869,
          -0.07587269287636825,
          -0.6635968098077274,
          -0.5924455368275185,
          -1.4462940712129133,
          -0.03703543732010272,
          0.4345457085048881,
          0.233017677329407,
          0.3127665679102301,
          -0.5681317879925151,
          -0.13159863221164142,
          -0.9081384910804503,
          -0.4003149115849015,
          1.2053828330195837,
          -0.19146700330557115,
          -0.004132857736941138,
          0.977583858321898,
          0.042104549218251755,
          -0.9624409451010393,
          -1.0099494423146131,
          -0.3490634231161147,
          -1.5466076457594717,
          -0.7104124737943719,
          -0.9526734029320106,
          -0.9198165736540549,
          -0.7655022129738098,
          -0.8468667927448509,
          1.561933652948122,
          -0.8138390655332322,
          1.1758340825556841,
          -0.5350282307605178,
          -0.6240787611295424,
          0.5703664553644007,
          -1.197413601563251,
          0.3643602519002757,
          -0.29556658739312186,
          0.444753754313334,
          -0.6703579792502483,
          -0.17061153723038341,
          0.9443379699791923,
          0.697986613217872,
          -3.412809480411458,
          -0.9034509626411531,
          -0.487890312386085,
          -0.2058888659035613,
          -0.177168953573255,
          -0.056228276281565424,
          -0.19682561339586002,
          -0.5006644032741558,
          -0.33112821709466805,
          -1.123488323324667,
          0.08200272172935205,
          -0.2818599619514667,
          0.15515555956935045,
          -0.12885351048437332,
          -0.05919004734776574,
          0.7815898094213914,
          -0.33951454717507995,
          -1.0990257015301061,
          -0.6093706253579209,
          -1.1328371804473238,
          0.038226343462880945,
          -0.2812115951365491,
          0.46717400443050533,
          -0.03174127021531291,
          0.8746016260034658,
          -1.31121268361988,
          0.7809898528935162,
          -0.7231649202497008,
          -1.0554134667171684,
          0.20290968311539553,
          -0.17334327213718692,
          0.0031815720710993505,
          1.2675513076997156,
          -1.431743048734357,
          -0.2274546260740832,
          -0.8349739365795106,
          0.14357807509048326,
          -0.4446814912229949,
          -1.2544245567506918,
          -0.2514491822609165,
          -0.463460660925895,
          -0.4640781054226068,
          0.5346441839797736,
          -0.14553283077476797,
          -1.192493737128041,
          -0.3712466966618889,
          1.9209954874013104,
          -1.1081015186647973,
          -0.28467730437742755,
          -0.6778488937991795,
          -0.921583799878405,
          0.20026726611069656,
          1.079452369492786,
          -1.202777988467264,
          -0.19605298670912757,
          -0.9177596327421869,
          -0.9312887186907829,
          0.41059988861863245,
          -0.3965253856380919,
          -0.42181962155344127,
          -0.8040518515969094,
          1.4750968274993355,
          -0.8280633864177268,
          -1.0927538297344244,
          2.851248324386801,
          1.1366023025966525
         ],
         "xaxis": "x",
         "y": [
          -0.033384157129372816,
          -0.0013317154015389243,
          0.030238383408273617,
          0.0680302754189977,
          -0.034956312547245016,
          0.04218787813048308,
          -0.007832951761780282,
          0.03488022646940281,
          -0.02059957018924813,
          0.037180649876763616,
          0.0471042690913796,
          0.016114605696050777,
          -0.019407437886018397,
          -0.026822910709218023,
          -0.00875720678949582,
          -0.020900003380692422,
          -0.001954953598326925,
          -0.016201223491338235,
          0.023588401357635513,
          0.033527882834280764,
          -0.04981174654941911,
          0.011143912535614586,
          0.009976293936422131,
          -0.017331389245818896,
          -0.018441787048159575,
          -0.006989289544756416,
          -0.004376934875604921,
          -0.02393387503886235,
          0.02018194994189415,
          0.02348853896617159,
          -0.031982829960250314,
          -0.019390442775290895,
          0.02487282447977135,
          0.03624499367137779,
          0.06511049212756881,
          -0.0070521094614157676,
          0.01159173495009741,
          -0.027561658540162848,
          0.04369999150028503,
          0.010506660357418207,
          0.017343156786355285,
          0.016305338417195003,
          -0.0007269173904836945,
          0.037779698397149286,
          0.005359386947798361,
          0.013552551474676322,
          -0.010023688606845438,
          -0.0070870574803386654,
          -0.01386859340986818,
          0.004141761810504518,
          0.00751007406216625,
          0.02383882538608295,
          -0.01673394281285423,
          0.009695512994953193,
          0.02521423999252498,
          -0.027018173304551363,
          0.0364362671059828,
          -0.015078227620501317,
          0.03269674164943842,
          0.013269280109307446,
          -0.004652650286968207,
          -0.006429688893980601,
          -0.007164701831888887,
          -0.045472070674267395,
          0.010923056434839151,
          0.020951118077449538,
          0.08060633343465601,
          0.010702340933716636,
          0.0006849755286659209,
          0.022235550576475804,
          -0.028107849027040666,
          0.016482631079420385,
          0.07672367247152218,
          0.04097634756210056,
          -0.035850413857013874,
          0.029152881322354995,
          -0.018289824079025907,
          -0.018759741145300934,
          0.0442712055127924,
          -0.003676901688836942,
          -0.009831037585273927,
          -0.007067404305365954,
          0.0022932079702606134,
          0.04002958053615768,
          0.006692848559830988,
          -0.028066879103847697,
          -0.0035997089582305852,
          -0.0016017449644294968,
          -0.013857824616633763,
          0.020766722052285358,
          0.00498011838858925,
          0.030669642768724525,
          -0.01415587747221625,
          0.003177749347551384,
          0.0009187119612680816,
          0.06345349919037341,
          0.025805031695359804,
          -0.0001701776111775466,
          -0.0064882494830753035,
          -0.01764151893927407,
          0.04630715695340981,
          0.008334361901278953,
          0.039336113263176486,
          0.03197874530765982,
          -0.02213926518837911,
          -0.02801304273786351,
          -0.008117526404054443,
          -0.0027719151682934484,
          0.004965950431016164,
          -0.024244149944225635,
          0.00852786483959661,
          -0.027216954592722054,
          -0.06330064975479521,
          -0.011402910821716905,
          -0.009680714988973549,
          0.007501806024007074,
          0.04190979475049994,
          -0.015487265070270373,
          -0.0006355242720026411,
          -0.008727666677694368
         ],
         "yaxis": "y"
        }
       ],
       "layout": {
        "legend": {
         "tracegroupgap": 0
        },
        "template": {
         "data": {
          "bar": [
           {
            "error_x": {
             "color": "#2a3f5f"
            },
            "error_y": {
             "color": "#2a3f5f"
            },
            "marker": {
             "line": {
              "color": "#E5ECF6",
              "width": 0.5
             },
             "pattern": {
              "fillmode": "overlay",
              "size": 10,
              "solidity": 0.2
             }
            },
            "type": "bar"
           }
          ],
          "barpolar": [
           {
            "marker": {
             "line": {
              "color": "#E5ECF6",
              "width": 0.5
             },
             "pattern": {
              "fillmode": "overlay",
              "size": 10,
              "solidity": 0.2
             }
            },
            "type": "barpolar"
           }
          ],
          "carpet": [
           {
            "aaxis": {
             "endlinecolor": "#2a3f5f",
             "gridcolor": "white",
             "linecolor": "white",
             "minorgridcolor": "white",
             "startlinecolor": "#2a3f5f"
            },
            "baxis": {
             "endlinecolor": "#2a3f5f",
             "gridcolor": "white",
             "linecolor": "white",
             "minorgridcolor": "white",
             "startlinecolor": "#2a3f5f"
            },
            "type": "carpet"
           }
          ],
          "choropleth": [
           {
            "colorbar": {
             "outlinewidth": 0,
             "ticks": ""
            },
            "type": "choropleth"
           }
          ],
          "contour": [
           {
            "colorbar": {
             "outlinewidth": 0,
             "ticks": ""
            },
            "colorscale": [
             [
              0,
              "#0d0887"
             ],
             [
              0.1111111111111111,
              "#46039f"
             ],
             [
              0.2222222222222222,
              "#7201a8"
             ],
             [
              0.3333333333333333,
              "#9c179e"
             ],
             [
              0.4444444444444444,
              "#bd3786"
             ],
             [
              0.5555555555555556,
              "#d8576b"
             ],
             [
              0.6666666666666666,
              "#ed7953"
             ],
             [
              0.7777777777777778,
              "#fb9f3a"
             ],
             [
              0.8888888888888888,
              "#fdca26"
             ],
             [
              1,
              "#f0f921"
             ]
            ],
            "type": "contour"
           }
          ],
          "contourcarpet": [
           {
            "colorbar": {
             "outlinewidth": 0,
             "ticks": ""
            },
            "type": "contourcarpet"
           }
          ],
          "heatmap": [
           {
            "colorbar": {
             "outlinewidth": 0,
             "ticks": ""
            },
            "colorscale": [
             [
              0,
              "#0d0887"
             ],
             [
              0.1111111111111111,
              "#46039f"
             ],
             [
              0.2222222222222222,
              "#7201a8"
             ],
             [
              0.3333333333333333,
              "#9c179e"
             ],
             [
              0.4444444444444444,
              "#bd3786"
             ],
             [
              0.5555555555555556,
              "#d8576b"
             ],
             [
              0.6666666666666666,
              "#ed7953"
             ],
             [
              0.7777777777777778,
              "#fb9f3a"
             ],
             [
              0.8888888888888888,
              "#fdca26"
             ],
             [
              1,
              "#f0f921"
             ]
            ],
            "type": "heatmap"
           }
          ],
          "heatmapgl": [
           {
            "colorbar": {
             "outlinewidth": 0,
             "ticks": ""
            },
            "colorscale": [
             [
              0,
              "#0d0887"
             ],
             [
              0.1111111111111111,
              "#46039f"
             ],
             [
              0.2222222222222222,
              "#7201a8"
             ],
             [
              0.3333333333333333,
              "#9c179e"
             ],
             [
              0.4444444444444444,
              "#bd3786"
             ],
             [
              0.5555555555555556,
              "#d8576b"
             ],
             [
              0.6666666666666666,
              "#ed7953"
             ],
             [
              0.7777777777777778,
              "#fb9f3a"
             ],
             [
              0.8888888888888888,
              "#fdca26"
             ],
             [
              1,
              "#f0f921"
             ]
            ],
            "type": "heatmapgl"
           }
          ],
          "histogram": [
           {
            "marker": {
             "pattern": {
              "fillmode": "overlay",
              "size": 10,
              "solidity": 0.2
             }
            },
            "type": "histogram"
           }
          ],
          "histogram2d": [
           {
            "colorbar": {
             "outlinewidth": 0,
             "ticks": ""
            },
            "colorscale": [
             [
              0,
              "#0d0887"
             ],
             [
              0.1111111111111111,
              "#46039f"
             ],
             [
              0.2222222222222222,
              "#7201a8"
             ],
             [
              0.3333333333333333,
              "#9c179e"
             ],
             [
              0.4444444444444444,
              "#bd3786"
             ],
             [
              0.5555555555555556,
              "#d8576b"
             ],
             [
              0.6666666666666666,
              "#ed7953"
             ],
             [
              0.7777777777777778,
              "#fb9f3a"
             ],
             [
              0.8888888888888888,
              "#fdca26"
             ],
             [
              1,
              "#f0f921"
             ]
            ],
            "type": "histogram2d"
           }
          ],
          "histogram2dcontour": [
           {
            "colorbar": {
             "outlinewidth": 0,
             "ticks": ""
            },
            "colorscale": [
             [
              0,
              "#0d0887"
             ],
             [
              0.1111111111111111,
              "#46039f"
             ],
             [
              0.2222222222222222,
              "#7201a8"
             ],
             [
              0.3333333333333333,
              "#9c179e"
             ],
             [
              0.4444444444444444,
              "#bd3786"
             ],
             [
              0.5555555555555556,
              "#d8576b"
             ],
             [
              0.6666666666666666,
              "#ed7953"
             ],
             [
              0.7777777777777778,
              "#fb9f3a"
             ],
             [
              0.8888888888888888,
              "#fdca26"
             ],
             [
              1,
              "#f0f921"
             ]
            ],
            "type": "histogram2dcontour"
           }
          ],
          "mesh3d": [
           {
            "colorbar": {
             "outlinewidth": 0,
             "ticks": ""
            },
            "type": "mesh3d"
           }
          ],
          "parcoords": [
           {
            "line": {
             "colorbar": {
              "outlinewidth": 0,
              "ticks": ""
             }
            },
            "type": "parcoords"
           }
          ],
          "pie": [
           {
            "automargin": true,
            "type": "pie"
           }
          ],
          "scatter": [
           {
            "fillpattern": {
             "fillmode": "overlay",
             "size": 10,
             "solidity": 0.2
            },
            "type": "scatter"
           }
          ],
          "scatter3d": [
           {
            "line": {
             "colorbar": {
              "outlinewidth": 0,
              "ticks": ""
             }
            },
            "marker": {
             "colorbar": {
              "outlinewidth": 0,
              "ticks": ""
             }
            },
            "type": "scatter3d"
           }
          ],
          "scattercarpet": [
           {
            "marker": {
             "colorbar": {
              "outlinewidth": 0,
              "ticks": ""
             }
            },
            "type": "scattercarpet"
           }
          ],
          "scattergeo": [
           {
            "marker": {
             "colorbar": {
              "outlinewidth": 0,
              "ticks": ""
             }
            },
            "type": "scattergeo"
           }
          ],
          "scattergl": [
           {
            "marker": {
             "colorbar": {
              "outlinewidth": 0,
              "ticks": ""
             }
            },
            "type": "scattergl"
           }
          ],
          "scattermapbox": [
           {
            "marker": {
             "colorbar": {
              "outlinewidth": 0,
              "ticks": ""
             }
            },
            "type": "scattermapbox"
           }
          ],
          "scatterpolar": [
           {
            "marker": {
             "colorbar": {
              "outlinewidth": 0,
              "ticks": ""
             }
            },
            "type": "scatterpolar"
           }
          ],
          "scatterpolargl": [
           {
            "marker": {
             "colorbar": {
              "outlinewidth": 0,
              "ticks": ""
             }
            },
            "type": "scatterpolargl"
           }
          ],
          "scatterternary": [
           {
            "marker": {
             "colorbar": {
              "outlinewidth": 0,
              "ticks": ""
             }
            },
            "type": "scatterternary"
           }
          ],
          "surface": [
           {
            "colorbar": {
             "outlinewidth": 0,
             "ticks": ""
            },
            "colorscale": [
             [
              0,
              "#0d0887"
             ],
             [
              0.1111111111111111,
              "#46039f"
             ],
             [
              0.2222222222222222,
              "#7201a8"
             ],
             [
              0.3333333333333333,
              "#9c179e"
             ],
             [
              0.4444444444444444,
              "#bd3786"
             ],
             [
              0.5555555555555556,
              "#d8576b"
             ],
             [
              0.6666666666666666,
              "#ed7953"
             ],
             [
              0.7777777777777778,
              "#fb9f3a"
             ],
             [
              0.8888888888888888,
              "#fdca26"
             ],
             [
              1,
              "#f0f921"
             ]
            ],
            "type": "surface"
           }
          ],
          "table": [
           {
            "cells": {
             "fill": {
              "color": "#EBF0F8"
             },
             "line": {
              "color": "white"
             }
            },
            "header": {
             "fill": {
              "color": "#C8D4E3"
             },
             "line": {
              "color": "white"
             }
            },
            "type": "table"
           }
          ]
         },
         "layout": {
          "annotationdefaults": {
           "arrowcolor": "#2a3f5f",
           "arrowhead": 0,
           "arrowwidth": 1
          },
          "autotypenumbers": "strict",
          "coloraxis": {
           "colorbar": {
            "outlinewidth": 0,
            "ticks": ""
           }
          },
          "colorscale": {
           "diverging": [
            [
             0,
             "#8e0152"
            ],
            [
             0.1,
             "#c51b7d"
            ],
            [
             0.2,
             "#de77ae"
            ],
            [
             0.3,
             "#f1b6da"
            ],
            [
             0.4,
             "#fde0ef"
            ],
            [
             0.5,
             "#f7f7f7"
            ],
            [
             0.6,
             "#e6f5d0"
            ],
            [
             0.7,
             "#b8e186"
            ],
            [
             0.8,
             "#7fbc41"
            ],
            [
             0.9,
             "#4d9221"
            ],
            [
             1,
             "#276419"
            ]
           ],
           "sequential": [
            [
             0,
             "#0d0887"
            ],
            [
             0.1111111111111111,
             "#46039f"
            ],
            [
             0.2222222222222222,
             "#7201a8"
            ],
            [
             0.3333333333333333,
             "#9c179e"
            ],
            [
             0.4444444444444444,
             "#bd3786"
            ],
            [
             0.5555555555555556,
             "#d8576b"
            ],
            [
             0.6666666666666666,
             "#ed7953"
            ],
            [
             0.7777777777777778,
             "#fb9f3a"
            ],
            [
             0.8888888888888888,
             "#fdca26"
            ],
            [
             1,
             "#f0f921"
            ]
           ],
           "sequentialminus": [
            [
             0,
             "#0d0887"
            ],
            [
             0.1111111111111111,
             "#46039f"
            ],
            [
             0.2222222222222222,
             "#7201a8"
            ],
            [
             0.3333333333333333,
             "#9c179e"
            ],
            [
             0.4444444444444444,
             "#bd3786"
            ],
            [
             0.5555555555555556,
             "#d8576b"
            ],
            [
             0.6666666666666666,
             "#ed7953"
            ],
            [
             0.7777777777777778,
             "#fb9f3a"
            ],
            [
             0.8888888888888888,
             "#fdca26"
            ],
            [
             1,
             "#f0f921"
            ]
           ]
          },
          "colorway": [
           "#636efa",
           "#EF553B",
           "#00cc96",
           "#ab63fa",
           "#FFA15A",
           "#19d3f3",
           "#FF6692",
           "#B6E880",
           "#FF97FF",
           "#FECB52"
          ],
          "font": {
           "color": "#2a3f5f"
          },
          "geo": {
           "bgcolor": "white",
           "lakecolor": "white",
           "landcolor": "#E5ECF6",
           "showlakes": true,
           "showland": true,
           "subunitcolor": "white"
          },
          "hoverlabel": {
           "align": "left"
          },
          "hovermode": "closest",
          "mapbox": {
           "style": "light"
          },
          "paper_bgcolor": "white",
          "plot_bgcolor": "#E5ECF6",
          "polar": {
           "angularaxis": {
            "gridcolor": "white",
            "linecolor": "white",
            "ticks": ""
           },
           "bgcolor": "#E5ECF6",
           "radialaxis": {
            "gridcolor": "white",
            "linecolor": "white",
            "ticks": ""
           }
          },
          "scene": {
           "xaxis": {
            "backgroundcolor": "#E5ECF6",
            "gridcolor": "white",
            "gridwidth": 2,
            "linecolor": "white",
            "showbackground": true,
            "ticks": "",
            "zerolinecolor": "white"
           },
           "yaxis": {
            "backgroundcolor": "#E5ECF6",
            "gridcolor": "white",
            "gridwidth": 2,
            "linecolor": "white",
            "showbackground": true,
            "ticks": "",
            "zerolinecolor": "white"
           },
           "zaxis": {
            "backgroundcolor": "#E5ECF6",
            "gridcolor": "white",
            "gridwidth": 2,
            "linecolor": "white",
            "showbackground": true,
            "ticks": "",
            "zerolinecolor": "white"
           }
          },
          "shapedefaults": {
           "line": {
            "color": "#2a3f5f"
           }
          },
          "ternary": {
           "aaxis": {
            "gridcolor": "white",
            "linecolor": "white",
            "ticks": ""
           },
           "baxis": {
            "gridcolor": "white",
            "linecolor": "white",
            "ticks": ""
           },
           "bgcolor": "#E5ECF6",
           "caxis": {
            "gridcolor": "white",
            "linecolor": "white",
            "ticks": ""
           }
          },
          "title": {
           "x": 0.05
          },
          "xaxis": {
           "automargin": true,
           "gridcolor": "white",
           "linecolor": "white",
           "ticks": "",
           "title": {
            "standoff": 15
           },
           "zerolinecolor": "white",
           "zerolinewidth": 2
          },
          "yaxis": {
           "automargin": true,
           "gridcolor": "white",
           "linecolor": "white",
           "ticks": "",
           "title": {
            "standoff": 15
           },
           "zerolinecolor": "white",
           "zerolinewidth": 2
          }
         }
        },
        "title": {
         "text": "Residual plot of Inflation, consumer prices (annual %)"
        },
        "xaxis": {
         "anchor": "y",
         "domain": [
          0,
          1
         ],
         "title": {
          "text": "Inflation, consumer prices (annual %)"
         }
        },
        "yaxis": {
         "anchor": "x",
         "domain": [
          0,
          1
         ],
         "title": {
          "text": "Residuals"
         }
        }
       }
      }
     },
     "metadata": {},
     "output_type": "display_data"
    },
    {
     "data": {
      "application/vnd.plotly.v1+json": {
       "config": {
        "plotlyServerURL": "https://plot.ly"
       },
       "data": [
        {
         "hovertemplate": "Region_East Asia and Pacific=%{x}<br>Residuals=%{y}<extra></extra>",
         "legendgroup": "",
         "marker": {
          "color": "#636efa",
          "symbol": "circle"
         },
         "mode": "markers",
         "name": "",
         "orientation": "v",
         "showlegend": false,
         "type": "scatter",
         "x": [
          0,
          0,
          0,
          0,
          0,
          0,
          0,
          0,
          0,
          0,
          0,
          0,
          0,
          0,
          0,
          0,
          0,
          0,
          0,
          0,
          0,
          0,
          0,
          0,
          1,
          0,
          0,
          0,
          0,
          0,
          0,
          0,
          0,
          0,
          0,
          0,
          0,
          0,
          0,
          0,
          0,
          0,
          0,
          0,
          0,
          0,
          0,
          0,
          0,
          1,
          0,
          0,
          0,
          0,
          0,
          0,
          0,
          0,
          0,
          0,
          0,
          0,
          0,
          0,
          0,
          0,
          0,
          0,
          0,
          0,
          0,
          0,
          0,
          0,
          0,
          0,
          0,
          0,
          0,
          0,
          0,
          0,
          0,
          0,
          0,
          0,
          0,
          0,
          0,
          0,
          1,
          0,
          0,
          0,
          0,
          0,
          0,
          0,
          0,
          0,
          0,
          0,
          0,
          0,
          0,
          0,
          0,
          0,
          0,
          0,
          0,
          0,
          0,
          0,
          0,
          0,
          0,
          0,
          0,
          0
         ],
         "xaxis": "x",
         "y": [
          -0.033384157129372816,
          -0.0013317154015389243,
          0.030238383408273617,
          0.0680302754189977,
          -0.034956312547245016,
          0.04218787813048308,
          -0.007832951761780282,
          0.03488022646940281,
          -0.02059957018924813,
          0.037180649876763616,
          0.0471042690913796,
          0.016114605696050777,
          -0.019407437886018397,
          -0.026822910709218023,
          -0.00875720678949582,
          -0.020900003380692422,
          -0.001954953598326925,
          -0.016201223491338235,
          0.023588401357635513,
          0.033527882834280764,
          -0.04981174654941911,
          0.011143912535614586,
          0.009976293936422131,
          -0.017331389245818896,
          -0.018441787048159575,
          -0.006989289544756416,
          -0.004376934875604921,
          -0.02393387503886235,
          0.02018194994189415,
          0.02348853896617159,
          -0.031982829960250314,
          -0.019390442775290895,
          0.02487282447977135,
          0.03624499367137779,
          0.06511049212756881,
          -0.0070521094614157676,
          0.01159173495009741,
          -0.027561658540162848,
          0.04369999150028503,
          0.010506660357418207,
          0.017343156786355285,
          0.016305338417195003,
          -0.0007269173904836945,
          0.037779698397149286,
          0.005359386947798361,
          0.013552551474676322,
          -0.010023688606845438,
          -0.0070870574803386654,
          -0.01386859340986818,
          0.004141761810504518,
          0.00751007406216625,
          0.02383882538608295,
          -0.01673394281285423,
          0.009695512994953193,
          0.02521423999252498,
          -0.027018173304551363,
          0.0364362671059828,
          -0.015078227620501317,
          0.03269674164943842,
          0.013269280109307446,
          -0.004652650286968207,
          -0.006429688893980601,
          -0.007164701831888887,
          -0.045472070674267395,
          0.010923056434839151,
          0.020951118077449538,
          0.08060633343465601,
          0.010702340933716636,
          0.0006849755286659209,
          0.022235550576475804,
          -0.028107849027040666,
          0.016482631079420385,
          0.07672367247152218,
          0.04097634756210056,
          -0.035850413857013874,
          0.029152881322354995,
          -0.018289824079025907,
          -0.018759741145300934,
          0.0442712055127924,
          -0.003676901688836942,
          -0.009831037585273927,
          -0.007067404305365954,
          0.0022932079702606134,
          0.04002958053615768,
          0.006692848559830988,
          -0.028066879103847697,
          -0.0035997089582305852,
          -0.0016017449644294968,
          -0.013857824616633763,
          0.020766722052285358,
          0.00498011838858925,
          0.030669642768724525,
          -0.01415587747221625,
          0.003177749347551384,
          0.0009187119612680816,
          0.06345349919037341,
          0.025805031695359804,
          -0.0001701776111775466,
          -0.0064882494830753035,
          -0.01764151893927407,
          0.04630715695340981,
          0.008334361901278953,
          0.039336113263176486,
          0.03197874530765982,
          -0.02213926518837911,
          -0.02801304273786351,
          -0.008117526404054443,
          -0.0027719151682934484,
          0.004965950431016164,
          -0.024244149944225635,
          0.00852786483959661,
          -0.027216954592722054,
          -0.06330064975479521,
          -0.011402910821716905,
          -0.009680714988973549,
          0.007501806024007074,
          0.04190979475049994,
          -0.015487265070270373,
          -0.0006355242720026411,
          -0.008727666677694368
         ],
         "yaxis": "y"
        }
       ],
       "layout": {
        "legend": {
         "tracegroupgap": 0
        },
        "template": {
         "data": {
          "bar": [
           {
            "error_x": {
             "color": "#2a3f5f"
            },
            "error_y": {
             "color": "#2a3f5f"
            },
            "marker": {
             "line": {
              "color": "#E5ECF6",
              "width": 0.5
             },
             "pattern": {
              "fillmode": "overlay",
              "size": 10,
              "solidity": 0.2
             }
            },
            "type": "bar"
           }
          ],
          "barpolar": [
           {
            "marker": {
             "line": {
              "color": "#E5ECF6",
              "width": 0.5
             },
             "pattern": {
              "fillmode": "overlay",
              "size": 10,
              "solidity": 0.2
             }
            },
            "type": "barpolar"
           }
          ],
          "carpet": [
           {
            "aaxis": {
             "endlinecolor": "#2a3f5f",
             "gridcolor": "white",
             "linecolor": "white",
             "minorgridcolor": "white",
             "startlinecolor": "#2a3f5f"
            },
            "baxis": {
             "endlinecolor": "#2a3f5f",
             "gridcolor": "white",
             "linecolor": "white",
             "minorgridcolor": "white",
             "startlinecolor": "#2a3f5f"
            },
            "type": "carpet"
           }
          ],
          "choropleth": [
           {
            "colorbar": {
             "outlinewidth": 0,
             "ticks": ""
            },
            "type": "choropleth"
           }
          ],
          "contour": [
           {
            "colorbar": {
             "outlinewidth": 0,
             "ticks": ""
            },
            "colorscale": [
             [
              0,
              "#0d0887"
             ],
             [
              0.1111111111111111,
              "#46039f"
             ],
             [
              0.2222222222222222,
              "#7201a8"
             ],
             [
              0.3333333333333333,
              "#9c179e"
             ],
             [
              0.4444444444444444,
              "#bd3786"
             ],
             [
              0.5555555555555556,
              "#d8576b"
             ],
             [
              0.6666666666666666,
              "#ed7953"
             ],
             [
              0.7777777777777778,
              "#fb9f3a"
             ],
             [
              0.8888888888888888,
              "#fdca26"
             ],
             [
              1,
              "#f0f921"
             ]
            ],
            "type": "contour"
           }
          ],
          "contourcarpet": [
           {
            "colorbar": {
             "outlinewidth": 0,
             "ticks": ""
            },
            "type": "contourcarpet"
           }
          ],
          "heatmap": [
           {
            "colorbar": {
             "outlinewidth": 0,
             "ticks": ""
            },
            "colorscale": [
             [
              0,
              "#0d0887"
             ],
             [
              0.1111111111111111,
              "#46039f"
             ],
             [
              0.2222222222222222,
              "#7201a8"
             ],
             [
              0.3333333333333333,
              "#9c179e"
             ],
             [
              0.4444444444444444,
              "#bd3786"
             ],
             [
              0.5555555555555556,
              "#d8576b"
             ],
             [
              0.6666666666666666,
              "#ed7953"
             ],
             [
              0.7777777777777778,
              "#fb9f3a"
             ],
             [
              0.8888888888888888,
              "#fdca26"
             ],
             [
              1,
              "#f0f921"
             ]
            ],
            "type": "heatmap"
           }
          ],
          "heatmapgl": [
           {
            "colorbar": {
             "outlinewidth": 0,
             "ticks": ""
            },
            "colorscale": [
             [
              0,
              "#0d0887"
             ],
             [
              0.1111111111111111,
              "#46039f"
             ],
             [
              0.2222222222222222,
              "#7201a8"
             ],
             [
              0.3333333333333333,
              "#9c179e"
             ],
             [
              0.4444444444444444,
              "#bd3786"
             ],
             [
              0.5555555555555556,
              "#d8576b"
             ],
             [
              0.6666666666666666,
              "#ed7953"
             ],
             [
              0.7777777777777778,
              "#fb9f3a"
             ],
             [
              0.8888888888888888,
              "#fdca26"
             ],
             [
              1,
              "#f0f921"
             ]
            ],
            "type": "heatmapgl"
           }
          ],
          "histogram": [
           {
            "marker": {
             "pattern": {
              "fillmode": "overlay",
              "size": 10,
              "solidity": 0.2
             }
            },
            "type": "histogram"
           }
          ],
          "histogram2d": [
           {
            "colorbar": {
             "outlinewidth": 0,
             "ticks": ""
            },
            "colorscale": [
             [
              0,
              "#0d0887"
             ],
             [
              0.1111111111111111,
              "#46039f"
             ],
             [
              0.2222222222222222,
              "#7201a8"
             ],
             [
              0.3333333333333333,
              "#9c179e"
             ],
             [
              0.4444444444444444,
              "#bd3786"
             ],
             [
              0.5555555555555556,
              "#d8576b"
             ],
             [
              0.6666666666666666,
              "#ed7953"
             ],
             [
              0.7777777777777778,
              "#fb9f3a"
             ],
             [
              0.8888888888888888,
              "#fdca26"
             ],
             [
              1,
              "#f0f921"
             ]
            ],
            "type": "histogram2d"
           }
          ],
          "histogram2dcontour": [
           {
            "colorbar": {
             "outlinewidth": 0,
             "ticks": ""
            },
            "colorscale": [
             [
              0,
              "#0d0887"
             ],
             [
              0.1111111111111111,
              "#46039f"
             ],
             [
              0.2222222222222222,
              "#7201a8"
             ],
             [
              0.3333333333333333,
              "#9c179e"
             ],
             [
              0.4444444444444444,
              "#bd3786"
             ],
             [
              0.5555555555555556,
              "#d8576b"
             ],
             [
              0.6666666666666666,
              "#ed7953"
             ],
             [
              0.7777777777777778,
              "#fb9f3a"
             ],
             [
              0.8888888888888888,
              "#fdca26"
             ],
             [
              1,
              "#f0f921"
             ]
            ],
            "type": "histogram2dcontour"
           }
          ],
          "mesh3d": [
           {
            "colorbar": {
             "outlinewidth": 0,
             "ticks": ""
            },
            "type": "mesh3d"
           }
          ],
          "parcoords": [
           {
            "line": {
             "colorbar": {
              "outlinewidth": 0,
              "ticks": ""
             }
            },
            "type": "parcoords"
           }
          ],
          "pie": [
           {
            "automargin": true,
            "type": "pie"
           }
          ],
          "scatter": [
           {
            "fillpattern": {
             "fillmode": "overlay",
             "size": 10,
             "solidity": 0.2
            },
            "type": "scatter"
           }
          ],
          "scatter3d": [
           {
            "line": {
             "colorbar": {
              "outlinewidth": 0,
              "ticks": ""
             }
            },
            "marker": {
             "colorbar": {
              "outlinewidth": 0,
              "ticks": ""
             }
            },
            "type": "scatter3d"
           }
          ],
          "scattercarpet": [
           {
            "marker": {
             "colorbar": {
              "outlinewidth": 0,
              "ticks": ""
             }
            },
            "type": "scattercarpet"
           }
          ],
          "scattergeo": [
           {
            "marker": {
             "colorbar": {
              "outlinewidth": 0,
              "ticks": ""
             }
            },
            "type": "scattergeo"
           }
          ],
          "scattergl": [
           {
            "marker": {
             "colorbar": {
              "outlinewidth": 0,
              "ticks": ""
             }
            },
            "type": "scattergl"
           }
          ],
          "scattermapbox": [
           {
            "marker": {
             "colorbar": {
              "outlinewidth": 0,
              "ticks": ""
             }
            },
            "type": "scattermapbox"
           }
          ],
          "scatterpolar": [
           {
            "marker": {
             "colorbar": {
              "outlinewidth": 0,
              "ticks": ""
             }
            },
            "type": "scatterpolar"
           }
          ],
          "scatterpolargl": [
           {
            "marker": {
             "colorbar": {
              "outlinewidth": 0,
              "ticks": ""
             }
            },
            "type": "scatterpolargl"
           }
          ],
          "scatterternary": [
           {
            "marker": {
             "colorbar": {
              "outlinewidth": 0,
              "ticks": ""
             }
            },
            "type": "scatterternary"
           }
          ],
          "surface": [
           {
            "colorbar": {
             "outlinewidth": 0,
             "ticks": ""
            },
            "colorscale": [
             [
              0,
              "#0d0887"
             ],
             [
              0.1111111111111111,
              "#46039f"
             ],
             [
              0.2222222222222222,
              "#7201a8"
             ],
             [
              0.3333333333333333,
              "#9c179e"
             ],
             [
              0.4444444444444444,
              "#bd3786"
             ],
             [
              0.5555555555555556,
              "#d8576b"
             ],
             [
              0.6666666666666666,
              "#ed7953"
             ],
             [
              0.7777777777777778,
              "#fb9f3a"
             ],
             [
              0.8888888888888888,
              "#fdca26"
             ],
             [
              1,
              "#f0f921"
             ]
            ],
            "type": "surface"
           }
          ],
          "table": [
           {
            "cells": {
             "fill": {
              "color": "#EBF0F8"
             },
             "line": {
              "color": "white"
             }
            },
            "header": {
             "fill": {
              "color": "#C8D4E3"
             },
             "line": {
              "color": "white"
             }
            },
            "type": "table"
           }
          ]
         },
         "layout": {
          "annotationdefaults": {
           "arrowcolor": "#2a3f5f",
           "arrowhead": 0,
           "arrowwidth": 1
          },
          "autotypenumbers": "strict",
          "coloraxis": {
           "colorbar": {
            "outlinewidth": 0,
            "ticks": ""
           }
          },
          "colorscale": {
           "diverging": [
            [
             0,
             "#8e0152"
            ],
            [
             0.1,
             "#c51b7d"
            ],
            [
             0.2,
             "#de77ae"
            ],
            [
             0.3,
             "#f1b6da"
            ],
            [
             0.4,
             "#fde0ef"
            ],
            [
             0.5,
             "#f7f7f7"
            ],
            [
             0.6,
             "#e6f5d0"
            ],
            [
             0.7,
             "#b8e186"
            ],
            [
             0.8,
             "#7fbc41"
            ],
            [
             0.9,
             "#4d9221"
            ],
            [
             1,
             "#276419"
            ]
           ],
           "sequential": [
            [
             0,
             "#0d0887"
            ],
            [
             0.1111111111111111,
             "#46039f"
            ],
            [
             0.2222222222222222,
             "#7201a8"
            ],
            [
             0.3333333333333333,
             "#9c179e"
            ],
            [
             0.4444444444444444,
             "#bd3786"
            ],
            [
             0.5555555555555556,
             "#d8576b"
            ],
            [
             0.6666666666666666,
             "#ed7953"
            ],
            [
             0.7777777777777778,
             "#fb9f3a"
            ],
            [
             0.8888888888888888,
             "#fdca26"
            ],
            [
             1,
             "#f0f921"
            ]
           ],
           "sequentialminus": [
            [
             0,
             "#0d0887"
            ],
            [
             0.1111111111111111,
             "#46039f"
            ],
            [
             0.2222222222222222,
             "#7201a8"
            ],
            [
             0.3333333333333333,
             "#9c179e"
            ],
            [
             0.4444444444444444,
             "#bd3786"
            ],
            [
             0.5555555555555556,
             "#d8576b"
            ],
            [
             0.6666666666666666,
             "#ed7953"
            ],
            [
             0.7777777777777778,
             "#fb9f3a"
            ],
            [
             0.8888888888888888,
             "#fdca26"
            ],
            [
             1,
             "#f0f921"
            ]
           ]
          },
          "colorway": [
           "#636efa",
           "#EF553B",
           "#00cc96",
           "#ab63fa",
           "#FFA15A",
           "#19d3f3",
           "#FF6692",
           "#B6E880",
           "#FF97FF",
           "#FECB52"
          ],
          "font": {
           "color": "#2a3f5f"
          },
          "geo": {
           "bgcolor": "white",
           "lakecolor": "white",
           "landcolor": "#E5ECF6",
           "showlakes": true,
           "showland": true,
           "subunitcolor": "white"
          },
          "hoverlabel": {
           "align": "left"
          },
          "hovermode": "closest",
          "mapbox": {
           "style": "light"
          },
          "paper_bgcolor": "white",
          "plot_bgcolor": "#E5ECF6",
          "polar": {
           "angularaxis": {
            "gridcolor": "white",
            "linecolor": "white",
            "ticks": ""
           },
           "bgcolor": "#E5ECF6",
           "radialaxis": {
            "gridcolor": "white",
            "linecolor": "white",
            "ticks": ""
           }
          },
          "scene": {
           "xaxis": {
            "backgroundcolor": "#E5ECF6",
            "gridcolor": "white",
            "gridwidth": 2,
            "linecolor": "white",
            "showbackground": true,
            "ticks": "",
            "zerolinecolor": "white"
           },
           "yaxis": {
            "backgroundcolor": "#E5ECF6",
            "gridcolor": "white",
            "gridwidth": 2,
            "linecolor": "white",
            "showbackground": true,
            "ticks": "",
            "zerolinecolor": "white"
           },
           "zaxis": {
            "backgroundcolor": "#E5ECF6",
            "gridcolor": "white",
            "gridwidth": 2,
            "linecolor": "white",
            "showbackground": true,
            "ticks": "",
            "zerolinecolor": "white"
           }
          },
          "shapedefaults": {
           "line": {
            "color": "#2a3f5f"
           }
          },
          "ternary": {
           "aaxis": {
            "gridcolor": "white",
            "linecolor": "white",
            "ticks": ""
           },
           "baxis": {
            "gridcolor": "white",
            "linecolor": "white",
            "ticks": ""
           },
           "bgcolor": "#E5ECF6",
           "caxis": {
            "gridcolor": "white",
            "linecolor": "white",
            "ticks": ""
           }
          },
          "title": {
           "x": 0.05
          },
          "xaxis": {
           "automargin": true,
           "gridcolor": "white",
           "linecolor": "white",
           "ticks": "",
           "title": {
            "standoff": 15
           },
           "zerolinecolor": "white",
           "zerolinewidth": 2
          },
          "yaxis": {
           "automargin": true,
           "gridcolor": "white",
           "linecolor": "white",
           "ticks": "",
           "title": {
            "standoff": 15
           },
           "zerolinecolor": "white",
           "zerolinewidth": 2
          }
         }
        },
        "title": {
         "text": "Residual plot of Region_East Asia and Pacific"
        },
        "xaxis": {
         "anchor": "y",
         "domain": [
          0,
          1
         ],
         "title": {
          "text": "Region_East Asia and Pacific"
         }
        },
        "yaxis": {
         "anchor": "x",
         "domain": [
          0,
          1
         ],
         "title": {
          "text": "Residuals"
         }
        }
       }
      }
     },
     "metadata": {},
     "output_type": "display_data"
    },
    {
     "data": {
      "application/vnd.plotly.v1+json": {
       "config": {
        "plotlyServerURL": "https://plot.ly"
       },
       "data": [
        {
         "hovertemplate": "Region_Europe and Central Asia=%{x}<br>Residuals=%{y}<extra></extra>",
         "legendgroup": "",
         "marker": {
          "color": "#636efa",
          "symbol": "circle"
         },
         "mode": "markers",
         "name": "",
         "orientation": "v",
         "showlegend": false,
         "type": "scatter",
         "x": [
          1,
          1,
          1,
          1,
          1,
          1,
          1,
          1,
          1,
          1,
          1,
          1,
          1,
          1,
          1,
          0,
          1,
          1,
          1,
          1,
          1,
          1,
          1,
          1,
          0,
          1,
          1,
          1,
          1,
          1,
          1,
          1,
          1,
          1,
          1,
          1,
          1,
          1,
          1,
          1,
          1,
          1,
          0,
          1,
          1,
          1,
          1,
          1,
          1,
          0,
          1,
          1,
          1,
          1,
          1,
          1,
          1,
          1,
          1,
          1,
          1,
          1,
          1,
          1,
          1,
          1,
          1,
          1,
          1,
          1,
          1,
          1,
          1,
          1,
          1,
          1,
          1,
          1,
          1,
          1,
          1,
          1,
          1,
          1,
          1,
          1,
          1,
          1,
          1,
          1,
          0,
          1,
          1,
          1,
          1,
          1,
          1,
          1,
          1,
          1,
          1,
          1,
          1,
          1,
          1,
          1,
          1,
          1,
          1,
          1,
          1,
          1,
          1,
          1,
          1,
          1,
          1,
          0,
          0,
          1
         ],
         "xaxis": "x",
         "y": [
          -0.033384157129372816,
          -0.0013317154015389243,
          0.030238383408273617,
          0.0680302754189977,
          -0.034956312547245016,
          0.04218787813048308,
          -0.007832951761780282,
          0.03488022646940281,
          -0.02059957018924813,
          0.037180649876763616,
          0.0471042690913796,
          0.016114605696050777,
          -0.019407437886018397,
          -0.026822910709218023,
          -0.00875720678949582,
          -0.020900003380692422,
          -0.001954953598326925,
          -0.016201223491338235,
          0.023588401357635513,
          0.033527882834280764,
          -0.04981174654941911,
          0.011143912535614586,
          0.009976293936422131,
          -0.017331389245818896,
          -0.018441787048159575,
          -0.006989289544756416,
          -0.004376934875604921,
          -0.02393387503886235,
          0.02018194994189415,
          0.02348853896617159,
          -0.031982829960250314,
          -0.019390442775290895,
          0.02487282447977135,
          0.03624499367137779,
          0.06511049212756881,
          -0.0070521094614157676,
          0.01159173495009741,
          -0.027561658540162848,
          0.04369999150028503,
          0.010506660357418207,
          0.017343156786355285,
          0.016305338417195003,
          -0.0007269173904836945,
          0.037779698397149286,
          0.005359386947798361,
          0.013552551474676322,
          -0.010023688606845438,
          -0.0070870574803386654,
          -0.01386859340986818,
          0.004141761810504518,
          0.00751007406216625,
          0.02383882538608295,
          -0.01673394281285423,
          0.009695512994953193,
          0.02521423999252498,
          -0.027018173304551363,
          0.0364362671059828,
          -0.015078227620501317,
          0.03269674164943842,
          0.013269280109307446,
          -0.004652650286968207,
          -0.006429688893980601,
          -0.007164701831888887,
          -0.045472070674267395,
          0.010923056434839151,
          0.020951118077449538,
          0.08060633343465601,
          0.010702340933716636,
          0.0006849755286659209,
          0.022235550576475804,
          -0.028107849027040666,
          0.016482631079420385,
          0.07672367247152218,
          0.04097634756210056,
          -0.035850413857013874,
          0.029152881322354995,
          -0.018289824079025907,
          -0.018759741145300934,
          0.0442712055127924,
          -0.003676901688836942,
          -0.009831037585273927,
          -0.007067404305365954,
          0.0022932079702606134,
          0.04002958053615768,
          0.006692848559830988,
          -0.028066879103847697,
          -0.0035997089582305852,
          -0.0016017449644294968,
          -0.013857824616633763,
          0.020766722052285358,
          0.00498011838858925,
          0.030669642768724525,
          -0.01415587747221625,
          0.003177749347551384,
          0.0009187119612680816,
          0.06345349919037341,
          0.025805031695359804,
          -0.0001701776111775466,
          -0.0064882494830753035,
          -0.01764151893927407,
          0.04630715695340981,
          0.008334361901278953,
          0.039336113263176486,
          0.03197874530765982,
          -0.02213926518837911,
          -0.02801304273786351,
          -0.008117526404054443,
          -0.0027719151682934484,
          0.004965950431016164,
          -0.024244149944225635,
          0.00852786483959661,
          -0.027216954592722054,
          -0.06330064975479521,
          -0.011402910821716905,
          -0.009680714988973549,
          0.007501806024007074,
          0.04190979475049994,
          -0.015487265070270373,
          -0.0006355242720026411,
          -0.008727666677694368
         ],
         "yaxis": "y"
        }
       ],
       "layout": {
        "legend": {
         "tracegroupgap": 0
        },
        "template": {
         "data": {
          "bar": [
           {
            "error_x": {
             "color": "#2a3f5f"
            },
            "error_y": {
             "color": "#2a3f5f"
            },
            "marker": {
             "line": {
              "color": "#E5ECF6",
              "width": 0.5
             },
             "pattern": {
              "fillmode": "overlay",
              "size": 10,
              "solidity": 0.2
             }
            },
            "type": "bar"
           }
          ],
          "barpolar": [
           {
            "marker": {
             "line": {
              "color": "#E5ECF6",
              "width": 0.5
             },
             "pattern": {
              "fillmode": "overlay",
              "size": 10,
              "solidity": 0.2
             }
            },
            "type": "barpolar"
           }
          ],
          "carpet": [
           {
            "aaxis": {
             "endlinecolor": "#2a3f5f",
             "gridcolor": "white",
             "linecolor": "white",
             "minorgridcolor": "white",
             "startlinecolor": "#2a3f5f"
            },
            "baxis": {
             "endlinecolor": "#2a3f5f",
             "gridcolor": "white",
             "linecolor": "white",
             "minorgridcolor": "white",
             "startlinecolor": "#2a3f5f"
            },
            "type": "carpet"
           }
          ],
          "choropleth": [
           {
            "colorbar": {
             "outlinewidth": 0,
             "ticks": ""
            },
            "type": "choropleth"
           }
          ],
          "contour": [
           {
            "colorbar": {
             "outlinewidth": 0,
             "ticks": ""
            },
            "colorscale": [
             [
              0,
              "#0d0887"
             ],
             [
              0.1111111111111111,
              "#46039f"
             ],
             [
              0.2222222222222222,
              "#7201a8"
             ],
             [
              0.3333333333333333,
              "#9c179e"
             ],
             [
              0.4444444444444444,
              "#bd3786"
             ],
             [
              0.5555555555555556,
              "#d8576b"
             ],
             [
              0.6666666666666666,
              "#ed7953"
             ],
             [
              0.7777777777777778,
              "#fb9f3a"
             ],
             [
              0.8888888888888888,
              "#fdca26"
             ],
             [
              1,
              "#f0f921"
             ]
            ],
            "type": "contour"
           }
          ],
          "contourcarpet": [
           {
            "colorbar": {
             "outlinewidth": 0,
             "ticks": ""
            },
            "type": "contourcarpet"
           }
          ],
          "heatmap": [
           {
            "colorbar": {
             "outlinewidth": 0,
             "ticks": ""
            },
            "colorscale": [
             [
              0,
              "#0d0887"
             ],
             [
              0.1111111111111111,
              "#46039f"
             ],
             [
              0.2222222222222222,
              "#7201a8"
             ],
             [
              0.3333333333333333,
              "#9c179e"
             ],
             [
              0.4444444444444444,
              "#bd3786"
             ],
             [
              0.5555555555555556,
              "#d8576b"
             ],
             [
              0.6666666666666666,
              "#ed7953"
             ],
             [
              0.7777777777777778,
              "#fb9f3a"
             ],
             [
              0.8888888888888888,
              "#fdca26"
             ],
             [
              1,
              "#f0f921"
             ]
            ],
            "type": "heatmap"
           }
          ],
          "heatmapgl": [
           {
            "colorbar": {
             "outlinewidth": 0,
             "ticks": ""
            },
            "colorscale": [
             [
              0,
              "#0d0887"
             ],
             [
              0.1111111111111111,
              "#46039f"
             ],
             [
              0.2222222222222222,
              "#7201a8"
             ],
             [
              0.3333333333333333,
              "#9c179e"
             ],
             [
              0.4444444444444444,
              "#bd3786"
             ],
             [
              0.5555555555555556,
              "#d8576b"
             ],
             [
              0.6666666666666666,
              "#ed7953"
             ],
             [
              0.7777777777777778,
              "#fb9f3a"
             ],
             [
              0.8888888888888888,
              "#fdca26"
             ],
             [
              1,
              "#f0f921"
             ]
            ],
            "type": "heatmapgl"
           }
          ],
          "histogram": [
           {
            "marker": {
             "pattern": {
              "fillmode": "overlay",
              "size": 10,
              "solidity": 0.2
             }
            },
            "type": "histogram"
           }
          ],
          "histogram2d": [
           {
            "colorbar": {
             "outlinewidth": 0,
             "ticks": ""
            },
            "colorscale": [
             [
              0,
              "#0d0887"
             ],
             [
              0.1111111111111111,
              "#46039f"
             ],
             [
              0.2222222222222222,
              "#7201a8"
             ],
             [
              0.3333333333333333,
              "#9c179e"
             ],
             [
              0.4444444444444444,
              "#bd3786"
             ],
             [
              0.5555555555555556,
              "#d8576b"
             ],
             [
              0.6666666666666666,
              "#ed7953"
             ],
             [
              0.7777777777777778,
              "#fb9f3a"
             ],
             [
              0.8888888888888888,
              "#fdca26"
             ],
             [
              1,
              "#f0f921"
             ]
            ],
            "type": "histogram2d"
           }
          ],
          "histogram2dcontour": [
           {
            "colorbar": {
             "outlinewidth": 0,
             "ticks": ""
            },
            "colorscale": [
             [
              0,
              "#0d0887"
             ],
             [
              0.1111111111111111,
              "#46039f"
             ],
             [
              0.2222222222222222,
              "#7201a8"
             ],
             [
              0.3333333333333333,
              "#9c179e"
             ],
             [
              0.4444444444444444,
              "#bd3786"
             ],
             [
              0.5555555555555556,
              "#d8576b"
             ],
             [
              0.6666666666666666,
              "#ed7953"
             ],
             [
              0.7777777777777778,
              "#fb9f3a"
             ],
             [
              0.8888888888888888,
              "#fdca26"
             ],
             [
              1,
              "#f0f921"
             ]
            ],
            "type": "histogram2dcontour"
           }
          ],
          "mesh3d": [
           {
            "colorbar": {
             "outlinewidth": 0,
             "ticks": ""
            },
            "type": "mesh3d"
           }
          ],
          "parcoords": [
           {
            "line": {
             "colorbar": {
              "outlinewidth": 0,
              "ticks": ""
             }
            },
            "type": "parcoords"
           }
          ],
          "pie": [
           {
            "automargin": true,
            "type": "pie"
           }
          ],
          "scatter": [
           {
            "fillpattern": {
             "fillmode": "overlay",
             "size": 10,
             "solidity": 0.2
            },
            "type": "scatter"
           }
          ],
          "scatter3d": [
           {
            "line": {
             "colorbar": {
              "outlinewidth": 0,
              "ticks": ""
             }
            },
            "marker": {
             "colorbar": {
              "outlinewidth": 0,
              "ticks": ""
             }
            },
            "type": "scatter3d"
           }
          ],
          "scattercarpet": [
           {
            "marker": {
             "colorbar": {
              "outlinewidth": 0,
              "ticks": ""
             }
            },
            "type": "scattercarpet"
           }
          ],
          "scattergeo": [
           {
            "marker": {
             "colorbar": {
              "outlinewidth": 0,
              "ticks": ""
             }
            },
            "type": "scattergeo"
           }
          ],
          "scattergl": [
           {
            "marker": {
             "colorbar": {
              "outlinewidth": 0,
              "ticks": ""
             }
            },
            "type": "scattergl"
           }
          ],
          "scattermapbox": [
           {
            "marker": {
             "colorbar": {
              "outlinewidth": 0,
              "ticks": ""
             }
            },
            "type": "scattermapbox"
           }
          ],
          "scatterpolar": [
           {
            "marker": {
             "colorbar": {
              "outlinewidth": 0,
              "ticks": ""
             }
            },
            "type": "scatterpolar"
           }
          ],
          "scatterpolargl": [
           {
            "marker": {
             "colorbar": {
              "outlinewidth": 0,
              "ticks": ""
             }
            },
            "type": "scatterpolargl"
           }
          ],
          "scatterternary": [
           {
            "marker": {
             "colorbar": {
              "outlinewidth": 0,
              "ticks": ""
             }
            },
            "type": "scatterternary"
           }
          ],
          "surface": [
           {
            "colorbar": {
             "outlinewidth": 0,
             "ticks": ""
            },
            "colorscale": [
             [
              0,
              "#0d0887"
             ],
             [
              0.1111111111111111,
              "#46039f"
             ],
             [
              0.2222222222222222,
              "#7201a8"
             ],
             [
              0.3333333333333333,
              "#9c179e"
             ],
             [
              0.4444444444444444,
              "#bd3786"
             ],
             [
              0.5555555555555556,
              "#d8576b"
             ],
             [
              0.6666666666666666,
              "#ed7953"
             ],
             [
              0.7777777777777778,
              "#fb9f3a"
             ],
             [
              0.8888888888888888,
              "#fdca26"
             ],
             [
              1,
              "#f0f921"
             ]
            ],
            "type": "surface"
           }
          ],
          "table": [
           {
            "cells": {
             "fill": {
              "color": "#EBF0F8"
             },
             "line": {
              "color": "white"
             }
            },
            "header": {
             "fill": {
              "color": "#C8D4E3"
             },
             "line": {
              "color": "white"
             }
            },
            "type": "table"
           }
          ]
         },
         "layout": {
          "annotationdefaults": {
           "arrowcolor": "#2a3f5f",
           "arrowhead": 0,
           "arrowwidth": 1
          },
          "autotypenumbers": "strict",
          "coloraxis": {
           "colorbar": {
            "outlinewidth": 0,
            "ticks": ""
           }
          },
          "colorscale": {
           "diverging": [
            [
             0,
             "#8e0152"
            ],
            [
             0.1,
             "#c51b7d"
            ],
            [
             0.2,
             "#de77ae"
            ],
            [
             0.3,
             "#f1b6da"
            ],
            [
             0.4,
             "#fde0ef"
            ],
            [
             0.5,
             "#f7f7f7"
            ],
            [
             0.6,
             "#e6f5d0"
            ],
            [
             0.7,
             "#b8e186"
            ],
            [
             0.8,
             "#7fbc41"
            ],
            [
             0.9,
             "#4d9221"
            ],
            [
             1,
             "#276419"
            ]
           ],
           "sequential": [
            [
             0,
             "#0d0887"
            ],
            [
             0.1111111111111111,
             "#46039f"
            ],
            [
             0.2222222222222222,
             "#7201a8"
            ],
            [
             0.3333333333333333,
             "#9c179e"
            ],
            [
             0.4444444444444444,
             "#bd3786"
            ],
            [
             0.5555555555555556,
             "#d8576b"
            ],
            [
             0.6666666666666666,
             "#ed7953"
            ],
            [
             0.7777777777777778,
             "#fb9f3a"
            ],
            [
             0.8888888888888888,
             "#fdca26"
            ],
            [
             1,
             "#f0f921"
            ]
           ],
           "sequentialminus": [
            [
             0,
             "#0d0887"
            ],
            [
             0.1111111111111111,
             "#46039f"
            ],
            [
             0.2222222222222222,
             "#7201a8"
            ],
            [
             0.3333333333333333,
             "#9c179e"
            ],
            [
             0.4444444444444444,
             "#bd3786"
            ],
            [
             0.5555555555555556,
             "#d8576b"
            ],
            [
             0.6666666666666666,
             "#ed7953"
            ],
            [
             0.7777777777777778,
             "#fb9f3a"
            ],
            [
             0.8888888888888888,
             "#fdca26"
            ],
            [
             1,
             "#f0f921"
            ]
           ]
          },
          "colorway": [
           "#636efa",
           "#EF553B",
           "#00cc96",
           "#ab63fa",
           "#FFA15A",
           "#19d3f3",
           "#FF6692",
           "#B6E880",
           "#FF97FF",
           "#FECB52"
          ],
          "font": {
           "color": "#2a3f5f"
          },
          "geo": {
           "bgcolor": "white",
           "lakecolor": "white",
           "landcolor": "#E5ECF6",
           "showlakes": true,
           "showland": true,
           "subunitcolor": "white"
          },
          "hoverlabel": {
           "align": "left"
          },
          "hovermode": "closest",
          "mapbox": {
           "style": "light"
          },
          "paper_bgcolor": "white",
          "plot_bgcolor": "#E5ECF6",
          "polar": {
           "angularaxis": {
            "gridcolor": "white",
            "linecolor": "white",
            "ticks": ""
           },
           "bgcolor": "#E5ECF6",
           "radialaxis": {
            "gridcolor": "white",
            "linecolor": "white",
            "ticks": ""
           }
          },
          "scene": {
           "xaxis": {
            "backgroundcolor": "#E5ECF6",
            "gridcolor": "white",
            "gridwidth": 2,
            "linecolor": "white",
            "showbackground": true,
            "ticks": "",
            "zerolinecolor": "white"
           },
           "yaxis": {
            "backgroundcolor": "#E5ECF6",
            "gridcolor": "white",
            "gridwidth": 2,
            "linecolor": "white",
            "showbackground": true,
            "ticks": "",
            "zerolinecolor": "white"
           },
           "zaxis": {
            "backgroundcolor": "#E5ECF6",
            "gridcolor": "white",
            "gridwidth": 2,
            "linecolor": "white",
            "showbackground": true,
            "ticks": "",
            "zerolinecolor": "white"
           }
          },
          "shapedefaults": {
           "line": {
            "color": "#2a3f5f"
           }
          },
          "ternary": {
           "aaxis": {
            "gridcolor": "white",
            "linecolor": "white",
            "ticks": ""
           },
           "baxis": {
            "gridcolor": "white",
            "linecolor": "white",
            "ticks": ""
           },
           "bgcolor": "#E5ECF6",
           "caxis": {
            "gridcolor": "white",
            "linecolor": "white",
            "ticks": ""
           }
          },
          "title": {
           "x": 0.05
          },
          "xaxis": {
           "automargin": true,
           "gridcolor": "white",
           "linecolor": "white",
           "ticks": "",
           "title": {
            "standoff": 15
           },
           "zerolinecolor": "white",
           "zerolinewidth": 2
          },
          "yaxis": {
           "automargin": true,
           "gridcolor": "white",
           "linecolor": "white",
           "ticks": "",
           "title": {
            "standoff": 15
           },
           "zerolinecolor": "white",
           "zerolinewidth": 2
          }
         }
        },
        "title": {
         "text": "Residual plot of Region_Europe and Central Asia"
        },
        "xaxis": {
         "anchor": "y",
         "domain": [
          0,
          1
         ],
         "title": {
          "text": "Region_Europe and Central Asia"
         }
        },
        "yaxis": {
         "anchor": "x",
         "domain": [
          0,
          1
         ],
         "title": {
          "text": "Residuals"
         }
        }
       }
      }
     },
     "metadata": {},
     "output_type": "display_data"
    },
    {
     "data": {
      "application/vnd.plotly.v1+json": {
       "config": {
        "plotlyServerURL": "https://plot.ly"
       },
       "data": [
        {
         "hovertemplate": "Region_Latin America and Caribbean=%{x}<br>Residuals=%{y}<extra></extra>",
         "legendgroup": "",
         "marker": {
          "color": "#636efa",
          "symbol": "circle"
         },
         "mode": "markers",
         "name": "",
         "orientation": "v",
         "showlegend": false,
         "type": "scatter",
         "x": [
          0,
          0,
          0,
          0,
          0,
          0,
          0,
          0,
          0,
          0,
          0,
          0,
          0,
          0,
          0,
          1,
          0,
          0,
          0,
          0,
          0,
          0,
          0,
          0,
          0,
          0,
          0,
          0,
          0,
          0,
          0,
          0,
          0,
          0,
          0,
          0,
          0,
          0,
          0,
          0,
          0,
          0,
          1,
          0,
          0,
          0,
          0,
          0,
          0,
          0,
          0,
          0,
          0,
          0,
          0,
          0,
          0,
          0,
          0,
          0,
          0,
          0,
          0,
          0,
          0,
          0,
          0,
          0,
          0,
          0,
          0,
          0,
          0,
          0,
          0,
          0,
          0,
          0,
          0,
          0,
          0,
          0,
          0,
          0,
          0,
          0,
          0,
          0,
          0,
          0,
          0,
          0,
          0,
          0,
          0,
          0,
          0,
          0,
          0,
          0,
          0,
          0,
          0,
          0,
          0,
          0,
          0,
          0,
          0,
          0,
          0,
          0,
          0,
          0,
          0,
          0,
          0,
          1,
          1,
          0
         ],
         "xaxis": "x",
         "y": [
          -0.033384157129372816,
          -0.0013317154015389243,
          0.030238383408273617,
          0.0680302754189977,
          -0.034956312547245016,
          0.04218787813048308,
          -0.007832951761780282,
          0.03488022646940281,
          -0.02059957018924813,
          0.037180649876763616,
          0.0471042690913796,
          0.016114605696050777,
          -0.019407437886018397,
          -0.026822910709218023,
          -0.00875720678949582,
          -0.020900003380692422,
          -0.001954953598326925,
          -0.016201223491338235,
          0.023588401357635513,
          0.033527882834280764,
          -0.04981174654941911,
          0.011143912535614586,
          0.009976293936422131,
          -0.017331389245818896,
          -0.018441787048159575,
          -0.006989289544756416,
          -0.004376934875604921,
          -0.02393387503886235,
          0.02018194994189415,
          0.02348853896617159,
          -0.031982829960250314,
          -0.019390442775290895,
          0.02487282447977135,
          0.03624499367137779,
          0.06511049212756881,
          -0.0070521094614157676,
          0.01159173495009741,
          -0.027561658540162848,
          0.04369999150028503,
          0.010506660357418207,
          0.017343156786355285,
          0.016305338417195003,
          -0.0007269173904836945,
          0.037779698397149286,
          0.005359386947798361,
          0.013552551474676322,
          -0.010023688606845438,
          -0.0070870574803386654,
          -0.01386859340986818,
          0.004141761810504518,
          0.00751007406216625,
          0.02383882538608295,
          -0.01673394281285423,
          0.009695512994953193,
          0.02521423999252498,
          -0.027018173304551363,
          0.0364362671059828,
          -0.015078227620501317,
          0.03269674164943842,
          0.013269280109307446,
          -0.004652650286968207,
          -0.006429688893980601,
          -0.007164701831888887,
          -0.045472070674267395,
          0.010923056434839151,
          0.020951118077449538,
          0.08060633343465601,
          0.010702340933716636,
          0.0006849755286659209,
          0.022235550576475804,
          -0.028107849027040666,
          0.016482631079420385,
          0.07672367247152218,
          0.04097634756210056,
          -0.035850413857013874,
          0.029152881322354995,
          -0.018289824079025907,
          -0.018759741145300934,
          0.0442712055127924,
          -0.003676901688836942,
          -0.009831037585273927,
          -0.007067404305365954,
          0.0022932079702606134,
          0.04002958053615768,
          0.006692848559830988,
          -0.028066879103847697,
          -0.0035997089582305852,
          -0.0016017449644294968,
          -0.013857824616633763,
          0.020766722052285358,
          0.00498011838858925,
          0.030669642768724525,
          -0.01415587747221625,
          0.003177749347551384,
          0.0009187119612680816,
          0.06345349919037341,
          0.025805031695359804,
          -0.0001701776111775466,
          -0.0064882494830753035,
          -0.01764151893927407,
          0.04630715695340981,
          0.008334361901278953,
          0.039336113263176486,
          0.03197874530765982,
          -0.02213926518837911,
          -0.02801304273786351,
          -0.008117526404054443,
          -0.0027719151682934484,
          0.004965950431016164,
          -0.024244149944225635,
          0.00852786483959661,
          -0.027216954592722054,
          -0.06330064975479521,
          -0.011402910821716905,
          -0.009680714988973549,
          0.007501806024007074,
          0.04190979475049994,
          -0.015487265070270373,
          -0.0006355242720026411,
          -0.008727666677694368
         ],
         "yaxis": "y"
        }
       ],
       "layout": {
        "legend": {
         "tracegroupgap": 0
        },
        "template": {
         "data": {
          "bar": [
           {
            "error_x": {
             "color": "#2a3f5f"
            },
            "error_y": {
             "color": "#2a3f5f"
            },
            "marker": {
             "line": {
              "color": "#E5ECF6",
              "width": 0.5
             },
             "pattern": {
              "fillmode": "overlay",
              "size": 10,
              "solidity": 0.2
             }
            },
            "type": "bar"
           }
          ],
          "barpolar": [
           {
            "marker": {
             "line": {
              "color": "#E5ECF6",
              "width": 0.5
             },
             "pattern": {
              "fillmode": "overlay",
              "size": 10,
              "solidity": 0.2
             }
            },
            "type": "barpolar"
           }
          ],
          "carpet": [
           {
            "aaxis": {
             "endlinecolor": "#2a3f5f",
             "gridcolor": "white",
             "linecolor": "white",
             "minorgridcolor": "white",
             "startlinecolor": "#2a3f5f"
            },
            "baxis": {
             "endlinecolor": "#2a3f5f",
             "gridcolor": "white",
             "linecolor": "white",
             "minorgridcolor": "white",
             "startlinecolor": "#2a3f5f"
            },
            "type": "carpet"
           }
          ],
          "choropleth": [
           {
            "colorbar": {
             "outlinewidth": 0,
             "ticks": ""
            },
            "type": "choropleth"
           }
          ],
          "contour": [
           {
            "colorbar": {
             "outlinewidth": 0,
             "ticks": ""
            },
            "colorscale": [
             [
              0,
              "#0d0887"
             ],
             [
              0.1111111111111111,
              "#46039f"
             ],
             [
              0.2222222222222222,
              "#7201a8"
             ],
             [
              0.3333333333333333,
              "#9c179e"
             ],
             [
              0.4444444444444444,
              "#bd3786"
             ],
             [
              0.5555555555555556,
              "#d8576b"
             ],
             [
              0.6666666666666666,
              "#ed7953"
             ],
             [
              0.7777777777777778,
              "#fb9f3a"
             ],
             [
              0.8888888888888888,
              "#fdca26"
             ],
             [
              1,
              "#f0f921"
             ]
            ],
            "type": "contour"
           }
          ],
          "contourcarpet": [
           {
            "colorbar": {
             "outlinewidth": 0,
             "ticks": ""
            },
            "type": "contourcarpet"
           }
          ],
          "heatmap": [
           {
            "colorbar": {
             "outlinewidth": 0,
             "ticks": ""
            },
            "colorscale": [
             [
              0,
              "#0d0887"
             ],
             [
              0.1111111111111111,
              "#46039f"
             ],
             [
              0.2222222222222222,
              "#7201a8"
             ],
             [
              0.3333333333333333,
              "#9c179e"
             ],
             [
              0.4444444444444444,
              "#bd3786"
             ],
             [
              0.5555555555555556,
              "#d8576b"
             ],
             [
              0.6666666666666666,
              "#ed7953"
             ],
             [
              0.7777777777777778,
              "#fb9f3a"
             ],
             [
              0.8888888888888888,
              "#fdca26"
             ],
             [
              1,
              "#f0f921"
             ]
            ],
            "type": "heatmap"
           }
          ],
          "heatmapgl": [
           {
            "colorbar": {
             "outlinewidth": 0,
             "ticks": ""
            },
            "colorscale": [
             [
              0,
              "#0d0887"
             ],
             [
              0.1111111111111111,
              "#46039f"
             ],
             [
              0.2222222222222222,
              "#7201a8"
             ],
             [
              0.3333333333333333,
              "#9c179e"
             ],
             [
              0.4444444444444444,
              "#bd3786"
             ],
             [
              0.5555555555555556,
              "#d8576b"
             ],
             [
              0.6666666666666666,
              "#ed7953"
             ],
             [
              0.7777777777777778,
              "#fb9f3a"
             ],
             [
              0.8888888888888888,
              "#fdca26"
             ],
             [
              1,
              "#f0f921"
             ]
            ],
            "type": "heatmapgl"
           }
          ],
          "histogram": [
           {
            "marker": {
             "pattern": {
              "fillmode": "overlay",
              "size": 10,
              "solidity": 0.2
             }
            },
            "type": "histogram"
           }
          ],
          "histogram2d": [
           {
            "colorbar": {
             "outlinewidth": 0,
             "ticks": ""
            },
            "colorscale": [
             [
              0,
              "#0d0887"
             ],
             [
              0.1111111111111111,
              "#46039f"
             ],
             [
              0.2222222222222222,
              "#7201a8"
             ],
             [
              0.3333333333333333,
              "#9c179e"
             ],
             [
              0.4444444444444444,
              "#bd3786"
             ],
             [
              0.5555555555555556,
              "#d8576b"
             ],
             [
              0.6666666666666666,
              "#ed7953"
             ],
             [
              0.7777777777777778,
              "#fb9f3a"
             ],
             [
              0.8888888888888888,
              "#fdca26"
             ],
             [
              1,
              "#f0f921"
             ]
            ],
            "type": "histogram2d"
           }
          ],
          "histogram2dcontour": [
           {
            "colorbar": {
             "outlinewidth": 0,
             "ticks": ""
            },
            "colorscale": [
             [
              0,
              "#0d0887"
             ],
             [
              0.1111111111111111,
              "#46039f"
             ],
             [
              0.2222222222222222,
              "#7201a8"
             ],
             [
              0.3333333333333333,
              "#9c179e"
             ],
             [
              0.4444444444444444,
              "#bd3786"
             ],
             [
              0.5555555555555556,
              "#d8576b"
             ],
             [
              0.6666666666666666,
              "#ed7953"
             ],
             [
              0.7777777777777778,
              "#fb9f3a"
             ],
             [
              0.8888888888888888,
              "#fdca26"
             ],
             [
              1,
              "#f0f921"
             ]
            ],
            "type": "histogram2dcontour"
           }
          ],
          "mesh3d": [
           {
            "colorbar": {
             "outlinewidth": 0,
             "ticks": ""
            },
            "type": "mesh3d"
           }
          ],
          "parcoords": [
           {
            "line": {
             "colorbar": {
              "outlinewidth": 0,
              "ticks": ""
             }
            },
            "type": "parcoords"
           }
          ],
          "pie": [
           {
            "automargin": true,
            "type": "pie"
           }
          ],
          "scatter": [
           {
            "fillpattern": {
             "fillmode": "overlay",
             "size": 10,
             "solidity": 0.2
            },
            "type": "scatter"
           }
          ],
          "scatter3d": [
           {
            "line": {
             "colorbar": {
              "outlinewidth": 0,
              "ticks": ""
             }
            },
            "marker": {
             "colorbar": {
              "outlinewidth": 0,
              "ticks": ""
             }
            },
            "type": "scatter3d"
           }
          ],
          "scattercarpet": [
           {
            "marker": {
             "colorbar": {
              "outlinewidth": 0,
              "ticks": ""
             }
            },
            "type": "scattercarpet"
           }
          ],
          "scattergeo": [
           {
            "marker": {
             "colorbar": {
              "outlinewidth": 0,
              "ticks": ""
             }
            },
            "type": "scattergeo"
           }
          ],
          "scattergl": [
           {
            "marker": {
             "colorbar": {
              "outlinewidth": 0,
              "ticks": ""
             }
            },
            "type": "scattergl"
           }
          ],
          "scattermapbox": [
           {
            "marker": {
             "colorbar": {
              "outlinewidth": 0,
              "ticks": ""
             }
            },
            "type": "scattermapbox"
           }
          ],
          "scatterpolar": [
           {
            "marker": {
             "colorbar": {
              "outlinewidth": 0,
              "ticks": ""
             }
            },
            "type": "scatterpolar"
           }
          ],
          "scatterpolargl": [
           {
            "marker": {
             "colorbar": {
              "outlinewidth": 0,
              "ticks": ""
             }
            },
            "type": "scatterpolargl"
           }
          ],
          "scatterternary": [
           {
            "marker": {
             "colorbar": {
              "outlinewidth": 0,
              "ticks": ""
             }
            },
            "type": "scatterternary"
           }
          ],
          "surface": [
           {
            "colorbar": {
             "outlinewidth": 0,
             "ticks": ""
            },
            "colorscale": [
             [
              0,
              "#0d0887"
             ],
             [
              0.1111111111111111,
              "#46039f"
             ],
             [
              0.2222222222222222,
              "#7201a8"
             ],
             [
              0.3333333333333333,
              "#9c179e"
             ],
             [
              0.4444444444444444,
              "#bd3786"
             ],
             [
              0.5555555555555556,
              "#d8576b"
             ],
             [
              0.6666666666666666,
              "#ed7953"
             ],
             [
              0.7777777777777778,
              "#fb9f3a"
             ],
             [
              0.8888888888888888,
              "#fdca26"
             ],
             [
              1,
              "#f0f921"
             ]
            ],
            "type": "surface"
           }
          ],
          "table": [
           {
            "cells": {
             "fill": {
              "color": "#EBF0F8"
             },
             "line": {
              "color": "white"
             }
            },
            "header": {
             "fill": {
              "color": "#C8D4E3"
             },
             "line": {
              "color": "white"
             }
            },
            "type": "table"
           }
          ]
         },
         "layout": {
          "annotationdefaults": {
           "arrowcolor": "#2a3f5f",
           "arrowhead": 0,
           "arrowwidth": 1
          },
          "autotypenumbers": "strict",
          "coloraxis": {
           "colorbar": {
            "outlinewidth": 0,
            "ticks": ""
           }
          },
          "colorscale": {
           "diverging": [
            [
             0,
             "#8e0152"
            ],
            [
             0.1,
             "#c51b7d"
            ],
            [
             0.2,
             "#de77ae"
            ],
            [
             0.3,
             "#f1b6da"
            ],
            [
             0.4,
             "#fde0ef"
            ],
            [
             0.5,
             "#f7f7f7"
            ],
            [
             0.6,
             "#e6f5d0"
            ],
            [
             0.7,
             "#b8e186"
            ],
            [
             0.8,
             "#7fbc41"
            ],
            [
             0.9,
             "#4d9221"
            ],
            [
             1,
             "#276419"
            ]
           ],
           "sequential": [
            [
             0,
             "#0d0887"
            ],
            [
             0.1111111111111111,
             "#46039f"
            ],
            [
             0.2222222222222222,
             "#7201a8"
            ],
            [
             0.3333333333333333,
             "#9c179e"
            ],
            [
             0.4444444444444444,
             "#bd3786"
            ],
            [
             0.5555555555555556,
             "#d8576b"
            ],
            [
             0.6666666666666666,
             "#ed7953"
            ],
            [
             0.7777777777777778,
             "#fb9f3a"
            ],
            [
             0.8888888888888888,
             "#fdca26"
            ],
            [
             1,
             "#f0f921"
            ]
           ],
           "sequentialminus": [
            [
             0,
             "#0d0887"
            ],
            [
             0.1111111111111111,
             "#46039f"
            ],
            [
             0.2222222222222222,
             "#7201a8"
            ],
            [
             0.3333333333333333,
             "#9c179e"
            ],
            [
             0.4444444444444444,
             "#bd3786"
            ],
            [
             0.5555555555555556,
             "#d8576b"
            ],
            [
             0.6666666666666666,
             "#ed7953"
            ],
            [
             0.7777777777777778,
             "#fb9f3a"
            ],
            [
             0.8888888888888888,
             "#fdca26"
            ],
            [
             1,
             "#f0f921"
            ]
           ]
          },
          "colorway": [
           "#636efa",
           "#EF553B",
           "#00cc96",
           "#ab63fa",
           "#FFA15A",
           "#19d3f3",
           "#FF6692",
           "#B6E880",
           "#FF97FF",
           "#FECB52"
          ],
          "font": {
           "color": "#2a3f5f"
          },
          "geo": {
           "bgcolor": "white",
           "lakecolor": "white",
           "landcolor": "#E5ECF6",
           "showlakes": true,
           "showland": true,
           "subunitcolor": "white"
          },
          "hoverlabel": {
           "align": "left"
          },
          "hovermode": "closest",
          "mapbox": {
           "style": "light"
          },
          "paper_bgcolor": "white",
          "plot_bgcolor": "#E5ECF6",
          "polar": {
           "angularaxis": {
            "gridcolor": "white",
            "linecolor": "white",
            "ticks": ""
           },
           "bgcolor": "#E5ECF6",
           "radialaxis": {
            "gridcolor": "white",
            "linecolor": "white",
            "ticks": ""
           }
          },
          "scene": {
           "xaxis": {
            "backgroundcolor": "#E5ECF6",
            "gridcolor": "white",
            "gridwidth": 2,
            "linecolor": "white",
            "showbackground": true,
            "ticks": "",
            "zerolinecolor": "white"
           },
           "yaxis": {
            "backgroundcolor": "#E5ECF6",
            "gridcolor": "white",
            "gridwidth": 2,
            "linecolor": "white",
            "showbackground": true,
            "ticks": "",
            "zerolinecolor": "white"
           },
           "zaxis": {
            "backgroundcolor": "#E5ECF6",
            "gridcolor": "white",
            "gridwidth": 2,
            "linecolor": "white",
            "showbackground": true,
            "ticks": "",
            "zerolinecolor": "white"
           }
          },
          "shapedefaults": {
           "line": {
            "color": "#2a3f5f"
           }
          },
          "ternary": {
           "aaxis": {
            "gridcolor": "white",
            "linecolor": "white",
            "ticks": ""
           },
           "baxis": {
            "gridcolor": "white",
            "linecolor": "white",
            "ticks": ""
           },
           "bgcolor": "#E5ECF6",
           "caxis": {
            "gridcolor": "white",
            "linecolor": "white",
            "ticks": ""
           }
          },
          "title": {
           "x": 0.05
          },
          "xaxis": {
           "automargin": true,
           "gridcolor": "white",
           "linecolor": "white",
           "ticks": "",
           "title": {
            "standoff": 15
           },
           "zerolinecolor": "white",
           "zerolinewidth": 2
          },
          "yaxis": {
           "automargin": true,
           "gridcolor": "white",
           "linecolor": "white",
           "ticks": "",
           "title": {
            "standoff": 15
           },
           "zerolinecolor": "white",
           "zerolinewidth": 2
          }
         }
        },
        "title": {
         "text": "Residual plot of Region_Latin America and Caribbean"
        },
        "xaxis": {
         "anchor": "y",
         "domain": [
          0,
          1
         ],
         "title": {
          "text": "Region_Latin America and Caribbean"
         }
        },
        "yaxis": {
         "anchor": "x",
         "domain": [
          0,
          1
         ],
         "title": {
          "text": "Residuals"
         }
        }
       }
      }
     },
     "metadata": {},
     "output_type": "display_data"
    },
    {
     "data": {
      "application/vnd.plotly.v1+json": {
       "config": {
        "plotlyServerURL": "https://plot.ly"
       },
       "data": [
        {
         "hovertemplate": "Region_Middle East and North Africa=%{x}<br>Residuals=%{y}<extra></extra>",
         "legendgroup": "",
         "marker": {
          "color": "#636efa",
          "symbol": "circle"
         },
         "mode": "markers",
         "name": "",
         "orientation": "v",
         "showlegend": false,
         "type": "scatter",
         "x": [
          0,
          0,
          0,
          0,
          0,
          0,
          0,
          0,
          0,
          0,
          0,
          0,
          0,
          0,
          0,
          0,
          0,
          0,
          0,
          0,
          0,
          0,
          0,
          0,
          0,
          0,
          0,
          0,
          0,
          0,
          0,
          0,
          0,
          0,
          0,
          0,
          0,
          0,
          0,
          0,
          0,
          0,
          0,
          0,
          0,
          0,
          0,
          0,
          0,
          0,
          0,
          0,
          0,
          0,
          0,
          0,
          0,
          0,
          0,
          0,
          0,
          0,
          0,
          0,
          0,
          0,
          0,
          0,
          0,
          0,
          0,
          0,
          0,
          0,
          0,
          0,
          0,
          0,
          0,
          0,
          0,
          0,
          0,
          0,
          0,
          0,
          0,
          0,
          0,
          0,
          0,
          0,
          0,
          0,
          0,
          0,
          0,
          0,
          0,
          0,
          0,
          0,
          0,
          0,
          0,
          0,
          0,
          0,
          0,
          0,
          0,
          0,
          0,
          0,
          0,
          0,
          0,
          0,
          0,
          0
         ],
         "xaxis": "x",
         "y": [
          -0.033384157129372816,
          -0.0013317154015389243,
          0.030238383408273617,
          0.0680302754189977,
          -0.034956312547245016,
          0.04218787813048308,
          -0.007832951761780282,
          0.03488022646940281,
          -0.02059957018924813,
          0.037180649876763616,
          0.0471042690913796,
          0.016114605696050777,
          -0.019407437886018397,
          -0.026822910709218023,
          -0.00875720678949582,
          -0.020900003380692422,
          -0.001954953598326925,
          -0.016201223491338235,
          0.023588401357635513,
          0.033527882834280764,
          -0.04981174654941911,
          0.011143912535614586,
          0.009976293936422131,
          -0.017331389245818896,
          -0.018441787048159575,
          -0.006989289544756416,
          -0.004376934875604921,
          -0.02393387503886235,
          0.02018194994189415,
          0.02348853896617159,
          -0.031982829960250314,
          -0.019390442775290895,
          0.02487282447977135,
          0.03624499367137779,
          0.06511049212756881,
          -0.0070521094614157676,
          0.01159173495009741,
          -0.027561658540162848,
          0.04369999150028503,
          0.010506660357418207,
          0.017343156786355285,
          0.016305338417195003,
          -0.0007269173904836945,
          0.037779698397149286,
          0.005359386947798361,
          0.013552551474676322,
          -0.010023688606845438,
          -0.0070870574803386654,
          -0.01386859340986818,
          0.004141761810504518,
          0.00751007406216625,
          0.02383882538608295,
          -0.01673394281285423,
          0.009695512994953193,
          0.02521423999252498,
          -0.027018173304551363,
          0.0364362671059828,
          -0.015078227620501317,
          0.03269674164943842,
          0.013269280109307446,
          -0.004652650286968207,
          -0.006429688893980601,
          -0.007164701831888887,
          -0.045472070674267395,
          0.010923056434839151,
          0.020951118077449538,
          0.08060633343465601,
          0.010702340933716636,
          0.0006849755286659209,
          0.022235550576475804,
          -0.028107849027040666,
          0.016482631079420385,
          0.07672367247152218,
          0.04097634756210056,
          -0.035850413857013874,
          0.029152881322354995,
          -0.018289824079025907,
          -0.018759741145300934,
          0.0442712055127924,
          -0.003676901688836942,
          -0.009831037585273927,
          -0.007067404305365954,
          0.0022932079702606134,
          0.04002958053615768,
          0.006692848559830988,
          -0.028066879103847697,
          -0.0035997089582305852,
          -0.0016017449644294968,
          -0.013857824616633763,
          0.020766722052285358,
          0.00498011838858925,
          0.030669642768724525,
          -0.01415587747221625,
          0.003177749347551384,
          0.0009187119612680816,
          0.06345349919037341,
          0.025805031695359804,
          -0.0001701776111775466,
          -0.0064882494830753035,
          -0.01764151893927407,
          0.04630715695340981,
          0.008334361901278953,
          0.039336113263176486,
          0.03197874530765982,
          -0.02213926518837911,
          -0.02801304273786351,
          -0.008117526404054443,
          -0.0027719151682934484,
          0.004965950431016164,
          -0.024244149944225635,
          0.00852786483959661,
          -0.027216954592722054,
          -0.06330064975479521,
          -0.011402910821716905,
          -0.009680714988973549,
          0.007501806024007074,
          0.04190979475049994,
          -0.015487265070270373,
          -0.0006355242720026411,
          -0.008727666677694368
         ],
         "yaxis": "y"
        }
       ],
       "layout": {
        "legend": {
         "tracegroupgap": 0
        },
        "template": {
         "data": {
          "bar": [
           {
            "error_x": {
             "color": "#2a3f5f"
            },
            "error_y": {
             "color": "#2a3f5f"
            },
            "marker": {
             "line": {
              "color": "#E5ECF6",
              "width": 0.5
             },
             "pattern": {
              "fillmode": "overlay",
              "size": 10,
              "solidity": 0.2
             }
            },
            "type": "bar"
           }
          ],
          "barpolar": [
           {
            "marker": {
             "line": {
              "color": "#E5ECF6",
              "width": 0.5
             },
             "pattern": {
              "fillmode": "overlay",
              "size": 10,
              "solidity": 0.2
             }
            },
            "type": "barpolar"
           }
          ],
          "carpet": [
           {
            "aaxis": {
             "endlinecolor": "#2a3f5f",
             "gridcolor": "white",
             "linecolor": "white",
             "minorgridcolor": "white",
             "startlinecolor": "#2a3f5f"
            },
            "baxis": {
             "endlinecolor": "#2a3f5f",
             "gridcolor": "white",
             "linecolor": "white",
             "minorgridcolor": "white",
             "startlinecolor": "#2a3f5f"
            },
            "type": "carpet"
           }
          ],
          "choropleth": [
           {
            "colorbar": {
             "outlinewidth": 0,
             "ticks": ""
            },
            "type": "choropleth"
           }
          ],
          "contour": [
           {
            "colorbar": {
             "outlinewidth": 0,
             "ticks": ""
            },
            "colorscale": [
             [
              0,
              "#0d0887"
             ],
             [
              0.1111111111111111,
              "#46039f"
             ],
             [
              0.2222222222222222,
              "#7201a8"
             ],
             [
              0.3333333333333333,
              "#9c179e"
             ],
             [
              0.4444444444444444,
              "#bd3786"
             ],
             [
              0.5555555555555556,
              "#d8576b"
             ],
             [
              0.6666666666666666,
              "#ed7953"
             ],
             [
              0.7777777777777778,
              "#fb9f3a"
             ],
             [
              0.8888888888888888,
              "#fdca26"
             ],
             [
              1,
              "#f0f921"
             ]
            ],
            "type": "contour"
           }
          ],
          "contourcarpet": [
           {
            "colorbar": {
             "outlinewidth": 0,
             "ticks": ""
            },
            "type": "contourcarpet"
           }
          ],
          "heatmap": [
           {
            "colorbar": {
             "outlinewidth": 0,
             "ticks": ""
            },
            "colorscale": [
             [
              0,
              "#0d0887"
             ],
             [
              0.1111111111111111,
              "#46039f"
             ],
             [
              0.2222222222222222,
              "#7201a8"
             ],
             [
              0.3333333333333333,
              "#9c179e"
             ],
             [
              0.4444444444444444,
              "#bd3786"
             ],
             [
              0.5555555555555556,
              "#d8576b"
             ],
             [
              0.6666666666666666,
              "#ed7953"
             ],
             [
              0.7777777777777778,
              "#fb9f3a"
             ],
             [
              0.8888888888888888,
              "#fdca26"
             ],
             [
              1,
              "#f0f921"
             ]
            ],
            "type": "heatmap"
           }
          ],
          "heatmapgl": [
           {
            "colorbar": {
             "outlinewidth": 0,
             "ticks": ""
            },
            "colorscale": [
             [
              0,
              "#0d0887"
             ],
             [
              0.1111111111111111,
              "#46039f"
             ],
             [
              0.2222222222222222,
              "#7201a8"
             ],
             [
              0.3333333333333333,
              "#9c179e"
             ],
             [
              0.4444444444444444,
              "#bd3786"
             ],
             [
              0.5555555555555556,
              "#d8576b"
             ],
             [
              0.6666666666666666,
              "#ed7953"
             ],
             [
              0.7777777777777778,
              "#fb9f3a"
             ],
             [
              0.8888888888888888,
              "#fdca26"
             ],
             [
              1,
              "#f0f921"
             ]
            ],
            "type": "heatmapgl"
           }
          ],
          "histogram": [
           {
            "marker": {
             "pattern": {
              "fillmode": "overlay",
              "size": 10,
              "solidity": 0.2
             }
            },
            "type": "histogram"
           }
          ],
          "histogram2d": [
           {
            "colorbar": {
             "outlinewidth": 0,
             "ticks": ""
            },
            "colorscale": [
             [
              0,
              "#0d0887"
             ],
             [
              0.1111111111111111,
              "#46039f"
             ],
             [
              0.2222222222222222,
              "#7201a8"
             ],
             [
              0.3333333333333333,
              "#9c179e"
             ],
             [
              0.4444444444444444,
              "#bd3786"
             ],
             [
              0.5555555555555556,
              "#d8576b"
             ],
             [
              0.6666666666666666,
              "#ed7953"
             ],
             [
              0.7777777777777778,
              "#fb9f3a"
             ],
             [
              0.8888888888888888,
              "#fdca26"
             ],
             [
              1,
              "#f0f921"
             ]
            ],
            "type": "histogram2d"
           }
          ],
          "histogram2dcontour": [
           {
            "colorbar": {
             "outlinewidth": 0,
             "ticks": ""
            },
            "colorscale": [
             [
              0,
              "#0d0887"
             ],
             [
              0.1111111111111111,
              "#46039f"
             ],
             [
              0.2222222222222222,
              "#7201a8"
             ],
             [
              0.3333333333333333,
              "#9c179e"
             ],
             [
              0.4444444444444444,
              "#bd3786"
             ],
             [
              0.5555555555555556,
              "#d8576b"
             ],
             [
              0.6666666666666666,
              "#ed7953"
             ],
             [
              0.7777777777777778,
              "#fb9f3a"
             ],
             [
              0.8888888888888888,
              "#fdca26"
             ],
             [
              1,
              "#f0f921"
             ]
            ],
            "type": "histogram2dcontour"
           }
          ],
          "mesh3d": [
           {
            "colorbar": {
             "outlinewidth": 0,
             "ticks": ""
            },
            "type": "mesh3d"
           }
          ],
          "parcoords": [
           {
            "line": {
             "colorbar": {
              "outlinewidth": 0,
              "ticks": ""
             }
            },
            "type": "parcoords"
           }
          ],
          "pie": [
           {
            "automargin": true,
            "type": "pie"
           }
          ],
          "scatter": [
           {
            "fillpattern": {
             "fillmode": "overlay",
             "size": 10,
             "solidity": 0.2
            },
            "type": "scatter"
           }
          ],
          "scatter3d": [
           {
            "line": {
             "colorbar": {
              "outlinewidth": 0,
              "ticks": ""
             }
            },
            "marker": {
             "colorbar": {
              "outlinewidth": 0,
              "ticks": ""
             }
            },
            "type": "scatter3d"
           }
          ],
          "scattercarpet": [
           {
            "marker": {
             "colorbar": {
              "outlinewidth": 0,
              "ticks": ""
             }
            },
            "type": "scattercarpet"
           }
          ],
          "scattergeo": [
           {
            "marker": {
             "colorbar": {
              "outlinewidth": 0,
              "ticks": ""
             }
            },
            "type": "scattergeo"
           }
          ],
          "scattergl": [
           {
            "marker": {
             "colorbar": {
              "outlinewidth": 0,
              "ticks": ""
             }
            },
            "type": "scattergl"
           }
          ],
          "scattermapbox": [
           {
            "marker": {
             "colorbar": {
              "outlinewidth": 0,
              "ticks": ""
             }
            },
            "type": "scattermapbox"
           }
          ],
          "scatterpolar": [
           {
            "marker": {
             "colorbar": {
              "outlinewidth": 0,
              "ticks": ""
             }
            },
            "type": "scatterpolar"
           }
          ],
          "scatterpolargl": [
           {
            "marker": {
             "colorbar": {
              "outlinewidth": 0,
              "ticks": ""
             }
            },
            "type": "scatterpolargl"
           }
          ],
          "scatterternary": [
           {
            "marker": {
             "colorbar": {
              "outlinewidth": 0,
              "ticks": ""
             }
            },
            "type": "scatterternary"
           }
          ],
          "surface": [
           {
            "colorbar": {
             "outlinewidth": 0,
             "ticks": ""
            },
            "colorscale": [
             [
              0,
              "#0d0887"
             ],
             [
              0.1111111111111111,
              "#46039f"
             ],
             [
              0.2222222222222222,
              "#7201a8"
             ],
             [
              0.3333333333333333,
              "#9c179e"
             ],
             [
              0.4444444444444444,
              "#bd3786"
             ],
             [
              0.5555555555555556,
              "#d8576b"
             ],
             [
              0.6666666666666666,
              "#ed7953"
             ],
             [
              0.7777777777777778,
              "#fb9f3a"
             ],
             [
              0.8888888888888888,
              "#fdca26"
             ],
             [
              1,
              "#f0f921"
             ]
            ],
            "type": "surface"
           }
          ],
          "table": [
           {
            "cells": {
             "fill": {
              "color": "#EBF0F8"
             },
             "line": {
              "color": "white"
             }
            },
            "header": {
             "fill": {
              "color": "#C8D4E3"
             },
             "line": {
              "color": "white"
             }
            },
            "type": "table"
           }
          ]
         },
         "layout": {
          "annotationdefaults": {
           "arrowcolor": "#2a3f5f",
           "arrowhead": 0,
           "arrowwidth": 1
          },
          "autotypenumbers": "strict",
          "coloraxis": {
           "colorbar": {
            "outlinewidth": 0,
            "ticks": ""
           }
          },
          "colorscale": {
           "diverging": [
            [
             0,
             "#8e0152"
            ],
            [
             0.1,
             "#c51b7d"
            ],
            [
             0.2,
             "#de77ae"
            ],
            [
             0.3,
             "#f1b6da"
            ],
            [
             0.4,
             "#fde0ef"
            ],
            [
             0.5,
             "#f7f7f7"
            ],
            [
             0.6,
             "#e6f5d0"
            ],
            [
             0.7,
             "#b8e186"
            ],
            [
             0.8,
             "#7fbc41"
            ],
            [
             0.9,
             "#4d9221"
            ],
            [
             1,
             "#276419"
            ]
           ],
           "sequential": [
            [
             0,
             "#0d0887"
            ],
            [
             0.1111111111111111,
             "#46039f"
            ],
            [
             0.2222222222222222,
             "#7201a8"
            ],
            [
             0.3333333333333333,
             "#9c179e"
            ],
            [
             0.4444444444444444,
             "#bd3786"
            ],
            [
             0.5555555555555556,
             "#d8576b"
            ],
            [
             0.6666666666666666,
             "#ed7953"
            ],
            [
             0.7777777777777778,
             "#fb9f3a"
            ],
            [
             0.8888888888888888,
             "#fdca26"
            ],
            [
             1,
             "#f0f921"
            ]
           ],
           "sequentialminus": [
            [
             0,
             "#0d0887"
            ],
            [
             0.1111111111111111,
             "#46039f"
            ],
            [
             0.2222222222222222,
             "#7201a8"
            ],
            [
             0.3333333333333333,
             "#9c179e"
            ],
            [
             0.4444444444444444,
             "#bd3786"
            ],
            [
             0.5555555555555556,
             "#d8576b"
            ],
            [
             0.6666666666666666,
             "#ed7953"
            ],
            [
             0.7777777777777778,
             "#fb9f3a"
            ],
            [
             0.8888888888888888,
             "#fdca26"
            ],
            [
             1,
             "#f0f921"
            ]
           ]
          },
          "colorway": [
           "#636efa",
           "#EF553B",
           "#00cc96",
           "#ab63fa",
           "#FFA15A",
           "#19d3f3",
           "#FF6692",
           "#B6E880",
           "#FF97FF",
           "#FECB52"
          ],
          "font": {
           "color": "#2a3f5f"
          },
          "geo": {
           "bgcolor": "white",
           "lakecolor": "white",
           "landcolor": "#E5ECF6",
           "showlakes": true,
           "showland": true,
           "subunitcolor": "white"
          },
          "hoverlabel": {
           "align": "left"
          },
          "hovermode": "closest",
          "mapbox": {
           "style": "light"
          },
          "paper_bgcolor": "white",
          "plot_bgcolor": "#E5ECF6",
          "polar": {
           "angularaxis": {
            "gridcolor": "white",
            "linecolor": "white",
            "ticks": ""
           },
           "bgcolor": "#E5ECF6",
           "radialaxis": {
            "gridcolor": "white",
            "linecolor": "white",
            "ticks": ""
           }
          },
          "scene": {
           "xaxis": {
            "backgroundcolor": "#E5ECF6",
            "gridcolor": "white",
            "gridwidth": 2,
            "linecolor": "white",
            "showbackground": true,
            "ticks": "",
            "zerolinecolor": "white"
           },
           "yaxis": {
            "backgroundcolor": "#E5ECF6",
            "gridcolor": "white",
            "gridwidth": 2,
            "linecolor": "white",
            "showbackground": true,
            "ticks": "",
            "zerolinecolor": "white"
           },
           "zaxis": {
            "backgroundcolor": "#E5ECF6",
            "gridcolor": "white",
            "gridwidth": 2,
            "linecolor": "white",
            "showbackground": true,
            "ticks": "",
            "zerolinecolor": "white"
           }
          },
          "shapedefaults": {
           "line": {
            "color": "#2a3f5f"
           }
          },
          "ternary": {
           "aaxis": {
            "gridcolor": "white",
            "linecolor": "white",
            "ticks": ""
           },
           "baxis": {
            "gridcolor": "white",
            "linecolor": "white",
            "ticks": ""
           },
           "bgcolor": "#E5ECF6",
           "caxis": {
            "gridcolor": "white",
            "linecolor": "white",
            "ticks": ""
           }
          },
          "title": {
           "x": 0.05
          },
          "xaxis": {
           "automargin": true,
           "gridcolor": "white",
           "linecolor": "white",
           "ticks": "",
           "title": {
            "standoff": 15
           },
           "zerolinecolor": "white",
           "zerolinewidth": 2
          },
          "yaxis": {
           "automargin": true,
           "gridcolor": "white",
           "linecolor": "white",
           "ticks": "",
           "title": {
            "standoff": 15
           },
           "zerolinecolor": "white",
           "zerolinewidth": 2
          }
         }
        },
        "title": {
         "text": "Residual plot of Region_Middle East and North Africa"
        },
        "xaxis": {
         "anchor": "y",
         "domain": [
          0,
          1
         ],
         "title": {
          "text": "Region_Middle East and North Africa"
         }
        },
        "yaxis": {
         "anchor": "x",
         "domain": [
          0,
          1
         ],
         "title": {
          "text": "Residuals"
         }
        }
       }
      }
     },
     "metadata": {},
     "output_type": "display_data"
    }
   ],
   "source": [
    "for i in range(len(X_df.columns)):\n",
    "    colname = X_df.columns[i]\n",
    "    fig = px.scatter(x = X_test[:, i], y = lin_cval_results['resids'], title=f'Residual plot of {colname}', labels={'x': colname, 'y': 'Residuals'})\n",
    "    fig.show()"
   ]
  }
 ],
 "metadata": {
  "kernelspec": {
   "display_name": "ds",
   "language": "python",
   "name": "python3"
  },
  "language_info": {
   "codemirror_mode": {
    "name": "ipython",
    "version": 3
   },
   "file_extension": ".py",
   "mimetype": "text/x-python",
   "name": "python",
   "nbconvert_exporter": "python",
   "pygments_lexer": "ipython3",
   "version": "3.11.11"
  }
 },
 "nbformat": 4,
 "nbformat_minor": 5
}
