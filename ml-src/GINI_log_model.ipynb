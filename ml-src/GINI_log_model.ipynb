{
 "cells": [
  {
   "cell_type": "code",
   "execution_count": 1,
   "id": "a76a111d",
   "metadata": {},
   "outputs": [],
   "source": [
    "import numpy as np\n",
    "import math\n",
    "import pandas as pd\n",
    "from logregress import log_regress\n",
    "from logregress import lin_regress\n",
    "from sklearn.model_selection import train_test_split\n",
    "from sklearn.metrics import r2_score\n",
    "from sklearn.metrics import mean_squared_error"
   ]
  },
  {
   "cell_type": "code",
   "execution_count": 2,
   "id": "69d3d2b9",
   "metadata": {},
   "outputs": [
    {
     "data": {
      "text/html": [
       "<div>\n",
       "<style scoped>\n",
       "    .dataframe tbody tr th:only-of-type {\n",
       "        vertical-align: middle;\n",
       "    }\n",
       "\n",
       "    .dataframe tbody tr th {\n",
       "        vertical-align: top;\n",
       "    }\n",
       "\n",
       "    .dataframe thead th {\n",
       "        text-align: right;\n",
       "    }\n",
       "</style>\n",
       "<table border=\"1\" class=\"dataframe\">\n",
       "  <thead>\n",
       "    <tr style=\"text-align: right;\">\n",
       "      <th></th>\n",
       "      <th>TIME_PERIOD</th>\n",
       "      <th>Reference area</th>\n",
       "      <th>REF_AREA</th>\n",
       "      <th>Trade union density</th>\n",
       "      <th>Combined corporate income tax rate</th>\n",
       "      <th>Education spending</th>\n",
       "      <th>Health spending</th>\n",
       "      <th>Housing spending</th>\n",
       "      <th>Community development spending</th>\n",
       "      <th>IRLT</th>\n",
       "      <th>UNEMP</th>\n",
       "      <th>Population, total</th>\n",
       "      <th>GDP per capita (current US$)</th>\n",
       "      <th>Inflation, consumer prices (annual %)</th>\n",
       "      <th>Gini index</th>\n",
       "      <th>Region</th>\n",
       "    </tr>\n",
       "  </thead>\n",
       "  <tbody>\n",
       "    <tr>\n",
       "      <th>0</th>\n",
       "      <td>2001</td>\n",
       "      <td>Sweden</td>\n",
       "      <td>SWE</td>\n",
       "      <td>78.699997</td>\n",
       "      <td>28.0</td>\n",
       "      <td>0.073432</td>\n",
       "      <td>0.063153</td>\n",
       "      <td>0.005750</td>\n",
       "      <td>0.002563</td>\n",
       "      <td>5.107500</td>\n",
       "      <td>5.825000</td>\n",
       "      <td>8895960.0</td>\n",
       "      <td>27259.480674</td>\n",
       "      <td>2.405958</td>\n",
       "      <td>26.5</td>\n",
       "      <td>Europe and Central Asia</td>\n",
       "    </tr>\n",
       "    <tr>\n",
       "      <th>1</th>\n",
       "      <td>2002</td>\n",
       "      <td>Sweden</td>\n",
       "      <td>SWE</td>\n",
       "      <td>78.000000</td>\n",
       "      <td>28.0</td>\n",
       "      <td>0.074421</td>\n",
       "      <td>0.066268</td>\n",
       "      <td>0.005462</td>\n",
       "      <td>0.002885</td>\n",
       "      <td>5.303333</td>\n",
       "      <td>5.950000</td>\n",
       "      <td>8924958.0</td>\n",
       "      <td>29957.938765</td>\n",
       "      <td>2.158482</td>\n",
       "      <td>26.2</td>\n",
       "      <td>Europe and Central Asia</td>\n",
       "    </tr>\n",
       "    <tr>\n",
       "      <th>2</th>\n",
       "      <td>2003</td>\n",
       "      <td>Sweden</td>\n",
       "      <td>SWE</td>\n",
       "      <td>77.199997</td>\n",
       "      <td>28.0</td>\n",
       "      <td>0.073959</td>\n",
       "      <td>0.068195</td>\n",
       "      <td>0.005385</td>\n",
       "      <td>0.002733</td>\n",
       "      <td>4.638333</td>\n",
       "      <td>6.566667</td>\n",
       "      <td>8958229.0</td>\n",
       "      <td>37292.421434</td>\n",
       "      <td>1.925655</td>\n",
       "      <td>25.3</td>\n",
       "      <td>Europe and Central Asia</td>\n",
       "    </tr>\n",
       "    <tr>\n",
       "      <th>3</th>\n",
       "      <td>2004</td>\n",
       "      <td>Sweden</td>\n",
       "      <td>SWE</td>\n",
       "      <td>76.400002</td>\n",
       "      <td>28.0</td>\n",
       "      <td>0.072734</td>\n",
       "      <td>0.066088</td>\n",
       "      <td>0.005046</td>\n",
       "      <td>0.002877</td>\n",
       "      <td>4.425000</td>\n",
       "      <td>7.375000</td>\n",
       "      <td>8993531.0</td>\n",
       "      <td>42758.201550</td>\n",
       "      <td>0.373660</td>\n",
       "      <td>26.1</td>\n",
       "      <td>Europe and Central Asia</td>\n",
       "    </tr>\n",
       "    <tr>\n",
       "      <th>4</th>\n",
       "      <td>2005</td>\n",
       "      <td>Sweden</td>\n",
       "      <td>SWE</td>\n",
       "      <td>75.699997</td>\n",
       "      <td>28.0</td>\n",
       "      <td>0.072877</td>\n",
       "      <td>0.066296</td>\n",
       "      <td>0.003736</td>\n",
       "      <td>0.002917</td>\n",
       "      <td>3.382500</td>\n",
       "      <td>7.783333</td>\n",
       "      <td>9029572.0</td>\n",
       "      <td>43378.615212</td>\n",
       "      <td>0.453171</td>\n",
       "      <td>26.8</td>\n",
       "      <td>Europe and Central Asia</td>\n",
       "    </tr>\n",
       "  </tbody>\n",
       "</table>\n",
       "</div>"
      ],
      "text/plain": [
       "   TIME_PERIOD Reference area REF_AREA  Trade union density  \\\n",
       "0         2001         Sweden      SWE            78.699997   \n",
       "1         2002         Sweden      SWE            78.000000   \n",
       "2         2003         Sweden      SWE            77.199997   \n",
       "3         2004         Sweden      SWE            76.400002   \n",
       "4         2005         Sweden      SWE            75.699997   \n",
       "\n",
       "   Combined corporate income tax rate  Education spending  Health spending  \\\n",
       "0                                28.0            0.073432         0.063153   \n",
       "1                                28.0            0.074421         0.066268   \n",
       "2                                28.0            0.073959         0.068195   \n",
       "3                                28.0            0.072734         0.066088   \n",
       "4                                28.0            0.072877         0.066296   \n",
       "\n",
       "   Housing spending  Community development spending      IRLT     UNEMP  \\\n",
       "0          0.005750                        0.002563  5.107500  5.825000   \n",
       "1          0.005462                        0.002885  5.303333  5.950000   \n",
       "2          0.005385                        0.002733  4.638333  6.566667   \n",
       "3          0.005046                        0.002877  4.425000  7.375000   \n",
       "4          0.003736                        0.002917  3.382500  7.783333   \n",
       "\n",
       "   Population, total  GDP per capita (current US$)  \\\n",
       "0          8895960.0                  27259.480674   \n",
       "1          8924958.0                  29957.938765   \n",
       "2          8958229.0                  37292.421434   \n",
       "3          8993531.0                  42758.201550   \n",
       "4          9029572.0                  43378.615212   \n",
       "\n",
       "   Inflation, consumer prices (annual %)  Gini index                   Region  \n",
       "0                               2.405958        26.5  Europe and Central Asia  \n",
       "1                               2.158482        26.2  Europe and Central Asia  \n",
       "2                               1.925655        25.3  Europe and Central Asia  \n",
       "3                               0.373660        26.1  Europe and Central Asia  \n",
       "4                               0.453171        26.8  Europe and Central Asia  "
      ]
     },
     "execution_count": 2,
     "metadata": {},
     "output_type": "execute_result"
    }
   ],
   "source": [
    "megaframe = pd.read_csv('../datasets/MEGAFRAME_CLEANEDV2.csv')\n",
    "megaframe.head()"
   ]
  },
  {
   "cell_type": "code",
   "execution_count": 3,
   "id": "ec607c55",
   "metadata": {},
   "outputs": [
    {
     "data": {
      "text/html": [
       "<div>\n",
       "<style scoped>\n",
       "    .dataframe tbody tr th:only-of-type {\n",
       "        vertical-align: middle;\n",
       "    }\n",
       "\n",
       "    .dataframe tbody tr th {\n",
       "        vertical-align: top;\n",
       "    }\n",
       "\n",
       "    .dataframe thead th {\n",
       "        text-align: right;\n",
       "    }\n",
       "</style>\n",
       "<table border=\"1\" class=\"dataframe\">\n",
       "  <thead>\n",
       "    <tr style=\"text-align: right;\">\n",
       "      <th></th>\n",
       "      <th>TIME_PERIOD</th>\n",
       "      <th>Reference area</th>\n",
       "      <th>REF_AREA</th>\n",
       "      <th>Trade union density</th>\n",
       "      <th>Combined corporate income tax rate</th>\n",
       "      <th>Education spending</th>\n",
       "      <th>Health spending</th>\n",
       "      <th>Housing spending</th>\n",
       "      <th>Community development spending</th>\n",
       "      <th>IRLT</th>\n",
       "      <th>UNEMP</th>\n",
       "      <th>Population, total</th>\n",
       "      <th>GDP per capita (current US$)</th>\n",
       "      <th>Inflation, consumer prices (annual %)</th>\n",
       "      <th>Gini index</th>\n",
       "      <th>Region_East Asia and Pacific</th>\n",
       "      <th>Region_Europe and Central Asia</th>\n",
       "      <th>Region_Latin America and Caribbean</th>\n",
       "      <th>Region_Middle East and North Africa</th>\n",
       "    </tr>\n",
       "  </thead>\n",
       "  <tbody>\n",
       "    <tr>\n",
       "      <th>0</th>\n",
       "      <td>2001</td>\n",
       "      <td>Sweden</td>\n",
       "      <td>SWE</td>\n",
       "      <td>78.699997</td>\n",
       "      <td>28.0</td>\n",
       "      <td>0.073432</td>\n",
       "      <td>0.063153</td>\n",
       "      <td>0.005750</td>\n",
       "      <td>0.002563</td>\n",
       "      <td>5.107500</td>\n",
       "      <td>5.825000</td>\n",
       "      <td>8895960.0</td>\n",
       "      <td>27259.480674</td>\n",
       "      <td>2.405958</td>\n",
       "      <td>26.5</td>\n",
       "      <td>0</td>\n",
       "      <td>1</td>\n",
       "      <td>0</td>\n",
       "      <td>0</td>\n",
       "    </tr>\n",
       "    <tr>\n",
       "      <th>1</th>\n",
       "      <td>2002</td>\n",
       "      <td>Sweden</td>\n",
       "      <td>SWE</td>\n",
       "      <td>78.000000</td>\n",
       "      <td>28.0</td>\n",
       "      <td>0.074421</td>\n",
       "      <td>0.066268</td>\n",
       "      <td>0.005462</td>\n",
       "      <td>0.002885</td>\n",
       "      <td>5.303333</td>\n",
       "      <td>5.950000</td>\n",
       "      <td>8924958.0</td>\n",
       "      <td>29957.938765</td>\n",
       "      <td>2.158482</td>\n",
       "      <td>26.2</td>\n",
       "      <td>0</td>\n",
       "      <td>1</td>\n",
       "      <td>0</td>\n",
       "      <td>0</td>\n",
       "    </tr>\n",
       "    <tr>\n",
       "      <th>2</th>\n",
       "      <td>2003</td>\n",
       "      <td>Sweden</td>\n",
       "      <td>SWE</td>\n",
       "      <td>77.199997</td>\n",
       "      <td>28.0</td>\n",
       "      <td>0.073959</td>\n",
       "      <td>0.068195</td>\n",
       "      <td>0.005385</td>\n",
       "      <td>0.002733</td>\n",
       "      <td>4.638333</td>\n",
       "      <td>6.566667</td>\n",
       "      <td>8958229.0</td>\n",
       "      <td>37292.421434</td>\n",
       "      <td>1.925655</td>\n",
       "      <td>25.3</td>\n",
       "      <td>0</td>\n",
       "      <td>1</td>\n",
       "      <td>0</td>\n",
       "      <td>0</td>\n",
       "    </tr>\n",
       "    <tr>\n",
       "      <th>3</th>\n",
       "      <td>2004</td>\n",
       "      <td>Sweden</td>\n",
       "      <td>SWE</td>\n",
       "      <td>76.400002</td>\n",
       "      <td>28.0</td>\n",
       "      <td>0.072734</td>\n",
       "      <td>0.066088</td>\n",
       "      <td>0.005046</td>\n",
       "      <td>0.002877</td>\n",
       "      <td>4.425000</td>\n",
       "      <td>7.375000</td>\n",
       "      <td>8993531.0</td>\n",
       "      <td>42758.201550</td>\n",
       "      <td>0.373660</td>\n",
       "      <td>26.1</td>\n",
       "      <td>0</td>\n",
       "      <td>1</td>\n",
       "      <td>0</td>\n",
       "      <td>0</td>\n",
       "    </tr>\n",
       "    <tr>\n",
       "      <th>4</th>\n",
       "      <td>2005</td>\n",
       "      <td>Sweden</td>\n",
       "      <td>SWE</td>\n",
       "      <td>75.699997</td>\n",
       "      <td>28.0</td>\n",
       "      <td>0.072877</td>\n",
       "      <td>0.066296</td>\n",
       "      <td>0.003736</td>\n",
       "      <td>0.002917</td>\n",
       "      <td>3.382500</td>\n",
       "      <td>7.783333</td>\n",
       "      <td>9029572.0</td>\n",
       "      <td>43378.615212</td>\n",
       "      <td>0.453171</td>\n",
       "      <td>26.8</td>\n",
       "      <td>0</td>\n",
       "      <td>1</td>\n",
       "      <td>0</td>\n",
       "      <td>0</td>\n",
       "    </tr>\n",
       "    <tr>\n",
       "      <th>...</th>\n",
       "      <td>...</td>\n",
       "      <td>...</td>\n",
       "      <td>...</td>\n",
       "      <td>...</td>\n",
       "      <td>...</td>\n",
       "      <td>...</td>\n",
       "      <td>...</td>\n",
       "      <td>...</td>\n",
       "      <td>...</td>\n",
       "      <td>...</td>\n",
       "      <td>...</td>\n",
       "      <td>...</td>\n",
       "      <td>...</td>\n",
       "      <td>...</td>\n",
       "      <td>...</td>\n",
       "      <td>...</td>\n",
       "      <td>...</td>\n",
       "      <td>...</td>\n",
       "      <td>...</td>\n",
       "    </tr>\n",
       "    <tr>\n",
       "      <th>395</th>\n",
       "      <td>2015</td>\n",
       "      <td>Finland</td>\n",
       "      <td>FIN</td>\n",
       "      <td>67.500000</td>\n",
       "      <td>20.0</td>\n",
       "      <td>0.063628</td>\n",
       "      <td>0.072967</td>\n",
       "      <td>0.004367</td>\n",
       "      <td>0.002398</td>\n",
       "      <td>0.723333</td>\n",
       "      <td>9.458333</td>\n",
       "      <td>5479531.0</td>\n",
       "      <td>42560.345677</td>\n",
       "      <td>-0.207929</td>\n",
       "      <td>27.1</td>\n",
       "      <td>0</td>\n",
       "      <td>1</td>\n",
       "      <td>0</td>\n",
       "      <td>0</td>\n",
       "    </tr>\n",
       "    <tr>\n",
       "      <th>396</th>\n",
       "      <td>2016</td>\n",
       "      <td>Finland</td>\n",
       "      <td>FIN</td>\n",
       "      <td>65.699997</td>\n",
       "      <td>20.0</td>\n",
       "      <td>0.062434</td>\n",
       "      <td>0.072201</td>\n",
       "      <td>0.005007</td>\n",
       "      <td>0.002295</td>\n",
       "      <td>0.365000</td>\n",
       "      <td>8.916667</td>\n",
       "      <td>5495303.0</td>\n",
       "      <td>43451.256244</td>\n",
       "      <td>0.356685</td>\n",
       "      <td>27.1</td>\n",
       "      <td>0</td>\n",
       "      <td>1</td>\n",
       "      <td>0</td>\n",
       "      <td>0</td>\n",
       "    </tr>\n",
       "    <tr>\n",
       "      <th>397</th>\n",
       "      <td>2017</td>\n",
       "      <td>Finland</td>\n",
       "      <td>FIN</td>\n",
       "      <td>62.900002</td>\n",
       "      <td>20.0</td>\n",
       "      <td>0.058111</td>\n",
       "      <td>0.070630</td>\n",
       "      <td>0.005621</td>\n",
       "      <td>0.002109</td>\n",
       "      <td>0.546667</td>\n",
       "      <td>8.766667</td>\n",
       "      <td>5508214.0</td>\n",
       "      <td>46085.017474</td>\n",
       "      <td>0.754015</td>\n",
       "      <td>27.4</td>\n",
       "      <td>0</td>\n",
       "      <td>1</td>\n",
       "      <td>0</td>\n",
       "      <td>0</td>\n",
       "    </tr>\n",
       "    <tr>\n",
       "      <th>398</th>\n",
       "      <td>2018</td>\n",
       "      <td>Finland</td>\n",
       "      <td>FIN</td>\n",
       "      <td>60.000000</td>\n",
       "      <td>20.0</td>\n",
       "      <td>0.057562</td>\n",
       "      <td>0.071478</td>\n",
       "      <td>0.006421</td>\n",
       "      <td>0.002053</td>\n",
       "      <td>0.661667</td>\n",
       "      <td>7.433333</td>\n",
       "      <td>5515525.0</td>\n",
       "      <td>49654.249704</td>\n",
       "      <td>1.083821</td>\n",
       "      <td>27.3</td>\n",
       "      <td>0</td>\n",
       "      <td>1</td>\n",
       "      <td>0</td>\n",
       "      <td>0</td>\n",
       "    </tr>\n",
       "    <tr>\n",
       "      <th>399</th>\n",
       "      <td>2019</td>\n",
       "      <td>Finland</td>\n",
       "      <td>FIN</td>\n",
       "      <td>58.799999</td>\n",
       "      <td>20.0</td>\n",
       "      <td>0.058524</td>\n",
       "      <td>0.072091</td>\n",
       "      <td>0.006251</td>\n",
       "      <td>0.002008</td>\n",
       "      <td>0.070000</td>\n",
       "      <td>6.741667</td>\n",
       "      <td>5521606.0</td>\n",
       "      <td>48358.180777</td>\n",
       "      <td>1.024094</td>\n",
       "      <td>27.7</td>\n",
       "      <td>0</td>\n",
       "      <td>1</td>\n",
       "      <td>0</td>\n",
       "      <td>0</td>\n",
       "    </tr>\n",
       "  </tbody>\n",
       "</table>\n",
       "<p>400 rows × 19 columns</p>\n",
       "</div>"
      ],
      "text/plain": [
       "     TIME_PERIOD Reference area REF_AREA  Trade union density  \\\n",
       "0           2001         Sweden      SWE            78.699997   \n",
       "1           2002         Sweden      SWE            78.000000   \n",
       "2           2003         Sweden      SWE            77.199997   \n",
       "3           2004         Sweden      SWE            76.400002   \n",
       "4           2005         Sweden      SWE            75.699997   \n",
       "..           ...            ...      ...                  ...   \n",
       "395         2015        Finland      FIN            67.500000   \n",
       "396         2016        Finland      FIN            65.699997   \n",
       "397         2017        Finland      FIN            62.900002   \n",
       "398         2018        Finland      FIN            60.000000   \n",
       "399         2019        Finland      FIN            58.799999   \n",
       "\n",
       "     Combined corporate income tax rate  Education spending  Health spending  \\\n",
       "0                                  28.0            0.073432         0.063153   \n",
       "1                                  28.0            0.074421         0.066268   \n",
       "2                                  28.0            0.073959         0.068195   \n",
       "3                                  28.0            0.072734         0.066088   \n",
       "4                                  28.0            0.072877         0.066296   \n",
       "..                                  ...                 ...              ...   \n",
       "395                                20.0            0.063628         0.072967   \n",
       "396                                20.0            0.062434         0.072201   \n",
       "397                                20.0            0.058111         0.070630   \n",
       "398                                20.0            0.057562         0.071478   \n",
       "399                                20.0            0.058524         0.072091   \n",
       "\n",
       "     Housing spending  Community development spending      IRLT     UNEMP  \\\n",
       "0            0.005750                        0.002563  5.107500  5.825000   \n",
       "1            0.005462                        0.002885  5.303333  5.950000   \n",
       "2            0.005385                        0.002733  4.638333  6.566667   \n",
       "3            0.005046                        0.002877  4.425000  7.375000   \n",
       "4            0.003736                        0.002917  3.382500  7.783333   \n",
       "..                ...                             ...       ...       ...   \n",
       "395          0.004367                        0.002398  0.723333  9.458333   \n",
       "396          0.005007                        0.002295  0.365000  8.916667   \n",
       "397          0.005621                        0.002109  0.546667  8.766667   \n",
       "398          0.006421                        0.002053  0.661667  7.433333   \n",
       "399          0.006251                        0.002008  0.070000  6.741667   \n",
       "\n",
       "     Population, total  GDP per capita (current US$)  \\\n",
       "0            8895960.0                  27259.480674   \n",
       "1            8924958.0                  29957.938765   \n",
       "2            8958229.0                  37292.421434   \n",
       "3            8993531.0                  42758.201550   \n",
       "4            9029572.0                  43378.615212   \n",
       "..                 ...                           ...   \n",
       "395          5479531.0                  42560.345677   \n",
       "396          5495303.0                  43451.256244   \n",
       "397          5508214.0                  46085.017474   \n",
       "398          5515525.0                  49654.249704   \n",
       "399          5521606.0                  48358.180777   \n",
       "\n",
       "     Inflation, consumer prices (annual %)  Gini index  \\\n",
       "0                                 2.405958        26.5   \n",
       "1                                 2.158482        26.2   \n",
       "2                                 1.925655        25.3   \n",
       "3                                 0.373660        26.1   \n",
       "4                                 0.453171        26.8   \n",
       "..                                     ...         ...   \n",
       "395                              -0.207929        27.1   \n",
       "396                               0.356685        27.1   \n",
       "397                               0.754015        27.4   \n",
       "398                               1.083821        27.3   \n",
       "399                               1.024094        27.7   \n",
       "\n",
       "     Region_East Asia and Pacific  Region_Europe and Central Asia  \\\n",
       "0                               0                               1   \n",
       "1                               0                               1   \n",
       "2                               0                               1   \n",
       "3                               0                               1   \n",
       "4                               0                               1   \n",
       "..                            ...                             ...   \n",
       "395                             0                               1   \n",
       "396                             0                               1   \n",
       "397                             0                               1   \n",
       "398                             0                               1   \n",
       "399                             0                               1   \n",
       "\n",
       "     Region_Latin America and Caribbean  Region_Middle East and North Africa  \n",
       "0                                     0                                    0  \n",
       "1                                     0                                    0  \n",
       "2                                     0                                    0  \n",
       "3                                     0                                    0  \n",
       "4                                     0                                    0  \n",
       "..                                  ...                                  ...  \n",
       "395                                   0                                    0  \n",
       "396                                   0                                    0  \n",
       "397                                   0                                    0  \n",
       "398                                   0                                    0  \n",
       "399                                   0                                    0  \n",
       "\n",
       "[400 rows x 19 columns]"
      ]
     },
     "execution_count": 3,
     "metadata": {},
     "output_type": "execute_result"
    }
   ],
   "source": [
    "master_df = pd.get_dummies(megaframe, columns=['Region'], dtype=int)\n",
    "master_df"
   ]
  },
  {
   "cell_type": "code",
   "execution_count": 33,
   "id": "83841d76",
   "metadata": {},
   "outputs": [
    {
     "data": {
      "text/plain": [
       "array([1., 1., 1., 1., 1., 1., 1., 1., 1., 1., 1., 1., 1., 1., 1.])"
      ]
     },
     "execution_count": 33,
     "metadata": {},
     "output_type": "execute_result"
    }
   ],
   "source": [
    "population_log = False\n",
    "\n",
    "X_df = pd.get_dummies(megaframe, columns=['Region'], dtype=int)\n",
    "if population_log:\n",
    "    target_idx = X_df.columns.get_loc('Population, total')\n",
    "    log_pop = X_df['Population, total'].apply(lambda x: math.log(x,10))\n",
    "    X_df.insert(target_idx + 1, 'Log Population', log_pop)\n",
    "    X_df.drop(labels=['Population, total'], axis=1)\n",
    "X_df = X_df.drop(labels=['TIME_PERIOD', 'Reference area', 'REF_AREA', 'Gini index'], axis=1)\n",
    "\n",
    "\n",
    "X = X_df.to_numpy()\n",
    "\n",
    "# Assume X is your full NumPy array\n",
    "num_exclude = 4\n",
    "\n",
    "# Split the array\n",
    "X_main = X[:, :-num_exclude]   # Columns to standardize\n",
    "X_last = X[:, -num_exclude:]   # Columns to leave untouched\n",
    "\n",
    "# Standardize the first part\n",
    "mean = X_main.mean(axis=0)\n",
    "std = X_main.std(axis=0)\n",
    "std[std == 0] = 1  # Avoid division by zero\n",
    "X_main_standardized = (X_main - mean) / std\n",
    "\n",
    "# Concatenate back together\n",
    "X = np.hstack([X_main_standardized, X_last])\n",
    "\n",
    "y = master_df['Gini index'].apply(lambda x: x/100).to_numpy()\n",
    "X.shape\n",
    "\n",
    "w = np.ones(len(X[0]))\n",
    "w"
   ]
  },
  {
   "cell_type": "code",
   "execution_count": 76,
   "id": "cbfdea5b",
   "metadata": {},
   "outputs": [],
   "source": [
    "#logistic regression\n",
    "X_train, X_test, y_train, y_test = train_test_split(\n",
    "    X, y, test_size=0.3, random_state=3)\n",
    "\n",
    "cval_weights = log_regress(X,y,w,alpha=.005,max_iter=1000)\n",
    "predictions = []\n",
    "for x in X_test:\n",
    "    dot_prod = np.dot(x, cval_weights)\n",
    "    y_hat = 1 / (1 + np.exp(-dot_prod))\n",
    "    predictions.append(y_hat)\n",
    "\n",
    "column_names = X_df.columns\n",
    "log_cval_results = {\n",
    "    'ypreds': predictions,\n",
    "    'mse': mean_squared_error(y_test, predictions),\n",
    "    'r2': r2_score(y_test, predictions),\n",
    "    'resids': [y_test[i] - predictions[i] for i in range(len(y_test))],\n",
    "    'coefficients': {column_names[i]: cval_weights[i] for i in range(len(cval_weights))}\n",
    "}"
   ]
  },
  {
   "cell_type": "code",
   "execution_count": 45,
   "id": "d001932d",
   "metadata": {},
   "outputs": [],
   "source": [
    "X_train, X_test, y_train, y_test = train_test_split(\n",
    "    X, y, test_size=0.3, random_state=3)\n",
    "\n",
    "cval_weights = lin_regress(X,y)\n",
    "predictions = []\n",
    "for x in X_test:\n",
    "    y_hat = np.dot(x,cval_weights)\n",
    "    predictions.append(y_hat)\n",
    "\n",
    "column_names = X_df.columns\n",
    "lin_cval_results = {\n",
    "    'ypreds': predictions,\n",
    "    'mse': mean_squared_error(y_test, predictions),\n",
    "    'r2': r2_score(y_test, predictions),\n",
    "    'resids': [y_test[i] - predictions[i] for i in range(len(y_test))],\n",
    "    'coefficients': {column_names[i]: cval_weights[i] for i in range(len(cval_weights))}\n",
    "}"
   ]
  },
  {
   "cell_type": "code",
   "execution_count": 77,
   "id": "c8d2e8d6",
   "metadata": {},
   "outputs": [
    {
     "name": "stdout",
     "output_type": "stream",
     "text": [
      "linear r2: 0.6907353425294364\n",
      "logistic r2: 0.6777049649618232\n"
     ]
    },
    {
     "data": {
      "text/plain": [
       "{'Trade union density': -0.01590215205562584,\n",
       " 'Combined corporate income tax rate': -0.002657754577600327,\n",
       " 'Education spending': 0.010917773995207656,\n",
       " 'Health spending': -0.009051435765733522,\n",
       " 'Housing spending': 0.002993422243756192,\n",
       " 'Community development spending': -0.0004333729544671649,\n",
       " 'IRLT': 0.0017525949705529348,\n",
       " 'UNEMP': 0.011690398456695571,\n",
       " 'Population, total': 0.013550247928680164,\n",
       " 'GDP per capita (current US$)': 0.009428127863406764,\n",
       " 'Inflation, consumer prices (annual %)': 0.004860250345119562,\n",
       " 'Region_East Asia and Pacific': 0.32542172572703415,\n",
       " 'Region_Europe and Central Asia': 0.3068476555189667,\n",
       " 'Region_Latin America and Caribbean': 0.4962985345068884,\n",
       " 'Region_Middle East and North Africa': 0.38170749082472405}"
      ]
     },
     "execution_count": 77,
     "metadata": {},
     "output_type": "execute_result"
    }
   ],
   "source": [
    "print('linear r2:', lin_cval_results['r2'])\n",
    "print('logistic r2:', log_cval_results['r2'])\n",
    "lin_cval_results['coefficients']\n"
   ]
  },
  {
   "cell_type": "code",
   "execution_count": 78,
   "id": "86fa17a4",
   "metadata": {},
   "outputs": [
    {
     "data": {
      "text/html": [
       "<div>\n",
       "<style scoped>\n",
       "    .dataframe tbody tr th:only-of-type {\n",
       "        vertical-align: middle;\n",
       "    }\n",
       "\n",
       "    .dataframe tbody tr th {\n",
       "        vertical-align: top;\n",
       "    }\n",
       "\n",
       "    .dataframe thead th {\n",
       "        text-align: right;\n",
       "    }\n",
       "</style>\n",
       "<table border=\"1\" class=\"dataframe\">\n",
       "  <thead>\n",
       "    <tr style=\"text-align: right;\">\n",
       "      <th></th>\n",
       "      <th>Model</th>\n",
       "      <th>Trade union density</th>\n",
       "      <th>Combined corporate income tax rate</th>\n",
       "      <th>Education spending</th>\n",
       "      <th>Health spending</th>\n",
       "      <th>Housing spending</th>\n",
       "      <th>Community development spending</th>\n",
       "      <th>IRLT</th>\n",
       "      <th>UNEMP</th>\n",
       "      <th>Population, total</th>\n",
       "      <th>GDP per capita (current US$)</th>\n",
       "      <th>Inflation, consumer prices (annual %)</th>\n",
       "      <th>Region_East Asia and Pacific</th>\n",
       "      <th>Region_Europe and Central Asia</th>\n",
       "      <th>Region_Latin America and Caribbean</th>\n",
       "      <th>Region_Middle East and North Africa</th>\n",
       "    </tr>\n",
       "  </thead>\n",
       "  <tbody>\n",
       "    <tr>\n",
       "      <th>0</th>\n",
       "      <td>Linear Regression</td>\n",
       "      <td>-0.015902</td>\n",
       "      <td>-0.002658</td>\n",
       "      <td>0.010918</td>\n",
       "      <td>-0.009051</td>\n",
       "      <td>0.002993</td>\n",
       "      <td>-0.000433</td>\n",
       "      <td>0.001753</td>\n",
       "      <td>0.011690</td>\n",
       "      <td>0.013550</td>\n",
       "      <td>0.009428</td>\n",
       "      <td>0.004860</td>\n",
       "      <td>0.325422</td>\n",
       "      <td>0.306848</td>\n",
       "      <td>0.496299</td>\n",
       "      <td>0.381707</td>\n",
       "    </tr>\n",
       "    <tr>\n",
       "      <th>1</th>\n",
       "      <td>Logistic Regression</td>\n",
       "      <td>-0.073696</td>\n",
       "      <td>-0.011952</td>\n",
       "      <td>0.050981</td>\n",
       "      <td>-0.036393</td>\n",
       "      <td>0.011995</td>\n",
       "      <td>-0.002288</td>\n",
       "      <td>0.010267</td>\n",
       "      <td>0.056333</td>\n",
       "      <td>0.063561</td>\n",
       "      <td>0.044864</td>\n",
       "      <td>0.023734</td>\n",
       "      <td>-0.738660</td>\n",
       "      <td>-0.820455</td>\n",
       "      <td>-0.027503</td>\n",
       "      <td>-0.029316</td>\n",
       "    </tr>\n",
       "  </tbody>\n",
       "</table>\n",
       "</div>"
      ],
      "text/plain": [
       "                 Model  Trade union density  \\\n",
       "0    Linear Regression            -0.015902   \n",
       "1  Logistic Regression            -0.073696   \n",
       "\n",
       "   Combined corporate income tax rate  Education spending  Health spending  \\\n",
       "0                           -0.002658            0.010918        -0.009051   \n",
       "1                           -0.011952            0.050981        -0.036393   \n",
       "\n",
       "   Housing spending  Community development spending      IRLT     UNEMP  \\\n",
       "0          0.002993                       -0.000433  0.001753  0.011690   \n",
       "1          0.011995                       -0.002288  0.010267  0.056333   \n",
       "\n",
       "   Population, total  GDP per capita (current US$)  \\\n",
       "0           0.013550                      0.009428   \n",
       "1           0.063561                      0.044864   \n",
       "\n",
       "   Inflation, consumer prices (annual %)  Region_East Asia and Pacific  \\\n",
       "0                               0.004860                      0.325422   \n",
       "1                               0.023734                     -0.738660   \n",
       "\n",
       "   Region_Europe and Central Asia  Region_Latin America and Caribbean  \\\n",
       "0                        0.306848                            0.496299   \n",
       "1                       -0.820455                           -0.027503   \n",
       "\n",
       "   Region_Middle East and North Africa  \n",
       "0                             0.381707  \n",
       "1                            -0.029316  "
      ]
     },
     "execution_count": 78,
     "metadata": {},
     "output_type": "execute_result"
    }
   ],
   "source": [
    "weights_df = pd.DataFrame([lin_cval_results['coefficients'], log_cval_results['coefficients']])\n",
    "weights_df.insert(0, 'Model', ['Linear Regression', 'Logistic Regression'])\n",
    "weights_df.to_csv('model_weights.csv', index=False)\n",
    "weights_df"
   ]
  },
  {
   "cell_type": "code",
   "execution_count": 51,
   "id": "8f964675",
   "metadata": {},
   "outputs": [
    {
     "data": {
      "application/vnd.plotly.v1+json": {
       "config": {
        "plotlyServerURL": "https://plot.ly"
       },
       "data": [
        {
         "hovertemplate": "Predicted values=%{x}<br>Actual values=%{y}<extra></extra>",
         "legendgroup": "",
         "marker": {
          "color": "#636efa",
          "symbol": "circle"
         },
         "mode": "markers",
         "name": "",
         "orientation": "v",
         "showlegend": false,
         "type": "scatter",
         "x": [
          0.2943841571293728,
          0.28933171540153896,
          0.3257616165917264,
          0.3089697245810023,
          0.336956312547245,
          0.3068121218695169,
          0.2788329517617803,
          0.3111197735305972,
          0.28259957018924814,
          0.31181935012323636,
          0.3238957309086204,
          0.36388539430394923,
          0.2854074378860184,
          0.26482291070921804,
          0.2677572067894958,
          0.5049000033806924,
          0.3099549535983269,
          0.33220122349133824,
          0.2844115986423645,
          0.30247211716571926,
          0.2998117465494191,
          0.2978560874643854,
          0.2860237060635779,
          0.2693313892458189,
          0.34744178704815953,
          0.27398928954475643,
          0.3623769348756049,
          0.3049338750388624,
          0.27781805005810584,
          0.3035114610338284,
          0.2819828299602503,
          0.3363904427752909,
          0.3181271755202286,
          0.3217550063286222,
          0.3088895078724312,
          0.2780521094614158,
          0.27040826504990256,
          0.33256165854016284,
          0.308300008499715,
          0.27149333964258177,
          0.2776568432136447,
          0.318694661582805,
          0.49772691739048375,
          0.3152203016028507,
          0.2716406130522016,
          0.2664474485253237,
          0.33502368860684545,
          0.2830870574803387,
          0.3288685934098682,
          0.3428582381894955,
          0.2774899259378337,
          0.3181611746139171,
          0.27073394281285423,
          0.3163044870050468,
          0.30178576000747503,
          0.28601817330455137,
          0.31556373289401723,
          0.34107822762050133,
          0.31230325835056155,
          0.3377307198906926,
          0.2666526502869682,
          0.28342968889398057,
          0.2791647018318889,
          0.3064720706742674,
          0.29107694356516084,
          0.28104888192255045,
          0.308393666565344,
          0.28129765906628335,
          0.3463150244713341,
          0.3247644494235242,
          0.32610784902704065,
          0.3385173689205796,
          0.30727632752847783,
          0.3110236524378995,
          0.34185041385701387,
          0.276847118677645,
          0.29428982407902593,
          0.32975974114530093,
          0.2997287944872076,
          0.33367690168883696,
          0.33983103758527394,
          0.33306740430536597,
          0.32570679202973934,
          0.2979704194638423,
          0.32130715144016897,
          0.3340668791038477,
          0.28759970895823056,
          0.3136017449644295,
          0.3388578246166338,
          0.3082332779477146,
          0.32601988161141077,
          0.31833035723127545,
          0.30615587747221623,
          0.27782225065244864,
          0.2760812880387319,
          0.32454650080962655,
          0.32519496830464023,
          0.2811701776111776,
          0.2774882494830753,
          0.2816415189392741,
          0.30169284304659016,
          0.28366563809872103,
          0.30766388673682354,
          0.30602125469234015,
          0.2811392651883791,
          0.27401304273786353,
          0.33311752640405445,
          0.31177191516829345,
          0.32703404956898385,
          0.3062441499442256,
          0.3084721351604034,
          0.28721695459272206,
          0.2953006497547952,
          0.3094029108217169,
          0.33668071498897356,
          0.31149819397599293,
          0.31309020524950004,
          0.5024872650702704,
          0.5066355242720026,
          0.3407276666776944
         ],
         "xaxis": "x",
         "y": [
          0.261,
          0.28800000000000003,
          0.35600000000000004,
          0.377,
          0.302,
          0.349,
          0.271,
          0.34600000000000003,
          0.262,
          0.349,
          0.371,
          0.38,
          0.266,
          0.23800000000000002,
          0.259,
          0.484,
          0.308,
          0.316,
          0.308,
          0.336,
          0.25,
          0.309,
          0.29600000000000004,
          0.252,
          0.32899999999999996,
          0.267,
          0.358,
          0.281,
          0.298,
          0.327,
          0.25,
          0.317,
          0.34299999999999997,
          0.358,
          0.374,
          0.271,
          0.282,
          0.305,
          0.35200000000000004,
          0.282,
          0.295,
          0.335,
          0.49700000000000005,
          0.353,
          0.27699999999999997,
          0.28,
          0.325,
          0.276,
          0.315,
          0.34700000000000003,
          0.285,
          0.342,
          0.254,
          0.326,
          0.327,
          0.259,
          0.35200000000000004,
          0.326,
          0.345,
          0.35100000000000003,
          0.262,
          0.27699999999999997,
          0.272,
          0.261,
          0.302,
          0.302,
          0.389,
          0.292,
          0.34700000000000003,
          0.34700000000000003,
          0.298,
          0.355,
          0.384,
          0.35200000000000004,
          0.306,
          0.306,
          0.276,
          0.311,
          0.344,
          0.33,
          0.33,
          0.326,
          0.32799999999999996,
          0.33799999999999997,
          0.32799999999999996,
          0.306,
          0.284,
          0.312,
          0.325,
          0.32899999999999996,
          0.331,
          0.349,
          0.292,
          0.281,
          0.27699999999999997,
          0.38799999999999996,
          0.35100000000000003,
          0.281,
          0.271,
          0.264,
          0.348,
          0.292,
          0.34700000000000003,
          0.33799999999999997,
          0.259,
          0.24600000000000002,
          0.325,
          0.309,
          0.332,
          0.282,
          0.317,
          0.26,
          0.23199999999999998,
          0.298,
          0.327,
          0.319,
          0.355,
          0.48700000000000004,
          0.506,
          0.332
         ],
         "yaxis": "y"
        }
       ],
       "layout": {
        "legend": {
         "tracegroupgap": 0
        },
        "margin": {
         "t": 60
        },
        "template": {
         "data": {
          "bar": [
           {
            "error_x": {
             "color": "#2a3f5f"
            },
            "error_y": {
             "color": "#2a3f5f"
            },
            "marker": {
             "line": {
              "color": "#E5ECF6",
              "width": 0.5
             },
             "pattern": {
              "fillmode": "overlay",
              "size": 10,
              "solidity": 0.2
             }
            },
            "type": "bar"
           }
          ],
          "barpolar": [
           {
            "marker": {
             "line": {
              "color": "#E5ECF6",
              "width": 0.5
             },
             "pattern": {
              "fillmode": "overlay",
              "size": 10,
              "solidity": 0.2
             }
            },
            "type": "barpolar"
           }
          ],
          "carpet": [
           {
            "aaxis": {
             "endlinecolor": "#2a3f5f",
             "gridcolor": "white",
             "linecolor": "white",
             "minorgridcolor": "white",
             "startlinecolor": "#2a3f5f"
            },
            "baxis": {
             "endlinecolor": "#2a3f5f",
             "gridcolor": "white",
             "linecolor": "white",
             "minorgridcolor": "white",
             "startlinecolor": "#2a3f5f"
            },
            "type": "carpet"
           }
          ],
          "choropleth": [
           {
            "colorbar": {
             "outlinewidth": 0,
             "ticks": ""
            },
            "type": "choropleth"
           }
          ],
          "contour": [
           {
            "colorbar": {
             "outlinewidth": 0,
             "ticks": ""
            },
            "colorscale": [
             [
              0,
              "#0d0887"
             ],
             [
              0.1111111111111111,
              "#46039f"
             ],
             [
              0.2222222222222222,
              "#7201a8"
             ],
             [
              0.3333333333333333,
              "#9c179e"
             ],
             [
              0.4444444444444444,
              "#bd3786"
             ],
             [
              0.5555555555555556,
              "#d8576b"
             ],
             [
              0.6666666666666666,
              "#ed7953"
             ],
             [
              0.7777777777777778,
              "#fb9f3a"
             ],
             [
              0.8888888888888888,
              "#fdca26"
             ],
             [
              1,
              "#f0f921"
             ]
            ],
            "type": "contour"
           }
          ],
          "contourcarpet": [
           {
            "colorbar": {
             "outlinewidth": 0,
             "ticks": ""
            },
            "type": "contourcarpet"
           }
          ],
          "heatmap": [
           {
            "colorbar": {
             "outlinewidth": 0,
             "ticks": ""
            },
            "colorscale": [
             [
              0,
              "#0d0887"
             ],
             [
              0.1111111111111111,
              "#46039f"
             ],
             [
              0.2222222222222222,
              "#7201a8"
             ],
             [
              0.3333333333333333,
              "#9c179e"
             ],
             [
              0.4444444444444444,
              "#bd3786"
             ],
             [
              0.5555555555555556,
              "#d8576b"
             ],
             [
              0.6666666666666666,
              "#ed7953"
             ],
             [
              0.7777777777777778,
              "#fb9f3a"
             ],
             [
              0.8888888888888888,
              "#fdca26"
             ],
             [
              1,
              "#f0f921"
             ]
            ],
            "type": "heatmap"
           }
          ],
          "heatmapgl": [
           {
            "colorbar": {
             "outlinewidth": 0,
             "ticks": ""
            },
            "colorscale": [
             [
              0,
              "#0d0887"
             ],
             [
              0.1111111111111111,
              "#46039f"
             ],
             [
              0.2222222222222222,
              "#7201a8"
             ],
             [
              0.3333333333333333,
              "#9c179e"
             ],
             [
              0.4444444444444444,
              "#bd3786"
             ],
             [
              0.5555555555555556,
              "#d8576b"
             ],
             [
              0.6666666666666666,
              "#ed7953"
             ],
             [
              0.7777777777777778,
              "#fb9f3a"
             ],
             [
              0.8888888888888888,
              "#fdca26"
             ],
             [
              1,
              "#f0f921"
             ]
            ],
            "type": "heatmapgl"
           }
          ],
          "histogram": [
           {
            "marker": {
             "pattern": {
              "fillmode": "overlay",
              "size": 10,
              "solidity": 0.2
             }
            },
            "type": "histogram"
           }
          ],
          "histogram2d": [
           {
            "colorbar": {
             "outlinewidth": 0,
             "ticks": ""
            },
            "colorscale": [
             [
              0,
              "#0d0887"
             ],
             [
              0.1111111111111111,
              "#46039f"
             ],
             [
              0.2222222222222222,
              "#7201a8"
             ],
             [
              0.3333333333333333,
              "#9c179e"
             ],
             [
              0.4444444444444444,
              "#bd3786"
             ],
             [
              0.5555555555555556,
              "#d8576b"
             ],
             [
              0.6666666666666666,
              "#ed7953"
             ],
             [
              0.7777777777777778,
              "#fb9f3a"
             ],
             [
              0.8888888888888888,
              "#fdca26"
             ],
             [
              1,
              "#f0f921"
             ]
            ],
            "type": "histogram2d"
           }
          ],
          "histogram2dcontour": [
           {
            "colorbar": {
             "outlinewidth": 0,
             "ticks": ""
            },
            "colorscale": [
             [
              0,
              "#0d0887"
             ],
             [
              0.1111111111111111,
              "#46039f"
             ],
             [
              0.2222222222222222,
              "#7201a8"
             ],
             [
              0.3333333333333333,
              "#9c179e"
             ],
             [
              0.4444444444444444,
              "#bd3786"
             ],
             [
              0.5555555555555556,
              "#d8576b"
             ],
             [
              0.6666666666666666,
              "#ed7953"
             ],
             [
              0.7777777777777778,
              "#fb9f3a"
             ],
             [
              0.8888888888888888,
              "#fdca26"
             ],
             [
              1,
              "#f0f921"
             ]
            ],
            "type": "histogram2dcontour"
           }
          ],
          "mesh3d": [
           {
            "colorbar": {
             "outlinewidth": 0,
             "ticks": ""
            },
            "type": "mesh3d"
           }
          ],
          "parcoords": [
           {
            "line": {
             "colorbar": {
              "outlinewidth": 0,
              "ticks": ""
             }
            },
            "type": "parcoords"
           }
          ],
          "pie": [
           {
            "automargin": true,
            "type": "pie"
           }
          ],
          "scatter": [
           {
            "fillpattern": {
             "fillmode": "overlay",
             "size": 10,
             "solidity": 0.2
            },
            "type": "scatter"
           }
          ],
          "scatter3d": [
           {
            "line": {
             "colorbar": {
              "outlinewidth": 0,
              "ticks": ""
             }
            },
            "marker": {
             "colorbar": {
              "outlinewidth": 0,
              "ticks": ""
             }
            },
            "type": "scatter3d"
           }
          ],
          "scattercarpet": [
           {
            "marker": {
             "colorbar": {
              "outlinewidth": 0,
              "ticks": ""
             }
            },
            "type": "scattercarpet"
           }
          ],
          "scattergeo": [
           {
            "marker": {
             "colorbar": {
              "outlinewidth": 0,
              "ticks": ""
             }
            },
            "type": "scattergeo"
           }
          ],
          "scattergl": [
           {
            "marker": {
             "colorbar": {
              "outlinewidth": 0,
              "ticks": ""
             }
            },
            "type": "scattergl"
           }
          ],
          "scattermapbox": [
           {
            "marker": {
             "colorbar": {
              "outlinewidth": 0,
              "ticks": ""
             }
            },
            "type": "scattermapbox"
           }
          ],
          "scatterpolar": [
           {
            "marker": {
             "colorbar": {
              "outlinewidth": 0,
              "ticks": ""
             }
            },
            "type": "scatterpolar"
           }
          ],
          "scatterpolargl": [
           {
            "marker": {
             "colorbar": {
              "outlinewidth": 0,
              "ticks": ""
             }
            },
            "type": "scatterpolargl"
           }
          ],
          "scatterternary": [
           {
            "marker": {
             "colorbar": {
              "outlinewidth": 0,
              "ticks": ""
             }
            },
            "type": "scatterternary"
           }
          ],
          "surface": [
           {
            "colorbar": {
             "outlinewidth": 0,
             "ticks": ""
            },
            "colorscale": [
             [
              0,
              "#0d0887"
             ],
             [
              0.1111111111111111,
              "#46039f"
             ],
             [
              0.2222222222222222,
              "#7201a8"
             ],
             [
              0.3333333333333333,
              "#9c179e"
             ],
             [
              0.4444444444444444,
              "#bd3786"
             ],
             [
              0.5555555555555556,
              "#d8576b"
             ],
             [
              0.6666666666666666,
              "#ed7953"
             ],
             [
              0.7777777777777778,
              "#fb9f3a"
             ],
             [
              0.8888888888888888,
              "#fdca26"
             ],
             [
              1,
              "#f0f921"
             ]
            ],
            "type": "surface"
           }
          ],
          "table": [
           {
            "cells": {
             "fill": {
              "color": "#EBF0F8"
             },
             "line": {
              "color": "white"
             }
            },
            "header": {
             "fill": {
              "color": "#C8D4E3"
             },
             "line": {
              "color": "white"
             }
            },
            "type": "table"
           }
          ]
         },
         "layout": {
          "annotationdefaults": {
           "arrowcolor": "#2a3f5f",
           "arrowhead": 0,
           "arrowwidth": 1
          },
          "autotypenumbers": "strict",
          "coloraxis": {
           "colorbar": {
            "outlinewidth": 0,
            "ticks": ""
           }
          },
          "colorscale": {
           "diverging": [
            [
             0,
             "#8e0152"
            ],
            [
             0.1,
             "#c51b7d"
            ],
            [
             0.2,
             "#de77ae"
            ],
            [
             0.3,
             "#f1b6da"
            ],
            [
             0.4,
             "#fde0ef"
            ],
            [
             0.5,
             "#f7f7f7"
            ],
            [
             0.6,
             "#e6f5d0"
            ],
            [
             0.7,
             "#b8e186"
            ],
            [
             0.8,
             "#7fbc41"
            ],
            [
             0.9,
             "#4d9221"
            ],
            [
             1,
             "#276419"
            ]
           ],
           "sequential": [
            [
             0,
             "#0d0887"
            ],
            [
             0.1111111111111111,
             "#46039f"
            ],
            [
             0.2222222222222222,
             "#7201a8"
            ],
            [
             0.3333333333333333,
             "#9c179e"
            ],
            [
             0.4444444444444444,
             "#bd3786"
            ],
            [
             0.5555555555555556,
             "#d8576b"
            ],
            [
             0.6666666666666666,
             "#ed7953"
            ],
            [
             0.7777777777777778,
             "#fb9f3a"
            ],
            [
             0.8888888888888888,
             "#fdca26"
            ],
            [
             1,
             "#f0f921"
            ]
           ],
           "sequentialminus": [
            [
             0,
             "#0d0887"
            ],
            [
             0.1111111111111111,
             "#46039f"
            ],
            [
             0.2222222222222222,
             "#7201a8"
            ],
            [
             0.3333333333333333,
             "#9c179e"
            ],
            [
             0.4444444444444444,
             "#bd3786"
            ],
            [
             0.5555555555555556,
             "#d8576b"
            ],
            [
             0.6666666666666666,
             "#ed7953"
            ],
            [
             0.7777777777777778,
             "#fb9f3a"
            ],
            [
             0.8888888888888888,
             "#fdca26"
            ],
            [
             1,
             "#f0f921"
            ]
           ]
          },
          "colorway": [
           "#636efa",
           "#EF553B",
           "#00cc96",
           "#ab63fa",
           "#FFA15A",
           "#19d3f3",
           "#FF6692",
           "#B6E880",
           "#FF97FF",
           "#FECB52"
          ],
          "font": {
           "color": "#2a3f5f"
          },
          "geo": {
           "bgcolor": "white",
           "lakecolor": "white",
           "landcolor": "#E5ECF6",
           "showlakes": true,
           "showland": true,
           "subunitcolor": "white"
          },
          "hoverlabel": {
           "align": "left"
          },
          "hovermode": "closest",
          "mapbox": {
           "style": "light"
          },
          "paper_bgcolor": "white",
          "plot_bgcolor": "#E5ECF6",
          "polar": {
           "angularaxis": {
            "gridcolor": "white",
            "linecolor": "white",
            "ticks": ""
           },
           "bgcolor": "#E5ECF6",
           "radialaxis": {
            "gridcolor": "white",
            "linecolor": "white",
            "ticks": ""
           }
          },
          "scene": {
           "xaxis": {
            "backgroundcolor": "#E5ECF6",
            "gridcolor": "white",
            "gridwidth": 2,
            "linecolor": "white",
            "showbackground": true,
            "ticks": "",
            "zerolinecolor": "white"
           },
           "yaxis": {
            "backgroundcolor": "#E5ECF6",
            "gridcolor": "white",
            "gridwidth": 2,
            "linecolor": "white",
            "showbackground": true,
            "ticks": "",
            "zerolinecolor": "white"
           },
           "zaxis": {
            "backgroundcolor": "#E5ECF6",
            "gridcolor": "white",
            "gridwidth": 2,
            "linecolor": "white",
            "showbackground": true,
            "ticks": "",
            "zerolinecolor": "white"
           }
          },
          "shapedefaults": {
           "line": {
            "color": "#2a3f5f"
           }
          },
          "ternary": {
           "aaxis": {
            "gridcolor": "white",
            "linecolor": "white",
            "ticks": ""
           },
           "baxis": {
            "gridcolor": "white",
            "linecolor": "white",
            "ticks": ""
           },
           "bgcolor": "#E5ECF6",
           "caxis": {
            "gridcolor": "white",
            "linecolor": "white",
            "ticks": ""
           }
          },
          "title": {
           "x": 0.05
          },
          "xaxis": {
           "automargin": true,
           "gridcolor": "white",
           "linecolor": "white",
           "ticks": "",
           "title": {
            "standoff": 15
           },
           "zerolinecolor": "white",
           "zerolinewidth": 2
          },
          "yaxis": {
           "automargin": true,
           "gridcolor": "white",
           "linecolor": "white",
           "ticks": "",
           "title": {
            "standoff": 15
           },
           "zerolinecolor": "white",
           "zerolinewidth": 2
          }
         }
        },
        "xaxis": {
         "anchor": "y",
         "domain": [
          0,
          1
         ],
         "title": {
          "text": "Predicted values"
         }
        },
        "yaxis": {
         "anchor": "x",
         "domain": [
          0,
          1
         ],
         "title": {
          "text": "Actual values"
         }
        }
       }
      }
     },
     "metadata": {},
     "output_type": "display_data"
    }
   ],
   "source": [
    "import plotly.express as px\n",
    "\n",
    "px.scatter(x=np.array(lin_cval_results['ypreds']), y=y_test, labels={'x': 'Predicted values', 'y': 'Actual values'})"
   ]
  },
  {
   "cell_type": "code",
   "execution_count": 50,
   "id": "e0d58abf",
   "metadata": {},
   "outputs": [
    {
     "data": {
      "application/vnd.plotly.v1+json": {
       "config": {
        "plotlyServerURL": "https://plot.ly"
       },
       "data": [
        {
         "hovertemplate": "order=%{x}<br>Residuals=%{y}<extra></extra>",
         "legendgroup": "",
         "marker": {
          "color": "#636efa",
          "symbol": "circle"
         },
         "mode": "markers",
         "name": "",
         "orientation": "v",
         "showlegend": false,
         "type": "scatter",
         "x": [
          0,
          1,
          2,
          3,
          4,
          5,
          6,
          7,
          8,
          9,
          10,
          11,
          12,
          13,
          14,
          15,
          16,
          17,
          18,
          19,
          20,
          21,
          22,
          23,
          24,
          25,
          26,
          27,
          28,
          29,
          30,
          31,
          32,
          33,
          34,
          35,
          36,
          37,
          38,
          39,
          40,
          41,
          42,
          43,
          44,
          45,
          46,
          47,
          48,
          49,
          50,
          51,
          52,
          53,
          54,
          55,
          56,
          57,
          58,
          59,
          60,
          61,
          62,
          63,
          64,
          65,
          66,
          67,
          68,
          69,
          70,
          71,
          72,
          73,
          74,
          75,
          76,
          77,
          78,
          79,
          80,
          81,
          82,
          83,
          84,
          85,
          86,
          87,
          88,
          89,
          90,
          91,
          92,
          93,
          94,
          95,
          96,
          97,
          98,
          99,
          100,
          101,
          102,
          103,
          104,
          105,
          106,
          107,
          108,
          109,
          110,
          111,
          112,
          113,
          114,
          115,
          116,
          117,
          118,
          119
         ],
         "xaxis": "x",
         "y": [
          -0.033384157129372816,
          -0.0013317154015389243,
          0.030238383408273617,
          0.0680302754189977,
          -0.034956312547245016,
          0.04218787813048308,
          -0.007832951761780282,
          0.03488022646940281,
          -0.02059957018924813,
          0.037180649876763616,
          0.0471042690913796,
          0.016114605696050777,
          -0.019407437886018397,
          -0.026822910709218023,
          -0.00875720678949582,
          -0.020900003380692422,
          -0.001954953598326925,
          -0.016201223491338235,
          0.023588401357635513,
          0.033527882834280764,
          -0.04981174654941911,
          0.011143912535614586,
          0.009976293936422131,
          -0.017331389245818896,
          -0.018441787048159575,
          -0.006989289544756416,
          -0.004376934875604921,
          -0.02393387503886235,
          0.02018194994189415,
          0.02348853896617159,
          -0.031982829960250314,
          -0.019390442775290895,
          0.02487282447977135,
          0.03624499367137779,
          0.06511049212756881,
          -0.0070521094614157676,
          0.01159173495009741,
          -0.027561658540162848,
          0.04369999150028503,
          0.010506660357418207,
          0.017343156786355285,
          0.016305338417195003,
          -0.0007269173904836945,
          0.037779698397149286,
          0.005359386947798361,
          0.013552551474676322,
          -0.010023688606845438,
          -0.0070870574803386654,
          -0.01386859340986818,
          0.004141761810504518,
          0.00751007406216625,
          0.02383882538608295,
          -0.01673394281285423,
          0.009695512994953193,
          0.02521423999252498,
          -0.027018173304551363,
          0.0364362671059828,
          -0.015078227620501317,
          0.03269674164943842,
          0.013269280109307446,
          -0.004652650286968207,
          -0.006429688893980601,
          -0.007164701831888887,
          -0.045472070674267395,
          0.010923056434839151,
          0.020951118077449538,
          0.08060633343465601,
          0.010702340933716636,
          0.0006849755286659209,
          0.022235550576475804,
          -0.028107849027040666,
          0.016482631079420385,
          0.07672367247152218,
          0.04097634756210056,
          -0.035850413857013874,
          0.029152881322354995,
          -0.018289824079025907,
          -0.018759741145300934,
          0.0442712055127924,
          -0.003676901688836942,
          -0.009831037585273927,
          -0.007067404305365954,
          0.0022932079702606134,
          0.04002958053615768,
          0.006692848559830988,
          -0.028066879103847697,
          -0.0035997089582305852,
          -0.0016017449644294968,
          -0.013857824616633763,
          0.020766722052285358,
          0.00498011838858925,
          0.030669642768724525,
          -0.01415587747221625,
          0.003177749347551384,
          0.0009187119612680816,
          0.06345349919037341,
          0.025805031695359804,
          -0.0001701776111775466,
          -0.0064882494830753035,
          -0.01764151893927407,
          0.04630715695340981,
          0.008334361901278953,
          0.039336113263176486,
          0.03197874530765982,
          -0.02213926518837911,
          -0.02801304273786351,
          -0.008117526404054443,
          -0.0027719151682934484,
          0.004965950431016164,
          -0.024244149944225635,
          0.00852786483959661,
          -0.027216954592722054,
          -0.06330064975479521,
          -0.011402910821716905,
          -0.009680714988973549,
          0.007501806024007074,
          0.04190979475049994,
          -0.015487265070270373,
          -0.0006355242720026411,
          -0.008727666677694368
         ],
         "yaxis": "y"
        }
       ],
       "layout": {
        "legend": {
         "tracegroupgap": 0
        },
        "template": {
         "data": {
          "bar": [
           {
            "error_x": {
             "color": "#2a3f5f"
            },
            "error_y": {
             "color": "#2a3f5f"
            },
            "marker": {
             "line": {
              "color