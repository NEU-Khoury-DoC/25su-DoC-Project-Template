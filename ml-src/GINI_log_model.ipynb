{
 "cells": [
  {
   "cell_type": "code",
   "execution_count": 9,
   "id": "a76a111d",
   "metadata": {},
   "outputs": [],
   "source": [
    "import numpy as np\n",
    "import math\n",
    "import pandas as pd\n",
    "from models import log_regress\n",
    "from models import lin_regress\n",
    "from sklearn.model_selection import train_test_split\n",
    "from sklearn.metrics import r2_score\n",
    "from sklearn.metrics import mean_squared_error\n",
    "from datetime import datetime"
   ]
  },
  {
   "cell_type": "code",
   "execution_count": 2,
   "id": "69d3d2b9",
   "metadata": {},
   "outputs": [
    {
     "data": {
      "text/html": [
       "<div>\n",
       "<style scoped>\n",
       "    .dataframe tbody tr th:only-of-type {\n",
       "        vertical-align: middle;\n",
       "    }\n",
       "\n",
       "    .dataframe tbody tr th {\n",
       "        vertical-align: top;\n",
       "    }\n",
       "\n",
       "    .dataframe thead th {\n",
       "        text-align: right;\n",
       "    }\n",
       "</style>\n",
       "<table border=\"1\" class=\"dataframe\">\n",
       "  <thead>\n",
       "    <tr style=\"text-align: right;\">\n",
       "      <th></th>\n",
       "      <th>TIME_PERIOD</th>\n",
       "      <th>Reference area</th>\n",
       "      <th>REF_AREA</th>\n",
       "      <th>Trade union density</th>\n",
       "      <th>Combined corporate income tax rate</th>\n",
       "      <th>Education spending</th>\n",
       "      <th>Health spending</th>\n",
       "      <th>Housing spending</th>\n",
       "      <th>Community development spending</th>\n",
       "      <th>IRLT</th>\n",
       "      <th>UNEMP</th>\n",
       "      <th>Population, total</th>\n",
       "      <th>GDP per capita (current US$)</th>\n",
       "      <th>Inflation, consumer prices (annual %)</th>\n",
       "      <th>Gini index</th>\n",
       "      <th>Region</th>\n",
       "    </tr>\n",
       "  </thead>\n",
       "  <tbody>\n",
       "    <tr>\n",
       "      <th>0</th>\n",
       "      <td>2001</td>\n",
       "      <td>Sweden</td>\n",
       "      <td>SWE</td>\n",
       "      <td>78.699997</td>\n",
       "      <td>28.0</td>\n",
       "      <td>0.073432</td>\n",
       "      <td>0.063153</td>\n",
       "      <td>0.005750</td>\n",
       "      <td>0.002563</td>\n",
       "      <td>5.107500</td>\n",
       "      <td>5.825000</td>\n",
       "      <td>8895960.0</td>\n",
       "      <td>27259.480674</td>\n",
       "      <td>2.405958</td>\n",
       "      <td>26.5</td>\n",
       "      <td>Europe and Central Asia</td>\n",
       "    </tr>\n",
       "    <tr>\n",
       "      <th>1</th>\n",
       "      <td>2002</td>\n",
       "      <td>Sweden</td>\n",
       "      <td>SWE</td>\n",
       "      <td>78.000000</td>\n",
       "      <td>28.0</td>\n",
       "      <td>0.074421</td>\n",
       "      <td>0.066268</td>\n",
       "      <td>0.005462</td>\n",
       "      <td>0.002885</td>\n",
       "      <td>5.303333</td>\n",
       "      <td>5.950000</td>\n",
       "      <td>8924958.0</td>\n",
       "      <td>29957.938765</td>\n",
       "      <td>2.158482</td>\n",
       "      <td>26.2</td>\n",
       "      <td>Europe and Central Asia</td>\n",
       "    </tr>\n",
       "    <tr>\n",
       "      <th>2</th>\n",
       "      <td>2003</td>\n",
       "      <td>Sweden</td>\n",
       "      <td>SWE</td>\n",
       "      <td>77.199997</td>\n",
       "      <td>28.0</td>\n",
       "      <td>0.073959</td>\n",
       "      <td>0.068195</td>\n",
       "      <td>0.005385</td>\n",
       "      <td>0.002733</td>\n",
       "      <td>4.638333</td>\n",
       "      <td>6.566667</td>\n",
       "      <td>8958229.0</td>\n",
       "      <td>37292.421434</td>\n",
       "      <td>1.925655</td>\n",
       "      <td>25.3</td>\n",
       "      <td>Europe and Central Asia</td>\n",
       "    </tr>\n",
       "    <tr>\n",
       "      <th>3</th>\n",
       "      <td>2004</td>\n",
       "      <td>Sweden</td>\n",
       "      <td>SWE</td>\n",
       "      <td>76.400002</td>\n",
       "      <td>28.0</td>\n",
       "      <td>0.072734</td>\n",
       "      <td>0.066088</td>\n",
       "      <td>0.005046</td>\n",
       "      <td>0.002877</td>\n",
       "      <td>4.425000</td>\n",
       "      <td>7.375000</td>\n",
       "      <td>8993531.0</td>\n",
       "      <td>42758.201550</td>\n",
       "      <td>0.373660</td>\n",
       "      <td>26.1</td>\n",
       "      <td>Europe and Central Asia</td>\n",
       "    </tr>\n",
       "    <tr>\n",
       "      <th>4</th>\n",
       "      <td>2005</td>\n",
       "      <td>Sweden</td>\n",
       "      <td>SWE</td>\n",
       "      <td>75.699997</td>\n",
       "      <td>28.0</td>\n",
       "      <td>0.072877</td>\n",
       "      <td>0.066296</td>\n",
       "      <td>0.003736</td>\n",
       "      <td>0.002917</td>\n",
       "      <td>3.382500</td>\n",
       "      <td>7.783333</td>\n",
       "      <td>9029572.0</td>\n",
       "      <td>43378.615212</td>\n",
       "      <td>0.453171</td>\n",
       "      <td>26.8</td>\n",
       "      <td>Europe and Central Asia</td>\n",
       "    </tr>\n",
       "  </tbody>\n",
       "</table>\n",
       "</div>"
      ],
      "text/plain": [
       "   TIME_PERIOD Reference area REF_AREA  Trade union density  \\\n",
       "0         2001         Sweden      SWE            78.699997   \n",
       "1         2002         Sweden      SWE            78.000000   \n",
       "2         2003         Sweden      SWE            77.199997   \n",
       "3         2004         Sweden      SWE            76.400002   \n",
       "4         2005         Sweden      SWE            75.699997   \n",
       "\n",
       "   Combined corporate income tax rate  Education spending  Health spending  \\\n",
       "0                                28.0            0.073432         0.063153   \n",
       "1                                28.0            0.074421         0.066268   \n",
       "2                                28.0            0.073959         0.068195   \n",
       "3                                28.0            0.072734         0.066088   \n",
       "4                                28.0            0.072877         0.066296   \n",
       "\n",
       "   Housing spending  Community development spending      IRLT     UNEMP  \\\n",
       "0          0.005750                        0.002563  5.107500  5.825000   \n",
       "1          0.005462                        0.002885  5.303333  5.950000   \n",
       "2          0.005385                        0.002733  4.638333  6.566667   \n",
       "3          0.005046                        0.002877  4.425000  7.375000   \n",
       "4          0.003736                        0.002917  3.382500  7.783333   \n",
       "\n",
       "   Population, total  GDP per capita (current US$)  \\\n",
       "0          8895960.0                  27259.480674   \n",
       "1          8924958.0                  29957.938765   \n",
       "2          8958229.0                  37292.421434   \n",
       "3          8993531.0                  42758.201550   \n",
       "4          9029572.0                  43378.615212   \n",
       "\n",
       "   Inflation, consumer prices (annual %)  Gini index                   Region  \n",
       "0                               2.405958        26.5  Europe and Central Asia  \n",
       "1                               2.158482        26.2  Europe and Central Asia  \n",
       "2                               1.925655        25.3  Europe and Central Asia  \n",
       "3                               0.373660        26.1  Europe and Central Asia  \n",
       "4                               0.453171        26.8  Europe and Central Asia  "
      ]
     },
     "execution_count": 2,
     "metadata": {},
     "output_type": "execute_result"
    }
   ],
   "source": [
    "megaframe = pd.read_csv('../datasets/MEGAFRAME_CLEANEDV2.csv')\n",
    "megaframe.head()"
   ]
  },
  {
   "cell_type": "code",
   "execution_count": 3,
   "id": "ec607c55",
   "metadata": {},
   "outputs": [
    {
     "data": {
      "text/html": [
       "<div>\n",
       "<style scoped>\n",
       "    .dataframe tbody tr th:only-of-type {\n",
       "        vertical-align: middle;\n",
       "    }\n",
       "\n",
       "    .dataframe tbody tr th {\n",
       "        vertical-align: top;\n",
       "    }\n",
       "\n",
       "    .dataframe thead th {\n",
       "        text-align: right;\n",
       "    }\n",
       "</style>\n",
       "<table border=\"1\" class=\"dataframe\">\n",
       "  <thead>\n",
       "    <tr style=\"text-align: right;\">\n",
       "      <th></th>\n",
       "      <th>TIME_PERIOD</th>\n",
       "      <th>Reference area</th>\n",
       "      <th>REF_AREA</th>\n",
       "      <th>Trade union density</th>\n",
       "      <th>Combined corporate income tax rate</th>\n",
       "      <th>Education spending</th>\n",
       "      <th>Health spending</th>\n",
       "      <th>Housing spending</th>\n",
       "      <th>Community development spending</th>\n",
       "      <th>IRLT</th>\n",
       "      <th>UNEMP</th>\n",
       "      <th>Population, total</th>\n",
       "      <th>GDP per capita (current US$)</th>\n",
       "      <th>Inflation, consumer prices (annual %)</th>\n",
       "      <th>Gini index</th>\n",
       "      <th>Region_East Asia and Pacific</th>\n",
       "      <th>Region_Europe and Central Asia</th>\n",
       "      <th>Region_Latin America and Caribbean</th>\n",
       "      <th>Region_Middle East and North Africa</th>\n",
       "    </tr>\n",
       "  </thead>\n",
       "  <tbody>\n",
       "    <tr>\n",
       "      <th>0</th>\n",
       "      <td>2001</td>\n",
       "      <td>Sweden</td>\n",
       "      <td>SWE</td>\n",
       "      <td>78.699997</td>\n",
       "      <td>28.0</td>\n",
       "      <td>0.073432</td>\n",
       "      <td>0.063153</td>\n",
       "      <td>0.005750</td>\n",
       "      <td>0.002563</td>\n",
       "      <td>5.107500</td>\n",
       "      <td>5.825000</td>\n",
       "      <td>8895960.0</td>\n",
       "      <td>27259.480674</td>\n",
       "      <td>2.405958</td>\n",
       "      <td>26.5</td>\n",
       "      <td>0</td>\n",
       "      <td>1</td>\n",
       "      <td>0</td>\n",
       "      <td>0</td>\n",
       "    </tr>\n",
       "    <tr>\n",
       "      <th>1</th>\n",
       "      <td>2002</td>\n",
       "      <td>Sweden</td>\n",
       "      <td>SWE</td>\n",
       "      <td>78.000000</td>\n",
       "      <td>28.0</td>\n",
       "      <td>0.074421</td>\n",
       "      <td>0.066268</td>\n",
       "      <td>0.005462</td>\n",
       "      <td>0.002885</td>\n",
       "      <td>5.303333</td>\n",
       "      <td>5.950000</td>\n",
       "      <td>8924958.0</td>\n",
       "      <td>29957.938765</td>\n",
       "      <td>2.158482</td>\n",
       "      <td>26.2</td>\n",
       "      <td>0</td>\n",
       "      <td>1</td>\n",
       "      <td>0</td>\n",
       "      <td>0</td>\n",
       "    </tr>\n",
       "    <tr>\n",
       "      <th>2</th>\n",
       "      <td>2003</td>\n",
       "      <td>Sweden</td>\n",
       "      <td>SWE</td>\n",
       "      <td>77.199997</td>\n",
       "      <td>28.0</td>\n",
       "      <td>0.073959</td>\n",
       "      <td>0.068195</td>\n",
       "      <td>0.005385</td>\n",
       "      <td>0.002733</td>\n",
       "      <td>4.638333</td>\n",
       "      <td>6.566667</td>\n",
       "      <td>8958229.0</td>\n",
       "      <td>37292.421434</td>\n",
       "      <td>1.925655</td>\n",
       "      <td>25.3</td>\n",
       "      <td>0</td>\n",
       "      <td>1</td>\n",
       "      <td>0</td>\n",
       "      <td>0</td>\n",
       "    </tr>\n",
       "    <tr>\n",
       "      <th>3</th>\n",
       "      <td>2004</td>\n",
       "      <td>Sweden</td>\n",
       "      <td>SWE</td>\n",
       "      <td>76.400002</td>\n",
       "      <td>28.0</td>\n",
       "      <td>0.072734</td>\n",
       "      <td>0.066088</td>\n",
       "      <td>0.005046</td>\n",
       "      <td>0.002877</td>\n",
       "      <td>4.425000</td>\n",
       "      <td>7.375000</td>\n",
       "      <td>8993531.0</td>\n",
       "      <td>42758.201550</td>\n",
       "      <td>0.373660</td>\n",
       "      <td>26.1</td>\n",
       "      <td>0</td>\n",
       "      <td>1</td>\n",
       "      <td>0</td>\n",
       "      <td>0</td>\n",
       "    </tr>\n",
       "    <tr>\n",
       "      <th>4</th>\n",
       "      <td>2005</td>\n",
       "      <td>Sweden</td>\n",
       "      <td>SWE</td>\n",
       "      <td>75.699997</td>\n",
       "      <td>28.0</td>\n",
       "      <td>0.072877</td>\n",
       "      <td>0.066296</td>\n",
       "      <td>0.003736</td>\n",
       "      <td>0.002917</td>\n",
       "      <td>3.382500</td>\n",
       "      <td>7.783333</td>\n",
       "      <td>9029572.0</td>\n",
       "      <td>43378.615212</td>\n",
       "      <td>0.453171</td>\n",
       "      <td>26.8</td>\n",
       "      <td>0</td>\n",
       "      <td>1</td>\n",
       "      <td>0</td>\n",
       "      <td>0</td>\n",
       "    </tr>\n",
       "    <tr>\n",
       "      <th>...</th>\n",
       "      <td>...</td>\n",
       "      <td>...</td>\n",
       "      <td>...</td>\n",
       "      <td>...</td>\n",
       "      <td>...</td>\n",
       "      <td>...</td>\n",
       "      <td>...</td>\n",
       "      <td>...</td>\n",
       "      <td>...</td>\n",
       "      <td>...</td>\n",
       "      <td>...</td>\n",
       "      <td>...</td>\n",
       "      <td>...</td>\n",
       "      <td>...</td>\n",
       "      <td>...</td>\n",
       "      <td>...</td>\n",
       "      <td>...</td>\n",
       "      <td>...</td>\n",
       "      <td>...</td>\n",
       "    </tr>\n",
       "    <tr>\n",
       "      <th>395</th>\n",
       "      <td>2015</td>\n",
       "      <td>Finland</td>\n",
       "      <td>FIN</td>\n",
       "      <td>67.500000</td>\n",
       "      <td>20.0</td>\n",
       "      <td>0.063628</td>\n",
       "      <td>0.072967</td>\n",
       "      <td>0.004367</td>\n",
       "      <td>0.002398</td>\n",
       "      <td>0.723333</td>\n",
       "      <td>9.458333</td>\n",
       "      <td>5479531.0</td>\n",
       "      <td>42560.345677</td>\n",
       "      <td>-0.207929</td>\n",
       "      <td>27.1</td>\n",
       "      <td>0</td>\n",
       "      <td>1</td>\n",
       "      <td>0</td>\n",
       "      <td>0</td>\n",
       "    </tr>\n",
       "    <tr>\n",
       "      <th>396</th>\n",
       "      <td>2016</td>\n",
       "      <td>Finland</td>\n",
       "      <td>FIN</td>\n",
       "      <td>65.699997</td>\n",
       "      <td>20.0</td>\n",
       "      <td>0.062434</td>\n",
       "      <td>0.072201</td>\n",
       "      <td>0.005007</td>\n",
       "      <td>0.002295</td>\n",
       "      <td>0.365000</td>\n",
       "      <td>8.916667</td>\n",
       "      <td>5495303.0</td>\n",
       "      <td>43451.256244</td>\n",
       "      <td>0.356685</td>\n",
       "      <td>27.1</td>\n",
       "      <td>0</td>\n",
       "      <td>1</td>\n",
       "      <td>0</td>\n",
       "      <td>0</td>\n",
       "    </tr>\n",
       "    <tr>\n",
       "      <th>397</th>\n",
       "      <td>2017</td>\n",
       "      <td>Finland</td>\n",
       "      <td>FIN</td>\n",
       "      <td>62.900002</td>\n",
       "      <td>20.0</td>\n",
       "      <td>0.058111</td>\n",
       "      <td>0.070630</td>\n",
       "      <td>0.005621</td>\n",
       "      <td>0.002109</td>\n",
       "      <td>0.546667</td>\n",
       "      <td>8.766667</td>\n",
       "      <td>5508214.0</td>\n",
       "      <td>46085.017474</td>\n",
       "      <td>0.754015</td>\n",
       "      <td>27.4</td>\n",
       "      <td>0</td>\n",
       "      <td>1</td>\n",
       "      <td>0</td>\n",
       "      <td>0</td>\n",
       "    </tr>\n",
       "    <tr>\n",
       "      <th>398</th>\n",
       "      <td>2018</td>\n",
       "      <td>Finland</td>\n",
       "      <td>FIN</td>\n",
       "      <td>60.000000</td>\n",
       "      <td>20.0</td>\n",
       "      <td>0.057562</td>\n",
       "      <td>0.071478</td>\n",
       "      <td>0.006421</td>\n",
       "      <td>0.002053</td>\n",
       "      <td>0.661667</td>\n",
       "      <td>7.433333</td>\n",
       "      <td>5515525.0</td>\n",
       "      <td>49654.249704</td>\n",
       "      <td>1.083821</td>\n",
       "      <td>27.3</td>\n",
       "      <td>0</td>\n",
       "      <td>1</td>\n",
       "      <td>0</td>\n",
       "      <td>0</td>\n",
       "    </tr>\n",
       "    <tr>\n",
       "      <th>399</th>\n",
       "      <td>2019</td>\n",
       "      <td>Finland</td>\n",
       "      <td>FIN</td>\n",
       "      <td>58.799999</td>\n",
       "      <td>20.0</td>\n",
       "      <td>0.058524</td>\n",
       "      <td>0.072091</td>\n",
       "      <td>0.006251</td>\n",
       "      <td>0.002008</td>\n",
       "      <td>0.070000</td>\n",
       "      <td>6.741667</td>\n",
       "      <td>5521606.0</td>\n",
       "      <td>48358.180777</td>\n",
       "      <td>1.024094</td>\n",
       "      <td>27.7</td>\n",
       "      <td>0</td>\n",
       "      <td>1</td>\n",
       "      <td>0</td>\n",
       "      <td>0</td>\n",
       "    </tr>\n",
       "  </tbody>\n",
       "</table>\n",
       "<p>400 rows × 19 columns</p>\n",
       "</div>"
      ],
      "text/plain": [
       "     TIME_PERIOD Reference area REF_AREA  Trade union density  \\\n",
       "0           2001         Sweden      SWE            78.699997   \n",
       "1           2002         Sweden      SWE            78.000000   \n",
       "2           2003         Sweden      SWE            77.199997   \n",
       "3           2004         Sweden      SWE            76.400002   \n",
       "4           2005         Sweden      SWE            75.699997   \n",
       "..           ...            ...      ...                  ...   \n",
       "395         2015        Finland      FIN            67.500000   \n",
       "396         2016        Finland      FIN            65.699997   \n",
       "397         2017        Finland      FIN            62.900002   \n",
       "398         2018        Finland      FIN            60.000000   \n",
       "399         2019        Finland      FIN            58.799999   \n",
       "\n",
       "     Combined corporate income tax rate  Education spending  Health spending  \\\n",
       "0                                  28.0            0.073432         0.063153   \n",
       "1                                  28.0            0.074421         0.066268   \n",
       "2                                  28.0            0.073959         0.068195   \n",
       "3                                  28.0            0.072734         0.066088   \n",
       "4                                  28.0            0.072877         0.066296   \n",
       "..                                  ...                 ...              ...   \n",
       "395                                20.0            0.063628         0.072967   \n",
       "396                                20.0            0.062434         0.072201   \n",
       "397                                20.0            0.058111         0.070630   \n",
       "398                                20.0            0.057562         0.071478   \n",
       "399                                20.0            0.058524         0.072091   \n",
       "\n",
       "     Housing spending  Community development spending      IRLT     UNEMP  \\\n",
       "0            0.005750                        0.002563  5.107500  5.825000   \n",
       "1            0.005462                        0.002885  5.303333  5.950000   \n",
       "2            0.005385                        0.002733  4.638333  6.566667   \n",
       "3            0.005046                        0.002877  4.425000  7.375000   \n",
       "4            0.003736                        0.002917  3.382500  7.783333   \n",
       "..                ...                             ...       ...       ...   \n",
       "395          0.004367                        0.002398  0.723333  9.458333   \n",
       "396          0.005007                        0.002295  0.365000  8.916667   \n",
       "397          0.005621                        0.002109  0.546667  8.766667   \n",
       "398          0.006421                        0.002053  0.661667  7.433333   \n",
       "399          0.006251                        0.002008  0.070000  6.741667   \n",
       "\n",
       "     Population, total  GDP per capita (current US$)  \\\n",
       "0            8895960.0                  27259.480674   \n",
       "1            8924958.0                  29957.938765   \n",
       "2            8958229.0                  37292.421434   \n",
       "3            8993531.0                  42758.201550   \n",
       "4            9029572.0                  43378.615212   \n",
       "..                 ...                           ...   \n",
       "395          5479531.0                  42560.345677   \n",
       "396          5495303.0                  43451.256244   \n",
       "397          5508214.0                  46085.017474   \n",
       "398          5515525.0                  49654.249704   \n",
       "399          5521606.0                  48358.180777   \n",
       "\n",
       "     Inflation, consumer prices (annual %)  Gini index  \\\n",
       "0                                 2.405958        26.5   \n",
       "1                                 2.158482        26.2   \n",
       "2                                 1.925655        25.3   \n",
       "3                                 0.373660        26.1   \n",
       "4                                 0.453171        26.8   \n",
       "..                                     ...         ...   \n",
       "395                              -0.207929        27.1   \n",
       "396                               0.356685        27.1   \n",
       "397                               0.754015        27.4   \n",
       "398                               1.083821        27.3   \n",
       "399                               1.024094        27.7   \n",
       "\n",
       "     Region_East Asia and Pacific  Region_Europe and Central Asia  \\\n",
       "0                               0                               1   \n",
       "1                               0                               1   \n",
       "2                               0                               1   \n",
       "3                               0                               1   \n",
       "4                               0                               1   \n",
       "..                            ...                             ...   \n",
       "395                             0                               1   \n",
       "396                             0                               1   \n",
       "397                             0                               1   \n",
       "398                             0                               1   \n",
       "399                             0                               1   \n",
       "\n",
       "     Region_Latin America and Caribbean  Region_Middle East and North Africa  \n",
       "0                                     0                                    0  \n",
       "1                                     0                                    0  \n",
       "2                                     0                                    0  \n",
       "3                                     0                                    0  \n",
       "4                                     0                                    0  \n",
       "..                                  ...                                  ...  \n",
       "395                                   0                                    0  \n",
       "396                                   0                                    0  \n",
       "397                                   0                                    0  \n",
       "398                                   0                                    0  \n",
       "399                                   0                                    0  \n",
       "\n",
       "[400 rows x 19 columns]"
      ]
     },
     "execution_count": 3,
     "metadata": {},
     "output_type": "execute_result"
    }
   ],
   "source": [
    "master_df = pd.get_dummies(megaframe, columns=['Region'], dtype=int)\n",
    "master_df"
   ]
  },
  {
   "cell_type": "code",
   "execution_count": null,
   "id": "83841d76",
   "metadata": {},
   "outputs": [
    {
     "data": {
      "text/plain": [
       "array([1., 1., 1., 1., 1., 1., 1., 1., 1., 1., 1., 1., 1., 1., 1.])"
      ]
     },
     "execution_count": 4,
     "metadata": {},
     "output_type": "execute_result"
    }
   ],
   "source": [
    "# Create X y and initial w\n",
    "\n",
    "population_log = False\n",
    "\n",
    "X_df = pd.get_dummies(megaframe, columns=['Region'], dtype=int)\n",
    "if population_log:\n",
    "    target_idx = X_df.columns.get_loc('Population, total')\n",
    "    log_pop = X_df['Population, total'].apply(lambda x: math.log(x,10))\n",
    "    X_df.insert(target_idx + 1, 'Log Population', log_pop)\n",
    "    X_df.drop(labels=['Population, total'], axis=1)\n",
    "X_df = X_df.drop(labels=['TIME_PERIOD', 'Reference area', 'REF_AREA', 'Gini index'], axis=1)\n",
    "X = X_df.to_numpy()\n",
    "\n",
    "# Standardize all except dummies\n",
    "\n",
    "# Set number of the last x columns not to standardize (dummies)\n",
    "num_exclude = 4\n",
    "\n",
    "\n",
    "X_main = X[:, :-num_exclude]\n",
    "X_last = X[:, -num_exclude:]\n",
    "\n",
    "# Standardize the first part\n",
    "mean = X_main.mean(axis=0)\n",
    "std = X_main.std(axis=0)\n",
    "X_main_standardized = (X_main - mean) / std\n",
    "\n",
    "# Concatenate back together\n",
    "X = np.hstack([X_main_standardized, X_last])\n",
    "\n",
    "# Create y columns\n",
    "y = master_df['Gini index'].apply(lambda x: x/100).to_numpy()\n",
    "w = np.ones(len(X[0]))"
   ]
  },
  {
   "cell_type": "code",
   "execution_count": null,
   "id": "86fa17a4",
   "metadata": {},
   "outputs": [
    {
     "data": {
      "text/html": [
       "<div>\n",
       "<style scoped>\n",
       "    .dataframe tbody tr th:only-of-type {\n",
       "        vertical-align: middle;\n",
       "    }\n",
       "\n",
       "    .dataframe tbody tr th {\n",
       "        vertical-align: top;\n",
       "    }\n",
       "\n",
       "    .dataframe thead th {\n",
       "        text-align: right;\n",
       "    }\n",
       "</style>\n",
       "<table border=\"1\" class=\"dataframe\">\n",
       "  <thead>\n",
       "    <tr style=\"text-align: right;\">\n",
       "      <th></th>\n",
       "      <th>Model</th>\n",
       "      <th>DateAdded</th>\n",
       "      <th>Trade union density</th>\n",
       "      <th>Combined corporate income tax rate</th>\n",
       "      <th>Education spending</th>\n",
       "      <th>Health spending</th>\n",
       "      <th>Housing spending</th>\n",
       "      <th>Community development spending</th>\n",
       "      <th>IRLT</th>\n",
       "      <th>UNEMP</th>\n",
       "      <th>Population, total</th>\n",
       "      <th>GDP per capita (current US$)</th>\n",
       "      <th>Inflation, consumer prices (annual %)</th>\n",
       "      <th>Region_East Asia and Pacific</th>\n",
       "      <th>Region_Europe and Central Asia</th>\n",
       "      <th>Region_Latin America and Caribbean</th>\n",
       "      <th>Region_Middle East and North Africa</th>\n",
       "    </tr>\n",
       "  </thead>\n",
       "  <tbody>\n",
       "    <tr>\n",
       "      <th>0</th>\n",
       "      <td>Linear Regression</td>\n",
       "      <td>2025-06-05</td>\n",
       "      <td>-0.015902</td>\n",
       "      <td>-0.002658</td>\n",
       "      <td>0.010918</td>\n",
       "      <td>-0.009051</td>\n",
       "      <td>0.002993</td>\n",
       "      <td>-0.000433</td>\n",
       "      <td>0.001753</td>\n",
       "      <td>0.011690</td>\n",
       "      <td>0.01355</td>\n",
       "      <td>0.009428</td>\n",
       "      <td>0.004860</td>\n",
       "      <td>0.325422</td>\n",
       "      <td>0.306848</td>\n",
       "      <td>0.496299</td>\n",
       "      <td>0.381707</td>\n",
       "    </tr>\n",
       "    <tr>\n",
       "      <th>1</th>\n",
       "      <td>Logistic Regression</td>\n",
       "      <td>2025-06-05</td>\n",
       "      <td>-0.073036</td>\n",
       "      <td>-0.012716</td>\n",
       "      <td>0.048282</td>\n",
       "      <td>-0.036087</td>\n",
       "      <td>0.012650</td>\n",
       "      <td>-0.001524</td>\n",
       "      <td>0.010230</td>\n",
       "      <td>0.057003</td>\n",
       "      <td>0.06351</td>\n",
       "      <td>0.045335</td>\n",
       "      <td>0.024353</td>\n",
       "      <td>-0.735174</td>\n",
       "      <td>-0.819803</td>\n",
       "      <td>-0.026075</td>\n",
       "      <td>0.123412</td>\n",
       "    </tr>\n",
       "  </tbody>\n",
       "</table>\n",
       "</div>"
      ],
      "text/plain": [
       "                 Model   DateAdded  Trade union density  \\\n",
       "0    Linear Regression  2025-06-05            -0.015902   \n",
       "1  Logistic Regression  2025-06-05            -0.073036   \n",
       "\n",
       "   Combined corporate income tax rate  Education spending  Health spending  \\\n",
       "0                           -0.002658            0.010918        -0.009051   \n",
       "1                           -0.012716            0.048282        -0.036087   \n",
       "\n",
       "   Housing spending  Community development spending      IRLT     UNEMP  \\\n",
       "0          0.002993                       -0.000433  0.001753  0.011690   \n",
       "1          0.012650                       -0.001524  0.010230  0.057003   \n",
       "\n",
       "   Population, total  GDP per capita (current US$)  \\\n",
       "0            0.01355                      0.009428   \n",
       "1            0.06351                      0.045335   \n",
       "\n",
       "   Inflation, consumer prices (annual %)  Region_East Asia and Pacific  \\\n",
       "0                               0.004860                      0.325422   \n",
       "1                               0.024353                     -0.735174   \n",
       "\n",
       "   Region_Europe and Central Asia  Region_Latin America and Caribbean  \\\n",
       "0                        0.306848                            0.496299   \n",
       "1                       -0.819803                           -0.026075   \n",
       "\n",
       "   Region_Middle East and North Africa  \n",
       "0                             0.381707  \n",
       "1                             0.123412  "
      ]
     },
     "execution_count": 20,
     "metadata": {},
     "output_type": "execute_result"
    }
   ],
   "source": [
    "# Create models and add to csv\n",
    "date_str = datetime.today().strftime(\"%Y-%m-%d\")\n",
    "column_names = X_df.columns\n",
    "lin_weights = lin_regress(X,y)\n",
    "lin_weights_dict = {column_names[i]: lin_weights[i] for i in range(len(lin_weights))}\n",
    "log_weights = log_regress(X,y,w,alpha=.0038,max_iter=1000)\n",
    "log_weights_dict = {column_names[i]: log_weights[i] for i in range(len(log_weights))}\n",
    "weights_df = pd.DataFrame([lin_weights_dict, log_weights_dict])\n",
    "weights_df.insert(0, 'Model', ['Linear Regression', 'Logistic Regression'])\n",
    "weights_df.insert(1, 'DateAdded', [date_str, date_str])\n",
    "weights_df.to_csv('model_weights.csv', index=False)\n",
    "weights_df"
   ]
  },
  {
   "cell_type": "code",
   "execution_count": 26,
   "id": "ace827fc",
   "metadata": {},
   "outputs": [
    {
     "data": {
      "text/plain": [
       "0.7630732165911714"
      ]
     },
     "execution_count": 26,
     "metadata": {},
     "output_type": "execute_result"
    }
   ],
   "source": [
    "predictions = []\n",
    "for x in X:\n",
    "    y_hat = np.dot(x, lin_weights)\n",
    "    predictions.append(y_hat)\n",
    "\n",
    "column_names = X_df.columns\n",
    "lin_results = {\n",
    "    'ypreds': predictions,\n",
    "    'mse': mean_squared_error(y, predictions),\n",
    "    'r2': r2_score(y, predictions),\n",
    "    'resids': [y[i] - predictions[i] for i in range(len(y))],\n",
    "    'coefficients': {column_names[i]: lin_weights[i] for i in range(len(lin_weights))}\n",
    "}\n",
    "lin_results['r2']"
   ]
  },
  {
   "cell_type": "code",
   "execution_count": 27,
   "id": "2a5c358f",
   "metadata": {},
   "outputs": [
    {
     "data": {
      "text/plain": [
       "0.7409933358435599"
      ]
     },
     "execution_count": 27,
     "metadata": {},
     "output_type": "execute_result"
    }
   ],
   "source": [
    "predictions = []\n",
    "for x in X:\n",
    "    dot_prod = np.dot(x, log_weights)\n",
    "    y_hat = 1 / (1 + np.exp(-dot_prod))\n",
    "    predictions.append(y_hat)\n",
    "\n",
    "column_names = X_df.columns\n",
    "log_results = {\n",
    "    'ypreds': predictions,\n",
    "    'mse': mean_squared_error(y, predictions),\n",
    "    'r2': r2_score(y, predictions),\n",
    "    'resids': [y[i] - predictions[i] for i in range(len(y))],\n",
    "    'coefficients': {column_names[i]: log_weights[i] for i in range(len(log_weights))}\n",
    "}\n",
    "log_results['r2']"
   ]
  },
  {
   "cell_type": "code",
   "execution_count": 17,
   "id": "d001932d",
   "metadata": {},
   "outputs": [
    {
     "data": {
      "text/plain": [
       "0.6442772357691374"
      ]
     },
     "execution_count": 17,
     "metadata": {},
     "output_type": "execute_result"
    }
   ],
   "source": [
    "# Linear regression cross-validation\n",
    "X_train, X_test, y_train, y_test = train_test_split(\n",
    "    X, y, test_size=0.3, random_state=3)\n",
    "\n",
    "cval_weights = lin_regress(X_train,y_train)\n",
    "predictions = []\n",
    "for x in X_test:\n",
    "    y_hat = np.dot(x,cval_weights)\n",
    "    predictions.append(y_hat)\n",
    "\n",
    "column_names = X_df.columns\n",
    "lin_cval_results = {\n",
    "    'ypreds': predictions,\n",
    "    'mse': mean_squared_error(y_test, predictions),\n",
    "    'r2': r2_score(y_test, predictions),\n",
    "    'resids': [y_test[i] - predictions[i] for i in range(len(y_test))],\n",
    "    'coefficients': {column_names[i]: cval_weights[i] for i in range(len(cval_weights))}\n",
    "}\n",
    "lin_cval_results['r2']"
   ]
  },
  {
   "cell_type": "code",
   "execution_count": null,
   "id": "cbfdea5b",
   "metadata": {},
   "outputs": [
    {
     "data": {
      "text/plain": [
       "0.6326129827593359"
      ]
     },
     "execution_count": 15,
     "metadata": {},
     "output_type": "execute_result"
    }
   ],
   "source": [
    "#logistic regression cross-validation\n",
    "X_train, X_test, y_train, y_test = train_test_split(\n",
    "    X, y, test_size=0.3, random_state=3)\n",
    "\n",
    "cval_weights = log_regress(X_train,y_train,w,alpha=.0038,max_iter=1000)\n",
    "predictions = []\n",
    "for x in X_test:\n",
    "    dot_prod = np.dot(x, cval_weights)\n",
    "    y_hat = 1 / (1 + np.exp(-dot_prod))\n",
    "    predictions.append(y_hat)\n",
    "\n",
    "column_names = X_df.columns\n",
    "log_cval_results = {\n",
    "    'ypreds': predictions,\n",
    "    'mse': mean_squared_error(y_test, predictions),\n",
    "    'r2': r2_score(y_test, predictions),\n",
    "    'resids': [y_test[i] - predictions[i] for i in range(len(y_test))],\n",
    "    'coefficients': {column_names[i]: cval_weights[i] for i in range(len(cval_weights))}\n",
    "}\n",
    "log_cval_results['r2']"
   ]
  },
  {
   "cell_type": "code",
   "execution_count": 22,
   "id": "c8d2e8d6",
   "metadata": {},
   "outputs": [
    {
     "name": "stdout",
     "output_type": "stream",
     "text": [
      "linear r2: 0.6442772357691374\n",
      "logistic r2: 0.6326129827593359\n"
     ]
    }
   ],
   "source": [
    "print('linear r2:', lin_cval_results['r2'])\n",
    "print('logistic r2:', log_cval_results['r2'])"
   ]
  },
  {
   "cell_type": "code",
   "execution_count": 32,
   "id": "8f964675",
   "metadata": {},
   "outputs": [
    {
     "data": {
      "application/vnd.plotly.v1+json": {
       "config": {
        "plotlyServerURL": "https://plot.ly"
       },
       "data": [
        {
         "hovertemplate": "Predicted values=%{x}<br>Actual values=%{y}<extra></extra>",
         "legendgroup": "",
         "marker": {
          "color": "#636efa",
          "symbol": "circle"
         },
         "mode": "markers",
         "name": "",
         "orientation": "v",
         "showlegend": false,
         "type": "scatter",
         "x": [
          0.2744325279244926,
          0.2749178104952631,
          0.2776614393455602,
          0.2782078795167676,
          0.27835507248328367,
          0.2810894712433277,
          0.28442850209218973,
          0.2898175749698273,
          0.2827272326131144,
          0.28916581084828435,
          0.2938263859413638,
          0.28776617861468734,
          0.28863294991441546,
          0.2880512103495993,
          0.28266154896929996,
          0.2849604470252036,
          0.2882398622945833,
          0.2887489301449807,
          0.28897307949198603,
          0.2915591681247622,
          0.29422008143491585,
          0.2946891736338887,
          0.29180192076378586,
          0.29645421286702045,
          0.3023285417573986,
          0.3107338843230097,
          0.31500092374064476,
          0.3014393037598004,
          0.31520897313910295,
          0.3347663220675101,
          0.3284981725796362,
          0.31889254393238653,
          0.3147105335819922,
          0.30823228128677077,
          0.3063219201694457,
          0.30621066624335025,
          0.30724307763092223,
          0.3071493999915099,
          0.30381793742801594,
          0.3078250340651106,
          0.3112992936471955,
          0.3077044155396868,
          0.3060395970066816,
          0.3039649712013397,
          0.30450261460750494,
          0.3122143843610704,
          0.3061875402414109,
          0.3080421303601207,
          0.3133581762433879,
          0.31988157300258585,
          0.31907115806721514,
          0.3168339220517227,
          0.3113803108665243,
          0.31060151182564766,
          0.31595144559593485,
          0.3154301317270558,
          0.3106460286133452,
          0.3298365472868188,
          0.3253510426598618,
          0.32455100564993306,
          0.33579632601239146,
          0.34243832007922,
          0.3410090747498505,
          0.32868352082225655,
          0.3349634905985028,
          0.5196445892871336,
          0.5036498065669212,
          0.5002420106168316,
          0.5098753696778254,
          0.5181869636523331,
          0.5202203605547442,
          0.35483266430183025,
          0.35100528164352085,
          0.3474898138375253,
          0.29616468395482437,
          0.29841498302619307,
          0.3219659479830754,
          0.33471489755301215,
          0.33085537983173324,
          0.3314402682593769,
          0.32266466368957225,
          0.3117824234104794,
          0.3050609976761056,
          0.3054724950760798,
          0.30416200358028983,
          0.3086441075427009,
          0.3033209736585117,
          0.301965208501117,
          0.3318723185652422,
          0.31233320834605954,
          0.311732526905725,
          0.30279859807698073,
          0.3052395854199871,
          0.3030211472649137,
          0.30576313284429296,
          0.3119322032027019,
          0.3125098589821973,
          0.31530317836370064,
          0.30512669864585606,
          0.2991028410328507,
          0.29123924176885485,
          0.29353306381504624,
          0.29750379323767273,
          0.3170062026163659,
          0.32453149899222944,
          0.3258671472679106,
          0.32920647165246736,
          0.3371263401651577,
          0.3409203568536177,
          0.33982142696685286,
          0.3388778165256739,
          0.34125694557271136,
          0.3319949202451135,
          0.33229858726632944,
          0.3333730980274582,
          0.32866476098953373,
          0.32780898422337224,
          0.3241213559707807,
          0.3185625549467864,
          0.3178150179225839,
          0.3214193609761645,
          0.32269181314652245,
          0.32039742120048276,
          0.26558521458948753,
          0.27121070908287565,
          0.27198233946986883,
          0.2698552677660134,
          0.2685450856324171,
          0.2681003496928626,
          0.2745237504484694,
          0.2755019741859548,
          0.28440020288253415,
          0.28510734287348155,
          0.28181098212921507,
          0.27820703509216216,
          0.27827782208193214,
          0.2721157766837543,
          0.27100916185263785,
          0.272633964936795,
          0.27038540512213394,
          0.26833980749232167,
          0.28266053934001667,
          0.29005644835644556,
          0.29126539984333794,
          0.2966632489478081,
          0.3034445844450537,
          0.31557047519791576,
          0.30516456886980065,
          0.3111057475480304,
          0.3176830597335358,
          0.3137229683828665,
          0.31425004229348474,
          0.31269376528173815,
          0.3061379686484277,
          0.30624935791804325,
          0.3104491717344911,
          0.31491338864536145,
          0.3162018859189032,
          0.2746126410483162,
          0.27156441820292,
          0.27415894703058963,
          0.29210794292196085,
          0.298623400892818,
          0.2828069803601745,
          0.2935282639335903,
          0.2940621324607061,
          0.30604451593567683,
          0.3096745678916006,
          0.2980393571485779,
          0.29163550290765156,
          0.32568201422991316,
          0.32536674575850894,
          0.325404444006388,
          0.3195698536406811,
          0.3196015944896315,
          0.320066414899501,
          0.33489113785884894,
          0.34079082637252445,
          0.35453662533554425,
          0.3657800519155651,
          0.37300817836049965,
          0.373525620108911,
          0.36250998356381314,
          0.35280357927796724,
          0.34741092706714816,
          0.3470637686560178,
          0.3406438646258564,
          0.333539069966744,
          0.32821970214071855,
          0.3316743397469019,
          0.3270341288854605,
          0.3301808948786636,
          0.3318891644937329,
          0.3266767933217888,
          0.32842401844017094,
          0.33171388866787205,
          0.3336544313506246,
          0.30711265267127824,
          0.3089522541287787,
          0.30253483885372895,
          0.3066517554401507,
          0.3113957733545687,
          0.30607355883668064,
          0.3058407864253809,
          0.3089209704066178,
          0.3084861617214467,
          0.313843366882565,
          0.3106986364159258,
          0.30531041539225673,
          0.3044118883091674,
          0.30436584333808125,
          0.30338525358904694,
          0.30393467265531365,
          0.30700992464396537,
          0.30715449948256707,
          0.31259967582581655,
          0.3097763489805752,
          0.3061493455832067,
          0.32153126874472837,
          0.33401059391684823,
          0.3115960007514906,
          0.3068704865967727,
          0.5231576942580799,
          0.5137984691710022,
          0.514750473183293,
          0.5057615488947215,
          0.49845064383840165,
          0.49416690961952947,
          0.5000835746323723,
          0.5100733755521124,
          0.4990831805256026,
          0.36531604790161315,
          0.35836217485700456,
          0.34541578074354756,
          0.33554996850936236,
          0.3317088093664992,
          0.33165332462074787,
          0.3339285769910472,
          0.33984598463858884,
          0.33858963240383005,
          0.3229520251648033,
          0.310161877998161,
          0.3142516515252137,
          0.2693285491365646,
          0.27585433131229403,
          0.2721513839094987,
          0.2775417034363852,
          0.279607511280848,
          0.2784636639706979,
          0.2914948555994881,
          0.2831000218815279,
          0.2870732584943591,
          0.2872259463094694,
          0.28395111558804026,
          0.28917819546462975,
          0.2860667285936814,
          0.2799647120048527,
          0.2828761996893684,
          0.279873452224929,
          0.28395835363911276,
          0.2786990033946376,
          0.3277558344402542,
          0.32255877145824013,
          0.33045609365033296,
          0.33232387753907294,
          0.3085912944989026,
          0.29863604075542993,
          0.30672068649067713,
          0.27818022917297797,
          0.28029449001981854,
          0.2831169224741113,
          0.2813051309680385,
          0.2816009446508126,
          0.28832591936908725,
          0.2778182669770354,
          0.28481665783473564,
          0.2876353466341325,
          0.2842275240966354,
          0.28375999164178334,
          0.2815161605422299,
          0.28010118227080005,
          0.2823844568742857,
          0.28268735900480446,
          0.28235970067458016,
          0.27869046178010365,
          0.52808082194088,
          0.2728166587785908,
          0.2746263243080141,
          0.2786483745224402,
          0.283201188102329,
          0.2831438318998169,
          0.286351056627236,
          0.28988940577280586,
          0.28534414387915735,
          0.2865171309410252,
          0.29150033522594976,
          0.288272560354,
          0.28904274116819073,
          0.28785175726513834,
          0.28242731761816176,
          0.2836789380584033,
          0.2858979882900326,
          0.28477819735835447,
          0.2813665234629037,
          0.3015858502174359,
          0.2991838780023867,
          0.3198060142775233,
          0.35909145305733386,
          0.34051938087014727,
          0.2613074930197024,
          0.26761237864028115,
          0.2736142951014545,
          0.28032807324136494,
          0.27844286184845957,
          0.2981660326170278,
          0.3059504342413636,
          0.28821132997914584,
          0.28623531170357625,
          0.28112869595555123,
          0.2714662245699555,
          0.26649465836701736,
          0.2597063593017482,
          0.2586249772862926,
          0.26163365546941275,
          0.32173754302144625,
          0.32123951902540293,
          0.3260384112942804,
          0.32513625945202423,
          0.32536163894777365,
          0.3270301079560722,
          0.3315110868587524,
          0.3346538304174532,
          0.338693828032402,
          0.3371503104910536,
          0.34224375251165445,
          0.34721244609637814,
          0.34178428359857144,
          0.33940274639587575,
          0.33488678760702506,
          0.3268444636829103,
          0.3244657151650467,
          0.3274341073154614,
          0.32515048297976823,
          0.3199657331908692,
          0.3408100062117577,
          0.338305900925867,
          0.3401271184056377,
          0.34037288806229693,
          0.34207236135299773,
          0.3403947289280951,
          0.3448165973829895,
          0.34385725174110543,
          0.34282024723888727,
          0.3374077926396983,
          0.3282346627787718,
          0.339941522782519,
          0.37128866221582635,
          0.37462596583090785,
          0.3632181569893636,
          0.36368308450840814,
          0.3519242253008192,
          0.3358468690689332,
          0.32336564027480036,
          0.3168403557287881,
          0.31392990647263,
          0.32196533927227106,
          0.31405183807326903,
          0.28526378742466296,
          0.29124378779126153,
          0.2897587335594058,
          0.2921089274959463,
          0.287031900351714,
          0.2960889742836868,
          0.28672718787529833,
          0.2901491720903904,
          0.29141299598247833,
          0.2944582856647038,
          0.2904311704570281,
          0.28541575743106856,
          0.28045590747959903,
          0.27616772630943087,
          0.2796244802954586,
          0.2815532599956635,
          0.27209493469197016,
          0.2714927289199228,
          0.2712986646766208,
          0.272476398273695,
          0.2754886762608961,
          0.2801205498892236,
          0.2726401022370559,
          0.27669820984864424,
          0.282825977823608,
          0.27789585113555026,
          0.2773412698409801,
          0.2789356727062491,
          0.2773390015447005,
          0.2784874436503219,
          0.2804494056391138,
          0.28075279903776557,
          0.27863031046400843
         ],
         "xaxis": "x",
         "y": [
          0.265,
          0.262,
          0.253,
          0.261,
          0.268,
          0.264,
          0.271,
          0.281,
          0.273,
          0.27699999999999997,
          0.276,
          0.276,
          0.28800000000000003,
          0.284,
          0.292,
          0.29600000000000004,
          0.28800000000000003,
          0.3,
          0.293,
          0.33,
          0.32299999999999995,
          0.32899999999999996,
          0.336,
          0.33799999999999997,
          0.327,
          0.319,
          0.309,
          0.327,
          0.32299999999999995,
          0.32899999999999996,
          0.332,
          0.335,
          0.319,
          0.318,
          0.32799999999999996,
          0.314,
          0.306,
          0.308,
          0.292,
          0.34700000000000003,
          0.349,
          0.34299999999999997,
          0.33799999999999997,
          0.337,
          0.32899999999999996,
          0.33799999999999997,
          0.33799999999999997,
          0.34700000000000003,
          0.35100000000000003,
          0.35200000000000004,
          0.349,
          0.34700000000000003,
          0.354,
          0.35200000000000004,
          0.359,
          0.35200000000000004,
          0.34600000000000003,
          0.335,
          0.335,
          0.331,
          0.354,
          0.34700000000000003,
          0.344,
          0.337,
          0.34299999999999997,
          0.486,
          0.484,
          0.48700000000000004,
          0.483,
          0.48,
          0.48200000000000004,
          0.348,
          0.321,
          0.32899999999999996,
          0.344,
          0.348,
          0.35700000000000004,
          0.37200000000000005,
          0.336,
          0.325,
          0.35100000000000003,
          0.353,
          0.377,
          0.374,
          0.384,
          0.373,
          0.35700000000000004,
          0.353,
          0.271,
          0.293,
          0.258,
          0.247,
          0.26,
          0.272,
          0.273,
          0.265,
          0.261,
          0.281,
          0.261,
          0.265,
          0.252,
          0.23199999999999998,
          0.25,
          0.289,
          0.299,
          0.298,
          0.298,
          0.302,
          0.317,
          0.31,
          0.312,
          0.308,
          0.305,
          0.302,
          0.306,
          0.311,
          0.315,
          0.308,
          0.317,
          0.314,
          0.313,
          0.319,
          0.318,
          0.23800000000000002,
          0.256,
          0.249,
          0.252,
          0.259,
          0.262,
          0.252,
          0.267,
          0.272,
          0.273,
          0.278,
          0.285,
          0.284,
          0.282,
          0.282,
          0.287,
          0.282,
          0.27699999999999997,
          0.302,
          0.302,
          0.308,
          0.309,
          0.311,
          0.326,
          0.312,
          0.305,
          0.321,
          0.34299999999999997,
          0.32,
          0.312,
          0.32899999999999996,
          0.317,
          0.345,
          0.354,
          0.342,
          0.248,
          0.24600000000000002,
          0.244,
          0.244,
          0.237,
          0.248,
          0.249,
          0.249,
          0.256,
          0.262,
          0.257,
          0.254,
          0.341,
          0.318,
          0.33299999999999996,
          0.324,
          0.335,
          0.341,
          0.342,
          0.349,
          0.35200000000000004,
          0.35700000000000004,
          0.354,
          0.36200000000000004,
          0.361,
          0.36200000000000004,
          0.358,
          0.34700000000000003,
          0.34700000000000003,
          0.34299999999999997,
          0.326,
          0.317,
          0.316,
          0.325,
          0.325,
          0.32299999999999995,
          0.33,
          0.327,
          0.331,
          0.298,
          0.29,
          0.3,
          0.29600000000000004,
          0.293,
          0.27899999999999997,
          0.278,
          0.278,
          0.276,
          0.281,
          0.28600000000000003,
          0.282,
          0.282,
          0.285,
          0.281,
          0.292,
          0.38799999999999996,
          0.389,
          0.381,
          0.366,
          0.349,
          0.358,
          0.363,
          0.355,
          0.35200000000000004,
          0.5429999999999999,
          0.546,
          0.535,
          0.526,
          0.526,
          0.525,
          0.51,
          0.506,
          0.49700000000000005,
          0.38,
          0.358,
          0.34700000000000003,
          0.34,
          0.335,
          0.33399999999999996,
          0.332,
          0.332,
          0.33,
          0.32799999999999996,
          0.312,
          0.297,
          0.27399999999999997,
          0.276,
          0.316,
          0.306,
          0.264,
          0.271,
          0.27,
          0.262,
          0.257,
          0.253,
          0.257,
          0.264,
          0.268,
          0.275,
          0.285,
          0.27,
          0.276,
          0.27699999999999997,
          0.299,
          0.34700000000000003,
          0.275,
          0.308,
          0.309,
          0.303,
          0.29600000000000004,
          0.281,
          0.305,
          0.293,
          0.281,
          0.292,
          0.284,
          0.28600000000000003,
          0.284,
          0.281,
          0.275,
          0.27699999999999997,
          0.281,
          0.27699999999999997,
          0.276,
          0.27399999999999997,
          0.272,
          0.272,
          0.382,
          0.29,
          0.295,
          0.298,
          0.287,
          0.29600000000000004,
          0.306,
          0.304,
          0.315,
          0.303,
          0.308,
          0.305,
          0.308,
          0.305,
          0.305,
          0.308,
          0.297,
          0.308,
          0.302,
          0.336,
          0.34,
          0.341,
          0.361,
          0.35,
          0.268,
          0.28,
          0.29,
          0.302,
          0.295,
          0.318,
          0.287,
          0.262,
          0.268,
          0.268,
          0.254,
          0.278,
          0.268,
          0.272,
          0.261,
          0.38799999999999996,
          0.371,
          0.35100000000000003,
          0.349,
          0.348,
          0.355,
          0.359,
          0.344,
          0.354,
          0.35100000000000003,
          0.337,
          0.332,
          0.331,
          0.327,
          0.331,
          0.33299999999999996,
          0.331,
          0.326,
          0.337,
          0.32799999999999996,
          0.326,
          0.325,
          0.318,
          0.314,
          0.306,
          0.298,
          0.33,
          0.337,
          0.325,
          0.319,
          0.35600000000000004,
          0.375,
          0.37200000000000005,
          0.359,
          0.35,
          0.358,
          0.35200000000000004,
          0.355,
          0.35100000000000003,
          0.342,
          0.34299999999999997,
          0.35600000000000004,
          0.35100000000000003,
          0.266,
          0.275,
          0.26899999999999996,
          0.267,
          0.26,
          0.263,
          0.262,
          0.266,
          0.264,
          0.261,
          0.265,
          0.259,
          0.259,
          0.254,
          0.249,
          0.25,
          0.27699999999999997,
          0.27899999999999997,
          0.276,
          0.28,
          0.28300000000000003,
          0.278,
          0.275,
          0.27699999999999997,
          0.276,
          0.271,
          0.272,
          0.268,
          0.271,
          0.271,
          0.27399999999999997,
          0.273,
          0.27699999999999997
         ],
         "yaxis": "y"
        }
       ],
       "layout": {
        "legend": {
         "tracegroupgap": 0
        },
        "margin": {
         "t": 60
        },
        "template": {
         "data": {
          "bar": [
           {
            "error_x": {
             "color": "#2a3f5f"
            },
            "error_y": {
             "color": "#2a3f5f"
            },
            "marker": {
             "line": {
              "color": "#E5ECF6",
              "width": 0.5
             },
             "pattern": {
              "fillmode": "overlay",
              "size": 10,
              "solidity": 0.2
             }
            },
            "type": "bar"
           }
          ],
          "barpolar": [
           {
            "marker": {
             "line": {
              "color": "#E5ECF6",
              "width": 0.5
             },
             "pattern": {
              "fillmode": "overlay",
              "size": 10,
              "solidity": 0.2
             }
            },
            "type": "barpolar"
           }
          ],
          "carpet": [
           {
            "aaxis": {
             "endlinecolor": "#2a3f5f",
             "gridcolor": "white",
             "linecolor": "white",
             "minorgridcolor": "white",
             "startlinecolor": "#2a3f5f"
            },
            "baxis": {
             "endlinecolor": "#2a3f5f",
             "gridcolor": "white",
             "linecolor": "white",
             "minorgridcolor": "white",
             "startlinecolor": "#2a3f5f"
            },
            "type": "carpet"
           }
          ],
          "choropleth": [
           {
            "colorbar": {
             "outlinewidth": 0,
             "ticks": ""
            },
            "type": "choropleth"
           }
          ],
          "contour": [
           {
            "colorbar": {
             "outlinewidth": 0,
             "ticks": ""
            },
            "colorscale": [
             [
              0,
              "#0d0887"
             ],
             [
              0.1111111111111111,
              "#46039f"
             ],
             [
              0.2222222222222222,
              "#7201a8"
             ],
             [
              0.3333333333333333,
              "#9c179e"
             ],
             [
              0.4444444444444444,
              "#bd3786"
             ],
             [
              0.5555555555555556,
              "#d8576b"
             ],
             [
              0.6666666666666666,
              "#ed7953"
             ],
             [
              0.7777777777777778,
              "#fb9f3a"
             ],
             [
              0.8888888888888888,
              "#fdca26"
             ],
             [
              1,
              "#f0f921"
             ]
            ],
            "type": "contour"
           }
          ],
          "contourcarpet": [
           {
            "colorbar": {
             "outlinewidth": 0,
             "ticks": ""
            },
            "type": "contourcarpet"
           }
          ],
          "heatmap": [
           {
            "colorbar": {
             "outlinewidth": 0,
             "ticks": ""
            },
            "colorscale": [
             [
              0,
              "#0d0887"
             ],
             [
              0.1111111111111111,
              "#46039f"
             ],
             [
              0.2222222222222222,
              "#7201a8"
             ],
             [
              0.3333333333333333,
              "#9c179e"
             ],
             [
              0.4444444444444444,
              "#bd3786"
             ],
             [
              0.5555555555555556,
              "#d8576b"
             ],
             [
              0.6666666666666666,
              "#ed7953"
             ],
             [
              0.7777777777777778,
              "#fb9f3a"
             ],
             [
              0.8888888888888888,
              "#fdca26"
             ],
             [
              1,
              "#f0f921"
             ]
            ],
            "type": "heatmap"
           }
          ],
          "heatmapgl": [
           {
            "colorbar": {
             "outlinewidth": 0,
             "ticks": ""
            },
            "colorscale": [
             [
              0,
              "#0d0887"
             ],
             [
              0.1111111111111111,
              "#46039f"
             ],
             [
              0.2222222222222222,
              "#7201a8"
             ],
             [
              0.3333333333333333,
              "#9c179e"
             ],
             [
              0.4444444444444444,
              "#bd3786"
             ],
             [
              0.5555555555555556,
              "#d8576b"
             ],
             [
              0.6666666666666666,
              "#ed7953"
             ],
             [
              0.7777777777777778,
              "#fb9f3a"
             ],
             [
              0.8888888888888888,
              "#fdca26"
             ],
             [
              1,
              "#f0f921"
             ]
            ],
            "type": "heatmapgl"
           }
          ],
          "histogram": [
           {
            "marker": {
             "pattern": {
              "fillmode": "overlay",
              "size": 10,
              "solidity": 0.2
             }
            },
            "type": "histogram"
           }
          ],
          "histogram2d": [
           {
            "colorbar": {
             "outlinewidth": 0,
             "ticks": ""
            },
            "colorscale": [
             [
              0,
              "#0d0887"
             ],
             [
              0.1111111111111111,
              "#46039f"
             ],
             [
              0.2222222222222222,
              "#7201a8"
             ],
             [
              0.3333333333333333,
              "#9c179e"
             ],
             [
              0.4444444444444444,
              "#bd3786"
             ],
             [
              0.5555555555555556,
              "#d8576b"
             ],
             [
              0.6666666666666666,
              "#ed7953"
             ],
             [
              0.7777777777777778,
              "#fb9f3a"
             ],
             [
              0.8888888888888888,
              "#fdca26"
             ],
             [
              1,
              "#f0f921"
             ]
            ],
            "type": "histogram2d"
           }
          ],
          "histogram2dcontour": [
           {
            "colorbar": {
             "outlinewidth": 0,
             "ticks": ""
            },
            "colorscale": [
             [
              0,
              "#0d0887"
             ],
             [
              0.1111111111111111,
              "#46039f"
             ],
             [
              0.2222222222222222,
              "#7201a8"
             ],
             [
              0.3333333333333333,
              "#9c179e"
             ],
             [
              0.4444444444444444,
              "#bd3786"
             ],
             [
              0.5555555555555556,
              "#d8576b"
             ],
             [
              0.6666666666666666,
              "#ed7953"
             ],
             [
              0.7777777777777778,
              "#fb9f3a"
             ],
             [
              0.8888888888888888,
              "#fdca26"
             ],
             [
              1,
              "#f0f921"
             ]
            ],
            "type": "histogram2dcontour"
           }
          ],
          "mesh3d": [
           {
            "colorbar": {
             "outlinewidth": 0,
             "ticks": ""
            },
            "type": "mesh3d"
           }
          ],
          "parcoords": [
           {
            "line": {
             "colorbar": {
              "outlinewidth": 0,
              "ticks": ""
             }
            },
            "type": "parcoords"
           }
          ],
          "pie": [
           {
            "automargin": true,
            "type": "pie"
           }
          ],
          "scatter": [
           {
            "fillpattern": {
             "fillmode": "overlay",
             "size": 10,
             "solidity": 0.2
            },
            "type": "scatter"
           }
          ],
          "scatter3d": [
           {
            "line": {
             "colorbar": {
              "outlinewidth": 0,
              "ticks": ""
             }
            },
            "marker": {
             "colorbar": {
              "outlinewidth": 0,
              "ticks": ""
             }
            },
            "type": "scatter3d"
           }
          ],
          "scattercarpet": [
           {
            "marker": {
             "colorbar": {
              "outlinewidth": 0,
              "ticks": ""
             }
            },
            "type": "scattercarpet"
           }
          ],
          "scattergeo": [
           {
            "marker": {
             "colorbar": {
              "outlinewidth": 0,
              "ticks": ""
             }
            },
            "type": "scattergeo"
           }
          ],
          "scattergl": [
           {
            "marker": {
             "colorbar": {
              "outlinewidth": 0,
              "ticks": ""
             }
            },
            "type": "scattergl"
           }
          ],
          "scattermapbox": [
           {
            "marker": {
             "colorbar": {
              "outlinewidth": 0,
              "ticks": ""
             }
            },
            "type": "scattermapbox"
           }
          ],
          "scatterpolar": [
           {
            "marker": {
             "colorbar": {
              "outlinewidth": 0,
              "ticks": ""
             }
            },
            "type": "scatterpolar"
           }
          ],
          "scatterpolargl": [
           {
            "marker": {
             "colorbar": {
              "outlinewidth": 0,
              "ticks": ""
             }
            },
            "type": "scatterpolargl"
           }
          ],
          "scatterternary": [
           {
            "marker": {
             "colorbar": {
              "outlinewidth": 0,
              "ticks": ""
             }
            },
            "type": "scatterternary"
           }
          ],
          "surface": [
           {
            "colorbar": {
             "outlinewidth": 0,
             "ticks": ""
            },
            "colorscale": [
             [
              0,
              "#0d0887"
             ],
             [
              0.1111111111111111,
              "#46039f"
             ],
             [
              0.2222222222222222,
              "#7201a8"
             ],
             [
              0.3333333333333333,
              "#9c179e"
             ],
             [
              0.4444444444444444,
              "#bd3786"
             ],
             [
              0.5555555555555556,
              "#d8576b"
             ],
             [
              0.6666666666666666,
              "#ed7953"
             ],
             [
              0.7777777777777778,
              "#fb9f3a"
             ],
             [
              0.8888888888888888,
              "#fdca26"
             ],
             [
              1,
              "#f0f921"
             ]
            ],
            "type": "surface"
           }
          ],
          "table": [
           {
            "cells": {
             "fill": {
              "color": "#EBF0F8"
             },
             "line": {
              "color": "white"
             }
            },
            "header": {
             "fill": {
              "color": "#C8D4E3"
             },
             "line": {
              "color": "white"
             }
            },
            "type": "table"
           }
          ]
         },
         "layout": {
          "annotationdefaults": {
           "arrowcolor": "#2a3f5f",
           "arrowhead": 0,
           "arrowwidth": 1
          },
          "autotypenumbers": "strict",
          "coloraxis": {
           "colorbar": {
            "outlinewidth": 0,
            "ticks": ""
           }
          },
          "colorscale": {
           "diverging": [
            [
             0,
             "#8e0152"
            ],
            [
             0.1,
             "#c51b7d"
            ],
            [
             0.2,
             "#de77ae"
            ],
            [
             0.3,
             "#f1b6da"
            ],
            [
             0.4,
             "#fde0ef"
            ],
            [
             0.5,
             "#f7f7f7"
            ],
            [
             0.6,
             "#e6f5d0"
            ],
            [
             0.7,
             "#b8e186"
            ],
            [
             0.8,
             "#7fbc41"
            ],
            [
             0.9,
             "#4d9221"
            ],
            [
             1,
             "#276419"
            ]
           ],
           "sequential": [
            [
             0,
             "#0d0887"
            ],
            [
             0.1111111111111111,
             "#46039f"
            ],
            [
             0.2222222222222222,
             "#7201a8"
            ],
            [
             0.3333333333333333,
             "#9c179e"
            ],
            [
             0.4444444444444444,
             "#bd3786"
            ],
            [
             0.5555555555555556,
             "#d8576b"
            ],
            [
             0.6666666666666666,
             "#ed7953"
            ],
            [
             0.7777777777777778,
             "#fb9f3a"
            ],
            [
             0.8888888888888888,
             "#fdca26"
            ],
            [
             1,
             "#f0f921"
            ]
           ],
           "sequentialminus": [
            [
             0,
             "#0d0887"
            ],
            [
             0.1111111111111111,
             "#46039f"
            ],
            [
             0.2222222222222222,
             "#7201a8"
            ],
            [
             0.3333333333333333,
             "#9c179e"
            ],
            [
             0.4444444444444444,
             "#bd3786"
            ],
            [
             0.5555555555555556,
             "#d8576b"
            ],
            [
             0.6666666666666666,
             "#ed7953"
            ],
            [
             0.7777777777777778,
             "#fb9f3a"
            ],
            [
             0.8888888888888888,
             "#fdca26"
            ],
            [
             1,
             "#f0f921"
            ]
           ]
          },
          "colorway": [
           "#636efa",
           "#EF553B",
           "#00cc96",
           "#ab63fa",
           "#FFA15A",
           "#19d3f3",
           "#FF6692",
           "#B6E880",
           "#FF97FF",
           "#FECB52"
          ],
          "font": {
           "color": "#2a3f5f"
          },
          "geo": {
           "bgcolor": "white",
           "lakecolor": "white",
           "landcolor": "#E5ECF6",
           "showlakes": true,
           "showland": true,
           "subunitcolor": "white"
          },
          "hoverlabel": {
           "align": "left"
          },
          "hovermode": "closest",
          "mapbox": {
           "style": "light"
          },
          "paper_bgcolor": "white",
          "plot_bgcolor": "#E5ECF6",
          "polar": {
           "angularaxis": {
            "gridcolor": "white",
            "linecolor": "white",
            "ticks": ""
           },
           "bgcolor": "#E5ECF6",
           "radialaxis": {
            "gridcolor": "white",
            "linecolor": "white",
            "ticks": ""
           }
          },
          "scene": {
           "xaxis": {
            "backgroundcolor": "#E5ECF6",
            "gridcolor": "white",
            "gridwidth": 2,
            "linecolor": "white",
            "showbackground": true,
            "ticks": "",
            "zerolinecolor": "white"
           },
           "yaxis": {
            "backgroundcolor": "#E5ECF6",
            "gridcolor": "white",
            "gridwidth": 2,
            "linecolor": "white",
            "showbackground": true,
            "ticks": "",
            "zerolinecolor": "white"
           },
           "zaxis": {
            "backgroundcolor": "#E5ECF6",
            "gridcolor": "white",
            "gridwidth": 2,
            "linecolor": "white",
            "showbackground": true,
            "ticks": "",
            "zerolinecolor": "white"
           }
          },
          "shapedefaults": {
           "line": {
            "color": "#2a3f5f"
           }
          },
          "ternary": {
           "aaxis": {
            "gridcolor": "white",
            "linecolor": "white",
            "ticks": ""
           },
           "baxis": {
            "gridcolor": "white",
            "linecolor": "white",
            "ticks": ""
           },
           "bgcolor": "#E5ECF6",
           "caxis": {
            "gridcolor": "white",
            "linecolor": "white",
            "ticks": ""
           }
          },
          "title": {
           "x": 0.05
          },
          "xaxis": {
           "automargin": true,
           "gridcolor": "white",
           "linecolor": "white",
           "ticks": "",
           "title": {
            "standoff": 15
           },
           "zerolinecolor": "white",
           "zerolinewidth": 2
          },
          "yaxis": {
           "automargin": true,
           "gridcolor": "white",
           "linecolor": "white",
           "ticks": "",
           "title": {
            "standoff": 15
           },
           "zerolinecolor": "white",
           "zerolinewidth": 2
          }
         }
        },
        "xaxis": {
         "anchor": "y",
         "domain": [
          0,
          1
         ],
         "title": {
          "text": "Predicted values"
         }
        },
        "yaxis": {
         "anchor": "x",
         "domain": [
          0,
          1
         ],
         "title": {
          "text": "Actual values"
         }
        }
       }
      }
     },
     "metadata": {},
     "output_type": "display_data"
    }
   ],
   "source": [
    "import plotly.express as px\n",
    "\n",
    "px.scatter(x=np.array(log_results['ypreds']), y=y, labels={'x': 'Predicted values', 'y': 'Actual values'})"
   ]
  },
  {
   "cell_type": "code",
   "execution_count": 28,
   "id": "e0d58abf",
   "metadata": {},
   "outputs": [
    {
     "data": {
      "application/vnd.plotly.v1+json": {
       "config": {
        "plotlyServerURL": "https://plot.ly"
       },
       "data": [
        {
         "hovertemplate": "order=%{x}<br>Residuals=%{y}<extra></extra>",
         "legendgroup": "",
         "marker": {
          "color": "#636efa",
          "symbol": "circle"
         },
         "mode": "markers",
         "name": "",
         "orientation": "v",
         "showlegend": false,
         "type": "scatter",
         "x": [
          0,
          1,
          2,
          3,
          4,
          5,
          6,
          7,
          8,
          9,
          10,
          11,
          12,
          13,
          14,
          15,
          16,
          17,
          18,
          19,
          20,
          21,
          22,
          23,
          24,
          25,
          26,
          27,
          28,
          29,
          30,
          31,
          32,
          33,
          34,
          35,
          36,
          37,
          38,
          39,
          40,
          41,
          42,
          43,
          44,
          45,
          46,
          47,
          48,
          49,
          50,
          51,
          52,
          53,
          54,
          55,
          56,
          57,
          58,
          59,
          60,
          61,
          62,
          63,
          64,
          65,
          66,
          67,
          68,
          69,
          70,
          71,
          72,
          73,
          74,
          75,
          76,
          77,
          78,
          79,
          80,
          81,
          82,
          83,
          84,
          85,
          86,
          87,
          88,
          89,
          90,
          91,
          92,
          93,
          94,
          95,
          96,
          97,
          98,
          99,
          100,
          101,
          102,
          103,
          104,
          105,
          106,
          107,
          108,
          109,
          110,
          111,
          112,
          113,
          114,
          115,
          116,
          117,
          118,
          119,
          120,
          121,
          122,
          123,
          124,
          125,
          126,
          127,
          128,
          129,
          130,
          131,
          132,
          133,
          134,
          135,
          136,
          137,
          138,
          139,
          140,
          141,
          142,
          143,
          144,
          145,
          146,
          147,
          148,
          149,
          150,
          151,
          152,
          153,
          154,
          155,
          156,
          157,
          158,
          159,
          160,
          161,
          162,
          163,
          164,
          165,
          166,
          167,
          168,
          169,
          170,
          171,
          172,
          173,
          174,
          175,
          176,
          177,
          178,
          179,
          180,
          181,
          182,
          183,
          184,
          185,
          186,
          187,
          188,
          189,
          190,
          191,
          192,
          193,
          194,
          195,
          196,
          197,
          198,
          199,
          200,
          201,
          202,
          203,
          204,
          205,
          206,
          207,
          208,
          209,
          210,
          211,
          212,
          213,
          214,
          215,
          216,
          217,
          218,
          219,
          220,
          221,
          222,
          223,
          224,
          225,
          226,
          227,
          228,
          229,
          230,
          231,
          232,
          233,
          234,
          235,
          236,
          237,
          238,
          239,
          240,
          241,
          242,
          243,
          244,
          245,
          246,
          247,
          248,
          249,
          250,
          251,
          252,
          253,
          254,
          255,
          256,
          257,
          258,
          259,
          260,
          261,
          262,
          263,
          264,
          265,
          266,
          267,
          268,
          269,
          270,
          271,
          272,
          273,
          274,
          275,
          276,
          277,
          278,
          279,
          280,
          281,
          282,
          283,
          284,
          285,
          286,
          287,
          288,
          289,
          290,
          291,
          292,
          293,
          294,
          295,
          296,
          297,
          298,
          299,
          300,
          301,
          302,
          303,
          304,
          305,
          306,
          307,
          308,
          309,
          310,
          311,
          312,
          313,
          314,
          315,
          316,
          317,
          318,
          319,
          320,
          321,
          322,
          323,
          324,
          325,
          326,
          327,
          328,
          329,
          330,
          331,
          332,
          333,
          334,
          335,
          336,
          337,
          338,
          339,
          340,
          341,
          342,
          343,
          344,
          345,
          346,
          347,
          348,
          349,
          350,
          351,
          352,
          353,
          354,
          355,
          356,
          357,
          358,
          359,
          360,
          361,
          362,
          363,
          364,
          365,
          366,
          367,
          368,
          369,
          370,
          371,
          372,
          373,
          374,
          375,
          376,
          377,
          378,
          379,
          380,
          381,
          382,
          383,
          384,
          385,
          386,
          387,
          388,
          389,
          390,
          391,
          392,
          393,
          394,
          395,
          396,
          397,
          398,
          399
         ],
         "xaxis": "x",
         "y": [
          -0.009432527924492562,
          -0.012917810495263082,
          -0.0246614393455602,
          -0.01720787951676761,
          -0.010355072483283656,
          -0.017089471243327714,
          -0.01342850209218971,
          -0.008817574969827269,
          -0.009727232613114367,
          -0.012165810848284386,
          -0.017826385941363765,
          -0.011766178614687317,
          -0.000632949914415426,
          -0.004051210349599321,
          0.009338451030700023,
          0.011039552974796418,
          -0.0002398622945832818,
          0.01125106985501928,
          0.004026920508013954,
          0.038440831875237835,
          0.028779918565084106,
          0.03431082636611127,
          0.04419807923621416,
          0.04154578713297952,
          0.02467145824260142,
          0.008266115676990315,
          -0.006000923740644759,
          0.025560696240199632,
          0.007791026860896999,
          -0.0057663220675101545,
          0.0035018274203638122,
          0.01610745606761349,
          0.004289466418007815,
          0.009767718713229234,
          0.021678079830554253,
          0.007789333756649752,
          -0.0012430776309222402,
          0.0008506000084900767,
          -0.011817937428015957,
          0.03917496593488945,
          0.03770070635280448,
          0.03529558446031317,
          0.03196040299331837,
          0.033035028798660326,
          0.02449738539249502,
          0.02578561563892956,
          0.03181245975858904,
          0.03895786963987935,
          0.037641823756612125,
          0.032118426997414184,
          0.029928841932784833,
          0.030166077948277303,
          0.04261968913347569,
          0.04139848817435238,
          0.04304855440406513,
          0.03656986827294423,
          0.0353539713866548,
          0.005163452713181194,
          0.009648957340138209,
          0.006448994350066961,
          0.018203673987608526,
          0.0045616799207800485,
          0.00299092525014949,
          0.008316479177743474,
          0.008036509401497194,
          -0.03364458928713365,
          -0.01964980656692117,
          -0.013242010616831557,
          -0.026875369677825445,
          -0.038186963652333095,
          -0.03822036055474415,
          -0.006832664301830271,
          -0.030005281643520842,
          -0.01848981383752535,
          0.0478353160451756,
          0.049585016973806906,
          0.035034052016924666,
          0.037285102446987906,
          0.005144620168266778,
          -0.00644026825937688,
          0.028335336310427783,
          0.04121757658952058,
          0.07193900232389439,
          0.06852750492392018,
          0.07983799641971018,
          0.06435589245729911,
          0.053679026341488356,
          0.05103479149888296,
          -0.06087231856524217,
          -0.01933320834605956,
          -0.053732526905725,
          -0.05579859807698073,
          -0.04523958541998707,
          -0.031021147264913673,
          -0.03276313284429294,
          -0.04693220320270186,
          -0.05150985898219729,
          -0.034303178363700615,
          -0.044126698645856055,
          -0.03410284103285066,
          -0.03923924176885485,
          -0.06153306381504625,
          -0.04750379323767273,
          -0.02800620261636594,
          -0.02553149899222945,
          -0.02786714726791062,
          -0.03120647165246737,
          -0.0351263401651577,
          -0.023920356853617708,
          -0.02982142696685286,
          -0.026877816525673892,
          -0.03325694557271136,
          -0.02699492024511352,
          -0.030298587266329446,
          -0.027373098027458187,
          -0.017664760989533734,
          -0.012808984223372233,
          -0.016121355970780682,
          -0.0015625549467864208,
          -0.0038150179225838743,
          -0.008419360976164525,
          -0.003691813146522449,
          -0.002397421200482752,
          -0.02758521458948751,
          -0.01521070908287564,
          -0.02298233946986883,
          -0.017855267766013372,
          -0.009545085632417072,
          -0.0061003496928626055,
          -0.022523750448469382,
          -0.008501974185954775,
          -0.012400202882534128,
          -0.01210734287348153,
          -0.003810982129215046,
          0.006792964907837817,
          0.005722177918067839,
          0.009884223316245666,
          0.010990838147362125,
          0.014366035063204996,
          0.011614594877866036,
          0.0086601925076783,
          0.01933946065998332,
          0.011943551643554429,
          0.01673460015666206,
          0.012336751052191897,
          0.007555415554946321,
          0.010429524802084256,
          0.006835431130199354,
          -0.0061057475480303935,
          0.00331694026646423,
          0.029277031617133464,
          0.005749957706515263,
          -0.0006937652817381457,
          0.022862031351572276,
          0.010750642081956752,
          0.03455082826550887,
          0.039086611354638534,
          0.025798114081096835,
          -0.026612641048316177,
          -0.025564418202919964,
          -0.030158947030589633,
          -0.048107942921960856,
          -0.06162340089281804,
          -0.03480698036017449,
          -0.04452826393359033,
          -0.04506213246070612,
          -0.050044515935676825,
          -0.04767456789160057,
          -0.04103935714857787,
          -0.03763550290765155,
          0.015317985770086862,
          -0.00736674575850893,
          0.0075955559936119466,
          0.004430146359318932,
          0.015398405510368529,
          0.02093358510049903,
          0.007108862141151084,
          0.00820917362747553,
          -0.002536625335544218,
          -0.00878005191556508,
          -0.019008178360499672,
          -0.01152562010891095,
          -0.0015099835638131553,
          0.009196420722032805,
          0.010589072932851828,
          -0.00006376865601775972,
          0.0063561353741436455,
          0.009460930033255988,
          -0.002219702140718538,
          -0.01467433974690191,
          -0.011034128885460515,
          -0.005180894878663578,
          -0.006889164493732891,
          -0.0036767933217888293,
          0.001575981559829076,
          -0.004713888667872035,
          -0.0026544313506245976,
          -0.009112652671278254,
          -0.01895225412877871,
          -0.00253483885372896,
          -0.010651755440150679,
          -0.018395773354568712,
          -0.027073558836680667,
          -0.027840786425380848,
          -0.030920970406617787,
          -0.032486161721446694,
          -0.03284336688256495,
          -0.02469863641592579,
          -0.023310415392256756,
          -0.022411888309167405,
          -0.01936584333808128,
          -0.022385253589046916,
          -0.011934672655313672,
          0.08099007535603459,
          0.08184550051743295,
          0.06840032417418346,
          0.05622365101942478,
          0.042850654416793255,
          0.036468731255271614,
          0.02898940608315176,
          0.043403999248509406,
          0.04512951340322735,
          0.01984230574192003,
          0.03220153082899779,
          0.020249526816706998,
          0.020238451105278554,
          0.02754935616159837,
          0.03083309038047055,
          0.009916425367627713,
          -0.0040733755521124015,
          -0.0020831805256025238,
          0.014683952098386854,
          -0.0003621748570045713,
          0.0015842192564524682,
          0.004450031490637663,
          0.0032911906335008068,
          0.0023466753792520945,
          -0.001928576991047204,
          -0.007845984638588821,
          -0.008589632403830039,
          0.005047974835196645,
          0.0018381220018390265,
          -0.01725165152521374,
          0.004671450863435345,
          0.00014566868770599095,
          0.04384861609050128,
          0.028458296563614816,
          -0.015607511280847974,
          -0.007463663970697865,
          -0.021494855599488105,
          -0.021100021881527875,
          -0.0300732584943591,
          -0.0342259463094694,
          -0.026951115588040253,
          -0.025178195464629738,
          -0.018066728593681358,
          -0.004964712004852656,
          0.002123800310631585,
          -0.009873452224928969,
          -0.007958353639112736,
          -0.0016990033946376326,
          -0.028755834440254202,
          0.024441228541759896,
          -0.05545609365033294,
          -0.024323877539072947,
          0.000408705501097395,
          0.004363959244570059,
          -0.01072068649067709,
          0.002819770827022061,
          0.02470550998018145,
          0.009883077525888684,
          -0.0003051309680384695,
          0.010399055349187392,
          -0.004325919369087272,
          0.008181733022964655,
          -0.0008166578347356679,
          -0.006635346634132455,
          -0.009227524096635353,
          -0.006759991641783369,
          -0.0005161605422298599,
          -0.0031011822708000847,
          -0.006384456874285682,
          -0.008687359004804496,
          -0.010359700674580141,
          -0.006690461780103629,
          -0.14608082194088,
          0.017183341221409187,
          0.020373675691985893,
          0.01935162547755981,
          0.0037988118976709506,
          0.01285616810018314,
          0.019648943372764016,
          0.014110594227194129,
          0.02965585612084265,
          0.01648286905897478,
          0.016499664774050238,
          0.016727439645999986,
          0.018957258831809265,
          0.017148242734861652,
          0.02257268238183824,
          0.024321061941596722,
          0.011102011709967385,
          0.023221802641645528,
          0.020633476537096296,
          0.03441414978256413,
          0.04081612199761331,
          0.021193985722476716,
          0.0019085469426661228,
          0.009480619129852708,
          0.006692506980297608,
          0.012387621359718881,
          0.01638570489854546,
          0.02167192675863505,
          0.016557138151540418,
          0.019833967382972217,
          -0.018950434241363612,
          -0.026211329979145825,
          -0.01823531170357623,
          -0.013128695955551217,
          -0.017466224569955502,
          0.011505341632982669,
          0.008293640698251836,
          0.01337502271370744,
          -0.0006336554694127416,
          0.06626245697855371,
          0.049760480974597066,
          0.02496158870571963,
          0.023863740547975743,
          0.02263836105222633,
          0.027969892043927802,
          0.027488913141247573,
          0.009346169582546748,
          0.015306171967597981,
          0.013849689508946439,
          -0.0052437525116544315,
          -0.015212446096378118,
          -0.01078428359857142,
          -0.012402746395875741,
          -0.003886787607025044,
          0.006155536317089649,
          0.00653428483495333,
          -0.001434107315461397,
          0.011849517020231792,
          0.008034266809130775,
          -0.01481000621175771,
          -0.013305900925866976,
          -0.02212711840563769,
          -0.02637288806229693,
          -0.03607236135299774,
          -0.04239472892809509,
          -0.01481659738298946,
          -0.006857251741105408,
          -0.017820247238887255,
          -0.018407792639698273,
          0.02776533722122826,
          0.03505847721748101,
          0.0007113377841737045,
          -0.015625965830907862,
          -0.013218156989363627,
          -0.005683084508408154,
          0.00007577469918085278,
          0.019153130931066797,
          0.027634359725199675,
          0.025159644271211923,
          0.029070093527369945,
          0.03403466072772898,
          0.036948161926731005,
          -0.019263787424662948,
          -0.01624378779126151,
          -0.02075873355940583,
          -0.025108927495946287,
          -0.02703190035171399,
          -0.03308897428368679,
          -0.024727187875298318,
          -0.02414917209039036,
          -0.027412995982478316,
          -0.03345828566470377,
          -0.025431170457028085,
          -0.026415757431068554,
          -0.021455907479599023,
          -0.02216772630943087,
          -0.03062448029545861,
          -0.031553259995663496,
          0.00490506530802981,
          0.007507271080077149,
          0.004701335323379241,
          0.007523601726305007,
          0.007511323739103903,
          -0.0021205498892235553,
          0.0023598977629440965,
          0.00030179015135572973,
          -0.006825977823607998,
          -0.006895851135550246,
          -0.005341269840980101,
          -0.010935672706249067,
          -0.006339001544700462,
          -0.00748744365032189,
          -0.006449405639113837,
          -0.007752799037765545,
          -0.0016303104640084665
         ],
         "yaxis": "y"
        }
       ],
       "layout": {
        "legend": {
         "tracegroupgap": 0
        },
        "template": {
         "data": {
          "bar": [
           {
            "error_x": {
             "color": "#2a3f5f"
            },
            "error_y": {
             "color": "#2a3f5f"
            },
            "marker": {
             "line": {
              "color": "#E5ECF6",
              "width": 0.5
             },
             "pattern": {
              "fillmode": "overlay",
              "size": 10,
              "solidity": 0.2
             }
            },
            "type": "bar"
           }
          ],
          "barpolar": [
           {
            "marker": {
             "line": {
              "color": "#E5ECF6",
              "width": 0.5
             },
             "pattern": {
              "fillmode": "overlay",
              "size": 10,
              "solidity": 0.2
             }
            },
            "type": "barpolar"
           }
          ],
          "carpet": [
           {
            "aaxis": {
             "endlinecolor": "#2a3f5f",
             "gridcolor": "white",
             "linecolor": "white",
             "minorgridcolor": "white",
             "startlinecolor": "#2a3f5f"
            },
            "baxis": {
             "endlinecolor": "#2a3f5f",
             "gridcolor": "white",
             "linecolor": "white",
             "minorgridcolor": "white",
             "startlinecolor": "#2a3f5f"
            },
            "type": "carpet"
           }
          ],
          "choropleth": [
           {
            "colorbar": {
             "outlinewidth": 0,
             "ticks": ""
            },
            "type": "choropleth"
           }
          ],
          "contour": [
           {
            "colorbar": {
             "outlinewidth": 0,
             "ticks": ""
            },
            "colorscale": [
             [
              0,
              "#0d0887"
             ],
             [
              0.1111111111111111,
              "#46039f"
             ],
             [
              0.2222222222222222,
              "#7201a8"
             ],
             [
              0.3333333333333333,
              "#9c179e"
             ],
             [
              0.4444444444444444,
              "#bd3786"
             ],
             [
              0.5555555555555556,
              "#d8576b"
             ],
             [
              0.6666666666666666,
              "#ed7953"
             ],
             [
              0.7777777777777778,
              "#fb9f3a"
             ],
             [
              0.8888888888888888,
              "#fdca26"
             ],
             [
              1,
              "#f0f921"
             ]
            ],
            "type": "contour"
           }
          ],
          "contourcarpet": [
           {
            "colorbar": {
             "outlinewidth": 0,
             "ticks": ""
            },
            "type": "contourcarpet"
           }
          ],
          "heatmap": [
           {
            "colorbar": {
             "outlinewidth": 0,
             "ticks": ""
            },
            "colorscale": [
             [
              0,
              "#0d0887"
             ],
             [
              0.1111111111111111,
              "#46039f"
             ],
             [
              0.2222222222222222,
              "#7201a8"
             ],
             [
              0.3333333333333333,
              "#9c179e"
             ],
             [
              0.4444444444444444,
              "#bd3786"
             ],
             [
              0.5555555555555556,
              "#d8576b"
             ],
             [
              0.6666666666666666,
              "#ed7953"
             ],
             [
              0.7777777777777778,
              "#fb9f3a"
             ],
             [
              0.8888888888888888,
              "#fdca26"
             ],
             [
              1,
              "#f0f921"
             ]
            ],
            "type": "heatmap"
           }
          ],
          "heatmapgl": [
           {
            "colorbar": {
             "outlinewidth": 0,
             "ticks": ""
            },
            "colorscale": [
             [
              0,
              "#0d0887"
             ],
             [
              0.1111111111111111,
              "#46039f"
             ],
             [
              0.2222222222222222,
              "#7201a8"
             ],
             [
              0.3333333333333333,
              "#9c179e"
             ],
             [
              0.4444444444444444,
              "#bd3786"
             ],
             [
              0.5555555555555556,
              "#d8576b"
             ],
             [
              0.6666666666666666,
              "#ed7953"
             ],
             [
              0.7777777777777778,
              "#fb9f3a"
             ],
             [
              0.8888888888888888,
              "#fdca26"
             ],
             [
              1,
              "#f0f921"
             ]
            ],
            "type": "heatmapgl"
           }
          ],
          "histogram": [
           {
            "marker": {
             "pattern": {
              "fillmode": "overlay",
              "size": 10,
              "solidity": 0.2
             }
            },
            "type": "histogram"
           }
          ],
          "histogram2d": [
           {
            "colorbar": {
             "outlinewidth": 0,
             "ticks": ""
            },
            "colorscale": [
             [
              0,
              "#0d0887"
             ],
             [
              0.1111111111111111,
              "#46039f"
             ],
             [
              0.2222222222222222,
              "#7201a8"
             ],
             [
              0.3333333333333333,
              "#9c179e"
             ],
             [
              0.4444444444444444,
              "#bd3786"
             ],
             [
              0.5555555555555556,
              "#d8576b"
             ],
             [
              0.6666666666666666,
              "#ed7953"
             ],
             [
              0.7777777777777778,
              "#fb9f3a"
             ],
             [
              0.8888888888888888,
              "#fdca26"
             ],
             [
              1,
              "#f0f921"
             ]
            ],
            "type": "histogram2d"
           }
          ],
          "histogram2dcontour": [
           {
            "colorbar": {
             "outlinewidth": 0,
             "ticks": ""
            },
            "colorscale": [
             [
              0,
              "#0d0887"
             ],
             [
              0.1111111111111111,
              "#46039f"
             ],
             [
              0.2222222222222222,
              "#7201a8"
             ],
             [
              0.3333333333333333,
              "#9c179e"
             ],
             [
              0.4444444444444444,
              "#bd3786"
             ],
             [
              0.5555555555555556,
              "#d8576b"
             ],
             [
              0.6666666666666666,
              "#ed7953"
             ],
             [
              0.7777777777777778,
              "#fb9f3a"
             ],
             [
              0.8888888888888888,
              "#fdca26"
             ],
             [
              1,
              "#f0f921"
             ]
            ],
            "type": "histogram2dcontour"
           }
          ],
          "mesh3d": [
           {
            "colorbar": {
             "outlinewidth": 0,
             "ticks": ""
            },
            "type": "mesh3d"
           }
          ],
          "parcoords": [
           {
            "line": {
             "colorbar": {
              "outlinewidth": 0,
              "ticks": ""
             }
            },
            "type": "parcoords"
           }
          ],
          "pie": [
           {
            "automargin": true,
            "type": "pie"
           }
          ],
          "scatter": [
           {
            "fillpattern": {
             "fillmode": "overlay",
             "size": 10,
             "solidity": 0.2
            },
            "type": "scatter"
           }
          ],
          "scatter3d": [
           {
            "line": {
             "colorbar": {
              "outlinewidth": 0,
              "ticks": ""
             }
            },
            "marker": {
             "colorbar": {
              "outlinewidth": 0,
              "ticks": ""
             }
            },
            "type": "scatter3d"
           }
          ],
          "scattercarpet": [
           {
            "marker": {
             "colorbar": {
              "outlinewidth": 0,
              "ticks": ""
             }
            },
            "type": "scattercarpet"
           }
          ],
          "scattergeo": [
           {
            "marker": {
             "colorbar": {
              "outlinewidth": 0,
              "ticks": ""
             }
            },
            "type": "scattergeo"
           }
          ],
          "scattergl": [
           {
            "marker": {
             "colorbar": {
              "outlinewidth": 0,
              "ticks": ""
             }
            },
            "type": "scattergl"
           }
          ],
          "scattermapbox": [
           {
            "marker": {
             "colorbar": {
              "outlinewidth": 0,
              "ticks": ""
             }
            },
            "type": "scattermapbox"
           }
          ],
          "scatterpolar": [
           {
            "marker": {
             "colorbar": {
              "outlinewidth": 0,
              "ticks": ""
             }
            },
            "type": "scatterpolar"
           }
          ],
          "scatterpolargl": [
           {
            "marker": {
             "colorbar": {
              "outlinewidth": 0,
              "ticks": ""
             }
            },
            "type": "scatterpolargl"
           }
          ],
          "scatterternary": [
           {
            "marker": {
             "colorbar": {
              "outlinewidth": 0,
              "ticks": ""
             }
            },
            "type": "scatterternary"
           }
          ],
          "surface": [
           {
            "colorbar": {
             "outlinewidth": 0,
             "ticks": ""
            },
            "colorscale": [
             [
              0,
              "#0d0887"
             ],
             [
              0.1111111111111111,
              "#46039f"
             ],
             [
              0.2222222222222222,
              "#7201a8"
             ],
             [
              0.3333333333333333,
              "#9c179e"
             ],
             [
              0.4444444444444444,
              "#bd3786"
             ],
             [
              0.5555555555555556,
              "#d8576b"
             ],
             [
              0.6666666666666666,
              "#ed7953"
             ],
             [
              0.7777777777777778,
              "#fb9f3a"
             ],
             [
              0.8888888888888888,
              "#fdca26"
             ],
             [
              1,
              "#f0f921"
             ]
            ],
            "type": "surface"
           }
          ],
          "table": [
           {
            "cells": {
             "fill": {
              "color": "#EBF0F8"
             },
             "line": {
              "color": "white"
             }
            },
            "header": {
             "fill": {
              "color": "#C8D4E3"
             },
             "line": {
              "color": "white"
             }
            },
            "type": "table"
           }
          ]
         },
         "layout": {
          "annotationdefaults": {
           "arrowcolor": "#2a3f5f",
           "arrowhead": 0,
           "arrowwidth": 1
          },
          "autotypenumbers": "strict",
          "coloraxis": {
           "colorbar": {
            "outlinewidth": 0,
            "ticks": ""
           }
          },
          "colorscale": {
           "diverging": [
            [
             0,
             "#8e0152"
            ],
            [
             0.1,
             "#c51b7d"
            ],
            [
             0.2,
             "#de77ae"
            ],
            [
             0.3,
             "#f1b6da"
            ],
            [
             0.4,
             "#fde0ef"
            ],
            [
             0.5,
             "#f7f7f7"
            ],
            [
             0.6,
             "#e6f5d0"
            ],
            [
             0.7,
             "#b8e186"
            ],
            [
             0.8,
             "#7fbc41"
            ],
            [
             0.9,
             "#4d9221"
            ],
            [
             1,
             "#276419"
            ]
           ],
           "sequential": [
            [
             0,
             "#0d0887"
            ],
            [
             0.1111111111111111,
             "#46039f"
            ],
            [
             0.2222222222222222,
             "#7201a8"
            ],
            [
             0.3333333333333333,
             "#9c179e"
            ],
            [
             0.4444444444444444,
             "#bd3786"
            ],
            [
             0.5555555555555556,
             "#d8576b"
            ],
            [
             0.6666666666666666,
             "#ed7953"
            ],
            [
             0.7777777777777778,
             "#fb9f3a"
            ],
            [
             0.8888888888888888,
             "#fdca26"
            ],
            [
             1,
             "#f0f921"
            ]
           ],
           "sequentialminus": [
            [
             0,
             "#0d0887"
            ],
            [
             0.1111111111111111,
             "#46039f"
            ],
            [
             0.2222222222222222,
             "#7201a8"
            ],
            [
             0.3333333333333333,
             "#9c179e"
            ],
            [
             0.4444444444444444,
             "#bd3786"
            ],
            [
             0.5555555555555556,
             "#d8576b"
            ],
            [
             0.6666666666666666,
             "#ed7953"
            ],
            [
             0.7777777777777778,
             "#fb9f3a"
            ],
            [
             0.8888888888888888,
             "#fdca26"
            ],
            [
             1,
             "#f0f921"
            ]
           ]
          },
          "colorway": [
           "#636efa",
           "#EF553B",
           "#00cc96",
           "#ab63fa",
           "#FFA15A",
           "#19d3f3",
           "#FF6692",
           "#B6E880",
           "#FF97FF",
           "#FECB52"
          ],
          "font": {
           "color": "#2a3f5f"
          },
          "geo": {
           "bgcolor": "white",
           "lakecolor": "white",
           "landcolor": "#E5ECF6",
           "showlakes": true,
           "showland": true,
           "subunitcolor": "white"
          },
          "hoverlabel": {
           "align": "left"
          },
          "hovermode": "closest",
          "mapbox": {
           "style": "light"
          },
          "paper_bgcolor": "white",
          "plot_bgcolor": "#E5ECF6",
          "polar": {
           "angularaxis": {
            "gridcolor": "white",
            "linecolor": "white",
            "ticks": ""
           },
           "bgcolor": "#E5ECF6",
           "radialaxis": {
            "gridcolor": "white",
            "linecolor": "white",
            "ticks": ""
           }
          },
          "scene": {
           "xaxis": {
            "backgroundcolor": "#E5ECF6",
            "gridcolor": "white",
            "gridwidth": 2,
            "linecolor": "white",
            "showbackground": true,
            "ticks": "",
            "zerolinecolor": "white"
           },
           "yaxis": {
            "backgroundcolor": "#E5ECF6",
            "gridcolor": "white",
            "gridwidth": 2,
            "linecolor": "white",
            "showbackground": true,
            "ticks": "",
            "zerolinecolor": "white"
           },
           "zaxis": {
            "backgroundcolor": "#E5ECF6",
            "gridcolor": "white",
            "gridwidth": 2,
            "linecolor": "white",
            "showbackground": true,
            "ticks": "",
            "zerolinecolor": "white"
           }
          },
          "shapedefaults": {
           "line": {
            "color": "#2a3f5f"
           }
          },
          "ternary": {
           "aaxis": {
            "gridcolor": "white",
            "linecolor": "white",
            "ticks": ""
           },
           "baxis": {
            "gridcolor": "white",
            "linecolor": "white",
            "ticks": ""
           },
           "bgcolor": "#E5ECF6",
           "caxis": {
            "gridcolor": "white",
            "linecolor": "white",
            "ticks": ""
           }
          },
          "title": {
           "x": 0.05
          },
          "xaxis": {
           "automargin": true,
           "gridcolor": "white",
           "linecolor": "white",
           "ticks": "",
           "title": {
            "standoff": 15
           },
           "zerolinecolor": "white",
           "zerolinewidth": 2
          },
          "yaxis": {
           "automargin": true,
           "gridcolor": "white",
           "linecolor": "white",
           "ticks": "",
           "title": {
            "standoff": 15
           },
           "zerolinecolor": "white",
           "zerolinewidth": 2
          }
         }
        },
        "title": {
         "text": "Residual plot vs. order"
        },
        "xaxis": {
         "anchor": "y",
         "domain": [
          0,
          1
         ],
         "title": {
          "text": "order"
         }
        },
        "yaxis": {
         "anchor": "x",
         "domain": [
          0,
          1
         ],
         "title": {
          "text": "Residuals"
         }
        }
       }
      }
     },
     "metadata": {},
     "output_type": "display_data"
    }
   ],
   "source": [
    "px.scatter(x = range(len(log_results['resids'])), y = log_results['resids'], labels={'x': 'order', 'y': 'Residuals'}, title='Residual plot vs. order')"
   ]
  },
  {
   "cell_type": "code",
   "execution_count": 30,
   "id": "397d9361",
   "metadata": {},
   "outputs": [
    {
     "data": {
      "application/vnd.plotly.v1+json": {
       "config": {
        "plotlyServerURL": "https://plot.ly"
       },
       "data": [
        {
         "hovertemplate": "Trade union density=%{x}<br>Residuals=%{y}<extra></extra>",
         "legendgroup": "",
         "marker": {
          "color": "#636efa",
          "symbol": "circle"
         },
         "mode": "markers",
         "name": "",
         "orientation": "v",
         "showlegend": false,
         "type": "scatter",
         "x": [
          2.096173068998936,
          2.064102714008836,
          2.0274505852095053,
          1.9907988229300881,
          1.9587281014200741,
          1.894587391439874,
          1.7342349292645352,
          1.6196974562821502,
          1.6242789093864562,
          1.6151156824729194,
          1.5830453274828191,
          1.5830453274828191,
          1.5922081878764422,
          1.5738824670891962,
          1.5601378328863422,
          1.5463931986834882,
          1.5189042509827053,
          1.4914153490969113,
          1.4776707148940573,
          0.13529176061545142,
          0.09863958600113139,
          0.08947677142249742,
          0.029917102211700398,
          -0.025060701559887565,
          -0.05713123980994457,
          -0.11210927265647856,
          -0.09378327697929703,
          -0.047968287786343045,
          -0.06171278454422911,
          -0.06171278454422911,
          -0.1304352683336601,
          -0.20373925104238655,
          -0.3045322730818745,
          -0.345765717540544,
          -0.437395695926452,
          -0.39616225146778256,
          -0.40532520349138407,
          -0.35951021429843005,
          -0.3091136803711915,
          0.034498738575963424,
          0.029917102211700398,
          0.04824318951886041,
          0.039080145865280407,
          0.029917102211700398,
          0.04824318951886041,
          0.04366178222954343,
          0.08031372776891742,
          0.1078026296547114,
          0.10322122236539441,
          0.1169656733082914,
          0.12612871696187142,
          0.11238426601897442,
          0.05740623317244042,
          0.029917102211700398,
          0.011591243979486424,
          -0.015897886981253596,
          -0.02047929427057058,
          -0.38241770889490706,
          -0.4465586479500535,
          -0.4648847352572135,
          -0.6481446920290295,
          -0.666470641891222,
          -0.81766010622797,
          -0.840567600824447,
          -0.8818010910981057,
          -0.9413605770489459,
          -0.6573076440526311,
          -0.6252371974325525,
          -0.6252371974325525,
          -0.620655652698268,
          -0.5702591645860186,
          -0.6756335939148235,
          -0.666470641891222,
          -0.6939596812219835,
          -1.0604795397876285,
          -1.0833870343841054,
          -1.1017130575502805,
          -1.0513165511120355,
          -1.0467350521927399,
          -1.0650610570329195,
          -1.0971315403049895,
          -1.1246205521467574,
          -1.1383650122526525,
          -1.14752802383574,
          -1.1566910354188276,
          -1.1566910354188276,
          -1.1841800243531009,
          -1.1704355184322168,
          -0.345765717540544,
          -0.4328141970071565,
          -0.5656776656667231,
          -0.6527260993183465,
          -0.7397746704149375,
          -0.7764266159543115,
          -0.75810062027713,
          -0.8451490997437425,
          -0.8451490997437425,
          -0.863475095420924,
          -0.8955455878559919,
          -0.932197579210355,
          -0.9688495705647182,
          -0.9825940673226045,
          -0.9917570651611952,
          -0.38241770889490706,
          -0.4236511533535765,
          -0.4328141970071565,
          -0.4557216916036335,
          -0.4923736371430075,
          -0.5244441753930645,
          -0.5656776656667231,
          -0.6023297028360756,
          -0.6389816483754495,
          -0.6481446920290295,
          -0.643563147294745,
          -0.666470641891222,
          -0.6710521866255065,
          -0.6847966375684035,
          -0.6985410885113005,
          -0.703122633245585,
          -0.7306116267613575,
          -0.7443560777042545,
          -0.748937622438539,
          -0.7626821650114145,
          1.9037502518334972,
          1.8075388661582723,
          1.7754681446482583,
          1.7663052842546352,
          1.6838381662623503,
          1.6517678112722503,
          1.6426049508786271,
          1.6471864039829331,
          1.6105342293686131,
          1.6380231770693963,
          1.6517678112722503,
          1.6426049508786271,
          1.6288603166757731,
          1.6151156824729194,
          1.5784639201935022,
          1.5463931986834882,
          1.5830453274828191,
          1.5601378328863422,
          0.5063930814484003,
          0.4789041795626064,
          0.44225200494828637,
          0.38727420117669836,
          0.3002256300801074,
          0.21317705898351638,
          0.1765251134441424,
          0.1444545751940854,
          0.1673620697905624,
          0.1078026296547114,
          0.0848951350582344,
          0.052824596808177395,
          0.016172651268803406,
          -0.029642337924150587,
          -0.03880538157773059,
          -0.11669077157577404,
          -0.21748370198528355,
          0.19026956438703937,
          0.20859565169419939,
          -0.03422374521346757,
          -0.1075277737371831,
          -0.14876121819585256,
          0.3414592119837444,
          -0.015897886981253596,
          0.1719437061548254,
          -0.2816247784853976,
          -0.3091136803711915,
          -0.16250576076872802,
          -0.41906974606425956,
          -0.7077041321648805,
          -0.7535191213578345,
          -0.7764266159543115,
          -0.7993341105507885,
          -0.794752611631493,
          -0.75810062027713,
          -0.712285631084176,
          -0.6710521866255065,
          -0.6756335939148235,
          -0.689378136487699,
          -0.6939596812219835,
          -0.7306116267613575,
          -0.7855896137929023,
          -0.8497305986630379,
          -0.8726380932595149,
          -0.8955455878559919,
          -0.9138715835331734,
          -0.9367790781296504,
          -0.703122633245585,
          -0.7306116267613575,
          -0.7535191213578345,
          -0.748937622438539,
          -0.771845117035016,
          -0.7901711127121978,
          -0.8084971083893793,
          -0.8268231040665609,
          -0.8497305986630379,
          -0.5336072190466445,
          -0.49695518187729204,
          -0.52902567431236,
          -0.5840036155289156,
          -0.5931666591824956,
          -0.5931666591824956,
          -0.6160741537789725,
          -0.6252371974325525,
          -0.6481446920290295,
          -0.6756335939148235,
          -0.680215138649108,
          -0.6985410885113005,
          -0.7168671758184605,
          -0.7397746704149375,
          -0.7535191213578345,
          -0.803915609470084,
          -0.542770171070246,
          -0.519862676473769,
          -0.542770171070246,
          -0.5610961209324385,
          -0.5748406635053139,
          -0.6114926548596771,
          -0.6573076440526311,
          -0.771845117035016,
          -0.8084971083893793,
          -1.0788055629538036,
          -1.0879685516293964,
          -1.0925500230596985,
          -1.0925500230596985,
          -1.0650610570329195,
          -1.0696425284632214,
          -1.0788055629538036,
          -1.0742240457085124,
          -1.0742240457085124,
          -0.460303190522929,
          -0.41906974606425956,
          -0.689378136487699,
          -0.7443560777042545,
          -0.7901711127121978,
          -0.803915609470084,
          -0.712285631084176,
          -0.7168671758184605,
          -0.748937622438539,
          -0.7535191213578345,
          -0.863475095420924,
          -0.8955455878559919,
          0.9462168860707802,
          0.8637499513384523,
          0.8545869076848723,
          0.8362610494526583,
          0.8316794130883953,
          0.7858644238954413,
          0.7721199729525443,
          0.7950274675490213,
          0.8041905112026013,
          0.7767016093168073,
          0.7767016093168073,
          0.7721199729525443,
          0.7858644238954413,
          0.7721199729525443,
          0.7812830166061243,
          0.7812830166061243,
          0.7767016093168073,
          0.7996091039132843,
          -0.689378136487699,
          -0.7168671758184605,
          -0.8084971083893793,
          -0.9367790781296504,
          -1.0055015619190815,
          -1.0879685516293964,
          -1.1292020235770595,
          1.0286840498780543,
          1.0241024135137913,
          1.0057765552815774,
          0.9553799297243603,
          0.9462168860707802,
          0.9370540714921464,
          0.9553799297243603,
          0.9187279841849864,
          0.9737060170315203,
          0.9691243806672573,
          0.9324724351278832,
          0.9141465768956694,
          0.8866574459349293,
          0.8545869076848723,
          0.8133535548561813,
          0.7812830166061243,
          0.7400494347024873,
          -0.36409171321772554,
          0.1811067498084054,
          0.0757320914046544,
          0.0848951350582344,
          0.039080145865280407,
          -0.06171278454422911,
          -0.11669077157577404,
          -0.1533427629301371,
          -0.16708730550301257,
          -0.18541325536520503,
          -0.21290229469596655,
          -0.22664674563886356,
          -0.23580978929244356,
          -0.24039119658176056,
          -0.254135739154636,
          -0.277043233751113,
          -0.2862061857747145,
          -0.3045322730818745,
          -0.3045322730818745,
          -0.40532520349138407,
          -0.47404768728081503,
          -0.4923736371430075,
          -0.4511401926843381,
          -0.6389816483754495,
          2.453530122148945,
          2.343574056455877,
          2.343574056455877,
          2.3939704987531374,
          2.380226231070197,
          2.3710630041566603,
          2.380226231070197,
          2.3939704987531374,
          2.384807638359514,
          2.3985522725623682,
          2.563486187842013,
          2.632208671631444,
          2.687186475403032,
          2.632208671631444,
          2.659697573517238,
          -0.14417981090653556,
          -0.16708730550301257,
          -0.18999480009948957,
          -0.16708730550301257,
          -0.18999480009948957,
          -0.1991577521230911,
          -0.21290229469596655,
          -0.22664674563886356,
          -0.24955424023534056,
          -0.254135739154636,
          -0.2907877305089991,
          -0.31827672402477153,
          -0.3136952251054761,
          -0.3366027197019531,
          -0.36409171321772554,
          -0.37783616416062255,
          -0.4282326980878611,
          -0.4419772406607365,
          -0.437395695926452,
          -0.4328141970071565,
          -1.0146645597576722,
          -1.0146645597576722,
          -1.0146645597576722,
          -1.0146645597576722,
          -1.0284090565155584,
          -1.0284090565155584,
          -1.023827557596263,
          -1.0146645597576722,
          -1.0055015619190815,
          -1.0146645597576722,
          -0.6847966375684035,
          -0.7443560777042545,
          -0.8130786073086748,
          -0.8130786073086748,
          -0.81766010622797,
          -0.8818010910981057,
          -0.9047085856945827,
          -0.9184530824524689,
          -0.9230345813717642,
          -0.9276160802910597,
          -0.9413605770489459,
          -0.9459420759682412,
          -0.978012568403309,
          -0.483210685119406,
          -0.5656776656667231,
          -0.6344001494561541,
          -0.680215138649108,
          -0.712285631084176,
          -0.735193125680653,
          -0.7443560777042545,
          -0.771845117035016,
          -0.803915609470084,
          -0.8314046029858563,
          -0.886382590017401,
          -0.9184530824524689,
          -0.9642680716454229,
          -0.9642680716454229,
          -0.9734310694840137,
          -0.9871755662419,
          1.9037502518334972,
          1.8579352626405432,
          1.8212831338412123,
          1.7846313715617952,
          1.7479791969474752,
          1.6930013931758872,
          1.8121202734475892,
          1.7617238769653183,
          1.6792567131580443,
          1.6609306716658732,
          1.5830453274828191,
          1.596789961685673,
          1.5830453274828191,
          1.5005782094905342,
          1.3722964688252093,
          1.2394329085356643,
          1.1844548756891302
         ],
         "xaxis": "x",
         "y": [
          -0.009432527924492562,
          -0.012917810495263082,
          -0.0246614393455602,
          -0.01720787951676761,
          -0.010355072483283656,
          -0.017089471243327714,
          -0.01342850209218971,
          -0.008817574969827269,
          -0.009727232613114367,
          -0.012165810848284386,
          -0.017826385941363765,
          -0.011766178614687317,
          -0.000632949914415426,
          -0.004051210349599321,
          0.009338451030700023,
          0.011039552974796418,
          -0.0002398622945832818,
          0.01125106985501928,
          0.004026920508013954,
          0.038440831875237835,
          0.028779918565084106,
          0.03431082636611127,
          0.04419807923621416,
          0.04154578713297952,
          0.02467145824260142,
          0.008266115676990315,
          -0.006000923740644759,
          0.025560696240199632,
          0.007791026860896999,
          -0.0057663220675101545,
          0.0035018274203638122,
          0.01610745606761349,
          0.004289466418007815,
          0.009767718713229234,
          0.021678079830554253,
          0.007789333756649752,
          -0.0012430776309222402,
          0.0008506000084900767,
          -0.011817937428015957,
          0.03917496593488945,
          0.03770070635280448,
          0.03529558446031317,
          0.03196040299331837,
          0.033035028798660326,
          0.02449738539249502,
          0.02578561563892956,
          0.03181245975858904,
          0.03895786963987935,
          0.037641823756612125,
          0.032118426997414184,
          0.029928841932784833,
          0.030166077948277303,
          0.04261968913347569,
          0.04139848817435238,
          0.04304855440406513,
          0.03656986827294423,
          0.0353539713866548,
          0.005163452713181194,
          0.009648957340138209,
          0.006448994350066961,
          0.018203673987608526,
          0.0045616799207800485,
          0.00299092525014949,
          0.008316479177743474,
          0.008036509401497194,
          -0.03364458928713365,
          -0.01964980656692117,
          -0.013242010616831557,
          -0.026875369677825445,
          -0.038186963652333095,
          -0.03822036055474415,
          -0.006832664301830271,
          -0.030005281643520842,
          -0.01848981383752535,
          0.0478353160451756,
          0.049585016973806906,
          0.035034052016924666,
          0.037285102446987906,
          0.005144620168266778,
          -0.00644026825937688,
          0.028335336310427783,
          0.04121757658952058,
          0.07193900232389439,
          0.06852750492392018,
          0.07983799641971018,
          0.06435589245729911,
          0.053679026341488356,
          0.05103479149888296,
          -0.06087231856524217,
          -0.01933320834605956,
          -0.053732526905725,
          -0.05579859807698073,
          -0.04523958541998707,
          -0.031021147264913673,
          -0.03276313284429294,
          -0.04693220320270186,
          -0.05150985898219729,
          -0.034303178363700615,
          -0.044126698645856055,
          -0.03410284103285066,
          -0.03923924176885485,
          -0.06153306381504625,
          -0.04750379323767273,
          -0.02800620261636594,
          -0.02553149899222945,
          -0.02786714726791062,
          -0.03120647165246737,
          -0.0351263401651577,
          -0.023920356853617708,
          -0.02982142696685286,
          -0.026877816525673892,
          -0.03325694557271136,
          -0.02699492024511352,
          -0.030298587266329446,
          -0.027373098027458187,
          -0.017664760989533734,
          -0.012808984223372233,
          -0.016121355970780682,
          -0.0015625549467864208,
          -0.0038150179225838743,
          -0.008419360976164525,
          -0.003691813146522449,
          -0.002397421200482752,
          -0.02758521458948751,
          -0.01521070908287564,
          -0.02298233946986883,
          -0.017855267766013372,
          -0.009545085632417072,
          -0.0061003496928626055,
          -0.022523750448469382,
          -0.008501974185954775,
          -0.012400202882534128,
          -0.01210734287348153,
          -0.003810982129215046,
          0.006792964907837817,
          0.005722177918067839,
          0.009884223316245666,
          0.010990838147362125,
          0.014366035063204996,
          0.011614594877866036,
          0.0086601925076783,
          0.01933946065998332,
          0.011943551643554429,
          0.01673460015666206,
          0.012336751052191897,
          0.007555415554946321,
          0.010429524802084256,
          0.006835431130199354,
          -0.0061057475480303935,
          0.00331694026646423,
          0.029277031617133464,
          0.005749957706515263,
          -0.0006937652817381457,
          0.022862031351572276,
          0.010750642081956752,
          0.03455082826550887,
          0.039086611354638534,
          0.025798114081096835,
          -0.026612641048316177,
          -0.025564418202919964,
          -0.030158947030589633,
          -0.048107942921960856,
          -0.06162340089281804,
          -0.03480698036017449,
          -0.04452826393359033,
          -0.04506213246070612,
          -0.050044515935676825,
          -0.04767456789160057,
          -0.04103935714857787,
          -0.03763550290765155,
          0.015317985770086862,
          -0.00736674575850893,
          0.0075955559936119466,
          0.004430146359318932,
          0.015398405510368529,
          0.02093358510049903,
          0.007108862141151084,
          0.00820917362747553,
          -0.002536625335544218,
          -0.00878005191556508,
          -0.019008178360499672,
          -0.01152562010891095,
          -0.0015099835638131553,
          0.009196420722032805,
          0.010589072932851828,
          -0.00006376865601775972,
          0.0063561353741436455,
          0.009460930033255988,
          -0.002219702140718538,
          -0.01467433974690191,
          -0.011034128885460515,
          -0.005180894878663578,
          -0.006889164493732891,
          -0.0036767933217888293,
          0.001575981559829076,
          -0.004713888667872035,
          -0.0026544313506245976,
          -0.009112652671278254,
          -0.01895225412877871,
          -0.00253483885372896,
          -0.010651755440150679,
          -0.018395773354568712,
          -0.027073558836680667,
          -0.027840786425380848,
          -0.030920970406617787,
          -0.032486161721446694,
          -0.03284336688256495,
          -0.02469863641592579,
          -0.023310415392256756,
          -0.022411888309167405,
          -0.01936584333808128,
          -0.022385253589046916,
          -0.011934672655313672,
          0.08099007535603459,
          0.08184550051743295,
          0.06840032417418346,
          0.05622365101942478,
          0.042850654416793255,
          0.036468731255271614,
          0.02898940608315176,
          0.043403999248509406,
          0.04512951340322735,
          0.01984230574192003,
          0.03220153082899779,
          0.020249526816706998,
          0.020238451105278554,
          0.02754935616159837,
          0.03083309038047055,
          0.009916425367627713,
          -0.0040733755521124015,
          -0.0020831805256025238,
          0.014683952098386854,
          -0.0003621748570045713,
          0.0015842192564524682,
          0.004450031490637663,
          0.0032911906335008068,
          0.0023466753792520945,
          -0.001928576991047204,
          -0.007845984638588821,
          -0.008589632403830039,
          0.005047974835196645,
          0.0018381220018390265,
          -0.01725165152521374,
          0.004671450863435345,
          0.00014566868770599095,
          0.04384861609050128,
          0.028458296563614816,
          -0.015607511280847974,
          -0.007463663970697865,
          -0.021494855599488105,
          -0.021100021881527875,
          -0.0300732584943591,
          -0.0342259463094694,
          -0.026951115588040253,
          -0.025178195464629738,
          -0.018066728593681358,
          -0.004964712004852656,
          0.002123800310631585,
          -0.009873452224928969,
          -0.007958353639112736,
          -0.0016990033946376326,
          -0.028755834440254202,
          0.024441228541759896,
          -0.05545609365033294,
          -0.024323877539072947,
          0.000408705501097395,
          0.004363959244570059,
          -0.01072068649067709,
          0.002819770827022061,
          0.02470550998018145,
          0.009883077525888684,
          -0.0003051309680384695,
          0.010399055349187392,
          -0.004325919369087272,
          0.008181733022964655,
          -0.0008166578347356679,
          -0.006635346634132455,
          -0.009227524096635353,
          -0.006759991641783369,
          -0.0005161605422298599,
          -0.0031011822708000847,
          -0.006384456874285682,
          -0.008687359004804496,
          -0.010359700674580141,
          -0.006690461780103629,
          -0.14608082194088,
          0.017183341221409187,
          0.020373675691985893,
          0.01935162547755981,
          0.0037988118976709506,
          0.01285616810018314,
          0.019648943372764016,
          0.014110594227194129,
          0.02965585612084265,
          0.01648286905897478,
          0.016499664774050238,
          0.016727439645999986,
          0.018957258831809265,
          0.017148242734861652,
          0.02257268238183824,
          0.024321061941596722,
          0.011102011709967385,
          0.023221802641645528,
          0.020633476537096296,
          0.03441414978256413,
          0.04081612199761331,
          0.021193985722476716,
          0.0019085469426661228,
          0.009480619129852708,
          0.006692506980297608,
          0.012387621359718881,
          0.01638570489854546,
          0.02167192675863505,
          0.016557138151540418,
          0.019833967382972217,
          -0.018950434241363612,
          -0.026211329979145825,
          -0.01823531170357623,
          -0.013128695955551217,
          -0.017466224569955502,
          0.011505341632982669,
          0.008293640698251836,
          0.01337502271370744,
          -0.0006336554694127416,
          0.06626245697855371,
          0.049760480974597066,
          0.02496158870571963,
          0.023863740547975743,
          0.02263836105222633,
          0.027969892043927802,
          0.027488913141247573,
          0.009346169582546748,
          0.015306171967597981,
          0.013849689508946439,
          -0.0052437525116544315,
          -0.015212446096378118,
          -0.01078428359857142,
          -0.012402746395875741,
          -0.003886787607025044,
          0.006155536317089649,
          0.00653428483495333,
          -0.001434107315461397,
          0.011849517020231792,
          0.008034266809130775,
          -0.01481000621175771,
          -0.013305900925866976,
          -0.02212711840563769,
          -0.02637288806229693,
          -0.03607236135299774,
          -0.04239472892809509,
          -0.01481659738298946,
          -0.006857251741105408,
          -0.017820247238887255,
          -0.018407792639698273,
          0.02776533722122826,
          0.03505847721748101,
          0.0007113377841737045,
          -0.015625965830907862,
          -0.013218156989363627,
          -0.005683084508408154,
          0.00007577469918085278,
          0.019153130931066797,
          0.027634359725199675,
          0.025159644271211923,
          0.029070093527369945,
          0.03403466072772898,
          0.036948161926731005,
          -0.019263787424662948,
          -0.01624378779126151,
          -0.02075873355940583,
          -0.025108927495946287,
          -0.02703190035171399,
          -0.03308897428368679,
          -0.024727187875298318,
          -0.02414917209039036,
          -0.027412995982478316,
          -0.03345828566470377,
          -0.025431170457028085,
          -0.026415757431068554,
          -0.021455907479599023,
          -0.02216772630943087,
          -0.03062448029545861,
          -0.031553259995663496,
          0.00490506530802981,
          0.007507271080077149,
          0.004701335323379241,
          0.007523601726305007,
          0.007511323739103903,
          -0.0021205498892235553,
          0.0023598977629440965,
          0.00030179015135572973,
          -0.006825977823607998,
          -0.006895851135550246,
          -0.005341269840980101,
          -0.010935672706249067,
          -0.006339001544700462,
          -0.00748744365032189,
          -0.006449405639113837,
          -0.007752799037765545,
          -0.0016303104640084665
         ],
         "yaxis": "y"
        }
       ],
       "layout": {
        "legend": {
         "tracegroupgap": 0
        },
        "template": {
         "data": {
          "bar": [
           {
            "error_x": {
             "color": "#2a3f5f"
            },
            "error_y": {
             "color": "#2a3f5f"
            },
            "marker": {
             "line": {
              "color": "#E5ECF6",
              "width": 0.5
             },
             "pattern": {
              "fillmode": "overlay",
              "size": 10,
              "solidity": 0.2
             }
            },
            "type": "bar"
           }
          ],
          "barpolar": [
           {
            "marker": {
             "line": {
              "color": "#E5ECF6",
              "width": 0.5
             },
             "pattern": {
              "fillmode": "overlay",
              "size": 10,
              "solidity": 0.2
             }
            },
            "type": "barpolar"
           }
          ],
          "carpet": [
           {
            "aaxis": {
             "endlinecolor": "#2a3f5f",
             "gridcolor": "white",
             "linecolor": "white",
             "minorgridcolor": "white",
             "startlinecolor": "#2a3f5f"
            },
            "baxis": {
             "endlinecolor": "#2a3f5f",
             "gridcolor": "white",
             "linecolor": "white",
             "minorgridcolor": "white",
             "startlinecolor": "#2a3f5f"
            },
            "type": "carpet"
           }
          ],
          "choropleth": [
           {
            "colorbar": {
             "outlinewidth": 0,
             "ticks": ""
            },
            "type": "choropleth"
           }
          ],
          "contour": [
           {
            "colorbar": {
             "outlinewidth": 0,
             "ticks": ""
            },
            "colorscale": [
             [
              0,
              "#0d0887"
             ],
             [
              0.1111111111111111,
              "#46039f"
             ],
             [
              0.2222222222222222,
              "#7201a8"
             ],
             [
              0.3333333333333333,
              "#9c179e"
             ],
             [
              0.4444444444444444,
              "#bd3786"
             ],
             [
              0.5555555555555556,
              "#d8576b"
             ],
             [
              0.6666666666666666,
              "#ed7953"
             ],
             [
              0.7777777777777778,
              "#fb9f3a"
             ],
             [
              0.8888888888888888,
              "#fdca26"
             ],
             [
              1,
              "#f0f921"
             ]
            ],
            "type": "contour"
           }
          ],
          "contourcarpet": [
           {
            "colorbar": {
             "outlinewidth": 0,
             "ticks": ""
            },
            "type": "contourcarpet"
           }
          ],
          "heatmap": [
           {
            "colorbar": {
             "outlinewidth": 0,
             "ticks": ""
            },
            "colorscale": [
             [
              0,
              "#0d0887"
             ],
             [
              0.1111111111111111,
              "#46039f"
             ],
             [
              0.2222222222222222,
              "#7201a8"
             ],
             [
              0.3333333333333333,
              "#9c179e"
             ],
             [
              0.4444444444444444,
              "#bd3786"
             ],
             [
              0.5555555555555556,
              "#d8576b"
             ],
             [
              0.6666666666666666,
              "#ed7953"
             ],
             [
              0.7777777777777778,
              "#fb9f3a"
             ],
             [
              0.8888888888888888,
              "#fdca26"
             ],
             [
              1,
              "#f0f921"
             ]
            ],
            "type": "heatmap"
           }
          ],
          "heatmapgl": [
           {
            "colorbar": {
             "outlinewidth": 0,
             "ticks": ""
            },
            "colorscale": [
             [
              0,
              "#0d0887"
             ],
             [
              0.1111111111111111,
              "#46039f"
             ],
             [
              0.2222222222222222,
              "#7201a8"
             ],
             [
              0.3333333333333333,
              "#9c179e"
             ],
             [
              0.4444444444444444,
              "#bd3786"
             ],
             [
              0.5555555555555556,
              "#d8576b"
             ],
             [
              0.6666666666666666,
              "#ed7953"
             ],
             [
              0.7777777777777778,
              "#fb9f3a"
             ],
             [
              0.8888888888888888,
              "#fdca26"
             ],
             [
              1,
              "#f0f921"
             ]
            ],
            "type": "heatmapgl"
           }
          ],
          "histogram": [
           {
            "marker": {
             "pattern": {
              "fillmode": "overlay",
              "size": 10,
              "solidity": 0.2
             }
            },
            "type": "histogram"
           }
          ],
          "histogram2d": [
           {
            "colorbar": {
             "outlinewidth": 0,
             "ticks": ""
            },
            "colorscale": [
             [
              0,
              "#0d0887"
             ],
             [
              0.1111111111111111,
              "#46039f"
             ],
             [
              0.2222222222222222,
              "#7201a8"
             ],
             [
              0.3333333333333333,
              "#9c179e"
             ],
             [
              0.4444444444444444,
              "#bd3786"
             ],
             [
              0.5555555555555556,
              "#d8576b"
             ],
             [
              0.6666666666666666,
              "#ed7953"
             ],
             [
              0.7777777777777778,
              "#fb9f3a"
             ],
             [
              0.8888888888888888,
              "#fdca26"
             ],
             [
              1,
              "#f0f921"
             ]
            ],
            "type": "histogram2d"
           }
          ],
          "histogram2dcontour": [
           {
            "colorbar": {
             "outlinewidth": 0,
             "ticks": ""
            },
            "colorscale": [
             [
              0,
              "#0d0887"
             ],
             [
              0.1111111111111111,
              "#46039f"
             ],
             [
              0.2222222222222222,
              "#7201a8"
             ],
             [
              0.3333333333333333,
              "#9c179e"
             ],
             [
              0.4444444444444444,
              "#bd3786"
             ],
             [
              0.5555555555555556,
              "#d8576b"
             ],
             [
              0.6666666666666666,
              "#ed7953"
             ],
             [
              0.7777777777777778,
              "#fb9f3a"
             ],
             [
              0.8888888888888888,
              "#fdca26"
             ],
             [
              1,
              "#f0f921"
             ]
            ],
            "type": "histogram2dcontour"
           }
          ],
          "mesh3d": [
           {
            "colorbar": {
             "outlinewidth": 0,
             "ticks": ""
            },
            "type": "mesh3d"
           }
          ],
          "parcoords": [
           {
            "line": {
             "colorbar": {
              "outlinewidth": 0,
              "ticks": ""
             }
            },
            "type": "parcoords"
           }
          ],
          "pie": [
           {
            "automargin": true,
            "type": "pie"
           }
          ],
          "scatter": [
           {
            "fillpattern": {
             "fillmode": "overlay",
             "size": 10,
             "solidity": 0.2
            },
            "type": "scatter"
           }
          ],
          "scatter3d": [
           {
            "line": {
             "colorbar": {
              "outlinewidth": 0,
              "ticks": ""
             }
            },
            "marker": {
             "colorbar": {
              "outlinewidth": 0,
              "ticks": ""
             }
            },
            "type": "scatter3d"
           }
          ],
          "scattercarpet": [
           {
            "marker": {
             "colorbar": {
              "outlinewidth": 0,
              "ticks": ""
             }
            },
            "type": "scattercarpet"
           }
          ],
          "scattergeo": [
           {
            "marker": {
             "colorbar": {
              "outlinewidth": 0,
              "ticks": ""
             }
            },
            "type": "scattergeo"
           }
          ],
          "scattergl": [
           {
            "marker": {
             "colorbar": {
              "outlinewidth": 0,
              "ticks": ""
             }
            },
            "type": "scattergl"
           }
          ],
          "scattermapbox": [
           {
            "marker": {
             "colorbar": {
              "outlinewidth": 0,
              "ticks": ""
             }
            },
            "type": "scattermapbox"
           }
          ],
          "scatterpolar": [
           {
            "marker": {
             "colorbar": {
              "outlinewidth": 0,
              "ticks": ""
             }
            },
            "type": "scatterpolar"
           }
          ],
          "scatterpolargl": [
           {
            "marker": {
             "colorbar": {
              "outlinewidth": 0,
              "ticks": ""
             }
            },
            "type": "scatterpolargl"
           }
          ],
          "scatterternary": [
           {
            "marker": {
             "colorbar": {
              "outlinewidth": 0,
              "ticks": ""
             }
            },
            "type": "scatterternary"
           }
          ],
          "surface": [
           {
            "colorbar": {
             "outlinewidth": 0,
             "ticks": ""
            },
            "colorscale": [
             [
              0,
              "#0d0887"
             ],
             [
              0.1111111111111111,
              "#46039f"
             ],
             [
              0.2222222222222222,
              "#7201a8"
             ],
             [
              0.3333333333333333,
              "#9c179e"
             ],
             [
              0.4444444444444444,
              "#bd3786"
             ],
             [
              0.5555555555555556,
              "#d8576b"
             ],
             [
              0.6666666666666666,
              "#ed7953"
             ],
             [
              0.7777777777777778,
              "#fb9f3a"
             ],
             [
              0.8888888888888888,
              "#fdca26"
             ],
             [
              1,
              "#f0f921"
             ]
            ],
            "type": "surface"
           }
          ],
          "table": [
           {
            "cells": {
             "fill": {
              "color": "#EBF0F8"
             },
             "line": {
              "color": "white"
             }
            },
            "header": {
             "fill": {
              "color": "#C8D4E3"
             },
             "line": {
              "color": "white"
             }
            },
            "type": "table"
           }
          ]
         },
         "layout": {
          "annotationdefaults": {
           "arrowcolor": "#2a3f5f",
           "arrowhead": 0,
           "arrowwidth": 1
          },
          "autotypenumbers": "strict",
          "coloraxis": {
           "colorbar": {
            "outlinewidth": 0,
            "ticks": ""
           }
          },
          "colorscale": {
           "diverging": [
            [
             0,
             "#8e0152"
            ],
            [
             0.1,
             "#c51b7d"
            ],
            [
             0.2,
             "#de77ae"
            ],
            [
             0.3,
             "#f1b6da"
            ],
            [
             0.4,
             "#fde0ef"
            ],
            [
             0.5,
             "#f7f7f7"
            ],
            [
             0.6,
             "#e6f5d0"
            ],
            [
             0.7,
             "#b8e186"
            ],
            [
             0.8,
             "#7fbc41"
            ],
            [
             0.9,
             "#4d9221"
            ],
            [
             1,
             "#276419"
            ]
           ],
           "sequential": [
            [
             0,
             "#0d0887"
            ],
            [
             0.1111111111111111,
             "#46039f"
            ],
            [
             0.2222222222222222,
             "#7201a8"
            ],
            [
             0.3333333333333333,
             "#9c179e"
            ],
            [
             0.4444444444444444,
             "#bd3786"
            ],
            [
             0.5555555555555556,
             "#d8576b"
            ],
            [
             0.6666666666666666,
             "#ed7953"
            ],
            [
             0.7777777777777778,
             "#fb9f3a"
            ],
            [
             0.8888888888888888,
             "#fdca26"
            ],
            [
             1,
             "#f0f921"
            ]
           ],
           "sequentialminus": [
            [
             0,
             "#0d0887"
            ],
            [
             0.1111111111111111,
             "#46039f"
            ],
            [
             0.2222222222222222,
             "#7201a8"
            ],
            [
             0.3333333333333333,
             "#9c179e"
            ],
            [
             0.4444444444444444,
             "#bd3786"
            ],
            [
             0.5555555555555556,
             "#d8576b"
            ],
            [
             0.6666666666666666,
             "#ed7953"
            ],
            [
             0.7777777777777778,
             "#fb9f3a"
            ],
            [
             0.8888888888888888,
             "#fdca26"
            ],
            [
             1,
             "#f0f921"
            ]
           ]
          },
          "colorway": [
           "#636efa",
           "#EF553B",
           "#00cc96",
           "#ab63fa",
           "#FFA15A",
           "#19d3f3",
           "#FF6692",
           "#B6E880",
           "#FF97FF",
           "#FECB52"
          ],
          "font": {
           "color": "#2a3f5f"
          },
          "geo": {
           "bgcolor": "white",
           "lakecolor": "white",
           "landcolor": "#E5ECF6",
           "showlakes": true,
           "showland": true,
           "subunitcolor": "white"
          },
          "hoverlabel": {
           "align": "left"
          },
          "hovermode": "closest",
          "mapbox": {
           "style": "light"
          },
          "paper_bgcolor": "white",
          "plot_bgcolor": "#E5ECF6",
          "polar": {
           "angularaxis": {
            "gridcolor": "white",
            "linecolor": "white",
            "ticks": ""
           },
           "bgcolor": "#E5ECF6",
           "radialaxis": {
            "gridcolor": "white",
            "linecolor": "white",
            "ticks": ""
           }
          },
          "scene": {
           "xaxis": {
            "backgroundcolor": "#E5ECF6",
            "gridcolor": "white",
            "gridwidth": 2,
            "linecolor": "white",
            "showbackground": true,
            "ticks": "",
            "zerolinecolor": "white"
           },
           "yaxis": {
            "backgroundcolor": "#E5ECF6",
            "gridcolor": "white",
            "gridwidth": 2,
            "linecolor": "white",
            "showbackground": true,
            "ticks": "",
            "zerolinecolor": "white"
           },
           "zaxis": {
            "backgroundcolor": "#E5ECF6",
            "gridcolor": "white",
            "gridwidth": 2,
            "linecolor": "white",
            "showbackground": true,
            "ticks": "",
            "zerolinecolor": "white"
           }
          },
          "shapedefaults": {
           "line": {
            "color": "#2a3f5f"
           }
          },
          "ternary": {
           "aaxis": {
            "gridcolor": "white",
            "linecolor": "white",
            "ticks": ""
           },
           "baxis": {
            "gridcolor": "white",
            "linecolor": "white",
            "ticks": ""
           },
           "bgcolor": "#E5ECF6",
           "caxis": {
            "gridcolor": "white",
            "linecolor": "white",
            "ticks": ""
           }
          },
          "title": {
           "x": 0.05
          },
          "xaxis": {
           "automargin": true,
           "gridcolor": "white",
           "linecolor": "white",
           "ticks": "",
           "title": {
            "standoff": 15
           },
           "zerolinecolor": "white",
           "zerolinewidth": 2
          },
          "yaxis": {
           "automargin": true,
           "gridcolor": "white",
           "linecolor": "white",
           "ticks": "",
           "title": {
            "standoff": 15
           },
           "zerolinecolor": "white",
           "zerolinewidth": 2
          }
         }
        },
        "title": {
         "text": "Residual plot of Trade union density"
        },
        "xaxis": {
         "anchor": "y",
         "domain": [
          0,
          1
         ],
         "title": {
          "text": "Trade union density"
         }
        },
        "yaxis": {
         "anchor": "x",
         "domain": [
          0,
          1
         ],
         "title": {
          "text": "Residuals"
         }
        }
       }
      }
     },
     "metadata": {},
     "output_type": "display_data"
    },
    {
     "data": {
      "application/vnd.plotly.v1+json": {
       "config": {
        "plotlyServerURL": "https://plot.ly"
       },
       "data": [
        {
         "hovertemplate": "Combined corporate income tax rate=%{x}<br>Residuals=%{y}<extra></extra>",
         "legendgroup": "",
         "marker": {
          "color": "#636efa",
          "symbol": "circle"
         },
         "mode": "markers",
         "name": "",
         "orientation": "v",
         "showlegend": false,
         "type": "scatter",
         "x": [
          0.3799006802449786,
          0.3799006802449786,
          0.3799006802449786,
          0.3799006802449786,
          0.3799006802449786,
          0.3799006802449786,
          0.3799006802449786,
          0.3799006802449786,
          0.13293750717212824,
          0.13293750717212824,
          0.13293750717212824,
          0.13293750717212824,
          -0.4917340482474348,
          -0.4917340482474348,
          -0.4917340482474348,
          -0.4917340482474348,
          -0.4917340482474348,
          -0.4917340482474348,
          -0.5788975210966762,
          -0.20118913874996364,
          -1.3633687767398481,
          -1.8718223683604225,
          -1.8718223683604225,
          -1.8718223683604225,
          -1.8718223683604225,
          -1.8718223683604225,
          -1.8718223683604225,
          -1.8718223683604225,
          -1.8718223683604225,
          -1.8718223683604225,
          -1.8718223683604225,
          -1.8718223683604225,
          -1.8718223683604225,
          -1.8718223683604225,
          -1.8718223683604225,
          -1.8718223683604225,
          -1.8718223683604225,
          -1.8718223683604225,
          -1.8718223683604225,
          2.159488250916989,
          1.868943341419518,
          1.7236708866707824,
          1.7236708866707824,
          1.7236708866707824,
          1.7236708866707824,
          0.8738270263906792,
          0.8738270263906792,
          0.8738270263906792,
          0.8738270263906792,
          0.8582465556188779,
          0.8582465556188779,
          0.8582465556188779,
          0.8582465556188779,
          0.8582465556188779,
          0.3517759330056234,
          0.3517759330056234,
          0.3517759330056234,
          0.6704455897424497,
          0.6704455897424497,
          0.6704455897424497,
          0.6704455897424497,
          0.6704455897424497,
          0.6704455897424497,
          0.6704455897424497,
          0.6704455897424497,
          0.6704455897424497,
          0.6704455897424497,
          0.6704455897424497,
          0.6704455897424497,
          0.6704455897424497,
          0.6704455897424497,
          2.0563448080453868,
          2.0563448080453868,
          1.6873527729835986,
          -0.9275514124936414,
          -1.0728238672423769,
          -1.5086412314885838,
          -0.7822789577449059,
          -1.5086412314885838,
          -1.5086412314885838,
          -1.5086412314885838,
          -1.5086412314885838,
          -1.5086412314885838,
          -1.5086412314885838,
          -1.5086412314885838,
          -1.5086412314885838,
          -1.5086412314885838,
          -1.5086412314885838,
          -0.9275514124936414,
          -0.9275514124936414,
          -0.9275514124936414,
          -0.9275514124936414,
          -0.9275514124936414,
          -0.9275514124936414,
          -0.9275514124936414,
          -0.9275514124936414,
          -0.9275514124936414,
          -0.3464615934986992,
          -0.4917340482474348,
          -0.4917340482474348,
          -0.4917340482474348,
          -0.6370065029961703,
          -0.6370065029961703,
          3.8100089449848498,
          1.8703899645239055,
          1.8741490345629843,
          2.070526305077958,
          1.8816577319315824,
          1.8854073592611016,
          1.8928971712105827,
          1.8854073592611016,
          0.5840084791669522,
          0.5789239432507465,
          0.5959155906479775,
          0.6052086695782543,
          0.6094311587479805,
          0.6188700912228253,
          0.6279112677165674,
          0.6385546541137334,
          0.6441286129299876,
          0.6543585539209389,
          0.65549109797816,
          0.6614068828804383,
          0.9609904992399209,
          0.6704455897424497,
          0.6704455897424497,
          0.3799006802449786,
          0.3799006802449786,
          -0.05591668400122808,
          -0.05591668400122808,
          -0.05591668400122808,
          -0.05591668400122808,
          -0.05591668400122808,
          -0.05591668400122808,
          -0.05591668400122808,
          -0.12855291137559585,
          -0.2738253661243314,
          -0.4917340482474348,
          -0.4917340482474348,
          -0.4917340482474348,
          -0.4917340482474348,
          0.7256491225469691,
          0.7256491225469691,
          0.7256491225469691,
          0.6166947814854173,
          0.6166947814854173,
          0.6166947814854173,
          0.46561142854673254,
          0.46561142854673254,
          0.4961186440439671,
          0.4961186440439671,
          0.5571330750384358,
          0.5571330750384358,
          0.5571330750384358,
          0.5571330750384358,
          0.24625002187614162,
          0.09080849529499506,
          -0.06463303128615203,
          -0.05591668400122808,
          -0.05591668400122808,
          -0.05591668400122808,
          -0.3464615934986992,
          -0.4917340482474348,
          -0.6370065029961703,
          -0.7822789577449059,
          -0.7822789577449059,
          -1.0728238672423769,
          -1.2180963219911125,
          -1.2180963219911125,
          -1.2180963219911125,
          1.3968078634861274,
          1.3968078634861274,
          1.3968078634861274,
          1.3968078634861274,
          1.3968078634861274,
          1.0336267266142887,
          0.6704455897424497,
          0.6704455897424497,
          0.6704455897424497,
          0.6704455897424497,
          0.6704455897424497,
          0.6704455897424497,
          0.6704455897424497,
          0.3799006802449786,
          -0.05591668400122808,
          -0.05591668400122808,
          -0.05591668400122808,
          -0.05591668400122808,
          -0.6116654665347105,
          -0.6116654665347105,
          -0.6116654665347105,
          -0.6154217763971485,
          -0.6154217763971485,
          -0.6154217763971485,
          -0.6154217763971485,
          -0.6154217763971485,
          -0.6154217763971485,
          1.3241716361117597,
          0.888354271865553,
          0.6123366078429556,
          0.016719543373139693,
          0.016719543373139693,
          0.016719543373139693,
          0.016719543373139693,
          -0.05591668400122808,
          -0.05591668400122808,
          -0.05591668400122808,
          -0.05591668400122808,
          -0.05591668400122808,
          -0.05591668400122808,
          -0.05591668400122808,
          -0.05591668400122808,
          -0.05591668400122808,
          1.1062629539886564,
          0.3072644528706108,
          0.3072644528706108,
          0.16199199812187526,
          0.16199199812187526,
          0.16199199812187526,
          0.45253690761934634,
          0.5978093623680819,
          0.5978093623680819,
          1.1062629539886564,
          1.1062629539886564,
          1.1062629539886564,
          1.1062629539886564,
          1.251535408737392,
          1.251535408737392,
          1.9778976824810697,
          2.1231701372298053,
          2.1231701372298053,
          -0.9275514124936414,
          -0.9275514124936414,
          -0.9275514124936414,
          -0.9275514124936414,
          -0.9275514124936414,
          -0.9275514124936414,
          -0.9275514124936414,
          -0.9275514124936414,
          -0.9275514124936414,
          -0.9275514124936414,
          -0.9275514124936414,
          -0.9275514124936414,
          0.3799006802449786,
          0.3799006802449786,
          0.3799006802449786,
          0.3799006802449786,
          0.3799006802449786,
          0.3799006802449786,
          0.3799006802449786,
          0.3799006802449786,
          0.3799006802449786,
          0.3799006802449786,
          0.3799006802449786,
          0.3799006802449786,
          0.23462822549624301,
          0.23462822549624301,
          -0.05591668400122808,
          -0.20118913874996364,
          -0.3464615934986992,
          -0.4917340482474348,
          -1.3633687767398481,
          -1.3633687767398481,
          -0.7822789577449059,
          -0.9275514124936414,
          -0.9275514124936414,
          -0.9275514124936414,
          -2.380275959980997,
          1.2500826841899049,
          1.2500826841899049,
          1.2500826841899049,
          1.5377221445924008,
          1.2500826841899049,
          1.2500826841899049,
          1.2500826841899049,
          1.2500826841899049,
          1.2500826841899049,
          1.2500826841899049,
          1.2500826841899049,
          1.2500826841899049,
          1.2500826841899049,
          1.2500826841899049,
          1.2500826841899049,
          0.6094311587479805,
          0.6094311587479805,
          -0.20118913874996364,
          1.251535408737392,
          1.251535408737392,
          1.251535408737392,
          -0.05591668400122808,
          -0.05591668400122808,
          -0.05591668400122808,
          -0.05591668400122808,
          -0.05591668400122808,
          -0.05591668400122808,
          -0.05591668400122808,
          -0.05591668400122808,
          -0.05591668400122808,
          -0.05591668400122808,
          -0.05591668400122808,
          -0.05591668400122808,
          -0.05591668400122808,
          -0.05591668400122808,
          -0.05591668400122808,
          1.3968078634861274,
          -0.05591668400122808,
          -0.20118913874996364,
          0.08935577074750747,
          0.5251731349937141,
          -1.0728238672423769,
          -1.0728238672423769,
          -1.0728238672423769,
          -1.0728238672423769,
          -1.0728238672423769,
          -1.5086412314885838,
          -1.5086412314885838,
          -1.0728238672423769,
          -0.7822789577449059,
          -0.7822789577449059,
          -0.7822789577449059,
          -0.7822789577449059,
          -0.7822789577449059,
          -0.7822789577449059,
          -0.7822789577449059,
          0.6704455897424497,
          0.6704455897424497,
          0.6704455897424497,
          0.6704455897424497,
          0.6704455897424497,
          0.6704455897424497,
          0.6704455897424497,
          0.6704455897424497,
          0.3799006802449786,
          0.3799006802449786,
          0.3799006802449786,
          0.08935577074750747,
          -0.20118913874996364,
          -0.3464615934986992,
          -0.6370065029961703,
          -0.7822789577449059,
          -0.7822789577449059,
          -0.9275514124936414,
          -0.9275514124936414,
          -0.9275514124936414,
          1.798728370048447,
          1.6050316668684965,
          1.459759212119761,
          1.459759212119761,
          1.459759212119761,
          1.3871229847453932,
          1.3144867573710255,
          1.3144867573710255,
          1.832625227732334,
          1.3144867573710255,
          -1.5086412314885838,
          -1.5086412314885838,
          -1.5086412314885838,
          -1.5086412314885838,
          -1.5086412314885838,
          -1.5086412314885838,
          -1.5086412314885838,
          -1.5086412314885838,
          -1.5086412314885838,
          -1.5086412314885838,
          -1.5086412314885838,
          -1.5086412314885838,
          -0.7822789577449059,
          0.8157180444911852,
          0.3799006802449786,
          0.08935577074750747,
          -0.20118913874996364,
          -0.20118913874996364,
          -0.6370065029961703,
          -0.7822789577449059,
          -0.9275514124936414,
          -0.9275514124936414,
          -0.9275514124936414,
          -0.9275514124936414,
          -0.9275514124936414,
          -0.9275514124936414,
          -0.9275514124936414,
          -0.9275514124936414,
          -0.9275514124936414,
          0.5251731349937141,
          0.5251731349937141,
          0.08935577074750747,
          0.08935577074750747,
          0.08935577074750747,
          0.08935577074750747,
          0.08935577074750747,
          0.08935577074750747,
          0.08935577074750747,
          -0.12855291137559585,
          -0.12855291137559585,
          -0.7822789577449059,
          -0.7822789577449059,
          -0.7822789577449059,
          -0.7822789577449059,
          -0.7822789577449059,
          -0.7822789577449059
         ],
         "xaxis": "x",
         "y": [
          -0.009432527924492562,
          -0.012917810495263082,
          -0.0246614393455602,
          -0.01720787951676761,
          -0.010355072483283656,
          -0.017089471243327714,
          -0.01342850209218971,
          -0.008817574969827269,
          -0.009727232613114367,
          -0.012165810848284386,
          -0.017826385941363765,
          -0.011766178614687317,
          -0.000632949914415426,
          -0.004051210349599321,
          0.009338451030700023,
          0.011039552974796418,
          -0.0002398622945832818,
          0.01125106985501928,
          0.004026920508013954,
          0.038440831875237835,
          0.028779918565084106,
          0.03431082636611127,
          0.04419807923621416,
          0.04154578713297952,
          0.02467145824260142,
          0.008266115676990315,
          -0.006000923740644759,
          0.025560696240199632,
          0.007791026860896999,
          -0.0057663220675101545,
          0.0035018274203638122,
          0.01610745606761349,
          0.004289466418007815,
          0.009767718713229234,
          0.021678079830554253,
          0.007789333756649752,
          -0.0012430776309222402,
          0.0008506000084900767,
          -0.011817937428015957,
          0.03917496593488945,
          0.03770070635280448,
          0.03529558446031317,
          0.03196040299331837,
          0.033035028798660326,
          0.02449738539249502,
          0.02578561563892956,
          0.03181245975858904,
          0.03895786963987935,
          0.037641823756612125,
          0.032118426997414184,
          0.029928841932784833,
          0.030166077948277303,
          0.04261968913347569,
          0.04139848817435238,
          0.04304855440406513,
          0.03656986827294423,
          0.0353539713866548,
          0.005163452713181194,
          0.009648957340138209,
          0.006448994350066961,
          0.018203673987608526,
          0.0045616799207800485,
          0.00299092525014949,
          0.008316479177743474,
          0.008036509401497194,
          -0.03364458928713365,
          -0.01964980656692117,
          -0.013242010616831557,
          -0.026875369677825445,
          -0.038186963652333095,
          -0.03822036055474415,
          -0.006832664301830271,
          -0.030005281643520842,
          -0.01848981383752535,
          0.0478353160451756,
          0.049585016973806906,
          0.035034052016924666,
          0.037285102446987906,
          0.005144620168266778,
          -0.00644026825937688,
          0.028335336310427783,
          0.04121757658952058,
          0.07193900232389439,
          0.06852750492392018,
          0.07983799641971018,
          0.06435589245729911,
          0.053679026341488356,
          0.05103479149888296,
          -0.06087231856524217,
          -0.01933320834605956,
          -0.053732526905725,
          -0.05579859807698073,
          -0.04523958541998707,
          -0.031021147264913673,
          -0.03276313284429294,
          -0.04693220320270186,
          -0.05150985898219729,
          -0.034303178363700615,
          -0.044126698645856055,
          -0.03410284103285066,
          -0.03923924176885485,
          -0.06153306381504625,
          -0.04750379323767273,
          -0.02800620261636594,
          -0.02553149899222945,
          -0.02786714726791062,
          -0.03120647165246737,
          -0.0351263401651577,
          -0.023920356853617708,
          -0.02982142696685286,
          -0.026877816525673892,
          -0.03325694557271136,
          -0.02699492024511352,
          -0.030298587266329446,
          -0.027373098027458187,
          -0.017664760989533734,
          -0.012808984223372233,
          -0.016121355970780682,
          -0.0015625549467864208,
          -0.0038150179225838743,
          -0.008419360976164525,
          -0.003691813146522449,
          -0.002397421200482752,
          -0.02758521458948751,
          -0.01521070908287564,
          -0.02298233946986883,
          -0.017855267766013372,
          -0.009545085632417072,
          -0.0061003496928626055,
          -0.022523750448469382,
          -0.008501974185954775,
          -0.012400202882534128,
          -0.01210734287348153,
          -0.003810982129215046,
          0.006792964907837817,
          0.005722177918067839,
          0.009884223316245666,
          0.010990838147362125,
          0.014366035063204996,
          0.011614594877866036,
          0.0086601925076783,
          0.01933946065998332,
          0.011943551643554429,
          0.01673460015666206,
          0.012336751052191897,
          0.007555415554946321,
          0.010429524802084256,
          0.006835431130199354,
          -0.0061057475480303935,
          0.00331694026646423,
          0.029277031617133464,
          0.005749957706515263,
          -0.0006937652817381457,
          0.022862031351572276,
          0.010750642081956752,
          0.03455082826550887,
          0.039086611354638534,
          0.025798114081096835,
          -0.026612641048316177,
          -0.025564418202919964,
          -0.030158947030589633,
          -0.048107942921960856,
          -0.06162340089281804,
          -0.03480698036017449,
          -0.04452826393359033,
          -0.04506213246070612,
          -0.050044515935676825,
          -0.04767456789160057,
          -0.04103935714857787,
          -0.03763550290765155,
          0.015317985770086862,
          -0.00736674575850893,
          0.0075955559936119466,
          0.004430146359318932,
          0.015398405510368529,
          0.02093358510049903,
          0.007108862141151084,
          0.00820917362747553,
          -0.002536625335544218,
          -0.00878005191556508,
          -0.019008178360499672,
          -0.01152562010891095,
          -0.0015099835638131553,
          0.009196420722032805,
          0.010589072932851828,
          -0.00006376865601775972,
          0.0063561353741436455,
          0.009460930033255988,
          -0.002219702140718538,
          -0.01467433974690191,
          -0.011034128885460515,
          -0.005180894878663578,
          -0.006889164493732891,
          -0.0036767933217888293,
          0.001575981559829076,
          -0.004713888667872035,
          -0.0026544313506245976,
          -0.009112652671278254,
          -0.01895225412877871,
          -0.00253483885372896,
          -0.010651755440150679,
          -0.018395773354568712,
          -0.027073558836680667,
          -0.027840786425380848,
          -0.030920970406617787,
          -0.032486161721446694,
          -0.03284336688256495,
          -0.02469863641592579,
          -0.023310415392256756,
          -0.022411888309167405,
          -0.01936584333808128,
          -0.022385253589046916,
          -0.011934672655313672,
          0.08099007535603459,
          0.08184550051743295,
          0.06840032417418346,
          0.05622365101942478,
          0.042850654416793255,
          0.036468731255271614,
          0.02898940608315176,
          0.043403999248509406,
          0.04512951340322735,
          0.01984230574192003,
          0.03220153082899779,
          0.020249526816706998,
          0.020238451105278554,
          0.02754935616159837,
          0.03083309038047055,
          0.009916425367627713,
          -0.0040733755521124015,
          -0.0020831805256025238,
          0.014683952098386854,
          -0.0003621748570045713,
          0.0015842192564524682,
          0.004450031490637663,
          0.0032911906335008068,
          0.0023466753792520945,
          -0.001928576991047204,
          -0.007845984638588821,
          -0.008589632403830039,
          0.005047974835196645,
          0.0018381220018390265,
          -0.01725165152521374,
          0.004671450863435345,
          0.00014566868770599095,
          0.04384861609050128,
          0.028458296563614816,
          -0.015607511280847974,
          -0.007463663970697865,
          -0.021494855599488105,
          -0.021100021881527875,
          -0.0300732584943591,
          -0.0342259463094694,
          -0.026951115588040253,
          -0.025178195464629738,
          -0.018066728593681358,
          -0.004964712004852656,
          0.002123800310631585,
          -0.009873452224928969,
          -0.007958353639112736,
          -0.0016990033946376326,
          -0.028755834440254202,
          0.024441228541759896,
          -0.05545609365033294,
          -0.024323877539072947,
          0.000408705501097395,
          0.004363959244570059,
          -0.01072068649067709,
          0.002819770827022061,
          0.02470550998018145,
          0.009883077525888684,
          -0.0003051309680384695,
          0.010399055349187392,
          -0.004325919369087272,
          0.008181733022964655,
          -0.0008166578347356679,
          -0.006635346634132455,
          -0.009227524096635353,
          -0.006759991641783369,
          -0.0005161605422298599,
          -0.0031011822708000847,
          -0.006384456874285682,
          -0.008687359004804496,
          -0.010359700674580141,
          -0.006690461780103629,
          -0.14608082194088,
          0.017183341221409187,
          0.020373675691985893,
          0.01935162547755981,
          0.0037988118976709506,
          0.01285616810018314,
          0.019648943372764016,
          0.014110594227194129,
          0.02965585612084265,
          0.01648286905897478,
          0.016499664774050238,
          0.016727439645999986,
          0.018957258831809265,
          0.017148242734861652,
          0.02257268238183824,
          0.024321061941596722,
          0.011102011709967385,
          0.023221802641645528,
          0.020633476537096296,
          0.03441414978256413,
          0.04081612199761331,
          0.021193985722476716,
          0.0019085469426661228,
          0.009480619129852708,
          0.006692506980297608,
          0.012387621359718881,
          0.01638570489854546,
          0.02167192675863505,
          0.016557138151540418,
          0.019833967382972217,
          -0.018950434241363612,
          -0.026211329979145825,
          -0.01823531170357623,
          -0.013128695955551217,
          -0.017466224569955502,
          0.011505341632982669,
          0.008293640698251836,
          0.01337502271370744,
          -0.0006336554694127416,
          0.06626245697855371,
          0.049760480974597066,
          0.02496158870571963,
          0.023863740547975743,
          0.02263836105222633,
          0.027969892043927802,
          0.027488913141247573,
          0.009346169582546748,
          0.015306171967597981,
          0.013849689508946439,
          -0.0052437525116544315,
          -0.015212446096378118,
          -0.01078428359857142,
          -0.012402746395875741,
          -0.003886787607025044,
          0.006155536317089649,
          0.00653428483495333,
          -0.001434107315461397,
          0.011849517020231792,
          0.008034266809130775,
          -0.01481000621175771,
          -0.013305900925866976,
          -0.02212711840563769,
          -0.02637288806229693,
          -0.03607236135299774,
          -0.04239472892809509,
          -0.01481659738298946,
          -0.006857251741105408,
          -0.017820247238887255,
          -0.018407792639698273,
          0.02776533722122826,
          0.03505847721748101,
          0.0007113377841737045,
          -0.015625965830907862,
          -0.013218156989363627,
          -0.005683084508408154,
          0.00007577469918085278,
          0.019153130931066797,
          0.027634359725199675,
          0.025159644271211923,
          0.029070093527369945,
          0.03403466072772898,
          0.036948161926731005,
          -0.019263787424662948,
          -0.01624378779126151,
          -0.02075873355940583,
          -0.025108927495946287,
          -0.02703190035171399,
          -0.03308897428368679,
          -0.024727187875298318,
          -0.02414917209039036,
          -0.027412995982478316,
          -0.03345828566470377,
          -0.025431170457028085,
          -0.026415757431068554,
          -0.021455907479599023,
          -0.02216772630943087,
          -0.03062448029545861,
          -0.031553259995663496,
          0.00490506530802981,
          0.007507271080077149,
          0.004701335323379241,
          0.007523601726305007,
          0.007511323739103903,
          -0.0021205498892235553,
          0.0023598977629440965,
          0.00030179015135572973,
          -0.006825977823607998,
          -0.006895851135550246,
          -0.005341269840980101,
          -0.010935672706249067,
          -0.006339001544700462,
          -0.00748744365032189,
          -0.006449405639113837,
          -0.007752799037765545,
          -0.0016303104640084665
         ],
         "yaxis": "y"
        }
       ],
       "layout": {
        "legend": {
         "tracegroupgap": 0
        },
        "template": {
         "data": {
          "bar": [
           {
            "error_x": {
             "color": "#2a3f5f"
            },
            "error_y": {
             "color": "#2a3f5f"
            },
            "marker": {
             "line": {
              "color": "#E5ECF6",
              "width": 0.5
             },
             "pattern": {
              "fillmode": "overlay",
              "size": 10,
              "solidity": 0.2
             }
            },
            "type": "bar"
           }
          ],
          "barpolar": [
           {
            "marker": {
             "line": {
              "color": "#E5ECF6",
              "width": 0.5
             },
             "pattern": {
              "fillmode": "overlay",
              "size": 10,
              "solidity": 0.2
             }
            },
            "type": "barpolar"
           }
          ],
          "carpet": [
           {
            "aaxis": {
             "endlinecolor": "#2a3f5f",
             "gridcolor": "white",
             "linecolor": "white",
             "minorgridcolor": "white",
             "startlinecolor": "#2a3f5f"
            },
            "baxis": {
             "endlinecolor": "#2a3f5f",
             "gridcolor": "white",
             "linecolor": "white",
             "minorgridcolor": "white",
             "startlinecolor": "#2a3f5f"
            },
            "type": "carpet"
           }
          ],
          "choropleth": [
           {
            "colorbar": {
             "outlinewidth": 0,
             "ticks": ""
            },
            "type": "choropleth"
           }
          ],
          "contour": [
           {
            "colorbar": {
             "outlinewidth": 0,
             "ticks": ""
            },
            "colorscale": [
             [
              0,
              "#0d0887"
             ],
             [
              0.1111111111111111,
              "#46039f"
             ],
             [
              0.2222222222222222,
              "#7201a8"
             ],
             [
              0.3333333333333333,
              "#9c179e"
             ],
             [
              0.4444444444444444,
              "#bd3786"
             ],
             [
              0.5555555555555556,
              "#d8576b"
             ],
             [
              0.6666666666666666,
              "#ed7953"
             ],
             [
              0.7777777777777778,
              "#fb9f3a"
             ],
             [
              0.8888888888888888,
              "#fdca26"
             ],
             [
              1,
              "#f0f921"
             ]
            ],
            "type": "contour"
           }
          ],
          "contourcarpet": [
           {
            "colorbar": {
             "outlinewidth": 0,
             "ticks": ""
            },
            "type": "contourcarpet"
           }
          ],
          "heatmap": [
           {
            "colorbar": {
             "outlinewidth": 0,
             "ticks": ""
            },
            "colorscale": [
             [
              0,
              "#0d0887"
             ],
             [
              0.1111111111111111,
              "#46039f"
             ],
             [
              0.2222222222222222,
              "#7201a8"
             ],
             [
              0.3333333333333333,
              "#9c179e"
             ],
             [
              0.4444444444444444,
              "#bd3786"
             ],
             [
              0.5555555555555556,
              "#d8576b"
             ],
             [
              0.6666666666666666,
              "#ed7953"
             ],
             [
              0.7777777777777778,
              "#fb9f3a"
             ],
             [
              0.8888888888888888,
              "#fdca26"
             ],
             [
              1,
              "#f0f921"
             ]
            ],
            "type": "heatmap"
           }
          ],
          "heatmapgl": [
           {
            "colorbar": {
             "outlinewidth": 0,
             "ticks": ""
            },
            "colorscale": [
             [
              0,
              "#0d0887"
             ],
             [
              0.1111111111111111,
              "#46039f"
             ],
             [
              0.2222222222222222,
              "#7201a8"
             ],
             [
              0.3333333333333333,
              "#9c179e"
             ],
             [
              0.4444444444444444,
              "#bd3786"
             ],
             [
              0.5555555555555556,
              "#d8576b"
             ],
             [
              0.6666666666666666,
              "#ed7953"
             ],
             [
              0.7777777777777778,
              "#fb9f3a"
             ],
             [
              0.8888888888888888,
              "#fdca26"
             ],
             [
              1,
              "#f0f921"
             ]
            ],
            "type": "heatmapgl"
           }
          ],
          "histogram": [
           {
            "marker": {
             "pattern": {
              "fillmode": "overlay",
              "size": 10,
              "solidity": 0.2
             }
            },
            "type": "histogram"
           }
          ],
          "histogram2d": [
           {
            "colorbar": {
             "outlinewidth": 0,
             "ticks": ""
            },
            "colorscale": [
             [
              0,
              "#0d0887"
             ],
             [
              0.1111111111111111,
              "#46039f"
             ],
             [
              0.2222222222222222,
              "#7201a8"
             ],
             [
              0.3333333333333333,
              "#9c179e"
             ],
             [
              0.4444444444444444,
              "#bd3786"
             ],
             [
              0.5555555555555556,
              "#d8576b"
             ],
             [
              0.6666666666666666,
              "#ed7953"
             ],
             [
              0.7777777777777778,
              "#fb9f3a"
             ],
             [
              0.8888888888888888,
              "#fdca26"
             ],
             [
              1,
              "#f0f921"
             ]
            ],
            "type": "histogram2d"
           }
          ],
          "histogram2dcontour": [
           {
            "colorbar": {
             "outlinewidth": 0,
             "ticks": ""
            },
            "colorscale": [
             [
              0,
              "#0d0887"
             ],
             [
              0.1111111111111111,
              "#46039f"
             ],
             [
              0.2222222222222222,
              "#7201a8"
             ],
             [
              0.3333333333333333,
              "#9c179e"
             ],
             [
              0.4444444444444444,
              "#bd3786"
             ],
             [
              0.5555555555555556,
              "#d8576b"
             ],
             [
              0.6666666666666666,
              "#ed7953"
             ],
             [
              0.7777777777777778,
              "#fb9f3a"
             ],
             [
              0.8888888888888888,
              "#fdca26"
             ],
             [
              1,
              "#f0f921"
             ]
            ],
            "type": "histogram2dcontour"
           }
          ],
          "mesh3d": [
           {
            "colorbar": {
             "outlinewidth": 0,
             "ticks": ""
            },
            "type": "mesh3d"
           }
          ],
          "parcoords": [
           {
            "line": {
             "colorbar": {
              "outlinewidth": 0,
              "ticks": ""
             }
            },
            "type": "parcoords"
           }
          ],
          "pie": [
           {
            "automargin": true,
            "type": "pie"
           }
          ],
          "scatter": [
           {
            "fillpattern": {
             "fillmode": "overlay",
             "size": 10,
             "solidity": 0.2
            },
            "type": "scatter"
           }
          ],
          "scatter3d": [
           {
            "line": {
             "colorbar": {
              "outlinewidth": 0,
              "ticks": ""
             }
            },
            "marker": {
             "colorbar": {
              "outlinewidth": 0,
              "ticks": ""
             }
            },
            "type": "scatter3d"
           }
          ],
          "scattercarpet": [
           {
            "marker": {
             "colorbar": {
              "outlinewidth": 0,
              "ticks": ""
             }
            },
            "type": "scattercarpet"
           }
          ],
          "scattergeo": [
           {
            "marker": {
             "colorbar": {
              "outlinewidth": 0,
              "ticks": ""
             }
            },
            "type": "scattergeo"
           }
          ],
          "scattergl": [
           {
            "marker": {
             "colorbar": {
              "outlinewidth": 0,
              "ticks": ""
             }
            },
            "type": "scattergl"
           }
          ],
          "scattermapbox": [
           {
            "marker": {
             "colorbar": {
              "outlinewidth": 0,
              "ticks": ""
             }
            },
            "type": "scattermapbox"
           }
          ],
          "scatterpolar": [
           {
            "marker": {
             "colorbar": {
              "outlinewidth": 0,
              "ticks": ""
             }
            },
            "type": "scatterpolar"
           }
          ],
          "scatterpolargl": [
           {
            "marker": {
             "colorbar": {
              "outlinewidth": 0,
              "ticks": ""
             }
            },
            "type": "scatterpolargl"
           }
          ],
          "scatterternary": [
           {
            "marker": {
             "colorbar": {
              "outlinewidth": 0,
              "ticks": ""
             }
            },
            "type": "scatterternary"
           }
          ],
          "surface": [
           {
            "colorbar": {
             "outlinewidth": 0,
             "ticks": ""
            },
            "colorscale": [
             [
              0,
              "#0d0887"
             ],
             [
              0.1111111111111111,
              "#46039f"
             ],
             [
              0.2222222222222222,
              "#7201a8"
             ],
             [
              0.3333333333333333,
              "#9c179e"
             ],
             [
              0.4444444444444444,
              "#bd3786"
             ],
             [
              0.5555555555555556,
              "#d8576b"
             ],
             [
              0.6666666666666666,
              "#ed7953"
             ],
             [
              0.7777777777777778,
              "#fb9f3a"
             ],
             [
              0.8888888888888888,
              "#fdca26"
             ],
             [
              1,
              "#f0f921"
             ]
            ],
            "type": "surface"
           }
          ],
          "table": [
           {
            "cells": {
             "fill": {
              "color": "#EBF0F8"
             },
             "line": {
              "color": "white"
             }
            },
            "header": {
             "fill": {
              "color": "#C8D4E3"
             },
             "line": {
              "color": "white"
             }
            },
            "type": "table"
           }
          ]
         },
         "layout": {
          "annotationdefaults": {
           "arrowcolor": "#2a3f5f",
           "arrowhead": 0,
           "arrowwidth": 1
          },
          "autotypenumbers": "strict",
          "coloraxis": {
           "colorbar": {
            "outlinewidth": 0,
            "ticks": ""
           }
          },
          "colorscale": {
           "diverging": [
            [
             0,
             "#8e0152"
            ],
            [
             0.1,
             "#c51b7d"
            ],
            [
             0.2,
             "#de77ae"
            ],
            [
             0.3,
             "#f1b6da"
            ],
            [
             0.4,
             "#fde0ef"
            ],
            [
             0.5,
             "#f7f7f7"
            ],
            [
             0.6,
             "#e6f5d0"
            ],
            [
             0.7,
             "#b8e186"
            ],
            [
             0.8,
             "#7fbc41"
            ],
            [
             0.9,
             "#4d9221"
            ],
            [
             1,
             "#276419"
            ]
           ],
           "sequential": [
            [
             0,
             "#0d0887"
            ],
            [
             0.1111111111111111,
             "#46039f"
            ],
            [
             0.2222222222222222,
             "#7201a8"
            ],
            [
             0.3333333333333333,
             "#9c179e"
            ],
            [
             0.4444444444444444,
             "#bd3786"
            ],
            [
             0.5555555555555556,
             "#d8576b"
            ],
            [
             0.6666666666666666,
             "#ed7953"
            ],
            [
             0.7777777777777778,
             "#fb9f3a"
            ],
            [
             0.8888888888888888,
             "#fdca26"
            ],
            [
             1,
             "#f0f921"
            ]
           ],
           "sequentialminus": [
            [
             0,
             "#0d0887"
            ],
            [
             0.1111111111111111,
             "#46039f"
            ],
            [
             0.2222222222222222,
             "#7201a8"
            ],
            [
             0.3333333333333333,
             "#9c179e"
            ],
            [
             0.4444444444444444,
             "#bd3786"
            ],
            [
             0.5555555555555556,
             "#d8576b"
            ],
            [
             0.6666666666666666,
             "#ed7953"
            ],
            [
             0.7777777777777778,
             "#fb9f3a"
            ],
            [
             0.8888888888888888,
             "#fdca26"
            ],
            [
             1,
             "#f0f921"
            ]
           ]
          },
          "colorway": [
           "#636efa",
           "#EF553B",
           "#00cc96",
           "#ab63fa",
           "#FFA15A",
           "#19d3f3",
           "#FF6692",
           "#B6E880",
           "#FF97FF",
           "#FECB52"
          ],
          "font": {
           "color": "#2a3f5f"
          },
          "geo": {
           "bgcolor": "white",
           "lakecolor": "white",
           "landcolor": "#E5ECF6",
           "showlakes": true,
           "showland": true,
           "subunitcolor": "white"
          },
          "hoverlabel": {
           "align": "left"
          },
          "hovermode": "closest",
          "mapbox": {
           "style": "light"
          },
          "paper_bgcolor": "white",
          "plot_bgcolor": "#E5ECF6",
          "polar": {
           "angularaxis": {
            "gridcolor": "white",
            "linecolor": "white",
            "ticks": ""
           },
           "bgcolor": "#E5ECF6",
           "radialaxis": {
            "gridcolor": "white",
            "linecolor": "white",
            "ticks": ""
           }
          },
          "scene": {
           "xaxis": {
            "backgroundcolor": "#E5ECF6",
            "gridcolor": "white",
            "gridwidth": 2,
            "linecolor": "white",
            "showbackground": true,
            "ticks": "",
            "zerolinecolor": "white"
           },
           "yaxis": {
            "backgroundcolor": "#E5ECF6",
            "gridcolor": "white",
            "gridwidth": 2,
            "linecolor": "white",
            "showbackground": true,
            "ticks": "",
            "zerolinecolor": "white"
           },
           "zaxis": {
            "backgroundcolor": "#E5ECF6",
            "gridcolor": "white",
            "gridwidth": 2,
            "linecolor": "white",
            "showbackground": true,
            "ticks": "",
            "zerolinecolor": "white"
           }
          },
          "shapedefaults": {
           "line": {
            "color": "#2a3f5f"
           }
          },
          "ternary": {
           "aaxis": {
            "gridcolor": "white",
            "linecolor": "white",
            "ticks": ""
           },
           "baxis": {
            "gridcolor": "white",
            "linecolor": "white",
            "ticks": ""
           },
           "bgcolor": "#E5ECF6",
           "caxis": {
            "gridcolor": "white",
            "linecolor": "white",
            "ticks": ""
           }
          },
          "title": {
           "x": 0.05
          },
          "xaxis": {
           "automargin": true,
           "gridcolor": "white",
           "linecolor": "white",
           "ticks": "",
           "title": {
            "standoff": 15
           },
           "zerolinecolor": "white",
           "zerolinewidth": 2
          },
          "yaxis": {
           "automargin": true,
           "gridcolor": "white",
           "linecolor": "white",
           "ticks": "",
           "title": {
            "standoff": 15
           },
           "zerolinecolor": "white",
           "zerolinewidth": 2
          }
         }
        },
        "title": {
         "text": "Residual plot of Combined corporate income tax rate"
        },
        "xaxis": {
         "anchor": "y",
         "domain": [
          0,
          1
         ],
         "title": {
          "text": "Combined corporate income tax rate"
         }
        },
        "yaxis": {
         "anchor": "x",
         "domain": [
          0,
          1
         ],
         "title": {
          "text": "Residuals"
         }
        }
       }
      }
     },
     "metadata": {},
     "output_type": "display_data"
    },
    {
     "data": {
      "application/vnd.plotly.v1+json": {
       "config": {
        "plotlyServerURL": "https://plot.ly"
       },
       "data": [
        {
         "hovertemplate": "Education spending=%{x}<br>Residuals=%{y}<extra></extra>",
         "legendgroup": "",
         "marker": {
          "color": "#636efa",
          "symbol": "circle"
         },
         "mode": "markers",
         "name": "",
         "orientation": "v",
         "showlegend": false,
         "type": "scatter",
         "x": [
          1.4392049106075828,
          1.5056339234048275,
          1.4745887942391227,
          1.3923484304792522,
          1.4019509687901186,
          1.319047462344322,
          1.1725057515420299,
          1.2563190751395634,
          1.462652554714006,
          1.2606085547710468,
          1.1948526175421565,
          1.289330549797192,
          1.3092544439561713,
          1.3877195099343198,
          1.320991493447964,
          1.394665614506963,
          1.5090450957980586,
          1.625655681372832,
          1.6352316207208903,
          -0.836576528294812,
          -0.8111828545591224,
          -0.7352312757084877,
          -0.7359404458599519,
          -0.7350436495796512,
          -0.7984845281863551,
          -0.5873723489443438,
          -0.33166883050932444,
          -0.3129603834267057,
          -0.3887272104029113,
          0.003569256268098502,
          -0.12348989083237949,
          -0.3985740290358042,
          -0.5362135317039325,
          -1.2760298289928809,
          -1.2209871757849335,
          -1.3415725856383005,
          -1.4102367770323905,
          -1.3864868623579112,
          -1.3777165132747644,
          -0.5013530259203677,
          -0.42120620617639704,
          -0.5698709744965774,
          -0.48424270522687995,
          -0.5440575073965906,
          -0.4955144467707135,
          -0.586558866397285,
          -0.4189267522970826,
          -0.5417781696285179,
          -0.7340425473953098,
          -0.7519071627562176,
          -0.72590246944185,
          -0.7495379841981447,
          -0.7799999629824756,
          -0.8411295557786336,
          -0.8304670822422399,
          -0.837047714971117,
          -0.8360425376238201,
          0.45941270865352857,
          1.0079740573954143,
          0.7482477727826845,
          0.2803886093562213,
          1.3941823769026278,
          0.3903516409708453,
          0.6828900547787995,
          0.5566246868002629,
          1.4197598621480143,
          1.4877871372427314,
          1.5596745146725466,
          1.6611011087146055,
          1.6655260793770439,
          1.5515091313695215,
          -1.163349499175535,
          -1.0670875204790922,
          -1.0742706079633841,
          -2.444921176739346,
          -2.526074182900489,
          -2.3779417004974785,
          -2.187601126929049,
          -2.327416942544935,
          -2.3982284008185073,
          -2.43335575633059,
          -2.4691581630528643,
          -2.5083386769360105,
          -0.09484733196266587,
          -0.27771816509620095,
          -0.44166362207486354,
          -0.48154450902595664,
          -0.4204780382088845,
          -3.429957403259807,
          -3.4253678306995545,
          -3.4230345928276598,
          -3.420838573071614,
          -3.4144398789466077,
          -0.4844650311643204,
          -0.5438651506851196,
          -0.893552331591834,
          -0.8741576807476651,
          -0.7298864044583778,
          -0.7705622398882247,
          -0.7225909653186017,
          -0.8896133726122335,
          -0.8409653153961956,
          -0.6898968548496767,
          -0.7839676187503114,
          -0.7272409500389976,
          -0.7108668639242528,
          -0.713769429536716,
          -0.760206909147432,
          -0.7703527391267961,
          -0.8227004999740033,
          -0.8872367515742765,
          -0.8719934777175433,
          -0.6197234960562522,
          -0.5881027118249502,
          -0.6468751899673423,
          -0.7032353182403281,
          -0.655299603279558,
          -0.6823434165804543,
          -0.6988406269359404,
          -0.7293007006658118,
          -0.7393838690037209,
          -0.6842291706575756,
          -0.6078737584508453,
          0.7335912869559965,
          0.9110331472459509,
          0.9491922603557589,
          0.7514556465417288,
          0.6304312206226028,
          0.45792845286420125,
          0.5590087379250849,
          1.114380900182573,
          1.2518022201889603,
          1.04864825791098,
          1.1651271073242444,
          1.1046268353268958,
          1.2813892268357316,
          1.2146484013037522,
          1.0681559556655402,
          0.8238389386872786,
          0.799590390194116,
          0.7523502958117285,
          -0.22295222260854264,
          -0.1986906026971661,
          -0.23238246872626353,
          -0.5224928419542932,
          -0.6239571106972734,
          -0.5868518138429623,
          -0.22398724825903155,
          -0.12674620486882793,
          -0.14174331123271044,
          -0.08761672848578671,
          -0.3492343098451433,
          -0.4269990535837364,
          -0.4915985991090313,
          -0.5714787218974435,
          -0.5107008550488278,
          -0.3472255305306935,
          -0.26402504978378766,
          -3.4752853642398107,
          -3.47491275507496,
          -3.4754467314127346,
          0.4619784983092191,
          0.5810300339708597,
          1.0094825492188153,
          0.8877276953032511,
          0.8284034396660402,
          0.8335815479388261,
          0.8692588846328205,
          0.5562064744586597,
          0.2899458099447478,
          -0.756214456027807,
          -0.7923278247391308,
          -0.7529729954054769,
          -0.8353837954953067,
          -0.8323124235979582,
          -0.7930808615070256,
          -0.6537547316632534,
          -0.3841094625305622,
          -0.4692509610247865,
          -0.5316238026057524,
          -0.6863334433499809,
          -0.7357187131269364,
          -0.7419176311311545,
          -0.7504929982347958,
          -0.7819598013750301,
          -0.8270511812978707,
          -0.8467277694860135,
          -0.8116082888893202,
          -0.02385961429521886,
          0.0027356455685801804,
          0.06581330234390197,
          0.10915276682763626,
          0.11315207098028124,
          0.17619100940361299,
          0.1916878052405437,
          0.1994909468095175,
          0.142846539867028,
          -0.00479244555217525,
          -0.04136231405221904,
          -0.022130960484963356,
          -0.0531699913287157,
          0.03801667534469332,
          0.2632039674175505,
          0.2679494527187783,
          0.16059826060269639,
          0.18501746706504205,
          0.09492732175715003,
          0.08051049123057481,
          -0.006841936206542192,
          -0.006280882713341209,
          -0.10772496627846735,
          -0.1537335084597337,
          -0.21199266451099275,
          0.8589624577711122,
          0.9412361925880913,
          0.7815935969310639,
          0.5138834251746505,
          0.8753776641397876,
          1.0203647798474211,
          0.6191586525329519,
          -0.07304722541862933,
          -0.2867468723489326,
          -0.7884526409476419,
          -0.9063672676062167,
          -0.828804228873703,
          -0.9053974010757658,
          -0.7034354877801555,
          -0.6216627685785158,
          -0.47507601863085314,
          -0.5204746058635185,
          -0.32846882838714986,
          0.2843406264729526,
          0.5763549659805,
          0.48174336242244875,
          0.32509436943059566,
          0.2786741131103811,
          0.1319062865788847,
          0.24063884299034108,
          0.15527102554266575,
          0.1275253745308184,
          0.05763163536352986,
          -0.1644797736361371,
          -0.21443330078758657,
          0.00039513347324108503,
          0.6120800561188422,
          0.2937415506419567,
          -0.0065482292471432954,
          -0.2023376027944351,
          -0.24405333578251026,
          -0.371429505700526,
          0.1277194840957279,
          0.021254668922533446,
          -0.14361628259298295,
          -0.2324637643688571,
          -0.21745757793337936,
          -0.07435547022465996,
          0.15697381859867973,
          0.28145892409777845,
          0.22317582358399912,
          0.10766455148716825,
          0.23729741942810775,
          0.4576387156608784,
          0.5244364228143276,
          0.06117882466599722,
          -0.3538650063331785,
          -0.0013983884102158474,
          -0.16125566710807654,
          -0.1287291304579287,
          0.46396775852921135,
          0.2879971810437197,
          0.3297937164183073,
          0.2861391158136471,
          0.21336529540472082,
          0.35139248375829674,
          0.5691137194774056,
          0.5583752506143717,
          0.651054960533915,
          0.6911255508554504,
          0.7679077098561444,
          0.7188304937286399,
          0.7454657981279019,
          0.7079543197484117,
          0.7008743373756222,
          0.6768672484702207,
          0.6173464113856143,
          1.1948699698075105,
          0.02377929613885811,
          0.04860030212699346,
          -0.1761929145014727,
          -0.24806277579996283,
          -0.25239883424488896,
          -0.32854101123550705,
          -0.2188572406237554,
          -0.038201419395529124,
          -0.02769812513705655,
          -0.1168726688000171,
          -0.10592009052939566,
          -0.07817056889607678,
          -0.14102312591591024,
          -0.15765315275541136,
          -0.18440111812757382,
          -0.22083557655287975,
          -0.2656808934014266,
          -0.24536853617726767,
          -0.6649970760275649,
          -1.0450037890516342,
          -0.705388668456413,
          -0.44386176120361587,
          -0.7952491156667376,
          1.6929983594389864,
          1.6282468897879547,
          1.744223312396867,
          1.653225192965864,
          1.4999593100811177,
          1.5553128400322043,
          1.5892621970267047,
          1.3295735880194768,
          1.29268379839197,
          1.1856540874586978,
          1.0883231518491936,
          1.172789199438741,
          1.075871460173085,
          1.0067700660749688,
          1.2052447360907939,
          -0.36357085145197676,
          -0.18760533029559145,
          0.2239239884040005,
          0.2828317983995647,
          0.24568877462772531,
          0.21374805699696303,
          0.2873564985084188,
          0.3174395262637022,
          0.3886730109184423,
          0.6797415177385842,
          0.7060003195540935,
          0.40936649587340845,
          0.25409657535832897,
          0.06775048360510387,
          0.07960534199406567,
          -0.000060898907351036386,
          -0.08004136682382595,
          -0.10788769957528957,
          -0.17318881619323548,
          -0.20022756078176587,
          0.2813714595405875,
          0.3002917284867588,
          0.41321838891277785,
          0.3970743149409446,
          0.25157344281834537,
          0.22080109648647184,
          0.12972704329006932,
          0.2955377587787073,
          0.1908411844314635,
          0.1431181618433316,
          2.1562819306122107,
          2.0555943790429727,
          2.8232246049419705,
          3.020989688973048,
          2.5245595551393993,
          2.514221490887792,
          2.185990405814992,
          2.2000625813879027,
          0.6163987796605852,
          0.5882699766107515,
          0.3628052997917085,
          0.5251511023471392,
          0.5591187916097213,
          -0.3233977904989399,
          -0.40971645338501567,
          -0.442040536970653,
          -0.3519409473322508,
          -0.7238853846429175,
          -0.744776116859241,
          -0.5396712962996448,
          -0.5894241551587657,
          -0.5597820036581158,
          -0.6009941971356422,
          -0.6286557769740024,
          -0.6194704908674915,
          -0.6982689007858286,
          -0.9974160499855816,
          -0.934819944807472,
          -0.5830748007888981,
          0.7309629585453824,
          0.6836067863085294,
          0.6055166718657878,
          0.5157298056986697,
          0.3809315618660529,
          0.41691847981501756,
          0.8599698618362307,
          0.8986866726667092,
          0.8291283146573378,
          0.8203376192986626,
          0.7987839721146812,
          0.7868182307703471,
          0.780633967705134,
          0.700439658506137,
          0.4101170965964913,
          0.3732320775293774,
          0.4378180794526846
         ],
         "xaxis": "x",
         "y": [
          -0.009432527924492562,
          -0.012917810495263082,
          -0.0246614393455602,
          -0.01720787951676761,
          -0.010355072483283656,
          -0.017089471243327714,
          -0.01342850209218971,
          -0.008817574969827269,
          -0.009727232613114367,
          -0.012165810848284386,
          -0.017826385941363765,
          -0.011766178614687317,
          -0.000632949914415426,
          -0.004051210349599321,
          0.009338451030700023,
          0.011039552974796418,
          -0.0002398622945832818,
          0.01125106985501928,
          0.004026920508013954,
          0.038440831875237835,
          0.028779918565084106,
          0.03431082636611127,
          0.04419807923621416,
          0.04154578713297952,
          0.02467145824260142,
          0.008266115676990315,
          -0.006000923740644759,
          0.025560696240199632,
          0.007791026860896999,
          -0.0057663220675101545,
          0.0035018274203638122,
          0.01610745606761349,
          0.004289466418007815,
          0.009767718713229234,
          0.021678079830554253,
          0.007789333756649752,
          -0.0012430776309222402,
          0.0008506000084900767,
          -0.011817937428015957,
          0.03917496593488945,
          0.03770070635280448,
          0.03529558446031317,
          0.03196040299331837,
          0.033035028798660326,
          0.02449738539249502,
          0.02578561563892956,
          0.03181245975858904,
          0.03895786963987935,
          0.037641823756612125,
          0.032118426997414184,
          0.029928841932784833,
          0.030166077948277303,
          0.04261968913347569,
          0.04139848817435238,
          0.04304855440406513,
          0.03656986827294423,
          0.0353539713866548,
          0.005163452713181194,
          0.009648957340138209,
          0.006448994350066961,
          0.018203673987608526,
          0.0045616799207800485,
          0.00299092525014949,
          0.008316479177743474,
          0.008036509401497194,
          -0.03364458928713365,
          -0.01964980656692117,
          -0.013242010616831557,
          -0.026875369677825445,
          -0.038186963652333095,
          -0.03822036055474415,
          -0.006832664301830271,
          -0.030005281643520842,
          -0.01848981383752535,
          0.0478353160451756,
          0.049585016973806906,
          0.035034052016924666,
          0.037285102446987906,
          0.005144620168266778,
          -0.00644026825937688,
          0.028335336310427783,
          0.04121757658952058,
          0.07193900232389439,
          0.06852750492392018,
          0.07983799641971018,
          0.06435589245729911,
          0.053679026341488356,
          0.05103479149888296,
          -0.06087231856524217,
          -0.01933320834605956,
          -0.053732526905725,
          -0.05579859807698073,
          -0.04523958541998707,
          -0.031021147264913673,
          -0.03276313284429294,
          -0.04693220320270186,
          -0.05150985898219729,
          -0.034303178363700615,
          -0.044126698645856055,
          -0.03410284103285066,
          -0.03923924176885485,
          -0.06153306381504625,
          -0.04750379323767273,
          -0.02800620261636594,
          -0.02553149899222945,
          -0.02786714726791062,
          -0.03120647165246737,
          -0.0351263401651577,
          -0.023920356853617708,
          -0.02982142696685286,
          -0.026877816525673892,
          -0.03325694557271136,
          -0.02699492024511352,
          -0.030298587266329446,
          -0.027373098027458187,
          -0.017664760989533734,
          -0.012808984223372233,
          -0.016121355970780682,
          -0.0015625549467864208,
          -0.0038150179225838743,
          -0.008419360976164525,
          -0.003691813146522449,
          -0.002397421200482752,
          -0.02758521458948751,
          -0.01521070908287564,
          -0.02298233946986883,
          -0.017855267766013372,
          -0.009545085632417072,
          -0.0061003496928626055,
          -0.022523750448469382,
          -0.008501974185954775,
          -0.012400202882534128,
          -0.01210734287348153,
          -0.003810982129215046,
          0.006792964907837817,
          0.005722177918067839,
          0.009884223316245666,
          0.010990838147362125,
          0.014366035063204996,
          0.011614594877866036,
          0.0086601925076783,
          0.01933946065998332,
          0.011943551643554429,
          0.01673460015666206,
          0.012336751052191897,
          0.007555415554946321,
          0.010429524802084256,
          0.006835431130199354,
          -0.0061057475480303935,
          0.00331694026646423,
          0.029277031617133464,
          0.005749957706515263,
          -0.0006937652817381457,
          0.022862031351572276,
          0.010750642081956752,
          0.03455082826550887,
          0.039086611354638534,
          0.025798114081096835,
          -0.026612641048316177,
          -0.025564418202919964,
          -0.030158947030589633,
          -0.048107942921960856,
          -0.06162340089281804,
          -0.03480698036017449,
          -0.04452826393359033,
          -0.04506213246070612,
          -0.050044515935676825,
          -0.04767456789160057,
          -0.04103935714857787,
          -0.03763550290765155,
          0.015317985770086862,
          -0.00736674575850893,
          0.0075955559936119466,
          0.004430146359318932,
          0.015398405510368529,
          0.02093358510049903,
          0.007108862141151084,
          0.00820917362747553,
          -0.002536625335544218,
          -0.00878005191556508,
          -0.019008178360499672,
          -0.01152562010891095,
          -0.0015099835638131553,
          0.009196420722032805,
          0.010589072932851828,
          -0.00006376865601775972,
          0.0063561353741436455,
          0.009460930033255988,
          -0.002219702140718538,
          -0.01467433974690191,
          -0.011034128885460515,
          -0.005180894878663578,
          -0.006889164493732891,
          -0.0036767933217888293,
          0.001575981559829076,
          -0.004713888667872035,
          -0.0026544313506245976,
          -0.009112652671278254,
          -0.01895225412877871,
          -0.00253483885372896,
          -0.010651755440150679,
          -0.018395773354568712,
          -0.027073558836680667,
          -0.027840786425380848,
          -0.030920970406617787,
          -0.032486161721446694,
          -0.03284336688256495,
          -0.02469863641592579,
          -0.023310415392256756,
          -0.022411888309167405,
          -0.01936584333808128,
          -0.022385253589046916,
          -0.011934672655313672,
          0.08099007535603459,
          0.08184550051743295,
          0.06840032417418346,
          0.05622365101942478,
          0.042850654416793255,
          0.036468731255271614,
          0.02898940608315176,
          0.043403999248509406,
          0.04512951340322735,
          0.01984230574192003,
          0.03220153082899779,
          0.020249526816706998,
          0.020238451105278554,
          0.02754935616159837,
          0.03083309038047055,
          0.009916425367627713,
          -0.0040733755521124015,
          -0.0020831805256025238,
          0.014683952098386854,
          -0.0003621748570045713,
          0.0015842192564524682,
          0.004450031490637663,
          0.0032911906335008068,
          0.0023466753792520945,
          -0.001928576991047204,
          -0.007845984638588821,
          -0.008589632403830039,
          0.005047974835196645,
          0.0018381220018390265,
          -0.01725165152521374,
          0.004671450863435345,
          0.00014566868770599095,
          0.04384861609050128,
          0.028458296563614816,
          -0.015607511280847974,
          -0.007463663970697865,
          -0.021494855599488105,
          -0.021100021881527875,
          -0.0300732584943591,
          -0.0342259463094694,
          -0.026951115588040253,
          -0.025178195464629738,
          -0.018066728593681358,
          -0.004964712004852656,
          0.002123800310631585,
          -0.009873452224928969,
          -0.007958353639112736,
          -0.0016990033946376326,
          -0.028755834440254202,
          0.024441228541759896,
          -0.05545609365033294,
          -0.024323877539072947,
          0.000408705501097395,
          0.004363959244570059,
          -0.01072068649067709,
          0.002819770827022061,
          0.02470550998018145,
          0.009883077525888684,
          -0.0003051309680384695,
          0.010399055349187392,
          -0.004325919369087272,
          0.008181733022964655,
          -0.0008166578347356679,
          -0.006635346634132455,
          -0.009227524096635353,
          -0.006759991641783369,
          -0.0005161605422298599,
          -0.0031011822708000847,
          -0.006384456874285682,
          -0.008687359004804496,
          -0.010359700674580141,
          -0.006690461780103629,
          -0.14608082194088,
          0.017183341221409187,
          0.020373675691985893,
          0.01935162547755981,
          0.0037988118976709506,
          0.01285616810018314,
          0.019648943372764016,
          0.014110594227194129,
          0.02965585612084265,
          0.01648286905897478,
          0.016499664774050238,
          0.016727439645999986,
          0.018957258831809265,
          0.017148242734861652,
          0.02257268238183824,
          0.024321061941596722,
          0.011102011709967385,
          0.023221802641645528,
          0.020633476537096296,
          0.03441414978256413,
          0.04081612199761331,
          0.021193985722476716,
          0.0019085469426661228,
          0.009480619129852708,
          0.006692506980297608,
          0.012387621359718881,
          0.01638570489854546,
          0.02167192675863505,
          0.016557138151540418,
          0.019833967382972217,
          -0.018950434241363612,
          -0.026211329979145825,
          -0.01823531170357623,
          -0.013128695955551217,
          -0.017466224569955502,
          0.011505341632982669,
          0.008293640698251836,
          0.01337502271370744,
          -0.0006336554694127416,
          0.06626245697855371,
          0.049760480974597066,
          0.02496158870571963,
          0.023863740547975743,
          0.02263836105222633,
          0.027969892043927802,
          0.027488913141247573,
          0.009346169582546748,
          0.015306171967597981,
          0.013849689508946439,
          -0.0052437525116544315,
          -0.015212446096378118,
          -0.01078428359857142,
          -0.012402746395875741,
          -0.003886787607025044,
          0.006155536317089649,
          0.00653428483495333,
          -0.001434107315461397,
          0.011849517020231792,
          0.008034266809130775,
          -0.01481000621175771,
          -0.013305900925866976,
          -0.02212711840563769,
          -0.02637288806229693,
          -0.03607236135299774,
          -0.04239472892809509,
          -0.01481659738298946,
          -0.006857251741105408,
          -0.017820247238887255,
          -0.018407792639698273,
          0.02776533722122826,
          0.03505847721748101,
          0.0007113377841737045,
          -0.015625965830907862,
          -0.013218156989363627,
          -0.005683084508408154,
          0.00007577469918085278,
          0.019153130931066797,
          0.027634359725199675,
          0.025159644271211923,
          0.029070093527369945,
          0.03403466072772898,
          0.036948161926731005,
          -0.019263787424662948,
          -0.01624378779126151,
          -0.02075873355940583,
          -0.025108927495946287,
          -0.02703190035171399,
          -0.03308897428368679,
          -0.024727187875298318,
          -0.02414917209039036,
          -0.027412995982478316,
          -0.03345828566470377,
          -0.025431170457028085,
          -0.026415757431068554,
          -0.021455907479599023,
          -0.02216772630943087,
          -0.03062448029545861,
          -0.031553259995663496,
          0.00490506530802981,
          0.007507271080077149,
          0.004701335323379241,
          0.007523601726305007,
          0.007511323739103903,
          -0.0021205498892235553,
          0.0023598977629440965,
          0.00030179015135572973,
          -0.006825977823607998,
          -0.006895851135550246,
          -0.005341269840980101,
          -0.010935672706249067,
          -0.006339001544700462,
          -0.00748744365032189,
          -0.006449405639113837,
          -0.007752799037765545,
          -0.0016303104640084665
         ],
         "yaxis": "y"
        }
       ],
       "layout": {
        "legend": {
         "tracegroupgap": 0
        },
        "template": {
         "data": {
          "bar": [
           {
            "error_x": {
             "color": "#2a3f5f"
            },
            "error_y": {
             "color": "#2a3f5f"
            },
            "marker": {
             "line": {
              "color": "#E5ECF6",
              "width": 0.5
             },
             "pattern": {
              "fillmode": "overlay",
              "size": 10,
              "solidity": 0.2
             }
            },
            "type": "bar"
           }
          ],
          "barpolar": [
           {
            "marker": {
             "line": {
              "color": "#E5ECF6",
              "width": 0.5
             },
             "pattern": {
              "fillmode": "overlay",
              "size": 10,
              "solidity": 0.2
             }
            },
            "type": "barpolar"
           }
          ],
          "carpet": [
           {
            "aaxis": {
             "endlinecolor": "#2a3f5f",
             "gridcolor": "white",
             "linecolor": "white",
             "minorgridcolor": "white",
             "startlinecolor": "#2a3f5f"
            },
            "baxis": {
             "endlinecolor": "#2a3f5f",
             "gridcolor": "white",
             "linecolor": "white",
             "minorgridcolor": "white",
             "startlinecolor": "#2a3f5f"
            },
            "type": "carpet"
           }
          ],
          "choropleth": [
           {
            "colorbar": {
             "outlinewidth": 0,
             "ticks": ""
            },
            "type": "choropleth"
           }
          ],
          "contour": [
           {
            "colorbar": {
             "outlinewidth": 0,
             "ticks": ""
            },
            "colorscale": [
             [
              0,
              "#0d0887"
             ],
             [
              0.1111111111111111,
              "#46039f"
             ],
             [
              0.2222222222222222,
              "#7201a8"
             ],
             [
              0.3333333333333333,
              "#9c179e"
             ],
             [
              0.4444444444444444,
              "#bd3786"
             ],
             [
              0.5555555555555556,
              "#d8576b"
             ],
             [
              0.6666666666666666,
              "#ed7953"
             ],
             [
              0.7777777777777778,
              "#fb9f3a"
             ],
             [
              0.8888888888888888,
              "#fdca26"
             ],
             [
              1,
              "#f0f921"
             ]
            ],
            "type": "contour"
           }
          ],
          "contourcarpet": [
           {
            "colorbar": {
             "outlinewidth": 0,
             "ticks": ""
            },
            "type": "contourcarpet"
           }
          ],
          "heatmap": [
           {
            "colorbar": {
             "outlinewidth": 0,
             "ticks": ""
            },
            "colorscale": [
             [
              0,
              "#0d0887"
             ],
             [
              0.1111111111111111,
              "#46039f"
             ],
             [
              0.2222222222222222,
              "#7201a8"
             ],
             [
              0.3333333333333333,
              "#9c179e"
             ],
             [
              0.4444444444444444,
              "#bd3786"
             ],
             [
              0.5555555555555556,
              "#d8576b"
             ],
             [
              0.6666666666666666,
              "#ed7953"
             ],
             [
              0.7777777777777778,
              "#fb9f3a"
             ],
             [
              0.8888888888888888,
              "#fdca26"
             ],
             [
              1,
              "#f0f921"
             ]
            ],
            "type": "heatmap"
           }
          ],
          "heatmapgl": [
           {
            "colorbar": {
             "outlinewidth": 0,
             "ticks": ""
            },
            "colorscale": [
             [
              0,
              "#0d0887"
             ],
             [
              0.1111111111111111,
              "#46039f"
             ],
             [
              0.2222222222222222,
              "#7201a8"
             ],
             [
              0.3333333333333333,
              "#9c179e"
             ],
             [
              0.4444444444444444,
              "#bd3786"
             ],
             [
              0.5555555555555556,
              "#d8576b"
             ],
             [
              0.6666666666666666,
              "#ed7953"
             ],
             [
              0.7777777777777778,
              "#fb9f3a"
             ],
             [
              0.8888888888888888,
              "#fdca26"
             ],
             [
              1,
              "#f0f921"
             ]
            ],
            "type": "heatmapgl"
           }
          ],
          "histogram": [
           {
            "marker": {
             "pattern": {
              "fillmode": "overlay",
              "size": 10,
              "solidity": 0.2
             }
            },
            "type": "histogram"
           }
          ],
          "histogram2d": [
           {
            "colorbar": {
             "outlinewidth": 0,
             "ticks": ""
            },
            "colorscale": [
             [
              0,
              "#0d0887"
             ],
             [
              0.1111111111111111,
              "#46039f"
             ],
             [
              0.2222222222222222,
              "#7201a8"
             ],
             [
              0.3333333333333333,
              "#9c179e"
             ],
             [
              0.4444444444444444,
              "#bd3786"
             ],
             [
              0.5555555555555556,
              "#d8576b"
             ],
             [
              0.6666666666666666,
              "#ed7953"
             ],
             [
              0.7777777777777778,
              "#fb9f3a"
             ],
             [
              0.8888888888888888,
              "#fdca26"
             ],
             [
              1,
              "#f0f921"
             ]
            ],
            "type": "histogram2d"
           }
          ],
          "histogram2dcontour": [
           {
            "colorbar": {
             "outlinewidth": 0,
             "ticks": ""
            },
            "colorscale": [
             [
              0,
              "#0d0887"
             ],
             [
              0.1111111111111111,
              "#46039f"
             ],
             [
              0.2222222222222222,
              "#7201a8"
             ],
             [
              0.3333333333333333,
              "#9c179e"
             ],
             [
              0.4444444444444444,
              "#bd3786"
             ],
             [
              0.5555555555555556,
              "#d8576b"
             ],
             [
              0.6666666666666666,
              "#ed7953"
             ],
             [
              0.7777777777777778,
              "#fb9f3a"
             ],
             [
              0.8888888888888888,
              "#fdca26"
             ],
             [
              1,
              "#f0f921"
             ]
            ],
            "type": "histogram2dcontour"
           }
          ],
          "mesh3d": [
           {
            "colorbar": {
             "outlinewidth": 0,
             "ticks": ""
            },
            "type": "mesh3d"
           }
          ],
          "parcoords": [
           {
            "line": {
             "colorbar": {
              "outlinewidth": 0,
              "ticks": ""
             }
            },
            "type": "parcoords"
           }
          ],
          "pie": [
           {
            "automargin": true,
            "type": "pie"
           }
          ],
          "scatter": [
           {
            "fillpattern": {
             "fillmode": "overlay",
             "size": 10,
             "solidity": 0.2
            },
            "type": "scatter"
           }
          ],
          "scatter3d": [
           {
            "line": {
             "colorbar": {
              "outlinewidth": 0,
              "ticks": ""
             }
            },
            "marker": {
             "colorbar": {
              "outlinewidth": 0,
              "ticks": ""
             }
            },
            "type": "scatter3d"
           }
          ],
          "scattercarpet": [
           {
            "marker": {
             "colorbar": {
              "outlinewidth": 0,
              "ticks": ""
             }
            },
            "type": "scattercarpet"
           }
          ],
          "scattergeo": [
           {
            "marker": {
             "colorbar": {
              "outlinewidth": 0,
              "ticks": ""
             }
            },
            "type": "scattergeo"
           }
          ],
          "scattergl": [
           {
            "marker": {
             "colorbar": {
              "outlinewidth": 0,
              "ticks": ""
             }
            },
            "type": "scattergl"
           }
          ],
          "scattermapbox": [
           {
            "marker": {
             "colorbar": {
              "outlinewidth": 0,
              "ticks": ""
             }
            },
            "type": "scattermapbox"
           }
          ],
          "scatterpolar": [
           {
            "marker": {
             "colorbar": {
              "outlinewidth": 0,
              "ticks": ""
             }
            },
            "type": "scatterpolar"
           }
          ],
          "scatterpolargl": [
           {
            "marker": {
             "colorbar": {
              "outlinewidth": 0,
              "ticks": ""
             }
            },
            "type": "scatterpolargl"
           }
          ],
          "scatterternary": [
           {
            "marker": {
             "colorbar": {
              "outlinewidth": 0,
              "ticks": ""
             }
            },
            "type": "scatterternary"
           }
          ],
          "surface": [
           {
            "colorbar": {
             "outlinewidth": 0,
             "ticks": ""
            },
            "colorscale": [
             [
              0,
              "#0d0887"
             ],
             [
              0.1111111111111111,
              "#46039f"
             ],
             [
              0.2222222222222222,
              "#7201a8"
             ],
             [
              0.3333333333333333,
              "#9c179e"
             ],
             [
              0.4444444444444444,
              "#bd3786"
             ],
             [
              0.5555555555555556,
              "#d8576b"
             ],
             [
              0.6666666666666666,
              "#ed7953"
             ],
             [
              0.7777777777777778,
              "#fb9f3a"
             ],
             [
              0.8888888888888888,
              "#fdca26"
             ],
             [
              1,
              "#f0f921"
             ]
            ],
            "type": "surface"
           }
          ],
          "table": [
           {
            "cells": {
             "fill": {
              "color": "#EBF0F8"
             },
             "line": {
              "color": "white"
             }
            },
            "header": {
             "fill": {
              "color": "#C8D4E3"
             },
             "line": {
              "color": "white"
             }
            },
            "type": "table"
           }
          ]
         },
         "layout": {
          "annotationdefaults": {
           "arrowcolor": "#2a3f5f",
           "arrowhead": 0,
           "arrowwidth": 1
          },
          "autotypenumbers": "strict",
          "coloraxis": {
           "colorbar": {
            "outlinewidth": 0,
            "ticks": ""
           }
          },
          "colorscale": {
           "diverging": [
            [
             0,
             "#8e0152"
            ],
            [
             0.1,
             "#c51b7d"
            ],
            [
             0.2,
             "#de77ae"
            ],
            [
             0.3,
             "#f1b6da"
            ],
            [
             0.4,
             "#fde0ef"
            ],
            [
             0.5,
             "#f7f7f7"
            ],
            [
             0.6,
             "#e6f5d0"
            ],
            [
             0.7,
             "#b8e186"
            ],
            [
             0.8,
             "#7fbc41"
            ],
            [
             0.9,
             "#4d9221"
            ],
            [
             1,
             "#276419"
            ]
           ],
           "sequential": [
            [
             0,
             "#0d0887"
            ],
            [
             0.1111111111111111,
             "#46039f"
            ],
            [
             0.2222222222222222,
             "#7201a8"
            ],
            [
             0.3333333333333333,
             "#9c179e"
            ],
            [
             0.4444444444444444,
             "#bd3786"
            ],
            [
             0.5555555555555556,
             "#d8576b"
            ],
            [
             0.6666666666666666,
             "#ed7953"
            ],
            [
             0.7777777777777778,
             "#fb9f3a"
            ],
            [
             0.8888888888888888,
             "#fdca26"
            ],
            [
             1,
             "#f0f921"
            ]
           ],
           "sequentialminus": [
            [
             0,
             "#0d0887"
            ],
            [
             0.1111111111111111,
             "#46039f"
            ],
            [
             0.2222222222222222,
             "#7201a8"
            ],
            [
             0.3333333333333333,
             "#9c179e"
            ],
            [
             0.4444444444444444,
             "#bd3786"
            ],
            [
             0.5555555555555556,
             "#d8576b"
            ],
            [
             0.6666666666666666,
             "#ed7953"
            ],
            [
             0.7777777777777778,
             "#fb9f3a"
            ],
            [
             0.8888888888888888,
             "#fdca26"
            ],
            [
             1,
             "#f0f921"
            ]
           ]
          },
          "colorway": [
           "#636efa",
           "#EF553B",
           "#00cc96",
           "#ab63fa",
           "#FFA15A",
           "#19d3f3",
           "#FF6692",
           "#B6E880",
           "#FF97FF",
           "#FECB52"
          ],
          "font": {
           "color": "#2a3f5f"
          },
          "geo": {
           "bgcolor": "white",
           "lakecolor": "white",
           "landcolor": "#E5ECF6",
           "showlakes": true,
           "showland": true,
           "subunitcolor": "white"
          },
          "hoverlabel": {
           "align": "left"
          },
          "hovermode": "closest",
          "mapbox": {
           "style": "light"
          },
          "paper_bgcolor": "white",
          "plot_bgcolor": "#E5ECF6",
          "polar": {
           "angularaxis": {
            "gridcolor": "white",
            "linecolor": "white",
            "ticks": ""
           },
           "bgcolor": "#E5ECF6",
           "radialaxis": {
            "gridcolor": "white",
            "linecolor": "white",
            "ticks": ""
           }
          },
          "scene": {
           "xaxis": {
            "backgroundcolor": "#E5ECF6",
            "gridcolor": "white",
            "gridwidth": 2,
            "linecolor": "white",
            "showbackground": true,
            "ticks": "",
            "zerolinecolor": "white"
           },
           "yaxis": {
            "backgroundcolor": "#E5ECF6",
            "gridcolor": "white",
            "gridwidth": 2,
            "linecolor": "white",
            "showbackground": true,
            "ticks": "",
            "zerolinecolor": "white"
           },
           "zaxis": {
            "backgroundcolor": "#E5ECF6",
            "gridcolor": "white",
            "gridwidth": 2,
            "linecolor": "white",
            "showbackground": true,
            "ticks": "",
            "zerolinecolor": "white"
           }
          },
          "shapedefaults": {
           "line": {
            "color": "#2a3f5f"
           }
          },
          "ternary": {
           "aaxis": {
            "gridcolor": "white",
            "linecolor": "white",
            "ticks": ""
           },
           "baxis": {
            "gridcolor": "white",
            "linecolor": "white",
            "ticks": ""
           },
           "bgcolor": "#E5ECF6",
           "caxis": {
            "gridcolor": "white",
            "linecolor": "white",
            "ticks": ""
           }
          },
          "title": {
           "x": 0.05
          },
          "xaxis": {
           "automargin": true,
           "gridcolor": "white",
           "linecolor": "white",
           "ticks": "",
           "title": {
            "standoff": 15
           },
           "zerolinecolor": "white",
           "zerolinewidth": 2
          },
          "yaxis": {
           "automargin": true,
           "gridcolor": "white",
           "linecolor": "white",
           "ticks": "",
           "title": {
            "standoff": 15
           },
           "zerolinecolor": "white",
           "zerolinewidth": 2
          }
         }
        },
        "title": {
         "text": "Residual plot of Education spending"
        },
        "xaxis": {
         "anchor": "y",
         "domain": [
          0,
          1
         ],
         "title": {
          "text": "Education spending"
         }
        },
        "yaxis": {
         "anchor": "x",
         "domain": [
          0,
          1
         ],
         "title": {
          "text": "Residuals"
         }
        }
       }
      }
     },
     "metadata": {},
     "output_type": "display_data"
    },
    {
     "data": {
      "application/vnd.plotly.v1+json": {
       "config": {
        "plotlyServerURL": "https://plot.ly"
       },
       "data": [
        {
         "hovertemplate": "Health spending=%{x}<br>Residuals=%{y}<extra></extra>",
         "legendgroup": "",
         "marker": {
          "color": "#636efa",
          "symbol": "circle"
         },
         "mode": "markers",
         "name": "",
         "orientation": "v",
         "showlegend": false,
         "type": "scatter",
         "x": [
          -0.055061389580985706,
          0.12096375729788135,
          0.22985682321932702,
          0.11077290712881084,
          0.12256194138467337,
          0.06279443164702563,
          0.05797531783988481,
          0.18775682492687476,
          0.4270196257465859,
          0.26186423720587554,
          0.28124169877253824,
          0.34926938838334665,
          0.389740768857573,
          0.4074333071909537,
          0.3556141258662033,
          0.3512886386680339,
          0.36781831176920193,
          0.45371712710492346,
          0.41171602366887466,
          -0.8726141296800256,
          -0.3005492951062202,
          -0.1768015939386088,
          -0.005575561800225415,
          -0.2345770938345138,
          -0.2711826972495157,
          -0.10252262992215389,
          0.28682351578425996,
          0.8280599318646468,
          0.5962545656638771,
          0.820361946978955,
          0.6755125739711599,
          0.41299673999115544,
          0.07631261338387187,
          -0.7910554179961357,
          -0.7373038757340009,
          -0.9086838430277623,
          -0.9534606912317044,
          -0.982536129838093,
          -0.5801898102773254,
          -0.12161662255652018,
          -0.11339743293892009,
          0.0722313384346986,
          0.20952251905269972,
          0.24655007516295385,
          0.1272482010821439,
          0.31491289022529834,
          0.5546035638766381,
          0.5365814317458328,
          0.3647226483796442,
          0.36246302509156275,
          0.3581747646839213,
          0.3577426576099589,
          0.3097403706280047,
          0.23824401198981257,
          0.19695166936060285,
          0.17558637659861426,
          0.1686717534964933,
          -0.11021214351392082,
          0.4955784531081821,
          0.3730082560482674,
          0.0920535168692684,
          0.745214140915188,
          0.41742102603419723,
          1.0607757586523803,
          0.6694088662068696,
          -0.13796220168040066,
          -0.1436498550368617,
          -0.1976035684227069,
          -0.2969871734427817,
          -0.41958083786446165,
          -0.19550359374609888,
          -0.056326533651881866,
          0.4103712390329655,
          0.6938821158985375,
          -2.87320987593946,
          -2.8747664074373387,
          -2.811711001214717,
          -2.7206893304910547,
          -2.7306442244034197,
          -2.767862562248877,
          -2.855633610642643,
          -2.880504489627345,
          -2.8939423487248366,
          -0.9676651728695208,
          -0.9323270288174204,
          -1.0355691313025148,
          -0.9476856111033466,
          -0.7848921413922079,
          -3.5518136294758262,
          -3.529600640181142,
          -3.522775095956966,
          -3.5200587536021857,
          -3.5005311651232667,
          0.5625559112749123,
          0.6922419873285292,
          0.46610245547993817,
          0.4030451048653532,
          -0.7394744464803916,
          -0.4019954059158958,
          -0.49811701602883146,
          -0.40281313520399603,
          -0.44144857005845517,
          -0.5447991827779168,
          0.01194408085318018,
          0.044216742459628006,
          0.13261784110392566,
          0.1846626425393405,
          -0.027742816510321937,
          0.012100758261397372,
          -0.05567762299145302,
          -0.09372694307696529,
          -0.025473642719127932,
          0.33011719561428793,
          0.24949909887744706,
          0.14772370978819402,
          0.1648617768854315,
          0.28549564836090024,
          0.3277117880286802,
          0.35577824043706957,
          0.3606043691267965,
          0.3231227330946812,
          0.3512168459282199,
          0.42041132665215564,
          0.15840434720434612,
          0.4076537840135747,
          0.44035761941058404,
          0.5654897258952619,
          0.6179379812656955,
          0.9105335091464766,
          1.0460219221075986,
          1.6240990453742443,
          1.4543597823287793,
          1.3760590728644855,
          1.5070372186102472,
          1.3948559646810061,
          1.4356514586667506,
          1.4207609889872774,
          1.3521358185457788,
          1.2742017173826712,
          1.2869000503439845,
          1.3097785044533132,
          -0.6841068972629631,
          -0.5680878202467367,
          -0.548325076065719,
          -0.8407400567622575,
          -0.967509181793783,
          -0.9467899859931069,
          -0.6392669378084197,
          -0.8120520392114374,
          -0.8413809135123398,
          -0.7785415085257478,
          -0.6780072900236471,
          -0.7629595346915766,
          -0.8498760297203982,
          -0.9296007604719884,
          -0.8045355577339767,
          -0.7257048204253111,
          -0.6970181327198998,
          -3.6079680460704093,
          -3.6080881160971345,
          -3.608390311623739,
          -0.2690344100735521,
          -0.12757499645914905,
          0.3322864650572213,
          0.2762996454374495,
          0.3434264147079085,
          0.31689748434765325,
          0.25469091778931585,
          0.06812102573528234,
          0.17810693129146893,
          -0.7157105890498644,
          -0.7012232302429879,
          -0.5412724286208386,
          -0.42954019773962115,
          -0.4350592635818201,
          -0.4105526111523574,
          -0.2026583950511799,
          0.22039415654745986,
          0.1086290556555412,
          0.04124260188277883,
          -0.09339119331882365,
          -0.1340893080699448,
          -0.16999059758968396,
          -0.167841444536706,
          -0.21633371626177683,
          -0.2768169968722704,
          -0.2607134991408858,
          -0.20189298804892994,
          -2.588060793952815,
          -2.5457578058486012,
          -2.4680218900225306,
          -2.4294035045979707,
          -2.4402349773184544,
          -2.422292433397076,
          -2.4042730493016276,
          -2.430233379088937,
          -2.423695958848543,
          -0.6075924101634033,
          -0.6068925818325444,
          0.11195285223255493,
          0.1502689192261257,
          0.05466487427462127,
          0.530068523213942,
          0.7328281120013849,
          0.7907449217511402,
          0.9322643503306849,
          0.880954933361906,
          0.8297397789102819,
          0.6808473969798524,
          0.40893931466873795,
          0.426029082781729,
          0.45936322746598535,
          0.45333757447069634,
          0.3264167198314888,
          0.47965435600102335,
          0.3295276418273714,
          0.48564134059882774,
          0.9046056367119699,
          0.5961887394367448,
          0.3026039701106289,
          -0.1398649751288838,
          -0.17016673375623687,
          0.2870531470501013,
          0.36434638670047303,
          0.42501790040575615,
          0.9441950155724735,
          1.2158125864052944,
          2.0226539518821336,
          1.9961071186849482,
          1.7784558506896526,
          2.0859919464635865,
          -1.2495834627275233,
          -1.1422274137194959,
          -1.0204459765929907,
          -1.09352021351775,
          -0.830261691959372,
          -0.8036835065649376,
          -0.8053486757445064,
          -0.9800738909919448,
          -1.0075782769487194,
          -0.9875159083632828,
          -1.0132092475618668,
          -0.9867331481625423,
          0.2455088029643865,
          0.967104965527807,
          0.7132871018485225,
          0.46793774231606255,
          0.25809262765099084,
          0.24564606876508713,
          0.06880837276775746,
          0.5764047916220258,
          0.5083782703956253,
          0.38707259682540546,
          0.3816557965478765,
          0.5145907721209186,
          0.7165281959004814,
          1.0018327795913475,
          1.2146778783835068,
          1.0890405200741855,
          0.9714190951916456,
          1.2492655055723854,
          -0.4993666759810986,
          -0.4096151835584867,
          -0.8601302167065895,
          -0.7496979852785256,
          -0.9153237838860299,
          -0.958742773758452,
          -0.9972098975932093,
          0.25529787905443774,
          0.2712867795448442,
          0.21909425542283353,
          0.16132951322476147,
          0.19740799357270788,
          0.4970310110829495,
          0.7882717645639303,
          0.7586243503010445,
          0.7160159775261233,
          0.8402187687836302,
          0.8788619093472576,
          0.889540495113946,
          0.8062011781761829,
          0.684565477624689,
          0.6523040516024625,
          0.6515847086117466,
          0.5900515949895312,
          -0.6486595157298307,
          0.4924327951992709,
          0.7050764455248875,
          0.7584223549637159,
          0.7214557645777149,
          0.6607081292562379,
          0.6769843755103674,
          0.7703201583065491,
          0.9606748619955165,
          0.9818939886217509,
          0.8627128414273282,
          0.8931746645578925,
          0.9441629863163349,
          0.9998328269560967,
          1.0688382965038563,
          1.046037377592205,
          1.0580137061897537,
          1.091093190244867,
          1.1208144414881818,
          -0.3592047759418902,
          -0.1760079103523808,
          0.2953620592445648,
          -0.5433831431959915,
          -0.6091921927710734,
          1.2071137014208926,
          0.9678870245061812,
          0.8080738054305625,
          0.6626878681425832,
          0.5997096368409374,
          0.5631970734390893,
          0.7350144600724507,
          0.46173799726899833,
          0.38290747594726837,
          0.42113343386302005,
          0.40870444809198236,
          0.49744420119960714,
          0.4435698116485056,
          0.5339524246781407,
          0.6452907788251813,
          -0.8320468312592639,
          -0.6759964170378244,
          -0.4870783779564138,
          -0.3407191530067338,
          -0.13280716314665447,
          -0.05967865036704479,
          0.04302408608731089,
          0.0622111894295408,
          0.25130808762616846,
          0.726648002296254,
          0.6632976965014205,
          0.5425984009773978,
          0.5177894502870992,
          0.5261997423600019,
          0.5975555211100082,
          0.6377334414725078,
          0.6526368859727434,
          0.5650218897649041,
          0.6268711527685561,
          0.695663308878631,
          0.3353558130211763,
          0.36448184968498126,
          0.5182720806400479,
          0.6577981142265447,
          0.6800390459807486,
          0.7228424063862117,
          0.5906123059439935,
          0.8830183785282663,
          0.9238773096706308,
          0.9723416490492504,
          -0.03215216871360785,
          -0.21913540550815824,
          0.009285608392918381,
          0.10542911507795714,
          -0.28806692816615914,
          -0.05924700838433283,
          -0.37374265323556594,
          -0.5659287409504112,
          -1.3962856697842931,
          -1.4452880209834547,
          -1.466026285578893,
          -1.5666753474492399,
          -1.2721173670193362,
          0.47452764605512543,
          0.4197440440564815,
          0.266860030490588,
          0.30583632022468227,
          0.20041023796446258,
          0.29333904378049774,
          0.786384902944906,
          0.7153422765265571,
          0.6690299350368027,
          0.7039789556636077,
          0.6357644293772695,
          0.6177900909086499,
          0.6151381924981795,
          0.532783171420678,
          0.4998477005141767,
          0.5599075700731811,
          0.0015004965992972544,
          0.0371631688216585,
          0.1391254083443685,
          0.14543405082199543,
          0.029437985687395415,
          0.16205217527830892,
          0.5617664503629952,
          0.5173407011381955,
          0.5439901015708539,
          0.7479078726668191,
          0.8177948963838214,
          0.8130353639125527,
          0.49945748583612837,
          0.4562024475226648,
          0.36743650655982796,
          0.41532102898116224,
          0.4499824865153588
         ],
         "xaxis": "x",
         "y": [
          -0.009432527924492562,
          -0.012917810495263082,
          -0.0246614393455602,
          -0.01720787951676761,
          -0.010355072483283656,
          -0.017089471243327714,
          -0.01342850209218971,
          -0.008817574969827269,
          -0.009727232613114367,
          -0.012165810848284386,
          -0.017826385941363765,
          -0.011766178614687317,
          -0.000632949914415426,
          -0.004051210349599321,
          0.009338451030700023,
          0.011039552974796418,
          -0.0002398622945832818,
          0.01125106985501928,
          0.004026920508013954,
          0.038440831875237835,
          0.028779918565084106,
          0.03431082636611127,
          0.04419807923621416,
          0.04154578713297952,
          0.02467145824260142,
          0.008266115676990315,
          -0.006000923740644759,
          0.025560696240199632,
          0.007791026860896999,
          -0.0057663220675101545,
          0.0035018274203638122,
          0.01610745606761349,
          0.004289466418007815,
          0.009767718713229234,
          0.021678079830554253,
          0.007789333756649752,
          -0.0012430776309222402,
          0.0008506000084900767,
          -0.011817937428015957,
          0.03917496593488945,
          0.03770070635280448,
          0.03529558446031317,
          0.03196040299331837,
          0.033035028798660326,
          0.02449738539249502,
          0.02578561563892956,
          0.03181245975858904,
          0.03895786963987935,
          0.037641823756612125,
          0.032118426997414184,
          0.029928841932784833,
          0.030166077948277303,
          0.04261968913347569,
          0.04139848817435238,
          0.04304855440406513,
          0.03656986827294423,
          0.0353539713866548,
          0.005163452713181194,
          0.009648957340138209,
          0.006448994350066961,
          0.018203673987608526,
          0.0045616799207800485,
          0.00299092525014949,
          0.008316479177743474,
          0.008036509401497194,
          -0.03364458928713365,
          -0.01964980656692117,
          -0.013242010616831557,
          -0.026875369677825445,
          -0.038186963652333095,
          -0.03822036055474415,
          -0.006832664301830271,
          -0.030005281643520842,
          -0.01848981383752535,
          0.0478353160451756,
          0.049585016973806906,
          0.035034052016924666,
          0.037285102446987906,
          0.005144620168266778,
          -0.00644026825937688,
          0.028335336310427783,
          0.04121757658952058,
          0.07193900232389439,
          0.06852750492392018,
          0.07983799641971018,
          0.06435589245729911,
          0.053679026341488356,
          0.05103479149888296,
          -0.06087231856524217,
          -0.01933320834605956,
          -0.053732526905725,
          -0.05579859807698073,
          -0.04523958541998707,
          -0.031021147264913673,
          -0.03276313284429294,
          -0.04693220320270186,
          -0.05150985898219729,
          -0.034303178363700615,
          -0.044126698645856055,
          -0.03410284103285066,
          -0.03923924176885485,
          -0.06153306381504625,
          -0.04750379323767273,
          -0.02800620261636594,
          -0.02553149899222945,
          -0.02786714726791062,
          -0.03120647165246737,
          -0.0351263401651577,
          -0.023920356853617708,
          -0.02982142696685286,
          -0.026877816525673892,
          -0.03325694557271136,
          -0.02699492024511352,
          -0.030298587266329446,
          -0.027373098027458187,
          -0.017664760989533734,
          -0.012808984223372233,
          -0.016121355970780682,
          -0.0015625549467864208,
          -0.0038150179225838743,
          -0.008419360976164525,
          -0.003691813146522449,
          -0.002397421200482752,
          -0.02758521458948751,
          -0.01521070908287564,
          -0.02298233946986883,
          -0.017855267766013372,
          -0.009545085632417072,
          -0.0061003496928626055,
          -0.022523750448469382,
          -0.008501974185954775,
          -0.012400202882534128,
          -0.01210734287348153,
          -0.003810982129215046,
          0.006792964907837817,
          0.005722177918067839,
          0.009884223316245666,
          0.010990838147362125,
          0.014366035063204996,
          0.011614594877866036,
          0.0086601925076783,
          0.01933946065998332,
          0.011943551643554429,
          0.01673460015666206,
          0.012336751052191897,
          0.007555415554946321,
          0.010429524802084256,
          0.006835431130199354,
          -0.0061057475480303935,
          0.00331694026646423,
          0.029277031617133464,
          0.005749957706515263,
          -0.0006937652817381457,
          0.022862031351572276,
          0.010750642081956752,
          0.03455082826550887,
          0.039086611354638534,
          0.025798114081096835,
          -0.026612641048316177,
          -0.025564418202919964,
          -0.030158947030589633,
          -0.048107942921960856,
          -0.06162340089281804,
          -0.03480698036017449,
          -0.04452826393359033,
          -0.04506213246070612,
          -0.050044515935676825,
          -0.04767456789160057,
          -0.04103935714857787,
          -0.03763550290765155,
          0.015317985770086862,
          -0.00736674575850893,
          0.0075955559936119466,
          0.004430146359318932,
          0.015398405510368529,
          0.02093358510049903,
          0.007108862141151084,
          0.00820917362747553,
          -0.002536625335544218,
          -0.00878005191556508,
          -0.019008178360499672,
          -0.01152562010891095,
          -0.0015099835638131553,
          0.009196420722032805,
          0.010589072932851828,
          -0.00006376865601775972,
          0.0063561353741436455,
          0.009460930033255988,
          -0.002219702140718538,
          -0.01467433974690191,
          -0.011034128885460515,
          -0.005180894878663578,
          -0.006889164493732891,
          -0.0036767933217888293,
          0.001575981559829076,
          -0.004713888667872035,
          -0.0026544313506245976,
          -0.009112652671278254,
          -0.01895225412877871,
          -0.00253483885372896,
          -0.010651755440150679,
          -0.018395773354568712,
          -0.027073558836680667,
          -0.027840786425380848,
          -0.030920970406617787,
          -0.032486161721446694,
          -0.03284336688256495,
          -0.02469863641592579,
          -0.023310415392256756,
          -0.022411888309167405,
          -0.01936584333808128,
          -0.022385253589046916,
          -0.011934672655313672,
          0.08099007535603459,
          0.08184550051743295,
          0.06840032417418346,
          0.05622365101942478,
          0.042850654416793255,
          0.036468731255271614,
          0.02898940608315176,
          0.043403999248509406,
          0.04512951340322735,
          0.01984230574192003,
          0.03220153082899779,
          0.020249526816706998,
          0.020238451105278554,
          0.02754935616159837,
          0.03083309038047055,
          0.009916425367627713,
          -0.0040733755521124015,
          -0.0020831805256025238,
          0.014683952098386854,
          -0.0003621748570045713,
          0.0015842192564524682,
          0.004450031490637663,
          0.0032911906335008068,
          0.0023466753792520945,
          -0.001928576991047204,
          -0.007845984638588821,
          -0.008589632403830039,
          0.005047974835196645,
          0.0018381220018390265,
          -0.01725165152521374,
          0.004671450863435345,
          0.00014566868770599095,
          0.04384861609050128,
          0.028458296563614816,
          -0.015607511280847974,
          -0.007463663970697865,
          -0.021494855599488105,
          -0.021100021881527875,
          -0.0300732584943591,
          -0.0342259463094694,
          -0.026951115588040253,
          -0.025178195464629738,
          -0.018066728593681358,
          -0.004964712004852656,
          0.002123800310631585,
          -0.009873452224928969,
          -0.007958353639112736,
          -0.0016990033946376326,
          -0.028755834440254202,
          0.024441228541759896,
          -0.05545609365033294,
          -0.024323877539072947,
          0.000408705501097395,
          0.004363959244570059,
          -0.01072068649067709,
          0.002819770827022061,
          0.02470550998018145,
          0.009883077525888684,
          -0.0003051309680384695,
          0.010399055349187392,
          -0.004325919369087272,
          0.008181733022964655,
          -0.0008166578347356679,
          -0.006635346634132455,
          -0.009227524096635353,
          -0.006759991641783369,
          -0.0005161605422298599,
          -0.0031011822708000847,
          -0.006384456874285682,
          -0.008687359004804496,
          -0.010359700674580141,
          -0.006690461780103629,
          -0.14608082194088,
          0.017183341221409187,
          0.020373675691985893,
          0.01935162547755981,
          0.0037988118976709506,
          0.01285616810018314,
          0.019648943372764016,
          0.014110594227194129,
          0.02965585612084265,
          0.01648286905897478,
          0.016499664774050238,
          0.016727439645999986,
          0.018957258831809265,
          0.017148242734861652,
          0.02257268238183824,
          0.024321061941596722,
          0.011102011709967385,
          0.023221802641645528,
          0.020633476537096296,
          0.03441414978256413,
          0.04081612199761331,
          0.021193985722476716,
          0.0019085469426661228,
          0.009480619129852708,
          0.006692506980297608,
          0.012387621359718881,
          0.01638570489854546,
          0.02167192675863505,
          0.016557138151540418,
          0.019833967382972217,
          -0.018950434241363612,
          -0.026211329979145825,
          -0.01823531170357623,
          -0.013128695955551217,
          -0.017466224569955502,
          0.011505341632982669,
          0.008293640698251836,
          0.01337502271370744,
          -0.0006336554694127416,
          0.06626245697855371,
          0.049760480974597066,
          0.02496158870571963,
          0.023863740547975743,
          0.02263836105222633,
          0.027969892043927802,
          0.027488913141247573,
          0.009346169582546748,
          0.015306171967597981,
          0.013849689508946439,
          -0.0052437525116544315,
          -0.015212446096378118,
          -0.01078428359857142,
          -0.012402746395875741,
          -0.003886787607025044,
          0.006155536317089649,
          0.00653428483495333,
          -0.001434107315461397,
          0.011849517020231792,
          0.008034266809130775,
          -0.01481000621175771,
          -0.013305900925866976,
          -0.02212711840563769,
          -0.02637288806229693,
          -0.03607236135299774,
          -0.04239472892809509,
          -0.01481659738298946,
          -0.006857251741105408,
          -0.017820247238887255,
          -0.018407792639698273,
          0.02776533722122826,
          0.03505847721748101,
          0.0007113377841737045,
          -0.015625965830907862,
          -0.013218156989363627,
          -0.005683084508408154,
          0.00007577469918085278,
          0.019153130931066797,
          0.027634359725199675,
          0.025159644271211923,
          0.029070093527369945,
          0.03403466072772898,
          0.036948161926731005,
          -0.019263787424662948,
          -0.01624378779126151,
          -0.02075873355940583,
          -0.025108927495946287,
          -0.02703190035171399,
          -0.03308897428368679,
          -0.024727187875298318,
          -0.02414917209039036,
          -0.027412995982478316,
          -0.03345828566470377,
          -0.025431170457028085,
          -0.026415757431068554,
          -0.021455907479599023,
          -0.02216772630943087,
          -0.03062448029545861,
          -0.031553259995663496,
          0.00490506530802981,
          0.007507271080077149,
          0.004701335323379241,
          0.007523601726305007,
          0.007511323739103903,
          -0.0021205498892235553,
          0.0023598977629440965,
          0.00030179015135572973,
          -0.006825977823607998,
          -0.006895851135550246,
          -0.005341269840980101,
          -0.010935672706249067,
          -0.006339001544700462,
          -0.00748744365032189,
          -0.006449405639113837,
          -0.007752799037765545,
          -0.0016303104640084665
         ],
         "yaxis": "y"
        }
       ],
       "layout": {
        "legend": {
         "tracegroupgap": 0
        },
        "template": {
         "data": {
          "bar": [
           {
            "error_x": {
             "color": "#2a3f5f"
            },
            "error_y": {
             "color": "#2a3f5f"
            },
            "marker": {
             "line": {
              "color": "#E5ECF6",
              "width": 0.5
             },
             "pattern": {
              "fillmode": "overlay",
              "size": 10,
              "solidity": 0.2
             }
            },
            "type": "bar"
           }
          ],
          "barpolar": [
           {
            "marker": {
             "line": {
              "color": "#E5ECF6",
              "width": 0.5
             },
             "pattern": {
              "fillmode": "overlay",
              "size": 10,
              "solidity": 0.2
             }
            },
            "type": "barpolar"
           }
          ],
          "carpet": [
           {
            "aaxis": {
             "endlinecolor": "#2a3f5f",
             "gridcolor": "white",
             "linecolor": "white",
             "minorgridcolor": "white",
             "startlinecolor": "#2a3f5f"
            },
            "baxis": {
             "endlinecolor": "#2a3f5f",
             "gridcolor": "white",
             "linecolor": "white",
             "minorgridcolor": "white",
             "startlinecolor": "#2a3f5f"
            },
            "type": "carpet"
           }
          ],
          "choropleth": [
           {
            "colorbar": {
             "outlinewidth": 0,
             "ticks": ""
            },
            "type": "choropleth"
           }
          ],
          "contour": [
           {
            "colorbar": {
             "outlinewidth": 0,
             "ticks": ""
            },
            "colorscale": [
             [
              0,
              "#0d0887"
             ],
             [
              0.1111111111111111,
              "#46039f"
             ],
             [
              0.2222222222222222,
              "#7201a8"
             ],
             [
              0.3333333333333333,
              "#9c179e"
             ],
             [
              0.4444444444444444,
              "#bd3786"
             ],
             [
              0.5555555555555556,
              "#d8576b"
             ],
             [
              0.6666666666666666,
              "#ed7953"
             ],
             [
              0.7777777777777778,
              "#fb9f3a"
             ],
             [
              0.8888888888888888,
              "#fdca26"
             ],
             [
              1,
              "#f0f921"
             ]
            ],
            "type": "contour"
           }
          ],
          "contourcarpet": [
           {
            "colorbar": {
             "outlinewidth": 0,
             "ticks": ""
            },
            "type": "contourcarpet"
           }
          ],
          "heatmap": [
           {
            "colorbar": {
             "outlinewidth": 0,
             "ticks": ""
            },
            "colorscale": [
             [
              0,
              "#0d0887"
             ],
             [
              0.1111111111111111,
              "#46039f"
             ],
             [
              0.2222222222222222,
              "#7201a8"
             ],
             [
              0.3333333333333333,
              "#9c179e"
             ],
             [
              0.4444444444444444,
              "#bd3786"
             ],
             [
              0.5555555555555556,
              "#d8576b"
             ],
             [
              0.6666666666666666,
              "#ed7953"
             ],
             [
              0.7777777777777778,
              "#fb9f3a"
             ],
             [
              0.8888888888888888,
              "#fdca26"
             ],
             [
              1,
              "#f0f921"
             ]
            ],
            "type": "heatmap"
           }
          ],
          "heatmapgl": [
           {
            "colorbar": {
             "outlinewidth": 0,
             "ticks": ""
            },
            "colorscale": [
             [
              0,
              "#0d0887"
             ],
             [
              0.1111111111111111,
              "#46039f"
             ],
             [
              0.2222222222222222,
              "#7201a8"
             ],
             [
              0.3333333333333333,
              "#9c179e"
             ],
             [
              0.4444444444444444,
              "#bd3786"
             ],
             [
              0.5555555555555556,
              "#d8576b"
             ],
             [
              0.6666666666666666,
              "#ed7953"
             ],
             [
              0.7777777777777778,
              "#fb9f3a"
             ],
             [
              0.8888888888888888,
              "#fdca26"
             ],
             [
              1,
              "#f0f921"
             ]
            ],
            "type": "heatmapgl"
           }
          ],
          "histogram": [
           {
            "marker": {
             "pattern": {
              "fillmode": "overlay",
              "size": 10,
              "solidity": 0.2
             }
            },
            "type": "histogram"
           }
          ],
          "histogram2d": [
           {
            "colorbar": {
             "outlinewidth": 0,
             "ticks": ""
            },
            "colorscale": [
             [
              0,
              "#0d0887"
             ],
             [
              0.1111111111111111,
              "#46039f"
             ],
             [
              0.2222222222222222,
              "#7201a8"
             ],
             [
              0.3333333333333333,
              "#9c179e"
             ],
             [
              0.4444444444444444,
              "#bd3786"
             ],
             [
              0.5555555555555556,
              "#d8576b"
             ],
             [
              0.6666666666666666,
              "#ed7953"
             ],
             [
              0.7777777777777778,
              "#fb9f3a"
             ],
             [
              0.8888888888888888,
              "#fdca26"
             ],
             [
              1,
              "#f0f921"
             ]
            ],
            "type": "histogram2d"
           }
          ],
          "histogram2dcontour": [
           {
            "colorbar": {
             "outlinewidth": 0,
             "ticks": ""
            },
            "colorscale": [
             [
              0,
              "#0d0887"
             ],
             [
              0.1111111111111111,
              "#46039f"
             ],
             [
              0.2222222222222222,
              "#7201a8"
             ],
             [
              0.3333333333333333,
              "#9c179e"
             ],
             [
              0.4444444444444444,
              "#bd3786"
             ],
             [
              0.5555555555555556,
              "#d8576b"
             ],
             [
              0.6666666666666666,
              "#ed7953"
             ],
             [
              0.7777777777777778,
              "#fb9f3a"
             ],
             [
              0.8888888888888888,
              "#fdca26"
             ],
             [
              1,
              "#f0f921"
             ]
            ],
            "type": "histogram2dcontour"
           }
          ],
          "mesh3d": [
           {
            "colorbar": {
             "outlinewidth": 0,
             "ticks": ""
            },
            "type": "mesh3d"
           }
          ],
          "parcoords": [
           {
            "line": {
             "colorbar": {
              "outlinewidth": 0,
              "ticks": ""
             }
            },
            "type": "parcoords"
           }
          ],
          "pie": [
           {
            "automargin": true,
            "type": "pie"
           }
          ],
          "scatter": [
           {
            "fillpattern": {
             "fillmode": "overlay",
             "size": 10,
             "solidity": 0.2
            },
            "type": "scatter"
           }
          ],
          "scatter3d": [
           {
            "line": {
             "colorbar": {
              "outlinewidth": 0,
              "ticks": ""
             }
            },
            "marker": {
             "colorbar": {
              "outlinewidth": 0,
              "ticks": ""
             }
            },
            "type": "scatter3d"
           }
          ],
          "scattercarpet": [
           {
            "marker": {
             "colorbar": {
              "outlinewidth": 0,
              "ticks": ""
             }
            },
            "type": "scattercarpet"
           }
          ],
          "scattergeo": [
           {
            "marker": {
             "colorbar": {
              "outlinewidth": 0,
              "ticks": ""
             }
            },
            "type": "scattergeo"
           }
          ],
          "scattergl": [
           {
            "marker": {
             "colorbar": {
              "outlinewidth": 0,
              "ticks": ""
             }
            },
            "type": "scattergl"
           }
          ],
          "scattermapbox": [
           {
            "marker": {
             "colorbar": {
              "outlinewidth": 0,
              "ticks": ""
             }
            },
            "type": "scattermapbox"
           }
          ],
          "scatterpolar": [
           {
            "marker": {
             "colorbar": {
              "outlinewidth": 0,
              "ticks": ""
             }
            },
            "type": "scatterpolar"
           }
          ],
          "scatterpolargl": [
           {
            "marker": {
             "colorbar": {
              "outlinewidth": 0,
              "ticks": ""
             }
            },
            "type": "scatterpolargl"
           }
          ],
          "scatterternary": [
           {
            "marker": {
             "colorbar": {
              "outlinewidth": 0,
              "ticks": ""
             }
            },
            "type": "scatterternary"
           }
          ],
          "surface": [
           {
            "colorbar": {
             "outlinewidth": 0,
             "ticks": ""
            },
            "colorscale": [
             [
              0,
              "#0d0887"
             ],
             [
              0.1111111111111111,
              "#46039f"
             ],
             [
              0.2222222222222222,
              "#7201a8"
             ],
             [
              0.3333333333333333,
              "#9c179e"
             ],
             [
              0.4444444444444444,
              "#bd3786"
             ],
             [
              0.5555555555555556,
              "#d8576b"
             ],
             [
              0.6666666666666666,
              "#ed7953"
             ],
             [
              0.7777777777777778,
              "#fb9f3a"
             ],
             [
              0.8888888888888888,
              "#fdca26"
             ],
             [
              1,
              "#f0f921"
             ]
            ],
            "type": "surface"
           }
          ],
          "table": [
           {
            "cells": {
             "fill": {
              "color": "#EBF0F8"
             },
             "line": {
              "color": "white"
             }
            },
            "header": {
             "fill": {
              "color": "#C8D4E3"
             },
             "line": {
              "color": "white"
             }
            },
            "type": "table"
           }
          ]
         },
         "layout": {
          "annotationdefaults": {
           "arrowcolor": "#2a3f5f",
           "arrowhead": 0,
           "arrowwidth": 1
          },
          "autotypenumbers": "strict",
          "coloraxis": {
           "colorbar": {
            "outlinewidth": 0,
            "ticks": ""
           }
          },
          "colorscale": {
           "diverging": [
            [
             0,
             "#8e0152"
            ],
            [
             0.1,
             "#c51b7d"
            ],
            [
             0.2,
             "#de77ae"
            ],
            [
             0.3,
             "#f1b6da"
            ],
            [
             0.4,
             "#fde0ef"
            ],
            [
             0.5,
             "#f7f7f7"
            ],
            [
             0.6,
             "#e6f5d0"
            ],
            [
             0.7,
             "#b8e186"
            ],
            [
             0.8,
             "#7fbc41"
            ],
            [
             0.9,
             "#4d9221"
            ],
            [
             1,
             "#276419"
            ]
           ],
           "sequential": [
            [
             0,
             "#0d0887"
            ],
            [
             0.1111111111111111,
             "#46039f"
            ],
            [
             0.2222222222222222,
             "#7201a8"
            ],
            [
             0.3333333333333333,
             "#9c179e"
            ],
            [
             0.4444444444444444,
             "#bd3786"
            ],
            [
             0.5555555555555556,
             "#d8576b"
            ],
            [
             0.6666666666666666,
             "#ed7953"
            ],
            [
             0.7777777777777778,
             "#fb9f3a"
            ],
            [
             0.8888888888888888,
             "#fdca26"
            ],
            [
             1,
             "#f0f921"
            ]
           ],
           "sequentialminus": [
            [
             0,
             "#0d0887"
            ],
            [
             0.1111111111111111,
             "#46039f"
            ],
            [
             0.2222222222222222,
             "#7201a8"
            ],
            [
             0.3333333333333333,
             "#9c179e"
            ],
            [
             0.4444444444444444,
             "#bd3786"
            ],
            [
             0.5555555555555556,
             "#d8576b"
            ],
            [
             0.6666666666666666,
             "#ed7953"
            ],
            [
             0.7777777777777778,
             "#fb9f3a"
            ],
            [
             0.8888888888888888,
             "#fdca26"
            ],
            [
             1,
             "#f0f921"
            ]
           ]
          },
          "colorway": [
           "#636efa",
           "#EF553B",
           "#00cc96",
           "#ab63fa",
           "#FFA15A",
           "#19d3f3",
           "#FF6692",
           "#B6E880",
           "#FF97FF",
           "#FECB52"
          ],
          "font": {
           "color": "#2a3f5f"
          },
          "geo": {
           "bgcolor": "white",
           "lakecolor": "white",
           "landcolor": "#E5ECF6",
           "showlakes": true,
           "showland": true,
           "subunitcolor": "white"
          },
          "hoverlabel": {
           "align": "left"
          },
          "hovermode": "closest",
          "mapbox": {
           "style": "light"
          },
          "paper_bgcolor": "white",
          "plot_bgcolor": "#E5ECF6",
          "polar": {
           "angularaxis": {
            "gridcolor": "white",
            "linecolor": "white",
            "ticks": ""
           },
           "bgcolor": "#E5ECF6",
           "radialaxis": {
            "gridcolor": "white",
            "linecolor": "white",
            "ticks": ""
           }
          },
          "scene": {
           "xaxis": {
            "backgroundcolor": "#E5ECF6",
            "gridcolor": "white",
            "gridwidth": 2,
            "linecolor": "white",
            "showbackground": true,
            "ticks": "",
            "zerolinecolor": "white"
           },
           "yaxis": {
            "backgroundcolor": "#E5ECF6",
            "gridcolor": "white",
            "gridwidth": 2,
            "linecolor": "white",
            "showbackground": true,
            "ticks": "",
            "zerolinecolor": "white"
           },
           "zaxis": {
            "backgroundcolor": "#E5ECF6",
            "gridcolor": "white",
            "gridwidth": 2,
            "linecolor": "white",
            "showbackground": true,
            "ticks": "",
            "zerolinecolor": "white"
           }
          },
          "shapedefaults": {
           "line": {
            "color": "#2a3f5f"
           }
          },
          "ternary": {
           "aaxis": {
            "gridcolor": "white",
            "linecolor": "white",
            "ticks": ""
           },
           "baxis": {
            "gridcolor": "white",
            "linecolor": "white",
            "ticks": ""
           },
           "bgcolor": "#E5ECF6",
           "caxis": {
            "gridcolor": "white",
            "linecolor": "white",
            "ticks": ""
           }
          },
          "title": {
           "x": 0.05
          },
          "xaxis": {
           "automargin": true,
           "gridcolor": "white",
           "linecolor": "white",
           "ticks": "",
           "title": {
            "standoff": 15
           },
           "zerolinecolor": "white",
           "zerolinewidth": 2
          },
          "yaxis": {
           "automargin": true,
           "gridcolor": "white",
           "linecolor": "white",
           "ticks": "",
           "title": {
            "standoff": 15
           },
           "zerolinecolor": "white",
           "zerolinewidth": 2
          }
         }
        },
        "title": {
         "text": "Residual plot of Health spending"
        },
        "xaxis": {
         "anchor": "y",
         "domain": [
          0,
          1
         ],
         "title": {
          "text": "Health spending"
         }
        },
        "yaxis": {
         "anchor": "x",
         "domain": [
          0,
          1
         ],
         "title": {
          "text": "Residuals"
         }
        }
       }
      }
     },
     "metadata": {},
     "output_type": "display_data"
    },
    {
     "data": {
      "application/vnd.plotly.v1+json": {
       "config": {
        "plotlyServerURL": "https://plot.ly"
       },
       "data": [
        {
         "hovertemplate": "Housing spending=%{x}<br>Residuals=%{y}<extra></extra>",
         "legendgroup": "",
         "marker": {
          "color": "#636efa",
          "symbol": "circle"
         },
         "mode": "markers",
         "name": "",
         "orientation": "v",
         "showlegend": false,
         "type": "scatter",
         "x": [
          0.7811985067556769,
          0.6941238744783427,
          0.670695844065053,
          0.5683559941953772,
          0.17196371617450656,
          0.11339444334069847,
          0.013313016976752629,
          -0.03657269151847387,
          -0.022973655800380677,
          -0.05680615066439699,
          -0.07280739329702415,
          0.04722479764931778,
          0.052510362240352826,
          0.06821535887898222,
          0.008672239464551883,
          -0.056388513539131956,
          -0.10493528790944523,
          -0.09279629348008857,
          -0.12886958456501063,
          1.255898383952467,
          2.196519212398484,
          1.9434473127939906,
          1.4704178281748876,
          1.8922314228735568,
          1.7161670459675686,
          1.7668725208859086,
          2.319176951813079,
          1.9450422620716572,
          1.1730989862729395,
          0.9729008507335504,
          0.8417844761044492,
          0.7569976776323072,
          0.496159405410809,
          0.351652895142392,
          0.606759915632428,
          1.0679109934328352,
          1.1770853538873811,
          1.6853221853458875,
          1.5373602131673147,
          -0.9236318220094543,
          -0.9199731546263354,
          -0.9154913423572506,
          -0.9114448834385205,
          -0.9039741134702896,
          -0.8935587744041182,
          -0.869209473528417,
          -0.8545722213216227,
          -0.8524478956051549,
          -0.8529660598417311,
          -0.8573123705102681,
          -0.8558381482474414,
          -0.8214257170451704,
          -0.7993086525780649,
          -0.8232522578399223,
          -0.8395123000480547,
          -0.8660821719598724,
          -0.8572015292650634,
          0.25503673651750897,
          -0.032684198859369545,
          0.03371545532574463,
          0.18435885562954765,
          0.05029894759764922,
          -0.19810849375562553,
          -0.14898698369362726,
          -0.2655940184455815,
          -0.958679838943427,
          -0.958679838943427,
          -0.958679838943427,
          0.01950221479633575,
          -0.06728590171929079,
          0.04456552488359349,
          -0.9581638694438349,
          -0.9583206902706387,
          -0.9387523296007676,
          -0.8836561720751606,
          -0.8956338323248415,
          -0.9051873762495208,
          -0.8654666392471713,
          -0.8439660051201788,
          -0.8262583700716882,
          -0.8581643332532382,
          -0.870037343723325,
          -0.8933950958783048,
          -0.799300048067249,
          -0.8047317695997647,
          -0.801490243434642,
          -0.7517535560242943,
          -0.7574752599986919,
          -0.9585929409049739,
          -0.9586065329781683,
          -0.9585948683473023,
          -0.9585977575539565,
          -0.9586053783908915,
          -0.9557981552581482,
          -0.9437978309216584,
          -0.9400496639606793,
          -0.9428371961278404,
          -0.9447340934526441,
          -0.9467437393005544,
          -0.9423405878929397,
          -0.9443694048214459,
          -0.9224576224377479,
          -0.001762197302222916,
          -0.43351921832312207,
          -0.2486003910697396,
          -0.25449430272571605,
          -0.2471491621887425,
          -0.2384147503918125,
          0.4696816437246492,
          0.5649394773205214,
          0.4513524617909386,
          0.36416574508027516,
          0.5426393025850387,
          0.48997800657332435,
          0.4734886733085249,
          0.38900889884406387,
          0.4008340653916888,
          -0.07677718729005446,
          -0.04204566684672225,
          0.06867036099760243,
          0.0804493638437915,
          0.0065907128670993995,
          -0.055982061629614166,
          1.0143171210501611,
          1.0937867511530621,
          1.0880851952408797,
          1.0657035844366485,
          1.0096501404653044,
          0.9795804828756159,
          0.9478740836268276,
          1.076872209066865,
          1.0827028813959796,
          1.127146916452716,
          1.1555382703496155,
          1.1281292797986482,
          1.161610682247987,
          1.1766502662121747,
          1.1105371866573561,
          1.061746263901309,
          1.0408679971935457,
          1.0387129026633506,
          -0.958679838943427,
          -0.958679838943427,
          -0.958679838943427,
          -0.958679838943427,
          -0.958679838943427,
          -0.958679838943427,
          -0.958679838943427,
          -0.958679838943427,
          -0.958679838943427,
          -0.958679838943427,
          -0.7775302694384751,
          -0.8791022869397218,
          -0.8252146352286812,
          -0.8101466494503466,
          -0.7318673478911625,
          -0.7413971472950236,
          -0.7208411233153859,
          -0.9585200438499017,
          -0.9585317569831838,
          -0.958520869118558,
          -0.9208297048406744,
          -0.922199712981063,
          -0.9234625856561445,
          -0.9104157994798091,
          -0.9131031917016806,
          -0.9051214978602028,
          -0.8936111409173737,
          -0.8862587533230812,
          -0.886201276129218,
          -0.8334467168005885,
          -0.8109009265018785,
          -0.7774834875253157,
          -0.7721873153436459,
          -0.7241207686933616,
          -0.7430057955648797,
          -0.7233846222501307,
          -0.6509996451984279,
          -0.6125755331751777,
          -0.5976617994808738,
          -0.7223740711891162,
          -0.769858789523036,
          -0.8209153214153851,
          -0.8356477369653037,
          -0.8433485251844582,
          -0.8412626856828692,
          -0.8673211113378785,
          -0.8686508845755107,
          -0.8264607175225456,
          -0.8282080358414889,
          -0.8359648952998979,
          -0.8662416202029597,
          -0.866820035667463,
          -0.8736669633536002,
          -0.8839768983178556,
          -0.8854871342293904,
          -0.8906175040305008,
          0.001654886177468168,
          -0.02153461827737547,
          0.09679029848213895,
          0.10104950327405955,
          0.05510268209974434,
          0.0809256724399379,
          0.099681794237317,
          0.1147023925318981,
          0.12349624304409577,
          0.1761304494610807,
          0.30768157678911645,
          0.39511021020792286,
          0.44891358753160937,
          0.4300769335599736,
          0.39044526461867407,
          0.34323483356228407,
          0.6886940382912541,
          0.3663393238022852,
          0.1453031715709666,
          -0.058510533921700386,
          -0.08611807923526735,
          -0.22339397751662582,
          -0.22439367120861098,
          -0.22738105820737992,
          -0.2437271981786196,
          -0.3108138741392283,
          -0.3337767253827386,
          -0.32850688765953995,
          -0.33117594291757674,
          -0.2991977380380642,
          -0.23538310139026225,
          -0.22031758300407403,
          -0.26079846711595694,
          -0.24807127311301708,
          -0.6397238499450777,
          -0.5870138033204363,
          -0.6680249670023466,
          -0.6920597562736087,
          -0.7602942420783044,
          -0.7796238476640005,
          -0.7752280037842628,
          -0.7864764062360938,
          -0.7473383428764656,
          -0.7836856171356112,
          -0.8219226280699375,
          -0.8405557112196335,
          -0.5211618375211713,
          -0.5687133925456358,
          -0.5103962031978232,
          -0.5556232830252444,
          -0.5770423423047355,
          -0.49532141781468514,
          -0.5149570225179562,
          -0.4296884100894452,
          -0.4096577401965462,
          -0.4308914639471186,
          -0.47035214048301016,
          -0.4868104226032261,
          -0.5861919151632662,
          -0.5891027555483622,
          -0.5394519310747304,
          -0.5832403097880525,
          -0.5996955591344306,
          -0.5690857006681993,
          1.78407326593115,
          2.1787067392279207,
          1.0922374555537977,
          0.5541465031043925,
          0.14914239260306386,
          -0.47617849043757315,
          -0.7199214139344197,
          -0.8024293246883982,
          -0.7499927480047426,
          -0.7566449173883387,
          -0.6768801085793759,
          -0.7077003208760735,
          -0.5702589014950166,
          -0.4885074174766474,
          -0.46067927050103674,
          -0.3959748239117804,
          -0.449241886746424,
          -0.441534034511857,
          -0.4406930139163881,
          -0.37843799514029053,
          -0.41035425363530864,
          -0.3128820355596821,
          -0.3315369776236849,
          -0.34678107713042405,
          -0.4643036377663452,
          -0.5958551274333242,
          -0.550314776486483,
          -0.571568615165482,
          -0.5750009296119438,
          -0.5100244063392001,
          -0.5965663400336603,
          -0.528552504746345,
          -0.47126098304171987,
          -0.4444185814324848,
          -0.542102266925779,
          -0.5842582229913841,
          -0.6033970355747102,
          -0.616143181297958,
          -0.6200882397457844,
          -0.6202562495693406,
          -0.6364089309684148,
          -0.6484467609871151,
          -0.6739475770411305,
          -0.36278518222038647,
          0.21327807442619579,
          -0.7624409252983014,
          -0.5713263202189787,
          -0.9378644152640253,
          1.7330652028314502,
          1.4431360725477786,
          1.2401382473023643,
          0.8895473608986184,
          0.7703915482075884,
          0.9532101833960793,
          1.7628517002504842,
          1.9674382838142361,
          3.0955579996734,
          2.266651888932231,
          1.2026889009287944,
          1.1506198492709732,
          0.8417252685113725,
          0.46379122677851203,
          0.29021590035983486,
          2.493677811612269,
          2.250939392305965,
          2.355636639051371,
          2.156125195923002,
          2.108540068775636,
          2.122400145401978,
          2.146471895431353,
          2.1724406314596796,
          2.3195119515464513,
          2.9260899253967296,
          3.1500502086648843,
          3.2127117858123357,
          3.268728043011312,
          3.190412466295541,
          3.0326998609549514,
          2.890996865925592,
          2.6604177254025654,
          2.3452959428116955,
          2.073151661030085,
          1.6163648495020566,
          1.8925342616139618,
          1.8532042781215186,
          1.917920969981324,
          1.8317265846271786,
          1.820755760929844,
          1.7660299578837169,
          1.6859627048143073,
          1.7852446900770695,
          1.8546149542753707,
          1.8891462510146837,
          -0.5990538947155095,
          -0.5058594528919523,
          -0.3710950425394685,
          -0.5633148430339773,
          -0.3913647842158211,
          -0.26808730978840917,
          -0.24529185327624603,
          -0.33594438393316484,
          -0.5740304818280589,
          -0.625419629115945,
          -0.6161592998387042,
          -0.6061490548019466,
          -0.6678313964854862,
          0.23574246718144967,
          -0.7078982399512537,
          -0.7310270707003501,
          -0.7615315950796546,
          -0.7928096658162238,
          -0.7989686500882107,
          -0.740635545071158,
          -0.6388177686952092,
          -0.550961161794131,
          -0.41113932209412557,
          -0.21368362342758931,
          -0.11985522124530773,
          -0.15524559564020132,
          -0.1946527886021996,
          -0.3101084144763285,
          -0.425348205319166,
          -0.10102358068921671,
          -0.12755197654360304,
          -0.15561989287917813,
          -0.19019029401755694,
          -0.2614609794489221,
          -0.2919552096302972,
          -0.15611722094517383,
          -0.10626885760740876,
          -0.11359222405705417,
          -0.043528223075850574,
          0.037613566769314974,
          0.13203933944713583,
          0.3629108276239485,
          0.5563104459158354,
          0.7421432619633748,
          0.9842407462195054,
          0.9329098962087369
         ],
         "xaxis": "x",
         "y": [
          -0.009432527924492562,
          -0.012917810495263082,
          -0.0246614393455602,
          -0.01720787951676761,
          -0.010355072483283656,
          -0.017089471243327714,
          -0.01342850209218971,
          -0.008817574969827269,
          -0.009727232613114367,
          -0.012165810848284386,
          -0.017826385941363765,
          -0.011766178614687317,
          -0.000632949914415426,
          -0.004051210349599321,
          0.009338451030700023,
          0.011039552974796418,
          -0.0002398622945832818,
          0.01125106985501928,
          0.004026920508013954,
          0.038440831875237835,
          0.028779918565084106,
          0.03431082636611127,
          0.04419807923621416,
          0.04154578713297952,
          0.02467145824260142,
          0.008266115676990315,
          -0.006000923740644759,
          0.025560696240199632,
          0.007791026860896999,
          -0.0057663220675101545,
          0.0035018274203638122,
          0.01610745606761349,
          0.004289466418007815,
          0.009767718713229234,
          0.021678079830554253,
          0.007789333756649752,
          -0.0012430776309222402,
          0.0008506000084900767,
          -0.011817937428015957,
          0.03917496593488945,
          0.03770070635280448,
          0.03529558446031317,
          0.03196040299331837,
          0.033035028798660326,
          0.02449738539249502,
          0.02578561563892956,
          0.03181245975858904,
          0.03895786963987935,
          0.037641823756612125,
          0.032118426997414184,
          0.029928841932784833,
          0.030166077948277303,
          0.04261968913347569,
          0.04139848817435238,
          0.04304855440406513,
          0.03656986827294423,
          0.0353539713866548,
          0.005163452713181194,
          0.009648957340138209,
          0.006448994350066961,
          0.018203673987608526,
          0.0045616799207800485,
          0.00299092525014949,
          0.008316479177743474,
          0.008036509401497194,
          -0.03364458928713365,
          -0.01964980656692117,
          -0.013242010616831557,
          -0.026875369677825445,
          -0.038186963652333095,
          -0.03822036055474415,
          -0.006832664301830271,
          -0.030005281643520842,
          -0.01848981383752535,
          0.0478353160451756,
          0.049585016973806906,
          0.035034052016924666,
          0.037285102446987906,
          0.005144620168266778,
          -0.00644026825937688,
          0.028335336310427783,
          0.04121757658952058,
          0.07193900232389439,
          0.06852750492392018,
          0.07983799641971018,
          0.06435589245729911,
          0.053679026341488356,
          0.05103479149888296,
          -0.06087231856524217,
          -0.01933320834605956,
          -0.053732526905725,
          -0.05579859807698073,
          -0.04523958541998707,
          -0.031021147264913673,
          -0.03276313284429294,
          -0.04693220320270186,
          -0.05150985898219729,
          -0.034303178363700615,
          -0.044126698645856055,
          -0.03410284103285066,
          -0.03923924176885485,
          -0.06153306381504625,
          -0.04750379323767273,
          -0.02800620261636594,
          -0.02553149899222945,
          -0.02786714726791062,
          -0.03120647165246737,
          -0.0351263401651577,
          -0.023920356853617708,
          -0.02982142696685286,
          -0.026877816525673892,
          -0.03325694557271136,
          -0.02699492024511352,
          -0.030298587266329446,
          -0.027373098027458187,
          -0.017664760989533734,
          -0.012808984223372233,
          -0.016121355970780682,
          -0.0015625549467864208,
          -0.0038150179225838743,
          -0.008419360976164525,
          -0.003691813146522449,
          -0.002397421200482752,
          -0.02758521458948751,
          -0.01521070908287564,
          -0.02298233946986883,
          -0.017855267766013372,
          -0.009545085632417072,
          -0.0061003496928626055,
          -0.022523750448469382,
          -0.008501974185954775,
          -0.012400202882534128,
          -0.01210734287348153,
          -0.003810982129215046,
          0.006792964907837817,
          0.005722177918067839,
          0.009884223316245666,
          0.010990838147362125,
          0.014366035063204996,
          0.011614594877866036,
          0.0086601925076783,
          0.01933946065998332,
          0.011943551643554429,
          0.01673460015666206,
          0.012336751052191897,
          0.007555415554946321,
          0.010429524802084256,
          0.006835431130199354,
          -0.0061057475480303935,
          0.00331694026646423,
          0.029277031617133464,
          0.005749957706515263,
          -0.0006937652817381457,
          0.022862031351572276,
          0.010750642081956752,
          0.03455082826550887,
          0.039086611354638534,
          0.025798114081096835,
          -0.026612641048316177,
          -0.025564418202919964,
          -0.030158947030589633,
          -0.048107942921960856,
          -0.06162340089281804,
          -0.03480698036017449,
          -0.04452826393359033,
          -0.04506213246070612,
          -0.050044515935676825,
          -0.04767456789160057,
          -0.04103935714857787,
          -0.03763550290765155,
          0.015317985770086862,
          -0.00736674575850893,
          0.0075955559936119466,
          0.004430146359318932,
          0.015398405510368529,
          0.02093358510049903,
          0.007108862141151084,
          0.00820917362747553,
          -0.002536625335544218,
          -0.00878005191556508,
          -0.019008178360499672,
          -0.01152562010891095,
          -0.0015099835638131553,
          0.009196420722032805,
          0.010589072932851828,
          -0.00006376865601775972,
          0.0063561353741436455,
          0.009460930033255988,
          -0.002219702140718538,
          -0.01467433974690191,
          -0.011034128885460515,
          -0.005180894878663578,
          -0.006889164493732891,
          -0.0036767933217888293,
          0.001575981559829076,
          -0.004713888667872035,
          -0.0026544313506245976,
          -0.009112652671278254,
          -0.01895225412877871,
          -0.00253483885372896,
          -0.010651755440150679,
          -0.018395773354568712,
          -0.027073558836680667,
          -0.027840786425380848,
          -0.030920970406617787,
          -0.032486161721446694,
          -0.03284336688256495,
          -0.02469863641592579,
          -0.023310415392256756,
          -0.022411888309167405,
          -0.01936584333808128,
          -0.022385253589046916,
          -0.011934672655313672,
          0.08099007535603459,
          0.08184550051743295,
          0.06840032417418346,
          0.05622365101942478,
          0.042850654416793255,
          0.036468731255271614,
          0.02898940608315176,
          0.043403999248509406,
          0.04512951340322735,
          0.01984230574192003,
          0.03220153082899779,
          0.020249526816706998,
          0.020238451105278554,
          0.02754935616159837,
          0.03083309038047055,
          0.009916425367627713,
          -0.0040733755521124015,
          -0.0020831805256025238,
          0.014683952098386854,
          -0.0003621748570045713,
          0.0015842192564524682,
          0.004450031490637663,
          0.0032911906335008068,
          0.0023466753792520945,
          -0.001928576991047204,
          -0.007845984638588821,
          -0.008589632403830039,
          0.005047974835196645,
          0.0018381220018390265,
          -0.01725165152521374,
          0.004671450863435345,
          0.00014566868770599095,
          0.04384861609050128,
          0.028458296563614816,
          -0.015607511280847974,
          -0.007463663970697865,
          -0.021494855599488105,
          -0.021100021881527875,
          -0.0300732584943591,
          -0.0342259463094694,
          -0.026951115588040253,
          -0.025178195464629738,
          -0.018066728593681358,
          -0.004964712004852656,
          0.002123800310631585,
          -0.009873452224928969,
          -0.007958353639112736,
          -0.0016990033946376326,
          -0.028755834440254202,
          0.024441228541759896,
          -0.05545609365033294,
          -0.024323877539072947,
          0.000408705501097395,
          0.004363959244570059,
          -0.01072068649067709,
          0.002819770827022061,
          0.02470550998018145,
          0.009883077525888684,
          -0.0003051309680384695,
          0.010399055349187392,
          -0.004325919369087272,
          0.008181733022964655,
          -0.0008166578347356679,
          -0.006635346634132455,
          -0.009227524096635353,
          -0.006759991641783369,
          -0.0005161605422298599,
          -0.0031011822708000847,
          -0.006384456874285682,
          -0.008687359004804496,
          -0.010359700674580141,
          -0.006690461780103629,
          -0.14608082194088,
          0.017183341221409187,
          0.020373675691985893,
          0.01935162547755981,
          0.0037988118976709506,
          0.01285616810018314,
          0.019648943372764016,
          0.014110594227194129,
          0.02965585612084265,
          0.01648286905897478,
          0.016499664774050238,
          0.016727439645999986,
          0.018957258831809265,
          0.017148242734861652,
          0.02257268238183824,
          0.024321061941596722,
          0.011102011709967385,
          0.023221802641645528,
          0.020633476537096296,
          0.03441414978256413,
          0.04081612199761331,
          0.021193985722476716,
          0.0019085469426661228,
          0.009480619129852708,
          0.006692506980297608,
          0.012387621359718881,
          0.01638570489854546,
          0.02167192675863505,
          0.016557138151540418,
          0.019833967382972217,
          -0.018950434241363612,
          -0.026211329979145825,
          -0.01823531170357623,
          -0.013128695955551217,
          -0.017466224569955502,
          0.011505341632982669,
          0.008293640698251836,
          0.01337502271370744,
          -0.0006336554694127416,
          0.06626245697855371,
          0.049760480974597066,
          0.02496158870571963,
          0.023863740547975743,
          0.02263836105222633,
          0.027969892043927802,
          0.027488913141247573,
          0.009346169582546748,
          0.015306171967597981,
          0.013849689508946439,
          -0.0052437525116544315,
          -0.015212446096378118,
          -0.01078428359857142,
          -0.012402746395875741,
          -0.003886787607025044,
          0.006155536317089649,
          0.00653428483495333,
          -0.001434107315461397,
          0.011849517020231792,
          0.008034266809130775,
          -0.01481000621175771,
          -0.013305900925866976,
          -0.02212711840563769,
          -0.02637288806229693,
          -0.03607236135299774,
          -0.04239472892809509,
          -0.01481659738298946,
          -0.006857251741105408,
          -0.017820247238887255,
          -0.018407792639698273,
          0.02776533722122826,
          0.03505847721748101,
          0.0007113377841737045,
          -0.015625965830907862,
          -0.013218156989363627,
          -0.005683084508408154,
          0.00007577469918085278,
          0.019153130931066797,
          0.027634359725199675,
          0.025159644271211923,
          0.029070093527369945,
          0.03403466072772898,
          0.036948161926731005,
          -0.019263787424662948,
          -0.01624378779126151,
          -0.02075873355940583,
          -0.025108927495946287,
          -0.02703190035171399,
          -0.03308897428368679,
          -0.024727187875298318,
          -0.02414917209039036,
          -0.027412995982478316,
          -0.03345828566470377,
          -0.025431170457028085,
          -0.026415757431068554,
          -0.021455907479599023,
          -0.02216772630943087,
          -0.03062448029545861,
          -0.031553259995663496,
          0.00490506530802981,
          0.007507271080077149,
          0.004701335323379241,
          0.007523601726305007,
          0.007511323739103903,
          -0.0021205498892235553,
          0.0023598977629440965,
          0.00030179015135572973,
          -0.006825977823607998,
          -0.006895851135550246,
          -0.005341269840980101,
          -0.010935672706249067,
          -0.006339001544700462,
          -0.00748744365032189,
          -0.006449405639113837,
          -0.007752799037765545,
          -0.0016303104640084665
         ],
         "yaxis": "y"
        }
       ],
       "layout": {
        "legend": {
         "tracegroupgap": 0
        },
        "template": {
         "data": {
          "bar": [
           {
            "error_x": {
             "color": "#2a3f5f"
            },
            "error_y": {
             "color": "#2a3f5f"
            },
            "marker": {
             "line": {
              "color": "#E5ECF6",
              "width": 0.5
             },
             "pattern": {
              "fillmode": "overlay",
              "size": 10,
              "solidity": 0.2
             }
            },
            "type": "bar"
           }
          ],
          "barpolar": [
           {
            "marker": {
             "line": {
              "color": "#E5ECF6",
              "width": 0.5
             },
             "pattern": {
              "fillmode": "overlay",
              "size": 10,
              "solidity": 0.2
             }
            },
            "type": "barpolar"
           }
          ],
          "carpet": [
           {
            "aaxis": {
             "endlinecolor": "#2a3f5f",
             "gridcolor": "white",
             "linecolor": "white",
             "minorgridcolor": "white",
             "startlinecolor": "#2a3f5f"
            },
            "baxis": {
             "endlinecolor": "#2a3f5f",
             "gridcolor": "white",
             "linecolor": "white",
             "minorgridcolor": "white",
             "startlinecolor": "#2a3f5f"
            },
            "type": "carpet"
           }
          ],
          "choropleth": [
           {
            "colorbar": {
             "outlinewidth": 0,
             "ticks": ""
            },
            "type": "choropleth"
           }
          ],
          "contour": [
           {
            "colorbar": {
             "outlinewidth": 0,
             "ticks": ""
            },
            "colorscale": [
             [
              0,
              "#0d0887"
             ],
             [
              0.1111111111111111,
              "#46039f"
             ],
             [
              0.2222222222222222,
              "#7201a8"
             ],
             [
              0.3333333333333333,
              "#9c179e"
             ],
             [
              0.4444444444444444,
              "#bd3786"
             ],
             [
              0.5555555555555556,
              "#d8576b"
             ],
             [
              0.6666666666666666,
              "#ed7953"
             ],
             [
              0.7777777777777778,
              "#fb9f3a"
             ],
             [
              0.8888888888888888,
              "#fdca26"
             ],
             [
              1,
              "#f0f921"
             ]
            ],
            "type": "contour"
           }
          ],
          "contourcarpet": [
           {
            "colorbar": {
             "outlinewidth": 0,
             "ticks": ""
            },
            "type": "contourcarpet"
           }
          ],
          "heatmap": [
           {
            "colorbar": {
             "outlinewidth": 0,
             "ticks": ""
            },
            "colorscale": [
             [
              0,
              "#0d0887"
             ],
             [
              0.1111111111111111,
              "#46039f"
             ],
             [
              0.2222222222222222,
              "#7201a8"
             ],
             [
              0.3333333333333333,
              "#9c179e"
             ],
             [
              0.4444444444444444,
              "#bd3786"
             ],
             [
              0.5555555555555556,
              "#d8576b"
             ],
             [
              0.6666666666666666,
              "#ed7953"
             ],
             [
              0.7777777777777778,
              "#fb9f3a"
             ],
             [
              0.8888888888888888,
              "#fdca26"
             ],
             [
              1,
              "#f0f921"
             ]
            ],
            "type": "heatmap"
           }
          ],
          "heatmapgl": [
           {
            "colorbar": {
             "outlinewidth": 0,
             "ticks": ""
            },
            "colorscale": [
             [
              0,
              "#0d0887"
             ],
             [
              0.1111111111111111,
              "#46039f"
             ],
             [
              0.2222222222222222,
              "#7201a8"
             ],
             [
              0.3333333333333333,
              "#9c179e"
             ],
             [
              0.4444444444444444,
              "#bd3786"
             ],
             [
              0.5555555555555556,
              "#d8576b"
             ],
             [
              0.6666666666666666,
              "#ed7953"
             ],
             [
              0.7777777777777778,
              "#fb9f3a"
             ],
             [
              0.8888888888888888,
              "#fdca26"
             ],
             [
              1,
              "#f0f921"
             ]
            ],
            "type": "heatmapgl"
           }
          ],
          "histogram": [
           {
            "marker": {
             "pattern": {
              "fillmode": "overlay",
              "size": 10,
              "solidity": 0.2
             }
            },
            "type": "histogram"
           }
          ],
          "histogram2d": [
           {
            "colorbar": {
             "outlinewidth": 0,
             "ticks": ""
            },
            "colorscale": [
             [
              0,
              "#0d0887"
             ],
             [
              0.1111111111111111,
              "#46039f"
             ],
             [
              0.2222222222222222,
              "#7201a8"
             ],
             [
              0.3333333333333333,
              "#9c179e"
             ],
             [
              0.4444444444444444,
              "#bd3786"
             ],
             [
              0.5555555555555556,
              "#d8576b"
             ],
             [
              0.6666666666666666,
              "#ed7953"
             ],
             [
              0.7777777777777778,
              "#fb9f3a"
             ],
             [
              0.8888888888888888,
              "#fdca26"
             ],
             [
              1,
              "#f0f921"
             ]
            ],
            "type": "histogram2d"
           }
          ],
          "histogram2dcontour": [
           {
            "colorbar": {
             "outlinewidth": 0,
             "ticks": ""
            },
            "colorscale": [
             [
              0,
              "#0d0887"
             ],
             [
              0.1111111111111111,
              "#46039f"
             ],
             [
              0.2222222222222222,
              "#7201a8"
             ],
             [
              0.3333333333333333,
              "#9c179e"
             ],
             [
              0.4444444444444444,
              "#bd3786"
             ],
             [
              0.5555555555555556,
              "#d8576b"
             ],
             [
              0.6666666666666666,
              "#ed7953"
             ],
             [
              0.7777777777777778,
              "#fb9f3a"
             ],
             [
              0.8888888888888888,
              "#fdca26"
             ],
             [
              1,
              "#f0f921"
             ]
            ],
            "type": "histogram2dcontour"
           }
          ],
          "mesh3d": [
           {
            "colorbar": {
             "outlinewidth": 0,
             "ticks": ""
            },
            "type": "mesh3d"
           }
          ],
          "parcoords": [
           {
            "line": {
             "colorbar": {
              "outlinewidth": 0,
              "ticks": ""
             }
            },
            "type": "parcoords"
           }
          ],
          "pie": [
           {
            "automargin": true,
            "type": "pie"
           }
          ],
          "scatter": [
           {
            "fillpattern": {
             "fillmode": "overlay",
             "size": 10,
             "solidity": 0.2
            },
            "type": "scatter"
           }
          ],
          "scatter3d": [
           {
            "line": {
             "colorbar": {
              "outlinewidth": 0,
              "ticks": ""
             }
            },
            "marker": {
             "colorbar": {
              "outlinewidth": 0,
              "ticks": ""
             }
            },
            "type": "scatter3d"
           }
          ],
          "scattercarpet": [
           {
            "marker": {
             "colorbar": {
              "outlinewidth": 0,
              "ticks": ""
             }
            },
            "type": "scattercarpet"
           }
          ],
          "scattergeo": [
           {
            "marker": {
             "colorbar": {
              "outlinewidth": 0,
              "ticks": ""
             }
            },
            "type": "scattergeo"
           }
          ],
          "scattergl": [
           {
            "marker": {
             "colorbar": {
              "outlinewidth": 0,
              "ticks": ""
             }
            },
            "type": "scattergl"
           }
          ],
          "scattermapbox": [
           {
            "marker": {
             "colorbar": {
              "outlinewidth": 0,
              "ticks": ""
             }
            },
            "type": "scattermapbox"
           }
          ],
          "scatterpolar": [
           {
            "marker": {
             "colorbar": {
              "outlinewidth": 0,
              "ticks": ""
             }
            },
            "type": "scatterpolar"
           }
          ],
          "scatterpolargl": [
           {
            "marker": {
             "colorbar": {
              "outlinewidth": 0,
              "ticks": ""
             }
            },
            "type": "scatterpolargl"
           }
          ],
          "scatterternary": [
           {
            "marker": {
             "colorbar": {
              "outlinewidth": 0,
              "ticks": ""
             }
            },
            "type": "scatterternary"
           }
          ],
          "surface": [
           {
            "colorbar": {
             "outlinewidth": 0,
             "ticks": ""
            },
            "colorscale": [
             [
              0,
              "#0d0887"
             ],
             [
              0.1111111111111111,
              "#46039f"
             ],
             [
              0.2222222222222222,
              "#7201a8"
             ],
             [
              0.3333333333333333,
              "#9c179e"
             ],
             [
              0.4444444444444444,
              "#bd3786"
             ],
             [
              0.5555555555555556,
              "#d8576b"
             ],
             [
              0.6666666666666666,
              "#ed7953"
             ],
             [
              0.7777777777777778,
              "#fb9f3a"
             ],
             [
              0.8888888888888888,
              "#fdca26"
             ],
             [
              1,
              "#f0f921"
             ]
            ],
            "type": "surface"
           }
          ],
          "table": [
           {
            "cells": {
             "fill": {
              "color": "#EBF0F8"
             },
             "line": {
              "color": "white"
             }
            },
            "header": {
             "fill": {
              "color": "#C8D4E3"
             },
             "line": {
              "color": "white"
             }
            },
            "type": "table"
           }
          ]
         },
         "layout": {
          "annotationdefaults": {
           "arrowcolor": "#2a3f5f",
           "arrowhead": 0,
           "arrowwidth": 1
          },
          "autotypenumbers": "strict",
          "coloraxis": {
           "colorbar": {
            "outlinewidth": 0,
            "ticks": ""
           }
          },
          "colorscale": {
           "diverging": [
            [
             0,
             "#8e0152"
            ],
            [
             0.1,
             "#c51b7d"
            ],
            [
             0.2,
             "#de77ae"
            ],
            [
             0.3,
             "#f1b6da"
            ],
            [
             0.4,
             "#fde0ef"
            ],
            [
             0.5,
             "#f7f7f7"
            ],
            [
             0.6,
             "#e6f5d0"
            ],
            [
             0.7,
             "#b8e186"
            ],
            [
             0.8,
             "#7fbc41"
            ],
            [
             0.9,
             "#4d9221"
            ],
            [
             1,
             "#276419"
            ]
           ],
           "sequential": [
            [
             0,
             "#0d0887"
            ],
            [
             0.1111111111111111,
             "#46039f"
            ],
            [
             0.2222222222222222,
             "#7201a8"
            ],
            [
             0.3333333333333333,
             "#9c179e"
            ],
            [
             0.4444444444444444,
             "#bd3786"
            ],
            [
             0.5555555555555556,
             "#d8576b"
            ],
            [
             0.6666666666666666,
             "#ed7953"
            ],
            [
             0.7777777777777778,
             "#fb9f3a"
            ],
            [
             0.8888888888888888,
             "#fdca26"
            ],
            [
             1,
             "#f0f921"
            ]
           ],
           "sequentialminus": [
            [
             0,
             "#0d0887"
            ],
            [
             0.1111111111111111,
             "#46039f"
            ],
            [
             0.2222222222222222,
             "#7201a8"
            ],
            [
             0.3333333333333333,
             "#9c179e"
            ],
            [
             0.4444444444444444,
             "#bd3786"
            ],
            [
             0.5555555555555556,
             "#d8576b"
            ],
            [
             0.6666666666666666,
             "#ed7953"
            ],
            [
             0.7777777777777778,
             "#fb9f3a"
            ],
            [
             0.8888888888888888,
             "#fdca26"
            ],
            [
             1,
             "#f0f921"
            ]
           ]
          },
          "colorway": [
           "#636efa",
           "#EF553B",
           "#00cc96",
           "#ab63fa",
           "#FFA15A",
           "#19d3f3",
           "#FF6692",
           "#B6E880",
           "#FF97FF",
           "#FECB52"
          ],
          "font": {
           "color": "#2a3f5f"
          },
          "geo": {
           "bgcolor": "white",
           "lakecolor": "white",
           "landcolor": "#E5ECF6",
           "showlakes": true,
           "showland": true,
           "subunitcolor": "white"
          },
          "hoverlabel": {
           "align": "left"
          },
          "hovermode": "closest",
          "mapbox": {
           "style": "light"
          },
          "paper_bgcolor": "white",
          "plot_bgcolor": "#E5ECF6",
          "polar": {
           "angularaxis": {
            "gridcolor": "white",
            "linecolor": "white",
            "ticks": ""
           },
           "bgcolor": "#E5ECF6",
           "radialaxis": {
            "gridcolor": "white",
            "linecolor": "white",
            "ticks": ""
           }
          },
          "scene": {
           "xaxis": {
            "backgroundcolor": "#E5ECF6",
            "gridcolor": "white",
            "gridwidth": 2,
            "linecolor": "white",
            "showbackground": true,
            "ticks": "",
            "zerolinecolor": "white"
           },
           "yaxis": {
            "backgroundcolor": "#E5ECF6",
            "gridcolor": "white",
            "gridwidth": 2,
            "linecolor": "white",
            "showbackground": true,
            "ticks": "",
            "zerolinecolor": "white"
           },
           "zaxis": {
            "backgroundcolor": "#E5ECF6",
            "gridcolor": "white",
            "gridwidth": 2,
            "linecolor": "white",
            "showbackground": true,
            "ticks": "",
            "zerolinecolor": "white"
           }
          },
          "shapedefaults": {
           "line": {
            "color": "#2a3f5f"
           }
          },
          "ternary": {
           "aaxis": {
            "gridcolor": "white",
            "linecolor": "white",
            "ticks": ""
           },
           "baxis": {
            "gridcolor": "white",
            "linecolor": "white",
            "ticks": ""
           },
           "bgcolor": "#E5ECF6",
           "caxis": {
            "gridcolor": "white",
            "linecolor": "white",
            "ticks": ""
           }
          },
          "title": {
           "x": 0.05
          },
          "xaxis": {
           "automargin": true,
           "gridcolor": "white",
           "linecolor": "white",
           "ticks": "",
           "title": {
            "standoff": 15
           },
           "zerolinecolor": "white",
           "zerolinewidth": 2
          },
          "yaxis": {
           "automargin": true,
           "gridcolor": "white",
           "linecolor": "white",
           "ticks": "",
           "title": {
            "standoff": 15
           },
           "zerolinecolor": "white",
           "zerolinewidth": 2
          }
         }
        },
        "title": {
         "text": "Residual plot of Housing spending"
        },
        "xaxis": {
         "anchor": "y",
         "domain": [
          0,
          1
         ],
         "title": {
          "text": "Housing spending"
         }
        },
        "yaxis": {
         "anchor": "x",
         "domain": [
          0,
          1
         ],
         "title": {
          "text": "Residuals"
         }
        }
       }
      }
     },
     "metadata": {},
     "output_type": "display_data"
    },
    {
     "data": {
      "application/vnd.plotly.v1+json": {
       "config": {
        "plotlyServerURL": "https://plot.ly"
       },
       "data": [
        {
         "hovertemplate": "Community development spending=%{x}<br>Residuals=%{y}<extra></extra>",
         "legendgroup": "",
         "marker": {
          "color": "#636efa",
          "symbol": "circle"
         },
         "mode": "markers",
         "name": "",
         "orientation": "v",
         "showlegend": false,
         "type": "scatter",
         "x": [
          0.37125715229602047,
          0.5618093915011813,
          0.4720624920779047,
          0.5574075658964958,
          0.5807155032185611,
          0.4181302020072788,
          0.4193430784874749,
          0.3941708537128196,
          0.33923987720006205,
          0.09590434078027338,
          0.2776946577640972,
          0.3617508445951584,
          0.31138176567582887,
          0.5085527357622429,
          0.3695813604719696,
          0.32149394849815216,
          0.39777800653049045,
          0.8126359703506254,
          0.7169723397260126,
          0.009706553802441977,
          -0.28408668540239657,
          -0.16012711813044525,
          -0.22774251996064257,
          -0.24104060552814102,
          -0.17842259180042122,
          -0.006467223559021577,
          0.1207495286016775,
          -0.33492588757235164,
          -0.37093290666404766,
          -0.08139160699275376,
          -0.5582264039210171,
          -0.6091049290725306,
          -0.7324511552843438,
          -0.7705898115064801,
          -0.5641366969413157,
          -0.6286248400219725,
          -0.4124392747913432,
          -0.43742952418134895,
          -0.47767734789840816,
          0.48950581238386603,
          0.5466645858233072,
          0.6094649402353645,
          0.5759462475349933,
          0.5410257240773547,
          0.5863006496389044,
          0.5977131413965527,
          0.7690904085592181,
          0.866843020099788,
          0.5178171314155953,
          0.3266063362385486,
          0.2742587869114609,
          0.03703691861577836,
          -0.014978364450167814,
          -0.16863293622857267,
          -0.3283260215281452,
          -0.33868271389563603,
          -0.16766112083977838,
          -0.3453865520555494,
          -0.07775774347540468,
          -0.15655121505424263,
          -0.008364954193909665,
          0.28810095797773433,
          0.10699683200207508,
          0.12907350903506382,
          0.4809211660234558,
          2.728758510795973,
          2.7099370673429783,
          2.7832186756790356,
          2.5841229865486977,
          2.6542112958708177,
          2.3260005126687004,
          1.4614278742132014,
          1.6569686266322448,
          1.2970443898401098,
          -0.8237009062524577,
          -0.8848185099538327,
          -0.903130445156266,
          -0.7435754214989909,
          -0.8333644851302234,
          -0.8776388371010055,
          -0.9277778353771265,
          -0.9379962810426478,
          -0.9119529882516892,
          -0.3300896190514096,
          0.1507832630008117,
          0.27428330854593036,
          0.7044761434690385,
          0.6240177095004337,
          -1.1238966483880715,
          -1.1154526173187786,
          -1.1121768064181459,
          -1.1126082147131202,
          -1.1101972711252885,
          0.22441411559844424,
          0.5957226374858905,
          0.7545134690918703,
          0.37239563397158576,
          0.15446202633639639,
          -0.06089007273942745,
          0.3834201627658317,
          -0.10751609309283652,
          -0.07179365109079507,
          0.18474114174881112,
          0.3101556791951689,
          0.27608633679638855,
          0.29853482554094185,
          0.2761364439542238,
          0.2503870558203726,
          0.18811640608072103,
          0.16890993719040712,
          0.05551113229300829,
          0.058396664290077914,
          0.1706558926202937,
          0.14351015740176531,
          0.12425766745560911,
          0.07767275053905852,
          0.10407795676462023,
          0.05516086250209743,
          0.005928161315392989,
          -0.004308874684376161,
          -0.05322103026697757,
          0.00802044783684968,
          0.010128177890209993,
          -1.1496821603864553,
          -1.1496821603864553,
          -1.1484559694851395,
          -1.1496821603864553,
          -1.1494005081418859,
          -1.149317965404071,
          -1.1495510221378658,
          -1.1493048044928365,
          -1.1452966962908901,
          -1.1496821603864553,
          -1.1496821603864553,
          -1.1496821603864553,
          -1.1496821603864553,
          -1.1496821603864553,
          -1.1496821603864553,
          -1.1496821603864553,
          -1.1496821603864553,
          -1.1496821603864553,
          0.6910667445591008,
          0.4101389180586692,
          0.29965427340455303,
          -0.05698139583889862,
          -0.2495128706810124,
          -0.14707506225692543,
          0.9243656753577083,
          0.9035518683612979,
          0.8583473943075777,
          0.7770501782514446,
          -0.36813764377691166,
          0.005180185474414548,
          -0.20463035024957538,
          -0.155867795293207,
          -0.2368979341855047,
          -0.2662437114601762,
          -0.24505221672332428,
          -1.148096640782189,
          -1.148087400612833,
          -1.1480975862521308,
          -0.8161477791973569,
          -0.7183198676635345,
          -0.7214679398571077,
          -0.7828401790563884,
          -0.8414297824567673,
          -0.8638703254517176,
          -0.8691690627162634,
          -0.8580477370972612,
          -0.9434540299574224,
          1.2938641195924667,
          2.50769062744856,
          1.469682451179562,
          1.6010599901228229,
          1.232480714826642,
          1.3600311873012567,
          2.14000420864794,
          3.266197552641909,
          -0.3901018478174296,
          -0.6033874991785505,
          -0.6474106638854888,
          -0.6417823062011072,
          -0.6242977264210375,
          -0.7627315385140925,
          -0.8252790717069333,
          -0.8175353140992285,
          -0.7919158244957895,
          -0.9494993044454383,
          -0.7765349428944978,
          -0.8026102834868373,
          -0.7772011285908552,
          -0.8058370559793364,
          -0.771304257974336,
          -0.7622296126663949,
          -0.8039783339207963,
          -0.7699251629441103,
          -0.7816837521605745,
          -0.1496160757037168,
          -0.20466742733256632,
          -0.26089084320135336,
          -0.20746995741549337,
          -0.03465714730465725,
          0.18914159033750427,
          0.0682741300650947,
          0.004360417233335947,
          -0.07975224483225915,
          -0.17801321987749094,
          -0.1835984776203736,
          -0.23320537662007307,
          -0.2739348207183514,
          -0.37135840388548136,
          -0.3274717017888588,
          -0.2587482546533291,
          0.11291800860302265,
          0.48631927293038923,
          0.010532338635519691,
          0.08369993620273873,
          0.19522548101656845,
          0.2070238772698385,
          0.11687567675095674,
          -0.013180989736879336,
          -0.06645641142342906,
          -1.140990913355412,
          -1.1411857228883868,
          -1.1413916574897165,
          -1.141128183653761,
          -1.1410685871533206,
          -1.140172106149999,
          -1.139824695193336,
          -1.1405722565998797,
          -1.1405241347175834,
          -0.7566043247586711,
          -0.7554517524842191,
          -0.7765730498361075,
          -0.6872751076045233,
          -0.24712812104475057,
          -0.5790747128282852,
          -0.7274307314506175,
          -0.8435291940242563,
          -0.8450238647296789,
          -0.8502824663808173,
          -0.880173812474676,
          -0.8641050867971108,
          -0.2226429144923099,
          -0.4614229208612694,
          -0.5700173033650789,
          -0.6021333655973776,
          -0.5331377841886751,
          -1.1489280007129434,
          -1.149229618740974,
          -1.1494389720516263,
          -1.1496821603864553,
          -1.1496821603864553,
          -1.1496821603864553,
          -1.1496821603864553,
          -1.1496821603864553,
          -1.1496821603864553,
          -1.1496821603864553,
          -1.1496821603864553,
          -1.1496821603864553,
          -1.1496821603864553,
          -1.146562429994763,
          -1.1377082293096465,
          -1.1496821603864553,
          -1.1493343160129357,
          -0.999259196438758,
          -1.0025775470184626,
          -0.9791003873367015,
          -0.29663759682269125,
          -0.3645145772392299,
          -0.39435280516413623,
          -0.30282647009593894,
          -0.30102929402413875,
          -0.31911250372320676,
          -0.4799903558354493,
          -0.49388034187506946,
          -0.5263634323892323,
          -0.42030514423766163,
          -0.4809174287815932,
          -0.40334985717143235,
          -0.48046385509808714,
          -0.4869488225959493,
          -0.4859963399525649,
          -0.3201917486561579,
          -0.35508397282503235,
          0.07483783665171416,
          -0.8798788197386038,
          -0.8815175231070473,
          -0.9000900951195677,
          -0.9060607838659847,
          -0.9298562956548323,
          -0.9264080076801863,
          -0.9331105713340552,
          -0.898781285548601,
          -0.8966395305157853,
          -0.9045920354703743,
          -0.8970379626260303,
          -0.9128681991223531,
          -0.9075680076466781,
          -0.9096053178907084,
          -0.9310677597577212,
          -0.9308173478064801,
          -0.9176576208817223,
          -0.9288842702617818,
          -1.1496821603864553,
          -1.1496821603864553,
          -1.1496821603864553,
          -1.1430199891153734,
          -1.1462810780319044,
          0.38559865025788775,
          0.4126576436774314,
          0.1265048356051551,
          1.7557594363814082,
          0.15758939134028102,
          0.4373739064866078,
          0.10597450694870661,
          -0.19768429976964882,
          0.07731933670298642,
          0.3163966807989933,
          -0.01952926764846129,
          0.30958977937842963,
          0.5930157327238946,
          0.5192779156257172,
          0.7829837504754215,
          0.3061068731924339,
          0.8626075291068152,
          0.8028286445808912,
          1.206070017028413,
          1.4979524134996482,
          2.036720894144068,
          2.3718979496512307,
          2.4108480296512704,
          1.955945229108588,
          2.2048350113222606,
          1.8169677379868845,
          1.278753317374124,
          0.7856557918219369,
          0.6268974559627476,
          0.7033507021361866,
          0.7053766757492964,
          0.6874720886056674,
          0.7509924499871149,
          0.7963597947186029,
          1.0034761666897836,
          3.0258046941419896,
          2.836573625623109,
          3.2781801117753693,
          3.3574542081549703,
          3.386282773906803,
          3.2784922746424696,
          3.1191880478558454,
          3.1825855900576343,
          2.9930234401628324,
          2.3123861648780375,
          2.44224258688519,
          1.9668169818027195,
          1.9523016562818034,
          1.3663920392369104,
          1.214635482737627,
          1.8657537336878676,
          1.5549873309250575,
          1.7248264824870498,
          0.705452642298037,
          0.6639193687936149,
          0.3509052470275511,
          0.9198438235600619,
          1.0228620804011221,
          -0.20216656923133697,
          -0.056161214734097235,
          0.1780338202051556,
          0.048623872869739376,
          -0.6826161954582203,
          -0.5523366802425206,
          0.05964852892563153,
          -0.2285875223273673,
          0.15042190027342725,
          -0.46451206369071857,
          0.07323031167485874,
          0.11541261247873186,
          -0.19195134829324959,
          -0.6215477471440747,
          -0.5605328536410327,
          0.464008765792987,
          0.42243170387354134,
          0.4126406491140815,
          0.3023783466163069,
          0.27129443079248117,
          0.27445341748108065,
          0.3011242920172694,
          0.41411543707101894,
          0.4018165121577242,
          0.3451937426055639,
          0.36929390616118174,
          0.35475930162056146,
          0.32599768036983606,
          0.2729674764627307,
          0.21177641114258353,
          0.10186516436232933,
          0.06813038545156515,
          0.04182856993127433
         ],
         "xaxis": "x",
         "y": [
          -0.009432527924492562,
          -0.012917810495263082,
          -0.0246614393455602,
          -0.01720787951676761,
          -0.010355072483283656,
          -0.017089471243327714,
          -0.01342850209218971,
          -0.008817574969827269,
          -0.009727232613114367,
          -0.012165810848284386,
          -0.017826385941363765,
          -0.011766178614687317,
          -0.000632949914415426,
          -0.004051210349599321,
          0.009338451030700023,
          0.011039552974796418,
          -0.0002398622945832818,
          0.01125106985501928,
          0.004026920508013954,
          0.038440831875237835,
          0.028779918565084106,
          0.03431082636611127,
          0.04419807923621416,
          0.04154578713297952,
          0.02467145824260142,
          0.008266115676990315,
          -0.006000923740644759,
          0.025560696240199632,
          0.007791026860896999,
          -0.0057663220675101545,
          0.0035018274203638122,
          0.01610745606761349,
          0.004289466418007815,
          0.009767718713229234,
          0.021678079830554253,
          0.007789333756649752,
          -0.0012430776309222402,
          0.0008506000084900767,
          -0.011817937428015957,
          0.03917496593488945,
          0.03770070635280448,
          0.03529558446031317,
          0.03196040299331837,
          0.033035028798660326,
          0.02449738539249502,
          0.02578561563892956,
          0.03181245975858904,
          0.03895786963987935,
          0.037641823756612125,
          0.032118426997414184,
          0.029928841932784833,
          0.030166077948277303,
          0.04261968913347569,
          0.04139848817435238,
          0.04304855440406513,
          0.03656986827294423,
          0.0353539713866548,
          0.005163452713181194,
          0.009648957340138209,
          0.006448994350066961,
          0.018203673987608526,
          0.0045616799207800485,
          0.00299092525014949,
          0.008316479177743474,
          0.008036509401497194,
          -0.03364458928713365,
          -0.01964980656692117,
          -0.013242010616831557,
          -0.026875369677825445,
          -0.038186963652333095,
          -0.03822036055474415,
          -0.006832664301830271,
          -0.030005281643520842,
          -0.01848981383752535,
          0.0478353160451756,
          0.049585016973806906,
          0.035034052016924666,
          0.037285102446987906,
          0.005144620168266778,
          -0.00644026825937688,
          0.028335336310427783,
          0.04121757658952058,
          0.07193900232389439,
          0.06852750492392018,
          0.07983799641971018,
          0.06435589245729911,
          0.053679026341488356,
          0.05103479149888296,
          -0.06087231856524217,
          -0.01933320834605956,
          -0.053732526905725,
          -0.05579859807698073,
          -0.04523958541998707,
          -0.031021147264913673,
          -0.03276313284429294,
          -0.04693220320270186,
          -0.05150985898219729,
          -0.034303178363700615,
          -0.044126698645856055,
          -0.03410284103285066,
          -0.03923924176885485,
          -0.06153306381504625,
          -0.04750379323767273,
          -0.02800620261636594,
          -0.02553149899222945,
          -0.02786714726791062,
          -0.03120647165246737,
          -0.0351263401651577,
          -0.023920356853617708,
          -0.02982142696685286,
          -0.026877816525673892,
          -0.03325694557271136,
          -0.02699492024511352,
          -0.030298587266329446,
          -0.027373098027458187,
          -0.017664760989533734,
          -0.012808984223372233,
          -0.016121355970780682,
          -0.0015625549467864208,
          -0.0038150179225838743,
          -0.008419360976164525,
          -0.003691813146522449,
          -0.002397421200482752,
          -0.02758521458948751,
          -0.01521070908287564,
          -0.02298233946986883,
          -0.017855267766013372,
          -0.009545085632417072,
          -0.0061003496928626055,
          -0.022523750448469382,
          -0.008501974185954775,
          -0.012400202882534128,
          -0.01210734287348153,
          -0.003810982129215046,
          0.006792964907837817,
          0.005722177918067839,
          0.009884223316245666,
          0.010990838147362125,
          0.014366035063204996,
          0.011614594877866036,
          0.0086601925076783,
          0.01933946065998332,
          0.011943551643554429,
          0.01673460015666206,
          0.012336751052191897,
          0.007555415554946321,
          0.010429524802084256,
          0.006835431130199354,
          -0.0061057475480303935,
          0.00331694026646423,
          0.029277031617133464,
          0.005749957706515263,
          -0.0006937652817381457,
          0.022862031351572276,
          0.010750642081956752,
          0.03455082826550887,
          0.039086611354638534,
          0.025798114081096835,
          -0.026612641048316177,
          -0.025564418202919964,
          -0.030158947030589633,
          -0.048107942921960856,
          -0.06162340089281804,
          -0.03480698036017449,
          -0.04452826393359033,
          -0.04506213246070612,
          -0.050044515935676825,
          -0.04767456789160057,
          -0.04103935714857787,
          -0.03763550290765155,
          0.015317985770086862,
          -0.00736674575850893,
          0.0075955559936119466,
          0.004430146359318932,
          0.015398405510368529,
          0.02093358510049903,
          0.007108862141151084,
          0.00820917362747553,
          -0.002536625335544218,
          -0.00878005191556508,
          -0.019008178360499672,
          -0.01152562010891095,
          -0.0015099835638131553,
          0.009196420722032805,
          0.010589072932851828,
          -0.00006376865601775972,
          0.0063561353741436455,
          0.009460930033255988,
          -0.002219702140718538,
          -0.01467433974690191,
          -0.011034128885460515,
          -0.005180894878663578,
          -0.006889164493732891,
          -0.0036767933217888293,
          0.001575981559829076,
          -0.004713888667872035,
          -0.0026544313506245976,
          -0.009112652671278254,
          -0.01895225412877871,
          -0.00253483885372896,
          -0.010651755440150679,
          -0.018395773354568712,
          -0.027073558836680667,
          -0.027840786425380848,
          -0.030920970406617787,
          -0.032486161721446694,
          -0.03284336688256495,
          -0.02469863641592579,
          -0.023310415392256756,
          -0.022411888309167405,
          -0.01936584333808128,
          -0.022385253589046916,
          -0.011934672655313672,
          0.08099007535603459,
          0.08184550051743295,
          0.06840032417418346,
          0.05622365101942478,
          0.042850654416793255,
          0.036468731255271614,
          0.02898940608315176,
          0.043403999248509406,
          0.04512951340322735,
          0.01984230574192003,
          0.03220153082899779,
          0.020249526816706998,
          0.020238451105278554,
          0.02754935616159837,
          0.03083309038047055,
          0.009916425367627713,
          -0.0040733755521124015,
          -0.0020831805256025238,
          0.014683952098386854,
          -0.0003621748570045713,
          0.0015842192564524682,
          0.004450031490637663,
          0.0032911906335008068,
          0.0023466753792520945,
          -0.001928576991047204,
          -0.007845984638588821,
          -0.008589632403830039,
          0.005047974835196645,
          0.0018381220018390265,
          -0.01725165152521374,
          0.004671450863435345,
          0.00014566868770599095,
          0.04384861609050128,
          0.028458296563614816,
          -0.015607511280847974,
          -0.007463663970697865,
          -0.021494855599488105,
          -0.021100021881527875,
          -0.0300732584943591,
          -0.0342259463094694,
          -0.026951115588040253,
          -0.025178195464629738,
          -0.018066728593681358,
          -0.004964712004852656,
          0.002123800310631585,
          -0.009873452224928969,
          -0.007958353639112736,
          -0.0016990033946376326,
          -0.028755834440254202,
          0.024441228541759896,
          -0.05545609365033294,
          -0.024323877539072947,
          0.000408705501097395,
          0.004363959244570059,
          -0.01072068649067709,
          0.002819770827022061,
          0.02470550998018145,
          0.009883077525888684,
          -0.0003051309680384695,
          0.010399055349187392,
          -0.004325919369087272,
          0.008181733022964655,
          -0.0008166578347356679,
          -0.006635346634132455,
          -0.009227524096635353,
          -0.006759991641783369,
          -0.0005161605422298599,
          -0.0031011822708000847,
          -0.006384456874285682,
          -0.008687359004804496,
          -0.010359700674580141,
          -0.006690461780103629,
          -0.14608082194088,
          0.017183341221409187,
          0.020373675691985893,
          0.01935162547755981,
          0.0037988118976709506,
          0.01285616810018314,
          0.019648943372764016,
          0.014110594227194129,
          0.02965585612084265,
          0.01648286905897478,
          0.016499664774050238,
          0.016727439645999986,
          0.018957258831809265,
          0.017148242734861652,
          0.02257268238183824,
          0.024321061941596722,
          0.011102011709967385,
          0.023221802641645528,
          0.020633476537096296,
          0.03441414978256413,
          0.04081612199761331,
          0.021193985722476716,
          0.0019085469426661228,
          0.009480619129852708,
          0.006692506980297608,
          0.012387621359718881,
          0.01638570489854546,
          0.02167192675863505,
          0.016557138151540418,
          0.019833967382972217,
          -0.018950434241363612,
          -0.026211329979145825,
          -0.01823531170357623,
          -0.013128695955551217,
          -0.017466224569955502,
          0.011505341632982669,
          0.008293640698251836,
          0.01337502271370744,
          -0.0006336554694127416,
          0.06626245697855371,
          0.049760480974597066,
          0.02496158870571963,
          0.023863740547975743,
          0.02263836105222633,
          0.027969892043927802,
          0.027488913141247573,
          0.009346169582546748,
          0.015306171967597981,
          0.013849689508946439,
          -0.0052437525116544315,
          -0.015212446096378118,
          -0.01078428359857142,
          -0.012402746395875741,
          -0.003886787607025044,
          0.006155536317089649,
          0.00653428483495333,
          -0.001434107315461397,
          0.011849517020231792,
          0.008034266809130775,
          -0.01481000621175771,
          -0.013305900925866976,
          -0.02212711840563769,
          -0.02637288806229693,
          -0.03607236135299774,
          -0.04239472892809509,
          -0.01481659738298946,
          -0.006857251741105408,
          -0.017820247238887255,
          -0.018407792639698273,
          0.02776533722122826,
          0.03505847721748101,
          0.0007113377841737045,
          -0.015625965830907862,
          -0.013218156989363627,
          -0.005683084508408154,
          0.00007577469918085278,
          0.019153130931066797,
          0.027634359725199675,
          0.025159644271211923,
          0.029070093527369945,
          0.03403466072772898,
          0.036948161926731005,
          -0.019263787424662948,
          -0.01624378779126151,
          -0.02075873355940583,
          -0.025108927495946287,
          -0.02703190035171399,
          -0.03308897428368679,
          -0.024727187875298318,
          -0.02414917209039036,
          -0.027412995982478316,
          -0.03345828566470377,
          -0.025431170457028085,
          -0.026415757431068554,
          -0.021455907479599023,
          -0.02216772630943087,
          -0.03062448029545861,
          -0.031553259995663496,
          0.00490506530802981,
          0.007507271080077149,
          0.004701335323379241,
          0.007523601726305007,
          0.007511323739103903,
          -0.0021205498892235553,
          0.0023598977629440965,
          0.00030179015135572973,
          -0.006825977823607998,
          -0.006895851135550246,
          -0.005341269840980101,
          -0.010935672706249067,
          -0.006339001544700462,
          -0.00748744365032189,
          -0.006449405639113837,
          -0.007752799037765545,
          -0.0016303104640084665
         ],
         "yaxis": "y"
        }
       ],
       "layout": {
        "legend": {
         "tracegroupgap": 0
        },
        "template": {
         "data": {
          "bar": [
           {
            "error_x": {
             "color": "#2a3f5f"
            },
            "error_y": {
             "color": "#2a3f5f"
            },
            "marker": {
             "line": {
              "color": "#E5ECF6",
              "width": 0.5
             },
             "pattern": {
              "fillmode": "overlay",
              "size": 10,
              "solidity": 0.2
             }
            },
            "type": "bar"
           }
          ],
          "barpolar": [
           {
            "marker": {
             "line": {
              "color": "#E5ECF6",
              "width": 0.5
             },
             "pattern": {
              "fillmode": "overlay",
              "size": 10,
              "solidity": 0.2
             }
            },
            "type": "barpolar"
           }
          ],
          "carpet": [
           {
            "aaxis": {
             "endlinecolor": "#2a3f5f",
             "gridcolor": "white",
             "linecolor": "white",
             "minorgridcolor": "white",
             "startlinecolor": "#2a3f5f"
            },
            "baxis": {
             "endlinecolor": "#2a3f5f",
             "gridcolor": "white",
             "linecolor": "white",
             "minorgridcolor": "white",
             "startlinecolor": "#2a3f5f"
            },
            "type": "carpet"
           }
          ],
          "choropleth": [
           {
            "colorbar": {
             "outlinewidth": 0,
             "ticks": ""
            },
            "type": "choropleth"
           }
          ],
          "contour": [
           {
            "colorbar": {
             "outlinewidth": 0,
             "ticks": ""
            },
            "colorscale": [
             [
              0,
              "#0d0887"
             ],
             [
              0.1111111111111111,
              "#46039f"
             ],
             [
              0.2222222222222222,
              "#7201a8"
             ],
             [
              0.3333333333333333,
              "#9c179e"
             ],
             [
              0.4444444444444444,
              "#bd3786"
             ],
             [
              0.5555555555555556,
              "#d8576b"
             ],
             [
              0.6666666666666666,
              "#ed7953"
             ],
             [
              0.7777777777777778,
              "#fb9f3a"
             ],
             [
              0.8888888888888888,
              "#fdca26"
             ],
             [
              1,
              "#f0f921"
             ]
            ],
            "type": "contour"
           }
          ],
          "contourcarpet": [
           {
            "colorbar": {
             "outlinewidth": 0,
             "ticks": ""
            },
            "type": "contourcarpet"
           }
          ],
          "heatmap": [
           {
            "colorbar": {
             "outlinewidth": 0,
             "ticks": ""
            },
            "colorscale": [
             [
              0,
              "#0d0887"
             ],
             [
              0.1111111111111111,
              "#46039f"
             ],
             [
              0.2222222222222222,
              "#7201a8"
             ],
             [
              0.3333333333333333,
              "#9c179e"
             ],
             [
              0.4444444444444444,
              "#bd3786"
             ],
             [
              0.5555555555555556,
              "#d8576b"
             ],
             [
              0.6666666666666666,
              "#ed7953"
             ],
             [
              0.7777777777777778,
              "#fb9f3a"
             ],
             [
              0.8888888888888888,
              "#fdca26"
             ],
             [
              1,
              "#f0f921"
             ]
            ],
            "type": "heatmap"
           }
          ],
          "heatmapgl": [
           {
            "colorbar": {
             "outlinewidth": 0,
             "ticks": ""
            },
            "colorscale": [
             [
              0,
              "#0d0887"
             ],
             [
              0.1111111111111111,
              "#46039f"
             ],
             [
              0.2222222222222222,
              "#7201a8"
             ],
             [
              0.3333333333333333,
              "#9c179e"
             ],
             [
              0.4444444444444444,
              "#bd3786"
             ],
             [
              0.5555555555555556,
              "#d8576b"
             ],
             [
              0.6666666666666666,
              "#ed7953"
             ],
             [
              0.7777777777777778,
              "#fb9f3a"
             ],
             [
              0.8888888888888888,
              "#fdca26"
             ],
             [
              1,
              "#f0f921"
             ]
            ],
            "type": "heatmapgl"
           }
          ],
          "histogram": [
           {
            "marker": {
             "pattern": {
              "fillmode": "overlay",
              "size": 10,
              "solidity": 0.2
             }
            },
            "type": "histogram"
           }
          ],
          "histogram2d": [
           {
            "colorbar": {
             "outlinewidth": 0,
             "ticks": ""
            },
            "colorscale": [
             [
              0,
              "#0d0887"
             ],
             [
              0.1111111111111111,
              "#46039f"
             ],
             [
              0.2222222222222222,
              "#7201a8"
             ],
             [
              0.3333333333333333,
              "#9c179e"
             ],
             [
              0.4444444444444444,
              "#bd3786"
             ],
             [
              0.5555555555555556,
              "#d8576b"
             ],
             [
              0.6666666666666666,
              "#ed7953"
             ],
             [
              0.7777777777777778,
              "#fb9f3a"
             ],
             [
              0.8888888888888888,
              "#fdca26"
             ],
             [
              1,
              "#f0f921"
             ]
            ],
            "type": "histogram2d"
           }
          ],
          "histogram2dcontour": [
           {
            "colorbar": {
             "outlinewidth": 0,
             "ticks": ""
            },
            "colorscale": [
             [
              0,
              "#0d0887"
             ],
             [
              0.1111111111111111,
              "#46039f"
             ],
             [
              0.2222222222222222,
              "#7201a8"
             ],
             [
              0.3333333333333333,
              "#9c179e"
             ],
             [
              0.4444444444444444,
              "#bd3786"
             ],
             [
              0.5555555555555556,
              "#d8576b"
             ],
             [
              0.6666666666666666,
              "#ed7953"
             ],
             [
              0.7777777777777778,
              "#fb9f3a"
             ],
             [
              0.8888888888888888,
              "#fdca26"
             ],
             [
              1,
              "#f0f921"
             ]
            ],
            "type": "histogram2dcontour"
           }
          ],
          "mesh3d": [
           {
            "colorbar": {
             "outlinewidth": 0,
             "ticks": ""
            },
            "type": "mesh3d"
           }
          ],
          "parcoords": [
           {
            "line": {
             "colorbar": {
              "outlinewidth": 0,
              "ticks": ""
             }
            },
            "type": "parcoords"
           }
          ],
          "pie": [
           {
            "automargin": true,
            "type": "pie"
           }
          ],
          "scatter": [
           {
            "fillpattern": {
             "fillmode": "overlay",
             "size": 10,
             "solidity": 0.2
            },
            "type": "scatter"
           }
          ],
          "scatter3d": [
           {
            "line": {
             "colorbar": {
              "outlinewidth": 0,
              "ticks": ""
             }
            },
            "marker": {
             "colorbar": {
              "outlinewidth": 0,
              "ticks": ""
             }
            },
            "type": "scatter3d"
           }
          ],
          "scattercarpet": [
           {
            "marker": {
             "colorbar": {
              "outlinewidth": 0,
              "ticks": ""
             }
            },
            "type": "scattercarpet"
           }
          ],
          "scattergeo": [
           {
            "marker": {
             "colorbar": {
              "outlinewidth": 0,
              "ticks": ""
             }
            },
            "type": "scattergeo"
           }
          ],
          "scattergl": [
           {
            "marker": {
             "colorbar": {
              "outlinewidth": 0,
              "ticks": ""
             }
            },
            "type": "scattergl"
           }
          ],
          "scattermapbox": [
           {
            "marker": {
             "colorbar": {
              "outlinewidth": 0,
              "ticks": ""
             }
            },
            "type": "scattermapbox"
           }
          ],
          "scatterpolar": [
           {
            "marker": {
             "colorbar": {
              "outlinewidth": 0,
              "ticks": ""
             }
            },
            "type": "scatterpolar"
           }
          ],
          "scatterpolargl": [
           {
            "marker": {
             "colorbar": {
              "outlinewidth": 0,
              "ticks": ""
             }
            },
            "type": "scatterpolargl"
           }
          ],
          "scatterternary": [
           {
            "marker": {
             "colorbar": {
              "outlinewidth": 0,
              "ticks": ""
             }
            },
            "type": "scatterternary"
           }
          ],
          "surface": [
           {
            "colorbar": {
             "outlinewidth": 0,
             "ticks": ""
            },
            "colorscale": [
             [
              0,
              "#0d0887"
             ],
             [
              0.1111111111111111,
              "#46039f"
             ],
             [
              0.2222222222222222,
              "#7201a8"
             ],
             [
              0.3333333333333333,
              "#9c179e"
             ],
             [
              0.4444444444444444,
              "#bd3786"
             ],
             [
              0.5555555555555556,
              "#d8576b"
             ],
             [
              0.6666666666666666,
              "#ed7953"
             ],
             [
              0.7777777777777778,
              "#fb9f3a"
             ],
             [
              0.8888888888888888,
              "#fdca26"
             ],
             [
              1,
              "#f0f921"
             ]
            ],
            "type": "surface"
           }
          ],
          "table": [
           {
            "cells": {
             "fill": {
              "color": "#EBF0F8"
             },
             "line": {
              "color": "white"
             }
            },
            "header": {
             "fill": {
              "color": "#C8D4E3"
             },
             "line": {
              "color": "white"
             }
            },
            "type": "table"
           }
          ]
         },
         "layout": {
          "annotationdefaults": {
           "arrowcolor": "#2a3f5f",
           "arrowhead": 0,
           "arrowwidth": 1
          },
          "autotypenumbers": "strict",
          "coloraxis": {
           "colorbar": {
            "outlinewidth": 0,
            "ticks": ""
           }
          },
          "colorscale": {
           "diverging": [
            [
             0,
             "#8e0152"
            ],
            [
             0.1,
             "#c51b7d"
            ],
            [
             0.2,
             "#de77ae"
            ],
            [
             0.3,
             "#f1b6da"
            ],
            [
             0.4,
             "#fde0ef"
            ],
            [
             0.5,
             "#f7f7f7"
            ],
            [
             0.6,
             "#e6f5d0"
            ],
            [
             0.7,
             "#b8e186"
            ],
            [
             0.8,
             "#7fbc41"
            ],
            [
             0.9,
             "#4d9221"
            ],
            [
             1,
             "#276419"
            ]
           ],
           "sequential": [
            [
             0,
             "#0d0887"
            ],
            [
             0.1111111111111111,
             "#46039f"
            ],
            [
             0.2222222222222222,
             "#7201a8"
            ],
            [
             0.3333333333333333,
             "#9c179e"
            ],
            [
             0.4444444444444444,
             "#bd3786"
            ],
            [
             0.5555555555555556,
             "#d8576b"
            ],
            [
             0.6666666666666666,
             "#ed7953"
            ],
            [
             0.7777777777777778,
             "#fb9f3a"
            ],
            [
             0.8888888888888888,
             "#fdca26"
            ],
            [
             1,
             "#f0f921"
            ]
           ],
           "sequentialminus": [
            [
             0,
             "#0d0887"
            ],
            [
             0.1111111111111111,
             "#46039f"
            ],
            [
             0.2222222222222222,
             "#7201a8"
            ],
            [
             0.3333333333333333,
             "#9c179e"
            ],
            [
             0.4444444444444444,
             "#bd3786"
            ],
            [
             0.5555555555555556,
             "#d8576b"
            ],
            [
             0.6666666666666666,
             "#ed7953"
            ],
            [
             0.7777777777777778,
             "#fb9f3a"
            ],
            [
             0.8888888888888888,
             "#fdca26"
            ],
            [
             1,
             "#f0f921"
            ]
           ]
          },
          "colorway": [
           "#636efa",
           "#EF553B",
           "#00cc96",
           "#ab63fa",
           "#FFA15A",
           "#19d3f3",
           "#FF6692",
           "#B6E880",
           "#FF97FF",
           "#FECB52"
          ],
          "font": {
           "color": "#2a3f5f"
          },
          "geo": {
           "bgcolor": "white",
           "lakecolor": "white",
           "landcolor": "#E5ECF6",
           "showlakes": true,
           "showland": true,
           "subunitcolor": "white"
          },
          "hoverlabel": {
           "align": "left"
          },
          "hovermode": "closest",
          "mapbox": {
           "style": "light"
          },
          "paper_bgcolor": "white",
          "plot_bgcolor": "#E5ECF6",
          "polar": {
           "angularaxis": {
            "gridcolor": "white",
            "linecolor": "white",
            "ticks": ""
           },
           "bgcolor": "#E5ECF6",
           "radialaxis": {
            "gridcolor": "white",
            "linecolor": "white",
            "ticks": ""
           }
          },
          "scene": {
           "xaxis": {
            "backgroundcolor": "#E5ECF6",
            "gridcolor": "white",
            "gridwidth": 2,
            "linecolor": "white",
            "showbackground": true,
            "ticks": "",
            "zerolinecolor": "white"
           },
           "yaxis": {
            "backgroundcolor": "#E5ECF6",
            "gridcolor": "white",
            "gridwidth": 2,
            "linecolor": "white",
            "showbackground": true,
            "ticks": "",
            "zerolinecolor": "white"
           },
           "zaxis": {
            "backgroundcolor": "#E5ECF6",
            "gridcolor": "white",
            "gridwidth": 2,
            "linecolor": "white",
            "showbackground": true,
            "ticks": "",
            "zerolinecolor": "white"
           }
          },
          "shapedefaults": {
           "line": {
            "color": "#2a3f5f"
           }
          },
          "ternary": {
           "aaxis": {
            "gridcolor": "white",
            "linecolor": "white",
            "ticks": ""
           },
           "baxis": {
            "gridcolor": "white",
            "linecolor": "white",
            "ticks": ""
           },
           "bgcolor": "#E5ECF6",
           "caxis": {
            "gridcolor": "white",
            "linecolor": "white",
            "ticks": ""
           }
          },
          "title": {
           "x": 0.05
          },
          "xaxis": {
           "automargin": true,
           "gridcolor": "white",
           "linecolor": "white",
           "ticks": "",
           "title": {
            "standoff": 15
           },
           "zerolinecolor": "white",
           "zerolinewidth": 2
          },
          "yaxis": {
           "automargin": true,
           "gridcolor": "white",
           "linecolor": "white",
           "ticks": "",
           "title": {
            "standoff": 15
           },
           "zerolinecolor": "white",
           "zerolinewidth": 2
          }
         }
        },
        "title": {
         "text": "Residual plot of Community development spending"
        },
        "xaxis": {
         "anchor": "y",
         "domain": [
          0,
          1
         ],
         "title": {
          "text": "Community development spending"
         }
        },
        "yaxis": {
         "anchor": "x",
         "domain": [
          0,
          1
         ],
         "title": {
          "text": "Residuals"
         }
        }
       }
      }
     },
     "metadata": {},
     "output_type": "display_data"
    },
    {
     "data": {
      "application/vnd.plotly.v1+json": {
       "config": {
        "plotlyServerURL": "https://plot.ly"
       },
       "data": [
        {
         "hovertemplate": "IRLT=%{x}<br>Residuals=%{y}<extra></extra>",
         "legendgroup": "",
         "marker": {
          "color": "#636efa",
          "symbol": "circle"
         },
         "mode": "markers",
         "name": "",
         "orientation": "v",
         "showlegend": false,
         "type": "scatter",
         "x": [
          0.7243570000234768,
          0.8113117165931067,
          0.5160357003268692,
          0.4213105622765488,
          -0.04158454593029711,
          0.10124320128620534,
          0.3069743604892466,
          0.18264761679819916,
          -0.10041773714123908,
          -0.2587863273191223,
          -0.38681327171525887,
          -0.8363876573837783,
          -0.6017949326810297,
          -0.7797745865958907,
          -1.2241686912772836,
          -1.3129735081994596,
          -1.2526602367064816,
          -1.2541403169885177,
          -1.5018650539936347,
          0.9041867542908842,
          0.681064651773916,
          0.2914335175278652,
          0.2666421728037576,
          -0.0652658304428777,
          0.12825466643336592,
          0.3683976921937523,
          0.46608299080814614,
          0.7765298299652559,
          1.0048322134693515,
          2.7198752402788893,
          1.1968726300635586,
          0.13935526854863794,
          -0.4922689918103436,
          -1.0184375320742405,
          -1.2167682898671017,
          -1.1875367042968852,
          -1.1208553873904459,
          -1.396498138715472,
          -1.5705999822913994,
          0.6918692378327806,
          0.34275530130747356,
          0.3475285602170405,
          0.03512061468623308,
          0.2532104442442786,
          0.44895106154357656,
          0.5351287359651389,
          0.3707658206450097,
          0.24851118934881317,
          0.864372594704109,
          0.89541727861982,
          0.3730969470892165,
          -0.25886033133322284,
          -0.7824757331106068,
          -0.8835282143666338,
          -0.6052731213438135,
          -0.3844451432640007,
          -0.6769830110084711,
          0.9498165911097437,
          0.8394815655369513,
          0.9389425208319397,
          1.0398112200013199,
          0.8391557268989173,
          0.08333422987356341,
          -0.5041096340666352,
          -0.3527714252284247,
          2.824220900162445,
          2.732455922676197,
          2.1574447331051023,
          2.4112785014743237,
          2.8800939308093154,
          3.1705596861589336,
          -0.8919646719742419,
          -1.0336083549651136,
          -1.237267401773304,
          0.2675302209729813,
          0.474482446408702,
          0.9464800483500713,
          4.674802278799469,
          0.9282380588739756,
          0.7476682644655482,
          0.6015103366144643,
          0.15785627207409295,
          -0.30355875585071823,
          -0.9303727552930833,
          -1.1446143761178333,
          -1.4058485458972363,
          -1.4058485458972363,
          -1.4058485458972363,
          0.6882327286824279,
          0.02017022246439029,
          0.4156187132786152,
          0.4504944698356303,
          0.5537108565261669,
          0.5463087813895492,
          0.1756083179748259,
          0.4316144001739922,
          0.4782481776682814,
          -0.1286679554804529,
          -0.6236106870041216,
          -1.1504236912248256,
          -1.3017651932416627,
          -1.1370538300211357,
          -1.150307800938742,
          0.7938284109101504,
          0.586306914474966,
          0.5805285387612126,
          0.2641893195175496,
          0.24909833243302884,
          -0.05423144611097411,
          0.1278662868471885,
          0.3289335731560382,
          0.2258370511423582,
          -0.11275368953143865,
          -0.32497520134674274,
          -0.3849550347112777,
          -0.879622188815472,
          -0.8457530106927643,
          -1.0268862932606426,
          -1.3236180936680273,
          -1.5028681670527668,
          -1.4030351587637395,
          -1.3675008578949488,
          -1.6561158200751611,
          0.9616138692338907,
          0.369248738355923,
          0.3678426620879868,
          -0.03214903413231574,
          0.1491237984100773,
          0.35977622455089225,
          0.3588511743746165,
          0.048922363316219894,
          -0.24424453854811587,
          -0.33164327920235664,
          -0.9203452113822848,
          -0.7686739844806185,
          -0.9552381040312928,
          -1.236897381702795,
          -1.4012602970229238,
          -1.3319555378165748,
          -1.3415390576427602,
          -1.6249374296456565,
          -0.07111214755692086,
          -0.2809505295426127,
          -0.47221390398875196,
          -0.0765884446004535,
          0.4373324313295902,
          0.5026409737744438,
          0.33417083567166295,
          -0.13630968398061732,
          -0.2454656047807959,
          -0.7349281540501915,
          -0.7216444335189143,
          -0.9499098150159608,
          -1.3797621309263468,
          -1.430602888614293,
          -1.3015768900277807,
          -1.2927704123496644,
          -1.5970379163292723,
          0.5360167841343589,
          0.1467556699588209,
          0.16747679390732573,
          0.4682661092241499,
          0.501826929619321,
          0.3991093580460047,
          0.1582262921446005,
          0.6637107104670419,
          1.0355438793216027,
          1.0370239596036421,
          -0.09153725544902142,
          -0.7864349478650539,
          0.910121606820662,
          0.28723464140384725,
          0.2788423021293409,
          -0.03987525969984128,
          0.13682880051099056,
          0.3687499397054269,
          0.3941062038907449,
          0.22118812771134133,
          0.34360674654970796,
          0.8706159694850755,
          1.0525073239783103,
          0.4821250062108783,
          -0.33493745742693665,
          -0.7730754708679379,
          -0.9248362692234536,
          -0.8517660626326307,
          -0.9132694203945602,
          -1.2499879546126804,
          -0.8188857080486994,
          -0.890188575635797,
          -1.2569154675173357,
          -1.1219691478026783,
          -1.2358983275124205,
          -1.5739856659365574,
          -1.7042327307557499,
          -1.5755027482256447,
          -1.528769213320349,
          0.27478261435495727,
          -0.045395752656539855,
          0.13565506784354708,
          0.36036825666370514,
          0.3337268115870523,
          0.09354678381961537,
          -0.21582699713301792,
          -0.21649303325993427,
          -0.6855304746372306,
          -0.6729497922399224,
          -0.8975889770459767,
          -1.236971385716897,
          -1.414248001497792,
          -1.311678437952678,
          -1.2873311173131812,
          -1.5746517020634738,
          0.3117846214058629,
          0.2962437784444819,
          0.19485827912499837,
          0.46349285031458265,
          0.3262154041557165,
          0.8527539644901242,
          3.0036806343593443,
          -0.46747764708623757,
          -0.1348296036985826,
          2.6610420490679463,
          2.215537884175027,
          2.047918792234418,
          1.481788084355542,
          1.3404404174210776,
          1.589463924873682,
          1.9439431524213702,
          1.9668843967929321,
          1.4632870808300888,
          1.5187900914064505,
          0.7735696694011817,
          0.7794899905293297,
          0.8916800759076766,
          1.1524702216024716,
          1.1741971273722691,
          1.0237032370653154,
          1.100926425780555,
          0.6763061936671675,
          0.017786435596293455,
          -0.19557688368391066,
          -0.024933642757388942,
          1.217593754012065,
          0.6966054947352965,
          0.3961491974819305,
          0.11974420481165579,
          0.26664217280375924,
          0.5763489718198503,
          0.43611136509691034,
          0.23186028617590382,
          0.023168966408788738,
          -0.15148050687149078,
          -0.6103053943027353,
          -0.3990239340420581,
          -0.4267754393302383,
          -0.8485983197105776,
          -0.9522039394531155,
          -0.8164065735762885,
          -0.709100753128657,
          -0.880050025703847,
          2.1382036894386283,
          1.3863229061642006,
          2.114522404926049,
          1.960224035523767,
          0.5918898147812313,
          -0.14778030616640148,
          -0.18552235335832654,
          0.31289468161738987,
          0.3003139992200831,
          -0.021233442052299642,
          0.15045587066391,
          0.37838823409749517,
          0.41798038164196744,
          0.1889379579968547,
          -0.006062619161426406,
          0.33620594605946136,
          -0.21142375829395993,
          -0.47339796821438107,
          -0.7827347471599647,
          -1.170515781053468,
          -1.3322145518659314,
          -1.2226886109952468,
          -1.1904968648609577,
          -1.4576513557685062,
          -0.6957800305903304,
          0.9232353875206913,
          0.29514851903577816,
          0.29071937879178467,
          -0.03659667537983629,
          0.1441692296659624,
          0.36451248145340504,
          0.3917940612520405,
          0.2049080242400233,
          -0.11090410593946758,
          -0.06948775944738753,
          -0.49063720329939864,
          -0.6506708837945727,
          -0.8831026912855469,
          -1.2117915199187546,
          -1.3768167711650947,
          -1.284504163974492,
          -1.2388251862701476,
          -1.515552096401765,
          0.3461964879632078,
          0.45461236862236515,
          2.4934229571273394,
          2.9207961385653274,
          2.1685453352203745,
          0.4129370080809302,
          0.15489611151001895,
          0.10124320128620534,
          0.40211762121924355,
          0.6598032556001364,
          0.36589043545594235,
          0.36555383004789915,
          0.0076281234474077555,
          -0.23510504280653896,
          -0.5326011794958307,
          -0.4104945562278379,
          -0.12187890123076354,
          -0.36202192699115265,
          -0.3109591572609012,
          -0.5596126446429956,
          0.8226972341626722,
          0.6453207129627395,
          0.6296651637795024,
          0.46641970907231106,
          0.624347975366287,
          0.41637819473666443,
          0.45535610896408824,
          0.6816307824817948,
          0.4948964536986875,
          0.07608923689299865,
          0.06583598073919093,
          -0.15104018298758337,
          -0.6918393168394088,
          -0.4823746551249327,
          -0.40276113675420133,
          -0.6993914264785018,
          -0.9639520766917816,
          -0.9947673481637769,
          -0.8949285327390197,
          -1.1279671731456302,
          0.8516439042785968,
          0.6496129457806444,
          0.6144610390822833,
          0.29032345731633824,
          0.27626269463699377,
          -0.029373883603497682,
          0.33657596612997165,
          -0.15888090828167192,
          -0.5647929256301211,
          -1.3362847726415312,
          0.2918035375983732,
          0.8020612148303813,
          1.3123188920623898,
          3.943531613452381,
          3.046602962538397,
          1.0795762677121834,
          0.48347393412207273,
          -0.06045556952625965,
          -0.4297355998943123,
          -1.1157528106181254,
          -1.3063131469302964,
          -1.1731059215470319,
          -1.1427642757652878,
          0.6218279371779383,
          0.596779394747238,
          0.030298585233196652,
          0.14301061399104695,
          0.3667909120102019,
          0.5140124187478288,
          0.6046059974929657,
          0.18172583194079175,
          0.10255566209962318,
          -0.3082916891227334,
          -0.6058039496010967,
          -0.8439488701039929,
          -1.2886494148085252,
          -1.3538495438896887,
          -1.108191455191759,
          -0.6638294992888698,
          0.2925435777393926,
          0.2810729555536132,
          -0.05564530860964316,
          0.1360250879140564,
          0.3628473911361146,
          0.36136731085407964,
          0.11641402417707424,
          -0.20661349737734344,
          -0.20883361780039802,
          -0.7072506527761145,
          -0.7172411946798594,
          -0.9004011295818487,
          -1.2223185909247374,
          -1.3814272212436378,
          -1.3007628458726603,
          -1.2497000761424086,
          -1.5124143262038483
         ],
         "xaxis": "x",
         "y": [
          -0.009432527924492562,
          -0.012917810495263082,
          -0.0246614393455602,
          -0.01720787951676761,
          -0.010355072483283656,
          -0.017089471243327714,
          -0.01342850209218971,
          -0.008817574969827269,
          -0.009727232613114367,
          -0.012165810848284386,
          -0.017826385941363765,
          -0.011766178614687317,
          -0.000632949914415426,
          -0.004051210349599321,
          0.009338451030700023,
          0.011039552974796418,
          -0.0002398622945832818,
          0.01125106985501928,
          0.004026920508013954,
          0.038440831875237835,
          0.028779918565084106,
          0.03431082636611127,
          0.04419807923621416,
          0.04154578713297952,
          0.02467145824260142,
          0.008266115676990315,
          -0.006000923740644759,
          0.025560696240199632,
          0.007791026860896999,
          -0.0057663220675101545,
          0.0035018274203638122,
          0.01610745606761349,
          0.004289466418007815,
          0.009767718713229234,
          0.021678079830554253,
          0.007789333756649752,
          -0.0012430776309222402,
          0.0008506000084900767,
          -0.011817937428015957,
          0.03917496593488945,
          0.03770070635280448,
          0.03529558446031317,
          0.03196040299331837,
          0.033035028798660326,
          0.02449738539249502,
          0.02578561563892956,
          0.03181245975858904,
          0.03895786963987935,
          0.037641823756612125,
          0.032118426997414184,
          0.029928841932784833,
          0.030166077948277303,
          0.04261968913347569,
          0.04139848817435238,
          0.04304855440406513,
          0.03656986827294423,
          0.0353539713866548,
          0.005163452713181194,
          0.009648957340138209,
          0.006448994350066961,
          0.018203673987608526,
          0.0045616799207800485,
          0.00299092525014949,
          0.008316479177743474,
          0.008036509401497194,
          -0.03364458928713365,
          -0.01964980656692117,
          -0.013242010616831557,
          -0.026875369677825445,
          -0.038186963652333095,
          -0.03822036055474415,
          -0.006832664301830271,
          -0.030005281643520842,
          -0.01848981383752535,
          0.0478353160451756,
          0.049585016973806906,
          0.035034052016924666,
          0.037285102446987906,
          0.005144620168266778,
          -0.00644026825937688,
          0.028335336310427783,
          0.04121757658952058,
          0.07193900232389439,
          0.06852750492392018,
          0.07983799641971018,
          0.06435589245729911,
          0.053679026341488356,
          0.05103479149888296,
          -0.06087231856524217,
          -0.01933320834605956,
          -0.053732526905725,
          -0.05579859807698073,
          -0.04523958541998707,
          -0.031021147264913673,
          -0.03276313284429294,
          -0.04693220320270186,
          -0.05150985898219729,
          -0.034303178363700615,
          -0.044126698645856055,
          -0.03410284103285066,
          -0.03923924176885485,
          -0.06153306381504625,
          -0.04750379323767273,
          -0.02800620261636594,
          -0.02553149899222945,
          -0.02786714726791062,
          -0.03120647165246737,
          -0.0351263401651577,
          -0.023920356853617708,
          -0.02982142696685286,
          -0.026877816525673892,
          -0.03325694557271136,
          -0.02699492024511352,
          -0.030298587266329446,
          -0.027373098027458187,
          -0.017664760989533734,
          -0.012808984223372233,
          -0.016121355970780682,
          -0.0015625549467864208,
          -0.0038150179225838743,
          -0.008419360976164525,
          -0.003691813146522449,
          -0.002397421200482752,
          -0.02758521458948751,
          -0.01521070908287564,
          -0.02298233946986883,
          -0.017855267766013372,
          -0.009545085632417072,
          -0.0061003496928626055,
          -0.022523750448469382,
          -0.008501974185954775,
          -0.012400202882534128,
          -0.01210734287348153,
          -0.003810982129215046,
          0.006792964907837817,
          0.005722177918067839,
          0.009884223316245666,
          0.010990838147362125,
          0.014366035063204996,
          0.011614594877866036,
          0.0086601925076783,
          0.01933946065998332,
          0.011943551643554429,
          0.01673460015666206,
          0.012336751052191897,
          0.007555415554946321,
          0.010429524802084256,
          0.006835431130199354,
          -0.0061057475480303935,
          0.00331694026646423,
          0.029277031617133464,
          0.005749957706515263,
          -0.0006937652817381457,
          0.022862031351572276,
          0.010750642081956752,
          0.03455082826550887,
          0.039086611354638534,
          0.025798114081096835,
          -0.026612641048316177,
          -0.025564418202919964,
          -0.030158947030589633,
          -0.048107942921960856,
          -0.06162340089281804,
          -0.03480698036017449,
          -0.04452826393359033,
          -0.04506213246070612,
          -0.050044515935676825,
          -0.04767456789160057,
          -0.04103935714857787,
          -0.03763550290765155,
          0.015317985770086862,
          -0.00736674575850893,
          0.0075955559936119466,
          0.004430146359318932,
          0.015398405510368529,
          0.02093358510049903,
          0.007108862141151084,
          0.00820917362747553,
          -0.002536625335544218,
          -0.00878005191556508,
          -0.019008178360499672,
          -0.01152562010891095,
          -0.0015099835638131553,
          0.009196420722032805,
          0.010589072932851828,
          -0.00006376865601775972,
          0.0063561353741436455,
          0.009460930033255988,
          -0.002219702140718538,
          -0.01467433974690191,
          -0.011034128885460515,
          -0.005180894878663578,
          -0.006889164493732891,
          -0.0036767933217888293,
          0.001575981559829076,
          -0.004713888667872035,
          -0.0026544313506245976,
          -0.009112652671278254,
          -0.01895225412877871,
          -0.00253483885372896,
          -0.010651755440150679,
          -0.018395773354568712,
          -0.027073558836680667,
          -0.027840786425380848,
          -0.030920970406617787,
          -0.032486161721446694,
          -0.03284336688256495,
          -0.02469863641592579,
          -0.023310415392256756,
          -0.022411888309167405,
          -0.01936584333808128,
          -0.022385253589046916,
          -0.011934672655313672,
          0.08099007535603459,
          0.08184550051743295,
          0.06840032417418346,
          0.05622365101942478,
          0.042850654416793255,
          0.036468731255271614,
          0.02898940608315176,
          0.043403999248509406,
          0.04512951340322735,
          0.01984230574192003,
          0.03220153082899779,
          0.020249526816706998,
          0.020238451105278554,
          0.02754935616159837,
          0.03083309038047055,
          0.009916425367627713,
          -0.0040733755521124015,
          -0.0020831805256025238,
          0.014683952098386854,
          -0.0003621748570045713,
          0.0015842192564524682,
          0.004450031490637663,
          0.0032911906335008068,
          0.0023466753792520945,
          -0.001928576991047204,
          -0.007845984638588821,
          -0.008589632403830039,
          0.005047974835196645,
          0.0018381220018390265,
          -0.01725165152521374,
          0.004671450863435345,
          0.00014566868770599095,
          0.04384861609050128,
          0.028458296563614816,
          -0.015607511280847974,
          -0.007463663970697865,
          -0.021494855599488105,
          -0.021100021881527875,
          -0.0300732584943591,
          -0.0342259463094694,
          -0.026951115588040253,
          -0.025178195464629738,
          -0.018066728593681358,
          -0.004964712004852656,
          0.002123800310631585,
          -0.009873452224928969,
          -0.007958353639112736,
          -0.0016990033946376326,
          -0.028755834440254202,
          0.024441228541759896,
          -0.05545609365033294,
          -0.024323877539072947,
          0.000408705501097395,
          0.004363959244570059,
          -0.01072068649067709,
          0.002819770827022061,
          0.02470550998018145,
          0.009883077525888684,
          -0.0003051309680384695,
          0.010399055349187392,
          -0.004325919369087272,
          0.008181733022964655,
          -0.0008166578347356679,
          -0.006635346634132455,
          -0.009227524096635353,
          -0.006759991641783369,
          -0.0005161605422298599,
          -0.0031011822708000847,
          -0.006384456874285682,
          -0.008687359004804496,
          -0.010359700674580141,
          -0.006690461780103629,
          -0.14608082194088,
          0.017183341221409187,
          0.020373675691985893,
          0.01935162547755981,
          0.0037988118976709506,
          0.01285616810018314,
          0.019648943372764016,
          0.014110594227194129,
          0.02965585612084265,
          0.01648286905897478,
          0.016499664774050238,
          0.016727439645999986,
          0.018957258831809265,
          0.017148242734861652,
          0.02257268238183824,
          0.024321061941596722,
          0.011102011709967385,
          0.023221802641645528,
          0.020633476537096296,
          0.03441414978256413,
          0.04081612199761331,
          0.021193985722476716,
          0.0019085469426661228,
          0.009480619129852708,
          0.006692506980297608,
          0.012387621359718881,
          0.01638570489854546,
          0.02167192675863505,
          0.016557138151540418,
          0.019833967382972217,
          -0.018950434241363612,
          -0.026211329979145825,
          -0.01823531170357623,
          -0.013128695955551217,
          -0.017466224569955502,
          0.011505341632982669,
          0.008293640698251836,
          0.01337502271370744,
          -0.0006336554694127416,
          0.06626245697855371,
          0.049760480974597066,
          0.02496158870571963,
          0.023863740547975743,
          0.02263836105222633,
          0.027969892043927802,
          0.027488913141247573,
          0.009346169582546748,
          0.015306171967597981,
          0.013849689508946439,
          -0.0052437525116544315,
          -0.015212446096378118,
          -0.01078428359857142,
          -0.012402746395875741,
          -0.003886787607025044,
          0.006155536317089649,
          0.00653428483495333,
          -0.001434107315461397,
          0.011849517020231792,
          0.008034266809130775,
          -0.01481000621175771,
          -0.013305900925866976,
          -0.02212711840563769,
          -0.02637288806229693,
          -0.03607236135299774,
          -0.04239472892809509,
          -0.01481659738298946,
          -0.006857251741105408,
          -0.017820247238887255,
          -0.018407792639698273,
          0.02776533722122826,
          0.03505847721748101,
          0.0007113377841737045,
          -0.015625965830907862,
          -0.013218156989363627,
          -0.005683084508408154,
          0.00007577469918085278,
          0.019153130931066797,
          0.027634359725199675,
          0.025159644271211923,
          0.029070093527369945,
          0.03403466072772898,
          0.036948161926731005,
          -0.019263787424662948,
          -0.01624378779126151,
          -0.02075873355940583,
          -0.025108927495946287,
          -0.02703190035171399,
          -0.03308897428368679,
          -0.024727187875298318,
          -0.02414917209039036,
          -0.027412995982478316,
          -0.03345828566470377,
          -0.025431170457028085,
          -0.026415757431068554,
          -0.021455907479599023,
          -0.02216772630943087,
          -0.03062448029545861,
          -0.031553259995663496,
          0.00490506530802981,
          0.007507271080077149,
          0.004701335323379241,
          0.007523601726305007,
          0.007511323739103903,
          -0.0021205498892235553,
          0.0023598977629440965,
          0.00030179015135572973,
          -0.006825977823607998,
          -0.006895851135550246,
          -0.005341269840980101,
          -0.010935672706249067,
          -0.006339001544700462,
          -0.00748744365032189,
          -0.006449405639113837,
          -0.007752799037765545,
          -0.0016303104640084665
         ],
         "yaxis": "y"
        }
       ],
       "layout": {
        "legend": {
         "tracegroupgap": 0
        },
        "template": {
         "data": {
          "bar": [
           {
            "error_x": {
             "color": "#2a3f5f"
            },
            "error_y": {
             "color": "#2a3f5f"
            },
            "marker": {
             "line": {
              "color": "#E5ECF6",
              "width": 0.5
             },
             "pattern": {
              "fillmode": "overlay",
              "size": 10,
              "solidity": 0.2
             }
            },
            "type": "bar"
           }
          ],
          "barpolar": [
           {
            "marker": {
             "line": {
              "color": "#E5ECF6",
              "width": 0.5
             },
             "pattern": {
              "fillmode": "overlay",
              "size": 10,
              "solidity": 0.2
             }
            },
            "type": "barpolar"
           }
          ],
          "carpet": [
           {
            "aaxis": {
             "endlinecolor": "#2a3f5f",
             "gridcolor": "white",
             "linecolor": "white",
             "minorgridcolor": "white",
             "startlinecolor": "#2a3f5f"
            },
            "baxis": {
             "endlinecolor": "#2a3f5f",
             "gridcolor": "white",
             "linecolor": "white",
             "minorgridcolor": "white",
             "startlinecolor": "#2a3f5f"
            },
            "type": "carpet"
           }
          ],
          "choropleth": [
           {
            "colorbar": {
             "outlinewidth": 0,
             "ticks": ""
            },
            "type": "choropleth"
           }
          ],
          "contour": [
           {
            "colorbar": {
             "outlinewidth": 0,
             "ticks": ""
            },
            "colorscale": [
             [
              0,
              "#0d0887"
             ],
             [
              0.1111111111111111,
              "#46039f"
             ],
             [
              0.2222222222222222,
              "#7201a8"
             ],
             [
              0.3333333333333333,
              "#9c179e"
             ],
             [
              0.4444444444444444,
              "#bd3786"
             ],
             [
              0.5555555555555556,
              "#d8576b"
             ],
             [
              0.6666666666666666,
              "#ed7953"
             ],
             [
              0.7777777777777778,
              "#fb9f3a"
             ],
             [
              0.8888888888888888,
              "#fdca26"
             ],
             [
              1,
              "#f0f921"
             ]
            ],
            "type": "contour"
           }
          ],
          "contourcarpet": [
           {
            "colorbar": {
             "outlinewidth": 0,
             "ticks": ""
            },
            "type": "contourcarpet"
           }
          ],
          "heatmap": [
           {
            "colorbar": {
             "outlinewidth": 0,
             "ticks": ""
            },
            "colorscale": [
             [
              0,
              "#0d0887"
             ],
             [
              0.1111111111111111,
              "#46039f"
             ],
             [
              0.2222222222222222,
              "#7201a8"
             ],
             [
              0.3333333333333333,
              "#9c179e"
             ],
             [
              0.4444444444444444,
              "#bd3786"
             ],
             [
              0.5555555555555556,
              "#d8576b"
             ],
             [
              0.6666666666666666,
              "#ed7953"
             ],
             [
              0.7777777777777778,
              "#fb9f3a"
             ],
             [
              0.8888888888888888,
              "#fdca26"
             ],
             [
              1,
              "#f0f921"
             ]
            ],
            "type": "heatmap"
           }
          ],
          "heatmapgl": [
           {
            "colorbar": {
             "outlinewidth": 0,
             "ticks": ""
            },
            "colorscale": [
             [
              0,
              "#0d0887"
             ],
             [
              0.1111111111111111,
              "#46039f"
             ],
             [
              0.2222222222222222,
              "#7201a8"
             ],
             [
              0.3333333333333333,
              "#9c179e"
             ],
             [
              0.4444444444444444,
              "#bd3786"
             ],
             [
              0.5555555555555556,
              "#d8576b"
             ],
             [
              0.6666666666666666,
              "#ed7953"
             ],
             [
              0.7777777777777778,
              "#fb9f3a"
             ],
             [
              0.8888888888888888,
              "#fdca26"
             ],
             [
              1,
              "#f0f921"
             ]
            ],
            "type": "heatmapgl"
           }
          ],
          "histogram": [
           {
            "marker": {
             "pattern": {
              "fillmode": "overlay",
              "size": 10,
              "solidity": 0.2
             }
            },
            "type": "histogram"
           }
          ],
          "histogram2d": [
           {
            "colorbar": {
             "outlinewidth": 0,
             "ticks": ""
            },
            "colorscale": [
             [
              0,
              "#0d0887"
             ],
             [
              0.1111111111111111,
              "#46039f"
             ],
             [
              0.2222222222222222,
              "#7201a8"
             ],
             [
              0.3333333333333333,
              "#9c179e"
             ],
             [
              0.4444444444444444,
              "#bd3786"
             ],
             [
              0.5555555555555556,
              "#d8576b"
             ],
             [
              0.6666666666666666,
              "#ed7953"
             ],
             [
              0.7777777777777778,
              "#fb9f3a"
             ],
             [
              0.8888888888888888,
              "#fdca26"
             ],
             [
              1,
              "#f0f921"
             ]
            ],
            "type": "histogram2d"
           }
          ],
          "histogram2dcontour": [
           {
            "colorbar": {
             "outlinewidth": 0,
             "ticks": ""
            },
            "colorscale": [
             [
              0,
              "#0d0887"
             ],
             [
              0.1111111111111111,
              "#46039f"
             ],
             [
              0.2222222222222222,
              "#7201a8"
             ],
             [
              0.3333333333333333,
              "#9c179e"
             ],
             [
              0.4444444444444444,
              "#bd3786"
             ],
             [
              0.5555555555555556,
              "#d8576b"
             ],
             [
              0.6666666666666666,
              "#ed7953"
             ],
             [
              0.7777777777777778,
              "#fb9f3a"
             ],
             [
              0.8888888888888888,
              "#fdca26"
             ],
             [
              1,
              "#f0f921"
             ]
            ],
            "type": "histogram2dcontour"
           }
          ],
          "mesh3d": [
           {
            "colorbar": {
             "outlinewidth": 0,
             "ticks": ""
            },
            "type": "mesh3d"
           }
          ],
          "parcoords": [
           {
            "line": {
             "colorbar": {
              "outlinewidth": 0,
              "ticks": ""
             }
            },
            "type": "parcoords"
           }
          ],
          "pie": [
           {
            "automargin": true,
            "type": "pie"
           }
          ],
          "scatter": [
           {
            "fillpattern": {
             "fillmode": "overlay",
             "size": 10,
             "solidity": 0.2
            },
            "type": "scatter"
           }
          ],
          "scatter3d": [
           {
            "line": {
             "colorbar": {
              "outlinewidth": 0,
              "ticks": ""
             }
            },
            "marker": {
             "colorbar": {
              "outlinewidth": 0,
              "ticks": ""
             }
            },
            "type": "scatter3d"
           }
          ],
          "scattercarpet": [
           {
            "marker": {
             "colorbar": {
              "outlinewidth": 0,
              "ticks": ""
             }
            },
            "type": "scattercarpet"
           }
          ],
          "scattergeo": [
           {
            "marker": {
             "colorbar": {
              "outlinewidth": 0,
              "ticks": ""
             }
            },
            "type": "scattergeo"
           }
          ],
          "scattergl": [
           {
            "marker": {
             "colorbar": {
              "outlinewidth": 0,
              "ticks": ""
             }
            },
            "type": "scattergl"
           }
          ],
          "scattermapbox": [
           {
            "marker": {
             "colorbar": {
              "outlinewidth": 0,
              "ticks": ""
             }
            },
            "type": "scattermapbox"
           }
          ],
          "scatterpolar": [
           {
            "marker": {
             "colorbar": {
              "outlinewidth": 0,
              "ticks": ""
             }
            },
            "type": "scatterpolar"
           }
          ],
          "scatterpolargl": [
           {
            "marker": {
             "colorbar": {
              "outlinewidth": 0,
              "ticks": ""
             }
            },
            "type": "scatterpolargl"
           }
          ],
          "scatterternary": [
           {
            "marker": {
             "colorbar": {
              "outlinewidth": 0,
              "ticks": ""
             }
            },
            "type": "scatterternary"
           }
          ],
          "surface": [
           {
            "colorbar": {
             "outlinewidth": 0,
             "ticks": ""
            },
            "colorscale": [
             [
              0,
              "#0d0887"
             ],
             [
              0.1111111111111111,
              "#46039f"
             ],
             [
              0.2222222222222222,
              "#7201a8"
             ],
             [
              0.3333333333333333,
              "#9c179e"
             ],
             [
              0.4444444444444444,
              "#bd3786"
             ],
             [
              0.5555555555555556,
              "#d8576b"
             ],
             [
              0.6666666666666666,
              "#ed7953"
             ],
             [
              0.7777777777777778,
              "#fb9f3a"
             ],
             [
              0.8888888888888888,
              "#fdca26"
             ],
             [
              1,
              "#f0f921"
             ]
            ],
            "type": "surface"
           }
          ],
          "table": [
           {
            "cells": {
             "fill": {
              "color": "#EBF0F8"
             },
             "line": {
              "color": "white"
             }
            },
            "header": {
             "fill": {
              "color": "#C8D4E3"
             },
             "line": {
              "color": "white"
             }
            },
            "type": "table"
           }
          ]
         },
         "layout": {
          "annotationdefaults": {
           "arrowcolor": "#2a3f5f",
           "arrowhead": 0,
           "arrowwidth": 1
          },
          "autotypenumbers": "strict",
          "coloraxis": {
           "colorbar": {
            "outlinewidth": 0,
            "ticks": ""
           }
          },
          "colorscale": {
           "diverging": [
            [
             0,
             "#8e0152"
            ],
            [
             0.1,
             "#c51b7d"
            ],
            [
             0.2,
             "#de77ae"
            ],
            [
             0.3,
             "#f1b6da"
            ],
            [
             0.4,
             "#fde0ef"
            ],
            [
             0.5,
             "#f7f7f7"
            ],
            [
             0.6,
             "#e6f5d0"
            ],
            [
             0.7,
             "#b8e186"
            ],
            [
             0.8,
             "#7fbc41"
            ],
            [
             0.9,
             "#4d9221"
            ],
            [
             1,
             "#276419"
            ]
           ],
           "sequential": [
            [
             0,
             "#0d0887"
            ],
            [
             0.1111111111111111,
             "#46039f"
            ],
            [
             0.2222222222222222,
             "#7201a8"
            ],
            [
             0.3333333333333333,
             "#9c179e"
            ],
            [
             0.4444444444444444,
             "#bd3786"
            ],
            [
             0.5555555555555556,
             "#d8576b"
            ],
            [
             0.6666666666666666,
             "#ed7953"
            ],
            [
             0.7777777777777778,
             "#fb9f3a"
            ],
            [
             0.8888888888888888,
             "#fdca26"
            ],
            [
             1,
             "#f0f921"
            ]
           ],
           "sequentialminus": [
            [
             0,
             "#0d0887"
            ],
            [
             0.1111111111111111,
             "#46039f"
            ],
            [
             0.2222222222222222,
             "#7201a8"
            ],
            [
             0.3333333333333333,
             "#9c179e"
            ],
            [
             0.4444444444444444,
             "#bd3786"
            ],
            [
             0.5555555555555556,
             "#d8576b"
            ],
            [
             0.6666666666666666,
             "#ed7953"
            ],
            [
             0.7777777777777778,
             "#fb9f3a"
            ],
            [
             0.8888888888888888,
             "#fdca26"
            ],
            [
             1,
             "#f0f921"
            ]
           ]
          },
          "colorway": [
           "#636efa",
           "#EF553B",
           "#00cc96",
           "#ab63fa",
           "#FFA15A",
           "#19d3f3",
           "#FF6692",
           "#B6E880",
           "#FF97FF",
           "#FECB52"
          ],
          "font": {
           "color": "#2a3f5f"
          },
          "geo": {
           "bgcolor": "white",
           "lakecolor": "white",
           "landcolor": "#E5ECF6",
           "showlakes": true,
           "showland": true,
           "subunitcolor": "white"
          },
          "hoverlabel": {
           "align": "left"
          },
          "hovermode": "closest",
          "mapbox": {
           "style": "light"
          },
          "paper_bgcolor": "white",
          "plot_bgcolor": "#E5ECF6",
          "polar": {
           "angularaxis": {
            "gridcolor": "white",
            "linecolor": "white",
            "ticks": ""
           },
           "bgcolor": "#E5ECF6",
           "radialaxis": {
            "gridcolor": "white",
            "linecolor": "white",
            "ticks": ""
           }
          },
          "scene": {
           "xaxis": {
            "backgroundcolor": "#E5ECF6",
            "gridcolor": "white",
            "gridwidth": 2,
            "linecolor": "white",
            "showbackground": true,
            "ticks": "",
            "zerolinecolor": "white"
           },
           "yaxis": {
            "backgroundcolor": "#E5ECF6",
            "gridcolor": "white",
            "gridwidth": 2,
            "linecolor": "white",
            "showbackground": true,
            "ticks": "",
            "zerolinecolor": "white"
           },
           "zaxis": {
            "backgroundcolor": "#E5ECF6",
            "gridcolor": "white",
            "gridwidth": 2,
            "linecolor": "white",
            "showbackground": true,
            "ticks": "",
            "zerolinecolor": "white"
           }
          },
          "shapedefaults": {
           "line": {
            "color": "#2a3f5f"
           }
          },
          "ternary": {
           "aaxis": {
            "gridcolor": "white",
            "linecolor": "white",
            "ticks": ""
           },
           "baxis": {
            "gridcolor": "white",
            "linecolor": "white",
            "ticks": ""
           },
           "bgcolor": "#E5ECF6",
           "caxis": {
            "gridcolor": "white",
            "linecolor": "white",
            "ticks": ""
           }
          },
          "title": {
           "x": 0.05
          },
          "xaxis": {
           "automargin": true,
           "gridcolor": "white",
           "linecolor": "white",
           "ticks": "",
           "title": {
            "standoff": 15
           },
           "zerolinecolor": "white",
           "zerolinewidth": 2
          },
          "yaxis": {
           "automargin": true,
           "gridcolor": "white",
           "linecolor": "white",
           "ticks": "",
           "title": {
            "standoff": 15
           },
           "zerolinecolor": "white",
           "zerolinewidth": 2
          }
         }
        },
        "title": {
         "text": "Residual plot of IRLT"
        },
        "xaxis": {
         "anchor": "y",
         "domain": [
          0,
          1
         ],
         "title": {
          "text": "IRLT"
         }
        },
        "yaxis": {
         "anchor": "x",
         "domain": [
          0,
          1
         ],
         "title": {
          "text": "Residuals"
         }
        }
       }
      }
     },
     "metadata": {},
     "output_type": "display_data"
    },
    {
     "data": {
      "application/vnd.plotly.v1+json": {
       "config": {
        "plotlyServerURL": "https://plot.ly"
       },
       "data": [
        {
         "hovertemplate": "UNEMP=%{x}<br>Residuals=%{y}<extra></extra>",
         "legendgroup": "",
         "marker": {
          "color": "#636efa",
          "symbol": "circle"
         },
         "mode": "markers",
         "name": "",
         "orientation": "v",
         "showlegend": false,
         "type": "scatter",
         "x": [
          -0.5305747608735967,
          -0.49899633812446414,
          -0.34320945256207647,
          -0.13900231878435387,
          -0.035846137803855364,
          -0.17268596971676106,
          -0.40636629806034386,
          -0.39794538532724033,
          0.14099302959128907,
          0.21467601600593003,
          0.0062584258616555895,
          0.05678390226026761,
          0.07152049954319527,
          0.04415253316061443,
          -0.08426638601918998,
          -0.19584347973279226,
          -0.2695264661474357,
          -0.36636696257810786,
          -0.25689509704778274,
          -0.8905687802137069,
          -0.8084648810659626,
          -0.7768864583168301,
          -0.8042544246994108,
          -0.8316223910819939,
          -0.7916230555997578,
          -0.7389923510178711,
          -0.2863682916136381,
          1.1957123494123039,
          1.6799148315656771,
          1.8904376498932185,
          1.9093847035426983,
          1.4778129259712294,
          0.9999261283676828,
          0.5051975052979489,
          0.12204597594180706,
          -0.2968944325300165,
          -0.5368904454234232,
          -0.7368871228345957,
          -0.5221538481404947,
          0.13888780140801188,
          0.12836166049163364,
          0.03152116406096171,
          -0.035846137803855364,
          -0.2674212379641585,
          -0.44847086172585215,
          -0.29057874798018973,
          -0.012688627787823946,
          0.1557296268742167,
          0.14730871414111296,
          0.747298746374623,
          1.122029362997678,
          1.2378169130778223,
          1.029399322933548,
          0.966242477435283,
          0.8420340146220204,
          0.6757209881432641,
          0.5073027334812235,
          -0.29887173652273413,
          -0.5044479633448871,
          -0.6387665929325582,
          -0.9324216322714846,
          -0.6850967137663772,
          -0.46685093953146745,
          -0.5585788408988086,
          -0.6609772365738253,
          0.42748556823820305,
          0.4263711043109321,
          0.40739339426549115,
          0.2896367230250975,
          0.5908498867150287,
          0.9676046657523172,
          -0.9937249611942056,
          -0.7263609819182182,
          -0.9853040484611044,
          -0.538995673606698,
          -0.9263576593293913,
          -0.5305747608735967,
          1.484128610521056,
          2.5051642794096813,
          1.8862271935266843,
          1.3851828859070987,
          0.9788738465349363,
          0.7072994108923966,
          0.30520082788677805,
          -0.0063729432379973595,
          -0.20426439246589603,
          -0.44004994899275107,
          -0.41478721079344516,
          2.635688426772745,
          2.134644119153185,
          1.3999194831900443,
          0.8357183300721939,
          0.41677792160037763,
          1.0504516047662946,
          1.6441259524499938,
          1.435708362305711,
          1.5093913487203618,
          1.5683377378520675,
          1.3072894431259139,
          0.8946647192039247,
          0.4378302034331319,
          0.03994207679406502,
          -0.35794604984500655,
          0.02099502314458302,
          -0.016899084154375826,
          0.1915185059898986,
          0.475724310732091,
          0.6504582499439582,
          0.8483496991718465,
          0.5936170889955198,
          0.1557296268742167,
          -0.12637094968470095,
          -0.17689642608331296,
          -0.3411042243788017,
          -0.6084682036547893,
          -0.7179400691851169,
          -0.751623720117524,
          -0.8126753374325143,
          -0.8989896929468082,
          -1.0147772430269624,
          -1.1010915985412562,
          -1.191616410422104,
          -1.2505627995538173,
          -0.9095158338631865,
          -0.6358361700373726,
          -0.6126786600213412,
          -0.7789916865001046,
          -1.0147772430269624,
          -1.0547765785091958,
          -1.0716184039754006,
          -0.3832087880443127,
          -0.04426705053695643,
          -0.042161822353681724,
          -0.035846137803855364,
          -0.13900231878435387,
          -0.25268464068123087,
          -0.41899766715999437,
          -0.49057542539136306,
          -0.5326799890568713,
          -0.701098243718912,
          -0.7326766664680445,
          -1.0400399812262682,
          -0.751623720117524,
          -0.8274119347154419,
          -0.8463589883649215,
          -0.9495151693454202,
          -0.7600446328506253,
          -0.7095191564520134,
          -0.8442537601816468,
          -0.7810969146833818,
          -0.7221505255516663,
          -0.5179433917739437,
          -0.47373359992515823,
          -0.3705774189446595,
          -0.402155841693792,
          -0.5832054654554834,
          -0.6126786600213412,
          -0.5895211500053097,
          -0.40005061351051485,
          -0.34952513711190303,
          -0.48847019720808593,
          -0.7747812301335555,
          -0.8926740083969816,
          -0.5242590763237703,
          -0.16847551335021166,
          0.06520481499336868,
          0.23362306965540935,
          0.5515125253300015,
          0.44835634434951016,
          0.26730672058781674,
          1.0083470411008013,
          0.9009804037537508,
          0.7662458000241023,
          0.31362174061987913,
          0.13467734504146248,
          0.07573095590974692,
          0.8441392428053124,
          2.5114799639595073,
          3.0188399561288946,
          3.406201941851578,
          4.260924584261447,
          4.595655865402251,
          4.174610228747143,
          3.574620196513626,
          2.9619987951804556,
          2.3514826220305527,
          1.8546487707775519,
          1.562022053302241,
          -0.7886019595895927,
          -0.8901472981938575,
          -0.8693005262266055,
          -0.8028332755373914,
          -0.7819421599088081,
          -0.7893565005171401,
          -0.7594095715461479,
          -0.7901272829983953,
          -0.8111392036958754,
          -0.29057874798018973,
          -0.2442637279481296,
          -0.465312687192057,
          -0.6610989082366785,
          -0.8000439683328614,
          -0.6316257136708207,
          -0.46952314355860636,
          -0.47373359992515823,
          -0.28005260706381147,
          0.06731004317664585,
          0.1073093786588794,
          -0.008478171421272065,
          -0.23373758703175135,
          -0.5179433917739437,
          -0.7726760019502783,
          -0.8821478674806058,
          -0.029530453254028775,
          0.06099435862681702,
          0.34730539155228657,
          0.3325687942693589,
          0.8336131018889266,
          1.1767652957628245,
          1.4167613086562394,
          1.2778162485600566,
          0.8967699473871915,
          1.0839247328803752,
          1.0211889330187733,
          0.7746667127572209,
          0.6517213868539237,
          0.45909300808421527,
          0.3233057902629457,
          0.25909633067304483,
          0.32877938353946284,
          0.346252777460648,
          2.8335798760006594,
          2.526216561242428,
          1.5262331741865744,
          0.42519883433348143,
          -0.22321144611537308,
          0.05046821771044102,
          0.5199341025808766,
          0.5115131898477752,
          0.6230902835613851,
          0.3241478815362574,
          -0.41478721079344516,
          -0.7495184919342494,
          -1.1831954976890007,
          -0.9389890284290442,
          -0.9221472029628394,
          -0.8589903574645744,
          -1.092670685808155,
          -1.3158248732353568,
          -1.2610889404701957,
          -1.1284595649238391,
          -1.0021458739273092,
          -1.1010915985412562,
          -1.1221438803740127,
          -1.0084615584771357,
          -1.0484608939593694,
          -0.8168857937990637,
          -0.7621498610339025,
          -0.8989896929468082,
          -0.9937249611942056,
          -1.0231981557600633,
          -0.46952314355860636,
          -0.1895277951829659,
          -0.031635681437303484,
          0.6715105317767048,
          -0.11795003695159964,
          -0.7684655455837288,
          -1.1200386521907364,
          0.0630995868100942,
          0.11783551957525765,
          0.12836166049163364,
          0.08204664045957351,
          -0.11163435240177327,
          -0.2400532715815779,
          0.016784566778033833,
          0.113625063208706,
          -0.17900165426658743,
          -0.07374024510281421,
          0.15783485505749165,
          0.18309759325679756,
          0.18309759325679756,
          -0.01900431233765053,
          -0.20847484883244544,
          -0.49689110994118946,
          -0.6463623109537483,
          -0.936883800245767,
          -1.0084615584771357,
          -0.8000439683328614,
          -0.5137329354073918,
          -0.47794405629171016,
          -0.5768897809056568,
          -0.6842564182527072,
          -0.8800426392973286,
          -0.5705740963558305,
          -0.6905721028025338,
          -0.764255089217177,
          -0.6905721028025338,
          -0.5558374990729028,
          -0.47794405629171016,
          -0.44847086172585215,
          -0.3726826471279342,
          -0.5053120226742908,
          -0.6863616464359844,
          -0.7789916865001046,
          0.6778262163265314,
          0.12415120412508199,
          1.271500564010222,
          5.02722764297372,
          4.029349484101134,
          -1.0947759139914304,
          -1.15582753130642,
          -1.2695098532032967,
          -1.1916164104221032,
          -1.3726660341837962,
          -1.1453013903900424,
          0.07152049954319571,
          0.168360995973869,
          -0.00005725868817099736,
          -0.2737369225139858,
          -0.46110223082550533,
          -0.6105734318380656,
          -0.8421485319983705,
          -1.1326700212903895,
          -1.1726693567726238,
          -0.6253100291209941,
          -0.7200452973683915,
          -0.6947825591690856,
          -0.7326766664680445,
          -0.802149196516136,
          -0.7895178274164831,
          -0.6316257136708207,
          -0.6568884518701266,
          -0.5621531836227291,
          -0.07584547328608891,
          -0.012688627787823946,
          0.05046821771044102,
          0.012574110411481952,
          -0.0821611578359155,
          -0.44215517717602576,
          -0.6505727673203002,
          -0.764255089217177,
          -0.8842530956638806,
          -0.9663569948116251,
          -1.0358295248597165,
          0.4125674652338287,
          0.20625510327282895,
          0.17888713689024544,
          0.14730871414111385,
          0.23993875420523592,
          0.24414921057178668,
          -0.12216049331814972,
          0.3430949351857349,
          0.5999327735453465,
          0.5388811562303568,
          -0.22531667429865027,
          -0.46741791537533167,
          -0.04426705053695643,
          2.4314812929950307,
          2.917789003331671,
          2.0925395554876665,
          1.7978076098291136,
          0.9936104438178562,
          0.7367726054582623,
          0.4925661361982958,
          0.43151451888330533,
          0.19783419053972745,
          -0.13268663423452728,
          -0.16005460061710813,
          0.09257278137595175,
          0.004153197678380883,
          -0.20005393609934413,
          -0.6568884518701266,
          -0.8884635520304325,
          -0.3137362579962211,
          -0.16005460061710813,
          -0.3053153452631174,
          -0.2400532715815779,
          -0.2421584997648524,
          -0.4568917744589534,
          -0.7242557537349434,
          -1.000040645744032,
          -1.2674046250200222,
          -1.4295071951322338,
          0.2736224051376429,
          0.22730738510558277,
          0.11994074775853257,
          -0.0526879632700575,
          -0.2674212379641585,
          -0.39373492896068846,
          0.1115198350254315,
          0.15572962687421446,
          0.010468882228207469,
          -0.02953045325402631,
          0.09467800955922669,
          0.20836033145610344,
          0.38730472703452234,
          0.2504648951216142,
          0.2125707878226551,
          -0.12426572150142376,
          -0.298999660713291
         ],
         "xaxis": "x",
         "y": [
          -0.009432527924492562,
          -0.012917810495263082,
          -0.0246614393455602,
          -0.01720787951676761,
          -0.010355072483283656,
          -0.017089471243327714,
          -0.01342850209218971,
          -0.008817574969827269,
          -0.009727232613114367,
          -0.012165810848284386,
          -0.017826385941363765,
          -0.011766178614687317,
          -0.000632949914415426,
          -0.004051210349599321,
          0.009338451030700023,
          0.011039552974796418,
          -0.0002398622945832818,
          0.01125106985501928,
          0.004026920508013954,
          0.038440831875237835,
          0.028779918565084106,
          0.03431082636611127,
          0.04419807923621416,
          0.04154578713297952,
          0.02467145824260142,
          0.008266115676990315,
          -0.006000923740644759,
          0.025560696240199632,
          0.007791026860896999,
          -0.0057663220675101545,
          0.0035018274203638122,
          0.01610745606761349,
          0.004289466418007815,
          0.009767718713229234,
          0.021678079830554253,
          0.007789333756649752,
          -0.0012430776309222402,
          0.0008506000084900767,
          -0.011817937428015957,
          0.03917496593488945,
          0.03770070635280448,
          0.03529558446031317,
          0.03196040299331837,
          0.033035028798660326,
          0.02449738539249502,
          0.02578561563892956,
          0.03181245975858904,
          0.03895786963987935,
          0.037641823756612125,
          0.032118426997414184,
          0.029928841932784833,
          0.030166077948277303,
          0.04261968913347569,
          0.04139848817435238,
          0.04304855440406513,
          0.03656986827294423,
          0.0353539713866548,
          0.005163452713181194,
          0.009648957340138209,
          0.006448994350066961,
          0.018203673987608526,
          0.0045616799207800485,
          0.00299092525014949,
          0.008316479177743474,
          0.008036509401497194,
          -0.03364458928713365,
          -0.01964980656692117,
          -0.013242010616831557,
          -0.026875369677825445,
          -0.038186963652333095,
          -0.03822036055474415,
          -0.006832664301830271,
          -0.030005281643520842,
          -0.01848981383752535,
          0.0478353160451756,
          0.049585016973806906,
          0.035034052016924666,
          0.037285102446987906,
          0.005144620168266778,
          -0.00644026825937688,
          0.028335336310427783,
          0.04121757658952058,
          0.07193900232389439,
          0.06852750492392018,
          0.07983799641971018,
          0.06435589245729911,
          0.053679026341488356,
          0.05103479149888296,
          -0.06087231856524217,
          -0.01933320834605956,
          -0.053732526905725,
          -0.05579859807698073,
          -0.04523958541998707,
          -0.031021147264913673,
          -0.03276313284429294,
          -0.04693220320270186,
          -0.05150985898219729,
          -0.034303178363700615,
          -0.044126698645856055,
          -0.03410284103285066,
          -0.03923924176885485,
          -0.06153306381504625,
          -0.04750379323767273,
          -0.02800620261636594,
          -0.02553149899222945,
          -0.02786714726791062,
          -0.03120647165246737,
          -0.0351263401651577,
          -0.023920356853617708,
          -0.02982142696685286,
          -0.026877816525673892,
          -0.03325694557271136,
          -0.02699492024511352,
          -0.030298587266329446,
          -0.027373098027458187,
          -0.017664760989533734,
          -0.012808984223372233,
          -0.016121355970780682,
          -0.0015625549467864208,
          -0.0038150179225838743,
          -0.008419360976164525,
          -0.003691813146522449,
          -0.002397421200482752,
          -0.02758521458948751,
          -0.01521070908287564,
          -0.02298233946986883,
          -0.017855267766013372,
          -0.009545085632417072,
          -0.0061003496928626055,
          -0.022523750448469382,
          -0.008501974185954775,
          -0.012400202882534128,
          -0.01210734287348153,
          -0.003810982129215046,
          0.006792964907837817,
          0.005722177918067839,
          0.009884223316245666,
          0.010990838147362125,
          0.014366035063204996,
          0.011614594877866036,
          0.0086601925076783,
          0.01933946065998332,
          0.011943551643554429,
          0.01673460015666206,
          0.012336751052191897,
          0.007555415554946321,
          0.010429524802084256,
          0.006835431130199354,
          -0.0061057475480303935,
          0.00331694026646423,
          0.029277031617133464,
          0.005749957706515263,
          -0.0006937652817381457,
          0.022862031351572276,
          0.010750642081956752,
          0.03455082826550887,
          0.039086611354638534,
          0.025798114081096835,
          -0.026612641048316177,
          -0.025564418202919964,
          -0.030158947030589633,
          -0.048107942921960856,
          -0.06162340089281804,
          -0.03480698036017449,
          -0.04452826393359033,
          -0.04506213246070612,
          -0.050044515935676825,
          -0.04767456789160057,
          -0.04103935714857787,
          -0.03763550290765155,
          0.015317985770086862,
          -0.00736674575850893,
          0.0075955559936119466,
          0.004430146359318932,
          0.015398405510368529,
          0.02093358510049903,
          0.007108862141151084,
          0.00820917362747553,
          -0.002536625335544218,
          -0.00878005191556508,
          -0.019008178360499672,
          -0.01152562010891095,
          -0.0015099835638131553,
          0.009196420722032805,
          0.010589072932851828,
          -0.00006376865601775972,
          0.0063561353741436455,
          0.009460930033255988,
          -0.002219702140718538,
          -0.01467433974690191,
          -0.011034128885460515,
          -0.005180894878663578,
          -0.006889164493732891,
          -0.0036767933217888293,
          0.001575981559829076,
          -0.004713888667872035,
          -0.0026544313506245976,
          -0.009112652671278254,
          -0.01895225412877871,
          -0.00253483885372896,
          -0.010651755440150679,
          -0.018395773354568712,
          -0.027073558836680667,
          -0.027840786425380848,
          -0.030920970406617787,
          -0.032486161721446694,
          -0.03284336688256495,
          -0.02469863641592579,
          -0.023310415392256756,
          -0.022411888309167405,
          -0.01936584333808128,
          -0.022385253589046916,
          -0.011934672655313672,
          0.08099007535603459,
          0.08184550051743295,
          0.06840032417418346,
          0.05622365101942478,
          0.042850654416793255,
          0.036468731255271614,
          0.02898940608315176,
          0.043403999248509406,
          0.04512951340322735,
          0.01984230574192003,
          0.03220153082899779,
          0.020249526816706998,
          0.020238451105278554,
          0.02754935616159837,
          0.03083309038047055,
          0.009916425367627713,
          -0.0040733755521124015,
          -0.0020831805256025238,
          0.014683952098386854,
          -0.0003621748570045713,
          0.0015842192564524682,
          0.004450031490637663,
          0.0032911906335008068,
          0.0023466753792520945,
          -0.001928576991047204,
          -0.007845984638588821,
          -0.008589632403830039,
          0.005047974835196645,
          0.0018381220018390265,
          -0.01725165152521374,
          0.004671450863435345,
          0.00014566868770599095,
          0.04384861609050128,
          0.028458296563614816,
          -0.015607511280847974,
          -0.007463663970697865,
          -0.021494855599488105,
          -0.021100021881527875,
          -0.0300732584943591,
          -0.0342259463094694,
          -0.026951115588040253,
          -0.025178195464629738,
          -0.018066728593681358,
          -0.004964712004852656,
          0.002123800310631585,
          -0.009873452224928969,
          -0.007958353639112736,
          -0.0016990033946376326,
          -0.028755834440254202,
          0.024441228541759896,
          -0.05545609365033294,
          -0.024323877539072947,
          0.000408705501097395,
          0.004363959244570059,
          -0.01072068649067709,
          0.002819770827022061,
          0.02470550998018145,
          0.009883077525888684,
          -0.0003051309680384695,
          0.010399055349187392,
          -0.004325919369087272,
          0.008181733022964655,
          -0.0008166578347356679,
          -0.006635346634132455,
          -0.009227524096635353,
          -0.006759991641783369,
          -0.0005161605422298599,
          -0.0031011822708000847,
          -0.006384456874285682,
          -0.008687359004804496,
          -0.010359700674580141,
          -0.006690461780103629,
          -0.14608082194088,
          0.017183341221409187,
          0.020373675691985893,
          0.01935162547755981,
          0.0037988118976709506,
          0.01285616810018314,
          0.019648943372764016,
          0.014110594227194129,
          0.02965585612084265,
          0.01648286905897478,
          0.016499664774050238,
          0.016727439645999986,
          0.018957258831809265,
          0.017148242734861652,
          0.02257268238183824,
          0.024321061941596722,
          0.011102011709967385,
          0.023221802641645528,
          0.020633476537096296,
          0.03441414978256413,
          0.04081612199761331,
          0.021193985722476716,
          0.0019085469426661228,
          0.009480619129852708,
          0.006692506980297608,
          0.012387621359718881,
          0.01638570489854546,
          0.02167192675863505,
          0.016557138151540418,
          0.019833967382972217,
          -0.018950434241363612,
          -0.026211329979145825,
          -0.01823531170357623,
          -0.013128695955551217,
          -0.017466224569955502,
          0.011505341632982669,
          0.008293640698251836,
          0.01337502271370744,
          -0.0006336554694127416,
          0.06626245697855371,
          0.049760480974597066,
          0.02496158870571963,
          0.023863740547975743,
          0.02263836105222633,
          0.027969892043927802,
          0.027488913141247573,
          0.009346169582546748,
          0.015306171967597981,
          0.013849689508946439,
          -0.0052437525116544315,
          -0.015212446096378118,
          -0.01078428359857142,
          -0.012402746395875741,
          -0.003886787607025044,
          0.006155536317089649,
          0.00653428483495333,
          -0.001434107315461397,
          0.011849517020231792,
          0.008034266809130775,
          -0.01481000621175771,
          -0.013305900925866976,
          -0.02212711840563769,
          -0.02637288806229693,
          -0.03607236135299774,
          -0.04239472892809509,
          -0.01481659738298946,
          -0.006857251741105408,
          -0.017820247238887255,
          -0.018407792639698273,
          0.02776533722122826,
          0.03505847721748101,
          0.0007113377841737045,
          -0.015625965830907862,
          -0.013218156989363627,
          -0.005683084508408154,
          0.00007577469918085278,
          0.019153130931066797,
          0.027634359725199675,
          0.025159644271211923,
          0.029070093527369945,
          0.03403466072772898,
          0.036948161926731005,
          -0.019263787424662948,
          -0.01624378779126151,
          -0.02075873355940583,
          -0.025108927495946287,
          -0.02703190035171399,
          -0.03308897428368679,
          -0.024727187875298318,
          -0.02414917209039036,
          -0.027412995982478316,
          -0.03345828566470377,
          -0.025431170457028085,
          -0.026415757431068554,
          -0.021455907479599023,
          -0.02216772630943087,
          -0.03062448029545861,
          -0.031553259995663496,
          0.00490506530802981,
          0.007507271080077149,
          0.004701335323379241,
          0.007523601726305007,
          0.007511323739103903,
          -0.0021205498892235553,
          0.0023598977629440965,
          0.00030179015135572973,
          -0.006825977823607998,
          -0.006895851135550246,
          -0.005341269840980101,
          -0.010935672706249067,
          -0.006339001544700462,
          -0.00748744365032189,
          -0.006449405639113837,
          -0.007752799037765545,
          -0.0016303104640084665
         ],
         "yaxis": "y"
        }
       ],
       "layout": {
        "legend": {
         "tracegroupgap": 0
        },
        "template": {
         "data": {
          "bar": [
           {
            "error_x": {
             "color": "#2a3f5f"
            },
            "error_y": {
             "color": "#2a3f5f"
            },
            "marker": {
             "line": {
              "color": "#E5ECF6",
              "width": 0.5
             },
             "pattern": {
              "fillmode": "overlay",
              "size": 10,
              "solidity": 0.2
             }
            },
            "type": "bar"
           }
          ],
          "barpolar": [
           {
            "marker": {
             "line": {
              "color": "#E5ECF6",
              "width": 0.5
             },
             "pattern": {
              "fillmode": "overlay",
              "size": 10,
              "solidity": 0.2
             }
            },
            "type": "barpolar"
           }
          ],
          "carpet": [
           {
            "aaxis": {
             "endlinecolor": "#2a3f5f",
             "gridcolor": "white",
             "linecolor": "white",
             "minorgridcolor": "white",
             "startlinecolor": "#2a3f5f"
            },
            "baxis": {
             "endlinecolor": "#2a3f5f",
             "gridcolor": "white",
             "linecolor": "white",
             "minorgridcolor": "white",
             "startlinecolor": "#2a3f5f"
            },
            "type": "carpet"
           }
          ],
          "choropleth": [
           {
            "colorbar": {
             "outlinewidth": 0,
             "ticks": ""
            },
            "type": "choropleth"
           }
          ],
          "contour": [
           {
            "colorbar": {
             "outlinewidth": 0,
             "ticks": ""
            },
            "colorscale": [
             [
              0,
              "#0d0887"
             ],
             [
              0.1111111111111111,
              "#46039f"
             ],
             [
              0.2222222222222222,
              "#7201a8"
             ],
             [
              0.3333333333333333,
              "#9c179e"
             ],
             [
              0.4444444444444444,
              "#bd3786"
             ],
             [
              0.5555555555555556,
              "#d8576b"
             ],
             [
              0.6666666666666666,
              "#ed7953"
             ],
             [
              0.7777777777777778,
              "#fb9f3a"
             ],
             [
              0.8888888888888888,
              "#fdca26"
             ],
             [
              1,
              "#f0f921"
             ]
            ],
            "type": "contour"
           }
          ],
          "contourcarpet": [
           {
            "colorbar": {
             "outlinewidth": 0,
             "ticks": ""
            },
            "type": "contourcarpet"
           }
          ],
          "heatmap": [
           {
            "colorbar": {
             "outlinewidth": 0,
             "ticks": ""
            },
            "colorscale": [
             [
              0,
              "#0d0887"
             ],
             [
              0.1111111111111111,
              "#46039f"
             ],
             [
              0.2222222222222222,
              "#7201a8"
             ],
             [
              0.3333333333333333,
              "#9c179e"
             ],
             [
              0.4444444444444444,
              "#bd3786"
             ],
             [
              0.5555555555555556,
              "#d8576b"
             ],
             [
              0.6666666666666666,
              "#ed7953"
             ],
             [
              0.7777777777777778,
              "#fb9f3a"
             ],
             [
              0.8888888888888888,
              "#fdca26"
             ],
             [
              1,
              "#f0f921"
             ]
            ],
            "type": "heatmap"
           }
          ],
          "heatmapgl": [
           {
            "colorbar": {
             "outlinewidth": 0,
             "ticks": ""
            },
            "colorscale": [
             [
              0,
              "#0d0887"
             ],
             [
              0.1111111111111111,
              "#46039f"
             ],
             [
              0.2222222222222222,
              "#7201a8"
             ],
             [
              0.3333333333333333,
              "#9c179e"
             ],
             [
              0.4444444444444444,
              "#bd3786"
             ],
             [
              0.5555555555555556,
              "#d8576b"
             ],
             [
              0.6666666666666666,
              "#ed7953"
             ],
             [
              0.7777777777777778,
              "#fb9f3a"
             ],
             [
              0.8888888888888888,
              "#fdca26"
             ],
             [
              1,
              "#f0f921"
             ]
            ],
            "type": "heatmapgl"
           }
          ],
          "histogram": [
           {
            "marker": {
             "pattern": {
              "fillmode": "overlay",
              "size": 10,
              "solidity": 0.2
             }
            },
            "type": "histogram"
           }
          ],
          "histogram2d": [
           {
            "colorbar": {
             "outlinewidth": 0,
             "ticks": ""
            },
            "colorscale": [
             [
              0,
              "#0d0887"
             ],
             [
              0.1111111111111111,
              "#46039f"
             ],
             [
              0.2222222222222222,
              "#7201a8"
             ],
             [
              0.3333333333333333,
              "#9c179e"
             ],
             [
              0.4444444444444444,
              "#bd3786"
             ],
             [
              0.5555555555555556,
              "#d8576b"
             ],
             [
              0.6666666666666666,
              "#ed7953"
             ],
             [
              0.7777777777777778,
              "#fb9f3a"
             ],
             [
              0.8888888888888888,
              "#fdca26"
             ],
             [
              1,
              "#f0f921"
             ]
            ],
            "type": "histogram2d"
           }
          ],
          "histogram2dcontour": [
           {
            "colorbar": {
             "outlinewidth": 0,
             "ticks": ""
            },
            "colorscale": [
             [
              0,
              "#0d0887"
             ],
             [
              0.1111111111111111,
              "#46039f"
             ],
             [
              0.2222222222222222,
              "#7201a8"
             ],
             [
              0.3333333333333333,
              "#9c179e"
             ],
             [
              0.4444444444444444,
              "#bd3786"
             ],
             [
              0.5555555555555556,
              "#d8576b"
             ],
             [
              0.6666666666666666,
              "#ed7953"
             ],
             [
              0.7777777777777778,
              "#fb9f3a"
             ],
             [
              0.8888888888888888,
              "#fdca26"
             ],
             [
              1,
              "#f0f921"
             ]
            ],
            "type": "histogram2dcontour"
           }
          ],
          "mesh3d": [
           {
            "colorbar": {
             "outlinewidth": 0,
             "ticks": ""
            },
            "type": "mesh3d"
           }
          ],
          "parcoords": [
           {
            "line": {
             "colorbar": {
              "outlinewidth": 0,
              "ticks": ""
             }
            },
            "type": "parcoords"
           }
          ],
          "pie": [
           {
            "automargin": true,
            "type": "pie"
           }
          ],
          "scatter": [
           {
            "fillpattern": {
             "fillmode": "overlay",
             "size": 10,
             "solidity": 0.2
            },
            "type": "scatter"
           }
          ],
          "scatter3d": [
           {
            "line": {
             "colorbar": {
              "outlinewidth": 0,
              "ticks": ""
             }
            },
            "marker": {
             "colorbar": {
              "outlinewidth": 0,
              "ticks": ""
             }
            },
            "type": "scatter3d"
           }
          ],
          "scattercarpet": [
           {
            "marker": {
             "colorbar": {
              "outlinewidth": 0,
              "ticks": ""
             }
            },
            "type": "scattercarpet"
           }
          ],
          "scattergeo": [
           {
            "marker": {
             "colorbar": {
              "outlinewidth": 0,
              "ticks": ""
             }
            },
            "type": "scattergeo"
           }
          ],
          "scattergl": [
           {
            "marker": {
             "colorbar": {
              "outlinewidth": 0,
              "ticks": ""
             }
            },
            "type": "scattergl"
           }
          ],
          "scattermapbox": [
           {
            "marker": {
             "colorbar": {
              "outlinewidth": 0,
              "ticks": ""
             }
            },
            "type": "scattermapbox"
           }
          ],
          "scatterpolar": [
           {
            "marker": {
             "colorbar": {
              "outlinewidth": 0,
              "ticks": ""
             }
            },
            "type": "scatterpolar"
           }
          ],
          "scatterpolargl": [
           {
            "marker": {
             "colorbar": {
              "outlinewidth": 0,
              "ticks": ""
             }
            },
            "type": "scatterpolargl"
           }
          ],
          "scatterternary": [
           {
            "marker": {
             "colorbar": {
              "outlinewidth": 0,
              "ticks": ""
             }
            },
            "type": "scatterternary"
           }
          ],
          "surface": [
           {
            "colorbar": {
             "outlinewidth": 0,
             "ticks": ""
            },
            "colorscale": [
             [
              0,
              "#0d0887"
             ],
             [
              0.1111111111111111,
              "#46039f"
             ],
             [
              0.2222222222222222,
              "#7201a8"
             ],
             [
              0.3333333333333333,
              "#9c179e"
             ],
             [
              0.4444444444444444,
              "#bd3786"
             ],
             [
              0.5555555555555556,
              "#d8576b"
             ],
             [
              0.6666666666666666,
              "#ed7953"
             ],
             [
              0.7777777777777778,
              "#fb9f3a"
             ],
             [
              0.8888888888888888,
              "#fdca26"
             ],
             [
              1,
              "#f0f921"
             ]
            ],
            "type": "surface"
           }
          ],
          "table": [
           {
            "cells": {
             "fill": {
              "color": "#EBF0F8"
             },
             "line": {
              "color": "white"
             }
            },
            "header": {
             "fill": {
              "color": "#C8D4E3"
             },
             "line": {
              "color": "white"
             }
            },
            "type": "table"
           }
          ]
         },
         "layout": {
          "annotationdefaults": {
           "arrowcolor": "#2a3f5f",
           "arrowhead": 0,
           "arrowwidth": 1
          },
          "autotypenumbers": "strict",
          "coloraxis": {
           "colorbar": {
            "outlinewidth": 0,
            "ticks": ""
           }
          },
          "colorscale": {
           "diverging": [
            [
             0,
             "#8e0152"
            ],
            [
             0.1,
             "#c51b7d"
            ],
            [
             0.2,
             "#de77ae"
            ],
            [
             0.3,
             "#f1b6da"
            ],
            [
             0.4,
             "#fde0ef"
            ],
            [
             0.5,
             "#f7f7f7"
            ],
            [
             0.6,
             "#e6f5d0"
            ],
            [
             0.7,
             "#b8e186"
            ],
            [
             0.8,
             "#7fbc41"
            ],
            [
             0.9,
             "#4d9221"
            ],
            [
             1,
             "#276419"
            ]
           ],
           "sequential": [
            [
             0,
             "#0d0887"
            ],
            [
             0.1111111111111111,
             "#46039f"
            ],
            [
             0.2222222222222222,
             "#7201a8"
            ],
            [
             0.3333333333333333,
             "#9c179e"
            ],
            [
             0.4444444444444444,
             "#bd3786"
            ],
            [
             0.5555555555555556,
             "#d8576b"
            ],
            [
             0.6666666666666666,
             "#ed7953"
            ],
            [
             0.7777777777777778,
             "#fb9f3a"
            ],
            [
             0.8888888888888888,
             "#fdca26"
            ],
            [
             1,
             "#f0f921"
            ]
           ],
           "sequentialminus": [
            [
             0,
             "#0d0887"
            ],
            [
             0.1111111111111111,
             "#46039f"
            ],
            [
             0.2222222222222222,
             "#7201a8"
            ],
            [
             0.3333333333333333,
             "#9c179e"
            ],
            [
             0.4444444444444444,
             "#bd3786"
            ],
            [
             0.5555555555555556,
             "#d8576b"
            ],
            [
             0.6666666666666666,
             "#ed7953"
            ],
            [
             0.7777777777777778,
             "#fb9f3a"
            ],
            [
             0.8888888888888888,
             "#fdca26"
            ],
            [
             1,
             "#f0f921"
            ]
           ]
          },
          "colorway": [
           "#636efa",
           "#EF553B",
           "#00cc96",
           "#ab63fa",
           "#FFA15A",
           "#19d3f3",
           "#FF6692",
           "#B6E880",
           "#FF97FF",
           "#FECB52"
          ],
          "font": {
           "color": "#2a3f5f"
          },
          "geo": {
           "bgcolor": "white",
           "lakecolor": "white",
           "landcolor": "#E5ECF6",
           "showlakes": true,
           "showland": true,
           "subunitcolor": "white"
          },
          "hoverlabel": {
           "align": "left"
          },
          "hovermode": "closest",
          "mapbox": {
           "style": "light"
          },
          "paper_bgcolor": "white",
          "plot_bgcolor": "#E5ECF6",
          "polar": {
           "angularaxis": {
            "gridcolor": "white",
            "linecolor": "white",
            "ticks": ""
           },
           "bgcolor": "#E5ECF6",
           "radialaxis": {
            "gridcolor": "white",
            "linecolor": "white",
            "ticks": ""
           }
          },
          "scene": {
           "xaxis": {
            "backgroundcolor": "#E5ECF6",
            "gridcolor": "white",
            "gridwidth": 2,
            "linecolor": "white",
            "showbackground": true,
            "ticks": "",
            "zerolinecolor": "white"
           },
           "yaxis": {
            "backgroundcolor": "#E5ECF6",
            "gridcolor": "white",
            "gridwidth": 2,
            "linecolor": "white",
            "showbackground": true,
            "ticks": "",
            "zerolinecolor": "white"
           },
           "zaxis": {
            "backgroundcolor": "#E5ECF6",
            "gridcolor": "white",
            "gridwidth": 2,
            "linecolor": "white",
            "showbackground": true,
            "ticks": "",
            "zerolinecolor": "white"
           }
          },
          "shapedefaults": {
           "line": {
            "color": "#2a3f5f"
           }
          },
          "ternary": {
           "aaxis": {
            "gridcolor": "white",
            "linecolor": "white",
            "ticks": ""
           },
           "baxis": {
            "gridcolor": "white",
            "linecolor": "white",
            "ticks": ""
           },
           "bgcolor": "#E5ECF6",
           "caxis": {
            "gridcolor": "white",
            "linecolor": "white",
            "ticks": ""
           }
          },
          "title": {
           "x": 0.05
          },
          "xaxis": {
           "automargin": true,
           "gridcolor": "white",
           "linecolor": "white",
           "ticks": "",
           "title": {
            "standoff": 15
           },
           "zerolinecolor": "white",
           "zerolinewidth": 2
          },
          "yaxis": {
           "automargin": true,
           "gridcolor": "white",
           "linecolor": "white",
           "ticks": "",
           "title": {
            "standoff": 15
           },
           "zerolinecolor": "white",
           "zerolinewidth": 2
          }
         }
        },
        "title": {
         "text": "Residual plot of UNEMP"
        },
        "xaxis": {
         "anchor": "y",
         "domain": [
          0,
          1
         ],
         "title": {
          "text": "UNEMP"
         }
        },
        "yaxis": {
         "anchor": "x",
         "domain": [
          0,
          1
         ],
         "title": {
          "text": "Residuals"
         }
        }
       }
      }
     },
     "metadata": {},
     "output_type": "display_data"
    },
    {
     "data": {
      "application/vnd.plotly.v1+json": {
       "config": {
        "plotlyServerURL": "https://plot.ly"
       },
       "data": [
        {
         "hovertemplate": "Population, total=%{x}<br>Residuals=%{y}<extra></extra>",
         "legendgroup": "",
         "marker": {
          "color": "#636efa",
          "symbol": "circle"
         },
         "mode": "markers",
         "name": "",
         "orientation": "v",
         "showlegend": false,
         "type": "scatter",
         "x": [
          -0.4915110863565824,
          -0.4903983124548371,
          -0.4891215657659287,
          -0.48776688115735534,
          -0.4863838380442854,
          -0.4844293269353265,
          -0.4818357325599469,
          -0.4790902532579135,
          -0.4760633762380548,
          -0.47300837095866166,
          -0.4702804670220673,
          -0.4675880975579542,
          -0.46447959869903727,
          -0.46080600195484883,
          -0.45685054700291094,
          -0.4520960269100654,
          -0.446930366063261,
          -0.44242078823591097,
          -0.43844242391024585,
          -0.6868657246133637,
          -0.6820009171836805,
          -0.6795229441534267,
          -0.6766931951952712,
          -0.6732528749718327,
          -0.6688906155460552,
          -0.6640803761723857,
          -0.6606036004966176,
          -0.6588448743537495,
          -0.6578939626603484,
          -0.6571292040187909,
          -0.6563828649742002,
          -0.6554510252384915,
          -0.6541492202228765,
          -0.6524524299748086,
          -0.6504040940438011,
          -0.6484066038752533,
          -0.6461069171939722,
          -0.643534927470868,
          -0.6415762335784313,
          1.3567054020264206,
          1.3664599600900125,
          1.3807399061350174,
          1.3916441924167688,
          1.3983402915265364,
          1.4096349965156594,
          1.424540326251841,
          1.4348489304425243,
          1.441835023082035,
          1.4457504154105705,
          1.4519005653410797,
          1.4785410970530086,
          1.4998461238844367,
          1.4975990098028311,
          1.4936432478576105,
          1.4901592962138575,
          1.4857482248561185,
          1.4591672498410482,
          -0.09323561502154212,
          -0.0761193580369622,
          -0.06798461165578182,
          -0.0174659121645102,
          0.012563825389274703,
          0.06797365698422757,
          0.09541966232184211,
          0.12505798344008656,
          -0.6499518929382708,
          -0.6479979190675567,
          -0.6461191201769626,
          -0.6443470398262938,
          -0.6426339789342388,
          -0.6410324333521525,
          4.081424014692918,
          4.081692633815348,
          4.057708783598409,
          -0.7074060695515552,
          -0.7088878877533584,
          -0.7101566526169147,
          -0.7115118360895726,
          -0.7140304857297943,
          -0.7166847112785223,
          -0.7182328016552451,
          -0.7193872498951273,
          -0.7203589603834366,
          -0.721412599704087,
          -0.7228201255314584,
          -0.7243484915897627,
          -0.7253792215366859,
          -0.7256634205682165,
          -0.6267293476884582,
          -0.6267091245059554,
          -0.6266996460883496,
          -0.6266394754049254,
          -0.6264625321515649,
          -0.6261872742993951,
          -0.625994559266132,
          -0.6257276286067576,
          -0.6253747782023659,
          -0.6251516708341078,
          -0.6249499762473235,
          -0.6247522725732152,
          -0.6244837685732666,
          -0.6241601209048991,
          -0.6238708181100423,
          2.3219115085310604,
          2.3272231446838254,
          2.3325406520831233,
          2.334293622101939,
          2.33360611064516,
          2.331808741722823,
          2.3282410576611925,
          2.324016868464344,
          2.3180199465561007,
          2.310046179777576,
          2.3052349426757375,
          2.247598987664889,
          2.253387346011646,
          2.2618212957210524,
          2.2747493584711895,
          2.3017690268873476,
          2.3271749467384293,
          2.3390069667207323,
          2.3485536903318844,
          2.3557365656656546,
          -0.627982801262036,
          -0.6260273307990684,
          -0.6254920496363866,
          -0.6249199292797717,
          -0.6242353342591794,
          -0.6233079843002314,
          -0.6220729886977806,
          -0.6209419486957101,
          -0.6199984048410956,
          -0.6191200586849107,
          -0.6183142013176216,
          -0.6174177809319134,
          -0.616322467273126,
          -0.6147871938659591,
          -0.6130785076281837,
          -0.6116598149201513,
          -0.6105601649812448,
          -0.60976251968427,
          -0.815555159800425,
          -0.815307070853781,
          -0.8150360341592494,
          -0.8147490338140134,
          -0.8144667534905001,
          -0.8141345483843753,
          -0.8137840771779252,
          -0.8134321861275423,
          -0.8129949509445474,
          -0.8125114748983343,
          -0.8120350980717853,
          -0.8115378073278473,
          -0.811028006607636,
          -0.8105517832777285,
          -0.8100021885532372,
          -0.8095565110549661,
          -0.8090940640486232,
          -0.7562524231349,
          -0.7561195717917784,
          -0.755874207410519,
          -0.7554423446099727,
          -0.7553197775418241,
          -0.7546154965769737,
          -0.7542734293116397,
          -0.754109955388561,
          -0.7539443325125029,
          -0.7538371151084932,
          -0.7537593306854695,
          -0.7536998123627712,
          0.7238716362374343,
          0.7860293720586233,
          0.8142055992934828,
          0.8422670877889045,
          0.8708237564494452,
          0.9026545084708006,
          0.9305641504137289,
          0.946253042130038,
          0.9544632321104608,
          0.9608256678960103,
          0.9619906306558276,
          0.9561190003811175,
          0.9507787371047338,
          0.9493953486242208,
          0.9509007669346377,
          0.9550902275163721,
          0.9629384340422407,
          0.9758737111345228,
          -0.5326117691705062,
          -0.5292544522558986,
          -0.5260132555505014,
          -0.5224642213307996,
          -0.5186535520858514,
          -0.5150560896757916,
          -0.5115662667855054,
          -0.5085538184499373,
          -0.5061558555440072,
          -0.2080864837559109,
          -0.20662485036245015,
          -0.20561818101406462,
          -0.20425225277650952,
          -0.20180025905281077,
          -0.19854632212617826,
          -0.1952842882517125,
          -0.19230338347594964,
          -0.1899284834403882,
          -0.1880301137280171,
          -0.18570556059083104,
          -0.1828307603684279,
          -0.17936208164049303,
          -0.17548698218032197,
          -0.17163697942101794,
          -0.16729110576170866,
          -0.43153760774235045,
          -0.430576718767259,
          -0.4291021149076009,
          -0.42772490466690377,
          -0.4273384768722085,
          -0.42715224707204397,
          -0.42774858152383793,
          -0.4354036125265192,
          -0.43665553113368305,
          0.8659971313093074,
          0.885405937381344,
          0.9039136030459495,
          0.9214197414996559,
          0.9381422028507539,
          0.9540231572396002,
          0.9695459272157667,
          0.9874886101175818,
          1.01410362301288,
          0.6323246275986535,
          0.6316808243105102,
          0.630753013861638,
          0.6299584001233305,
          0.6301579073829751,
          0.6311496491829857,
          0.6269741951697778,
          0.6277593688646399,
          0.6277558768160483,
          0.6257823321235572,
          0.624184125093421,
          0.624365980239306,
          -0.6605489940664436,
          -0.657713604106717,
          -0.6566753911985261,
          -0.6554711716726738,
          -0.654036515313937,
          -0.6521762895169508,
          -0.6499099499810114,
          -0.6475877760417669,
          -0.6452651416125982,
          -0.6428154887126806,
          -0.6403025568223506,
          -0.6379598143331601,
          -0.6357491173297238,
          -0.6337776448418915,
          -0.6320158103920354,
          -0.6303868656594612,
          -0.6290457655036508,
          -0.627665063214362,
          -0.4450328405824175,
          -0.44580343209634765,
          -0.44767904593163294,
          -0.4522005197486906,
          -0.45426865674643724,
          -0.456281189585841,
          -0.45775702141863023,
          -0.4347106903131316,
          -0.43298369960087063,
          -0.4307779528641192,
          -0.4281170502114908,
          -0.4251337662377864,
          -0.4218998606228551,
          -0.41857972826962386,
          -0.4147771175983485,
          -0.4093019691483447,
          -0.4066668923056299,
          -0.40465320824141576,
          -0.40274793118018215,
          -0.4002482767493323,
          -0.398052277049309,
          -0.39637394477236815,
          -0.39438247934699494,
          -0.3920061210933403,
          -0.49852051048558405,
          -0.5254489635225972,
          -0.5212332933893457,
          -0.5192937482029221,
          -0.5171500524834519,
          -0.515583926251366,
          -0.5145537335426877,
          -0.5135556600062199,
          -0.5127180672083237,
          -0.5119474756943936,
          -0.5108638277803518,
          -0.5093922554793611,
          -0.5074799943209444,
          -0.5049268463105706,
          -0.5012297645802497,
          -0.49762378310659294,
          -0.4952868734897751,
          -0.4936385114320654,
          -0.4921266078885499,
          -0.4124917444788768,
          -0.40891020734536115,
          -0.4061139590291885,
          -0.41210531668418154,
          -0.4193672427882671,
          -0.8217759565601334,
          -0.8216779873287672,
          -0.8214991637415497,
          -0.8212287026594234,
          -0.8209299981952815,
          -0.8207055861055716,
          -0.820663950141595,
          -0.820681525507034,
          -0.8206441874490162,
          -0.8205788746281055,
          -0.8204619101873676,
          -0.8203229189785903,
          -0.8201913339827601,
          -0.8200138918653151,
          -0.8197083951747919,
          1.4270646936419544,
          1.4357817295322417,
          1.4454061991922569,
          1.4560396022761182,
          1.4690994035187266,
          1.4849594823643442,
          1.5020595454532575,
          1.5203119462032342,
          1.538905454864536,
          1.5569134889614222,
          1.5757204730767351,
          1.5946176364688638,
          1.6115561827168763,
          1.627982549046736,
          1.646172860405271,
          1.665894147265014,
          1.6849037085727991,
          1.702067165774606,
          1.717473815541562,
          1.7319018474713466,
          1.5048163835067536,
          1.5219203607600225,
          1.5391029666678426,
          1.5558998355158535,
          1.5734649550540136,
          1.591626140424845,
          1.6374549419092956,
          1.662440165840492,
          1.6997291433071382,
          1.7275953840747138,
          -0.7477584946128708,
          -0.7484504574722497,
          -0.7493331782827141,
          -0.7507013322215693,
          -0.7523941699311214,
          -0.7538464784036178,
          -0.7548207983348307,
          -0.7556524431378732,
          -0.7563763716728212,
          -0.7570001436492634,
          -0.7576904947939077,
          -0.7583539456521488,
          -0.7589323977452209,
          -0.44158799220805817,
          -0.4415808929883939,
          -0.4410392417150946,
          -0.4399766995892437,
          -0.4376772047787643,
          -0.43438566117499167,
          -0.43210880711911703,
          -0.4309393929566995,
          -0.430107517908695,
          -0.42954353287407365,
          -0.4294097221769433,
          -0.42898472835109913,
          -0.42818992274198997,
          -0.4274119633892732,
          -0.42633341923855755,
          -0.42497152028783886,
          -0.6328410467102998,
          -0.6322593711877584,
          -0.6315715527376969,
          -0.6307974691751752,
          -0.6299358925270621,
          -0.628988856623856,
          -0.6280113900114946,
          -0.6270719521920372,
          -0.6261156681161875,
          -0.6251294905694272,
          -0.6241700981865893,
          -0.6233051446123656,
          -0.6226136806170712,
          -0.6220084433600768,
          -0.6215129945758353,
          -0.6212324410895377,
          -0.620999087820467
         ],
         "xaxis": "x",
         "y": [
          -0.009432527924492562,
          -0.012917810495263082,
          -0.0246614393455602,
          -0.01720787951676761,
          -0.010355072483283656,
          -0.017089471243327714,
          -0.01342850209218971,
          -0.008817574969827269,
          -0.009727232613114367,
          -0.012165810848284386,
          -0.017826385941363765,
          -0.011766178614687317,
          -0.000632949914415426,
          -0.004051210349599321,
          0.009338451030700023,
          0.011039552974796418,
          -0.0002398622945832818,
          0.01125106985501928,
          0.004026920508013954,
          0.038440831875237835,
          0.028779918565084106,
          0.03431082636611127,
          0.04419807923621416,
          0.04154578713297952,
          0.02467145824260142,
          0.008266115676990315,
          -0.006000923740644759,
          0.025560696240199632,
          0.007791026860896999,
          -0.0057663220675101545,
          0.0035018274203638122,
          0.01610745606761349,
          0.004289466418007815,
          0.009767718713229234,
          0.021678079830554253,
          0.007789333756649752,
          -0.0012430776309222402,
          0.0008506000084900767,
          -0.011817937428015957,
          0.03917496593488945,
          0.03770070635280448,
          0.03529558446031317,
          0.03196040299331837,
          0.033035028798660326,
          0.02449738539249502,
          0.02578561563892956,
          0.03181245975858904,
          0.03895786963987935,
          0.037641823756612125,
          0.032118426997414184,
          0.029928841932784833,
          0.030166077948277303,
          0.04261968913347569,
          0.04139848817435238,
          0.04304855440406513,
          0.03656986827294423,
          0.0353539713866548,
          0.005163452713181194,
          0.009648957340138209,
          0.006448994350066961,
          0.018203673987608526,
          0.0045616799207800485,
          0.00299092525014949,
          0.008316479177743474,
          0.008036509401497194,
          -0.03364458928713365,
          -0.01964980656692117,
          -0.013242010616831557,
          -0.026875369677825445,
          -0.038186963652333095,
          -0.03822036055474415,
          -0.006832664301830271,
          -0.030005281643520842,
          -0.01848981383752535,
          0.0478353160451756,
          0.049585016973806906,
          0.035034052016924666,
          0.037285102446987906,
          0.005144620168266778,
          -0.00644026825937688,
          0.028335336310427783,
          0.04121757658952058,
          0.07193900232389439,
          0.06852750492392018,
          0.07983799641971018,
          0.06435589245729911,
          0.053679026341488356,
          0.05103479149888296,
          -0.06087231856524217,
          -0.01933320834605956,
          -0.053732526905725,
          -0.05579859807698073,
          -0.04523958541998707,
          -0.031021147264913673,
          -0.03276313284429294,
          -0.04693220320270186,
          -0.05150985898219729,
          -0.034303178363700615,
          -0.044126698645856055,
          -0.03410284103285066,
          -0.03923924176885485,
          -0.06153306381504625,
          -0.04750379323767273,
          -0.02800620261636594,
          -0.02553149899222945,
          -0.02786714726791062,
          -0.03120647165246737,
          -0.0351263401651577,
          -0.023920356853617708,
          -0.02982142696685286,
          -0.026877816525673892,
          -0.03325694557271136,
          -0.02699492024511352,
          -0.030298587266329446,
          -0.027373098027458187,
          -0.017664760989533734,
          -0.012808984223372233,
          -0.016121355970780682,
          -0.0015625549467864208,
          -0.0038150179225838743,
          -0.008419360976164525,
          -0.003691813146522449,
          -0.002397421200482752,
          -0.02758521458948751,
          -0.01521070908287564,
          -0.02298233946986883,
          -0.017855267766013372,
          -0.009545085632417072,
          -0.0061003496928626055,
          -0.022523750448469382,
          -0.008501974185954775,
          -0.012400202882534128,
          -0.01210734287348153,
          -0.003810982129215046,
          0.006792964907837817,
          0.005722177918067839,
          0.009884223316245666,
          0.010990838147362125,
          0.014366035063204996,
          0.011614594877866036,
          0.0086601925076783,
          0.01933946065998332,
          0.011943551643554429,
          0.01673460015666206,
          0.012336751052191897,
          0.007555415554946321,
          0.010429524802084256,
          0.006835431130199354,
          -0.0061057475480303935,
          0.00331694026646423,
          0.029277031617133464,
          0.005749957706515263,
          -0.0006937652817381457,
          0.022862031351572276,
          0.010750642081956752,
          0.03455082826550887,
          0.039086611354638534,
          0.025798114081096835,
          -0.026612641048316177,
          -0.025564418202919964,
          -0.030158947030589633,
          -0.048107942921960856,
          -0.06162340089281804,
          -0.03480698036017449,
          -0.04452826393359033,
          -0.04506213246070612,
          -0.050044515935676825,
          -0.04767456789160057,
          -0.04103935714857787,
          -0.03763550290765155,
          0.015317985770086862,
          -0.00736674575850893,
          0.0075955559936119466,
          0.004430146359318932,
          0.015398405510368529,
          0.02093358510049903,
          0.007108862141151084,
          0.00820917362747553,
          -0.002536625335544218,
          -0.00878005191556508,
          -0.019008178360499672,
          -0.01152562010891095,
          -0.0015099835638131553,
          0.009196420722032805,
          0.010589072932851828,
          -0.00006376865601775972,
          0.0063561353741436455,
          0.009460930033255988,
          -0.002219702140718538,
          -0.01467433974690191,
          -0.011034128885460515,
          -0.005180894878663578,
          -0.006889164493732891,
          -0.0036767933217888293,
          0.001575981559829076,
          -0.004713888667872035,
          -0.0026544313506245976,
          -0.009112652671278254,
          -0.01895225412877871,
          -0.00253483885372896,
          -0.010651755440150679,
          -0.018395773354568712,
          -0.027073558836680667,
          -0.027840786425380848,
          -0.030920970406617787,
          -0.032486161721446694,
          -0.03284336688256495,
          -0.02469863641592579,
          -0.023310415392256756,
          -0.022411888309167405,
          -0.01936584333808128,
          -0.022385253589046916,
          -0.011934672655313672,
          0.08099007535603459,
          0.08184550051743295,
          0.06840032417418346,
          0.05622365101942478,
          0.042850654416793255,
          0.036468731255271614,
          0.02898940608315176,
          0.043403999248509406,
          0.04512951340322735,
          0.01984230574192003,
          0.03220153082899779,
          0.020249526816706998,
          0.020238451105278554,
          0.02754935616159837,
          0.03083309038047055,
          0.009916425367627713,
          -0.0040733755521124015,
          -0.0020831805256025238,
          0.014683952098386854,
          -0.0003621748570045713,
          0.0015842192564524682,
          0.004450031490637663,
          0.0032911906335008068,
          0.0023466753792520945,
          -0.001928576991047204,
          -0.007845984638588821,
          -0.008589632403830039,
          0.005047974835196645,
          0.0018381220018390265,
          -0.01725165152521374,
          0.004671450863435345,
          0.00014566868770599095,
          0.04384861609050128,
          0.028458296563614816,
          -0.015607511280847974,
          -0.007463663970697865,
          -0.021494855599488105,
          -0.021100021881527875,
          -0.0300732584943591,
          -0.0342259463094694,
          -0.026951115588040253,
          -0.025178195464629738,
          -0.018066728593681358,
          -0.004964712004852656,
          0.002123800310631585,
          -0.009873452224928969,
          -0.007958353639112736,
          -0.0016990033946376326,
          -0.028755834440254202,
          0.024441228541759896,
          -0.05545609365033294,
          -0.024323877539072947,
          0.000408705501097395,
          0.004363959244570059,
          -0.01072068649067709,
          0.002819770827022061,
          0.02470550998018145,
          0.009883077525888684,
          -0.0003051309680384695,
          0.010399055349187392,
          -0.004325919369087272,
          0.008181733022964655,
          -0.0008166578347356679,
          -0.006635346634132455,
          -0.009227524096635353,
          -0.006759991641783369,
          -0.0005161605422298599,
          -0.0031011822708000847,
          -0.006384456874285682,
          -0.008687359004804496,
          -0.010359700674580141,
          -0.006690461780103629,
          -0.14608082194088,
          0.017183341221409187,
          0.020373675691985893,
          0.01935162547755981,
          0.0037988118976709506,
          0.01285616810018314,
          0.019648943372764016,
          0.014110594227194129,
          0.02965585612084265,
          0.01648286905897478,
          0.016499664774050238,
          0.016727439645999986,
          0.018957258831809265,
          0.017148242734861652,
          0.02257268238183824,
          0.024321061941596722,
          0.011102011709967385,
          0.023221802641645528,
          0.020633476537096296,
          0.03441414978256413,
          0.04081612199761331,
          0.021193985722476716,
          0.0019085469426661228,
          0.009480619129852708,
          0.006692506980297608,
          0.012387621359718881,
          0.01638570489854546,
          0.02167192675863505,
          0.016557138151540418,
          0.019833967382972217,
          -0.018950434241363612,
          -0.026211329979145825,
          -0.01823531170357623,
          -0.013128695955551217,
          -0.017466224569955502,
          0.011505341632982669,
          0.008293640698251836,
          0.01337502271370744,
          -0.0006336554694127416,
          0.06626245697855371,
          0.049760480974597066,
          0.02496158870571963,
          0.023863740547975743,
          0.02263836105222633,
          0.027969892043927802,
          0.027488913141247573,
          0.009346169582546748,
          0.015306171967597981,
          0.013849689508946439,
          -0.0052437525116544315,
          -0.015212446096378118,
          -0.01078428359857142,
          -0.012402746395875741,
          -0.003886787607025044,
          0.006155536317089649,
          0.00653428483495333,
          -0.001434107315461397,
          0.011849517020231792,
          0.008034266809130775,
          -0.01481000621175771,
          -0.013305900925866976,
          -0.02212711840563769,
          -0.02637288806229693,
          -0.03607236135299774,
          -0.04239472892809509,
          -0.01481659738298946,
          -0.006857251741105408,
          -0.017820247238887255,
          -0.018407792639698273,
          0.02776533722122826,
          0.03505847721748101,
          0.0007113377841737045,
          -0.015625965830907862,
          -0.013218156989363627,
          -0.005683084508408154,
          0.00007577469918085278,
          0.019153130931066797,
          0.027634359725199675,
          0.025159644271211923,
          0.029070093527369945,
          0.03403466072772898,
          0.036948161926731005,
          -0.019263787424662948,
          -0.01624378779126151,
          -0.02075873355940583,
          -0.025108927495946287,
          -0.02703190035171399,
          -0.03308897428368679,
          -0.024727187875298318,
          -0.02414917209039036,
          -0.027412995982478316,
          -0.03345828566470377,
          -0.025431170457028085,
          -0.026415757431068554,
          -0.021455907479599023,
          -0.02216772630943087,
          -0.03062448029545861,
          -0.031553259995663496,
          0.00490506530802981,
          0.007507271080077149,
          0.004701335323379241,
          0.007523601726305007,
          0.007511323739103903,
          -0.0021205498892235553,
          0.0023598977629440965,
          0.00030179015135572973,
          -0.006825977823607998,
          -0.006895851135550246,
          -0.005341269840980101,
          -0.010935672706249067,
          -0.006339001544700462,
          -0.00748744365032189,
          -0.006449405639113837,
          -0.007752799037765545,
          -0.0016303104640084665
         ],
         "yaxis": "y"
        }
       ],
       "layout": {
        "legend": {
         "tracegroupgap": 0
        },
        "template": {
         "data": {
          "bar": [
           {
            "error_x": {
             "color": "#2a3f5f"
            },
            "error_y": {
             "color": "#2a3f5f"
            },
            "marker": {
             "line": {
              "color": "#E5ECF6",
              "width": 0.5
             },
             "pattern": {
              "fillmode": "overlay",
              "size": 10,
              "solidity": 0.2
             }
            },
            "type": "bar"
           }
          ],
          "barpolar": [
           {
            "marker": {
             "line": {
              "color": "#E5ECF6",
              "width": 0.5
             },
             "pattern": {
              "fillmode": "overlay",
              "size": 10,
              "solidity": 0.2
             }
            },
            "type": "barpolar"
           }
          ],
          "carpet": [
           {
            "aaxis": {
             "endlinecolor": "#2a3f5f",
             "gridcolor": "white",
             "linecolor": "white",
             "minorgridcolor": "white",
             "startlinecolor": "#2a3f5f"
            },
            "baxis": {
             "endlinecolor": "#2a3f5f",
             "gridcolor": "white",
             "linecolor": "white",
             "minorgridcolor": "white",
             "startlinecolor": "#2a3f5f"
            },
            "type": "carpet"
           }
          ],
          "choropleth": [
           {
            "colorbar": {
             "outlinewidth": 0,
             "ticks": ""
            },
            "type": "choropleth"
           }
          ],
          "contour": [
           {
            "colorbar": {
             "outlinewidth": 0,
             "ticks": ""
            },
            "colorscale": [
             [
              0,
              "#0d0887"
             ],
             [
              0.1111111111111111,
              "#46039f"
             ],
             [
              0.2222222222222222,
              "#7201a8"
             ],
             [
              0.3333333333333333,
              "#9c179e"
             ],
             [
              0.4444444444444444,
              "#bd3786"
             ],
             [
              0.5555555555555556,
              "#d8576b"
             ],
             [
              0.6666666666666666,
              "#ed7953"
             ],
             [
              0.7777777777777778,
              "#fb9f3a"
             ],
             [
              0.8888888888888888,
              "#fdca26"
             ],
             [
              1,
              "#f0f921"
             ]
            ],
            "type": "contour"
           }
          ],
          "contourcarpet": [
           {
            "colorbar": {
             "outlinewidth": 0,
             "ticks": ""
            },
            "type": "contourcarpet"
           }
          ],
          "heatmap": [
           {
            "colorbar": {
             "outlinewidth": 0,
             "ticks": ""
            },
            "colorscale": [
             [
              0,
              "#0d0887"
             ],
             [
              0.1111111111111111,
              "#46039f"
             ],
             [
              0.2222222222222222,
              "#7201a8"
             ],
             [
              0.3333333333333333,
              "#9c179e"
             ],
             [
              0.4444444444444444,
              "#bd3786"
             ],
             [
              0.5555555555555556,
              "#d8576b"
             ],
             [
              0.6666666666666666,
              "#ed7953"
             ],
             [
              0.7777777777777778,
              "#fb9f3a"
             ],
             [
              0.8888888888888888,
              "#fdca26"
             ],
             [
              1,
              "#f0f921"
             ]
            ],
            "type": "heatmap"
           }
          ],
          "heatmapgl": [
           {
            "colorbar": {
             "outlinewidth": 0,
             "ticks": ""
            },
            "colorscale": [
             [
              0,
              "#0d0887"
             ],
             [
              0.1111111111111111,
              "#46039f"
             ],
             [
              0.2222222222222222,
              "#7201a8"
             ],
             [
              0.3333333333333333,
              "#9c179e"
             ],
             [
              0.4444444444444444,
              "#bd3786"
             ],
             [
              0.5555555555555556,
              "#d8576b"
             ],
             [
              0.6666666666666666,
              "#ed7953"
             ],
             [
              0.7777777777777778,
              "#fb9f3a"
             ],
             [
              0.8888888888888888,
              "#fdca26"
             ],
             [
              1,
              "#f0f921"
             ]
            ],
            "type": "heatmapgl"
           }
          ],
          "histogram": [
           {
            "marker": {
             "pattern": {
              "fillmode": "overlay",
              "size": 10,
              "solidity": 0.2
             }
            },
            "type": "histogram"
           }
          ],
          "histogram2d": [
           {
            "colorbar": {
             "outlinewidth": 0,
             "ticks": ""
            },
            "colorscale": [
             [
              0,
              "#0d0887"
             ],
             [
              0.1111111111111111,
              "#46039f"
             ],
             [
              0.2222222222222222,
              "#7201a8"
             ],
             [
              0.3333333333333333,
              "#9c179e"
             ],
             [
              0.4444444444444444,
              "#bd3786"
             ],
             [
              0.5555555555555556,
              "#d8576b"
             ],
             [
              0.6666666666666666,
              "#ed7953"
             ],
             [
              0.7777777777777778,
              "#fb9f3a"
             ],
             [
              0.8888888888888888,
              "#fdca26"
             ],
             [
              1,
              "#f0f921"
             ]
            ],
            "type": "histogram2d"
           }
          ],
          "histogram2dcontour": [
           {
            "colorbar": {
             "outlinewidth": 0,
             "ticks": ""
            },
            "colorscale": [
             [
              0,
              "#0d0887"
             ],
             [
              0.1111111111111111,
              "#46039f"
             ],
             [
              0.2222222222222222,
              "#7201a8"
             ],
             [
              0.3333333333333333,
              "#9c179e"
             ],
             [
              0.4444444444444444,
              "#bd3786"
             ],
             [
              0.5555555555555556,
              "#d8576b"
             ],
             [
              0.6666666666666666,
              "#ed7953"
             ],
             [
              0.7777777777777778,
              "#fb9f3a"
             ],
             [
              0.8888888888888888,
              "#fdca26"
             ],
             [
              1,
              "#f0f921"
             ]
            ],
            "type": "histogram2dcontour"
           }
          ],
          "mesh3d": [
           {
            "colorbar": {
             "outlinewidth": 0,
             "ticks": ""
            },
            "type": "mesh3d"
           }
          ],
          "parcoords": [
           {
            "line": {
             "colorbar": {
              "outlinewidth": 0,
              "ticks": ""
             }
            },
            "type": "parcoords"
           }
          ],
          "pie": [
           {
            "automargin": true,
            "type": "pie"
           }
          ],
          "scatter": [
           {
            "fillpattern": {
             "fillmode": "overlay",
             "size": 10,
             "solidity": 0.2
            },
            "type": "scatter"
           }
          ],
          "scatter3d": [
           {
            "line": {
             "colorbar": {
              "outlinewidth": 0,
              "ticks": ""
             }
            },
            "marker": {
             "colorbar": {
              "outlinewidth": 0,
              "ticks": ""
             }
            },
            "type": "scatter3d"
           }
          ],
          "scattercarpet": [
           {
            "marker": {
             "colorbar": {
              "outlinewidth": 0,
              "ticks": ""
             }
            },
            "type": "scattercarpet"
           }
          ],
          "scattergeo": [
           {
            "marker": {
             "colorbar": {
              "outlinewidth": 0,
              "ticks": ""
             }
            },
            "type": "scattergeo"
           }
          ],
          "scattergl": [
           {
            "marker": {
             "colorbar": {
              "outlinewidth": 0,
              "ticks": ""
             }
            },
            "type": "scattergl"
           }
          ],
          "scattermapbox": [
           {
            "marker": {
             "colorbar": {
              "outlinewidth": 0,
              "ticks": ""
             }
            },
            "type": "scattermapbox"
           }
          ],
          "scatterpolar": [
           {
            "marker": {
             "colorbar": {
              "outlinewidth": 0,
              "ticks": ""
             }
            },
            "type": "scatterpolar"
           }
          ],
          "scatterpolargl": [
           {
            "marker": {
             "colorbar": {
              "outlinewidth": 0,
              "ticks": ""
             }
            },
            "type": "scatterpolargl"
           }
          ],
          "scatterternary": [
           {
            "marker": {
             "colorbar": {
              "outlinewidth": 0,
              "ticks": ""
             }
            },
            "type": "scatterternary"
           }
          ],
          "surface": [
           {
            "colorbar": {
             "outlinewidth": 0,
             "ticks": ""
            },
            "colorscale": [
             [
              0,
              "#0d0887"
             ],
             [
              0.1111111111111111,
              "#46039f"
             ],
             [
              0.2222222222222222,
              "#7201a8"
             ],
             [
              0.3333333333333333,
              "#9c179e"
             ],
             [
              0.4444444444444444,
              "#bd3786"
             ],
             [
              0.5555555555555556,
              "#d8576b"
             ],
             [
              0.6666666666666666,
              "#ed7953"
             ],
             [
              0.7777777777777778,
              "#fb9f3a"
             ],
             [
              0.8888888888888888,
              "#fdca26"
             ],
             [
              1,
              "#f0f921"
             ]
            ],
            "type": "surface"
           }
          ],
          "table": [
           {
            "cells": {
             "fill": {
              "color": "#EBF0F8"
             },
             "line": {
              "color": "white"
             }
            },
            "header": {
             "fill": {
              "color": "#C8D4E3"
             },
             "line": {
              "color": "white"
             }
            },
            "type": "table"
           }
          ]
         },
         "layout": {
          "annotationdefaults": {
           "arrowcolor": "#2a3f5f",
           "arrowhead": 0,
           "arrowwidth": 1
          },
          "autotypenumbers": "strict",
          "coloraxis": {
           "colorbar": {
            "outlinewidth": 0,
            "ticks": ""
           }
          },
          "colorscale": {
           "diverging": [
            [
             0,
             "#8e0152"
            ],
            [
             0.1,
             "#c51b7d"
            ],
            [
             0.2,
             "#de77ae"
            ],
            [
             0.3,
             "#f1b6da"
            ],
            [
             0.4,
             "#fde0ef"
            ],
            [
             0.5,
             "#f7f7f7"
            ],
            [
             0.6,
             "#e6f5d0"
            ],
            [
             0.7,
             "#b8e186"
            ],
            [
             0.8,
             "#7fbc41"
            ],
            [
             0.9,
             "#4d9221"
            ],
            [
             1,
             "#276419"
            ]
           ],
           "sequential": [
            [
             0,
             "#0d0887"
            ],
            [
             0.1111111111111111,
             "#46039f"
            ],
            [
             0.2222222222222222,
             "#7201a8"
            ],
            [
             0.3333333333333333,
             "#9c179e"
            ],
            [
             0.4444444444444444,
             "#bd3786"
            ],
            [
             0.5555555555555556,
             "#d8576b"
            ],
            [
             0.6666666666666666,
             "#ed7953"
            ],
            [
             0.7777777777777778,
             "#fb9f3a"
            ],
            [
             0.8888888888888888,
             "#fdca26"
            ],
            [
             1,
             "#f0f921"
            ]
           ],
           "sequentialminus": [
            [
             0,
             "#0d0887"
            ],
            [
             0.1111111111111111,
             "#46039f"
            ],
            [
             0.2222222222222222,
             "#7201a8"
            ],
            [
             0.3333333333333333,
             "#9c179e"
            ],
            [
             0.4444444444444444,
             "#bd3786"
            ],
            [
             0.5555555555555556,
             "#d8576b"
            ],
            [
             0.6666666666666666,
             "#ed7953"
            ],
            [
             0.7777777777777778,
             "#fb9f3a"
            ],
            [
             0.8888888888888888,
             "#fdca26"
            ],
            [
             1,
             "#f0f921"
            ]
           ]
          },
          "colorway": [
           "#636efa",
           "#EF553B",
           "#00cc96",
           "#ab63fa",
           "#FFA15A",
           "#19d3f3",
           "#FF6692",
           "#B6E880",
           "#FF97FF",
           "#FECB52"
          ],
          "font": {
           "color": "#2a3f5f"
          },
          "geo": {
           "bgcolor": "white",
           "lakecolor": "white",
           "landcolor": "#E5ECF6",
           "showlakes": true,
           "showland": true,
           "subunitcolor": "white"
          },
          "hoverlabel": {
           "align": "left"
          },
          "hovermode": "closest",
          "mapbox": {
           "style": "light"
          },
          "paper_bgcolor": "white",
          "plot_bgcolor": "#E5ECF6",
          "polar": {
           "angularaxis": {
            "gridcolor": "white",
            "linecolor": "white",
            "ticks": ""
           },
           "bgcolor": "#E5ECF6",
           "radialaxis": {
            "gridcolor": "white",
            "linecolor": "white",
            "ticks": ""
           }
          },
          "scene": {
           "xaxis": {
            "backgroundcolor": "#E5ECF6",
            "gridcolor": "white",
            "gridwidth": 2,
            "linecolor": "white",
            "showbackground": true,
            "ticks": "",
            "zerolinecolor": "white"
           },
           "yaxis": {
            "backgroundcolor": "#E5ECF6",
            "gridcolor": "white",
            "gridwidth": 2,
            "linecolor": "white",
            "showbackground": true,
            "ticks": "",
            "zerolinecolor": "white"
           },
           "zaxis": {
            "backgroundcolor": "#E5ECF6",
            "gridcolor": "white",
            "gridwidth": 2,
            "linecolor": "white",
            "showbackground": true,
            "ticks": "",
            "zerolinecolor": "white"
           }
          },
          "shapedefaults": {
           "line": {
            "color": "#2a3f5f"
           }
          },
          "ternary": {
           "aaxis": {
            "gridcolor": "white",
            "linecolor": "white",
            "ticks": ""
           },
           "baxis": {
            "gridcolor": "white",
            "linecolor": "white",
            "ticks": ""
           },
           "bgcolor": "#E5ECF6",
           "caxis": {
            "gridcolor": "white",
            "linecolor": "white",
            "ticks": ""
           }
          },
          "title": {
           "x": 0.05
          },
          "xaxis": {
           "automargin": true,
           "gridcolor": "white",
           "linecolor": "white",
           "ticks": "",
           "title": {
            "standoff": 15
           },
           "zerolinecolor": "white",
           "zerolinewidth": 2
          },
          "yaxis": {
           "automargin": true,
           "gridcolor": "white",
           "linecolor": "white",
           "ticks": "",
           "title": {
            "standoff": 15
           },
           "zerolinecolor": "white",
           "zerolinewidth": 2
          }
         }
        },
        "title": {
         "text": "Residual plot of Population, total"
        },
        "xaxis": {
         "anchor": "y",
         "domain": [
          0,
          1
         ],
         "title": {
          "text": "Population, total"
         }
        },
        "yaxis": {
         "anchor": "x",
         "domain": [
          0,
          1
         ],
         "title": {
          "text": "Residuals"
         }
        }
       }
      }
     },
     "metadata": {},
     "output_type": "display_data"
    },
    {
     "data": {
      "application/vnd.plotly.v1+json": {
       "config": {
        "plotlyServerURL": "https://plot.ly"
       },
       "data": [
        {
         "hovertemplate": "GDP per capita (current US$)=%{x}<br>Residuals=%{y}<extra></extra>",
         "legendgroup": "",
         "marker": {
          "color": "#636efa",
          "symbol": "circle"
         },
         "mode": "markers",
         "name": "",
         "orientation": "v",
         "showlegend": false,
         "type": "scatter",
         "x": [
          -0.5637168812209626,
          -0.4528489715092345,
          -0.15150697000514826,
          0.0730581689789451,
          0.09854826867853043,
          0.2280907086098562,
          0.5172089797448766,
          0.609605463513413,
          0.2353327618128522,
          0.4750659007854886,
          0.7970519933763712,
          0.6889987962878231,
          0.8161363565370786,
          0.7643453158373662,
          0.4198108561070722,
          0.44538438649969514,
          0.5062101114535884,
          0.5424085531202205,
          0.4434389483292155,
          -0.6017175539869416,
          -0.33996631594419396,
          0.009183457846381695,
          0.2783221172634716,
          0.40892597993978275,
          0.5484586159313132,
          0.8388214191595017,
          0.8370419626733933,
          0.4582316099905763,
          0.3163345772613154,
          0.48122685449343494,
          0.346423081897906,
          0.47820422667893114,
          0.6696241980678449,
          0.9586027753994187,
          0.9578154304240436,
          1.2949916899262972,
          1.654449510140636,
          1.7062236949721226,
          1.9140615829165408,
          -0.7607619608599604,
          -0.5489481875905765,
          -0.3925400782664903,
          -0.3618913117593665,
          -0.29973173367195516,
          -0.12112209618291322,
          0.004741143916144359,
          -0.14756142119544594,
          -0.19701793953002184,
          -0.08745580692458055,
          -0.23600464721496173,
          -0.21497253033213545,
          -0.21484878867477708,
          -0.435215397846096,
          -0.404845073974557,
          -0.3461820767852707,
          -0.25611421535537515,
          -0.29446994810117016,
          -0.8744785189084346,
          -0.7092154239164489,
          -0.41674323274259756,
          0.3583191463000274,
          0.4587071577891107,
          0.8859741857851037,
          0.3659922738787484,
          0.6662618710535416,
          -1.2353844109376024,
          -1.2023838927658863,
          -1.1869225582316443,
          -1.177634730985363,
          -1.1664118112583572,
          -1.1543146909162894,
          -0.04534647175816724,
          0.16385559777533418,
          -0.00334280505649354,
          -1.3052874032647062,
          -1.1785373416379243,
          -1.0692325282938993,
          -1.1966458497871568,
          -1.1976832006977134,
          -1.0977332821017356,
          -1.0963826125799576,
          -1.0404800995234702,
          -1.0068631415700755,
          -1.0961551005379853,
          -1.0681607570368008,
          -0.9899710959164918,
          -0.8879213593628889,
          -0.8731625040872814,
          -1.2461229212804938,
          -1.2053901120769817,
          -1.142678844906701,
          -1.0217807705316708,
          -0.9135678399003191,
          -1.002212863816669,
          -0.9893655489313591,
          -0.9248616198505878,
          -0.9639943197391279,
          -0.9312978892201371,
          -0.9124745604901426,
          -1.008157000119832,
          -1.0001863496688508,
          -0.9587123168535356,
          -0.8795056785276485,
          -0.7006810243885513,
          -0.7026322577175761,
          -0.6365570776220976,
          -0.42190475873600336,
          -0.263493536353272,
          -0.24222347629790464,
          -0.1643292448043757,
          0.05632481170764295,
          0.2221221746171653,
          0.06192445691886069,
          0.058749439475718264,
          0.2739004680592324,
          0.15430038977043756,
          0.25637448622525416,
          0.32831843157668045,
          0.03825079235763785,
          0.08139174184973984,
          0.18679962214803827,
          0.32436504815450223,
          0.27296714849223014,
          -0.42145598292895364,
          -0.01893688089540467,
          0.2319301621989583,
          0.3264582868080609,
          0.45766002125140787,
          0.7252294187261735,
          0.9711274195965609,
          0.7162353830205241,
          0.7035726751579449,
          0.8558029587420757,
          0.7175101670377565,
          0.8380480474125941,
          0.8850030687737497,
          0.49771173469913216,
          0.5555156592761172,
          0.6796200252474005,
          0.8358775929004871,
          0.7569725911192271,
          1.0151981780589694,
          1.4612074009620775,
          1.643760013045574,
          2.0464266354824763,
          2.73200317914503,
          3.2639316212236684,
          2.8118912157624725,
          2.872132823773107,
          3.206531648703986,
          2.9419243998732574,
          3.2465935910025197,
          3.397729684575122,
          2.649285119341395,
          2.708336744697878,
          2.843669605244347,
          3.1145595456164687,
          2.9477488416482234,
          -0.9809684182981144,
          -0.9453931817773943,
          -0.8799315988534583,
          -0.7089267663993527,
          -0.555397211621681,
          -0.6770184113007292,
          -0.7251686571788457,
          -0.6589884349858284,
          -0.761640389640327,
          -0.728984537915963,
          -0.6970978536483861,
          -0.8333293849866634,
          -1.0779536745639653,
          -0.7994443121957793,
          -0.6596294409882263,
          -0.5969357671986445,
          -0.5159668961209379,
          -0.3421610688141496,
          -0.2209077481768348,
          -0.3574529326166135,
          -0.42405600440580127,
          -0.3761550775510521,
          -0.5145388702972694,
          -0.4832124288274362,
          -0.4636566046822091,
          -0.6167026782343238,
          -0.5850319321772136,
          -0.5181751375991999,
          -0.4267929558667231,
          -0.4603157798979324,
          1.4606509308915845,
          2.033606206125345,
          1.8429461314566222,
          1.9032649180016725,
          1.9616336749172827,
          1.7595521156028475,
          1.6916222058480594,
          1.6957842802550884,
          1.8175207472408041,
          -0.015146978296697608,
          0.048702373436008244,
          0.1702397741936101,
          0.45690490107817616,
          0.7094133346407689,
          0.500916941332994,
          0.424239105433617,
          0.5637675794182231,
          0.39006448532548194,
          0.4775087976852377,
          0.512634459474176,
          0.19777826650681646,
          0.23946851862154803,
          0.35061147596957226,
          0.5330890957089713,
          0.5166475934846113,
          -1.0346282371253355,
          -0.9415127034817062,
          -0.8685735118624259,
          -0.6586427866346108,
          -0.7325076374560812,
          -0.7571294598136539,
          -0.7285910602386773,
          -0.8941975132797859,
          -0.8627875494754137,
          -1.4679507685353048,
          -1.4208122584592247,
          -1.3796157482733864,
          -1.3505433638208455,
          -1.3435380886879322,
          -1.3473136262148675,
          -1.4269661059890535,
          -1.4388263997852677,
          -1.417474605207947,
          -1.407934728860416,
          -1.353200580816034,
          -1.3110905831064457,
          -1.2205511968292437,
          -1.106496149549691,
          -1.2088921850682375,
          -1.167336961965004,
          -1.1139282780007593,
          -1.1459851934181453,
          -1.097715171025467,
          -1.1715983952256015,
          -1.112051758595223,
          -0.11511266508622518,
          0.3808771428060833,
          0.6897742042743542,
          1.0709862894374373,
          1.3744995262542823,
          1.829225990191184,
          2.32230611747282,
          1.6174418774244423,
          1.9385524809830637,
          2.475073774987449,
          2.5142738346154445,
          2.5708866103740102,
          2.329009422494101,
          1.3899257966038063,
          1.2279413080492223,
          1.444235793978617,
          1.7179074980088875,
          1.4565101548243684,
          -1.2604382147986246,
          -1.2225697375788562,
          -1.0356739511943955,
          -1.1501999391427553,
          -1.096401489080318,
          -1.1452752907743142,
          -1.0088501584544725,
          -0.4242011583863663,
          -0.2280500998659598,
          -0.17133983972992348,
          -0.09346587105192576,
          0.1371913882755977,
          0.30088617800190576,
          0.16201429410256613,
          0.13218831541280876,
          0.278594414813591,
          0.15999414977103366,
          0.24588057259081267,
          0.28824744017425374,
          -0.0035417976059675337,
          0.035931048980824956,
          0.12552957469113926,
          0.26735256539150554,
          0.23569248416673774,
          0.0007354852445586749,
          -0.6776138352680967,
          -0.3644253682955254,
          -0.17937005861119537,
          -0.11596998496609674,
          -0.024561081839419793,
          0.23184438330189083,
          0.4355649562914862,
          0.2825638962703346,
          0.23135862972135154,
          0.416480552516071,
          0.2987089654120939,
          0.3831378707772918,
          0.4246186714580851,
          0.12059535573788287,
          0.16769066222909285,
          0.2540626938707477,
          0.4196515280039559,
          0.36590819830629273,
          -0.8024337791078,
          -0.515183146000582,
          -0.5886325300179734,
          -0.797335472900261,
          -0.9474666494391879,
          -0.06176454968116877,
          0.2610960675742556,
          0.6497630269734378,
          0.6784442669033611,
          1.1715868203903066,
          0.6558650798185632,
          0.013199318803805414,
          0.09273291254504666,
          0.2766947109541483,
          0.20606665318217854,
          0.3625797782553651,
          0.558630723014033,
          0.4918639378752787,
          0.8631239479312648,
          1.2748934993851138,
          -0.5217501018480446,
          -0.5371308148537087,
          -0.4479268008441479,
          -0.2685901446669417,
          -0.025190479709544657,
          0.04621226530489445,
          0.14513298104589537,
          0.3869313467289405,
          0.2636100802904176,
          -0.09186250771468932,
          -0.056741447841429656,
          0.046411672136201634,
          0.062340522575601076,
          0.10050735289078752,
          0.26539715748458376,
          0.1637009065472378,
          0.00021468821416602412,
          -0.01675835562872853,
          0.09136645129531565,
          0.0691276617643909,
          -0.7658125486104178,
          -0.7661740660812135,
          -0.6916949057137464,
          -0.4725050275373424,
          -0.30136660628134226,
          -0.25816736018572634,
          0.18426127583575547,
          -0.011717158992150164,
          0.06940064047057459,
          -0.1625263768819441,
          -1.305220176270261,
          -1.1343350280690978,
          -1.0395656662065396,
          -1.1908256083704591,
          -1.2240069191519265,
          -1.1535797483871986,
          -1.1360453807032962,
          -1.088586459458216,
          -1.0597713229481758,
          -1.1363483741999512,
          -1.1151255245162353,
          -1.0619619584593836,
          -0.9748737207497286,
          -1.3508448584100292,
          -1.1995964749441475,
          -1.1313968828644758,
          -1.0567612140967315,
          -0.9255511254419927,
          -0.7479768334384473,
          -0.8694787301002725,
          -0.8553857794340335,
          -0.7777884357001089,
          -0.8614007232290137,
          -0.8512747494282179,
          -0.8603990173813199,
          -0.9469589898094883,
          -0.9131713862045318,
          -0.8244580568541309,
          -0.7097167045748948,
          -0.33114723300296217,
          -0.1319620329673284,
          -0.07930103454388082,
          0.009614413126905901,
          0.30785537495586335,
          0.52546341883506,
          0.2669885256381085,
          0.2270509042881696,
          0.4141562922744578,
          0.2700011126968845,
          0.3578973090551158,
          0.3736233173163547,
          0.06492913143671862,
          0.10153277285052172,
          0.20974256981252015,
          0.3563868026020619,
          0.30313696591680683
         ],
         "xaxis": "x",
         "y": [
          -0.009432527924492562,
          -0.012917810495263082,
          -0.0246614393455602,
          -0.01720787951676761,
          -0.010355072483283656,
          -0.017089471243327714,
          -0.01342850209218971,
          -0.008817574969827269,
          -0.009727232613114367,
          -0.012165810848284386,
          -0.017826385941363765,
          -0.011766178614687317,
          -0.000632949914415426,
          -0.004051210349599321,
          0.009338451030700023,
          0.011039552974796418,
          -0.0002398622945832818,
          0.01125106985501928,
          0.004026920508013954,
          0.038440831875237835,
          0.028779918565084106,
          0.03431082636611127,
          0.04419807923621416,
          0.04154578713297952,
          0.02467145824260142,
          0.008266115676990315,
          -0.006000923740644759,
          0.025560696240199632,
          0.007791026860896999,
          -0.0057663220675101545,
          0.0035018274203638122,
          0.01610745606761349,
          0.004289466418007815,
          0.009767718713229234,
          0.021678079830554253,
          0.007789333756649752,
          -0.0012430776309222402,
          0.0008506000084900767,
          -0.011817937428015957,
          0.03917496593488945,
          0.03770070635280448,
          0.03529558446031317,
          0.03196040299331837,
          0.033035028798660326,
          0.02449738539249502,
          0.02578561563892956,
          0.03181245975858904,
          0.03895786963987935,
          0.037641823756612125,
          0.032118426997414184,
          0.029928841932784833,
          0.030166077948277303,
          0.04261968913347569,
          0.04139848817435238,
          0.04304855440406513,
          0.03656986827294423,
          0.0353539713866548,
          0.005163452713181194,
          0.009648957340138209,
          0.006448994350066961,
          0.018203673987608526,
          0.0045616799207800485,
          0.00299092525014949,
          0.008316479177743474,
          0.008036509401497194,
          -0.03364458928713365,
          -0.01964980656692117,
          -0.013242010616831557,
          -0.026875369677825445,
          -0.038186963652333095,
          -0.03822036055474415,
          -0.006832664301830271,
          -0.030005281643520842,
          -0.01848981383752535,
          0.0478353160451756,
          0.049585016973806906,
          0.035034052016924666,
          0.037285102446987906,
          0.005144620168266778,
          -0.00644026825937688,
          0.028335336310427783,
          0.04121757658952058,
          0.07193900232389439,
          0.06852750492392018,
          0.07983799641971018,
          0.06435589245729911,
          0.053679026341488356,
          0.05103479149888296,
          -0.06087231856524217,
          -0.01933320834605956,
          -0.053732526905725,
          -0.05579859807698073,
          -0.04523958541998707,
          -0.031021147264913673,
          -0.03276313284429294,
          -0.04693220320270186,
          -0.05150985898219729,
          -0.034303178363700615,
          -0.044126698645856055,
          -0.03410284103285066,
          -0.03923924176885485,
          -0.06153306381504625,
          -0.04750379323767273,
          -0.02800620261636594,
          -0.02553149899222945,
          -0.02786714726791062,
          -0.03120647165246737,
          -0.0351263401651577,
          -0.023920356853617708,
          -0.02982142696685286,
          -0.026877816525673892,
          -0.03325694557271136,
          -0.02699492024511352,
          -0.030298587266329446,
          -0.027373098027458187,
          -0.017664760989533734,
          -0.012808984223372233,
          -0.016121355970780682,
          -0.0015625549467864208,
          -0.0038150179225838743,
          -0.008419360976164525,
          -0.003691813146522449,
          -0.002397421200482752,
          -0.02758521458948751,
          -0.01521070908287564,
          -0.02298233946986883,
          -0.017855267766013372,
          -0.009545085632417072,
          -0.0061003496928626055,
          -0.022523750448469382,
          -0.008501974185954775,
          -0.012400202882534128,
          -0.01210734287348153,
          -0.003810982129215046,
          0.006792964907837817,
          0.005722177918067839,
          0.009884223316245666,
          0.010990838147362125,
          0.014366035063204996,
          0.011614594877866036,
          0.0086601925076783,
          0.01933946065998332,
          0.011943551643554429,
          0.01673460015666206,
          0.012336751052191897,
          0.007555415554946321,
          0.010429524802084256,
          0.006835431130199354,
          -0.0061057475480303935,
          0.00331694026646423,
          0.029277031617133464,
          0.005749957706515263,
          -0.0006937652817381457,
          0.022862031351572276,
          0.010750642081956752,
          0.03455082826550887,
          0.039086611354638534,
          0.025798114081096835,
          -0.026612641048316177,
          -0.025564418202919964,
          -0.030158947030589633,
          -0.048107942921960856,
          -0.06162340089281804,
          -0.03480698036017449,
          -0.04452826393359033,
          -0.04506213246070612,
          -0.050044515935676825,
          -0.04767456789160057,
          -0.04103935714857787,
          -0.03763550290765155,
          0.015317985770086862,
          -0.00736674575850893,
          0.0075955559936119466,
          0.004430146359318932,
          0.015398405510368529,
          0.02093358510049903,
          0.007108862141151084,
          0.00820917362747553,
          -0.002536625335544218,
          -0.00878005191556508,
          -0.019008178360499672,
          -0.01152562010891095,
          -0.0015099835638131553,
          0.009196420722032805,
          0.010589072932851828,
          -0.00006376865601775972,
          0.0063561353741436455,
          0.009460930033255988,
          -0.002219702140718538,
          -0.01467433974690191,
          -0.011034128885460515,
          -0.005180894878663578,
          -0.006889164493732891,
          -0.0036767933217888293,
          0.001575981559829076,
          -0.004713888667872035,
          -0.0026544313506245976,
          -0.009112652671278254,
          -0.01895225412877871,
          -0.00253483885372896,
          -0.010651755440150679,
          -0.018395773354568712,
          -0.027073558836680667,
          -0.027840786425380848,
          -0.030920970406617787,
          -0.032486161721446694,
          -0.03284336688256495,
          -0.02469863641592579,
          -0.023310415392256756,
          -0.022411888309167405,
          -0.01936584333808128,
          -0.022385253589046916,
          -0.011934672655313672,
          0.08099007535603459,
          0.08184550051743295,
          0.06840032417418346,
          0.05622365101942478,
          0.042850654416793255,
          0.036468731255271614,
          0.02898940608315176,
          0.043403999248509406,
          0.04512951340322735,
          0.01984230574192003,
          0.03220153082899779,
          0.020249526816706998,
          0.020238451105278554,
          0.02754935616159837,
          0.03083309038047055,
          0.009916425367627713,
          -0.0040733755521124015,
          -0.0020831805256025238,
          0.014683952098386854,
          -0.0003621748570045713,
          0.0015842192564524682,
          0.004450031490637663,
          0.0032911906335008068,
          0.0023466753792520945,
          -0.001928576991047204,
          -0.007845984638588821,
          -0.008589632403830039,
          0.005047974835196645,
          0.0018381220018390265,
          -0.01725165152521374,
          0.004671450863435345,
          0.00014566868770599095,
          0.04384861609050128,
          0.028458296563614816,
          -0.015607511280847974,
          -0.007463663970697865,
          -0.021494855599488105,
          -0.021100021881527875,
          -0.0300732584943591,
          -0.0342259463094694,
          -0.026951115588040253,
          -0.025178195464629738,
          -0.018066728593681358,
          -0.004964712004852656,
          0.002123800310631585,
          -0.009873452224928969,
          -0.007958353639112736,
          -0.0016990033946376326,
          -0.028755834440254202,
          0.024441228541759896,
          -0.05545609365033294,
          -0.024323877539072947,
          0.000408705501097395,
          0.004363959244570059,
          -0.01072068649067709,
          0.002819770827022061,
          0.02470550998018145,
          0.009883077525888684,
          -0.0003051309680384695,
          0.010399055349187392,
          -0.004325919369087272,
          0.008181733022964655,
          -0.0008166578347356679,
          -0.006635346634132455,
          -0.009227524096635353,
          -0.006759991641783369,
          -0.0005161605422298599,
          -0.0031011822708000847,
          -0.006384456874285682,
          -0.008687359004804496,
          -0.010359700674580141,
          -0.006690461780103629,
          -0.14608082194088,
          0.017183341221409187,
          0.020373675691985893,
          0.01935162547755981,
          0.0037988118976709506,
          0.01285616810018314,
          0.019648943372764016,
          0.014110594227194129,
          0.02965585612084265,
          0.01648286905897478,
          0.016499664774050238,
          0.016727439645999986,
          0.018957258831809265,
          0.017148242734861652,
          0.02257268238183824,
          0.024321061941596722,
          0.011102011709967385,
          0.023221802641645528,
          0.020633476537096296,
          0.03441414978256413,
          0.04081612199761331,
          0.021193985722476716,
          0.0019085469426661228,
          0.009480619129852708,
          0.006692506980297608,
          0.012387621359718881,
          0.01638570489854546,
          0.02167192675863505,
          0.016557138151540418,
          0.019833967382972217,
          -0.018950434241363612,
          -0.026211329979145825,
          -0.01823531170357623,
          -0.013128695955551217,
          -0.017466224569955502,
          0.011505341632982669,
          0.008293640698251836,
          0.01337502271370744,
          -0.0006336554694127416,
          0.06626245697855371,
          0.049760480974597066,
          0.02496158870571963,
          0.023863740547975743,
          0.02263836105222633,
          0.027969892043927802,
          0.027488913141247573,
          0.009346169582546748,
          0.015306171967597981,
          0.013849689508946439,
          -0.0052437525116544315,
          -0.015212446096378118,
          -0.01078428359857142,
          -0.012402746395875741,
          -0.003886787607025044,
          0.006155536317089649,
          0.00653428483495333,
          -0.001434107315461397,
          0.011849517020231792,
          0.008034266809130775,
          -0.01481000621175771,
          -0.013305900925866976,
          -0.02212711840563769,
          -0.02637288806229693,
          -0.03607236135299774,
          -0.04239472892809509,
          -0.01481659738298946,
          -0.006857251741105408,
          -0.017820247238887255,
          -0.018407792639698273,
          0.02776533722122826,
          0.03505847721748101,
          0.0007113377841737045,
          -0.015625965830907862,
          -0.013218156989363627,
          -0.005683084508408154,
          0.00007577469918085278,
          0.019153130931066797,
          0.027634359725199675,
          0.025159644271211923,
          0.029070093527369945,
          0.03403466072772898,
          0.036948161926731005,
          -0.019263787424662948,
          -0.01624378779126151,
          -0.02075873355940583,
          -0.025108927495946287,
          -0.02703190035171399,
          -0.03308897428368679,
          -0.024727187875298318,
          -0.02414917209039036,
          -0.027412995982478316,
          -0.03345828566470377,
          -0.025431170457028085,
          -0.026415757431068554,
          -0.021455907479599023,
          -0.02216772630943087,
          -0.03062448029545861,
          -0.031553259995663496,
          0.00490506530802981,
          0.007507271080077149,
          0.004701335323379241,
          0.007523601726305007,
          0.007511323739103903,
          -0.0021205498892235553,
          0.0023598977629440965,
          0.00030179015135572973,
          -0.006825977823607998,
          -0.006895851135550246,
          -0.005341269840980101,
          -0.010935672706249067,
          -0.006339001544700462,
          -0.00748744365032189,
          -0.006449405639113837,
          -0.007752799037765545,
          -0.0016303104640084665
         ],
         "yaxis": "y"
        }
       ],
       "layout": {
        "legend": {
         "tracegroupgap": 0
        },
        "template": {
         "data": {
          "bar": [
           {
            "error_x": {
             "color": "#2a3f5f"
            },
            "error_y": {
             "color": "#2a3f5f"
            },
            "marker": {
             "line": {
              "color": "#E5ECF6",
              "width": 0.5
             },
             "pattern": {
              "fillmode": "overlay",
              "size": 10,
              "solidity": 0.2
             }
            },
            "type": "bar"
           }
          ],
          "barpolar": [
           {
            "marker": {
             "line": {
              "color": "#E5ECF6",
              "width": 0.5
             },
             "pattern": {
              "fillmode": "overlay",
              "size": 10,
              "solidity": 0.2
             }
            },
            "type": "barpolar"
           }
          ],
          "carpet": [
           {
            "aaxis": {
             "endlinecolor": "#2a3f5f",
             "gridcolor": "white",
             "linecolor": "white",
             "minorgridcolor": "white",
             "startlinecolor": "#2a3f5f"
            },
            "baxis": {
             "endlinecolor": "#2a3f5f",
             "gridcolor": "white",
             "linecolor": "white",
             "minorgridcolor": "white",
             "startlinecolor": "#2a3f5f"
            },
            "type": "carpet"
           }
          ],
          "choropleth": [
           {
            "colorbar": {
             "outlinewidth": 0,
             "ticks": ""
            },
            "type": "choropleth"
           }
          ],
          "contour": [
           {
            "colorbar": {
             "outlinewidth": 0,
             "ticks": ""
            },
            "colorscale": [
             [
              0,
              "#0d0887"
             ],
             [
              0.1111111111111111,
              "#46039f"
             ],
             [
              0.2222222222222222,
              "#7201a8"
             ],
             [
              0.3333333333333333,
              "#9c179e"
             ],
             [
              0.4444444444444444,
              "#bd3786"
             ],
             [
              0.5555555555555556,
              "#d8576b"
             ],
             [
              0.6666666666666666,
              "#ed7953"
             ],
             [
              0.7777777777777778,
              "#fb9f3a"
             ],
             [
              0.8888888888888888,
              "#fdca26"
             ],
             [
              1,
              "#f0f921"
             ]
            ],
            "type": "contour"
           }
          ],
          "contourcarpet": [
           {
            "colorbar": {
             "outlinewidth": 0,
             "ticks": ""
            },
            "type": "contourcarpet"
           }
          ],
          "heatmap": [
           {
            "colorbar": {
             "outlinewidth": 0,
             "ticks": ""
            },
            "colorscale": [
             [
              0,
              "#0d0887"
             ],
             [
              0.1111111111111111,
              "#46039f"
             ],
             [
              0.2222222222222222,
              "#7201a8"
             ],
             [
              0.3333333333333333,
              "#9c179e"
             ],
             [
              0.4444444444444444,
              "#bd3786"
             ],
             [
              0.5555555555555556,
              "#d8576b"
             ],
             [
              0.6666666666666666,
              "#ed7953"
             ],
             [
              0.7777777777777778,
              "#fb9f3a"
             ],
             [
              0.8888888888888888,
              "#fdca26"
             ],
             [
              1,
              "#f0f921"
             ]
            ],
            "type": "heatmap"
           }
          ],
          "heatmapgl": [
           {
            "colorbar": {
             "outlinewidth": 0,
             "ticks": ""
            },
            "colorscale": [
             [
              0,
              "#0d0887"
             ],
             [
              0.1111111111111111,
              "#46039f"
             ],
             [
              0.2222222222222222,
              "#7201a8"
             ],
             [
              0.3333333333333333,
              "#9c179e"
             ],
             [
              0.4444444444444444,
              "#bd3786"
             ],
             [
              0.5555555555555556,
              "#d8576b"
             ],
             [
              0.6666666666666666,
              "#ed7953"
             ],
             [
              0.7777777777777778,
              "#fb9f3a"
             ],
             [
              0.8888888888888888,
              "#fdca26"
             ],
             [
              1,
              "#f0f921"
             ]
            ],
            "type": "heatmapgl"
           }
          ],
          "histogram": [
           {
            "marker": {
             "pattern": {
              "fillmode": "overlay",
              "size": 10,
              "solidity": 0.2
             }
            },
            "type": "histogram"
           }
          ],
          "histogram2d": [
           {
            "colorbar": {
             "outlinewidth": 0,
             "ticks": ""
            },
            "colorscale": [
             [
              0,
              "#0d0887"
             ],
             [
              0.1111111111111111,
              "#46039f"
             ],
             [
              0.2222222222222222,
              "#7201a8"
             ],
             [
              0.3333333333333333,
              "#9c179e"
             ],
             [
              0.4444444444444444,
              "#bd3786"
             ],
             [
              0.5555555555555556,
              "#d8576b"
             ],
             [
              0.6666666666666666,
              "#ed7953"
             ],
             [
              0.7777777777777778,
              "#fb9f3a"
             ],
             [
              0.8888888888888888,
              "#fdca26"
             ],
             [
              1,
              "#f0f921"
             ]
            ],
            "type": "histogram2d"
           }
          ],
          "histogram2dcontour": [
           {
            "colorbar": {
             "outlinewidth": 0,
             "ticks": ""
            },
            "colorscale": [
             [
              0,
              "#0d0887"
             ],
             [
              0.1111111111111111,
              "#46039f"
             ],
             [
              0.2222222222222222,
              "#7201a8"
             ],
             [
              0.3333333333333333,
              "#9c179e"
             ],
             [
              0.4444444444444444,
              "#bd3786"
             ],
             [
              0.5555555555555556,
              "#d8576b"
             ],
             [
              0.6666666666666666,
              "#ed7953"
             ],
             [
              0.7777777777777778,
              "#fb9f3a"
             ],
             [
              0.8888888888888888,
              "#fdca26"
             ],
             [
              1,
              "#f0f921"
             ]
            ],
            "type": "histogram2dcontour"
           }
          ],
          "mesh3d": [
           {
            "colorbar": {
             "outlinewidth": 0,
             "ticks": ""
            },
            "type": "mesh3d"
           }
          ],
          "parcoords": [
           {
            "line": {
             "colorbar": {
              "outlinewidth": 0,
              "ticks": ""
             }
            },
            "type": "parcoords"
           }
          ],
          "pie": [
           {
            "automargin": true,
            "type": "pie"
           }
          ],
          "scatter": [
           {
            "fillpattern": {
             "fillmode": "overlay",
             "size": 10,
             "solidity": 0.2
            },
            "type": "scatter"
           }
          ],
          "scatter3d": [
           {
            "line": {
             "colorbar": {
              "outlinewidth": 0,
              "ticks": ""
             }
            },
            "marker": {
             "colorbar": {
              "outlinewidth": 0,
              "ticks": ""
             }
            },
            "type": "scatter3d"
           }
          ],
          "scattercarpet": [
           {
            "marker": {
             "colorbar": {
              "outlinewidth": 0,
              "ticks": ""
             }
            },
            "type": "scattercarpet"
           }
          ],
          "scattergeo": [
           {
            "marker": {
             "colorbar": {
              "outlinewidth": 0,
              "ticks": ""
             }
            },
            "type": "scattergeo"
           }
          ],
          "scattergl": [
           {
            "marker": {
             "colorbar": {
              "outlinewidth": 0,
              "ticks": ""
             }
            },
            "type": "scattergl"
           }
          ],
          "scattermapbox": [
           {
            "marker": {
             "colorbar": {
              "outlinewidth": 0,
              "ticks": ""
             }
            },
            "type": "scattermapbox"
           }
          ],
          "scatterpolar": [
           {
            "marker": {
             "colorbar": {
              "outlinewidth": 0,
              "ticks": ""
             }
            },
            "type": "scatterpolar"
           }
          ],
          "scatterpolargl": [
           {
            "marker": {
             "colorbar": {
              "outlinewidth": 0,
              "ticks": ""
             }
            },
            "type": "scatterpolargl"
           }
          ],
          "scatterternary": [
           {
            "marker": {
             "colorbar": {
              "outlinewidth": 0,
              "ticks": ""
             }
            },
            "type": "scatterternary"
           }
          ],
          "surface": [
           {
            "colorbar": {
             "outlinewidth": 0,
             "ticks": ""
            },
            "colorscale": [
             [
              0,
              "#0d0887"
             ],
             [
              0.1111111111111111,
              "#46039f"
             ],
             [
              0.2222222222222222,
              "#7201a8"
             ],
             [
              0.3333333333333333,
              "#9c179e"
             ],
             [
              0.4444444444444444,
              "#bd3786"
             ],
             [
              0.5555555555555556,
              "#d8576b"
             ],
             [
              0.6666666666666666,
              "#ed7953"
             ],
             [
              0.7777777777777778,
              "#fb9f3a"
             ],
             [
              0.8888888888888888,
              "#fdca26"
             ],
             [
              1,
              "#f0f921"
             ]
            ],
            "type": "surface"
           }
          ],
          "table": [
           {
            "cells": {
             "fill": {
              "color": "#EBF0F8"
             },
             "line": {
              "color": "white"
             }
            },
            "header": {
             "fill": {
              "color": "#C8D4E3"
             },
             "line": {
              "color": "white"
             }
            },
            "type": "table"
           }
          ]
         },
         "layout": {
          "annotationdefaults": {
           "arrowcolor": "#2a3f5f",
           "arrowhead": 0,
           "arrowwidth": 1
          },
          "autotypenumbers": "strict",
          "coloraxis": {
           "colorbar": {
            "outlinewidth": 0,
            "ticks": ""
           }
          },
          "colorscale": {
           "diverging": [
            [
             0,
             "#8e0152"
            ],
            [
             0.1,
             "#c51b7d"
            ],
            [
             0.2,
             "#de77ae"
            ],
            [
             0.3,
             "#f1b6da"
            ],
            [
             0.4,
             "#fde0ef"
            ],
            [
             0.5,
             "#f7f7f7"
            ],
            [
             0.6,
             "#e6f5d0"
            ],
            [
             0.7,
             "#b8e186"
            ],
            [
             0.8,
             "#7fbc41"
            ],
            [
             0.9,
             "#4d9221"
            ],
            [
             1,
             "#276419"
            ]
           ],
           "sequential": [
            [
             0,
             "#0d0887"
            ],
            [
             0.1111111111111111,
             "#46039f"
            ],
            [
             0.2222222222222222,
             "#7201a8"
            ],
            [
             0.3333333333333333,
             "#9c179e"
            ],
            [
             0.4444444444444444,
             "#bd3786"
            ],
            [
             0.5555555555555556,
             "#d8576b"
            ],
            [
             0.6666666666666666,
             "#ed7953"
            ],
            [
             0.7777777777777778,
             "#fb9f3a"
            ],
            [
             0.8888888888888888,
             "#fdca26"
            ],
            [
             1,
             "#f0f921"
            ]
           ],
           "sequentialminus": [
            [
             0,
             "#0d0887"
            ],
            [
             0.1111111111111111,
             "#46039f"
            ],
            [
             0.2222222222222222,
             "#7201a8"
            ],
            [
             0.3333333333333333,
             "#9c179e"
            ],
            [
             0.4444444444444444,
             "#bd3786"
            ],
            [
             0.5555555555555556,
             "#d8576b"
            ],
            [
             0.6666666666666666,
             "#ed7953"
            ],
            [
             0.7777777777777778,
             "#fb9f3a"
            ],
            [
             0.8888888888888888,
             "#fdca26"
            ],
            [
             1,
             "#f0f921"
            ]
           ]
          },
          "colorway": [
           "#636efa",
           "#EF553B",
           "#00cc96",
           "#ab63fa",
           "#FFA15A",
           "#19d3f3",
           "#FF6692",
           "#B6E880",
           "#FF97FF",
           "#FECB52"
          ],
          "font": {
           "color": "#2a3f5f"
          },
          "geo": {
           "bgcolor": "white",
           "lakecolor": "white",
           "landcolor": "#E5ECF6",
           "showlakes": true,
           "showland": true,
           "subunitcolor": "white"
          },
          "hoverlabel": {
           "align": "left"
          },
          "hovermode": "closest",
          "mapbox": {
           "style": "light"
          },
          "paper_bgcolor": "white",
          "plot_bgcolor": "#E5ECF6",
          "polar": {
           "angularaxis": {
            "gridcolor": "white",
            "linecolor": "white",
            "ticks": ""
           },
           "bgcolor": "#E5ECF6",
           "radialaxis": {
            "gridcolor": "white",
            "linecolor": "white",
            "ticks": ""
           }
          },
          "scene": {
           "xaxis": {
            "backgroundcolor": "#E5ECF6",
            "gridcolor": "white",
            "gridwidth": 2,
            "linecolor": "white",
            "showbackground": true,
            "ticks": "",
            "zerolinecolor": "white"
           },
           "yaxis": {
            "backgroundcolor": "#E5ECF6",
            "gridcolor": "white",
            "gridwidth": 2,
            "linecolor": "white",
            "showbackground": true,
            "ticks": "",
            "zerolinecolor": "white"
           },
           "zaxis": {
            "backgroundcolor": "#E5ECF6",
            "gridcolor": "white",
            "gridwidth": 2,
            "linecolor": "white",
            "showbackground": true,
            "ticks": "",
            "zerolinecolor": "white"
           }
          },
          "shapedefaults": {
           "line": {
            "color": "#2a3f5f"
           }
          },
          "ternary": {
           "aaxis": {
            "gridcolor": "white",
            "linecolor": "white",
            "ticks": ""
           },
           "baxis": {
            "gridcolor": "white",
            "linecolor": "white",
            "ticks": ""
           },
           "bgcolor": "#E5ECF6",
           "caxis": {
            "gridcolor": "white",
            "linecolor": "white",
            "ticks": ""
           }
          },
          "title": {
           "x": 0.05
          },
          "xaxis": {
           "automargin": true,
           "gridcolor": "white",
           "linecolor": "white",
           "ticks": "",
           "title": {
            "standoff": 15
           },
           "zerolinecolor": "white",
           "zerolinewidth": 2
          },
          "yaxis": {
           "automargin": true,
           "gridcolor": "white",
           "linecolor": "white",
           "ticks": "",
           "title": {
            "standoff": 15
           },
           "zerolinecolor": "white",
           "zerolinewidth": 2
          }
         }
        },
        "title": {
         "text": "Residual plot of GDP per capita (current US$)"
        },
        "xaxis": {
         "anchor": "y",
         "domain": [
          0,
          1
         ],
         "title": {
          "text": "GDP per capita (current US$)"
         }
        },
        "yaxis": {
         "anchor": "x",
         "domain": [
          0,
          1
         ],
         "title": {
          "text": "Residuals"
         }
        }
       }
      }
     },
     "metadata": {},
     "output_type": "display_data"
    },
    {
     "data": {
      "application/vnd.plotly.v1+json": {
       "config": {
        "plotlyServerURL": "https://plot.ly"
       },
       "data": [
        {
         "hovertemplate": "Inflation, consumer prices (annual %)=%{x}<br>Residuals=%{y}<extra></extra>",
         "legendgroup": "",
         "marker": {
          "color": "#636efa",
          "symbol": "circle"
         },
         "mode": "markers",
         "name": "",
         "orientation": "v",
         "showlegend": false,
         "type": "scatter",
         "x": [
          0.1764161081527846,
          0.046811197626389925,
          -0.07512171638744676,
          -0.8879119403064757,
          -0.8462714960903683,
          -0.3712466966618889,
          0.07492727341831665,
          0.7164050981404018,
          -1.3425522683588265,
          -0.47715412320366213,
          0.46717400443050533,
          -0.6183509193659857,
          -1.1067965598556484,
          -1.1776778976551792,
          -1.1081015186647973,
          -0.5681317879925151,
          -0.14380913133239084,
          -0.06052080265059068,
          -0.14922848477153317,
          1.8374427529077384,
          1.3402213124173556,
          0.745297980684349,
          0.05731880474597066,
          0.20290968311539553,
          0.977583858321898,
          1.4750968274993355,
          1.029916392692586,
          -3.412809480411458,
          -1.5645661927878747,
          0.25131659872322243,
          -0.19605298670912757,
          -0.8138390655332322,
          -0.9836158720914382,
          -1.2569258484244066,
          -1.0730605653368201,
          -0.8939276477585445,
          -0.8368657991248386,
          -0.5924455368275185,
          -1.2544245567506918,
          0.20750586924129785,
          0.31603480157511393,
          0.0720823841393197,
          -0.043889095431560644,
          0.011388615570262156,
          -0.12535262552616808,
          0.6696818209370841,
          -0.6778488937991795,
          -0.28467730437742755,
          0.37263553998607596,
          0.5091818655534351,
          -0.4446814912229949,
          -0.9573619225965775,
          -1.0632852546553424,
          -1.1328371804473238,
          -0.44125658458547795,
          -0.487890312386085,
          -0.763486011286185,
          1.2244456272270572,
          0.3474783726216137,
          0.14357807509048326,
          1.194679816279912,
          0.444753754313334,
          0.21934138260602443,
          -0.414831515335007,
          -0.08258684141374628,
          1.283135128422135,
          -0.6635968098077274,
          -1.0927538297344244,
          -0.23210192762672657,
          0.07961223749517361,
          0.014113169139008822,
          -0.3608436978524611,
          -1.4649857809871567,
          -0.9081384910804503,
          0.8746016260034658,
          1.9209954874013104,
          4.638357855888544,
          1.2484885777635164,
          -0.39271922345429994,
          1.079452369492786,
          0.5346441839797736,
          -0.5350282307605178,
          -1.0292612916929833,
          -1.5466076457594717,
          -0.6093706253579209,
          0.8661011262602861,
          0.3293224226786244,
          0.13899781878230968,
          2.8695993348441773,
          0.3351654972347537,
          1.2643498892342746,
          0.3601142335139003,
          1.3244968320388675,
          -0.23775915733718403,
          -0.5824033737112919,
          0.9689557150668,
          0.8049395391644374,
          -0.3501627927945978,
          -1.123488323324667,
          -1.2539197696980928,
          -1.3559327884819605,
          -0.3965253856380919,
          0.233017677329407,
          -0.32932204891011146,
          -0.04464096623170586,
          -0.33951454717507995,
          -0.5419711050862459,
          -0.21124267643686084,
          -0.2734725365189982,
          -0.2574914839537076,
          0.12005777602373749,
          0.29289969206113675,
          -0.9198165736540549,
          -0.5055273131408978,
          0.0031815720710993505,
          -0.03174127021531291,
          -0.29556658739312186,
          -0.608706081034016,
          -0.8141917021754058,
          -0.8260689104781299,
          -0.2930676961358469,
          -0.1764518911671904,
          -0.3264985469927149,
          0.4368677839684869,
          0.003132013251982598,
          -0.47905575192415295,
          -0.13159863221164142,
          -0.07587269287636825,
          -0.19682561339586002,
          0.7055218666684655,
          -0.4003149115849015,
          0.12664619442701935,
          0.3611399359093973,
          0.1722036824511203,
          -0.6703579792502483,
          -0.788218788170046,
          -0.8468667927448509,
          -0.9526734029320106,
          -0.4828394069552181,
          -0.6575074315789041,
          -0.6865615686992403,
          -0.010085240792733553,
          0.08200272172935205,
          0.21922299681609553,
          0.3127665679102301,
          0.1274496902176896,
          0.697986613217872,
          -0.890854035126465,
          0.10714061108960637,
          0.7025972107176899,
          0.31094758281568313,
          -0.17547212129750217,
          -0.7544274372159036,
          -0.8349739365795106,
          -0.9312887186907829,
          -0.177168953573255,
          -0.2832741783164122,
          -0.17061153723038341,
          0.798065004162532,
          0.20026726611069656,
          0.20363109551277667,
          0.8318543887843394,
          1.8739928126260708,
          -0.6440729029407215,
          -0.14031539341872248,
          -0.13943478187251113,
          0.2766826179981076,
          -0.15705795807768785,
          -0.9792023728990794,
          -1.3588352170918907,
          0.7145545957829329,
          0.5078857241472048,
          0.5080744768618539,
          0.6806699770423353,
          0.7575300257562084,
          0.37586404909409127,
          1.0506839813663202,
          -1.234329638986284,
          -0.14099916778101593,
          0.590219461345456,
          0.1974531292125756,
          -0.34591689313592305,
          -1.1627398717892001,
          -1.3456448422400467,
          -1.1897019415608097,
          -0.05919004734776574,
          -0.20640132249147025,
          -0.7172573599047904,
          -0.7231649202497008,
          -0.9624409451010393,
          -1.4462940712129133,
          -1.197413601563251,
          -1.090514297202151,
          -1.6826725086762846,
          -1.31121268361988,
          -0.8040518515969094,
          -0.5932350229244661,
          -0.42181962155344127,
          -0.1995152045017823,
          -0.50673671534262,
          -0.23841171799168923,
          0.21859734096515576,
          -0.46050609778612367,
          -0.4157140914923254,
          0.14243375149485582,
          0.20238635551642692,
          0.22927914454805895,
          -0.5724440740965102,
          -0.7692461530796103,
          -0.9177596327421869,
          -0.36012106009664746,
          -0.19146700330557115,
          0.2956854370606493,
          0.6022065903174549,
          0.15515555956935045,
          0.5439047236391938,
          0.2720178150985123,
          -1.5211725885059002,
          -0.3490634231161147,
          0.8295057594341297,
          -0.8280633864177268,
          -0.7655022129738098,
          1.117285447095319,
          0.10626244040998906,
          0.7048753536411316,
          0.5761841257619664,
          -0.027287986388729535,
          0.4345403510055383,
          1.5296072341603555,
          2.851248324386801,
          1.1758340825556841,
          0.6879142638534129,
          0.06006966066292331,
          -0.41079740444404217,
          0.2040598445860792,
          1.0976230537692682,
          0.9040718423676899,
          0.2679261617493062,
          1.1366023025966525,
          0.7809898528935162,
          -1.0554134667171684,
          -1.431743048734357,
          0.0035810027341321403,
          0.5322997177260532,
          0.21929049367567463,
          -0.845576197271576,
          -0.2812115951365491,
          0.13629571695638226,
          -0.7104124737943719,
          0.8823581269729072,
          0.06718533734178912,
          0.18319708854174058,
          -0.4106624743690873,
          -0.7186477395081817,
          0.026912478867130468,
          -0.014346870691603156,
          0.053438451627487636,
          0.7755582214630669,
          -0.1015975720197374,
          0.3643602519002757,
          0.05165438196985986,
          2.448458570434208,
          0.7815898094213914,
          2.0809033710915044,
          1.8764654224919957,
          -1.202777988467264,
          -0.8768567683692462,
          0.4090934749129584,
          -0.2514491822609165,
          0.014760867991864202,
          0.37305445699864065,
          -0.14553283077476797,
          -0.12885351048437332,
          1.2675513076997156,
          -1.1114327789387086,
          0.06295029825135535,
          0.7661745036048675,
          0.40355030736241704,
          -0.5006644032741558,
          -0.9055383293282102,
          -0.7895759148682799,
          -0.049880475800672466,
          0.02978482941365065,
          -0.008344077273693495,
          -0.33112821709466805,
          -0.9477427190884783,
          0.14442000079982711,
          -0.3736876810230012,
          -0.004132857736941138,
          0.12047352014776616,
          -0.3286516395866307,
          0.052086573396761406,
          0.6006142215639977,
          -0.818442790314829,
          -0.1338401973132486,
          0.6376029955089074,
          0.21816457022929472,
          -0.036105148717996444,
          -0.24262586337196493,
          -0.6140639474255848,
          -0.6166675978138214,
          0.006374232020613474,
          -0.03703543732010272,
          -0.2818599619514667,
          0.4345457085048881,
          0.43253211315167894,
          1.3846232222937191,
          -1.5660748912759457,
          -1.5160004400113263,
          -0.0070357017763553785,
          0.5703664553644007,
          1.0044430329287546,
          2.418467082699891,
          1.561933652948122,
          5.564537426452429,
          5.2025177139711225,
          1.7427034164677129,
          1.011763830136585,
          1.6322897123521551,
          0.9443379699791923,
          -0.012821864274228479,
          -0.22835813178480074,
          -0.1949079268544892,
          -0.16165885998096413,
          -0.4640781054226068,
          -0.28109851294462496,
          -0.28735531015225807,
          -0.3627177693028322,
          -0.3554397243458809,
          0.010494428592299782,
          0.2024460640739582,
          0.16625785922855568,
          0.7605846987736448,
          -0.056228276281565424,
          0.2218195721512801,
          0.9358713157750351,
          0.2640198838209167,
          0.11656080913056069,
          -0.32363890284746694,
          -0.8908514980633392,
          -0.5554852574576964,
          0.2559134191084079,
          0.11717524092698597,
          -0.17334327213718692,
          -0.2058888659035613,
          -0.2274546260740832,
          -0.07629642247372503,
          0.01538359649586568,
          0.038226343462880945,
          -0.16927681490436775,
          0.3895141938789508,
          -0.28174104773656683,
          -0.6312665751180397,
          -0.9875863730079167,
          2.3394502517757125,
          4.202158457815052,
          6.98269540397011,
          0.7672348110791912,
          -1.6516309956916142,
          1.2053828330195837,
          0.09881898075345222,
          -1.0990257015301061,
          -0.7586450287068002,
          -0.9923482363745036,
          -1.0099494423146131,
          0.45105032898355163,
          0.2437102532123152,
          -0.0869964371119626,
          0.361886509032302,
          -0.1110257063004453,
          0.24346847966754095,
          0.41059988861863245,
          2.2464738590652247,
          -0.5497454414007565,
          -0.31232311786003925,
          -0.07953981619073336,
          0.6381497018658955,
          -0.33035402045320994,
          -0.9034509626411531,
          -0.921583799878405,
          -0.7256444077899756,
          0.19976066456624858,
          0.042104549218251755,
          -0.6240787611295424,
          -0.985603778178873,
          -0.7568729035117656,
          -0.26312793928667766,
          0.23125201302777507,
          1.0457664784396046,
          -1.083600521571422,
          -0.463460660925895,
          0.7058044587078219,
          0.38714404280880055,
          -0.309411893798469,
          -0.538318762232818,
          -1.192493737128041,
          -0.8968020307278345,
          -0.688717420040465,
          -0.5159958896611614,
          -0.5472753394634533
         ],
         "xaxis": "x",
         "y": [
          -0.009432527924492562,
          -0.012917810495263082,
          -0.0246614393455602,
          -0.01720787951676761,
          -0.010355072483283656,
          -0.017089471243327714,
          -0.01342850209218971,
          -0.008817574969827269,
          -0.009727232613114367,
          -0.012165810848284386,
          -0.017826385941363765,
          -0.011766178614687317,
          -0.000632949914415426,
          -0.004051210349599321,
          0.009338451030700023,
          0.011039552974796418,
          -0.0002398622945832818,
          0.01125106985501928,
          0.004026920508013954,
          0.038440831875237835,
          0.028779918565084106,
          0.03431082636611127,
          0.04419807923621416,
          0.04154578713297952,
          0.02467145824260142,
          0.008266115676990315,
          -0.006000923740644759,
          0.025560696240199632,
          0.007791026860896999,
          -0.0057663220675101545,
          0.0035018274203638122,
          0.01610745606761349,
          0.004289466418007815,
          0.009767718713229234,
          0.021678079830554253,
          0.007789333756649752,
          -0.0012430776309222402,
          0.0008506000084900767,
          -0.011817937428015957,
          0.03917496593488945,
          0.03770070635280448,
          0.03529558446031317,
          0.03196040299331837,
          0.033035028798660326,
          0.02449738539249502,
          0.02578561563892956,
          0.03181245975858904,
          0.03895786963987935,
          0.037641823756612125,
          0.032118426997414184,
          0.029928841932784833,
          0.030166077948277303,
          0.04261968913347569,
          0.04139848817435238,
          0.04304855440406513,
          0.03656986827294423,
          0.0353539713866548,
          0.005163452713181194,
          0.009648957340138209,
          0.006448994350066961,
          0.018203673987608526,
          0.0045616799207800485,
          0.00299092525014949,
          0.008316479177743474,
          0.008036509401497194,
          -0.03364458928713365,
          -0.01964980656692117,
          -0.013242010616831557,
          -0.026875369677825445,
          -0.038186963652333095,
          -0.03822036055474415,
          -0.006832664301830271,
          -0.030005281643520842,
          -0.01848981383752535,
          0.0478353160451756,
          0.049585016973806906,
          0.035034052016924666,
          0.037285102446987906,
          0.005144620168266778,
          -0.00644026825937688,
          0.028335336310427783,
          0.04121757658952058,
          0.07193900232389439,
          0.06852750492392018,
          0.07983799641971018,
          0.06435589245729911,
          0.053679026341488356,
          0.05103479149888296,
          -0.06087231856524217,
          -0.01933320834605956,
          -0.053732526905725,
          -0.05579859807698073,
          -0.04523958541998707,
          -0.031021147264913673,
          -0.03276313284429294,
          -0.04693220320270186,
          -0.05150985898219729,
          -0.034303178363700615,
          -0.044126698645856055,
          -0.03410284103285066,
          -0.03923924176885485,
          -0.06153306381504625,
          -0.04750379323767273,
          -0.02800620261636594,
          -0.02553149899222945,
          -0.02786714726791062,
          -0.03120647165246737,
          -0.0351263401651577,
          -0.023920356853617708,
          -0.02982142696685286,
          -0.026877816525673892,
          -0.03325694557271136,
          -0.02699492024511352,
          -0.030298587266329446,
          -0.027373098027458187,
          -0.017664760989533734,
          -0.012808984223372233,
          -0.016121355970780682,
          -0.0015625549467864208,
          -0.0038150179225838743,
          -0.008419360976164525,
          -0.003691813146522449,
          -0.002397421200482752,
          -0.02758521458948751,
          -0.01521070908287564,
          -0.02298233946986883,
          -0.017855267766013372,
          -0.009545085632417072,
          -0.0061003496928626055,
          -0.022523750448469382,
          -0.008501974185954775,
          -0.012400202882534128,
          -0.01210734287348153,
          -0.003810982129215046,
          0.006792964907837817,
          0.005722177918067839,
          0.009884223316245666,
          0.010990838147362125,
          0.014366035063204996,
          0.011614594877866036,
          0.0086601925076783,
          0.01933946065998332,
          0.011943551643554429,
          0.01673460015666206,
          0.012336751052191897,
          0.007555415554946321,
          0.010429524802084256,
          0.006835431130199354,
          -0.0061057475480303935,
          0.00331694026646423,
          0.029277031617133464,
          0.005749957706515263,
          -0.0006937652817381457,
          0.022862031351572276,
          0.010750642081956752,
          0.03455082826550887,
          0.039086611354638534,
          0.025798114081096835,
          -0.026612641048316177,
          -0.025564418202919964,
          -0.030158947030589633,
          -0.048107942921960856,
          -0.06162340089281804,
          -0.03480698036017449,
          -0.04452826393359033,
          -0.04506213246070612,
          -0.050044515935676825,
          -0.04767456789160057,
          -0.04103935714857787,
          -0.03763550290765155,
          0.015317985770086862,
          -0.00736674575850893,
          0.0075955559936119466,
          0.004430146359318932,
          0.015398405510368529,
          0.02093358510049903,
          0.007108862141151084,
          0.00820917362747553,
          -0.002536625335544218,
          -0.00878005191556508,
          -0.019008178360499672,
          -0.01152562010891095,
          -0.0015099835638131553,
          0.009196420722032805,
          0.010589072932851828,
          -0.00006376865601775972,
          0.0063561353741436455,
          0.009460930033255988,
          -0.002219702140718538,
          -0.01467433974690191,
          -0.011034128885460515,
          -0.005180894878663578,
          -0.006889164493732891,
          -0.0036767933217888293,
          0.001575981559829076,
          -0.004713888667872035,
          -0.0026544313506245976,
          -0.009112652671278254,
          -0.01895225412877871,
          -0.00253483885372896,
          -0.010651755440150679,
          -0.018395773354568712,
          -0.027073558836680667,
          -0.027840786425380848,
          -0.030920970406617787,
          -0.032486161721446694,
          -0.03284336688256495,
          -0.02469863641592579,
          -0.023310415392256756,
          -0.022411888309167405,
          -0.01936584333808128,
          -0.022385253589046916,
          -0.011934672655313672,
          0.08099007535603459,
          0.08184550051743295,
          0.06840032417418346,
          0.05622365101942478,
          0.042850654416793255,
          0.036468731255271614,
          0.02898940608315176,
          0.043403999248509406,
          0.04512951340322735,
          0.01984230574192003,
          0.03220153082899779,
          0.020249526816706998,
          0.020238451105278554,
          0.02754935616159837,
          0.03083309038047055,
          0.009916425367627713,
          -0.0040733755521124015,
          -0.0020831805256025238,
          0.014683952098386854,
          -0.0003621748570045713,
          0.0015842192564524682,
          0.004450031490637663,
          0.0032911906335008068,
          0.0023466753792520945,
          -0.001928576991047204,
          -0.007845984638588821,
          -0.008589632403830039,
          0.005047974835196645,
          0.0018381220018390265,
          -0.01725165152521374,
          0.004671450863435345,
          0.00014566868770599095,
          0.04384861609050128,
          0.028458296563614816,
          -0.015607511280847974,
          -0.007463663970697865,
          -0.021494855599488105,
          -0.021100021881527875,
          -0.0300732584943591,
          -0.0342259463094694,
          -0.026951115588040253,
          -0.025178195464629738,
          -0.018066728593681358,
          -0.004964712004852656,
          0.002123800310631585,
          -0.009873452224928969,
          -0.007958353639112736,
          -0.0016990033946376326,
          -0.028755834440254202,
          0.024441228541759896,
          -0.05545609365033294,
          -0.024323877539072947,
          0.000408705501097395,
          0.004363959244570059,
          -0.01072068649067709,
          0.002819770827022061,
          0.02470550998018145,
          0.009883077525888684,
          -0.0003051309680384695,
          0.010399055349187392,
          -0.004325919369087272,
          0.008181733022964655,
          -0.0008166578347356679,
          -0.006635346634132455,
          -0.009227524096635353,
          -0.006759991641783369,
          -0.0005161605422298599,
          -0.0031011822708000847,
          -0.006384456874285682,
          -0.008687359004804496,
          -0.010359700674580141,
          -0.006690461780103629,
          -0.14608082194088,
          0.017183341221409187,
          0.020373675691985893,
          0.01935162547755981,
          0.0037988118976709506,
          0.01285616810018314,
          0.019648943372764016,
          0.014110594227194129,
          0.02965585612084265,
          0.01648286905897478,
          0.016499664774050238,
          0.016727439645999986,
          0.018957258831809265,
          0.017148242734861652,
          0.02257268238183824,
          0.024321061941596722,
          0.011102011709967385,
          0.023221802641645528,
          0.020633476537096296,
          0.03441414978256413,
          0.04081612199761331,
          0.021193985722476716,
          0.0019085469426661228,
          0.009480619129852708,
          0.006692506980297608,
          0.012387621359718881,
          0.01638570489854546,
          0.02167192675863505,
          0.016557138151540418,
          0.019833967382972217,
          -0.018950434241363612,
          -0.026211329979145825,
          -0.01823531170357623,
          -0.013128695955551217,
          -0.017466224569955502,
          0.011505341632982669,
          0.008293640698251836,
          0.01337502271370744,
          -0.0006336554694127416,
          0.06626245697855371,
          0.049760480974597066,
          0.02496158870571963,
          0.023863740547975743,
          0.02263836105222633,
          0.027969892043927802,
          0.027488913141247573,
          0.009346169582546748,
          0.015306171967597981,
          0.013849689508946439,
          -0.0052437525116544315,
          -0.015212446096378118,
          -0.01078428359857142,
          -0.012402746395875741,
          -0.003886787607025044,
          0.006155536317089649,
          0.00653428483495333,
          -0.001434107315461397,
          0.011849517020231792,
          0.008034266809130775,
          -0.01481000621175771,
          -0.013305900925866976,
          -0.02212711840563769,
          -0.02637288806229693,
          -0.03607236135299774,
          -0.04239472892809509,
          -0.01481659738298946,
          -0.006857251741105408,
          -0.017820247238887255,
          -0.018407792639698273,
          0.02776533722122826,
          0.03505847721748101,
          0.0007113377841737045,
          -0.015625965830907862,
          -0.013218156989363627,
          -0.005683084508408154,
          0.00007577469918085278,
          0.019153130931066797,
          0.027634359725199675,
          0.025159644271211923,
          0.029070093527369945,
          0.03403466072772898,
          0.036948161926731005,
          -0.019263787424662948,
          -0.01624378779126151,
          -0.02075873355940583,
          -0.025108927495946287,
          -0.02703190035171399,
          -0.03308897428368679,
          -0.024727187875298318,
          -0.02414917209039036,
          -0.027412995982478316,
          -0.03345828566470377,
          -0.025431170457028085,
          -0.026415757431068554,
          -0.021455907479599023,
          -0.02216772630943087,
          -0.03062448029545861,
          -0.031553259995663496,
          0.00490506530802981,
          0.007507271080077149,
          0.004701335323379241,
          0.007523601726305007,
          0.007511323739103903,
          -0.0021205498892235553,
          0.0023598977629440965,
          0.00030179015135572973,
          -0.006825977823607998,
          -0.006895851135550246,
          -0.005341269840980101,
          -0.010935672706249067,
          -0.006339001544700462,
          -0.00748744365032189,
          -0.006449405639113837,
          -0.007752799037765545,
          -0.0016303104640084665
         ],
         "yaxis": "y"
        }
       ],
       "layout": {
        "legend": {
         "tracegroupgap": 0
        },
        "template": {
         "data": {
          "bar": [
           {
            "error_x": {
             "color": "#2a3f5f"
            },
            "error_y": {
             "color": "#2a3f5f"
            },
            "marker": {
             "line": {
              "color": "#E5ECF6",
              "width": 0.5
             },
             "pattern": {
              "fillmode": "overlay",
              "size": 10,
              "solidity": 0.2
             }
            },
            "type": "bar"
           }
          ],
          "barpolar": [
           {
            "marker": {
             "line": {
              "color": "#E5ECF6",
              "width": 0.5
             },
             "pattern": {
              "fillmode": "overlay",
              "size": 10,
              "solidity": 0.2
             }
            },
            "type": "barpolar"
           }
          ],
          "carpet": [
           {
            "aaxis": {
             "endlinecolor": "#2a3f5f",
             "gridcolor": "white",
             "linecolor": "white",
             "minorgridcolor": "white",
             "startlinecolor": "#2a3f5f"
            },
            "baxis": {
             "endlinecolor": "#2a3f5f",
             "gridcolor": "white",
             "linecolor": "white",
             "minorgridcolor": "white",
             "startlinecolor": "#2a3f5f"
            },
            "type": "carpet"
           }
          ],
          "choropleth": [
           {
            "colorbar": {
             "outlinewidth": 0,
             "ticks": ""
            },
            "type": "choropleth"
           }
          ],
          "contour": [
           {
            "colorbar": {
             "outlinewidth": 0,
             "ticks": ""
            },
            "colorscale": [
             [
              0,
              "#0d0887"
             ],
             [
              0.1111111111111111,
              "#46039f"
             ],
             [
              0.2222222222222222,
              "#7201a8"
             ],
             [
              0.3333333333333333,
              "#9c179e"
             ],
             [
              0.4444444444444444,
              "#bd3786"
             ],
             [
              0.5555555555555556,
              "#d8576b"
             ],
             [
              0.6666666666666666,
              "#ed7953"
             ],
             [
              0.7777777777777778,
              "#fb9f3a"
             ],
             [
              0.8888888888888888,
              "#fdca26"
             ],
             [
              1,
              "#f0f921"
             ]
            ],
            "type": "contour"
           }
          ],
          "contourcarpet": [
           {
            "colorbar": {
             "outlinewidth": 0,
             "ticks": ""
            },
            "type": "contourcarpet"
           }
          ],
          "heatmap": [
           {
            "colorbar": {
             "outlinewidth": 0,
             "ticks": ""
            },
            "colorscale": [
             [
              0,
              "#0d0887"
             ],
             [
              0.1111111111111111,
              "#46039f"
             ],
             [
              0.2222222222222222,
              "#7201a8"
             ],
             [
              0.3333333333333333,
              "#9c179e"
             ],
             [
              0.4444444444444444,
              "#bd3786"
             ],
             [
              0.5555555555555556,
              "#d8576b"
             ],
             [
              0.6666666666666666,
              "#ed7953"
             ],
             [
              0.7777777777777778,
              "#fb9f3a"
             ],
             [
              0.8888888888888888,
              "#fdca26"
             ],
             [
              1,
              "#f0f921"
             ]
            ],
            "type": "heatmap"
           }
          ],
          "heatmapgl": [
           {
            "colorbar": {
             "outlinewidth": 0,
             "ticks": ""
            },
            "colorscale": [
             [
              0,
              "#0d0887"
             ],
             [
              0.1111111111111111,
              "#46039f"
             ],
             [
              0.2222222222222222,
              "#7201a8"
             ],
             [
              0.3333333333333333,
              "#9c179e"
             ],
             [
              0.4444444444444444,
              "#bd3786"
             ],
             [
              0.5555555555555556,
              "#d8576b"
             ],
             [
              0.6666666666666666,
              "#ed7953"
             ],
             [
              0.7777777777777778,
              "#fb9f3a"
             ],
             [
              0.8888888888888888,
              "#fdca26"
             ],
             [
              1,
              "#f0f921"
             ]
            ],
            "type": "heatmapgl"
           }
          ],
          "histogram": [
           {
            "marker": {
             "pattern": {
              "fillmode": "overlay",
              "size": 10,
              "solidity": 0.2
             }
            },
            "type": "histogram"
           }
          ],
          "histogram2d": [
           {
            "colorbar": {
             "outlinewidth": 0,
             "ticks": ""
            },
            "colorscale": [
             [
              0,
              "#0d0887"
             ],
             [
              0.1111111111111111,
              "#46039f"
             ],
             [
              0.2222222222222222,
              "#7201a8"
             ],
             [
              0.3333333333333333,
              "#9c179e"
             ],
             [
              0.4444444444444444,
              "#bd3786"
             ],
             [
              0.5555555555555556,
              "#d8576b"
             ],
             [
              0.6666666666666666,
              "#ed7953"
             ],
             [
              0.7777777777777778,
              "#fb9f3a"
             ],
             [
              0.8888888888888888,
              "#fdca26"
             ],
             [
              1,
              "#f0f921"
             ]
            ],
            "type": "histogram2d"
           }
          ],
          "histogram2dcontour": [
           {
            "colorbar": {
             "outlinewidth": 0,
             "ticks": ""
            },
            "colorscale": [
             [
              0,
              "#0d0887"
             ],
             [
              0.1111111111111111,
              "#46039f"
             ],
             [
              0.2222222222222222,
              "#7201a8"
             ],
             [
              0.3333333333333333,
              "#9c179e"
             ],
             [
              0.4444444444444444,
              "#bd3786"
             ],
             [
              0.5555555555555556,
              "#d8576b"
             ],
             [
              0.6666666666666666,
              "#ed7953"
             ],
             [
              0.7777777777777778,
              "#fb9f3a"
             ],
             [
              0.8888888888888888,
              "#fdca26"
             ],
             [
              1,
              "#f0f921"
             ]
            ],
            "type": "histogram2dcontour"
           }
          ],
          "mesh3d": [
           {
            "colorbar": {
             "outlinewidth": 0,
             "ticks": ""
            },
            "type": "mesh3d"
           }
          ],
          "parcoords": [
           {
            "line": {
             "colorbar": {
              "outlinewidth": 0,
              "ticks": ""
             }
            },
            "type": "parcoords"
           }
          ],
          "pie": [
           {
            "automargin": true,
            "type": "pie"
           }
          ],
          "scatter": [
           {
            "fillpattern": {
             "fillmode": "overlay",
             "size": 10,
             "solidity": 0.2
            },
            "type": "scatter"
           }
          ],
          "scatter3d": [
           {
            "line": {
             "colorbar": {
              "outlinewidth": 0,
              "ticks": ""
             }
            },
            "marker": {
             "colorbar": {
              "outlinewidth": 0,
              "ticks": ""
             }
            },
            "type": "scatter3d"
           }
          ],
          "scattercarpet": [
           {
            "marker": {
             "colorbar": {
              "outlinewidth": 0,
              "ticks": ""
             }
            },
            "type": "scattercarpet"
           }
          ],
          "scattergeo": [
           {
            "marker": {
             "colorbar": {
              "outlinewidth": 0,
              "ticks": ""
             }
            },
            "type": "scattergeo"
           }
          ],
          "scattergl": [
           {
            "marker": {
             "colorbar": {
              "outlinewidth": 0,
              "ticks": ""
             }
            },
            "type": "scattergl"
           }
          ],
          "scattermapbox": [
           {
            "marker": {
             "colorbar": {
              "outlinewidth": 0,
              "ticks": ""
             }
            },
            "type": "scattermapbox"
           }
          ],
          "scatterpolar": [
           {
            "marker": {
             "colorbar": {
              "outlinewidth": 0,
              "ticks": ""
             }
            },
            "type": "scatterpolar"
           }
          ],
          "scatterpolargl": [
           {
            "marker": {
             "colorbar": {
              "outlinewidth": 0,
              "ticks": ""
             }
            },
            "type": "scatterpolargl"
           }
          ],
          "scatterternary": [
           {
            "marker": {
             "colorbar": {
              "outlinewidth": 0,
              "ticks": ""
             }
            },
            "type": "scatterternary"
           }
          ],
          "surface": [
           {
            "colorbar": {
             "outlinewidth": 0,
             "ticks": ""
            },
            "colorscale": [
             [
              0,
              "#0d0887"
             ],
             [
              0.1111111111111111,
              "#46039f"
             ],
             [
              0.2222222222222222,
              "#7201a8"
             ],
             [
              0.3333333333333333,
              "#9c179e"
             ],
             [
              0.4444444444444444,
              "#bd3786"
             ],
             [
              0.5555555555555556,
              "#d8576b"
             ],
             [
              0.6666666666666666,
              "#ed7953"
             ],
             [
              0.7777777777777778,
              "#fb9f3a"
             ],
             [
              0.8888888888888888,
              "#fdca26"
             ],
             [
              1,
              "#f0f921"
             ]
            ],
            "type": "surface"
           }
          ],
          "table": [
           {
            "cells": {
             "fill": {
              "color": "#EBF0F8"
             },
             "line": {
              "color": "white"
             }
            },
            "header": {
             "fill": {
              "color": "#C8D4E3"
             },
             "line": {
              "color": "white"
             }
            },
            "type": "table"
           }
          ]
         },
         "layout": {
          "annotationdefaults": {
           "arrowcolor": "#2a3f5f",
           "arrowhead": 0,
           "arrowwidth": 1
          },
          "autotypenumbers": "strict",
          "coloraxis": {
           "colorbar": {
            "outlinewidth": 0,
            "ticks": ""
           }
          },
          "colorscale": {
           "diverging": [
            [
             0,
             "#8e0152"
            ],
            [
             0.1,
             "#c51b7d"
            ],
            [
             0.2,
             "#de77ae"
            ],
            [
             0.3,
             "#f1b6da"
            ],
            [
             0.4,
             "#fde0ef"
            ],
            [
             0.5,
             "#f7f7f7"
            ],
            [
             0.6,
             "#e6f5d0"
            ],
            [
             0.7,
             "#b8e186"
            ],
            [
             0.8,
             "#7fbc41"
            ],
            [
             0.9,
             "#4d9221"
            ],
            [
             1,
             "#276419"
            ]
           ],
           "sequential": [
            [
             0,
             "#0d0887"
            ],
            [
             0.1111111111111111,
             "#46039f"
            ],
            [
             0.2222222222222222,
             "#7201a8"
            ],
            [
             0.3333333333333333,
             "#9c179e"
            ],
            [
             0.4444444444444444,
             "#bd3786"
            ],
            [
             0.5555555555555556,
             "#d8576b"
            ],
            [
             0.6666666666666666,
             "#ed7953"
            ],
            [
             0.7777777777777778,
             "#fb9f3a"
            ],
            [
             0.8888888888888888,
             "#fdca26"
            ],
            [
             1,
             "#f0f921"
            ]
           ],
           "sequentialminus": [
            [
             0,
             "#0d0887"
            ],
            [
             0.1111111111111111,
             "#46039f"
            ],
            [
             0.2222222222222222,
             "#7201a8"
            ],
            [
             0.3333333333333333,
             "#9c179e"
            ],
            [
             0.4444444444444444,
             "#bd3786"
            ],
            [
             0.5555555555555556,
             "#d8576b"
            ],
            [
             0.6666666666666666,
             "#ed7953"
            ],
            [
             0.7777777777777778,
             "#fb9f3a"
            ],
            [
             0.8888888888888888,
             "#fdca26"
            ],
            [
             1,
             "#f0f921"
            ]
           ]
          },
          "colorway": [
           "#636efa",
           "#EF553B",
           "#00cc96",
           "#ab63fa",
           "#FFA15A",
           "#19d3f3",
           "#FF6692",
           "#B6E880",
           "#FF97FF",
           "#FECB52"
          ],
          "font": {
           "color": "#2a3f5f"
          },
          "geo": {
           "bgcolor": "white",
           "lakecolor": "white",
           "landcolor": "#E5ECF6",
           "showlakes": true,
           "showland": true,
           "subunitcolor": "white"
          },
          "hoverlabel": {
           "align": "left"
          },
          "hovermode": "closest",
          "mapbox": {
           "style": "light"
          },
          "paper_bgcolor": "white",
          "plot_bgcolor": "#E5ECF6",
          "polar": {
           "angularaxis": {
            "gridcolor": "white",
            "linecolor": "white",
            "ticks": ""
           },
           "bgcolor": "#E5ECF6",
           "radialaxis": {
            "gridcolor": "white",
            "linecolor": "white",
            "ticks": ""
           }
          },
          "scene": {
           "xaxis": {
            "backgroundcolor": "#E5ECF6",
            "gridcolor": "white",
            "gridwidth": 2,
            "linecolor": "white",
            "showbackground": true,
            "ticks": "",
            "zerolinecolor": "white"
           },
           "yaxis": {
            "backgroundcolor": "#E5ECF6",
            "gridcolor": "white",
            "gridwidth": 2,
            "linecolor": "white",
            "showbackground": true,
            "ticks": "",
            "zerolinecolor": "white"
           },
           "zaxis": {
            "backgroundcolor": "#E5ECF6",
            "gridcolor": "white",
            "gridwidth": 2,
            "linecolor": "white",
            "showbackground": true,
            "ticks": "",
            "zerolinecolor": "white"
           }
          },
          "shapedefaults": {
           "line": {
            "color": "#2a3f5f"
           }
          },
          "ternary": {
           "aaxis": {
            "gridcolor": "white",
            "linecolor": "white",
            "ticks": ""
           },
           "baxis": {
            "gridcolor": "white",
            "linecolor": "white",
            "ticks": ""
           },
           "bgcolor": "#E5ECF6",
           "caxis": {
            "gridcolor": "white",
            "linecolor": "white",
            "ticks": ""
           }
          },
          "title": {
           "x": 0.05
          },
          "xaxis": {
           "automargin": true,
           "gridcolor": "white",
           "linecolor": "white",
           "ticks": "",
           "title": {
            "standoff": 15
           },
           "zerolinecolor": "white",
           "zerolinewidth": 2
          },
          "yaxis": {
           "automargin": true,
           "gridcolor": "white",
           "linecolor": "white",
           "ticks": "",
           "title": {
            "standoff": 15
           },
           "zerolinecolor": "white",
           "zerolinewidth": 2
          }
         }
        },
        "title": {
         "text": "Residual plot of Inflation, consumer prices (annual %)"
        },
        "xaxis": {
         "anchor": "y",
         "domain": [
          0,
          1
         ],
         "title": {
          "text": "Inflation, consumer prices (annual %)"
         }
        },
        "yaxis": {
         "anchor": "x",
         "domain": [
          0,
          1
         ],
         "title": {
          "text": "Residuals"
         }
        }
       }
      }
     },
     "metadata": {},
     "output_type": "display_data"
    },
    {
     "data": {
      "application/vnd.plotly.v1+json": {
       "config": {
        "plotlyServerURL": "https://plot.ly"
       },
       "data": [
        {
         "hovertemplate": "Region_East Asia and Pacific=%{x}<br>Residuals=%{y}<extra></extra>",
         "legendgroup": "",
         "marker": {
          "color": "#636efa",
          "symbol": "circle"
         },
         "mode": "markers",
         "name": "",
         "orientation": "v",
         "showlegend": false,
         "type": "scatter",
         "x": [
          0,
          0,
          0,
          0,
          0,
          0,
          0,
          0,
          0,
          0,
          0,
          0,
          0,
          0,
          0,
          0,
          0,
          0,
          0,
          0,
          0,
          0,
          0,
          0,
          0,
          0,
          0,
          0,
          0,
          0,
          0,
          0,
          0,
          0,
          0,
          0,
          0,
          0,
          0,
          0,
          0,
          0,
          0,
          0,
          0,
          0,
          0,
          0,
          0,
          0,
          0,
          0,
          0,
          0,
          0,
          0,
          0,
          1,
          1,
          1,
          1,
          1,
          1,
          1,
          1,
          0,
          0,
          0,
          0,
          0,
          0,
          1,
          1,
          1,
          0,
          0,
          0,
          0,
          0,
          0,
          0,
          0,
          0,
          0,
          0,
          0,
          0,
          0,
          0,
          0,
          0,
          0,
          0,
          0,
          0,
          0,
          0,
          0,
          0,
          0,
          0,
          0,
          0,
          0,
          0,
          0,
          0,
          0,
          0,
          0,
          0,
          0,
          0,
          0,
          0,
          0,
          0,
          0,
          0,
          0,
          0,
          0,
          0,
          0,
          0,
          0,
          0,
          0,
          0,
          0,
          0,
          0,
          0,
          0,
          0,
          0,
          0,
          0,
          0,
          0,
          0,
          0,
          0,
          0,
          0,
          0,
          0,
          0,
          0,
          0,
          0,
          0,
          0,
          0,
          0,
          0,
          0,
          0,
          0,
          0,
          0,
          0,
          0,
          0,
          0,
          0,
          0,
          0,
          0,
          0,
          0,
          0,
          0,
          0,
          0,
          0,
          0,
          0,
          0,
          0,
          0,
          0,
          0,
          0,
          0,
          0,
          0,
          0,
          0,
          0,
          0,
          0,
          0,
          0,
          0,
          0,
          0,
          0,
          0,
          0,
          0,
          0,
          0,
          0,
          0,
          0,
          0,
          0,
          0,
          0,
          0,
          0,
          0,
          0,
          0,
          0,
          0,
          0,
          0,
          0,
          0,
          0,
          0,
          0,
          0,
          0,
          0,
          0,
          0,
          0,
          0,
          0,
          0,
          0,
          0,
          0,
          0,
          0,
          0,
          0,
          0,
          0,
          0,
          0,
          0,
          0,
          0,
          0,
          0,
          0,
          0,
          0,
          0,
          0,
          0,
          0,
          0,
          0,
          0,
          0,
          0,
          0,
          0,
          0,
          0,
          0,
          0,
          0,
          0,
          0,
          0,
          0,
          0,
          0,
          0,
          0,
          0,
          0,
          0,
          0,
          0,
          0,
          0,
          0,
          0,
          0,
          0,
          0,
          0,
          0,
          0,
          0,
          0,
          0,
          0,
          0,
          0,
          0,
          0,
          0,
          0,
          0,
          0,
          0,
          0,
          0,
          0,
          0,
          0,
          0,
          0,
          0,
          0,
          0,
          0,
          0,
          0,
          0,
          0,
          0,
          0,
          0,
          0,
          0,
          0,
          0,
          0,
          0,
          0,
          0,
          0,
          0,
          0,
          0,
          0,
          0,
          0,
          0,
          0,
          0,
          0,
          0,
          0,
          0,
          0,
          0,
          0,
          0,
          0,
          0,
          0,
          0,
          0,
          0,
          0,
          0,
          0,
          0,
          0,
          0,
          0,
          0,
          0,
          0,
          0,
          0,
          0,
          0,
          0,
          0,
          0,
          0,
          0,
          0,
          0,
          0,
          0,
          0,
          0,
          0,
          0,
          0,
          0,
          0,
          0,
          0,
          0,
          0,
          0,
          0,
          0,
          0,
          0,
          0,
          0,
          0,
          0,
          0,
          0,
          0
         ],
         "xaxis": "x",
         "y": [
          -0.009432527924492562,
          -0.012917810495263082,
          -0.0246614393455602,
          -0.01720787951676761,
          -0.010355072483283656,
          -0.017089471243327714,
          -0.01342850209218971,
          -0.008817574969827269,
          -0.009727232613114367,
          -0.012165810848284386,
          -0.017826385941363765,
          -0.011766178614687317,
          -0.000632949914415426,
          -0.004051210349599321,
          0.009338451030700023,
          0.011039552974796418,
          -0.0002398622945832818,
          0.01125106985501928,
          0.004026920508013954,
          0.038440831875237835,
          0.028779918565084106,
          0.03431082636611127,
          0.04419807923621416,
          0.04154578713297952,
          0.02467145824260142,
          0.008266115676990315,
          -0.006000923740644759,
          0.025560696240199632,
          0.007791026860896999,
          -0.0057663220675101545,
          0.0035018274203638122,
          0.01610745606761349,
          0.004289466418007815,
          0.009767718713229234,
          0.021678079830554253,
          0.007789333756649752,
          -0.0012430776309222402,
          0.0008506000084900767,
          -0.011817937428015957,
          0.03917496593488945,
          0.03770070635280448,
          0.03529558446031317,
          0.03196040299331837,
          0.033035028798660326,
          0.02449738539249502,
          0.02578561563892956,
          0.03181245975858904,
          0.03895786963987935,
          0.037641823756612125,
          0.032118426997414184,
          0.029928841932784833,
          0.030166077948277303,
          0.04261968913347569,
          0.04139848817435238,
          0.04304855440406513,
          0.03656986827294423,
          0.0353539713866548,
          0.005163452713181194,
          0.009648957340138209,
          0.006448994350066961,
          0.018203673987608526,
          0.0045616799207800485,
          0.00299092525014949,
          0.008316479177743474,
          0.008036509401497194,
          -0.03364458928713365,
          -0.01964980656692117,
          -0.013242010616831557,
          -0.026875369677825445,
          -0.038186963652333095,
          -0.03822036055474415,
          -0.006832664301830271,
          -0.030005281643520842,
          -0.01848981383752535,
          0.0478353160451756,
          0.049585016973806906,
          0.035034052016924666,
          0.037285102446987906,
          0.005144620168266778,
          -0.00644026825937688,
          0.028335336310427783,
          0.04121757658952058,
          0.07193900232389439,
          0.06852750492392018,
          0.07983799641971018,
          0.06435589245729911,
          0.053679026341488356,
          0.05103479149888296,
          -0.06087231856524217,
          -0.01933320834605956,
          -0.053732526905725,
          -0.05579859807698073,
          -0.04523958541998707,
          -0.031021147264913673,
          -0.03276313284429294,
          -0.04693220320270186,
          -0.05150985898219729,
          -0.034303178363700615,
          -0.044126698645856055,
          -0.03410284103285066,
          -0.03923924176885485,
          -0.06153306381504625,
          -0.04750379323767273,
          -0.02800620261636594,
          -0.02553149899222945,
          -0.02786714726791062,
          -0.03120647165246737,
          -0.0351263401651577,
          -0.023920356853617708,
          -0.02982142696685286,
          -0.026877816525673892,
          -0.03325694557271136,
          -0.02699492024511352,
          -0.030298587266329446,
          -0.027373098027458187,
          -0.017664760989533734,
          -0.012808984223372233,
          -0.016121355970780682,
          -0.0015625549467864208,
          -0.0038150179225838743,
          -0.008419360976164525,
          -0.003691813146522449,
          -0.002397421200482752,
          -0.02758521458948751,
          -0.01521070908287564,
          -0.02298233946986883,
          -0.017855267766013372,
          -0.009545085632417072,
          -0.0061003496928626055,
          -0.022523750448469382,
          -0.008501974185954775,
          -0.012400202882534128,
          -0.01210734287348153,
          -0.003810982129215046,
          0.006792964907837817,
          0.005722177918067839,
          0.009884223316245666,
          0.010990838147362125,
          0.014366035063204996,
          0.011614594877866036,
          0.0086601925076783,
          0.01933946065998332,
          0.011943551643554429,
          0.01673460015666206,
          0.012336751052191897,
          0.007555415554946321,
          0.010429524802084256,
          0.006835431130199354,
          -0.0061057475480303935,
          0.00331694026646423,
          0.029277031617133464,
          0.005749957706515263,
          -0.0006937652817381457,
          0.022862031351572276,
          0.010750642081956752,
          0.03455082826550887,
          0.039086611354638534,
          0.025798114081096835,
          -0.026612641048316177,
          -0.025564418202919964,
          -0.030158947030589633,
          -0.048107942921960856,
          -0.06162340089281804,
          -0.03480698036017449,
          -0.04452826393359033,
          -0.04506213246070612,
          -0.050044515935676825,
          -0.04767456789160057,
          -0.04103935714857787,
          -0.03763550290765155,
          0.015317985770086862,
          -0.00736674575850893,
          0.0075955559936119466,
          0.004430146359318932,
          0.015398405510368529,
          0.02093358510049903,
          0.007108862141151084,
          0.00820917362747553,
          -0.002536625335544218,
          -0.00878005191556508,
          -0.019008178360499672,
          -0.01152562010891095,
          -0.0015099835638131553,
          0.009196420722032805,
          0.010589072932851828,
          -0.00006376865601775972,
          0.0063561353741436455,
          0.009460930033255988,
          -0.002219702140718538,
          -0.01467433974690191,
          -0.011034128885460515,
          -0.005180894878663578,
          -0.006889164493732891,
          -0.0036767933217888293,
          0.001575981559829076,
          -0.004713888667872035,
          -0.0026544313506245976,
          -0.009112652671278254,
          -0.01895225412877871,
          -0.00253483885372896,
          -0.010651755440150679,
          -0.018395773354568712,
          -0.027073558836680667,
          -0.027840786425380848,
          -0.030920970406617787,
          -0.032486161721446694,
          -0.03284336688256495,
          -0.02469863641592579,
          -0.023310415392256756,
          -0.022411888309167405,
          -0.01936584333808128,
          -0.022385253589046916,
          -0.011934672655313672,
          0.08099007535603459,
          0.08184550051743295,
          0.06840032417418346,
          0.05622365101942478,
          0.042850654416793255,
          0.036468731255271614,
          0.02898940608315176,
          0.043403999248509406,
          0.04512951340322735,
          0.01984230574192003,
          0.03220153082899779,
          0.020249526816706998,
          0.020238451105278554,
          0.02754935616159837,
          0.03083309038047055,
          0.009916425367627713,
          -0.0040733755521124015,
          -0.0020831805256025238,
          0.014683952098386854,
          -0.0003621748570045713,
          0.0015842192564524682,
          0.004450031490637663,
          0.0032911906335008068,
          0.0023466753792520945,
          -0.001928576991047204,
          -0.007845984638588821,
          -0.008589632403830039,
          0.005047974835196645,
          0.0018381220018390265,
          -0.01725165152521374,
          0.004671450863435345,
          0.00014566868770599095,
          0.04384861609050128,
          0.028458296563614816,
          -0.015607511280847974,
          -0.007463663970697865,
          -0.021494855599488105,
          -0.021100021881527875,
          -0.0300732584943591,
          -0.0342259463094694,
          -0.026951115588040253,
          -0.025178195464629738,
          -0.018066728593681358,
          -0.004964712004852656,
          0.002123800310631585,
          -0.009873452224928969,
          -0.007958353639112736,
          -0.0016990033946376326,
          -0.028755834440254202,
          0.024441228541759896,
          -0.05545609365033294,
          -0.024323877539072947,
          0.000408705501097395,
          0.004363959244570059,
          -0.01072068649067709,
          0.002819770827022061,
          0.02470550998018145,
          0.009883077525888684,
          -0.0003051309680384695,
          0.010399055349187392,
          -0.004325919369087272,
          0.008181733022964655,
          -0.0008166578347356679,
          -0.006635346634132455,
          -0.009227524096635353,
          -0.006759991641783369,
          -0.0005161605422298599,
          -0.0031011822708000847,
          -0.006384456874285682,
          -0.008687359004804496,
          -0.010359700674580141,
          -0.006690461780103629,
          -0.14608082194088,
          0.017183341221409187,
          0.020373675691985893,
          0.01935162547755981,
          0.0037988118976709506,
          0.01285616810018314,
          0.019648943372764016,
          0.014110594227194129,
          0.02965585612084265,
          0.01648286905897478,
          0.016499664774050238,
          0.016727439645999986,
          0.018957258831809265,
          0.017148242734861652,
          0.02257268238183824,
          0.024321061941596722,
          0.011102011709967385,
          0.023221802641645528,
          0.020633476537096296,
          0.03441414978256413,
          0.04081612199761331,
          0.021193985722476716,
          0.0019085469426661228,
          0.009480619129852708,
          0.006692506980297608,
          0.012387621359718881,
          0.01638570489854546,
          0.02167192675863505,
          0.016557138151540418,
          0.019833967382972217,
          -0.018950434241363612,
          -0.026211329979145825,
          -0.01823531170357623,
          -0.013128695955551217,
          -0.017466224569955502,
          0.011505341632982669,
          0.008293640698251836,
          0.01337502271370744,
          -0.0006336554694127416,
          0.06626245697855371,
          0.049760480974597066,
          0.02496158870571963,
          0.023863740547975743,
          0.02263836105222633,
          0.027969892043927802,
          0.027488913141247573,
          0.009346169582546748,
          0.015306171967597981,
          0.013849689508946439,
          -0.0052437525116544315,
          -0.015212446096378118,
          -0.01078428359857142,
          -0.012402746395875741,
          -0.003886787607025044,
          0.006155536317089649,
          0.00653428483495333,
          -0.001434107315461397,
          0.011849517020231792,
          0.008034266809130775,
          -0.01481000621175771,
          -0.013305900925866976,
          -0.02212711840563769,
          -0.02637288806229693,
          -0.03607236135299774,
          -0.04239472892809509,
          -0.01481659738298946,
          -0.006857251741105408,
          -0.017820247238887255,
          -0.018407792639698273,
          0.02776533722122826,
          0.03505847721748101,
          0.0007113377841737045,
          -0.015625965830907862,
          -0.013218156989363627,
          -0.005683084508408154,
          0.00007577469918085278,
          0.019153130931066797,
          0.027634359725199675,
          0.025159644271211923,
          0.029070093527369945,
          0.03403466072772898,
          0.036948161926731005,
          -0.019263787424662948,
          -0.01624378779126151,
          -0.02075873355940583,
          -0.025108927495946287,
          -0.02703190035171399,
          -0.03308897428368679,
          -0.024727187875298318,
          -0.02414917209039036,
          -0.027412995982478316,
          -0.03345828566470377,
          -0.025431170457028085,
          -0.026415757431068554,
          -0.021455907479599023,
          -0.02216772630943087,
          -0.03062448029545861,
          -0.031553259995663496,
          0.00490506530802981,
          0.007507271080077149,
          0.004701335323379241,
          0.007523601726305007,
          0.007511323739103903,
          -0.0021205498892235553,
          0.0023598977629440965,
          0.00030179015135572973,
          -0.006825977823607998,
          -0.006895851135550246,
          -0.005341269840980101,
          -0.010935672706249067,
          -0.006339001544700462,
          -0.00748744365032189,
          -0.006449405639113837,
          -0.007752799037765545,
          -0.0016303104640084665
         ],
         "yaxis": "y"
        }
       ],
       "layout": {
        "legend": {
         "tracegroupgap": 0
        },
        "template": {
         "data": {
          "bar": [
           {
            "error_x": {
             "color": "#2a3f5f"
            },
            "error_y": {
             "color": "#2a3f5f"
            },
            "marker": {
             "line": {
              "color": "#E5ECF6",
              "width": 0.5
             },
             "pattern": {
              "fillmode": "overlay",
              "size": 10,
              "solidity": 0.2
             }
            },
            "type": "bar"
           }
          ],
          "barpolar": [
           {
            "marker": {
             "line": {
              "color": "#E5ECF6",
              "width": 0.5
             },
             "pattern": {
              "fillmode": "overlay",
              "size": 10,
              "solidity": 0.2
             }
            },
            "type": "barpolar"
           }
          ],
          "carpet": [
           {
            "aaxis": {
             "endlinecolor": "#2a3f5f",
             "gridcolor": "white",
             "linecolor": "white",
             "minorgridcolor": "white",
             "startlinecolor": "#2a3f5f"
            },
            "baxis": {
             "endlinecolor": "#2a3f5f",
             "gridcolor": "white",
             "linecolor": "white",
             "minorgridcolor": "white",
             "startlinecolor": "#2a3f5f"
            },
            "type": "carpet"
           }
          ],
          "choropleth": [
           {
            "colorbar": {
             "outlinewidth": 0,
             "ticks": ""
            },
            "type": "choropleth"
           }
          ],
          "contour": [
           {
            "colorbar": {
             "outlinewidth": 0,
             "ticks": ""
            },
            "colorscale": [
             [
              0,
              "#0d0887"
             ],
             [
              0.1111111111111111,
              "#46039f"
             ],
             [
              0.2222222222222222,
              "#7201a8"
             ],
             [
              0.3333333333333333,
              "#9c179e"
             ],
             [
              0.4444444444444444,
              "#bd3786"
             ],
             [
              0.5555555555555556,
              "#d8576b"
             ],
             [
              0.6666666666666666,
              "#ed7953"
             ],
             [
              0.7777777777777778,
              "#fb9f3a"
             ],
             [
              0.8888888888888888,
              "#fdca26"
             ],
             [
              1,
              "#f0f921"
             ]
            ],
            "type": "contour"
           }
          ],
          "contourcarpet": [
           {
            "colorbar": {
             "outlinewidth": 0,
             "ticks": ""
            },
            "type": "contourcarpet"
           }
          ],
          "heatmap": [
           {
            "colorbar": {
             "outlinewidth": 0,
             "ticks": ""
            },
            "colorscale": [
             [
              0,
              "#0d0887"
             ],
             [
              0.1111111111111111,
              "#46039f"
             ],
             [
              0.2222222222222222,
              "#7201a8"
             ],
             [
              0.3333333333333333,
              "#9c179e"
             ],
             [
              0.4444444444444444,
              "#bd3786"
             ],
             [
              0.5555555555555556,
              "#d8576b"
             ],
             [
              0.6666666666666666,
              "#ed7953"
             ],
             [
              0.7777777777777778,
              "#fb9f3a"
             ],
             [
              0.8888888888888888,
              "#fdca26"
             ],
             [
              1,
              "#f0f921"
             ]
            ],
            "type": "heatmap"
           }
          ],
          "heatmapgl": [
           {
            "colorbar": {
             "outlinewidth": 0,
             "ticks": ""
            },
            "colorscale": [
             [
              0,
              "#0d0887"
             ],
             [
              0.1111111111111111,
              "#46039f"
             ],
             [
              0.2222222222222222,
              "#7201a8"
             ],
             [
              0.3333333333333333,
              "#9c179e"
             ],
             [
              0.4444444444444444,
              "#bd3786"
             ],
             [
              0.5555555555555556,
              "#d8576b"
             ],
             [
              0.6666666666666666,
              "#ed7953"
             ],
             [
              0.7777777777777778,
              "#fb9f3a"
             ],
             [
              0.8888888888888888,
              "#fdca26"
             ],
             [
              1,
              "#f0f921"
             ]
            ],
            "type": "heatmapgl"
           }
          ],
          "histogram": [
           {
            "marker": {
             "pattern": {
              "fillmode": "overlay",
              "size": 10,
              "solidity": 0.2
             }
            },
            "type": "histogram"
           }
          ],
          "histogram2d": [
           {
            "colorbar": {
             "outlinewidth": 0,
             "ticks": ""
            },
            "colorscale": [
             [
              0,
              "#0d0887"
             ],
             [
              0.1111111111111111,
              "#46039f"
             ],
             [
              0.2222222222222222,
              "#7201a8"
             ],
             [
              0.3333333333333333,
              "#9c179e"
             ],
             [
              0.4444444444444444,
              "#bd3786"
             ],
             [
              0.5555555555555556,
              "#d8576b"
             ],
             [
              0.6666666666666666,
              "#ed7953"
             ],
             [
              0.7777777777777778,
              "#fb9f3a"
             ],
             [
              0.8888888888888888,
              "#fdca26"
             ],
             [
              1,
              "#f0f921"
             ]
            ],
            "type": "histogram2d"
           }
          ],
          "histogram2dcontour": [
           {
            "colorbar": {
             "outlinewidth": 0,
             "ticks": ""
            },
            "colorscale": [
             [
              0,
              "#0d0887"
             ],
             [
              0.1111111111111111,
              "#46039f"
             ],
             [
              0.2222222222222222,
              "#7201a8"
             ],
             [
              0.3333333333333333,
              "#9c179e"
             ],
             [
              0.4444444444444444,
              "#bd3786"
             ],
             [
              0.5555555555555556,
              "#d8576b"
             ],
             [
              0.6666666666666666,
              "#ed7953"
             ],
             [
              0.7777777777777778,
              "#fb9f3a"
             ],
             [
              0.8888888888888888,
              "#fdca26"
             ],
             [
              1,
              "#f0f921"
             ]
            ],
            "type": "histogram2dcontour"
           }
          ],
          "mesh3d": [
           {
            "colorbar": {
             "outlinewidth": 0,
             "ticks": ""
            },
            "type": "mesh3d"
           }
          ],
          "parcoords": [
           {
            "line": {
             "colorbar": {
              "outlinewidth": 0,
              "ticks": ""
             }
            },
            "type": "parcoords"
           }
          ],
          "pie": [
           {
            "automargin": true,
            "type": "pie"
           }
          ],
          "scatter": [
           {
            "fillpattern": {
             "fillmode": "overlay",
             "size": 10,
             "solidity": 0.2
            },
            "type": "scatter"
           }
          ],
          "scatter3d": [
           {
            "line": {
             "colorbar": {
              "outlinewidth": 0,
              "ticks": ""
             }
            },
            "marker": {
             "colorbar": {
              "outlinewidth": 0,
              "ticks": ""
             }
            },
            "type": "scatter3d"
           }
          ],
          "scattercarpet": [
           {
            "marker": {
             "colorbar": {
              "outlinewidth": 0,
              "ticks": ""
             }
            },
            "type": "scattercarpet"
           }
          ],
          "scattergeo": [
           {
            "marker": {
             "colorbar": {
              "outlinewidth": 0,
              "ticks": ""
             }
            },
            "type": "scattergeo"
           }
          ],
          "scattergl": [
           {
            "marker": {
             "colorbar": {
              "outlinewidth": 0,
              "ticks": ""
             }
            },
            "type": "scattergl"
           }
          ],
          "scattermapbox": [
           {
            "marker": {
             "colorbar": {
              "outlinewidth": 0,
              "ticks": ""
             }
            },
            "type": "scattermapbox"
           }
          ],
          "scatterpolar": [
           {
            "marker": {
             "colorbar": {
              "outlinewidth": 0,
              "ticks": ""
             }
            },
            "type": "scatterpolar"
           }
          ],
          "scatterpolargl": [
           {
            "marker": {
             "colorbar": {
              "outlinewidth": 0,
              "ticks": ""
             }
            },
            "type": "scatterpolargl"
           }
          ],
          "scatterternary": [
           {
            "marker": {
             "colorbar": {
              "outlinewidth": 0,
              "ticks": ""
             }
            },
            "type": "scatterternary"
           }
          ],
          "surface": [
           {
            "colorbar": {
             "outlinewidth": 0,
             "ticks": ""
            },
            "colorscale": [
             [
              0,
              "#0d0887"
             ],
             [
              0.1111111111111111,
              "#46039f"
             ],
             [
              0.2222222222222222,
              "#7201a8"
             ],
             [
              0.3333333333333333,
              "#9c179e"
             ],
             [
              0.4444444444444444,
              "#bd3786"
             ],
             [
              0.5555555555555556,
              "#d8576b"
             ],
             [
              0.6666666666666666,
              "#ed7953"
             ],
             [
              0.7777777777777778,
              "#fb9f3a"
             ],
             [
              0.8888888888888888,
              "#fdca26"
             ],
             [
              1,
              "#f0f921"
             ]
            ],
            "type": "surface"
           }
          ],
          "table": [
           {
            "cells": {
             "fill": {
              "color": "#EBF0F8"
             },
             "line": {
              "color": "white"
             }
            },
            "header": {
             "fill": {
              "color": "#C8D4E3"
             },
             "line": {
              "color": "white"
             }
            },
            "type": "table"
           }
          ]
         },
         "layout": {
          "annotationdefaults": {
           "arrowcolor": "#2a3f5f",
           "arrowhead": 0,
           "arrowwidth": 1
          },
          "autotypenumbers": "strict",
          "coloraxis": {
           "colorbar": {
            "outlinewidth": 0,
            "ticks": ""
           }
          },
          "colorscale": {
           "diverging": [
            [
             0,
             "#8e0152"
            ],
            [
             0.1,
             "#c51b7d"
            ],
            [
             0.2,
             "#de77ae"
            ],
            [
             0.3,
             "#f1b6da"
            ],
            [
             0.4,
             "#fde0ef"
            ],
            [
             0.5,
             "#f7f7f7"
            ],
            [
             0.6,
             "#e6f5d0"
            ],
            [
             0.7,
             "#b8e186"
            ],
            [
             0.8,
             "#7fbc41"
            ],
            [
             0.9,
             "#4d9221"
            ],
            [
             1,
             "#276419"
            ]
           ],
           "sequential": [
            [
             0,
             "#0d0887"
            ],
            [
             0.1111111111111111,
             "#46039f"
            ],
            [
             0.2222222222222222,
             "#7201a8"
            ],
            [
             0.3333333333333333,
             "#9c179e"
            ],
            [
             0.4444444444444444,
             "#bd3786"
            ],
            [
             0.5555555555555556,
             "#d8576b"
            ],
            [
             0.6666666666666666,
             "#ed7953"
            ],
            [
             0.7777777777777778,
             "#fb9f3a"
            ],
            [
             0.8888888888888888,
             "#fdca26"
            ],
            [
             1,
             "#f0f921"
            ]
           ],
           "sequentialminus": [
            [
             0,
             "#0d0887"
            ],
            [
             0.1111111111111111,
             "#46039f"
            ],
            [
             0.2222222222222222,
             "#7201a8"
            ],
            [
             0.3333333333333333,
             "#9c179e"
            ],
            [
             0.4444444444444444,
             "#bd3786"
            ],
            [
             0.5555555555555556,
             "#d8576b"
            ],
            [
             0.6666666666666666,
             "#ed7953"
            ],
            [
             0.7777777777777778,
             "#fb9f3a"
            ],
            [
             0.8888888888888888,
             "#fdca26"
            ],
            [
             1,
             "#f0f921"
            ]
           ]
          },
          "colorway": [
           "#636efa",
           "#EF553B",
           "#00cc96",
           "#ab63fa",
           "#FFA15A",
           "#19d3f3",
           "#FF6692",
           "#B6E880",
           "#FF97FF",
           "#FECB52"
          ],
          "font": {
           "color": "#2a3f5f"
          },
          "geo": {
           "bgcolor": "white",
           "lakecolor": "white",
           "landcolor": "#E5ECF6",
           "showlakes": true,
           "showland": true,
           "subunitcolor": "white"
          },
          "hoverlabel": {
           "align": "left"
          },
          "hovermode": "closest",
          "mapbox": {
           "style": "light"
          },
          "paper_bgcolor": "white",
          "plot_bgcolor": "#E5ECF6",
          "polar": {
           "angularaxis": {
            "gridcolor": "white",
            "linecolor": "white",
            "ticks": ""
           },
           "bgcolor": "#E5ECF6",
           "radialaxis": {
            "gridcolor": "white",
            "linecolor": "white",
            "ticks": ""
           }
          },
          "scene": {
           "xaxis": {
            "backgroundcolor": "#E5ECF6",
            "gridcolor": "white",
            "gridwidth": 2,
            "linecolor": "white",
            "showbackground": true,
            "ticks": "",
            "zerolinecolor": "white"
           },
           "yaxis": {
            "backgroundcolor": "#E5ECF6",
            "gridcolor": "white",
            "gridwidth": 2,
            "linecolor": "white",
            "showbackground": true,
            "ticks": "",
            "zerolinecolor": "white"
           },
           "zaxis": {
            "backgroundcolor": "#E5ECF6",
            "gridcolor": "white",
            "gridwidth": 2,
            "linecolor": "white",
            "showbackground": true,
            "ticks": "",
            "zerolinecolor": "white"
           }
          },
          "shapedefaults": {
           "line": {
            "color": "#2a3f5f"
           }
          },
          "ternary": {
           "aaxis": {
            "gridcolor": "white",
            "linecolor": "white",
            "ticks": ""
           },
           "baxis": {
            "gridcolor": "white",
            "linecolor": "white",
            "ticks": ""
           },
           "bgcolor": "#E5ECF6",
           "caxis": {
            "gridcolor": "white",
            "linecolor": "white",
            "ticks": ""
           }
          },
          "title": {
           "x": 0.05
          },
          "xaxis": {
           "automargin": true,
           "gridcolor": "white",
           "linecolor": "white",
           "ticks": "",
           "title": {
            "standoff": 15
           },
           "zerolinecolor": "white",
           "zerolinewidth": 2
          },
          "yaxis": {
           "automargin": true,
           "gridcolor": "white",
           "linecolor": "white",
           "ticks": "",
           "title": {
            "standoff": 15
           },
           "zerolinecolor": "white",
           "zerolinewidth": 2
          }
         }
        },
        "title": {
         "text": "Residual plot of Region_East Asia and Pacific"
        },
        "xaxis": {
         "anchor": "y",
         "domain": [
          0,
          1
         ],
         "title": {
          "text": "Region_East Asia and Pacific"
         }
        },
        "yaxis": {
         "anchor": "x",
         "domain": [
          0,
          1
         ],
         "title": {
          "text": "Residuals"
         }
        }
       }
      }
     },
     "metadata": {},
     "output_type": "display_data"
    },
    {
     "data": {
      "application/vnd.plotly.v1+json": {
       "config": {
        "plotlyServerURL": "https://plot.ly"
       },
       "data": [
        {
         "hovertemplate": "Region_Europe and Central Asia=%{x}<br>Residuals=%{y}<extra></extra>",
         "legendgroup": "",
         "marker": {
          "color": "#636efa",
          "symbol": "circle"
         },
         "mode": "markers",
         "name": "",
         "orientation": "v",
         "showlegend": false,
         "type": "scatter",
         "x": [
          1,
          1,
          1,
          1,
          1,
          1,
          1,
          1,
          1,
          1,
          1,
          1,
          1,
          1,
          1,
          1,
          1,
          1,
          1,
          1,
          1,
          1,
          1,
          1,
          1,
          1,
          1,
          1,
          1,
          1,
          1,
          1,
          1,
          1,
          1,
          1,
          1,
          1,
          1,
          1,
          1,
          1,
          1,
          1,
          1,
          1,
          1,
          1,
          1,
          1,
          1,
          1,
          1,
          1,
          1,
          1,
          1,
          0,
          0,
          0,
          0,
          0,
          0,
          0,
          0,
          0,
          0,
          0,
          0,
          0,
          0,
          0,
          0,
          0,
          1,
          1,
          1,
          1,
          1,
          1,
          1,
          1,
          1,
          1,
          1,
          1,
          1,
          1,
          1,
          1,
          1,
          1,
          1,
          1,
          1,
          1,
          1,
          1,
          1,
          1,
          1,
          1,
          1,
          1,
          1,
          1,
          1,
          1,
          1,
          1,
          1,
          1,
          1,
          1,
          1,
          1,
          1,
          1,
          1,
          1,
          1,
          1,
          1,
          1,
          1,
          1,
          1,
          1,
          1,
          1,
          1,
          1,
          1,
          1,
          1,
          1,
          1,
          1,
          1,
          1,
          1,
          1,
          1,
          1,
          1,
          1,
          1,
          1,
          1,
          1,
          1,
          1,
          1,
          1,
          1,
          1,
          1,
          1,
          1,
          1,
          1,
          1,
          1,
          1,
          1,
          1,
          1,
          1,
          1,
          1,
          1,
          1,
          1,
          1,
          1,
          1,
          1,
          1,
          1,
          1,
          1,
          1,
          1,
          1,
          1,
          1,
          1,
          1,
          1,
          1,
          1,
          1,
          1,
          1,
          1,
          1,
          1,
          1,
          1,
          1,
          1,
          1,
          1,
          1,
          1,
          1,
          1,
          1,
          1,
          1,
          1,
          1,
          1,
          1,
          1,
          1,
          1,
          1,
          1,
          1,
          1,
          1,
          0,
          0,
          0,
          0,
          0,
          0,
          0,
          0,
          0,
          1,
          1,
          1,
          1,
          1,
          1,
          1,
          1,
          1,
          1,
          1,
          1,
          1,
          1,
          1,
          1,
          1,
          1,
          1,
          1,
          1,
          1,
          1,
          1,
          1,
          1,
          1,
          1,
          1,
          1,
          1,
          1,
          1,
          1,
          1,
          1,
          1,
          1,
          1,
          1,
          1,
          1,
          1,
          1,
          1,
          1,
          1,
          1,
          1,
          1,
          1,
          1,
          1,
          1,
          0,
          1,
          1,
          1,
          1,
          1,
          1,
          1,
          1,
          1,
          1,
          1,
          1,
          1,
          1,
          1,
          1,
          1,
          1,
          1,
          1,
          1,
          1,
          1,
          1,
          1,
          1,
          1,
          1,
          1,
          1,
          1,
          1,
          1,
          1,
          1,
          1,
          1,
          1,
          1,
          1,
          1,
          1,
          1,
          1,
          1,
          1,
          1,
          1,
          1,
          1,
          1,
          1,
          1,
          1,
          1,
          1,
          1,
          1,
          1,
          1,
          1,
          1,
          1,
          1,
          1,
          1,
          1,
          1,
          1,
          1,
          1,
          1,
          1,
          1,
          1,
          1,
          1,
          1,
          1,
          1,
          1,
          1,
          1,
          1,
          1,
          1,
          1,
          1,
          1,
          1,
          1,
          1,
          1,
          1,
          1,
          1,
          1,
          1,
          1,
          1,
          1,
          1,
          1,
          1,
          1,
          1,
          1,
          1,
          1,
          1,
          1,
          1,
          1,
          1
         ],
         "xaxis": "x",
         "y": [
          -0.009432527924492562,
          -0.012917810495263082,
          -0.0246614393455602,
          -0.01720787951676761,
          -0.010355072483283656,
          -0.017089471243327714,
          -0.01342850209218971,
          -0.008817574969827269,
          -0.009727232613114367,
          -0.012165810848284386,
          -0.017826385941363765,
          -0.011766178614687317,
          -0.000632949914415426,
          -0.004051210349599321,
          0.009338451030700023,
          0.011039552974796418,
          -0.0002398622945832818,
          0.01125106985501928,
          0.004026920508013954,
          0.038440831875237835,
          0.028779918565084106,
          0.03431082636611127,
          0.04419807923621416,
          0.04154578713297952,
          0.02467145824260142,
          0.008266115676990315,
          -0.006000923740644759,
          0.025560696240199632,
          0.007791026860896999,
          -0.0057663220675101545,
          0.0035018274203638122,
          0.01610745606761349,
          0.004289466418007815,
          0.009767718713229234,
          0.021678079830554253,
          0.007789333756649752,
          -0.0012430776309222402,
          0.0008506000084900767,
          -0.011817937428015957,
          0.03917496593488945,
          0.03770070635280448,
          0.03529558446031317,
          0.03196040299331837,
          0.033035028798660326,
          0.02449738539249502,
          0.02578561563892956,
          0.03181245975858904,
          0.03895786963987935,
          0.037641823756612125,
          0.032118426997414184,
          0.029928841932784833,
          0.030166077948277303,
          0.04261968913347569,
          0.04139848817435238,
          0.04304855440406513,
          0.03656986827294423,
          0.0353539713866548,
          0.005163452713181194,
          0.009648957340138209,
          0.006448994350066961,
          0.018203673987608526,
          0.0045616799207800485,
          0.00299092525014949,
          0.008316479177743474,
          0.008036509401497194,
          -0.03364458928713365,
          -0.01964980656692117,
          -0.013242010616831557,
          -0.026875369677825445,
          -0.038186963652333095,
          -0.03822036055474415,
          -0.006832664301830271,
          -0.030005281643520842,
          -0.01848981383752535,
          0.0478353160451756,
          0.049585016973806906,
          0.035034052016924666,
          0.037285102446987906,
          0.005144620168266778,
          -0.00644026825937688,
          0.028335336310427783,
          0.04121757658952058,
          0.07193900232389439,
          0.06852750492392018,
          0.07983799641971018,
          0.06435589245729911,
          0.053679026341488356,
          0.05103479149888296,
          -0.06087231856524217,
          -0.01933320834605956,
          -0.053732526905725,
          -0.05579859807698073,
          -0.04523958541998707,
          -0.031021147264913673,
          -0.03276313284429294,
          -0.04693220320270186,
          -0.05150985898219729,
          -0.034303178363700615,
          -0.044126698645856055,
          -0.03410284103285066,
          -0.03923924176885485,
          -0.06153306381504625,
          -0.04750379323767273,
          -0.02800620261636594,
          -0.02553149899222945,
          -0.02786714726791062,
          -0.03120647165246737,
          -0.0351263401651577,
          -0.023920356853617708,
          -0.02982142696685286,
          -0.026877816525673892,
          -0.03325694557271136,
          -0.02699492024511352,
          -0.030298587266329446,
          -0.027373098027458187,
          -0.017664760989533734,
          -0.012808984223372233,
          -0.016121355970780682,
          -0.0015625549467864208,
          -0.0038150179225838743,
          -0.008419360976164525,
          -0.003691813146522449,
          -0.002397421200482752,
          -0.02758521458948751,
          -0.01521070908287564,
          -0.02298233946986883,
          -0.017855267766013372,
          -0.009545085632417072,
          -0.0061003496928626055,
          -0.022523750448469382,
          -0.008501974185954775,
          -0.012400202882534128,
          -0.01210734287348153,
          -0.003810982129215046,
          0.006792964907837817,
          0.005722177918067839,
          0.009884223316245666,
          0.010990838147362125,
          0.014366035063204996,
          0.011614594877866036,
          0.0086601925076783,
          0.01933946065998332,
          0.011943551643554429,
          0.01673460015666206,
          0.012336751052191897,
          0.007555415554946321,
          0.010429524802084256,
          0.006835431130199354,
          -0.0061057475480303935,
          0.00331694026646423,
          0.029277031617133464,
          0.005749957706515263,
          -0.0006937652817381457,
          0.022862031351572276,
          0.010750642081956752,
          0.03455082826550887,
          0.039086611354638534,
          0.025798114081096835,
          -0.026612641048316177,
          -0.025564418202919964,
          -0.030158947030589633,
          -0.048107942921960856,
          -0.06162340089281804,
          -0.03480698036017449,
          -0.04452826393359033,
          -0.04506213246070612,
          -0.050044515935676825,
          -0.04767456789160057,
          -0.04103935714857787,
          -0.03763550290765155,
          0.015317985770086862,
          -0.00736674575850893,
          0.0075955559936119466,
          0.004430146359318932,
          0.015398405510368529,
          0.02093358510049903,
          0.007108862141151084,
          0.00820917362747553,
          -0.002536625335544218,
          -0.00878005191556508,
          -0.019008178360499672,
          -0.01152562010891095,
          -0.0015099835638131553,
          0.009196420722032805,
          0.010589072932851828,
          -0.00006376865601775972,
          0.0063561353741436455,
          0.009460930033255988,
          -0.002219702140718538,
          -0.01467433974690191,
          -0.011034128885460515,
          -0.005180894878663578,
          -0.006889164493732891,
          -0.0036767933217888293,
          0.001575981559829076,
          -0.004713888667872035,
          -0.0026544313506245976,
          -0.009112652671278254,
          -0.01895225412877871,
          -0.00253483885372896,
          -0.010651755440150679,
          -0.018395773354568712,
          -0.027073558836680667,
          -0.027840786425380848,
          -0.030920970406617787,
          -0.032486161721446694,
          -0.03284336688256495,
          -0.02469863641592579,
          -0.023310415392256756,
          -0.022411888309167405,
          -0.01936584333808128,
          -0.022385253589046916,
          -0.011934672655313672,
          0.08099007535603459,
          0.08184550051743295,
          0.06840032417418346,
          0.05622365101942478,
          0.042850654416793255,
          0.036468731255271614,
          0.02898940608315176,
          0.043403999248509406,
          0.04512951340322735,
          0.01984230574192003,
          0.03220153082899779,
          0.020249526816706998,
          0.020238451105278554,
          0.02754935616159837,
          0.03083309038047055,
          0.009916425367627713,
          -0.0040733755521124015,
          -0.0020831805256025238,
          0.014683952098386854,
          -0.0003621748570045713,
          0.0015842192564524682,
          0.004450031490637663,
          0.0032911906335008068,
          0.0023466753792520945,
          -0.001928576991047204,
          -0.007845984638588821,
          -0.008589632403830039,
          0.005047974835196645,
          0.0018381220018390265,
          -0.01725165152521374,
          0.004671450863435345,
          0.00014566868770599095,
          0.04384861609050128,
          0.028458296563614816,
          -0.015607511280847974,
          -0.007463663970697865,
          -0.021494855599488105,
          -0.021100021881527875,
          -0.0300732584943591,
          -0.0342259463094694,
          -0.026951115588040253,
          -0.025178195464629738,
          -0.018066728593681358,
          -0.004964712004852656,
          0.002123800310631585,
          -0.009873452224928969,
          -0.007958353639112736,
          -0.0016990033946376326,
          -0.028755834440254202,
          0.024441228541759896,
          -0.05545609365033294,
          -0.024323877539072947,
          0.000408705501097395,
          0.004363959244570059,
          -0.01072068649067709,
          0.002819770827022061,
          0.02470550998018145,
          0.009883077525888684,
          -0.0003051309680384695,
          0.010399055349187392,
          -0.004325919369087272,
          0.008181733022964655,
          -0.0008166578347356679,
          -0.006635346634132455,
          -0.009227524096635353,
          -0.006759991641783369,
          -0.0005161605422298599,
          -0.0031011822708000847,
          -0.006384456874285682,
          -0.008687359004804496,
          -0.010359700674580141,
          -0.006690461780103629,
          -0.14608082194088,
          0.017183341221409187,
          0.020373675691985893,
          0.01935162547755981,
          0.0037988118976709506,
          0.01285616810018314,
          0.019648943372764016,
          0.014110594227194129,
          0.02965585612084265,
          0.01648286905897478,
          0.016499664774050238,
          0.016727439645999986,
          0.018957258831809265,
          0.017148242734861652,
          0.02257268238183824,
          0.024321061941596722,
          0.011102011709967385,
          0.023221802641645528,
          0.020633476537096296,
          0.03441414978256413,
          0.04081612199761331,
          0.021193985722476716,
          0.0019085469426661228,
          0.009480619129852708,
          0.006692506980297608,
          0.012387621359718881,
          0.01638570489854546,
          0.02167192675863505,
          0.016557138151540418,
          0.019833967382972217,
          -0.018950434241363612,
          -0.026211329979145825,
          -0.01823531170357623,
          -0.013128695955551217,
          -0.017466224569955502,
          0.011505341632982669,
          0.008293640698251836,
          0.01337502271370744,
          -0.0006336554694127416,
          0.06626245697855371,
          0.049760480974597066,
          0.02496158870571963,
          0.023863740547975743,
          0.02263836105222633,
          0.027969892043927802,
          0.027488913141247573,
          0.009346169582546748,
          0.015306171967597981,
          0.013849689508946439,
          -0.0052437525116544315,
          -0.015212446096378118,
          -0.01078428359857142,
          -0.012402746395875741,
          -0.003886787607025044,
          0.006155536317089649,
          0.00653428483495333,
          -0.001434107315461397,
          0.011849517020231792,
          0.008034266809130775,
          -0.01481000621175771,
          -0.013305900925866976,
          -0.02212711840563769,
          -0.02637288806229693,
          -0.03607236135299774,
          -0.04239472892809509,
          -0.01481659738298946,
          -0.006857251741105408,
          -0.017820247238887255,
          -0.018407792639698273,
          0.02776533722122826,
          0.03505847721748101,
          0.0007113377841737045,
          -0.015625965830907862,
          -0.013218156989363627,
          -0.005683084508408154,
          0.00007577469918085278,
          0.019153130931066797,
          0.027634359725199675,
          0.025159644271211923,
          0.029070093527369945,
          0.03403466072772898,
          0.036948161926731005,
          -0.019263787424662948,
          -0.01624378779126151,
          -0.02075873355940583,
          -0.025108927495946287,
          -0.02703190035171399,
          -0.03308897428368679,
          -0.024727187875298318,
          -0.02414917209039036,
          -0.027412995982478316,
          -0.03345828566470377,
          -0.025431170457028085,
          -0.026415757431068554,
          -0.021455907479599023,
          -0.02216772630943087,
          -0.03062448029545861,
          -0.031553259995663496,
          0.00490506530802981,
          0.007507271080077149,
          0.004701335323379241,
          0.007523601726305007,
          0.007511323739103903,
          -0.0021205498892235553,
          0.0023598977629440965,
          0.00030179015135572973,
          -0.006825977823607998,
          -0.006895851135550246,
          -0.005341269840980101,
          -0.010935672706249067,
          -0.006339001544700462,
          -0.00748744365032189,
          -0.006449405639113837,
          -0.007752799037765545,
          -0.0016303104640084665
         ],
         "yaxis": "y"
        }
       ],
       "layout": {
        "legend": {
         "tracegroupgap": 0
        },
        "template": {
         "data": {
          "bar": [
           {
            "error_x": {
             "color": "#2a3f5f"
            },
            "error_y": {
             "color": "#2a3f5f"
            },
            "marker": {
             "line": {
              "color": "#E5ECF6",
              "width": 0.5
             },
             "pattern": {
              "fillmode": "overlay",
              "size": 10,
              "solidity": 0.2
             }
            },
            "type": "bar"
           }
          ],
          "barpolar": [
           {
            "marker": {
             "line": {
              "color": "#E5ECF6",
              "width": 0.5
             },
             "pattern": {
              "fillmode": "overlay",
              "size": 10,
              "solidity": 0.2
             }
            },
            "type": "barpolar"
           }
          ],
          "carpet": [
           {
            "aaxis": {
             "endlinecolor": "#2a3f5f",
             "gridcolor": "white",
             "linecolor": "white",
             "minorgridcolor": "white",
             "startlinecolor": "#2a3f5f"
            },
            "baxis": {
             "endlinecolor": "#2a3f5f",
             "gridcolor": "white",
             "linecolor": "white",
             "minorgridcolor": "white",
             "startlinecolor": "#2a3f5f"
            },
            "type": "carpet"
           }
          ],
          "choropleth": [
           {
            "colorbar": {
             "outlinewidth": 0,
             "ticks": ""
            },
            "type": "choropleth"
           }
          ],
          "contour": [
           {
            "colorbar": {
             "outlinewidth": 0,
             "ticks": ""
            },
            "colorscale": [
             [
              0,
              "#0d0887"
             ],
             [
              0.1111111111111111,
              "#46039f"
             ],
             [
              0.2222222222222222,
              "#7201a8"
             ],
             [
              0.3333333333333333,
              "#9c179e"
             ],
             [
              0.4444444444444444,
              "#bd3786"
             ],
             [
              0.5555555555555556,
              "#d8576b"
             ],
             [
              0.6666666666666666,
              "#ed7953"
             ],
             [
              0.7777777777777778,
              "#fb9f3a"
             ],
             [
              0.8888888888888888,
              "#fdca26"
             ],
             [
              1,
              "#f0f921"
             ]
            ],
            "type": "contour"
           }
          ],
          "contourcarpet": [
           {
            "colorbar": {
             "outlinewidth": 0,
             "ticks": ""
            },
            "type": "contourcarpet"
           }
          ],
          "heatmap": [
           {
            "colorbar": {
             "outlinewidth": 0,
             "ticks": ""
            },
            "colorscale": [
             [
              0,
              "#0d0887"
             ],
             [
              0.1111111111111111,
              "#46039f"
             ],
             [
              0.2222222222222222,
              "#7201a8"
             ],
             [
              0.3333333333333333,
              "#9c179e"
             ],
             [
              0.4444444444444444,
              "#bd3786"
             ],
             [
              0.5555555555555556,
              "#d8576b"
             ],
             [
              0.6666666666666666,
              "#ed7953"
             ],
             [
              0.7777777777777778,
              "#fb9f3a"
             ],
             [
              0.8888888888888888,
              "#fdca26"
             ],
             [
              1,
              "#f0f921"
             ]
            ],
            "type": "heatmap"
           }
          ],
          "heatmapgl": [
           {
            "colorbar": {
             "outlinewidth": 0,
             "ticks": ""
            },
            "colorscale": [
             [
              0,
              "#0d0887"
             ],
             [
              0.1111111111111111,
              "#46039f"
             ],
             [
              0.2222222222222222,
              "#7201a8"
             ],
             [
              0.3333333333333333,
              "#9c179e"
             ],
             [
              0.4444444444444444,
              "#bd3786"
             ],
             [
              0.5555555555555556,
              "#d8576b"
             ],
             [
              0.6666666666666666,
              "#ed7953"
             ],
             [
              0.7777777777777778,
              "#fb9f3a"
             ],
             [
              0.8888888888888888,
              "#fdca26"
             ],
             [
              1,
              "#f0f921"
             ]
            ],
            "type": "heatmapgl"
           }
          ],
          "histogram": [
           {
            "marker": {
             "pattern": {
              "fillmode": "overlay",
              "size": 10,
              "solidity": 0.2
             }
            },
            "type": "histogram"
           }
          ],
          "histogram2d": [
           {
            "colorbar": {
             "outlinewidth": 0,
             "ticks": ""
            },
            "colorscale": [
             [
              0,
              "#0d0887"
             ],
             [
              0.1111111111111111,
              "#46039f"
             ],
             [
              0.2222222222222222,
              "#7201a8"
             ],
             [
              0.3333333333333333,
              "#9c179e"
             ],
             [
              0.4444444444444444,
              "#bd3786"
             ],
             [
              0.5555555555555556,
              "#d8576b"
             ],
             [
              0.6666666666666666,
              "#ed7953"
             ],
             [
              0.7777777777777778,
              "#fb9f3a"
             ],
             [
              0.8888888888888888,
              "#fdca26"
             ],
             [
              1,
              "#f0f921"
             ]
            ],
            "type": "histogram2d"
           }
          ],
          "histogram2dcontour": [
           {
            "colorbar": {
             "outlinewidth": 0,
             "ticks": ""
            },
            "colorscale": [
             [
              0,
              "#0d0887"
             ],
             [
              0.1111111111111111,
              "#46039f"
             ],
             [
              0.2222222222222222,
              "#7201a8"
             ],
             [
              0.3333333333333333,
              "#9c179e"
             ],
             [
              0.4444444444444444,
              "#bd3786"
             ],
             [
              0.5555555555555556,
              "#d8576b"
             ],
             [
              0.6666666666666666,
              "#ed7953"
             ],
             [
              0.7777777777777778,
              "#fb9f3a"
             ],
             [
              0.8888888888888888,
              "#fdca26"
             ],
             [
              1,
              "#f0f921"
             ]
            ],
            "type": "histogram2dcontour"
           }
          ],
          "mesh3d": [
           {
            "colorbar": {
             "outlinewidth": 0,
             "ticks": ""
            },
            "type": "mesh3d"
           }
          ],
          "parcoords": [
           {
            "line": {
             "colorbar": {
              "outlinewidth": 0,
              "ticks": ""
             }
            },
            "type": "parcoords"
           }
          ],
          "pie": [
           {
            "automargin": true,
            "type": "pie"
           }
          ],
          "scatter": [
           {
            "fillpattern": {
             "fillmode": "overlay",
             "size": 10,
             "solidity": 0.2
            },
            "type": "scatter"
           }
          ],
          "scatter3d": [
           {
            "line": {
             "colorbar": {
              "outlinewidth": 0,
              "ticks": ""
             }
            },
            "marker": {
             "colorbar": {
              "outlinewidth": 0,
              "ticks": ""
             }
            },
            "type": "scatter3d"
           }
          ],
          "scattercarpet": [
           {
            "marker": {
             "colorbar": {
              "outlinewidth": 0,
              "ticks": ""
             }
            },
            "type": "scattercarpet"
           }
          ],
          "scattergeo": [
           {
            "marker": {
             "colorbar": {
              "outlinewidth": 0,
              "ticks": ""
             }
            },
            "type": "scattergeo"
           }
          ],
          "scattergl": [
           {
            "marker": {
             "colorbar": {
              "outlinewidth": 0,
              "ticks": ""
             }
            },
            "type": "scattergl"
           }
          ],
          "scattermapbox": [
           {
            "marker": {
             "colorbar": {
              "outlinewidth": 0,
              "ticks": ""
             }
            },
            "type": "scattermapbox"
           }
          ],
          "scatterpolar": [
           {
            "marker": {
             "colorbar": {
              "outlinewidth": 0,
              "ticks": ""
             }
            },
            "type": "scatterpolar"
           }
          ],
          "scatterpolargl": [
           {
            "marker": {
             "colorbar": {
              "outlinewidth": 0,
              "ticks": ""
             }
            },
            "type": "scatterpolargl"
           }
          ],
          "scatterternary": [
           {
            "marker": {
             "colorbar": {
              "outlinewidth": 0,
              "ticks": ""
             }
            },
            "type": "scatterternary"
           }
          ],
          "surface": [
           {
            "colorbar": {
             "outlinewidth": 0,
             "ticks": ""
            },
            "colorscale": [
             [
              0,
              "#0d0887"
             ],
             [
              0.1111111111111111,
              "#46039f"
             ],
             [
              0.2222222222222222,
              "#7201a8"
             ],
             [
              0.3333333333333333,
              "#9c179e"
             ],
             [
              0.4444444444444444,
              "#bd3786"
             ],
             [
              0.5555555555555556,
              "#d8576b"
             ],
             [
              0.6666666666666666,
              "#ed7953"
             ],
             [
              0.7777777777777778,
              "#fb9f3a"
             ],
             [
              0.8888888888888888,
              "#fdca26"
             ],
             [
              1,
              "#f0f921"
             ]
            ],
            "type": "surface"
           }
          ],
          "table": [
           {
            "cells": {
             "fill": {
              "color": "#EBF0F8"
             },
             "line": {
              "color": "white"
             }
            },
            "header": {
             "fill": {
              "color": "#C8D4E3"
             },
             "line": {
              "color": "white"
             }
            },
            "type": "table"
           }
          ]
         },
         "layout": {
          "annotationdefaults": {
           "arrowcolor": "#2a3f5f",
           "arrowhead": 0,
           "arrowwidth": 1
          },
          "autotypenumbers": "strict",
          "coloraxis": {
           "colorbar": {
            "outlinewidth": 0,
            "ticks": ""
           }
          },
          "colorscale": {
           "diverging": [
            [
             0,
             "#8e0152"
            ],
            [
             0.1,
             "#c51b7d"
            ],
            [
             0.2,
             "#de77ae"
            ],
            [
             0.3,
             "#f1b6da"
            ],
            [
             0.4,
             "#fde0ef"
            ],
            [
             0.5,
             "#f7f7f7"
            ],
            [
             0.6,
             "#e6f5d0"
            ],
            [
             0.7,
             "#b8e186"
            ],
            [
             0.8,
             "#7fbc41"
            ],
            [
             0.9,
             "#4d9221"
            ],
            [
             1,
             "#276419"
            ]
           ],
           "sequential": [
            [
             0,
             "#0d0887"
            ],
            [
             0.1111111111111111,
             "#46039f"
            ],
            [
             0.2222222222222222,
             "#7201a8"
            ],
            [
             0.3333333333333333,
             "#9c179e"
            ],
            [
             0.4444444444444444,
             "#bd3786"
            ],
            [
             0.5555555555555556,
             "#d8576b"
            ],
            [
             0.6666666666666666,
             "#ed7953"
            ],
            [
             0.7777777777777778,
             "#fb9f3a"
            ],
            [
             0.8888888888888888,
             "#fdca26"
            ],
            [
             1,
             "#f0f921"
            ]
           ],
           "sequentialminus": [
            [
             0,
             "#0d0887"
            ],
            [
             0.1111111111111111,
             "#46039f"
            ],
            [
             0.2222222222222222,
             "#7201a8"
            ],
            [
             0.3333333333333333,
             "#9c179e"
            ],
            [
             0.4444444444444444,
             "#bd3786"
            ],
            [
             0.5555555555555556,
             "#d8576b"
            ],
            [
             0.6666666666666666,
             "#ed7953"
            ],
            [
             0.7777777777777778,
             "#fb9f3a"
            ],
            [
             0.8888888888888888,
             "#fdca26"
            ],
            [
             1,
             "#f0f921"
            ]
           ]
          },
          "colorway": [
           "#636efa",
           "#EF553B",
           "#00cc96",
           "#ab63fa",
           "#FFA15A",
           "#19d3f3",
           "#FF6692",
           "#B6E880",
           "#FF97FF",
           "#FECB52"
          ],
          "font": {
           "color": "#2a3f5f"
          },
          "geo": {
           "bgcolor": "white",
           "lakecolor": "white",
           "landcolor": "#E5ECF6",
           "showlakes": true,
           "showland": true,
           "subunitcolor": "white"
          },
          "hoverlabel": {
           "align": "left"
          },
          "hovermode": "closest",
          "mapbox": {
           "style": "light"
          },
          "paper_bgcolor": "white",
          "plot_bgcolor": "#E5ECF6",
          "polar": {
           "angularaxis": {
            "gridcolor": "white",
            "linecolor": "white",
            "ticks": ""
           },
           "bgcolor": "#E5ECF6",
           "radialaxis": {
            "gridcolor": "white",
            "linecolor": "white",
            "ticks": ""
           }
          },
          "scene": {
           "xaxis": {
            "backgroundcolor": "#E5ECF6",
            "gridcolor": "white",
            "gridwidth": 2,
            "linecolor": "white",
            "showbackground": true,
            "ticks": "",
            "zerolinecolor": "white"
           },
           "yaxis": {
            "backgroundcolor": "#E5ECF6",
            "gridcolor": "white",
            "gridwidth": 2,
            "linecolor": "white",
            "showbackground": true,
            "ticks": "",
            "zerolinecolor": "white"
           },
           "zaxis": {
            "backgroundcolor": "#E5ECF6",
            "gridcolor": "white",
            "gridwidth": 2,
            "linecolor": "white",
            "showbackground": true,
            "ticks": "",
            "zerolinecolor": "white"
           }
          },
          "shapedefaults": {
           "line": {
            "color": "#2a3f5f"
           }
          },
          "ternary": {
           "aaxis": {
            "gridcolor": "white",
            "linecolor": "white",
            "ticks": ""
           },
           "baxis": {
            "gridcolor": "white",
            "linecolor": "white",
            "ticks": ""
           },
           "bgcolor": "#E5ECF6",
           "caxis": {
            "gridcolor": "white",
            "linecolor": "white",
            "ticks": ""
           }
          },
          "title": {
           "x": 0.05
          },
          "xaxis": {
           "automargin": true,
           "gridcolor": "white",
           "linecolor": "white",
           "ticks": "",
           "title": {
            "standoff": 15
           },
           "zerolinecolor": "white",
           "zerolinewidth": 2
          },
          "yaxis": {
           "automargin": true,
           "gridcolor": "white",
           "linecolor": "white",
           "ticks": "",
           "title": {
            "standoff": 15
           },
           "zerolinecolor": "white",
           "zerolinewidth": 2
          }
         }
        },
        "title": {
         "text": "Residual plot of Region_Europe and Central Asia"
        },
        "xaxis": {
         "anchor": "y",
         "domain": [
          0,
          1
         ],
         "title": {
          "text": "Region_Europe and Central Asia"
         }
        },
        "yaxis": {
         "anchor": "x",
         "domain": [
          0,
          1
         ],
         "title": {
          "text": "Residuals"
         }
        }
       }
      }
     },
     "metadata": {},
     "output_type": "display_data"
    },
    {
     "data": {
      "application/vnd.plotly.v1+json": {
       "config": {
        "plotlyServerURL": "https://plot.ly"
       },
       "data": [
        {
         "hovertemplate": "Region_Latin America and Caribbean=%{x}<br>Residuals=%{y}<extra></extra>",
         "legendgroup": "",
         "marker": {
          "color": "#636efa",
          "symbol": "circle"
         },
         "mode": "markers",
         "name": "",
         "orientation": "v",
         "showlegend": false,
         "type": "scatter",
         "x": [
          0,
          0,
          0,
          0,
          0,
          0,
          0,
          0,
          0,
          0,
          0,
          0,
          0,
          0,
          0,
          0,
          0,
          0,
          0,
          0,
          0,
          0,
          0,
          0,
          0,
          0,
          0,
          0,
          0,
          0,
          0,
          0,
          0,
          0,
          0,
          0,
          0,
          0,
          0,
          0,
          0,
          0,
          0,
          0,
          0,
          0,
          0,
          0,
          0,
          0,
          0,
          0,
          0,
          0,
          0,
          0,
          0,
          0,
          0,
          0,
          0,
          0,
          0,
          0,
          0,
          1,
          1,
          1,
          1,
          1,
          1,
          0,
          0,
          0,
          0,
          0,
          0,
          0,
          0,
          0,
          0,
          0,
          0,
          0,
          0,
          0,
          0,
          0,
          0,
          0,
          0,
          0,
          0,
          0,
          0,
          0,
          0,
          0,
          0,
          0,
          0,
          0,
          0,
          0,
          0,
          0,
          0,
          0,
          0,
          0,
          0,
          0,
          0,
          0,
          0,
          0,
          0,
          0,
          0,
          0,
          0,
          0,
          0,
          0,
          0,
          0,
          0,
          0,
          0,
          0,
          0,
          0,
          0,
          0,
          0,
          0,
          0,
          0,
          0,
          0,
          0,
          0,
          0,
          0,
          0,
          0,
          0,
          0,
          0,
          0,
          0,
          0,
          0,
          0,
          0,
          0,
          0,
          0,
          0,
          0,
          0,
          0,
          0,
          0,
          0,
          0,
          0,
          0,
          0,
          0,
          0,
          0,
          0,
          0,
          0,
          0,
          0,
          0,
          0,
          0,
          0,
          0,
          0,
          0,
          0,
          0,
          0,
          0,
          0,
          0,
          0,
          0,
          0,
          0,
          0,
          0,
          0,
          0,
          0,
          0,
          0,
          0,
          0,
          0,
          0,
          0,
          0,
          0,
          0,
          0,
          0,
          0,
          0,
          0,
          0,
          0,
          0,
          0,
          0,
          0,
          0,
          0,
          1,
          1,
          1,
          1,
          1,
          1,
          1,
          1,
          1,
          0,
          0,
          0,
          0,
          0,
          0,
          0,
          0,
          0,
          0,
          0,
          0,
          0,
          0,
          0,
          0,
          0,
          0,
          0,
          0,
          0,
          0,
          0,
          0,
          0,
          0,
          0,
          0,
          0,
          0,
          0,
          0,
          0,
          0,
          0,
          0,
          0,
          0,
          0,
          0,
          0,
          0,
          0,
          0,
          0,
          0,
          0,
          0,
          0,
          0,
          0,
          0,
          0,
          0,
          0,
          0,
          0,
          0,
          0,
          0,
          0,
          0,
          0,
          0,
          0,
          0,
          0,
          0,
          0,
          0,
          0,
          0,
          0,
          0,
          0,
          0,
          0,
          0,
          0,
          0,
          0,
          0,
          0,
          0,
          0,
          0,
          0,
          0,
          0,
          0,
          0,
          0,
          0,
          0,
          0,
          0,
          0,
          0,
          0,
          0,
          0,
          0,
          0,
          0,
          0,
          0,
          0,
          0,
          0,
          0,
          0,
          0,
          0,
          0,
          0,
          0,
          0,
          0,
          0,
          0,
          0,
          0,
          0,
          0,
          0,
          0,
          0,
          0,
          0,
          0,
          0,
          0,
          0,
          0,
          0,
          0,
          0,
          0,
          0,
          0,
          0,
          0,
          0,
          0,
          0,
          0,
          0,
          0,
          0,
          0,
          0,
          0,
          0,
          0,
          0,
          0,
          0,
          0,
          0,
          0,
          0,
          0,
          0,
          0,
          0,
          0,
          0,
          0,
          0
         ],
         "xaxis": "x",
         "y": [
          -0.009432527924492562,
          -0.012917810495263082,
          -0.0246614393455602,
          -0.01720787951676761,
          -0.010355072483283656,
          -0.017089471243327714,
          -0.01342850209218971,
          -0.008817574969827269,
          -0.009727232613114367,
          -0.012165810848284386,
          -0.017826385941363765,
          -0.011766178614687317,
          -0.000632949914415426,
          -0.004051210349599321,
          0.009338451030700023,
          0.011039552974796418,
          -0.0002398622945832818,
          0.01125106985501928,
          0.004026920508013954,
          0.038440831875237835,
          0.028779918565084106,
          0.03431082636611127,
          0.04419807923621416,
          0.04154578713297952,
          0.02467145824260142,
          0.008266115676990315,
          -0.006000923740644759,
          0.025560696240199632,
          0.007791026860896999,
          -0.0057663220675101545,
          0.0035018274203638122,
          0.01610745606761349,
          0.004289466418007815,
          0.009767718713229234,
          0.021678079830554253,
          0.007789333756649752,
          -0.0012430776309222402,
          0.0008506000084900767,
          -0.011817937428015957,
          0.03917496593488945,
          0.03770070635280448,
          0.03529558446031317,
          0.03196040299331837,
          0.033035028798660326,
          0.02449738539249502,
          0.02578561563892956,
          0.03181245975858904,
          0.03895786963987935,
          0.037641823756612125,
          0.032118426997414184,
          0.029928841932784833,
          0.030166077948277303,
          0.04261968913347569,
          0.04139848817435238,
          0.04304855440406513,
          0.03656986827294423,
          0.0353539713866548,
          0.005163452713181194,
          0.009648957340138209,
          0.006448994350066961,
          0.018203673987608526,
          0.0045616799207800485,
          0.00299092525014949,
          0.008316479177743474,
          0.008036509401497194,
          -0.03364458928713365,
          -0.01964980656692117,
          -0.013242010616831557,
          -0.026875369677825445,
          -0.038186963652333095,
          -0.03822036055474415,
          -0.006832664301830271,
          -0.030005281643520842,
          -0.01848981383752535,
          0.0478353160451756,
          0.049585016973806906,
          0.035034052016924666,
          0.037285102446987906,
          0.005144620168266778,
          -0.00644026825937688,
          0.028335336310427783,
          0.04121757658952058,
          0.07193900232389439,
          0.06852750492392018,
          0.07983799641971018,
          0.06435589245729911,
          0.053679026341488356,
          0.05103479149888296,
          -0.06087231856524217,
          -0.01933320834605956,
          -0.053732526905725,
          -0.05579859807698073,
          -0.04523958541998707,
          -0.031021147264913673,
          -0.03276313284429294,
          -0.04693220320270186,
          -0.05150985898219729,
          -0.034303178363700615,
          -0.044126698645856055,
          -0.03410284103285066,
          -0.03923924176885485,
          -0.06153306381504625,
          -0.04750379323767273,
          -0.02800620261636594,
          -0.02553149899222945,
          -0.02786714726791062,
          -0.03120647165246737,
          -0.0351263401651577,
          -0.023920356853617708,
          -0.02982142696685286,
          -0.026877816525673892,
          -0.03325694557271136,
          -0.02699492024511352,
          -0.030298587266329446,
          -0.027373098027458187,
          -0.017664760989533734,
          -0.012808984223372233,
          -0.016121355970780682,
          -0.0015625549467864208,
          -0.0038150179225838743,
          -0.008419360976164525,
          -0.003691813146522449,
          -0.002397421200482752,
          -0.02758521458948751,
          -0.01521070908287564,
          -0.02298233946986883,
          -0.017855267766013372,
          -0.009545085632417072,
          -0.0061003496928626055,
          -0.022523750448469382,
          -0.008501974185954775,
          -0.012400202882534128,
          -0.01210734287348153,
          -0.003810982129215046,
          0.006792964907837817,
          0.005722177918067839,
          0.009884223316245666,
          0.010990838147362125,
          0.014366035063204996,
          0.011614594877866036,
          0.0086601925076783,
          0.01933946065998332,
          0.011943551643554429,
          0.01673460015666206,
          0.012336751052191897,
          0.007555415554946321,
          0.010429524802084256,
          0.006835431130199354,
          -0.0061057475480303935,
          0.00331694026646423,
          0.029277031617133464,
          0.005749957706515263,
          -0.0006937652817381457,
          0.022862031351572276,
          0.010750642081956752,
          0.03455082826550887,
          0.039086611354638534,
          0.025798114081096835,
          -0.026612641048316177,
          -0.025564418202919964,
          -0.030158947030589633,
          -0.048107942921960856,
          -0.06162340089281804,
          -0.03480698036017449,
          -0.04452826393359033,
          -0.04506213246070612,
          -0.050044515935676825,
          -0.04767456789160057,
          -0.04103935714857787,
          -0.03763550290765155,
          0.015317985770086862,
          -0.00736674575850893,
          0.0075955559936119466,
          0.004430146359318932,
          0.015398405510368529,
          0.02093358510049903,
          0.007108862141151084,
          0.00820917362747553,
          -0.002536625335544218,
          -0.00878005191556508,
          -0.019008178360499672,
          -0.01152562010891095,
          -0.0015099835638131553,
          0.009196420722032805,
          0.010589072932851828,
          -0.00006376865601775972,
          0.0063561353741436455,
          0.009460930033255988,
          -0.002219702140718538,
          -0.01467433974690191,
          -0.011034128885460515,
          -0.005180894878663578,
          -0.006889164493732891,
          -0.0036767933217888293,
          0.001575981559829076,
          -0.004713888667872035,
          -0.0026544313506245976,
          -0.009112652671278254,
          -0.01895225412877871,
          -0.00253483885372896,
          -0.010651755440150679,
          -0.018395773354568712,
          -0.027073558836680667,
          -0.027840786425380848,
          -0.030920970406617787,
          -0.032486161721446694,
          -0.03284336688256495,
          -0.02469863641592579,
          -0.023310415392256756,
          -0.022411888309167405,
          -0.01936584333808128,
          -0.022385253589046916,
          -0.011934672655313672,
          0.08099007535603459,
          0.08184550051743295,
          0.06840032417418346,
          0.05622365101942478,
          0.042850654416793255,
          0.036468731255271614,
          0.02898940608315176,
          0.043403999248509406,
          0.04512951340322735,
          0.01984230574192003,
          0.03220153082899779,
          0.020249526816706998,
          0.020238451105278554,
          0.02754935616159837,
          0.03083309038047055,
          0.009916425367627713,
          -0.0040733755521124015,
          -0.0020831805256025238,
          0.014683952098386854,
          -0.0003621748570045713,
          0.0015842192564524682,
          0.004450031490637663,
          0.0032911906335008068,
          0.0023466753792520945,
          -0.001928576991047204,
          -0.007845984638588821,
          -0.008589632403830039,
          0.005047974835196645,
          0.0018381220018390265,
          -0.01725165152521374,
          0.004671450863435345,
          0.00014566868770599095,
          0.04384861609050128,
          0.028458296563614816,
          -0.015607511280847974,
          -0.007463663970697865,
          -0.021494855599488105,
          -0.021100021881527875,
          -0.0300732584943591,
          -0.0342259463094694,
          -0.026951115588040253,
          -0.025178195464629738,
          -0.018066728593681358,
          -0.004964712004852656,
          0.002123800310631585,
          -0.009873452224928969,
          -0.007958353639112736,
          -0.0016990033946376326,
          -0.028755834440254202,
          0.024441228541759896,
          -0.05545609365033294,
          -0.024323877539072947,
          0.000408705501097395,
          0.004363959244570059,
          -0.01072068649067709,
          0.002819770827022061,
          0.02470550998018145,
          0.009883077525888684,
          -0.0003051309680384695,
          0.010399055349187392,
          -0.004325919369087272,
          0.008181733022964655,
          -0.0008166578347356679,
          -0.006635346634132455,
          -0.009227524096635353,
          -0.006759991641783369,
          -0.0005161605422298599,
          -0.0031011822708000847,
          -0.006384456874285682,
          -0.008687359004804496,
          -0.010359700674580141,
          -0.006690461780103629,
          -0.14608082194088,
          0.017183341221409187,
          0.020373675691985893,
          0.01935162547755981,
          0.0037988118976709506,
          0.01285616810018314,
          0.019648943372764016,
          0.014110594227194129,
          0.02965585612084265,
          0.01648286905897478,
          0.016499664774050238,
          0.016727439645999986,
          0.018957258831809265,
          0.017148242734861652,
          0.02257268238183824,
          0.024321061941596722,
          0.011102011709967385,
          0.023221802641645528,
          0.020633476537096296,
          0.03441414978256413,
          0.04081612199761331,
          0.021193985722476716,
          0.0019085469426661228,
          0.009480619129852708,
          0.006692506980297608,
          0.012387621359718881,
          0.01638570489854546,
          0.02167192675863505,
          0.016557138151540418,
          0.019833967382972217,
          -0.018950434241363612,
          -0.026211329979145825,
          -0.01823531170357623,
          -0.013128695955551217,
          -0.017466224569955502,
          0.011505341632982669,
          0.008293640698251836,
          0.01337502271370744,
          -0.0006336554694127416,
          0.06626245697855371,
          0.049760480974597066,
          0.02496158870571963,
          0.023863740547975743,
          0.02263836105222633,
          0.027969892043927802,
          0.027488913141247573,
          0.009346169582546748,
          0.015306171967597981,
          0.013849689508946439,
          -0.0052437525116544315,
          -0.015212446096378118,
          -0.01078428359857142,
          -0.012402746395875741,
          -0.003886787607025044,
          0.006155536317089649,
          0.00653428483495333,
          -0.001434107315461397,
          0.011849517020231792,
          0.008034266809130775,
          -0.01481000621175771,
          -0.013305900925866976,
          -0.02212711840563769,
          -0.02637288806229693,
          -0.03607236135299774,
          -0.04239472892809509,
          -0.01481659738298946,
          -0.006857251741105408,
          -0.017820247238887255,
          -0.018407792639698273,
          0.02776533722122826,
          0.03505847721748101,
          0.0007113377841737045,
          -0.015625965830907862,
          -0.013218156989363627,
          -0.005683084508408154,
          0.00007577469918085278,
          0.019153130931066797,
          0.027634359725199675,
          0.025159644271211923,
          0.029070093527369945,
          0.03403466072772898,
          0.036948161926731005,
          -0.019263787424662948,
          -0.01624378779126151,
          -0.02075873355940583,
          -0.025108927495946287,
          -0.02703190035171399,
          -0.03308897428368679,
          -0.024727187875298318,
          -0.02414917209039036,
          -0.027412995982478316,
          -0.03345828566470377,
          -0.025431170457028085,
          -0.026415757431068554,
          -0.021455907479599023,
          -0.02216772630943087,
          -0.03062448029545861,
          -0.031553259995663496,
          0.00490506530802981,
          0.007507271080077149,
          0.004701335323379241,
          0.007523601726305007,
          0.007511323739103903,
          -0.0021205498892235553,
          0.0023598977629440965,
          0.00030179015135572973,
          -0.006825977823607998,
          -0.006895851135550246,
          -0.005341269840980101,
          -0.010935672706249067,
          -0.006339001544700462,
          -0.00748744365032189,
          -0.006449405639113837,
          -0.007752799037765545,
          -0.0016303104640084665
         ],
         "yaxis": "y"
        }
       ],
       "layout": {
        "legend": {
         "tracegroupgap": 0
        },
        "template": {
         "data": {
          "bar": [
           {
            "error_x": {
             "color": "#2a3f5f"
            },
            "error_y": {
             "color": "#2a3f5f"
            },
            "marker": {
             "line": {
              "color": "#E5ECF6",
              "width": 0.5
             },
             "pattern": {
              "fillmode": "overlay",
              "size": 10,
              "solidity": 0.2
             }
            },
            "type": "bar"
           }
          ],
          "barpolar": [
           {
            "marker": {
             "line": {
              "color": "#E5ECF6",
              "width": 0.5
             },
             "pattern": {
              "fillmode": "overlay",
              "size": 10,
              "solidity": 0.2
             }
            },
            "type": "barpolar"
           }
          ],
          "carpet": [
           {
            "aaxis": {
             "endlinecolor": "#2a3f5f",
             "gridcolor": "white",
             "linecolor": "white",
             "minorgridcolor": "white",
             "startlinecolor": "#2a3f5f"
            },
            "baxis": {
             "endlinecolor": "#2a3f5f",
             "gridcolor": "white",
             "linecolor": "white",
             "minorgridcolor": "white",
             "startlinecolor": "#2a3f5f"
            },
            "type": "carpet"
           }
          ],
          "choropleth": [
           {
            "colorbar": {
             "outlinewidth": 0,
             "ticks": ""
            },
            "type": "choropleth"
           }
          ],
          "contour": [
           {
            "colorbar": {
             "outlinewidth": 0,
             "ticks": ""
            },
            "colorscale": [
             [
              0,
              "#0d0887"
             ],
             [
              0.1111111111111111,
              "#46039f"
             ],
             [
              0.2222222222222222,
              "#7201a8"
             ],
             [
              0.3333333333333333,
              "#9c179e"
             ],
             [
              0.4444444444444444,
              "#bd3786"
             ],
             [
              0.5555555555555556,
              "#d8576b"
             ],
             [
              0.6666666666666666,
              "#ed7953"
             ],
             [
              0.7777777777777778,
              "#fb9f3a"
             ],
             [
              0.8888888888888888,
              "#fdca26"
             ],
             [
              1,
              "#f0f921"
             ]
            ],
            "type": "contour"
           }
          ],
          "contourcarpet": [
           {
            "colorbar": {
             "outlinewidth": 0,
             "ticks": ""
            },
            "type": "contourcarpet"
           }
          ],
          "heatmap": [
           {
            "colorbar": {
             "outlinewidth": 0,
             "ticks": ""
            },
            "colorscale": [
             [
              0,
              "#0d0887"
             ],
             [
              0.1111111111111111,
              "#46039f"
             ],
             [
              0.2222222222222222,
              "#7201a8"
             ],
             [
              0.3333333333333333,
              "#9c179e"
             ],
             [
              0.4444444444444444,
              "#bd3786"
             ],
             [
              0.5555555555555556,
              "#d8576b"
             ],
             [
              0.6666666666666666,
              "#ed7953"
             ],
             [
              0.7777777777777778,
              "#fb9f3a"
             ],
             [
              0.8888888888888888,
              "#fdca26"
             ],
             [
              1,
              "#f0f921"
             ]
            ],
            "type": "heatmap"
           }
          ],
          "heatmapgl": [
           {
            "colorbar": {
             "outlinewidth": 0,
             "ticks": ""
            },
            "colorscale": [
             [
              0,
              "#0d0887"
             ],
             [
              0.1111111111111111,
              "#46039f"
             ],
             [
              0.2222222222222222,
              "#7201a8"
             ],
             [
              0.3333333333333333,
              "#9c179e"
             ],
             [
              0.4444444444444444,
              "#bd3786"
             ],
             [
              0.5555555555555556,
              "#d8576b"
             ],
             [
              0.6666666666666666,
              "#ed7953"
             ],
             [
              0.7777777777777778,
              "#fb9f3a"
             ],
             [
              0.8888888888888888,
              "#fdca26"
             ],
             [
              1,
              "#f0f921"
             ]
            ],
            "type": "heatmapgl"
           }
          ],
          "histogram": [
           {
            "marker": {
             "pattern": {
              "fillmode": "overlay",
              "size": 10,
              "solidity": 0.2
             }
            },
            "type": "histogram"
           }
          ],
          "histogram2d": [
           {
            "colorbar": {
             "outlinewidth": 0,
             "ticks": ""
            },
            "colorscale": [
             [
              0,
              "#0d0887"
             ],
             [
              0.1111111111111111,
              "#46039f"
             ],
             [
              0.2222222222222222,
              "#7201a8"
             ],
             [
              0.3333333333333333,
              "#9c179e"
             ],
             [
              0.4444444444444444,
              "#bd3786"
             ],
             [
              0.5555555555555556,
              "#d8576b"
             ],
             [
              0.6666666666666666,
              "#ed7953"
             ],
             [
              0.7777777777777778,
              "#fb9f3a"
             ],
             [
              0.8888888888888888,
              "#fdca26"
             ],
             [
              1,
              "#f0f921"
             ]
            ],
            "type": "histogram2d"
           }
          ],
          "histogram2dcontour": [
           {
            "colorbar": {
             "outlinewidth": 0,
             "ticks": ""
            },
            "colorscale": [
             [
              0,
              "#0d0887"
             ],
             [
              0.1111111111111111,
              "#46039f"
             ],
             [
              0.2222222222222222,
              "#7201a8"
             ],
             [
              0.3333333333333333,
              "#9c179e"
             ],
             [
              0.4444444444444444,
              "#bd3786"
             ],
             [
              0.5555555555555556,
              "#d8576b"
             ],
             [
              0.6666666666666666,
              "#ed7953"
             ],
             [
              0.7777777777777778,
              "#fb9f3a"
             ],
             [
              0.8888888888888888,
              "#fdca26"
             ],
             [
              1,
              "#f0f921"
             ]
            ],
            "type": "histogram2dcontour"
           }
          ],
          "mesh3d": [
           {
            "colorbar": {
             "outlinewidth": 0,
             "ticks": ""
            },
            "type": "mesh3d"
           }
          ],
          "parcoords": [
           {
            "line": {
             "colorbar": {
              "outlinewidth": 0,
              "ticks": ""
             }
            },
            "type": "parcoords"
           }
          ],
          "pie": [
           {
            "automargin": true,
            "type": "pie"
           }
          ],
          "scatter": [
           {
            "fillpattern": {
             "fillmode": "overlay",
             "size": 10,
             "solidity": 0.2
            },
            "type": "scatter"
           }
          ],
          "scatter3d": [
           {
            "line": {
             "colorbar": {
              "outlinewidth": 0,
              "ticks": ""
             }
            },
            "marker": {
             "colorbar": {
              "outlinewidth": 0,
              "ticks": ""
             }
            },
            "type": "scatter3d"
           }
          ],
          "scattercarpet": [
           {
            "marker": {
             "colorbar": {
              "outlinewidth": 0,
              "ticks": ""
             }
            },
            "type": "scattercarpet"
           }
          ],
          "scattergeo": [
           {
            "marker": {
             "colorbar": {
              "outlinewidth": 0,
              "ticks": ""
             }
            },
            "type": "scattergeo"
           }
          ],
          "scattergl": [
           {
            "marker": {
             "colorbar": {
              "outlinewidth": 0,
              "ticks": ""
             }
            },
            "type": "scattergl"
           }
          ],
          "scattermapbox": [
           {
            "marker": {
             "colorbar": {
              "outlinewidth": 0,
              "ticks": ""
             }
            },
            "type": "scattermapbox"
           }
          ],
          "scatterpolar": [
           {
            "marker": {
             "colorbar": {
              "outlinewidth": 0,
              "ticks": ""
             }
            },
            "type": "scatterpolar"
           }
          ],
          "scatterpolargl": [
           {
            "marker": {
             "colorbar": {
              "outlinewidth": 0,
              "ticks": ""
             }
            },
            "type": "scatterpolargl"
           }
          ],
          "scatterternary": [
           {
            "marker": {
             "colorbar": {
              "outlinewidth": 0,
              "ticks": ""
             }
            },
            "type": "scatterternary"
           }
          ],
          "surface": [
           {
            "colorbar": {
             "outlinewidth": 0,
             "ticks": ""
            },
            "colorscale": [
             [
              0,
              "#0d0887"
             ],
             [
              0.1111111111111111,
              "#46039f"
             ],
             [
              0.2222222222222222,
              "#7201a8"
             ],
             [
              0.3333333333333333,
              "#9c179e"
             ],
             [
              0.4444444444444444,
              "#bd3786"
             ],
             [
              0.5555555555555556,
              "#d8576b"
             ],
             [
              0.6666666666666666,
              "#ed7953"
             ],
             [
              0.7777777777777778,
              "#fb9f3a"
             ],
             [
              0.8888888888888888,
              "#fdca26"
             ],
             [
              1,
              "#f0f921"
             ]
            ],
            "type": "surface"
           }
          ],
          "table": [
           {
            "cells": {
             "fill": {
              "color": "#EBF0F8"
             },
             "line": {
              "color": "white"
             }
            },
            "header": {
             "fill": {
              "color": "#C8D4E3"
             },
             "line": {
              "color": "white"
             }
            },
            "type": "table"
           }
          ]
         },
         "layout": {
          "annotationdefaults": {
           "arrowcolor": "#2a3f5f",
           "arrowhead": 0,
           "arrowwidth": 1
          },
          "autotypenumbers": "strict",
          "coloraxis": {
           "colorbar": {
            "outlinewidth": 0,
            "ticks": ""
           }
          },
          "colorscale": {
           "diverging": [
            [
             0,
             "#8e0152"
            ],
            [
             0.1,
             "#c51b7d"
            ],
            [
             0.2,
             "#de77ae"
            ],
            [
             0.3,
             "#f1b6da"
            ],
            [
             0.4,
             "#fde0ef"
            ],
            [
             0.5,
             "#f7f7f7"
            ],
            [
             0.6,
             "#e6f5d0"
            ],
            [
             0.7,
             "#b8e186"
            ],
            [
             0.8,
             "#7fbc41"
            ],
            [
             0.9,
             "#4d9221"
            ],
            [
             1,
             "#276419"
            ]
           ],
           "sequential": [
            [
             0,
             "#0d0887"
            ],
            [
             0.1111111111111111,
             "#46039f"
            ],
            [
             0.2222222222222222,
             "#7201a8"
            ],
            [
             0.3333333333333333,
             "#9c179e"
            ],
            [
             0.4444444444444444,
             "#bd3786"
            ],
            [
             0.5555555555555556,
             "#d8576b"
            ],
            [
             0.6666666666666666,
             "#ed7953"
            ],
            [
             0.7777777777777778,
             "#fb9f3a"
            ],
            [
             0.8888888888888888,
             "#fdca26"
            ],
            [
             1,
             "#f0f921"
            ]
           ],
           "sequentialminus": [
            [
             0,
             "#0d0887"
            ],
            [
             0.1111111111111111,
             "#46039f"
            ],
            [
             0.2222222222222222,
             "#7201a8"
            ],
            [
             0.3333333333333333,
             "#9c179e"
            ],
            [
             0.4444444444444444,
             "#bd3786"
            ],
            [
             0.5555555555555556,
             "#d8576b"
            ],
            [
             0.6666666666666666,
             "#ed7953"
            ],
            [
             0.7777777777777778,
             "#fb9f3a"
            ],
            [
             0.8888888888888888,
             "#fdca26"
            ],
            [
             1,
             "#f0f921"
            ]
           ]
          },
          "colorway": [
           "#636efa",
           "#EF553B",
           "#00cc96",
           "#ab63fa",
           "#FFA15A",
           "#19d3f3",
           "#FF6692",
           "#B6E880",
           "#FF97FF",
           "#FECB52"
          ],
          "font": {
           "color": "#2a3f5f"
          },
          "geo": {
           "bgcolor": "white",
           "lakecolor": "white",
           "landcolor": "#E5ECF6",
           "showlakes": true,
           "showland": true,
           "subunitcolor": "white"
          },
          "hoverlabel": {
           "align": "left"
          },
          "hovermode": "closest",
          "mapbox": {
           "style": "light"
          },
          "paper_bgcolor": "white",
          "plot_bgcolor": "#E5ECF6",
          "polar": {
           "angularaxis": {
            "gridcolor": "white",
            "linecolor": "white",
            "ticks": ""
           },
           "bgcolor": "#E5ECF6",
           "radialaxis": {
            "gridcolor": "white",
            "linecolor": "white",
            "ticks": ""
           }
          },
          "scene": {
           "xaxis": {
            "backgroundcolor": "#E5ECF6",
            "gridcolor": "white",
            "gridwidth": 2,
            "linecolor": "white",
            "showbackground": true,
            "ticks": "",
            "zerolinecolor": "white"
           },
           "yaxis": {
            "backgroundcolor": "#E5ECF6",
            "gridcolor": "white",
            "gridwidth": 2,
            "linecolor": "white",
            "showbackground": true,
            "ticks": "",
            "zerolinecolor": "white"
           },
           "zaxis": {
            "backgroundcolor": "#E5ECF6",
            "gridcolor": "white",
            "gridwidth": 2,
            "linecolor": "white",
            "showbackground": true,
            "ticks": "",
            "zerolinecolor": "white"
           }
          },
          "shapedefaults": {
           "line": {
            "color": "#2a3f5f"
           }
          },
          "ternary": {
           "aaxis": {
            "gridcolor": "white",
            "linecolor": "white",
            "ticks": ""
           },
           "baxis": {
            "gridcolor": "white",
            "linecolor": "white",
            "ticks": ""
           },
           "bgcolor": "#E5ECF6",
           "caxis": {
            "gridcolor": "white",
            "linecolor": "white",
            "ticks": ""
           }
          },
          "title": {
           "x": 0.05
          },
          "xaxis": {
           "automargin": true,
           "gridcolor": "white",
           "linecolor": "white",
           "ticks": "",
           "title": {
            "standoff": 15
           },
           "zerolinecolor": "white",
           "zerolinewidth": 2
          },
          "yaxis": {
           "automargin": true,
           "gridcolor": "white",
           "linecolor": "white",
           "ticks": "",
           "title": {
            "standoff": 15
           },
           "zerolinecolor": "white",
           "zerolinewidth": 2
          }
         }
        },
        "title": {
         "text": "Residual plot of Region_Latin America and Caribbean"
        },
        "xaxis": {
         "anchor": "y",
         "domain": [
          0,
          1
         ],
         "title": {
          "text": "Region_Latin America and Caribbean"
         }
        },
        "yaxis": {
         "anchor": "x",
         "domain": [
          0,
          1
         ],
         "title": {
          "text": "Residuals"
         }
        }
       }
      }
     },
     "metadata": {},
     "output_type": "display_data"
    },
    {
     "data": {
      "application/vnd.plotly.v1+json": {
       "config": {
        "plotlyServerURL": "https://plot.ly"
       },
       "data": [
        {
         "hovertemplate": "Region_Middle East and North Africa=%{x}<br>Residuals=%{y}<extra></extra>",
         "legendgroup": "",
         "marker": {
          "color": "#636efa",
          "symbol": "circle"
         },
         "mode": "markers",
         "name": "",
         "orientation": "v",
         "showlegend": false,
         "type": "scatter",
         "x": [
          0,
          0,
          0,
          0,
          0,
          0,
          0,
          0,
          0,
          0,
          0,
          0,
          0,
          0,
          0,
          0,
          0,
          0,
          0,
          0,
          0,
          0,
          0,
          0,
          0,
          0,
          0,
          0,
          0,
          0,
          0,
          0,
          0,
          0,
          0,
          0,
          0,
          0,
          0,
          0,
          0,
          0,
          0,
          0,
          0,
          0,
          0,
          0,
          0,
          0,
          0,
          0,
          0,
          0,
          0,
          0,
          0,
          0,
          0,
          0,
          0,
          0,
          0,
          0,
          0,
          0,
          0,
          0,
          0,
          0,
          0,
          0,
          0,
          0,
          0,
          0,
          0,
          0,
          0,
          0,
          0,
          0,
          0,
          0,
          0,
          0,
          0,
          0,
          0,
          0,
          0,
          0,
          0,
          0,
          0,
          0,
          0,
          0,
          0,
          0,
          0,
          0,
          0,
          0,
          0,
          0,
          0,
          0,
          0,
          0,
          0,
          0,
          0,
          0,
          0,
          0,
          0,
          0,
          0,
          0,
          0,
          0,
          0,
          0,
          0,
          0,
          0,
          0,
          0,
          0,
          0,
          0,
          0,
          0,
          0,
          0,
          0,
          0,
          0,
          0,
          0,
          0,
          0,
          0,
          0,
          0,
          0,
          0,
          0,
          0,
          0,
          0,
          0,
          0,
          0,
          0,
          0,
          0,
          0,
          0,
          0,
          0,
          0,
          0,
          0,
          0,
          0,
          0,
          0,
          0,
          0,
          0,
          0,
          0,
          0,
          0,
          0,
          0,
          0,
          0,
          0,
          0,
          0,
          0,
          0,
          0,
          0,
          0,
          0,
          0,
          0,
          0,
          0,
          0,
          0,
          0,
          0,
          0,
          0,
          0,
          0,
          0,
          0,
          0,
          0,
          0,
          0,
          0,
          0,
          0,
          0,
          0,
          0,
          0,
          0,
          0,
          0,
          0,
          0,
          0,
          0,
          0,
          0,
          0,
          0,
          0,
          0,
          0,
          0,
          0,
          0,
          0,
          0,
          0,
          0,
          0,
          0,
          0,
          0,
          0,
          0,
          0,
          0,
          0,
          0,
          0,
          0,
          0,
          0,
          0,
          0,
          0,
          0,
          0,
          0,
          0,
          0,
          0,
          0,
          0,
          0,
          0,
          0,
          0,
          0,
          0,
          0,
          0,
          0,
          0,
          0,
          0,
          0,
          0,
          0,
          0,
          0,
          0,
          0,
          0,
          0,
          0,
          0,
          0,
          0,
          1,
          0,
          0,
          0,
          0,
          0,
          0,
          0,
          0,
          0,
          0,
          0,
          0,
          0,
          0,
          0,
          0,
          0,
          0,
          0,
          0,
          0,
          0,
          0,
          0,
          0,
          0,
          0,
          0,
          0,
          0,
          0,
          0,
          0,
          0,
          0,
          0,
          0,
          0,
          0,
          0,
          0,
          0,
          0,
          0,
          0,
          0,
          0,
          0,
          0,
          0,
          0,
          0,
          0,
          0,
          0,
          0,
          0,
          0,
          0,
          0,
          0,
          0,
          0,
          0,
          0,
          0,
          0,
          0,
          0,
          0,
          0,
          0,
          0,
          0,
          0,
          0,
          0,
          0,
          0,
          0,
          0,
          0,
          0,
          0,
          0,
          0,
          0,
          0,
          0,
          0,
          0,
          0,
          0,
          0,
          0,
          0,
          0,
          0,
          0,
          0,
          0,
          0,
          0,
          0,
          0,
          0,
          0,
          0,
          0,
          0,
          0,
          0,
          0,
          0
         ],
         "xaxis": "x",
         "y": [
          -0.009432527924492562,
          -0.012917810495263082,
          -0.0246614393455602,
          -0.01720787951676761,
          -0.010355072483283656,
          -0.017089471243327714,
          -0.01342850209218971,
          -0.008817574969827269,
          -0.009727232613114367,
          -0.012165810848284386,
          -0.017826385941363765,
          -0.011766178614687317,
          -0.000632949914415426,
          -0.004051210349599321,
          0.009338451030700023,
          0.011039552974796418,
          -0.0002398622945832818,
          0.01125106985501928,
          0.004026920508013954,
          0.038440831875237835,
          0.028779918565084106,
          0.03431082636611127,
          0.04419807923621416,
          0.04154578713297952,
          0.02467145824260142,
          0.008266115676990315,
          -0.006000923740644759,
          0.025560696240199632,
          0.007791026860896999,
          -0.0057663220675101545,
          0.0035018274203638122,
          0.01610745606761349,
          0.004289466418007815,
          0.009767718713229234,
          0.021678079830554253,
          0.007789333756649752,
          -0.0012430776309222402,
          0.0008506000084900767,
          -0.011817937428015957,
          0.03917496593488945,
          0.03770070635280448,
          0.03529558446031317,
          0.03196040299331837,
          0.033035028798660326,
          0.02449738539249502,
          0.02578561563892956,
          0.03181245975858904,
          0.03895786963987935,
          0.037641823756612125,
          0.032118426997414184,
          0.029928841932784833,
          0.030166077948277303,
          0.04261968913347569,
          0.04139848817435238,
          0.04304855440406513,
          0.03656986827294423,
          0.0353539713866548,
          0.005163452713181194,
          0.009648957340138209,
          0.006448994350066961,
          0.018203673987608526,
          0.0045616799207800485,
          0.00299092525014949,
          0.008316479177743474,
          0.008036509401497194,
          -0.03364458928713365,
          -0.01964980656692117,
          -0.013242010616831557,
          -0.026875369677825445,
          -0.038186963652333095,
          -0.03822036055474415,
          -0.006832664301830271,
          -0.030005281643520842,
          -0.01848981383752535,
          0.0478353160451756,
          0.049585016973806906,
          0.035034052016924666,
          0.037285102446987906,
          0.005144620168266778,
          -0.00644026825937688,
          0.028335336310427783,
          0.04121757658952058,
          0.07193900232389439,
          0.06852750492392018,
          0.07983799641971018,
          0.06435589245729911,
          0.053679026341488356,
          0.05103479149888296,
          -0.06087231856524217,
          -0.01933320834605956,
          -0.053732526905725,
          -0.05579859807698073,
          -0.04523958541998707,
          -0.031021147264913673,
          -0.03276313284429294,
          -0.04693220320270186,
          -0.05150985898219729,
          -0.034303178363700615,
          -0.044126698645856055,
          -0.03410284103285066,
          -0.03923924176885485,
          -0.06153306381504625,
          -0.04750379323767273,
          -0.02800620261636594,
          -0.02553149899222945,
          -0.02786714726791062,
          -0.03120647165246737,
          -0.0351263401651577,
          -0.023920356853617708,
          -0.02982142696685286,
          -0.026877816525673892,
          -0.03325694557271136,
          -0.02699492024511352,
          -0.030298587266329446,
          -0.027373098027458187,
          -0.017664760989533734,
          -0.012808984223372233,
          -0.016121355970780682,
          -0.0015625549467864208,
          -0.0038150179225838743,
          -0.008419360976164525,
          -0.003691813146522449,
          -0.002397421200482752,
          -0.02758521458948751,
          -0.01521070908287564,
          -0.02298233946986883,
          -0.017855267766013372,
          -0.009545085632417072,
          -0.0061003496928626055,
          -0.022523750448469382,
          -0.008501974185954775,
          -0.012400202882534128,
          -0.01210734287348153,
          -0.003810982129215046,
          0.006792964907837817,
          0.005722177918067839,
          0.009884223316245666,
          0.010990838147362125,
          0.014366035063204996,
          0.011614594877866036,
          0.0086601925076783,
          0.01933946065998332,
          0.011943551643554429,
          0.01673460015666206,
          0.012336751052191897,
          0.007555415554946321,
          0.010429524802084256,
          0.006835431130199354,
          -0.0061057475480303935,
          0.00331694026646423,
          0.029277031617133464,
          0.005749957706515263,
          -0.0006937652817381457,
          0.022862031351572276,
          0.010750642081956752,
          0.03455082826550887,
          0.039086611354638534,
          0.025798114081096835,
          -0.026612641048316177,
          -0.025564418202919964,
          -0.030158947030589633,
          -0.048107942921960856,
          -0.06162340089281804,
          -0.03480698036017449,
          -0.04452826393359033,
          -0.04506213246070612,
          -0.050044515935676825,
          -0.04767456789160057,
          -0.04103935714857787,
          -0.03763550290765155,
          0.015317985770086862,
          -0.00736674575850893,
          0.0075955559936119466,
          0.004430146359318932,
          0.015398405510368529,
          0.02093358510049903,
          0.007108862141151084,
          0.00820917362747553,
          -0.002536625335544218,
          -0.00878005191556508,
          -0.019008178360499672,
          -0.01152562010891095,
          -0.0015099835638131553,
          0.009196420722032805,
          0.010589072932851828,
          -0.00006376865601775972,
          0.0063561353741436455,
          0.009460930033255988,
          -0.002219702140718538,
          -0.01467433974690191,
          -0.011034128885460515,
          -0.005180894878663578,
          -0.006889164493732891,
          -0.0036767933217888293,
          0.001575981559829076,
          -0.004713888667872035,
          -0.0026544313506245976,
          -0.009112652671278254,
          -0.01895225412877871,
          -0.00253483885372896,
          -0.010651755440150679,
          -0.018395773354568712,
          -0.027073558836680667,
          -0.027840786425380848,
          -0.030920970406617787,
          -0.032486161721446694,
          -0.03284336688256495,
          -0.02469863641592579,
          -0.023310415392256756,
          -0.022411888309167405,
          -0.01936584333808128,
          -0.022385253589046916,
          -0.011934672655313672,
          0.08099007535603459,
          0.08184550051743295,
          0.06840032417418346,
          0.05622365101942478,
          0.042850654416793255,
          0.036468731255271614,
          0.02898940608315176,
          0.043403999248509406,
          0.04512951340322735,
          0.01984230574192003,
          0.03220153082899779,
          0.020249526816706998,
          0.020238451105278554,
          0.02754935616159837,
          0.03083309038047055,
          0.009916425367627713,
          -0.0040733755521124015,
          -0.0020831805256025238,
          0.014683952098386854,
          -0.0003621748570045713,
          0.0015842192564524682,
          0.004450031490637663,
          0.0032911906335008068,
          0.0023466753792520945,
          -0.001928576991047204,
          -0.007845984638588821,
          -0.008589632403830039,
          0.005047974835196645,
          0.0018381220018390265,
          -0.01725165152521374,
          0.004671450863435345,
          0.00014566868770599095,
          0.04384861609050128,
          0.028458296563614816,
          -0.015607511280847974,
          -0.007463663970697865,
          -0.021494855599488105,
          -0.021100021881527875,
          -0.0300732584943591,
          -0.0342259463094694,
          -0.026951115588040253,
          -0.025178195464629738,
          -0.018066728593681358,
          -0.004964712004852656,
          0.002123800310631585,
          -0.009873452224928969,
          -0.007958353639112736,
          -0.0016990033946376326,
          -0.028755834440254202,
          0.024441228541759896,
          -0.05545609365033294,
          -0.024323877539072947,
          0.000408705501097395,
          0.004363959244570059,
          -0.01072068649067709,
          0.002819770827022061,
          0.02470550998018145,
          0.009883077525888684,
          -0.0003051309680384695,
          0.010399055349187392,
          -0.004325919369087272,
          0.008181733022964655,
          -0.0008166578347356679,
          -0.006635346634132455,
          -0.009227524096635353,
          -0.006759991641783369,
          -0.0005161605422298599,
          -0.0031011822708000847,
          -0.006384456874285682,
          -0.008687359004804496,
          -0.010359700674580141,
          -0.006690461780103629,
          -0.14608082194088,
          0.017183341221409187,
          0.020373675691985893,
          0.01935162547755981,
          0.0037988118976709506,
          0.01285616810018314,
          0.019648943372764016,
          0.014110594227194129,
          0.02965585612084265,
          0.01648286905897478,
          0.016499664774050238,
          0.016727439645999986,
          0.018957258831809265,
          0.017148242734861652,
          0.02257268238183824,
          0.024321061941596722,
          0.011102011709967385,
          0.023221802641645528,
          0.020633476537096296,
          0.03441414978256413,
          0.04081612199761331,
          0.021193985722476716,
          0.0019085469426661228,
          0.009480619129852708,
          0.006692506980297608,
          0.012387621359718881,
          0.01638570489854546,
          0.02167192675863505,
          0.016557138151540418,
          0.019833967382972217,
          -0.018950434241363612,
          -0.026211329979145825,
          -0.01823531170357623,
          -0.013128695955551217,
          -0.017466224569955502,
          0.011505341632982669,
          0.008293640698251836,
          0.01337502271370744,
          -0.0006336554694127416,
          0.06626245697855371,
          0.049760480974597066,
          0.02496158870571963,
          0.023863740547975743,
          0.02263836105222633,
          0.027969892043927802,
          0.027488913141247573,
          0.009346169582546748,
          0.015306171967597981,
          0.013849689508946439,
          -0.0052437525116544315,
          -0.015212446096378118,
          -0.01078428359857142,
          -0.012402746395875741,
          -0.003886787607025044,
          0.006155536317089649,
          0.00653428483495333,
          -0.001434107315461397,
          0.011849517020231792,
          0.008034266809130775,
          -0.01481000621175771,
          -0.013305900925866976,
          -0.02212711840563769,
          -0.02637288806229693,
          -0.03607236135299774,
          -0.04239472892809509,
          -0.01481659738298946,
          -0.006857251741105408,
          -0.017820247238887255,
          -0.018407792639698273,
          0.02776533722122826,
          0.03505847721748101,
          0.0007113377841737045,
          -0.015625965830907862,
          -0.013218156989363627,
          -0.005683084508408154,
          0.00007577469918085278,
          0.019153130931066797,
          0.027634359725199675,
          0.025159644271211923,
          0.029070093527369945,
          0.03403466072772898,
          0.036948161926731005,
          -0.019263787424662948,
          -0.01624378779126151,
          -0.02075873355940583,
          -0.025108927495946287,
          -0.02703190035171399,
          -0.03308897428368679,
          -0.024727187875298318,
          -0.02414917209039036,
          -0.027412995982478316,
          -0.03345828566470377,
          -0.025431170457028085,
          -0.026415757431068554,
          -0.021455907479599023,
          -0.02216772630943087,
          -0.03062448029545861,
          -0.031553259995663496,
          0.00490506530802981,
          0.007507271080077149,
          0.004701335323379241,
          0.007523601726305007,
          0.007511323739103903,
          -0.0021205498892235553,
          0.0023598977629440965,
          0.00030179015135572973,
          -0.006825977823607998,
          -0.006895851135550246,
          -0.005341269840980101,
          -0.010935672706249067,
          -0.006339001544700462,
          -0.00748744365032189,
          -0.006449405639113837,
          -0.007752799037765545,
          -0.0016303104640084665
         ],
         "yaxis": "y"
        }
       ],
       "layout": {
        "legend": {
         "tracegroupgap": 0
        },
        "template": {
         "data": {
          "bar": [
           {
            "error_x": {
             "color": "#2a3f5f"
            },
            "error_y": {
             "color": "#2a3f5f"
            },
            "marker": {
             "line": {
              "color": "#E5ECF6",
              "width": 0.5
             },
             "pattern": {
              "fillmode": "overlay",
              "size": 10,
              "solidity": 0.2
             }
            },
            "type": "bar"
           }
          ],
          "barpolar": [
           {
            "marker": {
             "line": {
              "color": "#E5ECF6",
              "width": 0.5
             },
             "pattern": {
              "fillmode": "overlay",
              "size": 10,
              "solidity": 0.2
             }
            },
            "type": "barpolar"
           }
          ],
          "carpet": [
           {
            "aaxis": {
             "endlinecolor": "#2a3f5f",
             "gridcolor": "white",
             "linecolor": "white",
             "minorgridcolor": "white",
             "startlinecolor": "#2a3f5f"
            },
            "baxis": {
             "endlinecolor": "#2a3f5f",
             "gridcolor": "white",
             "linecolor": "white",
             "minorgridcolor": "white",
             "startlinecolor": "#2a3f5f"
            },
            "type": "carpet"
           }
          ],
          "choropleth": [
           {
            "colorbar": {
             "outlinewidth": 0,
             "ticks": ""
            },
            "type": "choropleth"
           }
          ],
          "contour": [
           {
            "colorbar": {
             "outlinewidth": 0,
             "ticks": ""
            },
            "colorscale": [
             [
              0,
              "#0d0887"
             ],
             [
              0.1111111111111111,
              "#46039f"
             ],
             [
              0.2222222222222222,
              "#7201a8"
             ],
             [
              0.3333333333333333,
              "#9c179e"
             ],
             [
              0.4444444444444444,
              "#bd3786"
             ],
             [
              0.5555555555555556,
              "#d8576b"
             ],
             [
              0.6666666666666666,
              "#ed7953"
             ],
             [
              0.7777777777777778,
              "#fb9f3a"
             ],
             [
              0.8888888888888888,
              "#fdca26"
             ],
             [
              1,
              "#f0f921"
             ]
            ],
            "type": "contour"
           }
          ],
          "contourcarpet": [
           {
            "colorbar": {
             "outlinewidth": 0,
             "ticks": ""
            },
            "type": "contourcarpet"
           }
          ],
          "heatmap": [
           {
            "colorbar": {
             "outlinewidth": 0,
             "ticks": ""
            },
            "colorscale": [
             [
              0,
              "#0d0887"
             ],
             [
              0.1111111111111111,
              "#46039f"
             ],
             [
              0.2222222222222222,
              "#7201a8"
             ],
             [
              0.3333333333333333,
              "#9c179e"
             ],
             [
              0.4444444444444444,
              "#bd3786"
             ],
             [
              0.5555555555555556,
              "#d8576b"
             ],
             [
              0.6666666666666666,
              "#ed7953"
             ],
             [
              0.7777777777777778,
              "#fb9f3a"
             ],
             [
              0.8888888888888888,
              "#fdca26"
             ],
             [
              1,
              "#f0f921"
             ]
            ],
            "type": "heatmap"
           }
          ],
          "heatmapgl": [
           {
            "colorbar": {
             "outlinewidth": 0,
             "ticks": ""
            },
            "colorscale": [
             [
              0,
              "#0d0887"
             ],
             [
              0.1111111111111111,
              "#46039f"
             ],
             [
              0.2222222222222222,
              "#7201a8"
             ],
             [
              0.3333333333333333,
              "#9c179e"
             ],
             [
              0.4444444444444444,
              "#bd3786"
             ],
             [
              0.5555555555555556,
              "#d8576b"
             ],
             [
              0.6666666666666666,
              "#ed7953"
             ],
             [
              0.7777777777777778,
              "#fb9f3a"
             ],
             [
              0.8888888888888888,
              "#fdca26"
             ],
             [
              1,
              "#f0f921"
             ]
            ],
            "type": "heatmapgl"
           }
          ],
          "histogram": [
           {
            "marker": {
             "pattern": {
              "fillmode": "overlay",
              "size": 10,
              "solidity": 0.2
             }
            },
            "type": "histogram"
           }
          ],
          "histogram2d": [
           {
            "colorbar": {
             "outlinewidth": 0,
             "ticks": ""
            },
            "colorscale": [
             [
              0,
              "#0d0887"
             ],
             [
              0.1111111111111111,
              "#46039f"
             ],
             [
              0.2222222222222222,
              "#7201a8"
             ],
             [
              0.3333333333333333,
              "#9c179e"
             ],
             [
              0.4444444444444444,
              "#bd3786"
             ],
             [
              0.5555555555555556,
              "#d8576b"
             ],
             [
              0.6666666666666666,
              "#ed7953"
             ],
             [
              0.7777777777777778,
              "#fb9f3a"
             ],
             [
              0.8888888888888888,
              "#fdca26"
             ],
             [
              1,
              "#f0f921"
             ]
            ],
            "type": "histogram2d"
           }
          ],
          "histogram2dcontour": [
           {
            "colorbar": {
             "outlinewidth": 0,
             "ticks": ""
            },
            "colorscale": [
             [
              0,
              "#0d0887"
             ],
             [
              0.1111111111111111,
              "#46039f"
             ],
             [
              0.2222222222222222,
              "#7201a8"
             ],
             [
              0.3333333333333333,
              "#9c179e"
             ],
             [
              0.4444444444444444,
              "#bd3786"
             ],
             [
              0.5555555555555556,
              "#d8576b"
             ],
             [
              0.6666666666666666,
              "#ed7953"
             ],
             [
              0.7777777777777778,
              "#fb9f3a"
             ],
             [
              0.8888888888888888,
              "#fdca26"
             ],
             [
              1,
              "#f0f921"
             ]
            ],
            "type": "histogram2dcontour"
           }
          ],
          "mesh3d": [
           {
            "colorbar": {
             "outlinewidth": 0,
             "ticks": ""
            },
            "type": "mesh3d"
           }
          ],
          "parcoords": [
           {
            "line": {
             "colorbar": {
              "outlinewidth": 0,
              "ticks": ""
             }
            },
            "type": "parcoords"
           }
          ],
          "pie": [
           {
            "automargin": true,
            "type": "pie"
           }
          ],
          "scatter": [
           {
            "fillpattern": {
             "fillmode": "overlay",
             "size": 10,
             "solidity": 0.2
            },
            "type": "scatter"
           }
          ],
          "scatter3d": [
           {
            "line": {
             "colorbar": {
              "outlinewidth": 0,
              "ticks": ""
             }
            },
            "marker": {
             "colorbar": {
              "outlinewidth": 0,
              "ticks": ""
             }
            },
            "type": "scatter3d"
           }
          ],
          "scattercarpet": [
           {
            "marker": {
             "colorbar": {
              "outlinewidth": 0,
              "ticks": ""
             }
            },
            "type": "scattercarpet"
           }
          ],
          "scattergeo": [
           {
            "marker": {
             "colorbar": {
              "outlinewidth": 0,
              "ticks": ""
             }
            },
            "type": "scattergeo"
           }
          ],
          "scattergl": [
           {
            "marker": {
             "colorbar": {
              "outlinewidth": 0,
              "ticks": ""
             }
            },
            "type": "scattergl"
           }
          ],
          "scattermapbox": [
           {
            "marker": {
             "colorbar": {
              "outlinewidth": 0,
              "ticks": ""
             }
            },
            "type": "scattermapbox"
           }
          ],
          "scatterpolar": [
           {
            "marker": {
             "colorbar": {
              "outlinewidth": 0,
              "ticks": ""
             }
            },
            "type": "scatterpolar"
           }
          ],
          "scatterpolargl": [
           {
            "marker": {
             "colorbar": {
              "outlinewidth": 0,
              "ticks": ""
             }
            },
            "type": "scatterpolargl"
           }
          ],
          "scatterternary": [
           {
            "marker": {
             "colorbar": {
              "outlinewidth": 0,
              "ticks": ""
             }
            },
            "type": "scatterternary"
           }
          ],
          "surface": [
           {
            "colorbar": {
             "outlinewidth": 0,
             "ticks": ""
            },
            "colorscale": [
             [
              0,
              "#0d0887"
             ],
             [
              0.1111111111111111,
              "#46039f"
             ],
             [
              0.2222222222222222,
              "#7201a8"
             ],
             [
              0.3333333333333333,
              "#9c179e"
             ],
             [
              0.4444444444444444,
              "#bd3786"
             ],
             [
              0.5555555555555556,
              "#d8576b"
             ],
             [
              0.6666666666666666,
              "#ed7953"
             ],
             [
              0.7777777777777778,
              "#fb9f3a"
             ],
             [
              0.8888888888888888,
              "#fdca26"
             ],
             [
              1,
              "#f0f921"
             ]
            ],
            "type": "surface"
           }
          ],
          "table": [
           {
            "cells": {
             "fill": {
              "color": "#EBF0F8"
             },
             "line": {
              "color": "white"
             }
            },
            "header": {
             "fill": {
              "color": "#C8D4E3"
             },
             "line": {
              "color": "white"
             }
            },
            "type": "table"
           }
          ]
         },
         "layout": {
          "annotationdefaults": {
           "arrowcolor": "#2a3f5f",
           "arrowhead": 0,
           "arrowwidth": 1
          },
          "autotypenumbers": "strict",
          "coloraxis": {
           "colorbar": {
            "outlinewidth": 0,
            "ticks": ""
           }
          },
          "colorscale": {
           "diverging": [
            [
             0,
             "#8e0152"
            ],
            [
             0.1,
             "#c51b7d"
            ],
            [
             0.2,
             "#de77ae"
            ],
            [
             0.3,
             "#f1b6da"
            ],
            [
             0.4,
             "#fde0ef"
            ],
            [
             0.5,
             "#f7f7f7"
            ],
            [
             0.6,
             "#e6f5d0"
            ],
            [
             0.7,
             "#b8e186"
            ],
            [
             0.8,
             "#7fbc41"
            ],
            [
             0.9,
             "#4d9221"
            ],
            [
             1,
             "#276419"
            ]
           ],
           "sequential": [
            [
             0,
             "#0d0887"
            ],
            [
             0.1111111111111111,
             "#46039f"
            ],
            [
             0.2222222222222222,
             "#7201a8"
            ],
            [
             0.3333333333333333,
             "#9c179e"
            ],
            [
             0.4444444444444444,
             "#bd3786"
            ],
            [
             0.5555555555555556,
             "#d8576b"
            ],
            [
             0.6666666666666666,
             "#ed7953"
            ],
            [
             0.7777777777777778,
             "#fb9f3a"
            ],
            [
             0.8888888888888888,
             "#fdca26"
            ],
            [
             1,
             "#f0f921"
            ]
           ],
           "sequentialminus": [
            [
             0,
             "#0d0887"
            ],
            [
             0.1111111111111111,
             "#46039f"
            ],
            [
             0.2222222222222222,
             "#7201a8"
            ],
            [
             0.3333333333333333,
             "#9c179e"
            ],
            [
             0.4444444444444444,
             "#bd3786"
            ],
            [
             0.5555555555555556,
             "#d8576b"
            ],
            [
             0.6666666666666666,
             "#ed7953"
            ],
            [
             0.7777777777777778,
             "#fb9f3a"
            ],
            [
             0.8888888888888888,
             "#fdca26"
            ],
            [
             1,
             "#f0f921"
            ]
           ]
          },
          "colorway": [
           "#636efa",
           "#EF553B",
           "#00cc96",
           "#ab63fa",
           "#FFA15A",
           "#19d3f3",
           "#FF6692",
           "#B6E880",
           "#FF97FF",
           "#FECB52"
          ],
          "font": {
           "color": "#2a3f5f"
          },
          "geo": {
           "bgcolor": "white",
           "lakecolor": "white",
           "landcolor": "#E5ECF6",
           "showlakes": true,
           "showland": true,
           "subunitcolor": "white"
          },
          "hoverlabel": {
           "align": "left"
          },
          "hovermode": "closest",
          "mapbox": {
           "style": "light"
          },
          "paper_bgcolor": "white",
          "plot_bgcolor": "#E5ECF6",
          "polar": {
           "angularaxis": {
            "gridcolor": "white",
            "linecolor": "white",
            "ticks": ""
           },
           "bgcolor": "#E5ECF6",
           "radialaxis": {
            "gridcolor": "white",
            "linecolor": "white",
            "ticks": ""
           }
          },
          "scene": {
           "xaxis": {
            "backgroundcolor": "#E5ECF6",
            "gridcolor": "white",
            "gridwidth": 2,
            "linecolor": "white",
            "showbackground": true,
            "ticks": "",
            "zerolinecolor": "white"
           },
           "yaxis": {
            "backgroundcolor": "#E5ECF6",
            "gridcolor": "white",
            "gridwidth": 2,
            "linecolor": "white",
            "showbackground": true,
            "ticks": "",
            "zerolinecolor": "white"
           },
           "zaxis": {
            "backgroundcolor": "#E5ECF6",
            "gridcolor": "white",
            "gridwidth": 2,
            "linecolor": "white",
            "showbackground": true,
            "ticks": "",
            "zerolinecolor": "white"
           }
          },
          "shapedefaults": {
           "line": {
            "color": "#2a3f5f"
           }
          },
          "ternary": {
           "aaxis": {
            "gridcolor": "white",
            "linecolor": "white",
            "ticks": ""
           },
           "baxis": {
            "gridcolor": "white",
            "linecolor": "white",
            "ticks": ""
           },
           "bgcolor": "#E5ECF6",
           "caxis": {
            "gridcolor": "white",
            "linecolor": "white",
            "ticks": ""
           }
          },
          "title": {
           "x": 0.05
          },
          "xaxis": {
           "automargin": true,
           "gridcolor": "white",
           "linecolor": "white",
           "ticks": "",
           "title": {
            "standoff": 15
           },
           "zerolinecolor": "white",
           "zerolinewidth": 2
          },
          "yaxis": {
           "automargin": true,
           "gridcolor": "white",
           "linecolor": "white",
           "ticks": "",
           "title": {
            "standoff": 15
           },
           "zerolinecolor": "white",
           "zerolinewidth": 2
          }
         }
        },
        "title": {
         "text": "Residual plot of Region_Middle East and North Africa"
        },
        "xaxis": {
         "anchor": "y",
         "domain": [
          0,
          1
         ],
         "title": {
          "text": "Region_Middle East and North Africa"
         }
        },
        "yaxis": {
         "anchor": "x",
         "domain": [
          0,
          1
         ],
         "title": {
          "text": "Residuals"
         }
        }
       }
      }
     },
     "metadata": {},
     "output_type": "display_data"
    }
   ],
   "source": [
    "for i in range(len(X_df.columns)):\n",
    "    colname = X_df.columns[i]\n",
    "    fig = px.scatter(x = X[:, i], y = log_results['resids'], title=f'Residual plot of {colname}', labels={'x': colname, 'y': 'Residuals'})\n",
    "    fig.show()"
   ]
  }
 ],
 "metadata": {
  "kernelspec": {
   "display_name": "ds",
   "language": "python",
   "name": "python3"
  },
  "language_info": {
   "codemirror_mode": {
    "name": "ipython",
    "version": 3
   },
   "file_extension": ".py",
   "mimetype": "text/x-python",
   "name": "python",
   "nbconvert_exporter": "python",
   "pygments_lexer": "ipython3",
   "version": "3.11.11"
  }
 },
 "nbformat": 4,
 "nbformat_minor": 5
}
