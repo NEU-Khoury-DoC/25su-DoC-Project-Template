{
 "cells": [
  {
   "cell_type": "code",
   "execution_count": 1,
   "id": "7086a9f7",
   "metadata": {},
   "outputs": [],
   "source": [
    "import numpy as np\n",
    "import pandas as pd\n",
    "import plotly.graph_objects as go\n",
    "import matplotlib.pyplot as plt\n",
    "import seaborn as sns"
   ]
  },
  {
   "cell_type": "code",
   "execution_count": 10,
   "id": "d7bc0b8c",
   "metadata": {},
   "outputs": [],
   "source": [
    "df = pd.read_csv('alldata_unstandard.csv')"
   ]
  },
  {
   "cell_type": "code",
   "execution_count": 11,
   "id": "e608c4d0",
   "metadata": {},
   "outputs": [],
   "source": [
    "def autoregressor(df):\n",
    "    \"\"\"\n",
    "    Gives the x and y vector for the autoregressive model predicting QoL with a 5 year lag\n",
    "\n",
    "    args:\n",
    "        - df: dataframe of unstandardized QoL values, country, and year\n",
    "    \n",
    "    returns:\n",
    "        - [X, y]: list of numpy arrays X (X matrix w/ 26 country indicator cols and 5 QoL lag cols)\n",
    "            and y (y vector w/ last 7 years of QoL scores for each EU country)\n",
    "\n",
    "    \"\"\"\n",
    "    p = 5\n",
    "    eu_countries = [\n",
    "                \" country_name_Austria\", \" country_name_Belgium\", \" country_name_Bulgaria\", \" country_name_Croatia\", \" country_name_Cyprus\", \" country_name_Czechia\", \" country_name_Denmark\",\n",
    "                \" country_name_Estonia\", \" country_name_Finland\", \" country_name_France\", \" country_name_Germany\", \" country_name_Greece\", \" country_name_Hungary\", \" country_name_Ireland\",\n",
    "                \" country_name_Italy\", \" country_name_Latvia\", \" country_name_Lithuania\", \" country_name_Luxembourg\", \" country_name_Malta\", \" country_name_Netherlands\",\n",
    "                \" country_name_Poland\", \" country_name_Portugal\", \" country_name_Romania\", \" country_name_Slovakia\", \" country_name_Slovenia\", \" country_name_Spain\"\n",
    "            ]\n",
    "\n",
    "    df_encoded = pd.get_dummies(df, columns=[' country_name'], dtype = 'int')\n",
    "\n",
    "    X = []\n",
    "    y = []\n",
    "\n",
    "    for country in df[' country_name'].unique(): \n",
    "\n",
    "        mask = df[' country_name'] == country\n",
    "        df_country = df_encoded[mask].sort_values(' score_year')\n",
    "\n",
    "        qol_country = df_country[' qol_score'].to_numpy()\n",
    "        dummy_country = df_country[eu_countries].to_numpy()[0]\n",
    "\n",
    "        for t in range(p, len(qol_country)):\n",
    "            lags = qol_country[t - p:t][::-1] \n",
    "            \n",
    "            row = np.concatenate([dummy_country, lags])\n",
    "            X.append(row)\n",
    "            y.append(qol_country[t])\n",
    "\n",
    "    X = np.array(X)\n",
    "    y = np.array(y)\n",
    "\n",
    "    return [X, y]"
   ]
  },
  {
   "cell_type": "code",
   "execution_count": 3,
   "id": "8bb2cf4e",
   "metadata": {},
   "outputs": [],
   "source": [
    "def linreg(X, y):\n",
    "    \"\"\"\n",
    "    Returns weight vector for autoregressive model\n",
    "\n",
    "    args: \n",
    "        - X: X matrix w/ 26 country indicator cols and 5 QoL lag cols\n",
    "        - y: y vector w/ last 7 years of QoL scores for each EU country\n",
    "\n",
    "    returns: \n",
    "        - w: weight vector \n",
    "    \"\"\"\n",
    "    XtXinv = np.linalg.inv(np.matmul(X.T, X))\n",
    "    w = np.matmul(XtXinv, np.matmul(X.T, y))\n",
    "\n",
    "    return w"
   ]
  },
  {
   "cell_type": "code",
   "execution_count": 4,
   "id": "a975e13b",
   "metadata": {},
   "outputs": [],
   "source": [
    "def predict(y, w, country, target_year):\n",
    "    \"\"\"\n",
    "    Predicts future QoL for a given country and year\n",
    "\n",
    "    args:\n",
    "        - y: y vector w/ last 7 years of QoL scores for each EU country\n",
    "        - w: weight vector\n",
    "        - country: string country name\n",
    "        - target_year: numerical year to predict for\n",
    "\n",
    "    returns: \n",
    "        - pred: prediction for QoL for given country and year\n",
    "    \"\"\"\n",
    "    country_list = [\n",
    "                \"Austria\", \"Belgium\", \"Bulgaria\", \"Croatia\", \"Cyprus\", \"Czechia\", \"Denmark\",\n",
    "                \"Estonia\", \"Finland\", \"France\", \"Germany\", \"Greece\", \"Hungary\", \"Ireland\",\n",
    "                \"Italy\", \"Latvia\", \"Lithuania\", \"Luxembourg\", \"Malta\", \"Netherlands\",\n",
    "                \"Poland\", \"Portugal\", \"Romania\", \"Slovakia\", \"Slovenia\", \"Spain\", \"Sweden\"\n",
    "            ]\n",
    "    values_per_country = 7\n",
    "    p = 5\n",
    "\n",
    "    # creating one-hot encoding columns\n",
    "    if country == \"Sweden\":\n",
    "        startX = np.zeros(len(country_list) - 1)\n",
    "    else:\n",
    "        country_index = country_list.index(country)\n",
    "        startX = np.zeros(len(country_list) - 1)\n",
    "        startX[country_index] = 1\n",
    "\n",
    "    base_index = country_list.index(country)  \n",
    "    start = base_index * values_per_country + 2\n",
    "    end = start + 5\n",
    "    endY = y[start:end][::-1].tolist()\n",
    "\n",
    "    current_year = 2023\n",
    "    \n",
    "    while current_year <= target_year:\n",
    "        row = np.concatenate([startX, endY])\n",
    "        X = np.array(row)\n",
    "        pred = np.dot(X, w)\n",
    "        endY = [pred] + endY[:p - 1]  \n",
    "        current_year += 1\n",
    "\n",
    "    return pred"
   ]
  },
  {
   "cell_type": "code",
   "execution_count": 5,
   "id": "e1cac01c",
   "metadata": {},
   "outputs": [],
   "source": [
    "def prediction_table(country):\n",
    "    \"\"\"\n",
    "    Predicts QoL score for next five years and returns a dataframe of year and predicted QoL score\n",
    "\n",
    "    args:\n",
    "        - country: string target country name\n",
    "\n",
    "    returns: \n",
    "        - pred_df: dataframe of next five years of QoL scores for inputted country\n",
    "    \"\"\"\n",
    "    matrices = autoregressor(df)\n",
    "    X = matrices[0]\n",
    "    y = matrices[1]\n",
    "    w = linreg(X, y)\n",
    "    years = list(range(2023, 2028))  \n",
    "    predictions = []\n",
    "\n",
    "    for year in years:\n",
    "        pred = predict(y, w, country, year)\n",
    "        predictions.append({'year': year, 'predictions': pred})\n",
    "\n",
    "    pred_df = pd.DataFrame(predictions)       \n",
    "\n",
    "    return pred_df"
   ]
  },
  {
   "cell_type": "code",
   "execution_count": 6,
   "id": "a990d120",
   "metadata": {},
   "outputs": [],
   "source": [
    "def qol_df(old_df, pred_df, country):\n",
    "    \"\"\"\n",
    "    Creates a dataframe with existing and predicted QoL scores for a particular country.\n",
    "    Returns a single column 'qol_score' with an indicator 'predicted'\n",
    "    \"\"\"\n",
    "    actual = old_df[old_df[\" country_name\"] == country][[\" score_year\", \" qol_score\"]].copy()\n",
    "    actual.columns = [\"year\", \"qol_score\"]\n",
    "    actual[\"Projected?\"] = \"Historical Score\"\n",
    "\n",
    "    predicted = pred_df.copy()\n",
    "    predicted.columns = [\"year\", \"qol_score\"]\n",
    "    predicted[\"Projected?\"] = \"Projected Score\"\n",
    "\n",
    "    merged = pd.concat([actual, predicted], ignore_index=True)\n",
    "    merged = merged.sort_values(\"year\").reset_index(drop=True)\n",
    "\n",
    "    return merged\n"
   ]
  },
  {
   "cell_type": "code",
   "execution_count": 7,
   "id": "5a780417",
   "metadata": {},
   "outputs": [],
   "source": [
    "def plot_qol(qol_data, country):\n",
    "    \"\"\"\n",
    "    Plots actual and predicted QoL scores over time for a single country\n",
    "    \n",
    "    Args:\n",
    "        - qol_data: DataFrame with 'year', 'qol_score', and 'Projected?'\n",
    "        - country: Name of the country (str)\n",
    "    \"\"\"  \n",
    "    fig = go.Figure()\n",
    "\n",
    "    fig.add_trace(go.Scatter(\n",
    "        x=qol_data['year'],\n",
    "        y=qol_data['qol_score'],\n",
    "        mode='lines+markers',\n",
    "        name='QoL Score',\n",
    "        line=dict(color='royalblue'),\n",
    "        customdata=qol_data[['Projected?']], \n",
    "        hovertemplate=\n",
    "            'Year: %{x}<br>' +\n",
    "            'QoL Score: %{y:.3f}<br>' +\n",
    "            'Projected?: %{customdata[0]}<extra></extra>'\n",
    "    ))\n",
    "\n",
    "    fig.add_vline(x=2022.5, line_width=2, line_dash=\"dash\", line_color=\"gray\")\n",
    "\n",
    "    fig.add_vrect(\n",
    "        x0=2023, x1=qol_data['year'].max(),\n",
    "        fillcolor=\"lightgray\", opacity=0.3,\n",
    "        layer=\"below\", line_width=0,\n",
    "        annotation_text=\"Predicted\", annotation_position=\"top left\"\n",
    "    )\n",
    "\n",
    "    fig.update_layout(\n",
    "        title= f\"Quality of Life (Historical and Projected) for {country}\",\n",
    "        xaxis_title=\"Year\",\n",
    "        yaxis_title=\"Quality of Life Score\",\n",
    "        hovermode=\"x unified\"\n",
    "    )\n",
    "\n",
    "    fig.show()"
   ]
  },
  {
   "cell_type": "code",
   "execution_count": 12,
   "id": "b6a32dff",
   "metadata": {},
   "outputs": [],
   "source": [
    "matrices = autoregressor(df)\n",
    "X = matrices[0]\n",
    "y = matrices[1]\n",
    "w = linreg(X,y)"
   ]
  },
  {
   "cell_type": "code",
   "execution_count": 13,
   "id": "2e59f739",
   "metadata": {},
   "outputs": [
    {
     "data": {
      "application/vnd.plotly.v1+json": {
       "config": {
        "plotlyServerURL": "https://plot.ly"
       },
       "data": [
        {
         "customdata": [
          [
           "Historical Score"
          ],
          [
           "Historical Score"
          ],
          [
           "Historical Score"
          ],
          [
           "Historical Score"
          ],
          [
           "Historical Score"
          ],
          [
           "Historical Score"
          ],
          [
           "Historical Score"
          ],
          [
           "Historical Score"
          ],
          [
           "Historical Score"
          ],
          [
           "Historical Score"
          ],
          [
           "Historical Score"
          ],
          [
           "Historical Score"
          ],
          [
           "Projected Score"
          ],
          [
           "Projected Score"
          ],
          [
           "Projected Score"
          ],
          [
           "Projected Score"
          ],
          [
           "Projected Score"
          ]
         ],
         "hovertemplate": "Year: %{x}<br>QoL Score: %{y:.3f}<br>Projected?: %{customdata[0]}<extra></extra>",
         "line": {
          "color": "royalblue"
         },
         "mode": "lines+markers",
         "name": "QoL Score",
         "type": "scatter",
         "x": [
          2011,
          2012,
          2013,
          2014,
          2015,
          2016,
          2017,
          2018,
          2019,
          2020,
          2021,
          2022,
          2023,
          2024,
          2025,
          2026,
          2027
         ],
         "y": [
          7.227,
          7.369,
          7.284499999999999,
          7.2,
          7.119,
          7.006,
          7.139,
          7.246,
          7.294,
          7.268,
          7.163,
          7.097,
          7.084571143384753,
          7.10707876359719,
          7.128924852035897,
          7.134387088913868,
          7.12510125210983
         ]
        }
       ],
       "layout": {
        "annotations": [
         {
          "showarrow": false,
          "text": "Predicted",
          "x": 2023,
          "xanchor": "left",
          "xref": "x",
          "y": 1,
          "yanchor": "top",
          "yref": "y domain"
         }
        ],
        "hovermode": "x unified",
        "shapes": [
         {
          "line": {
           "color": "gray",
           "dash": "dash",
           "width": 2
          },
          "type": "line",
          "x0": 2022.5,
          "x1": 2022.5,
          "xref": "x",
          "y0": 0,
          "y1": 1,
          "yref": "y domain"
         },
         {
          "fillcolor": "lightgray",
          "layer": "below",
          "line": {
           "width": 0
          },
          "opacity": 0.3,
          "type": "rect",
          "x0": 2023,
          "x1": 2027,
          "xref": "x",
          "y0": 0,
          "y1": 1,
          "yref": "y domain"
         }
        ],
        "template": {
         "data": {
          "bar": [
           {
            "error_x": {
             "color": "#2a3f5f"
            },
            "error_y": {
             "color": "#2a3f5f"
            },
            "marker": {
             "line": {
              "color": "#E5ECF6",
              "width": 0.5
             },
             "pattern": {
              "fillmode": "overlay",
              "size": 10,
              "solidity": 0.2
             }
            },
            "type": "bar"
           }
          ],
          "barpolar": [
           {
            "marker": {
             "line": {
              "color": "#E5ECF6",
              "width": 0.5
             },
             "pattern": {
              "fillmode": "overlay",
              "size": 10,
              "solidity": 0.2
             }
            },
            "type": "barpolar"
           }
          ],
          "carpet": [
           {
            "aaxis": {
             "endlinecolor": "#2a3f5f",
             "gridcolor": "white",
             "linecolor": "white",
             "minorgridcolor": "white",
             "startlinecolor": "#2a3f5f"
            },
            "baxis": {
             "endlinecolor": "#2a3f5f",
             "gridcolor": "white",
             "linecolor": "white",
             "minorgridcolor": "white",
             "startlinecolor": "#2a3f5f"
            },
            "type": "carpet"
           }
          ],
          "choropleth": [
           {
            "colorbar": {
             "outlinewidth": 0,
             "ticks": ""
            },
            "type": "choropleth"
           }
          ],
          "contour": [
           {
            "colorbar": {
             "outlinewidth": 0,
             "ticks": ""
            },
            "colorscale": [
             [
              0,
              "#0d0887"
             ],
             [
              0.1111111111111111,
              "#46039f"
             ],
             [
              0.2222222222222222,
              "#7201a8"
             ],
             [
              0.3333333333333333,
              "#9c179e"
             ],
             [
              0.4444444444444444,
              "#bd3786"
             ],
             [
              0.5555555555555556,
              "#d8576b"
             ],
             [
              0.6666666666666666,
              "#ed7953"
             ],
             [
              0.7777777777777778,
              "#fb9f3a"
             ],
             [
              0.8888888888888888,
              "#fdca26"
             ],
             [
              1,
              "#f0f921"
             ]
            ],
            "type": "contour"
           }
          ],
          "contourcarpet": [
           {
            "colorbar": {
             "outlinewidth": 0,
             "ticks": ""
            },
            "type": "contourcarpet"
           }
          ],
          "heatmap": [
           {
            "colorbar": {
             "outlinewidth": 0,
             "ticks": ""
            },
            "colorscale": [
             [
              0,
              "#0d0887"
             ],
             [
              0.1111111111111111,
              "#46039f"
             ],
             [
              0.2222222222222222,
              "#7201a8"
             ],
             [
              0.3333333333333333,
              "#9c179e"
             ],
             [
              0.4444444444444444,
              "#bd3786"
             ],
             [
              0.5555555555555556,
              "#d8576b"
             ],
             [
              0.6666666666666666,
              "#ed7953"
             ],
             [
              0.7777777777777778,
              "#fb9f3a"
             ],
             [
              0.8888888888888888,
              "#fdca26"
             ],
             [
              1,
              "#f0f921"
             ]
            ],
            "type": "heatmap"
           }
          ],
          "heatmapgl": [
           {
            "colorbar": {
             "outlinewidth": 0,
             "ticks": ""
            },
            "colorscale": [
             [
              0,
              "#0d0887"
             ],
             [
              0.1111111111111111,
              "#46039f"
             ],
             [
              0.2222222222222222,
              "#7201a8"
             ],
             [
              0.3333333333333333,
              "#9c179e"
             ],
             [
              0.4444444444444444,
              "#bd3786"
             ],
             [
              0.5555555555555556,
              "#d8576b"
             ],
             [
              0.6666666666666666,
              "#ed7953"
             ],
             [
              0.7777777777777778,
              "#fb9f3a"
             ],
             [
              0.8888888888888888,
              "#fdca26"
             ],
             [
              1,
              "#f0f921"
             ]
            ],
            "type": "heatmapgl"
           }
          ],
          "histogram": [
           {
            "marker": {
             "pattern": {
              "fillmode": "overlay",
              "size": 10,
              "solidity": 0.2
             }
            },
            "type": "histogram"
           }
          ],
          "histogram2d": [
           {
            "colorbar": {
             "outlinewidth": 0,
             "ticks": ""
            },
            "colorscale": [
             [
              0,
              "#0d0887"
             ],
             [
              0.1111111111111111,
              "#46039f"
             ],
             [
              0.2222222222222222,
              "#7201a8"
             ],
             [
              0.3333333333333333,
              "#9c179e"
             ],
             [
              0.4444444444444444,
              "#bd3786"
             ],
             [
              0.5555555555555556,
              "#d8576b"
             ],
             [
              0.6666666666666666,
              "#ed7953"
             ],
             [
              0.7777777777777778,
              "#fb9f3a"
             ],
             [
              0.8888888888888888,
              "#fdca26"
             ],
             [
              1,
              "#f0f921"
             ]
            ],
            "type": "histogram2d"
           }
          ],
          "histogram2dcontour": [
           {
            "colorbar": {
             "outlinewidth": 0,
             "ticks": ""
            },
            "colorscale": [
             [
              0,
              "#0d0887"
             ],
             [
              0.1111111111111111,
              "#46039f"
             ],
             [
              0.2222222222222222,
              "#7201a8"
             ],
             [
              0.3333333333333333,
              "#9c179e"
             ],
             [
              0.4444444444444444,
              "#bd3786"
             ],
             [
              0.5555555555555556,
              "#d8576b"
             ],
             [
              0.6666666666666666,
              "#ed7953"
             ],
             [
              0.7777777777777778,
              "#fb9f3a"
             ],
             [
              0.8888888888888888,
              "#fdca26"
             ],
             [
              1,
              "#f0f921"
             ]
            ],
            "type": "histogram2dcontour"
           }
          ],
          "mesh3d": [
           {
            "colorbar": {
             "outlinewidth": 0,
             "ticks": ""
            },
            "type": "mesh3d"
           }
          ],
          "parcoords": [
           {
            "line": {
             "colorbar": {
              "outlinewidth": 0,
              "ticks": ""
             }
            },
            "type": "parcoords"
           }
          ],
          "pie": [
           {
            "automargin": true,
            "type": "pie"
           }
          ],
          "scatter": [
           {
            "fillpattern": {
             "fillmode": "overlay",
             "size": 10,
             "solidity": 0.2
            },
            "type": "scatter"
           }
          ],
          "scatter3d": [
           {
            "line": {
             "colorbar": {
              "outlinewidth": 0,
              "ticks": ""
             }
            },
            "marker": {
             "colorbar": {
              "outlinewidth": 0,
              "ticks": ""
             }
            },
            "type": "scatter3d"
           }
          ],
          "scattercarpet": [
           {
            "marker": {
             "colorbar": {
              "outlinewidth": 0,
              "ticks": ""
             }
            },
            "type": "scattercarpet"
           }
          ],
          "scattergeo": [
           {
            "marker": {
             "colorbar": {
              "outlinewidth": 0,
              "ticks": ""
             }
            },
            "type": "scattergeo"
           }
          ],
          "scattergl": [
           {
            "marker": {
             "colorbar": {
              "outlinewidth": 0,
              "ticks": ""
             }
            },
            "type": "scattergl"
           }
          ],
          "scattermapbox": [
           {
            "marker": {
             "colorbar": {
              "outlinewidth": 0,
              "ticks": ""
             }
            },
            "type": "scattermapbox"
           }
          ],
          "scatterpolar": [
           {
            "marker": {
             "colorbar": {
              "outlinewidth": 0,
              "ticks": ""
             }
            },
            "type": "scatterpolar"
           }
          ],
          "scatterpolargl": [
           {
            "marker": {
             "colorbar": {
              "outlinewidth": 0,
              "ticks": ""
             }
            },
            "type": "scatterpolargl"
           }
          ],
          "scatterternary": [
           {
            "marker": {
             "colorbar": {
              "outlinewidth": 0,
              "ticks": ""
             }
            },
            "type": "scatterternary"
           }
          ],
          "surface": [
           {
            "colorbar": {
             "outlinewidth": 0,
             "ticks": ""
            },
            "colorscale": [
             [
              0,
              "#0d0887"
             ],
             [
              0.1111111111111111,
              "#46039f"
             ],
             [
              0.2222222222222222,
              "#7201a8"
             ],
             [
              0.3333333333333333,
              "#9c179e"
             ],
             [
              0.4444444444444444,
              "#bd3786"
             ],
             [
              0.5555555555555556,
              "#d8576b"
             ],
             [
              0.6666666666666666,
              "#ed7953"
             ],
             [
              0.7777777777777778,
              "#fb9f3a"
             ],
             [
              0.8888888888888888,
              "#fdca26"
             ],
             [
              1,
              "#f0f921"
             ]
            ],
            "type": "surface"
           }
          ],
          "table": [
           {
            "cells": {
             "fill": {
              "color": "#EBF0F8"
             },
             "line": {
              "color": "white"
             }
            },
            "header": {
             "fill": {
              "color": "#C8D4E3"
             },
             "line": {
              "color": "white"
             }
            },
            "type": "table"
           }
          ]
         },
         "layout": {
          "annotationdefaults": {
           "arrowcolor": "#2a3f5f",
           "arrowhead": 0,
           "arrowwidth": 1
          },
          "autotypenumbers": "strict",
          "coloraxis": {
           "colorbar": {
            "outlinewidth": 0,
            "ticks": ""
           }
          },
          "colorscale": {
           "diverging": [
            [
             0,
             "#8e0152"
            ],
            [
             0.1,
             "#c51b7d"
            ],
            [
             0.2,
             "#de77ae"
            ],
            [
             0.3,
             "#f1b6da"
            ],
            [
             0.4,
             "#fde0ef"
            ],
            [
             0.5,
             "#f7f7f7"
            ],
            [
             0.6,
             "#e6f5d0"
            ],
            [
             0.7,
             "#b8e186"
            ],
            [
             0.8,
             "#7fbc41"
            ],
            [
             0.9,
             "#4d9221"
            ],
            [
             1,
             "#276419"
            ]
           ],
           "sequential": [
            [
             0,
             "#0d0887"
            ],
            [
             0.1111111111111111,
             "#46039f"
            ],
            [
             0.2222222222222222,
             "#7201a8"
            ],
            [
             0.3333333333333333,
             "#9c179e"
            ],
            [
             0.4444444444444444,
             "#bd3786"
            ],
            [
             0.5555555555555556,
             "#d8576b"
            ],
            [
             0.6666666666666666,
             "#ed7953"
            ],
            [
             0.7777777777777778,
             "#fb9f3a"
            ],
            [
             0.8888888888888888,
             "#fdca26"
            ],
            [
             1,
             "#f0f921"
            ]
           ],
           "sequentialminus": [
            [
             0,
             "#0d0887"
            ],
            [
             0.1111111111111111,
             "#46039f"
            ],
            [
             0.2222222222222222,
             "#7201a8"
            ],
            [
             0.3333333333333333,
             "#9c179e"
            ],
            [
             0.4444444444444444,
             "#bd3786"
            ],
            [
             0.5555555555555556,
             "#d8576b"
            ],
            [
             0.6666666666666666,
             "#ed7953"
            ],
            [
             0.7777777777777778,
             "#fb9f3a"
            ],
            [
             0.8888888888888888,
             "#fdca26"
            ],
            [
             1,
             "#f0f921"
            ]
           ]
          },
          "colorway": [
           "#636efa",
           "#EF553B",
           "#00cc96",
           "#ab63fa",
           "#FFA15A",
           "#19d3f3",
           "#FF6692",
           "#B6E880",
           "#FF97FF",
           "#FECB52"
          ],
          "font": {
           "color": "#2a3f5f"
          },
          "geo": {
           "bgcolor": "white",
           "lakecolor": "white",
           "landcolor": "#E5ECF6",
           "showlakes": true,
           "showland": true,
           "subunitcolor": "white"
          },
          "hoverlabel": {
           "align": "left"
          },
          "hovermode": "closest",
          "mapbox": {
           "style": "light"
          },
          "paper_bgcolor": "white",
          "plot_bgcolor": "#E5ECF6",
          "polar": {
           "angularaxis": {
            "gridcolor": "white",
            "linecolor": "white",
            "ticks": ""
           },
           "bgcolor": "#E5ECF6",
           "radialaxis": {
            "gridcolor": "white",
            "linecolor": "white",
            "ticks": ""
           }
          },
          "scene": {
           "xaxis": {
            "backgroundcolor": "#E5ECF6",
            "gridcolor": "white",
            "gridwidth": 2,
            "linecolor": "white",
            "showbackground": true,
            "ticks": "",
            "zerolinecolor": "white"
           },
           "yaxis": {
            "backgroundcolor": "#E5ECF6",
            "gridcolor": "white",
            "gridwidth": 2,
            "linecolor": "white",
            "showbackground": true,
            "ticks": "",
            "zerolinecolor": "white"
           },
           "zaxis": {
            "backgroundcolor": "#E5ECF6",
            "gridcolor": "white",
            "gridwidth": 2,
            "linecolor": "white",
            "showbackground": true,
            "ticks": "",
            "zerolinecolor": "white"
           }
          },
          "shapedefaults": {
           "line": {
            "color": "#2a3f5f"
           }
          },
          "ternary": {
           "aaxis": {
            "gridcolor": "white",
            "linecolor": "white",
            "ticks": ""
           },
           "baxis": {
            "gridcolor": "white",
            "linecolor": "white",
            "ticks": ""
           },
           "bgcolor": "#E5ECF6",
           "caxis": {
            "gridcolor": "white",
            "linecolor": "white",
            "ticks": ""
           }
          },
          "title": {
           "x": 0.05
          },
          "xaxis": {
           "automargin": true,
           "gridcolor": "white",
           "linecolor": "white",
           "ticks": "",
           "title": {
            "standoff": 15
           },
           "zerolinecolor": "white",
           "zerolinewidth": 2
          },
          "yaxis": {
           "automargin": true,
           "gridcolor": "white",
           "linecolor": "white",
           "ticks": "",
           "title": {
            "standoff": 15
           },
           "zerolinecolor": "white",
           "zerolinewidth": 2
          }
         }
        },
        "title": {
         "text": "Quality of Life (Historical and Projected) for Austria"
        },
        "xaxis": {
         "title": {
          "text": "Year"
         }
        },
        "yaxis": {
         "title": {
          "text": "Quality of Life Score"
         }
        }
       }
      }
     },
     "metadata": {},
     "output_type": "display_data"
    }
   ],
   "source": [
    "test = prediction_table(\"Austria\")\n",
    "test1 = qol_df(df, test, \"Austria\")\n",
    "plot_qol(test1, \"Austria\")"
   ]
  },
  {
   "cell_type": "code",
   "execution_count": null,
   "id": "6cc1df38",
   "metadata": {},
   "outputs": [],
   "source": []
  }
 ],
 "metadata": {
  "kernelspec": {
   "display_name": "base",
   "language": "python",
   "name": "python3"
  },
  "language_info": {
   "codemirror_mode": {
    "name": "ipython",
    "version": 3
   },
   "file_extension": ".py",
   "mimetype": "text/x-python",
   "name": "python",
   "nbconvert_exporter": "python",
   "pygments_lexer": "ipython3",
   "version": "3.12.7"
  }
 },
 "nbformat": 4,
 "nbformat_minor": 5
}
