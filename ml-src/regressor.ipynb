{
 "cells": [
  {
   "cell_type": "code",
   "execution_count": 66,
   "id": "7086a9f7",
   "metadata": {},
   "outputs": [],
   "source": [
    "import numpy as np\n",
    "import pandas as pd\n",
    "import plotly.graph_objects as go\n",
    "import matplotlib.pyplot as plt\n",
    "import seaborn as sns\n",
    "from sklearn.metrics import mean_squared_error, r2_score"
   ]
  },
  {
   "cell_type": "code",
   "execution_count": 5,
   "id": "d7bc0b8c",
   "metadata": {},
   "outputs": [],
   "source": [
    "df = pd.read_csv('alldata_unstandard.csv')"
   ]
  },
  {
   "cell_type": "code",
   "execution_count": 6,
   "id": "e608c4d0",
   "metadata": {},
   "outputs": [],
   "source": [
    "def autoregressor(df):\n",
    "    \"\"\"\n",
    "    Gives the x and y vector for the autoregressive model predicting QoL with a 5 year lag\n",
    "\n",
    "    args:\n",
    "        - df: dataframe of unstandardized QoL values, country, and year\n",
    "    \n",
    "    returns:\n",
    "        - [X, y]: list of numpy arrays X (X matrix w/ 26 country indicator cols and 5 QoL lag cols)\n",
    "            and y (y vector w/ last 7 years of QoL scores for each EU country)\n",
    "\n",
    "    \"\"\"\n",
    "    p = 5\n",
    "    eu_countries = [\n",
    "                \" country_name_Austria\", \" country_name_Belgium\", \" country_name_Bulgaria\", \" country_name_Croatia\", \" country_name_Cyprus\", \" country_name_Czechia\", \" country_name_Denmark\",\n",
    "                \" country_name_Estonia\", \" country_name_Finland\", \" country_name_France\", \" country_name_Germany\", \" country_name_Greece\", \" country_name_Hungary\", \" country_name_Ireland\",\n",
    "                \" country_name_Italy\", \" country_name_Latvia\", \" country_name_Lithuania\", \" country_name_Luxembourg\", \" country_name_Malta\", \" country_name_Netherlands\",\n",
    "                \" country_name_Poland\", \" country_name_Portugal\", \" country_name_Romania\", \" country_name_Slovakia\", \" country_name_Slovenia\", \" country_name_Spain\"\n",
    "            ]\n",
    "\n",
    "    df_encoded = pd.get_dummies(df, columns=[' country_name'], dtype = 'int')\n",
    "\n",
    "    X = []\n",
    "    y = []\n",
    "\n",
    "    for country in df[' country_name'].unique(): \n",
    "\n",
    "        mask = df[' country_name'] == country\n",
    "        df_country = df_encoded[mask].sort_values(' score_year')\n",
    "\n",
    "        qol_country = df_country[' qol_score'].to_numpy()\n",
    "        dummy_country = df_country[eu_countries].to_numpy()[0]\n",
    "\n",
    "        for t in range(p, len(qol_country)):\n",
    "            lags = qol_country[t - p:t][::-1] \n",
    "            \n",
    "            row = np.concatenate([dummy_country, lags])\n",
    "            X.append(row)\n",
    "            y.append(qol_country[t])\n",
    "\n",
    "    X = np.array(X)\n",
    "    y = np.array(y)\n",
    "\n",
    "    return [X, y]"
   ]
  },
  {
   "cell_type": "code",
   "execution_count": 7,
   "id": "8bb2cf4e",
   "metadata": {},
   "outputs": [],
   "source": [
    "def linreg(X, y):\n",
    "    \"\"\"\n",
    "    Returns weight vector for autoregressive model\n",
    "\n",
    "    args: \n",
    "        - X: X matrix w/ 26 country indicator cols and 5 QoL lag cols\n",
    "        - y: y vector w/ last 7 years of QoL scores for each EU country\n",
    "\n",
    "    returns: \n",
    "        - w: weight vector \n",
    "    \"\"\"\n",
    "    XtXinv = np.linalg.inv(np.matmul(X.T, X))\n",
    "    w = np.matmul(XtXinv, np.matmul(X.T, y))\n",
    "\n",
    "    return w"
   ]
  },
  {
   "cell_type": "code",
   "execution_count": null,
   "id": "a975e13b",
   "metadata": {},
   "outputs": [],
   "source": [
    "def predict(y, w, country, target_year):\n",
    "    \"\"\"\n",
    "    Predicts future QoL for a given country and year\n",
    "\n",
    "    args:\n",
    "        - y: y vector w/ last 7 years of QoL scores for each EU country\n",
    "        - w: weight vector\n",
    "        - country: string country name\n",
    "        - target_year: numerical year to predict for\n",
    "\n",
    "    returns: \n",
    "        - pred: prediction for QoL for given country and year\n",
    "    \"\"\"\n",
    "    country_list = [\n",
    "                \"Austria\", \"Belgium\", \"Bulgaria\", \"Croatia\", \"Cyprus\", \"Czechia\", \"Denmark\",\n",
    "                \"Estonia\", \"Finland\", \"France\", \"Germany\", \"Greece\", \"Hungary\", \"Ireland\",\n",
    "                \"Italy\", \"Latvia\", \"Lithuania\", \"Luxembourg\", \"Malta\", \"Netherlands\",\n",
    "                \"Poland\", \"Portugal\", \"Romania\", \"Slovakia\", \"Slovenia\", \"Spain\", \"Sweden\"\n",
    "            ]\n",
    "    values_per_country = 7\n",
    "    p = 5\n",
    "\n",
    "    # creating one-hot encoding columns\n",
    "    if country == \"Sweden\":\n",
    "        startX = np.zeros(len(country_list) - 1)\n",
    "    else:\n",
    "        country_index = country_list.index(country)\n",
    "        startX = np.zeros(len(country_list) - 1)\n",
    "        startX[country_index] = 1\n",
    "\n",
    "    base_index = country_list.index(country)  \n",
    "    start = base_index * values_per_country \n",
    "    end = start + 5\n",
    "    endY = y[start:end][::-1].tolist()\n",
    "\n",
    "    current_year = 2023\n",
    "    \n",
    "    while current_year <= target_year:\n",
    "        row = np.concatenate([startX, endY])\n",
    "        X = np.array(row)\n",
    "        pred = np.dot(X, w)\n",
    "        endY = [pred] + endY[:p - 1]  \n",
    "        current_year += 1\n",
    "\n",
    "    return pred"
   ]
  },
  {
   "cell_type": "code",
   "execution_count": 9,
   "id": "e1cac01c",
   "metadata": {},
   "outputs": [],
   "source": [
    "def prediction_table(country):\n",
    "    \"\"\"\n",
    "    Predicts QoL score for next five years and returns a dataframe of year and predicted QoL score\n",
    "\n",
    "    args:\n",
    "        - country: string target country name\n",
    "\n",
    "    returns: \n",
    "        - pred_df: dataframe of next five years of QoL scores for inputted country\n",
    "    \"\"\"\n",
    "    matrices = autoregressor(df)\n",
    "    X = matrices[0]\n",
    "    y = matrices[1]\n",
    "    w = linreg(X, y)\n",
    "    years = list(range(2023, 2028))  \n",
    "    predictions = []\n",
    "\n",
    "    for year in years:\n",
    "        pred = predict(y, w, country, year)\n",
    "        predictions.append({'year': year, 'predictions': pred})\n",
    "\n",
    "    pred_df = pd.DataFrame(predictions)       \n",
    "\n",
    "    return pred_df"
   ]
  },
  {
   "cell_type": "code",
   "execution_count": 10,
   "id": "a990d120",
   "metadata": {},
   "outputs": [],
   "source": [
    "def qol_df(old_df, pred_df, country):\n",
    "    \"\"\"\n",
    "    Creates a dataframe with existing and predicted QoL scores for a particular country.\n",
    "    Returns a single column 'qol_score' with an indicator 'predicted'\n",
    "    \"\"\"\n",
    "    actual = old_df[old_df[\" country_name\"] == country][[\" score_year\", \" qol_score\"]].copy()\n",
    "    actual.columns = [\"year\", \"qol_score\"]\n",
    "    actual[\"Projected?\"] = \"Historical Score\"\n",
    "\n",
    "    predicted = pred_df.copy()\n",
    "    predicted.columns = [\"year\", \"qol_score\"]\n",
    "    predicted[\"Projected?\"] = \"Projected Score\"\n",
    "\n",
    "    merged = pd.concat([actual, predicted], ignore_index=True)\n",
    "    merged = merged.sort_values(\"year\").reset_index(drop=True)\n",
    "\n",
    "    return merged\n"
   ]
  },
  {
   "cell_type": "code",
   "execution_count": 11,
   "id": "5a780417",
   "metadata": {},
   "outputs": [],
   "source": [
    "def plot_qol(qol_data, country):\n",
    "    \"\"\"\n",
    "    Plots actual and predicted QoL scores over time for a single country\n",
    "    \n",
    "    Args:\n",
    "        - qol_data: DataFrame with 'year', 'qol_score', and 'Projected?'\n",
    "        - country: Name of the country (str)\n",
    "    \"\"\"  \n",
    "    fig = go.Figure()\n",
    "\n",
    "    fig.add_trace(go.Scatter(\n",
    "        x=qol_data['year'],\n",
    "        y=qol_data['qol_score'],\n",
    "        mode='lines+markers',\n",
    "        name='QoL Score',\n",
    "        line=dict(color='royalblue'),\n",
    "        customdata=qol_data[['Projected?']], \n",
    "        hovertemplate=\n",
    "            'Year: %{x}<br>' +\n",
    "            'QoL Score: %{y:.3f}<br>' +\n",
    "            'Projected?: %{customdata[0]}<extra></extra>'\n",
    "    ))\n",
    "\n",
    "    fig.add_vline(x=2022.5, line_width=2, line_dash=\"dash\", line_color=\"gray\")\n",
    "\n",
    "    fig.add_vrect(\n",
    "        x0=2023, x1=qol_data['year'].max(),\n",
    "        fillcolor=\"lightgray\", opacity=0.3,\n",
    "        layer=\"below\", line_width=0,\n",
    "        annotation_text=\"Predicted\", annotation_position=\"top left\"\n",
    "    )\n",
    "\n",
    "    fig.update_layout(\n",
    "        title= f\"Quality of Life (Historical and Projected) for {country}\",\n",
    "        xaxis_title=\"Year\",\n",
    "        yaxis_title=\"Quality of Life Score\",\n",
    "        hovermode=\"x unified\"\n",
    "    )\n",
    "\n",
    "    fig.show()"
   ]
  },
  {
   "cell_type": "code",
   "execution_count": null,
   "id": "b6a32dff",
   "metadata": {},
   "outputs": [
    {
     "name": "stdout",
     "output_type": "stream",
     "text": [
      "[[1.     0.     0.     ... 7.2845 7.369  7.227 ]\n",
      " [1.     0.     0.     ... 7.2    7.2845 7.369 ]\n",
      " [1.     0.     0.     ... 7.119  7.2    7.2845]\n",
      " ...\n",
      " [0.     0.     0.     ... 7.314  7.284  7.291 ]\n",
      " [0.     0.     0.     ... 7.343  7.314  7.284 ]\n",
      " [0.     0.     0.     ... 7.353  7.343  7.314 ]]\n"
     ]
    }
   ],
   "source": [
    "matrices = autoregressor(df)\n",
    "X = matrices[0]\n",
    "y = matrices[1]\n",
    "w = linreg(X,y)"
   ]
  },
  {
   "cell_type": "code",
   "execution_count": 13,
   "id": "2e59f739",
   "metadata": {},
   "outputs": [
    {
     "data": {
      "application/vnd.plotly.v1+json": {
       "config": {
        "plotlyServerURL": "https://plot.ly"
       },
       "data": [
        {
         "customdata": [
          [
           "Historical Score"
          ],
          [
           "Historical Score"
          ],
          [
           "Historical Score"
          ],
          [
           "Historical Score"
          ],
          [
           "Historical Score"
          ],
          [
           "Historical Score"
          ],
          [
           "Historical Score"
          ],
          [
           "Historical Score"
          ],
          [
           "Historical Score"
          ],
          [
           "Historical Score"
          ],
          [
           "Historical Score"
          ],
          [
           "Historical Score"
          ],
          [
           "Projected Score"
          ],
          [
           "Projected Score"
          ],
          [
           "Projected Score"
          ],
          [
           "Projected Score"
          ],
          [
           "Projected Score"
          ]
         ],
         "hovertemplate": "Year: %{x}<br>QoL Score: %{y:.3f}<br>Projected?: %{customdata[0]}<extra></extra>",
         "line": {
          "color": "royalblue"
         },
         "mode": "lines+markers",
         "name": "QoL Score",
         "type": "scatter",
         "x": [
          2011,
          2012,
          2013,
          2014,
          2015,
          2016,
          2017,
          2018,
          2019,
          2020,
          2021,
          2022,
          2023,
          2024,
          2025,
          2026,
          2027
         ],
         "y": [
          7.227,
          7.369,
          7.284499999999999,
          7.2,
          7.119,
          7.006,
          7.139,
          7.246,
          7.294,
          7.268,
          7.163,
          7.097,
          7.084571143384753,
          7.10707876359719,
          7.128924852035897,
          7.134387088913868,
          7.12510125210983
         ]
        }
       ],
       "layout": {
        "annotations": [
         {
          "showarrow": false,
          "text": "Predicted",
          "x": 2023,
          "xanchor": "left",
          "xref": "x",
          "y": 1,
          "yanchor": "top",
          "yref": "y domain"
         }
        ],
        "hovermode": "x unified",
        "shapes": [
         {
          "line": {
           "color": "gray",
           "dash": "dash",
           "width": 2
          },
          "type": "line",
          "x0": 2022.5,
          "x1": 2022.5,
          "xref": "x",
          "y0": 0,
          "y1": 1,
          "yref": "y domain"
         },
         {
          "fillcolor": "lightgray",
          "layer": "below",
          "line": {
           "width": 0
          },
          "opacity": 0.3,
          "type": "rect",
          "x0": 2023,
          "x1": 2027,
          "xref": "x",
          "y0": 0,
          "y1": 1,
          "yref": "y domain"
         }
        ],
        "template": {
         "data": {
          "bar": [
           {
            "error_x": {
             "color": "#2a3f5f"
            },
            "error_y": {
             "color": "#2a3f5f"
            },
            "marker": {
             "line": {
              "color": "#E5ECF6",
              "width": 0.5
             },
             "pattern": {
              "fillmode": "overlay",
              "size": 10,
              "solidity": 0.2
             }
            },
            "type": "bar"
           }
          ],
          "barpolar": [
           {
            "marker": {
             "line": {
              "color": "#E5ECF6",
              "width": 0.5
             },
             "pattern": {
              "fillmode": "overlay",
              "size": 10,
              "solidity": 0.2
             }
            },
            "type": "barpolar"
           }
          ],
          "carpet": [
           {
            "aaxis": {
             "endlinecolor": "#2a3f5f",
             "gridcolor": "white",
             "linecolor": "white",
             "minorgridcolor": "white",
             "startlinecolor": "#2a3f5f"
            },
            "baxis": {
             "endlinecolor": "#2a3f5f",
             "gridcolor": "white",
             "linecolor": "white",
             "minorgridcolor": "white",
             "startlinecolor": "#2a3f5f"
            },
            "type": "carpet"
           }
          ],
          "choropleth": [
           {
            "colorbar": {
             "outlinewidth": 0,
             "ticks": ""
            },
            "type": "choropleth"
           }
          ],
          "contour": [
           {
            "colorbar": {
             "outlinewidth": 0,
             "ticks": ""
            },
            "colorscale": [
             [
              0,
              "#0d0887"
             ],
             [
              0.1111111111111111,
              "#46039f"
             ],
             [
              0.2222222222222222,
              "#7201a8"
             ],
             [
              0.3333333333333333,
              "#9c179e"
             ],
             [
              0.4444444444444444,
              "#bd3786"
             ],
             [
              0.5555555555555556,
              "#d8576b"
             ],
             [
              0.6666666666666666,
              "#ed7953"
             ],
             [
              0.7777777777777778,
              "#fb9f3a"
             ],
             [
              0.8888888888888888,
              "#fdca26"
             ],
             [
              1,
              "#f0f921"
             ]
            ],
            "type": "contour"
           }
          ],
          "contourcarpet": [
           {
            "colorbar": {
             "outlinewidth": 0,
             "ticks": ""
            },
            "type": "contourcarpet"
           }
          ],
          "heatmap": [
           {
            "colorbar": {
             "outlinewidth": 0,
             "ticks": ""
            },
            "colorscale": [
             [
              0,
              "#0d0887"
             ],
             [
              0.1111111111111111,
              "#46039f"
             ],
             [
              0.2222222222222222,
              "#7201a8"
             ],
             [
              0.3333333333333333,
              "#9c179e"
             ],
             [
              0.4444444444444444,
              "#bd3786"
             ],
             [
              0.5555555555555556,
              "#d8576b"
             ],
             [
              0.6666666666666666,
              "#ed7953"
             ],
             [
              0.7777777777777778,
              "#fb9f3a"
             ],
             [
              0.8888888888888888,
              "#fdca26"
             ],
             [
              1,
              "#f0f921"
             ]
            ],
            "type": "heatmap"
           }
          ],
          "heatmapgl": [
           {
            "colorbar": {
             "outlinewidth": 0,
             "ticks": ""
            },
            "colorscale": [
             [
              0,
              "#0d0887"
             ],
             [
              0.1111111111111111,
              "#46039f"
             ],
             [
              0.2222222222222222,
              "#7201a8"
             ],
             [
              0.3333333333333333,
              "#9c179e"
             ],
             [
              0.4444444444444444,
              "#bd3786"
             ],
             [
              0.5555555555555556,
              "#d8576b"
             ],
             [
              0.6666666666666666,
              "#ed7953"
             ],
             [
              0.7777777777777778,
              "#fb9f3a"
             ],
             [
              0.8888888888888888,
              "#fdca26"
             ],
             [
              1,
              "#f0f921"
             ]
            ],
            "type": "heatmapgl"
           }
          ],
          "histogram": [
           {
            "marker": {
             "pattern": {
              "fillmode": "overlay",
              "size": 10,
              "solidity": 0.2
             }
            },
            "type": "histogram"
           }
          ],
          "histogram2d": [
           {
            "colorbar": {
             "outlinewidth": 0,
             "ticks": ""
            },
            "colorscale": [
             [
              0,
              "#0d0887"
             ],
             [
              0.1111111111111111,
              "#46039f"
             ],
             [
              0.2222222222222222,
              "#7201a8"
             ],
             [
              0.3333333333333333,
              "#9c179e"
             ],
             [
              0.4444444444444444,
              "#bd3786"
             ],
             [
              0.5555555555555556,
              "#d8576b"
             ],
             [
              0.6666666666666666,
              "#ed7953"
             ],
             [
              0.7777777777777778,
              "#fb9f3a"
             ],
             [
              0.8888888888888888,
              "#fdca26"
             ],
             [
              1,
              "#f0f921"
             ]
            ],
            "type": "histogram2d"
           }
          ],
          "histogram2dcontour": [
           {
            "colorbar": {
             "outlinewidth": 0,
             "ticks": ""
            },
            "colorscale": [
             [
              0,
              "#0d0887"
             ],
             [
              0.1111111111111111,
              "#46039f"
             ],
             [
              0.2222222222222222,
              "#7201a8"
             ],
             [
              0.3333333333333333,
              "#9c179e"
             ],
             [
              0.4444444444444444,
              "#bd3786"
             ],
             [
              0.5555555555555556,
              "#d8576b"
             ],
             [
              0.6666666666666666,
              "#ed7953"
             ],
             [
              0.7777777777777778,
              "#fb9f3a"
             ],
             [
              0.8888888888888888,
              "#fdca26"
             ],
             [
              1,
              "#f0f921"
             ]
            ],
            "type": "histogram2dcontour"
           }
          ],
          "mesh3d": [
           {
            "colorbar": {
             "outlinewidth": 0,
             "ticks": ""
            },
            "type": "mesh3d"
           }
          ],
          "parcoords": [
           {
            "line": {
             "colorbar": {
              "outlinewidth": 0,
              "ticks": ""
             }
            },
            "type": "parcoords"
           }
          ],
          "pie": [
           {
            "automargin": true,
            "type": "pie"
           }
          ],
          "scatter": [
           {
            "fillpattern": {
             "fillmode": "overlay",
             "size": 10,
             "solidity": 0.2
            },
            "type": "scatter"
           }
          ],
          "scatter3d": [
           {
            "line": {
             "colorbar": {
              "outlinewidth": 0,
              "ticks": ""
             }
            },
            "marker": {
             "colorbar": {
              "outlinewidth": 0,
              "ticks": ""
             }
            },
            "type": "scatter3d"
           }
          ],
          "scattercarpet": [
           {
            "marker": {
             "colorbar": {
              "outlinewidth": 0,
              "ticks": ""
             }
            },
            "type": "scattercarpet"
           }
          ],
          "scattergeo": [
           {
            "marker": {
             "colorbar": {
              "outlinewidth": 0,
              "ticks": ""
             }
            },
            "type": "scattergeo"
           }
          ],
          "scattergl": [
           {
            "marker": {
             "colorbar": {
              "outlinewidth": 0,
              "ticks": ""
             }
            },
            "type": "scattergl"
           }
          ],
          "scattermapbox": [
           {
            "marker": {
             "colorbar": {
              "outlinewidth": 0,
              "ticks": ""
             }
            },
            "type": "scattermapbox"
           }
          ],
          "scatterpolar": [
           {
            "marker": {
             "colorbar": {
              "outlinewidth": 0,
              "ticks": ""
             }
            },
            "type": "scatterpolar"
           }
          ],
          "scatterpolargl": [
           {
            "marker": {
             "colorbar": {
              "outlinewidth": 0,
              "ticks": ""
             }
            },
            "type": "scatterpolargl"
           }
          ],
          "scatterternary": [
           {
            "marker": {
             "colorbar": {
              "outlinewidth": 0,
              "ticks": ""
             }
            },
            "type": "scatterternary"
           }
          ],
          "surface": [
           {
            "colorbar": {
             "outlinewidth": 0,
             "ticks": ""
            },
            "colorscale": [
             [
              0,
              "#0d0887"
             ],
             [
              0.1111111111111111,
              "#46039f"
             ],
             [
              0.2222222222222222,
              "#7201a8"
             ],
             [
              0.3333333333333333,
              "#9c179e"
             ],
             [
              0.4444444444444444,
              "#bd3786"
             ],
             [
              0.5555555555555556,
              "#d8576b"
             ],
             [
              0.6666666666666666,
              "#ed7953"
             ],
             [
              0.7777777777777778,
              "#fb9f3a"
             ],
             [
              0.8888888888888888,
              "#fdca26"
             ],
             [
              1,
              "#f0f921"
             ]
            ],
            "type": "surface"
           }
          ],
          "table": [
           {
            "cells": {
             "fill": {
              "color": "#EBF0F8"
             },
             "line": {
              "color": "white"
             }
            },
            "header": {
             "fill": {
              "color": "#C8D4E3"
             },
             "line": {
              "color": "white"
             }
            },
            "type": "table"
           }
          ]
         },
         "layout": {
          "annotationdefaults": {
           "arrowcolor": "#2a3f5f",
           "arrowhead": 0,
           "arrowwidth": 1
          },
          "autotypenumbers": "strict",
          "coloraxis": {
           "colorbar": {
            "outlinewidth": 0,
            "ticks": ""
           }
          },
          "colorscale": {
           "diverging": [
            [
             0,
             "#8e0152"
            ],
            [
             0.1,
             "#c51b7d"
            ],
            [
             0.2,
             "#de77ae"
            ],
            [
             0.3,
             "#f1b6da"
            ],
            [
             0.4,
             "#fde0ef"
            ],
            [
             0.5,
             "#f7f7f7"
            ],
            [
             0.6,
             "#e6f5d0"
            ],
            [
             0.7,
             "#b8e186"
            ],
            [
             0.8,
             "#7fbc41"
            ],
            [
             0.9,
             "#4d9221"
            ],
            [
             1,
             "#276419"
            ]
           ],
           "sequential": [
            [
             0,
             "#0d0887"
            ],
            [
             0.1111111111111111,
             "#46039f"
            ],
            [
             0.2222222222222222,
             "#7201a8"
            ],
            [
             0.3333333333333333,
             "#9c179e"
            ],
            [
             0.4444444444444444,
             "#bd3786"
            ],
            [
             0.5555555555555556,
             "#d8576b"
            ],
            [
             0.6666666666666666,
             "#ed7953"
            ],
            [
             0.7777777777777778,
             "#fb9f3a"
            ],
            [
             0.8888888888888888,
             "#fdca26"
            ],
            [
             1,
             "#f0f921"
            ]
           ],
           "sequentialminus": [
            [
             0,
             "#0d0887"
            ],
            [
             0.1111111111111111,
             "#46039f"
            ],
            [
             0.2222222222222222,
             "#7201a8"
            ],
            [
             0.3333333333333333,
             "#9c179e"
            ],
            [
             0.4444444444444444,
             "#bd3786"
            ],
            [
             0.5555555555555556,
             "#d8576b"
            ],
            [
             0.6666666666666666,
             "#ed7953"
            ],
            [
             0.7777777777777778,
             "#fb9f3a"
            ],
            [
             0.8888888888888888,
             "#fdca26"
            ],
            [
             1,
             "#f0f921"
            ]
           ]
          },
          "colorway": [
           "#636efa",
           "#EF553B",
           "#00cc96",
           "#ab63fa",
           "#FFA15A",
           "#19d3f3",
           "#FF6692",
           "#B6E880",
           "#FF97FF",
           "#FECB52"
          ],
          "font": {
           "color": "#2a3f5f"
          },
          "geo": {
           "bgcolor": "white",
           "lakecolor": "white",
           "landcolor": "#E5ECF6",
           "showlakes": true,
           "showland": true,
           "subunitcolor": "white"
          },
          "hoverlabel": {
           "align": "left"
          },
          "hovermode": "closest",
          "mapbox": {
           "style": "light"
          },
          "paper_bgcolor": "white",
          "plot_bgcolor": "#E5ECF6",
          "polar": {
           "angularaxis": {
            "gridcolor": "white",
            "linecolor": "white",
            "ticks": ""
           },
           "bgcolor": "#E5ECF6",
           "radialaxis": {
            "gridcolor": "white",
            "linecolor": "white",
            "ticks": ""
           }
          },
          "scene": {
           "xaxis": {
            "backgroundcolor": "#E5ECF6",
            "gridcolor": "white",
            "gridwidth": 2,
            "linecolor": "white",
            "showbackground": true,
            "ticks": "",
            "zerolinecolor": "white"
           },
           "yaxis": {
            "backgroundcolor": "#E5ECF6",
            "gridcolor": "white",
            "gridwidth": 2,
            "linecolor": "white",
            "showbackground": true,
            "ticks": "",
            "zerolinecolor": "white"
           },
           "zaxis": {
            "backgroundcolor": "#E5ECF6",
            "gridcolor": "white",
            "gridwidth": 2,
            "linecolor": "white",
            "showbackground": true,
            "ticks": "",
            "zerolinecolor": "white"
           }
          },
          "shapedefaults": {
           "line": {
            "color": "#2a3f5f"
           }
          },
          "ternary": {
           "aaxis": {
            "gridcolor": "white",
            "linecolor": "white",
            "ticks": ""
           },
           "baxis": {
            "gridcolor": "white",
            "linecolor": "white",
            "ticks": ""
           },
           "bgcolor": "#E5ECF6",
           "caxis": {
            "gridcolor": "white",
            "linecolor": "white",
            "ticks": ""
           }
          },
          "title": {
           "x": 0.05
          },
          "xaxis": {
           "automargin": true,
           "gridcolor": "white",
           "linecolor": "white",
           "ticks": "",
           "title": {
            "standoff": 15
           },
           "zerolinecolor": "white",
           "zerolinewidth": 2
          },
          "yaxis": {
           "automargin": true,
           "gridcolor": "white",
           "linecolor": "white",
           "ticks": "",
           "title": {
            "standoff": 15
           },
           "zerolinecolor": "white",
           "zerolinewidth": 2
          }
         }
        },
        "title": {
         "text": "Quality of Life (Historical and Projected) for Austria"
        },
        "xaxis": {
         "title": {
          "text": "Year"
         }
        },
        "yaxis": {
         "title": {
          "text": "Quality of Life Score"
         }
        }
       }
      }
     },
     "metadata": {},
     "output_type": "display_data"
    }
   ],
   "source": [
    "test = prediction_table(\"Austria\")\n",
    "test1 = qol_df(df, test, \"Austria\")\n",
    "plot_qol(test1, \"Austria\")"
   ]
  },
  {
   "cell_type": "code",
   "execution_count": 104,
   "id": "6cc1df38",
   "metadata": {},
   "outputs": [],
   "source": [
    "def training(df, country):\n",
    "    \"\"\"\n",
    "    Gives the weight vector for the autoregressive model predicting QoL with a 5 year lag for the training set\n",
    "\n",
    "    args:\n",
    "        - df: dataframe of unstandardized QoL values, country, and year\n",
    "        - country: country to cross val\n",
    "    \n",
    "    returns:\n",
    "        - w: weight vector for training set\n",
    "\n",
    "    \"\"\"\n",
    "    p = 5\n",
    "    eu_countries = [\n",
    "        \" country_name_Austria\", \" country_name_Belgium\", \" country_name_Bulgaria\", \" country_name_Croatia\",\n",
    "        \" country_name_Cyprus\", \" country_name_Czechia\", \" country_name_Denmark\",\n",
    "        \" country_name_Estonia\", \" country_name_Finland\", \" country_name_France\", \" country_name_Germany\",\n",
    "        \" country_name_Greece\", \" country_name_Hungary\", \" country_name_Ireland\",\n",
    "        \" country_name_Italy\", \" country_name_Latvia\", \" country_name_Lithuania\", \" country_name_Luxembourg\",\n",
    "        \" country_name_Malta\", \" country_name_Netherlands\",\n",
    "        \" country_name_Poland\", \" country_name_Portugal\", \" country_name_Romania\",\n",
    "        \" country_name_Slovakia\", \" country_name_Slovenia\", \" country_name_Spain\"\n",
    "    ]  \n",
    "\n",
    "    df_filtered = df[(df[' score_year'] >= 2011) & (df[' score_year'] <= 2020) & (df[' country_name'] == country)]\n",
    "\n",
    "    df_encoded = pd.get_dummies(df, columns=[' country_name'], dtype='int')\n",
    "\n",
    "    X = []\n",
    "    y = []\n",
    "\n",
    "    dummy_vector = np.zeros(len(eu_countries))\n",
    "    dummy_col_names = eu_countries\n",
    "    \n",
    "    country_col_name = \" country_name_\" + country\n",
    "    if country_col_name in dummy_col_names:\n",
    "        idx = dummy_col_names.index(country_col_name)\n",
    "        dummy_vector[idx] = 1\n",
    "    else:\n",
    "        pass\n",
    "\n",
    "    qol_series = df_filtered.sort_values(' score_year')[' qol_score'].to_numpy()\n",
    "\n",
    "    for t in range(p, len(qol_series)):\n",
    "        lags = qol_series[t - p:t][::-1]  \n",
    "        row = np.concatenate([dummy_vector, lags])\n",
    "        X.append(row)\n",
    "        y.append(qol_series[t])\n",
    "\n",
    "    X = np.array(X)\n",
    "    y = np.array(y)\n",
    "\n",
    "    XtXinv = np.linalg.pinv(np.matmul(X.T, X))\n",
    "    w = np.matmul(XtXinv, np.matmul(X.T, y))   \n",
    "\n",
    "    return X, w"
   ]
  },
  {
   "cell_type": "code",
   "execution_count": null,
   "id": "572376da",
   "metadata": {},
   "outputs": [],
   "source": [
    "def testing(df, country, w, p=5):\n",
    "    eu_countries = [\n",
    "        \"Austria\", \"Belgium\", \"Bulgaria\", \"Croatia\", \"Cyprus\", \"Czechia\", \"Denmark\",\n",
    "        \"Estonia\", \"Finland\", \"France\", \"Germany\", \"Greece\", \"Hungary\", \"Ireland\",\n",
    "        \"Italy\", \"Latvia\", \"Lithuania\", \"Luxembourg\", \"Malta\", \"Netherlands\",\n",
    "        \"Poland\", \"Portugal\", \"Romania\", \"Slovakia\", \"Slovenia\", \"Spain\"\n",
    "    ]\n",
    "\n",
    "    if country == \"Sweden\":\n",
    "        startX = np.zeros(len(eu_countries))\n",
    "    else:\n",
    "        country_index = eu_countries.index(country)\n",
    "        startX = np.zeros(len(eu_countries))\n",
    "        startX[country_index] = 1\n",
    "\n",
    "    df_country = df[df[\" country_name\"] == country]\n",
    "\n",
    "    qol = df_country[\" qol_score\"].to_numpy()\n",
    "    years = df_country[\" score_year\"].to_list()\n",
    "\n",
    "    idx_2021 = years.index(2021)\n",
    "    idx_2022 = years.index(2022)\n",
    "    \n",
    "    X_test = []\n",
    "\n",
    "    lag_2021 = qol[idx_2021 - p:idx_2021][::-1]\n",
    "    row_2021 = np.concatenate([startX, lag_2021])\n",
    "    X_test.append(row_2021)\n",
    "\n",
    "    lag_2022 = qol[idx_2022 - p:idx_2022][::-1]\n",
    "    row_2022 = np.concatenate([startX, lag_2022])\n",
    "    X_test.append(row_2022)\n",
    "\n",
    "    X_test = np.array(X_test)\n",
    "\n",
    "    # Predict\n",
    "    y_preds = np.dot(X_test, w)\n",
    "\n",
    "    # True values for 2021 and 2022 QoL (actual)\n",
    "    y_true = np.array([qol[idx_2021], qol[idx_2022]])\n",
    "\n",
    "    return y_preds, y_true, X_test\n"
   ]
  },
  {
   "cell_type": "code",
   "execution_count": null,
   "id": "0c373ec0",
   "metadata": {},
   "outputs": [
    {
     "name": "stdout",
     "output_type": "stream",
     "text": [
      "MSE: 0.11909005482955927\n",
      "R2: 0.6183673263328691\n",
      "[[1.0, 0.0, 0.0, 0.0, 0.0, 0.0, 0.0, 0.0, 0.0, 0.0, 0.0, 0.0, 0.0, 0.0, 0.0, 0.0, 0.0, 0.0, 0.0, 0.0, 0.0, 0.0, 0.0, 0.0, 0.0, 0.0, 7.268, 7.294, 7.246, 7.139, 7.006], [1.0, 0.0, 0.0, 0.0, 0.0, 0.0, 0.0, 0.0, 0.0, 0.0, 0.0, 0.0, 0.0, 0.0, 0.0, 0.0, 0.0, 0.0, 0.0, 0.0, 0.0, 0.0, 0.0, 0.0, 0.0, 0.0, 7.163, 7.268, 7.294, 7.246, 7.139], [0.0, 1.0, 0.0, 0.0, 0.0, 0.0, 0.0, 0.0, 0.0, 0.0, 0.0, 0.0, 0.0, 0.0, 0.0, 0.0, 0.0, 0.0, 0.0, 0.0, 0.0, 0.0, 0.0, 0.0, 0.0, 0.0, 6.834, 6.864, 6.923, 6.927, 6.891], [0.0, 1.0, 0.0, 0.0, 0.0, 0.0, 0.0, 0.0, 0.0, 0.0, 0.0, 0.0, 0.0, 0.0, 0.0, 0.0, 0.0, 0.0, 0.0, 0.0, 0.0, 0.0, 0.0, 0.0, 0.0, 0.0, 6.805, 6.834, 6.864, 6.923, 6.927], [0.0, 0.0, 1.0, 0.0, 0.0, 0.0, 0.0, 0.0, 0.0, 0.0, 0.0, 0.0, 0.0, 0.0, 0.0, 0.0, 0.0, 0.0, 0.0, 0.0, 0.0, 0.0, 0.0, 0.0, 0.0, 0.0, 5.266, 5.102, 5.011, 4.933, 4.714], [0.0, 0.0, 1.0, 0.0, 0.0, 0.0, 0.0, 0.0, 0.0, 0.0, 0.0, 0.0, 0.0, 0.0, 0.0, 0.0, 0.0, 0.0, 0.0, 0.0, 0.0, 0.0, 0.0, 0.0, 0.0, 0.0, 5.371, 5.266, 5.102, 5.011, 4.933], [0.0, 0.0, 0.0, 1.0, 0.0, 0.0, 0.0, 0.0, 0.0, 0.0, 0.0, 0.0, 0.0, 0.0, 0.0, 0.0, 0.0, 0.0, 0.0, 0.0, 0.0, 0.0, 0.0, 0.0, 0.0, 0.0, 5.882, 5.505, 5.432, 5.321, 5.293], [0.0, 0.0, 0.0, 1.0, 0.0, 0.0, 0.0, 0.0, 0.0, 0.0, 0.0, 0.0, 0.0, 0.0, 0.0, 0.0, 0.0, 0.0, 0.0, 0.0, 0.0, 0.0, 0.0, 0.0, 0.0, 0.0, 6.125, 5.882, 5.505, 5.432, 5.321], [0.0, 0.0, 0.0, 0.0, 1.0, 0.0, 0.0, 0.0, 0.0, 0.0, 0.0, 0.0, 0.0, 0.0, 0.0, 0.0, 0.0, 0.0, 0.0, 0.0, 0.0, 0.0, 0.0, 0.0, 0.0, 0.0, 6.223, 6.159, 6.046, 5.762, 5.621], [0.0, 0.0, 0.0, 0.0, 1.0, 0.0, 0.0, 0.0, 0.0, 0.0, 0.0, 0.0, 0.0, 0.0, 0.0, 0.0, 0.0, 0.0, 0.0, 0.0, 0.0, 0.0, 0.0, 0.0, 0.0, 0.0, 6.221, 6.223, 6.159, 6.046, 5.762], [0.0, 0.0, 0.0, 0.0, 0.0, 1.0, 0.0, 0.0, 0.0, 0.0, 0.0, 0.0, 0.0, 0.0, 0.0, 0.0, 0.0, 0.0, 0.0, 0.0, 0.0, 0.0, 0.0, 0.0, 0.0, 0.0, 6.911, 6.852, 6.711, 6.609, 6.596], [0.0, 0.0, 0.0, 0.0, 0.0, 1.0, 0.0, 0.0, 0.0, 0.0, 0.0, 0.0, 0.0, 0.0, 0.0, 0.0, 0.0, 0.0, 0.0, 0.0, 0.0, 0.0, 0.0, 0.0, 0.0, 0.0, 6.92, 6.911, 6.852, 6.711, 6.609], [0.0, 0.0, 0.0, 0.0, 0.0, 0.0, 1.0, 0.0, 0.0, 0.0, 0.0, 0.0, 0.0, 0.0, 0.0, 0.0, 0.0, 0.0, 0.0, 0.0, 0.0, 0.0, 0.0, 0.0, 0.0, 0.0, 7.62, 7.646, 7.6, 7.555, 7.522], [0.0, 0.0, 0.0, 0.0, 0.0, 0.0, 1.0, 0.0, 0.0, 0.0, 0.0, 0.0, 0.0, 0.0, 0.0, 0.0, 0.0, 0.0, 0.0, 0.0, 0.0, 0.0, 0.0, 0.0, 0.0, 0.0, 7.636, 7.62, 7.646, 7.6, 7.555], [0.0, 0.0, 0.0, 0.0, 0.0, 0.0, 0.0, 1.0, 0.0, 0.0, 0.0, 0.0, 0.0, 0.0, 0.0, 0.0, 0.0, 0.0, 0.0, 0.0, 0.0, 0.0, 0.0, 0.0, 0.0, 0.0, 6.189, 6.022, 5.893, 5.739, 5.611], [0.0, 0.0, 0.0, 0.0, 0.0, 0.0, 0.0, 1.0, 0.0, 0.0, 0.0, 0.0, 0.0, 0.0, 0.0, 0.0, 0.0, 0.0, 0.0, 0.0, 0.0, 0.0, 0.0, 0.0, 0.0, 0.0, 6.341, 6.189, 6.022, 5.893, 5.739], [0.0, 0.0, 0.0, 0.0, 0.0, 0.0, 0.0, 0.0, 1.0, 0.0, 0.0, 0.0, 0.0, 0.0, 0.0, 0.0, 0.0, 0.0, 0.0, 0.0, 0.0, 0.0, 0.0, 0.0, 0.0, 0.0, 7.842, 7.809, 7.769, 7.632, 7.469], [0.0, 0.0, 0.0, 0.0, 0.0, 0.0, 0.0, 0.0, 1.0, 0.0, 0.0, 0.0, 0.0, 0.0, 0.0, 0.0, 0.0, 0.0, 0.0, 0.0, 0.0, 0.0, 0.0, 0.0, 0.0, 0.0, 7.821, 7.842, 7.809, 7.769, 7.632], [0.0, 0.0, 0.0, 0.0, 0.0, 0.0, 0.0, 0.0, 0.0, 1.0, 0.0, 0.0, 0.0, 0.0, 0.0, 0.0, 0.0, 0.0, 0.0, 0.0, 0.0, 0.0, 0.0, 0.0, 0.0, 0.0, 6.69, 6.664, 6.592, 6.489, 6.442], [0.0, 0.0, 0.0, 0.0, 0.0, 0.0, 0.0, 0.0, 0.0, 1.0, 0.0, 0.0, 0.0, 0.0, 0.0, 0.0, 0.0, 0.0, 0.0, 0.0, 0.0, 0.0, 0.0, 0.0, 0.0, 0.0, 6.687, 6.69, 6.664, 6.592, 6.489], [0.0, 0.0, 0.0, 0.0, 0.0, 0.0, 0.0, 0.0, 0.0, 0.0, 1.0, 0.0, 0.0, 0.0, 0.0, 0.0, 0.0, 0.0, 0.0, 0.0, 0.0, 0.0, 0.0, 0.0, 0.0, 0.0, 7.155, 7.076, 6.985, 6.965, 6.951], [0.0, 0.0, 0.0, 0.0, 0.0, 0.0, 0.0, 0.0, 0.0, 0.0, 1.0, 0.0, 0.0, 0.0, 0.0, 0.0, 0.0, 0.0, 0.0, 0.0, 0.0, 0.0, 0.0, 0.0, 0.0, 0.0, 7.034, 7.155, 7.076, 6.985, 6.965], [0.0, 0.0, 0.0, 0.0, 0.0, 0.0, 0.0, 0.0, 0.0, 0.0, 0.0, 1.0, 0.0, 0.0, 0.0, 0.0, 0.0, 0.0, 0.0, 0.0, 0.0, 0.0, 0.0, 0.0, 0.0, 0.0, 5.723, 5.515, 5.287, 5.358, 5.227], [0.0, 0.0, 0.0, 0.0, 0.0, 0.0, 0.0, 0.0, 0.0, 0.0, 0.0, 1.0, 0.0, 0.0, 0.0, 0.0, 0.0, 0.0, 0.0, 0.0, 0.0, 0.0, 0.0, 0.0, 0.0, 0.0, 5.948, 5.723, 5.515, 5.287, 5.358], [0.0, 0.0, 0.0, 0.0, 0.0, 0.0, 0.0, 0.0, 0.0, 0.0, 0.0, 0.0, 1.0, 0.0, 0.0, 0.0, 0.0, 0.0, 0.0, 0.0, 0.0, 0.0, 0.0, 0.0, 0.0, 0.0, 5.992, 6.0, 5.758, 5.62, 5.324], [0.0, 0.0, 0.0, 0.0, 0.0, 0.0, 0.0, 0.0, 0.0, 0.0, 0.0, 0.0, 1.0, 0.0, 0.0, 0.0, 0.0, 0.0, 0.0, 0.0, 0.0, 0.0, 0.0, 0.0, 0.0, 0.0, 6.086, 5.992, 6.0, 5.758, 5.62], [0.0, 0.0, 0.0, 0.0, 0.0, 0.0, 0.0, 0.0, 0.0, 0.0, 0.0, 0.0, 0.0, 1.0, 0.0, 0.0, 0.0, 0.0, 0.0, 0.0, 0.0, 0.0, 0.0, 0.0, 0.0, 0.0, 7.085, 7.094, 7.021, 6.977, 6.977], [0.0, 0.0, 0.0, 0.0, 0.0, 0.0, 0.0, 0.0, 0.0, 0.0, 0.0, 0.0, 0.0, 1.0, 0.0, 0.0, 0.0, 0.0, 0.0, 0.0, 0.0, 0.0, 0.0, 0.0, 0.0, 0.0, 7.041, 7.085, 7.094, 7.021, 6.977], [0.0, 0.0, 0.0, 0.0, 0.0, 0.0, 0.0, 0.0, 0.0, 0.0, 0.0, 0.0, 0.0, 0.0, 1.0, 0.0, 0.0, 0.0, 0.0, 0.0, 0.0, 0.0, 0.0, 0.0, 0.0, 0.0, 6.483, 6.387, 6.223, 6.0, 5.964], [0.0, 0.0, 0.0, 0.0, 0.0, 0.0, 0.0, 0.0, 0.0, 0.0, 0.0, 0.0, 0.0, 0.0, 1.0, 0.0, 0.0, 0.0, 0.0, 0.0, 0.0, 0.0, 0.0, 0.0, 0.0, 0.0, 6.467, 6.483, 6.387, 6.223, 6.0], [0.0, 0.0, 0.0, 0.0, 0.0, 0.0, 0.0, 0.0, 0.0, 0.0, 0.0, 0.0, 0.0, 0.0, 0.0, 1.0, 0.0, 0.0, 0.0, 0.0, 0.0, 0.0, 0.0, 0.0, 0.0, 0.0, 6.032, 5.95, 5.94, 5.933, 5.85], [0.0, 0.0, 0.0, 0.0, 0.0, 0.0, 0.0, 0.0, 0.0, 0.0, 0.0, 0.0, 0.0, 0.0, 0.0, 1.0, 0.0, 0.0, 0.0, 0.0, 0.0, 0.0, 0.0, 0.0, 0.0, 0.0, 6.18, 6.032, 5.95, 5.94, 5.933], [0.0, 0.0, 0.0, 0.0, 0.0, 0.0, 0.0, 0.0, 0.0, 0.0, 0.0, 0.0, 0.0, 0.0, 0.0, 0.0, 1.0, 0.0, 0.0, 0.0, 0.0, 0.0, 0.0, 0.0, 0.0, 0.0, 6.255, 6.215, 6.149, 5.952, 5.902], [0.0, 0.0, 0.0, 0.0, 0.0, 0.0, 0.0, 0.0, 0.0, 0.0, 0.0, 0.0, 0.0, 0.0, 0.0, 0.0, 1.0, 0.0, 0.0, 0.0, 0.0, 0.0, 0.0, 0.0, 0.0, 0.0, 6.446, 6.255, 6.215, 6.149, 5.952], [0.0, 0.0, 0.0, 0.0, 0.0, 0.0, 0.0, 0.0, 0.0, 0.0, 0.0, 0.0, 0.0, 0.0, 0.0, 0.0, 0.0, 1.0, 0.0, 0.0, 0.0, 0.0, 0.0, 0.0, 0.0, 0.0, 7.324, 7.238, 7.09, 6.91, 6.863], [0.0, 0.0, 0.0, 0.0, 0.0, 0.0, 0.0, 0.0, 0.0, 0.0, 0.0, 0.0, 0.0, 0.0, 0.0, 0.0, 0.0, 1.0, 0.0, 0.0, 0.0, 0.0, 0.0, 0.0, 0.0, 0.0, 7.404, 7.324, 7.238, 7.09, 6.91], [0.0, 0.0, 0.0, 0.0, 0.0, 0.0, 0.0, 0.0, 0.0, 0.0, 0.0, 0.0, 0.0, 0.0, 0.0, 0.0, 0.0, 0.0, 1.0, 0.0, 0.0, 0.0, 0.0, 0.0, 0.0, 0.0, 6.602, 6.773, 6.726, 6.627, 6.527], [0.0, 0.0, 0.0, 0.0, 0.0, 0.0, 0.0, 0.0, 0.0, 0.0, 0.0, 0.0, 0.0, 0.0, 0.0, 0.0, 0.0, 0.0, 1.0, 0.0, 0.0, 0.0, 0.0, 0.0, 0.0, 0.0, 6.447, 6.602, 6.773, 6.726, 6.627], [0.0, 0.0, 0.0, 0.0, 0.0, 0.0, 0.0, 0.0, 0.0, 0.0, 0.0, 0.0, 0.0, 0.0, 0.0, 0.0, 0.0, 0.0, 0.0, 1.0, 0.0, 0.0, 0.0, 0.0, 0.0, 0.0, 7.464, 7.449, 7.488, 7.441, 7.377], [0.0, 0.0, 0.0, 0.0, 0.0, 0.0, 0.0, 0.0, 0.0, 0.0, 0.0, 0.0, 0.0, 0.0, 0.0, 0.0, 0.0, 0.0, 0.0, 1.0, 0.0, 0.0, 0.0, 0.0, 0.0, 0.0, 7.415, 7.464, 7.449, 7.488, 7.441], [0.0, 0.0, 0.0, 0.0, 0.0, 0.0, 0.0, 0.0, 0.0, 0.0, 0.0, 0.0, 0.0, 0.0, 0.0, 0.0, 0.0, 0.0, 0.0, 0.0, 1.0, 0.0, 0.0, 0.0, 0.0, 0.0, 6.166, 6.186, 6.182, 6.123, 5.973], [0.0, 0.0, 0.0, 0.0, 0.0, 0.0, 0.0, 0.0, 0.0, 0.0, 0.0, 0.0, 0.0, 0.0, 0.0, 0.0, 0.0, 0.0, 0.0, 0.0, 1.0, 0.0, 0.0, 0.0, 0.0, 0.0, 6.123, 6.166, 6.186, 6.182, 6.123], [0.0, 0.0, 0.0, 0.0, 0.0, 0.0, 0.0, 0.0, 0.0, 0.0, 0.0, 0.0, 0.0, 0.0, 0.0, 0.0, 0.0, 0.0, 0.0, 0.0, 0.0, 1.0, 0.0, 0.0, 0.0, 0.0, 5.929, 5.911, 5.693, 5.41, 5.195], [0.0, 0.0, 0.0, 0.0, 0.0, 0.0, 0.0, 0.0, 0.0, 0.0, 0.0, 0.0, 0.0, 0.0, 0.0, 0.0, 0.0, 0.0, 0.0, 0.0, 0.0, 1.0, 0.0, 0.0, 0.0, 0.0, 6.016, 5.929, 5.911, 5.693, 5.41], [0.0, 0.0, 0.0, 0.0, 0.0, 0.0, 0.0, 0.0, 0.0, 0.0, 0.0, 0.0, 0.0, 0.0, 0.0, 0.0, 0.0, 0.0, 0.0, 0.0, 0.0, 0.0, 1.0, 0.0, 0.0, 0.0, 6.14, 6.124, 6.07, 5.945, 5.825], [0.0, 0.0, 0.0, 0.0, 0.0, 0.0, 0.0, 0.0, 0.0, 0.0, 0.0, 0.0, 0.0, 0.0, 0.0, 0.0, 0.0, 0.0, 0.0, 0.0, 0.0, 0.0, 1.0, 0.0, 0.0, 0.0, 6.477, 6.14, 6.124, 6.07, 5.945], [0.0, 0.0, 0.0, 0.0, 0.0, 0.0, 0.0, 0.0, 0.0, 0.0, 0.0, 0.0, 0.0, 0.0, 0.0, 0.0, 0.0, 0.0, 0.0, 0.0, 0.0, 0.0, 0.0, 1.0, 0.0, 0.0, 6.331, 6.281, 6.198, 6.173, 6.098], [0.0, 0.0, 0.0, 0.0, 0.0, 0.0, 0.0, 0.0, 0.0, 0.0, 0.0, 0.0, 0.0, 0.0, 0.0, 0.0, 0.0, 0.0, 0.0, 0.0, 0.0, 0.0, 0.0, 1.0, 0.0, 0.0, 6.391, 6.331, 6.281, 6.198, 6.173], [0.0, 0.0, 0.0, 0.0, 0.0, 0.0, 0.0, 0.0, 0.0, 0.0, 0.0, 0.0, 0.0, 0.0, 0.0, 0.0, 0.0, 0.0, 0.0, 0.0, 0.0, 0.0, 0.0, 0.0, 1.0, 0.0, 6.461, 6.363, 6.118, 5.948, 5.758], [0.0, 0.0, 0.0, 0.0, 0.0, 0.0, 0.0, 0.0, 0.0, 0.0, 0.0, 0.0, 0.0, 0.0, 0.0, 0.0, 0.0, 0.0, 0.0, 0.0, 0.0, 0.0, 0.0, 0.0, 1.0, 0.0, 6.63, 6.461, 6.363, 6.118, 5.948], [0.0, 0.0, 0.0, 0.0, 0.0, 0.0, 0.0, 0.0, 0.0, 0.0, 0.0, 0.0, 0.0, 0.0, 0.0, 0.0, 0.0, 0.0, 0.0, 0.0, 0.0, 0.0, 0.0, 0.0, 0.0, 1.0, 6.491, 6.401, 6.354, 6.31, 6.403], [0.0, 0.0, 0.0, 0.0, 0.0, 0.0, 0.0, 0.0, 0.0, 0.0, 0.0, 0.0, 0.0, 0.0, 0.0, 0.0, 0.0, 0.0, 0.0, 0.0, 0.0, 0.0, 0.0, 0.0, 0.0, 1.0, 6.476, 6.491, 6.401, 6.354, 6.31], [0.0, 0.0, 0.0, 0.0, 0.0, 0.0, 0.0, 0.0, 0.0, 0.0, 0.0, 0.0, 0.0, 0.0, 0.0, 0.0, 0.0, 0.0, 0.0, 0.0, 0.0, 0.0, 0.0, 0.0, 0.0, 0.0, 7.363, 7.353, 7.343, 7.314, 7.284], [0.0, 0.0, 0.0, 0.0, 0.0, 0.0, 0.0, 0.0, 0.0, 0.0, 0.0, 0.0, 0.0, 0.0, 0.0, 0.0, 0.0, 0.0, 0.0, 0.0, 0.0, 0.0, 0.0, 0.0, 0.0, 0.0, 7.384, 7.363, 7.353, 7.343, 7.314]]\n"
     ]
    }
   ],
   "source": [
    "eu_countries = [\n",
    "        \"Austria\", \"Belgium\", \"Bulgaria\", \"Croatia\", \"Cyprus\", \"Czechia\", \"Denmark\",\n",
    "        \"Estonia\", \"Finland\", \"France\", \"Germany\", \"Greece\", \"Hungary\", \"Ireland\",\n",
    "        \"Italy\", \"Latvia\", \"Lithuania\", \"Luxembourg\", \"Malta\", \"Netherlands\",\n",
    "        \"Poland\", \"Portugal\", \"Romania\", \"Slovakia\", \"Slovenia\", \"Spain\", \"Sweden\"\n",
    "    ]\n",
    "all_preds = []\n",
    "all_true = []\n",
    "all_x = []\n",
    "for country in eu_countries:\n",
    "    train = training(df, country)\n",
    "    test = testing(df, country, train[1])\n",
    "    pred = test[0].tolist()\n",
    "    true = test[1].tolist()\n",
    "    x = test[2].tolist()\n",
    "    all_preds.append(pred)\n",
    "    all_true.append(true)\n",
    "    all_x.append(x)\n",
    "\n",
    "all_preds_list = []\n",
    "all_true_list = []\n",
    "all_x_list = [] \n",
    "\n",
    "for sublist in all_preds:\n",
    "    for item in sublist:\n",
    "        all_preds_list.append(item)  \n",
    "\n",
    "for sublist in all_true:\n",
    "    for item in sublist:\n",
    "        all_true_list.append(item) \n",
    "\n",
    "for sublist in all_x:\n",
    "    for item in sublist:\n",
    "        all_x_list.append(item) \n",
    "\n",
    "residuals = []\n",
    "for i in range(len(all_true_list)):\n",
    "    resid = all_true_list[i] - all_preds_list[i]\n",
    "    residuals.append(resid)\n",
    "\n",
    "mse = mean_squared_error(all_true_list, all_preds_list)\n",
    "r2 = r2_score(all_true_list, all_preds_list)\n",
    "\n",
    "print(f\"MSE: {mse}\")\n",
    "print(f\"R2: {r2}\")\n"
   ]
  },
  {
   "cell_type": "code",
   "execution_count": null,
   "id": "154c245b",
   "metadata": {},
   "outputs": [
    {
     "name": "stdout",
     "output_type": "stream",
     "text": [
      "Pre-CV R2: 0.986336635437033\n",
      "Pre-CV MSE: 0.006365779232668976\n",
      "[7.006, 7.139, 6.891, 6.927, 4.714, 4.933, 5.293, 5.321, 5.621, 5.762, 6.596, 6.609, 7.522, 7.555, 5.611, 5.739, 7.469, 7.632, 6.442, 6.489, 6.951, 6.965, 5.227, 5.358, 5.324, 5.62, 6.977, 6.977, 5.964, 6.0, 5.85, 5.933, 5.902, 5.952, 6.863, 6.91, 6.527, 6.627, 7.377, 7.441, 5.973, 6.123, 5.195, 5.41, 5.825, 5.945, 6.098, 6.173, 5.758, 5.948, 6.403, 6.31, 7.284, 7.314]\n"
     ]
    }
   ],
   "source": [
    "y_preds = X @ w\n",
    "resids = y - y_preds\n",
    "pre_cv_r2 = r2_score(y, y_preds)\n",
    "pre_cv_mse = mean_squared_error(y, y_preds)\n",
    "\n",
    "lag_index = int(input())\n",
    "\n",
    "lag_col = 26 + lag_index - 1  \n",
    "x_feature = [x[lag_col] for x in all_x_list]\n",
    "\n",
    "print(f\"Pre-CV R2: {pre_cv_r2}\")\n",
    "print(f\"Pre-CV MSE: {pre_cv_mse}\")"
   ]
  },
  {
   "cell_type": "code",
   "execution_count": 134,
   "id": "c1c63041",
   "metadata": {},
   "outputs": [
    {
     "data": {
      "image/png": "[encoded data removed]",
      "text/plain": [
       "<Figure size 640x480 with 1 Axes>"
      ]
     },
     "metadata": {},
     "output_type": "display_data"
    }
   ],
   "source": [
    "# resids vs. x vals 1yr ago\n",
    "plt.scatter(x_feature, residuals, alpha=0.5)\n",
    "plt.axhline(0, color='red', linestyle='--')\n",
    "plt.xlabel(f'QoL Lag {lag_index} Year(s) Ago')\n",
    "plt.ylabel('Residuals')\n",
    "plt.title(f'Residuals vs QoL Lag {lag_index} Year(s) Ago')\n",
    "plt.savefig(\"rvx_1.png\")\n",
    "plt.show()"
   ]
  },
  {
   "cell_type": "code",
   "execution_count": 136,
   "id": "4bcc9abb",
   "metadata": {},
   "outputs": [
    {
     "data": {
      "image/png": "[encoded data removed]",
      "text/plain": [
       "<Figure size 640x480 with 1 Axes>"
      ]
     },
     "metadata": {},
     "output_type": "display_data"
    }
   ],
   "source": [
    "# resids vs. x vals 2yrs ago\n",
    "plt.scatter(x_feature, residuals, alpha=0.5)\n",
    "plt.axhline(0, color='red', linestyle='--')\n",
    "plt.xlabel(f'QoL Lag {lag_index} Year(s) Ago')\n",
    "plt.ylabel('Residuals')\n",
    "plt.title(f'Residuals vs QoL Lag {lag_index} Year(s) Ago')\n",
    "plt.savefig(\"rvx_2.png\")\n",
    "plt.show()"
   ]
  },
  {
   "cell_type": "code",
   "execution_count": 138,
   "id": "7f518233",
   "metadata": {},
   "outputs": [
    {
     "data": {
      "image/png": "[encoded data removed]",
      "text/plain": [
       "<Figure size 640x480 with 1 Axes>"
      ]
     },
     "metadata": {},
     "output_type": "display_data"
    }
   ],
   "source": [
    "# resids vs. x vals 3yrs ago\n",
    "plt.scatter(x_feature, residuals, alpha=0.5)\n",
    "plt.axhline(0, color='red', linestyle='--')\n",
    "plt.xlabel(f'QoL Lag {lag_index} Year(s) Ago')\n",
    "plt.ylabel('Residuals')\n",
    "plt.title(f'Residuals vs QoL Lag {lag_index} Year(s) Ago')\n",
    "plt.savefig(\"rvx_3.png\")\n",
    "plt.show()"
   ]
  },
  {
   "cell_type": "code",
   "execution_count": 140,
   "id": "46b54305",
   "metadata": {},
   "outputs": [
    {
     "data": {
      "image/png": "[encoded data removed]",
      "text/plain": [
       "<Figure size 640x480 with 1 Axes>"
      ]
     },
     "metadata": {},
     "output_type": "display_data"
    }
   ],
   "source": [
    "# resids vs. x vals 4yr ago\n",
    "plt.scatter(x_feature, residuals, alpha=0.5)\n",
    "plt.axhline(0, color='red', linestyle='--')\n",
    "plt.xlabel(f'QoL Lag {lag_index} Year(s) Ago')\n",
    "plt.ylabel('Residuals')\n",
    "plt.title(f'Residuals vs QoL Lag {lag_index} Year(s) Ago')\n",
    "plt.savefig(\"rvx_4.png\")\n",
    "plt.show()"
   ]
  },
  {
   "cell_type": "code",
   "execution_count": 142,
   "id": "27c716ec",
   "metadata": {},
   "outputs": [
    {
     "data": {
      "image/png": "[encoded data removed]",
      "text/plain": [
       "<Figure size 640x480 with 1 Axes>"
      ]
     },
     "metadata": {},
     "output_type": "display_data"
    }
   ],
   "source": [
    "# resids vs. x vals 5yr ago\n",
    "plt.scatter(x_feature, residuals, alpha=0.5)\n",
    "plt.axhline(0, color='red', linestyle='--')\n",
    "plt.xlabel(f'QoL Lag {lag_index} Year(s) Ago')\n",
    "plt.ylabel('Residuals')\n",
    "plt.title(f'Residuals vs QoL Lag {lag_index} Year(s) Ago')\n",
    "plt.savefig(\"rvx_5.png\")\n",
    "plt.show()"
   ]
  },
  {
   "cell_type": "code",
   "execution_count": 143,
   "id": "862705bf",
   "metadata": {},
   "outputs": [
    {
     "data": {
      "image/png": "[encoded data removed]",
      "text/plain": [
       "<Figure size 1000x500 with 1 Axes>"
      ]
     },
     "metadata": {},
     "output_type": "display_data"
    }
   ],
   "source": [
    "\n",
    "# reisds vs. order\n",
    "plt.figure(figsize=(10, 5))\n",
    "plt.plot(residuals, marker='o', linestyle='-', alpha=0.7)\n",
    "plt.axhline(0, color='red', linestyle='--')\n",
    "plt.xlabel('Index/Order')\n",
    "plt.ylabel('Residuals')\n",
    "plt.title('Residuals vs. Order')\n",
    "plt.savefig(\"rvo.png\")\n",
    "plt.show()\n"
   ]
  },
  {
   "cell_type": "code",
   "execution_count": 144,
   "id": "537523ec",
   "metadata": {},
   "outputs": [
    {
     "data": {
      "image/png": "[encoded data removed]",
      "text/plain": [
       "<Figure size 640x480 with 1 Axes>"
      ]
     },
     "metadata": {},
     "output_type": "display_data"
    }
   ],
   "source": [
    "\n",
    "# resids histogram\n",
    "sns.histplot(residuals, kde=False)\n",
    "plt.xlabel(\"Residuals\")\n",
    "plt.title(\"Residuals Histogram\")\n",
    "plt.savefig(\"histogram.png\")\n",
    "plt.show()"
   ]
  }
 ],
 "metadata": {
  "kernelspec": {
   "display_name": "base",
   "language": "python",
   "name": "python3"
  },
  "language_info": {
   "codemirror_mode": {
    "name": "ipython",
    "version": 3
   },
   "file_extension": ".py",
   "mimetype": "text/x-python",
   "name": "python",
   "nbconvert_exporter": "python",
   "pygments_lexer": "ipython3",
   "version": "3.12.7"
  }
 },
 "nbformat": 4,
 "nbformat_minor": 5
}
