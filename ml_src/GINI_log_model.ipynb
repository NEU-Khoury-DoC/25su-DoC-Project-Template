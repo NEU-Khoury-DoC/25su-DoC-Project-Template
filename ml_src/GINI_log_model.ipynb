{
 "cells": [
  {
   "cell_type": "code",
   "execution_count": 2,
   "id": "a76a111d",
   "metadata": {},
   "outputs": [],
   "source": [
    "import numpy as np\n",
    "import math\n",
    "import pandas as pd\n",
    "from models import log_regress\n",
    "from models import lin_regress\n",
    "from sklearn.model_selection import train_test_split\n",
    "from sklearn.metrics import r2_score\n",
    "from sklearn.metrics import mean_squared_error\n",
    "from datetime import datetime"
   ]
  },
  {
   "cell_type": "code",
   "execution_count": 3,
   "id": "69d3d2b9",
   "metadata": {},
   "outputs": [
    {
     "data": {
      "text/html": [
       "<div>\n",
       "<style scoped>\n",
       "    .dataframe tbody tr th:only-of-type {\n",
       "        vertical-align: middle;\n",
       "    }\n",
       "\n",
       "    .dataframe tbody tr th {\n",
       "        vertical-align: top;\n",
       "    }\n",
       "\n",
       "    .dataframe thead th {\n",
       "        text-align: right;\n",
       "    }\n",
       "</style>\n",
       "<table border=\"1\" class=\"dataframe\">\n",
       "  <thead>\n",
       "    <tr style=\"text-align: right;\">\n",
       "      <th></th>\n",
       "      <th>TIME_PERIOD</th>\n",
       "      <th>Reference area</th>\n",
       "      <th>REF_AREA</th>\n",
       "      <th>Trade union density</th>\n",
       "      <th>Combined corporate income tax rate</th>\n",
       "      <th>Education spending</th>\n",
       "      <th>Health spending</th>\n",
       "      <th>Housing spending</th>\n",
       "      <th>Community development spending</th>\n",
       "      <th>IRLT</th>\n",
       "      <th>UNEMP</th>\n",
       "      <th>Population, total</th>\n",
       "      <th>GDP per capita (current US$)</th>\n",
       "      <th>Inflation, consumer prices (annual %)</th>\n",
       "      <th>Gini index</th>\n",
       "      <th>Region</th>\n",
       "    </tr>\n",
       "  </thead>\n",
       "  <tbody>\n",
       "    <tr>\n",
       "      <th>0</th>\n",
       "      <td>2001</td>\n",
       "      <td>Sweden</td>\n",
       "      <td>SWE</td>\n",
       "      <td>78.699997</td>\n",
       "      <td>28.0</td>\n",
       "      <td>0.073432</td>\n",
       "      <td>0.063153</td>\n",
       "      <td>0.005750</td>\n",
       "      <td>0.002563</td>\n",
       "      <td>5.107500</td>\n",
       "      <td>5.825000</td>\n",
       "      <td>8895960.0</td>\n",
       "      <td>27259.480674</td>\n",
       "      <td>2.405958</td>\n",
       "      <td>26.5</td>\n",
       "      <td>Europe and Central Asia</td>\n",
       "    </tr>\n",
       "    <tr>\n",
       "      <th>1</th>\n",
       "      <td>2002</td>\n",
       "      <td>Sweden</td>\n",
       "      <td>SWE</td>\n",
       "      <td>78.000000</td>\n",
       "      <td>28.0</td>\n",
       "      <td>0.074421</td>\n",
       "      <td>0.066268</td>\n",
       "      <td>0.005462</td>\n",
       "      <td>0.002885</td>\n",
       "      <td>5.303333</td>\n",
       "      <td>5.950000</td>\n",
       "      <td>8924958.0</td>\n",
       "      <td>29957.938765</td>\n",
       "      <td>2.158482</td>\n",
       "      <td>26.2</td>\n",
       "      <td>Europe and Central Asia</td>\n",
       "    </tr>\n",
       "    <tr>\n",
       "      <th>2</th>\n",
       "      <td>2003</td>\n",
       "      <td>Sweden</td>\n",
       "      <td>SWE</td>\n",
       "      <td>77.199997</td>\n",
       "      <td>28.0</td>\n",
       "      <td>0.073959</td>\n",
       "      <td>0.068195</td>\n",
       "      <td>0.005385</td>\n",
       "      <td>0.002733</td>\n",
       "      <td>4.638333</td>\n",
       "      <td>6.566667</td>\n",
       "      <td>8958229.0</td>\n",
       "      <td>37292.421434</td>\n",
       "      <td>1.925655</td>\n",
       "      <td>25.3</td>\n",
       "      <td>Europe and Central Asia</td>\n",
       "    </tr>\n",
       "    <tr>\n",
       "      <th>3</th>\n",
       "      <td>2004</td>\n",
       "      <td>Sweden</td>\n",
       "      <td>SWE</td>\n",
       "      <td>76.400002</td>\n",
       "      <td>28.0</td>\n",
       "      <td>0.072734</td>\n",
       "      <td>0.066088</td>\n",
       "      <td>0.005046</td>\n",
       "      <td>0.002877</td>\n",
       "      <td>4.425000</td>\n",
       "      <td>7.375000</td>\n",
       "      <td>8993531.0</td>\n",
       "      <td>42758.201550</td>\n",
       "      <td>0.373660</td>\n",
       "      <td>26.1</td>\n",
       "      <td>Europe and Central Asia</td>\n",
       "    </tr>\n",
       "    <tr>\n",
       "      <th>4</th>\n",
       "      <td>2005</td>\n",
       "      <td>Sweden</td>\n",
       "      <td>SWE</td>\n",
       "      <td>75.699997</td>\n",
       "      <td>28.0</td>\n",
       "      <td>0.072877</td>\n",
       "      <td>0.066296</td>\n",
       "      <td>0.003736</td>\n",
       "      <td>0.002917</td>\n",
       "      <td>3.382500</td>\n",
       "      <td>7.783333</td>\n",
       "      <td>9029572.0</td>\n",
       "      <td>43378.615212</td>\n",
       "      <td>0.453171</td>\n",
       "      <td>26.8</td>\n",
       "      <td>Europe and Central Asia</td>\n",
       "    </tr>\n",
       "  </tbody>\n",
       "</table>\n",
       "</div>"
      ],
      "text/plain": [
       "   TIME_PERIOD Reference area REF_AREA  Trade union density  \\\n",
       "0         2001         Sweden      SWE            78.699997   \n",
       "1         2002         Sweden      SWE            78.000000   \n",
       "2         2003         Sweden      SWE            77.199997   \n",
       "3         2004         Sweden      SWE            76.400002   \n",
       "4         2005         Sweden      SWE            75.699997   \n",
       "\n",
       "   Combined corporate income tax rate  Education spending  Health spending  \\\n",
       "0                                28.0            0.073432         0.063153   \n",
       "1                                28.0            0.074421         0.066268   \n",
       "2                                28.0            0.073959         0.068195   \n",
       "3                                28.0            0.072734         0.066088   \n",
       "4                                28.0            0.072877         0.066296   \n",
       "\n",
       "   Housing spending  Community development spending      IRLT     UNEMP  \\\n",
       "0          0.005750                        0.002563  5.107500  5.825000   \n",
       "1          0.005462                        0.002885  5.303333  5.950000   \n",
       "2          0.005385                        0.002733  4.638333  6.566667   \n",
       "3          0.005046                        0.002877  4.425000  7.375000   \n",
       "4          0.003736                        0.002917  3.382500  7.783333   \n",
       "\n",
       "   Population, total  GDP per capita (current US$)  \\\n",
       "0          8895960.0                  27259.480674   \n",
       "1          8924958.0                  29957.938765   \n",
       "2          8958229.0                  37292.421434   \n",
       "3          8993531.0                  42758.201550   \n",
       "4          9029572.0                  43378.615212   \n",
       "\n",
       "   Inflation, consumer prices (annual %)  Gini index                   Region  \n",
       "0                               2.405958        26.5  Europe and Central Asia  \n",
       "1                               2.158482        26.2  Europe and Central Asia  \n",
       "2                               1.925655        25.3  Europe and Central Asia  \n",
       "3                               0.373660        26.1  Europe and Central Asia  \n",
       "4                               0.453171        26.8  Europe and Central Asia  "
      ]
     },
     "execution_count": 3,
     "metadata": {},
     "output_type": "execute_result"
    }
   ],
   "source": [
    "megaframe = pd.read_csv('../datasets/MEGAFRAME_CLEANEDV2.csv')\n",
    "megaframe.head()"
   ]
  },
  {
   "cell_type": "code",
   "execution_count": 4,
   "id": "ec607c55",
   "metadata": {},
   "outputs": [
    {
     "data": {
      "text/html": [
       "<div>\n",
       "<style scoped>\n",
       "    .dataframe tbody tr th:only-of-type {\n",
       "        vertical-align: middle;\n",
       "    }\n",
       "\n",
       "    .dataframe tbody tr th {\n",
       "        vertical-align: top;\n",
       "    }\n",
       "\n",
       "    .dataframe thead th {\n",
       "        text-align: right;\n",
       "    }\n",
       "</style>\n",
       "<table border=\"1\" class=\"dataframe\">\n",
       "  <thead>\n",
       "    <tr style=\"text-align: right;\">\n",
       "      <th></th>\n",
       "      <th>TIME_PERIOD</th>\n",
       "      <th>Reference area</th>\n",
       "      <th>REF_AREA</th>\n",
       "      <th>Trade union density</th>\n",
       "      <th>Combined corporate income tax rate</th>\n",
       "      <th>Education spending</th>\n",
       "      <th>Health spending</th>\n",
       "      <th>Housing spending</th>\n",
       "      <th>Community development spending</th>\n",
       "      <th>IRLT</th>\n",
       "      <th>UNEMP</th>\n",
       "      <th>Population, total</th>\n",
       "      <th>GDP per capita (current US$)</th>\n",
       "      <th>Inflation, consumer prices (annual %)</th>\n",
       "      <th>Gini index</th>\n",
       "      <th>Region_East Asia and Pacific</th>\n",
       "      <th>Region_Europe and Central Asia</th>\n",
       "      <th>Region_Latin America and Caribbean</th>\n",
       "      <th>Region_Middle East and North Africa</th>\n",
       "    </tr>\n",
       "  </thead>\n",
       "  <tbody>\n",
       "    <tr>\n",
       "      <th>0</th>\n",
       "      <td>2001</td>\n",
       "      <td>Sweden</td>\n",
       "      <td>SWE</td>\n",
       "      <td>78.699997</td>\n",
       "      <td>28.0</td>\n",
       "      <td>0.073432</td>\n",
       "      <td>0.063153</td>\n",
       "      <td>0.005750</td>\n",
       "      <td>0.002563</td>\n",
       "      <td>5.107500</td>\n",
       "      <td>5.825000</td>\n",
       "      <td>8895960.0</td>\n",
       "      <td>27259.480674</td>\n",
       "      <td>2.405958</td>\n",
       "      <td>26.5</td>\n",
       "      <td>0</td>\n",
       "      <td>1</td>\n",
       "      <td>0</td>\n",
       "      <td>0</td>\n",
       "    </tr>\n",
       "    <tr>\n",
       "      <th>1</th>\n",
       "      <td>2002</td>\n",
       "      <td>Sweden</td>\n",
       "      <td>SWE</td>\n",
       "      <td>78.000000</td>\n",
       "      <td>28.0</td>\n",
       "      <td>0.074421</td>\n",
       "      <td>0.066268</td>\n",
       "      <td>0.005462</td>\n",
       "      <td>0.002885</td>\n",
       "      <td>5.303333</td>\n",
       "      <td>5.950000</td>\n",
       "      <td>8924958.0</td>\n",
       "      <td>29957.938765</td>\n",
       "      <td>2.158482</td>\n",
       "      <td>26.2</td>\n",
       "      <td>0</td>\n",
       "      <td>1</td>\n",
       "      <td>0</td>\n",
       "      <td>0</td>\n",
       "    </tr>\n",
       "    <tr>\n",
       "      <th>2</th>\n",
       "      <td>2003</td>\n",
       "      <td>Sweden</td>\n",
       "      <td>SWE</td>\n",
       "      <td>77.199997</td>\n",
       "      <td>28.0</td>\n",
       "      <td>0.073959</td>\n",
       "      <td>0.068195</td>\n",
       "      <td>0.005385</td>\n",
       "      <td>0.002733</td>\n",
       "      <td>4.638333</td>\n",
       "      <td>6.566667</td>\n",
       "      <td>8958229.0</td>\n",
       "      <td>37292.421434</td>\n",
       "      <td>1.925655</td>\n",
       "      <td>25.3</td>\n",
       "      <td>0</td>\n",
       "      <td>1</td>\n",
       "      <td>0</td>\n",
       "      <td>0</td>\n",
       "    </tr>\n",
       "    <tr>\n",
       "      <th>3</th>\n",
       "      <td>2004</td>\n",
       "      <td>Sweden</td>\n",
       "      <td>SWE</td>\n",
       "      <td>76.400002</td>\n",
       "      <td>28.0</td>\n",
       "      <td>0.072734</td>\n",
       "      <td>0.066088</td>\n",
       "      <td>0.005046</td>\n",
       "      <td>0.002877</td>\n",
       "      <td>4.425000</td>\n",
       "      <td>7.375000</td>\n",
       "      <td>8993531.0</td>\n",
       "      <td>42758.201550</td>\n",
       "      <td>0.373660</td>\n",
       "      <td>26.1</td>\n",
       "      <td>0</td>\n",
       "      <td>1</td>\n",
       "      <td>0</td>\n",
       "      <td>0</td>\n",
       "    </tr>\n",
       "    <tr>\n",
       "      <th>4</th>\n",
       "      <td>2005</td>\n",
       "      <td>Sweden</td>\n",
       "      <td>SWE</td>\n",
       "      <td>75.699997</td>\n",
       "      <td>28.0</td>\n",
       "      <td>0.072877</td>\n",
       "      <td>0.066296</td>\n",
       "      <td>0.003736</td>\n",
       "      <td>0.002917</td>\n",
       "      <td>3.382500</td>\n",
       "      <td>7.783333</td>\n",
       "      <td>9029572.0</td>\n",
       "      <td>43378.615212</td>\n",
       "      <td>0.453171</td>\n",
       "      <td>26.8</td>\n",
       "      <td>0</td>\n",
       "      <td>1</td>\n",
       "      <td>0</td>\n",
       "      <td>0</td>\n",
       "    </tr>\n",
       "    <tr>\n",
       "      <th>...</th>\n",
       "      <td>...</td>\n",
       "      <td>...</td>\n",
       "      <td>...</td>\n",
       "      <td>...</td>\n",
       "      <td>...</td>\n",
       "      <td>...</td>\n",
       "      <td>...</td>\n",
       "      <td>...</td>\n",
       "      <td>...</td>\n",
       "      <td>...</td>\n",
       "      <td>...</td>\n",
       "      <td>...</td>\n",
       "      <td>...</td>\n",
       "      <td>...</td>\n",
       "      <td>...</td>\n",
       "      <td>...</td>\n",
       "      <td>...</td>\n",
       "      <td>...</td>\n",
       "      <td>...</td>\n",
       "    </tr>\n",
       "    <tr>\n",
       "      <th>395</th>\n",
       "      <td>2015</td>\n",
       "      <td>Finland</td>\n",
       "      <td>FIN</td>\n",
       "      <td>67.500000</td>\n",
       "      <td>20.0</td>\n",
       "      <td>0.063628</td>\n",
       "      <td>0.072967</td>\n",
       "      <td>0.004367</td>\n",
       "      <td>0.002398</td>\n",
       "      <td>0.723333</td>\n",
       "      <td>9.458333</td>\n",
       "      <td>5479531.0</td>\n",
       "      <td>42560.345677</td>\n",
       "      <td>-0.207929</td>\n",
       "      <td>27.1</td>\n",
       "      <td>0</td>\n",
       "      <td>1</td>\n",
       "      <td>0</td>\n",
       "      <td>0</td>\n",
       "    </tr>\n",
       "    <tr>\n",
       "      <th>396</th>\n",
       "      <td>2016</td>\n",
       "      <td>Finland</td>\n",
       "      <td>FIN</td>\n",
       "      <td>65.699997</td>\n",
       "      <td>20.0</td>\n",
       "      <td>0.062434</td>\n",
       "      <td>0.072201</td>\n",
       "      <td>0.005007</td>\n",
       "      <td>0.002295</td>\n",
       "      <td>0.365000</td>\n",
       "      <td>8.916667</td>\n",
       "      <td>5495303.0</td>\n",
       "      <td>43451.256244</td>\n",
       "      <td>0.356685</td>\n",
       "      <td>27.1</td>\n",
       "      <td>0</td>\n",
       "      <td>1</td>\n",
       "      <td>0</td>\n",
       "      <td>0</td>\n",
       "    </tr>\n",
       "    <tr>\n",
       "      <th>397</th>\n",
       "      <td>2017</td>\n",
       "      <td>Finland</td>\n",
       "      <td>FIN</td>\n",
       "      <td>62.900002</td>\n",
       "      <td>20.0</td>\n",
       "      <td>0.058111</td>\n",
       "      <td>0.070630</td>\n",
       "      <td>0.005621</td>\n",
       "      <td>0.002109</td>\n",
       "      <td>0.546667</td>\n",
       "      <td>8.766667</td>\n",
       "      <td>5508214.0</td>\n",
       "      <td>46085.017474</td>\n",
       "      <td>0.754015</td>\n",
       "      <td>27.4</td>\n",
       "      <td>0</td>\n",
       "      <td>1</td>\n",
       "      <td>0</td>\n",
       "      <td>0</td>\n",
       "    </tr>\n",
       "    <tr>\n",
       "      <th>398</th>\n",
       "      <td>2018</td>\n",
       "      <td>Finland</td>\n",
       "      <td>FIN</td>\n",
       "      <td>60.000000</td>\n",
       "      <td>20.0</td>\n",
       "      <td>0.057562</td>\n",
       "      <td>0.071478</td>\n",
       "      <td>0.006421</td>\n",
       "      <td>0.002053</td>\n",
       "      <td>0.661667</td>\n",
       "      <td>7.433333</td>\n",
       "      <td>5515525.0</td>\n",
       "      <td>49654.249704</td>\n",
       "      <td>1.083821</td>\n",
       "      <td>27.3</td>\n",
       "      <td>0</td>\n",
       "      <td>1</td>\n",
       "      <td>0</td>\n",
       "      <td>0</td>\n",
       "    </tr>\n",
       "    <tr>\n",
       "      <th>399</th>\n",
       "      <td>2019</td>\n",
       "      <td>Finland</td>\n",
       "      <td>FIN</td>\n",
       "      <td>58.799999</td>\n",
       "      <td>20.0</td>\n",
       "      <td>0.058524</td>\n",
       "      <td>0.072091</td>\n",
       "      <td>0.006251</td>\n",
       "      <td>0.002008</td>\n",
       "      <td>0.070000</td>\n",
       "      <td>6.741667</td>\n",
       "      <td>5521606.0</td>\n",
       "      <td>48358.180777</td>\n",
       "      <td>1.024094</td>\n",
       "      <td>27.7</td>\n",
       "      <td>0</td>\n",
       "      <td>1</td>\n",
       "      <td>0</td>\n",
       "      <td>0</td>\n",
       "    </tr>\n",
       "  </tbody>\n",
       "</table>\n",
       "<p>400 rows × 19 columns</p>\n",
       "</div>"
      ],
      "text/plain": [
       "     TIME_PERIOD Reference area REF_AREA  Trade union density  \\\n",
       "0           2001         Sweden      SWE            78.699997   \n",
       "1           2002         Sweden      SWE            78.000000   \n",
       "2           2003         Sweden      SWE            77.199997   \n",
       "3           2004         Sweden      SWE            76.400002   \n",
       "4           2005         Sweden      SWE            75.699997   \n",
       "..           ...            ...      ...                  ...   \n",
       "395         2015        Finland      FIN            67.500000   \n",
       "396         2016        Finland      FIN            65.699997   \n",
       "397         2017        Finland      FIN            62.900002   \n",
       "398         2018        Finland      FIN            60.000000   \n",
       "399         2019        Finland      FIN            58.799999   \n",
       "\n",
       "     Combined corporate income tax rate  Education spending  Health spending  \\\n",
       "0                                  28.0            0.073432         0.063153   \n",
       "1                                  28.0            0.074421         0.066268   \n",
       "2                                  28.0            0.073959         0.068195   \n",
       "3                                  28.0            0.072734         0.066088   \n",
       "4                                  28.0            0.072877         0.066296   \n",
       "..                                  ...                 ...              ...   \n",
       "395                                20.0            0.063628         0.072967   \n",
       "396                                20.0            0.062434         0.072201   \n",
       "397                                20.0            0.058111         0.070630   \n",
       "398                                20.0            0.057562         0.071478   \n",
       "399                                20.0            0.058524         0.072091   \n",
       "\n",
       "     Housing spending  Community development spending      IRLT     UNEMP  \\\n",
       "0            0.005750                        0.002563  5.107500  5.825000   \n",
       "1            0.005462                        0.002885  5.303333  5.950000   \n",
       "2            0.005385                        0.002733  4.638333  6.566667   \n",
       "3            0.005046                        0.002877  4.425000  7.375000   \n",
       "4            0.003736                        0.002917  3.382500  7.783333   \n",
       "..                ...                             ...       ...       ...   \n",
       "395          0.004367                        0.002398  0.723333  9.458333   \n",
       "396          0.005007                        0.002295  0.365000  8.916667   \n",
       "397          0.005621                        0.002109  0.546667  8.766667   \n",
       "398          0.006421                        0.002053  0.661667  7.433333   \n",
       "399          0.006251                        0.002008  0.070000  6.741667   \n",
       "\n",
       "     Population, total  GDP per capita (current US$)  \\\n",
       "0            8895960.0                  27259.480674   \n",
       "1            8924958.0                  29957.938765   \n",
       "2            8958229.0                  37292.421434   \n",
       "3            8993531.0                  42758.201550   \n",
       "4            9029572.0                  43378.615212   \n",
       "..                 ...                           ...   \n",
       "395          5479531.0                  42560.345677   \n",
       "396          5495303.0                  43451.256244   \n",
       "397          5508214.0                  46085.017474   \n",
       "398          5515525.0                  49654.249704   \n",
       "399          5521606.0                  48358.180777   \n",
       "\n",
       "     Inflation, consumer prices (annual %)  Gini index  \\\n",
       "0                                 2.405958        26.5   \n",
       "1                                 2.158482        26.2   \n",
       "2                                 1.925655        25.3   \n",
       "3                                 0.373660        26.1   \n",
       "4                                 0.453171        26.8   \n",
       "..                                     ...         ...   \n",
       "395                              -0.207929        27.1   \n",
       "396                               0.356685        27.1   \n",
       "397                               0.754015        27.4   \n",
       "398                               1.083821        27.3   \n",
       "399                               1.024094        27.7   \n",
       "\n",
       "     Region_East Asia and Pacific  Region_Europe and Central Asia  \\\n",
       "0                               0                               1   \n",
       "1                               0                               1   \n",
       "2                               0                               1   \n",
       "3                               0                               1   \n",
       "4                               0                               1   \n",
       "..                            ...                             ...   \n",
       "395                             0                               1   \n",
       "396                             0                               1   \n",
       "397                             0                               1   \n",
       "398                             0                               1   \n",
       "399                             0                               1   \n",
       "\n",
       "     Region_Latin America and Caribbean  Region_Middle East and North Africa  \n",
       "0                                     0                                    0  \n",
       "1                                     0                                    0  \n",
       "2                                     0                                    0  \n",
       "3                                     0                                    0  \n",
       "4                                     0                                    0  \n",
       "..                                  ...                                  ...  \n",
       "395                                   0                                    0  \n",
       "396                                   0                                    0  \n",
       "397                                   0                                    0  \n",
       "398                                   0                                    0  \n",
       "399                                   0                                    0  \n",
       "\n",
       "[400 rows x 19 columns]"
      ]
     },
     "execution_count": 4,
     "metadata": {},
     "output_type": "execute_result"
    }
   ],
   "source": [
    "master_df = pd.get_dummies(megaframe, columns=['Region'], dtype=int)\n",
    "master_df"
   ]
  },
  {
   "cell_type": "code",
   "execution_count": 28,
   "id": "a3f11777",
   "metadata": {},
   "outputs": [
    {
     "data": {
      "text/html": [
       "<div>\n",
       "<style scoped>\n",
       "    .dataframe tbody tr th:only-of-type {\n",
       "        vertical-align: middle;\n",
       "    }\n",
       "\n",
       "    .dataframe tbody tr th {\n",
       "        vertical-align: top;\n",
       "    }\n",
       "\n",
       "    .dataframe thead th {\n",
       "        text-align: right;\n",
       "    }\n",
       "</style>\n",
       "<table border=\"1\" class=\"dataframe\">\n",
       "  <thead>\n",
       "    <tr style=\"text-align: right;\">\n",
       "      <th></th>\n",
       "      <th>TIME_PERIOD</th>\n",
       "      <th>Reference area</th>\n",
       "      <th>REF_AREA</th>\n",
       "      <th>Trade union density</th>\n",
       "      <th>Combined corporate income tax rate</th>\n",
       "      <th>Education spending</th>\n",
       "      <th>Health spending</th>\n",
       "      <th>Housing spending</th>\n",
       "      <th>Community development spending</th>\n",
       "      <th>IRLT</th>\n",
       "      <th>UNEMP</th>\n",
       "      <th>Population, total</th>\n",
       "      <th>GDP per capita (current US$)</th>\n",
       "      <th>Inflation, consumer prices (annual %)</th>\n",
       "      <th>Time lag GINI</th>\n",
       "      <th>Gini index</th>\n",
       "      <th>Region_East Asia and Pacific</th>\n",
       "      <th>Region_Europe and Central Asia</th>\n",
       "      <th>Region_Latin America and Caribbean</th>\n",
       "      <th>Region_Middle East and North Africa</th>\n",
       "    </tr>\n",
       "  </thead>\n",
       "  <tbody>\n",
       "    <tr>\n",
       "      <th>1</th>\n",
       "      <td>2002</td>\n",
       "      <td>Sweden</td>\n",
       "      <td>SWE</td>\n",
       "      <td>78.000000</td>\n",
       "      <td>28.0</td>\n",
       "      <td>0.074421</td>\n",
       "      <td>0.066268</td>\n",
       "      <td>0.005462</td>\n",
       "      <td>0.002885</td>\n",
       "      <td>5.303333</td>\n",
       "      <td>5.950000</td>\n",
       "      <td>8924958.0</td>\n",
       "      <td>29957.938765</td>\n",
       "      <td>2.158482</td>\n",
       "      <td>26.5</td>\n",
       "      <td>26.2</td>\n",
       "      <td>0</td>\n",
       "      <td>1</td>\n",
       "      <td>0</td>\n",
       "      <td>0</td>\n",
       "    </tr>\n",
       "    <tr>\n",
       "      <th>2</th>\n",
       "      <td>2003</td>\n",
       "      <td>Sweden</td>\n",
       "      <td>SWE</td>\n",
       "      <td>77.199997</td>\n",
       "      <td>28.0</td>\n",
       "      <td>0.073959</td>\n",
       "      <td>0.068195</td>\n",
       "      <td>0.005385</td>\n",
       "      <td>0.002733</td>\n",
       "      <td>4.638333</td>\n",
       "      <td>6.566667</td>\n",
       "      <td>8958229.0</td>\n",
       "      <td>37292.421434</td>\n",
       "      <td>1.925655</td>\n",
       "      <td>26.2</td>\n",
       "      <td>25.3</td>\n",
       "      <td>0</td>\n",
       "      <td>1</td>\n",
       "      <td>0</td>\n",
       "      <td>0</td>\n",
       "    </tr>\n",
       "    <tr>\n",
       "      <th>3</th>\n",
       "      <td>2004</td>\n",
       "      <td>Sweden</td>\n",
       "      <td>SWE</td>\n",
       "      <td>76.400002</td>\n",
       "      <td>28.0</td>\n",
       "      <td>0.072734</td>\n",
       "      <td>0.066088</td>\n",
       "      <td>0.005046</td>\n",
       "      <td>0.002877</td>\n",
       "      <td>4.425000</td>\n",
       "      <td>7.375000</td>\n",
       "      <td>8993531.0</td>\n",
       "      <td>42758.201550</td>\n",
       "      <td>0.373660</td>\n",
       "      <td>25.3</td>\n",
       "      <td>26.1</td>\n",
       "      <td>0</td>\n",
       "      <td>1</td>\n",
       "      <td>0</td>\n",
       "      <td>0</td>\n",
       "    </tr>\n",
       "    <tr>\n",
       "      <th>4</th>\n",
       "      <td>2005</td>\n",
       "      <td>Sweden</td>\n",
       "      <td>SWE</td>\n",
       "      <td>75.699997</td>\n",
       "      <td>28.0</td>\n",
       "      <td>0.072877</td>\n",
       "      <td>0.066296</td>\n",
       "      <td>0.003736</td>\n",
       "      <td>0.002917</td>\n",
       "      <td>3.382500</td>\n",
       "      <td>7.783333</td>\n",
       "      <td>9029572.0</td>\n",
       "      <td>43378.615212</td>\n",
       "      <td>0.453171</td>\n",
       "      <td>26.1</td>\n",
       "      <td>26.8</td>\n",
       "      <td>0</td>\n",
       "      <td>1</td>\n",
       "      <td>0</td>\n",
       "      <td>0</td>\n",
       "    </tr>\n",
       "    <tr>\n",
       "      <th>5</th>\n",
       "      <td>2006</td>\n",
       "      <td>Sweden</td>\n",
       "      <td>SWE</td>\n",
       "      <td>74.300003</td>\n",
       "      <td>28.0</td>\n",
       "      <td>0.071643</td>\n",
       "      <td>0.065238</td>\n",
       "      <td>0.003543</td>\n",
       "      <td>0.002642</td>\n",
       "      <td>3.704167</td>\n",
       "      <td>7.241667</td>\n",
       "      <td>9080505.0</td>\n",
       "      <td>46531.600112</td>\n",
       "      <td>1.360215</td>\n",
       "      <td>26.8</td>\n",
       "      <td>26.4</td>\n",
       "      <td>0</td>\n",
       "      <td>1</td>\n",
       "      <td>0</td>\n",
       "      <td>0</td>\n",
       "    </tr>\n",
       "    <tr>\n",
       "      <th>...</th>\n",
       "      <td>...</td>\n",
       "      <td>...</td>\n",
       "      <td>...</td>\n",
       "      <td>...</td>\n",
       "      <td>...</td>\n",
       "      <td>...</td>\n",
       "      <td>...</td>\n",
       "      <td>...</td>\n",
       "      <td>...</td>\n",
       "      <td>...</td>\n",
       "      <td>...</td>\n",
       "      <td>...</td>\n",
       "      <td>...</td>\n",
       "      <td>...</td>\n",
       "      <td>...</td>\n",
       "      <td>...</td>\n",
       "      <td>...</td>\n",
       "      <td>...</td>\n",
       "      <td>...</td>\n",
       "      <td>...</td>\n",
       "    </tr>\n",
       "    <tr>\n",
       "      <th>395</th>\n",
       "      <td>2015</td>\n",
       "      <td>Finland</td>\n",
       "      <td>FIN</td>\n",
       "      <td>67.500000</td>\n",
       "      <td>20.0</td>\n",
       "      <td>0.063628</td>\n",
       "      <td>0.072967</td>\n",
       "      <td>0.004367</td>\n",
       "      <td>0.002398</td>\n",
       "      <td>0.723333</td>\n",
       "      <td>9.458333</td>\n",
       "      <td>5479531.0</td>\n",
       "      <td>42560.345677</td>\n",
       "      <td>-0.207929</td>\n",
       "      <td>26.8</td>\n",
       "      <td>27.1</td>\n",
       "      <td>0</td>\n",
       "      <td>1</td>\n",
       "      <td>0</td>\n",
       "      <td>0</td>\n",
       "    </tr>\n",
       "    <tr>\n",
       "      <th>396</th>\n",
       "      <td>2016</td>\n",
       "      <td>Finland</td>\n",
       "      <td>FIN</td>\n",
       "      <td>65.699997</td>\n",
       "      <td>20.0</td>\n",
       "      <td>0.062434</td>\n",
       "      <td>0.072201</td>\n",
       "      <td>0.005007</td>\n",
       "      <td>0.002295</td>\n",
       "      <td>0.365000</td>\n",
       "      <td>8.916667</td>\n",
       "      <td>5495303.0</td>\n",
       "      <td>43451.256244</td>\n",
       "      <td>0.356685</td>\n",
       "      <td>27.1</td>\n",
       "      <td>27.1</td>\n",
       "      <td>0</td>\n",
       "      <td>1</td>\n",
       "      <td>0</td>\n",
       "      <td>0</td>\n",
       "    </tr>\n",
       "    <tr>\n",
       "      <th>397</th>\n",
       "      <td>2017</td>\n",
       "      <td>Finland</td>\n",
       "      <td>FIN</td>\n",
       "      <td>62.900002</td>\n",
       "      <td>20.0</td>\n",
       "      <td>0.058111</td>\n",
       "      <td>0.070630</td>\n",
       "      <td>0.005621</td>\n",
       "      <td>0.002109</td>\n",
       "      <td>0.546667</td>\n",
       "      <td>8.766667</td>\n",
       "      <td>5508214.0</td>\n",
       "      <td>46085.017474</td>\n",
       "      <td>0.754015</td>\n",
       "      <td>27.1</td>\n",
       "      <td>27.4</td>\n",
       "      <td>0</td>\n",
       "      <td>1</td>\n",
       "      <td>0</td>\n",
       "      <td>0</td>\n",
       "    </tr>\n",
       "    <tr>\n",
       "      <th>398</th>\n",
       "      <td>2018</td>\n",
       "      <td>Finland</td>\n",
       "      <td>FIN</td>\n",
       "      <td>60.000000</td>\n",
       "      <td>20.0</td>\n",
       "      <td>0.057562</td>\n",
       "      <td>0.071478</td>\n",
       "      <td>0.006421</td>\n",
       "      <td>0.002053</td>\n",
       "      <td>0.661667</td>\n",
       "      <td>7.433333</td>\n",
       "      <td>5515525.0</td>\n",
       "      <td>49654.249704</td>\n",
       "      <td>1.083821</td>\n",
       "      <td>27.4</td>\n",
       "      <td>27.3</td>\n",
       "      <td>0</td>\n",
       "      <td>1</td>\n",
       "      <td>0</td>\n",
       "      <td>0</td>\n",
       "    </tr>\n",
       "    <tr>\n",
       "      <th>399</th>\n",
       "      <td>2019</td>\n",
       "      <td>Finland</td>\n",
       "      <td>FIN</td>\n",
       "      <td>58.799999</td>\n",
       "      <td>20.0</td>\n",
       "      <td>0.058524</td>\n",
       "      <td>0.072091</td>\n",
       "      <td>0.006251</td>\n",
       "      <td>0.002008</td>\n",
       "      <td>0.070000</td>\n",
       "      <td>6.741667</td>\n",
       "      <td>5521606.0</td>\n",
       "      <td>48358.180777</td>\n",
       "      <td>1.024094</td>\n",
       "      <td>27.3</td>\n",
       "      <td>27.7</td>\n",
       "      <td>0</td>\n",
       "      <td>1</td>\n",
       "      <td>0</td>\n",
       "      <td>0</td>\n",
       "    </tr>\n",
       "  </tbody>\n",
       "</table>\n",
       "<p>338 rows × 20 columns</p>\n",
       "</div>"
      ],
      "text/plain": [
       "     TIME_PERIOD Reference area REF_AREA  Trade union density  \\\n",
       "1           2002         Sweden      SWE            78.000000   \n",
       "2           2003         Sweden      SWE            77.199997   \n",
       "3           2004         Sweden      SWE            76.400002   \n",
       "4           2005         Sweden      SWE            75.699997   \n",
       "5           2006         Sweden      SWE            74.300003   \n",
       "..           ...            ...      ...                  ...   \n",
       "395         2015        Finland      FIN            67.500000   \n",
       "396         2016        Finland      FIN            65.699997   \n",
       "397         2017        Finland      FIN            62.900002   \n",
       "398         2018        Finland      FIN            60.000000   \n",
       "399         2019        Finland      FIN            58.799999   \n",
       "\n",
       "     Combined corporate income tax rate  Education spending  Health spending  \\\n",
       "1                                  28.0            0.074421         0.066268   \n",
       "2                                  28.0            0.073959         0.068195   \n",
       "3                                  28.0            0.072734         0.066088   \n",
       "4                                  28.0            0.072877         0.066296   \n",
       "5                                  28.0            0.071643         0.065238   \n",
       "..                                  ...                 ...              ...   \n",
       "395                                20.0            0.063628         0.072967   \n",
       "396                                20.0            0.062434         0.072201   \n",
       "397                                20.0            0.058111         0.070630   \n",
       "398                                20.0            0.057562         0.071478   \n",
       "399                                20.0            0.058524         0.072091   \n",
       "\n",
       "     Housing spending  Community development spending      IRLT     UNEMP  \\\n",
       "1            0.005462                        0.002885  5.303333  5.950000   \n",
       "2            0.005385                        0.002733  4.638333  6.566667   \n",
       "3            0.005046                        0.002877  4.425000  7.375000   \n",
       "4            0.003736                        0.002917  3.382500  7.783333   \n",
       "5            0.003543                        0.002642  3.704167  7.241667   \n",
       "..                ...                             ...       ...       ...   \n",
       "395          0.004367                        0.002398  0.723333  9.458333   \n",
       "396          0.005007                        0.002295  0.365000  8.916667   \n",
       "397          0.005621                        0.002109  0.546667  8.766667   \n",
       "398          0.006421                        0.002053  0.661667  7.433333   \n",
       "399          0.006251                        0.002008  0.070000  6.741667   \n",
       "\n",
       "     Population, total  GDP per capita (current US$)  \\\n",
       "1            8924958.0                  29957.938765   \n",
       "2            8958229.0                  37292.421434   \n",
       "3            8993531.0                  42758.201550   \n",
       "4            9029572.0                  43378.615212   \n",
       "5            9080505.0                  46531.600112   \n",
       "..                 ...                           ...   \n",
       "395          5479531.0                  42560.345677   \n",
       "396          5495303.0                  43451.256244   \n",
       "397          5508214.0                  46085.017474   \n",
       "398          5515525.0                  49654.249704   \n",
       "399          5521606.0                  48358.180777   \n",
       "\n",
       "     Inflation, consumer prices (annual %) Time lag GINI  Gini index  \\\n",
       "1                                 2.158482          26.5        26.2   \n",
       "2                                 1.925655          26.2        25.3   \n",
       "3                                 0.373660          25.3        26.1   \n",
       "4                                 0.453171          26.1        26.8   \n",
       "5                                 1.360215          26.8        26.4   \n",
       "..                                     ...           ...         ...   \n",
       "395                              -0.207929          26.8        27.1   \n",
       "396                               0.356685          27.1        27.1   \n",
       "397                               0.754015          27.1        27.4   \n",
       "398                               1.083821          27.4        27.3   \n",
       "399                               1.024094          27.3        27.7   \n",
       "\n",
       "     Region_East Asia and Pacific  Region_Europe and Central Asia  \\\n",
       "1                               0                               1   \n",
       "2                               0                               1   \n",
       "3                               0                               1   \n",
       "4                               0                               1   \n",
       "5                               0                               1   \n",
       "..                            ...                             ...   \n",
       "395                             0                               1   \n",
       "396                             0                               1   \n",
       "397                             0                               1   \n",
       "398                             0                               1   \n",
       "399                             0                               1   \n",
       "\n",
       "     Region_Latin America and Caribbean  Region_Middle East and North Africa  \n",
       "1                                     0                                    0  \n",
       "2                                     0                                    0  \n",
       "3                                     0                                    0  \n",
       "4                                     0                                    0  \n",
       "5                                     0                                    0  \n",
       "..                                  ...                                  ...  \n",
       "395                                   0                                    0  \n",
       "396                                   0                                    0  \n",
       "397                                   0                                    0  \n",
       "398                                   0                                    0  \n",
       "399                                   0                                    0  \n",
       "\n",
       "[338 rows x 20 columns]"
      ]
     },
     "execution_count": 28,
     "metadata": {},
     "output_type": "execute_result"
    }
   ],
   "source": [
    "# Create X y and initial w\n",
    "\n",
    "population_log = False\n",
    "time_lag = True\n",
    "\n",
    "X_df = pd.get_dummies(megaframe, columns=['Region'], dtype=int)\n",
    "if population_log:\n",
    "    target_idx = X_df.columns.get_loc('Population, total')\n",
    "    log_pop = X_df['Population, total'].apply(lambda x: math.log(x,10))\n",
    "    X_df.insert(target_idx + 1, 'Log Population', log_pop)\n",
    "    X_df.drop(labels=['Population, total'], axis=1)\n",
    "\n",
    "if time_lag:\n",
    "    X_df.insert(14, 'Time lag GINI', None)\n",
    "    for index, row in X_df.iterrows():\n",
    "        year = row['TIME_PERIOD']\n",
    "        code = row['REF_AREA']\n",
    "\n",
    "        lag_row = X_df[(X_df['TIME_PERIOD'] == year - 1) & (X_df['REF_AREA'] == code)]\n",
    "        if not lag_row.empty:\n",
    "             X_df.loc[index, 'Time lag GINI'] = lag_row['Gini index'].iloc[0]\n",
    "X_df = X_df.dropna()\n",
    "X_df"
   ]
  },
  {
   "cell_type": "code",
   "execution_count": 29,
   "id": "83841d76",
   "metadata": {},
   "outputs": [
    {
     "ename": "TypeError",
     "evalue": "loop of ufunc does not support argument 0 of type float which has no callable sqrt method",
     "output_type": "error",
     "traceback": [
      "\u001b[0;31m---------------------------------------------------------------------------\u001b[0m",
      "\u001b[0;31mAttributeError\u001b[0m                            Traceback (most recent call last)",
      "\u001b[0;31mAttributeError\u001b[0m: 'float' object has no attribute 'sqrt'",
      "\nThe above exception was the direct cause of the following exception:\n",
      "\u001b[0;31mTypeError\u001b[0m                                 Traceback (most recent call last)",
      "Cell \u001b[0;32mIn[29], line 16\u001b[0m\n\u001b[1;32m     14\u001b[0m \u001b[38;5;66;03m# Standardize the first part\u001b[39;00m\n\u001b[1;32m     15\u001b[0m mean \u001b[38;5;241m=\u001b[39m X_main\u001b[38;5;241m.\u001b[39mmean(axis\u001b[38;5;241m=\u001b[39m\u001b[38;5;241m0\u001b[39m)\n\u001b[0;32m---> 16\u001b[0m std \u001b[38;5;241m=\u001b[39m X_main\u001b[38;5;241m.\u001b[39mstd(axis\u001b[38;5;241m=\u001b[39m\u001b[38;5;241m0\u001b[39m)\n\u001b[1;32m     17\u001b[0m X_main_standardized \u001b[38;5;241m=\u001b[39m (X_main \u001b[38;5;241m-\u001b[39m mean) \u001b[38;5;241m/\u001b[39m std\n\u001b[1;32m     19\u001b[0m \u001b[38;5;66;03m# Concatenate back together\u001b[39;00m\n",
      "File \u001b[0;32m/opt/anaconda3/envs/ds/lib/python3.11/site-packages/numpy/core/_methods.py:210\u001b[0m, in \u001b[0;36m_std\u001b[0;34m(a, axis, dtype, out, ddof, keepdims, where)\u001b[0m\n\u001b[1;32m    206\u001b[0m ret \u001b[38;5;241m=\u001b[39m _var(a, axis\u001b[38;5;241m=\u001b[39maxis, dtype\u001b[38;5;241m=\u001b[39mdtype, out\u001b[38;5;241m=\u001b[39mout, ddof\u001b[38;5;241m=\u001b[39mddof,\n\u001b[1;32m    207\u001b[0m            keepdims\u001b[38;5;241m=\u001b[39mkeepdims, where\u001b[38;5;241m=\u001b[39mwhere)\n\u001b[1;32m    209\u001b[0m \u001b[38;5;28;01mif\u001b[39;00m \u001b[38;5;28misinstance\u001b[39m(ret, mu\u001b[38;5;241m.\u001b[39mndarray):\n\u001b[0;32m--> 210\u001b[0m     ret \u001b[38;5;241m=\u001b[39m um\u001b[38;5;241m.\u001b[39msqrt(ret, out\u001b[38;5;241m=\u001b[39mret)\n\u001b[1;32m    211\u001b[0m \u001b[38;5;28;01melif\u001b[39;00m \u001b[38;5;28mhasattr\u001b[39m(ret, \u001b[38;5;124m'\u001b[39m\u001b[38;5;124mdtype\u001b[39m\u001b[38;5;124m'\u001b[39m):\n\u001b[1;32m    212\u001b[0m     ret \u001b[38;5;241m=\u001b[39m ret\u001b[38;5;241m.\u001b[39mdtype\u001b[38;5;241m.\u001b[39mtype(um\u001b[38;5;241m.\u001b[39msqrt(ret))\n",
      "\u001b[0;31mTypeError\u001b[0m: loop of ufunc does not support argument 0 of type float which has no callable sqrt method"
     ]
    }
   ],
   "source": [
    "y = X_df['Gini index'].apply(lambda x: x/100).to_numpy()\n",
    "X_df = X_df.drop(labels=['TIME_PERIOD', 'Reference area', 'REF_AREA', 'Gini index'], axis=1)\n",
    "X = X_df.to_numpy()\n",
    "\n",
    "# Standardize all except dummies\n",
    "\n",
    "# Set number of the last x columns not to standardize (dummies)\n",
    "num_exclude = 4\n",
    "\n",
    "\n",
    "X_main = X[:, :-num_exclude]\n",
    "X_last = X[:, -num_exclude:]\n",
    "\n",
    "# Standardize the first part\n",
    "mean = X_main.mean(axis=0)\n",
    "std = X_main.std(axis=0)\n",
    "X_main_standardized = (X_main - mean) / std\n",
    "\n",
    "# Concatenate back together\n",
    "X = np.hstack([X_main_standardized, X_last])\n",
    "\n",
    "# Create y columns\n",
    "w = np.ones(len(X[0]))"
   ]
  },
  {
   "cell_type": "code",
   "execution_count": 5,
   "id": "86fa17a4",
   "metadata": {},
   "outputs": [
    {
     "data": {
      "text/html": [
       "<div>\n",
       "<style scoped>\n",
       "    .dataframe tbody tr th:only-of-type {\n",
       "        vertical-align: middle;\n",
       "    }\n",
       "\n",
       "    .dataframe tbody tr th {\n",
       "        vertical-align: top;\n",
       "    }\n",
       "\n",
       "    .dataframe thead th {\n",
       "        text-align: right;\n",
       "    }\n",
       "</style>\n",
       "<table border=\"1\" class=\"dataframe\">\n",
       "  <thead>\n",
       "    <tr style=\"text-align: right;\">\n",
       "      <th></th>\n",
       "      <th>Model</th>\n",
       "      <th>DateAdded</th>\n",
       "      <th>Trade union density</th>\n",
       "      <th>Combined corporate income tax rate</th>\n",
       "      <th>Education spending</th>\n",
       "      <th>Health spending</th>\n",
       "      <th>Housing spending</th>\n",
       "      <th>Community development spending</th>\n",
       "      <th>IRLT</th>\n",
       "      <th>UNEMP</th>\n",
       "      <th>Population, total</th>\n",
       "      <th>GDP per capita (current US$)</th>\n",
       "      <th>Inflation, consumer prices (annual %)</th>\n",
       "      <th>Region_East Asia and Pacific</th>\n",
       "      <th>Region_Europe and Central Asia</th>\n",
       "      <th>Region_Latin America and Caribbean</th>\n",
       "      <th>Region_Middle East and North Africa</th>\n",
       "    </tr>\n",
       "  </thead>\n",
       "  <tbody>\n",
       "    <tr>\n",
       "      <th>0</th>\n",
       "      <td>Linear Regression</td>\n",
       "      <td>2025-06-06</td>\n",
       "      <td>-0.015902</td>\n",
       "      <td>-0.002658</td>\n",
       "      <td>0.010918</td>\n",
       "      <td>-0.009051</td>\n",
       "      <td>0.002993</td>\n",
       "      <td>-0.000433</td>\n",
       "      <td>0.001753</td>\n",
       "      <td>0.011690</td>\n",
       "      <td>0.01355</td>\n",
       "      <td>0.009428</td>\n",
       "      <td>0.004860</td>\n",
       "      <td>0.325422</td>\n",
       "      <td>0.306848</td>\n",
       "      <td>0.496299</td>\n",
       "      <td>0.381707</td>\n",
       "    </tr>\n",
       "    <tr>\n",
       "      <th>1</th>\n",
       "      <td>Logistic Regression</td>\n",
       "      <td>2025-06-06</td>\n",
       "      <td>-0.073036</td>\n",
       "      <td>-0.012716</td>\n",
       "      <td>0.048282</td>\n",
       "      <td>-0.036087</td>\n",
       "      <td>0.012650</td>\n",
       "      <td>-0.001524</td>\n",
       "      <td>0.010230</td>\n",
       "      <td>0.057003</td>\n",
       "      <td>0.06351</td>\n",
       "      <td>0.045335</td>\n",
       "      <td>0.024353</td>\n",
       "      <td>-0.735174</td>\n",
       "      <td>-0.819803</td>\n",
       "      <td>-0.026075</td>\n",
       "      <td>0.123412</td>\n",
       "    </tr>\n",
       "  </tbody>\n",
       "</table>\n",
       "</div>"
      ],
      "text/plain": [
       "                 Model   DateAdded  Trade union density  \\\n",
       "0    Linear Regression  2025-06-06            -0.015902   \n",
       "1  Logistic Regression  2025-06-06            -0.073036   \n",
       "\n",
       "   Combined corporate income tax rate  Education spending  Health spending  \\\n",
       "0                           -0.002658            0.010918        -0.009051   \n",
       "1                           -0.012716            0.048282        -0.036087   \n",
       "\n",
       "   Housing spending  Community development spending      IRLT     UNEMP  \\\n",
       "0          0.002993                       -0.000433  0.001753  0.011690   \n",
       "1          0.012650                       -0.001524  0.010230  0.057003   \n",
       "\n",
       "   Population, total  GDP per capita (current US$)  \\\n",
       "0            0.01355                      0.009428   \n",
       "1            0.06351                      0.045335   \n",
       "\n",
       "   Inflation, consumer prices (annual %)  Region_East Asia and Pacific  \\\n",
       "0                               0.004860                      0.325422   \n",
       "1                               0.024353                     -0.735174   \n",
       "\n",
       "   Region_Europe and Central Asia  Region_Latin America and Caribbean  \\\n",
       "0                        0.306848                            0.496299   \n",
       "1                       -0.819803                           -0.026075   \n",
       "\n",
       "   Region_Middle East and North Africa  \n",
       "0                             0.381707  \n",
       "1                             0.123412  "
      ]
     },
     "execution_count": 5,
     "metadata": {},
     "output_type": "execute_result"
    }
   ],
   "source": [
    "# Create models and add to csv\n",
    "date_str = datetime.today().strftime(\"%Y-%m-%d\")\n",
    "column_names = X_df.columns\n",
    "lin_weights = lin_regress(X,y)\n",
    "lin_weights_dict = {column_names[i]: lin_weights[i] for i in range(len(lin_weights))}\n",
    "log_weights = log_regress(X,y,w,alpha=.0038,max_iter=1000)\n",
    "log_weights_dict = {column_names[i]: log_weights[i] for i in range(len(log_weights))}\n",
    "weights_df = pd.DataFrame([lin_weights_dict, log_weights_dict])\n",
    "weights_df.insert(0, 'Model', ['Linear Regression', 'Logistic Regression'])\n",
    "weights_df.insert(1, 'DateAdded', [date_str, date_str])\n",
    "weights_df.to_csv('model_weights.csv', index=False)\n",
    "weights_df"
   ]
  },
  {
   "cell_type": "code",
   "execution_count": 6,
   "id": "bc024849",
   "metadata": {},
   "outputs": [],
   "source": [
    "describe = X_df.describe().loc[['mean', 'std']].iloc[:,:-4]\n",
    "describe.index.name = 'Statistic'\n",
    "describe.to_csv('describe.csv')"
   ]
  },
  {
   "cell_type": "code",
   "execution_count": 7,
   "id": "ace827fc",
   "metadata": {},
   "outputs": [
    {
     "data": {
      "text/plain": [
       "0.7630732165911714"
      ]
     },
     "execution_count": 7,
     "metadata": {},
     "output_type": "execute_result"
    }
   ],
   "source": [
    "predictions = []\n",
    "for x in X:\n",
    "    y_hat = np.dot(x, lin_weights)\n",
    "    predictions.append(y_hat)\n",
    "\n",
    "column_names = X_df.columns\n",
    "lin_results = {\n",
    "    'ypreds': predictions,\n",
    "    'mse': mean_squared_error(y, predictions),\n",
    "    'r2': r2_score(y, predictions),\n",
    "    'resids': [y[i] - predictions[i] for i in range(len(y))],\n",
    "    'coefficients': {column_names[i]: lin_weights[i] for i in range(len(lin_weights))}\n",
    "}\n",
    "lin_results['r2']"
   ]
  },
  {
   "cell_type": "code",
   "execution_count": 8,
   "id": "2a5c358f",
   "metadata": {},
   "outputs": [
    {
     "data": {
      "text/plain": [
       "0.7409933358435599"
      ]
     },
     "execution_count": 8,
     "metadata": {},
     "output_type": "execute_result"
    }
   ],
   "source": [
    "predictions = []\n",
    "for x in X:\n",
    "    dot_prod = np.dot(x, log_weights)\n",
    "    y_hat = 1 / (1 + np.exp(-dot_prod))\n",
    "    predictions.append(y_hat)\n",
    "\n",
    "column_names = X_df.columns\n",
    "log_results = {\n",
    "    'ypreds': predictions,\n",
    "    'mse': mean_squared_error(y, predictions),\n",
    "    'r2': r2_score(y, predictions),\n",
    "    'resids': [y[i] - predictions[i] for i in range(len(y))],\n",
    "    'coefficients': {column_names[i]: log_weights[i] for i in range(len(log_weights))}\n",
    "}\n",
    "log_results['r2']"
   ]
  },
  {
   "cell_type": "code",
   "execution_count": 9,
   "id": "d001932d",
   "metadata": {},
   "outputs": [
    {
     "data": {
      "text/plain": [
       "0.6442772357691369"
      ]
     },
     "execution_count": 9,
     "metadata": {},
     "output_type": "execute_result"
    }
   ],
   "source": [
    "# Linear regression cross-validation\n",
    "X_train, X_test, y_train, y_test = train_test_split(\n",
    "    X, y, test_size=0.3, random_state=3)\n",
    "\n",
    "cval_weights = lin_regress(X_train,y_train)\n",
    "predictions = []\n",
    "for x in X_test:\n",
    "    y_hat = np.dot(x,cval_weights)\n",
    "    predictions.append(y_hat)\n",
    "\n",
    "column_names = X_df.columns\n",
    "lin_cval_results = {\n",
    "    'ypreds': predictions,\n",
    "    'mse': mean_squared_error(y_test, predictions),\n",
    "    'r2': r2_score(y_test, predictions),\n",
    "    'resids': [y_test[i] - predictions[i] for i in range(len(y_test))],\n",
    "    'coefficients': {column_names[i]: cval_weights[i] for i in range(len(cval_weights))}\n",
    "}\n",
    "lin_cval_results['r2']"
   ]
  },
  {
   "cell_type": "code",
   "execution_count": 10,
   "id": "cbfdea5b",
   "metadata": {},
   "outputs": [
    {
     "data": {
      "text/plain": [
       "0.6326129827593359"
      ]
     },
     "execution_count": 10,
     "metadata": {},
     "output_type": "execute_result"
    }
   ],
   "source": [
    "#logistic regression cross-validation\n",
    "X_train, X_test, y_train, y_test = train_test_split(\n",
    "    X, y, test_size=0.3, random_state=3)\n",
    "\n",
    "cval_weights = log_regress(X_train,y_train,w,alpha=.0038,max_iter=1000)\n",
    "predictions = []\n",
    "for x in X_test:\n",
    "    dot_prod = np.dot(x, cval_weights)\n",
    "    y_hat = 1 / (1 + np.exp(-dot_prod))\n",
    "    predictions.append(y_hat)\n",
    "\n",
    "column_names = X_df.columns\n",
    "log_cval_results = {\n",
    "    'ypreds': predictions,\n",
    "    'mse': mean_squared_error(y_test, predictions),\n",
    "    'r2': r2_score(y_test, predictions),\n",
    "    'resids': [y_test[i] - predictions[i] for i in range(len(y_test))],\n",
    "    'coefficients': {column_names[i]: cval_weights[i] for i in range(len(cval_weights))}\n",
    "}\n",
    "log_cval_results['r2']"
   ]
  },
  {
   "cell_type": "code",
   "execution_count": 11,
   "id": "c8d2e8d6",
   "metadata": {},
   "outputs": [
    {
     "name": "stdout",
     "output_type": "stream",
     "text": [
      "linear r2: 0.6442772357691369\n",
      "logistic r2: 0.6326129827593359\n"
     ]
    }
   ],
   "source": [
    "print('linear r2:', lin_cval_results['r2'])\n",
    "print('logistic r2:', log_cval_results['r2'])"
   ]
  },
  {
   "cell_type": "code",
   "execution_count": 12,
   "id": "8f964675",
   "metadata": {},
   "outputs": [
    {
     "data": {
      "application/vnd.plotly.v1+json": {
       "config": {
        "plotlyServerURL": "https://plot.ly"
       },
       "data": [
        {
         "hovertemplate": "Predicted values=%{x}<br>Actual values=%{y}<extra></extra>",
         "legendgroup": "",
         "marker": {
          "color": "#636efa",
          "symbol": "circle"
         },
         "mode": "markers",
         "name": "",
         "orientation": "v",
         "showlegend": false,
         "type": "scatter",
         "x": {
          "bdata": "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",
          "dtype": "f8"
         },
         "xaxis": "x",
         "y": {
          "bdata": "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",
          "dtype": "f8"
         },
         "yaxis": "y"
        }
       ],
       "layout": {
        "legend": {
         "tracegroupgap": 0
        },
        "margin": {
         "t": 60
        },
        "template": {
         "data": {
          "bar": [
           {
            "error_x": {
             "color": "#2a3f5f"
            },
            "error_y": {
             "color": "#2a3f5f"
            },
            "marker": {
             "line": {
              "color": "#E5ECF6",
              "width": 0.5
             },
             "pattern": {
              "fillmode": "overlay",
              "size": 10,
              "solidity": 0.2
             }
            },
            "type": "bar"
           }
          ],
          "barpolar": [
           {
            "marker": {
             "line": {
              "color": "#E5ECF6",
              "width": 0.5
             },
             "pattern": {
              "fillmode": "overlay",
              "size": 10,
              "solidity": 0.2
             }
            },
            "type": "barpolar"
           }
          ],
          "carpet": [
           {
            "aaxis": {
             "endlinecolor": "#2a3f5f",
             "gridcolor": "white",
             "linecolor": "white",
             "minorgridcolor": "white",
             "startlinecolor": "#2a3f5f"
            },
            "baxis": {
             "endlinecolor": "#2a3f5f",
             "gridcolor": "white",
             "linecolor": "white",
             "minorgridcolor": "white",
             "startlinecolor": "#2a3f5f"
            },
            "type": "carpet"
           }
          ],
          "choropleth": [
           {
            "colorbar": {
             "outlinewidth": 0,
             "ticks": ""
            },
            "type": "choropleth"
           }
          ],
          "contour": [
           {
            "colorbar": {
             "outlinewidth": 0,
             "ticks": ""
            },
            "colorscale": [
             [
              0,
              "#0d0887"
             ],
             [
              0.1111111111111111,
              "#46039f"
             ],
             [
              0.2222222222222222,
              "#7201a8"
             ],
             [
              0.3333333333333333,
              "#9c179e"
             ],
             [
              0.4444444444444444,
              "#bd3786"
             ],
             [
              0.5555555555555556,
              "#d8576b"
             ],
             [
              0.6666666666666666,
              "#ed7953"
             ],
             [
              0.7777777777777778,
              "#fb9f3a"
             ],
             [
              0.8888888888888888,
              "#fdca26"
             ],
             [
              1,
              "#f0f921"
             ]
            ],
            "type": "contour"
           }
          ],
          "contourcarpet": [
           {
            "colorbar": {
             "outlinewidth": 0,
             "ticks": ""
            },
            "type": "contourcarpet"
           }
          ],
          "heatmap": [
           {
            "colorbar": {
             "outlinewidth": 0,
             "ticks": ""
            },
            "colorscale": [
             [
              0,
              "#0d0887"
             ],
             [
              0.1111111111111111,
              "#46039f"
             ],
             [
              0.2222222222222222,
              "#7201a8"
             ],
             [
              0.3333333333333333,
              "#9c179e"
             ],
             [
              0.4444444444444444,
              "#bd3786"
             ],
             [
              0.5555555555555556,
              "#d8576b"
             ],
             [
              0.6666666666666666,
              "#ed7953"
             ],
             [
              0.7777777777777778,
              "#fb9f3a"
             ],
             [
              0.8888888888888888,
              "#fdca26"
             ],
             [
              1,
              "#f0f921"
             ]
            ],
            "type": "heatmap"
           }
          ],
          "histogram": [
           {
            "marker": {
             "pattern": {
              "fillmode": "overlay",
              "size": 10,
              "solidity": 0.2
             }
            },
            "type": "histogram"
           }
          ],
          "histogram2d": [
           {
            "colorbar": {
             "outlinewidth": 0,
             "ticks": ""
            },
            "colorscale": [
             [
              0,
              "#0d0887"
             ],
             [
              0.1111111111111111,
              "#46039f"
             ],
             [
              0.2222222222222222,
              "#7201a8"
             ],
             [
              0.3333333333333333,
              "#9c179e"
             ],
             [
              0.4444444444444444,
              "#bd3786"
             ],
             [
              0.5555555555555556,
              "#d8576b"
             ],
             [
              0.6666666666666666,
              "#ed7953"
             ],
             [
              0.7777777777777778,
              "#fb9f3a"
             ],
             [
              0.8888888888888888,
              "#fdca26"
             ],
             [
              1,
              "#f0f921"
             ]
            ],
            "type": "histogram2d"
           }
          ],
          "histogram2dcontour": [
           {
            "colorbar": {
             "outlinewidth": 0,
             "ticks": ""
            },
            "colorscale": [
             [
              0,
              "#0d0887"
             ],
             [
              0.1111111111111111,
              "#46039f"
             ],
             [
              0.2222222222222222,
              "#7201a8"
             ],
             [
              0.3333333333333333,
              "#9c179e"
             ],
             [
              0.4444444444444444,
              "#bd3786"
             ],
             [
              0.5555555555555556,
              "#d8576b"
             ],
             [
              0.6666666666666666,
              "#ed7953"
             ],
             [
              0.7777777777777778,
              "#fb9f3a"
             ],
             [
              0.8888888888888888,
              "#fdca26"
             ],
             [
              1,
              "#f0f921"
             ]
            ],
            "type": "histogram2dcontour"
           }
          ],
          "mesh3d": [
           {
            "colorbar": {
             "outlinewidth": 0,
             "ticks": ""
            },
            "type": "mesh3d"
           }
          ],
          "parcoords": [
           {
            "line": {
             "colorbar": {
              "outlinewidth": 0,
              "ticks": ""
             }
            },
            "type": "parcoords"
           }
          ],
          "pie": [
           {
            "automargin": true,
            "type": "pie"
           }
          ],
          "scatter": [
           {
            "fillpattern": {
             "fillmode": "overlay",
             "size": 10,
             "solidity": 0.2
            },
            "type": "scatter"
           }
          ],
          "scatter3d": [
           {
            "line": {
             "colorbar": {
              "outlinewidth": 0,
              "ticks": ""
             }
            },
            "marker": {
             "colorbar": {
              "outlinewidth": 0,
              "ticks": ""
             }
            },
            "type": "scatter3d"
           }
          ],
          "scattercarpet": [
           {
            "marker": {
             "colorbar": {
              "outlinewidth": 0,
              "ticks": ""
             }
            },
            "type": "scattercarpet"
           }
          ],
          "scattergeo": [
           {
            "marker": {
             "colorbar": {
              "outlinewidth": 0,
              "ticks": ""
             }
            },
            "type": "scattergeo"
           }
          ],
          "scattergl": [
           {
            "marker": {
             "colorbar": {
              "outlinewidth": 0,
              "ticks": ""
             }
            },
            "type": "scattergl"
           }
          ],
          "scattermap": [
           {
            "marker": {
             "colorbar": {
              "outlinewidth": 0,
              "ticks": ""
             }
            },
            "type": "scattermap"
           }
          ],
          "scattermapbox": [
           {
            "marker": {
             "colorbar": {
              "outlinewidth": 0,
              "ticks": ""
             }
            },
            "type": "scattermapbox"
           }
          ],
          "scatterpolar": [
           {
            "marker": {
             "colorbar": {
              "outlinewidth": 0,
              "ticks": ""
             }
            },
            "type": "scatterpolar"
           }
          ],
          "scatterpolargl": [
           {
            "marker": {
             "colorbar": {
              "outlinewidth": 0,
              "ticks": ""
             }
            },
            "type": "scatterpolargl"
           }
          ],
          "scatterternary": [
           {
            "marker": {
             "colorbar": {
              "outlinewidth": 0,
              "ticks": ""
             }
            },
            "type": "scatterternary"
           }
          ],
          "surface": [
           {
            "colorbar": {
             "outlinewidth": 0,
             "ticks": ""
            },
            "colorscale": [
             [
              0,
              "#0d0887"
             ],
             [
              0.1111111111111111,
              "#46039f"
             ],
             [
              0.2222222222222222,
              "#7201a8"
             ],
             [
              0.3333333333333333,
              "#9c179e"
             ],
             [
              0.4444444444444444,
              "#bd3786"
             ],
             [
              0.5555555555555556,
              "#d8576b"
             ],
             [
              0.6666666666666666,
              "#ed7953"
             ],
             [
              0.7777777777777778,
              "#fb9f3a"
             ],
             [
              0.8888888888888888,
              "#fdca26"
             ],
             [
              1,
              "#f0f921"
             ]
            ],
            "type": "surface"
           }
          ],
          "table": [
           {
            "cells": {
             "fill": {
              "color": "#EBF0F8"
             },
             "line": {
              "color": "white"
             }
            },
            "header": {
             "fill": {
              "color": "#C8D4E3"
             },
             "line": {
              "color": "white"
             }
            },
            "type": "table"
           }
          ]
         },
         "layout": {
          "annotationdefaults": {
           "arrowcolor": "#2a3f5f",
           "arrowhead": 0,
           "arrowwidth": 1
          },
          "autotypenumbers": "strict",
          "coloraxis": {
           "colorbar": {
            "outlinewidth": 0,
            "ticks": ""
           }
          },
          "colorscale": {
           "diverging": [
            [
             0,
             "#8e0152"
            ],
            [
             0.1,
             "#c51b7d"
            ],
            [
             0.2,
             "#de77ae"
            ],
            [
             0.3,
             "#f1b6da"
            ],
            [
             0.4,
             "#fde0ef"
            ],
            [
             0.5,
             "#f7f7f7"
            ],
            [
             0.6,
             "#e6f5d0"
            ],
            [
             0.7,
             "#b8e186"
            ],
            [
             0.8,
             "#7fbc41"
            ],
            [
             0.9,
             "#4d9221"
            ],
            [
             1,
             "#276419"
            ]
           ],
           "sequential": [
            [
             0,
             "#0d0887"
            ],
            [
             0.1111111111111111,
             "#46039f"
            ],
            [
             0.2222222222222222,
             "#7201a8"
            ],
            [
             0.3333333333333333,
             "#9c179e"
            ],
            [
             0.4444444444444444,
             "#bd3786"
            ],
            [
             0.5555555555555556,
             "#d8576b"
            ],
            [
             0.6666666666666666,
             "#ed7953"
            ],
            [
             0.7777777777777778,
             "#fb9f3a"
            ],
            [
             0.8888888888888888,
             "#fdca26"
            ],
            [
             1,
             "#f0f921"
            ]
           ],
           "sequentialminus": [
            [
             0,
             "#0d0887"
            ],
            [
             0.1111111111111111,
             "#46039f"
            ],
            [
             0.2222222222222222,
             "#7201a8"
            ],
            [
             0.3333333333333333,
             "#9c179e"
            ],
            [
             0.4444444444444444,
             "#bd3786"
            ],
            [
             0.5555555555555556,
             "#d8576b"
            ],
            [
             0.6666666666666666,
             "#ed7953"
            ],
            [
             0.7777777777777778,
             "#fb9f3a"
            ],
            [
             0.8888888888888888,
             "#fdca26"
            ],
            [
             1,
             "#f0f921"
            ]
           ]
          },
          "colorway": [
           "#636efa",
           "#EF553B",
           "#00cc96",
           "#ab63fa",
           "#FFA15A",
           "#19d3f3",
           "#FF6692",
           "#B6E880",
           "#FF97FF",
           "#FECB52"
          ],
          "font": {
           "color": "#2a3f5f"
          },
          "geo": {
           "bgcolor": "white",
           "lakecolor": "white",
           "landcolor": "#E5ECF6",
           "showlakes": true,
           "showland": true,
           "subunitcolor": "white"
          },
          "hoverlabel": {
           "align": "left"
          },
          "hovermode": "closest",
          "mapbox": {
           "style": "light"
          },
          "paper_bgcolor": "white",
          "plot_bgcolor": "#E5ECF6",
          "polar": {
           "angularaxis": {
            "gridcolor": "white",
            "linecolor": "white",
            "ticks": ""
           },
           "bgcolor": "#E5ECF6",
           "radialaxis": {
            "gridcolor": "white",
            "linecolor": "white",
            "ticks": ""
           }
          },
          "scene": {
           "xaxis": {
            "backgroundcolor": "#E5ECF6",
            "gridcolor": "white",
            "gridwidth": 2,
            "linecolor": "white",
            "showbackground": true,
            "ticks": "",
            "zerolinecolor": "white"
           },
           "yaxis": {
            "backgroundcolor": "#E5ECF6",
            "gridcolor": "white",
            "gridwidth": 2,
            "linecolor": "white",
            "showbackground": true,
            "ticks": "",
            "zerolinecolor": "white"
           },
           "zaxis": {
            "backgroundcolor": "#E5ECF6",
            "gridcolor": "white",
            "gridwidth": 2,
            "linecolor": "white",
            "showbackground": true,
            "ticks": "",
            "zerolinecolor": "white"
           }
          },
          "shapedefaults": {
           "line": {
            "color": "#2a3f5f"
           }
          },
          "ternary": {
           "aaxis": {
            "gridcolor": "white",
            "linecolor": "white",
            "ticks": ""
           },
           "baxis": {
            "gridcolor": "white",
            "linecolor": "white",
            "ticks": ""
           },
           "bgcolor": "#E5ECF6",
           "caxis": {
            "gridcolor": "white",
            "linecolor": "white",
            "ticks": ""
           }
          },
          "title": {
           "x": 0.05
          },
          "xaxis": {
           "automargin": true,
           "gridcolor": "white",
           "linecolor": "white",
           "ticks": "",
           "title": {
            "standoff": 15
           },
           "zerolinecolor": "white",
           "zerolinewidth": 2
          },
          "yaxis": {
           "automargin": true,
           "gridcolor": "white",
           "linecolor": "white",
           "ticks": "",
           "title": {
            "standoff": 15
           },
           "zerolinecolor": "white",
           "zerolinewidth": 2
          }
         }
        },
        "xaxis": {
         "anchor": "y",
         "domain": [
          0,
          1
         ],
         "title": {
          "text": "Predicted values"
         }
        },
        "yaxis": {
         "anchor": "x",
         "domain": [
          0,
          1
         ],
         "title": {
          "text": "Actual values"
         }
        }
       }
      }
     },
     "metadata": {},
     "output_type": "display_data"
    }
   ],
   "source": [
    "import plotly.express as px\n",
    "\n",
    "px.scatter(x=np.array(log_results['ypreds']), y=y, labels={'x': 'Predicted values', 'y': 'Actual values'})"
   ]
  },
  {
   "cell_type": "code",
   "execution_count": 13,
   "id": "e0d58abf",
   "metadata": {},
   "outputs": [
    {
     "data": {
      "application/vnd.plotly.v1+json": {
       "config": {
        "plotlyServerURL": "https://plot.ly"
       },
       "data": [
        {
         "hovertemplate": "order=%{x}<br>Residuals=%{y}<extra></extra>",
         "legendgroup": "",
         "marker": {
          "color": "#636efa",
          "symbol": "circle"
         },
         "mode": "markers",
         "name": "",
         "orientation": "v",
         "showlegend": false,
         "type": "scatter",
         "x": {
          "bdata": "AAABAAIAAwAEAAUABgAHAAgACQAKAAsADAANAA4ADwAQABEAEgATABQAFQAWABcAGAAZABoAGwAcAB0AHgAfACAAIQAiACMAJAAlACYAJwAoACkAKgArACwALQAuAC8AMAAxADIAMwA0ADUANgA3ADgAOQA6ADsAPAA9AD4APwBAAEEAQgBDAEQARQBGAEcASABJAEoASwBMAE0ATgBPAFAAUQBSAFMAVABVAFYAVwBYAFkAWgBbAFwAXQBeAF8AYABhAGIAYwBkAGUAZgBnAGgAaQBqAGsAbABtAG4AbwBwAHEAcgBzAHQAdQB2AHcAeAB5AHoAewB8AH0AfgB/AIAAgQCCAIMAhACFAIYAhwCIAIkAigCLAIwAjQCOAI8AkACRAJIAkwCUAJUAlgCXAJgAmQCaAJsAnACdAJ4AnwCgAKEAogCjAKQApQCmAKcAqACpAKoAqwCsAK0ArgCvALAAsQCyALMAtAC1ALYAtwC4ALkAugC7ALwAvQC+AL8AwADBAMIAwwDEAMUAxgDHAMgAyQDKAMsAzADNAM4AzwDQANEA0gDTANQA1QDWANcA2ADZANoA2wDcAN0A3gDfAOAA4QDiAOMA5ADlAOYA5wDoAOkA6gDrAOwA7QDuAO8A8ADxAPIA8wD0APUA9gD3APgA+QD6APsA/AD9AP4A/wAAAQEBAgEDAQQBBQEGAQcBCAEJAQoBCwEMAQ0BDgEPARABEQESARMBFAEVARYBFwEYARkBGgEbARwBHQEeAR8BIAEhASIBIwEkASUBJgEnASgBKQEqASsBLAEtAS4BLwEwATEBMgEzATQBNQE2ATcBOAE5AToBOwE8AT0BPgE/AUABQQFCAUMBRAFFAUYBRwFIAUkBSgFLAUwBTQFOAU8BUAFRAVIBUwFUAVUBVgFXAVgBWQFaAVsBXAFdAV4BXwFgAWEBYgFjAWQBZQFmAWcBaAFpAWoBawFsAW0BbgFvAXABcQFyAXMBdAF1AXYBdwF4AXkBegF7AXwBfQF+AX8BgAGBAYIBgwGEAYUBhgGHAYgBiQGKAYsBjAGNAY4BjwE=",
          "dtype": "i2"
         },
         "xaxis": "x",
         "y": {
          "bdata": "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",
          "dtype": "f8"
         },
         "yaxis": "y"
        }
       ],
       "layout": {
        "legend": {
         "tracegroupgap": 0
        },
        "template": {
         "data": {
          "bar": [
           {
            "error_x": {
             "color": "#2a3f5f"
            },
            "error_y": {
             "color": "#2a3f5f"
            },
            "marker": {
             "line": {
              "color": "#E5ECF6",
              "width": 0.5
             },
             "pattern": {
              "fillmode": "overlay",
              "size": 10,
              "solidity": 0.2
             }
            },
            "type": "bar"
           }
          ],
          "barpolar": [
           {
            "marker": {
             "line": {
              "color": "#E5ECF6",
              "width": 0.5
             },
             "pattern": {
              "fillmode": "overlay",
              "size": 10,
              "solidity": 0.2
             }
            },
            "type": "barpolar"
           }
          ],
          "carpet": [
           {
            "aaxis": {
             "endlinecolor": "#2a3f5f",
             "gridcolor": "white",
             "linecolor": "white",
             "minorgridcolor": "white",
             "startlinecolor": "#2a3f5f"
            },
            "baxis": {
             "endlinecolor": "#2a3f5f",
             "gridcolor": "white",
             "linecolor": "white",
             "minorgridcolor": "white",
             "startlinecolor": "#2a3f5f"
            },
            "type": "carpet"
           }
          ],
          "choropleth": [
           {
            "colorbar": {
             "outlinewidth": 0,
             "ticks": ""
            },
            "type": "choropleth"
           }
          ],
          "contour": [
           {
            "colorbar": {
             "outlinewidth": 0,
             "ticks": ""
            },
            "colorscale": [
             [
              0,
              "#0d0887"
             ],
             [
              0.1111111111111111,
              "#46039f"
             ],
             [
              0.2222222222222222,
              "#7201a8"
             ],
             [
              0.3333333333333333,
              "#9c179e"
             ],
             [
              0.4444444444444444,
              "#bd3786"
             ],
             [
              0.5555555555555556,
              "#d8576b"
             ],
             [
              0.6666666666666666,
              "#ed7953"
             ],
             [
              0.7777777777777778,
              "#fb9f3a"
             ],
             [
              0.8888888888888888,
              "#fdca26"
             ],
             [
              1,
              "#f0f921"
             ]
            ],
            "type": "contour"
           }
          ],
          "contourcarpet": [
           {
            "colorbar": {
             "outlinewidth": 0,
             "ticks": ""
            },
            "type": "contourcarpet"
           }
          ],
          "heatmap": [
           {
            "colorbar": {
             "outlinewidth": 0,
             "ticks": ""
            },
            "colorscale": [
             [
              0,
              "#0d0887"
             ],
             [
              0.1111111111111111,
              "#46039f"
             ],
             [
              0.2222222222222222,
              "#7201a8"
             ],
             [
              0.3333333333333333,
              "#9c179e"
             ],
             [
              0.4444444444444444,
              "#bd3786"
             ],
             [
              0.5555555555555556,
              "#d8576b"
             ],
             [
              0.6666666666666666,
              "#ed7953"
             ],
             [
              0.7777777777777778,
              "#fb9f3a"
             ],
             [
              0.8888888888888888,
              "#fdca26"
             ],
             [
              1,
              "#f0f921"
             ]
            ],
            "type": "heatmap"
           }
          ],
          "histogram": [
           {
            "marker": {
             "pattern": {
              "fillmode": "overlay",
              "size": 10,
              "solidity": 0.2
             }
            },
            "type": "histogram"
           }
          ],
          "histogram2d": [
           {
            "colorbar": {
             "outlinewidth": 0,
             "ticks": ""
            },
            "colorscale": [
             [
              0,
              "#0d0887"
             ],
             [
              0.1111111111111111,
              "#46039f"
             ],
             [
              0.2222222222222222,
              "#7201a8"
             ],
             [
              0.3333333333333333,
              "#9c179e"
             ],
             [
              0.4444444444444444,
              "#bd3786"
             ],
             [
              0.5555555555555556,
              "#d8576b"
             ],
             [
              0.6666666666666666,
              "#ed7953"
             ],
             [
              0.7777777777777778,
              "#fb9f3a"
             ],
             [
              0.8888888888888888,
              "#fdca26"
             ],
             [
              1,
              "#f0f921"
             ]
            ],
            "type": "histogram2d"
           }
          ],
          "histogram2dcontour": [
           {
            "colorbar": {
             "outlinewidth": 0,
             "ticks": ""
            },
            "colorscale": [
             [
              0,
              "#0d0887"
             ],
             [
              0.1111111111111111,
              "#46039f"
             ],
             [
              0.2222222222222222,
              "#7201a8"
             ],
             [
              0.3333333333333333,
              "#9c179e"
             ],
             [
              0.4444444444444444,
              "#bd3786"
             ],
             [
              0.5555555555555556,
              "#d8576b"
             ],
             [
              0.6666666666666666,
              "#ed7953"
             ],
             [
              0.7777777777777778,
              "#fb9f3a"
             ],
             [
              0.8888888888888888,
              "#fdca26"
             ],
             [
              1,
              "#f0f921"
             ]
            ],
            "type": "histogram2dcontour"
           }
          ],
          "mesh3d": [
           {
            "colorbar": {
             "outlinewidth": 0,
             "ticks": ""
            },
            "type": "mesh3d"
           }
          ],
          "parcoords": [
           {
            "line": {
             "colorbar": {
              "outlinewidth": 0,
              "ticks": ""
             }
            },
            "type": "parcoords"
           }
          ],
          "pie": [
           {
            "automargin": true,
            "type": "pie"
           }
          ],
          "scatter": [
           {
            "fillpattern": {
             "fillmode": "overlay",
             "size": 10,
             "solidity": 0.2
            },
            "type": "scatter"
           }
          ],
          "scatter3d": [
           {
            "line": {
             "colorbar": {
              "outlinewidth": 0,
              "ticks": ""
             }
            },
            "marker": {
             "colorbar": {
              "outlinewidth": 0,
              "ticks": ""
             }
            },
            "type": "scatter3d"
           }
          ],
          "scattercarpet": [
           {
            "marker": {
             "colorbar": {
              "outlinewidth": 0,
              "ticks": ""
             }
            },
            "type": "scattercarpet"
           }
          ],
          "scattergeo": [
           {
            "marker": {
             "colorbar": {
              "outlinewidth": 0,
              "ticks": ""
             }
            },
            "type": "scattergeo"
           }
          ],
          "scattergl": [
           {
            "marker": {
             "colorbar": {
              "outlinewidth": 0,
              "ticks": ""
             }
            },
            "type": "scattergl"
           }
          ],
          "scattermap": [
           {
            "marker": {
             "colorbar": {
              "outlinewidth": 0,
              "ticks": ""
             }
            },
            "type": "scattermap"
           }
          ],
          "scattermapbox": [
           {
            "marker": {
             "colorbar": {
              "outlinewidth": 0,
              "ticks": ""
             }
            },
            "type": "scattermapbox"
           }
          ],
          "scatterpolar": [
           {
            "marker": {
             "colorbar": {
              "outlinewidth": 0,
              "ticks": ""
             }
            },
            "type": "scatterpolar"
           }
          ],
          "scatterpolargl": [
           {
            "marker": {
             "colorbar": {
              "outlinewidth": 0,
              "ticks": ""
             }
            },
            "type": "scatterpolargl"
           }
          ],
          "scatterternary": [
           {
            "marker": {
             "colorbar": {
              "outlinewidth": 0,
              "ticks": ""
             }
            },
            "type": "scatterternary"
           }
          ],
          "surface": [
           {
            "colorbar": {
             "outlinewidth": 0,
             "ticks": ""
            },
            "colorscale": [
             [
              0,
              "#0d0887"
             ],
             [
              0.1111111111111111,
              "#46039f"
             ],
             [
              0.2222222222222222,
              "#7201a8"
             ],
             [
              0.3333333333333333,
              "#9c179e"
             ],
             [
              0.4444444444444444,
              "#bd3786"
             ],
             [
              0.5555555555555556,
              "#d8576b"
             ],
             [
              0.6666666666666666,
              "#ed7953"
             ],
             [
              0.7777777777777778,
              "#fb9f3a"
             ],
             [
              0.8888888888888888,
              "#fdca26"
             ],
             [
              1,
              "#f0f921"
             ]
            ],
            "type": "surface"
           }
          ],
          "table": [
           {
            "cells": {
             "fill": {
              "color": "#EBF0F8"
             },
             "line": {
              "color": "white"
             }
            },
            "header": {
             "fill": {
              "color": "#C8D4E3"
             },
             "line": {
              "color": "white"
             }
            },
            "type": "table"
           }
          ]
         },
         "layout": {
          "annotationdefaults": {
           "arrowcolor": "#2a3f5f",
           "arrowhead": 0,
           "arrowwidth": 1
          },
          "autotypenumbers": "strict",
          "coloraxis": {
           "colorbar": {
            "outlinewidth": 0,
            "ticks": ""
           }
          },
          "colorscale": {
           "diverging": [
            [
             0,
             "#8e0152"
            ],
            [
             0.1,
             "#c51b7d"
            ],
            [
             0.2,
             "#de77ae"
            ],
            [
             0.3,
             "#f1b6da"
            ],
            [
             0.4,
             "#fde0ef"
            ],
            [
             0.5,
             "#f7f7f7"
            ],
            [
             0.6,
             "#e6f5d0"
            ],
            [
             0.7,
             "#b8e186"
            ],
            [
             0.8,
             "#7fbc41"
            ],
            [
             0.9,
             "#4d9221"
            ],
            [
             1,
             "#276419"
            ]
           ],
           "sequential": [
            [
             0,
             "#0d0887"
            ],
            [
             0.1111111111111111,
             "#46039f"
            ],
            [
             0.2222222222222222,
             "#7201a8"
            ],
            [
             0.3333333333333333,
             "#9c179e"
            ],
            [
             0.4444444444444444,
             "#bd3786"
            ],
            [
             0.5555555555555556,
             "#d8576b"
            ],
            [
             0.6666666666666666,
             "#ed7953"
            ],
            [
             0.7777777777777778,
             "#fb9f3a"
            ],
            [
             0.8888888888888888,
             "#fdca26"
            ],
            [
             1,
             "#f0f921"
            ]
           ],
           "sequentialminus": [
            [
             0,
             "#0d0887"
            ],
            [
             0.1111111111111111,
             "#46039f"
            ],
            [
             0.2222222222222222,
             "#7201a8"
            ],
            [
             0.3333333333333333,
             "#9c179e"
            ],
            [
             0.4444444444444444,
             "#bd3786"
            ],
            [
             0.5555555555555556,
             "#d8576b"
            ],
            [
             0.6666666666666666,
             "#ed7953"
            ],
            [
             0.7777777777777778,
             "#fb9f3a"
            ],
            [
             0.8888888888888888,
             "#fdca26"
            ],
            [
             1,
             "#f0f921"
            ]
           ]
          },
          "colorway": [
           "#636efa",
           "#EF553B",
           "#00cc96",
           "#ab63fa",
           "#FFA15A",
           "#19d3f3",
           "#FF6692",
           "#B6E880",
           "#FF97FF",
           "#FECB52"
          ],
          "font": {
           "color": "#2a3f5f"
          },
          "geo": {
           "bgcolor": "white",
           "lakecolor": "white",
           "landcolor": "#E5ECF6",
           "showlakes": true,
           "showland": true,
           "subunitcolor": "white"
          },
          "hoverlabel": {
           "align": "left"
          },
          "hovermode": "closest",
          "mapbox": {
           "style": "light"
          },
          "paper_bgcolor": "white",
          "plot_bgcolor": "#E5ECF6",
          "polar": {
           "angularaxis": {
            "gridcolor": "white",
            "linecolor": "white",
            "ticks": ""
           },
           "bgcolor": "#E5ECF6",
           "radialaxis": {
            "gridcolor": "white",
            "linecolor": "white",
            "ticks": ""
           }
          },
          "scene": {
           "xaxis": {
            "backgroundcolor": "#E5ECF6",
            "gridcolor": "white",
            "gridwidth": 2,
            "linecolor": "white",
            "showbackground": true,
            "ticks": "",
            "zerolinecolor": "white"
           },
           "yaxis": {
            "backgroundcolor": "#E5ECF6",
            "gridcolor": "white",
            "gridwidth": 2,
            "linecolor": "white",
            "showbackground": true,
            "ticks": "",
            "zerolinecolor": "white"
           },
           "zaxis": {
            "backgroundcolor": "#E5ECF6",
            "gridcolor": "white",
            "gridwidth": 2,
            "linecolor": "white",
            "showbackground": true,
            "ticks": "",
            "zerolinecolor": "white"
           }
          },
          "shapedefaults": {
           "line": {
            "color": "#2a3f5f"
           }
          },
          "ternary": {
           "aaxis": {
            "gridcolor": "white",
            "linecolor": "white",
            "ticks": ""
           },
           "baxis": {
            "gridcolor": "white",
            "linecolor": "white",
            "ticks": ""
           },
           "bgcolor": "#E5ECF6",
           "caxis": {
            "gridcolor": "white",
            "linecolor": "white",
            "ticks": ""
           }
          },
          "title": {
           "x": 0.05
          },
          "xaxis": {
           "automargin": true,
           "gridcolor": "white",
           "linecolor": "white",
           "ticks": "",
           "title": {
            "standoff": 15
           },
           "zerolinecolor": "white",
           "zerolinewidth": 2
          },
          "yaxis": {
           "automargin": true,
           "gridcolor": "white",
           "linecolor": "white",
           "ticks": "",
           "title": {
            "standoff": 15
           },
           "zerolinecolor": "white",
           "zerolinewidth": 2
          }
         }
        },
        "title": {
         "text": "Residual plot vs. order"
        },
        "xaxis": {
         "anchor": "y",
         "domain": [
          0,
          1
         ],
         "title": {
          "text": "order"
         }
        },
        "yaxis": {
         "anchor": "x",
         "domain": [
          0,
          1
         ],
         "title": {
          "text": "Residuals"
         }
        }
       }
      }
     },
     "metadata": {},
     "output_type": "display_data"
    }
   ],
   "source": [
    "px.scatter(x = range(len(log_results['resids'])), y = log_results['resids'], labels={'x': 'order', 'y': 'Residuals'}, title='Residual plot vs. order')"
   ]
  },
  {
   "cell_type": "code",
   "execution_count": 14,
   "id": "397d9361",
   "metadata": {},
   "outputs": [
    {
     "data": {
      "application/vnd.plotly.v1+json": {
       "config": {
        "plotlyServerURL": "https://plot.ly"
       },
       "data": [
        {
         "hovertemplate": "Trade union density=%{x}<br>Residuals=%{y}<extra></extra>",
         "legendgroup": "",
         "marker": {
          "color": "#636efa",
          "symbol": "circle"
         },
         "mode": "markers",
         "name": "",
         "orientation": "v",
         "showlegend": false,
         "type": "scatter",
         "x": {
          "bdata": "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",
          "dtype": "f8"
         },
         "xaxis": "x",
         "y": {
          "bdata": "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",
          "dtype": "f8"
         },
         "yaxis": "y"
        }
       ],
       "layout": {
        "legend": {
         "tracegroupgap": 0
        },
        "template": {
         "data": {
          "bar": [
           {
            "error_x": {
             "color": "#2a3f5f"
            },
            "error_y": {
             "color": "#2a3f5f"
            },
            "marker": {
             "line": {
              "color": "#E5ECF6",
              "width": 0.5
             },
             "pattern": {
              "fillmode": "overlay",
              "size": 10,
              "solidity": 0.2
             }
            },
            "type": "bar"
           }
          ],
          "barpolar": [
           {
            "marker": {
             "line": {
              "color": "#E5ECF6",
              "width": 0.5
             },
             "pattern": {
              "fillmode": "overlay",
              "size": 10,
              "solidity": 0.2
             }
            },
            "type": "barpolar"
           }
          ],
          "carpet": [
           {
            "aaxis": {
             "endlinecolor": "#2a3f5f",
             "gridcolor": "white",
             "linecolor": "white",
             "minorgridcolor": "white",
             "startlinecolor": "#2a3f5f"
            },
            "baxis": {
             "endlinecolor": "#2a3f5f",
             "gridcolor": "white",
             "linecolor": "white",
             "minorgridcolor": "white",
             "startlinecolor": "#2a3f5f"
            },
            "type": "carpet"
           }
          ],
          "choropleth": [
           {
            "colorbar": {
             "outlinewidth": 0,
             "ticks": ""
            },
            "type": "choropleth"
           }
          ],
          "contour": [
           {
            "colorbar": {
             "outlinewidth": 0,
             "ticks": ""
            },
            "colorscale": [
             [
              0,
              "#0d0887"
             ],
             [
              0.1111111111111111,
              "#46039f"
             ],
             [
              0.2222222222222222,
              "#7201a8"
             ],
             [
              0.3333333333333333,
              "#9c179e"
             ],
             [
              0.4444444444444444,
              "#bd3786"
             ],
             [
              0.5555555555555556,
              "#d8576b"
             ],
             [
              0.6666666666666666,
              "#ed7953"
             ],
             [
              0.7777777777777778,
              "#fb9f3a"
             ],
             [
              0.8888888888888888,
              "#fdca26"
             ],
             [
              1,
              "#f0f921"
             ]
            ],
            "type": "contour"
           }
          ],
          "contourcarpet": [
           {
            "colorbar": {
             "outlinewidth": 0,
             "ticks": ""
            },
            "type": "contourcarpet"
           }
          ],
          "heatmap": [
           {
            "colorbar": {
             "outlinewidth": 0,
             "ticks": ""
            },
            "colorscale": [
             [
              0,
              "#0d0887"
             ],
             [
              0.1111111111111111,
              "#46039f"
             ],
             [
              0.2222222222222222,
              "#7201a8"
             ],
             [
              0.3333333333333333,
              "#9c179e"
             ],
             [
              0.4444444444444444,
              "#bd3786"
             ],
             [
              0.5555555555555556,
              "#d8576b"
             ],
             [
              0.6666666666666666,
              "#ed7953"
             ],
             [
              0.7777777777777778,
              "#fb9f3a"
             ],
             [
              0.8888888888888888,
              "#fdca26"
             ],
             [
              1,
              "#f0f921"
             ]
            ],
            "type": "heatmap"
           }
          ],
          "histogram": [
           {
            "marker": {
             "pattern": {
              "fillmode": "overlay",
              "size": 10,
              "solidity": 0.2
             }
            },
            "type": "histogram"
           }
          ],
          "histogram2d": [
           {
            "colorbar": {
             "outlinewidth": 0,
             "ticks": ""
            },
            "colorscale": [
             [
              0,
              "#0d0887"
             ],
             [
              0.1111111111111111,
              "#46039f"
             ],
             [
              0.2222222222222222,
              "#7201a8"
             ],
             [
              0.3333333333333333,
              "#9c179e"
             ],
             [
              0.4444444444444444,
              "#bd3786"
             ],
             [
              0.5555555555555556,
              "#d8576b"
             ],
             [
              0.6666666666666666,
              "#ed7953"
             ],
             [
              0.7777777777777778,
              "#fb9f3a"
             ],
             [
              0.8888888888888888,
              "#fdca26"
             ],
             [
              1,
              "#f0f921"
             ]
            ],
            "type": "histogram2d"
           }
          ],
          "histogram2dcontour": [
           {
            "colorbar": {
             "outlinewidth": 0,
             "ticks": ""
            },
            "colorscale": [
             [
              0,
              "#0d0887"
             ],
             [
              0.1111111111111111,
              "#46039f"
             ],
             [
              0.2222222222222222,
              "#7201a8"
             ],
             [
              0.3333333333333333,
              "#9c179e"
             ],
             [
              0.4444444444444444,
              "#bd3786"
             ],
             [
              0.5555555555555556,
              "#d8576b"
             ],
             [
              0.6666666666666666,
              "#ed7953"
             ],
             [
              0.7777777777777778,
              "#fb9f3a"
             ],
             [
              0.8888888888888888,
              "#fdca26"
             ],
             [
              1,
              "#f0f921"
             ]
            ],
            "type": "histogram2dcontour"
           }
          ],
          "mesh3d": [
           {
            "colorbar": {
             "outlinewidth": 0,
             "ticks": ""
            },
            "type": "mesh3d"
           }
          ],
          "parcoords": [
           {
            "line": {
             "colorbar": {
              "outlinewidth": 0,
              "ticks": ""
             }
            },
            "type": "parcoords"
           }
          ],
          "pie": [
           {
            "automargin": true,
            "type": "pie"
           }
          ],
          "scatter": [
           {
            "fillpattern": {
             "fillmode": "overlay",
             "size": 10,
             "solidity": 0.2
            },
            "type": "scatter"
           }
          ],
          "scatter3d": [
           {
            "line": {
             "colorbar": {
              "outlinewidth": 0,
              "ticks": ""
             }
            },
            "marker": {
             "colorbar": {
              "outlinewidth": 0,
              "ticks": ""
             }
            },
            "type": "scatter3d"
           }
          ],
          "scattercarpet": [
           {
            "marker": {
             "colorbar": {
              "outlinewidth": 0,
              "ticks": ""
             }
            },
            "type": "scattercarpet"
           }
          ],
          "scattergeo": [
           {
            "marker": {
             "colorbar": {
              "outlinewidth": 0,
              "ticks": ""
             }
            },
            "type": "scattergeo"
           }
          ],
          "scattergl": [
           {
            "marker": {
             "colorbar": {
              "outlinewidth": 0,
              "ticks": ""
             }
            },
            "type": "scattergl"
           }
          ],
          "scattermap": [
           {
            "marker": {
             "colorbar": {
              "outlinewidth": 0,
              "ticks": ""
             }
            },
            "type": "scattermap"
           }
          ],
          "scattermapbox": [
           {
            "marker": {
             "colorbar": {
              "outlinewidth": 0,
              "ticks": ""
             }
            },
            "type": "scattermapbox"
           }
          ],
          "scatterpolar": [
           {
            "marker": {
             "colorbar": {
              "outlinewidth": 0,
              "ticks": ""
             }
            },
            "type": "scatterpolar"
           }
          ],
          "scatterpolargl": [
           {
            "marker": {
             "colorbar": {
              "outlinewidth": 0,
              "ticks": ""
             }
            },
            "type": "scatterpolargl"
           }
          ],
          "scatterternary": [
           {
            "marker": {
             "colorbar": {
              "outlinewidth": 0,
              "ticks": ""
             }
            },
            "type": "scatterternary"
           }
          ],
          "surface": [
           {
            "colorbar": {
             "outlinewidth": 0,
             "ticks": ""
            },
            "colorscale": [
             [
              0,
              "#0d0887"
             ],
             [
              0.1111111111111111,
              "#46039f"
             ],
             [
              0.2222222222222222,
              "#7201a8"
             ],
             [
              0.3333333333333333,
              "#9c179e"
             ],
             [
              0.4444444444444444,
              "#bd3786"
             ],
             [
              0.5555555555555556,
              "#d8576b"
             ],
             [
              0.6666666666666666,
              "#ed7953"
             ],
             [
              0.7777777777777778,
              "#fb9f3a"
             ],
             [
              0.8888888888888888,
              "#fdca26"
             ],
             [
              1,
              "#f0f921"
             ]
            ],
            "type": "surface"
           }
          ],
          "table": [
           {
            "cells": {
             "fill": {
              "color": "#EBF0F8"
             },
             "line": {
              "color": "white"
             }
            },
            "header": {
             "fill": {
              "color": "#C8D4E3"
             },
             "line": {
              "color": "white"
             }
            },
            "type": "table"
           }
          ]
         },
         "layout": {
          "annotationdefaults": {
           "arrowcolor": "#2a3f5f",
           "arrowhead": 0,
           "arrowwidth": 1
          },
          "autotypenumbers": "strict",
          "coloraxis": {
           "colorbar": {
            "outlinewidth": 0,
            "ticks": ""
           }
          },
          "colorscale": {
           "diverging": [
            [
             0,
             "#8e0152"
            ],
            [
             0.1,
             "#c51b7d"
            ],
            [
             0.2,
             "#de77ae"
            ],
            [
             0.3,
             "#f1b6da"
            ],
            [
             0.4,
             "#fde0ef"
            ],
            [
             0.5,
             "#f7f7f7"
            ],
            [
             0.6,
             "#e6f5d0"
            ],
            [
             0.7,
             "#b8e186"
            ],
            [
             0.8,
             "#7fbc41"
            ],
            [
             0.9,
             "#4d9221"
            ],
            [
             1,
             "#276419"
            ]
           ],
           "sequential": [
            [
             0,
             "#0d0887"
            ],
            [
             0.1111111111111111,
             "#46039f"
            ],
            [
             0.2222222222222222,
             "#7201a8"
            ],
            [
             0.3333333333333333,
             "#9c179e"
            ],
            [
             0.4444444444444444,
             "#bd3786"
            ],
            [
             0.5555555555555556,
             "#d8576b"
            ],
            [
             0.6666666666666666,
             "#ed7953"
            ],
            [
             0.7777777777777778,
             "#fb9f3a"
            ],
            [
             0.8888888888888888,
             "#fdca26"
            ],
            [
             1,
             "#f0f921"
            ]
           ],
           "sequentialminus": [
            [
             0,
             "#0d0887"
            ],
            [
             0.1111111111111111,
             "#46039f"
            ],
            [
             0.2222222222222222,
             "#7201a8"
            ],
            [
             0.3333333333333333,
             "#9c179e"
            ],
            [
             0.4444444444444444,
             "#bd3786"
            ],
            [
             0.5555555555555556,
             "#d8576b"
            ],
            [
             0.6666666666666666,
             "#ed7953"
            ],
            [
             0.7777777777777778,
             "#fb9f3a"
            ],
            [
             0.8888888888888888,
             "#fdca26"
            ],
            [
             1,
             "#f0f921"
            ]
           ]
          },
          "colorway": [
           "#636efa",
           "#EF553B",
           "#00cc96",
           "#ab63fa",
           "#FFA15A",
           "#19d3f3",
           "#FF6692",
           "#B6E880",
           "#FF97FF",
           "#FECB52"
          ],
          "font": {
           "color": "#2a3f5f"
          },
          "geo": {
           "bgcolor": "white",
           "lakecolor": "white",
           "landcolor": "#E5ECF6",
           "showlakes": true,
           "showland": true,
           "subunitcolor": "white"
          },
          "hoverlabel": {
           "align": "left"
          },
          "hovermode": "closest",
          "mapbox": {
           "style": "light"
          },
          "paper_bgcolor": "white",
          "plot_bgcolor": "#E5ECF6",
          "polar": {
           "angularaxis": {
            "gridcolor": "white",
            "linecolor": "white",
            "ticks": ""
           },
           "bgcolor": "#E5ECF6",
           "radialaxis": {
            "gridcolor": "white",
            "linecolor": "white",
            "ticks": ""
           }
          },
          "scene": {
           "xaxis": {
            "backgroundcolor": "#E5ECF6",
            "gridcolor": "white",
            "gridwidth": 2,
            "linecolor": "white",
            "showbackground": true,
            "ticks": "",
            "zerolinecolor": "white"
           },
           "yaxis": {
            "backgroundcolor": "#E5ECF6",
            "gridcolor": "white",
            "gridwidth": 2,
            "linecolor": "white",
            "showbackground": true,
            "ticks": "",
            "zerolinecolor": "white"
           },
           "zaxis": {
            "backgroundcolor": "#E5ECF6",
            "gridcolor": "white",
            "gridwidth": 2,
            "linecolor": "white",
            "showbackground": true,
            "ticks": "",
            "zerolinecolor": "white"
           }
          },
          "shapedefaults": {
           "line": {
            "color": "#2a3f5f"
           }
          },
          "ternary": {
           "aaxis": {
            "gridcolor": "white",
            "linecolor": "white",
            "ticks": ""
           },
           "baxis": {
            "gridcolor": "white",
            "linecolor": "white",
            "ticks": ""
           },
           "bgcolor": "#E5ECF6",
           "caxis": {
            "gridcolor": "white",
            "linecolor": "white",
            "ticks": ""
           }
          },
          "title": {
           "x": 0.05
          },
          "xaxis": {
           "automargin": true,
           "gridcolor": "white",
           "linecolor": "white",
           "ticks": "",
           "title": {
            "standoff": 15
           },
           "zerolinecolor": "white",
           "zerolinewidth": 2
          },
          "yaxis": {
           "automargin": true,
           "gridcolor": "white",
           "linecolor": "white",
           "ticks": "",
           "title": {
            "standoff": 15
           },
           "zerolinecolor": "white",
           "zerolinewidth": 2
          }
         }
        },
        "title": {
         "text": "Residual plot of Trade union density"
        },
        "xaxis": {
         "anchor": "y",
         "domain": [
          0,
          1
         ],
         "title": {
          "text": "Trade union density"
         }
        },
        "yaxis": {
         "anchor": "x",
         "domain": [
          0,
          1
         ],
         "title": {
          "text": "Residuals"
         }
        }
       }
      }
     },
     "metadata": {},
     "output_type": "display_data"
    },
    {
     "data": {
      "application/vnd.plotly.v1+json": {
       "config": {
        "plotlyServerURL": "https://plot.ly"
       },
       "data": [
        {
         "hovertemplate": "Combined corporate income tax rate=%{x}<br>Residuals=%{y}<extra></extra>",
         "legendgroup": "",
         "marker": {
          "color": "#636efa",
          "symbol": "circle"
         },
         "mode": "markers",
         "name": "",
         "orientation": "v",
         "showlegend": false,
         "type": "scatter",
         "x": {
          "bdata": "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",
          "dtype": "f8"
         },
         "xaxis": "x",
         "y": {
          "bdata": "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",
          "dtype": "f8"
         },
         "yaxis": "y"
        }
       ],
       "layout": {
        "legend": {
         "tracegroupgap": 0
        },
        "template": {
         "data": {
          "bar": [
           {
            "error_x": {
             "color": "#2a3f5f"
            },
            "error_y": {
             "color": "#2a3f5f"
            },
            "marker": {
             "line": {
              "color": "#E5ECF6",
              "width": 0.5
             },
             "pattern": {
              "fillmode": "overlay",
              "size": 10,
              "solidity": 0.2
             }
            },
            "type": "bar"
           }
          ],
          "barpolar": [
           {
            "marker": {
             "line": {
              "color": "#E5ECF6",
              "width": 0.5
             },
             "pattern": {
              "fillmode": "overlay",
              "size": 10,
              "solidity": 0.2
             }
            },
            "type": "barpolar"
           }
          ],
          "carpet": [
           {
            "aaxis": {
             "endlinecolor": "#2a3f5f",
             "gridcolor": "white",
             "linecolor": "white",
             "minorgridcolor": "white",
             "startlinecolor": "#2a3f5f"
            },
            "baxis": {
             "endlinecolor": "#2a3f5f",
             "gridcolor": "white",
             "linecolor": "white",
             "minorgridcolor": "white",
             "startlinecolor": "#2a3f5f"
            },
            "type": "carpet"
           }
          ],
          "choropleth": [
           {
            "colorbar": {
             "outlinewidth": 0,
             "ticks": ""
            },
            "type": "choropleth"
           }
          ],
          "contour": [
           {
            "colorbar": {
             "outlinewidth": 0,
             "ticks": ""
            },
            "colorscale": [
             [
              0,
              "#0d0887"
             ],
             [
              0.1111111111111111,
              "#46039f"
             ],
             [
              0.2222222222222222,
              "#7201a8"
             ],
             [
              0.3333333333333333,
              "#9c179e"
             ],
             [
              0.4444444444444444,
              "#bd3786"
             ],
             [
              0.5555555555555556,
              "#d8576b"
             ],
             [
              0.6666666666666666,
              "#ed7953"
             ],
             [
              0.7777777777777778,
              "#fb9f3a"
             ],
             [
              0.8888888888888888,
              "#fdca26"
             ],
             [
              1,
              "#f0f921"
             ]
            ],
            "type": "contour"
           }
          ],
          "contourcarpet": [
           {
            "colorbar": {
             "outlinewidth": 0,
             "ticks": ""
            },
            "type": "contourcarpet"
           }
          ],
          "heatmap": [
           {
            "colorbar": {
             "outlinewidth": 0,
             "ticks": ""
            },
            "colorscale": [
             [
              0,
              "#0d0887"
             ],
             [
              0.1111111111111111,
              "#46039f"
             ],
             [
              0.2222222222222222,
              "#7201a8"
             ],
             [
              0.3333333333333333,
              "#9c179e"
             ],
             [
              0.4444444444444444,
              "#bd3786"
             ],
             [
              0.5555555555555556,
              "#d8576b"
             ],
             [
              0.6666666666666666,
              "#ed7953"
             ],
             [
              0.7777777777777778,
              "#fb9f3a"
             ],
             [
              0.8888888888888888,
              "#fdca26"
             ],
             [
              1,
              "#f0f921"
             ]
            ],
            "type": "heatmap"
           }
          ],
          "histogram": [
           {
            "marker": {
             "pattern": {
              "fillmode": "overlay",
              "size": 10,
              "solidity": 0.2
             }
            },
            "type": "histogram"
           }
          ],
          "histogram2d": [
           {
            "colorbar": {
             "outlinewidth": 0,
             "ticks": ""
            },
            "colorscale": [
             [
              0,
              "#0d0887"
             ],
             [
              0.1111111111111111,
              "#46039f"
             ],
             [
              0.2222222222222222,
              "#7201a8"
             ],
             [
              0.3333333333333333,
              "#9c179e"
             ],
             [
              0.4444444444444444,
              "#bd3786"
             ],
             [
              0.5555555555555556,
              "#d8576b"
             ],
             [
              0.6666666666666666,
              "#ed7953"
             ],
             [
              0.7777777777777778,
              "#fb9f3a"
             ],
             [
              0.8888888888888888,
              "#fdca26"
             ],
             [
              1,
              "#f0f921"
             ]
            ],
            "type": "histogram2d"
           }
          ],
          "histogram2dcontour": [
           {
            "colorbar": {
             "outlinewidth": 0,
             "ticks": ""
            },
            "colorscale": [
             [
              0,
              "#0d0887"
             ],
             [
              0.1111111111111111,
              "#46039f"
             ],
             [
              0.2222222222222222,
              "#7201a8"
             ],
             [
              0.3333333333333333,
              "#9c179e"
             ],
             [
              0.4444444444444444,
              "#bd3786"
             ],
             [
              0.5555555555555556,
              "#d8576b"
             ],
             [
              0.6666666666666666,
              "#ed7953"
             ],
             [
              0.7777777777777778,
              "#fb9f3a"
             ],
             [
              0.8888888888888888,
              "#fdca26"
             ],
             [
              1,
              "#f0f921"
             ]
            ],
            "type": "histogram2dcontour"
           }
          ],
          "mesh3d": [
           {
            "colorbar": {
             "outlinewidth": 0,
             "ticks": ""
            },
            "type": "mesh3d"
           }
          ],
          "parcoords": [
           {
            "line": {
             "colorbar": {
              "outlinewidth": 0,
              "ticks": ""
             }
            },
            "type": "parcoords"
           }
          ],
          "pie": [
           {
            "automargin": true,
            "type": "pie"
           }
          ],
          "scatter": [
           {
            "fillpattern": {
             "fillmode": "overlay",
             "size": 10,
             "solidity": 0.2
            },
            "type": "scatter"
           }
          ],
          "scatter3d": [
           {
            "line": {
             "colorbar": {
              "outlinewidth": 0,
              "ticks": ""
             }
            },
            "marker": {
             "colorbar": {
              "outlinewidth": 0,
              "ticks": ""
             }
            },
            "type": "scatter3d"
           }
          ],
          "scattercarpet": [
           {
            "marker": {
             "colorbar": {
              "outlinewidth": 0,
              "ticks": ""
             }
            },
            "type": "scattercarpet"
           }
          ],
          "scattergeo": [
           {
            "marker": {
             "colorbar": {
              "outlinewidth": 0,
              "ticks": ""
             }
            },
            "type": "scattergeo"
           }
          ],
          "scattergl": [
           {
            "marker": {
             "colorbar": {
              "outlinewidth": 0,
              "ticks": ""
             }
            },
            "type": "scattergl"
           }
          ],
          "scattermap": [
           {
            "marker": {
             "colorbar": {
              "outlinewidth": 0,
              "ticks": ""
             }
            },
            "type": "scattermap"
           }
          ],
          "scattermapbox": [
           {
            "marker": {
             "colorbar": {
              "outlinewidth": 0,
              "ticks": ""
             }
            },
            "type": "scattermapbox"
           }
          ],
          "scatterpolar": [
           {
            "marker": {
             "colorbar": {
              "outlinewidth": 0,
              "ticks": ""
             }
            },
            "type": "scatterpolar"
           }
          ],
          "scatterpolargl": [
           {
            "marker": {
             "colorbar": {
              "outlinewidth": 0,
              "ticks": ""
             }
            },
            "type": "scatterpolargl"
           }
          ],
          "scatterternary": [
           {
            "marker": {
             "colorbar": {
              "outlinewidth": 0,
              "ticks": ""
             }
            },
            "type": "scatterternary"
           }
          ],
          "surface": [
           {
            "colorbar": {
             "outlinewidth": 0,
             "ticks": ""
            },
            "colorscale": [
             [
              0,
              "#0d0887"
             ],
             [
              0.1111111111111111,
              "#46039f"
             ],
             [
              0.2222222222222222,
              "#7201a8"
             ],
             [
              0.3333333333333333,
              "#9c179e"
             ],
             [
              0.4444444444444444,
              "#bd3786"
             ],
             [
              0.5555555555555556,
              "#d8576b"
             ],
             [
              0.6666666666666666,
              "#ed7953"
             ],
             [
              0.7777777777777778,
              "#fb9f3a"
             ],
             [
              0.8888888888888888,
              "#fdca26"
             ],
             [
              1,
              "#f0f921"
             ]
            ],
            "type": "surface"
           }
          ],
          "table": [
           {
            "cells": {
             "fill": {
              "color": "#EBF0F8"
             },
             "line": {
              "color": "white"
             }
            },
            "header": {
             "fill": {
              "color": "#C8D4E3"
             },
             "line": {
              "color": "white"
             }
            },
            "type": "table"
           }
          ]
         },
         "layout": {
          "annotationdefaults": {
           "arrowcolor": "#2a3f5f",
           "arrowhead": 0,
           "arrowwidth": 1
          },
          "autotypenumbers": "strict",
          "coloraxis": {
           "colorbar": {
            "outlinewidth": 0,
            "ticks": ""
           }
          },
          "colorscale": {
           "diverging": [
            [
             0,
             "#8e0152"
            ],
            [
             0.1,
             "#c51b7d"
            ],
            [
             0.2,
             "#de77ae"
            ],
            [
             0.3,
             "#f1b6da"
            ],
            [
             0.4,
             "#fde0ef"
            ],
            [
             0.5,
             "#f7f7f7"
            ],
            [
             0.6,
             "#e6f5d0"
            ],
            [
             0.7,
             "#b8e186"
            ],
            [
             0.8,
             "#7fbc41"
            ],
            [
             0.9,
             "#4d9221"
            ],
            [
             1,
             "#276419"
            ]
           ],
           "sequential": [
            [
             0,
             "#0d0887"
            ],
            [
             0.1111111111111111,
             "#46039f"
            ],
            [
             0.2222222222222222,
             "#7201a8"
            ],
            [
             0.3333333333333333,
             "#9c179e"
            ],
            [
             0.4444444444444444,
             "#bd3786"
            ],
            [
             0.5555555555555556,
             "#d8576b"
            ],
            [
             0.6666666666666666,
             "#ed7953"
            ],
            [
             0.7777777777777778,
             "#fb9f3a"
            ],
            [
             0.8888888888888888,
             "#fdca26"
            ],
            [
             1,
             "#f0f921"
            ]
           ],
           "sequentialminus": [
            [
             0,
             "#0d0887"
            ],
            [
             0.1111111111111111,
             "#46039f"
            ],
            [
             0.2222222222222222,
             "#7201a8"
            ],
            [
             0.3333333333333333,
             "#9c179e"
            ],
            [
             0.4444444444444444,
             "#bd3786"
            ],
            [
             0.5555555555555556,
             "#d8576b"
            ],
            [
             0.6666666666666666,
             "#ed7953"
            ],
            [
             0.7777777777777778,
             "#fb9f3a"
            ],
            [
             0.8888888888888888,
             "#fdca26"
            ],
            [
             1,
             "#f0f921"
            ]
           ]
          },
          "colorway": [
           "#636efa",
           "#EF553B",
           "#00cc96",
           "#ab63fa",
           "#FFA15A",
           "#19d3f3",
           "#FF6692",
           "#B6E880",
           "#FF97FF",
           "#FECB52"
          ],
          "font": {
           "color": "#2a3f5f"
          },
          "geo": {
           "bgcolor": "white",
           "lakecolor": "white",
           "landcolor": "#E5ECF6",
           "showlakes": true,
           "showland": true,
           "subunitcolor": "white"
          },
          "hoverlabel": {
           "align": "left"
          },
          "hovermode": "closest",
          "mapbox": {
           "style": "light"
          },
          "paper_bgcolor": "white",
          "plot_bgcolor": "#E5ECF6",
          "polar": {
           "angularaxis": {
            "gridcolor": "white",
            "linecolor": "white",
            "ticks": ""
           },
           "bgcolor": "#E5ECF6",
           "radialaxis": {
            "gridcolor": "white",
            "linecolor": "white",
            "ticks": ""
           }
          },
          "scene": {
           "xaxis": {
            "backgroundcolor": "#E5ECF6",
            "gridcolor": "white",
            "gridwidth": 2,
            "linecolor": "white",
            "showbackground": true,
            "ticks": "",
            "zerolinecolor": "white"
           },
           "yaxis": {
            "backgroundcolor": "#E5ECF6",
            "gridcolor": "white",
            "gridwidth": 2,
            "linecolor": "white",
            "showbackground": true,
            "ticks": "",
            "zerolinecolor": "white"
           },
           "zaxis": {
            "backgroundcolor": "#E5ECF6",
            "gridcolor": "white",
            "gridwidth": 2,
            "linecolor": "white",
            "showbackground": true,
            "ticks": "",
            "zerolinecolor": "white"
           }
          },
          "shapedefaults": {
           "line": {
            "color": "#2a3f5f"
           }
          },
          "ternary": {
           "aaxis": {
            "gridcolor": "white",
            "linecolor": "white",
            "ticks": ""
           },
           "baxis": {
            "gridcolor": "white",
            "linecolor": "white",
            "ticks": ""
           },
           "bgcolor": "#E5ECF6",
           "caxis": {
            "gridcolor": "white",
            "linecolor": "white",
            "ticks": ""
           }
          },
          "title": {
           "x": 0.05
          },
          "xaxis": {
           "automargin": true,
           "gridcolor": "white",
           "linecolor": "white",
           "ticks": "",
           "title": {
            "standoff": 15
           },
           "zerolinecolor": "white",
           "zerolinewidth": 2
          },
          "yaxis": {
           "automargin": true,
           "gridcolor": "white",
           "linecolor": "white",
           "ticks": "",
           "title": {
            "standoff": 15
           },
           "zerolinecolor": "white",
           "zerolinewidth": 2
          }
         }
        },
        "title": {
         "text": "Residual plot of Combined corporate income tax rate"
        },
        "xaxis": {
         "anchor": "y",
         "domain": [
          0,
          1
         ],
         "title": {
          "text": "Combined corporate income tax rate"
         }
        },
        "yaxis": {
         "anchor": "x",
         "domain": [
          0,
          1
         ],
         "title": {
          "text": "Residuals"
         }
        }
       }
      }
     },
     "metadata": {},
     "output_type": "display_data"
    },
    {
     "data": {
      "application/vnd.plotly.v1+json": {
       "config": {
        "plotlyServerURL": "https://plot.ly"
       },
       "data": [
        {
         "hovertemplate": "Education spending=%{x}<br>Residuals=%{y}<extra></extra>",
         "legendgroup": "",
         "marker": {
          "color": "#636efa",
          "symbol": "circle"
         },
         "mode": "markers",
         "name": "",
         "orientation": "v",
         "showlegend": false,
         "type": "scatter",
         "x": {
          "bdata": "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",
          "dtype": "f8"
         },
         "xaxis": "x",
         "y": {
          "bdata": "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",
          "dtype": "f8"
         },
         "yaxis": "y"
        }
       ],
       "layout": {
        "legend": {
         "tracegroupgap": 0
        },
        "template": {
         "data": {
          "bar": [
           {
            "error_x": {
             "color": "#2a3f5f"
            },
            "error_y": {
             "color": "#2a3f5f"
            },
            "marker": {
             "line": {
              "color": "#E5ECF6",
              "width": 0.5
             },
             "pattern": {
              "fillmode": "overlay",
              "size": 10,
              "solidity": 0.2
             }
            },
            "type": "bar"
           }
          ],
          "barpolar": [
           {
            "marker": {
             "line": {
              "color": "#E5ECF6",
              "width": 0.5
             },
             "pattern": {
              "fillmode": "overlay",
              "size": 10,
              "solidity": 0.2
             }
            },
            "type": "barpolar"
           }
          ],
          "carpet": [
           {
            "aaxis": {
             "endlinecolor": "#2a3f5f",
             "gridcolor": "white",
             "linecolor": "white",
             "minorgridcolor": "white",
             "startlinecolor": "#2a3f5f"
            },
            "baxis": {
             "endlinecolor": "#2a3f5f",
             "gridcolor": "white",
             "linecolor": "white",
             "minorgridcolor": "white",
             "startlinecolor": "#2a3f5f"
            },
            "type": "carpet"
           }
          ],
          "choropleth": [
           {
            "colorbar": {
             "outlinewidth": 0,
             "ticks": ""
            },
            "type": "choropleth"
           }
          ],
          "contour": [
           {
            "colorbar": {
             "outlinewidth": 0,
             "ticks": ""
            },
            "colorscale": [
             [
              0,
              "#0d0887"
             ],
             [
              0.1111111111111111,
              "#46039f"
             ],
             [
              0.2222222222222222,
              "#7201a8"
             ],
             [
              0.3333333333333333,
              "#9c179e"
             ],
             [
              0.4444444444444444,
              "#bd3786"
             ],
             [
              0.5555555555555556,
              "#d8576b"
             ],
             [
              0.6666666666666666,
              "#ed7953"
             ],
             [
              0.7777777777777778,
              "#fb9f3a"
             ],
             [
              0.8888888888888888,
              "#fdca26"
             ],
             [
              1,
              "#f0f921"
             ]
            ],
            "type": "contour"
           }
          ],
          "contourcarpet": [
           {
            "colorbar": {
             "outlinewidth": 0,
             "ticks": ""
            },
            "type": "contourcarpet"
           }
          ],
          "heatmap": [
           {
            "colorbar": {
             "outlinewidth": 0,
             "ticks": ""
            },
            "colorscale": [
             [
              0,
              "#0d0887"
             ],
             [
              0.1111111111111111,
              "#46039f"
             ],
             [
              0.2222222222222222,
              "#7201a8"
             ],
             [
              0.3333333333333333,
              "#9c179e"
             ],
             [
              0.4444444444444444,
              "#bd3786"
             ],
             [
              0.5555555555555556,
              "#d8576b"
             ],
             [
              0.6666666666666666,
              "#ed7953"
             ],
             [
              0.7777777777777778,
              "#fb9f3a"
             ],
             [
              0.8888888888888888,
              "#fdca26"
             ],
             [
              1,
              "#f0f921"
             ]
            ],
            "type": "heatmap"
           }
          ],
          "histogram": [
           {
            "marker": {
             "pattern": {
              "fillmode": "overlay",
              "size": 10,
              "solidity": 0.2
             }
            },
            "type": "histogram"
           }
          ],
          "histogram2d": [
           {
            "colorbar": {
             "outlinewidth": 0,
             "ticks": ""
            },
            "colorscale": [
             [
              0,
              "#0d0887"
             ],
             [
              0.1111111111111111,
              "#46039f"
             ],
             [
              0.2222222222222222,
              "#7201a8"
             ],
             [
              0.3333333333333333,
              "#9c179e"
             ],
             [
              0.4444444444444444,
              "#bd3786"
             ],
             [
              0.5555555555555556,
              "#d8576b"
             ],
             [
              0.6666666666666666,
              "#ed7953"
             ],
             [
              0.7777777777777778,
              "#fb9f3a"
             ],
             [
              0.8888888888888888,
              "#fdca26"
             ],
             [
              1,
              "#f0f921"
             ]
            ],
            "type": "histogram2d"
           }
          ],
          "histogram2dcontour": [
           {
            "colorbar": {
             "outlinewidth": 0,
             "ticks": ""
            },
            "colorscale": [
             [
              0,
              "#0d0887"
             ],
             [
              0.1111111111111111,
              "#46039f"
             ],
             [
              0.2222222222222222,
              "#7201a8"
             ],
             [
              0.3333333333333333,
              "#9c179e"
             ],
             [
              0.4444444444444444,
              "#bd3786"
             ],
             [
              0.5555555555555556,
              "#d8576b"
             ],
             [
              0.6666666666666666,
              "#ed7953"
             ],
             [
              0.7777777777777778,
              "#fb9f3a"
             ],
             [
              0.8888888888888888,
              "#fdca26"
             ],
             [
              1,
              "#f0f921"
             ]
            ],
            "type": "histogram2dcontour"
           }
          ],
          "mesh3d": [
           {
            "colorbar": {
             "outlinewidth": 0,
             "ticks": ""
            },
            "type": "mesh3d"
           }
          ],
          "parcoords": [
           {
            "line": {
             "colorbar": {
              "outlinewidth": 0,
              "ticks": ""
             }
            },
            "type": "parcoords"
           }
          ],
          "pie": [
           {
            "automargin": true,
            "type": "pie"
           }
          ],
          "scatter": [
           {
            "fillpattern": {
             "fillmode": "overlay",
             "size": 10,
             "solidity": 0.2
            },
            "type": "scatter"
           }
          ],
          "scatter3d": [
           {
            "line": {
             "colorbar": {
              "outlinewidth": 0,
              "ticks": ""
             }
            },
            "marker": {
             "colorbar": {
              "outlinewidth": 0,
              "ticks": ""
             }
            },
            "type": "scatter3d"
           }
          ],
          "scattercarpet": [
           {
            "marker": {
             "colorbar": {
              "outlinewidth": 0,
              "ticks": ""
             }
            },
            "type": "scattercarpet"
           }
          ],
          "scattergeo": [
           {
            "marker": {
             "colorbar": {
              "outlinewidth": 0,
              "ticks": ""
             }
            },
            "type": "scattergeo"
           }
          ],
          "scattergl": [
           {
            "marker": {
             "colorbar": {
              "outlinewidth": 0,
              "ticks": ""
             }
            },
            "type": "scattergl"
           }
          ],
          "scattermap": [
           {
            "marker": {
             "colorbar": {
              "outlinewidth": 0,
              "ticks": ""
             }
            },
            "type": "scattermap"
           }
          ],
          "scattermapbox": [
           {
            "marker": {
             "colorbar": {
              "outlinewidth": 0,
              "ticks": ""
             }
            },
            "type": "scattermapbox"
           }
          ],
          "scatterpolar": [
           {
            "marker": {
             "colorbar": {
              "outlinewidth": 0,
              "ticks": ""
             }
            },
            "type": "scatterpolar"
           }
          ],
          "scatterpolargl": [
           {
            "marker": {
             "colorbar": {
              "outlinewidth": 0,
              "ticks": ""
             }
            },
            "type": "scatterpolargl"
           }
          ],
          "scatterternary": [
           {
            "marker": {
             "colorbar": {
              "outlinewidth": 0,
              "ticks": ""
             }
            },
            "type": "scatterternary"
           }
          ],
          "surface": [
           {
            "colorbar": {
             "outlinewidth": 0,
             "ticks": ""
            },
            "colorscale": [
             [
              0,
              "#0d0887"
             ],
             [
              0.1111111111111111,
              "#46039f"
             ],
             [
              0.2222222222222222,
              "#7201a8"
             ],
             [
              0.3333333333333333,
              "#9c179e"
             ],
             [
              0.4444444444444444,
              "#bd3786"
             ],
             [
              0.5555555555555556,
              "#d8576b"
             ],
             [
              0.6666666666666666,
              "#ed7953"
             ],
             [
              0.7777777777777778,
              "#fb9f3a"
             ],
             [
              0.8888888888888888,
              "#fdca26"
             ],
             [
              1,
              "#f0f921"
             ]
            ],
            "type": "surface"
           }
          ],
          "table": [
           {
            "cells": {
             "fill": {
              "color": "#EBF0F8"
             },
             "line": {
              "color": "white"
             }
            },
            "header": {
             "fill": {
              "color": "#C8D4E3"
             },
             "line": {
              "color": "white"
             }
            },
            "type": "table"
           }
          ]
         },
         "layout": {
          "annotationdefaults": {
           "arrowcolor": "#2a3f5f",
           "arrowhead": 0,
           "arrowwidth": 1
          },
          "autotypenumbers": "strict",
          "coloraxis": {
           "colorbar": {
            "outlinewidth": 0,
            "ticks": ""
           }
          },
          "colorscale": {
           "diverging": [
            [
             0,
             "#8e0152"
            ],
            [
             0.1,
             "#c51b7d"
            ],
            [
             0.2,
             "#de77ae"
            ],
            [
             0.3,
             "#f1b6da"
            ],
            [
             0.4,
             "#fde0ef"
            ],
            [
             0.5,
             "#f7f7f7"
            ],
            [
             0.6,
             "#e6f5d0"
            ],
            [
             0.7,
             "#b8e186"
            ],
            [
             0.8,
             "#7fbc41"
            ],
            [
             0.9,
             "#4d9221"
            ],
            [
             1,
             "#276419"
            ]
           ],
           "sequential": [
            [
             0,
             "#0d0887"
            ],
            [
             0.1111111111111111,
             "#46039f"
            ],
            [
             0.2222222222222222,
             "#7201a8"
            ],
            [
             0.3333333333333333,
             "#9c179e"
            ],
            [
             0.4444444444444444,
             "#bd3786"
            ],
            [
             0.5555555555555556,
             "#d8576b"
            ],
            [
             0.6666666666666666,
             "#ed7953"
            ],
            [
             0.7777777777777778,
             "#fb9f3a"
            ],
            [
             0.8888888888888888,
             "#fdca26"
            ],
            [
             1,
             "#f0f921"
            ]
           ],
           "sequentialminus": [
            [
             0,
             "#0d0887"
            ],
            [
             0.1111111111111111,
             "#46039f"
            ],
            [
             0.2222222222222222,
             "#7201a8"
            ],
            [
             0.3333333333333333,
             "#9c179e"
            ],
            [
             0.4444444444444444,
             "#bd3786"
            ],
            [
             0.5555555555555556,
             "#d8576b"
            ],
            [
             0.6666666666666666,
             "#ed7953"
            ],
            [
             0.7777777777777778,
             "#fb9f3a"
            ],
            [
             0.8888888888888888,
             "#fdca26"
            ],
            [
             1,
             "#f0f921"
            ]
           ]
          },
          "colorway": [
           "#636efa",
           "#EF553B",
           "#00cc96",
           "#ab63fa",
           "#FFA15A",
           "#19d3f3",
           "#FF6692",
           "#B6E880",
           "#FF97FF",
           "#FECB52"
          ],
          "font": {
           "color": "#2a3f5f"
          },
          "geo": {
           "bgcolor": "white",
           "lakecolor": "white",
           "landcolor": "#E5ECF6",
           "showlakes": true,
           "showland": true,
           "subunitcolor": "white"
          },
          "hoverlabel": {
           "align": "left"
          },
          "hovermode": "closest",
          "mapbox": {
           "style": "light"
          },
          "paper_bgcolor": "white",
          "plot_bgcolor": "#E5ECF6",
          "polar": {
           "angularaxis": {
            "gridcolor": "white",
            "linecolor": "white",
            "ticks": ""
           },
           "bgcolor": "#E5ECF6",
           "radialaxis": {
            "gridcolor": "white",
            "linecolor": "white",
            "ticks": ""
           }
          },
          "scene": {
           "xaxis": {
            "backgroundcolor": "#E5ECF6",
            "gridcolor": "white",
            "gridwidth": 2,
            "linecolor": "white",
            "showbackground": true,
            "ticks": "",
            "zerolinecolor": "white"
           },
           "yaxis": {
            "backgroundcolor": "#E5ECF6",
            "gridcolor": "white",
            "gridwidth": 2,
            "linecolor": "white",
            "showbackground": true,
            "ticks": "",
            "zerolinecolor": "white"
           },
           "zaxis": {
            "backgroundcolor": "#E5ECF6",
            "gridcolor": "white",
            "gridwidth": 2,
            "linecolor": "white",
            "showbackground": true,
            "ticks": "",
            "zerolinecolor": "white"
           }
          },
          "shapedefaults": {
           "line": {
            "color": "#2a3f5f"
           }
          },
          "ternary": {
           "aaxis": {
            "gridcolor": "white",
            "linecolor": "white",
            "ticks": ""
           },
           "baxis": {
            "gridcolor": "white",
            "linecolor": "white",
            "ticks": ""
           },
           "bgcolor": "#E5ECF6",
           "caxis": {
            "gridcolor": "white",
            "linecolor": "white",
            "ticks": ""
           }
          },
          "title": {
           "x": 0.05
          },
          "xaxis": {
           "automargin": true,
           "gridcolor": "white",
           "linecolor": "white",
           "ticks": "",
           "title": {
            "standoff": 15
           },
           "zerolinecolor": "white",
           "zerolinewidth": 2
          },
          "yaxis": {
           "automargin": true,
           "gridcolor": "white",
           "linecolor": "white",
           "ticks": "",
           "title": {
            "standoff": 15
           },
           "zerolinecolor": "white",
           "zerolinewidth": 2
          }
         }
        },
        "title": {
         "text": "Residual plot of Education spending"
        },
        "xaxis": {
         "anchor": "y",
         "domain": [
          0,
          1
         ],
         "title": {
          "text": "Education spending"
         }
        },
        "yaxis": {
         "anchor": "x",
         "domain": [
          0,
          1
         ],
         "title": {
          "text": "Residuals"
         }
        }
       }
      }
     },
     "metadata": {},
     "output_type": "display_data"
    },
    {
     "data": {
      "application/vnd.plotly.v1+json": {
       "config": {
        "plotlyServerURL": "https://plot.ly"
       },
       "data": [
        {
         "hovertemplate": "Health spending=%{x}<br>Residuals=%{y}<extra></extra>",
         "legendgroup": "",
         "marker": {
          "color": "#636efa",
          "symbol": "circle"
         },
         "mode": "markers",
         "name": "",
         "orientation": "v",
         "showlegend": false,
         "type": "scatter",
         "x": {
          "bdata": "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",
          "dtype": "f8"
         },
         "xaxis": "x",
         "y": {
          "bdata": "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",
          "dtype": "f8"
         },
         "yaxis": "y"
        }
       ],
       "layout": {
        "legend": {
         "tracegroupgap": 0
        },
        "template": {
         "data": {
          "bar": [
           {
            "error_x": {
             "color": "#2a3f5f"
            },
            "error_y": {
             "color": "#2a3f5f"
            },
            "marker": {
             "line": {
              "color": "#E5ECF6",
              "width": 0.5
             },
             "pattern": {
              "fillmode": "overlay",
              "size": 10,
              "solidity": 0.2
             }
            },
            "type": "bar"
           }
          ],
          "barpolar": [
           {
            "marker": {
             "line": {
              "color": "#E5ECF6",
              "width": 0.5
             },
             "pattern": {
              "fillmode": "overlay",
              "size": 10,
              "solidity": 0.2
             }
            },
            "type": "barpolar"
           }
          ],
          "carpet": [
           {
            "aaxis": {
             "endlinecolor": "#2a3f5f",
             "gridcolor": "white",
             "linecolor": "white",
             "minorgridcolor": "white",
             "startlinecolor": "#2a3f5f"
            },
            "baxis": {
             "endlinecolor": "#2a3f5f",
             "gridcolor": "white",
             "linecolor": "white",
             "minorgridcolor": "white",
             "startlinecolor": "#2a3f5f"
            },
            "type": "carpet"
           }
          ],
          "choropleth": [
           {
            "colorbar": {
             "outlinewidth": 0,
             "ticks": ""
            },
            "type": "choropleth"
           }
          ],
          "contour": [
           {
            "colorbar": {
             "outlinewidth": 0,
             "ticks": ""
            },
            "colorscale": [
             [
              0,
              "#0d0887"
             ],
             [
              0.1111111111111111,
              "#46039f"
             ],
             [
              0.2222222222222222,
              "#7201a8"
             ],
             [
              0.3333333333333333,
              "#9c179e"
             ],
             [
              0.4444444444444444,
              "#bd3786"
             ],
             [
              0.5555555555555556,
              "#d8576b"
             ],
             [
              0.6666666666666666,
              "#ed7953"
             ],
             [
              0.7777777777777778,
              "#fb9f3a"
             ],
             [
              0.8888888888888888,
              "#fdca26"
             ],
             [
              1,
              "#f0f921"
             ]
            ],
            "type": "contour"
           }
          ],
          "contourcarpet": [
           {
            "colorbar": {
             "outlinewidth": 0,
             "ticks": ""
            },
            "type": "contourcarpet"
           }
          ],
          "heatmap": [
           {
            "colorbar": {
             "outlinewidth": 0,
             "ticks": ""
            },
            "colorscale": [
             [
              0,
              "#0d0887"
             ],
             [
              0.1111111111111111,
              "#46039f"
             ],
             [
              0.2222222222222222,
              "#7201a8"
             ],
             [
              0.3333333333333333,
              "#9c179e"
             ],
             [
              0.4444444444444444,
              "#bd3786"
             ],
             [
              0.5555555555555556,
              "#d8576b"
             ],
             [
              0.6666666666666666,
              "#ed7953"
             ],
             [
              0.7777777777777778,
              "#fb9f3a"
             ],
             [
              0.8888888888888888,
              "#fdca26"
             ],
             [
              1,
              "#f0f921"
             ]
            ],
            "type": "heatmap"
           }
          ],
          "histogram": [
           {
            "marker": {
             "pattern": {
              "fillmode": "overlay",
              "size": 10,
              "solidity": 0.2
             }
            },
            "type": "histogram"
           }
          ],
          "histogram2d": [
           {
            "colorbar": {
             "outlinewidth": 0,
             "ticks": ""
            },
            "colorscale": [
             [
              0,
              "#0d0887"
             ],
             [
              0.1111111111111111,
              "#46039f"
             ],
             [
              0.2222222222222222,
              "#7201a8"
             ],
             [
              0.3333333333333333,
              "#9c179e"
             ],
             [
              0.4444444444444444,
              "#bd3786"
             ],
             [
              0.5555555555555556,
              "#d8576b"
             ],
             [
              0.6666666666666666,
              "#ed7953"
             ],
             [
              0.7777777777777778,
              "#fb9f3a"
             ],
             [
              0.8888888888888888,
              "#fdca26"
             ],
             [
              1,
              "#f0f921"
             ]
            ],
            "type": "histogram2d"
           }
          ],
          "histogram2dcontour": [
           {
            "colorbar": {
             "outlinewidth": 0,
             "ticks": ""
            },
            "colorscale": [
             [
              0,
              "#0d0887"
             ],
             [
              0.1111111111111111,
              "#46039f"
             ],
             [
              0.2222222222222222,
              "#7201a8"
             ],
             [
              0.3333333333333333,
              "#9c179e"
             ],
             [
              0.4444444444444444,
              "#bd3786"
             ],
             [
              0.5555555555555556,
              "#d8576b"
             ],
             [
              0.6666666666666666,
              "#ed7953"
             ],
             [
              0.7777777777777778,
              "#fb9f3a"
             ],
             [
              0.8888888888888888,
              "#fdca26"
             ],
             [
              1,
              "#f0f921"
             ]
            ],
            "type": "histogram2dcontour"
           }
          ],
          "mesh3d": [
           {
            "colorbar": {
             "outlinewidth": 0,
             "ticks": ""
            },
            "type": "mesh3d"
           }
          ],
          "parcoords": [
           {
            "line": {
             "colorbar": {
              "outlinewidth": 0,
              "ticks": ""
             }
            },
            "type": "parcoords"
           }
          ],
          "pie": [
           {
            "automargin": true,
            "type": "pie"
           }
          ],
          "scatter": [
           {
            "fillpattern": {
             "fillmode": "overlay",
             "size": 10,
             "solidity": 0.2
            },
            "type": "scatter"
           }
          ],
          "scatter3d": [
           {
            "line": {
             "colorbar": {
              "outlinewidth": 0,
              "ticks": ""
             }
            },
            "marker": {
             "colorbar": {
              "outlinewidth": 0,
              "ticks": ""
             }
            },
            "type": "scatter3d"
           }
          ],
          "scattercarpet": [
           {
            "marker": {
             "colorbar": {
              "outlinewidth": 0,
              "ticks": ""
             }
            },
            "type": "scattercarpet"
           }
          ],
          "scattergeo": [
           {
            "marker": {
             "colorbar": {
              "outlinewidth": 0,
              "ticks": ""
             }
            },
            "type": "scattergeo"
           }
          ],
          "scattergl": [
           {
            "marker": {
             "colorbar": {
              "outlinewidth": 0,
              "ticks": ""
             }
            },
            "type": "scattergl"
           }
          ],
          "scattermap": [
           {
            "marker": {
             "colorbar": {
              "outlinewidth": 0,
              "ticks": ""
             }
            },
            "type": "scattermap"
           }
          ],
          "scattermapbox": [
           {
            "marker": {
             "colorbar": {
              "outlinewidth": 0,
              "ticks": ""
             }
            },
            "type": "scattermapbox"
           }
          ],
          "scatterpolar": [
           {
            "marker": {
             "colorbar": {
              "outlinewidth": 0,
              "ticks": ""
             }
            },
            "type": "scatterpolar"
           }
          ],
          "scatterpolargl": [
           {
            "marker": {
             "colorbar": {
              "outlinewidth": 0,
              "ticks": ""
             }
            },
            "type": "scatterpolargl"
           }
          ],
          "scatterternary": [
           {
            "marker": {
             "colorbar": {
              "outlinewidth": 0,
              "ticks": ""
             }
            },
            "type": "scatterternary"
           }
          ],
          "surface": [
           {
            "colorbar": {
             "outlinewidth": 0,
             "ticks": ""
            },
            "colorscale": [
             [
              0,
              "#0d0887"
             ],
             [
              0.1111111111111111,
              "#46039f"
             ],
             [
              0.2222222222222222,
              "#7201a8"
             ],
             [
              0.3333333333333333,
              "#9c179e"
             ],
             [
              0.4444444444444444,
              "#bd3786"
             ],
             [
              0.5555555555555556,
              "#d8576b"
             ],
             [
              0.6666666666666666,
              "#ed7953"
             ],
             [
              0.7777777777777778,
              "#fb9f3a"
             ],
             [
              0.8888888888888888,
              "#fdca26"
             ],
             [
              1,
              "#f0f921"
             ]
            ],
            "type": "surface"
           }
          ],
          "table": [
           {
            "cells": {
             "fill": {
              "color": "#EBF0F8"
             },
             "line": {
              "color": "white"
             }
            },
            "header": {
             "fill": {
              "color": "#C8D4E3"
             },
             "line": {
              "color": "white"
             }
            },
            "type": "table"
           }
          ]
         },
         "layout": {
          "annotationdefaults": {
           "arrowcolor": "#2a3f5f",
           "arrowhead": 0,
           "arrowwidth": 1
          },
          "autotypenumbers": "strict",
          "coloraxis": {
           "colorbar": {
            "outlinewidth": 0,
            "ticks": ""
           }
          },
          "colorscale": {
           "diverging": [
            [
             0,
             "#8e0152"
            ],
            [
             0.1,
             "#c51b7d"
            ],
            [
             0.2,
             "#de77ae"
            ],
            [
             0.3,
             "#f1b6da"
            ],
            [
             0.4,
             "#fde0ef"
            ],
            [
             0.5,
             "#f7f7f7"
            ],
            [
             0.6,
             "#e6f5d0"
            ],
            [
             0.7,
             "#b8e186"
            ],
            [
             0.8,
             "#7fbc41"
            ],
            [
             0.9,
             "#4d9221"
            ],
            [
             1,
             "#276419"
            ]
           ],
           "sequential": [
            [
             0,
             "#0d0887"
            ],
            [
             0.1111111111111111,
             "#46039f"
            ],
            [
             0.2222222222222222,
             "#7201a8"
            ],
            [
             0.3333333333333333,
             "#9c179e"
            ],
            [
             0.4444444444444444,
             "#bd3786"
            ],
            [
             0.5555555555555556,
             "#d8576b"
            ],
            [
             0.6666666666666666,
             "#ed7953"
            ],
            [
             0.7777777777777778,
             "#fb9f3a"
            ],
            [
             0.8888888888888888,
             "#fdca26"
            ],
            [
             1,
             "#f0f921"
            ]
           ],
           "sequentialminus": [
            [
             0,
             "#0d0887"
            ],
            [
             0.1111111111111111,
             "#46039f"
            ],
            [
             0.2222222222222222,
             "#7201a8"
            ],
            [
             0.3333333333333333,
             "#9c179e"
            ],
            [
             0.4444444444444444,
             "#bd3786"
            ],
            [
             0.5555555555555556,
             "#d8576b"
            ],
            [
             0.6666666666666666,
             "#ed7953"
            ],
            [
             0.7777777777777778,
             "#fb9f3a"
            ],
            [
             0.8888888888888888,
             "#fdca26"
            ],
            [
             1,
             "#f0f921"
            ]
           ]
          },
          "colorway": [
           "#636efa",
           "#EF553B",
           "#00cc96",
           "#ab63fa",
           "#FFA15A",
           "#19d3f3",
           "#FF6692",
           "#B6E880",
           "#FF97FF",
           "#FECB52"
          ],
          "font": {
           "color": "#2a3f5f"
          },
          "geo": {
           "bgcolor": "white",
           "lakecolor": "white",
           "landcolor": "#E5ECF6",
           "showlakes": true,
           "showland": true,
           "subunitcolor": "white"
          },
          "hoverlabel": {
           "align": "left"
          },
          "hovermode": "closest",
          "mapbox": {
           "style": "light"
          },
          "paper_bgcolor": "white",
          "plot_bgcolor": "#E5ECF6",
          "polar": {
           "angularaxis": {
            "gridcolor": "white",
            "linecolor": "white",
            "ticks": ""
           },
           "bgcolor": "#E5ECF6",
           "radialaxis": {
            "gridcolor": "white",
            "linecolor": "white",
            "ticks": ""
           }
          },
          "scene": {
           "xaxis": {
            "backgroundcolor": "#E5ECF6",
            "gridcolor": "white",
            "gridwidth": 2,
            "linecolor": "white",
            "showbackground": true,
            "ticks": "",
            "zerolinecolor": "white"
           },
           "yaxis": {
            "backgroundcolor": "#E5ECF6",
            "gridcolor": "white",
            "gridwidth": 2,
            "linecolor": "white",
            "showbackground": true,
            "ticks": "",
            "zerolinecolor": "white"
           },
           "zaxis": {
            "backgroundcolor": "#E5ECF6",
            "gridcolor": "white",
            "gridwidth": 2,
            "linecolor": "white",
            "showbackground": true,
            "ticks": "",
            "zerolinecolor": "white"
           }
          },
          "shapedefaults": {
           "line": {
            "color": "#2a3f5f"
           }
          },
          "ternary": {
           "aaxis": {
            "gridcolor": "white",
            "linecolor": "white",
            "ticks": ""
           },
           "baxis": {
            "gridcolor": "white",
            "linecolor": "white",
            "ticks": ""
           },
           "bgcolor": "#E5ECF6",
           "caxis": {
            "gridcolor": "white",
            "linecolor": "white",
            "ticks": ""
           }
          },
          "title": {
           "x": 0.05
          },
          "xaxis": {
           "automargin": true,
           "gridcolor": "white",
           "linecolor": "white",
           "ticks": "",
           "title": {
            "standoff": 15
           },
           "zerolinecolor": "white",
           "zerolinewidth": 2
          },
          "yaxis": {
           "automargin": true,
           "gridcolor": "white",
           "linecolor": "white",
           "ticks": "",
           "title": {
            "standoff": 15
           },
           "zerolinecolor": "white",
           "zerolinewidth": 2
          }
         }
        },
        "title": {
         "text": "Residual plot of Health spending"
        },
        "xaxis": {
         "anchor": "y",
         "domain": [
          0,
          1
         ],
         "title": {
          "text": "Health spending"
         }
        },
        "yaxis": {
         "anchor": "x",
         "domain": [
          0,
          1
         ],
         "title": {
          "text": "Residuals"
         }
        }
       }
      }
     },
     "metadata": {},
     "output_type": "display_data"
    },
    {
     "data": {
      "application/vnd.plotly.v1+json": {
       "config": {
        "plotlyServerURL": "https://plot.ly"
       },
       "data": [
        {
         "hovertemplate": "Housing spending=%{x}<br>Residuals=%{y}<extra></extra>",
         "legendgroup": "",
         "marker": {
          "color": "#636efa",
          "symbol": "circle"
         },
         "mode": "markers",
         "name": "",
         "orientation": "v",
         "showlegend": false,
         "type": "scatter",
         "x": {
          "bdata": "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",
          "dtype": "f8"
         },
         "xaxis": "x",
         "y": {
          "bdata": "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",
          "dtype": "f8"
         },
         "yaxis": "y"
        }
       ],
       "layout": {
        "legend": {
         "tracegroupgap": 0
        },
        "template": {
         "data": {
          "bar": [
           {
            "error_x": {
             "color": "#2a3f5f"
            },
            "error_y": {
             "color": "#2a3f5f"
            },
            "marker": {
             "line": {
              "color": "#E5ECF6",
              "width": 0.5
             },
             "pattern": {
              "fillmode": "overlay",
              "size": 10,
              "solidity": 0.2
             }
            },
            "type": "bar"
           }
          ],
          "barpolar": [
           {
            "marker": {
             "line": {
              "color": "#E5ECF6",
              "width": 0.5
             },
             "pattern": {
              "fillmode": "overlay",
              "size": 10,
              "solidity": 0.2
             }
            },
            "type": "barpolar"
           }
          ],
          "carpet": [
           {
            "aaxis": {
             "endlinecolor": "#2a3f5f",
             "gridcolor": "white",
             "linecolor": "white",
             "minorgridcolor": "white",
             "startlinecolor": "#2a3f5f"
            },
            "baxis": {
             "endlinecolor": "#2a3f5f",
             "gridcolor": "white",
             "linecolor": "white",
             "minorgridcolor": "white",
             "startlinecolor": "#2a3f5f"
            },
            "type": "carpet"
           }
          ],
          "choropleth": [
           {
            "colorbar": {
             "outlinewidth": 0,
             "ticks": ""
            },
            "type": "choropleth"
           }
          ],
          "contour": [
           {
            "colorbar": {
             "outlinewidth": 0,
             "ticks": ""
            },
            "colorscale": [
             [
              0,
              "#0d0887"
             ],
             [
              0.1111111111111111,
              "#46039f"
             ],
             [
              0.2222222222222222,
              "#7201a8"
             ],
             [
              0.3333333333333333,
              "#9c179e"
             ],
             [
              0.4444444444444444,
              "#bd3786"
             ],
             [
              0.5555555555555556,
              "#d8576b"
             ],
             [
              0.6666666666666666,
              "#ed7953"
             ],
             [
              0.7777777777777778,
              "#fb9f3a"
             ],
             [
              0.8888888888888888,
              "#fdca26"
             ],
             [
              1,
              "#f0f921"
             ]
            ],
            "type": "contour"
           }
          ],
          "contourcarpet": [
           {
            "colorbar": {
             "outlinewidth": 0,
             "ticks": ""
            },
            "type": "contourcarpet"
           }
          ],
          "heatmap": [
           {
            "colorbar": {
             "outlinewidth": 0,
             "ticks": ""
            },
            "colorscale": [
             [
              0,
              "#0d0887"
             ],
             [
              0.1111111111111111,
              "#46039f"
             ],
             [
              0.2222222222222222,
              "#7201a8"
             ],
             [
              0.3333333333333333,
              "#9c179e"
             ],
             [
              0.4444444444444444,
              "#bd3786"
             ],
             [
              0.5555555555555556,
              "#d8576b"
             ],
             [
              0.6666666666666666,
              "#ed7953"
             ],
             [
              0.7777777777777778,
              "#fb9f3a"
             ],
             [
              0.8888888888888888,
              "#fdca26"
             ],
             [
              1,
              "#f0f921"
             ]
            ],
            "type": "heatmap"
           }
          ],
          "histogram": [
           {
            "marker": {
             "pattern": {
              "fillmode": "overlay",
              "size": 10,
              "solidity": 0.2
             }
            },
            "type": "histogram"
           }
          ],
          "histogram2d": [
           {
            "colorbar": {
             "outlinewidth": 0,
             "ticks": ""
            },
            "colorscale": [
             [
              0,
              "#0d0887"
             ],
             [
              0.1111111111111111,
              "#46039f"
             ],
             [
              0.2222222222222222,
              "#7201a8"
             ],
             [
              0.3333333333333333,
              "#9c179e"
             ],
             [
              0.4444444444444444,
              "#bd3786"
             ],
             [
              0.5555555555555556,
              "#d8576b"
             ],
             [
              0.6666666666666666,
              "#ed7953"
             ],
             [
              0.7777777777777778,
              "#fb9f3a"
             ],
             [
              0.8888888888888888,
              "#fdca26"
             ],
             [
              1,
              "#f0f921"
             ]
            ],
            "type": "histogram2d"
           }
          ],
          "histogram2dcontour": [
           {
            "colorbar": {
             "outlinewidth": 0,
             "ticks": ""
            },
            "colorscale": [
             [
              0,
              "#0d0887"
             ],
             [
              0.1111111111111111,
              "#46039f"
             ],
             [
              0.2222222222222222,
              "#7201a8"
             ],
             [
              0.3333333333333333,
              "#9c179e"
             ],
             [
              0.4444444444444444,
              "#bd3786"
             ],
             [
              0.5555555555555556,
              "#d8576b"
             ],
             [
              0.6666666666666666,
              "#ed7953"
             ],
             [
              0.7777777777777778,
              "#fb9f3a"
             ],
             [
              0.8888888888888888,
              "#fdca26"
             ],
             [
              1,
              "#f0f921"
             ]
            ],
            "type": "histogram2dcontour"
           }
          ],
          "mesh3d": [
           {
            "colorbar": {
             "outlinewidth": 0,
             "ticks": ""
            },
            "type": "mesh3d"
           }
          ],
          "parcoords": [
           {
            "line": {
             "colorbar": {
              "outlinewidth": 0,
              "ticks": ""
             }
            },
            "type": "parcoords"
           }
          ],
          "pie": [
           {
            "automargin": true,
            "type": "pie"
           }
          ],
          "scatter": [
           {
            "fillpattern": {
             "fillmode": "overlay",
             "size": 10,
             "solidity": 0.2
            },
            "type": "scatter"
           }
          ],
          "scatter3d": [
           {
            "line": {
             "colorbar": {
              "outlinewidth": 0,
              "ticks": ""
             }
            },
            "marker": {
             "colorbar": {
              "outlinewidth": 0,
              "ticks": ""
             }
            },
            "type": "scatter3d"
           }
          ],
          "scattercarpet": [
           {
            "marker": {
             "colorbar": {
              "outlinewidth": 0,
              "ticks": ""
             }
            },
            "type": "scattercarpet"
           }
          ],
          "scattergeo": [
           {
            "marker": {
             "colorbar": {
              "outlinewidth": 0,
              "ticks": ""
             }
            },
            "type": "scattergeo"
           }
          ],
          "scattergl": [
           {
            "marker": {
             "colorbar": {
              "outlinewidth": 0,
              "ticks": ""
             }
            },
            "type": "scattergl"
           }
          ],
          "scattermap": [
           {
            "marker": {
             "colorbar": {
              "outlinewidth": 0,
              "ticks": ""
             }
            },
            "type": "scattermap"
           }
          ],
          "scattermapbox": [
           {
            "marker": {
             "colorbar": {
              "outlinewidth": 0,
              "ticks": ""
             }
            },
            "type": "scattermapbox"
           }
          ],
          "scatterpolar": [
           {
            "marker": {
             "colorbar": {
              "outlinewidth": 0,
              "ticks": ""
             }
            },
            "type": "scatterpolar"
           }
          ],
          "scatterpolargl": [
           {
            "marker": {
             "colorbar": {
              "outlinewidth": 0,
              "ticks": ""
             }
            },
            "type": "scatterpolargl"
           }
          ],
          "scatterternary": [
           {
            "marker": {
             "colorbar": {
              "outlinewidth": 0,
              "ticks": ""
             }
            },
            "type": "scatterternary"
           }
          ],
          "surface": [
           {
            "colorbar": {
             "outlinewidth": 0,
             "ticks": ""
            },
            "colorscale": [
             [
              0,
              "#0d0887"
             ],
             [
              0.1111111111111111,
              "#46039f"
             ],
             [
              0.2222222222222222,
              "#7201a8"
             ],
             [
              0.3333333333333333,
              "#9c179e"
             ],
             [
              0.4444444444444444,
              "#bd3786"
             ],
             [
              0.5555555555555556,
              "#d8576b"
             ],
             [
              0.6666666666666666,
              "#ed7953"
             ],
             [
              0.7777777777777778,
              "#fb9f3a"
             ],
             [
              0.8888888888888888,
              "#fdca26"
             ],
             [
              1,
              "#f0f921"
             ]
            ],
            "type": "surface"
           }
          ],
          "table": [
           {
            "cells": {
             "fill": {
              "color": "#EBF0F8"
             },
             "line": {
              "color": "white"
             }
            },
            "header": {
             "fill": {
              "color": "#C8D4E3"
             },
             "line": {
              "color": "white"
             }
            },
            "type": "table"
           }
          ]
         },
         "layout": {
          "annotationdefaults": {
           "arrowcolor": "#2a3f5f",
           "arrowhead": 0,
           "arrowwidth": 1
          },
          "autotypenumbers": "strict",
          "coloraxis": {
           "colorbar": {
            "outlinewidth": 0,
            "ticks": ""
           }
          },
          "colorscale": {
           "diverging": [
            [
             0,
             "#8e0152"
            ],
            [
             0.1,
             "#c51b7d"
            ],
            [
             0.2,
             "#de77ae"
            ],
            [
             0.3,
             "#f1b6da"
            ],
            [
             0.4,
             "#fde0ef"
            ],
            [
             0.5,
             "#f7f7f7"
            ],
            [
             0.6,
             "#e6f5d0"
            ],
            [
             0.7,
             "#b8e186"
            ],
            [
             0.8,
             "#7fbc41"
            ],
            [
             0.9,
             "#4d9221"
            ],
            [
             1,
             "#276419"
            ]
           ],
           "sequential": [
            [
             0,
             "#0d0887"
            ],
            [
             0.1111111111111111,
             "#46039f"
            ],
            [
             0.2222222222222222,
             "#7201a8"
            ],
            [
             0.3333333333333333,
             "#9c179e"
            ],
            [
             0.4444444444444444,
             "#bd3786"
            ],
            [
             0.5555555555555556,
             "#d8576b"
            ],
            [
             0.6666666666666666,
             "#ed7953"
            ],
            [
             0.7777777777777778,
             "#fb9f3a"
            ],
            [
             0.8888888888888888,
             "#fdca26"
            ],
            [
             1,
             "#f0f921"
            ]
           ],
           "sequentialminus": [
            [
             0,
             "#0d0887"
            ],
            [
             0.1111111111111111,
             "#46039f"
            ],
            [
             0.2222222222222222,
             "#7201a8"
            ],
            [
             0.3333333333333333,
             "#9c179e"
            ],
            [
             0.4444444444444444,
             "#bd3786"
            ],
            [
             0.5555555555555556,
             "#d8576b"
            ],
            [
             0.6666666666666666,
             "#ed7953"
            ],
            [
             0.7777777777777778,
             "#fb9f3a"
            ],
            [
             0.8888888888888888,
             "#fdca26"
            ],
            [
             1,
             "#f0f921"
            ]
           ]
          },
          "colorway": [
           "#636efa",
           "#EF553B",
           "#00cc96",
           "#ab63fa",
           "#FFA15A",
           "#19d3f3",
           "#FF6692",
           "#B6E880",
           "#FF97FF",
           "#FECB52"
          ],
          "font": {
           "color": "#2a3f5f"
          },
          "geo": {
           "bgcolor": "white",
           "lakecolor": "white",
           "landcolor": "#E5ECF6",
           "showlakes": true,
           "showland": true,
           "subunitcolor": "white"
          },
          "hoverlabel": {
           "align": "left"
          },
          "hovermode": "closest",
          "mapbox": {
           "style": "light"
          },
          "paper_bgcolor": "white",
          "plot_bgcolor": "#E5ECF6",
          "polar": {
           "angularaxis": {
            "gridcolor": "white",
            "linecolor": "white",
            "ticks": ""
           },
           "bgcolor": "#E5ECF6",
           "radialaxis": {
            "gridcolor": "white",
            "linecolor": "white",
            "ticks": ""
           }
          },
          "scene": {
           "xaxis": {
            "backgroundcolor": "#E5ECF6",
            "gridcolor": "white",
            "gridwidth": 2,
            "linecolor": "white",
            "showbackground": true,
            "ticks": "",
            "zerolinecolor": "white"
           },
           "yaxis": {
            "backgroundcolor": "#E5ECF6",
            "gridcolor": "white",
            "gridwidth": 2,
            "linecolor": "white",
            "showbackground": true,
            "ticks": "",
            "zerolinecolor": "white"
           },
           "zaxis": {
            "backgroundcolor": "#E5ECF6",
            "gridcolor": "white",
            "gridwidth": 2,
            "linecolor": "white",
            "showbackground": true,
            "ticks": "",
            "zerolinecolor": "white"
           }
          },
          "shapedefaults": {
           "line": {
            "color": "#2a3f5f"
           }
          },
          "ternary": {
           "aaxis": {
            "gridcolor": "white",
            "linecolor": "white",
            "ticks": ""
           },
           "baxis": {
            "gridcolor": "white",
            "linecolor": "white",
            "ticks": ""
           },
           "bgcolor": "#E5ECF6",
           "caxis": {
            "gridcolor": "white",
            "linecolor": "white",
            "ticks": ""
           }
          },
          "title": {
           "x": 0.05
          },
          "xaxis": {
           "automargin": true,
           "gridcolor": "white",
           "linecolor": "white",
           "ticks": "",
           "title": {
            "standoff": 15
           },
           "zerolinecolor": "white",
           "zerolinewidth": 2
          },
          "yaxis": {
           "automargin": true,
           "gridcolor": "white",
           "linecolor": "white",
           "ticks": "",
           "title": {
            "standoff": 15
           },
           "zerolinecolor": "white",
           "zerolinewidth": 2
          }
         }
        },
        "title": {
         "text": "Residual plot of Housing spending"
        },
        "xaxis": {
         "anchor": "y",
         "domain": [
          0,
          1
         ],
         "title": {
          "text": "Housing spending"
         }
        },
        "yaxis": {
         "anchor": "x",
         "domain": [
          0,
          1
         ],
         "title": {
          "text": "Residuals"
         }
        }
       }
      }
     },
     "metadata": {},
     "output_type": "display_data"
    },
    {
     "data": {
      "application/vnd.plotly.v1+json": {
       "config": {
        "plotlyServerURL": "https://plot.ly"
       },
       "data": [
        {
         "hovertemplate": "Community development spending=%{x}<br>Residuals=%{y}<extra></extra>",
         "legendgroup": "",
         "marker": {
          "color": "#636efa",
          "symbol": "circle"
         },
         "mode": "markers",
         "name": "",
         "orientation": "v",
         "showlegend": false,
         "type": "scatter",
         "x": {
          "bdata": "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",
          "dtype": "f8"
         },
         "xaxis": "x",
         "y": {
          "bdata": "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",
          "dtype": "f8"
         },
         "yaxis": "y"
        }
       ],
       "layout": {
        "legend": {
         "tracegroupgap": 0
        },
        "template": {
         "data": {
          "bar": [
           {
            "error_x": {
             "color": "#2a3f5f"
            },
            "error_y": {
             "color": "#2a3f5f"
            },
            "marker": {
             "line": {
              "color": "#E5ECF6",
              "width": 0.5
             },
             "pattern": {
              "fillmode": "overlay",
              "size": 10,
              "solidity": 0.2
             }
            },
            "type": "bar"
           }
          ],
          "barpolar": [
           {
            "marker": {
             "line": {
              "color": "#E5ECF6",
              "width": 0.5
             },
             "pattern": {
              "fillmode": "overlay",
              "size": 10,
              "solidity": 0.2
             }
            },
            "type": "barpolar"
           }
          ],
          "carpet": [
           {
            "aaxis": {
             "endlinecolor": "#2a3f5f",
             "gridcolor": "white",
             "linecolor": "white",
             "minorgridcolor": "white",
             "startlinecolor": "#2a3f5f"
            },
            "baxis": {
             "endlinecolor": "#2a3f5f",
             "gridcolor": "white",
             "linecolor": "white",
             "minorgridcolor": "white",
             "startlinecolor": "#2a3f5f"
            },
            "type": "carpet"
           }
          ],
          "choropleth": [
           {
            "colorbar": {
             "outlinewidth": 0,
             "ticks": ""
            },
            "type": "choropleth"
           }
          ],
          "contour": [
           {
            "colorbar": {
             "outlinewidth": 0,
             "ticks": ""
            },
            "colorscale": [
             [
              0,
              "#0d0887"
             ],
             [
              0.1111111111111111,
              "#46039f"
             ],
             [
              0.2222222222222222,
              "#7201a8"
             ],
             [
              0.3333333333333333,
              "#9c179e"
             ],
             [
              0.4444444444444444,
              "#bd3786"
             ],
             [
              0.5555555555555556,
              "#d8576b"
             ],
             [
              0.6666666666666666,
              "#ed7953"
             ],
             [
              0.7777777777777778,
              "#fb9f3a"
             ],
             [
              0.8888888888888888,
              "#fdca26"
             ],
             [
              1,
              "#f0f921"
             ]
            ],
            "type": "contour"
           }
          ],
          "contourcarpet": [
           {
            "colorbar": {
             "outlinewidth": 0,
             "ticks": ""
            },
            "type": "contourcarpet"
           }
          ],
          "heatmap": [
           {
            "colorbar": {
             "outlinewidth": 0,
             "ticks": ""
            },
            "colorscale": [
             [
              0,
              "#0d0887"
             ],
             [
              0.1111111111111111,
              "#46039f"
             ],
             [
              0.2222222222222222,
              "#7201a8"
             ],
             [
              0.3333333333333333,
              "#9c179e"
             ],
             [
              0.4444444444444444,
              "#bd3786"
             ],
             [
              0.5555555555555556,
              "#d8576b"
             ],
             [
              0.6666666666666666,
              "#ed7953"
             ],
             [
              0.7777777777777778,
              "#fb9f3a"
             ],
             [
              0.8888888888888888,
              "#fdca26"
             ],
             [
              1,
              "#f0f921"
             ]
            ],
            "type": "heatmap"
           }
          ],
          "histogram": [
           {
            "marker": {
             "pattern": {
              "fillmode": "overlay",
              "size": 10,
              "solidity": 0.2
             }
            },
            "type": "histogram"
           }
          ],
          "histogram2d": [
           {
            "colorbar": {
             "outlinewidth": 0,
             "ticks": ""
            },
            "colorscale": [
             [
              0,
              "#0d0887"
             ],
             [
              0.1111111111111111,
              "#46039f"
             ],
             [
              0.2222222222222222,
              "#7201a8"
             ],
             [
              0.3333333333333333,
              "#9c179e"
             ],
             [
              0.4444444444444444,
              "#bd3786"
             ],
             [
              0.5555555555555556,
              "#d8576b"
             ],
             [
              0.6666666666666666,
              "#ed7953"
             ],
             [
              0.7777777777777778,
              "#fb9f3a"
             ],
             [
              0.8888888888888888,
              "#fdca26"
             ],
             [
              1,
              "#f0f921"
             ]
            ],
            "type": "histogram2d"
           }
          ],
          "histogram2dcontour": [
           {
            "colorbar": {
             "outlinewidth": 0,
             "ticks": ""
            },
            "colorscale": [
             [
              0,
              "#0d0887"
             ],
             [
              0.1111111111111111,
              "#46039f"
             ],
             [
              0.2222222222222222,
              "#7201a8"
             ],
             [
              0.3333333333333333,
              "#9c179e"
             ],
             [
              0.4444444444444444,
              "#bd3786"
             ],
             [
              0.5555555555555556,
              "#d8576b"
             ],
             [
              0.6666666666666666,
              "#ed7953"
             ],
             [
              0.7777777777777778,
              "#fb9f3a"
             ],
             [
              0.8888888888888888,
              "#fdca26"
             ],
             [
              1,
              "#f0f921"
             ]
            ],
            "type": "histogram2dcontour"
           }
          ],
          "mesh3d": [
           {
            "colorbar": {
             "outlinewidth": 0,
             "ticks": ""
            },
            "type": "mesh3d"
           }
          ],
          "parcoords": [
           {
            "line": {
             "colorbar": {
              "outlinewidth": 0,
              "ticks": ""
             }
            },
            "type": "parcoords"
           }
          ],
          "pie": [
           {
            "automargin": true,
            "type": "pie"
           }
          ],
          "scatter": [
           {
            "fillpattern": {
             "fillmode": "overlay",
             "size": 10,
             "solidity": 0.2
            },
            "type": "scatter"
           }
          ],
          "scatter3d": [
           {
            "line": {
             "colorbar": {
              "outlinewidth": 0,
              "ticks": ""
             }
            },
            "marker": {
             "colorbar": {
              "outlinewidth": 0,
              "ticks": ""
             }
            },
            "type": "scatter3d"
           }
          ],
          "scattercarpet": [
           {
            "marker": {
             "colorbar": {
              "outlinewidth": 0,
              "ticks": ""
             }
            },
            "type": "scattercarpet"
           }
          ],
          "scattergeo": [
           {
            "marker": {
             "colorbar": {
              "outlinewidth": 0,
              "ticks": ""
             }
            },
            "type": "scattergeo"
           }
          ],
          "scattergl": [
           {
            "marker": {
             "colorbar": {
              "outlinewidth": 0,
              "ticks": ""
             }
            },
            "type": "scattergl"
           }
          ],
          "scattermap": [
           {
            "marker": {
             "colorbar": {
              "outlinewidth": 0,
              "ticks": ""
             }
            },
            "type": "scattermap"
           }
          ],
          "scattermapbox": [
           {
            "marker": {
             "colorbar": {
              "outlinewidth": 0,
              "ticks": ""
             }
            },
            "type": "scattermapbox"
           }
          ],
          "scatterpolar": [
           {
            "marker": {
             "colorbar": {
              "outlinewidth": 0,
              "ticks": ""
             }
            },
            "type": "scatterpolar"
           }
          ],
          "scatterpolargl": [
           {
            "marker": {
             "colorbar": {
              "outlinewidth": 0,
              "ticks": ""
             }
            },
            "type": "scatterpolargl"
           }
          ],
          "scatterternary": [
           {
            "marker": {
             "colorbar": {
              "outlinewidth": 0,
              "ticks": ""
             }
            },
            "type": "scatterternary"
           }
          ],
          "surface": [
           {
            "colorbar": {
             "outlinewidth": 0,
             "ticks": ""
            },
            "colorscale": [
             [
              0,
              "#0d0887"
             ],
             [
              0.1111111111111111,
              "#46039f"
             ],
             [
              0.2222222222222222,
              "#7201a8"
             ],
             [
              0.3333333333333333,
              "#9c179e"
             ],
             [
              0.4444444444444444,
              "#bd3786"
             ],
             [
              0.5555555555555556,
              "#d8576b"
             ],
             [
              0.6666666666666666,
              "#ed7953"
             ],
             [
              0.7777777777777778,
              "#fb9f3a"
             ],
             [
              0.8888888888888888,
              "#fdca26"
             ],
             [
              1,
              "#f0f921"
             ]
            ],
            "type": "surface"
           }
          ],
          "table": [
           {
            "cells": {
             "fill": {
              "color": "#EBF0F8"
             },
             "line": {
              "color": "white"
             }
            },
            "header": {
             "fill": {
              "color": "#C8D4E3"
             },
             "line": {
              "color": "white"
             }
            },
            "type": "table"
           }
          ]
         },
         "layout": {
          "annotationdefaults": {
           "arrowcolor": "#2a3f5f",
           "arrowhead": 0,
           "arrowwidth": 1
          },
          "autotypenumbers": "strict",
          "coloraxis": {
           "colorbar": {
            "outlinewidth": 0,
            "ticks": ""
           }
          },
          "colorscale": {
           "diverging": [
            [
             0,
             "#8e0152"
            ],
            [
             0.1,
             "#c51b7d"
            ],
            [
             0.2,
             "#de77ae"
            ],
            [
             0.3,
             "#f1b6da"
            ],
            [
             0.4,
             "#fde0ef"
            ],
            [
             0.5,
             "#f7f7f7"
            ],
            [
             0.6,
             "#e6f5d0"
            ],
            [
             0.7,
             "#b8e186"
            ],
            [
             0.8,
             "#7fbc41"
            ],
            [
             0.9,
             "#4d9221"
            ],
            [
             1,
             "#276419"
            ]
           ],
           "sequential": [
            [
             0,
             "#0d0887"
            ],
            [
             0.1111111111111111,
             "#46039f"
            ],
            [
             0.2222222222222222,
             "#7201a8"
            ],
            [
             0.3333333333333333,
             "#9c179e"
            ],
            [
             0.4444444444444444,
             "#bd3786"
            ],
            [
             0.5555555555555556,
             "#d8576b"
            ],
            [
             0.6666666666666666,
             "#ed7953"
            ],
            [
             0.7777777777777778,
             "#fb9f3a"
            ],
            [
             0.8888888888888888,
             "#fdca26"
            ],
            [
             1,
             "#f0f921"
            ]
           ],
           "sequentialminus": [
            [
             0,
             "#0d0887"
            ],
            [
             0.1111111111111111,
             "#46039f"
            ],
            [
             0.2222222222222222,
             "#7201a8"
            ],
            [
             0.3333333333333333,
             "#9c179e"
            ],
            [
             0.4444444444444444,
             "#bd3786"
            ],
            [
             0.5555555555555556,
             "#d8576b"
            ],
            [
             0.6666666666666666,
             "#ed7953"
            ],
            [
             0.7777777777777778,
             "#fb9f3a"
            ],
            [
             0.8888888888888888,
             "#fdca26"
            ],
            [
             1,
             "#f0f921"
            ]
           ]
          },
          "colorway": [
           "#636efa",
           "#EF553B",
           "#00cc96",
           "#ab63fa",
           "#FFA15A",
           "#19d3f3",
           "#FF6692",
           "#B6E880",
           "#FF97FF",
           "#FECB52"
          ],
          "font": {
           "color": "#2a3f5f"
          },
          "geo": {
           "bgcolor": "white",
           "lakecolor": "white",
           "landcolor": "#E5ECF6",
           "showlakes": true,
           "showland": true,
           "subunitcolor": "white"
          },
          "hoverlabel": {
           "align": "left"
          },
          "hovermode": "closest",
          "mapbox": {
           "style": "light"
          },
          "paper_bgcolor": "white",
          "plot_bgcolor": "#E5ECF6",
          "polar": {
           "angularaxis": {
            "gridcolor": "white",
            "linecolor": "white",
            "ticks": ""
           },
           "bgcolor": "#E5ECF6",
           "radialaxis": {
            "gridcolor": "white",
            "linecolor": "white",
            "ticks": ""
           }
          },
          "scene": {
           "xaxis": {
            "backgroundcolor": "#E5ECF6",
            "gridcolor": "white",
            "gridwidth": 2,
            "linecolor": "white",
            "showbackground": true,
            "ticks": "",
            "zerolinecolor": "white"
           },
           "yaxis": {
            "backgroundcolor": "#E5ECF6",
            "gridcolor": "white",
            "gridwidth": 2,
            "linecolor": "white",
            "showbackground": true,
            "ticks": "",
            "zerolinecolor": "white"
           },
           "zaxis": {
            "backgroundcolor": "#E5ECF6",
            "gridcolor": "white",
            "gridwidth": 2,
            "linecolor": "white",
            "showbackground": true,
            "ticks": "",
            "zerolinecolor": "white"
           }
          },
          "shapedefaults": {
           "line": {
            "color": "#2a3f5f"
           }
          },
          "ternary": {
           "aaxis": {
            "gridcolor": "white",
            "linecolor": "white",
            "ticks": ""
           },
           "baxis": {
            "gridcolor": "white",
            "linecolor": "white",
            "ticks": ""
           },
           "bgcolor": "#E5ECF6",
           "caxis": {
            "gridcolor": "white",
            "linecolor": "white",
            "ticks": ""
           }
          },
          "title": {
           "x": 0.05
          },
          "xaxis": {
           "automargin": true,
           "gridcolor": "white",
           "linecolor": "white",
           "ticks": "",
           "title": {
            "standoff": 15
           },
           "zerolinecolor": "white",
           "zerolinewidth": 2
          },
          "yaxis": {
           "automargin": true,
           "gridcolor": "white",
           "linecolor": "white",
           "ticks": "",
           "title": {
            "standoff": 15
           },
           "zerolinecolor": "white",
           "zerolinewidth": 2
          }
         }
        },
        "title": {
         "text": "Residual plot of Community development spending"
        },
        "xaxis": {
         "anchor": "y",
         "domain": [
          0,
          1
         ],
         "title": {
          "text": "Community development spending"
         }
        },
        "yaxis": {
         "anchor": "x",
         "domain": [
          0,
          1
         ],
         "title": {
          "text": "Residuals"
         }
        }
       }
      }
     },
     "metadata": {},
     "output_type": "display_data"
    },
    {
     "data": {
      "application/vnd.plotly.v1+json": {
       "config": {
        "plotlyServerURL": "https://plot.ly"
       },
       "data": [
        {
         "hovertemplate": "IRLT=%{x}<br>Residuals=%{y}<extra></extra>",
         "legendgroup": "",
         "marker": {
          "color": "#636efa",
          "symbol": "circle"
         },
         "mode": "markers",
         "name": "",
         "orientation": "v",
         "showlegend": false,
         "type": "scatter",
         "x": {
          "bdata": "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",
          "dtype": "f8"
         },
         "xaxis": "x",
         "y": {
          "bdata": "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",
          "dtype": "f8"
         },
         "yaxis": "y"
        }
       ],
       "layout": {
        "legend": {
         "tracegroupgap": 0
        },
        "template": {
         "data": {
          "bar": [
           {
            "error_x": {
             "color": "#2a3f5f"
            },
            "error_y": {
             "color": "#2a3f5f"
            },
            "marker": {
             "line": {
              "color": "#E5ECF6",
              "width": 0.5
             },
             "pattern": {
              "fillmode": "overlay",
              "size": 10,
              "solidity": 0.2
             }
            },
            "type": "bar"
           }
          ],
          "barpolar": [
           {
            "marker": {
             "line": {
              "color": "#E5ECF6",
              "width": 0.5
             },
             "pattern": {
              "fillmode": "overlay",
              "size": 10,
              "solidity": 0.2
             }
            },
            "type": "barpolar"
           }
          ],
          "carpet": [
           {
            "aaxis": {
             "endlinecolor": "#2a3f5f",
             "gridcolor": "white",
             "linecolor": "white",
             "minorgridcolor": "white",
             "startlinecolor": "#2a3f5f"
            },
            "baxis": {
             "endlinecolor": "#2a3f5f",
             "gridcolor": "white",
             "linecolor": "white",
             "minorgridcolor": "white",
             "startlinecolor": "#2a3f5f"
            },
            "type": "carpet"
           }
          ],
          "choropleth": [
           {
            "colorbar": {
             "outlinewidth": 0,
             "ticks": ""
            },
            "type": "choropleth"
           }
          ],
          "contour": [
           {
            "colorbar": {
             "outlinewidth": 0,
             "ticks": ""
            },
            "colorscale": [
             [
              0,
              "#0d0887"
             ],
             [
              0.1111111111111111,
              "#46039f"
             ],
             [
              0.2222222222222222,
              "#7201a8"
             ],
             [
              0.3333333333333333,
              "#9c179e"
             ],
             [
              0.4444444444444444,
              "#bd3786"
             ],
             [
              0.5555555555555556,
              "#d8576b"
             ],
             [
              0.6666666666666666,
              "#ed7953"
             ],
             [
              0.7777777777777778,
              "#fb9f3a"
             ],
             [
              0.8888888888888888,
              "#fdca26"
             ],
             [
              1,
              "#f0f921"
             ]
            ],
            "type": "contour"
           }
          ],
          "contourcarpet": [
           {
            "colorbar": {
             "outlinewidth": 0,
             "ticks": ""
            },
            "type": "contourcarpet"
           }
          ],
          "heatmap": [
           {
            "colorbar": {
             "outlinewidth": 0,
             "ticks": ""
            },
            "colorscale": [
             [
              0,
              "#0d0887"
             ],
             [
              0.1111111111111111,
              "#46039f"
             ],
             [
              0.2222222222222222,
              "#7201a8"
             ],
             [
              0.3333333333333333,
              "#9c179e"
             ],
             [
              0.4444444444444444,
              "#bd3786"
             ],
             [
              0.5555555555555556,
              "#d8576b"
             ],
             [
              0.6666666666666666,
              "#ed7953"
             ],
             [
              0.7777777777777778,
              "#fb9f3a"
             ],
             [
              0.8888888888888888,
              "#fdca26"
             ],
             [
              1,
              "#f0f921"
             ]
            ],
            "type": "heatmap"
           }
          ],
          "histogram": [
           {
            "marker": {
             "pattern": {
              "fillmode": "overlay",
              "size": 10,
              "solidity": 0.2
             }
            },
            "type": "histogram"
           }
          ],
          "histogram2d": [
           {
            "colorbar": {
             "outlinewidth": 0,
             "ticks": ""
            },
            "colorscale": [
             [
              0,
              "#0d0887"
             ],
             [
              0.1111111111111111,
              "#46039f"
             ],
             [
              0.2222222222222222,
              "#7201a8"
             ],
             [
              0.3333333333333333,
              "#9c179e"
             ],
             [
              0.4444444444444444,
              "#bd3786"
             ],
             [
              0.5555555555555556,
              "#d8576b"
             ],
             [
              0.6666666666666666,
              "#ed7953"
             ],
             [
              0.7777777777777778,
              "#fb9f3a"
             ],
             [
              0.8888888888888888,
              "#fdca26"
             ],
             [
              1,
              "#f0f921"
             ]
            ],
            "type": "histogram2d"
           }
          ],
          "histogram2dcontour": [
           {
            "colorbar": {
             "outlinewidth": 0,
             "ticks": ""
            },
            "colorscale": [
             [
              0,
              "#0d0887"
             ],
             [
              0.1111111111111111,
              "#46039f"
             ],
             [
              0.2222222222222222,
              "#7201a8"
             ],
             [
              0.3333333333333333,
              "#9c179e"
             ],
             [
              0.4444444444444444,
              "#bd3786"
             ],
             [
              0.5555555555555556,
              "#d8576b"
             ],
             [
              0.6666666666666666,
              "#ed7953"
             ],
             [
              0.7777777777777778,
              "#fb9f3a"
             ],
             [
              0.8888888888888888,
              "#fdca26"
             ],
             [
              1,
              "#f0f921"
             ]
            ],
            "type": "histogram2dcontour"
           }
          ],
          "mesh3d": [
           {
            "colorbar": {
             "outlinewidth": 0,
             "ticks": ""
            },
            "type": "mesh3d"
           }
          ],
          "parcoords": [
           {
            "line": {
             "colorbar": {
              "outlinewidth": 0,
              "ticks": ""
             }
            },
            "type": "parcoords"
           }
          ],
          "pie": [
           {
            "automargin": true,
            "type": "pie"
           }
          ],
          "scatter": [
           {
            "fillpattern": {
             "fillmode": "overlay",
             "size": 10,
             "solidity": 0.2
            },
            "type": "scatter"
           }
          ],
          "scatter3d": [
           {
            "line": {
             "colorbar": {
              "outlinewidth": 0,
              "ticks": ""
             }
            },
            "marker": {
             "colorbar": {
              "outlinewidth": 0,
              "ticks": ""
             }
            },
            "type": "scatter3d"
           }
          ],
          "scattercarpet": [
           {
            "marker": {
             "colorbar": {
              "outlinewidth": 0,
              "ticks": ""
             }
            },
            "type": "scattercarpet"
           }
          ],
          "scattergeo": [
           {
            "marker": {
             "colorbar": {
              "outlinewidth": 0,
              "ticks": ""
             }
            },
            "type": "scattergeo"
           }
          ],
          "scattergl": [
           {
            "marker": {
             "colorbar": {
              "outlinewidth": 0,
              "ticks": ""
             }
            },
            "type": "scattergl"
           }
          ],
          "scattermap": [
           {
            "marker": {
             "colorbar": {
              "outlinewidth": 0,
              "ticks": ""
             }
            },
            "type": "scattermap"
           }
          ],
          "scattermapbox": [
           {
            "marker": {
             "colorbar": {
              "outlinewidth": 0,
              "ticks": ""
             }
            },
            "type": "scattermapbox"
           }
          ],
          "scatterpolar": [
           {
            "marker": {
             "colorbar": {
              "outlinewidth": 0,
              "ticks": ""
             }
            },
            "type": "scatterpolar"
           }
          ],
          "scatterpolargl": [
           {
            "marker": {
             "colorbar": {
              "outlinewidth": 0,
              "ticks": ""
             }
            },
            "type": "scatterpolargl"
           }
          ],
          "scatterternary": [
           {
            "marker": {
             "colorbar": {
              "outlinewidth": 0,
              "ticks": ""
             }
            },
            "type": "scatterternary"
           }
          ],
          "surface": [
           {
            "colorbar": {
             "outlinewidth": 0,
             "ticks": ""
            },
            "colorscale": [
             [
              0,
              "#0d0887"
             ],
             [
              0.1111111111111111,
              "#46039f"
             ],
             [
              0.2222222222222222,
              "#7201a8"
             ],
             [
              0.3333333333333333,
              "#9c179e"
             ],
             [
              0.4444444444444444,
              "#bd3786"
             ],
             [
              0.5555555555555556,
              "#d8576b"
             ],
             [
              0.6666666666666666,
              "#ed7953"
             ],
             [
              0.7777777777777778,
              "#fb9f3a"
             ],
             [
              0.8888888888888888,
              "#fdca26"
             ],
             [
              1,
              "#f0f921"
             ]
            ],
            "type": "surface"
           }
          ],
          "table": [
           {
            "cells": {
             "fill": {
              "color": "#EBF0F8"
             },
             "line": {
              "color": "white"
             }
            },
            "header": {
             "fill": {
              "color": "#C8D4E3"
             },
             "line": {
              "color": "white"
             }
            },
            "type": "table"
           }
          ]
         },
         "layout": {
          "annotationdefaults": {
           "arrowcolor": "#2a3f5f",
           "arrowhead": 0,
           "arrowwidth": 1
          },
          "autotypenumbers": "strict",
          "coloraxis": {
           "colorbar": {
            "outlinewidth": 0,
            "ticks": ""
           }
          },
          "colorscale": {
           "diverging": [
            [
             0,
             "#8e0152"
            ],
            [
             0.1,
             "#c51b7d"
            ],
            [
             0.2,
             "#de77ae"
            ],
            [
             0.3,
             "#f1b6da"
            ],
            [
             0.4,
             "#fde0ef"
            ],
            [
             0.5,
             "#f7f7f7"
            ],
            [
             0.6,
             "#e6f5d0"
            ],
            [
             0.7,
             "#b8e186"
            ],
            [
             0.8,
             "#7fbc41"
            ],
            [
             0.9,
             "#4d9221"
            ],
            [
             1,
             "#276419"
            ]
           ],
           "sequential": [
            [
             0,
             "#0d0887"
            ],
            [
             0.1111111111111111,
             "#46039f"
            ],
            [
             0.2222222222222222,
             "#7201a8"
            ],
            [
             0.3333333333333333,
             "#9c179e"
            ],
            [
             0.4444444444444444,
             "#bd3786"
            ],
            [
             0.5555555555555556,
             "#d8576b"
            ],
            [
             0.6666666666666666,
             "#ed7953"
            ],
            [
             0.7777777777777778,
             "#fb9f3a"
            ],
            [
             0.8888888888888888,
             "#fdca26"
            ],
            [
             1,
             "#f0f921"
            ]
           ],
           "sequentialminus": [
            [
             0,
             "#0d0887"
            ],
            [
             0.1111111111111111,
             "#46039f"
            ],
            [
             0.2222222222222222,
             "#7201a8"
            ],
            [
             0.3333333333333333,
             "#9c179e"
            ],
            [
             0.4444444444444444,
             "#bd3786"
            ],
            [
             0.5555555555555556,
             "#d8576b"
            ],
            [
             0.6666666666666666,
             "#ed7953"
            ],
            [
             0.7777777777777778,
             "#fb9f3a"
            ],
            [
             0.8888888888888888,
             "#fdca26"
            ],
            [
             1,
             "#f0f921"
            ]
           ]
          },
          "colorway": [
           "#636efa",
           "#EF553B",
           "#00cc96",
           "#ab63fa",
           "#FFA15A",
           "#19d3f3",
           "#FF6692",
           "#B6E880",
           "#FF97FF",
           "#FECB52"
          ],
          "font": {
           "color": "#2a3f5f"
          },
          "geo": {
           "bgcolor": "white",
           "lakecolor": "white",
           "landcolor": "#E5ECF6",
           "showlakes": true,
           "showland": true,
           "subunitcolor": "white"
          },
          "hoverlabel": {
           "align": "left"
          },
          "hovermode": "closest",
          "mapbox": {
           "style": "light"
          },
          "paper_bgcolor": "white",
          "plot_bgcolor": "#E5ECF6",
          "polar": {
           "angularaxis": {
            "gridcolor": "white",
            "linecolor": "white",
            "ticks": ""
           },
           "bgcolor": "#E5ECF6",
           "radialaxis": {
            "gridcolor": "white",
            "linecolor": "white",
            "ticks": ""
           }
          },
          "scene": {
           "xaxis": {
            "backgroundcolor": "#E5ECF6",
            "gridcolor": "white",
            "gridwidth": 2,
            "linecolor": "white",
            "showbackground": true,
            "ticks": "",
            "zerolinecolor": "white"
           },
           "yaxis": {
            "backgroundcolor": "#E5ECF6",
            "gridcolor": "white",
            "gridwidth": 2,
            "linecolor": "white",
            "showbackground": true,
            "ticks": "",
            "zerolinecolor": "white"
           },
           "zaxis": {
            "backgroundcolor": "#E5ECF6",
            "gridcolor": "white",
            "gridwidth": 2,
            "linecolor": "white",
            "showbackground": true,
            "ticks": "",
            "zerolinecolor": "white"
           }
          },
          "shapedefaults": {
           "line": {
            "color": "#2a3f5f"
           }
          },
          "ternary": {
           "aaxis": {
            "gridcolor": "white",
            "linecolor": "white",
            "ticks": ""
           },
           "baxis": {
            "gridcolor": "white",
            "linecolor": "white",
            "ticks": ""
           },
           "bgcolor": "#E5ECF6",
           "caxis": {
            "gridcolor": "white",
            "linecolor": "white",
            "ticks": ""
           }
          },
          "title": {
           "x": 0.05
          },
          "xaxis": {
           "automargin": true,
           "gridcolor": "white",
           "linecolor": "white",
           "ticks": "",
           "title": {
            "standoff": 15
           },
           "zerolinecolor": "white",
           "zerolinewidth": 2
          },
          "yaxis": {
           "automargin": true,
           "gridcolor": "white",
           "linecolor": "white",
           "ticks": "",
           "title": {
            "standoff": 15
           },
           "zerolinecolor": "white",
           "zerolinewidth": 2
          }
         }
        },
        "title": {
         "text": "Residual plot of IRLT"
        },
        "xaxis": {
         "anchor": "y",
         "domain": [
          0,
          1
         ],
         "title": {
          "text": "IRLT"
         }
        },
        "yaxis": {
         "anchor": "x",
         "domain": [
          0,
          1
         ],
         "title": {
          "text": "Residuals"
         }
        }
       }
      }
     },
     "metadata": {},
     "output_type": "display_data"
    },
    {
     "data": {
      "application/vnd.plotly.v1+json": {
       "config": {
        "plotlyServerURL": "https://plot.ly"
       },
       "data": [
        {
         "hovertemplate": "UNEMP=%{x}<br>Residuals=%{y}<extra></extra>",
         "legendgroup": "",
         "marker": {
          "color": "#636efa",
          "symbol": "circle"
         },
         "mode": "markers",
         "name": "",
         "orientation": "v",
         "showlegend": false,
         "type": "scatter",
         "x": {
          "bdata": "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",
          "dtype": "f8"
         },
         "xaxis": "x",
         "y": {
          "bdata": "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",
          "dtype": "f8"
         },
         "yaxis": "y"
        }
       ],
       "layout": {
        "legend": {
         "tracegroupgap": 0
        },
        "template": {
         "data": {
          "bar": [
           {
            "error_x": {
             "color": "#2a3f5f"
            },
            "error_y": {
             "color": "#2a3f5f"
            },
            "marker": {
             "line": {
              "color": "#E5ECF6",
              "width": 0.5
             },
             "pattern": {
              "fillmode": "overlay",
              "size": 10,
              "solidity": 0.2
             }
            },
            "type": "bar"
           }
          ],
          "barpolar": [
           {
            "marker": {
             "line": {
              "color": "#E5ECF6",
              "width": 0.5
             },
             "pattern": {
              "fillmode": "overlay",
              "size": 10,
              "solidity": 0.2
             }
            },
            "type": "barpolar"
           }
          ],
          "carpet": [
           {
            "aaxis": {
             "endlinecolor": "#2a3f5f",
             "gridcolor": "white",
             "linecolor": "white",
             "minorgridcolor": "white",
             "startlinecolor": "#2a3f5f"
            },
            "baxis": {
             "endlinecolor": "#2a3f5f",
             "gridcolor": "white",
             "linecolor": "white",
             "minorgridcolor": "white",
             "startlinecolor": "#2a3f5f"
            },
            "type": "carpet"
           }
          ],
          "choropleth": [
           {
            "colorbar": {
             "outlinewidth": 0,
             "ticks": ""
            },
            "type": "choropleth"
           }
          ],
          "contour": [
           {
            "colorbar": {
             "outlinewidth": 0,
             "ticks": ""
            },
            "colorscale": [
             [
              0,
              "#0d0887"
             ],
             [
              0.1111111111111111,
              "#46039f"
             ],
             [
              0.2222222222222222,
              "#7201a8"
             ],
             [
              0.3333333333333333,
              "#9c179e"
             ],
             [
              0.4444444444444444,
              "#bd3786"
             ],
             [
              0.5555555555555556,
              "#d8576b"
             ],
             [
              0.6666666666666666,
              "#ed7953"
             ],
             [
              0.7777777777777778,
              "#fb9f3a"
             ],
             [
              0.8888888888888888,
              "#fdca26"
             ],
             [
              1,
              "#f0f921"
             ]
            ],
            "type": "contour"
           }
          ],
          "contourcarpet": [
           {
            "colorbar": {
             "outlinewidth": 0,
             "ticks": ""
            },
            "type": "contourcarpet"
           }
          ],
          "heatmap": [
           {
            "colorbar": {
             "outlinewidth": 0,
             "ticks": ""
            },
            "colorscale": [
             [
              0,
              "#0d0887"
             ],
             [
              0.1111111111111111,
              "#46039f"
             ],
             [
              0.2222222222222222,
              "#7201a8"
             ],
             [
              0.3333333333333333,
              "#9c179e"
             ],
             [
              0.4444444444444444,
              "#bd3786"
             ],
             [
              0.5555555555555556,
              "#d8576b"
             ],
             [
              0.6666666666666666,
              "#ed7953"
             ],
             [
              0.7777777777777778,
              "#fb9f3a"
             ],
             [
              0.8888888888888888,
              "#fdca26"
             ],
             [
              1,
              "#f0f921"
             ]
            ],
            "type": "heatmap"
           }
          ],
          "histogram": [
           {
            "marker": {
             "pattern": {
              "fillmode": "overlay",
              "size": 10,
              "solidity": 0.2
             }
            },
            "type": "histogram"
           }
          ],
          "histogram2d": [
           {
            "colorbar": {
             "outlinewidth": 0,
             "ticks": ""
            },
            "colorscale": [
             [
              0,
              "#0d0887"
             ],
             [
              0.1111111111111111,
              "#46039f"
             ],
             [
              0.2222222222222222,
              "#7201a8"
             ],
             [
              0.3333333333333333,
              "#9c179e"
             ],
             [
              0.4444444444444444,
              "#bd3786"
             ],
             [
              0.5555555555555556,
              "#d8576b"
             ],
             [
              0.6666666666666666,
              "#ed7953"
             ],
             [
              0.7777777777777778,
              "#fb9f3a"
             ],
             [
              0.8888888888888888,
              "#fdca26"
             ],
             [
              1,
              "#f0f921"
             ]
            ],
            "type": "histogram2d"
           }
          ],
          "histogram2dcontour": [
           {
            "colorbar": {
             "outlinewidth": 0,
             "ticks": ""
            },
            "colorscale": [
             [
              0,
              "#0d0887"
             ],
             [
              0.1111111111111111,
              "#46039f"
             ],
             [
              0.2222222222222222,
              "#7201a8"
             ],
             [
              0.3333333333333333,
              "#9c179e"
             ],
             [
              0.4444444444444444,
              "#bd3786"
             ],
             [
              0.5555555555555556,
              "#d8576b"
             ],
             [
              0.6666666666666666,
              "#ed7953"
             ],
             [
              0.7777777777777778,
              "#fb9f3a"
             ],
             [
              0.8888888888888888,
              "#fdca26"
             ],
             [
              1,
              "#f0f921"
             ]
            ],
            "type": "histogram2dcontour"
           }
          ],
          "mesh3d": [
           {
            "colorbar": {
             "outlinewidth": 0,
             "ticks": ""
            },
            "type": "mesh3d"
           }
          ],
          "parcoords": [
           {
            "line": {
             "colorbar": {
              "outlinewidth": 0,
              "ticks": ""
             }
            },
            "type": "parcoords"
           }
          ],
          "pie": [
           {
            "automargin": true,
            "type": "pie"
           }
          ],
          "scatter": [
           {
            "fillpattern": {
             "fillmode": "overlay",
             "size": 10,
             "solidity": 0.2
            },
            "type": "scatter"
           }
          ],
          "scatter3d": [
           {
            "line": {
             "colorbar": {
              "outlinewidth": 0,
              "ticks": ""
             }
            },
            "marker": {
             "colorbar": {
              "outlinewidth": 0,
              "ticks": ""
             }
            },
            "type": "scatter3d"
           }
          ],
          "scattercarpet": [
           {
            "marker": {
             "colorbar": {
              "outlinewidth": 0,
              "ticks": ""
             }
            },
            "type": "scattercarpet"
           }
          ],
          "scattergeo": [
           {
            "marker": {
             "colorbar": {
              "outlinewidth": 0,
              "ticks": ""
             }
            },
            "type": "scattergeo"
           }
          ],
          "scattergl": [
           {
            "marker": {
             "colorbar": {
              "outlinewidth": 0,
              "ticks": ""
             }
            },
            "type": "scattergl"
           }
          ],
          "scattermap": [
           {
            "marker": {
             "colorbar": {
              "outlinewidth": 0,
              "ticks": ""
             }
            },
            "type": "scattermap"
           }
          ],
          "scattermapbox": [
           {
            "marker": {
             "colorbar": {
              "outlinewidth": 0,
              "ticks": ""
             }
            },
            "type": "scattermapbox"
           }
          ],
          "scatterpolar": [
           {
            "marker": {
             "colorbar": {
              "outlinewidth": 0,
              "ticks": ""
             }
            },
            "type": "scatterpolar"
           }
          ],
          "scatterpolargl": [
           {
            "marker": {
             "colorbar": {
              "outlinewidth": 0,
              "ticks": ""
             }
            },
            "type": "scatterpolargl"
           }
          ],
          "scatterternary": [
           {
            "marker": {
             "colorbar": {
              "outlinewidth": 0,
              "ticks": ""
             }
            },
            "type": "scatterternary"
           }
          ],
          "surface": [
           {
            "colorbar": {
             "outlinewidth": 0,
             "ticks": ""
            },
            "colorscale": [
             [
              0,
              "#0d0887"
             ],
             [
              0.1111111111111111,
              "#46039f"
             ],
             [
              0.2222222222222222,
              "#7201a8"
             ],
             [
              0.3333333333333333,
              "#9c179e"
             ],
             [
              0.4444444444444444,
              "#bd3786"
             ],
             [
              0.5555555555555556,
              "#d8576b"
             ],
             [
              0.6666666666666666,
              "#ed7953"
             ],
             [
              0.7777777777777778,
              "#fb9f3a"
             ],
             [
              0.8888888888888888,
              "#fdca26"
             ],
             [
              1,
              "#f0f921"
             ]
            ],
            "type": "surface"
           }
          ],
          "table": [
           {
            "cells": {
             "fill": {
              "color": "#EBF0F8"
             },
             "line": {
              "color": "white"
             }
            },
            "header": {
             "fill": {
              "color": "#C8D4E3"
             },
             "line": {
              "color": "white"
             }
            },
            "type": "table"
           }
          ]
         },
         "layout": {
          "annotationdefaults": {
           "arrowcolor": "#2a3f5f",
           "arrowhead": 0,
           "arrowwidth": 1
          },
          "autotypenumbers": "strict",
          "coloraxis": {
           "colorbar": {
            "outlinewidth": 0,
            "ticks": ""
           }
          },
          "colorscale": {
           "diverging": [
            [
             0,
             "#8e0152"
            ],
            [
             0.1,
             "#c51b7d"
            ],
            [
             0.2,
             "#de77ae"
            ],
            [
             0.3,
             "#f1b6da"
            ],
            [
             0.4,
             "#fde0ef"
            ],
            [
             0.5,
             "#f7f7f7"
            ],
            [
             0.6,
             "#e6f5d0"
            ],
            [
             0.7,
             "#b8e186"
            ],
            [
             0.8,
             "#7fbc41"
            ],
            [
             0.9,
             "#4d9221"
            ],
            [
             1,
             "#276419"
            ]
           ],
           "sequential": [
            [
             0,
             "#0d0887"
            ],
            [
             0.1111111111111111,
             "#46039f"
            ],
            [
             0.2222222222222222,
             "#7201a8"
            ],
            [
             0.3333333333333333,
             "#9c179e"
            ],
            [
             0.4444444444444444,
             "#bd3786"
            ],
            [
             0.5555555555555556,
             "#d8576b"
            ],
            [
             0.6666666666666666,
             "#ed7953"
            ],
            [
             0.7777777777777778,
             "#fb9f3a"
            ],
            [
             0.8888888888888888,
             "#fdca26"
            ],
            [
             1,
             "#f0f921"
            ]
           ],
           "sequentialminus": [
            [
             0,
             "#0d0887"
            ],
            [
             0.1111111111111111,
             "#46039f"
            ],
            [
             0.2222222222222222,
             "#7201a8"
            ],
            [
             0.3333333333333333,
             "#9c179e"
            ],
            [
             0.4444444444444444,
             "#bd3786"
            ],
            [
             0.5555555555555556,
             "#d8576b"
            ],
            [
             0.6666666666666666,
             "#ed7953"
            ],
            [
             0.7777777777777778,
             "#fb9f3a"
            ],
            [
             0.8888888888888888,
             "#fdca26"
            ],
            [
             1,
             "#f0f921"
            ]
           ]
          },
          "colorway": [
           "#636efa",
           "#EF553B",
           "#00cc96",
           "#ab63fa",
           "#FFA15A",
           "#19d3f3",
           "#FF6692",
           "#B6E880",
           "#FF97FF",
           "#FECB52"
          ],
          "font": {
           "color": "#2a3f5f"
          },
          "geo": {
           "bgcolor": "white",
           "lakecolor": "white",
           "landcolor": "#E5ECF6",
           "showlakes": true,
           "showland": true,
           "subunitcolor": "white"
          },
          "hoverlabel": {
           "align": "left"
          },
          "hovermode": "closest",
          "mapbox": {
           "style": "light"
          },
          "paper_bgcolor": "white",
          "plot_bgcolor": "#E5ECF6",
          "polar": {
           "angularaxis": {
            "gridcolor": "white",
            "linecolor": "white",
            "ticks": ""
           },
           "bgcolor": "#E5ECF6",
           "radialaxis": {
            "gridcolor": "white",
            "linecolor": "white",
            "ticks": ""
           }
          },
          "scene": {
           "xaxis": {
            "backgroundcolor": "#E5ECF6",
            "gridcolor": "white",
            "gridwidth": 2,
            "linecolor": "white",
            "showbackground": true,
            "ticks": "",
            "zerolinecolor": "white"
           },
           "yaxis": {
            "backgroundcolor": "#E5ECF6",
            "gridcolor": "white",
            "gridwidth": 2,
            "linecolor": "white",
            "showbackground": true,
            "ticks": "",
            "zerolinecolor": "white"
           },
           "zaxis": {
            "backgroundcolor": "#E5ECF6",
            "gridcolor": "white",
            "gridwidth": 2,
            "linecolor": "white",
            "showbackground": true,
            "ticks": "",
            "zerolinecolor": "white"
           }
          },
          "shapedefaults": {
           "line": {
            "color": "#2a3f5f"
           }
          },
          "ternary": {
           "aaxis": {
            "gridcolor": "white",
            "linecolor": "white",
            "ticks": ""
           },
           "baxis": {
            "gridcolor": "white",
            "linecolor": "white",
            "ticks": ""
           },
           "bgcolor": "#E5ECF6",
           "caxis": {
            "gridcolor": "white",
            "linecolor": "white",
            "ticks": ""
           }
          },
          "title": {
           "x": 0.05
          },
          "xaxis": {
           "automargin": true,
           "gridcolor": "white",
           "linecolor": "white",
           "ticks": "",
           "title": {
            "standoff": 15
           },
           "zerolinecolor": "white",
           "zerolinewidth": 2
          },
          "yaxis": {
           "automargin": true,
           "gridcolor": "white",
           "linecolor": "white",
           "ticks": "",
           "title": {
            "standoff": 15
           },
           "zerolinecolor": "white",
           "zerolinewidth": 2
          }
         }
        },
        "title": {
         "text": "Residual plot of UNEMP"
        },
        "xaxis": {
         "anchor": "y",
         "domain": [
          0,
          1
         ],
         "title": {
          "text": "UNEMP"
         }
        },
        "yaxis": {
         "anchor": "x",
         "domain": [
          0,
          1
         ],
         "title": {
          "text": "Residuals"
         }
        }
       }
      }
     },
     "metadata": {},
     "output_type": "display_data"
    },
    {
     "data": {
      "application/vnd.plotly.v1+json": {
       "config": {
        "plotlyServerURL": "https://plot.ly"
       },
       "data": [
        {
         "hovertemplate": "Population, total=%{x}<br>Residuals=%{y}<extra></extra>",
         "legendgroup": "",
         "marker": {
          "color": "#636efa",
          "symbol": "circle"
         },
         "mode": "markers",
         "name": "",
         "orientation": "v",
         "showlegend": false,
         "type": "scatter",
         "x": {
          "bdata": "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",
          "dtype": "f8"
         },
         "xaxis": "x",
         "y": {
          "bdata": "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",
          "dtype": "f8"
         },
         "yaxis": "y"
        }
       ],
       "layout": {
        "legend": {
         "tracegroupgap": 0
        },
        "template": {
         "data": {
          "bar": [
           {
            "error_x": {
             "color": "#2a3f5f"
            },
            "error_y": {
             "color": "#2a3f5f"
            },
            "marker": {
             "line": {
              "color": "#E5ECF6",
              "width": 0.5
             },
             "pattern": {
              "fillmode": "overlay",
              "size": 10,
              "solidity": 0.2
             }
            },
            "type": "bar"
           }
          ],
          "barpolar": [
           {
            "marker": {
             "line": {
              "color": "#E5ECF6",
              "width": 0.5
             },
             "pattern": {
              "fillmode": "overlay",
              "size": 10,
              "solidity": 0.2
             }
            },
            "type": "barpolar"
           }
          ],
          "carpet": [
           {
            "aaxis": {
             "endlinecolor": "#2a3f5f",
             "gridcolor": "white",
             "linecolor": "white",
             "minorgridcolor": "white",
             "startlinecolor": "#2a3f5f"
            },
            "baxis": {
             "endlinecolor": "#2a3f5f",
             "gridcolor": "white",
             "linecolor": "white",
             "minorgridcolor": "white",
             "startlinecolor": "#2a3f5f"
            },
            "type": "carpet"
           }
          ],
          "choropleth": [
           {
            "colorbar": {
             "outlinewidth": 0,
             "ticks": ""
            },
            "type": "choropleth"
           }
          ],
          "contour": [
           {
            "colorbar": {
             "outlinewidth": 0,
             "ticks": ""
            },
            "colorscale": [
             [
              0,
              "#0d0887"
             ],
             [
              0.1111111111111111,
              "#46039f"
             ],
             [
              0.2222222222222222,
              "#7201a8"
             ],
             [
              0.3333333333333333,
              "#9c179e"
             ],
             [
              0.4444444444444444,
              "#bd3786"
             ],
             [
              0.5555555555555556,
              "#d8576b"
             ],
             [
              0.6666666666666666,
              "#ed7953"
             ],
             [
              0.7777777777777778,
              "#fb9f3a"
             ],
             [
              0.8888888888888888,
              "#fdca26"
             ],
             [
              1,
              "#f0f921"
             ]
            ],
            "type": "contour"
           }
          ],
          "contourcarpet": [
           {
            "colorbar": {
             "outlinewidth": 0,
             "ticks": ""
            },
            "type": "contourcarpet"
           }
          ],
          "heatmap": [
           {
            "colorbar": {
             "outlinewidth": 0,
             "ticks": ""
            },
            "colorscale": [
             [
              0,
              "#0d0887"
             ],
             [
              0.1111111111111111,
              "#46039f"
             ],
             [
              0.2222222222222222,
              "#7201a8"
             ],
             [
              0.3333333333333333,
              "#9c179e"
             ],
             [
              0.4444444444444444,
              "#bd3786"
             ],
             [
              0.5555555555555556,
              "#d8576b"
             ],
             [
              0.6666666666666666,
              "#ed7953"
             ],
             [
              0.7777777777777778,
              "#fb9f3a"
             ],
             [
              0.8888888888888888,
              "#fdca26"
             ],
             [
              1,
              "#f0f921"
             ]
            ],
            "type": "heatmap"
           }
          ],
          "histogram": [
           {
            "marker": {
             "pattern": {
              "fillmode": "overlay",
              "size": 10,
              "solidity": 0.2
             }
            },
            "type": "histogram"
           }
          ],
          "histogram2d": [
           {
            "colorbar": {
             "outlinewidth": 0,
             "ticks": ""
            },
            "colorscale": [
             [
              0,
              "#0d0887"
             ],
             [
              0.1111111111111111,
              "#46039f"
             ],
             [
              0.2222222222222222,
              "#7201a8"
             ],
             [
              0.3333333333333333,
              "#9c179e"
             ],
             [
              0.4444444444444444,
              "#bd3786"
             ],
             [
              0.5555555555555556,
              "#d8576b"
             ],
             [
              0.6666666666666666,
              "#ed7953"
             ],
             [
              0.7777777777777778,
              "#fb9f3a"
             ],
             [
              0.8888888888888888,
              "#fdca26"
             ],
             [
              1,
              "#f0f921"
             ]
            ],
            "type": "histogram2d"
           }
          ],
          "histogram2dcontour": [
           {
            "colorbar": {
             "outlinewidth": 0,
             "ticks": ""
            },
            "colorscale": [
             [
              0,
              "#0d0887"
             ],
             [
              0.1111111111111111,
              "#46039f"
             ],
             [
              0.2222222222222222,
              "#7201a8"
             ],
             [
              0.3333333333333333,
              "#9c179e"
             ],
             [
              0.4444444444444444,
              "#bd3786"
             ],
             [
              0.5555555555555556,
              "#d8576b"
             ],
             [
              0.6666666666666666,
              "#ed7953"
             ],
             [
              0.7777777777777778,
              "#fb9f3a"
             ],
             [
              0.8888888888888888,
              "#fdca26"
             ],
             [
              1,
              "#f0f921"
             ]
            ],
            "type": "histogram2dcontour"
           }
          ],
          "mesh3d": [
           {
            "colorbar": {
             "outlinewidth": 0,
             "ticks": ""
            },
            "type": "mesh3d"
           }
          ],
          "parcoords": [
           {
            "line": {
             "colorbar": {
              "outlinewidth": 0,
              "ticks": ""
             }
            },
            "type": "parcoords"
           }
          ],
          "pie": [
           {
            "automargin": true,
            "type": "pie"
           }
          ],
          "scatter": [
           {
            "fillpattern": {
             "fillmode": "overlay",
             "size": 10,
             "solidity": 0.2
            },
            "type": "scatter"
           }
          ],
          "scatter3d": [
           {
            "line": {
             "colorbar": {
              "outlinewidth": 0,
              "ticks": ""
             }
            },
            "marker": {
             "colorbar": {
              "outlinewidth": 0,
              "ticks": ""
             }
            },
            "type": "scatter3d"
           }
          ],
          "scattercarpet": [
           {
            "marker": {
             "colorbar": {
              "outlinewidth": 0,
              "ticks": ""
             }
            },
            "type": "scattercarpet"
           }
          ],
          "scattergeo": [
           {
            "marker": {
             "colorbar": {
              "outlinewidth": 0,
              "ticks": ""
             }
            },
            "type": "scattergeo"
           }
          ],
          "scattergl": [
           {
            "marker": {
             "colorbar": {
              "outlinewidth": 0,
              "ticks": ""
             }
            },
            "type": "scattergl"
           }
          ],
          "scattermap": [
           {
            "marker": {
             "colorbar": {
              "outlinewidth": 0,
              "ticks": ""
             }
            },
            "type": "scattermap"
           }
          ],
          "scattermapbox": [
           {
            "marker": {
             "colorbar": {
              "outlinewidth": 0,
              "ticks": ""
             }
            },
            "type": "scattermapbox"
           }
          ],
          "scatterpolar": [
           {
            "marker": {
             "colorbar": {
              "outlinewidth": 0,
              "ticks": ""
             }
            },
            "type": "scatterpolar"
           }
          ],
          "scatterpolargl": [
           {
            "marker": {
             "colorbar": {
              "outlinewidth": 0,
              "ticks": ""
             }
            },
            "type": "scatterpolargl"
           }
          ],
          "scatterternary": [
           {
            "marker": {
             "colorbar": {
              "outlinewidth": 0,
              "ticks": ""
             }
            },
            "type": "scatterternary"
           }
          ],
          "surface": [
           {
            "colorbar": {
             "outlinewidth": 0,
             "ticks": ""
            },
            "colorscale": [
             [
              0,
              "#0d0887"
             ],
             [
              0.1111111111111111,
              "#46039f"
             ],
             [
              0.2222222222222222,
              "#7201a8"
             ],
             [
              0.3333333333333333,
              "#9c179e"
             ],
             [
              0.4444444444444444,
              "#bd3786"
             ],
             [
              0.5555555555555556,
              "#d8576b"
             ],
             [
              0.6666666666666666,
              "#ed7953"
             ],
             [
              0.7777777777777778,
              "#fb9f3a"
             ],
             [
              0.8888888888888888,
              "#fdca26"
             ],
             [
              1,
              "#f0f921"
             ]
            ],
            "type": "surface"
           }
          ],
          "table": [
           {
            "cells": {
             "fill": {
              "color": "#EBF0F8"
             },
             "line": {
              "color": "white"
             }
            },
            "header": {
             "fill": {
              "color": "#C8D4E3"
             },
             "line": {
              "color": "white"
             }
            },
            "type": "table"
           }
          ]
         },
         "layout": {
          "annotationdefaults": {
           "arrowcolor": "#2a3f5f",
           "arrowhead": 0,
           "arrowwidth": 1
          },
          "autotypenumbers": "strict",
          "coloraxis": {
           "colorbar": {
            "outlinewidth": 0,
            "ticks": ""
           }
          },
          "colorscale": {
           "diverging": [
            [
             0,
             "#8e0152"
            ],
            [
             0.1,
             "#c51b7d"
            ],
            [
             0.2,
             "#de77ae"
            ],
            [
             0.3,
             "#f1b6da"
            ],
            [
             0.4,
             "#fde0ef"
            ],
            [
             0.5,
             "#f7f7f7"
            ],
            [
             0.6,
             "#e6f5d0"
            ],
            [
             0.7,
             "#b8e186"
            ],
            [
             0.8,
             "#7fbc41"
            ],
            [
             0.9,
             "#4d9221"
            ],
            [
             1,
             "#276419"
            ]
           ],
           "sequential": [
            [
             0,
             "#0d0887"
            ],
            [
             0.1111111111111111,
             "#46039f"
            ],
            [
             0.2222222222222222,
             "#7201a8"
            ],
            [
             0.3333333333333333,
             "#9c179e"
            ],
            [
             0.4444444444444444,
             "#bd3786"
            ],
            [
             0.5555555555555556,
             "#d8576b"
            ],
            [
             0.6666666666666666,
             "#ed7953"
            ],
            [
             0.7777777777777778,
             "#fb9f3a"
            ],
            [
             0.8888888888888888,
             "#fdca26"
            ],
            [
             1,
             "#f0f921"
            ]
           ],
           "sequentialminus": [
            [
             0,
             "#0d0887"
            ],
            [
             0.1111111111111111,
             "#46039f"
            ],
            [
             0.2222222222222222,
             "#7201a8"
            ],
            [
             0.3333333333333333,
             "#9c179e"
            ],
            [
             0.4444444444444444,
             "#bd3786"
            ],
            [
             0.5555555555555556,
             "#d8576b"
            ],
            [
             0.6666666666666666,
             "#ed7953"
            ],
            [
             0.7777777777777778,
             "#fb9f3a"
            ],
            [
             0.8888888888888888,
             "#fdca26"
            ],
            [
             1,
             "#f0f921"
            ]
           ]
          },
          "colorway": [
           "#636efa",
           "#EF553B",
           "#00cc96",
           "#ab63fa",
           "#FFA15A",
           "#19d3f3",
           "#FF6692",
           "#B6E880",
           "#FF97FF",
           "#FECB52"
          ],
          "font": {
           "color": "#2a3f5f"
          },
          "geo": {
           "bgcolor": "white",
           "lakecolor": "white",
           "landcolor": "#E5ECF6",
           "showlakes": true,
           "showland": true,
           "subunitcolor": "white"
          },
          "hoverlabel": {
           "align": "left"
          },
          "hovermode": "closest",
          "mapbox": {
           "style": "light"
          },
          "paper_bgcolor": "white",
          "plot_bgcolor": "#E5ECF6",
          "polar": {
           "angularaxis": {
            "gridcolor": "white",
            "linecolor": "white",
            "ticks": ""
           },
           "bgcolor": "#E5ECF6",
           "radialaxis": {
            "gridcolor": "white",
            "linecolor": "white",
            "ticks": ""
           }
          },
          "scene": {
           "xaxis": {
            "backgroundcolor": "#E5ECF6",
            "gridcolor": "white",
            "gridwidth": 2,
            "linecolor": "white",
            "showbackground": true,
            "ticks": "",
            "zerolinecolor": "white"
           },
           "yaxis": {
            "backgroundcolor": "#E5ECF6",
            "gridcolor": "white",
            "gridwidth": 2,
            "linecolor": "white",
            "showbackground": true,
            "ticks": "",
            "zerolinecolor": "white"
           },
           "zaxis": {
            "backgroundcolor": "#E5ECF6",
            "gridcolor": "white",
            "gridwidth": 2,
            "linecolor": "white",
            "showbackground": true,
            "ticks": "",
            "zerolinecolor": "white"
           }
          },
          "shapedefaults": {
           "line": {
            "color": "#2a3f5f"
           }
          },
          "ternary": {
           "aaxis": {
            "gridcolor": "white",
            "linecolor": "white",
            "ticks": ""
           },
           "baxis": {
            "gridcolor": "white",
            "linecolor": "white",
            "ticks": ""
           },
           "bgcolor": "#E5ECF6",
           "caxis": {
            "gridcolor": "white",
            "linecolor": "white",
            "ticks": ""
           }
          },
          "title": {
           "x": 0.05
          },
          "xaxis": {
           "automargin": true,
           "gridcolor": "white",
           "linecolor": "white",
           "ticks": "",
           "title": {
            "standoff": 15
           },
           "zerolinecolor": "white",
           "zerolinewidth": 2
          },
          "yaxis": {
           "automargin": true,
           "gridcolor": "white",
           "linecolor": "white",
           "ticks": "",
           "title": {
            "standoff": 15
           },
           "zerolinecolor": "white",
           "zerolinewidth": 2
          }
         }
        },
        "title": {
         "text": "Residual plot of Population, total"
        },
        "xaxis": {
         "anchor": "y",
         "domain": [
          0,
          1
         ],
         "title": {
          "text": "Population, total"
         }
        },
        "yaxis": {
         "anchor": "x",
         "domain": [
          0,
          1
         ],
         "title": {
          "text": "Residuals"
         }
        }
       }
      }
     },
     "metadata": {},
     "output_type": "display_data"
    },
    {
     "data": {
      "application/vnd.plotly.v1+json": {
       "config": {
        "plotlyServerURL": "https://plot.ly"
       },
       "data": [
        {
         "hovertemplate": "GDP per capita (current US$)=%{x}<br>Residuals=%{y}<extra></extra>",
         "legendgroup": "",
         "marker": {
          "color": "#636efa",
          "symbol": "circle"
         },
         "mode": "markers",
         "name": "",
         "orientation": "v",
         "showlegend": false,
         "type": "scatter",
         "x": {
          "bdata": "Q4Ih/PcJ4r+TM6pAevvcv5XipJSUZMO/vl94rvCzsj/TPA2XdTq5PyYaAIsTMs0/6XSm2PmM4D/TGChR44HjP3fv1EliH84/jmHUznpn3j+Ba5guc4HpPyFEITRHDOY/O+gM/skd6j+16ctOhHXoP60UX1ou3to/4JKKgy2B3D8sIDOM3zLgP9Yaly5pW+E/7i42wU1h3D9psvkrRUHjv+EzLhQCwtW/oUzq2MbOgj8Jm9mRB9DRPyLflN/XK9o/IE1UFfmM4T8FLk8EoNfqP+X64TkMyeo/+Mm5rKpT3T/+mvth0z7UP3ZmgLhrzN4/sS/Vt8sr1j9aR5nm5ZreP8v46bmPbeU/M0BGut+s7j9U0KiLbKbuPxk0zTRJuPQ//P6uDKB4+j96DJk3sUz7PyuB0gn/n/4/S+a9dylY6L/LzBzK+5Dhv9yGoWtgH9m/HKItLTop17+IcWwCzi7Tv1a37ZHbAb+/oSkMIXNrcz+5xRfrSuPCvyrdgEPiN8m/8BuW9oBjtr/4Ar94ZjXOv09OqEk4hMu/xMB4RCqAy78wvB2vkdrbvw+3KlD76Nm/JkOQ3tgn1r+Kfb/gLGTQvz31L3uY2NK/E4X4X7r7678PR3GL5LHmv4lc3c7rq9q/l+m4bbPu1j9JTUlEdVvdPw+DIYnmWew/L3e522ps1z835VdqBFLlP5Jxr3EixPO/nKqK5PY8879F1SeCov3yv0t0A4SX1/K/Q11wbp+p8r/qcWyuEnjyvxZxYRqnN6e/ZxXbYDj5xD8IGaDMXmJrv11xTgt14vS/0zG3+Enb8r+Sd02Rkxvxv/KtWx52JfO/zXEf3LUp878guSXGUJDxv3zxjn7IivG/XXn5dc6l8L/vdYmGHBzwv8N3Qu7ZifG/o3/luy8X8b+kSh7d163vv2VF/A3aaey/M7/kffLw67+aIZuWHvDzv7etZCRHSfO/D0nLnGlI8r/j1xHLNlnwv1STYZ/yO+2/zJEbWxAJ8L92YI7w4ajvv/muUmV3mO2/9uWZnQrZ7r8mGSE7Mc3tv5+Wd9n9Mu2/aPgLPGkh8L+9u9tmwwDwvwAR5XPFre6/coW9F+kk7L/CppWc+mvmv0xfAKX2e+a/ZZPN8qxe5L/fEDPRfADbv2gPVv4T3dC/bO+Cyi0Bz7+rBxuevQjFv8SxeRCb1qw/bzvZ2X9uzD+rAJT6j7SvP8m/aRJoFK4/jhor1JWH0T+He+l7HcDDP/Rwd4hwaNA/T++STysD1T+BvHGcm5WjPz+7aNUW1rQ/NfcDzgzpxz/Vf3KeZcLUPyoE6jNLeNE/d4nYgyL52r/8OYmQMGSTvzrdzDbjr80/5lJWTLHk1D+XiP1BTUrdPwnVcFMUNec/rlBtz3kT7z869Ul3ZuvmPw80xdeqg+Y/iMDz4rxi6z9tML/h1/XmP9WjgyNK0eo/ycWn9PFR7D+bkNdRgtrfP7o3oMbIxuE/8J3EfnK/5T/6755dgr/qPyxqWpUeOeg/jY3bcUA+8D9v4vwCG2H3P2kNqEzXTPo/AXyI7RRfAECs95d7JNsFQI5JjC6IHApAQeBc0sB+BkAw/R7GIPoGQD8uphD6pglAnhTmqA+JB0B6EoYPBvkJQDgwn+aMLgtAVc6KZbwxBUCJQoh0rKoFQMc6mdnVvwZAV/DuMZ7qCECnmz1Y/ZQHQNr5X+EXZO+/oQyzM6lA7r/vXPlPZijsv083ni+Hr+a//oyGX9DF4b/CcuqDIqrlvylbVeaUNOe/dpoW6m4W5b9ALJqqW1/ov4BwtGHXU+e/+AJxKKBO5r9MCOpioqrqvyOvLVpMP/G/rFT7PAyV6b8BvpAzrxvlv4HJvQkZGuO/zw4VAs2C4L/7WiGK9+XVvwUf7YC0Rsy/PqbcQ4Lg1r8wGqbLuyPbv1mXE7/sEti/ZVKOOBp34L+IabXS8+zev6nOa8CMrN2/r+dLQQe8479pI/rilLjiv/jXsgbklOC/exbnZpNQ279+ox9R0HXdvyzSsILTXvc/CAKiVNNEAEClVS4VtXz9P5YPJ+rFc/4/SwgI/tli/z8Q84EeICf8P3HgNHLiEPs/mUOMsu4h+z83NpOikBT9PyseVwNhBY+/L1xKeoTvqD/f6lG7asrFPw7T4A3uPd0/6Bv0l4Oz5j+xMyH3ggfgPzhj4ca7Jts/6K6ETmIK4j8DdfMH0fbYP2gQZw+Bj94/rdDHYYBn4D8K0EBZzFDJP8NX84fnps4/BRC5HWtw1j9sk/3cEA/hPy5asohgiOA/DoufVtaN8L+BHsc/3yDuvyHfc61ay+u/VfGKCZoT5b8DNl7bs3Dnv/mbl49nOui/O0L8Mp5Q579IcHYaRJ3sv4GSjKL0m+u/iPTv8bl897+NaX2ipbv2v5sXfvbnEva/uAu3W9Ob9b8whX3LIX/1v7XEoLuYjvW/RZNbadrU9r+0L7vUbgX3v1N1BNr5rfa/1rr1kOaG9r91h/imtab1v3OSiB46+vS/q5oXsWCH878ddHdONbTxvwMh9FSfV/O/t9OwhWmt8r9OpUF1ptLxvxHm9pH0VfK/8Ql+yD2Q8b8CpHj13b7yvycD6sj2yvG/x5bmCwZ4vb/gWAmGSmDYP+RyH1qhEuY/KZL5hMIi8T/9Eho38/31P2PUzXiCRP0/oMXOOhWUAkBKgOu7CuH5P0RuNptPBP8/HRG2evPMA0AQ5aaZOx0EQM8+yv8skQRADIEtsc+hAkBGewTVIj32P3Wp98ilpfM/sJzt/ZYb9z+PBZiSjHz7P3EzlJfdTfc/+wTzQsEq9L8WsP9IpY/zvzkvW9kekvC/UKsnDThn8r+xK65J3Irxv16u7C4MU/K/pAVSEEAk8L/wdoydHCbbv+gMY+S+MM2/3ykSwHbuxb/7zXUbYe23vzfg98Z8j8E/LouVGbhB0z+W2FNn4rzEP5lAzvWL68A/lz8eq33U0T90sWg0sHrEP+Ho/7wDec8/khAtZKVy0j8zsl8csANtv0o2kfCNZaI/fVf9ZFoRwD8K7TbvTRzRP5VetNsrK84/kpc5ibIZSD86Zbk1A6/lv9Beqse+Ute/nO/OG5n1xr81O798NbC9v8/MBE2KJpm/EH4FphOtzT//jqPWS+DbPyq7YOGGFdI/W3km2iidzT+Pfx4MnqfaP1LiXTUMHtM/Ij42tFSF2D+MvcvK8yzbP9uV8VRW374/MiwPO+N2xT/PvlMskELQPyyUHxWS29o/dhVEOApr1z92KM+aia3pv4q7cF1hfOC/8z454xPW4r+bg4GuxYPpv1aLLJSlUe6/RZbdYZqfr7/dHtZHzLXQPzgH4NTbyuQ/tUZQwNC15T8RBGDS0b7yP9QXjcPY/OQ/OQ28lD4Iiz9P0KQaWL23PyaNobtdtdE/RFgbYGRgyj/tDXPQgTTXP/xavIlN4OE/6GPQ4bJ63z9HSxgdtp7rP3rf27n2ZfQ/mOcDRS2y4L9rDm/2LDDhv0spKCzVqty/ydXXt5Qw0b9XmRd6iMuZv6UzUVAiqac/veCUr7eTwj/S3/+xe8PYP92Rb9D83tA/ovZcIk2Et7+h/pwNNw2tv+qP9EtFw6c/4AJb0xjrrz8aaKyR2bq5P+E/9ltE/NA/hBT5uyb0xD8x3qS3vSMsPwTFcDUaKZG/QtRDsMpjtz8J6oa2WbKxP6+9ZFGJgei/xpabeX+E6L8FNttaXSLmv1X7HbqFPd6/kG6FKZdJ0783HDlk0IXQv4Qg0Zzflcc/K/RidSr/h7+YfySJPcSxP0IAuRCqzcS/4Y8yjS7i9L9qOYR8PCbyv7VsppsPovC//AszJ58N878lXX1HiJXzvzJqygkQdfK/ykfO6z0t8r8N3aOi2Wrxvy7RVMbS9PC/MdMAonsu8r+Wtqvcjdfxv9rdktLL/fC/jTKLXyoy778GdI1/D531vw+DxBKMMfO/MjArnjMa8r+hoGNyfujwv0uU0WQdnu2/phS5HG3v578fJcsOxdLrv50+hP9RX+u/Nz/RkqTj6L+cnuA/mJDrv6WNFoukPeu/yjklhWOI67+CUXzwfE3uv8GG7DKzOO2/Jpfj3PVh6r/BXnLO/7Xmv70m+imEMdW/ykT0wyHkwL/IqeeVEk20v7Yzmq+4sIM/+lPVB+ez0z+GguSomNDgP753gQpXFtE/9vI4CAEQzT8qF7BkiYHaP7GrOr+yR9E/y/VtHcrn1j++ZDnGcenXP38RFBAyn7A/7XzdQg3+uT8gPvYy2NjKPyK4eZcKz9Y/CJG0lphm0z8=",
          "dtype": "f8"
         },
         "xaxis": "x",
         "y": {
          "bdata": "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",
          "dtype": "f8"
         },
         "yaxis": "y"
        }
       ],
       "layout": {
        "legend": {
         "tracegroupgap": 0
        },
        "template": {
         "data": {
          "bar": [
           {
            "error_x": {
             "color": "#2a3f5f"
            },
            "error_y": {
             "color": "#2a3f5f"
            },
            "marker": {
             "line": {
              "color": "#E5ECF6",
              "width": 0.5
             },
             "pattern": {
              "fillmode": "overlay",
              "size": 10,
              "solidity": 0.2
             }
            },
            "type": "bar"
           }
          ],
          "barpolar": [
           {
            "marker": {
             "line": {
              "color": "#E5ECF6",
              "width": 0.5
             },
             "pattern": {
              "fillmode": "overlay",
              "size": 10,
              "solidity": 0.2
             }
            },
            "type": "barpolar"
           }
          ],
          "carpet": [
           {
            "aaxis": {
             "endlinecolor": "#2a3f5f",
             "gridcolor": "white",
             "linecolor": "white",
             "minorgridcolor": "white",
             "startlinecolor": "#2a3f5f"
            },
            "baxis": {
             "endlinecolor": "#2a3f5f",
             "gridcolor": "white",
             "linecolor": "white",
             "minorgridcolor": "white",
             "startlinecolor": "#2a3f5f"
            },
            "type": "carpet"
           }
          ],
          "choropleth": [
           {
            "colorbar": {
             "outlinewidth": 0,
             "ticks": ""
            },
            "type": "choropleth"
           }
          ],
          "contour": [
           {
            "colorbar": {
             "outlinewidth": 0,
             "ticks": ""
            },
            "colorscale": [
             [
              0,
              "#0d0887"
             ],
             [
              0.1111111111111111,
              "#46039f"
             ],
             [
              0.2222222222222222,
              "#7201a8"
             ],
             [
              0.3333333333333333,
              "#9c179e"
             ],
             [
              0.4444444444444444,
              "#bd3786"
             ],
             [
              0.5555555555555556,
              "#d8576b"
             ],
             [
              0.6666666666666666,
              "#ed7953"
             ],
             [
              0.7777777777777778,
              "#fb9f3a"
             ],
             [
              0.8888888888888888,
              "#fdca26"
             ],
             [
              1,
              "#f0f921"
             ]
            ],
            "type": "contour"
           }
          ],
          "contourcarpet": [
           {
            "colorbar": {
             "outlinewidth": 0,
             "ticks": ""
            },
            "type": "contourcarpet"
           }
          ],
          "heatmap": [
           {
            "colorbar": {
             "outlinewidth": 0,
             "ticks": ""
            },
            "colorscale": [
             [
              0,
              "#0d0887"
             ],
             [
              0.1111111111111111,
              "#46039f"
             ],
             [
              0.2222222222222222,
              "#7201a8"
             ],
             [
              0.3333333333333333,
              "#9c179e"
             ],
             [
              0.4444444444444444,
              "#bd3786"
             ],
             [
              0.5555555555555556,
              "#d8576b"
             ],
             [
              0.6666666666666666,
              "#ed7953"
             ],
             [
              0.7777777777777778,
              "#fb9f3a"
             ],
             [
              0.8888888888888888,
              "#fdca26"
             ],
             [
              1,
              "#f0f921"
             ]
            ],
            "type": "heatmap"
           }
          ],
          "histogram": [
           {
            "marker": {
             "pattern": {
              "fillmode": "overlay",
              "size": 10,
              "solidity": 0.2
             }
            },
            "type": "histogram"
           }
          ],
          "histogram2d": [
           {
            "colorbar": {
             "outlinewidth": 0,
             "ticks": ""
            },
            "colorscale": [
             [
              0,
              "#0d0887"
             ],
             [
              0.1111111111111111,
              "#46039f"
             ],
             [
              0.2222222222222222,
              "#7201a8"
             ],
             [
              0.3333333333333333,
              "#9c179e"
             ],
             [
              0.4444444444444444,
              "#bd3786"
             ],
             [
              0.5555555555555556,
              "#d8576b"
             ],
             [
              0.6666666666666666,
              "#ed7953"
             ],
             [
              0.7777777777777778,
              "#fb9f3a"
             ],
             [
              0.8888888888888888,
              "#fdca26"
             ],
             [
              1,
              "#f0f921"
             ]
            ],
            "type": "histogram2d"
           }
          ],
          "histogram2dcontour": [
           {
            "colorbar": {
             "outlinewidth": 0,
             "ticks": ""
            },
            "colorscale": [
             [
              0,
              "#0d0887"
             ],
             [
              0.1111111111111111,
              "#46039f"
             ],
             [
              0.2222222222222222,
              "#7201a8"
             ],
             [
              0.3333333333333333,
              "#9c179e"
             ],
             [
              0.4444444444444444,
              "#bd3786"
             ],
             [
              0.5555555555555556,
              "#d8576b"
             ],
             [
              0.6666666666666666,
              "#ed7953"
             ],
             [
              0.7777777777777778,
              "#fb9f3a"
             ],
             [
              0.8888888888888888,
              "#fdca26"
             ],
             [
              1,
              "#f0f921"
             ]
            ],
            "type": "histogram2dcontour"
           }
          ],
          "mesh3d": [
           {
            "colorbar": {
             "outlinewidth": 0,
             "ticks": ""
            },
            "type": "mesh3d"
           }
          ],
          "parcoords": [
           {
            "line": {
             "colorbar": {
              "outlinewidth": 0,
              "ticks": ""
             }
            },
            "type": "parcoords"
           }
          ],
          "pie": [
           {
            "automargin": true,
            "type": "pie"
           }
          ],
          "scatter": [
           {
            "fillpattern": {
             "fillmode": "overlay",
             "size": 10,
             "solidity": 0.2
            },
            "type": "scatter"
           }
          ],
          "scatter3d": [
           {
            "line": {
             "colorbar": {
              "outlinewidth": 0,
              "ticks": ""
             }
            },
            "marker": {
             "colorbar": {
              "outlinewidth": 0,
              "ticks": ""
             }
            },
            "type": "scatter3d"
           }
          ],
          "scattercarpet": [
           {
            "marker": {
             "colorbar": {
              "outlinewidth": 0,
              "ticks": ""
             }
            },
            "type": "scattercarpet"
           }
          ],
          "scattergeo": [
           {
            "marker": {
             "colorbar": {
              "outlinewidth": 0,
              "ticks": ""
             }
            },
            "type": "scattergeo"
           }
          ],
          "scattergl": [
           {
            "marker": {
             "colorbar": {
              "outlinewidth": 0,
              "ticks": ""
             }
            },
            "type": "scattergl"
           }
          ],
          "scattermap": [
           {
            "marker": {
             "colorbar": {
              "outlinewidth": 0,
              "ticks": ""
             }
            },
            "type": "scattermap"
           }
          ],
          "scattermapbox": [
           {
            "marker": {
             "colorbar": {
              "outlinewidth": 0,
              "ticks": ""
             }
            },
            "type": "scattermapbox"
           }
          ],
          "scatterpolar": [
           {
            "marker": {
             "colorbar": {
              "outlinewidth": 0,
              "ticks": ""
             }
            },
            "type": "scatterpolar"
           }
          ],
          "scatterpolargl": [
           {
            "marker": {
             "colorbar": {
              "outlinewidth": 0,
              "ticks": ""
             }
            },
            "type": "scatterpolargl"
           }
          ],
          "scatterternary": [
           {
            "marker": {
             "colorbar": {
              "outlinewidth": 0,
              "ticks": ""
             }
            },
            "type": "scatterternary"
           }
          ],
          "surface": [
           {
            "colorbar": {
             "outlinewidth": 0,
             "ticks": ""
            },
            "colorscale": [
             [
              0,
              "#0d0887"
             ],
             [
              0.1111111111111111,
              "#46039f"
             ],
             [
              0.2222222222222222,
              "#7201a8"
             ],
             [
              0.3333333333333333,
              "#9c179e"
             ],
             [
              0.4444444444444444,
              "#bd3786"
             ],
             [
              0.5555555555555556,
              "#d8576b"
             ],
             [
              0.6666666666666666,
              "#ed7953"
             ],
             [
              0.7777777777777778,
              "#fb9f3a"
             ],
             [
              0.8888888888888888,
              "#fdca26"
             ],
             [
              1,
              "#f0f921"
             ]
            ],
            "type": "surface"
           }
          ],
          "table": [
           {
            "cells": {
             "fill": {
              "color": "#EBF0F8"
             },
             "line": {
              "color": "white"
             }
            },
            "header": {
             "fill": {
              "color": "#C8D4E3"
             },
             "line": {
              "color": "white"
             }
            },
            "type": "table"
           }
          ]
         },
         "layout": {
          "annotationdefaults": {
           "arrowcolor": "#2a3f5f",
           "arrowhead": 0,
           "arrowwidth": 1
          },
          "autotypenumbers": "strict",
          "coloraxis": {
           "colorbar": {
            "outlinewidth": 0,
            "ticks": ""
           }
          },
          "colorscale": {
           "diverging": [
            [
             0,
             "#8e0152"
            ],
            [
             0.1,
             "#c51b7d"
            ],
            [
             0.2,
             "#de77ae"
            ],
            [
             0.3,
             "#f1b6da"
            ],
            [
             0.4,
             "#fde0ef"
            ],
            [
             0.5,
             "#f7f7f7"
            ],
            [
             0.6,
             "#e6f5d0"
            ],
            [
             0.7,
             "#b8e186"
            ],
            [
             0.8,
             "#7fbc41"
            ],
            [
             0.9,
             "#4d9221"
            ],
            [
             1,
             "#276419"
            ]
           ],
           "sequential": [
            [
             0,
             "#0d0887"
            ],
            [
             0.1111111111111111,
             "#46039f"
            ],
            [
             0.2222222222222222,
             "#7201a8"
            ],
            [
             0.3333333333333333,
             "#9c179e"
            ],
            [
             0.4444444444444444,
             "#bd3786"
            ],
            [
             0.5555555555555556,
             "#d8576b"
            ],
            [
             0.6666666666666666,
             "#ed7953"
            ],
            [
             0.7777777777777778,
             "#fb9f3a"
            ],
            [
             0.8888888888888888,
             "#fdca26"
            ],
            [
             1,
             "#f0f921"
            ]
           ],
           "sequentialminus": [
            [
             0,
             "#0d0887"
            ],
            [
             0.1111111111111111,
             "#46039f"
            ],
            [
             0.2222222222222222,
             "#7201a8"
            ],
            [
             0.3333333333333333,
             "#9c179e"
            ],
            [
             0.4444444444444444,
             "#bd3786"
            ],
            [
             0.5555555555555556,
             "#d8576b"
            ],
            [
             0.6666666666666666,
             "#ed7953"
            ],
            [
             0.7777777777777778,
             "#fb9f3a"
            ],
            [
             0.8888888888888888,
             "#fdca26"
            ],
            [
             1,
             "#f0f921"
            ]
           ]
          },
          "colorway": [
           "#636efa",
           "#EF553B",
           "#00cc96",
           "#ab63fa",
           "#FFA15A",
           "#19d3f3",
           "#FF6692",
           "#B6E880",
           "#FF97FF",
           "#FECB52"
          ],
          "font": {
           "color": "#2a3f5f"
          },
          "geo": {
           "bgcolor": "white",
           "lakecolor": "white",
           "landcolor": "#E5ECF6",
           "showlakes": true,
           "showland": true,
           "subunitcolor": "white"
          },
          "hoverlabel": {
           "align": "left"
          },
          "hovermode": "closest",
          "mapbox": {
           "style": "light"
          },
          "paper_bgcolor": "white",
          "plot_bgcolor": "#E5ECF6",
          "polar": {
           "angularaxis": {
            "gridcolor": "white",
            "linecolor": "white",
            "ticks": ""
           },
           "bgcolor": "#E5ECF6",
           "radialaxis": {
            "gridcolor": "white",
            "linecolor": "white",
            "ticks": ""
           }
          },
          "scene": {
           "xaxis": {
            "backgroundcolor": "#E5ECF6",
            "gridcolor": "white",
            "gridwidth": 2,
            "linecolor": "white",
            "showbackground": true,
            "ticks": "",
            "zerolinecolor": "white"
           },
           "yaxis": {
            "backgroundcolor": "#E5ECF6",
            "gridcolor": "white",
            "gridwidth": 2,
            "linecolor": "white",
            "showbackground": true,
            "ticks": "",
            "zerolinecolor": "white"
           },
           "zaxis": {
            "backgroundcolor": "#E5ECF6",
            "gridcolor": "white",
            "gridwidth": 2,
            "linecolor": "white",
            "showbackground": true,
            "ticks": "",
            "zerolinecolor": "white"
           }
          },
          "shapedefaults": {
           "line": {
            "color": "#2a3f5f"
           }
          },
          "ternary": {
           "aaxis": {
            "gridcolor": "white",
            "linecolor": "white",
            "ticks": ""
           },
           "baxis": {
            "gridcolor": "white",
            "linecolor": "white",
            "ticks": ""
           },
           "bgcolor": "#E5ECF6",
           "caxis": {
            "gridcolor": "white",
            "linecolor": "white",
            "ticks": ""
           }
          },
          "title": {
           "x": 0.05
          },
          "xaxis": {
           "automargin": true,
           "gridcolor": "white",
           "linecolor": "white",
           "ticks": "",
           "title": {
            "standoff": 15
           },
           "zerolinecolor": "white",
           "zerolinewidth": 2
          },
          "yaxis": {
           "automargin": true,
           "gridcolor": "white",
           "linecolor": "white",
           "ticks": "",
           "title": {
            "standoff": 15
           },
           "zerolinecolor": "white",
           "zerolinewidth": 2
          }
         }
        },
        "title": {
         "text": "Residual plot of GDP per capita (current US$)"
        },
        "xaxis": {
         "anchor": "y",
         "domain": [
          0,
          1
         ],
         "title": {
          "text": "GDP per capita (current US$)"
         }
        },
        "yaxis": {
         "anchor": "x",
         "domain": [
          0,
          1
         ],
         "title": {
          "text": "Residuals"
         }
        }
       }
      }
     },
     "metadata": {},
     "output_type": "display_data"
    },
    {
     "data": {
      "application/vnd.plotly.v1+json": {
       "config": {
        "plotlyServerURL": "https://plot.ly"
       },
       "data": [
        {
         "hovertemplate": "Inflation, consumer prices (annual %)=%{x}<br>Residuals=%{y}<extra></extra>",
         "legendgroup": "",
         "marker": {
          "color": "#636efa",
          "symbol": "circle"
         },
         "mode": "markers",
         "name": "",
         "orientation": "v",
         "showlegend": false,
         "type": "scatter",
         "x": {
          "bdata": "z3yAk82Uxj8KrMglo/enPxV9GkMtO7O/1AMrTcZp7L8O2Of1pxTrv0pLOoGBwte/ov3oDG8usz8abGZiyuzmPzFZXBYYe/W/EuyTcrGJ3r8ZgaTLLebdPzIcBN6HyeO/LXw+T3C18b+eanrHxNfyvwYDdajIuvG/Ed4ntyIu4r8xKvhtVmjCv3BSOSiV/K6/5NjcQusZw7/VLEBfKmb9P4DBI+eLcfU/Qw2aJnvZ5z921ajv41itP0bcgsrx+Mk/r+GS8V1I7z8gsIgh/5n3P8ipg5yJevA/icSODm9NC8DsN2ePdgj5vxRTHTeSFdA/HnMZp0MYyb+ShFU5+ArqvyWyTv7Hee+/lq1HR14c9L+N+yuOQSvxv/qegycOm+y/DzrMyJrH6r88u6pXUPXivz+y6HsfEvS/X0kPZY2Pyj//bUoI6jnUP5L/frr9c7I/lSQPq6F4pr89MV4b6lKHP98ijQmOC8C/7tD0kQhu5T9/6c8p8LDlvzC6DSgnONK/3VFkvELZ1z+xlYjEN0vgPxEdfFupddy/kJ1/eLWi7r8HBTFmNwPxv/tsG+EZIPK/QR38QYw93L/98O5JmDnfv1KvLTd6bui/CLpKTFSX8z9XiZ7tFT3WP0zXdzDEYMI/8NBBlWgd8z+hImNz2HbcP+jkeeBgE8w/z7Hte5mM2r/gtPNGaSS1v9G/TrO4h/Q/9lR7YC885b8UnJRw63vxv51nPxaEtc2/NTVntHdhtD914Ch/XeeMPx+eTyoQGNe/Ih4n7pRw978Bve1zeA/tv23Tloy8/Os/cm+iw2W8/j9xvoiurY0SQB3IrijP+fM/f8pPz08i2b/G+gjZb0XxP08Sph7OG+E/h7MxhvMe4b/jwi2w2nfwv918pKjnvvi/VcVh0/Z/479fIoq1GbfrP6egz1qeE9U/TVPxNq7KwT+WO/5+8PQGQO+7V/xZc9U/H2YP88Y69D81C/GRHAzXP14zFJcjMfU/iTqLXuRuzr8scWVmDKPiv5J+b2qvAe8/hv5+kBDC6T9rC9UzEWnWv4rgYeTO+fG/HZQqLQ4Q9L9rqmGU5rH1v3Rc1gKsYNm//4TC84XTzT/J63rJnBPVvy3VDUQu26a/o4YoOZu61b/yHXfJ01fhvwZtaAEACsu/QwIt9JKA0b+GGaWPvXrQv6oGpz0bvL4/sk6aWd6+0j/QNsUqI2/tv9eYpZ1HLeC/0/7Yfz0Qaj+uOwRLZECgv8MzqR6Q6tK/i1vdLIV647/3krDB2w3qv5PeVxEob+q/x7iaAp/B0r8QsvC++ZXGv12dYSla5dS/cIU0S6T12z+R6JzPTqhpPzBl3nTZqN6/+g7GVjnYwL+CPpCOZGyzvyRyRuqUMcm/nIb+l6KT5j8e7lZvwp7Zvz4LnUfxNcA/WqqAreoc1z8lbTAwxQrGP0LCr5OSc+W/Jg+pmxY56b+bCl1jiBnrv6OVq+5MfO6/vu6FQdfm3r9pRHAGTQrlv0QeiPdP+OW/R0AEG5KnhL/GswJgIf60P1qZ7ch/D8w/9TgdEV4E1D9AZq99RVDAP0YhmgXoVeY/9RZMUuCB7L9oDLQskW27P7RiSSWte+Y/zKu9sJDm0z/qjyrX3nXGv0uEQQJFJOi/UOLTQhu46r8ZJL3/Hc3tv59Zu+Z4rca/luXqBCoh0r+yxVxOmdbFv8m5np6/iek/iM8zl1uiyT8XiNZvlRDKPx2cWxiNnuo/QLAy49/7/T+G2MvGPpzkv7ns7dTa9cG/PJ4Iuv/Ywb8rG+sCK7XRPzCWwqR5GsS/b4z4NqBV77/yACH/yb31v6gDg5mh3eY/JCnqj5lA4D8iusFnJULgP0OCWGcMyOU/7YzLm6896D8Ne6YVKA7YPwVkpgGaz/A/i99+b9C/87+r+zC/QgzCv4UgfuwT4+I/7/065iRGyT8bxsmbgCPWvwRwsR+VmvK/uDvX4sKH9b+y3C/nBAnzv/r1NmsoTq6/mNv5yFtryr9wZ/O0xfPmv/7HQsIqJOe/GUrx81DM7r9qIYRABST3v+3+JyqbKPO/ztukHr9y8b9lSSoCOuz6v+j2oya6+vS//bPc8sq66b8yrckDyPvivyeF2LkX/9q/eegx17aJyb9Jh4LqLzfgvxv14HFGhM6/Rg04Z//6yz8PZmaR7njdv3SJ3EYPm9q/9CxC6EQ7wj9owgzNy+fJPwOQvt0EWc0/iBIhPHZR4r+hn8Ebqp3ov+juBnNJXu2/JtLtMzkM179e87qi/YHIv5oNhZyC7NI/JixbwUZF4z/cSxIrI9zDP7xyBeGqZ+E/UsLxaL1o0T+pRXMRuVb4v5DdoBwOV9a/lp+TqU+L6j+Tu3XJfn/qv9ieN3/+fui/XSN5tGbg8T8ko1rqAzS7P56k9MFWjuY/ZucTsRlw4j9gAXTEYfGbvwsdF1WCz9s/kBlnb0V5+D/+IBBIW88GQMyUIWY30PI/b3k2xmQD5j+y4g5Yc8GuPy2bVzKBStq/XUd2C6Ieyj/+ZPQw3Y/xP6yEhhIo7uw/WzCdxbMl0T/sX2PlhS/yP6TvlW7e/eg/e+40O/ni8L8sbilma+j2v3jUKDToVW0/s7XpapkI4T9jklT9tRHMP73WMdD1Duu/pYQX617/0b/uzXRXI3LBP8vAs/Cyu+a/o6tWHEc87D+pWafqDjOxPzUtAZAAc8c/zgRHQktI2r/hBVGLKf/mv0i+WuLxjps/Ve5cY+Rhjb8ziS3kSFyrP1F9qnlf0eg/yIItaUwCur+373eprVHXP0TjgnJxcqo/tgFtcnGWA0CHQcuhyALpPxbLp6qwpQBA3NhamwAG/j+NDM0hlD7zv1WC7ew1D+y/k4XwZZYu2j8+qZpPvhfQv1r4SCryOo4/s+obzR/g1z/UAVbe0aDCv6CpwJZFfsC/MChJ4eNH9D8L6NO8bcjxvxlVQ8CCHbA/0GGAZICE6D+aYxqrxNPZP/CuylpxBeC/Cqe3hCv67L+AMYK1NETpv3Ktiwjviam/t4j+EOp/nj9T5gsYsxaBv68UzWc0MdW/ZzrwiehT7r8hainGWnzCPxRcOrx/6te/YV8bjZ3tcL86kxFFWte+P3JJ8+KgCNW/lX6ZYherqj/hJ+RQOzjjP9qSQe+uMOq/IOAs86whwb9HW7FlPmfkP4HuIw/R7Ms/pAnswV98or9RVSxCXQ7Pv78Oe29ppuO/sp+jr72747/t5wzh3Rt6P79xKhBP9qK/3oioXf4J0r85UqnNmM/bP+oyHSybrts/4YkQrmon9j//3pGLpA75v8Ufaa2JQfi/BayK0HfRfL9D0RAncUDiPx78kdsyEvA/QDAVRQVZA0Co8V4krv34P73sXxkWQhZAdHe5zWDPFEBis0X6HOL7P7ZlG0UvMPA/ZGVC0dsd+j8q0C1DBDjuPzo92n1ZQoq/2kvl2dY6zb/MHMkxvvLIv4oKXc48scS/Zxplp3Sz3b8WSgOehP3Rv4vl24YHZNK/81s1l8Q217+08vBBhr/Wv8rJwFwafoU/rmYzrMDpyT+eeAsC8EfFPx9E4ri1Vug/68N63/PJrL+fUABwlWTMP6CV0Gao8u0/qEqgp7Pl0D/KBzbf7da9P0Fd3PF/ttS/7ck4ANuB7L87HMYEicbhv95ma63iYNA/4qyuUzL/vT/MyWfCHDDGvyZK1fyQWsq/xfInsjsdzb8gklOPKYizv1+/wV5vgY8/55cJPmeSoz94Hv7X3KrFv+hsAvHM7dg/fgl+mgsI0r+6E+b1VTPkv5NqwbxOmu+/GPePsTG3AkCos3OgAs8QQK7sN7RH7htA/QK+BDCN6D/r4nifFG36v76pb4I/SfM/umSPYjNMuT9wkFj5m5Xxv7EycvDRRui/vxivFlHB77/crBW/wCjwv7tm9TIC3tw/QJafx+Uxzz+5r0MEZkW2v/QRSggmKdc/+WGTQS5svL/1s+Oi+SnPP+HtVsFER9o/TQhgScf4AUBoH37Ag5fhv4GXPxoa/dO/iOBErbhctL/g6m7suGvkP7a2fDCFJNW/yqtC/hHp7L99CSBPnX3tv6V2/556OOe//myr6MGRyT8qeM87uo6lPyC/pQV0+OO/G/RC7xCK77+a+PmFTTjovyCceZEW19C/p1KLfKqZzT9Ha4KhdbvwP6s+IYBtVvG/YjFq51ap3b+rrHA785XmPxYfrc73xtg/Auc2i2fN07/0ntNE6Dnhv2hlGlB0FPO/R8weLJqy7L8fTGgd+QnmvzTi3s8Jg+C//OOckkeD4b8=",
          "dtype": "f8"
         },
         "xaxis": "x",
         "y": {
          "bdata": "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",
          "dtype": "f8"
         },
         "yaxis": "y"
        }
       ],
       "layout": {
        "legend": {
         "tracegroupgap": 0
        },
        "template": {
         "data": {
          "bar": [
           {
            "error_x": {
             "color": "#2a3f5f"
            },
            "error_y": {
             "color": "#2a3f5f"
            },
            "marker": {
             "line": {
              "color": "#E5ECF6",
              "width": 0.5
             },
             "pattern": {
              "fillmode": "overlay",
              "size": 10,
              "solidity": 0.2
             }
            },
            "type": "bar"
           }
          ],
          "barpolar": [
           {
            "marker": {
             "line": {
              "color": "#E5ECF6",
              "width": 0.5
             },
             "pattern": {
              "fillmode": "overlay",
              "size": 10,
              "solidity": 0.2
             }
            },
            "type": "barpolar"
           }
          ],
          "carpet": [
           {
            "aaxis": {
             "endlinecolor": "#2a3f5f",
             "gridcolor": "white",
             "linecolor": "white",
             "minorgridcolor": "white",
             "startlinecolor": "#2a3f5f"
            },
            "baxis": {
             "endlinecolor": "#2a3f5f",
             "gridcolor": "white",
             "linecolor": "white",
             "minorgridcolor": "white",
             "startlinecolor": "#2a3f5f"
            },
            "type": "carpet"
           }
          ],
          "choropleth": [
           {
            "colorbar": {
             "outlinewidth": 0,
             "ticks": ""
            },
            "type": "choropleth"
           }
          ],
          "contour": [
           {
            "colorbar": {
             "outlinewidth": 0,
             "ticks": ""
            },
            "colorscale": [
             [
              0,
              "#0d0887"
             ],
             [
              0.1111111111111111,
              "#46039f"
             ],
             [
              0.2222222222222222,
              "#7201a8"
             ],
             [
              0.3333333333333333,
              "#9c179e"
             ],
             [
              0.4444444444444444,
              "#bd3786"
             ],
             [
              0.5555555555555556,
              "#d8576b"
             ],
             [
              0.6666666666666666,
              "#ed7953"
             ],
             [
              0.7777777777777778,
              "#fb9f3a"
             ],
             [
              0.8888888888888888,
              "#fdca26"
             ],
             [
              1,
              "#f0f921"
             ]
            ],
            "type": "contour"
           }
          ],
          "contourcarpet": [
           {
            "colorbar": {
             "outlinewidth": 0,
             "ticks": ""
            },
            "type": "contourcarpet"
           }
          ],
          "heatmap": [
           {
            "colorbar": {
             "outlinewidth": 0,
             "ticks": ""
            },
            "colorscale": [
             [
              0,
              "#0d0887"
             ],
             [
              0.1111111111111111,
              "#46039f"
             ],
             [
              0.2222222222222222,
              "#7201a8"
             ],
             [
              0.3333333333333333,
              "#9c179e"
             ],
             [
              0.4444444444444444,
              "#bd3786"
             ],
             [
              0.5555555555555556,
              "#d8576b"
             ],
             [
              0.6666666666666666,
              "#ed7953"
             ],
             [
              0.7777777777777778,
              "#fb9f3a"
             ],
             [
              0.8888888888888888,
              "#fdca26"
             ],
             [
              1,
              "#f0f921"
             ]
            ],
            "type": "heatmap"
           }
          ],
          "histogram": [
           {
            "marker": {
             "pattern": {
              "fillmode": "overlay",
              "size": 10,
              "solidity": 0.2
             }
            },
            "type": "histogram"
           }
          ],
          "histogram2d": [
           {
            "colorbar": {
             "outlinewidth": 0,
             "ticks": ""
            },
            "colorscale": [
             [
              0,
              "#0d0887"
             ],
             [
              0.1111111111111111,
              "#46039f"
             ],
             [
              0.2222222222222222,
              "#7201a8"
             ],
             [
              0.3333333333333333,
              "#9c179e"
             ],
             [
              0.4444444444444444,
              "#bd3786"
             ],
             [
              0.5555555555555556,
              "#d8576b"
             ],
             [
              0.6666666666666666,
              "#ed7953"
             ],
             [
              0.7777777777777778,
              "#fb9f3a"
             ],
             [
              0.8888888888888888,
              "#fdca26"
             ],
             [
              1,
              "#f0f921"
             ]
            ],
            "type": "histogram2d"
           }
          ],
          "histogram2dcontour": [
           {
            "colorbar": {
             "outlinewidth": 0,
             "ticks": ""
            },
            "colorscale": [
             [
              0,
              "#0d0887"
             ],
             [
              0.1111111111111111,
              "#46039f"
             ],
             [
              0.2222222222222222,
              "#7201a8"
             ],
             [
              0.3333333333333333,
              "#9c179e"
             ],
             [
              0.4444444444444444,
              "#bd3786"
             ],
             [
              0.5555555555555556,
              "#d8576b"
             ],
             [
              0.6666666666666666,
              "#ed7953"
             ],
             [
              0.7777777777777778,
              "#fb9f3a"
             ],
             [
              0.8888888888888888,
              "#fdca26"
             ],
             [
              1,
              "#f0f921"
             ]
            ],
            "type": "histogram2dcontour"
           }
          ],
          "mesh3d": [
           {
            "colorbar": {
             "outlinewidth": 0,
             "ticks": ""
            },
            "type": "mesh3d"
           }
          ],
          "parcoords": [
           {
            "line": {
             "colorbar": {
              "outlinewidth": 0,
              "ticks": ""
             }
            },
            "type": "parcoords"
           }
          ],
          "pie": [
           {
            "automargin": true,
            "type": "pie"
           }
          ],
          "scatter": [
           {
            "fillpattern": {
             "fillmode": "overlay",
             "size": 10,
             "solidity": 0.2
            },
            "type": "scatter"
           }
          ],
          "scatter3d": [
           {
            "line": {
             "colorbar": {
              "outlinewidth": 0,
              "ticks": ""
             }
            },
            "marker": {
             "colorbar": {
              "outlinewidth": 0,
              "ticks": ""
             }
            },
            "type": "scatter3d"
           }
          ],
          "scattercarpet": [
           {
            "marker": {
             "colorbar": {
              "outlinewidth": 0,
              "ticks": ""
             }
            },
            "type": "scattercarpet"
           }
          ],
          "scattergeo": [
           {
            "marker": {
             "colorbar": {
              "outlinewidth": 0,
              "ticks": ""
             }
            },
            "type": "scattergeo"
           }
          ],
          "scattergl": [
           {
            "marker": {
             "colorbar": {
              "outlinewidth": 0,
              "ticks": ""
             }
            },
            "type": "scattergl"
           }
          ],
          "scattermap": [
           {
            "marker": {
             "colorbar": {
              "outlinewidth": 0,
              "ticks": ""
             }
            },
            "type": "scattermap"
           }
          ],
          "scattermapbox": [
           {
            "marker": {
             "colorbar": {
              "outlinewidth": 0,
              "ticks": ""
             }
            },
            "type": "scattermapbox"
           }
          ],
          "scatterpolar": [
           {
            "marker": {
             "colorbar": {
              "outlinewidth": 0,
              "ticks": ""
             }
            },
            "type": "scatterpolar"
           }
          ],
          "scatterpolargl": [
           {
            "marker": {
             "colorbar": {
              "outlinewidth": 0,
              "ticks": ""
             }
            },
            "type": "scatterpolargl"
           }
          ],
          "scatterternary": [
           {
            "marker": {
             "colorbar": {
              "outlinewidth": 0,
              "ticks": ""
             }
            },
            "type": "scatterternary"
           }
          ],
          "surface": [
           {
            "colorbar": {
             "outlinewidth": 0,
             "ticks": ""
            },
            "colorscale": [
             [
              0,
              "#0d0887"
             ],
             [
              0.1111111111111111,
              "#46039f"
             ],
             [
              0.2222222222222222,
              "#7201a8"
             ],
             [
              0.3333333333333333,
              "#9c179e"
             ],
             [
              0.4444444444444444,
              "#bd3786"
             ],
             [
              0.5555555555555556,
              "#d8576b"
             ],
             [
              0.6666666666666666,
              "#ed7953"
             ],
             [
              0.7777777777777778,
              "#fb9f3a"
             ],
             [
              0.8888888888888888,
              "#fdca26"
             ],
             [
              1,
              "#f0f921"
             ]
            ],
            "type": "surface"
           }
          ],
          "table": [
           {
            "cells": {
             "fill": {
              "color": "#EBF0F8"
             },
             "line": {
              "color": "white"
             }
            },
            "header": {
             "fill": {
              "color": "#C8D4E3"
             },
             "line": {
              "color": "white"
             }
            },
            "type": "table"
           }
          ]
         },
         "layout": {
          "annotationdefaults": {
           "arrowcolor": "#2a3f5f",
           "arrowhead": 0,
           "arrowwidth": 1
          },
          "autotypenumbers": "strict",
          "coloraxis": {
           "colorbar": {
            "outlinewidth": 0,
            "ticks": ""
           }
          },
          "colorscale": {
           "diverging": [
            [
             0,
             "#8e0152"
            ],
            [
             0.1,
             "#c51b7d"
            ],
            [
             0.2,
             "#de77ae"
            ],
            [
             0.3,
             "#f1b6da"
            ],
            [
             0.4,
             "#fde0ef"
            ],
            [
             0.5,
             "#f7f7f7"
            ],
            [
             0.6,
             "#e6f5d0"
            ],
            [
             0.7,
             "#b8e186"
            ],
            [
             0.8,
             "#7fbc41"
            ],
            [
             0.9,
             "#4d9221"
            ],
            [
             1,
             "#276419"
            ]
           ],
           "sequential": [
            [
             0,
             "#0d0887"
            ],
            [
             0.1111111111111111,
             "#46039f"
            ],
            [
             0.2222222222222222,
             "#7201a8"
            ],
            [
             0.3333333333333333,
             "#9c179e"
            ],
            [
             0.4444444444444444,
             "#bd3786"
            ],
            [
             0.5555555555555556,
             "#d8576b"
            ],
            [
             0.6666666666666666,
             "#ed7953"
            ],
            [
             0.7777777777777778,
             "#fb9f3a"
            ],
            [
             0.8888888888888888,
             "#fdca26"
            ],
            [
             1,
             "#f0f921"
            ]
           ],
           "sequentialminus": [
            [
             0,
             "#0d0887"
            ],
            [
             0.1111111111111111,
             "#46039f"
            ],
            [
             0.2222222222222222,
             "#7201a8"
            ],
            [
             0.3333333333333333,
             "#9c179e"
            ],
            [
             0.4444444444444444,
             "#bd3786"
            ],
            [
             0.5555555555555556,
             "#d8576b"
            ],
            [
             0.6666666666666666,
             "#ed7953"
            ],
            [
             0.7777777777777778,
             "#fb9f3a"
            ],
            [
             0.8888888888888888,
             "#fdca26"
            ],
            [
             1,
             "#f0f921"
            ]
           ]
          },
          "colorway": [
           "#636efa",
           "#EF553B",
           "#00cc96",
           "#ab63fa",
           "#FFA15A",
           "#19d3f3",
           "#FF6692",
           "#B6E880",
           "#FF97FF",
           "#FECB52"
          ],
          "font": {
           "color": "#2a3f5f"
          },
          "geo": {
           "bgcolor": "white",
           "lakecolor": "white",
           "landcolor": "#E5ECF6",
           "showlakes": true,
           "showland": true,
           "subunitcolor": "white"
          },
          "hoverlabel": {
           "align": "left"
          },
          "hovermode": "closest",
          "mapbox": {
           "style": "light"
          },
          "paper_bgcolor": "white",
          "plot_bgcolor": "#E5ECF6",
          "polar": {
           "angularaxis": {
            "gridcolor": "white",
            "linecolor": "white",
            "ticks": ""
           },
           "bgcolor": "#E5ECF6",
           "radialaxis": {
            "gridcolor": "white",
            "linecolor": "white",
            "ticks": ""
           }
          },
          "scene": {
           "xaxis": {
            "backgroundcolor": "#E5ECF6",
            "gridcolor": "white",
            "gridwidth": 2,
            "linecolor": "white",
            "showbackground": true,
            "ticks": "",
            "zerolinecolor": "white"
           },
           "yaxis": {
            "backgroundcolor": "#E5ECF6",
            "gridcolor": "white",
            "gridwidth": 2,
            "linecolor": "white",
            "showbackground": true,
            "ticks": "",
            "zerolinecolor": "white"
           },
           "zaxis": {
            "backgroundcolor": "#E5ECF6",
            "gridcolor": "white",
            "gridwidth": 2,
            "linecolor": "white",
            "showbackground": true,
            "ticks": "",
            "zerolinecolor": "white"
           }
          },
          "shapedefaults": {
           "line": {
            "color": "#2a3f5f"
           }
          },
          "ternary": {
           "aaxis": {
            "gridcolor": "white",
            "linecolor": "white",
            "ticks": ""
           },
           "baxis": {
            "gridcolor": "white",
            "linecolor": "white",
            "ticks": ""
           },
           "bgcolor": "#E5ECF6",
           "caxis": {
            "gridcolor": "white",
            "linecolor": "white",
            "ticks": ""
           }
          },
          "title": {
           "x": 0.05
          },
          "xaxis": {
           "automargin": true,
           "gridcolor": "white",
           "linecolor": "white",
           "ticks": "",
           "title": {
            "standoff": 15
           },
           "zerolinecolor": "white",
           "zerolinewidth": 2
          },
          "yaxis": {
           "automargin": true,
           "gridcolor": "white",
           "linecolor": "white",
           "ticks": "",
           "title": {
            "standoff": 15
           },
           "zerolinecolor": "white",
           "zerolinewidth": 2
          }
         }
        },
        "title": {
         "text": "Residual plot of Inflation, consumer prices (annual %)"
        },
        "xaxis": {
         "anchor": "y",
         "domain": [
          0,
          1
         ],
         "title": {
          "text": "Inflation, consumer prices (annual %)"
         }
        },
        "yaxis": {
         "anchor": "x",
         "domain": [
          0,
          1
         ],
         "title": {
          "text": "Residuals"
         }
        }
       }
      }
     },
     "metadata": {},
     "output_type": "display_data"
    },
    {
     "data": {
      "application/vnd.plotly.v1+json": {
       "config": {
        "plotlyServerURL": "https://plot.ly"
       },
       "data": [
        {
         "hovertemplate": "Region_East Asia and Pacific=%{x}<br>Residuals=%{y}<extra></extra>",
         "legendgroup": "",
         "marker": {
          "color": "#636efa",
          "symbol": "circle"
         },
         "mode": "markers",
         "name": "",
         "orientation": "v",
         "showlegend": false,
         "type": "scatter",
         "x": {
          "bdata": "AAAAAAAAAAAAAAAAAAAAAAAAAAAAAAAAAAAAAAAAAAAAAAAAAAAAAAAAAAAAAAAAAAAAAAAAAAAAAAAAAAAAAAAAAAAAAAAAAAAAAAAAAAAAAAAAAAAAAAAAAAAAAAAAAAAAAAAAAAAAAAAAAAAAAAAAAAAAAAAAAAAAAAAAAAAAAAAAAAAAAAAAAAAAAAAAAAAAAAAAAAAAAAAAAAAAAAAAAAAAAAAAAAAAAAAAAAAAAAAAAAAAAAAAAAAAAAAAAAAAAAAAAAAAAAAAAAAAAAAAAAAAAAAAAAAAAAAAAAAAAAAAAAAAAAAAAAAAAAAAAAAAAAAAAAAAAAAAAAAAAAAAAAAAAAAAAAAAAAAAAAAAAAAAAAAAAAAAAAAAAAAAAAAAAAAAAAAAAAAAAAAAAAAAAAAAAAAAAAAAAAAAAAAAAAAAAAAAAAAAAAAAAAAAAAAAAAAAAAAAAAAAAAAAAAAAAAAAAAAAAAAAAAAAAAAAAAAAAAAAAAAAAAAAAAAAAAAAAAAAAAAAAAAAAAAAAAAAAAAAAAAAAAAAAAAAAAAAAAAAAAAAAAAAAAAAAAAAAAAAAAAAAAAAAAAAAAAAAAAAAAAAAAAAAAAAAAAA8D8AAAAAAADwPwAAAAAAAPA/AAAAAAAA8D8AAAAAAADwPwAAAAAAAPA/AAAAAAAA8D8AAAAAAADwPwAAAAAAAAAAAAAAAAAAAAAAAAAAAAAAAAAAAAAAAAAAAAAAAAAAAAAAAAAAAAAAAAAAAAAAAPA/AAAAAAAA8D8AAAAAAADwPwAAAAAAAAAAAAAAAAAAAAAAAAAAAAAAAAAAAAAAAAAAAAAAAAAAAAAAAAAAAAAAAAAAAAAAAAAAAAAAAAAAAAAAAAAAAAAAAAAAAAAAAAAAAAAAAAAAAAAAAAAAAAAAAAAAAAAAAAAAAAAAAAAAAAAAAAAAAAAAAAAAAAAAAAAAAAAAAAAAAAAAAAAAAAAAAAAAAAAAAAAAAAAAAAAAAAAAAAAAAAAAAAAAAAAAAAAAAAAAAAAAAAAAAAAAAAAAAAAAAAAAAAAAAAAAAAAAAAAAAAAAAAAAAAAAAAAAAAAAAAAAAAAAAAAAAAAAAAAAAAAAAAAAAAAAAAAAAAAAAAAAAAAAAAAAAAAAAAAAAAAAAAAAAAAAAAAAAAAAAAAAAAAAAAAAAAAAAAAAAAAAAAAAAAAAAAAAAAAAAAAAAAAAAAAAAAAAAAAAAAAAAAAAAAAAAAAAAAAAAAAAAAAAAAAAAAAAAAAAAAAAAAAAAAAAAAAAAAAAAAAAAAAAAAAAAAAAAAAAAAAAAAAAAAAAAAAAAAAAAAAAAAAAAAAAAAAAAAAAAAAAAAAAAAAAAAAAAAAAAAAAAAAAAAAAAAAAAAAAAAAAAAAAAAAAAAAAAAAAAAAAAAAAAAAAAAAAAAAAAAAAAAAAAAAAAAAAAAAAAAAAAAAAAAAAAAAAAAAAAAAAAAAAAAAAAAAAAAAAAAAAAAAAAAAAAAAAAAAAAAAAAAAAAAAAAAAAAAAAAAAAAAAAAAAAAAAAAAAAAAAAAAAAAAAAAAAAAAAAAAAAAAAAAAAAAAAAAAAAAAAAAAAAAAAAAAAAAAAAAAAAAAAAAAAAAAAAAAAAAAAAAAAAAAAAAAAAAAAAAAAAAAAAAAAAAAAAAAAAAAAAAAAAAAAAAAAAAAAAAAAAAAAAAAAAAAAAAAAAAAAAAAAAAAAAAAAAAAAAAAAAAAAAAAAAAAAAAAAAAAAAAAAAAAAAAAAAAAAAAAAAAAAAAAAAAAAAAAAAAAAAAAAAAAAAAAAAAAAAAAAAAAAAAAAAAAAAAAAAAAAAAAAAAAAAAAAAAAAAAAAAAAAAAAAAAAAAAAAAAAAAAAAAAAAAAAAAAAAAAAAAAAAAAAAAAAAAAAAAAAAAAAAAAAAAAAAAAAAAAAAAAAAAAAAAAAAAAAAAAAAAAAAAAAAAAAAAAAAAAAAAAAAAAAAAAAAAAAAAAAAAAAAAAAAAAAAAAAAAAAAAAAAAAAAAAAAAAAAAAAAAAAAAAAAAAAAAAAAAAAAAAAAAAAAAAAAAAAAAAAAAAAAAAAAAAAAAAAAAAAAAAAAAAAAAAAAAAAAAAAAAAAAAAAAAAAAAAAAAAAAAAAAAAAAAAAAAAAAAAAAAAAAAAAAAAAAAAAAAAAAAAAAAAAAAAAAAAAAAAAAAAAAAAAAAAAAAAAAAAAAAAAAAAAAAAAAAAAAAAAAAAAAAAAAAAAAAAAAAAAAAAAAAAAAAAAAAAAAAAAAAAAAAAAAAAAAAAAAAAAAAAAAAAAAAAAAAAAAAAAAAAAAAAAAAAAAAAAAAAAAAAAAAAAAAAAAAAAAAAAAAAAAAAAAAAAAAAAAAAAAAAAAAAAAAAAAAAAAAAAAAAAAAAAAAAAAAAAAAAAAAAAAAAAAAAAAAAAAAAAAAAAAAAAAAAAAAAAAAAAAAAAAAAAAAAAAAAAAAAAAAAAAAAAAAAAAAAAAAAAAAAAAAAAAAAAAAAAAAAAAAAAAAAAAAAAAAAAAAAAAAAAAAAAAAAAAAAAAAAAAAAAAAAAAAAAAAAAAAAAAAAAAAAAAAAAAAAAAAAAAAAAAAAAAAAAAAAAAAAAAAAAAAAAAAAAAAAAAAAAAAAAAAAAAAAAAAAAAAAAAAAAAAAAAAAAAAAAAAAAAAAAAAAAAAAAAAAAAAAAAAAAAAAAAAAAAAAAAAAAAAAAAAAAAAAAAAAAAAAAAAAAAAAAAAAAAAAAAAAAAAAAAAAAAAAAAAAAAAAAAAAAAAAAAAAAAAAAAAAAAAAAAAAAAAAAAAAAAAAAAAAAAAAAAAAAAAAAAAAAAAAAAAAAAAAAAAAAAAAAAAAAAAAAAAAAAAAAAAAAAAAAAAAAAAAAAAAAAAAAAAAAAAAAAAAAAAAAAAAAAAAAAAAAAAAAAAAAAAAAAAAAAAAAAAAAAAAAAAAAAAAAAAAAAAAAAAAAAAAAAAAAAAAAAAAAAAAAAAAAAAAAAAAAAAAAAAAAAAAAAAAAAAAAAAAAAAAAAAAAAAAAAAAAAAAAAAAAAAAAAAAAAAAAAAAAAAAAAAAAAAAAAAAAAAAAAAAAAAAAAAAAAAAAAAAAAAAAAAAAAAAAAAAAAAAAAAAAAAAAAAAAAAAAAAAAAAAAAAAAAAAAAAAAAAAAAAAAAAAAAAAAAAAAAAAAAAAAAAAAAAAAAAAAAAAAAAAAAAAAAAAAAAAAAAAAAAAAAAAAAAAAAAAAAAAAAAAAAAAAAAAAAAAAAAAAAAAAAAAAAAAAAAAAAAAAAAAAAAAAAAAAAAAAAAAAAAAAAAAAAAAAAAAAAAAAAAAAAAAAAAAAAAAAAAAAAAAAAAAAAAAAAAAAAAAAAAAAAAAAAAAAAAAAAAAAAAAAAAAAAAAAAAAAAAAAAAAAAAAAAAAAAAAAAAAAAAAAAAAAAAAAAAAAAAAAAAAAAAAAAAAAAAAAAAAAAAAAAAAAAAAAAAAAAAAAAAAAAAAAAAAAAAAAAAAAAAAAAAAAAAAAAAAAAAAAAAAAAAAAAAAAAAAAAAAAAAAAAAAAAAAAAAAAAAAAAAAAAAAAAAAAAAAAAAAAAAAAAAAAAAAAAAAAAAAAAAAAAAAAAAAAAAAAAAAAAAAAAAAAAAAAAAAAAAAAAAAAAAAAAAAAAAAAAAAAAAAAAAAAAAAAAAAAAAAAAAAAAAAAAAAAAAAAAAAAAAAAAAAAAAAAAAAAAAAAAAAAAAAAAAAAAAAAAAAAAAAAAAAAAAAAAAAAAAAAAAAAAAAAAAAAAAAAAAAAAAAAAAAAAAAAAAAAAAAAAAAAAAAAAAAAAAAAAAAAAAAAAAAAAAAAAAAAAAAAAAAAAAAAAAAAAAAAAAAAAAAAAAAAAAAAAAAAAAAAAAAAAAAAAAAAAAAAAAAAAAAAAAAAAAAAAAAAAAAAAAAAAAAAAAAAAAAAAAAAAAAAAAAAAAAAAAAAAAAAAAAAAAAAAAAAAAAAAAAAAAAAAAAAAAAAAAAAAAAAAAAAAAAAAAAAAAAAAAAAAAAAAAAAAAAAAAAAAAAAAAAAAAAAAAAAAAAAAAAAAAAAAAAAAAAAAAAAAAAAAAAAAAAAAAAAAAAAAAAAAAAAAAAAAAAAAAAAAAAAAAAAAAAAAAAAAAAAAAAAAAAAAAAAAAAAAAAAAAAAAAAAAAAAAAAAAAAAAAAAAAAAAAAAAAAAAAAAAAAAAAAAAAAAAAAAAAAAAAAAAAAAAAAAAAAAAAAAAAAAAAAAAAAAAAAAAAAAAAAAAAAAA=",
          "dtype": "f8"
         },
         "xaxis": "x",
         "y": {
          "bdata": "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",
          "dtype": "f8"
         },
         "yaxis": "y"
        }
       ],
       "layout": {
        "legend": {
         "tracegroupgap": 0
        },
        "template": {
         "data": {
          "bar": [
           {
            "error_x": {
             "color": "#2a3f5f"
            },
            "error_y": {
             "color": "#2a3f5f"
            },
            "marker": {
             "line": {
              "color": "#E5ECF6",
              "width": 0.5
             },
             "pattern": {
              "fillmode": "overlay",
              "size": 10,
              "solidity": 0.2
             }
            },
            "type": "bar"
           }
          ],
          "barpolar": [
           {
            "marker": {
             "line": {
              "color": "#E5ECF6",
              "width": 0.5
             },
             "pattern": {
              "fillmode": "overlay",
              "size": 10,
              "solidity": 0.2
             }
            },
            "type": "barpolar"
           }
          ],
          "carpet": [
           {
            "aaxis": {
             "endlinecolor": "#2a3f5f",
             "gridcolor": "white",
             "linecolor": "white",
             "minorgridcolor": "white",
             "startlinecolor": "#2a3f5f"
            },
            "baxis": {
             "endlinecolor": "#2a3f5f",
             "gridcolor": "white",
             "linecolor": "white",
             "minorgridcolor": "white",
             "startlinecolor": "#2a3f5f"
            },
            "type": "carpet"
           }
          ],
          "choropleth": [
           {
            "colorbar": {
             "outlinewidth": 0,
             "ticks": ""
            },
            "type": "choropleth"
           }
          ],
          "contour": [
           {
            "colorbar": {
             "outlinewidth": 0,
             "ticks": ""
            },
            "colorscale": [
             [
              0,
              "#0d0887"
             ],
             [
              0.1111111111111111,
              "#46039f"
             ],
             [
              0.2222222222222222,
              "#7201a8"
             ],
             [
              0.3333333333333333,
              "#9c179e"
             ],
             [
              0.4444444444444444,
              "#bd3786"
             ],
             [
              0.5555555555555556,
              "#d8576b"
             ],
             [
              0.6666666666666666,
              "#ed7953"
             ],
             [
              0.7777777777777778,
              "#fb9f3a"
             ],
             [
              0.8888888888888888,
              "#fdca26"
             ],
             [
              1,
              "#f0f921"
             ]
            ],
            "type": "contour"
           }
          ],
          "contourcarpet": [
           {
            "colorbar": {
             "outlinewidth": 0,
             "ticks": ""
            },
            "type": "contourcarpet"
           }
          ],
          "heatmap": [
           {
            "colorbar": {
             "outlinewidth": 0,
             "ticks": ""
            },
            "colorscale": [
             [
              0,
              "#0d0887"
             ],
             [
              0.1111111111111111,
              "#46039f"
             ],
             [
              0.2222222222222222,
              "#7201a8"
             ],
             [
              0.3333333333333333,
              "#9c179e"
             ],
             [
              0.4444444444444444,
              "#bd3786"
             ],
             [
              0.5555555555555556,
              "#d8576b"
             ],
             [
              0.6666666666666666,
              "#ed7953"
             ],
             [
              0.7777777777777778,
              "#fb9f3a"
             ],
             [
              0.8888888888888888,
              "#fdca26"
             ],
             [
              1,
              "#f0f921"
             ]
            ],
            "type": "heatmap"
           }
          ],
          "histogram": [
           {
            "marker": {
             "pattern": {
              "fillmode": "overlay",
              "size": 10,
              "solidity": 0.2
             }
            },
            "type": "histogram"
           }
          ],
          "histogram2d": [
           {
            "colorbar": {
             "outlinewidth": 0,
             "ticks": ""
            },
            "colorscale": [
             [
              0,
              "#0d0887"
             ],
             [
              0.1111111111111111,
              "#46039f"
             ],
             [
              0.2222222222222222,
              "#7201a8"
             ],
             [
              0.3333333333333333,
              "#9c179e"
             ],
             [
              0.4444444444444444,
              "#bd3786"
             ],
             [
              0.5555555555555556,
              "#d8576b"
             ],
             [
              0.6666666666666666,
              "#ed7953"
             ],
             [
              0.7777777777777778,
              "#fb9f3a"
             ],
             [
              0.8888888888888888,
              "#fdca26"
             ],
             [
              1,
              "#f0f921"
             ]
            ],
            "type": "histogram2d"
           }
          ],
          "histogram2dcontour": [
           {
            "colorbar": {
             "outlinewidth": 0,
             "ticks": ""
            },
            "colorscale": [
             [
              0,
              "#0d0887"
             ],
             [
              0.1111111111111111,
              "#46039f"
             ],
             [
              0.2222222222222222,
              "#7201a8"
             ],
             [
              0.3333333333333333,
              "#9c179e"
             ],
             [
              0.4444444444444444,
              "#bd3786"
             ],
             [
              0.5555555555555556,
              "#d8576b"
             ],
             [
              0.6666666666666666,
              "#ed7953"
             ],
             [
              0.7777777777777778,
              "#fb9f3a"
             ],
             [
              0.8888888888888888,
              "#fdca26"
             ],
             [
              1,
              "#f0f921"
             ]
            ],
            "type": "histogram2dcontour"
           }
          ],
          "mesh3d": [
           {
            "colorbar": {
             "outlinewidth": 0,
             "ticks": ""
            },
            "type": "mesh3d"
           }
          ],
          "parcoords": [
           {
            "line": {
             "colorbar": {
              "outlinewidth": 0,
              "ticks": ""
             }
            },
            "type": "parcoords"
           }
          ],
          "pie": [
           {
            "automargin": true,
            "type": "pie"
           }
          ],
          "scatter": [
           {
            "fillpattern": {
             "fillmode": "overlay",
             "size": 10,
             "solidity": 0.2
            },
            "type": "scatter"
           }
          ],
          "scatter3d": [
           {
            "line": {
             "colorbar": {
              "outlinewidth": 0,
              "ticks": ""
             }
            },
            "marker": {
             "colorbar": {
              "outlinewidth": 0,
              "ticks": ""
             }
            },
            "type": "scatter3d"
           }
          ],
          "scattercarpet": [
           {
            "marker": {
             "colorbar": {
              "outlinewidth": 0,
              "ticks": ""
             }
            },
            "type": "scattercarpet"
           }
          ],
          "scattergeo": [
           {
            "marker": {
             "colorbar": {
              "outlinewidth": 0,
              "ticks": ""
             }
            },
            "type": "scattergeo"
           }
          ],
          "scattergl": [
           {
            "marker": {
             "colorbar": {
              "outlinewidth": 0,
              "ticks": ""
             }
            },
            "type": "scattergl"
           }
          ],
          "scattermap": [
           {
            "marker": {
             "colorbar": {
              "outlinewidth": 0,
              "ticks": ""
             }
            },
            "type": "scattermap"
           }
          ],
          "scattermapbox": [
           {
            "marker": {
             "colorbar": {
              "outlinewidth": 0,
              "ticks": ""
             }
            },
            "type": "scattermapbox"
           }
          ],
          "scatterpolar": [
           {
            "marker": {
             "colorbar": {
              "outlinewidth": 0,
              "ticks": ""
             }
            },
            "type": "scatterpolar"
           }
          ],
          "scatterpolargl": [
           {
            "marker": {
             "colorbar": {
              "outlinewidth": 0,
              "ticks": ""
             }
            },
            "type": "scatterpolargl"
           }
          ],
          "scatterternary": [
           {
            "marker": {
             "colorbar": {
              "outlinewidth": 0,
              "ticks": ""
             }
            },
            "type": "scatterternary"
           }
          ],
          "surface": [
           {
            "colorbar": {
             "outlinewidth": 0,
             "ticks": ""
            },
            "colorscale": [
             [
              0,
              "#0d0887"
             ],
             [
              0.1111111111111111,
              "#46039f"
             ],
             [
              0.2222222222222222,
              "#7201a8"
             ],
             [
              0.3333333333333333,
              "#9c179e"
             ],
             [
              0.4444444444444444,
              "#bd3786"
             ],
             [
              0.5555555555555556,
              "#d8576b"
             ],
             [
              0.6666666666666666,
              "#ed7953"
             ],
             [
              0.7777777777777778,
              "#fb9f3a"
             ],
             [
              0.8888888888888888,
              "#fdca26"
             ],
             [
              1,
              "#f0f921"
             ]
            ],
            "type": "surface"
           }
          ],
          "table": [
           {
            "cells": {
             "fill": {
              "color": "#EBF0F8"
             },
             "line": {
              "color": "white"
             }
            },
            "header": {
             "fill": {
              "color": "#C8D4E3"
             },
             "line": {
              "color": "white"
             }
            },
            "type": "table"
           }
          ]
         },
         "layout": {
          "annotationdefaults": {
           "arrowcolor": "#2a3f5f",
           "arrowhead": 0,
           "arrowwidth": 1
          },
          "autotypenumbers": "strict",
          "coloraxis": {
           "colorbar": {
            "outlinewidth": 0,
            "ticks": ""
           }
          },
          "colorscale": {
           "diverging": [
            [
             0,
             "#8e0152"
            ],
            [
             0.1,
             "#c51b7d"
            ],
            [
             0.2,
             "#de77ae"
            ],
            [
             0.3,
             "#f1b6da"
            ],
            [
             0.4,
             "#fde0ef"
            ],
            [
             0.5,
             "#f7f7f7"
            ],
            [
             0.6,
             "#e6f5d0"
            ],
            [
             0.7,
             "#b8e186"
            ],
            [
             0.8,
             "#7fbc41"
            ],
            [
             0.9,
             "#4d9221"
            ],
            [
             1,
             "#276419"
            ]
           ],
           "sequential": [
            [
             0,
             "#0d0887"
            ],
            [
             0.1111111111111111,
             "#46039f"
            ],
            [
             0.2222222222222222,
             "#7201a8"
            ],
            [
             0.3333333333333333,
             "#9c179e"
            ],
            [
             0.4444444444444444,
             "#bd3786"
            ],
            [
             0.5555555555555556,
             "#d8576b"
            ],
            [
             0.6666666666666666,
             "#ed7953"
            ],
            [
             0.7777777777777778,
             "#fb9f3a"
            ],
            [
             0.8888888888888888,
             "#fdca26"
            ],
            [
             1,
             "#f0f921"
            ]
           ],
           "sequentialminus": [
            [
             0,
             "#0d0887"
            ],
            [
             0.1111111111111111,
             "#46039f"
            ],
            [
             0.2222222222222222,
             "#7201a8"
            ],
            [
             0.3333333333333333,
             "#9c179e"
            ],
            [
             0.4444444444444444,
             "#bd3786"
            ],
            [
             0.5555555555555556,
             "#d8576b"
            ],
            [
             0.6666666666666666,
             "#ed7953"
            ],
            [
             0.7777777777777778,
             "#fb9f3a"
            ],
            [
             0.8888888888888888,
             "#fdca26"
            ],
            [
             1,
             "#f0f921"
            ]
           ]
          },
          "colorway": [
           "#636efa",
           "#EF553B",
           "#00cc96",
           "#ab63fa",
           "#FFA15A",
           "#19d3f3",
           "#FF6692",
           "#B6E880",
           "#FF97FF",
           "#FECB52"
          ],
          "font": {
           "color": "#2a3f5f"
          },
          "geo": {
           "bgcolor": "white",
           "lakecolor": "white",
           "landcolor": "#E5ECF6",
           "showlakes": true,
           "showland": true,
           "subunitcolor": "white"
          },
          "hoverlabel": {
           "align": "left"
          },
          "hovermode": "closest",
          "mapbox": {
           "style": "light"
          },
          "paper_bgcolor": "white",
          "plot_bgcolor": "#E5ECF6",
          "polar": {
           "angularaxis": {
            "gridcolor": "white",
            "linecolor": "white",
            "ticks": ""
           },
           "bgcolor": "#E5ECF6",
           "radialaxis": {
            "gridcolor": "white",
            "linecolor": "white",
            "ticks": ""
           }
          },
          "scene": {
           "xaxis": {
            "backgroundcolor": "#E5ECF6",
            "gridcolor": "white",
            "gridwidth": 2,
            "linecolor": "white",
            "showbackground": true,
            "ticks": "",
            "zerolinecolor": "white"
           },
           "yaxis": {
            "backgroundcolor": "#E5ECF6",
            "gridcolor": "white",
            "gridwidth": 2,
            "linecolor": "white",
            "showbackground": true,
            "ticks": "",
            "zerolinecolor": "white"
           },
           "zaxis": {
            "backgroundcolor": "#E5ECF6",
            "gridcolor": "white",
            "gridwidth": 2,
            "linecolor": "white",
            "showbackground": true,
            "ticks": "",
            "zerolinecolor": "white"
           }
          },
          "shapedefaults": {
           "line": {
            "color": "#2a3f5f"
           }
          },
          "ternary": {
           "aaxis": {
            "gridcolor": "white",
            "linecolor": "white",
            "ticks": ""
           },
           "baxis": {
            "gridcolor": "white",
            "linecolor": "white",
            "ticks": ""
           },
           "bgcolor": "#E5ECF6",
           "caxis": {
            "gridcolor": "white",
            "linecolor": "white",
            "ticks": ""
           }
          },
          "title": {
           "x": 0.05
          },
          "xaxis": {
           "automargin": true,
           "gridcolor": "white",
           "linecolor": "white",
           "ticks": "",
           "title": {
            "standoff": 15
           },
           "zerolinecolor": "white",
           "zerolinewidth": 2
          },
          "yaxis": {
           "automargin": true,
           "gridcolor": "white",
           "linecolor": "white",
           "ticks": "",
           "title": {
            "standoff": 15
           },
           "zerolinecolor": "white",
           "zerolinewidth": 2
          }
         }
        },
        "title": {
         "text": "Residual plot of Region_East Asia and Pacific"
        },
        "xaxis": {
         "anchor": "y",
         "domain": [
          0,
          1
         ],
         "title": {
          "text": "Region_East Asia and Pacific"
         }
        },
        "yaxis": {
         "anchor": "x",
         "domain": [
          0,
          1
         ],
         "title": {
          "text": "Residuals"
         }
        }
       }
      }
     },
     "metadata": {},
     "output_type": "display_data"
    },
    {
     "data": {
      "application/vnd.plotly.v1+json": {
       "config": {
        "plotlyServerURL": "https://plot.ly"
       },
       "data": [
        {
         "hovertemplate": "Region_Europe and Central Asia=%{x}<br>Residuals=%{y}<extra></extra>",
         "legendgroup": "",
         "marker": {
          "color": "#636efa",
          "symbol": "circle"
         },
         "mode": "markers",
         "name": "",
         "orientation": "v",
         "showlegend": false,
         "type": "scatter",
         "x": {
          "bdata": "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",
          "dtype": "f8"
         },
         "xaxis": "x",
         "y": {
          "bdata": "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",
          "dtype": "f8"
         },
         "yaxis": "y"
        }
       ],
       "layout": {
        "legend": {
         "tracegroupgap": 0
        },
        "template": {
         "data": {
          "bar": [
           {
            "error_x": {
             "color": "#2a3f5f"
            },
            "error_y": {
             "color": "#2a3f5f"
            },
            "marker": {
             "line": {
              "color": "#E5ECF6",
              "width": 0.5
             },
             "pattern": {
              "fillmode": "overlay",
              "size": 10,
              "solidity": 0.2
             }
            },
            "type": "bar"
           }
          ],
          "barpolar": [
           {
            "marker": {
             "line": {
              "color": "#E5ECF6",
              "width": 0.5
             },
             "pattern": {
              "fillmode": "overlay",
              "size": 10,
              "solidity": 0.2
             }
            },
            "type": "barpolar"
           }
          ],
          "carpet": [
           {
            "aaxis": {
             "endlinecolor": "#2a3f5f",
             "gridcolor": "white",
             "linecolor": "white",
             "minorgridcolor": "white",
             "startlinecolor": "#2a3f5f"
            },
            "baxis": {
             "endlinecolor": "#2a3f5f",
             "gridcolor": "white",
             "linecolor": "white",
             "minorgridcolor": "white",
             "startlinecolor": "#2a3f5f"
            },
            "type": "carpet"
           }
          ],
          "choropleth": [
           {
            "colorbar": {
             "outlinewidth": 0,
             "ticks": ""
            },
            "type": "choropleth"
           }
          ],
          "contour": [
           {
            "colorbar": {
             "outlinewidth": 0,
             "ticks": ""
            },
            "colorscale": [
             [
              0,
              "#0d0887"
             ],
             [
              0.1111111111111111,
              "#46039f"
             ],
             [
              0.2222222222222222,
              "#7201a8"
             ],
             [
              0.3333333333333333,
              "#9c179e"
             ],
             [
              0.4444444444444444,
              "#bd3786"
             ],
             [
              0.5555555555555556,
              "#d8576b"
             ],
             [
              0.6666666666666666,
              "#ed7953"
             ],
             [
              0.7777777777777778,
              "#fb9f3a"
             ],
             [
              0.8888888888888888,
              "#fdca26"
             ],
             [
              1,
              "#f0f921"
             ]
            ],
            "type": "contour"
           }
          ],
          "contourcarpet": [
           {
            "colorbar": {
             "outlinewidth": 0,
             "ticks": ""
            },
            "type": "contourcarpet"
           }
          ],
          "heatmap": [
           {
            "colorbar": {
             "outlinewidth": 0,
             "ticks": ""
            },
            "colorscale": [
             [
              0,
              "#0d0887"
             ],
             [
              0.1111111111111111,
              "#46039f"
             ],
             [
              0.2222222222222222,
              "#7201a8"
             ],
             [
              0.3333333333333333,
              "#9c179e"
             ],
             [
              0.4444444444444444,
              "#bd3786"
             ],
             [
              0.5555555555555556,
              "#d8576b"
             ],
             [
              0.6666666666666666,
              "#ed7953"
             ],
             [
              0.7777777777777778,
              "#fb9f3a"
             ],
             [
              0.8888888888888888,
              "#fdca26"
             ],
             [
              1,
              "#f0f921"
             ]
            ],
            "type": "heatmap"
           }
          ],
          "histogram": [
           {
            "marker": {
             "pattern": {
              "fillmode": "overlay",
              "size": 10,
              "solidity": 0.2
             }
            },
            "type": "histogram"
           }
          ],
          "histogram2d": [
           {
            "colorbar": {
             "outlinewidth": 0,
             "ticks": ""
            },
            "colorscale": [
             [
              0,
              "#0d0887"
             ],
             [
              0.1111111111111111,
              "#46039f"
             ],
             [
              0.2222222222222222,
              "#7201a8"
             ],
             [
              0.3333333333333333,
              "#9c179e"
             ],
             [
              0.4444444444444444,
              "#bd3786"
             ],
             [
              0.5555555555555556,
              "#d8576b"
             ],
             [
              0.6666666666666666,
              "#ed7953"
             ],
             [
              0.7777777777777778,
              "#fb9f3a"
             ],
             [
              0.8888888888888888,
              "#fdca26"
             ],
             [
              1,
              "#f0f921"
             ]
            ],
            "type": "histogram2d"
           }
          ],
          "histogram2dcontour": [
           {
            "colorbar": {
             "outlinewidth": 0,
             "ticks": ""
            },
            "colorscale": [
             [
              0,
              "#0d0887"
             ],
             [
              0.1111111111111111,
              "#46039f"
             ],
             [
              0.2222222222222222,
              "#7201a8"
             ],
             [
              0.3333333333333333,
              "#9c179e"
             ],
             [
              0.4444444444444444,
              "#bd3786"
             ],
             [
              0.5555555555555556,
              "#d8576b"
             ],
             [
              0.6666666666666666,
              "#ed7953"
             ],
             [
              0.7777777777777778,
              "#fb9f3a"
             ],
             [
              0.8888888888888888,
              "#fdca26"
             ],
             [
              1,
              "#f0f921"
             ]
            ],
            "type": "histogram2dcontour"
           }
          ],
          "mesh3d": [
           {
            "colorbar": {
             "outlinewidth": 0,
             "ticks": ""
            },
            "type": "mesh3d"
           }
          ],
          "parcoords": [
           {
            "line": {
             "colorbar": {
              "outlinewidth": 0,
              "ticks": ""
             }
            },
            "type": "parcoords"
           }
          ],
          "pie": [
           {
            "automargin": true,
            "type": "pie"
           }
          ],
          "scatter": [
           {
            "fillpattern": {
             "fillmode": "overlay",
             "size": 10,
             "solidity": 0.2
            },
            "type": "scatter"
           }
          ],
          "scatter3d": [
           {
            "line": {
             "colorbar": {
              "outlinewidth": 0,
              "ticks": ""
             }
            },
            "marker": {
             "colorbar": {
              "outlinewidth": 0,
              "ticks": ""
             }
            },
            "type": "scatter3d"
           }
          ],
          "scattercarpet": [
           {
            "marker": {
             "colorbar": {
              "outlinewidth": 0,
              "ticks": ""
             }
            },
            "type": "scattercarpet"
           }
          ],
          "scattergeo": [
           {
            "marker": {
             "colorbar": {
              "outlinewidth": 0,
              "ticks": ""
             }
            },
            "type": "scattergeo"
           }
          ],
          "scattergl": [
           {
            "marker": {
             "colorbar": {
              "outlinewidth": 0,
              "ticks": ""
             }
            },
            "type": "scattergl"
           }
          ],
          "scattermap": [
           {
            "marker": {
             "colorbar": {
              "outlinewidth": 0,
              "ticks": ""
             }
            },
            "type": "scattermap"
           }
          ],
          "scattermapbox": [
           {
            "marker": {
             "colorbar": {
              "outlinewidth": 0,
              "ticks": ""
             }
            },
            "type": "scattermapbox"
           }
          ],
          "scatterpolar": [
           {
            "marker": {
             "colorbar": {
              "outlinewidth": 0,
              "ticks": ""
             }
            },
            "type": "scatterpolar"
           }
          ],
          "scatterpolargl": [
           {
            "marker": {
             "colorbar": {
              "outlinewidth": 0,
              "ticks": ""
             }
            },
            "type": "scatterpolargl"
           }
          ],
          "scatterternary": [
           {
            "marker": {
             "colorbar": {
              "outlinewidth": 0,
              "ticks": ""
             }
            },
            "type": "scatterternary"
           }
          ],
          "surface": [
           {
            "colorbar": {
             "outlinewidth": 0,
             "ticks": ""
            },
            "colorscale": [
             [
              0,
              "#0d0887"
             ],
             [
              0.1111111111111111,
              "#46039f"
             ],
             [
              0.2222222222222222,
              "#7201a8"
             ],
             [
              0.3333333333333333,
              "#9c179e"
             ],
             [
              0.4444444444444444,
              "#bd3786"
             ],
             [
              0.5555555555555556,
              "#d8576b"
             ],
             [
              0.6666666666666666,
              "#ed7953"
             ],
             [
              0.7777777777777778,
              "#fb9f3a"
             ],
             [
              0.8888888888888888,
              "#fdca26"
             ],
             [
              1,
              "#f0f921"
             ]
            ],
            "type": "surface"
           }
          ],
          "table": [
           {
            "cells": {
             "fill": {
              "color": "#EBF0F8"
             },
             "line": {
              "color": "white"
             }
            },
            "header": {
             "fill": {
              "color": "#C8D4E3"
             },
             "line": {
              "color": "white"
             }
            },
            "type": "table"
           }
          ]
         },
         "layout": {
          "annotationdefaults": {
           "arrowcolor": "#2a3f5f",
           "arrowhead": 0,
           "arrowwidth": 1
          },
          "autotypenumbers": "strict",
          "coloraxis": {
           "colorbar": {
            "outlinewidth": 0,
            "ticks": ""
           }
          },
          "colorscale": {
           "diverging": [
            [
             0,
             "#8e0152"
            ],
            [
             0.1,
             "#c51b7d"
            ],
            [
             0.2,
             "#de77ae"
            ],
            [
             0.3,
             "#f1b6da"
            ],
            [
             0.4,
             "#fde0ef"
            ],
            [
             0.5,
             "#f7f7f7"
            ],
            [
             0.6,
             "#e6f5d0"
            ],
            [
             0.7,
             "#b8e186"
            ],
            [
             0.8,
             "#7fbc41"
            ],
            [
             0.9,
             "#4d9221"
            ],
            [
             1,
             "#276419"
            ]
           ],
           "sequential": [
            [
             0,
             "#0d0887"
            ],
            [
             0.1111111111111111,
             "#46039f"
            ],
            [
             0.2222222222222222,
             "#7201a8"
            ],
            [
             0.3333333333333333,
             "#9c179e"
            ],
            [
             0.4444444444444444,
             "#bd3786"
            ],
            [
             0.5555555555555556,
             "#d8576b"
            ],
            [
             0.6666666666666666,
             "#ed7953"
            ],
            [
             0.7777777777777778,
             "#fb9f3a"
            ],
            [
             0.8888888888888888,
             "#fdca26"
            ],
            [
             1,
             "#f0f921"
            ]
           ],
           "sequentialminus": [
            [
             0,
             "#0d0887"
            ],
            [
             0.1111111111111111,
             "#46039f"
            ],
            [
             0.2222222222222222,
             "#7201a8"
            ],
            [
             0.3333333333333333,
             "#9c179e"
            ],
            [
             0.4444444444444444,
             "#bd3786"
            ],
            [
             0.5555555555555556,
             "#d8576b"
            ],
            [
             0.6666666666666666,
             "#ed7953"
            ],
            [
             0.7777777777777778,
             "#fb9f3a"
            ],
            [
             0.8888888888888888,
             "#fdca26"
            ],
            [
             1,
             "#f0f921"
            ]
           ]
          },
          "colorway": [
           "#636efa",
           "#EF553B",
           "#00cc96",
           "#ab63fa",
           "#FFA15A",
           "#19d3f3",
           "#FF6692",
           "#B6E880",
           "#FF97FF",
           "#FECB52"
          ],
          "font": {
           "color": "#2a3f5f"
          },
          "geo": {
           "bgcolor": "white",
           "lakecolor": "white",
           "landcolor": "#E5ECF6",
           "showlakes": true,
           "showland": true,
           "subunitcolor": "white"
          },
          "hoverlabel": {
           "align": "left"
          },
          "hovermode": "closest",
          "mapbox": {
           "style": "light"
          },
          "paper_bgcolor": "white",
          "plot_bgcolor": "#E5ECF6",
          "polar": {
           "angularaxis": {
            "gridcolor": "white",
            "linecolor": "white",
            "ticks": ""
           },
           "bgcolor": "#E5ECF6",
           "radialaxis": {
            "gridcolor": "white",
            "linecolor": "white",
            "ticks": ""
           }
          },
          "scene": {
           "xaxis": {
            "backgroundcolor": "#E5ECF6",
            "gridcolor": "white",
            "gridwidth": 2,
            "linecolor": "white",
            "showbackground": true,
            "ticks": "",
            "zerolinecolor": "white"
           },
           "yaxis": {
            "backgroundcolor": "#E5ECF6",
            "gridcolor": "white",
            "gridwidth": 2,
            "linecolor": "white",
            "showbackground": true,
            "ticks": "",
            "zerolinecolor": "white"
           },
           "zaxis": {
            "backgroundcolor": "#E5ECF6",
            "gridcolor": "white",
            "gridwidth": 2,
            "linecolor": "white",
            "showbackground": true,
            "ticks": "",
            "zerolinecolor": "white"
           }
          },
          "shapedefaults": {
           "line": {
            "color": "#2a3f5f"
           }
          },
          "ternary": {
           "aaxis": {
            "gridcolor": "white",
            "linecolor": "white",
            "ticks": ""
           },
           "baxis": {
            "gridcolor": "white",
            "linecolor": "white",
            "ticks": ""
           },
           "bgcolor": "#E5ECF6",
           "caxis": {
            "gridcolor": "white",
            "linecolor": "white",
            "ticks": ""
           }
          },
          "title": {
           "x": 0.05
          },
          "xaxis": {
           "automargin": true,
           "gridcolor": "white",
           "linecolor": "white",
           "ticks": "",
           "title": {
            "standoff": 15
           },
           "zerolinecolor": "white",
           "zerolinewidth": 2
          },
          "yaxis": {
           "automargin": true,
           "gridcolor": "white",
           "linecolor": "white",
           "ticks": "",
           "title": {
            "standoff": 15
           },
           "zerolinecolor": "white",
           "zerolinewidth": 2
          }
         }
        },
        "title": {
         "text": "Residual plot of Region_Europe and Central Asia"
        },
        "xaxis": {
         "anchor": "y",
         "domain": [
          0,
          1
         ],
         "title": {
          "text": "Region_Europe and Central Asia"
         }
        },
        "yaxis": {
         "anchor": "x",
         "domain": [
          0,
          1
         ],
         "title": {
          "text": "Residuals"
         }
        }
       }
      }
     },
     "metadata": {},
     "output_type": "display_data"
    },
    {
     "data": {
      "application/vnd.plotly.v1+json": {
       "config": {
        "plotlyServerURL": "https://plot.ly"
       },
       "data": [
        {
         "hovertemplate": "Region_Latin America and Caribbean=%{x}<br>Residuals=%{y}<extra></extra>",
         "legendgroup": "",
         "marker": {
          "color": "#636efa",
          "symbol": "circle"
         },
         "mode": "markers",
         "name": "",
         "orientation": "v",
         "showlegend": false,
         "type": "scatter",
         "x": {
          "bdata": "AAAAAAAAAAAAAAAAAAAAAAAAAAAAAAAAAAAAAAAAAAAAAAAAAAAAAAAAAAAAAAAAAAAAAAAAAAAAAAAAAAAAAAAAAAAAAAAAAAAAAAAAAAAAAAAAAAAAAAAAAAAAAAAAAAAAAAAAAAAAAAAAAAAAAAAAAAAAAAAAAAAAAAAAAAAAAAAAAAAAAAAAAAAAAAAAAAAAAAAAAAAAAAAAAAAAAAAAAAAAAAAAAAAAAAAAAAAAAAAAAAAAAAAAAAAAAAAAAAAAAAAAAAAAAAAAAAAAAAAAAAAAAAAAAAAAAAAAAAAAAAAAAAAAAAAAAAAAAAAAAAAAAAAAAAAAAAAAAAAAAAAAAAAAAAAAAAAAAAAAAAAAAAAAAAAAAAAAAAAAAAAAAAAAAAAAAAAAAAAAAAAAAAAAAAAAAAAAAAAAAAAAAAAAAAAAAAAAAAAAAAAAAAAAAAAAAAAAAAAAAAAAAAAAAAAAAAAAAAAAAAAAAAAAAAAAAAAAAAAAAAAAAAAAAAAAAAAAAAAAAAAAAAAAAAAAAAAAAAAAAAAAAAAAAAAAAAAAAAAAAAAAAAAAAAAAAAAAAAAAAAAAAAAAAAAAAAAAAAAAAAAAAAAAAAAAAAAAAAAAAAAAAAAAAAAAAAAAAAAAAAAAAAAAAAAAAAAAAAAAAAAAAAAAAAAAAAAAAAAAAAAAAAAAAAAAAAAAAAAAAPA/AAAAAAAA8D8AAAAAAADwPwAAAAAAAPA/AAAAAAAA8D8AAAAAAADwPwAAAAAAAAAAAAAAAAAAAAAAAAAAAAAAAAAAAAAAAAAAAAAAAAAAAAAAAAAAAAAAAAAAAAAAAAAAAAAAAAAAAAAAAAAAAAAAAAAAAAAAAAAAAAAAAAAAAAAAAAAAAAAAAAAAAAAAAAAAAAAAAAAAAAAAAAAAAAAAAAAAAAAAAAAAAAAAAAAAAAAAAAAAAAAAAAAAAAAAAAAAAAAAAAAAAAAAAAAAAAAAAAAAAAAAAAAAAAAAAAAAAAAAAAAAAAAAAAAAAAAAAAAAAAAAAAAAAAAAAAAAAAAAAAAAAAAAAAAAAAAAAAAAAAAAAAAAAAAAAAAAAAAAAAAAAAAAAAAAAAAAAAAAAAAAAAAAAAAAAAAAAAAAAAAAAAAAAAAAAAAAAAAAAAAAAAAAAAAAAAAAAAAAAAAAAAAAAAAAAAAAAAAAAAAAAAAAAAAAAAAAAAAAAAAAAAAAAAAAAAAAAAAAAAAAAAAAAAAAAAAAAAAAAAAAAAAAAAAAAAAAAAAAAAAAAAAAAAAAAAAAAAAAAAAAAAAAAAAAAAAAAAAAAAAAAAAAAAAAAAAAAAAAAAAAAAAAAAAAAAAAAAAAAAAAAAAAAAAAAAAAAAAAAAAAAAAAAAAAAAAAAAAAAAAAAAAAAAAAAAAAAAAAAAAAAAAAAAAAAAAAAAAAAAAAAAAAAAAAAAAAAAAAAAAAAAAAAAAAAAAAAAAAAAAAAAAAAAAAAAAAAAAAAAAAAAAAAAAAAAAAAAAAAAAAAAAAAAAAAAAAAAAAAAAAAAAAAAAAAAAAAAAAAAAAAAAAAAAAAAAAAAAAAAAAAAAAAAAAAAAAAAAAAAAAAAAAAAAAAAAAAAAAAAAAAAAAAAAAAAAAAAAAAAAAAAAAAAAAAAAAAAAAAAAAAAAAAAAAAAAAAAAAAAAAAAAAAAAAAAAAAAAAAAAAAAAAAAAAAAAAAAAAAAAAAAAAAAAAAAAAAAAAAAAAAAAAAAAAAAAAAAAAAAAAAAAAAAAAAAAAAAAAAAAAAAAAAAAAAAAAAAAAAAAAAAAAAAAAAAAAAAAAAAAAAAAAAAAAAAAAAAAAAAAAAAAAAAAAAAAAAAAAAAAAAAAAAAAAAAAAAAAAAAAAAAAAAAAAAAAAAAAAAAAAAAAAAAAAAAAAAAAAAAAAAAAAAAAAAAAAAAAAAAAAAAAAAAAAAAAAAAAAAAAAAAAAAAAAAAAAAAAAAAAAAAAAAAAAAAAAAAAAAAAAAAAAAAAAAAAAAAAAAAAAAAAAAAAAAAAAAAAAAAAAAAAAAAAAAAAAAAAAAAAAAAAAAAAAAAAAAAAAAAAAAAAAAAAAAAAAAAAAAAAAAAAAAAAAAAAAAAAAAAAAAAAAAAAAAAAAAAAAAAAAAAAAAAAAAAAAAAAAAAAAAAAAAAAAAAAAAAAAAAAAAAAAAAAAAAAAAAAAAAAAAAAAAAAAAAAAAAAAAAAAAAAAAAAAAAAAAAAAAAAAAAAAAAAAAAAAAAAAAAAAAAAAAAAAAAAAAAAAAAAAAAAAAAAAAAAAAAAAAAAAAAAAAAAAAAAAAAAAAAAAAAAAAAAAAAAAAAAAAAAAAAAAAAAAAAAAAAAAAAAAAAAAAAAAAAAAAAAAAAAAAAAAAAAA8D8AAAAAAADwPwAAAAAAAPA/AAAAAAAA8D8AAAAAAADwPwAAAAAAAPA/AAAAAAAA8D8AAAAAAADwPwAAAAAAAPA/AAAAAAAAAAAAAAAAAAAAAAAAAAAAAAAAAAAAAAAAAAAAAAAAAAAAAAAAAAAAAAAAAAAAAAAAAAAAAAAAAAAAAAAAAAAAAAAAAAAAAAAAAAAAAAAAAAAAAAAAAAAAAAAAAAAAAAAAAAAAAAAAAAAAAAAAAAAAAAAAAAAAAAAAAAAAAAAAAAAAAAAAAAAAAAAAAAAAAAAAAAAAAAAAAAAAAAAAAAAAAAAAAAAAAAAAAAAAAAAAAAAAAAAAAAAAAAAAAAAAAAAAAAAAAAAAAAAAAAAAAAAAAAAAAAAAAAAAAAAAAAAAAAAAAAAAAAAAAAAAAAAAAAAAAAAAAAAAAAAAAAAAAAAAAAAAAAAAAAAAAAAAAAAAAAAAAAAAAAAAAAAAAAAAAAAAAAAAAAAAAAAAAAAAAAAAAAAAAAAAAAAAAAAAAAAAAAAAAAAAAAAAAAAAAAAAAAAAAAAAAAAAAAAAAAAAAAAAAAAAAAAAAAAAAAAAAAAAAAAAAAAAAAAAAAAAAAAAAAAAAAAAAAAAAAAAAAAAAAAAAAAAAAAAAAAAAAAAAAAAAAAAAAAAAAAAAAAAAAAAAAAAAAAAAAAAAAAAAAAAAAAAAAAAAAAAAAAAAAAAAAAAAAAAAAAAAAAAAAAAAAAAAAAAAAAAAAAAAAAAAAAAAAAAAAAAAAAAAAAAAAAAAAAAAAAAAAAAAAAAAAAAAAAAAAAAAAAAAAAAAAAAAAAAAAAAAAAAAAAAAAAAAAAAAAAAAAAAAAAAAAAAAAAAAAAAAAAAAAAAAAAAAAAAAAAAAAAAAAAAAAAAAAAAAAAAAAAAAAAAAAAAAAAAAAAAAAAAAAAAAAAAAAAAAAAAAAAAAAAAAAAAAAAAAAAAAAAAAAAAAAAAAAAAAAAAAAAAAAAAAAAAAAAAAAAAAAAAAAAAAAAAAAAAAAAAAAAAAAAAAAAAAAAAAAAAAAAAAAAAAAAAAAAAAAAAAAAAAAAAAAAAAAAAAAAAAAAAAAAAAAAAAAAAAAAAAAAAAAAAAAAAAAAAAAAAAAAAAAAAAAAAAAAAAAAAAAAAAAAAAAAAAAAAAAAAAAAAAAAAAAAAAAAAAAAAAAAAAAAAAAAAAAAAAAAAAAAAAAAAAAAAAAAAAAAAAAAAAAAAAAAAAAAAAAAAAAAAAAAAAAAAAAAAAAAAAAAAAAAAAAAAAAAAAAAAAAAAAAAAAAAAAAAAAAAAAAAAAAAAAAAAAAAAAAAAAAAAAAAAAAAAAAAAAAAAAAAAAAAAAAAAAAAAAAAAAAAAAAAAAAAAAAAAAAAAAAAAAAAAAAAAAAAAAAAAAAAAAAAAAAAAAAAAAAAAAAAAAAAAAAAAAAAAAAAAAAAAAAAAAAAAAAAAAAAAAAAAAAAAAAAAAAAAAAAAAAAAAAAAAAAAAAAAAAAAAAAAAAAAAAAAAAAAAAAAAAAAAAAAAAAAAAAAAAAAAAAAAAAAAAAAAAAAAAAAAAAAAAAAAAAAAAAAAAAAAAAAAAAAAAAAAAAAAAAAAAAAAAAAAAAAAAAAAAAAAAAAAAAAAAAAAAAAAAAAAAAAAAAAAAAAAAAAAAAAAAAAAAAAAAAAAAAAAAAAAAAAAAAAAAAAAAAAAAAAAAAAAAAAAAAAAAAAAAAAAAAAAAAAAAAAAAAAAAAAAAAAAAAAAAAAAAAAAAAAAAAAAAAAAAAAAAAAAAAAAAAAAAAAAAAAAAAAAAAAAAAAAAAAAAAAAAAAAAAAAAAAAAAAAAAAAAAAAAAAAAAAAAAAAAAAAAAAAAAAAAAAAAAAAAAAAAAAAAAAAAAAAAAAAAA=",
          "dtype": "f8"
         },
         "xaxis": "x",
         "y": {
          "bdata": "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",
          "dtype": "f8"
         },
         "yaxis": "y"
        }
       ],
       "layout": {
        "legend": {
         "tracegroupgap": 0
        },
        "template": {
         "data": {
          "bar": [
           {
            "error_x": {
             "color": "#2a3f5f"
            },
            "error_y": {
             "color": "#2a3f5f"
            },
            "marker": {
             "line": {
              "color": "#E5ECF6",
              "width": 0.5
             },
             "pattern": {
              "fillmode": "overlay",
              "size": 10,
              "solidity": 0.2
             }
            },
            "type": "bar"
           }
          ],
          "barpolar": [
           {
            "marker": {
             "line": {
              "color": "#E5ECF6",
              "width": 0.5
             },
             "pattern": {
              "fillmode": "overlay",
              "size": 10,
              "solidity": 0.2
             }
            },
            "type": "barpolar"
           }
          ],
          "carpet": [
           {
            "aaxis": {
             "endlinecolor": "#2a3f5f",
             "gridcolor": "white",
             "linecolor": "white",
             "minorgridcolor": "white",
             "startlinecolor": "#2a3f5f"
            },
            "baxis": {
             "endlinecolor": "#2a3f5f",
             "gridcolor": "white",
             "linecolor": "white",
             "minorgridcolor": "white",
             "startlinecolor": "#2a3f5f"
            },
            "type": "carpet"
           }
          ],
          "choropleth": [
           {
            "colorbar": {
             "outlinewidth": 0,
             "ticks": ""
            },
            "type": "choropleth"
           }
          ],
          "contour": [
           {
            "colorbar": {
             "outlinewidth": 0,
             "ticks": ""
            },
            "colorscale": [
             [
              0,
              "#0d0887"
             ],
             [
              0.1111111111111111,
              "#46039f"
             ],
             [
              0.2222222222222222,
              "#7201a8"
             ],
             [
              0.3333333333333333,
              "#9c179e"
             ],
             [
              0.4444444444444444,
              "#bd3786"
             ],
             [
              0.5555555555555556,
              "#d8576b"
             ],
             [
              0.6666666666666666,
              "#ed7953"
             ],
             [
              0.7777777777777778,
              "#fb9f3a"
             ],
             [
              0.8888888888888888,
              "#fdca26"
             ],
             [
              1,
              "#f0f921"
             ]
            ],
            "type": "contour"
           }
          ],
          "contourcarpet": [
           {
            "colorbar": {
             "outlinewidth": 0,
             "ticks": ""
            },
            "type": "contourcarpet"
           }
          ],
          "heatmap": [
           {
            "colorbar": {
             "outlinewidth": 0,
             "ticks": ""
            },
            "colorscale": [
             [
              0,
              "#0d0887"
             ],
             [
              0.1111111111111111,
              "#46039f"
             ],
             [
              0.2222222222222222,
              "#7201a8"
             ],
             [
              0.3333333333333333,
              "#9c179e"
             ],
             [
              0.4444444444444444,
              "#bd3786"
             ],
             [
              0.5555555555555556,
              "#d8576b"
             ],
             [
              0.6666666666666666,
              "#ed7953"
             ],
             [
              0.7777777777777778,
              "#fb9f3a"
             ],
             [
              0.8888888888888888,
              "#fdca26"
             ],
             [
              1,
              "#f0f921"
             ]
            ],
            "type": "heatmap"
           }
          ],
          "histogram": [
           {
            "marker": {
             "pattern": {
              "fillmode": "overlay",
              "size": 10,
              "solidity": 0.2
             }
            },
            "type": "histogram"
           }
          ],
          "histogram2d": [
           {
            "colorbar": {
             "outlinewidth": 0,
             "ticks": ""
            },
            "colorscale": [
             [
              0,
              "#0d0887"
             ],
             [
              0.1111111111111111,
              "#46039f"
             ],
             [
              0.2222222222222222,
              "#7201a8"
             ],
             [
              0.3333333333333333,
              "#9c179e"
             ],
             [
              0.4444444444444444,
              "#bd3786"
             ],
             [
              0.5555555555555556,
              "#d8576b"
             ],
             [
              0.6666666666666666,
              "#ed7953"
             ],
             [
              0.7777777777777778,
              "#fb9f3a"
             ],
             [
              0.8888888888888888,
              "#fdca26"
             ],
             [
              1,
              "#f0f921"
             ]
            ],
            "type": "histogram2d"
           }
          ],
          "histogram2dcontour": [
           {
            "colorbar": {
             "outlinewidth": 0,
             "ticks": ""
            },
            "colorscale": [
             [
              0,
              "#0d0887"
             ],
             [
              0.1111111111111111,
              "#46039f"
             ],
             [
              0.2222222222222222,
              "#7201a8"
             ],
             [
              0.3333333333333333,
              "#9c179e"
             ],
             [
              0.4444444444444444,
              "#bd3786"
             ],
             [
              0.5555555555555556,
              "#d8576b"
             ],
             [
              0.6666666666666666,
              "#ed7953"
             ],
             [
              0.7777777777777778,
              "#fb9f3a"
             ],
             [
              0.8888888888888888,
              "#fdca26"
             ],
             [
              1,
              "#f0f921"
             ]
            ],
            "type": "histogram2dcontour"
           }
          ],
          "mesh3d": [
           {
            "colorbar": {
             "outlinewidth": 0,
             "ticks": ""
            },
            "type": "mesh3d"
           }
          ],
          "parcoords": [
           {
            "line": {
             "colorbar": {
              "outlinewidth": 0,
              "ticks": ""
             }
            },
            "type": "parcoords"
           }
          ],
          "pie": [
           {
            "automargin": true,
            "type": "pie"
           }
          ],
          "scatter": [
           {
            "fillpattern": {
             "fillmode": "overlay",
             "size": 10,
             "solidity": 0.2
            },
            "type": "scatter"
           }
          ],
          "scatter3d": [
           {
            "line": {
             "colorbar": {
              "outlinewidth": 0,
              "ticks": ""
             }
            },
            "marker": {
             "colorbar": {
              "outlinewidth": 0,
              "ticks": ""
             }
            },
            "type": "scatter3d"
           }
          ],
          "scattercarpet": [
           {
            "marker": {
             "colorbar": {
              "outlinewidth": 0,
              "ticks": ""
             }
            },
            "type": "scattercarpet"
           }
          ],
          "scattergeo": [
           {
            "marker": {
             "colorbar": {
              "outlinewidth": 0,
              "ticks": ""
             }
            },
            "type": "scattergeo"
           }
          ],
          "scattergl": [
           {
            "marker": {
             "colorbar": {
              "outlinewidth": 0,
              "ticks": ""
             }
            },
            "type": "scattergl"
           }
          ],
          "scattermap": [
           {
            "marker": {
             "colorbar": {
              "outlinewidth": 0,
              "ticks": ""
             }
            },
            "type": "scattermap"
           }
          ],
          "scattermapbox": [
           {
            "marker": {
             "colorbar": {
              "outlinewidth": 0,
              "ticks": ""
             }
            },
            "type": "scattermapbox"
           }
          ],
          "scatterpolar": [
           {
            "marker": {
             "colorbar": {
              "outlinewidth": 0,
              "ticks": ""
             }
            },
            "type": "scatterpolar"
           }
          ],
          "scatterpolargl": [
           {
            "marker": {
             "colorbar": {
              "outlinewidth": 0,
              "ticks": ""
             }
            },
            "type": "scatterpolargl"
           }
          ],
          "scatterternary": [
           {
            "marker": {
             "colorbar": {
              "outlinewidth": 0,
              "ticks": ""
             }
            },
            "type": "scatterternary"
           }
          ],
          "surface": [
           {
            "colorbar": {
             "outlinewidth": 0,
             "ticks": ""
            },
            "colorscale": [
             [
              0,
              "#0d0887"
             ],
             [
              0.1111111111111111,
              "#46039f"
             ],
             [
              0.2222222222222222,
              "#7201a8"
             ],
             [
              0.3333333333333333,
              "#9c179e"
             ],
             [
              0.4444444444444444,
              "#bd3786"
             ],
             [
              0.5555555555555556,
              "#d8576b"
             ],
             [
              0.6666666666666666,
              "#ed7953"
             ],
             [
              0.7777777777777778,
              "#fb9f3a"
             ],
             [
              0.8888888888888888,
              "#fdca26"
             ],
             [
              1,
              "#f0f921"
             ]
            ],
            "type": "surface"
           }
          ],
          "table": [
           {
            "cells": {
             "fill": {
              "color": "#EBF0F8"
             },
             "line": {
              "color": "white"
             }
            },
            "header": {
             "fill": {
              "color": "#C8D4E3"
             },
             "line": {
              "color": "white"
             }
            },
            "type": "table"
           }
          ]
         },
         "layout": {
          "annotationdefaults": {
           "arrowcolor": "#2a3f5f",
           "arrowhead": 0,
           "arrowwidth": 1
          },
          "autotypenumbers": "strict",
          "coloraxis": {
           "colorbar": {
            "outlinewidth": 0,
            "ticks": ""
           }
          },
          "colorscale": {
           "diverging": [
            [
             0,
             "#8e0152"
            ],
            [
             0.1,
             "#c51b7d"
            ],
            [
             0.2,
             "#de77ae"
            ],
            [
             0.3,
             "#f1b6da"
            ],
            [
             0.4,
             "#fde0ef"
            ],
            [
             0.5,
             "#f7f7f7"
            ],
            [
             0.6,
             "#e6f5d0"
            ],
            [
             0.7,
             "#b8e186"
            ],
            [
             0.8,
             "#7fbc41"
            ],
            [
             0.9,
             "#4d9221"
            ],
            [
             1,
             "#276419"
            ]
           ],
           "sequential": [
            [
             0,
             "#0d0887"
            ],
            [
             0.1111111111111111,
             "#46039f"
            ],
            [
             0.2222222222222222,
             "#7201a8"
            ],
            [
             0.3333333333333333,
             "#9c179e"
            ],
            [
             0.4444444444444444,
             "#bd3786"
            ],
            [
             0.5555555555555556,
             "#d8576b"
            ],
            [
             0.6666666666666666,
             "#ed7953"
            ],
            [
             0.7777777777777778,
             "#fb9f3a"
            ],
            [
             0.8888888888888888,
             "#fdca26"
            ],
            [
             1,
             "#f0f921"
            ]
           ],
           "sequentialminus": [
            [
             0,
             "#0d0887"
            ],
            [
             0.1111111111111111,
             "#46039f"
            ],
            [
             0.2222222222222222,
             "#7201a8"
            ],
            [
             0.3333333333333333,
             "#9c179e"
            ],
            [
             0.4444444444444444,
             "#bd3786"
            ],
            [
             0.5555555555555556,
             "#d8576b"
            ],
            [
             0.6666666666666666,
             "#ed7953"
            ],
            [
             0.7777777777777778,
             "#fb9f3a"
            ],
            [
             0.8888888888888888,
             "#fdca26"
            ],
            [
             1,
             "#f0f921"
            ]
           ]
          },
          "colorway": [
           "#636efa",
           "#EF553B",
           "#00cc96",
           "#ab63fa",
           "#FFA15A",
           "#19d3f3",
           "#FF6692",
           "#B6E880",
           "#FF97FF",
           "#FECB52"
          ],
          "font": {
           "color": "#2a3f5f"
          },
          "geo": {
           "bgcolor": "white",
           "lakecolor": "white",
           "landcolor": "#E5ECF6",
           "showlakes": true,
           "showland": true,
           "subunitcolor": "white"
          },
          "hoverlabel": {
           "align": "left"
          },
          "hovermode": "closest",
          "mapbox": {
           "style": "light"
          },
          "paper_bgcolor": "white",
          "plot_bgcolor": "#E5ECF6",
          "polar": {
           "angularaxis": {
            "gridcolor": "white",
            "linecolor": "white",
            "ticks": ""
           },
           "bgcolor": "#E5ECF6",
           "radialaxis": {
            "gridcolor": "white",
            "linecolor": "white",
            "ticks": ""
           }
          },
          "scene": {
           "xaxis": {
            "backgroundcolor": "#E5ECF6",
            "gridcolor": "white",
            "gridwidth": 2,
            "linecolor": "white",
            "showbackground": true,
            "ticks": "",
            "zerolinecolor": "white"
           },
           "yaxis": {
            "backgroundcolor": "#E5ECF6",
            "gridcolor": "white",
            "gridwidth": 2,
            "linecolor": "white",
            "showbackground": true,
            "ticks": "",
            "zerolinecolor": "white"
           },
           "zaxis": {
            "backgroundcolor": "#E5ECF6",
            "gridcolor": "white",
            "gridwidth": 2,
            "linecolor": "white",
            "showbackground": true,
            "ticks": "",
            "zerolinecolor": "white"
           }
          },
          "shapedefaults": {
           "line": {
            "color": "#2a3f5f"
           }
          },
          "ternary": {
           "aaxis": {
            "gridcolor": "white",
            "linecolor": "white",
            "ticks": ""
           },
           "baxis": {
            "gridcolor": "white",
            "linecolor": "white",
            "ticks": ""
           },
           "bgcolor": "#E5ECF6",
           "caxis": {
            "gridcolor": "white",
            "linecolor": "white",
            "ticks": ""
           }
          },
          "title": {
           "x": 0.05
          },
          "xaxis": {
           "automargin": true,
           "gridcolor": "white",
           "linecolor": "white",
           "ticks": "",
           "title": {
            "standoff": 15
           },
           "zerolinecolor": "white",
           "zerolinewidth": 2
          },
          "yaxis": {
           "automargin": true,
           "gridcolor": "white",
           "linecolor": "white",
           "ticks": "",
           "title": {
            "standoff": 15
           },
           "zerolinecolor": "white",
           "zerolinewidth": 2
          }
         }
        },
        "title": {
         "text": "Residual plot of Region_Latin America and Caribbean"
        },
        "xaxis": {
         "anchor": "y",
         "domain": [
          0,
          1
         ],
         "title": {
          "text": "Region_Latin America and Caribbean"
         }
        },
        "yaxis": {
         "anchor": "x",
         "domain": [
          0,
          1
         ],
         "title": {
          "text": "Residuals"
         }
        }
       }
      }
     },
     "metadata": {},
     "output_type": "display_data"
    },
    {
     "data": {
      "application/vnd.plotly.v1+json": {
       "config": {
        "plotlyServerURL": "https://plot.ly"
       },
       "data": [
        {
         "hovertemplate": "Region_Middle East and North Africa=%{x}<br>Residuals=%{y}<extra></extra>",
         "legendgroup": "",
         "marker": {
          "color": "#636efa",
          "symbol": "circle"
         },
         "mode": "markers",
         "name": "",
         "orientation": "v",
         "showlegend": false,
         "type": "scatter",
         "x": {
          "bdata": "AAAAAAAAAAAAAAAAAAAAAAAAAAAAAAAAAAAAAAAAAAAAAAAAAAAAAAAAAAAAAAAAAAAAAAAAAAAAAAAAAAAAAAAAAAAAAAAAAAAAAAAAAAAAAAAAAAAAAAAAAAAAAAAAAAAAAAAAAAAAAAAAAAAAAAAAAAAAAAAAAAAAAAAAAAAAAAAAAAAAAAAAAAAAAAAAAAAAAAAAAAAAAAAAAAAAAAAAAAAAAAAAAAAAAAAAAAAAAAAAAAAAAAAAAAAAAAAAAAAAAAAAAAAAAAAAAAAAAAAAAAAAAAAAAAAAAAAAAAAAAAAAAAAAAAAAAAAAAAAAAAAAAAAAAAAAAAAAAAAAAAAAAAAAAAAAAAAAAAAAAAAAAAAAAAAAAAAAAAAAAAAAAAAAAAAAAAAAAAAAAAAAAAAAAAAAAAAAAAAAAAAAAAAAAAAAAAAAAAAAAAAAAAAAAAAAAAAAAAAAAAAAAAAAAAAAAAAAAAAAAAAAAAAAAAAAAAAAAAAAAAAAAAAAAAAAAAAAAAAAAAAAAAAAAAAAAAAAAAAAAAAAAAAAAAAAAAAAAAAAAAAAAAAAAAAAAAAAAAAAAAAAAAAAAAAAAAAAAAAAAAAAAAAAAAAAAAAAAAAAAAAAAAAAAAAAAAAAAAAAAAAAAAAAAAAAAAAAAAAAAAAAAAAAAAAAAAAAAAAAAAAAAAAAAAAAAAAAAAAAAAAAAAAAAAAAAAAAAAAAAAAAAAAAAAAAAAAAAAAAAAAAAAAAAAAAAAAAAAAAAAAAAAAAAAAAAAAAAAAAAAAAAAAAAAAAAAAAAAAAAAAAAAAAAAAAAAAAAAAAAAAAAAAAAAAAAAAAAAAAAAAAAAAAAAAAAAAAAAAAAAAAAAAAAAAAAAAAAAAAAAAAAAAAAAAAAAAAAAAAAAAAAAAAAAAAAAAAAAAAAAAAAAAAAAAAAAAAAAAAAAAAAAAAAAAAAAAAAAAAAAAAAAAAAAAAAAAAAAAAAAAAAAAAAAAAAAAAAAAAAAAAAAAAAAAAAAAAAAAAAAAAAAAAAAAAAAAAAAAAAAAAAAAAAAAAAAAAAAAAAAAAAAAAAAAAAAAAAAAAAAAAAAAAAAAAAAAAAAAAAAAAAAAAAAAAAAAAAAAAAAAAAAAAAAAAAAAAAAAAAAAAAAAAAAAAAAAAAAAAAAAAAAAAAAAAAAAAAAAAAAAAAAAAAAAAAAAAAAAAAAAAAAAAAAAAAAAAAAAAAAAAAAAAAAAAAAAAAAAAAAAAAAAAAAAAAAAAAAAAAAAAAAAAAAAAAAAAAAAAAAAAAAAAAAAAAAAAAAAAAAAAAAAAAAAAAAAAAAAAAAAAAAAAAAAAAAAAAAAAAAAAAAAAAAAAAAAAAAAAAAAAAAAAAAAAAAAAAAAAAAAAAAAAAAAAAAAAAAAAAAAAAAAAAAAAAAAAAAAAAAAAAAAAAAAAAAAAAAAAAAAAAAAAAAAAAAAAAAAAAAAAAAAAAAAAAAAAAAAAAAAAAAAAAAAAAAAAAAAAAAAAAAAAAAAAAAAAAAAAAAAAAAAAAAAAAAAAAAAAAAAAAAAAAAAAAAAAAAAAAAAAAAAAAAAAAAAAAAAAAAAAAAAAAAAAAAAAAAAAAAAAAAAAAAAAAAAAAAAAAAAAAAAAAAAAAAAAAAAAAAAAAAAAAAAAAAAAAAAAAAAAAAAAAAAAAAAAAAAAAAAAAAAAAAAAAAAAAAAAAAAAAAAAAAAAAAAAAAAAAAAAAAAAAAAAAAAAAAAAAAAAAAAAAAAAAAAAAAAAAAAAAAAAAAAAAAAAAAAAAAAAAAAAAAAAAAAAAAAAAAAAAAAAAAAAAAAAAAAAAAAAAAAAAAAAAAAAAAAAAAAAAAAAAAAAAAAAAAAAAAAAAAAAAAAAAAAAAAAAAAAAAAAAAAAAAAAAAAAAAAAAAAAAAAAAAAAAAAAAAAAAAAAAAAAAAAAAAAAAAAAAAAAAAAAAAAAAAAAAAAAAAAAAAAAAAAAAAAAAAAAAAAAAAAAAAAAAAAAAAAAAAAAAAAAAAAAAAAAAAAAAAAAAAAAAAAAAAAAAAAAAAAAAAAAAAAAAAAAAAAAAAAAAAAAAAAAAAAAAAAAAAAAAAAAAAAAAAAAAAAAAAAAAAAAAAAAAAAAAAAAAAAAAAAAAAAAAAAAAAAAAAAAAAAAAAAAAAAAAAAAAAAAAAAAAAAAAAAAAAAAAAAAAAAAAAAAAAAAAAAAAAAAAAAAAAAAAAAAAAAAAAAAAAAAAAAAAAAAAAAAAAAAAAAAAAAAAAAAAAAAAAAAAAAAAAAAAAAAAAAAAAAAAAAAAAAAAAAAAAAAAAAAAAAAAAAAAAAAAAAAAAAAAAAAAAAAAAAAAAAAAAAAAAAAAAAAAAAAAAAAAAAAAAAAAAAAAAAAAAAAAAAAAAAAAAAAAAAAAAAAAAAAAAAAAAAAAAAAAAAAAAAAAAAAAAAAAAAAAAAAAAAAAAAAAAAAAAAAAAAAAAAAAAAAAAAAAAAAAAAAAAAAAAAAAAAAAAAAAAAAAAAAAAAAAAAAAAAAAAAAAAAAAAAAAAAAAAAAAAAAAAAAAAAAAAAAAAAAAAAAAAAAAAAAAAAAAAAAAAAAAAAAAAAAAAAAAAAAAAAAAAAAAAAAAAAAAAAAAAAAAAAAAAAAAAAAAAAAAAAAAAAAAAAAAAAAAAAAAAAAAAAAAAAAAAAAAAAAAAAAAAAAAAAAAAAAAAAAAAAAAAAAAAAAAAAAAAAAAAAAAAAAAAAAAAAAAAAAAAAAAAAAAAAAAAAAAAAAAAAAAAAAAAAAAAAAAAAAAAAAAAAAAAAAAAAAAAAAAAAAAAAAAAAAAAAAAAAAAAAAAAAAAAAAAAAAAAAAAAAAAAAAAAAAAAAAAAAAAAAAAAAAAAAAAAAAAAAAAAAAAAAAAAAAAAAAAAAAAAAAAAAAAAAAAAAAAAAAAAAAAAAAAAAAAAAAAAAAAAAAAAAAAAAAAAAAAAAAAAAAAAAAAAAAAAAAAAAAAAAAAAAAAAAAAAAAAAAAAAAAAAAAAAAAAAAAAAAAAAAAAAAAAAAAAAAAAAAAAAAAAAAAA8D8AAAAAAAAAAAAAAAAAAAAAAAAAAAAAAAAAAAAAAAAAAAAAAAAAAAAAAAAAAAAAAAAAAAAAAAAAAAAAAAAAAAAAAAAAAAAAAAAAAAAAAAAAAAAAAAAAAAAAAAAAAAAAAAAAAAAAAAAAAAAAAAAAAAAAAAAAAAAAAAAAAAAAAAAAAAAAAAAAAAAAAAAAAAAAAAAAAAAAAAAAAAAAAAAAAAAAAAAAAAAAAAAAAAAAAAAAAAAAAAAAAAAAAAAAAAAAAAAAAAAAAAAAAAAAAAAAAAAAAAAAAAAAAAAAAAAAAAAAAAAAAAAAAAAAAAAAAAAAAAAAAAAAAAAAAAAAAAAAAAAAAAAAAAAAAAAAAAAAAAAAAAAAAAAAAAAAAAAAAAAAAAAAAAAAAAAAAAAAAAAAAAAAAAAAAAAAAAAAAAAAAAAAAAAAAAAAAAAAAAAAAAAAAAAAAAAAAAAAAAAAAAAAAAAAAAAAAAAAAAAAAAAAAAAAAAAAAAAAAAAAAAAAAAAAAAAAAAAAAAAAAAAAAAAAAAAAAAAAAAAAAAAAAAAAAAAAAAAAAAAAAAAAAAAAAAAAAAAAAAAAAAAAAAAAAAAAAAAAAAAAAAAAAAAAAAAAAAAAAAAAAAAAAAAAAAAAAAAAAAAAAAAAAAAAAAAAAAAAAAAAAAAAAAAAAAAAAAAAAAAAAAAAAAAAAAAAAAAAAAAAAAAAAAAAAAAAAAAAAAAAAAAAAAAAAAAAAAAAAAAAAAAAAAAAAAAAAAAAAAAAAAAAAAAAAAAAAAAAAAAAAAAAAAAAAAAAAAAAAAAAAAAAAAAAAAAAAAAAAAAAAAAAAAAAAAAAAAAAAAAAAAAAAAAAAAAAAAAAAAAAAAAAAAAAAAAAAAAAAAAAAAAAAAAAAAAAAAAAAAAAAAAAAAAAAAAAAAAAAAAAAAAAAAAAAAAAAAAAAAAAAAAAAAAAAAAAAAAAAAAAAAAAAAAAAAAAAAAAAAAAAAAAAAAAAAAAAAAAAAAAAAAAAAAAAAAAAAAAAAAAAAAAAAAAAAAAAAAAAAAAAAAAAAAAAAAAAAAAAAAAAAAAAAAAAAAAAAAAAAAAAAAAAAAAAAAAAAAAAAAAAAAAAAAAAAAAAAAAAAAAAAAAAAAAAAAAAAAAAAAAAAAAAAAAAAAAAAAAAAAAAAAAAAAAAAAAAAAAAAAAAAAAAAAAAAAAAAAAAAAAAAAAAAAAAAAAAAA=",
          "dtype": "f8"
         },
         "xaxis": "x",
         "y": {
          "bdata": "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",
          "dtype": "f8"
         },
         "yaxis": "y"
        }
       ],
       "layout": {
        "legend": {
         "tracegroupgap": 0
        },
        "template": {
         "data": {
          "bar": [
           {
            "error_x": {
             "color": "#2a3f5f"
            },
            "error_y": {
             "color": "#2a3f5f"
            },
            "marker": {
             "line": {
              "color": "#E5ECF6",
              "width": 0.5
             },
             "pattern": {
              "fillmode": "overlay",
              "size": 10,
              "solidity": 0.2
             }
            },
            "type": "bar"
           }
          ],
          "barpolar": [
           {
            "marker": {
             "line": {
              "color": "#E5ECF6",
              "width": 0.5
             },
             "pattern": {
              "fillmode": "overlay",
              "size": 10,
              "solidity": 0.2
             }
            },
            "type": "barpolar"
           }
          ],
          "carpet": [
           {
            "aaxis": {
             "endlinecolor": "#2a3f5f",
             "gridcolor": "white",
             "linecolor": "white",
             "minorgridcolor": "white",
             "startlinecolor": "#2a3f5f"
            },
            "baxis": {
             "endlinecolor": "#2a3f5f",
             "gridcolor": "white",
             "linecolor": "white",
             "minorgridcolor": "white",
             "startlinecolor": "#2a3f5f"
            },
            "type": "carpet"
           }
          ],
          "choropleth": [
           {
            "colorbar": {
             "outlinewidth": 0,
             "ticks": ""
            },
            "type": "choropleth"
           }
          ],
          "contour": [
           {
            "colorbar": {
             "outlinewidth": 0,
             "ticks": ""
            },
            "colorscale": [
             [
              0,
              "#0d0887"
             ],
             [
              0.1111111111111111,
              "#46039f"
             ],
             [
              0.2222222222222222,
              "#7201a8"
             ],
             [
              0.3333333333333333,
              "#9c179e"
             ],
             [
              0.4444444444444444,
              "#bd3786"
             ],
             [
              0.5555555555555556,
              "#d8576b"
             ],
             [
              0.6666666666666666,
              "#ed7953"
             ],
             [
              0.7777777777777778,
              "#fb9f3a"
             ],
             [
              0.8888888888888888,
              "#fdca26"
             ],
             [
              1,
              "#f0f921"
             ]
            ],
            "type": "contour"
           }
          ],
          "contourcarpet": [
           {
            "colorbar": {
             "outlinewidth": 0,
             "ticks": ""
            },
            "type": "contourcarpet"
           }
          ],
          "heatmap": [
           {
            "colorbar": {
             "outlinewidth": 0,
             "ticks": ""
            },
            "colorscale": [
             [
              0,
              "#0d0887"
             ],
             [
              0.1111111111111111,
              "#46039f"
             ],
             [
              0.2222222222222222,
              "#7201a8"
             ],
             [
              0.3333333333333333,
              "#9c179e"
             ],
             [
              0.4444444444444444,
              "#bd3786"
             ],
             [
              0.5555555555555556,
              "#d8576b"
             ],
             [
              0.6666666666666666,
              "#ed7953"
             ],
             [
              0.7777777777777778,
              "#fb9f3a"
             ],
             [
              0.8888888888888888,
              "#fdca26"
             ],
             [
              1,
              "#f0f921"
             ]
            ],
            "type": "heatmap"
           }
          ],
          "histogram": [
           {
            "marker": {
             "pattern": {
              "fillmode": "overlay",
              "size": 10,
              "solidity": 0.2
             }
            },
            "type": "histogram"
           }
          ],
          "histogram2d": [
           {
            "colorbar": {
             "outlinewidth": 0,
             "ticks": ""
            },
            "colorscale": [
             [
              0,
              "#0d0887"
             ],
             [
              0.1111111111111111,
              "#46039f"
             ],
             [
              0.2222222222222222,
              "#7201a8"
             ],
             [
              0.3333333333333333,
              "#9c179e"
             ],
             [
              0.4444444444444444,
              "#bd3786"
             ],
             [
              0.5555555555555556,
              "#d8576b"
             ],
             [
              0.6666666666666666,
              "#ed7953"
             ],
             [
              0.7777777777777778,
              "#fb9f3a"
             ],
             [
              0.8888888888888888,
              "#fdca26"
             ],
             [
              1,
              "#f0f921"
             ]
            ],
            "type": "histogram2d"
           }
          ],
          "histogram2dcontour": [
           {
            "colorbar": {
             "outlinewidth": 0,
             "ticks": ""
            },
            "colorscale": [
             [
              0,
              "#0d0887"
             ],
             [
              0.1111111111111111,
              "#46039f"
             ],
             [
              0.2222222222222222,
              "#7201a8"
             ],
             [
              0.3333333333333333,
              "#9c179e"
             ],
             [
              0.4444444444444444,
              "#bd3786"
             ],
             [
              0.5555555555555556,
              "#d8576b"
             ],
             [
              0.6666666666666666,
              "#ed7953"
             ],
             [
              0.7777777777777778,
              "#fb9f3a"
             ],
             [
              0.8888888888888888,
              "#fdca26"
             ],
             [
              1,
              "#f0f921"
             ]
            ],
            "type": "histogram2dcontour"
           }
          ],
          "mesh3d": [
           {
            "colorbar": {
             "outlinewidth": 0,
             "ticks": ""
            },
            "type": "mesh3d"
           }
          ],
          "parcoords": [
           {
            "line": {
             "colorbar": {
              "outlinewidth": 0,
              "ticks": ""
             }
            },
            "type": "parcoords"
           }
          ],
          "pie": [
           {
            "automargin": true,
            "type": "pie"
           }
          ],
          "scatter": [
           {
            "fillpattern": {
             "fillmode": "overlay",
             "size": 10,
             "solidity": 0.2
            },
            "type": "scatter"
           }
          ],
          "scatter3d": [
           {
            "line": {
             "colorbar": {
              "outlinewidth": 0,
              "ticks": ""
             }
            },
            "marker": {
             "colorbar": {
              "outlinewidth": 0,
              "ticks": ""
             }
            },
            "type": "scatter3d"
           }
          ],
          "scattercarpet": [
           {
            "marker": {
             "colorbar": {
              "outlinewidth": 0,
              "ticks": ""
             }
            },
            "type": "scattercarpet"
           }
          ],
          "scattergeo": [
           {
            "marker": {
             "colorbar": {
              "outlinewidth": 0,
              "ticks": ""
             }
            },
            "type": "scattergeo"
           }
          ],
          "scattergl": [
           {
            "marker": {
             "colorbar": {
              "outlinewidth": 0,
              "ticks": ""
             }
            },
            "type": "scattergl"
           }
          ],
          "scattermap": [
           {
            "marker": {
             "colorbar": {
              "outlinewidth": 0,
              "ticks": ""
             }
            },
            "type": "scattermap"
           }
          ],
          "scattermapbox": [
           {
            "marker": {
             "colorbar": {
              "outlinewidth": 0,
              "ticks": ""
             }
            },
            "type": "scattermapbox"
           }
          ],
          "scatterpolar": [
           {
            "marker": {
             "colorbar": {
              "outlinewidth": 0,
              "ticks": ""
             }
            },
            "type": "scatterpolar"
           }
          ],
          "scatterpolargl": [
           {
            "marker": {
             "colorbar": {
              "outlinewidth": 0,
              "ticks": ""
             }
            },
            "type": "scatterpolargl"
           }
          ],
          "scatterternary": [
           {
            "marker": {
             "colorbar": {
              "outlinewidth": 0,
              "ticks": ""
             }
            },
            "type": "scatterternary"
           }
          ],
          "surface": [
           {
            "colorbar": {
             "outlinewidth": 0,
             "ticks": ""
            },
            "colorscale": [
             [
              0,
              "#0d0887"
             ],
             [
              0.1111111111111111,
              "#46039f"
             ],
             [
              0.2222222222222222,
              "#7201a8"
             ],
             [
              0.3333333333333333,
              "#9c179e"
             ],
             [
              0.4444444444444444,
              "#bd3786"
             ],
             [
              0.5555555555555556,
              "#d8576b"
             ],
             [
              0.6666666666666666,
              "#ed7953"
             ],
             [
              0.7777777777777778,
              "#fb9f3a"
             ],
             [
              0.8888888888888888,
              "#fdca26"
             ],
             [
              1,
              "#f0f921"
             ]
            ],
            "type": "surface"
           }
          ],
          "table": [
           {
            "cells": {
             "fill": {
              "color": "#EBF0F8"
             },
             "line": {
              "color": "white"
             }
            },
            "header": {
             "fill": {
              "color": "#C8D4E3"
             },
             "line": {
              "color": "white"
             }
            },
            "type": "table"
           }
          ]
         },
         "layout": {
          "annotationdefaults": {
           "arrowcolor": "#2a3f5f",
           "arrowhead": 0,
           "arrowwidth": 1
          },
          "autotypenumbers": "strict",
          "coloraxis": {
           "colorbar": {
            "outlinewidth": 0,
            "ticks": ""
           }
          },
          "colorscale": {
           "diverging": [
            [
             0,
             "#8e0152"
            ],
            [
             0.1,
             "#c51b7d"
            ],
            [
             0.2,
             "#de77ae"
            ],
            [
             0.3,
             "#f1b6da"
            ],
            [
             0.4,
             "#fde0ef"
            ],
            [
             0.5,
             "#f7f7f7"
            ],
            [
             0.6,
             "#e6f5d0"
            ],
            [
             0.7,
             "#b8e186"
            ],
            [
             0.8,
             "#7fbc41"
            ],
            [
             0.9,
             "#4d9221"
            ],
            [
             1,
             "#276419"
            ]
           ],
           "sequential": [
            [
             0,
             "#0d0887"
            ],
            [
             0.1111111111111111,
             "#46039f"
            ],
            [
             0.2222222222222222,
             "#7201a8"
            ],
            [
             0.3333333333333333,
             "#9c179e"
            ],
            [
             0.4444444444444444,
             "#bd3786"
            ],
            [
             0.5555555555555556,
             "#d8576b"
            ],
            [
             0.6666666666666666,
             "#ed7953"
            ],
            [
             0.7777777777777778,
             "#fb9f3a"
            ],
            [
             0.8888888888888888,
             "#fdca26"
            ],
            [
             1,
             "#f0f921"
            ]
           ],
           "sequentialminus": [
            [
             0,
             "#0d0887"
            ],
            [
             0.1111111111111111,
             "#46039f"
            ],
            [
             0.2222222222222222,
             "#7201a8"
            ],
            [
             0.3333333333333333,
             "#9c179e"
            ],
            [
             0.4444444444444444,
             "#bd3786"
            ],
            [
             0.5555555555555556,
             "#d8576b"
            ],
            [
             0.6666666666666666,
             "#ed7953"
            ],
            [
             0.7777777777777778,
             "#fb9f3a"
            ],
            [
             0.8888888888888888,
             "#fdca26"
            ],
            [
             1,
             "#f0f921"
            ]
           ]
          },
          "colorway": [
           "#636efa",
           "#EF553B",
           "#00cc96",
           "#ab63fa",
           "#FFA15A",
           "#19d3f3",
           "#FF6692",
           "#B6E880",
           "#FF97FF",
           "#FECB52"
          ],
          "font": {
           "color": "#2a3f5f"
          },
          "geo": {
           "bgcolor": "white",
           "lakecolor": "white",
           "landcolor": "#E5ECF6",
           "showlakes": true,
           "showland": true,
           "subunitcolor": "white"
          },
          "hoverlabel": {
           "align": "left"
          },
          "hovermode": "closest",
          "mapbox": {
           "style": "light"
          },
          "paper_bgcolor": "white",
          "plot_bgcolor": "#E5ECF6",
          "polar": {
           "angularaxis": {
            "gridcolor": "white",
            "linecolor": "white",
            "ticks": ""
           },
           "bgcolor": "#E5ECF6",
           "radialaxis": {
            "gridcolor": "white",
            "linecolor": "white",
            "ticks": ""
           }
          },
          "scene": {
           "xaxis": {
            "backgroundcolor": "#E5ECF6",
            "gridcolor": "white",
            "gridwidth": 2,
            "linecolor": "white",
            "showbackground": true,
            "ticks": "",
            "zerolinecolor": "white"
           },
           "yaxis": {
            "backgroundcolor": "#E5ECF6",
            "gridcolor": "white",
            "gridwidth": 2,
            "linecolor": "white",
            "showbackground": true,
            "ticks": "",
            "zerolinecolor": "white"
           },
           "zaxis": {
            "backgroundcolor": "#E5ECF6",
            "gridcolor": "white",
            "gridwidth": 2,
            "linecolor": "white",
            "showbackground": true,
            "ticks": "",
            "zerolinecolor": "white"
           }
          },
          "shapedefaults": {
           "line": {
            "color": "#2a3f5f"
           }
          },
          "ternary": {
           "aaxis": {
            "gridcolor": "white",
            "linecolor": "white",
            "ticks": ""
           },
           "baxis": {
            "gridcolor": "white",
            "linecolor": "white",
            "ticks": ""
           },
           "bgcolor": "#E5ECF6",
           "caxis": {
            "gridcolor": "white",
            "linecolor": "white",
            "ticks": ""
           }
          },
          "title": {
           "x": 0.05
          },
          "xaxis": {
           "automargin": true,
           "gridcolor": "white",
           "linecolor": "white",
           "ticks": "",
           "title": {
            "standoff": 15
           },
           "zerolinecolor": "white",
           "zerolinewidth": 2
          },
          "yaxis": {
           "automargin": true,
           "gridcolor": "white",
           "linecolor": "white",
           "ticks": "",
           "title": {
            "standoff": 15
           },
           "zerolinecolor": "white",
           "zerolinewidth": 2
          }
         }
        },
        "title": {
         "text": "Residual plot of Region_Middle East and North Africa"
        },
        "xaxis": {
         "anchor": "y",
         "domain": [
          0,
          1
         ],
         "title": {
          "text": "Region_Middle East and North Africa"
         }
        },
        "yaxis": {
         "anchor": "x",
         "domain": [
          0,
          1
         ],
         "title": {
          "text": "Residuals"
         }
        }
       }
      }
     },
     "metadata": {},
     "output_type": "display_data"
    }
   ],
   "source": [
    "for i in range(len(X_df.columns)):\n",
    "    colname = X_df.columns[i]\n",
    "    fig = px.scatter(x = X[:, i], y = log_results['resids'], title=f'Residual plot of {colname}', labels={'x': colname, 'y': 'Residuals'})\n",
    "    fig.show()"
   ]
  }
 ],
 "metadata": {
  "kernelspec": {
   "display_name": "ds",
   "language": "python",
   "name": "python3"
  },
  "language_info": {
   "codemirror_mode": {
    "name": "ipython",
    "version": 3
   },
   "file_extension": ".py",
   "mimetype": "text/x-python",
   "name": "python",
   "nbconvert_exporter": "python",
   "pygments_lexer": "ipython3",
   "version": "3.11.11"
  }
 },
 "nbformat": 4,
 "nbformat_minor": 5
}
