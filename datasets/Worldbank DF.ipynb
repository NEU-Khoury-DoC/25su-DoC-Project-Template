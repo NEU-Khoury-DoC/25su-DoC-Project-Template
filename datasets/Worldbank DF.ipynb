{
 "cells": [
  {
   "cell_type": "code",
   "execution_count": 7,
   "id": "114bf52f",
   "metadata": {},
   "outputs": [],
   "source": [
    "import requests\n",
    "import pandas as pd\n",
    "from io import StringIO\n",
    "\n",
    "def fetch_worldbank_gini_data():\n",
    "    \"\"\"\n",
    "    Fetches GINI Index api for our five chosen countries and puts them into a dataframe, Also bounds the GINI INDEX from 0-1\n",
    "\n",
    "    Returns:\n",
    "        pd.DataFrame: A Df with columns [country, indicator, indicator_name, date, value]\n",
    "    \"\"\"\n",
    "\n",
    "    # GINI index endpoints for specified countries\n",
    "    endpoints = {\n",
    "        \"USA_GINI\": \"https://api.worldbank.org/v2/country/usa/indicator/SI.POV.GINI?format=json&per_page=1000\",\n",
    "        \"BRA_GINI\": \"https://api.worldbank.org/v2/country/br/indicator/SI.POV.GINI?format=json&per_page=1000\",\n",
    "        \"GBR_GINI\": \"https://api.worldbank.org/v2/country/gbr/indicator/SI.POV.GINI?format=json&per_page=1000\",\n",
    "        \"ARG_GINI\": \"https://api.worldbank.org/v2/country/arg/indicator/SI.POV.GINI?format=json&per_page=1000\",\n",
    "        \"DEU_GINI\": \"https://api.worldbank.org/v2/country/deu/indicator/SI.POV.GINI?format=json&per_page=1000\",\n",
    "    }\n",
    "\n",
    "    all_data = []\n",
    "\n",
    "    for label, url in endpoints.items():\n",
    "        response = requests.get(url)\n",
    "        print(f\"{label} status: {response.status_code}\")\n",
    "        data = response.json()\n",
    "\n",
    "        if isinstance(data, list) and len(data) > 1:\n",
    "            for entry in data[1]:\n",
    "                value = entry[\"value\"]\n",
    "                if value is not None:\n",
    "                    value = value / 100  # Normalize to 0–1\n",
    "\n",
    "                all_data.append({\n",
    "                    \"country\": entry[\"country\"][\"value\"],\n",
    "                    \"date\": int(entry[\"date\"]),\n",
    "                    \"value\": value\n",
    "                })\n",
    "\n",
    "    df_all = pd.DataFrame(all_data)\n",
    "    df_all = df_all.sort_values(by=[\"country\", \"date\"], ascending=[True, False])\n",
    "\n",
    "    return df_all"
   ]
  },
  {
   "cell_type": "code",
   "execution_count": 8,
   "id": "b670654e",
   "metadata": {},
   "outputs": [
    {
     "name": "stdout",
     "output_type": "stream",
     "text": [
      "USA_GINI status: 200\n",
      "BRA_GINI status: 200\n",
      "GBR_GINI status: 200\n",
      "ARG_GINI status: 200\n",
      "DEU_GINI status: 200\n",
      "       country  date  value\n",
      "195  Argentina  2024    NaN\n",
      "196  Argentina  2023    NaN\n",
      "197  Argentina  2022  0.407\n",
      "198  Argentina  2021  0.424\n",
      "199  Argentina  2020  0.427\n"
     ]
    }
   ],
   "source": [
    "# run the function and form the DF\n",
    "df = fetch_worldbank_gini_data()\n",
    "print(df.head())"
   ]
  },
  {
   "cell_type": "code",
   "execution_count": 9,
   "id": "74cd664b",
   "metadata": {},
   "outputs": [
    {
     "name": "stdout",
     "output_type": "stream",
     "text": [
      "            country  date  value\n",
      "195       Argentina  2024    NaN\n",
      "196       Argentina  2023    NaN\n",
      "197       Argentina  2022  0.407\n",
      "198       Argentina  2021  0.424\n",
      "199       Argentina  2020  0.427\n",
      "200       Argentina  2019  0.433\n",
      "201       Argentina  2018  0.417\n",
      "202       Argentina  2017  0.414\n",
      "203       Argentina  2016  0.423\n",
      "204       Argentina  2015    NaN\n",
      "205       Argentina  2014  0.418\n",
      "206       Argentina  2013  0.411\n",
      "207       Argentina  2012  0.414\n",
      "208       Argentina  2011  0.427\n",
      "209       Argentina  2010  0.437\n",
      "210       Argentina  2009  0.438\n",
      "211       Argentina  2008  0.450\n",
      "212       Argentina  2007  0.463\n",
      "213       Argentina  2006  0.464\n",
      "214       Argentina  2005  0.478\n",
      "215       Argentina  2004  0.485\n",
      "216       Argentina  2003  0.510\n",
      "217       Argentina  2002  0.538\n",
      "218       Argentina  2001  0.533\n",
      "219       Argentina  2000  0.510\n",
      "220       Argentina  1999  0.498\n",
      "221       Argentina  1998  0.507\n",
      "222       Argentina  1997  0.491\n",
      "223       Argentina  1996  0.495\n",
      "224       Argentina  1995  0.489\n",
      "225       Argentina  1994  0.459\n",
      "226       Argentina  1993  0.448\n",
      "227       Argentina  1992  0.455\n",
      "228       Argentina  1991  0.468\n",
      "229       Argentina  1990    NaN\n",
      "230       Argentina  1989    NaN\n",
      "231       Argentina  1988    NaN\n",
      "232       Argentina  1987  0.453\n",
      "233       Argentina  1986  0.428\n",
      "234       Argentina  1985    NaN\n",
      "235       Argentina  1984    NaN\n",
      "236       Argentina  1983    NaN\n",
      "237       Argentina  1982    NaN\n",
      "238       Argentina  1981    NaN\n",
      "239       Argentina  1980  0.408\n",
      "240       Argentina  1979    NaN\n",
      "241       Argentina  1978    NaN\n",
      "242       Argentina  1977    NaN\n",
      "243       Argentina  1976    NaN\n",
      "244       Argentina  1975    NaN\n",
      "245       Argentina  1974    NaN\n",
      "246       Argentina  1973    NaN\n",
      "247       Argentina  1972    NaN\n",
      "248       Argentina  1971    NaN\n",
      "249       Argentina  1970    NaN\n",
      "250       Argentina  1969    NaN\n",
      "251       Argentina  1968    NaN\n",
      "252       Argentina  1967    NaN\n",
      "253       Argentina  1966    NaN\n",
      "254       Argentina  1965    NaN\n",
      "255       Argentina  1964    NaN\n",
      "256       Argentina  1963    NaN\n",
      "257       Argentina  1962    NaN\n",
      "258       Argentina  1961    NaN\n",
      "259       Argentina  1960    NaN\n",
      "65           Brazil  2024    NaN\n",
      "66           Brazil  2023    NaN\n",
      "67           Brazil  2022  0.520\n",
      "68           Brazil  2021  0.529\n",
      "69           Brazil  2020  0.489\n",
      "70           Brazil  2019  0.535\n",
      "71           Brazil  2018  0.539\n",
      "72           Brazil  2017  0.533\n",
      "73           Brazil  2016  0.534\n",
      "74           Brazil  2015  0.519\n",
      "75           Brazil  2014  0.520\n",
      "76           Brazil  2013  0.527\n",
      "77           Brazil  2012  0.534\n",
      "78           Brazil  2011  0.529\n",
      "79           Brazil  2010    NaN\n",
      "80           Brazil  2009  0.537\n",
      "81           Brazil  2008  0.540\n",
      "82           Brazil  2007  0.549\n",
      "83           Brazil  2006  0.556\n",
      "84           Brazil  2005  0.563\n",
      "85           Brazil  2004  0.565\n",
      "86           Brazil  2003  0.576\n",
      "87           Brazil  2002  0.581\n",
      "88           Brazil  2001  0.584\n",
      "89           Brazil  2000    NaN\n",
      "90           Brazil  1999  0.590\n",
      "91           Brazil  1998  0.596\n",
      "92           Brazil  1997  0.598\n",
      "93           Brazil  1996  0.598\n",
      "94           Brazil  1995  0.595\n",
      "95           Brazil  1994    NaN\n",
      "96           Brazil  1993  0.601\n",
      "97           Brazil  1992  0.531\n",
      "98           Brazil  1991    NaN\n",
      "99           Brazil  1990  0.604\n",
      "100          Brazil  1989  0.632\n",
      "101          Brazil  1988  0.614\n",
      "102          Brazil  1987  0.596\n",
      "103          Brazil  1986  0.584\n",
      "104          Brazil  1985  0.555\n",
      "105          Brazil  1984  0.583\n",
      "106          Brazil  1983  0.589\n",
      "107          Brazil  1982  0.584\n",
      "108          Brazil  1981  0.579\n",
      "109          Brazil  1980    NaN\n",
      "110          Brazil  1979    NaN\n",
      "111          Brazil  1978    NaN\n",
      "112          Brazil  1977    NaN\n",
      "113          Brazil  1976    NaN\n",
      "114          Brazil  1975    NaN\n",
      "115          Brazil  1974    NaN\n",
      "116          Brazil  1973    NaN\n",
      "117          Brazil  1972    NaN\n",
      "118          Brazil  1971    NaN\n",
      "119          Brazil  1970    NaN\n",
      "120          Brazil  1969    NaN\n",
      "121          Brazil  1968    NaN\n",
      "122          Brazil  1967    NaN\n",
      "123          Brazil  1966    NaN\n",
      "124          Brazil  1965    NaN\n",
      "125          Brazil  1964    NaN\n",
      "126          Brazil  1963    NaN\n",
      "127          Brazil  1962    NaN\n",
      "128          Brazil  1961    NaN\n",
      "129          Brazil  1960    NaN\n",
      "260         Germany  2024    NaN\n",
      "261         Germany  2023    NaN\n",
      "262         Germany  2022    NaN\n",
      "263         Germany  2021    NaN\n",
      "264         Germany  2020  0.324\n",
      "265         Germany  2019  0.318\n",
      "266         Germany  2018  0.319\n",
      "267         Germany  2017  0.313\n",
      "268         Germany  2016  0.314\n",
      "269         Germany  2015  0.317\n",
      "270         Germany  2014  0.308\n",
      "271         Germany  2013  0.315\n",
      "272         Germany  2012  0.311\n",
      "273         Germany  2011  0.306\n",
      "274         Germany  2010  0.302\n",
      "275         Germany  2009  0.305\n",
      "276         Germany  2008  0.308\n",
      "277         Germany  2007  0.312\n",
      "278         Germany  2006  0.310\n",
      "279         Germany  2005  0.317\n",
      "280         Germany  2004  0.302\n",
      "281         Germany  2003  0.298\n",
      "282         Germany  2002  0.298\n",
      "283         Germany  2001  0.299\n",
      "284         Germany  2000  0.289\n",
      "285         Germany  1999  0.290\n",
      "286         Germany  1998  0.283\n",
      "287         Germany  1997  0.282\n",
      "288         Germany  1996  0.280\n",
      "289         Germany  1995  0.288\n",
      "290         Germany  1994  0.292\n",
      "291         Germany  1993  0.286\n",
      "292         Germany  1992  0.291\n",
      "293         Germany  1991  0.295\n",
      "294         Germany  1990    NaN\n",
      "295         Germany  1989    NaN\n",
      "296         Germany  1988    NaN\n",
      "297         Germany  1987    NaN\n",
      "298         Germany  1986    NaN\n",
      "299         Germany  1985    NaN\n",
      "300         Germany  1984    NaN\n",
      "301         Germany  1983    NaN\n",
      "302         Germany  1982    NaN\n",
      "303         Germany  1981    NaN\n",
      "304         Germany  1980    NaN\n",
      "305         Germany  1979    NaN\n",
      "306         Germany  1978    NaN\n",
      "307         Germany  1977    NaN\n",
      "308         Germany  1976    NaN\n",
      "309         Germany  1975    NaN\n",
      "310         Germany  1974    NaN\n",
      "311         Germany  1973    NaN\n",
      "312         Germany  1972    NaN\n",
      "313         Germany  1971    NaN\n",
      "314         Germany  1970    NaN\n",
      "315         Germany  1969    NaN\n",
      "316         Germany  1968    NaN\n",
      "317         Germany  1967    NaN\n",
      "318         Germany  1966    NaN\n",
      "319         Germany  1965    NaN\n",
      "320         Germany  1964    NaN\n",
      "321         Germany  1963    NaN\n",
      "322         Germany  1962    NaN\n",
      "323         Germany  1961    NaN\n",
      "324         Germany  1960    NaN\n",
      "130  United Kingdom  2024    NaN\n",
      "131  United Kingdom  2023    NaN\n",
      "132  United Kingdom  2022    NaN\n",
      "133  United Kingdom  2021  0.324\n",
      "134  United Kingdom  2020  0.326\n",
      "135  United Kingdom  2019  0.328\n",
      "136  United Kingdom  2018  0.337\n",
      "137  United Kingdom  2017  0.326\n",
      "138  United Kingdom  2016  0.331\n",
      "139  United Kingdom  2015  0.333\n",
      "140  United Kingdom  2014  0.331\n",
      "141  United Kingdom  2013  0.327\n",
      "142  United Kingdom  2012  0.331\n",
      "143  United Kingdom  2011  0.332\n",
      "144  United Kingdom  2010  0.337\n",
      "145  United Kingdom  2009  0.351\n",
      "146  United Kingdom  2008  0.354\n",
      "147  United Kingdom  2007  0.344\n",
      "148  United Kingdom  2006  0.359\n",
      "149  United Kingdom  2005  0.355\n",
      "150  United Kingdom  2004  0.348\n",
      "151  United Kingdom  2003  0.349\n",
      "152  United Kingdom  2002  0.351\n",
      "153  United Kingdom  2001  0.371\n",
      "154  United Kingdom  2000  0.388\n",
      "155  United Kingdom  1999  0.368\n",
      "156  United Kingdom  1998  0.366\n",
      "157  United Kingdom  1997  0.357\n",
      "158  United Kingdom  1996  0.353\n",
      "159  United Kingdom  1995  0.355\n",
      "160  United Kingdom  1994  0.360\n",
      "161  United Kingdom  1993  0.351\n",
      "162  United Kingdom  1992  0.350\n",
      "163  United Kingdom  1991  0.350\n",
      "164  United Kingdom  1990  0.357\n",
      "165  United Kingdom  1989  0.334\n",
      "166  United Kingdom  1988  0.343\n",
      "167  United Kingdom  1987  0.339\n",
      "168  United Kingdom  1986  0.319\n",
      "169  United Kingdom  1985  0.304\n",
      "170  United Kingdom  1984  0.292\n",
      "171  United Kingdom  1983  0.298\n",
      "172  United Kingdom  1982  0.299\n",
      "173  United Kingdom  1981  0.297\n",
      "174  United Kingdom  1980  0.285\n",
      "175  United Kingdom  1979  0.274\n",
      "176  United Kingdom  1978  0.272\n",
      "177  United Kingdom  1977  0.271\n",
      "178  United Kingdom  1976  0.276\n",
      "179  United Kingdom  1975  0.279\n",
      "180  United Kingdom  1974  0.290\n",
      "181  United Kingdom  1973  0.288\n",
      "182  United Kingdom  1972  0.288\n",
      "183  United Kingdom  1971  0.293\n",
      "184  United Kingdom  1970  0.280\n",
      "185  United Kingdom  1969  0.279\n",
      "186  United Kingdom  1968  0.268\n",
      "187  United Kingdom  1967    NaN\n",
      "188  United Kingdom  1966    NaN\n",
      "189  United Kingdom  1965    NaN\n",
      "190  United Kingdom  1964    NaN\n",
      "191  United Kingdom  1963    NaN\n",
      "192  United Kingdom  1962    NaN\n",
      "193  United Kingdom  1961    NaN\n",
      "194  United Kingdom  1960    NaN\n",
      "0     United States  2024    NaN\n",
      "1     United States  2023    NaN\n",
      "2     United States  2022  0.413\n",
      "3     United States  2021  0.397\n",
      "4     United States  2020  0.397\n",
      "5     United States  2019  0.415\n",
      "6     United States  2018  0.414\n",
      "7     United States  2017  0.412\n",
      "8     United States  2016  0.411\n",
      "9     United States  2015  0.412\n",
      "10    United States  2014  0.415\n",
      "11    United States  2013  0.406\n",
      "12    United States  2012  0.409\n",
      "13    United States  2011  0.409\n",
      "14    United States  2010  0.400\n",
      "15    United States  2009  0.406\n",
      "16    United States  2008  0.408\n",
      "17    United States  2007  0.408\n",
      "18    United States  2006  0.414\n",
      "19    United States  2005  0.410\n",
      "20    United States  2004  0.403\n",
      "21    United States  2003  0.408\n",
      "22    United States  2002  0.404\n",
      "23    United States  2001  0.406\n",
      "24    United States  2000  0.401\n",
      "25    United States  1999  0.400\n",
      "26    United States  1998  0.400\n",
      "27    United States  1997  0.405\n",
      "28    United States  1996  0.403\n",
      "29    United States  1995  0.399\n",
      "30    United States  1994  0.400\n",
      "31    United States  1993  0.404\n",
      "32    United States  1992  0.384\n",
      "33    United States  1991  0.380\n",
      "34    United States  1990  0.383\n",
      "35    United States  1989  0.382\n",
      "36    United States  1988  0.377\n",
      "37    United States  1987  0.372\n",
      "38    United States  1986  0.376\n",
      "39    United States  1985  0.376\n",
      "40    United States  1984  0.373\n",
      "41    United States  1983  0.373\n",
      "42    United States  1982  0.367\n",
      "43    United States  1981  0.355\n",
      "44    United States  1980  0.347\n",
      "45    United States  1979  0.348\n",
      "46    United States  1978  0.348\n",
      "47    United States  1977  0.355\n",
      "48    United States  1976  0.356\n",
      "49    United States  1975  0.356\n",
      "50    United States  1974  0.355\n",
      "51    United States  1973  0.361\n",
      "52    United States  1972  0.367\n",
      "53    United States  1971  0.369\n",
      "54    United States  1970  0.366\n",
      "55    United States  1969  0.360\n",
      "56    United States  1968  0.363\n",
      "57    United States  1967  0.369\n",
      "58    United States  1966  0.378\n",
      "59    United States  1965  0.375\n",
      "60    United States  1964  0.381\n",
      "61    United States  1963  0.376\n",
      "62    United States  1962    NaN\n",
      "63    United States  1961    NaN\n",
      "64    United States  1960    NaN\n"
     ]
    }
   ],
   "source": [
    "# Show the whole dataframe (just to visualize)\n",
    "pd.set_option('display.max_rows', None)\n",
    "pd.set_option('display.max_columns', None)\n",
    "pd.set_option('display.width', None)\n",
    "pd.set_option('display.max_colwidth', None)\n",
    "\n",
    "\n",
    "print(df)"
   ]
  },
  {
   "cell_type": "code",
   "execution_count": 11,
   "id": "2932eb19",
   "metadata": {},
   "outputs": [
    {
     "data": {
      "application/vnd.plotly.v1+json": {
       "config": {
        "plotlyServerURL": "https://plot.ly"
       },
       "data": [
        {
         "bingroup": "x",
         "hovertemplate": "country=Argentina<br>GINI Index=%{x}<br>count=%{y}<extra></extra>",
         "legendgroup": "Argentina",
         "marker": {
          "color": "#636efa",
          "opacity": 0.6,
          "pattern": {
           "shape": ""
          }
         },
         "name": "Argentina",
         "nbinsx": 50,
         "orientation": "v",
         "showlegend": true,
         "type": "histogram",
         "x": {
          "bdata": "QDVeukkM2j+JQWDl0CLbP4gW2c73U9s/g8DKoUW22z/kpZvEILDaP+XQItv5fto/30+Nl24S2z+Nl24Sg8DaP+j7qfHSTdo/5dAi2/l+2j+IFtnO91PbPyyHFtnO99s/1HjpJjEI3D/NzMzMzMzcP24Sg8DKod0/GARWDi2y3T9kO99PjZfePwrXo3A9Ct8/UrgehetR4D+d76fGSzfhP3STGARWDuE/UrgehetR4D+sHFpkO9/fP9NNYhBYOeA/BoGVQ4ts3z+uR+F6FK7fP7Kd76fGS98/xks3iUFg3T946SYxCKzcPx+F61G4Ht0/wMqhRbbz3T/KoUW28/3cPzEIrBxaZNs/6SYxCKwc2j8=",
          "dtype": "f8"
         },
         "xaxis": "x",
         "yaxis": "y"
        },
        {
         "bingroup": "x",
         "hovertemplate": "country=Brazil<br>GINI Index=%{x}<br>count=%{y}<extra></extra>",
         "legendgroup": "Brazil",
         "marker": {
          "color": "#EF553B",
          "opacity": 0.6,
          "pattern": {
           "shape": ""
          }
         },
         "name": "Brazil",
         "nbinsx": 50,
         "orientation": "v",
         "showlegend": true,
         "type": "histogram",
         "x": {
          "bdata": "pHA9Ctej4D8hsHJoke3gP7Kd76fGS98/H4XrUbge4T9zaJHtfD/hP3STGARWDuE/SgwCK4cW4T/P91PjpZvgP6RwPQrXo+A/d76fGi/d4D9KDAIrhxbhPyGwcmiR7eA/yXa+nxov4T9I4XoUrkfhP8QgsHJokeE/mG4Sg8DK4T9qvHSTGATiPxSuR+F6FOI/PN9PjZdu4j9kO99PjZfiP+Olm8QgsOI/4XoUrkfh4j/fT42XbhLjP4lBYOXQIuM/iUFg5dAi4z8K16NwPQrjPwisHFpkO+M/y6FFtvP94D+HFtnO91PjP9NNYhBYOeQ/2c73U+Ol4z/fT42XbhLjP+Olm8QgsOI/w/UoXI/C4T8OLbKd76fiPwwCK4cW2eI/46WbxCCw4j+6SQwCK4fiPw==",
          "dtype": "f8"
         },
         "xaxis": "x",
         "yaxis": "y"
        },
        {
         "bingroup": "x",
         "hovertemplate": "country=Germany<br>GINI Index=%{x}<br>count=%{y}<extra></extra>",
         "legendgroup": "Germany",
         "marker": {
          "color": "#00cc96",
          "opacity": 0.6,
          "pattern": {
           "shape": ""
          }
         },
         "name": "Germany",
         "nbinsx": 50,
         "orientation": "v",
         "showlegend": true,
         "type": "histogram",
         "x": {
          "bdata": "I9v5fmq81D8nMQisHFrUP9Ei2/l+atQ/1XjpJjEI1D9/arx0kxjUP30/NV66SdQ/g8DKoUW20z8pXI/C9SjUP4GVQ4ts59M/L90kBoGV0z+HFtnO91PTP4XrUbgehdM/g8DKoUW20z8rhxbZzvfTP9ejcD0K19M/fT81XrpJ1D+HFtnO91PTP99PjZduEtM/30+Nl24S0z+JQWDl0CLTP+XQItv5ftI/j8L1KFyP0j/qJjEIrBzSPz81XrpJDNI/7FG4HoXr0T8830+Nl27SP+Olm8QgsNI/6Pup8dJN0j86tMh2vp/SP+F6FK5H4dI/",
          "dtype": "f8"
         },
         "xaxis": "x",
         "yaxis": "y"
        },
        {
         "bingroup": "x",
         "hovertemplate": "country=United Kingdom<br>GINI Index=%{x}<br>count=%{y}<extra></extra>",
         "legendgroup": "United Kingdom",
         "marker": {
          "color": "#ab63fa",
          "opacity": 0.6,
          "pattern": {
           "shape": ""
          }
         },
         "name": "United Kingdom",
         "nbinsx": 50,
         "orientation": "v",
         "showlegend": true,
         "type": "histogram",
         "x": {
          "bdata": "I9v5fmq81D93vp8aL93UP8qhRbbz/dQ/xSCwcmiR1T93vp8aL93UP8l2vp8aL9U/HFpkO99P1T/Jdr6fGi/VPyGwcmiR7dQ/yXa+nxov1T9zaJHtfD/VP8UgsHJokdU/EVg5tMh21j8OLbKd76fWP2q8dJMYBNY/YOXQItv51j+4HoXrUbjWPxKDwMqhRdY/vHSTGARW1j8RWDm0yHbWP1g5tMh2vtc/oUW28/3U2D9aZDvfT43XPwaBlUOLbNc/DQIrhxbZ1j9kO99PjZfWP7gehetRuNY/CtejcD0K1z8RWDm0yHbWP2ZmZmZmZtY/ZmZmZmZm1j8NAiuHFtnWP8ZLN4lBYNU/wMqhRbbz1T8YBFYOLbLVP9Ei2/l+atQ/2/l+arx00z/jpZvEILDSP99PjZduEtM/iUFg5dAi0z81XrpJDALTPz0K16NwPdI/76fGSzeJ0T+cxCCwcmjRP/LSTWIQWNE/RIts5/up0T9BYOXQItvRP4/C9Shcj9I/PN9PjZdu0j8830+Nl27SP42XbhKDwNI/7FG4HoXr0T9BYOXQItvRP/T91HjpJtE/",
          "dtype": "f8"
         },
         "xaxis": "x",
         "yaxis": "y"
        },
        {
         "bingroup": "x",
         "hovertemplate": "country=United States<br>GINI Index=%{x}<br>count=%{y}<extra></extra>",
         "legendgroup": "United States",
         "marker": {
          "color": "#FFA15A",
          "opacity": 0.6,
          "pattern": {
           "shape": ""
          }
         },
         "name": "United States",
         "nbinsx": 50,
         "orientation": "v",
         "showlegend": true,
         "type": "histogram",
         "x": {
          "bdata": "O99PjZdu2j+cxCCwcmjZP5zEILByaNk/j8L1KFyP2j/l0CLb+X7aP5LtfD81Xto/6Pup8dJN2j+S7Xw/NV7aP4/C9Shcj9o/lkOLbOf72T+TGARWDi3aP5MYBFYOLdo/mpmZmZmZ2T+WQ4ts5/vZP+kmMQisHNo/6SYxCKwc2j/l0CLb+X7aPz0K16NwPdo/l24Sg8DK2T/pJjEIrBzaP0Fg5dAi29k/lkOLbOf72T9Ei2zn+6nZP5qZmZmZmdk/mpmZmZmZ2T/sUbgehevZP5duEoPAytk/76fGSzeJ2T+amZmZmZnZP0Fg5dAi29k/+n5qvHST2D9SuB6F61HYP0+Nl24Sg9g/ppvEILBy2D9U46WbxCDYPwMrhxbZztc/qvHSTWIQ2D+q8dJNYhDYP6wcWmQ739c/rBxaZDvf1z+xcmiR7XzXP7gehetRuNY/aZHtfD811j8Sg8DKoUXWPxKDwMqhRdY/uB6F61G41j9jEFg5tMjWP2MQWDm0yNY/uB6F61G41j+0yHa+nxrXP7FyaJHtfNc/BFYOLbKd1z8GgZVDi2zXPwrXo3A9Ctc/CKwcWmQ71z8EVg4tsp3XP/3UeOkmMdg/AAAAAAAA2D/8qfHSTWLYP6rx0k1iENg/",
          "dtype": "f8"
         },
         "xaxis": "x",
         "yaxis": "y"
        }
       ],
       "layout": {
        "barmode": "overlay",
        "legend": {
         "title": {
          "text": "Country"
         },
         "tracegroupgap": 0
        },
        "template": {
         "data": {
          "bar": [
           {
            "error_x": {
             "color": "#2a3f5f"
            },
            "error_y": {
             "color": "#2a3f5f"
            },
            "marker": {
             "line": {
              "color": "#E5ECF6",
              "width": 0.5
             },
             "pattern": {
              "fillmode": "overlay",
              "size": 10,
              "solidity": 0.2
             }
            },
            "type": "bar"
           }
          ],
          "barpolar": [
           {
            "marker": {
             "line": {
              "color": "#E5ECF6",
              "width": 0.5
             },
             "pattern": {
              "fillmode": "overlay",
              "size": 10,
              "solidity": 0.2
             }
            },
            "type": "barpolar"
           }
          ],
          "carpet": [
           {
            "aaxis": {
             "endlinecolor": "#2a3f5f",
             "gridcolor": "white",
             "linecolor": "white",
             "minorgridcolor": "white",
             "startlinecolor": "#2a3f5f"
            },
            "baxis": {
             "endlinecolor": "#2a3f5f",
             "gridcolor": "white",
             "linecolor": "white",
             "minorgridcolor": "white",
             "startlinecolor": "#2a3f5f"
            },
            "type": "carpet"
           }
          ],
          "choropleth": [
           {
            "colorbar": {
             "outlinewidth": 0,
             "ticks": ""
            },
            "type": "choropleth"
           }
          ],
          "contour": [
           {
            "colorbar": {
             "outlinewidth": 0,
             "ticks": ""
            },
            "colorscale": [
             [
              0,
              "#0d0887"
             ],
             [
              0.1111111111111111,
              "#46039f"
             ],
             [
              0.2222222222222222,
              "#7201a8"
             ],
             [
              0.3333333333333333,
              "#9c179e"
             ],
             [
              0.4444444444444444,
              "#bd3786"
             ],
             [
              0.5555555555555556,
              "#d8576b"
             ],
             [
              0.6666666666666666,
              "#ed7953"
             ],
             [
              0.7777777777777778,
              "#fb9f3a"
             ],
             [
              0.8888888888888888,
              "#fdca26"
             ],
             [
              1,
              "#f0f921"
             ]
            ],
            "type": "contour"
           }
          ],
          "contourcarpet": [
           {
            "colorbar": {
             "outlinewidth": 0,
             "ticks": ""
            },
            "type": "contourcarpet"
           }
          ],
          "heatmap": [
           {
            "colorbar": {
             "outlinewidth": 0,
             "ticks": ""
            },
            "colorscale": [
             [
              0,
              "#0d0887"
             ],
             [
              0.1111111111111111,
              "#46039f"
             ],
             [
              0.2222222222222222,
              "#7201a8"
             ],
             [
              0.3333333333333333,
              "#9c179e"
             ],
             [
              0.4444444444444444,
              "#bd3786"
             ],
             [
              0.5555555555555556,
              "#d8576b"
             ],
             [
              0.6666666666666666,
              "#ed7953"
             ],
             [
              0.7777777777777778,
              "#fb9f3a"
             ],
             [
              0.8888888888888888,
              "#fdca26"
             ],
             [
              1,
              "#f0f921"
             ]
            ],
            "type": "heatmap"
           }
          ],
          "histogram": [
           {
            "marker": {
             "pattern": {
              "fillmode": "overlay",
              "size": 10,
              "solidity": 0.2
             }
            },
            "type": "histogram"
           }
          ],
          "histogram2d": [
           {
            "colorbar": {
             "outlinewidth": 0,
             "ticks": ""
            },
            "colorscale": [
             [
              0,
              "#0d0887"
             ],
             [
              0.1111111111111111,
              "#46039f"
             ],
             [
              0.2222222222222222,
              "#7201a8"
             ],
             [
              0.3333333333333333,
              "#9c179e"
             ],
             [
              0.4444444444444444,
              "#bd3786"
             ],
             [
              0.5555555555555556,
              "#d8576b"
             ],
             [
              0.6666666666666666,
              "#ed7953"
             ],
             [
              0.7777777777777778,
              "#fb9f3a"
             ],
             [
              0.8888888888888888,
              "#fdca26"
             ],
             [
              1,
              "#f0f921"
             ]
            ],
            "type": "histogram2d"
           }
          ],
          "histogram2dcontour": [
           {
            "colorbar": {
             "outlinewidth": 0,
             "ticks": ""
            },
            "colorscale": [
             [
              0,
              "#0d0887"
             ],
             [
              0.1111111111111111,
              "#46039f"
             ],
             [
              0.2222222222222222,
              "#7201a8"
             ],
             [
              0.3333333333333333,
              "#9c179e"
             ],
             [
              0.4444444444444444,
              "#bd3786"
             ],
             [
              0.5555555555555556,
              "#d8576b"
             ],
             [
              0.6666666666666666,
              "#ed7953"
             ],
             [
              0.7777777777777778,
              "#fb9f3a"
             ],
             [
              0.8888888888888888,
              "#fdca26"
             ],
             [
              1,
              "#f0f921"
             ]
            ],
            "type": "histogram2dcontour"
           }
          ],
          "mesh3d": [
           {
            "colorbar": {
             "outlinewidth": 0,
             "ticks": ""
            },
            "type": "mesh3d"
           }
          ],
          "parcoords": [
           {
            "line": {
             "colorbar": {
              "outlinewidth": 0,
              "ticks": ""
             }
            },
            "type": "parcoords"
           }
          ],
          "pie": [
           {
            "automargin": true,
            "type": "pie"
           }
          ],
          "scatter": [
           {
            "fillpattern": {
             "fillmode": "overlay",
             "size": 10,
             "solidity": 0.2
            },
            "type": "scatter"
           }
          ],
          "scatter3d": [
           {
            "line": {
             "colorbar": {
              "outlinewidth": 0,
              "ticks": ""
             }
            },
            "marker": {
             "colorbar": {
              "outlinewidth": 0,
              "ticks": ""
             }
            },
            "type": "scatter3d"
           }
          ],
          "scattercarpet": [
           {
            "marker": {
             "colorbar": {
              "outlinewidth": 0,
              "ticks": ""
             }
            },
            "type": "scattercarpet"
           }
          ],
          "scattergeo": [
           {
            "marker": {
             "colorbar": {
              "outlinewidth": 0,
              "ticks": ""
             }
            },
            "type": "scattergeo"
           }
          ],
          "scattergl": [
           {
            "marker": {
             "colorbar": {
              "outlinewidth": 0,
              "ticks": ""
             }
            },
            "type": "scattergl"
           }
          ],
          "scattermap": [
           {
            "marker": {
             "colorbar": {
              "outlinewidth": 0,
              "ticks": ""
             }
            },
            "type": "scattermap"
           }
          ],
          "scattermapbox": [
           {
            "marker": {
             "colorbar": {
              "outlinewidth": 0,
              "ticks": ""
             }
            },
            "type": "scattermapbox"
           }
          ],
          "scatterpolar": [
           {
            "marker": {
             "colorbar": {
              "outlinewidth": 0,
              "ticks": ""
             }
            },
            "type": "scatterpolar"
           }
          ],
          "scatterpolargl": [
           {
            "marker": {
             "colorbar": {
              "outlinewidth": 0,
              "ticks": ""
             }
            },
            "type": "scatterpolargl"
           }
          ],
          "scatterternary": [
           {
            "marker": {
             "colorbar": {
              "outlinewidth": 0,
              "ticks": ""
             }
            },
            "type": "scatterternary"
           }
          ],
          "surface": [
           {
            "colorbar": {
             "outlinewidth": 0,
             "ticks": ""
            },
            "colorscale": [
             [
              0,
              "#0d0887"
             ],
             [
              0.1111111111111111,
              "#46039f"
             ],
             [
              0.2222222222222222,
              "#7201a8"
             ],
             [
              0.3333333333333333,
              "#9c179e"
             ],
             [
              0.4444444444444444,
              "#bd3786"
             ],
             [
              0.5555555555555556,
              "#d8576b"
             ],
             [
              0.6666666666666666,
              "#ed7953"
             ],
             [
              0.7777777777777778,
              "#fb9f3a"
             ],
             [
              0.8888888888888888,
              "#fdca26"
             ],
             [
              1,
              "#f0f921"
             ]
            ],
            "type": "surface"
           }
          ],
          "table": [
           {
            "cells": {
             "fill": {
              "color": "#EBF0F8"
             },
             "line": {
              "color": "white"
             }
            },
            "header": {
             "fill": {
              "color": "#C8D4E3"
             },
             "line": {
              "color": "white"
             }
            },
            "type": "table"
           }
          ]
         },
         "layout": {
          "annotationdefaults": {
           "arrowcolor": "#2a3f5f",
           "arrowhead": 0,
           "arrowwidth": 1
          },
          "autotypenumbers": "strict",
          "coloraxis": {
           "colorbar": {
            "outlinewidth": 0,
            "ticks": ""
           }
          },
          "colorscale": {
           "diverging": [
            [
             0,
             "#8e0152"
            ],
            [
             0.1,
             "#c51b7d"
            ],
            [
             0.2,
             "#de77ae"
            ],
            [
             0.3,
             "#f1b6da"
            ],
            [
             0.4,
             "#fde0ef"
            ],
            [
             0.5,
             "#f7f7f7"
            ],
            [
             0.6,
             "#e6f5d0"
            ],
            [
             0.7,
             "#b8e186"
            ],
            [
             0.8,
             "#7fbc41"
            ],
            [
             0.9,
             "#4d9221"
            ],
            [
             1,
             "#276419"
            ]
           ],
           "sequential": [
            [
             0,
             "#0d0887"
            ],
            [
             0.1111111111111111,
             "#46039f"
            ],
            [
             0.2222222222222222,
             "#7201a8"
            ],
            [
             0.3333333333333333,
             "#9c179e"
            ],
            [
             0.4444444444444444,
             "#bd3786"
            ],
            [
             0.5555555555555556,
             "#d8576b"
            ],
            [
             0.6666666666666666,
             "#ed7953"
            ],
            [
             0.7777777777777778,
             "#fb9f3a"
            ],
            [
             0.8888888888888888,
             "#fdca26"
            ],
            [
             1,
             "#f0f921"
            ]
           ],
           "sequentialminus": [
            [
             0,
             "#0d0887"
            ],
            [
             0.1111111111111111,
             "#46039f"
            ],
            [
             0.2222222222222222,
             "#7201a8"
            ],
            [
             0.3333333333333333,
             "#9c179e"
            ],
            [
             0.4444444444444444,
             "#bd3786"
            ],
            [
             0.5555555555555556,
             "#d8576b"
            ],
            [
             0.6666666666666666,
             "#ed7953"
            ],
            [
             0.7777777777777778,
             "#fb9f3a"
            ],
            [
             0.8888888888888888,
             "#fdca26"
            ],
            [
             1,
             "#f0f921"
            ]
           ]
          },
          "colorway": [
           "#636efa",
           "#EF553B",
           "#00cc96",
           "#ab63fa",
           "#FFA15A",
           "#19d3f3",
           "#FF6692",
           "#B6E880",
           "#FF97FF",
           "#FECB52"
          ],
          "font": {
           "color": "#2a3f5f"
          },
          "geo": {
           "bgcolor": "white",
           "lakecolor": "white",
           "landcolor": "#E5ECF6",
           "showlakes": true,
           "showland": true,
           "subunitcolor": "white"
          },
          "hoverlabel": {
           "align": "left"
          },
          "hovermode": "closest",
          "mapbox": {
           "style": "light"
          },
          "paper_bgcolor": "white",
          "plot_bgcolor": "#E5ECF6",
          "polar": {
           "angularaxis": {
            "gridcolor": "white",
            "linecolor": "white",
            "ticks": ""
           },
           "bgcolor": "#E5ECF6",
           "radialaxis": {
            "gridcolor": "white",
            "linecolor": "white",
            "ticks": ""
           }
          },
          "scene": {
           "xaxis": {
            "backgroundcolor": "#E5ECF6",
            "gridcolor": "white",
            "gridwidth": 2,
            "linecolor": "white",
            "showbackground": true,
            "ticks": "",
            "zerolinecolor": "white"
           },
           "yaxis": {
            "backgroundcolor": "#E5ECF6",
            "gridcolor": "white",
            "gridwidth": 2,
            "linecolor": "white",
            "showbackground": true,
            "ticks": "",
            "zerolinecolor": "white"
           },
           "zaxis": {
            "backgroundcolor": "#E5ECF6",
            "gridcolor": "white",
            "gridwidth": 2,
            "linecolor": "white",
            "showbackground": true,
            "ticks": "",
            "zerolinecolor": "white"
           }
          },
          "shapedefaults": {
           "line": {
            "color": "#2a3f5f"
           }
          },
          "ternary": {
           "aaxis": {
            "gridcolor": "white",
            "linecolor": "white",
            "ticks": ""
           },
           "baxis": {
            "gridcolor": "white",
            "linecolor": "white",
            "ticks": ""
           },
           "bgcolor": "#E5ECF6",
           "caxis": {
            "gridcolor": "white",
            "linecolor": "white",
            "ticks": ""
           }
          },
          "title": {
           "x": 0.05
          },
          "xaxis": {
           "automargin": true,
           "gridcolor": "white",
           "linecolor": "white",
           "ticks": "",
           "title": {
            "standoff": 15
           },
           "zerolinecolor": "white",
           "zerolinewidth": 2
          },
          "yaxis": {
           "automargin": true,
           "gridcolor": "white",
           "linecolor": "white",
           "ticks": "",
           "title": {
            "standoff": 15
           },
           "zerolinecolor": "white",
           "zerolinewidth": 2
          }
         }
        },
        "title": {
         "text": "Distribution of GINI Index by Country"
        },
        "xaxis": {
         "anchor": "y",
         "domain": [
          0,
          1
         ],
         "title": {
          "text": "GINI Index"
         }
        },
        "yaxis": {
         "anchor": "x",
         "domain": [
          0,
          1
         ],
         "title": {
          "text": "Count"
         }
        }
       }
      }
     },
     "metadata": {},
     "output_type": "display_data"
    }
   ],
   "source": [
    "import plotly.express as px\n",
    "\n",
    "\n",
    "\n",
    "# Drop the NA values\n",
    "df_clean = df.dropna(subset=[\"value\"])\n",
    "\n",
    "\n",
    "fig = px.histogram(\n",
    "    df_clean,\n",
    "    x=\"value\",\n",
    "    color=\"country\",\n",
    "    nbins=50,\n",
    "    barmode=\"overlay\", \n",
    "    opacity=0.6,\n",
    "    title=\"Distribution of GINI Index by Country\",\n",
    "    labels={\"value\": \"GINI Index\"}\n",
    ")\n",
    "\n",
    "fig.update_layout(\n",
    "    xaxis_title=\"GINI Index\",\n",
    "    yaxis_title=\"Count\",\n",
    "    legend_title=\"Country\"\n",
    ")\n",
    "\n",
    "fig.show()"
   ]
  },
  {
   "cell_type": "code",
   "execution_count": null,
   "id": "06b994d9",
   "metadata": {},
   "outputs": [
    {
     "data": {
      "application/vnd.plotly.v1+json": {
       "config": {
        "plotlyServerURL": "https://plot.ly"
       },
       "data": [
        {
         "hovertemplate": "Country=Argentina<br>Year=%{x}<br>GINI Index=%{y}<extra></extra>",
         "legendgroup": "Argentina",
         "line": {
          "color": "#636efa",
          "dash": "solid"
         },
         "marker": {
          "symbol": "circle"
         },
         "mode": "lines+markers",
         "name": "Argentina",
         "orientation": "v",
         "showlegend": true,
         "type": "scatter",
         "x": {
          "bdata": "5gflB+QH4wfiB+EH4AfeB90H3AfbB9oH2QfYB9cH1gfVB9QH0wfSB9EH0AfPB84HzQfMB8sHygfJB8gHxwfDB8IHvAc=",
          "dtype": "i2"
         },
         "xaxis": "x",
         "y": {
          "bdata": "QDVeukkM2j+JQWDl0CLbP4gW2c73U9s/g8DKoUW22z/kpZvEILDaP+XQItv5fto/30+Nl24S2z+Nl24Sg8DaP+j7qfHSTdo/5dAi2/l+2j+IFtnO91PbPyyHFtnO99s/1HjpJjEI3D/NzMzMzMzcP24Sg8DKod0/GARWDi2y3T9kO99PjZfePwrXo3A9Ct8/UrgehetR4D+d76fGSzfhP3STGARWDuE/UrgehetR4D+sHFpkO9/fP9NNYhBYOeA/BoGVQ4ts3z+uR+F6FK7fP7Kd76fGS98/xks3iUFg3T946SYxCKzcPx+F61G4Ht0/wMqhRbbz3T/KoUW28/3cPzEIrBxaZNs/6SYxCKwc2j8=",
          "dtype": "f8"
         },
         "yaxis": "y"
        },
        {
         "hovertemplate": "Country=Brazil<br>Year=%{x}<br>GINI Index=%{y}<extra></extra>",
         "legendgroup": "Brazil",
         "line": {
          "color": "#EF553B",
          "dash": "solid"
         },
         "marker": {
          "symbol": "circle"
         },
         "mode": "lines+markers",
         "name": "Brazil",
         "orientation": "v",
         "showlegend": true,
         "type": "scatter",
         "x": {
          "bdata": "5gflB+QH4wfiB+EH4AffB94H3QfcB9sH2QfYB9cH1gfVB9QH0wfSB9EHzwfOB80HzAfLB8kHyAfGB8UHxAfDB8IHwQfAB78Hvge9Bw==",
          "dtype": "i2"
         },
         "xaxis": "x",
         "y": {
          "bdata": "pHA9Ctej4D8hsHJoke3gP7Kd76fGS98/H4XrUbge4T9zaJHtfD/hP3STGARWDuE/SgwCK4cW4T/P91PjpZvgP6RwPQrXo+A/d76fGi/d4D9KDAIrhxbhPyGwcmiR7eA/yXa+nxov4T9I4XoUrkfhP8QgsHJokeE/mG4Sg8DK4T9qvHSTGATiPxSuR+F6FOI/PN9PjZdu4j9kO99PjZfiP+Olm8QgsOI/4XoUrkfh4j/fT42XbhLjP4lBYOXQIuM/iUFg5dAi4z8K16NwPQrjPwisHFpkO+M/y6FFtvP94D+HFtnO91PjP9NNYhBYOeQ/2c73U+Ol4z/fT42XbhLjP+Olm8QgsOI/w/UoXI/C4T8OLbKd76fiPwwCK4cW2eI/46WbxCCw4j+6SQwCK4fiPw==",
          "dtype": "f8"
         },
         "yaxis": "y"
        },
        {
         "hovertemplate": "Country=Germany<br>Year=%{x}<br>GINI Index=%{y}<extra></extra>",
         "legendgroup": "Germany",
         "line": {
          "color": "#00cc96",
          "dash": "solid"
         },
         "marker": {
          "symbol": "circle"
         },
         "mode": "lines+markers",
         "name": "Germany",
         "orientation": "v",
         "showlegend": true,
         "type": "scatter",
         "x": {
          "bdata": "5AfjB+IH4QfgB98H3gfdB9wH2wfaB9kH2AfXB9YH1QfUB9MH0gfRB9AHzwfOB80HzAfLB8oHyQfIB8cH",
          "dtype": "i2"
         },
         "xaxis": "x",
         "y": {
          "bdata": "I9v5fmq81D8nMQisHFrUP9Ei2/l+atQ/1XjpJjEI1D9/arx0kxjUP30/NV66SdQ/g8DKoUW20z8pXI/C9SjUP4GVQ4ts59M/L90kBoGV0z+HFtnO91PTP4XrUbgehdM/g8DKoUW20z8rhxbZzvfTP9ejcD0K19M/fT81XrpJ1D+HFtnO91PTP99PjZduEtM/30+Nl24S0z+JQWDl0CLTP+XQItv5ftI/j8L1KFyP0j/qJjEIrBzSPz81XrpJDNI/7FG4HoXr0T8830+Nl27SP+Olm8QgsNI/6Pup8dJN0j86tMh2vp/SP+F6FK5H4dI/",
          "dtype": "f8"
         },
         "yaxis": "y"
        },
        {
         "hovertemplate": "Country=United Kingdom<br>Year=%{x}<br>GINI Index=%{y}<extra></extra>",
         "legendgroup": "United Kingdom",
         "line": {
          "color": "#ab63fa",
          "dash": "solid"
         },
         "marker": {
          "symbol": "circle"
         },
         "mode": "lines+markers",
         "name": "United Kingdom",
         "orientation": "v",
         "showlegend": true,
         "type": "scatter",
         "x": {
          "bdata": "5QfkB+MH4gfhB+AH3wfeB90H3AfbB9oH2QfYB9cH1gfVB9QH0wfSB9EH0AfPB84HzQfMB8sHygfJB8gHxwfGB8UHxAfDB8IHwQfAB78Hvge9B7wHuwe6B7kHuAe3B7YHtQe0B7MHsgexB7AH",
          "dtype": "i2"
         },
         "xaxis": "x",
         "y": {
          "bdata": "I9v5fmq81D93vp8aL93UP8qhRbbz/dQ/xSCwcmiR1T93vp8aL93UP8l2vp8aL9U/HFpkO99P1T/Jdr6fGi/VPyGwcmiR7dQ/yXa+nxov1T9zaJHtfD/VP8UgsHJokdU/EVg5tMh21j8OLbKd76fWP2q8dJMYBNY/YOXQItv51j+4HoXrUbjWPxKDwMqhRdY/vHSTGARW1j8RWDm0yHbWP1g5tMh2vtc/oUW28/3U2D9aZDvfT43XPwaBlUOLbNc/DQIrhxbZ1j9kO99PjZfWP7gehetRuNY/CtejcD0K1z8RWDm0yHbWP2ZmZmZmZtY/ZmZmZmZm1j8NAiuHFtnWP8ZLN4lBYNU/wMqhRbbz1T8YBFYOLbLVP9Ei2/l+atQ/2/l+arx00z/jpZvEILDSP99PjZduEtM/iUFg5dAi0z81XrpJDALTPz0K16NwPdI/76fGSzeJ0T+cxCCwcmjRP/LSTWIQWNE/RIts5/up0T9BYOXQItvRP4/C9Shcj9I/PN9PjZdu0j8830+Nl27SP42XbhKDwNI/7FG4HoXr0T9BYOXQItvRP/T91HjpJtE/",
          "dtype": "f8"
         },
         "yaxis": "y"
        },
        {
         "hovertemplate": "Country=United States<br>Year=%{x}<br>GINI Index=%{y}<extra></extra>",
         "legendgroup": "United States",
         "line": {
          "color": "#FFA15A",
          "dash": "solid"
         },
         "marker": {
          "symbol": "circle"
         },
         "mode": "lines+markers",
         "name": "United States",
         "orientation": "v",
         "showlegend": true,
         "type": "scatter",
         "x": {
          "bdata": "5gflB+QH4wfiB+EH4AffB94H3QfcB9sH2gfZB9gH1wfWB9UH1AfTB9IH0QfQB88HzgfNB8wHywfKB8kHyAfHB8YHxQfEB8MHwgfBB8AHvwe+B70HvAe7B7oHuQe4B7cHtge1B7QHsweyB7EHsAevB64HrQesB6sH",
          "dtype": "i2"
         },
         "xaxis": "x",
         "y": {
          "bdata": "O99PjZdu2j+cxCCwcmjZP5zEILByaNk/j8L1KFyP2j/l0CLb+X7aP5LtfD81Xto/6Pup8dJN2j+S7Xw/NV7aP4/C9Shcj9o/lkOLbOf72T+TGARWDi3aP5MYBFYOLdo/mpmZmZmZ2T+WQ4ts5/vZP+kmMQisHNo/6SYxCKwc2j/l0CLb+X7aPz0K16NwPdo/l24Sg8DK2T/pJjEIrBzaP0Fg5dAi29k/lkOLbOf72T9Ei2zn+6nZP5qZmZmZmdk/mpmZmZmZ2T/sUbgehevZP5duEoPAytk/76fGSzeJ2T+amZmZmZnZP0Fg5dAi29k/+n5qvHST2D9SuB6F61HYP0+Nl24Sg9g/ppvEILBy2D9U46WbxCDYPwMrhxbZztc/qvHSTWIQ2D+q8dJNYhDYP6wcWmQ739c/rBxaZDvf1z+xcmiR7XzXP7gehetRuNY/aZHtfD811j8Sg8DKoUXWPxKDwMqhRdY/uB6F61G41j9jEFg5tMjWP2MQWDm0yNY/uB6F61G41j+0yHa+nxrXP7FyaJHtfNc/BFYOLbKd1z8GgZVDi2zXPwrXo3A9Ctc/CKwcWmQ71z8EVg4tsp3XP/3UeOkmMdg/AAAAAAAA2D/8qfHSTWLYP6rx0k1iENg/",
          "dtype": "f8"
         },
         "yaxis": "y"
        }
       ],
       "layout": {
        "legend": {
         "title": {
          "text": "Country"
         },
         "tracegroupgap": 0
        },
        "template": {
         "data": {
          "bar": [
           {
            "error_x": {
             "color": "#2a3f5f"
            },
            "error_y": {
             "color": "#2a3f5f"
            },
            "marker": {
             "line": {
              "color": "white",
              "width": 0.5
             },
             "pattern": {
              "fillmode": "overlay",
              "size": 10,
              "solidity": 0.2
             }
            },
            "type": "bar"
           }
          ],
          "barpolar": [
           {
            "marker": {
             "line": {
              "color": "white",
              "width": 0.5
             },
             "pattern": {
              "fillmode": "overlay",
              "size": 10,
              "solidity": 0.2
             }
            },
            "type": "barpolar"
           }
          ],
          "carpet": [
           {
            "aaxis": {
             "endlinecolor": "#2a3f5f",
             "gridcolor": "#C8D4E3",
             "linecolor": "#C8D4E3",
             "minorgridcolor": "#C8D4E3",
             "startlinecolor": "#2a3f5f"
            },
            "baxis": {
             "endlinecolor": "#2a3f5f",
             "gridcolor": "#C8D4E3",
             "linecolor": "#C8D4E3",
             "minorgridcolor": "#C8D4E3",
             "startlinecolor": "#2a3f5f"
            },
            "type": "carpet"
           }
          ],
          "choropleth": [
           {
            "colorbar": {
             "outlinewidth": 0,
             "ticks": ""
            },
            "type": "choropleth"
           }
          ],
          "contour": [
           {
            "colorbar": {
             "outlinewidth": 0,
             "ticks": ""
            },
            "colorscale": [
             [
              0,
              "#0d0887"
             ],
             [
              0.1111111111111111,
              "#46039f"
             ],
             [
              0.2222222222222222,
              "#7201a8"
             ],
             [
              0.3333333333333333,
              "#9c179e"
             ],
             [
              0.4444444444444444,
              "#bd3786"
             ],
             [
              0.5555555555555556,
              "#d8576b"
             ],
             [
              0.6666666666666666,
              "#ed7953"
             ],
             [
              0.7777777777777778,
              "#fb9f3a"
             ],
             [
              0.8888888888888888,
              "#fdca26"
             ],
             [
              1,
              "#f0f921"
             ]
            ],
            "type": "contour"
           }
          ],
          "contourcarpet": [
           {
            "colorbar": {
             "outlinewidth": 0,
             "ticks": ""
            },
            "type": "contourcarpet"
           }
          ],
          "heatmap": [
           {
            "colorbar": {
             "outlinewidth": 0,
             "ticks": ""
            },
            "colorscale": [
             [
              0,
              "#0d0887"
             ],
             [
              0.1111111111111111,
              "#46039f"
             ],
             [
              0.2222222222222222,
              "#7201a8"
             ],
             [
              0.3333333333333333,
              "#9c179e"
             ],
             [
              0.4444444444444444,
              "#bd3786"
             ],
             [
              0.5555555555555556,
              "#d8576b"
             ],
             [
              0.6666666666666666,
              "#ed7953"
             ],
             [
              0.7777777777777778,
              "#fb9f3a"
             ],
             [
              0.8888888888888888,
              "#fdca26"
             ],
             [
              1,
              "#f0f921"
             ]
            ],
            "type": "heatmap"
           }
          ],
          "histogram": [
           {
            "marker": {
             "pattern": {
              "fillmode": "overlay",
              "size": 10,
              "solidity": 0.2
             }
            },
            "type": "histogram"
           }
          ],
          "histogram2d": [
           {
            "colorbar": {
             "outlinewidth": 0,
             "ticks": ""
            },
            "colorscale": [
             [
              0,
              "#0d0887"
             ],
             [
              0.1111111111111111,
              "#46039f"
             ],
             [
              0.2222222222222222,
              "#7201a8"
             ],
             [
              0.3333333333333333,
              "#9c179e"
             ],
             [
              0.4444444444444444,
              "#bd3786"
             ],
             [
              0.5555555555555556,
              "#d8576b"
             ],
             [
              0.6666666666666666,
              "#ed7953"
             ],
             [
              0.7777777777777778,
              "#fb9f3a"
             ],
             [
              0.8888888888888888,
              "#fdca26"
             ],
             [
              1,
              "#f0f921"
             ]
            ],
            "type": "histogram2d"
           }
          ],
          "histogram2dcontour": [
           {
            "colorbar": {
             "outlinewidth": 0,
             "ticks": ""
            },
            "colorscale": [
             [
              0,
              "#0d0887"
             ],
             [
              0.1111111111111111,
              "#46039f"
             ],
             [
              0.2222222222222222,
              "#7201a8"
             ],
             [
              0.3333333333333333,
              "#9c179e"
             ],
             [
              0.4444444444444444,
              "#bd3786"
             ],
             [
              0.5555555555555556,
              "#d8576b"
             ],
             [
              0.6666666666666666,
              "#ed7953"
             ],
             [
              0.7777777777777778,
              "#fb9f3a"
             ],
             [
              0.8888888888888888,
              "#fdca26"
             ],
             [
              1,
              "#f0f921"
             ]
            ],
            "type": "histogram2dcontour"
           }
          ],
          "mesh3d": [
           {
            "colorbar": {
             "outlinewidth": 0,
             "ticks": ""
            },
            "type": "mesh3d"
           }
          ],
          "parcoords": [
           {
            "line": {
             "colorbar": {
              "outlinewidth": 0,
              "ticks": ""
             }
            },
            "type": "parcoords"
           }
          ],
          "pie": [
           {
            "automargin": true,
            "type": "pie"
           }
          ],
          "scatter": [
           {
            "fillpattern": {
             "fillmode": "overlay",
             "size": 10,
             "solidity": 0.2
            },
            "type": "scatter"
           }
          ],
          "scatter3d": [
           {
            "line": {
             "colorbar": {
              "outlinewidth": 0,
              "ticks": ""
             }
            },
            "marker": {
             "colorbar": {
              "outlinewidth": 0,
              "ticks": ""
             }
            },
            "type": "scatter3d"
           }
          ],
          "scattercarpet": [
           {
            "marker": {
             "colorbar": {
              "outlinewidth": 0,
              "ticks": ""
             }
            },
            "type": "scattercarpet"
           }
          ],
          "scattergeo": [
           {
            "marker": {
             "colorbar": {
              "outlinewidth": 0,
              "ticks": ""
             }
            },
            "type": "scattergeo"
           }
          ],
          "scattergl": [
           {
            "marker": {
             "colorbar": {
              "outlinewidth": 0,
              "ticks": ""
             }
            },
            "type": "scattergl"
           }
          ],
          "scattermap": [
           {
            "marker": {
             "colorbar": {
              "outlinewidth": 0,
              "ticks": ""
             }
            },
            "type": "scattermap"
           }
          ],
          "scattermapbox": [
           {
            "marker": {
             "colorbar": {
              "outlinewidth": 0,
              "ticks": ""
             }
            },
            "type": "scattermapbox"
           }
          ],
          "scatterpolar": [
           {
            "marker": {
             "colorbar": {
              "outlinewidth": 0,
              "ticks": ""
             }
            },
            "type": "scatterpolar"
           }
          ],
          "scatterpolargl": [
           {
            "marker": {
             "colorbar": {
              "outlinewidth": 0,
              "ticks": ""
             }
            },
            "type": "scatterpolargl"
           }
          ],
          "scatterternary": [
           {
            "marker": {
             "colorbar": {
              "outlinewidth": 0,
              "ticks": ""
             }
            },
            "type": "scatterternary"
           }
          ],
          "surface": [
           {
            "colorbar": {
             "outlinewidth": 0,
             "ticks": ""
            },
            "colorscale": [
             [
              0,
              "#0d0887"
             ],
             [
              0.1111111111111111,
              "#46039f"
             ],
             [
              0.2222222222222222,
              "#7201a8"
             ],
             [
              0.3333333333333333,
              "#9c179e"
             ],
             [
              0.4444444444444444,
              "#bd3786"
             ],
             [
              0.5555555555555556,
              "#d8576b"
             ],
             [
              0.6666666666666666,
              "#ed7953"
             ],
             [
              0.7777777777777778,
              "#fb9f3a"
             ],
             [
              0.8888888888888888,
              "#fdca26"
             ],
             [
              1,
              "#f0f921"
             ]
            ],
            "type": "surface"
           }
          ],
          "table": [
           {
            "cells": {
             "fill": {
              "color": "#EBF0F8"
             },
             "line": {
              "color": "white"
             }
            },
            "header": {
             "fill": {
              "color": "#C8D4E3"
             },
             "line": {
              "color": "white"
             }
            },
            "type": "table"
           }
          ]
         },
         "layout": {
          "annotationdefaults": {
           "arrowcolor": "#2a3f5f",
           "arrowhead": 0,
           "arrowwidth": 1
          },
          "autotypenumbers": "strict",
          "coloraxis": {
           "colorbar": {
            "outlinewidth": 0,
            "ticks": ""
           }
          },
          "colorscale": {
           "diverging": [
            [
             0,
             "#8e0152"
            ],
            [
             0.1,
             "#c51b7d"
            ],
            [
             0.2,
             "#de77ae"
            ],
            [
             0.3,
             "#f1b6da"
            ],
            [
             0.4,
             "#fde0ef"
            ],
            [
             0.5,
             "#f7f7f7"
            ],
            [
             0.6,
             "#e6f5d0"
            ],
            [
             0.7,
             "#b8e186"
            ],
            [
             0.8,
             "#7fbc41"
            ],
            [
             0.9,
             "#4d9221"
            ],
            [
             1,
             "#276419"
            ]
           ],
           "sequential": [
            [
             0,
             "#0d0887"
            ],
            [
             0.1111111111111111,
             "#46039f"
            ],
            [
             0.2222222222222222,
             "#7201a8"
            ],
            [
             0.3333333333333333,
             "#9c179e"
            ],
            [
             0.4444444444444444,
             "#bd3786"
            ],
            [
             0.5555555555555556,
             "#d8576b"
            ],
            [
             0.6666666666666666,
             "#ed7953"
            ],
            [
             0.7777777777777778,
             "#fb9f3a"
            ],
            [
             0.8888888888888888,
             "#fdca26"
            ],
            [
             1,
             "#f0f921"
            ]
           ],
           "sequentialminus": [
            [
             0,
             "#0d0887"
            ],
            [
             0.1111111111111111,
             "#46039f"
            ],
            [
             0.2222222222222222,
             "#7201a8"
            ],
            [
             0.3333333333333333,
             "#9c179e"
            ],
            [
             0.4444444444444444,
             "#bd3786"
            ],
            [
             0.5555555555555556,
             "#d8576b"
            ],
            [
             0.6666666666666666,
             "#ed7953"
            ],
            [
             0.7777777777777778,
             "#fb9f3a"
            ],
            [
             0.8888888888888888,
             "#fdca26"
            ],
            [
             1,
             "#f0f921"
            ]
           ]
          },
          "colorway": [
           "#636efa",
           "#EF553B",
           "#00cc96",
           "#ab63fa",
           "#FFA15A",
           "#19d3f3",
           "#FF6692",
           "#B6E880",
           "#FF97FF",
           "#FECB52"
          ],
          "font": {
           "color": "#2a3f5f"
          },
          "geo": {
           "bgcolor": "white",
           "lakecolor": "white",
           "landcolor": "white",
           "showlakes": true,
           "showland": true,
           "subunitcolor": "#C8D4E3"
          },
          "hoverlabel": {
           "align": "left"
          },
          "hovermode": "closest",
          "mapbox": {
           "style": "light"
          },
          "paper_bgcolor": "white",
          "plot_bgcolor": "white",
          "polar": {
           "angularaxis": {
            "gridcolor": "#EBF0F8",
            "linecolor": "#EBF0F8",
            "ticks": ""
           },
           "bgcolor": "white",
           "radialaxis": {
            "gridcolor": "#EBF0F8",
            "linecolor": "#EBF0F8",
            "ticks": ""
           }
          },
          "scene": {
           "xaxis": {
            "backgroundcolor": "white",
            "gridcolor": "#DFE8F3",
            "gridwidth": 2,
            "linecolor": "#EBF0F8",
            "showbackground": true,
            "ticks": "",
            "zerolinecolor": "#EBF0F8"
           },
           "yaxis": {
            "backgroundcolor": "white",
            "gridcolor": "#DFE8F3",
            "gridwidth": 2,
            "linecolor": "#EBF0F8",
            "showbackground": true,
            "ticks": "",
            "zerolinecolor": "#EBF0F8"
           },
           "zaxis": {
            "backgroundcolor": "white",
            "gridcolor": "#DFE8F3",
            "gridwidth": 2,
            "linecolor": "#EBF0F8",
            "showbackground": true,
            "ticks": "",
            "zerolinecolor": "#EBF0F8"
           }
          },
          "shapedefaults": {
           "line": {
            "color": "#2a3f5f"
           }
          },
          "ternary": {
           "aaxis": {
            "gridcolor": "#DFE8F3",
            "linecolor": "#A2B1C6",
            "ticks": ""
           },
           "baxis": {
            "gridcolor": "#DFE8F3",
            "linecolor": "#A2B1C6",
            "ticks": ""
           },
           "bgcolor": "white",
           "caxis": {
            "gridcolor": "#DFE8F3",
            "linecolor": "#A2B1C6",
            "ticks": ""
           }
          },
          "title": {
           "x": 0.05
          },
          "xaxis": {
           "automargin": true,
           "gridcolor": "#EBF0F8",
           "linecolor": "#EBF0F8",
           "ticks": "",
           "title": {
            "standoff": 15
           },
           "zerolinecolor": "#EBF0F8",
           "zerolinewidth": 2
          },
          "yaxis": {
           "automargin": true,
           "gridcolor": "#EBF0F8",
           "linecolor": "#EBF0F8",
           "ticks": "",
           "title": {
            "standoff": 15
           },
           "zerolinecolor": "#EBF0F8",
           "zerolinewidth": 2
          }
         }
        },
        "title": {
         "text": "GINI Index Over Time by Country"
        },
        "xaxis": {
         "anchor": "y",
         "domain": [
          0,
          1
         ],
         "dtick": 1,
         "tickmode": "linear",
         "title": {
          "text": "Year"
         }
        },
        "yaxis": {
         "anchor": "x",
         "domain": [
          0,
          1
         ],
         "title": {
          "text": "GINI Index"
         }
        }
       }
      }
     },
     "metadata": {},
     "output_type": "display_data"
    }
   ],
   "source": [
    "fig = px.line(\n",
    "    df_clean,\n",
    "    x=\"date\",\n",
    "    y=\"value\",\n",
    "    color=\"country\",\n",
    "    markers=True,\n",
    "    title=\"GINI Index Over Time by Country\",\n",
    "    labels={\"value\": \"GINI Index\", \"date\": \"Year\", \"country\": \"Country\"}\n",
    ")\n",
    "\n",
    "fig.update_layout(\n",
    "    xaxis=dict(tickmode='linear', dtick=1), \n",
    "    yaxis_title=\"GINI Index\",\n",
    "    legend_title=\"Country\",\n",
    "    template=\"plotly_white\"\n",
    ")\n",
    "\n",
    "fig.show()"
   ]
  },
  {
   "cell_type": "code",
   "execution_count": null,
   "id": "829e063c",
   "metadata": {},
   "outputs": [],
   "source": []
  }
 ],
 "metadata": {
  "kernelspec": {
   "display_name": "doc-env",
   "language": "python",
   "name": "python3"
  },
  "language_info": {
   "codemirror_mode": {
    "name": "ipython",
    "version": 3
   },
   "file_extension": ".py",
   "mimetype": "text/x-python",
   "name": "python",
   "nbconvert_exporter": "python",
   "pygments_lexer": "ipython3",
   "version": "3.12.9"
  }
 },
 "nbformat": 4,
 "nbformat_minor": 5
}
