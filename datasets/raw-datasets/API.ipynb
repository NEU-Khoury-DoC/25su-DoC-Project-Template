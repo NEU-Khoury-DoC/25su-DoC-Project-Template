{
 "cells": [
  {
   "cell_type": "code",
   "execution_count": 2,
   "id": "6618decf-0a98-4b18-943a-c8a5a00c1bd8",
   "metadata": {},
   "outputs": [],
   "source": [
    "import requests\n",
    "import json\n",
    "import pandas as pd"
   ]
  },
  {
   "cell_type": "code",
   "execution_count": null,
   "id": "6a3cc71e",
   "metadata": {},
   "outputs": [
    {
     "name": "stdout",
     "output_type": "stream",
     "text": [
      "   time      geo  decision                  age      sex  citizen    unit  \\\n",
      "0  2022  Austria  Rejected  From 14 to 17 years  Females  Andorra  Person   \n",
      "1  2023  Austria  Rejected  From 14 to 17 years  Females  Andorra  Person   \n",
      "2  2024  Austria  Rejected  From 14 to 17 years  Females  Andorra  Person   \n",
      "3  2022  Belgium  Rejected  From 14 to 17 years  Females  Andorra  Person   \n",
      "4  2023  Belgium  Rejected  From 14 to 17 years  Females  Andorra  Person   \n",
      "\n",
      "     freq  value  \n",
      "0  Annual      0  \n",
      "1  Annual      0  \n",
      "2  Annual      0  \n",
      "3  Annual      0  \n",
      "4  Annual      0  \n",
      "\n",
      "DataFrame shape: (401544, 9)\n",
      "\n",
      "Columns: ['time', 'geo', 'decision', 'age', 'sex', 'citizen', 'unit', 'freq', 'value']\n",
      "\n",
      "Value types: value\n",
      "<class 'int'>    401544\n",
      "Name: count, dtype: int64\n"
     ]
    }
   ],
   "source": [
    "url = \"https://ec.europa.eu/eurostat/api/dissemination/statistics/1.0/data/migr_asydcfsta?format=JSON&time=2022&time=2023&time=2024&unit=PER&citizen=LI&citizen=UK_OCT&citizen=BA&citizen=ME&citizen=MD&citizen=MK&citizen=GE&citizen=AL&citizen=RS&citizen=TR&citizen=UA&citizen=XK&citizen=AD&citizen=BY&citizen=VA&citizen=RU&citizen=SM&citizen=AO&citizen=CM&citizen=CF&citizen=TD&citizen=CG&citizen=CD&citizen=GQ&citizen=GA&citizen=ST&citizen=BI&citizen=KM&citizen=DJ&citizen=ER&citizen=ET&citizen=KE&citizen=MG&citizen=MW&citizen=MU&citizen=MZ&citizen=RW&citizen=SC&citizen=SO&citizen=UG&citizen=TZ&citizen=ZM&citizen=ZW&citizen=DZ&citizen=EG&citizen=LY&citizen=MA&citizen=SS&citizen=SD&citizen=TN&citizen=EH&citizen=BW&citizen=LS&citizen=NA&citizen=ZA&citizen=SZ&citizen=BJ&citizen=BF&citizen=CV&citizen=CI&citizen=GM&citizen=GH&citizen=GN&citizen=GW&citizen=LR&citizen=ML&citizen=MR&citizen=NE&citizen=NG&citizen=SN&citizen=SL&citizen=TG&citizen=AG&citizen=BS&citizen=BB&citizen=CU&citizen=DM&citizen=DO&citizen=GD&citizen=HT&citizen=JM&citizen=KN&citizen=LC&citizen=VC&citizen=TT&citizen=BZ&citizen=CR&citizen=SV&citizen=GT&citizen=HN&citizen=MX&citizen=NI&citizen=PA&citizen=AR&citizen=BO&citizen=BR&citizen=CL&citizen=CO&citizen=EC&citizen=GY&citizen=PY&citizen=PE&citizen=SR&citizen=UY&citizen=VE&citizen=KZ&citizen=KG&citizen=TJ&citizen=TM&citizen=UZ&citizen=CN&citizen=JP&citizen=MN&citizen=KP&citizen=KR&citizen=TW&citizen=AF&citizen=BD&citizen=BT&citizen=IN&citizen=IR&citizen=MV&citizen=NP&citizen=PK&citizen=LK&citizen=BN&citizen=KH&citizen=ID&citizen=LA&citizen=MY&citizen=MM&citizen=PH&citizen=SG&citizen=TH&citizen=TL&citizen=VN&citizen=AM&citizen=AZ&citizen=BH&citizen=IQ&citizen=IL&citizen=JO&citizen=KW&citizen=LB&citizen=PS&citizen=OM&citizen=QA&citizen=SA&citizen=SY&citizen=AE&citizen=YE&citizen=AU&citizen=NZ&citizen=FJ&citizen=PG&citizen=SB&citizen=VU&citizen=KI&citizen=MH&citizen=FM&citizen=NR&citizen=PW&citizen=CK&citizen=WS&citizen=TO&citizen=TV&citizen=RNC&citizen=STLS&citizen=UNK&sex=M&sex=F&age=Y_LT14&age=Y14-17&age=Y_LT18&age=Y18-34&age=Y35-64&age=Y_GE65&decision=TOTAL_POS&decision=REJECTED&lang=en\"\n",
    "response = requests.get(url)\n",
    "data = response.json()\n",
    "\n",
    "dimensions = data['dimension']\n",
    "values = data['value']\n",
    "\n",
    "\n",
    "rows = []\n",
    "\n",
    "\n",
    "dim_names = list(dimensions.keys())\n",
    "\n",
    "\n",
    "for index, value in values.items():\n",
    "    row = {}\n",
    "    \n",
    "\n",
    "    idx = int(index)\n",
    "    \n",
    "\n",
    "    temp_idx = idx\n",
    "    for dim_name in reversed(dim_names):\n",
    "        dim_size = len(dimensions[dim_name]['category']['index'])\n",
    "        dim_idx = temp_idx % dim_size\n",
    "        temp_idx = temp_idx // dim_size\n",
    "        \n",
    "  \n",
    "        dim_keys = list(dimensions[dim_name]['category']['index'].keys())\n",
    "        category_key = dim_keys[dim_idx]\n",
    "        \n",
    "      \n",
    "        if 'label' in dimensions[dim_name]['category']:\n",
    "            row[dim_name] = dimensions[dim_name]['category']['label'].get(category_key, category_key)\n",
    "        else:\n",
    "            row[dim_name] = category_key\n",
    "    \n",
    "  \n",
    "    row['value'] = value\n",
    "    rows.append(row)\n",
    "\n",
    "\n",
    "df = pd.DataFrame(rows)\n",
    "print(df.head())\n",
    "print(f\"\\nDataFrame shape: {df.shape}\")\n",
    "print(f\"\\nColumns: {df.columns.tolist()}\")\n",
    "print(f\"\\nValue types: {df['value'].apply(type).value_counts()}\")"
   ]
  },
  {
   "cell_type": "code",
   "execution_count": 5,
   "id": "9815ef94",
   "metadata": {},
   "outputs": [
    {
     "name": "stdout",
     "output_type": "stream",
     "text": [
      "Decision types: ['Rejected' 'Total positive decisions']\n"
     ]
    }
   ],
   "source": [
    "print(\"Decision types:\", df['decision'].unique())"
   ]
  },
  {
   "cell_type": "code",
   "execution_count": 6,
   "id": "5c348cc9",
   "metadata": {},
   "outputs": [
    {
     "data": {
      "text/html": [
       "<div>\n",
       "<style scoped>\n",
       "    .dataframe tbody tr th:only-of-type {\n",
       "        vertical-align: middle;\n",
       "    }\n",
       "\n",
       "    .dataframe tbody tr th {\n",
       "        vertical-align: top;\n",
       "    }\n",
       "\n",
       "    .dataframe thead th {\n",
       "        text-align: right;\n",
       "    }\n",
       "</style>\n",
       "<table border=\"1\" class=\"dataframe\">\n",
       "  <thead>\n",
       "    <tr style=\"text-align: right;\">\n",
       "      <th></th>\n",
       "      <th>time</th>\n",
       "      <th>geo</th>\n",
       "      <th>decision</th>\n",
       "      <th>age</th>\n",
       "      <th>sex</th>\n",
       "      <th>citizen</th>\n",
       "      <th>value</th>\n",
       "    </tr>\n",
       "  </thead>\n",
       "  <tbody>\n",
       "    <tr>\n",
       "      <th>0</th>\n",
       "      <td>2022</td>\n",
       "      <td>Austria</td>\n",
       "      <td>Rejected</td>\n",
       "      <td>From 14 to 17 years</td>\n",
       "      <td>Females</td>\n",
       "      <td>Andorra</td>\n",
       "      <td>0</td>\n",
       "    </tr>\n",
       "    <tr>\n",
       "      <th>1</th>\n",
       "      <td>2023</td>\n",
       "      <td>Austria</td>\n",
       "      <td>Rejected</td>\n",
       "      <td>From 14 to 17 years</td>\n",
       "      <td>Females</td>\n",
       "      <td>Andorra</td>\n",
       "      <td>0</td>\n",
       "    </tr>\n",
       "    <tr>\n",
       "      <th>2</th>\n",
       "      <td>2024</td>\n",
       "      <td>Austria</td>\n",
       "      <td>Rejected</td>\n",
       "      <td>From 14 to 17 years</td>\n",
       "      <td>Females</td>\n",
       "      <td>Andorra</td>\n",
       "      <td>0</td>\n",
       "    </tr>\n",
       "    <tr>\n",
       "      <th>3</th>\n",
       "      <td>2022</td>\n",
       "      <td>Belgium</td>\n",
       "      <td>Rejected</td>\n",
       "      <td>From 14 to 17 years</td>\n",
       "      <td>Females</td>\n",
       "      <td>Andorra</td>\n",
       "      <td>0</td>\n",
       "    </tr>\n",
       "    <tr>\n",
       "      <th>4</th>\n",
       "      <td>2023</td>\n",
       "      <td>Belgium</td>\n",
       "      <td>Rejected</td>\n",
       "      <td>From 14 to 17 years</td>\n",
       "      <td>Females</td>\n",
       "      <td>Andorra</td>\n",
       "      <td>0</td>\n",
       "    </tr>\n",
       "  </tbody>\n",
       "</table>\n",
       "</div>"
      ],
      "text/plain": [
       "   time      geo  decision                  age      sex  citizen  value\n",
       "0  2022  Austria  Rejected  From 14 to 17 years  Females  Andorra      0\n",
       "1  2023  Austria  Rejected  From 14 to 17 years  Females  Andorra      0\n",
       "2  2024  Austria  Rejected  From 14 to 17 years  Females  Andorra      0\n",
       "3  2022  Belgium  Rejected  From 14 to 17 years  Females  Andorra      0\n",
       "4  2023  Belgium  Rejected  From 14 to 17 years  Females  Andorra      0"
      ]
     },
     "execution_count": 6,
     "metadata": {},
     "output_type": "execute_result"
    }
   ],
   "source": [
    "asylum_drop = df.drop([\"unit\",\"freq\"], axis =1 )\n",
    "asylum_drop.head()\n"
   ]
  },
  {
   "cell_type": "code",
   "execution_count": 7,
   "id": "27500961",
   "metadata": {},
   "outputs": [
    {
     "name": "stdout",
     "output_type": "stream",
     "text": [
      "<class 'pandas.core.frame.DataFrame'>\n",
      "RangeIndex: 401544 entries, 0 to 401543\n",
      "Data columns (total 7 columns):\n",
      " #   Column    Non-Null Count   Dtype \n",
      "---  ------    --------------   ----- \n",
      " 0   time      401544 non-null  object\n",
      " 1   geo       401544 non-null  object\n",
      " 2   decision  401544 non-null  object\n",
      " 3   age       401544 non-null  object\n",
      " 4   sex       401544 non-null  object\n",
      " 5   citizen   401544 non-null  object\n",
      " 6   value     401544 non-null  int64 \n",
      "dtypes: int64(1), object(6)\n",
      "memory usage: 21.4+ MB\n"
     ]
    }
   ],
   "source": [
    "asylum_drop.info()"
   ]
  },
  {
   "cell_type": "code",
   "execution_count": 8,
   "id": "71d15b21",
   "metadata": {},
   "outputs": [
    {
     "name": "stdout",
     "output_type": "stream",
     "text": [
      "        time       geo                  decision                  age  \\\n",
      "0       2022   Austria                  Rejected  From 14 to 17 years   \n",
      "1       2023   Austria                  Rejected  From 14 to 17 years   \n",
      "2       2024   Austria                  Rejected  From 14 to 17 years   \n",
      "3       2022   Belgium                  Rejected  From 14 to 17 years   \n",
      "4       2023   Belgium                  Rejected  From 14 to 17 years   \n",
      "...      ...       ...                       ...                  ...   \n",
      "401539  2023  Slovenia  Total positive decisions   Less than 18 years   \n",
      "401540  2024  Slovenia  Total positive decisions   Less than 18 years   \n",
      "401541  2022  Slovakia  Total positive decisions   Less than 18 years   \n",
      "401542  2023  Slovakia  Total positive decisions   Less than 18 years   \n",
      "401543  2024  Slovakia  Total positive decisions   Less than 18 years   \n",
      "\n",
      "            sex   citizen    unit    freq  value  \n",
      "0       Females   Andorra  Person  Annual      0  \n",
      "1       Females   Andorra  Person  Annual      0  \n",
      "2       Females   Andorra  Person  Annual      0  \n",
      "3       Females   Andorra  Person  Annual      0  \n",
      "4       Females   Andorra  Person  Annual      0  \n",
      "...         ...       ...     ...     ...    ...  \n",
      "401539    Males  Zimbabwe  Person  Annual      0  \n",
      "401540    Males  Zimbabwe  Person  Annual      0  \n",
      "401541    Males  Zimbabwe  Person  Annual      0  \n",
      "401542    Males  Zimbabwe  Person  Annual      0  \n",
      "401543    Males  Zimbabwe  Person  Annual      0  \n",
      "\n",
      "[401544 rows x 9 columns]\n"
     ]
    }
   ],
   "source": [
    "print(df)"
   ]
  }
 ],
 "metadata": {
  "kernelspec": {
   "display_name": "Python 3",
   "language": "python",
   "name": "python3"
  },
  "language_info": {
   "codemirror_mode": {
    "name": "ipython",
    "version": 3
   },
   "file_extension": ".py",
   "mimetype": "text/x-python",
   "name": "python",
   "nbconvert_exporter": "python",
   "pygments_lexer": "ipython3",
   "version": "3.13.3"
  }
 },
 "nbformat": 4,
 "nbformat_minor": 5
}
