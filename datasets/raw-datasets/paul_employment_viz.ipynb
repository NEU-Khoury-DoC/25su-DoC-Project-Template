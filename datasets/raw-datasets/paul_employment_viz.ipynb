{
 "cells": [
  {
   "cell_type": "code",
   "execution_count": 22,
   "id": "7a4ef6bb-b754-418a-8f8d-ce993da2c3b3",
   "metadata": {},
   "outputs": [
    {
     "data": {
      "application/vnd.plotly.v1+json": {
       "config": {
        "plotlyServerURL": "https://plot.ly"
       },
       "data": [
        {
         "marker": {
          "color": [
           "blue",
           "pink"
          ]
         },
         "name": "Austria",
         "type": "bar",
         "visible": false,
         "x": [
          "Male",
          "Female"
         ],
         "y": [
          39.1,
          31.2
         ]
        },
        {
         "marker": {
          "color": [
           "blue",
           "pink"
          ]
         },
         "name": "Belgium",
         "type": "bar",
         "visible": false,
         "x": [
          "Male",
          "Female"
         ],
         "y": [
          38.7,
          33.1
         ]
        },
        {
         "marker": {
          "color": [
           "blue",
           "pink"
          ]
         },
         "name": "Bosnia and Herzegovina",
         "type": "bar",
         "visible": false,
         "x": [
          "Male",
          "Female"
         ],
         "y": [
          41.9,
          41.3
         ]
        },
        {
         "marker": {
          "color": [
           "blue",
           "pink"
          ]
         },
         "name": "Bulgaria",
         "type": "bar",
         "visible": false,
         "x": [
          "Male",
          "Female"
         ],
         "y": [
          40,
          39.8
         ]
        },
        {
         "marker": {
          "color": [
           "blue",
           "pink"
          ]
         },
         "name": "Croatia",
         "type": "bar",
         "visible": true,
         "x": [
          "Male",
          "Female"
         ],
         "y": [
          39.9,
          39
         ]
        },
        {
         "marker": {
          "color": [
           "blue",
           "pink"
          ]
         },
         "name": "Cyprus",
         "type": "bar",
         "visible": false,
         "x": [
          "Male",
          "Female"
         ],
         "y": [
          41,
          38.1
         ]
        },
        {
         "marker": {
          "color": [
           "blue",
           "pink"
          ]
         },
         "name": "Czechia",
         "type": "bar",
         "visible": false,
         "x": [
          "Male",
          "Female"
         ],
         "y": [
          40.3,
          37.5
         ]
        },
        {
         "marker": {
          "color": [
           "blue",
           "pink"
          ]
         },
         "name": "Denmark",
         "type": "bar",
         "visible": false,
         "x": [
          "Male",
          "Female"
         ],
         "y": [
          35.1,
          30.9
         ]
        },
        {
         "marker": {
          "color": [
           "blue",
           "pink"
          ]
         },
         "name": "Estonia",
         "type": "bar",
         "visible": false,
         "x": [
          "Male",
          "Female"
         ],
         "y": [
          38.5,
          36.2
         ]
        },
        {
         "marker": {
          "color": [
           "blue",
           "pink"
          ]
         },
         "name": "Euro area – 20 countries (from 2023)",
         "type": "bar",
         "visible": false,
         "x": [
          "Male",
          "Female"
         ],
         "y": [
          38.8,
          33.1
         ]
        },
        {
         "marker": {
          "color": [
           "blue",
           "pink"
          ]
         },
         "name": "European Union - 27 countries (from 2020)",
         "type": "bar",
         "visible": false,
         "x": [
          "Male",
          "Female"
         ],
         "y": [
          39,
          34.1
         ]
        },
        {
         "marker": {
          "color": [
           "blue",
           "pink"
          ]
         },
         "name": "Finland",
         "type": "bar",
         "visible": false,
         "x": [
          "Male",
          "Female"
         ],
         "y": [
          36.8,
          33.7
         ]
        },
        {
         "marker": {
          "color": [
           "blue",
           "pink"
          ]
         },
         "name": "France",
         "type": "bar",
         "visible": false,
         "x": [
          "Male",
          "Female"
         ],
         "y": [
          39.1,
          34.6
         ]
        },
        {
         "marker": {
          "color": [
           "blue",
           "pink"
          ]
         },
         "name": "Germany",
         "type": "bar",
         "visible": false,
         "x": [
          "Male",
          "Female"
         ],
         "y": [
          37.6,
          30.3
         ]
        },
        {
         "marker": {
          "color": [
           "blue",
           "pink"
          ]
         },
         "name": "Greece",
         "type": "bar",
         "visible": false,
         "x": [
          "Male",
          "Female"
         ],
         "y": [
          43,
          38.5
         ]
        },
        {
         "marker": {
          "color": [
           "blue",
           "pink"
          ]
         },
         "name": "Hungary",
         "type": "bar",
         "visible": false,
         "x": [
          "Male",
          "Female"
         ],
         "y": [
          39.8,
          38.7
         ]
        },
        {
         "marker": {
          "color": [
           "blue",
           "pink"
          ]
         },
         "name": "Iceland",
         "type": "bar",
         "visible": false,
         "x": [
          "Male",
          "Female"
         ],
         "y": [
          40.8,
          34.3
         ]
        },
        {
         "marker": {
          "color": [
           "blue",
           "pink"
          ]
         },
         "name": "Ireland",
         "type": "bar",
         "visible": false,
         "x": [
          "Male",
          "Female"
         ],
         "y": [
          38.4,
          32.2
         ]
        },
        {
         "marker": {
          "color": [
           "blue",
           "pink"
          ]
         },
         "name": "Italy",
         "type": "bar",
         "visible": false,
         "x": [
          "Male",
          "Female"
         ],
         "y": [
          39.8,
          33.6
         ]
        },
        {
         "marker": {
          "color": [
           "blue",
           "pink"
          ]
         },
         "name": "Latvia",
         "type": "bar",
         "visible": false,
         "x": [
          "Male",
          "Female"
         ],
         "y": [
          39.1,
          37.9
         ]
        },
        {
         "marker": {
          "color": [
           "blue",
           "pink"
          ]
         },
         "name": "Lithuania",
         "type": "bar",
         "visible": false,
         "x": [
          "Male",
          "Female"
         ],
         "y": [
          39.4,
          38.4
         ]
        },
        {
         "marker": {
          "color": [
           "blue",
           "pink"
          ]
         },
         "name": "Luxembourg",
         "type": "bar",
         "visible": false,
         "x": [
          "Male",
          "Female"
         ],
         "y": [
          39.9,
          35.1
         ]
        },
        {
         "marker": {
          "color": [
           "blue",
           "pink"
          ]
         },
         "name": "Malta",
         "type": "bar",
         "visible": false,
         "x": [
          "Male",
          "Female"
         ],
         "y": [
          40.2,
          37
         ]
        },
        {
         "marker": {
          "color": [
           "blue",
           "pink"
          ]
         },
         "name": "Netherlands",
         "type": "bar",
         "visible": false,
         "x": [
          "Male",
          "Female"
         ],
         "y": [
          34.9,
          27
         ]
        },
        {
         "marker": {
          "color": [
           "blue",
           "pink"
          ]
         },
         "name": "Norway",
         "type": "bar",
         "visible": false,
         "x": [
          "Male",
          "Female"
         ],
         "y": [
          36.3,
          32
         ]
        },
        {
         "marker": {
          "color": [
           "blue",
           "pink"
          ]
         },
         "name": "Poland",
         "type": "bar",
         "visible": false,
         "x": [
          "Male",
          "Female"
         ],
         "y": [
          41,
          38.7
         ]
        },
        {
         "marker": {
          "color": [
           "blue",
           "pink"
          ]
         },
         "name": "Portugal",
         "type": "bar",
         "visible": false,
         "x": [
          "Male",
          "Female"
         ],
         "y": [
          41,
          38
         ]
        },
        {
         "marker": {
          "color": [
           "blue",
           "pink"
          ]
         },
         "name": "Romania",
         "type": "bar",
         "visible": false,
         "x": [
          "Male",
          "Female"
         ],
         "y": [
          40.2,
          39.7
         ]
        },
        {
         "marker": {
          "color": [
           "blue",
           "pink"
          ]
         },
         "name": "Serbia",
         "type": "bar",
         "visible": false,
         "x": [
          "Male",
          "Female"
         ],
         "y": [
          43,
          41.3
         ]
        },
        {
         "marker": {
          "color": [
           "blue",
           "pink"
          ]
         },
         "name": "Slovakia",
         "type": "bar",
         "visible": false,
         "x": [
          "Male",
          "Female"
         ],
         "y": [
          40.3,
          38.3
         ]
        },
        {
         "marker": {
          "color": [
           "blue",
           "pink"
          ]
         },
         "name": "Slovenia",
         "type": "bar",
         "visible": false,
         "x": [
          "Male",
          "Female"
         ],
         "y": [
          40,
          38.2
         ]
        },
        {
         "marker": {
          "color": [
           "blue",
           "pink"
          ]
         },
         "name": "Spain",
         "type": "bar",
         "visible": false,
         "x": [
          "Male",
          "Female"
         ],
         "y": [
          39.6,
          35.1
         ]
        },
        {
         "marker": {
          "color": [
           "blue",
           "pink"
          ]
         },
         "name": "Sweden",
         "type": "bar",
         "visible": false,
         "x": [
          "Male",
          "Female"
         ],
         "y": [
          38.8,
          36.3
         ]
        },
        {
         "marker": {
          "color": [
           "blue",
           "pink"
          ]
         },
         "name": "Switzerland",
         "type": "bar",
         "visible": false,
         "x": [
          "Male",
          "Female"
         ],
         "y": [
          39.4,
          30.5
         ]
        },
        {
         "marker": {
          "color": [
           "blue",
           "pink"
          ]
         },
         "name": "Türkiye",
         "type": "bar",
         "visible": false,
         "x": [
          "Male",
          "Female"
         ],
         "y": [
          45.6,
          40.6
         ]
        },
        {
         "marker": {
          "color": []
         },
         "name": "EU27_2020",
         "type": "bar",
         "visible": false,
         "x": [],
         "y": []
        }
       ],
       "layout": {
        "autosize": true,
        "template": {
         "data": {
          "bar": [
           {
            "error_x": {
             "color": "#2a3f5f"
            },
            "error_y": {
             "color": "#2a3f5f"
            },
            "marker": {
             "line": {
              "color": "#E5ECF6",
              "width": 0.5
             },
             "pattern": {
              "fillmode": "overlay",
              "size": 10,
              "solidity": 0.2
             }
            },
            "type": "bar"
           }
          ],
          "barpolar": [
           {
            "marker": {
             "line": {
              "color": "#E5ECF6",
              "width": 0.5
             },
             "pattern": {
              "fillmode": "overlay",
              "size": 10,
              "solidity": 0.2
             }
            },
            "type": "barpolar"
           }
          ],
          "carpet": [
           {
            "aaxis": {
             "endlinecolor": "#2a3f5f",
             "gridcolor": "white",
             "linecolor": "white",
             "minorgridcolor": "white",
             "startlinecolor": "#2a3f5f"
            },
            "baxis": {
             "endlinecolor": "#2a3f5f",
             "gridcolor": "white",
             "linecolor": "white",
             "minorgridcolor": "white",
             "startlinecolor": "#2a3f5f"
            },
            "type": "carpet"
           }
          ],
          "choropleth": [
           {
            "colorbar": {
             "outlinewidth": 0,
             "ticks": ""
            },
            "type": "choropleth"
           }
          ],
          "contour": [
           {
            "colorbar": {
             "outlinewidth": 0,
             "ticks": ""
            },
            "colorscale": [
             [
              0,
              "#0d0887"
             ],
             [
              0.1111111111111111,
              "#46039f"
             ],
             [
              0.2222222222222222,
              "#7201a8"
             ],
             [
              0.3333333333333333,
              "#9c179e"
             ],
             [
              0.4444444444444444,
              "#bd3786"
             ],
             [
              0.5555555555555556,
              "#d8576b"
             ],
             [
              0.6666666666666666,
              "#ed7953"
             ],
             [
              0.7777777777777778,
              "#fb9f3a"
             ],
             [
              0.8888888888888888,
              "#fdca26"
             ],
             [
              1,
              "#f0f921"
             ]
            ],
            "type": "contour"
           }
          ],
          "contourcarpet": [
           {
            "colorbar": {
             "outlinewidth": 0,
             "ticks": ""
            },
            "type": "contourcarpet"
           }
          ],
          "heatmap": [
           {
            "colorbar": {
             "outlinewidth": 0,
             "ticks": ""
            },
            "colorscale": [
             [
              0,
              "#0d0887"
             ],
             [
              0.1111111111111111,
              "#46039f"
             ],
             [
              0.2222222222222222,
              "#7201a8"
             ],
             [
              0.3333333333333333,
              "#9c179e"
             ],
             [
              0.4444444444444444,
              "#bd3786"
             ],
             [
              0.5555555555555556,
              "#d8576b"
             ],
             [
              0.6666666666666666,
              "#ed7953"
             ],
             [
              0.7777777777777778,
              "#fb9f3a"
             ],
             [
              0.8888888888888888,
              "#fdca26"
             ],
             [
              1,
              "#f0f921"
             ]
            ],
            "type": "heatmap"
           }
          ],
          "heatmapgl": [
           {
            "colorbar": {
             "outlinewidth": 0,
             "ticks": ""
            },
            "colorscale": [
             [
              0,
              "#0d0887"
             ],
             [
              0.1111111111111111,
              "#46039f"
             ],
             [
              0.2222222222222222,
              "#7201a8"
             ],
             [
              0.3333333333333333,
              "#9c179e"
             ],
             [
              0.4444444444444444,
              "#bd3786"
             ],
             [
              0.5555555555555556,
              "#d8576b"
             ],
             [
              0.6666666666666666,
              "#ed7953"
             ],
             [
              0.7777777777777778,
              "#fb9f3a"
             ],
             [
              0.8888888888888888,
              "#fdca26"
             ],
             [
              1,
              "#f0f921"
             ]
            ],
            "type": "heatmapgl"
           }
          ],
          "histogram": [
           {
            "marker": {
             "pattern": {
              "fillmode": "overlay",
              "size": 10,
              "solidity": 0.2
             }
            },
            "type": "histogram"
           }
          ],
          "histogram2d": [
           {
            "colorbar": {
             "outlinewidth": 0,
             "ticks": ""
            },
            "colorscale": [
             [
              0,
              "#0d0887"
             ],
             [
              0.1111111111111111,
              "#46039f"
             ],
             [
              0.2222222222222222,
              "#7201a8"
             ],
             [
              0.3333333333333333,
              "#9c179e"
             ],
             [
              0.4444444444444444,
              "#bd3786"
             ],
             [
              0.5555555555555556,
              "#d8576b"
             ],
             [
              0.6666666666666666,
              "#ed7953"
             ],
             [
              0.7777777777777778,
              "#fb9f3a"
             ],
             [
              0.8888888888888888,
              "#fdca26"
             ],
             [
              1,
              "#f0f921"
             ]
            ],
            "type": "histogram2d"
           }
          ],
          "histogram2dcontour": [
           {
            "colorbar": {
             "outlinewidth": 0,
             "ticks": ""
            },
            "colorscale": [
             [
              0,
              "#0d0887"
             ],
             [
              0.1111111111111111,
              "#46039f"
             ],
             [
              0.2222222222222222,
              "#7201a8"
             ],
             [
              0.3333333333333333,
              "#9c179e"
             ],
             [
              0.4444444444444444,
              "#bd3786"
             ],
             [
              0.5555555555555556,
              "#d8576b"
             ],
             [
              0.6666666666666666,
              "#ed7953"
             ],
             [
              0.7777777777777778,
              "#fb9f3a"
             ],
             [
              0.8888888888888888,
              "#fdca26"
             ],
             [
              1,
              "#f0f921"
             ]
            ],
            "type": "histogram2dcontour"
           }
          ],
          "mesh3d": [
           {
            "colorbar": {
             "outlinewidth": 0,
             "ticks": ""
            },
            "type": "mesh3d"
           }
          ],
          "parcoords": [
           {
            "line": {
             "colorbar": {
              "outlinewidth": 0,
              "ticks": ""
             }
            },
            "type": "parcoords"
           }
          ],
          "pie": [
           {
            "automargin": true,
            "type": "pie"
           }
          ],
          "scatter": [
           {
            "fillpattern": {
             "fillmode": "overlay",
             "size": 10,
             "solidity": 0.2
            },
            "type": "scatter"
           }
          ],
          "scatter3d": [
           {
            "line": {
             "colorbar": {
              "outlinewidth": 0,
              "ticks": ""
             }
            },
            "marker": {
             "colorbar": {
              "outlinewidth": 0,
              "ticks": ""
             }
            },
            "type": "scatter3d"
           }
          ],
          "scattercarpet": [
           {
            "marker": {
             "colorbar": {
              "outlinewidth": 0,
              "ticks": ""
             }
            },
            "type": "scattercarpet"
           }
          ],
          "scattergeo": [
           {
            "marker": {
             "colorbar": {
              "outlinewidth": 0,
              "ticks": ""
             }
            },
            "type": "scattergeo"
           }
          ],
          "scattergl": [
           {
            "marker": {
             "colorbar": {
              "outlinewidth": 0,
              "ticks": ""
             }
            },
            "type": "scattergl"
           }
          ],
          "scattermapbox": [
           {
            "marker": {
             "colorbar": {
              "outlinewidth": 0,
              "ticks": ""
             }
            },
            "type": "scattermapbox"
           }
          ],
          "scatterpolar": [
           {
            "marker": {
             "colorbar": {
              "outlinewidth": 0,
              "ticks": ""
             }
            },
            "type": "scatterpolar"
           }
          ],
          "scatterpolargl": [
           {
            "marker": {
             "colorbar": {
              "outlinewidth": 0,
              "ticks": ""
             }
            },
            "type": "scatterpolargl"
           }
          ],
          "scatterternary": [
           {
            "marker": {
             "colorbar": {
              "outlinewidth": 0,
              "ticks": ""
             }
            },
            "type": "scatterternary"
           }
          ],
          "surface": [
           {
            "colorbar": {
             "outlinewidth": 0,
             "ticks": ""
            },
            "colorscale": [
             [
              0,
              "#0d0887"
             ],
             [
              0.1111111111111111,
              "#46039f"
             ],
             [
              0.2222222222222222,
              "#7201a8"
             ],
             [
              0.3333333333333333,
              "#9c179e"
             ],
             [
              0.4444444444444444,
              "#bd3786"
             ],
             [
              0.5555555555555556,
              "#d8576b"
             ],
             [
              0.6666666666666666,
              "#ed7953"
             ],
             [
              0.7777777777777778,
              "#fb9f3a"
             ],
             [
              0.8888888888888888,
              "#fdca26"
             ],
             [
              1,
              "#f0f921"
             ]
            ],
            "type": "surface"
           }
          ],
          "table": [
           {
            "cells": {
             "fill": {
              "color": "#EBF0F8"
             },
             "line": {
              "color": "white"
             }
            },
            "header": {
             "fill": {
              "color": "#C8D4E3"
             },
             "line": {
              "color": "white"
             }
            },
            "type": "table"
           }
          ]
         },
         "layout": {
          "annotationdefaults": {
           "arrowcolor": "#2a3f5f",
           "arrowhead": 0,
           "arrowwidth": 1
          },
          "autotypenumbers": "strict",
          "coloraxis": {
           "colorbar": {
            "outlinewidth": 0,
            "ticks": ""
           }
          },
          "colorscale": {
           "diverging": [
            [
             0,
             "#8e0152"
            ],
            [
             0.1,
             "#c51b7d"
            ],
            [
             0.2,
             "#de77ae"
            ],
            [
             0.3,
             "#f1b6da"
            ],
            [
             0.4,
             "#fde0ef"
            ],
            [
             0.5,
             "#f7f7f7"
            ],
            [
             0.6,
             "#e6f5d0"
            ],
            [
             0.7,
             "#b8e186"
            ],
            [
             0.8,
             "#7fbc41"
            ],
            [
             0.9,
             "#4d9221"
            ],
            [
             1,
             "#276419"
            ]
           ],
           "sequential": [
            [
             0,
             "#0d0887"
            ],
            [
             0.1111111111111111,
             "#46039f"
            ],
            [
             0.2222222222222222,
             "#7201a8"
            ],
            [
             0.3333333333333333,
             "#9c179e"
            ],
            [
             0.4444444444444444,
             "#bd3786"
            ],
            [
             0.5555555555555556,
             "#d8576b"
            ],
            [
             0.6666666666666666,
             "#ed7953"
            ],
            [
             0.7777777777777778,
             "#fb9f3a"
            ],
            [
             0.8888888888888888,
             "#fdca26"
            ],
            [
             1,
             "#f0f921"
            ]
           ],
           "sequentialminus": [
            [
             0,
             "#0d0887"
            ],
            [
             0.1111111111111111,
             "#46039f"
            ],
            [
             0.2222222222222222,
             "#7201a8"
            ],
            [
             0.3333333333333333,
             "#9c179e"
            ],
            [
             0.4444444444444444,
             "#bd3786"
            ],
            [
             0.5555555555555556,
             "#d8576b"
            ],
            [
             0.6666666666666666,
             "#ed7953"
            ],
            [
             0.7777777777777778,
             "#fb9f3a"
            ],
            [
             0.8888888888888888,
             "#fdca26"
            ],
            [
             1,
             "#f0f921"
            ]
           ]
          },
          "colorway": [
           "#636efa",
           "#EF553B",
           "#00cc96",
           "#ab63fa",
           "#FFA15A",
           "#19d3f3",
           "#FF6692",
           "#B6E880",
           "#FF97FF",
           "#FECB52"
          ],
          "font": {
           "color": "#2a3f5f"
          },
          "geo": {
           "bgcolor": "white",
           "lakecolor": "white",
           "landcolor": "#E5ECF6",
           "showlakes": true,
           "showland": true,
           "subunitcolor": "white"
          },
          "hoverlabel": {
           "align": "left"
          },
          "hovermode": "closest",
          "mapbox": {
           "style": "light"
          },
          "paper_bgcolor": "white",
          "plot_bgcolor": "#E5ECF6",
          "polar": {
           "angularaxis": {
            "gridcolor": "white",
            "linecolor": "white",
            "ticks": ""
           },
           "bgcolor": "#E5ECF6",
           "radialaxis": {
            "gridcolor": "white",
            "linecolor": "white",
            "ticks": ""
           }
          },
          "scene": {
           "xaxis": {
            "backgroundcolor": "#E5ECF6",
            "gridcolor": "white",
            "gridwidth": 2,
            "linecolor": "white",
            "showbackground": true,
            "ticks": "",
            "zerolinecolor": "white"
           },
           "yaxis": {
            "backgroundcolor": "#E5ECF6",
            "gridcolor": "white",
            "gridwidth": 2,
            "linecolor": "white",
            "showbackground": true,
            "ticks": "",
            "zerolinecolor": "white"
           },
           "zaxis": {
            "backgroundcolor": "#E5ECF6",
            "gridcolor": "white",
            "gridwidth": 2,
            "linecolor": "white",
            "showbackground": true,
            "ticks": "",
            "zerolinecolor": "white"
           }
          },
          "shapedefaults": {
           "line": {
            "color": "#2a3f5f"
           }
          },
          "ternary": {
           "aaxis": {
            "gridcolor": "white",
            "linecolor": "white",
            "ticks": ""
           },
           "baxis": {
            "gridcolor": "white",
            "linecolor": "white",
            "ticks": ""
           },
           "bgcolor": "#E5ECF6",
           "caxis": {
            "gridcolor": "white",
            "linecolor": "white",
            "ticks": ""
           }
          },
          "title": {
           "x": 0.05
          },
          "xaxis": {
           "automargin": true,
           "gridcolor": "white",
           "linecolor": "white",
           "ticks": "",
           "title": {
            "standoff": 15
           },
           "zerolinecolor": "white",
           "zerolinewidth": 2
          },
          "yaxis": {
           "automargin": true,
           "gridcolor": "white",
           "linecolor": "white",
           "ticks": "",
           "title": {
            "standoff": 15
           },
           "zerolinecolor": "white",
           "zerolinewidth": 2
          }
         }
        },
        "title": {
         "text": "Average Weekly Working Hours in Croatia (2024)"
        },
        "updatemenus": [
         {
          "active": 4,
          "buttons": [
           {
            "args": [
             {
              "visible": [
               true,
               false,
               false,
               false,
               false,
               false,
               false,
               false,
               false,
               false,
               false,
               false,
               false,
               false,
               false,
               false,
               false,
               false,
               false,
               false,
               false,
               false,
               false,
               false,
               false,
               false,
               false,
               false,
               false,
               false,
               false,
               false,
               false,
               false,
               false,
               false
              ]
             },
             {
              "title": "Average Weekly Working Hours in Austria (2024)"
             }
            ],
            "label": "Austria",
            "method": "update"
           },
           {
            "args": [
             {
              "visible": [
               false,
               true,
               false,
               false,
               false,
               false,
               false,
               false,
               false,
               false,
               false,
               false,
               false,
               false,
               false,
               false,
               false,
               false,
               false,
               false,
               false,
               false,
               false,
               false,
               false,
               false,
               false,
               false,
               false,
               false,
               false,
               false,
               false,
               false,
               false,
               false
              ]
             },
             {
              "title": "Average Weekly Working Hours in Belgium (2024)"
             }
            ],
            "label": "Belgium",
            "method": "update"
           },
           {
            "args": [
             {
              "visible": [
               false,
               false,
               true,
               false,
               false,
               false,
               false,
               false,
               false,
               false,
               false,
               false,
               false,
               false,
               false,
               false,
               false,
               false,
               false,
               false,
               false,
               false,
               false,
               false,
               false,
               false,
               false,
               false,
               false,
               false,
               false,
               false,
               false,
               false,
               false,
               false
              ]
             },
             {
              "title": "Average Weekly Working Hours in Bosnia and Herzegovina (2024)"
             }
            ],
            "label": "Bosnia and Herzegovina",
            "method": "update"
           },
           {
            "args": [
             {
              "visible": [
               false,
               false,
               false,
               true,
               false,
               false,
               false,
               false,
               false,
               false,
               false,
               false,
               false,
               false,
               false,
               false,
               false,
               false,
               false,
               false,
               false,
               false,
               false,
               false,
               false,
               false,
               false,
               false,
               false,
               false,
               false,
               false,
               false,
               false,
               false,
               false
              ]
             },
             {
              "title": "Average Weekly Working Hours in Bulgaria (2024)"
             }
            ],
            "label": "Bulgaria",
            "method": "update"
           },
           {
            "args": [
             {
              "visible": [
               false,
               false,
               false,
               false,
               true,
               false,
               false,
               false,
               false,
               false,
               false,
               false,
               false,
               false,
               false,
               false,
               false,
               false,
               false,
               false,
               false,
               false,
               false,
               false,
               false,
               false,
               false,
               false,
               false,
               false,
               false,
               false,
               false,
               false,
               false,
               false
              ]
             },
             {
              "title": "Average Weekly Working Hours in Croatia (2024)"
             }
            ],
            "label": "Croatia",
            "method": "update"
           },
           {
            "args": [
             {
              "visible": [
               false,
               false,
               false,
               false,
               false,
               true,
               false,
               false,
               false,
               false,
               false,
               false,
               false,
               false,
               false,
               false,
               false,
               false,
               false,
               false,
               false,
               false,
               false,
               false,
               false,
               false,
               false,
               false,
               false,
               false,
               false,
               false,
               false,
               false,
               false,
               false
              ]
             },
             {
              "title": "Average Weekly Working Hours in Cyprus (2024)"
             }
            ],
            "label": "Cyprus",
            "method": "update"
           },
           {
            "args": [
             {
              "visible": [
               false,
               false,
               false,
               false,
               false,
               false,
               true,
               false,
               false,
               false,
               false,
               false,
               false,
               false,
               false,
               false,
               false,
               false,
               false,
               false,
               false,
               false,
               false,
               false,
               false,
               false,
               false,
               false,
               false,
               false,
               false,
               false,
               false,
               false,
               false,
               false
              ]
             },
             {
              "title": "Average Weekly Working Hours in Czechia (2024)"
             }
            ],
            "label": "Czechia",
            "method": "update"
           },
           {
            "args": [
             {
              "visible": [
               false,
               false,
               false,
               false,
               false,
               false,
               false,
               true,
               false,
               false,
               false,
               false,
               false,
               false,
               false,
               false,
               false,
               false,
               false,
               false,
               false,
               false,
               false,
               false,
               false,
               false,
               false,
               false,
               false,
               false,
               false,
               false,
               false,
               false,
               false,
               false
              ]
             },
             {
              "title": "Average Weekly Working Hours in Denmark (2024)"
             }
            ],
            "label": "Denmark",
            "method": "update"
           },
           {
            "args": [
             {
              "visible": [
               false,
               false,
               false,
               false,
               false,
               false,
               false,
               false,
               true,
               false,
               false,
               false,
               false,
               false,
               false,
               false,
               false,
               false,
               false,
               false,
               false,
               false,
               false,
               false,
               false,
               false,
               false,
               false,
               false,
               false,
               false,
               false,
               false,
               false,
               false,
               false
              ]
             },
             {
              "title": "Average Weekly Working Hours in Estonia (2024)"
             }
            ],
            "label": "Estonia",
            "method": "update"
           },
           {
            "args": [
             {
              "visible": [
               false,
               false,
               false,
               false,
               false,
               false,
               false,
               false,
               false,
               true,
               false,
               false,
               false,
               false,
               false,
               false,
               false,
               false,
               false,
               false,
               false,
               false,
               false,
               false,
               false,
               false,
               false,
               false,
               false,
               false,
               false,
               false,
               false,
               false,
               false,
               false
              ]
             },
             {
              "title": "Average Weekly Working Hours in Euro area – 20 countries (from 2023) (2024)"
             }
            ],
            "label": "Euro area – 20 countries (from 2023)",
            "method": "update"
           },
           {
            "args": [
             {
              "visible": [
               false,
               false,
               false,
               false,
               false,
               false,
               false,
               false,
               false,
               false,
               true,
               false,
               false,
               false,
               false,
               false,
               false,
               false,
               false,
               false,
               false,
               false,
               false,
               false,
               false,
               false,
               false,
               false,
               false,
               false,
               false,
               false,
               false,
               false,
               false,
               false
              ]
             },
             {
              "title": "Average Weekly Working Hours in European Union - 27 countries (from 2020) (2024)"
             }
            ],
            "label": "European Union - 27 countries (from 2020)",
            "method": "update"
           },
           {
            "args": [
             {
              "visible": [
               false,
               false,
               false,
               false,
               false,
               false,
               false,
               false,
               false,
               false,
               false,
               true,
               false,
               false,
               false,
               false,
               false,
               false,
               false,
               false,
               false,
               false,
               false,
               false,
               false,
               false,
               false,
               false,
               false,
               false,
               false,
               false,
               false,
               false,
               false,
               false
              ]
             },
             {
              "title": "Average Weekly Working Hours in Finland (2024)"
             }
            ],
            "label": "Finland",
            "method": "update"
           },
           {
            "args": [
             {
              "visible": [
               false,
               false,
               false,
               false,
               false,
               false,
               false,
               false,
               false,
               false,
               false,
               false,
               true,
               false,
               false,
               false,
               false,
               false,
               false,
               false,
               false,
               false,
               false,
               false,
               false,
               false,
               false,
               false,
               false,
               false,
               false,
               false,
               false,
               false,
               false,
               false
              ]
             },
             {
              "title": "Average Weekly Working Hours in France (2024)"
             }
            ],
            "label": "France",
            "method": "update"
           },
           {
            "args": [
             {
              "visible": [
               false,
               false,
               false,
               false,
               false,
               false,
               false,
               false,
               false,
               false,
               false,
               false,
               false,
               true,
               false,
               false,
               false,
               false,
               false,
               false,
               false,
               false,
               false,
               false,
               false,
               false,
               false,
               false,
               false,
               false,
               false,
               false,
               false,
               false,
               false,
               false
              ]
             },
             {
              "title": "Average Weekly Working Hours in Germany (2024)"
             }
            ],
            "label": "Germany",
            "method": "update"
           },
           {
            "args": [
             {
              "visible": [
               false,
               false,
               false,
               false,
               false,
               false,
               false,
               false,
               false,
               false,
               false,
               false,
               false,
               false,
               true,
               false,
               false,
               false,
               false,
               false,
               false,
               false,
               false,
               false,
               false,
               false,
               false,
               false,
               false,
               false,
               false,
               false,
               false,
               false,
               false,
               false
              ]
             },
             {
              "title": "Average Weekly Working Hours in Greece (2024)"
             }
            ],
            "label": "Greece",
            "method": "update"
           },
           {
            "args": [
             {
              "visible": [
               false,
               false,
               false,
               false,
               false,
               false,
               false,
               false,
               false,
               false,
               false,
               false,
               false,
               false,
               false,
               true,
               false,
               false,
               false,
               false,
               false,
               false,
               false,
               false,
               false,
               false,
               false,
               false,
               false,
               false,
               false,
               false,
               false,
               false,
               false,
               false
              ]
             },
             {
              "title": "Average Weekly Working Hours in Hungary (2024)"
             }
            ],
            "label": "Hungary",
            "method": "update"
           },
           {
            "args": [
             {
              "visible": [
               false,
               false,
               false,
               false,
               false,
               false,
               false,
               false,
               false,
               false,
               false,
               false,
               false,
               false,
               false,
               false,
               true,
               false,
               false,
               false,
               false,
               false,
               false,
               false,
               false,
               false,
               false,
               false,
               false,
               false,
               false,
               false,
               false,
               false,
               false,
               false
              ]
             },
             {
              "title": "Average Weekly Working Hours in Iceland (2024)"
             }
            ],
            "label": "Iceland",
            "method": "update"
           },
           {
            "args": [
             {
              "visible": [
               false,
               false,
               false,
               false,
               false,
               false,
               false,
               false,
               false,
               false,
               false,
               false,
               false,
               false,
               false,
               false,
               false,
               true,
               false,
               false,
               false,
               false,
               false,
               false,
               false,
               false,
               false,
               false,
               false,
               false,
               false,
               false,
               false,
               false,
               false,
               false
              ]
             },
             {
              "title": "Average Weekly Working Hours in Ireland (2024)"
             }
            ],
            "label": "Ireland",
            "method": "update"
           },
           {
            "args": [
             {
              "visible": [
               false,
               false,
               false,
               false,
               false,
               false,
               false,
               false,
               false,
               false,
               false,
               false,
               false,
               false,
               false,
               false,
               false,
               false,
               true,
               false,
               false,
               false,
               false,
               false,
               false,
               false,
               false,
               false,
               false,
               false,
               false,
               false,
               false,
               false,
               false,
               false
              ]
             },
             {
              "title": "Average Weekly Working Hours in Italy (2024)"
             }
            ],
            "label": "Italy",
            "method": "update"
           },
           {
            "args": [
             {
              "visible": [
               false,
               false,
               false,
               false,
               false,
               false,
               false,
               false,
               false,
               false,
               false,
               false,
               false,
               false,
               false,
               false,
               false,
               false,
               false,
               true,
               false,
               false,
               false,
               false,
               false,
               false,
               false,
               false,
               false,
               false,
               false,
               false,
               false,
               false,
               false,
               false
              ]
             },
             {
              "title": "Average Weekly Working Hours in Latvia (2024)"
             }
            ],
            "label": "Latvia",
            "method": "update"
           },
           {
            "args": [
             {
              "visible": [
               false,
               false,
               false,
               false,
               false,
               false,
               false,
               false,
               false,
               false,
               false,
               false,
               false,
               false,
               false,
               false,
               false,
               false,
               false,
               false,
               true,
               false,
               false,
               false,
               false,
               false,
               false,
               false,
               false,
               false,
               false,
               false,
               false,
               false,
               false,
               false
              ]
             },
             {
              "title": "Average Weekly Working Hours in Lithuania (2024)"
             }
            ],
            "label": "Lithuania",
            "method": "update"
           },
           {
            "args": [
             {
              "visible": [
               false,
               false,
               false,
               false,
               false,
               false,
               false,
               false,
               false,
               false,
               false,
               false,
               false,
               false,
               false,
               false,
               false,
               false,
               false,
               false,
               false,
               true,
               false,
               false,
               false,
               false,
               false,
               false,
               false,
               false,
               false,
               false,
               false,
               false,
               false,
               false
              ]
             },
             {
              "title": "Average Weekly Working Hours in Luxembourg (2024)"
             }
            ],
            "label": "Luxembourg",
            "method": "update"
           },
           {
            "args": [
             {
              "visible": [
               false,
               false,
               false,
               false,
               false,
               false,
               false,
               false,
               false,
               false,
               false,
               false,
               false,
               false,
               false,
               false,
               false,
               false,
               false,
               false,
               false,
               false,
               true,
               false,
               false,
               false,
               false,
               false,
               false,
               false,
               false,
               false,
               false,
               false,
               false,
               false
              ]
             },
             {
              "title": "Average Weekly Working Hours in Malta (2024)"
             }
            ],
            "label": "Malta",
            "method": "update"
           },
           {
            "args": [
             {
              "visible": [
               false,
               false,
               false,
               false,
               false,
               false,
               false,
               false,
               false,
               false,
               false,
               false,
               false,
               false,
               false,
               false,
               false,
               false,
               false,
               false,
               false,
               false,
               false,
               true,
               false,
               false,
               false,
               false,
               false,
               false,
               false,
               false,
               false,
               false,
               false,
               false
              ]
             },
             {
              "title": "Average Weekly Working Hours in Netherlands (2024)"
             }
            ],
            "label": "Netherlands",
            "method": "update"
           },
           {
            "args": [
             {
              "visible": [
               false,
               false,
               false,
               false,
               false,
               false,
               false,
               false,
               false,
               false,
               false,
               false,
               false,
               false,
               false,
               false,
               false,
               false,
               false,
               false,
               false,
               false,
               false,
               false,
               true,
               false,
               false,
               false,
               false,
               false,
               false,
               false,
               false,
               false,
               false,
               false
              ]
             },
             {
              "title": "Average Weekly Working Hours in Norway (2024)"
             }
            ],
            "label": "Norway",
            "method": "update"
           },
           {
            "args": [
             {
              "visible": [
               false,
               false,
               false,
               false,
               false,
               false,
               false,
               false,
               false,
               false,
               false,
               false,
               false,
               false,
               false,
               false,
               false,
               false,
               false,
               false,
               false,
               false,
               false,
               false,
               false,
               true,
               false,
               false,
               false,
               false,
               false,
               false,
               false,
               false,
               false,
               false
              ]
             },
             {
              "title": "Average Weekly Working Hours in Poland (2024)"
             }
            ],
            "label": "Poland",
            "method": "update"
           },
           {
            "args": [
             {
              "visible": [
               false,
               false,
               false,
               false,
               false,
               false,
               false,
               false,
               false,
               false,
               false,
               false,
               false,
               false,
               false,
               false,
               false,
               false,
               false,
               false,
               false,
               false,
               false,
               false,
               false,
               false,
               true,
               false,
               false,
               false,
               false,
               false,
               false,
               false,
               false,
               false
              ]
             },
             {
              "title": "Average Weekly Working Hours in Portugal (2024)"
             }
            ],
            "label": "Portugal",
            "method": "update"
           },
           {
            "args": [
             {
              "visible": [
               false,
               false,
               false,
               false,
               false,
               false,
               false,
               false,
               false,
               false,
               false,
               false,
               false,
               false,
               false,
               false,
               false,
               false,
               false,
               false,
               false,
               false,
               false,
               false,
               false,
               false,
               false,
               true,
               false,
               false,
               false,
               false,
               false,
               false,
               false,
               false
              ]
             },
             {
              "title": "Average Weekly Working Hours in Romania (2024)"
             }
            ],
            "label": "Romania",
            "method": "update"
           },
           {
            "args": [
             {
              "visible": [
               false,
               false,
               false,
               false,
               false,
               false,
               false,
               false,
               false,
               false,
               false,
               false,
               false,
               false,
               false,
               false,
               false,
               false,
               false,
               false,
               false,
               false,
               false,
               false,
               false,
               false,
               false,
               false,
               true,
               false,
               false,
               false,
               false,
               false,
               false,
               false
              ]
             },
             {
              "title": "Average Weekly Working Hours in Serbia (2024)"
             }
            ],
            "label": "Serbia",
            "method": "update"
           },
           {
            "args": [
             {
              "visible": [
               false,
               false,
               false,
               false,
               false,
               false,
               false,
               false,
               false,
               false,
               false,
               false,
               false,
               false,
               false,
               false,
               false,
               false,
               false,
               false,
               false,
               false,
               false,
               false,
               false,
               false,
               false,
               false,
               false,
               true,
               false,
               false,
               false,
               false,
               false,
               false
              ]
             },
             {
              "title": "Average Weekly Working Hours in Slovakia (2024)"
             }
            ],
            "label": "Slovakia",
            "method": "update"
           },
           {
            "args": [
             {
              "visible": [
               false,
               false,
               false,
               false,
               false,
               false,
               false,
               false,
               false,
               false,
               false,
               false,
               false,
               false,
               false,
               false,
               false,
               false,
               false,
               false,
               false,
               false,
               false,
               false,
               false,
               false,
               false,
               false,
               false,
               false,
               true,
               false,
               false,
               false,
               false,
               false
              ]
             },
             {
              "title": "Average Weekly Working Hours in Slovenia (2024)"
             }
            ],
            "label": "Slovenia",
            "method": "update"
           },
           {
            "args": [
             {
              "visible": [
               false,
               false,
               false,
               false,
               false,
               false,
               false,
               false,
               false,
               false,
               false,
               false,
               false,
               false,
               false,
               false,
               false,
               false,
               false,
               false,
               false,
               false,
               false,
               false,
               false,
               false,
               false,
               false,
               false,
               false,
               false,
               true,
               false,
               false,
               false,
               false
              ]
             },
             {
              "title": "Average Weekly Working Hours in Spain (2024)"
             }
            ],
            "label": "Spain",
            "method": "update"
           },
           {
            "args": [
             {
              "visible": [
               false,
               false,
               false,
               false,
               false,
               false,
               false,
               false,
               false,
               false,
               false,
               false,
               false,
               false,
               false,
               false,
               false,
               false,
               false,
               false,
               false,
               false,
               false,
               false,
               false,
               false,
               false,
               false,
               false,
               false,
               false,
               false,
               true,
               false,
               false,
               false
              ]
             },
             {
              "title": "Average Weekly Working Hours in Sweden (2024)"
             }
            ],
            "label": "Sweden",
            "method": "update"
           },
           {
            "args": [
             {
              "visible": [
               false,
               false,
               false,
               false,
               false,
               false,
               false,
               false,
               false,
               false,
               false,
               false,
               false,
               false,
               false,
               false,
               false,
               false,
               false,
               false,
               false,
               false,
               false,
               false,
               false,
               false,
               false,
               false,
               false,
               false,
               false,
               false,
               false,
               true,
               false,
               false
              ]
             },
             {
              "title": "Average Weekly Working Hours in Switzerland (2024)"
             }
            ],
            "label": "Switzerland",
            "method": "update"
           },
           {
            "args": [
             {
              "visible": [
               false,
               false,
               false,
               false,
               false,
               false,
               false,
               false,
               false,
               false,
               false,
               false,
               false,
               false,
               false,
               false,
               false,
               false,
               false,
               false,
               false,
               false,
               false,
               false,
               false,
               false,
               false,
               false,
               false,
               false,
               false,
               false,
               false,
               false,
               true,
               false
              ]
             },
             {
              "title": "Average Weekly Working Hours in Türkiye (2024)"
             }
            ],
            "label": "Türkiye",
            "method": "update"
           },
           {
            "args": [
             {
              "visible": [
               false,
               false,
               false,
               false,
               false,
               false,
               false,
               false,
               false,
               false,
               false,
               false,
               false,
               false,
               false,
               false,
               false,
               false,
               false,
               false,
               false,
               false,
               false,
               false,
               false,
               false,
               false,
               false,
               false,
               false,
               false,
               false,
               false,
               false,
               false,
               true
              ]
             },
             {
              "title": "Average Weekly Working Hours in EU27_2020 (2024)"
             }
            ],
            "label": "EU27_2020",
            "method": "update"
           }
          ],
          "direction": "down",
          "x": 0.5,
          "xanchor": "center",
          "y": 1.15,
          "yanchor": "top"
         }
        ],
        "xaxis": {
         "autorange": true,
         "range": [
          -0.5,
          1.5
         ],
         "title": {
          "text": "Sex"
         },
         "type": "category"
        },
        "yaxis": {
         "autorange": false,
         "dtick": 5,
         "range": [
          23.120052083333334,
          28.486718749999998
         ],
         "tickformat": ".1f",
         "title": {
          "text": "Average Weekly Hours"
         },
         "type": "linear"
        }
       }
      },
      "image/png": "[encoded data removed]",
      "text/html": [
       "<div>                            <div id=\"fc16c60d-8048-4999-bdfb-084bd810d265\" class=\"plotly-graph-div\" style=\"height:525px; width:100%;\"></div>            <script type=\"text/javascript\">                require([\"plotly\"], function(Plotly) {                    window.PLOTLYENV=window.PLOTLYENV || {};                                    if (document.getElementById(\"fc16c60d-8048-4999-bdfb-084bd810d265\")) {                    Plotly.newPlot(                        \"fc16c60d-8048-4999-bdfb-084bd810d265\",                        [{\"marker\":{\"color\":[\"blue\",\"pink\"]},\"name\":\"Austria\",\"visible\":true,\"x\":[\"Male\",\"Female\"],\"y\":[39.1,31.2],\"type\":\"bar\"},{\"marker\":{\"color\":[\"blue\",\"pink\"]},\"name\":\"Belgium\",\"visible\":false,\"x\":[\"Male\",\"Female\"],\"y\":[38.7,33.1],\"type\":\"bar\"},{\"marker\":{\"color\":[\"blue\",\"pink\"]},\"name\":\"Bosnia and Herzegovina\",\"visible\":false,\"x\":[\"Male\",\"Female\"],\"y\":[41.9,41.3],\"type\":\"bar\"},{\"marker\":{\"color\":[\"blue\",\"pink\"]},\"name\":\"Bulgaria\",\"visible\":false,\"x\":[\"Male\",\"Female\"],\"y\":[40.0,39.8],\"type\":\"bar\"},{\"marker\":{\"color\":[\"blue\",\"pink\"]},\"name\":\"Croatia\",\"visible\":false,\"x\":[\"Male\",\"Female\"],\"y\":[39.9,39.0],\"type\":\"bar\"},{\"marker\":{\"color\":[\"blue\",\"pink\"]},\"name\":\"Cyprus\",\"visible\":false,\"x\":[\"Male\",\"Female\"],\"y\":[41.0,38.1],\"type\":\"bar\"},{\"marker\":{\"color\":[\"blue\",\"pink\"]},\"name\":\"Czechia\",\"visible\":false,\"x\":[\"Male\",\"Female\"],\"y\":[40.3,37.5],\"type\":\"bar\"},{\"marker\":{\"color\":[\"blue\",\"pink\"]},\"name\":\"Denmark\",\"visible\":false,\"x\":[\"Male\",\"Female\"],\"y\":[35.1,30.9],\"type\":\"bar\"},{\"marker\":{\"color\":[\"blue\",\"pink\"]},\"name\":\"Estonia\",\"visible\":false,\"x\":[\"Male\",\"Female\"],\"y\":[38.5,36.2],\"type\":\"bar\"},{\"marker\":{\"color\":[\"blue\",\"pink\"]},\"name\":\"Euro area \\u2013 20 countries (from 2023)\",\"visible\":false,\"x\":[\"Male\",\"Female\"],\"y\":[38.8,33.1],\"type\":\"bar\"},{\"marker\":{\"color\":[\"blue\",\"pink\"]},\"name\":\"European Union - 27 countries (from 2020)\",\"visible\":false,\"x\":[\"Male\",\"Female\"],\"y\":[39.0,34.1],\"type\":\"bar\"},{\"marker\":{\"color\":[\"blue\",\"pink\"]},\"name\":\"Finland\",\"visible\":false,\"x\":[\"Male\",\"Female\"],\"y\":[36.8,33.7],\"type\":\"bar\"},{\"marker\":{\"color\":[\"blue\",\"pink\"]},\"name\":\"France\",\"visible\":false,\"x\":[\"Male\",\"Female\"],\"y\":[39.1,34.6],\"type\":\"bar\"},{\"marker\":{\"color\":[\"blue\",\"pink\"]},\"name\":\"Germany\",\"visible\":false,\"x\":[\"Male\",\"Female\"],\"y\":[37.6,30.3],\"type\":\"bar\"},{\"marker\":{\"color\":[\"blue\",\"pink\"]},\"name\":\"Greece\",\"visible\":false,\"x\":[\"Male\",\"Female\"],\"y\":[43.0,38.5],\"type\":\"bar\"},{\"marker\":{\"color\":[\"blue\",\"pink\"]},\"name\":\"Hungary\",\"visible\":false,\"x\":[\"Male\",\"Female\"],\"y\":[39.8,38.7],\"type\":\"bar\"},{\"marker\":{\"color\":[\"blue\",\"pink\"]},\"name\":\"Iceland\",\"visible\":false,\"x\":[\"Male\",\"Female\"],\"y\":[40.8,34.3],\"type\":\"bar\"},{\"marker\":{\"color\":[\"blue\",\"pink\"]},\"name\":\"Ireland\",\"visible\":false,\"x\":[\"Male\",\"Female\"],\"y\":[38.4,32.2],\"type\":\"bar\"},{\"marker\":{\"color\":[\"blue\",\"pink\"]},\"name\":\"Italy\",\"visible\":false,\"x\":[\"Male\",\"Female\"],\"y\":[39.8,33.6],\"type\":\"bar\"},{\"marker\":{\"color\":[\"blue\",\"pink\"]},\"name\":\"Latvia\",\"visible\":false,\"x\":[\"Male\",\"Female\"],\"y\":[39.1,37.9],\"type\":\"bar\"},{\"marker\":{\"color\":[\"blue\",\"pink\"]},\"name\":\"Lithuania\",\"visible\":false,\"x\":[\"Male\",\"Female\"],\"y\":[39.4,38.4],\"type\":\"bar\"},{\"marker\":{\"color\":[\"blue\",\"pink\"]},\"name\":\"Luxembourg\",\"visible\":false,\"x\":[\"Male\",\"Female\"],\"y\":[39.9,35.1],\"type\":\"bar\"},{\"marker\":{\"color\":[\"blue\",\"pink\"]},\"name\":\"Malta\",\"visible\":false,\"x\":[\"Male\",\"Female\"],\"y\":[40.2,37.0],\"type\":\"bar\"},{\"marker\":{\"color\":[\"blue\",\"pink\"]},\"name\":\"Netherlands\",\"visible\":false,\"x\":[\"Male\",\"Female\"],\"y\":[34.9,27.0],\"type\":\"bar\"},{\"marker\":{\"color\":[\"blue\",\"pink\"]},\"name\":\"Norway\",\"visible\":false,\"x\":[\"Male\",\"Female\"],\"y\":[36.3,32.0],\"type\":\"bar\"},{\"marker\":{\"color\":[\"blue\",\"pink\"]},\"name\":\"Poland\",\"visible\":false,\"x\":[\"Male\",\"Female\"],\"y\":[41.0,38.7],\"type\":\"bar\"},{\"marker\":{\"color\":[\"blue\",\"pink\"]},\"name\":\"Portugal\",\"visible\":false,\"x\":[\"Male\",\"Female\"],\"y\":[41.0,38.0],\"type\":\"bar\"},{\"marker\":{\"color\":[\"blue\",\"pink\"]},\"name\":\"Romania\",\"visible\":false,\"x\":[\"Male\",\"Female\"],\"y\":[40.2,39.7],\"type\":\"bar\"},{\"marker\":{\"color\":[\"blue\",\"pink\"]},\"name\":\"Serbia\",\"visible\":false,\"x\":[\"Male\",\"Female\"],\"y\":[43.0,41.3],\"type\":\"bar\"},{\"marker\":{\"color\":[\"blue\",\"pink\"]},\"name\":\"Slovakia\",\"visible\":false,\"x\":[\"Male\",\"Female\"],\"y\":[40.3,38.3],\"type\":\"bar\"},{\"marker\":{\"color\":[\"blue\",\"pink\"]},\"name\":\"Slovenia\",\"visible\":false,\"x\":[\"Male\",\"Female\"],\"y\":[40.0,38.2],\"type\":\"bar\"},{\"marker\":{\"color\":[\"blue\",\"pink\"]},\"name\":\"Spain\",\"visible\":false,\"x\":[\"Male\",\"Female\"],\"y\":[39.6,35.1],\"type\":\"bar\"},{\"marker\":{\"color\":[\"blue\",\"pink\"]},\"name\":\"Sweden\",\"visible\":false,\"x\":[\"Male\",\"Female\"],\"y\":[38.8,36.3],\"type\":\"bar\"},{\"marker\":{\"color\":[\"blue\",\"pink\"]},\"name\":\"Switzerland\",\"visible\":false,\"x\":[\"Male\",\"Female\"],\"y\":[39.4,30.5],\"type\":\"bar\"},{\"marker\":{\"color\":[\"blue\",\"pink\"]},\"name\":\"T\\u00fcrkiye\",\"visible\":false,\"x\":[\"Male\",\"Female\"],\"y\":[45.6,40.6],\"type\":\"bar\"},{\"marker\":{\"color\":[]},\"name\":\"EU27_2020\",\"visible\":false,\"x\":[],\"y\":[],\"type\":\"bar\"}],                        {\"template\":{\"data\":{\"histogram2dcontour\":[{\"type\":\"histogram2dcontour\",\"colorbar\":{\"outlinewidth\":0,\"ticks\":\"\"},\"colorscale\":[[0.0,\"#0d0887\"],[0.1111111111111111,\"#46039f\"],[0.2222222222222222,\"#7201a8\"],[0.3333333333333333,\"#9c179e\"],[0.4444444444444444,\"#bd3786\"],[0.5555555555555556,\"#d8576b\"],[0.6666666666666666,\"#ed7953\"],[0.7777777777777778,\"#fb9f3a\"],[0.8888888888888888,\"#fdca26\"],[1.0,\"#f0f921\"]]}],\"choropleth\":[{\"type\":\"choropleth\",\"colorbar\":{\"outlinewidth\":0,\"ticks\":\"\"}}],\"histogram2d\":[{\"type\":\"histogram2d\",\"colorbar\":{\"outlinewidth\":0,\"ticks\":\"\"},\"colorscale\":[[0.0,\"#0d0887\"],[0.1111111111111111,\"#46039f\"],[0.2222222222222222,\"#7201a8\"],[0.3333333333333333,\"#9c179e\"],[0.4444444444444444,\"#bd3786\"],[0.5555555555555556,\"#d8576b\"],[0.6666666666666666,\"#ed7953\"],[0.7777777777777778,\"#fb9f3a\"],[0.8888888888888888,\"#fdca26\"],[1.0,\"#f0f921\"]]}],\"heatmap\":[{\"type\":\"heatmap\",\"colorbar\":{\"outlinewidth\":0,\"ticks\":\"\"},\"colorscale\":[[0.0,\"#0d0887\"],[0.1111111111111111,\"#46039f\"],[0.2222222222222222,\"#7201a8\"],[0.3333333333333333,\"#9c179e\"],[0.4444444444444444,\"#bd3786\"],[0.5555555555555556,\"#d8576b\"],[0.6666666666666666,\"#ed7953\"],[0.7777777777777778,\"#fb9f3a\"],[0.8888888888888888,\"#fdca26\"],[1.0,\"#f0f921\"]]}],\"heatmapgl\":[{\"type\":\"heatmapgl\",\"colorbar\":{\"outlinewidth\":0,\"ticks\":\"\"},\"colorscale\":[[0.0,\"#0d0887\"],[0.1111111111111111,\"#46039f\"],[0.2222222222222222,\"#7201a8\"],[0.3333333333333333,\"#9c179e\"],[0.4444444444444444,\"#bd3786\"],[0.5555555555555556,\"#d8576b\"],[0.6666666666666666,\"#ed7953\"],[0.7777777777777778,\"#fb9f3a\"],[0.8888888888888888,\"#fdca26\"],[1.0,\"#f0f921\"]]}],\"contourcarpet\":[{\"type\":\"contourcarpet\",\"colorbar\":{\"outlinewidth\":0,\"ticks\":\"\"}}],\"contour\":[{\"type\":\"contour\",\"colorbar\":{\"outlinewidth\":0,\"ticks\":\"\"},\"colorscale\":[[0.0,\"#0d0887\"],[0.1111111111111111,\"#46039f\"],[0.2222222222222222,\"#7201a8\"],[0.3333333333333333,\"#9c179e\"],[0.4444444444444444,\"#bd3786\"],[0.5555555555555556,\"#d8576b\"],[0.6666666666666666,\"#ed7953\"],[0.7777777777777778,\"#fb9f3a\"],[0.8888888888888888,\"#fdca26\"],[1.0,\"#f0f921\"]]}],\"surface\":[{\"type\":\"surface\",\"colorbar\":{\"outlinewidth\":0,\"ticks\":\"\"},\"colorscale\":[[0.0,\"#0d0887\"],[0.1111111111111111,\"#46039f\"],[0.2222222222222222,\"#7201a8\"],[0.3333333333333333,\"#9c179e\"],[0.4444444444444444,\"#bd3786\"],[0.5555555555555556,\"#d8576b\"],[0.6666666666666666,\"#ed7953\"],[0.7777777777777778,\"#fb9f3a\"],[0.8888888888888888,\"#fdca26\"],[1.0,\"#f0f921\"]]}],\"mesh3d\":[{\"type\":\"mesh3d\",\"colorbar\":{\"outlinewidth\":0,\"ticks\":\"\"}}],\"scatter\":[{\"fillpattern\":{\"fillmode\":\"overlay\",\"size\":10,\"solidity\":0.2},\"type\":\"scatter\"}],\"parcoords\":[{\"type\":\"parcoords\",\"line\":{\"colorbar\":{\"outlinewidth\":0,\"ticks\":\"\"}}}],\"scatterpolargl\":[{\"type\":\"scatterpolargl\",\"marker\":{\"colorbar\":{\"outlinewidth\":0,\"ticks\":\"\"}}}],\"bar\":[{\"error_x\":{\"color\":\"#2a3f5f\"},\"error_y\":{\"color\":\"#2a3f5f\"},\"marker\":{\"line\":{\"color\":\"#E5ECF6\",\"width\":0.5},\"pattern\":{\"fillmode\":\"overlay\",\"size\":10,\"solidity\":0.2}},\"type\":\"bar\"}],\"scattergeo\":[{\"type\":\"scattergeo\",\"marker\":{\"colorbar\":{\"outlinewidth\":0,\"ticks\":\"\"}}}],\"scatterpolar\":[{\"type\":\"scatterpolar\",\"marker\":{\"colorbar\":{\"outlinewidth\":0,\"ticks\":\"\"}}}],\"histogram\":[{\"marker\":{\"pattern\":{\"fillmode\":\"overlay\",\"size\":10,\"solidity\":0.2}},\"type\":\"histogram\"}],\"scattergl\":[{\"type\":\"scattergl\",\"marker\":{\"colorbar\":{\"outlinewidth\":0,\"ticks\":\"\"}}}],\"scatter3d\":[{\"type\":\"scatter3d\",\"line\":{\"colorbar\":{\"outlinewidth\":0,\"ticks\":\"\"}},\"marker\":{\"colorbar\":{\"outlinewidth\":0,\"ticks\":\"\"}}}],\"scattermapbox\":[{\"type\":\"scattermapbox\",\"marker\":{\"colorbar\":{\"outlinewidth\":0,\"ticks\":\"\"}}}],\"scatterternary\":[{\"type\":\"scatterternary\",\"marker\":{\"colorbar\":{\"outlinewidth\":0,\"ticks\":\"\"}}}],\"scattercarpet\":[{\"type\":\"scattercarpet\",\"marker\":{\"colorbar\":{\"outlinewidth\":0,\"ticks\":\"\"}}}],\"carpet\":[{\"aaxis\":{\"endlinecolor\":\"#2a3f5f\",\"gridcolor\":\"white\",\"linecolor\":\"white\",\"minorgridcolor\":\"white\",\"startlinecolor\":\"#2a3f5f\"},\"baxis\":{\"endlinecolor\":\"#2a3f5f\",\"gridcolor\":\"white\",\"linecolor\":\"white\",\"minorgridcolor\":\"white\",\"startlinecolor\":\"#2a3f5f\"},\"type\":\"carpet\"}],\"table\":[{\"cells\":{\"fill\":{\"color\":\"#EBF0F8\"},\"line\":{\"color\":\"white\"}},\"header\":{\"fill\":{\"color\":\"#C8D4E3\"},\"line\":{\"color\":\"white\"}},\"type\":\"table\"}],\"barpolar\":[{\"marker\":{\"line\":{\"color\":\"#E5ECF6\",\"width\":0.5},\"pattern\":{\"fillmode\":\"overlay\",\"size\":10,\"solidity\":0.2}},\"type\":\"barpolar\"}],\"pie\":[{\"automargin\":true,\"type\":\"pie\"}]},\"layout\":{\"autotypenumbers\":\"strict\",\"colorway\":[\"#636efa\",\"#EF553B\",\"#00cc96\",\"#ab63fa\",\"#FFA15A\",\"#19d3f3\",\"#FF6692\",\"#B6E880\",\"#FF97FF\",\"#FECB52\"],\"font\":{\"color\":\"#2a3f5f\"},\"hovermode\":\"closest\",\"hoverlabel\":{\"align\":\"left\"},\"paper_bgcolor\":\"white\",\"plot_bgcolor\":\"#E5ECF6\",\"polar\":{\"bgcolor\":\"#E5ECF6\",\"angularaxis\":{\"gridcolor\":\"white\",\"linecolor\":\"white\",\"ticks\":\"\"},\"radialaxis\":{\"gridcolor\":\"white\",\"linecolor\":\"white\",\"ticks\":\"\"}},\"ternary\":{\"bgcolor\":\"#E5ECF6\",\"aaxis\":{\"gridcolor\":\"white\",\"linecolor\":\"white\",\"ticks\":\"\"},\"baxis\":{\"gridcolor\":\"white\",\"linecolor\":\"white\",\"ticks\":\"\"},\"caxis\":{\"gridcolor\":\"white\",\"linecolor\":\"white\",\"ticks\":\"\"}},\"coloraxis\":{\"colorbar\":{\"outlinewidth\":0,\"ticks\":\"\"}},\"colorscale\":{\"sequential\":[[0.0,\"#0d0887\"],[0.1111111111111111,\"#46039f\"],[0.2222222222222222,\"#7201a8\"],[0.3333333333333333,\"#9c179e\"],[0.4444444444444444,\"#bd3786\"],[0.5555555555555556,\"#d8576b\"],[0.6666666666666666,\"#ed7953\"],[0.7777777777777778,\"#fb9f3a\"],[0.8888888888888888,\"#fdca26\"],[1.0,\"#f0f921\"]],\"sequentialminus\":[[0.0,\"#0d0887\"],[0.1111111111111111,\"#46039f\"],[0.2222222222222222,\"#7201a8\"],[0.3333333333333333,\"#9c179e\"],[0.4444444444444444,\"#bd3786\"],[0.5555555555555556,\"#d8576b\"],[0.6666666666666666,\"#ed7953\"],[0.7777777777777778,\"#fb9f3a\"],[0.8888888888888888,\"#fdca26\"],[1.0,\"#f0f921\"]],\"diverging\":[[0,\"#8e0152\"],[0.1,\"#c51b7d\"],[0.2,\"#de77ae\"],[0.3,\"#f1b6da\"],[0.4,\"#fde0ef\"],[0.5,\"#f7f7f7\"],[0.6,\"#e6f5d0\"],[0.7,\"#b8e186\"],[0.8,\"#7fbc41\"],[0.9,\"#4d9221\"],[1,\"#276419\"]]},\"xaxis\":{\"gridcolor\":\"white\",\"linecolor\":\"white\",\"ticks\":\"\",\"title\":{\"standoff\":15},\"zerolinecolor\":\"white\",\"automargin\":true,\"zerolinewidth\":2},\"yaxis\":{\"gridcolor\":\"white\",\"linecolor\":\"white\",\"ticks\":\"\",\"title\":{\"standoff\":15},\"zerolinecolor\":\"white\",\"automargin\":true,\"zerolinewidth\":2},\"scene\":{\"xaxis\":{\"backgroundcolor\":\"#E5ECF6\",\"gridcolor\":\"white\",\"linecolor\":\"white\",\"showbackground\":true,\"ticks\":\"\",\"zerolinecolor\":\"white\",\"gridwidth\":2},\"yaxis\":{\"backgroundcolor\":\"#E5ECF6\",\"gridcolor\":\"white\",\"linecolor\":\"white\",\"showbackground\":true,\"ticks\":\"\",\"zerolinecolor\":\"white\",\"gridwidth\":2},\"zaxis\":{\"backgroundcolor\":\"#E5ECF6\",\"gridcolor\":\"white\",\"linecolor\":\"white\",\"showbackground\":true,\"ticks\":\"\",\"zerolinecolor\":\"white\",\"gridwidth\":2}},\"shapedefaults\":{\"line\":{\"color\":\"#2a3f5f\"}},\"annotationdefaults\":{\"arrowcolor\":\"#2a3f5f\",\"arrowhead\":0,\"arrowwidth\":1},\"geo\":{\"bgcolor\":\"white\",\"landcolor\":\"#E5ECF6\",\"subunitcolor\":\"white\",\"showland\":true,\"showlakes\":true,\"lakecolor\":\"white\"},\"title\":{\"x\":0.05},\"mapbox\":{\"style\":\"light\"}}},\"yaxis\":{\"title\":{\"text\":\"Average Weekly Hours\"},\"tickformat\":\".1f\",\"dtick\":5},\"updatemenus\":[{\"buttons\":[{\"args\":[{\"visible\":[true,false,false,false,false,false,false,false,false,false,false,false,false,false,false,false,false,false,false,false,false,false,false,false,false,false,false,false,false,false,false,false,false,false,false,false]},{\"title\":\"Average Weekly Working Hours in Austria (2024)\"}],\"label\":\"Austria\",\"method\":\"update\"},{\"args\":[{\"visible\":[false,true,false,false,false,false,false,false,false,false,false,false,false,false,false,false,false,false,false,false,false,false,false,false,false,false,false,false,false,false,false,false,false,false,false,false]},{\"title\":\"Average Weekly Working Hours in Belgium (2024)\"}],\"label\":\"Belgium\",\"method\":\"update\"},{\"args\":[{\"visible\":[false,false,true,false,false,false,false,false,false,false,false,false,false,false,false,false,false,false,false,false,false,false,false,false,false,false,false,false,false,false,false,false,false,false,false,false]},{\"title\":\"Average Weekly Working Hours in Bosnia and Herzegovina (2024)\"}],\"label\":\"Bosnia and Herzegovina\",\"method\":\"update\"},{\"args\":[{\"visible\":[false,false,false,true,false,false,false,false,false,false,false,false,false,false,false,false,false,false,false,false,false,false,false,false,false,false,false,false,false,false,false,false,false,false,false,false]},{\"title\":\"Average Weekly Working Hours in Bulgaria (2024)\"}],\"label\":\"Bulgaria\",\"method\":\"update\"},{\"args\":[{\"visible\":[false,false,false,false,true,false,false,false,false,false,false,false,false,false,false,false,false,false,false,false,false,false,false,false,false,false,false,false,false,false,false,false,false,false,false,false]},{\"title\":\"Average Weekly Working Hours in Croatia (2024)\"}],\"label\":\"Croatia\",\"method\":\"update\"},{\"args\":[{\"visible\":[false,false,false,false,false,true,false,false,false,false,false,false,false,false,false,false,false,false,false,false,false,false,false,false,false,false,false,false,false,false,false,false,false,false,false,false]},{\"title\":\"Average Weekly Working Hours in Cyprus (2024)\"}],\"label\":\"Cyprus\",\"method\":\"update\"},{\"args\":[{\"visible\":[false,false,false,false,false,false,true,false,false,false,false,false,false,false,false,false,false,false,false,false,false,false,false,false,false,false,false,false,false,false,false,false,false,false,false,false]},{\"title\":\"Average Weekly Working Hours in Czechia (2024)\"}],\"label\":\"Czechia\",\"method\":\"update\"},{\"args\":[{\"visible\":[false,false,false,false,false,false,false,true,false,false,false,false,false,false,false,false,false,false,false,false,false,false,false,false,false,false,false,false,false,false,false,false,false,false,false,false]},{\"title\":\"Average Weekly Working Hours in Denmark (2024)\"}],\"label\":\"Denmark\",\"method\":\"update\"},{\"args\":[{\"visible\":[false,false,false,false,false,false,false,false,true,false,false,false,false,false,false,false,false,false,false,false,false,false,false,false,false,false,false,false,false,false,false,false,false,false,false,false]},{\"title\":\"Average Weekly Working Hours in Estonia (2024)\"}],\"label\":\"Estonia\",\"method\":\"update\"},{\"args\":[{\"visible\":[false,false,false,false,false,false,false,false,false,true,false,false,false,false,false,false,false,false,false,false,false,false,false,false,false,false,false,false,false,false,false,false,false,false,false,false]},{\"title\":\"Average Weekly Working Hours in Euro area \\u2013 20 countries (from 2023) (2024)\"}],\"label\":\"Euro area \\u2013 20 countries (from 2023)\",\"method\":\"update\"},{\"args\":[{\"visible\":[false,false,false,false,false,false,false,false,false,false,true,false,false,false,false,false,false,false,false,false,false,false,false,false,false,false,false,false,false,false,false,false,false,false,false,false]},{\"title\":\"Average Weekly Working Hours in European Union - 27 countries (from 2020) (2024)\"}],\"label\":\"European Union - 27 countries (from 2020)\",\"method\":\"update\"},{\"args\":[{\"visible\":[false,false,false,false,false,false,false,false,false,false,false,true,false,false,false,false,false,false,false,false,false,false,false,false,false,false,false,false,false,false,false,false,false,false,false,false]},{\"title\":\"Average Weekly Working Hours in Finland (2024)\"}],\"label\":\"Finland\",\"method\":\"update\"},{\"args\":[{\"visible\":[false,false,false,false,false,false,false,false,false,false,false,false,true,false,false,false,false,false,false,false,false,false,false,false,false,false,false,false,false,false,false,false,false,false,false,false]},{\"title\":\"Average Weekly Working Hours in France (2024)\"}],\"label\":\"France\",\"method\":\"update\"},{\"args\":[{\"visible\":[false,false,false,false,false,false,false,false,false,false,false,false,false,true,false,false,false,false,false,false,false,false,false,false,false,false,false,false,false,false,false,false,false,false,false,false]},{\"title\":\"Average Weekly Working Hours in Germany (2024)\"}],\"label\":\"Germany\",\"method\":\"update\"},{\"args\":[{\"visible\":[false,false,false,false,false,false,false,false,false,false,false,false,false,false,true,false,false,false,false,false,false,false,false,false,false,false,false,false,false,false,false,false,false,false,false,false]},{\"title\":\"Average Weekly Working Hours in Greece (2024)\"}],\"label\":\"Greece\",\"method\":\"update\"},{\"args\":[{\"visible\":[false,false,false,false,false,false,false,false,false,false,false,false,false,false,false,true,false,false,false,false,false,false,false,false,false,false,false,false,false,false,false,false,false,false,false,false]},{\"title\":\"Average Weekly Working Hours in Hungary (2024)\"}],\"label\":\"Hungary\",\"method\":\"update\"},{\"args\":[{\"visible\":[false,false,false,false,false,false,false,false,false,false,false,false,false,false,false,false,true,false,false,false,false,false,false,false,false,false,false,false,false,false,false,false,false,false,false,false]},{\"title\":\"Average Weekly Working Hours in Iceland (2024)\"}],\"label\":\"Iceland\",\"method\":\"update\"},{\"args\":[{\"visible\":[false,false,false,false,false,false,false,false,false,false,false,false,false,false,false,false,false,true,false,false,false,false,false,false,false,false,false,false,false,false,false,false,false,false,false,false]},{\"title\":\"Average Weekly Working Hours in Ireland (2024)\"}],\"label\":\"Ireland\",\"method\":\"update\"},{\"args\":[{\"visible\":[false,false,false,false,false,false,false,false,false,false,false,false,false,false,false,false,false,false,true,false,false,false,false,false,false,false,false,false,false,false,false,false,false,false,false,false]},{\"title\":\"Average Weekly Working Hours in Italy (2024)\"}],\"label\":\"Italy\",\"method\":\"update\"},{\"args\":[{\"visible\":[false,false,false,false,false,false,false,false,false,false,false,false,false,false,false,false,false,false,false,true,false,false,false,false,false,false,false,false,false,false,false,false,false,false,false,false]},{\"title\":\"Average Weekly Working Hours in Latvia (2024)\"}],\"label\":\"Latvia\",\"method\":\"update\"},{\"args\":[{\"visible\":[false,false,false,false,false,false,false,false,false,false,false,false,false,false,false,false,false,false,false,false,true,false,false,false,false,false,false,false,false,false,false,false,false,false,false,false]},{\"title\":\"Average Weekly Working Hours in Lithuania (2024)\"}],\"label\":\"Lithuania\",\"method\":\"update\"},{\"args\":[{\"visible\":[false,false,false,false,false,false,false,false,false,false,false,false,false,false,false,false,false,false,false,false,false,true,false,false,false,false,false,false,false,false,false,false,false,false,false,false]},{\"title\":\"Average Weekly Working Hours in Luxembourg (2024)\"}],\"label\":\"Luxembourg\",\"method\":\"update\"},{\"args\":[{\"visible\":[false,false,false,false,false,false,false,false,false,false,false,false,false,false,false,false,false,false,false,false,false,false,true,false,false,false,false,false,false,false,false,false,false,false,false,false]},{\"title\":\"Average Weekly Working Hours in Malta (2024)\"}],\"label\":\"Malta\",\"method\":\"update\"},{\"args\":[{\"visible\":[false,false,false,false,false,false,false,false,false,false,false,false,false,false,false,false,false,false,false,false,false,false,false,true,false,false,false,false,false,false,false,false,false,false,false,false]},{\"title\":\"Average Weekly Working Hours in Netherlands (2024)\"}],\"label\":\"Netherlands\",\"method\":\"update\"},{\"args\":[{\"visible\":[false,false,false,false,false,false,false,false,false,false,false,false,false,false,false,false,false,false,false,false,false,false,false,false,true,false,false,false,false,false,false,false,false,false,false,false]},{\"title\":\"Average Weekly Working Hours in Norway (2024)\"}],\"label\":\"Norway\",\"method\":\"update\"},{\"args\":[{\"visible\":[false,false,false,false,false,false,false,false,false,false,false,false,false,false,false,false,false,false,false,false,false,false,false,false,false,true,false,false,false,false,false,false,false,false,false,false]},{\"title\":\"Average Weekly Working Hours in Poland (2024)\"}],\"label\":\"Poland\",\"method\":\"update\"},{\"args\":[{\"visible\":[false,false,false,false,false,false,false,false,false,false,false,false,false,false,false,false,false,false,false,false,false,false,false,false,false,false,true,false,false,false,false,false,false,false,false,false]},{\"title\":\"Average Weekly Working Hours in Portugal (2024)\"}],\"label\":\"Portugal\",\"method\":\"update\"},{\"args\":[{\"visible\":[false,false,false,false,false,false,false,false,false,false,false,false,false,false,false,false,false,false,false,false,false,false,false,false,false,false,false,true,false,false,false,false,false,false,false,false]},{\"title\":\"Average Weekly Working Hours in Romania (2024)\"}],\"label\":\"Romania\",\"method\":\"update\"},{\"args\":[{\"visible\":[false,false,false,false,false,false,false,false,false,false,false,false,false,false,false,false,false,false,false,false,false,false,false,false,false,false,false,false,true,false,false,false,false,false,false,false]},{\"title\":\"Average Weekly Working Hours in Serbia (2024)\"}],\"label\":\"Serbia\",\"method\":\"update\"},{\"args\":[{\"visible\":[false,false,false,false,false,false,false,false,false,false,false,false,false,false,false,false,false,false,false,false,false,false,false,false,false,false,false,false,false,true,false,false,false,false,false,false]},{\"title\":\"Average Weekly Working Hours in Slovakia (2024)\"}],\"label\":\"Slovakia\",\"method\":\"update\"},{\"args\":[{\"visible\":[false,false,false,false,false,false,false,false,false,false,false,false,false,false,false,false,false,false,false,false,false,false,false,false,false,false,false,false,false,false,true,false,false,false,false,false]},{\"title\":\"Average Weekly Working Hours in Slovenia (2024)\"}],\"label\":\"Slovenia\",\"method\":\"update\"},{\"args\":[{\"visible\":[false,false,false,false,false,false,false,false,false,false,false,false,false,false,false,false,false,false,false,false,false,false,false,false,false,false,false,false,false,false,false,true,false,false,false,false]},{\"title\":\"Average Weekly Working Hours in Spain (2024)\"}],\"label\":\"Spain\",\"method\":\"update\"},{\"args\":[{\"visible\":[false,false,false,false,false,false,false,false,false,false,false,false,false,false,false,false,false,false,false,false,false,false,false,false,false,false,false,false,false,false,false,false,true,false,false,false]},{\"title\":\"Average Weekly Working Hours in Sweden (2024)\"}],\"label\":\"Sweden\",\"method\":\"update\"},{\"args\":[{\"visible\":[false,false,false,false,false,false,false,false,false,false,false,false,false,false,false,false,false,false,false,false,false,false,false,false,false,false,false,false,false,false,false,false,false,true,false,false]},{\"title\":\"Average Weekly Working Hours in Switzerland (2024)\"}],\"label\":\"Switzerland\",\"method\":\"update\"},{\"args\":[{\"visible\":[false,false,false,false,false,false,false,false,false,false,false,false,false,false,false,false,false,false,false,false,false,false,false,false,false,false,false,false,false,false,false,false,false,false,true,false]},{\"title\":\"Average Weekly Working Hours in T\\u00fcrkiye (2024)\"}],\"label\":\"T\\u00fcrkiye\",\"method\":\"update\"},{\"args\":[{\"visible\":[false,false,false,false,false,false,false,false,false,false,false,false,false,false,false,false,false,false,false,false,false,false,false,false,false,false,false,false,false,false,false,false,false,false,false,true]},{\"title\":\"Average Weekly Working Hours in EU27_2020 (2024)\"}],\"label\":\"EU27_2020\",\"method\":\"update\"}],\"direction\":\"down\",\"x\":0.5,\"xanchor\":\"center\",\"y\":1.15,\"yanchor\":\"top\"}],\"title\":{\"text\":\"Average Weekly Working Hours in Austria (2024)\"},\"xaxis\":{\"title\":{\"text\":\"Sex\"}}},                        {\"responsive\": true}                    ).then(function(){\n",
       "                            \n",
       "var gd = document.getElementById('fc16c60d-8048-4999-bdfb-084bd810d265');\n",
       "var x = new MutationObserver(function (mutations, observer) {{\n",
       "        var display = window.getComputedStyle(gd).display;\n",
       "        if (!display || display === 'none') {{\n",
       "            console.log([gd, 'removed!']);\n",
       "            Plotly.purge(gd);\n",
       "            observer.disconnect();\n",
       "        }}\n",
       "}});\n",
       "\n",
       "// Listen for the removal of the full notebook cells\n",
       "var notebookContainer = gd.closest('#notebook-container');\n",
       "if (notebookContainer) {{\n",
       "    x.observe(notebookContainer, {childList: true});\n",
       "}}\n",
       "\n",
       "// Listen for the clearing of the current output cell\n",
       "var outputEl = gd.closest('.output');\n",
       "if (outputEl) {{\n",
       "    x.observe(outputEl, {childList: true});\n",
       "}}\n",
       "\n",
       "                        })                };                });            </script>        </div>"
      ]
     },
     "metadata": {},
     "output_type": "display_data"
    }
   ],
   "source": [
    "import pandas as pd\n",
    "import plotly.graph_objects as go\n",
    "\n",
    "# Load and filter\n",
    "df = pd.read_csv(\"workhour_total.csv\")\n",
    "df_2024 = df[\n",
    "    (df['TIME_PERIOD'] == 2024) &\n",
    "    (df['sex'].isin(['Males', 'Females'])) &\n",
    "    (df['OBS_VALUE'].notna())\n",
    "].copy()\n",
    "\n",
    "df_2024['sex'] = df_2024['sex'].replace({'Males': 'Male', 'Females': 'Female'})\n",
    "df_2024 = df_2024[['geo', 'sex', 'OBS_VALUE']]\n",
    "df_2024.columns = ['country', 'sex', 'average_hours']\n",
    "\n",
    "# Reshape and keep countries with both sexes\n",
    "pivot = df_2024.pivot(index='country', columns='sex', values='average_hours').dropna().reset_index()\n",
    "df_clean = pivot.melt(id_vars='country', value_vars=['Male', 'Female'],\n",
    "                      var_name='sex', value_name='average_hours')\n",
    "\n",
    "# Get list of EU countries, place EU27_2020 last\n",
    "eu_countries = df_clean[df_clean['country'] != 'EU27_2020']['country'].unique().tolist()\n",
    "eu_countries.sort()\n",
    "eu_countries.append('EU27_2020')\n",
    "\n",
    "# Plot\n",
    "fig = go.Figure()\n",
    "for i, country in enumerate(eu_countries):\n",
    "    data = df_clean[df_clean['country'] == country]\n",
    "    \n",
    "    colors = {'Male': 'blue', 'Female': 'pink'}\n",
    "    fig.add_trace(go.Bar(\n",
    "    x=data['sex'],\n",
    "    y=data['average_hours'],\n",
    "    name=country,\n",
    "    marker_color=[colors[sex] for sex in data['sex']],\n",
    "    visible=(i == 0)\n",
    "))\n",
    "\n",
    "\n",
    "buttons = [\n",
    "    dict(label=country,\n",
    "         method='update',\n",
    "         args=[\n",
    "             {'visible': [j == i for j in range(len(eu_countries))]},\n",
    "             {'title': f'Average Weekly Working Hours in {country} (2024)'}\n",
    "         ])\n",
    "    for i, country in enumerate(eu_countries)\n",
    "]\n",
    "\n",
    "fig.update_layout(\n",
    "    updatemenus=[{\n",
    "        'buttons': buttons,\n",
    "        'direction': 'down',\n",
    "        'x': 0.5,\n",
    "        'xanchor': 'center',\n",
    "        'y': 1.15,\n",
    "        'yanchor': 'top'\n",
    "    }],\n",
    "    title=f'Average Weekly Working Hours in {eu_countries[0]} (2024)',\n",
    "    xaxis_title='Sex',\n",
    "    yaxis_title='Average Weekly Hours',\n",
    "    yaxis=dict(tickformat=\".1f\", dtick=5)\n",
    ")\n",
    "\n",
    "fig.show()\n"
   ]
  },
  {
   "cell_type": "code",
   "execution_count": null,
   "id": "f6c49254-d229-42ca-b294-e607f0060eea",
   "metadata": {},
   "outputs": [],
   "source": []
  }
 ],
 "metadata": {
  "kernelspec": {
   "display_name": "Python [conda env:base] *",
   "language": "python",
   "name": "conda-base-py"
  },
  "language_info": {
   "codemirror_mode": {
    "name": "ipython",
    "version": 3
   },
   "file_extension": ".py",
   "mimetype": "text/x-python",
   "name": "python",
   "nbconvert_exporter": "python",
   "pygments_lexer": "ipython3",
   "version": "3.12.4"
  }
 },
 "nbformat": 4,
 "nbformat_minor": 5
}
