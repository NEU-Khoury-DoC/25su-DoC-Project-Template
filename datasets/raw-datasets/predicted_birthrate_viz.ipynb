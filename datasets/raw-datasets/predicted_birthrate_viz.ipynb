{
 "cells": [
  {
   "cell_type": "code",
   "execution_count": 1,
   "id": "aff6ad40-510c-4f93-a5ab-5bc5fb307eef",
   "metadata": {},
   "outputs": [],
   "source": [
    "import plotly.graph_objects as go\n",
    "\n",
    "def plot_birthrate_with_prediction(df, country_name, predicted_value, predict_year=2024):\n",
    "    country_df = df[df['Country'] == country_name].copy()\n",
    "    country_df = country_df.sort_values('year')\n",
    "\n",
    "    # Get last actual data point before prediction\n",
    "    last_actual = country_df[country_df['year'] < predict_year].sort_values('year').iloc[-1]\n",
    "    last_year = last_actual['year']\n",
    "    last_value = last_actual['birth_rate_per_thousand']\n",
    "\n",
    "    fig = go.Figure()\n",
    "\n",
    "    # Plot actual birth rate\n",
    "    fig.add_trace(go.Scatter(\n",
    "        x=country_df[country_df['year'] < predict_year]['year'],\n",
    "        y=country_df[country_df['year'] < predict_year]['birth_rate_per_thousand'],\n",
    "        mode='lines+markers',\n",
    "        name='Actual Birth Rate',\n",
    "        line=dict(color='blue')\n",
    "    ))\n",
    "\n",
    "    # Plot predicted 2024 point\n",
    "    fig.add_trace(go.Scatter(\n",
    "        x=[predict_year],\n",
    "        y=[predicted_value],\n",
    "        mode='markers+text',\n",
    "        name='Predicted 2024',\n",
    "        marker=dict(color='red', size=10, symbol='diamond'),\n",
    "        text=[\"Predicted\"],\n",
    "        textposition='top center'\n",
    "    ))\n",
    "\n",
    "    # Connect last actual point to prediction with dashed line\n",
    "    fig.add_trace(go.Scatter(\n",
    "        x=[last_year, predict_year],\n",
    "        y=[last_value, predicted_value],\n",
    "        mode='lines',\n",
    "        name='Prediction Link',\n",
    "        line=dict(color='red', dash='dash')\n",
    "    ))\n",
    "\n",
    "    fig.update_layout(\n",
    "        title=f\"Birth Rate Over Time for {country_name}\",\n",
    "        xaxis_title=\"Year\",\n",
    "        yaxis_title=\"Birth Rate (per thousand)\",\n",
    "        template=\"plotly_white\"\n",
    "    )\n",
    "\n",
    "    fig.show()\n"
   ]
  },
  {
   "cell_type": "code",
   "execution_count": null,
   "id": "d8a42c91-c739-48d5-9223-539def882a11",
   "metadata": {},
   "outputs": [],
   "source": []
  }
 ],
 "metadata": {
  "kernelspec": {
   "display_name": "Python [conda env:base] *",
   "language": "python",
   "name": "conda-base-py"
  },
  "language_info": {
   "codemirror_mode": {
    "name": "ipython",
    "version": 3
   },
   "file_extension": ".py",
   "mimetype": "text/x-python",
   "name": "python",
   "nbconvert_exporter": "python",
   "pygments_lexer": "ipython3",
   "version": "3.12.4"
  }
 },
 "nbformat": 4,
 "nbformat_minor": 5
}
