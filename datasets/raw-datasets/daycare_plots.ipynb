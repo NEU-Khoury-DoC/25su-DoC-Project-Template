{
 "cells": [
  {
   "cell_type": "code",
   "execution_count": 9,
   "id": "8513ea69-e739-4dc8-8002-71581a89fcab",
   "metadata": {},
   "outputs": [
    {
     "data": {
      "application/vnd.plotly.v1+json": {
       "config": {
        "plotlyServerURL": "https://plot.ly"
       },
       "data": [
        {
         "mode": "lines+markers",
         "name": "AT",
         "type": "scatter",
         "visible": true,
         "x": [
          2015,
          2016,
          2017,
          2018,
          2019,
          2020,
          2021,
          2022,
          2023,
          2024,
          2025
         ],
         "y": [
          61,
          56.6,
          68.8,
          54,
          61.4,
          39.4,
          45.6,
          53.8,
          48.4,
          83.2,
          68
         ]
        },
        {
         "mode": "lines+markers",
         "name": "BE",
         "type": "scatter",
         "visible": false,
         "x": [
          2015,
          2016,
          2017,
          2018,
          2019,
          2020,
          2021,
          2022,
          2023,
          2024,
          2025
         ],
         "y": [
          74,
          42.5,
          65.5,
          43.5,
          69,
          79,
          67.5,
          67,
          93,
          57.5,
          71
         ]
        },
        {
         "mode": "lines+markers",
         "name": "BG",
         "type": "scatter",
         "visible": false,
         "x": [
          2015,
          2016,
          2017,
          2018,
          2019,
          2020,
          2021,
          2022,
          2023,
          2024,
          2025
         ],
         "y": [
          65,
          60,
          66.33333333333333,
          56,
          64.5,
          67.5,
          66.66666666666667,
          63.833333333333336,
          55,
          62,
          54.166666666666664
         ]
        },
        {
         "mode": "lines+markers",
         "name": "CZ",
         "type": "scatter",
         "visible": false,
         "x": [
          2015,
          2016,
          2017,
          2018,
          2019,
          2020,
          2021,
          2022,
          2023,
          2024,
          2025
         ],
         "y": [
          33,
          60,
          58,
          57,
          27,
          68,
          34,
          22,
          93,
          20,
          50
         ]
        },
        {
         "mode": "lines+markers",
         "name": "DE",
         "type": "scatter",
         "visible": false,
         "x": [
          2015,
          2016,
          2017,
          2018,
          2019,
          2020,
          2021,
          2022,
          2023,
          2024,
          2025
         ],
         "y": [
          49.5,
          51.833333333333336,
          55.666666666666664,
          62.166666666666664,
          57,
          62.666666666666664,
          58.5,
          66.66666666666667,
          57.833333333333336,
          63.333333333333336,
          62
         ]
        },
        {
         "mode": "lines+markers",
         "name": "DK",
         "type": "scatter",
         "visible": false,
         "x": [
          2015,
          2016,
          2017,
          2018,
          2019,
          2020,
          2021,
          2022,
          2023,
          2024,
          2025
         ],
         "y": [
          66.66666666666667,
          93,
          55.666666666666664,
          51.333333333333336,
          43.666666666666664,
          87.66666666666667,
          48.333333333333336,
          54,
          85,
          71.66666666666667,
          66
         ]
        },
        {
         "mode": "lines+markers",
         "name": "EE",
         "type": "scatter",
         "visible": false,
         "x": [
          2015,
          2016,
          2017,
          2018,
          2019,
          2020,
          2021,
          2022,
          2023,
          2024,
          2025
         ],
         "y": [
          50.5,
          78.5,
          41,
          61.5,
          35,
          59.5,
          49.5,
          82.5,
          27.5,
          60,
          51
         ]
        },
        {
         "mode": "lines+markers",
         "name": "ES",
         "type": "scatter",
         "visible": false,
         "x": [
          2015,
          2016,
          2017,
          2018,
          2019,
          2020,
          2021,
          2022,
          2023,
          2024,
          2025
         ],
         "y": [
          53.285714285714285,
          57.857142857142854,
          60.714285714285715,
          46.714285714285715,
          63.714285714285715,
          55.42857142857143,
          49.714285714285715,
          63.285714285714285,
          47.714285714285715,
          61.57142857142857,
          58.42857142857143
         ]
        },
        {
         "mode": "lines+markers",
         "name": "FI",
         "type": "scatter",
         "visible": false,
         "x": [
          2015,
          2016,
          2017,
          2018,
          2019,
          2020,
          2021,
          2022,
          2023,
          2024,
          2025
         ],
         "y": [
          92,
          100,
          42,
          29,
          86,
          97,
          36,
          64,
          82,
          63,
          37
         ]
        },
        {
         "mode": "lines+markers",
         "name": "FR",
         "type": "scatter",
         "visible": false,
         "x": [
          2015,
          2016,
          2017,
          2018,
          2019,
          2020,
          2021,
          2022,
          2023,
          2024,
          2025
         ],
         "y": [
          69.42857142857143,
          59.57142857142857,
          59.285714285714285,
          46.57142857142857,
          74.57142857142857,
          69,
          60,
          72.14285714285714,
          58.285714285714285,
          51,
          74.57142857142857
         ]
        },
        {
         "mode": "lines+markers",
         "name": "GR",
         "type": "scatter",
         "visible": false,
         "x": [
          2015,
          2016,
          2017,
          2018,
          2019,
          2020,
          2021,
          2022,
          2023,
          2024,
          2025
         ],
         "y": [
          80,
          45,
          45.5,
          45,
          27.5,
          63,
          63.5,
          60.5,
          44,
          38,
          41
         ]
        },
        {
         "mode": "lines+markers",
         "name": "HR",
         "type": "scatter",
         "visible": false,
         "x": [
          2015,
          2016,
          2017,
          2018,
          2019,
          2020,
          2021,
          2022,
          2023,
          2024,
          2025
         ],
         "y": [
          65.66666666666667,
          52.333333333333336,
          57.666666666666664,
          68.66666666666667,
          73.66666666666667,
          60,
          52,
          46.333333333333336,
          50,
          68.66666666666667,
          51.333333333333336
         ]
        },
        {
         "mode": "lines+markers",
         "name": "HU",
         "type": "scatter",
         "visible": false,
         "x": [
          2015,
          2016,
          2017,
          2018,
          2019,
          2020,
          2021,
          2022,
          2023,
          2024,
          2025
         ],
         "y": [
          97,
          59,
          64,
          63,
          81,
          85,
          99,
          65,
          97,
          38,
          77
         ]
        },
        {
         "mode": "lines+markers",
         "name": "IE",
         "type": "scatter",
         "visible": false,
         "x": [
          2015,
          2016,
          2017,
          2018,
          2019,
          2020,
          2021,
          2022,
          2023,
          2024,
          2025
         ],
         "y": [
          50.22222222222222,
          63.333333333333336,
          57.888888888888886,
          58.55555555555556,
          69.66666666666667,
          61.888888888888886,
          57.111111111111114,
          69,
          62.77777777777778,
          59.111111111111114,
          61.888888888888886
         ]
        },
        {
         "mode": "lines+markers",
         "name": "IT",
         "type": "scatter",
         "visible": false,
         "x": [
          2015,
          2016,
          2017,
          2018,
          2019,
          2020,
          2021,
          2022,
          2023,
          2024,
          2025
         ],
         "y": [
          66.6,
          49.2,
          64,
          68,
          51.2,
          56,
          52.4,
          77.6,
          47,
          48,
          62.4
         ]
        },
        {
         "mode": "lines+markers",
         "name": "LT",
         "type": "scatter",
         "visible": false,
         "x": [
          2015,
          2016,
          2017,
          2018,
          2019,
          2020,
          2021,
          2022,
          2023,
          2024,
          2025
         ],
         "y": [
          63,
          99,
          29,
          75,
          78,
          84,
          87,
          59,
          69,
          51,
          64
         ]
        },
        {
         "mode": "lines+markers",
         "name": "LU",
         "type": "scatter",
         "visible": false,
         "x": [
          2015,
          2016,
          2017,
          2018,
          2019,
          2020,
          2021,
          2022,
          2023,
          2024,
          2025
         ],
         "y": [
          77.66666666666667,
          56.333333333333336,
          57.333333333333336,
          70.33333333333333,
          48,
          53.333333333333336,
          37.666666666666664,
          72.33333333333333,
          54,
          54.333333333333336,
          56
         ]
        },
        {
         "mode": "lines+markers",
         "name": "LV",
         "type": "scatter",
         "visible": false,
         "x": [
          2015,
          2016,
          2017,
          2018,
          2019,
          2020,
          2021,
          2022,
          2023,
          2024,
          2025
         ],
         "y": [
          64.6,
          33.4,
          46.4,
          44.2,
          66.4,
          61.8,
          59,
          68,
          88.4,
          62.6,
          56.2
         ]
        },
        {
         "mode": "lines+markers",
         "name": "MT",
         "type": "scatter",
         "visible": false,
         "x": [
          2015,
          2016,
          2017,
          2018,
          2019,
          2020,
          2021,
          2022,
          2023,
          2024,
          2025
         ],
         "y": [
          58.57142857142857,
          63.857142857142854,
          54.57142857142857,
          61.57142857142857,
          76.85714285714286,
          55,
          62.57142857142857,
          49.57142857142857,
          52.714285714285715,
          68,
          79
         ]
        },
        {
         "mode": "lines+markers",
         "name": "NL",
         "type": "scatter",
         "visible": false,
         "x": [
          2015,
          2016,
          2017,
          2018,
          2019,
          2020,
          2021,
          2022,
          2023,
          2024,
          2025
         ],
         "y": [
          60.4,
          66.6,
          70.6,
          48.2,
          83.8,
          50.8,
          51.2,
          53.2,
          55.4,
          45.6,
          71.6
         ]
        },
        {
         "mode": "lines+markers",
         "name": "PL",
         "type": "scatter",
         "visible": false,
         "x": [
          2015,
          2016,
          2017,
          2018,
          2019,
          2020,
          2021,
          2022,
          2023,
          2024,
          2025
         ],
         "y": [
          44.2,
          79.6,
          59.4,
          65,
          48.4,
          54,
          49.4,
          73.6,
          53.2,
          60.8,
          58.8
         ]
        },
        {
         "mode": "lines+markers",
         "name": "PT",
         "type": "scatter",
         "visible": false,
         "x": [
          2015,
          2016,
          2017,
          2018,
          2019,
          2020,
          2021,
          2022,
          2023,
          2024,
          2025
         ],
         "y": [
          28,
          25,
          26,
          53,
          65,
          68,
          22,
          61,
          79,
          49,
          98
         ]
        },
        {
         "mode": "lines+markers",
         "name": "RO",
         "type": "scatter",
         "visible": false,
         "x": [
          2015,
          2016,
          2017,
          2018,
          2019,
          2020,
          2021,
          2022,
          2023,
          2024,
          2025
         ],
         "y": [
          67,
          58,
          99,
          38,
          99,
          83,
          77,
          77,
          91,
          37,
          36
         ]
        },
        {
         "mode": "lines+markers",
         "name": "SE",
         "type": "scatter",
         "visible": false,
         "x": [
          2015,
          2016,
          2017,
          2018,
          2019,
          2020,
          2021,
          2022,
          2023,
          2024,
          2025
         ],
         "y": [
          61.2,
          60.8,
          60.4,
          50.4,
          49,
          45,
          46.8,
          71.4,
          65.4,
          64.8,
          69
         ]
        },
        {
         "mode": "lines+markers",
         "name": "SI",
         "type": "scatter",
         "visible": false,
         "x": [
          2015,
          2016,
          2017,
          2018,
          2019,
          2020,
          2021,
          2022,
          2023,
          2024,
          2025
         ],
         "y": [
          58.6,
          65.8,
          73.8,
          40.8,
          37.2,
          57,
          46.8,
          51,
          73.6,
          42.2,
          70.8
         ]
        },
        {
         "mode": "lines+markers",
         "name": "SK",
         "type": "scatter",
         "visible": false,
         "x": [
          2015,
          2016,
          2017,
          2018,
          2019,
          2020,
          2021,
          2022,
          2023,
          2024,
          2025
         ],
         "y": [
          50.5,
          80.5,
          54.5,
          30,
          45,
          81,
          69,
          59.5,
          55.5,
          59,
          67.5
         ]
        }
       ],
       "layout": {
        "autosize": true,
        "template": {
         "data": {
          "bar": [
           {
            "error_x": {
             "color": "#2a3f5f"
            },
            "error_y": {
             "color": "#2a3f5f"
            },
            "marker": {
             "line": {
              "color": "#E5ECF6",
              "width": 0.5
             },
             "pattern": {
              "fillmode": "overlay",
              "size": 10,
              "solidity": 0.2
             }
            },
            "type": "bar"
           }
          ],
          "barpolar": [
           {
            "marker": {
             "line": {
              "color": "#E5ECF6",
              "width": 0.5
             },
             "pattern": {
              "fillmode": "overlay",
              "size": 10,
              "solidity": 0.2
             }
            },
            "type": "barpolar"
           }
          ],
          "carpet": [
           {
            "aaxis": {
             "endlinecolor": "#2a3f5f",
             "gridcolor": "white",
             "linecolor": "white",
             "minorgridcolor": "white",
             "startlinecolor": "#2a3f5f"
            },
            "baxis": {
             "endlinecolor": "#2a3f5f",
             "gridcolor": "white",
             "linecolor": "white",
             "minorgridcolor": "white",
             "startlinecolor": "#2a3f5f"
            },
            "type": "carpet"
           }
          ],
          "choropleth": [
           {
            "colorbar": {
             "outlinewidth": 0,
             "ticks": ""
            },
            "type": "choropleth"
           }
          ],
          "contour": [
           {
            "colorbar": {
             "outlinewidth": 0,
             "ticks": ""
            },
            "colorscale": [
             [
              0,
              "#0d0887"
             ],
             [
              0.1111111111111111,
              "#46039f"
             ],
             [
              0.2222222222222222,
              "#7201a8"
             ],
             [
              0.3333333333333333,
              "#9c179e"
             ],
             [
              0.4444444444444444,
              "#bd3786"
             ],
             [
              0.5555555555555556,
              "#d8576b"
             ],
             [
              0.6666666666666666,
              "#ed7953"
             ],
             [
              0.7777777777777778,
              "#fb9f3a"
             ],
             [
              0.8888888888888888,
              "#fdca26"
             ],
             [
              1,
              "#f0f921"
             ]
            ],
            "type": "contour"
           }
          ],
          "contourcarpet": [
           {
            "colorbar": {
             "outlinewidth": 0,
             "ticks": ""
            },
            "type": "contourcarpet"
           }
          ],
          "heatmap": [
           {
            "colorbar": {
             "outlinewidth": 0,
             "ticks": ""
            },
            "colorscale": [
             [
              0,
              "#0d0887"
             ],
             [
              0.1111111111111111,
              "#46039f"
             ],
             [
              0.2222222222222222,
              "#7201a8"
             ],
             [
              0.3333333333333333,
              "#9c179e"
             ],
             [
              0.4444444444444444,
              "#bd3786"
             ],
             [
              0.5555555555555556,
              "#d8576b"
             ],
             [
              0.6666666666666666,
              "#ed7953"
             ],
             [
              0.7777777777777778,
              "#fb9f3a"
             ],
             [
              0.8888888888888888,
              "#fdca26"
             ],
             [
              1,
              "#f0f921"
             ]
            ],
            "type": "heatmap"
           }
          ],
          "heatmapgl": [
           {
            "colorbar": {
             "outlinewidth": 0,
             "ticks": ""
            },
            "colorscale": [
             [
              0,
              "#0d0887"
             ],
             [
              0.1111111111111111,
              "#46039f"
             ],
             [
              0.2222222222222222,
              "#7201a8"
             ],
             [
              0.3333333333333333,
              "#9c179e"
             ],
             [
              0.4444444444444444,
              "#bd3786"
             ],
             [
              0.5555555555555556,
              "#d8576b"
             ],
             [
              0.6666666666666666,
              "#ed7953"
             ],
             [
              0.7777777777777778,
              "#fb9f3a"
             ],
             [
              0.8888888888888888,
              "#fdca26"
             ],
             [
              1,
              "#f0f921"
             ]
            ],
            "type": "heatmapgl"
           }
          ],
          "histogram": [
           {
            "marker": {
             "pattern": {
              "fillmode": "overlay",
              "size": 10,
              "solidity": 0.2
             }
            },
            "type": "histogram"
           }
          ],
          "histogram2d": [
           {
            "colorbar": {
             "outlinewidth": 0,
             "ticks": ""
            },
            "colorscale": [
             [
              0,
              "#0d0887"
             ],
             [
              0.1111111111111111,
              "#46039f"
             ],
             [
              0.2222222222222222,
              "#7201a8"
             ],
             [
              0.3333333333333333,
              "#9c179e"
             ],
             [
              0.4444444444444444,
              "#bd3786"
             ],
             [
              0.5555555555555556,
              "#d8576b"
             ],
             [
              0.6666666666666666,
              "#ed7953"
             ],
             [
              0.7777777777777778,
              "#fb9f3a"
             ],
             [
              0.8888888888888888,
              "#fdca26"
             ],
             [
              1,
              "#f0f921"
             ]
            ],
            "type": "histogram2d"
           }
          ],
          "histogram2dcontour": [
           {
            "colorbar": {
             "outlinewidth": 0,
             "ticks": ""
            },
            "colorscale": [
             [
              0,
              "#0d0887"
             ],
             [
              0.1111111111111111,
              "#46039f"
             ],
             [
              0.2222222222222222,
              "#7201a8"
             ],
             [
              0.3333333333333333,
              "#9c179e"
             ],
             [
              0.4444444444444444,
              "#bd3786"
             ],
             [
              0.5555555555555556,
              "#d8576b"
             ],
             [
              0.6666666666666666,
              "#ed7953"
             ],
             [
              0.7777777777777778,
              "#fb9f3a"
             ],
             [
              0.8888888888888888,
              "#fdca26"
             ],
             [
              1,
              "#f0f921"
             ]
            ],
            "type": "histogram2dcontour"
           }
          ],
          "mesh3d": [
           {
            "colorbar": {
             "outlinewidth": 0,
             "ticks": ""
            },
            "type": "mesh3d"
           }
          ],
          "parcoords": [
           {
            "line": {
             "colorbar": {
              "outlinewidth": 0,
              "ticks": ""
             }
            },
            "type": "parcoords"
           }
          ],
          "pie": [
           {
            "automargin": true,
            "type": "pie"
           }
          ],
          "scatter": [
           {
            "fillpattern": {
             "fillmode": "overlay",
             "size": 10,
             "solidity": 0.2
            },
            "type": "scatter"
           }
          ],
          "scatter3d": [
           {
            "line": {
             "colorbar": {
              "outlinewidth": 0,
              "ticks": ""
             }
            },
            "marker": {
             "colorbar": {
              "outlinewidth": 0,
              "ticks": ""
             }
            },
            "type": "scatter3d"
           }
          ],
          "scattercarpet": [
           {
            "marker": {
             "colorbar": {
              "outlinewidth": 0,
              "ticks": ""
             }
            },
            "type": "scattercarpet"
           }
          ],
          "scattergeo": [
           {
            "marker": {
             "colorbar": {
              "outlinewidth": 0,
              "ticks": ""
             }
            },
            "type": "scattergeo"
           }
          ],
          "scattergl": [
           {
            "marker": {
             "colorbar": {
              "outlinewidth": 0,
              "ticks": ""
             }
            },
            "type": "scattergl"
           }
          ],
          "scattermapbox": [
           {
            "marker": {
             "colorbar": {
              "outlinewidth": 0,
              "ticks": ""
             }
            },
            "type": "scattermapbox"
           }
          ],
          "scatterpolar": [
           {
            "marker": {
             "colorbar": {
              "outlinewidth": 0,
              "ticks": ""
             }
            },
            "type": "scatterpolar"
           }
          ],
          "scatterpolargl": [
           {
            "marker": {
             "colorbar": {
              "outlinewidth": 0,
              "ticks": ""
             }
            },
            "type": "scatterpolargl"
           }
          ],
          "scatterternary": [
           {
            "marker": {
             "colorbar": {
              "outlinewidth": 0,
              "ticks": ""
             }
            },
            "type": "scatterternary"
           }
          ],
          "surface": [
           {
            "colorbar": {
             "outlinewidth": 0,
             "ticks": ""
            },
            "colorscale": [
             [
              0,
              "#0d0887"
             ],
             [
              0.1111111111111111,
              "#46039f"
             ],
             [
              0.2222222222222222,
              "#7201a8"
             ],
             [
              0.3333333333333333,
              "#9c179e"
             ],
             [
              0.4444444444444444,
              "#bd3786"
             ],
             [
              0.5555555555555556,
              "#d8576b"
             ],
             [
              0.6666666666666666,
              "#ed7953"
             ],
             [
              0.7777777777777778,
              "#fb9f3a"
             ],
             [
              0.8888888888888888,
              "#fdca26"
             ],
             [
              1,
              "#f0f921"
             ]
            ],
            "type": "surface"
           }
          ],
          "table": [
           {
            "cells": {
             "fill": {
              "color": "#EBF0F8"
             },
             "line": {
              "color": "white"
             }
            },
            "header": {
             "fill": {
              "color": "#C8D4E3"
             },
             "line": {
              "color": "white"
             }
            },
            "type": "table"
           }
          ]
         },
         "layout": {
          "annotationdefaults": {
           "arrowcolor": "#2a3f5f",
           "arrowhead": 0,
           "arrowwidth": 1
          },
          "autotypenumbers": "strict",
          "coloraxis": {
           "colorbar": {
            "outlinewidth": 0,
            "ticks": ""
           }
          },
          "colorscale": {
           "diverging": [
            [
             0,
             "#8e0152"
            ],
            [
             0.1,
             "#c51b7d"
            ],
            [
             0.2,
             "#de77ae"
            ],
            [
             0.3,
             "#f1b6da"
            ],
            [
             0.4,
             "#fde0ef"
            ],
            [
             0.5,
             "#f7f7f7"
            ],
            [
             0.6,
             "#e6f5d0"
            ],
            [
             0.7,
             "#b8e186"
            ],
            [
             0.8,
             "#7fbc41"
            ],
            [
             0.9,
             "#4d9221"
            ],
            [
             1,
             "#276419"
            ]
           ],
           "sequential": [
            [
             0,
             "#0d0887"
            ],
            [
             0.1111111111111111,
             "#46039f"
            ],
            [
             0.2222222222222222,
             "#7201a8"
            ],
            [
             0.3333333333333333,
             "#9c179e"
            ],
            [
             0.4444444444444444,
             "#bd3786"
            ],
            [
             0.5555555555555556,
             "#d8576b"
            ],
            [
             0.6666666666666666,
             "#ed7953"
            ],
            [
             0.7777777777777778,
             "#fb9f3a"
            ],
            [
             0.8888888888888888,
             "#fdca26"
            ],
            [
             1,
             "#f0f921"
            ]
           ],
           "sequentialminus": [
            [
             0,
             "#0d0887"
            ],
            [
             0.1111111111111111,
             "#46039f"
            ],
            [
             0.2222222222222222,
             "#7201a8"
            ],
            [
             0.3333333333333333,
             "#9c179e"
            ],
            [
             0.4444444444444444,
             "#bd3786"
            ],
            [
             0.5555555555555556,
             "#d8576b"
            ],
            [
             0.6666666666666666,
             "#ed7953"
            ],
            [
             0.7777777777777778,
             "#fb9f3a"
            ],
            [
             0.8888888888888888,
             "#fdca26"
            ],
            [
             1,
             "#f0f921"
            ]
           ]
          },
          "colorway": [
           "#636efa",
           "#EF553B",
           "#00cc96",
           "#ab63fa",
           "#FFA15A",
           "#19d3f3",
           "#FF6692",
           "#B6E880",
           "#FF97FF",
           "#FECB52"
          ],
          "font": {
           "color": "#2a3f5f"
          },
          "geo": {
           "bgcolor": "white",
           "lakecolor": "white",
           "landcolor": "#E5ECF6",
           "showlakes": true,
           "showland": true,
           "subunitcolor": "white"
          },
          "hoverlabel": {
           "align": "left"
          },
          "hovermode": "closest",
          "mapbox": {
           "style": "light"
          },
          "paper_bgcolor": "white",
          "plot_bgcolor": "#E5ECF6",
          "polar": {
           "angularaxis": {
            "gridcolor": "white",
            "linecolor": "white",
            "ticks": ""
           },
           "bgcolor": "#E5ECF6",
           "radialaxis": {
            "gridcolor": "white",
            "linecolor": "white",
            "ticks": ""
           }
          },
          "scene": {
           "xaxis": {
            "backgroundcolor": "#E5ECF6",
            "gridcolor": "white",
            "gridwidth": 2,
            "linecolor": "white",
            "showbackground": true,
            "ticks": "",
            "zerolinecolor": "white"
           },
           "yaxis": {
            "backgroundcolor": "#E5ECF6",
            "gridcolor": "white",
            "gridwidth": 2,
            "linecolor": "white",
            "showbackground": true,
            "ticks": "",
            "zerolinecolor": "white"
           },
           "zaxis": {
            "backgroundcolor": "#E5ECF6",
            "gridcolor": "white",
            "gridwidth": 2,
            "linecolor": "white",
            "showbackground": true,
            "ticks": "",
            "zerolinecolor": "white"
           }
          },
          "shapedefaults": {
           "line": {
            "color": "#2a3f5f"
           }
          },
          "ternary": {
           "aaxis": {
            "gridcolor": "white",
            "linecolor": "white",
            "ticks": ""
           },
           "baxis": {
            "gridcolor": "white",
            "linecolor": "white",
            "ticks": ""
           },
           "bgcolor": "#E5ECF6",
           "caxis": {
            "gridcolor": "white",
            "linecolor": "white",
            "ticks": ""
           }
          },
          "title": {
           "x": 0.05
          },
          "xaxis": {
           "automargin": true,
           "gridcolor": "white",
           "linecolor": "white",
           "ticks": "",
           "title": {
            "standoff": 15
           },
           "zerolinecolor": "white",
           "zerolinewidth": 2
          },
          "yaxis": {
           "automargin": true,
           "gridcolor": "white",
           "linecolor": "white",
           "ticks": "",
           "title": {
            "standoff": 15
           },
           "zerolinecolor": "white",
           "zerolinewidth": 2
          }
         }
        },
        "title": {
         "text": "Avg Enrollment Over Time – AT"
        },
        "updatemenus": [
         {
          "buttons": [
           {
            "args": [
             {
              "visible": [
               true,
               false,
               false,
               false,
               false,
               false,
               false,
               false,
               false,
               false,
               false,
               false,
               false,
               false,
               false,
               false,
               false,
               false,
               false,
               false,
               false,
               false,
               false,
               false,
               false,
               false
              ]
             },
             {
              "title": "Avg Enrollment Over Time – AT"
             }
            ],
            "label": "AT",
            "method": "update"
           },
           {
            "args": [
             {
              "visible": [
               false,
               true,
               false,
               false,
               false,
               false,
               false,
               false,
               false,
               false,
               false,
               false,
               false,
               false,
               false,
               false,
               false,
               false,
               false,
               false,
               false,
               false,
               false,
               false,
               false,
               false
              ]
             },
             {
              "title": "Avg Enrollment Over Time – BE"
             }
            ],
            "label": "BE",
            "method": "update"
           },
           {
            "args": [
             {
              "visible": [
               false,
               false,
               true,
               false,
               false,
               false,
               false,
               false,
               false,
               false,
               false,
               false,
               false,
               false,
               false,
               false,
               false,
               false,
               false,
               false,
               false,
               false,
               false,
               false,
               false,
               false
              ]
             },
             {
              "title": "Avg Enrollment Over Time – BG"
             }
            ],
            "label": "BG",
            "method": "update"
           },
           {
            "args": [
             {
              "visible": [
               false,
               false,
               false,
               true,
               false,
               false,
               false,
               false,
               false,
               false,
               false,
               false,
               false,
               false,
               false,
               false,
               false,
               false,
               false,
               false,
               false,
               false,
               false,
               false,
               false,
               false
              ]
             },
             {
              "title": "Avg Enrollment Over Time – CZ"
             }
            ],
            "label": "CZ",
            "method": "update"
           },
           {
            "args": [
             {
              "visible": [
               false,
               false,
               false,
               false,
               true,
               false,
               false,
               false,
               false,
               false,
               false,
               false,
               false,
               false,
               false,
               false,
               false,
               false,
               false,
               false,
               false,
               false,
               false,
               false,
               false,
               false
              ]
             },
             {
              "title": "Avg Enrollment Over Time – DE"
             }
            ],
            "label": "DE",
            "method": "update"
           },
           {
            "args": [
             {
              "visible": [
               false,
               false,
               false,
               false,
               false,
               true,
               false,
               false,
               false,
               false,
               false,
               false,
               false,
               false,
               false,
               false,
               false,
               false,
               false,
               false,
               false,
               false,
               false,
               false,
               false,
               false
              ]
             },
             {
              "title": "Avg Enrollment Over Time – DK"
             }
            ],
            "label": "DK",
            "method": "update"
           },
           {
            "args": [
             {
              "visible": [
               false,
               false,
               false,
               false,
               false,
               false,
               true,
               false,
               false,
               false,
               false,
               false,
               false,
               false,
               false,
               false,
               false,
               false,
               false,
               false,
               false,
               false,
               false,
               false,
               false,
               false
              ]
             },
             {
              "title": "Avg Enrollment Over Time – EE"
             }
            ],
            "label": "EE",
            "method": "update"
           },
           {
            "args": [
             {
              "visible": [
               false,
               false,
               false,
               false,
               false,
               false,
               false,
               true,
               false,
               false,
               false,
               false,
               false,
               false,
               false,
               false,
               false,
               false,
               false,
               false,
               false,
               false,
               false,
               false,
               false,
               false
              ]
             },
             {
              "title": "Avg Enrollment Over Time – ES"
             }
            ],
            "label": "ES",
            "method": "update"
           },
           {
            "args": [
             {
              "visible": [
               false,
               false,
               false,
               false,
               false,
               false,
               false,
               false,
               true,
               false,
               false,
               false,
               false,
               false,
               false,
               false,
               false,
               false,
               false,
               false,
               false,
               false,
               false,
               false,
               false,
               false
              ]
             },
             {
              "title": "Avg Enrollment Over Time – FI"
             }
            ],
            "label": "FI",
            "method": "update"
           },
           {
            "args": [
             {
              "visible": [
               false,
               false,
               false,
               false,
               false,
               false,
               false,
               false,
               false,
               true,
               false,
               false,
               false,
               false,
               false,
               false,
               false,
               false,
               false,
               false,
               false,
               false,
               false,
               false,
               false,
               false
              ]
             },
             {
              "title": "Avg Enrollment Over Time – FR"
             }
            ],
            "label": "FR",
            "method": "update"
           },
           {
            "args": [
             {
              "visible": [
               false,
               false,
               false,
               false,
               false,
               false,
               false,
               false,
               false,
               false,
               true,
               false,
               false,
               false,
               false,
               false,
               false,
               false,
               false,
               false,
               false,
               false,
               false,
               false,
               false,
               false
              ]
             },
             {
              "title": "Avg Enrollment Over Time – GR"
             }
            ],
            "label": "GR",
            "method": "update"
           },
           {
            "args": [
             {
              "visible": [
               false,
               false,
               false,
               false,
               false,
               false,
               false,
               false,
               false,
               false,
               false,
               true,
               false,
               false,
               false,
               false,
               false,
               false,
               false,
               false,
               false,
               false,
               false,
               false,
               false,
               false
              ]
             },
             {
              "title": "Avg Enrollment Over Time – HR"
             }
            ],
            "label": "HR",
            "method": "update"
           },
           {
            "args": [
             {
              "visible": [
               false,
               false,
               false,
               false,
               false,
               false,
               false,
               false,
               false,
               false,
               false,
               false,
               true,
               false,
               false,
               false,
               false,
               false,
               false,
               false,
               false,
               false,
               false,
               false,
               false,
               false
              ]
             },
             {
              "title": "Avg Enrollment Over Time – HU"
             }
            ],
            "label": "HU",
            "method": "update"
           },
           {
            "args": [
             {
              "visible": [
               false,
               false,
               false,
               false,
               false,
               false,
               false,
               false,
               false,
               false,
               false,
               false,
               false,
               true,
               false,
               false,
               false,
               false,
               false,
               false,
               false,
               false,
               false,
               false,
               false,
               false
              ]
             },
             {
              "title": "Avg Enrollment Over Time – IE"
             }
            ],
            "label": "IE",
            "method": "update"
           },
           {
            "args": [
             {
              "visible": [
               false,
               false,
               false,
               false,
               false,
               false,
               false,
               false,
               false,
               false,
               false,
               false,
               false,
               false,
               true,
               false,
               false,
               false,
               false,
               false,
               false,
               false,
               false,
               false,
               false,
               false
              ]
             },
             {
              "title": "Avg Enrollment Over Time – IT"
             }
            ],
            "label": "IT",
            "method": "update"
           },
           {
            "args": [
             {
              "visible": [
               false,
               false,
               false,
               false,
               false,
               false,
               false,
               false,
               false,
               false,
               false,
               false,
               false,
               false,
               false,
               true,
               false,
               false,
               false,
               false,
               false,
               false,
               false,
               false,
               false,
               false
              ]
             },
             {
              "title": "Avg Enrollment Over Time – LT"
             }
            ],
            "label": "LT",
            "method": "update"
           },
           {
            "args": [
             {
              "visible": [
               false,
               false,
               false,
               false,
               false,
               false,
               false,
               false,
               false,
               false,
               false,
               false,
               false,
               false,
               false,
               false,
               true,
               false,
               false,
               false,
               false,
               false,
               false,
               false,
               false,
               false
              ]
             },
             {
              "title": "Avg Enrollment Over Time – LU"
             }
            ],
            "label": "LU",
            "method": "update"
           },
           {
            "args": [
             {
              "visible": [
               false,
               false,
               false,
               false,
               false,
               false,
               false,
               false,
               false,
               false,
               false,
               false,
               false,
               false,
               false,
               false,
               false,
               true,
               false,
               false,
               false,
               false,
               false,
               false,
               false,
               false
              ]
             },
             {
              "title": "Avg Enrollment Over Time – LV"
             }
            ],
            "label": "LV",
            "method": "update"
           },
           {
            "args": [
             {
              "visible": [
               false,
               false,
               false,
               false,
               false,
               false,
               false,
               false,
               false,
               false,
               false,
               false,
               false,
               false,
               false,
               false,
               false,
               false,
               true,
               false,
               false,
               false,
               false,
               false,
               false,
               false
              ]
             },
             {
              "title": "Avg Enrollment Over Time – MT"
             }
            ],
            "label": "MT",
            "method": "update"
           },
           {
            "args": [
             {
              "visible": [
               false,
               false,
               false,
               false,
               false,
               false,
               false,
               false,
               false,
               false,
               false,
               false,
               false,
               false,
               false,
               false,
               false,
               false,
               false,
               true,
               false,
               false,
               false,
               false,
               false,
               false
              ]
             },
             {
              "title": "Avg Enrollment Over Time – NL"
             }
            ],
            "label": "NL",
            "method": "update"
           },
           {
            "args": [
             {
              "visible": [
               false,
               false,
               false,
               false,
               false,
               false,
               false,
               false,
               false,
               false,
               false,
               false,
               false,
               false,
               false,
               false,
               false,
               false,
               false,
               false,
               true,
               false,
               false,
               false,
               false,
               false
              ]
             },
             {
              "title": "Avg Enrollment Over Time – PL"
             }
            ],
            "label": "PL",
            "method": "update"
           },
           {
            "args": [
             {
              "visible": [
               false,
               false,
               false,
               false,
               false,
               false,
               false,
               false,
               false,
               false,
               false,
               false,
               false,
               false,
               false,
               false,
               false,
               false,
               false,
               false,
               false,
               true,
               false,
               false,
               false,
               false
              ]
             },
             {
              "title": "Avg Enrollment Over Time – PT"
             }
            ],
            "label": "PT",
            "method": "update"
           },
           {
            "args": [
             {
              "visible": [
               false,
               false,
               false,
               false,
               false,
               false,
               false,
               false,
               false,
               false,
               false,
               false,
               false,
               false,
               false,
               false,
               false,
               false,
               false,
               false,
               false,
               false,
               true,
               false,
               false,
               false
              ]
             },
             {
              "title": "Avg Enrollment Over Time – RO"
             }
            ],
            "label": "RO",
            "method": "update"
           },
           {
            "args": [
             {
              "visible": [
               false,
               false,
               false,
               false,
               false,
               false,
               false,
               false,
               false,
               false,
               false,
               false,
               false,
               false,
               false,
               false,
               false,
               false,
               false,
               false,
               false,
               false,
               false,
               true,
               false,
               false
              ]
             },
             {
              "title": "Avg Enrollment Over Time – SE"
             }
            ],
            "label": "SE",
            "method": "update"
           },
           {
            "args": [
             {
              "visible": [
               false,
               false,
               false,
               false,
               false,
               false,
               false,
               false,
               false,
               false,
               false,
               false,
               false,
               false,
               false,
               false,
               false,
               false,
               false,
               false,
               false,
               false,
               false,
               false,
               true,
               false
              ]
             },
             {
              "title": "Avg Enrollment Over Time – SI"
             }
            ],
            "label": "SI",
            "method": "update"
           },
           {
            "args": [
             {
              "visible": [
               false,
               false,
               false,
               false,
               false,
               false,
               false,
               false,
               false,
               false,
               false,
               false,
               false,
               false,
               false,
               false,
               false,
               false,
               false,
               false,
               false,
               false,
               false,
               false,
               false,
               true
              ]
             },
             {
              "title": "Avg Enrollment Over Time – SK"
             }
            ],
            "label": "SK",
            "method": "update"
           }
          ],
          "direction": "down",
          "showactive": true,
          "x": 0.05,
          "xanchor": "left",
          "y": 1.15,
          "yanchor": "top"
         }
        ],
        "xaxis": {
         "autorange": true,
         "range": [
          2014.3956943956944,
          2025.6043056043056
         ],
         "title": {
          "text": "Year"
         },
         "type": "linear"
        },
        "yaxis": {
         "autorange": true,
         "range": [
          36.31604278074866,
          86.28395721925133
         ],
         "title": {
          "text": "Average Enrollment"
         },
         "type": "linear"
        }
       }
      },
      "image/png": "[encoded data removed]",
      "text/html": [
       "<div>                            <div id=\"14cc2da9-b20a-499f-9908-99d16f997e01\" class=\"plotly-graph-div\" style=\"height:500px; width:100%;\"></div>            <script type=\"text/javascript\">                require([\"plotly\"], function(Plotly) {                    window.PLOTLYENV=window.PLOTLYENV || {};                                    if (document.getElementById(\"14cc2da9-b20a-499f-9908-99d16f997e01\")) {                    Plotly.newPlot(                        \"14cc2da9-b20a-499f-9908-99d16f997e01\",                        [{\"mode\":\"lines+markers\",\"name\":\"AT\",\"visible\":true,\"x\":[2015,2016,2017,2018,2019,2020,2021,2022,2023,2024,2025],\"y\":[61.0,56.6,68.8,54.0,61.4,39.4,45.6,53.8,48.4,83.2,68.0],\"type\":\"scatter\"},{\"mode\":\"lines+markers\",\"name\":\"BE\",\"visible\":false,\"x\":[2015,2016,2017,2018,2019,2020,2021,2022,2023,2024,2025],\"y\":[74.0,42.5,65.5,43.5,69.0,79.0,67.5,67.0,93.0,57.5,71.0],\"type\":\"scatter\"},{\"mode\":\"lines+markers\",\"name\":\"BG\",\"visible\":false,\"x\":[2015,2016,2017,2018,2019,2020,2021,2022,2023,2024,2025],\"y\":[65.0,60.0,66.33333333333333,56.0,64.5,67.5,66.66666666666667,63.833333333333336,55.0,62.0,54.166666666666664],\"type\":\"scatter\"},{\"mode\":\"lines+markers\",\"name\":\"CZ\",\"visible\":false,\"x\":[2015,2016,2017,2018,2019,2020,2021,2022,2023,2024,2025],\"y\":[33.0,60.0,58.0,57.0,27.0,68.0,34.0,22.0,93.0,20.0,50.0],\"type\":\"scatter\"},{\"mode\":\"lines+markers\",\"name\":\"DE\",\"visible\":false,\"x\":[2015,2016,2017,2018,2019,2020,2021,2022,2023,2024,2025],\"y\":[49.5,51.833333333333336,55.666666666666664,62.166666666666664,57.0,62.666666666666664,58.5,66.66666666666667,57.833333333333336,63.333333333333336,62.0],\"type\":\"scatter\"},{\"mode\":\"lines+markers\",\"name\":\"DK\",\"visible\":false,\"x\":[2015,2016,2017,2018,2019,2020,2021,2022,2023,2024,2025],\"y\":[66.66666666666667,93.0,55.666666666666664,51.333333333333336,43.666666666666664,87.66666666666667,48.333333333333336,54.0,85.0,71.66666666666667,66.0],\"type\":\"scatter\"},{\"mode\":\"lines+markers\",\"name\":\"EE\",\"visible\":false,\"x\":[2015,2016,2017,2018,2019,2020,2021,2022,2023,2024,2025],\"y\":[50.5,78.5,41.0,61.5,35.0,59.5,49.5,82.5,27.5,60.0,51.0],\"type\":\"scatter\"},{\"mode\":\"lines+markers\",\"name\":\"ES\",\"visible\":false,\"x\":[2015,2016,2017,2018,2019,2020,2021,2022,2023,2024,2025],\"y\":[53.285714285714285,57.857142857142854,60.714285714285715,46.714285714285715,63.714285714285715,55.42857142857143,49.714285714285715,63.285714285714285,47.714285714285715,61.57142857142857,58.42857142857143],\"type\":\"scatter\"},{\"mode\":\"lines+markers\",\"name\":\"FI\",\"visible\":false,\"x\":[2015,2016,2017,2018,2019,2020,2021,2022,2023,2024,2025],\"y\":[92.0,100.0,42.0,29.0,86.0,97.0,36.0,64.0,82.0,63.0,37.0],\"type\":\"scatter\"},{\"mode\":\"lines+markers\",\"name\":\"FR\",\"visible\":false,\"x\":[2015,2016,2017,2018,2019,2020,2021,2022,2023,2024,2025],\"y\":[69.42857142857143,59.57142857142857,59.285714285714285,46.57142857142857,74.57142857142857,69.0,60.0,72.14285714285714,58.285714285714285,51.0,74.57142857142857],\"type\":\"scatter\"},{\"mode\":\"lines+markers\",\"name\":\"GR\",\"visible\":false,\"x\":[2015,2016,2017,2018,2019,2020,2021,2022,2023,2024,2025],\"y\":[80.0,45.0,45.5,45.0,27.5,63.0,63.5,60.5,44.0,38.0,41.0],\"type\":\"scatter\"},{\"mode\":\"lines+markers\",\"name\":\"HR\",\"visible\":false,\"x\":[2015,2016,2017,2018,2019,2020,2021,2022,2023,2024,2025],\"y\":[65.66666666666667,52.333333333333336,57.666666666666664,68.66666666666667,73.66666666666667,60.0,52.0,46.333333333333336,50.0,68.66666666666667,51.333333333333336],\"type\":\"scatter\"},{\"mode\":\"lines+markers\",\"name\":\"HU\",\"visible\":false,\"x\":[2015,2016,2017,2018,2019,2020,2021,2022,2023,2024,2025],\"y\":[97.0,59.0,64.0,63.0,81.0,85.0,99.0,65.0,97.0,38.0,77.0],\"type\":\"scatter\"},{\"mode\":\"lines+markers\",\"name\":\"IE\",\"visible\":false,\"x\":[2015,2016,2017,2018,2019,2020,2021,2022,2023,2024,2025],\"y\":[50.22222222222222,63.333333333333336,57.888888888888886,58.55555555555556,69.66666666666667,61.888888888888886,57.111111111111114,69.0,62.77777777777778,59.111111111111114,61.888888888888886],\"type\":\"scatter\"},{\"mode\":\"lines+markers\",\"name\":\"IT\",\"visible\":false,\"x\":[2015,2016,2017,2018,2019,2020,2021,2022,2023,2024,2025],\"y\":[66.6,49.2,64.0,68.0,51.2,56.0,52.4,77.6,47.0,48.0,62.4],\"type\":\"scatter\"},{\"mode\":\"lines+markers\",\"name\":\"LT\",\"visible\":false,\"x\":[2015,2016,2017,2018,2019,2020,2021,2022,2023,2024,2025],\"y\":[63.0,99.0,29.0,75.0,78.0,84.0,87.0,59.0,69.0,51.0,64.0],\"type\":\"scatter\"},{\"mode\":\"lines+markers\",\"name\":\"LU\",\"visible\":false,\"x\":[2015,2016,2017,2018,2019,2020,2021,2022,2023,2024,2025],\"y\":[77.66666666666667,56.333333333333336,57.333333333333336,70.33333333333333,48.0,53.333333333333336,37.666666666666664,72.33333333333333,54.0,54.333333333333336,56.0],\"type\":\"scatter\"},{\"mode\":\"lines+markers\",\"name\":\"LV\",\"visible\":false,\"x\":[2015,2016,2017,2018,2019,2020,2021,2022,2023,2024,2025],\"y\":[64.6,33.4,46.4,44.2,66.4,61.8,59.0,68.0,88.4,62.6,56.2],\"type\":\"scatter\"},{\"mode\":\"lines+markers\",\"name\":\"MT\",\"visible\":false,\"x\":[2015,2016,2017,2018,2019,2020,2021,2022,2023,2024,2025],\"y\":[58.57142857142857,63.857142857142854,54.57142857142857,61.57142857142857,76.85714285714286,55.0,62.57142857142857,49.57142857142857,52.714285714285715,68.0,79.0],\"type\":\"scatter\"},{\"mode\":\"lines+markers\",\"name\":\"NL\",\"visible\":false,\"x\":[2015,2016,2017,2018,2019,2020,2021,2022,2023,2024,2025],\"y\":[60.4,66.6,70.6,48.2,83.8,50.8,51.2,53.2,55.4,45.6,71.6],\"type\":\"scatter\"},{\"mode\":\"lines+markers\",\"name\":\"PL\",\"visible\":false,\"x\":[2015,2016,2017,2018,2019,2020,2021,2022,2023,2024,2025],\"y\":[44.2,79.6,59.4,65.0,48.4,54.0,49.4,73.6,53.2,60.8,58.8],\"type\":\"scatter\"},{\"mode\":\"lines+markers\",\"name\":\"PT\",\"visible\":false,\"x\":[2015,2016,2017,2018,2019,2020,2021,2022,2023,2024,2025],\"y\":[28.0,25.0,26.0,53.0,65.0,68.0,22.0,61.0,79.0,49.0,98.0],\"type\":\"scatter\"},{\"mode\":\"lines+markers\",\"name\":\"RO\",\"visible\":false,\"x\":[2015,2016,2017,2018,2019,2020,2021,2022,2023,2024,2025],\"y\":[67.0,58.0,99.0,38.0,99.0,83.0,77.0,77.0,91.0,37.0,36.0],\"type\":\"scatter\"},{\"mode\":\"lines+markers\",\"name\":\"SE\",\"visible\":false,\"x\":[2015,2016,2017,2018,2019,2020,2021,2022,2023,2024,2025],\"y\":[61.2,60.8,60.4,50.4,49.0,45.0,46.8,71.4,65.4,64.8,69.0],\"type\":\"scatter\"},{\"mode\":\"lines+markers\",\"name\":\"SI\",\"visible\":false,\"x\":[2015,2016,2017,2018,2019,2020,2021,2022,2023,2024,2025],\"y\":[58.6,65.8,73.8,40.8,37.2,57.0,46.8,51.0,73.6,42.2,70.8],\"type\":\"scatter\"},{\"mode\":\"lines+markers\",\"name\":\"SK\",\"visible\":false,\"x\":[2015,2016,2017,2018,2019,2020,2021,2022,2023,2024,2025],\"y\":[50.5,80.5,54.5,30.0,45.0,81.0,69.0,59.5,55.5,59.0,67.5],\"type\":\"scatter\"}],                        {\"template\":{\"data\":{\"histogram2dcontour\":[{\"type\":\"histogram2dcontour\",\"colorbar\":{\"outlinewidth\":0,\"ticks\":\"\"},\"colorscale\":[[0.0,\"#0d0887\"],[0.1111111111111111,\"#46039f\"],[0.2222222222222222,\"#7201a8\"],[0.3333333333333333,\"#9c179e\"],[0.4444444444444444,\"#bd3786\"],[0.5555555555555556,\"#d8576b\"],[0.6666666666666666,\"#ed7953\"],[0.7777777777777778,\"#fb9f3a\"],[0.8888888888888888,\"#fdca26\"],[1.0,\"#f0f921\"]]}],\"choropleth\":[{\"type\":\"choropleth\",\"colorbar\":{\"outlinewidth\":0,\"ticks\":\"\"}}],\"histogram2d\":[{\"type\":\"histogram2d\",\"colorbar\":{\"outlinewidth\":0,\"ticks\":\"\"},\"colorscale\":[[0.0,\"#0d0887\"],[0.1111111111111111,\"#46039f\"],[0.2222222222222222,\"#7201a8\"],[0.3333333333333333,\"#9c179e\"],[0.4444444444444444,\"#bd3786\"],[0.5555555555555556,\"#d8576b\"],[0.6666666666666666,\"#ed7953\"],[0.7777777777777778,\"#fb9f3a\"],[0.8888888888888888,\"#fdca26\"],[1.0,\"#f0f921\"]]}],\"heatmap\":[{\"type\":\"heatmap\",\"colorbar\":{\"outlinewidth\":0,\"ticks\":\"\"},\"colorscale\":[[0.0,\"#0d0887\"],[0.1111111111111111,\"#46039f\"],[0.2222222222222222,\"#7201a8\"],[0.3333333333333333,\"#9c179e\"],[0.4444444444444444,\"#bd3786\"],[0.5555555555555556,\"#d8576b\"],[0.6666666666666666,\"#ed7953\"],[0.7777777777777778,\"#fb9f3a\"],[0.8888888888888888,\"#fdca26\"],[1.0,\"#f0f921\"]]}],\"heatmapgl\":[{\"type\":\"heatmapgl\",\"colorbar\":{\"outlinewidth\":0,\"ticks\":\"\"},\"colorscale\":[[0.0,\"#0d0887\"],[0.1111111111111111,\"#46039f\"],[0.2222222222222222,\"#7201a8\"],[0.3333333333333333,\"#9c179e\"],[0.4444444444444444,\"#bd3786\"],[0.5555555555555556,\"#d8576b\"],[0.6666666666666666,\"#ed7953\"],[0.7777777777777778,\"#fb9f3a\"],[0.8888888888888888,\"#fdca26\"],[1.0,\"#f0f921\"]]}],\"contourcarpet\":[{\"type\":\"contourcarpet\",\"colorbar\":{\"outlinewidth\":0,\"ticks\":\"\"}}],\"contour\":[{\"type\":\"contour\",\"colorbar\":{\"outlinewidth\":0,\"ticks\":\"\"},\"colorscale\":[[0.0,\"#0d0887\"],[0.1111111111111111,\"#46039f\"],[0.2222222222222222,\"#7201a8\"],[0.3333333333333333,\"#9c179e\"],[0.4444444444444444,\"#bd3786\"],[0.5555555555555556,\"#d8576b\"],[0.6666666666666666,\"#ed7953\"],[0.7777777777777778,\"#fb9f3a\"],[0.8888888888888888,\"#fdca26\"],[1.0,\"#f0f921\"]]}],\"surface\":[{\"type\":\"surface\",\"colorbar\":{\"outlinewidth\":0,\"ticks\":\"\"},\"colorscale\":[[0.0,\"#0d0887\"],[0.1111111111111111,\"#46039f\"],[0.2222222222222222,\"#7201a8\"],[0.3333333333333333,\"#9c179e\"],[0.4444444444444444,\"#bd3786\"],[0.5555555555555556,\"#d8576b\"],[0.6666666666666666,\"#ed7953\"],[0.7777777777777778,\"#fb9f3a\"],[0.8888888888888888,\"#fdca26\"],[1.0,\"#f0f921\"]]}],\"mesh3d\":[{\"type\":\"mesh3d\",\"colorbar\":{\"outlinewidth\":0,\"ticks\":\"\"}}],\"scatter\":[{\"fillpattern\":{\"fillmode\":\"overlay\",\"size\":10,\"solidity\":0.2},\"type\":\"scatter\"}],\"parcoords\":[{\"type\":\"parcoords\",\"line\":{\"colorbar\":{\"outlinewidth\":0,\"ticks\":\"\"}}}],\"scatterpolargl\":[{\"type\":\"scatterpolargl\",\"marker\":{\"colorbar\":{\"outlinewidth\":0,\"ticks\":\"\"}}}],\"bar\":[{\"error_x\":{\"color\":\"#2a3f5f\"},\"error_y\":{\"color\":\"#2a3f5f\"},\"marker\":{\"line\":{\"color\":\"#E5ECF6\",\"width\":0.5},\"pattern\":{\"fillmode\":\"overlay\",\"size\":10,\"solidity\":0.2}},\"type\":\"bar\"}],\"scattergeo\":[{\"type\":\"scattergeo\",\"marker\":{\"colorbar\":{\"outlinewidth\":0,\"ticks\":\"\"}}}],\"scatterpolar\":[{\"type\":\"scatterpolar\",\"marker\":{\"colorbar\":{\"outlinewidth\":0,\"ticks\":\"\"}}}],\"histogram\":[{\"marker\":{\"pattern\":{\"fillmode\":\"overlay\",\"size\":10,\"solidity\":0.2}},\"type\":\"histogram\"}],\"scattergl\":[{\"type\":\"scattergl\",\"marker\":{\"colorbar\":{\"outlinewidth\":0,\"ticks\":\"\"}}}],\"scatter3d\":[{\"type\":\"scatter3d\",\"line\":{\"colorbar\":{\"outlinewidth\":0,\"ticks\":\"\"}},\"marker\":{\"colorbar\":{\"outlinewidth\":0,\"ticks\":\"\"}}}],\"scattermapbox\":[{\"type\":\"scattermapbox\",\"marker\":{\"colorbar\":{\"outlinewidth\":0,\"ticks\":\"\"}}}],\"scatterternary\":[{\"type\":\"scatterternary\",\"marker\":{\"colorbar\":{\"outlinewidth\":0,\"ticks\":\"\"}}}],\"scattercarpet\":[{\"type\":\"scattercarpet\",\"marker\":{\"colorbar\":{\"outlinewidth\":0,\"ticks\":\"\"}}}],\"carpet\":[{\"aaxis\":{\"endlinecolor\":\"#2a3f5f\",\"gridcolor\":\"white\",\"linecolor\":\"white\",\"minorgridcolor\":\"white\",\"startlinecolor\":\"#2a3f5f\"},\"baxis\":{\"endlinecolor\":\"#2a3f5f\",\"gridcolor\":\"white\",\"linecolor\":\"white\",\"minorgridcolor\":\"white\",\"startlinecolor\":\"#2a3f5f\"},\"type\":\"carpet\"}],\"table\":[{\"cells\":{\"fill\":{\"color\":\"#EBF0F8\"},\"line\":{\"color\":\"white\"}},\"header\":{\"fill\":{\"color\":\"#C8D4E3\"},\"line\":{\"color\":\"white\"}},\"type\":\"table\"}],\"barpolar\":[{\"marker\":{\"line\":{\"color\":\"#E5ECF6\",\"width\":0.5},\"pattern\":{\"fillmode\":\"overlay\",\"size\":10,\"solidity\":0.2}},\"type\":\"barpolar\"}],\"pie\":[{\"automargin\":true,\"type\":\"pie\"}]},\"layout\":{\"autotypenumbers\":\"strict\",\"colorway\":[\"#636efa\",\"#EF553B\",\"#00cc96\",\"#ab63fa\",\"#FFA15A\",\"#19d3f3\",\"#FF6692\",\"#B6E880\",\"#FF97FF\",\"#FECB52\"],\"font\":{\"color\":\"#2a3f5f\"},\"hovermode\":\"closest\",\"hoverlabel\":{\"align\":\"left\"},\"paper_bgcolor\":\"white\",\"plot_bgcolor\":\"#E5ECF6\",\"polar\":{\"bgcolor\":\"#E5ECF6\",\"angularaxis\":{\"gridcolor\":\"white\",\"linecolor\":\"white\",\"ticks\":\"\"},\"radialaxis\":{\"gridcolor\":\"white\",\"linecolor\":\"white\",\"ticks\":\"\"}},\"ternary\":{\"bgcolor\":\"#E5ECF6\",\"aaxis\":{\"gridcolor\":\"white\",\"linecolor\":\"white\",\"ticks\":\"\"},\"baxis\":{\"gridcolor\":\"white\",\"linecolor\":\"white\",\"ticks\":\"\"},\"caxis\":{\"gridcolor\":\"white\",\"linecolor\":\"white\",\"ticks\":\"\"}},\"coloraxis\":{\"colorbar\":{\"outlinewidth\":0,\"ticks\":\"\"}},\"colorscale\":{\"sequential\":[[0.0,\"#0d0887\"],[0.1111111111111111,\"#46039f\"],[0.2222222222222222,\"#7201a8\"],[0.3333333333333333,\"#9c179e\"],[0.4444444444444444,\"#bd3786\"],[0.5555555555555556,\"#d8576b\"],[0.6666666666666666,\"#ed7953\"],[0.7777777777777778,\"#fb9f3a\"],[0.8888888888888888,\"#fdca26\"],[1.0,\"#f0f921\"]],\"sequentialminus\":[[0.0,\"#0d0887\"],[0.1111111111111111,\"#46039f\"],[0.2222222222222222,\"#7201a8\"],[0.3333333333333333,\"#9c179e\"],[0.4444444444444444,\"#bd3786\"],[0.5555555555555556,\"#d8576b\"],[0.6666666666666666,\"#ed7953\"],[0.7777777777777778,\"#fb9f3a\"],[0.8888888888888888,\"#fdca26\"],[1.0,\"#f0f921\"]],\"diverging\":[[0,\"#8e0152\"],[0.1,\"#c51b7d\"],[0.2,\"#de77ae\"],[0.3,\"#f1b6da\"],[0.4,\"#fde0ef\"],[0.5,\"#f7f7f7\"],[0.6,\"#e6f5d0\"],[0.7,\"#b8e186\"],[0.8,\"#7fbc41\"],[0.9,\"#4d9221\"],[1,\"#276419\"]]},\"xaxis\":{\"gridcolor\":\"white\",\"linecolor\":\"white\",\"ticks\":\"\",\"title\":{\"standoff\":15},\"zerolinecolor\":\"white\",\"automargin\":true,\"zerolinewidth\":2},\"yaxis\":{\"gridcolor\":\"white\",\"linecolor\":\"white\",\"ticks\":\"\",\"title\":{\"standoff\":15},\"zerolinecolor\":\"white\",\"automargin\":true,\"zerolinewidth\":2},\"scene\":{\"xaxis\":{\"backgroundcolor\":\"#E5ECF6\",\"gridcolor\":\"white\",\"linecolor\":\"white\",\"showbackground\":true,\"ticks\":\"\",\"zerolinecolor\":\"white\",\"gridwidth\":2},\"yaxis\":{\"backgroundcolor\":\"#E5ECF6\",\"gridcolor\":\"white\",\"linecolor\":\"white\",\"showbackground\":true,\"ticks\":\"\",\"zerolinecolor\":\"white\",\"gridwidth\":2},\"zaxis\":{\"backgroundcolor\":\"#E5ECF6\",\"gridcolor\":\"white\",\"linecolor\":\"white\",\"showbackground\":true,\"ticks\":\"\",\"zerolinecolor\":\"white\",\"gridwidth\":2}},\"shapedefaults\":{\"line\":{\"color\":\"#2a3f5f\"}},\"annotationdefaults\":{\"arrowcolor\":\"#2a3f5f\",\"arrowhead\":0,\"arrowwidth\":1},\"geo\":{\"bgcolor\":\"white\",\"landcolor\":\"#E5ECF6\",\"subunitcolor\":\"white\",\"showland\":true,\"showlakes\":true,\"lakecolor\":\"white\"},\"title\":{\"x\":0.05},\"mapbox\":{\"style\":\"light\"}}},\"updatemenus\":[{\"buttons\":[{\"args\":[{\"visible\":[true,false,false,false,false,false,false,false,false,false,false,false,false,false,false,false,false,false,false,false,false,false,false,false,false,false]},{\"title\":\"Avg Enrollment Over Time \\u2013 AT\"}],\"label\":\"AT\",\"method\":\"update\"},{\"args\":[{\"visible\":[false,true,false,false,false,false,false,false,false,false,false,false,false,false,false,false,false,false,false,false,false,false,false,false,false,false]},{\"title\":\"Avg Enrollment Over Time \\u2013 BE\"}],\"label\":\"BE\",\"method\":\"update\"},{\"args\":[{\"visible\":[false,false,true,false,false,false,false,false,false,false,false,false,false,false,false,false,false,false,false,false,false,false,false,false,false,false]},{\"title\":\"Avg Enrollment Over Time \\u2013 BG\"}],\"label\":\"BG\",\"method\":\"update\"},{\"args\":[{\"visible\":[false,false,false,true,false,false,false,false,false,false,false,false,false,false,false,false,false,false,false,false,false,false,false,false,false,false]},{\"title\":\"Avg Enrollment Over Time \\u2013 CZ\"}],\"label\":\"CZ\",\"method\":\"update\"},{\"args\":[{\"visible\":[false,false,false,false,true,false,false,false,false,false,false,false,false,false,false,false,false,false,false,false,false,false,false,false,false,false]},{\"title\":\"Avg Enrollment Over Time \\u2013 DE\"}],\"label\":\"DE\",\"method\":\"update\"},{\"args\":[{\"visible\":[false,false,false,false,false,true,false,false,false,false,false,false,false,false,false,false,false,false,false,false,false,false,false,false,false,false]},{\"title\":\"Avg Enrollment Over Time \\u2013 DK\"}],\"label\":\"DK\",\"method\":\"update\"},{\"args\":[{\"visible\":[false,false,false,false,false,false,true,false,false,false,false,false,false,false,false,false,false,false,false,false,false,false,false,false,false,false]},{\"title\":\"Avg Enrollment Over Time \\u2013 EE\"}],\"label\":\"EE\",\"method\":\"update\"},{\"args\":[{\"visible\":[false,false,false,false,false,false,false,true,false,false,false,false,false,false,false,false,false,false,false,false,false,false,false,false,false,false]},{\"title\":\"Avg Enrollment Over Time \\u2013 ES\"}],\"label\":\"ES\",\"method\":\"update\"},{\"args\":[{\"visible\":[false,false,false,false,false,false,false,false,true,false,false,false,false,false,false,false,false,false,false,false,false,false,false,false,false,false]},{\"title\":\"Avg Enrollment Over Time \\u2013 FI\"}],\"label\":\"FI\",\"method\":\"update\"},{\"args\":[{\"visible\":[false,false,false,false,false,false,false,false,false,true,false,false,false,false,false,false,false,false,false,false,false,false,false,false,false,false]},{\"title\":\"Avg Enrollment Over Time \\u2013 FR\"}],\"label\":\"FR\",\"method\":\"update\"},{\"args\":[{\"visible\":[false,false,false,false,false,false,false,false,false,false,true,false,false,false,false,false,false,false,false,false,false,false,false,false,false,false]},{\"title\":\"Avg Enrollment Over Time \\u2013 GR\"}],\"label\":\"GR\",\"method\":\"update\"},{\"args\":[{\"visible\":[false,false,false,false,false,false,false,false,false,false,false,true,false,false,false,false,false,false,false,false,false,false,false,false,false,false]},{\"title\":\"Avg Enrollment Over Time \\u2013 HR\"}],\"label\":\"HR\",\"method\":\"update\"},{\"args\":[{\"visible\":[false,false,false,false,false,false,false,false,false,false,false,false,true,false,false,false,false,false,false,false,false,false,false,false,false,false]},{\"title\":\"Avg Enrollment Over Time \\u2013 HU\"}],\"label\":\"HU\",\"method\":\"update\"},{\"args\":[{\"visible\":[false,false,false,false,false,false,false,false,false,false,false,false,false,true,false,false,false,false,false,false,false,false,false,false,false,false]},{\"title\":\"Avg Enrollment Over Time \\u2013 IE\"}],\"label\":\"IE\",\"method\":\"update\"},{\"args\":[{\"visible\":[false,false,false,false,false,false,false,false,false,false,false,false,false,false,true,false,false,false,false,false,false,false,false,false,false,false]},{\"title\":\"Avg Enrollment Over Time \\u2013 IT\"}],\"label\":\"IT\",\"method\":\"update\"},{\"args\":[{\"visible\":[false,false,false,false,false,false,false,false,false,false,false,false,false,false,false,true,false,false,false,false,false,false,false,false,false,false]},{\"title\":\"Avg Enrollment Over Time \\u2013 LT\"}],\"label\":\"LT\",\"method\":\"update\"},{\"args\":[{\"visible\":[false,false,false,false,false,false,false,false,false,false,false,false,false,false,false,false,true,false,false,false,false,false,false,false,false,false]},{\"title\":\"Avg Enrollment Over Time \\u2013 LU\"}],\"label\":\"LU\",\"method\":\"update\"},{\"args\":[{\"visible\":[false,false,false,false,false,false,false,false,false,false,false,false,false,false,false,false,false,true,false,false,false,false,false,false,false,false]},{\"title\":\"Avg Enrollment Over Time \\u2013 LV\"}],\"label\":\"LV\",\"method\":\"update\"},{\"args\":[{\"visible\":[false,false,false,false,false,false,false,false,false,false,false,false,false,false,false,false,false,false,true,false,false,false,false,false,false,false]},{\"title\":\"Avg Enrollment Over Time \\u2013 MT\"}],\"label\":\"MT\",\"method\":\"update\"},{\"args\":[{\"visible\":[false,false,false,false,false,false,false,false,false,false,false,false,false,false,false,false,false,false,false,true,false,false,false,false,false,false]},{\"title\":\"Avg Enrollment Over Time \\u2013 NL\"}],\"label\":\"NL\",\"method\":\"update\"},{\"args\":[{\"visible\":[false,false,false,false,false,false,false,false,false,false,false,false,false,false,false,false,false,false,false,false,true,false,false,false,false,false]},{\"title\":\"Avg Enrollment Over Time \\u2013 PL\"}],\"label\":\"PL\",\"method\":\"update\"},{\"args\":[{\"visible\":[false,false,false,false,false,false,false,false,false,false,false,false,false,false,false,false,false,false,false,false,false,true,false,false,false,false]},{\"title\":\"Avg Enrollment Over Time \\u2013 PT\"}],\"label\":\"PT\",\"method\":\"update\"},{\"args\":[{\"visible\":[false,false,false,false,false,false,false,false,false,false,false,false,false,false,false,false,false,false,false,false,false,false,true,false,false,false]},{\"title\":\"Avg Enrollment Over Time \\u2013 RO\"}],\"label\":\"RO\",\"method\":\"update\"},{\"args\":[{\"visible\":[false,false,false,false,false,false,false,false,false,false,false,false,false,false,false,false,false,false,false,false,false,false,false,true,false,false]},{\"title\":\"Avg Enrollment Over Time \\u2013 SE\"}],\"label\":\"SE\",\"method\":\"update\"},{\"args\":[{\"visible\":[false,false,false,false,false,false,false,false,false,false,false,false,false,false,false,false,false,false,false,false,false,false,false,false,true,false]},{\"title\":\"Avg Enrollment Over Time \\u2013 SI\"}],\"label\":\"SI\",\"method\":\"update\"},{\"args\":[{\"visible\":[false,false,false,false,false,false,false,false,false,false,false,false,false,false,false,false,false,false,false,false,false,false,false,false,false,true]},{\"title\":\"Avg Enrollment Over Time \\u2013 SK\"}],\"label\":\"SK\",\"method\":\"update\"}],\"direction\":\"down\",\"showactive\":true,\"x\":0.05,\"xanchor\":\"left\",\"y\":1.15,\"yanchor\":\"top\"}],\"title\":{\"text\":\"Avg Enrollment Over Time \\u2013 AT\"},\"xaxis\":{\"title\":{\"text\":\"Year\"}},\"yaxis\":{\"title\":{\"text\":\"Average Enrollment\"}},\"height\":500},                        {\"responsive\": true}                    ).then(function(){\n",
       "                            \n",
       "var gd = document.getElementById('14cc2da9-b20a-499f-9908-99d16f997e01');\n",
       "var x = new MutationObserver(function (mutations, observer) {{\n",
       "        var display = window.getComputedStyle(gd).display;\n",
       "        if (!display || display === 'none') {{\n",
       "            console.log([gd, 'removed!']);\n",
       "            Plotly.purge(gd);\n",
       "            observer.disconnect();\n",
       "        }}\n",
       "}});\n",
       "\n",
       "// Listen for the removal of the full notebook cells\n",
       "var notebookContainer = gd.closest('#notebook-container');\n",
       "if (notebookContainer) {{\n",
       "    x.observe(notebookContainer, {childList: true});\n",
       "}}\n",
       "\n",
       "// Listen for the clearing of the current output cell\n",
       "var outputEl = gd.closest('.output');\n",
       "if (outputEl) {{\n",
       "    x.observe(outputEl, {childList: true});\n",
       "}}\n",
       "\n",
       "                        })                };                });            </script>        </div>"
      ]
     },
     "metadata": {},
     "output_type": "display_data"
    },
    {
     "data": {
      "application/vnd.plotly.v1+json": {
       "config": {
        "plotlyServerURL": "https://plot.ly"
       },
       "data": [
        {
         "marker": {
          "color": "steelblue"
         },
         "name": "Enrollment",
         "type": "bar",
         "visible": true,
         "x": [
          "Busy Bees Hub (Rome)",
          "Imagine & Grow Center (Turin)",
          "WhizKidz Clubhouse (Milan)",
          "Meadowbrook Learning (Florence)",
          "KinderNest Academy (Venice)"
         ],
         "y": [
          90,
          65,
          58,
          51,
          48
         ]
        },
        {
         "marker": {
          "color": "indianred"
         },
         "name": "Staff",
         "type": "bar",
         "visible": true,
         "x": [
          "Busy Bees Hub (Rome)",
          "Imagine & Grow Center (Turin)",
          "WhizKidz Clubhouse (Milan)",
          "Meadowbrook Learning (Florence)",
          "KinderNest Academy (Venice)"
         ],
         "y": [
          12,
          10,
          5,
          8,
          6
         ]
        },
        {
         "marker": {
          "color": "steelblue"
         },
         "name": "Enrollment",
         "type": "bar",
         "visible": false,
         "x": [
          "Tiny Treasures Center (Munich)",
          "Sunshine Grove (Hamburg)",
          "Little Luminaries (Nuremberg)",
          "Rising Stars Learning Hub (Trier)",
          "Rainbow Path School (Berlin)",
          "Little Luminaries (Dresden)"
         ],
         "y": [
          95,
          82,
          63,
          51,
          46,
          35
         ]
        },
        {
         "marker": {
          "color": "indianred"
         },
         "name": "Staff",
         "type": "bar",
         "visible": false,
         "x": [
          "Tiny Treasures Center (Munich)",
          "Sunshine Grove (Hamburg)",
          "Little Luminaries (Nuremberg)",
          "Rising Stars Learning Hub (Trier)",
          "Rainbow Path School (Berlin)",
          "Little Luminaries (Dresden)"
         ],
         "y": [
          10,
          10,
          6,
          5,
          7,
          5
         ]
        },
        {
         "marker": {
          "color": "steelblue"
         },
         "name": "Enrollment",
         "type": "bar",
         "visible": false,
         "x": [
          "Little Luminaries (Vienna)",
          "Sunshine Grove (Graz)",
          "Busy Bees Hub (Innsbruck)",
          "Meadowbrook Learning (Salzburg)",
          "Little Steps Station (Innsbruck)"
         ],
         "y": [
          99,
          82,
          72,
          56,
          31
         ]
        },
        {
         "marker": {
          "color": "indianred"
         },
         "name": "Staff",
         "type": "bar",
         "visible": false,
         "x": [
          "Little Luminaries (Vienna)",
          "Sunshine Grove (Graz)",
          "Busy Bees Hub (Innsbruck)",
          "Meadowbrook Learning (Salzburg)",
          "Little Steps Station (Innsbruck)"
         ],
         "y": [
          16,
          9,
          8,
          8,
          3
         ]
        },
        {
         "marker": {
          "color": "steelblue"
         },
         "name": "Enrollment",
         "type": "bar",
         "visible": false,
         "x": [
          "Meadowbrook Learning (Gothenburg)",
          "KinderNest Academy (Gothenburg)",
          "NextGen Kids Place (Stockholm)",
          "Happy Hearts Preschool (Helsignborg)",
          "Creative Cubs Campus (Stockholm)"
         ],
         "y": [
          92,
          85,
          63,
          63,
          42
         ]
        },
        {
         "marker": {
          "color": "indianred"
         },
         "name": "Staff",
         "type": "bar",
         "visible": false,
         "x": [
          "Meadowbrook Learning (Gothenburg)",
          "KinderNest Academy (Gothenburg)",
          "NextGen Kids Place (Stockholm)",
          "Happy Hearts Preschool (Helsignborg)",
          "Creative Cubs Campus (Stockholm)"
         ],
         "y": [
          10,
          8,
          7,
          6,
          5
         ]
        },
        {
         "marker": {
          "color": "steelblue"
         },
         "name": "Enrollment",
         "type": "bar",
         "visible": false,
         "x": [
          "Little Explorers Academy (Seville)",
          "Meadowbrook Learning (Valencia)",
          "Rising Stars Learning Hub (Barcelona)",
          "StarSprout Place (Zaragoza)",
          "WhizKidz Clubhouse (Madrid)",
          "Meadowbrook Learning (Bilbao)",
          "Harmony Hills Childcare (Madrid)"
         ],
         "y": [
          98,
          92,
          87,
          41,
          37,
          31,
          23
         ]
        },
        {
         "marker": {
          "color": "indianred"
         },
         "name": "Staff",
         "type": "bar",
         "visible": false,
         "x": [
          "Little Explorers Academy (Seville)",
          "Meadowbrook Learning (Valencia)",
          "Rising Stars Learning Hub (Barcelona)",
          "StarSprout Place (Zaragoza)",
          "WhizKidz Clubhouse (Madrid)",
          "Meadowbrook Learning (Bilbao)",
          "Harmony Hills Childcare (Madrid)"
         ],
         "y": [
          9,
          13,
          14,
          4,
          4,
          3,
          2
         ]
        },
        {
         "marker": {
          "color": "steelblue"
         },
         "name": "Enrollment",
         "type": "bar",
         "visible": false,
         "x": [
          "Little Explorers Academy (Amsterdam)",
          "KinderNest Academy (Rotterdam)",
          "KinderNest Academy (Breda)",
          "WhizKidz Clubhouse (Amsterdam)",
          "Tiny Treasures Center (Utrecht)"
         ],
         "y": [
          99,
          96,
          61,
          55,
          47
         ]
        },
        {
         "marker": {
          "color": "indianred"
         },
         "name": "Staff",
         "type": "bar",
         "visible": false,
         "x": [
          "Little Explorers Academy (Amsterdam)",
          "KinderNest Academy (Rotterdam)",
          "KinderNest Academy (Breda)",
          "WhizKidz Clubhouse (Amsterdam)",
          "Tiny Treasures Center (Utrecht)"
         ],
         "y": [
          9,
          10,
          6,
          5,
          6
         ]
        },
        {
         "marker": {
          "color": "steelblue"
         },
         "name": "Enrollment",
         "type": "bar",
         "visible": false,
         "x": [
          "Meadowbrook Learning (Helsinki)"
         ],
         "y": [
          37
         ]
        },
        {
         "marker": {
          "color": "indianred"
         },
         "name": "Staff",
         "type": "bar",
         "visible": false,
         "x": [
          "Meadowbrook Learning (Helsinki)"
         ],
         "y": [
          5
         ]
        },
        {
         "marker": {
          "color": "steelblue"
         },
         "name": "Enrollment",
         "type": "bar",
         "visible": false,
         "x": [
          "Brilliant Minds Hub (Wroc_aw)",
          "WonderNest Learning (Krakw)",
          "Little Steps Station (Katowice)",
          "Little Steps Station (Sczcecin)",
          "Little Explorers Academy (Lublin)"
         ],
         "y": [
          97,
          78,
          51,
          40,
          28
         ]
        },
        {
         "marker": {
          "color": "indianred"
         },
         "name": "Staff",
         "type": "bar",
         "visible": false,
         "x": [
          "Brilliant Minds Hub (Wroc_aw)",
          "WonderNest Learning (Krakw)",
          "Little Steps Station (Katowice)",
          "Little Steps Station (Sczcecin)",
          "Little Explorers Academy (Lublin)"
         ],
         "y": [
          12,
          9,
          6,
          6,
          2
         ]
        },
        {
         "marker": {
          "color": "steelblue"
         },
         "name": "Enrollment",
         "type": "bar",
         "visible": false,
         "x": [
          "Rainbow Path School (Budapest)"
         ],
         "y": [
          77
         ]
        },
        {
         "marker": {
          "color": "indianred"
         },
         "name": "Staff",
         "type": "bar",
         "visible": false,
         "x": [
          "Rainbow Path School (Budapest)"
         ],
         "y": [
          9
         ]
        },
        {
         "marker": {
          "color": "steelblue"
         },
         "name": "Enrollment",
         "type": "bar",
         "visible": false,
         "x": [
          "WhizKidz Clubhouse (Marseille)",
          "Brilliant Minds Hub (Rouen)",
          "Little Explorers Academy (Lyon)",
          "Little Steps Station (Straburg)",
          "StarSprout Place (Paris)",
          "Rising Stars Learning Hub (Marseille)",
          "Rainbow Path School (Paris)"
         ],
         "y": [
          97,
          94,
          86,
          72,
          69,
          63,
          41
         ]
        },
        {
         "marker": {
          "color": "indianred"
         },
         "name": "Staff",
         "type": "bar",
         "visible": false,
         "x": [
          "WhizKidz Clubhouse (Marseille)",
          "Brilliant Minds Hub (Rouen)",
          "Little Explorers Academy (Lyon)",
          "Little Steps Station (Straburg)",
          "StarSprout Place (Paris)",
          "Rising Stars Learning Hub (Marseille)",
          "Rainbow Path School (Paris)"
         ],
         "y": [
          16,
          10,
          10,
          9,
          8,
          9,
          5
         ]
        },
        {
         "marker": {
          "color": "steelblue"
         },
         "name": "Enrollment",
         "type": "bar",
         "visible": false,
         "x": [
          "Tiny Treasures Center (Prague)"
         ],
         "y": [
          50
         ]
        },
        {
         "marker": {
          "color": "indianred"
         },
         "name": "Staff",
         "type": "bar",
         "visible": false,
         "x": [
          "Tiny Treasures Center (Prague)"
         ],
         "y": [
          7
         ]
        },
        {
         "marker": {
          "color": "steelblue"
         },
         "name": "Enrollment",
         "type": "bar",
         "visible": false,
         "x": [
          "Happy Hearts Preschool (Vilnius)"
         ],
         "y": [
          64
         ]
        },
        {
         "marker": {
          "color": "indianred"
         },
         "name": "Staff",
         "type": "bar",
         "visible": false,
         "x": [
          "Happy Hearts Preschool (Vilnius)"
         ],
         "y": [
          10
         ]
        },
        {
         "marker": {
          "color": "steelblue"
         },
         "name": "Enrollment",
         "type": "bar",
         "visible": false,
         "x": [
          "Meadowbrook Learning (Lisbon)"
         ],
         "y": [
          98
         ]
        },
        {
         "marker": {
          "color": "indianred"
         },
         "name": "Staff",
         "type": "bar",
         "visible": false,
         "x": [
          "Meadowbrook Learning (Lisbon)"
         ],
         "y": [
          16
         ]
        },
        {
         "marker": {
          "color": "steelblue"
         },
         "name": "Enrollment",
         "type": "bar",
         "visible": false,
         "x": [
          "Bright Sprouts (Luxembourg)",
          "Sunny Sprouts (Esch-sur-Alzette)",
          "Bright Buddies (Luxembourg)"
         ],
         "y": [
          89,
          54,
          25
         ]
        },
        {
         "marker": {
          "color": "indianred"
         },
         "name": "Staff",
         "type": "bar",
         "visible": false,
         "x": [
          "Bright Sprouts (Luxembourg)",
          "Sunny Sprouts (Esch-sur-Alzette)",
          "Bright Buddies (Luxembourg)"
         ],
         "y": [
          8,
          6,
          3
         ]
        },
        {
         "marker": {
          "color": "steelblue"
         },
         "name": "Enrollment",
         "type": "bar",
         "visible": false,
         "x": [
          "Sunny Dreams (Mosta)",
          "Bright Stars (Birkirkara)",
          "Little Buddies (Valletta)",
          "Sunny Adventures (Valletta)",
          "Magic Dreams (Mosta)",
          "Magic Steps (Birkirkara)",
          "Little Sprouts (Birkirkara)"
         ],
         "y": [
          99,
          93,
          87,
          82,
          69,
          68,
          55
         ]
        },
        {
         "marker": {
          "color": "indianred"
         },
         "name": "Staff",
         "type": "bar",
         "visible": false,
         "x": [
          "Sunny Dreams (Mosta)",
          "Bright Stars (Birkirkara)",
          "Little Buddies (Valletta)",
          "Sunny Adventures (Valletta)",
          "Magic Dreams (Mosta)",
          "Magic Steps (Birkirkara)",
          "Little Sprouts (Birkirkara)"
         ],
         "y": [
          9,
          15,
          8,
          8,
          8,
          9,
          7
         ]
        },
        {
         "marker": {
          "color": "steelblue"
         },
         "name": "Enrollment",
         "type": "bar",
         "visible": false,
         "x": [
          "Creative Buddies (Cork)",
          "Rainbow Dreams (Limerick)",
          "Rainbow Explorers (Dublin)",
          "Tiny Hearts (Dublin)",
          "Happy Buddies (Dublin)",
          "Creative Steps (Dublin)",
          "Magic Steps (Limerick)",
          "Bright Hearts (Cork)",
          "Sunny Sprouts (Cork)"
         ],
         "y": [
          89,
          85,
          69,
          67,
          63,
          62,
          47,
          38,
          37
         ]
        },
        {
         "marker": {
          "color": "indianred"
         },
         "name": "Staff",
         "type": "bar",
         "visible": false,
         "x": [
          "Creative Buddies (Cork)",
          "Rainbow Dreams (Limerick)",
          "Rainbow Explorers (Dublin)",
          "Tiny Hearts (Dublin)",
          "Happy Buddies (Dublin)",
          "Creative Steps (Dublin)",
          "Magic Steps (Limerick)",
          "Bright Hearts (Cork)",
          "Sunny Sprouts (Cork)"
         ],
         "y": [
          9,
          8,
          9,
          9,
          6,
          6,
          7,
          4,
          3
         ]
        },
        {
         "marker": {
          "color": "steelblue"
         },
         "name": "Enrollment",
         "type": "bar",
         "visible": false,
         "x": [
          "Magic Steps (Split)",
          "Magic Steps (Zagreb)",
          "Sunny Sprouts (Zagreb)"
         ],
         "y": [
          76,
          46,
          32
         ]
        },
        {
         "marker": {
          "color": "indianred"
         },
         "name": "Staff",
         "type": "bar",
         "visible": false,
         "x": [
          "Magic Steps (Split)",
          "Magic Steps (Zagreb)",
          "Sunny Sprouts (Zagreb)"
         ],
         "y": [
          12,
          4,
          4
         ]
        },
        {
         "marker": {
          "color": "steelblue"
         },
         "name": "Enrollment",
         "type": "bar",
         "visible": false,
         "x": [
          "Bright Stars (Narva)",
          "Sunny Adventures (Narva)"
         ],
         "y": [
          74,
          28
         ]
        },
        {
         "marker": {
          "color": "indianred"
         },
         "name": "Staff",
         "type": "bar",
         "visible": false,
         "x": [
          "Bright Stars (Narva)",
          "Sunny Adventures (Narva)"
         ],
         "y": [
          12,
          2
         ]
        },
        {
         "marker": {
          "color": "steelblue"
         },
         "name": "Enrollment",
         "type": "bar",
         "visible": false,
         "x": [
          "Magic Hearts (Plovdiv)",
          "Happy Steps (Plovdiv)",
          "Creative Dreams (Plovdiv)",
          "Rainbow Sprouts (Varna)",
          "Sunny Explorers (Varna)",
          "Magic Steps (Plovdiv)"
         ],
         "y": [
          91,
          66,
          53,
          48,
          37,
          30
         ]
        },
        {
         "marker": {
          "color": "indianred"
         },
         "name": "Staff",
         "type": "bar",
         "visible": false,
         "x": [
          "Magic Hearts (Plovdiv)",
          "Happy Steps (Plovdiv)",
          "Creative Dreams (Plovdiv)",
          "Rainbow Sprouts (Varna)",
          "Sunny Explorers (Varna)",
          "Magic Steps (Plovdiv)"
         ],
         "y": [
          9,
          9,
          5,
          5,
          4,
          3
         ]
        },
        {
         "marker": {
          "color": "steelblue"
         },
         "name": "Enrollment",
         "type": "bar",
         "visible": false,
         "x": [
          "Little Sprouts (Athens)",
          "Tiny Sprouts (Athens)"
         ],
         "y": [
          49,
          33
         ]
        },
        {
         "marker": {
          "color": "indianred"
         },
         "name": "Staff",
         "type": "bar",
         "visible": false,
         "x": [
          "Little Sprouts (Athens)",
          "Tiny Sprouts (Athens)"
         ],
         "y": [
          6,
          4
         ]
        },
        {
         "marker": {
          "color": "steelblue"
         },
         "name": "Enrollment",
         "type": "bar",
         "visible": false,
         "x": [
          "Bright Hearts (Ljubljana)",
          "Rainbow Hearts (Ljubljana)",
          "Bright Adventures (Celje)",
          "Creative Steps (Maribor)",
          "Magic Buddies (Ljubljana)"
         ],
         "y": [
          94,
          75,
          64,
          61,
          60
         ]
        },
        {
         "marker": {
          "color": "indianred"
         },
         "name": "Staff",
         "type": "bar",
         "visible": false,
         "x": [
          "Bright Hearts (Ljubljana)",
          "Rainbow Hearts (Ljubljana)",
          "Bright Adventures (Celje)",
          "Creative Steps (Maribor)",
          "Magic Buddies (Ljubljana)"
         ],
         "y": [
          10,
          9,
          10,
          7,
          6
         ]
        },
        {
         "marker": {
          "color": "steelblue"
         },
         "name": "Enrollment",
         "type": "bar",
         "visible": false,
         "x": [
          "Creative Dreams (Riga)",
          "Little Adventures (Riga)",
          "Tiny Adventures (Liepaja)",
          "Little Explorers (Liepaja)",
          "Sunny Steps (Riga)"
         ],
         "y": [
          80,
          70,
          63,
          35,
          33
         ]
        },
        {
         "marker": {
          "color": "indianred"
         },
         "name": "Staff",
         "type": "bar",
         "visible": false,
         "x": [
          "Creative Dreams (Riga)",
          "Little Adventures (Riga)",
          "Tiny Adventures (Liepaja)",
          "Little Explorers (Liepaja)",
          "Sunny Steps (Riga)"
         ],
         "y": [
          10,
          8,
          10,
          3,
          4
         ]
        },
        {
         "marker": {
          "color": "steelblue"
         },
         "name": "Enrollment",
         "type": "bar",
         "visible": false,
         "x": [
          "Rainbow Explorers (KoÅ¡ice)",
          "Creative Dreams (Bratislava)"
         ],
         "y": [
          92,
          43
         ]
        },
        {
         "marker": {
          "color": "indianred"
         },
         "name": "Staff",
         "type": "bar",
         "visible": false,
         "x": [
          "Rainbow Explorers (KoÅ¡ice)",
          "Creative Dreams (Bratislava)"
         ],
         "y": [
          15,
          6
         ]
        },
        {
         "marker": {
          "color": "steelblue"
         },
         "name": "Enrollment",
         "type": "bar",
         "visible": false,
         "x": [
          "Rainbow Explorers (TimiÈoara)"
         ],
         "y": [
          36
         ]
        },
        {
         "marker": {
          "color": "indianred"
         },
         "name": "Staff",
         "type": "bar",
         "visible": false,
         "x": [
          "Rainbow Explorers (TimiÈoara)"
         ],
         "y": [
          5
         ]
        },
        {
         "marker": {
          "color": "steelblue"
         },
         "name": "Enrollment",
         "type": "bar",
         "visible": false,
         "x": [
          "Magic Buddies (Copenhagen)",
          "Sunny Dreams (Odense)",
          "Creative Dreams (Aarhus)"
         ],
         "y": [
          97,
          65,
          36
         ]
        },
        {
         "marker": {
          "color": "indianred"
         },
         "name": "Staff",
         "type": "bar",
         "visible": false,
         "x": [
          "Magic Buddies (Copenhagen)",
          "Sunny Dreams (Odense)",
          "Creative Dreams (Aarhus)"
         ],
         "y": [
          10,
          6,
          5
         ]
        },
        {
         "marker": {
          "color": "steelblue"
         },
         "name": "Enrollment",
         "type": "bar",
         "visible": false,
         "x": [
          "Creative Stars (Ghent)",
          "Sunny Adventures (Brussels)"
         ],
         "y": [
          95,
          47
         ]
        },
        {
         "marker": {
          "color": "indianred"
         },
         "name": "Staff",
         "type": "bar",
         "visible": false,
         "x": [
          "Creative Stars (Ghent)",
          "Sunny Adventures (Brussels)"
         ],
         "y": [
          13,
          5
         ]
        }
       ],
       "layout": {
        "autosize": true,
        "barmode": "group",
        "template": {
         "data": {
          "bar": [
           {
            "error_x": {
             "color": "#2a3f5f"
            },
            "error_y": {
             "color": "#2a3f5f"
            },
            "marker": {
             "line": {
              "color": "#E5ECF6",
              "width": 0.5
             },
             "pattern": {
              "fillmode": "overlay",
              "size": 10,
              "solidity": 0.2
             }
            },
            "type": "bar"
           }
          ],
          "barpolar": [
           {
            "marker": {
             "line": {
              "color": "#E5ECF6",
              "width": 0.5
             },
             "pattern": {
              "fillmode": "overlay",
              "size": 10,
              "solidity": 0.2
             }
            },
            "type": "barpolar"
           }
          ],
          "carpet": [
           {
            "aaxis": {
             "endlinecolor": "#2a3f5f",
             "gridcolor": "white",
             "linecolor": "white",
             "minorgridcolor": "white",
             "startlinecolor": "#2a3f5f"
            },
            "baxis": {
             "endlinecolor": "#2a3f5f",
             "gridcolor": "white",
             "linecolor": "white",
             "minorgridcolor": "white",
             "startlinecolor": "#2a3f5f"
            },
            "type": "carpet"
           }
          ],
          "choropleth": [
           {
            "colorbar": {
             "outlinewidth": 0,
             "ticks": ""
            },
            "type": "choropleth"
           }
          ],
          "contour": [
           {
            "colorbar": {
             "outlinewidth": 0,
             "ticks": ""
            },
            "colorscale": [
             [
              0,
              "#0d0887"
             ],
             [
              0.1111111111111111,
              "#46039f"
             ],
             [
              0.2222222222222222,
              "#7201a8"
             ],
             [
              0.3333333333333333,
              "#9c179e"
             ],
             [
              0.4444444444444444,
              "#bd3786"
             ],
             [
              0.5555555555555556,
              "#d8576b"
             ],
             [
              0.6666666666666666,
              "#ed7953"
             ],
             [
              0.7777777777777778,
              "#fb9f3a"
             ],
             [
              0.8888888888888888,
              "#fdca26"
             ],
             [
              1,
              "#f0f921"
             ]
            ],
            "type": "contour"
           }
          ],
          "contourcarpet": [
           {
            "colorbar": {
             "outlinewidth": 0,
             "ticks": ""
            },
            "type": "contourcarpet"
           }
          ],
          "heatmap": [
           {
            "colorbar": {
             "outlinewidth": 0,
             "ticks": ""
            },
            "colorscale": [
             [
              0,
              "#0d0887"
             ],
             [
              0.1111111111111111,
              "#46039f"
             ],
             [
              0.2222222222222222,
              "#7201a8"
             ],
             [
              0.3333333333333333,
              "#9c179e"
             ],
             [
              0.4444444444444444,
              "#bd3786"
             ],
             [
              0.5555555555555556,
              "#d8576b"
             ],
             [
              0.6666666666666666,
              "#ed7953"
             ],
             [
              0.7777777777777778,
              "#fb9f3a"
             ],
             [
              0.8888888888888888,
              "#fdca26"
             ],
             [
              1,
              "#f0f921"
             ]
            ],
            "type": "heatmap"
           }
          ],
          "heatmapgl": [
           {
            "colorbar": {
             "outlinewidth": 0,
             "ticks": ""
            },
            "colorscale": [
             [
              0,
              "#0d0887"
             ],
             [
              0.1111111111111111,
              "#46039f"
             ],
             [
              0.2222222222222222,
              "#7201a8"
             ],
             [
              0.3333333333333333,
              "#9c179e"
             ],
             [
              0.4444444444444444,
              "#bd3786"
             ],
             [
              0.5555555555555556,
              "#d8576b"
             ],
             [
              0.6666666666666666,
              "#ed7953"
             ],
             [
              0.7777777777777778,
              "#fb9f3a"
             ],
             [
              0.8888888888888888,
              "#fdca26"
             ],
             [
              1,
              "#f0f921"
             ]
            ],
            "type": "heatmapgl"
           }
          ],
          "histogram": [
           {
            "marker": {
             "pattern": {
              "fillmode": "overlay",
              "size": 10,
              "solidity": 0.2
             }
            },
            "type": "histogram"
           }
          ],
          "histogram2d": [
           {
            "colorbar": {
             "outlinewidth": 0,
             "ticks": ""
            },
            "colorscale": [
             [
              0,
              "#0d0887"
             ],
             [
              0.1111111111111111,
              "#46039f"
             ],
             [
              0.2222222222222222,
              "#7201a8"
             ],
             [
              0.3333333333333333,
              "#9c179e"
             ],
             [
              0.4444444444444444,
              "#bd3786"
             ],
             [
              0.5555555555555556,
              "#d8576b"
             ],
             [
              0.6666666666666666,
              "#ed7953"
             ],
             [
              0.7777777777777778,
              "#fb9f3a"
             ],
             [
              0.8888888888888888,
              "#fdca26"
             ],
             [
              1,
              "#f0f921"
             ]
            ],
            "type": "histogram2d"
           }
          ],
          "histogram2dcontour": [
           {
            "colorbar": {
             "outlinewidth": 0,
             "ticks": ""
            },
            "colorscale": [
             [
              0,
              "#0d0887"
             ],
             [
              0.1111111111111111,
              "#46039f"
             ],
             [
              0.2222222222222222,
              "#7201a8"
             ],
             [
              0.3333333333333333,
              "#9c179e"
             ],
             [
              0.4444444444444444,
              "#bd3786"
             ],
             [
              0.5555555555555556,
              "#d8576b"
             ],
             [
              0.6666666666666666,
              "#ed7953"
             ],
             [
              0.7777777777777778,
              "#fb9f3a"
             ],
             [
              0.8888888888888888,
              "#fdca26"
             ],
             [
              1,
              "#f0f921"
             ]
            ],
            "type": "histogram2dcontour"
           }
          ],
          "mesh3d": [
           {
            "colorbar": {
             "outlinewidth": 0,
             "ticks": ""
            },
            "type": "mesh3d"
           }
          ],
          "parcoords": [
           {
            "line": {
             "colorbar": {
              "outlinewidth": 0,
              "ticks": ""
             }
            },
            "type": "parcoords"
           }
          ],
          "pie": [
           {
            "automargin": true,
            "type": "pie"
           }
          ],
          "scatter": [
           {
            "fillpattern": {
             "fillmode": "overlay",
             "size": 10,
             "solidity": 0.2
            },
            "type": "scatter"
           }
          ],
          "scatter3d": [
           {
            "line": {
             "colorbar": {
              "outlinewidth": 0,
              "ticks": ""
             }
            },
            "marker": {
             "colorbar": {
              "outlinewidth": 0,
              "ticks": ""
             }
            },
            "type": "scatter3d"
           }
          ],
          "scattercarpet": [
           {
            "marker": {
             "colorbar": {
              "outlinewidth": 0,
              "ticks": ""
             }
            },
            "type": "scattercarpet"
           }
          ],
          "scattergeo": [
           {
            "marker": {
             "colorbar": {
              "outlinewidth": 0,
              "ticks": ""
             }
            },
            "type": "scattergeo"
           }
          ],
          "scattergl": [
           {
            "marker": {
             "colorbar": {
              "outlinewidth": 0,
              "ticks": ""
             }
            },
            "type": "scattergl"
           }
          ],
          "scattermapbox": [
           {
            "marker": {
             "colorbar": {
              "outlinewidth": 0,
              "ticks": ""
             }
            },
            "type": "scattermapbox"
           }
          ],
          "scatterpolar": [
           {
            "marker": {
             "colorbar": {
              "outlinewidth": 0,
              "ticks": ""
             }
            },
            "type": "scatterpolar"
           }
          ],
          "scatterpolargl": [
           {
            "marker": {
             "colorbar": {
              "outlinewidth": 0,
              "ticks": ""
             }
            },
            "type": "scatterpolargl"
           }
          ],
          "scatterternary": [
           {
            "marker": {
             "colorbar": {
              "outlinewidth": 0,
              "ticks": ""
             }
            },
            "type": "scatterternary"
           }
          ],
          "surface": [
           {
            "colorbar": {
             "outlinewidth": 0,
             "ticks": ""
            },
            "colorscale": [
             [
              0,
              "#0d0887"
             ],
             [
              0.1111111111111111,
              "#46039f"
             ],
             [
              0.2222222222222222,
              "#7201a8"
             ],
             [
              0.3333333333333333,
              "#9c179e"
             ],
             [
              0.4444444444444444,
              "#bd3786"
             ],
             [
              0.5555555555555556,
              "#d8576b"
             ],
             [
              0.6666666666666666,
              "#ed7953"
             ],
             [
              0.7777777777777778,
              "#fb9f3a"
             ],
             [
              0.8888888888888888,
              "#fdca26"
             ],
             [
              1,
              "#f0f921"
             ]
            ],
            "type": "surface"
           }
          ],
          "table": [
           {
            "cells": {
             "fill": {
              "color": "#EBF0F8"
             },
             "line": {
              "color": "white"
             }
            },
            "header": {
             "fill": {
              "color": "#C8D4E3"
             },
             "line": {
              "color": "white"
             }
            },
            "type": "table"
           }
          ]
         },
         "layout": {
          "annotationdefaults": {
           "arrowcolor": "#2a3f5f",
           "arrowhead": 0,
           "arrowwidth": 1
          },
          "autotypenumbers": "strict",
          "coloraxis": {
           "colorbar": {
            "outlinewidth": 0,
            "ticks": ""
           }
          },
          "colorscale": {
           "diverging": [
            [
             0,
             "#8e0152"
            ],
            [
             0.1,
             "#c51b7d"
            ],
            [
             0.2,
             "#de77ae"
            ],
            [
             0.3,
             "#f1b6da"
            ],
            [
             0.4,
             "#fde0ef"
            ],
            [
             0.5,
             "#f7f7f7"
            ],
            [
             0.6,
             "#e6f5d0"
            ],
            [
             0.7,
             "#b8e186"
            ],
            [
             0.8,
             "#7fbc41"
            ],
            [
             0.9,
             "#4d9221"
            ],
            [
             1,
             "#276419"
            ]
           ],
           "sequential": [
            [
             0,
             "#0d0887"
            ],
            [
             0.1111111111111111,
             "#46039f"
            ],
            [
             0.2222222222222222,
             "#7201a8"
            ],
            [
             0.3333333333333333,
             "#9c179e"
            ],
            [
             0.4444444444444444,
             "#bd3786"
            ],
            [
             0.5555555555555556,
             "#d8576b"
            ],
            [
             0.6666666666666666,
             "#ed7953"
            ],
            [
             0.7777777777777778,
             "#fb9f3a"
            ],
            [
             0.8888888888888888,
             "#fdca26"
            ],
            [
             1,
             "#f0f921"
            ]
           ],
           "sequentialminus": [
            [
             0,
             "#0d0887"
            ],
            [
             0.1111111111111111,
             "#46039f"
            ],
            [
             0.2222222222222222,
             "#7201a8"
            ],
            [
             0.3333333333333333,
             "#9c179e"
            ],
            [
             0.4444444444444444,
             "#bd3786"
            ],
            [
             0.5555555555555556,
             "#d8576b"
            ],
            [
             0.6666666666666666,
             "#ed7953"
            ],
            [
             0.7777777777777778,
             "#fb9f3a"
            ],
            [
             0.8888888888888888,
             "#fdca26"
            ],
            [
             1,
             "#f0f921"
            ]
           ]
          },
          "colorway": [
           "#636efa",
           "#EF553B",
           "#00cc96",
           "#ab63fa",
           "#FFA15A",
           "#19d3f3",
           "#FF6692",
           "#B6E880",
           "#FF97FF",
           "#FECB52"
          ],
          "font": {
           "color": "#2a3f5f"
          },
          "geo": {
           "bgcolor": "white",
           "lakecolor": "white",
           "landcolor": "#E5ECF6",
           "showlakes": true,
           "showland": true,
           "subunitcolor": "white"
          },
          "hoverlabel": {
           "align": "left"
          },
          "hovermode": "closest",
          "mapbox": {
           "style": "light"
          },
          "paper_bgcolor": "white",
          "plot_bgcolor": "#E5ECF6",
          "polar": {
           "angularaxis": {
            "gridcolor": "white",
            "linecolor": "white",
            "ticks": ""
           },
           "bgcolor": "#E5ECF6",
           "radialaxis": {
            "gridcolor": "white",
            "linecolor": "white",
            "ticks": ""
           }
          },
          "scene": {
           "xaxis": {
            "backgroundcolor": "#E5ECF6",
            "gridcolor": "white",
            "gridwidth": 2,
            "linecolor": "white",
            "showbackground": true,
            "ticks": "",
            "zerolinecolor": "white"
           },
           "yaxis": {
            "backgroundcolor": "#E5ECF6",
            "gridcolor": "white",
            "gridwidth": 2,
            "linecolor": "white",
            "showbackground": true,
            "ticks": "",
            "zerolinecolor": "white"
           },
           "zaxis": {
            "backgroundcolor": "#E5ECF6",
            "gridcolor": "white",
            "gridwidth": 2,
            "linecolor": "white",
            "showbackground": true,
            "ticks": "",
            "zerolinecolor": "white"
           }
          },
          "shapedefaults": {
           "line": {
            "color": "#2a3f5f"
           }
          },
          "ternary": {
           "aaxis": {
            "gridcolor": "white",
            "linecolor": "white",
            "ticks": ""
           },
           "baxis": {
            "gridcolor": "white",
            "linecolor": "white",
            "ticks": ""
           },
           "bgcolor": "#E5ECF6",
           "caxis": {
            "gridcolor": "white",
            "linecolor": "white",
            "ticks": ""
           }
          },
          "title": {
           "x": 0.05
          },
          "xaxis": {
           "automargin": true,
           "gridcolor": "white",
           "linecolor": "white",
           "ticks": "",
           "title": {
            "standoff": 15
           },
           "zerolinecolor": "white",
           "zerolinewidth": 2
          },
          "yaxis": {
           "automargin": true,
           "gridcolor": "white",
           "linecolor": "white",
           "ticks": "",
           "title": {
            "standoff": 15
           },
           "zerolinecolor": "white",
           "zerolinewidth": 2
          }
         }
        },
        "title": {
         "text": "Enrollment vs. Staff in IT (2025)"
        },
        "updatemenus": [
         {
          "buttons": [
           {
            "args": [
             {
              "visible": [
               true,
               true,
               false,
               false,
               false,
               false,
               false,
               false,
               false,
               false,
               false,
               false,
               false,
               false,
               false,
               false,
               false,
               false,
               false,
               false,
               false,
               false,
               false,
               false,
               false,
               false,
               false,
               false,
               false,
               false,
               false,
               false,
               false,
               false,
               false,
               false,
               false,
               false,
               false,
               false,
               false,
               false,
               false,
               false,
               false,
               false,
               false,
               false,
               false,
               false,
               false,
               false
              ]
             },
             {
              "title": "Enrollment vs. Staff in IT (2025)"
             }
            ],
            "label": "IT",
            "method": "update"
           },
           {
            "args": [
             {
              "visible": [
               false,
               false,
               true,
               true,
               false,
               false,
               false,
               false,
               false,
               false,
               false,
               false,
               false,
               false,
               false,
               false,
               false,
               false,
               false,
               false,
               false,
               false,
               false,
               false,
               false,
               false,
               false,
               false,
               false,
               false,
               false,
               false,
               false,
               false,
               false,
               false,
               false,
               false,
               false,
               false,
               false,
               false,
               false,
               false,
               false,
               false,
               false,
               false,
               false,
               false,
               false,
               false
              ]
             },
             {
              "title": "Enrollment vs. Staff in DE (2025)"
             }
            ],
            "label": "DE",
            "method": "update"
           },
           {
            "args": [
             {
              "visible": [
               false,
               false,
               false,
               false,
               true,
               true,
               false,
               false,
               false,
               false,
               false,
               false,
               false,
               false,
               false,
               false,
               false,
               false,
               false,
               false,
               false,
               false,
               false,
               false,
               false,
               false,
               false,
               false,
               false,
               false,
               false,
               false,
               false,
               false,
               false,
               false,
               false,
               false,
               false,
               false,
               false,
               false,
               false,
               false,
               false,
               false,
               false,
               false,
               false,
               false,
               false,
               false
              ]
             },
             {
              "title": "Enrollment vs. Staff in AT (2025)"
             }
            ],
            "label": "AT",
            "method": "update"
           },
           {
            "args": [
             {
              "visible": [
               false,
               false,
               false,
               false,
               false,
               false,
               true,
               true,
               false,
               false,
               false,
               false,
               false,
               false,
               false,
               false,
               false,
               false,
               false,
               false,
               false,
               false,
               false,
               false,
               false,
               false,
               false,
               false,
               false,
               false,
               false,
               false,
               false,
               false,
               false,
               false,
               false,
               false,
               false,
               false,
               false,
               false,
               false,
               false,
               false,
               false,
               false,
               false,
               false,
               false,
               false,
               false
              ]
             },
             {
              "title": "Enrollment vs. Staff in SE (2025)"
             }
            ],
            "label": "SE",
            "method": "update"
           },
           {
            "args": [
             {
              "visible": [
               false,
               false,
               false,
               false,
               false,
               false,
               false,
               false,
               true,
               true,
               false,
               false,
               false,
               false,
               false,
               false,
               false,
               false,
               false,
               false,
               false,
               false,
               false,
               false,
               false,
               false,
               false,
               false,
               false,
               false,
               false,
               false,
               false,
               false,
               false,
               false,
               false,
               false,
               false,
               false,
               false,
               false,
               false,
               false,
               false,
               false,
               false,
               false,
               false,
               false,
               false,
               false
              ]
             },
             {
              "title": "Enrollment vs. Staff in ES (2025)"
             }
            ],
            "label": "ES",
            "method": "update"
           },
           {
            "args": [
             {
              "visible": [
               false,
               false,
               false,
               false,
               false,
               false,
               false,
               false,
               false,
               false,
               true,
               true,
               false,
               false,
               false,
               false,
               false,
               false,
               false,
               false,
               false,
               false,
               false,
               false,
               false,
               false,
               false,
               false,
               false,
               false,
               false,
               false,
               false,
               false,
               false,
               false,
               false,
               false,
               false,
               false,
               false,
               false,
               false,
               false,
               false,
               false,
               false,
               false,
               false,
               false,
               false,
               false
              ]
             },
             {
              "title": "Enrollment vs. Staff in NL (2025)"
             }
            ],
            "label": "NL",
            "method": "update"
           },
           {
            "args": [
             {
              "visible": [
               false,
               false,
               false,
               false,
               false,
               false,
               false,
               false,
               false,
               false,
               false,
               false,
               true,
               true,
               false,
               false,
               false,
               false,
               false,
               false,
               false,
               false,
               false,
               false,
               false,
               false,
               false,
               false,
               false,
               false,
               false,
               false,
               false,
               false,
               false,
               false,
               false,
               false,
               false,
               false,
               false,
               false,
               false,
               false,
               false,
               false,
               false,
               false,
               false,
               false,
               false,
               false
              ]
             },
             {
              "title": "Enrollment vs. Staff in FI (2025)"
             }
            ],
            "label": "FI",
            "method": "update"
           },
           {
            "args": [
             {
              "visible": [
               false,
               false,
               false,
               false,
               false,
               false,
               false,
               false,
               false,
               false,
               false,
               false,
               false,
               false,
               true,
               true,
               false,
               false,
               false,
               false,
               false,
               false,
               false,
               false,
               false,
               false,
               false,
               false,
               false,
               false,
               false,
               false,
               false,
               false,
               false,
               false,
               false,
               false,
               false,
               false,
               false,
               false,
               false,
               false,
               false,
               false,
               false,
               false,
               false,
               false,
               false,
               false
              ]
             },
             {
              "title": "Enrollment vs. Staff in PL (2025)"
             }
            ],
            "label": "PL",
            "method": "update"
           },
           {
            "args": [
             {
              "visible": [
               false,
               false,
               false,
               false,
               false,
               false,
               false,
               false,
               false,
               false,
               false,
               false,
               false,
               false,
               false,
               false,
               true,
               true,
               false,
               false,
               false,
               false,
               false,
               false,
               false,
               false,
               false,
               false,
               false,
               false,
               false,
               false,
               false,
               false,
               false,
               false,
               false,
               false,
               false,
               false,
               false,
               false,
               false,
               false,
               false,
               false,
               false,
               false,
               false,
               false,
               false,
               false
              ]
             },
             {
              "title": "Enrollment vs. Staff in HU (2025)"
             }
            ],
            "label": "HU",
            "method": "update"
           },
           {
            "args": [
             {
              "visible": [
               false,
               false,
               false,
               false,
               false,
               false,
               false,
               false,
               false,
               false,
               false,
               false,
               false,
               false,
               false,
               false,
               false,
               false,
               true,
               true,
               false,
               false,
               false,
               false,
               false,
               false,
               false,
               false,
               false,
               false,
               false,
               false,
               false,
               false,
               false,
               false,
               false,
               false,
               false,
               false,
               false,
               false,
               false,
               false,
               false,
               false,
               false,
               false,
               false,
               false,
               false,
               false
              ]
             },
             {
              "title": "Enrollment vs. Staff in FR (2025)"
             }
            ],
            "label": "FR",
            "method": "update"
           },
           {
            "args": [
             {
              "visible": [
               false,
               false,
               false,
               false,
               false,
               false,
               false,
               false,
               false,
               false,
               false,
               false,
               false,
               false,
               false,
               false,
               false,
               false,
               false,
               false,
               true,
               true,
               false,
               false,
               false,
               false,
               false,
               false,
               false,
               false,
               false,
               false,
               false,
               false,
               false,
               false,
               false,
               false,
               false,
               false,
               false,
               false,
               false,
               false,
               false,
               false,
               false,
               false,
               false,
               false,
               false,
               false
              ]
             },
             {
              "title": "Enrollment vs. Staff in CZ (2025)"
             }
            ],
            "label": "CZ",
            "method": "update"
           },
           {
            "args": [
             {
              "visible": [
               false,
               false,
               false,
               false,
               false,
               false,
               false,
               false,
               false,
               false,
               false,
               false,
               false,
               false,
               false,
               false,
               false,
               false,
               false,
               false,
               false,
               false,
               true,
               true,
               false,
               false,
               false,
               false,
               false,
               false,
               false,
               false,
               false,
               false,
               false,
               false,
               false,
               false,
               false,
               false,
               false,
               false,
               false,
               false,
               false,
               false,
               false,
               false,
               false,
               false,
               false,
               false
              ]
             },
             {
              "title": "Enrollment vs. Staff in LT (2025)"
             }
            ],
            "label": "LT",
            "method": "update"
           },
           {
            "args": [
             {
              "visible": [
               false,
               false,
               false,
               false,
               false,
               false,
               false,
               false,
               false,
               false,
               false,
               false,
               false,
               false,
               false,
               false,
               false,
               false,
               false,
               false,
               false,
               false,
               false,
               false,
               true,
               true,
               false,
               false,
               false,
               false,
               false,
               false,
               false,
               false,
               false,
               false,
               false,
               false,
               false,
               false,
               false,
               false,
               false,
               false,
               false,
               false,
               false,
               false,
               false,
               false,
               false,
               false
              ]
             },
             {
              "title": "Enrollment vs. Staff in PT (2025)"
             }
            ],
            "label": "PT",
            "method": "update"
           },
           {
            "args": [
             {
              "visible": [
               false,
               false,
               false,
               false,
               false,
               false,
               false,
               false,
               false,
               false,
               false,
               false,
               false,
               false,
               false,
               false,
               false,
               false,
               false,
               false,
               false,
               false,
               false,
               false,
               false,
               false,
               true,
               true,
               false,
               false,
               false,
               false,
               false,
               false,
               false,
               false,
               false,
               false,
               false,
               false,
               false,
               false,
               false,
               false,
               false,
               false,
               false,
               false,
               false,
               false,
               false,
               false
              ]
             },
             {
              "title": "Enrollment vs. Staff in LU (2025)"
             }
            ],
            "label": "LU",
            "method": "update"
           },
           {
            "args": [
             {
              "visible": [
               false,
               false,
               false,
               false,
               false,
               false,
               false,
               false,
               false,
               false,
               false,
               false,
               false,
               false,
               false,
               false,
               false,
               false,
               false,
               false,
               false,
               false,
               false,
               false,
               false,
               false,
               false,
               false,
               true,
               true,
               false,
               false,
               false,
               false,
               false,
               false,
               false,
               false,
               false,
               false,
               false,
               false,
               false,
               false,
               false,
               false,
               false,
               false,
               false,
               false,
               false,
               false
              ]
             },
             {
              "title": "Enrollment vs. Staff in MT (2025)"
             }
            ],
            "label": "MT",
            "method": "update"
           },
           {
            "args": [
             {
              "visible": [
               false,
               false,
               false,
               false,
               false,
               false,
               false,
               false,
               false,
               false,
               false,
               false,
               false,
               false,
               false,
               false,
               false,
               false,
               false,
               false,
               false,
               false,
               false,
               false,
               false,
               false,
               false,
               false,
               false,
               false,
               true,
               true,
               false,
               false,
               false,
               false,
               false,
               false,
               false,
               false,
               false,
               false,
               false,
               false,
               false,
               false,
               false,
               false,
               false,
               false,
               false,
               false
              ]
             },
             {
              "title": "Enrollment vs. Staff in IE (2025)"
             }
            ],
            "label": "IE",
            "method": "update"
           },
           {
            "args": [
             {
              "visible": [
               false,
               false,
               false,
               false,
               false,
               false,
               false,
               false,
               false,
               false,
               false,
               false,
               false,
               false,
               false,
               false,
               false,
               false,
               false,
               false,
               false,
               false,
               false,
               false,
               false,
               false,
               false,
               false,
               false,
               false,
               false,
               false,
               true,
               true,
               false,
               false,
               false,
               false,
               false,
               false,
               false,
               false,
               false,
               false,
               false,
               false,
               false,
               false,
               false,
               false,
               false,
               false
              ]
             },
             {
              "title": "Enrollment vs. Staff in HR (2025)"
             }
            ],
            "label": "HR",
            "method": "update"
           },
           {
            "args": [
             {
              "visible": [
               false,
               false,
               false,
               false,
               false,
               false,
               false,
               false,
               false,
               false,
               false,
               false,
               false,
               false,
               false,
               false,
               false,
               false,
               false,
               false,
               false,
               false,
               false,
               false,
               false,
               false,
               false,
               false,
               false,
               false,
               false,
               false,
               false,
               false,
               true,
               true,
               false,
               false,
               false,
               false,
               false,
               false,
               false,
               false,
               false,
               false,
               false,
               false,
               false,
               false,
               false,
               false
              ]
             },
             {
              "title": "Enrollment vs. Staff in EE (2025)"
             }
            ],
            "label": "EE",
            "method": "update"
           },
           {
            "args": [
             {
              "visible": [
               false,
               false,
               false,
               false,
               false,
               false,
               false,
               false,
               false,
               false,
               false,
               false,
               false,
               false,
               false,
               false,
               false,
               false,
               false,
               false,
               false,
               false,
               false,
               false,
               false,
               false,
               false,
               false,
               false,
               false,
               false,
               false,
               false,
               false,
               false,
               false,
               true,
               true,
               false,
               false,
               false,
               false,
               false,
               false,
               false,
               false,
               false,
               false,
               false,
               false,
               false,
               false
              ]
             },
             {
              "title": "Enrollment vs. Staff in BG (2025)"
             }
            ],
            "label": "BG",
            "method": "update"
           },
           {
            "args": [
             {
              "visible": [
               false,
               false,
               false,
               false,
               false,
               false,
               false,
               false,
               false,
               false,
               false,
               false,
               false,
               false,
               false,
               false,
               false,
               false,
               false,
               false,
               false,
               false,
               false,
               false,
               false,
               false,
               false,
               false,
               false,
               false,
               false,
               false,
               false,
               false,
               false,
               false,
               false,
               false,
               true,
               true,
               false,
               false,
               false,
               false,
               false,
               false,
               false,
               false,
               false,
               false,
               false,
               false
              ]
             },
             {
              "title": "Enrollment vs. Staff in GR (2025)"
             }
            ],
            "label": "GR",
            "method": "update"
           },
           {
            "args": [
             {
              "visible": [
               false,
               false,
               false,
               false,
               false,
               false,
               false,
               false,
               false,
               false,
               false,
               false,
               false,
               false,
               false,
               false,
               false,
               false,
               false,
               false,
               false,
               false,
               false,
               false,
               false,
               false,
               false,
               false,
               false,
               false,
               false,
               false,
               false,
               false,
               false,
               false,
               false,
               false,
               false,
               false,
               true,
               true,
               false,
               false,
               false,
               false,
               false,
               false,
               false,
               false,
               false,
               false
              ]
             },
             {
              "title": "Enrollment vs. Staff in SI (2025)"
             }
            ],
            "label": "SI",
            "method": "update"
           },
           {
            "args": [
             {
              "visible": [
               false,
               false,
               false,
               false,
               false,
               false,
               false,
               false,
               false,
               false,
               false,
               false,
               false,
               false,
               false,
               false,
               false,
               false,
               false,
               false,
               false,
               false,
               false,
               false,
               false,
               false,
               false,
               false,
               false,
               false,
               false,
               false,
               false,
               false,
               false,
               false,
               false,
               false,
               false,
               false,
               false,
               false,
               true,
               true,
               false,
               false,
               false,
               false,
               false,
               false,
               false,
               false
              ]
             },
             {
              "title": "Enrollment vs. Staff in LV (2025)"
             }
            ],
            "label": "LV",
            "method": "update"
           },
           {
            "args": [
             {
              "visible": [
               false,
               false,
               false,
               false,
               false,
               false,
               false,
               false,
               false,
               false,
               false,
               false,
               false,
               false,
               false,
               false,
               false,
               false,
               false,
               false,
               false,
               false,
               false,
               false,
               false,
               false,
               false,
               false,
               false,
               false,
               false,
               false,
               false,
               false,
               false,
               false,
               false,
               false,
               false,
               false,
               false,
               false,
               false,
               false,
               true,
               true,
               false,
               false,
               false,
               false,
               false,
               false
              ]
             },
             {
              "title": "Enrollment vs. Staff in SK (2025)"
             }
            ],
            "label": "SK",
            "method": "update"
           },
           {
            "args": [
             {
              "visible": [
               false,
               false,
               false,
               false,
               false,
               false,
               false,
               false,
               false,
               false,
               false,
               false,
               false,
               false,
               false,
               false,
               false,
               false,
               false,
               false,
               false,
               false,
               false,
               false,
               false,
               false,
               false,
               false,
               false,
               false,
               false,
               false,
               false,
               false,
               false,
               false,
               false,
               false,
               false,
               false,
               false,
               false,
               false,
               false,
               false,
               false,
               true,
               true,
               false,
               false,
               false,
               false
              ]
             },
             {
              "title": "Enrollment vs. Staff in RO (2025)"
             }
            ],
            "label": "RO",
            "method": "update"
           },
           {
            "args": [
             {
              "visible": [
               false,
               false,
               false,
               false,
               false,
               false,
               false,
               false,
               false,
               false,
               false,
               false,
               false,
               false,
               false,
               false,
               false,
               false,
               false,
               false,
               false,
               false,
               false,
               false,
               false,
               false,
               false,
               false,
               false,
               false,
               false,
               false,
               false,
               false,
               false,
               false,
               false,
               false,
               false,
               false,
               false,
               false,
               false,
               false,
               false,
               false,
               false,
               false,
               true,
               true,
               false,
               false
              ]
             },
             {
              "title": "Enrollment vs. Staff in DK (2025)"
             }
            ],
            "label": "DK",
            "method": "update"
           },
           {
            "args": [
             {
              "visible": [
               false,
               false,
               false,
               false,
               false,
               false,
               false,
               false,
               false,
               false,
               false,
               false,
               false,
               false,
               false,
               false,
               false,
               false,
               false,
               false,
               false,
               false,
               false,
               false,
               false,
               false,
               false,
               false,
               false,
               false,
               false,
               false,
               false,
               false,
               false,
               false,
               false,
               false,
               false,
               false,
               false,
               false,
               false,
               false,
               false,
               false,
               false,
               false,
               false,
               false,
               true,
               true
              ]
             },
             {
              "title": "Enrollment vs. Staff in BE (2025)"
             }
            ],
            "label": "BE",
            "method": "update"
           }
          ],
          "direction": "down",
          "showactive": true,
          "x": 0.05,
          "xanchor": "left",
          "y": 1.15,
          "yanchor": "top"
         }
        ],
        "xaxis": {
         "autorange": true,
         "range": [
          -0.5,
          4.5
         ],
         "tickangle": 45,
         "tickfont": {
          "size": 11
         },
         "title": {
          "font": {
           "size": 14
          },
          "text": "Daycare (with city)"
         },
         "type": "category"
        },
        "yaxis": {
         "autorange": true,
         "range": [
          0,
          94.73684210526316
         ],
         "tickfont": {
          "size": 12
         },
         "tickformat": ",",
         "title": {
          "font": {
           "size": 14
          },
          "text": "Count"
         },
         "type": "linear"
        }
       }
      },
      "image/png": "[encoded data removed]",
      "text/html": [
       "<div>                            <div id=\"8093cc70-e911-4061-9e6a-bd9bb72ee267\" class=\"plotly-graph-div\" style=\"height:600px; width:100%;\"></div>            <script type=\"text/javascript\">                require([\"plotly\"], function(Plotly) {                    window.PLOTLYENV=window.PLOTLYENV || {};                                    if (document.getElementById(\"8093cc70-e911-4061-9e6a-bd9bb72ee267\")) {                    Plotly.newPlot(                        \"8093cc70-e911-4061-9e6a-bd9bb72ee267\",                        [{\"marker\":{\"color\":\"steelblue\"},\"name\":\"Enrollment\",\"visible\":true,\"x\":[\"Busy Bees Hub (Rome)\",\"Imagine & Grow Center (Turin)\",\"WhizKidz Clubhouse (Milan)\",\"Meadowbrook Learning (Florence)\",\"KinderNest Academy (Venice)\"],\"y\":[90.0,65.0,58.0,51.0,48.0],\"type\":\"bar\"},{\"marker\":{\"color\":\"indianred\"},\"name\":\"Staff\",\"visible\":true,\"x\":[\"Busy Bees Hub (Rome)\",\"Imagine & Grow Center (Turin)\",\"WhizKidz Clubhouse (Milan)\",\"Meadowbrook Learning (Florence)\",\"KinderNest Academy (Venice)\"],\"y\":[12.0,10.0,5.0,8.0,6.0],\"type\":\"bar\"},{\"marker\":{\"color\":\"steelblue\"},\"name\":\"Enrollment\",\"visible\":false,\"x\":[\"Tiny Treasures Center (Munich)\",\"Sunshine Grove (Hamburg)\",\"Little Luminaries (Nuremberg)\",\"Rising Stars Learning Hub (Trier)\",\"Rainbow Path School (Berlin)\",\"Little Luminaries (Dresden)\"],\"y\":[95.0,82.0,63.0,51.0,46.0,35.0],\"type\":\"bar\"},{\"marker\":{\"color\":\"indianred\"},\"name\":\"Staff\",\"visible\":false,\"x\":[\"Tiny Treasures Center (Munich)\",\"Sunshine Grove (Hamburg)\",\"Little Luminaries (Nuremberg)\",\"Rising Stars Learning Hub (Trier)\",\"Rainbow Path School (Berlin)\",\"Little Luminaries (Dresden)\"],\"y\":[10.0,10.0,6.0,5.0,7.0,5.0],\"type\":\"bar\"},{\"marker\":{\"color\":\"steelblue\"},\"name\":\"Enrollment\",\"visible\":false,\"x\":[\"Little Luminaries (Vienna)\",\"Sunshine Grove (Graz)\",\"Busy Bees Hub (Innsbruck)\",\"Meadowbrook Learning (Salzburg)\",\"Little Steps Station (Innsbruck)\"],\"y\":[99.0,82.0,72.0,56.0,31.0],\"type\":\"bar\"},{\"marker\":{\"color\":\"indianred\"},\"name\":\"Staff\",\"visible\":false,\"x\":[\"Little Luminaries (Vienna)\",\"Sunshine Grove (Graz)\",\"Busy Bees Hub (Innsbruck)\",\"Meadowbrook Learning (Salzburg)\",\"Little Steps Station (Innsbruck)\"],\"y\":[16.0,9.0,8.0,8.0,3.0],\"type\":\"bar\"},{\"marker\":{\"color\":\"steelblue\"},\"name\":\"Enrollment\",\"visible\":false,\"x\":[\"Meadowbrook Learning (Gothenburg)\",\"KinderNest Academy (Gothenburg)\",\"NextGen Kids Place (Stockholm)\",\"Happy Hearts Preschool (Helsignborg)\",\"Creative Cubs Campus (Stockholm)\"],\"y\":[92.0,85.0,63.0,63.0,42.0],\"type\":\"bar\"},{\"marker\":{\"color\":\"indianred\"},\"name\":\"Staff\",\"visible\":false,\"x\":[\"Meadowbrook Learning (Gothenburg)\",\"KinderNest Academy (Gothenburg)\",\"NextGen Kids Place (Stockholm)\",\"Happy Hearts Preschool (Helsignborg)\",\"Creative Cubs Campus (Stockholm)\"],\"y\":[10.0,8.0,7.0,6.0,5.0],\"type\":\"bar\"},{\"marker\":{\"color\":\"steelblue\"},\"name\":\"Enrollment\",\"visible\":false,\"x\":[\"Little Explorers Academy (Seville)\",\"Meadowbrook Learning (Valencia)\",\"Rising Stars Learning Hub (Barcelona)\",\"StarSprout Place (Zaragoza)\",\"WhizKidz Clubhouse (Madrid)\",\"Meadowbrook Learning (Bilbao)\",\"Harmony Hills Childcare (Madrid)\"],\"y\":[98.0,92.0,87.0,41.0,37.0,31.0,23.0],\"type\":\"bar\"},{\"marker\":{\"color\":\"indianred\"},\"name\":\"Staff\",\"visible\":false,\"x\":[\"Little Explorers Academy (Seville)\",\"Meadowbrook Learning (Valencia)\",\"Rising Stars Learning Hub (Barcelona)\",\"StarSprout Place (Zaragoza)\",\"WhizKidz Clubhouse (Madrid)\",\"Meadowbrook Learning (Bilbao)\",\"Harmony Hills Childcare (Madrid)\"],\"y\":[9.0,13.0,14.0,4.0,4.0,3.0,2.0],\"type\":\"bar\"},{\"marker\":{\"color\":\"steelblue\"},\"name\":\"Enrollment\",\"visible\":false,\"x\":[\"Little Explorers Academy (Amsterdam)\",\"KinderNest Academy (Rotterdam)\",\"KinderNest Academy (Breda)\",\"WhizKidz Clubhouse (Amsterdam)\",\"Tiny Treasures Center (Utrecht)\"],\"y\":[99.0,96.0,61.0,55.0,47.0],\"type\":\"bar\"},{\"marker\":{\"color\":\"indianred\"},\"name\":\"Staff\",\"visible\":false,\"x\":[\"Little Explorers Academy (Amsterdam)\",\"KinderNest Academy (Rotterdam)\",\"KinderNest Academy (Breda)\",\"WhizKidz Clubhouse (Amsterdam)\",\"Tiny Treasures Center (Utrecht)\"],\"y\":[9.0,10.0,6.0,5.0,6.0],\"type\":\"bar\"},{\"marker\":{\"color\":\"steelblue\"},\"name\":\"Enrollment\",\"visible\":false,\"x\":[\"Meadowbrook Learning (Helsinki)\"],\"y\":[37.0],\"type\":\"bar\"},{\"marker\":{\"color\":\"indianred\"},\"name\":\"Staff\",\"visible\":false,\"x\":[\"Meadowbrook Learning (Helsinki)\"],\"y\":[5.0],\"type\":\"bar\"},{\"marker\":{\"color\":\"steelblue\"},\"name\":\"Enrollment\",\"visible\":false,\"x\":[\"Brilliant Minds Hub (Wroc_aw)\",\"WonderNest Learning (Krak\\u0097w)\",\"Little Steps Station (Katowice)\",\"Little Steps Station (Sczcecin)\",\"Little Explorers Academy (Lublin)\"],\"y\":[97.0,78.0,51.0,40.0,28.0],\"type\":\"bar\"},{\"marker\":{\"color\":\"indianred\"},\"name\":\"Staff\",\"visible\":false,\"x\":[\"Brilliant Minds Hub (Wroc_aw)\",\"WonderNest Learning (Krak\\u0097w)\",\"Little Steps Station (Katowice)\",\"Little Steps Station (Sczcecin)\",\"Little Explorers Academy (Lublin)\"],\"y\":[12.0,9.0,6.0,6.0,2.0],\"type\":\"bar\"},{\"marker\":{\"color\":\"steelblue\"},\"name\":\"Enrollment\",\"visible\":false,\"x\":[\"Rainbow Path School (Budapest)\"],\"y\":[77.0],\"type\":\"bar\"},{\"marker\":{\"color\":\"indianred\"},\"name\":\"Staff\",\"visible\":false,\"x\":[\"Rainbow Path School (Budapest)\"],\"y\":[9.0],\"type\":\"bar\"},{\"marker\":{\"color\":\"steelblue\"},\"name\":\"Enrollment\",\"visible\":false,\"x\":[\"WhizKidz Clubhouse (Marseille)\",\"Brilliant Minds Hub (Rouen)\",\"Little Explorers Academy (Lyon)\",\"Little Steps Station (Straburg)\",\"StarSprout Place (Paris)\",\"Rising Stars Learning Hub (Marseille)\",\"Rainbow Path School (Paris)\"],\"y\":[97.0,94.0,86.0,72.0,69.0,63.0,41.0],\"type\":\"bar\"},{\"marker\":{\"color\":\"indianred\"},\"name\":\"Staff\",\"visible\":false,\"x\":[\"WhizKidz Clubhouse (Marseille)\",\"Brilliant Minds Hub (Rouen)\",\"Little Explorers Academy (Lyon)\",\"Little Steps Station (Straburg)\",\"StarSprout Place (Paris)\",\"Rising Stars Learning Hub (Marseille)\",\"Rainbow Path School (Paris)\"],\"y\":[16.0,10.0,10.0,9.0,8.0,9.0,5.0],\"type\":\"bar\"},{\"marker\":{\"color\":\"steelblue\"},\"name\":\"Enrollment\",\"visible\":false,\"x\":[\"Tiny Treasures Center (Prague)\"],\"y\":[50.0],\"type\":\"bar\"},{\"marker\":{\"color\":\"indianred\"},\"name\":\"Staff\",\"visible\":false,\"x\":[\"Tiny Treasures Center (Prague)\"],\"y\":[7.0],\"type\":\"bar\"},{\"marker\":{\"color\":\"steelblue\"},\"name\":\"Enrollment\",\"visible\":false,\"x\":[\"Happy Hearts Preschool (Vilnius)\"],\"y\":[64.0],\"type\":\"bar\"},{\"marker\":{\"color\":\"indianred\"},\"name\":\"Staff\",\"visible\":false,\"x\":[\"Happy Hearts Preschool (Vilnius)\"],\"y\":[10.0],\"type\":\"bar\"},{\"marker\":{\"color\":\"steelblue\"},\"name\":\"Enrollment\",\"visible\":false,\"x\":[\"Meadowbrook Learning (Lisbon)\"],\"y\":[98.0],\"type\":\"bar\"},{\"marker\":{\"color\":\"indianred\"},\"name\":\"Staff\",\"visible\":false,\"x\":[\"Meadowbrook Learning (Lisbon)\"],\"y\":[16.0],\"type\":\"bar\"},{\"marker\":{\"color\":\"steelblue\"},\"name\":\"Enrollment\",\"visible\":false,\"x\":[\"Bright Sprouts (Luxembourg)\",\"Sunny Sprouts (Esch-sur-Alzette)\",\"Bright Buddies (Luxembourg)\"],\"y\":[89.0,54.0,25.0],\"type\":\"bar\"},{\"marker\":{\"color\":\"indianred\"},\"name\":\"Staff\",\"visible\":false,\"x\":[\"Bright Sprouts (Luxembourg)\",\"Sunny Sprouts (Esch-sur-Alzette)\",\"Bright Buddies (Luxembourg)\"],\"y\":[8.0,6.0,3.0],\"type\":\"bar\"},{\"marker\":{\"color\":\"steelblue\"},\"name\":\"Enrollment\",\"visible\":false,\"x\":[\"Sunny Dreams (Mosta)\",\"Bright Stars (Birkirkara)\",\"Little Buddies (Valletta)\",\"Sunny Adventures (Valletta)\",\"Magic Dreams (Mosta)\",\"Magic Steps (Birkirkara)\",\"Little Sprouts (Birkirkara)\"],\"y\":[99.0,93.0,87.0,82.0,69.0,68.0,55.0],\"type\":\"bar\"},{\"marker\":{\"color\":\"indianred\"},\"name\":\"Staff\",\"visible\":false,\"x\":[\"Sunny Dreams (Mosta)\",\"Bright Stars (Birkirkara)\",\"Little Buddies (Valletta)\",\"Sunny Adventures (Valletta)\",\"Magic Dreams (Mosta)\",\"Magic Steps (Birkirkara)\",\"Little Sprouts (Birkirkara)\"],\"y\":[9.0,15.0,8.0,8.0,8.0,9.0,7.0],\"type\":\"bar\"},{\"marker\":{\"color\":\"steelblue\"},\"name\":\"Enrollment\",\"visible\":false,\"x\":[\"Creative Buddies (Cork)\",\"Rainbow Dreams (Limerick)\",\"Rainbow Explorers (Dublin)\",\"Tiny Hearts (Dublin)\",\"Happy Buddies (Dublin)\",\"Creative Steps (Dublin)\",\"Magic Steps (Limerick)\",\"Bright Hearts (Cork)\",\"Sunny Sprouts (Cork)\"],\"y\":[89.0,85.0,69.0,67.0,63.0,62.0,47.0,38.0,37.0],\"type\":\"bar\"},{\"marker\":{\"color\":\"indianred\"},\"name\":\"Staff\",\"visible\":false,\"x\":[\"Creative Buddies (Cork)\",\"Rainbow Dreams (Limerick)\",\"Rainbow Explorers (Dublin)\",\"Tiny Hearts (Dublin)\",\"Happy Buddies (Dublin)\",\"Creative Steps (Dublin)\",\"Magic Steps (Limerick)\",\"Bright Hearts (Cork)\",\"Sunny Sprouts (Cork)\"],\"y\":[9.0,8.0,9.0,9.0,6.0,6.0,7.0,4.0,3.0],\"type\":\"bar\"},{\"marker\":{\"color\":\"steelblue\"},\"name\":\"Enrollment\",\"visible\":false,\"x\":[\"Magic Steps (Split)\",\"Magic Steps (Zagreb)\",\"Sunny Sprouts (Zagreb)\"],\"y\":[76.0,46.0,32.0],\"type\":\"bar\"},{\"marker\":{\"color\":\"indianred\"},\"name\":\"Staff\",\"visible\":false,\"x\":[\"Magic Steps (Split)\",\"Magic Steps (Zagreb)\",\"Sunny Sprouts (Zagreb)\"],\"y\":[12.0,4.0,4.0],\"type\":\"bar\"},{\"marker\":{\"color\":\"steelblue\"},\"name\":\"Enrollment\",\"visible\":false,\"x\":[\"Bright Stars (Narva)\",\"Sunny Adventures (Narva)\"],\"y\":[74.0,28.0],\"type\":\"bar\"},{\"marker\":{\"color\":\"indianred\"},\"name\":\"Staff\",\"visible\":false,\"x\":[\"Bright Stars (Narva)\",\"Sunny Adventures (Narva)\"],\"y\":[12.0,2.0],\"type\":\"bar\"},{\"marker\":{\"color\":\"steelblue\"},\"name\":\"Enrollment\",\"visible\":false,\"x\":[\"Magic Hearts (Plovdiv)\",\"Happy Steps (Plovdiv)\",\"Creative Dreams (Plovdiv)\",\"Rainbow Sprouts (Varna)\",\"Sunny Explorers (Varna)\",\"Magic Steps (Plovdiv)\"],\"y\":[91.0,66.0,53.0,48.0,37.0,30.0],\"type\":\"bar\"},{\"marker\":{\"color\":\"indianred\"},\"name\":\"Staff\",\"visible\":false,\"x\":[\"Magic Hearts (Plovdiv)\",\"Happy Steps (Plovdiv)\",\"Creative Dreams (Plovdiv)\",\"Rainbow Sprouts (Varna)\",\"Sunny Explorers (Varna)\",\"Magic Steps (Plovdiv)\"],\"y\":[9.0,9.0,5.0,5.0,4.0,3.0],\"type\":\"bar\"},{\"marker\":{\"color\":\"steelblue\"},\"name\":\"Enrollment\",\"visible\":false,\"x\":[\"Little Sprouts (Athens)\",\"Tiny Sprouts (Athens)\"],\"y\":[49.0,33.0],\"type\":\"bar\"},{\"marker\":{\"color\":\"indianred\"},\"name\":\"Staff\",\"visible\":false,\"x\":[\"Little Sprouts (Athens)\",\"Tiny Sprouts (Athens)\"],\"y\":[6.0,4.0],\"type\":\"bar\"},{\"marker\":{\"color\":\"steelblue\"},\"name\":\"Enrollment\",\"visible\":false,\"x\":[\"Bright Hearts (Ljubljana)\",\"Rainbow Hearts (Ljubljana)\",\"Bright Adventures (Celje)\",\"Creative Steps (Maribor)\",\"Magic Buddies (Ljubljana)\"],\"y\":[94.0,75.0,64.0,61.0,60.0],\"type\":\"bar\"},{\"marker\":{\"color\":\"indianred\"},\"name\":\"Staff\",\"visible\":false,\"x\":[\"Bright Hearts (Ljubljana)\",\"Rainbow Hearts (Ljubljana)\",\"Bright Adventures (Celje)\",\"Creative Steps (Maribor)\",\"Magic Buddies (Ljubljana)\"],\"y\":[10.0,9.0,10.0,7.0,6.0],\"type\":\"bar\"},{\"marker\":{\"color\":\"steelblue\"},\"name\":\"Enrollment\",\"visible\":false,\"x\":[\"Creative Dreams (Riga)\",\"Little Adventures (Riga)\",\"Tiny Adventures (Liepaja)\",\"Little Explorers (Liepaja)\",\"Sunny Steps (Riga)\"],\"y\":[80.0,70.0,63.0,35.0,33.0],\"type\":\"bar\"},{\"marker\":{\"color\":\"indianred\"},\"name\":\"Staff\",\"visible\":false,\"x\":[\"Creative Dreams (Riga)\",\"Little Adventures (Riga)\",\"Tiny Adventures (Liepaja)\",\"Little Explorers (Liepaja)\",\"Sunny Steps (Riga)\"],\"y\":[10.0,8.0,10.0,3.0,4.0],\"type\":\"bar\"},{\"marker\":{\"color\":\"steelblue\"},\"name\":\"Enrollment\",\"visible\":false,\"x\":[\"Rainbow Explorers (Ko\\u00c5\\u00a1ice)\",\"Creative Dreams (Bratislava)\"],\"y\":[92.0,43.0],\"type\":\"bar\"},{\"marker\":{\"color\":\"indianred\"},\"name\":\"Staff\",\"visible\":false,\"x\":[\"Rainbow Explorers (Ko\\u00c5\\u00a1ice)\",\"Creative Dreams (Bratislava)\"],\"y\":[15.0,6.0],\"type\":\"bar\"},{\"marker\":{\"color\":\"steelblue\"},\"name\":\"Enrollment\",\"visible\":false,\"x\":[\"Rainbow Explorers (Timi\\u00c8\\u0099oara)\"],\"y\":[36.0],\"type\":\"bar\"},{\"marker\":{\"color\":\"indianred\"},\"name\":\"Staff\",\"visible\":false,\"x\":[\"Rainbow Explorers (Timi\\u00c8\\u0099oara)\"],\"y\":[5.0],\"type\":\"bar\"},{\"marker\":{\"color\":\"steelblue\"},\"name\":\"Enrollment\",\"visible\":false,\"x\":[\"Magic Buddies (Copenhagen)\",\"Sunny Dreams (Odense)\",\"Creative Dreams (Aarhus)\"],\"y\":[97.0,65.0,36.0],\"type\":\"bar\"},{\"marker\":{\"color\":\"indianred\"},\"name\":\"Staff\",\"visible\":false,\"x\":[\"Magic Buddies (Copenhagen)\",\"Sunny Dreams (Odense)\",\"Creative Dreams (Aarhus)\"],\"y\":[10.0,6.0,5.0],\"type\":\"bar\"},{\"marker\":{\"color\":\"steelblue\"},\"name\":\"Enrollment\",\"visible\":false,\"x\":[\"Creative Stars (Ghent)\",\"Sunny Adventures (Brussels)\"],\"y\":[95.0,47.0],\"type\":\"bar\"},{\"marker\":{\"color\":\"indianred\"},\"name\":\"Staff\",\"visible\":false,\"x\":[\"Creative Stars (Ghent)\",\"Sunny Adventures (Brussels)\"],\"y\":[13.0,5.0],\"type\":\"bar\"}],                        {\"template\":{\"data\":{\"histogram2dcontour\":[{\"type\":\"histogram2dcontour\",\"colorbar\":{\"outlinewidth\":0,\"ticks\":\"\"},\"colorscale\":[[0.0,\"#0d0887\"],[0.1111111111111111,\"#46039f\"],[0.2222222222222222,\"#7201a8\"],[0.3333333333333333,\"#9c179e\"],[0.4444444444444444,\"#bd3786\"],[0.5555555555555556,\"#d8576b\"],[0.6666666666666666,\"#ed7953\"],[0.7777777777777778,\"#fb9f3a\"],[0.8888888888888888,\"#fdca26\"],[1.0,\"#f0f921\"]]}],\"choropleth\":[{\"type\":\"choropleth\",\"colorbar\":{\"outlinewidth\":0,\"ticks\":\"\"}}],\"histogram2d\":[{\"type\":\"histogram2d\",\"colorbar\":{\"outlinewidth\":0,\"ticks\":\"\"},\"colorscale\":[[0.0,\"#0d0887\"],[0.1111111111111111,\"#46039f\"],[0.2222222222222222,\"#7201a8\"],[0.3333333333333333,\"#9c179e\"],[0.4444444444444444,\"#bd3786\"],[0.5555555555555556,\"#d8576b\"],[0.6666666666666666,\"#ed7953\"],[0.7777777777777778,\"#fb9f3a\"],[0.8888888888888888,\"#fdca26\"],[1.0,\"#f0f921\"]]}],\"heatmap\":[{\"type\":\"heatmap\",\"colorbar\":{\"outlinewidth\":0,\"ticks\":\"\"},\"colorscale\":[[0.0,\"#0d0887\"],[0.1111111111111111,\"#46039f\"],[0.2222222222222222,\"#7201a8\"],[0.3333333333333333,\"#9c179e\"],[0.4444444444444444,\"#bd3786\"],[0.5555555555555556,\"#d8576b\"],[0.6666666666666666,\"#ed7953\"],[0.7777777777777778,\"#fb9f3a\"],[0.8888888888888888,\"#fdca26\"],[1.0,\"#f0f921\"]]}],\"heatmapgl\":[{\"type\":\"heatmapgl\",\"colorbar\":{\"outlinewidth\":0,\"ticks\":\"\"},\"colorscale\":[[0.0,\"#0d0887\"],[0.1111111111111111,\"#46039f\"],[0.2222222222222222,\"#7201a8\"],[0.3333333333333333,\"#9c179e\"],[0.4444444444444444,\"#bd3786\"],[0.5555555555555556,\"#d8576b\"],[0.6666666666666666,\"#ed7953\"],[0.7777777777777778,\"#fb9f3a\"],[0.8888888888888888,\"#fdca26\"],[1.0,\"#f0f921\"]]}],\"contourcarpet\":[{\"type\":\"contourcarpet\",\"colorbar\":{\"outlinewidth\":0,\"ticks\":\"\"}}],\"contour\":[{\"type\":\"contour\",\"colorbar\":{\"outlinewidth\":0,\"ticks\":\"\"},\"colorscale\":[[0.0,\"#0d0887\"],[0.1111111111111111,\"#46039f\"],[0.2222222222222222,\"#7201a8\"],[0.3333333333333333,\"#9c179e\"],[0.4444444444444444,\"#bd3786\"],[0.5555555555555556,\"#d8576b\"],[0.6666666666666666,\"#ed7953\"],[0.7777777777777778,\"#fb9f3a\"],[0.8888888888888888,\"#fdca26\"],[1.0,\"#f0f921\"]]}],\"surface\":[{\"type\":\"surface\",\"colorbar\":{\"outlinewidth\":0,\"ticks\":\"\"},\"colorscale\":[[0.0,\"#0d0887\"],[0.1111111111111111,\"#46039f\"],[0.2222222222222222,\"#7201a8\"],[0.3333333333333333,\"#9c179e\"],[0.4444444444444444,\"#bd3786\"],[0.5555555555555556,\"#d8576b\"],[0.6666666666666666,\"#ed7953\"],[0.7777777777777778,\"#fb9f3a\"],[0.8888888888888888,\"#fdca26\"],[1.0,\"#f0f921\"]]}],\"mesh3d\":[{\"type\":\"mesh3d\",\"colorbar\":{\"outlinewidth\":0,\"ticks\":\"\"}}],\"scatter\":[{\"fillpattern\":{\"fillmode\":\"overlay\",\"size\":10,\"solidity\":0.2},\"type\":\"scatter\"}],\"parcoords\":[{\"type\":\"parcoords\",\"line\":{\"colorbar\":{\"outlinewidth\":0,\"ticks\":\"\"}}}],\"scatterpolargl\":[{\"type\":\"scatterpolargl\",\"marker\":{\"colorbar\":{\"outlinewidth\":0,\"ticks\":\"\"}}}],\"bar\":[{\"error_x\":{\"color\":\"#2a3f5f\"},\"error_y\":{\"color\":\"#2a3f5f\"},\"marker\":{\"line\":{\"color\":\"#E5ECF6\",\"width\":0.5},\"pattern\":{\"fillmode\":\"overlay\",\"size\":10,\"solidity\":0.2}},\"type\":\"bar\"}],\"scattergeo\":[{\"type\":\"scattergeo\",\"marker\":{\"colorbar\":{\"outlinewidth\":0,\"ticks\":\"\"}}}],\"scatterpolar\":[{\"type\":\"scatterpolar\",\"marker\":{\"colorbar\":{\"outlinewidth\":0,\"ticks\":\"\"}}}],\"histogram\":[{\"marker\":{\"pattern\":{\"fillmode\":\"overlay\",\"size\":10,\"solidity\":0.2}},\"type\":\"histogram\"}],\"scattergl\":[{\"type\":\"scattergl\",\"marker\":{\"colorbar\":{\"outlinewidth\":0,\"ticks\":\"\"}}}],\"scatter3d\":[{\"type\":\"scatter3d\",\"line\":{\"colorbar\":{\"outlinewidth\":0,\"ticks\":\"\"}},\"marker\":{\"colorbar\":{\"outlinewidth\":0,\"ticks\":\"\"}}}],\"scattermapbox\":[{\"type\":\"scattermapbox\",\"marker\":{\"colorbar\":{\"outlinewidth\":0,\"ticks\":\"\"}}}],\"scatterternary\":[{\"type\":\"scatterternary\",\"marker\":{\"colorbar\":{\"outlinewidth\":0,\"ticks\":\"\"}}}],\"scattercarpet\":[{\"type\":\"scattercarpet\",\"marker\":{\"colorbar\":{\"outlinewidth\":0,\"ticks\":\"\"}}}],\"carpet\":[{\"aaxis\":{\"endlinecolor\":\"#2a3f5f\",\"gridcolor\":\"white\",\"linecolor\":\"white\",\"minorgridcolor\":\"white\",\"startlinecolor\":\"#2a3f5f\"},\"baxis\":{\"endlinecolor\":\"#2a3f5f\",\"gridcolor\":\"white\",\"linecolor\":\"white\",\"minorgridcolor\":\"white\",\"startlinecolor\":\"#2a3f5f\"},\"type\":\"carpet\"}],\"table\":[{\"cells\":{\"fill\":{\"color\":\"#EBF0F8\"},\"line\":{\"color\":\"white\"}},\"header\":{\"fill\":{\"color\":\"#C8D4E3\"},\"line\":{\"color\":\"white\"}},\"type\":\"table\"}],\"barpolar\":[{\"marker\":{\"line\":{\"color\":\"#E5ECF6\",\"width\":0.5},\"pattern\":{\"fillmode\":\"overlay\",\"size\":10,\"solidity\":0.2}},\"type\":\"barpolar\"}],\"pie\":[{\"automargin\":true,\"type\":\"pie\"}]},\"layout\":{\"autotypenumbers\":\"strict\",\"colorway\":[\"#636efa\",\"#EF553B\",\"#00cc96\",\"#ab63fa\",\"#FFA15A\",\"#19d3f3\",\"#FF6692\",\"#B6E880\",\"#FF97FF\",\"#FECB52\"],\"font\":{\"color\":\"#2a3f5f\"},\"hovermode\":\"closest\",\"hoverlabel\":{\"align\":\"left\"},\"paper_bgcolor\":\"white\",\"plot_bgcolor\":\"#E5ECF6\",\"polar\":{\"bgcolor\":\"#E5ECF6\",\"angularaxis\":{\"gridcolor\":\"white\",\"linecolor\":\"white\",\"ticks\":\"\"},\"radialaxis\":{\"gridcolor\":\"white\",\"linecolor\":\"white\",\"ticks\":\"\"}},\"ternary\":{\"bgcolor\":\"#E5ECF6\",\"aaxis\":{\"gridcolor\":\"white\",\"linecolor\":\"white\",\"ticks\":\"\"},\"baxis\":{\"gridcolor\":\"white\",\"linecolor\":\"white\",\"ticks\":\"\"},\"caxis\":{\"gridcolor\":\"white\",\"linecolor\":\"white\",\"ticks\":\"\"}},\"coloraxis\":{\"colorbar\":{\"outlinewidth\":0,\"ticks\":\"\"}},\"colorscale\":{\"sequential\":[[0.0,\"#0d0887\"],[0.1111111111111111,\"#46039f\"],[0.2222222222222222,\"#7201a8\"],[0.3333333333333333,\"#9c179e\"],[0.4444444444444444,\"#bd3786\"],[0.5555555555555556,\"#d8576b\"],[0.6666666666666666,\"#ed7953\"],[0.7777777777777778,\"#fb9f3a\"],[0.8888888888888888,\"#fdca26\"],[1.0,\"#f0f921\"]],\"sequentialminus\":[[0.0,\"#0d0887\"],[0.1111111111111111,\"#46039f\"],[0.2222222222222222,\"#7201a8\"],[0.3333333333333333,\"#9c179e\"],[0.4444444444444444,\"#bd3786\"],[0.5555555555555556,\"#d8576b\"],[0.6666666666666666,\"#ed7953\"],[0.7777777777777778,\"#fb9f3a\"],[0.8888888888888888,\"#fdca26\"],[1.0,\"#f0f921\"]],\"diverging\":[[0,\"#8e0152\"],[0.1,\"#c51b7d\"],[0.2,\"#de77ae\"],[0.3,\"#f1b6da\"],[0.4,\"#fde0ef\"],[0.5,\"#f7f7f7\"],[0.6,\"#e6f5d0\"],[0.7,\"#b8e186\"],[0.8,\"#7fbc41\"],[0.9,\"#4d9221\"],[1,\"#276419\"]]},\"xaxis\":{\"gridcolor\":\"white\",\"linecolor\":\"white\",\"ticks\":\"\",\"title\":{\"standoff\":15},\"zerolinecolor\":\"white\",\"automargin\":true,\"zerolinewidth\":2},\"yaxis\":{\"gridcolor\":\"white\",\"linecolor\":\"white\",\"ticks\":\"\",\"title\":{\"standoff\":15},\"zerolinecolor\":\"white\",\"automargin\":true,\"zerolinewidth\":2},\"scene\":{\"xaxis\":{\"backgroundcolor\":\"#E5ECF6\",\"gridcolor\":\"white\",\"linecolor\":\"white\",\"showbackground\":true,\"ticks\":\"\",\"zerolinecolor\":\"white\",\"gridwidth\":2},\"yaxis\":{\"backgroundcolor\":\"#E5ECF6\",\"gridcolor\":\"white\",\"linecolor\":\"white\",\"showbackground\":true,\"ticks\":\"\",\"zerolinecolor\":\"white\",\"gridwidth\":2},\"zaxis\":{\"backgroundcolor\":\"#E5ECF6\",\"gridcolor\":\"white\",\"linecolor\":\"white\",\"showbackground\":true,\"ticks\":\"\",\"zerolinecolor\":\"white\",\"gridwidth\":2}},\"shapedefaults\":{\"line\":{\"color\":\"#2a3f5f\"}},\"annotationdefaults\":{\"arrowcolor\":\"#2a3f5f\",\"arrowhead\":0,\"arrowwidth\":1},\"geo\":{\"bgcolor\":\"white\",\"landcolor\":\"#E5ECF6\",\"subunitcolor\":\"white\",\"showland\":true,\"showlakes\":true,\"lakecolor\":\"white\"},\"title\":{\"x\":0.05},\"mapbox\":{\"style\":\"light\"}}},\"xaxis\":{\"tickfont\":{\"size\":11},\"title\":{\"text\":\"Daycare (with city)\",\"font\":{\"size\":14}},\"tickangle\":45},\"yaxis\":{\"title\":{\"text\":\"Count\",\"font\":{\"size\":14}},\"tickfont\":{\"size\":12},\"tickformat\":\",\"},\"updatemenus\":[{\"buttons\":[{\"args\":[{\"visible\":[true,true,false,false,false,false,false,false,false,false,false,false,false,false,false,false,false,false,false,false,false,false,false,false,false,false,false,false,false,false,false,false,false,false,false,false,false,false,false,false,false,false,false,false,false,false,false,false,false,false,false,false]},{\"title\":\"Enrollment vs. Staff in IT (2025)\"}],\"label\":\"IT\",\"method\":\"update\"},{\"args\":[{\"visible\":[false,false,true,true,false,false,false,false,false,false,false,false,false,false,false,false,false,false,false,false,false,false,false,false,false,false,false,false,false,false,false,false,false,false,false,false,false,false,false,false,false,false,false,false,false,false,false,false,false,false,false,false]},{\"title\":\"Enrollment vs. Staff in DE (2025)\"}],\"label\":\"DE\",\"method\":\"update\"},{\"args\":[{\"visible\":[false,false,false,false,true,true,false,false,false,false,false,false,false,false,false,false,false,false,false,false,false,false,false,false,false,false,false,false,false,false,false,false,false,false,false,false,false,false,false,false,false,false,false,false,false,false,false,false,false,false,false,false]},{\"title\":\"Enrollment vs. Staff in AT (2025)\"}],\"label\":\"AT\",\"method\":\"update\"},{\"args\":[{\"visible\":[false,false,false,false,false,false,true,true,false,false,false,false,false,false,false,false,false,false,false,false,false,false,false,false,false,false,false,false,false,false,false,false,false,false,false,false,false,false,false,false,false,false,false,false,false,false,false,false,false,false,false,false]},{\"title\":\"Enrollment vs. Staff in SE (2025)\"}],\"label\":\"SE\",\"method\":\"update\"},{\"args\":[{\"visible\":[false,false,false,false,false,false,false,false,true,true,false,false,false,false,false,false,false,false,false,false,false,false,false,false,false,false,false,false,false,false,false,false,false,false,false,false,false,false,false,false,false,false,false,false,false,false,false,false,false,false,false,false]},{\"title\":\"Enrollment vs. Staff in ES (2025)\"}],\"label\":\"ES\",\"method\":\"update\"},{\"args\":[{\"visible\":[false,false,false,false,false,false,false,false,false,false,true,true,false,false,false,false,false,false,false,false,false,false,false,false,false,false,false,false,false,false,false,false,false,false,false,false,false,false,false,false,false,false,false,false,false,false,false,false,false,false,false,false]},{\"title\":\"Enrollment vs. Staff in NL (2025)\"}],\"label\":\"NL\",\"method\":\"update\"},{\"args\":[{\"visible\":[false,false,false,false,false,false,false,false,false,false,false,false,true,true,false,false,false,false,false,false,false,false,false,false,false,false,false,false,false,false,false,false,false,false,false,false,false,false,false,false,false,false,false,false,false,false,false,false,false,false,false,false]},{\"title\":\"Enrollment vs. Staff in FI (2025)\"}],\"label\":\"FI\",\"method\":\"update\"},{\"args\":[{\"visible\":[false,false,false,false,false,false,false,false,false,false,false,false,false,false,true,true,false,false,false,false,false,false,false,false,false,false,false,false,false,false,false,false,false,false,false,false,false,false,false,false,false,false,false,false,false,false,false,false,false,false,false,false]},{\"title\":\"Enrollment vs. Staff in PL (2025)\"}],\"label\":\"PL\",\"method\":\"update\"},{\"args\":[{\"visible\":[false,false,false,false,false,false,false,false,false,false,false,false,false,false,false,false,true,true,false,false,false,false,false,false,false,false,false,false,false,false,false,false,false,false,false,false,false,false,false,false,false,false,false,false,false,false,false,false,false,false,false,false]},{\"title\":\"Enrollment vs. Staff in HU (2025)\"}],\"label\":\"HU\",\"method\":\"update\"},{\"args\":[{\"visible\":[false,false,false,false,false,false,false,false,false,false,false,false,false,false,false,false,false,false,true,true,false,false,false,false,false,false,false,false,false,false,false,false,false,false,false,false,false,false,false,false,false,false,false,false,false,false,false,false,false,false,false,false]},{\"title\":\"Enrollment vs. Staff in FR (2025)\"}],\"label\":\"FR\",\"method\":\"update\"},{\"args\":[{\"visible\":[false,false,false,false,false,false,false,false,false,false,false,false,false,false,false,false,false,false,false,false,true,true,false,false,false,false,false,false,false,false,false,false,false,false,false,false,false,false,false,false,false,false,false,false,false,false,false,false,false,false,false,false]},{\"title\":\"Enrollment vs. Staff in CZ (2025)\"}],\"label\":\"CZ\",\"method\":\"update\"},{\"args\":[{\"visible\":[false,false,false,false,false,false,false,false,false,false,false,false,false,false,false,false,false,false,false,false,false,false,true,true,false,false,false,false,false,false,false,false,false,false,false,false,false,false,false,false,false,false,false,false,false,false,false,false,false,false,false,false]},{\"title\":\"Enrollment vs. Staff in LT (2025)\"}],\"label\":\"LT\",\"method\":\"update\"},{\"args\":[{\"visible\":[false,false,false,false,false,false,false,false,false,false,false,false,false,false,false,false,false,false,false,false,false,false,false,false,true,true,false,false,false,false,false,false,false,false,false,false,false,false,false,false,false,false,false,false,false,false,false,false,false,false,false,false]},{\"title\":\"Enrollment vs. Staff in PT (2025)\"}],\"label\":\"PT\",\"method\":\"update\"},{\"args\":[{\"visible\":[false,false,false,false,false,false,false,false,false,false,false,false,false,false,false,false,false,false,false,false,false,false,false,false,false,false,true,true,false,false,false,false,false,false,false,false,false,false,false,false,false,false,false,false,false,false,false,false,false,false,false,false]},{\"title\":\"Enrollment vs. Staff in LU (2025)\"}],\"label\":\"LU\",\"method\":\"update\"},{\"args\":[{\"visible\":[false,false,false,false,false,false,false,false,false,false,false,false,false,false,false,false,false,false,false,false,false,false,false,false,false,false,false,false,true,true,false,false,false,false,false,false,false,false,false,false,false,false,false,false,false,false,false,false,false,false,false,false]},{\"title\":\"Enrollment vs. Staff in MT (2025)\"}],\"label\":\"MT\",\"method\":\"update\"},{\"args\":[{\"visible\":[false,false,false,false,false,false,false,false,false,false,false,false,false,false,false,false,false,false,false,false,false,false,false,false,false,false,false,false,false,false,true,true,false,false,false,false,false,false,false,false,false,false,false,false,false,false,false,false,false,false,false,false]},{\"title\":\"Enrollment vs. Staff in IE (2025)\"}],\"label\":\"IE\",\"method\":\"update\"},{\"args\":[{\"visible\":[false,false,false,false,false,false,false,false,false,false,false,false,false,false,false,false,false,false,false,false,false,false,false,false,false,false,false,false,false,false,false,false,true,true,false,false,false,false,false,false,false,false,false,false,false,false,false,false,false,false,false,false]},{\"title\":\"Enrollment vs. Staff in HR (2025)\"}],\"label\":\"HR\",\"method\":\"update\"},{\"args\":[{\"visible\":[false,false,false,false,false,false,false,false,false,false,false,false,false,false,false,false,false,false,false,false,false,false,false,false,false,false,false,false,false,false,false,false,false,false,true,true,false,false,false,false,false,false,false,false,false,false,false,false,false,false,false,false]},{\"title\":\"Enrollment vs. Staff in EE (2025)\"}],\"label\":\"EE\",\"method\":\"update\"},{\"args\":[{\"visible\":[false,false,false,false,false,false,false,false,false,false,false,false,false,false,false,false,false,false,false,false,false,false,false,false,false,false,false,false,false,false,false,false,false,false,false,false,true,true,false,false,false,false,false,false,false,false,false,false,false,false,false,false]},{\"title\":\"Enrollment vs. Staff in BG (2025)\"}],\"label\":\"BG\",\"method\":\"update\"},{\"args\":[{\"visible\":[false,false,false,false,false,false,false,false,false,false,false,false,false,false,false,false,false,false,false,false,false,false,false,false,false,false,false,false,false,false,false,false,false,false,false,false,false,false,true,true,false,false,false,false,false,false,false,false,false,false,false,false]},{\"title\":\"Enrollment vs. Staff in GR (2025)\"}],\"label\":\"GR\",\"method\":\"update\"},{\"args\":[{\"visible\":[false,false,false,false,false,false,false,false,false,false,false,false,false,false,false,false,false,false,false,false,false,false,false,false,false,false,false,false,false,false,false,false,false,false,false,false,false,false,false,false,true,true,false,false,false,false,false,false,false,false,false,false]},{\"title\":\"Enrollment vs. Staff in SI (2025)\"}],\"label\":\"SI\",\"method\":\"update\"},{\"args\":[{\"visible\":[false,false,false,false,false,false,false,false,false,false,false,false,false,false,false,false,false,false,false,false,false,false,false,false,false,false,false,false,false,false,false,false,false,false,false,false,false,false,false,false,false,false,true,true,false,false,false,false,false,false,false,false]},{\"title\":\"Enrollment vs. Staff in LV (2025)\"}],\"label\":\"LV\",\"method\":\"update\"},{\"args\":[{\"visible\":[false,false,false,false,false,false,false,false,false,false,false,false,false,false,false,false,false,false,false,false,false,false,false,false,false,false,false,false,false,false,false,false,false,false,false,false,false,false,false,false,false,false,false,false,true,true,false,false,false,false,false,false]},{\"title\":\"Enrollment vs. Staff in SK (2025)\"}],\"label\":\"SK\",\"method\":\"update\"},{\"args\":[{\"visible\":[false,false,false,false,false,false,false,false,false,false,false,false,false,false,false,false,false,false,false,false,false,false,false,false,false,false,false,false,false,false,false,false,false,false,false,false,false,false,false,false,false,false,false,false,false,false,true,true,false,false,false,false]},{\"title\":\"Enrollment vs. Staff in RO (2025)\"}],\"label\":\"RO\",\"method\":\"update\"},{\"args\":[{\"visible\":[false,false,false,false,false,false,false,false,false,false,false,false,false,false,false,false,false,false,false,false,false,false,false,false,false,false,false,false,false,false,false,false,false,false,false,false,false,false,false,false,false,false,false,false,false,false,false,false,true,true,false,false]},{\"title\":\"Enrollment vs. Staff in DK (2025)\"}],\"label\":\"DK\",\"method\":\"update\"},{\"args\":[{\"visible\":[false,false,false,false,false,false,false,false,false,false,false,false,false,false,false,false,false,false,false,false,false,false,false,false,false,false,false,false,false,false,false,false,false,false,false,false,false,false,false,false,false,false,false,false,false,false,false,false,false,false,true,true]},{\"title\":\"Enrollment vs. Staff in BE (2025)\"}],\"label\":\"BE\",\"method\":\"update\"}],\"direction\":\"down\",\"showactive\":true,\"x\":0.05,\"xanchor\":\"left\",\"y\":1.15,\"yanchor\":\"top\"}],\"title\":{\"text\":\"Enrollment vs. Staff in IT (2025)\"},\"barmode\":\"group\",\"height\":600},                        {\"responsive\": true}                    ).then(function(){\n",
       "                            \n",
       "var gd = document.getElementById('8093cc70-e911-4061-9e6a-bd9bb72ee267');\n",
       "var x = new MutationObserver(function (mutations, observer) {{\n",
       "        var display = window.getComputedStyle(gd).display;\n",
       "        if (!display || display === 'none') {{\n",
       "            console.log([gd, 'removed!']);\n",
       "            Plotly.purge(gd);\n",
       "            observer.disconnect();\n",
       "        }}\n",
       "}});\n",
       "\n",
       "// Listen for the removal of the full notebook cells\n",
       "var notebookContainer = gd.closest('#notebook-container');\n",
       "if (notebookContainer) {{\n",
       "    x.observe(notebookContainer, {childList: true});\n",
       "}}\n",
       "\n",
       "// Listen for the clearing of the current output cell\n",
       "var outputEl = gd.closest('.output');\n",
       "if (outputEl) {{\n",
       "    x.observe(outputEl, {childList: true});\n",
       "}}\n",
       "\n",
       "                        })                };                });            </script>        </div>"
      ]
     },
     "metadata": {},
     "output_type": "display_data"
    }
   ],
   "source": [
    "import pandas as pd\n",
    "import plotly.graph_objects as go\n",
    "\n",
    "#\n",
    "\n",
    "# datasets\n",
    "df_data = pd.read_csv(\"DaycareData.csv\")\n",
    "df_locations = pd.read_csv(\"DaycareLocations.csv\", encoding=\"ISO-8859-1\")\n",
    "\n",
    "# Merge \n",
    "df = pd.merge(df_data, df_locations, on=\"daycare_id\")\n",
    "df = df[df[\"inactive\"] == False]  # only active daycares\n",
    "df[\"year\"] = df[\"year\"].astype(int)\n",
    "\n",
    "# Add unique labels for duplicate daycare names\n",
    "df[\"daycare_display_name\"] = df[\"daycare_name\"] + \" (\" + df[\"city\"] + \")\"\n",
    "\n",
    "# LINE CHART \n",
    "\n",
    "# Avg enrollment per country per year\n",
    "trend_df = df.groupby([\"country_code\", \"year\"])[\"enrollment\"].mean().reset_index()\n",
    "countries = trend_df[\"country_code\"].unique()\n",
    "\n",
    "fig_line = go.Figure()\n",
    "\n",
    "#  one trace per country\n",
    "for country in countries:\n",
    "    country_df = trend_df[trend_df[\"country_code\"] == country]\n",
    "    fig_line.add_trace(go.Scatter(\n",
    "        x=country_df[\"year\"],\n",
    "        y=country_df[\"enrollment\"],\n",
    "        mode='lines+markers',\n",
    "        name=country,\n",
    "        visible=(country == countries[0])\n",
    "    ))\n",
    "\n",
    "# Dropdown \n",
    "line_dropdown = [\n",
    "    {\n",
    "        \"label\": country,\n",
    "        \"method\": \"update\",\n",
    "        \"args\": [\n",
    "            {\"visible\": [c == country for c in countries]},\n",
    "            {\"title\": f\"Avg Enrollment Over Time – {country}\"}\n",
    "        ]\n",
    "    }\n",
    "    for country in countries\n",
    "]\n",
    "\n",
    "fig_line.update_layout(\n",
    "    updatemenus=[{\n",
    "        \"buttons\": line_dropdown,\n",
    "        \"direction\": \"down\",\n",
    "        \"x\": 0.05,\n",
    "        \"xanchor\": \"left\",\n",
    "        \"y\": 1.15,\n",
    "        \"yanchor\": \"top\",\n",
    "        \"showactive\": True,\n",
    "    }],\n",
    "    title=f\"Avg Enrollment Over Time – {countries[0]}\",\n",
    "    xaxis_title=\"Year\",\n",
    "    yaxis_title=\"Average Enrollment\",\n",
    "    height=500\n",
    ")\n",
    "\n",
    "fig_line.show()\n",
    "\n",
    "# BARRR\n",
    "# latest year \n",
    "latest_year = df[\"year\"].max()\n",
    "latest_df = df[df[\"year\"] == latest_year]\n",
    "countries_bar = latest_df[\"country_code\"].unique()\n",
    "\n",
    "fig_bar = go.Figure()\n",
    "\n",
    "# two bars (enrollment + staff) per daycare, per country\n",
    "for country in countries_bar:\n",
    "    df_country = latest_df[latest_df[\"country_code\"] == country].copy()\n",
    "    df_country.sort_values(by=\"enrollment\", ascending=False, inplace=True)\n",
    "\n",
    "    fig_bar.add_trace(go.Bar(\n",
    "        x=df_country[\"daycare_display_name\"],\n",
    "        y=df_country[\"enrollment\"],\n",
    "        name=\"Enrollment\",\n",
    "        marker_color=\"steelblue\",\n",
    "        visible=(country == countries_bar[0])\n",
    "    ))\n",
    "\n",
    "    fig_bar.add_trace(go.Bar(\n",
    "        x=df_country[\"daycare_display_name\"],\n",
    "        y=df_country[\"staff\"],\n",
    "        name=\"Staff\",\n",
    "        marker_color=\"indianred\",\n",
    "        visible=(country == countries_bar[0])\n",
    "    ))\n",
    "\n",
    "# dropdown for bar chart\n",
    "bar_dropdown = [\n",
    "    {\n",
    "        \"label\": country,\n",
    "        \"method\": \"update\",\n",
    "        \"args\": [\n",
    "            {\"visible\": [i // 2 == idx for i in range(2 * len(countries_bar))]},\n",
    "            {\"title\": f\"Enrollment vs. Staff in {country} ({latest_year})\"}\n",
    "        ]\n",
    "    }\n",
    "    for idx, country in enumerate(countries_bar)\n",
    "]\n",
    "\n",
    "fig_bar.update_layout(\n",
    "    updatemenus=[{\n",
    "        \"buttons\": bar_dropdown,\n",
    "        \"direction\": \"down\",\n",
    "        \"x\": 0.05,\n",
    "        \"xanchor\": \"left\",\n",
    "        \"y\": 1.15,\n",
    "        \"yanchor\": \"top\",\n",
    "        \"showactive\": True,\n",
    "    }],\n",
    "    title=f\"Enrollment vs. Staff in {countries_bar[0]} ({latest_year})\",\n",
    "    barmode=\"group\",\n",
    "    xaxis=dict(\n",
    "        title=\"Daycare (with city)\",\n",
    "        tickangle=45,\n",
    "        tickfont=dict(size=11),\n",
    "        title_font=dict(size=14),\n",
    "    ),\n",
    "    yaxis=dict(\n",
    "        title=\"Count\",\n",
    "        title_font=dict(size=14),\n",
    "        tickformat=\",\",\n",
    "        tickfont=dict(size=12),\n",
    "    ),\n",
    "    height=600\n",
    ")\n",
    "\n",
    "fig_bar.show()\n",
    "\n"
   ]
  },
  {
   "cell_type": "code",
   "execution_count": null,
   "id": "7a4c19f0-b141-4257-9cab-017f0dffeee5",
   "metadata": {},
   "outputs": [],
   "source": []
  }
 ],
 "metadata": {
  "kernelspec": {
   "display_name": "Python [conda env:base] *",
   "language": "python",
   "name": "conda-base-py"
  },
  "language_info": {
   "codemirror_mode": {
    "name": "ipython",
    "version": 3
   },
   "file_extension": ".py",
   "mimetype": "text/x-python",
   "name": "python",
   "nbconvert_exporter": "python",
   "pygments_lexer": "ipython3",
   "version": "3.12.4"
  }
 },
 "nbformat": 4,
 "nbformat_minor": 5
}
