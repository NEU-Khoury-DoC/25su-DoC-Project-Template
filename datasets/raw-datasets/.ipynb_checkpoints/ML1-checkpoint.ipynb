{
 "cells": [
  {
   "cell_type": "code",
   "execution_count": null,
   "id": "c81b3b53-2dc7-4c18-8438-075119c2861f",
   "metadata": {},
   "outputs": [],
   "source": [
    "# Load dataset\n",
    "import pandas as pd\n",
    "\n",
    "final_df = pd.read_csv('final_merged.csv')\n",
    "final_df.head()\n"
   ]
  },
  {
   "cell_type": "code",
   "execution_count": null,
   "id": "928c16a1-ce63-442f-af41-2b635574b573",
   "metadata": {},
   "outputs": [],
   "source": [
    "import numpy as np\n",
    "\n",
    "def train_model(df):\n",
    "    X = df[['weekly_hours', 'expenditure_per_capita', 'price_index']].values\n",
    "    Y = df['birth_rate_per_thousand'].values\n",
    "    X = np.c_[np.ones(X.shape[0]), X]  # Add intercept\n",
    "    beta = np.linalg.inv(X.T @ X) @ (X.T @ Y)\n",
    "    return beta\n",
    "\n",
    "def predict(df, beta):\n",
    "    X = df[['weekly_hours', 'expenditure_per_capita', 'price_index']].values\n",
    "    X = np.c_[np.ones(X.shape[0]), X]  # Add intercept\n",
    "    return X @ beta"
   ]
  }
 ],
 "metadata": {
  "kernelspec": {
   "display_name": "Python [conda env:base] *",
   "language": "python",
   "name": "conda-base-py"
  },
  "language_info": {
   "codemirror_mode": {
    "name": "ipython",
    "version": 3
   },
   "file_extension": ".py",
   "mimetype": "text/x-python",
   "name": "python",
   "nbconvert_exporter": "python",
   "pygments_lexer": "ipython3",
   "version": "3.12.4"
  }
 },
 "nbformat": 4,
 "nbformat_minor": 5
}
