{
 "cells": [
  {
   "cell_type": "code",
   "execution_count": 18,
   "id": "b4a4538d",
   "metadata": {},
   "outputs": [],
   "source": [
    "import requests\n",
    "import json\n",
    "import pandas as pd\n",
    "\n",
    "from collections import Counter\n",
    "import numpy as np\n",
    "import plotly.express as px"
   ]
  },
  {
   "cell_type": "code",
   "execution_count": 2,
   "id": "a61472e5",
   "metadata": {},
   "outputs": [],
   "source": [
    "def api_func(year):\n",
    "    api_URL= f\"https://ec.europa.eu/eurostat/api/dissemination/statistics/1.0/data/migr_asydcfsta?format=JSON&time={year}&unit=PER&citizen=LI&citizen=UK_OCT&citizen=BA&citizen=ME&citizen=MD&citizen=MK&citizen=GE&citizen=AL&citizen=RS&citizen=TR&citizen=UA&citizen=XK&citizen=AD&citizen=BY&citizen=VA&citizen=MC&citizen=RU&citizen=SM&citizen=AO&citizen=CM&citizen=CF&citizen=TD&citizen=CG&citizen=CD&citizen=GQ&citizen=GA&citizen=ST&citizen=BI&citizen=KM&citizen=DJ&citizen=ER&citizen=ET&citizen=KE&citizen=MG&citizen=MW&citizen=MU&citizen=MZ&citizen=RW&citizen=SC&citizen=SO&citizen=UG&citizen=TZ&citizen=ZM&citizen=ZW&citizen=DZ&citizen=EG&citizen=LY&citizen=MA&citizen=SS&citizen=SD&citizen=TN&citizen=EH&citizen=BW&citizen=LS&citizen=NA&citizen=ZA&citizen=SZ&citizen=BJ&citizen=BF&citizen=CV&citizen=CI&citizen=GM&citizen=GH&citizen=GN&citizen=GW&citizen=LR&citizen=ML&citizen=MR&citizen=NE&citizen=NG&citizen=SN&citizen=SL&citizen=TG&citizen=AG&citizen=BS&citizen=BB&citizen=CU&citizen=DM&citizen=DO&citizen=GD&citizen=HT&citizen=JM&citizen=KN&citizen=LC&citizen=VC&citizen=TT&citizen=BZ&citizen=CR&citizen=SV&citizen=GT&citizen=HN&citizen=MX&citizen=NI&citizen=PA&citizen=AR&citizen=BO&citizen=BR&citizen=CL&citizen=CO&citizen=EC&citizen=GY&citizen=PY&citizen=PE&citizen=SR&citizen=UY&citizen=VE&citizen=KZ&citizen=KG&citizen=TJ&citizen=TM&citizen=UZ&citizen=CN&citizen=JP&citizen=MN&citizen=KP&citizen=KR&citizen=TW&citizen=AF&citizen=BD&citizen=BT&citizen=IN&citizen=IR&citizen=MV&citizen=NP&citizen=PK&citizen=LK&citizen=BN&citizen=KH&citizen=ID&citizen=LA&citizen=MY&citizen=MM&citizen=PH&citizen=SG&citizen=TH&citizen=TL&citizen=VN&citizen=AM&citizen=AZ&citizen=BH&citizen=IQ&citizen=IL&citizen=JO&citizen=KW&citizen=LB&citizen=PS&citizen=OM&citizen=QA&citizen=SA&citizen=SY&citizen=AE&citizen=YE&citizen=AU&citizen=NZ&citizen=FJ&citizen=PG&citizen=SB&citizen=VU&citizen=KI&citizen=MH&citizen=FM&citizen=NR&citizen=PW&citizen=CK&citizen=WS&citizen=TO&citizen=TV&citizen=RNC&citizen=STLS&citizen=TOTAL&citizen=UNK&sex=T&sex=M&sex=F&sex=UNK&age=TOTAL&age=Y_LT14&age=Y14-17&age=Y_LT18&age=Y18-34&age=Y35-64&age=Y_GE65&age=UNK&decision=TOTAL&decision=TOTAL_POS&decision=REJECTED&lang=en\"\n",
    "    response = requests.get(api_URL)\n",
    "    data = response.json()\n",
    "\n",
    "    dimensions = data['dimension']\n",
    "    values = data['value']\n",
    "\n",
    "\n",
    "    rows = []\n",
    "\n",
    "\n",
    "    dim_names = list(dimensions.keys())\n",
    "\n",
    "\n",
    "    for index, value in values.items():\n",
    "        row = {}\n",
    "        \n",
    "\n",
    "        idx = int(index)\n",
    "        \n",
    "\n",
    "        temp_idx = idx\n",
    "        for dim_name in reversed(dim_names):\n",
    "            dim_size = len(dimensions[dim_name]['category']['index'])\n",
    "            dim_idx = temp_idx % dim_size\n",
    "            temp_idx = temp_idx // dim_size\n",
    "            \n",
    "    \n",
    "            dim_keys = list(dimensions[dim_name]['category']['index'].keys())\n",
    "            category_key = dim_keys[dim_idx]\n",
    "            \n",
    "        \n",
    "            if 'label' in dimensions[dim_name]['category']:\n",
    "                row[dim_name] = dimensions[dim_name]['category']['label'].get(category_key, category_key)\n",
    "            else:\n",
    "                row[dim_name] = category_key\n",
    "        \n",
    "    \n",
    "        row['value'] = value\n",
    "        rows.append(row)\n",
    "\n",
    "\n",
    "    df = pd.DataFrame(rows)\n",
    "    asylum_drop = df.drop([\"unit\",\"freq\"], axis =1 )\n",
    "    asylum_drop = asylum_drop[asylum_drop[\"value\"] != 0]\n",
    "    asylum_drop = asylum_drop[(asylum_drop[\"age\"] != \"Total\") & (asylum_drop[\"sex\"] != \"Total\")]\n",
    "    return asylum_drop\n"
   ]
  },
  {
   "cell_type": "code",
   "execution_count": 3,
   "id": "579d0b22",
   "metadata": {},
   "outputs": [],
   "source": [
    "y2023_df = api_func(\"2023\")\n",
    "y2024_df = api_func(\"2024\")\n",
    "y2024_df = api_func(\"2022\")\n",
    "y2023_df = api_func(\"2021\")"
   ]
  },
  {
   "cell_type": "code",
   "execution_count": 4,
   "id": "5b1650fa",
   "metadata": {},
   "outputs": [
    {
     "data": {
      "text/html": [
       "<div>\n",
       "<style scoped>\n",
       "    .dataframe tbody tr th:only-of-type {\n",
       "        vertical-align: middle;\n",
       "    }\n",
       "\n",
       "    .dataframe tbody tr th {\n",
       "        vertical-align: top;\n",
       "    }\n",
       "\n",
       "    .dataframe thead th {\n",
       "        text-align: right;\n",
       "    }\n",
       "</style>\n",
       "<table border=\"1\" class=\"dataframe\">\n",
       "  <thead>\n",
       "    <tr style=\"text-align: right;\">\n",
       "      <th></th>\n",
       "      <th>time</th>\n",
       "      <th>geo</th>\n",
       "      <th>decision</th>\n",
       "      <th>age</th>\n",
       "      <th>sex</th>\n",
       "      <th>citizen</th>\n",
       "      <th>value</th>\n",
       "    </tr>\n",
       "  </thead>\n",
       "  <tbody>\n",
       "  </tbody>\n",
       "</table>\n",
       "</div>"
      ],
      "text/plain": [
       "Empty DataFrame\n",
       "Columns: [time, geo, decision, age, sex, citizen, value]\n",
       "Index: []"
      ]
     },
     "execution_count": 4,
     "metadata": {},
     "output_type": "execute_result"
    }
   ],
   "source": [
    "pd.merge(y2023_df,y2024_df)"
   ]
  },
  {
   "cell_type": "code",
   "execution_count": 6,
   "id": "0705fc46",
   "metadata": {},
   "outputs": [],
   "source": [
    "grouping = y2023_df.groupby([\"geo\",\"citizen\"])"
   ]
  },
  {
   "cell_type": "code",
   "execution_count": 10,
   "id": "31a37e7a",
   "metadata": {},
   "outputs": [
    {
     "data": {
      "text/plain": [
       "Counter({'Males': 11105, 'Females': 9697, 'Unknown': 96})"
      ]
     },
     "execution_count": 10,
     "metadata": {},
     "output_type": "execute_result"
    }
   ],
   "source": [
    "Counter(y2023_df['sex'])"
   ]
  },
  {
   "cell_type": "code",
   "execution_count": 14,
   "id": "75f3d707",
   "metadata": {},
   "outputs": [
    {
     "data": {
      "text/plain": [
       "Counter({'From 18 to 34 years': 5126,\n",
       "         'From 35 to 64 years': 4458,\n",
       "         'Less than 18 years': 4216,\n",
       "         'Less than 14 years': 3879,\n",
       "         'From 14 to 17 years': 2211,\n",
       "         '65 years or over': 948,\n",
       "         'Unknown': 60})"
      ]
     },
     "execution_count": 14,
     "metadata": {},
     "output_type": "execute_result"
    }
   ],
   "source": [
    "Counter(y2023_df['age'])"
   ]
  },
  {
   "cell_type": "code",
   "execution_count": 12,
   "id": "6f77f509",
   "metadata": {},
   "outputs": [
    {
     "data": {
      "text/plain": [
       "Counter({'Total': 8613, 'Rejected': 6844, 'Total positive decisions': 5441})"
      ]
     },
     "execution_count": 12,
     "metadata": {},
     "output_type": "execute_result"
    }
   ],
   "source": [
    "Counter(y2023_df['decision'])"
   ]
  },
  {
   "cell_type": "code",
   "execution_count": 15,
   "id": "59e519c1",
   "metadata": {},
   "outputs": [
    {
     "data": {
      "text/plain": [
       "Counter({'Total': 1079,\n",
       "         'Afghanistan': 709,\n",
       "         'Syria': 692,\n",
       "         'Iraq': 579,\n",
       "         'Iran': 506,\n",
       "         'Somalia': 467,\n",
       "         'Türkiye': 454,\n",
       "         'Russia': 429,\n",
       "         'Pakistan': 389,\n",
       "         'Eritrea': 386,\n",
       "         'Nigeria': 375,\n",
       "         'Georgia': 366,\n",
       "         'Ukraine': 342,\n",
       "         'Venezuela': 335,\n",
       "         'Democratic Republic of the Congo': 320,\n",
       "         'Stateless': 320,\n",
       "         'Cameroon': 315,\n",
       "         'Egypt': 291,\n",
       "         'Morocco': 288,\n",
       "         'Palestine*': 281,\n",
       "         'Albania': 268,\n",
       "         'Yemen': 261,\n",
       "         'Sudan': 260,\n",
       "         'Armenia': 259,\n",
       "         'Algeria': 258,\n",
       "         'Colombia': 255,\n",
       "         'Guinea': 253,\n",
       "         'Unknown': 253,\n",
       "         'Belarus': 248,\n",
       "         'Lebanon': 247,\n",
       "         'Bangladesh': 246,\n",
       "         'Libya': 241,\n",
       "         'China': 240,\n",
       "         'India': 234,\n",
       "         'Azerbaijan': 231,\n",
       "         'Ethiopia': 225,\n",
       "         'Serbia': 221,\n",
       "         'Sri Lanka': 210,\n",
       "         'Côte d’Ivoire': 208,\n",
       "         'Tunisia': 208,\n",
       "         'El Salvador': 206,\n",
       "         'Gambia, The': 204,\n",
       "         'Angola': 194,\n",
       "         'Kosovo*': 192,\n",
       "         'Sierra Leone': 181,\n",
       "         'Ghana': 179,\n",
       "         'Senegal': 173,\n",
       "         'Peru': 167,\n",
       "         'Cuba': 165,\n",
       "         'Moldova': 159,\n",
       "         'Uganda': 159,\n",
       "         'Congo': 154,\n",
       "         'Bosnia and Herzegovina': 153,\n",
       "         'Jordan': 153,\n",
       "         'Kazakhstan': 152,\n",
       "         'North Macedonia': 150,\n",
       "         'Mali': 143,\n",
       "         'Tajikistan': 143,\n",
       "         'Nicaragua': 140,\n",
       "         'Burundi': 135,\n",
       "         'Mongolia': 134,\n",
       "         'Rwanda': 132,\n",
       "         'Brazil': 131,\n",
       "         'Togo': 125,\n",
       "         'Kyrgyzstan': 124,\n",
       "         'Honduras': 123,\n",
       "         'Uzbekistan': 120,\n",
       "         'Viet Nam': 106,\n",
       "         'Chad': 103,\n",
       "         'Kenya': 100,\n",
       "         'Burkina Faso': 99,\n",
       "         'Mauritania': 98,\n",
       "         'Tanzania': 92,\n",
       "         'Benin': 91,\n",
       "         'Niger': 91,\n",
       "         'Zimbabwe': 91,\n",
       "         'Haiti': 90,\n",
       "         'Montenegro': 88,\n",
       "         'Central African Republic': 85,\n",
       "         'Liberia': 84,\n",
       "         'Kuwait': 81,\n",
       "         'Myanmar/Burma': 75,\n",
       "         'Nepal': 75,\n",
       "         'South Africa': 72,\n",
       "         'Djibouti': 71,\n",
       "         'Guinea-Bissau': 71,\n",
       "         'Dominican Republic': 70,\n",
       "         'Guatemala': 69,\n",
       "         'Ecuador': 67,\n",
       "         'Mexico': 66,\n",
       "         'Chile': 65,\n",
       "         'Comoros': 65,\n",
       "         'Gabon': 64,\n",
       "         'Argentina': 60,\n",
       "         'Philippines': 58,\n",
       "         'Madagascar': 54,\n",
       "         'Suriname': 48,\n",
       "         'Western Sahara': 44,\n",
       "         'Malaysia': 38,\n",
       "         'Bolivia': 37,\n",
       "         'Uruguay': 35,\n",
       "         'South Sudan': 33,\n",
       "         'Equatorial Guinea': 32,\n",
       "         'Indonesia': 32,\n",
       "         'Paraguay': 30,\n",
       "         'Turkmenistan': 30,\n",
       "         'Thailand': 29,\n",
       "         'Cambodia': 26,\n",
       "         'Malawi': 24,\n",
       "         'Panama': 24,\n",
       "         'Mauritius': 23,\n",
       "         'Jamaica': 21,\n",
       "         'Saudi Arabia': 18,\n",
       "         'Cabo Verde': 16,\n",
       "         'Mozambique': 15,\n",
       "         'Laos': 12,\n",
       "         'Guyana': 11,\n",
       "         'Costa Rica': 10,\n",
       "         'Trinidad and Tobago': 10,\n",
       "         'Liechtenstein': 8,\n",
       "         'Namibia': 8,\n",
       "         'Bhutan': 7,\n",
       "         'Israel': 6,\n",
       "         'Saint Lucia': 5,\n",
       "         'Zambia': 5,\n",
       "         'Bahrain': 4,\n",
       "         'Japan': 4,\n",
       "         'South Korea': 4,\n",
       "         'New Zealand': 4,\n",
       "         'Australia': 2,\n",
       "         'Dominica': 1,\n",
       "         'Eswatini': 1})"
      ]
     },
     "execution_count": 15,
     "metadata": {},
     "output_type": "execute_result"
    }
   ],
   "source": [
    "Counter(y2023_df['citizen'])"
   ]
  },
  {
   "cell_type": "code",
   "execution_count": 16,
   "id": "ca26beda",
   "metadata": {},
   "outputs": [
    {
     "data": {
      "text/plain": [
       "Counter({'European Union - 27 countries (from 2020)': 3475,\n",
       "         'France': 2485,\n",
       "         'Germany': 1876,\n",
       "         'Sweden': 1461,\n",
       "         'Italy': 1455,\n",
       "         'Belgium': 1305,\n",
       "         'Spain': 1249,\n",
       "         'Netherlands': 1088,\n",
       "         'Greece': 898,\n",
       "         'Switzerland': 859,\n",
       "         'Austria': 750,\n",
       "         'Cyprus': 440,\n",
       "         'Ireland': 361,\n",
       "         'Finland': 329,\n",
       "         'Denmark': 316,\n",
       "         'Poland': 285,\n",
       "         'Romania': 279,\n",
       "         'Lithuania': 265,\n",
       "         'Luxembourg': 225,\n",
       "         'Czechia': 222,\n",
       "         'Norway': 194,\n",
       "         'Bulgaria': 170,\n",
       "         'Iceland': 165,\n",
       "         'Malta': 148,\n",
       "         'Croatia': 146,\n",
       "         'Portugal': 146,\n",
       "         'Latvia': 86,\n",
       "         'Slovenia': 58,\n",
       "         'Montenegro': 45,\n",
       "         'Hungary': 42,\n",
       "         'Estonia': 36,\n",
       "         'Slovakia': 35,\n",
       "         'Liechtenstein': 4})"
      ]
     },
     "execution_count": 16,
     "metadata": {},
     "output_type": "execute_result"
    }
   ],
   "source": [
    "Counter(y2023_df['geo'])"
   ]
  },
  {
   "cell_type": "code",
   "execution_count": 19,
   "id": "c6c12b3a",
   "metadata": {},
   "outputs": [
    {
     "ename": "ValueError",
     "evalue": "\n    Invalid value of type 'builtins.str' received for the 'histnorm' property of histogram\n        Received value: 'decision'\n\n    The 'histnorm' property is an enumeration that may be specified as:\n      - One of the following enumeration values:\n            ['', 'percent', 'probability', 'density', 'probability\n            density']",
     "output_type": "error",
     "traceback": [
      "\u001b[0;31m---------------------------------------------------------------------------\u001b[0m",
      "\u001b[0;31mValueError\u001b[0m                                Traceback (most recent call last)",
      "Cell \u001b[0;32mIn[19], line 3\u001b[0m\n\u001b[1;32m      1\u001b[0m bins \u001b[38;5;241m=\u001b[39m np\u001b[38;5;241m.\u001b[39mlinspace(\u001b[38;5;241m65\u001b[39m, \u001b[38;5;241m82\u001b[39m, \u001b[38;5;241m9\u001b[39m)\n\u001b[0;32m----> 3\u001b[0m px\u001b[38;5;241m.\u001b[39mhistogram(\n\u001b[1;32m      4\u001b[0m     y2023_df,\n\u001b[1;32m      5\u001b[0m     x\u001b[38;5;241m=\u001b[39m\u001b[38;5;124m'\u001b[39m\u001b[38;5;124msex\u001b[39m\u001b[38;5;124m'\u001b[39m,\n\u001b[1;32m      6\u001b[0m     nbins\u001b[38;5;241m=\u001b[39m\u001b[38;5;28mlen\u001b[39m(bins) \u001b[38;5;241m-\u001b[39m \u001b[38;5;241m1\u001b[39m,\n\u001b[1;32m      7\u001b[0m     histnorm\u001b[38;5;241m=\u001b[39m\u001b[38;5;124m'\u001b[39m\u001b[38;5;124mdecision\u001b[39m\u001b[38;5;124m'\u001b[39m,\n\u001b[1;32m      8\u001b[0m     labels\u001b[38;5;241m=\u001b[39m{\u001b[38;5;124m'\u001b[39m\u001b[38;5;124mdecision\u001b[39m\u001b[38;5;124m'\u001b[39m: \u001b[38;5;124m'\u001b[39m\u001b[38;5;124mSex\u001b[39m\u001b[38;5;124m'\u001b[39m}\n\u001b[1;32m      9\u001b[0m )\n",
      "File \u001b[0;32m~/anaconda3/lib/python3.12/site-packages/plotly/express/_chart_types.py:480\u001b[0m, in \u001b[0;36mhistogram\u001b[0;34m(data_frame, x, y, color, pattern_shape, facet_row, facet_col, facet_col_wrap, facet_row_spacing, facet_col_spacing, hover_name, hover_data, animation_frame, animation_group, category_orders, labels, color_discrete_sequence, color_discrete_map, pattern_shape_sequence, pattern_shape_map, marginal, opacity, orientation, barmode, barnorm, histnorm, log_x, log_y, range_x, range_y, histfunc, cumulative, nbins, text_auto, title, template, width, height)\u001b[0m\n\u001b[1;32m    434\u001b[0m \u001b[38;5;28;01mdef\u001b[39;00m \u001b[38;5;21mhistogram\u001b[39m(\n\u001b[1;32m    435\u001b[0m     data_frame\u001b[38;5;241m=\u001b[39m\u001b[38;5;28;01mNone\u001b[39;00m,\n\u001b[1;32m    436\u001b[0m     x\u001b[38;5;241m=\u001b[39m\u001b[38;5;28;01mNone\u001b[39;00m,\n\u001b[0;32m   (...)\u001b[0m\n\u001b[1;32m    472\u001b[0m     height\u001b[38;5;241m=\u001b[39m\u001b[38;5;28;01mNone\u001b[39;00m,\n\u001b[1;32m    473\u001b[0m ) \u001b[38;5;241m-\u001b[39m\u001b[38;5;241m>\u001b[39m go\u001b[38;5;241m.\u001b[39mFigure:\n\u001b[1;32m    474\u001b[0m \u001b[38;5;250m    \u001b[39m\u001b[38;5;124;03m\"\"\"\u001b[39;00m\n\u001b[1;32m    475\u001b[0m \u001b[38;5;124;03m    In a histogram, rows of `data_frame` are grouped together into a\u001b[39;00m\n\u001b[1;32m    476\u001b[0m \u001b[38;5;124;03m    rectangular mark to visualize the 1D distribution of an aggregate\u001b[39;00m\n\u001b[1;32m    477\u001b[0m \u001b[38;5;124;03m    function `histfunc` (e.g. the count or sum) of the value `y` (or `x` if\u001b[39;00m\n\u001b[1;32m    478\u001b[0m \u001b[38;5;124;03m    `orientation` is `'h'`).\u001b[39;00m\n\u001b[1;32m    479\u001b[0m \u001b[38;5;124;03m    \"\"\"\u001b[39;00m\n\u001b[0;32m--> 480\u001b[0m     \u001b[38;5;28;01mreturn\u001b[39;00m make_figure(\n\u001b[1;32m    481\u001b[0m         args\u001b[38;5;241m=\u001b[39m\u001b[38;5;28mlocals\u001b[39m(),\n\u001b[1;32m    482\u001b[0m         constructor\u001b[38;5;241m=\u001b[39mgo\u001b[38;5;241m.\u001b[39mHistogram,\n\u001b[1;32m    483\u001b[0m         trace_patch\u001b[38;5;241m=\u001b[39m\u001b[38;5;28mdict\u001b[39m(\n\u001b[1;32m    484\u001b[0m             histnorm\u001b[38;5;241m=\u001b[39mhistnorm,\n\u001b[1;32m    485\u001b[0m             histfunc\u001b[38;5;241m=\u001b[39mhistfunc,\n\u001b[1;32m    486\u001b[0m             cumulative\u001b[38;5;241m=\u001b[39m\u001b[38;5;28mdict\u001b[39m(enabled\u001b[38;5;241m=\u001b[39mcumulative),\n\u001b[1;32m    487\u001b[0m         ),\n\u001b[1;32m    488\u001b[0m         layout_patch\u001b[38;5;241m=\u001b[39m\u001b[38;5;28mdict\u001b[39m(barmode\u001b[38;5;241m=\u001b[39mbarmode, barnorm\u001b[38;5;241m=\u001b[39mbarnorm),\n\u001b[1;32m    489\u001b[0m     )\n",
      "File \u001b[0;32m~/anaconda3/lib/python3.12/site-packages/plotly/express/_core.py:2300\u001b[0m, in \u001b[0;36mmake_figure\u001b[0;34m(args, constructor, trace_patch, layout_patch)\u001b[0m\n\u001b[1;32m   2295\u001b[0m         group[var] \u001b[38;5;241m=\u001b[39m \u001b[38;5;241m100.0\u001b[39m \u001b[38;5;241m*\u001b[39m group[var] \u001b[38;5;241m/\u001b[39m group_sum\n\u001b[1;32m   2297\u001b[0m patch, fit_results \u001b[38;5;241m=\u001b[39m make_trace_kwargs(\n\u001b[1;32m   2298\u001b[0m     args, trace_spec, group, mapping_labels\u001b[38;5;241m.\u001b[39mcopy(), sizeref\n\u001b[1;32m   2299\u001b[0m )\n\u001b[0;32m-> 2300\u001b[0m trace\u001b[38;5;241m.\u001b[39mupdate(patch)\n\u001b[1;32m   2301\u001b[0m \u001b[38;5;28;01mif\u001b[39;00m fit_results \u001b[38;5;129;01mis\u001b[39;00m \u001b[38;5;129;01mnot\u001b[39;00m \u001b[38;5;28;01mNone\u001b[39;00m:\n\u001b[1;32m   2302\u001b[0m     trendline_rows\u001b[38;5;241m.\u001b[39mappend(mapping_labels\u001b[38;5;241m.\u001b[39mcopy())\n",
      "File \u001b[0;32m~/anaconda3/lib/python3.12/site-packages/plotly/basedatatypes.py:5133\u001b[0m, in \u001b[0;36mBasePlotlyType.update\u001b[0;34m(self, dict1, overwrite, **kwargs)\u001b[0m\n\u001b[1;32m   5131\u001b[0m         BaseFigure\u001b[38;5;241m.\u001b[39m_perform_update(\u001b[38;5;28mself\u001b[39m, kwargs, overwrite\u001b[38;5;241m=\u001b[39moverwrite)\n\u001b[1;32m   5132\u001b[0m \u001b[38;5;28;01melse\u001b[39;00m:\n\u001b[0;32m-> 5133\u001b[0m     BaseFigure\u001b[38;5;241m.\u001b[39m_perform_update(\u001b[38;5;28mself\u001b[39m, dict1, overwrite\u001b[38;5;241m=\u001b[39moverwrite)\n\u001b[1;32m   5134\u001b[0m     BaseFigure\u001b[38;5;241m.\u001b[39m_perform_update(\u001b[38;5;28mself\u001b[39m, kwargs, overwrite\u001b[38;5;241m=\u001b[39moverwrite)\n\u001b[1;32m   5136\u001b[0m \u001b[38;5;28;01mreturn\u001b[39;00m \u001b[38;5;28mself\u001b[39m\n",
      "File \u001b[0;32m~/anaconda3/lib/python3.12/site-packages/plotly/basedatatypes.py:3934\u001b[0m, in \u001b[0;36mBaseFigure._perform_update\u001b[0;34m(plotly_obj, update_obj, overwrite)\u001b[0m\n\u001b[1;32m   3931\u001b[0m                 plotly_obj[key] \u001b[38;5;241m=\u001b[39m val\n\u001b[1;32m   3932\u001b[0m         \u001b[38;5;28;01melse\u001b[39;00m:\n\u001b[1;32m   3933\u001b[0m             \u001b[38;5;66;03m# Assign non-compound value\u001b[39;00m\n\u001b[0;32m-> 3934\u001b[0m             plotly_obj[key] \u001b[38;5;241m=\u001b[39m val\n\u001b[1;32m   3936\u001b[0m \u001b[38;5;28;01melif\u001b[39;00m \u001b[38;5;28misinstance\u001b[39m(plotly_obj, \u001b[38;5;28mtuple\u001b[39m):\n\u001b[1;32m   3938\u001b[0m     \u001b[38;5;28;01mif\u001b[39;00m \u001b[38;5;28mlen\u001b[39m(update_obj) \u001b[38;5;241m==\u001b[39m \u001b[38;5;241m0\u001b[39m:\n\u001b[1;32m   3939\u001b[0m         \u001b[38;5;66;03m# Nothing to do\u001b[39;00m\n",
      "File \u001b[0;32m~/anaconda3/lib/python3.12/site-packages/plotly/basedatatypes.py:4868\u001b[0m, in \u001b[0;36mBasePlotlyType.__setitem__\u001b[0;34m(self, prop, value)\u001b[0m\n\u001b[1;32m   4864\u001b[0m         \u001b[38;5;28mself\u001b[39m\u001b[38;5;241m.\u001b[39m_set_array_prop(prop, value)\n\u001b[1;32m   4866\u001b[0m     \u001b[38;5;66;03m# ### Handle simple property ###\u001b[39;00m\n\u001b[1;32m   4867\u001b[0m     \u001b[38;5;28;01melse\u001b[39;00m:\n\u001b[0;32m-> 4868\u001b[0m         \u001b[38;5;28mself\u001b[39m\u001b[38;5;241m.\u001b[39m_set_prop(prop, value)\n\u001b[1;32m   4869\u001b[0m \u001b[38;5;28;01melse\u001b[39;00m:\n\u001b[1;32m   4870\u001b[0m     \u001b[38;5;66;03m# Make sure properties dict is initialized\u001b[39;00m\n\u001b[1;32m   4871\u001b[0m     \u001b[38;5;28mself\u001b[39m\u001b[38;5;241m.\u001b[39m_init_props()\n",
      "File \u001b[0;32m~/anaconda3/lib/python3.12/site-packages/plotly/basedatatypes.py:5212\u001b[0m, in \u001b[0;36mBasePlotlyType._set_prop\u001b[0;34m(self, prop, val)\u001b[0m\n\u001b[1;32m   5210\u001b[0m         \u001b[38;5;28;01mreturn\u001b[39;00m\n\u001b[1;32m   5211\u001b[0m     \u001b[38;5;28;01melse\u001b[39;00m:\n\u001b[0;32m-> 5212\u001b[0m         \u001b[38;5;28;01mraise\u001b[39;00m err\n\u001b[1;32m   5214\u001b[0m \u001b[38;5;66;03m# val is None\u001b[39;00m\n\u001b[1;32m   5215\u001b[0m \u001b[38;5;66;03m# -----------\u001b[39;00m\n\u001b[1;32m   5216\u001b[0m \u001b[38;5;28;01mif\u001b[39;00m val \u001b[38;5;129;01mis\u001b[39;00m \u001b[38;5;28;01mNone\u001b[39;00m:\n\u001b[1;32m   5217\u001b[0m     \u001b[38;5;66;03m# Check if we should send null update\u001b[39;00m\n",
      "File \u001b[0;32m~/anaconda3/lib/python3.12/site-packages/plotly/basedatatypes.py:5207\u001b[0m, in \u001b[0;36mBasePlotlyType._set_prop\u001b[0;34m(self, prop, val)\u001b[0m\n\u001b[1;32m   5204\u001b[0m validator \u001b[38;5;241m=\u001b[39m \u001b[38;5;28mself\u001b[39m\u001b[38;5;241m.\u001b[39m_get_validator(prop)\n\u001b[1;32m   5206\u001b[0m \u001b[38;5;28;01mtry\u001b[39;00m:\n\u001b[0;32m-> 5207\u001b[0m     val \u001b[38;5;241m=\u001b[39m validator\u001b[38;5;241m.\u001b[39mvalidate_coerce(val)\n\u001b[1;32m   5208\u001b[0m \u001b[38;5;28;01mexcept\u001b[39;00m \u001b[38;5;167;01mValueError\u001b[39;00m \u001b[38;5;28;01mas\u001b[39;00m err:\n\u001b[1;32m   5209\u001b[0m     \u001b[38;5;28;01mif\u001b[39;00m \u001b[38;5;28mself\u001b[39m\u001b[38;5;241m.\u001b[39m_skip_invalid:\n",
      "File \u001b[0;32m~/anaconda3/lib/python3.12/site-packages/_plotly_utils/basevalidators.py:619\u001b[0m, in \u001b[0;36mEnumeratedValidator.validate_coerce\u001b[0;34m(self, v)\u001b[0m\n\u001b[1;32m    617\u001b[0m     v \u001b[38;5;241m=\u001b[39m \u001b[38;5;28mself\u001b[39m\u001b[38;5;241m.\u001b[39mperform_replacemenet(v)\n\u001b[1;32m    618\u001b[0m     \u001b[38;5;28;01mif\u001b[39;00m \u001b[38;5;129;01mnot\u001b[39;00m \u001b[38;5;28mself\u001b[39m\u001b[38;5;241m.\u001b[39min_values(v):\n\u001b[0;32m--> 619\u001b[0m         \u001b[38;5;28mself\u001b[39m\u001b[38;5;241m.\u001b[39mraise_invalid_val(v)\n\u001b[1;32m    620\u001b[0m \u001b[38;5;28;01mreturn\u001b[39;00m v\n",
      "File \u001b[0;32m~/anaconda3/lib/python3.12/site-packages/_plotly_utils/basevalidators.py:296\u001b[0m, in \u001b[0;36mBaseValidator.raise_invalid_val\u001b[0;34m(self, v, inds)\u001b[0m\n\u001b[1;32m    293\u001b[0m             \u001b[38;5;28;01mfor\u001b[39;00m i \u001b[38;5;129;01min\u001b[39;00m inds:\n\u001b[1;32m    294\u001b[0m                 name \u001b[38;5;241m+\u001b[39m\u001b[38;5;241m=\u001b[39m \u001b[38;5;124m\"\u001b[39m\u001b[38;5;124m[\u001b[39m\u001b[38;5;124m\"\u001b[39m \u001b[38;5;241m+\u001b[39m \u001b[38;5;28mstr\u001b[39m(i) \u001b[38;5;241m+\u001b[39m \u001b[38;5;124m\"\u001b[39m\u001b[38;5;124m]\u001b[39m\u001b[38;5;124m\"\u001b[39m\n\u001b[0;32m--> 296\u001b[0m         \u001b[38;5;28;01mraise\u001b[39;00m \u001b[38;5;167;01mValueError\u001b[39;00m(\n\u001b[1;32m    297\u001b[0m \u001b[38;5;250m            \u001b[39m\u001b[38;5;124;03m\"\"\"\u001b[39;00m\n\u001b[1;32m    298\u001b[0m \u001b[38;5;124;03m    Invalid value of type {typ} received for the '{name}' property of {pname}\u001b[39;00m\n\u001b[1;32m    299\u001b[0m \u001b[38;5;124;03m        Received value: {v}\u001b[39;00m\n\u001b[1;32m    300\u001b[0m \n\u001b[1;32m    301\u001b[0m \u001b[38;5;124;03m{valid_clr_desc}\"\"\"\u001b[39;00m\u001b[38;5;241m.\u001b[39mformat(\n\u001b[1;32m    302\u001b[0m                 name\u001b[38;5;241m=\u001b[39mname,\n\u001b[1;32m    303\u001b[0m                 pname\u001b[38;5;241m=\u001b[39m\u001b[38;5;28mself\u001b[39m\u001b[38;5;241m.\u001b[39mparent_name,\n\u001b[1;32m    304\u001b[0m                 typ\u001b[38;5;241m=\u001b[39mtype_str(v),\n\u001b[1;32m    305\u001b[0m                 v\u001b[38;5;241m=\u001b[39m\u001b[38;5;28mrepr\u001b[39m(v),\n\u001b[1;32m    306\u001b[0m                 valid_clr_desc\u001b[38;5;241m=\u001b[39m\u001b[38;5;28mself\u001b[39m\u001b[38;5;241m.\u001b[39mdescription(),\n\u001b[1;32m    307\u001b[0m             )\n\u001b[1;32m    308\u001b[0m         )\n",
      "\u001b[0;31mValueError\u001b[0m: \n    Invalid value of type 'builtins.str' received for the 'histnorm' property of histogram\n        Received value: 'decision'\n\n    The 'histnorm' property is an enumeration that may be specified as:\n      - One of the following enumeration values:\n            ['', 'percent', 'probability', 'density', 'probability\n            density']"
     ]
    }
   ],
   "source": [
    "bins = np.linspace(65, 82, 9)\n",
    "\n",
    "px.histogram(\n",
    "    y2023_df,\n",
    "    x='sex',\n",
    "    nbins=len(bins) - 1,\n",
    "    histnorm='decision',\n",
    "    labels={'decision': 'Sex'}\n",
    ")"
   ]
  }
 ],
 "metadata": {
  "kernelspec": {
   "display_name": "base",
   "language": "python",
   "name": "python3"
  },
  "language_info": {
   "codemirror_mode": {
    "name": "ipython",
    "version": 3
   },
   "file_extension": ".py",
   "mimetype": "text/x-python",
   "name": "python",
   "nbconvert_exporter": "python",
   "pygments_lexer": "ipython3",
   "version": "3.12.7"
  }
 },
 "nbformat": 4,
 "nbformat_minor": 5
}
