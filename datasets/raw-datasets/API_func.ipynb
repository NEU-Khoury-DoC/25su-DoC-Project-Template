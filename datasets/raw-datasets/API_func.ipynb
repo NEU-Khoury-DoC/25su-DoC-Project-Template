{
 "cells": [
  {
   "cell_type": "code",
   "execution_count": 1,
   "id": "b4a4538d",
   "metadata": {},
   "outputs": [],
   "source": [
    "import requests\n",
    "import json\n",
    "import pandas as pd"
   ]
  },
  {
   "cell_type": "code",
   "execution_count": 3,
   "id": "a61472e5",
   "metadata": {},
   "outputs": [],
   "source": [
    "def api_func(year):\n",
    "    api_URL= f\"https://ec.europa.eu/eurostat/api/dissemination/statistics/1.0/data/migr_asydcfsta?format=JSON&time={year}&unit=PER&citizen=LI&citizen=UK_OCT&citizen=BA&citizen=ME&citizen=MD&citizen=MK&citizen=GE&citizen=AL&citizen=RS&citizen=TR&citizen=UA&citizen=XK&citizen=AD&citizen=BY&citizen=VA&citizen=MC&citizen=RU&citizen=SM&citizen=AO&citizen=CM&citizen=CF&citizen=TD&citizen=CG&citizen=CD&citizen=GQ&citizen=GA&citizen=ST&citizen=BI&citizen=KM&citizen=DJ&citizen=ER&citizen=ET&citizen=KE&citizen=MG&citizen=MW&citizen=MU&citizen=MZ&citizen=RW&citizen=SC&citizen=SO&citizen=UG&citizen=TZ&citizen=ZM&citizen=ZW&citizen=DZ&citizen=EG&citizen=LY&citizen=MA&citizen=SS&citizen=SD&citizen=TN&citizen=EH&citizen=BW&citizen=LS&citizen=NA&citizen=ZA&citizen=SZ&citizen=BJ&citizen=BF&citizen=CV&citizen=CI&citizen=GM&citizen=GH&citizen=GN&citizen=GW&citizen=LR&citizen=ML&citizen=MR&citizen=NE&citizen=NG&citizen=SN&citizen=SL&citizen=TG&citizen=AG&citizen=BS&citizen=BB&citizen=CU&citizen=DM&citizen=DO&citizen=GD&citizen=HT&citizen=JM&citizen=KN&citizen=LC&citizen=VC&citizen=TT&citizen=BZ&citizen=CR&citizen=SV&citizen=GT&citizen=HN&citizen=MX&citizen=NI&citizen=PA&citizen=AR&citizen=BO&citizen=BR&citizen=CL&citizen=CO&citizen=EC&citizen=GY&citizen=PY&citizen=PE&citizen=SR&citizen=UY&citizen=VE&citizen=KZ&citizen=KG&citizen=TJ&citizen=TM&citizen=UZ&citizen=CN&citizen=JP&citizen=MN&citizen=KP&citizen=KR&citizen=TW&citizen=AF&citizen=BD&citizen=BT&citizen=IN&citizen=IR&citizen=MV&citizen=NP&citizen=PK&citizen=LK&citizen=BN&citizen=KH&citizen=ID&citizen=LA&citizen=MY&citizen=MM&citizen=PH&citizen=SG&citizen=TH&citizen=TL&citizen=VN&citizen=AM&citizen=AZ&citizen=BH&citizen=IQ&citizen=IL&citizen=JO&citizen=KW&citizen=LB&citizen=PS&citizen=OM&citizen=QA&citizen=SA&citizen=SY&citizen=AE&citizen=YE&citizen=AU&citizen=NZ&citizen=FJ&citizen=PG&citizen=SB&citizen=VU&citizen=KI&citizen=MH&citizen=FM&citizen=NR&citizen=PW&citizen=CK&citizen=WS&citizen=TO&citizen=TV&citizen=RNC&citizen=STLS&citizen=TOTAL&citizen=UNK&sex=T&sex=M&sex=F&sex=UNK&age=TOTAL&age=Y_LT14&age=Y14-17&age=Y_LT18&age=Y18-34&age=Y35-64&age=Y_GE65&age=UNK&decision=TOTAL&decision=TOTAL_POS&decision=REJECTED&lang=en\"\n",
    "    response = requests.get(api_URL)\n",
    "    data = response.json()\n",
    "\n",
    "    dimensions = data['dimension']\n",
    "    values = data['value']\n",
    "\n",
    "\n",
    "    rows = []\n",
    "\n",
    "\n",
    "    dim_names = list(dimensions.keys())\n",
    "\n",
    "\n",
    "    for index, value in values.items():\n",
    "        row = {}\n",
    "        \n",
    "\n",
    "        idx = int(index)\n",
    "        \n",
    "\n",
    "        temp_idx = idx\n",
    "        for dim_name in reversed(dim_names):\n",
    "            dim_size = len(dimensions[dim_name]['category']['index'])\n",
    "            dim_idx = temp_idx % dim_size\n",
    "            temp_idx = temp_idx // dim_size\n",
    "            \n",
    "    \n",
    "            dim_keys = list(dimensions[dim_name]['category']['index'].keys())\n",
    "            category_key = dim_keys[dim_idx]\n",
    "            \n",
    "        \n",
    "            if 'label' in dimensions[dim_name]['category']:\n",
    "                row[dim_name] = dimensions[dim_name]['category']['label'].get(category_key, category_key)\n",
    "            else:\n",
    "                row[dim_name] = category_key\n",
    "        \n",
    "    \n",
    "        row['value'] = value\n",
    "        rows.append(row)\n",
    "\n",
    "\n",
    "    df = pd.DataFrame(rows)\n",
    "    asylum_drop = df.drop([\"unit\",\"freq\"], axis =1 )\n",
    "    asylum_drop = asylum_drop[asylum_drop[\"value\"] != 0]\n",
    "    asylum_drop = asylum_drop[(asylum_drop[\"age\"] != \"Total\") & (asylum_drop[\"sex\"] != \"Total\")]\n",
    "    return asylum_drop\n"
   ]
  },
  {
   "cell_type": "code",
   "execution_count": 30,
   "id": "579d0b22",
   "metadata": {},
   "outputs": [],
   "source": [
    "y2023_df = api_func(\"2023\")\n",
    "y2024_df = api_func(\"2024\")\n",
    "y2024_df = api_func(\"2022\")\n",
    "y2023_df = api_func(\"2021\")"
   ]
  },
  {
   "cell_type": "code",
   "execution_count": null,
   "id": "5b1650fa",
   "metadata": {},
   "outputs": [],
   "source": [
    "pd.merge(y2023_df,y2024_df)"
   ]
  },
  {
   "cell_type": "code",
   "execution_count": 28,
   "id": "0705fc46",
   "metadata": {},
   "outputs": [],
   "source": [
    "grouping = y2023_df.groupby([\"geo\",\"citizen\"])"
   ]
  }
 ],
 "metadata": {
  "kernelspec": {
   "display_name": "Python 3",
   "language": "python",
   "name": "python3"
  },
  "language_info": {
   "codemirror_mode": {
    "name": "ipython",
    "version": 3
   },
   "file_extension": ".py",
   "mimetype": "text/x-python",
   "name": "python",
   "nbconvert_exporter": "python",
   "pygments_lexer": "ipython3",
   "version": "3.13.3"
  }
 },
 "nbformat": 4,
 "nbformat_minor": 5
}
