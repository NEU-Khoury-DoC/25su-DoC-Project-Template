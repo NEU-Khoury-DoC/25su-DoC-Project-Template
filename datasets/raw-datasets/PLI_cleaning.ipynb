{
 "cells": [
  {
   "cell_type": "code",
   "execution_count": 6,
   "id": "5acdb90f-63f1-4e45-b6a2-10cbb900ce01",
   "metadata": {},
   "outputs": [
    {
     "name": "stdout",
     "output_type": "stream",
     "text": [
      "downloaded\n"
     ]
    }
   ],
   "source": [
    "import requests\n",
    "import pandas as pd\n",
    "\n",
    "# Fetch from Eurostat API\n",
    "url = \"https://ec.europa.eu/eurostat/api/dissemination/statistics/1.0/data/tec00120?format=JSON\"\n",
    "response = requests.get(url)\n",
    "response.raise_for_status()\n",
    "data = response.json()\n",
    "\n",
    "# Extract metadata\n",
    "values = data[\"value\"]\n",
    "geo_labels = data[\"dimension\"][\"geo\"][\"category\"][\"label\"]\n",
    "geo_indices = data[\"dimension\"][\"geo\"][\"category\"][\"index\"]\n",
    "time_labels = data[\"dimension\"][\"time\"][\"category\"][\"label\"]\n",
    "time_indices = data[\"dimension\"][\"time\"][\"category\"][\"index\"]\n",
    "geo_size = data[\"size\"][3]\n",
    "time_size = data[\"size\"][4]\n",
    "\n",
    "# Define EU countries (and EU27)\n",
    "eu_codes = [\n",
    "    'EU27_2020', 'BE', 'BG', 'CZ', 'DK', 'DE', 'EE', 'IE', 'EL', 'ES', 'FR',\n",
    "    'HR', 'IT', 'CY', 'LV', 'LT', 'LU', 'HU', 'MT', 'NL', 'AT', 'PL', 'PT',\n",
    "    'RO', 'SI', 'SK', 'FI', 'SE'\n",
    "]\n",
    "\n",
    "# Reconstruct mapping and extract records\n",
    "records = []\n",
    "for idx_str, val in values.items():\n",
    "    idx = int(idx_str)\n",
    "    geo_pos = idx % geo_size\n",
    "    time_pos = (idx // geo_size) % time_size\n",
    "\n",
    "    geo_code = next(k for k, v in geo_indices.items() if v == geo_pos)\n",
    "    year = next(k for k, v in time_indices.items() if v == time_pos)\n",
    "\n",
    "    if geo_code in eu_codes and int(year) >= 2015:\n",
    "        records.append({\n",
    "            \"Country\": geo_labels[geo_code],\n",
    "            \"Year\": year,\n",
    "            \"Price Level Index\": val\n",
    "        })\n",
    "\n",
    "# Create and pivot DataFrame\n",
    "df = pd.DataFrame(records)\n",
    "df_pivot = df.pivot(index=\"Country\", columns=\"Year\", values=\"Price Level Index\").reset_index()\n",
    "\n",
    "# Save to CSV\n",
    "filename = \"eu_comparative_price_levels_2015_2023.csv\"\n",
    "df_pivot.to_csv(filename, index=False)\n",
    "\n",
    "# Print download message\n",
    "print(f\"downloaded\")\n",
    "\n",
    "\n",
    "\n",
    "\n",
    "\n"
   ]
  },
  {
   "cell_type": "code",
   "execution_count": null,
   "id": "e170ddb5-9295-4ccc-98a6-11c793e9b465",
   "metadata": {},
   "outputs": [],
   "source": []
  }
 ],
 "metadata": {
  "kernelspec": {
   "display_name": "Python [conda env:base] *",
   "language": "python",
   "name": "conda-base-py"
  },
  "language_info": {
   "codemirror_mode": {
    "name": "ipython",
    "version": 3
   },
   "file_extension": ".py",
   "mimetype": "text/x-python",
   "name": "python",
   "nbconvert_exporter": "python",
   "pygments_lexer": "ipython3",
   "version": "3.12.4"
  }
 },
 "nbformat": 4,
 "nbformat_minor": 5
}
