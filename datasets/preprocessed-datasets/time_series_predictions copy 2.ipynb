{
 "cells": [
  {
   "cell_type": "code",
   "execution_count": 1,
   "id": "ee6ab292",
   "metadata": {},
   "outputs": [],
   "source": [
    "import requests\n",
    "import json\n",
    "import requests\n",
    "import pandas as pd\n",
    "from plotly import graph_objects as go\n",
    "import plotly.graph_objects as go\n",
    "import numpy as np\n",
    "import plotly.express as px\n",
    "from sklearn.metrics import mean_squared_error, r2_score\n",
    "from sklearn.model_selection import train_test_split\n",
    "from sklearn.preprocessing import StandardScaler"
   ]
  },
  {
   "cell_type": "code",
   "execution_count": 2,
   "id": "32d16aa9",
   "metadata": {},
   "outputs": [
    {
     "name": "stdout",
     "output_type": "stream",
     "text": [
      "object\n"
     ]
    },
    {
     "name": "stderr",
     "output_type": "stream",
     "text": [
      "/var/folders/6f/26l7p7y90rd4sw3bc17185400000gn/T/ipykernel_5818/1627526132.py:1: SettingWithCopyWarning:\n",
      "\n",
      "\n",
      "A value is trying to be set on a copy of a slice from a DataFrame.\n",
      "Try using .loc[row_indexer,col_indexer] = value instead\n",
      "\n",
      "See the caveats in the documentation: https://pandas.pydata.org/pandas-docs/stable/user_guide/indexing.html#returning-a-view-versus-a-copy\n",
      "\n"
     ]
    },
    {
     "data": {
      "application/vnd.plotly.v1+json": {
       "config": {
        "plotlyServerURL": "https://plot.ly"
       },
       "data": [
        {
         "marker": {
          "color": "crimson"
         },
         "name": "Germany",
         "type": "bar",
         "x": [
          2012,
          2013,
          2014,
          2015,
          2016,
          2017,
          2018,
          2019,
          2020,
          2021,
          2022,
          2023
         ],
         "y": [
          399531982,
          414453278,
          394377723,
          420166585,
          426990841,
          404592288,
          451416603,
          439169070,
          285977705,
          358428715,
          463342211,
          526338516
         ]
        },
        {
         "marker": {
          "color": "royalblue"
         },
         "name": "France",
         "type": "bar",
         "x": [
          2012,
          2013,
          2014,
          2015,
          2016,
          2017,
          2018,
          2019,
          2020,
          2021,
          2022,
          2023
         ],
         "y": [
          406369476,
          407204584,
          411807574,
          366221284,
          359227358,
          392347108,
          392229828,
          386709202,
          305202977,
          374563212,
          435660457,
          464286634
         ]
        },
        {
         "marker": {
          "color": "darkorange"
         },
         "name": "Spain",
         "type": "bar",
         "x": [
          2012,
          2013,
          2014,
          2015,
          2016,
          2017,
          2018,
          2019,
          2020,
          2021,
          2022,
          2023
         ],
         "y": [
          248536678,
          243094908,
          237899314,
          258762120,
          273436004,
          289462889,
          293323160,
          291426796,
          156125758,
          223492010,
          275660135,
          290848376
         ]
        }
       ],
       "layout": {
        "barmode": "group",
        "template": {
         "data": {
          "bar": [
           {
            "error_x": {
             "color": "#2a3f5f"
            },
            "error_y": {
             "color": "#2a3f5f"
            },
            "marker": {
             "line": {
              "color": "#E5ECF6",
              "width": 0.5
             },
             "pattern": {
              "fillmode": "overlay",
              "size": 10,
              "solidity": 0.2
             }
            },
            "type": "bar"
           }
          ],
          "barpolar": [
           {
            "marker": {
             "line": {
              "color": "#E5ECF6",
              "width": 0.5
             },
             "pattern": {
              "fillmode": "overlay",
              "size": 10,
              "solidity": 0.2
             }
            },
            "type": "barpolar"
           }
          ],
          "carpet": [
           {
            "aaxis": {
             "endlinecolor": "#2a3f5f",
             "gridcolor": "white",
             "linecolor": "white",
             "minorgridcolor": "white",
             "startlinecolor": "#2a3f5f"
            },
            "baxis": {
             "endlinecolor": "#2a3f5f",
             "gridcolor": "white",
             "linecolor": "white",
             "minorgridcolor": "white",
             "startlinecolor": "#2a3f5f"
            },
            "type": "carpet"
           }
          ],
          "choropleth": [
           {
            "colorbar": {
             "outlinewidth": 0,
             "ticks": ""
            },
            "type": "choropleth"
           }
          ],
          "contour": [
           {
            "colorbar": {
             "outlinewidth": 0,
             "ticks": ""
            },
            "colorscale": [
             [
              0,
              "#0d0887"
             ],
             [
              0.1111111111111111,
              "#46039f"
             ],
             [
              0.2222222222222222,
              "#7201a8"
             ],
             [
              0.3333333333333333,
              "#9c179e"
             ],
             [
              0.4444444444444444,
              "#bd3786"
             ],
             [
              0.5555555555555556,
              "#d8576b"
             ],
             [
              0.6666666666666666,
              "#ed7953"
             ],
             [
              0.7777777777777778,
              "#fb9f3a"
             ],
             [
              0.8888888888888888,
              "#fdca26"
             ],
             [
              1,
              "#f0f921"
             ]
            ],
            "type": "contour"
           }
          ],
          "contourcarpet": [
           {
            "colorbar": {
             "outlinewidth": 0,
             "ticks": ""
            },
            "type": "contourcarpet"
           }
          ],
          "heatmap": [
           {
            "colorbar": {
             "outlinewidth": 0,
             "ticks": ""
            },
            "colorscale": [
             [
              0,
              "#0d0887"
             ],
             [
              0.1111111111111111,
              "#46039f"
             ],
             [
              0.2222222222222222,
              "#7201a8"
             ],
             [
              0.3333333333333333,
              "#9c179e"
             ],
             [
              0.4444444444444444,
              "#bd3786"
             ],
             [
              0.5555555555555556,
              "#d8576b"
             ],
             [
              0.6666666666666666,
              "#ed7953"
             ],
             [
              0.7777777777777778,
              "#fb9f3a"
             ],
             [
              0.8888888888888888,
              "#fdca26"
             ],
             [
              1,
              "#f0f921"
             ]
            ],
            "type": "heatmap"
           }
          ],
          "heatmapgl": [
           {
            "colorbar": {
             "outlinewidth": 0,
             "ticks": ""
            },
            "colorscale": [
             [
              0,
              "#0d0887"
             ],
             [
              0.1111111111111111,
              "#46039f"
             ],
             [
              0.2222222222222222,
              "#7201a8"
             ],
             [
              0.3333333333333333,
              "#9c179e"
             ],
             [
              0.4444444444444444,
              "#bd3786"
             ],
             [
              0.5555555555555556,
              "#d8576b"
             ],
             [
              0.6666666666666666,
              "#ed7953"
             ],
             [
              0.7777777777777778,
              "#fb9f3a"
             ],
             [
              0.8888888888888888,
              "#fdca26"
             ],
             [
              1,
              "#f0f921"
             ]
            ],
            "type": "heatmapgl"
           }
          ],
          "histogram": [
           {
            "marker": {
             "pattern": {
              "fillmode": "overlay",
              "size": 10,
              "solidity": 0.2
             }
            },
            "type": "histogram"
           }
          ],
          "histogram2d": [
           {
            "colorbar": {
             "outlinewidth": 0,
             "ticks": ""
            },
            "colorscale": [
             [
              0,
              "#0d0887"
             ],
             [
              0.1111111111111111,
              "#46039f"
             ],
             [
              0.2222222222222222,
              "#7201a8"
             ],
             [
              0.3333333333333333,
              "#9c179e"
             ],
             [
              0.4444444444444444,
              "#bd3786"
             ],
             [
              0.5555555555555556,
              "#d8576b"
             ],
             [
              0.6666666666666666,
              "#ed7953"
             ],
             [
              0.7777777777777778,
              "#fb9f3a"
             ],
             [
              0.8888888888888888,
              "#fdca26"
             ],
             [
              1,
              "#f0f921"
             ]
            ],
            "type": "histogram2d"
           }
          ],
          "histogram2dcontour": [
           {
            "colorbar": {
             "outlinewidth": 0,
             "ticks": ""
            },
            "colorscale": [
             [
              0,
              "#0d0887"
             ],
             [
              0.1111111111111111,
              "#46039f"
             ],
             [
              0.2222222222222222,
              "#7201a8"
             ],
             [
              0.3333333333333333,
              "#9c179e"
             ],
             [
              0.4444444444444444,
              "#bd3786"
             ],
             [
              0.5555555555555556,
              "#d8576b"
             ],
             [
              0.6666666666666666,
              "#ed7953"
             ],
             [
              0.7777777777777778,
              "#fb9f3a"
             ],
             [
              0.8888888888888888,
              "#fdca26"
             ],
             [
              1,
              "#f0f921"
             ]
            ],
            "type": "histogram2dcontour"
           }
          ],
          "mesh3d": [
           {
            "colorbar": {
             "outlinewidth": 0,
             "ticks": ""
            },
            "type": "mesh3d"
           }
          ],
          "parcoords": [
           {
            "line": {
             "colorbar": {
              "outlinewidth": 0,
              "ticks": ""
             }
            },
            "type": "parcoords"
           }
          ],
          "pie": [
           {
            "automargin": true,
            "type": "pie"
           }
          ],
          "scatter": [
           {
            "fillpattern": {
             "fillmode": "overlay",
             "size": 10,
             "solidity": 0.2
            },
            "type": "scatter"
           }
          ],
          "scatter3d": [
           {
            "line": {
             "colorbar": {
              "outlinewidth": 0,
              "ticks": ""
             }
            },
            "marker": {
             "colorbar": {
              "outlinewidth": 0,
              "ticks": ""
             }
            },
            "type": "scatter3d"
           }
          ],
          "scattercarpet": [
           {
            "marker": {
             "colorbar": {
              "outlinewidth": 0,
              "ticks": ""
             }
            },
            "type": "scattercarpet"
           }
          ],
          "scattergeo": [
           {
            "marker": {
             "colorbar": {
              "outlinewidth": 0,
              "ticks": ""
             }
            },
            "type": "scattergeo"
           }
          ],
          "scattergl": [
           {
            "marker": {
             "colorbar": {
              "outlinewidth": 0,
              "ticks": ""
             }
            },
            "type": "scattergl"
           }
          ],
          "scattermapbox": [
           {
            "marker": {
             "colorbar": {
              "outlinewidth": 0,
              "ticks": ""
             }
            },
            "type": "scattermapbox"
           }
          ],
          "scatterpolar": [
           {
            "marker": {
             "colorbar": {
              "outlinewidth": 0,
              "ticks": ""
             }
            },
            "type": "scatterpolar"
           }
          ],
          "scatterpolargl": [
           {
            "marker": {
             "colorbar": {
              "outlinewidth": 0,
              "ticks": ""
             }
            },
            "type": "scatterpolargl"
           }
          ],
          "scatterternary": [
           {
            "marker": {
             "colorbar": {
              "outlinewidth": 0,
              "ticks": ""
             }
            },
            "type": "scatterternary"
           }
          ],
          "surface": [
           {
            "colorbar": {
             "outlinewidth": 0,
             "ticks": ""
            },
            "colorscale": [
             [
              0,
              "#0d0887"
             ],
             [
              0.1111111111111111,
              "#46039f"
             ],
             [
              0.2222222222222222,
              "#7201a8"
             ],
             [
              0.3333333333333333,
              "#9c179e"
             ],
             [
              0.4444444444444444,
              "#bd3786"
             ],
             [
              0.5555555555555556,
              "#d8576b"
             ],
             [
              0.6666666666666666,
              "#ed7953"
             ],
             [
              0.7777777777777778,
              "#fb9f3a"
             ],
             [
              0.8888888888888888,
              "#fdca26"
             ],
             [
              1,
              "#f0f921"
             ]
            ],
            "type": "surface"
           }
          ],
          "table": [
           {
            "cells": {
             "fill": {
              "color": "#EBF0F8"
             },
             "line": {
              "color": "white"
             }
            },
            "header": {
             "fill": {
              "color": "#C8D4E3"
             },
             "line": {
              "color": "white"
             }
            },
            "type": "table"
           }
          ]
         },
         "layout": {
          "annotationdefaults": {
           "arrowcolor": "#2a3f5f",
           "arrowhead": 0,
           "arrowwidth": 1
          },
          "autotypenumbers": "strict",
          "coloraxis": {
           "colorbar": {
            "outlinewidth": 0,
            "ticks": ""
           }
          },
          "colorscale": {
           "diverging": [
            [
             0,
             "#8e0152"
            ],
            [
             0.1,
             "#c51b7d"
            ],
            [
             0.2,
             "#de77ae"
            ],
            [
             0.3,
             "#f1b6da"
            ],
            [
             0.4,
             "#fde0ef"
            ],
            [
             0.5,
             "#f7f7f7"
            ],
            [
             0.6,
             "#e6f5d0"
            ],
            [
             0.7,
             "#b8e186"
            ],
            [
             0.8,
             "#7fbc41"
            ],
            [
             0.9,
             "#4d9221"
            ],
            [
             1,
             "#276419"
            ]
           ],
           "sequential": [
            [
             0,
             "#0d0887"
            ],
            [
             0.1111111111111111,
             "#46039f"
            ],
            [
             0.2222222222222222,
             "#7201a8"
            ],
            [
             0.3333333333333333,
             "#9c179e"
            ],
            [
             0.4444444444444444,
             "#bd3786"
            ],
            [
             0.5555555555555556,
             "#d8576b"
            ],
            [
             0.6666666666666666,
             "#ed7953"
            ],
            [
             0.7777777777777778,
             "#fb9f3a"
            ],
            [
             0.8888888888888888,
             "#fdca26"
            ],
            [
             1,
             "#f0f921"
            ]
           ],
           "sequentialminus": [
            [
             0,
             "#0d0887"
            ],
            [
             0.1111111111111111,
             "#46039f"
            ],
            [
             0.2222222222222222,
             "#7201a8"
            ],
            [
             0.3333333333333333,
             "#9c179e"
            ],
            [
             0.4444444444444444,
             "#bd3786"
            ],
            [
             0.5555555555555556,
             "#d8576b"
            ],
            [
             0.6666666666666666,
             "#ed7953"
            ],
            [
             0.7777777777777778,
             "#fb9f3a"
            ],
            [
             0.8888888888888888,
             "#fdca26"
            ],
            [
             1,
             "#f0f921"
            ]
           ]
          },
          "colorway": [
           "#636efa",
           "#EF553B",
           "#00cc96",
           "#ab63fa",
           "#FFA15A",
           "#19d3f3",
           "#FF6692",
           "#B6E880",
           "#FF97FF",
           "#FECB52"
          ],
          "font": {
           "color": "#2a3f5f"
          },
          "geo": {
           "bgcolor": "white",
           "lakecolor": "white",
           "landcolor": "#E5ECF6",
           "showlakes": true,
           "showland": true,
           "subunitcolor": "white"
          },
          "hoverlabel": {
           "align": "left"
          },
          "hovermode": "closest",
          "mapbox": {
           "style": "light"
          },
          "paper_bgcolor": "white",
          "plot_bgcolor": "#E5ECF6",
          "polar": {
           "angularaxis": {
            "gridcolor": "white",
            "linecolor": "white",
            "ticks": ""
           },
           "bgcolor": "#E5ECF6",
           "radialaxis": {
            "gridcolor": "white",
            "linecolor": "white",
            "ticks": ""
           }
          },
          "scene": {
           "xaxis": {
            "backgroundcolor": "#E5ECF6",
            "gridcolor": "white",
            "gridwidth": 2,
            "linecolor": "white",
            "showbackground": true,
            "ticks": "",
            "zerolinecolor": "white"
           },
           "yaxis": {
            "backgroundcolor": "#E5ECF6",
            "gridcolor": "white",
            "gridwidth": 2,
            "linecolor": "white",
            "showbackground": true,
            "ticks": "",
            "zerolinecolor": "white"
           },
           "zaxis": {
            "backgroundcolor": "#E5ECF6",
            "gridcolor": "white",
            "gridwidth": 2,
            "linecolor": "white",
            "showbackground": true,
            "ticks": "",
            "zerolinecolor": "white"
           }
          },
          "shapedefaults": {
           "line": {
            "color": "#2a3f5f"
           }
          },
          "ternary": {
           "aaxis": {
            "gridcolor": "white",
            "linecolor": "white",
            "ticks": ""
           },
           "baxis": {
            "gridcolor": "white",
            "linecolor": "white",
            "ticks": ""
           },
           "bgcolor": "#E5ECF6",
           "caxis": {
            "gridcolor": "white",
            "linecolor": "white",
            "ticks": ""
           }
          },
          "title": {
           "x": 0.05
          },
          "xaxis": {
           "automargin": true,
           "gridcolor": "white",
           "linecolor": "white",
           "ticks": "",
           "title": {
            "standoff": 15
           },
           "zerolinecolor": "white",
           "zerolinewidth": 2
          },
          "yaxis": {
           "automargin": true,
           "gridcolor": "white",
           "linecolor": "white",
           "ticks": "",
           "title": {
            "standoff": 15
           },
           "zerolinecolor": "white",
           "zerolinewidth": 2
          }
         }
        },
        "title": {
         "text": "Number of Trips for Top 3 Most Traveled Countries by Year (1 night or over)"
        },
        "xaxis": {
         "title": {
          "text": "Year"
         }
        },
        "yaxis": {
         "title": {
          "text": "Number of Trips"
         }
        }
       }
      }
     },
     "metadata": {},
     "output_type": "display_data"
    }
   ],
   "source": [
    "%run trips_duration.ipynb"
   ]
  },
  {
   "cell_type": "code",
   "execution_count": 3,
   "id": "3be59464",
   "metadata": {},
   "outputs": [],
   "source": [
    "def merging_data(final_1plus_df):\n",
    "\n",
    "    tourist_num = final_1plus_df\n",
    "    tourist_num_copy = final_1plus_df.copy()\n",
    "\n",
    "    min_trips = tourist_num['NumTrips'].min()\n",
    "    max_trips = tourist_num['NumTrips'].max()\n",
    "\n",
    "    tourist_num['Tourism St.'] = (tourist_num['NumTrips'] - min_trips) / (max_trips - min_trips)\n",
    "\n",
    "    tourist_num = pd.DataFrame(final_1plus_df, columns = ['Country', 'Year', 'Tourism St.'])\n",
    "    tourist_num.sort_values(by = [\"Year\"])\n",
    "\n",
    "    unfiltered_predicted_tourist =pd.DataFrame(tourist_num_copy, columns = [\"Country\", \"Year\", \"NumTrips\"])\n",
    "\n",
    "    return tourist_num, unfiltered_predicted_tourist\n"
   ]
  },
  {
   "cell_type": "code",
   "execution_count": 4,
   "id": "f5bdb604",
   "metadata": {},
   "outputs": [
    {
     "data": {
      "text/html": [
       "<div>\n",
       "<style scoped>\n",
       "    .dataframe tbody tr th:only-of-type {\n",
       "        vertical-align: middle;\n",
       "    }\n",
       "\n",
       "    .dataframe tbody tr th {\n",
       "        vertical-align: top;\n",
       "    }\n",
       "\n",
       "    .dataframe thead th {\n",
       "        text-align: right;\n",
       "    }\n",
       "</style>\n",
       "<table border=\"1\" class=\"dataframe\">\n",
       "  <thead>\n",
       "    <tr style=\"text-align: right;\">\n",
       "      <th></th>\n",
       "      <th>Country</th>\n",
       "      <th>Year</th>\n",
       "      <th>Tourism St.</th>\n",
       "    </tr>\n",
       "  </thead>\n",
       "  <tbody>\n",
       "    <tr>\n",
       "      <th>0</th>\n",
       "      <td>Albania</td>\n",
       "      <td>2017</td>\n",
       "      <td>0.014321</td>\n",
       "    </tr>\n",
       "    <tr>\n",
       "      <th>1</th>\n",
       "      <td>Albania</td>\n",
       "      <td>2019</td>\n",
       "      <td>0.018106</td>\n",
       "    </tr>\n",
       "    <tr>\n",
       "      <th>2</th>\n",
       "      <td>Albania</td>\n",
       "      <td>2020</td>\n",
       "      <td>0.011349</td>\n",
       "    </tr>\n",
       "    <tr>\n",
       "      <th>3</th>\n",
       "      <td>Austria</td>\n",
       "      <td>2012</td>\n",
       "      <td>0.067236</td>\n",
       "    </tr>\n",
       "    <tr>\n",
       "      <th>4</th>\n",
       "      <td>Austria</td>\n",
       "      <td>2013</td>\n",
       "      <td>0.068143</td>\n",
       "    </tr>\n",
       "    <tr>\n",
       "      <th>...</th>\n",
       "      <td>...</td>\n",
       "      <td>...</td>\n",
       "      <td>...</td>\n",
       "    </tr>\n",
       "    <tr>\n",
       "      <th>345</th>\n",
       "      <td>Switzerland</td>\n",
       "      <td>2018</td>\n",
       "      <td>0.076381</td>\n",
       "    </tr>\n",
       "    <tr>\n",
       "      <th>346</th>\n",
       "      <td>Switzerland</td>\n",
       "      <td>2019</td>\n",
       "      <td>0.069107</td>\n",
       "    </tr>\n",
       "    <tr>\n",
       "      <th>347</th>\n",
       "      <td>Switzerland</td>\n",
       "      <td>2020</td>\n",
       "      <td>0.059142</td>\n",
       "    </tr>\n",
       "    <tr>\n",
       "      <th>348</th>\n",
       "      <td>Switzerland</td>\n",
       "      <td>2021</td>\n",
       "      <td>0.061503</td>\n",
       "    </tr>\n",
       "    <tr>\n",
       "      <th>349</th>\n",
       "      <td>Switzerland</td>\n",
       "      <td>2022</td>\n",
       "      <td>0.086741</td>\n",
       "    </tr>\n",
       "  </tbody>\n",
       "</table>\n",
       "<p>350 rows × 3 columns</p>\n",
       "</div>"
      ],
      "text/plain": [
       "         Country  Year  Tourism St.\n",
       "0        Albania  2017     0.014321\n",
       "1        Albania  2019     0.018106\n",
       "2        Albania  2020     0.011349\n",
       "3        Austria  2012     0.067236\n",
       "4        Austria  2013     0.068143\n",
       "..           ...   ...          ...\n",
       "345  Switzerland  2018     0.076381\n",
       "346  Switzerland  2019     0.069107\n",
       "347  Switzerland  2020     0.059142\n",
       "348  Switzerland  2021     0.061503\n",
       "349  Switzerland  2022     0.086741\n",
       "\n",
       "[350 rows x 3 columns]"
      ]
     },
     "execution_count": 4,
     "metadata": {},
     "output_type": "execute_result"
    }
   ],
   "source": [
    "datas = merging_data(final_1plus_df)\n",
    "data = datas[0]\n",
    "data_not_st = datas[1]\n",
    "data"
   ]
  },
  {
   "cell_type": "code",
   "execution_count": 5,
   "id": "1215c7fe",
   "metadata": {},
   "outputs": [],
   "source": [
    "def get_lag_columns(country_df, lag = 3):\n",
    "\n",
    "    country_df = country_df.sort_values('Year').reset_index(drop = True)\n",
    "    country_df['Covid'] = country_df['Year'].apply(lambda x: 1 if x in [2020, 2021] else 0)\n",
    "    country_df['Bias'] = 1\n",
    "    min_year = country_df['Year'].min()\n",
    "    \n",
    "    index_country = country_df.index[country_df['Year'].astype(int) == min_year + 3]\n",
    "    index = index_country[0]\n",
    "\n",
    "    y_vector = []\n",
    "    x_matrix = []\n",
    "    x_list = []\n",
    "    for i in range(index, len(country_df)): \n",
    "        if i - lag < 0:\n",
    "            continue\n",
    "        bias = 1 \n",
    "        country = country_df.iloc[i][\"Country\"]\n",
    "        lag_values = [country_df.iloc[i - j]['Tourism St.'] for j in range(1, lag + 1)]\n",
    "        covid = country_df.iloc[i]['Covid']\n",
    "        year = country_df.iloc[i]['Year']\n",
    "        \n",
    "        x_list = [bias, country, year, covid] + lag_values\n",
    "        x_matrix.append(x_list)\n",
    "        y_vector.append(country_df.iloc[i][\"Tourism St.\"])\n",
    "\n",
    "    x_matrix = pd.DataFrame(x_matrix)\n",
    "    x_matrix.rename(columns={0: \"Bias\", 1: \"Country\", 2:\"Year\", 3:\"Covid\", 4:\"lag1\", 5:\"lag2\", 6:\"lag3\"}, inplace=True)\n",
    "\n",
    "\n",
    "    return x_matrix, y_vector"
   ]
  },
  {
   "cell_type": "code",
   "execution_count": 7,
   "id": "4659ec54",
   "metadata": {},
   "outputs": [
    {
     "data": {
      "text/html": [
       "<div>\n",
       "<style scoped>\n",
       "    .dataframe tbody tr th:only-of-type {\n",
       "        vertical-align: middle;\n",
       "    }\n",
       "\n",
       "    .dataframe tbody tr th {\n",
       "        vertical-align: top;\n",
       "    }\n",
       "\n",
       "    .dataframe thead th {\n",
       "        text-align: right;\n",
       "    }\n",
       "</style>\n",
       "<table border=\"1\" class=\"dataframe\">\n",
       "  <thead>\n",
       "    <tr style=\"text-align: right;\">\n",
       "      <th></th>\n",
       "      <th>Country</th>\n",
       "      <th>Year</th>\n",
       "      <th>Tourism St.</th>\n",
       "    </tr>\n",
       "  </thead>\n",
       "  <tbody>\n",
       "    <tr>\n",
       "      <th>0</th>\n",
       "      <td>Albania</td>\n",
       "      <td>2017</td>\n",
       "      <td>0.014321</td>\n",
       "    </tr>\n",
       "    <tr>\n",
       "      <th>1</th>\n",
       "      <td>Albania</td>\n",
       "      <td>2019</td>\n",
       "      <td>0.018106</td>\n",
       "    </tr>\n",
       "    <tr>\n",
       "      <th>2</th>\n",
       "      <td>Albania</td>\n",
       "      <td>2020</td>\n",
       "      <td>0.011349</td>\n",
       "    </tr>\n",
       "  </tbody>\n",
       "</table>\n",
       "</div>"
      ],
      "text/plain": [
       "   Country  Year  Tourism St.\n",
       "0  Albania  2017     0.014321\n",
       "1  Albania  2019     0.018106\n",
       "2  Albania  2020     0.011349"
      ]
     },
     "execution_count": 7,
     "metadata": {},
     "output_type": "execute_result"
    }
   ],
   "source": [
    "data[data['Country']=='Albania']"
   ]
  },
  {
   "cell_type": "code",
   "execution_count": 9,
   "id": "6b77db91",
   "metadata": {},
   "outputs": [
    {
     "name": "stdout",
     "output_type": "stream",
     "text": [
      "Empty DataFrame\n",
      "Columns: []\n",
      "Index: []\n",
      "[]\n"
     ]
    }
   ],
   "source": [
    "X, y = get_lag_columns(data[data['Country'] == 'Albania'], lag=3)\n",
    "print(X)\n",
    "print(y)"
   ]
  },
  {
   "cell_type": "code",
   "execution_count": 10,
   "id": "ef748c34",
   "metadata": {},
   "outputs": [],
   "source": [
    "def fit_regression(X, y):\n",
    "    Xt = X.T\n",
    "    XtX = np.dot(Xt, X)\n",
    "    XtX_inv = np.linalg.inv(XtX)\n",
    "    Xt_y = np.dot(Xt, y)\n",
    "    beta = np.dot(XtX_inv, Xt_y)\n",
    "\n",
    "    return beta"
   ]
  },
  {
   "cell_type": "code",
   "execution_count": 11,
   "id": "07728867",
   "metadata": {},
   "outputs": [],
   "source": [
    "def predict_next_year(beta, X):\n",
    "    return np.dot(beta, X)"
   ]
  },
  {
   "cell_type": "code",
   "execution_count": 12,
   "id": "8a5efc63",
   "metadata": {},
   "outputs": [],
   "source": [
    "def get_country_years_pred(data, country, lag = 3):\n",
    "\n",
    "    country_df = data[data['Country'] == country]\n",
    "    country_df, y = get_lag_columns(country_df, lag = lag)\n",
    "\n",
    "    lag_cols = [f'lag{i}' for i in range(1, lag + 1)]\n",
    "    feature_cols = ['Bias', 'Covid'] + lag_cols\n",
    "    \n",
    "    X = country_df[feature_cols].values\n",
    "    #print(X)\n",
    "    #print(y)\n",
    "\n",
    "    beta_tourism = fit_regression(X, y)\n",
    "    #print(beta_tourism)\n",
    "\n",
    "    predictions = []\n",
    "    for index, row in country_df.iterrows():\n",
    "        year = row['Year']\n",
    "        X_year = np.array([row[col] for col in feature_cols])\n",
    "        print(X_year)\n",
    "        pred_tourism = predict_next_year(beta_tourism, X_year)\n",
    "\n",
    "        predictions.append({\n",
    "            'Country': country,\n",
    "            'Year': year,\n",
    "            'Actual_Tourism': y[index],\n",
    "            'Predicted_Tourism': pred_tourism\n",
    "\n",
    "        })\n",
    "\n",
    "    all_years_results = pd.DataFrame(predictions)\n",
    "\n",
    "    return all_years_results"
   ]
  },
  {
   "cell_type": "code",
   "execution_count": 13,
   "id": "3ed6a2dc",
   "metadata": {},
   "outputs": [
    {
     "name": "stdout",
     "output_type": "stream",
     "text": [
      "[1.         0.         0.02151262 0.02055928 0.02145767]\n",
      "[1.         0.         0.02531902 0.02151262 0.02055928]\n",
      "[1.         0.         0.03038533 0.02531902 0.02151262]\n",
      "[1.         0.         0.03421163 0.03038533 0.02531902]\n",
      "[1.         0.         0.03961017 0.03421163 0.03038533]\n",
      "[1.         1.         0.04460578 0.03961017 0.03421163]\n",
      "[1.         1.         0.01920615 0.04460578 0.03961017]\n",
      "[1.         0.         0.02394134 0.01920615 0.04460578]\n",
      "[1.         0.         0.0415977  0.02394134 0.01920615]\n"
     ]
    },
    {
     "data": {
      "text/html": [
       "<div>\n",
       "<style scoped>\n",
       "    .dataframe tbody tr th:only-of-type {\n",
       "        vertical-align: middle;\n",
       "    }\n",
       "\n",
       "    .dataframe tbody tr th {\n",
       "        vertical-align: top;\n",
       "    }\n",
       "\n",
       "    .dataframe thead th {\n",
       "        text-align: right;\n",
       "    }\n",
       "</style>\n",
       "<table border=\"1\" class=\"dataframe\">\n",
       "  <thead>\n",
       "    <tr style=\"text-align: right;\">\n",
       "      <th></th>\n",
       "      <th>Country</th>\n",
       "      <th>Year</th>\n",
       "      <th>Actual_Tourism</th>\n",
       "      <th>Predicted_Tourism</th>\n",
       "    </tr>\n",
       "  </thead>\n",
       "  <tbody>\n",
       "    <tr>\n",
       "      <th>0</th>\n",
       "      <td>Slovakia</td>\n",
       "      <td>2015</td>\n",
       "      <td>0.025319</td>\n",
       "      <td>0.029939</td>\n",
       "    </tr>\n",
       "    <tr>\n",
       "      <th>1</th>\n",
       "      <td>Slovakia</td>\n",
       "      <td>2016</td>\n",
       "      <td>0.030385</td>\n",
       "      <td>0.031425</td>\n",
       "    </tr>\n",
       "    <tr>\n",
       "      <th>2</th>\n",
       "      <td>Slovakia</td>\n",
       "      <td>2017</td>\n",
       "      <td>0.034212</td>\n",
       "      <td>0.035546</td>\n",
       "    </tr>\n",
       "    <tr>\n",
       "      <th>3</th>\n",
       "      <td>Slovakia</td>\n",
       "      <td>2018</td>\n",
       "      <td>0.039610</td>\n",
       "      <td>0.041058</td>\n",
       "    </tr>\n",
       "    <tr>\n",
       "      <th>4</th>\n",
       "      <td>Slovakia</td>\n",
       "      <td>2019</td>\n",
       "      <td>0.044606</td>\n",
       "      <td>0.047150</td>\n",
       "    </tr>\n",
       "    <tr>\n",
       "      <th>5</th>\n",
       "      <td>Slovakia</td>\n",
       "      <td>2020</td>\n",
       "      <td>0.019206</td>\n",
       "      <td>0.024017</td>\n",
       "    </tr>\n",
       "    <tr>\n",
       "      <th>6</th>\n",
       "      <td>Slovakia</td>\n",
       "      <td>2021</td>\n",
       "      <td>0.023941</td>\n",
       "      <td>0.019130</td>\n",
       "    </tr>\n",
       "    <tr>\n",
       "      <th>7</th>\n",
       "      <td>Slovakia</td>\n",
       "      <td>2022</td>\n",
       "      <td>0.041598</td>\n",
       "      <td>0.040566</td>\n",
       "    </tr>\n",
       "    <tr>\n",
       "      <th>8</th>\n",
       "      <td>Slovakia</td>\n",
       "      <td>2023</td>\n",
       "      <td>0.048077</td>\n",
       "      <td>0.038123</td>\n",
       "    </tr>\n",
       "  </tbody>\n",
       "</table>\n",
       "</div>"
      ],
      "text/plain": [
       "    Country  Year  Actual_Tourism  Predicted_Tourism\n",
       "0  Slovakia  2015        0.025319           0.029939\n",
       "1  Slovakia  2016        0.030385           0.031425\n",
       "2  Slovakia  2017        0.034212           0.035546\n",
       "3  Slovakia  2018        0.039610           0.041058\n",
       "4  Slovakia  2019        0.044606           0.047150\n",
       "5  Slovakia  2020        0.019206           0.024017\n",
       "6  Slovakia  2021        0.023941           0.019130\n",
       "7  Slovakia  2022        0.041598           0.040566\n",
       "8  Slovakia  2023        0.048077           0.038123"
      ]
     },
     "execution_count": 13,
     "metadata": {},
     "output_type": "execute_result"
    }
   ],
   "source": [
    "prev_year_result = get_country_years_pred(data, \"Slovakia\")\n",
    "prev_year_result"
   ]
  },
  {
   "cell_type": "code",
   "execution_count": 14,
   "id": "cbbb5753",
   "metadata": {},
   "outputs": [
    {
     "data": {
      "text/plain": [
       "0.7782708312971978"
      ]
     },
     "execution_count": 14,
     "metadata": {},
     "output_type": "execute_result"
    }
   ],
   "source": [
    "r2_score(prev_year_result['Actual_Tourism'], prev_year_result['Predicted_Tourism'])"
   ]
  },
  {
   "cell_type": "code",
   "execution_count": 15,
   "id": "11212d37",
   "metadata": {},
   "outputs": [],
   "source": [
    "def get_country_prediction(data, country, lag=3):\n",
    "    country_df = data[data['Country'] == country].copy()\n",
    "    country_df, y = get_lag_columns(country_df, lag=lag)\n",
    "\n",
    "    lag_cols = [f'lag{i}' for i in range(1, lag + 1)]\n",
    "    feature_cols = ['Bias', 'Covid'] + lag_cols\n",
    "\n",
    "    X = country_df[feature_cols].values\n",
    "\n",
    "    beta_tourism = fit_regression(X, y)\n",
    "\n",
    "    last_year = country_df['Year'].max()\n",
    "    #print(last_year)\n",
    "\n",
    "    last_row = country_df[country_df['Year'] == last_year].iloc[0]\n",
    "    lag_values = [last_row[f'lag{i}'] for i in range(1, lag + 1)]\n",
    "\n",
    "    tmp_x = last_row[feature_cols].to_numpy()\n",
    "    x_old = np.hstack([tmp_x[:2], y[-1], tmp_x[2:4]])\n",
    "    \n",
    "    year_list = [2024]\n",
    "    country_list = [country]\n",
    "    pred_list = [predict_next_year(beta_tourism, x_old)]\n",
    "\n",
    "    for i in range(1, lag):\n",
    "        year = last_year + i + 1\n",
    "        \n",
    "        X_new = np.hstack([x_old[:2], pred_list[i-1], x_old[2:4]])\n",
    "        pred_tourism = predict_next_year(beta_tourism, X_new)\n",
    "\n",
    "        year_list.append(year)\n",
    "        country_list.append(country)\n",
    "        pred_list.append(pred_tourism)\n",
    "\n",
    "        x_old = X_new\n",
    "\n",
    "    predictions = {'Year': year_list,\n",
    "                   'Country': country_list,\n",
    "                   'Predicted_Tourism': pred_list}\n",
    "\n",
    "    return predictions\n"
   ]
  },
  {
   "cell_type": "code",
   "execution_count": 16,
   "id": "190faad9",
   "metadata": {},
   "outputs": [
    {
     "data": {
      "text/html": [
       "<div>\n",
       "<style scoped>\n",
       "    .dataframe tbody tr th:only-of-type {\n",
       "        vertical-align: middle;\n",
       "    }\n",
       "\n",
       "    .dataframe tbody tr th {\n",
       "        vertical-align: top;\n",
       "    }\n",
       "\n",
       "    .dataframe thead th {\n",
       "        text-align: right;\n",
       "    }\n",
       "</style>\n",
       "<table border=\"1\" class=\"dataframe\">\n",
       "  <thead>\n",
       "    <tr style=\"text-align: right;\">\n",
       "      <th></th>\n",
       "      <th>Year</th>\n",
       "      <th>Country</th>\n",
       "      <th>Predicted_Tourism</th>\n",
       "    </tr>\n",
       "  </thead>\n",
       "  <tbody>\n",
       "    <tr>\n",
       "      <th>0</th>\n",
       "      <td>2024</td>\n",
       "      <td>Slovakia</td>\n",
       "      <td>0.050925</td>\n",
       "    </tr>\n",
       "    <tr>\n",
       "      <th>1</th>\n",
       "      <td>2025</td>\n",
       "      <td>Slovakia</td>\n",
       "      <td>0.062911</td>\n",
       "    </tr>\n",
       "    <tr>\n",
       "      <th>2</th>\n",
       "      <td>2026</td>\n",
       "      <td>Slovakia</td>\n",
       "      <td>0.071675</td>\n",
       "    </tr>\n",
       "  </tbody>\n",
       "</table>\n",
       "</div>"
      ],
      "text/plain": [
       "   Year   Country  Predicted_Tourism\n",
       "0  2024  Slovakia           0.050925\n",
       "1  2025  Slovakia           0.062911\n",
       "2  2026  Slovakia           0.071675"
      ]
     },
     "execution_count": 16,
     "metadata": {},
     "output_type": "execute_result"
    }
   ],
   "source": [
    "result = get_country_prediction(data, \"Slovakia\", lag=3)\n",
    "result = pd.DataFrame(result)\n",
    "result.sort_values(by=['Year'])\n",
    "result"
   ]
  },
  {
   "cell_type": "code",
   "execution_count": 17,
   "id": "6717248c",
   "metadata": {},
   "outputs": [],
   "source": [
    "def visualization(data, st_data): \n",
    "    min_trips = data['NumTrips'].min()\n",
    "    max_trips = data['NumTrips'].max()\n",
    "\n",
    "    st_data[\"Predicted_Tourism_normal\"] = st_data[\"Predicted_Tourism\"] * (max_trips - min_trips) + min_trips\n",
    "\n",
    "    \n",
    "    country_name = st_data[\"Country\"].iloc[0]\n",
    "    matching_data = data[data[\"Country\"] == country_name]\n",
    "\n",
    "    merged = pd.concat([st_data, matching_data], ignore_index=True)\n",
    "    merged = merged.sort_values(by=\"Year\").reset_index(drop=True)\n",
    "\n",
    "    merged['Tourism_combined'] = merged['NumTrips'].fillna(merged['Predicted_Tourism_normal'])\n",
    "    merged['Tourism_combined'] = merged['NumTrips'].fillna(merged['Predicted_Tourism_normal'])\n",
    "\n",
    "    merged['Tourism_combined'] = merged['NumTrips'].fillna(merged['Predicted_Tourism_normal'])\n",
    "    \n",
    "    fig = go.Figure()\n",
    "\n",
    "    fig.add_trace(go.Scatter(\n",
    "        x=merged['Year'], \n",
    "        y=merged['Tourism_combined'], \n",
    "        name='Tourist Numbers',\n",
    "        line=dict(color='royalblue', width=4),\n",
    "    ))\n",
    "\n",
    "    fig.add_vline(\n",
    "        x=2023,  \n",
    "        line=dict(color='gray', dash='dot'),\n",
    "        annotation_text='Prediction',\n",
    "        annotation_position='top right'\n",
    ")\n",
    "\n",
    "    fig.show()\n"
   ]
  },
  {
   "cell_type": "code",
   "execution_count": 18,
   "id": "e3f9be0e",
   "metadata": {},
   "outputs": [
    {
     "data": {
      "application/vnd.plotly.v1+json": {
       "config": {
        "plotlyServerURL": "https://plot.ly"
       },
       "data": [
        {
         "line": {
          "color": "royalblue",
          "width": 4
         },
         "name": "Tourist Numbers",
         "type": "scatter",
         "x": [
          2012,
          2013,
          2014,
          2015,
          2016,
          2017,
          2018,
          2019,
          2020,
          2021,
          2022,
          2023,
          2024,
          2025,
          2026
         ],
         "y": [
          11938268,
          11466000,
          11967152,
          13968100,
          16631358,
          18642770,
          21480676,
          24106768,
          10754689,
          13243884,
          22525480,
          25931410,
          27428799.546763264,
          33729205.75800241,
          38336351.947555326
         ]
        }
       ],
       "layout": {
        "annotations": [
         {
          "showarrow": false,
          "text": "Prediction",
          "x": 2023,
          "xanchor": "left",
          "xref": "x",
          "y": 1,
          "yanchor": "top",
          "yref": "y domain"
         }
        ],
        "shapes": [
         {
          "line": {
           "color": "gray",
           "dash": "dot"
          },
          "type": "line",
          "x0": 2023,
          "x1": 2023,
          "xref": "x",
          "y0": 0,
          "y1": 1,
          "yref": "y domain"
         }
        ],
        "template": {
         "data": {
          "bar": [
           {
            "error_x": {
             "color": "#2a3f5f"
            },
            "error_y": {
             "color": "#2a3f5f"
            },
            "marker": {
             "line": {
              "color": "#E5ECF6",
              "width": 0.5
             },
             "pattern": {
              "fillmode": "overlay",
              "size": 10,
              "solidity": 0.2
             }
            },
            "type": "bar"
           }
          ],
          "barpolar": [
           {
            "marker": {
             "line": {
              "color": "#E5ECF6",
              "width": 0.5
             },
             "pattern": {
              "fillmode": "overlay",
              "size": 10,
              "solidity": 0.2
             }
            },
            "type": "barpolar"
           }
          ],
          "carpet": [
           {
            "aaxis": {
             "endlinecolor": "#2a3f5f",
             "gridcolor": "white",
             "linecolor": "white",
             "minorgridcolor": "white",
             "startlinecolor": "#2a3f5f"
            },
            "baxis": {
             "endlinecolor": "#2a3f5f",
             "gridcolor": "white",
             "linecolor": "white",
             "minorgridcolor": "white",
             "startlinecolor": "#2a3f5f"
            },
            "type": "carpet"
           }
          ],
          "choropleth": [
           {
            "colorbar": {
             "outlinewidth": 0,
             "ticks": ""
            },
            "type": "choropleth"
           }
          ],
          "contour": [
           {
            "colorbar": {
             "outlinewidth": 0,
             "ticks": ""
            },
            "colorscale": [
             [
              0,
              "#0d0887"
             ],
             [
              0.1111111111111111,
              "#46039f"
             ],
             [
              0.2222222222222222,
              "#7201a8"
             ],
             [
              0.3333333333333333,
              "#9c179e"
             ],
             [
              0.4444444444444444,
              "#bd3786"
             ],
             [
              0.5555555555555556,
              "#d8576b"
             ],
             [
              0.6666666666666666,
              "#ed7953"
             ],
             [
              0.7777777777777778,
              "#fb9f3a"
             ],
             [
              0.8888888888888888,
              "#fdca26"
             ],
             [
              1,
              "#f0f921"
             ]
            ],
            "type": "contour"
           }
          ],
          "contourcarpet": [
           {
            "colorbar": {
             "outlinewidth": 0,
             "ticks": ""
            },
            "type": "contourcarpet"
           }
          ],
          "heatmap": [
           {
            "colorbar": {
             "outlinewidth": 0,
             "ticks": ""
            },
            "colorscale": [
             [
              0,
              "#0d0887"
             ],
             [
              0.1111111111111111,
              "#46039f"
             ],
             [
              0.2222222222222222,
              "#7201a8"
             ],
             [
              0.3333333333333333,
              "#9c179e"
             ],
             [
              0.4444444444444444,
              "#bd3786"
             ],
             [
              0.5555555555555556,
              "#d8576b"
             ],
             [
              0.6666666666666666,
              "#ed7953"
             ],
             [
              0.7777777777777778,
              "#fb9f3a"
             ],
             [
              0.8888888888888888,
              "#fdca26"
             ],
             [
              1,
              "#f0f921"
             ]
            ],
            "type": "heatmap"
           }
          ],
          "heatmapgl": [
           {
            "colorbar": {
             "outlinewidth": 0,
             "ticks": ""
            },
            "colorscale": [
             [
              0,
              "#0d0887"
             ],
             [
              0.1111111111111111,
              "#46039f"
             ],
             [
              0.2222222222222222,
              "#7201a8"
             ],
             [
              0.3333333333333333,
              "#9c179e"
             ],
             [
              0.4444444444444444,
              "#bd3786"
             ],
             [
              0.5555555555555556,
              "#d8576b"
             ],
             [
              0.6666666666666666,
              "#ed7953"
             ],
             [
              0.7777777777777778,
              "#fb9f3a"
             ],
             [
              0.8888888888888888,
              "#fdca26"
             ],
             [
              1,
              "#f0f921"
             ]
            ],
            "type": "heatmapgl"
           }
          ],
          "histogram": [
           {
            "marker": {
             "pattern": {
              "fillmode": "overlay",
              "size": 10,
              "solidity": 0.2
             }
            },
            "type": "histogram"
           }
          ],
          "histogram2d": [
           {
            "colorbar": {
             "outlinewidth": 0,
             "ticks": ""
            },
            "colorscale": [
             [
              0,
              "#0d0887"
             ],
             [
              0.1111111111111111,
              "#46039f"
             ],
             [
              0.2222222222222222,
              "#7201a8"
             ],
             [
              0.3333333333333333,
              "#9c179e"
             ],
             [
              0.4444444444444444,
              "#bd3786"
             ],
             [
              0.5555555555555556,
              "#d8576b"
             ],
             [
              0.6666666666666666,
              "#ed7953"
             ],
             [
              0.7777777777777778,
              "#fb9f3a"
             ],
             [
              0.8888888888888888,
              "#fdca26"
             ],
             [
              1,
              "#f0f921"
             ]
            ],
            "type": "histogram2d"
           }
          ],
          "histogram2dcontour": [
           {
            "colorbar": {
             "outlinewidth": 0,
             "ticks": ""
            },
            "colorscale": [
             [
              0,
              "#0d0887"
             ],
             [
              0.1111111111111111,
              "#46039f"
             ],
             [
              0.2222222222222222,
              "#7201a8"
             ],
             [
              0.3333333333333333,
              "#9c179e"
             ],
             [
              0.4444444444444444,
              "#bd3786"
             ],
             [
              0.5555555555555556,
              "#d8576b"
             ],
             [
              0.6666666666666666,
              "#ed7953"
             ],
             [
              0.7777777777777778,
              "#fb9f3a"
             ],
             [
              0.8888888888888888,
              "#fdca26"
             ],
             [
              1,
              "#f0f921"
             ]
            ],
            "type": "histogram2dcontour"
           }
          ],
          "mesh3d": [
           {
            "colorbar": {
             "outlinewidth": 0,
             "ticks": ""
            },
            "type": "mesh3d"
           }
          ],
          "parcoords": [
           {
            "line": {
             "colorbar": {
              "outlinewidth": 0,
              "ticks": ""
             }
            },
            "type": "parcoords"
           }
          ],
          "pie": [
           {
            "automargin": true,
            "type": "pie"
           }
          ],
          "scatter": [
           {
            "fillpattern": {
             "fillmode": "overlay",
             "size": 10,
             "solidity": 0.2
            },
            "type": "scatter"
           }
          ],
          "scatter3d": [
           {
            "line": {
             "colorbar": {
              "outlinewidth": 0,
              "ticks": ""
             }
            },
            "marker": {
             "colorbar": {
              "outlinewidth": 0,
              "ticks": ""
             }
            },
            "type": "scatter3d"
           }
          ],
          "scattercarpet": [
           {
            "marker": {
             "colorbar": {
              "outlinewidth": 0,
              "ticks": ""
             }
            },
            "type": "scattercarpet"
           }
          ],
          "scattergeo": [
           {
            "marker": {
             "colorbar": {
              "outlinewidth": 0,
              "ticks": ""
             }
            },
            "type": "scattergeo"
           }
          ],
          "scattergl": [
           {
            "marker": {
             "colorbar": {
              "outlinewidth": 0,
              "ticks": ""
             }
            },
            "type": "scattergl"
           }
          ],
          "scattermapbox": [
           {
            "marker": {
             "colorbar": {
              "outlinewidth": 0,
              "ticks": ""
             }
            },
            "type": "scattermapbox"
           }
          ],
          "scatterpolar": [
           {
            "marker": {
             "colorbar": {
              "outlinewidth": 0,
              "ticks": ""
             }
            },
            "type": "scatterpolar"
           }
          ],
          "scatterpolargl": [
           {
            "marker": {
             "colorbar": {
              "outlinewidth": 0,
              "ticks": ""
             }
            },
            "type": "scatterpolargl"
           }
          ],
          "scatterternary": [
           {
            "marker": {
             "colorbar": {
              "outlinewidth": 0,
              "ticks": ""
             }
            },
            "type": "scatterternary"
           }
          ],
          "surface": [
           {
            "colorbar": {
             "outlinewidth": 0,
             "ticks": ""
            },
            "colorscale": [
             [
              0,
              "#0d0887"
             ],
             [
              0.1111111111111111,
              "#46039f"
             ],
             [
              0.2222222222222222,
              "#7201a8"
             ],
             [
              0.3333333333333333,
              "#9c179e"
             ],
             [
              0.4444444444444444,
              "#bd3786"
             ],
             [
              0.5555555555555556,
              "#d8576b"
             ],
             [
              0.6666666666666666,
              "#ed7953"
             ],
             [
              0.7777777777777778,
              "#fb9f3a"
             ],
             [
              0.8888888888888888,
              "#fdca26"
             ],
             [
              1,
              "#f0f921"
             ]
            ],
            "type": "surface"
           }
          ],
          "table": [
           {
            "cells": {
             "fill": {
              "color": "#EBF0F8"
             },
             "line": {
              "color": "white"
             }
            },
            "header": {
             "fill": {
              "color": "#C8D4E3"
             },
             "line": {
              "color": "white"
             }
            },
            "type": "table"
           }
          ]
         },
         "layout": {
          "annotationdefaults": {
           "arrowcolor": "#2a3f5f",
           "arrowhead": 0,
           "arrowwidth": 1
          },
          "autotypenumbers": "strict",
          "coloraxis": {
           "colorbar": {
            "outlinewidth": 0,
            "ticks": ""
           }
          },
          "colorscale": {
           "diverging": [
            [
             0,
             "#8e0152"
            ],
            [
             0.1,
             "#c51b7d"
            ],
            [
             0.2,
             "#de77ae"
            ],
            [
             0.3,
             "#f1b6da"
            ],
            [
             0.4,
             "#fde0ef"
            ],
            [
             0.5,
             "#f7f7f7"
            ],
            [
             0.6,
             "#e6f5d0"
            ],
            [
             0.7,
             "#b8e186"
            ],
            [
             0.8,
             "#7fbc41"
            ],
            [
             0.9,
             "#4d9221"
            ],
            [
             1,
             "#276419"
            ]
           ],
           "sequential": [
            [
             0,
             "#0d0887"
            ],
            [
             0.1111111111111111,
             "#46039f"
            ],
            [
             0.2222222222222222,
             "#7201a8"
            ],
            [
             0.3333333333333333,
             "#9c179e"
            ],
            [
             0.4444444444444444,
             "#bd3786"
            ],
            [
             0.5555555555555556,
             "#d8576b"
            ],
            [
             0.6666666666666666,
             "#ed7953"
            ],
            [
             0.7777777777777778,
             "#fb9f3a"
            ],
            [
             0.8888888888888888,
             "#fdca26"
            ],
            [
             1,
             "#f0f921"
            ]
           ],
           "sequentialminus": [
            [
             0,
             "#0d0887"
            ],
            [
             0.1111111111111111,
             "#46039f"
            ],
            [
             0.2222222222222222,
             "#7201a8"
            ],
            [
             0.3333333333333333,
             "#9c179e"
            ],
            [
             0.4444444444444444,
             "#bd3786"
            ],
            [
             0.5555555555555556,
             "#d8576b"
            ],
            [
             0.6666666666666666,
             "#ed7953"
            ],
            [
             0.7777777777777778,
             "#fb9f3a"
            ],
            [
             0.8888888888888888,
             "#fdca26"
            ],
            [
             1,
             "#f0f921"
            ]
           ]
          },
          "colorway": [
           "#636efa",
           "#EF553B",
           "#00cc96",
           "#ab63fa",
           "#FFA15A",
           "#19d3f3",
           "#FF6692",
           "#B6E880",
           "#FF97FF",
           "#FECB52"
          ],
          "font": {
           "color": "#2a3f5f"
          },
          "geo": {
           "bgcolor": "white",
           "lakecolor": "white",
           "landcolor": "#E5ECF6",
           "showlakes": true,
           "showland": true,
           "subunitcolor": "white"
          },
          "hoverlabel": {
           "align": "left"
          },
          "hovermode": "closest",
          "mapbox": {
           "style": "light"
          },
          "paper_bgcolor": "white",
          "plot_bgcolor": "#E5ECF6",
          "polar": {
           "angularaxis": {
            "gridcolor": "white",
            "linecolor": "white",
            "ticks": ""
           },
           "bgcolor": "#E5ECF6",
           "radialaxis": {
            "gridcolor": "white",
            "linecolor": "white",
            "ticks": ""
           }
          },
          "scene": {
           "xaxis": {
            "backgroundcolor": "#E5ECF6",
            "gridcolor": "white",
            "gridwidth": 2,
            "linecolor": "white",
            "showbackground": true,
            "ticks": "",
            "zerolinecolor": "white"
           },
           "yaxis": {
            "backgroundcolor": "#E5ECF6",
            "gridcolor": "white",
            "gridwidth": 2,
            "linecolor": "white",
            "showbackground": true,
            "ticks": "",
            "zerolinecolor": "white"
           },
           "zaxis": {
            "backgroundcolor": "#E5ECF6",
            "gridcolor": "white",
            "gridwidth": 2,
            "linecolor": "white",
            "showbackground": true,
            "ticks": "",
            "zerolinecolor": "white"
           }
          },
          "shapedefaults": {
           "line": {
            "color": "#2a3f5f"
           }
          },
          "ternary": {
           "aaxis": {
            "gridcolor": "white",
            "linecolor": "white",
            "ticks": ""
           },
           "baxis": {
            "gridcolor": "white",
            "linecolor": "white",
            "ticks": ""
           },
           "bgcolor": "#E5ECF6",
           "caxis": {
            "gridcolor": "white",
            "linecolor": "white",
            "ticks": ""
           }
          },
          "title": {
           "x": 0.05
          },
          "xaxis": {
           "automargin": true,
           "gridcolor": "white",
           "linecolor": "white",
           "ticks": "",
           "title": {
            "standoff": 15
           },
           "zerolinecolor": "white",
           "zerolinewidth": 2
          },
          "yaxis": {
           "automargin": true,
           "gridcolor": "white",
           "linecolor": "white",
           "ticks": "",
           "title": {
            "standoff": 15
           },
           "zerolinecolor": "white",
           "zerolinewidth": 2
          }
         }
        }
       }
      }
     },
     "metadata": {},
     "output_type": "display_data"
    }
   ],
   "source": [
    "visualization(data_not_st, result)"
   ]
  },
  {
   "cell_type": "code",
   "execution_count": 30,
   "id": "b78dba55",
   "metadata": {},
   "outputs": [
    {
     "name": "stdout",
     "output_type": "stream",
     "text": [
      "[1.         0.         0.06852684 0.06814293 0.06723644]\n",
      "[1.         0.         0.06687856 0.06852684 0.06814293]\n",
      "[1.         0.         0.07363327 0.06687856 0.06852684]\n",
      "[1.         0.         0.07332119 0.07363327 0.06687856]\n",
      "[1.         0.         0.07583703 0.07332119 0.07363327]\n",
      "[1.         1.         0.07943358 0.07583703 0.07332119]\n",
      "   Country  Year  Actual_Tourism  Predicted_Tourism\n",
      "0  Austria  2015        0.066879           0.070670\n",
      "1  Austria  2016        0.073633           0.070979\n",
      "2  Austria  2017        0.073321           0.072220\n",
      "3  Austria  2018        0.075837           0.075236\n",
      "4  Austria  2019        0.079434           0.079998\n",
      "5  Austria  2020        0.053121           0.053121\n",
      "[1.         0.         0.04465761 0.045206   0.03739837]\n",
      "[1.         0.         0.04772282 0.04465761 0.045206  ]\n",
      "[1.         0.         0.0543599  0.04772282 0.04465761]\n",
      "[1.         0.         0.05182654 0.0543599  0.04772282]\n",
      "[1.         0.         0.05771714 0.05182654 0.0543599 ]\n",
      "[1.         1.         0.06281815 0.05771714 0.05182654]\n",
      "   Country  Year  Actual_Tourism  Predicted_Tourism\n",
      "0  Belgium  2015        0.047723           0.047322\n",
      "1  Belgium  2016        0.054360           0.054662\n",
      "2  Belgium  2017        0.051827           0.052086\n",
      "3  Belgium  2018        0.057717           0.057945\n",
      "4  Belgium  2019        0.062818           0.062429\n",
      "5  Belgium  2020        0.042233           0.042233\n",
      "[1.         0.         0.01236264 0.01298683 0.01177357]\n",
      "[1.         0.         0.00983456 0.01236264 0.01298683]\n",
      "[1.         0.         0.0117584  0.00983456 0.01236264]\n",
      "[1.         0.         0.01879013 0.0117584  0.00983456]\n",
      "[1.         0.         0.01734804 0.01879013 0.0117584 ]\n",
      "[1.         1.         0.01677598 0.01734804 0.01879013]\n",
      "    Country  Year  Actual_Tourism  Predicted_Tourism\n",
      "0  Bulgaria  2015        0.009835           0.009426\n",
      "1  Bulgaria  2016        0.011758           0.012352\n",
      "2  Bulgaria  2017        0.018790           0.018424\n",
      "3  Bulgaria  2018        0.017348           0.017609\n",
      "4  Bulgaria  2019        0.016776           0.016696\n",
      "5  Bulgaria  2020        0.008258           0.008258\n",
      "[1.         0.         0.02404742 0.0280786  0.02646201]\n",
      "[1.         0.         0.02025681 0.02404742 0.0280786 ]\n",
      "[1.         0.         0.01304396 0.02025681 0.02404742]\n",
      "[1.         0.         0.01418563 0.01304396 0.02025681]\n",
      "[1.         0.         0.01522765 0.01418563 0.01304396]\n",
      "[1.         1.         0.01824946 0.01522765 0.01418563]\n",
      "   Country  Year  Actual_Tourism  Predicted_Tourism\n",
      "0  Croatia  2015        0.020257           0.018812\n",
      "1  Croatia  2016        0.013044           0.015171\n",
      "2  Croatia  2017        0.014186           0.013814\n",
      "3  Croatia  2018        0.015228           0.014048\n",
      "4  Croatia  2019        0.018249           0.019118\n",
      "5  Croatia  2020        0.010170           0.010170\n",
      "[1.         0.         0.11837175 0.1113948  0.11823584]\n",
      "[1.         0.         0.10805928 0.11837175 0.1113948 ]\n",
      "[1.         0.         0.11900117 0.10805928 0.11837175]\n",
      "[1.         0.         0.12967545 0.11900117 0.10805928]\n",
      "[1.         0.         0.12496431 0.12967545 0.11900117]\n",
      "[1.         1.         0.12614438 0.12496431 0.12967545]\n",
      "   Country  Year  Actual_Tourism  Predicted_Tourism\n",
      "0  Czechia  2015        0.108059           0.120071\n",
      "1  Czechia  2016        0.119001           0.117917\n",
      "2  Czechia  2017        0.129675           0.119848\n",
      "3  Czechia  2018        0.124964           0.125443\n",
      "4  Czechia  2019        0.126144           0.124566\n",
      "5  Czechia  2020        0.089101           0.089101\n",
      "[1.         0.         0.11369123 0.11015067 0.09935357]\n",
      "[1.         0.         0.11333613 0.11369123 0.11015067]\n",
      "[1.         0.         0.10268951 0.11333613 0.11369123]\n",
      "[1.         0.         0.08875803 0.10268951 0.11333613]\n",
      "[1.         0.         0.05681628 0.08875803 0.10268951]\n",
      "[1.         1.         0.09773863 0.05681628 0.08875803]\n",
      "   Country  Year  Actual_Tourism  Predicted_Tourism\n",
      "0  Denmark  2015        0.113336           0.118658\n",
      "1  Denmark  2016        0.102690           0.090480\n",
      "2  Denmark  2017        0.088758           0.093486\n",
      "3  Denmark  2018        0.056816           0.062155\n",
      "4  Denmark  2019        0.097739           0.094560\n",
      "5  Denmark  2020        0.079052           0.079052\n",
      "[1.         0.         0.0112493  0.00806821 0.00831183]\n",
      "[1.         0.         0.01127855 0.0112493  0.00806821]\n",
      "[1.         0.         0.01298844 0.01127855 0.0112493 ]\n",
      "[1.         0.         0.01332266 0.01298844 0.01127855]\n",
      "[1.         0.         0.01975021 0.01332266 0.01298844]\n",
      "[1.         1.         0.01539893 0.01975021 0.01332266]\n",
      "   Country  Year  Actual_Tourism  Predicted_Tourism\n",
      "0  Estonia  2015        0.011279           0.010148\n",
      "1  Estonia  2016        0.012988           0.014061\n",
      "2  Estonia  2017        0.013323           0.015502\n",
      "3  Estonia  2018        0.019750           0.017539\n",
      "4  Estonia  2019        0.015399           0.015489\n",
      "5  Estonia  2020        0.008551           0.008551\n",
      "[1.         0.         0.12152517 0.1263965  0.12771454]\n",
      "[1.         0.         0.12422881 0.12152517 0.1263965 ]\n",
      "[1.         0.         0.1250831  0.12422881 0.12152517]\n",
      "[1.         0.         0.12809499 0.1250831  0.12422881]\n",
      "[1.         0.         0.12465669 0.12809499 0.1250831 ]\n",
      "[1.         1.         0.12461436 0.12465669 0.12809499]\n",
      "   Country  Year  Actual_Tourism  Predicted_Tourism\n",
      "0  Finland  2015        0.124229           0.124174\n",
      "1  Finland  2016        0.125083           0.125125\n",
      "2  Finland  2017        0.128095           0.128081\n",
      "3  Finland  2018        0.124657           0.124614\n",
      "4  Finland  2019        0.124614           0.124684\n",
      "5  Finland  2020        0.091261           0.091261\n",
      "[1.         0.         0.78212807 0.77337181 0.77178319]\n",
      "[1.         0.         0.69540938 0.78212807 0.77337181]\n",
      "[1.         0.         0.68210485 0.69540938 0.78212807]\n",
      "[1.         0.         0.74510847 0.68210485 0.69540938]\n",
      "[1.         0.         0.74488537 0.74510847 0.68210485]\n",
      "[1.         1.         0.7343835  0.74488537 0.74510847]\n",
      "  Country  Year  Actual_Tourism  Predicted_Tourism\n",
      "0  France  2015        0.695409           0.693632\n",
      "1  France  2016        0.682105           0.691247\n",
      "2  France  2017        0.745108           0.736889\n",
      "3  France  2018        0.744885           0.755944\n",
      "4  France  2019        0.734383           0.724180\n",
      "5  France  2020        0.579334           0.579334\n",
      "[1.         0.         0.74897131 0.78716099 0.75877624]\n",
      "[1.         0.         0.7980294  0.74897131 0.78716099]\n",
      "[1.         0.         0.81101116 0.7980294  0.74897131]\n",
      "[1.         0.         0.76840245 0.81101116 0.7980294 ]\n",
      "[1.         0.         0.85747623 0.76840245 0.81101116]\n",
      "[1.         1.         0.83417778 0.85747623 0.76840245]\n",
      "   Country  Year  Actual_Tourism  Predicted_Tourism\n",
      "0  Germany  2015        0.798029           0.798026\n",
      "1  Germany  2016        0.811011           0.811014\n",
      "2  Germany  2017        0.768402           0.768404\n",
      "3  Germany  2018        0.857476           0.857478\n",
      "4  Germany  2019        0.834178           0.834175\n",
      "5  Germany  2020        0.542762           0.542762\n",
      "[1.         0.         0.02146749 0.0183893  0.02453584]\n",
      "[1.         0.         0.01949223 0.02146749 0.0183893 ]\n",
      "[1.         0.         0.01850222 0.01949223 0.02146749]\n",
      "[1.         0.         0.02126047 0.01850222 0.01949223]\n",
      "[1.         0.         0.02278644 0.02126047 0.01850222]\n",
      "[1.         1.         0.02074312 0.02278644 0.02126047]\n",
      "  Country  Year  Actual_Tourism  Predicted_Tourism\n",
      "0  Greece  2015        0.019492           0.019987\n",
      "1  Greece  2016        0.018502           0.019555\n",
      "2  Greece  2017        0.021260           0.020216\n",
      "3  Greece  2018        0.022786           0.023020\n",
      "4  Greece  2019        0.020743           0.020007\n",
      "5  Greece  2020        0.016782           0.016782\n",
      "[1.         0.         0.06175179 0.05697047 0.06554989]\n",
      "[1.         0.         0.06450596 0.06175179 0.05697047]\n",
      "[1.         0.         0.06490736 0.06450596 0.06175179]\n",
      "[1.         0.         0.06690282 0.06490736 0.06450596]\n",
      "[1.         0.         0.06935838 0.06690282 0.06490736]\n",
      "[1.         1.         0.07123042 0.06935838 0.06690282]\n",
      "   Country  Year  Actual_Tourism  Predicted_Tourism\n",
      "0  Hungary  2015        0.064506           0.064534\n",
      "1  Hungary  2016        0.064907           0.064891\n",
      "2  Hungary  2017        0.066903           0.066972\n",
      "3  Hungary  2018        0.069358           0.069179\n",
      "4  Hungary  2019        0.071230           0.071329\n",
      "5  Hungary  2020        0.039989           0.039989\n",
      "[1.         0.         0.04201374 0.04110337 0.04104085]\n",
      "[1.         0.         0.04333762 0.04201374 0.04110337]\n",
      "[1.         0.         0.04594866 0.04333762 0.04201374]\n",
      "[1.         0.         0.04965198 0.04594866 0.04333762]\n",
      "[1.         0.         0.05437271 0.04965198 0.04594866]\n",
      "[1.         1.         0.05843869 0.05437271 0.04965198]\n",
      "   Country  Year  Actual_Tourism  Predicted_Tourism\n",
      "0  Ireland  2015        0.043338           0.043361\n",
      "1  Ireland  2016        0.045949           0.045932\n",
      "2  Ireland  2017        0.049652           0.049618\n",
      "3  Ireland  2018        0.054373           0.054410\n",
      "4  Ireland  2019        0.058439           0.058428\n",
      "5  Ireland  2020        0.031285           0.031285\n",
      "[1.         0.         0.17711163 0.17537581 0.20859171]\n",
      "[1.         0.         0.16567547 0.17711163 0.17537581]\n",
      "[1.         0.         0.1921304  0.16567547 0.17711163]\n",
      "[1.         0.         0.19200168 0.1921304  0.16567547]\n",
      "[1.         0.         0.22450403 0.19200168 0.1921304 ]\n",
      "[1.         1.         0.20624609 0.22450403 0.19200168]\n",
      "  Country  Year  Actual_Tourism  Predicted_Tourism\n",
      "0   Italy  2015        0.165675           0.164650\n",
      "1   Italy  2016        0.192130           0.194121\n",
      "2   Italy  2017        0.192002           0.191516\n",
      "3   Italy  2018        0.224504           0.222881\n",
      "4   Italy  2019        0.206246           0.207390\n",
      "5   Italy  2020        0.117336           0.117336\n",
      "[1.         0.         0.01537263 0.0138913  0.01682927]\n",
      "[1.         0.         0.01386075 0.01537263 0.0138913 ]\n",
      "[1.         0.         0.01423931 0.01386075 0.01537263]\n",
      "[1.         0.         0.01384867 0.01423931 0.01386075]\n",
      "[1.         0.         0.01291162 0.01384867 0.01423931]\n",
      "[1.         1.         0.01293302 0.01291162 0.01384867]\n",
      "  Country  Year  Actual_Tourism  Predicted_Tourism\n",
      "0  Latvia  2015        0.013861           0.014054\n",
      "1  Latvia  2016        0.014239           0.014209\n",
      "2  Latvia  2017        0.013849           0.013434\n",
      "3  Latvia  2018        0.012912           0.013022\n",
      "4  Latvia  2019        0.012933           0.013074\n",
      "5  Latvia  2020        0.005979           0.005979\n",
      "[1.         0.         0.01297851 0.01281407 0.01241295]\n",
      "[1.         0.         0.01319097 0.01297851 0.01281407]\n",
      "[1.         0.         0.0130433  0.01319097 0.01297851]\n",
      "[1.         0.         0.0131604  0.0130433  0.01319097]\n",
      "[1.         0.         0.01422405 0.0131604  0.0130433 ]\n",
      "[1.         1.         0.01510402 0.01422405 0.0131604 ]\n",
      "     Country  Year  Actual_Tourism  Predicted_Tourism\n",
      "0  Lithuania  2015        0.013191           0.012964\n",
      "1  Lithuania  2016        0.013043           0.013576\n",
      "2  Lithuania  2017        0.013160           0.013090\n",
      "3  Lithuania  2018        0.014224           0.014050\n",
      "4  Lithuania  2019        0.015104           0.015042\n",
      "5  Lithuania  2020        0.009743           0.009743\n",
      "[1.         0.         0.00461019 0.0040901  0.00390229]\n",
      "[1.         0.         0.00434652 0.00461019 0.0040901 ]\n",
      "[1.         0.         0.00411727 0.00434652 0.00461019]\n",
      "[1.         0.         0.00626475 0.00411727 0.00434652]\n",
      "[1.         0.         0.00661905 0.00626475 0.00411727]\n",
      "[1.         1.         0.00662889 0.00661905 0.00626475]\n",
      "      Country  Year  Actual_Tourism  Predicted_Tourism\n",
      "0  Luxembourg  2015        0.004347           0.004039\n",
      "1  Luxembourg  2016        0.004117           0.004554\n",
      "2  Luxembourg  2017        0.006265           0.006097\n",
      "3  Luxembourg  2018        0.006619           0.006743\n",
      "4  Luxembourg  2019        0.006629           0.006543\n",
      "5  Luxembourg  2020        0.006413           0.006413\n",
      "[1.00000000e+00 0.00000000e+00 5.95818613e-04 4.89531542e-04\n",
      " 4.12444739e-04]\n",
      "[1.00000000e+00 0.00000000e+00 7.17322162e-04 5.95818613e-04\n",
      " 4.89531542e-04]\n",
      "[1.00000000e+00 0.00000000e+00 1.17134732e-03 7.17322162e-04\n",
      " 5.95818613e-04]\n",
      "[1.00000000e+00 0.00000000e+00 1.36657251e-03 1.17134732e-03\n",
      " 7.17322162e-04]\n",
      "[1.         0.         0.00161133 0.00136657 0.00117135]\n",
      "[1.         1.         0.00173586 0.00161133 0.00136657]\n",
      "  Country  Year  Actual_Tourism  Predicted_Tourism\n",
      "0   Malta  2015        0.000717           0.000878\n",
      "1   Malta  2016        0.001171           0.000987\n",
      "2   Malta  2017        0.001367           0.001366\n",
      "3   Malta  2018        0.001611           0.001621\n",
      "4   Malta  2019        0.001736           0.001751\n",
      "5   Malta  2020        0.000938           0.000938\n",
      "[1.         0.         0.15169402 0.15515331 0.16702977]\n",
      "[1.         0.         0.14830521 0.15169402 0.15515331]\n",
      "[1.         0.         0.15188789 0.14830521 0.15169402]\n",
      "[1.         0.         0.15681121 0.15188789 0.14830521]\n",
      "[1.         0.         0.15477359 0.15681121 0.15188789]\n",
      "[1.         1.         0.16075993 0.15477359 0.15681121]\n",
      "       Country  Year  Actual_Tourism  Predicted_Tourism\n",
      "0  Netherlands  2015        0.148305           0.148481\n",
      "1  Netherlands  2016        0.151888           0.154038\n",
      "2  Netherlands  2017        0.156811           0.153827\n",
      "3  Netherlands  2018        0.154774           0.157637\n",
      "4  Netherlands  2019        0.160760           0.158556\n",
      "5  Netherlands  2020        0.112528           0.112528\n",
      "[1.         0.         0.17604593 0.17901585 0.17145178]\n",
      "[1.         0.         0.18403321 0.17604593 0.17901585]\n",
      "[1.         0.         0.19867366 0.18403321 0.17604593]\n",
      "[1.         0.         0.20867313 0.19867366 0.18403321]\n",
      "[1.         0.         0.21791224 0.20867313 0.19867366]\n",
      "[1.         1.         0.22939982 0.21791224 0.20867313]\n",
      "  Country  Year  Actual_Tourism  Predicted_Tourism\n",
      "0  Poland  2015        0.184033           0.184269\n",
      "1  Poland  2016        0.198674           0.198277\n",
      "2  Poland  2017        0.208673           0.209219\n",
      "3  Poland  2018        0.217912           0.217163\n",
      "4  Poland  2019        0.229400           0.229764\n",
      "5  Poland  2020        0.171869           0.171869\n",
      "[1.         0.         0.0489805  0.05071251 0.04754917]\n",
      "[1.         0.         0.05266342 0.0489805  0.05071251]\n",
      "[1.         0.         0.05343887 0.05266342 0.0489805 ]\n",
      "[1.         0.         0.0597162  0.05343887 0.05266342]\n",
      "[1.         0.         0.06167357 0.0597162  0.05343887]\n",
      "[1.         1.         0.06942342 0.06167357 0.0597162 ]\n",
      "    Country  Year  Actual_Tourism  Predicted_Tourism\n",
      "0  Portugal  2015        0.052663           0.053615\n",
      "1  Portugal  2016        0.053439           0.052908\n",
      "2  Portugal  2017        0.059716           0.058657\n",
      "3  Portugal  2018        0.061674           0.062408\n",
      "4  Portugal  2019        0.069423           0.069328\n",
      "5  Portugal  2020        0.043357           0.043357\n",
      "[1.         0.         0.06287495 0.0641014  0.06118338]\n",
      "[1.         0.         0.05989092 0.06287495 0.0641014 ]\n",
      "[1.         0.         0.06254464 0.05989092 0.06287495]\n",
      "[1.         0.         0.06445569 0.06254464 0.05989092]\n",
      "[1.         0.         0.0665905  0.06445569 0.06254464]\n",
      "[1.         1.         0.07009093 0.0665905  0.06445569]\n",
      "   Country  Year  Actual_Tourism  Predicted_Tourism\n",
      "0  Romania  2015        0.059891           0.062480\n",
      "1  Romania  2016        0.062545           0.061053\n",
      "2  Romania  2017        0.064456           0.065632\n",
      "3  Romania  2018        0.066590           0.064534\n",
      "4  Romania  2019        0.070091           0.069873\n",
      "5  Romania  2020        0.042904           0.042904\n",
      "[1.         0.         0.02151262 0.02055928 0.02145767]\n",
      "[1.         0.         0.02531902 0.02151262 0.02055928]\n",
      "[1.         0.         0.03038533 0.02531902 0.02151262]\n",
      "[1.         0.         0.03421163 0.03038533 0.02531902]\n",
      "[1.         0.         0.03961017 0.03421163 0.03038533]\n",
      "[1.         1.         0.04460578 0.03961017 0.03421163]\n",
      "    Country  Year  Actual_Tourism  Predicted_Tourism\n",
      "0  Slovakia  2015        0.025319           0.025702\n",
      "1  Slovakia  2016        0.030385           0.029570\n",
      "2  Slovakia  2017        0.034212           0.034967\n",
      "3  Slovakia  2018        0.039610           0.039193\n",
      "4  Slovakia  2019        0.044606           0.044699\n",
      "5  Slovakia  2020        0.019206           0.019206\n",
      "[1.         0.         0.0141365  0.01479013 0.01417257]\n",
      "[1.         0.         0.01346811 0.0141365  0.01479013]\n",
      "[1.         0.         0.01417778 0.01346811 0.0141365 ]\n",
      "[1.         0.         0.01506225 0.01417778 0.01346811]\n",
      "[1.         0.         0.01615391 0.01506225 0.01417778]\n",
      "[1.         1.         0.0151264  0.01615391 0.01506225]\n",
      "    Country  Year  Actual_Tourism  Predicted_Tourism\n",
      "0  Slovenia  2015        0.013468           0.013871\n",
      "1  Slovenia  2016        0.014178           0.013737\n",
      "2  Slovenia  2017        0.015062           0.015476\n",
      "3  Slovenia  2018        0.016154           0.015746\n",
      "4  Slovenia  2019        0.015126           0.015159\n",
      "5  Slovenia  2020        0.009315           0.009315\n",
      "[1.         0.         0.45130282 0.46118638 0.47153825]\n",
      "[1.         0.         0.49099008 0.45130282 0.46118638]\n",
      "[1.         0.         0.51890417 0.49099008 0.45130282]\n",
      "[1.         0.         0.54939208 0.51890417 0.49099008]\n",
      "[1.         0.         0.55673546 0.54939208 0.51890417]\n",
      "[1.         1.         0.55312801 0.55673546 0.54939208]\n",
      "  Country  Year  Actual_Tourism  Predicted_Tourism\n",
      "0   Spain  2015        0.490990           0.490786\n",
      "1   Spain  2016        0.518904           0.519202\n",
      "2   Spain  2017        0.549392           0.549587\n",
      "3   Spain  2018        0.556735           0.555995\n",
      "4   Spain  2019        0.553128           0.553580\n",
      "5   Spain  2020        0.295745           0.295745\n"
     ]
    },
    {
     "ename": "LinAlgError",
     "evalue": "Singular matrix",
     "output_type": "error",
     "traceback": [
      "\u001b[0;31m---------------------------------------------------------------------------\u001b[0m",
      "\u001b[0;31mLinAlgError\u001b[0m                               Traceback (most recent call last)",
      "Cell \u001b[0;32mIn[30], line 19\u001b[0m\n\u001b[1;32m     17\u001b[0m subset_data \u001b[38;5;241m=\u001b[39m country_df[country_df[\u001b[38;5;124m'\u001b[39m\u001b[38;5;124mYear\u001b[39m\u001b[38;5;124m'\u001b[39m] \u001b[38;5;241m<\u001b[39m \u001b[38;5;241m2021\u001b[39m]\n\u001b[1;32m     18\u001b[0m \u001b[38;5;66;03m#print(subset_data)\u001b[39;00m\n\u001b[0;32m---> 19\u001b[0m temp_df \u001b[38;5;241m=\u001b[39m get_country_years_pred(subset_data, country, lag\u001b[38;5;241m=\u001b[39m\u001b[38;5;241m3\u001b[39m)\n\u001b[1;32m     21\u001b[0m \u001b[38;5;28mprint\u001b[39m(temp_df)\n",
      "Cell \u001b[0;32mIn[12], line 13\u001b[0m, in \u001b[0;36mget_country_years_pred\u001b[0;34m(data, country, lag)\u001b[0m\n\u001b[1;32m      9\u001b[0m X \u001b[38;5;241m=\u001b[39m country_df[feature_cols]\u001b[38;5;241m.\u001b[39mvalues\n\u001b[1;32m     10\u001b[0m \u001b[38;5;66;03m#print(X)\u001b[39;00m\n\u001b[1;32m     11\u001b[0m \u001b[38;5;66;03m#print(y)\u001b[39;00m\n\u001b[0;32m---> 13\u001b[0m beta_tourism \u001b[38;5;241m=\u001b[39m fit_regression(X, y)\n\u001b[1;32m     14\u001b[0m \u001b[38;5;66;03m#print(beta_tourism)\u001b[39;00m\n\u001b[1;32m     16\u001b[0m predictions \u001b[38;5;241m=\u001b[39m []\n",
      "Cell \u001b[0;32mIn[10], line 4\u001b[0m, in \u001b[0;36mfit_regression\u001b[0;34m(X, y)\u001b[0m\n\u001b[1;32m      2\u001b[0m Xt \u001b[38;5;241m=\u001b[39m X\u001b[38;5;241m.\u001b[39mT\n\u001b[1;32m      3\u001b[0m XtX \u001b[38;5;241m=\u001b[39m np\u001b[38;5;241m.\u001b[39mdot(Xt, X)\n\u001b[0;32m----> 4\u001b[0m XtX_inv \u001b[38;5;241m=\u001b[39m np\u001b[38;5;241m.\u001b[39mlinalg\u001b[38;5;241m.\u001b[39minv(XtX)\n\u001b[1;32m      5\u001b[0m Xt_y \u001b[38;5;241m=\u001b[39m np\u001b[38;5;241m.\u001b[39mdot(Xt, y)\n\u001b[1;32m      6\u001b[0m beta \u001b[38;5;241m=\u001b[39m np\u001b[38;5;241m.\u001b[39mdot(XtX_inv, Xt_y)\n",
      "File \u001b[0;32m~/Desktop/NEU/DS3000/anaconda3/lib/python3.12/site-packages/numpy/linalg/linalg.py:561\u001b[0m, in \u001b[0;36minv\u001b[0;34m(a)\u001b[0m\n\u001b[1;32m    559\u001b[0m signature \u001b[38;5;241m=\u001b[39m \u001b[38;5;124m'\u001b[39m\u001b[38;5;124mD->D\u001b[39m\u001b[38;5;124m'\u001b[39m \u001b[38;5;28;01mif\u001b[39;00m isComplexType(t) \u001b[38;5;28;01melse\u001b[39;00m \u001b[38;5;124m'\u001b[39m\u001b[38;5;124md->d\u001b[39m\u001b[38;5;124m'\u001b[39m\n\u001b[1;32m    560\u001b[0m extobj \u001b[38;5;241m=\u001b[39m get_linalg_error_extobj(_raise_linalgerror_singular)\n\u001b[0;32m--> 561\u001b[0m ainv \u001b[38;5;241m=\u001b[39m _umath_linalg\u001b[38;5;241m.\u001b[39minv(a, signature\u001b[38;5;241m=\u001b[39msignature, extobj\u001b[38;5;241m=\u001b[39mextobj)\n\u001b[1;32m    562\u001b[0m \u001b[38;5;28;01mreturn\u001b[39;00m wrap(ainv\u001b[38;5;241m.\u001b[39mastype(result_t, copy\u001b[38;5;241m=\u001b[39m\u001b[38;5;28;01mFalse\u001b[39;00m))\n",
      "File \u001b[0;32m~/Desktop/NEU/DS3000/anaconda3/lib/python3.12/site-packages/numpy/linalg/linalg.py:112\u001b[0m, in \u001b[0;36m_raise_linalgerror_singular\u001b[0;34m(err, flag)\u001b[0m\n\u001b[1;32m    111\u001b[0m \u001b[38;5;28;01mdef\u001b[39;00m \u001b[38;5;21m_raise_linalgerror_singular\u001b[39m(err, flag):\n\u001b[0;32m--> 112\u001b[0m     \u001b[38;5;28;01mraise\u001b[39;00m LinAlgError(\u001b[38;5;124m\"\u001b[39m\u001b[38;5;124mSingular matrix\u001b[39m\u001b[38;5;124m\"\u001b[39m)\n",
      "\u001b[0;31mLinAlgError\u001b[0m: Singular matrix"
     ]
    }
   ],
   "source": [
    "# create an empty df to store the predictions for all countries (call it pred_df or something)\n",
    "pred_df_all = pd.DataFrame()\n",
    "\n",
    "EU_countries_list = [\n",
    "    'Austria', \"Belgium\", \"Bulgaria\", \"Croatia\", \"Czechia\",\n",
    "    \"Denmark\", \"Estonia\", \"Finland\", \"France\", \"Germany\", \"Greece\", \"Hungary\",\n",
    "    \"Ireland\", \"Italy\", \"Latvia\", \"Lithuania\", \"Luxembourg\", \"Malta\",\n",
    "    \"Netherlands\", \"Poland\", \"Portugal\", \"Romania\", \"Slovakia\", \"Slovenia\",\n",
    "    \"Spain\", \"Sweden\"]\n",
    "for country in EU_countries_list:\n",
    "    country_df = data[data['Country'] == country].copy()\n",
    "# loop through all the countries\n",
    "# countries = country_df['Country'].unique()\n",
    "# print(countries)\n",
    "# for each country\n",
    "# drop the last three years from data (call this subset_data or somethihg)\n",
    "    subset_data = country_df[country_df['Year'] < 2021]\n",
    "    #print(subset_data)\n",
    "    temp_df = get_country_years_pred(subset_data, country, lag=3)\n",
    "\n",
    "    print(temp_df)\n",
    "# concantenate temp_df to the bottom of pred_df\n",
    "    # pred_df_all = pd.concat([pred_df_all, temp_df], ignore_index = True)\n",
    "\n",
    "# when you are done, compare the pred_df predictions to a vector y_true\n",
    "# where y_true are the 2021-2023 y values for the countries"
   ]
  },
  {
   "cell_type": "code",
   "execution_count": 77,
   "id": "79651eeb",
   "metadata": {},
   "outputs": [],
   "source": [
    "def evaluate_predictions(pred_df):\n",
    "    r2_tourism = r2_score(pred_df['Actual_Tourism'], pred_df['Predicted_Tourism'])\n",
    "    mse_tourism = mean_squared_error(pred_df['Actual_Tourism'], pred_df['Predicted_Tourism'])\n",
    "\n",
    "    evaluations = {\n",
    "        'Tourism': {'R2': r2_tourism, 'MSE': mse_tourism}\n",
    "    }\n",
    "\n",
    "    return evaluations"
   ]
  },
  {
   "cell_type": "code",
   "execution_count": null,
   "id": "62cbba82",
   "metadata": {},
   "outputs": [
    {
     "name": "stdout",
     "output_type": "stream",
     "text": [
      "   Year  Actual_Tourism  Predicted_Tourism\n",
      "0  2018        0.075837           0.163713\n",
      "1  2019        0.079434           0.120721\n",
      "2  2020        0.053121           0.082415\n",
      "3  2021        0.072659           0.082217\n",
      "4  2022        0.117416           0.077004\n",
      "Austria\n",
      "{'Tourism': {'R2': -4.475050525939516, 'MSE': 0.00240190635918188}}\n",
      "   Year  Actual_Tourism  Predicted_Tourism\n",
      "0  2018        0.057717          -0.284231\n",
      "1  2019        0.062818           0.061475\n",
      "2  2020        0.042233           0.058874\n",
      "3  2021        0.057486           0.085875\n",
      "4  2022        0.086910           0.080703\n",
      "Belgium\n",
      "{'Tourism': {'R2': -111.53917625184963, 'MSE': 0.023610275858963522}}\n",
      "   Year  Actual_Tourism  Predicted_Tourism\n",
      "0  2018        0.017348           0.044634\n",
      "1  2019        0.016776           0.007642\n",
      "2  2020        0.008258           0.081029\n",
      "3  2021        0.010693           0.006796\n",
      "4  2022        0.016044           0.011294\n",
      "Bulgaria\n",
      "{'Tourism': {'R2': -91.17016584253369, 'MSE': 0.0012322693672946754}}\n",
      "   Year  Actual_Tourism  Predicted_Tourism\n",
      "0  2018        0.015228           0.007301\n",
      "1  2019        0.018249           0.028490\n",
      "2  2020        0.010170           0.019831\n",
      "3  2021        0.013281           0.017555\n",
      "4  2022        0.016306           0.012803\n",
      "Croatia\n",
      "{'Tourism': {'R2': -6.677834776160904, 'MSE': 5.8313756305678724e-05}}\n",
      "   Year  Actual_Tourism  Predicted_Tourism\n",
      "0  2018        0.124964           0.037610\n",
      "1  2019        0.126144          -0.028898\n",
      "2  2020        0.089101           0.123717\n",
      "3  2021        0.101337           0.099428\n",
      "4  2022        0.133328           0.105298\n",
      "Czechia\n",
      "{'Tourism': {'R2': -22.754692566673956, 'MSE': 0.006731252601579715}}\n",
      "   Year  Actual_Tourism  Predicted_Tourism\n",
      "0  2018        0.056816          -0.040936\n",
      "1  2019        0.097739           0.022750\n",
      "2  2020        0.079052          -0.104970\n",
      "3  2021        0.060577           0.248848\n",
      "4  2022        0.070790           0.075307\n",
      "Denmark\n",
      "{'Tourism': {'R2': -77.99945702362912, 'MSE': 0.01690181427605413}}\n",
      "   Year  Actual_Tourism  Predicted_Tourism\n",
      "0  2018        0.019750          -0.001997\n",
      "1  2019        0.015399           0.149873\n",
      "2  2020        0.008551           0.026612\n",
      "3  2021        0.009091           0.022524\n",
      "4  2022        0.013254           0.013133\n",
      "Estonia\n",
      "{'Tourism': {'R2': -220.05979295385467, 'MSE': 0.003812553161021056}}\n",
      "   Year  Actual_Tourism  Predicted_Tourism\n",
      "0  2018        0.124657           0.254684\n",
      "1  2019        0.124614           0.124781\n",
      "2  2020        0.091261           0.123018\n",
      "3  2021        0.112900           0.206613\n",
      "4  2022        0.121848           0.105492\n",
      "Finland\n",
      "{'Tourism': {'R2': -32.68479338998906, 'MSE': 0.005393068330627044}}\n",
      "   Year  Actual_Tourism  Predicted_Tourism\n",
      "0  2018        0.744885          -0.051388\n",
      "1  2019        0.734383           0.697074\n",
      "2  2020        0.579334           0.714607\n",
      "3  2021        0.711278           0.713181\n",
      "4  2022        0.827503           0.800802\n",
      "France\n",
      "{'Tourism': {'R2': -19.296675479263786, 'MSE': 0.13089183110621078}}\n",
      "   Year  Actual_Tourism  Predicted_Tourism\n",
      "0  2018        0.857476          -1.490904\n",
      "1  2019        0.834178           0.834165\n",
      "2  2020        0.542762           0.810178\n",
      "3  2021        0.680586           1.149238\n",
      "4  2022        0.880162           1.402093\n",
      "Germany\n",
      "{'Tourism': {'R2': -72.28978396551659, 'MSE': 1.2156892397722543}}\n",
      "   Year  Actual_Tourism  Predicted_Tourism\n",
      "0  2018        0.022786           0.006017\n",
      "1  2019        0.020743           0.016613\n",
      "2  2020        0.016782           0.016029\n",
      "3  2021        0.018630           0.017861\n",
      "4  2022        0.025678           0.024099\n",
      "Greece\n",
      "{'Tourism': {'R2': -5.223068190982716, 'MSE': 6.0384431184660246e-05}}\n",
      "   Year  Actual_Tourism  Predicted_Tourism\n",
      "0  2018        0.069358           0.362203\n",
      "1  2019        0.071230           0.071715\n",
      "2  2020        0.039989           0.073600\n",
      "3  2021        0.044746           0.141015\n",
      "4  2022        0.066288           0.078062\n",
      "Hungary\n",
      "{'Tourism': {'R2': -109.39221890797467, 'MSE': 0.019258899151785195}}\n",
      "   Year  Actual_Tourism  Predicted_Tourism\n",
      "0  2018        0.054373           0.048779\n",
      "1  2019        0.058439           0.058112\n",
      "2  2020        0.031285           0.058121\n",
      "3  2021        0.025562          -0.289840\n",
      "4  2022        0.076528          -0.512236\n",
      "Ireland\n",
      "{'Tourism': {'R2': -256.02319149110144, 'MSE': 0.08937471629029341}}\n",
      "   Year  Actual_Tourism  Predicted_Tourism\n",
      "0  2018        0.224504           0.142327\n",
      "1  2019        0.206246           0.214279\n",
      "2  2020        0.117336           0.227281\n",
      "3  2021        0.132684           0.049564\n",
      "4  2022        0.180788           0.222962\n",
      "Italy\n",
      "{'Tourism': {'R2': -2.2310107231973086, 'MSE': 0.005518618059058071}}\n"
     ]
    },
    {
     "ename": "LinAlgError",
     "evalue": "Singular matrix",
     "output_type": "error",
     "traceback": [
      "\u001b[0;31m---------------------------------------------------------------------------\u001b[0m",
      "\u001b[0;31mLinAlgError\u001b[0m                               Traceback (most recent call last)",
      "Cell \u001b[0;32mIn[78], line 12\u001b[0m\n\u001b[1;32m      9\u001b[0m country_df \u001b[38;5;241m=\u001b[39m data[data[\u001b[38;5;124m'\u001b[39m\u001b[38;5;124mCountry\u001b[39m\u001b[38;5;124m'\u001b[39m] \u001b[38;5;241m==\u001b[39m country]\u001b[38;5;241m.\u001b[39mcopy()\n\u001b[1;32m     10\u001b[0m \u001b[38;5;66;03m# country_df\u001b[39;00m\n\u001b[0;32m---> 12\u001b[0m pred_df \u001b[38;5;241m=\u001b[39m cross_validate_time_series(country_df, lag\u001b[38;5;241m=\u001b[39m \u001b[38;5;241m3\u001b[39m)\n\u001b[1;32m     13\u001b[0m metrics \u001b[38;5;241m=\u001b[39m evaluate_predictions(pred_df)\n\u001b[1;32m     15\u001b[0m \u001b[38;5;28mprint\u001b[39m(pred_df)\n",
      "Cell \u001b[0;32mIn[76], line 18\u001b[0m, in \u001b[0;36mcross_validate_time_series\u001b[0;34m(country_df, lag)\u001b[0m\n\u001b[1;32m     14\u001b[0m y_train \u001b[38;5;241m=\u001b[39m np\u001b[38;5;241m.\u001b[39marray(y_full[:i])\n\u001b[1;32m     16\u001b[0m X_test \u001b[38;5;241m=\u001b[39m np\u001b[38;5;241m.\u001b[39marray([test_row[col] \u001b[38;5;28;01mfor\u001b[39;00m col \u001b[38;5;129;01min\u001b[39;00m feature_cols])\n\u001b[0;32m---> 18\u001b[0m beta_tourism \u001b[38;5;241m=\u001b[39m fit_regression(X_train, y_train)\n\u001b[1;32m     19\u001b[0m pred_tourism \u001b[38;5;241m=\u001b[39m predict_next_year(beta_tourism, X_test)\n\u001b[1;32m     21\u001b[0m results\u001b[38;5;241m.\u001b[39mappend({\n\u001b[1;32m     22\u001b[0m     \u001b[38;5;124m'\u001b[39m\u001b[38;5;124mYear\u001b[39m\u001b[38;5;124m'\u001b[39m: test_row[\u001b[38;5;124m'\u001b[39m\u001b[38;5;124mYear\u001b[39m\u001b[38;5;124m'\u001b[39m],\n\u001b[1;32m     23\u001b[0m     \u001b[38;5;124m'\u001b[39m\u001b[38;5;124mActual_Tourism\u001b[39m\u001b[38;5;124m'\u001b[39m: y_full[i],\n\u001b[1;32m     24\u001b[0m     \u001b[38;5;124m'\u001b[39m\u001b[38;5;124mPredicted_Tourism\u001b[39m\u001b[38;5;124m'\u001b[39m: pred_tourism\n\u001b[1;32m     25\u001b[0m })\n",
      "Cell \u001b[0;32mIn[8], line 4\u001b[0m, in \u001b[0;36mfit_regression\u001b[0;34m(X, y)\u001b[0m\n\u001b[1;32m      2\u001b[0m Xt \u001b[38;5;241m=\u001b[39m X\u001b[38;5;241m.\u001b[39mT\n\u001b[1;32m      3\u001b[0m XtX \u001b[38;5;241m=\u001b[39m np\u001b[38;5;241m.\u001b[39mdot(Xt, X)\n\u001b[0;32m----> 4\u001b[0m XtX_inv \u001b[38;5;241m=\u001b[39m np\u001b[38;5;241m.\u001b[39mlinalg\u001b[38;5;241m.\u001b[39minv(XtX)\n\u001b[1;32m      5\u001b[0m Xt_y \u001b[38;5;241m=\u001b[39m np\u001b[38;5;241m.\u001b[39mdot(Xt, y)\n\u001b[1;32m      6\u001b[0m beta \u001b[38;5;241m=\u001b[39m np\u001b[38;5;241m.\u001b[39mdot(XtX_inv, Xt_y)\n",
      "File \u001b[0;32m~/Desktop/NEU/DS3000/anaconda3/lib/python3.12/site-packages/numpy/linalg/linalg.py:561\u001b[0m, in \u001b[0;36minv\u001b[0;34m(a)\u001b[0m\n\u001b[1;32m    559\u001b[0m signature \u001b[38;5;241m=\u001b[39m \u001b[38;5;124m'\u001b[39m\u001b[38;5;124mD->D\u001b[39m\u001b[38;5;124m'\u001b[39m \u001b[38;5;28;01mif\u001b[39;00m isComplexType(t) \u001b[38;5;28;01melse\u001b[39;00m \u001b[38;5;124m'\u001b[39m\u001b[38;5;124md->d\u001b[39m\u001b[38;5;124m'\u001b[39m\n\u001b[1;32m    560\u001b[0m extobj \u001b[38;5;241m=\u001b[39m get_linalg_error_extobj(_raise_linalgerror_singular)\n\u001b[0;32m--> 561\u001b[0m ainv \u001b[38;5;241m=\u001b[39m _umath_linalg\u001b[38;5;241m.\u001b[39minv(a, signature\u001b[38;5;241m=\u001b[39msignature, extobj\u001b[38;5;241m=\u001b[39mextobj)\n\u001b[1;32m    562\u001b[0m \u001b[38;5;28;01mreturn\u001b[39;00m wrap(ainv\u001b[38;5;241m.\u001b[39mastype(result_t, copy\u001b[38;5;241m=\u001b[39m\u001b[38;5;28;01mFalse\u001b[39;00m))\n",
      "File \u001b[0;32m~/Desktop/NEU/DS3000/anaconda3/lib/python3.12/site-packages/numpy/linalg/linalg.py:112\u001b[0m, in \u001b[0;36m_raise_linalgerror_singular\u001b[0;34m(err, flag)\u001b[0m\n\u001b[1;32m    111\u001b[0m \u001b[38;5;28;01mdef\u001b[39;00m \u001b[38;5;21m_raise_linalgerror_singular\u001b[39m(err, flag):\n\u001b[0;32m--> 112\u001b[0m     \u001b[38;5;28;01mraise\u001b[39;00m LinAlgError(\u001b[38;5;124m\"\u001b[39m\u001b[38;5;124mSingular matrix\u001b[39m\u001b[38;5;124m\"\u001b[39m)\n",
      "\u001b[0;31mLinAlgError\u001b[0m: Singular matrix"
     ]
    }
   ],
   "source": [
    "\n",
    "\n",
    "for country in EU_countries_list:\n",
    "    country_df = data[data['Country'] == country].copy()\n",
    "    # country_df\n",
    "\n",
    "    pred_df = cross_validate_time_series(country_df, lag= 3)\n",
    "    metrics = evaluate_predictions(pred_df)\n",
    "\n",
    "    print(pred_df)\n",
    "    print(country)\n",
    "    print(metrics)"
   ]
  },
  {
   "cell_type": "code",
   "execution_count": null,
   "id": "a9d43590",
   "metadata": {},
   "outputs": [
    {
     "ename": "TypeError",
     "evalue": "tuple indices must be integers or slices, not list",
     "output_type": "error",
     "traceback": [
      "\u001b[0;31m---------------------------------------------------------------------------\u001b[0m",
      "\u001b[0;31mTypeError\u001b[0m                                 Traceback (most recent call last)",
      "Cell \u001b[0;32mIn[312], line 1\u001b[0m\n\u001b[0;32m----> 1\u001b[0m X \u001b[38;5;241m=\u001b[39m country_df[[\u001b[38;5;124m'\u001b[39m\u001b[38;5;124mBias\u001b[39m\u001b[38;5;124m'\u001b[39m, \u001b[38;5;124m'\u001b[39m\u001b[38;5;124mTourism_lag\u001b[39m\u001b[38;5;124m'\u001b[39m]]\u001b[38;5;241m.\u001b[39mvalues\n\u001b[1;32m      2\u001b[0m y_tourism \u001b[38;5;241m=\u001b[39m country_df[\u001b[38;5;124m'\u001b[39m\u001b[38;5;124mTourism St.\u001b[39m\u001b[38;5;124m'\u001b[39m]\u001b[38;5;241m.\u001b[39mvalues\n\u001b[1;32m      3\u001b[0m y_tourism\n",
      "\u001b[0;31mTypeError\u001b[0m: tuple indices must be integers or slices, not list"
     ]
    }
   ],
   "source": [
    "X = country_df[['Bias', 'Tourism_lag']].values\n",
    "y_tourism = country_df['Tourism St.'].values\n",
    "y_tourism"
   ]
  },
  {
   "cell_type": "code",
   "execution_count": null,
   "id": "8adde764",
   "metadata": {},
   "outputs": [],
   "source": []
  },
  {
   "cell_type": "code",
   "execution_count": null,
   "id": "3f242708",
   "metadata": {},
   "outputs": [],
   "source": []
  }
 ],
 "metadata": {
  "kernelspec": {
   "display_name": "base",
   "language": "python",
   "name": "python3"
  },
  "language_info": {
   "codemirror_mode": {
    "name": "ipython",
    "version": 3
   },
   "file_extension": ".py",
   "mimetype": "text/x-python",
   "name": "python",
   "nbconvert_exporter": "python",
   "pygments_lexer": "ipython3",
   "version": "3.12.7"
  }
 },
 "nbformat": 4,
 "nbformat_minor": 5
}
