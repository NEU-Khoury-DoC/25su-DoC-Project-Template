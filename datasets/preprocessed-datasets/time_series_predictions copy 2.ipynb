{
 "cells": [
  {
   "cell_type": "code",
   "execution_count": 97,
   "id": "ee6ab292",
   "metadata": {
    "ExecuteTime": {
     "end_time": "2025-06-11T23:47:15.046129Z",
     "start_time": "2025-06-11T23:47:15.038280Z"
    }
   },
   "source": [
    "import requests\n",
    "import json\n",
    "import requests\n",
    "import pandas as pd\n",
    "from plotly import graph_objects as go\n",
    "import plotly.graph_objects as go\n",
    "import numpy as np\n",
    "import plotly.express as px\n",
    "from sklearn.metrics import mean_squared_error, r2_score\n",
    "from sklearn.model_selection import train_test_split\n",
    "from sklearn.preprocessing import StandardScaler"
   ],
   "outputs": [],
   "execution_count": 12
  },
  {
   "cell_type": "code",
   "id": "32d16aa9",
   "metadata": {
    "ExecuteTime": {
     "end_time": "2025-06-11T23:47:16.148019Z",
     "start_time": "2025-06-11T23:47:15.056316Z"
    }
   },
   "source": [
    "%run trips_duration.ipynb"
   ],
   "outputs": [
    {
     "name": "stdout",
     "output_type": "stream",
     "text": [
      "object\n"
     ]
    },
    {
     "name": "stderr",
     "output_type": "stream",
     "text": [
      "/var/folders/xy/khjj2sds2x14744_5k1ymnb80000gn/T/ipykernel_39131/1627526132.py:1: SettingWithCopyWarning:\n",
      "\n",
      "\n",
      "A value is trying to be set on a copy of a slice from a DataFrame.\n",
      "Try using .loc[row_indexer,col_indexer] = value instead\n",
      "\n",
      "See the caveats in the documentation: https://pandas.pydata.org/pandas-docs/stable/user_guide/indexing.html#returning-a-view-versus-a-copy\n",
      "\n"
     ]
    },
    {
     "data": {
      "application/vnd.plotly.v1+json": {
       "data": [
        {
         "marker": {
          "color": "crimson"
         },
         "name": "Germany",
         "x": {
          "dtype": "i2",
          "bdata": "3AfdB94H3wfgB+EH4gfjB+QH5QfmB+cH"
         },
         "y": {
          "dtype": "i4",
          "bdata": "zl/QFx4OtBj7uYEXuTsLGflccxmglh0YGxLoGi4wLRpprAsRKzBdFYMKnhvUSV8f"
         },
         "type": "bar"
        },
        {
         "marker": {
          "color": "royalblue"
         },
         "name": "France",
         "x": {
          "dtype": "i2",
          "bdata": "3AfdB94H3wfgB+EH4gfjB+QH5QfmB+cH"
         },
         "y": {
          "dtype": "i4",
          "bdata": "xLQ4GOhyRRhWr4sY5BfUFd5faRXkvWIXxPNgF9K2DBchBzESjGFTFqmm9xmqc6wb"
         },
         "type": "bar"
        },
        {
         "marker": {
          "color": "darkorange"
         },
         "name": "Spain",
         "x": {
          "dtype": "i2",
          "bdata": "3AfdB94H3wfgB+EH4gfjB+QH5QfmB+cH"
         },
         "y": {
          "dtype": "i4",
          "bdata": "Zl7QDnxVfQ4yDi4OiGVsD2RNTBBp2kARmMF7EezRXhE+Sk4JqjdSDWc9bhB4/lUR"
         },
         "type": "bar"
        }
       ],
       "layout": {
        "template": {
         "data": {
          "histogram2dcontour": [
           {
            "type": "histogram2dcontour",
            "colorbar": {
             "outlinewidth": 0,
             "ticks": ""
            },
            "colorscale": [
             [
              0.0,
              "#0d0887"
             ],
             [
              0.1111111111111111,
              "#46039f"
             ],
             [
              0.2222222222222222,
              "#7201a8"
             ],
             [
              0.3333333333333333,
              "#9c179e"
             ],
             [
              0.4444444444444444,
              "#bd3786"
             ],
             [
              0.5555555555555556,
              "#d8576b"
             ],
             [
              0.6666666666666666,
              "#ed7953"
             ],
             [
              0.7777777777777778,
              "#fb9f3a"
             ],
             [
              0.8888888888888888,
              "#fdca26"
             ],
             [
              1.0,
              "#f0f921"
             ]
            ]
           }
          ],
          "choropleth": [
           {
            "type": "choropleth",
            "colorbar": {
             "outlinewidth": 0,
             "ticks": ""
            }
           }
          ],
          "histogram2d": [
           {
            "type": "histogram2d",
            "colorbar": {
             "outlinewidth": 0,
             "ticks": ""
            },
            "colorscale": [
             [
              0.0,
              "#0d0887"
             ],
             [
              0.1111111111111111,
              "#46039f"
             ],
             [
              0.2222222222222222,
              "#7201a8"
             ],
             [
              0.3333333333333333,
              "#9c179e"
             ],
             [
              0.4444444444444444,
              "#bd3786"
             ],
             [
              0.5555555555555556,
              "#d8576b"
             ],
             [
              0.6666666666666666,
              "#ed7953"
             ],
             [
              0.7777777777777778,
              "#fb9f3a"
             ],
             [
              0.8888888888888888,
              "#fdca26"
             ],
             [
              1.0,
              "#f0f921"
             ]
            ]
           }
          ],
          "heatmap": [
           {
            "type": "heatmap",
            "colorbar": {
             "outlinewidth": 0,
             "ticks": ""
            },
            "colorscale": [
             [
              0.0,
              "#0d0887"
             ],
             [
              0.1111111111111111,
              "#46039f"
             ],
             [
              0.2222222222222222,
              "#7201a8"
             ],
             [
              0.3333333333333333,
              "#9c179e"
             ],
             [
              0.4444444444444444,
              "#bd3786"
             ],
             [
              0.5555555555555556,
              "#d8576b"
             ],
             [
              0.6666666666666666,
              "#ed7953"
             ],
             [
              0.7777777777777778,
              "#fb9f3a"
             ],
             [
              0.8888888888888888,
              "#fdca26"
             ],
             [
              1.0,
              "#f0f921"
             ]
            ]
           }
          ],
          "contourcarpet": [
           {
            "type": "contourcarpet",
            "colorbar": {
             "outlinewidth": 0,
             "ticks": ""
            }
           }
          ],
          "contour": [
           {
            "type": "contour",
            "colorbar": {
             "outlinewidth": 0,
             "ticks": ""
            },
            "colorscale": [
             [
              0.0,
              "#0d0887"
             ],
             [
              0.1111111111111111,
              "#46039f"
             ],
             [
              0.2222222222222222,
              "#7201a8"
             ],
             [
              0.3333333333333333,
              "#9c179e"
             ],
             [
              0.4444444444444444,
              "#bd3786"
             ],
             [
              0.5555555555555556,
              "#d8576b"
             ],
             [
              0.6666666666666666,
              "#ed7953"
             ],
             [
              0.7777777777777778,
              "#fb9f3a"
             ],
             [
              0.8888888888888888,
              "#fdca26"
             ],
             [
              1.0,
              "#f0f921"
             ]
            ]
           }
          ],
          "surface": [
           {
            "type": "surface",
            "colorbar": {
             "outlinewidth": 0,
             "ticks": ""
            },
            "colorscale": [
             [
              0.0,
              "#0d0887"
             ],
             [
              0.1111111111111111,
              "#46039f"
             ],
             [
              0.2222222222222222,
              "#7201a8"
             ],
             [
              0.3333333333333333,
              "#9c179e"
             ],
             [
              0.4444444444444444,
              "#bd3786"
             ],
             [
              0.5555555555555556,
              "#d8576b"
             ],
             [
              0.6666666666666666,
              "#ed7953"
             ],
             [
              0.7777777777777778,
              "#fb9f3a"
             ],
             [
              0.8888888888888888,
              "#fdca26"
             ],
             [
              1.0,
              "#f0f921"
             ]
            ]
           }
          ],
          "mesh3d": [
           {
            "type": "mesh3d",
            "colorbar": {
             "outlinewidth": 0,
             "ticks": ""
            }
           }
          ],
          "scatter": [
           {
            "marker": {
             "line": {
              "color": "#283442"
             }
            },
            "type": "scatter"
           }
          ],
          "parcoords": [
           {
            "type": "parcoords",
            "line": {
             "colorbar": {
              "outlinewidth": 0,
              "ticks": ""
             }
            }
           }
          ],
          "scatterpolargl": [
           {
            "type": "scatterpolargl",
            "marker": {
             "colorbar": {
              "outlinewidth": 0,
              "ticks": ""
             }
            }
           }
          ],
          "bar": [
           {
            "error_x": {
             "color": "#f2f5fa"
            },
            "error_y": {
             "color": "#f2f5fa"
            },
            "marker": {
             "line": {
              "color": "rgb(17,17,17)",
              "width": 0.5
             },
             "pattern": {
              "fillmode": "overlay",
              "size": 10,
              "solidity": 0.2
             }
            },
            "type": "bar"
           }
          ],
          "scattergeo": [
           {
            "type": "scattergeo",
            "marker": {
             "colorbar": {
              "outlinewidth": 0,
              "ticks": ""
             }
            }
           }
          ],
          "scatterpolar": [
           {
            "type": "scatterpolar",
            "marker": {
             "colorbar": {
              "outlinewidth": 0,
              "ticks": ""
             }
            }
           }
          ],
          "histogram": [
           {
            "marker": {
             "pattern": {
              "fillmode": "overlay",
              "size": 10,
              "solidity": 0.2
             }
            },
            "type": "histogram"
           }
          ],
          "scattergl": [
           {
            "marker": {
             "line": {
              "color": "#283442"
             }
            },
            "type": "scattergl"
           }
          ],
          "scatter3d": [
           {
            "type": "scatter3d",
            "line": {
             "colorbar": {
              "outlinewidth": 0,
              "ticks": ""
             }
            },
            "marker": {
             "colorbar": {
              "outlinewidth": 0,
              "ticks": ""
             }
            }
           }
          ],
          "scattermap": [
           {
            "type": "scattermap",
            "marker": {
             "colorbar": {
              "outlinewidth": 0,
              "ticks": ""
             }
            }
           }
          ],
          "scattermapbox": [
           {
            "type": "scattermapbox",
            "marker": {
             "colorbar": {
              "outlinewidth": 0,
              "ticks": ""
             }
            }
           }
          ],
          "scatterternary": [
           {
            "type": "scatterternary",
            "marker": {
             "colorbar": {
              "outlinewidth": 0,
              "ticks": ""
             }
            }
           }
          ],
          "scattercarpet": [
           {
            "type": "scattercarpet",
            "marker": {
             "colorbar": {
              "outlinewidth": 0,
              "ticks": ""
             }
            }
           }
          ],
          "carpet": [
           {
            "aaxis": {
             "endlinecolor": "#A2B1C6",
             "gridcolor": "#506784",
             "linecolor": "#506784",
             "minorgridcolor": "#506784",
             "startlinecolor": "#A2B1C6"
            },
            "baxis": {
             "endlinecolor": "#A2B1C6",
             "gridcolor": "#506784",
             "linecolor": "#506784",
             "minorgridcolor": "#506784",
             "startlinecolor": "#A2B1C6"
            },
            "type": "carpet"
           }
          ],
          "table": [
           {
            "cells": {
             "fill": {
              "color": "#506784"
             },
             "line": {
              "color": "rgb(17,17,17)"
             }
            },
            "header": {
             "fill": {
              "color": "#2a3f5f"
             },
             "line": {
              "color": "rgb(17,17,17)"
             }
            },
            "type": "table"
           }
          ],
          "barpolar": [
           {
            "marker": {
             "line": {
              "color": "rgb(17,17,17)",
              "width": 0.5
             },
             "pattern": {
              "fillmode": "overlay",
              "size": 10,
              "solidity": 0.2
             }
            },
            "type": "barpolar"
           }
          ],
          "pie": [
           {
            "automargin": true,
            "type": "pie"
           }
          ]
         },
         "layout": {
          "autotypenumbers": "strict",
          "colorway": [
           "#636efa",
           "#EF553B",
           "#00cc96",
           "#ab63fa",
           "#FFA15A",
           "#19d3f3",
           "#FF6692",
           "#B6E880",
           "#FF97FF",
           "#FECB52"
          ],
          "font": {
           "color": "#f2f5fa"
          },
          "hovermode": "closest",
          "hoverlabel": {
           "align": "left"
          },
          "paper_bgcolor": "rgb(17,17,17)",
          "plot_bgcolor": "rgb(17,17,17)",
          "polar": {
           "bgcolor": "rgb(17,17,17)",
           "angularaxis": {
            "gridcolor": "#506784",
            "linecolor": "#506784",
            "ticks": ""
           },
           "radialaxis": {
            "gridcolor": "#506784",
            "linecolor": "#506784",
            "ticks": ""
           }
          },
          "ternary": {
           "bgcolor": "rgb(17,17,17)",
           "aaxis": {
            "gridcolor": "#506784",
            "linecolor": "#506784",
            "ticks": ""
           },
           "baxis": {
            "gridcolor": "#506784",
            "linecolor": "#506784",
            "ticks": ""
           },
           "caxis": {
            "gridcolor": "#506784",
            "linecolor": "#506784",
            "ticks": ""
           }
          },
          "coloraxis": {
           "colorbar": {
            "outlinewidth": 0,
            "ticks": ""
           }
          },
          "colorscale": {
           "sequential": [
            [
             0.0,
             "#0d0887"
            ],
            [
             0.1111111111111111,
             "#46039f"
            ],
            [
             0.2222222222222222,
             "#7201a8"
            ],
            [
             0.3333333333333333,
             "#9c179e"
            ],
            [
             0.4444444444444444,
             "#bd3786"
            ],
            [
             0.5555555555555556,
             "#d8576b"
            ],
            [
             0.6666666666666666,
             "#ed7953"
            ],
            [
             0.7777777777777778,
             "#fb9f3a"
            ],
            [
             0.8888888888888888,
             "#fdca26"
            ],
            [
             1.0,
             "#f0f921"
            ]
           ],
           "sequentialminus": [
            [
             0.0,
             "#0d0887"
            ],
            [
             0.1111111111111111,
             "#46039f"
            ],
            [
             0.2222222222222222,
             "#7201a8"
            ],
            [
             0.3333333333333333,
             "#9c179e"
            ],
            [
             0.4444444444444444,
             "#bd3786"
            ],
            [
             0.5555555555555556,
             "#d8576b"
            ],
            [
             0.6666666666666666,
             "#ed7953"
            ],
            [
             0.7777777777777778,
             "#fb9f3a"
            ],
            [
             0.8888888888888888,
             "#fdca26"
            ],
            [
             1.0,
             "#f0f921"
            ]
           ],
           "diverging": [
            [
             0,
             "#8e0152"
            ],
            [
             0.1,
             "#c51b7d"
            ],
            [
             0.2,
             "#de77ae"
            ],
            [
             0.3,
             "#f1b6da"
            ],
            [
             0.4,
             "#fde0ef"
            ],
            [
             0.5,
             "#f7f7f7"
            ],
            [
             0.6,
             "#e6f5d0"
            ],
            [
             0.7,
             "#b8e186"
            ],
            [
             0.8,
             "#7fbc41"
            ],
            [
             0.9,
             "#4d9221"
            ],
            [
             1,
             "#276419"
            ]
           ]
          },
          "xaxis": {
           "gridcolor": "#283442",
           "linecolor": "#506784",
           "ticks": "",
           "title": {
            "standoff": 15
           },
           "zerolinecolor": "#283442",
           "automargin": true,
           "zerolinewidth": 2
          },
          "yaxis": {
           "gridcolor": "#283442",
           "linecolor": "#506784",
           "ticks": "",
           "title": {
            "standoff": 15
           },
           "zerolinecolor": "#283442",
           "automargin": true,
           "zerolinewidth": 2
          },
          "scene": {
           "xaxis": {
            "backgroundcolor": "rgb(17,17,17)",
            "gridcolor": "#506784",
            "linecolor": "#506784",
            "showbackground": true,
            "ticks": "",
            "zerolinecolor": "#C8D4E3",
            "gridwidth": 2
           },
           "yaxis": {
            "backgroundcolor": "rgb(17,17,17)",
            "gridcolor": "#506784",
            "linecolor": "#506784",
            "showbackground": true,
            "ticks": "",
            "zerolinecolor": "#C8D4E3",
            "gridwidth": 2
           },
           "zaxis": {
            "backgroundcolor": "rgb(17,17,17)",
            "gridcolor": "#506784",
            "linecolor": "#506784",
            "showbackground": true,
            "ticks": "",
            "zerolinecolor": "#C8D4E3",
            "gridwidth": 2
           }
          },
          "shapedefaults": {
           "line": {
            "color": "#f2f5fa"
           }
          },
          "annotationdefaults": {
           "arrowcolor": "#f2f5fa",
           "arrowhead": 0,
           "arrowwidth": 1
          },
          "geo": {
           "bgcolor": "rgb(17,17,17)",
           "landcolor": "rgb(17,17,17)",
           "subunitcolor": "#506784",
           "showland": true,
           "showlakes": true,
           "lakecolor": "rgb(17,17,17)"
          },
          "title": {
           "x": 0.05
          },
          "updatemenudefaults": {
           "bgcolor": "#506784",
           "borderwidth": 0
          },
          "sliderdefaults": {
           "bgcolor": "#C8D4E3",
           "borderwidth": 1,
           "bordercolor": "rgb(17,17,17)",
           "tickwidth": 0
          },
          "mapbox": {
           "style": "dark"
          }
         }
        },
        "barmode": "group",
        "title": {
         "text": "Number of Trips for Top 3 Most Traveled Countries by Year (1 night or over)"
        },
        "xaxis": {
         "title": {
          "text": "Year"
         }
        },
        "yaxis": {
         "title": {
          "text": "Number of Trips"
         }
        }
       },
       "config": {
        "plotlyServerURL": "https://plot.ly"
       }
      }
     },
     "metadata": {},
     "output_type": "display_data"
    }
   ],
   "execution_count": 13
  },
  {
   "cell_type": "code",
   "id": "3be59464",
   "metadata": {
    "ExecuteTime": {
     "end_time": "2025-06-11T23:47:16.204133Z",
     "start_time": "2025-06-11T23:47:16.198771Z"
    }
   },
   "source": [
    "def merging_data(final_1plus_df):\n",
    "\n",
    "    tourist_num = final_1plus_df\n",
    "    tourist_num_copy = final_1plus_df.copy()\n",
    "\n",
    "    min_trips = tourist_num['NumTrips'].min()\n",
    "    max_trips = tourist_num['NumTrips'].max()\n",
    "\n",
    "    tourist_num['Tourism St.'] = (tourist_num['NumTrips'] - min_trips) / (max_trips - min_trips)\n",
    "\n",
    "    tourist_num = pd.DataFrame(final_1plus_df, columns = ['Country', 'Year', 'Tourism St.'])\n",
    "    tourist_num.sort_values(by = [\"Year\"])\n",
    "\n",
    "    unfiltered_predicted_tourist =pd.DataFrame(tourist_num_copy, columns = [\"Country\", \"Year\", \"NumTrips\"])\n",
    "\n",
    "    return tourist_num, unfiltered_predicted_tourist\n"
   ],
   "outputs": [],
   "execution_count": 14
  },
  {
   "cell_type": "code",
   "id": "f5bdb604",
   "metadata": {
    "ExecuteTime": {
     "end_time": "2025-06-11T23:47:16.227443Z",
     "start_time": "2025-06-11T23:47:16.218281Z"
    }
   },
   "source": [
    "datas = merging_data(final_1plus_df)\n",
    "data = datas[0]\n",
    "data_not_st = datas[1]\n",
    "data"
   ],
   "outputs": [
    {
     "data": {
      "text/plain": [
       "         Country  Year  Tourism St.\n",
       "0        Albania  2017     0.014321\n",
       "1        Albania  2019     0.018106\n",
       "2        Albania  2020     0.011349\n",
       "3        Austria  2012     0.067236\n",
       "4        Austria  2013     0.068143\n",
       "..           ...   ...          ...\n",
       "345  Switzerland  2018     0.076381\n",
       "346  Switzerland  2019     0.069107\n",
       "347  Switzerland  2020     0.059142\n",
       "348  Switzerland  2021     0.061503\n",
       "349  Switzerland  2022     0.086741\n",
       "\n",
       "[350 rows x 3 columns]"
      ],
      "text/html": [
       "<div>\n",
       "<style scoped>\n",
       "    .dataframe tbody tr th:only-of-type {\n",
       "        vertical-align: middle;\n",
       "    }\n",
       "\n",
       "    .dataframe tbody tr th {\n",
       "        vertical-align: top;\n",
       "    }\n",
       "\n",
       "    .dataframe thead th {\n",
       "        text-align: right;\n",
       "    }\n",
       "</style>\n",
       "<table border=\"1\" class=\"dataframe\">\n",
       "  <thead>\n",
       "    <tr style=\"text-align: right;\">\n",
       "      <th></th>\n",
       "      <th>Country</th>\n",
       "      <th>Year</th>\n",
       "      <th>Tourism St.</th>\n",
       "    </tr>\n",
       "  </thead>\n",
       "  <tbody>\n",
       "    <tr>\n",
       "      <th>0</th>\n",
       "      <td>Albania</td>\n",
       "      <td>2017</td>\n",
       "      <td>0.014321</td>\n",
       "    </tr>\n",
       "    <tr>\n",
       "      <th>1</th>\n",
       "      <td>Albania</td>\n",
       "      <td>2019</td>\n",
       "      <td>0.018106</td>\n",
       "    </tr>\n",
       "    <tr>\n",
       "      <th>2</th>\n",
       "      <td>Albania</td>\n",
       "      <td>2020</td>\n",
       "      <td>0.011349</td>\n",
       "    </tr>\n",
       "    <tr>\n",
       "      <th>3</th>\n",
       "      <td>Austria</td>\n",
       "      <td>2012</td>\n",
       "      <td>0.067236</td>\n",
       "    </tr>\n",
       "    <tr>\n",
       "      <th>4</th>\n",
       "      <td>Austria</td>\n",
       "      <td>2013</td>\n",
       "      <td>0.068143</td>\n",
       "    </tr>\n",
       "    <tr>\n",
       "      <th>...</th>\n",
       "      <td>...</td>\n",
       "      <td>...</td>\n",
       "      <td>...</td>\n",
       "    </tr>\n",
       "    <tr>\n",
       "      <th>345</th>\n",
       "      <td>Switzerland</td>\n",
       "      <td>2018</td>\n",
       "      <td>0.076381</td>\n",
       "    </tr>\n",
       "    <tr>\n",
       "      <th>346</th>\n",
       "      <td>Switzerland</td>\n",
       "      <td>2019</td>\n",
       "      <td>0.069107</td>\n",
       "    </tr>\n",
       "    <tr>\n",
       "      <th>347</th>\n",
       "      <td>Switzerland</td>\n",
       "      <td>2020</td>\n",
       "      <td>0.059142</td>\n",
       "    </tr>\n",
       "    <tr>\n",
       "      <th>348</th>\n",
       "      <td>Switzerland</td>\n",
       "      <td>2021</td>\n",
       "      <td>0.061503</td>\n",
       "    </tr>\n",
       "    <tr>\n",
       "      <th>349</th>\n",
       "      <td>Switzerland</td>\n",
       "      <td>2022</td>\n",
       "      <td>0.086741</td>\n",
       "    </tr>\n",
       "  </tbody>\n",
       "</table>\n",
       "<p>350 rows × 3 columns</p>\n",
       "</div>"
      ]
     },
     "execution_count": 100,
     "metadata": {},
     "output_type": "execute_result"
    }
   ],
   "execution_count": 15
  },
  {
   "cell_type": "code",
   "execution_count": 101,
   "id": "1215c7fe",
   "metadata": {
    "ExecuteTime": {
     "end_time": "2025-06-11T23:47:16.276932Z",
     "start_time": "2025-06-11T23:47:16.272964Z"
    }
   },
   "source": [
    "def get_lag_columns(country_df, lag = 3):\n",
    "\n",
    "    country_df = country_df.sort_values('Year').reset_index(drop = True)\n",
    "    country_df['Covid'] = country_df['Year'].apply(lambda x: 1 if x in [2020, 2021] else 0)\n",
    "    country_df['Bias'] = 1\n",
    "    min_year = country_df['Year'].min()\n",
    "    \n",
    "    index_country = country_df.index[country_df['Year'].astype(int) == min_year + 3]\n",
    "    index = index_country[0]\n",
    "\n",
    "    y_vector = []\n",
    "    x_matrix = []\n",
    "    x_list = []\n",
    "    for i in range(index, len(country_df)): \n",
    "        if i - lag < 0:\n",
    "            continue\n",
    "        bias = 1 \n",
    "        country = country_df.iloc[i][\"Country\"]\n",
    "        lag_values = [country_df.iloc[i - j]['Tourism St.'] for j in range(1, lag + 1)]\n",
    "        covid = country_df.iloc[i]['Covid']\n",
    "        year = country_df.iloc[i]['Year']\n",
    "        \n",
    "        x_list = [bias, country, year, covid] + lag_values\n",
    "        x_matrix.append(x_list)\n",
    "        y_vector.append(country_df.iloc[i][\"Tourism St.\"])\n",
    "\n",
    "    x_matrix = pd.DataFrame(x_matrix)\n",
    "    x_matrix.rename(columns={0: \"Bias\", 1: \"Country\", 2:\"Year\", 3:\"Covid\", 4:\"lag1\", 5:\"lag2\", 6:\"lag3\"}, inplace=True)\n",
    "\n",
    "\n",
    "    return x_matrix, y_vector"
   ],
   "outputs": [],
   "execution_count": 16
  },
  {
   "cell_type": "code",
   "execution_count": 102,
   "id": "4659ec54",
   "metadata": {
    "ExecuteTime": {
     "end_time": "2025-06-11T23:47:16.311737Z",
     "start_time": "2025-06-11T23:47:16.307495Z"
    }
   },
   "source": [
    "data[data['Country']=='Albania']"
   ],
   "outputs": [
    {
     "data": {
      "text/plain": [
       "   Country  Year  Tourism St.\n",
       "0  Albania  2017     0.014321\n",
       "1  Albania  2019     0.018106\n",
       "2  Albania  2020     0.011349"
      ],
      "text/html": [
       "<div>\n",
       "<style scoped>\n",
       "    .dataframe tbody tr th:only-of-type {\n",
       "        vertical-align: middle;\n",
       "    }\n",
       "\n",
       "    .dataframe tbody tr th {\n",
       "        vertical-align: top;\n",
       "    }\n",
       "\n",
       "    .dataframe thead th {\n",
       "        text-align: right;\n",
       "    }\n",
       "</style>\n",
       "<table border=\"1\" class=\"dataframe\">\n",
       "  <thead>\n",
       "    <tr style=\"text-align: right;\">\n",
       "      <th></th>\n",
       "      <th>Country</th>\n",
       "      <th>Year</th>\n",
       "      <th>Tourism St.</th>\n",
       "    </tr>\n",
       "  </thead>\n",
       "  <tbody>\n",
       "    <tr>\n",
       "      <th>0</th>\n",
       "      <td>Albania</td>\n",
       "      <td>2017</td>\n",
       "      <td>0.014321</td>\n",
       "    </tr>\n",
       "    <tr>\n",
       "      <th>1</th>\n",
       "      <td>Albania</td>\n",
       "      <td>2019</td>\n",
       "      <td>0.018106</td>\n",
       "    </tr>\n",
       "    <tr>\n",
       "      <th>2</th>\n",
       "      <td>Albania</td>\n",
       "      <td>2020</td>\n",
       "      <td>0.011349</td>\n",
       "    </tr>\n",
       "  </tbody>\n",
       "</table>\n",
       "</div>"
      ]
     },
     "execution_count": 102,
     "metadata": {},
     "output_type": "execute_result"
    }
   ],
   "execution_count": 17
  },
  {
   "cell_type": "code",
   "execution_count": 103,
   "id": "6b77db91",
   "metadata": {
    "ExecuteTime": {
     "end_time": "2025-06-11T23:47:16.370940Z",
     "start_time": "2025-06-11T23:47:16.366754Z"
    }
   },
   "source": [
    "X, y = get_lag_columns(data[data['Country'] == 'Albania'], lag=3)\n",
    "print(X)\n",
    "print(y)"
   ],
   "outputs": [
    {
     "name": "stdout",
     "output_type": "stream",
     "text": [
      "Empty DataFrame\n",
      "Columns: []\n",
      "Index: []\n",
      "[]\n"
     ]
    }
   ],
   "execution_count": 18
  },
  {
   "cell_type": "code",
   "execution_count": 104,
   "id": "ef748c34",
   "metadata": {
    "ExecuteTime": {
     "end_time": "2025-06-11T23:47:16.490252Z",
     "start_time": "2025-06-11T23:47:16.485287Z"
    }
   },
   "source": [
    "def fit_regression(X, y):\n",
    "    Xt = X.T\n",
    "    XtX = np.dot(Xt, X)\n",
    "    XtX_inv = np.linalg.inv(XtX)\n",
    "    Xt_y = np.dot(Xt, y)\n",
    "    beta = np.dot(XtX_inv, Xt_y)\n",
    "\n",
    "    return beta"
   ],
   "outputs": [],
   "execution_count": 19
  },
  {
   "cell_type": "code",
   "execution_count": 105,
   "id": "07728867",
   "metadata": {
    "ExecuteTime": {
     "end_time": "2025-06-11T23:47:16.566772Z",
     "start_time": "2025-06-11T23:47:16.563718Z"
    }
   },
   "source": [
    "def predict_next_year(beta, X):\n",
    "    return np.dot(beta, X)"
   ],
   "outputs": [],
   "execution_count": 20
  },
  {
   "cell_type": "code",
   "execution_count": 106,
   "id": "8a5efc63",
   "metadata": {
    "ExecuteTime": {
     "end_time": "2025-06-11T23:47:16.594540Z",
     "start_time": "2025-06-11T23:47:16.589658Z"
    }
   },
   "source": [
    "def get_country_years_pred(data, country, lag = 3):\n",
    "\n",
    "    country_df = data[data['Country'] == country]\n",
    "    country_df, y = get_lag_columns(country_df, lag = lag)\n",
    "\n",
    "    lag_cols = [f'lag{i}' for i in range(1, lag + 1)]\n",
    "    feature_cols = ['Bias', 'Covid'] + lag_cols\n",
    "    \n",
    "    X = country_df[feature_cols].values\n",
    "\n",
    "    beta_tourism = fit_regression(X, y)\n",
    "\n",
    "    predictions = []\n",
    "    for index, row in country_df.iterrows():\n",
    "        year = row['Year']\n",
    "        X_year = np.array([row[col] for col in feature_cols])\n",
    "        pred_tourism = predict_next_year(beta_tourism, X_year)\n",
    "\n",
    "        predictions.append({\n",
    "            'Country': country,\n",
    "            'Year': year,\n",
    "            'Actual_Tourism': y[index],\n",
    "            'Predicted_Tourism': pred_tourism\n",
    "\n",
    "        })\n",
    "\n",
    "    all_years_results = pd.DataFrame(predictions)\n",
    "\n",
    "    return all_years_results"
   ],
   "outputs": [],
   "execution_count": 21
  },
  {
   "cell_type": "code",
   "execution_count": 107,
   "id": "3ed6a2dc",
   "metadata": {
    "ExecuteTime": {
     "end_time": "2025-06-11T23:47:16.624951Z",
     "start_time": "2025-06-11T23:47:16.612906Z"
    }
   },
   "source": [
    "prev_year_result = get_country_years_pred(data, \"Slovakia\")\n",
    "prev_year_result"
   ],
   "outputs": [
    {
     "data": {
      "text/plain": [
       "    Country  Year  Actual_Tourism  Predicted_Tourism\n",
       "0  Slovakia  2015        0.025319           0.029939\n",
       "1  Slovakia  2016        0.030385           0.031425\n",
       "2  Slovakia  2017        0.034212           0.035546\n",
       "3  Slovakia  2018        0.039610           0.041058\n",
       "4  Slovakia  2019        0.044606           0.047150\n",
       "5  Slovakia  2020        0.019206           0.024017\n",
       "6  Slovakia  2021        0.023941           0.019130\n",
       "7  Slovakia  2022        0.041598           0.040566\n",
       "8  Slovakia  2023        0.048077           0.038123"
      ],
      "text/html": [
       "<div>\n",
       "<style scoped>\n",
       "    .dataframe tbody tr th:only-of-type {\n",
       "        vertical-align: middle;\n",
       "    }\n",
       "\n",
       "    .dataframe tbody tr th {\n",
       "        vertical-align: top;\n",
       "    }\n",
       "\n",
       "    .dataframe thead th {\n",
       "        text-align: right;\n",
       "    }\n",
       "</style>\n",
       "<table border=\"1\" class=\"dataframe\">\n",
       "  <thead>\n",
       "    <tr style=\"text-align: right;\">\n",
       "      <th></th>\n",
       "      <th>Country</th>\n",
       "      <th>Year</th>\n",
       "      <th>Actual_Tourism</th>\n",
       "      <th>Predicted_Tourism</th>\n",
       "    </tr>\n",
       "  </thead>\n",
       "  <tbody>\n",
       "    <tr>\n",
       "      <th>0</th>\n",
       "      <td>Slovakia</td>\n",
       "      <td>2015</td>\n",
       "      <td>0.025319</td>\n",
       "      <td>0.029939</td>\n",
       "    </tr>\n",
       "    <tr>\n",
       "      <th>1</th>\n",
       "      <td>Slovakia</td>\n",
       "      <td>2016</td>\n",
       "      <td>0.030385</td>\n",
       "      <td>0.031425</td>\n",
       "    </tr>\n",
       "    <tr>\n",
       "      <th>2</th>\n",
       "      <td>Slovakia</td>\n",
       "      <td>2017</td>\n",
       "      <td>0.034212</td>\n",
       "      <td>0.035546</td>\n",
       "    </tr>\n",
       "    <tr>\n",
       "      <th>3</th>\n",
       "      <td>Slovakia</td>\n",
       "      <td>2018</td>\n",
       "      <td>0.039610</td>\n",
       "      <td>0.041058</td>\n",
       "    </tr>\n",
       "    <tr>\n",
       "      <th>4</th>\n",
       "      <td>Slovakia</td>\n",
       "      <td>2019</td>\n",
       "      <td>0.044606</td>\n",
       "      <td>0.047150</td>\n",
       "    </tr>\n",
       "    <tr>\n",
       "      <th>5</th>\n",
       "      <td>Slovakia</td>\n",
       "      <td>2020</td>\n",
       "      <td>0.019206</td>\n",
       "      <td>0.024017</td>\n",
       "    </tr>\n",
       "    <tr>\n",
       "      <th>6</th>\n",
       "      <td>Slovakia</td>\n",
       "      <td>2021</td>\n",
       "      <td>0.023941</td>\n",
       "      <td>0.019130</td>\n",
       "    </tr>\n",
       "    <tr>\n",
       "      <th>7</th>\n",
       "      <td>Slovakia</td>\n",
       "      <td>2022</td>\n",
       "      <td>0.041598</td>\n",
       "      <td>0.040566</td>\n",
       "    </tr>\n",
       "    <tr>\n",
       "      <th>8</th>\n",
       "      <td>Slovakia</td>\n",
       "      <td>2023</td>\n",
       "      <td>0.048077</td>\n",
       "      <td>0.038123</td>\n",
       "    </tr>\n",
       "  </tbody>\n",
       "</table>\n",
       "</div>"
      ]
     },
     "execution_count": 107,
     "metadata": {},
     "output_type": "execute_result"
    }
   ],
   "execution_count": 22
  },
  {
   "cell_type": "code",
   "execution_count": 108,
   "id": "cbbb5753",
   "metadata": {
    "ExecuteTime": {
     "end_time": "2025-06-11T23:47:16.679267Z",
     "start_time": "2025-06-11T23:47:16.673799Z"
    }
   },
   "source": [
    "r2_score(prev_year_result['Actual_Tourism'], prev_year_result['Predicted_Tourism'])"
   ],
   "outputs": [
    {
     "data": {
      "text/plain": [
       "0.7782708312971979"
      ]
     },
     "execution_count": 108,
     "metadata": {},
     "output_type": "execute_result"
    }
   ],
   "execution_count": 23
  },
  {
   "cell_type": "code",
   "execution_count": 109,
   "id": "11212d37",
   "metadata": {
    "ExecuteTime": {
     "end_time": "2025-06-11T23:47:16.723287Z",
     "start_time": "2025-06-11T23:47:16.717345Z"
    }
   },
   "source": [
    "def get_country_prediction(data, country, lag= 3):\n",
    "    country_df = data[data['Country'] == country].copy()\n",
    "    country_df, y = get_lag_columns(country_df, lag=lag)\n",
    "\n",
    "    lag_cols = [f'lag{i}' for i in range(1, lag + 1)]\n",
    "    feature_cols = ['Bias', 'Covid'] + lag_cols\n",
    "\n",
    "    X = country_df[feature_cols].values\n",
    "\n",
    "    beta_tourism = fit_regression(X, y)\n",
    "    #print(country, beta_tourism)\n",
    "    last_year = country_df['Year'].max()\n",
    "    #print(last_year)\n",
    "\n",
    "    last_row = country_df[country_df['Year'] == last_year].iloc[0]\n",
    "    lag_values = [last_row[f'lag{i}'] for i in range(1, lag + 1)]\n",
    "\n",
    "    tmp_x = last_row[feature_cols].to_numpy()\n",
    "    x_old = np.hstack([tmp_x[:2], y[-1], tmp_x[2:4]])\n",
    "    \n",
    "    year_list = [last_year + 1]\n",
    "    country_list = [country]\n",
    "    pred_list = [predict_next_year(beta_tourism, x_old)]\n",
    "\n",
    "    for i in range(1, lag):\n",
    "        year = last_year + i + 1\n",
    "        \n",
    "        X_new = np.hstack([x_old[:2], pred_list[i-1], x_old[2:4]])\n",
    "        pred_tourism = predict_next_year(beta_tourism, X_new)\n",
    "\n",
    "        year_list.append(year)\n",
    "        country_list.append(country)\n",
    "        pred_list.append(pred_tourism)\n",
    "\n",
    "        x_old = X_new\n",
    "\n",
    "    predictions = {'Year': year_list,\n",
    "                   'Country': country_list,\n",
    "                   'Predicted_Tourism': pred_list}\n",
    "\n",
    "    return pd.DataFrame(predictions)\n"
   ],
   "outputs": [],
   "execution_count": 24
  },
  {
   "cell_type": "code",
   "id": "190faad9",
   "metadata": {
    "ExecuteTime": {
     "end_time": "2025-06-11T23:47:16.767986Z",
     "start_time": "2025-06-11T23:47:16.752416Z"
    }
   },
   "source": [
    "result = get_country_prediction(data, \"Slovakia\", lag=3)\n",
    "result.sort_values(by=['Year'])\n",
    "result"
   ],
   "outputs": [
    {
     "data": {
      "text/plain": [
       "   Year   Country  Predicted_Tourism\n",
       "0  2024  Slovakia           0.050925\n",
       "1  2025  Slovakia           0.062911\n",
       "2  2026  Slovakia           0.071675"
      ],
      "text/html": [
       "<div>\n",
       "<style scoped>\n",
       "    .dataframe tbody tr th:only-of-type {\n",
       "        vertical-align: middle;\n",
       "    }\n",
       "\n",
       "    .dataframe tbody tr th {\n",
       "        vertical-align: top;\n",
       "    }\n",
       "\n",
       "    .dataframe thead th {\n",
       "        text-align: right;\n",
       "    }\n",
       "</style>\n",
       "<table border=\"1\" class=\"dataframe\">\n",
       "  <thead>\n",
       "    <tr style=\"text-align: right;\">\n",
       "      <th></th>\n",
       "      <th>Country</th>\n",
       "      <th>Year</th>\n",
       "      <th>Tourism St.</th>\n",
       "    </tr>\n",
       "  </thead>\n",
       "  <tbody>\n",
       "    <tr>\n",
       "      <th>0</th>\n",
       "      <td>Albania</td>\n",
       "      <td>2017</td>\n",
       "      <td>0.014321</td>\n",
       "    </tr>\n",
       "    <tr>\n",
       "      <th>1</th>\n",
       "      <td>Albania</td>\n",
       "      <td>2019</td>\n",
       "      <td>0.018106</td>\n",
       "    </tr>\n",
       "    <tr>\n",
       "      <th>2</th>\n",
       "      <td>Albania</td>\n",
       "      <td>2020</td>\n",
       "      <td>0.011349</td>\n",
       "    </tr>\n",
       "    <tr>\n",
       "      <th>3</th>\n",
       "      <td>Austria</td>\n",
       "      <td>2012</td>\n",
       "      <td>0.067236</td>\n",
       "    </tr>\n",
       "    <tr>\n",
       "      <th>4</th>\n",
       "      <td>Austria</td>\n",
       "      <td>2013</td>\n",
       "      <td>0.068143</td>\n",
       "    </tr>\n",
       "    <tr>\n",
       "      <th>...</th>\n",
       "      <td>...</td>\n",
       "      <td>...</td>\n",
       "      <td>...</td>\n",
       "    </tr>\n",
       "    <tr>\n",
       "      <th>345</th>\n",
       "      <td>Switzerland</td>\n",
       "      <td>2018</td>\n",
       "      <td>0.076381</td>\n",
       "    </tr>\n",
       "    <tr>\n",
       "      <th>346</th>\n",
       "      <td>Switzerland</td>\n",
       "      <td>2019</td>\n",
       "      <td>0.069107</td>\n",
       "    </tr>\n",
       "    <tr>\n",
       "      <th>347</th>\n",
       "      <td>Switzerland</td>\n",
       "      <td>2020</td>\n",
       "      <td>0.059142</td>\n",
       "    </tr>\n",
       "    <tr>\n",
       "      <th>348</th>\n",
       "      <td>Switzerland</td>\n",
       "      <td>2021</td>\n",
       "      <td>0.061503</td>\n",
       "    </tr>\n",
       "    <tr>\n",
       "      <th>349</th>\n",
       "      <td>Switzerland</td>\n",
       "      <td>2022</td>\n",
       "      <td>0.086741</td>\n",
       "    </tr>\n",
       "  </tbody>\n",
       "</table>\n",
       "<p>350 rows × 3 columns</p>\n",
       "</div>"
      ]
     },
     "execution_count": 25,
     "metadata": {},
     "output_type": "execute_result"
    }
   ],
   "execution_count": 25
  },
  {
   "cell_type": "code",
   "id": "6717248c",
   "metadata": {
    "ExecuteTime": {
     "end_time": "2025-06-11T23:47:16.819374Z",
     "start_time": "2025-06-11T23:47:16.815131Z"
    }
   },
   "source": [
    "def format(data, st_data):\n",
    "\n",
    "    min_trips = data['NumTrips'].min()\n",
    "    max_trips = data['NumTrips'].max()\n",
    "\n",
    "    print(min_trips, max_trips)\n",
    "\n",
    "    st_data[\"Predicted_Tourism_normal\"] = st_data[\"Predicted_Tourism\"] * (max_trips - min_trips) + min_trips\n",
    "\n",
    "    rows = []\n",
    "    for country in EU_countries_list:\n",
    "        result = get_country_prediction(st_data, country, lag=3)\n",
    "        result.sort_values(by=['Year'])\n",
    "        arr_2024 = result[result[\"Year\"] == 2024][\"Predicted_Tourism\"].values\n",
    "        arr_2025 = result[result[\"Year\"] == 2025][\"Predicted_Tourism\"].values\n",
    "        arr_2026 = result[result[\"Year\"] == 2026][\"Predicted_Tourism\"].values\n",
    "\n",
    "        if arr_2024.size > 0:\n",
    "            pred_2024 = float(arr_2024[0]) * (max_trips - min_trips) + min_trips\n",
    "        else:\n",
    "            pred_2024 = np.nan\n",
    "\n",
    "        if arr_2025.size > 0:\n",
    "            pred_2025 = float(arr_2025[0]) * (max_trips - min_trips) + min_trips\n",
    "        else:\n",
    "            pred_2025 = np.nan\n",
    "\n",
    "        if arr_2026.size > 0:\n",
    "            pred_2026 = float(arr_2026[0]) * (max_trips - min_trips) + min_trips\n",
    "        else:\n",
    "            pred_2026 = 0\n",
    "\n",
    "        rows.append({'Countries': country, \n",
    "                     \n",
    "                    2024: int(pred_2024), \n",
    "                    2025: int(pred_2025), \n",
    "                    2026: int(pred_2026)})\n",
    "\n",
    "\n",
    "    country_name = st_data[\"Country\"].iloc[0]\n",
    "    data = data[data[\"Country\"] == country_name]\n",
    "        \n",
    "    good_format_data = pd.DataFrame(rows)\n",
    "    return good_format_data"
   ]
  },
  {
   "cell_type": "code",
   "execution_count": 157,
   "id": "190faad9",
   "metadata": {},
   "outputs": [
    {
     "data": {
      "text/html": [
       "<div>\n",
       "<style scoped>\n",
       "    .dataframe tbody tr th:only-of-type {\n",
       "        vertical-align: middle;\n",
       "    }\n",
       "\n",
       "    .dataframe tbody tr th {\n",
       "        vertical-align: top;\n",
       "    }\n",
       "\n",
       "    .dataframe thead th {\n",
       "        text-align: right;\n",
       "    }\n",
       "</style>\n",
       "<table border=\"1\" class=\"dataframe\">\n",
       "  <thead>\n",
       "    <tr style=\"text-align: right;\">\n",
       "      <th></th>\n",
       "      <th>Countries</th>\n",
       "      <th>2024</th>\n",
       "      <th>2025</th>\n",
       "      <th>2026</th>\n",
       "    </tr>\n",
       "  </thead>\n",
       "  <tbody>\n",
       "    <tr>\n",
       "      <th>0</th>\n",
       "      <td>Austria</td>\n",
       "      <td>34444302</td>\n",
       "      <td>-2236405</td>\n",
       "      <td>13441776</td>\n",
       "    </tr>\n",
       "    <tr>\n",
       "      <th>1</th>\n",
       "      <td>Belgium</td>\n",
       "      <td>62688551</td>\n",
       "      <td>92031534</td>\n",
       "      <td>122533776</td>\n",
       "    </tr>\n",
       "    <tr>\n",
       "      <th>2</th>\n",
       "      <td>Bulgaria</td>\n",
       "      <td>8851856</td>\n",
       "      <td>7245784</td>\n",
       "      <td>7040642</td>\n",
       "    </tr>\n",
       "    <tr>\n",
       "      <th>3</th>\n",
       "      <td>Croatia</td>\n",
       "      <td>11450306</td>\n",
       "      <td>11633468</td>\n",
       "      <td>9955771</td>\n",
       "    </tr>\n",
       "    <tr>\n",
       "      <th>4</th>\n",
       "      <td>Czechia</td>\n",
       "      <td>63799733</td>\n",
       "      <td>66528207</td>\n",
       "      <td>64343549</td>\n",
       "    </tr>\n",
       "    <tr>\n",
       "      <th>5</th>\n",
       "      <td>Denmark</td>\n",
       "      <td>42325525</td>\n",
       "      <td>44235158</td>\n",
       "      <td>45066051</td>\n",
       "    </tr>\n",
       "    <tr>\n",
       "      <th>6</th>\n",
       "      <td>Estonia</td>\n",
       "      <td>8972365</td>\n",
       "      <td>10627470</td>\n",
       "      <td>10464002</td>\n",
       "    </tr>\n",
       "    <tr>\n",
       "      <th>7</th>\n",
       "      <td>Finland</td>\n",
       "      <td>67748783</td>\n",
       "      <td>63476850</td>\n",
       "      <td>67441248</td>\n",
       "    </tr>\n",
       "    <tr>\n",
       "      <th>8</th>\n",
       "      <td>France</td>\n",
       "      <td>336346337</td>\n",
       "      <td>328110704</td>\n",
       "      <td>365125745</td>\n",
       "    </tr>\n",
       "    <tr>\n",
       "      <th>9</th>\n",
       "      <td>Germany</td>\n",
       "      <td>403537669</td>\n",
       "      <td>370498557</td>\n",
       "      <td>375861130</td>\n",
       "    </tr>\n",
       "    <tr>\n",
       "      <th>10</th>\n",
       "      <td>Greece</td>\n",
       "      <td>7334326</td>\n",
       "      <td>3807024</td>\n",
       "      <td>15008592</td>\n",
       "    </tr>\n",
       "    <tr>\n",
       "      <th>11</th>\n",
       "      <td>Hungary</td>\n",
       "      <td>37849480</td>\n",
       "      <td>36142567</td>\n",
       "      <td>35868240</td>\n",
       "    </tr>\n",
       "    <tr>\n",
       "      <th>12</th>\n",
       "      <td>Ireland</td>\n",
       "      <td>5887582</td>\n",
       "      <td>18538609</td>\n",
       "      <td>79885798</td>\n",
       "    </tr>\n",
       "    <tr>\n",
       "      <th>13</th>\n",
       "      <td>Italy</td>\n",
       "      <td>109897159</td>\n",
       "      <td>99434674</td>\n",
       "      <td>113950544</td>\n",
       "    </tr>\n",
       "    <tr>\n",
       "      <th>14</th>\n",
       "      <td>Latvia</td>\n",
       "      <td>8278581</td>\n",
       "      <td>7325709</td>\n",
       "      <td>7233074</td>\n",
       "    </tr>\n",
       "    <tr>\n",
       "      <th>15</th>\n",
       "      <td>Lithuania</td>\n",
       "      <td>-1502706</td>\n",
       "      <td>-5899836</td>\n",
       "      <td>27719712</td>\n",
       "    </tr>\n",
       "    <tr>\n",
       "      <th>16</th>\n",
       "      <td>Luxembourg</td>\n",
       "      <td>12190800</td>\n",
       "      <td>20709747</td>\n",
       "      <td>25235674</td>\n",
       "    </tr>\n",
       "    <tr>\n",
       "      <th>17</th>\n",
       "      <td>Malta</td>\n",
       "      <td>3198108</td>\n",
       "      <td>4234826</td>\n",
       "      <td>5912254</td>\n",
       "    </tr>\n",
       "    <tr>\n",
       "      <th>18</th>\n",
       "      <td>Netherlands</td>\n",
       "      <td>-599537</td>\n",
       "      <td>38042516</td>\n",
       "      <td>157114161</td>\n",
       "    </tr>\n",
       "    <tr>\n",
       "      <th>19</th>\n",
       "      <td>Poland</td>\n",
       "      <td>156760825</td>\n",
       "      <td>186339899</td>\n",
       "      <td>215407264</td>\n",
       "    </tr>\n",
       "    <tr>\n",
       "      <th>20</th>\n",
       "      <td>Portugal</td>\n",
       "      <td>44243243</td>\n",
       "      <td>53546893</td>\n",
       "      <td>62661414</td>\n",
       "    </tr>\n",
       "    <tr>\n",
       "      <th>21</th>\n",
       "      <td>Romania</td>\n",
       "      <td>22011125</td>\n",
       "      <td>33045950</td>\n",
       "      <td>31333556</td>\n",
       "    </tr>\n",
       "    <tr>\n",
       "      <th>22</th>\n",
       "      <td>Slovakia</td>\n",
       "      <td>27428799</td>\n",
       "      <td>33729205</td>\n",
       "      <td>38336351</td>\n",
       "    </tr>\n",
       "    <tr>\n",
       "      <th>23</th>\n",
       "      <td>Slovenia</td>\n",
       "      <td>-13685542</td>\n",
       "      <td>-39028817</td>\n",
       "      <td>-14859680</td>\n",
       "    </tr>\n",
       "    <tr>\n",
       "      <th>24</th>\n",
       "      <td>Spain</td>\n",
       "      <td>284841401</td>\n",
       "      <td>285684525</td>\n",
       "      <td>281955321</td>\n",
       "    </tr>\n",
       "    <tr>\n",
       "      <th>25</th>\n",
       "      <td>Sweden</td>\n",
       "      <td>161491113</td>\n",
       "      <td>241841736</td>\n",
       "      <td>0</td>\n",
       "    </tr>\n",
       "  </tbody>\n",
       "</table>\n",
       "</div>"
      ],
      "text/plain": [
       "      Countries       2024       2025       2026\n",
       "0       Austria   34444302   -2236405   13441776\n",
       "1       Belgium   62688551   92031534  122533776\n",
       "2      Bulgaria    8851856    7245784    7040642\n",
       "3       Croatia   11450306   11633468    9955771\n",
       "4       Czechia   63799733   66528207   64343549\n",
       "5       Denmark   42325525   44235158   45066051\n",
       "6       Estonia    8972365   10627470   10464002\n",
       "7       Finland   67748783   63476850   67441248\n",
       "8        France  336346337  328110704  365125745\n",
       "9       Germany  403537669  370498557  375861130\n",
       "10       Greece    7334326    3807024   15008592\n",
       "11      Hungary   37849480   36142567   35868240\n",
       "12      Ireland    5887582   18538609   79885798\n",
       "13        Italy  109897159   99434674  113950544\n",
       "14       Latvia    8278581    7325709    7233074\n",
       "15    Lithuania   -1502706   -5899836   27719712\n",
       "16   Luxembourg   12190800   20709747   25235674\n",
       "17        Malta    3198108    4234826    5912254\n",
       "18  Netherlands    -599537   38042516  157114161\n",
       "19       Poland  156760825  186339899  215407264\n",
       "20     Portugal   44243243   53546893   62661414\n",
       "21      Romania   22011125   33045950   31333556\n",
       "22     Slovakia   27428799   33729205   38336351\n",
       "23     Slovenia  -13685542  -39028817  -14859680\n",
       "24        Spain  284841401  285684525  281955321\n",
       "25       Sweden  161491113  241841736          0"
      ]
     },
     "execution_count": 157,
     "metadata": {},
     "output_type": "execute_result"
    }
   ],
   "source": [
    "new_data = format(data_not_st, data)\n",
    "#print(new_data.loc[\"Belgium\", 2024])\n",
    "new_data"
   ]
  },
  {
   "cell_type": "code",
   "execution_count": 113,
   "id": "6717248c",
   "metadata": {},
   "outputs": [],
   "source": [
    "def visualization(data, st_data): \n",
    "    \n",
    "    merged = pd.concat([st_data, data], ignore_index=True)\n",
    "    merged = merged.sort_values(by=\"Year\").reset_index(drop=True)\n",
    "\n",
    "    merged['Tourism_combined'] = merged['NumTrips'].fillna(merged['Predicted_Tourism_normal'])\n",
    "    merged['Tourism_combined'] = merged['NumTrips'].fillna(merged['Predicted_Tourism_normal'])\n",
    "\n",
    "    merged['Tourism_combined'] = merged['NumTrips'].fillna(merged['Predicted_Tourism_normal'])\n",
    "    \n",
    "    fig = go.Figure()\n",
    "\n",
    "    fig.add_trace(go.Scatter(\n",
    "        x=merged['Year'], \n",
    "        y=merged['Tourism_combined'], \n",
    "        name='Tourist Numbers',\n",
    "        line=dict(color='royalblue', width=4),\n",
    "    ))\n",
    "\n",
    "    fig.add_vline(\n",
    "        x=2023,  \n",
    "        line=dict(color='gray', dash='dot'),\n",
    "        annotation_text='Prediction',\n",
    "        annotation_position='top right'\n",
    ")\n",
    "    fig.update_layout(\n",
    "        title = \"Predicted Tourism Over the Years\", \n",
    "        xaxis_title = 'Years',\n",
    "        yaxis_title = 'Tourism Numbers (Millions)')\n",
    "\n",
    "    fig.show()\n"
   ],
   "outputs": [],
   "execution_count": 26
  },
  {
   "cell_type": "code",
   "id": "e3f9be0e",
   "metadata": {
    "ExecuteTime": {
     "end_time": "2025-06-11T23:47:16.894279Z",
     "start_time": "2025-06-11T23:47:16.868169Z"
    }
   },
   "source": [
    "visualization(data_not_st, result)"
   ],
   "outputs": [
    {
     "name": "stdout",
     "output_type": "stream",
     "text": [
      "658396 526338516\n"
     ]
    },
    {
     "data": {
      "application/vnd.plotly.v1+json": {
       "data": [
        {
         "line": {
          "color": "royalblue",
          "width": 4
         },
         "name": "Tourist Numbers",
         "x": {
          "dtype": "i2",
          "bdata": "3AfdB94H3wfgB+EH4gfjB+QH5QfmB+cH6AfpB+oH"
         },
         "y": {
          "dtype": "f8",
          "bdata": "AAAAgDvFZkEAAAAAot5lQQAAAABW02ZBAAAAgFykakEAAADAx7hvQQAAACB1x3FBAAAAQE58dEEAAAAAcf12QQAAACBQg2RBAAAAgL1CaUEAAACAYnt1QQAAACDpunhBH4u/+HsoekHEYxCuVRWAQS+YlP+6R4JB"
         },
         "type": "scatter"
        }
       ],
       "layout": {
        "template": {
         "data": {
          "histogram2dcontour": [
           {
            "type": "histogram2dcontour",
            "colorbar": {
             "outlinewidth": 0,
             "ticks": ""
            },
            "colorscale": [
             [
              0.0,
              "#0d0887"
             ],
             [
              0.1111111111111111,
              "#46039f"
             ],
             [
              0.2222222222222222,
              "#7201a8"
             ],
             [
              0.3333333333333333,
              "#9c179e"
             ],
             [
              0.4444444444444444,
              "#bd3786"
             ],
             [
              0.5555555555555556,
              "#d8576b"
             ],
             [
              0.6666666666666666,
              "#ed7953"
             ],
             [
              0.7777777777777778,
              "#fb9f3a"
             ],
             [
              0.8888888888888888,
              "#fdca26"
             ],
             [
              1.0,
              "#f0f921"
             ]
            ]
           }
          ],
          "choropleth": [
           {
            "type": "choropleth",
            "colorbar": {
             "outlinewidth": 0,
             "ticks": ""
            }
           }
          ],
          "histogram2d": [
           {
            "type": "histogram2d",
            "colorbar": {
             "outlinewidth": 0,
             "ticks": ""
            },
            "colorscale": [
             [
              0.0,
              "#0d0887"
             ],
             [
              0.1111111111111111,
              "#46039f"
             ],
             [
              0.2222222222222222,
              "#7201a8"
             ],
             [
              0.3333333333333333,
              "#9c179e"
             ],
             [
              0.4444444444444444,
              "#bd3786"
             ],
             [
              0.5555555555555556,
              "#d8576b"
             ],
             [
              0.6666666666666666,
              "#ed7953"
             ],
             [
              0.7777777777777778,
              "#fb9f3a"
             ],
             [
              0.8888888888888888,
              "#fdca26"
             ],
             [
              1.0,
              "#f0f921"
             ]
            ]
           }
          ],
          "heatmap": [
           {
            "type": "heatmap",
            "colorbar": {
             "outlinewidth": 0,
             "ticks": ""
            },
            "colorscale": [
             [
              0.0,
              "#0d0887"
             ],
             [
              0.1111111111111111,
              "#46039f"
             ],
             [
              0.2222222222222222,
              "#7201a8"
             ],
             [
              0.3333333333333333,
              "#9c179e"
             ],
             [
              0.4444444444444444,
              "#bd3786"
             ],
             [
              0.5555555555555556,
              "#d8576b"
             ],
             [
              0.6666666666666666,
              "#ed7953"
             ],
             [
              0.7777777777777778,
              "#fb9f3a"
             ],
             [
              0.8888888888888888,
              "#fdca26"
             ],
             [
              1.0,
              "#f0f921"
             ]
            ]
           }
          ],
          "contourcarpet": [
           {
            "type": "contourcarpet",
            "colorbar": {
             "outlinewidth": 0,
             "ticks": ""
            }
           }
          ],
          "contour": [
           {
            "type": "contour",
            "colorbar": {
             "outlinewidth": 0,
             "ticks": ""
            },
            "colorscale": [
             [
              0.0,
              "#0d0887"
             ],
             [
              0.1111111111111111,
              "#46039f"
             ],
             [
              0.2222222222222222,
              "#7201a8"
             ],
             [
              0.3333333333333333,
              "#9c179e"
             ],
             [
              0.4444444444444444,
              "#bd3786"
             ],
             [
              0.5555555555555556,
              "#d8576b"
             ],
             [
              0.6666666666666666,
              "#ed7953"
             ],
             [
              0.7777777777777778,
              "#fb9f3a"
             ],
             [
              0.8888888888888888,
              "#fdca26"
             ],
             [
              1.0,
              "#f0f921"
             ]
            ]
           }
          ],
          "surface": [
           {
            "type": "surface",
            "colorbar": {
             "outlinewidth": 0,
             "ticks": ""
            },
            "colorscale": [
             [
              0.0,
              "#0d0887"
             ],
             [
              0.1111111111111111,
              "#46039f"
             ],
             [
              0.2222222222222222,
              "#7201a8"
             ],
             [
              0.3333333333333333,
              "#9c179e"
             ],
             [
              0.4444444444444444,
              "#bd3786"
             ],
             [
              0.5555555555555556,
              "#d8576b"
             ],
             [
              0.6666666666666666,
              "#ed7953"
             ],
             [
              0.7777777777777778,
              "#fb9f3a"
             ],
             [
              0.8888888888888888,
              "#fdca26"
             ],
             [
              1.0,
              "#f0f921"
             ]
            ]
           }
          ],
          "mesh3d": [
           {
            "type": "mesh3d",
            "colorbar": {
             "outlinewidth": 0,
             "ticks": ""
            }
           }
          ],
          "scatter": [
           {
            "marker": {
             "line": {
              "color": "#283442"
             }
            },
            "type": "scatter"
           }
          ],
          "parcoords": [
           {
            "type": "parcoords",
            "line": {
             "colorbar": {
              "outlinewidth": 0,
              "ticks": ""
             }
            }
           }
          ],
          "scatterpolargl": [
           {
            "type": "scatterpolargl",
            "marker": {
             "colorbar": {
              "outlinewidth": 0,
              "ticks": ""
             }
            }
           }
          ],
          "bar": [
           {
            "error_x": {
             "color": "#f2f5fa"
            },
            "error_y": {
             "color": "#f2f5fa"
            },
            "marker": {
             "line": {
              "color": "rgb(17,17,17)",
              "width": 0.5
             },
             "pattern": {
              "fillmode": "overlay",
              "size": 10,
              "solidity": 0.2
             }
            },
            "type": "bar"
           }
          ],
          "scattergeo": [
           {
            "type": "scattergeo",
            "marker": {
             "colorbar": {
              "outlinewidth": 0,
              "ticks": ""
             }
            }
           }
          ],
          "scatterpolar": [
           {
            "type": "scatterpolar",
            "marker": {
             "colorbar": {
              "outlinewidth": 0,
              "ticks": ""
             }
            }
           }
          ],
          "histogram": [
           {
            "marker": {
             "pattern": {
              "fillmode": "overlay",
              "size": 10,
              "solidity": 0.2
             }
            },
            "type": "histogram"
           }
          ],
          "scattergl": [
           {
            "marker": {
             "line": {
              "color": "#283442"
             }
            },
            "type": "scattergl"
           }
          ],
          "scatter3d": [
           {
            "type": "scatter3d",
            "line": {
             "colorbar": {
              "outlinewidth": 0,
              "ticks": ""
             }
            },
            "marker": {
             "colorbar": {
              "outlinewidth": 0,
              "ticks": ""
             }
            }
           }
          ],
          "scattermap": [
           {
            "type": "scattermap",
            "marker": {
             "colorbar": {
              "outlinewidth": 0,
              "ticks": ""
             }
            }
           }
          ],
          "scattermapbox": [
           {
            "type": "scattermapbox",
            "marker": {
             "colorbar": {
              "outlinewidth": 0,
              "ticks": ""
             }
            }
           }
          ],
          "scatterternary": [
           {
            "type": "scatterternary",
            "marker": {
             "colorbar": {
              "outlinewidth": 0,
              "ticks": ""
             }
            }
           }
          ],
          "scattercarpet": [
           {
            "type": "scattercarpet",
            "marker": {
             "colorbar": {
              "outlinewidth": 0,
              "ticks": ""
             }
            }
           }
          ],
          "carpet": [
           {
            "aaxis": {
             "endlinecolor": "#A2B1C6",
             "gridcolor": "#506784",
             "linecolor": "#506784",
             "minorgridcolor": "#506784",
             "startlinecolor": "#A2B1C6"
            },
            "baxis": {
             "endlinecolor": "#A2B1C6",
             "gridcolor": "#506784",
             "linecolor": "#506784",
             "minorgridcolor": "#506784",
             "startlinecolor": "#A2B1C6"
            },
            "type": "carpet"
           }
          ],
          "table": [
           {
            "cells": {
             "fill": {
              "color": "#506784"
             },
             "line": {
              "color": "rgb(17,17,17)"
             }
            },
            "header": {
             "fill": {
              "color": "#2a3f5f"
             },
             "line": {
              "color": "rgb(17,17,17)"
             }
            },
            "type": "table"
           }
          ],
          "barpolar": [
           {
            "marker": {
             "line": {
              "color": "rgb(17,17,17)",
              "width": 0.5
             },
             "pattern": {
              "fillmode": "overlay",
              "size": 10,
              "solidity": 0.2
             }
            },
            "type": "barpolar"
           }
          ],
          "pie": [
           {
            "automargin": true,
            "type": "pie"
           }
          ]
         },
         "layout": {
          "autotypenumbers": "strict",
          "colorway": [
           "#636efa",
           "#EF553B",
           "#00cc96",
           "#ab63fa",
           "#FFA15A",
           "#19d3f3",
           "#FF6692",
           "#B6E880",
           "#FF97FF",
           "#FECB52"
          ],
          "font": {
           "color": "#f2f5fa"
          },
          "hovermode": "closest",
          "hoverlabel": {
           "align": "left"
          },
          "paper_bgcolor": "rgb(17,17,17)",
          "plot_bgcolor": "rgb(17,17,17)",
          "polar": {
           "bgcolor": "rgb(17,17,17)",
           "angularaxis": {
            "gridcolor": "#506784",
            "linecolor": "#506784",
            "ticks": ""
           },
           "radialaxis": {
            "gridcolor": "#506784",
            "linecolor": "#506784",
            "ticks": ""
           }
          },
          "ternary": {
           "bgcolor": "rgb(17,17,17)",
           "aaxis": {
            "gridcolor": "#506784",
            "linecolor": "#506784",
            "ticks": ""
           },
           "baxis": {
            "gridcolor": "#506784",
            "linecolor": "#506784",
            "ticks": ""
           },
           "caxis": {
            "gridcolor": "#506784",
            "linecolor": "#506784",
            "ticks": ""
           }
          },
          "coloraxis": {
           "colorbar": {
            "outlinewidth": 0,
            "ticks": ""
           }
          },
          "colorscale": {
           "sequential": [
            [
             0.0,
             "#0d0887"
            ],
            [
             0.1111111111111111,
             "#46039f"
            ],
            [
             0.2222222222222222,
             "#7201a8"
            ],
            [
             0.3333333333333333,
             "#9c179e"
            ],
            [
             0.4444444444444444,
             "#bd3786"
            ],
            [
             0.5555555555555556,
             "#d8576b"
            ],
            [
             0.6666666666666666,
             "#ed7953"
            ],
            [
             0.7777777777777778,
             "#fb9f3a"
            ],
            [
             0.8888888888888888,
             "#fdca26"
            ],
            [
             1.0,
             "#f0f921"
            ]
           ],
           "sequentialminus": [
            [
             0.0,
             "#0d0887"
            ],
            [
             0.1111111111111111,
             "#46039f"
            ],
            [
             0.2222222222222222,
             "#7201a8"
            ],
            [
             0.3333333333333333,
             "#9c179e"
            ],
            [
             0.4444444444444444,
             "#bd3786"
            ],
            [
             0.5555555555555556,
             "#d8576b"
            ],
            [
             0.6666666666666666,
             "#ed7953"
            ],
            [
             0.7777777777777778,
             "#fb9f3a"
            ],
            [
             0.8888888888888888,
             "#fdca26"
            ],
            [
             1.0,
             "#f0f921"
            ]
           ],
           "diverging": [
            [
             0,
             "#8e0152"
            ],
            [
             0.1,
             "#c51b7d"
            ],
            [
             0.2,
             "#de77ae"
            ],
            [
             0.3,
             "#f1b6da"
            ],
            [
             0.4,
             "#fde0ef"
            ],
            [
             0.5,
             "#f7f7f7"
            ],
            [
             0.6,
             "#e6f5d0"
            ],
            [
             0.7,
             "#b8e186"
            ],
            [
             0.8,
             "#7fbc41"
            ],
            [
             0.9,
             "#4d9221"
            ],
            [
             1,
             "#276419"
            ]
           ]
          },
          "xaxis": {
           "gridcolor": "#283442",
           "linecolor": "#506784",
           "ticks": "",
           "title": {
            "standoff": 15
           },
           "zerolinecolor": "#283442",
           "automargin": true,
           "zerolinewidth": 2
          },
          "yaxis": {
           "gridcolor": "#283442",
           "linecolor": "#506784",
           "ticks": "",
           "title": {
            "standoff": 15
           },
           "zerolinecolor": "#283442",
           "automargin": true,
           "zerolinewidth": 2
          },
          "scene": {
           "xaxis": {
            "backgroundcolor": "rgb(17,17,17)",
            "gridcolor": "#506784",
            "linecolor": "#506784",
            "showbackground": true,
            "ticks": "",
            "zerolinecolor": "#C8D4E3",
            "gridwidth": 2
           },
           "yaxis": {
            "backgroundcolor": "rgb(17,17,17)",
            "gridcolor": "#506784",
            "linecolor": "#506784",
            "showbackground": true,
            "ticks": "",
            "zerolinecolor": "#C8D4E3",
            "gridwidth": 2
           },
           "zaxis": {
            "backgroundcolor": "rgb(17,17,17)",
            "gridcolor": "#506784",
            "linecolor": "#506784",
            "showbackground": true,
            "ticks": "",
            "zerolinecolor": "#C8D4E3",
            "gridwidth": 2
           }
          },
          "shapedefaults": {
           "line": {
            "color": "#f2f5fa"
           }
          },
          "annotationdefaults": {
           "arrowcolor": "#f2f5fa",
           "arrowhead": 0,
           "arrowwidth": 1
          },
          "geo": {
           "bgcolor": "rgb(17,17,17)",
           "landcolor": "rgb(17,17,17)",
           "subunitcolor": "#506784",
           "showland": true,
           "showlakes": true,
           "lakecolor": "rgb(17,17,17)"
          },
          "title": {
           "x": 0.05
          },
          "updatemenudefaults": {
           "bgcolor": "#506784",
           "borderwidth": 0
          },
          "sliderdefaults": {
           "bgcolor": "#C8D4E3",
           "borderwidth": 1,
           "bordercolor": "rgb(17,17,17)",
           "tickwidth": 0
          },
          "mapbox": {
           "style": "dark"
          }
         }
        },
        "shapes": [
         {
          "line": {
           "color": "gray",
           "dash": "dot"
          },
          "type": "line",
          "x0": 2023,
          "x1": 2023,
          "xref": "x",
          "y0": 0,
          "y1": 1,
          "yref": "y domain"
         }
        ],
        "annotations": [
         {
          "showarrow": false,
          "text": "Prediction",
          "x": 2023,
          "xanchor": "left",
          "xref": "x",
          "y": 1,
          "yanchor": "top",
          "yref": "y domain"
         }
        ],
        "title": {
         "text": "Predicted Tourism Over the Years"
        },
        "xaxis": {
         "title": {
          "text": "Years"
         }
        },
        "yaxis": {
         "title": {
          "text": "Tourism Numbers (Millions)"
         }
        }
       },
       "config": {
        "plotlyServerURL": "https://plot.ly"
       }
      }
     },
     "metadata": {},
     "output_type": "display_data"
    }
   ],
   "execution_count": 27
  },
  {
   "cell_type": "code",
   "id": "172a2a63",
   "metadata": {
    "ExecuteTime": {
     "end_time": "2025-06-11T23:47:17.034357Z",
     "start_time": "2025-06-11T23:47:16.929584Z"
    }
   },
   "source": [
    "pred_df_all = []\n",
    "y_all = []\n",
    "EU_countries_list = [\n",
    "    'Austria', \"Belgium\", \"Bulgaria\", \"Croatia\", \"Czechia\",\n",
    "    \"Denmark\", \"Estonia\", \"Finland\", \"France\", \"Germany\", \"Greece\", \"Hungary\",\n",
    "    \"Ireland\", \"Italy\", \"Latvia\", \"Lithuania\", \"Luxembourg\", \"Malta\",\n",
    "    \"Netherlands\", \"Poland\", \"Portugal\", \"Romania\", \"Slovakia\", \"Slovenia\",\n",
    "    \"Spain\", \"Sweden\"]\n",
    "#EU_countries_list = ['Slovakia']\n",
    "\n",
    "# loop through all the countries\n",
    "for country in EU_countries_list:\n",
    "    country_df = data[data['Country'] == country].copy()\n",
    "# for each country\n",
    "# drop the last three years from data (call this subset_data or somethihg)\n",
    "    max_year = country_df[\"Year\"].max()\n",
    "    if max_year < 2023:\n",
    "        subset_data = country_df[country_df['Year'] < max_year - 1]\n",
    "    else:\n",
    "        subset_data = country_df[country_df['Year'] < max_year - 2]\n",
    "    \n",
    "    temp_df = get_country_prediction(subset_data, country, lag=3)\n",
    "    #print(temp_df)\n",
    "\n",
    "# concantenate temp_df to the bottom of pred_df\n",
    "    pred_df_all.append(temp_df)\n",
    "\n",
    "    #pred_df_all\n",
    "# when you are done, compare the pred_df predictions to a vector y_true\n",
    "# where y_true are the 2021-2023 y values for the countries\n",
    "    if max_year < 2023:\n",
    "        y_true = country_df[country_df['Year'] > max_year - 2]\n",
    "    else:\n",
    "        y_true = country_df[country_df['Year'] > max_year - 3]\n",
    "    #print(y_true)\n",
    "    y_all.append(y_true)\n",
    "\n",
    "pred_df_true = pd.concat(pred_df_all, ignore_index=True)\n",
    "y_fin = pd.concat(y_all, ignore_index=True)\n",
    "\n",
    "results = pd.merge(pred_df_true, y_fin, on = ['Country', 'Year'])\n",
    "\n",
    "results\n",
    "\n",
    "results[results[\"Country\"] == \"Spain\"]\n"
   ],
   "outputs": [
    {
     "name": "stdout",
     "output_type": "stream",
     "text": [
      "[-0.03329717 -0.02929385  0.29775555  0.61220849  0.62236461]\n",
      "[ 0.01363554 -0.01664032 -0.39697592  0.21805295  1.11120957]\n",
      "[-0.11827739 -0.07277116  3.65202423 -1.86078178  9.06437399]\n",
      "[ 0.01688408 -0.00966065  0.34600248  0.33739853 -0.59957422]\n",
      "[ 0.07332125 -0.03461509  0.33514898  0.12755409 -0.06031678]\n",
      "[ 0.16855896  0.18402157 -1.98192914  5.68769512 -4.54011131]\n",
      "[ 3.20656132e-05 -1.80601041e-02 -5.87601924e-01  1.29334941e+00\n",
      "  7.56907764e-01]\n",
      "[ 0.29694162 -0.03175755 -0.38949606 -0.19884055 -0.78535175]\n",
      "[ 1.2553434  -0.13527218 -0.02970345 -0.53780134 -0.15879933]\n",
      "[-0.34927066 -0.26741601 -0.30802425  0.34670249  1.45640702]\n",
      "[ 5.90115612e-02  7.53269768e-04  7.35861513e-02 -1.36097142e+00\n",
      " -6.34864694e-01]\n",
      "[-0.00608481 -0.03361037  0.68855898  0.17475644  0.2767794 ]\n",
      "[ 0.04836911 -0.02683676  2.38565235 -0.50444215 -2.05901438]\n",
      "[ 0.17354053 -0.10994504  0.2995314   0.7764922  -0.94979363]\n",
      "[-0.00654474 -0.00588795 -0.24664316  1.03419151  0.59563407]\n",
      "[ 0.00521259 -0.00397012  1.4826638  -2.67838146  1.83915546]\n",
      "[-0.01303521 -0.00740789  0.72923724  0.14512033  3.36190685]\n",
      "[ 3.63478983e-04 -9.30224347e-04  8.26835124e-01  2.80653400e-01\n",
      " -2.80427489e-01]\n",
      "[ 0.17187499 -0.04124037 -0.08778055  0.59989111 -0.61757572]\n",
      "[-0.00872464 -0.07108558  1.1102676  -0.48295883  0.48989068]\n",
      "[ 0.00229895 -0.02985186  1.04494146  0.89397646 -0.95063432]\n",
      "[-0.07387049 -0.03372061  1.66326636 -0.47181443  1.01362426]\n",
      "[ 0.00307115 -0.03089779  0.96831534  0.14210058 -0.05227146]\n",
      "[ 0.02835383 -0.00321804  0.79827625 -1.17292507 -0.59412559]\n",
      "[ 0.33196166 -0.24262383  0.64230559  0.19670964 -0.47031093]\n",
      "[ 0.     0.125 -0.5   -0.125  0.   ]\n"
     ]
    },
    {
     "data": {
      "text/plain": [
       "    Year Country  Predicted_Tourism  Tourism St.\n",
       "72  2021   Spain           0.126263     0.423896\n",
       "73  2022   Spain          -0.031529     0.523135\n",
       "74  2023   Spain          -0.045168     0.552028"
      ],
      "text/html": [
       "<div>\n",
       "<style scoped>\n",
       "    .dataframe tbody tr th:only-of-type {\n",
       "        vertical-align: middle;\n",
       "    }\n",
       "\n",
       "    .dataframe tbody tr th {\n",
       "        vertical-align: top;\n",
       "    }\n",
       "\n",
       "    .dataframe thead th {\n",
       "        text-align: right;\n",
       "    }\n",
       "</style>\n",
       "<table border=\"1\" class=\"dataframe\">\n",
       "  <thead>\n",
       "    <tr style=\"text-align: right;\">\n",
       "      <th></th>\n",
       "      <th>Year</th>\n",
       "      <th>Country</th>\n",
       "      <th>Predicted_Tourism</th>\n",
       "      <th>Tourism St.</th>\n",
       "    </tr>\n",
       "  </thead>\n",
       "  <tbody>\n",
       "    <tr>\n",
       "      <th>72</th>\n",
       "      <td>2021</td>\n",
       "      <td>Spain</td>\n",
       "      <td>0.126263</td>\n",
       "      <td>0.423896</td>\n",
       "    </tr>\n",
       "    <tr>\n",
       "      <th>73</th>\n",
       "      <td>2022</td>\n",
       "      <td>Spain</td>\n",
       "      <td>-0.031529</td>\n",
       "      <td>0.523135</td>\n",
       "    </tr>\n",
       "    <tr>\n",
       "      <th>74</th>\n",
       "      <td>2023</td>\n",
       "      <td>Spain</td>\n",
       "      <td>-0.045168</td>\n",
       "      <td>0.552028</td>\n",
       "    </tr>\n",
       "  </tbody>\n",
       "</table>\n",
       "</div>"
      ]
     },
     "execution_count": 28,
     "metadata": {},
     "output_type": "execute_result"
    }
   ],
   "execution_count": 28
  },
  {
   "cell_type": "code",
   "execution_count": null,
   "id": "79651eeb",
   "metadata": {
    "ExecuteTime": {
     "end_time": "2025-06-11T23:47:17.173096Z",
     "start_time": "2025-06-11T23:47:17.170393Z"
    }
   },
   "source": [
    "def evaluate_predictions(pred_df):\n",
    "    r2_tourism = np.corrcoef(pred_df['Tourism St.'], pred_df['Predicted_Tourism'])[0,1]**2\n",
    "    mse_tourism = mean_squared_error(pred_df['Tourism St.'], pred_df['Predicted_Tourism'])\n",
    "\n",
    "    evaluations = {\n",
    "        'Tourism': {'R2': r2_tourism, 'MSE': mse_tourism}\n",
    "    }\n",
    "\n",
    "    return evaluations"
   ],
   "outputs": [],
   "execution_count": 29
  },
  {
   "cell_type": "code",
   "id": "a9d43590",
   "metadata": {
    "ExecuteTime": {
     "end_time": "2025-06-11T23:47:17.221795Z",
     "start_time": "2025-06-11T23:47:17.209859Z"
    }
   },
   "source": [
    "evaluate_predictions(results)"
   ],
   "outputs": [
    {
     "data": {
      "text/plain": [
       "{'Tourism': {'R2': np.float64(0.06359236146683635), 'MSE': 0.2515251453378957}}"
      ]
     },
     "execution_count": 30,
     "metadata": {},
     "output_type": "execute_result"
    }
   ],
   "execution_count": 30
  },
  {
   "cell_type": "code",
   "id": "8adde764",
   "metadata": {
    "ExecuteTime": {
     "end_time": "2025-06-11T23:47:17.244584Z",
     "start_time": "2025-06-11T23:47:17.240948Z"
    }
   },
   "source": [],
   "outputs": [],
   "execution_count": null
  },
  {
   "cell_type": "code",
   "id": "3f242708",
   "metadata": {
    "ExecuteTime": {
     "end_time": "2025-06-11T23:47:17.280679Z",
     "start_time": "2025-06-11T23:47:17.276758Z"
    }
   },
   "source": [],
   "outputs": [],
   "execution_count": null
  }
 ],
 "metadata": {
  "kernelspec": {
   "display_name": "base",
   "language": "python",
   "name": "python3"
  },
  "language_info": {
   "codemirror_mode": {
    "name": "ipython",
    "version": 3
   },
   "file_extension": ".py",
   "mimetype": "text/x-python",
   "name": "python",
   "nbconvert_exporter": "python",
   "pygments_lexer": "ipython3",
   "version": "3.12.7"
  }
 },
 "nbformat": 4,
 "nbformat_minor": 5
}
