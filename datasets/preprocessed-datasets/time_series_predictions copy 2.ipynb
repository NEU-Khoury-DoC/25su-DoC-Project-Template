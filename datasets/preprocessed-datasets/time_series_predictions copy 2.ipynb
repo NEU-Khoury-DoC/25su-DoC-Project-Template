{
 "cells": [
  {
   "cell_type": "code",
   "execution_count": 1,
   "id": "ee6ab292",
   "metadata": {},
   "outputs": [],
   "source": [
    "import requests\n",
    "import json\n",
    "import requests\n",
    "import pandas as pd\n",
    "from plotly import graph_objects as go\n",
    "import plotly.graph_objects as go\n",
    "import numpy as np\n",
    "import plotly.express as px\n",
    "from sklearn.metrics import mean_squared_error, r2_score\n",
    "from sklearn.model_selection import train_test_split\n",
    "from sklearn.preprocessing import StandardScaler"
   ]
  },
  {
   "cell_type": "code",
   "execution_count": 2,
   "id": "32d16aa9",
   "metadata": {},
   "outputs": [
    {
     "name": "stdout",
     "output_type": "stream",
     "text": [
      "object\n"
     ]
    },
    {
     "name": "stderr",
     "output_type": "stream",
     "text": [
      "/var/folders/6f/26l7p7y90rd4sw3bc17185400000gn/T/ipykernel_714/1627526132.py:1: SettingWithCopyWarning:\n",
      "\n",
      "\n",
      "A value is trying to be set on a copy of a slice from a DataFrame.\n",
      "Try using .loc[row_indexer,col_indexer] = value instead\n",
      "\n",
      "See the caveats in the documentation: https://pandas.pydata.org/pandas-docs/stable/user_guide/indexing.html#returning-a-view-versus-a-copy\n",
      "\n"
     ]
    },
    {
     "data": {
      "application/vnd.plotly.v1+json": {
       "config": {
        "plotlyServerURL": "https://plot.ly"
       },
       "data": [
        {
         "marker": {
          "color": "crimson"
         },
         "name": "Germany",
         "type": "bar",
         "x": [
          2012,
          2013,
          2014,
          2015,
          2016,
          2017,
          2018,
          2019,
          2020,
          2021,
          2022,
          2023
         ],
         "y": [
          399531982,
          414453278,
          394377723,
          420166585,
          426990841,
          404592288,
          451416603,
          439169070,
          285977705,
          358428715,
          463342211,
          526338516
         ]
        },
        {
         "marker": {
          "color": "royalblue"
         },
         "name": "France",
         "type": "bar",
         "x": [
          2012,
          2013,
          2014,
          2015,
          2016,
          2017,
          2018,
          2019,
          2020,
          2021,
          2022,
          2023
         ],
         "y": [
          406369476,
          407204584,
          411807574,
          366221284,
          359227358,
          392347108,
          392229828,
          386709202,
          305202977,
          374563212,
          435660457,
          464286634
         ]
        },
        {
         "marker": {
          "color": "darkorange"
         },
         "name": "Spain",
         "type": "bar",
         "x": [
          2012,
          2013,
          2014,
          2015,
          2016,
          2017,
          2018,
          2019,
          2020,
          2021,
          2022,
          2023
         ],
         "y": [
          248536678,
          243094908,
          237899314,
          258762120,
          273436004,
          289462889,
          293323160,
          291426796,
          156125758,
          223492010,
          275660135,
          290848376
         ]
        }
       ],
       "layout": {
        "barmode": "group",
        "template": {
         "data": {
          "bar": [
           {
            "error_x": {
             "color": "#2a3f5f"
            },
            "error_y": {
             "color": "#2a3f5f"
            },
            "marker": {
             "line": {
              "color": "#E5ECF6",
              "width": 0.5
             },
             "pattern": {
              "fillmode": "overlay",
              "size": 10,
              "solidity": 0.2
             }
            },
            "type": "bar"
           }
          ],
          "barpolar": [
           {
            "marker": {
             "line": {
              "color": "#E5ECF6",
              "width": 0.5
             },
             "pattern": {
              "fillmode": "overlay",
              "size": 10,
              "solidity": 0.2
             }
            },
            "type": "barpolar"
           }
          ],
          "carpet": [
           {
            "aaxis": {
             "endlinecolor": "#2a3f5f",
             "gridcolor": "white",
             "linecolor": "white",
             "minorgridcolor": "white",
             "startlinecolor": "#2a3f5f"
            },
            "baxis": {
             "endlinecolor": "#2a3f5f",
             "gridcolor": "white",
             "linecolor": "white",
             "minorgridcolor": "white",
             "startlinecolor": "#2a3f5f"
            },
            "type": "carpet"
           }
          ],
          "choropleth": [
           {
            "colorbar": {
             "outlinewidth": 0,
             "ticks": ""
            },
            "type": "choropleth"
           }
          ],
          "contour": [
           {
            "colorbar": {
             "outlinewidth": 0,
             "ticks": ""
            },
            "colorscale": [
             [
              0,
              "#0d0887"
             ],
             [
              0.1111111111111111,
              "#46039f"
             ],
             [
              0.2222222222222222,
              "#7201a8"
             ],
             [
              0.3333333333333333,
              "#9c179e"
             ],
             [
              0.4444444444444444,
              "#bd3786"
             ],
             [
              0.5555555555555556,
              "#d8576b"
             ],
             [
              0.6666666666666666,
              "#ed7953"
             ],
             [
              0.7777777777777778,
              "#fb9f3a"
             ],
             [
              0.8888888888888888,
              "#fdca26"
             ],
             [
              1,
              "#f0f921"
             ]
            ],
            "type": "contour"
           }
          ],
          "contourcarpet": [
           {
            "colorbar": {
             "outlinewidth": 0,
             "ticks": ""
            },
            "type": "contourcarpet"
           }
          ],
          "heatmap": [
           {
            "colorbar": {
             "outlinewidth": 0,
             "ticks": ""
            },
            "colorscale": [
             [
              0,
              "#0d0887"
             ],
             [
              0.1111111111111111,
              "#46039f"
             ],
             [
              0.2222222222222222,
              "#7201a8"
             ],
             [
              0.3333333333333333,
              "#9c179e"
             ],
             [
              0.4444444444444444,
              "#bd3786"
             ],
             [
              0.5555555555555556,
              "#d8576b"
             ],
             [
              0.6666666666666666,
              "#ed7953"
             ],
             [
              0.7777777777777778,
              "#fb9f3a"
             ],
             [
              0.8888888888888888,
              "#fdca26"
             ],
             [
              1,
              "#f0f921"
             ]
            ],
            "type": "heatmap"
           }
          ],
          "heatmapgl": [
           {
            "colorbar": {
             "outlinewidth": 0,
             "ticks": ""
            },
            "colorscale": [
             [
              0,
              "#0d0887"
             ],
             [
              0.1111111111111111,
              "#46039f"
             ],
             [
              0.2222222222222222,
              "#7201a8"
             ],
             [
              0.3333333333333333,
              "#9c179e"
             ],
             [
              0.4444444444444444,
              "#bd3786"
             ],
             [
              0.5555555555555556,
              "#d8576b"
             ],
             [
              0.6666666666666666,
              "#ed7953"
             ],
             [
              0.7777777777777778,
              "#fb9f3a"
             ],
             [
              0.8888888888888888,
              "#fdca26"
             ],
             [
              1,
              "#f0f921"
             ]
            ],
            "type": "heatmapgl"
           }
          ],
          "histogram": [
           {
            "marker": {
             "pattern": {
              "fillmode": "overlay",
              "size": 10,
              "solidity": 0.2
             }
            },
            "type": "histogram"
           }
          ],
          "histogram2d": [
           {
            "colorbar": {
             "outlinewidth": 0,
             "ticks": ""
            },
            "colorscale": [
             [
              0,
              "#0d0887"
             ],
             [
              0.1111111111111111,
              "#46039f"
             ],
             [
              0.2222222222222222,
              "#7201a8"
             ],
             [
              0.3333333333333333,
              "#9c179e"
             ],
             [
              0.4444444444444444,
              "#bd3786"
             ],
             [
              0.5555555555555556,
              "#d8576b"
             ],
             [
              0.6666666666666666,
              "#ed7953"
             ],
             [
              0.7777777777777778,
              "#fb9f3a"
             ],
             [
              0.8888888888888888,
              "#fdca26"
             ],
             [
              1,
              "#f0f921"
             ]
            ],
            "type": "histogram2d"
           }
          ],
          "histogram2dcontour": [
           {
            "colorbar": {
             "outlinewidth": 0,
             "ticks": ""
            },
            "colorscale": [
             [
              0,
              "#0d0887"
             ],
             [
              0.1111111111111111,
              "#46039f"
             ],
             [
              0.2222222222222222,
              "#7201a8"
             ],
             [
              0.3333333333333333,
              "#9c179e"
             ],
             [
              0.4444444444444444,
              "#bd3786"
             ],
             [
              0.5555555555555556,
              "#d8576b"
             ],
             [
              0.6666666666666666,
              "#ed7953"
             ],
             [
              0.7777777777777778,
              "#fb9f3a"
             ],
             [
              0.8888888888888888,
              "#fdca26"
             ],
             [
              1,
              "#f0f921"
             ]
            ],
            "type": "histogram2dcontour"
           }
          ],
          "mesh3d": [
           {
            "colorbar": {
             "outlinewidth": 0,
             "ticks": ""
            },
            "type": "mesh3d"
           }
          ],
          "parcoords": [
           {
            "line": {
             "colorbar": {
              "outlinewidth": 0,
              "ticks": ""
             }
            },
            "type": "parcoords"
           }
          ],
          "pie": [
           {
            "automargin": true,
            "type": "pie"
           }
          ],
          "scatter": [
           {
            "fillpattern": {
             "fillmode": "overlay",
             "size": 10,
             "solidity": 0.2
            },
            "type": "scatter"
           }
          ],
          "scatter3d": [
           {
            "line": {
             "colorbar": {
              "outlinewidth": 0,
              "ticks": ""
             }
            },
            "marker": {
             "colorbar": {
              "outlinewidth": 0,
              "ticks": ""
             }
            },
            "type": "scatter3d"
           }
          ],
          "scattercarpet": [
           {
            "marker": {
             "colorbar": {
              "outlinewidth": 0,
              "ticks": ""
             }
            },
            "type": "scattercarpet"
           }
          ],
          "scattergeo": [
           {
            "marker": {
             "colorbar": {
              "outlinewidth": 0,
              "ticks": ""
             }
            },
            "type": "scattergeo"
           }
          ],
          "scattergl": [
           {
            "marker": {
             "colorbar": {
              "outlinewidth": 0,
              "ticks": ""
             }
            },
            "type": "scattergl"
           }
          ],
          "scattermapbox": [
           {
            "marker": {
             "colorbar": {
              "outlinewidth": 0,
              "ticks": ""
             }
            },
            "type": "scattermapbox"
           }
          ],
          "scatterpolar": [
           {
            "marker": {
             "colorbar": {
              "outlinewidth": 0,
              "ticks": ""
             }
            },
            "type": "scatterpolar"
           }
          ],
          "scatterpolargl": [
           {
            "marker": {
             "colorbar": {
              "outlinewidth": 0,
              "ticks": ""
             }
            },
            "type": "scatterpolargl"
           }
          ],
          "scatterternary": [
           {
            "marker": {
             "colorbar": {
              "outlinewidth": 0,
              "ticks": ""
             }
            },
            "type": "scatterternary"
           }
          ],
          "surface": [
           {
            "colorbar": {
             "outlinewidth": 0,
             "ticks": ""
            },
            "colorscale": [
             [
              0,
              "#0d0887"
             ],
             [
              0.1111111111111111,
              "#46039f"
             ],
             [
              0.2222222222222222,
              "#7201a8"
             ],
             [
              0.3333333333333333,
              "#9c179e"
             ],
             [
              0.4444444444444444,
              "#bd3786"
             ],
             [
              0.5555555555555556,
              "#d8576b"
             ],
             [
              0.6666666666666666,
              "#ed7953"
             ],
             [
              0.7777777777777778,
              "#fb9f3a"
             ],
             [
              0.8888888888888888,
              "#fdca26"
             ],
             [
              1,
              "#f0f921"
             ]
            ],
            "type": "surface"
           }
          ],
          "table": [
           {
            "cells": {
             "fill": {
              "color": "#EBF0F8"
             },
             "line": {
              "color": "white"
             }
            },
            "header": {
             "fill": {
              "color": "#C8D4E3"
             },
             "line": {
              "color": "white"
             }
            },
            "type": "table"
           }
          ]
         },
         "layout": {
          "annotationdefaults": {
           "arrowcolor": "#2a3f5f",
           "arrowhead": 0,
           "arrowwidth": 1
          },
          "autotypenumbers": "strict",
          "coloraxis": {
           "colorbar": {
            "outlinewidth": 0,
            "ticks": ""
           }
          },
          "colorscale": {
           "diverging": [
            [
             0,
             "#8e0152"
            ],
            [
             0.1,
             "#c51b7d"
            ],
            [
             0.2,
             "#de77ae"
            ],
            [
             0.3,
             "#f1b6da"
            ],
            [
             0.4,
             "#fde0ef"
            ],
            [
             0.5,
             "#f7f7f7"
            ],
            [
             0.6,
             "#e6f5d0"
            ],
            [
             0.7,
             "#b8e186"
            ],
            [
             0.8,
             "#7fbc41"
            ],
            [
             0.9,
             "#4d9221"
            ],
            [
             1,
             "#276419"
            ]
           ],
           "sequential": [
            [
             0,
             "#0d0887"
            ],
            [
             0.1111111111111111,
             "#46039f"
            ],
            [
             0.2222222222222222,
             "#7201a8"
            ],
            [
             0.3333333333333333,
             "#9c179e"
            ],
            [
             0.4444444444444444,
             "#bd3786"
            ],
            [
             0.5555555555555556,
             "#d8576b"
            ],
            [
             0.6666666666666666,
             "#ed7953"
            ],
            [
             0.7777777777777778,
             "#fb9f3a"
            ],
            [
             0.8888888888888888,
             "#fdca26"
            ],
            [
             1,
             "#f0f921"
            ]
           ],
           "sequentialminus": [
            [
             0,
             "#0d0887"
            ],
            [
             0.1111111111111111,
             "#46039f"
            ],
            [
             0.2222222222222222,
             "#7201a8"
            ],
            [
             0.3333333333333333,
             "#9c179e"
            ],
            [
             0.4444444444444444,
             "#bd3786"
            ],
            [
             0.5555555555555556,
             "#d8576b"
            ],
            [
             0.6666666666666666,
             "#ed7953"
            ],
            [
             0.7777777777777778,
             "#fb9f3a"
            ],
            [
             0.8888888888888888,
             "#fdca26"
            ],
            [
             1,
             "#f0f921"
            ]
           ]
          },
          "colorway": [
           "#636efa",
           "#EF553B",
           "#00cc96",
           "#ab63fa",
           "#FFA15A",
           "#19d3f3",
           "#FF6692",
           "#B6E880",
           "#FF97FF",
           "#FECB52"
          ],
          "font": {
           "color": "#2a3f5f"
          },
          "geo": {
           "bgcolor": "white",
           "lakecolor": "white",
           "landcolor": "#E5ECF6",
           "showlakes": true,
           "showland": true,
           "subunitcolor": "white"
          },
          "hoverlabel": {
           "align": "left"
          },
          "hovermode": "closest",
          "mapbox": {
           "style": "light"
          },
          "paper_bgcolor": "white",
          "plot_bgcolor": "#E5ECF6",
          "polar": {
           "angularaxis": {
            "gridcolor": "white",
            "linecolor": "white",
            "ticks": ""
           },
           "bgcolor": "#E5ECF6",
           "radialaxis": {
            "gridcolor": "white",
            "linecolor": "white",
            "ticks": ""
           }
          },
          "scene": {
           "xaxis": {
            "backgroundcolor": "#E5ECF6",
            "gridcolor": "white",
            "gridwidth": 2,
            "linecolor": "white",
            "showbackground": true,
            "ticks": "",
            "zerolinecolor": "white"
           },
           "yaxis": {
            "backgroundcolor": "#E5ECF6",
            "gridcolor": "white",
            "gridwidth": 2,
            "linecolor": "white",
            "showbackground": true,
            "ticks": "",
            "zerolinecolor": "white"
           },
           "zaxis": {
            "backgroundcolor": "#E5ECF6",
            "gridcolor": "white",
            "gridwidth": 2,
            "linecolor": "white",
            "showbackground": true,
            "ticks": "",
            "zerolinecolor": "white"
           }
          },
          "shapedefaults": {
           "line": {
            "color": "#2a3f5f"
           }
          },
          "ternary": {
           "aaxis": {
            "gridcolor": "white",
            "linecolor": "white",
            "ticks": ""
           },
           "baxis": {
            "gridcolor": "white",
            "linecolor": "white",
            "ticks": ""
           },
           "bgcolor": "#E5ECF6",
           "caxis": {
            "gridcolor": "white",
            "linecolor": "white",
            "ticks": ""
           }
          },
          "title": {
           "x": 0.05
          },
          "xaxis": {
           "automargin": true,
           "gridcolor": "white",
           "linecolor": "white",
           "ticks": "",
           "title": {
            "standoff": 15
           },
           "zerolinecolor": "white",
           "zerolinewidth": 2
          },
          "yaxis": {
           "automargin": true,
           "gridcolor": "white",
           "linecolor": "white",
           "ticks": "",
           "title": {
            "standoff": 15
           },
           "zerolinecolor": "white",
           "zerolinewidth": 2
          }
         }
        },
        "title": {
         "text": "Number of Trips for Top 3 Most Traveled Countries by Year (1 night or over)"
        },
        "xaxis": {
         "title": {
          "text": "Year"
         }
        },
        "yaxis": {
         "title": {
          "text": "Number of Trips"
         }
        }
       }
      }
     },
     "metadata": {},
     "output_type": "display_data"
    }
   ],
   "source": [
    "%run trips_duration.ipynb"
   ]
  },
  {
   "cell_type": "code",
   "execution_count": 3,
   "id": "3be59464",
   "metadata": {},
   "outputs": [],
   "source": [
    "def merging_data(final_1plus_df):\n",
    "\n",
    "    tourist_num = final_1plus_df\n",
    "    tourist_num_copy = final_1plus_df.copy()\n",
    "\n",
    "    min_trips = tourist_num['NumTrips'].min()\n",
    "    max_trips = tourist_num['NumTrips'].max()\n",
    "\n",
    "    tourist_num['Tourism St.'] = (tourist_num['NumTrips'] - min_trips) / (max_trips - min_trips)\n",
    "\n",
    "    tourist_num = pd.DataFrame(final_1plus_df, columns = ['Country', 'Year', 'Tourism St.'])\n",
    "    tourist_num.sort_values(by = [\"Year\"])\n",
    "\n",
    "    unfiltered_predicted_tourist =pd.DataFrame(tourist_num_copy, columns = [\"Country\", \"Year\", \"NumTrips\"])\n",
    "\n",
    "    return tourist_num, unfiltered_predicted_tourist\n"
   ]
  },
  {
   "cell_type": "code",
   "execution_count": 4,
   "id": "f5bdb604",
   "metadata": {},
   "outputs": [
    {
     "data": {
      "text/html": [
       "<div>\n",
       "<style scoped>\n",
       "    .dataframe tbody tr th:only-of-type {\n",
       "        vertical-align: middle;\n",
       "    }\n",
       "\n",
       "    .dataframe tbody tr th {\n",
       "        vertical-align: top;\n",
       "    }\n",
       "\n",
       "    .dataframe thead th {\n",
       "        text-align: right;\n",
       "    }\n",
       "</style>\n",
       "<table border=\"1\" class=\"dataframe\">\n",
       "  <thead>\n",
       "    <tr style=\"text-align: right;\">\n",
       "      <th></th>\n",
       "      <th>Country</th>\n",
       "      <th>Year</th>\n",
       "      <th>Tourism St.</th>\n",
       "    </tr>\n",
       "  </thead>\n",
       "  <tbody>\n",
       "    <tr>\n",
       "      <th>0</th>\n",
       "      <td>Albania</td>\n",
       "      <td>2017</td>\n",
       "      <td>0.014321</td>\n",
       "    </tr>\n",
       "    <tr>\n",
       "      <th>1</th>\n",
       "      <td>Albania</td>\n",
       "      <td>2019</td>\n",
       "      <td>0.018106</td>\n",
       "    </tr>\n",
       "    <tr>\n",
       "      <th>2</th>\n",
       "      <td>Albania</td>\n",
       "      <td>2020</td>\n",
       "      <td>0.011349</td>\n",
       "    </tr>\n",
       "    <tr>\n",
       "      <th>3</th>\n",
       "      <td>Austria</td>\n",
       "      <td>2012</td>\n",
       "      <td>0.067236</td>\n",
       "    </tr>\n",
       "    <tr>\n",
       "      <th>4</th>\n",
       "      <td>Austria</td>\n",
       "      <td>2013</td>\n",
       "      <td>0.068143</td>\n",
       "    </tr>\n",
       "    <tr>\n",
       "      <th>...</th>\n",
       "      <td>...</td>\n",
       "      <td>...</td>\n",
       "      <td>...</td>\n",
       "    </tr>\n",
       "    <tr>\n",
       "      <th>345</th>\n",
       "      <td>Switzerland</td>\n",
       "      <td>2018</td>\n",
       "      <td>0.076381</td>\n",
       "    </tr>\n",
       "    <tr>\n",
       "      <th>346</th>\n",
       "      <td>Switzerland</td>\n",
       "      <td>2019</td>\n",
       "      <td>0.069107</td>\n",
       "    </tr>\n",
       "    <tr>\n",
       "      <th>347</th>\n",
       "      <td>Switzerland</td>\n",
       "      <td>2020</td>\n",
       "      <td>0.059142</td>\n",
       "    </tr>\n",
       "    <tr>\n",
       "      <th>348</th>\n",
       "      <td>Switzerland</td>\n",
       "      <td>2021</td>\n",
       "      <td>0.061503</td>\n",
       "    </tr>\n",
       "    <tr>\n",
       "      <th>349</th>\n",
       "      <td>Switzerland</td>\n",
       "      <td>2022</td>\n",
       "      <td>0.086741</td>\n",
       "    </tr>\n",
       "  </tbody>\n",
       "</table>\n",
       "<p>350 rows × 3 columns</p>\n",
       "</div>"
      ],
      "text/plain": [
       "         Country  Year  Tourism St.\n",
       "0        Albania  2017     0.014321\n",
       "1        Albania  2019     0.018106\n",
       "2        Albania  2020     0.011349\n",
       "3        Austria  2012     0.067236\n",
       "4        Austria  2013     0.068143\n",
       "..           ...   ...          ...\n",
       "345  Switzerland  2018     0.076381\n",
       "346  Switzerland  2019     0.069107\n",
       "347  Switzerland  2020     0.059142\n",
       "348  Switzerland  2021     0.061503\n",
       "349  Switzerland  2022     0.086741\n",
       "\n",
       "[350 rows x 3 columns]"
      ]
     },
     "execution_count": 4,
     "metadata": {},
     "output_type": "execute_result"
    }
   ],
   "source": [
    "datas = merging_data(final_1plus_df)\n",
    "data = datas[0]\n",
    "data_not_st = datas[1]\n",
    "data"
   ]
  },
  {
   "cell_type": "code",
   "execution_count": 5,
   "id": "1215c7fe",
   "metadata": {},
   "outputs": [],
   "source": [
    "def get_lag_columns(country_df, lag = 3):\n",
    "\n",
    "    country_df = country_df.sort_values('Year').reset_index(drop = True)\n",
    "    country_df['Covid'] = country_df['Year'].apply(lambda x: 1 if x in [2020, 2021] else 0)\n",
    "    country_df['Bias'] = 1\n",
    "    \n",
    "    index_country = country_df.index[country_df['Year'].astype(int) == 2015]\n",
    "    index = index_country[0]\n",
    "\n",
    "    y_vector = []\n",
    "    x_matrix = []\n",
    "    x_list = []\n",
    "    for i in range(index, len(country_df)): \n",
    "        if i - lag < 0:\n",
    "            continue\n",
    "        bias = 1 \n",
    "        country = country_df.iloc[i][\"Country\"]\n",
    "        lag_values = [country_df.iloc[i - j]['Tourism St.'] for j in range(1, lag + 1)]\n",
    "        covid = country_df.iloc[i]['Covid']\n",
    "        year = country_df.iloc[i]['Year']\n",
    "        \n",
    "        x_list = [bias, country, year, covid] + lag_values\n",
    "        x_matrix.append(x_list)\n",
    "        y_vector.append(country_df.iloc[i][\"Tourism St.\"])\n",
    "\n",
    "    x_matrix = pd.DataFrame(x_matrix)\n",
    "    x_matrix.rename(columns={0: \"Bias\", 1: \"Country\", 2:\"Year\", 3:\"Covid\", 4:\"lag1\", 5:\"lag2\", 6:\"lag3\"}, inplace=True)\n",
    "\n",
    "\n",
    "    return x_matrix, y_vector"
   ]
  },
  {
   "cell_type": "code",
   "execution_count": 6,
   "id": "4659ec54",
   "metadata": {},
   "outputs": [
    {
     "data": {
      "text/html": [
       "<div>\n",
       "<style scoped>\n",
       "    .dataframe tbody tr th:only-of-type {\n",
       "        vertical-align: middle;\n",
       "    }\n",
       "\n",
       "    .dataframe tbody tr th {\n",
       "        vertical-align: top;\n",
       "    }\n",
       "\n",
       "    .dataframe thead th {\n",
       "        text-align: right;\n",
       "    }\n",
       "</style>\n",
       "<table border=\"1\" class=\"dataframe\">\n",
       "  <thead>\n",
       "    <tr style=\"text-align: right;\">\n",
       "      <th></th>\n",
       "      <th>Country</th>\n",
       "      <th>Year</th>\n",
       "      <th>Tourism St.</th>\n",
       "    </tr>\n",
       "  </thead>\n",
       "  <tbody>\n",
       "    <tr>\n",
       "      <th>294</th>\n",
       "      <td>Slovakia</td>\n",
       "      <td>2012</td>\n",
       "      <td>0.021458</td>\n",
       "    </tr>\n",
       "    <tr>\n",
       "      <th>295</th>\n",
       "      <td>Slovakia</td>\n",
       "      <td>2013</td>\n",
       "      <td>0.020559</td>\n",
       "    </tr>\n",
       "    <tr>\n",
       "      <th>296</th>\n",
       "      <td>Slovakia</td>\n",
       "      <td>2014</td>\n",
       "      <td>0.021513</td>\n",
       "    </tr>\n",
       "    <tr>\n",
       "      <th>297</th>\n",
       "      <td>Slovakia</td>\n",
       "      <td>2015</td>\n",
       "      <td>0.025319</td>\n",
       "    </tr>\n",
       "    <tr>\n",
       "      <th>298</th>\n",
       "      <td>Slovakia</td>\n",
       "      <td>2016</td>\n",
       "      <td>0.030385</td>\n",
       "    </tr>\n",
       "    <tr>\n",
       "      <th>299</th>\n",
       "      <td>Slovakia</td>\n",
       "      <td>2017</td>\n",
       "      <td>0.034212</td>\n",
       "    </tr>\n",
       "    <tr>\n",
       "      <th>300</th>\n",
       "      <td>Slovakia</td>\n",
       "      <td>2018</td>\n",
       "      <td>0.039610</td>\n",
       "    </tr>\n",
       "    <tr>\n",
       "      <th>301</th>\n",
       "      <td>Slovakia</td>\n",
       "      <td>2019</td>\n",
       "      <td>0.044606</td>\n",
       "    </tr>\n",
       "    <tr>\n",
       "      <th>302</th>\n",
       "      <td>Slovakia</td>\n",
       "      <td>2020</td>\n",
       "      <td>0.019206</td>\n",
       "    </tr>\n",
       "    <tr>\n",
       "      <th>303</th>\n",
       "      <td>Slovakia</td>\n",
       "      <td>2021</td>\n",
       "      <td>0.023941</td>\n",
       "    </tr>\n",
       "    <tr>\n",
       "      <th>304</th>\n",
       "      <td>Slovakia</td>\n",
       "      <td>2022</td>\n",
       "      <td>0.041598</td>\n",
       "    </tr>\n",
       "    <tr>\n",
       "      <th>305</th>\n",
       "      <td>Slovakia</td>\n",
       "      <td>2023</td>\n",
       "      <td>0.048077</td>\n",
       "    </tr>\n",
       "  </tbody>\n",
       "</table>\n",
       "</div>"
      ],
      "text/plain": [
       "      Country  Year  Tourism St.\n",
       "294  Slovakia  2012     0.021458\n",
       "295  Slovakia  2013     0.020559\n",
       "296  Slovakia  2014     0.021513\n",
       "297  Slovakia  2015     0.025319\n",
       "298  Slovakia  2016     0.030385\n",
       "299  Slovakia  2017     0.034212\n",
       "300  Slovakia  2018     0.039610\n",
       "301  Slovakia  2019     0.044606\n",
       "302  Slovakia  2020     0.019206\n",
       "303  Slovakia  2021     0.023941\n",
       "304  Slovakia  2022     0.041598\n",
       "305  Slovakia  2023     0.048077"
      ]
     },
     "execution_count": 6,
     "metadata": {},
     "output_type": "execute_result"
    }
   ],
   "source": [
    "data[data['Country']=='Slovakia']"
   ]
  },
  {
   "cell_type": "code",
   "execution_count": 7,
   "id": "6b77db91",
   "metadata": {},
   "outputs": [
    {
     "name": "stdout",
     "output_type": "stream",
     "text": [
      "   Bias   Country  Year  Covid      lag1      lag2      lag3\n",
      "0     1  Slovakia  2015      0  0.021513  0.020559  0.021458\n",
      "1     1  Slovakia  2016      0  0.025319  0.021513  0.020559\n",
      "2     1  Slovakia  2017      0  0.030385  0.025319  0.021513\n",
      "3     1  Slovakia  2018      0  0.034212  0.030385  0.025319\n",
      "4     1  Slovakia  2019      0  0.039610  0.034212  0.030385\n",
      "5     1  Slovakia  2020      1  0.044606  0.039610  0.034212\n",
      "6     1  Slovakia  2021      1  0.019206  0.044606  0.039610\n",
      "7     1  Slovakia  2022      0  0.023941  0.019206  0.044606\n",
      "8     1  Slovakia  2023      0  0.041598  0.023941  0.019206\n",
      "[0.02531901720004173, 0.03038532634637201, 0.03421163044933105, 0.0396101720567253, 0.04460578041262051, 0.019206153354248967, 0.023941342883577185, 0.04159770013749046, 0.04807679240371502]\n"
     ]
    }
   ],
   "source": [
    "X, y = get_lag_columns(data[data['Country'] == 'Slovakia'], lag=3)\n",
    "print(X)\n",
    "print(y)"
   ]
  },
  {
   "cell_type": "code",
   "execution_count": 8,
   "id": "ef748c34",
   "metadata": {},
   "outputs": [],
   "source": [
    "def fit_regression(X, y):\n",
    "    Xt = X.T\n",
    "    XtX = np.dot(Xt, X)\n",
    "    XtX_inv = np.linalg.inv(XtX)\n",
    "    Xt_y = np.dot(Xt, y)\n",
    "    beta = np.dot(XtX_inv, Xt_y)\n",
    "\n",
    "    return beta"
   ]
  },
  {
   "cell_type": "code",
   "execution_count": 9,
   "id": "07728867",
   "metadata": {},
   "outputs": [],
   "source": [
    "def predict_next_year(beta, X):\n",
    "    return np.dot(beta, X)"
   ]
  },
  {
   "cell_type": "code",
   "execution_count": 19,
   "id": "8a5efc63",
   "metadata": {},
   "outputs": [],
   "source": [
    "def get_country_years_pred(data, country, lag = 3):\n",
    "\n",
    "    country_df = data[data['Country'] == country]\n",
    "    country_df, y = get_lag_columns(country_df, lag = lag)\n",
    "\n",
    "    lag_cols = [f'lag{i}' for i in range(1, lag + 1)]\n",
    "    feature_cols = ['Bias', 'Covid'] + lag_cols\n",
    "    \n",
    "    X = country_df[feature_cols].values\n",
    "    #print(X)\n",
    "    #print(y)\n",
    "\n",
    "    beta_tourism = fit_regression(X, y)\n",
    "    #print(beta_tourism)\n",
    "\n",
    "    predictions = []\n",
    "    for index, row in country_df.iterrows():\n",
    "        year = row['Year']\n",
    "        X_year = np.array([row[col] for col in feature_cols])\n",
    "        print(X_year)\n",
    "        pred_tourism = predict_next_year(beta_tourism, X_year)\n",
    "\n",
    "        predictions.append({\n",
    "            'Country': country,\n",
    "            'Year': year,\n",
    "            'Actual_Tourism': y[index],\n",
    "            'Predicted_Tourism': pred_tourism\n",
    "\n",
    "        })\n",
    "\n",
    "    all_years_results = pd.DataFrame(predictions)\n",
    "\n",
    "    return all_years_results"
   ]
  },
  {
   "cell_type": "code",
   "execution_count": 20,
   "id": "3ed6a2dc",
   "metadata": {},
   "outputs": [
    {
     "name": "stdout",
     "output_type": "stream",
     "text": [
      "[1.         0.         0.02151262 0.02055928 0.02145767]\n",
      "[1.         0.         0.02531902 0.02151262 0.02055928]\n",
      "[1.         0.         0.03038533 0.02531902 0.02151262]\n",
      "[1.         0.         0.03421163 0.03038533 0.02531902]\n",
      "[1.         0.         0.03961017 0.03421163 0.03038533]\n",
      "[1.         1.         0.04460578 0.03961017 0.03421163]\n",
      "[1.         1.         0.01920615 0.04460578 0.03961017]\n",
      "[1.         0.         0.02394134 0.01920615 0.04460578]\n",
      "[1.         0.         0.0415977  0.02394134 0.01920615]\n"
     ]
    },
    {
     "data": {
      "text/html": [
       "<div>\n",
       "<style scoped>\n",
       "    .dataframe tbody tr th:only-of-type {\n",
       "        vertical-align: middle;\n",
       "    }\n",
       "\n",
       "    .dataframe tbody tr th {\n",
       "        vertical-align: top;\n",
       "    }\n",
       "\n",
       "    .dataframe thead th {\n",
       "        text-align: right;\n",
       "    }\n",
       "</style>\n",
       "<table border=\"1\" class=\"dataframe\">\n",
       "  <thead>\n",
       "    <tr style=\"text-align: right;\">\n",
       "      <th></th>\n",
       "      <th>Country</th>\n",
       "      <th>Year</th>\n",
       "      <th>Actual_Tourism</th>\n",
       "      <th>Predicted_Tourism</th>\n",
       "    </tr>\n",
       "  </thead>\n",
       "  <tbody>\n",
       "    <tr>\n",
       "      <th>0</th>\n",
       "      <td>Slovakia</td>\n",
       "      <td>2015</td>\n",
       "      <td>0.025319</td>\n",
       "      <td>0.029939</td>\n",
       "    </tr>\n",
       "    <tr>\n",
       "      <th>1</th>\n",
       "      <td>Slovakia</td>\n",
       "      <td>2016</td>\n",
       "      <td>0.030385</td>\n",
       "      <td>0.031425</td>\n",
       "    </tr>\n",
       "    <tr>\n",
       "      <th>2</th>\n",
       "      <td>Slovakia</td>\n",
       "      <td>2017</td>\n",
       "      <td>0.034212</td>\n",
       "      <td>0.035546</td>\n",
       "    </tr>\n",
       "    <tr>\n",
       "      <th>3</th>\n",
       "      <td>Slovakia</td>\n",
       "      <td>2018</td>\n",
       "      <td>0.039610</td>\n",
       "      <td>0.041058</td>\n",
       "    </tr>\n",
       "    <tr>\n",
       "      <th>4</th>\n",
       "      <td>Slovakia</td>\n",
       "      <td>2019</td>\n",
       "      <td>0.044606</td>\n",
       "      <td>0.047150</td>\n",
       "    </tr>\n",
       "    <tr>\n",
       "      <th>5</th>\n",
       "      <td>Slovakia</td>\n",
       "      <td>2020</td>\n",
       "      <td>0.019206</td>\n",
       "      <td>0.024017</td>\n",
       "    </tr>\n",
       "    <tr>\n",
       "      <th>6</th>\n",
       "      <td>Slovakia</td>\n",
       "      <td>2021</td>\n",
       "      <td>0.023941</td>\n",
       "      <td>0.019130</td>\n",
       "    </tr>\n",
       "    <tr>\n",
       "      <th>7</th>\n",
       "      <td>Slovakia</td>\n",
       "      <td>2022</td>\n",
       "      <td>0.041598</td>\n",
       "      <td>0.040566</td>\n",
       "    </tr>\n",
       "    <tr>\n",
       "      <th>8</th>\n",
       "      <td>Slovakia</td>\n",
       "      <td>2023</td>\n",
       "      <td>0.048077</td>\n",
       "      <td>0.038123</td>\n",
       "    </tr>\n",
       "  </tbody>\n",
       "</table>\n",
       "</div>"
      ],
      "text/plain": [
       "    Country  Year  Actual_Tourism  Predicted_Tourism\n",
       "0  Slovakia  2015        0.025319           0.029939\n",
       "1  Slovakia  2016        0.030385           0.031425\n",
       "2  Slovakia  2017        0.034212           0.035546\n",
       "3  Slovakia  2018        0.039610           0.041058\n",
       "4  Slovakia  2019        0.044606           0.047150\n",
       "5  Slovakia  2020        0.019206           0.024017\n",
       "6  Slovakia  2021        0.023941           0.019130\n",
       "7  Slovakia  2022        0.041598           0.040566\n",
       "8  Slovakia  2023        0.048077           0.038123"
      ]
     },
     "execution_count": 20,
     "metadata": {},
     "output_type": "execute_result"
    }
   ],
   "source": [
    "prev_year_result = get_country_years_pred(data, \"Slovakia\")\n",
    "prev_year_result"
   ]
  },
  {
   "cell_type": "code",
   "execution_count": 21,
   "id": "cbbb5753",
   "metadata": {},
   "outputs": [
    {
     "data": {
      "text/plain": [
       "0.7782708312971978"
      ]
     },
     "execution_count": 21,
     "metadata": {},
     "output_type": "execute_result"
    }
   ],
   "source": [
    "r2_score(prev_year_result['Actual_Tourism'], prev_year_result['Predicted_Tourism'])"
   ]
  },
  {
   "cell_type": "code",
   "execution_count": 79,
   "id": "11212d37",
   "metadata": {},
   "outputs": [],
   "source": [
    "def get_country_prediction(data, country, lag=3):\n",
    "    country_df = data[data['Country'] == country].copy()\n",
    "    country_df, y = get_lag_columns(country_df, lag=lag)\n",
    "\n",
    "    lag_cols = [f'lag{i}' for i in range(1, lag + 1)]\n",
    "    feature_cols = ['Bias', 'Covid'] + lag_cols\n",
    "\n",
    "    X = country_df[feature_cols].values\n",
    "\n",
    "    beta_tourism = fit_regression(X, y)\n",
    "\n",
    "    last_year = country_df['Year'].max()\n",
    "    #print(last_year)\n",
    "\n",
    "    last_row = country_df[country_df['Year'] == last_year].iloc[0]\n",
    "    lag_values = [last_row[f'lag{i}'] for i in range(1, lag + 1)]\n",
    "\n",
    "    tmp_x = last_row[feature_cols].to_numpy()\n",
    "    x_old = np.hstack([tmp_x[:2], y[-1], tmp_x[2:4]])\n",
    "    \n",
    "    year_list = [2024]\n",
    "    country_list = [country]\n",
    "    pred_list = [predict_next_year(beta_tourism, x_old)]\n",
    "\n",
    "    for i in range(1, lag):\n",
    "        year = last_year + i + 1\n",
    "        \n",
    "        X_new = np.hstack([x_old[:2], pred_list[i-1], x_old[2:4]])\n",
    "        pred_tourism = predict_next_year(beta_tourism, X_new)\n",
    "\n",
    "        year_list.append(year)\n",
    "        country_list.append(country)\n",
    "        pred_list.append(pred_tourism)\n",
    "\n",
    "        x_old = X_new\n",
    "\n",
    "    predictions = {'Year': year_list,\n",
    "                   'Country': country_list,\n",
    "                   'Predicted_Tourism': pred_list}\n",
    "\n",
    "    return predictions\n"
   ]
  },
  {
   "cell_type": "code",
   "execution_count": 80,
   "id": "190faad9",
   "metadata": {},
   "outputs": [
    {
     "data": {
      "text/html": [
       "<div>\n",
       "<style scoped>\n",
       "    .dataframe tbody tr th:only-of-type {\n",
       "        vertical-align: middle;\n",
       "    }\n",
       "\n",
       "    .dataframe tbody tr th {\n",
       "        vertical-align: top;\n",
       "    }\n",
       "\n",
       "    .dataframe thead th {\n",
       "        text-align: right;\n",
       "    }\n",
       "</style>\n",
       "<table border=\"1\" class=\"dataframe\">\n",
       "  <thead>\n",
       "    <tr style=\"text-align: right;\">\n",
       "      <th></th>\n",
       "      <th>Year</th>\n",
       "      <th>Country</th>\n",
       "      <th>Predicted_Tourism</th>\n",
       "    </tr>\n",
       "  </thead>\n",
       "  <tbody>\n",
       "    <tr>\n",
       "      <th>0</th>\n",
       "      <td>2024</td>\n",
       "      <td>Slovakia</td>\n",
       "      <td>0.050925</td>\n",
       "    </tr>\n",
       "    <tr>\n",
       "      <th>1</th>\n",
       "      <td>2025</td>\n",
       "      <td>Slovakia</td>\n",
       "      <td>0.062911</td>\n",
       "    </tr>\n",
       "    <tr>\n",
       "      <th>2</th>\n",
       "      <td>2026</td>\n",
       "      <td>Slovakia</td>\n",
       "      <td>0.071675</td>\n",
       "    </tr>\n",
       "  </tbody>\n",
       "</table>\n",
       "</div>"
      ],
      "text/plain": [
       "   Year   Country  Predicted_Tourism\n",
       "0  2024  Slovakia           0.050925\n",
       "1  2025  Slovakia           0.062911\n",
       "2  2026  Slovakia           0.071675"
      ]
     },
     "execution_count": 80,
     "metadata": {},
     "output_type": "execute_result"
    }
   ],
   "source": [
    "result = get_country_prediction(data, \"Slovakia\", lag=3)\n",
    "result = pd.DataFrame(result)\n",
    "result.sort_values(by=['Year'])\n",
    "result"
   ]
  },
  {
   "cell_type": "code",
   "execution_count": 81,
   "id": "6717248c",
   "metadata": {},
   "outputs": [],
   "source": [
    "def visualization(data, st_data): \n",
    "    min_trips = data['NumTrips'].min()\n",
    "    max_trips = data['NumTrips'].max()\n",
    "\n",
    "    st_data[\"Predicted_Tourism_normal\"] = st_data[\"Predicted_Tourism\"] * (max_trips - min_trips) + min_trips\n",
    "\n",
    "    \n",
    "    country_name = st_data[\"Country\"].iloc[0]\n",
    "    matching_data = data[data[\"Country\"] == country_name]\n",
    "\n",
    "    merged = pd.concat([st_data, matching_data], ignore_index=True)\n",
    "    merged = merged.sort_values(by=\"Year\").reset_index(drop=True)\n",
    "\n",
    "    merged['Tourism_combined'] = merged['NumTrips'].fillna(merged['Predicted_Tourism_normal'])\n",
    "    merged['Tourism_combined'] = merged['NumTrips'].fillna(merged['Predicted_Tourism_normal'])\n",
    "\n",
    "    merged['Tourism_combined'] = merged['NumTrips'].fillna(merged['Predicted_Tourism_normal'])\n",
    "    \n",
    "    fig = go.Figure()\n",
    "\n",
    "    fig.add_trace(go.Scatter(\n",
    "        x=merged['Year'], \n",
    "        y=merged['Tourism_combined'], \n",
    "        name='Tourist Numbers',\n",
    "        line=dict(color='royalblue', width=4),\n",
    "    ))\n",
    "\n",
    "    fig.add_vline(\n",
    "        x=2023,  \n",
    "        line=dict(color='gray', dash='dot'),\n",
    "        annotation_text='Prediction',\n",
    "        annotation_position='top right'\n",
    ")\n",
    "\n",
    "    fig.show()\n"
   ]
  },
  {
   "cell_type": "code",
   "execution_count": 82,
   "id": "e3f9be0e",
   "metadata": {},
   "outputs": [
    {
     "data": {
      "application/vnd.plotly.v1+json": {
       "config": {
        "plotlyServerURL": "https://plot.ly"
       },
       "data": [
        {
         "line": {
          "color": "royalblue",
          "width": 4
         },
         "name": "Tourist Numbers",
         "type": "scatter",
         "x": [
          2012,
          2013,
          2014,
          2015,
          2016,
          2017,
          2018,
          2019,
          2020,
          2021,
          2022,
          2023,
          2024,
          2025,
          2026
         ],
         "y": [
          11938268,
          11466000,
          11967152,
          13968100,
          16631358,
          18642770,
          21480676,
          24106768,
          10754689,
          13243884,
          22525480,
          25931410,
          27428799.546763264,
          33729205.75800241,
          38336351.947555326
         ]
        }
       ],
       "layout": {
        "annotations": [
         {
          "showarrow": false,
          "text": "Prediction",
          "x": 2023,
          "xanchor": "left",
          "xref": "x",
          "y": 1,
          "yanchor": "top",
          "yref": "y domain"
         }
        ],
        "shapes": [
         {
          "line": {
           "color": "gray",
           "dash": "dot"
          },
          "type": "line",
          "x0": 2023,
          "x1": 2023,
          "xref": "x",
          "y0": 0,
          "y1": 1,
          "yref": "y domain"
         }
        ],
        "template": {
         "data": {
          "bar": [
           {
            "error_x": {
             "color": "#2a3f5f"
            },
            "error_y": {
             "color": "#2a3f5f"
            },
            "marker": {
             "line": {
              "color": "#E5ECF6",
              "width": 0.5
             },
             "pattern": {
              "fillmode": "overlay",
              "size": 10,
              "solidity": 0.2
             }
            },
            "type": "bar"
           }
          ],
          "barpolar": [
           {
            "marker": {
             "line": {
              "color": "#E5ECF6",
              "width": 0.5
             },
             "pattern": {
              "fillmode": "overlay",
              "size": 10,
              "solidity": 0.2
             }
            },
            "type": "barpolar"
           }
          ],
          "carpet": [
           {
            "aaxis": {
             "endlinecolor": "#2a3f5f",
             "gridcolor": "white",
             "linecolor": "white",
             "minorgridcolor": "white",
             "startlinecolor": "#2a3f5f"
            },
            "baxis": {
             "endlinecolor": "#2a3f5f",
             "gridcolor": "white",
             "linecolor": "white",
             "minorgridcolor": "white",
             "startlinecolor": "#2a3f5f"
            },
            "type": "carpet"
           }
          ],
          "choropleth": [
           {
            "colorbar": {
             "outlinewidth": 0,
             "ticks": ""
            },
            "type": "choropleth"
           }
          ],
          "contour": [
           {
            "colorbar": {
             "outlinewidth": 0,
             "ticks": ""
            },
            "colorscale": [
             [
              0,
              "#0d0887"
             ],
             [
              0.1111111111111111,
              "#46039f"
             ],
             [
              0.2222222222222222,
              "#7201a8"
             ],
             [
              0.3333333333333333,
              "#9c179e"
             ],
             [
              0.4444444444444444,
              "#bd3786"
             ],
             [
              0.5555555555555556,
              "#d8576b"
             ],
             [
              0.6666666666666666,
              "#ed7953"
             ],
             [
              0.7777777777777778,
              "#fb9f3a"
             ],
             [
              0.8888888888888888,
              "#fdca26"
             ],
             [
              1,
              "#f0f921"
             ]
            ],
            "type": "contour"
           }
          ],
          "contourcarpet": [
           {
            "colorbar": {
             "outlinewidth": 0,
             "ticks": ""
            },
            "type": "contourcarpet"
           }
          ],
          "heatmap": [
           {
            "colorbar": {
             "outlinewidth": 0,
             "ticks": ""
            },
            "colorscale": [
             [
              0,
              "#0d0887"
             ],
             [
              0.1111111111111111,
              "#46039f"
             ],
             [
              0.2222222222222222,
              "#7201a8"
             ],
             [
              0.3333333333333333,
              "#9c179e"
             ],
             [
              0.4444444444444444,
              "#bd3786"
             ],
             [
              0.5555555555555556,
              "#d8576b"
             ],
             [
              0.6666666666666666,
              "#ed7953"
             ],
             [
              0.7777777777777778,
              "#fb9f3a"
             ],
             [
              0.8888888888888888,
              "#fdca26"
             ],
             [
              1,
              "#f0f921"
             ]
            ],
            "type": "heatmap"
           }
          ],
          "heatmapgl": [
           {
            "colorbar": {
             "outlinewidth": 0,
             "ticks": ""
            },
            "colorscale": [
             [
              0,
              "#0d0887"
             ],
             [
              0.1111111111111111,
              "#46039f"
             ],
             [
              0.2222222222222222,
              "#7201a8"
             ],
             [
              0.3333333333333333,
              "#9c179e"
             ],
             [
              0.4444444444444444,
              "#bd3786"
             ],
             [
              0.5555555555555556,
              "#d8576b"
             ],
             [
              0.6666666666666666,
              "#ed7953"
             ],
             [
              0.7777777777777778,
              "#fb9f3a"
             ],
             [
              0.8888888888888888,
              "#fdca26"
             ],
             [
              1,
              "#f0f921"
             ]
            ],
            "type": "heatmapgl"
           }
          ],
          "histogram": [
           {
            "marker": {
             "pattern": {
              "fillmode": "overlay",
              "size": 10,
              "solidity": 0.2
             }
            },
            "type": "histogram"
           }
          ],
          "histogram2d": [
           {
            "colorbar": {
             "outlinewidth": 0,
             "ticks": ""
            },
            "colorscale": [
             [
              0,
              "#0d0887"
             ],
             [
              0.1111111111111111,
              "#46039f"
             ],
             [
              0.2222222222222222,
              "#7201a8"
             ],
             [
              0.3333333333333333,
              "#9c179e"
             ],
             [
              0.4444444444444444,
              "#bd3786"
             ],
             [
              0.5555555555555556,
              "#d8576b"
             ],
             [
              0.6666666666666666,
              "#ed7953"
             ],
             [
              0.7777777777777778,
              "#fb9f3a"
             ],
             [
              0.8888888888888888,
              "#fdca26"
             ],
             [
              1,
              "#f0f921"
             ]
            ],
            "type": "histogram2d"
           }
          ],
          "histogram2dcontour": [
           {
            "colorbar": {
             "outlinewidth": 0,
             "ticks": ""
            },
            "colorscale": [
             [
              0,
              "#0d0887"
             ],
             [
              0.1111111111111111,
              "#46039f"
             ],
             [
              0.2222222222222222,
              "#7201a8"
             ],
             [
              0.3333333333333333,
              "#9c179e"
             ],
             [
              0.4444444444444444,
              "#bd3786"
             ],
             [
              0.5555555555555556,
              "#d8576b"
             ],
             [
              0.6666666666666666,
              "#ed7953"
             ],
             [
              0.7777777777777778,
              "#fb9f3a"
             ],
             [
              0.8888888888888888,
              "#fdca26"
             ],
             [
              1,
              "#f0f921"
             ]
            ],
            "type": "histogram2dcontour"
           }
          ],
          "mesh3d": [
           {
            "colorbar": {
             "outlinewidth": 0,
             "ticks": ""
            },
            "type": "mesh3d"
           }
          ],
          "parcoords": [
           {
            "line": {
             "colorbar": {
              "outlinewidth": 0,
              "ticks": ""
             }
            },
            "type": "parcoords"
           }
          ],
          "pie": [
           {
            "automargin": true,
            "type": "pie"
           }
          ],
          "scatter": [
           {
            "fillpattern": {
             "fillmode": "overlay",
             "size": 10,
             "solidity": 0.2
            },
            "type": "scatter"
           }
          ],
          "scatter3d": [
           {
            "line": {
             "colorbar": {
              "outlinewidth": 0,
              "ticks": ""
             }
            },
            "marker": {
             "colorbar": {
              "outlinewidth": 0,
              "ticks": ""
             }
            },
            "type": "scatter3d"
           }
          ],
          "scattercarpet": [
           {
            "marker": {
             "colorbar": {
              "outlinewidth": 0,
              "ticks": ""
             }
            },
            "type": "scattercarpet"
           }
          ],
          "scattergeo": [
           {
            "marker": {
             "colorbar": {
              "outlinewidth": 0,
              "ticks": ""
             }
            },
            "type": "scattergeo"
           }
          ],
          "scattergl": [
           {
            "marker": {
             "colorbar": {
              "outlinewidth": 0,
              "ticks": ""
             }
            },
            "type": "scattergl"
           }
          ],
          "scattermapbox": [
           {
            "marker": {
             "colorbar": {
              "outlinewidth": 0,
              "ticks": ""
             }
            },
            "type": "scattermapbox"
           }
          ],
          "scatterpolar": [
           {
            "marker": {
             "colorbar": {
              "outlinewidth": 0,
              "ticks": ""
             }
            },
            "type": "scatterpolar"
           }
          ],
          "scatterpolargl": [
           {
            "marker": {
             "colorbar": {
              "outlinewidth": 0,
              "ticks": ""
             }
            },
            "type": "scatterpolargl"
           }
          ],
          "scatterternary": [
           {
            "marker": {
             "colorbar": {
              "outlinewidth": 0,
              "ticks": ""
             }
            },
            "type": "scatterternary"
           }
          ],
          "surface": [
           {
            "colorbar": {
             "outlinewidth": 0,
             "ticks": ""
            },
            "colorscale": [
             [
              0,
              "#0d0887"
             ],
             [
              0.1111111111111111,
              "#46039f"
             ],
             [
              0.2222222222222222,
              "#7201a8"
             ],
             [
              0.3333333333333333,
              "#9c179e"
             ],
             [
              0.4444444444444444,
              "#bd3786"
             ],
             [
              0.5555555555555556,
              "#d8576b"
             ],
             [
              0.6666666666666666,
              "#ed7953"
             ],
             [
              0.7777777777777778,
              "#fb9f3a"
             ],
             [
              0.8888888888888888,
              "#fdca26"
             ],
             [
              1,
              "#f0f921"
             ]
            ],
            "type": "surface"
           }
          ],
          "table": [
           {
            "cells": {
             "fill": {
              "color": "#EBF0F8"
             },
             "line": {
              "color": "white"
             }
            },
            "header": {
             "fill": {
              "color": "#C8D4E3"
             },
             "line": {
              "color": "white"
             }
            },
            "type": "table"
           }
          ]
         },
         "layout": {
          "annotationdefaults": {
           "arrowcolor": "#2a3f5f",
           "arrowhead": 0,
           "arrowwidth": 1
          },
          "autotypenumbers": "strict",
          "coloraxis": {
           "colorbar": {
            "outlinewidth": 0,
            "ticks": ""
           }
          },
          "colorscale": {
           "diverging": [
            [
             0,
             "#8e0152"
            ],
            [
             0.1,
             "#c51b7d"
            ],
            [
             0.2,
             "#de77ae"
            ],
            [
             0.3,
             "#f1b6da"
            ],
            [
             0.4,
             "#fde0ef"
            ],
            [
             0.5,
             "#f7f7f7"
            ],
            [
             0.6,
             "#e6f5d0"
            ],
            [
             0.7,
             "#b8e186"
            ],
            [
             0.8,
             "#7fbc41"
            ],
            [
             0.9,
             "#4d9221"
            ],
            [
             1,
             "#276419"
            ]
           ],
           "sequential": [
            [
             0,
             "#0d0887"
            ],
            [
             0.1111111111111111,
             "#46039f"
            ],
            [
             0.2222222222222222,
             "#7201a8"
            ],
            [
             0.3333333333333333,
             "#9c179e"
            ],
            [
             0.4444444444444444,
             "#bd3786"
            ],
            [
             0.5555555555555556,
             "#d8576b"
            ],
            [
             0.6666666666666666,
             "#ed7953"
            ],
            [
             0.7777777777777778,
             "#fb9f3a"
            ],
            [
             0.8888888888888888,
             "#fdca26"
            ],
            [
             1,
             "#f0f921"
            ]
           ],
           "sequentialminus": [
            [
             0,
             "#0d0887"
            ],
            [
             0.1111111111111111,
             "#46039f"
            ],
            [
             0.2222222222222222,
             "#7201a8"
            ],
            [
             0.3333333333333333,
             "#9c179e"
            ],
            [
             0.4444444444444444,
             "#bd3786"
            ],
            [
             0.5555555555555556,
             "#d8576b"
            ],
            [
             0.6666666666666666,
             "#ed7953"
            ],
            [
             0.7777777777777778,
             "#fb9f3a"
            ],
            [
             0.8888888888888888,
             "#fdca26"
            ],
            [
             1,
             "#f0f921"
            ]
           ]
          },
          "colorway": [
           "#636efa",
           "#EF553B",
           "#00cc96",
           "#ab63fa",
           "#FFA15A",
           "#19d3f3",
           "#FF6692",
           "#B6E880",
           "#FF97FF",
           "#FECB52"
          ],
          "font": {
           "color": "#2a3f5f"
          },
          "geo": {
           "bgcolor": "white",
           "lakecolor": "white",
           "landcolor": "#E5ECF6",
           "showlakes": true,
           "showland": true,
           "subunitcolor": "white"
          },
          "hoverlabel": {
           "align": "left"
          },
          "hovermode": "closest",
          "mapbox": {
           "style": "light"
          },
          "paper_bgcolor": "white",
          "plot_bgcolor": "#E5ECF6",
          "polar": {
           "angularaxis": {
            "gridcolor": "white",
            "linecolor": "white",
            "ticks": ""
           },
           "bgcolor": "#E5ECF6",
           "radialaxis": {
            "gridcolor": "white",
            "linecolor": "white",
            "ticks": ""
           }
          },
          "scene": {
           "xaxis": {
            "backgroundcolor": "#E5ECF6",
            "gridcolor": "white",
            "gridwidth": 2,
            "linecolor": "white",
            "showbackground": true,
            "ticks": "",
            "zerolinecolor": "white"
           },
           "yaxis": {
            "backgroundcolor": "#E5ECF6",
            "gridcolor": "white",
            "gridwidth": 2,
            "linecolor": "white",
            "showbackground": true,
            "ticks": "",
            "zerolinecolor": "white"
           },
           "zaxis": {
            "backgroundcolor": "#E5ECF6",
            "gridcolor": "white",
            "gridwidth": 2,
            "linecolor": "white",
            "showbackground": true,
            "ticks": "",
            "zerolinecolor": "white"
           }
          },
          "shapedefaults": {
           "line": {
            "color": "#2a3f5f"
           }
          },
          "ternary": {
           "aaxis": {
            "gridcolor": "white",
            "linecolor": "white",
            "ticks": ""
           },
           "baxis": {
            "gridcolor": "white",
            "linecolor": "white",
            "ticks": ""
           },
           "bgcolor": "#E5ECF6",
           "caxis": {
            "gridcolor": "white",
            "linecolor": "white",
            "ticks": ""
           }
          },
          "title": {
           "x": 0.05
          },
          "xaxis": {
           "automargin": true,
           "gridcolor": "white",
           "linecolor": "white",
           "ticks": "",
           "title": {
            "standoff": 15
           },
           "zerolinecolor": "white",
           "zerolinewidth": 2
          },
          "yaxis": {
           "automargin": true,
           "gridcolor": "white",
           "linecolor": "white",
           "ticks": "",
           "title": {
            "standoff": 15
           },
           "zerolinecolor": "white",
           "zerolinewidth": 2
          }
         }
        }
       }
      }
     },
     "metadata": {},
     "output_type": "display_data"
    }
   ],
   "source": [
    "visualization(data_not_st, result)"
   ]
  },
  {
   "cell_type": "code",
   "execution_count": null,
   "id": "b78dba55",
   "metadata": {},
   "outputs": [],
   "source": [
    "# create an empty df to store the predictions for all countries (call it pred_df or something)\n",
    "\n",
    "# loop through all the countries\n",
    "# for each country\n",
    "# drop the last three years from data (call this subset_data or somethihg)\n",
    "# temp_df = get_country_prediction(subset_data, country)\n",
    "# concantenate temp_df to the bottom of pred_df\n",
    "# when you are done, compare the pred_df predictions to a vector y_true\n",
    "# where y_true are the 2021-2023 y values for the countries"
   ]
  },
  {
   "cell_type": "code",
   "execution_count": 77,
   "id": "79651eeb",
   "metadata": {},
   "outputs": [],
   "source": [
    "def evaluate_predictions(pred_df):\n",
    "    r2_tourism = r2_score(pred_df['Actual_Tourism'], pred_df['Predicted_Tourism'])\n",
    "    mse_tourism = mean_squared_error(pred_df['Actual_Tourism'], pred_df['Predicted_Tourism'])\n",
    "\n",
    "    evaluations = {\n",
    "        'Tourism': {'R2': r2_tourism, 'MSE': mse_tourism}\n",
    "    }\n",
    "\n",
    "    return evaluations"
   ]
  },
  {
   "cell_type": "code",
   "execution_count": 78,
   "id": "62cbba82",
   "metadata": {},
   "outputs": [
    {
     "name": "stdout",
     "output_type": "stream",
     "text": [
      "   Year  Actual_Tourism  Predicted_Tourism\n",
      "0  2018        0.075837           0.163713\n",
      "1  2019        0.079434           0.120721\n",
      "2  2020        0.053121           0.082415\n",
      "3  2021        0.072659           0.082217\n",
      "4  2022        0.117416           0.077004\n",
      "Austria\n",
      "{'Tourism': {'R2': -4.475050525939516, 'MSE': 0.00240190635918188}}\n",
      "   Year  Actual_Tourism  Predicted_Tourism\n",
      "0  2018        0.057717          -0.284231\n",
      "1  2019        0.062818           0.061475\n",
      "2  2020        0.042233           0.058874\n",
      "3  2021        0.057486           0.085875\n",
      "4  2022        0.086910           0.080703\n",
      "Belgium\n",
      "{'Tourism': {'R2': -111.53917625184963, 'MSE': 0.023610275858963522}}\n",
      "   Year  Actual_Tourism  Predicted_Tourism\n",
      "0  2018        0.017348           0.044634\n",
      "1  2019        0.016776           0.007642\n",
      "2  2020        0.008258           0.081029\n",
      "3  2021        0.010693           0.006796\n",
      "4  2022        0.016044           0.011294\n",
      "Bulgaria\n",
      "{'Tourism': {'R2': -91.17016584253369, 'MSE': 0.0012322693672946754}}\n",
      "   Year  Actual_Tourism  Predicted_Tourism\n",
      "0  2018        0.015228           0.007301\n",
      "1  2019        0.018249           0.028490\n",
      "2  2020        0.010170           0.019831\n",
      "3  2021        0.013281           0.017555\n",
      "4  2022        0.016306           0.012803\n",
      "Croatia\n",
      "{'Tourism': {'R2': -6.677834776160904, 'MSE': 5.8313756305678724e-05}}\n",
      "   Year  Actual_Tourism  Predicted_Tourism\n",
      "0  2018        0.124964           0.037610\n",
      "1  2019        0.126144          -0.028898\n",
      "2  2020        0.089101           0.123717\n",
      "3  2021        0.101337           0.099428\n",
      "4  2022        0.133328           0.105298\n",
      "Czechia\n",
      "{'Tourism': {'R2': -22.754692566673956, 'MSE': 0.006731252601579715}}\n",
      "   Year  Actual_Tourism  Predicted_Tourism\n",
      "0  2018        0.056816          -0.040936\n",
      "1  2019        0.097739           0.022750\n",
      "2  2020        0.079052          -0.104970\n",
      "3  2021        0.060577           0.248848\n",
      "4  2022        0.070790           0.075307\n",
      "Denmark\n",
      "{'Tourism': {'R2': -77.99945702362912, 'MSE': 0.01690181427605413}}\n",
      "   Year  Actual_Tourism  Predicted_Tourism\n",
      "0  2018        0.019750          -0.001997\n",
      "1  2019        0.015399           0.149873\n",
      "2  2020        0.008551           0.026612\n",
      "3  2021        0.009091           0.022524\n",
      "4  2022        0.013254           0.013133\n",
      "Estonia\n",
      "{'Tourism': {'R2': -220.05979295385467, 'MSE': 0.003812553161021056}}\n",
      "   Year  Actual_Tourism  Predicted_Tourism\n",
      "0  2018        0.124657           0.254684\n",
      "1  2019        0.124614           0.124781\n",
      "2  2020        0.091261           0.123018\n",
      "3  2021        0.112900           0.206613\n",
      "4  2022        0.121848           0.105492\n",
      "Finland\n",
      "{'Tourism': {'R2': -32.68479338998906, 'MSE': 0.005393068330627044}}\n",
      "   Year  Actual_Tourism  Predicted_Tourism\n",
      "0  2018        0.744885          -0.051388\n",
      "1  2019        0.734383           0.697074\n",
      "2  2020        0.579334           0.714607\n",
      "3  2021        0.711278           0.713181\n",
      "4  2022        0.827503           0.800802\n",
      "France\n",
      "{'Tourism': {'R2': -19.296675479263786, 'MSE': 0.13089183110621078}}\n",
      "   Year  Actual_Tourism  Predicted_Tourism\n",
      "0  2018        0.857476          -1.490904\n",
      "1  2019        0.834178           0.834165\n",
      "2  2020        0.542762           0.810178\n",
      "3  2021        0.680586           1.149238\n",
      "4  2022        0.880162           1.402093\n",
      "Germany\n",
      "{'Tourism': {'R2': -72.28978396551659, 'MSE': 1.2156892397722543}}\n",
      "   Year  Actual_Tourism  Predicted_Tourism\n",
      "0  2018        0.022786           0.006017\n",
      "1  2019        0.020743           0.016613\n",
      "2  2020        0.016782           0.016029\n",
      "3  2021        0.018630           0.017861\n",
      "4  2022        0.025678           0.024099\n",
      "Greece\n",
      "{'Tourism': {'R2': -5.223068190982716, 'MSE': 6.0384431184660246e-05}}\n",
      "   Year  Actual_Tourism  Predicted_Tourism\n",
      "0  2018        0.069358           0.362203\n",
      "1  2019        0.071230           0.071715\n",
      "2  2020        0.039989           0.073600\n",
      "3  2021        0.044746           0.141015\n",
      "4  2022        0.066288           0.078062\n",
      "Hungary\n",
      "{'Tourism': {'R2': -109.39221890797467, 'MSE': 0.019258899151785195}}\n",
      "   Year  Actual_Tourism  Predicted_Tourism\n",
      "0  2018        0.054373           0.048779\n",
      "1  2019        0.058439           0.058112\n",
      "2  2020        0.031285           0.058121\n",
      "3  2021        0.025562          -0.289840\n",
      "4  2022        0.076528          -0.512236\n",
      "Ireland\n",
      "{'Tourism': {'R2': -256.02319149110144, 'MSE': 0.08937471629029341}}\n",
      "   Year  Actual_Tourism  Predicted_Tourism\n",
      "0  2018        0.224504           0.142327\n",
      "1  2019        0.206246           0.214279\n",
      "2  2020        0.117336           0.227281\n",
      "3  2021        0.132684           0.049564\n",
      "4  2022        0.180788           0.222962\n",
      "Italy\n",
      "{'Tourism': {'R2': -2.2310107231973086, 'MSE': 0.005518618059058071}}\n"
     ]
    },
    {
     "ename": "LinAlgError",
     "evalue": "Singular matrix",
     "output_type": "error",
     "traceback": [
      "\u001b[0;31m---------------------------------------------------------------------------\u001b[0m",
      "\u001b[0;31mLinAlgError\u001b[0m                               Traceback (most recent call last)",
      "Cell \u001b[0;32mIn[78], line 12\u001b[0m\n\u001b[1;32m      9\u001b[0m country_df \u001b[38;5;241m=\u001b[39m data[data[\u001b[38;5;124m'\u001b[39m\u001b[38;5;124mCountry\u001b[39m\u001b[38;5;124m'\u001b[39m] \u001b[38;5;241m==\u001b[39m country]\u001b[38;5;241m.\u001b[39mcopy()\n\u001b[1;32m     10\u001b[0m \u001b[38;5;66;03m# country_df\u001b[39;00m\n\u001b[0;32m---> 12\u001b[0m pred_df \u001b[38;5;241m=\u001b[39m cross_validate_time_series(country_df, lag\u001b[38;5;241m=\u001b[39m \u001b[38;5;241m3\u001b[39m)\n\u001b[1;32m     13\u001b[0m metrics \u001b[38;5;241m=\u001b[39m evaluate_predictions(pred_df)\n\u001b[1;32m     15\u001b[0m \u001b[38;5;28mprint\u001b[39m(pred_df)\n",
      "Cell \u001b[0;32mIn[76], line 18\u001b[0m, in \u001b[0;36mcross_validate_time_series\u001b[0;34m(country_df, lag)\u001b[0m\n\u001b[1;32m     14\u001b[0m y_train \u001b[38;5;241m=\u001b[39m np\u001b[38;5;241m.\u001b[39marray(y_full[:i])\n\u001b[1;32m     16\u001b[0m X_test \u001b[38;5;241m=\u001b[39m np\u001b[38;5;241m.\u001b[39marray([test_row[col] \u001b[38;5;28;01mfor\u001b[39;00m col \u001b[38;5;129;01min\u001b[39;00m feature_cols])\n\u001b[0;32m---> 18\u001b[0m beta_tourism \u001b[38;5;241m=\u001b[39m fit_regression(X_train, y_train)\n\u001b[1;32m     19\u001b[0m pred_tourism \u001b[38;5;241m=\u001b[39m predict_next_year(beta_tourism, X_test)\n\u001b[1;32m     21\u001b[0m results\u001b[38;5;241m.\u001b[39mappend({\n\u001b[1;32m     22\u001b[0m     \u001b[38;5;124m'\u001b[39m\u001b[38;5;124mYear\u001b[39m\u001b[38;5;124m'\u001b[39m: test_row[\u001b[38;5;124m'\u001b[39m\u001b[38;5;124mYear\u001b[39m\u001b[38;5;124m'\u001b[39m],\n\u001b[1;32m     23\u001b[0m     \u001b[38;5;124m'\u001b[39m\u001b[38;5;124mActual_Tourism\u001b[39m\u001b[38;5;124m'\u001b[39m: y_full[i],\n\u001b[1;32m     24\u001b[0m     \u001b[38;5;124m'\u001b[39m\u001b[38;5;124mPredicted_Tourism\u001b[39m\u001b[38;5;124m'\u001b[39m: pred_tourism\n\u001b[1;32m     25\u001b[0m })\n",
      "Cell \u001b[0;32mIn[8], line 4\u001b[0m, in \u001b[0;36mfit_regression\u001b[0;34m(X, y)\u001b[0m\n\u001b[1;32m      2\u001b[0m Xt \u001b[38;5;241m=\u001b[39m X\u001b[38;5;241m.\u001b[39mT\n\u001b[1;32m      3\u001b[0m XtX \u001b[38;5;241m=\u001b[39m np\u001b[38;5;241m.\u001b[39mdot(Xt, X)\n\u001b[0;32m----> 4\u001b[0m XtX_inv \u001b[38;5;241m=\u001b[39m np\u001b[38;5;241m.\u001b[39mlinalg\u001b[38;5;241m.\u001b[39minv(XtX)\n\u001b[1;32m      5\u001b[0m Xt_y \u001b[38;5;241m=\u001b[39m np\u001b[38;5;241m.\u001b[39mdot(Xt, y)\n\u001b[1;32m      6\u001b[0m beta \u001b[38;5;241m=\u001b[39m np\u001b[38;5;241m.\u001b[39mdot(XtX_inv, Xt_y)\n",
      "File \u001b[0;32m~/Desktop/NEU/DS3000/anaconda3/lib/python3.12/site-packages/numpy/linalg/linalg.py:561\u001b[0m, in \u001b[0;36minv\u001b[0;34m(a)\u001b[0m\n\u001b[1;32m    559\u001b[0m signature \u001b[38;5;241m=\u001b[39m \u001b[38;5;124m'\u001b[39m\u001b[38;5;124mD->D\u001b[39m\u001b[38;5;124m'\u001b[39m \u001b[38;5;28;01mif\u001b[39;00m isComplexType(t) \u001b[38;5;28;01melse\u001b[39;00m \u001b[38;5;124m'\u001b[39m\u001b[38;5;124md->d\u001b[39m\u001b[38;5;124m'\u001b[39m\n\u001b[1;32m    560\u001b[0m extobj \u001b[38;5;241m=\u001b[39m get_linalg_error_extobj(_raise_linalgerror_singular)\n\u001b[0;32m--> 561\u001b[0m ainv \u001b[38;5;241m=\u001b[39m _umath_linalg\u001b[38;5;241m.\u001b[39minv(a, signature\u001b[38;5;241m=\u001b[39msignature, extobj\u001b[38;5;241m=\u001b[39mextobj)\n\u001b[1;32m    562\u001b[0m \u001b[38;5;28;01mreturn\u001b[39;00m wrap(ainv\u001b[38;5;241m.\u001b[39mastype(result_t, copy\u001b[38;5;241m=\u001b[39m\u001b[38;5;28;01mFalse\u001b[39;00m))\n",
      "File \u001b[0;32m~/Desktop/NEU/DS3000/anaconda3/lib/python3.12/site-packages/numpy/linalg/linalg.py:112\u001b[0m, in \u001b[0;36m_raise_linalgerror_singular\u001b[0;34m(err, flag)\u001b[0m\n\u001b[1;32m    111\u001b[0m \u001b[38;5;28;01mdef\u001b[39;00m \u001b[38;5;21m_raise_linalgerror_singular\u001b[39m(err, flag):\n\u001b[0;32m--> 112\u001b[0m     \u001b[38;5;28;01mraise\u001b[39;00m LinAlgError(\u001b[38;5;124m\"\u001b[39m\u001b[38;5;124mSingular matrix\u001b[39m\u001b[38;5;124m\"\u001b[39m)\n",
      "\u001b[0;31mLinAlgError\u001b[0m: Singular matrix"
     ]
    }
   ],
   "source": [
    "EU_countries_list = [\n",
    "    'Austria', \"Belgium\", \"Bulgaria\", \"Croatia\", \"Czechia\",\n",
    "    \"Denmark\", \"Estonia\", \"Finland\", \"France\", \"Germany\", \"Greece\", \"Hungary\",\n",
    "    \"Ireland\", \"Italy\", \"Latvia\", \"Lithuania\", \"Luxembourg\", \"Malta\",\n",
    "    \"Netherlands\", \"Poland\", \"Portugal\", \"Romania\", \"Slovakia\", \"Slovenia\",\n",
    "    \"Spain\", \"Sweden\"]\n",
    "\n",
    "for country in EU_countries_list:\n",
    "    country_df = data[data['Country'] == country].copy()\n",
    "    # country_df\n",
    "\n",
    "    pred_df = cross_validate_time_series(country_df, lag= 3)\n",
    "    metrics = evaluate_predictions(pred_df)\n",
    "\n",
    "    print(pred_df)\n",
    "    print(country)\n",
    "    print(metrics)"
   ]
  },
  {
   "cell_type": "code",
   "execution_count": null,
   "id": "a9d43590",
   "metadata": {},
   "outputs": [
    {
     "ename": "TypeError",
     "evalue": "tuple indices must be integers or slices, not list",
     "output_type": "error",
     "traceback": [
      "\u001b[0;31m---------------------------------------------------------------------------\u001b[0m",
      "\u001b[0;31mTypeError\u001b[0m                                 Traceback (most recent call last)",
      "Cell \u001b[0;32mIn[312], line 1\u001b[0m\n\u001b[0;32m----> 1\u001b[0m X \u001b[38;5;241m=\u001b[39m country_df[[\u001b[38;5;124m'\u001b[39m\u001b[38;5;124mBias\u001b[39m\u001b[38;5;124m'\u001b[39m, \u001b[38;5;124m'\u001b[39m\u001b[38;5;124mTourism_lag\u001b[39m\u001b[38;5;124m'\u001b[39m]]\u001b[38;5;241m.\u001b[39mvalues\n\u001b[1;32m      2\u001b[0m y_tourism \u001b[38;5;241m=\u001b[39m country_df[\u001b[38;5;124m'\u001b[39m\u001b[38;5;124mTourism St.\u001b[39m\u001b[38;5;124m'\u001b[39m]\u001b[38;5;241m.\u001b[39mvalues\n\u001b[1;32m      3\u001b[0m y_tourism\n",
      "\u001b[0;31mTypeError\u001b[0m: tuple indices must be integers or slices, not list"
     ]
    }
   ],
   "source": [
    "X = country_df[['Bias', 'Tourism_lag']].values\n",
    "y_tourism = country_df['Tourism St.'].values\n",
    "y_tourism"
   ]
  },
  {
   "cell_type": "code",
   "execution_count": null,
   "id": "8adde764",
   "metadata": {},
   "outputs": [],
   "source": []
  },
  {
   "cell_type": "code",
   "execution_count": null,
   "id": "3f242708",
   "metadata": {},
   "outputs": [],
   "source": []
  }
 ],
 "metadata": {
  "kernelspec": {
   "display_name": "base",
   "language": "python",
   "name": "python3"
  },
  "language_info": {
   "codemirror_mode": {
    "name": "ipython",
    "version": 3
   },
   "file_extension": ".py",
   "mimetype": "text/x-python",
   "name": "python",
   "nbconvert_exporter": "python",
   "pygments_lexer": "ipython3",
   "version": "3.12.7"
  }
 },
 "nbformat": 4,
 "nbformat_minor": 5
}
