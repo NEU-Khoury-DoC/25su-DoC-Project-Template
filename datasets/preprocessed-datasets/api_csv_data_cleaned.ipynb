{
 "cells": [
  {
   "cell_type": "code",
   "execution_count": 2,
   "id": "3850e74f",
   "metadata": {},
   "outputs": [],
   "source": [
    "import requests\n",
    "import json\n",
    "import pandas as pd\n",
    "from functools import reduce\n",
    "import plotly.express as px\n",
    "import plotly\n",
    "import statistics\n",
    "from statistics import stdev\n",
    "import plotly.io as pio"
   ]
  },
  {
   "cell_type": "code",
   "execution_count": 3,
   "id": "1d722d6e",
   "metadata": {},
   "outputs": [],
   "source": [
    "def api_to_df(url):\n",
    "    \"\"\"\n",
    "    accesses api as json, creates dict, and then converts dict to pandas dataframe\n",
    "\n",
    "    args:\n",
    "        - url, string url for api access\n",
    "    \n",
    "    returns:\n",
    "        - pandas dataframe with api data\n",
    "    \"\"\"\n",
    "    response = requests.get(url).text\n",
    "    doc = json.loads(response)\n",
    "\n",
    "\n",
    "    values = doc[\"value\"]\n",
    "    dim_ids = doc[\"id\"]\n",
    "    dim_sizes = doc[\"size\"]\n",
    "    dimensions = doc[\"dimension\"]\n",
    "\n",
    "    dim_labels = {}\n",
    "    for dim in dim_ids:\n",
    "        dim_info = dimensions[dim]\n",
    "        label_dict = dim_info[\"category\"][\"label\"]\n",
    "        index_dict = dim_info[\"category\"][\"index\"]\n",
    "        ordered_labels = [label_dict[key] for key, _ in sorted(index_dict.items(), key=lambda x: x[1])]\n",
    "        dim_labels[dim] = ordered_labels\n",
    "\n",
    "    def flat_index_to_coords(index, sizes):\n",
    "        coords = []\n",
    "        for size in reversed(sizes):\n",
    "            coords.insert(0, index % size)\n",
    "            index = index // size\n",
    "        return coords\n",
    "\n",
    "    records = []\n",
    "    for flat_key, value in values.items():\n",
    "        flat_index = int(flat_key)\n",
    "        coord_indices = flat_index_to_coords(flat_index, dim_sizes)\n",
    "\n",
    "        record = {}\n",
    "        for i, dim in enumerate(dim_ids):\n",
    "            record[dim] = dim_labels[dim][coord_indices[i]]\n",
    "        record[\"value\"] = value\n",
    "        records.append(record)\n",
    "\n",
    "    return pd.DataFrame(records)\n",
    " \n",
    "    "
   ]
  },
  {
   "cell_type": "code",
   "execution_count": 4,
   "id": "6900e707",
   "metadata": {},
   "outputs": [],
   "source": [
    "def clean_df(df, indic, value, metadata_cols, unit = None, target_col = None):\n",
    "    \"\"\"\n",
    "    takes in df as arg, converts indic to columns, adds unit to indic columns, makes value column part of indic columns,\n",
    "      removes freq column, returns cleaned df\n",
    "\n",
    "      args:\n",
    "      - df: pandas df to be cleaned, df\n",
    "      - indic: indicator column to be converted into multiple columns, string\n",
    "      - unit: unit column to be combined into indic columns, string\n",
    "      - value: value column to be turned into values in indic cols, string\n",
    "      - metadata_cols: other cols to be accepted, list of strings\n",
    "      - target_col: main string to be indic col, string\n",
    "    \"\"\"\n",
    "        # Strip whitespace from column names\n",
    "    df.columns = df.columns.str.strip()\n",
    "\n",
    "    # Combine indicator and unit to form unique column names\n",
    "    if unit:\n",
    "        df[\"indic_clean\"] = df[indic] + \" [\" + df[unit] + \"]\"\n",
    "    else: \n",
    "        df[\"indic_clean\"] = df[indic]\n",
    "\n",
    "    # Pivot to wide format\n",
    "    df_wide = df.pivot_table(\n",
    "        index=metadata_cols,\n",
    "        columns=\"indic_clean\",\n",
    "        values=value\n",
    "    ).reset_index()\n",
    "\n",
    "    # Flatten columns\n",
    "    df_wide.columns.name = None\n",
    "\n",
    "    # If a target_col is specified, return only that column + metadata\n",
    "    if target_col:\n",
    "    \n",
    "        if target_col not in df_wide.columns:\n",
    "            raise ValueError(\n",
    "                f\"Target column '{target_col}' not found. Available columns:\\n{df_wide.columns.tolist()}\"\n",
    "            )\n",
    "        mean = df_wide[target_col].mean()\n",
    "        std = df_wide[target_col].std()\n",
    "        df_wide[target_col] = (df_wide[target_col] - mean) / std\n",
    "        return df_wide[metadata_cols + [target_col]]\n",
    "    \n",
    "    # If no target_col specified, return everything\n",
    "    return df_wide"
   ]
  },
  {
   "cell_type": "markdown",
   "id": "29b2eb31",
   "metadata": {},
   "source": [
    "# Healthcare"
   ]
  },
  {
   "cell_type": "code",
   "execution_count": 5,
   "id": "38d4631d",
   "metadata": {},
   "outputs": [],
   "source": [
    "healthcare = api_to_df(\"https://ec.europa.eu/eurostat/api/dissemination/statistics/1.0/data/hlth_hlye?format=JSON&time=2008&time=2009&time=2010&time=2011&time=2012&time=2013&time=2014&time=2015&time=2016&time=2017&time=2018&time=2019&time=2020&time=2021&time=2022&geo=BE&geo=BG&geo=CZ&geo=DK&geo=DE&geo=EE&geo=IE&geo=EL&geo=ES&geo=FR&geo=HR&geo=IT&geo=CY&geo=LV&geo=LT&geo=LU&geo=HU&geo=MT&geo=NL&geo=AT&geo=PL&geo=PT&geo=RO&geo=SI&geo=SK&geo=FI&geo=SE&unit=YR&unit=PC&sex=M&sex=F&indic_he=HLY_0&indic_he=HLY_PC_0&indic_he=LE_0&indic_he=HLY_50&indic_he=HLY_PC_50&indic_he=LE_50&indic_he=HLY_65&indic_he=HLY_PC_65&indic_he=LE_65&lang=en\")"
   ]
  },
  {
   "cell_type": "code",
   "execution_count": 6,
   "id": "83864eac",
   "metadata": {},
   "outputs": [
    {
     "data": {
      "text/html": [
       "<div>\n",
       "<style scoped>\n",
       "    .dataframe tbody tr th:only-of-type {\n",
       "        vertical-align: middle;\n",
       "    }\n",
       "\n",
       "    .dataframe tbody tr th {\n",
       "        vertical-align: top;\n",
       "    }\n",
       "\n",
       "    .dataframe thead th {\n",
       "        text-align: right;\n",
       "    }\n",
       "</style>\n",
       "<table border=\"1\" class=\"dataframe\">\n",
       "  <thead>\n",
       "    <tr style=\"text-align: right;\">\n",
       "      <th></th>\n",
       "      <th>geo</th>\n",
       "      <th>time</th>\n",
       "      <th>Healthy life years in absolute value at birth [Year]</th>\n",
       "    </tr>\n",
       "  </thead>\n",
       "  <tbody>\n",
       "    <tr>\n",
       "      <th>0</th>\n",
       "      <td>Austria</td>\n",
       "      <td>2008</td>\n",
       "      <td>-0.543029</td>\n",
       "    </tr>\n",
       "    <tr>\n",
       "      <th>1</th>\n",
       "      <td>Austria</td>\n",
       "      <td>2009</td>\n",
       "      <td>-0.335181</td>\n",
       "    </tr>\n",
       "    <tr>\n",
       "      <th>2</th>\n",
       "      <td>Austria</td>\n",
       "      <td>2010</td>\n",
       "      <td>-0.346121</td>\n",
       "    </tr>\n",
       "    <tr>\n",
       "      <th>3</th>\n",
       "      <td>Austria</td>\n",
       "      <td>2011</td>\n",
       "      <td>-0.411757</td>\n",
       "    </tr>\n",
       "    <tr>\n",
       "      <th>4</th>\n",
       "      <td>Austria</td>\n",
       "      <td>2012</td>\n",
       "      <td>-0.072637</td>\n",
       "    </tr>\n",
       "    <tr>\n",
       "      <th>...</th>\n",
       "      <td>...</td>\n",
       "      <td>...</td>\n",
       "      <td>...</td>\n",
       "    </tr>\n",
       "    <tr>\n",
       "      <th>397</th>\n",
       "      <td>Sweden</td>\n",
       "      <td>2018</td>\n",
       "      <td>2.443410</td>\n",
       "    </tr>\n",
       "    <tr>\n",
       "      <th>398</th>\n",
       "      <td>Sweden</td>\n",
       "      <td>2019</td>\n",
       "      <td>2.530924</td>\n",
       "    </tr>\n",
       "    <tr>\n",
       "      <th>399</th>\n",
       "      <td>Sweden</td>\n",
       "      <td>2020</td>\n",
       "      <td>2.421531</td>\n",
       "    </tr>\n",
       "    <tr>\n",
       "      <th>400</th>\n",
       "      <td>Sweden</td>\n",
       "      <td>2021</td>\n",
       "      <td>1.469809</td>\n",
       "    </tr>\n",
       "    <tr>\n",
       "      <th>401</th>\n",
       "      <td>Sweden</td>\n",
       "      <td>2022</td>\n",
       "      <td>1.032236</td>\n",
       "    </tr>\n",
       "  </tbody>\n",
       "</table>\n",
       "<p>402 rows × 3 columns</p>\n",
       "</div>"
      ],
      "text/plain": [
       "         geo  time  Healthy life years in absolute value at birth [Year]\n",
       "0    Austria  2008                                          -0.543029   \n",
       "1    Austria  2009                                          -0.335181   \n",
       "2    Austria  2010                                          -0.346121   \n",
       "3    Austria  2011                                          -0.411757   \n",
       "4    Austria  2012                                          -0.072637   \n",
       "..       ...   ...                                                ...   \n",
       "397   Sweden  2018                                           2.443410   \n",
       "398   Sweden  2019                                           2.530924   \n",
       "399   Sweden  2020                                           2.421531   \n",
       "400   Sweden  2021                                           1.469809   \n",
       "401   Sweden  2022                                           1.032236   \n",
       "\n",
       "[402 rows x 3 columns]"
      ]
     },
     "execution_count": 6,
     "metadata": {},
     "output_type": "execute_result"
    }
   ],
   "source": [
    "healthcare_clean = clean_df(healthcare, \"indic_he\", \"value\", [\"geo\",\"time\"], \"unit\", \"Healthy life years in absolute value at birth [Year]\")\n",
    "healthcare_clean"
   ]
  },
  {
   "cell_type": "markdown",
   "id": "46c66839",
   "metadata": {},
   "source": [
    "# Education"
   ]
  },
  {
   "cell_type": "code",
   "execution_count": 7,
   "id": "69368de2",
   "metadata": {},
   "outputs": [],
   "source": [
    "education = api_to_df(\"https://ec.europa.eu/eurostat/api/dissemination/statistics/1.0/data/edat_lfse_03?format=JSON&time=2008&time=2009&time=2010&time=2011&time=2012&time=2013&time=2014&time=2015&time=2016&time=2017&time=2018&time=2019&time=2020&time=2021&time=2022&geo=BE&geo=BG&geo=CZ&geo=DK&geo=DE&geo=EE&geo=IE&geo=EL&geo=ES&geo=FR&geo=HR&geo=IT&geo=CY&geo=LV&geo=LT&geo=LU&geo=HU&geo=MT&geo=NL&geo=AT&geo=PL&geo=PT&geo=RO&geo=SI&geo=SK&geo=FI&geo=SE&unit=PC&sex=M&sex=F&age=Y20-24&age=Y25-34&age=Y35-44&age=Y45-54&age=Y55-64&isced11=ED0-2&isced11=ED3_4&isced11=ED5-8&lang=en\")"
   ]
  },
  {
   "cell_type": "code",
   "execution_count": 8,
   "id": "b9b1e5b6",
   "metadata": {},
   "outputs": [
    {
     "data": {
      "text/html": [
       "<div>\n",
       "<style scoped>\n",
       "    .dataframe tbody tr th:only-of-type {\n",
       "        vertical-align: middle;\n",
       "    }\n",
       "\n",
       "    .dataframe tbody tr th {\n",
       "        vertical-align: top;\n",
       "    }\n",
       "\n",
       "    .dataframe thead th {\n",
       "        text-align: right;\n",
       "    }\n",
       "</style>\n",
       "<table border=\"1\" class=\"dataframe\">\n",
       "  <thead>\n",
       "    <tr style=\"text-align: right;\">\n",
       "      <th></th>\n",
       "      <th>geo</th>\n",
       "      <th>time</th>\n",
       "      <th>Tertiary education (levels 5-8) [Percentage]</th>\n",
       "    </tr>\n",
       "  </thead>\n",
       "  <tbody>\n",
       "    <tr>\n",
       "      <th>0</th>\n",
       "      <td>Austria</td>\n",
       "      <td>2008</td>\n",
       "      <td>-1.565091</td>\n",
       "    </tr>\n",
       "    <tr>\n",
       "      <th>1</th>\n",
       "      <td>Austria</td>\n",
       "      <td>2009</td>\n",
       "      <td>-1.442042</td>\n",
       "    </tr>\n",
       "    <tr>\n",
       "      <th>2</th>\n",
       "      <td>Austria</td>\n",
       "      <td>2010</td>\n",
       "      <td>-1.398975</td>\n",
       "    </tr>\n",
       "    <tr>\n",
       "      <th>3</th>\n",
       "      <td>Austria</td>\n",
       "      <td>2011</td>\n",
       "      <td>-1.391592</td>\n",
       "    </tr>\n",
       "    <tr>\n",
       "      <th>4</th>\n",
       "      <td>Austria</td>\n",
       "      <td>2012</td>\n",
       "      <td>-1.304227</td>\n",
       "    </tr>\n",
       "    <tr>\n",
       "      <th>...</th>\n",
       "      <td>...</td>\n",
       "      <td>...</td>\n",
       "      <td>...</td>\n",
       "    </tr>\n",
       "    <tr>\n",
       "      <th>400</th>\n",
       "      <td>Sweden</td>\n",
       "      <td>2018</td>\n",
       "      <td>1.281033</td>\n",
       "    </tr>\n",
       "    <tr>\n",
       "      <th>401</th>\n",
       "      <td>Sweden</td>\n",
       "      <td>2019</td>\n",
       "      <td>1.381933</td>\n",
       "    </tr>\n",
       "    <tr>\n",
       "      <th>402</th>\n",
       "      <td>Sweden</td>\n",
       "      <td>2020</td>\n",
       "      <td>1.426231</td>\n",
       "    </tr>\n",
       "    <tr>\n",
       "      <th>403</th>\n",
       "      <td>Sweden</td>\n",
       "      <td>2021</td>\n",
       "      <td>1.533284</td>\n",
       "    </tr>\n",
       "    <tr>\n",
       "      <th>404</th>\n",
       "      <td>Sweden</td>\n",
       "      <td>2022</td>\n",
       "      <td>1.679712</td>\n",
       "    </tr>\n",
       "  </tbody>\n",
       "</table>\n",
       "<p>405 rows × 3 columns</p>\n",
       "</div>"
      ],
      "text/plain": [
       "         geo  time  Tertiary education (levels 5-8) [Percentage]\n",
       "0    Austria  2008                                     -1.565091\n",
       "1    Austria  2009                                     -1.442042\n",
       "2    Austria  2010                                     -1.398975\n",
       "3    Austria  2011                                     -1.391592\n",
       "4    Austria  2012                                     -1.304227\n",
       "..       ...   ...                                           ...\n",
       "400   Sweden  2018                                      1.281033\n",
       "401   Sweden  2019                                      1.381933\n",
       "402   Sweden  2020                                      1.426231\n",
       "403   Sweden  2021                                      1.533284\n",
       "404   Sweden  2022                                      1.679712\n",
       "\n",
       "[405 rows x 3 columns]"
      ]
     },
     "execution_count": 8,
     "metadata": {},
     "output_type": "execute_result"
    }
   ],
   "source": [
    "education_clean = clean_df(education, \"isced11\", \"value\",[\"geo\", \"time\"], \"unit\", target_col=\"Tertiary education (levels 5-8) [Percentage]\")\n",
    "education_clean"
   ]
  },
  {
   "cell_type": "markdown",
   "id": "9d3c30d9",
   "metadata": {},
   "source": [
    "# Safety"
   ]
  },
  {
   "cell_type": "code",
   "execution_count": 9,
   "id": "77135d58",
   "metadata": {},
   "outputs": [],
   "source": [
    "safety = api_to_df(\"https://ec.europa.eu/eurostat/api/dissemination/statistics/1.0/data/crim_off_cat?format=JSON&time=2008&time=2009&time=2010&time=2011&time=2012&time=2013&time=2014&time=2015&time=2016&time=2017&time=2018&time=2019&time=2020&time=2021&time=2022&geo=BE&geo=BG&geo=CZ&geo=DK&geo=DE&geo=EE&geo=IE&geo=EL&geo=ES&geo=FR&geo=HR&geo=IT&geo=CY&geo=LV&geo=LT&geo=LU&geo=HU&geo=MT&geo=NL&geo=AT&geo=PL&geo=PT&geo=RO&geo=SI&geo=SK&geo=FI&geo=SE&unit=NR&unit=P_HTHAB&iccs=ICCS0101&iccs=ICCS0102&iccs=ICCS020111&iccs=ICCS020221&iccs=ICCS0301&iccs=ICCS03011&iccs=ICCS03012&iccs=ICCS0302&iccs=ICCS030221&iccs=ICCS0401&iccs=ICCS0501&iccs=ICCS05012&iccs=ICCS0502&iccs=ICCS05021&iccs=ICCS0601&iccs=ICCS0701&iccs=ICCS0703&iccs=ICCS07031&iccs=ICCS07041&iccs=ICCS0903&iccs=ICCS09051&lang=en\")"
   ]
  },
  {
   "cell_type": "code",
   "execution_count": 10,
   "id": "d3cee8d1",
   "metadata": {},
   "outputs": [
    {
     "data": {
      "text/html": [
       "<div>\n",
       "<style scoped>\n",
       "    .dataframe tbody tr th:only-of-type {\n",
       "        vertical-align: middle;\n",
       "    }\n",
       "\n",
       "    .dataframe tbody tr th {\n",
       "        vertical-align: top;\n",
       "    }\n",
       "\n",
       "    .dataframe thead th {\n",
       "        text-align: right;\n",
       "    }\n",
       "</style>\n",
       "<table border=\"1\" class=\"dataframe\">\n",
       "  <thead>\n",
       "    <tr style=\"text-align: right;\">\n",
       "      <th></th>\n",
       "      <th>geo</th>\n",
       "      <th>time</th>\n",
       "      <th>Unlawful acts involving controlled drugs or precursors [Number]</th>\n",
       "    </tr>\n",
       "  </thead>\n",
       "  <tbody>\n",
       "    <tr>\n",
       "      <th>0</th>\n",
       "      <td>Austria</td>\n",
       "      <td>2008</td>\n",
       "      <td>-0.446624</td>\n",
       "    </tr>\n",
       "    <tr>\n",
       "      <th>1</th>\n",
       "      <td>Austria</td>\n",
       "      <td>2009</td>\n",
       "      <td>-0.444807</td>\n",
       "    </tr>\n",
       "    <tr>\n",
       "      <th>2</th>\n",
       "      <td>Austria</td>\n",
       "      <td>2010</td>\n",
       "      <td>-0.443769</td>\n",
       "    </tr>\n",
       "    <tr>\n",
       "      <th>3</th>\n",
       "      <td>Austria</td>\n",
       "      <td>2011</td>\n",
       "      <td>-0.441433</td>\n",
       "    </tr>\n",
       "    <tr>\n",
       "      <th>4</th>\n",
       "      <td>Austria</td>\n",
       "      <td>2012</td>\n",
       "      <td>-0.446471</td>\n",
       "    </tr>\n",
       "    <tr>\n",
       "      <th>...</th>\n",
       "      <td>...</td>\n",
       "      <td>...</td>\n",
       "      <td>...</td>\n",
       "    </tr>\n",
       "    <tr>\n",
       "      <th>400</th>\n",
       "      <td>Sweden</td>\n",
       "      <td>2018</td>\n",
       "      <td>1.182293</td>\n",
       "    </tr>\n",
       "    <tr>\n",
       "      <th>401</th>\n",
       "      <td>Sweden</td>\n",
       "      <td>2019</td>\n",
       "      <td>1.284619</td>\n",
       "    </tr>\n",
       "    <tr>\n",
       "      <th>402</th>\n",
       "      <td>Sweden</td>\n",
       "      <td>2020</td>\n",
       "      <td>1.450358</td>\n",
       "    </tr>\n",
       "    <tr>\n",
       "      <th>403</th>\n",
       "      <td>Sweden</td>\n",
       "      <td>2021</td>\n",
       "      <td>1.358581</td>\n",
       "    </tr>\n",
       "    <tr>\n",
       "      <th>404</th>\n",
       "      <td>Sweden</td>\n",
       "      <td>2022</td>\n",
       "      <td>1.292053</td>\n",
       "    </tr>\n",
       "  </tbody>\n",
       "</table>\n",
       "<p>405 rows × 3 columns</p>\n",
       "</div>"
      ],
      "text/plain": [
       "         geo  time  \\\n",
       "0    Austria  2008   \n",
       "1    Austria  2009   \n",
       "2    Austria  2010   \n",
       "3    Austria  2011   \n",
       "4    Austria  2012   \n",
       "..       ...   ...   \n",
       "400   Sweden  2018   \n",
       "401   Sweden  2019   \n",
       "402   Sweden  2020   \n",
       "403   Sweden  2021   \n",
       "404   Sweden  2022   \n",
       "\n",
       "     Unlawful acts involving controlled drugs or precursors [Number]  \n",
       "0                                            -0.446624                \n",
       "1                                            -0.444807                \n",
       "2                                            -0.443769                \n",
       "3                                            -0.441433                \n",
       "4                                            -0.446471                \n",
       "..                                                 ...                \n",
       "400                                           1.182293                \n",
       "401                                           1.284619                \n",
       "402                                           1.450358                \n",
       "403                                           1.358581                \n",
       "404                                           1.292053                \n",
       "\n",
       "[405 rows x 3 columns]"
      ]
     },
     "execution_count": 10,
     "metadata": {},
     "output_type": "execute_result"
    }
   ],
   "source": [
    "safety_clean = clean_df(safety, \"iccs\", \"value\",[\"geo\",\"time\"], \"unit\", target_col=\"Unlawful acts involving controlled drugs or precursors [Number]\")\n",
    "safety_clean"
   ]
  },
  {
   "cell_type": "markdown",
   "id": "8116639f",
   "metadata": {},
   "source": [
    "# Environmental Consciousness"
   ]
  },
  {
   "cell_type": "code",
   "execution_count": 11,
   "id": "2ca0a4e9",
   "metadata": {},
   "outputs": [],
   "source": [
    "environment = api_to_df(\"https://ec.europa.eu/eurostat/api/dissemination/statistics/1.0/data/sdg_13_10?format=JSON&time=2008&time=2009&time=2010&time=2011&time=2012&time=2013&time=2014&time=2015&time=2016&time=2017&time=2018&time=2019&time=2020&time=2021&time=2022&geo=BE&geo=BG&geo=CZ&geo=DK&geo=DE&geo=EE&geo=IE&geo=EL&geo=ES&geo=FR&geo=HR&geo=IT&geo=CY&geo=LV&geo=LT&geo=LU&geo=HU&geo=MT&geo=NL&geo=AT&geo=PL&geo=PT&geo=RO&geo=SI&geo=SK&geo=FI&geo=SE&unit=T_HAB&unit=I90&src_crf=TOTXMEMO&src_crf=TOTX4_MEMO&lang=en\")"
   ]
  },
  {
   "cell_type": "code",
   "execution_count": 12,
   "id": "b08ffda6",
   "metadata": {},
   "outputs": [
    {
     "data": {
      "text/html": [
       "<div>\n",
       "<style scoped>\n",
       "    .dataframe tbody tr th:only-of-type {\n",
       "        vertical-align: middle;\n",
       "    }\n",
       "\n",
       "    .dataframe tbody tr th {\n",
       "        vertical-align: top;\n",
       "    }\n",
       "\n",
       "    .dataframe thead th {\n",
       "        text-align: right;\n",
       "    }\n",
       "</style>\n",
       "<table border=\"1\" class=\"dataframe\">\n",
       "  <thead>\n",
       "    <tr style=\"text-align: right;\">\n",
       "      <th></th>\n",
       "      <th>geo</th>\n",
       "      <th>time</th>\n",
       "      <th>Total (excluding memo items) [Tonnes per capita]</th>\n",
       "    </tr>\n",
       "  </thead>\n",
       "  <tbody>\n",
       "    <tr>\n",
       "      <th>0</th>\n",
       "      <td>Austria</td>\n",
       "      <td>2008</td>\n",
       "      <td>0.285685</td>\n",
       "    </tr>\n",
       "    <tr>\n",
       "      <th>1</th>\n",
       "      <td>Austria</td>\n",
       "      <td>2009</td>\n",
       "      <td>0.103148</td>\n",
       "    </tr>\n",
       "    <tr>\n",
       "      <th>2</th>\n",
       "      <td>Austria</td>\n",
       "      <td>2010</td>\n",
       "      <td>0.155301</td>\n",
       "    </tr>\n",
       "    <tr>\n",
       "      <th>3</th>\n",
       "      <td>Austria</td>\n",
       "      <td>2011</td>\n",
       "      <td>0.103148</td>\n",
       "    </tr>\n",
       "    <tr>\n",
       "      <th>4</th>\n",
       "      <td>Austria</td>\n",
       "      <td>2012</td>\n",
       "      <td>0.077071</td>\n",
       "    </tr>\n",
       "    <tr>\n",
       "      <th>...</th>\n",
       "      <td>...</td>\n",
       "      <td>...</td>\n",
       "      <td>...</td>\n",
       "    </tr>\n",
       "    <tr>\n",
       "      <th>400</th>\n",
       "      <td>Sweden</td>\n",
       "      <td>2018</td>\n",
       "      <td>-1.852607</td>\n",
       "    </tr>\n",
       "    <tr>\n",
       "      <th>401</th>\n",
       "      <td>Sweden</td>\n",
       "      <td>2019</td>\n",
       "      <td>-1.878684</td>\n",
       "    </tr>\n",
       "    <tr>\n",
       "      <th>402</th>\n",
       "      <td>Sweden</td>\n",
       "      <td>2020</td>\n",
       "      <td>-1.982991</td>\n",
       "    </tr>\n",
       "    <tr>\n",
       "      <th>403</th>\n",
       "      <td>Sweden</td>\n",
       "      <td>2021</td>\n",
       "      <td>-1.852607</td>\n",
       "    </tr>\n",
       "    <tr>\n",
       "      <th>404</th>\n",
       "      <td>Sweden</td>\n",
       "      <td>2022</td>\n",
       "      <td>-1.878684</td>\n",
       "    </tr>\n",
       "  </tbody>\n",
       "</table>\n",
       "<p>405 rows × 3 columns</p>\n",
       "</div>"
      ],
      "text/plain": [
       "         geo  time  Total (excluding memo items) [Tonnes per capita]\n",
       "0    Austria  2008                                          0.285685\n",
       "1    Austria  2009                                          0.103148\n",
       "2    Austria  2010                                          0.155301\n",
       "3    Austria  2011                                          0.103148\n",
       "4    Austria  2012                                          0.077071\n",
       "..       ...   ...                                               ...\n",
       "400   Sweden  2018                                         -1.852607\n",
       "401   Sweden  2019                                         -1.878684\n",
       "402   Sweden  2020                                         -1.982991\n",
       "403   Sweden  2021                                         -1.852607\n",
       "404   Sweden  2022                                         -1.878684\n",
       "\n",
       "[405 rows x 3 columns]"
      ]
     },
     "execution_count": 12,
     "metadata": {},
     "output_type": "execute_result"
    }
   ],
   "source": [
    "env_clean = clean_df(environment, \"src_crf\", \"value\",[\"geo\",\"time\"], \"unit\", target_col=\"Total (excluding memo items) [Tonnes per capita]\")\n",
    "env_clean"
   ]
  },
  {
   "cell_type": "markdown",
   "id": "6dd4680f",
   "metadata": {},
   "source": [
    "# Public Infrastructure"
   ]
  },
  {
   "cell_type": "code",
   "execution_count": 13,
   "id": "3e962306",
   "metadata": {},
   "outputs": [],
   "source": [
    "\n",
    "infrastructure = api_to_df('https://ec.europa.eu/eurostat/api/dissemination/statistics/1.0/data/rail_pa_total?format=JSON&time=2008&time=2009&time=2010&time=2011&time=2012&time=2013&time=2014&time=2015&time=2016&time=2017&time=2018&time=2019&time=2020&time=2021&time=2022&geo=EU27_2020&geo=BE&geo=BG&geo=CZ&geo=DK&geo=DE&geo=EE&geo=IE&geo=EL&geo=ES&geo=FR&geo=HR&geo=IT&geo=LV&geo=LT&geo=LU&geo=HU&geo=NL&geo=AT&geo=PL&geo=PT&geo=RO&geo=SI&geo=SK&geo=FI&geo=SE&unit=MIO_PKM&unit=THS_PAS&lang=en')"
   ]
  },
  {
   "cell_type": "code",
   "execution_count": 14,
   "id": "47980b11",
   "metadata": {},
   "outputs": [
    {
     "data": {
      "text/html": [
       "<div>\n",
       "<style scoped>\n",
       "    .dataframe tbody tr th:only-of-type {\n",
       "        vertical-align: middle;\n",
       "    }\n",
       "\n",
       "    .dataframe tbody tr th {\n",
       "        vertical-align: top;\n",
       "    }\n",
       "\n",
       "    .dataframe thead th {\n",
       "        text-align: right;\n",
       "    }\n",
       "</style>\n",
       "<table border=\"1\" class=\"dataframe\">\n",
       "  <thead>\n",
       "    <tr style=\"text-align: right;\">\n",
       "      <th></th>\n",
       "      <th>geo</th>\n",
       "      <th>time</th>\n",
       "      <th>Thousand passengers</th>\n",
       "    </tr>\n",
       "  </thead>\n",
       "  <tbody>\n",
       "    <tr>\n",
       "      <th>0</th>\n",
       "      <td>Austria</td>\n",
       "      <td>2008</td>\n",
       "      <td>-0.093254</td>\n",
       "    </tr>\n",
       "    <tr>\n",
       "      <th>1</th>\n",
       "      <td>Austria</td>\n",
       "      <td>2009</td>\n",
       "      <td>-0.091695</td>\n",
       "    </tr>\n",
       "    <tr>\n",
       "      <th>2</th>\n",
       "      <td>Austria</td>\n",
       "      <td>2010</td>\n",
       "      <td>-0.087537</td>\n",
       "    </tr>\n",
       "    <tr>\n",
       "      <th>3</th>\n",
       "      <td>Austria</td>\n",
       "      <td>2011</td>\n",
       "      <td>-0.084751</td>\n",
       "    </tr>\n",
       "    <tr>\n",
       "      <th>4</th>\n",
       "      <td>Austria</td>\n",
       "      <td>2012</td>\n",
       "      <td>-0.050660</td>\n",
       "    </tr>\n",
       "    <tr>\n",
       "      <th>...</th>\n",
       "      <td>...</td>\n",
       "      <td>...</td>\n",
       "      <td>...</td>\n",
       "    </tr>\n",
       "    <tr>\n",
       "      <th>337</th>\n",
       "      <td>Sweden</td>\n",
       "      <td>2018</td>\n",
       "      <td>-0.075841</td>\n",
       "    </tr>\n",
       "    <tr>\n",
       "      <th>338</th>\n",
       "      <td>Sweden</td>\n",
       "      <td>2019</td>\n",
       "      <td>-0.043327</td>\n",
       "    </tr>\n",
       "    <tr>\n",
       "      <th>339</th>\n",
       "      <td>Sweden</td>\n",
       "      <td>2020</td>\n",
       "      <td>-0.214645</td>\n",
       "    </tr>\n",
       "    <tr>\n",
       "      <th>340</th>\n",
       "      <td>Sweden</td>\n",
       "      <td>2021</td>\n",
       "      <td>-0.223033</td>\n",
       "    </tr>\n",
       "    <tr>\n",
       "      <th>341</th>\n",
       "      <td>Sweden</td>\n",
       "      <td>2022</td>\n",
       "      <td>-0.080361</td>\n",
       "    </tr>\n",
       "  </tbody>\n",
       "</table>\n",
       "<p>342 rows × 3 columns</p>\n",
       "</div>"
      ],
      "text/plain": [
       "         geo  time  Thousand passengers\n",
       "0    Austria  2008            -0.093254\n",
       "1    Austria  2009            -0.091695\n",
       "2    Austria  2010            -0.087537\n",
       "3    Austria  2011            -0.084751\n",
       "4    Austria  2012            -0.050660\n",
       "..       ...   ...                  ...\n",
       "337   Sweden  2018            -0.075841\n",
       "338   Sweden  2019            -0.043327\n",
       "339   Sweden  2020            -0.214645\n",
       "340   Sweden  2021            -0.223033\n",
       "341   Sweden  2022            -0.080361\n",
       "\n",
       "[342 rows x 3 columns]"
      ]
     },
     "execution_count": 14,
     "metadata": {},
     "output_type": "execute_result"
    }
   ],
   "source": [
    "inf_clean = clean_df(infrastructure, \"unit\", \"value\",[\"geo\",\"time\"], target_col=\"Thousand passengers\")\n",
    "inf_clean"
   ]
  },
  {
   "cell_type": "markdown",
   "id": "50ccda23",
   "metadata": {},
   "source": [
    "# Quality of Life Index"
   ]
  },
  {
   "cell_type": "code",
   "execution_count": 15,
   "id": "e0a8dfe5",
   "metadata": {},
   "outputs": [
    {
     "data": {
      "text/html": [
       "<div>\n",
       "<style scoped>\n",
       "    .dataframe tbody tr th:only-of-type {\n",
       "        vertical-align: middle;\n",
       "    }\n",
       "\n",
       "    .dataframe tbody tr th {\n",
       "        vertical-align: top;\n",
       "    }\n",
       "\n",
       "    .dataframe thead th {\n",
       "        text-align: right;\n",
       "    }\n",
       "</style>\n",
       "<table border=\"1\" class=\"dataframe\">\n",
       "  <thead>\n",
       "    <tr style=\"text-align: right;\">\n",
       "      <th></th>\n",
       "      <th>Year</th>\n",
       "      <th>Country name</th>\n",
       "      <th>Ladder score</th>\n",
       "    </tr>\n",
       "  </thead>\n",
       "  <tbody>\n",
       "    <tr>\n",
       "      <th>0</th>\n",
       "      <td>2024.0</td>\n",
       "      <td>Finland</td>\n",
       "      <td>1.743748</td>\n",
       "    </tr>\n",
       "    <tr>\n",
       "      <th>1</th>\n",
       "      <td>2024.0</td>\n",
       "      <td>Denmark</td>\n",
       "      <td>1.461323</td>\n",
       "    </tr>\n",
       "    <tr>\n",
       "      <th>2</th>\n",
       "      <td>2024.0</td>\n",
       "      <td>Sweden</td>\n",
       "      <td>1.230130</td>\n",
       "    </tr>\n",
       "    <tr>\n",
       "      <th>3</th>\n",
       "      <td>2024.0</td>\n",
       "      <td>Netherlands</td>\n",
       "      <td>1.178899</td>\n",
       "    </tr>\n",
       "    <tr>\n",
       "      <th>4</th>\n",
       "      <td>2023.0</td>\n",
       "      <td>Austria</td>\n",
       "      <td>0.652145</td>\n",
       "    </tr>\n",
       "    <tr>\n",
       "      <th>...</th>\n",
       "      <td>...</td>\n",
       "      <td>...</td>\n",
       "      <td>...</td>\n",
       "    </tr>\n",
       "    <tr>\n",
       "      <th>346</th>\n",
       "      <td>2016.0</td>\n",
       "      <td>Sweden</td>\n",
       "      <td>1.150000</td>\n",
       "    </tr>\n",
       "    <tr>\n",
       "      <th>347</th>\n",
       "      <td>2015.0</td>\n",
       "      <td>Sweden</td>\n",
       "      <td>1.159195</td>\n",
       "    </tr>\n",
       "    <tr>\n",
       "      <th>348</th>\n",
       "      <td>2014.0</td>\n",
       "      <td>Sweden</td>\n",
       "      <td>1.255088</td>\n",
       "    </tr>\n",
       "    <tr>\n",
       "      <th>349</th>\n",
       "      <td>2012.0</td>\n",
       "      <td>Sweden</td>\n",
       "      <td>1.407466</td>\n",
       "    </tr>\n",
       "    <tr>\n",
       "      <th>350</th>\n",
       "      <td>2011.0</td>\n",
       "      <td>Sweden</td>\n",
       "      <td>1.274792</td>\n",
       "    </tr>\n",
       "  </tbody>\n",
       "</table>\n",
       "<p>351 rows × 3 columns</p>\n",
       "</div>"
      ],
      "text/plain": [
       "       Year Country name  Ladder score\n",
       "0    2024.0      Finland      1.743748\n",
       "1    2024.0      Denmark      1.461323\n",
       "2    2024.0       Sweden      1.230130\n",
       "3    2024.0  Netherlands      1.178899\n",
       "4    2023.0      Austria      0.652145\n",
       "..      ...          ...           ...\n",
       "346  2016.0       Sweden      1.150000\n",
       "347  2015.0       Sweden      1.159195\n",
       "348  2014.0       Sweden      1.255088\n",
       "349  2012.0       Sweden      1.407466\n",
       "350  2011.0       Sweden      1.274792\n",
       "\n",
       "[351 rows x 3 columns]"
      ]
     },
     "execution_count": 15,
     "metadata": {},
     "output_type": "execute_result"
    }
   ],
   "source": [
    "\n",
    "eu_countries = {\n",
    "    \"Austria\", \"Belgium\", \"Bulgaria\", \"Croatia\", \"Cyprus\", \"Czechia\", \"Denmark\",\n",
    "    \"Estonia\", \"Finland\", \"France\", \"Germany\", \"Greece\", \"Hungary\", \"Ireland\",\n",
    "    \"Italy\", \"Latvia\", \"Lithuania\", \"Luxembourg\", \"Malta\", \"Netherlands\",\n",
    "    \"Poland\", \"Portugal\", \"Romania\", \"Slovakia\", \"Slovenia\", \"Spain\", \"Sweden\"\n",
    "}\n",
    "\n",
    "df = pd.read_csv(\"qol_data.csv\", encoding=\"ISO-8859-1\")\n",
    "\n",
    "df = df.dropna(axis=1, how='all')\n",
    "df.columns = df.columns.str.strip()\n",
    "df_filtered = df[[\"Year\", \"Country name\", \"Ladder score\"]]\n",
    "\n",
    "qol_clean = df_filtered[df_filtered[\"Country name\"].isin(eu_countries)]\n",
    "\n",
    "qol_clean = qol_clean.reset_index(drop=True)\n",
    "\n",
    "mean = qol_clean[\"Ladder score\"].mean()\n",
    "std = qol_clean[\"Ladder score\"].std()\n",
    "qol_clean[\"Ladder score\"] = (qol_clean[\"Ladder score\"] - mean) / std\n",
    "\n",
    "qol_clean\n"
   ]
  },
  {
   "cell_type": "markdown",
   "id": "a146f423",
   "metadata": {},
   "source": [
    "# Combining Dataframes"
   ]
  },
  {
   "cell_type": "code",
   "execution_count": 65,
   "id": "009c756c",
   "metadata": {},
   "outputs": [],
   "source": [
    "# standardizing columns\n",
    "def prep_df(df, time_col=\"time\", country_col=\"geo\", new_cols={}):\n",
    "    df = df.rename(columns={time_col: \"year\", country_col: \"country\", **new_cols})\n",
    "    df[\"year\"] = df[\"year\"].astype(int)\n",
    "    return df\n",
    "\n",
    "healthcare = prep_df(healthcare_clean, new_cols={\"Healthy life years in absolute value at birth [Year]\": \"healthcare\"})\n",
    "education = prep_df(education_clean, new_cols={\"Tertiary education (levels 5-8) [Percentage]\": \"education\"})\n",
    "safety = prep_df(safety_clean, new_cols={\"Unlawful acts involving controlled drugs or precursors [Number]\": \"safety\"})\n",
    "environment = prep_df(env_clean, new_cols={\"Total (excluding memo items) [Tonnes per capita]\": \"environment\"})\n",
    "infrastructure = prep_df(inf_clean, new_cols={\"Thousand passengers\": \"infrastructure\"})\n",
    "qol = prep_df(qol_clean, time_col=\"Year\", country_col=\"Country name\", new_cols={\"Ladder score\": \"qol\"})\n",
    "\n",
    "dfs = [healthcare, education, safety, environment, qol]\n",
    "combined = reduce(lambda left, right: pd.merge(left, right, on=[\"country\", \"year\"], how=\"outer\"), dfs)\n",
    "\n",
    "combined = combined.dropna(subset=[\"qol\", \"healthcare\", \"education\", \"safety\", \"environment\"])\n",
    "\n",
    "combined.to_csv(\"test_noinf.csv\")"
   ]
  },
  {
   "cell_type": "code",
   "execution_count": 39,
   "id": "5283a5b7",
   "metadata": {},
   "outputs": [
    {
     "data": {
      "text/html": [
       "<div>\n",
       "<style scoped>\n",
       "    .dataframe tbody tr th:only-of-type {\n",
       "        vertical-align: middle;\n",
       "    }\n",
       "\n",
       "    .dataframe tbody tr th {\n",
       "        vertical-align: top;\n",
       "    }\n",
       "\n",
       "    .dataframe thead th {\n",
       "        text-align: right;\n",
       "    }\n",
       "</style>\n",
       "<table border=\"1\" class=\"dataframe\">\n",
       "  <thead>\n",
       "    <tr style=\"text-align: right;\">\n",
       "      <th></th>\n",
       "      <th>country</th>\n",
       "      <th>healthcare</th>\n",
       "      <th>education</th>\n",
       "      <th>safety</th>\n",
       "      <th>environment</th>\n",
       "      <th>infrastructure</th>\n",
       "      <th>qol</th>\n",
       "    </tr>\n",
       "  </thead>\n",
       "  <tbody>\n",
       "    <tr>\n",
       "      <th>0</th>\n",
       "      <td>Austria</td>\n",
       "      <td>-0.639494</td>\n",
       "      <td>0.196076</td>\n",
       "      <td>-0.002353</td>\n",
       "      <td>0.103148</td>\n",
       "      <td>-0.036528</td>\n",
       "      <td>1.031059</td>\n",
       "    </tr>\n",
       "    <tr>\n",
       "      <th>1</th>\n",
       "      <td>Belgium</td>\n",
       "      <td>0.397754</td>\n",
       "      <td>0.559966</td>\n",
       "      <td>-0.265802</td>\n",
       "      <td>0.755066</td>\n",
       "      <td>-0.107679</td>\n",
       "      <td>0.925374</td>\n",
       "    </tr>\n",
       "    <tr>\n",
       "      <th>2</th>\n",
       "      <td>Bulgaria</td>\n",
       "      <td>0.695105</td>\n",
       "      <td>-0.490873</td>\n",
       "      <td>-0.408868</td>\n",
       "      <td>-0.295115</td>\n",
       "      <td>-0.478282</td>\n",
       "      <td>-2.188458</td>\n",
       "    </tr>\n",
       "    <tr>\n",
       "      <th>3</th>\n",
       "      <td>Croatia</td>\n",
       "      <td>-0.625571</td>\n",
       "      <td>-0.815946</td>\n",
       "      <td>-0.346692</td>\n",
       "      <td>-0.878285</td>\n",
       "      <td>-0.478030</td>\n",
       "      <td>-0.988782</td>\n",
       "    </tr>\n",
       "    <tr>\n",
       "      <th>4</th>\n",
       "      <td>Czechia</td>\n",
       "      <td>0.202835</td>\n",
       "      <td>-0.861586</td>\n",
       "      <td>-0.403808</td>\n",
       "      <td>0.864114</td>\n",
       "      <td>-0.212280</td>\n",
       "      <td>0.366616</td>\n",
       "    </tr>\n",
       "    <tr>\n",
       "      <th>5</th>\n",
       "      <td>Denmark</td>\n",
       "      <td>-0.507227</td>\n",
       "      <td>0.605494</td>\n",
       "      <td>-0.053898</td>\n",
       "      <td>0.176637</td>\n",
       "      <td>-0.175670</td>\n",
       "      <td>1.585041</td>\n",
       "    </tr>\n",
       "    <tr>\n",
       "      <th>6</th>\n",
       "      <td>Estonia</td>\n",
       "      <td>-1.224251</td>\n",
       "      <td>0.714896</td>\n",
       "      <td>-0.410074</td>\n",
       "      <td>1.449656</td>\n",
       "      <td>-0.506644</td>\n",
       "      <td>-0.781233</td>\n",
       "    </tr>\n",
       "    <tr>\n",
       "      <th>7</th>\n",
       "      <td>Finland</td>\n",
       "      <td>-0.846346</td>\n",
       "      <td>0.999139</td>\n",
       "      <td>-0.073567</td>\n",
       "      <td>0.288056</td>\n",
       "      <td>-0.384374</td>\n",
       "      <td>1.604864</td>\n",
       "    </tr>\n",
       "    <tr>\n",
       "      <th>8</th>\n",
       "      <td>France</td>\n",
       "      <td>0.529026</td>\n",
       "      <td>0.977471</td>\n",
       "      <td>2.302046</td>\n",
       "      <td>-0.556593</td>\n",
       "      <td>1.509478</td>\n",
       "      <td>0.257014</td>\n",
       "    </tr>\n",
       "    <tr>\n",
       "      <th>9</th>\n",
       "      <td>Germany</td>\n",
       "      <td>0.332118</td>\n",
       "      <td>-0.305292</td>\n",
       "      <td>4.302712</td>\n",
       "      <td>0.657871</td>\n",
       "      <td>4.043695</td>\n",
       "      <td>0.663012</td>\n",
       "    </tr>\n",
       "    <tr>\n",
       "      <th>10</th>\n",
       "      <td>Greece</td>\n",
       "      <td>0.803504</td>\n",
       "      <td>-0.087048</td>\n",
       "      <td>-0.297268</td>\n",
       "      <td>0.013065</td>\n",
       "      <td>-0.492448</td>\n",
       "      <td>-1.199794</td>\n",
       "    </tr>\n",
       "    <tr>\n",
       "      <th>11</th>\n",
       "      <td>Hungary</td>\n",
       "      <td>-0.510211</td>\n",
       "      <td>-1.008909</td>\n",
       "      <td>-0.388691</td>\n",
       "      <td>-0.627001</td>\n",
       "      <td>-0.255470</td>\n",
       "      <td>-2.061317</td>\n",
       "    </tr>\n",
       "    <tr>\n",
       "      <th>12</th>\n",
       "      <td>Ireland</td>\n",
       "      <td>1.302735</td>\n",
       "      <td>1.765846</td>\n",
       "      <td>-0.210023</td>\n",
       "      <td>1.295566</td>\n",
       "      <td>-0.451392</td>\n",
       "      <td>0.814315</td>\n",
       "    </tr>\n",
       "    <tr>\n",
       "      <th>13</th>\n",
       "      <td>Italy</td>\n",
       "      <td>0.927218</td>\n",
       "      <td>-1.287123</td>\n",
       "      <td>0.044105</td>\n",
       "      <td>-0.439248</td>\n",
       "      <td>0.860526</td>\n",
       "      <td>-0.290364</td>\n",
       "    </tr>\n",
       "    <tr>\n",
       "      <th>14</th>\n",
       "      <td>Latvia</td>\n",
       "      <td>-1.756300</td>\n",
       "      <td>0.246750</td>\n",
       "      <td>-0.440405</td>\n",
       "      <td>-0.733678</td>\n",
       "      <td>-0.487661</td>\n",
       "      <td>-0.946985</td>\n",
       "    </tr>\n",
       "    <tr>\n",
       "      <th>15</th>\n",
       "      <td>Lithuania</td>\n",
       "      <td>-0.753859</td>\n",
       "      <td>1.013457</td>\n",
       "      <td>-0.434179</td>\n",
       "      <td>-0.970739</td>\n",
       "      <td>-0.510842</td>\n",
       "      <td>-0.495823</td>\n",
       "    </tr>\n",
       "    <tr>\n",
       "      <th>16</th>\n",
       "      <td>Luxembourg</td>\n",
       "      <td>0.150127</td>\n",
       "      <td>1.304189</td>\n",
       "      <td>-0.420961</td>\n",
       "      <td>2.241440</td>\n",
       "      <td>-0.480964</td>\n",
       "      <td>0.893848</td>\n",
       "    </tr>\n",
       "    <tr>\n",
       "      <th>17</th>\n",
       "      <td>Poland</td>\n",
       "      <td>-0.003355</td>\n",
       "      <td>-0.449446</td>\n",
       "      <td>0.527674</td>\n",
       "      <td>0.290031</td>\n",
       "      <td>-0.034993</td>\n",
       "      <td>-0.679628</td>\n",
       "    </tr>\n",
       "    <tr>\n",
       "      <th>18</th>\n",
       "      <td>Portugal</td>\n",
       "      <td>-0.587780</td>\n",
       "      <td>-0.487181</td>\n",
       "      <td>-0.395965</td>\n",
       "      <td>-0.570106</td>\n",
       "      <td>-0.268069</td>\n",
       "      <td>-1.160625</td>\n",
       "    </tr>\n",
       "    <tr>\n",
       "      <th>19</th>\n",
       "      <td>Romania</td>\n",
       "      <td>-0.619604</td>\n",
       "      <td>-1.497861</td>\n",
       "      <td>-0.387131</td>\n",
       "      <td>-1.181724</td>\n",
       "      <td>-0.404818</td>\n",
       "      <td>-0.771560</td>\n",
       "    </tr>\n",
       "    <tr>\n",
       "      <th>20</th>\n",
       "      <td>Slovakia</td>\n",
       "      <td>-1.346572</td>\n",
       "      <td>-0.756994</td>\n",
       "      <td>-0.454742</td>\n",
       "      <td>-0.463428</td>\n",
       "      <td>-0.409709</td>\n",
       "      <td>-0.340818</td>\n",
       "    </tr>\n",
       "    <tr>\n",
       "      <th>21</th>\n",
       "      <td>Slovenia</td>\n",
       "      <td>-0.491315</td>\n",
       "      <td>0.110166</td>\n",
       "      <td>-0.453379</td>\n",
       "      <td>-0.290374</td>\n",
       "      <td>-0.494557</td>\n",
       "      <td>-0.354432</td>\n",
       "    </tr>\n",
       "    <tr>\n",
       "      <th>22</th>\n",
       "      <td>Spain</td>\n",
       "      <td>0.896986</td>\n",
       "      <td>0.759305</td>\n",
       "      <td>-0.246680</td>\n",
       "      <td>-0.653077</td>\n",
       "      <td>0.460518</td>\n",
       "      <td>0.017914</td>\n",
       "    </tr>\n",
       "    <tr>\n",
       "      <th>23</th>\n",
       "      <td>Sweden</td>\n",
       "      <td>2.046312</td>\n",
       "      <td>1.162660</td>\n",
       "      <td>1.155663</td>\n",
       "      <td>-2.014283</td>\n",
       "      <td>-0.132681</td>\n",
       "      <td>1.232757</td>\n",
       "    </tr>\n",
       "  </tbody>\n",
       "</table>\n",
       "</div>"
      ],
      "text/plain": [
       "       country  healthcare  education    safety  environment  infrastructure  \\\n",
       "0      Austria   -0.639494   0.196076 -0.002353     0.103148       -0.036528   \n",
       "1      Belgium    0.397754   0.559966 -0.265802     0.755066       -0.107679   \n",
       "2     Bulgaria    0.695105  -0.490873 -0.408868    -0.295115       -0.478282   \n",
       "3      Croatia   -0.625571  -0.815946 -0.346692    -0.878285       -0.478030   \n",
       "4      Czechia    0.202835  -0.861586 -0.403808     0.864114       -0.212280   \n",
       "5      Denmark   -0.507227   0.605494 -0.053898     0.176637       -0.175670   \n",
       "6      Estonia   -1.224251   0.714896 -0.410074     1.449656       -0.506644   \n",
       "7      Finland   -0.846346   0.999139 -0.073567     0.288056       -0.384374   \n",
       "8       France    0.529026   0.977471  2.302046    -0.556593        1.509478   \n",
       "9      Germany    0.332118  -0.305292  4.302712     0.657871        4.043695   \n",
       "10      Greece    0.803504  -0.087048 -0.297268     0.013065       -0.492448   \n",
       "11     Hungary   -0.510211  -1.008909 -0.388691    -0.627001       -0.255470   \n",
       "12     Ireland    1.302735   1.765846 -0.210023     1.295566       -0.451392   \n",
       "13       Italy    0.927218  -1.287123  0.044105    -0.439248        0.860526   \n",
       "14      Latvia   -1.756300   0.246750 -0.440405    -0.733678       -0.487661   \n",
       "15   Lithuania   -0.753859   1.013457 -0.434179    -0.970739       -0.510842   \n",
       "16  Luxembourg    0.150127   1.304189 -0.420961     2.241440       -0.480964   \n",
       "17      Poland   -0.003355  -0.449446  0.527674     0.290031       -0.034993   \n",
       "18    Portugal   -0.587780  -0.487181 -0.395965    -0.570106       -0.268069   \n",
       "19     Romania   -0.619604  -1.497861 -0.387131    -1.181724       -0.404818   \n",
       "20    Slovakia   -1.346572  -0.756994 -0.454742    -0.463428       -0.409709   \n",
       "21    Slovenia   -0.491315   0.110166 -0.453379    -0.290374       -0.494557   \n",
       "22       Spain    0.896986   0.759305 -0.246680    -0.653077        0.460518   \n",
       "23      Sweden    2.046312   1.162660  1.155663    -2.014283       -0.132681   \n",
       "\n",
       "         qol  \n",
       "0   1.031059  \n",
       "1   0.925374  \n",
       "2  -2.188458  \n",
       "3  -0.988782  \n",
       "4   0.366616  \n",
       "5   1.585041  \n",
       "6  -0.781233  \n",
       "7   1.604864  \n",
       "8   0.257014  \n",
       "9   0.663012  \n",
       "10 -1.199794  \n",
       "11 -2.061317  \n",
       "12  0.814315  \n",
       "13 -0.290364  \n",
       "14 -0.946985  \n",
       "15 -0.495823  \n",
       "16  0.893848  \n",
       "17 -0.679628  \n",
       "18 -1.160625  \n",
       "19 -0.771560  \n",
       "20 -0.340818  \n",
       "21 -0.354432  \n",
       "22  0.017914  \n",
       "23  1.232757  "
      ]
     },
     "execution_count": 39,
     "metadata": {},
     "output_type": "execute_result"
    }
   ],
   "source": [
    "# Averaged df\n",
    "avgs = combined.drop(columns=['year']).groupby('country').mean(numeric_only=True).reset_index()\n",
    "avgs\n"
   ]
  },
  {
   "cell_type": "markdown",
   "id": "69626c8f",
   "metadata": {},
   "source": [
    "# Plotting\n",
    "Here, I want to plot quality of life against all other factors to see if there is any direct relationship between them that is immediately visible."
   ]
  },
  {
   "cell_type": "code",
   "execution_count": 17,
   "id": "792fa487",
   "metadata": {},
   "outputs": [
    {
     "data": {
      "application/vnd.plotly.v1+json": {
       "config": {
        "plotlyServerURL": "https://plot.ly"
       },
       "data": [
        {
         "customdata": [
          [
           "Austria",
           2011
          ],
          [
           "Austria",
           2012
          ],
          [
           "Austria",
           2014
          ],
          [
           "Austria",
           2015
          ],
          [
           "Austria",
           2016
          ],
          [
           "Austria",
           2017
          ],
          [
           "Austria",
           2018
          ],
          [
           "Austria",
           2019
          ],
          [
           "Austria",
           2020
          ],
          [
           "Austria",
           2021
          ],
          [
           "Austria",
           2022
          ],
          [
           "Belgium",
           2011
          ],
          [
           "Bulgaria",
           2011
          ],
          [
           "Bulgaria",
           2012
          ],
          [
           "Bulgaria",
           2014
          ],
          [
           "Bulgaria",
           2015
          ],
          [
           "Bulgaria",
           2016
          ],
          [
           "Bulgaria",
           2017
          ],
          [
           "Bulgaria",
           2018
          ],
          [
           "Bulgaria",
           2019
          ],
          [
           "Bulgaria",
           2020
          ],
          [
           "Bulgaria",
           2021
          ],
          [
           "Bulgaria",
           2022
          ],
          [
           "Croatia",
           2011
          ],
          [
           "Croatia",
           2012
          ],
          [
           "Croatia",
           2014
          ],
          [
           "Croatia",
           2015
          ],
          [
           "Croatia",
           2016
          ],
          [
           "Croatia",
           2017
          ],
          [
           "Croatia",
           2018
          ],
          [
           "Croatia",
           2019
          ],
          [
           "Croatia",
           2020
          ],
          [
           "Croatia",
           2021
          ],
          [
           "Croatia",
           2022
          ],
          [
           "Czechia",
           2011
          ],
          [
           "Czechia",
           2012
          ],
          [
           "Czechia",
           2014
          ],
          [
           "Czechia",
           2015
          ],
          [
           "Czechia",
           2016
          ],
          [
           "Czechia",
           2017
          ],
          [
           "Czechia",
           2018
          ],
          [
           "Czechia",
           2019
          ],
          [
           "Czechia",
           2020
          ],
          [
           "Czechia",
           2021
          ],
          [
           "Czechia",
           2022
          ],
          [
           "Denmark",
           2011
          ],
          [
           "Denmark",
           2012
          ],
          [
           "Denmark",
           2014
          ],
          [
           "Denmark",
           2015
          ],
          [
           "Denmark",
           2016
          ],
          [
           "Denmark",
           2017
          ],
          [
           "Denmark",
           2018
          ],
          [
           "Denmark",
           2019
          ],
          [
           "Denmark",
           2020
          ],
          [
           "Denmark",
           2021
          ],
          [
           "Denmark",
           2022
          ],
          [
           "Estonia",
           2011
          ],
          [
           "Estonia",
           2012
          ],
          [
           "Estonia",
           2014
          ],
          [
           "Estonia",
           2015
          ],
          [
           "Estonia",
           2016
          ],
          [
           "Estonia",
           2017
          ],
          [
           "Estonia",
           2018
          ],
          [
           "Estonia",
           2019
          ],
          [
           "Estonia",
           2020
          ],
          [
           "Estonia",
           2021
          ],
          [
           "Estonia",
           2022
          ],
          [
           "Finland",
           2011
          ],
          [
           "Finland",
           2012
          ],
          [
           "Finland",
           2014
          ],
          [
           "Finland",
           2015
          ],
          [
           "Finland",
           2016
          ],
          [
           "Finland",
           2017
          ],
          [
           "Finland",
           2018
          ],
          [
           "Finland",
           2019
          ],
          [
           "Finland",
           2020
          ],
          [
           "Finland",
           2021
          ],
          [
           "Finland",
           2022
          ],
          [
           "France",
           2012
          ],
          [
           "France",
           2014
          ],
          [
           "France",
           2015
          ],
          [
           "France",
           2016
          ],
          [
           "France",
           2017
          ],
          [
           "France",
           2018
          ],
          [
           "France",
           2019
          ],
          [
           "France",
           2020
          ],
          [
           "France",
           2021
          ],
          [
           "France",
           2022
          ],
          [
           "Germany",
           2011
          ],
          [
           "Germany",
           2012
          ],
          [
           "Germany",
           2014
          ],
          [
           "Germany",
           2015
          ],
          [
           "Germany",
           2016
          ],
          [
           "Germany",
           2017
          ],
          [
           "Germany",
           2018
          ],
          [
           "Germany",
           2019
          ],
          [
           "Germany",
           2020
          ],
          [
           "Germany",
           2021
          ],
          [
           "Germany",
           2022
          ],
          [
           "Greece",
           2011
          ],
          [
           "Greece",
           2012
          ],
          [
           "Greece",
           2014
          ],
          [
           "Greece",
           2015
          ],
          [
           "Greece",
           2016
          ],
          [
           "Greece",
           2017
          ],
          [
           "Greece",
           2018
          ],
          [
           "Greece",
           2019
          ],
          [
           "Greece",
           2020
          ],
          [
           "Greece",
           2021
          ],
          [
           "Greece",
           2022
          ],
          [
           "Hungary",
           2011
          ],
          [
           "Hungary",
           2012
          ],
          [
           "Hungary",
           2014
          ],
          [
           "Ireland",
           2011
          ],
          [
           "Ireland",
           2012
          ],
          [
           "Ireland",
           2014
          ],
          [
           "Ireland",
           2015
          ],
          [
           "Ireland",
           2016
          ],
          [
           "Ireland",
           2017
          ],
          [
           "Ireland",
           2018
          ],
          [
           "Ireland",
           2019
          ],
          [
           "Ireland",
           2020
          ],
          [
           "Ireland",
           2021
          ],
          [
           "Ireland",
           2022
          ],
          [
           "Italy",
           2012
          ],
          [
           "Italy",
           2014
          ],
          [
           "Italy",
           2015
          ],
          [
           "Italy",
           2016
          ],
          [
           "Italy",
           2017
          ],
          [
           "Italy",
           2018
          ],
          [
           "Italy",
           2019
          ],
          [
           "Italy",
           2020
          ],
          [
           "Italy",
           2021
          ],
          [
           "Italy",
           2022
          ],
          [
           "Latvia",
           2011
          ],
          [
           "Latvia",
           2012
          ],
          [
           "Latvia",
           2014
          ],
          [
           "Latvia",
           2015
          ],
          [
           "Latvia",
           2016
          ],
          [
           "Latvia",
           2017
          ],
          [
           "Latvia",
           2018
          ],
          [
           "Latvia",
           2019
          ],
          [
           "Latvia",
           2020
          ],
          [
           "Latvia",
           2021
          ],
          [
           "Latvia",
           2022
          ],
          [
           "Lithuania",
           2011
          ],
          [
           "Lithuania",
           2012
          ],
          [
           "Lithuania",
           2014
          ],
          [
           "Lithuania",
           2015
          ],
          [
           "Lithuania",
           2016
          ],
          [
           "Lithuania",
           2017
          ],
          [
           "Lithuania",
           2018
          ],
          [
           "Lithuania",
           2019
          ],
          [
           "Lithuania",
           2020
          ],
          [
           "Lithuania",
           2021
          ],
          [
           "Lithuania",
           2022
          ],
          [
           "Luxembourg",
           2011
          ],
          [
           "Luxembourg",
           2012
          ],
          [
           "Luxembourg",
           2014
          ],
          [
           "Luxembourg",
           2015
          ],
          [
           "Luxembourg",
           2016
          ],
          [
           "Luxembourg",
           2017
          ],
          [
           "Luxembourg",
           2018
          ],
          [
           "Luxembourg",
           2019
          ],
          [
           "Luxembourg",
           2020
          ],
          [
           "Luxembourg",
           2021
          ],
          [
           "Luxembourg",
           2022
          ],
          [
           "Poland",
           2011
          ],
          [
           "Poland",
           2012
          ],
          [
           "Poland",
           2014
          ],
          [
           "Poland",
           2015
          ],
          [
           "Poland",
           2016
          ],
          [
           "Poland",
           2017
          ],
          [
           "Portugal",
           2011
          ],
          [
           "Portugal",
           2012
          ],
          [
           "Portugal",
           2014
          ],
          [
           "Portugal",
           2015
          ],
          [
           "Portugal",
           2016
          ],
          [
           "Portugal",
           2017
          ],
          [
           "Portugal",
           2018
          ],
          [
           "Portugal",
           2019
          ],
          [
           "Portugal",
           2020
          ],
          [
           "Portugal",
           2021
          ],
          [
           "Portugal",
           2022
          ],
          [
           "Romania",
           2011
          ],
          [
           "Romania",
           2012
          ],
          [
           "Romania",
           2014
          ],
          [
           "Romania",
           2015
          ],
          [
           "Romania",
           2016
          ],
          [
           "Romania",
           2017
          ],
          [
           "Romania",
           2018
          ],
          [
           "Romania",
           2019
          ],
          [
           "Romania",
           2020
          ],
          [
           "Romania",
           2021
          ],
          [
           "Romania",
           2022
          ],
          [
           "Slovakia",
           2011
          ],
          [
           "Slovakia",
           2012
          ],
          [
           "Slovakia",
           2014
          ],
          [
           "Slovakia",
           2015
          ],
          [
           "Slovakia",
           2016
          ],
          [
           "Slovakia",
           2017
          ],
          [
           "Slovakia",
           2018
          ],
          [
           "Slovakia",
           2019
          ],
          [
           "Slovakia",
           2020
          ],
          [
           "Slovakia",
           2021
          ],
          [
           "Slovakia",
           2022
          ],
          [
           "Slovenia",
           2011
          ],
          [
           "Slovenia",
           2012
          ],
          [
           "Slovenia",
           2014
          ],
          [
           "Slovenia",
           2015
          ],
          [
           "Slovenia",
           2016
          ],
          [
           "Slovenia",
           2017
          ],
          [
           "Slovenia",
           2018
          ],
          [
           "Slovenia",
           2019
          ],
          [
           "Slovenia",
           2020
          ],
          [
           "Slovenia",
           2021
          ],
          [
           "Slovenia",
           2022
          ],
          [
           "Spain",
           2011
          ],
          [
           "Spain",
           2012
          ],
          [
           "Spain",
           2014
          ],
          [
           "Spain",
           2015
          ],
          [
           "Spain",
           2016
          ],
          [
           "Spain",
           2017
          ],
          [
           "Spain",
           2018
          ],
          [
           "Spain",
           2019
          ],
          [
           "Spain",
           2020
          ],
          [
           "Spain",
           2021
          ],
          [
           "Spain",
           2022
          ],
          [
           "Sweden",
           2011
          ],
          [
           "Sweden",
           2014
          ],
          [
           "Sweden",
           2015
          ],
          [
           "Sweden",
           2016
          ],
          [
           "Sweden",
           2017
          ],
          [
           "Sweden",
           2018
          ],
          [
           "Sweden",
           2019
          ],
          [
           "Sweden",
           2020
          ],
          [
           "Sweden",
           2021
          ],
          [
           "Sweden",
           2022
          ]
         ],
         "hovertemplate": "Life Expectancy=%{x}<br>Quality of Life=%{y}<br>country=%{customdata[0]}<br>year=%{marker.color}<extra></extra>",
         "legendgroup": "",
         "marker": {
          "color": [
           2011,
           2012,
           2014,
           2015,
           2016,
           2017,
           2018,
           2019,
           2020,
           2021,
           2022,
           2011,
           2011,
           2012,
           2014,
           2015,
           2016,
           2017,
           2018,
           2019,
           2020,
           2021,
           2022,
           2011,
           2012,
           2014,
           2015,
           2016,
           2017,
           2018,
           2019,
           2020,
           2021,
           2022,
           2011,
           2012,
           2014,
           2015,
           2016,
           2017,
           2018,
           2019,
           2020,
           2021,
           2022,
           2011,
           2012,
           2014,
           2015,
           2016,
           2017,
           2018,
           2019,
           2020,
           2021,
           2022,
           2011,
           2012,
           2014,
           2015,
           2016,
           2017,
           2018,
           2019,
           2020,
           2021,
           2022,
           2011,
           2012,
           2014,
           2015,
           2016,
           2017,
           2018,
           2019,
           2020,
           2021,
           2022,
           2012,
           2014,
           2015,
           2016,
           2017,
           2018,
           2019,
           2020,
           2021,
           2022,
           2011,
           2012,
           2014,
           2015,
           2016,
           2017,
           2018,
           2019,
           2020,
           2021,
           2022,
           2011,
           2012,
           2014,
           2015,
           2016,
           2017,
           2018,
           2019,
           2020,
           2021,
           2022,
           2011,
           2012,
           2014,
           2011,
           2012,
           2014,
           2015,
           2016,
           2017,
           2018,
           2019,
           2020,
           2021,
           2022,
           2012,
           2014,
           2015,
           2016,
           2017,
           2018,
           2019,
           2020,
           2021,
           2022,
           2011,
           2012,
           2014,
           2015,
           2016,
           2017,
           2018,
           2019,
           2020,
           2021,
           2022,
           2011,
           2012,
           2014,
           2015,
           2016,
           2017,
           2018,
           2019,
           2020,
           2021,
           2022,
           2011,
           2012,
           2014,
           2015,
           2016,
           2017,
           2018,
           2019,
           2020,
           2021,
           2022,
           2011,
           2012,
           2014,
           2015,
           2016,
           2017,
           2011,
           2012,
           2014,
           2015,
           2016,
           2017,
           2018,
           2019,
           2020,
           2021,
           2022,
           2011,
           2012,
           2014,
           2015,
           2016,
           2017,
           2018,
           2019,
           2020,
           2021,
           2022,
           2011,
           2012,
           2014,
           2015,
           2016,
           2017,
           2018,
           2019,
           2020,
           2021,
           2022,
           2011,
           2012,
           2014,
           2015,
           2016,
           2017,
           2018,
           2019,
           2020,
           2021,
           2022,
           2011,
           2012,
           2014,
           2015,
           2016,
           2017,
           2018,
           2019,
           2020,
           2021,
           2022,
           2011,
           2014,
           2015,
           2016,
           2017,
           2018,
           2019,
           2020,
           2021,
           2022
          ],
          "coloraxis": "coloraxis",
          "opacity": 0.5,
          "symbol": "circle"
         },
         "mode": "markers",
         "name": "",
         "orientation": "v",
         "showlegend": false,
         "type": "scatter",
         "x": [
          -0.4117565241024149,
          -0.0726371764091414,
          -0.8712085435578153,
          -0.8055725407784728,
          -1.0134198829130598,
          -1.0024805491165034,
          -1.0462378843027311,
          -0.9477838801337158,
          -0.6414825338301151,
          -0.06169784261258484,
          -0.16015184678159852,
          0.39775417684281705,
          0.5071475148083889,
          0.48526884721527574,
          0.5180868486049455,
          0.34305750786003114,
          0.8900241976878902,
          0.6274801865705173,
          0.9009635314844467,
          1.0322355370431349,
          0.8790848638913337,
          0.3649361754531443,
          1.0978715398224772,
          -0.20390918196782787,
          0.2993001726738018,
          -0.5211498620679867,
          -1.2322065588442035,
          -0.8274512083715859,
          -0.8821478773543734,
          -0.9149658787440447,
          -0.9259052125406012,
          -0.6852398690163445,
          -0.6743005352197879,
          -0.3133025199333997,
          0.26648217128413215,
          0.33211817406347305,
          0.5509048499946182,
          0.2993001726738018,
          0.36493617545314583,
          -0.03981917501947017,
          0.2446035036910159,
          0.10239216433577443,
          0.00393816016675918,
          0.0805134967426582,
          0.025816827759872298,
          0.025816827759872298,
          -0.0726371764091414,
          -0.18203051437471476,
          -0.5867858648473292,
          -0.30236318613684315,
          -0.4226958578989715,
          -0.19296984817127133,
          -0.6086645324404439,
          -0.8274512083715859,
          -1.1337525546751883,
          -1.2759638940304312,
          -1.2322065588442035,
          -1.429114567182231,
          -1.429114567182231,
          -1.4619325685719038,
          -1.0899952194889588,
          -1.2540852264373166,
          -1.7135372458927185,
          -1.2869032278269894,
          -0.9040265449474881,
          -1.1446918884717447,
          -0.5211498620679867,
          -0.8055725407784728,
          -1.0790558856924024,
          -0.7836938731853582,
          -0.8383905421681456,
          -0.7946332069819163,
          -0.9477838801337174,
          -0.9696625477268306,
          -1.1884492236579742,
          -1.0681165518958458,
          -0.0070011736297973795,
          -0.8274512083715875,
          0.3321181740634746,
          0.46339017962215956,
          0.4196328444359302,
          0.3649361754531443,
          0.4415115120290464,
          0.49620818101183234,
          0.5399655161980617,
          0.6384195203670738,
          0.9884782018569055,
          0.6056015189774041,
          -0.7618152055922435,
          -0.8930872111509315,
          -1.1446918884717447,
          1.0322355370431349,
          1.0103568694500187,
          0.922842199077563,
          0.8790848638913306,
          0.999417535653462,
          0.8900241976878902,
          0.8572061962982175,
          -0.13827317918848542,
          1.0650535384328077,
          0.6931161893498597,
          0.6165408527739606,
          0.5071475148083889,
          0.5618441837911747,
          0.6712375217567466,
          0.8243881949085478,
          0.9447208666706761,
          0.922842199077563,
          0.8681455300947771,
          1.1635075426018198,
          -0.7071185366094576,
          -0.4226958578989715,
          -0.40081719030585683,
          1.207264877788046,
          1.2182042115846057,
          1.1416288750087067,
          1.2182042115846057,
          1.4916875564985352,
          1.5135662240916483,
          1.677656231040006,
          1.7214135662262353,
          0.9884782018569024,
          1.207264877788049,
          0.9447208666706761,
          0.014877493963315738,
          0.15708883331855877,
          0.21178550230134624,
          1.2510222129742785,
          1.0103568694500218,
          1.130689541212147,
          1.4588695551088624,
          1.3713548847364068,
          1.4041728861260765,
          1.2619615467708318,
          -1.440053900978789,
          -1.0681165518958458,
          -1.811991250061734,
          -1.9104452542307475,
          -1.768233914875506,
          -2.2495646019240194,
          -2.041717259789434,
          -1.8666879190445183,
          -1.8010519162651757,
          -1.7244765796892767,
          -1.636961909316818,
          -0.47739252688175743,
          -0.5649071972542146,
          -0.4445745254920846,
          -1.1446918884717447,
          -0.8493298759647022,
          -0.7836938731853598,
          -0.8712085435578153,
          -0.9040265449474881,
          -1.0462378843027296,
          -0.8930872111509315,
          -0.3133025199333997,
          1.0431748708396882,
          0.9665995342637892,
          0.45245084582560297,
          0.10239216433577443,
          -0.3351811875265144,
          -0.5649071972542146,
          -0.23672718335750068,
          0.18990683470823,
          0.3321181740634746,
          0.058634829149545084,
          -0.357059855119629,
          -0.11639451159536919,
          -0.16015184678159852,
          -0.09451584400225607,
          -0.0070011736297973795,
          0.27742150508068714,
          0.0805134967426582,
          -0.4445745254920846,
          0.40869351063937365,
          -1.0462378843027311,
          -1.1118738870820737,
          -0.6633612014232297,
          -0.6852398690163445,
          -0.6633612014232297,
          -0.5430285296610998,
          -0.4226958578989715,
          -0.7289972042025739,
          -0.5649071972542146,
          -0.9806018815233871,
          -0.8930872111509299,
          -0.5867858648473292,
          -0.553967863457658,
          -0.49927119447487206,
          -0.6524218676266716,
          -0.4992711944748705,
          -0.3133025199333997,
          -0.3898778565093003,
          -0.8602692097612588,
          -0.5867858648473292,
          -2.074535261179105,
          -1.844809251451405,
          -1.4509932347753471,
          -1.4728719023684602,
          -1.0899952194889588,
          -1.3306605630132171,
          -1.2322065588442035,
          -1.2103278912510889,
          -1.0899952194889588,
          -1.0571772180992878,
          -0.958723213930274,
          -1.702597912096162,
          -1.2322065588442035,
          -0.6524218676266716,
          -0.7836938731853582,
          -0.7399365379991304,
          -1.4728719023684602,
          -1.3634785644028884,
          -0.14921251298504198,
          0.7478128583326457,
          0.8353275287051043,
          1.1088108736190339,
          0.8353275287051043,
          0.7915701935188749,
          0.7259341907395325,
          0.5071475148083889,
          0.9884782018569055,
          1.6995348986331222,
          1.3822942185329634,
          1.7979889028021374,
          1.0103568694500187,
          0.2446035036910159,
          -0.11639451159536919,
          0.8243881949085446,
          2.454348930595568,
          2.3996522616127822,
          2.509045599578354,
          2.3777735940196694,
          2.443409596799009,
          2.5309242671714673,
          2.4215309292058955,
          1.4698088889054222,
          1.0322355370431349
         ],
         "xaxis": "x",
         "y": [
          1.07512469036187,
          1.261656080920897,
          1.0396574541288153,
          0.9332557454296511,
          0.7848187937876085,
          0.9595277722689514,
          1.1000831158592048,
          1.163135980273523,
          1.1289823453824337,
          0.991054204476111,
          0.9043565159064223,
          0.9253741373778621,
          -3.3096765891172453,
          -3.1888252656564666,
          -2.8775017476107654,
          -2.878815348952731,
          -2.225955481996133,
          -1.9382767881058025,
          -1.8358158834325335,
          -1.7162781613137197,
          -1.5008475412314628,
          -1.362919400325139,
          -1.2381272728384658,
          -1.0318918621499635,
          -0.981975011155295,
          -0.8532420796427256,
          -1.209228043315236,
          -1.465380304998408,
          -1.428599467423389,
          -1.282789718465275,
          -1.186896820501832,
          -0.6916691145810335,
          -0.3724639884835421,
          -0.3724639884835421,
          -0.06376767312177058,
          -0.15571976705931978,
          0.12670452146315145,
          0.2462422435819652,
          0.26331906102750985,
          0.3973063979079386,
          0.5825241871250012,
          0.6600266663009343,
          0.7309611387670438,
          0.6718490783786196,
          0.5733289777312456,
          1.901379934457844,
          1.6872629157175514,
          1.4692050929513647,
          1.4678914916093995,
          1.46263708624154,
          1.5059859305263839,
          1.565097990914808,
          1.6255236526451975,
          1.5913700177541081,
          1.612387639225548,
          1.5467075721272991,
          -1.4167770553457038,
          -1.2906713265170653,
          -1.2867305224911703,
          -1.1711336043982516,
          -1.0476550782535439,
          -0.8795141064820259,
          -0.6772194998194185,
          -0.5077649267059351,
          -0.28839350259778307,
          -0.08872609861910542,
          0.061024454364902524,
          1.5375123627335434,
          1.2879281077601972,
          1.3102593305736012,
          1.319454539967357,
          1.393016215117396,
          1.6071332338576874,
          1.7870966177068908,
          1.8396406713854903,
          1.882989515670334,
          1.8554038874890695,
          1.8330726646756654,
          0.4669272690320826,
          0.21865661540070067,
          0.09123728523009673,
          0.043947636919357866,
          0.1056868999917117,
          0.2409878382141047,
          0.3355671348355836,
          0.36972076972667406,
          0.3657799657007789,
          0.33162633080968845,
          0.21471581137480558,
          0.34607594557130344,
          0.4485368502445725,
          0.7690555776840282,
          0.7125707199795337,
          0.7309611387670438,
          0.757233165606344,
          0.8767708877251567,
          0.9805453937403912,
          0.8215996313626276,
          0.6350682408036006,
          -0.3619551777478222,
          -1.278848914439381,
          -2.0381104900951406,
          -1.8069166539093036,
          -1.5520779935680968,
          -1.3799962177706848,
          -1.4732619130501983,
          -1.1737608070821823,
          -0.9005317279534656,
          -0.6049714260113437,
          -0.6273026488247488,
          -1.925140774686153,
          -2.145825800136269,
          -2.1129857665871454,
          1.1499999668538734,
          0.8767708877251567,
          0.6981211052179199,
          0.654772260933075,
          0.7467243548706242,
          0.7467243548706242,
          0.8045228139170829,
          0.9004157118805273,
          0.888593299802842,
          0.8307948407563832,
          0.6600266663009343,
          -0.5090785280479004,
          -0.6049714260113437,
          -0.5668769870943592,
          -0.5839538045399039,
          -0.536664156229165,
          -0.24373105697097389,
          -0.02830043688871701,
          0.0978052919399215,
          0.07678767046848176,
          -0.004655612733346416,
          -2.162902617581815,
          -1.7898398364637589,
          -1.7215325666815802,
          -1.1146487466937582,
          -0.7337043575239129,
          -0.6246754461408192,
          -0.6154802367470635,
          -0.602344223327414,
          -0.4946289132862855,
          -0.3002159146754684,
          -0.25686707039062345,
          -1.077867909118738,
          -1.2906713265170653,
          -0.756035580337317,
          -0.7823076071766173,
          -0.6653970877417332,
          -0.5997170206434843,
          -0.34093755627638245,
          -0.25423986770669377,
          -0.2016958140280944,
          0.049202042287217224,
          0.4656136676901172,
          0.8439308541760328,
          0.8478716582019279,
          0.7060027132697089,
          0.607482612622336,
          0.5969738018866162,
          0.6587130649589701,
          0.8951613065126667,
          1.089574305123485,
          1.202544020532473,
          1.3076321278896716,
          1.0764382917038342,
          -0.7954436205962668,
          -0.770485195098932,
          -0.8112068366998461,
          -0.7534083776533873,
          -0.5721313924622198,
          -0.37509119116747175,
          -1.420717859371599,
          -1.7175917626556851,
          -1.7162781613137197,
          -1.6886925331324552,
          -1.5941132365109763,
          -1.311688947988505,
          -0.9399397682124154,
          -0.653574675664049,
          -0.6299298515086785,
          -0.5156465347577253,
          -0.5786993991720445,
          -1.6164444593243814,
          -1.8069166539093036,
          -1.6873789317904908,
          -1.1566839896366377,
          -0.7665443910730368,
          -0.6089122300372387,
          -0.4447120622916158,
          -0.3737775898255075,
          -0.35275996835406775,
          0.08992368388813247,
          0.23704703418821074,
          -0.9872294165231543,
          -0.5773857978300792,
          -0.5432321629389898,
          -0.43420325155589595,
          -0.4079312247165968,
          -0.30941112406922283,
          -0.27657109052009776,
          -0.1675421791370051,
          -0.10186211203875498,
          -0.02304603152085649,
          0.0794148731524126,
          -0.6391250609024342,
          -0.4578480757112665,
          -0.7363315602078426,
          -0.8414196675650414,
          -0.854555680984691,
          -0.6049714260113437,
          -0.3816591978772966,
          -0.05982686909587548,
          0.06890606241669273,
          0.2909046892087744,
          0.3171767160480747,
          0.4629864650061875,
          -0.11368452411644028,
          -0.10448931472268583,
          -0.06245407177980632,
          -0.007282815417277259,
          -0.12944774022002067,
          -0.07164928117356077,
          -0.009910018101206937,
          0.10831410267564139,
          0.08861008254616705,
          0.03606602886756767,
          1.2747920943405464,
          1.2550880742110722,
          1.1591951762476291,
          1.1499999668538734,
          1.1894080071128232,
          1.2275024460298076,
          1.2406384594494573,
          1.2537744728691078,
          1.2813601010503723,
          1.2958097158119863
         ],
         "yaxis": "y"
        }
       ],
       "layout": {
        "coloraxis": {
         "colorbar": {
          "title": {
           "text": "year"
          }
         },
         "colorscale": [
          [
           0,
           "#0d0887"
          ],
          [
           0.1111111111111111,
           "#46039f"
          ],
          [
           0.2222222222222222,
           "#7201a8"
          ],
          [
           0.3333333333333333,
           "#9c179e"
          ],
          [
           0.4444444444444444,
           "#bd3786"
          ],
          [
           0.5555555555555556,
           "#d8576b"
          ],
          [
           0.6666666666666666,
           "#ed7953"
          ],
          [
           0.7777777777777778,
           "#fb9f3a"
          ],
          [
           0.8888888888888888,
           "#fdca26"
          ],
          [
           1,
           "#f0f921"
          ]
         ]
        },
        "legend": {
         "tracegroupgap": 0
        },
        "template": {
         "data": {
          "bar": [
           {
            "error_x": {
             "color": "#2a3f5f"
            },
            "error_y": {
             "color": "#2a3f5f"
            },
            "marker": {
             "line": {
              "color": "#E5ECF6",
              "width": 0.5
             },
             "pattern": {
              "fillmode": "overlay",
              "size": 10,
              "solidity": 0.2
             }
            },
            "type": "bar"
           }
          ],
          "barpolar": [
           {
            "marker": {
             "line": {
              "color": "#E5ECF6",
              "width": 0.5
             },
             "pattern": {
              "fillmode": "overlay",
              "size": 10,
              "solidity": 0.2
             }
            },
            "type": "barpolar"
           }
          ],
          "carpet": [
           {
            "aaxis": {
             "endlinecolor": "#2a3f5f",
             "gridcolor": "white",
             "linecolor": "white",
             "minorgridcolor": "white",
             "startlinecolor": "#2a3f5f"
            },
            "baxis": {
             "endlinecolor": "#2a3f5f",
             "gridcolor": "white",
             "linecolor": "white",
             "minorgridcolor": "white",
             "startlinecolor": "#2a3f5f"
            },
            "type": "carpet"
           }
          ],
          "choropleth": [
           {
            "colorbar": {
             "outlinewidth": 0,
             "ticks": ""
            },
            "type": "choropleth"
           }
          ],
          "contour": [
           {
            "colorbar": {
             "outlinewidth": 0,
             "ticks": ""
            },
            "colorscale": [
             [
              0,
              "#0d0887"
             ],
             [
              0.1111111111111111,
              "#46039f"
             ],
             [
              0.2222222222222222,
              "#7201a8"
             ],
             [
              0.3333333333333333,
              "#9c179e"
             ],
             [
              0.4444444444444444,
              "#bd3786"
             ],
             [
              0.5555555555555556,
              "#d8576b"
             ],
             [
              0.6666666666666666,
              "#ed7953"
             ],
             [
              0.7777777777777778,
              "#fb9f3a"
             ],
             [
              0.8888888888888888,
              "#fdca26"
             ],
             [
              1,
              "#f0f921"
             ]
            ],
            "type": "contour"
           }
          ],
          "contourcarpet": [
           {
            "colorbar": {
             "outlinewidth": 0,
             "ticks": ""
            },
            "type": "contourcarpet"
           }
          ],
          "heatmap": [
           {
            "colorbar": {
             "outlinewidth": 0,
             "ticks": ""
            },
            "colorscale": [
             [
              0,
              "#0d0887"
             ],
             [
              0.1111111111111111,
              "#46039f"
             ],
             [
              0.2222222222222222,
              "#7201a8"
             ],
             [
              0.3333333333333333,
              "#9c179e"
             ],
             [
              0.4444444444444444,
              "#bd3786"
             ],
             [
              0.5555555555555556,
              "#d8576b"
             ],
             [
              0.6666666666666666,
              "#ed7953"
             ],
             [
              0.7777777777777778,
              "#fb9f3a"
             ],
             [
              0.8888888888888888,
              "#fdca26"
             ],
             [
              1,
              "#f0f921"
             ]
            ],
            "type": "heatmap"
           }
          ],
          "heatmapgl": [
           {
            "colorbar": {
             "outlinewidth": 0,
             "ticks": ""
            },
            "colorscale": [
             [
              0,
              "#0d0887"
             ],
             [
              0.1111111111111111,
              "#46039f"
             ],
             [
              0.2222222222222222,
              "#7201a8"
             ],
             [
              0.3333333333333333,
              "#9c179e"
             ],
             [
              0.4444444444444444,
              "#bd3786"
             ],
             [
              0.5555555555555556,
              "#d8576b"
             ],
             [
              0.6666666666666666,
              "#ed7953"
             ],
             [
              0.7777777777777778,
              "#fb9f3a"
             ],
             [
              0.8888888888888888,
              "#fdca26"
             ],
             [
              1,
              "#f0f921"
             ]
            ],
            "type": "heatmapgl"
           }
          ],
          "histogram": [
           {
            "marker": {
             "pattern": {
              "fillmode": "overlay",
              "size": 10,
              "solidity": 0.2
             }
            },
            "type": "histogram"
           }
          ],
          "histogram2d": [
           {
            "colorbar": {
             "outlinewidth": 0,
             "ticks": ""
            },
            "colorscale": [
             [
              0,
              "#0d0887"
             ],
             [
              0.1111111111111111,
              "#46039f"
             ],
             [
              0.2222222222222222,
              "#7201a8"
             ],
             [
              0.3333333333333333,
              "#9c179e"
             ],
             [
              0.4444444444444444,
              "#bd3786"
             ],
             [
              0.5555555555555556,
              "#d8576b"
             ],
             [
              0.6666666666666666,
              "#ed7953"
             ],
             [
              0.7777777777777778,
              "#fb9f3a"
             ],
             [
              0.8888888888888888,
              "#fdca26"
             ],
             [
              1,
              "#f0f921"
             ]
            ],
            "type": "histogram2d"
           }
          ],
          "histogram2dcontour": [
           {
            "colorbar": {
             "outlinewidth": 0,
             "ticks": ""
            },
            "colorscale": [
             [
              0,
              "#0d0887"
             ],
             [
              0.1111111111111111,
              "#46039f"
             ],
             [
              0.2222222222222222,
              "#7201a8"
             ],
             [
              0.3333333333333333,
              "#9c179e"
             ],
             [
              0.4444444444444444,
              "#bd3786"
             ],
             [
              0.5555555555555556,
              "#d8576b"
             ],
             [
              0.6666666666666666,
              "#ed7953"
             ],
             [
              0.7777777777777778,
              "#fb9f3a"
             ],
             [
              0.8888888888888888,
              "#fdca26"
             ],
             [
              1,
              "#f0f921"
             ]
            ],
            "type": "histogram2dcontour"
           }
          ],
          "mesh3d": [
           {
            "colorbar": {
             "outlinewidth": 0,
             "ticks": ""
            },
            "type": "mesh3d"
           }
          ],
          "parcoords": [
           {
            "line": {
             "colorbar": {
              "outlinewidth": 0,
              "ticks": ""
             }
            },
            "type": "parcoords"
           }
          ],
          "pie": [
           {
            "automargin": true,
            "type": "pie"
           }
          ],
          "scatter": [
           {
            "fillpattern": {
             "fillmode": "overlay",
             "size": 10,
             "solidity": 0.2
            },
            "type": "scatter"
           }
          ],
          "scatter3d": [
           {
            "line": {
             "colorbar": {
              "outlinewidth": 0,
              "ticks": ""
             }
            },
            "marker": {
             "colorbar": {
              "outlinewidth": 0,
              "ticks": ""
             }
            },
            "type": "scatter3d"
           }
          ],
          "scattercarpet": [
           {
            "marker": {
             "colorbar": {
              "outlinewidth": 0,
              "ticks": ""
             }
            },
            "type": "scattercarpet"
           }
          ],
          "scattergeo": [
           {
            "marker": {
             "colorbar": {
              "outlinewidth": 0,
              "ticks": ""
             }
            },
            "type": "scattergeo"
           }
          ],
          "scattergl": [
           {
            "marker": {
             "colorbar": {
              "outlinewidth": 0,
              "ticks": ""
             }
            },
            "type": "scattergl"
           }
          ],
          "scattermapbox": [
           {
            "marker": {
             "colorbar": {
              "outlinewidth": 0,
              "ticks": ""
             }
            },
            "type": "scattermapbox"
           }
          ],
          "scatterpolar": [
           {
            "marker": {
             "colorbar": {
              "outlinewidth": 0,
              "ticks": ""
             }
            },
            "type": "scatterpolar"
           }
          ],
          "scatterpolargl": [
           {
            "marker": {
             "colorbar": {
              "outlinewidth": 0,
              "ticks": ""
             }
            },
            "type": "scatterpolargl"
           }
          ],
          "scatterternary": [
           {
            "marker": {
             "colorbar": {
              "outlinewidth": 0,
              "ticks": ""
             }
            },
            "type": "scatterternary"
           }
          ],
          "surface": [
           {
            "colorbar": {
             "outlinewidth": 0,
             "ticks": ""
            },
            "colorscale": [
             [
              0,
              "#0d0887"
             ],
             [
              0.1111111111111111,
              "#46039f"
             ],
             [
              0.2222222222222222,
              "#7201a8"
             ],
             [
              0.3333333333333333,
              "#9c179e"
             ],
             [
              0.4444444444444444,
              "#bd3786"
             ],
             [
              0.5555555555555556,
              "#d8576b"
             ],
             [
              0.6666666666666666,
              "#ed7953"
             ],
             [
              0.7777777777777778,
              "#fb9f3a"
             ],
             [
              0.8888888888888888,
              "#fdca26"
             ],
             [
              1,
              "#f0f921"
             ]
            ],
            "type": "surface"
           }
          ],
          "table": [
           {
            "cells": {
             "fill": {
              "color": "#EBF0F8"
             },
             "line": {
              "color": "white"
             }
            },
            "header": {
             "fill": {
              "color": "#C8D4E3"
             },
             "line": {
              "color": "white"
             }
            },
            "type": "table"
           }
          ]
         },
         "layout": {
          "annotationdefaults": {
           "arrowcolor": "#2a3f5f",
           "arrowhead": 0,
           "arrowwidth": 1
          },
          "autotypenumbers": "strict",
          "coloraxis": {
           "colorbar": {
            "outlinewidth": 0,
            "ticks": ""
           }
          },
          "colorscale": {
           "diverging": [
            [
             0,
             "#8e0152"
            ],
            [
             0.1,
             "#c51b7d"
            ],
            [
             0.2,
             "#de77ae"
            ],
            [
             0.3,
             "#f1b6da"
            ],
            [
             0.4,
             "#fde0ef"
            ],
            [
             0.5,
             "#f7f7f7"
            ],
            [
             0.6,
             "#e6f5d0"
            ],
            [
             0.7,
             "#b8e186"
            ],
            [
             0.8,
             "#7fbc41"
            ],
            [
             0.9,
             "#4d9221"
            ],
            [
             1,
             "#276419"
            ]
           ],
           "sequential": [
            [
             0,
             "#0d0887"
            ],
            [
             0.1111111111111111,
             "#46039f"
            ],
            [
             0.2222222222222222,
             "#7201a8"
            ],
            [
             0.3333333333333333,
             "#9c179e"
            ],
            [
             0.4444444444444444,
             "#bd3786"
            ],
            [
             0.5555555555555556,
             "#d8576b"
            ],
            [
             0.6666666666666666,
             "#ed7953"
            ],
            [
             0.7777777777777778,
             "#fb9f3a"
            ],
            [
             0.8888888888888888,
             "#fdca26"
            ],
            [
             1,
             "#f0f921"
            ]
           ],
           "sequentialminus": [
            [
             0,
             "#0d0887"
            ],
            [
             0.1111111111111111,
             "#46039f"
            ],
            [
             0.2222222222222222,
             "#7201a8"
            ],
            [
             0.3333333333333333,
             "#9c179e"
            ],
            [
             0.4444444444444444,
             "#bd3786"
            ],
            [
             0.5555555555555556,
             "#d8576b"
            ],
            [
             0.6666666666666666,
             "#ed7953"
            ],
            [
             0.7777777777777778,
             "#fb9f3a"
            ],
            [
             0.8888888888888888,
             "#fdca26"
            ],
            [
             1,
             "#f0f921"
            ]
           ]
          },
          "colorway": [
           "#636efa",
           "#EF553B",
           "#00cc96",
           "#ab63fa",
           "#FFA15A",
           "#19d3f3",
           "#FF6692",
           "#B6E880",
           "#FF97FF",
           "#FECB52"
          ],
          "font": {
           "color": "#2a3f5f"
          },
          "geo": {
           "bgcolor": "white",
           "lakecolor": "white",
           "landcolor": "#E5ECF6",
           "showlakes": true,
           "showland": true,
           "subunitcolor": "white"
          },
          "hoverlabel": {
           "align": "left"
          },
          "hovermode": "closest",
          "mapbox": {
           "style": "light"
          },
          "paper_bgcolor": "white",
          "plot_bgcolor": "#E5ECF6",
          "polar": {
           "angularaxis": {
            "gridcolor": "white",
            "linecolor": "white",
            "ticks": ""
           },
           "bgcolor": "#E5ECF6",
           "radialaxis": {
            "gridcolor": "white",
            "linecolor": "white",
            "ticks": ""
           }
          },
          "scene": {
           "xaxis": {
            "backgroundcolor": "#E5ECF6",
            "gridcolor": "white",
            "gridwidth": 2,
            "linecolor": "white",
            "showbackground": true,
            "ticks": "",
            "zerolinecolor": "white"
           },
           "yaxis": {
            "backgroundcolor": "#E5ECF6",
            "gridcolor": "white",
            "gridwidth": 2,
            "linecolor": "white",
            "showbackground": true,
            "ticks": "",
            "zerolinecolor": "white"
           },
           "zaxis": {
            "backgroundcolor": "#E5ECF6",
            "gridcolor": "white",
            "gridwidth": 2,
            "linecolor": "white",
            "showbackground": true,
            "ticks": "",
            "zerolinecolor": "white"
           }
          },
          "shapedefaults": {
           "line": {
            "color": "#2a3f5f"
           }
          },
          "ternary": {
           "aaxis": {
            "gridcolor": "white",
            "linecolor": "white",
            "ticks": ""
           },
           "baxis": {
            "gridcolor": "white",
            "linecolor": "white",
            "ticks": ""
           },
           "bgcolor": "#E5ECF6",
           "caxis": {
            "gridcolor": "white",
            "linecolor": "white",
            "ticks": ""
           }
          },
          "title": {
           "x": 0.05
          },
          "xaxis": {
           "automargin": true,
           "gridcolor": "white",
           "linecolor": "white",
           "ticks": "",
           "title": {
            "standoff": 15
           },
           "zerolinecolor": "white",
           "zerolinewidth": 2
          },
          "yaxis": {
           "automargin": true,
           "gridcolor": "white",
           "linecolor": "white",
           "ticks": "",
           "title": {
            "standoff": 15
           },
           "zerolinecolor": "white",
           "zerolinewidth": 2
          }
         }
        },
        "title": {
         "text": "Comparing Relationship of Life Expectancy and Quality of Life in Europe"
        },
        "xaxis": {
         "anchor": "y",
         "domain": [
          0,
          1
         ],
         "title": {
          "text": "Life Expectancy"
         }
        },
        "yaxis": {
         "anchor": "x",
         "domain": [
          0,
          1
         ],
         "title": {
          "text": "Quality of Life"
         }
        }
       }
      }
     },
     "metadata": {},
     "output_type": "display_data"
    }
   ],
   "source": [
    "fig = px.scatter(\n",
    "    combined,\n",
    "    x='healthcare',\n",
    "    y='qol',\n",
    "    color='year',\n",
    "    opacity=0.5,\n",
    "    labels={'healthcare': 'Life Expectancy', 'qol': 'Quality of Life'},\n",
    "    title='Comparing Relationship of Life Expectancy and Quality of Life in Europe',\n",
    "    hover_data=['country', 'year']\n",
    ")\n",
    "\n",
    "pio.write_image(fig, \"health_qol.jpg\", format=\"jpg\", width=800, height=600, scale=2)\n",
    "fig.show()\n"
   ]
  },
  {
   "cell_type": "code",
   "execution_count": 18,
   "id": "53673fd9",
   "metadata": {},
   "outputs": [
    {
     "data": {
      "application/vnd.plotly.v1+json": {
       "config": {
        "plotlyServerURL": "https://plot.ly"
       },
       "data": [
        {
         "customdata": [
          [
           "Austria",
           2011
          ],
          [
           "Austria",
           2012
          ],
          [
           "Austria",
           2014
          ],
          [
           "Austria",
           2015
          ],
          [
           "Austria",
           2016
          ],
          [
           "Austria",
           2017
          ],
          [
           "Austria",
           2018
          ],
          [
           "Austria",
           2019
          ],
          [
           "Austria",
           2020
          ],
          [
           "Austria",
           2021
          ],
          [
           "Austria",
           2022
          ],
          [
           "Belgium",
           2011
          ],
          [
           "Bulgaria",
           2011
          ],
          [
           "Bulgaria",
           2012
          ],
          [
           "Bulgaria",
           2014
          ],
          [
           "Bulgaria",
           2015
          ],
          [
           "Bulgaria",
           2016
          ],
          [
           "Bulgaria",
           2017
          ],
          [
           "Bulgaria",
           2018
          ],
          [
           "Bulgaria",
           2019
          ],
          [
           "Bulgaria",
           2020
          ],
          [
           "Bulgaria",
           2021
          ],
          [
           "Bulgaria",
           2022
          ],
          [
           "Croatia",
           2011
          ],
          [
           "Croatia",
           2012
          ],
          [
           "Croatia",
           2014
          ],
          [
           "Croatia",
           2015
          ],
          [
           "Croatia",
           2016
          ],
          [
           "Croatia",
           2017
          ],
          [
           "Croatia",
           2018
          ],
          [
           "Croatia",
           2019
          ],
          [
           "Croatia",
           2020
          ],
          [
           "Croatia",
           2021
          ],
          [
           "Croatia",
           2022
          ],
          [
           "Czechia",
           2011
          ],
          [
           "Czechia",
           2012
          ],
          [
           "Czechia",
           2014
          ],
          [
           "Czechia",
           2015
          ],
          [
           "Czechia",
           2016
          ],
          [
           "Czechia",
           2017
          ],
          [
           "Czechia",
           2018
          ],
          [
           "Czechia",
           2019
          ],
          [
           "Czechia",
           2020
          ],
          [
           "Czechia",
           2021
          ],
          [
           "Czechia",
           2022
          ],
          [
           "Denmark",
           2011
          ],
          [
           "Denmark",
           2012
          ],
          [
           "Denmark",
           2014
          ],
          [
           "Denmark",
           2015
          ],
          [
           "Denmark",
           2016
          ],
          [
           "Denmark",
           2017
          ],
          [
           "Denmark",
           2018
          ],
          [
           "Denmark",
           2019
          ],
          [
           "Denmark",
           2020
          ],
          [
           "Denmark",
           2021
          ],
          [
           "Denmark",
           2022
          ],
          [
           "Estonia",
           2011
          ],
          [
           "Estonia",
           2012
          ],
          [
           "Estonia",
           2014
          ],
          [
           "Estonia",
           2015
          ],
          [
           "Estonia",
           2016
          ],
          [
           "Estonia",
           2017
          ],
          [
           "Estonia",
           2018
          ],
          [
           "Estonia",
           2019
          ],
          [
           "Estonia",
           2020
          ],
          [
           "Estonia",
           2021
          ],
          [
           "Estonia",
           2022
          ],
          [
           "Finland",
           2011
          ],
          [
           "Finland",
           2012
          ],
          [
           "Finland",
           2014
          ],
          [
           "Finland",
           2015
          ],
          [
           "Finland",
           2016
          ],
          [
           "Finland",
           2017
          ],
          [
           "Finland",
           2018
          ],
          [
           "Finland",
           2019
          ],
          [
           "Finland",
           2020
          ],
          [
           "Finland",
           2021
          ],
          [
           "Finland",
           2022
          ],
          [
           "France",
           2012
          ],
          [
           "France",
           2014
          ],
          [
           "France",
           2015
          ],
          [
           "France",
           2016
          ],
          [
           "France",
           2017
          ],
          [
           "France",
           2018
          ],
          [
           "France",
           2019
          ],
          [
           "France",
           2020
          ],
          [
           "France",
           2021
          ],
          [
           "France",
           2022
          ],
          [
           "Germany",
           2011
          ],
          [
           "Germany",
           2012
          ],
          [
           "Germany",
           2014
          ],
          [
           "Germany",
           2015
          ],
          [
           "Germany",
           2016
          ],
          [
           "Germany",
           2017
          ],
          [
           "Germany",
           2018
          ],
          [
           "Germany",
           2019
          ],
          [
           "Germany",
           2020
          ],
          [
           "Germany",
           2021
          ],
          [
           "Germany",
           2022
          ],
          [
           "Greece",
           2011
          ],
          [
           "Greece",
           2012
          ],
          [
           "Greece",
           2014
          ],
          [
           "Greece",
           2015
          ],
          [
           "Greece",
           2016
          ],
          [
           "Greece",
           2017
          ],
          [
           "Greece",
           2018
          ],
          [
           "Greece",
           2019
          ],
          [
           "Greece",
           2020
          ],
          [
           "Greece",
           2021
          ],
          [
           "Greece",
           2022
          ],
          [
           "Hungary",
           2011
          ],
          [
           "Hungary",
           2012
          ],
          [
           "Hungary",
           2014
          ],
          [
           "Ireland",
           2011
          ],
          [
           "Ireland",
           2012
          ],
          [
           "Ireland",
           2014
          ],
          [
           "Ireland",
           2015
          ],
          [
           "Ireland",
           2016
          ],
          [
           "Ireland",
           2017
          ],
          [
           "Ireland",
           2018
          ],
          [
           "Ireland",
           2019
          ],
          [
           "Ireland",
           2020
          ],
          [
           "Ireland",
           2021
          ],
          [
           "Ireland",
           2022
          ],
          [
           "Italy",
           2012
          ],
          [
           "Italy",
           2014
          ],
          [
           "Italy",
           2015
          ],
          [
           "Italy",
           2016
          ],
          [
           "Italy",
           2017
          ],
          [
           "Italy",
           2018
          ],
          [
           "Italy",
           2019
          ],
          [
           "Italy",
           2020
          ],
          [
           "Italy",
           2021
          ],
          [
           "Italy",
           2022
          ],
          [
           "Latvia",
           2011
          ],
          [
           "Latvia",
           2012
          ],
          [
           "Latvia",
           2014
          ],
          [
           "Latvia",
           2015
          ],
          [
           "Latvia",
           2016
          ],
          [
           "Latvia",
           2017
          ],
          [
           "Latvia",
           2018
          ],
          [
           "Latvia",
           2019
          ],
          [
           "Latvia",
           2020
          ],
          [
           "Latvia",
           2021
          ],
          [
           "Latvia",
           2022
          ],
          [
           "Lithuania",
           2011
          ],
          [
           "Lithuania",
           2012
          ],
          [
           "Lithuania",
           2014
          ],
          [
           "Lithuania",
           2015
          ],
          [
           "Lithuania",
           2016
          ],
          [
           "Lithuania",
           2017
          ],
          [
           "Lithuania",
           2018
          ],
          [
           "Lithuania",
           2019
          ],
          [
           "Lithuania",
           2020
          ],
          [
           "Lithuania",
           2021
          ],
          [
           "Lithuania",
           2022
          ],
          [
           "Luxembourg",
           2011
          ],
          [
           "Luxembourg",
           2012
          ],
          [
           "Luxembourg",
           2014
          ],
          [
           "Luxembourg",
           2015
          ],
          [
           "Luxembourg",
           2016
          ],
          [
           "Luxembourg",
           2017
          ],
          [
           "Luxembourg",
           2018
          ],
          [
           "Luxembourg",
           2019
          ],
          [
           "Luxembourg",
           2020
          ],
          [
           "Luxembourg",
           2021
          ],
          [
           "Luxembourg",
           2022
          ],
          [
           "Poland",
           2011
          ],
          [
           "Poland",
           2012
          ],
          [
           "Poland",
           2014
          ],
          [
           "Poland",
           2015
          ],
          [
           "Poland",
           2016
          ],
          [
           "Poland",
           2017
          ],
          [
           "Portugal",
           2011
          ],
          [
           "Portugal",
           2012
          ],
          [
           "Portugal",
           2014
          ],
          [
           "Portugal",
           2015
          ],
          [
           "Portugal",
           2016
          ],
          [
           "Portugal",
           2017
          ],
          [
           "Portugal",
           2018
          ],
          [
           "Portugal",
           2019
          ],
          [
           "Portugal",
           2020
          ],
          [
           "Portugal",
           2021
          ],
          [
           "Portugal",
           2022
          ],
          [
           "Romania",
           2011
          ],
          [
           "Romania",
           2012
          ],
          [
           "Romania",
           2014
          ],
          [
           "Romania",
           2015
          ],
          [
           "Romania",
           2016
          ],
          [
           "Romania",
           2017
          ],
          [
           "Romania",
           2018
          ],
          [
           "Romania",
           2019
          ],
          [
           "Romania",
           2020
          ],
          [
           "Romania",
           2021
          ],
          [
           "Romania",
           2022
          ],
          [
           "Slovakia",
           2011
          ],
          [
           "Slovakia",
           2012
          ],
          [
           "Slovakia",
           2014
          ],
          [
           "Slovakia",
           2015
          ],
          [
           "Slovakia",
           2016
          ],
          [
           "Slovakia",
           2017
          ],
          [
           "Slovakia",
           2018
          ],
          [
           "Slovakia",
           2019
          ],
          [
           "Slovakia",
           2020
          ],
          [
           "Slovakia",
           2021
          ],
          [
           "Slovakia",
           2022
          ],
          [
           "Slovenia",
           2011
          ],
          [
           "Slovenia",
           2012
          ],
          [
           "Slovenia",
           2014
          ],
          [
           "Slovenia",
           2015
          ],
          [
           "Slovenia",
           2016
          ],
          [
           "Slovenia",
           2017
          ],
          [
           "Slovenia",
           2018
          ],
          [
           "Slovenia",
           2019
          ],
          [
           "Slovenia",
           2020
          ],
          [
           "Slovenia",
           2021
          ],
          [
           "Slovenia",
           2022
          ],
          [
           "Spain",
           2011
          ],
          [
           "Spain",
           2012
          ],
          [
           "Spain",
           2014
          ],
          [
           "Spain",
           2015
          ],
          [
           "Spain",
           2016
          ],
          [
           "Spain",
           2017
          ],
          [
           "Spain",
           2018
          ],
          [
           "Spain",
           2019
          ],
          [
           "Spain",
           2020
          ],
          [
           "Spain",
           2021
          ],
          [
           "Spain",
           2022
          ],
          [
           "Sweden",
           2011
          ],
          [
           "Sweden",
           2014
          ],
          [
           "Sweden",
           2015
          ],
          [
           "Sweden",
           2016
          ],
          [
           "Sweden",
           2017
          ],
          [
           "Sweden",
           2018
          ],
          [
           "Sweden",
           2019
          ],
          [
           "Sweden",
           2020
          ],
          [
           "Sweden",
           2021
          ],
          [
           "Sweden",
           2022
          ]
         ],
         "hovertemplate": "Tertiary Education=%{x}<br>Quality of Life=%{y}<br>country=%{customdata[0]}<br>year=%{marker.color}<extra></extra>",
         "legendgroup": "",
         "marker": {
          "color": [
           2011,
           2012,
           2014,
           2015,
           2016,
           2017,
           2018,
           2019,
           2020,
           2021,
           2022,
           2011,
           2011,
           2012,
           2014,
           2015,
           2016,
           2017,
           2018,
           2019,
           2020,
           2021,
           2022,
           2011,
           2012,
           2014,
           2015,
           2016,
           2017,
           2018,
           2019,
           2020,
           2021,
           2022,
           2011,
           2012,
           2014,
           2015,
           2016,
           2017,
           2018,
           2019,
           2020,
           2021,
           2022,
           2011,
           2012,
           2014,
           2015,
           2016,
           2017,
           2018,
           2019,
           2020,
           2021,
           2022,
           2011,
           2012,
           2014,
           2015,
           2016,
           2017,
           2018,
           2019,
           2020,
           2021,
           2022,
           2011,
           2012,
           2014,
           2015,
           2016,
           2017,
           2018,
           2019,
           2020,
           2021,
           2022,
           2012,
           2014,
           2015,
           2016,
           2017,
           2018,
           2019,
           2020,
           2021,
           2022,
           2011,
           2012,
           2014,
           2015,
           2016,
           2017,
           2018,
           2019,
           2020,
           2021,
           2022,
           2011,
           2012,
           2014,
           2015,
           2016,
           2017,
           2018,
           2019,
           2020,
           2021,
           2022,
           2011,
           2012,
           2014,
           2011,
           2012,
           2014,
           2015,
           2016,
           2017,
           2018,
           2019,
           2020,
           2021,
           2022,
           2012,
           2014,
           2015,
           2016,
           2017,
           2018,
           2019,
           2020,
           2021,
           2022,
           2011,
           2012,
           2014,
           2015,
           2016,
           2017,
           2018,
           2019,
           2020,
           2021,
           2022,
           2011,
           2012,
           2014,
           2015,
           2016,
           2017,
           2018,
           2019,
           2020,
           2021,
           2022,
           2011,
           2012,
           2014,
           2015,
           2016,
           2017,
           2018,
           2019,
           2020,
           2021,
           2022,
           2011,
           2012,
           2014,
           2015,
           2016,
           2017,
           2011,
           2012,
           2014,
           2015,
           2016,
           2017,
           2018,
           2019,
           2020,
           2021,
           2022,
           2011,
           2012,
           2014,
           2015,
           2016,
           2017,
           2018,
           2019,
           2020,
           2021,
           2022,
           2011,
           2012,
           2014,
           2015,
           2016,
           2017,
           2018,
           2019,
           2020,
           2021,
           2022,
           2011,
           2012,
           2014,
           2015,
           2016,
           2017,
           2018,
           2019,
           2020,
           2021,
           2022,
           2011,
           2012,
           2014,
           2015,
           2016,
           2017,
           2018,
           2019,
           2020,
           2021,
           2022,
           2011,
           2014,
           2015,
           2016,
           2017,
           2018,
           2019,
           2020,
           2021,
           2022
          ],
          "coloraxis": "coloraxis",
          "opacity": 0.5,
          "symbol": "circle"
         },
         "mode": "markers",
         "name": "",
         "orientation": "v",
         "showlegend": false,
         "type": "scatter",
         "x": [
          -1.391591639385606,
          -1.3042268315115002,
          0.20681519763501174,
          0.313867849537086,
          0.4159985404321672,
          0.491058445788794,
          0.5353560948517205,
          0.655944139523022,
          0.6645575712852578,
          0.7433089473971283,
          0.8257517942642427,
          0.5599658998866808,
          -0.9264663242248723,
          -0.8612503408822295,
          -0.5240960119032845,
          -0.48102885309210563,
          -0.44657512604316263,
          -0.42934826251869096,
          -0.4035079672319834,
          -0.47241542132986974,
          -0.3370614936375929,
          -0.2878418835676737,
          -0.23000884173551905,
          -1.4703430154974766,
          -1.2869999679870285,
          -0.975685934294791,
          -0.8624808311339772,
          -0.8329490650920265,
          -0.7640416109941397,
          -0.6176132710361311,
          -0.5757766024766996,
          -0.5523972876934883,
          -0.5536277779452361,
          -0.4834898335956015,
          -1.4198929151758095,
          -1.2697731044625569,
          -1.019983583357718,
          -0.9498456390080835,
          -0.8489454383647496,
          -0.7628111207423915,
          -0.7394318059591799,
          -0.7665025914976356,
          -0.7049780789102369,
          -0.5204045411480408,
          -0.47487640183336566,
          0.09114911397070248,
          0.2105066683902558,
          0.3310947130615573,
          0.44060834546712657,
          0.551352468124444,
          0.7088552203481848,
          0.7297735546279006,
          0.8282127747677381,
          0.8429786577887135,
          0.9537227804460319,
          0.9721801342222514,
          0.5390475656069642,
          0.6067245294531033,
          0.6202599222223308,
          0.4873669750335499,
          0.6325648247398108,
          0.6571746297747706,
          0.6694795322922497,
          0.7999114989775352,
          0.8577445408096898,
          0.9488008194390402,
          1.0447790590753823,
          0.6067245294531033,
          0.6473307077607862,
          0.8749714043341615,
          0.9660276829635109,
          1.0152472930334306,
          1.058314451844609,
          1.162906123243187,
          1.3044125021942037,
          1.4533018226557095,
          0.9192690533970885,
          0.9820240562362349,
          0.288027554250378,
          0.6005720781943629,
          0.6842454153132259,
          0.7568443401663559,
          0.8257517942642427,
          1.0103253320264387,
          1.1641366134949356,
          1.3683979952850998,
          1.5062129034808724,
          1.5701983965717665,
          -0.5302484631620245,
          -0.44903610654665854,
          -0.5794680732319436,
          -0.5080996386305613,
          -0.42196532100820283,
          -0.3715152206865363,
          -0.31860413986137304,
          -0.21647344896629098,
          -0.05281824548381067,
          0.050542935663019116,
          0.03946852339728737,
          -0.6717548421130417,
          -0.5708546414697078,
          -0.3505968864068206,
          -0.2533881565187303,
          -0.14018305335791692,
          -0.02943893070059945,
          0.024702640376311123,
          0.04192950390078326,
          0.15636509731334525,
          0.3815448133832238,
          0.4541437382363547,
          -1.1479545695395077,
          -1.0187530931059703,
          -0.8600198506304818,
          0.9389568974250556,
          1.1050730814110323,
          1.4594542739144492,
          1.6194180066416852,
          1.7043218340122952,
          1.8064525249073777,
          1.813835466417866,
          1.8433672324598167,
          2.1042311658303876,
          2.491835595130999,
          2.537363734445674,
          -1.6647604752736567,
          -1.5134101743086557,
          -1.4531161519730047,
          -1.417431934672314,
          -1.299304870504508,
          -1.2033266308681665,
          -1.1491850597912554,
          -1.0975044692178406,
          -1.060589761665401,
          -1.0126006418472304,
          -0.39366404521799936,
          -0.24354423450474627,
          -0.044204813721574816,
          0.09607107497769383,
          0.19820176587277588,
          0.25603480770493053,
          0.26218725896367046,
          0.376622852376232,
          0.6141074709635914,
          0.7556138499146082,
          0.8368262065299741,
          0.20435421713151586,
          0.3064849080265979,
          0.668249042040502,
          0.868818953075422,
          0.9278824851593244,
          0.9930984685019671,
          1.1075340619145286,
          1.3720894660403429,
          1.4237700566137579,
          1.5259007475088395,
          1.7498499733269708,
          0.491058445788794,
          0.6620965907817615,
          1.4065431930892862,
          0.9180385631453407,
          1.0890767081383084,
          0.8638969920684302,
          1.3093344632011965,
          1.6834034997325804,
          1.5788118283340025,
          2.0870043023059157,
          2.2568119570471366,
          -0.8144917113158067,
          -0.6680633713577976,
          -0.39981649647673934,
          -0.3382919838893406,
          -0.2878418835676737,
          -0.18817217317608753,
          -1.3780562466163784,
          -1.210709572378654,
          -0.8071087698053185,
          -0.6545279785885699,
          -0.5696241512179601,
          -0.5056386581270654,
          -0.39366404521799936,
          -0.2029380561970638,
          -0.0688146187565342,
          0.19697127562102815,
          0.2351164734252152,
          -1.7558167539030067,
          -1.6770653777911362,
          -1.5761651771478022,
          -1.5269455670778833,
          -1.5318675280848753,
          -1.483878408266704,
          -1.4752649765044685,
          -1.4100489931618259,
          -1.3989745808960938,
          -1.3657513440988989,
          -1.2746950654695486,
          -1.2746950654695486,
          -1.1836387868401983,
          -1.0975044692178406,
          -1.0089091710919862,
          -0.895704067931173,
          -0.7824989647703591,
          -0.6397620955675941,
          -0.5019471873718214,
          -0.42934826251869096,
          -0.34321394489633245,
          -0.1697148193998681,
          -0.7591196499871479,
          -0.5782375829801955,
          -0.31122119835088535,
          -0.10942079706421758,
          -0.02943893070059945,
          0.125602841019645,
          0.1588260778168407,
          0.2080456878867599,
          0.484905994530054,
          1.0189387637886747,
          1.0029423905159507,
          0.17974441209655645,
          0.2572652979566787,
          0.459065699243346,
          0.5279731533412328,
          0.6387172759985503,
          0.7211601228656648,
          0.8380566967817227,
          0.9881765074949753,
          1.1284523961942443,
          1.271189265397009,
          1.3425576999983913,
          0.3470910863342808,
          0.8036029697327792,
          0.9401873876768042,
          1.081693766627821,
          1.1518317109774556,
          1.2810331874109926,
          1.3819333880543263,
          1.4262310371172542,
          1.5332836890193278,
          1.6797120289773364
         ],
         "xaxis": "x",
         "y": [
          1.07512469036187,
          1.261656080920897,
          1.0396574541288153,
          0.9332557454296511,
          0.7848187937876085,
          0.9595277722689514,
          1.1000831158592048,
          1.163135980273523,
          1.1289823453824337,
          0.991054204476111,
          0.9043565159064223,
          0.9253741373778621,
          -3.3096765891172453,
          -3.1888252656564666,
          -2.8775017476107654,
          -2.878815348952731,
          -2.225955481996133,
          -1.9382767881058025,
          -1.8358158834325335,
          -1.7162781613137197,
          -1.5008475412314628,
          -1.362919400325139,
          -1.2381272728384658,
          -1.0318918621499635,
          -0.981975011155295,
          -0.8532420796427256,
          -1.209228043315236,
          -1.465380304998408,
          -1.428599467423389,
          -1.282789718465275,
          -1.186896820501832,
          -0.6916691145810335,
          -0.3724639884835421,
          -0.3724639884835421,
          -0.06376767312177058,
          -0.15571976705931978,
          0.12670452146315145,
          0.2462422435819652,
          0.26331906102750985,
          0.3973063979079386,
          0.5825241871250012,
          0.6600266663009343,
          0.7309611387670438,
          0.6718490783786196,
          0.5733289777312456,
          1.901379934457844,
          1.6872629157175514,
          1.4692050929513647,
          1.4678914916093995,
          1.46263708624154,
          1.5059859305263839,
          1.565097990914808,
          1.6255236526451975,
          1.5913700177541081,
          1.612387639225548,
          1.5467075721272991,
          -1.4167770553457038,
          -1.2906713265170653,
          -1.2867305224911703,
          -1.1711336043982516,
          -1.0476550782535439,
          -0.8795141064820259,
          -0.6772194998194185,
          -0.5077649267059351,
          -0.28839350259778307,
          -0.08872609861910542,
          0.061024454364902524,
          1.5375123627335434,
          1.2879281077601972,
          1.3102593305736012,
          1.319454539967357,
          1.393016215117396,
          1.6071332338576874,
          1.7870966177068908,
          1.8396406713854903,
          1.882989515670334,
          1.8554038874890695,
          1.8330726646756654,
          0.4669272690320826,
          0.21865661540070067,
          0.09123728523009673,
          0.043947636919357866,
          0.1056868999917117,
          0.2409878382141047,
          0.3355671348355836,
          0.36972076972667406,
          0.3657799657007789,
          0.33162633080968845,
          0.21471581137480558,
          0.34607594557130344,
          0.4485368502445725,
          0.7690555776840282,
          0.7125707199795337,
          0.7309611387670438,
          0.757233165606344,
          0.8767708877251567,
          0.9805453937403912,
          0.8215996313626276,
          0.6350682408036006,
          -0.3619551777478222,
          -1.278848914439381,
          -2.0381104900951406,
          -1.8069166539093036,
          -1.5520779935680968,
          -1.3799962177706848,
          -1.4732619130501983,
          -1.1737608070821823,
          -0.9005317279534656,
          -0.6049714260113437,
          -0.6273026488247488,
          -1.925140774686153,
          -2.145825800136269,
          -2.1129857665871454,
          1.1499999668538734,
          0.8767708877251567,
          0.6981211052179199,
          0.654772260933075,
          0.7467243548706242,
          0.7467243548706242,
          0.8045228139170829,
          0.9004157118805273,
          0.888593299802842,
          0.8307948407563832,
          0.6600266663009343,
          -0.5090785280479004,
          -0.6049714260113437,
          -0.5668769870943592,
          -0.5839538045399039,
          -0.536664156229165,
          -0.24373105697097389,
          -0.02830043688871701,
          0.0978052919399215,
          0.07678767046848176,
          -0.004655612733346416,
          -2.162902617581815,
          -1.7898398364637589,
          -1.7215325666815802,
          -1.1146487466937582,
          -0.7337043575239129,
          -0.6246754461408192,
          -0.6154802367470635,
          -0.602344223327414,
          -0.4946289132862855,
          -0.3002159146754684,
          -0.25686707039062345,
          -1.077867909118738,
          -1.2906713265170653,
          -0.756035580337317,
          -0.7823076071766173,
          -0.6653970877417332,
          -0.5997170206434843,
          -0.34093755627638245,
          -0.25423986770669377,
          -0.2016958140280944,
          0.049202042287217224,
          0.4656136676901172,
          0.8439308541760328,
          0.8478716582019279,
          0.7060027132697089,
          0.607482612622336,
          0.5969738018866162,
          0.6587130649589701,
          0.8951613065126667,
          1.089574305123485,
          1.202544020532473,
          1.3076321278896716,
          1.0764382917038342,
          -0.7954436205962668,
          -0.770485195098932,
          -0.8112068366998461,
          -0.7534083776533873,
          -0.5721313924622198,
          -0.37509119116747175,
          -1.420717859371599,
          -1.7175917626556851,
          -1.7162781613137197,
          -1.6886925331324552,
          -1.5941132365109763,
          -1.311688947988505,
          -0.9399397682124154,
          -0.653574675664049,
          -0.6299298515086785,
          -0.5156465347577253,
          -0.5786993991720445,
          -1.6164444593243814,
          -1.8069166539093036,
          -1.6873789317904908,
          -1.1566839896366377,
          -0.7665443910730368,
          -0.6089122300372387,
          -0.4447120622916158,
          -0.3737775898255075,
          -0.35275996835406775,
          0.08992368388813247,
          0.23704703418821074,
          -0.9872294165231543,
          -0.5773857978300792,
          -0.5432321629389898,
          -0.43420325155589595,
          -0.4079312247165968,
          -0.30941112406922283,
          -0.27657109052009776,
          -0.1675421791370051,
          -0.10186211203875498,
          -0.02304603152085649,
          0.0794148731524126,
          -0.6391250609024342,
          -0.4578480757112665,
          -0.7363315602078426,
          -0.8414196675650414,
          -0.854555680984691,
          -0.6049714260113437,
          -0.3816591978772966,
          -0.05982686909587548,
          0.06890606241669273,
          0.2909046892087744,
          0.3171767160480747,
          0.4629864650061875,
          -0.11368452411644028,
          -0.10448931472268583,
          -0.06245407177980632,
          -0.007282815417277259,
          -0.12944774022002067,
          -0.07164928117356077,
          -0.009910018101206937,
          0.10831410267564139,
          0.08861008254616705,
          0.03606602886756767,
          1.2747920943405464,
          1.2550880742110722,
          1.1591951762476291,
          1.1499999668538734,
          1.1894080071128232,
          1.2275024460298076,
          1.2406384594494573,
          1.2537744728691078,
          1.2813601010503723,
          1.2958097158119863
         ],
         "yaxis": "y"
        }
       ],
       "layout": {
        "coloraxis": {
         "colorbar": {
          "title": {
           "text": "year"
          }
         },
         "colorscale": [
          [
           0,
           "#0d0887"
          ],
          [
           0.1111111111111111,
           "#46039f"
          ],
          [
           0.2222222222222222,
           "#7201a8"
          ],
          [
           0.3333333333333333,
           "#9c179e"
          ],
          [
           0.4444444444444444,
           "#bd3786"
          ],
          [
           0.5555555555555556,
           "#d8576b"
          ],
          [
           0.6666666666666666,
           "#ed7953"
          ],
          [
           0.7777777777777778,
           "#fb9f3a"
          ],
          [
           0.8888888888888888,
           "#fdca26"
          ],
          [
           1,
           "#f0f921"
          ]
         ]
        },
        "legend": {
         "tracegroupgap": 0
        },
        "template": {
         "data": {
          "bar": [
           {
            "error_x": {
             "color": "#2a3f5f"
            },
            "error_y": {
             "color": "#2a3f5f"
            },
            "marker": {
             "line": {
              "color": "#E5ECF6",
              "width": 0.5
             },
             "pattern": {
              "fillmode": "overlay",
              "size": 10,
              "solidity": 0.2
             }
            },
            "type": "bar"
           }
          ],
          "barpolar": [
           {
            "marker": {
             "line": {
              "color": "#E5ECF6",
              "width": 0.5
             },
             "pattern": {
              "fillmode": "overlay",
              "size": 10,
              "solidity": 0.2
             }
            },
            "type": "barpolar"
           }
          ],
          "carpet": [
           {
            "aaxis": {
             "endlinecolor": "#2a3f5f",
             "gridcolor": "white",
             "linecolor": "white",
             "minorgridcolor": "white",
             "startlinecolor": "#2a3f5f"
            },
            "baxis": {
             "endlinecolor": "#2a3f5f",
             "gridcolor": "white",
             "linecolor": "white",
             "minorgridcolor": "white",
             "startlinecolor": "#2a3f5f"
            },
            "type": "carpet"
           }
          ],
          "choropleth": [
           {
            "colorbar": {
             "outlinewidth": 0,
             "ticks": ""
            },
            "type": "choropleth"
           }
          ],
          "contour": [
           {
            "colorbar": {
             "outlinewidth": 0,
             "ticks": ""
            },
            "colorscale": [
             [
              0,
              "#0d0887"
             ],
             [
              0.1111111111111111,
              "#46039f"
             ],
             [
              0.2222222222222222,
              "#7201a8"
             ],
             [
              0.3333333333333333,
              "#9c179e"
             ],
             [
              0.4444444444444444,
              "#bd3786"
             ],
             [
              0.5555555555555556,
              "#d8576b"
             ],
             [
              0.6666666666666666,
              "#ed7953"
             ],
             [
              0.7777777777777778,
              "#fb9f3a"
             ],
             [
              0.8888888888888888,
              "#fdca26"
             ],
             [
              1,
              "#f0f921"
             ]
            ],
            "type": "contour"
           }
          ],
          "contourcarpet": [
           {
            "colorbar": {
             "outlinewidth": 0,
             "ticks": ""
            },
            "type": "contourcarpet"
           }
          ],
          "heatmap": [
           {
            "colorbar": {
             "outlinewidth": 0,
             "ticks": ""
            },
            "colorscale": [
             [
              0,
              "#0d0887"
             ],
             [
              0.1111111111111111,
              "#46039f"
             ],
             [
              0.2222222222222222,
              "#7201a8"
             ],
             [
              0.3333333333333333,
              "#9c179e"
             ],
             [
              0.4444444444444444,
              "#bd3786"
             ],
             [
              0.5555555555555556,
              "#d8576b"
             ],
             [
              0.6666666666666666,
              "#ed7953"
             ],
             [
              0.7777777777777778,
              "#fb9f3a"
             ],
             [
              0.8888888888888888,
              "#fdca26"
             ],
             [
              1,
              "#f0f921"
             ]
            ],
            "type": "heatmap"
           }
          ],
          "heatmapgl": [
           {
            "colorbar": {
             "outlinewidth": 0,
             "ticks": ""
            },
            "colorscale": [
             [
              0,
              "#0d0887"
             ],
             [
              0.1111111111111111,
              "#46039f"
             ],
             [
              0.2222222222222222,
              "#7201a8"
             ],
             [
              0.3333333333333333,
              "#9c179e"
             ],
             [
              0.4444444444444444,
              "#bd3786"
             ],
             [
              0.5555555555555556,
              "#d8576b"
             ],
             [
              0.6666666666666666,
              "#ed7953"
             ],
             [
              0.7777777777777778,
              "#fb9f3a"
             ],
             [
              0.8888888888888888,
              "#fdca26"
             ],
             [
              1,
              "#f0f921"
             ]
            ],
            "type": "heatmapgl"
           }
          ],
          "histogram": [
           {
            "marker": {
             "pattern": {
              "fillmode": "overlay",
              "size": 10,
              "solidity": 0.2
             }
            },
            "type": "histogram"
           }
          ],
          "histogram2d": [
           {
            "colorbar": {
             "outlinewidth": 0,
             "ticks": ""
            },
            "colorscale": [
             [
              0,
              "#0d0887"
             ],
             [
              0.1111111111111111,
              "#46039f"
             ],
             [
              0.2222222222222222,
              "#7201a8"
             ],
             [
              0.3333333333333333,
              "#9c179e"
             ],
             [
              0.4444444444444444,
              "#bd3786"
             ],
             [
              0.5555555555555556,
              "#d8576b"
             ],
             [
              0.6666666666666666,
              "#ed7953"
             ],
             [
              0.7777777777777778,
              "#fb9f3a"
             ],
             [
              0.8888888888888888,
              "#fdca26"
             ],
             [
              1,
              "#f0f921"
             ]
            ],
            "type": "histogram2d"
           }
          ],
          "histogram2dcontour": [
           {
            "colorbar": {
             "outlinewidth": 0,
             "ticks": ""
            },
            "colorscale": [
             [
              0,
              "#0d0887"
             ],
             [
              0.1111111111111111,
              "#46039f"
             ],
             [
              0.2222222222222222,
              "#7201a8"
             ],
             [
              0.3333333333333333,
              "#9c179e"
             ],
             [
              0.4444444444444444,
              "#bd3786"
             ],
             [
              0.5555555555555556,
              "#d8576b"
             ],
             [
              0.6666666666666666,
              "#ed7953"
             ],
             [
              0.7777777777777778,
              "#fb9f3a"
             ],
             [
              0.8888888888888888,
              "#fdca26"
             ],
             [
              1,
              "#f0f921"
             ]
            ],
            "type": "histogram2dcontour"
           }
          ],
          "mesh3d": [
           {
            "colorbar": {
             "outlinewidth": 0,
             "ticks": ""
            },
            "type": "mesh3d"
           }
          ],
          "parcoords": [
           {
            "line": {
             "colorbar": {
              "outlinewidth": 0,
              "ticks": ""
             }
            },
            "type": "parcoords"
           }
          ],
          "pie": [
           {
            "automargin": true,
            "type": "pie"
           }
          ],
          "scatter": [
           {
            "fillpattern": {
             "fillmode": "overlay",
             "size": 10,
             "solidity": 0.2
            },
            "type": "scatter"
           }
          ],
          "scatter3d": [
           {
            "line": {
             "colorbar": {
              "outlinewidth": 0,
              "ticks": ""
             }
            },
            "marker": {
             "colorbar": {
              "outlinewidth": 0,
              "ticks": ""
             }
            },
            "type": "scatter3d"
           }
          ],
          "scattercarpet": [
           {
            "marker": {
             "colorbar": {
              "outlinewidth": 0,
              "ticks": ""
             }
            },
            "type": "scattercarpet"
           }
          ],
          "scattergeo": [
           {
            "marker": {
             "colorbar": {
              "outlinewidth": 0,
              "ticks": ""
             }
            },
            "type": "scattergeo"
           }
          ],
          "scattergl": [
           {
            "marker": {
             "colorbar": {
              "outlinewidth": 0,
              "ticks": ""
             }
            },
            "type": "scattergl"
           }
          ],
          "scattermapbox": [
           {
            "marker": {
             "colorbar": {
              "outlinewidth": 0,
              "ticks": ""
             }
            },
            "type": "scattermapbox"
           }
          ],
          "scatterpolar": [
           {
            "marker": {
             "colorbar": {
              "outlinewidth": 0,
              "ticks": ""
             }
            },
            "type": "scatterpolar"
           }
          ],
          "scatterpolargl": [
           {
            "marker": {
             "colorbar": {
              "outlinewidth": 0,
              "ticks": ""
             }
            },
            "type": "scatterpolargl"
           }
          ],
          "scatterternary": [
           {
            "marker": {
             "colorbar": {
              "outlinewidth": 0,
              "ticks": ""
             }
            },
            "type": "scatterternary"
           }
          ],
          "surface": [
           {
            "colorbar": {
             "outlinewidth": 0,
             "ticks": ""
            },
            "colorscale": [
             [
              0,
              "#0d0887"
             ],
             [
              0.1111111111111111,
              "#46039f"
             ],
             [
              0.2222222222222222,
              "#7201a8"
             ],
             [
              0.3333333333333333,
              "#9c179e"
             ],
             [
              0.4444444444444444,
              "#bd3786"
             ],
             [
              0.5555555555555556,
              "#d8576b"
             ],
             [
              0.6666666666666666,
              "#ed7953"
             ],
             [
              0.7777777777777778,
              "#fb9f3a"
             ],
             [
              0.8888888888888888,
              "#fdca26"
             ],
             [
              1,
              "#f0f921"
             ]
            ],
            "type": "surface"
           }
          ],
          "table": [
           {
            "cells": {
             "fill": {
              "color": "#EBF0F8"
             },
             "line": {
              "color": "white"
             }
            },
            "header": {
             "fill": {
              "color": "#C8D4E3"
             },
             "line": {
              "color": "white"
             }
            },
            "type": "table"
           }
          ]
         },
         "layout": {
          "annotationdefaults": {
           "arrowcolor": "#2a3f5f",
           "arrowhead": 0,
           "arrowwidth": 1
          },
          "autotypenumbers": "strict",
          "coloraxis": {
           "colorbar": {
            "outlinewidth": 0,
            "ticks": ""
           }
          },
          "colorscale": {
           "diverging": [
            [
             0,
             "#8e0152"
            ],
            [
             0.1,
             "#c51b7d"
            ],
            [
             0.2,
             "#de77ae"
            ],
            [
             0.3,
             "#f1b6da"
            ],
            [
             0.4,
             "#fde0ef"
            ],
            [
             0.5,
             "#f7f7f7"
            ],
            [
             0.6,
             "#e6f5d0"
            ],
            [
             0.7,
             "#b8e186"
            ],
            [
             0.8,
             "#7fbc41"
            ],
            [
             0.9,
             "#4d9221"
            ],
            [
             1,
             "#276419"
            ]
           ],
           "sequential": [
            [
             0,
             "#0d0887"
            ],
            [
             0.1111111111111111,
             "#46039f"
            ],
            [
             0.2222222222222222,
             "#7201a8"
            ],
            [
             0.3333333333333333,
             "#9c179e"
            ],
            [
             0.4444444444444444,
             "#bd3786"
            ],
            [
             0.5555555555555556,
             "#d8576b"
            ],
            [
             0.6666666666666666,
             "#ed7953"
            ],
            [
             0.7777777777777778,
             "#fb9f3a"
            ],
            [
             0.8888888888888888,
             "#fdca26"
            ],
            [
             1,
             "#f0f921"
            ]
           ],
           "sequentialminus": [
            [
             0,
             "#0d0887"
            ],
            [
             0.1111111111111111,
             "#46039f"
            ],
            [
             0.2222222222222222,
             "#7201a8"
            ],
            [
             0.3333333333333333,
             "#9c179e"
            ],
            [
             0.4444444444444444,
             "#bd3786"
            ],
            [
             0.5555555555555556,
             "#d8576b"
            ],
            [
             0.6666666666666666,
             "#ed7953"
            ],
            [
             0.7777777777777778,
             "#fb9f3a"
            ],
            [
             0.8888888888888888,
             "#fdca26"
            ],
            [
             1,
             "#f0f921"
            ]
           ]
          },
          "colorway": [
           "#636efa",
           "#EF553B",
           "#00cc96",
           "#ab63fa",
           "#FFA15A",
           "#19d3f3",
           "#FF6692",
           "#B6E880",
           "#FF97FF",
           "#FECB52"
          ],
          "font": {
           "color": "#2a3f5f"
          },
          "geo": {
           "bgcolor": "white",
           "lakecolor": "white",
           "landcolor": "#E5ECF6",
           "showlakes": true,
           "showland": true,
           "subunitcolor": "white"
          },
          "hoverlabel": {
           "align": "left"
          },
          "hovermode": "closest",
          "mapbox": {
           "style": "light"
          },
          "paper_bgcolor": "white",
          "plot_bgcolor": "#E5ECF6",
          "polar": {
           "angularaxis": {
            "gridcolor": "white",
            "linecolor": "white",
            "ticks": ""
           },
           "bgcolor": "#E5ECF6",
           "radialaxis": {
            "gridcolor": "white",
            "linecolor": "white",
            "ticks": ""
           }
          },
          "scene": {
           "xaxis": {
            "backgroundcolor": "#E5ECF6",
            "gridcolor": "white",
            "gridwidth": 2,
            "linecolor": "white",
            "showbackground": true,
            "ticks": "",
            "zerolinecolor": "white"
           },
           "yaxis": {
            "backgroundcolor": "#E5ECF6",
            "gridcolor": "white",
            "gridwidth": 2,
            "linecolor": "white",
            "showbackground": true,
            "ticks": "",
            "zerolinecolor": "white"
           },
           "zaxis": {
            "backgroundcolor": "#E5ECF6",
            "gridcolor": "white",
            "gridwidth": 2,
            "linecolor": "white",
            "showbackground": true,
            "ticks": "",
            "zerolinecolor": "white"
           }
          },
          "shapedefaults": {
           "line": {
            "color": "#2a3f5f"
           }
          },
          "ternary": {
           "aaxis": {
            "gridcolor": "white",
            "linecolor": "white",
            "ticks": ""
           },
           "baxis": {
            "gridcolor": "white",
            "linecolor": "white",
            "ticks": ""
           },
           "bgcolor": "#E5ECF6",
           "caxis": {
            "gridcolor": "white",
            "linecolor": "white",
            "ticks": ""
           }
          },
          "title": {
           "x": 0.05
          },
          "xaxis": {
           "automargin": true,
           "gridcolor": "white",
           "linecolor": "white",
           "ticks": "",
           "title": {
            "standoff": 15
           },
           "zerolinecolor": "white",
           "zerolinewidth": 2
          },
          "yaxis": {
           "automargin": true,
           "gridcolor": "white",
           "linecolor": "white",
           "ticks": "",
           "title": {
            "standoff": 15
           },
           "zerolinecolor": "white",
           "zerolinewidth": 2
          }
         }
        },
        "title": {
         "text": "Comparing Relationship of Tertiary Education and Quality of Life in Europe"
        },
        "xaxis": {
         "anchor": "y",
         "domain": [
          0,
          1
         ],
         "title": {
          "text": "Tertiary Education"
         }
        },
        "yaxis": {
         "anchor": "x",
         "domain": [
          0,
          1
         ],
         "title": {
          "text": "Quality of Life"
         }
        }
       }
      }
     },
     "metadata": {},
     "output_type": "display_data"
    }
   ],
   "source": [
    "fig = px.scatter(\n",
    "    combined,\n",
    "    x='education',\n",
    "    y='qol',\n",
    "    color='year',\n",
    "    opacity=0.5,\n",
    "    labels={'education': 'Tertiary Education', 'qol': 'Quality of Life'},\n",
    "    title='Comparing Relationship of Tertiary Education and Quality of Life in Europe',\n",
    "    hover_data=['country', 'year']\n",
    ")\n",
    "\n",
    "pio.write_image(fig, \"edu_qol.jpg\", format=\"jpg\", width=800, height=600, scale=2)\n",
    "fig.show()"
   ]
  },
  {
   "cell_type": "code",
   "execution_count": 19,
   "id": "ca21baa5",
   "metadata": {},
   "outputs": [
    {
     "data": {
      "application/vnd.plotly.v1+json": {
       "config": {
        "plotlyServerURL": "https://plot.ly"
       },
       "data": [
        {
         "customdata": [
          [
           "Austria",
           2011
          ],
          [
           "Austria",
           2012
          ],
          [
           "Austria",
           2014
          ],
          [
           "Austria",
           2015
          ],
          [
           "Austria",
           2016
          ],
          [
           "Austria",
           2017
          ],
          [
           "Austria",
           2018
          ],
          [
           "Austria",
           2019
          ],
          [
           "Austria",
           2020
          ],
          [
           "Austria",
           2021
          ],
          [
           "Austria",
           2022
          ],
          [
           "Belgium",
           2011
          ],
          [
           "Bulgaria",
           2011
          ],
          [
           "Bulgaria",
           2012
          ],
          [
           "Bulgaria",
           2014
          ],
          [
           "Bulgaria",
           2015
          ],
          [
           "Bulgaria",
           2016
          ],
          [
           "Bulgaria",
           2017
          ],
          [
           "Bulgaria",
           2018
          ],
          [
           "Bulgaria",
           2019
          ],
          [
           "Bulgaria",
           2020
          ],
          [
           "Bulgaria",
           2021
          ],
          [
           "Bulgaria",
           2022
          ],
          [
           "Croatia",
           2011
          ],
          [
           "Croatia",
           2012
          ],
          [
           "Croatia",
           2014
          ],
          [
           "Croatia",
           2015
          ],
          [
           "Croatia",
           2016
          ],
          [
           "Croatia",
           2017
          ],
          [
           "Croatia",
           2018
          ],
          [
           "Croatia",
           2019
          ],
          [
           "Croatia",
           2020
          ],
          [
           "Croatia",
           2021
          ],
          [
           "Croatia",
           2022
          ],
          [
           "Czechia",
           2011
          ],
          [
           "Czechia",
           2012
          ],
          [
           "Czechia",
           2014
          ],
          [
           "Czechia",
           2015
          ],
          [
           "Czechia",
           2016
          ],
          [
           "Czechia",
           2017
          ],
          [
           "Czechia",
           2018
          ],
          [
           "Czechia",
           2019
          ],
          [
           "Czechia",
           2020
          ],
          [
           "Czechia",
           2021
          ],
          [
           "Czechia",
           2022
          ],
          [
           "Denmark",
           2011
          ],
          [
           "Denmark",
           2012
          ],
          [
           "Denmark",
           2014
          ],
          [
           "Denmark",
           2015
          ],
          [
           "Denmark",
           2016
          ],
          [
           "Denmark",
           2017
          ],
          [
           "Denmark",
           2018
          ],
          [
           "Denmark",
           2019
          ],
          [
           "Denmark",
           2020
          ],
          [
           "Denmark",
           2021
          ],
          [
           "Denmark",
           2022
          ],
          [
           "Estonia",
           2011
          ],
          [
           "Estonia",
           2012
          ],
          [
           "Estonia",
           2014
          ],
          [
           "Estonia",
           2015
          ],
          [
           "Estonia",
           2016
          ],
          [
           "Estonia",
           2017
          ],
          [
           "Estonia",
           2018
          ],
          [
           "Estonia",
           2019
          ],
          [
           "Estonia",
           2020
          ],
          [
           "Estonia",
           2021
          ],
          [
           "Estonia",
           2022
          ],
          [
           "Finland",
           2011
          ],
          [
           "Finland",
           2012
          ],
          [
           "Finland",
           2014
          ],
          [
           "Finland",
           2015
          ],
          [
           "Finland",
           2016
          ],
          [
           "Finland",
           2017
          ],
          [
           "Finland",
           2018
          ],
          [
           "Finland",
           2019
          ],
          [
           "Finland",
           2020
          ],
          [
           "Finland",
           2021
          ],
          [
           "Finland",
           2022
          ],
          [
           "France",
           2012
          ],
          [
           "France",
           2014
          ],
          [
           "France",
           2015
          ],
          [
           "France",
           2016
          ],
          [
           "France",
           2017
          ],
          [
           "France",
           2018
          ],
          [
           "France",
           2019
          ],
          [
           "France",
           2020
          ],
          [
           "France",
           2021
          ],
          [
           "France",
           2022
          ],
          [
           "Germany",
           2011
          ],
          [
           "Germany",
           2012
          ],
          [
           "Germany",
           2014
          ],
          [
           "Germany",
           2015
          ],
          [
           "Germany",
           2016
          ],
          [
           "Germany",
           2017
          ],
          [
           "Germany",
           2018
          ],
          [
           "Germany",
           2019
          ],
          [
           "Germany",
           2020
          ],
          [
           "Germany",
           2021
          ],
          [
           "Germany",
           2022
          ],
          [
           "Greece",
           2011
          ],
          [
           "Greece",
           2012
          ],
          [
           "Greece",
           2014
          ],
          [
           "Greece",
           2015
          ],
          [
           "Greece",
           2016
          ],
          [
           "Greece",
           2017
          ],
          [
           "Greece",
           2018
          ],
          [
           "Greece",
           2019
          ],
          [
           "Greece",
           2020
          ],
          [
           "Greece",
           2021
          ],
          [
           "Greece",
           2022
          ],
          [
           "Hungary",
           2011
          ],
          [
           "Hungary",
           2012
          ],
          [
           "Hungary",
           2014
          ],
          [
           "Ireland",
           2011
          ],
          [
           "Ireland",
           2012
          ],
          [
           "Ireland",
           2014
          ],
          [
           "Ireland",
           2015
          ],
          [
           "Ireland",
           2016
          ],
          [
           "Ireland",
           2017
          ],
          [
           "Ireland",
           2018
          ],
          [
           "Ireland",
           2019
          ],
          [
           "Ireland",
           2020
          ],
          [
           "Ireland",
           2021
          ],
          [
           "Ireland",
           2022
          ],
          [
           "Italy",
           2012
          ],
          [
           "Italy",
           2014
          ],
          [
           "Italy",
           2015
          ],
          [
           "Italy",
           2016
          ],
          [
           "Italy",
           2017
          ],
          [
           "Italy",
           2018
          ],
          [
           "Italy",
           2019
          ],
          [
           "Italy",
           2020
          ],
          [
           "Italy",
           2021
          ],
          [
           "Italy",
           2022
          ],
          [
           "Latvia",
           2011
          ],
          [
           "Latvia",
           2012
          ],
          [
           "Latvia",
           2014
          ],
          [
           "Latvia",
           2015
          ],
          [
           "Latvia",
           2016
          ],
          [
           "Latvia",
           2017
          ],
          [
           "Latvia",
           2018
          ],
          [
           "Latvia",
           2019
          ],
          [
           "Latvia",
           2020
          ],
          [
           "Latvia",
           2021
          ],
          [
           "Latvia",
           2022
          ],
          [
           "Lithuania",
           2011
          ],
          [
           "Lithuania",
           2012
          ],
          [
           "Lithuania",
           2014
          ],
          [
           "Lithuania",
           2015
          ],
          [
           "Lithuania",
           2016
          ],
          [
           "Lithuania",
           2017
          ],
          [
           "Lithuania",
           2018
          ],
          [
           "Lithuania",
           2019
          ],
          [
           "Lithuania",
           2020
          ],
          [
           "Lithuania",
           2021
          ],
          [
           "Lithuania",
           2022
          ],
          [
           "Luxembourg",
           2011
          ],
          [
           "Luxembourg",
           2012
          ],
          [
           "Luxembourg",
           2014
          ],
          [
           "Luxembourg",
           2015
          ],
          [
           "Luxembourg",
           2016
          ],
          [
           "Luxembourg",
           2017
          ],
          [
           "Luxembourg",
           2018
          ],
          [
           "Luxembourg",
           2019
          ],
          [
           "Luxembourg",
           2020
          ],
          [
           "Luxembourg",
           2021
          ],
          [
           "Luxembourg",
           2022
          ],
          [
           "Poland",
           2011
          ],
          [
           "Poland",
           2012
          ],
          [
           "Poland",
           2014
          ],
          [
           "Poland",
           2015
          ],
          [
           "Poland",
           2016
          ],
          [
           "Poland",
           2017
          ],
          [
           "Portugal",
           2011
          ],
          [
           "Portugal",
           2012
          ],
          [
           "Portugal",
           2014
          ],
          [
           "Portugal",
           2015
          ],
          [
           "Portugal",
           2016
          ],
          [
           "Portugal",
           2017
          ],
          [
           "Portugal",
           2018
          ],
          [
           "Portugal",
           2019
          ],
          [
           "Portugal",
           2020
          ],
          [
           "Portugal",
           2021
          ],
          [
           "Portugal",
           2022
          ],
          [
           "Romania",
           2011
          ],
          [
           "Romania",
           2012
          ],
          [
           "Romania",
           2014
          ],
          [
           "Romania",
           2015
          ],
          [
           "Romania",
           2016
          ],
          [
           "Romania",
           2017
          ],
          [
           "Romania",
           2018
          ],
          [
           "Romania",
           2019
          ],
          [
           "Romania",
           2020
          ],
          [
           "Romania",
           2021
          ],
          [
           "Romania",
           2022
          ],
          [
           "Slovakia",
           2011
          ],
          [
           "Slovakia",
           2012
          ],
          [
           "Slovakia",
           2014
          ],
          [
           "Slovakia",
           2015
          ],
          [
           "Slovakia",
           2016
          ],
          [
           "Slovakia",
           2017
          ],
          [
           "Slovakia",
           2018
          ],
          [
           "Slovakia",
           2019
          ],
          [
           "Slovakia",
           2020
          ],
          [
           "Slovakia",
           2021
          ],
          [
           "Slovakia",
           2022
          ],
          [
           "Slovenia",
           2011
          ],
          [
           "Slovenia",
           2012
          ],
          [
           "Slovenia",
           2014
          ],
          [
           "Slovenia",
           2015
          ],
          [
           "Slovenia",
           2016
          ],
          [
           "Slovenia",
           2017
          ],
          [
           "Slovenia",
           2018
          ],
          [
           "Slovenia",
           2019
          ],
          [
           "Slovenia",
           2020
          ],
          [
           "Slovenia",
           2021
          ],
          [
           "Slovenia",
           2022
          ],
          [
           "Spain",
           2011
          ],
          [
           "Spain",
           2012
          ],
          [
           "Spain",
           2014
          ],
          [
           "Spain",
           2015
          ],
          [
           "Spain",
           2016
          ],
          [
           "Spain",
           2017
          ],
          [
           "Spain",
           2018
          ],
          [
           "Spain",
           2019
          ],
          [
           "Spain",
           2020
          ],
          [
           "Spain",
           2021
          ],
          [
           "Spain",
           2022
          ],
          [
           "Sweden",
           2011
          ],
          [
           "Sweden",
           2014
          ],
          [
           "Sweden",
           2015
          ],
          [
           "Sweden",
           2016
          ],
          [
           "Sweden",
           2017
          ],
          [
           "Sweden",
           2018
          ],
          [
           "Sweden",
           2019
          ],
          [
           "Sweden",
           2020
          ],
          [
           "Sweden",
           2021
          ],
          [
           "Sweden",
           2022
          ]
         ],
         "hovertemplate": "Controlled Drug Crime=%{x}<br>Quality of Life=%{y}<br>country=%{customdata[0]}<br>year=%{marker.color}<extra></extra>",
         "legendgroup": "",
         "marker": {
          "color": [
           2011,
           2012,
           2014,
           2015,
           2016,
           2017,
           2018,
           2019,
           2020,
           2021,
           2022,
           2011,
           2011,
           2012,
           2014,
           2015,
           2016,
           2017,
           2018,
           2019,
           2020,
           2021,
           2022,
           2011,
           2012,
           2014,
           2015,
           2016,
           2017,
           2018,
           2019,
           2020,
           2021,
           2022,
           2011,
           2012,
           2014,
           2015,
           2016,
           2017,
           2018,
           2019,
           2020,
           2021,
           2022,
           2011,
           2012,
           2014,
           2015,
           2016,
           2017,
           2018,
           2019,
           2020,
           2021,
           2022,
           2011,
           2012,
           2014,
           2015,
           2016,
           2017,
           2018,
           2019,
           2020,
           2021,
           2022,
           2011,
           2012,
           2014,
           2015,
           2016,
           2017,
           2018,
           2019,
           2020,
           2021,
           2022,
           2012,
           2014,
           2015,
           2016,
           2017,
           2018,
           2019,
           2020,
           2021,
           2022,
           2011,
           2012,
           2014,
           2015,
           2016,
           2017,
           2018,
           2019,
           2020,
           2021,
           2022,
           2011,
           2012,
           2014,
           2015,
           2016,
           2017,
           2018,
           2019,
           2020,
           2021,
           2022,
           2011,
           2012,
           2014,
           2011,
           2012,
           2014,
           2015,
           2016,
           2017,
           2018,
           2019,
           2020,
           2021,
           2022,
           2012,
           2014,
           2015,
           2016,
           2017,
           2018,
           2019,
           2020,
           2021,
           2022,
           2011,
           2012,
           2014,
           2015,
           2016,
           2017,
           2018,
           2019,
           2020,
           2021,
           2022,
           2011,
           2012,
           2014,
           2015,
           2016,
           2017,
           2018,
           2019,
           2020,
           2021,
           2022,
           2011,
           2012,
           2014,
           2015,
           2016,
           2017,
           2018,
           2019,
           2020,
           2021,
           2022,
           2011,
           2012,
           2014,
           2015,
           2016,
           2017,
           2011,
           2012,
           2014,
           2015,
           2016,
           2017,
           2018,
           2019,
           2020,
           2021,
           2022,
           2011,
           2012,
           2014,
           2015,
           2016,
           2017,
           2018,
           2019,
           2020,
           2021,
           2022,
           2011,
           2012,
           2014,
           2015,
           2016,
           2017,
           2018,
           2019,
           2020,
           2021,
           2022,
           2011,
           2012,
           2014,
           2015,
           2016,
           2017,
           2018,
           2019,
           2020,
           2021,
           2022,
           2011,
           2012,
           2014,
           2015,
           2016,
           2017,
           2018,
           2019,
           2020,
           2021,
           2022,
           2011,
           2014,
           2015,
           2016,
           2017,
           2018,
           2019,
           2020,
           2021,
           2022
          ],
          "coloraxis": "coloraxis",
          "opacity": 0.5,
          "symbol": "circle"
         },
         "mode": "markers",
         "name": "",
         "orientation": "v",
         "showlegend": false,
         "type": "scatter",
         "x": [
          -0.44143324682081264,
          -0.44647089828964365,
          -0.031643198247176305,
          0.028136932516285174,
          0.07629993368041207,
          0.1749768400274537,
          0.15174258082878456,
          0.1912805120538523,
          0.14575846150823377,
          0.06448435114442659,
          0.06098852633726809,
          -0.26580239788474924,
          -0.4332050827550553,
          -0.4316632560933828,
          -0.4274041507606438,
          -0.41563436505619317,
          -0.4045210006037417,
          -0.4006893323653278,
          -0.3923390434154776,
          -0.39334657370924375,
          -0.40181898754318685,
          -0.4018342531536985,
          -0.3950868533075672,
          -0.35828146636407754,
          -0.3654868345255571,
          -0.4355254555528199,
          -0.43346459813375265,
          -0.29950886589438225,
          -0.29654733745513007,
          -0.3058898910882349,
          -0.3059051566987465,
          -0.33616159673275586,
          -0.3402069835183323,
          -0.3366348306586157,
          -0.4213589689980466,
          -0.41862642471646855,
          -0.3914078411742694,
          -0.39214059047882666,
          -0.3918658094896177,
          -0.3913773099532462,
          -0.39342290176180184,
          -0.40328448615230134,
          -0.41287128955359187,
          -0.41279496150103384,
          -0.4127338990589874,
          -0.1246107662628761,
          -0.12358797035859828,
          -0.047992667105109715,
          -0.09806386958318776,
          -0.11531400946130611,
          -0.05423630180435786,
          -0.016285994072497485,
          0.026213465591822423,
          -0.0002418374247962558,
          -0.03924547228195766,
          0.0004909118797609839,
          -0.41851956544288726,
          -0.406383405086158,
          -0.4149932094147056,
          -0.40079619163890906,
          -0.3905529669856193,
          -0.3881867973563199,
          -0.40807788785294663,
          -0.4158175523823325,
          -0.4203514387042804,
          -0.42158795315572073,
          -0.4255417462782275,
          -0.16552260243398864,
          -0.1699801607033785,
          -0.14434920065438675,
          -0.11913041208920841,
          -0.09336206154561213,
          -0.05492325427738027,
          -0.03146001092103699,
          0.016886177569229225,
          0.08987106142523263,
          -0.04519906038148524,
          -0.09206448465212537,
          -0.3867518299682286,
          -0.3715930787302007,
          -0.36261689974937455,
          3.2157032666138594,
          2.990627105230694,
          3.2954508159265057,
          3.25763789868925,
          2.8489011772409145,
          3.9452315273531497,
          4.58786793306036,
          3.1331315793565655,
          3.143390069620367,
          3.747663996111904,
          3.8372731298150495,
          4.142432683942117,
          4.56965605972001,
          4.876220050014146,
          5.014908121512115,
          5.106593378244839,
          5.034768680787718,
          4.723792929055728,
          -0.32746019874113863,
          -0.32199511017798255,
          -0.31114126110422846,
          -0.3121793226190179,
          -0.3076149050760467,
          -0.28152597671170665,
          -0.27033628420669714,
          -0.26931348830241936,
          -0.2810985396173816,
          -0.29399798049969134,
          -0.2932804968056457,
          -0.38542372185371865,
          -0.3972698356107273,
          -0.38337813004516297,
          -0.2086021552977497,
          -0.2267834974170762,
          -0.23469108366208977,
          -0.25468903343229776,
          -0.24313296627500963,
          -0.22852377701539967,
          -0.20612912639486902,
          -0.1624389491106436,
          -0.13847194060741722,
          -0.18407031920559377,
          -0.22272284502098819,
          0.03992198383124745,
          0.02261078151108266,
          0.008383232514262921,
          0.0603321050852689,
          0.10841877819683776,
          0.11508984999041096,
          0.09863352185889629,
          0.0403341553150609,
          -0.020865677225980234,
          -0.031811119962804,
          -0.44682200733141064,
          -0.4348690343008207,
          -0.43567811165793596,
          -0.42297712371227714,
          -0.4361971424153307,
          -0.4312205533885461,
          -0.4370520166039808,
          -0.44089895045290634,
          -0.4466998824473178,
          -0.45451587502926166,
          -0.45752320030004867,
          -0.4424102458935556,
          -0.43096103800984875,
          -0.43735732881421296,
          -0.43831906227644435,
          -0.4419217463571841,
          -0.43682303244630666,
          -0.4276941973603644,
          -0.42984664844250126,
          -0.43196856830361496,
          -0.4288391181487351,
          -0.4298313828319897,
          -0.43195330269310334,
          -0.4374183912562594,
          -0.4128865551641035,
          -0.40548273406597307,
          -0.4160770677610298,
          -0.43589183020509853,
          -0.4310068348413836,
          -0.41215380585954625,
          -0.4063376082546232,
          -0.4192523147474445,
          -0.42210698391311546,
          0.660972816275043,
          0.6888020242377064,
          0.4971880810959883,
          0.363033895919967,
          0.4459414266085163,
          0.5101027875888097,
          -0.4125201805118249,
          -0.4060475616549026,
          -0.40432254766709075,
          -0.39597225871724057,
          -0.38913326520803965,
          -0.37791304148200694,
          -0.37701237046182196,
          -0.3890874683765048,
          -0.41630605191870396,
          -0.4090548869256896,
          -0.3782488849132623,
          -0.42409151327962463,
          -0.4330066298184044,
          -0.44010513870630263,
          -0.3997123332925848,
          -0.4085663873893181,
          -0.3832865363820933,
          -0.34730549240623054,
          -0.3531827524532001,
          -0.37594377772600934,
          -0.35748765461747384,
          -0.3357494252489424,
          -0.4652170679978997,
          -0.4652628648294345,
          -0.4522870958945667,
          -0.4501346448124299,
          -0.4540579067139134,
          -0.4542563596505643,
          -0.45283665787298466,
          -0.4505468162962433,
          -0.4540579067139134,
          -0.44979880138117445,
          -0.4537067976721464,
          -0.45387471938777413,
          -0.44998198870731376,
          -0.45147801853745145,
          -0.45033309774908076,
          -0.45491278090256354,
          -0.4520581117368926,
          -0.4536915320616348,
          -0.4559050455858181,
          -0.45401210988237856,
          -0.45515703067074925,
          -0.45576765509121364,
          -0.24450687122105444,
          -0.25536072029480855,
          -0.2721223606365554,
          -0.29260880994313493,
          -0.28682314355923505,
          -0.2790376821983144,
          -0.2611005898471736,
          -0.22307395406275518,
          -0.21562433613308993,
          -0.1972903379086473,
          -0.1859327236880101,
          0.9275409070287621,
          1.0225235356319944,
          0.9971673565722116,
          0.9512026033217563,
          1.0902875806930274,
          1.182293415246496,
          1.284618802505812,
          1.4503575358303529,
          1.3585806854345586,
          1.2920531548249659
         ],
         "xaxis": "x",
         "y": [
          1.07512469036187,
          1.261656080920897,
          1.0396574541288153,
          0.9332557454296511,
          0.7848187937876085,
          0.9595277722689514,
          1.1000831158592048,
          1.163135980273523,
          1.1289823453824337,
          0.991054204476111,
          0.9043565159064223,
          0.9253741373778621,
          -3.3096765891172453,
          -3.1888252656564666,
          -2.8775017476107654,
          -2.878815348952731,
          -2.225955481996133,
          -1.9382767881058025,
          -1.8358158834325335,
          -1.7162781613137197,
          -1.5008475412314628,
          -1.362919400325139,
          -1.2381272728384658,
          -1.0318918621499635,
          -0.981975011155295,
          -0.8532420796427256,
          -1.209228043315236,
          -1.465380304998408,
          -1.428599467423389,
          -1.282789718465275,
          -1.186896820501832,
          -0.6916691145810335,
          -0.3724639884835421,
          -0.3724639884835421,
          -0.06376767312177058,
          -0.15571976705931978,
          0.12670452146315145,
          0.2462422435819652,
          0.26331906102750985,
          0.3973063979079386,
          0.5825241871250012,
          0.6600266663009343,
          0.7309611387670438,
          0.6718490783786196,
          0.5733289777312456,
          1.901379934457844,
          1.6872629157175514,
          1.4692050929513647,
          1.4678914916093995,
          1.46263708624154,
          1.5059859305263839,
          1.565097990914808,
          1.6255236526451975,
          1.5913700177541081,
          1.612387639225548,
          1.5467075721272991,
          -1.4167770553457038,
          -1.2906713265170653,
          -1.2867305224911703,
          -1.1711336043982516,
          -1.0476550782535439,
          -0.8795141064820259,
          -0.6772194998194185,
          -0.5077649267059351,
          -0.28839350259778307,
          -0.08872609861910542,
          0.061024454364902524,
          1.5375123627335434,
          1.2879281077601972,
          1.3102593305736012,
          1.319454539967357,
          1.393016215117396,
          1.6071332338576874,
          1.7870966177068908,
          1.8396406713854903,
          1.882989515670334,
          1.8554038874890695,
          1.8330726646756654,
          0.4669272690320826,
          0.21865661540070067,
          0.09123728523009673,
          0.043947636919357866,
          0.1056868999917117,
          0.2409878382141047,
          0.3355671348355836,
          0.36972076972667406,
          0.3657799657007789,
          0.33162633080968845,
          0.21471581137480558,
          0.34607594557130344,
          0.4485368502445725,
          0.7690555776840282,
          0.7125707199795337,
          0.7309611387670438,
          0.757233165606344,
          0.8767708877251567,
          0.9805453937403912,
          0.8215996313626276,
          0.6350682408036006,
          -0.3619551777478222,
          -1.278848914439381,
          -2.0381104900951406,
          -1.8069166539093036,
          -1.5520779935680968,
          -1.3799962177706848,
          -1.4732619130501983,
          -1.1737608070821823,
          -0.9005317279534656,
          -0.6049714260113437,
          -0.6273026488247488,
          -1.925140774686153,
          -2.145825800136269,
          -2.1129857665871454,
          1.1499999668538734,
          0.8767708877251567,
          0.6981211052179199,
          0.654772260933075,
          0.7467243548706242,
          0.7467243548706242,
          0.8045228139170829,
          0.9004157118805273,
          0.888593299802842,
          0.8307948407563832,
          0.6600266663009343,
          -0.5090785280479004,
          -0.6049714260113437,
          -0.5668769870943592,
          -0.5839538045399039,
          -0.536664156229165,
          -0.24373105697097389,
          -0.02830043688871701,
          0.0978052919399215,
          0.07678767046848176,
          -0.004655612733346416,
          -2.162902617581815,
          -1.7898398364637589,
          -1.7215325666815802,
          -1.1146487466937582,
          -0.7337043575239129,
          -0.6246754461408192,
          -0.6154802367470635,
          -0.602344223327414,
          -0.4946289132862855,
          -0.3002159146754684,
          -0.25686707039062345,
          -1.077867909118738,
          -1.2906713265170653,
          -0.756035580337317,
          -0.7823076071766173,
          -0.6653970877417332,
          -0.5997170206434843,
          -0.34093755627638245,
          -0.25423986770669377,
          -0.2016958140280944,
          0.049202042287217224,
          0.4656136676901172,
          0.8439308541760328,
          0.8478716582019279,
          0.7060027132697089,
          0.607482612622336,
          0.5969738018866162,
          0.6587130649589701,
          0.8951613065126667,
          1.089574305123485,
          1.202544020532473,
          1.3076321278896716,
          1.0764382917038342,
          -0.7954436205962668,
          -0.770485195098932,
          -0.8112068366998461,
          -0.7534083776533873,
          -0.5721313924622198,
          -0.37509119116747175,
          -1.420717859371599,
          -1.7175917626556851,
          -1.7162781613137197,
          -1.6886925331324552,
          -1.5941132365109763,
          -1.311688947988505,
          -0.9399397682124154,
          -0.653574675664049,
          -0.6299298515086785,
          -0.5156465347577253,
          -0.5786993991720445,
          -1.6164444593243814,
          -1.8069166539093036,
          -1.6873789317904908,
          -1.1566839896366377,
          -0.7665443910730368,
          -0.6089122300372387,
          -0.4447120622916158,
          -0.3737775898255075,
          -0.35275996835406775,
          0.08992368388813247,
          0.23704703418821074,
          -0.9872294165231543,
          -0.5773857978300792,
          -0.5432321629389898,
          -0.43420325155589595,
          -0.4079312247165968,
          -0.30941112406922283,
          -0.27657109052009776,
          -0.1675421791370051,
          -0.10186211203875498,
          -0.02304603152085649,
          0.0794148731524126,
          -0.6391250609024342,
          -0.4578480757112665,
          -0.7363315602078426,
          -0.8414196675650414,
          -0.854555680984691,
          -0.6049714260113437,
          -0.3816591978772966,
          -0.05982686909587548,
          0.06890606241669273,
          0.2909046892087744,
          0.3171767160480747,
          0.4629864650061875,
          -0.11368452411644028,
          -0.10448931472268583,
          -0.06245407177980632,
          -0.007282815417277259,
          -0.12944774022002067,
          -0.07164928117356077,
          -0.009910018101206937,
          0.10831410267564139,
          0.08861008254616705,
          0.03606602886756767,
          1.2747920943405464,
          1.2550880742110722,
          1.1591951762476291,
          1.1499999668538734,
          1.1894080071128232,
          1.2275024460298076,
          1.2406384594494573,
          1.2537744728691078,
          1.2813601010503723,
          1.2958097158119863
         ],
         "yaxis": "y"
        }
       ],
       "layout": {
        "coloraxis": {
         "colorbar": {
          "title": {
           "text": "year"
          }
         },
         "colorscale": [
          [
           0,
           "#0d0887"
          ],
          [
           0.1111111111111111,
           "#46039f"
          ],
          [
           0.2222222222222222,
           "#7201a8"
          ],
          [
           0.3333333333333333,
           "#9c179e"
          ],
          [
           0.4444444444444444,
           "#bd3786"
          ],
          [
           0.5555555555555556,
           "#d8576b"
          ],
          [
           0.6666666666666666,
           "#ed7953"
          ],
          [
           0.7777777777777778,
           "#fb9f3a"
          ],
          [
           0.8888888888888888,
           "#fdca26"
          ],
          [
           1,
           "#f0f921"
          ]
         ]
        },
        "legend": {
         "tracegroupgap": 0
        },
        "template": {
         "data": {
          "bar": [
           {
            "error_x": {
             "color": "#2a3f5f"
            },
            "error_y": {
             "color": "#2a3f5f"
            },
            "marker": {
             "line": {
              "color": "#E5ECF6",
              "width": 0.5
             },
             "pattern": {
              "fillmode": "overlay",
              "size": 10,
              "solidity": 0.2
             }
            },
            "type": "bar"
           }
          ],
          "barpolar": [
           {
            "marker": {
             "line": {
              "color": "#E5ECF6",
              "width": 0.5
             },
             "pattern": {
              "fillmode": "overlay",
              "size": 10,
              "solidity": 0.2
             }
            },
            "type": "barpolar"
           }
          ],
          "carpet": [
           {
            "aaxis": {
             "endlinecolor": "#2a3f5f",
             "gridcolor": "white",
             "linecolor": "white",
             "minorgridcolor": "white",
             "startlinecolor": "#2a3f5f"
            },
            "baxis": {
             "endlinecolor": "#2a3f5f",
             "gridcolor": "white",
             "linecolor": "white",
             "minorgridcolor": "white",
             "startlinecolor": "#2a3f5f"
            },
            "type": "carpet"
           }
          ],
          "choropleth": [
           {
            "colorbar": {
             "outlinewidth": 0,
             "ticks": ""
            },
            "type": "choropleth"
           }
          ],
          "contour": [
           {
            "colorbar": {
             "outlinewidth": 0,
             "ticks": ""
            },
            "colorscale": [
             [
              0,
              "#0d0887"
             ],
             [
              0.1111111111111111,
              "#46039f"
             ],
             [
              0.2222222222222222,
              "#7201a8"
             ],
             [
              0.3333333333333333,
              "#9c179e"
             ],
             [
              0.4444444444444444,
              "#bd3786"
             ],
             [
              0.5555555555555556,
              "#d8576b"
             ],
             [
              0.6666666666666666,
              "#ed7953"
             ],
             [
              0.7777777777777778,
              "#fb9f3a"
             ],
             [
              0.8888888888888888,
              "#fdca26"
             ],
             [
              1,
              "#f0f921"
             ]
            ],
            "type": "contour"
           }
          ],
          "contourcarpet": [
           {
            "colorbar": {
             "outlinewidth": 0,
             "ticks": ""
            },
            "type": "contourcarpet"
           }
          ],
          "heatmap": [
           {
            "colorbar": {
             "outlinewidth": 0,
             "ticks": ""
            },
            "colorscale": [
             [
              0,
              "#0d0887"
             ],
             [
              0.1111111111111111,
              "#46039f"
             ],
             [
              0.2222222222222222,
              "#7201a8"
             ],
             [
              0.3333333333333333,
              "#9c179e"
             ],
             [
              0.4444444444444444,
              "#bd3786"
             ],
             [
              0.5555555555555556,
              "#d8576b"
             ],
             [
              0.6666666666666666,
              "#ed7953"
             ],
             [
              0.7777777777777778,
              "#fb9f3a"
             ],
             [
              0.8888888888888888,
              "#fdca26"
             ],
             [
              1,
              "#f0f921"
             ]
            ],
            "type": "heatmap"
           }
          ],
          "heatmapgl": [
           {
            "colorbar": {
             "outlinewidth": 0,
             "ticks": ""
            },
            "colorscale": [
             [
              0,
              "#0d0887"
             ],
             [
              0.1111111111111111,
              "#46039f"
             ],
             [
              0.2222222222222222,
              "#7201a8"
             ],
             [
              0.3333333333333333,
              "#9c179e"
             ],
             [
              0.4444444444444444,
              "#bd3786"
             ],
             [
              0.5555555555555556,
              "#d8576b"
             ],
             [
              0.6666666666666666,
              "#ed7953"
             ],
             [
              0.7777777777777778,
              "#fb9f3a"
             ],
             [
              0.8888888888888888,
              "#fdca26"
             ],
             [
              1,
              "#f0f921"
             ]
            ],
            "type": "heatmapgl"
           }
          ],
          "histogram": [
           {
            "marker": {
             "pattern": {
              "fillmode": "overlay",
              "size": 10,
              "solidity": 0.2
             }
            },
            "type": "histogram"
           }
          ],
          "histogram2d": [
           {
            "colorbar": {
             "outlinewidth": 0,
             "ticks": ""
            },
            "colorscale": [
             [
              0,
              "#0d0887"
             ],
             [
              0.1111111111111111,
              "#46039f"
             ],
             [
              0.2222222222222222,
              "#7201a8"
             ],
             [
              0.3333333333333333,
              "#9c179e"
             ],
             [
              0.4444444444444444,
              "#bd3786"
             ],
             [
              0.5555555555555556,
              "#d8576b"
             ],
             [
              0.6666666666666666,
              "#ed7953"
             ],
             [
              0.7777777777777778,
              "#fb9f3a"
             ],
             [
              0.8888888888888888,
              "#fdca26"
             ],
             [
              1,
              "#f0f921"
             ]
            ],
            "type": "histogram2d"
           }
          ],
          "histogram2dcontour": [
           {
            "colorbar": {
             "outlinewidth": 0,
             "ticks": ""
            },
            "colorscale": [
             [
              0,
              "#0d0887"
             ],
             [
              0.1111111111111111,
              "#46039f"
             ],
             [
              0.2222222222222222,
              "#7201a8"
             ],
             [
              0.3333333333333333,
              "#9c179e"
             ],
             [
              0.4444444444444444,
              "#bd3786"
             ],
             [
              0.5555555555555556,
              "#d8576b"
             ],
             [
              0.6666666666666666,
              "#ed7953"
             ],
             [
              0.7777777777777778,
              "#fb9f3a"
             ],
             [
              0.8888888888888888,
              "#fdca26"
             ],
             [
              1,
              "#f0f921"
             ]
            ],
            "type": "histogram2dcontour"
           }
          ],
          "mesh3d": [
           {
            "colorbar": {
             "outlinewidth": 0,
             "ticks": ""
            },
            "type": "mesh3d"
           }
          ],
          "parcoords": [
           {
            "line": {
             "colorbar": {
              "outlinewidth": 0,
              "ticks": ""
             }
            },
            "type": "parcoords"
           }
          ],
          "pie": [
           {
            "automargin": true,
            "type": "pie"
           }
          ],
          "scatter": [
           {
            "fillpattern": {
             "fillmode": "overlay",
             "size": 10,
             "solidity": 0.2
            },
            "type": "scatter"
           }
          ],
          "scatter3d": [
           {
            "line": {
             "colorbar": {
              "outlinewidth": 0,
              "ticks": ""
             }
            },
            "marker": {
             "colorbar": {
              "outlinewidth": 0,
              "ticks": ""
             }
            },
            "type": "scatter3d"
           }
          ],
          "scattercarpet": [
           {
            "marker": {
             "colorbar": {
              "outlinewidth": 0,
              "ticks": ""
             }
            },
            "type": "scattercarpet"
           }
          ],
          "scattergeo": [
           {
            "marker": {
             "colorbar": {
              "outlinewidth": 0,
              "ticks": ""
             }
            },
            "type": "scattergeo"
           }
          ],
          "scattergl": [
           {
            "marker": {
             "colorbar": {
              "outlinewidth": 0,
              "ticks": ""
             }
            },
            "type": "scattergl"
           }
          ],
          "scattermapbox": [
           {
            "marker": {
             "colorbar": {
              "outlinewidth": 0,
              "ticks": ""
             }
            },
            "type": "scattermapbox"
           }
          ],
          "scatterpolar": [
           {
            "marker": {
             "colorbar": {
              "outlinewidth": 0,
              "ticks": ""
             }
            },
            "type": "scatterpolar"
           }
          ],
          "scatterpolargl": [
           {
            "marker": {
             "colorbar": {
              "outlinewidth": 0,
              "ticks": ""
             }
            },
            "type": "scatterpolargl"
           }
          ],
          "scatterternary": [
           {
            "marker": {
             "colorbar": {
              "outlinewidth": 0,
              "ticks": ""
             }
            },
            "type": "scatterternary"
           }
          ],
          "surface": [
           {
            "colorbar": {
             "outlinewidth": 0,
             "ticks": ""
            },
            "colorscale": [
             [
              0,
              "#0d0887"
             ],
             [
              0.1111111111111111,
              "#46039f"
             ],
             [
              0.2222222222222222,
              "#7201a8"
             ],
             [
              0.3333333333333333,
              "#9c179e"
             ],
             [
              0.4444444444444444,
              "#bd3786"
             ],
             [
              0.5555555555555556,
              "#d8576b"
             ],
             [
              0.6666666666666666,
              "#ed7953"
             ],
             [
              0.7777777777777778,
              "#fb9f3a"
             ],
             [
              0.8888888888888888,
              "#fdca26"
             ],
             [
              1,
              "#f0f921"
             ]
            ],
            "type": "surface"
           }
          ],
          "table": [
           {
            "cells": {
             "fill": {
              "color": "#EBF0F8"
             },
             "line": {
              "color": "white"
             }
            },
            "header": {
             "fill": {
              "color": "#C8D4E3"
             },
             "line": {
              "color": "white"
             }
            },
            "type": "table"
           }
          ]
         },
         "layout": {
          "annotationdefaults": {
           "arrowcolor": "#2a3f5f",
           "arrowhead": 0,
           "arrowwidth": 1
          },
          "autotypenumbers": "strict",
          "coloraxis": {
           "colorbar": {
            "outlinewidth": 0,
            "ticks": ""
           }
          },
          "colorscale": {
           "diverging": [
            [
             0,
             "#8e0152"
            ],
            [
             0.1,
             "#c51b7d"
            ],
            [
             0.2,
             "#de77ae"
            ],
            [
             0.3,
             "#f1b6da"
            ],
            [
             0.4,
             "#fde0ef"
            ],
            [
             0.5,
             "#f7f7f7"
            ],
            [
             0.6,
             "#e6f5d0"
            ],
            [
             0.7,
             "#b8e186"
            ],
            [
             0.8,
             "#7fbc41"
            ],
            [
             0.9,
             "#4d9221"
            ],
            [
             1,
             "#276419"
            ]
           ],
           "sequential": [
            [
             0,
             "#0d0887"
            ],
            [
             0.1111111111111111,
             "#46039f"
            ],
            [
             0.2222222222222222,
             "#7201a8"
            ],
            [
             0.3333333333333333,
             "#9c179e"
            ],
            [
             0.4444444444444444,
             "#bd3786"
            ],
            [
             0.5555555555555556,
             "#d8576b"
            ],
            [
             0.6666666666666666,
             "#ed7953"
            ],
            [
             0.7777777777777778,
             "#fb9f3a"
            ],
            [
             0.8888888888888888,
             "#fdca26"
            ],
            [
             1,
             "#f0f921"
            ]
           ],
           "sequentialminus": [
            [
             0,
             "#0d0887"
            ],
            [
             0.1111111111111111,
             "#46039f"
            ],
            [
             0.2222222222222222,
             "#7201a8"
            ],
            [
             0.3333333333333333,
             "#9c179e"
            ],
            [
             0.4444444444444444,
             "#bd3786"
            ],
            [
             0.5555555555555556,
             "#d8576b"
            ],
            [
             0.6666666666666666,
             "#ed7953"
            ],
            [
             0.7777777777777778,
             "#fb9f3a"
            ],
            [
             0.8888888888888888,
             "#fdca26"
            ],
            [
             1,
             "#f0f921"
            ]
           ]
          },
          "colorway": [
           "#636efa",
           "#EF553B",
           "#00cc96",
           "#ab63fa",
           "#FFA15A",
           "#19d3f3",
           "#FF6692",
           "#B6E880",
           "#FF97FF",
           "#FECB52"
          ],
          "font": {
           "color": "#2a3f5f"
          },
          "geo": {
           "bgcolor": "white",
           "lakecolor": "white",
           "landcolor": "#E5ECF6",
           "showlakes": true,
           "showland": true,
           "subunitcolor": "white"
          },
          "hoverlabel": {
           "align": "left"
          },
          "hovermode": "closest",
          "mapbox": {
           "style": "light"
          },
          "paper_bgcolor": "white",
          "plot_bgcolor": "#E5ECF6",
          "polar": {
           "angularaxis": {
            "gridcolor": "white",
            "linecolor": "white",
            "ticks": ""
           },
           "bgcolor": "#E5ECF6",
           "radialaxis": {
            "gridcolor": "white",
            "linecolor": "white",
            "ticks": ""
           }
          },
          "scene": {
           "xaxis": {
            "backgroundcolor": "#E5ECF6",
            "gridcolor": "white",
            "gridwidth": 2,
            "linecolor": "white",
            "showbackground": true,
            "ticks": "",
            "zerolinecolor": "white"
           },
           "yaxis": {
            "backgroundcolor": "#E5ECF6",
            "gridcolor": "white",
            "gridwidth": 2,
            "linecolor": "white",
            "showbackground": true,
            "ticks": "",
            "zerolinecolor": "white"
           },
           "zaxis": {
            "backgroundcolor": "#E5ECF6",
            "gridcolor": "white",
            "gridwidth": 2,
            "linecolor": "white",
            "showbackground": true,
            "ticks": "",
            "zerolinecolor": "white"
           }
          },
          "shapedefaults": {
           "line": {
            "color": "#2a3f5f"
           }
          },
          "ternary": {
           "aaxis": {
            "gridcolor": "white",
            "linecolor": "white",
            "ticks": ""
           },
           "baxis": {
            "gridcolor": "white",
            "linecolor": "white",
            "ticks": ""
           },
           "bgcolor": "#E5ECF6",
           "caxis": {
            "gridcolor": "white",
            "linecolor": "white",
            "ticks": ""
           }
          },
          "title": {
           "x": 0.05
          },
          "xaxis": {
           "automargin": true,
           "gridcolor": "white",
           "linecolor": "white",
           "ticks": "",
           "title": {
            "standoff": 15
           },
           "zerolinecolor": "white",
           "zerolinewidth": 2
          },
          "yaxis": {
           "automargin": true,
           "gridcolor": "white",
           "linecolor": "white",
           "ticks": "",
           "title": {
            "standoff": 15
           },
           "zerolinecolor": "white",
           "zerolinewidth": 2
          }
         }
        },
        "title": {
         "text": "Comparing Relationship of Controlled Drug Crime and Quality of Life in Europe"
        },
        "xaxis": {
         "anchor": "y",
         "domain": [
          0,
          1
         ],
         "title": {
          "text": "Controlled Drug Crime"
         }
        },
        "yaxis": {
         "anchor": "x",
         "domain": [
          0,
          1
         ],
         "title": {
          "text": "Quality of Life"
         }
        }
       }
      }
     },
     "metadata": {},
     "output_type": "display_data"
    }
   ],
   "source": [
    "fig = px.scatter(\n",
    "    combined,\n",
    "    x='safety',\n",
    "    y='qol',\n",
    "    color='year',\n",
    "    opacity=0.5,\n",
    "    labels={'safety': 'Controlled Drug Crime', 'qol': 'Quality of Life'},\n",
    "    title='Comparing Relationship of Controlled Drug Crime and Quality of Life in Europe',\n",
    "    hover_data=['country', 'year']\n",
    ")\n",
    "\n",
    "pio.write_image(fig, \"safety_qol.jpg\", format=\"jpg\", width=800, height=600, scale=2)\n",
    "fig.show()"
   ]
  },
  {
   "cell_type": "code",
   "execution_count": 20,
   "id": "aa6c0501",
   "metadata": {},
   "outputs": [
    {
     "data": {
      "application/vnd.plotly.v1+json": {
       "config": {
        "plotlyServerURL": "https://plot.ly"
       },
       "data": [
        {
         "customdata": [
          [
           "Austria",
           2011
          ],
          [
           "Austria",
           2012
          ],
          [
           "Austria",
           2014
          ],
          [
           "Austria",
           2015
          ],
          [
           "Austria",
           2016
          ],
          [
           "Austria",
           2017
          ],
          [
           "Austria",
           2018
          ],
          [
           "Austria",
           2019
          ],
          [
           "Austria",
           2020
          ],
          [
           "Austria",
           2021
          ],
          [
           "Austria",
           2022
          ],
          [
           "Belgium",
           2011
          ],
          [
           "Bulgaria",
           2011
          ],
          [
           "Bulgaria",
           2012
          ],
          [
           "Bulgaria",
           2014
          ],
          [
           "Bulgaria",
           2015
          ],
          [
           "Bulgaria",
           2016
          ],
          [
           "Bulgaria",
           2017
          ],
          [
           "Bulgaria",
           2018
          ],
          [
           "Bulgaria",
           2019
          ],
          [
           "Bulgaria",
           2020
          ],
          [
           "Bulgaria",
           2021
          ],
          [
           "Bulgaria",
           2022
          ],
          [
           "Croatia",
           2011
          ],
          [
           "Croatia",
           2012
          ],
          [
           "Croatia",
           2014
          ],
          [
           "Croatia",
           2015
          ],
          [
           "Croatia",
           2016
          ],
          [
           "Croatia",
           2017
          ],
          [
           "Croatia",
           2018
          ],
          [
           "Croatia",
           2019
          ],
          [
           "Croatia",
           2020
          ],
          [
           "Croatia",
           2021
          ],
          [
           "Croatia",
           2022
          ],
          [
           "Czechia",
           2011
          ],
          [
           "Czechia",
           2012
          ],
          [
           "Czechia",
           2014
          ],
          [
           "Czechia",
           2015
          ],
          [
           "Czechia",
           2016
          ],
          [
           "Czechia",
           2017
          ],
          [
           "Czechia",
           2018
          ],
          [
           "Czechia",
           2019
          ],
          [
           "Czechia",
           2020
          ],
          [
           "Czechia",
           2021
          ],
          [
           "Czechia",
           2022
          ],
          [
           "Denmark",
           2011
          ],
          [
           "Denmark",
           2012
          ],
          [
           "Denmark",
           2014
          ],
          [
           "Denmark",
           2015
          ],
          [
           "Denmark",
           2016
          ],
          [
           "Denmark",
           2017
          ],
          [
           "Denmark",
           2018
          ],
          [
           "Denmark",
           2019
          ],
          [
           "Denmark",
           2020
          ],
          [
           "Denmark",
           2021
          ],
          [
           "Denmark",
           2022
          ],
          [
           "Estonia",
           2011
          ],
          [
           "Estonia",
           2012
          ],
          [
           "Estonia",
           2014
          ],
          [
           "Estonia",
           2015
          ],
          [
           "Estonia",
           2016
          ],
          [
           "Estonia",
           2017
          ],
          [
           "Estonia",
           2018
          ],
          [
           "Estonia",
           2019
          ],
          [
           "Estonia",
           2020
          ],
          [
           "Estonia",
           2021
          ],
          [
           "Estonia",
           2022
          ],
          [
           "Finland",
           2011
          ],
          [
           "Finland",
           2012
          ],
          [
           "Finland",
           2014
          ],
          [
           "Finland",
           2015
          ],
          [
           "Finland",
           2016
          ],
          [
           "Finland",
           2017
          ],
          [
           "Finland",
           2018
          ],
          [
           "Finland",
           2019
          ],
          [
           "Finland",
           2020
          ],
          [
           "Finland",
           2021
          ],
          [
           "Finland",
           2022
          ],
          [
           "France",
           2012
          ],
          [
           "France",
           2014
          ],
          [
           "France",
           2015
          ],
          [
           "France",
           2016
          ],
          [
           "France",
           2017
          ],
          [
           "France",
           2018
          ],
          [
           "France",
           2019
          ],
          [
           "France",
           2020
          ],
          [
           "France",
           2021
          ],
          [
           "France",
           2022
          ],
          [
           "Germany",
           2011
          ],
          [
           "Germany",
           2012
          ],
          [
           "Germany",
           2014
          ],
          [
           "Germany",
           2015
          ],
          [
           "Germany",
           2016
          ],
          [
           "Germany",
           2017
          ],
          [
           "Germany",
           2018
          ],
          [
           "Germany",
           2019
          ],
          [
           "Germany",
           2020
          ],
          [
           "Germany",
           2021
          ],
          [
           "Germany",
           2022
          ],
          [
           "Greece",
           2011
          ],
          [
           "Greece",
           2012
          ],
          [
           "Greece",
           2014
          ],
          [
           "Greece",
           2015
          ],
          [
           "Greece",
           2016
          ],
          [
           "Greece",
           2017
          ],
          [
           "Greece",
           2018
          ],
          [
           "Greece",
           2019
          ],
          [
           "Greece",
           2020
          ],
          [
           "Greece",
           2021
          ],
          [
           "Greece",
           2022
          ],
          [
           "Hungary",
           2011
          ],
          [
           "Hungary",
           2012
          ],
          [
           "Hungary",
           2014
          ],
          [
           "Ireland",
           2011
          ],
          [
           "Ireland",
           2012
          ],
          [
           "Ireland",
           2014
          ],
          [
           "Ireland",
           2015
          ],
          [
           "Ireland",
           2016
          ],
          [
           "Ireland",
           2017
          ],
          [
           "Ireland",
           2018
          ],
          [
           "Ireland",
           2019
          ],
          [
           "Ireland",
           2020
          ],
          [
           "Ireland",
           2021
          ],
          [
           "Ireland",
           2022
          ],
          [
           "Italy",
           2012
          ],
          [
           "Italy",
           2014
          ],
          [
           "Italy",
           2015
          ],
          [
           "Italy",
           2016
          ],
          [
           "Italy",
           2017
          ],
          [
           "Italy",
           2018
          ],
          [
           "Italy",
           2019
          ],
          [
           "Italy",
           2020
          ],
          [
           "Italy",
           2021
          ],
          [
           "Italy",
           2022
          ],
          [
           "Latvia",
           2011
          ],
          [
           "Latvia",
           2012
          ],
          [
           "Latvia",
           2014
          ],
          [
           "Latvia",
           2015
          ],
          [
           "Latvia",
           2016
          ],
          [
           "Latvia",
           2017
          ],
          [
           "Latvia",
           2018
          ],
          [
           "Latvia",
           2019
          ],
          [
           "Latvia",
           2020
          ],
          [
           "Latvia",
           2021
          ],
          [
           "Latvia",
           2022
          ],
          [
           "Lithuania",
           2011
          ],
          [
           "Lithuania",
           2012
          ],
          [
           "Lithuania",
           2014
          ],
          [
           "Lithuania",
           2015
          ],
          [
           "Lithuania",
           2016
          ],
          [
           "Lithuania",
           2017
          ],
          [
           "Lithuania",
           2018
          ],
          [
           "Lithuania",
           2019
          ],
          [
           "Lithuania",
           2020
          ],
          [
           "Lithuania",
           2021
          ],
          [
           "Lithuania",
           2022
          ],
          [
           "Luxembourg",
           2011
          ],
          [
           "Luxembourg",
           2012
          ],
          [
           "Luxembourg",
           2014
          ],
          [
           "Luxembourg",
           2015
          ],
          [
           "Luxembourg",
           2016
          ],
          [
           "Luxembourg",
           2017
          ],
          [
           "Luxembourg",
           2018
          ],
          [
           "Luxembourg",
           2019
          ],
          [
           "Luxembourg",
           2020
          ],
          [
           "Luxembourg",
           2021
          ],
          [
           "Luxembourg",
           2022
          ],
          [
           "Poland",
           2011
          ],
          [
           "Poland",
           2012
          ],
          [
           "Poland",
           2014
          ],
          [
           "Poland",
           2015
          ],
          [
           "Poland",
           2016
          ],
          [
           "Poland",
           2017
          ],
          [
           "Portugal",
           2011
          ],
          [
           "Portugal",
           2012
          ],
          [
           "Portugal",
           2014
          ],
          [
           "Portugal",
           2015
          ],
          [
           "Portugal",
           2016
          ],
          [
           "Portugal",
           2017
          ],
          [
           "Portugal",
           2018
          ],
          [
           "Portugal",
           2019
          ],
          [
           "Portugal",
           2020
          ],
          [
           "Portugal",
           2021
          ],
          [
           "Portugal",
           2022
          ],
          [
           "Romania",
           2011
          ],
          [
           "Romania",
           2012
          ],
          [
           "Romania",
           2014
          ],
          [
           "Romania",
           2015
          ],
          [
           "Romania",
           2016
          ],
          [
           "Romania",
           2017
          ],
          [
           "Romania",
           2018
          ],
          [
           "Romania",
           2019
          ],
          [
           "Romania",
           2020
          ],
          [
           "Romania",
           2021
          ],
          [
           "Romania",
           2022
          ],
          [
           "Slovakia",
           2011
          ],
          [
           "Slovakia",
           2012
          ],
          [
           "Slovakia",
           2014
          ],
          [
           "Slovakia",
           2015
          ],
          [
           "Slovakia",
           2016
          ],
          [
           "Slovakia",
           2017
          ],
          [
           "Slovakia",
           2018
          ],
          [
           "Slovakia",
           2019
          ],
          [
           "Slovakia",
           2020
          ],
          [
           "Slovakia",
           2021
          ],
          [
           "Slovakia",
           2022
          ],
          [
           "Slovenia",
           2011
          ],
          [
           "Slovenia",
           2012
          ],
          [
           "Slovenia",
           2014
          ],
          [
           "Slovenia",
           2015
          ],
          [
           "Slovenia",
           2016
          ],
          [
           "Slovenia",
           2017
          ],
          [
           "Slovenia",
           2018
          ],
          [
           "Slovenia",
           2019
          ],
          [
           "Slovenia",
           2020
          ],
          [
           "Slovenia",
           2021
          ],
          [
           "Slovenia",
           2022
          ],
          [
           "Spain",
           2011
          ],
          [
           "Spain",
           2012
          ],
          [
           "Spain",
           2014
          ],
          [
           "Spain",
           2015
          ],
          [
           "Spain",
           2016
          ],
          [
           "Spain",
           2017
          ],
          [
           "Spain",
           2018
          ],
          [
           "Spain",
           2019
          ],
          [
           "Spain",
           2020
          ],
          [
           "Spain",
           2021
          ],
          [
           "Spain",
           2022
          ],
          [
           "Sweden",
           2011
          ],
          [
           "Sweden",
           2014
          ],
          [
           "Sweden",
           2015
          ],
          [
           "Sweden",
           2016
          ],
          [
           "Sweden",
           2017
          ],
          [
           "Sweden",
           2018
          ],
          [
           "Sweden",
           2019
          ],
          [
           "Sweden",
           2020
          ],
          [
           "Sweden",
           2021
          ],
          [
           "Sweden",
           2022
          ]
         ],
         "hovertemplate": "Emissions [Tonnes per capita]=%{x}<br>Quality of Life=%{y}<br>country=%{customdata[0]}<br>year=%{marker.color}<extra></extra>",
         "legendgroup": "",
         "marker": {
          "color": [
           2011,
           2012,
           2014,
           2015,
           2016,
           2017,
           2018,
           2019,
           2020,
           2021,
           2022,
           2011,
           2011,
           2012,
           2014,
           2015,
           2016,
           2017,
           2018,
           2019,
           2020,
           2021,
           2022,
           2011,
           2012,
           2014,
           2015,
           2016,
           2017,
           2018,
           2019,
           2020,
           2021,
           2022,
           2011,
           2012,
           2014,
           2015,
           2016,
           2017,
           2018,
           2019,
           2020,
           2021,
           2022,
           2011,
           2012,
           2014,
           2015,
           2016,
           2017,
           2018,
           2019,
           2020,
           2021,
           2022,
           2011,
           2012,
           2014,
           2015,
           2016,
           2017,
           2018,
           2019,
           2020,
           2021,
           2022,
           2011,
           2012,
           2014,
           2015,
           2016,
           2017,
           2018,
           2019,
           2020,
           2021,
           2022,
           2012,
           2014,
           2015,
           2016,
           2017,
           2018,
           2019,
           2020,
           2021,
           2022,
           2011,
           2012,
           2014,
           2015,
           2016,
           2017,
           2018,
           2019,
           2020,
           2021,
           2022,
           2011,
           2012,
           2014,
           2015,
           2016,
           2017,
           2018,
           2019,
           2020,
           2021,
           2022,
           2011,
           2012,
           2014,
           2011,
           2012,
           2014,
           2015,
           2016,
           2017,
           2018,
           2019,
           2020,
           2021,
           2022,
           2012,
           2014,
           2015,
           2016,
           2017,
           2018,
           2019,
           2020,
           2021,
           2022,
           2011,
           2012,
           2014,
           2015,
           2016,
           2017,
           2018,
           2019,
           2020,
           2021,
           2022,
           2011,
           2012,
           2014,
           2015,
           2016,
           2017,
           2018,
           2019,
           2020,
           2021,
           2022,
           2011,
           2012,
           2014,
           2015,
           2016,
           2017,
           2018,
           2019,
           2020,
           2021,
           2022,
           2011,
           2012,
           2014,
           2015,
           2016,
           2017,
           2011,
           2012,
           2014,
           2015,
           2016,
           2017,
           2018,
           2019,
           2020,
           2021,
           2022,
           2011,
           2012,
           2014,
           2015,
           2016,
           2017,
           2018,
           2019,
           2020,
           2021,
           2022,
           2011,
           2012,
           2014,
           2015,
           2016,
           2017,
           2018,
           2019,
           2020,
           2021,
           2022,
           2011,
           2012,
           2014,
           2015,
           2016,
           2017,
           2018,
           2019,
           2020,
           2021,
           2022,
           2011,
           2012,
           2014,
           2015,
           2016,
           2017,
           2018,
           2019,
           2020,
           2021,
           2022,
           2011,
           2014,
           2015,
           2016,
           2017,
           2018,
           2019,
           2020,
           2021,
           2022
          ],
          "coloraxis": "coloraxis",
          "opacity": 0.5,
          "symbol": "circle"
         },
         "mode": "markers",
         "name": "",
         "orientation": "v",
         "showlegend": false,
         "type": "scatter",
         "x": [
          0.10314796074460764,
          0.07707122909569004,
          -0.07938916079781597,
          0.12922469239352524,
          0.024917765797854863,
          0.18137815569136087,
          0.25960835063811366,
          0.41606874053162013,
          0.024917765797854863,
          0.024917765797854863,
          -0.027235697499980782,
          0.7550662519675497,
          -0.13154262409565137,
          -0.2880030139891576,
          -0.3140797456380752,
          -0.1576193557445692,
          -0.3140797456380752,
          -0.20977281904240438,
          -0.3662332089359106,
          -0.3662332089359106,
          -0.6009237937761697,
          -0.3401564772869928,
          -0.1576193557445692,
          -0.7834609153185935,
          -0.8616911102653465,
          -0.9920747685099349,
          -0.9399213052120997,
          -0.9138445735631819,
          -0.7834609153185935,
          -0.8877678419142643,
          -0.8877678419142643,
          -0.9138445735631819,
          -0.8877678419142643,
          -0.8095376469675113,
          1.0419103001056442,
          0.9376033735099738,
          0.7811429836164673,
          0.7811429836164673,
          0.8332964469143029,
          0.8854499102121381,
          0.9376033735099738,
          0.9376033735099738,
          0.7811429836164673,
          0.8854499102121381,
          0.7029127886697145,
          0.7550662519675497,
          0.5203756671272904,
          0.3639152772337845,
          0.18137815569136087,
          0.2856850822870317,
          0.1553014240424433,
          0.23353161898919605,
          -0.0011589658510631894,
          -0.13154262409565137,
          -0.1576193557445692,
          -0.2619262823402398,
          1.3287543482437392,
          1.4591380064883275,
          2.0589028344134346,
          1.563444933083998,
          2.0589028344134346,
          2.267516687604775,
          2.4500538091471995,
          1.3287543482437392,
          0.3117618139359493,
          0.4942989354783729,
          0.6246825937229613,
          0.1553014240424433,
          -0.20977281904240438,
          -0.13154262409565137,
          -0.053312429148898374,
          0.2856850822870317,
          0.3117618139359493,
          0.8593731785632206,
          0.5203756671272904,
          0.20745488734027848,
          0.6507593253718789,
          0.5725291304251261,
          -0.3662332089359106,
          -0.5226935988294167,
          -0.496616867180499,
          -0.47054013553158125,
          -0.44446340388266364,
          -0.5487703304783345,
          -0.574847062127252,
          -0.7573841836696759,
          -0.6530772570740051,
          -0.7313074520207581,
          0.8072197152653854,
          0.8332964469143029,
          0.7811429836164673,
          0.7550662519675497,
          0.7289895203186322,
          0.6507593253718789,
          0.8072197152653854,
          0.5986058620740438,
          0.3899920088827021,
          0.44214547218053774,
          0.44214547218053774,
          0.5203756671272904,
          0.44214547218053774,
          0.20745488734027848,
          0.10314796074460764,
          -0.0011589658510631894,
          0.10314796074460764,
          -0.0011589658510631894,
          -0.1576193557445692,
          -0.41838667223374604,
          -0.3401564772869928,
          -0.3140797456380752,
          -0.5487703304783345,
          -0.6270005254250874,
          -0.7052307203718404,
          1.3809078115415743,
          1.3548310798926566,
          1.3548310798926566,
          1.4330612748394094,
          1.4591380064883275,
          1.4852147381372451,
          1.3548310798926566,
          1.1983706899991506,
          1.0940637634034798,
          1.146217226701315,
          0.989756836807809,
          -0.10546589244673378,
          -0.44446340388266364,
          -0.3923099405848282,
          -0.41838667223374604,
          -0.3662332089359106,
          -0.496616867180499,
          -0.5226935988294167,
          -0.6530772570740051,
          -0.496616867180499,
          -0.496616867180499,
          -1.0442282318077702,
          -1.226765353350194,
          -0.5487703304783345,
          -0.6791539887229229,
          -0.9138445735631819,
          -1.0963816951056058,
          -0.6791539887229229,
          -0.9138445735631819,
          -0.6270005254250874,
          -0.3923099405848282,
          0.05099449744677246,
          -1.2789188166480296,
          -1.226765353350194,
          -1.1746118900523588,
          -1.0442282318077702,
          -0.9399213052120997,
          -0.8616911102653465,
          -0.7834609153185935,
          -0.7834609153185935,
          -0.8095376469675113,
          -0.8095376469675113,
          -0.9659980368610173,
          3.779967123242001,
          3.4670463434549887,
          2.6847443939874585,
          2.3718236142004465,
          2.1371330293601867,
          2.1371330293601867,
          2.267516687604775,
          2.189286492658023,
          1.3809078115415743,
          1.406984543190492,
          0.8332964469143029,
          0.33783854558486687,
          0.2856850822870317,
          0.20745488734027848,
          0.25960835063811366,
          0.2856850822870317,
          0.3639152772337845,
          -0.5487703304783345,
          -0.574847062127252,
          -0.6530772570740051,
          -0.496616867180499,
          -0.496616867180499,
          0.024917765797854863,
          -0.5487703304783345,
          -0.6270005254250874,
          -0.7834609153185935,
          -0.8095376469675113,
          -0.7573841836696759,
          -0.8877678419142643,
          -0.9659980368610173,
          -1.226765353350194,
          -1.226765353350194,
          -1.2789188166480296,
          -1.226765353350194,
          -1.1746118900523588,
          -1.226765353350194,
          -1.304995548296947,
          -1.226765353350194,
          -1.2528420849991118,
          -0.2358495506913222,
          -0.41838667223374604,
          -0.47054013553158125,
          -0.44446340388266364,
          -0.41838667223374604,
          -0.3662332089359106,
          -0.3401564772869928,
          -0.47054013553158125,
          -0.7052307203718404,
          -0.5226935988294167,
          -0.7052307203718404,
          -0.5487703304783345,
          -0.6009237937761697,
          0.024917765797854863,
          0.05099449744677246,
          0.18137815569136087,
          0.20745488734027848,
          0.18137815569136087,
          -0.574847062127252,
          -0.7052307203718404,
          -0.6791539887229229,
          -0.7313074520207581,
          -0.44446340388266364,
          -0.47054013553158125,
          -0.6009237937761697,
          -0.574847062127252,
          -0.6270005254250874,
          -0.574847062127252,
          -0.6009237937761697,
          -0.7052307203718404,
          -0.9399213052120997,
          -0.8356143786164288,
          -0.8095376469675113,
          -2.1655276927112306,
          -2.243757887657984,
          -2.1916044243601482,
          -2.1133742294133957,
          -1.9829905711688072,
          -1.8526069129242186,
          -1.8786836445731363,
          -1.9829905711688072,
          -1.8526069129242186,
          -1.8786836445731363
         ],
         "xaxis": "x",
         "y": [
          1.07512469036187,
          1.261656080920897,
          1.0396574541288153,
          0.9332557454296511,
          0.7848187937876085,
          0.9595277722689514,
          1.1000831158592048,
          1.163135980273523,
          1.1289823453824337,
          0.991054204476111,
          0.9043565159064223,
          0.9253741373778621,
          -3.3096765891172453,
          -3.1888252656564666,
          -2.8775017476107654,
          -2.878815348952731,
          -2.225955481996133,
          -1.9382767881058025,
          -1.8358158834325335,
          -1.7162781613137197,
          -1.5008475412314628,
          -1.362919400325139,
          -1.2381272728384658,
          -1.0318918621499635,
          -0.981975011155295,
          -0.8532420796427256,
          -1.209228043315236,
          -1.465380304998408,
          -1.428599467423389,
          -1.282789718465275,
          -1.186896820501832,
          -0.6916691145810335,
          -0.3724639884835421,
          -0.3724639884835421,
          -0.06376767312177058,
          -0.15571976705931978,
          0.12670452146315145,
          0.2462422435819652,
          0.26331906102750985,
          0.3973063979079386,
          0.5825241871250012,
          0.6600266663009343,
          0.7309611387670438,
          0.6718490783786196,
          0.5733289777312456,
          1.901379934457844,
          1.6872629157175514,
          1.4692050929513647,
          1.4678914916093995,
          1.46263708624154,
          1.5059859305263839,
          1.565097990914808,
          1.6255236526451975,
          1.5913700177541081,
          1.612387639225548,
          1.5467075721272991,
          -1.4167770553457038,
          -1.2906713265170653,
          -1.2867305224911703,
          -1.1711336043982516,
          -1.0476550782535439,
          -0.8795141064820259,
          -0.6772194998194185,
          -0.5077649267059351,
          -0.28839350259778307,
          -0.08872609861910542,
          0.061024454364902524,
          1.5375123627335434,
          1.2879281077601972,
          1.3102593305736012,
          1.319454539967357,
          1.393016215117396,
          1.6071332338576874,
          1.7870966177068908,
          1.8396406713854903,
          1.882989515670334,
          1.8554038874890695,
          1.8330726646756654,
          0.4669272690320826,
          0.21865661540070067,
          0.09123728523009673,
          0.043947636919357866,
          0.1056868999917117,
          0.2409878382141047,
          0.3355671348355836,
          0.36972076972667406,
          0.3657799657007789,
          0.33162633080968845,
          0.21471581137480558,
          0.34607594557130344,
          0.4485368502445725,
          0.7690555776840282,
          0.7125707199795337,
          0.7309611387670438,
          0.757233165606344,
          0.8767708877251567,
          0.9805453937403912,
          0.8215996313626276,
          0.6350682408036006,
          -0.3619551777478222,
          -1.278848914439381,
          -2.0381104900951406,
          -1.8069166539093036,
          -1.5520779935680968,
          -1.3799962177706848,
          -1.4732619130501983,
          -1.1737608070821823,
          -0.9005317279534656,
          -0.6049714260113437,
          -0.6273026488247488,
          -1.925140774686153,
          -2.145825800136269,
          -2.1129857665871454,
          1.1499999668538734,
          0.8767708877251567,
          0.6981211052179199,
          0.654772260933075,
          0.7467243548706242,
          0.7467243548706242,
          0.8045228139170829,
          0.9004157118805273,
          0.888593299802842,
          0.8307948407563832,
          0.6600266663009343,
          -0.5090785280479004,
          -0.6049714260113437,
          -0.5668769870943592,
          -0.5839538045399039,
          -0.536664156229165,
          -0.24373105697097389,
          -0.02830043688871701,
          0.0978052919399215,
          0.07678767046848176,
          -0.004655612733346416,
          -2.162902617581815,
          -1.7898398364637589,
          -1.7215325666815802,
          -1.1146487466937582,
          -0.7337043575239129,
          -0.6246754461408192,
          -0.6154802367470635,
          -0.602344223327414,
          -0.4946289132862855,
          -0.3002159146754684,
          -0.25686707039062345,
          -1.077867909118738,
          -1.2906713265170653,
          -0.756035580337317,
          -0.7823076071766173,
          -0.6653970877417332,
          -0.5997170206434843,
          -0.34093755627638245,
          -0.25423986770669377,
          -0.2016958140280944,
          0.049202042287217224,
          0.4656136676901172,
          0.8439308541760328,
          0.8478716582019279,
          0.7060027132697089,
          0.607482612622336,
          0.5969738018866162,
          0.6587130649589701,
          0.8951613065126667,
          1.089574305123485,
          1.202544020532473,
          1.3076321278896716,
          1.0764382917038342,
          -0.7954436205962668,
          -0.770485195098932,
          -0.8112068366998461,
          -0.7534083776533873,
          -0.5721313924622198,
          -0.37509119116747175,
          -1.420717859371599,
          -1.7175917626556851,
          -1.7162781613137197,
          -1.6886925331324552,
          -1.5941132365109763,
          -1.311688947988505,
          -0.9399397682124154,
          -0.653574675664049,
          -0.6299298515086785,
          -0.5156465347577253,
          -0.5786993991720445,
          -1.6164444593243814,
          -1.8069166539093036,
          -1.6873789317904908,
          -1.1566839896366377,
          -0.7665443910730368,
          -0.6089122300372387,
          -0.4447120622916158,
          -0.3737775898255075,
          -0.35275996835406775,
          0.08992368388813247,
          0.23704703418821074,
          -0.9872294165231543,
          -0.5773857978300792,
          -0.5432321629389898,
          -0.43420325155589595,
          -0.4079312247165968,
          -0.30941112406922283,
          -0.27657109052009776,
          -0.1675421791370051,
          -0.10186211203875498,
          -0.02304603152085649,
          0.0794148731524126,
          -0.6391250609024342,
          -0.4578480757112665,
          -0.7363315602078426,
          -0.8414196675650414,
          -0.854555680984691,
          -0.6049714260113437,
          -0.3816591978772966,
          -0.05982686909587548,
          0.06890606241669273,
          0.2909046892087744,
          0.3171767160480747,
          0.4629864650061875,
          -0.11368452411644028,
          -0.10448931472268583,
          -0.06245407177980632,
          -0.007282815417277259,
          -0.12944774022002067,
          -0.07164928117356077,
          -0.009910018101206937,
          0.10831410267564139,
          0.08861008254616705,
          0.03606602886756767,
          1.2747920943405464,
          1.2550880742110722,
          1.1591951762476291,
          1.1499999668538734,
          1.1894080071128232,
          1.2275024460298076,
          1.2406384594494573,
          1.2537744728691078,
          1.2813601010503723,
          1.2958097158119863
         ],
         "yaxis": "y"
        }
       ],
       "layout": {
        "coloraxis": {
         "colorbar": {
          "title": {
           "text": "year"
          }
         },
         "colorscale": [
          [
           0,
           "#0d0887"
          ],
          [
           0.1111111111111111,
           "#46039f"
          ],
          [
           0.2222222222222222,
           "#7201a8"
          ],
          [
           0.3333333333333333,
           "#9c179e"
          ],
          [
           0.4444444444444444,
           "#bd3786"
          ],
          [
           0.5555555555555556,
           "#d8576b"
          ],
          [
           0.6666666666666666,
           "#ed7953"
          ],
          [
           0.7777777777777778,
           "#fb9f3a"
          ],
          [
           0.8888888888888888,
           "#fdca26"
          ],
          [
           1,
           "#f0f921"
          ]
         ]
        },
        "legend": {
         "tracegroupgap": 0
        },
        "template": {
         "data": {
          "bar": [
           {
            "error_x": {
             "color": "#2a3f5f"
            },
            "error_y": {
             "color": "#2a3f5f"
            },
            "marker": {
             "line": {
              "color": "#E5ECF6",
              "width": 0.5
             },
             "pattern": {
              "fillmode": "overlay",
              "size": 10,
              "solidity": 0.2
             }
            },
            "type": "bar"
           }
          ],
          "barpolar": [
           {
            "marker": {
             "line": {
              "color": "#E5ECF6",
              "width": 0.5
             },
             "pattern": {
              "fillmode": "overlay",
              "size": 10,
              "solidity": 0.2
             }
            },
            "type": "barpolar"
           }
          ],
          "carpet": [
           {
            "aaxis": {
             "endlinecolor": "#2a3f5f",
             "gridcolor": "white",
             "linecolor": "white",
             "minorgridcolor": "white",
             "startlinecolor": "#2a3f5f"
            },
            "baxis": {
             "endlinecolor": "#2a3f5f",
             "gridcolor": "white",
             "linecolor": "white",
             "minorgridcolor": "white",
             "startlinecolor": "#2a3f5f"
            },
            "type": "carpet"
           }
          ],
          "choropleth": [
           {
            "colorbar": {
             "outlinewidth": 0,
             "ticks": ""
            },
            "type": "choropleth"
           }
          ],
          "contour": [
           {
            "colorbar": {
             "outlinewidth": 0,
             "ticks": ""
            },
            "colorscale": [
             [
              0,
              "#0d0887"
             ],
             [
              0.1111111111111111,
              "#46039f"
             ],
             [
              0.2222222222222222,
              "#7201a8"
             ],
             [
              0.3333333333333333,
              "#9c179e"
             ],
             [
              0.4444444444444444,
              "#bd3786"
             ],
             [
              0.5555555555555556,
              "#d8576b"
             ],
             [
              0.6666666666666666,
              "#ed7953"
             ],
             [
              0.7777777777777778,
              "#fb9f3a"
             ],
             [
              0.8888888888888888,
              "#fdca26"
             ],
             [
              1,
              "#f0f921"
             ]
            ],
            "type": "contour"
           }
          ],
          "contourcarpet": [
           {
            "colorbar": {
             "outlinewidth": 0,
             "ticks": ""
            },
            "type": "contourcarpet"
           }
          ],
          "heatmap": [
           {
            "colorbar": {
             "outlinewidth": 0,
             "ticks": ""
            },
            "colorscale": [
             [
              0,
              "#0d0887"
             ],
             [
              0.1111111111111111,
              "#46039f"
             ],
             [
              0.2222222222222222,
              "#7201a8"
             ],
             [
              0.3333333333333333,
              "#9c179e"
             ],
             [
              0.4444444444444444,
              "#bd3786"
             ],
             [
              0.5555555555555556,
              "#d8576b"
             ],
             [
              0.6666666666666666,
              "#ed7953"
             ],
             [
              0.7777777777777778,
              "#fb9f3a"
             ],
             [
              0.8888888888888888,
              "#fdca26"
             ],
             [
              1,
              "#f0f921"
             ]
            ],
            "type": "heatmap"
           }
          ],
          "heatmapgl": [
           {
            "colorbar": {
             "outlinewidth": 0,
             "ticks": ""
            },
            "colorscale": [
             [
              0,
              "#0d0887"
             ],
             [
              0.1111111111111111,
              "#46039f"
             ],
             [
              0.2222222222222222,
              "#7201a8"
             ],
             [
              0.3333333333333333,
              "#9c179e"
             ],
             [
              0.4444444444444444,
              "#bd3786"
             ],
             [
              0.5555555555555556,
              "#d8576b"
             ],
             [
              0.6666666666666666,
              "#ed7953"
             ],
             [
              0.7777777777777778,
              "#fb9f3a"
             ],
             [
              0.8888888888888888,
              "#fdca26"
             ],
             [
              1,
              "#f0f921"
             ]
            ],
            "type": "heatmapgl"
           }
          ],
          "histogram": [
           {
            "marker": {
             "pattern": {
              "fillmode": "overlay",
              "size": 10,
              "solidity": 0.2
             }
            },
            "type": "histogram"
           }
          ],
          "histogram2d": [
           {
            "colorbar": {
             "outlinewidth": 0,
             "ticks": ""
            },
            "colorscale": [
             [
              0,
              "#0d0887"
             ],
             [
              0.1111111111111111,
              "#46039f"
             ],
             [
              0.2222222222222222,
              "#7201a8"
             ],
             [
              0.3333333333333333,
              "#9c179e"
             ],
             [
              0.4444444444444444,
              "#bd3786"
             ],
             [
              0.5555555555555556,
              "#d8576b"
             ],
             [
              0.6666666666666666,
              "#ed7953"
             ],
             [
              0.7777777777777778,
              "#fb9f3a"
             ],
             [
              0.8888888888888888,
              "#fdca26"
             ],
             [
              1,
              "#f0f921"
             ]
            ],
            "type": "histogram2d"
           }
          ],
          "histogram2dcontour": [
           {
            "colorbar": {
             "outlinewidth": 0,
             "ticks": ""
            },
            "colorscale": [
             [
              0,
              "#0d0887"
             ],
             [
              0.1111111111111111,
              "#46039f"
             ],
             [
              0.2222222222222222,
              "#7201a8"
             ],
             [
              0.3333333333333333,
              "#9c179e"
             ],
             [
              0.4444444444444444,
              "#bd3786"
             ],
             [
              0.5555555555555556,
              "#d8576b"
             ],
             [
              0.6666666666666666,
              "#ed7953"
             ],
             [
              0.7777777777777778,
              "#fb9f3a"
             ],
             [
              0.8888888888888888,
              "#fdca26"
             ],
             [
              1,
              "#f0f921"
             ]
            ],
            "type": "histogram2dcontour"
           }
          ],
          "mesh3d": [
           {
            "colorbar": {
             "outlinewidth": 0,
             "ticks": ""
            },
            "type": "mesh3d"
           }
          ],
          "parcoords": [
           {
            "line": {
             "colorbar": {
              "outlinewidth": 0,
              "ticks": ""
             }
            },
            "type": "parcoords"
           }
          ],
          "pie": [
           {
            "automargin": true,
            "type": "pie"
           }
          ],
          "scatter": [
           {
            "fillpattern": {
             "fillmode": "overlay",
             "size": 10,
             "solidity": 0.2
            },
            "type": "scatter"
           }
          ],
          "scatter3d": [
           {
            "line": {
             "colorbar": {
              "outlinewidth": 0,
              "ticks": ""
             }
            },
            "marker": {
             "colorbar": {
              "outlinewidth": 0,
              "ticks": ""
             }
            },
            "type": "scatter3d"
           }
          ],
          "scattercarpet": [
           {
            "marker": {
             "colorbar": {
              "outlinewidth": 0,
              "ticks": ""
             }
            },
            "type": "scattercarpet"
           }
          ],
          "scattergeo": [
           {
            "marker": {
             "colorbar": {
              "outlinewidth": 0,
              "ticks": ""
             }
            },
            "type": "scattergeo"
           }
          ],
          "scattergl": [
           {
            "marker": {
             "colorbar": {
              "outlinewidth": 0,
              "ticks": ""
             }
            },
            "type": "scattergl"
           }
          ],
          "scattermapbox": [
           {
            "marker": {
             "colorbar": {
              "outlinewidth": 0,
              "ticks": ""
             }
            },
            "type": "scattermapbox"
           }
          ],
          "scatterpolar": [
           {
            "marker": {
             "colorbar": {
              "outlinewidth": 0,
              "ticks": ""
             }
            },
            "type": "scatterpolar"
           }
          ],
          "scatterpolargl": [
           {
            "marker": {
             "colorbar": {
              "outlinewidth": 0,
              "ticks": ""
             }
            },
            "type": "scatterpolargl"
           }
          ],
          "scatterternary": [
           {
            "marker": {
             "colorbar": {
              "outlinewidth": 0,
              "ticks": ""
             }
            },
            "type": "scatterternary"
           }
          ],
          "surface": [
           {
            "colorbar": {
             "outlinewidth": 0,
             "ticks": ""
            },
            "colorscale": [
             [
              0,
              "#0d0887"
             ],
             [
              0.1111111111111111,
              "#46039f"
             ],
             [
              0.2222222222222222,
              "#7201a8"
             ],
             [
              0.3333333333333333,
              "#9c179e"
             ],
             [
              0.4444444444444444,
              "#bd3786"
             ],
             [
              0.5555555555555556,
              "#d8576b"
             ],
             [
              0.6666666666666666,
              "#ed7953"
             ],
             [
              0.7777777777777778,
              "#fb9f3a"
             ],
             [
              0.8888888888888888,
              "#fdca26"
             ],
             [
              1,
              "#f0f921"
             ]
            ],
            "type": "surface"
           }
          ],
          "table": [
           {
            "cells": {
             "fill": {
              "color": "#EBF0F8"
             },
             "line": {
              "color": "white"
             }
            },
            "header": {
             "fill": {
              "color": "#C8D4E3"
             },
             "line": {
              "color": "white"
             }
            },
            "type": "table"
           }
          ]
         },
         "layout": {
          "annotationdefaults": {
           "arrowcolor": "#2a3f5f",
           "arrowhead": 0,
           "arrowwidth": 1
          },
          "autotypenumbers": "strict",
          "coloraxis": {
           "colorbar": {
            "outlinewidth": 0,
            "ticks": ""
           }
          },
          "colorscale": {
           "diverging": [
            [
             0,
             "#8e0152"
            ],
            [
             0.1,
             "#c51b7d"
            ],
            [
             0.2,
             "#de77ae"
            ],
            [
             0.3,
             "#f1b6da"
            ],
            [
             0.4,
             "#fde0ef"
            ],
            [
             0.5,
             "#f7f7f7"
            ],
            [
             0.6,
             "#e6f5d0"
            ],
            [
             0.7,
             "#b8e186"
            ],
            [
             0.8,
             "#7fbc41"
            ],
            [
             0.9,
             "#4d9221"
            ],
            [
             1,
             "#276419"
            ]
           ],
           "sequential": [
            [
             0,
             "#0d0887"
            ],
            [
             0.1111111111111111,
             "#46039f"
            ],
            [
             0.2222222222222222,
             "#7201a8"
            ],
            [
             0.3333333333333333,
             "#9c179e"
            ],
            [
             0.4444444444444444,
             "#bd3786"
            ],
            [
             0.5555555555555556,
             "#d8576b"
            ],
            [
             0.6666666666666666,
             "#ed7953"
            ],
            [
             0.7777777777777778,
             "#fb9f3a"
            ],
            [
             0.8888888888888888,
             "#fdca26"
            ],
            [
             1,
             "#f0f921"
            ]
           ],
           "sequentialminus": [
            [
             0,
             "#0d0887"
            ],
            [
             0.1111111111111111,
             "#46039f"
            ],
            [
             0.2222222222222222,
             "#7201a8"
            ],
            [
             0.3333333333333333,
             "#9c179e"
            ],
            [
             0.4444444444444444,
             "#bd3786"
            ],
            [
             0.5555555555555556,
             "#d8576b"
            ],
            [
             0.6666666666666666,
             "#ed7953"
            ],
            [
             0.7777777777777778,
             "#fb9f3a"
            ],
            [
             0.8888888888888888,
             "#fdca26"
            ],
            [
             1,
             "#f0f921"
            ]
           ]
          },
          "colorway": [
           "#636efa",
           "#EF553B",
           "#00cc96",
           "#ab63fa",
           "#FFA15A",
           "#19d3f3",
           "#FF6692",
           "#B6E880",
           "#FF97FF",
           "#FECB52"
          ],
          "font": {
           "color": "#2a3f5f"
          },
          "geo": {
           "bgcolor": "white",
           "lakecolor": "white",
           "landcolor": "#E5ECF6",
           "showlakes": true,
           "showland": true,
           "subunitcolor": "white"
          },
          "hoverlabel": {
           "align": "left"
          },
          "hovermode": "closest",
          "mapbox": {
           "style": "light"
          },
          "paper_bgcolor": "white",
          "plot_bgcolor": "#E5ECF6",
          "polar": {
           "angularaxis": {
            "gridcolor": "white",
            "linecolor": "white",
            "ticks": ""
           },
           "bgcolor": "#E5ECF6",
           "radialaxis": {
            "gridcolor": "white",
            "linecolor": "white",
            "ticks": ""
           }
          },
          "scene": {
           "xaxis": {
            "backgroundcolor": "#E5ECF6",
            "gridcolor": "white",
            "gridwidth": 2,
            "linecolor": "white",
            "showbackground": true,
            "ticks": "",
            "zerolinecolor": "white"
           },
           "yaxis": {
            "backgroundcolor": "#E5ECF6",
            "gridcolor": "white",
            "gridwidth": 2,
            "linecolor": "white",
            "showbackground": true,
            "ticks": "",
            "zerolinecolor": "white"
           },
           "zaxis": {
            "backgroundcolor": "#E5ECF6",
            "gridcolor": "white",
            "gridwidth": 2,
            "linecolor": "white",
            "showbackground": true,
            "ticks": "",
            "zerolinecolor": "white"
           }
          },
          "shapedefaults": {
           "line": {
            "color": "#2a3f5f"
           }
          },
          "ternary": {
           "aaxis": {
            "gridcolor": "white",
            "linecolor": "white",
            "ticks": ""
           },
           "baxis": {
            "gridcolor": "white",
            "linecolor": "white",
            "ticks": ""
           },
           "bgcolor": "#E5ECF6",
           "caxis": {
            "gridcolor": "white",
            "linecolor": "white",
            "ticks": ""
           }
          },
          "title": {
           "x": 0.05
          },
          "xaxis": {
           "automargin": true,
           "gridcolor": "white",
           "linecolor": "white",
           "ticks": "",
           "title": {
            "standoff": 15
           },
           "zerolinecolor": "white",
           "zerolinewidth": 2
          },
          "yaxis": {
           "automargin": true,
           "gridcolor": "white",
           "linecolor": "white",
           "ticks": "",
           "title": {
            "standoff": 15
           },
           "zerolinecolor": "white",
           "zerolinewidth": 2
          }
         }
        },
        "title": {
         "text": "Comparing Relationship of Emissions and Quality of Life in Europe"
        },
        "xaxis": {
         "anchor": "y",
         "domain": [
          0,
          1
         ],
         "title": {
          "text": "Emissions [Tonnes per capita]"
         }
        },
        "yaxis": {
         "anchor": "x",
         "domain": [
          0,
          1
         ],
         "title": {
          "text": "Quality of Life"
         }
        }
       }
      }
     },
     "metadata": {},
     "output_type": "display_data"
    }
   ],
   "source": [
    "fig = px.scatter(\n",
    "    combined,\n",
    "    x='environment',\n",
    "    y='qol',\n",
    "    color='year',\n",
    "    opacity=0.5,\n",
    "    labels={'environment': 'Emissions [Tonnes per capita]', 'qol': 'Quality of Life'},\n",
    "    title='Comparing Relationship of Emissions and Quality of Life in Europe',\n",
    "    hover_data=['country', 'year']\n",
    ")\n",
    "\n",
    "pio.write_image(fig, \"env_qol.jpg\", format=\"jpg\", width=800, height=600, scale=2)\n",
    "fig.show()"
   ]
  },
  {
   "cell_type": "code",
   "execution_count": 21,
   "id": "8f62eaac",
   "metadata": {},
   "outputs": [
    {
     "data": {
      "application/vnd.plotly.v1+json": {
       "config": {
        "plotlyServerURL": "https://plot.ly"
       },
       "data": [
        {
         "customdata": [
          [
           "Austria",
           2011
          ],
          [
           "Austria",
           2012
          ],
          [
           "Austria",
           2014
          ],
          [
           "Austria",
           2015
          ],
          [
           "Austria",
           2016
          ],
          [
           "Austria",
           2017
          ],
          [
           "Austria",
           2018
          ],
          [
           "Austria",
           2019
          ],
          [
           "Austria",
           2020
          ],
          [
           "Austria",
           2021
          ],
          [
           "Austria",
           2022
          ],
          [
           "Belgium",
           2011
          ],
          [
           "Bulgaria",
           2011
          ],
          [
           "Bulgaria",
           2012
          ],
          [
           "Bulgaria",
           2014
          ],
          [
           "Bulgaria",
           2015
          ],
          [
           "Bulgaria",
           2016
          ],
          [
           "Bulgaria",
           2017
          ],
          [
           "Bulgaria",
           2018
          ],
          [
           "Bulgaria",
           2019
          ],
          [
           "Bulgaria",
           2020
          ],
          [
           "Bulgaria",
           2021
          ],
          [
           "Bulgaria",
           2022
          ],
          [
           "Croatia",
           2011
          ],
          [
           "Croatia",
           2012
          ],
          [
           "Croatia",
           2014
          ],
          [
           "Croatia",
           2015
          ],
          [
           "Croatia",
           2016
          ],
          [
           "Croatia",
           2017
          ],
          [
           "Croatia",
           2018
          ],
          [
           "Croatia",
           2019
          ],
          [
           "Croatia",
           2020
          ],
          [
           "Croatia",
           2021
          ],
          [
           "Croatia",
           2022
          ],
          [
           "Czechia",
           2011
          ],
          [
           "Czechia",
           2012
          ],
          [
           "Czechia",
           2014
          ],
          [
           "Czechia",
           2015
          ],
          [
           "Czechia",
           2016
          ],
          [
           "Czechia",
           2017
          ],
          [
           "Czechia",
           2018
          ],
          [
           "Czechia",
           2019
          ],
          [
           "Czechia",
           2020
          ],
          [
           "Czechia",
           2021
          ],
          [
           "Czechia",
           2022
          ],
          [
           "Denmark",
           2011
          ],
          [
           "Denmark",
           2012
          ],
          [
           "Denmark",
           2014
          ],
          [
           "Denmark",
           2015
          ],
          [
           "Denmark",
           2016
          ],
          [
           "Denmark",
           2017
          ],
          [
           "Denmark",
           2018
          ],
          [
           "Denmark",
           2019
          ],
          [
           "Denmark",
           2020
          ],
          [
           "Denmark",
           2021
          ],
          [
           "Denmark",
           2022
          ],
          [
           "Estonia",
           2011
          ],
          [
           "Estonia",
           2012
          ],
          [
           "Estonia",
           2014
          ],
          [
           "Estonia",
           2015
          ],
          [
           "Estonia",
           2016
          ],
          [
           "Estonia",
           2017
          ],
          [
           "Estonia",
           2018
          ],
          [
           "Estonia",
           2019
          ],
          [
           "Estonia",
           2020
          ],
          [
           "Estonia",
           2021
          ],
          [
           "Estonia",
           2022
          ],
          [
           "Finland",
           2011
          ],
          [
           "Finland",
           2012
          ],
          [
           "Finland",
           2014
          ],
          [
           "Finland",
           2015
          ],
          [
           "Finland",
           2016
          ],
          [
           "Finland",
           2017
          ],
          [
           "Finland",
           2018
          ],
          [
           "Finland",
           2019
          ],
          [
           "Finland",
           2020
          ],
          [
           "Finland",
           2021
          ],
          [
           "Finland",
           2022
          ],
          [
           "France",
           2012
          ],
          [
           "France",
           2014
          ],
          [
           "France",
           2015
          ],
          [
           "France",
           2016
          ],
          [
           "France",
           2017
          ],
          [
           "France",
           2018
          ],
          [
           "France",
           2019
          ],
          [
           "France",
           2020
          ],
          [
           "France",
           2021
          ],
          [
           "France",
           2022
          ],
          [
           "Germany",
           2011
          ],
          [
           "Germany",
           2012
          ],
          [
           "Germany",
           2014
          ],
          [
           "Germany",
           2015
          ],
          [
           "Germany",
           2016
          ],
          [
           "Germany",
           2017
          ],
          [
           "Germany",
           2018
          ],
          [
           "Germany",
           2019
          ],
          [
           "Germany",
           2020
          ],
          [
           "Germany",
           2021
          ],
          [
           "Germany",
           2022
          ],
          [
           "Greece",
           2011
          ],
          [
           "Greece",
           2012
          ],
          [
           "Greece",
           2014
          ],
          [
           "Greece",
           2015
          ],
          [
           "Greece",
           2016
          ],
          [
           "Greece",
           2017
          ],
          [
           "Greece",
           2018
          ],
          [
           "Greece",
           2019
          ],
          [
           "Greece",
           2020
          ],
          [
           "Greece",
           2021
          ],
          [
           "Greece",
           2022
          ],
          [
           "Hungary",
           2011
          ],
          [
           "Hungary",
           2012
          ],
          [
           "Hungary",
           2014
          ],
          [
           "Ireland",
           2011
          ],
          [
           "Ireland",
           2012
          ],
          [
           "Ireland",
           2014
          ],
          [
           "Ireland",
           2015
          ],
          [
           "Ireland",
           2016
          ],
          [
           "Ireland",
           2017
          ],
          [
           "Ireland",
           2018
          ],
          [
           "Ireland",
           2019
          ],
          [
           "Ireland",
           2020
          ],
          [
           "Ireland",
           2021
          ],
          [
           "Ireland",
           2022
          ],
          [
           "Italy",
           2012
          ],
          [
           "Italy",
           2014
          ],
          [
           "Italy",
           2015
          ],
          [
           "Italy",
           2016
          ],
          [
           "Italy",
           2017
          ],
          [
           "Italy",
           2018
          ],
          [
           "Italy",
           2019
          ],
          [
           "Italy",
           2020
          ],
          [
           "Italy",
           2021
          ],
          [
           "Italy",
           2022
          ],
          [
           "Latvia",
           2011
          ],
          [
           "Latvia",
           2012
          ],
          [
           "Latvia",
           2014
          ],
          [
           "Latvia",
           2015
          ],
          [
           "Latvia",
           2016
          ],
          [
           "Latvia",
           2017
          ],
          [
           "Latvia",
           2018
          ],
          [
           "Latvia",
           2019
          ],
          [
           "Latvia",
           2020
          ],
          [
           "Latvia",
           2021
          ],
          [
           "Latvia",
           2022
          ],
          [
           "Lithuania",
           2011
          ],
          [
           "Lithuania",
           2012
          ],
          [
           "Lithuania",
           2014
          ],
          [
           "Lithuania",
           2015
          ],
          [
           "Lithuania",
           2016
          ],
          [
           "Lithuania",
           2017
          ],
          [
           "Lithuania",
           2018
          ],
          [
           "Lithuania",
           2019
          ],
          [
           "Lithuania",
           2020
          ],
          [
           "Lithuania",
           2021
          ],
          [
           "Lithuania",
           2022
          ],
          [
           "Luxembourg",
           2011
          ],
          [
           "Luxembourg",
           2012
          ],
          [
           "Luxembourg",
           2014
          ],
          [
           "Luxembourg",
           2015
          ],
          [
           "Luxembourg",
           2016
          ],
          [
           "Luxembourg",
           2017
          ],
          [
           "Luxembourg",
           2018
          ],
          [
           "Luxembourg",
           2019
          ],
          [
           "Luxembourg",
           2020
          ],
          [
           "Luxembourg",
           2021
          ],
          [
           "Luxembourg",
           2022
          ],
          [
           "Poland",
           2011
          ],
          [
           "Poland",
           2012
          ],
          [
           "Poland",
           2014
          ],
          [
           "Poland",
           2015
          ],
          [
           "Poland",
           2016
          ],
          [
           "Poland",
           2017
          ],
          [
           "Portugal",
           2011
          ],
          [
           "Portugal",
           2012
          ],
          [
           "Portugal",
           2014
          ],
          [
           "Portugal",
           2015
          ],
          [
           "Portugal",
           2016
          ],
          [
           "Portugal",
           2017
          ],
          [
           "Portugal",
           2018
          ],
          [
           "Portugal",
           2019
          ],
          [
           "Portugal",
           2020
          ],
          [
           "Portugal",
           2021
          ],
          [
           "Portugal",
           2022
          ],
          [
           "Romania",
           2011
          ],
          [
           "Romania",
           2012
          ],
          [
           "Romania",
           2014
          ],
          [
           "Romania",
           2015
          ],
          [
           "Romania",
           2016
          ],
          [
           "Romania",
           2017
          ],
          [
           "Romania",
           2018
          ],
          [
           "Romania",
           2019
          ],
          [
           "Romania",
           2020
          ],
          [
           "Romania",
           2021
          ],
          [
           "Romania",
           2022
          ],
          [
           "Slovakia",
           2011
          ],
          [
           "Slovakia",
           2012
          ],
          [
           "Slovakia",
           2014
          ],
          [
           "Slovakia",
           2015
          ],
          [
           "Slovakia",
           2016
          ],
          [
           "Slovakia",
           2017
          ],
          [
           "Slovakia",
           2018
          ],
          [
           "Slovakia",
           2019
          ],
          [
           "Slovakia",
           2020
          ],
          [
           "Slovakia",
           2021
          ],
          [
           "Slovakia",
           2022
          ],
          [
           "Slovenia",
           2011
          ],
          [
           "Slovenia",
           2012
          ],
          [
           "Slovenia",
           2014
          ],
          [
           "Slovenia",
           2015
          ],
          [
           "Slovenia",
           2016
          ],
          [
           "Slovenia",
           2017
          ],
          [
           "Slovenia",
           2018
          ],
          [
           "Slovenia",
           2019
          ],
          [
           "Slovenia",
           2020
          ],
          [
           "Slovenia",
           2021
          ],
          [
           "Slovenia",
           2022
          ],
          [
           "Spain",
           2011
          ],
          [
           "Spain",
           2012
          ],
          [
           "Spain",
           2014
          ],
          [
           "Spain",
           2015
          ],
          [
           "Spain",
           2016
          ],
          [
           "Spain",
           2017
          ],
          [
           "Spain",
           2018
          ],
          [
           "Spain",
           2019
          ],
          [
           "Spain",
           2020
          ],
          [
           "Spain",
           2021
          ],
          [
           "Spain",
           2022
          ],
          [
           "Sweden",
           2011
          ],
          [
           "Sweden",
           2014
          ],
          [
           "Sweden",
           2015
          ],
          [
           "Sweden",
           2016
          ],
          [
           "Sweden",
           2017
          ],
          [
           "Sweden",
           2018
          ],
          [
           "Sweden",
           2019
          ],
          [
           "Sweden",
           2020
          ],
          [
           "Sweden",
           2021
          ],
          [
           "Sweden",
           2022
          ]
         ],
         "hovertemplate": "Transit Passengers=%{x}<br>Quality of Life=%{y}<br>country=%{customdata[0]}<br>year=%{marker.color}<extra></extra>",
         "legendgroup": "",
         "marker": {
          "color": [
           2011,
           2012,
           2014,
           2015,
           2016,
           2017,
           2018,
           2019,
           2020,
           2021,
           2022,
           2011,
           2011,
           2012,
           2014,
           2015,
           2016,
           2017,
           2018,
           2019,
           2020,
           2021,
           2022,
           2011,
           2012,
           2014,
           2015,
           2016,
           2017,
           2018,
           2019,
           2020,
           2021,
           2022,
           2011,
           2012,
           2014,
           2015,
           2016,
           2017,
           2018,
           2019,
           2020,
           2021,
           2022,
           2011,
           2012,
           2014,
           2015,
           2016,
           2017,
           2018,
           2019,
           2020,
           2021,
           2022,
           2011,
           2012,
           2014,
           2015,
           2016,
           2017,
           2018,
           2019,
           2020,
           2021,
           2022,
           2011,
           2012,
           2014,
           2015,
           2016,
           2017,
           2018,
           2019,
           2020,
           2021,
           2022,
           2012,
           2014,
           2015,
           2016,
           2017,
           2018,
           2019,
           2020,
           2021,
           2022,
           2011,
           2012,
           2014,
           2015,
           2016,
           2017,
           2018,
           2019,
           2020,
           2021,
           2022,
           2011,
           2012,
           2014,
           2015,
           2016,
           2017,
           2018,
           2019,
           2020,
           2021,
           2022,
           2011,
           2012,
           2014,
           2011,
           2012,
           2014,
           2015,
           2016,
           2017,
           2018,
           2019,
           2020,
           2021,
           2022,
           2012,
           2014,
           2015,
           2016,
           2017,
           2018,
           2019,
           2020,
           2021,
           2022,
           2011,
           2012,
           2014,
           2015,
           2016,
           2017,
           2018,
           2019,
           2020,
           2021,
           2022,
           2011,
           2012,
           2014,
           2015,
           2016,
           2017,
           2018,
           2019,
           2020,
           2021,
           2022,
           2011,
           2012,
           2014,
           2015,
           2016,
           2017,
           2018,
           2019,
           2020,
           2021,
           2022,
           2011,
           2012,
           2014,
           2015,
           2016,
           2017,
           2011,
           2012,
           2014,
           2015,
           2016,
           2017,
           2018,
           2019,
           2020,
           2021,
           2022,
           2011,
           2012,
           2014,
           2015,
           2016,
           2017,
           2018,
           2019,
           2020,
           2021,
           2022,
           2011,
           2012,
           2014,
           2015,
           2016,
           2017,
           2018,
           2019,
           2020,
           2021,
           2022,
           2011,
           2012,
           2014,
           2015,
           2016,
           2017,
           2018,
           2019,
           2020,
           2021,
           2022,
           2011,
           2012,
           2014,
           2015,
           2016,
           2017,
           2018,
           2019,
           2020,
           2021,
           2022,
           2011,
           2014,
           2015,
           2016,
           2017,
           2018,
           2019,
           2020,
           2021,
           2022
          ],
          "coloraxis": "coloraxis",
          "opacity": 0.5,
          "symbol": "circle"
         },
         "mode": "markers",
         "name": "",
         "orientation": "v",
         "showlegend": false,
         "type": "scatter",
         "x": [
          -0.08475136896344862,
          -0.050660136236899904,
          -0.032000786816487416,
          -0.015581636345249988,
          -0.003142070064974995,
          -0.0004261878453420852,
          0.03393788962501642,
          0.04694289073621301,
          -0.17495886735434898,
          -0.12787699376627787,
          0.00671085624273488,
          -0.1076793025995168,
          -0.46572699778874216,
          -0.4707153895193171,
          -0.47411338359847444,
          -0.4778775640443239,
          -0.47983953315606137,
          -0.4802523903341946,
          -0.48001185615215175,
          -0.48001185615215175,
          -0.4881271922492835,
          -0.4875276518253857,
          -0.47689568197285054,
          -0.428812180970004,
          -0.4687982961878115,
          -0.4790066386749578,
          -0.47943744616518374,
          -0.4811247755019022,
          -0.4827510737775052,
          -0.481959465014215,
          -0.4827079930284826,
          -0.4947831679732748,
          -0.4940041244284495,
          -0.48494460191523914,
          -0.21711158524175125,
          -0.20851159071811523,
          -0.2029021181891312,
          -0.20211050942584097,
          -0.19740752765754077,
          -0.19030279413123075,
          -0.17852020927355036,
          -0.17083568066664456,
          -0.2861861812058583,
          -0.2758198759722958,
          -0.205375671195512,
          -0.16929374885787743,
          -0.15588307069338472,
          -0.14437333057951413,
          -0.1372973175525525,
          -0.13883027420527325,
          -0.1475056600396988,
          -0.1497656043321759,
          -0.14744283394737417,
          -0.27794339789286804,
          -0.27762747240003566,
          -0.1864021913134764,
          -0.509757318321046,
          -0.5103801941506644,
          -0.5076984175240077,
          -0.5063449639922144,
          -0.505865690659338,
          -0.5049556098362357,
          -0.504370429662012,
          -0.5032682804995172,
          -0.507556610058475,
          -0.5073896721560124,
          -0.5055012993238552,
          -0.3955610228493959,
          -0.39384676804453844,
          -0.3957656564072533,
          -0.3819618664079294,
          -0.3709008840963775,
          -0.3644585170862899,
          -0.3612292559408044,
          -0.35171738556285675,
          -0.4114039683024561,
          -0.4195552050237734,
          -0.3817159471322587,
          1.546520938120503,
          1.55977185850737,
          1.6432803004252567,
          1.698558286514877,
          1.7743032184526495,
          1.7193519280431173,
          1.753299558272924,
          0.7809616677392734,
          1.0874219610051477,
          1.5313080486218982,
          4.023640671514132,
          4.085055869308262,
          4.315864572259247,
          4.301195577217052,
          4.532528429281144,
          4.564230475468149,
          4.652393433311684,
          4.755544901752666,
          2.626952018014269,
          2.6434483548275054,
          3.9797916491339644,
          -0.4944151865753735,
          -0.4955765717677743,
          -0.4942464536417016,
          -0.4895057762180066,
          -0.49032790051185454,
          -0.49072819247152283,
          -0.4881505276550041,
          -0.4831172601441973,
          -0.4999528578559865,
          -0.500295708816958,
          -0.4906169005365478,
          -0.2570115389615135,
          -0.2531935075793858,
          -0.2562055699485491,
          -0.45120878536812686,
          -0.45202911463076545,
          -0.44915885972713493,
          -0.4471071390549337,
          -0.4414348404336251,
          -0.43661518163672197,
          -0.43220838001795214,
          -0.42843881447847487,
          -0.4861131672324771,
          -0.48704478843009075,
          -0.4539551831183174,
          1.0161592219969344,
          1.0328296768374703,
          1.0480874421163069,
          1.0419412552557497,
          1.0336320557880163,
          1.0653556423495314,
          1.0944872038448537,
          0.18155407615094635,
          0.36446596134484843,
          0.7267427500631254,
          -0.48159507367873217,
          -0.4829233967735956,
          -0.4838514279087907,
          -0.48766586922849986,
          -0.48737327914138806,
          -0.48689580083972095,
          -0.4855531174951833,
          -0.4848692106044496,
          -0.49521038540108225,
          -0.49820449745815276,
          -0.49012685701641573,
          -0.5108899830140984,
          -0.5106673991441483,
          -0.5108917780453077,
          -0.511494908531624,
          -0.5112687345992554,
          -0.510802026484844,
          -0.5099242562235086,
          -0.5093390760492849,
          -0.5124857657591437,
          -0.5112112936005586,
          -0.5102850574965727,
          -0.48562850880597286,
          -0.482952117272944,
          -0.4796995207217379,
          -0.47791705473092794,
          -0.4779834708856711,
          -0.4771380111861026,
          -0.4764182036711834,
          -0.4733935760835552,
          -0.49222165843763954,
          -0.4885095338968591,
          -0.47873917902477586,
          -0.08918868611277615,
          -0.040800029804352926,
          -0.051123254288892826,
          -0.03424278079687175,
          -0.0065454492377601875,
          0.011943372217771187,
          -0.25049916573426423,
          -0.280973410574124,
          -0.2880045478208538,
          -0.28418831146993534,
          -0.27871167125043766,
          -0.2631756761341635,
          -0.25338557591877825,
          -0.20325035424373053,
          -0.3347615207600461,
          -0.301634219792878,
          -0.21017558464911307,
          -0.4088532289540765,
          -0.4150299313451914,
          -0.4020680109830174,
          -0.3989661970533904,
          -0.4025993402209628,
          -0.394340401627089,
          -0.3989285013979956,
          -0.3931718363098511,
          -0.4275430939050467,
          -0.4196844472708412,
          -0.39181299768442995,
          -0.4331184608410545,
          -0.43822352960023225,
          -0.4301656345017973,
          -0.41007205514517414,
          -0.3941716686934172,
          -0.38382151874073817,
          -0.37960499043015145,
          -0.37349111413136116,
          -0.4295858394212015,
          -0.4359815356198479,
          -0.3985605200000943,
          -0.49080358378231237,
          -0.4912182359916549,
          -0.49238680130889284,
          -0.4929253106716753,
          -0.4937959008081736,
          -0.49495908103178377,
          -0.49477419281722845,
          -0.4944977580110001,
          -0.5040742495124817,
          -0.4973626278210028,
          -0.4933309877249714,
          0.5213373287857996,
          0.5023494886540899,
          0.4937423140056168,
          0.5010175754968079,
          0.5148716263699915,
          0.5592519779881039,
          0.5621527484222921,
          0.6214641696391531,
          0.08015994326384486,
          0.23292427929797516,
          0.4764256479297419,
          -0.1825285139638612,
          -0.14622400775627653,
          -0.13338235448512398,
          -0.12169490628153515,
          -0.10576938939284831,
          -0.07584083404060807,
          -0.04332743374701197,
          -0.21464521236020753,
          -0.2230333932011491,
          -0.08036072262556224
         ],
         "xaxis": "x",
         "y": [
          1.07512469036187,
          1.261656080920897,
          1.0396574541288153,
          0.9332557454296511,
          0.7848187937876085,
          0.9595277722689514,
          1.1000831158592048,
          1.163135980273523,
          1.1289823453824337,
          0.991054204476111,
          0.9043565159064223,
          0.9253741373778621,
          -3.3096765891172453,
          -3.1888252656564666,
          -2.8775017476107654,
          -2.878815348952731,
          -2.225955481996133,
          -1.9382767881058025,
          -1.8358158834325335,
          -1.7162781613137197,
          -1.5008475412314628,
          -1.362919400325139,
          -1.2381272728384658,
          -1.0318918621499635,
          -0.981975011155295,
          -0.8532420796427256,
          -1.209228043315236,
          -1.465380304998408,
          -1.428599467423389,
          -1.282789718465275,
          -1.186896820501832,
          -0.6916691145810335,
          -0.3724639884835421,
          -0.3724639884835421,
          -0.06376767312177058,
          -0.15571976705931978,
          0.12670452146315145,
          0.2462422435819652,
          0.26331906102750985,
          0.3973063979079386,
          0.5825241871250012,
          0.6600266663009343,
          0.7309611387670438,
          0.6718490783786196,
          0.5733289777312456,
          1.901379934457844,
          1.6872629157175514,
          1.4692050929513647,
          1.4678914916093995,
          1.46263708624154,
          1.5059859305263839,
          1.565097990914808,
          1.6255236526451975,
          1.5913700177541081,
          1.612387639225548,
          1.5467075721272991,
          -1.4167770553457038,
          -1.2906713265170653,
          -1.2867305224911703,
          -1.1711336043982516,
          -1.0476550782535439,
          -0.8795141064820259,
          -0.6772194998194185,
          -0.5077649267059351,
          -0.28839350259778307,
          -0.08872609861910542,
          0.061024454364902524,
          1.5375123627335434,
          1.2879281077601972,
          1.3102593305736012,
          1.319454539967357,
          1.393016215117396,
          1.6071332338576874,
          1.7870966177068908,
          1.8396406713854903,
          1.882989515670334,
          1.8554038874890695,
          1.8330726646756654,
          0.4669272690320826,
          0.21865661540070067,
          0.09123728523009673,
          0.043947636919357866,
          0.1056868999917117,
          0.2409878382141047,
          0.3355671348355836,
          0.36972076972667406,
          0.3657799657007789,
          0.33162633080968845,
          0.21471581137480558,
          0.34607594557130344,
          0.4485368502445725,
          0.7690555776840282,
          0.7125707199795337,
          0.7309611387670438,
          0.757233165606344,
          0.8767708877251567,
          0.9805453937403912,
          0.8215996313626276,
          0.6350682408036006,
          -0.3619551777478222,
          -1.278848914439381,
          -2.0381104900951406,
          -1.8069166539093036,
          -1.5520779935680968,
          -1.3799962177706848,
          -1.4732619130501983,
          -1.1737608070821823,
          -0.9005317279534656,
          -0.6049714260113437,
          -0.6273026488247488,
          -1.925140774686153,
          -2.145825800136269,
          -2.1129857665871454,
          1.1499999668538734,
          0.8767708877251567,
          0.6981211052179199,
          0.654772260933075,
          0.7467243548706242,
          0.7467243548706242,
          0.8045228139170829,
          0.9004157118805273,
          0.888593299802842,
          0.8307948407563832,
          0.6600266663009343,
          -0.5090785280479004,
          -0.6049714260113437,
          -0.5668769870943592,
          -0.5839538045399039,
          -0.536664156229165,
          -0.24373105697097389,
          -0.02830043688871701,
          0.0978052919399215,
          0.07678767046848176,
          -0.004655612733346416,
          -2.162902617581815,
          -1.7898398364637589,
          -1.7215325666815802,
          -1.1146487466937582,
          -0.7337043575239129,
          -0.6246754461408192,
          -0.6154802367470635,
          -0.602344223327414,
          -0.4946289132862855,
          -0.3002159146754684,
          -0.25686707039062345,
          -1.077867909118738,
          -1.2906713265170653,
          -0.756035580337317,
          -0.7823076071766173,
          -0.6653970877417332,
          -0.5997170206434843,
          -0.34093755627638245,
          -0.25423986770669377,
          -0.2016958140280944,
          0.049202042287217224,
          0.4656136676901172,
          0.8439308541760328,
          0.8478716582019279,
          0.7060027132697089,
          0.607482612622336,
          0.5969738018866162,
          0.6587130649589701,
          0.8951613065126667,
          1.089574305123485,
          1.202544020532473,
          1.3076321278896716,
          1.0764382917038342,
          -0.7954436205962668,
          -0.770485195098932,
          -0.8112068366998461,
          -0.7534083776533873,
          -0.5721313924622198,
          -0.37509119116747175,
          -1.420717859371599,
          -1.7175917626556851,
          -1.7162781613137197,
          -1.6886925331324552,
          -1.5941132365109763,
          -1.311688947988505,
          -0.9399397682124154,
          -0.653574675664049,
          -0.6299298515086785,
          -0.5156465347577253,
          -0.5786993991720445,
          -1.6164444593243814,
          -1.8069166539093036,
          -1.6873789317904908,
          -1.1566839896366377,
          -0.7665443910730368,
          -0.6089122300372387,
          -0.4447120622916158,
          -0.3737775898255075,
          -0.35275996835406775,
          0.08992368388813247,
          0.23704703418821074,
          -0.9872294165231543,
          -0.5773857978300792,
          -0.5432321629389898,
          -0.43420325155589595,
          -0.4079312247165968,
          -0.30941112406922283,
          -0.27657109052009776,
          -0.1675421791370051,
          -0.10186211203875498,
          -0.02304603152085649,
          0.0794148731524126,
          -0.6391250609024342,
          -0.4578480757112665,
          -0.7363315602078426,
          -0.8414196675650414,
          -0.854555680984691,
          -0.6049714260113437,
          -0.3816591978772966,
          -0.05982686909587548,
          0.06890606241669273,
          0.2909046892087744,
          0.3171767160480747,
          0.4629864650061875,
          -0.11368452411644028,
          -0.10448931472268583,
          -0.06245407177980632,
          -0.007282815417277259,
          -0.12944774022002067,
          -0.07164928117356077,
          -0.009910018101206937,
          0.10831410267564139,
          0.08861008254616705,
          0.03606602886756767,
          1.2747920943405464,
          1.2550880742110722,
          1.1591951762476291,
          1.1499999668538734,
          1.1894080071128232,
          1.2275024460298076,
          1.2406384594494573,
          1.2537744728691078,
          1.2813601010503723,
          1.2958097158119863
         ],
         "yaxis": "y"
        }
       ],
       "layout": {
        "coloraxis": {
         "colorbar": {
          "title": {
           "text": "year"
          }
         },
         "colorscale": [
          [
           0,
           "#0d0887"
          ],
          [
           0.1111111111111111,
           "#46039f"
          ],
          [
           0.2222222222222222,
           "#7201a8"
          ],
          [
           0.3333333333333333,
           "#9c179e"
          ],
          [
           0.4444444444444444,
           "#bd3786"
          ],
          [
           0.5555555555555556,
           "#d8576b"
          ],
          [
           0.6666666666666666,
           "#ed7953"
          ],
          [
           0.7777777777777778,
           "#fb9f3a"
          ],
          [
           0.8888888888888888,
           "#fdca26"
          ],
          [
           1,
           "#f0f921"
          ]
         ]
        },
        "legend": {
         "tracegroupgap": 0
        },
        "template": {
         "data": {
          "bar": [
           {
            "error_x": {
             "color": "#2a3f5f"
            },
            "error_y": {
             "color": "#2a3f5f"
            },
            "marker": {
             "line": {
              "color": "#E5ECF6",
              "width": 0.5
             },
             "pattern": {
              "fillmode": "overlay",
              "size": 10,
              "solidity": 0.2
             }
            },
            "type": "bar"
           }
          ],
          "barpolar": [
           {
            "marker": {
             "line": {
              "color": "#E5ECF6",
              "width": 0.5
             },
             "pattern": {
              "fillmode": "overlay",
              "size": 10,
              "solidity": 0.2
             }
            },
            "type": "barpolar"
           }
          ],
          "carpet": [
           {
            "aaxis": {
             "endlinecolor": "#2a3f5f",
             "gridcolor": "white",
             "linecolor": "white",
             "minorgridcolor": "white",
             "startlinecolor": "#2a3f5f"
            },
            "baxis": {
             "endlinecolor": "#2a3f5f",
             "gridcolor": "white",
             "linecolor": "white",
             "minorgridcolor": "white",
             "startlinecolor": "#2a3f5f"
            },
            "type": "carpet"
           }
          ],
          "choropleth": [
           {
            "colorbar": {
             "outlinewidth": 0,
             "ticks": ""
            },
            "type": "choropleth"
           }
          ],
          "contour": [
           {
            "colorbar": {
             "outlinewidth": 0,
             "ticks": ""
            },
            "colorscale": [
             [
              0,
              "#0d0887"
             ],
             [
              0.1111111111111111,
              "#46039f"
             ],
             [
              0.2222222222222222,
              "#7201a8"
             ],
             [
              0.3333333333333333,
              "#9c179e"
             ],
             [
              0.4444444444444444,
              "#bd3786"
             ],
             [
              0.5555555555555556,
              "#d8576b"
             ],
             [
              0.6666666666666666,
              "#ed7953"
             ],
             [
              0.7777777777777778,
              "#fb9f3a"
             ],
             [
              0.8888888888888888,
              "#fdca26"
             ],
             [
              1,
              "#f0f921"
             ]
            ],
            "type": "contour"
           }
          ],
          "contourcarpet": [
           {
            "colorbar": {
             "outlinewidth": 0,
             "ticks": ""
            },
            "type": "contourcarpet"
           }
          ],
          "heatmap": [
           {
            "colorbar": {
             "outlinewidth": 0,
             "ticks": ""
            },
            "colorscale": [
             [
              0,
              "#0d0887"
             ],
             [
              0.1111111111111111,
              "#46039f"
             ],
             [
              0.2222222222222222,
              "#7201a8"
             ],
             [
              0.3333333333333333,
              "#9c179e"
             ],
             [
              0.4444444444444444,
              "#bd3786"
             ],
             [
              0.5555555555555556,
              "#d8576b"
             ],
             [
              0.6666666666666666,
              "#ed7953"
             ],
             [
              0.7777777777777778,
              "#fb9f3a"
             ],
             [
              0.8888888888888888,
              "#fdca26"
             ],
             [
              1,
              "#f0f921"
             ]
            ],
            "type": "heatmap"
           }
          ],
          "heatmapgl": [
           {
            "colorbar": {
             "outlinewidth": 0,
             "ticks": ""
            },
            "colorscale": [
             [
              0,
              "#0d0887"
             ],
             [
              0.1111111111111111,
              "#46039f"
             ],
             [
              0.2222222222222222,
              "#7201a8"
             ],
             [
              0.3333333333333333,
              "#9c179e"
             ],
             [
              0.4444444444444444,
              "#bd3786"
             ],
             [
              0.5555555555555556,
              "#d8576b"
             ],
             [
              0.6666666666666666,
              "#ed7953"
             ],
             [
              0.7777777777777778,
              "#fb9f3a"
             ],
             [
              0.8888888888888888,
              "#fdca26"
             ],
             [
              1,
              "#f0f921"
             ]
            ],
            "type": "heatmapgl"
           }
          ],
          "histogram": [
           {
            "marker": {
             "pattern": {
              "fillmode": "overlay",
              "size": 10,
              "solidity": 0.2
             }
            },
            "type": "histogram"
           }
          ],
          "histogram2d": [
           {
            "colorbar": {
             "outlinewidth": 0,
             "ticks": ""
            },
            "colorscale": [
             [
              0,
              "#0d0887"
             ],
             [
              0.1111111111111111,
              "#46039f"
             ],
             [
              0.2222222222222222,
              "#7201a8"
             ],
             [
              0.3333333333333333,
              "#9c179e"
             ],
             [
              0.4444444444444444,
              "#bd3786"
             ],
             [
              0.5555555555555556,
              "#d8576b"
             ],
             [
              0.6666666666666666,
              "#ed7953"
             ],
             [
              0.7777777777777778,
              "#fb9f3a"
             ],
             [
              0.8888888888888888,
              "#fdca26"
             ],
             [
              1,
              "#f0f921"
             ]
            ],
            "type": "histogram2d"
           }
          ],
          "histogram2dcontour": [
           {
            "colorbar": {
             "outlinewidth": 0,
             "ticks": ""
            },
            "colorscale": [
             [
              0,
              "#0d0887"
             ],
             [
              0.1111111111111111,
              "#46039f"
             ],
             [
              0.2222222222222222,
              "#7201a8"
             ],
             [
              0.3333333333333333,
              "#9c179e"
             ],
             [
              0.4444444444444444,
              "#bd3786"
             ],
             [
              0.5555555555555556,
              "#d8576b"
             ],
             [
              0.6666666666666666,
              "#ed7953"
             ],
             [
              0.7777777777777778,
              "#fb9f3a"
             ],
             [
              0.8888888888888888,
              "#fdca26"
             ],
             [
              1,
              "#f0f921"
             ]
            ],
            "type": "histogram2dcontour"
           }
          ],
          "mesh3d": [
           {
            "colorbar": {
             "outlinewidth": 0,
             "ticks": ""
            },
            "type": "mesh3d"
           }
          ],
          "parcoords": [
           {
            "line": {
             "colorbar": {
              "outlinewidth": 0,
              "ticks": ""
             }
            },
            "type": "parcoords"
           }
          ],
          "pie": [
           {
            "automargin": true,
            "type": "pie"
           }
          ],
          "scatter": [
           {
            "fillpattern": {
             "fillmode": "overlay",
             "size": 10,
             "solidity": 0.2
            },
            "type": "scatter"
           }
          ],
          "scatter3d": [
           {
            "line": {
             "colorbar": {
              "outlinewidth": 0,
              "ticks": ""
             }
            },
            "marker": {
             "colorbar": {
              "outlinewidth": 0,
              "ticks": ""
             }
            },
            "type": "scatter3d"
           }
          ],
          "scattercarpet": [
           {
            "marker": {
             "colorbar": {
              "outlinewidth": 0,
              "ticks": ""
             }
            },
            "type": "scattercarpet"
           }
          ],
          "scattergeo": [
           {
            "marker": {
             "colorbar": {
              "outlinewidth": 0,
              "ticks": ""
             }
            },
            "type": "scattergeo"
           }
          ],
          "scattergl": [
           {
            "marker": {
             "colorbar": {
              "outlinewidth": 0,
              "ticks": ""
             }
            },
            "type": "scattergl"
           }
          ],
          "scattermapbox": [
           {
            "marker": {
             "colorbar": {
              "outlinewidth": 0,
              "ticks": ""
             }
            },
            "type": "scattermapbox"
           }
          ],
          "scatterpolar": [
           {
            "marker": {
             "colorbar": {
              "outlinewidth": 0,
              "ticks": ""
             }
            },
            "type": "scatterpolar"
           }
          ],
          "scatterpolargl": [
           {
            "marker": {
             "colorbar": {
              "outlinewidth": 0,
              "ticks": ""
             }
            },
            "type": "scatterpolargl"
           }
          ],
          "scatterternary": [
           {
            "marker": {
             "colorbar": {
              "outlinewidth": 0,
              "ticks": ""
             }
            },
            "type": "scatterternary"
           }
          ],
          "surface": [
           {
            "colorbar": {
             "outlinewidth": 0,
             "ticks": ""
            },
            "colorscale": [
             [
              0,
              "#0d0887"
             ],
             [
              0.1111111111111111,
              "#46039f"
             ],
             [
              0.2222222222222222,
              "#7201a8"
             ],
             [
              0.3333333333333333,
              "#9c179e"
             ],
             [
              0.4444444444444444,
              "#bd3786"
             ],
             [
              0.5555555555555556,
              "#d8576b"
             ],
             [
              0.6666666666666666,
              "#ed7953"
             ],
             [
              0.7777777777777778,
              "#fb9f3a"
             ],
             [
              0.8888888888888888,
              "#fdca26"
             ],
             [
              1,
              "#f0f921"
             ]
            ],
            "type": "surface"
           }
          ],
          "table": [
           {
            "cells": {
             "fill": {
              "color": "#EBF0F8"
             },
             "line": {
              "color": "white"
             }
            },
            "header": {
             "fill": {
              "color": "#C8D4E3"
             },
             "line": {
              "color": "white"
             }
            },
            "type": "table"
           }
          ]
         },
         "layout": {
          "annotationdefaults": {
           "arrowcolor": "#2a3f5f",
           "arrowhead": 0,
           "arrowwidth": 1
          },
          "autotypenumbers": "strict",
          "coloraxis": {
           "colorbar": {
            "outlinewidth": 0,
            "ticks": ""
           }
          },
          "colorscale": {
           "diverging": [
            [
             0,
             "#8e0152"
            ],
            [
             0.1,
             "#c51b7d"
            ],
            [
             0.2,
             "#de77ae"
            ],
            [
             0.3,
             "#f1b6da"
            ],
            [
             0.4,
             "#fde0ef"
            ],
            [
             0.5,
             "#f7f7f7"
            ],
            [
             0.6,
             "#e6f5d0"
            ],
            [
             0.7,
             "#b8e186"
            ],
            [
             0.8,
             "#7fbc41"
            ],
            [
             0.9,
             "#4d9221"
            ],
            [
             1,
             "#276419"
            ]
           ],
           "sequential": [
            [
             0,
             "#0d0887"
            ],
            [
             0.1111111111111111,
             "#46039f"
            ],
            [
             0.2222222222222222,
             "#7201a8"
            ],
            [
             0.3333333333333333,
             "#9c179e"
            ],
            [
             0.4444444444444444,
             "#bd3786"
            ],
            [
             0.5555555555555556,
             "#d8576b"
            ],
            [
             0.6666666666666666,
             "#ed7953"
            ],
            [
             0.7777777777777778,
             "#fb9f3a"
            ],
            [
             0.8888888888888888,
             "#fdca26"
            ],
            [
             1,
             "#f0f921"
            ]
           ],
           "sequentialminus": [
            [
             0,
             "#0d0887"
            ],
            [
             0.1111111111111111,
             "#46039f"
            ],
            [
             0.2222222222222222,
             "#7201a8"
            ],
            [
             0.3333333333333333,
             "#9c179e"
            ],
            [
             0.4444444444444444,
             "#bd3786"
            ],
            [
             0.5555555555555556,
             "#d8576b"
            ],
            [
             0.6666666666666666,
             "#ed7953"
            ],
            [
             0.7777777777777778,
             "#fb9f3a"
            ],
            [
             0.8888888888888888,
             "#fdca26"
            ],
            [
             1,
             "#f0f921"
            ]
           ]
          },
          "colorway": [
           "#636efa",
           "#EF553B",
           "#00cc96",
           "#ab63fa",
           "#FFA15A",
           "#19d3f3",
           "#FF6692",
           "#B6E880",
           "#FF97FF",
           "#FECB52"
          ],
          "font": {
           "color": "#2a3f5f"
          },
          "geo": {
           "bgcolor": "white",
           "lakecolor": "white",
           "landcolor": "#E5ECF6",
           "showlakes": true,
           "showland": true,
           "subunitcolor": "white"
          },
          "hoverlabel": {
           "align": "left"
          },
          "hovermode": "closest",
          "mapbox": {
           "style": "light"
          },
          "paper_bgcolor": "white",
          "plot_bgcolor": "#E5ECF6",
          "polar": {
           "angularaxis": {
            "gridcolor": "white",
            "linecolor": "white",
            "ticks": ""
           },
           "bgcolor": "#E5ECF6",
           "radialaxis": {
            "gridcolor": "white",
            "linecolor": "white",
            "ticks": ""
           }
          },
          "scene": {
           "xaxis": {
            "backgroundcolor": "#E5ECF6",
            "gridcolor": "white",
            "gridwidth": 2,
            "linecolor": "white",
            "showbackground": true,
            "ticks": "",
            "zerolinecolor": "white"
           },
           "yaxis": {
            "backgroundcolor": "#E5ECF6",
            "gridcolor": "white",
            "gridwidth": 2,
            "linecolor": "white",
            "showbackground": true,
            "ticks": "",
            "zerolinecolor": "white"
           },
           "zaxis": {
            "backgroundcolor": "#E5ECF6",
            "gridcolor": "white",
            "gridwidth": 2,
            "linecolor": "white",
            "showbackground": true,
            "ticks": "",
            "zerolinecolor": "white"
           }
          },
          "shapedefaults": {
           "line": {
            "color": "#2a3f5f"
           }
          },
          "ternary": {
           "aaxis": {
            "gridcolor": "white",
            "linecolor": "white",
            "ticks": ""
           },
           "baxis": {
            "gridcolor": "white",
            "linecolor": "white",
            "ticks": ""
           },
           "bgcolor": "#E5ECF6",
           "caxis": {
            "gridcolor": "white",
            "linecolor": "white",
            "ticks": ""
           }
          },
          "title": {
           "x": 0.05
          },
          "xaxis": {
           "automargin": true,
           "gridcolor": "white",
           "linecolor": "white",
           "ticks": "",
           "title": {
            "standoff": 15
           },
           "zerolinecolor": "white",
           "zerolinewidth": 2
          },
          "yaxis": {
           "automargin": true,
           "gridcolor": "white",
           "linecolor": "white",
           "ticks": "",
           "title": {
            "standoff": 15
           },
           "zerolinecolor": "white",
           "zerolinewidth": 2
          }
         }
        },
        "title": {
         "text": "Comparing Relationship of Transit Passengers and Quality of Life in Europe"
        },
        "xaxis": {
         "anchor": "y",
         "domain": [
          0,
          1
         ],
         "title": {
          "text": "Transit Passengers"
         }
        },
        "yaxis": {
         "anchor": "x",
         "domain": [
          0,
          1
         ],
         "title": {
          "text": "Quality of Life"
         }
        }
       }
      }
     },
     "metadata": {},
     "output_type": "display_data"
    }
   ],
   "source": [
    "fig = px.scatter(\n",
    "    combined,\n",
    "    x='infrastructure',\n",
    "    y='qol',\n",
    "    color='year',\n",
    "    opacity=0.5,\n",
    "    labels={'infrastructure': 'Transit Passengers', 'qol': 'Quality of Life'},\n",
    "    title='Comparing Relationship of Transit Passengers and Quality of Life in Europe',\n",
    "    hover_data=['country', 'year']\n",
    ")\n",
    "\n",
    "pio.write_image(fig, \"inf_qol.jpg\", format=\"jpg\", width=800, height=600, scale=2)\n",
    "fig.show()"
   ]
  },
  {
   "cell_type": "markdown",
   "id": "c21ffc53",
   "metadata": {},
   "source": [
    "Now, I am plotting each factor over time."
   ]
  },
  {
   "cell_type": "code",
   "execution_count": 61,
   "id": "7d5f66c6",
   "metadata": {},
   "outputs": [
    {
     "data": {
      "application/vnd.plotly.v1+json": {
       "config": {
        "plotlyServerURL": "https://plot.ly"
       },
       "data": [
        {
         "customdata": [
          [
           "Austria"
          ],
          [
           "Austria"
          ],
          [
           "Austria"
          ],
          [
           "Austria"
          ],
          [
           "Austria"
          ],
          [
           "Austria"
          ],
          [
           "Austria"
          ],
          [
           "Austria"
          ],
          [
           "Austria"
          ],
          [
           "Austria"
          ],
          [
           "Austria"
          ]
         ],
         "hovertemplate": "country=%{customdata[0]}<br>Year=%{x}<br>Quality of Life=%{y}<extra></extra>",
         "legendgroup": "Austria",
         "line": {
          "color": "#636efa",
          "dash": "solid"
         },
         "marker": {
          "symbol": "circle"
         },
         "mode": "lines",
         "name": "Austria",
         "orientation": "v",
         "showlegend": true,
         "type": "scatter",
         "x": [
          2011,
          2012,
          2014,
          2015,
          2016,
          2017,
          2018,
          2019,
          2020,
          2021,
          2022
         ],
         "xaxis": "x",
         "y": [
          1.07512469036187,
          1.261656080920897,
          1.0396574541288153,
          0.9332557454296511,
          0.7848187937876085,
          0.9595277722689514,
          1.1000831158592048,
          1.163135980273523,
          1.1289823453824337,
          0.991054204476111,
          0.9043565159064223
         ],
         "yaxis": "y"
        },
        {
         "customdata": [
          [
           "Belgium"
          ]
         ],
         "hovertemplate": "country=%{customdata[0]}<br>Year=%{x}<br>Quality of Life=%{y}<extra></extra>",
         "legendgroup": "Belgium",
         "line": {
          "color": "#EF553B",
          "dash": "solid"
         },
         "marker": {
          "symbol": "circle"
         },
         "mode": "lines",
         "name": "Belgium",
         "orientation": "v",
         "showlegend": true,
         "type": "scatter",
         "x": [
          2011
         ],
         "xaxis": "x",
         "y": [
          0.9253741373778621
         ],
         "yaxis": "y"
        },
        {
         "customdata": [
          [
           "Bulgaria"
          ],
          [
           "Bulgaria"
          ],
          [
           "Bulgaria"
          ],
          [
           "Bulgaria"
          ],
          [
           "Bulgaria"
          ],
          [
           "Bulgaria"
          ],
          [
           "Bulgaria"
          ],
          [
           "Bulgaria"
          ],
          [
           "Bulgaria"
          ],
          [
           "Bulgaria"
          ],
          [
           "Bulgaria"
          ]
         ],
         "hovertemplate": "country=%{customdata[0]}<br>Year=%{x}<br>Quality of Life=%{y}<extra></extra>",
         "legendgroup": "Bulgaria",
         "line": {
          "color": "#00cc96",
          "dash": "solid"
         },
         "marker": {
          "symbol": "circle"
         },
         "mode": "lines",
         "name": "Bulgaria",
         "orientation": "v",
         "showlegend": true,
         "type": "scatter",
         "x": [
          2011,
          2012,
          2014,
          2015,
          2016,
          2017,
          2018,
          2019,
          2020,
          2021,
          2022
         ],
         "xaxis": "x",
         "y": [
          -3.3096765891172453,
          -3.1888252656564666,
          -2.8775017476107654,
          -2.878815348952731,
          -2.225955481996133,
          -1.9382767881058025,
          -1.8358158834325335,
          -1.7162781613137197,
          -1.5008475412314628,
          -1.362919400325139,
          -1.2381272728384658
         ],
         "yaxis": "y"
        },
        {
         "customdata": [
          [
           "Croatia"
          ],
          [
           "Croatia"
          ],
          [
           "Croatia"
          ],
          [
           "Croatia"
          ],
          [
           "Croatia"
          ],
          [
           "Croatia"
          ],
          [
           "Croatia"
          ],
          [
           "Croatia"
          ],
          [
           "Croatia"
          ],
          [
           "Croatia"
          ],
          [
           "Croatia"
          ]
         ],
         "hovertemplate": "country=%{customdata[0]}<br>Year=%{x}<br>Quality of Life=%{y}<extra></extra>",
         "legendgroup": "Croatia",
         "line": {
          "color": "#ab63fa",
          "dash": "solid"
         },
         "marker": {
          "symbol": "circle"
         },
         "mode": "lines",
         "name": "Croatia",
         "orientation": "v",
         "showlegend": true,
         "type": "scatter",
         "x": [
          2011,
          2012,
          2014,
          2015,
          2016,
          2017,
          2018,
          2019,
          2020,
          2021,
          2022
         ],
         "xaxis": "x",
         "y": [
          -1.0318918621499635,
          -0.981975011155295,
          -0.8532420796427256,
          -1.209228043315236,
          -1.465380304998408,
          -1.428599467423389,
          -1.282789718465275,
          -1.186896820501832,
          -0.6916691145810335,
          -0.3724639884835421,
          -0.3724639884835421
         ],
         "yaxis": "y"
        },
        {
         "customdata": [
          [
           "Czechia"
          ],
          [
           "Czechia"
          ],
          [
           "Czechia"
          ],
          [
           "Czechia"
          ],
          [
           "Czechia"
          ],
          [
           "Czechia"
          ],
          [
           "Czechia"
          ],
          [
           "Czechia"
          ],
          [
           "Czechia"
          ],
          [
           "Czechia"
          ],
          [
           "Czechia"
          ]
         ],
         "hovertemplate": "country=%{customdata[0]}<br>Year=%{x}<br>Quality of Life=%{y}<extra></extra>",
         "legendgroup": "Czechia",
         "line": {
          "color": "#FFA15A",
          "dash": "solid"
         },
         "marker": {
          "symbol": "circle"
         },
         "mode": "lines",
         "name": "Czechia",
         "orientation": "v",
         "showlegend": true,
         "type": "scatter",
         "x": [
          2011,
          2012,
          2014,
          2015,
          2016,
          2017,
          2018,
          2019,
          2020,
          2021,
          2022
         ],
         "xaxis": "x",
         "y": [
          -0.06376767312177058,
          -0.15571976705931978,
          0.12670452146315145,
          0.2462422435819652,
          0.26331906102750985,
          0.3973063979079386,
          0.5825241871250012,
          0.6600266663009343,
          0.7309611387670438,
          0.6718490783786196,
          0.5733289777312456
         ],
         "yaxis": "y"
        },
        {
         "customdata": [
          [
           "Denmark"
          ],
          [
           "Denmark"
          ],
          [
           "Denmark"
          ],
          [
           "Denmark"
          ],
          [
           "Denmark"
          ],
          [
           "Denmark"
          ],
          [
           "Denmark"
          ],
          [
           "Denmark"
          ],
          [
           "Denmark"
          ],
          [
           "Denmark"
          ],
          [
           "Denmark"
          ]
         ],
         "hovertemplate": "country=%{customdata[0]}<br>Year=%{x}<br>Quality of Life=%{y}<extra></extra>",
         "legendgroup": "Denmark",
         "line": {
          "color": "#19d3f3",
          "dash": "solid"
         },
         "marker": {
          "symbol": "circle"
         },
         "mode": "lines",
         "name": "Denmark",
         "orientation": "v",
         "showlegend": true,
         "type": "scatter",
         "x": [
          2011,
          2012,
          2014,
          2015,
          2016,
          2017,
          2018,
          2019,
          2020,
          2021,
          2022
         ],
         "xaxis": "x",
         "y": [
          1.901379934457844,
          1.6872629157175514,
          1.4692050929513647,
          1.4678914916093995,
          1.46263708624154,
          1.5059859305263839,
          1.565097990914808,
          1.6255236526451975,
          1.5913700177541081,
          1.612387639225548,
          1.5467075721272991
         ],
         "yaxis": "y"
        },
        {
         "customdata": [
          [
           "Estonia"
          ],
          [
           "Estonia"
          ],
          [
           "Estonia"
          ],
          [
           "Estonia"
          ],
          [
           "Estonia"
          ],
          [
           "Estonia"
          ],
          [
           "Estonia"
          ],
          [
           "Estonia"
          ],
          [
           "Estonia"
          ],
          [
           "Estonia"
          ],
          [
           "Estonia"
          ]
         ],
         "hovertemplate": "country=%{customdata[0]}<br>Year=%{x}<br>Quality of Life=%{y}<extra></extra>",
         "legendgroup": "Estonia",
         "line": {
          "color": "#FF6692",
          "dash": "solid"
         },
         "marker": {
          "symbol": "circle"
         },
         "mode": "lines",
         "name": "Estonia",
         "orientation": "v",
         "showlegend": true,
         "type": "scatter",
         "x": [
          2011,
          2012,
          2014,
          2015,
          2016,
          2017,
          2018,
          2019,
          2020,
          2021,
          2022
         ],
         "xaxis": "x",
         "y": [
          -1.4167770553457038,
          -1.2906713265170653,
          -1.2867305224911703,
          -1.1711336043982516,
          -1.0476550782535439,
          -0.8795141064820259,
          -0.6772194998194185,
          -0.5077649267059351,
          -0.28839350259778307,
          -0.08872609861910542,
          0.061024454364902524
         ],
         "yaxis": "y"
        },
        {
         "customdata": [
          [
           "Finland"
          ],
          [
           "Finland"
          ],
          [
           "Finland"
          ],
          [
           "Finland"
          ],
          [
           "Finland"
          ],
          [
           "Finland"
          ],
          [
           "Finland"
          ],
          [
           "Finland"
          ],
          [
           "Finland"
          ],
          [
           "Finland"
          ],
          [
           "Finland"
          ]
         ],
         "hovertemplate": "country=%{customdata[0]}<br>Year=%{x}<br>Quality of Life=%{y}<extra></extra>",
         "legendgroup": "Finland",
         "line": {
          "color": "#B6E880",
          "dash": "solid"
         },
         "marker": {
          "symbol": "circle"
         },
         "mode": "lines",
         "name": "Finland",
         "orientation": "v",
         "showlegend": true,
         "type": "scatter",
         "x": [
          2011,
          2012,
          2014,
          2015,
          2016,
          2017,
          2018,
          2019,
          2020,
          2021,
          2022
         ],
         "xaxis": "x",
         "y": [
          1.5375123627335434,
          1.2879281077601972,
          1.3102593305736012,
          1.319454539967357,
          1.393016215117396,
          1.6071332338576874,
          1.7870966177068908,
          1.8396406713854903,
          1.882989515670334,
          1.8554038874890695,
          1.8330726646756654
         ],
         "yaxis": "y"
        },
        {
         "customdata": [
          [
           "France"
          ],
          [
           "France"
          ],
          [
           "France"
          ],
          [
           "France"
          ],
          [
           "France"
          ],
          [
           "France"
          ],
          [
           "France"
          ],
          [
           "France"
          ],
          [
           "France"
          ],
          [
           "France"
          ]
         ],
         "hovertemplate": "country=%{customdata[0]}<br>Year=%{x}<br>Quality of Life=%{y}<extra></extra>",
         "legendgroup": "France",
         "line": {
          "color": "#FF97FF",
          "dash": "solid"
         },
         "marker": {
          "symbol": "circle"
         },
         "mode": "lines",
         "name": "France",
         "orientation": "v",
         "showlegend": true,
         "type": "scatter",
         "x": [
          2012,
          2014,
          2015,
          2016,
          2017,
          2018,
          2019,
          2020,
          2021,
          2022
         ],
         "xaxis": "x",
         "y": [
          0.4669272690320826,
          0.21865661540070067,
          0.09123728523009673,
          0.043947636919357866,
          0.1056868999917117,
          0.2409878382141047,
          0.3355671348355836,
          0.36972076972667406,
          0.3657799657007789,
          0.33162633080968845
         ],
         "yaxis": "y"
        },
        {
         "customdata": [
          [
           "Germany"
          ],
          [
           "Germany"
          ],
          [
           "Germany"
          ],
          [
           "Germany"
          ],
          [
           "Germany"
          ],
          [
           "Germany"
          ],
          [
           "Germany"
          ],
          [
           "Germany"
          ],
          [
           "Germany"
          ],
          [
           "Germany"
          ],
          [
           "Germany"
          ]
         ],
         "hovertemplate": "country=%{customdata[0]}<br>Year=%{x}<br>Quality of Life=%{y}<extra></extra>",
         "legendgroup": "Germany",
         "line": {
          "color": "#FECB52",
          "dash": "solid"
         },
         "marker": {
          "symbol": "circle"
         },
         "mode": "lines",
         "name": "Germany",
         "orientation": "v",
         "showlegend": true,
         "type": "scatter",
         "x": [
          2011,
          2012,
          2014,
          2015,
          2016,
          2017,
          2018,
          2019,
          2020,
          2021,
          2022
         ],
         "xaxis": "x",
         "y": [
          0.21471581137480558,
          0.34607594557130344,
          0.4485368502445725,
          0.7690555776840282,
          0.7125707199795337,
          0.7309611387670438,
          0.757233165606344,
          0.8767708877251567,
          0.9805453937403912,
          0.8215996313626276,
          0.6350682408036006
         ],
         "yaxis": "y"
        },
        {
         "customdata": [
          [
           "Greece"
          ],
          [
           "Greece"
          ],
          [
           "Greece"
          ],
          [
           "Greece"
          ],
          [
           "Greece"
          ],
          [
           "Greece"
          ],
          [
           "Greece"
          ],
          [
           "Greece"
          ],
          [
           "Greece"
          ],
          [
           "Greece"
          ],
          [
           "Greece"
          ]
         ],
         "hovertemplate": "country=%{customdata[0]}<br>Year=%{x}<br>Quality of Life=%{y}<extra></extra>",
         "legendgroup": "Greece",
         "line": {
          "color": "#636efa",
          "dash": "solid"
         },
         "marker": {
          "symbol": "circle"
         },
         "mode": "lines",
         "name": "Greece",
         "orientation": "v",
         "showlegend": true,
         "type": "scatter",
         "x": [
          2011,
          2012,
          2014,
          2015,
          2016,
          2017,
          2018,
          2019,
          2020,
          2021,
          2022
         ],
         "xaxis": "x",
         "y": [
          -0.3619551777478222,
          -1.278848914439381,
          -2.0381104900951406,
          -1.8069166539093036,
          -1.5520779935680968,
          -1.3799962177706848,
          -1.4732619130501983,
          -1.1737608070821823,
          -0.9005317279534656,
          -0.6049714260113437,
          -0.6273026488247488
         ],
         "yaxis": "y"
        },
        {
         "customdata": [
          [
           "Hungary"
          ],
          [
           "Hungary"
          ],
          [
           "Hungary"
          ]
         ],
         "hovertemplate": "country=%{customdata[0]}<br>Year=%{x}<br>Quality of Life=%{y}<extra></extra>",
         "legendgroup": "Hungary",
         "line": {
          "color": "#EF553B",
          "dash": "solid"
         },
         "marker": {
          "symbol": "circle"
         },
         "mode": "lines",
         "name": "Hungary",
         "orientation": "v",
         "showlegend": true,
         "type": "scatter",
         "x": [
          2011,
          2012,
          2014
         ],
         "xaxis": "x",
         "y": [
          -1.925140774686153,
          -2.145825800136269,
          -2.1129857665871454
         ],
         "yaxis": "y"
        },
        {
         "customdata": [
          [
           "Ireland"
          ],
          [
           "Ireland"
          ],
          [
           "Ireland"
          ],
          [
           "Ireland"
          ],
          [
           "Ireland"
          ],
          [
           "Ireland"
          ],
          [
           "Ireland"
          ],
          [
           "Ireland"
          ],
          [
           "Ireland"
          ],
          [
           "Ireland"
          ],
          [
           "Ireland"
          ]
         ],
         "hovertemplate": "country=%{customdata[0]}<br>Year=%{x}<br>Quality of Life=%{y}<extra></extra>",
         "legendgroup": "Ireland",
         "line": {
          "color": "#00cc96",
          "dash": "solid"
         },
         "marker": {
          "symbol": "circle"
         },
         "mode": "lines",
         "name": "Ireland",
         "orientation": "v",
         "showlegend": true,
         "type": "scatter",
         "x": [
          2011,
          2012,
          2014,
          2015,
          2016,
          2017,
          2018,
          2019,
          2020,
          2021,
          2022
         ],
         "xaxis": "x",
         "y": [
          1.1499999668538734,
          0.8767708877251567,
          0.6981211052179199,
          0.654772260933075,
          0.7467243548706242,
          0.7467243548706242,
          0.8045228139170829,
          0.9004157118805273,
          0.888593299802842,
          0.8307948407563832,
          0.6600266663009343
         ],
         "yaxis": "y"
        },
        {
         "customdata": [
          [
           "Italy"
          ],
          [
           "Italy"
          ],
          [
           "Italy"
          ],
          [
           "Italy"
          ],
          [
           "Italy"
          ],
          [
           "Italy"
          ],
          [
           "Italy"
          ],
          [
           "Italy"
          ],
          [
           "Italy"
          ],
          [
           "Italy"
          ]
         ],
         "hovertemplate": "country=%{customdata[0]}<br>Year=%{x}<br>Quality of Life=%{y}<extra></extra>",
         "legendgroup": "Italy",
         "line": {
          "color": "#ab63fa",
          "dash": "solid"
         },
         "marker": {
          "symbol": "circle"
         },
         "mode": "lines",
         "name": "Italy",
         "orientation": "v",
         "showlegend": true,
         "type": "scatter",
         "x": [
          2012,
          2014,
          2015,
          2016,
          2017,
          2018,
          2019,
          2020,
          2021,
          2022
         ],
         "xaxis": "x",
         "y": [
          -0.5090785280479004,
          -0.6049714260113437,
          -0.5668769870943592,
          -0.5839538045399039,
          -0.536664156229165,
          -0.24373105697097389,
          -0.02830043688871701,
          0.0978052919399215,
          0.07678767046848176,
          -0.004655612733346416
         ],
         "yaxis": "y"
        },
        {
         "customdata": [
          [
           "Latvia"
          ],
          [
           "Latvia"
          ],
          [
           "Latvia"
          ],
          [
           "Latvia"
          ],
          [
           "Latvia"
          ],
          [
           "Latvia"
          ],
          [
           "Latvia"
          ],
          [
           "Latvia"
          ],
          [
           "Latvia"
          ],
          [
           "Latvia"
          ],
          [
           "Latvia"
          ]
         ],
         "hovertemplate": "country=%{customdata[0]}<br>Year=%{x}<br>Quality of Life=%{y}<extra></extra>",
         "legendgroup": "Latvia",
         "line": {
          "color": "#FFA15A",
          "dash": "solid"
         },
         "marker": {
          "symbol": "circle"
         },
         "mode": "lines",
         "name": "Latvia",
         "orientation": "v",
         "showlegend": true,
         "type": "scatter",
         "x": [
          2011,
          2012,
          2014,
          2015,
          2016,
          2017,
          2018,
          2019,
          2020,
          2021,
          2022
         ],
         "xaxis": "x",
         "y": [
          -2.162902617581815,
          -1.7898398364637589,
          -1.7215325666815802,
          -1.1146487466937582,
          -0.7337043575239129,
          -0.6246754461408192,
          -0.6154802367470635,
          -0.602344223327414,
          -0.4946289132862855,
          -0.3002159146754684,
          -0.25686707039062345
         ],
         "yaxis": "y"
        },
        {
         "customdata": [
          [
           "Lithuania"
          ],
          [
           "Lithuania"
          ],
          [
           "Lithuania"
          ],
          [
           "Lithuania"
          ],
          [
           "Lithuania"
          ],
          [
           "Lithuania"
          ],
          [
           "Lithuania"
          ],
          [
           "Lithuania"
          ],
          [
           "Lithuania"
          ],
          [
           "Lithuania"
          ],
          [
           "Lithuania"
          ]
         ],
         "hovertemplate": "country=%{customdata[0]}<br>Year=%{x}<br>Quality of Life=%{y}<extra></extra>",
         "legendgroup": "Lithuania",
         "line": {
          "color": "#19d3f3",
          "dash": "solid"
         },
         "marker": {
          "symbol": "circle"
         },
         "mode": "lines",
         "name": "Lithuania",
         "orientation": "v",
         "showlegend": true,
         "type": "scatter",
         "x": [
          2011,
          2012,
          2014,
          2015,
          2016,
          2017,
          2018,
          2019,
          2020,
          2021,
          2022
         ],
         "xaxis": "x",
         "y": [
          -1.077867909118738,
          -1.2906713265170653,
          -0.756035580337317,
          -0.7823076071766173,
          -0.6653970877417332,
          -0.5997170206434843,
          -0.34093755627638245,
          -0.25423986770669377,
          -0.2016958140280944,
          0.049202042287217224,
          0.4656136676901172
         ],
         "yaxis": "y"
        },
        {
         "customdata": [
          [
           "Luxembourg"
          ],
          [
           "Luxembourg"
          ],
          [
           "Luxembourg"
          ],
          [
           "Luxembourg"
          ],
          [
           "Luxembourg"
          ],
          [
           "Luxembourg"
          ],
          [
           "Luxembourg"
          ],
          [
           "Luxembourg"
          ],
          [
           "Luxembourg"
          ],
          [
           "Luxembourg"
          ],
          [
           "Luxembourg"
          ]
         ],
         "hovertemplate": "country=%{customdata[0]}<br>Year=%{x}<br>Quality of Life=%{y}<extra></extra>",
         "legendgroup": "Luxembourg",
         "line": {
          "color": "#FF6692",
          "dash": "solid"
         },
         "marker": {
          "symbol": "circle"
         },
         "mode": "lines",
         "name": "Luxembourg",
         "orientation": "v",
         "showlegend": true,
         "type": "scatter",
         "x": [
          2011,
          2012,
          2014,
          2015,
          2016,
          2017,
          2018,
          2019,
          2020,
          2021,
          2022
         ],
         "xaxis": "x",
         "y": [
          0.8439308541760328,
          0.8478716582019279,
          0.7060027132697089,
          0.607482612622336,
          0.5969738018866162,
          0.6587130649589701,
          0.8951613065126667,
          1.089574305123485,
          1.202544020532473,
          1.3076321278896716,
          1.0764382917038342
         ],
         "yaxis": "y"
        },
        {
         "customdata": [
          [
           "Poland"
          ],
          [
           "Poland"
          ],
          [
           "Poland"
          ],
          [
           "Poland"
          ],
          [
           "Poland"
          ],
          [
           "Poland"
          ]
         ],
         "hovertemplate": "country=%{customdata[0]}<br>Year=%{x}<br>Quality of Life=%{y}<extra></extra>",
         "legendgroup": "Poland",
         "line": {
          "color": "#B6E880",
          "dash": "solid"
         },
         "marker": {
          "symbol": "circle"
         },
         "mode": "lines",
         "name": "Poland",
         "orientation": "v",
         "showlegend": true,
         "type": "scatter",
         "x": [
          2011,
          2012,
          2014,
          2015,
          2016,
          2017
         ],
         "xaxis": "x",
         "y": [
          -0.7954436205962668,
          -0.770485195098932,
          -0.8112068366998461,
          -0.7534083776533873,
          -0.5721313924622198,
          -0.37509119116747175
         ],
         "yaxis": "y"
        },
        {
         "customdata": [
          [
           "Portugal"
          ],
          [
           "Portugal"
          ],
          [
           "Portugal"
          ],
          [
           "Portugal"
          ],
          [
           "Portugal"
          ],
          [
           "Portugal"
          ],
          [
           "Portugal"
          ],
          [
           "Portugal"
          ],
          [
           "Portugal"
          ],
          [
           "Portugal"
          ],
          [
           "Portugal"
          ]
         ],
         "hovertemplate": "country=%{customdata[0]}<br>Year=%{x}<br>Quality of Life=%{y}<extra></extra>",
         "legendgroup": "Portugal",
         "line": {
          "color": "#FF97FF",
          "dash": "solid"
         },
         "marker": {
          "symbol": "circle"
         },
         "mode": "lines",
         "name": "Portugal",
         "orientation": "v",
         "showlegend": true,
         "type": "scatter",
         "x": [
          2011,
          2012,
          2014,
          2015,
          2016,
          2017,
          2018,
          2019,
          2020,
          2021,
          2022
         ],
         "xaxis": "x",
         "y": [
          -1.420717859371599,
          -1.7175917626556851,
          -1.7162781613137197,
          -1.6886925331324552,
          -1.5941132365109763,
          -1.311688947988505,
          -0.9399397682124154,
          -0.653574675664049,
          -0.6299298515086785,
          -0.5156465347577253,
          -0.5786993991720445
         ],
         "yaxis": "y"
        },
        {
         "customdata": [
          [
           "Romania"
          ],
          [
           "Romania"
          ],
          [
           "Romania"
          ],
          [
           "Romania"
          ],
          [
           "Romania"
          ],
          [
           "Romania"
          ],
          [
           "Romania"
          ],
          [
           "Romania"
          ],
          [
           "Romania"
          ],
          [
           "Romania"
          ],
          [
           "Romania"
          ]
         ],
         "hovertemplate": "country=%{customdata[0]}<br>Year=%{x}<br>Quality of Life=%{y}<extra></extra>",
         "legendgroup": "Romania",
         "line": {
          "color": "#FECB52",
          "dash": "solid"
         },
         "marker": {
          "symbol": "circle"
         },
         "mode": "lines",
         "name": "Romania",
         "orientation": "v",
         "showlegend": true,
         "type": "scatter",
         "x": [
          2011,
          2012,
          2014,
          2015,
          2016,
          2017,
          2018,
          2019,
          2020,
          2021,
          2022
         ],
         "xaxis": "x",
         "y": [
          -1.6164444593243814,
          -1.8069166539093036,
          -1.6873789317904908,
          -1.1566839896366377,
          -0.7665443910730368,
          -0.6089122300372387,
          -0.4447120622916158,
          -0.3737775898255075,
          -0.35275996835406775,
          0.08992368388813247,
          0.23704703418821074
         ],
         "yaxis": "y"
        },
        {
         "customdata": [
          [
           "Slovakia"
          ],
          [
           "Slovakia"
          ],
          [
           "Slovakia"
          ],
          [
           "Slovakia"
          ],
          [
           "Slovakia"
          ],
          [
           "Slovakia"
          ],
          [
           "Slovakia"
          ],
          [
           "Slovakia"
          ],
          [
           "Slovakia"
          ],
          [
           "Slovakia"
          ],
          [
           "Slovakia"
          ]
         ],
         "hovertemplate": "country=%{customdata[0]}<br>Year=%{x}<br>Quality of Life=%{y}<extra></extra>",
         "legendgroup": "Slovakia",
         "line": {
          "color": "#636efa",
          "dash": "solid"
         },
         "marker": {
          "symbol": "circle"
         },
         "mode": "lines",
         "name": "Slovakia",
         "orientation": "v",
         "showlegend": true,
         "type": "scatter",
         "x": [
          2011,
          2012,
          2014,
          2015,
          2016,
          2017,
          2018,
          2019,
          2020,
          2021,
          2022
         ],
         "xaxis": "x",
         "y": [
          -0.9872294165231543,
          -0.5773857978300792,
          -0.5432321629389898,
          -0.43420325155589595,
          -0.4079312247165968,
          -0.30941112406922283,
          -0.27657109052009776,
          -0.1675421791370051,
          -0.10186211203875498,
          -0.02304603152085649,
          0.0794148731524126
         ],
         "yaxis": "y"
        },
        {
         "customdata": [
          [
           "Slovenia"
          ],
          [
           "Slovenia"
          ],
          [
           "Slovenia"
          ],
          [
           "Slovenia"
          ],
          [
           "Slovenia"
          ],
          [
           "Slovenia"
          ],
          [
           "Slovenia"
          ],
          [
           "Slovenia"
          ],
          [
           "Slovenia"
          ],
          [
           "Slovenia"
          ],
          [
           "Slovenia"
          ]
         ],
         "hovertemplate": "country=%{customdata[0]}<br>Year=%{x}<br>Quality of Life=%{y}<extra></extra>",
         "legendgroup": "Slovenia",
         "line": {
          "color": "#EF553B",
          "dash": "solid"
         },
         "marker": {
          "symbol": "circle"
         },
         "mode": "lines",
         "name": "Slovenia",
         "orientation": "v",
         "showlegend": true,
         "type": "scatter",
         "x": [
          2011,
          2012,
          2014,
          2015,
          2016,
          2017,
          2018,
          2019,
          2020,
          2021,
          2022
         ],
         "xaxis": "x",
         "y": [
          -0.6391250609024342,
          -0.4578480757112665,
          -0.7363315602078426,
          -0.8414196675650414,
          -0.854555680984691,
          -0.6049714260113437,
          -0.3816591978772966,
          -0.05982686909587548,
          0.06890606241669273,
          0.2909046892087744,
          0.3171767160480747
         ],
         "yaxis": "y"
        },
        {
         "customdata": [
          [
           "Spain"
          ],
          [
           "Spain"
          ],
          [
           "Spain"
          ],
          [
           "Spain"
          ],
          [
           "Spain"
          ],
          [
           "Spain"
          ],
          [
           "Spain"
          ],
          [
           "Spain"
          ],
          [
           "Spain"
          ],
          [
           "Spain"
          ],
          [
           "Spain"
          ]
         ],
         "hovertemplate": "country=%{customdata[0]}<br>Year=%{x}<br>Quality of Life=%{y}<extra></extra>",
         "legendgroup": "Spain",
         "line": {
          "color": "#00cc96",
          "dash": "solid"
         },
         "marker": {
          "symbol": "circle"
         },
         "mode": "lines",
         "name": "Spain",
         "orientation": "v",
         "showlegend": true,
         "type": "scatter",
         "x": [
          2011,
          2012,
          2014,
          2015,
          2016,
          2017,
          2018,
          2019,
          2020,
          2021,
          2022
         ],
         "xaxis": "x",
         "y": [
          0.4629864650061875,
          -0.11368452411644028,
          -0.10448931472268583,
          -0.06245407177980632,
          -0.007282815417277259,
          -0.12944774022002067,
          -0.07164928117356077,
          -0.009910018101206937,
          0.10831410267564139,
          0.08861008254616705,
          0.03606602886756767
         ],
         "yaxis": "y"
        },
        {
         "customdata": [
          [
           "Sweden"
          ],
          [
           "Sweden"
          ],
          [
           "Sweden"
          ],
          [
           "Sweden"
          ],
          [
           "Sweden"
          ],
          [
           "Sweden"
          ],
          [
           "Sweden"
          ],
          [
           "Sweden"
          ],
          [
           "Sweden"
          ],
          [
           "Sweden"
          ]
         ],
         "hovertemplate": "country=%{customdata[0]}<br>Year=%{x}<br>Quality of Life=%{y}<extra></extra>",
         "legendgroup": "Sweden",
         "line": {
          "color": "#ab63fa",
          "dash": "solid"
         },
         "marker": {
          "symbol": "circle"
         },
         "mode": "lines",
         "name": "Sweden",
         "orientation": "v",
         "showlegend": true,
         "type": "scatter",
         "x": [
          2011,
          2014,
          2015,
          2016,
          2017,
          2018,
          2019,
          2020,
          2021,
          2022
         ],
         "xaxis": "x",
         "y": [
          1.2747920943405464,
          1.2550880742110722,
          1.1591951762476291,
          1.1499999668538734,
          1.1894080071128232,
          1.2275024460298076,
          1.2406384594494573,
          1.2537744728691078,
          1.2813601010503723,
          1.2958097158119863
         ],
         "yaxis": "y"
        }
       ],
       "layout": {
        "legend": {
         "title": {
          "text": "country"
         },
         "tracegroupgap": 0
        },
        "template": {
         "data": {
          "bar": [
           {
            "error_x": {
             "color": "#2a3f5f"
            },
            "error_y": {
             "color": "#2a3f5f"
            },
            "marker": {
             "line": {
              "color": "#E5ECF6",
              "width": 0.5
             },
             "pattern": {
              "fillmode": "overlay",
              "size": 10,
              "solidity": 0.2
             }
            },
            "type": "bar"
           }
          ],
          "barpolar": [
           {
            "marker": {
             "line": {
              "color": "#E5ECF6",
              "width": 0.5
             },
             "pattern": {
              "fillmode": "overlay",
              "size": 10,
              "solidity": 0.2
             }
            },
            "type": "barpolar"
           }
          ],
          "carpet": [
           {
            "aaxis": {
             "endlinecolor": "#2a3f5f",
             "gridcolor": "white",
             "linecolor": "white",
             "minorgridcolor": "white",
             "startlinecolor": "#2a3f5f"
            },
            "baxis": {
             "endlinecolor": "#2a3f5f",
             "gridcolor": "white",
             "linecolor": "white",
             "minorgridcolor": "white",
             "startlinecolor": "#2a3f5f"
            },
            "type": "carpet"
           }
          ],
          "choropleth": [
           {
            "colorbar": {
             "outlinewidth": 0,
             "ticks": ""
            },
            "type": "choropleth"
           }
          ],
          "contour": [
           {
            "colorbar": {
             "outlinewidth": 0,
             "ticks": ""
            },
            "colorscale": [
             [
              0,
              "#0d0887"
             ],
             [
              0.1111111111111111,
              "#46039f"
             ],
             [
              0.2222222222222222,
              "#7201a8"
             ],
             [
              0.3333333333333333,
              "#9c179e"
             ],
             [
              0.4444444444444444,
              "#bd3786"
             ],
             [
              0.5555555555555556,
              "#d8576b"
             ],
             [
              0.6666666666666666,
              "#ed7953"
             ],
             [
              0.7777777777777778,
              "#fb9f3a"
             ],
             [
              0.8888888888888888,
              "#fdca26"
             ],
             [
              1,
              "#f0f921"
             ]
            ],
            "type": "contour"
           }
          ],
          "contourcarpet": [
           {
            "colorbar": {
             "outlinewidth": 0,
             "ticks": ""
            },
            "type": "contourcarpet"
           }
          ],
          "heatmap": [
           {
            "colorbar": {
             "outlinewidth": 0,
             "ticks": ""
            },
            "colorscale": [
             [
              0,
              "#0d0887"
             ],
             [
              0.1111111111111111,
              "#46039f"
             ],
             [
              0.2222222222222222,
              "#7201a8"
             ],
             [
              0.3333333333333333,
              "#9c179e"
             ],
             [
              0.4444444444444444,
              "#bd3786"
             ],
             [
              0.5555555555555556,
              "#d8576b"
             ],
             [
              0.6666666666666666,
              "#ed7953"
             ],
             [
              0.7777777777777778,
              "#fb9f3a"
             ],
             [
              0.8888888888888888,
              "#fdca26"
             ],
             [
              1,
              "#f0f921"
             ]
            ],
            "type": "heatmap"
           }
          ],
          "heatmapgl": [
           {
            "colorbar": {
             "outlinewidth": 0,
             "ticks": ""
            },
            "colorscale": [
             [
              0,
              "#0d0887"
             ],
             [
              0.1111111111111111,
              "#46039f"
             ],
             [
              0.2222222222222222,
              "#7201a8"
             ],
             [
              0.3333333333333333,
              "#9c179e"
             ],
             [
              0.4444444444444444,
              "#bd3786"
             ],
             [
              0.5555555555555556,
              "#d8576b"
             ],
             [
              0.6666666666666666,
              "#ed7953"
             ],
             [
              0.7777777777777778,
              "#fb9f3a"
             ],
             [
              0.8888888888888888,
              "#fdca26"
             ],
             [
              1,
              "#f0f921"
             ]
            ],
            "type": "heatmapgl"
           }
          ],
          "histogram": [
           {
            "marker": {
             "pattern": {
              "fillmode": "overlay",
              "size": 10,
              "solidity": 0.2
             }
            },
            "type": "histogram"
           }
          ],
          "histogram2d": [
           {
            "colorbar": {
             "outlinewidth": 0,
             "ticks": ""
            },
            "colorscale": [
             [
              0,
              "#0d0887"
             ],
             [
              0.1111111111111111,
              "#46039f"
             ],
             [
              0.2222222222222222,
              "#7201a8"
             ],
             [
              0.3333333333333333,
              "#9c179e"
             ],
             [
              0.4444444444444444,
              "#bd3786"
             ],
             [
              0.5555555555555556,
              "#d8576b"
             ],
             [
              0.6666666666666666,
              "#ed7953"
             ],
             [
              0.7777777777777778,
              "#fb9f3a"
             ],
             [
              0.8888888888888888,
              "#fdca26"
             ],
             [
              1,
              "#f0f921"
             ]
            ],
            "type": "histogram2d"
           }
          ],
          "histogram2dcontour": [
           {
            "colorbar": {
             "outlinewidth": 0,
             "ticks": ""
            },
            "colorscale": [
             [
              0,
              "#0d0887"
             ],
             [
              0.1111111111111111,
              "#46039f"
             ],
             [
              0.2222222222222222,
              "#7201a8"
             ],
             [
              0.3333333333333333,
              "#9c179e"
             ],
             [
              0.4444444444444444,
              "#bd3786"
             ],
             [
              0.5555555555555556,
              "#d8576b"
             ],
             [
              0.6666666666666666,
              "#ed7953"
             ],
             [
              0.7777777777777778,
              "#fb9f3a"
             ],
             [
              0.8888888888888888,
              "#fdca26"
             ],
             [
              1,
              "#f0f921"
             ]
            ],
            "type": "histogram2dcontour"
           }
          ],
          "mesh3d": [
           {
            "colorbar": {
             "outlinewidth": 0,
             "ticks": ""
            },
            "type": "mesh3d"
           }
          ],
          "parcoords": [
           {
            "line": {
             "colorbar": {
              "outlinewidth": 0,
              "ticks": ""
             }
            },
            "type": "parcoords"
           }
          ],
          "pie": [
           {
            "automargin": true,
            "type": "pie"
           }
          ],
          "scatter": [
           {
            "fillpattern": {
             "fillmode": "overlay",
             "size": 10,
             "solidity": 0.2
            },
            "type": "scatter"
           }
          ],
          "scatter3d": [
           {
            "line": {
             "colorbar": {
              "outlinewidth": 0,
              "ticks": ""
             }
            },
            "marker": {
             "colorbar": {
              "outlinewidth": 0,
              "ticks": ""
             }
            },
            "type": "scatter3d"
           }
          ],
          "scattercarpet": [
           {
            "marker": {
             "colorbar": {
              "outlinewidth": 0,
              "ticks": ""
             }
            },
            "type": "scattercarpet"
           }
          ],
          "scattergeo": [
           {
            "marker": {
             "colorbar": {
              "outlinewidth": 0,
              "ticks": ""
             }
            },
            "type": "scattergeo"
           }
          ],
          "scattergl": [
           {
            "marker": {
             "colorbar": {
              "outlinewidth": 0,
              "ticks": ""
             }
            },
            "type": "scattergl"
           }
          ],
          "scattermapbox": [
           {
            "marker": {
             "colorbar": {
              "outlinewidth": 0,
              "ticks": ""
             }
            },
            "type": "scattermapbox"
           }
          ],
          "scatterpolar": [
           {
            "marker": {
             "colorbar": {
              "outlinewidth": 0,
              "ticks": ""
             }
            },
            "type": "scatterpolar"
           }
          ],
          "scatterpolargl": [
           {
            "marker": {
             "colorbar": {
              "outlinewidth": 0,
              "ticks": ""
             }
            },
            "type": "scatterpolargl"
           }
          ],
          "scatterternary": [
           {
            "marker": {
             "colorbar": {
              "outlinewidth": 0,
              "ticks": ""
             }
            },
            "type": "scatterternary"
           }
          ],
          "surface": [
           {
            "colorbar": {
             "outlinewidth": 0,
             "ticks": ""
            },
            "colorscale": [
             [
              0,
              "#0d0887"
             ],
             [
              0.1111111111111111,
              "#46039f"
             ],
             [
              0.2222222222222222,
              "#7201a8"
             ],
             [
              0.3333333333333333,
              "#9c179e"
             ],
             [
              0.4444444444444444,
              "#bd3786"
             ],
             [
              0.5555555555555556,
              "#d8576b"
             ],
             [
              0.6666666666666666,
              "#ed7953"
             ],
             [
              0.7777777777777778,
              "#fb9f3a"
             ],
             [
              0.8888888888888888,
              "#fdca26"
             ],
             [
              1,
              "#f0f921"
             ]
            ],
            "type": "surface"
           }
          ],
          "table": [
           {
            "cells": {
             "fill": {
              "color": "#EBF0F8"
             },
             "line": {
              "color": "white"
             }
            },
            "header": {
             "fill": {
              "color": "#C8D4E3"
             },
             "line": {
              "color": "white"
             }
            },
            "type": "table"
           }
          ]
         },
         "layout": {
          "annotationdefaults": {
           "arrowcolor": "#2a3f5f",
           "arrowhead": 0,
           "arrowwidth": 1
          },
          "autotypenumbers": "strict",
          "coloraxis": {
           "colorbar": {
            "outlinewidth": 0,
            "ticks": ""
           }
          },
          "colorscale": {
           "diverging": [
            [
             0,
             "#8e0152"
            ],
            [
             0.1,
             "#c51b7d"
            ],
            [
             0.2,
             "#de77ae"
            ],
            [
             0.3,
             "#f1b6da"
            ],
            [
             0.4,
             "#fde0ef"
            ],
            [
             0.5,
             "#f7f7f7"
            ],
            [
             0.6,
             "#e6f5d0"
            ],
            [
             0.7,
             "#b8e186"
            ],
            [
             0.8,
             "#7fbc41"
            ],
            [
             0.9,
             "#4d9221"
            ],
            [
             1,
             "#276419"
            ]
           ],
           "sequential": [
            [
             0,
             "#0d0887"
            ],
            [
             0.1111111111111111,
             "#46039f"
            ],
            [
             0.2222222222222222,
             "#7201a8"
            ],
            [
             0.3333333333333333,
             "#9c179e"
            ],
            [
             0.4444444444444444,
             "#bd3786"
            ],
            [
             0.5555555555555556,
             "#d8576b"
            ],
            [
             0.6666666666666666,
             "#ed7953"
            ],
            [
             0.7777777777777778,
             "#fb9f3a"
            ],
            [
             0.8888888888888888,
             "#fdca26"
            ],
            [
             1,
             "#f0f921"
            ]
           ],
           "sequentialminus": [
            [
             0,
             "#0d0887"
            ],
            [
             0.1111111111111111,
             "#46039f"
            ],
            [
             0.2222222222222222,
             "#7201a8"
            ],
            [
             0.3333333333333333,
             "#9c179e"
            ],
            [
             0.4444444444444444,
             "#bd3786"
            ],
            [
             0.5555555555555556,
             "#d8576b"
            ],
            [
             0.6666666666666666,
             "#ed7953"
            ],
            [
             0.7777777777777778,
             "#fb9f3a"
            ],
            [
             0.8888888888888888,
             "#fdca26"
            ],
            [
             1,
             "#f0f921"
            ]
           ]
          },
          "colorway": [
           "#636efa",
           "#EF553B",
           "#00cc96",
           "#ab63fa",
           "#FFA15A",
           "#19d3f3",
           "#FF6692",
           "#B6E880",
           "#FF97FF",
           "#FECB52"
          ],
          "font": {
           "color": "#2a3f5f"
          },
          "geo": {
           "bgcolor": "white",
           "lakecolor": "white",
           "landcolor": "#E5ECF6",
           "showlakes": true,
           "showland": true,
           "subunitcolor": "white"
          },
          "hoverlabel": {
           "align": "left"
          },
          "hovermode": "closest",
          "mapbox": {
           "style": "light"
          },
          "paper_bgcolor": "white",
          "plot_bgcolor": "#E5ECF6",
          "polar": {
           "angularaxis": {
            "gridcolor": "white",
            "linecolor": "white",
            "ticks": ""
           },
           "bgcolor": "#E5ECF6",
           "radialaxis": {
            "gridcolor": "white",
            "linecolor": "white",
            "ticks": ""
           }
          },
          "scene": {
           "xaxis": {
            "backgroundcolor": "#E5ECF6",
            "gridcolor": "white",
            "gridwidth": 2,
            "linecolor": "white",
            "showbackground": true,
            "ticks": "",
            "zerolinecolor": "white"
           },
           "yaxis": {
            "backgroundcolor": "#E5ECF6",
            "gridcolor": "white",
            "gridwidth": 2,
            "linecolor": "white",
            "showbackground": true,
            "ticks": "",
            "zerolinecolor": "white"
           },
           "zaxis": {
            "backgroundcolor": "#E5ECF6",
            "gridcolor": "white",
            "gridwidth": 2,
            "linecolor": "white",
            "showbackground": true,
            "ticks": "",
            "zerolinecolor": "white"
           }
          },
          "shapedefaults": {
           "line": {
            "color": "#2a3f5f"
           }
          },
          "ternary": {
           "aaxis": {
            "gridcolor": "white",
            "linecolor": "white",
            "ticks": ""
           },
           "baxis": {
            "gridcolor": "white",
            "linecolor": "white",
            "ticks": ""
           },
           "bgcolor": "#E5ECF6",
           "caxis": {
            "gridcolor": "white",
            "linecolor": "white",
            "ticks": ""
           }
          },
          "title": {
           "x": 0.05
          },
          "xaxis": {
           "automargin": true,
           "gridcolor": "white",
           "linecolor": "white",
           "ticks": "",
           "title": {
            "standoff": 15
           },
           "zerolinecolor": "white",
           "zerolinewidth": 2
          },
          "yaxis": {
           "automargin": true,
           "gridcolor": "white",
           "linecolor": "white",
           "ticks": "",
           "title": {
            "standoff": 15
           },
           "zerolinecolor": "white",
           "zerolinewidth": 2
          }
         }
        },
        "title": {
         "text": "Quality of Life over Time in Europe"
        },
        "xaxis": {
         "anchor": "y",
         "domain": [
          0,
          1
         ],
         "title": {
          "text": "Year"
         }
        },
        "yaxis": {
         "anchor": "x",
         "domain": [
          0,
          1
         ],
         "title": {
          "text": "Quality of Life"
         }
        }
       }
      }
     },
     "metadata": {},
     "output_type": "display_data"
    }
   ],
   "source": [
    "fig = px.line(\n",
    "    combined,\n",
    "    x='year',\n",
    "    y='qol',\n",
    "    color='country',\n",
    "    labels={'year': 'Year', 'qol': 'Quality of Life'},\n",
    "    title='Quality of Life over Time in Europe',\n",
    "    hover_data=['country', 'year']\n",
    ")\n",
    "\n",
    "plotly.offline.plot(fig, filename='birth_death_EU.html')\n",
    "\n",
    "fig"
   ]
  },
  {
   "cell_type": "code",
   "execution_count": 30,
   "id": "461e3d76",
   "metadata": {},
   "outputs": [
    {
     "data": {
      "application/vnd.plotly.v1+json": {
       "config": {
        "plotlyServerURL": "https://plot.ly"
       },
       "data": [
        {
         "customdata": [
          [
           "Austria"
          ],
          [
           "Austria"
          ],
          [
           "Austria"
          ],
          [
           "Austria"
          ],
          [
           "Austria"
          ],
          [
           "Austria"
          ],
          [
           "Austria"
          ],
          [
           "Austria"
          ],
          [
           "Austria"
          ],
          [
           "Austria"
          ],
          [
           "Austria"
          ]
         ],
         "hovertemplate": "country=%{customdata[0]}<br>Year=%{x}<br>Life Expectancy=%{y}<extra></extra>",
         "legendgroup": "Austria",
         "line": {
          "color": "#636efa",
          "dash": "solid"
         },
         "marker": {
          "symbol": "circle"
         },
         "mode": "lines",
         "name": "Austria",
         "orientation": "v",
         "showlegend": true,
         "type": "scatter",
         "x": [
          2011,
          2012,
          2014,
          2015,
          2016,
          2017,
          2018,
          2019,
          2020,
          2021,
          2022
         ],
         "xaxis": "x",
         "y": [
          -0.4117565241024149,
          -0.0726371764091414,
          -0.8712085435578153,
          -0.8055725407784728,
          -1.0134198829130598,
          -1.0024805491165034,
          -1.0462378843027311,
          -0.9477838801337158,
          -0.6414825338301151,
          -0.06169784261258484,
          -0.16015184678159852
         ],
         "yaxis": "y"
        },
        {
         "customdata": [
          [
           "Belgium"
          ]
         ],
         "hovertemplate": "country=%{customdata[0]}<br>Year=%{x}<br>Life Expectancy=%{y}<extra></extra>",
         "legendgroup": "Belgium",
         "line": {
          "color": "#EF553B",
          "dash": "solid"
         },
         "marker": {
          "symbol": "circle"
         },
         "mode": "lines",
         "name": "Belgium",
         "orientation": "v",
         "showlegend": true,
         "type": "scatter",
         "x": [
          2011
         ],
         "xaxis": "x",
         "y": [
          0.39775417684281705
         ],
         "yaxis": "y"
        },
        {
         "customdata": [
          [
           "Bulgaria"
          ],
          [
           "Bulgaria"
          ],
          [
           "Bulgaria"
          ],
          [
           "Bulgaria"
          ],
          [
           "Bulgaria"
          ],
          [
           "Bulgaria"
          ],
          [
           "Bulgaria"
          ],
          [
           "Bulgaria"
          ],
          [
           "Bulgaria"
          ],
          [
           "Bulgaria"
          ],
          [
           "Bulgaria"
          ]
         ],
         "hovertemplate": "country=%{customdata[0]}<br>Year=%{x}<br>Life Expectancy=%{y}<extra></extra>",
         "legendgroup": "Bulgaria",
         "line": {
          "color": "#00cc96",
          "dash": "solid"
         },
         "marker": {
          "symbol": "circle"
         },
         "mode": "lines",
         "name": "Bulgaria",
         "orientation": "v",
         "showlegend": true,
         "type": "scatter",
         "x": [
          2011,
          2012,
          2014,
          2015,
          2016,
          2017,
          2018,
          2019,
          2020,
          2021,
          2022
         ],
         "xaxis": "x",
         "y": [
          0.5071475148083889,
          0.48526884721527574,
          0.5180868486049455,
          0.34305750786003114,
          0.8900241976878902,
          0.6274801865705173,
          0.9009635314844467,
          1.0322355370431349,
          0.8790848638913337,
          0.3649361754531443,
          1.0978715398224772
         ],
         "yaxis": "y"
        },
        {
         "customdata": [
          [
           "Croatia"
          ],
          [
           "Croatia"
          ],
          [
           "Croatia"
          ],
          [
           "Croatia"
          ],
          [
           "Croatia"
          ],
          [
           "Croatia"
          ],
          [
           "Croatia"
          ],
          [
           "Croatia"
          ],
          [
           "Croatia"
          ],
          [
           "Croatia"
          ],
          [
           "Croatia"
          ]
         ],
         "hovertemplate": "country=%{customdata[0]}<br>Year=%{x}<br>Life Expectancy=%{y}<extra></extra>",
         "legendgroup": "Croatia",
         "line": {
          "color": "#ab63fa",
          "dash": "solid"
         },
         "marker": {
          "symbol": "circle"
         },
         "mode": "lines",
         "name": "Croatia",
         "orientation": "v",
         "showlegend": true,
         "type": "scatter",
         "x": [
          2011,
          2012,
          2014,
          2015,
          2016,
          2017,
          2018,
          2019,
          2020,
          2021,
          2022
         ],
         "xaxis": "x",
         "y": [
          -0.20390918196782787,
          0.2993001726738018,
          -0.5211498620679867,
          -1.2322065588442035,
          -0.8274512083715859,
          -0.8821478773543734,
          -0.9149658787440447,
          -0.9259052125406012,
          -0.6852398690163445,
          -0.6743005352197879,
          -0.3133025199333997
         ],
         "yaxis": "y"
        },
        {
         "customdata": [
          [
           "Czechia"
          ],
          [
           "Czechia"
          ],
          [
           "Czechia"
          ],
          [
           "Czechia"
          ],
          [
           "Czechia"
          ],
          [
           "Czechia"
          ],
          [
           "Czechia"
          ],
          [
           "Czechia"
          ],
          [
           "Czechia"
          ],
          [
           "Czechia"
          ],
          [
           "Czechia"
          ]
         ],
         "hovertemplate": "country=%{customdata[0]}<br>Year=%{x}<br>Life Expectancy=%{y}<extra></extra>",
         "legendgroup": "Czechia",
         "line": {
          "color": "#FFA15A",
          "dash": "solid"
         },
         "marker": {
          "symbol": "circle"
         },
         "mode": "lines",
         "name": "Czechia",
         "orientation": "v",
         "showlegend": true,
         "type": "scatter",
         "x": [
          2011,
          2012,
          2014,
          2015,
          2016,
          2017,
          2018,
          2019,
          2020,
          2021,
          2022
         ],
         "xaxis": "x",
         "y": [
          0.26648217128413215,
          0.33211817406347305,
          0.5509048499946182,
          0.2993001726738018,
          0.36493617545314583,
          -0.03981917501947017,
          0.2446035036910159,
          0.10239216433577443,
          0.00393816016675918,
          0.0805134967426582,
          0.025816827759872298
         ],
         "yaxis": "y"
        },
        {
         "customdata": [
          [
           "Denmark"
          ],
          [
           "Denmark"
          ],
          [
           "Denmark"
          ],
          [
           "Denmark"
          ],
          [
           "Denmark"
          ],
          [
           "Denmark"
          ],
          [
           "Denmark"
          ],
          [
           "Denmark"
          ],
          [
           "Denmark"
          ],
          [
           "Denmark"
          ],
          [
           "Denmark"
          ]
         ],
         "hovertemplate": "country=%{customdata[0]}<br>Year=%{x}<br>Life Expectancy=%{y}<extra></extra>",
         "legendgroup": "Denmark",
         "line": {
          "color": "#19d3f3",
          "dash": "solid"
         },
         "marker": {
          "symbol": "circle"
         },
         "mode": "lines",
         "name": "Denmark",
         "orientation": "v",
         "showlegend": true,
         "type": "scatter",
         "x": [
          2011,
          2012,
          2014,
          2015,
          2016,
          2017,
          2018,
          2019,
          2020,
          2021,
          2022
         ],
         "xaxis": "x",
         "y": [
          0.025816827759872298,
          -0.0726371764091414,
          -0.18203051437471476,
          -0.5867858648473292,
          -0.30236318613684315,
          -0.4226958578989715,
          -0.19296984817127133,
          -0.6086645324404439,
          -0.8274512083715859,
          -1.1337525546751883,
          -1.2759638940304312
         ],
         "yaxis": "y"
        },
        {
         "customdata": [
          [
           "Estonia"
          ],
          [
           "Estonia"
          ],
          [
           "Estonia"
          ],
          [
           "Estonia"
          ],
          [
           "Estonia"
          ],
          [
           "Estonia"
          ],
          [
           "Estonia"
          ],
          [
           "Estonia"
          ],
          [
           "Estonia"
          ],
          [
           "Estonia"
          ],
          [
           "Estonia"
          ]
         ],
         "hovertemplate": "country=%{customdata[0]}<br>Year=%{x}<br>Life Expectancy=%{y}<extra></extra>",
         "legendgroup": "Estonia",
         "line": {
          "color": "#FF6692",
          "dash": "solid"
         },
         "marker": {
          "symbol": "circle"
         },
         "mode": "lines",
         "name": "Estonia",
         "orientation": "v",
         "showlegend": true,
         "type": "scatter",
         "x": [
          2011,
          2012,
          2014,
          2015,
          2016,
          2017,
          2018,
          2019,
          2020,
          2021,
          2022
         ],
         "xaxis": "x",
         "y": [
          -1.2322065588442035,
          -1.429114567182231,
          -1.429114567182231,
          -1.4619325685719038,
          -1.0899952194889588,
          -1.2540852264373166,
          -1.7135372458927185,
          -1.2869032278269894,
          -0.9040265449474881,
          -1.1446918884717447,
          -0.5211498620679867
         ],
         "yaxis": "y"
        },
        {
         "customdata": [
          [
           "Finland"
          ],
          [
           "Finland"
          ],
          [
           "Finland"
          ],
          [
           "Finland"
          ],
          [
           "Finland"
          ],
          [
           "Finland"
          ],
          [
           "Finland"
          ],
          [
           "Finland"
          ],
          [
           "Finland"
          ],
          [
           "Finland"
          ],
          [
           "Finland"
          ]
         ],
         "hovertemplate": "country=%{customdata[0]}<br>Year=%{x}<br>Life Expectancy=%{y}<extra></extra>",
         "legendgroup": "Finland",
         "line": {
          "color": "#B6E880",
          "dash": "solid"
         },
         "marker": {
          "symbol": "circle"
         },
         "mode": "lines",
         "name": "Finland",
         "orientation": "v",
         "showlegend": true,
         "type": "scatter",
         "x": [
          2011,
          2012,
          2014,
          2015,
          2016,
          2017,
          2018,
          2019,
          2020,
          2021,
          2022
         ],
         "xaxis": "x",
         "y": [
          -0.8055725407784728,
          -1.0790558856924024,
          -0.7836938731853582,
          -0.8383905421681456,
          -0.7946332069819163,
          -0.9477838801337174,
          -0.9696625477268306,
          -1.1884492236579742,
          -1.0681165518958458,
          -0.0070011736297973795,
          -0.8274512083715875
         ],
         "yaxis": "y"
        },
        {
         "customdata": [
          [
           "France"
          ],
          [
           "France"
          ],
          [
           "France"
          ],
          [
           "France"
          ],
          [
           "France"
          ],
          [
           "France"
          ],
          [
           "France"
          ],
          [
           "France"
          ],
          [
           "France"
          ],
          [
           "France"
          ]
         ],
         "hovertemplate": "country=%{customdata[0]}<br>Year=%{x}<br>Life Expectancy=%{y}<extra></extra>",
         "legendgroup": "France",
         "line": {
          "color": "#FF97FF",
          "dash": "solid"
         },
         "marker": {
          "symbol": "circle"
         },
         "mode": "lines",
         "name": "France",
         "orientation": "v",
         "showlegend": true,
         "type": "scatter",
         "x": [
          2012,
          2014,
          2015,
          2016,
          2017,
          2018,
          2019,
          2020,
          2021,
          2022
         ],
         "xaxis": "x",
         "y": [
          0.3321181740634746,
          0.46339017962215956,
          0.4196328444359302,
          0.3649361754531443,
          0.4415115120290464,
          0.49620818101183234,
          0.5399655161980617,
          0.6384195203670738,
          0.9884782018569055,
          0.6056015189774041
         ],
         "yaxis": "y"
        },
        {
         "customdata": [
          [
           "Germany"
          ],
          [
           "Germany"
          ],
          [
           "Germany"
          ],
          [
           "Germany"
          ],
          [
           "Germany"
          ],
          [
           "Germany"
          ],
          [
           "Germany"
          ],
          [
           "Germany"
          ],
          [
           "Germany"
          ],
          [
           "Germany"
          ],
          [
           "Germany"
          ]
         ],
         "hovertemplate": "country=%{customdata[0]}<br>Year=%{x}<br>Life Expectancy=%{y}<extra></extra>",
         "legendgroup": "Germany",
         "line": {
          "color": "#FECB52",
          "dash": "solid"
         },
         "marker": {
          "symbol": "circle"
         },
         "mode": "lines",
         "name": "Germany",
         "orientation": "v",
         "showlegend": true,
         "type": "scatter",
         "x": [
          2011,
          2012,
          2014,
          2015,
          2016,
          2017,
          2018,
          2019,
          2020,
          2021,
          2022
         ],
         "xaxis": "x",
         "y": [
          -0.7618152055922435,
          -0.8930872111509315,
          -1.1446918884717447,
          1.0322355370431349,
          1.0103568694500187,
          0.922842199077563,
          0.8790848638913306,
          0.999417535653462,
          0.8900241976878902,
          0.8572061962982175,
          -0.13827317918848542
         ],
         "yaxis": "y"
        },
        {
         "customdata": [
          [
           "Greece"
          ],
          [
           "Greece"
          ],
          [
           "Greece"
          ],
          [
           "Greece"
          ],
          [
           "Greece"
          ],
          [
           "Greece"
          ],
          [
           "Greece"
          ],
          [
           "Greece"
          ],
          [
           "Greece"
          ],
          [
           "Greece"
          ],
          [
           "Greece"
          ]
         ],
         "hovertemplate": "country=%{customdata[0]}<br>Year=%{x}<br>Life Expectancy=%{y}<extra></extra>",
         "legendgroup": "Greece",
         "line": {
          "color": "#636efa",
          "dash": "solid"
         },
         "marker": {
          "symbol": "circle"
         },
         "mode": "lines",
         "name": "Greece",
         "orientation": "v",
         "showlegend": true,
         "type": "scatter",
         "x": [
          2011,
          2012,
          2014,
          2015,
          2016,
          2017,
          2018,
          2019,
          2020,
          2021,
          2022
         ],
         "xaxis": "x",
         "y": [
          1.0650535384328077,
          0.6931161893498597,
          0.6165408527739606,
          0.5071475148083889,
          0.5618441837911747,
          0.6712375217567466,
          0.8243881949085478,
          0.9447208666706761,
          0.922842199077563,
          0.8681455300947771,
          1.1635075426018198
         ],
         "yaxis": "y"
        },
        {
         "customdata": [
          [
           "Hungary"
          ],
          [
           "Hungary"
          ],
          [
           "Hungary"
          ]
         ],
         "hovertemplate": "country=%{customdata[0]}<br>Year=%{x}<br>Life Expectancy=%{y}<extra></extra>",
         "legendgroup": "Hungary",
         "line": {
          "color": "#EF553B",
          "dash": "solid"
         },
         "marker": {
          "symbol": "circle"
         },
         "mode": "lines",
         "name": "Hungary",
         "orientation": "v",
         "showlegend": true,
         "type": "scatter",
         "x": [
          2011,
          2012,
          2014
         ],
         "xaxis": "x",
         "y": [
          -0.7071185366094576,
          -0.4226958578989715,
          -0.40081719030585683
         ],
         "yaxis": "y"
        },
        {
         "customdata": [
          [
           "Ireland"
          ],
          [
           "Ireland"
          ],
          [
           "Ireland"
          ],
          [
           "Ireland"
          ],
          [
           "Ireland"
          ],
          [
           "Ireland"
          ],
          [
           "Ireland"
          ],
          [
           "Ireland"
          ],
          [
           "Ireland"
          ],
          [
           "Ireland"
          ],
          [
           "Ireland"
          ]
         ],
         "hovertemplate": "country=%{customdata[0]}<br>Year=%{x}<br>Life Expectancy=%{y}<extra></extra>",
         "legendgroup": "Ireland",
         "line": {
          "color": "#00cc96",
          "dash": "solid"
         },
         "marker": {
          "symbol": "circle"
         },
         "mode": "lines",
         "name": "Ireland",
         "orientation": "v",
         "showlegend": true,
         "type": "scatter",
         "x": [
          2011,
          2012,
          2014,
          2015,
          2016,
          2017,
          2018,
          2019,
          2020,
          2021,
          2022
         ],
         "xaxis": "x",
         "y": [
          1.207264877788046,
          1.2182042115846057,
          1.1416288750087067,
          1.2182042115846057,
          1.4916875564985352,
          1.5135662240916483,
          1.677656231040006,
          1.7214135662262353,
          0.9884782018569024,
          1.207264877788049,
          0.9447208666706761
         ],
         "yaxis": "y"
        },
        {
         "customdata": [
          [
           "Italy"
          ],
          [
           "Italy"
          ],
          [
           "Italy"
          ],
          [
           "Italy"
          ],
          [
           "Italy"
          ],
          [
           "Italy"
          ],
          [
           "Italy"
          ],
          [
           "Italy"
          ],
          [
           "Italy"
          ],
          [
           "Italy"
          ]
         ],
         "hovertemplate": "country=%{customdata[0]}<br>Year=%{x}<br>Life Expectancy=%{y}<extra></extra>",
         "legendgroup": "Italy",
         "line": {
          "color": "#ab63fa",
          "dash": "solid"
         },
         "marker": {
          "symbol": "circle"
         },
         "mode": "lines",
         "name": "Italy",
         "orientation": "v",
         "showlegend": true,
         "type": "scatter",
         "x": [
          2012,
          2014,
          2015,
          2016,
          2017,
          2018,
          2019,
          2020,
          2021,
          2022
         ],
         "xaxis": "x",
         "y": [
          0.014877493963315738,
          0.15708883331855877,
          0.21178550230134624,
          1.2510222129742785,
          1.0103568694500218,
          1.130689541212147,
          1.4588695551088624,
          1.3713548847364068,
          1.4041728861260765,
          1.2619615467708318
         ],
         "yaxis": "y"
        },
        {
         "customdata": [
          [
           "Latvia"
          ],
          [
           "Latvia"
          ],
          [
           "Latvia"
          ],
          [
           "Latvia"
          ],
          [
           "Latvia"
          ],
          [
           "Latvia"
          ],
          [
           "Latvia"
          ],
          [
           "Latvia"
          ],
          [
           "Latvia"
          ],
          [
           "Latvia"
          ],
          [
           "Latvia"
          ]
         ],
         "hovertemplate": "country=%{customdata[0]}<br>Year=%{x}<br>Life Expectancy=%{y}<extra></extra>",
         "legendgroup": "Latvia",
         "line": {
          "color": "#FFA15A",
          "dash": "solid"
         },
         "marker": {
          "symbol": "circle"
         },
         "mode": "lines",
         "name": "Latvia",
         "orientation": "v",
         "showlegend": true,
         "type": "scatter",
         "x": [
          2011,
          2012,
          2014,
          2015,
          2016,
          2017,
          2018,
          2019,
          2020,
          2021,
          2022
         ],
         "xaxis": "x",
         "y": [
          -1.440053900978789,
          -1.0681165518958458,
          -1.811991250061734,
          -1.9104452542307475,
          -1.768233914875506,
          -2.2495646019240194,
          -2.041717259789434,
          -1.8666879190445183,
          -1.8010519162651757,
          -1.7244765796892767,
          -1.636961909316818
         ],
         "yaxis": "y"
        },
        {
         "customdata": [
          [
           "Lithuania"
          ],
          [
           "Lithuania"
          ],
          [
           "Lithuania"
          ],
          [
           "Lithuania"
          ],
          [
           "Lithuania"
          ],
          [
           "Lithuania"
          ],
          [
           "Lithuania"
          ],
          [
           "Lithuania"
          ],
          [
           "Lithuania"
          ],
          [
           "Lithuania"
          ],
          [
           "Lithuania"
          ]
         ],
         "hovertemplate": "country=%{customdata[0]}<br>Year=%{x}<br>Life Expectancy=%{y}<extra></extra>",
         "legendgroup": "Lithuania",
         "line": {
          "color": "#19d3f3",
          "dash": "solid"
         },
         "marker": {
          "symbol": "circle"
         },
         "mode": "lines",
         "name": "Lithuania",
         "orientation": "v",
         "showlegend": true,
         "type": "scatter",
         "x": [
          2011,
          2012,
          2014,
          2015,
          2016,
          2017,
          2018,
          2019,
          2020,
          2021,
          2022
         ],
         "xaxis": "x",
         "y": [
          -0.47739252688175743,
          -0.5649071972542146,
          -0.4445745254920846,
          -1.1446918884717447,
          -0.8493298759647022,
          -0.7836938731853598,
          -0.8712085435578153,
          -0.9040265449474881,
          -1.0462378843027296,
          -0.8930872111509315,
          -0.3133025199333997
         ],
         "yaxis": "y"
        },
        {
         "customdata": [
          [
           "Luxembourg"
          ],
          [
           "Luxembourg"
          ],
          [
           "Luxembourg"
          ],
          [
           "Luxembourg"
          ],
          [
           "Luxembourg"
          ],
          [
           "Luxembourg"
          ],
          [
           "Luxembourg"
          ],
          [
           "Luxembourg"
          ],
          [
           "Luxembourg"
          ],
          [
           "Luxembourg"
          ],
          [
           "Luxembourg"
          ]
         ],
         "hovertemplate": "country=%{customdata[0]}<br>Year=%{x}<br>Life Expectancy=%{y}<extra></extra>",
         "legendgroup": "Luxembourg",
         "line": {
          "color": "#FF6692",
          "dash": "solid"
         },
         "marker": {
          "symbol": "circle"
         },
         "mode": "lines",
         "name": "Luxembourg",
         "orientation": "v",
         "showlegend": true,
         "type": "scatter",
         "x": [
          2011,
          2012,
          2014,
          2015,
          2016,
          2017,
          2018,
          2019,
          2020,
          2021,
          2022
         ],
         "xaxis": "x",
         "y": [
          1.0431748708396882,
          0.9665995342637892,
          0.45245084582560297,
          0.10239216433577443,
          -0.3351811875265144,
          -0.5649071972542146,
          -0.23672718335750068,
          0.18990683470823,
          0.3321181740634746,
          0.058634829149545084,
          -0.357059855119629
         ],
         "yaxis": "y"
        },
        {
         "customdata": [
          [
           "Poland"
          ],
          [
           "Poland"
          ],
          [
           "Poland"
          ],
          [
           "Poland"
          ],
          [
           "Poland"
          ],
          [
           "Poland"
          ]
         ],
         "hovertemplate": "country=%{customdata[0]}<br>Year=%{x}<br>Life Expectancy=%{y}<extra></extra>",
         "legendgroup": "Poland",
         "line": {
          "color": "#B6E880",
          "dash": "solid"
         },
         "marker": {
          "symbol": "circle"
         },
         "mode": "lines",
         "name": "Poland",
         "orientation": "v",
         "showlegend": true,
         "type": "scatter",
         "x": [
          2011,
          2012,
          2014,
          2015,
          2016,
          2017
         ],
         "xaxis": "x",
         "y": [
          -0.11639451159536919,
          -0.16015184678159852,
          -0.09451584400225607,
          -0.0070011736297973795,
          0.27742150508068714,
          0.0805134967426582
         ],
         "yaxis": "y"
        },
        {
         "customdata": [
          [
           "Portugal"
          ],
          [
           "Portugal"
          ],
          [
           "Portugal"
          ],
          [
           "Portugal"
          ],
          [
           "Portugal"
          ],
          [
           "Portugal"
          ],
          [
           "Portugal"
          ],
          [
           "Portugal"
          ],
          [
           "Portugal"
          ],
          [
           "Portugal"
          ],
          [
           "Portugal"
          ]
         ],
         "hovertemplate": "country=%{customdata[0]}<br>Year=%{x}<br>Life Expectancy=%{y}<extra></extra>",
         "legendgroup": "Portugal",
         "line": {
          "color": "#FF97FF",
          "dash": "solid"
         },
         "marker": {
          "symbol": "circle"
         },
         "mode": "lines",
         "name": "Portugal",
         "orientation": "v",
         "showlegend": true,
         "type": "scatter",
         "x": [
          2011,
          2012,
          2014,
          2015,
          2016,
          2017,
          2018,
          2019,
          2020,
          2021,
          2022
         ],
         "xaxis": "x",
         "y": [
          -0.4445745254920846,
          0.40869351063937365,
          -1.0462378843027311,
          -1.1118738870820737,
          -0.6633612014232297,
          -0.6852398690163445,
          -0.6633612014232297,
          -0.5430285296610998,
          -0.4226958578989715,
          -0.7289972042025739,
          -0.5649071972542146
         ],
         "yaxis": "y"
        },
        {
         "customdata": [
          [
           "Romania"
          ],
          [
           "Romania"
          ],
          [
           "Romania"
          ],
          [
           "Romania"
          ],
          [
           "Romania"
          ],
          [
           "Romania"
          ],
          [
           "Romania"
          ],
          [
           "Romania"
          ],
          [
           "Romania"
          ],
          [
           "Romania"
          ],
          [
           "Romania"
          ]
         ],
         "hovertemplate": "country=%{customdata[0]}<br>Year=%{x}<br>Life Expectancy=%{y}<extra></extra>",
         "legendgroup": "Romania",
         "line": {
          "color": "#FECB52",
          "dash": "solid"
         },
         "marker": {
          "symbol": "circle"
         },
         "mode": "lines",
         "name": "Romania",
         "orientation": "v",
         "showlegend": true,
         "type": "scatter",
         "x": [
          2011,
          2012,
          2014,
          2015,
          2016,
          2017,
          2018,
          2019,
          2020,
          2021,
          2022
         ],
         "xaxis": "x",
         "y": [
          -0.9806018815233871,
          -0.8930872111509299,
          -0.5867858648473292,
          -0.553967863457658,
          -0.49927119447487206,
          -0.6524218676266716,
          -0.4992711944748705,
          -0.3133025199333997,
          -0.3898778565093003,
          -0.8602692097612588,
          -0.5867858648473292
         ],
         "yaxis": "y"
        },
        {
         "customdata": [
          [
           "Slovakia"
          ],
          [
           "Slovakia"
          ],
          [
           "Slovakia"
          ],
          [
           "Slovakia"
          ],
          [
           "Slovakia"
          ],
          [
           "Slovakia"
          ],
          [
           "Slovakia"
          ],
          [
           "Slovakia"
          ],
          [
           "Slovakia"
          ],
          [
           "Slovakia"
          ],
          [
           "Slovakia"
          ]
         ],
         "hovertemplate": "country=%{customdata[0]}<br>Year=%{x}<br>Life Expectancy=%{y}<extra></extra>",
         "legendgroup": "Slovakia",
         "line": {
          "color": "#636efa",
          "dash": "solid"
         },
         "marker": {
          "symbol": "circle"
         },
         "mode": "lines",
         "name": "Slovakia",
         "orientation": "v",
         "showlegend": true,
         "type": "scatter",
         "x": [
          2011,
          2012,
          2014,
          2015,
          2016,
          2017,
          2018,
          2019,
          2020,
          2021,
          2022
         ],
         "xaxis": "x",
         "y": [
          -2.074535261179105,
          -1.844809251451405,
          -1.4509932347753471,
          -1.4728719023684602,
          -1.0899952194889588,
          -1.3306605630132171,
          -1.2322065588442035,
          -1.2103278912510889,
          -1.0899952194889588,
          -1.0571772180992878,
          -0.958723213930274
         ],
         "yaxis": "y"
        },
        {
         "customdata": [
          [
           "Slovenia"
          ],
          [
           "Slovenia"
          ],
          [
           "Slovenia"
          ],
          [
           "Slovenia"
          ],
          [
           "Slovenia"
          ],
          [
           "Slovenia"
          ],
          [
           "Slovenia"
          ],
          [
           "Slovenia"
          ],
          [
           "Slovenia"
          ],
          [
           "Slovenia"
          ],
          [
           "Slovenia"
          ]
         ],
         "hovertemplate": "country=%{customdata[0]}<br>Year=%{x}<br>Life Expectancy=%{y}<extra></extra>",
         "legendgroup": "Slovenia",
         "line": {
          "color": "#EF553B",
          "dash": "solid"
         },
         "marker": {
          "symbol": "circle"
         },
         "mode": "lines",
         "name": "Slovenia",
         "orientation": "v",
         "showlegend": true,
         "type": "scatter",
         "x": [
          2011,
          2012,
          2014,
          2015,
          2016,
          2017,
          2018,
          2019,
          2020,
          2021,
          2022
         ],
         "xaxis": "x",
         "y": [
          -1.702597912096162,
          -1.2322065588442035,
          -0.6524218676266716,
          -0.7836938731853582,
          -0.7399365379991304,
          -1.4728719023684602,
          -1.3634785644028884,
          -0.14921251298504198,
          0.7478128583326457,
          0.8353275287051043,
          1.1088108736190339
         ],
         "yaxis": "y"
        },
        {
         "customdata": [
          [
           "Spain"
          ],
          [
           "Spain"
          ],
          [
           "Spain"
          ],
          [
           "Spain"
          ],
          [
           "Spain"
          ],
          [
           "Spain"
          ],
          [
           "Spain"
          ],
          [
           "Spain"
          ],
          [
           "Spain"
          ],
          [
           "Spain"
          ],
          [
           "Spain"
          ]
         ],
         "hovertemplate": "country=%{customdata[0]}<br>Year=%{x}<br>Life Expectancy=%{y}<extra></extra>",
         "legendgroup": "Spain",
         "line": {
          "color": "#00cc96",
          "dash": "solid"
         },
         "marker": {
          "symbol": "circle"
         },
         "mode": "lines",
         "name": "Spain",
         "orientation": "v",
         "showlegend": true,
         "type": "scatter",
         "x": [
          2011,
          2012,
          2014,
          2015,
          2016,
          2017,
          2018,
          2019,
          2020,
          2021,
          2022
         ],
         "xaxis": "x",
         "y": [
          0.8353275287051043,
          0.7915701935188749,
          0.7259341907395325,
          0.5071475148083889,
          0.9884782018569055,
          1.6995348986331222,
          1.3822942185329634,
          1.7979889028021374,
          1.0103568694500187,
          0.2446035036910159,
          -0.11639451159536919
         ],
         "yaxis": "y"
        },
        {
         "customdata": [
          [
           "Sweden"
          ],
          [
           "Sweden"
          ],
          [
           "Sweden"
          ],
          [
           "Sweden"
          ],
          [
           "Sweden"
          ],
          [
           "Sweden"
          ],
          [
           "Sweden"
          ],
          [
           "Sweden"
          ],
          [
           "Sweden"
          ],
          [
           "Sweden"
          ]
         ],
         "hovertemplate": "country=%{customdata[0]}<br>Year=%{x}<br>Life Expectancy=%{y}<extra></extra>",
         "legendgroup": "Sweden",
         "line": {
          "color": "#ab63fa",
          "dash": "solid"
         },
         "marker": {
          "symbol": "circle"
         },
         "mode": "lines",
         "name": "Sweden",
         "orientation": "v",
         "showlegend": true,
         "type": "scatter",
         "x": [
          2011,
          2014,
          2015,
          2016,
          2017,
          2018,
          2019,
          2020,
          2021,
          2022
         ],
         "xaxis": "x",
         "y": [
          0.8243881949085446,
          2.454348930595568,
          2.3996522616127822,
          2.509045599578354,
          2.3777735940196694,
          2.443409596799009,
          2.5309242671714673,
          2.4215309292058955,
          1.4698088889054222,
          1.0322355370431349
         ],
         "yaxis": "y"
        }
       ],
       "layout": {
        "legend": {
         "title": {
          "text": "country"
         },
         "tracegroupgap": 0
        },
        "template": {
         "data": {
          "bar": [
           {
            "error_x": {
             "color": "#2a3f5f"
            },
            "error_y": {
             "color": "#2a3f5f"
            },
            "marker": {
             "line": {
              "color": "#E5ECF6",
              "width": 0.5
             },
             "pattern": {
              "fillmode": "overlay",
              "size": 10,
              "solidity": 0.2
             }
            },
            "type": "bar"
           }
          ],
          "barpolar": [
           {
            "marker": {
             "line": {
              "color": "#E5ECF6",
              "width": 0.5
             },
             "pattern": {
              "fillmode": "overlay",
              "size": 10,
              "solidity": 0.2
             }
            },
            "type": "barpolar"
           }
          ],
          "carpet": [
           {
            "aaxis": {
             "endlinecolor": "#2a3f5f",
             "gridcolor": "white",
             "linecolor": "white",
             "minorgridcolor": "white",
             "startlinecolor": "#2a3f5f"
            },
            "baxis": {
             "endlinecolor": "#2a3f5f",
             "gridcolor": "white",
             "linecolor": "white",
             "minorgridcolor": "white",
             "startlinecolor": "#2a3f5f"
            },
            "type": "carpet"
           }
          ],
          "choropleth": [
           {
            "colorbar": {
             "outlinewidth": 0,
             "ticks": ""
            },
            "type": "choropleth"
           }
          ],
          "contour": [
           {
            "colorbar": {
             "outlinewidth": 0,
             "ticks": ""
            },
            "colorscale": [
             [
              0,
              "#0d0887"
             ],
             [
              0.1111111111111111,
              "#46039f"
             ],
             [
              0.2222222222222222,
              "#7201a8"
             ],
             [
              0.3333333333333333,
              "#9c179e"
             ],
             [
              0.4444444444444444,
              "#bd3786"
             ],
             [
              0.5555555555555556,
              "#d8576b"
             ],
             [
              0.6666666666666666,
              "#ed7953"
             ],
             [
              0.7777777777777778,
              "#fb9f3a"
             ],
             [
              0.8888888888888888,
              "#fdca26"
             ],
             [
              1,
              "#f0f921"
             ]
            ],
            "type": "contour"
           }
          ],
          "contourcarpet": [
           {
            "colorbar": {
             "outlinewidth": 0,
             "ticks": ""
            },
            "type": "contourcarpet"
           }
          ],
          "heatmap": [
           {
            "colorbar": {
             "outlinewidth": 0,
             "ticks": ""
            },
            "colorscale": [
             [
              0,
              "#0d0887"
             ],
             [
              0.1111111111111111,
              "#46039f"
             ],
             [
              0.2222222222222222,
              "#7201a8"
             ],
             [
              0.3333333333333333,
              "#9c179e"
             ],
             [
              0.4444444444444444,
              "#bd3786"
             ],
             [
              0.5555555555555556,
              "#d8576b"
             ],
             [
              0.6666666666666666,
              "#ed7953"
             ],
             [
              0.7777777777777778,
              "#fb9f3a"
             ],
             [
              0.8888888888888888,
              "#fdca26"
             ],
             [
              1,
              "#f0f921"
             ]
            ],
            "type": "heatmap"
           }
          ],
          "heatmapgl": [
           {
            "colorbar": {
             "outlinewidth": 0,
             "ticks": ""
            },
            "colorscale": [
             [
              0,
              "#0d0887"
             ],
             [
              0.1111111111111111,
              "#46039f"
             ],
             [
              0.2222222222222222,
              "#7201a8"
             ],
             [
              0.3333333333333333,
              "#9c179e"
             ],
             [
              0.4444444444444444,
              "#bd3786"
             ],
             [
              0.5555555555555556,
              "#d8576b"
             ],
             [
              0.6666666666666666,
              "#ed7953"
             ],
             [
              0.7777777777777778,
              "#fb9f3a"
             ],
             [
              0.8888888888888888,
              "#fdca26"
             ],
             [
              1,
              "#f0f921"
             ]
            ],
            "type": "heatmapgl"
           }
          ],
          "histogram": [
           {
            "marker": {
             "pattern": {
              "fillmode": "overlay",
              "size": 10,
              "solidity": 0.2
             }
            },
            "type": "histogram"
           }
          ],
          "histogram2d": [
           {
            "colorbar": {
             "outlinewidth": 0,
             "ticks": ""
            },
            "colorscale": [
             [
              0,
              "#0d0887"
             ],
             [
              0.1111111111111111,
              "#46039f"
             ],
             [
              0.2222222222222222,
              "#7201a8"
             ],
             [
              0.3333333333333333,
              "#9c179e"
             ],
             [
              0.4444444444444444,
              "#bd3786"
             ],
             [
              0.5555555555555556,
              "#d8576b"
             ],
             [
              0.6666666666666666,
              "#ed7953"
             ],
             [
              0.7777777777777778,
              "#fb9f3a"
             ],
             [
              0.8888888888888888,
              "#fdca26"
             ],
             [
              1,
              "#f0f921"
             ]
            ],
            "type": "histogram2d"
           }
          ],
          "histogram2dcontour": [
           {
            "colorbar": {
             "outlinewidth": 0,
             "ticks": ""
            },
            "colorscale": [
             [
              0,
              "#0d0887"
             ],
             [
              0.1111111111111111,
              "#46039f"
             ],
             [
              0.2222222222222222,
              "#7201a8"
             ],
             [
              0.3333333333333333,
              "#9c179e"
             ],
             [
              0.4444444444444444,
              "#bd3786"
             ],
             [
              0.5555555555555556,
              "#d8576b"
             ],
             [
              0.6666666666666666,
              "#ed7953"
             ],
             [
              0.7777777777777778,
              "#fb9f3a"
             ],
             [
              0.8888888888888888,
              "#fdca26"
             ],
             [
              1,
              "#f0f921"
             ]
            ],
            "type": "histogram2dcontour"
           }
          ],
          "mesh3d": [
           {
            "colorbar": {
             "outlinewidth": 0,
             "ticks": ""
            },
            "type": "mesh3d"
           }
          ],
          "parcoords": [
           {
            "line": {
             "colorbar": {
              "outlinewidth": 0,
              "ticks": ""
             }
            },
            "type": "parcoords"
           }
          ],
          "pie": [
           {
            "automargin": true,
            "type": "pie"
           }
          ],
          "scatter": [
           {
            "fillpattern": {
             "fillmode": "overlay",
             "size": 10,
             "solidity": 0.2
            },
            "type": "scatter"
           }
          ],
          "scatter3d": [
           {
            "line": {
             "colorbar": {
              "outlinewidth": 0,
              "ticks": ""
             }
            },
            "marker": {
             "colorbar": {
              "outlinewidth": 0,
              "ticks": ""
             }
            },
            "type": "scatter3d"
           }
          ],
          "scattercarpet": [
           {
            "marker": {
             "colorbar": {
              "outlinewidth": 0,
              "ticks": ""
             }
            },
            "type": "scattercarpet"
           }
          ],
          "scattergeo": [
           {
            "marker": {
             "colorbar": {
              "outlinewidth": 0,
              "ticks": ""
             }
            },
            "type": "scattergeo"
           }
          ],
          "scattergl": [
           {
            "marker": {
             "colorbar": {
              "outlinewidth": 0,
              "ticks": ""
             }
            },
            "type": "scattergl"
           }
          ],
          "scattermapbox": [
           {
            "marker": {
             "colorbar": {
              "outlinewidth": 0,
              "ticks": ""
             }
            },
            "type": "scattermapbox"
           }
          ],
          "scatterpolar": [
           {
            "marker": {
             "colorbar": {
              "outlinewidth": 0,
              "ticks": ""
             }
            },
            "type": "scatterpolar"
           }
          ],
          "scatterpolargl": [
           {
            "marker": {
             "colorbar": {
              "outlinewidth": 0,
              "ticks": ""
             }
            },
            "type": "scatterpolargl"
           }
          ],
          "scatterternary": [
           {
            "marker": {
             "colorbar": {
              "outlinewidth": 0,
              "ticks": ""
             }
            },
            "type": "scatterternary"
           }
          ],
          "surface": [
           {
            "colorbar": {
             "outlinewidth": 0,
             "ticks": ""
            },
            "colorscale": [
             [
              0,
              "#0d0887"
             ],
             [
              0.1111111111111111,
              "#46039f"
             ],
             [
              0.2222222222222222,
              "#7201a8"
             ],
             [
              0.3333333333333333,
              "#9c179e"
             ],
             [
              0.4444444444444444,
              "#bd3786"
             ],
             [
              0.5555555555555556,
              "#d8576b"
             ],
             [
              0.6666666666666666,
              "#ed7953"
             ],
             [
              0.7777777777777778,
              "#fb9f3a"
             ],
             [
              0.8888888888888888,
              "#fdca26"
             ],
             [
              1,
              "#f0f921"
             ]
            ],
            "type": "surface"
           }
          ],
          "table": [
           {
            "cells": {
             "fill": {
              "color": "#EBF0F8"
             },
             "line": {
              "color": "white"
             }
            },
            "header": {
             "fill": {
              "color": "#C8D4E3"
             },
             "line": {
              "color": "white"
             }
            },
            "type": "table"
           }
          ]
         },
         "layout": {
          "annotationdefaults": {
           "arrowcolor": "#2a3f5f",
           "arrowhead": 0,
           "arrowwidth": 1
          },
          "autotypenumbers": "strict",
          "coloraxis": {
           "colorbar": {
            "outlinewidth": 0,
            "ticks": ""
           }
          },
          "colorscale": {
           "diverging": [
            [
             0,
             "#8e0152"
            ],
            [
             0.1,
             "#c51b7d"
            ],
            [
             0.2,
             "#de77ae"
            ],
            [
             0.3,
             "#f1b6da"
            ],
            [
             0.4,
             "#fde0ef"
            ],
            [
             0.5,
             "#f7f7f7"
            ],
            [
             0.6,
             "#e6f5d0"
            ],
            [
             0.7,
             "#b8e186"
            ],
            [
             0.8,
             "#7fbc41"
            ],
            [
             0.9,
             "#4d9221"
            ],
            [
             1,
             "#276419"
            ]
           ],
           "sequential": [
            [
             0,
             "#0d0887"
            ],
            [
             0.1111111111111111,
             "#46039f"
            ],
            [
             0.2222222222222222,
             "#7201a8"
            ],
            [
             0.3333333333333333,
             "#9c179e"
            ],
            [
             0.4444444444444444,
             "#bd3786"
            ],
            [
             0.5555555555555556,
             "#d8576b"
            ],
            [
             0.6666666666666666,
             "#ed7953"
            ],
            [
             0.7777777777777778,
             "#fb9f3a"
            ],
            [
             0.8888888888888888,
             "#fdca26"
            ],
            [
             1,
             "#f0f921"
            ]
           ],
           "sequentialminus": [
            [
             0,
             "#0d0887"
            ],
            [
             0.1111111111111111,
             "#46039f"
            ],
            [
             0.2222222222222222,
             "#7201a8"
            ],
            [
             0.3333333333333333,
             "#9c179e"
            ],
            [
             0.4444444444444444,
             "#bd3786"
            ],
            [
             0.5555555555555556,
             "#d8576b"
            ],
            [
             0.6666666666666666,
             "#ed7953"
            ],
            [
             0.7777777777777778,
             "#fb9f3a"
            ],
            [
             0.8888888888888888,
             "#fdca26"
            ],
            [
             1,
             "#f0f921"
            ]
           ]
          },
          "colorway": [
           "#636efa",
           "#EF553B",
           "#00cc96",
           "#ab63fa",
           "#FFA15A",
           "#19d3f3",
           "#FF6692",
           "#B6E880",
           "#FF97FF",
           "#FECB52"
          ],
          "font": {
           "color": "#2a3f5f"
          },
          "geo": {
           "bgcolor": "white",
           "lakecolor": "white",
           "landcolor": "#E5ECF6",
           "showlakes": true,
           "showland": true,
           "subunitcolor": "white"
          },
          "hoverlabel": {
           "align": "left"
          },
          "hovermode": "closest",
          "mapbox": {
           "style": "light"
          },
          "paper_bgcolor": "white",
          "plot_bgcolor": "#E5ECF6",
          "polar": {
           "angularaxis": {
            "gridcolor": "white",
            "linecolor": "white",
            "ticks": ""
           },
           "bgcolor": "#E5ECF6",
           "radialaxis": {
            "gridcolor": "white",
            "linecolor": "white",
            "ticks": ""
           }
          },
          "scene": {
           "xaxis": {
            "backgroundcolor": "#E5ECF6",
            "gridcolor": "white",
            "gridwidth": 2,
            "linecolor": "white",
            "showbackground": true,
            "ticks": "",
            "zerolinecolor": "white"
           },
           "yaxis": {
            "backgroundcolor": "#E5ECF6",
            "gridcolor": "white",
            "gridwidth": 2,
            "linecolor": "white",
            "showbackground": true,
            "ticks": "",
            "zerolinecolor": "white"
           },
           "zaxis": {
            "backgroundcolor": "#E5ECF6",
            "gridcolor": "white",
            "gridwidth": 2,
            "linecolor": "white",
            "showbackground": true,
            "ticks": "",
            "zerolinecolor": "white"
           }
          },
          "shapedefaults": {
           "line": {
            "color": "#2a3f5f"
           }
          },
          "ternary": {
           "aaxis": {
            "gridcolor": "white",
            "linecolor": "white",
            "ticks": ""
           },
           "baxis": {
            "gridcolor": "white",
            "linecolor": "white",
            "ticks": ""
           },
           "bgcolor": "#E5ECF6",
           "caxis": {
            "gridcolor": "white",
            "linecolor": "white",
            "ticks": ""
           }
          },
          "title": {
           "x": 0.05
          },
          "xaxis": {
           "automargin": true,
           "gridcolor": "white",
           "linecolor": "white",
           "ticks": "",
           "title": {
            "standoff": 15
           },
           "zerolinecolor": "white",
           "zerolinewidth": 2
          },
          "yaxis": {
           "automargin": true,
           "gridcolor": "white",
           "linecolor": "white",
           "ticks": "",
           "title": {
            "standoff": 15
           },
           "zerolinecolor": "white",
           "zerolinewidth": 2
          }
         }
        },
        "title": {
         "text": "Life Expectancy over Time in Europe"
        },
        "xaxis": {
         "anchor": "y",
         "domain": [
          0,
          1
         ],
         "title": {
          "text": "Year"
         }
        },
        "yaxis": {
         "anchor": "x",
         "domain": [
          0,
          1
         ],
         "title": {
          "text": "Life Expectancy"
         }
        }
       }
      }
     },
     "metadata": {},
     "output_type": "display_data"
    }
   ],
   "source": [
    "fig = px.line(\n",
    "    combined,\n",
    "    x='year',\n",
    "    y='healthcare',\n",
    "    color='country',\n",
    "    labels={'year': 'Year', 'healthcare': 'Life Expectancy'},\n",
    "    title='Life Expectancy over Time in Europe',\n",
    "    hover_data=['country', 'year']\n",
    ")\n",
    "fig"
   ]
  },
  {
   "cell_type": "code",
   "execution_count": 31,
   "id": "3600895d",
   "metadata": {},
   "outputs": [
    {
     "data": {
      "application/vnd.plotly.v1+json": {
       "config": {
        "plotlyServerURL": "https://plot.ly"
       },
       "data": [
        {
         "customdata": [
          [
           "Austria"
          ],
          [
           "Austria"
          ],
          [
           "Austria"
          ],
          [
           "Austria"
          ],
          [
           "Austria"
          ],
          [
           "Austria"
          ],
          [
           "Austria"
          ],
          [
           "Austria"
          ],
          [
           "Austria"
          ],
          [
           "Austria"
          ],
          [
           "Austria"
          ]
         ],
         "hovertemplate": "country=%{customdata[0]}<br>Year=%{x}<br>education=%{y}<extra></extra>",
         "legendgroup": "Austria",
         "line": {
          "color": "#636efa",
          "dash": "solid"
         },
         "marker": {
          "symbol": "circle"
         },
         "mode": "lines",
         "name": "Austria",
         "orientation": "v",
         "showlegend": true,
         "type": "scatter",
         "x": [
          2011,
          2012,
          2014,
          2015,
          2016,
          2017,
          2018,
          2019,
          2020,
          2021,
          2022
         ],
         "xaxis": "x",
         "y": [
          -1.391591639385606,
          -1.3042268315115002,
          0.20681519763501174,
          0.313867849537086,
          0.4159985404321672,
          0.491058445788794,
          0.5353560948517205,
          0.655944139523022,
          0.6645575712852578,
          0.7433089473971283,
          0.8257517942642427
         ],
         "yaxis": "y"
        },
        {
         "customdata": [
          [
           "Belgium"
          ]
         ],
         "hovertemplate": "country=%{customdata[0]}<br>Year=%{x}<br>education=%{y}<extra></extra>",
         "legendgroup": "Belgium",
         "line": {
          "color": "#EF553B",
          "dash": "solid"
         },
         "marker": {
          "symbol": "circle"
         },
         "mode": "lines",
         "name": "Belgium",
         "orientation": "v",
         "showlegend": true,
         "type": "scatter",
         "x": [
          2011
         ],
         "xaxis": "x",
         "y": [
          0.5599658998866808
         ],
         "yaxis": "y"
        },
        {
         "customdata": [
          [
           "Bulgaria"
          ],
          [
           "Bulgaria"
          ],
          [
           "Bulgaria"
          ],
          [
           "Bulgaria"
          ],
          [
           "Bulgaria"
          ],
          [
           "Bulgaria"
          ],
          [
           "Bulgaria"
          ],
          [
           "Bulgaria"
          ],
          [
           "Bulgaria"
          ],
          [
           "Bulgaria"
          ],
          [
           "Bulgaria"
          ]
         ],
         "hovertemplate": "country=%{customdata[0]}<br>Year=%{x}<br>education=%{y}<extra></extra>",
         "legendgroup": "Bulgaria",
         "line": {
          "color": "#00cc96",
          "dash": "solid"
         },
         "marker": {
          "symbol": "circle"
         },
         "mode": "lines",
         "name": "Bulgaria",
         "orientation": "v",
         "showlegend": true,
         "type": "scatter",
         "x": [
          2011,
          2012,
          2014,
          2015,
          2016,
          2017,
          2018,
          2019,
          2020,
          2021,
          2022
         ],
         "xaxis": "x",
         "y": [
          -0.9264663242248723,
          -0.8612503408822295,
          -0.5240960119032845,
          -0.48102885309210563,
          -0.44657512604316263,
          -0.42934826251869096,
          -0.4035079672319834,
          -0.47241542132986974,
          -0.3370614936375929,
          -0.2878418835676737,
          -0.23000884173551905
         ],
         "yaxis": "y"
        },
        {
         "customdata": [
          [
           "Croatia"
          ],
          [
           "Croatia"
          ],
          [
           "Croatia"
          ],
          [
           "Croatia"
          ],
          [
           "Croatia"
          ],
          [
           "Croatia"
          ],
          [
           "Croatia"
          ],
          [
           "Croatia"
          ],
          [
           "Croatia"
          ],
          [
           "Croatia"
          ],
          [
           "Croatia"
          ]
         ],
         "hovertemplate": "country=%{customdata[0]}<br>Year=%{x}<br>education=%{y}<extra></extra>",
         "legendgroup": "Croatia",
         "line": {
          "color": "#ab63fa",
          "dash": "solid"
         },
         "marker": {
          "symbol": "circle"
         },
         "mode": "lines",
         "name": "Croatia",
         "orientation": "v",
         "showlegend": true,
         "type": "scatter",
         "x": [
          2011,
          2012,
          2014,
          2015,
          2016,
          2017,
          2018,
          2019,
          2020,
          2021,
          2022
         ],
         "xaxis": "x",
         "y": [
          -1.4703430154974766,
          -1.2869999679870285,
          -0.975685934294791,
          -0.8624808311339772,
          -0.8329490650920265,
          -0.7640416109941397,
          -0.6176132710361311,
          -0.5757766024766996,
          -0.5523972876934883,
          -0.5536277779452361,
          -0.4834898335956015
         ],
         "yaxis": "y"
        },
        {
         "customdata": [
          [
           "Czechia"
          ],
          [
           "Czechia"
          ],
          [
           "Czechia"
          ],
          [
           "Czechia"
          ],
          [
           "Czechia"
          ],
          [
           "Czechia"
          ],
          [
           "Czechia"
          ],
          [
           "Czechia"
          ],
          [
           "Czechia"
          ],
          [
           "Czechia"
          ],
          [
           "Czechia"
          ]
         ],
         "hovertemplate": "country=%{customdata[0]}<br>Year=%{x}<br>education=%{y}<extra></extra>",
         "legendgroup": "Czechia",
         "line": {
          "color": "#FFA15A",
          "dash": "solid"
         },
         "marker": {
          "symbol": "circle"
         },
         "mode": "lines",
         "name": "Czechia",
         "orientation": "v",
         "showlegend": true,
         "type": "scatter",
         "x": [
          2011,
          2012,
          2014,
          2015,
          2016,
          2017,
          2018,
          2019,
          2020,
          2021,
          2022
         ],
         "xaxis": "x",
         "y": [
          -1.4198929151758095,
          -1.2697731044625569,
          -1.019983583357718,
          -0.9498456390080835,
          -0.8489454383647496,
          -0.7628111207423915,
          -0.7394318059591799,
          -0.7665025914976356,
          -0.7049780789102369,
          -0.5204045411480408,
          -0.47487640183336566
         ],
         "yaxis": "y"
        },
        {
         "customdata": [
          [
           "Denmark"
          ],
          [
           "Denmark"
          ],
          [
           "Denmark"
          ],
          [
           "Denmark"
          ],
          [
           "Denmark"
          ],
          [
           "Denmark"
          ],
          [
           "Denmark"
          ],
          [
           "Denmark"
          ],
          [
           "Denmark"
          ],
          [
           "Denmark"
          ],
          [
           "Denmark"
          ]
         ],
         "hovertemplate": "country=%{customdata[0]}<br>Year=%{x}<br>education=%{y}<extra></extra>",
         "legendgroup": "Denmark",
         "line": {
          "color": "#19d3f3",
          "dash": "solid"
         },
         "marker": {
          "symbol": "circle"
         },
         "mode": "lines",
         "name": "Denmark",
         "orientation": "v",
         "showlegend": true,
         "type": "scatter",
         "x": [
          2011,
          2012,
          2014,
          2015,
          2016,
          2017,
          2018,
          2019,
          2020,
          2021,
          2022
         ],
         "xaxis": "x",
         "y": [
          0.09114911397070248,
          0.2105066683902558,
          0.3310947130615573,
          0.44060834546712657,
          0.551352468124444,
          0.7088552203481848,
          0.7297735546279006,
          0.8282127747677381,
          0.8429786577887135,
          0.9537227804460319,
          0.9721801342222514
         ],
         "yaxis": "y"
        },
        {
         "customdata": [
          [
           "Estonia"
          ],
          [
           "Estonia"
          ],
          [
           "Estonia"
          ],
          [
           "Estonia"
          ],
          [
           "Estonia"
          ],
          [
           "Estonia"
          ],
          [
           "Estonia"
          ],
          [
           "Estonia"
          ],
          [
           "Estonia"
          ],
          [
           "Estonia"
          ],
          [
           "Estonia"
          ]
         ],
         "hovertemplate": "country=%{customdata[0]}<br>Year=%{x}<br>education=%{y}<extra></extra>",
         "legendgroup": "Estonia",
         "line": {
          "color": "#FF6692",
          "dash": "solid"
         },
         "marker": {
          "symbol": "circle"
         },
         "mode": "lines",
         "name": "Estonia",
         "orientation": "v",
         "showlegend": true,
         "type": "scatter",
         "x": [
          2011,
          2012,
          2014,
          2015,
          2016,
          2017,
          2018,
          2019,
          2020,
          2021,
          2022
         ],
         "xaxis": "x",
         "y": [
          0.5390475656069642,
          0.6067245294531033,
          0.6202599222223308,
          0.4873669750335499,
          0.6325648247398108,
          0.6571746297747706,
          0.6694795322922497,
          0.7999114989775352,
          0.8577445408096898,
          0.9488008194390402,
          1.0447790590753823
         ],
         "yaxis": "y"
        },
        {
         "customdata": [
          [
           "Finland"
          ],
          [
           "Finland"
          ],
          [
           "Finland"
          ],
          [
           "Finland"
          ],
          [
           "Finland"
          ],
          [
           "Finland"
          ],
          [
           "Finland"
          ],
          [
           "Finland"
          ],
          [
           "Finland"
          ],
          [
           "Finland"
          ],
          [
           "Finland"
          ]
         ],
         "hovertemplate": "country=%{customdata[0]}<br>Year=%{x}<br>education=%{y}<extra></extra>",
         "legendgroup": "Finland",
         "line": {
          "color": "#B6E880",
          "dash": "solid"
         },
         "marker": {
          "symbol": "circle"
         },
         "mode": "lines",
         "name": "Finland",
         "orientation": "v",
         "showlegend": true,
         "type": "scatter",
         "x": [
          2011,
          2012,
          2014,
          2015,
          2016,
          2017,
          2018,
          2019,
          2020,
          2021,
          2022
         ],
         "xaxis": "x",
         "y": [
          0.6067245294531033,
          0.6473307077607862,
          0.8749714043341615,
          0.9660276829635109,
          1.0152472930334306,
          1.058314451844609,
          1.162906123243187,
          1.3044125021942037,
          1.4533018226557095,
          0.9192690533970885,
          0.9820240562362349
         ],
         "yaxis": "y"
        },
        {
         "customdata": [
          [
           "France"
          ],
          [
           "France"
          ],
          [
           "France"
          ],
          [
           "France"
          ],
          [
           "France"
          ],
          [
           "France"
          ],
          [
           "France"
          ],
          [
           "France"
          ],
          [
           "France"
          ],
          [
           "France"
          ]
         ],
         "hovertemplate": "country=%{customdata[0]}<br>Year=%{x}<br>education=%{y}<extra></extra>",
         "legendgroup": "France",
         "line": {
          "color": "#FF97FF",
          "dash": "solid"
         },
         "marker": {
          "symbol": "circle"
         },
         "mode": "lines",
         "name": "France",
         "orientation": "v",
         "showlegend": true,
         "type": "scatter",
         "x": [
          2012,
          2014,
          2015,
          2016,
          2017,
          2018,
          2019,
          2020,
          2021,
          2022
         ],
         "xaxis": "x",
         "y": [
          0.288027554250378,
          0.6005720781943629,
          0.6842454153132259,
          0.7568443401663559,
          0.8257517942642427,
          1.0103253320264387,
          1.1641366134949356,
          1.3683979952850998,
          1.5062129034808724,
          1.5701983965717665
         ],
         "yaxis": "y"
        },
        {
         "customdata": [
          [
           "Germany"
          ],
          [
           "Germany"
          ],
          [
           "Germany"
          ],
          [
           "Germany"
          ],
          [
           "Germany"
          ],
          [
           "Germany"
          ],
          [
           "Germany"
          ],
          [
           "Germany"
          ],
          [
           "Germany"
          ],
          [
           "Germany"
          ],
          [
           "Germany"
          ]
         ],
         "hovertemplate": "country=%{customdata[0]}<br>Year=%{x}<br>education=%{y}<extra></extra>",
         "legendgroup": "Germany",
         "line": {
          "color": "#FECB52",
          "dash": "solid"
         },
         "marker": {
          "symbol": "circle"
         },
         "mode": "lines",
         "name": "Germany",
         "orientation": "v",
         "showlegend": true,
         "type": "scatter",
         "x": [
          2011,
          2012,
          2014,
          2015,
          2016,
          2017,
          2018,
          2019,
          2020,
          2021,
          2022
         ],
         "xaxis": "x",
         "y": [
          -0.5302484631620245,
          -0.44903610654665854,
          -0.5794680732319436,
          -0.5080996386305613,
          -0.42196532100820283,
          -0.3715152206865363,
          -0.31860413986137304,
          -0.21647344896629098,
          -0.05281824548381067,
          0.050542935663019116,
          0.03946852339728737
         ],
         "yaxis": "y"
        },
        {
         "customdata": [
          [
           "Greece"
          ],
          [
           "Greece"
          ],
          [
           "Greece"
          ],
          [
           "Greece"
          ],
          [
           "Greece"
          ],
          [
           "Greece"
          ],
          [
           "Greece"
          ],
          [
           "Greece"
          ],
          [
           "Greece"
          ],
          [
           "Greece"
          ],
          [
           "Greece"
          ]
         ],
         "hovertemplate": "country=%{customdata[0]}<br>Year=%{x}<br>education=%{y}<extra></extra>",
         "legendgroup": "Greece",
         "line": {
          "color": "#636efa",
          "dash": "solid"
         },
         "marker": {
          "symbol": "circle"
         },
         "mode": "lines",
         "name": "Greece",
         "orientation": "v",
         "showlegend": true,
         "type": "scatter",
         "x": [
          2011,
          2012,
          2014,
          2015,
          2016,
          2017,
          2018,
          2019,
          2020,
          2021,
          2022
         ],
         "xaxis": "x",
         "y": [
          -0.6717548421130417,
          -0.5708546414697078,
          -0.3505968864068206,
          -0.2533881565187303,
          -0.14018305335791692,
          -0.02943893070059945,
          0.024702640376311123,
          0.04192950390078326,
          0.15636509731334525,
          0.3815448133832238,
          0.4541437382363547
         ],
         "yaxis": "y"
        },
        {
         "customdata": [
          [
           "Hungary"
          ],
          [
           "Hungary"
          ],
          [
           "Hungary"
          ]
         ],
         "hovertemplate": "country=%{customdata[0]}<br>Year=%{x}<br>education=%{y}<extra></extra>",
         "legendgroup": "Hungary",
         "line": {
          "color": "#EF553B",
          "dash": "solid"
         },
         "marker": {
          "symbol": "circle"
         },
         "mode": "lines",
         "name": "Hungary",
         "orientation": "v",
         "showlegend": true,
         "type": "scatter",
         "x": [
          2011,
          2012,
          2014
         ],
         "xaxis": "x",
         "y": [
          -1.1479545695395077,
          -1.0187530931059703,
          -0.8600198506304818
         ],
         "yaxis": "y"
        },
        {
         "customdata": [
          [
           "Ireland"
          ],
          [
           "Ireland"
          ],
          [
           "Ireland"
          ],
          [
           "Ireland"
          ],
          [
           "Ireland"
          ],
          [
           "Ireland"
          ],
          [
           "Ireland"
          ],
          [
           "Ireland"
          ],
          [
           "Ireland"
          ],
          [
           "Ireland"
          ],
          [
           "Ireland"
          ]
         ],
         "hovertemplate": "country=%{customdata[0]}<br>Year=%{x}<br>education=%{y}<extra></extra>",
         "legendgroup": "Ireland",
         "line": {
          "color": "#00cc96",
          "dash": "solid"
         },
         "marker": {
          "symbol": "circle"
         },
         "mode": "lines",
         "name": "Ireland",
         "orientation": "v",
         "showlegend": true,
         "type": "scatter",
         "x": [
          2011,
          2012,
          2014,
          2015,
          2016,
          2017,
          2018,
          2019,
          2020,
          2021,
          2022
         ],
         "xaxis": "x",
         "y": [
          0.9389568974250556,
          1.1050730814110323,
          1.4594542739144492,
          1.6194180066416852,
          1.7043218340122952,
          1.8064525249073777,
          1.813835466417866,
          1.8433672324598167,
          2.1042311658303876,
          2.491835595130999,
          2.537363734445674
         ],
         "yaxis": "y"
        },
        {
         "customdata": [
          [
           "Italy"
          ],
          [
           "Italy"
          ],
          [
           "Italy"
          ],
          [
           "Italy"
          ],
          [
           "Italy"
          ],
          [
           "Italy"
          ],
          [
           "Italy"
          ],
          [
           "Italy"
          ],
          [
           "Italy"
          ],
          [
           "Italy"
          ]
         ],
         "hovertemplate": "country=%{customdata[0]}<br>Year=%{x}<br>education=%{y}<extra></extra>",
         "legendgroup": "Italy",
         "line": {
          "color": "#ab63fa",
          "dash": "solid"
         },
         "marker": {
          "symbol": "circle"
         },
         "mode": "lines",
         "name": "Italy",
         "orientation": "v",
         "showlegend": true,
         "type": "scatter",
         "x": [
          2012,
          2014,
          2015,
          2016,
          2017,
          2018,
          2019,
          2020,
          2021,
          2022
         ],
         "xaxis": "x",
         "y": [
          -1.6647604752736567,
          -1.5134101743086557,
          -1.4531161519730047,
          -1.417431934672314,
          -1.299304870504508,
          -1.2033266308681665,
          -1.1491850597912554,
          -1.0975044692178406,
          -1.060589761665401,
          -1.0126006418472304
         ],
         "yaxis": "y"
        },
        {
         "customdata": [
          [
           "Latvia"
          ],
          [
           "Latvia"
          ],
          [
           "Latvia"
          ],
          [
           "Latvia"
          ],
          [
           "Latvia"
          ],
          [
           "Latvia"
          ],
          [
           "Latvia"
          ],
          [
           "Latvia"
          ],
          [
           "Latvia"
          ],
          [
           "Latvia"
          ],
          [
           "Latvia"
          ]
         ],
         "hovertemplate": "country=%{customdata[0]}<br>Year=%{x}<br>education=%{y}<extra></extra>",
         "legendgroup": "Latvia",
         "line": {
          "color": "#FFA15A",
          "dash": "solid"
         },
         "marker": {
          "symbol": "circle"
         },
         "mode": "lines",
         "name": "Latvia",
         "orientation": "v",
         "showlegend": true,
         "type": "scatter",
         "x": [
          2011,
          2012,
          2014,
          2015,
          2016,
          2017,
          2018,
          2019,
          2020,
          2021,
          2022
         ],
         "xaxis": "x",
         "y": [
          -0.39366404521799936,
          -0.24354423450474627,
          -0.044204813721574816,
          0.09607107497769383,
          0.19820176587277588,
          0.25603480770493053,
          0.26218725896367046,
          0.376622852376232,
          0.6141074709635914,
          0.7556138499146082,
          0.8368262065299741
         ],
         "yaxis": "y"
        },
        {
         "customdata": [
          [
           "Lithuania"
          ],
          [
           "Lithuania"
          ],
          [
           "Lithuania"
          ],
          [
           "Lithuania"
          ],
          [
           "Lithuania"
          ],
          [
           "Lithuania"
          ],
          [
           "Lithuania"
          ],
          [
           "Lithuania"
          ],
          [
           "Lithuania"
          ],
          [
           "Lithuania"
          ],
          [
           "Lithuania"
          ]
         ],
         "hovertemplate": "country=%{customdata[0]}<br>Year=%{x}<br>education=%{y}<extra></extra>",
         "legendgroup": "Lithuania",
         "line": {
          "color": "#19d3f3",
          "dash": "solid"
         },
         "marker": {
          "symbol": "circle"
         },
         "mode": "lines",
         "name": "Lithuania",
         "orientation": "v",
         "showlegend": true,
         "type": "scatter",
         "x": [
          2011,
          2012,
          2014,
          2015,
          2016,
          2017,
          2018,
          2019,
          2020,
          2021,
          2022
         ],
         "xaxis": "x",
         "y": [
          0.20435421713151586,
          0.3064849080265979,
          0.668249042040502,
          0.868818953075422,
          0.9278824851593244,
          0.9930984685019671,
          1.1075340619145286,
          1.3720894660403429,
          1.4237700566137579,
          1.5259007475088395,
          1.7498499733269708
         ],
         "yaxis": "y"
        },
        {
         "customdata": [
          [
           "Luxembourg"
          ],
          [
           "Luxembourg"
          ],
          [
           "Luxembourg"
          ],
          [
           "Luxembourg"
          ],
          [
           "Luxembourg"
          ],
          [
           "Luxembourg"
          ],
          [
           "Luxembourg"
          ],
          [
           "Luxembourg"
          ],
          [
           "Luxembourg"
          ],
          [
           "Luxembourg"
          ],
          [
           "Luxembourg"
          ]
         ],
         "hovertemplate": "country=%{customdata[0]}<br>Year=%{x}<br>education=%{y}<extra></extra>",
         "legendgroup": "Luxembourg",
         "line": {
          "color": "#FF6692",
          "dash": "solid"
         },
         "marker": {
          "symbol": "circle"
         },
         "mode": "lines",
         "name": "Luxembourg",
         "orientation": "v",
         "showlegend": true,
         "type": "scatter",
         "x": [
          2011,
          2012,
          2014,
          2015,
          2016,
          2017,
          2018,
          2019,
          2020,
          2021,
          2022
         ],
         "xaxis": "x",
         "y": [
          0.491058445788794,
          0.6620965907817615,
          1.4065431930892862,
          0.9180385631453407,
          1.0890767081383084,
          0.8638969920684302,
          1.3093344632011965,
          1.6834034997325804,
          1.5788118283340025,
          2.0870043023059157,
          2.2568119570471366
         ],
         "yaxis": "y"
        },
        {
         "customdata": [
          [
           "Poland"
          ],
          [
           "Poland"
          ],
          [
           "Poland"
          ],
          [
           "Poland"
          ],
          [
           "Poland"
          ],
          [
           "Poland"
          ]
         ],
         "hovertemplate": "country=%{customdata[0]}<br>Year=%{x}<br>education=%{y}<extra></extra>",
         "legendgroup": "Poland",
         "line": {
          "color": "#B6E880",
          "dash": "solid"
         },
         "marker": {
          "symbol": "circle"
         },
         "mode": "lines",
         "name": "Poland",
         "orientation": "v",
         "showlegend": true,
         "type": "scatter",
         "x": [
          2011,
          2012,
          2014,
          2015,
          2016,
          2017
         ],
         "xaxis": "x",
         "y": [
          -0.8144917113158067,
          -0.6680633713577976,
          -0.39981649647673934,
          -0.3382919838893406,
          -0.2878418835676737,
          -0.18817217317608753
         ],
         "yaxis": "y"
        },
        {
         "customdata": [
          [
           "Portugal"
          ],
          [
           "Portugal"
          ],
          [
           "Portugal"
          ],
          [
           "Portugal"
          ],
          [
           "Portugal"
          ],
          [
           "Portugal"
          ],
          [
           "Portugal"
          ],
          [
           "Portugal"
          ],
          [
           "Portugal"
          ],
          [
           "Portugal"
          ],
          [
           "Portugal"
          ]
         ],
         "hovertemplate": "country=%{customdata[0]}<br>Year=%{x}<br>education=%{y}<extra></extra>",
         "legendgroup": "Portugal",
         "line": {
          "color": "#FF97FF",
          "dash": "solid"
         },
         "marker": {
          "symbol": "circle"
         },
         "mode": "lines",
         "name": "Portugal",
         "orientation": "v",
         "showlegend": true,
         "type": "scatter",
         "x": [
          2011,
          2012,
          2014,
          2015,
          2016,
          2017,
          2018,
          2019,
          2020,
          2021,
          2022
         ],
         "xaxis": "x",
         "y": [
          -1.3780562466163784,
          -1.210709572378654,
          -0.8071087698053185,
          -0.6545279785885699,
          -0.5696241512179601,
          -0.5056386581270654,
          -0.39366404521799936,
          -0.2029380561970638,
          -0.0688146187565342,
          0.19697127562102815,
          0.2351164734252152
         ],
         "yaxis": "y"
        },
        {
         "customdata": [
          [
           "Romania"
          ],
          [
           "Romania"
          ],
          [
           "Romania"
          ],
          [
           "Romania"
          ],
          [
           "Romania"
          ],
          [
           "Romania"
          ],
          [
           "Romania"
          ],
          [
           "Romania"
          ],
          [
           "Romania"
          ],
          [
           "Romania"
          ],
          [
           "Romania"
          ]
         ],
         "hovertemplate": "country=%{customdata[0]}<br>Year=%{x}<br>education=%{y}<extra></extra>",
         "legendgroup": "Romania",
         "line": {
          "color": "#FECB52",
          "dash": "solid"
         },
         "marker": {
          "symbol": "circle"
         },
         "mode": "lines",
         "name": "Romania",
         "orientation": "v",
         "showlegend": true,
         "type": "scatter",
         "x": [
          2011,
          2012,
          2014,
          2015,
          2016,
          2017,
          2018,
          2019,
          2020,
          2021,
          2022
         ],
         "xaxis": "x",
         "y": [
          -1.7558167539030067,
          -1.6770653777911362,
          -1.5761651771478022,
          -1.5269455670778833,
          -1.5318675280848753,
          -1.483878408266704,
          -1.4752649765044685,
          -1.4100489931618259,
          -1.3989745808960938,
          -1.3657513440988989,
          -1.2746950654695486
         ],
         "yaxis": "y"
        },
        {
         "customdata": [
          [
           "Slovakia"
          ],
          [
           "Slovakia"
          ],
          [
           "Slovakia"
          ],
          [
           "Slovakia"
          ],
          [
           "Slovakia"
          ],
          [
           "Slovakia"
          ],
          [
           "Slovakia"
          ],
          [
           "Slovakia"
          ],
          [
           "Slovakia"
          ],
          [
           "Slovakia"
          ],
          [
           "Slovakia"
          ]
         ],
         "hovertemplate": "country=%{customdata[0]}<br>Year=%{x}<br>education=%{y}<extra></extra>",
         "legendgroup": "Slovakia",
         "line": {
          "color": "#636efa",
          "dash": "solid"
         },
         "marker": {
          "symbol": "circle"
         },
         "mode": "lines",
         "name": "Slovakia",
         "orientation": "v",
         "showlegend": true,
         "type": "scatter",
         "x": [
          2011,
          2012,
          2014,
          2015,
          2016,
          2017,
          2018,
          2019,
          2020,
          2021,
          2022
         ],
         "xaxis": "x",
         "y": [
          -1.2746950654695486,
          -1.1836387868401983,
          -1.0975044692178406,
          -1.0089091710919862,
          -0.895704067931173,
          -0.7824989647703591,
          -0.6397620955675941,
          -0.5019471873718214,
          -0.42934826251869096,
          -0.34321394489633245,
          -0.1697148193998681
         ],
         "yaxis": "y"
        },
        {
         "customdata": [
          [
           "Slovenia"
          ],
          [
           "Slovenia"
          ],
          [
           "Slovenia"
          ],
          [
           "Slovenia"
          ],
          [
           "Slovenia"
          ],
          [
           "Slovenia"
          ],
          [
           "Slovenia"
          ],
          [
           "Slovenia"
          ],
          [
           "Slovenia"
          ],
          [
           "Slovenia"
          ],
          [
           "Slovenia"
          ]
         ],
         "hovertemplate": "country=%{customdata[0]}<br>Year=%{x}<br>education=%{y}<extra></extra>",
         "legendgroup": "Slovenia",
         "line": {
          "color": "#EF553B",
          "dash": "solid"
         },
         "marker": {
          "symbol": "circle"
         },
         "mode": "lines",
         "name": "Slovenia",
         "orientation": "v",
         "showlegend": true,
         "type": "scatter",
         "x": [
          2011,
          2012,
          2014,
          2015,
          2016,
          2017,
          2018,
          2019,
          2020,
          2021,
          2022
         ],
         "xaxis": "x",
         "y": [
          -0.7591196499871479,
          -0.5782375829801955,
          -0.31122119835088535,
          -0.10942079706421758,
          -0.02943893070059945,
          0.125602841019645,
          0.1588260778168407,
          0.2080456878867599,
          0.484905994530054,
          1.0189387637886747,
          1.0029423905159507
         ],
         "yaxis": "y"
        },
        {
         "customdata": [
          [
           "Spain"
          ],
          [
           "Spain"
          ],
          [
           "Spain"
          ],
          [
           "Spain"
          ],
          [
           "Spain"
          ],
          [
           "Spain"
          ],
          [
           "Spain"
          ],
          [
           "Spain"
          ],
          [
           "Spain"
          ],
          [
           "Spain"
          ],
          [
           "Spain"
          ]
         ],
         "hovertemplate": "country=%{customdata[0]}<br>Year=%{x}<br>education=%{y}<extra></extra>",
         "legendgroup": "Spain",
         "line": {
          "color": "#00cc96",
          "dash": "solid"
         },
         "marker": {
          "symbol": "circle"
         },
         "mode": "lines",
         "name": "Spain",
         "orientation": "v",
         "showlegend": true,
         "type": "scatter",
         "x": [
          2011,
          2012,
          2014,
          2015,
          2016,
          2017,
          2018,
          2019,
          2020,
          2021,
          2022
         ],
         "xaxis": "x",
         "y": [
          0.17974441209655645,
          0.2572652979566787,
          0.459065699243346,
          0.5279731533412328,
          0.6387172759985503,
          0.7211601228656648,
          0.8380566967817227,
          0.9881765074949753,
          1.1284523961942443,
          1.271189265397009,
          1.3425576999983913
         ],
         "yaxis": "y"
        },
        {
         "customdata": [
          [
           "Sweden"
          ],
          [
           "Sweden"
          ],
          [
           "Sweden"
          ],
          [
           "Sweden"
          ],
          [
           "Sweden"
          ],
          [
           "Sweden"
          ],
          [
           "Sweden"
          ],
          [
           "Sweden"
          ],
          [
           "Sweden"
          ],
          [
           "Sweden"
          ]
         ],
         "hovertemplate": "country=%{customdata[0]}<br>Year=%{x}<br>education=%{y}<extra></extra>",
         "legendgroup": "Sweden",
         "line": {
          "color": "#ab63fa",
          "dash": "solid"
         },
         "marker": {
          "symbol": "circle"
         },
         "mode": "lines",
         "name": "Sweden",
         "orientation": "v",
         "showlegend": true,
         "type": "scatter",
         "x": [
          2011,
          2014,
          2015,
          2016,
          2017,
          2018,
          2019,
          2020,
          2021,
          2022
         ],
         "xaxis": "x",
         "y": [
          0.3470910863342808,
          0.8036029697327792,
          0.9401873876768042,
          1.081693766627821,
          1.1518317109774556,
          1.2810331874109926,
          1.3819333880543263,
          1.4262310371172542,
          1.5332836890193278,
          1.6797120289773364
         ],
         "yaxis": "y"
        }
       ],
       "layout": {
        "legend": {
         "title": {
          "text": "country"
         },
         "tracegroupgap": 0
        },
        "template": {
         "data": {
          "bar": [
           {
            "error_x": {
             "color": "#2a3f5f"
            },
            "error_y": {
             "color": "#2a3f5f"
            },
            "marker": {
             "line": {
              "color": "#E5ECF6",
              "width": 0.5
             },
             "pattern": {
              "fillmode": "overlay",
              "size": 10,
              "solidity": 0.2
             }
            },
            "type": "bar"
           }
          ],
          "barpolar": [
           {
            "marker": {
             "line": {
              "color": "#E5ECF6",
              "width": 0.5
             },
             "pattern": {
              "fillmode": "overlay",
              "size": 10,
              "solidity": 0.2
             }
            },
            "type": "barpolar"
           }
          ],
          "carpet": [
           {
            "aaxis": {
             "endlinecolor": "#2a3f5f",
             "gridcolor": "white",
             "linecolor": "white",
             "minorgridcolor": "white",
             "startlinecolor": "#2a3f5f"
            },
            "baxis": {
             "endlinecolor": "#2a3f5f",
             "gridcolor": "white",
             "linecolor": "white",
             "minorgridcolor": "white",
             "startlinecolor": "#2a3f5f"
            },
            "type": "carpet"
           }
          ],
          "choropleth": [
           {
            "colorbar": {
             "outlinewidth": 0,
             "ticks": ""
            },
            "type": "choropleth"
           }
          ],
          "contour": [
           {
            "colorbar": {
             "outlinewidth": 0,
             "ticks": ""
            },
            "colorscale": [
             [
              0,
              "#0d0887"
             ],
             [
              0.1111111111111111,
              "#46039f"
             ],
             [
              0.2222222222222222,
              "#7201a8"
             ],
             [
              0.3333333333333333,
              "#9c179e"
             ],
             [
              0.4444444444444444,
              "#bd3786"
             ],
             [
              0.5555555555555556,
              "#d8576b"
             ],
             [
              0.6666666666666666,
              "#ed7953"
             ],
             [
              0.7777777777777778,
              "#fb9f3a"
             ],
             [
              0.8888888888888888,
              "#fdca26"
             ],
             [
              1,
              "#f0f921"
             ]
            ],
            "type": "contour"
           }
          ],
          "contourcarpet": [
           {
            "colorbar": {
             "outlinewidth": 0,
             "ticks": ""
            },
            "type": "contourcarpet"
           }
          ],
          "heatmap": [
           {
            "colorbar": {
             "outlinewidth": 0,
             "ticks": ""
            },
            "colorscale": [
             [
              0,
              "#0d0887"
             ],
             [
              0.1111111111111111,
              "#46039f"
             ],
             [
              0.2222222222222222,
              "#7201a8"
             ],
             [
              0.3333333333333333,
              "#9c179e"
             ],
             [
              0.4444444444444444,
              "#bd3786"
             ],
             [
              0.5555555555555556,
              "#d8576b"
             ],
             [
              0.6666666666666666,
              "#ed7953"
             ],
             [
              0.7777777777777778,
              "#fb9f3a"
             ],
             [
              0.8888888888888888,
              "#fdca26"
             ],
             [
              1,
              "#f0f921"
             ]
            ],
            "type": "heatmap"
           }
          ],
          "heatmapgl": [
           {
            "colorbar": {
             "outlinewidth": 0,
             "ticks": ""
            },
            "colorscale": [
             [
              0,
              "#0d0887"
             ],
             [
              0.1111111111111111,
              "#46039f"
             ],
             [
              0.2222222222222222,
              "#7201a8"
             ],
             [
              0.3333333333333333,
              "#9c179e"
             ],
             [
              0.4444444444444444,
              "#bd3786"
             ],
             [
              0.5555555555555556,
              "#d8576b"
             ],
             [
              0.6666666666666666,
              "#ed7953"
             ],
             [
              0.7777777777777778,
              "#fb9f3a"
             ],
             [
              0.8888888888888888,
              "#fdca26"
             ],
             [
              1,
              "#f0f921"
             ]
            ],
            "type": "heatmapgl"
           }
          ],
          "histogram": [
           {
            "marker": {
             "pattern": {
              "fillmode": "overlay",
              "size": 10,
              "solidity": 0.2
             }
            },
            "type": "histogram"
           }
          ],
          "histogram2d": [
           {
            "colorbar": {
             "outlinewidth": 0,
             "ticks": ""
            },
            "colorscale": [
             [
              0,
              "#0d0887"
             ],
             [
              0.1111111111111111,
              "#46039f"
             ],
             [
              0.2222222222222222,
              "#7201a8"
             ],
             [
              0.3333333333333333,
              "#9c179e"
             ],
             [
              0.4444444444444444,
              "#bd3786"
             ],
             [
              0.5555555555555556,
              "#d8576b"
             ],
             [
              0.6666666666666666,
              "#ed7953"
             ],
             [
              0.7777777777777778,
              "#fb9f3a"
             ],
             [
              0.8888888888888888,
              "#fdca26"
             ],
             [
              1,
              "#f0f921"
             ]
            ],
            "type": "histogram2d"
           }
          ],
          "histogram2dcontour": [
           {
            "colorbar": {
             "outlinewidth": 0,
             "ticks": ""
            },
            "colorscale": [
             [
              0,
              "#0d0887"
             ],
             [
              0.1111111111111111,
              "#46039f"
             ],
             [
              0.2222222222222222,
              "#7201a8"
             ],
             [
              0.3333333333333333,
              "#9c179e"
             ],
             [
              0.4444444444444444,
              "#bd3786"
             ],
             [
              0.5555555555555556,
              "#d8576b"
             ],
             [
              0.6666666666666666,
              "#ed7953"
             ],
             [
              0.7777777777777778,
              "#fb9f3a"
             ],
             [
              0.8888888888888888,
              "#fdca26"
             ],
             [
              1,
              "#f0f921"
             ]
            ],
            "type": "histogram2dcontour"
           }
          ],
          "mesh3d": [
           {
            "colorbar": {
             "outlinewidth": 0,
             "ticks": ""
            },
            "type": "mesh3d"
           }
          ],
          "parcoords": [
           {
            "line": {
             "colorbar": {
              "outlinewidth": 0,
              "ticks": ""
             }
            },
            "type": "parcoords"
           }
          ],
          "pie": [
           {
            "automargin": true,
            "type": "pie"
           }
          ],
          "scatter": [
           {
            "fillpattern": {
             "fillmode": "overlay",
             "size": 10,
             "solidity": 0.2
            },
            "type": "scatter"
           }
          ],
          "scatter3d": [
           {
            "line": {
             "colorbar": {
              "outlinewidth": 0,
              "ticks": ""
             }
            },
            "marker": {
             "colorbar": {
              "outlinewidth": 0,
              "ticks": ""
             }
            },
            "type": "scatter3d"
           }
          ],
          "scattercarpet": [
           {
            "marker": {
             "colorbar": {
              "outlinewidth": 0,
              "ticks": ""
             }
            },
            "type": "scattercarpet"
           }
          ],
          "scattergeo": [
           {
            "marker": {
             "colorbar": {
              "outlinewidth": 0,
              "ticks": ""
             }
            },
            "type": "scattergeo"
           }
          ],
          "scattergl": [
           {
            "marker": {
             "colorbar": {
              "outlinewidth": 0,
              "ticks": ""
             }
            },
            "type": "scattergl"
           }
          ],
          "scattermapbox": [
           {
            "marker": {
             "colorbar": {
              "outlinewidth": 0,
              "ticks": ""
             }
            },
            "type": "scattermapbox"
           }
          ],
          "scatterpolar": [
           {
            "marker": {
             "colorbar": {
              "outlinewidth": 0,
              "ticks": ""
             }
            },
            "type": "scatterpolar"
           }
          ],
          "scatterpolargl": [
           {
            "marker": {
             "colorbar": {
              "outlinewidth": 0,
              "ticks": ""
             }
            },
            "type": "scatterpolargl"
           }
          ],
          "scatterternary": [
           {
            "marker": {
             "colorbar": {
              "outlinewidth": 0,
              "ticks": ""
             }
            },
            "type": "scatterternary"
           }
          ],
          "surface": [
           {
            "colorbar": {
             "outlinewidth": 0,
             "ticks": ""
            },
            "colorscale": [
             [
              0,
              "#0d0887"
             ],
             [
              0.1111111111111111,
              "#46039f"
             ],
             [
              0.2222222222222222,
              "#7201a8"
             ],
             [
              0.3333333333333333,
              "#9c179e"
             ],
             [
              0.4444444444444444,
              "#bd3786"
             ],
             [
              0.5555555555555556,
              "#d8576b"
             ],
             [
              0.6666666666666666,
              "#ed7953"
             ],
             [
              0.7777777777777778,
              "#fb9f3a"
             ],
             [
              0.8888888888888888,
              "#fdca26"
             ],
             [
              1,
              "#f0f921"
             ]
            ],
            "type": "surface"
           }
          ],
          "table": [
           {
            "cells": {
             "fill": {
              "color": "#EBF0F8"
             },
             "line": {
              "color": "white"
             }
            },
            "header": {
             "fill": {
              "color": "#C8D4E3"
             },
             "line": {
              "color": "white"
             }
            },
            "type": "table"
           }
          ]
         },
         "layout": {
          "annotationdefaults": {
           "arrowcolor": "#2a3f5f",
           "arrowhead": 0,
           "arrowwidth": 1
          },
          "autotypenumbers": "strict",
          "coloraxis": {
           "colorbar": {
            "outlinewidth": 0,
            "ticks": ""
           }
          },
          "colorscale": {
           "diverging": [
            [
             0,
             "#8e0152"
            ],
            [
             0.1,
             "#c51b7d"
            ],
            [
             0.2,
             "#de77ae"
            ],
            [
             0.3,
             "#f1b6da"
            ],
            [
             0.4,
             "#fde0ef"
            ],
            [
             0.5,
             "#f7f7f7"
            ],
            [
             0.6,
             "#e6f5d0"
            ],
            [
             0.7,
             "#b8e186"
            ],
            [
             0.8,
             "#7fbc41"
            ],
            [
             0.9,
             "#4d9221"
            ],
            [
             1,
             "#276419"
            ]
           ],
           "sequential": [
            [
             0,
             "#0d0887"
            ],
            [
             0.1111111111111111,
             "#46039f"
            ],
            [
             0.2222222222222222,
             "#7201a8"
            ],
            [
             0.3333333333333333,
             "#9c179e"
            ],
            [
             0.4444444444444444,
             "#bd3786"
            ],
            [
             0.5555555555555556,
             "#d8576b"
            ],
            [
             0.6666666666666666,
             "#ed7953"
            ],
            [
             0.7777777777777778,
             "#fb9f3a"
            ],
            [
             0.8888888888888888,
             "#fdca26"
            ],
            [
             1,
             "#f0f921"
            ]
           ],
           "sequentialminus": [
            [
             0,
             "#0d0887"
            ],
            [
             0.1111111111111111,
             "#46039f"
            ],
            [
             0.2222222222222222,
             "#7201a8"
            ],
            [
             0.3333333333333333,
             "#9c179e"
            ],
            [
             0.4444444444444444,
             "#bd3786"
            ],
            [
             0.5555555555555556,
             "#d8576b"
            ],
            [
             0.6666666666666666,
             "#ed7953"
            ],
            [
             0.7777777777777778,
             "#fb9f3a"
            ],
            [
             0.8888888888888888,
             "#fdca26"
            ],
            [
             1,
             "#f0f921"
            ]
           ]
          },
          "colorway": [
           "#636efa",
           "#EF553B",
           "#00cc96",
           "#ab63fa",
           "#FFA15A",
           "#19d3f3",
           "#FF6692",
           "#B6E880",
           "#FF97FF",
           "#FECB52"
          ],
          "font": {
           "color": "#2a3f5f"
          },
          "geo": {
           "bgcolor": "white",
           "lakecolor": "white",
           "landcolor": "#E5ECF6",
           "showlakes": true,
           "showland": true,
           "subunitcolor": "white"
          },
          "hoverlabel": {
           "align": "left"
          },
          "hovermode": "closest",
          "mapbox": {
           "style": "light"
          },
          "paper_bgcolor": "white",
          "plot_bgcolor": "#E5ECF6",
          "polar": {
           "angularaxis": {
            "gridcolor": "white",
            "linecolor": "white",
            "ticks": ""
           },
           "bgcolor": "#E5ECF6",
           "radialaxis": {
            "gridcolor": "white",
            "linecolor": "white",
            "ticks": ""
           }
          },
          "scene": {
           "xaxis": {
            "backgroundcolor": "#E5ECF6",
            "gridcolor": "white",
            "gridwidth": 2,
            "linecolor": "white",
            "showbackground": true,
            "ticks": "",
            "zerolinecolor": "white"
           },
           "yaxis": {
            "backgroundcolor": "#E5ECF6",
            "gridcolor": "white",
            "gridwidth": 2,
            "linecolor": "white",
            "showbackground": true,
            "ticks": "",
            "zerolinecolor": "white"
           },
           "zaxis": {
            "backgroundcolor": "#E5ECF6",
            "gridcolor": "white",
            "gridwidth": 2,
            "linecolor": "white",
            "showbackground": true,
            "ticks": "",
            "zerolinecolor": "white"
           }
          },
          "shapedefaults": {
           "line": {
            "color": "#2a3f5f"
           }
          },
          "ternary": {
           "aaxis": {
            "gridcolor": "white",
            "linecolor": "white",
            "ticks": ""
           },
           "baxis": {
            "gridcolor": "white",
            "linecolor": "white",
            "ticks": ""
           },
           "bgcolor": "#E5ECF6",
           "caxis": {
            "gridcolor": "white",
            "linecolor": "white",
            "ticks": ""
           }
          },
          "title": {
           "x": 0.05
          },
          "xaxis": {
           "automargin": true,
           "gridcolor": "white",
           "linecolor": "white",
           "ticks": "",
           "title": {
            "standoff": 15
           },
           "zerolinecolor": "white",
           "zerolinewidth": 2
          },
          "yaxis": {
           "automargin": true,
           "gridcolor": "white",
           "linecolor": "white",
           "ticks": "",
           "title": {
            "standoff": 15
           },
           "zerolinecolor": "white",
           "zerolinewidth": 2
          }
         }
        },
        "title": {
         "text": "Tertiary Education over Time in Europe"
        },
        "xaxis": {
         "anchor": "y",
         "domain": [
          0,
          1
         ],
         "title": {
          "text": "Year"
         }
        },
        "yaxis": {
         "anchor": "x",
         "domain": [
          0,
          1
         ],
         "title": {
          "text": "education"
         }
        }
       }
      }
     },
     "metadata": {},
     "output_type": "display_data"
    }
   ],
   "source": [
    "fig = px.line(\n",
    "    combined,\n",
    "    x='year',\n",
    "    y='education',\n",
    "    color='country',\n",
    "    labels={'year': 'Year', 'qol': 'Tertiary Education'},\n",
    "    title='Tertiary Education over Time in Europe',\n",
    "    hover_data=['country', 'year']\n",
    ")\n",
    "fig"
   ]
  },
  {
   "cell_type": "code",
   "execution_count": 33,
   "id": "135871c7",
   "metadata": {},
   "outputs": [
    {
     "data": {
      "application/vnd.plotly.v1+json": {
       "config": {
        "plotlyServerURL": "https://plot.ly"
       },
       "data": [
        {
         "customdata": [
          [
           "Austria"
          ],
          [
           "Austria"
          ],
          [
           "Austria"
          ],
          [
           "Austria"
          ],
          [
           "Austria"
          ],
          [
           "Austria"
          ],
          [
           "Austria"
          ],
          [
           "Austria"
          ],
          [
           "Austria"
          ],
          [
           "Austria"
          ],
          [
           "Austria"
          ]
         ],
         "hovertemplate": "country=%{customdata[0]}<br>Year=%{x}<br>Controlled Drug Crime=%{y}<extra></extra>",
         "legendgroup": "Austria",
         "line": {
          "color": "#636efa",
          "dash": "solid"
         },
         "marker": {
          "symbol": "circle"
         },
         "mode": "lines",
         "name": "Austria",
         "orientation": "v",
         "showlegend": true,
         "type": "scatter",
         "x": [
          2011,
          2012,
          2014,
          2015,
          2016,
          2017,
          2018,
          2019,
          2020,
          2021,
          2022
         ],
         "xaxis": "x",
         "y": [
          -0.44143324682081264,
          -0.44647089828964365,
          -0.031643198247176305,
          0.028136932516285174,
          0.07629993368041207,
          0.1749768400274537,
          0.15174258082878456,
          0.1912805120538523,
          0.14575846150823377,
          0.06448435114442659,
          0.06098852633726809
         ],
         "yaxis": "y"
        },
        {
         "customdata": [
          [
           "Belgium"
          ]
         ],
         "hovertemplate": "country=%{customdata[0]}<br>Year=%{x}<br>Controlled Drug Crime=%{y}<extra></extra>",
         "legendgroup": "Belgium",
         "line": {
          "color": "#EF553B",
          "dash": "solid"
         },
         "marker": {
          "symbol": "circle"
         },
         "mode": "lines",
         "name": "Belgium",
         "orientation": "v",
         "showlegend": true,
         "type": "scatter",
         "x": [
          2011
         ],
         "xaxis": "x",
         "y": [
          -0.26580239788474924
         ],
         "yaxis": "y"
        },
        {
         "customdata": [
          [
           "Bulgaria"
          ],
          [
           "Bulgaria"
          ],
          [
           "Bulgaria"
          ],
          [
           "Bulgaria"
          ],
          [
           "Bulgaria"
          ],
          [
           "Bulgaria"
          ],
          [
           "Bulgaria"
          ],
          [
           "Bulgaria"
          ],
          [
           "Bulgaria"
          ],
          [
           "Bulgaria"
          ],
          [
           "Bulgaria"
          ]
         ],
         "hovertemplate": "country=%{customdata[0]}<br>Year=%{x}<br>Controlled Drug Crime=%{y}<extra></extra>",
         "legendgroup": "Bulgaria",
         "line": {
          "color": "#00cc96",
          "dash": "solid"
         },
         "marker": {
          "symbol": "circle"
         },
         "mode": "lines",
         "name": "Bulgaria",
         "orientation": "v",
         "showlegend": true,
         "type": "scatter",
         "x": [
          2011,
          2012,
          2014,
          2015,
          2016,
          2017,
          2018,
          2019,
          2020,
          2021,
          2022
         ],
         "xaxis": "x",
         "y": [
          -0.4332050827550553,
          -0.4316632560933828,
          -0.4274041507606438,
          -0.41563436505619317,
          -0.4045210006037417,
          -0.4006893323653278,
          -0.3923390434154776,
          -0.39334657370924375,
          -0.40181898754318685,
          -0.4018342531536985,
          -0.3950868533075672
         ],
         "yaxis": "y"
        },
        {
         "customdata": [
          [
           "Croatia"
          ],
          [
           "Croatia"
          ],
          [
           "Croatia"
          ],
          [
           "Croatia"
          ],
          [
           "Croatia"
          ],
          [
           "Croatia"
          ],
          [
           "Croatia"
          ],
          [
           "Croatia"
          ],
          [
           "Croatia"
          ],
          [
           "Croatia"
          ],
          [
           "Croatia"
          ]
         ],
         "hovertemplate": "country=%{customdata[0]}<br>Year=%{x}<br>Controlled Drug Crime=%{y}<extra></extra>",
         "legendgroup": "Croatia",
         "line": {
          "color": "#ab63fa",
          "dash": "solid"
         },
         "marker": {
          "symbol": "circle"
         },
         "mode": "lines",
         "name": "Croatia",
         "orientation": "v",
         "showlegend": true,
         "type": "scatter",
         "x": [
          2011,
          2012,
          2014,
          2015,
          2016,
          2017,
          2018,
          2019,
          2020,
          2021,
          2022
         ],
         "xaxis": "x",
         "y": [
          -0.35828146636407754,
          -0.3654868345255571,
          -0.4355254555528199,
          -0.43346459813375265,
          -0.29950886589438225,
          -0.29654733745513007,
          -0.3058898910882349,
          -0.3059051566987465,
          -0.33616159673275586,
          -0.3402069835183323,
          -0.3366348306586157
         ],
         "yaxis": "y"
        },
        {
         "customdata": [
          [
           "Czechia"
          ],
          [
           "Czechia"
          ],
          [
           "Czechia"
          ],
          [
           "Czechia"
          ],
          [
           "Czechia"
          ],
          [
           "Czechia"
          ],
          [
           "Czechia"
          ],
          [
           "Czechia"
          ],
          [
           "Czechia"
          ],
          [
           "Czechia"
          ],
          [
           "Czechia"
          ]
         ],
         "hovertemplate": "country=%{customdata[0]}<br>Year=%{x}<br>Controlled Drug Crime=%{y}<extra></extra>",
         "legendgroup": "Czechia",
         "line": {
          "color": "#FFA15A",
          "dash": "solid"
         },
         "marker": {
          "symbol": "circle"
         },
         "mode": "lines",
         "name": "Czechia",
         "orientation": "v",
         "showlegend": true,
         "type": "scatter",
         "x": [
          2011,
          2012,
          2014,
          2015,
          2016,
          2017,
          2018,
          2019,
          2020,
          2021,
          2022
         ],
         "xaxis": "x",
         "y": [
          -0.4213589689980466,
          -0.41862642471646855,
          -0.3914078411742694,
          -0.39214059047882666,
          -0.3918658094896177,
          -0.3913773099532462,
          -0.39342290176180184,
          -0.40328448615230134,
          -0.41287128955359187,
          -0.41279496150103384,
          -0.4127338990589874
         ],
         "yaxis": "y"
        },
        {
         "customdata": [
          [
           "Denmark"
          ],
          [
           "Denmark"
          ],
          [
           "Denmark"
          ],
          [
           "Denmark"
          ],
          [
           "Denmark"
          ],
          [
           "Denmark"
          ],
          [
           "Denmark"
          ],
          [
           "Denmark"
          ],
          [
           "Denmark"
          ],
          [
           "Denmark"
          ],
          [
           "Denmark"
          ]
         ],
         "hovertemplate": "country=%{customdata[0]}<br>Year=%{x}<br>Controlled Drug Crime=%{y}<extra></extra>",
         "legendgroup": "Denmark",
         "line": {
          "color": "#19d3f3",
          "dash": "solid"
         },
         "marker": {
          "symbol": "circle"
         },
         "mode": "lines",
         "name": "Denmark",
         "orientation": "v",
         "showlegend": true,
         "type": "scatter",
         "x": [
          2011,
          2012,
          2014,
          2015,
          2016,
          2017,
          2018,
          2019,
          2020,
          2021,
          2022
         ],
         "xaxis": "x",
         "y": [
          -0.1246107662628761,
          -0.12358797035859828,
          -0.047992667105109715,
          -0.09806386958318776,
          -0.11531400946130611,
          -0.05423630180435786,
          -0.016285994072497485,
          0.026213465591822423,
          -0.0002418374247962558,
          -0.03924547228195766,
          0.0004909118797609839
         ],
         "yaxis": "y"
        },
        {
         "customdata": [
          [
           "Estonia"
          ],
          [
           "Estonia"
          ],
          [
           "Estonia"
          ],
          [
           "Estonia"
          ],
          [
           "Estonia"
          ],
          [
           "Estonia"
          ],
          [
           "Estonia"
          ],
          [
           "Estonia"
          ],
          [
           "Estonia"
          ],
          [
           "Estonia"
          ],
          [
           "Estonia"
          ]
         ],
         "hovertemplate": "country=%{customdata[0]}<br>Year=%{x}<br>Controlled Drug Crime=%{y}<extra></extra>",
         "legendgroup": "Estonia",
         "line": {
          "color": "#FF6692",
          "dash": "solid"
         },
         "marker": {
          "symbol": "circle"
         },
         "mode": "lines",
         "name": "Estonia",
         "orientation": "v",
         "showlegend": true,
         "type": "scatter",
         "x": [
          2011,
          2012,
          2014,
          2015,
          2016,
          2017,
          2018,
          2019,
          2020,
          2021,
          2022
         ],
         "xaxis": "x",
         "y": [
          -0.41851956544288726,
          -0.406383405086158,
          -0.4149932094147056,
          -0.40079619163890906,
          -0.3905529669856193,
          -0.3881867973563199,
          -0.40807788785294663,
          -0.4158175523823325,
          -0.4203514387042804,
          -0.42158795315572073,
          -0.4255417462782275
         ],
         "yaxis": "y"
        },
        {
         "customdata": [
          [
           "Finland"
          ],
          [
           "Finland"
          ],
          [
           "Finland"
          ],
          [
           "Finland"
          ],
          [
           "Finland"
          ],
          [
           "Finland"
          ],
          [
           "Finland"
          ],
          [
           "Finland"
          ],
          [
           "Finland"
          ],
          [
           "Finland"
          ],
          [
           "Finland"
          ]
         ],
         "hovertemplate": "country=%{customdata[0]}<br>Year=%{x}<br>Controlled Drug Crime=%{y}<extra></extra>",
         "legendgroup": "Finland",
         "line": {
          "color": "#B6E880",
          "dash": "solid"
         },
         "marker": {
          "symbol": "circle"
         },
         "mode": "lines",
         "name": "Finland",
         "orientation": "v",
         "showlegend": true,
         "type": "scatter",
         "x": [
          2011,
          2012,
          2014,
          2015,
          2016,
          2017,
          2018,
          2019,
          2020,
          2021,
          2022
         ],
         "xaxis": "x",
         "y": [
          -0.16552260243398864,
          -0.1699801607033785,
          -0.14434920065438675,
          -0.11913041208920841,
          -0.09336206154561213,
          -0.05492325427738027,
          -0.03146001092103699,
          0.016886177569229225,
          0.08987106142523263,
          -0.04519906038148524,
          -0.09206448465212537
         ],
         "yaxis": "y"
        },
        {
         "customdata": [
          [
           "France"
          ],
          [
           "France"
          ],
          [
           "France"
          ],
          [
           "France"
          ],
          [
           "France"
          ],
          [
           "France"
          ],
          [
           "France"
          ],
          [
           "France"
          ],
          [
           "France"
          ],
          [
           "France"
          ]
         ],
         "hovertemplate": "country=%{customdata[0]}<br>Year=%{x}<br>Controlled Drug Crime=%{y}<extra></extra>",
         "legendgroup": "France",
         "line": {
          "color": "#FF97FF",
          "dash": "solid"
         },
         "marker": {
          "symbol": "circle"
         },
         "mode": "lines",
         "name": "France",
         "orientation": "v",
         "showlegend": true,
         "type": "scatter",
         "x": [
          2012,
          2014,
          2015,
          2016,
          2017,
          2018,
          2019,
          2020,
          2021,
          2022
         ],
         "xaxis": "x",
         "y": [
          -0.3867518299682286,
          -0.3715930787302007,
          -0.36261689974937455,
          3.2157032666138594,
          2.990627105230694,
          3.2954508159265057,
          3.25763789868925,
          2.8489011772409145,
          3.9452315273531497,
          4.58786793306036
         ],
         "yaxis": "y"
        },
        {
         "customdata": [
          [
           "Germany"
          ],
          [
           "Germany"
          ],
          [
           "Germany"
          ],
          [
           "Germany"
          ],
          [
           "Germany"
          ],
          [
           "Germany"
          ],
          [
           "Germany"
          ],
          [
           "Germany"
          ],
          [
           "Germany"
          ],
          [
           "Germany"
          ],
          [
           "Germany"
          ]
         ],
         "hovertemplate": "country=%{customdata[0]}<br>Year=%{x}<br>Controlled Drug Crime=%{y}<extra></extra>",
         "legendgroup": "Germany",
         "line": {
          "color": "#FECB52",
          "dash": "solid"
         },
         "marker": {
          "symbol": "circle"
         },
         "mode": "lines",
         "name": "Germany",
         "orientation": "v",
         "showlegend": true,
         "type": "scatter",
         "x": [
          2011,
          2012,
          2014,
          2015,
          2016,
          2017,
          2018,
          2019,
          2020,
          2021,
          2022
         ],
         "xaxis": "x",
         "y": [
          3.1331315793565655,
          3.143390069620367,
          3.747663996111904,
          3.8372731298150495,
          4.142432683942117,
          4.56965605972001,
          4.876220050014146,
          5.014908121512115,
          5.106593378244839,
          5.034768680787718,
          4.723792929055728
         ],
         "yaxis": "y"
        },
        {
         "customdata": [
          [
           "Greece"
          ],
          [
           "Greece"
          ],
          [
           "Greece"
          ],
          [
           "Greece"
          ],
          [
           "Greece"
          ],
          [
           "Greece"
          ],
          [
           "Greece"
          ],
          [
           "Greece"
          ],
          [
           "Greece"
          ],
          [
           "Greece"
          ],
          [
           "Greece"
          ]
         ],
         "hovertemplate": "country=%{customdata[0]}<br>Year=%{x}<br>Controlled Drug Crime=%{y}<extra></extra>",
         "legendgroup": "Greece",
         "line": {
          "color": "#636efa",
          "dash": "solid"
         },
         "marker": {
          "symbol": "circle"
         },
         "mode": "lines",
         "name": "Greece",
         "orientation": "v",
         "showlegend": true,
         "type": "scatter",
         "x": [
          2011,
          2012,
          2014,
          2015,
          2016,
          2017,
          2018,
          2019,
          2020,
          2021,
          2022
         ],
         "xaxis": "x",
         "y": [
          -0.32746019874113863,
          -0.32199511017798255,
          -0.31114126110422846,
          -0.3121793226190179,
          -0.3076149050760467,
          -0.28152597671170665,
          -0.27033628420669714,
          -0.26931348830241936,
          -0.2810985396173816,
          -0.29399798049969134,
          -0.2932804968056457
         ],
         "yaxis": "y"
        },
        {
         "customdata": [
          [
           "Hungary"
          ],
          [
           "Hungary"
          ],
          [
           "Hungary"
          ]
         ],
         "hovertemplate": "country=%{customdata[0]}<br>Year=%{x}<br>Controlled Drug Crime=%{y}<extra></extra>",
         "legendgroup": "Hungary",
         "line": {
          "color": "#EF553B",
          "dash": "solid"
         },
         "marker": {
          "symbol": "circle"
         },
         "mode": "lines",
         "name": "Hungary",
         "orientation": "v",
         "showlegend": true,
         "type": "scatter",
         "x": [
          2011,
          2012,
          2014
         ],
         "xaxis": "x",
         "y": [
          -0.38542372185371865,
          -0.3972698356107273,
          -0.38337813004516297
         ],
         "yaxis": "y"
        },
        {
         "customdata": [
          [
           "Ireland"
          ],
          [
           "Ireland"
          ],
          [
           "Ireland"
          ],
          [
           "Ireland"
          ],
          [
           "Ireland"
          ],
          [
           "Ireland"
          ],
          [
           "Ireland"
          ],
          [
           "Ireland"
          ],
          [
           "Ireland"
          ],
          [
           "Ireland"
          ],
          [
           "Ireland"
          ]
         ],
         "hovertemplate": "country=%{customdata[0]}<br>Year=%{x}<br>Controlled Drug Crime=%{y}<extra></extra>",
         "legendgroup": "Ireland",
         "line": {
          "color": "#00cc96",
          "dash": "solid"
         },
         "marker": {
          "symbol": "circle"
         },
         "mode": "lines",
         "name": "Ireland",
         "orientation": "v",
         "showlegend": true,
         "type": "scatter",
         "x": [
          2011,
          2012,
          2014,
          2015,
          2016,
          2017,
          2018,
          2019,
          2020,
          2021,
          2022
         ],
         "xaxis": "x",
         "y": [
          -0.2086021552977497,
          -0.2267834974170762,
          -0.23469108366208977,
          -0.25468903343229776,
          -0.24313296627500963,
          -0.22852377701539967,
          -0.20612912639486902,
          -0.1624389491106436,
          -0.13847194060741722,
          -0.18407031920559377,
          -0.22272284502098819
         ],
         "yaxis": "y"
        },
        {
         "customdata": [
          [
           "Italy"
          ],
          [
           "Italy"
          ],
          [
           "Italy"
          ],
          [
           "Italy"
          ],
          [
           "Italy"
          ],
          [
           "Italy"
          ],
          [
           "Italy"
          ],
          [
           "Italy"
          ],
          [
           "Italy"
          ],
          [
           "Italy"
          ]
         ],
         "hovertemplate": "country=%{customdata[0]}<br>Year=%{x}<br>Controlled Drug Crime=%{y}<extra></extra>",
         "legendgroup": "Italy",
         "line": {
          "color": "#ab63fa",
          "dash": "solid"
         },
         "marker": {
          "symbol": "circle"
         },
         "mode": "lines",
         "name": "Italy",
         "orientation": "v",
         "showlegend": true,
         "type": "scatter",
         "x": [
          2012,
          2014,
          2015,
          2016,
          2017,
          2018,
          2019,
          2020,
          2021,
          2022
         ],
         "xaxis": "x",
         "y": [
          0.03992198383124745,
          0.02261078151108266,
          0.008383232514262921,
          0.0603321050852689,
          0.10841877819683776,
          0.11508984999041096,
          0.09863352185889629,
          0.0403341553150609,
          -0.020865677225980234,
          -0.031811119962804
         ],
         "yaxis": "y"
        },
        {
         "customdata": [
          [
           "Latvia"
          ],
          [
           "Latvia"
          ],
          [
           "Latvia"
          ],
          [
           "Latvia"
          ],
          [
           "Latvia"
          ],
          [
           "Latvia"
          ],
          [
           "Latvia"
          ],
          [
           "Latvia"
          ],
          [
           "Latvia"
          ],
          [
           "Latvia"
          ],
          [
           "Latvia"
          ]
         ],
         "hovertemplate": "country=%{customdata[0]}<br>Year=%{x}<br>Controlled Drug Crime=%{y}<extra></extra>",
         "legendgroup": "Latvia",
         "line": {
          "color": "#FFA15A",
          "dash": "solid"
         },
         "marker": {
          "symbol": "circle"
         },
         "mode": "lines",
         "name": "Latvia",
         "orientation": "v",
         "showlegend": true,
         "type": "scatter",
         "x": [
          2011,
          2012,
          2014,
          2015,
          2016,
          2017,
          2018,
          2019,
          2020,
          2021,
          2022
         ],
         "xaxis": "x",
         "y": [
          -0.44682200733141064,
          -0.4348690343008207,
          -0.43567811165793596,
          -0.42297712371227714,
          -0.4361971424153307,
          -0.4312205533885461,
          -0.4370520166039808,
          -0.44089895045290634,
          -0.4466998824473178,
          -0.45451587502926166,
          -0.45752320030004867
         ],
         "yaxis": "y"
        },
        {
         "customdata": [
          [
           "Lithuania"
          ],
          [
           "Lithuania"
          ],
          [
           "Lithuania"
          ],
          [
           "Lithuania"
          ],
          [
           "Lithuania"
          ],
          [
           "Lithuania"
          ],
          [
           "Lithuania"
          ],
          [
           "Lithuania"
          ],
          [
           "Lithuania"
          ],
          [
           "Lithuania"
          ],
          [
           "Lithuania"
          ]
         ],
         "hovertemplate": "country=%{customdata[0]}<br>Year=%{x}<br>Controlled Drug Crime=%{y}<extra></extra>",
         "legendgroup": "Lithuania",
         "line": {
          "color": "#19d3f3",
          "dash": "solid"
         },
         "marker": {
          "symbol": "circle"
         },
         "mode": "lines",
         "name": "Lithuania",
         "orientation": "v",
         "showlegend": true,
         "type": "scatter",
         "x": [
          2011,
          2012,
          2014,
          2015,
          2016,
          2017,
          2018,
          2019,
          2020,
          2021,
          2022
         ],
         "xaxis": "x",
         "y": [
          -0.4424102458935556,
          -0.43096103800984875,
          -0.43735732881421296,
          -0.43831906227644435,
          -0.4419217463571841,
          -0.43682303244630666,
          -0.4276941973603644,
          -0.42984664844250126,
          -0.43196856830361496,
          -0.4288391181487351,
          -0.4298313828319897
         ],
         "yaxis": "y"
        },
        {
         "customdata": [
          [
           "Luxembourg"
          ],
          [
           "Luxembourg"
          ],
          [
           "Luxembourg"
          ],
          [
           "Luxembourg"
          ],
          [
           "Luxembourg"
          ],
          [
           "Luxembourg"
          ],
          [
           "Luxembourg"
          ],
          [
           "Luxembourg"
          ],
          [
           "Luxembourg"
          ],
          [
           "Luxembourg"
          ],
          [
           "Luxembourg"
          ]
         ],
         "hovertemplate": "country=%{customdata[0]}<br>Year=%{x}<br>Controlled Drug Crime=%{y}<extra></extra>",
         "legendgroup": "Luxembourg",
         "line": {
          "color": "#FF6692",
          "dash": "solid"
         },
         "marker": {
          "symbol": "circle"
         },
         "mode": "lines",
         "name": "Luxembourg",
         "orientation": "v",
         "showlegend": true,
         "type": "scatter",
         "x": [
          2011,
          2012,
          2014,
          2015,
          2016,
          2017,
          2018,
          2019,
          2020,
          2021,
          2022
         ],
         "xaxis": "x",
         "y": [
          -0.43195330269310334,
          -0.4374183912562594,
          -0.4128865551641035,
          -0.40548273406597307,
          -0.4160770677610298,
          -0.43589183020509853,
          -0.4310068348413836,
          -0.41215380585954625,
          -0.4063376082546232,
          -0.4192523147474445,
          -0.42210698391311546
         ],
         "yaxis": "y"
        },
        {
         "customdata": [
          [
           "Poland"
          ],
          [
           "Poland"
          ],
          [
           "Poland"
          ],
          [
           "Poland"
          ],
          [
           "Poland"
          ],
          [
           "Poland"
          ]
         ],
         "hovertemplate": "country=%{customdata[0]}<br>Year=%{x}<br>Controlled Drug Crime=%{y}<extra></extra>",
         "legendgroup": "Poland",
         "line": {
          "color": "#B6E880",
          "dash": "solid"
         },
         "marker": {
          "symbol": "circle"
         },
         "mode": "lines",
         "name": "Poland",
         "orientation": "v",
         "showlegend": true,
         "type": "scatter",
         "x": [
          2011,
          2012,
          2014,
          2015,
          2016,
          2017
         ],
         "xaxis": "x",
         "y": [
          0.660972816275043,
          0.6888020242377064,
          0.4971880810959883,
          0.363033895919967,
          0.4459414266085163,
          0.5101027875888097
         ],
         "yaxis": "y"
        },
        {
         "customdata": [
          [
           "Portugal"
          ],
          [
           "Portugal"
          ],
          [
           "Portugal"
          ],
          [
           "Portugal"
          ],
          [
           "Portugal"
          ],
          [
           "Portugal"
          ],
          [
           "Portugal"
          ],
          [
           "Portugal"
          ],
          [
           "Portugal"
          ],
          [
           "Portugal"
          ],
          [
           "Portugal"
          ]
         ],
         "hovertemplate": "country=%{customdata[0]}<br>Year=%{x}<br>Controlled Drug Crime=%{y}<extra></extra>",
         "legendgroup": "Portugal",
         "line": {
          "color": "#FF97FF",
          "dash": "solid"
         },
         "marker": {
          "symbol": "circle"
         },
         "mode": "lines",
         "name": "Portugal",
         "orientation": "v",
         "showlegend": true,
         "type": "scatter",
         "x": [
          2011,
          2012,
          2014,
          2015,
          2016,
          2017,
          2018,
          2019,
          2020,
          2021,
          2022
         ],
         "xaxis": "x",
         "y": [
          -0.4125201805118249,
          -0.4060475616549026,
          -0.40432254766709075,
          -0.39597225871724057,
          -0.38913326520803965,
          -0.37791304148200694,
          -0.37701237046182196,
          -0.3890874683765048,
          -0.41630605191870396,
          -0.4090548869256896,
          -0.3782488849132623
         ],
         "yaxis": "y"
        },
        {
         "customdata": [
          [
           "Romania"
          ],
          [
           "Romania"
          ],
          [
           "Romania"
          ],
          [
           "Romania"
          ],
          [
           "Romania"
          ],
          [
           "Romania"
          ],
          [
           "Romania"
          ],
          [
           "Romania"
          ],
          [
           "Romania"
          ],
          [
           "Romania"
          ],
          [
           "Romania"
          ]
         ],
         "hovertemplate": "country=%{customdata[0]}<br>Year=%{x}<br>Controlled Drug Crime=%{y}<extra></extra>",
         "legendgroup": "Romania",
         "line": {
          "color": "#FECB52",
          "dash": "solid"
         },
         "marker": {
          "symbol": "circle"
         },
         "mode": "lines",
         "name": "Romania",
         "orientation": "v",
         "showlegend": true,
         "type": "scatter",
         "x": [
          2011,
          2012,
          2014,
          2015,
          2016,
          2017,
          2018,
          2019,
          2020,
          2021,
          2022
         ],
         "xaxis": "x",
         "y": [
          -0.42409151327962463,
          -0.4330066298184044,
          -0.44010513870630263,
          -0.3997123332925848,
          -0.4085663873893181,
          -0.3832865363820933,
          -0.34730549240623054,
          -0.3531827524532001,
          -0.37594377772600934,
          -0.35748765461747384,
          -0.3357494252489424
         ],
         "yaxis": "y"
        },
        {
         "customdata": [
          [
           "Slovakia"
          ],
          [
           "Slovakia"
          ],
          [
           "Slovakia"
          ],
          [
           "Slovakia"
          ],
          [
           "Slovakia"
          ],
          [
           "Slovakia"
          ],
          [
           "Slovakia"
          ],
          [
           "Slovakia"
          ],
          [
           "Slovakia"
          ],
          [
           "Slovakia"
          ],
          [
           "Slovakia"
          ]
         ],
         "hovertemplate": "country=%{customdata[0]}<br>Year=%{x}<br>Controlled Drug Crime=%{y}<extra></extra>",
         "legendgroup": "Slovakia",
         "line": {
          "color": "#636efa",
          "dash": "solid"
         },
         "marker": {
          "symbol": "circle"
         },
         "mode": "lines",
         "name": "Slovakia",
         "orientation": "v",
         "showlegend": true,
         "type": "scatter",
         "x": [
          2011,
          2012,
          2014,
          2015,
          2016,
          2017,
          2018,
          2019,
          2020,
          2021,
          2022
         ],
         "xaxis": "x",
         "y": [
          -0.4652170679978997,
          -0.4652628648294345,
          -0.4522870958945667,
          -0.4501346448124299,
          -0.4540579067139134,
          -0.4542563596505643,
          -0.45283665787298466,
          -0.4505468162962433,
          -0.4540579067139134,
          -0.44979880138117445,
          -0.4537067976721464
         ],
         "yaxis": "y"
        },
        {
         "customdata": [
          [
           "Slovenia"
          ],
          [
           "Slovenia"
          ],
          [
           "Slovenia"
          ],
          [
           "Slovenia"
          ],
          [
           "Slovenia"
          ],
          [
           "Slovenia"
          ],
          [
           "Slovenia"
          ],
          [
           "Slovenia"
          ],
          [
           "Slovenia"
          ],
          [
           "Slovenia"
          ],
          [
           "Slovenia"
          ]
         ],
         "hovertemplate": "country=%{customdata[0]}<br>Year=%{x}<br>Controlled Drug Crime=%{y}<extra></extra>",
         "legendgroup": "Slovenia",
         "line": {
          "color": "#EF553B",
          "dash": "solid"
         },
         "marker": {
          "symbol": "circle"
         },
         "mode": "lines",
         "name": "Slovenia",
         "orientation": "v",
         "showlegend": true,
         "type": "scatter",
         "x": [
          2011,
          2012,
          2014,
          2015,
          2016,
          2017,
          2018,
          2019,
          2020,
          2021,
          2022
         ],
         "xaxis": "x",
         "y": [
          -0.45387471938777413,
          -0.44998198870731376,
          -0.45147801853745145,
          -0.45033309774908076,
          -0.45491278090256354,
          -0.4520581117368926,
          -0.4536915320616348,
          -0.4559050455858181,
          -0.45401210988237856,
          -0.45515703067074925,
          -0.45576765509121364
         ],
         "yaxis": "y"
        },
        {
         "customdata": [
          [
           "Spain"
          ],
          [
           "Spain"
          ],
          [
           "Spain"
          ],
          [
           "Spain"
          ],
          [
           "Spain"
          ],
          [
           "Spain"
          ],
          [
           "Spain"
          ],
          [
           "Spain"
          ],
          [
           "Spain"
          ],
          [
           "Spain"
          ],
          [
           "Spain"
          ]
         ],
         "hovertemplate": "country=%{customdata[0]}<br>Year=%{x}<br>Controlled Drug Crime=%{y}<extra></extra>",
         "legendgroup": "Spain",
         "line": {
          "color": "#00cc96",
          "dash": "solid"
         },
         "marker": {
          "symbol": "circle"
         },
         "mode": "lines",
         "name": "Spain",
         "orientation": "v",
         "showlegend": true,
         "type": "scatter",
         "x": [
          2011,
          2012,
          2014,
          2015,
          2016,
          2017,
          2018,
          2019,
          2020,
          2021,
          2022
         ],
         "xaxis": "x",
         "y": [
          -0.24450687122105444,
          -0.25536072029480855,
          -0.2721223606365554,
          -0.29260880994313493,
          -0.28682314355923505,
          -0.2790376821983144,
          -0.2611005898471736,
          -0.22307395406275518,
          -0.21562433613308993,
          -0.1972903379086473,
          -0.1859327236880101
         ],
         "yaxis": "y"
        },
        {
         "customdata": [
          [
           "Sweden"
          ],
          [
           "Sweden"
          ],
          [
           "Sweden"
          ],
          [
           "Sweden"
          ],
          [
           "Sweden"
          ],
          [
           "Sweden"
          ],
          [
           "Sweden"
          ],
          [
           "Sweden"
          ],
          [
           "Sweden"
          ],
          [
           "Sweden"
          ]
         ],
         "hovertemplate": "country=%{customdata[0]}<br>Year=%{x}<br>Controlled Drug Crime=%{y}<extra></extra>",
         "legendgroup": "Sweden",
         "line": {
          "color": "#ab63fa",
          "dash": "solid"
         },
         "marker": {
          "symbol": "circle"
         },
         "mode": "lines",
         "name": "Sweden",
         "orientation": "v",
         "showlegend": true,
         "type": "scatter",
         "x": [
          2011,
          2014,
          2015,
          2016,
          2017,
          2018,
          2019,
          2020,
          2021,
          2022
         ],
         "xaxis": "x",
         "y": [
          0.9275409070287621,
          1.0225235356319944,
          0.9971673565722116,
          0.9512026033217563,
          1.0902875806930274,
          1.182293415246496,
          1.284618802505812,
          1.4503575358303529,
          1.3585806854345586,
          1.2920531548249659
         ],
         "yaxis": "y"
        }
       ],
       "layout": {
        "legend": {
         "title": {
          "text": "country"
         },
         "tracegroupgap": 0
        },
        "template": {
         "data": {
          "bar": [
           {
            "error_x": {
             "color": "#2a3f5f"
            },
            "error_y": {
             "color": "#2a3f5f"
            },
            "marker": {
             "line": {
              "color": "#E5ECF6",
              "width": 0.5
             },
             "pattern": {
              "fillmode": "overlay",
              "size": 10,
              "solidity": 0.2
             }
            },
            "type": "bar"
           }
          ],
          "barpolar": [
           {
            "marker": {
             "line": {
              "color": "#E5ECF6",
              "width": 0.5
             },
             "pattern": {
              "fillmode": "overlay",
              "size": 10,
              "solidity": 0.2
             }
            },
            "type": "barpolar"
           }
          ],
          "carpet": [
           {
            "aaxis": {
             "endlinecolor": "#2a3f5f",
             "gridcolor": "white",
             "linecolor": "white",
             "minorgridcolor": "white",
             "startlinecolor": "#2a3f5f"
            },
            "baxis": {
             "endlinecolor": "#2a3f5f",
             "gridcolor": "white",
             "linecolor": "white",
             "minorgridcolor": "white",
             "startlinecolor": "#2a3f5f"
            },
            "type": "carpet"
           }
          ],
          "choropleth": [
           {
            "colorbar": {
             "outlinewidth": 0,
             "ticks": ""
            },
            "type": "choropleth"
           }
          ],
          "contour": [
           {
            "colorbar": {
             "outlinewidth": 0,
             "ticks": ""
            },
            "colorscale": [
             [
              0,
              "#0d0887"
             ],
             [
              0.1111111111111111,
              "#46039f"
             ],
             [
              0.2222222222222222,
              "#7201a8"
             ],
             [
              0.3333333333333333,
              "#9c179e"
             ],
             [
              0.4444444444444444,
              "#bd3786"
             ],
             [
              0.5555555555555556,
              "#d8576b"
             ],
             [
              0.6666666666666666,
              "#ed7953"
             ],
             [
              0.7777777777777778,
              "#fb9f3a"
             ],
             [
              0.8888888888888888,
              "#fdca26"
             ],
             [
              1,
              "#f0f921"
             ]
            ],
            "type": "contour"
           }
          ],
          "contourcarpet": [
           {
            "colorbar": {
             "outlinewidth": 0,
             "ticks": ""
            },
            "type": "contourcarpet"
           }
          ],
          "heatmap": [
           {
            "colorbar": {
             "outlinewidth": 0,
             "ticks": ""
            },
            "colorscale": [
             [
              0,
              "#0d0887"
             ],
             [
              0.1111111111111111,
              "#46039f"
             ],
             [
              0.2222222222222222,
              "#7201a8"
             ],
             [
              0.3333333333333333,
              "#9c179e"
             ],
             [
              0.4444444444444444,
              "#bd3786"
             ],
             [
              0.5555555555555556,
              "#d8576b"
             ],
             [
              0.6666666666666666,
              "#ed7953"
             ],
             [
              0.7777777777777778,
              "#fb9f3a"
             ],
             [
              0.8888888888888888,
              "#fdca26"
             ],
             [
              1,
              "#f0f921"
             ]
            ],
            "type": "heatmap"
           }
          ],
          "heatmapgl": [
           {
            "colorbar": {
             "outlinewidth": 0,
             "ticks": ""
            },
            "colorscale": [
             [
              0,
              "#0d0887"
             ],
             [
              0.1111111111111111,
              "#46039f"
             ],
             [
              0.2222222222222222,
              "#7201a8"
             ],
             [
              0.3333333333333333,
              "#9c179e"
             ],
             [
              0.4444444444444444,
              "#bd3786"
             ],
             [
              0.5555555555555556,
              "#d8576b"
             ],
             [
              0.6666666666666666,
              "#ed7953"
             ],
             [
              0.7777777777777778,
              "#fb9f3a"
             ],
             [
              0.8888888888888888,
              "#fdca26"
             ],
             [
              1,
              "#f0f921"
             ]
            ],
            "type": "heatmapgl"
           }
          ],
          "histogram": [
           {
            "marker": {
             "pattern": {
              "fillmode": "overlay",
              "size": 10,
              "solidity": 0.2
             }
            },
            "type": "histogram"
           }
          ],
          "histogram2d": [
           {
            "colorbar": {
             "outlinewidth": 0,
             "ticks": ""
            },
            "colorscale": [
             [
              0,
              "#0d0887"
             ],
             [
              0.1111111111111111,
              "#46039f"
             ],
             [
              0.2222222222222222,
              "#7201a8"
             ],
             [
              0.3333333333333333,
              "#9c179e"
             ],
             [
              0.4444444444444444,
              "#bd3786"
             ],
             [
              0.5555555555555556,
              "#d8576b"
             ],
             [
              0.6666666666666666,
              "#ed7953"
             ],
             [
              0.7777777777777778,
              "#fb9f3a"
             ],
             [
              0.8888888888888888,
              "#fdca26"
             ],
             [
              1,
              "#f0f921"
             ]
            ],
            "type": "histogram2d"
           }
          ],
          "histogram2dcontour": [
           {
            "colorbar": {
             "outlinewidth": 0,
             "ticks": ""
            },
            "colorscale": [
             [
              0,
              "#0d0887"
             ],
             [
              0.1111111111111111,
              "#46039f"
             ],
             [
              0.2222222222222222,
              "#7201a8"
             ],
             [
              0.3333333333333333,
              "#9c179e"
             ],
             [
              0.4444444444444444,
              "#bd3786"
             ],
             [
              0.5555555555555556,
              "#d8576b"
             ],
             [
              0.6666666666666666,
              "#ed7953"
             ],
             [
              0.7777777777777778,
              "#fb9f3a"
             ],
             [
              0.8888888888888888,
              "#fdca26"
             ],
             [
              1,
              "#f0f921"
             ]
            ],
            "type": "histogram2dcontour"
           }
          ],
          "mesh3d": [
           {
            "colorbar": {
             "outlinewidth": 0,
             "ticks": ""
            },
            "type": "mesh3d"
           }
          ],
          "parcoords": [
           {
            "line": {
             "colorbar": {
              "outlinewidth": 0,
              "ticks": ""
             }
            },
            "type": "parcoords"
           }
          ],
          "pie": [
           {
            "automargin": true,
            "type": "pie"
           }
          ],
          "scatter": [
           {
            "fillpattern": {
             "fillmode": "overlay",
             "size": 10,
             "solidity": 0.2
            },
            "type": "scatter"
           }
          ],
          "scatter3d": [
           {
            "line": {
             "colorbar": {
              "outlinewidth": 0,
              "ticks": ""
             }
            },
            "marker": {
             "colorbar": {
              "outlinewidth": 0,
              "ticks": ""
             }
            },
            "type": "scatter3d"
           }
          ],
          "scattercarpet": [
           {
            "marker": {
             "colorbar": {
              "outlinewidth": 0,
              "ticks": ""
             }
            },
            "type": "scattercarpet"
           }
          ],
          "scattergeo": [
           {
            "marker": {
             "colorbar": {
              "outlinewidth": 0,
              "ticks": ""
             }
            },
            "type": "scattergeo"
           }
          ],
          "scattergl": [
           {
            "marker": {
             "colorbar": {
              "outlinewidth": 0,
              "ticks": ""
             }
            },
            "type": "scattergl"
           }
          ],
          "scattermapbox": [
           {
            "marker": {
             "colorbar": {
              "outlinewidth": 0,
              "ticks": ""
             }
            },
            "type": "scattermapbox"
           }
          ],
          "scatterpolar": [
           {
            "marker": {
             "colorbar": {
              "outlinewidth": 0,
              "ticks": ""
             }
            },
            "type": "scatterpolar"
           }
          ],
          "scatterpolargl": [
           {
            "marker": {
             "colorbar": {
              "outlinewidth": 0,
              "ticks": ""
             }
            },
            "type": "scatterpolargl"
           }
          ],
          "scatterternary": [
           {
            "marker": {
             "colorbar": {
              "outlinewidth": 0,
              "ticks": ""
             }
            },
            "type": "scatterternary"
           }
          ],
          "surface": [
           {
            "colorbar": {
             "outlinewidth": 0,
             "ticks": ""
            },
            "colorscale": [
             [
              0,
              "#0d0887"
             ],
             [
              0.1111111111111111,
              "#46039f"
             ],
             [
              0.2222222222222222,
              "#7201a8"
             ],
             [
              0.3333333333333333,
              "#9c179e"
             ],
             [
              0.4444444444444444,
              "#bd3786"
             ],
             [
              0.5555555555555556,
              "#d8576b"
             ],
             [
              0.6666666666666666,
              "#ed7953"
             ],
             [
              0.7777777777777778,
              "#fb9f3a"
             ],
             [
              0.8888888888888888,
              "#fdca26"
             ],
             [
              1,
              "#f0f921"
             ]
            ],
            "type": "surface"
           }
          ],
          "table": [
           {
            "cells": {
             "fill": {
              "color": "#EBF0F8"
             },
             "line": {
              "color": "white"
             }
            },
            "header": {
             "fill": {
              "color": "#C8D4E3"
             },
             "line": {
              "color": "white"
             }
            },
            "type": "table"
           }
          ]
         },
         "layout": {
          "annotationdefaults": {
           "arrowcolor": "#2a3f5f",
           "arrowhead": 0,
           "arrowwidth": 1
          },
          "autotypenumbers": "strict",
          "coloraxis": {
           "colorbar": {
            "outlinewidth": 0,
            "ticks": ""
           }
          },
          "colorscale": {
           "diverging": [
            [
             0,
             "#8e0152"
            ],
            [
             0.1,
             "#c51b7d"
            ],
            [
             0.2,
             "#de77ae"
            ],
            [
             0.3,
             "#f1b6da"
            ],
            [
             0.4,
             "#fde0ef"
            ],
            [
             0.5,
             "#f7f7f7"
            ],
            [
             0.6,
             "#e6f5d0"
            ],
            [
             0.7,
             "#b8e186"
            ],
            [
             0.8,
             "#7fbc41"
            ],
            [
             0.9,
             "#4d9221"
            ],
            [
             1,
             "#276419"
            ]
           ],
           "sequential": [
            [
             0,
             "#0d0887"
            ],
            [
             0.1111111111111111,
             "#46039f"
            ],
            [
             0.2222222222222222,
             "#7201a8"
            ],
            [
             0.3333333333333333,
             "#9c179e"
            ],
            [
             0.4444444444444444,
             "#bd3786"
            ],
            [
             0.5555555555555556,
             "#d8576b"
            ],
            [
             0.6666666666666666,
             "#ed7953"
            ],
            [
             0.7777777777777778,
             "#fb9f3a"
            ],
            [
             0.8888888888888888,
             "#fdca26"
            ],
            [
             1,
             "#f0f921"
            ]
           ],
           "sequentialminus": [
            [
             0,
             "#0d0887"
            ],
            [
             0.1111111111111111,
             "#46039f"
            ],
            [
             0.2222222222222222,
             "#7201a8"
            ],
            [
             0.3333333333333333,
             "#9c179e"
            ],
            [
             0.4444444444444444,
             "#bd3786"
            ],
            [
             0.5555555555555556,
             "#d8576b"
            ],
            [
             0.6666666666666666,
             "#ed7953"
            ],
            [
             0.7777777777777778,
             "#fb9f3a"
            ],
            [
             0.8888888888888888,
             "#fdca26"
            ],
            [
             1,
             "#f0f921"
            ]
           ]
          },
          "colorway": [
           "#636efa",
           "#EF553B",
           "#00cc96",
           "#ab63fa",
           "#FFA15A",
           "#19d3f3",
           "#FF6692",
           "#B6E880",
           "#FF97FF",
           "#FECB52"
          ],
          "font": {
           "color": "#2a3f5f"
          },
          "geo": {
           "bgcolor": "white",
           "lakecolor": "white",
           "landcolor": "#E5ECF6",
           "showlakes": true,
           "showland": true,
           "subunitcolor": "white"
          },
          "hoverlabel": {
           "align": "left"
          },
          "hovermode": "closest",
          "mapbox": {
           "style": "light"
          },
          "paper_bgcolor": "white",
          "plot_bgcolor": "#E5ECF6",
          "polar": {
           "angularaxis": {
            "gridcolor": "white",
            "linecolor": "white",
            "ticks": ""
           },
           "bgcolor": "#E5ECF6",
           "radialaxis": {
            "gridcolor": "white",
            "linecolor": "white",
            "ticks": ""
           }
          },
          "scene": {
           "xaxis": {
            "backgroundcolor": "#E5ECF6",
            "gridcolor": "white",
            "gridwidth": 2,
            "linecolor": "white",
            "showbackground": true,
            "ticks": "",
            "zerolinecolor": "white"
           },
           "yaxis": {
            "backgroundcolor": "#E5ECF6",
            "gridcolor": "white",
            "gridwidth": 2,
            "linecolor": "white",
            "showbackground": true,
            "ticks": "",
            "zerolinecolor": "white"
           },
           "zaxis": {
            "backgroundcolor": "#E5ECF6",
            "gridcolor": "white",
            "gridwidth": 2,
            "linecolor": "white",
            "showbackground": true,
            "ticks": "",
            "zerolinecolor": "white"
           }
          },
          "shapedefaults": {
           "line": {
            "color": "#2a3f5f"
           }
          },
          "ternary": {
           "aaxis": {
            "gridcolor": "white",
            "linecolor": "white",
            "ticks": ""
           },
           "baxis": {
            "gridcolor": "white",
            "linecolor": "white",
            "ticks": ""
           },
           "bgcolor": "#E5ECF6",
           "caxis": {
            "gridcolor": "white",
            "linecolor": "white",
            "ticks": ""
           }
          },
          "title": {
           "x": 0.05
          },
          "xaxis": {
           "automargin": true,
           "gridcolor": "white",
           "linecolor": "white",
           "ticks": "",
           "title": {
            "standoff": 15
           },
           "zerolinecolor": "white",
           "zerolinewidth": 2
          },
          "yaxis": {
           "automargin": true,
           "gridcolor": "white",
           "linecolor": "white",
           "ticks": "",
           "title": {
            "standoff": 15
           },
           "zerolinecolor": "white",
           "zerolinewidth": 2
          }
         }
        },
        "title": {
         "text": "Controlled Drug Crime over Time in Europe"
        },
        "xaxis": {
         "anchor": "y",
         "domain": [
          0,
          1
         ],
         "title": {
          "text": "Year"
         }
        },
        "yaxis": {
         "anchor": "x",
         "domain": [
          0,
          1
         ],
         "title": {
          "text": "Controlled Drug Crime"
         }
        }
       }
      }
     },
     "metadata": {},
     "output_type": "display_data"
    }
   ],
   "source": [
    "fig = px.line(\n",
    "    combined,\n",
    "    x='year',\n",
    "    y='safety',\n",
    "    color='country',\n",
    "    labels={'year': 'Year', 'safety': 'Controlled Drug Crime'},\n",
    "    title= 'Controlled Drug Crime over Time in Europe',\n",
    "    hover_data=['country', 'year']\n",
    ")\n",
    "fig"
   ]
  },
  {
   "cell_type": "code",
   "execution_count": 34,
   "id": "7bc1173f",
   "metadata": {},
   "outputs": [
    {
     "data": {
      "application/vnd.plotly.v1+json": {
       "config": {
        "plotlyServerURL": "https://plot.ly"
       },
       "data": [
        {
         "customdata": [
          [
           "Austria"
          ],
          [
           "Austria"
          ],
          [
           "Austria"
          ],
          [
           "Austria"
          ],
          [
           "Austria"
          ],
          [
           "Austria"
          ],
          [
           "Austria"
          ],
          [
           "Austria"
          ],
          [
           "Austria"
          ],
          [
           "Austria"
          ],
          [
           "Austria"
          ]
         ],
         "hovertemplate": "country=%{customdata[0]}<br>Year=%{x}<br>Emissions=%{y}<extra></extra>",
         "legendgroup": "Austria",
         "line": {
          "color": "#636efa",
          "dash": "solid"
         },
         "marker": {
          "symbol": "circle"
         },
         "mode": "lines",
         "name": "Austria",
         "orientation": "v",
         "showlegend": true,
         "type": "scatter",
         "x": [
          2011,
          2012,
          2014,
          2015,
          2016,
          2017,
          2018,
          2019,
          2020,
          2021,
          2022
         ],
         "xaxis": "x",
         "y": [
          0.10314796074460764,
          0.07707122909569004,
          -0.07938916079781597,
          0.12922469239352524,
          0.024917765797854863,
          0.18137815569136087,
          0.25960835063811366,
          0.41606874053162013,
          0.024917765797854863,
          0.024917765797854863,
          -0.027235697499980782
         ],
         "yaxis": "y"
        },
        {
         "customdata": [
          [
           "Belgium"
          ]
         ],
         "hovertemplate": "country=%{customdata[0]}<br>Year=%{x}<br>Emissions=%{y}<extra></extra>",
         "legendgroup": "Belgium",
         "line": {
          "color": "#EF553B",
          "dash": "solid"
         },
         "marker": {
          "symbol": "circle"
         },
         "mode": "lines",
         "name": "Belgium",
         "orientation": "v",
         "showlegend": true,
         "type": "scatter",
         "x": [
          2011
         ],
         "xaxis": "x",
         "y": [
          0.7550662519675497
         ],
         "yaxis": "y"
        },
        {
         "customdata": [
          [
           "Bulgaria"
          ],
          [
           "Bulgaria"
          ],
          [
           "Bulgaria"
          ],
          [
           "Bulgaria"
          ],
          [
           "Bulgaria"
          ],
          [
           "Bulgaria"
          ],
          [
           "Bulgaria"
          ],
          [
           "Bulgaria"
          ],
          [
           "Bulgaria"
          ],
          [
           "Bulgaria"
          ],
          [
           "Bulgaria"
          ]
         ],
         "hovertemplate": "country=%{customdata[0]}<br>Year=%{x}<br>Emissions=%{y}<extra></extra>",
         "legendgroup": "Bulgaria",
         "line": {
          "color": "#00cc96",
          "dash": "solid"
         },
         "marker": {
          "symbol": "circle"
         },
         "mode": "lines",
         "name": "Bulgaria",
         "orientation": "v",
         "showlegend": true,
         "type": "scatter",
         "x": [
          2011,
          2012,
          2014,
          2015,
          2016,
          2017,
          2018,
          2019,
          2020,
          2021,
          2022
         ],
         "xaxis": "x",
         "y": [
          -0.13154262409565137,
          -0.2880030139891576,
          -0.3140797456380752,
          -0.1576193557445692,
          -0.3140797456380752,
          -0.20977281904240438,
          -0.3662332089359106,
          -0.3662332089359106,
          -0.6009237937761697,
          -0.3401564772869928,
          -0.1576193557445692
         ],
         "yaxis": "y"
        },
        {
         "customdata": [
          [
           "Croatia"
          ],
          [
           "Croatia"
          ],
          [
           "Croatia"
          ],
          [
           "Croatia"
          ],
          [
           "Croatia"
          ],
          [
           "Croatia"
          ],
          [
           "Croatia"
          ],
          [
           "Croatia"
          ],
          [
           "Croatia"
          ],
          [
           "Croatia"
          ],
          [
           "Croatia"
          ]
         ],
         "hovertemplate": "country=%{customdata[0]}<br>Year=%{x}<br>Emissions=%{y}<extra></extra>",
         "legendgroup": "Croatia",
         "line": {
          "color": "#ab63fa",
          "dash": "solid"
         },
         "marker": {
          "symbol": "circle"
         },
         "mode": "lines",
         "name": "Croatia",
         "orientation": "v",
         "showlegend": true,
         "type": "scatter",
         "x": [
          2011,
          2012,
          2014,
          2015,
          2016,
          2017,
          2018,
          2019,
          2020,
          2021,
          2022
         ],
         "xaxis": "x",
         "y": [
          -0.7834609153185935,
          -0.8616911102653465,
          -0.9920747685099349,
          -0.9399213052120997,
          -0.9138445735631819,
          -0.7834609153185935,
          -0.8877678419142643,
          -0.8877678419142643,
          -0.9138445735631819,
          -0.8877678419142643,
          -0.8095376469675113
         ],
         "yaxis": "y"
        },
        {
         "customdata": [
          [
           "Czechia"
          ],
          [
           "Czechia"
          ],
          [
           "Czechia"
          ],
          [
           "Czechia"
          ],
          [
           "Czechia"
          ],
          [
           "Czechia"
          ],
          [
           "Czechia"
          ],
          [
           "Czechia"
          ],
          [
           "Czechia"
          ],
          [
           "Czechia"
          ],
          [
           "Czechia"
          ]
         ],
         "hovertemplate": "country=%{customdata[0]}<br>Year=%{x}<br>Emissions=%{y}<extra></extra>",
         "legendgroup": "Czechia",
         "line": {
          "color": "#FFA15A",
          "dash": "solid"
         },
         "marker": {
          "symbol": "circle"
         },
         "mode": "lines",
         "name": "Czechia",
         "orientation": "v",
         "showlegend": true,
         "type": "scatter",
         "x": [
          2011,
          2012,
          2014,
          2015,
          2016,
          2017,
          2018,
          2019,
          2020,
          2021,
          2022
         ],
         "xaxis": "x",
         "y": [
          1.0419103001056442,
          0.9376033735099738,
          0.7811429836164673,
          0.7811429836164673,
          0.8332964469143029,
          0.8854499102121381,
          0.9376033735099738,
          0.9376033735099738,
          0.7811429836164673,
          0.8854499102121381,
          0.7029127886697145
         ],
         "yaxis": "y"
        },
        {
         "customdata": [
          [
           "Denmark"
          ],
          [
           "Denmark"
          ],
          [
           "Denmark"
          ],
          [
           "Denmark"
          ],
          [
           "Denmark"
          ],
          [
           "Denmark"
          ],
          [
           "Denmark"
          ],
          [
           "Denmark"
          ],
          [
           "Denmark"
          ],
          [
           "Denmark"
          ],
          [
           "Denmark"
          ]
         ],
         "hovertemplate": "country=%{customdata[0]}<br>Year=%{x}<br>Emissions=%{y}<extra></extra>",
         "legendgroup": "Denmark",
         "line": {
          "color": "#19d3f3",
          "dash": "solid"
         },
         "marker": {
          "symbol": "circle"
         },
         "mode": "lines",
         "name": "Denmark",
         "orientation": "v",
         "showlegend": true,
         "type": "scatter",
         "x": [
          2011,
          2012,
          2014,
          2015,
          2016,
          2017,
          2018,
          2019,
          2020,
          2021,
          2022
         ],
         "xaxis": "x",
         "y": [
          0.7550662519675497,
          0.5203756671272904,
          0.3639152772337845,
          0.18137815569136087,
          0.2856850822870317,
          0.1553014240424433,
          0.23353161898919605,
          -0.0011589658510631894,
          -0.13154262409565137,
          -0.1576193557445692,
          -0.2619262823402398
         ],
         "yaxis": "y"
        },
        {
         "customdata": [
          [
           "Estonia"
          ],
          [
           "Estonia"
          ],
          [
           "Estonia"
          ],
          [
           "Estonia"
          ],
          [
           "Estonia"
          ],
          [
           "Estonia"
          ],
          [
           "Estonia"
          ],
          [
           "Estonia"
          ],
          [
           "Estonia"
          ],
          [
           "Estonia"
          ],
          [
           "Estonia"
          ]
         ],
         "hovertemplate": "country=%{customdata[0]}<br>Year=%{x}<br>Emissions=%{y}<extra></extra>",
         "legendgroup": "Estonia",
         "line": {
          "color": "#FF6692",
          "dash": "solid"
         },
         "marker": {
          "symbol": "circle"
         },
         "mode": "lines",
         "name": "Estonia",
         "orientation": "v",
         "showlegend": true,
         "type": "scatter",
         "x": [
          2011,
          2012,
          2014,
          2015,
          2016,
          2017,
          2018,
          2019,
          2020,
          2021,
          2022
         ],
         "xaxis": "x",
         "y": [
          1.3287543482437392,
          1.4591380064883275,
          2.0589028344134346,
          1.563444933083998,
          2.0589028344134346,
          2.267516687604775,
          2.4500538091471995,
          1.3287543482437392,
          0.3117618139359493,
          0.4942989354783729,
          0.6246825937229613
         ],
         "yaxis": "y"
        },
        {
         "customdata": [
          [
           "Finland"
          ],
          [
           "Finland"
          ],
          [
           "Finland"
          ],
          [
           "Finland"
          ],
          [
           "Finland"
          ],
          [
           "Finland"
          ],
          [
           "Finland"
          ],
          [
           "Finland"
          ],
          [
           "Finland"
          ],
          [
           "Finland"
          ],
          [
           "Finland"
          ]
         ],
         "hovertemplate": "country=%{customdata[0]}<br>Year=%{x}<br>Emissions=%{y}<extra></extra>",
         "legendgroup": "Finland",
         "line": {
          "color": "#B6E880",
          "dash": "solid"
         },
         "marker": {
          "symbol": "circle"
         },
         "mode": "lines",
         "name": "Finland",
         "orientation": "v",
         "showlegend": true,
         "type": "scatter",
         "x": [
          2011,
          2012,
          2014,
          2015,
          2016,
          2017,
          2018,
          2019,
          2020,
          2021,
          2022
         ],
         "xaxis": "x",
         "y": [
          0.1553014240424433,
          -0.20977281904240438,
          -0.13154262409565137,
          -0.053312429148898374,
          0.2856850822870317,
          0.3117618139359493,
          0.8593731785632206,
          0.5203756671272904,
          0.20745488734027848,
          0.6507593253718789,
          0.5725291304251261
         ],
         "yaxis": "y"
        },
        {
         "customdata": [
          [
           "France"
          ],
          [
           "France"
          ],
          [
           "France"
          ],
          [
           "France"
          ],
          [
           "France"
          ],
          [
           "France"
          ],
          [
           "France"
          ],
          [
           "France"
          ],
          [
           "France"
          ],
          [
           "France"
          ]
         ],
         "hovertemplate": "country=%{customdata[0]}<br>Year=%{x}<br>Emissions=%{y}<extra></extra>",
         "legendgroup": "France",
         "line": {
          "color": "#FF97FF",
          "dash": "solid"
         },
         "marker": {
          "symbol": "circle"
         },
         "mode": "lines",
         "name": "France",
         "orientation": "v",
         "showlegend": true,
         "type": "scatter",
         "x": [
          2012,
          2014,
          2015,
          2016,
          2017,
          2018,
          2019,
          2020,
          2021,
          2022
         ],
         "xaxis": "x",
         "y": [
          -0.3662332089359106,
          -0.5226935988294167,
          -0.496616867180499,
          -0.47054013553158125,
          -0.44446340388266364,
          -0.5487703304783345,
          -0.574847062127252,
          -0.7573841836696759,
          -0.6530772570740051,
          -0.7313074520207581
         ],
         "yaxis": "y"
        },
        {
         "customdata": [
          [
           "Germany"
          ],
          [
           "Germany"
          ],
          [
           "Germany"
          ],
          [
           "Germany"
          ],
          [
           "Germany"
          ],
          [
           "Germany"
          ],
          [
           "Germany"
          ],
          [
           "Germany"
          ],
          [
           "Germany"
          ],
          [
           "Germany"
          ],
          [
           "Germany"
          ]
         ],
         "hovertemplate": "country=%{customdata[0]}<br>Year=%{x}<br>Emissions=%{y}<extra></extra>",
         "legendgroup": "Germany",
         "line": {
          "color": "#FECB52",
          "dash": "solid"
         },
         "marker": {
          "symbol": "circle"
         },
         "mode": "lines",
         "name": "Germany",
         "orientation": "v",
         "showlegend": true,
         "type": "scatter",
         "x": [
          2011,
          2012,
          2014,
          2015,
          2016,
          2017,
          2018,
          2019,
          2020,
          2021,
          2022
         ],
         "xaxis": "x",
         "y": [
          0.8072197152653854,
          0.8332964469143029,
          0.7811429836164673,
          0.7550662519675497,
          0.7289895203186322,
          0.6507593253718789,
          0.8072197152653854,
          0.5986058620740438,
          0.3899920088827021,
          0.44214547218053774,
          0.44214547218053774
         ],
         "yaxis": "y"
        },
        {
         "customdata": [
          [
           "Greece"
          ],
          [
           "Greece"
          ],
          [
           "Greece"
          ],
          [
           "Greece"
          ],
          [
           "Greece"
          ],
          [
           "Greece"
          ],
          [
           "Greece"
          ],
          [
           "Greece"
          ],
          [
           "Greece"
          ],
          [
           "Greece"
          ],
          [
           "Greece"
          ]
         ],
         "hovertemplate": "country=%{customdata[0]}<br>Year=%{x}<br>Emissions=%{y}<extra></extra>",
         "legendgroup": "Greece",
         "line": {
          "color": "#636efa",
          "dash": "solid"
         },
         "marker": {
          "symbol": "circle"
         },
         "mode": "lines",
         "name": "Greece",
         "orientation": "v",
         "showlegend": true,
         "type": "scatter",
         "x": [
          2011,
          2012,
          2014,
          2015,
          2016,
          2017,
          2018,
          2019,
          2020,
          2021,
          2022
         ],
         "xaxis": "x",
         "y": [
          0.5203756671272904,
          0.44214547218053774,
          0.20745488734027848,
          0.10314796074460764,
          -0.0011589658510631894,
          0.10314796074460764,
          -0.0011589658510631894,
          -0.1576193557445692,
          -0.41838667223374604,
          -0.3401564772869928,
          -0.3140797456380752
         ],
         "yaxis": "y"
        },
        {
         "customdata": [
          [
           "Hungary"
          ],
          [
           "Hungary"
          ],
          [
           "Hungary"
          ]
         ],
         "hovertemplate": "country=%{customdata[0]}<br>Year=%{x}<br>Emissions=%{y}<extra></extra>",
         "legendgroup": "Hungary",
         "line": {
          "color": "#EF553B",
          "dash": "solid"
         },
         "marker": {
          "symbol": "circle"
         },
         "mode": "lines",
         "name": "Hungary",
         "orientation": "v",
         "showlegend": true,
         "type": "scatter",
         "x": [
          2011,
          2012,
          2014
         ],
         "xaxis": "x",
         "y": [
          -0.5487703304783345,
          -0.6270005254250874,
          -0.7052307203718404
         ],
         "yaxis": "y"
        },
        {
         "customdata": [
          [
           "Ireland"
          ],
          [
           "Ireland"
          ],
          [
           "Ireland"
          ],
          [
           "Ireland"
          ],
          [
           "Ireland"
          ],
          [
           "Ireland"
          ],
          [
           "Ireland"
          ],
          [
           "Ireland"
          ],
          [
           "Ireland"
          ],
          [
           "Ireland"
          ],
          [
           "Ireland"
          ]
         ],
         "hovertemplate": "country=%{customdata[0]}<br>Year=%{x}<br>Emissions=%{y}<extra></extra>",
         "legendgroup": "Ireland",
         "line": {
          "color": "#00cc96",
          "dash": "solid"
         },
         "marker": {
          "symbol": "circle"
         },
         "mode": "lines",
         "name": "Ireland",
         "orientation": "v",
         "showlegend": true,
         "type": "scatter",
         "x": [
          2011,
          2012,
          2014,
          2015,
          2016,
          2017,
          2018,
          2019,
          2020,
          2021,
          2022
         ],
         "xaxis": "x",
         "y": [
          1.3809078115415743,
          1.3548310798926566,
          1.3548310798926566,
          1.4330612748394094,
          1.4591380064883275,
          1.4852147381372451,
          1.3548310798926566,
          1.1983706899991506,
          1.0940637634034798,
          1.146217226701315,
          0.989756836807809
         ],
         "yaxis": "y"
        },
        {
         "customdata": [
          [
           "Italy"
          ],
          [
           "Italy"
          ],
          [
           "Italy"
          ],
          [
           "Italy"
          ],
          [
           "Italy"
          ],
          [
           "Italy"
          ],
          [
           "Italy"
          ],
          [
           "Italy"
          ],
          [
           "Italy"
          ],
          [
           "Italy"
          ]
         ],
         "hovertemplate": "country=%{customdata[0]}<br>Year=%{x}<br>Emissions=%{y}<extra></extra>",
         "legendgroup": "Italy",
         "line": {
          "color": "#ab63fa",
          "dash": "solid"
         },
         "marker": {
          "symbol": "circle"
         },
         "mode": "lines",
         "name": "Italy",
         "orientation": "v",
         "showlegend": true,
         "type": "scatter",
         "x": [
          2012,
          2014,
          2015,
          2016,
          2017,
          2018,
          2019,
          2020,
          2021,
          2022
         ],
         "xaxis": "x",
         "y": [
          -0.10546589244673378,
          -0.44446340388266364,
          -0.3923099405848282,
          -0.41838667223374604,
          -0.3662332089359106,
          -0.496616867180499,
          -0.5226935988294167,
          -0.6530772570740051,
          -0.496616867180499,
          -0.496616867180499
         ],
         "yaxis": "y"
        },
        {
         "customdata": [
          [
           "Latvia"
          ],
          [
           "Latvia"
          ],
          [
           "Latvia"
          ],
          [
           "Latvia"
          ],
          [
           "Latvia"
          ],
          [
           "Latvia"
          ],
          [
           "Latvia"
          ],
          [
           "Latvia"
          ],
          [
           "Latvia"
          ],
          [
           "Latvia"
          ],
          [
           "Latvia"
          ]
         ],
         "hovertemplate": "country=%{customdata[0]}<br>Year=%{x}<br>Emissions=%{y}<extra></extra>",
         "legendgroup": "Latvia",
         "line": {
          "color": "#FFA15A",
          "dash": "solid"
         },
         "marker": {
          "symbol": "circle"
         },
         "mode": "lines",
         "name": "Latvia",
         "orientation": "v",
         "showlegend": true,
         "type": "scatter",
         "x": [
          2011,
          2012,
          2014,
          2015,
          2016,
          2017,
          2018,
          2019,
          2020,
          2021,
          2022
         ],
         "xaxis": "x",
         "y": [
          -1.0442282318077702,
          -1.226765353350194,
          -0.5487703304783345,
          -0.6791539887229229,
          -0.9138445735631819,
          -1.0963816951056058,
          -0.6791539887229229,
          -0.9138445735631819,
          -0.6270005254250874,
          -0.3923099405848282,
          0.05099449744677246
         ],
         "yaxis": "y"
        },
        {
         "customdata": [
          [
           "Lithuania"
          ],
          [
           "Lithuania"
          ],
          [
           "Lithuania"
          ],
          [
           "Lithuania"
          ],
          [
           "Lithuania"
          ],
          [
           "Lithuania"
          ],
          [
           "Lithuania"
          ],
          [
           "Lithuania"
          ],
          [
           "Lithuania"
          ],
          [
           "Lithuania"
          ],
          [
           "Lithuania"
          ]
         ],
         "hovertemplate": "country=%{customdata[0]}<br>Year=%{x}<br>Emissions=%{y}<extra></extra>",
         "legendgroup": "Lithuania",
         "line": {
          "color": "#19d3f3",
          "dash": "solid"
         },
         "marker": {
          "symbol": "circle"
         },
         "mode": "lines",
         "name": "Lithuania",
         "orientation": "v",
         "showlegend": true,
         "type": "scatter",
         "x": [
          2011,
          2012,
          2014,
          2015,
          2016,
          2017,
          2018,
          2019,
          2020,
          2021,
          2022
         ],
         "xaxis": "x",
         "y": [
          -1.2789188166480296,
          -1.226765353350194,
          -1.1746118900523588,
          -1.0442282318077702,
          -0.9399213052120997,
          -0.8616911102653465,
          -0.7834609153185935,
          -0.7834609153185935,
          -0.8095376469675113,
          -0.8095376469675113,
          -0.9659980368610173
         ],
         "yaxis": "y"
        },
        {
         "customdata": [
          [
           "Luxembourg"
          ],
          [
           "Luxembourg"
          ],
          [
           "Luxembourg"
          ],
          [
           "Luxembourg"
          ],
          [
           "Luxembourg"
          ],
          [
           "Luxembourg"
          ],
          [
           "Luxembourg"
          ],
          [
           "Luxembourg"
          ],
          [
           "Luxembourg"
          ],
          [
           "Luxembourg"
          ],
          [
           "Luxembourg"
          ]
         ],
         "hovertemplate": "country=%{customdata[0]}<br>Year=%{x}<br>Emissions=%{y}<extra></extra>",
         "legendgroup": "Luxembourg",
         "line": {
          "color": "#FF6692",
          "dash": "solid"
         },
         "marker": {
          "symbol": "circle"
         },
         "mode": "lines",
         "name": "Luxembourg",
         "orientation": "v",
         "showlegend": true,
         "type": "scatter",
         "x": [
          2011,
          2012,
          2014,
          2015,
          2016,
          2017,
          2018,
          2019,
          2020,
          2021,
          2022
         ],
         "xaxis": "x",
         "y": [
          3.779967123242001,
          3.4670463434549887,
          2.6847443939874585,
          2.3718236142004465,
          2.1371330293601867,
          2.1371330293601867,
          2.267516687604775,
          2.189286492658023,
          1.3809078115415743,
          1.406984543190492,
          0.8332964469143029
         ],
         "yaxis": "y"
        },
        {
         "customdata": [
          [
           "Poland"
          ],
          [
           "Poland"
          ],
          [
           "Poland"
          ],
          [
           "Poland"
          ],
          [
           "Poland"
          ],
          [
           "Poland"
          ]
         ],
         "hovertemplate": "country=%{customdata[0]}<br>Year=%{x}<br>Emissions=%{y}<extra></extra>",
         "legendgroup": "Poland",
         "line": {
          "color": "#B6E880",
          "dash": "solid"
         },
         "marker": {
          "symbol": "circle"
         },
         "mode": "lines",
         "name": "Poland",
         "orientation": "v",
         "showlegend": true,
         "type": "scatter",
         "x": [
          2011,
          2012,
          2014,
          2015,
          2016,
          2017
         ],
         "xaxis": "x",
         "y": [
          0.33783854558486687,
          0.2856850822870317,
          0.20745488734027848,
          0.25960835063811366,
          0.2856850822870317,
          0.3639152772337845
         ],
         "yaxis": "y"
        },
        {
         "customdata": [
          [
           "Portugal"
          ],
          [
           "Portugal"
          ],
          [
           "Portugal"
          ],
          [
           "Portugal"
          ],
          [
           "Portugal"
          ],
          [
           "Portugal"
          ],
          [
           "Portugal"
          ],
          [
           "Portugal"
          ],
          [
           "Portugal"
          ],
          [
           "Portugal"
          ],
          [
           "Portugal"
          ]
         ],
         "hovertemplate": "country=%{customdata[0]}<br>Year=%{x}<br>Emissions=%{y}<extra></extra>",
         "legendgroup": "Portugal",
         "line": {
          "color": "#FF97FF",
          "dash": "solid"
         },
         "marker": {
          "symbol": "circle"
         },
         "mode": "lines",
         "name": "Portugal",
         "orientation": "v",
         "showlegend": true,
         "type": "scatter",
         "x": [
          2011,
          2012,
          2014,
          2015,
          2016,
          2017,
          2018,
          2019,
          2020,
          2021,
          2022
         ],
         "xaxis": "x",
         "y": [
          -0.5487703304783345,
          -0.574847062127252,
          -0.6530772570740051,
          -0.496616867180499,
          -0.496616867180499,
          0.024917765797854863,
          -0.5487703304783345,
          -0.6270005254250874,
          -0.7834609153185935,
          -0.8095376469675113,
          -0.7573841836696759
         ],
         "yaxis": "y"
        },
        {
         "customdata": [
          [
           "Romania"
          ],
          [
           "Romania"
          ],
          [
           "Romania"
          ],
          [
           "Romania"
          ],
          [
           "Romania"
          ],
          [
           "Romania"
          ],
          [
           "Romania"
          ],
          [
           "Romania"
          ],
          [
           "Romania"
          ],
          [
           "Romania"
          ],
          [
           "Romania"
          ]
         ],
         "hovertemplate": "country=%{customdata[0]}<br>Year=%{x}<br>Emissions=%{y}<extra></extra>",
         "legendgroup": "Romania",
         "line": {
          "color": "#FECB52",
          "dash": "solid"
         },
         "marker": {
          "symbol": "circle"
         },
         "mode": "lines",
         "name": "Romania",
         "orientation": "v",
         "showlegend": true,
         "type": "scatter",
         "x": [
          2011,
          2012,
          2014,
          2015,
          2016,
          2017,
          2018,
          2019,
          2020,
          2021,
          2022
         ],
         "xaxis": "x",
         "y": [
          -0.8877678419142643,
          -0.9659980368610173,
          -1.226765353350194,
          -1.226765353350194,
          -1.2789188166480296,
          -1.226765353350194,
          -1.1746118900523588,
          -1.226765353350194,
          -1.304995548296947,
          -1.226765353350194,
          -1.2528420849991118
         ],
         "yaxis": "y"
        },
        {
         "customdata": [
          [
           "Slovakia"
          ],
          [
           "Slovakia"
          ],
          [
           "Slovakia"
          ],
          [
           "Slovakia"
          ],
          [
           "Slovakia"
          ],
          [
           "Slovakia"
          ],
          [
           "Slovakia"
          ],
          [
           "Slovakia"
          ],
          [
           "Slovakia"
          ],
          [
           "Slovakia"
          ],
          [
           "Slovakia"
          ]
         ],
         "hovertemplate": "country=%{customdata[0]}<br>Year=%{x}<br>Emissions=%{y}<extra></extra>",
         "legendgroup": "Slovakia",
         "line": {
          "color": "#636efa",
          "dash": "solid"
         },
         "marker": {
          "symbol": "circle"
         },
         "mode": "lines",
         "name": "Slovakia",
         "orientation": "v",
         "showlegend": true,
         "type": "scatter",
         "x": [
          2011,
          2012,
          2014,
          2015,
          2016,
          2017,
          2018,
          2019,
          2020,
          2021,
          2022
         ],
         "xaxis": "x",
         "y": [
          -0.2358495506913222,
          -0.41838667223374604,
          -0.47054013553158125,
          -0.44446340388266364,
          -0.41838667223374604,
          -0.3662332089359106,
          -0.3401564772869928,
          -0.47054013553158125,
          -0.7052307203718404,
          -0.5226935988294167,
          -0.7052307203718404
         ],
         "yaxis": "y"
        },
        {
         "customdata": [
          [
           "Slovenia"
          ],
          [
           "Slovenia"
          ],
          [
           "Slovenia"
          ],
          [
           "Slovenia"
          ],
          [
           "Slovenia"
          ],
          [
           "Slovenia"
          ],
          [
           "Slovenia"
          ],
          [
           "Slovenia"
          ],
          [
           "Slovenia"
          ],
          [
           "Slovenia"
          ],
          [
           "Slovenia"
          ]
         ],
         "hovertemplate": "country=%{customdata[0]}<br>Year=%{x}<br>Emissions=%{y}<extra></extra>",
         "legendgroup": "Slovenia",
         "line": {
          "color": "#EF553B",
          "dash": "solid"
         },
         "marker": {
          "symbol": "circle"
         },
         "mode": "lines",
         "name": "Slovenia",
         "orientation": "v",
         "showlegend": true,
         "type": "scatter",
         "x": [
          2011,
          2012,
          2014,
          2015,
          2016,
          2017,
          2018,
          2019,
          2020,
          2021,
          2022
         ],
         "xaxis": "x",
         "y": [
          -0.5487703304783345,
          -0.6009237937761697,
          0.024917765797854863,
          0.05099449744677246,
          0.18137815569136087,
          0.20745488734027848,
          0.18137815569136087,
          -0.574847062127252,
          -0.7052307203718404,
          -0.6791539887229229,
          -0.7313074520207581
         ],
         "yaxis": "y"
        },
        {
         "customdata": [
          [
           "Spain"
          ],
          [
           "Spain"
          ],
          [
           "Spain"
          ],
          [
           "Spain"
          ],
          [
           "Spain"
          ],
          [
           "Spain"
          ],
          [
           "Spain"
          ],
          [
           "Spain"
          ],
          [
           "Spain"
          ],
          [
           "Spain"
          ],
          [
           "Spain"
          ]
         ],
         "hovertemplate": "country=%{customdata[0]}<br>Year=%{x}<br>Emissions=%{y}<extra></extra>",
         "legendgroup": "Spain",
         "line": {
          "color": "#00cc96",
          "dash": "solid"
         },
         "marker": {
          "symbol": "circle"
         },
         "mode": "lines",
         "name": "Spain",
         "orientation": "v",
         "showlegend": true,
         "type": "scatter",
         "x": [
          2011,
          2012,
          2014,
          2015,
          2016,
          2017,
          2018,
          2019,
          2020,
          2021,
          2022
         ],
         "xaxis": "x",
         "y": [
          -0.44446340388266364,
          -0.47054013553158125,
          -0.6009237937761697,
          -0.574847062127252,
          -0.6270005254250874,
          -0.574847062127252,
          -0.6009237937761697,
          -0.7052307203718404,
          -0.9399213052120997,
          -0.8356143786164288,
          -0.8095376469675113
         ],
         "yaxis": "y"
        },
        {
         "customdata": [
          [
           "Sweden"
          ],
          [
           "Sweden"
          ],
          [
           "Sweden"
          ],
          [
           "Sweden"
          ],
          [
           "Sweden"
          ],
          [
           "Sweden"
          ],
          [
           "Sweden"
          ],
          [
           "Sweden"
          ],
          [
           "Sweden"
          ],
          [
           "Sweden"
          ]
         ],
         "hovertemplate": "country=%{customdata[0]}<br>Year=%{x}<br>Emissions=%{y}<extra></extra>",
         "legendgroup": "Sweden",
         "line": {
          "color": "#ab63fa",
          "dash": "solid"
         },
         "marker": {
          "symbol": "circle"
         },
         "mode": "lines",
         "name": "Sweden",
         "orientation": "v",
         "showlegend": true,
         "type": "scatter",
         "x": [
          2011,
          2014,
          2015,
          2016,
          2017,
          2018,
          2019,
          2020,
          2021,
          2022
         ],
         "xaxis": "x",
         "y": [
          -2.1655276927112306,
          -2.243757887657984,
          -2.1916044243601482,
          -2.1133742294133957,
          -1.9829905711688072,
          -1.8526069129242186,
          -1.8786836445731363,
          -1.9829905711688072,
          -1.8526069129242186,
          -1.8786836445731363
         ],
         "yaxis": "y"
        }
       ],
       "layout": {
        "legend": {
         "title": {
          "text": "country"
         },
         "tracegroupgap": 0
        },
        "template": {
         "data": {
          "bar": [
           {
            "error_x": {
             "color": "#2a3f5f"
            },
            "error_y": {
             "color": "#2a3f5f"
            },
            "marker": {
             "line": {
              "color": "#E5ECF6",
              "width": 0.5
             },
             "pattern": {
              "fillmode": "overlay",
              "size": 10,
              "solidity": 0.2
             }
            },
            "type": "bar"
           }
          ],
          "barpolar": [
           {
            "marker": {
             "line": {
              "color": "#E5ECF6",
              "width": 0.5
             },
             "pattern": {
              "fillmode": "overlay",
              "size": 10,
              "solidity": 0.2
             }
            },
            "type": "barpolar"
           }
          ],
          "carpet": [
           {
            "aaxis": {
             "endlinecolor": "#2a3f5f",
             "gridcolor": "white",
             "linecolor": "white",
             "minorgridcolor": "white",
             "startlinecolor": "#2a3f5f"
            },
            "baxis": {
             "endlinecolor": "#2a3f5f",
             "gridcolor": "white",
             "linecolor": "white",
             "minorgridcolor": "white",
             "startlinecolor": "#2a3f5f"
            },
            "type": "carpet"
           }
          ],
          "choropleth": [
           {
            "colorbar": {
             "outlinewidth": 0,
             "ticks": ""
            },
            "type": "choropleth"
           }
          ],
          "contour": [
           {
            "colorbar": {
             "outlinewidth": 0,
             "ticks": ""
            },
            "colorscale": [
             [
              0,
              "#0d0887"
             ],
             [
              0.1111111111111111,
              "#46039f"
             ],
             [
              0.2222222222222222,
              "#7201a8"
             ],
             [
              0.3333333333333333,
              "#9c179e"
             ],
             [
              0.4444444444444444,
              "#bd3786"
             ],
             [
              0.5555555555555556,
              "#d8576b"
             ],
             [
              0.6666666666666666,
              "#ed7953"
             ],
             [
              0.7777777777777778,
              "#fb9f3a"
             ],
             [
              0.8888888888888888,
              "#fdca26"
             ],
             [
              1,
              "#f0f921"
             ]
            ],
            "type": "contour"
           }
          ],
          "contourcarpet": [
           {
            "colorbar": {
             "outlinewidth": 0,
             "ticks": ""
            },
            "type": "contourcarpet"
           }
          ],
          "heatmap": [
           {
            "colorbar": {
             "outlinewidth": 0,
             "ticks": ""
            },
            "colorscale": [
             [
              0,
              "#0d0887"
             ],
             [
              0.1111111111111111,
              "#46039f"
             ],
             [
              0.2222222222222222,
              "#7201a8"
             ],
             [
              0.3333333333333333,
              "#9c179e"
             ],
             [
              0.4444444444444444,
              "#bd3786"
             ],
             [
              0.5555555555555556,
              "#d8576b"
             ],
             [
              0.6666666666666666,
              "#ed7953"
             ],
             [
              0.7777777777777778,
              "#fb9f3a"
             ],
             [
              0.8888888888888888,
              "#fdca26"
             ],
             [
              1,
              "#f0f921"
             ]
            ],
            "type": "heatmap"
           }
          ],
          "heatmapgl": [
           {
            "colorbar": {
             "outlinewidth": 0,
             "ticks": ""
            },
            "colorscale": [
             [
              0,
              "#0d0887"
             ],
             [
              0.1111111111111111,
              "#46039f"
             ],
             [
              0.2222222222222222,
              "#7201a8"
             ],
             [
              0.3333333333333333,
              "#9c179e"
             ],
             [
              0.4444444444444444,
              "#bd3786"
             ],
             [
              0.5555555555555556,
              "#d8576b"
             ],
             [
              0.6666666666666666,
              "#ed7953"
             ],
             [
              0.7777777777777778,
              "#fb9f3a"
             ],
             [
              0.8888888888888888,
              "#fdca26"
             ],
             [
              1,
              "#f0f921"
             ]
            ],
            "type": "heatmapgl"
           }
          ],
          "histogram": [
           {
            "marker": {
             "pattern": {
              "fillmode": "overlay",
              "size": 10,
              "solidity": 0.2
             }
            },
            "type": "histogram"
           }
          ],
          "histogram2d": [
           {
            "colorbar": {
             "outlinewidth": 0,
             "ticks": ""
            },
            "colorscale": [
             [
              0,
              "#0d0887"
             ],
             [
              0.1111111111111111,
              "#46039f"
             ],
             [
              0.2222222222222222,
              "#7201a8"
             ],
             [
              0.3333333333333333,
              "#9c179e"
             ],
             [
              0.4444444444444444,
              "#bd3786"
             ],
             [
              0.5555555555555556,
              "#d8576b"
             ],
             [
              0.6666666666666666,
              "#ed7953"
             ],
             [
              0.7777777777777778,
              "#fb9f3a"
             ],
             [
              0.8888888888888888,
              "#fdca26"
             ],
             [
              1,
              "#f0f921"
             ]
            ],
            "type": "histogram2d"
           }
          ],
          "histogram2dcontour": [
           {
            "colorbar": {
             "outlinewidth": 0,
             "ticks": ""
            },
            "colorscale": [
             [
              0,
              "#0d0887"
             ],
             [
              0.1111111111111111,
              "#46039f"
             ],
             [
              0.2222222222222222,
              "#7201a8"
             ],
             [
              0.3333333333333333,
              "#9c179e"
             ],
             [
              0.4444444444444444,
              "#bd3786"
             ],
             [
              0.5555555555555556,
              "#d8576b"
             ],
             [
              0.6666666666666666,
              "#ed7953"
             ],
             [
              0.7777777777777778,
              "#fb9f3a"
             ],
             [
              0.8888888888888888,
              "#fdca26"
             ],
             [
              1,
              "#f0f921"
             ]
            ],
            "type": "histogram2dcontour"
           }
          ],
          "mesh3d": [
           {
            "colorbar": {
             "outlinewidth": 0,
             "ticks": ""
            },
            "type": "mesh3d"
           }
          ],
          "parcoords": [
           {
            "line": {
             "colorbar": {
              "outlinewidth": 0,
              "ticks": ""
             }
            },
            "type": "parcoords"
           }
          ],
          "pie": [
           {
            "automargin": true,
            "type": "pie"
           }
          ],
          "scatter": [
           {
            "fillpattern": {
             "fillmode": "overlay",
             "size": 10,
             "solidity": 0.2
            },
            "type": "scatter"
           }
          ],
          "scatter3d": [
           {
            "line": {
             "colorbar": {
              "outlinewidth": 0,
              "ticks": ""
             }
            },
            "marker": {
             "colorbar": {
              "outlinewidth": 0,
              "ticks": ""
             }
            },
            "type": "scatter3d"
           }
          ],
          "scattercarpet": [
           {
            "marker": {
             "colorbar": {
              "outlinewidth": 0,
              "ticks": ""
             }
            },
            "type": "scattercarpet"
           }
          ],
          "scattergeo": [
           {
            "marker": {
             "colorbar": {
              "outlinewidth": 0,
              "ticks": ""
             }
            },
            "type": "scattergeo"
           }
          ],
          "scattergl": [
           {
            "marker": {
             "colorbar": {
              "outlinewidth": 0,
              "ticks": ""
             }
            },
            "type": "scattergl"
           }
          ],
          "scattermapbox": [
           {
            "marker": {
             "colorbar": {
              "outlinewidth": 0,
              "ticks": ""
             }
            },
            "type": "scattermapbox"
           }
          ],
          "scatterpolar": [
           {
            "marker": {
             "colorbar": {
              "outlinewidth": 0,
              "ticks": ""
             }
            },
            "type": "scatterpolar"
           }
          ],
          "scatterpolargl": [
           {
            "marker": {
             "colorbar": {
              "outlinewidth": 0,
              "ticks": ""
             }
            },
            "type": "scatterpolargl"
           }
          ],
          "scatterternary": [
           {
            "marker": {
             "colorbar": {
              "outlinewidth": 0,
              "ticks": ""
             }
            },
            "type": "scatterternary"
           }
          ],
          "surface": [
           {
            "colorbar": {
             "outlinewidth": 0,
             "ticks": ""
            },
            "colorscale": [
             [
              0,
              "#0d0887"
             ],
             [
              0.1111111111111111,
              "#46039f"
             ],
             [
              0.2222222222222222,
              "#7201a8"
             ],
             [
              0.3333333333333333,
              "#9c179e"
             ],
             [
              0.4444444444444444,
              "#bd3786"
             ],
             [
              0.5555555555555556,
              "#d8576b"
             ],
             [
              0.6666666666666666,
              "#ed7953"
             ],
             [
              0.7777777777777778,
              "#fb9f3a"
             ],
             [
              0.8888888888888888,
              "#fdca26"
             ],
             [
              1,
              "#f0f921"
             ]
            ],
            "type": "surface"
           }
          ],
          "table": [
           {
            "cells": {
             "fill": {
              "color": "#EBF0F8"
             },
             "line": {
              "color": "white"
             }
            },
            "header": {
             "fill": {
              "color": "#C8D4E3"
             },
             "line": {
              "color": "white"
             }
            },
            "type": "table"
           }
          ]
         },
         "layout": {
          "annotationdefaults": {
           "arrowcolor": "#2a3f5f",
           "arrowhead": 0,
           "arrowwidth": 1
          },
          "autotypenumbers": "strict",
          "coloraxis": {
           "colorbar": {
            "outlinewidth": 0,
            "ticks": ""
           }
          },
          "colorscale": {
           "diverging": [
            [
             0,
             "#8e0152"
            ],
            [
             0.1,
             "#c51b7d"
            ],
            [
             0.2,
             "#de77ae"
            ],
            [
             0.3,
             "#f1b6da"
            ],
            [
             0.4,
             "#fde0ef"
            ],
            [
             0.5,
             "#f7f7f7"
            ],
            [
             0.6,
             "#e6f5d0"
            ],
            [
             0.7,
             "#b8e186"
            ],
            [
             0.8,
             "#7fbc41"
            ],
            [
             0.9,
             "#4d9221"
            ],
            [
             1,
             "#276419"
            ]
           ],
           "sequential": [
            [
             0,
             "#0d0887"
            ],
            [
             0.1111111111111111,
             "#46039f"
            ],
            [
             0.2222222222222222,
             "#7201a8"
            ],
            [
             0.3333333333333333,
             "#9c179e"
            ],
            [
             0.4444444444444444,
             "#bd3786"
            ],
            [
             0.5555555555555556,
             "#d8576b"
            ],
            [
             0.6666666666666666,
             "#ed7953"
            ],
            [
             0.7777777777777778,
             "#fb9f3a"
            ],
            [
             0.8888888888888888,
             "#fdca26"
            ],
            [
             1,
             "#f0f921"
            ]
           ],
           "sequentialminus": [
            [
             0,
             "#0d0887"
            ],
            [
             0.1111111111111111,
             "#46039f"
            ],
            [
             0.2222222222222222,
             "#7201a8"
            ],
            [
             0.3333333333333333,
             "#9c179e"
            ],
            [
             0.4444444444444444,
             "#bd3786"
            ],
            [
             0.5555555555555556,
             "#d8576b"
            ],
            [
             0.6666666666666666,
             "#ed7953"
            ],
            [
             0.7777777777777778,
             "#fb9f3a"
            ],
            [
             0.8888888888888888,
             "#fdca26"
            ],
            [
             1,
             "#f0f921"
            ]
           ]
          },
          "colorway": [
           "#636efa",
           "#EF553B",
           "#00cc96",
           "#ab63fa",
           "#FFA15A",
           "#19d3f3",
           "#FF6692",
           "#B6E880",
           "#FF97FF",
           "#FECB52"
          ],
          "font": {
           "color": "#2a3f5f"
          },
          "geo": {
           "bgcolor": "white",
           "lakecolor": "white",
           "landcolor": "#E5ECF6",
           "showlakes": true,
           "showland": true,
           "subunitcolor": "white"
          },
          "hoverlabel": {
           "align": "left"
          },
          "hovermode": "closest",
          "mapbox": {
           "style": "light"
          },
          "paper_bgcolor": "white",
          "plot_bgcolor": "#E5ECF6",
          "polar": {
           "angularaxis": {
            "gridcolor": "white",
            "linecolor": "white",
            "ticks": ""
           },
           "bgcolor": "#E5ECF6",
           "radialaxis": {
            "gridcolor": "white",
            "linecolor": "white",
            "ticks": ""
           }
          },
          "scene": {
           "xaxis": {
            "backgroundcolor": "#E5ECF6",
            "gridcolor": "white",
            "gridwidth": 2,
            "linecolor": "white",
            "showbackground": true,
            "ticks": "",
            "zerolinecolor": "white"
           },
           "yaxis": {
            "backgroundcolor": "#E5ECF6",
            "gridcolor": "white",
            "gridwidth": 2,
            "linecolor": "white",
            "showbackground": true,
            "ticks": "",
            "zerolinecolor": "white"
           },
           "zaxis": {
            "backgroundcolor": "#E5ECF6",
            "gridcolor": "white",
            "gridwidth": 2,
            "linecolor": "white",
            "showbackground": true,
            "ticks": "",
            "zerolinecolor": "white"
           }
          },
          "shapedefaults": {
           "line": {
            "color": "#2a3f5f"
           }
          },
          "ternary": {
           "aaxis": {
            "gridcolor": "white",
            "linecolor": "white",
            "ticks": ""
           },
           "baxis": {
            "gridcolor": "white",
            "linecolor": "white",
            "ticks": ""
           },
           "bgcolor": "#E5ECF6",
           "caxis": {
            "gridcolor": "white",
            "linecolor": "white",
            "ticks": ""
           }
          },
          "title": {
           "x": 0.05
          },
          "xaxis": {
           "automargin": true,
           "gridcolor": "white",
           "linecolor": "white",
           "ticks": "",
           "title": {
            "standoff": 15
           },
           "zerolinecolor": "white",
           "zerolinewidth": 2
          },
          "yaxis": {
           "automargin": true,
           "gridcolor": "white",
           "linecolor": "white",
           "ticks": "",
           "title": {
            "standoff": 15
           },
           "zerolinecolor": "white",
           "zerolinewidth": 2
          }
         }
        },
        "title": {
         "text": "Emissions over Time in Europe"
        },
        "xaxis": {
         "anchor": "y",
         "domain": [
          0,
          1
         ],
         "title": {
          "text": "Year"
         }
        },
        "yaxis": {
         "anchor": "x",
         "domain": [
          0,
          1
         ],
         "title": {
          "text": "Emissions"
         }
        }
       }
      }
     },
     "metadata": {},
     "output_type": "display_data"
    }
   ],
   "source": [
    "fig = px.line(\n",
    "    combined,\n",
    "    x='year',\n",
    "    y='environment',\n",
    "    color='country',\n",
    "    labels={'year': 'Year', 'environment': 'Emissions'},\n",
    "    title='Emissions over Time in Europe',\n",
    "    hover_data=['country', 'year']\n",
    ")\n",
    "fig"
   ]
  },
  {
   "cell_type": "code",
   "execution_count": 35,
   "id": "0360e3ca",
   "metadata": {},
   "outputs": [
    {
     "data": {
      "application/vnd.plotly.v1+json": {
       "config": {
        "plotlyServerURL": "https://plot.ly"
       },
       "data": [
        {
         "customdata": [
          [
           "Austria"
          ],
          [
           "Austria"
          ],
          [
           "Austria"
          ],
          [
           "Austria"
          ],
          [
           "Austria"
          ],
          [
           "Austria"
          ],
          [
           "Austria"
          ],
          [
           "Austria"
          ],
          [
           "Austria"
          ],
          [
           "Austria"
          ],
          [
           "Austria"
          ]
         ],
         "hovertemplate": "country=%{customdata[0]}<br>Year=%{x}<br>Transit Passengers=%{y}<extra></extra>",
         "legendgroup": "Austria",
         "line": {
          "color": "#636efa",
          "dash": "solid"
         },
         "marker": {
          "symbol": "circle"
         },
         "mode": "lines",
         "name": "Austria",
         "orientation": "v",
         "showlegend": true,
         "type": "scatter",
         "x": [
          2011,
          2012,
          2014,
          2015,
          2016,
          2017,
          2018,
          2019,
          2020,
          2021,
          2022
         ],
         "xaxis": "x",
         "y": [
          -0.08475136896344862,
          -0.050660136236899904,
          -0.032000786816487416,
          -0.015581636345249988,
          -0.003142070064974995,
          -0.0004261878453420852,
          0.03393788962501642,
          0.04694289073621301,
          -0.17495886735434898,
          -0.12787699376627787,
          0.00671085624273488
         ],
         "yaxis": "y"
        },
        {
         "customdata": [
          [
           "Belgium"
          ]
         ],
         "hovertemplate": "country=%{customdata[0]}<br>Year=%{x}<br>Transit Passengers=%{y}<extra></extra>",
         "legendgroup": "Belgium",
         "line": {
          "color": "#EF553B",
          "dash": "solid"
         },
         "marker": {
          "symbol": "circle"
         },
         "mode": "lines",
         "name": "Belgium",
         "orientation": "v",
         "showlegend": true,
         "type": "scatter",
         "x": [
          2011
         ],
         "xaxis": "x",
         "y": [
          -0.1076793025995168
         ],
         "yaxis": "y"
        },
        {
         "customdata": [
          [
           "Bulgaria"
          ],
          [
           "Bulgaria"
          ],
          [
           "Bulgaria"
          ],
          [
           "Bulgaria"
          ],
          [
           "Bulgaria"
          ],
          [
           "Bulgaria"
          ],
          [
           "Bulgaria"
          ],
          [
           "Bulgaria"
          ],
          [
           "Bulgaria"
          ],
          [
           "Bulgaria"
          ],
          [
           "Bulgaria"
          ]
         ],
         "hovertemplate": "country=%{customdata[0]}<br>Year=%{x}<br>Transit Passengers=%{y}<extra></extra>",
         "legendgroup": "Bulgaria",
         "line": {
          "color": "#00cc96",
          "dash": "solid"
         },
         "marker": {
          "symbol": "circle"
         },
         "mode": "lines",
         "name": "Bulgaria",
         "orientation": "v",
         "showlegend": true,
         "type": "scatter",
         "x": [
          2011,
          2012,
          2014,
          2015,
          2016,
          2017,
          2018,
          2019,
          2020,
          2021,
          2022
         ],
         "xaxis": "x",
         "y": [
          -0.46572699778874216,
          -0.4707153895193171,
          -0.47411338359847444,
          -0.4778775640443239,
          -0.47983953315606137,
          -0.4802523903341946,
          -0.48001185615215175,
          -0.48001185615215175,
          -0.4881271922492835,
          -0.4875276518253857,
          -0.47689568197285054
         ],
         "yaxis": "y"
        },
        {
         "customdata": [
          [
           "Croatia"
          ],
          [
           "Croatia"
          ],
          [
           "Croatia"
          ],
          [
           "Croatia"
          ],
          [
           "Croatia"
          ],
          [
           "Croatia"
          ],
          [
           "Croatia"
          ],
          [
           "Croatia"
          ],
          [
           "Croatia"
          ],
          [
           "Croatia"
          ],
          [
           "Croatia"
          ]
         ],
         "hovertemplate": "country=%{customdata[0]}<br>Year=%{x}<br>Transit Passengers=%{y}<extra></extra>",
         "legendgroup": "Croatia",
         "line": {
          "color": "#ab63fa",
          "dash": "solid"
         },
         "marker": {
          "symbol": "circle"
         },
         "mode": "lines",
         "name": "Croatia",
         "orientation": "v",
         "showlegend": true,
         "type": "scatter",
         "x": [
          2011,
          2012,
          2014,
          2015,
          2016,
          2017,
          2018,
          2019,
          2020,
          2021,
          2022
         ],
         "xaxis": "x",
         "y": [
          -0.428812180970004,
          -0.4687982961878115,
          -0.4790066386749578,
          -0.47943744616518374,
          -0.4811247755019022,
          -0.4827510737775052,
          -0.481959465014215,
          -0.4827079930284826,
          -0.4947831679732748,
          -0.4940041244284495,
          -0.48494460191523914
         ],
         "yaxis": "y"
        },
        {
         "customdata": [
          [
           "Czechia"
          ],
          [
           "Czechia"
          ],
          [
           "Czechia"
          ],
          [
           "Czechia"
          ],
          [
           "Czechia"
          ],
          [
           "Czechia"
          ],
          [
           "Czechia"
          ],
          [
           "Czechia"
          ],
          [
           "Czechia"
          ],
          [
           "Czechia"
          ],
          [
           "Czechia"
          ]
         ],
         "hovertemplate": "country=%{customdata[0]}<br>Year=%{x}<br>Transit Passengers=%{y}<extra></extra>",
         "legendgroup": "Czechia",
         "line": {
          "color": "#FFA15A",
          "dash": "solid"
         },
         "marker": {
          "symbol": "circle"
         },
         "mode": "lines",
         "name": "Czechia",
         "orientation": "v",
         "showlegend": true,
         "type": "scatter",
         "x": [
          2011,
          2012,
          2014,
          2015,
          2016,
          2017,
          2018,
          2019,
          2020,
          2021,
          2022
         ],
         "xaxis": "x",
         "y": [
          -0.21711158524175125,
          -0.20851159071811523,
          -0.2029021181891312,
          -0.20211050942584097,
          -0.19740752765754077,
          -0.19030279413123075,
          -0.17852020927355036,
          -0.17083568066664456,
          -0.2861861812058583,
          -0.2758198759722958,
          -0.205375671195512
         ],
         "yaxis": "y"
        },
        {
         "customdata": [
          [
           "Denmark"
          ],
          [
           "Denmark"
          ],
          [
           "Denmark"
          ],
          [
           "Denmark"
          ],
          [
           "Denmark"
          ],
          [
           "Denmark"
          ],
          [
           "Denmark"
          ],
          [
           "Denmark"
          ],
          [
           "Denmark"
          ],
          [
           "Denmark"
          ],
          [
           "Denmark"
          ]
         ],
         "hovertemplate": "country=%{customdata[0]}<br>Year=%{x}<br>Transit Passengers=%{y}<extra></extra>",
         "legendgroup": "Denmark",
         "line": {
          "color": "#19d3f3",
          "dash": "solid"
         },
         "marker": {
          "symbol": "circle"
         },
         "mode": "lines",
         "name": "Denmark",
         "orientation": "v",
         "showlegend": true,
         "type": "scatter",
         "x": [
          2011,
          2012,
          2014,
          2015,
          2016,
          2017,
          2018,
          2019,
          2020,
          2021,
          2022
         ],
         "xaxis": "x",
         "y": [
          -0.16929374885787743,
          -0.15588307069338472,
          -0.14437333057951413,
          -0.1372973175525525,
          -0.13883027420527325,
          -0.1475056600396988,
          -0.1497656043321759,
          -0.14744283394737417,
          -0.27794339789286804,
          -0.27762747240003566,
          -0.1864021913134764
         ],
         "yaxis": "y"
        },
        {
         "customdata": [
          [
           "Estonia"
          ],
          [
           "Estonia"
          ],
          [
           "Estonia"
          ],
          [
           "Estonia"
          ],
          [
           "Estonia"
          ],
          [
           "Estonia"
          ],
          [
           "Estonia"
          ],
          [
           "Estonia"
          ],
          [
           "Estonia"
          ],
          [
           "Estonia"
          ],
          [
           "Estonia"
          ]
         ],
         "hovertemplate": "country=%{customdata[0]}<br>Year=%{x}<br>Transit Passengers=%{y}<extra></extra>",
         "legendgroup": "Estonia",
         "line": {
          "color": "#FF6692",
          "dash": "solid"
         },
         "marker": {
          "symbol": "circle"
         },
         "mode": "lines",
         "name": "Estonia",
         "orientation": "v",
         "showlegend": true,
         "type": "scatter",
         "x": [
          2011,
          2012,
          2014,
          2015,
          2016,
          2017,
          2018,
          2019,
          2020,
          2021,
          2022
         ],
         "xaxis": "x",
         "y": [
          -0.509757318321046,
          -0.5103801941506644,
          -0.5076984175240077,
          -0.5063449639922144,
          -0.505865690659338,
          -0.5049556098362357,
          -0.504370429662012,
          -0.5032682804995172,
          -0.507556610058475,
          -0.5073896721560124,
          -0.5055012993238552
         ],
         "yaxis": "y"
        },
        {
         "customdata": [
          [
           "Finland"
          ],
          [
           "Finland"
          ],
          [
           "Finland"
          ],
          [
           "Finland"
          ],
          [
           "Finland"
          ],
          [
           "Finland"
          ],
          [
           "Finland"
          ],
          [
           "Finland"
          ],
          [
           "Finland"
          ],
          [
           "Finland"
          ],
          [
           "Finland"
          ]
         ],
         "hovertemplate": "country=%{customdata[0]}<br>Year=%{x}<br>Transit Passengers=%{y}<extra></extra>",
         "legendgroup": "Finland",
         "line": {
          "color": "#B6E880",
          "dash": "solid"
         },
         "marker": {
          "symbol": "circle"
         },
         "mode": "lines",
         "name": "Finland",
         "orientation": "v",
         "showlegend": true,
         "type": "scatter",
         "x": [
          2011,
          2012,
          2014,
          2015,
          2016,
          2017,
          2018,
          2019,
          2020,
          2021,
          2022
         ],
         "xaxis": "x",
         "y": [
          -0.3955610228493959,
          -0.39384676804453844,
          -0.3957656564072533,
          -0.3819618664079294,
          -0.3709008840963775,
          -0.3644585170862899,
          -0.3612292559408044,
          -0.35171738556285675,
          -0.4114039683024561,
          -0.4195552050237734,
          -0.3817159471322587
         ],
         "yaxis": "y"
        },
        {
         "customdata": [
          [
           "France"
          ],
          [
           "France"
          ],
          [
           "France"
          ],
          [
           "France"
          ],
          [
           "France"
          ],
          [
           "France"
          ],
          [
           "France"
          ],
          [
           "France"
          ],
          [
           "France"
          ],
          [
           "France"
          ]
         ],
         "hovertemplate": "country=%{customdata[0]}<br>Year=%{x}<br>Transit Passengers=%{y}<extra></extra>",
         "legendgroup": "France",
         "line": {
          "color": "#FF97FF",
          "dash": "solid"
         },
         "marker": {
          "symbol": "circle"
         },
         "mode": "lines",
         "name": "France",
         "orientation": "v",
         "showlegend": true,
         "type": "scatter",
         "x": [
          2012,
          2014,
          2015,
          2016,
          2017,
          2018,
          2019,
          2020,
          2021,
          2022
         ],
         "xaxis": "x",
         "y": [
          1.546520938120503,
          1.55977185850737,
          1.6432803004252567,
          1.698558286514877,
          1.7743032184526495,
          1.7193519280431173,
          1.753299558272924,
          0.7809616677392734,
          1.0874219610051477,
          1.5313080486218982
         ],
         "yaxis": "y"
        },
        {
         "customdata": [
          [
           "Germany"
          ],
          [
           "Germany"
          ],
          [
           "Germany"
          ],
          [
           "Germany"
          ],
          [
           "Germany"
          ],
          [
           "Germany"
          ],
          [
           "Germany"
          ],
          [
           "Germany"
          ],
          [
           "Germany"
          ],
          [
           "Germany"
          ],
          [
           "Germany"
          ]
         ],
         "hovertemplate": "country=%{customdata[0]}<br>Year=%{x}<br>Transit Passengers=%{y}<extra></extra>",
         "legendgroup": "Germany",
         "line": {
          "color": "#FECB52",
          "dash": "solid"
         },
         "marker": {
          "symbol": "circle"
         },
         "mode": "lines",
         "name": "Germany",
         "orientation": "v",
         "showlegend": true,
         "type": "scatter",
         "x": [
          2011,
          2012,
          2014,
          2015,
          2016,
          2017,
          2018,
          2019,
          2020,
          2021,
          2022
         ],
         "xaxis": "x",
         "y": [
          4.023640671514132,
          4.085055869308262,
          4.315864572259247,
          4.301195577217052,
          4.532528429281144,
          4.564230475468149,
          4.652393433311684,
          4.755544901752666,
          2.626952018014269,
          2.6434483548275054,
          3.9797916491339644
         ],
         "yaxis": "y"
        },
        {
         "customdata": [
          [
           "Greece"
          ],
          [
           "Greece"
          ],
          [
           "Greece"
          ],
          [
           "Greece"
          ],
          [
           "Greece"
          ],
          [
           "Greece"
          ],
          [
           "Greece"
          ],
          [
           "Greece"
          ],
          [
           "Greece"
          ],
          [
           "Greece"
          ],
          [
           "Greece"
          ]
         ],
         "hovertemplate": "country=%{customdata[0]}<br>Year=%{x}<br>Transit Passengers=%{y}<extra></extra>",
         "legendgroup": "Greece",
         "line": {
          "color": "#636efa",
          "dash": "solid"
         },
         "marker": {
          "symbol": "circle"
         },
         "mode": "lines",
         "name": "Greece",
         "orientation": "v",
         "showlegend": true,
         "type": "scatter",
         "x": [
          2011,
          2012,
          2014,
          2015,
          2016,
          2017,
          2018,
          2019,
          2020,
          2021,
          2022
         ],
         "xaxis": "x",
         "y": [
          -0.4944151865753735,
          -0.4955765717677743,
          -0.4942464536417016,
          -0.4895057762180066,
          -0.49032790051185454,
          -0.49072819247152283,
          -0.4881505276550041,
          -0.4831172601441973,
          -0.4999528578559865,
          -0.500295708816958,
          -0.4906169005365478
         ],
         "yaxis": "y"
        },
        {
         "customdata": [
          [
           "Hungary"
          ],
          [
           "Hungary"
          ],
          [
           "Hungary"
          ]
         ],
         "hovertemplate": "country=%{customdata[0]}<br>Year=%{x}<br>Transit Passengers=%{y}<extra></extra>",
         "legendgroup": "Hungary",
         "line": {
          "color": "#EF553B",
          "dash": "solid"
         },
         "marker": {
          "symbol": "circle"
         },
         "mode": "lines",
         "name": "Hungary",
         "orientation": "v",
         "showlegend": true,
         "type": "scatter",
         "x": [
          2011,
          2012,
          2014
         ],
         "xaxis": "x",
         "y": [
          -0.2570115389615135,
          -0.2531935075793858,
          -0.2562055699485491
         ],
         "yaxis": "y"
        },
        {
         "customdata": [
          [
           "Ireland"
          ],
          [
           "Ireland"
          ],
          [
           "Ireland"
          ],
          [
           "Ireland"
          ],
          [
           "Ireland"
          ],
          [
           "Ireland"
          ],
          [
           "Ireland"
          ],
          [
           "Ireland"
          ],
          [
           "Ireland"
          ],
          [
           "Ireland"
          ],
          [
           "Ireland"
          ]
         ],
         "hovertemplate": "country=%{customdata[0]}<br>Year=%{x}<br>Transit Passengers=%{y}<extra></extra>",
         "legendgroup": "Ireland",
         "line": {
          "color": "#00cc96",
          "dash": "solid"
         },
         "marker": {
          "symbol": "circle"
         },
         "mode": "lines",
         "name": "Ireland",
         "orientation": "v",
         "showlegend": true,
         "type": "scatter",
         "x": [
          2011,
          2012,
          2014,
          2015,
          2016,
          2017,
          2018,
          2019,
          2020,
          2021,
          2022
         ],
         "xaxis": "x",
         "y": [
          -0.45120878536812686,
          -0.45202911463076545,
          -0.44915885972713493,
          -0.4471071390549337,
          -0.4414348404336251,
          -0.43661518163672197,
          -0.43220838001795214,
          -0.42843881447847487,
          -0.4861131672324771,
          -0.48704478843009075,
          -0.4539551831183174
         ],
         "yaxis": "y"
        },
        {
         "customdata": [
          [
           "Italy"
          ],
          [
           "Italy"
          ],
          [
           "Italy"
          ],
          [
           "Italy"
          ],
          [
           "Italy"
          ],
          [
           "Italy"
          ],
          [
           "Italy"
          ],
          [
           "Italy"
          ],
          [
           "Italy"
          ],
          [
           "Italy"
          ]
         ],
         "hovertemplate": "country=%{customdata[0]}<br>Year=%{x}<br>Transit Passengers=%{y}<extra></extra>",
         "legendgroup": "Italy",
         "line": {
          "color": "#ab63fa",
          "dash": "solid"
         },
         "marker": {
          "symbol": "circle"
         },
         "mode": "lines",
         "name": "Italy",
         "orientation": "v",
         "showlegend": true,
         "type": "scatter",
         "x": [
          2012,
          2014,
          2015,
          2016,
          2017,
          2018,
          2019,
          2020,
          2021,
          2022
         ],
         "xaxis": "x",
         "y": [
          1.0161592219969344,
          1.0328296768374703,
          1.0480874421163069,
          1.0419412552557497,
          1.0336320557880163,
          1.0653556423495314,
          1.0944872038448537,
          0.18155407615094635,
          0.36446596134484843,
          0.7267427500631254
         ],
         "yaxis": "y"
        },
        {
         "customdata": [
          [
           "Latvia"
          ],
          [
           "Latvia"
          ],
          [
           "Latvia"
          ],
          [
           "Latvia"
          ],
          [
           "Latvia"
          ],
          [
           "Latvia"
          ],
          [
           "Latvia"
          ],
          [
           "Latvia"
          ],
          [
           "Latvia"
          ],
          [
           "Latvia"
          ],
          [
           "Latvia"
          ]
         ],
         "hovertemplate": "country=%{customdata[0]}<br>Year=%{x}<br>Transit Passengers=%{y}<extra></extra>",
         "legendgroup": "Latvia",
         "line": {
          "color": "#FFA15A",
          "dash": "solid"
         },
         "marker": {
          "symbol": "circle"
         },
         "mode": "lines",
         "name": "Latvia",
         "orientation": "v",
         "showlegend": true,
         "type": "scatter",
         "x": [
          2011,
          2012,
          2014,
          2015,
          2016,
          2017,
          2018,
          2019,
          2020,
          2021,
          2022
         ],
         "xaxis": "x",
         "y": [
          -0.48159507367873217,
          -0.4829233967735956,
          -0.4838514279087907,
          -0.48766586922849986,
          -0.48737327914138806,
          -0.48689580083972095,
          -0.4855531174951833,
          -0.4848692106044496,
          -0.49521038540108225,
          -0.49820449745815276,
          -0.49012685701641573
         ],
         "yaxis": "y"
        },
        {
         "customdata": [
          [
           "Lithuania"
          ],
          [
           "Lithuania"
          ],
          [
           "Lithuania"
          ],
          [
           "Lithuania"
          ],
          [
           "Lithuania"
          ],
          [
           "Lithuania"
          ],
          [
           "Lithuania"
          ],
          [
           "Lithuania"
          ],
          [
           "Lithuania"
          ],
          [
           "Lithuania"
          ],
          [
           "Lithuania"
          ]
         ],
         "hovertemplate": "country=%{customdata[0]}<br>Year=%{x}<br>Transit Passengers=%{y}<extra></extra>",
         "legendgroup": "Lithuania",
         "line": {
          "color": "#19d3f3",
          "dash": "solid"
         },
         "marker": {
          "symbol": "circle"
         },
         "mode": "lines",
         "name": "Lithuania",
         "orientation": "v",
         "showlegend": true,
         "type": "scatter",
         "x": [
          2011,
          2012,
          2014,
          2015,
          2016,
          2017,
          2018,
          2019,
          2020,
          2021,
          2022
         ],
         "xaxis": "x",
         "y": [
          -0.5108899830140984,
          -0.5106673991441483,
          -0.5108917780453077,
          -0.511494908531624,
          -0.5112687345992554,
          -0.510802026484844,
          -0.5099242562235086,
          -0.5093390760492849,
          -0.5124857657591437,
          -0.5112112936005586,
          -0.5102850574965727
         ],
         "yaxis": "y"
        },
        {
         "customdata": [
          [
           "Luxembourg"
          ],
          [
           "Luxembourg"
          ],
          [
           "Luxembourg"
          ],
          [
           "Luxembourg"
          ],
          [
           "Luxembourg"
          ],
          [
           "Luxembourg"
          ],
          [
           "Luxembourg"
          ],
          [
           "Luxembourg"
          ],
          [
           "Luxembourg"
          ],
          [
           "Luxembourg"
          ],
          [
           "Luxembourg"
          ]
         ],
         "hovertemplate": "country=%{customdata[0]}<br>Year=%{x}<br>Transit Passengers=%{y}<extra></extra>",
         "legendgroup": "Luxembourg",
         "line": {
          "color": "#FF6692",
          "dash": "solid"
         },
         "marker": {
          "symbol": "circle"
         },
         "mode": "lines",
         "name": "Luxembourg",
         "orientation": "v",
         "showlegend": true,
         "type": "scatter",
         "x": [
          2011,
          2012,
          2014,
          2015,
          2016,
          2017,
          2018,
          2019,
          2020,
          2021,
          2022
         ],
         "xaxis": "x",
         "y": [
          -0.48562850880597286,
          -0.482952117272944,
          -0.4796995207217379,
          -0.47791705473092794,
          -0.4779834708856711,
          -0.4771380111861026,
          -0.4764182036711834,
          -0.4733935760835552,
          -0.49222165843763954,
          -0.4885095338968591,
          -0.47873917902477586
         ],
         "yaxis": "y"
        },
        {
         "customdata": [
          [
           "Poland"
          ],
          [
           "Poland"
          ],
          [
           "Poland"
          ],
          [
           "Poland"
          ],
          [
           "Poland"
          ],
          [
           "Poland"
          ]
         ],
         "hovertemplate": "country=%{customdata[0]}<br>Year=%{x}<br>Transit Passengers=%{y}<extra></extra>",
         "legendgroup": "Poland",
         "line": {
          "color": "#B6E880",
          "dash": "solid"
         },
         "marker": {
          "symbol": "circle"
         },
         "mode": "lines",
         "name": "Poland",
         "orientation": "v",
         "showlegend": true,
         "type": "scatter",
         "x": [
          2011,
          2012,
          2014,
          2015,
          2016,
          2017
         ],
         "xaxis": "x",
         "y": [
          -0.08918868611277615,
          -0.040800029804352926,
          -0.051123254288892826,
          -0.03424278079687175,
          -0.0065454492377601875,
          0.011943372217771187
         ],
         "yaxis": "y"
        },
        {
         "customdata": [
          [
           "Portugal"
          ],
          [
           "Portugal"
          ],
          [
           "Portugal"
          ],
          [
           "Portugal"
          ],
          [
           "Portugal"
          ],
          [
           "Portugal"
          ],
          [
           "Portugal"
          ],
          [
           "Portugal"
          ],
          [
           "Portugal"
          ],
          [
           "Portugal"
          ],
          [
           "Portugal"
          ]
         ],
         "hovertemplate": "country=%{customdata[0]}<br>Year=%{x}<br>Transit Passengers=%{y}<extra></extra>",
         "legendgroup": "Portugal",
         "line": {
          "color": "#FF97FF",
          "dash": "solid"
         },
         "marker": {
          "symbol": "circle"
         },
         "mode": "lines",
         "name": "Portugal",
         "orientation": "v",
         "showlegend": true,
         "type": "scatter",
         "x": [
          2011,
          2012,
          2014,
          2015,
          2016,
          2017,
          2018,
          2019,
          2020,
          2021,
          2022
         ],
         "xaxis": "x",
         "y": [
          -0.25049916573426423,
          -0.280973410574124,
          -0.2880045478208538,
          -0.28418831146993534,
          -0.27871167125043766,
          -0.2631756761341635,
          -0.25338557591877825,
          -0.20325035424373053,
          -0.3347615207600461,
          -0.301634219792878,
          -0.21017558464911307
         ],
         "yaxis": "y"
        },
        {
         "customdata": [
          [
           "Romania"
          ],
          [
           "Romania"
          ],
          [
           "Romania"
          ],
          [
           "Romania"
          ],
          [
           "Romania"
          ],
          [
           "Romania"
          ],
          [
           "Romania"
          ],
          [
           "Romania"
          ],
          [
           "Romania"
          ],
          [
           "Romania"
          ],
          [
           "Romania"
          ]
         ],
         "hovertemplate": "country=%{customdata[0]}<br>Year=%{x}<br>Transit Passengers=%{y}<extra></extra>",
         "legendgroup": "Romania",
         "line": {
          "color": "#FECB52",
          "dash": "solid"
         },
         "marker": {
          "symbol": "circle"
         },
         "mode": "lines",
         "name": "Romania",
         "orientation": "v",
         "showlegend": true,
         "type": "scatter",
         "x": [
          2011,
          2012,
          2014,
          2015,
          2016,
          2017,
          2018,
          2019,
          2020,
          2021,
          2022
         ],
         "xaxis": "x",
         "y": [
          -0.4088532289540765,
          -0.4150299313451914,
          -0.4020680109830174,
          -0.3989661970533904,
          -0.4025993402209628,
          -0.394340401627089,
          -0.3989285013979956,
          -0.3931718363098511,
          -0.4275430939050467,
          -0.4196844472708412,
          -0.39181299768442995
         ],
         "yaxis": "y"
        },
        {
         "customdata": [
          [
           "Slovakia"
          ],
          [
           "Slovakia"
          ],
          [
           "Slovakia"
          ],
          [
           "Slovakia"
          ],
          [
           "Slovakia"
          ],
          [
           "Slovakia"
          ],
          [
           "Slovakia"
          ],
          [
           "Slovakia"
          ],
          [
           "Slovakia"
          ],
          [
           "Slovakia"
          ],
          [
           "Slovakia"
          ]
         ],
         "hovertemplate": "country=%{customdata[0]}<br>Year=%{x}<br>Transit Passengers=%{y}<extra></extra>",
         "legendgroup": "Slovakia",
         "line": {
          "color": "#636efa",
          "dash": "solid"
         },
         "marker": {
          "symbol": "circle"
         },
         "mode": "lines",
         "name": "Slovakia",
         "orientation": "v",
         "showlegend": true,
         "type": "scatter",
         "x": [
          2011,
          2012,
          2014,
          2015,
          2016,
          2017,
          2018,
          2019,
          2020,
          2021,
          2022
         ],
         "xaxis": "x",
         "y": [
          -0.4331184608410545,
          -0.43822352960023225,
          -0.4301656345017973,
          -0.41007205514517414,
          -0.3941716686934172,
          -0.38382151874073817,
          -0.37960499043015145,
          -0.37349111413136116,
          -0.4295858394212015,
          -0.4359815356198479,
          -0.3985605200000943
         ],
         "yaxis": "y"
        },
        {
         "customdata": [
          [
           "Slovenia"
          ],
          [
           "Slovenia"
          ],
          [
           "Slovenia"
          ],
          [
           "Slovenia"
          ],
          [
           "Slovenia"
          ],
          [
           "Slovenia"
          ],
          [
           "Slovenia"
          ],
          [
           "Slovenia"
          ],
          [
           "Slovenia"
          ],
          [
           "Slovenia"
          ],
          [
           "Slovenia"
          ]
         ],
         "hovertemplate": "country=%{customdata[0]}<br>Year=%{x}<br>Transit Passengers=%{y}<extra></extra>",
         "legendgroup": "Slovenia",
         "line": {
          "color": "#EF553B",
          "dash": "solid"
         },
         "marker": {
          "symbol": "circle"
         },
         "mode": "lines",
         "name": "Slovenia",
         "orientation": "v",
         "showlegend": true,
         "type": "scatter",
         "x": [
          2011,
          2012,
          2014,
          2015,
          2016,
          2017,
          2018,
          2019,
          2020,
          2021,
          2022
         ],
         "xaxis": "x",
         "y": [
          -0.49080358378231237,
          -0.4912182359916549,
          -0.49238680130889284,
          -0.4929253106716753,
          -0.4937959008081736,
          -0.49495908103178377,
          -0.49477419281722845,
          -0.4944977580110001,
          -0.5040742495124817,
          -0.4973626278210028,
          -0.4933309877249714
         ],
         "yaxis": "y"
        },
        {
         "customdata": [
          [
           "Spain"
          ],
          [
           "Spain"
          ],
          [
           "Spain"
          ],
          [
           "Spain"
          ],
          [
           "Spain"
          ],
          [
           "Spain"
          ],
          [
           "Spain"
          ],
          [
           "Spain"
          ],
          [
           "Spain"
          ],
          [
           "Spain"
          ],
          [
           "Spain"
          ]
         ],
         "hovertemplate": "country=%{customdata[0]}<br>Year=%{x}<br>Transit Passengers=%{y}<extra></extra>",
         "legendgroup": "Spain",
         "line": {
          "color": "#00cc96",
          "dash": "solid"
         },
         "marker": {
          "symbol": "circle"
         },
         "mode": "lines",
         "name": "Spain",
         "orientation": "v",
         "showlegend": true,
         "type": "scatter",
         "x": [
          2011,
          2012,
          2014,
          2015,
          2016,
          2017,
          2018,
          2019,
          2020,
          2021,
          2022
         ],
         "xaxis": "x",
         "y": [
          0.5213373287857996,
          0.5023494886540899,
          0.4937423140056168,
          0.5010175754968079,
          0.5148716263699915,
          0.5592519779881039,
          0.5621527484222921,
          0.6214641696391531,
          0.08015994326384486,
          0.23292427929797516,
          0.4764256479297419
         ],
         "yaxis": "y"
        },
        {
         "customdata": [
          [
           "Sweden"
          ],
          [
           "Sweden"
          ],
          [
           "Sweden"
          ],
          [
           "Sweden"
          ],
          [
           "Sweden"
          ],
          [
           "Sweden"
          ],
          [
           "Sweden"
          ],
          [
           "Sweden"
          ],
          [
           "Sweden"
          ],
          [
           "Sweden"
          ]
         ],
         "hovertemplate": "country=%{customdata[0]}<br>Year=%{x}<br>Transit Passengers=%{y}<extra></extra>",
         "legendgroup": "Sweden",
         "line": {
          "color": "#ab63fa",
          "dash": "solid"
         },
         "marker": {
          "symbol": "circle"
         },
         "mode": "lines",
         "name": "Sweden",
         "orientation": "v",
         "showlegend": true,
         "type": "scatter",
         "x": [
          2011,
          2014,
          2015,
          2016,
          2017,
          2018,
          2019,
          2020,
          2021,
          2022
         ],
         "xaxis": "x",
         "y": [
          -0.1825285139638612,
          -0.14622400775627653,
          -0.13338235448512398,
          -0.12169490628153515,
          -0.10576938939284831,
          -0.07584083404060807,
          -0.04332743374701197,
          -0.21464521236020753,
          -0.2230333932011491,
          -0.08036072262556224
         ],
         "yaxis": "y"
        }
       ],
       "layout": {
        "legend": {
         "title": {
          "text": "country"
         },
         "tracegroupgap": 0
        },
        "template": {
         "data": {
          "bar": [
           {
            "error_x": {
             "color": "#2a3f5f"
            },
            "error_y": {
             "color": "#2a3f5f"
            },
            "marker": {
             "line": {
              "color": "#E5ECF6",
              "width": 0.5
             },
             "pattern": {
              "fillmode": "overlay",
              "size": 10,
              "solidity": 0.2
             }
            },
            "type": "bar"
           }
          ],
          "barpolar": [
           {
            "marker": {
             "line": {
              "color": "#E5ECF6",
              "width": 0.5
             },
             "pattern": {
              "fillmode": "overlay",
              "size": 10,
              "solidity": 0.2
             }
            },
            "type": "barpolar"
           }
          ],
          "carpet": [
           {
            "aaxis": {
             "endlinecolor": "#2a3f5f",
             "gridcolor": "white",
             "linecolor": "white",
             "minorgridcolor": "white",
             "startlinecolor": "#2a3f5f"
            },
            "baxis": {
             "endlinecolor": "#2a3f5f",
             "gridcolor": "white",
             "linecolor": "white",
             "minorgridcolor": "white",
             "startlinecolor": "#2a3f5f"
            },
            "type": "carpet"
           }
          ],
          "choropleth": [
           {
            "colorbar": {
             "outlinewidth": 0,
             "ticks": ""
            },
            "type": "choropleth"
           }
          ],
          "contour": [
           {
            "colorbar": {
             "outlinewidth": 0,
             "ticks": ""
            },
            "colorscale": [
             [
              0,
              "#0d0887"
             ],
             [
              0.1111111111111111,
              "#46039f"
             ],
             [
              0.2222222222222222,
              "#7201a8"
             ],
             [
              0.3333333333333333,
              "#9c179e"
             ],
             [
              0.4444444444444444,
              "#bd3786"
             ],
             [
              0.5555555555555556,
              "#d8576b"
             ],
             [
              0.6666666666666666,
              "#ed7953"
             ],
             [
              0.7777777777777778,
              "#fb9f3a"
             ],
             [
              0.8888888888888888,
              "#fdca26"
             ],
             [
              1,
              "#f0f921"
             ]
            ],
            "type": "contour"
           }
          ],
          "contourcarpet": [
           {
            "colorbar": {
             "outlinewidth": 0,
             "ticks": ""
            },
            "type": "contourcarpet"
           }
          ],
          "heatmap": [
           {
            "colorbar": {
             "outlinewidth": 0,
             "ticks": ""
            },
            "colorscale": [
             [
              0,
              "#0d0887"
             ],
             [
              0.1111111111111111,
              "#46039f"
             ],
             [
              0.2222222222222222,
              "#7201a8"
             ],
             [
              0.3333333333333333,
              "#9c179e"
             ],
             [
              0.4444444444444444,
              "#bd3786"
             ],
             [
              0.5555555555555556,
              "#d8576b"
             ],
             [
              0.6666666666666666,
              "#ed7953"
             ],
             [
              0.7777777777777778,
              "#fb9f3a"
             ],
             [
              0.8888888888888888,
              "#fdca26"
             ],
             [
              1,
              "#f0f921"
             ]
            ],
            "type": "heatmap"
           }
          ],
          "heatmapgl": [
           {
            "colorbar": {
             "outlinewidth": 0,
             "ticks": ""
            },
            "colorscale": [
             [
              0,
              "#0d0887"
             ],
             [
              0.1111111111111111,
              "#46039f"
             ],
             [
              0.2222222222222222,
              "#7201a8"
             ],
             [
              0.3333333333333333,
              "#9c179e"
             ],
             [
              0.4444444444444444,
              "#bd3786"
             ],
             [
              0.5555555555555556,
              "#d8576b"
             ],
             [
              0.6666666666666666,
              "#ed7953"
             ],
             [
              0.7777777777777778,
              "#fb9f3a"
             ],
             [
              0.8888888888888888,
              "#fdca26"
             ],
             [
              1,
              "#f0f921"
             ]
            ],
            "type": "heatmapgl"
           }
          ],
          "histogram": [
           {
            "marker": {
             "pattern": {
              "fillmode": "overlay",
              "size": 10,
              "solidity": 0.2
             }
            },
            "type": "histogram"
           }
          ],
          "histogram2d": [
           {
            "colorbar": {
             "outlinewidth": 0,
             "ticks": ""
            },
            "colorscale": [
             [
              0,
              "#0d0887"
             ],
             [
              0.1111111111111111,
              "#46039f"
             ],
             [
              0.2222222222222222,
              "#7201a8"
             ],
             [
              0.3333333333333333,
              "#9c179e"
             ],
             [
              0.4444444444444444,
              "#bd3786"
             ],
             [
              0.5555555555555556,
              "#d8576b"
             ],
             [
              0.6666666666666666,
              "#ed7953"
             ],
             [
              0.7777777777777778,
              "#fb9f3a"
             ],
             [
              0.8888888888888888,
              "#fdca26"
             ],
             [
              1,
              "#f0f921"
             ]
            ],
            "type": "histogram2d"
           }
          ],
          "histogram2dcontour": [
           {
            "colorbar": {
             "outlinewidth": 0,
             "ticks": ""
            },
            "colorscale": [
             [
              0,
              "#0d0887"
             ],
             [
              0.1111111111111111,
              "#46039f"
             ],
             [
              0.2222222222222222,
              "#7201a8"
             ],
             [
              0.3333333333333333,
              "#9c179e"
             ],
             [
              0.4444444444444444,
              "#bd3786"
             ],
             [
              0.5555555555555556,
              "#d8576b"
             ],
             [
              0.6666666666666666,
              "#ed7953"
             ],
             [
              0.7777777777777778,
              "#fb9f3a"
             ],
             [
              0.8888888888888888,
              "#fdca26"
             ],
             [
              1,
              "#f0f921"
             ]
            ],
            "type": "histogram2dcontour"
           }
          ],
          "mesh3d": [
           {
            "colorbar": {
             "outlinewidth": 0,
             "ticks": ""
            },
            "type": "mesh3d"
           }
          ],
          "parcoords": [
           {
            "line": {
             "colorbar": {
              "outlinewidth": 0,
              "ticks": ""
             }
            },
            "type": "parcoords"
           }
          ],
          "pie": [
           {
            "automargin": true,
            "type": "pie"
           }
          ],
          "scatter": [
           {
            "fillpattern": {
             "fillmode": "overlay",
             "size": 10,
             "solidity": 0.2
            },
            "type": "scatter"
           }
          ],
          "scatter3d": [
           {
            "line": {
             "colorbar": {
              "outlinewidth": 0,
              "ticks": ""
             }
            },
            "marker": {
             "colorbar": {
              "outlinewidth": 0,
              "ticks": ""
             }
            },
            "type": "scatter3d"
           }
          ],
          "scattercarpet": [
           {
            "marker": {
             "colorbar": {
              "outlinewidth": 0,
              "ticks": ""
             }
            },
            "type": "scattercarpet"
           }
          ],
          "scattergeo": [
           {
            "marker": {
             "colorbar": {
              "outlinewidth": 0,
              "ticks": ""
             }
            },
            "type": "scattergeo"
           }
          ],
          "scattergl": [
           {
            "marker": {
             "colorbar": {
              "outlinewidth": 0,
              "ticks": ""
             }
            },
            "type": "scattergl"
           }
          ],
          "scattermapbox": [
           {
            "marker": {
             "colorbar": {
              "outlinewidth": 0,
              "ticks": ""
             }
            },
            "type": "scattermapbox"
           }
          ],
          "scatterpolar": [
           {
            "marker": {
             "colorbar": {
              "outlinewidth": 0,
              "ticks": ""
             }
            },
            "type": "scatterpolar"
           }
          ],
          "scatterpolargl": [
           {
            "marker": {
             "colorbar": {
              "outlinewidth": 0,
              "ticks": ""
             }
            },
            "type": "scatterpolargl"
           }
          ],
          "scatterternary": [
           {
            "marker": {
             "colorbar": {
              "outlinewidth": 0,
              "ticks": ""
             }
            },
            "type": "scatterternary"
           }
          ],
          "surface": [
           {
            "colorbar": {
             "outlinewidth": 0,
             "ticks": ""
            },
            "colorscale": [
             [
              0,
              "#0d0887"
             ],
             [
              0.1111111111111111,
              "#46039f"
             ],
             [
              0.2222222222222222,
              "#7201a8"
             ],
             [
              0.3333333333333333,
              "#9c179e"
             ],
             [
              0.4444444444444444,
              "#bd3786"
             ],
             [
              0.5555555555555556,
              "#d8576b"
             ],
             [
              0.6666666666666666,
              "#ed7953"
             ],
             [
              0.7777777777777778,
              "#fb9f3a"
             ],
             [
              0.8888888888888888,
              "#fdca26"
             ],
             [
              1,
              "#f0f921"
             ]
            ],
            "type": "surface"
           }
          ],
          "table": [
           {
            "cells": {
             "fill": {
              "color": "#EBF0F8"
             },
             "line": {
              "color": "white"
             }
            },
            "header": {
             "fill": {
              "color": "#C8D4E3"
             },
             "line": {
              "color": "white"
             }
            },
            "type": "table"
           }
          ]
         },
         "layout": {
          "annotationdefaults": {
           "arrowcolor": "#2a3f5f",
           "arrowhead": 0,
           "arrowwidth": 1
          },
          "autotypenumbers": "strict",
          "coloraxis": {
           "colorbar": {
            "outlinewidth": 0,
            "ticks": ""
           }
          },
          "colorscale": {
           "diverging": [
            [
             0,
             "#8e0152"
            ],
            [
             0.1,
             "#c51b7d"
            ],
            [
             0.2,
             "#de77ae"
            ],
            [
             0.3,
             "#f1b6da"
            ],
            [
             0.4,
             "#fde0ef"
            ],
            [
             0.5,
             "#f7f7f7"
            ],
            [
             0.6,
             "#e6f5d0"
            ],
            [
             0.7,
             "#b8e186"
            ],
            [
             0.8,
             "#7fbc41"
            ],
            [
             0.9,
             "#4d9221"
            ],
            [
             1,
             "#276419"
            ]
           ],
           "sequential": [
            [
             0,
             "#0d0887"
            ],
            [
             0.1111111111111111,
             "#46039f"
            ],
            [
             0.2222222222222222,
             "#7201a8"
            ],
            [
             0.3333333333333333,
             "#9c179e"
            ],
            [
             0.4444444444444444,
             "#bd3786"
            ],
            [
             0.5555555555555556,
             "#d8576b"
            ],
            [
             0.6666666666666666,
             "#ed7953"
            ],
            [
             0.7777777777777778,
             "#fb9f3a"
            ],
            [
             0.8888888888888888,
             "#fdca26"
            ],
            [
             1,
             "#f0f921"
            ]
           ],
           "sequentialminus": [
            [
             0,
             "#0d0887"
            ],
            [
             0.1111111111111111,
             "#46039f"
            ],
            [
             0.2222222222222222,
             "#7201a8"
            ],
            [
             0.3333333333333333,
             "#9c179e"
            ],
            [
             0.4444444444444444,
             "#bd3786"
            ],
            [
             0.5555555555555556,
             "#d8576b"
            ],
            [
             0.6666666666666666,
             "#ed7953"
            ],
            [
             0.7777777777777778,
             "#fb9f3a"
            ],
            [
             0.8888888888888888,
             "#fdca26"
            ],
            [
             1,
             "#f0f921"
            ]
           ]
          },
          "colorway": [
           "#636efa",
           "#EF553B",
           "#00cc96",
           "#ab63fa",
           "#FFA15A",
           "#19d3f3",
           "#FF6692",
           "#B6E880",
           "#FF97FF",
           "#FECB52"
          ],
          "font": {
           "color": "#2a3f5f"
          },
          "geo": {
           "bgcolor": "white",
           "lakecolor": "white",
           "landcolor": "#E5ECF6",
           "showlakes": true,
           "showland": true,
           "subunitcolor": "white"
          },
          "hoverlabel": {
           "align": "left"
          },
          "hovermode": "closest",
          "mapbox": {
           "style": "light"
          },
          "paper_bgcolor": "white",
          "plot_bgcolor": "#E5ECF6",
          "polar": {
           "angularaxis": {
            "gridcolor": "white",
            "linecolor": "white",
            "ticks": ""
           },
           "bgcolor": "#E5ECF6",
           "radialaxis": {
            "gridcolor": "white",
            "linecolor": "white",
            "ticks": ""
           }
          },
          "scene": {
           "xaxis": {
            "backgroundcolor": "#E5ECF6",
            "gridcolor": "white",
            "gridwidth": 2,
            "linecolor": "white",
            "showbackground": true,
            "ticks": "",
            "zerolinecolor": "white"
           },
           "yaxis": {
            "backgroundcolor": "#E5ECF6",
            "gridcolor": "white",
            "gridwidth": 2,
            "linecolor": "white",
            "showbackground": true,
            "ticks": "",
            "zerolinecolor": "white"
           },
           "zaxis": {
            "backgroundcolor": "#E5ECF6",
            "gridcolor": "white",
            "gridwidth": 2,
            "linecolor": "white",
            "showbackground": true,
            "ticks": "",
            "zerolinecolor": "white"
           }
          },
          "shapedefaults": {
           "line": {
            "color": "#2a3f5f"
           }
          },
          "ternary": {
           "aaxis": {
            "gridcolor": "white",
            "linecolor": "white",
            "ticks": ""
           },
           "baxis": {
            "gridcolor": "white",
            "linecolor": "white",
            "ticks": ""
           },
           "bgcolor": "#E5ECF6",
           "caxis": {
            "gridcolor": "white",
            "linecolor": "white",
            "ticks": ""
           }
          },
          "title": {
           "x": 0.05
          },
          "xaxis": {
           "automargin": true,
           "gridcolor": "white",
           "linecolor": "white",
           "ticks": "",
           "title": {
            "standoff": 15
           },
           "zerolinecolor": "white",
           "zerolinewidth": 2
          },
          "yaxis": {
           "automargin": true,
           "gridcolor": "white",
           "linecolor": "white",
           "ticks": "",
           "title": {
            "standoff": 15
           },
           "zerolinecolor": "white",
           "zerolinewidth": 2
          }
         }
        },
        "title": {
         "text": "Transit Passengers over Time in Europe"
        },
        "xaxis": {
         "anchor": "y",
         "domain": [
          0,
          1
         ],
         "title": {
          "text": "Year"
         }
        },
        "yaxis": {
         "anchor": "x",
         "domain": [
          0,
          1
         ],
         "title": {
          "text": "Transit Passengers"
         }
        }
       }
      }
     },
     "metadata": {},
     "output_type": "display_data"
    }
   ],
   "source": [
    "fig = px.line(\n",
    "    combined,\n",
    "    x='year',\n",
    "    y='infrastructure',\n",
    "    color='country',\n",
    "    labels={'year': 'Year', 'infrastructure': 'Transit Passengers'},\n",
    "    title='Transit Passengers over Time in Europe',\n",
    "    hover_data=['country', 'year']\n",
    ")\n",
    "fig"
   ]
  },
  {
   "cell_type": "markdown",
   "id": "bc03dd76",
   "metadata": {},
   "source": [
    "Now, I'm plotting the averages of each feature over the years against quality of life."
   ]
  },
  {
   "cell_type": "code",
   "execution_count": 60,
   "id": "a21e0086",
   "metadata": {},
   "outputs": [
    {
     "data": {
      "application/vnd.plotly.v1+json": {
       "config": {
        "plotlyServerURL": "https://plot.ly"
       },
       "data": [
        {
         "customdata": [
          [
           "Austria"
          ]
         ],
         "hovertemplate": "country=%{customdata[0]}<br>Life Expectancy=%{x}<br>Quality of Life=%{y}<extra></extra>",
         "legendgroup": "Austria",
         "marker": {
          "color": "#636efa",
          "opacity": 1,
          "symbol": "circle"
         },
         "mode": "markers",
         "name": "Austria",
         "orientation": "v",
         "showlegend": true,
         "type": "scatter",
         "x": [
          -0.639493564048923
         ],
         "xaxis": "x",
         "y": [
          1.0310593362541354
         ],
         "yaxis": "y"
        },
        {
         "customdata": [
          [
           "Belgium"
          ]
         ],
         "hovertemplate": "country=%{customdata[0]}<br>Life Expectancy=%{x}<br>Quality of Life=%{y}<extra></extra>",
         "legendgroup": "Belgium",
         "marker": {
          "color": "#EF553B",
          "opacity": 1,
          "symbol": "circle"
         },
         "mode": "markers",
         "name": "Belgium",
         "orientation": "v",
         "showlegend": true,
         "type": "scatter",
         "x": [
          0.39775417684281705
         ],
         "xaxis": "x",
         "y": [
          0.9253741373778621
         ],
         "yaxis": "y"
        },
        {
         "customdata": [
          [
           "Bulgaria"
          ]
         ],
         "hovertemplate": "country=%{customdata[0]}<br>Life Expectancy=%{x}<br>Quality of Life=%{y}<extra></extra>",
         "legendgroup": "Bulgaria",
         "marker": {
          "color": "#00cc96",
          "opacity": 1,
          "symbol": "circle"
         },
         "mode": "markers",
         "name": "Bulgaria",
         "orientation": "v",
         "showlegend": true,
         "type": "scatter",
         "x": [
          0.6951051591310532
         ],
         "xaxis": "x",
         "y": [
          -2.1884581345982244
         ],
         "yaxis": "y"
        },
        {
         "customdata": [
          [
           "Croatia"
          ]
         ],
         "hovertemplate": "country=%{customdata[0]}<br>Life Expectancy=%{x}<br>Quality of Life=%{y}<extra></extra>",
         "legendgroup": "Croatia",
         "marker": {
          "color": "#ab63fa",
          "opacity": 1,
          "symbol": "circle"
         },
         "mode": "markers",
         "name": "Croatia",
         "orientation": "v",
         "showlegend": true,
         "type": "scatter",
         "x": [
          -0.6255707755805776
         ],
         "xaxis": "x",
         "y": [
          -0.9887818544727494
         ],
         "yaxis": "y"
        },
        {
         "customdata": [
          [
           "Czechia"
          ]
         ],
         "hovertemplate": "country=%{customdata[0]}<br>Life Expectancy=%{x}<br>Quality of Life=%{y}<extra></extra>",
         "legendgroup": "Czechia",
         "marker": {
          "color": "#FFA15A",
          "opacity": 1,
          "symbol": "circle"
         },
         "mode": "markers",
         "name": "Czechia",
         "orientation": "v",
         "showlegend": true,
         "type": "scatter",
         "x": [
          0.20283513828598007
         ],
         "xaxis": "x",
         "y": [
          0.36661589382748355
         ],
         "yaxis": "y"
        },
        {
         "customdata": [
          [
           "Denmark"
          ]
         ],
         "hovertemplate": "country=%{customdata[0]}<br>Life Expectancy=%{x}<br>Quality of Life=%{y}<extra></extra>",
         "legendgroup": "Denmark",
         "marker": {
          "color": "#19d3f3",
          "opacity": 1,
          "symbol": "circle"
         },
         "mode": "markers",
         "name": "Denmark",
         "orientation": "v",
         "showlegend": true,
         "type": "scatter",
         "x": [
          -0.5072270735996408
         ],
         "xaxis": "x",
         "y": [
          1.5850408476519133
         ],
         "yaxis": "y"
        },
        {
         "customdata": [
          [
           "Estonia"
          ]
         ],
         "hovertemplate": "country=%{customdata[0]}<br>Life Expectancy=%{x}<br>Quality of Life=%{y}<extra></extra>",
         "legendgroup": "Estonia",
         "marker": {
          "color": "#FF6692",
          "opacity": 1,
          "symbol": "circle"
         },
         "mode": "markers",
         "name": "Estonia",
         "orientation": "v",
         "showlegend": true,
         "type": "scatter",
         "x": [
          -1.224250679719434
         ],
         "xaxis": "x",
         "y": [
          -0.7812328424422819
         ],
         "yaxis": "y"
        },
        {
         "customdata": [
          [
           "Finland"
          ]
         ],
         "hovertemplate": "country=%{customdata[0]}<br>Life Expectancy=%{x}<br>Quality of Life=%{y}<extra></extra>",
         "legendgroup": "Finland",
         "marker": {
          "color": "#B6E880",
          "opacity": 1,
          "symbol": "circle"
         },
         "mode": "markers",
         "name": "Finland",
         "orientation": "v",
         "showlegend": true,
         "type": "scatter",
         "x": [
          -0.8463464212929135
         ],
         "xaxis": "x",
         "y": [
          1.604864286085203
         ],
         "yaxis": "y"
        },
        {
         "customdata": [
          [
           "France"
          ]
         ],
         "hovertemplate": "country=%{customdata[0]}<br>Life Expectancy=%{x}<br>Quality of Life=%{y}<extra></extra>",
         "legendgroup": "France",
         "marker": {
          "color": "#FF97FF",
          "opacity": 1,
          "symbol": "circle"
         },
         "mode": "markers",
         "name": "France",
         "orientation": "v",
         "showlegend": true,
         "type": "scatter",
         "x": [
          0.5290261824015032
         ],
         "xaxis": "x",
         "y": [
          0.25701377458607794
         ],
         "yaxis": "y"
        },
        {
         "customdata": [
          [
           "Germany"
          ]
         ],
         "hovertemplate": "country=%{customdata[0]}<br>Life Expectancy=%{x}<br>Quality of Life=%{y}<extra></extra>",
         "legendgroup": "Germany",
         "marker": {
          "color": "#FECB52",
          "opacity": 1,
          "symbol": "circle"
         },
         "mode": "markers",
         "name": "Germany",
         "orientation": "v",
         "showlegend": true,
         "type": "scatter",
         "x": [
          0.3321181740634738
         ],
         "xaxis": "x",
         "y": [
          0.6630121238963098
         ],
         "yaxis": "y"
        },
        {
         "customdata": [
          [
           "Greece"
          ]
         ],
         "hovertemplate": "country=%{customdata[0]}<br>Life Expectancy=%{x}<br>Quality of Life=%{y}<extra></extra>",
         "legendgroup": "Greece",
         "marker": {
          "color": "#636efa",
          "opacity": 1,
          "symbol": "circle"
         },
         "mode": "markers",
         "name": "Greece",
         "orientation": "v",
         "showlegend": true,
         "type": "scatter",
         "x": [
          0.8035040122060292
         ],
         "xaxis": "x",
         "y": [
          -1.1997939973138516
         ],
         "yaxis": "y"
        },
        {
         "customdata": [
          [
           "Hungary"
          ]
         ],
         "hovertemplate": "country=%{customdata[0]}<br>Life Expectancy=%{x}<br>Quality of Life=%{y}<extra></extra>",
         "legendgroup": "Hungary",
         "marker": {
          "color": "#EF553B",
          "opacity": 1,
          "symbol": "circle"
         },
         "mode": "markers",
         "name": "Hungary",
         "orientation": "v",
         "showlegend": true,
         "type": "scatter",
         "x": [
          -0.5102105282714287
         ],
         "xaxis": "x",
         "y": [
          -2.0613174471365228
         ],
         "yaxis": "y"
        },
        {
         "customdata": [
          [
           "Ireland"
          ]
         ],
         "hovertemplate": "country=%{customdata[0]}<br>Life Expectancy=%{x}<br>Quality of Life=%{y}<extra></extra>",
         "legendgroup": "Ireland",
         "marker": {
          "color": "#00cc96",
          "opacity": 1,
          "symbol": "circle"
         },
         "mode": "markers",
         "name": "Ireland",
         "orientation": "v",
         "showlegend": true,
         "type": "scatter",
         "x": [
          1.3027354272852743
         ],
         "xaxis": "x",
         "y": [
          0.8143151148299129
         ],
         "yaxis": "y"
        },
        {
         "customdata": [
          [
           "Italy"
          ]
         ],
         "hovertemplate": "country=%{customdata[0]}<br>Life Expectancy=%{x}<br>Quality of Life=%{y}<extra></extra>",
         "legendgroup": "Italy",
         "marker": {
          "color": "#ab63fa",
          "opacity": 1,
          "symbol": "circle"
         },
         "mode": "markers",
         "name": "Italy",
         "orientation": "v",
         "showlegend": true,
         "type": "scatter",
         "x": [
          0.9272179325961846
         ],
         "xaxis": "x",
         "y": [
          -0.2903639046107306
         ],
         "yaxis": "y"
        },
        {
         "customdata": [
          [
           "Latvia"
          ]
         ],
         "hovertemplate": "country=%{customdata[0]}<br>Life Expectancy=%{x}<br>Quality of Life=%{y}<extra></extra>",
         "legendgroup": "Latvia",
         "marker": {
          "color": "#FFA15A",
          "opacity": 1,
          "symbol": "circle"
         },
         "mode": "markers",
         "name": "Latvia",
         "orientation": "v",
         "showlegend": true,
         "type": "scatter",
         "x": [
          -1.7563000961883513
         ],
         "xaxis": "x",
         "y": [
          -0.9469854481374999
         ],
         "yaxis": "y"
        },
        {
         "customdata": [
          [
           "Lithuania"
          ]
         ],
         "hovertemplate": "country=%{customdata[0]}<br>Life Expectancy=%{x}<br>Quality of Life=%{y}<extra></extra>",
         "legendgroup": "Lithuania",
         "marker": {
          "color": "#19d3f3",
          "opacity": 1,
          "symbol": "circle"
         },
         "mode": "markers",
         "name": "Lithuania",
         "orientation": "v",
         "showlegend": true,
         "type": "scatter",
         "x": [
          -0.7538593264674752
         ],
         "xaxis": "x",
         "y": [
          -0.49582309632443555
         ],
         "yaxis": "y"
        },
        {
         "customdata": [
          [
           "Luxembourg"
          ]
         ],
         "hovertemplate": "country=%{customdata[0]}<br>Life Expectancy=%{x}<br>Quality of Life=%{y}<extra></extra>",
         "legendgroup": "Luxembourg",
         "marker": {
          "color": "#FF6692",
          "opacity": 1,
          "symbol": "circle"
         },
         "mode": "markers",
         "name": "Luxembourg",
         "orientation": "v",
         "showlegend": true,
         "type": "scatter",
         "x": [
          0.15012743908438597
         ],
         "xaxis": "x",
         "y": [
          0.8938477051707019
         ],
         "yaxis": "y"
        },
        {
         "customdata": [
          [
           "Poland"
          ]
         ],
         "hovertemplate": "country=%{customdata[0]}<br>Life Expectancy=%{x}<br>Quality of Life=%{y}<extra></extra>",
         "legendgroup": "Poland",
         "marker": {
          "color": "#B6E880",
          "opacity": 1,
          "symbol": "circle"
         },
         "mode": "markers",
         "name": "Poland",
         "orientation": "v",
         "showlegend": true,
         "type": "scatter",
         "x": [
          -0.003354729030945964
         ],
         "xaxis": "x",
         "y": [
          -0.679627768946354
         ],
         "yaxis": "y"
        },
        {
         "customdata": [
          [
           "Portugal"
          ]
         ],
         "hovertemplate": "country=%{customdata[0]}<br>Life Expectancy=%{x}<br>Quality of Life=%{y}<extra></extra>",
         "legendgroup": "Portugal",
         "marker": {
          "color": "#FF97FF",
          "opacity": 1,
          "symbol": "circle"
         },
         "mode": "markers",
         "name": "Portugal",
         "orientation": "v",
         "showlegend": true,
         "type": "scatter",
         "x": [
          -0.5877803497379254
         ],
         "xaxis": "x",
         "y": [
          -1.160624793662532
         ],
         "yaxis": "y"
        },
        {
         "customdata": [
          [
           "Romania"
          ]
         ],
         "hovertemplate": "country=%{customdata[0]}<br>Life Expectancy=%{x}<br>Quality of Life=%{y}<extra></extra>",
         "legendgroup": "Romania",
         "marker": {
          "color": "#FECB52",
          "opacity": 1,
          "symbol": "circle"
         },
         "mode": "markers",
         "name": "Romania",
         "orientation": "v",
         "showlegend": true,
         "type": "scatter",
         "x": [
          -0.6196038662370006
         ],
         "xaxis": "x",
         "y": [
          -0.771559959833267
         ],
         "yaxis": "y"
        },
        {
         "customdata": [
          [
           "Slovakia"
          ]
         ],
         "hovertemplate": "country=%{customdata[0]}<br>Life Expectancy=%{x}<br>Quality of Life=%{y}<extra></extra>",
         "legendgroup": "Slovakia",
         "marker": {
          "color": "#636efa",
          "opacity": 1,
          "symbol": "circle"
         },
         "mode": "markers",
         "name": "Slovakia",
         "orientation": "v",
         "showlegend": true,
         "type": "scatter",
         "x": [
          -1.3465723212627552
         ],
         "xaxis": "x",
         "y": [
          -0.3408181379725673
         ],
         "yaxis": "y"
        },
        {
         "customdata": [
          [
           "Slovenia"
          ]
         ],
         "hovertemplate": "country=%{customdata[0]}<br>Life Expectancy=%{x}<br>Quality of Life=%{y}<extra></extra>",
         "legendgroup": "Slovenia",
         "marker": {
          "color": "#EF553B",
          "opacity": 1,
          "symbol": "circle"
         },
         "mode": "markers",
         "name": "Slovenia",
         "orientation": "v",
         "showlegend": true,
         "type": "scatter",
         "x": [
          -0.491315315350103
         ],
         "xaxis": "x",
         "y": [
          -0.35443182460747724
         ],
         "yaxis": "y"
        },
        {
         "customdata": [
          [
           "Spain"
          ]
         ],
         "hovertemplate": "country=%{customdata[0]}<br>Life Expectancy=%{x}<br>Quality of Life=%{y}<extra></extra>",
         "legendgroup": "Spain",
         "marker": {
          "color": "#00cc96",
          "opacity": 1,
          "symbol": "circle"
         },
         "mode": "markers",
         "name": "Spain",
         "orientation": "v",
         "showlegend": true,
         "type": "scatter",
         "x": [
          0.8969855919220632
         ],
         "xaxis": "x",
         "y": [
          0.01791444668768778
         ],
         "yaxis": "y"
        },
        {
         "customdata": [
          [
           "Sweden"
          ]
         ],
         "hovertemplate": "country=%{customdata[0]}<br>Life Expectancy=%{x}<br>Quality of Life=%{y}<extra></extra>",
         "legendgroup": "Sweden",
         "marker": {
          "color": "#ab63fa",
          "opacity": 1,
          "symbol": "circle"
         },
         "mode": "markers",
         "name": "Sweden",
         "orientation": "v",
         "showlegend": true,
         "type": "scatter",
         "x": [
          2.0463117799839847
         ],
         "xaxis": "x",
         "y": [
          1.2327568513976677
         ],
         "yaxis": "y"
        }
       ],
       "layout": {
        "legend": {
         "title": {
          "text": "country"
         },
         "tracegroupgap": 0
        },
        "template": {
         "data": {
          "bar": [
           {
            "error_x": {
             "color": "#2a3f5f"
            },
            "error_y": {
             "color": "#2a3f5f"
            },
            "marker": {
             "line": {
              "color": "#E5ECF6",
              "width": 0.5
             },
             "pattern": {
              "fillmode": "overlay",
              "size": 10,
              "solidity": 0.2
             }
            },
            "type": "bar"
           }
          ],
          "barpolar": [
           {
            "marker": {
             "line": {
              "color": "#E5ECF6",
              "width": 0.5
             },
             "pattern": {
              "fillmode": "overlay",
              "size": 10,
              "solidity": 0.2
             }
            },
            "type": "barpolar"
           }
          ],
          "carpet": [
           {
            "aaxis": {
             "endlinecolor": "#2a3f5f",
             "gridcolor": "white",
             "linecolor": "white",
             "minorgridcolor": "white",
             "startlinecolor": "#2a3f5f"
            },
            "baxis": {
             "endlinecolor": "#2a3f5f",
             "gridcolor": "white",
             "linecolor": "white",
             "minorgridcolor": "white",
             "startlinecolor": "#2a3f5f"
            },
            "type": "carpet"
           }
          ],
          "choropleth": [
           {
            "colorbar": {
             "outlinewidth": 0,
             "ticks": ""
            },
            "type": "choropleth"
           }
          ],
          "contour": [
           {
            "colorbar": {
             "outlinewidth": 0,
             "ticks": ""
            },
            "colorscale": [
             [
              0,
              "#0d0887"
             ],
             [
              0.1111111111111111,
              "#46039f"
             ],
             [
              0.2222222222222222,
              "#7201a8"
             ],
             [
              0.3333333333333333,
              "#9c179e"
             ],
             [
              0.4444444444444444,
              "#bd3786"
             ],
             [
              0.5555555555555556,
              "#d8576b"
             ],
             [
              0.6666666666666666,
              "#ed7953"
             ],
             [
              0.7777777777777778,
              "#fb9f3a"
             ],
             [
              0.8888888888888888,
              "#fdca26"
             ],
             [
              1,
              "#f0f921"
             ]
            ],
            "type": "contour"
           }
          ],
          "contourcarpet": [
           {
            "colorbar": {
             "outlinewidth": 0,
             "ticks": ""
            },
            "type": "contourcarpet"
           }
          ],
          "heatmap": [
           {
            "colorbar": {
             "outlinewidth": 0,
             "ticks": ""
            },
            "colorscale": [
             [
              0,
              "#0d0887"
             ],
             [
              0.1111111111111111,
              "#46039f"
             ],
             [
              0.2222222222222222,
              "#7201a8"
             ],
             [
              0.3333333333333333,
              "#9c179e"
             ],
             [
              0.4444444444444444,
              "#bd3786"
             ],
             [
              0.5555555555555556,
              "#d8576b"
             ],
             [
              0.6666666666666666,
              "#ed7953"
             ],
             [
              0.7777777777777778,
              "#fb9f3a"
             ],
             [
              0.8888888888888888,
              "#fdca26"
             ],
             [
              1,
              "#f0f921"
             ]
            ],
            "type": "heatmap"
           }
          ],
          "heatmapgl": [
           {
            "colorbar": {
             "outlinewidth": 0,
             "ticks": ""
            },
            "colorscale": [
             [
              0,
              "#0d0887"
             ],
             [
              0.1111111111111111,
              "#46039f"
             ],
             [
              0.2222222222222222,
              "#7201a8"
             ],
             [
              0.3333333333333333,
              "#9c179e"
             ],
             [
              0.4444444444444444,
              "#bd3786"
             ],
             [
              0.5555555555555556,
              "#d8576b"
             ],
             [
              0.6666666666666666,
              "#ed7953"
             ],
             [
              0.7777777777777778,
              "#fb9f3a"
             ],
             [
              0.8888888888888888,
              "#fdca26"
             ],
             [
              1,
              "#f0f921"
             ]
            ],
            "type": "heatmapgl"
           }
          ],
          "histogram": [
           {
            "marker": {
             "pattern": {
              "fillmode": "overlay",
              "size": 10,
              "solidity": 0.2
             }
            },
            "type": "histogram"
           }
          ],
          "histogram2d": [
           {
            "colorbar": {
             "outlinewidth": 0,
             "ticks": ""
            },
            "colorscale": [
             [
              0,
              "#0d0887"
             ],
             [
              0.1111111111111111,
              "#46039f"
             ],
             [
              0.2222222222222222,
              "#7201a8"
             ],
             [
              0.3333333333333333,
              "#9c179e"
             ],
             [
              0.4444444444444444,
              "#bd3786"
             ],
             [
              0.5555555555555556,
              "#d8576b"
             ],
             [
              0.6666666666666666,
              "#ed7953"
             ],
             [
              0.7777777777777778,
              "#fb9f3a"
             ],
             [
              0.8888888888888888,
              "#fdca26"
             ],
             [
              1,
              "#f0f921"
             ]
            ],
            "type": "histogram2d"
           }
          ],
          "histogram2dcontour": [
           {
            "colorbar": {
             "outlinewidth": 0,
             "ticks": ""
            },
            "colorscale": [
             [
              0,
              "#0d0887"
             ],
             [
              0.1111111111111111,
              "#46039f"
             ],
             [
              0.2222222222222222,
              "#7201a8"
             ],
             [
              0.3333333333333333,
              "#9c179e"
             ],
             [
              0.4444444444444444,
              "#bd3786"
             ],
             [
              0.5555555555555556,
              "#d8576b"
             ],
             [
              0.6666666666666666,
              "#ed7953"
             ],
             [
              0.7777777777777778,
              "#fb9f3a"
             ],
             [
              0.8888888888888888,
              "#fdca26"
             ],
             [
              1,
              "#f0f921"
             ]
            ],
            "type": "histogram2dcontour"
           }
          ],
          "mesh3d": [
           {
            "colorbar": {
             "outlinewidth": 0,
             "ticks": ""
            },
            "type": "mesh3d"
           }
          ],
          "parcoords": [
           {
            "line": {
             "colorbar": {
              "outlinewidth": 0,
              "ticks": ""
             }
            },
            "type": "parcoords"
           }
          ],
          "pie": [
           {
            "automargin": true,
            "type": "pie"
           }
          ],
          "scatter": [
           {
            "fillpattern": {
             "fillmode": "overlay",
             "size": 10,
             "solidity": 0.2
            },
            "type": "scatter"
           }
          ],
          "scatter3d": [
           {
            "line": {
             "colorbar": {
              "outlinewidth": 0,
              "ticks": ""
             }
            },
            "marker": {
             "colorbar": {
              "outlinewidth": 0,
              "ticks": ""
             }
            },
            "type": "scatter3d"
           }
          ],
          "scattercarpet": [
           {
            "marker": {
             "colorbar": {
              "outlinewidth": 0,
              "ticks": ""
             }
            },
            "type": "scattercarpet"
           }
          ],
          "scattergeo": [
           {
            "marker": {
             "colorbar": {
              "outlinewidth": 0,
              "ticks": ""
             }
            },
            "type": "scattergeo"
           }
          ],
          "scattergl": [
           {
            "marker": {
             "colorbar": {
              "outlinewidth": 0,
              "ticks": ""
             }
            },
            "type": "scattergl"
           }
          ],
          "scattermapbox": [
           {
            "marker": {
             "colorbar": {
              "outlinewidth": 0,
              "ticks": ""
             }
            },
            "type": "scattermapbox"
           }
          ],
          "scatterpolar": [
           {
            "marker": {
             "colorbar": {
              "outlinewidth": 0,
              "ticks": ""
             }
            },
            "type": "scatterpolar"
           }
          ],
          "scatterpolargl": [
           {
            "marker": {
             "colorbar": {
              "outlinewidth": 0,
              "ticks": ""
             }
            },
            "type": "scatterpolargl"
           }
          ],
          "scatterternary": [
           {
            "marker": {
             "colorbar": {
              "outlinewidth": 0,
              "ticks": ""
             }
            },
            "type": "scatterternary"
           }
          ],
          "surface": [
           {
            "colorbar": {
             "outlinewidth": 0,
             "ticks": ""
            },
            "colorscale": [
             [
              0,
              "#0d0887"
             ],
             [
              0.1111111111111111,
              "#46039f"
             ],
             [
              0.2222222222222222,
              "#7201a8"
             ],
             [
              0.3333333333333333,
              "#9c179e"
             ],
             [
              0.4444444444444444,
              "#bd3786"
             ],
             [
              0.5555555555555556,
              "#d8576b"
             ],
             [
              0.6666666666666666,
              "#ed7953"
             ],
             [
              0.7777777777777778,
              "#fb9f3a"
             ],
             [
              0.8888888888888888,
              "#fdca26"
             ],
             [
              1,
              "#f0f921"
             ]
            ],
            "type": "surface"
           }
          ],
          "table": [
           {
            "cells": {
             "fill": {
              "color": "#EBF0F8"
             },
             "line": {
              "color": "white"
             }
            },
            "header": {
             "fill": {
              "color": "#C8D4E3"
             },
             "line": {
              "color": "white"
             }
            },
            "type": "table"
           }
          ]
         },
         "layout": {
          "annotationdefaults": {
           "arrowcolor": "#2a3f5f",
           "arrowhead": 0,
           "arrowwidth": 1
          },
          "autotypenumbers": "strict",
          "coloraxis": {
           "colorbar": {
            "outlinewidth": 0,
            "ticks": ""
           }
          },
          "colorscale": {
           "diverging": [
            [
             0,
             "#8e0152"
            ],
            [
             0.1,
             "#c51b7d"
            ],
            [
             0.2,
             "#de77ae"
            ],
            [
             0.3,
             "#f1b6da"
            ],
            [
             0.4,
             "#fde0ef"
            ],
            [
             0.5,
             "#f7f7f7"
            ],
            [
             0.6,
             "#e6f5d0"
            ],
            [
             0.7,
             "#b8e186"
            ],
            [
             0.8,
             "#7fbc41"
            ],
            [
             0.9,
             "#4d9221"
            ],
            [
             1,
             "#276419"
            ]
           ],
           "sequential": [
            [
             0,
             "#0d0887"
            ],
            [
             0.1111111111111111,
             "#46039f"
            ],
            [
             0.2222222222222222,
             "#7201a8"
            ],
            [
             0.3333333333333333,
             "#9c179e"
            ],
            [
             0.4444444444444444,
             "#bd3786"
            ],
            [
             0.5555555555555556,
             "#d8576b"
            ],
            [
             0.6666666666666666,
             "#ed7953"
            ],
            [
             0.7777777777777778,
             "#fb9f3a"
            ],
            [
             0.8888888888888888,
             "#fdca26"
            ],
            [
             1,
             "#f0f921"
            ]
           ],
           "sequentialminus": [
            [
             0,
             "#0d0887"
            ],
            [
             0.1111111111111111,
             "#46039f"
            ],
            [
             0.2222222222222222,
             "#7201a8"
            ],
            [
             0.3333333333333333,
             "#9c179e"
            ],
            [
             0.4444444444444444,
             "#bd3786"
            ],
            [
             0.5555555555555556,
             "#d8576b"
            ],
            [
             0.6666666666666666,
             "#ed7953"
            ],
            [
             0.7777777777777778,
             "#fb9f3a"
            ],
            [
             0.8888888888888888,
             "#fdca26"
            ],
            [
             1,
             "#f0f921"
            ]
           ]
          },
          "colorway": [
           "#636efa",
           "#EF553B",
           "#00cc96",
           "#ab63fa",
           "#FFA15A",
           "#19d3f3",
           "#FF6692",
           "#B6E880",
           "#FF97FF",
           "#FECB52"
          ],
          "font": {
           "color": "#2a3f5f"
          },
          "geo": {
           "bgcolor": "white",
           "lakecolor": "white",
           "landcolor": "#E5ECF6",
           "showlakes": true,
           "showland": true,
           "subunitcolor": "white"
          },
          "hoverlabel": {
           "align": "left"
          },
          "hovermode": "closest",
          "mapbox": {
           "style": "light"
          },
          "paper_bgcolor": "white",
          "plot_bgcolor": "#E5ECF6",
          "polar": {
           "angularaxis": {
            "gridcolor": "white",
            "linecolor": "white",
            "ticks": ""
           },
           "bgcolor": "#E5ECF6",
           "radialaxis": {
            "gridcolor": "white",
            "linecolor": "white",
            "ticks": ""
           }
          },
          "scene": {
           "xaxis": {
            "backgroundcolor": "#E5ECF6",
            "gridcolor": "white",
            "gridwidth": 2,
            "linecolor": "white",
            "showbackground": true,
            "ticks": "",
            "zerolinecolor": "white"
           },
           "yaxis": {
            "backgroundcolor": "#E5ECF6",
            "gridcolor": "white",
            "gridwidth": 2,
            "linecolor": "white",
            "showbackground": true,
            "ticks": "",
            "zerolinecolor": "white"
           },
           "zaxis": {
            "backgroundcolor": "#E5ECF6",
            "gridcolor": "white",
            "gridwidth": 2,
            "linecolor": "white",
            "showbackground": true,
            "ticks": "",
            "zerolinecolor": "white"
           }
          },
          "shapedefaults": {
           "line": {
            "color": "#2a3f5f"
           }
          },
          "ternary": {
           "aaxis": {
            "gridcolor": "white",
            "linecolor": "white",
            "ticks": ""
           },
           "baxis": {
            "gridcolor": "white",
            "linecolor": "white",
            "ticks": ""
           },
           "bgcolor": "#E5ECF6",
           "caxis": {
            "gridcolor": "white",
            "linecolor": "white",
            "ticks": ""
           }
          },
          "title": {
           "x": 0.05
          },
          "xaxis": {
           "automargin": true,
           "gridcolor": "white",
           "linecolor": "white",
           "ticks": "",
           "title": {
            "standoff": 15
           },
           "zerolinecolor": "white",
           "zerolinewidth": 2
          },
          "yaxis": {
           "automargin": true,
           "gridcolor": "white",
           "linecolor": "white",
           "ticks": "",
           "title": {
            "standoff": 15
           },
           "zerolinecolor": "white",
           "zerolinewidth": 2
          }
         }
        },
        "title": {
         "text": "Comparing Relationship of Life Expectancy and Quality of Life in Europe"
        },
        "xaxis": {
         "anchor": "y",
         "domain": [
          0,
          1
         ],
         "title": {
          "text": "Life Expectancy"
         }
        },
        "yaxis": {
         "anchor": "x",
         "domain": [
          0,
          1
         ],
         "title": {
          "text": "Quality of Life"
         }
        }
       }
      }
     },
     "metadata": {},
     "output_type": "display_data"
    }
   ],
   "source": [
    "fig = px.scatter(\n",
    "    avgs,\n",
    "    x='healthcare',\n",
    "    y='qol',\n",
    "    color='country',\n",
    "    opacity=1,\n",
    "    labels={'healthcare': 'Life Expectancy', 'qol': 'Quality of Life'},\n",
    "    title='Comparing Relationship of Life Expectancy and Quality of Life in Europe',\n",
    "    hover_data=['country']\n",
    ")\n",
    "\n",
    "fig"
   ]
  },
  {
   "cell_type": "code",
   "execution_count": 54,
   "id": "952004e2",
   "metadata": {},
   "outputs": [
    {
     "data": {
      "application/vnd.plotly.v1+json": {
       "config": {
        "plotlyServerURL": "https://plot.ly"
       },
       "data": [
        {
         "customdata": [
          [
           "Austria"
          ]
         ],
         "hovertemplate": "country=%{customdata[0]}<br>Tertiary Education=%{x}<br>Quality of Life=%{y}<extra></extra>",
         "legendgroup": "Austria",
         "marker": {
          "color": "#636efa",
          "opacity": 1,
          "symbol": "circle"
         },
         "mode": "markers",
         "name": "Austria",
         "orientation": "v",
         "showlegend": true,
         "type": "scatter",
         "x": [
          0.19607637361975672
         ],
         "xaxis": "x",
         "y": [
          1.0310593362541354
         ],
         "yaxis": "y"
        },
        {
         "customdata": [
          [
           "Belgium"
          ]
         ],
         "hovertemplate": "country=%{customdata[0]}<br>Tertiary Education=%{x}<br>Quality of Life=%{y}<extra></extra>",
         "legendgroup": "Belgium",
         "marker": {
          "color": "#EF553B",
          "opacity": 1,
          "symbol": "circle"
         },
         "mode": "markers",
         "name": "Belgium",
         "orientation": "v",
         "showlegend": true,
         "type": "scatter",
         "x": [
          0.5599658998866808
         ],
         "xaxis": "x",
         "y": [
          0.9253741373778621
         ],
         "yaxis": "y"
        },
        {
         "customdata": [
          [
           "Bulgaria"
          ]
         ],
         "hovertemplate": "country=%{customdata[0]}<br>Tertiary Education=%{x}<br>Quality of Life=%{y}<extra></extra>",
         "legendgroup": "Bulgaria",
         "marker": {
          "color": "#00cc96",
          "opacity": 1,
          "symbol": "circle"
         },
         "mode": "markers",
         "name": "Bulgaria",
         "orientation": "v",
         "showlegend": true,
         "type": "scatter",
         "x": [
          -0.49087277510608945
         ],
         "xaxis": "x",
         "y": [
          -2.1884581345982244
         ],
         "yaxis": "y"
        },
        {
         "customdata": [
          [
           "Croatia"
          ]
         ],
         "hovertemplate": "country=%{customdata[0]}<br>Tertiary Education=%{x}<br>Quality of Life=%{y}<extra></extra>",
         "legendgroup": "Croatia",
         "marker": {
          "color": "#ab63fa",
          "opacity": 1,
          "symbol": "circle"
         },
         "mode": "markers",
         "name": "Croatia",
         "orientation": "v",
         "showlegend": true,
         "type": "scatter",
         "x": [
          -0.8159459270678724
         ],
         "xaxis": "x",
         "y": [
          -0.9887818544727494
         ],
         "yaxis": "y"
        },
        {
         "customdata": [
          [
           "Czechia"
          ]
         ],
         "hovertemplate": "country=%{customdata[0]}<br>Tertiary Education=%{x}<br>Quality of Life=%{y}<extra></extra>",
         "legendgroup": "Czechia",
         "marker": {
          "color": "#FFA15A",
          "opacity": 1,
          "symbol": "circle"
         },
         "mode": "markers",
         "name": "Czechia",
         "orientation": "v",
         "showlegend": true,
         "type": "scatter",
         "x": [
          -0.8615859291327062
         ],
         "xaxis": "x",
         "y": [
          0.36661589382748355
         ],
         "yaxis": "y"
        },
        {
         "customdata": [
          [
           "Denmark"
          ]
         ],
         "hovertemplate": "country=%{customdata[0]}<br>Tertiary Education=%{x}<br>Quality of Life=%{y}<extra></extra>",
         "legendgroup": "Denmark",
         "marker": {
          "color": "#19d3f3",
          "opacity": 1,
          "symbol": "circle"
         },
         "mode": "markers",
         "name": "Denmark",
         "orientation": "v",
         "showlegend": true,
         "type": "scatter",
         "x": [
          0.6054940392013551
         ],
         "xaxis": "x",
         "y": [
          1.5850408476519133
         ],
         "yaxis": "y"
        },
        {
         "customdata": [
          [
           "Estonia"
          ]
         ],
         "hovertemplate": "country=%{customdata[0]}<br>Tertiary Education=%{x}<br>Quality of Life=%{y}<extra></extra>",
         "legendgroup": "Estonia",
         "marker": {
          "color": "#FF6692",
          "opacity": 1,
          "symbol": "circle"
         },
         "mode": "markers",
         "name": "Estonia",
         "orientation": "v",
         "showlegend": true,
         "type": "scatter",
         "x": [
          0.7148958088567661
         ],
         "xaxis": "x",
         "y": [
          -0.7812328424422819
         ],
         "yaxis": "y"
        },
        {
         "customdata": [
          [
           "Finland"
          ]
         ],
         "hovertemplate": "country=%{customdata[0]}<br>Tertiary Education=%{x}<br>Quality of Life=%{y}<extra></extra>",
         "legendgroup": "Finland",
         "marker": {
          "color": "#B6E880",
          "opacity": 1,
          "symbol": "circle"
         },
         "mode": "markers",
         "name": "Finland",
         "orientation": "v",
         "showlegend": true,
         "type": "scatter",
         "x": [
          0.9991390570105477
         ],
         "xaxis": "x",
         "y": [
          1.604864286085203
         ],
         "yaxis": "y"
        },
        {
         "customdata": [
          [
           "France"
          ]
         ],
         "hovertemplate": "country=%{customdata[0]}<br>Tertiary Education=%{x}<br>Quality of Life=%{y}<extra></extra>",
         "legendgroup": "France",
         "marker": {
          "color": "#FF97FF",
          "opacity": 1,
          "symbol": "circle"
         },
         "mode": "markers",
         "name": "France",
         "orientation": "v",
         "showlegend": true,
         "type": "scatter",
         "x": [
          0.9774712423047678
         ],
         "xaxis": "x",
         "y": [
          0.25701377458607794
         ],
         "yaxis": "y"
        },
        {
         "customdata": [
          [
           "Germany"
          ]
         ],
         "hovertemplate": "country=%{customdata[0]}<br>Tertiary Education=%{x}<br>Quality of Life=%{y}<extra></extra>",
         "legendgroup": "Germany",
         "marker": {
          "color": "#FECB52",
          "opacity": 1,
          "symbol": "circle"
         },
         "mode": "markers",
         "name": "Germany",
         "orientation": "v",
         "showlegend": true,
         "type": "scatter",
         "x": [
          -0.3052924725924632
         ],
         "xaxis": "x",
         "y": [
          0.6630121238963098
         ],
         "yaxis": "y"
        },
        {
         "customdata": [
          [
           "Greece"
          ]
         ],
         "hovertemplate": "country=%{customdata[0]}<br>Tertiary Education=%{x}<br>Quality of Life=%{y}<extra></extra>",
         "legendgroup": "Greece",
         "marker": {
          "color": "#636efa",
          "opacity": 1,
          "symbol": "circle"
         },
         "mode": "markers",
         "name": "Greece",
         "orientation": "v",
         "showlegend": true,
         "type": "scatter",
         "x": [
          -0.08704824703243624
         ],
         "xaxis": "x",
         "y": [
          -1.1997939973138516
         ],
         "yaxis": "y"
        },
        {
         "customdata": [
          [
           "Hungary"
          ]
         ],
         "hovertemplate": "country=%{customdata[0]}<br>Tertiary Education=%{x}<br>Quality of Life=%{y}<extra></extra>",
         "legendgroup": "Hungary",
         "marker": {
          "color": "#EF553B",
          "opacity": 1,
          "symbol": "circle"
         },
         "mode": "markers",
         "name": "Hungary",
         "orientation": "v",
         "showlegend": true,
         "type": "scatter",
         "x": [
          -1.0089091710919866
         ],
         "xaxis": "x",
         "y": [
          -2.0613174471365228
         ],
         "yaxis": "y"
        },
        {
         "customdata": [
          [
           "Ireland"
          ]
         ],
         "hovertemplate": "country=%{customdata[0]}<br>Tertiary Education=%{x}<br>Quality of Life=%{y}<extra></extra>",
         "legendgroup": "Ireland",
         "marker": {
          "color": "#00cc96",
          "opacity": 1,
          "symbol": "circle"
         },
         "mode": "markers",
         "name": "Ireland",
         "orientation": "v",
         "showlegend": true,
         "type": "scatter",
         "x": [
          1.7658463465996945
         ],
         "xaxis": "x",
         "y": [
          0.8143151148299129
         ],
         "yaxis": "y"
        },
        {
         "customdata": [
          [
           "Italy"
          ]
         ],
         "hovertemplate": "country=%{customdata[0]}<br>Tertiary Education=%{x}<br>Quality of Life=%{y}<extra></extra>",
         "legendgroup": "Italy",
         "marker": {
          "color": "#ab63fa",
          "opacity": 1,
          "symbol": "circle"
         },
         "mode": "markers",
         "name": "Italy",
         "orientation": "v",
         "showlegend": true,
         "type": "scatter",
         "x": [
          -1.2871230170122032
         ],
         "xaxis": "x",
         "y": [
          -0.2903639046107306
         ],
         "yaxis": "y"
        },
        {
         "customdata": [
          [
           "Latvia"
          ]
         ],
         "hovertemplate": "country=%{customdata[0]}<br>Tertiary Education=%{x}<br>Quality of Life=%{y}<extra></extra>",
         "legendgroup": "Latvia",
         "marker": {
          "color": "#FFA15A",
          "opacity": 1,
          "symbol": "circle"
         },
         "mode": "markers",
         "name": "Latvia",
         "orientation": "v",
         "showlegend": true,
         "type": "scatter",
         "x": [
          0.24675019944174145
         ],
         "xaxis": "x",
         "y": [
          -0.9469854481374999
         ],
         "yaxis": "y"
        },
        {
         "customdata": [
          [
           "Lithuania"
          ]
         ],
         "hovertemplate": "country=%{customdata[0]}<br>Tertiary Education=%{x}<br>Quality of Life=%{y}<extra></extra>",
         "legendgroup": "Lithuania",
         "marker": {
          "color": "#19d3f3",
          "opacity": 1,
          "symbol": "circle"
         },
         "mode": "markers",
         "name": "Lithuania",
         "orientation": "v",
         "showlegend": true,
         "type": "scatter",
         "x": [
          1.013457489030888
         ],
         "xaxis": "x",
         "y": [
          -0.49582309632443555
         ],
         "yaxis": "y"
        },
        {
         "customdata": [
          [
           "Luxembourg"
          ]
         ],
         "hovertemplate": "country=%{customdata[0]}<br>Tertiary Education=%{x}<br>Quality of Life=%{y}<extra></extra>",
         "legendgroup": "Luxembourg",
         "marker": {
          "color": "#FF6692",
          "opacity": 1,
          "symbol": "circle"
         },
         "mode": "markers",
         "name": "Luxembourg",
         "orientation": "v",
         "showlegend": true,
         "type": "scatter",
         "x": [
          1.3041887766938867
         ],
         "xaxis": "x",
         "y": [
          0.8938477051707019
         ],
         "yaxis": "y"
        },
        {
         "customdata": [
          [
           "Poland"
          ]
         ],
         "hovertemplate": "country=%{customdata[0]}<br>Tertiary Education=%{x}<br>Quality of Life=%{y}<extra></extra>",
         "legendgroup": "Poland",
         "marker": {
          "color": "#B6E880",
          "opacity": 1,
          "symbol": "circle"
         },
         "mode": "markers",
         "name": "Poland",
         "orientation": "v",
         "showlegend": true,
         "type": "scatter",
         "x": [
          -0.4494462699639075
         ],
         "xaxis": "x",
         "y": [
          -0.679627768946354
         ],
         "yaxis": "y"
        },
        {
         "customdata": [
          [
           "Portugal"
          ]
         ],
         "hovertemplate": "country=%{customdata[0]}<br>Tertiary Education=%{x}<br>Quality of Life=%{y}<extra></extra>",
         "legendgroup": "Portugal",
         "marker": {
          "color": "#FF97FF",
          "opacity": 1,
          "symbol": "circle"
         },
         "mode": "markers",
         "name": "Portugal",
         "orientation": "v",
         "showlegend": true,
         "type": "scatter",
         "x": [
          -0.4871813043508455
         ],
         "xaxis": "x",
         "y": [
          -1.160624793662532
         ],
         "yaxis": "y"
        },
        {
         "customdata": [
          [
           "Romania"
          ]
         ],
         "hovertemplate": "country=%{customdata[0]}<br>Tertiary Education=%{x}<br>Quality of Life=%{y}<extra></extra>",
         "legendgroup": "Romania",
         "marker": {
          "color": "#FECB52",
          "opacity": 1,
          "symbol": "circle"
         },
         "mode": "markers",
         "name": "Romania",
         "orientation": "v",
         "showlegend": true,
         "type": "scatter",
         "x": [
          -1.4978612520365677
         ],
         "xaxis": "x",
         "y": [
          -0.771559959833267
         ],
         "yaxis": "y"
        },
        {
         "customdata": [
          [
           "Slovakia"
          ]
         ],
         "hovertemplate": "country=%{customdata[0]}<br>Tertiary Education=%{x}<br>Quality of Life=%{y}<extra></extra>",
         "legendgroup": "Slovakia",
         "marker": {
          "color": "#636efa",
          "opacity": 1,
          "symbol": "circle"
         },
         "mode": "markers",
         "name": "Slovakia",
         "orientation": "v",
         "showlegend": true,
         "type": "scatter",
         "x": [
          -0.7569942577341284
         ],
         "xaxis": "x",
         "y": [
          -0.3408181379725673
         ],
         "yaxis": "y"
        },
        {
         "customdata": [
          [
           "Slovenia"
          ]
         ],
         "hovertemplate": "country=%{customdata[0]}<br>Tertiary Education=%{x}<br>Quality of Life=%{y}<extra></extra>",
         "legendgroup": "Slovenia",
         "marker": {
          "color": "#EF553B",
          "opacity": 1,
          "symbol": "circle"
         },
         "mode": "markers",
         "name": "Slovenia",
         "orientation": "v",
         "showlegend": true,
         "type": "scatter",
         "x": [
          0.11016578149771629
         ],
         "xaxis": "x",
         "y": [
          -0.35443182460747724
         ],
         "yaxis": "y"
        },
        {
         "customdata": [
          [
           "Spain"
          ]
         ],
         "hovertemplate": "country=%{customdata[0]}<br>Tertiary Education=%{x}<br>Quality of Life=%{y}<extra></extra>",
         "legendgroup": "Spain",
         "marker": {
          "color": "#00cc96",
          "opacity": 1,
          "symbol": "circle"
         },
         "mode": "markers",
         "name": "Spain",
         "orientation": "v",
         "showlegend": true,
         "type": "scatter",
         "x": [
          0.759305320669852
         ],
         "xaxis": "x",
         "y": [
          0.01791444668768778
         ],
         "yaxis": "y"
        },
        {
         "customdata": [
          [
           "Sweden"
          ]
         ],
         "hovertemplate": "country=%{customdata[0]}<br>Tertiary Education=%{x}<br>Quality of Life=%{y}<extra></extra>",
         "legendgroup": "Sweden",
         "marker": {
          "color": "#ab63fa",
          "opacity": 1,
          "symbol": "circle"
         },
         "mode": "markers",
         "name": "Sweden",
         "orientation": "v",
         "showlegend": true,
         "type": "scatter",
         "x": [
          1.1626600251928378
         ],
         "xaxis": "x",
         "y": [
          1.2327568513976677
         ],
         "yaxis": "y"
        }
       ],
       "layout": {
        "legend": {
         "title": {
          "text": "country"
         },
         "tracegroupgap": 0
        },
        "template": {
         "data": {
          "bar": [
           {
            "error_x": {
             "color": "#2a3f5f"
            },
            "error_y": {
             "color": "#2a3f5f"
            },
            "marker": {
             "line": {
              "color": "#E5ECF6",
              "width": 0.5
             },
             "pattern": {
              "fillmode": "overlay",
              "size": 10,
              "solidity": 0.2
             }
            },
            "type": "bar"
           }
          ],
          "barpolar": [
           {
            "marker": {
             "line": {
              "color": "#E5ECF6",
              "width": 0.5
             },
             "pattern": {
              "fillmode": "overlay",
              "size": 10,
              "solidity": 0.2
             }
            },
            "type": "barpolar"
           }
          ],
          "carpet": [
           {
            "aaxis": {
             "endlinecolor": "#2a3f5f",
             "gridcolor": "white",
             "linecolor": "white",
             "minorgridcolor": "white",
             "startlinecolor": "#2a3f5f"
            },
            "baxis": {
             "endlinecolor": "#2a3f5f",
             "gridcolor": "white",
             "linecolor": "white",
             "minorgridcolor": "white",
             "startlinecolor": "#2a3f5f"
            },
            "type": "carpet"
           }
          ],
          "choropleth": [
           {
            "colorbar": {
             "outlinewidth": 0,
             "ticks": ""
            },
            "type": "choropleth"
           }
          ],
          "contour": [
           {
            "colorbar": {
             "outlinewidth": 0,
             "ticks": ""
            },
            "colorscale": [
             [
              0,
              "#0d0887"
             ],
             [
              0.1111111111111111,
              "#46039f"
             ],
             [
              0.2222222222222222,
              "#7201a8"
             ],
             [
              0.3333333333333333,
              "#9c179e"
             ],
             [
              0.4444444444444444,
              "#bd3786"
             ],
             [
              0.5555555555555556,
              "#d8576b"
             ],
             [
              0.6666666666666666,
              "#ed7953"
             ],
             [
              0.7777777777777778,
              "#fb9f3a"
             ],
             [
              0.8888888888888888,
              "#fdca26"
             ],
             [
              1,
              "#f0f921"
             ]
            ],
            "type": "contour"
           }
          ],
          "contourcarpet": [
           {
            "colorbar": {
             "outlinewidth": 0,
             "ticks": ""
            },
            "type": "contourcarpet"
           }
          ],
          "heatmap": [
           {
            "colorbar": {
             "outlinewidth": 0,
             "ticks": ""
            },
            "colorscale": [
             [
              0,
              "#0d0887"
             ],
             [
              0.1111111111111111,
              "#46039f"
             ],
             [
              0.2222222222222222,
              "#7201a8"
             ],
             [
              0.3333333333333333,
              "#9c179e"
             ],
             [
              0.4444444444444444,
              "#bd3786"
             ],
             [
              0.5555555555555556,
              "#d8576b"
             ],
             [
              0.6666666666666666,
              "#ed7953"
             ],
             [
              0.7777777777777778,
              "#fb9f3a"
             ],
             [
              0.8888888888888888,
              "#fdca26"
             ],
             [
              1,
              "#f0f921"
             ]
            ],
            "type": "heatmap"
           }
          ],
          "heatmapgl": [
           {
            "colorbar": {
             "outlinewidth": 0,
             "ticks": ""
            },
            "colorscale": [
             [
              0,
              "#0d0887"
             ],
             [
              0.1111111111111111,
              "#46039f"
             ],
             [
              0.2222222222222222,
              "#7201a8"
             ],
             [
              0.3333333333333333,
              "#9c179e"
             ],
             [
              0.4444444444444444,
              "#bd3786"
             ],
             [
              0.5555555555555556,
              "#d8576b"
             ],
             [
              0.6666666666666666,
              "#ed7953"
             ],
             [
              0.7777777777777778,
              "#fb9f3a"
             ],
             [
              0.8888888888888888,
              "#fdca26"
             ],
             [
              1,
              "#f0f921"
             ]
            ],
            "type": "heatmapgl"
           }
          ],
          "histogram": [
           {
            "marker": {
             "pattern": {
              "fillmode": "overlay",
              "size": 10,
              "solidity": 0.2
             }
            },
            "type": "histogram"
           }
          ],
          "histogram2d": [
           {
            "colorbar": {
             "outlinewidth": 0,
             "ticks": ""
            },
            "colorscale": [
             [
              0,
              "#0d0887"
             ],
             [
              0.1111111111111111,
              "#46039f"
             ],
             [
              0.2222222222222222,
              "#7201a8"
             ],
             [
              0.3333333333333333,
              "#9c179e"
             ],
             [
              0.4444444444444444,
              "#bd3786"
             ],
             [
              0.5555555555555556,
              "#d8576b"
             ],
             [
              0.6666666666666666,
              "#ed7953"
             ],
             [
              0.7777777777777778,
              "#fb9f3a"
             ],
             [
              0.8888888888888888,
              "#fdca26"
             ],
             [
              1,
              "#f0f921"
             ]
            ],
            "type": "histogram2d"
           }
          ],
          "histogram2dcontour": [
           {
            "colorbar": {
             "outlinewidth": 0,
             "ticks": ""
            },
            "colorscale": [
             [
              0,
              "#0d0887"
             ],
             [
              0.1111111111111111,
              "#46039f"
             ],
             [
              0.2222222222222222,
              "#7201a8"
             ],
             [
              0.3333333333333333,
              "#9c179e"
             ],
             [
              0.4444444444444444,
              "#bd3786"
             ],
             [
              0.5555555555555556,
              "#d8576b"
             ],
             [
              0.6666666666666666,
              "#ed7953"
             ],
             [
              0.7777777777777778,
              "#fb9f3a"
             ],
             [
              0.8888888888888888,
              "#fdca26"
             ],
             [
              1,
              "#f0f921"
             ]
            ],
            "type": "histogram2dcontour"
           }
          ],
          "mesh3d": [
           {
            "colorbar": {
             "outlinewidth": 0,
             "ticks": ""
            },
            "type": "mesh3d"
           }
          ],
          "parcoords": [
           {
            "line": {
             "colorbar": {
              "outlinewidth": 0,
              "ticks": ""
             }
            },
            "type": "parcoords"
           }
          ],
          "pie": [
           {
            "automargin": true,
            "type": "pie"
           }
          ],
          "scatter": [
           {
            "fillpattern": {
             "fillmode": "overlay",
             "size": 10,
             "solidity": 0.2
            },
            "type": "scatter"
           }
          ],
          "scatter3d": [
           {
            "line": {
             "colorbar": {
              "outlinewidth": 0,
              "ticks": ""
             }
            },
            "marker": {
             "colorbar": {
              "outlinewidth": 0,
              "ticks": ""
             }
            },
            "type": "scatter3d"
           }
          ],
          "scattercarpet": [
           {
            "marker": {
             "colorbar": {
              "outlinewidth": 0,
              "ticks": ""
             }
            },
            "type": "scattercarpet"
           }
          ],
          "scattergeo": [
           {
            "marker": {
             "colorbar": {
              "outlinewidth": 0,
              "ticks": ""
             }
            },
            "type": "scattergeo"
           }
          ],
          "scattergl": [
           {
            "marker": {
             "colorbar": {
              "outlinewidth": 0,
              "ticks": ""
             }
            },
            "type": "scattergl"
           }
          ],
          "scattermapbox": [
           {
            "marker": {
             "colorbar": {
              "outlinewidth": 0,
              "ticks": ""
             }
            },
            "type": "scattermapbox"
           }
          ],
          "scatterpolar": [
           {
            "marker": {
             "colorbar": {
              "outlinewidth": 0,
              "ticks": ""
             }
            },
            "type": "scatterpolar"
           }
          ],
          "scatterpolargl": [
           {
            "marker": {
             "colorbar": {
              "outlinewidth": 0,
              "ticks": ""
             }
            },
            "type": "scatterpolargl"
           }
          ],
          "scatterternary": [
           {
            "marker": {
             "colorbar": {
              "outlinewidth": 0,
              "ticks": ""
             }
            },
            "type": "scatterternary"
           }
          ],
          "surface": [
           {
            "colorbar": {
             "outlinewidth": 0,
             "ticks": ""
            },
            "colorscale": [
             [
              0,
              "#0d0887"
             ],
             [
              0.1111111111111111,
              "#46039f"
             ],
             [
              0.2222222222222222,
              "#7201a8"
             ],
             [
              0.3333333333333333,
              "#9c179e"
             ],
             [
              0.4444444444444444,
              "#bd3786"
             ],
             [
              0.5555555555555556,
              "#d8576b"
             ],
             [
              0.6666666666666666,
              "#ed7953"
             ],
             [
              0.7777777777777778,
              "#fb9f3a"
             ],
             [
              0.8888888888888888,
              "#fdca26"
             ],
             [
              1,
              "#f0f921"
             ]
            ],
            "type": "surface"
           }
          ],
          "table": [
           {
            "cells": {
             "fill": {
              "color": "#EBF0F8"
             },
             "line": {
              "color": "white"
             }
            },
            "header": {
             "fill": {
              "color": "#C8D4E3"
             },
             "line": {
              "color": "white"
             }
            },
            "type": "table"
           }
          ]
         },
         "layout": {
          "annotationdefaults": {
           "arrowcolor": "#2a3f5f",
           "arrowhead": 0,
           "arrowwidth": 1
          },
          "autotypenumbers": "strict",
          "coloraxis": {
           "colorbar": {
            "outlinewidth": 0,
            "ticks": ""
           }
          },
          "colorscale": {
           "diverging": [
            [
             0,
             "#8e0152"
            ],
            [
             0.1,
             "#c51b7d"
            ],
            [
             0.2,
             "#de77ae"
            ],
            [
             0.3,
             "#f1b6da"
            ],
            [
             0.4,
             "#fde0ef"
            ],
            [
             0.5,
             "#f7f7f7"
            ],
            [
             0.6,
             "#e6f5d0"
            ],
            [
             0.7,
             "#b8e186"
            ],
            [
             0.8,
             "#7fbc41"
            ],
            [
             0.9,
             "#4d9221"
            ],
            [
             1,
             "#276419"
            ]
           ],
           "sequential": [
            [
             0,
             "#0d0887"
            ],
            [
             0.1111111111111111,
             "#46039f"
            ],
            [
             0.2222222222222222,
             "#7201a8"
            ],
            [
             0.3333333333333333,
             "#9c179e"
            ],
            [
             0.4444444444444444,
             "#bd3786"
            ],
            [
             0.5555555555555556,
             "#d8576b"
            ],
            [
             0.6666666666666666,
             "#ed7953"
            ],
            [
             0.7777777777777778,
             "#fb9f3a"
            ],
            [
             0.8888888888888888,
             "#fdca26"
            ],
            [
             1,
             "#f0f921"
            ]
           ],
           "sequentialminus": [
            [
             0,
             "#0d0887"
            ],
            [
             0.1111111111111111,
             "#46039f"
            ],
            [
             0.2222222222222222,
             "#7201a8"
            ],
            [
             0.3333333333333333,
             "#9c179e"
            ],
            [
             0.4444444444444444,
             "#bd3786"
            ],
            [
             0.5555555555555556,
             "#d8576b"
            ],
            [
             0.6666666666666666,
             "#ed7953"
            ],
            [
             0.7777777777777778,
             "#fb9f3a"
            ],
            [
             0.8888888888888888,
             "#fdca26"
            ],
            [
             1,
             "#f0f921"
            ]
           ]
          },
          "colorway": [
           "#636efa",
           "#EF553B",
           "#00cc96",
           "#ab63fa",
           "#FFA15A",
           "#19d3f3",
           "#FF6692",
           "#B6E880",
           "#FF97FF",
           "#FECB52"
          ],
          "font": {
           "color": "#2a3f5f"
          },
          "geo": {
           "bgcolor": "white",
           "lakecolor": "white",
           "landcolor": "#E5ECF6",
           "showlakes": true,
           "showland": true,
           "subunitcolor": "white"
          },
          "hoverlabel": {
           "align": "left"
          },
          "hovermode": "closest",
          "mapbox": {
           "style": "light"
          },
          "paper_bgcolor": "white",
          "plot_bgcolor": "#E5ECF6",
          "polar": {
           "angularaxis": {
            "gridcolor": "white",
            "linecolor": "white",
            "ticks": ""
           },
           "bgcolor": "#E5ECF6",
           "radialaxis": {
            "gridcolor": "white",
            "linecolor": "white",
            "ticks": ""
           }
          },
          "scene": {
           "xaxis": {
            "backgroundcolor": "#E5ECF6",
            "gridcolor": "white",
            "gridwidth": 2,
            "linecolor": "white",
            "showbackground": true,
            "ticks": "",
            "zerolinecolor": "white"
           },
           "yaxis": {
            "backgroundcolor": "#E5ECF6",
            "gridcolor": "white",
            "gridwidth": 2,
            "linecolor": "white",
            "showbackground": true,
            "ticks": "",
            "zerolinecolor": "white"
           },
           "zaxis": {
            "backgroundcolor": "#E5ECF6",
            "gridcolor": "white",
            "gridwidth": 2,
            "linecolor": "white",
            "showbackground": true,
            "ticks": "",
            "zerolinecolor": "white"
           }
          },
          "shapedefaults": {
           "line": {
            "color": "#2a3f5f"
           }
          },
          "ternary": {
           "aaxis": {
            "gridcolor": "white",
            "linecolor": "white",
            "ticks": ""
           },
           "baxis": {
            "gridcolor": "white",
            "linecolor": "white",
            "ticks": ""
           },
           "bgcolor": "#E5ECF6",
           "caxis": {
            "gridcolor": "white",
            "linecolor": "white",
            "ticks": ""
           }
          },
          "title": {
           "x": 0.05
          },
          "xaxis": {
           "automargin": true,
           "gridcolor": "white",
           "linecolor": "white",
           "ticks": "",
           "title": {
            "standoff": 15
           },
           "zerolinecolor": "white",
           "zerolinewidth": 2
          },
          "yaxis": {
           "automargin": true,
           "gridcolor": "white",
           "linecolor": "white",
           "ticks": "",
           "title": {
            "standoff": 15
           },
           "zerolinecolor": "white",
           "zerolinewidth": 2
          }
         }
        },
        "title": {
         "text": "Comparing Relationship of Tertiary Education and Quality of Life in Europe"
        },
        "xaxis": {
         "anchor": "y",
         "domain": [
          0,
          1
         ],
         "title": {
          "text": "Tertiary Education"
         }
        },
        "yaxis": {
         "anchor": "x",
         "domain": [
          0,
          1
         ],
         "title": {
          "text": "Quality of Life"
         }
        }
       }
      }
     },
     "metadata": {},
     "output_type": "display_data"
    }
   ],
   "source": [
    "fig = px.scatter(\n",
    "    avgs,\n",
    "    x='education',\n",
    "    y='qol',\n",
    "    color='country',\n",
    "    opacity=1,\n",
    "    labels={'education': 'Tertiary Education', 'qol': 'Quality of Life'},\n",
    "    title='Comparing Relationship of Tertiary Education and Quality of Life in Europe',\n",
    "    hover_data=['country']\n",
    ")\n",
    "\n",
    "fig"
   ]
  },
  {
   "cell_type": "code",
   "execution_count": 55,
   "id": "cb277d75",
   "metadata": {},
   "outputs": [
    {
     "data": {
      "application/vnd.plotly.v1+json": {
       "config": {
        "plotlyServerURL": "https://plot.ly"
       },
       "data": [
        {
         "customdata": [
          [
           "Austria"
          ],
          [
           "Austria"
          ],
          [
           "Austria"
          ],
          [
           "Austria"
          ],
          [
           "Austria"
          ],
          [
           "Austria"
          ],
          [
           "Austria"
          ],
          [
           "Austria"
          ],
          [
           "Austria"
          ],
          [
           "Austria"
          ],
          [
           "Austria"
          ]
         ],
         "hovertemplate": "country=%{customdata[0]}<br>Controlled Drug Crime=%{x}<br>Quality of Life=%{y}<extra></extra>",
         "legendgroup": "Austria",
         "marker": {
          "color": "#636efa",
          "opacity": 1,
          "symbol": "circle"
         },
         "mode": "markers",
         "name": "Austria",
         "orientation": "v",
         "showlegend": true,
         "type": "scatter",
         "x": [
          -0.44143324682081264,
          -0.44647089828964365,
          -0.031643198247176305,
          0.028136932516285174,
          0.07629993368041207,
          0.1749768400274537,
          0.15174258082878456,
          0.1912805120538523,
          0.14575846150823377,
          0.06448435114442659,
          0.06098852633726809
         ],
         "xaxis": "x",
         "y": [
          1.07512469036187,
          1.261656080920897,
          1.0396574541288153,
          0.9332557454296511,
          0.7848187937876085,
          0.9595277722689514,
          1.1000831158592048,
          1.163135980273523,
          1.1289823453824337,
          0.991054204476111,
          0.9043565159064223
         ],
         "yaxis": "y"
        },
        {
         "customdata": [
          [
           "Belgium"
          ]
         ],
         "hovertemplate": "country=%{customdata[0]}<br>Controlled Drug Crime=%{x}<br>Quality of Life=%{y}<extra></extra>",
         "legendgroup": "Belgium",
         "marker": {
          "color": "#EF553B",
          "opacity": 1,
          "symbol": "circle"
         },
         "mode": "markers",
         "name": "Belgium",
         "orientation": "v",
         "showlegend": true,
         "type": "scatter",
         "x": [
          -0.26580239788474924
         ],
         "xaxis": "x",
         "y": [
          0.9253741373778621
         ],
         "yaxis": "y"
        },
        {
         "customdata": [
          [
           "Bulgaria"
          ],
          [
           "Bulgaria"
          ],
          [
           "Bulgaria"
          ],
          [
           "Bulgaria"
          ],
          [
           "Bulgaria"
          ],
          [
           "Bulgaria"
          ],
          [
           "Bulgaria"
          ],
          [
           "Bulgaria"
          ],
          [
           "Bulgaria"
          ],
          [
           "Bulgaria"
          ],
          [
           "Bulgaria"
          ]
         ],
         "hovertemplate": "country=%{customdata[0]}<br>Controlled Drug Crime=%{x}<br>Quality of Life=%{y}<extra></extra>",
         "legendgroup": "Bulgaria",
         "marker": {
          "color": "#00cc96",
          "opacity": 1,
          "symbol": "circle"
         },
         "mode": "markers",
         "name": "Bulgaria",
         "orientation": "v",
         "showlegend": true,
         "type": "scatter",
         "x": [
          -0.4332050827550553,
          -0.4316632560933828,
          -0.4274041507606438,
          -0.41563436505619317,
          -0.4045210006037417,
          -0.4006893323653278,
          -0.3923390434154776,
          -0.39334657370924375,
          -0.40181898754318685,
          -0.4018342531536985,
          -0.3950868533075672
         ],
         "xaxis": "x",
         "y": [
          -3.3096765891172453,
          -3.1888252656564666,
          -2.8775017476107654,
          -2.878815348952731,
          -2.225955481996133,
          -1.9382767881058025,
          -1.8358158834325335,
          -1.7162781613137197,
          -1.5008475412314628,
          -1.362919400325139,
          -1.2381272728384658
         ],
         "yaxis": "y"
        },
        {
         "customdata": [
          [
           "Croatia"
          ],
          [
           "Croatia"
          ],
          [
           "Croatia"
          ],
          [
           "Croatia"
          ],
          [
           "Croatia"
          ],
          [
           "Croatia"
          ],
          [
           "Croatia"
          ],
          [
           "Croatia"
          ],
          [
           "Croatia"
          ],
          [
           "Croatia"
          ],
          [
           "Croatia"
          ]
         ],
         "hovertemplate": "country=%{customdata[0]}<br>Controlled Drug Crime=%{x}<br>Quality of Life=%{y}<extra></extra>",
         "legendgroup": "Croatia",
         "marker": {
          "color": "#ab63fa",
          "opacity": 1,
          "symbol": "circle"
         },
         "mode": "markers",
         "name": "Croatia",
         "orientation": "v",
         "showlegend": true,
         "type": "scatter",
         "x": [
          -0.35828146636407754,
          -0.3654868345255571,
          -0.4355254555528199,
          -0.43346459813375265,
          -0.29950886589438225,
          -0.29654733745513007,
          -0.3058898910882349,
          -0.3059051566987465,
          -0.33616159673275586,
          -0.3402069835183323,
          -0.3366348306586157
         ],
         "xaxis": "x",
         "y": [
          -1.0318918621499635,
          -0.981975011155295,
          -0.8532420796427256,
          -1.209228043315236,
          -1.465380304998408,
          -1.428599467423389,
          -1.282789718465275,
          -1.186896820501832,
          -0.6916691145810335,
          -0.3724639884835421,
          -0.3724639884835421
         ],
         "yaxis": "y"
        },
        {
         "customdata": [
          [
           "Czechia"
          ],
          [
           "Czechia"
          ],
          [
           "Czechia"
          ],
          [
           "Czechia"
          ],
          [
           "Czechia"
          ],
          [
           "Czechia"
          ],
          [
           "Czechia"
          ],
          [
           "Czechia"
          ],
          [
           "Czechia"
          ],
          [
           "Czechia"
          ],
          [
           "Czechia"
          ]
         ],
         "hovertemplate": "country=%{customdata[0]}<br>Controlled Drug Crime=%{x}<br>Quality of Life=%{y}<extra></extra>",
         "legendgroup": "Czechia",
         "marker": {
          "color": "#FFA15A",
          "opacity": 1,
          "symbol": "circle"
         },
         "mode": "markers",
         "name": "Czechia",
         "orientation": "v",
         "showlegend": true,
         "type": "scatter",
         "x": [
          -0.4213589689980466,
          -0.41862642471646855,
          -0.3914078411742694,
          -0.39214059047882666,
          -0.3918658094896177,
          -0.3913773099532462,
          -0.39342290176180184,
          -0.40328448615230134,
          -0.41287128955359187,
          -0.41279496150103384,
          -0.4127338990589874
         ],
         "xaxis": "x",
         "y": [
          -0.06376767312177058,
          -0.15571976705931978,
          0.12670452146315145,
          0.2462422435819652,
          0.26331906102750985,
          0.3973063979079386,
          0.5825241871250012,
          0.6600266663009343,
          0.7309611387670438,
          0.6718490783786196,
          0.5733289777312456
         ],
         "yaxis": "y"
        },
        {
         "customdata": [
          [
           "Denmark"
          ],
          [
           "Denmark"
          ],
          [
           "Denmark"
          ],
          [
           "Denmark"
          ],
          [
           "Denmark"
          ],
          [
           "Denmark"
          ],
          [
           "Denmark"
          ],
          [
           "Denmark"
          ],
          [
           "Denmark"
          ],
          [
           "Denmark"
          ],
          [
           "Denmark"
          ]
         ],
         "hovertemplate": "country=%{customdata[0]}<br>Controlled Drug Crime=%{x}<br>Quality of Life=%{y}<extra></extra>",
         "legendgroup": "Denmark",
         "marker": {
          "color": "#19d3f3",
          "opacity": 1,
          "symbol": "circle"
         },
         "mode": "markers",
         "name": "Denmark",
         "orientation": "v",
         "showlegend": true,
         "type": "scatter",
         "x": [
          -0.1246107662628761,
          -0.12358797035859828,
          -0.047992667105109715,
          -0.09806386958318776,
          -0.11531400946130611,
          -0.05423630180435786,
          -0.016285994072497485,
          0.026213465591822423,
          -0.0002418374247962558,
          -0.03924547228195766,
          0.0004909118797609839
         ],
         "xaxis": "x",
         "y": [
          1.901379934457844,
          1.6872629157175514,
          1.4692050929513647,
          1.4678914916093995,
          1.46263708624154,
          1.5059859305263839,
          1.565097990914808,
          1.6255236526451975,
          1.5913700177541081,
          1.612387639225548,
          1.5467075721272991
         ],
         "yaxis": "y"
        },
        {
         "customdata": [
          [
           "Estonia"
          ],
          [
           "Estonia"
          ],
          [
           "Estonia"
          ],
          [
           "Estonia"
          ],
          [
           "Estonia"
          ],
          [
           "Estonia"
          ],
          [
           "Estonia"
          ],
          [
           "Estonia"
          ],
          [
           "Estonia"
          ],
          [
           "Estonia"
          ],
          [
           "Estonia"
          ]
         ],
         "hovertemplate": "country=%{customdata[0]}<br>Controlled Drug Crime=%{x}<br>Quality of Life=%{y}<extra></extra>",
         "legendgroup": "Estonia",
         "marker": {
          "color": "#FF6692",
          "opacity": 1,
          "symbol": "circle"
         },
         "mode": "markers",
         "name": "Estonia",
         "orientation": "v",
         "showlegend": true,
         "type": "scatter",
         "x": [
          -0.41851956544288726,
          -0.406383405086158,
          -0.4149932094147056,
          -0.40079619163890906,
          -0.3905529669856193,
          -0.3881867973563199,
          -0.40807788785294663,
          -0.4158175523823325,
          -0.4203514387042804,
          -0.42158795315572073,
          -0.4255417462782275
         ],
         "xaxis": "x",
         "y": [
          -1.4167770553457038,
          -1.2906713265170653,
          -1.2867305224911703,
          -1.1711336043982516,
          -1.0476550782535439,
          -0.8795141064820259,
          -0.6772194998194185,
          -0.5077649267059351,
          -0.28839350259778307,
          -0.08872609861910542,
          0.061024454364902524
         ],
         "yaxis": "y"
        },
        {
         "customdata": [
          [
           "Finland"
          ],
          [
           "Finland"
          ],
          [
           "Finland"
          ],
          [
           "Finland"
          ],
          [
           "Finland"
          ],
          [
           "Finland"
          ],
          [
           "Finland"
          ],
          [
           "Finland"
          ],
          [
           "Finland"
          ],
          [
           "Finland"
          ],
          [
           "Finland"
          ]
         ],
         "hovertemplate": "country=%{customdata[0]}<br>Controlled Drug Crime=%{x}<br>Quality of Life=%{y}<extra></extra>",
         "legendgroup": "Finland",
         "marker": {
          "color": "#B6E880",
          "opacity": 1,
          "symbol": "circle"
         },
         "mode": "markers",
         "name": "Finland",
         "orientation": "v",
         "showlegend": true,
         "type": "scatter",
         "x": [
          -0.16552260243398864,
          -0.1699801607033785,
          -0.14434920065438675,
          -0.11913041208920841,
          -0.09336206154561213,
          -0.05492325427738027,
          -0.03146001092103699,
          0.016886177569229225,
          0.08987106142523263,
          -0.04519906038148524,
          -0.09206448465212537
         ],
         "xaxis": "x",
         "y": [
          1.5375123627335434,
          1.2879281077601972,
          1.3102593305736012,
          1.319454539967357,
          1.393016215117396,
          1.6071332338576874,
          1.7870966177068908,
          1.8396406713854903,
          1.882989515670334,
          1.8554038874890695,
          1.8330726646756654
         ],
         "yaxis": "y"
        },
        {
         "customdata": [
          [
           "France"
          ],
          [
           "France"
          ],
          [
           "France"
          ],
          [
           "France"
          ],
          [
           "France"
          ],
          [
           "France"
          ],
          [
           "France"
          ],
          [
           "France"
          ],
          [
           "France"
          ],
          [
           "France"
          ]
         ],
         "hovertemplate": "country=%{customdata[0]}<br>Controlled Drug Crime=%{x}<br>Quality of Life=%{y}<extra></extra>",
         "legendgroup": "France",
         "marker": {
          "color": "#FF97FF",
          "opacity": 1,
          "symbol": "circle"
         },
         "mode": "markers",
         "name": "France",
         "orientation": "v",
         "showlegend": true,
         "type": "scatter",
         "x": [
          -0.3867518299682286,
          -0.3715930787302007,
          -0.36261689974937455,
          3.2157032666138594,
          2.990627105230694,
          3.2954508159265057,
          3.25763789868925,
          2.8489011772409145,
          3.9452315273531497,
          4.58786793306036
         ],
         "xaxis": "x",
         "y": [
          0.4669272690320826,
          0.21865661540070067,
          0.09123728523009673,
          0.043947636919357866,
          0.1056868999917117,
          0.2409878382141047,
          0.3355671348355836,
          0.36972076972667406,
          0.3657799657007789,
          0.33162633080968845
         ],
         "yaxis": "y"
        },
        {
         "customdata": [
          [
           "Germany"
          ],
          [
           "Germany"
          ],
          [
           "Germany"
          ],
          [
           "Germany"
          ],
          [
           "Germany"
          ],
          [
           "Germany"
          ],
          [
           "Germany"
          ],
          [
           "Germany"
          ],
          [
           "Germany"
          ],
          [
           "Germany"
          ],
          [
           "Germany"
          ]
         ],
         "hovertemplate": "country=%{customdata[0]}<br>Controlled Drug Crime=%{x}<br>Quality of Life=%{y}<extra></extra>",
         "legendgroup": "Germany",
         "marker": {
          "color": "#FECB52",
          "opacity": 1,
          "symbol": "circle"
         },
         "mode": "markers",
         "name": "Germany",
         "orientation": "v",
         "showlegend": true,
         "type": "scatter",
         "x": [
          3.1331315793565655,
          3.143390069620367,
          3.747663996111904,
          3.8372731298150495,
          4.142432683942117,
          4.56965605972001,
          4.876220050014146,
          5.014908121512115,
          5.106593378244839,
          5.034768680787718,
          4.723792929055728
         ],
         "xaxis": "x",
         "y": [
          0.21471581137480558,
          0.34607594557130344,
          0.4485368502445725,
          0.7690555776840282,
          0.7125707199795337,
          0.7309611387670438,
          0.757233165606344,
          0.8767708877251567,
          0.9805453937403912,
          0.8215996313626276,
          0.6350682408036006
         ],
         "yaxis": "y"
        },
        {
         "customdata": [
          [
           "Greece"
          ],
          [
           "Greece"
          ],
          [
           "Greece"
          ],
          [
           "Greece"
          ],
          [
           "Greece"
          ],
          [
           "Greece"
          ],
          [
           "Greece"
          ],
          [
           "Greece"
          ],
          [
           "Greece"
          ],
          [
           "Greece"
          ],
          [
           "Greece"
          ]
         ],
         "hovertemplate": "country=%{customdata[0]}<br>Controlled Drug Crime=%{x}<br>Quality of Life=%{y}<extra></extra>",
         "legendgroup": "Greece",
         "marker": {
          "color": "#636efa",
          "opacity": 1,
          "symbol": "circle"
         },
         "mode": "markers",
         "name": "Greece",
         "orientation": "v",
         "showlegend": true,
         "type": "scatter",
         "x": [
          -0.32746019874113863,
          -0.32199511017798255,
          -0.31114126110422846,
          -0.3121793226190179,
          -0.3076149050760467,
          -0.28152597671170665,
          -0.27033628420669714,
          -0.26931348830241936,
          -0.2810985396173816,
          -0.29399798049969134,
          -0.2932804968056457
         ],
         "xaxis": "x",
         "y": [
          -0.3619551777478222,
          -1.278848914439381,
          -2.0381104900951406,
          -1.8069166539093036,
          -1.5520779935680968,
          -1.3799962177706848,
          -1.4732619130501983,
          -1.1737608070821823,
          -0.9005317279534656,
          -0.6049714260113437,
          -0.6273026488247488
         ],
         "yaxis": "y"
        },
        {
         "customdata": [
          [
           "Hungary"
          ],
          [
           "Hungary"
          ],
          [
           "Hungary"
          ]
         ],
         "hovertemplate": "country=%{customdata[0]}<br>Controlled Drug Crime=%{x}<br>Quality of Life=%{y}<extra></extra>",
         "legendgroup": "Hungary",
         "marker": {
          "color": "#EF553B",
          "opacity": 1,
          "symbol": "circle"
         },
         "mode": "markers",
         "name": "Hungary",
         "orientation": "v",
         "showlegend": true,
         "type": "scatter",
         "x": [
          -0.38542372185371865,
          -0.3972698356107273,
          -0.38337813004516297
         ],
         "xaxis": "x",
         "y": [
          -1.925140774686153,
          -2.145825800136269,
          -2.1129857665871454
         ],
         "yaxis": "y"
        },
        {
         "customdata": [
          [
           "Ireland"
          ],
          [
           "Ireland"
          ],
          [
           "Ireland"
          ],
          [
           "Ireland"
          ],
          [
           "Ireland"
          ],
          [
           "Ireland"
          ],
          [
           "Ireland"
          ],
          [
           "Ireland"
          ],
          [
           "Ireland"
          ],
          [
           "Ireland"
          ],
          [
           "Ireland"
          ]
         ],
         "hovertemplate": "country=%{customdata[0]}<br>Controlled Drug Crime=%{x}<br>Quality of Life=%{y}<extra></extra>",
         "legendgroup": "Ireland",
         "marker": {
          "color": "#00cc96",
          "opacity": 1,
          "symbol": "circle"
         },
         "mode": "markers",
         "name": "Ireland",
         "orientation": "v",
         "showlegend": true,
         "type": "scatter",
         "x": [
          -0.2086021552977497,
          -0.2267834974170762,
          -0.23469108366208977,
          -0.25468903343229776,
          -0.24313296627500963,
          -0.22852377701539967,
          -0.20612912639486902,
          -0.1624389491106436,
          -0.13847194060741722,
          -0.18407031920559377,
          -0.22272284502098819
         ],
         "xaxis": "x",
         "y": [
          1.1499999668538734,
          0.8767708877251567,
          0.6981211052179199,
          0.654772260933075,
          0.7467243548706242,
          0.7467243548706242,
          0.8045228139170829,
          0.9004157118805273,
          0.888593299802842,
          0.8307948407563832,
          0.6600266663009343
         ],
         "yaxis": "y"
        },
        {
         "customdata": [
          [
           "Italy"
          ],
          [
           "Italy"
          ],
          [
           "Italy"
          ],
          [
           "Italy"
          ],
          [
           "Italy"
          ],
          [
           "Italy"
          ],
          [
           "Italy"
          ],
          [
           "Italy"
          ],
          [
           "Italy"
          ],
          [
           "Italy"
          ]
         ],
         "hovertemplate": "country=%{customdata[0]}<br>Controlled Drug Crime=%{x}<br>Quality of Life=%{y}<extra></extra>",
         "legendgroup": "Italy",
         "marker": {
          "color": "#ab63fa",
          "opacity": 1,
          "symbol": "circle"
         },
         "mode": "markers",
         "name": "Italy",
         "orientation": "v",
         "showlegend": true,
         "type": "scatter",
         "x": [
          0.03992198383124745,
          0.02261078151108266,
          0.008383232514262921,
          0.0603321050852689,
          0.10841877819683776,
          0.11508984999041096,
          0.09863352185889629,
          0.0403341553150609,
          -0.020865677225980234,
          -0.031811119962804
         ],
         "xaxis": "x",
         "y": [
          -0.5090785280479004,
          -0.6049714260113437,
          -0.5668769870943592,
          -0.5839538045399039,
          -0.536664156229165,
          -0.24373105697097389,
          -0.02830043688871701,
          0.0978052919399215,
          0.07678767046848176,
          -0.004655612733346416
         ],
         "yaxis": "y"
        },
        {
         "customdata": [
          [
           "Latvia"
          ],
          [
           "Latvia"
          ],
          [
           "Latvia"
          ],
          [
           "Latvia"
          ],
          [
           "Latvia"
          ],
          [
           "Latvia"
          ],
          [
           "Latvia"
          ],
          [
           "Latvia"
          ],
          [
           "Latvia"
          ],
          [
           "Latvia"
          ],
          [
           "Latvia"
          ]
         ],
         "hovertemplate": "country=%{customdata[0]}<br>Controlled Drug Crime=%{x}<br>Quality of Life=%{y}<extra></extra>",
         "legendgroup": "Latvia",
         "marker": {
          "color": "#FFA15A",
          "opacity": 1,
          "symbol": "circle"
         },
         "mode": "markers",
         "name": "Latvia",
         "orientation": "v",
         "showlegend": true,
         "type": "scatter",
         "x": [
          -0.44682200733141064,
          -0.4348690343008207,
          -0.43567811165793596,
          -0.42297712371227714,
          -0.4361971424153307,
          -0.4312205533885461,
          -0.4370520166039808,
          -0.44089895045290634,
          -0.4466998824473178,
          -0.45451587502926166,
          -0.45752320030004867
         ],
         "xaxis": "x",
         "y": [
          -2.162902617581815,
          -1.7898398364637589,
          -1.7215325666815802,
          -1.1146487466937582,
          -0.7337043575239129,
          -0.6246754461408192,
          -0.6154802367470635,
          -0.602344223327414,
          -0.4946289132862855,
          -0.3002159146754684,
          -0.25686707039062345
         ],
         "yaxis": "y"
        },
        {
         "customdata": [
          [
           "Lithuania"
          ],
          [
           "Lithuania"
          ],
          [
           "Lithuania"
          ],
          [
           "Lithuania"
          ],
          [
           "Lithuania"
          ],
          [
           "Lithuania"
          ],
          [
           "Lithuania"
          ],
          [
           "Lithuania"
          ],
          [
           "Lithuania"
          ],
          [
           "Lithuania"
          ],
          [
           "Lithuania"
          ]
         ],
         "hovertemplate": "country=%{customdata[0]}<br>Controlled Drug Crime=%{x}<br>Quality of Life=%{y}<extra></extra>",
         "legendgroup": "Lithuania",
         "marker": {
          "color": "#19d3f3",
          "opacity": 1,
          "symbol": "circle"
         },
         "mode": "markers",
         "name": "Lithuania",
         "orientation": "v",
         "showlegend": true,
         "type": "scatter",
         "x": [
          -0.4424102458935556,
          -0.43096103800984875,
          -0.43735732881421296,
          -0.43831906227644435,
          -0.4419217463571841,
          -0.43682303244630666,
          -0.4276941973603644,
          -0.42984664844250126,
          -0.43196856830361496,
          -0.4288391181487351,
          -0.4298313828319897
         ],
         "xaxis": "x",
         "y": [
          -1.077867909118738,
          -1.2906713265170653,
          -0.756035580337317,
          -0.7823076071766173,
          -0.6653970877417332,
          -0.5997170206434843,
          -0.34093755627638245,
          -0.25423986770669377,
          -0.2016958140280944,
          0.049202042287217224,
          0.4656136676901172
         ],
         "yaxis": "y"
        },
        {
         "customdata": [
          [
           "Luxembourg"
          ],
          [
           "Luxembourg"
          ],
          [
           "Luxembourg"
          ],
          [
           "Luxembourg"
          ],
          [
           "Luxembourg"
          ],
          [
           "Luxembourg"
          ],
          [
           "Luxembourg"
          ],
          [
           "Luxembourg"
          ],
          [
           "Luxembourg"
          ],
          [
           "Luxembourg"
          ],
          [
           "Luxembourg"
          ]
         ],
         "hovertemplate": "country=%{customdata[0]}<br>Controlled Drug Crime=%{x}<br>Quality of Life=%{y}<extra></extra>",
         "legendgroup": "Luxembourg",
         "marker": {
          "color": "#FF6692",
          "opacity": 1,
          "symbol": "circle"
         },
         "mode": "markers",
         "name": "Luxembourg",
         "orientation": "v",
         "showlegend": true,
         "type": "scatter",
         "x": [
          -0.43195330269310334,
          -0.4374183912562594,
          -0.4128865551641035,
          -0.40548273406597307,
          -0.4160770677610298,
          -0.43589183020509853,
          -0.4310068348413836,
          -0.41215380585954625,
          -0.4063376082546232,
          -0.4192523147474445,
          -0.42210698391311546
         ],
         "xaxis": "x",
         "y": [
          0.8439308541760328,
          0.8478716582019279,
          0.7060027132697089,
          0.607482612622336,
          0.5969738018866162,
          0.6587130649589701,
          0.8951613065126667,
          1.089574305123485,
          1.202544020532473,
          1.3076321278896716,
          1.0764382917038342
         ],
         "yaxis": "y"
        },
        {
         "customdata": [
          [
           "Poland"
          ],
          [
           "Poland"
          ],
          [
           "Poland"
          ],
          [
           "Poland"
          ],
          [
           "Poland"
          ],
          [
           "Poland"
          ]
         ],
         "hovertemplate": "country=%{customdata[0]}<br>Controlled Drug Crime=%{x}<br>Quality of Life=%{y}<extra></extra>",
         "legendgroup": "Poland",
         "marker": {
          "color": "#B6E880",
          "opacity": 1,
          "symbol": "circle"
         },
         "mode": "markers",
         "name": "Poland",
         "orientation": "v",
         "showlegend": true,
         "type": "scatter",
         "x": [
          0.660972816275043,
          0.6888020242377064,
          0.4971880810959883,
          0.363033895919967,
          0.4459414266085163,
          0.5101027875888097
         ],
         "xaxis": "x",
         "y": [
          -0.7954436205962668,
          -0.770485195098932,
          -0.8112068366998461,
          -0.7534083776533873,
          -0.5721313924622198,
          -0.37509119116747175
         ],
         "yaxis": "y"
        },
        {
         "customdata": [
          [
           "Portugal"
          ],
          [
           "Portugal"
          ],
          [
           "Portugal"
          ],
          [
           "Portugal"
          ],
          [
           "Portugal"
          ],
          [
           "Portugal"
          ],
          [
           "Portugal"
          ],
          [
           "Portugal"
          ],
          [
           "Portugal"
          ],
          [
           "Portugal"
          ],
          [
           "Portugal"
          ]
         ],
         "hovertemplate": "country=%{customdata[0]}<br>Controlled Drug Crime=%{x}<br>Quality of Life=%{y}<extra></extra>",
         "legendgroup": "Portugal",
         "marker": {
          "color": "#FF97FF",
          "opacity": 1,
          "symbol": "circle"
         },
         "mode": "markers",
         "name": "Portugal",
         "orientation": "v",
         "showlegend": true,
         "type": "scatter",
         "x": [
          -0.4125201805118249,
          -0.4060475616549026,
          -0.40432254766709075,
          -0.39597225871724057,
          -0.38913326520803965,
          -0.37791304148200694,
          -0.37701237046182196,
          -0.3890874683765048,
          -0.41630605191870396,
          -0.4090548869256896,
          -0.3782488849132623
         ],
         "xaxis": "x",
         "y": [
          -1.420717859371599,
          -1.7175917626556851,
          -1.7162781613137197,
          -1.6886925331324552,
          -1.5941132365109763,
          -1.311688947988505,
          -0.9399397682124154,
          -0.653574675664049,
          -0.6299298515086785,
          -0.5156465347577253,
          -0.5786993991720445
         ],
         "yaxis": "y"
        },
        {
         "customdata": [
          [
           "Romania"
          ],
          [
           "Romania"
          ],
          [
           "Romania"
          ],
          [
           "Romania"
          ],
          [
           "Romania"
          ],
          [
           "Romania"
          ],
          [
           "Romania"
          ],
          [
           "Romania"
          ],
          [
           "Romania"
          ],
          [
           "Romania"
          ],
          [
           "Romania"
          ]
         ],
         "hovertemplate": "country=%{customdata[0]}<br>Controlled Drug Crime=%{x}<br>Quality of Life=%{y}<extra></extra>",
         "legendgroup": "Romania",
         "marker": {
          "color": "#FECB52",
          "opacity": 1,
          "symbol": "circle"
         },
         "mode": "markers",
         "name": "Romania",
         "orientation": "v",
         "showlegend": true,
         "type": "scatter",
         "x": [
          -0.42409151327962463,
          -0.4330066298184044,
          -0.44010513870630263,
          -0.3997123332925848,
          -0.4085663873893181,
          -0.3832865363820933,
          -0.34730549240623054,
          -0.3531827524532001,
          -0.37594377772600934,
          -0.35748765461747384,
          -0.3357494252489424
         ],
         "xaxis": "x",
         "y": [
          -1.6164444593243814,
          -1.8069166539093036,
          -1.6873789317904908,
          -1.1566839896366377,
          -0.7665443910730368,
          -0.6089122300372387,
          -0.4447120622916158,
          -0.3737775898255075,
          -0.35275996835406775,
          0.08992368388813247,
          0.23704703418821074
         ],
         "yaxis": "y"
        },
        {
         "customdata": [
          [
           "Slovakia"
          ],
          [
           "Slovakia"
          ],
          [
           "Slovakia"
          ],
          [
           "Slovakia"
          ],
          [
           "Slovakia"
          ],
          [
           "Slovakia"
          ],
          [
           "Slovakia"
          ],
          [
           "Slovakia"
          ],
          [
           "Slovakia"
          ],
          [
           "Slovakia"
          ],
          [
           "Slovakia"
          ]
         ],
         "hovertemplate": "country=%{customdata[0]}<br>Controlled Drug Crime=%{x}<br>Quality of Life=%{y}<extra></extra>",
         "legendgroup": "Slovakia",
         "marker": {
          "color": "#636efa",
          "opacity": 1,
          "symbol": "circle"
         },
         "mode": "markers",
         "name": "Slovakia",
         "orientation": "v",
         "showlegend": true,
         "type": "scatter",
         "x": [
          -0.4652170679978997,
          -0.4652628648294345,
          -0.4522870958945667,
          -0.4501346448124299,
          -0.4540579067139134,
          -0.4542563596505643,
          -0.45283665787298466,
          -0.4505468162962433,
          -0.4540579067139134,
          -0.44979880138117445,
          -0.4537067976721464
         ],
         "xaxis": "x",
         "y": [
          -0.9872294165231543,
          -0.5773857978300792,
          -0.5432321629389898,
          -0.43420325155589595,
          -0.4079312247165968,
          -0.30941112406922283,
          -0.27657109052009776,
          -0.1675421791370051,
          -0.10186211203875498,
          -0.02304603152085649,
          0.0794148731524126
         ],
         "yaxis": "y"
        },
        {
         "customdata": [
          [
           "Slovenia"
          ],
          [
           "Slovenia"
          ],
          [
           "Slovenia"
          ],
          [
           "Slovenia"
          ],
          [
           "Slovenia"
          ],
          [
           "Slovenia"
          ],
          [
           "Slovenia"
          ],
          [
           "Slovenia"
          ],
          [
           "Slovenia"
          ],
          [
           "Slovenia"
          ],
          [
           "Slovenia"
          ]
         ],
         "hovertemplate": "country=%{customdata[0]}<br>Controlled Drug Crime=%{x}<br>Quality of Life=%{y}<extra></extra>",
         "legendgroup": "Slovenia",
         "marker": {
          "color": "#EF553B",
          "opacity": 1,
          "symbol": "circle"
         },
         "mode": "markers",
         "name": "Slovenia",
         "orientation": "v",
         "showlegend": true,
         "type": "scatter",
         "x": [
          -0.45387471938777413,
          -0.44998198870731376,
          -0.45147801853745145,
          -0.45033309774908076,
          -0.45491278090256354,
          -0.4520581117368926,
          -0.4536915320616348,
          -0.4559050455858181,
          -0.45401210988237856,
          -0.45515703067074925,
          -0.45576765509121364
         ],
         "xaxis": "x",
         "y": [
          -0.6391250609024342,
          -0.4578480757112665,
          -0.7363315602078426,
          -0.8414196675650414,
          -0.854555680984691,
          -0.6049714260113437,
          -0.3816591978772966,
          -0.05982686909587548,
          0.06890606241669273,
          0.2909046892087744,
          0.3171767160480747
         ],
         "yaxis": "y"
        },
        {
         "customdata": [
          [
           "Spain"
          ],
          [
           "Spain"
          ],
          [
           "Spain"
          ],
          [
           "Spain"
          ],
          [
           "Spain"
          ],
          [
           "Spain"
          ],
          [
           "Spain"
          ],
          [
           "Spain"
          ],
          [
           "Spain"
          ],
          [
           "Spain"
          ],
          [
           "Spain"
          ]
         ],
         "hovertemplate": "country=%{customdata[0]}<br>Controlled Drug Crime=%{x}<br>Quality of Life=%{y}<extra></extra>",
         "legendgroup": "Spain",
         "marker": {
          "color": "#00cc96",
          "opacity": 1,
          "symbol": "circle"
         },
         "mode": "markers",
         "name": "Spain",
         "orientation": "v",
         "showlegend": true,
         "type": "scatter",
         "x": [
          -0.24450687122105444,
          -0.25536072029480855,
          -0.2721223606365554,
          -0.29260880994313493,
          -0.28682314355923505,
          -0.2790376821983144,
          -0.2611005898471736,
          -0.22307395406275518,
          -0.21562433613308993,
          -0.1972903379086473,
          -0.1859327236880101
         ],
         "xaxis": "x",
         "y": [
          0.4629864650061875,
          -0.11368452411644028,
          -0.10448931472268583,
          -0.06245407177980632,
          -0.007282815417277259,
          -0.12944774022002067,
          -0.07164928117356077,
          -0.009910018101206937,
          0.10831410267564139,
          0.08861008254616705,
          0.03606602886756767
         ],
         "yaxis": "y"
        },
        {
         "customdata": [
          [
           "Sweden"
          ],
          [
           "Sweden"
          ],
          [
           "Sweden"
          ],
          [
           "Sweden"
          ],
          [
           "Sweden"
          ],
          [
           "Sweden"
          ],
          [
           "Sweden"
          ],
          [
           "Sweden"
          ],
          [
           "Sweden"
          ],
          [
           "Sweden"
          ]
         ],
         "hovertemplate": "country=%{customdata[0]}<br>Controlled Drug Crime=%{x}<br>Quality of Life=%{y}<extra></extra>",
         "legendgroup": "Sweden",
         "marker": {
          "color": "#ab63fa",
          "opacity": 1,
          "symbol": "circle"
         },
         "mode": "markers",
         "name": "Sweden",
         "orientation": "v",
         "showlegend": true,
         "type": "scatter",
         "x": [
          0.9275409070287621,
          1.0225235356319944,
          0.9971673565722116,
          0.9512026033217563,
          1.0902875806930274,
          1.182293415246496,
          1.284618802505812,
          1.4503575358303529,
          1.3585806854345586,
          1.2920531548249659
         ],
         "xaxis": "x",
         "y": [
          1.2747920943405464,
          1.2550880742110722,
          1.1591951762476291,
          1.1499999668538734,
          1.1894080071128232,
          1.2275024460298076,
          1.2406384594494573,
          1.2537744728691078,
          1.2813601010503723,
          1.2958097158119863
         ],
         "yaxis": "y"
        }
       ],
       "layout": {
        "legend": {
         "title": {
          "text": "country"
         },
         "tracegroupgap": 0
        },
        "template": {
         "data": {
          "bar": [
           {
            "error_x": {
             "color": "#2a3f5f"
            },
            "error_y": {
             "color": "#2a3f5f"
            },
            "marker": {
             "line": {
              "color": "#E5ECF6",
              "width": 0.5
             },
             "pattern": {
              "fillmode": "overlay",
              "size": 10,
              "solidity": 0.2
             }
            },
            "type": "bar"
           }
          ],
          "barpolar": [
           {
            "marker": {
             "line": {
              "color": "#E5ECF6",
              "width": 0.5
             },
             "pattern": {
              "fillmode": "overlay",
              "size": 10,
              "solidity": 0.2
             }
            },
            "type": "barpolar"
           }
          ],
          "carpet": [
           {
            "aaxis": {
             "endlinecolor": "#2a3f5f",
             "gridcolor": "white",
             "linecolor": "white",
             "minorgridcolor": "white",
             "startlinecolor": "#2a3f5f"
            },
            "baxis": {
             "endlinecolor": "#2a3f5f",
             "gridcolor": "white",
             "linecolor": "white",
             "minorgridcolor": "white",
             "startlinecolor": "#2a3f5f"
            },
            "type": "carpet"
           }
          ],
          "choropleth": [
           {
            "colorbar": {
             "outlinewidth": 0,
             "ticks": ""
            },
            "type": "choropleth"
           }
          ],
          "contour": [
           {
            "colorbar": {
             "outlinewidth": 0,
             "ticks": ""
            },
            "colorscale": [
             [
              0,
              "#0d0887"
             ],
             [
              0.1111111111111111,
              "#46039f"
             ],
             [
              0.2222222222222222,
              "#7201a8"
             ],
             [
              0.3333333333333333,
              "#9c179e"
             ],
             [
              0.4444444444444444,
              "#bd3786"
             ],
             [
              0.5555555555555556,
              "#d8576b"
             ],
             [
              0.6666666666666666,
              "#ed7953"
             ],
             [
              0.7777777777777778,
              "#fb9f3a"
             ],
             [
              0.8888888888888888,
              "#fdca26"
             ],
             [
              1,
              "#f0f921"
             ]
            ],
            "type": "contour"
           }
          ],
          "contourcarpet": [
           {
            "colorbar": {
             "outlinewidth": 0,
             "ticks": ""
            },
            "type": "contourcarpet"
           }
          ],
          "heatmap": [
           {
            "colorbar": {
             "outlinewidth": 0,
             "ticks": ""
            },
            "colorscale": [
             [
              0,
              "#0d0887"
             ],
             [
              0.1111111111111111,
              "#46039f"
             ],
             [
              0.2222222222222222,
              "#7201a8"
             ],
             [
              0.3333333333333333,
              "#9c179e"
             ],
             [
              0.4444444444444444,
              "#bd3786"
             ],
             [
              0.5555555555555556,
              "#d8576b"
             ],
             [
              0.6666666666666666,
              "#ed7953"
             ],
             [
              0.7777777777777778,
              "#fb9f3a"
             ],
             [
              0.8888888888888888,
              "#fdca26"
             ],
             [
              1,
              "#f0f921"
             ]
            ],
            "type": "heatmap"
           }
          ],
          "heatmapgl": [
           {
            "colorbar": {
             "outlinewidth": 0,
             "ticks": ""
            },
            "colorscale": [
             [
              0,
              "#0d0887"
             ],
             [
              0.1111111111111111,
              "#46039f"
             ],
             [
              0.2222222222222222,
              "#7201a8"
             ],
             [
              0.3333333333333333,
              "#9c179e"
             ],
             [
              0.4444444444444444,
              "#bd3786"
             ],
             [
              0.5555555555555556,
              "#d8576b"
             ],
             [
              0.6666666666666666,
              "#ed7953"
             ],
             [
              0.7777777777777778,
              "#fb9f3a"
             ],
             [
              0.8888888888888888,
              "#fdca26"
             ],
             [
              1,
              "#f0f921"
             ]
            ],
            "type": "heatmapgl"
           }
          ],
          "histogram": [
           {
            "marker": {
             "pattern": {
              "fillmode": "overlay",
              "size": 10,
              "solidity": 0.2
             }
            },
            "type": "histogram"
           }
          ],
          "histogram2d": [
           {
            "colorbar": {
             "outlinewidth": 0,
             "ticks": ""
            },
            "colorscale": [
             [
              0,
              "#0d0887"
             ],
             [
              0.1111111111111111,
              "#46039f"
             ],
             [
              0.2222222222222222,
              "#7201a8"
             ],
             [
              0.3333333333333333,
              "#9c179e"
             ],
             [
              0.4444444444444444,
              "#bd3786"
             ],
             [
              0.5555555555555556,
              "#d8576b"
             ],
             [
              0.6666666666666666,
              "#ed7953"
             ],
             [
              0.7777777777777778,
              "#fb9f3a"
             ],
             [
              0.8888888888888888,
              "#fdca26"
             ],
             [
              1,
              "#f0f921"
             ]
            ],
            "type": "histogram2d"
           }
          ],
          "histogram2dcontour": [
           {
            "colorbar": {
             "outlinewidth": 0,
             "ticks": ""
            },
            "colorscale": [
             [
              0,
              "#0d0887"
             ],
             [
              0.1111111111111111,
              "#46039f"
             ],
             [
              0.2222222222222222,
              "#7201a8"
             ],
             [
              0.3333333333333333,
              "#9c179e"
             ],
             [
              0.4444444444444444,
              "#bd3786"
             ],
             [
              0.5555555555555556,
              "#d8576b"
             ],
             [
              0.6666666666666666,
              "#ed7953"
             ],
             [
              0.7777777777777778,
              "#fb9f3a"
             ],
             [
              0.8888888888888888,
              "#fdca26"
             ],
             [
              1,
              "#f0f921"
             ]
            ],
            "type": "histogram2dcontour"
           }
          ],
          "mesh3d": [
           {
            "colorbar": {
             "outlinewidth": 0,
             "ticks": ""
            },
            "type": "mesh3d"
           }
          ],
          "parcoords": [
           {
            "line": {
             "colorbar": {
              "outlinewidth": 0,
              "ticks": ""
             }
            },
            "type": "parcoords"
           }
          ],
          "pie": [
           {
            "automargin": true,
            "type": "pie"
           }
          ],
          "scatter": [
           {
            "fillpattern": {
             "fillmode": "overlay",
             "size": 10,
             "solidity": 0.2
            },
            "type": "scatter"
           }
          ],
          "scatter3d": [
           {
            "line": {
             "colorbar": {
              "outlinewidth": 0,
              "ticks": ""
             }
            },
            "marker": {
             "colorbar": {
              "outlinewidth": 0,
              "ticks": ""
             }
            },
            "type": "scatter3d"
           }
          ],
          "scattercarpet": [
           {
            "marker": {
             "colorbar": {
              "outlinewidth": 0,
              "ticks": ""
             }
            },
            "type": "scattercarpet"
           }
          ],
          "scattergeo": [
           {
            "marker": {
             "colorbar": {
              "outlinewidth": 0,
              "ticks": ""
             }
            },
            "type": "scattergeo"
           }
          ],
          "scattergl": [
           {
            "marker": {
             "colorbar": {
              "outlinewidth": 0,
              "ticks": ""
             }
            },
            "type": "scattergl"
           }
          ],
          "scattermapbox": [
           {
            "marker": {
             "colorbar": {
              "outlinewidth": 0,
              "ticks": ""
             }
            },
            "type": "scattermapbox"
           }
          ],
          "scatterpolar": [
           {
            "marker": {
             "colorbar": {
              "outlinewidth": 0,
              "ticks": ""
             }
            },
            "type": "scatterpolar"
           }
          ],
          "scatterpolargl": [
           {
            "marker": {
             "colorbar": {
              "outlinewidth": 0,
              "ticks": ""
             }
            },
            "type": "scatterpolargl"
           }
          ],
          "scatterternary": [
           {
            "marker": {
             "colorbar": {
              "outlinewidth": 0,
              "ticks": ""
             }
            },
            "type": "scatterternary"
           }
          ],
          "surface": [
           {
            "colorbar": {
             "outlinewidth": 0,
             "ticks": ""
            },
            "colorscale": [
             [
              0,
              "#0d0887"
             ],
             [
              0.1111111111111111,
              "#46039f"
             ],
             [
              0.2222222222222222,
              "#7201a8"
             ],
             [
              0.3333333333333333,
              "#9c179e"
             ],
             [
              0.4444444444444444,
              "#bd3786"
             ],
             [
              0.5555555555555556,
              "#d8576b"
             ],
             [
              0.6666666666666666,
              "#ed7953"
             ],
             [
              0.7777777777777778,
              "#fb9f3a"
             ],
             [
              0.8888888888888888,
              "#fdca26"
             ],
             [
              1,
              "#f0f921"
             ]
            ],
            "type": "surface"
           }
          ],
          "table": [
           {
            "cells": {
             "fill": {
              "color": "#EBF0F8"
             },
             "line": {
              "color": "white"
             }
            },
            "header": {
             "fill": {
              "color": "#C8D4E3"
             },
             "line": {
              "color": "white"
             }
            },
            "type": "table"
           }
          ]
         },
         "layout": {
          "annotationdefaults": {
           "arrowcolor": "#2a3f5f",
           "arrowhead": 0,
           "arrowwidth": 1
          },
          "autotypenumbers": "strict",
          "coloraxis": {
           "colorbar": {
            "outlinewidth": 0,
            "ticks": ""
           }
          },
          "colorscale": {
           "diverging": [
            [
             0,
             "#8e0152"
            ],
            [
             0.1,
             "#c51b7d"
            ],
            [
             0.2,
             "#de77ae"
            ],
            [
             0.3,
             "#f1b6da"
            ],
            [
             0.4,
             "#fde0ef"
            ],
            [
             0.5,
             "#f7f7f7"
            ],
            [
             0.6,
             "#e6f5d0"
            ],
            [
             0.7,
             "#b8e186"
            ],
            [
             0.8,
             "#7fbc41"
            ],
            [
             0.9,
             "#4d9221"
            ],
            [
             1,
             "#276419"
            ]
           ],
           "sequential": [
            [
             0,
             "#0d0887"
            ],
            [
             0.1111111111111111,
             "#46039f"
            ],
            [
             0.2222222222222222,
             "#7201a8"
            ],
            [
             0.3333333333333333,
             "#9c179e"
            ],
            [
             0.4444444444444444,
             "#bd3786"
            ],
            [
             0.5555555555555556,
             "#d8576b"
            ],
            [
             0.6666666666666666,
             "#ed7953"
            ],
            [
             0.7777777777777778,
             "#fb9f3a"
            ],
            [
             0.8888888888888888,
             "#fdca26"
            ],
            [
             1,
             "#f0f921"
            ]
           ],
           "sequentialminus": [
            [
             0,
             "#0d0887"
            ],
            [
             0.1111111111111111,
             "#46039f"
            ],
            [
             0.2222222222222222,
             "#7201a8"
            ],
            [
             0.3333333333333333,
             "#9c179e"
            ],
            [
             0.4444444444444444,
             "#bd3786"
            ],
            [
             0.5555555555555556,
             "#d8576b"
            ],
            [
             0.6666666666666666,
             "#ed7953"
            ],
            [
             0.7777777777777778,
             "#fb9f3a"
            ],
            [
             0.8888888888888888,
             "#fdca26"
            ],
            [
             1,
             "#f0f921"
            ]
           ]
          },
          "colorway": [
           "#636efa",
           "#EF553B",
           "#00cc96",
           "#ab63fa",
           "#FFA15A",
           "#19d3f3",
           "#FF6692",
           "#B6E880",
           "#FF97FF",
           "#FECB52"
          ],
          "font": {
           "color": "#2a3f5f"
          },
          "geo": {
           "bgcolor": "white",
           "lakecolor": "white",
           "landcolor": "#E5ECF6",
           "showlakes": true,
           "showland": true,
           "subunitcolor": "white"
          },
          "hoverlabel": {
           "align": "left"
          },
          "hovermode": "closest",
          "mapbox": {
           "style": "light"
          },
          "paper_bgcolor": "white",
          "plot_bgcolor": "#E5ECF6",
          "polar": {
           "angularaxis": {
            "gridcolor": "white",
            "linecolor": "white",
            "ticks": ""
           },
           "bgcolor": "#E5ECF6",
           "radialaxis": {
            "gridcolor": "white",
            "linecolor": "white",
            "ticks": ""
           }
          },
          "scene": {
           "xaxis": {
            "backgroundcolor": "#E5ECF6",
            "gridcolor": "white",
            "gridwidth": 2,
            "linecolor": "white",
            "showbackground": true,
            "ticks": "",
            "zerolinecolor": "white"
           },
           "yaxis": {
            "backgroundcolor": "#E5ECF6",
            "gridcolor": "white",
            "gridwidth": 2,
            "linecolor": "white",
            "showbackground": true,
            "ticks": "",
            "zerolinecolor": "white"
           },
           "zaxis": {
            "backgroundcolor": "#E5ECF6",
            "gridcolor": "white",
            "gridwidth": 2,
            "linecolor": "white",
            "showbackground": true,
            "ticks": "",
            "zerolinecolor": "white"
           }
          },
          "shapedefaults": {
           "line": {
            "color": "#2a3f5f"
           }
          },
          "ternary": {
           "aaxis": {
            "gridcolor": "white",
            "linecolor": "white",
            "ticks": ""
           },
           "baxis": {
            "gridcolor": "white",
            "linecolor": "white",
            "ticks": ""
           },
           "bgcolor": "#E5ECF6",
           "caxis": {
            "gridcolor": "white",
            "linecolor": "white",
            "ticks": ""
           }
          },
          "title": {
           "x": 0.05
          },
          "xaxis": {
           "automargin": true,
           "gridcolor": "white",
           "linecolor": "white",
           "ticks": "",
           "title": {
            "standoff": 15
           },
           "zerolinecolor": "white",
           "zerolinewidth": 2
          },
          "yaxis": {
           "automargin": true,
           "gridcolor": "white",
           "linecolor": "white",
           "ticks": "",
           "title": {
            "standoff": 15
           },
           "zerolinecolor": "white",
           "zerolinewidth": 2
          }
         }
        },
        "title": {
         "text": "Comparing Relationship of Controlled Drug Crime and Quality of Life in Europe"
        },
        "xaxis": {
         "anchor": "y",
         "domain": [
          0,
          1
         ],
         "title": {
          "text": "Controlled Drug Crime"
         }
        },
        "yaxis": {
         "anchor": "x",
         "domain": [
          0,
          1
         ],
         "title": {
          "text": "Quality of Life"
         }
        }
       }
      }
     },
     "metadata": {},
     "output_type": "display_data"
    }
   ],
   "source": [
    "fig = px.scatter(\n",
    "    combined,\n",
    "    x='safety',\n",
    "    y='qol',\n",
    "    color='country',\n",
    "    opacity=1,\n",
    "    labels={'safety': 'Controlled Drug Crime', 'qol': 'Quality of Life'},\n",
    "    title='Comparing Relationship of Controlled Drug Crime and Quality of Life in Europe',\n",
    "    hover_data=['country']\n",
    ")\n",
    "\n",
    "fig"
   ]
  },
  {
   "cell_type": "code",
   "execution_count": 56,
   "id": "d42983fe",
   "metadata": {},
   "outputs": [
    {
     "data": {
      "application/vnd.plotly.v1+json": {
       "config": {
        "plotlyServerURL": "https://plot.ly"
       },
       "data": [
        {
         "customdata": [
          [
           "Austria"
          ]
         ],
         "hovertemplate": "country=%{customdata[0]}<br>Emissions [Tonnes per capita]=%{x}<br>Quality of Life=%{y}<extra></extra>",
         "legendgroup": "Austria",
         "marker": {
          "color": "#636efa",
          "opacity": 1,
          "symbol": "circle"
         },
         "mode": "markers",
         "name": "Austria",
         "orientation": "v",
         "showlegend": true,
         "type": "scatter",
         "x": [
          0.10314796074460776
         ],
         "xaxis": "x",
         "y": [
          1.0310593362541354
         ],
         "yaxis": "y"
        },
        {
         "customdata": [
          [
           "Belgium"
          ]
         ],
         "hovertemplate": "country=%{customdata[0]}<br>Emissions [Tonnes per capita]=%{x}<br>Quality of Life=%{y}<extra></extra>",
         "legendgroup": "Belgium",
         "marker": {
          "color": "#EF553B",
          "opacity": 1,
          "symbol": "circle"
         },
         "mode": "markers",
         "name": "Belgium",
         "orientation": "v",
         "showlegend": true,
         "type": "scatter",
         "x": [
          0.7550662519675497
         ],
         "xaxis": "x",
         "y": [
          0.9253741373778621
         ],
         "yaxis": "y"
        },
        {
         "customdata": [
          [
           "Bulgaria"
          ]
         ],
         "hovertemplate": "country=%{customdata[0]}<br>Emissions [Tonnes per capita]=%{x}<br>Quality of Life=%{y}<extra></extra>",
         "legendgroup": "Bulgaria",
         "marker": {
          "color": "#00cc96",
          "opacity": 1,
          "symbol": "circle"
         },
         "mode": "markers",
         "name": "Bulgaria",
         "orientation": "v",
         "showlegend": true,
         "type": "scatter",
         "x": [
          -0.2951148498934078
         ],
         "xaxis": "x",
         "y": [
          -2.1884581345982244
         ],
         "yaxis": "y"
        },
        {
         "customdata": [
          [
           "Croatia"
          ]
         ],
         "hovertemplate": "country=%{customdata[0]}<br>Emissions [Tonnes per capita]=%{x}<br>Quality of Life=%{y}<extra></extra>",
         "legendgroup": "Croatia",
         "marker": {
          "color": "#ab63fa",
          "opacity": 1,
          "symbol": "circle"
         },
         "mode": "markers",
         "name": "Croatia",
         "orientation": "v",
         "showlegend": true,
         "type": "scatter",
         "x": [
          -0.8782853940419305
         ],
         "xaxis": "x",
         "y": [
          -0.9887818544727494
         ],
         "yaxis": "y"
        },
        {
         "customdata": [
          [
           "Czechia"
          ]
         ],
         "hovertemplate": "country=%{customdata[0]}<br>Emissions [Tonnes per capita]=%{x}<br>Quality of Life=%{y}<extra></extra>",
         "legendgroup": "Czechia",
         "marker": {
          "color": "#FFA15A",
          "opacity": 1,
          "symbol": "circle"
         },
         "mode": "markers",
         "name": "Czechia",
         "orientation": "v",
         "showlegend": true,
         "type": "scatter",
         "x": [
          0.8641144024993874
         ],
         "xaxis": "x",
         "y": [
          0.36661589382748355
         ],
         "yaxis": "y"
        },
        {
         "customdata": [
          [
           "Denmark"
          ]
         ],
         "hovertemplate": "country=%{customdata[0]}<br>Emissions [Tonnes per capita]=%{x}<br>Quality of Life=%{y}<extra></extra>",
         "legendgroup": "Denmark",
         "marker": {
          "color": "#19d3f3",
          "opacity": 1,
          "symbol": "circle"
         },
         "mode": "markers",
         "name": "Denmark",
         "orientation": "v",
         "showlegend": true,
         "type": "scatter",
         "x": [
          0.1766369317551939
         ],
         "xaxis": "x",
         "y": [
          1.5850408476519133
         ],
         "yaxis": "y"
        },
        {
         "customdata": [
          [
           "Estonia"
          ]
         ],
         "hovertemplate": "country=%{customdata[0]}<br>Emissions [Tonnes per capita]=%{x}<br>Quality of Life=%{y}<extra></extra>",
         "legendgroup": "Estonia",
         "marker": {
          "color": "#FF6692",
          "opacity": 1,
          "symbol": "circle"
         },
         "mode": "markers",
         "name": "Estonia",
         "orientation": "v",
         "showlegend": true,
         "type": "scatter",
         "x": [
          1.4496555586159936
         ],
         "xaxis": "x",
         "y": [
          -0.7812328424422819
         ],
         "yaxis": "y"
        },
        {
         "customdata": [
          [
           "Finland"
          ]
         ],
         "hovertemplate": "country=%{customdata[0]}<br>Emissions [Tonnes per capita]=%{x}<br>Quality of Life=%{y}<extra></extra>",
         "legendgroup": "Finland",
         "marker": {
          "color": "#B6E880",
          "opacity": 1,
          "symbol": "circle"
         },
         "mode": "markers",
         "name": "Finland",
         "orientation": "v",
         "showlegend": true,
         "type": "scatter",
         "x": [
          0.28805569425511496
         ],
         "xaxis": "x",
         "y": [
          1.604864286085203
         ],
         "yaxis": "y"
        },
        {
         "customdata": [
          [
           "France"
          ]
         ],
         "hovertemplate": "country=%{customdata[0]}<br>Emissions [Tonnes per capita]=%{x}<br>Quality of Life=%{y}<extra></extra>",
         "legendgroup": "France",
         "marker": {
          "color": "#FF97FF",
          "opacity": 1,
          "symbol": "circle"
         },
         "mode": "markers",
         "name": "France",
         "orientation": "v",
         "showlegend": true,
         "type": "scatter",
         "x": [
          -0.5565933499730097
         ],
         "xaxis": "x",
         "y": [
          0.25701377458607794
         ],
         "yaxis": "y"
        },
        {
         "customdata": [
          [
           "Germany"
          ]
         ],
         "hovertemplate": "country=%{customdata[0]}<br>Emissions [Tonnes per capita]=%{x}<br>Quality of Life=%{y}<extra></extra>",
         "legendgroup": "Germany",
         "marker": {
          "color": "#FECB52",
          "opacity": 1,
          "symbol": "circle"
         },
         "mode": "markers",
         "name": "Germany",
         "orientation": "v",
         "showlegend": true,
         "type": "scatter",
         "x": [
          0.6578711612761293
         ],
         "xaxis": "x",
         "y": [
          0.6630121238963098
         ],
         "yaxis": "y"
        },
        {
         "customdata": [
          [
           "Greece"
          ]
         ],
         "hovertemplate": "country=%{customdata[0]}<br>Emissions [Tonnes per capita]=%{x}<br>Quality of Life=%{y}<extra></extra>",
         "legendgroup": "Greece",
         "marker": {
          "color": "#636efa",
          "opacity": 1,
          "symbol": "circle"
         },
         "mode": "markers",
         "name": "Greece",
         "orientation": "v",
         "showlegend": true,
         "type": "scatter",
         "x": [
          0.013064705957437483
         ],
         "xaxis": "x",
         "y": [
          -1.1997939973138516
         ],
         "yaxis": "y"
        },
        {
         "customdata": [
          [
           "Hungary"
          ]
         ],
         "hovertemplate": "country=%{customdata[0]}<br>Emissions [Tonnes per capita]=%{x}<br>Quality of Life=%{y}<extra></extra>",
         "legendgroup": "Hungary",
         "marker": {
          "color": "#EF553B",
          "opacity": 1,
          "symbol": "circle"
         },
         "mode": "markers",
         "name": "Hungary",
         "orientation": "v",
         "showlegend": true,
         "type": "scatter",
         "x": [
          -0.6270005254250874
         ],
         "xaxis": "x",
         "y": [
          -2.0613174471365228
         ],
         "yaxis": "y"
        },
        {
         "customdata": [
          [
           "Ireland"
          ]
         ],
         "hovertemplate": "country=%{customdata[0]}<br>Emissions [Tonnes per capita]=%{x}<br>Quality of Life=%{y}<extra></extra>",
         "legendgroup": "Ireland",
         "marker": {
          "color": "#00cc96",
          "opacity": 1,
          "symbol": "circle"
         },
         "mode": "markers",
         "name": "Ireland",
         "orientation": "v",
         "showlegend": true,
         "type": "scatter",
         "x": [
          1.295565780690571
         ],
         "xaxis": "x",
         "y": [
          0.8143151148299129
         ],
         "yaxis": "y"
        },
        {
         "customdata": [
          [
           "Italy"
          ]
         ],
         "hovertemplate": "country=%{customdata[0]}<br>Emissions [Tonnes per capita]=%{x}<br>Quality of Life=%{y}<extra></extra>",
         "legendgroup": "Italy",
         "marker": {
          "color": "#ab63fa",
          "opacity": 1,
          "symbol": "circle"
         },
         "mode": "markers",
         "name": "Italy",
         "orientation": "v",
         "showlegend": true,
         "type": "scatter",
         "x": [
          -0.43924805755288016
         ],
         "xaxis": "x",
         "y": [
          -0.2903639046107306
         ],
         "yaxis": "y"
        },
        {
         "customdata": [
          [
           "Latvia"
          ]
         ],
         "hovertemplate": "country=%{customdata[0]}<br>Emissions [Tonnes per capita]=%{x}<br>Quality of Life=%{y}<extra></extra>",
         "legendgroup": "Latvia",
         "marker": {
          "color": "#FFA15A",
          "opacity": 1,
          "symbol": "circle"
         },
         "mode": "markers",
         "name": "Latvia",
         "orientation": "v",
         "showlegend": true,
         "type": "scatter",
         "x": [
          -0.7336780639888416
         ],
         "xaxis": "x",
         "y": [
          -0.9469854481374999
         ],
         "yaxis": "y"
        },
        {
         "customdata": [
          [
           "Lithuania"
          ]
         ],
         "hovertemplate": "country=%{customdata[0]}<br>Emissions [Tonnes per capita]=%{x}<br>Quality of Life=%{y}<extra></extra>",
         "legendgroup": "Lithuania",
         "marker": {
          "color": "#19d3f3",
          "opacity": 1,
          "symbol": "circle"
         },
         "mode": "markers",
         "name": "Lithuania",
         "orientation": "v",
         "showlegend": true,
         "type": "scatter",
         "x": [
          -0.9707392607971841
         ],
         "xaxis": "x",
         "y": [
          -0.49582309632443555
         ],
         "yaxis": "y"
        },
        {
         "customdata": [
          [
           "Luxembourg"
          ]
         ],
         "hovertemplate": "country=%{customdata[0]}<br>Emissions [Tonnes per capita]=%{x}<br>Quality of Life=%{y}<extra></extra>",
         "legendgroup": "Luxembourg",
         "marker": {
          "color": "#FF6692",
          "opacity": 1,
          "symbol": "circle"
         },
         "mode": "markers",
         "name": "Luxembourg",
         "orientation": "v",
         "showlegend": true,
         "type": "scatter",
         "x": [
          2.2414399559558578
         ],
         "xaxis": "x",
         "y": [
          0.8938477051707019
         ],
         "yaxis": "y"
        },
        {
         "customdata": [
          [
           "Poland"
          ]
         ],
         "hovertemplate": "country=%{customdata[0]}<br>Emissions [Tonnes per capita]=%{x}<br>Quality of Life=%{y}<extra></extra>",
         "legendgroup": "Poland",
         "marker": {
          "color": "#B6E880",
          "opacity": 1,
          "symbol": "circle"
         },
         "mode": "markers",
         "name": "Poland",
         "orientation": "v",
         "showlegend": true,
         "type": "scatter",
         "x": [
          0.2900312042285178
         ],
         "xaxis": "x",
         "y": [
          -0.679627768946354
         ],
         "yaxis": "y"
        },
        {
         "customdata": [
          [
           "Portugal"
          ]
         ],
         "hovertemplate": "country=%{customdata[0]}<br>Emissions [Tonnes per capita]=%{x}<br>Quality of Life=%{y}<extra></extra>",
         "legendgroup": "Portugal",
         "marker": {
          "color": "#FF97FF",
          "opacity": 1,
          "symbol": "circle"
         },
         "mode": "markers",
         "name": "Portugal",
         "orientation": "v",
         "showlegend": true,
         "type": "scatter",
         "x": [
          -0.5701058381910852
         ],
         "xaxis": "x",
         "y": [
          -1.160624793662532
         ],
         "yaxis": "y"
        },
        {
         "customdata": [
          [
           "Romania"
          ]
         ],
         "hovertemplate": "country=%{customdata[0]}<br>Emissions [Tonnes per capita]=%{x}<br>Quality of Life=%{y}<extra></extra>",
         "legendgroup": "Romania",
         "marker": {
          "color": "#FECB52",
          "opacity": 1,
          "symbol": "circle"
         },
         "mode": "markers",
         "name": "Romania",
         "orientation": "v",
         "showlegend": true,
         "type": "scatter",
         "x": [
          -1.1817237259566091
         ],
         "xaxis": "x",
         "y": [
          -0.771559959833267
         ],
         "yaxis": "y"
        },
        {
         "customdata": [
          [
           "Slovakia"
          ]
         ],
         "hovertemplate": "country=%{customdata[0]}<br>Emissions [Tonnes per capita]=%{x}<br>Quality of Life=%{y}<extra></extra>",
         "legendgroup": "Slovakia",
         "marker": {
          "color": "#636efa",
          "opacity": 1,
          "symbol": "circle"
         },
         "mode": "markers",
         "name": "Slovakia",
         "orientation": "v",
         "showlegend": true,
         "type": "scatter",
         "x": [
          -0.463428299627331
         ],
         "xaxis": "x",
         "y": [
          -0.3408181379725673
         ],
         "yaxis": "y"
        },
        {
         "customdata": [
          [
           "Slovenia"
          ]
         ],
         "hovertemplate": "country=%{customdata[0]}<br>Emissions [Tonnes per capita]=%{x}<br>Quality of Life=%{y}<extra></extra>",
         "legendgroup": "Slovenia",
         "marker": {
          "color": "#EF553B",
          "opacity": 1,
          "symbol": "circle"
         },
         "mode": "markers",
         "name": "Slovenia",
         "orientation": "v",
         "showlegend": true,
         "type": "scatter",
         "x": [
          -0.2903736259572409
         ],
         "xaxis": "x",
         "y": [
          -0.35443182460747724
         ],
         "yaxis": "y"
        },
        {
         "customdata": [
          [
           "Spain"
          ]
         ],
         "hovertemplate": "country=%{customdata[0]}<br>Emissions [Tonnes per capita]=%{x}<br>Quality of Life=%{y}<extra></extra>",
         "legendgroup": "Spain",
         "marker": {
          "color": "#00cc96",
          "opacity": 1,
          "symbol": "circle"
         },
         "mode": "markers",
         "name": "Spain",
         "orientation": "v",
         "showlegend": true,
         "type": "scatter",
         "x": [
          -0.6530772570740051
         ],
         "xaxis": "x",
         "y": [
          0.01791444668768778
         ],
         "yaxis": "y"
        },
        {
         "customdata": [
          [
           "Sweden"
          ]
         ],
         "hovertemplate": "country=%{customdata[0]}<br>Emissions [Tonnes per capita]=%{x}<br>Quality of Life=%{y}<extra></extra>",
         "legendgroup": "Sweden",
         "marker": {
          "color": "#ab63fa",
          "opacity": 1,
          "symbol": "circle"
         },
         "mode": "markers",
         "name": "Sweden",
         "orientation": "v",
         "showlegend": true,
         "type": "scatter",
         "x": [
          -2.0142826491475083
         ],
         "xaxis": "x",
         "y": [
          1.2327568513976677
         ],
         "yaxis": "y"
        }
       ],
       "layout": {
        "legend": {
         "title": {
          "text": "country"
         },
         "tracegroupgap": 0
        },
        "template": {
         "data": {
          "bar": [
           {
            "error_x": {
             "color": "#2a3f5f"
            },
            "error_y": {
             "color": "#2a3f5f"
            },
            "marker": {
             "line": {
              "color": "#E5ECF6",
              "width": 0.5
             },
             "pattern": {
              "fillmode": "overlay",
              "size": 10,
              "solidity": 0.2
             }
            },
            "type": "bar"
           }
          ],
          "barpolar": [
           {
            "marker": {
             "line": {
              "color": "#E5ECF6",
              "width": 0.5
             },
             "pattern": {
              "fillmode": "overlay",
              "size": 10,
              "solidity": 0.2
             }
            },
            "type": "barpolar"
           }
          ],
          "carpet": [
           {
            "aaxis": {
             "endlinecolor": "#2a3f5f",
             "gridcolor": "white",
             "linecolor": "white",
             "minorgridcolor": "white",
             "startlinecolor": "#2a3f5f"
            },
            "baxis": {
             "endlinecolor": "#2a3f5f",
             "gridcolor": "white",
             "linecolor": "white",
             "minorgridcolor": "white",
             "startlinecolor": "#2a3f5f"
            },
            "type": "carpet"
           }
          ],
          "choropleth": [
           {
            "colorbar": {
             "outlinewidth": 0,
             "ticks": ""
            },
            "type": "choropleth"
           }
          ],
          "contour": [
           {
            "colorbar": {
             "outlinewidth": 0,
             "ticks": ""
            },
            "colorscale": [
             [
              0,
              "#0d0887"
             ],
             [
              0.1111111111111111,
              "#46039f"
             ],
             [
              0.2222222222222222,
              "#7201a8"
             ],
             [
              0.3333333333333333,
              "#9c179e"
             ],
             [
              0.4444444444444444,
              "#bd3786"
             ],
             [
              0.5555555555555556,
              "#d8576b"
             ],
             [
              0.6666666666666666,
              "#ed7953"
             ],
             [
              0.7777777777777778,
              "#fb9f3a"
             ],
             [
              0.8888888888888888,
              "#fdca26"
             ],
             [
              1,
              "#f0f921"
             ]
            ],
            "type": "contour"
           }
          ],
          "contourcarpet": [
           {
            "colorbar": {
             "outlinewidth": 0,
             "ticks": ""
            },
            "type": "contourcarpet"
           }
          ],
          "heatmap": [
           {
            "colorbar": {
             "outlinewidth": 0,
             "ticks": ""
            },
            "colorscale": [
             [
              0,
              "#0d0887"
             ],
             [
              0.1111111111111111,
              "#46039f"
             ],
             [
              0.2222222222222222,
              "#7201a8"
             ],
             [
              0.3333333333333333,
              "#9c179e"
             ],
             [
              0.4444444444444444,
              "#bd3786"
             ],
             [
              0.5555555555555556,
              "#d8576b"
             ],
             [
              0.6666666666666666,
              "#ed7953"
             ],
             [
              0.7777777777777778,
              "#fb9f3a"
             ],
             [
              0.8888888888888888,
              "#fdca26"
             ],
             [
              1,
              "#f0f921"
             ]
            ],
            "type": "heatmap"
           }
          ],
          "heatmapgl": [
           {
            "colorbar": {
             "outlinewidth": 0,
             "ticks": ""
            },
            "colorscale": [
             [
              0,
              "#0d0887"
             ],
             [
              0.1111111111111111,
              "#46039f"
             ],
             [
              0.2222222222222222,
              "#7201a8"
             ],
             [
              0.3333333333333333,
              "#9c179e"
             ],
             [
              0.4444444444444444,
              "#bd3786"
             ],
             [
              0.5555555555555556,
              "#d8576b"
             ],
             [
              0.6666666666666666,
              "#ed7953"
             ],
             [
              0.7777777777777778,
              "#fb9f3a"
             ],
             [
              0.8888888888888888,
              "#fdca26"
             ],
             [
              1,
              "#f0f921"
             ]
            ],
            "type": "heatmapgl"
           }
          ],
          "histogram": [
           {
            "marker": {
             "pattern": {
              "fillmode": "overlay",
              "size": 10,
              "solidity": 0.2
             }
            },
            "type": "histogram"
           }
          ],
          "histogram2d": [
           {
            "colorbar": {
             "outlinewidth": 0,
             "ticks": ""
            },
            "colorscale": [
             [
              0,
              "#0d0887"
             ],
             [
              0.1111111111111111,
              "#46039f"
             ],
             [
              0.2222222222222222,
              "#7201a8"
             ],
             [
              0.3333333333333333,
              "#9c179e"
             ],
             [
              0.4444444444444444,
              "#bd3786"
             ],
             [
              0.5555555555555556,
              "#d8576b"
             ],
             [
              0.6666666666666666,
              "#ed7953"
             ],
             [
              0.7777777777777778,
              "#fb9f3a"
             ],
             [
              0.8888888888888888,
              "#fdca26"
             ],
             [
              1,
              "#f0f921"
             ]
            ],
            "type": "histogram2d"
           }
          ],
          "histogram2dcontour": [
           {
            "colorbar": {
             "outlinewidth": 0,
             "ticks": ""
            },
            "colorscale": [
             [
              0,
              "#0d0887"
             ],
             [
              0.1111111111111111,
              "#46039f"
             ],
             [
              0.2222222222222222,
              "#7201a8"
             ],
             [
              0.3333333333333333,
              "#9c179e"
             ],
             [
              0.4444444444444444,
              "#bd3786"
             ],
             [
              0.5555555555555556,
              "#d8576b"
             ],
             [
              0.6666666666666666,
              "#ed7953"
             ],
             [
              0.7777777777777778,
              "#fb9f3a"
             ],
             [
              0.8888888888888888,
              "#fdca26"
             ],
             [
              1,
              "#f0f921"
             ]
            ],
            "type": "histogram2dcontour"
           }
          ],
          "mesh3d": [
           {
            "colorbar": {
             "outlinewidth": 0,
             "ticks": ""
            },
            "type": "mesh3d"
           }
          ],
          "parcoords": [
           {
            "line": {
             "colorbar": {
              "outlinewidth": 0,
              "ticks": ""
             }
            },
            "type": "parcoords"
           }
          ],
          "pie": [
           {
            "automargin": true,
            "type": "pie"
           }
          ],
          "scatter": [
           {
            "fillpattern": {
             "fillmode": "overlay",
             "size": 10,
             "solidity": 0.2
            },
            "type": "scatter"
           }
          ],
          "scatter3d": [
           {
            "line": {
             "colorbar": {
              "outlinewidth": 0,
              "ticks": ""
             }
            },
            "marker": {
             "colorbar": {
              "outlinewidth": 0,
              "ticks": ""
             }
            },
            "type": "scatter3d"
           }
          ],
          "scattercarpet": [
           {
            "marker": {
             "colorbar": {
              "outlinewidth": 0,
              "ticks": ""
             }
            },
            "type": "scattercarpet"
           }
          ],
          "scattergeo": [
           {
            "marker": {
             "colorbar": {
              "outlinewidth": 0,
              "ticks": ""
             }
            },
            "type": "scattergeo"
           }
          ],
          "scattergl": [
           {
            "marker": {
             "colorbar": {
              "outlinewidth": 0,
              "ticks": ""
             }
            },
            "type": "scattergl"
           }
          ],
          "scattermapbox": [
           {
            "marker": {
             "colorbar": {
              "outlinewidth": 0,
              "ticks": ""
             }
            },
            "type": "scattermapbox"
           }
          ],
          "scatterpolar": [
           {
            "marker": {
             "colorbar": {
              "outlinewidth": 0,
              "ticks": ""
             }
            },
            "type": "scatterpolar"
           }
          ],
          "scatterpolargl": [
           {
            "marker": {
             "colorbar": {
              "outlinewidth": 0,
              "ticks": ""
             }
            },
            "type": "scatterpolargl"
           }
          ],
          "scatterternary": [
           {
            "marker": {
             "colorbar": {
              "outlinewidth": 0,
              "ticks": ""
             }
            },
            "type": "scatterternary"
           }
          ],
          "surface": [
           {
            "colorbar": {
             "outlinewidth": 0,
             "ticks": ""
            },
            "colorscale": [
             [
              0,
              "#0d0887"
             ],
             [
              0.1111111111111111,
              "#46039f"
             ],
             [
              0.2222222222222222,
              "#7201a8"
             ],
             [
              0.3333333333333333,
              "#9c179e"
             ],
             [
              0.4444444444444444,
              "#bd3786"
             ],
             [
              0.5555555555555556,
              "#d8576b"
             ],
             [
              0.6666666666666666,
              "#ed7953"
             ],
             [
              0.7777777777777778,
              "#fb9f3a"
             ],
             [
              0.8888888888888888,
              "#fdca26"
             ],
             [
              1,
              "#f0f921"
             ]
            ],
            "type": "surface"
           }
          ],
          "table": [
           {
            "cells": {
             "fill": {
              "color": "#EBF0F8"
             },
             "line": {
              "color": "white"
             }
            },
            "header": {
             "fill": {
              "color": "#C8D4E3"
             },
             "line": {
              "color": "white"
             }
            },
            "type": "table"
           }
          ]
         },
         "layout": {
          "annotationdefaults": {
           "arrowcolor": "#2a3f5f",
           "arrowhead": 0,
           "arrowwidth": 1
          },
          "autotypenumbers": "strict",
          "coloraxis": {
           "colorbar": {
            "outlinewidth": 0,
            "ticks": ""
           }
          },
          "colorscale": {
           "diverging": [
            [
             0,
             "#8e0152"
            ],
            [
             0.1,
             "#c51b7d"
            ],
            [
             0.2,
             "#de77ae"
            ],
            [
             0.3,
             "#f1b6da"
            ],
            [
             0.4,
             "#fde0ef"
            ],
            [
             0.5,
             "#f7f7f7"
            ],
            [
             0.6,
             "#e6f5d0"
            ],
            [
             0.7,
             "#b8e186"
            ],
            [
             0.8,
             "#7fbc41"
            ],
            [
             0.9,
             "#4d9221"
            ],
            [
             1,
             "#276419"
            ]
           ],
           "sequential": [
            [
             0,
             "#0d0887"
            ],
            [
             0.1111111111111111,
             "#46039f"
            ],
            [
             0.2222222222222222,
             "#7201a8"
            ],
            [
             0.3333333333333333,
             "#9c179e"
            ],
            [
             0.4444444444444444,
             "#bd3786"
            ],
            [
             0.5555555555555556,
             "#d8576b"
            ],
            [
             0.6666666666666666,
             "#ed7953"
            ],
            [
             0.7777777777777778,
             "#fb9f3a"
            ],
            [
             0.8888888888888888,
             "#fdca26"
            ],
            [
             1,
             "#f0f921"
            ]
           ],
           "sequentialminus": [
            [
             0,
             "#0d0887"
            ],
            [
             0.1111111111111111,
             "#46039f"
            ],
            [
             0.2222222222222222,
             "#7201a8"
            ],
            [
             0.3333333333333333,
             "#9c179e"
            ],
            [
             0.4444444444444444,
             "#bd3786"
            ],
            [
             0.5555555555555556,
             "#d8576b"
            ],
            [
             0.6666666666666666,
             "#ed7953"
            ],
            [
             0.7777777777777778,
             "#fb9f3a"
            ],
            [
             0.8888888888888888,
             "#fdca26"
            ],
            [
             1,
             "#f0f921"
            ]
           ]
          },
          "colorway": [
           "#636efa",
           "#EF553B",
           "#00cc96",
           "#ab63fa",
           "#FFA15A",
           "#19d3f3",
           "#FF6692",
           "#B6E880",
           "#FF97FF",
           "#FECB52"
          ],
          "font": {
           "color": "#2a3f5f"
          },
          "geo": {
           "bgcolor": "white",
           "lakecolor": "white",
           "landcolor": "#E5ECF6",
           "showlakes": true,
           "showland": true,
           "subunitcolor": "white"
          },
          "hoverlabel": {
           "align": "left"
          },
          "hovermode": "closest",
          "mapbox": {
           "style": "light"
          },
          "paper_bgcolor": "white",
          "plot_bgcolor": "#E5ECF6",
          "polar": {
           "angularaxis": {
            "gridcolor": "white",
            "linecolor": "white",
            "ticks": ""
           },
           "bgcolor": "#E5ECF6",
           "radialaxis": {
            "gridcolor": "white",
            "linecolor": "white",
            "ticks": ""
           }
          },
          "scene": {
           "xaxis": {
            "backgroundcolor": "#E5ECF6",
            "gridcolor": "white",
            "gridwidth": 2,
            "linecolor": "white",
            "showbackground": true,
            "ticks": "",
            "zerolinecolor": "white"
           },
           "yaxis": {
            "backgroundcolor": "#E5ECF6",
            "gridcolor": "white",
            "gridwidth": 2,
            "linecolor": "white",
            "showbackground": true,
            "ticks": "",
            "zerolinecolor": "white"
           },
           "zaxis": {
            "backgroundcolor": "#E5ECF6",
            "gridcolor": "white",
            "gridwidth": 2,
            "linecolor": "white",
            "showbackground": true,
            "ticks": "",
            "zerolinecolor": "white"
           }
          },
          "shapedefaults": {
           "line": {
            "color": "#2a3f5f"
           }
          },
          "ternary": {
           "aaxis": {
            "gridcolor": "white",
            "linecolor": "white",
            "ticks": ""
           },
           "baxis": {
            "gridcolor": "white",
            "linecolor": "white",
            "ticks": ""
           },
           "bgcolor": "#E5ECF6",
           "caxis": {
            "gridcolor": "white",
            "linecolor": "white",
            "ticks": ""
           }
          },
          "title": {
           "x": 0.05
          },
          "xaxis": {
           "automargin": true,
           "gridcolor": "white",
           "linecolor": "white",
           "ticks": "",
           "title": {
            "standoff": 15
           },
           "zerolinecolor": "white",
           "zerolinewidth": 2
          },
          "yaxis": {
           "automargin": true,
           "gridcolor": "white",
           "linecolor": "white",
           "ticks": "",
           "title": {
            "standoff": 15
           },
           "zerolinecolor": "white",
           "zerolinewidth": 2
          }
         }
        },
        "title": {
         "text": "Comparing Relationship of Emissions and Quality of Life in Europe"
        },
        "xaxis": {
         "anchor": "y",
         "domain": [
          0,
          1
         ],
         "title": {
          "text": "Emissions [Tonnes per capita]"
         }
        },
        "yaxis": {
         "anchor": "x",
         "domain": [
          0,
          1
         ],
         "title": {
          "text": "Quality of Life"
         }
        }
       }
      }
     },
     "metadata": {},
     "output_type": "display_data"
    }
   ],
   "source": [
    "fig = px.scatter(\n",
    "    avgs,\n",
    "    x='environment',\n",
    "    y='qol',\n",
    "    color='country',\n",
    "    opacity=1,\n",
    "    labels={'environment': 'Emissions [Tonnes per capita]', 'qol': 'Quality of Life'},\n",
    "    title='Comparing Relationship of Emissions and Quality of Life in Europe',\n",
    "    hover_data=['country']\n",
    ")\n",
    "\n",
    "fig"
   ]
  },
  {
   "cell_type": "code",
   "execution_count": 57,
   "id": "ca274652",
   "metadata": {},
   "outputs": [
    {
     "data": {
      "application/vnd.plotly.v1+json": {
       "config": {
        "plotlyServerURL": "https://plot.ly"
       },
       "data": [
        {
         "customdata": [
          [
           "Austria"
          ],
          [
           "Austria"
          ],
          [
           "Austria"
          ],
          [
           "Austria"
          ],
          [
           "Austria"
          ],
          [
           "Austria"
          ],
          [
           "Austria"
          ],
          [
           "Austria"
          ],
          [
           "Austria"
          ],
          [
           "Austria"
          ],
          [
           "Austria"
          ]
         ],
         "hovertemplate": "country=%{customdata[0]}<br>Transit Passengers=%{x}<br>Quality of Life=%{y}<extra></extra>",
         "legendgroup": "Austria",
         "marker": {
          "color": "#636efa",
          "opacity": 1,
          "symbol": "circle"
         },
         "mode": "markers",
         "name": "Austria",
         "orientation": "v",
         "showlegend": true,
         "type": "scatter",
         "x": [
          -0.08475136896344862,
          -0.050660136236899904,
          -0.032000786816487416,
          -0.015581636345249988,
          -0.003142070064974995,
          -0.0004261878453420852,
          0.03393788962501642,
          0.04694289073621301,
          -0.17495886735434898,
          -0.12787699376627787,
          0.00671085624273488
         ],
         "xaxis": "x",
         "y": [
          1.07512469036187,
          1.261656080920897,
          1.0396574541288153,
          0.9332557454296511,
          0.7848187937876085,
          0.9595277722689514,
          1.1000831158592048,
          1.163135980273523,
          1.1289823453824337,
          0.991054204476111,
          0.9043565159064223
         ],
         "yaxis": "y"
        },
        {
         "customdata": [
          [
           "Belgium"
          ]
         ],
         "hovertemplate": "country=%{customdata[0]}<br>Transit Passengers=%{x}<br>Quality of Life=%{y}<extra></extra>",
         "legendgroup": "Belgium",
         "marker": {
          "color": "#EF553B",
          "opacity": 1,
          "symbol": "circle"
         },
         "mode": "markers",
         "name": "Belgium",
         "orientation": "v",
         "showlegend": true,
         "type": "scatter",
         "x": [
          -0.1076793025995168
         ],
         "xaxis": "x",
         "y": [
          0.9253741373778621
         ],
         "yaxis": "y"
        },
        {
         "customdata": [
          [
           "Bulgaria"
          ],
          [
           "Bulgaria"
          ],
          [
           "Bulgaria"
          ],
          [
           "Bulgaria"
          ],
          [
           "Bulgaria"
          ],
          [
           "Bulgaria"
          ],
          [
           "Bulgaria"
          ],
          [
           "Bulgaria"
          ],
          [
           "Bulgaria"
          ],
          [
           "Bulgaria"
          ],
          [
           "Bulgaria"
          ]
         ],
         "hovertemplate": "country=%{customdata[0]}<br>Transit Passengers=%{x}<br>Quality of Life=%{y}<extra></extra>",
         "legendgroup": "Bulgaria",
         "marker": {
          "color": "#00cc96",
          "opacity": 1,
          "symbol": "circle"
         },
         "mode": "markers",
         "name": "Bulgaria",
         "orientation": "v",
         "showlegend": true,
         "type": "scatter",
         "x": [
          -0.46572699778874216,
          -0.4707153895193171,
          -0.47411338359847444,
          -0.4778775640443239,
          -0.47983953315606137,
          -0.4802523903341946,
          -0.48001185615215175,
          -0.48001185615215175,
          -0.4881271922492835,
          -0.4875276518253857,
          -0.47689568197285054
         ],
         "xaxis": "x",
         "y": [
          -3.3096765891172453,
          -3.1888252656564666,
          -2.8775017476107654,
          -2.878815348952731,
          -2.225955481996133,
          -1.9382767881058025,
          -1.8358158834325335,
          -1.7162781613137197,
          -1.5008475412314628,
          -1.362919400325139,
          -1.2381272728384658
         ],
         "yaxis": "y"
        },
        {
         "customdata": [
          [
           "Croatia"
          ],
          [
           "Croatia"
          ],
          [
           "Croatia"
          ],
          [
           "Croatia"
          ],
          [
           "Croatia"
          ],
          [
           "Croatia"
          ],
          [
           "Croatia"
          ],
          [
           "Croatia"
          ],
          [
           "Croatia"
          ],
          [
           "Croatia"
          ],
          [
           "Croatia"
          ]
         ],
         "hovertemplate": "country=%{customdata[0]}<br>Transit Passengers=%{x}<br>Quality of Life=%{y}<extra></extra>",
         "legendgroup": "Croatia",
         "marker": {
          "color": "#ab63fa",
          "opacity": 1,
          "symbol": "circle"
         },
         "mode": "markers",
         "name": "Croatia",
         "orientation": "v",
         "showlegend": true,
         "type": "scatter",
         "x": [
          -0.428812180970004,
          -0.4687982961878115,
          -0.4790066386749578,
          -0.47943744616518374,
          -0.4811247755019022,
          -0.4827510737775052,
          -0.481959465014215,
          -0.4827079930284826,
          -0.4947831679732748,
          -0.4940041244284495,
          -0.48494460191523914
         ],
         "xaxis": "x",
         "y": [
          -1.0318918621499635,
          -0.981975011155295,
          -0.8532420796427256,
          -1.209228043315236,
          -1.465380304998408,
          -1.428599467423389,
          -1.282789718465275,
          -1.186896820501832,
          -0.6916691145810335,
          -0.3724639884835421,
          -0.3724639884835421
         ],
         "yaxis": "y"
        },
        {
         "customdata": [
          [
           "Czechia"
          ],
          [
           "Czechia"
          ],
          [
           "Czechia"
          ],
          [
           "Czechia"
          ],
          [
           "Czechia"
          ],
          [
           "Czechia"
          ],
          [
           "Czechia"
          ],
          [
           "Czechia"
          ],
          [
           "Czechia"
          ],
          [
           "Czechia"
          ],
          [
           "Czechia"
          ]
         ],
         "hovertemplate": "country=%{customdata[0]}<br>Transit Passengers=%{x}<br>Quality of Life=%{y}<extra></extra>",
         "legendgroup": "Czechia",
         "marker": {
          "color": "#FFA15A",
          "opacity": 1,
          "symbol": "circle"
         },
         "mode": "markers",
         "name": "Czechia",
         "orientation": "v",
         "showlegend": true,
         "type": "scatter",
         "x": [
          -0.21711158524175125,
          -0.20851159071811523,
          -0.2029021181891312,
          -0.20211050942584097,
          -0.19740752765754077,
          -0.19030279413123075,
          -0.17852020927355036,
          -0.17083568066664456,
          -0.2861861812058583,
          -0.2758198759722958,
          -0.205375671195512
         ],
         "xaxis": "x",
         "y": [
          -0.06376767312177058,
          -0.15571976705931978,
          0.12670452146315145,
          0.2462422435819652,
          0.26331906102750985,
          0.3973063979079386,
          0.5825241871250012,
          0.6600266663009343,
          0.7309611387670438,
          0.6718490783786196,
          0.5733289777312456
         ],
         "yaxis": "y"
        },
        {
         "customdata": [
          [
           "Denmark"
          ],
          [
           "Denmark"
          ],
          [
           "Denmark"
          ],
          [
           "Denmark"
          ],
          [
           "Denmark"
          ],
          [
           "Denmark"
          ],
          [
           "Denmark"
          ],
          [
           "Denmark"
          ],
          [
           "Denmark"
          ],
          [
           "Denmark"
          ],
          [
           "Denmark"
          ]
         ],
         "hovertemplate": "country=%{customdata[0]}<br>Transit Passengers=%{x}<br>Quality of Life=%{y}<extra></extra>",
         "legendgroup": "Denmark",
         "marker": {
          "color": "#19d3f3",
          "opacity": 1,
          "symbol": "circle"
         },
         "mode": "markers",
         "name": "Denmark",
         "orientation": "v",
         "showlegend": true,
         "type": "scatter",
         "x": [
          -0.16929374885787743,
          -0.15588307069338472,
          -0.14437333057951413,
          -0.1372973175525525,
          -0.13883027420527325,
          -0.1475056600396988,
          -0.1497656043321759,
          -0.14744283394737417,
          -0.27794339789286804,
          -0.27762747240003566,
          -0.1864021913134764
         ],
         "xaxis": "x",
         "y": [
          1.901379934457844,
          1.6872629157175514,
          1.4692050929513647,
          1.4678914916093995,
          1.46263708624154,
          1.5059859305263839,
          1.565097990914808,
          1.6255236526451975,
          1.5913700177541081,
          1.612387639225548,
          1.5467075721272991
         ],
         "yaxis": "y"
        },
        {
         "customdata": [
          [
           "Estonia"
          ],
          [
           "Estonia"
          ],
          [
           "Estonia"
          ],
          [
           "Estonia"
          ],
          [
           "Estonia"
          ],
          [
           "Estonia"
          ],
          [
           "Estonia"
          ],
          [
           "Estonia"
          ],
          [
           "Estonia"
          ],
          [
           "Estonia"
          ],
          [
           "Estonia"
          ]
         ],
         "hovertemplate": "country=%{customdata[0]}<br>Transit Passengers=%{x}<br>Quality of Life=%{y}<extra></extra>",
         "legendgroup": "Estonia",
         "marker": {
          "color": "#FF6692",
          "opacity": 1,
          "symbol": "circle"
         },
         "mode": "markers",
         "name": "Estonia",
         "orientation": "v",
         "showlegend": true,
         "type": "scatter",
         "x": [
          -0.509757318321046,
          -0.5103801941506644,
          -0.5076984175240077,
          -0.5063449639922144,
          -0.505865690659338,
          -0.5049556098362357,
          -0.504370429662012,
          -0.5032682804995172,
          -0.507556610058475,
          -0.5073896721560124,
          -0.5055012993238552
         ],
         "xaxis": "x",
         "y": [
          -1.4167770553457038,
          -1.2906713265170653,
          -1.2867305224911703,
          -1.1711336043982516,
          -1.0476550782535439,
          -0.8795141064820259,
          -0.6772194998194185,
          -0.5077649267059351,
          -0.28839350259778307,
          -0.08872609861910542,
          0.061024454364902524
         ],
         "yaxis": "y"
        },
        {
         "customdata": [
          [
           "Finland"
          ],
          [
           "Finland"
          ],
          [
           "Finland"
          ],
          [
           "Finland"
          ],
          [
           "Finland"
          ],
          [
           "Finland"
          ],
          [
           "Finland"
          ],
          [
           "Finland"
          ],
          [
           "Finland"
          ],
          [
           "Finland"
          ],
          [
           "Finland"
          ]
         ],
         "hovertemplate": "country=%{customdata[0]}<br>Transit Passengers=%{x}<br>Quality of Life=%{y}<extra></extra>",
         "legendgroup": "Finland",
         "marker": {
          "color": "#B6E880",
          "opacity": 1,
          "symbol": "circle"
         },
         "mode": "markers",
         "name": "Finland",
         "orientation": "v",
         "showlegend": true,
         "type": "scatter",
         "x": [
          -0.3955610228493959,
          -0.39384676804453844,
          -0.3957656564072533,
          -0.3819618664079294,
          -0.3709008840963775,
          -0.3644585170862899,
          -0.3612292559408044,
          -0.35171738556285675,
          -0.4114039683024561,
          -0.4195552050237734,
          -0.3817159471322587
         ],
         "xaxis": "x",
         "y": [
          1.5375123627335434,
          1.2879281077601972,
          1.3102593305736012,
          1.319454539967357,
          1.393016215117396,
          1.6071332338576874,
          1.7870966177068908,
          1.8396406713854903,
          1.882989515670334,
          1.8554038874890695,
          1.8330726646756654
         ],
         "yaxis": "y"
        },
        {
         "customdata": [
          [
           "France"
          ],
          [
           "France"
          ],
          [
           "France"
          ],
          [
           "France"
          ],
          [
           "France"
          ],
          [
           "France"
          ],
          [
           "France"
          ],
          [
           "France"
          ],
          [
           "France"
          ],
          [
           "France"
          ]
         ],
         "hovertemplate": "country=%{customdata[0]}<br>Transit Passengers=%{x}<br>Quality of Life=%{y}<extra></extra>",
         "legendgroup": "France",
         "marker": {
          "color": "#FF97FF",
          "opacity": 1,
          "symbol": "circle"
         },
         "mode": "markers",
         "name": "France",
         "orientation": "v",
         "showlegend": true,
         "type": "scatter",
         "x": [
          1.546520938120503,
          1.55977185850737,
          1.6432803004252567,
          1.698558286514877,
          1.7743032184526495,
          1.7193519280431173,
          1.753299558272924,
          0.7809616677392734,
          1.0874219610051477,
          1.5313080486218982
         ],
         "xaxis": "x",
         "y": [
          0.4669272690320826,
          0.21865661540070067,
          0.09123728523009673,
          0.043947636919357866,
          0.1056868999917117,
          0.2409878382141047,
          0.3355671348355836,
          0.36972076972667406,
          0.3657799657007789,
          0.33162633080968845
         ],
         "yaxis": "y"
        },
        {
         "customdata": [
          [
           "Germany"
          ],
          [
           "Germany"
          ],
          [
           "Germany"
          ],
          [
           "Germany"
          ],
          [
           "Germany"
          ],
          [
           "Germany"
          ],
          [
           "Germany"
          ],
          [
           "Germany"
          ],
          [
           "Germany"
          ],
          [
           "Germany"
          ],
          [
           "Germany"
          ]
         ],
         "hovertemplate": "country=%{customdata[0]}<br>Transit Passengers=%{x}<br>Quality of Life=%{y}<extra></extra>",
         "legendgroup": "Germany",
         "marker": {
          "color": "#FECB52",
          "opacity": 1,
          "symbol": "circle"
         },
         "mode": "markers",
         "name": "Germany",
         "orientation": "v",
         "showlegend": true,
         "type": "scatter",
         "x": [
          4.023640671514132,
          4.085055869308262,
          4.315864572259247,
          4.301195577217052,
          4.532528429281144,
          4.564230475468149,
          4.652393433311684,
          4.755544901752666,
          2.626952018014269,
          2.6434483548275054,
          3.9797916491339644
         ],
         "xaxis": "x",
         "y": [
          0.21471581137480558,
          0.34607594557130344,
          0.4485368502445725,
          0.7690555776840282,
          0.7125707199795337,
          0.7309611387670438,
          0.757233165606344,
          0.8767708877251567,
          0.9805453937403912,
          0.8215996313626276,
          0.6350682408036006
         ],
         "yaxis": "y"
        },
        {
         "customdata": [
          [
           "Greece"
          ],
          [
           "Greece"
          ],
          [
           "Greece"
          ],
          [
           "Greece"
          ],
          [
           "Greece"
          ],
          [
           "Greece"
          ],
          [
           "Greece"
          ],
          [
           "Greece"
          ],
          [
           "Greece"
          ],
          [
           "Greece"
          ],
          [
           "Greece"
          ]
         ],
         "hovertemplate": "country=%{customdata[0]}<br>Transit Passengers=%{x}<br>Quality of Life=%{y}<extra></extra>",
         "legendgroup": "Greece",
         "marker": {
          "color": "#636efa",
          "opacity": 1,
          "symbol": "circle"
         },
         "mode": "markers",
         "name": "Greece",
         "orientation": "v",
         "showlegend": true,
         "type": "scatter",
         "x": [
          -0.4944151865753735,
          -0.4955765717677743,
          -0.4942464536417016,
          -0.4895057762180066,
          -0.49032790051185454,
          -0.49072819247152283,
          -0.4881505276550041,
          -0.4831172601441973,
          -0.4999528578559865,
          -0.500295708816958,
          -0.4906169005365478
         ],
         "xaxis": "x",
         "y": [
          -0.3619551777478222,
          -1.278848914439381,
          -2.0381104900951406,
          -1.8069166539093036,
          -1.5520779935680968,
          -1.3799962177706848,
          -1.4732619130501983,
          -1.1737608070821823,
          -0.9005317279534656,
          -0.6049714260113437,
          -0.6273026488247488
         ],
         "yaxis": "y"
        },
        {
         "customdata": [
          [
           "Hungary"
          ],
          [
           "Hungary"
          ],
          [
           "Hungary"
          ]
         ],
         "hovertemplate": "country=%{customdata[0]}<br>Transit Passengers=%{x}<br>Quality of Life=%{y}<extra></extra>",
         "legendgroup": "Hungary",
         "marker": {
          "color": "#EF553B",
          "opacity": 1,
          "symbol": "circle"
         },
         "mode": "markers",
         "name": "Hungary",
         "orientation": "v",
         "showlegend": true,
         "type": "scatter",
         "x": [
          -0.2570115389615135,
          -0.2531935075793858,
          -0.2562055699485491
         ],
         "xaxis": "x",
         "y": [
          -1.925140774686153,
          -2.145825800136269,
          -2.1129857665871454
         ],
         "yaxis": "y"
        },
        {
         "customdata": [
          [
           "Ireland"
          ],
          [
           "Ireland"
          ],
          [
           "Ireland"
          ],
          [
           "Ireland"
          ],
          [
           "Ireland"
          ],
          [
           "Ireland"
          ],
          [
           "Ireland"
          ],
          [
           "Ireland"
          ],
          [
           "Ireland"
          ],
          [
           "Ireland"
          ],
          [
           "Ireland"
          ]
         ],
         "hovertemplate": "country=%{customdata[0]}<br>Transit Passengers=%{x}<br>Quality of Life=%{y}<extra></extra>",
         "legendgroup": "Ireland",
         "marker": {
          "color": "#00cc96",
          "opacity": 1,
          "symbol": "circle"
         },
         "mode": "markers",
         "name": "Ireland",
         "orientation": "v",
         "showlegend": true,
         "type": "scatter",
         "x": [
          -0.45120878536812686,
          -0.45202911463076545,
          -0.44915885972713493,
          -0.4471071390549337,
          -0.4414348404336251,
          -0.43661518163672197,
          -0.43220838001795214,
          -0.42843881447847487,
          -0.4861131672324771,
          -0.48704478843009075,
          -0.4539551831183174
         ],
         "xaxis": "x",
         "y": [
          1.1499999668538734,
          0.8767708877251567,
          0.6981211052179199,
          0.654772260933075,
          0.7467243548706242,
          0.7467243548706242,
          0.8045228139170829,
          0.9004157118805273,
          0.888593299802842,
          0.8307948407563832,
          0.6600266663009343
         ],
         "yaxis": "y"
        },
        {
         "customdata": [
          [
           "Italy"
          ],
          [
           "Italy"
          ],
          [
           "Italy"
          ],
          [
           "Italy"
          ],
          [
           "Italy"
          ],
          [
           "Italy"
          ],
          [
           "Italy"
          ],
          [
           "Italy"
          ],
          [
           "Italy"
          ],
          [
           "Italy"
          ]
         ],
         "hovertemplate": "country=%{customdata[0]}<br>Transit Passengers=%{x}<br>Quality of Life=%{y}<extra></extra>",
         "legendgroup": "Italy",
         "marker": {
          "color": "#ab63fa",
          "opacity": 1,
          "symbol": "circle"
         },
         "mode": "markers",
         "name": "Italy",
         "orientation": "v",
         "showlegend": true,
         "type": "scatter",
         "x": [
          1.0161592219969344,
          1.0328296768374703,
          1.0480874421163069,
          1.0419412552557497,
          1.0336320557880163,
          1.0653556423495314,
          1.0944872038448537,
          0.18155407615094635,
          0.36446596134484843,
          0.7267427500631254
         ],
         "xaxis": "x",
         "y": [
          -0.5090785280479004,
          -0.6049714260113437,
          -0.5668769870943592,
          -0.5839538045399039,
          -0.536664156229165,
          -0.24373105697097389,
          -0.02830043688871701,
          0.0978052919399215,
          0.07678767046848176,
          -0.004655612733346416
         ],
         "yaxis": "y"
        },
        {
         "customdata": [
          [
           "Latvia"
          ],
          [
           "Latvia"
          ],
          [
           "Latvia"
          ],
          [
           "Latvia"
          ],
          [
           "Latvia"
          ],
          [
           "Latvia"
          ],
          [
           "Latvia"
          ],
          [
           "Latvia"
          ],
          [
           "Latvia"
          ],
          [
           "Latvia"
          ],
          [
           "Latvia"
          ]
         ],
         "hovertemplate": "country=%{customdata[0]}<br>Transit Passengers=%{x}<br>Quality of Life=%{y}<extra></extra>",
         "legendgroup": "Latvia",
         "marker": {
          "color": "#FFA15A",
          "opacity": 1,
          "symbol": "circle"
         },
         "mode": "markers",
         "name": "Latvia",
         "orientation": "v",
         "showlegend": true,
         "type": "scatter",
         "x": [
          -0.48159507367873217,
          -0.4829233967735956,
          -0.4838514279087907,
          -0.48766586922849986,
          -0.48737327914138806,
          -0.48689580083972095,
          -0.4855531174951833,
          -0.4848692106044496,
          -0.49521038540108225,
          -0.49820449745815276,
          -0.49012685701641573
         ],
         "xaxis": "x",
         "y": [
          -2.162902617581815,
          -1.7898398364637589,
          -1.7215325666815802,
          -1.1146487466937582,
          -0.7337043575239129,
          -0.6246754461408192,
          -0.6154802367470635,
          -0.602344223327414,
          -0.4946289132862855,
          -0.3002159146754684,
          -0.25686707039062345
         ],
         "yaxis": "y"
        },
        {
         "customdata": [
          [
           "Lithuania"
          ],
          [
           "Lithuania"
          ],
          [
           "Lithuania"
          ],
          [
           "Lithuania"
          ],
          [
           "Lithuania"
          ],
          [
           "Lithuania"
          ],
          [
           "Lithuania"
          ],
          [
           "Lithuania"
          ],
          [
           "Lithuania"
          ],
          [
           "Lithuania"
          ],
          [
           "Lithuania"
          ]
         ],
         "hovertemplate": "country=%{customdata[0]}<br>Transit Passengers=%{x}<br>Quality of Life=%{y}<extra></extra>",
         "legendgroup": "Lithuania",
         "marker": {
          "color": "#19d3f3",
          "opacity": 1,
          "symbol": "circle"
         },
         "mode": "markers",
         "name": "Lithuania",
         "orientation": "v",
         "showlegend": true,
         "type": "scatter",
         "x": [
          -0.5108899830140984,
          -0.5106673991441483,
          -0.5108917780453077,
          -0.511494908531624,
          -0.5112687345992554,
          -0.510802026484844,
          -0.5099242562235086,
          -0.5093390760492849,
          -0.5124857657591437,
          -0.5112112936005586,
          -0.5102850574965727
         ],
         "xaxis": "x",
         "y": [
          -1.077867909118738,
          -1.2906713265170653,
          -0.756035580337317,
          -0.7823076071766173,
          -0.6653970877417332,
          -0.5997170206434843,
          -0.34093755627638245,
          -0.25423986770669377,
          -0.2016958140280944,
          0.049202042287217224,
          0.4656136676901172
         ],
         "yaxis": "y"
        },
        {
         "customdata": [
          [
           "Luxembourg"
          ],
          [
           "Luxembourg"
          ],
          [
           "Luxembourg"
          ],
          [
           "Luxembourg"
          ],
          [
           "Luxembourg"
          ],
          [
           "Luxembourg"
          ],
          [
           "Luxembourg"
          ],
          [
           "Luxembourg"
          ],
          [
           "Luxembourg"
          ],
          [
           "Luxembourg"
          ],
          [
           "Luxembourg"
          ]
         ],
         "hovertemplate": "country=%{customdata[0]}<br>Transit Passengers=%{x}<br>Quality of Life=%{y}<extra></extra>",
         "legendgroup": "Luxembourg",
         "marker": {
          "color": "#FF6692",
          "opacity": 1,
          "symbol": "circle"
         },
         "mode": "markers",
         "name": "Luxembourg",
         "orientation": "v",
         "showlegend": true,
         "type": "scatter",
         "x": [
          -0.48562850880597286,
          -0.482952117272944,
          -0.4796995207217379,
          -0.47791705473092794,
          -0.4779834708856711,
          -0.4771380111861026,
          -0.4764182036711834,
          -0.4733935760835552,
          -0.49222165843763954,
          -0.4885095338968591,
          -0.47873917902477586
         ],
         "xaxis": "x",
         "y": [
          0.8439308541760328,
          0.8478716582019279,
          0.7060027132697089,
          0.607482612622336,
          0.5969738018866162,
          0.6587130649589701,
          0.8951613065126667,
          1.089574305123485,
          1.202544020532473,
          1.3076321278896716,
          1.0764382917038342
         ],
         "yaxis": "y"
        },
        {
         "customdata": [
          [
           "Poland"
          ],
          [
           "Poland"
          ],
          [
           "Poland"
          ],
          [
           "Poland"
          ],
          [
           "Poland"
          ],
          [
           "Poland"
          ]
         ],
         "hovertemplate": "country=%{customdata[0]}<br>Transit Passengers=%{x}<br>Quality of Life=%{y}<extra></extra>",
         "legendgroup": "Poland",
         "marker": {
          "color": "#B6E880",
          "opacity": 1,
          "symbol": "circle"
         },
         "mode": "markers",
         "name": "Poland",
         "orientation": "v",
         "showlegend": true,
         "type": "scatter",
         "x": [
          -0.08918868611277615,
          -0.040800029804352926,
          -0.051123254288892826,
          -0.03424278079687175,
          -0.0065454492377601875,
          0.011943372217771187
         ],
         "xaxis": "x",
         "y": [
          -0.7954436205962668,
          -0.770485195098932,
          -0.8112068366998461,
          -0.7534083776533873,
          -0.5721313924622198,
          -0.37509119116747175
         ],
         "yaxis": "y"
        },
        {
         "customdata": [
          [
           "Portugal"
          ],
          [
           "Portugal"
          ],
          [
           "Portugal"
          ],
          [
           "Portugal"
          ],
          [
           "Portugal"
          ],
          [
           "Portugal"
          ],
          [
           "Portugal"
          ],
          [
           "Portugal"
          ],
          [
           "Portugal"
          ],
          [
           "Portugal"
          ],
          [
           "Portugal"
          ]
         ],
         "hovertemplate": "country=%{customdata[0]}<br>Transit Passengers=%{x}<br>Quality of Life=%{y}<extra></extra>",
         "legendgroup": "Portugal",
         "marker": {
          "color": "#FF97FF",
          "opacity": 1,
          "symbol": "circle"
         },
         "mode": "markers",
         "name": "Portugal",
         "orientation": "v",
         "showlegend": true,
         "type": "scatter",
         "x": [
          -0.25049916573426423,
          -0.280973410574124,
          -0.2880045478208538,
          -0.28418831146993534,
          -0.27871167125043766,
          -0.2631756761341635,
          -0.25338557591877825,
          -0.20325035424373053,
          -0.3347615207600461,
          -0.301634219792878,
          -0.21017558464911307
         ],
         "xaxis": "x",
         "y": [
          -1.420717859371599,
          -1.7175917626556851,
          -1.7162781613137197,
          -1.6886925331324552,
          -1.5941132365109763,
          -1.311688947988505,
          -0.9399397682124154,
          -0.653574675664049,
          -0.6299298515086785,
          -0.5156465347577253,
          -0.5786993991720445
         ],
         "yaxis": "y"
        },
        {
         "customdata": [
          [
           "Romania"
          ],
          [
           "Romania"
          ],
          [
           "Romania"
          ],
          [
           "Romania"
          ],
          [
           "Romania"
          ],
          [
           "Romania"
          ],
          [
           "Romania"
          ],
          [
           "Romania"
          ],
          [
           "Romania"
          ],
          [
           "Romania"
          ],
          [
           "Romania"
          ]
         ],
         "hovertemplate": "country=%{customdata[0]}<br>Transit Passengers=%{x}<br>Quality of Life=%{y}<extra></extra>",
         "legendgroup": "Romania",
         "marker": {
          "color": "#FECB52",
          "opacity": 1,
          "symbol": "circle"
         },
         "mode": "markers",
         "name": "Romania",
         "orientation": "v",
         "showlegend": true,
         "type": "scatter",
         "x": [
          -0.4088532289540765,
          -0.4150299313451914,
          -0.4020680109830174,
          -0.3989661970533904,
          -0.4025993402209628,
          -0.394340401627089,
          -0.3989285013979956,
          -0.3931718363098511,
          -0.4275430939050467,
          -0.4196844472708412,
          -0.39181299768442995
         ],
         "xaxis": "x",
         "y": [
          -1.6164444593243814,
          -1.8069166539093036,
          -1.6873789317904908,
          -1.1566839896366377,
          -0.7665443910730368,
          -0.6089122300372387,
          -0.4447120622916158,
          -0.3737775898255075,
          -0.35275996835406775,
          0.08992368388813247,
          0.23704703418821074
         ],
         "yaxis": "y"
        },
        {
         "customdata": [
          [
           "Slovakia"
          ],
          [
           "Slovakia"
          ],
          [
           "Slovakia"
          ],
          [
           "Slovakia"
          ],
          [
           "Slovakia"
          ],
          [
           "Slovakia"
          ],
          [
           "Slovakia"
          ],
          [
           "Slovakia"
          ],
          [
           "Slovakia"
          ],
          [
           "Slovakia"
          ],
          [
           "Slovakia"
          ]
         ],
         "hovertemplate": "country=%{customdata[0]}<br>Transit Passengers=%{x}<br>Quality of Life=%{y}<extra></extra>",
         "legendgroup": "Slovakia",
         "marker": {
          "color": "#636efa",
          "opacity": 1,
          "symbol": "circle"
         },
         "mode": "markers",
         "name": "Slovakia",
         "orientation": "v",
         "showlegend": true,
         "type": "scatter",
         "x": [
          -0.4331184608410545,
          -0.43822352960023225,
          -0.4301656345017973,
          -0.41007205514517414,
          -0.3941716686934172,
          -0.38382151874073817,
          -0.37960499043015145,
          -0.37349111413136116,
          -0.4295858394212015,
          -0.4359815356198479,
          -0.3985605200000943
         ],
         "xaxis": "x",
         "y": [
          -0.9872294165231543,
          -0.5773857978300792,
          -0.5432321629389898,
          -0.43420325155589595,
          -0.4079312247165968,
          -0.30941112406922283,
          -0.27657109052009776,
          -0.1675421791370051,
          -0.10186211203875498,
          -0.02304603152085649,
          0.0794148731524126
         ],
         "yaxis": "y"
        },
        {
         "customdata": [
          [
           "Slovenia"
          ],
          [
           "Slovenia"
          ],
          [
           "Slovenia"
          ],
          [
           "Slovenia"
          ],
          [
           "Slovenia"
          ],
          [
           "Slovenia"
          ],
          [
           "Slovenia"
          ],
          [
           "Slovenia"
          ],
          [
           "Slovenia"
          ],
          [
           "Slovenia"
          ],
          [
           "Slovenia"
          ]
         ],
         "hovertemplate": "country=%{customdata[0]}<br>Transit Passengers=%{x}<br>Quality of Life=%{y}<extra></extra>",
         "legendgroup": "Slovenia",
         "marker": {
          "color": "#EF553B",
          "opacity": 1,
          "symbol": "circle"
         },
         "mode": "markers",
         "name": "Slovenia",
         "orientation": "v",
         "showlegend": true,
         "type": "scatter",
         "x": [
          -0.49080358378231237,
          -0.4912182359916549,
          -0.49238680130889284,
          -0.4929253106716753,
          -0.4937959008081736,
          -0.49495908103178377,
          -0.49477419281722845,
          -0.4944977580110001,
          -0.5040742495124817,
          -0.4973626278210028,
          -0.4933309877249714
         ],
         "xaxis": "x",
         "y": [
          -0.6391250609024342,
          -0.4578480757112665,
          -0.7363315602078426,
          -0.8414196675650414,
          -0.854555680984691,
          -0.6049714260113437,
          -0.3816591978772966,
          -0.05982686909587548,
          0.06890606241669273,
          0.2909046892087744,
          0.3171767160480747
         ],
         "yaxis": "y"
        },
        {
         "customdata": [
          [
           "Spain"
          ],
          [
           "Spain"
          ],
          [
           "Spain"
          ],
          [
           "Spain"
          ],
          [
           "Spain"
          ],
          [
           "Spain"
          ],
          [
           "Spain"
          ],
          [
           "Spain"
          ],
          [
           "Spain"
          ],
          [
           "Spain"
          ],
          [
           "Spain"
          ]
         ],
         "hovertemplate": "country=%{customdata[0]}<br>Transit Passengers=%{x}<br>Quality of Life=%{y}<extra></extra>",
         "legendgroup": "Spain",
         "marker": {
          "color": "#00cc96",
          "opacity": 1,
          "symbol": "circle"
         },
         "mode": "markers",
         "name": "Spain",
         "orientation": "v",
         "showlegend": true,
         "type": "scatter",
         "x": [
          0.5213373287857996,
          0.5023494886540899,
          0.4937423140056168,
          0.5010175754968079,
          0.5148716263699915,
          0.5592519779881039,
          0.5621527484222921,
          0.6214641696391531,
          0.08015994326384486,
          0.23292427929797516,
          0.4764256479297419
         ],
         "xaxis": "x",
         "y": [
          0.4629864650061875,
          -0.11368452411644028,
          -0.10448931472268583,
          -0.06245407177980632,
          -0.007282815417277259,
          -0.12944774022002067,
          -0.07164928117356077,
          -0.009910018101206937,
          0.10831410267564139,
          0.08861008254616705,
          0.03606602886756767
         ],
         "yaxis": "y"
        },
        {
         "customdata": [
          [
           "Sweden"
          ],
          [
           "Sweden"
          ],
          [
           "Sweden"
          ],
          [
           "Sweden"
          ],
          [
           "Sweden"
          ],
          [
           "Sweden"
          ],
          [
           "Sweden"
          ],
          [
           "Sweden"
          ],
          [
           "Sweden"
          ],
          [
           "Sweden"
          ]
         ],
         "hovertemplate": "country=%{customdata[0]}<br>Transit Passengers=%{x}<br>Quality of Life=%{y}<extra></extra>",
         "legendgroup": "Sweden",
         "marker": {
          "color": "#ab63fa",
          "opacity": 1,
          "symbol": "circle"
         },
         "mode": "markers",
         "name": "Sweden",
         "orientation": "v",
         "showlegend": true,
         "type": "scatter",
         "x": [
          -0.1825285139638612,
          -0.14622400775627653,
          -0.13338235448512398,
          -0.12169490628153515,
          -0.10576938939284831,
          -0.07584083404060807,
          -0.04332743374701197,
          -0.21464521236020753,
          -0.2230333932011491,
          -0.08036072262556224
         ],
         "xaxis": "x",
         "y": [
          1.2747920943405464,
          1.2550880742110722,
          1.1591951762476291,
          1.1499999668538734,
          1.1894080071128232,
          1.2275024460298076,
          1.2406384594494573,
          1.2537744728691078,
          1.2813601010503723,
          1.2958097158119863
         ],
         "yaxis": "y"
        }
       ],
       "layout": {
        "legend": {
         "title": {
          "text": "country"
         },
         "tracegroupgap": 0
        },
        "template": {
         "data": {
          "bar": [
           {
            "error_x": {
             "color": "#2a3f5f"
            },
            "error_y": {
             "color": "#2a3f5f"
            },
            "marker": {
             "line": {
              "color": "#E5ECF6",
              "width": 0.5
             },
             "pattern": {
              "fillmode": "overlay",
              "size": 10,
              "solidity": 0.2
             }
            },
            "type": "bar"
           }
          ],
          "barpolar": [
           {
            "marker": {
             "line": {
              "color": "#E5ECF6",
              "width": 0.5
             },
             "pattern": {
              "fillmode": "overlay",
              "size": 10,
              "solidity": 0.2
             }
            },
            "type": "barpolar"
           }
          ],
          "carpet": [
           {
            "aaxis": {
             "endlinecolor": "#2a3f5f",
             "gridcolor": "white",
             "linecolor": "white",
             "minorgridcolor": "white",
             "startlinecolor": "#2a3f5f"
            },
            "baxis": {
             "endlinecolor": "#2a3f5f",
             "gridcolor": "white",
             "linecolor": "white",
             "minorgridcolor": "white",
             "startlinecolor": "#2a3f5f"
            },
            "type": "carpet"
           }
          ],
          "choropleth": [
           {
            "colorbar": {
             "outlinewidth": 0,
             "ticks": ""
            },
            "type": "choropleth"
           }
          ],
          "contour": [
           {
            "colorbar": {
             "outlinewidth": 0,
             "ticks": ""
            },
            "colorscale": [
             [
              0,
              "#0d0887"
             ],
             [
              0.1111111111111111,
              "#46039f"
             ],
             [
              0.2222222222222222,
              "#7201a8"
             ],
             [
              0.3333333333333333,
              "#9c179e"
             ],
             [
              0.4444444444444444,
              "#bd3786"
             ],
             [
              0.5555555555555556,
              "#d8576b"
             ],
             [
              0.6666666666666666,
              "#ed7953"
             ],
             [
              0.7777777777777778,
              "#fb9f3a"
             ],
             [
              0.8888888888888888,
              "#fdca26"
             ],
             [
              1,
              "#f0f921"
             ]
            ],
            "type": "contour"
           }
          ],
          "contourcarpet": [
           {
            "colorbar": {
             "outlinewidth": 0,
             "ticks": ""
            },
            "type": "contourcarpet"
           }
          ],
          "heatmap": [
           {
            "colorbar": {
             "outlinewidth": 0,
             "ticks": ""
            },
            "colorscale": [
             [
              0,
              "#0d0887"
             ],
             [
              0.1111111111111111,
              "#46039f"
             ],
             [
              0.2222222222222222,
              "#7201a8"
             ],
             [
              0.3333333333333333,
              "#9c179e"
             ],
             [
              0.4444444444444444,
              "#bd3786"
             ],
             [
              0.5555555555555556,
              "#d8576b"
             ],
             [
              0.6666666666666666,
              "#ed7953"
             ],
             [
              0.7777777777777778,
              "#fb9f3a"
             ],
             [
              0.8888888888888888,
              "#fdca26"
             ],
             [
              1,
              "#f0f921"
             ]
            ],
            "type": "heatmap"
           }
          ],
          "heatmapgl": [
           {
            "colorbar": {
             "outlinewidth": 0,
             "ticks": ""
            },
            "colorscale": [
             [
              0,
              "#0d0887"
             ],
             [
              0.1111111111111111,
              "#46039f"
             ],
             [
              0.2222222222222222,
              "#7201a8"
             ],
             [
              0.3333333333333333,
              "#9c179e"
             ],
             [
              0.4444444444444444,
              "#bd3786"
             ],
             [
              0.5555555555555556,
              "#d8576b"
             ],
             [
              0.6666666666666666,
              "#ed7953"
             ],
             [
              0.7777777777777778,
              "#fb9f3a"
             ],
             [
              0.8888888888888888,
              "#fdca26"
             ],
             [
              1,
              "#f0f921"
             ]
            ],
            "type": "heatmapgl"
           }
          ],
          "histogram": [
           {
            "marker": {
             "pattern": {
              "fillmode": "overlay",
              "size": 10,
              "solidity": 0.2
             }
            },
            "type": "histogram"
           }
          ],
          "histogram2d": [
           {
            "colorbar": {
             "outlinewidth": 0,
             "ticks": ""
            },
            "colorscale": [
             [
              0,
              "#0d0887"
             ],
             [
              0.1111111111111111,
              "#46039f"
             ],
             [
              0.2222222222222222,
              "#7201a8"
             ],
             [
              0.3333333333333333,
              "#9c179e"
             ],
             [
              0.4444444444444444,
              "#bd3786"
             ],
             [
              0.5555555555555556,
              "#d8576b"
             ],
             [
              0.6666666666666666,
              "#ed7953"
             ],
             [
              0.7777777777777778,
              "#fb9f3a"
             ],
             [
              0.8888888888888888,
              "#fdca26"
             ],
             [
              1,
              "#f0f921"
             ]
            ],
            "type": "histogram2d"
           }
          ],
          "histogram2dcontour": [
           {
            "colorbar": {
             "outlinewidth": 0,
             "ticks": ""
            },
            "colorscale": [
             [
              0,
              "#0d0887"
             ],
             [
              0.1111111111111111,
              "#46039f"
             ],
             [
              0.2222222222222222,
              "#7201a8"
             ],
             [
              0.3333333333333333,
              "#9c179e"
             ],
             [
              0.4444444444444444,
              "#bd3786"
             ],
             [
              0.5555555555555556,
              "#d8576b"
             ],
             [
              0.6666666666666666,
              "#ed7953"
             ],
             [
              0.7777777777777778,
              "#fb9f3a"
             ],
             [
              0.8888888888888888,
              "#fdca26"
             ],
             [
              1,
              "#f0f921"
             ]
            ],
            "type": "histogram2dcontour"
           }
          ],
          "mesh3d": [
           {
            "colorbar": {
             "outlinewidth": 0,
             "ticks": ""
            },
            "type": "mesh3d"
           }
          ],
          "parcoords": [
           {
            "line": {
             "colorbar": {
              "outlinewidth": 0,
              "ticks": ""
             }
            },
            "type": "parcoords"
           }
          ],
          "pie": [
           {
            "automargin": true,
            "type": "pie"
           }
          ],
          "scatter": [
           {
            "fillpattern": {
             "fillmode": "overlay",
             "size": 10,
             "solidity": 0.2
            },
            "type": "scatter"
           }
          ],
          "scatter3d": [
           {
            "line": {
             "colorbar": {
              "outlinewidth": 0,
              "ticks": ""
             }
            },
            "marker": {
             "colorbar": {
              "outlinewidth": 0,
              "ticks": ""
             }
            },
            "type": "scatter3d"
           }
          ],
          "scattercarpet": [
           {
            "marker": {
             "colorbar": {
              "outlinewidth": 0,
              "ticks": ""
             }
            },
            "type": "scattercarpet"
           }
          ],
          "scattergeo": [
           {
            "marker": {
             "colorbar": {
              "outlinewidth": 0,
              "ticks": ""
             }
            },
            "type": "scattergeo"
           }
          ],
          "scattergl": [
           {
            "marker": {
             "colorbar": {
              "outlinewidth": 0,
              "ticks": ""
             }
            },
            "type": "scattergl"
           }
          ],
          "scattermapbox": [
           {
            "marker": {
             "colorbar": {
              "outlinewidth": 0,
              "ticks": ""
             }
            },
            "type": "scattermapbox"
           }
          ],
          "scatterpolar": [
           {
            "marker": {
             "colorbar": {
              "outlinewidth": 0,
              "ticks": ""
             }
            },
            "type": "scatterpolar"
           }
          ],
          "scatterpolargl": [
           {
            "marker": {
             "colorbar": {
              "outlinewidth": 0,
              "ticks": ""
             }
            },
            "type": "scatterpolargl"
           }
          ],
          "scatterternary": [
           {
            "marker": {
             "colorbar": {
              "outlinewidth": 0,
              "ticks": ""
             }
            },
            "type": "scatterternary"
           }
          ],
          "surface": [
           {
            "colorbar": {
             "outlinewidth": 0,
             "ticks": ""
            },
            "colorscale": [
             [
              0,
              "#0d0887"
             ],
             [
              0.1111111111111111,
              "#46039f"
             ],
             [
              0.2222222222222222,
              "#7201a8"
             ],
             [
              0.3333333333333333,
              "#9c179e"
             ],
             [
              0.4444444444444444,
              "#bd3786"
             ],
             [
              0.5555555555555556,
              "#d8576b"
             ],
             [
              0.6666666666666666,
              "#ed7953"
             ],
             [
              0.7777777777777778,
              "#fb9f3a"
             ],
             [
              0.8888888888888888,
              "#fdca26"
             ],
             [
              1,
              "#f0f921"
             ]
            ],
            "type": "surface"
           }
          ],
          "table": [
           {
            "cells": {
             "fill": {
              "color": "#EBF0F8"
             },
             "line": {
              "color": "white"
             }
            },
            "header": {
             "fill": {
              "color": "#C8D4E3"
             },
             "line": {
              "color": "white"
             }
            },
            "type": "table"
           }
          ]
         },
         "layout": {
          "annotationdefaults": {
           "arrowcolor": "#2a3f5f",
           "arrowhead": 0,
           "arrowwidth": 1
          },
          "autotypenumbers": "strict",
          "coloraxis": {
           "colorbar": {
            "outlinewidth": 0,
            "ticks": ""
           }
          },
          "colorscale": {
           "diverging": [
            [
             0,
             "#8e0152"
            ],
            [
             0.1,
             "#c51b7d"
            ],
            [
             0.2,
             "#de77ae"
            ],
            [
             0.3,
             "#f1b6da"
            ],
            [
             0.4,
             "#fde0ef"
            ],
            [
             0.5,
             "#f7f7f7"
            ],
            [
             0.6,
             "#e6f5d0"
            ],
            [
             0.7,
             "#b8e186"
            ],
            [
             0.8,
             "#7fbc41"
            ],
            [
             0.9,
             "#4d9221"
            ],
            [
             1,
             "#276419"
            ]
           ],
           "sequential": [
            [
             0,
             "#0d0887"
            ],
            [
             0.1111111111111111,
             "#46039f"
            ],
            [
             0.2222222222222222,
             "#7201a8"
            ],
            [
             0.3333333333333333,
             "#9c179e"
            ],
            [
             0.4444444444444444,
             "#bd3786"
            ],
            [
             0.5555555555555556,
             "#d8576b"
            ],
            [
             0.6666666666666666,
             "#ed7953"
            ],
            [
             0.7777777777777778,
             "#fb9f3a"
            ],
            [
             0.8888888888888888,
             "#fdca26"
            ],
            [
             1,
             "#f0f921"
            ]
           ],
           "sequentialminus": [
            [
             0,
             "#0d0887"
            ],
            [
             0.1111111111111111,
             "#46039f"
            ],
            [
             0.2222222222222222,
             "#7201a8"
            ],
            [
             0.3333333333333333,
             "#9c179e"
            ],
            [
             0.4444444444444444,
             "#bd3786"
            ],
            [
             0.5555555555555556,
             "#d8576b"
            ],
            [
             0.6666666666666666,
             "#ed7953"
            ],
            [
             0.7777777777777778,
             "#fb9f3a"
            ],
            [
             0.8888888888888888,
             "#fdca26"
            ],
            [
             1,
             "#f0f921"
            ]
           ]
          },
          "colorway": [
           "#636efa",
           "#EF553B",
           "#00cc96",
           "#ab63fa",
           "#FFA15A",
           "#19d3f3",
           "#FF6692",
           "#B6E880",
           "#FF97FF",
           "#FECB52"
          ],
          "font": {
           "color": "#2a3f5f"
          },
          "geo": {
           "bgcolor": "white",
           "lakecolor": "white",
           "landcolor": "#E5ECF6",
           "showlakes": true,
           "showland": true,
           "subunitcolor": "white"
          },
          "hoverlabel": {
           "align": "left"
          },
          "hovermode": "closest",
          "mapbox": {
           "style": "light"
          },
          "paper_bgcolor": "white",
          "plot_bgcolor": "#E5ECF6",
          "polar": {
           "angularaxis": {
            "gridcolor": "white",
            "linecolor": "white",
            "ticks": ""
           },
           "bgcolor": "#E5ECF6",
           "radialaxis": {
            "gridcolor": "white",
            "linecolor": "white",
            "ticks": ""
           }
          },
          "scene": {
           "xaxis": {
            "backgroundcolor": "#E5ECF6",
            "gridcolor": "white",
            "gridwidth": 2,
            "linecolor": "white",
            "showbackground": true,
            "ticks": "",
            "zerolinecolor": "white"
           },
           "yaxis": {
            "backgroundcolor": "#E5ECF6",
            "gridcolor": "white",
            "gridwidth": 2,
            "linecolor": "white",
            "showbackground": true,
            "ticks": "",
            "zerolinecolor": "white"
           },
           "zaxis": {
            "backgroundcolor": "#E5ECF6",
            "gridcolor": "white",
            "gridwidth": 2,
            "linecolor": "white",
            "showbackground": true,
            "ticks": "",
            "zerolinecolor": "white"
           }
          },
          "shapedefaults": {
           "line": {
            "color": "#2a3f5f"
           }
          },
          "ternary": {
           "aaxis": {
            "gridcolor": "white",
            "linecolor": "white",
            "ticks": ""
           },
           "baxis": {
            "gridcolor": "white",
            "linecolor": "white",
            "ticks": ""
           },
           "bgcolor": "#E5ECF6",
           "caxis": {
            "gridcolor": "white",
            "linecolor": "white",
            "ticks": ""
           }
          },
          "title": {
           "x": 0.05
          },
          "xaxis": {
           "automargin": true,
           "gridcolor": "white",
           "linecolor": "white",
           "ticks": "",
           "title": {
            "standoff": 15
           },
           "zerolinecolor": "white",
           "zerolinewidth": 2
          },
          "yaxis": {
           "automargin": true,
           "gridcolor": "white",
           "linecolor": "white",
           "ticks": "",
           "title": {
            "standoff": 15
           },
           "zerolinecolor": "white",
           "zerolinewidth": 2
          }
         }
        },
        "title": {
         "text": "Comparing Relationship of Transit Passengers and Quality of Life in Europe"
        },
        "xaxis": {
         "anchor": "y",
         "domain": [
          0,
          1
         ],
         "title": {
          "text": "Transit Passengers"
         }
        },
        "yaxis": {
         "anchor": "x",
         "domain": [
          0,
          1
         ],
         "title": {
          "text": "Quality of Life"
         }
        }
       }
      }
     },
     "metadata": {},
     "output_type": "display_data"
    }
   ],
   "source": [
    "fig = px.scatter(\n",
    "    combined,\n",
    "    x='infrastructure',\n",
    "    y='qol',\n",
    "    color='country',\n",
    "    opacity=1,\n",
    "    labels={'infrastructure': 'Transit Passengers', 'qol': 'Quality of Life'},\n",
    "    title='Comparing Relationship of Transit Passengers and Quality of Life in Europe',\n",
    "    hover_data=['country']\n",
    ")\n",
    "\n",
    "fig"
   ]
  },
  {
   "cell_type": "code",
   "execution_count": null,
   "id": "5e7802c7",
   "metadata": {},
   "outputs": [],
   "source": []
  }
 ],
 "metadata": {
  "kernelspec": {
   "display_name": "base",
   "language": "python",
   "name": "python3"
  },
  "language_info": {
   "codemirror_mode": {
    "name": "ipython",
    "version": 3
   },
   "file_extension": ".py",
   "mimetype": "text/x-python",
   "name": "python",
   "nbconvert_exporter": "python",
   "pygments_lexer": "ipython3",
   "version": "3.12.7"
  }
 },
 "nbformat": 4,
 "nbformat_minor": 5
}
