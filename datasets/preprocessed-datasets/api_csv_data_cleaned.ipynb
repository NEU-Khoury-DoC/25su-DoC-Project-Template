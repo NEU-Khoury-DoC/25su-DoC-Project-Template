{
 "cells": [
  {
   "cell_type": "code",
   "execution_count": 127,
   "id": "3850e74f",
   "metadata": {},
   "outputs": [],
   "source": [
    "import requests\n",
    "import json\n",
    "import pandas as pd\n",
    "from functools import reduce\n",
    "import plotly.express as px\n",
    "import plotly\n",
    "import statistics\n",
    "from statistics import stdev\n",
    "import plotly.io as pio"
   ]
  },
  {
   "cell_type": "code",
   "execution_count": 128,
   "id": "1d722d6e",
   "metadata": {},
   "outputs": [],
   "source": [
    "def api_to_df(url):\n",
    "    \"\"\"\n",
    "    accesses api as json, creates dict, and then converts dict to pandas dataframe\n",
    "\n",
    "    args:\n",
    "        - url, string url for api access\n",
    "    \n",
    "    returns:\n",
    "        - pandas dataframe with api data\n",
    "    \"\"\"\n",
    "    response = requests.get(url).text\n",
    "    doc = json.loads(response)\n",
    "\n",
    "\n",
    "    values = doc[\"value\"]\n",
    "    dim_ids = doc[\"id\"]\n",
    "    dim_sizes = doc[\"size\"]\n",
    "    dimensions = doc[\"dimension\"]\n",
    "\n",
    "    dim_labels = {}\n",
    "    for dim in dim_ids:\n",
    "        dim_info = dimensions[dim]\n",
    "        label_dict = dim_info[\"category\"][\"label\"]\n",
    "        index_dict = dim_info[\"category\"][\"index\"]\n",
    "        ordered_labels = [label_dict[key] for key, _ in sorted(index_dict.items(), key=lambda x: x[1])]\n",
    "        dim_labels[dim] = ordered_labels\n",
    "\n",
    "    def flat_index_to_coords(index, sizes):\n",
    "        coords = []\n",
    "        for size in reversed(sizes):\n",
    "            coords.insert(0, index % size)\n",
    "            index = index // size\n",
    "        return coords\n",
    "\n",
    "    records = []\n",
    "    for flat_key, value in values.items():\n",
    "        flat_index = int(flat_key)\n",
    "        coord_indices = flat_index_to_coords(flat_index, dim_sizes)\n",
    "\n",
    "        record = {}\n",
    "        for i, dim in enumerate(dim_ids):\n",
    "            record[dim] = dim_labels[dim][coord_indices[i]]\n",
    "        record[\"value\"] = value\n",
    "        records.append(record)\n",
    "\n",
    "    return pd.DataFrame(records)\n",
    " \n",
    "    "
   ]
  },
  {
   "cell_type": "code",
   "execution_count": 129,
   "id": "6900e707",
   "metadata": {},
   "outputs": [],
   "source": [
    "def clean_df(df, indic, value, metadata_cols, unit = None, target_col = None):\n",
    "    \"\"\"\n",
    "    takes in df as arg, converts indic to columns, adds unit to indic columns, makes value column part of indic columns,\n",
    "      removes freq column, returns cleaned df\n",
    "\n",
    "      args:\n",
    "      - df: pandas df to be cleaned, df\n",
    "      - indic: indicator column to be converted into multiple columns, string\n",
    "      - unit: unit column to be combined into indic columns, string\n",
    "      - value: value column to be turned into values in indic cols, string\n",
    "      - metadata_cols: other cols to be accepted, list of strings\n",
    "      - target_col: main string to be indic col, string\n",
    "    \"\"\"\n",
    "        # Strip whitespace from column names\n",
    "    df.columns = df.columns.str.strip()\n",
    "\n",
    "    # Combine indicator and unit to form unique column names\n",
    "    if unit:\n",
    "        df[\"indic_clean\"] = df[indic] + \" [\" + df[unit] + \"]\"\n",
    "    else: \n",
    "        df[\"indic_clean\"] = df[indic]\n",
    "\n",
    "    # Pivot to wide format\n",
    "    df_wide = df.pivot_table(\n",
    "        index=metadata_cols,\n",
    "        columns=\"indic_clean\",\n",
    "        values=value\n",
    "    ).reset_index()\n",
    "\n",
    "    # Flatten columns\n",
    "    df_wide.columns.name = None\n",
    "\n",
    "    # If a target_col is specified, return only that column + metadata\n",
    "    if target_col:\n",
    "    \n",
    "        if target_col not in df_wide.columns:\n",
    "            raise ValueError(\n",
    "                f\"Target column '{target_col}' not found. Available columns:\\n{df_wide.columns.tolist()}\"\n",
    "            )\n",
    "        mean = df_wide[target_col].mean()\n",
    "        std = df_wide[target_col].std()\n",
    "        df_wide[target_col] = (df_wide[target_col] - mean) / std\n",
    "        return df_wide[metadata_cols + [target_col]]\n",
    "    \n",
    "    # If no target_col specified, return everything\n",
    "    return df_wide"
   ]
  },
  {
   "cell_type": "markdown",
   "id": "29b2eb31",
   "metadata": {},
   "source": [
    "# Healthcare"
   ]
  },
  {
   "cell_type": "code",
   "execution_count": 130,
   "id": "38d4631d",
   "metadata": {},
   "outputs": [],
   "source": [
    "healthcare = api_to_df(\"https://ec.europa.eu/eurostat/api/dissemination/statistics/1.0/data/hlth_hlye?format=JSON&time=2008&time=2009&time=2010&time=2011&time=2012&time=2013&time=2014&time=2015&time=2016&time=2017&time=2018&time=2019&time=2020&time=2021&time=2022&geo=BE&geo=BG&geo=CZ&geo=DK&geo=DE&geo=EE&geo=IE&geo=EL&geo=ES&geo=FR&geo=HR&geo=IT&geo=CY&geo=LV&geo=LT&geo=LU&geo=HU&geo=MT&geo=NL&geo=AT&geo=PL&geo=PT&geo=RO&geo=SI&geo=SK&geo=FI&geo=SE&unit=YR&unit=PC&sex=M&sex=F&indic_he=HLY_0&indic_he=HLY_PC_0&indic_he=LE_0&indic_he=HLY_50&indic_he=HLY_PC_50&indic_he=LE_50&indic_he=HLY_65&indic_he=HLY_PC_65&indic_he=LE_65&lang=en\")"
   ]
  },
  {
   "cell_type": "code",
   "execution_count": 131,
   "id": "83864eac",
   "metadata": {},
   "outputs": [
    {
     "data": {
      "text/html": [
       "<div>\n",
       "<style scoped>\n",
       "    .dataframe tbody tr th:only-of-type {\n",
       "        vertical-align: middle;\n",
       "    }\n",
       "\n",
       "    .dataframe tbody tr th {\n",
       "        vertical-align: top;\n",
       "    }\n",
       "\n",
       "    .dataframe thead th {\n",
       "        text-align: right;\n",
       "    }\n",
       "</style>\n",
       "<table border=\"1\" class=\"dataframe\">\n",
       "  <thead>\n",
       "    <tr style=\"text-align: right;\">\n",
       "      <th></th>\n",
       "      <th>geo</th>\n",
       "      <th>time</th>\n",
       "      <th>Healthy life years in absolute value at birth [Year]</th>\n",
       "    </tr>\n",
       "  </thead>\n",
       "  <tbody>\n",
       "    <tr>\n",
       "      <th>0</th>\n",
       "      <td>Austria</td>\n",
       "      <td>2008</td>\n",
       "      <td>-0.543029</td>\n",
       "    </tr>\n",
       "    <tr>\n",
       "      <th>1</th>\n",
       "      <td>Austria</td>\n",
       "      <td>2009</td>\n",
       "      <td>-0.335181</td>\n",
       "    </tr>\n",
       "    <tr>\n",
       "      <th>2</th>\n",
       "      <td>Austria</td>\n",
       "      <td>2010</td>\n",
       "      <td>-0.346121</td>\n",
       "    </tr>\n",
       "    <tr>\n",
       "      <th>3</th>\n",
       "      <td>Austria</td>\n",
       "      <td>2011</td>\n",
       "      <td>-0.411757</td>\n",
       "    </tr>\n",
       "    <tr>\n",
       "      <th>4</th>\n",
       "      <td>Austria</td>\n",
       "      <td>2012</td>\n",
       "      <td>-0.072637</td>\n",
       "    </tr>\n",
       "    <tr>\n",
       "      <th>...</th>\n",
       "      <td>...</td>\n",
       "      <td>...</td>\n",
       "      <td>...</td>\n",
       "    </tr>\n",
       "    <tr>\n",
       "      <th>397</th>\n",
       "      <td>Sweden</td>\n",
       "      <td>2018</td>\n",
       "      <td>2.443410</td>\n",
       "    </tr>\n",
       "    <tr>\n",
       "      <th>398</th>\n",
       "      <td>Sweden</td>\n",
       "      <td>2019</td>\n",
       "      <td>2.530924</td>\n",
       "    </tr>\n",
       "    <tr>\n",
       "      <th>399</th>\n",
       "      <td>Sweden</td>\n",
       "      <td>2020</td>\n",
       "      <td>2.421531</td>\n",
       "    </tr>\n",
       "    <tr>\n",
       "      <th>400</th>\n",
       "      <td>Sweden</td>\n",
       "      <td>2021</td>\n",
       "      <td>1.469809</td>\n",
       "    </tr>\n",
       "    <tr>\n",
       "      <th>401</th>\n",
       "      <td>Sweden</td>\n",
       "      <td>2022</td>\n",
       "      <td>1.032236</td>\n",
       "    </tr>\n",
       "  </tbody>\n",
       "</table>\n",
       "<p>402 rows × 3 columns</p>\n",
       "</div>"
      ],
      "text/plain": [
       "         geo  time  Healthy life years in absolute value at birth [Year]\n",
       "0    Austria  2008                                          -0.543029   \n",
       "1    Austria  2009                                          -0.335181   \n",
       "2    Austria  2010                                          -0.346121   \n",
       "3    Austria  2011                                          -0.411757   \n",
       "4    Austria  2012                                          -0.072637   \n",
       "..       ...   ...                                                ...   \n",
       "397   Sweden  2018                                           2.443410   \n",
       "398   Sweden  2019                                           2.530924   \n",
       "399   Sweden  2020                                           2.421531   \n",
       "400   Sweden  2021                                           1.469809   \n",
       "401   Sweden  2022                                           1.032236   \n",
       "\n",
       "[402 rows x 3 columns]"
      ]
     },
     "execution_count": 131,
     "metadata": {},
     "output_type": "execute_result"
    }
   ],
   "source": [
    "healthcare_clean = clean_df(healthcare, \"indic_he\", \"value\", [\"geo\",\"time\"], \"unit\", \"Healthy life years in absolute value at birth [Year]\")\n",
    "healthcare_clean"
   ]
  },
  {
   "cell_type": "markdown",
   "id": "46c66839",
   "metadata": {},
   "source": [
    "# Education"
   ]
  },
  {
   "cell_type": "code",
   "execution_count": 132,
   "id": "69368de2",
   "metadata": {},
   "outputs": [],
   "source": [
    "education = api_to_df(\"https://ec.europa.eu/eurostat/api/dissemination/statistics/1.0/data/edat_lfse_03?format=JSON&time=2008&time=2009&time=2010&time=2011&time=2012&time=2013&time=2014&time=2015&time=2016&time=2017&time=2018&time=2019&time=2020&time=2021&time=2022&geo=BE&geo=BG&geo=CZ&geo=DK&geo=DE&geo=EE&geo=IE&geo=EL&geo=ES&geo=FR&geo=HR&geo=IT&geo=CY&geo=LV&geo=LT&geo=LU&geo=HU&geo=MT&geo=NL&geo=AT&geo=PL&geo=PT&geo=RO&geo=SI&geo=SK&geo=FI&geo=SE&unit=PC&sex=M&sex=F&age=Y20-24&age=Y25-34&age=Y35-44&age=Y45-54&age=Y55-64&isced11=ED0-2&isced11=ED3_4&isced11=ED5-8&lang=en\")"
   ]
  },
  {
   "cell_type": "code",
   "execution_count": 133,
   "id": "b9b1e5b6",
   "metadata": {},
   "outputs": [
    {
     "data": {
      "text/html": [
       "<div>\n",
       "<style scoped>\n",
       "    .dataframe tbody tr th:only-of-type {\n",
       "        vertical-align: middle;\n",
       "    }\n",
       "\n",
       "    .dataframe tbody tr th {\n",
       "        vertical-align: top;\n",
       "    }\n",
       "\n",
       "    .dataframe thead th {\n",
       "        text-align: right;\n",
       "    }\n",
       "</style>\n",
       "<table border=\"1\" class=\"dataframe\">\n",
       "  <thead>\n",
       "    <tr style=\"text-align: right;\">\n",
       "      <th></th>\n",
       "      <th>geo</th>\n",
       "      <th>time</th>\n",
       "      <th>Tertiary education (levels 5-8) [Percentage]</th>\n",
       "    </tr>\n",
       "  </thead>\n",
       "  <tbody>\n",
       "    <tr>\n",
       "      <th>0</th>\n",
       "      <td>Austria</td>\n",
       "      <td>2008</td>\n",
       "      <td>-1.565091</td>\n",
       "    </tr>\n",
       "    <tr>\n",
       "      <th>1</th>\n",
       "      <td>Austria</td>\n",
       "      <td>2009</td>\n",
       "      <td>-1.442042</td>\n",
       "    </tr>\n",
       "    <tr>\n",
       "      <th>2</th>\n",
       "      <td>Austria</td>\n",
       "      <td>2010</td>\n",
       "      <td>-1.398975</td>\n",
       "    </tr>\n",
       "    <tr>\n",
       "      <th>3</th>\n",
       "      <td>Austria</td>\n",
       "      <td>2011</td>\n",
       "      <td>-1.391592</td>\n",
       "    </tr>\n",
       "    <tr>\n",
       "      <th>4</th>\n",
       "      <td>Austria</td>\n",
       "      <td>2012</td>\n",
       "      <td>-1.304227</td>\n",
       "    </tr>\n",
       "    <tr>\n",
       "      <th>...</th>\n",
       "      <td>...</td>\n",
       "      <td>...</td>\n",
       "      <td>...</td>\n",
       "    </tr>\n",
       "    <tr>\n",
       "      <th>400</th>\n",
       "      <td>Sweden</td>\n",
       "      <td>2018</td>\n",
       "      <td>1.281033</td>\n",
       "    </tr>\n",
       "    <tr>\n",
       "      <th>401</th>\n",
       "      <td>Sweden</td>\n",
       "      <td>2019</td>\n",
       "      <td>1.381933</td>\n",
       "    </tr>\n",
       "    <tr>\n",
       "      <th>402</th>\n",
       "      <td>Sweden</td>\n",
       "      <td>2020</td>\n",
       "      <td>1.426231</td>\n",
       "    </tr>\n",
       "    <tr>\n",
       "      <th>403</th>\n",
       "      <td>Sweden</td>\n",
       "      <td>2021</td>\n",
       "      <td>1.533284</td>\n",
       "    </tr>\n",
       "    <tr>\n",
       "      <th>404</th>\n",
       "      <td>Sweden</td>\n",
       "      <td>2022</td>\n",
       "      <td>1.679712</td>\n",
       "    </tr>\n",
       "  </tbody>\n",
       "</table>\n",
       "<p>405 rows × 3 columns</p>\n",
       "</div>"
      ],
      "text/plain": [
       "         geo  time  Tertiary education (levels 5-8) [Percentage]\n",
       "0    Austria  2008                                     -1.565091\n",
       "1    Austria  2009                                     -1.442042\n",
       "2    Austria  2010                                     -1.398975\n",
       "3    Austria  2011                                     -1.391592\n",
       "4    Austria  2012                                     -1.304227\n",
       "..       ...   ...                                           ...\n",
       "400   Sweden  2018                                      1.281033\n",
       "401   Sweden  2019                                      1.381933\n",
       "402   Sweden  2020                                      1.426231\n",
       "403   Sweden  2021                                      1.533284\n",
       "404   Sweden  2022                                      1.679712\n",
       "\n",
       "[405 rows x 3 columns]"
      ]
     },
     "execution_count": 133,
     "metadata": {},
     "output_type": "execute_result"
    }
   ],
   "source": [
    "education_clean = clean_df(education, \"isced11\", \"value\",[\"geo\", \"time\"], \"unit\", target_col=\"Tertiary education (levels 5-8) [Percentage]\")\n",
    "education_clean"
   ]
  },
  {
   "cell_type": "markdown",
   "id": "9d3c30d9",
   "metadata": {},
   "source": [
    "# Safety"
   ]
  },
  {
   "cell_type": "code",
   "execution_count": 134,
   "id": "77135d58",
   "metadata": {},
   "outputs": [],
   "source": [
    "safety = api_to_df(\"https://ec.europa.eu/eurostat/api/dissemination/statistics/1.0/data/crim_off_cat?format=JSON&time=2008&time=2009&time=2010&time=2011&time=2012&time=2013&time=2014&time=2015&time=2016&time=2017&time=2018&time=2019&time=2020&time=2021&time=2022&geo=BE&geo=BG&geo=CZ&geo=DK&geo=DE&geo=EE&geo=IE&geo=EL&geo=ES&geo=FR&geo=HR&geo=IT&geo=CY&geo=LV&geo=LT&geo=LU&geo=HU&geo=MT&geo=NL&geo=AT&geo=PL&geo=PT&geo=RO&geo=SI&geo=SK&geo=FI&geo=SE&unit=NR&unit=P_HTHAB&iccs=ICCS0101&iccs=ICCS0102&iccs=ICCS020111&iccs=ICCS020221&iccs=ICCS0301&iccs=ICCS03011&iccs=ICCS03012&iccs=ICCS0302&iccs=ICCS030221&iccs=ICCS0401&iccs=ICCS0501&iccs=ICCS05012&iccs=ICCS0502&iccs=ICCS05021&iccs=ICCS0601&iccs=ICCS0701&iccs=ICCS0703&iccs=ICCS07031&iccs=ICCS07041&iccs=ICCS0903&iccs=ICCS09051&lang=en\")"
   ]
  },
  {
   "cell_type": "code",
   "execution_count": 135,
   "id": "d3cee8d1",
   "metadata": {},
   "outputs": [
    {
     "data": {
      "text/html": [
       "<div>\n",
       "<style scoped>\n",
       "    .dataframe tbody tr th:only-of-type {\n",
       "        vertical-align: middle;\n",
       "    }\n",
       "\n",
       "    .dataframe tbody tr th {\n",
       "        vertical-align: top;\n",
       "    }\n",
       "\n",
       "    .dataframe thead th {\n",
       "        text-align: right;\n",
       "    }\n",
       "</style>\n",
       "<table border=\"1\" class=\"dataframe\">\n",
       "  <thead>\n",
       "    <tr style=\"text-align: right;\">\n",
       "      <th></th>\n",
       "      <th>geo</th>\n",
       "      <th>time</th>\n",
       "      <th>Unlawful acts involving controlled drugs or precursors [Number]</th>\n",
       "    </tr>\n",
       "  </thead>\n",
       "  <tbody>\n",
       "    <tr>\n",
       "      <th>0</th>\n",
       "      <td>Austria</td>\n",
       "      <td>2008</td>\n",
       "      <td>-0.446624</td>\n",
       "    </tr>\n",
       "    <tr>\n",
       "      <th>1</th>\n",
       "      <td>Austria</td>\n",
       "      <td>2009</td>\n",
       "      <td>-0.444807</td>\n",
       "    </tr>\n",
       "    <tr>\n",
       "      <th>2</th>\n",
       "      <td>Austria</td>\n",
       "      <td>2010</td>\n",
       "      <td>-0.443769</td>\n",
       "    </tr>\n",
       "    <tr>\n",
       "      <th>3</th>\n",
       "      <td>Austria</td>\n",
       "      <td>2011</td>\n",
       "      <td>-0.441433</td>\n",
       "    </tr>\n",
       "    <tr>\n",
       "      <th>4</th>\n",
       "      <td>Austria</td>\n",
       "      <td>2012</td>\n",
       "      <td>-0.446471</td>\n",
       "    </tr>\n",
       "    <tr>\n",
       "      <th>...</th>\n",
       "      <td>...</td>\n",
       "      <td>...</td>\n",
       "      <td>...</td>\n",
       "    </tr>\n",
       "    <tr>\n",
       "      <th>400</th>\n",
       "      <td>Sweden</td>\n",
       "      <td>2018</td>\n",
       "      <td>1.182293</td>\n",
       "    </tr>\n",
       "    <tr>\n",
       "      <th>401</th>\n",
       "      <td>Sweden</td>\n",
       "      <td>2019</td>\n",
       "      <td>1.284619</td>\n",
       "    </tr>\n",
       "    <tr>\n",
       "      <th>402</th>\n",
       "      <td>Sweden</td>\n",
       "      <td>2020</td>\n",
       "      <td>1.450358</td>\n",
       "    </tr>\n",
       "    <tr>\n",
       "      <th>403</th>\n",
       "      <td>Sweden</td>\n",
       "      <td>2021</td>\n",
       "      <td>1.358581</td>\n",
       "    </tr>\n",
       "    <tr>\n",
       "      <th>404</th>\n",
       "      <td>Sweden</td>\n",
       "      <td>2022</td>\n",
       "      <td>1.292053</td>\n",
       "    </tr>\n",
       "  </tbody>\n",
       "</table>\n",
       "<p>405 rows × 3 columns</p>\n",
       "</div>"
      ],
      "text/plain": [
       "         geo  time  \\\n",
       "0    Austria  2008   \n",
       "1    Austria  2009   \n",
       "2    Austria  2010   \n",
       "3    Austria  2011   \n",
       "4    Austria  2012   \n",
       "..       ...   ...   \n",
       "400   Sweden  2018   \n",
       "401   Sweden  2019   \n",
       "402   Sweden  2020   \n",
       "403   Sweden  2021   \n",
       "404   Sweden  2022   \n",
       "\n",
       "     Unlawful acts involving controlled drugs or precursors [Number]  \n",
       "0                                            -0.446624                \n",
       "1                                            -0.444807                \n",
       "2                                            -0.443769                \n",
       "3                                            -0.441433                \n",
       "4                                            -0.446471                \n",
       "..                                                 ...                \n",
       "400                                           1.182293                \n",
       "401                                           1.284619                \n",
       "402                                           1.450358                \n",
       "403                                           1.358581                \n",
       "404                                           1.292053                \n",
       "\n",
       "[405 rows x 3 columns]"
      ]
     },
     "execution_count": 135,
     "metadata": {},
     "output_type": "execute_result"
    }
   ],
   "source": [
    "safety_clean = clean_df(safety, \"iccs\", \"value\",[\"geo\",\"time\"], \"unit\", target_col=\"Unlawful acts involving controlled drugs or precursors [Number]\")\n",
    "safety_clean"
   ]
  },
  {
   "cell_type": "markdown",
   "id": "8116639f",
   "metadata": {},
   "source": [
    "# Environmental Consciousness"
   ]
  },
  {
   "cell_type": "code",
   "execution_count": 136,
   "id": "2ca0a4e9",
   "metadata": {},
   "outputs": [],
   "source": [
    "environment = api_to_df(\"https://ec.europa.eu/eurostat/api/dissemination/statistics/1.0/data/sdg_13_10?format=JSON&time=2008&time=2009&time=2010&time=2011&time=2012&time=2013&time=2014&time=2015&time=2016&time=2017&time=2018&time=2019&time=2020&time=2021&time=2022&geo=BE&geo=BG&geo=CZ&geo=DK&geo=DE&geo=EE&geo=IE&geo=EL&geo=ES&geo=FR&geo=HR&geo=IT&geo=CY&geo=LV&geo=LT&geo=LU&geo=HU&geo=MT&geo=NL&geo=AT&geo=PL&geo=PT&geo=RO&geo=SI&geo=SK&geo=FI&geo=SE&unit=T_HAB&unit=I90&src_crf=TOTXMEMO&src_crf=TOTX4_MEMO&lang=en\")"
   ]
  },
  {
   "cell_type": "code",
   "execution_count": 137,
   "id": "b08ffda6",
   "metadata": {},
   "outputs": [
    {
     "data": {
      "text/html": [
       "<div>\n",
       "<style scoped>\n",
       "    .dataframe tbody tr th:only-of-type {\n",
       "        vertical-align: middle;\n",
       "    }\n",
       "\n",
       "    .dataframe tbody tr th {\n",
       "        vertical-align: top;\n",
       "    }\n",
       "\n",
       "    .dataframe thead th {\n",
       "        text-align: right;\n",
       "    }\n",
       "</style>\n",
       "<table border=\"1\" class=\"dataframe\">\n",
       "  <thead>\n",
       "    <tr style=\"text-align: right;\">\n",
       "      <th></th>\n",
       "      <th>geo</th>\n",
       "      <th>time</th>\n",
       "      <th>Total (excluding memo items) [Tonnes per capita]</th>\n",
       "    </tr>\n",
       "  </thead>\n",
       "  <tbody>\n",
       "    <tr>\n",
       "      <th>0</th>\n",
       "      <td>Austria</td>\n",
       "      <td>2008</td>\n",
       "      <td>0.285685</td>\n",
       "    </tr>\n",
       "    <tr>\n",
       "      <th>1</th>\n",
       "      <td>Austria</td>\n",
       "      <td>2009</td>\n",
       "      <td>0.103148</td>\n",
       "    </tr>\n",
       "    <tr>\n",
       "      <th>2</th>\n",
       "      <td>Austria</td>\n",
       "      <td>2010</td>\n",
       "      <td>0.155301</td>\n",
       "    </tr>\n",
       "    <tr>\n",
       "      <th>3</th>\n",
       "      <td>Austria</td>\n",
       "      <td>2011</td>\n",
       "      <td>0.103148</td>\n",
       "    </tr>\n",
       "    <tr>\n",
       "      <th>4</th>\n",
       "      <td>Austria</td>\n",
       "      <td>2012</td>\n",
       "      <td>0.077071</td>\n",
       "    </tr>\n",
       "    <tr>\n",
       "      <th>...</th>\n",
       "      <td>...</td>\n",
       "      <td>...</td>\n",
       "      <td>...</td>\n",
       "    </tr>\n",
       "    <tr>\n",
       "      <th>400</th>\n",
       "      <td>Sweden</td>\n",
       "      <td>2018</td>\n",
       "      <td>-1.852607</td>\n",
       "    </tr>\n",
       "    <tr>\n",
       "      <th>401</th>\n",
       "      <td>Sweden</td>\n",
       "      <td>2019</td>\n",
       "      <td>-1.878684</td>\n",
       "    </tr>\n",
       "    <tr>\n",
       "      <th>402</th>\n",
       "      <td>Sweden</td>\n",
       "      <td>2020</td>\n",
       "      <td>-1.982991</td>\n",
       "    </tr>\n",
       "    <tr>\n",
       "      <th>403</th>\n",
       "      <td>Sweden</td>\n",
       "      <td>2021</td>\n",
       "      <td>-1.852607</td>\n",
       "    </tr>\n",
       "    <tr>\n",
       "      <th>404</th>\n",
       "      <td>Sweden</td>\n",
       "      <td>2022</td>\n",
       "      <td>-1.878684</td>\n",
       "    </tr>\n",
       "  </tbody>\n",
       "</table>\n",
       "<p>405 rows × 3 columns</p>\n",
       "</div>"
      ],
      "text/plain": [
       "         geo  time  Total (excluding memo items) [Tonnes per capita]\n",
       "0    Austria  2008                                          0.285685\n",
       "1    Austria  2009                                          0.103148\n",
       "2    Austria  2010                                          0.155301\n",
       "3    Austria  2011                                          0.103148\n",
       "4    Austria  2012                                          0.077071\n",
       "..       ...   ...                                               ...\n",
       "400   Sweden  2018                                         -1.852607\n",
       "401   Sweden  2019                                         -1.878684\n",
       "402   Sweden  2020                                         -1.982991\n",
       "403   Sweden  2021                                         -1.852607\n",
       "404   Sweden  2022                                         -1.878684\n",
       "\n",
       "[405 rows x 3 columns]"
      ]
     },
     "execution_count": 137,
     "metadata": {},
     "output_type": "execute_result"
    }
   ],
   "source": [
    "env_clean = clean_df(environment, \"src_crf\", \"value\",[\"geo\",\"time\"], \"unit\", target_col=\"Total (excluding memo items) [Tonnes per capita]\")\n",
    "env_clean"
   ]
  },
  {
   "cell_type": "markdown",
   "id": "6dd4680f",
   "metadata": {},
   "source": [
    "# Public Infrastructure"
   ]
  },
  {
   "cell_type": "code",
   "execution_count": 138,
   "id": "3e962306",
   "metadata": {},
   "outputs": [],
   "source": [
    "\n",
    "infrastructure = api_to_df('https://ec.europa.eu/eurostat/api/dissemination/statistics/1.0/data/rail_pa_total?format=JSON&time=2008&time=2009&time=2010&time=2011&time=2012&time=2013&time=2014&time=2015&time=2016&time=2017&time=2018&time=2019&time=2020&time=2021&time=2022&geo=EU27_2020&geo=BE&geo=BG&geo=CZ&geo=DK&geo=DE&geo=EE&geo=IE&geo=EL&geo=ES&geo=FR&geo=HR&geo=IT&geo=LV&geo=LT&geo=LU&geo=HU&geo=NL&geo=AT&geo=PL&geo=PT&geo=RO&geo=SI&geo=SK&geo=FI&geo=SE&unit=MIO_PKM&unit=THS_PAS&lang=en')"
   ]
  },
  {
   "cell_type": "code",
   "execution_count": 139,
   "id": "47980b11",
   "metadata": {},
   "outputs": [
    {
     "data": {
      "text/html": [
       "<div>\n",
       "<style scoped>\n",
       "    .dataframe tbody tr th:only-of-type {\n",
       "        vertical-align: middle;\n",
       "    }\n",
       "\n",
       "    .dataframe tbody tr th {\n",
       "        vertical-align: top;\n",
       "    }\n",
       "\n",
       "    .dataframe thead th {\n",
       "        text-align: right;\n",
       "    }\n",
       "</style>\n",
       "<table border=\"1\" class=\"dataframe\">\n",
       "  <thead>\n",
       "    <tr style=\"text-align: right;\">\n",
       "      <th></th>\n",
       "      <th>geo</th>\n",
       "      <th>time</th>\n",
       "      <th>Thousand passengers</th>\n",
       "    </tr>\n",
       "  </thead>\n",
       "  <tbody>\n",
       "    <tr>\n",
       "      <th>0</th>\n",
       "      <td>Austria</td>\n",
       "      <td>2008</td>\n",
       "      <td>-0.093254</td>\n",
       "    </tr>\n",
       "    <tr>\n",
       "      <th>1</th>\n",
       "      <td>Austria</td>\n",
       "      <td>2009</td>\n",
       "      <td>-0.091695</td>\n",
       "    </tr>\n",
       "    <tr>\n",
       "      <th>2</th>\n",
       "      <td>Austria</td>\n",
       "      <td>2010</td>\n",
       "      <td>-0.087537</td>\n",
       "    </tr>\n",
       "    <tr>\n",
       "      <th>3</th>\n",
       "      <td>Austria</td>\n",
       "      <td>2011</td>\n",
       "      <td>-0.084751</td>\n",
       "    </tr>\n",
       "    <tr>\n",
       "      <th>4</th>\n",
       "      <td>Austria</td>\n",
       "      <td>2012</td>\n",
       "      <td>-0.050660</td>\n",
       "    </tr>\n",
       "    <tr>\n",
       "      <th>...</th>\n",
       "      <td>...</td>\n",
       "      <td>...</td>\n",
       "      <td>...</td>\n",
       "    </tr>\n",
       "    <tr>\n",
       "      <th>337</th>\n",
       "      <td>Sweden</td>\n",
       "      <td>2018</td>\n",
       "      <td>-0.075841</td>\n",
       "    </tr>\n",
       "    <tr>\n",
       "      <th>338</th>\n",
       "      <td>Sweden</td>\n",
       "      <td>2019</td>\n",
       "      <td>-0.043327</td>\n",
       "    </tr>\n",
       "    <tr>\n",
       "      <th>339</th>\n",
       "      <td>Sweden</td>\n",
       "      <td>2020</td>\n",
       "      <td>-0.214645</td>\n",
       "    </tr>\n",
       "    <tr>\n",
       "      <th>340</th>\n",
       "      <td>Sweden</td>\n",
       "      <td>2021</td>\n",
       "      <td>-0.223033</td>\n",
       "    </tr>\n",
       "    <tr>\n",
       "      <th>341</th>\n",
       "      <td>Sweden</td>\n",
       "      <td>2022</td>\n",
       "      <td>-0.080361</td>\n",
       "    </tr>\n",
       "  </tbody>\n",
       "</table>\n",
       "<p>342 rows × 3 columns</p>\n",
       "</div>"
      ],
      "text/plain": [
       "         geo  time  Thousand passengers\n",
       "0    Austria  2008            -0.093254\n",
       "1    Austria  2009            -0.091695\n",
       "2    Austria  2010            -0.087537\n",
       "3    Austria  2011            -0.084751\n",
       "4    Austria  2012            -0.050660\n",
       "..       ...   ...                  ...\n",
       "337   Sweden  2018            -0.075841\n",
       "338   Sweden  2019            -0.043327\n",
       "339   Sweden  2020            -0.214645\n",
       "340   Sweden  2021            -0.223033\n",
       "341   Sweden  2022            -0.080361\n",
       "\n",
       "[342 rows x 3 columns]"
      ]
     },
     "execution_count": 139,
     "metadata": {},
     "output_type": "execute_result"
    }
   ],
   "source": [
    "inf_clean = clean_df(infrastructure, \"unit\", \"value\",[\"geo\",\"time\"], target_col=\"Thousand passengers\")\n",
    "inf_clean"
   ]
  },
  {
   "cell_type": "markdown",
   "id": "50ccda23",
   "metadata": {},
   "source": [
    "# Quality of Life Index"
   ]
  },
  {
   "cell_type": "code",
   "execution_count": 140,
   "id": "e0a8dfe5",
   "metadata": {},
   "outputs": [
    {
     "data": {
      "text/html": [
       "<div>\n",
       "<style scoped>\n",
       "    .dataframe tbody tr th:only-of-type {\n",
       "        vertical-align: middle;\n",
       "    }\n",
       "\n",
       "    .dataframe tbody tr th {\n",
       "        vertical-align: top;\n",
       "    }\n",
       "\n",
       "    .dataframe thead th {\n",
       "        text-align: right;\n",
       "    }\n",
       "</style>\n",
       "<table border=\"1\" class=\"dataframe\">\n",
       "  <thead>\n",
       "    <tr style=\"text-align: right;\">\n",
       "      <th></th>\n",
       "      <th>Year</th>\n",
       "      <th>Country name</th>\n",
       "      <th>Ladder score</th>\n",
       "    </tr>\n",
       "  </thead>\n",
       "  <tbody>\n",
       "    <tr>\n",
       "      <th>0</th>\n",
       "      <td>2024.0</td>\n",
       "      <td>Finland</td>\n",
       "      <td>1.743748</td>\n",
       "    </tr>\n",
       "    <tr>\n",
       "      <th>1</th>\n",
       "      <td>2024.0</td>\n",
       "      <td>Denmark</td>\n",
       "      <td>1.461323</td>\n",
       "    </tr>\n",
       "    <tr>\n",
       "      <th>2</th>\n",
       "      <td>2024.0</td>\n",
       "      <td>Sweden</td>\n",
       "      <td>1.230130</td>\n",
       "    </tr>\n",
       "    <tr>\n",
       "      <th>3</th>\n",
       "      <td>2024.0</td>\n",
       "      <td>Netherlands</td>\n",
       "      <td>1.178899</td>\n",
       "    </tr>\n",
       "    <tr>\n",
       "      <th>4</th>\n",
       "      <td>2023.0</td>\n",
       "      <td>Austria</td>\n",
       "      <td>0.652145</td>\n",
       "    </tr>\n",
       "    <tr>\n",
       "      <th>...</th>\n",
       "      <td>...</td>\n",
       "      <td>...</td>\n",
       "      <td>...</td>\n",
       "    </tr>\n",
       "    <tr>\n",
       "      <th>346</th>\n",
       "      <td>2016.0</td>\n",
       "      <td>Sweden</td>\n",
       "      <td>1.150000</td>\n",
       "    </tr>\n",
       "    <tr>\n",
       "      <th>347</th>\n",
       "      <td>2015.0</td>\n",
       "      <td>Sweden</td>\n",
       "      <td>1.159195</td>\n",
       "    </tr>\n",
       "    <tr>\n",
       "      <th>348</th>\n",
       "      <td>2014.0</td>\n",
       "      <td>Sweden</td>\n",
       "      <td>1.255088</td>\n",
       "    </tr>\n",
       "    <tr>\n",
       "      <th>349</th>\n",
       "      <td>2012.0</td>\n",
       "      <td>Sweden</td>\n",
       "      <td>1.407466</td>\n",
       "    </tr>\n",
       "    <tr>\n",
       "      <th>350</th>\n",
       "      <td>2011.0</td>\n",
       "      <td>Sweden</td>\n",
       "      <td>1.274792</td>\n",
       "    </tr>\n",
       "  </tbody>\n",
       "</table>\n",
       "<p>351 rows × 3 columns</p>\n",
       "</div>"
      ],
      "text/plain": [
       "       Year Country name  Ladder score\n",
       "0    2024.0      Finland      1.743748\n",
       "1    2024.0      Denmark      1.461323\n",
       "2    2024.0       Sweden      1.230130\n",
       "3    2024.0  Netherlands      1.178899\n",
       "4    2023.0      Austria      0.652145\n",
       "..      ...          ...           ...\n",
       "346  2016.0       Sweden      1.150000\n",
       "347  2015.0       Sweden      1.159195\n",
       "348  2014.0       Sweden      1.255088\n",
       "349  2012.0       Sweden      1.407466\n",
       "350  2011.0       Sweden      1.274792\n",
       "\n",
       "[351 rows x 3 columns]"
      ]
     },
     "execution_count": 140,
     "metadata": {},
     "output_type": "execute_result"
    }
   ],
   "source": [
    "\n",
    "eu_countries = {\n",
    "    \"Austria\", \"Belgium\", \"Bulgaria\", \"Croatia\", \"Cyprus\", \"Czechia\", \"Denmark\",\n",
    "    \"Estonia\", \"Finland\", \"France\", \"Germany\", \"Greece\", \"Hungary\", \"Ireland\",\n",
    "    \"Italy\", \"Latvia\", \"Lithuania\", \"Luxembourg\", \"Malta\", \"Netherlands\",\n",
    "    \"Poland\", \"Portugal\", \"Romania\", \"Slovakia\", \"Slovenia\", \"Spain\", \"Sweden\"\n",
    "}\n",
    "\n",
    "df = pd.read_csv(\"qol_data.csv\", encoding=\"ISO-8859-1\")\n",
    "\n",
    "df = df.dropna(axis=1, how='all')\n",
    "df.columns = df.columns.str.strip()\n",
    "df_filtered = df[[\"Year\", \"Country name\", \"Ladder score\"]]\n",
    "\n",
    "qol_clean = df_filtered[df_filtered[\"Country name\"].isin(eu_countries)]\n",
    "\n",
    "qol_clean = qol_clean.reset_index(drop=True)\n",
    "\n",
    "mean = qol_clean[\"Ladder score\"].mean()\n",
    "std = qol_clean[\"Ladder score\"].std()\n",
    "qol_clean[\"Ladder score\"] = (qol_clean[\"Ladder score\"] - mean) / std\n",
    "\n",
    "qol_clean\n"
   ]
  },
  {
   "cell_type": "markdown",
   "id": "a146f423",
   "metadata": {},
   "source": [
    "# Combining Dataframes"
   ]
  },
  {
   "cell_type": "code",
   "execution_count": 141,
   "id": "009c756c",
   "metadata": {},
   "outputs": [],
   "source": [
    "# standardizing columns\n",
    "def prep_df(df, time_col=\"time\", country_col=\"geo\", new_cols={}):\n",
    "    df = df.rename(columns={time_col: \"year\", country_col: \"country\", **new_cols})\n",
    "    df[\"year\"] = df[\"year\"].astype(int)\n",
    "    return df\n",
    "\n",
    "healthcare = prep_df(healthcare_clean, new_cols={\"Healthy life years in absolute value at birth [Year]\": \"healthcare\"})\n",
    "education = prep_df(education_clean, new_cols={\"Tertiary education (levels 5-8) [Percentage]\": \"education\"})\n",
    "safety = prep_df(safety_clean, new_cols={\"Unlawful acts involving controlled drugs or precursors [Number]\": \"safety\"})\n",
    "environment = prep_df(env_clean, new_cols={\"Total (excluding memo items) [Tonnes per capita]\": \"environment\"})\n",
    "infrastructure = prep_df(inf_clean, new_cols={\"Thousand passengers\": \"infrastructure\"})\n",
    "qol = prep_df(qol_clean, time_col=\"Year\", country_col=\"Country name\", new_cols={\"Ladder score\": \"qol\"})\n",
    "\n",
    "dfs = [healthcare, education, safety, environment, qol]\n",
    "combined = reduce(lambda left, right: pd.merge(left, right, on=[\"country\", \"year\"], how=\"outer\"), dfs)\n",
    "\n",
    "combined = combined[combined['year'] != 2008]\n",
    "combined = combined[combined['year'] != 2009]\n",
    "combined = combined[combined['year'] != 2010]\n",
    "combined = combined[combined['year'] != 2023]\n",
    "combined = combined[combined['year'] != 2024]"
   ]
  },
  {
   "cell_type": "code",
   "execution_count": 142,
   "id": "8ddf7902",
   "metadata": {},
   "outputs": [],
   "source": [
    "def avg_miss_vals(df):\n",
    "    \"\"\"\n",
    "    Replaces missing values with an average from the previous and following rows\n",
    "\n",
    "    args:\n",
    "        - df: dataframe w missing vals to avg\n",
    "    \n",
    "    returns: \n",
    "        - df_filled: df w no missing vals\n",
    "    \"\"\"\n",
    "    df_filled = df.copy()\n",
    "    \n",
    "    for col in df.select_dtypes(include='number').columns:\n",
    "        df_filled[col] = df_filled[col].interpolate(method='linear', limit_direction='both')\n",
    "    \n",
    "    return df_filled"
   ]
  },
  {
   "cell_type": "code",
   "execution_count": 143,
   "id": "b7a38de0",
   "metadata": {},
   "outputs": [],
   "source": [
    "combined = avg_miss_vals(combined)\n",
    "combined.to_csv(\"alldata_clean.csv\")"
   ]
  },
  {
   "cell_type": "code",
   "execution_count": 144,
   "id": "5283a5b7",
   "metadata": {},
   "outputs": [
    {
     "data": {
      "text/html": [
       "<div>\n",
       "<style scoped>\n",
       "    .dataframe tbody tr th:only-of-type {\n",
       "        vertical-align: middle;\n",
       "    }\n",
       "\n",
       "    .dataframe tbody tr th {\n",
       "        vertical-align: top;\n",
       "    }\n",
       "\n",
       "    .dataframe thead th {\n",
       "        text-align: right;\n",
       "    }\n",
       "</style>\n",
       "<table border=\"1\" class=\"dataframe\">\n",
       "  <thead>\n",
       "    <tr style=\"text-align: right;\">\n",
       "      <th></th>\n",
       "      <th>country</th>\n",
       "      <th>healthcare</th>\n",
       "      <th>education</th>\n",
       "      <th>safety</th>\n",
       "      <th>environment</th>\n",
       "      <th>qol</th>\n",
       "    </tr>\n",
       "  </thead>\n",
       "  <tbody>\n",
       "    <tr>\n",
       "      <th>0</th>\n",
       "      <td>Austria</td>\n",
       "      <td>-0.617781</td>\n",
       "      <td>0.079357</td>\n",
       "      <td>-0.007253</td>\n",
       "      <td>0.109667</td>\n",
       "      <td>1.041026</td>\n",
       "    </tr>\n",
       "    <tr>\n",
       "      <th>1</th>\n",
       "      <td>Belgium</td>\n",
       "      <td>0.461567</td>\n",
       "      <td>1.130913</td>\n",
       "      <td>0.233309</td>\n",
       "      <td>0.498645</td>\n",
       "      <td>0.667580</td>\n",
       "    </tr>\n",
       "    <tr>\n",
       "      <th>2</th>\n",
       "      <td>Bulgaria</td>\n",
       "      <td>0.688558</td>\n",
       "      <td>-0.507279</td>\n",
       "      <td>-0.410650</td>\n",
       "      <td>-0.305388</td>\n",
       "      <td>-2.258850</td>\n",
       "    </tr>\n",
       "    <tr>\n",
       "      <th>3</th>\n",
       "      <td>Croatia</td>\n",
       "      <td>-0.622339</td>\n",
       "      <td>-0.835820</td>\n",
       "      <td>-0.354125</td>\n",
       "      <td>-0.885595</td>\n",
       "      <td>-0.982851</td>\n",
       "    </tr>\n",
       "    <tr>\n",
       "      <th>4</th>\n",
       "      <td>Cyprus</td>\n",
       "      <td>0.570049</td>\n",
       "      <td>1.385215</td>\n",
       "      <td>-0.462002</td>\n",
       "      <td>0.316108</td>\n",
       "      <td>-0.497639</td>\n",
       "    </tr>\n",
       "    <tr>\n",
       "      <th>5</th>\n",
       "      <td>Czechia</td>\n",
       "      <td>0.216344</td>\n",
       "      <td>-0.883707</td>\n",
       "      <td>-0.403385</td>\n",
       "      <td>0.861546</td>\n",
       "      <td>0.334856</td>\n",
       "    </tr>\n",
       "    <tr>\n",
       "      <th>6</th>\n",
       "      <td>Denmark</td>\n",
       "      <td>-0.488332</td>\n",
       "      <td>0.578218</td>\n",
       "      <td>-0.056346</td>\n",
       "      <td>0.209628</td>\n",
       "      <td>1.584474</td>\n",
       "    </tr>\n",
       "    <tr>\n",
       "      <th>7</th>\n",
       "      <td>Estonia</td>\n",
       "      <td>-1.234941</td>\n",
       "      <td>0.705882</td>\n",
       "      <td>-0.409738</td>\n",
       "      <td>1.500426</td>\n",
       "      <td>-0.823522</td>\n",
       "    </tr>\n",
       "    <tr>\n",
       "      <th>8</th>\n",
       "      <td>Finland</td>\n",
       "      <td>-0.853432</td>\n",
       "      <td>0.977615</td>\n",
       "      <td>-0.078352</td>\n",
       "      <td>0.274820</td>\n",
       "      <td>1.579383</td>\n",
       "    </tr>\n",
       "    <tr>\n",
       "      <th>9</th>\n",
       "      <td>France</td>\n",
       "      <td>0.503501</td>\n",
       "      <td>0.867281</td>\n",
       "      <td>1.854649</td>\n",
       "      <td>-0.524867</td>\n",
       "      <td>0.279684</td>\n",
       "    </tr>\n",
       "    <tr>\n",
       "      <th>10</th>\n",
       "      <td>Germany</td>\n",
       "      <td>0.225460</td>\n",
       "      <td>-0.314092</td>\n",
       "      <td>4.226933</td>\n",
       "      <td>0.676836</td>\n",
       "      <td>0.640870</td>\n",
       "    </tr>\n",
       "    <tr>\n",
       "      <th>11</th>\n",
       "      <td>Greece</td>\n",
       "      <td>0.795217</td>\n",
       "      <td>-0.113625</td>\n",
       "      <td>-0.298910</td>\n",
       "      <td>0.033610</td>\n",
       "      <td>-1.238018</td>\n",
       "    </tr>\n",
       "    <tr>\n",
       "      <th>12</th>\n",
       "      <td>Hungary</td>\n",
       "      <td>-0.233992</td>\n",
       "      <td>-0.750711</td>\n",
       "      <td>-0.379611</td>\n",
       "      <td>-0.607443</td>\n",
       "      <td>-1.273211</td>\n",
       "    </tr>\n",
       "    <tr>\n",
       "      <th>13</th>\n",
       "      <td>Ireland</td>\n",
       "      <td>1.288398</td>\n",
       "      <td>1.730675</td>\n",
       "      <td>-0.212762</td>\n",
       "      <td>1.300505</td>\n",
       "      <td>0.812076</td>\n",
       "    </tr>\n",
       "    <tr>\n",
       "      <th>14</th>\n",
       "      <td>Italy</td>\n",
       "      <td>0.796128</td>\n",
       "      <td>-1.352318</td>\n",
       "      <td>0.043291</td>\n",
       "      <td>-0.401002</td>\n",
       "      <td>-0.269839</td>\n",
       "    </tr>\n",
       "    <tr>\n",
       "      <th>15</th>\n",
       "      <td>Latvia</td>\n",
       "      <td>-1.769146</td>\n",
       "      <td>0.223734</td>\n",
       "      <td>-0.441359</td>\n",
       "      <td>-0.761730</td>\n",
       "      <td>-1.014377</td>\n",
       "    </tr>\n",
       "    <tr>\n",
       "      <th>16</th>\n",
       "      <td>Lithuania</td>\n",
       "      <td>-0.736290</td>\n",
       "      <td>0.965618</td>\n",
       "      <td>-0.434741</td>\n",
       "      <td>-0.994248</td>\n",
       "      <td>-0.539784</td>\n",
       "    </tr>\n",
       "    <tr>\n",
       "      <th>17</th>\n",
       "      <td>Luxembourg</td>\n",
       "      <td>0.168028</td>\n",
       "      <td>1.274573</td>\n",
       "      <td>-0.421519</td>\n",
       "      <td>2.306632</td>\n",
       "      <td>0.884105</td>\n",
       "    </tr>\n",
       "    <tr>\n",
       "      <th>18</th>\n",
       "      <td>Malta</td>\n",
       "      <td>2.200921</td>\n",
       "      <td>-0.520712</td>\n",
       "      <td>-0.473086</td>\n",
       "      <td>-0.792153</td>\n",
       "      <td>-0.005860</td>\n",
       "    </tr>\n",
       "    <tr>\n",
       "      <th>19</th>\n",
       "      <td>Netherlands</td>\n",
       "      <td>-0.320595</td>\n",
       "      <td>0.828418</td>\n",
       "      <td>-0.268394</td>\n",
       "      <td>0.744201</td>\n",
       "      <td>1.348682</td>\n",
       "    </tr>\n",
       "    <tr>\n",
       "      <th>20</th>\n",
       "      <td>Poland</td>\n",
       "      <td>0.055900</td>\n",
       "      <td>-0.239648</td>\n",
       "      <td>0.540782</td>\n",
       "      <td>0.318281</td>\n",
       "      <td>-0.528947</td>\n",
       "    </tr>\n",
       "    <tr>\n",
       "      <th>21</th>\n",
       "      <td>Portugal</td>\n",
       "      <td>-0.513857</td>\n",
       "      <td>-0.535888</td>\n",
       "      <td>-0.396790</td>\n",
       "      <td>-0.570501</td>\n",
       "      <td>-1.206984</td>\n",
       "    </tr>\n",
       "    <tr>\n",
       "      <th>22</th>\n",
       "      <td>Romania</td>\n",
       "      <td>-0.626897</td>\n",
       "      <td>-1.508796</td>\n",
       "      <td>-0.391479</td>\n",
       "      <td>-1.174612</td>\n",
       "      <td>-0.852859</td>\n",
       "    </tr>\n",
       "    <tr>\n",
       "      <th>23</th>\n",
       "      <td>Slovakia</td>\n",
       "      <td>-1.367125</td>\n",
       "      <td>-0.787113</td>\n",
       "      <td>-0.454129</td>\n",
       "      <td>-0.464021</td>\n",
       "      <td>-0.359109</td>\n",
       "    </tr>\n",
       "    <tr>\n",
       "      <th>24</th>\n",
       "      <td>Slovenia</td>\n",
       "      <td>-0.507476</td>\n",
       "      <td>0.068898</td>\n",
       "      <td>-0.453157</td>\n",
       "      <td>-0.307561</td>\n",
       "      <td>-0.374653</td>\n",
       "    </tr>\n",
       "    <tr>\n",
       "      <th>25</th>\n",
       "      <td>Spain</td>\n",
       "      <td>0.869969</td>\n",
       "      <td>0.727518</td>\n",
       "      <td>-0.247674</td>\n",
       "      <td>-0.648731</td>\n",
       "      <td>0.007331</td>\n",
       "    </tr>\n",
       "    <tr>\n",
       "      <th>26</th>\n",
       "      <td>Sweden</td>\n",
       "      <td>1.849495</td>\n",
       "      <td>1.062929</td>\n",
       "      <td>1.133620</td>\n",
       "      <td>-2.048182</td>\n",
       "      <td>1.255526</td>\n",
       "    </tr>\n",
       "  </tbody>\n",
       "</table>\n",
       "</div>"
      ],
      "text/plain": [
       "        country  healthcare  education    safety  environment       qol\n",
       "0       Austria   -0.617781   0.079357 -0.007253     0.109667  1.041026\n",
       "1       Belgium    0.461567   1.130913  0.233309     0.498645  0.667580\n",
       "2      Bulgaria    0.688558  -0.507279 -0.410650    -0.305388 -2.258850\n",
       "3       Croatia   -0.622339  -0.835820 -0.354125    -0.885595 -0.982851\n",
       "4        Cyprus    0.570049   1.385215 -0.462002     0.316108 -0.497639\n",
       "5       Czechia    0.216344  -0.883707 -0.403385     0.861546  0.334856\n",
       "6       Denmark   -0.488332   0.578218 -0.056346     0.209628  1.584474\n",
       "7       Estonia   -1.234941   0.705882 -0.409738     1.500426 -0.823522\n",
       "8       Finland   -0.853432   0.977615 -0.078352     0.274820  1.579383\n",
       "9        France    0.503501   0.867281  1.854649    -0.524867  0.279684\n",
       "10      Germany    0.225460  -0.314092  4.226933     0.676836  0.640870\n",
       "11       Greece    0.795217  -0.113625 -0.298910     0.033610 -1.238018\n",
       "12      Hungary   -0.233992  -0.750711 -0.379611    -0.607443 -1.273211\n",
       "13      Ireland    1.288398   1.730675 -0.212762     1.300505  0.812076\n",
       "14        Italy    0.796128  -1.352318  0.043291    -0.401002 -0.269839\n",
       "15       Latvia   -1.769146   0.223734 -0.441359    -0.761730 -1.014377\n",
       "16    Lithuania   -0.736290   0.965618 -0.434741    -0.994248 -0.539784\n",
       "17   Luxembourg    0.168028   1.274573 -0.421519     2.306632  0.884105\n",
       "18        Malta    2.200921  -0.520712 -0.473086    -0.792153 -0.005860\n",
       "19  Netherlands   -0.320595   0.828418 -0.268394     0.744201  1.348682\n",
       "20       Poland    0.055900  -0.239648  0.540782     0.318281 -0.528947\n",
       "21     Portugal   -0.513857  -0.535888 -0.396790    -0.570501 -1.206984\n",
       "22      Romania   -0.626897  -1.508796 -0.391479    -1.174612 -0.852859\n",
       "23     Slovakia   -1.367125  -0.787113 -0.454129    -0.464021 -0.359109\n",
       "24     Slovenia   -0.507476   0.068898 -0.453157    -0.307561 -0.374653\n",
       "25        Spain    0.869969   0.727518 -0.247674    -0.648731  0.007331\n",
       "26       Sweden    1.849495   1.062929  1.133620    -2.048182  1.255526"
      ]
     },
     "execution_count": 144,
     "metadata": {},
     "output_type": "execute_result"
    }
   ],
   "source": [
    "# Averaged df\n",
    "avgs = combined.drop(columns=['year']).groupby('country').mean(numeric_only=True).reset_index()\n",
    "avgs\n"
   ]
  },
  {
   "cell_type": "markdown",
   "id": "69626c8f",
   "metadata": {},
   "source": [
    "# Plotting\n",
    "Here, I want to plot quality of life against all other factors to see if there is any direct relationship between them that is immediately visible."
   ]
  },
  {
   "cell_type": "code",
   "execution_count": 145,
   "id": "792fa487",
   "metadata": {},
   "outputs": [
    {
     "data": {
      "application/vnd.plotly.v1+json": {
       "config": {
        "plotlyServerURL": "https://plot.ly"
       },
       "data": [
        {
         "customdata": [
          [
           "Austria",
           2011
          ],
          [
           "Austria",
           2012
          ],
          [
           "Austria",
           2013
          ],
          [
           "Austria",
           2014
          ],
          [
           "Austria",
           2015
          ],
          [
           "Austria",
           2016
          ],
          [
           "Austria",
           2017
          ],
          [
           "Austria",
           2018
          ],
          [
           "Austria",
           2019
          ],
          [
           "Austria",
           2020
          ],
          [
           "Austria",
           2021
          ],
          [
           "Austria",
           2022
          ],
          [
           "Belgium",
           2011
          ],
          [
           "Belgium",
           2012
          ],
          [
           "Belgium",
           2013
          ],
          [
           "Belgium",
           2014
          ],
          [
           "Belgium",
           2015
          ],
          [
           "Belgium",
           2016
          ],
          [
           "Belgium",
           2017
          ],
          [
           "Belgium",
           2018
          ],
          [
           "Belgium",
           2019
          ],
          [
           "Belgium",
           2020
          ],
          [
           "Belgium",
           2021
          ],
          [
           "Belgium",
           2022
          ],
          [
           "Bulgaria",
           2011
          ],
          [
           "Bulgaria",
           2012
          ],
          [
           "Bulgaria",
           2013
          ],
          [
           "Bulgaria",
           2014
          ],
          [
           "Bulgaria",
           2015
          ],
          [
           "Bulgaria",
           2016
          ],
          [
           "Bulgaria",
           2017
          ],
          [
           "Bulgaria",
           2018
          ],
          [
           "Bulgaria",
           2019
          ],
          [
           "Bulgaria",
           2020
          ],
          [
           "Bulgaria",
           2021
          ],
          [
           "Bulgaria",
           2022
          ],
          [
           "Croatia",
           2011
          ],
          [
           "Croatia",
           2012
          ],
          [
           "Croatia",
           2013
          ],
          [
           "Croatia",
           2014
          ],
          [
           "Croatia",
           2015
          ],
          [
           "Croatia",
           2016
          ],
          [
           "Croatia",
           2017
          ],
          [
           "Croatia",
           2018
          ],
          [
           "Croatia",
           2019
          ],
          [
           "Croatia",
           2020
          ],
          [
           "Croatia",
           2021
          ],
          [
           "Croatia",
           2022
          ],
          [
           "Cyprus",
           2011
          ],
          [
           "Cyprus",
           2012
          ],
          [
           "Cyprus",
           2013
          ],
          [
           "Cyprus",
           2014
          ],
          [
           "Cyprus",
           2015
          ],
          [
           "Cyprus",
           2016
          ],
          [
           "Cyprus",
           2017
          ],
          [
           "Cyprus",
           2018
          ],
          [
           "Cyprus",
           2019
          ],
          [
           "Cyprus",
           2020
          ],
          [
           "Cyprus",
           2021
          ],
          [
           "Cyprus",
           2022
          ],
          [
           "Czechia",
           2011
          ],
          [
           "Czechia",
           2012
          ],
          [
           "Czechia",
           2013
          ],
          [
           "Czechia",
           2014
          ],
          [
           "Czechia",
           2015
          ],
          [
           "Czechia",
           2016
          ],
          [
           "Czechia",
           2017
          ],
          [
           "Czechia",
           2018
          ],
          [
           "Czechia",
           2019
          ],
          [
           "Czechia",
           2020
          ],
          [
           "Czechia",
           2021
          ],
          [
           "Czechia",
           2022
          ],
          [
           "Denmark",
           2011
          ],
          [
           "Denmark",
           2012
          ],
          [
           "Denmark",
           2013
          ],
          [
           "Denmark",
           2014
          ],
          [
           "Denmark",
           2015
          ],
          [
           "Denmark",
           2016
          ],
          [
           "Denmark",
           2017
          ],
          [
           "Denmark",
           2018
          ],
          [
           "Denmark",
           2019
          ],
          [
           "Denmark",
           2020
          ],
          [
           "Denmark",
           2021
          ],
          [
           "Denmark",
           2022
          ],
          [
           "Estonia",
           2011
          ],
          [
           "Estonia",
           2012
          ],
          [
           "Estonia",
           2013
          ],
          [
           "Estonia",
           2014
          ],
          [
           "Estonia",
           2015
          ],
          [
           "Estonia",
           2016
          ],
          [
           "Estonia",
           2017
          ],
          [
           "Estonia",
           2018
          ],
          [
           "Estonia",
           2019
          ],
          [
           "Estonia",
           2020
          ],
          [
           "Estonia",
           2021
          ],
          [
           "Estonia",
           2022
          ],
          [
           "Finland",
           2011
          ],
          [
           "Finland",
           2012
          ],
          [
           "Finland",
           2013
          ],
          [
           "Finland",
           2014
          ],
          [
           "Finland",
           2015
          ],
          [
           "Finland",
           2016
          ],
          [
           "Finland",
           2017
          ],
          [
           "Finland",
           2018
          ],
          [
           "Finland",
           2019
          ],
          [
           "Finland",
           2020
          ],
          [
           "Finland",
           2021
          ],
          [
           "Finland",
           2022
          ],
          [
           "France",
           2011
          ],
          [
           "France",
           2012
          ],
          [
           "France",
           2013
          ],
          [
           "France",
           2014
          ],
          [
           "France",
           2015
          ],
          [
           "France",
           2016
          ],
          [
           "France",
           2017
          ],
          [
           "France",
           2018
          ],
          [
           "France",
           2019
          ],
          [
           "France",
           2020
          ],
          [
           "France",
           2021
          ],
          [
           "France",
           2022
          ],
          [
           "Germany",
           2011
          ],
          [
           "Germany",
           2012
          ],
          [
           "Germany",
           2013
          ],
          [
           "Germany",
           2014
          ],
          [
           "Germany",
           2015
          ],
          [
           "Germany",
           2016
          ],
          [
           "Germany",
           2017
          ],
          [
           "Germany",
           2018
          ],
          [
           "Germany",
           2019
          ],
          [
           "Germany",
           2020
          ],
          [
           "Germany",
           2021
          ],
          [
           "Germany",
           2022
          ],
          [
           "Greece",
           2011
          ],
          [
           "Greece",
           2012
          ],
          [
           "Greece",
           2013
          ],
          [
           "Greece",
           2014
          ],
          [
           "Greece",
           2015
          ],
          [
           "Greece",
           2016
          ],
          [
           "Greece",
           2017
          ],
          [
           "Greece",
           2018
          ],
          [
           "Greece",
           2019
          ],
          [
           "Greece",
           2020
          ],
          [
           "Greece",
           2021
          ],
          [
           "Greece",
           2022
          ],
          [
           "Hungary",
           2011
          ],
          [
           "Hungary",
           2012
          ],
          [
           "Hungary",
           2013
          ],
          [
           "Hungary",
           2014
          ],
          [
           "Hungary",
           2015
          ],
          [
           "Hungary",
           2016
          ],
          [
           "Hungary",
           2017
          ],
          [
           "Hungary",
           2018
          ],
          [
           "Hungary",
           2019
          ],
          [
           "Hungary",
           2020
          ],
          [
           "Hungary",
           2021
          ],
          [
           "Hungary",
           2022
          ],
          [
           "Ireland",
           2011
          ],
          [
           "Ireland",
           2012
          ],
          [
           "Ireland",
           2013
          ],
          [
           "Ireland",
           2014
          ],
          [
           "Ireland",
           2015
          ],
          [
           "Ireland",
           2016
          ],
          [
           "Ireland",
           2017
          ],
          [
           "Ireland",
           2018
          ],
          [
           "Ireland",
           2019
          ],
          [
           "Ireland",
           2020
          ],
          [
           "Ireland",
           2021
          ],
          [
           "Ireland",
           2022
          ],
          [
           "Italy",
           2011
          ],
          [
           "Italy",
           2012
          ],
          [
           "Italy",
           2013
          ],
          [
           "Italy",
           2014
          ],
          [
           "Italy",
           2015
          ],
          [
           "Italy",
           2016
          ],
          [
           "Italy",
           2017
          ],
          [
           "Italy",
           2018
          ],
          [
           "Italy",
           2019
          ],
          [
           "Italy",
           2020
          ],
          [
           "Italy",
           2021
          ],
          [
           "Italy",
           2022
          ],
          [
           "Latvia",
           2011
          ],
          [
           "Latvia",
           2012
          ],
          [
           "Latvia",
           2013
          ],
          [
           "Latvia",
           2014
          ],
          [
           "Latvia",
           2015
          ],
          [
           "Latvia",
           2016
          ],
          [
           "Latvia",
           2017
          ],
          [
           "Latvia",
           2018
          ],
          [
           "Latvia",
           2019
          ],
          [
           "Latvia",
           2020
          ],
          [
           "Latvia",
           2021
          ],
          [
           "Latvia",
           2022
          ],
          [
           "Lithuania",
           2011
          ],
          [
           "Lithuania",
           2012
          ],
          [
           "Lithuania",
           2013
          ],
          [
           "Lithuania",
           2014
          ],
          [
           "Lithuania",
           2015
          ],
          [
           "Lithuania",
           2016
          ],
          [
           "Lithuania",
           2017
          ],
          [
           "Lithuania",
           2018
          ],
          [
           "Lithuania",
           2019
          ],
          [
           "Lithuania",
           2020
          ],
          [
           "Lithuania",
           2021
          ],
          [
           "Lithuania",
           2022
          ],
          [
           "Luxembourg",
           2011
          ],
          [
           "Luxembourg",
           2012
          ],
          [
           "Luxembourg",
           2013
          ],
          [
           "Luxembourg",
           2014
          ],
          [
           "Luxembourg",
           2015
          ],
          [
           "Luxembourg",
           2016
          ],
          [
           "Luxembourg",
           2017
          ],
          [
           "Luxembourg",
           2018
          ],
          [
           "Luxembourg",
           2019
          ],
          [
           "Luxembourg",
           2020
          ],
          [
           "Luxembourg",
           2021
          ],
          [
           "Luxembourg",
           2022
          ],
          [
           "Malta",
           2011
          ],
          [
           "Malta",
           2012
          ],
          [
           "Malta",
           2013
          ],
          [
           "Malta",
           2014
          ],
          [
           "Malta",
           2015
          ],
          [
           "Malta",
           2016
          ],
          [
           "Malta",
           2017
          ],
          [
           "Malta",
           2018
          ],
          [
           "Malta",
           2019
          ],
          [
           "Malta",
           2020
          ],
          [
           "Malta",
           2021
          ],
          [
           "Malta",
           2022
          ],
          [
           "Netherlands",
           2011
          ],
          [
           "Netherlands",
           2012
          ],
          [
           "Netherlands",
           2013
          ],
          [
           "Netherlands",
           2014
          ],
          [
           "Netherlands",
           2015
          ],
          [
           "Netherlands",
           2016
          ],
          [
           "Netherlands",
           2017
          ],
          [
           "Netherlands",
           2018
          ],
          [
           "Netherlands",
           2019
          ],
          [
           "Netherlands",
           2020
          ],
          [
           "Netherlands",
           2021
          ],
          [
           "Netherlands",
           2022
          ],
          [
           "Poland",
           2011
          ],
          [
           "Poland",
           2012
          ],
          [
           "Poland",
           2013
          ],
          [
           "Poland",
           2014
          ],
          [
           "Poland",
           2015
          ],
          [
           "Poland",
           2016
          ],
          [
           "Poland",
           2017
          ],
          [
           "Poland",
           2018
          ],
          [
           "Poland",
           2019
          ],
          [
           "Poland",
           2020
          ],
          [
           "Poland",
           2021
          ],
          [
           "Poland",
           2022
          ],
          [
           "Portugal",
           2011
          ],
          [
           "Portugal",
           2012
          ],
          [
           "Portugal",
           2013
          ],
          [
           "Portugal",
           2014
          ],
          [
           "Portugal",
           2015
          ],
          [
           "Portugal",
           2016
          ],
          [
           "Portugal",
           2017
          ],
          [
           "Portugal",
           2018
          ],
          [
           "Portugal",
           2019
          ],
          [
           "Portugal",
           2020
          ],
          [
           "Portugal",
           2021
          ],
          [
           "Portugal",
           2022
          ],
          [
           "Romania",
           2011
          ],
          [
           "Romania",
           2012
          ],
          [
           "Romania",
           2013
          ],
          [
           "Romania",
           2014
          ],
          [
           "Romania",
           2015
          ],
          [
           "Romania",
           2016
          ],
          [
           "Romania",
           2017
          ],
          [
           "Romania",
           2018
          ],
          [
           "Romania",
           2019
          ],
          [
           "Romania",
           2020
          ],
          [
           "Romania",
           2021
          ],
          [
           "Romania",
           2022
          ],
          [
           "Slovakia",
           2011
          ],
          [
           "Slovakia",
           2012
          ],
          [
           "Slovakia",
           2013
          ],
          [
           "Slovakia",
           2014
          ],
          [
           "Slovakia",
           2015
          ],
          [
           "Slovakia",
           2016
          ],
          [
           "Slovakia",
           2017
          ],
          [
           "Slovakia",
           2018
          ],
          [
           "Slovakia",
           2019
          ],
          [
           "Slovakia",
           2020
          ],
          [
           "Slovakia",
           2021
          ],
          [
           "Slovakia",
           2022
          ],
          [
           "Slovenia",
           2011
          ],
          [
           "Slovenia",
           2012
          ],
          [
           "Slovenia",
           2013
          ],
          [
           "Slovenia",
           2014
          ],
          [
           "Slovenia",
           2015
          ],
          [
           "Slovenia",
           2016
          ],
          [
           "Slovenia",
           2017
          ],
          [
           "Slovenia",
           2018
          ],
          [
           "Slovenia",
           2019
          ],
          [
           "Slovenia",
           2020
          ],
          [
           "Slovenia",
           2021
          ],
          [
           "Slovenia",
           2022
          ],
          [
           "Spain",
           2011
          ],
          [
           "Spain",
           2012
          ],
          [
           "Spain",
           2013
          ],
          [
           "Spain",
           2014
          ],
          [
           "Spain",
           2015
          ],
          [
           "Spain",
           2016
          ],
          [
           "Spain",
           2017
          ],
          [
           "Spain",
           2018
          ],
          [
           "Spain",
           2019
          ],
          [
           "Spain",
           2020
          ],
          [
           "Spain",
           2021
          ],
          [
           "Spain",
           2022
          ],
          [
           "Sweden",
           2011
          ],
          [
           "Sweden",
           2012
          ],
          [
           "Sweden",
           2013
          ],
          [
           "Sweden",
           2014
          ],
          [
           "Sweden",
           2015
          ],
          [
           "Sweden",
           2016
          ],
          [
           "Sweden",
           2017
          ],
          [
           "Sweden",
           2018
          ],
          [
           "Sweden",
           2019
          ],
          [
           "Sweden",
           2020
          ],
          [
           "Sweden",
           2021
          ],
          [
           "Sweden",
           2022
          ]
         ],
         "hovertemplate": "Life Expectancy=%{x}<br>Quality of Life=%{y}<br>country=%{customdata[0]}<br>year=%{marker.color}<extra></extra>",
         "legendgroup": "",
         "marker": {
          "color": [
           2011,
           2012,
           2013,
           2014,
           2015,
           2016,
           2017,
           2018,
           2019,
           2020,
           2021,
           2022,
           2011,
           2012,
           2013,
           2014,
           2015,
           2016,
           2017,
           2018,
           2019,
           2020,
           2021,
           2022,
           2011,
           2012,
           2013,
           2014,
           2015,
           2016,
           2017,
           2018,
           2019,
           2020,
           2021,
           2022,
           2011,
           2012,
           2013,
           2014,
           2015,
           2016,
           2017,
           2018,
           2019,
           2020,
           2021,
           2022,
           2011,
           2012,
           2013,
           2014,
           2015,
           2016,
           2017,
           2018,
           2019,
           2020,
           2021,
           2022,
           2011,
           2012,
           2013,
           2014,
           2015,
           2016,
           2017,
           2018,
           2019,
           2020,
           2021,
           2022,
           2011,
           2012,
           2013,
           2014,
           2015,
           2016,
           2017,
           2018,
           2019,
           2020,
           2021,
           2022,
           2011,
           2012,
           2013,
           2014,
           2015,
           2016,
           2017,
           2018,
           2019,
           2020,
           2021,
           2022,
           2011,
           2012,
           2013,
           2014,
           2015,
           2016,
           2017,
           2018,
           2019,
           2020,
           2021,
           2022,
           2011,
           2012,
           2013,
           2014,
           2015,
           2016,
           2017,
           2018,
           2019,
           2020,
           2021,
           2022,
           2011,
           2012,
           2013,
           2014,
           2015,
           2016,
           2017,
           2018,
           2019,
           2020,
           2021,
           2022,
           2011,
           2012,
           2013,
           2014,
           2015,
           2016,
           2017,
           2018,
           2019,
           2020,
           2021,
           2022,
           2011,
           2012,
           2013,
           2014,
           2015,
           2016,
           2017,
           2018,
           2019,
           2020,
           2021,
           2022,
           2011,
           2012,
           2013,
           2014,
           2015,
           2016,
           2017,
           2018,
           2019,
           2020,
           2021,
           2022,
           2011,
           2012,
           2013,
           2014,
           2015,
           2016,
           2017,
           2018,
           2019,
           2020,
           2021,
           2022,
           2011,
           2012,
           2013,
           2014,
           2015,
           2016,
           2017,
           2018,
           2019,
           2020,
           2021,
           2022,
           2011,
           2012,
           2013,
           2014,
           2015,
           2016,
           2017,
           2018,
           2019,
           2020,
           2021,
           2022,
           2011,
           2012,
           2013,
           2014,
           2015,
           2016,
           2017,
           2018,
           2019,
           2020,
           2021,
           2022,
           2011,
           2012,
           2013,
           2014,
           2015,
           2016,
           2017,
           2018,
           2019,
           2020,
           2021,
           2022,
           2011,
           2012,
           2013,
           2014,
           2015,
           2016,
           2017,
           2018,
           2019,
           2020,
           2021,
           2022,
           2011,
           2012,
           2013,
           2014,
           2015,
           2016,
           2017,
           2018,
           2019,
           2020,
           2021,
           2022,
           2011,
           2012,
           2013,
           2014,
           2015,
           2016,
           2017,
           2018,
           2019,
           2020,
           2021,
           2022,
           2011,
           2012,
           2013,
           2014,
           2015,
           2016,
           2017,
           2018,
           2019,
           2020,
           2021,
           2022,
           2011,
           2012,
           2013,
           2014,
           2015,
           2016,
           2017,
           2018,
           2019,
           2020,
           2021,
           2022,
           2011,
           2012,
           2013,
           2014,
           2015,
           2016,
           2017,
           2018,
           2019,
           2020,
           2021,
           2022,
           2011,
           2012,
           2013,
           2014,
           2015,
           2016,
           2017,
           2018,
           2019,
           2020,
           2021,
           2022,
           2011,
           2012,
           2013,
           2014,
           2015,
           2016,
           2017,
           2018,
           2019,
           2020,
           2021,
           2022
          ],
          "coloraxis": "coloraxis",
          "opacity": 0.5,
          "symbol": "circle"
         },
         "mode": "markers",
         "name": "",
         "orientation": "v",
         "showlegend": false,
         "type": "scatter",
         "x": [
          -0.4117565241024149,
          -0.0726371764091414,
          -0.37893852271274214,
          -0.8712085435578153,
          -0.8055725407784728,
          -1.0134198829130598,
          -1.0024805491165034,
          -1.0462378843027311,
          -0.9477838801337158,
          -0.6414825338301151,
          -0.06169784261258484,
          -0.16015184678159852,
          0.39775417684281705,
          0.6384195203670738,
          0.47432951341871765,
          0.5180868486049486,
          0.5509048499946182,
          0.43057217823248983,
          0.4305721782324883,
          0.3868148430462605,
          0.1680281671151169,
          0.46339017962215956,
          0.6384195203670738,
          0.4415115120290449,
          0.5071475148083889,
          0.48526884721527574,
          0.6165408527739606,
          0.5180868486049455,
          0.34305750786003114,
          0.8900241976878902,
          0.6274801865705173,
          0.9009635314844467,
          1.0322355370431349,
          0.8790848638913337,
          0.3649361754531443,
          1.0978715398224772,
          -0.20390918196782787,
          0.2993001726738018,
          -0.5867858648473292,
          -0.5211498620679867,
          -1.2322065588442035,
          -0.8274512083715859,
          -0.8821478773543734,
          -0.9149658787440447,
          -0.9259052125406012,
          -0.6852398690163445,
          -0.6743005352197879,
          -0.3133025199333997,
          -0.0835765102056995,
          0.4415115120290464,
          0.6493588541636335,
          0.9337815328741165,
          0.34305750786003114,
          1.4151122199226362,
          0.7806308597223184,
          0.113331498132331,
          0.18990683470823,
          0.2446035036910159,
          0.8681455300947771,
          0.9447208666706761,
          0.26648217128413215,
          0.33211817406347305,
          0.36493617545314583,
          0.5509048499946182,
          0.2993001726738018,
          0.36493617545314583,
          -0.03981917501947017,
          0.2446035036910159,
          0.10239216433577443,
          0.00393816016675918,
          0.0805134967426582,
          0.025816827759872298,
          0.025816827759872298,
          -0.0726371764091414,
          -0.2804845185437269,
          -0.18203051437471476,
          -0.5867858648473292,
          -0.30236318613684315,
          -0.4226958578989715,
          -0.19296984817127133,
          -0.6086645324404439,
          -0.8274512083715859,
          -1.1337525546751883,
          -1.2759638940304312,
          -1.2322065588442035,
          -1.429114567182231,
          -1.352539230606332,
          -1.429114567182231,
          -1.4619325685719038,
          -1.0899952194889588,
          -1.2540852264373166,
          -1.7135372458927185,
          -1.2869032278269894,
          -0.9040265449474881,
          -1.1446918884717447,
          -0.5211498620679867,
          -0.8055725407784728,
          -1.0790558856924024,
          -0.9313748794388803,
          -0.7836938731853582,
          -0.8383905421681456,
          -0.7946332069819163,
          -0.9477838801337174,
          -0.9696625477268306,
          -1.1884492236579742,
          -1.0681165518958458,
          -0.0070011736297973795,
          -0.8274512083715875,
          0.32117884026691806,
          0.3321181740634746,
          0.4305721782324883,
          0.46339017962215956,
          0.4196328444359302,
          0.3649361754531443,
          0.4415115120290464,
          0.49620818101183234,
          0.5399655161980617,
          0.6384195203670738,
          0.9884782018569055,
          0.6056015189774041,
          -0.7618152055922435,
          -0.8930872111509315,
          -0.9477838801337158,
          -1.1446918884717447,
          1.0322355370431349,
          1.0103568694500187,
          0.922842199077563,
          0.8790848638913306,
          0.999417535653462,
          0.8900241976878902,
          0.8572061962982175,
          -0.13827317918848542,
          1.0650535384328077,
          0.6931161893498597,
          0.7040555231464194,
          0.6165408527739606,
          0.5071475148083889,
          0.5618441837911747,
          0.6712375217567466,
          0.8243881949085478,
          0.9447208666706761,
          0.922842199077563,
          0.8681455300947771,
          1.1635075426018198,
          -0.7071185366094576,
          -0.4226958578989715,
          -0.46645319308520083,
          -0.40081719030585683,
          -0.5539678634576565,
          -0.40081719030585683,
          -0.32424185372995623,
          -0.12733384539192885,
          0.014877493963315738,
          0.18990683470823,
          0.18990683470823,
          0.20084616850478657,
          1.207264877788046,
          1.2182042115846057,
          1.130689541212147,
          1.1416288750087067,
          1.2182042115846057,
          1.4916875564985352,
          1.5135662240916483,
          1.677656231040006,
          1.7214135662262353,
          0.9884782018569024,
          1.207264877788049,
          0.9447208666706761,
          0.2993001726738018,
          0.014877493963315738,
          -0.017940507426355494,
          0.15708883331855877,
          0.21178550230134624,
          1.2510222129742785,
          1.0103568694500218,
          1.130689541212147,
          1.4588695551088624,
          1.3713548847364068,
          1.4041728861260765,
          1.2619615467708318,
          -1.440053900978789,
          -1.0681165518958458,
          -1.9104452542307475,
          -1.811991250061734,
          -1.9104452542307475,
          -1.768233914875506,
          -2.2495646019240194,
          -2.041717259789434,
          -1.8666879190445183,
          -1.8010519162651757,
          -1.7244765796892767,
          -1.636961909316818,
          -0.47739252688175743,
          -0.5649071972542146,
          -0.5430285296610998,
          -0.4445745254920846,
          -1.1446918884717447,
          -0.8493298759647022,
          -0.7836938731853598,
          -0.8712085435578153,
          -0.9040265449474881,
          -1.0462378843027296,
          -0.8930872111509315,
          -0.3133025199333997,
          1.0431748708396882,
          0.9665995342637892,
          0.3649361754531443,
          0.45245084582560297,
          0.10239216433577443,
          -0.3351811875265144,
          -0.5649071972542146,
          -0.23672718335750068,
          0.18990683470823,
          0.3321181740634746,
          0.058634829149545084,
          -0.357059855119629,
          1.8855035731745962,
          2.224622920867865,
          2.290258923647211,
          2.56374226856114,
          2.6074996037473666,
          2.202744253274752,
          2.3996522616127822,
          2.3996522616127822,
          2.5199849333749107,
          1.9183215745642659,
          1.5354448916847645,
          1.8636249055814769,
          -0.03981917501947017,
          -0.10545517779881262,
          -0.48833186067831397,
          -0.11639451159537074,
          -0.5539678634576565,
          -0.30236318613684315,
          -0.37893852271274214,
          -0.5539678634576565,
          -0.16015184678159852,
          -0.14921251298504198,
          -0.30236318613684315,
          -0.696179202812901,
          -0.11639451159536919,
          -0.16015184678159852,
          -0.16015184678159852,
          -0.09451584400225607,
          -0.0070011736297973795,
          0.27742150508068714,
          0.0805134967426582,
          0.15708883331855877,
          0.17896750091167346,
          0.13521016572544411,
          0.21178550230134469,
          0.16802816711511534,
          -0.4445745254920846,
          0.40869351063937365,
          0.2993001726738018,
          -1.0462378843027311,
          -1.1118738870820737,
          -0.6633612014232297,
          -0.6852398690163445,
          -0.6633612014232297,
          -0.5430285296610998,
          -0.4226958578989715,
          -0.7289972042025739,
          -0.5649071972542146,
          -0.9806018815233871,
          -0.8930872111509299,
          -0.7071185366094576,
          -0.5867858648473292,
          -0.553967863457658,
          -0.49927119447487206,
          -0.6524218676266716,
          -0.4992711944748705,
          -0.3133025199333997,
          -0.3898778565093003,
          -0.8602692097612588,
          -0.5867858648473292,
          -2.074535261179105,
          -1.844809251451405,
          -1.5932045741305902,
          -1.4509932347753471,
          -1.4728719023684602,
          -1.0899952194889588,
          -1.3306605630132171,
          -1.2322065588442035,
          -1.2103278912510889,
          -1.0899952194889588,
          -1.0571772180992878,
          -0.958723213930274,
          -1.702597912096162,
          -1.2322065588442035,
          -0.6852398690163445,
          -0.6524218676266716,
          -0.7836938731853582,
          -0.7399365379991304,
          -1.4728719023684602,
          -1.3634785644028884,
          -0.14921251298504198,
          0.7478128583326457,
          0.8353275287051043,
          1.1088108736190339,
          0.8353275287051043,
          0.7915701935188749,
          0.5727835175877314,
          0.7259341907395325,
          0.5071475148083889,
          0.9884782018569055,
          1.6995348986331222,
          1.3822942185329634,
          1.7979889028021374,
          1.0103568694500187,
          0.2446035036910159,
          -0.11639451159536919,
          0.8243881949085446,
          0.8517365293999392,
          0.8790848638913337,
          2.454348930595568,
          2.3996522616127822,
          2.509045599578354,
          2.3777735940196694,
          2.443409596799009,
          2.5309242671714673,
          2.4215309292058955,
          1.4698088889054222,
          1.0322355370431349
         ],
         "xaxis": "x",
         "y": [
          1.07512469036187,
          1.261656080920897,
          1.1506567675248562,
          1.0396574541288153,
          0.9332557454296511,
          0.7848187937876085,
          0.9595277722689514,
          1.1000831158592048,
          1.163135980273523,
          1.1289823453824337,
          0.991054204476111,
          0.9043565159064223,
          0.9253741373778621,
          0.7335883414509734,
          0.7138843213214991,
          0.6941803011920248,
          0.6836714904563049,
          0.6337546394616352,
          0.681044287772374,
          0.6757898824045148,
          0.5982874032285804,
          0.5588793629696307,
          0.5207849240526462,
          0.5917193965187557,
          -3.3096765891172453,
          -3.1888252656564666,
          -3.033163506633616,
          -2.8775017476107654,
          -2.878815348952731,
          -2.225955481996133,
          -1.9382767881058025,
          -1.8358158834325335,
          -1.7162781613137197,
          -1.5008475412314628,
          -1.362919400325139,
          -1.2381272728384658,
          -1.0318918621499635,
          -0.981975011155295,
          -0.9176085453990103,
          -0.8532420796427256,
          -1.209228043315236,
          -1.465380304998408,
          -1.428599467423389,
          -1.282789718465275,
          -1.186896820501832,
          -0.6916691145810335,
          -0.3724639884835421,
          -0.3724639884835421,
          0.00979400202826856,
          0.0754740691265175,
          -0.4348600522268787,
          -0.9451941735802748,
          -1.133039165481267,
          -1.034519064833893,
          -0.8493012756168317,
          -0.4762384944987754,
          -0.3278015428567329,
          -0.24373105697097389,
          -0.24635825965490357,
          -0.3658959817737173,
          -0.06376767312177058,
          -0.15571976705931978,
          -0.014507622798084152,
          0.12670452146315145,
          0.2462422435819652,
          0.26331906102750985,
          0.3973063979079386,
          0.5825241871250012,
          0.6600266663009343,
          0.7309611387670438,
          0.6718490783786196,
          0.5733289777312456,
          1.901379934457844,
          1.6872629157175514,
          1.578234004334458,
          1.4692050929513647,
          1.4678914916093995,
          1.46263708624154,
          1.5059859305263839,
          1.565097990914808,
          1.6255236526451975,
          1.5913700177541081,
          1.612387639225548,
          1.5467075721272991,
          -1.4167770553457038,
          -1.2906713265170653,
          -1.2887009245041177,
          -1.2867305224911703,
          -1.1711336043982516,
          -1.0476550782535439,
          -0.8795141064820259,
          -0.6772194998194185,
          -0.5077649267059351,
          -0.28839350259778307,
          -0.08872609861910542,
          0.061024454364902524,
          1.5375123627335434,
          1.2879281077601972,
          1.2990937191668992,
          1.3102593305736012,
          1.319454539967357,
          1.393016215117396,
          1.6071332338576874,
          1.7870966177068908,
          1.8396406713854903,
          1.882989515670334,
          1.8554038874890695,
          1.8330726646756654,
          0.4432824448767132,
          0.4669272690320826,
          0.34279194221639164,
          0.21865661540070067,
          0.09123728523009673,
          0.043947636919357866,
          0.1056868999917117,
          0.2409878382141047,
          0.3355671348355836,
          0.36972076972667406,
          0.3657799657007789,
          0.33162633080968845,
          0.21471581137480558,
          0.34607594557130344,
          0.397306397907938,
          0.4485368502445725,
          0.7690555776840282,
          0.7125707199795337,
          0.7309611387670438,
          0.757233165606344,
          0.8767708877251567,
          0.9805453937403912,
          0.8215996313626276,
          0.6350682408036006,
          -0.3619551777478222,
          -1.278848914439381,
          -1.6584797022672608,
          -2.0381104900951406,
          -1.8069166539093036,
          -1.5520779935680968,
          -1.3799962177706848,
          -1.4732619130501983,
          -1.1737608070821823,
          -0.9005317279534656,
          -0.6049714260113437,
          -0.6273026488247488,
          -1.925140774686153,
          -2.145825800136269,
          -2.1294057833617073,
          -2.1129857665871454,
          -1.6597933036092263,
          -1.424658663397494,
          -1.0358326661758586,
          -0.854555680984691,
          -0.536664156229165,
          -0.5471729669648849,
          -0.42369444082017604,
          -0.4828065012086002,
          1.1499999668538734,
          0.8767708877251567,
          0.7874459964715383,
          0.6981211052179199,
          0.654772260933075,
          0.7467243548706242,
          0.7467243548706242,
          0.8045228139170829,
          0.9004157118805273,
          0.888593299802842,
          0.8307948407563832,
          0.6600266663009343,
          0.22259741942659578,
          -0.5090785280479004,
          -0.5570249770296221,
          -0.6049714260113437,
          -0.5668769870943592,
          -0.5839538045399039,
          -0.536664156229165,
          -0.24373105697097389,
          -0.02830043688871701,
          0.0978052919399215,
          0.07678767046848176,
          -0.004655612733346416,
          -2.162902617581815,
          -1.7898398364637589,
          -1.7556862015726695,
          -1.7215325666815802,
          -1.1146487466937582,
          -0.7337043575239129,
          -0.6246754461408192,
          -0.6154802367470635,
          -0.602344223327414,
          -0.4946289132862855,
          -0.3002159146754684,
          -0.25686707039062345,
          -1.077867909118738,
          -1.2906713265170653,
          -1.023353453427191,
          -0.756035580337317,
          -0.7823076071766173,
          -0.6653970877417332,
          -0.5997170206434843,
          -0.34093755627638245,
          -0.25423986770669377,
          -0.2016958140280944,
          0.049202042287217224,
          0.4656136676901172,
          0.8439308541760328,
          0.8478716582019279,
          0.7769371857358184,
          0.7060027132697089,
          0.607482612622336,
          0.5969738018866162,
          0.6587130649589701,
          0.8951613065126667,
          1.089574305123485,
          1.202544020532473,
          1.3076321278896716,
          1.0764382917038342,
          -0.5892082099077643,
          -0.5839538045399039,
          -0.3619551777478222,
          -0.13995655095574056,
          0.10437329864974745,
          0.1556037509863814,
          0.2869638851828793,
          0.4170104180374129,
          0.47874968110976673,
          0.2541238516337554,
          0.05051564362918264,
          -0.14258375363967024,
          1.4495010728218893,
          1.4495010728218893,
          1.361489782910236,
          1.2734784929985823,
          1.2222480406619483,
          1.2721648916566168,
          1.3562353775423759,
          1.4179746406147309,
          1.3667441882780957,
          1.3864482084075713,
          1.3220817426512865,
          1.3063185265477062,
          -0.7954436205962668,
          -0.770485195098932,
          -0.7908460158993891,
          -0.8112068366998461,
          -0.7534083776533873,
          -0.5721313924622198,
          -0.37509119116747175,
          -0.2975887119915375,
          -0.2923343066236782,
          -0.3186063334629773,
          -0.37509119116747175,
          -0.19512780731826962,
          -1.420717859371599,
          -1.7175917626556851,
          -1.7169349619847023,
          -1.7162781613137197,
          -1.6886925331324552,
          -1.5941132365109763,
          -1.311688947988505,
          -0.9399397682124154,
          -0.653574675664049,
          -0.6299298515086785,
          -0.5156465347577253,
          -0.5786993991720445,
          -1.6164444593243814,
          -1.8069166539093036,
          -1.7471477928498973,
          -1.6873789317904908,
          -1.1566839896366377,
          -0.7665443910730368,
          -0.6089122300372387,
          -0.4447120622916158,
          -0.3737775898255075,
          -0.35275996835406775,
          0.08992368388813247,
          0.23704703418821074,
          -0.9872294165231543,
          -0.5773857978300792,
          -0.5603089803845345,
          -0.5432321629389898,
          -0.43420325155589595,
          -0.4079312247165968,
          -0.30941112406922283,
          -0.27657109052009776,
          -0.1675421791370051,
          -0.10186211203875498,
          -0.02304603152085649,
          0.0794148731524126,
          -0.6391250609024342,
          -0.4578480757112665,
          -0.5970898179595545,
          -0.7363315602078426,
          -0.8414196675650414,
          -0.854555680984691,
          -0.6049714260113437,
          -0.3816591978772966,
          -0.05982686909587548,
          0.06890606241669273,
          0.2909046892087744,
          0.3171767160480747,
          0.4629864650061875,
          -0.11368452411644028,
          -0.10908691941956306,
          -0.10448931472268583,
          -0.06245407177980632,
          -0.007282815417277259,
          -0.12944774022002067,
          -0.07164928117356077,
          -0.009910018101206937,
          0.10831410267564139,
          0.08861008254616705,
          0.03606602886756767,
          1.2747920943405464,
          1.407465829879011,
          1.3312769520450416,
          1.2550880742110722,
          1.1591951762476291,
          1.1499999668538734,
          1.1894080071128232,
          1.2275024460298076,
          1.2406384594494573,
          1.2537744728691078,
          1.2813601010503723,
          1.2958097158119863
         ],
         "yaxis": "y"
        }
       ],
       "layout": {
        "coloraxis": {
         "colorbar": {
          "title": {
           "text": "year"
          }
         },
         "colorscale": [
          [
           0,
           "#0d0887"
          ],
          [
           0.1111111111111111,
           "#46039f"
          ],
          [
           0.2222222222222222,
           "#7201a8"
          ],
          [
           0.3333333333333333,
           "#9c179e"
          ],
          [
           0.4444444444444444,
           "#bd3786"
          ],
          [
           0.5555555555555556,
           "#d8576b"
          ],
          [
           0.6666666666666666,
           "#ed7953"
          ],
          [
           0.7777777777777778,
           "#fb9f3a"
          ],
          [
           0.8888888888888888,
           "#fdca26"
          ],
          [
           1,
           "#f0f921"
          ]
         ]
        },
        "legend": {
         "tracegroupgap": 0
        },
        "template": {
         "data": {
          "bar": [
           {
            "error_x": {
             "color": "#2a3f5f"
            },
            "error_y": {
             "color": "#2a3f5f"
            },
            "marker": {
             "line": {
              "color": "#E5ECF6",
              "width": 0.5
             },
             "pattern": {
              "fillmode": "overlay",
              "size": 10,
              "solidity": 0.2
             }
            },
            "type": "bar"
           }
          ],
          "barpolar": [
           {
            "marker": {
             "line": {
              "color": "#E5ECF6",
              "width": 0.5
             },
             "pattern": {
              "fillmode": "overlay",
              "size": 10,
              "solidity": 0.2
             }
            },
            "type": "barpolar"
           }
          ],
          "carpet": [
           {
            "aaxis": {
             "endlinecolor": "#2a3f5f",
             "gridcolor": "white",
             "linecolor": "white",
             "minorgridcolor": "white",
             "startlinecolor": "#2a3f5f"
            },
            "baxis": {
             "endlinecolor": "#2a3f5f",
             "gridcolor": "white",
             "linecolor": "white",
             "minorgridcolor": "white",
             "startlinecolor": "#2a3f5f"
            },
            "type": "carpet"
           }
          ],
          "choropleth": [
           {
            "colorbar": {
             "outlinewidth": 0,
             "ticks": ""
            },
            "type": "choropleth"
           }
          ],
          "contour": [
           {
            "colorbar": {
             "outlinewidth": 0,
             "ticks": ""
            },
            "colorscale": [
             [
              0,
              "#0d0887"
             ],
             [
              0.1111111111111111,
              "#46039f"
             ],
             [
              0.2222222222222222,
              "#7201a8"
             ],
             [
              0.3333333333333333,
              "#9c179e"
             ],
             [
              0.4444444444444444,
              "#bd3786"
             ],
             [
              0.5555555555555556,
              "#d8576b"
             ],
             [
              0.6666666666666666,
              "#ed7953"
             ],
             [
              0.7777777777777778,
              "#fb9f3a"
             ],
             [
              0.8888888888888888,
              "#fdca26"
             ],
             [
              1,
              "#f0f921"
             ]
            ],
            "type": "contour"
           }
          ],
          "contourcarpet": [
           {
            "colorbar": {
             "outlinewidth": 0,
             "ticks": ""
            },
            "type": "contourcarpet"
           }
          ],
          "heatmap": [
           {
            "colorbar": {
             "outlinewidth": 0,
             "ticks": ""
            },
            "colorscale": [
             [
              0,
              "#0d0887"
             ],
             [
              0.1111111111111111,
              "#46039f"
             ],
             [
              0.2222222222222222,
              "#7201a8"
             ],
             [
              0.3333333333333333,
              "#9c179e"
             ],
             [
              0.4444444444444444,
              "#bd3786"
             ],
             [
              0.5555555555555556,
              "#d8576b"
             ],
             [
              0.6666666666666666,
              "#ed7953"
             ],
             [
              0.7777777777777778,
              "#fb9f3a"
             ],
             [
              0.8888888888888888,
              "#fdca26"
             ],
             [
              1,
              "#f0f921"
             ]
            ],
            "type": "heatmap"
           }
          ],
          "heatmapgl": [
           {
            "colorbar": {
             "outlinewidth": 0,
             "ticks": ""
            },
            "colorscale": [
             [
              0,
              "#0d0887"
             ],
             [
              0.1111111111111111,
              "#46039f"
             ],
             [
              0.2222222222222222,
              "#7201a8"
             ],
             [
              0.3333333333333333,
              "#9c179e"
             ],
             [
              0.4444444444444444,
              "#bd3786"
             ],
             [
              0.5555555555555556,
              "#d8576b"
             ],
             [
              0.6666666666666666,
              "#ed7953"
             ],
             [
              0.7777777777777778,
              "#fb9f3a"
             ],
             [
              0.8888888888888888,
              "#fdca26"
             ],
             [
              1,
              "#f0f921"
             ]
            ],
            "type": "heatmapgl"
           }
          ],
          "histogram": [
           {
            "marker": {
             "pattern": {
              "fillmode": "overlay",
              "size": 10,
              "solidity": 0.2
             }
            },
            "type": "histogram"
           }
          ],
          "histogram2d": [
           {
            "colorbar": {
             "outlinewidth": 0,
             "ticks": ""
            },
            "colorscale": [
             [
              0,
              "#0d0887"
             ],
             [
              0.1111111111111111,
              "#46039f"
             ],
             [
              0.2222222222222222,
              "#7201a8"
             ],
             [
              0.3333333333333333,
              "#9c179e"
             ],
             [
              0.4444444444444444,
              "#bd3786"
             ],
             [
              0.5555555555555556,
              "#d8576b"
             ],
             [
              0.6666666666666666,
              "#ed7953"
             ],
             [
              0.7777777777777778,
              "#fb9f3a"
             ],
             [
              0.8888888888888888,
              "#fdca26"
             ],
             [
              1,
              "#f0f921"
             ]
            ],
            "type": "histogram2d"
           }
          ],
          "histogram2dcontour": [
           {
            "colorbar": {
             "outlinewidth": 0,
             "ticks": ""
            },
            "colorscale": [
             [
              0,
              "#0d0887"
             ],
             [
              0.1111111111111111,
              "#46039f"
             ],
             [
              0.2222222222222222,
              "#7201a8"
             ],
             [
              0.3333333333333333,
              "#9c179e"
             ],
             [
              0.4444444444444444,
              "#bd3786"
             ],
             [
              0.5555555555555556,
              "#d8576b"
             ],
             [
              0.6666666666666666,
              "#ed7953"
             ],
             [
              0.7777777777777778,
              "#fb9f3a"
             ],
             [
              0.8888888888888888,
              "#fdca26"
             ],
             [
              1,
              "#f0f921"
             ]
            ],
            "type": "histogram2dcontour"
           }
          ],
          "mesh3d": [
           {
            "colorbar": {
             "outlinewidth": 0,
             "ticks": ""
            },
            "type": "mesh3d"
           }
          ],
          "parcoords": [
           {
            "line": {
             "colorbar": {
              "outlinewidth": 0,
              "ticks": ""
             }
            },
            "type": "parcoords"
           }
          ],
          "pie": [
           {
            "automargin": true,
            "type": "pie"
           }
          ],
          "scatter": [
           {
            "fillpattern": {
             "fillmode": "overlay",
             "size": 10,
             "solidity": 0.2
            },
            "type": "scatter"
           }
          ],
          "scatter3d": [
           {
            "line": {
             "colorbar": {
              "outlinewidth": 0,
              "ticks": ""
             }
            },
            "marker": {
             "colorbar": {
              "outlinewidth": 0,
              "ticks": ""
             }
            },
            "type": "scatter3d"
           }
          ],
          "scattercarpet": [
           {
            "marker": {
             "colorbar": {
              "outlinewidth": 0,
              "ticks": ""
             }
            },
            "type": "scattercarpet"
           }
          ],
          "scattergeo": [
           {
            "marker": {
             "colorbar": {
              "outlinewidth": 0,
              "ticks": ""
             }
            },
            "type": "scattergeo"
           }
          ],
          "scattergl": [
           {
            "marker": {
             "colorbar": {
              "outlinewidth": 0,
              "ticks": ""
             }
            },
            "type": "scattergl"
           }
          ],
          "scattermapbox": [
           {
            "marker": {
             "colorbar": {
              "outlinewidth": 0,
              "ticks": ""
             }
            },
            "type": "scattermapbox"
           }
          ],
          "scatterpolar": [
           {
            "marker": {
             "colorbar": {
              "outlinewidth": 0,
              "ticks": ""
             }
            },
            "type": "scatterpolar"
           }
          ],
          "scatterpolargl": [
           {
            "marker": {
             "colorbar": {
              "outlinewidth": 0,
              "ticks": ""
             }
            },
            "type": "scatterpolargl"
           }
          ],
          "scatterternary": [
           {
            "marker": {
             "colorbar": {
              "outlinewidth": 0,
              "ticks": ""
             }
            },
            "type": "scatterternary"
           }
          ],
          "surface": [
           {
            "colorbar": {
             "outlinewidth": 0,
             "ticks": ""
            },
            "colorscale": [
             [
              0,
              "#0d0887"
             ],
             [
              0.1111111111111111,
              "#46039f"
             ],
             [
              0.2222222222222222,
              "#7201a8"
             ],
             [
              0.3333333333333333,
              "#9c179e"
             ],
             [
              0.4444444444444444,
              "#bd3786"
             ],
             [
              0.5555555555555556,
              "#d8576b"
             ],
             [
              0.6666666666666666,
              "#ed7953"
             ],
             [
              0.7777777777777778,
              "#fb9f3a"
             ],
             [
              0.8888888888888888,
              "#fdca26"
             ],
             [
              1,
              "#f0f921"
             ]
            ],
            "type": "surface"
           }
          ],
          "table": [
           {
            "cells": {
             "fill": {
              "color": "#EBF0F8"
             },
             "line": {
              "color": "white"
             }
            },
            "header": {
             "fill": {
              "color": "#C8D4E3"
             },
             "line": {
              "color": "white"
             }
            },
            "type": "table"
           }
          ]
         },
         "layout": {
          "annotationdefaults": {
           "arrowcolor": "#2a3f5f",
           "arrowhead": 0,
           "arrowwidth": 1
          },
          "autotypenumbers": "strict",
          "coloraxis": {
           "colorbar": {
            "outlinewidth": 0,
            "ticks": ""
           }
          },
          "colorscale": {
           "diverging": [
            [
             0,
             "#8e0152"
            ],
            [
             0.1,
             "#c51b7d"
            ],
            [
             0.2,
             "#de77ae"
            ],
            [
             0.3,
             "#f1b6da"
            ],
            [
             0.4,
             "#fde0ef"
            ],
            [
             0.5,
             "#f7f7f7"
            ],
            [
             0.6,
             "#e6f5d0"
            ],
            [
             0.7,
             "#b8e186"
            ],
            [
             0.8,
             "#7fbc41"
            ],
            [
             0.9,
             "#4d9221"
            ],
            [
             1,
             "#276419"
            ]
           ],
           "sequential": [
            [
             0,
             "#0d0887"
            ],
            [
             0.1111111111111111,
             "#46039f"
            ],
            [
             0.2222222222222222,
             "#7201a8"
            ],
            [
             0.3333333333333333,
             "#9c179e"
            ],
            [
             0.4444444444444444,
             "#bd3786"
            ],
            [
             0.5555555555555556,
             "#d8576b"
            ],
            [
             0.6666666666666666,
             "#ed7953"
            ],
            [
             0.7777777777777778,
             "#fb9f3a"
            ],
            [
             0.8888888888888888,
             "#fdca26"
            ],
            [
             1,
             "#f0f921"
            ]
           ],
           "sequentialminus": [
            [
             0,
             "#0d0887"
            ],
            [
             0.1111111111111111,
             "#46039f"
            ],
            [
             0.2222222222222222,
             "#7201a8"
            ],
            [
             0.3333333333333333,
             "#9c179e"
            ],
            [
             0.4444444444444444,
             "#bd3786"
            ],
            [
             0.5555555555555556,
             "#d8576b"
            ],
            [
             0.6666666666666666,
             "#ed7953"
            ],
            [
             0.7777777777777778,
             "#fb9f3a"
            ],
            [
             0.8888888888888888,
             "#fdca26"
            ],
            [
             1,
             "#f0f921"
            ]
           ]
          },
          "colorway": [
           "#636efa",
           "#EF553B",
           "#00cc96",
           "#ab63fa",
           "#FFA15A",
           "#19d3f3",
           "#FF6692",
           "#B6E880",
           "#FF97FF",
           "#FECB52"
          ],
          "font": {
           "color": "#2a3f5f"
          },
          "geo": {
           "bgcolor": "white",
           "lakecolor": "white",
           "landcolor": "#E5ECF6",
           "showlakes": true,
           "showland": true,
           "subunitcolor": "white"
          },
          "hoverlabel": {
           "align": "left"
          },
          "hovermode": "closest",
          "mapbox": {
           "style": "light"
          },
          "paper_bgcolor": "white",
          "plot_bgcolor": "#E5ECF6",
          "polar": {
           "angularaxis": {
            "gridcolor": "white",
            "linecolor": "white",
            "ticks": ""
           },
           "bgcolor": "#E5ECF6",
           "radialaxis": {
            "gridcolor": "white",
            "linecolor": "white",
            "ticks": ""
           }
          },
          "scene": {
           "xaxis": {
            "backgroundcolor": "#E5ECF6",
            "gridcolor": "white",
            "gridwidth": 2,
            "linecolor": "white",
            "showbackground": true,
            "ticks": "",
            "zerolinecolor": "white"
           },
           "yaxis": {
            "backgroundcolor": "#E5ECF6",
            "gridcolor": "white",
            "gridwidth": 2,
            "linecolor": "white",
            "showbackground": true,
            "ticks": "",
            "zerolinecolor": "white"
           },
           "zaxis": {
            "backgroundcolor": "#E5ECF6",
            "gridcolor": "white",
            "gridwidth": 2,
            "linecolor": "white",
            "showbackground": true,
            "ticks": "",
            "zerolinecolor": "white"
           }
          },
          "shapedefaults": {
           "line": {
            "color": "#2a3f5f"
           }
          },
          "ternary": {
           "aaxis": {
            "gridcolor": "white",
            "linecolor": "white",
            "ticks": ""
           },
           "baxis": {
            "gridcolor": "white",
            "linecolor": "white",
            "ticks": ""
           },
           "bgcolor": "#E5ECF6",
           "caxis": {
            "gridcolor": "white",
            "linecolor": "white",
            "ticks": ""
           }
          },
          "title": {
           "x": 0.05
          },
          "xaxis": {
           "automargin": true,
           "gridcolor": "white",
           "linecolor": "white",
           "ticks": "",
           "title": {
            "standoff": 15
           },
           "zerolinecolor": "white",
           "zerolinewidth": 2
          },
          "yaxis": {
           "automargin": true,
           "gridcolor": "white",
           "linecolor": "white",
           "ticks": "",
           "title": {
            "standoff": 15
           },
           "zerolinecolor": "white",
           "zerolinewidth": 2
          }
         }
        },
        "title": {
         "text": "Comparing Relationship of Life Expectancy and Quality of Life in Europe"
        },
        "xaxis": {
         "anchor": "y",
         "domain": [
          0,
          1
         ],
         "title": {
          "text": "Life Expectancy"
         }
        },
        "yaxis": {
         "anchor": "x",
         "domain": [
          0,
          1
         ],
         "title": {
          "text": "Quality of Life"
         }
        }
       }
      }
     },
     "metadata": {},
     "output_type": "display_data"
    }
   ],
   "source": [
    "fig = px.scatter(\n",
    "    combined,\n",
    "    x='healthcare',\n",
    "    y='qol',\n",
    "    color='year',\n",
    "    opacity=0.5,\n",
    "    labels={'healthcare': 'Life Expectancy', 'qol': 'Quality of Life'},\n",
    "    title='Comparing Relationship of Life Expectancy and Quality of Life in Europe',\n",
    "    hover_data=['country', 'year']\n",
    ")\n",
    "\n",
    "fig"
   ]
  },
  {
   "cell_type": "code",
   "execution_count": 146,
   "id": "53673fd9",
   "metadata": {},
   "outputs": [
    {
     "data": {
      "application/vnd.plotly.v1+json": {
       "config": {
        "plotlyServerURL": "https://plot.ly"
       },
       "data": [
        {
         "customdata": [
          [
           "Austria",
           2011
          ],
          [
           "Austria",
           2012
          ],
          [
           "Austria",
           2013
          ],
          [
           "Austria",
           2014
          ],
          [
           "Austria",
           2015
          ],
          [
           "Austria",
           2016
          ],
          [
           "Austria",
           2017
          ],
          [
           "Austria",
           2018
          ],
          [
           "Austria",
           2019
          ],
          [
           "Austria",
           2020
          ],
          [
           "Austria",
           2021
          ],
          [
           "Austria",
           2022
          ],
          [
           "Belgium",
           2011
          ],
          [
           "Belgium",
           2012
          ],
          [
           "Belgium",
           2013
          ],
          [
           "Belgium",
           2014
          ],
          [
           "Belgium",
           2015
          ],
          [
           "Belgium",
           2016
          ],
          [
           "Belgium",
           2017
          ],
          [
           "Belgium",
           2018
          ],
          [
           "Belgium",
           2019
          ],
          [
           "Belgium",
           2020
          ],
          [
           "Belgium",
           2021
          ],
          [
           "Belgium",
           2022
          ],
          [
           "Bulgaria",
           2011
          ],
          [
           "Bulgaria",
           2012
          ],
          [
           "Bulgaria",
           2013
          ],
          [
           "Bulgaria",
           2014
          ],
          [
           "Bulgaria",
           2015
          ],
          [
           "Bulgaria",
           2016
          ],
          [
           "Bulgaria",
           2017
          ],
          [
           "Bulgaria",
           2018
          ],
          [
           "Bulgaria",
           2019
          ],
          [
           "Bulgaria",
           2020
          ],
          [
           "Bulgaria",
           2021
          ],
          [
           "Bulgaria",
           2022
          ],
          [
           "Croatia",
           2011
          ],
          [
           "Croatia",
           2012
          ],
          [
           "Croatia",
           2013
          ],
          [
           "Croatia",
           2014
          ],
          [
           "Croatia",
           2015
          ],
          [
           "Croatia",
           2016
          ],
          [
           "Croatia",
           2017
          ],
          [
           "Croatia",
           2018
          ],
          [
           "Croatia",
           2019
          ],
          [
           "Croatia",
           2020
          ],
          [
           "Croatia",
           2021
          ],
          [
           "Croatia",
           2022
          ],
          [
           "Cyprus",
           2011
          ],
          [
           "Cyprus",
           2012
          ],
          [
           "Cyprus",
           2013
          ],
          [
           "Cyprus",
           2014
          ],
          [
           "Cyprus",
           2015
          ],
          [
           "Cyprus",
           2016
          ],
          [
           "Cyprus",
           2017
          ],
          [
           "Cyprus",
           2018
          ],
          [
           "Cyprus",
           2019
          ],
          [
           "Cyprus",
           2020
          ],
          [
           "Cyprus",
           2021
          ],
          [
           "Cyprus",
           2022
          ],
          [
           "Czechia",
           2011
          ],
          [
           "Czechia",
           2012
          ],
          [
           "Czechia",
           2013
          ],
          [
           "Czechia",
           2014
          ],
          [
           "Czechia",
           2015
          ],
          [
           "Czechia",
           2016
          ],
          [
           "Czechia",
           2017
          ],
          [
           "Czechia",
           2018
          ],
          [
           "Czechia",
           2019
          ],
          [
           "Czechia",
           2020
          ],
          [
           "Czechia",
           2021
          ],
          [
           "Czechia",
           2022
          ],
          [
           "Denmark",
           2011
          ],
          [
           "Denmark",
           2012
          ],
          [
           "Denmark",
           2013
          ],
          [
           "Denmark",
           2014
          ],
          [
           "Denmark",
           2015
          ],
          [
           "Denmark",
           2016
          ],
          [
           "Denmark",
           2017
          ],
          [
           "Denmark",
           2018
          ],
          [
           "Denmark",
           2019
          ],
          [
           "Denmark",
           2020
          ],
          [
           "Denmark",
           2021
          ],
          [
           "Denmark",
           2022
          ],
          [
           "Estonia",
           2011
          ],
          [
           "Estonia",
           2012
          ],
          [
           "Estonia",
           2013
          ],
          [
           "Estonia",
           2014
          ],
          [
           "Estonia",
           2015
          ],
          [
           "Estonia",
           2016
          ],
          [
           "Estonia",
           2017
          ],
          [
           "Estonia",
           2018
          ],
          [
           "Estonia",
           2019
          ],
          [
           "Estonia",
           2020
          ],
          [
           "Estonia",
           2021
          ],
          [
           "Estonia",
           2022
          ],
          [
           "Finland",
           2011
          ],
          [
           "Finland",
           2012
          ],
          [
           "Finland",
           2013
          ],
          [
           "Finland",
           2014
          ],
          [
           "Finland",
           2015
          ],
          [
           "Finland",
           2016
          ],
          [
           "Finland",
           2017
          ],
          [
           "Finland",
           2018
          ],
          [
           "Finland",
           2019
          ],
          [
           "Finland",
           2020
          ],
          [
           "Finland",
           2021
          ],
          [
           "Finland",
           2022
          ],
          [
           "France",
           2011
          ],
          [
           "France",
           2012
          ],
          [
           "France",
           2013
          ],
          [
           "France",
           2014
          ],
          [
           "France",
           2015
          ],
          [
           "France",
           2016
          ],
          [
           "France",
           2017
          ],
          [
           "France",
           2018
          ],
          [
           "France",
           2019
          ],
          [
           "France",
           2020
          ],
          [
           "France",
           2021
          ],
          [
           "France",
           2022
          ],
          [
           "Germany",
           2011
          ],
          [
           "Germany",
           2012
          ],
          [
           "Germany",
           2013
          ],
          [
           "Germany",
           2014
          ],
          [
           "Germany",
           2015
          ],
          [
           "Germany",
           2016
          ],
          [
           "Germany",
           2017
          ],
          [
           "Germany",
           2018
          ],
          [
           "Germany",
           2019
          ],
          [
           "Germany",
           2020
          ],
          [
           "Germany",
           2021
          ],
          [
           "Germany",
           2022
          ],
          [
           "Greece",
           2011
          ],
          [
           "Greece",
           2012
          ],
          [
           "Greece",
           2013
          ],
          [
           "Greece",
           2014
          ],
          [
           "Greece",
           2015
          ],
          [
           "Greece",
           2016
          ],
          [
           "Greece",
           2017
          ],
          [
           "Greece",
           2018
          ],
          [
           "Greece",
           2019
          ],
          [
           "Greece",
           2020
          ],
          [
           "Greece",
           2021
          ],
          [
           "Greece",
           2022
          ],
          [
           "Hungary",
           2011
          ],
          [
           "Hungary",
           2012
          ],
          [
           "Hungary",
           2013
          ],
          [
           "Hungary",
           2014
          ],
          [
           "Hungary",
           2015
          ],
          [
           "Hungary",
           2016
          ],
          [
           "Hungary",
           2017
          ],
          [
           "Hungary",
           2018
          ],
          [
           "Hungary",
           2019
          ],
          [
           "Hungary",
           2020
          ],
          [
           "Hungary",
           2021
          ],
          [
           "Hungary",
           2022
          ],
          [
           "Ireland",
           2011
          ],
          [
           "Ireland",
           2012
          ],
          [
           "Ireland",
           2013
          ],
          [
           "Ireland",
           2014
          ],
          [
           "Ireland",
           2015
          ],
          [
           "Ireland",
           2016
          ],
          [
           "Ireland",
           2017
          ],
          [
           "Ireland",
           2018
          ],
          [
           "Ireland",
           2019
          ],
          [
           "Ireland",
           2020
          ],
          [
           "Ireland",
           2021
          ],
          [
           "Ireland",
           2022
          ],
          [
           "Italy",
           2011
          ],
          [
           "Italy",
           2012
          ],
          [
           "Italy",
           2013
          ],
          [
           "Italy",
           2014
          ],
          [
           "Italy",
           2015
          ],
          [
           "Italy",
           2016
          ],
          [
           "Italy",
           2017
          ],
          [
           "Italy",
           2018
          ],
          [
           "Italy",
           2019
          ],
          [
           "Italy",
           2020
          ],
          [
           "Italy",
           2021
          ],
          [
           "Italy",
           2022
          ],
          [
           "Latvia",
           2011
          ],
          [
           "Latvia",
           2012
          ],
          [
           "Latvia",
           2013
          ],
          [
           "Latvia",
           2014
          ],
          [
           "Latvia",
           2015
          ],
          [
           "Latvia",
           2016
          ],
          [
           "Latvia",
           2017
          ],
          [
           "Latvia",
           2018
          ],
          [
           "Latvia",
           2019
          ],
          [
           "Latvia",
           2020
          ],
          [
           "Latvia",
           2021
          ],
          [
           "Latvia",
           2022
          ],
          [
           "Lithuania",
           2011
          ],
          [
           "Lithuania",
           2012
          ],
          [
           "Lithuania",
           2013
          ],
          [
           "Lithuania",
           2014
          ],
          [
           "Lithuania",
           2015
          ],
          [
           "Lithuania",
           2016
          ],
          [
           "Lithuania",
           2017
          ],
          [
           "Lithuania",
           2018
          ],
          [
           "Lithuania",
           2019
          ],
          [
           "Lithuania",
           2020
          ],
          [
           "Lithuania",
           2021
          ],
          [
           "Lithuania",
           2022
          ],
          [
           "Luxembourg",
           2011
          ],
          [
           "Luxembourg",
           2012
          ],
          [
           "Luxembourg",
           2013
          ],
          [
           "Luxembourg",
           2014
          ],
          [
           "Luxembourg",
           2015
          ],
          [
           "Luxembourg",
           2016
          ],
          [
           "Luxembourg",
           2017
          ],
          [
           "Luxembourg",
           2018
          ],
          [
           "Luxembourg",
           2019
          ],
          [
           "Luxembourg",
           2020
          ],
          [
           "Luxembourg",
           2021
          ],
          [
           "Luxembourg",
           2022
          ],
          [
           "Malta",
           2011
          ],
          [
           "Malta",
           2012
          ],
          [
           "Malta",
           2013
          ],
          [
           "Malta",
           2014
          ],
          [
           "Malta",
           2015
          ],
          [
           "Malta",
           2016
          ],
          [
           "Malta",
           2017
          ],
          [
           "Malta",
           2018
          ],
          [
           "Malta",
           2019
          ],
          [
           "Malta",
           2020
          ],
          [
           "Malta",
           2021
          ],
          [
           "Malta",
           2022
          ],
          [
           "Netherlands",
           2011
          ],
          [
           "Netherlands",
           2012
          ],
          [
           "Netherlands",
           2013
          ],
          [
           "Netherlands",
           2014
          ],
          [
           "Netherlands",
           2015
          ],
          [
           "Netherlands",
           2016
          ],
          [
           "Netherlands",
           2017
          ],
          [
           "Netherlands",
           2018
          ],
          [
           "Netherlands",
           2019
          ],
          [
           "Netherlands",
           2020
          ],
          [
           "Netherlands",
           2021
          ],
          [
           "Netherlands",
           2022
          ],
          [
           "Poland",
           2011
          ],
          [
           "Poland",
           2012
          ],
          [
           "Poland",
           2013
          ],
          [
           "Poland",
           2014
          ],
          [
           "Poland",
           2015
          ],
          [
           "Poland",
           2016
          ],
          [
           "Poland",
           2017
          ],
          [
           "Poland",
           2018
          ],
          [
           "Poland",
           2019
          ],
          [
           "Poland",
           2020
          ],
          [
           "Poland",
           2021
          ],
          [
           "Poland",
           2022
          ],
          [
           "Portugal",
           2011
          ],
          [
           "Portugal",
           2012
          ],
          [
           "Portugal",
           2013
          ],
          [
           "Portugal",
           2014
          ],
          [
           "Portugal",
           2015
          ],
          [
           "Portugal",
           2016
          ],
          [
           "Portugal",
           2017
          ],
          [
           "Portugal",
           2018
          ],
          [
           "Portugal",
           2019
          ],
          [
           "Portugal",
           2020
          ],
          [
           "Portugal",
           2021
          ],
          [
           "Portugal",
           2022
          ],
          [
           "Romania",
           2011
          ],
          [
           "Romania",
           2012
          ],
          [
           "Romania",
           2013
          ],
          [
           "Romania",
           2014
          ],
          [
           "Romania",
           2015
          ],
          [
           "Romania",
           2016
          ],
          [
           "Romania",
           2017
          ],
          [
           "Romania",
           2018
          ],
          [
           "Romania",
           2019
          ],
          [
           "Romania",
           2020
          ],
          [
           "Romania",
           2021
          ],
          [
           "Romania",
           2022
          ],
          [
           "Slovakia",
           2011
          ],
          [
           "Slovakia",
           2012
          ],
          [
           "Slovakia",
           2013
          ],
          [
           "Slovakia",
           2014
          ],
          [
           "Slovakia",
           2015
          ],
          [
           "Slovakia",
           2016
          ],
          [
           "Slovakia",
           2017
          ],
          [
           "Slovakia",
           2018
          ],
          [
           "Slovakia",
           2019
          ],
          [
           "Slovakia",
           2020
          ],
          [
           "Slovakia",
           2021
          ],
          [
           "Slovakia",
           2022
          ],
          [
           "Slovenia",
           2011
          ],
          [
           "Slovenia",
           2012
          ],
          [
           "Slovenia",
           2013
          ],
          [
           "Slovenia",
           2014
          ],
          [
           "Slovenia",
           2015
          ],
          [
           "Slovenia",
           2016
          ],
          [
           "Slovenia",
           2017
          ],
          [
           "Slovenia",
           2018
          ],
          [
           "Slovenia",
           2019
          ],
          [
           "Slovenia",
           2020
          ],
          [
           "Slovenia",
           2021
          ],
          [
           "Slovenia",
           2022
          ],
          [
           "Spain",
           2011
          ],
          [
           "Spain",
           2012
          ],
          [
           "Spain",
           2013
          ],
          [
           "Spain",
           2014
          ],
          [
           "Spain",
           2015
          ],
          [
           "Spain",
           2016
          ],
          [
           "Spain",
           2017
          ],
          [
           "Spain",
           2018
          ],
          [
           "Spain",
           2019
          ],
          [
           "Spain",
           2020
          ],
          [
           "Spain",
           2021
          ],
          [
           "Spain",
           2022
          ],
          [
           "Sweden",
           2011
          ],
          [
           "Sweden",
           2012
          ],
          [
           "Sweden",
           2013
          ],
          [
           "Sweden",
           2014
          ],
          [
           "Sweden",
           2015
          ],
          [
           "Sweden",
           2016
          ],
          [
           "Sweden",
           2017
          ],
          [
           "Sweden",
           2018
          ],
          [
           "Sweden",
           2019
          ],
          [
           "Sweden",
           2020
          ],
          [
           "Sweden",
           2021
          ],
          [
           "Sweden",
           2022
          ]
         ],
         "hovertemplate": "Tertiary Education=%{x}<br>Quality of Life=%{y}<br>country=%{customdata[0]}<br>year=%{marker.color}<extra></extra>",
         "legendgroup": "",
         "marker": {
          "color": [
           2011,
           2012,
           2013,
           2014,
           2015,
           2016,
           2017,
           2018,
           2019,
           2020,
           2021,
           2022,
           2011,
           2012,
           2013,
           2014,
           2015,
           2016,
           2017,
           2018,
           2019,
           2020,
           2021,
           2022,
           2011,
           2012,
           2013,
           2014,
           2015,
           2016,
           2017,
           2018,
           2019,
           2020,
           2021,
           2022,
           2011,
           2012,
           2013,
           2014,
           2015,
           2016,
           2017,
           2018,
           2019,
           2020,
           2021,
           2022,
           2011,
           2012,
           2013,
           2014,
           2015,
           2016,
           2017,
           2018,
           2019,
           2020,
           2021,
           2022,
           2011,
           2012,
           2013,
           2014,
           2015,
           2016,
           2017,
           2018,
           2019,
           2020,
           2021,
           2022,
           2011,
           2012,
           2013,
           2014,
           2015,
           2016,
           2017,
           2018,
           2019,
           2020,
           2021,
           2022,
           2011,
           2012,
           2013,
           2014,
           2015,
           2016,
           2017,
           2018,
           2019,
           2020,
           2021,
           2022,
           2011,
           2012,
           2013,
           2014,
           2015,
           2016,
           2017,
           2018,
           2019,
           2020,
           2021,
           2022,
           2011,
           2012,
           2013,
           2014,
           2015,
           2016,
           2017,
           2018,
           2019,
           2020,
           2021,
           2022,
           2011,
           2012,
           2013,
           2014,
           2015,
           2016,
           2017,
           2018,
           2019,
           2020,
           2021,
           2022,
           2011,
           2012,
           2013,
           2014,
           2015,
           2016,
           2017,
           2018,
           2019,
           2020,
           2021,
           2022,
           2011,
           2012,
           2013,
           2014,
           2015,
           2016,
           2017,
           2018,
           2019,
           2020,
           2021,
           2022,
           2011,
           2012,
           2013,
           2014,
           2015,
           2016,
           2017,
           2018,
           2019,
           2020,
           2021,
           2022,
           2011,
           2012,
           2013,
           2014,
           2015,
           2016,
           2017,
           2018,
           2019,
           2020,
           2021,
           2022,
           2011,
           2012,
           2013,
           2014,
           2015,
           2016,
           2017,
           2018,
           2019,
           2020,
           2021,
           2022,
           2011,
           2012,
           2013,
           2014,
           2015,
           2016,
           2017,
           2018,
           2019,
           2020,
           2021,
           2022,
           2011,
           2012,
           2013,
           2014,
           2015,
           2016,
           2017,
           2018,
           2019,
           2020,
           2021,
           2022,
           2011,
           2012,
           2013,
           2014,
           2015,
           2016,
           2017,
           2018,
           2019,
           2020,
           2021,
           2022,
           2011,
           2012,
           2013,
           2014,
           2015,
           2016,
           2017,
           2018,
           2019,
           2020,
           2021,
           2022,
           2011,
           2012,
           2013,
           2014,
           2015,
           2016,
           2017,
           2018,
           2019,
           2020,
           2021,
           2022,
           2011,
           2012,
           2013,
           2014,
           2015,
           2016,
           2017,
           2018,
           2019,
           2020,
           2021,
           2022,
           2011,
           2012,
           2013,
           2014,
           2015,
           2016,
           2017,
           2018,
           2019,
           2020,
           2021,
           2022,
           2011,
           2012,
           2013,
           2014,
           2015,
           2016,
           2017,
           2018,
           2019,
           2020,
           2021,
           2022,
           2011,
           2012,
           2013,
           2014,
           2015,
           2016,
           2017,
           2018,
           2019,
           2020,
           2021,
           2022,
           2011,
           2012,
           2013,
           2014,
           2015,
           2016,
           2017,
           2018,
           2019,
           2020,
           2021,
           2022,
           2011,
           2012,
           2013,
           2014,
           2015,
           2016,
           2017,
           2018,
           2019,
           2020,
           2021,
           2022
          ],
          "coloraxis": "coloraxis",
          "opacity": 0.5,
          "symbol": "circle"
         },
         "mode": "markers",
         "name": "",
         "orientation": "v",
         "showlegend": false,
         "type": "scatter",
         "x": [
          -1.391591639385606,
          -1.3042268315115002,
          -1.2045571211199142,
          0.20681519763501174,
          0.313867849537086,
          0.4159985404321672,
          0.491058445788794,
          0.5353560948517205,
          0.655944139523022,
          0.6645575712852578,
          0.7433089473971283,
          0.8257517942642427,
          0.5599658998866808,
          0.6854759055649736,
          0.728543064376152,
          0.8651274823201779,
          0.8675884628236734,
          0.9377264071733088,
          1.242887989606805,
          1.2810331874109926,
          1.2982600509354643,
          1.5012909424738798,
          1.7781512491171738,
          1.824909878683597,
          -0.9264663242248723,
          -0.8612503408822295,
          -0.6877512153857652,
          -0.5240960119032845,
          -0.48102885309210563,
          -0.44657512604316263,
          -0.42934826251869096,
          -0.4035079672319834,
          -0.47241542132986974,
          -0.3370614936375929,
          -0.2878418835676737,
          -0.23000884173551905,
          -1.4703430154974766,
          -1.2869999679870285,
          -1.0544373104066616,
          -0.975685934294791,
          -0.8624808311339772,
          -0.8329490650920265,
          -0.7640416109941397,
          -0.6176132710361311,
          -0.5757766024766996,
          -0.5523972876934883,
          -0.5536277779452361,
          -0.4834898335956015,
          0.8614360115649339,
          1.0152472930334306,
          1.122299944935505,
          1.267497794641765,
          1.2047427918026186,
          1.322869855970424,
          1.3782419172990823,
          1.5234397670053432,
          1.5554325135507912,
          1.5960386918584741,
          1.785534190627662,
          1.989795572417826,
          -1.4198929151758095,
          -1.2697731044625569,
          -1.1270362352597918,
          -1.019983583357718,
          -0.9498456390080835,
          -0.8489454383647496,
          -0.7628111207423915,
          -0.7394318059591799,
          -0.7665025914976356,
          -0.7049780789102369,
          -0.5204045411480408,
          -0.47487640183336566,
          0.09114911397070248,
          0.2105066683902558,
          0.27818363223639403,
          0.3310947130615573,
          0.44060834546712657,
          0.551352468124444,
          0.7088552203481848,
          0.7297735546279006,
          0.8282127747677381,
          0.8429786577887135,
          0.9537227804460319,
          0.9721801342222514,
          0.5390475656069642,
          0.6067245294531033,
          0.6067245294531033,
          0.6202599222223308,
          0.4873669750335499,
          0.6325648247398108,
          0.6571746297747706,
          0.6694795322922497,
          0.7999114989775352,
          0.8577445408096898,
          0.9488008194390402,
          1.0447790590753823,
          0.6067245294531033,
          0.6473307077607862,
          0.7408479668936329,
          0.8749714043341615,
          0.9660276829635109,
          1.0152472930334306,
          1.058314451844609,
          1.162906123243187,
          1.3044125021942037,
          1.4533018226557095,
          0.9192690533970885,
          0.9820240562362349,
          0.15390411680984847,
          0.288027554250378,
          0.4787535432713141,
          0.6005720781943629,
          0.6842454153132259,
          0.7568443401663559,
          0.8257517942642427,
          1.0103253320264387,
          1.1641366134949356,
          1.3683979952850998,
          1.5062129034808724,
          1.5701983965717665,
          -0.5302484631620245,
          -0.44903610654665854,
          -0.4108909087424711,
          -0.5794680732319436,
          -0.5080996386305613,
          -0.42196532100820283,
          -0.3715152206865363,
          -0.31860413986137304,
          -0.21647344896629098,
          -0.05281824548381067,
          0.050542935663019116,
          0.03946852339728737,
          -0.6717548421130417,
          -0.5708546414697078,
          -0.4059689477354793,
          -0.3505968864068206,
          -0.2533881565187303,
          -0.14018305335791692,
          -0.02943893070059945,
          0.024702640376311123,
          0.04192950390078326,
          0.15636509731334525,
          0.3815448133832238,
          0.4541437382363547,
          -1.1479545695395077,
          -1.0187530931059703,
          -0.9572285805185716,
          -0.8600198506304818,
          -0.7984953380430831,
          -0.857558870126986,
          -0.8255661235815384,
          -0.746814747469668,
          -0.6705243518612934,
          -0.5487058169382443,
          -0.29645531532990954,
          -0.280458942057186,
          0.9389568974250556,
          1.1050730814110323,
          1.3437881902501398,
          1.4594542739144492,
          1.6194180066416852,
          1.7043218340122952,
          1.8064525249073777,
          1.813835466417866,
          1.8433672324598167,
          2.1042311658303876,
          2.491835595130999,
          2.537363734445674,
          -1.7644301856652422,
          -1.6647604752736567,
          -1.5921615504205262,
          -1.5134101743086557,
          -1.4531161519730047,
          -1.417431934672314,
          -1.299304870504508,
          -1.2033266308681665,
          -1.1491850597912554,
          -1.0975044692178406,
          -1.060589761665401,
          -1.0126006418472304,
          -0.39366404521799936,
          -0.24354423450474627,
          -0.02943893070059945,
          -0.044204813721574816,
          0.09607107497769383,
          0.19820176587277588,
          0.25603480770493053,
          0.26218725896367046,
          0.376622852376232,
          0.6141074709635914,
          0.7556138499146082,
          0.8368262065299741,
          0.20435421713151586,
          0.3064849080265979,
          0.4393778552153784,
          0.668249042040502,
          0.868818953075422,
          0.9278824851593244,
          0.9930984685019671,
          1.1075340619145286,
          1.3720894660403429,
          1.4237700566137579,
          1.5259007475088395,
          1.7498499733269708,
          0.491058445788794,
          0.6620965907817615,
          0.9488008194390402,
          1.4065431930892862,
          0.9180385631453407,
          1.0890767081383084,
          0.8638969920684302,
          1.3093344632011965,
          1.6834034997325804,
          1.5788118283340025,
          2.0870043023059157,
          2.2568119570471366,
          -1.3079183022667444,
          -1.1356496670220277,
          -1.0089091710919862,
          -0.8317185748402779,
          -0.7763465135116192,
          -0.7652721012458878,
          -0.5733156219732036,
          -0.3026077665886495,
          -0.06020118699429879,
          0.07638323094972667,
          0.24126892468395514,
          0.19574078536928,
          0.21419813914549987,
          0.294180005509118,
          0.3901582451454601,
          0.45783520899159874,
          0.5624268803901763,
          0.6374867857468026,
          0.7974505184740388,
          0.913116602138349,
          1.1321438669494877,
          1.3573235830193675,
          1.5209787865018478,
          1.663715655704613,
          -0.8144917113158067,
          -0.6680633713577976,
          -0.543783855931252,
          -0.39981649647673934,
          -0.3382919838893406,
          -0.2878418835676737,
          -0.18817217317608753,
          -0.08604148228100635,
          0.07146126994273444,
          0.12929431177488906,
          0.08745764321545842,
          0.16251754857208475,
          -1.3780562466163784,
          -1.210709572378654,
          -1.0716641739311332,
          -0.8071087698053185,
          -0.6545279785885699,
          -0.5696241512179601,
          -0.5056386581270654,
          -0.39366404521799936,
          -0.2029380561970638,
          -0.0688146187565342,
          0.19697127562102815,
          0.2351164734252152,
          -1.7558167539030067,
          -1.6770653777911362,
          -1.6290762579729652,
          -1.5761651771478022,
          -1.5269455670778833,
          -1.5318675280848753,
          -1.483878408266704,
          -1.4752649765044685,
          -1.4100489931618259,
          -1.3989745808960938,
          -1.3657513440988989,
          -1.2746950654695486,
          -1.2746950654695486,
          -1.1836387868401983,
          -1.118422803497556,
          -1.0975044692178406,
          -1.0089091710919862,
          -0.895704067931173,
          -0.7824989647703591,
          -0.6397620955675941,
          -0.5019471873718214,
          -0.42934826251869096,
          -0.34321394489633245,
          -0.1697148193998681,
          -0.7591196499871479,
          -0.5782375829801955,
          -0.38505061345576397,
          -0.31122119835088535,
          -0.10942079706421758,
          -0.02943893070059945,
          0.125602841019645,
          0.1588260778168407,
          0.2080456878867599,
          0.484905994530054,
          1.0189387637886747,
          1.0029423905159507,
          0.17974441209655645,
          0.2572652979566787,
          0.37785334262798015,
          0.459065699243346,
          0.5279731533412328,
          0.6387172759985503,
          0.7211601228656648,
          0.8380566967817227,
          0.9881765074949753,
          1.1284523961942443,
          1.271189265397009,
          1.3425576999983913,
          0.3470910863342808,
          0.4787535432713141,
          0.6497916882642825,
          0.8036029697327792,
          0.9401873876768042,
          1.081693766627821,
          1.1518317109774556,
          1.2810331874109926,
          1.3819333880543263,
          1.4262310371172542,
          1.5332836890193278,
          1.6797120289773364
         ],
         "xaxis": "x",
         "y": [
          1.07512469036187,
          1.261656080920897,
          1.1506567675248562,
          1.0396574541288153,
          0.9332557454296511,
          0.7848187937876085,
          0.9595277722689514,
          1.1000831158592048,
          1.163135980273523,
          1.1289823453824337,
          0.991054204476111,
          0.9043565159064223,
          0.9253741373778621,
          0.7335883414509734,
          0.7138843213214991,
          0.6941803011920248,
          0.6836714904563049,
          0.6337546394616352,
          0.681044287772374,
          0.6757898824045148,
          0.5982874032285804,
          0.5588793629696307,
          0.5207849240526462,
          0.5917193965187557,
          -3.3096765891172453,
          -3.1888252656564666,
          -3.033163506633616,
          -2.8775017476107654,
          -2.878815348952731,
          -2.225955481996133,
          -1.9382767881058025,
          -1.8358158834325335,
          -1.7162781613137197,
          -1.5008475412314628,
          -1.362919400325139,
          -1.2381272728384658,
          -1.0318918621499635,
          -0.981975011155295,
          -0.9176085453990103,
          -0.8532420796427256,
          -1.209228043315236,
          -1.465380304998408,
          -1.428599467423389,
          -1.282789718465275,
          -1.186896820501832,
          -0.6916691145810335,
          -0.3724639884835421,
          -0.3724639884835421,
          0.00979400202826856,
          0.0754740691265175,
          -0.4348600522268787,
          -0.9451941735802748,
          -1.133039165481267,
          -1.034519064833893,
          -0.8493012756168317,
          -0.4762384944987754,
          -0.3278015428567329,
          -0.24373105697097389,
          -0.24635825965490357,
          -0.3658959817737173,
          -0.06376767312177058,
          -0.15571976705931978,
          -0.014507622798084152,
          0.12670452146315145,
          0.2462422435819652,
          0.26331906102750985,
          0.3973063979079386,
          0.5825241871250012,
          0.6600266663009343,
          0.7309611387670438,
          0.6718490783786196,
          0.5733289777312456,
          1.901379934457844,
          1.6872629157175514,
          1.578234004334458,
          1.4692050929513647,
          1.4678914916093995,
          1.46263708624154,
          1.5059859305263839,
          1.565097990914808,
          1.6255236526451975,
          1.5913700177541081,
          1.612387639225548,
          1.5467075721272991,
          -1.4167770553457038,
          -1.2906713265170653,
          -1.2887009245041177,
          -1.2867305224911703,
          -1.1711336043982516,
          -1.0476550782535439,
          -0.8795141064820259,
          -0.6772194998194185,
          -0.5077649267059351,
          -0.28839350259778307,
          -0.08872609861910542,
          0.061024454364902524,
          1.5375123627335434,
          1.2879281077601972,
          1.2990937191668992,
          1.3102593305736012,
          1.319454539967357,
          1.393016215117396,
          1.6071332338576874,
          1.7870966177068908,
          1.8396406713854903,
          1.882989515670334,
          1.8554038874890695,
          1.8330726646756654,
          0.4432824448767132,
          0.4669272690320826,
          0.34279194221639164,
          0.21865661540070067,
          0.09123728523009673,
          0.043947636919357866,
          0.1056868999917117,
          0.2409878382141047,
          0.3355671348355836,
          0.36972076972667406,
          0.3657799657007789,
          0.33162633080968845,
          0.21471581137480558,
          0.34607594557130344,
          0.397306397907938,
          0.4485368502445725,
          0.7690555776840282,
          0.7125707199795337,
          0.7309611387670438,
          0.757233165606344,
          0.8767708877251567,
          0.9805453937403912,
          0.8215996313626276,
          0.6350682408036006,
          -0.3619551777478222,
          -1.278848914439381,
          -1.6584797022672608,
          -2.0381104900951406,
          -1.8069166539093036,
          -1.5520779935680968,
          -1.3799962177706848,
          -1.4732619130501983,
          -1.1737608070821823,
          -0.9005317279534656,
          -0.6049714260113437,
          -0.6273026488247488,
          -1.925140774686153,
          -2.145825800136269,
          -2.1294057833617073,
          -2.1129857665871454,
          -1.6597933036092263,
          -1.424658663397494,
          -1.0358326661758586,
          -0.854555680984691,
          -0.536664156229165,
          -0.5471729669648849,
          -0.42369444082017604,
          -0.4828065012086002,
          1.1499999668538734,
          0.8767708877251567,
          0.7874459964715383,
          0.6981211052179199,
          0.654772260933075,
          0.7467243548706242,
          0.7467243548706242,
          0.8045228139170829,
          0.9004157118805273,
          0.888593299802842,
          0.8307948407563832,
          0.6600266663009343,
          0.22259741942659578,
          -0.5090785280479004,
          -0.5570249770296221,
          -0.6049714260113437,
          -0.5668769870943592,
          -0.5839538045399039,
          -0.536664156229165,
          -0.24373105697097389,
          -0.02830043688871701,
          0.0978052919399215,
          0.07678767046848176,
          -0.004655612733346416,
          -2.162902617581815,
          -1.7898398364637589,
          -1.7556862015726695,
          -1.7215325666815802,
          -1.1146487466937582,
          -0.7337043575239129,
          -0.6246754461408192,
          -0.6154802367470635,
          -0.602344223327414,
          -0.4946289132862855,
          -0.3002159146754684,
          -0.25686707039062345,
          -1.077867909118738,
          -1.2906713265170653,
          -1.023353453427191,
          -0.756035580337317,
          -0.7823076071766173,
          -0.6653970877417332,
          -0.5997170206434843,
          -0.34093755627638245,
          -0.25423986770669377,
          -0.2016958140280944,
          0.049202042287217224,
          0.4656136676901172,
          0.8439308541760328,
          0.8478716582019279,
          0.7769371857358184,
          0.7060027132697089,
          0.607482612622336,
          0.5969738018866162,
          0.6587130649589701,
          0.8951613065126667,
          1.089574305123485,
          1.202544020532473,
          1.3076321278896716,
          1.0764382917038342,
          -0.5892082099077643,
          -0.5839538045399039,
          -0.3619551777478222,
          -0.13995655095574056,
          0.10437329864974745,
          0.1556037509863814,
          0.2869638851828793,
          0.4170104180374129,
          0.47874968110976673,
          0.2541238516337554,
          0.05051564362918264,
          -0.14258375363967024,
          1.4495010728218893,
          1.4495010728218893,
          1.361489782910236,
          1.2734784929985823,
          1.2222480406619483,
          1.2721648916566168,
          1.3562353775423759,
          1.4179746406147309,
          1.3667441882780957,
          1.3864482084075713,
          1.3220817426512865,
          1.3063185265477062,
          -0.7954436205962668,
          -0.770485195098932,
          -0.7908460158993891,
          -0.8112068366998461,
          -0.7534083776533873,
          -0.5721313924622198,
          -0.37509119116747175,
          -0.2975887119915375,
          -0.2923343066236782,
          -0.3186063334629773,
          -0.37509119116747175,
          -0.19512780731826962,
          -1.420717859371599,
          -1.7175917626556851,
          -1.7169349619847023,
          -1.7162781613137197,
          -1.6886925331324552,
          -1.5941132365109763,
          -1.311688947988505,
          -0.9399397682124154,
          -0.653574675664049,
          -0.6299298515086785,
          -0.5156465347577253,
          -0.5786993991720445,
          -1.6164444593243814,
          -1.8069166539093036,
          -1.7471477928498973,
          -1.6873789317904908,
          -1.1566839896366377,
          -0.7665443910730368,
          -0.6089122300372387,
          -0.4447120622916158,
          -0.3737775898255075,
          -0.35275996835406775,
          0.08992368388813247,
          0.23704703418821074,
          -0.9872294165231543,
          -0.5773857978300792,
          -0.5603089803845345,
          -0.5432321629389898,
          -0.43420325155589595,
          -0.4079312247165968,
          -0.30941112406922283,
          -0.27657109052009776,
          -0.1675421791370051,
          -0.10186211203875498,
          -0.02304603152085649,
          0.0794148731524126,
          -0.6391250609024342,
          -0.4578480757112665,
          -0.5970898179595545,
          -0.7363315602078426,
          -0.8414196675650414,
          -0.854555680984691,
          -0.6049714260113437,
          -0.3816591978772966,
          -0.05982686909587548,
          0.06890606241669273,
          0.2909046892087744,
          0.3171767160480747,
          0.4629864650061875,
          -0.11368452411644028,
          -0.10908691941956306,
          -0.10448931472268583,
          -0.06245407177980632,
          -0.007282815417277259,
          -0.12944774022002067,
          -0.07164928117356077,
          -0.009910018101206937,
          0.10831410267564139,
          0.08861008254616705,
          0.03606602886756767,
          1.2747920943405464,
          1.407465829879011,
          1.3312769520450416,
          1.2550880742110722,
          1.1591951762476291,
          1.1499999668538734,
          1.1894080071128232,
          1.2275024460298076,
          1.2406384594494573,
          1.2537744728691078,
          1.2813601010503723,
          1.2958097158119863
         ],
         "yaxis": "y"
        }
       ],
       "layout": {
        "coloraxis": {
         "colorbar": {
          "title": {
           "text": "year"
          }
         },
         "colorscale": [
          [
           0,
           "#0d0887"
          ],
          [
           0.1111111111111111,
           "#46039f"
          ],
          [
           0.2222222222222222,
           "#7201a8"
          ],
          [
           0.3333333333333333,
           "#9c179e"
          ],
          [
           0.4444444444444444,
           "#bd3786"
          ],
          [
           0.5555555555555556,
           "#d8576b"
          ],
          [
           0.6666666666666666,
           "#ed7953"
          ],
          [
           0.7777777777777778,
           "#fb9f3a"
          ],
          [
           0.8888888888888888,
           "#fdca26"
          ],
          [
           1,
           "#f0f921"
          ]
         ]
        },
        "legend": {
         "tracegroupgap": 0
        },
        "template": {
         "data": {
          "bar": [
           {
            "error_x": {
             "color": "#2a3f5f"
            },
            "error_y": {
             "color": "#2a3f5f"
            },
            "marker": {
             "line": {
              "color": "#E5ECF6",
              "width": 0.5
             },
             "pattern": {
              "fillmode": "overlay",
              "size": 10,
              "solidity": 0.2
             }
            },
            "type": "bar"
           }
          ],
          "barpolar": [
           {
            "marker": {
             "line": {
              "color": "#E5ECF6",
              "width": 0.5
             },
             "pattern": {
              "fillmode": "overlay",
              "size": 10,
              "solidity": 0.2
             }
            },
            "type": "barpolar"
           }
          ],
          "carpet": [
           {
            "aaxis": {
             "endlinecolor": "#2a3f5f",
             "gridcolor": "white",
             "linecolor": "white",
             "minorgridcolor": "white",
             "startlinecolor": "#2a3f5f"
            },
            "baxis": {
             "endlinecolor": "#2a3f5f",
             "gridcolor": "white",
             "linecolor": "white",
             "minorgridcolor": "white",
             "startlinecolor": "#2a3f5f"
            },
            "type": "carpet"
           }
          ],
          "choropleth": [
           {
            "colorbar": {
             "outlinewidth": 0,
             "ticks": ""
            },
            "type": "choropleth"
           }
          ],
          "contour": [
           {
            "colorbar": {
             "outlinewidth": 0,
             "ticks": ""
            },
            "colorscale": [
             [
              0,
              "#0d0887"
             ],
             [
              0.1111111111111111,
              "#46039f"
             ],
             [
              0.2222222222222222,
              "#7201a8"
             ],
             [
              0.3333333333333333,
              "#9c179e"
             ],
             [
              0.4444444444444444,
              "#bd3786"
             ],
             [
              0.5555555555555556,
              "#d8576b"
             ],
             [
              0.6666666666666666,
              "#ed7953"
             ],
             [
              0.7777777777777778,
              "#fb9f3a"
             ],
             [
              0.8888888888888888,
              "#fdca26"
             ],
             [
              1,
              "#f0f921"
             ]
            ],
            "type": "contour"
           }
          ],
          "contourcarpet": [
           {
            "colorbar": {
             "outlinewidth": 0,
             "ticks": ""
            },
            "type": "contourcarpet"
           }
          ],
          "heatmap": [
           {
            "colorbar": {
             "outlinewidth": 0,
             "ticks": ""
            },
            "colorscale": [
             [
              0,
              "#0d0887"
             ],
             [
              0.1111111111111111,
              "#46039f"
             ],
             [
              0.2222222222222222,
              "#7201a8"
             ],
             [
              0.3333333333333333,
              "#9c179e"
             ],
             [
              0.4444444444444444,
              "#bd3786"
             ],
             [
              0.5555555555555556,
              "#d8576b"
             ],
             [
              0.6666666666666666,
              "#ed7953"
             ],
             [
              0.7777777777777778,
              "#fb9f3a"
             ],
             [
              0.8888888888888888,
              "#fdca26"
             ],
             [
              1,
              "#f0f921"
             ]
            ],
            "type": "heatmap"
           }
          ],
          "heatmapgl": [
           {
            "colorbar": {
             "outlinewidth": 0,
             "ticks": ""
            },
            "colorscale": [
             [
              0,
              "#0d0887"
             ],
             [
              0.1111111111111111,
              "#46039f"
             ],
             [
              0.2222222222222222,
              "#7201a8"
             ],
             [
              0.3333333333333333,
              "#9c179e"
             ],
             [
              0.4444444444444444,
              "#bd3786"
             ],
             [
              0.5555555555555556,
              "#d8576b"
             ],
             [
              0.6666666666666666,
              "#ed7953"
             ],
             [
              0.7777777777777778,
              "#fb9f3a"
             ],
             [
              0.8888888888888888,
              "#fdca26"
             ],
             [
              1,
              "#f0f921"
             ]
            ],
            "type": "heatmapgl"
           }
          ],
          "histogram": [
           {
            "marker": {
             "pattern": {
              "fillmode": "overlay",
              "size": 10,
              "solidity": 0.2
             }
            },
            "type": "histogram"
           }
          ],
          "histogram2d": [
           {
            "colorbar": {
             "outlinewidth": 0,
             "ticks": ""
            },
            "colorscale": [
             [
              0,
              "#0d0887"
             ],
             [
              0.1111111111111111,
              "#46039f"
             ],
             [
              0.2222222222222222,
              "#7201a8"
             ],
             [
              0.3333333333333333,
              "#9c179e"
             ],
             [
              0.4444444444444444,
              "#bd3786"
             ],
             [
              0.5555555555555556,
              "#d8576b"
             ],
             [
              0.6666666666666666,
              "#ed7953"
             ],
             [
              0.7777777777777778,
              "#fb9f3a"
             ],
             [
              0.8888888888888888,
              "#fdca26"
             ],
             [
              1,
              "#f0f921"
             ]
            ],
            "type": "histogram2d"
           }
          ],
          "histogram2dcontour": [
           {
            "colorbar": {
             "outlinewidth": 0,
             "ticks": ""
            },
            "colorscale": [
             [
              0,
              "#0d0887"
             ],
             [
              0.1111111111111111,
              "#46039f"
             ],
             [
              0.2222222222222222,
              "#7201a8"
             ],
             [
              0.3333333333333333,
              "#9c179e"
             ],
             [
              0.4444444444444444,
              "#bd3786"
             ],
             [
              0.5555555555555556,
              "#d8576b"
             ],
             [
              0.6666666666666666,
              "#ed7953"
             ],
             [
              0.7777777777777778,
              "#fb9f3a"
             ],
             [
              0.8888888888888888,
              "#fdca26"
             ],
             [
              1,
              "#f0f921"
             ]
            ],
            "type": "histogram2dcontour"
           }
          ],
          "mesh3d": [
           {
            "colorbar": {
             "outlinewidth": 0,
             "ticks": ""
            },
            "type": "mesh3d"
           }
          ],
          "parcoords": [
           {
            "line": {
             "colorbar": {
              "outlinewidth": 0,
              "ticks": ""
             }
            },
            "type": "parcoords"
           }
          ],
          "pie": [
           {
            "automargin": true,
            "type": "pie"
           }
          ],
          "scatter": [
           {
            "fillpattern": {
             "fillmode": "overlay",
             "size": 10,
             "solidity": 0.2
            },
            "type": "scatter"
           }
          ],
          "scatter3d": [
           {
            "line": {
             "colorbar": {
              "outlinewidth": 0,
              "ticks": ""
             }
            },
            "marker": {
             "colorbar": {
              "outlinewidth": 0,
              "ticks": ""
             }
            },
            "type": "scatter3d"
           }
          ],
          "scattercarpet": [
           {
            "marker": {
             "colorbar": {
              "outlinewidth": 0,
              "ticks": ""
             }
            },
            "type": "scattercarpet"
           }
          ],
          "scattergeo": [
           {
            "marker": {
             "colorbar": {
              "outlinewidth": 0,
              "ticks": ""
             }
            },
            "type": "scattergeo"
           }
          ],
          "scattergl": [
           {
            "marker": {
             "colorbar": {
              "outlinewidth": 0,
              "ticks": ""
             }
            },
            "type": "scattergl"
           }
          ],
          "scattermapbox": [
           {
            "marker": {
             "colorbar": {
              "outlinewidth": 0,
              "ticks": ""
             }
            },
            "type": "scattermapbox"
           }
          ],
          "scatterpolar": [
           {
            "marker": {
             "colorbar": {
              "outlinewidth": 0,
              "ticks": ""
             }
            },
            "type": "scatterpolar"
           }
          ],
          "scatterpolargl": [
           {
            "marker": {
             "colorbar": {
              "outlinewidth": 0,
              "ticks": ""
             }
            },
            "type": "scatterpolargl"
           }
          ],
          "scatterternary": [
           {
            "marker": {
             "colorbar": {
              "outlinewidth": 0,
              "ticks": ""
             }
            },
            "type": "scatterternary"
           }
          ],
          "surface": [
           {
            "colorbar": {
             "outlinewidth": 0,
             "ticks": ""
            },
            "colorscale": [
             [
              0,
              "#0d0887"
             ],
             [
              0.1111111111111111,
              "#46039f"
             ],
             [
              0.2222222222222222,
              "#7201a8"
             ],
             [
              0.3333333333333333,
              "#9c179e"
             ],
             [
              0.4444444444444444,
              "#bd3786"
             ],
             [
              0.5555555555555556,
              "#d8576b"
             ],
             [
              0.6666666666666666,
              "#ed7953"
             ],
             [
              0.7777777777777778,
              "#fb9f3a"
             ],
             [
              0.8888888888888888,
              "#fdca26"
             ],
             [
              1,
              "#f0f921"
             ]
            ],
            "type": "surface"
           }
          ],
          "table": [
           {
            "cells": {
             "fill": {
              "color": "#EBF0F8"
             },
             "line": {
              "color": "white"
             }
            },
            "header": {
             "fill": {
              "color": "#C8D4E3"
             },
             "line": {
              "color": "white"
             }
            },
            "type": "table"
           }
          ]
         },
         "layout": {
          "annotationdefaults": {
           "arrowcolor": "#2a3f5f",
           "arrowhead": 0,
           "arrowwidth": 1
          },
          "autotypenumbers": "strict",
          "coloraxis": {
           "colorbar": {
            "outlinewidth": 0,
            "ticks": ""
           }
          },
          "colorscale": {
           "diverging": [
            [
             0,
             "#8e0152"
            ],
            [
             0.1,
             "#c51b7d"
            ],
            [
             0.2,
             "#de77ae"
            ],
            [
             0.3,
             "#f1b6da"
            ],
            [
             0.4,
             "#fde0ef"
            ],
            [
             0.5,
             "#f7f7f7"
            ],
            [
             0.6,
             "#e6f5d0"
            ],
            [
             0.7,
             "#b8e186"
            ],
            [
             0.8,
             "#7fbc41"
            ],
            [
             0.9,
             "#4d9221"
            ],
            [
             1,
             "#276419"
            ]
           ],
           "sequential": [
            [
             0,
             "#0d0887"
            ],
            [
             0.1111111111111111,
             "#46039f"
            ],
            [
             0.2222222222222222,
             "#7201a8"
            ],
            [
             0.3333333333333333,
             "#9c179e"
            ],
            [
             0.4444444444444444,
             "#bd3786"
            ],
            [
             0.5555555555555556,
             "#d8576b"
            ],
            [
             0.6666666666666666,
             "#ed7953"
            ],
            [
             0.7777777777777778,
             "#fb9f3a"
            ],
            [
             0.8888888888888888,
             "#fdca26"
            ],
            [
             1,
             "#f0f921"
            ]
           ],
           "sequentialminus": [
            [
             0,
             "#0d0887"
            ],
            [
             0.1111111111111111,
             "#46039f"
            ],
            [
             0.2222222222222222,
             "#7201a8"
            ],
            [
             0.3333333333333333,
             "#9c179e"
            ],
            [
             0.4444444444444444,
             "#bd3786"
            ],
            [
             0.5555555555555556,
             "#d8576b"
            ],
            [
             0.6666666666666666,
             "#ed7953"
            ],
            [
             0.7777777777777778,
             "#fb9f3a"
            ],
            [
             0.8888888888888888,
             "#fdca26"
            ],
            [
             1,
             "#f0f921"
            ]
           ]
          },
          "colorway": [
           "#636efa",
           "#EF553B",
           "#00cc96",
           "#ab63fa",
           "#FFA15A",
           "#19d3f3",
           "#FF6692",
           "#B6E880",
           "#FF97FF",
           "#FECB52"
          ],
          "font": {
           "color": "#2a3f5f"
          },
          "geo": {
           "bgcolor": "white",
           "lakecolor": "white",
           "landcolor": "#E5ECF6",
           "showlakes": true,
           "showland": true,
           "subunitcolor": "white"
          },
          "hoverlabel": {
           "align": "left"
          },
          "hovermode": "closest",
          "mapbox": {
           "style": "light"
          },
          "paper_bgcolor": "white",
          "plot_bgcolor": "#E5ECF6",
          "polar": {
           "angularaxis": {
            "gridcolor": "white",
            "linecolor": "white",
            "ticks": ""
           },
           "bgcolor": "#E5ECF6",
           "radialaxis": {
            "gridcolor": "white",
            "linecolor": "white",
            "ticks": ""
           }
          },
          "scene": {
           "xaxis": {
            "backgroundcolor": "#E5ECF6",
            "gridcolor": "white",
            "gridwidth": 2,
            "linecolor": "white",
            "showbackground": true,
            "ticks": "",
            "zerolinecolor": "white"
           },
           "yaxis": {
            "backgroundcolor": "#E5ECF6",
            "gridcolor": "white",
            "gridwidth": 2,
            "linecolor": "white",
            "showbackground": true,
            "ticks": "",
            "zerolinecolor": "white"
           },
           "zaxis": {
            "backgroundcolor": "#E5ECF6",
            "gridcolor": "white",
            "gridwidth": 2,
            "linecolor": "white",
            "showbackground": true,
            "ticks": "",
            "zerolinecolor": "white"
           }
          },
          "shapedefaults": {
           "line": {
            "color": "#2a3f5f"
           }
          },
          "ternary": {
           "aaxis": {
            "gridcolor": "white",
            "linecolor": "white",
            "ticks": ""
           },
           "baxis": {
            "gridcolor": "white",
            "linecolor": "white",
            "ticks": ""
           },
           "bgcolor": "#E5ECF6",
           "caxis": {
            "gridcolor": "white",
            "linecolor": "white",
            "ticks": ""
           }
          },
          "title": {
           "x": 0.05
          },
          "xaxis": {
           "automargin": true,
           "gridcolor": "white",
           "linecolor": "white",
           "ticks": "",
           "title": {
            "standoff": 15
           },
           "zerolinecolor": "white",
           "zerolinewidth": 2
          },
          "yaxis": {
           "automargin": true,
           "gridcolor": "white",
           "linecolor": "white",
           "ticks": "",
           "title": {
            "standoff": 15
           },
           "zerolinecolor": "white",
           "zerolinewidth": 2
          }
         }
        },
        "title": {
         "text": "Comparing Relationship of Tertiary Education and Quality of Life in Europe"
        },
        "xaxis": {
         "anchor": "y",
         "domain": [
          0,
          1
         ],
         "title": {
          "text": "Tertiary Education"
         }
        },
        "yaxis": {
         "anchor": "x",
         "domain": [
          0,
          1
         ],
         "title": {
          "text": "Quality of Life"
         }
        }
       }
      }
     },
     "metadata": {},
     "output_type": "display_data"
    }
   ],
   "source": [
    "fig = px.scatter(\n",
    "    combined,\n",
    "    x='education',\n",
    "    y='qol',\n",
    "    color='year',\n",
    "    opacity=0.5,\n",
    "    labels={'education': 'Tertiary Education', 'qol': 'Quality of Life'},\n",
    "    title='Comparing Relationship of Tertiary Education and Quality of Life in Europe',\n",
    "    hover_data=['country', 'year']\n",
    ")\n",
    "\n",
    "fig"
   ]
  },
  {
   "cell_type": "code",
   "execution_count": 147,
   "id": "ca21baa5",
   "metadata": {},
   "outputs": [
    {
     "data": {
      "application/vnd.plotly.v1+json": {
       "config": {
        "plotlyServerURL": "https://plot.ly"
       },
       "data": [
        {
         "customdata": [
          [
           "Austria",
           2011
          ],
          [
           "Austria",
           2012
          ],
          [
           "Austria",
           2013
          ],
          [
           "Austria",
           2014
          ],
          [
           "Austria",
           2015
          ],
          [
           "Austria",
           2016
          ],
          [
           "Austria",
           2017
          ],
          [
           "Austria",
           2018
          ],
          [
           "Austria",
           2019
          ],
          [
           "Austria",
           2020
          ],
          [
           "Austria",
           2021
          ],
          [
           "Austria",
           2022
          ],
          [
           "Belgium",
           2011
          ],
          [
           "Belgium",
           2012
          ],
          [
           "Belgium",
           2013
          ],
          [
           "Belgium",
           2014
          ],
          [
           "Belgium",
           2015
          ],
          [
           "Belgium",
           2016
          ],
          [
           "Belgium",
           2017
          ],
          [
           "Belgium",
           2018
          ],
          [
           "Belgium",
           2019
          ],
          [
           "Belgium",
           2020
          ],
          [
           "Belgium",
           2021
          ],
          [
           "Belgium",
           2022
          ],
          [
           "Bulgaria",
           2011
          ],
          [
           "Bulgaria",
           2012
          ],
          [
           "Bulgaria",
           2013
          ],
          [
           "Bulgaria",
           2014
          ],
          [
           "Bulgaria",
           2015
          ],
          [
           "Bulgaria",
           2016
          ],
          [
           "Bulgaria",
           2017
          ],
          [
           "Bulgaria",
           2018
          ],
          [
           "Bulgaria",
           2019
          ],
          [
           "Bulgaria",
           2020
          ],
          [
           "Bulgaria",
           2021
          ],
          [
           "Bulgaria",
           2022
          ],
          [
           "Croatia",
           2011
          ],
          [
           "Croatia",
           2012
          ],
          [
           "Croatia",
           2013
          ],
          [
           "Croatia",
           2014
          ],
          [
           "Croatia",
           2015
          ],
          [
           "Croatia",
           2016
          ],
          [
           "Croatia",
           2017
          ],
          [
           "Croatia",
           2018
          ],
          [
           "Croatia",
           2019
          ],
          [
           "Croatia",
           2020
          ],
          [
           "Croatia",
           2021
          ],
          [
           "Croatia",
           2022
          ],
          [
           "Cyprus",
           2011
          ],
          [
           "Cyprus",
           2012
          ],
          [
           "Cyprus",
           2013
          ],
          [
           "Cyprus",
           2014
          ],
          [
           "Cyprus",
           2015
          ],
          [
           "Cyprus",
           2016
          ],
          [
           "Cyprus",
           2017
          ],
          [
           "Cyprus",
           2018
          ],
          [
           "Cyprus",
           2019
          ],
          [
           "Cyprus",
           2020
          ],
          [
           "Cyprus",
           2021
          ],
          [
           "Cyprus",
           2022
          ],
          [
           "Czechia",
           2011
          ],
          [
           "Czechia",
           2012
          ],
          [
           "Czechia",
           2013
          ],
          [
           "Czechia",
           2014
          ],
          [
           "Czechia",
           2015
          ],
          [
           "Czechia",
           2016
          ],
          [
           "Czechia",
           2017
          ],
          [
           "Czechia",
           2018
          ],
          [
           "Czechia",
           2019
          ],
          [
           "Czechia",
           2020
          ],
          [
           "Czechia",
           2021
          ],
          [
           "Czechia",
           2022
          ],
          [
           "Denmark",
           2011
          ],
          [
           "Denmark",
           2012
          ],
          [
           "Denmark",
           2013
          ],
          [
           "Denmark",
           2014
          ],
          [
           "Denmark",
           2015
          ],
          [
           "Denmark",
           2016
          ],
          [
           "Denmark",
           2017
          ],
          [
           "Denmark",
           2018
          ],
          [
           "Denmark",
           2019
          ],
          [
           "Denmark",
           2020
          ],
          [
           "Denmark",
           2021
          ],
          [
           "Denmark",
           2022
          ],
          [
           "Estonia",
           2011
          ],
          [
           "Estonia",
           2012
          ],
          [
           "Estonia",
           2013
          ],
          [
           "Estonia",
           2014
          ],
          [
           "Estonia",
           2015
          ],
          [
           "Estonia",
           2016
          ],
          [
           "Estonia",
           2017
          ],
          [
           "Estonia",
           2018
          ],
          [
           "Estonia",
           2019
          ],
          [
           "Estonia",
           2020
          ],
          [
           "Estonia",
           2021
          ],
          [
           "Estonia",
           2022
          ],
          [
           "Finland",
           2011
          ],
          [
           "Finland",
           2012
          ],
          [
           "Finland",
           2013
          ],
          [
           "Finland",
           2014
          ],
          [
           "Finland",
           2015
          ],
          [
           "Finland",
           2016
          ],
          [
           "Finland",
           2017
          ],
          [
           "Finland",
           2018
          ],
          [
           "Finland",
           2019
          ],
          [
           "Finland",
           2020
          ],
          [
           "Finland",
           2021
          ],
          [
           "Finland",
           2022
          ],
          [
           "France",
           2011
          ],
          [
           "France",
           2012
          ],
          [
           "France",
           2013
          ],
          [
           "France",
           2014
          ],
          [
           "France",
           2015
          ],
          [
           "France",
           2016
          ],
          [
           "France",
           2017
          ],
          [
           "France",
           2018
          ],
          [
           "France",
           2019
          ],
          [
           "France",
           2020
          ],
          [
           "France",
           2021
          ],
          [
           "France",
           2022
          ],
          [
           "Germany",
           2011
          ],
          [
           "Germany",
           2012
          ],
          [
           "Germany",
           2013
          ],
          [
           "Germany",
           2014
          ],
          [
           "Germany",
           2015
          ],
          [
           "Germany",
           2016
          ],
          [
           "Germany",
           2017
          ],
          [
           "Germany",
           2018
          ],
          [
           "Germany",
           2019
          ],
          [
           "Germany",
           2020
          ],
          [
           "Germany",
           2021
          ],
          [
           "Germany",
           2022
          ],
          [
           "Greece",
           2011
          ],
          [
           "Greece",
           2012
          ],
          [
           "Greece",
           2013
          ],
          [
           "Greece",
           2014
          ],
          [
           "Greece",
           2015
          ],
          [
           "Greece",
           2016
          ],
          [
           "Greece",
           2017
          ],
          [
           "Greece",
           2018
          ],
          [
           "Greece",
           2019
          ],
          [
           "Greece",
           2020
          ],
          [
           "Greece",
           2021
          ],
          [
           "Greece",
           2022
          ],
          [
           "Hungary",
           2011
          ],
          [
           "Hungary",
           2012
          ],
          [
           "Hungary",
           2013
          ],
          [
           "Hungary",
           2014
          ],
          [
           "Hungary",
           2015
          ],
          [
           "Hungary",
           2016
          ],
          [
           "Hungary",
           2017
          ],
          [
           "Hungary",
           2018
          ],
          [
           "Hungary",
           2019
          ],
          [
           "Hungary",
           2020
          ],
          [
           "Hungary",
           2021
          ],
          [
           "Hungary",
           2022
          ],
          [
           "Ireland",
           2011
          ],
          [
           "Ireland",
           2012
          ],
          [
           "Ireland",
           2013
          ],
          [
           "Ireland",
           2014
          ],
          [
           "Ireland",
           2015
          ],
          [
           "Ireland",
           2016
          ],
          [
           "Ireland",
           2017
          ],
          [
           "Ireland",
           2018
          ],
          [
           "Ireland",
           2019
          ],
          [
           "Ireland",
           2020
          ],
          [
           "Ireland",
           2021
          ],
          [
           "Ireland",
           2022
          ],
          [
           "Italy",
           2011
          ],
          [
           "Italy",
           2012
          ],
          [
           "Italy",
           2013
          ],
          [
           "Italy",
           2014
          ],
          [
           "Italy",
           2015
          ],
          [
           "Italy",
           2016
          ],
          [
           "Italy",
           2017
          ],
          [
           "Italy",
           2018
          ],
          [
           "Italy",
           2019
          ],
          [
           "Italy",
           2020
          ],
          [
           "Italy",
           2021
          ],
          [
           "Italy",
           2022
          ],
          [
           "Latvia",
           2011
          ],
          [
           "Latvia",
           2012
          ],
          [
           "Latvia",
           2013
          ],
          [
           "Latvia",
           2014
          ],
          [
           "Latvia",
           2015
          ],
          [
           "Latvia",
           2016
          ],
          [
           "Latvia",
           2017
          ],
          [
           "Latvia",
           2018
          ],
          [
           "Latvia",
           2019
          ],
          [
           "Latvia",
           2020
          ],
          [
           "Latvia",
           2021
          ],
          [
           "Latvia",
           2022
          ],
          [
           "Lithuania",
           2011
          ],
          [
           "Lithuania",
           2012
          ],
          [
           "Lithuania",
           2013
          ],
          [
           "Lithuania",
           2014
          ],
          [
           "Lithuania",
           2015
          ],
          [
           "Lithuania",
           2016
          ],
          [
           "Lithuania",
           2017
          ],
          [
           "Lithuania",
           2018
          ],
          [
           "Lithuania",
           2019
          ],
          [
           "Lithuania",
           2020
          ],
          [
           "Lithuania",
           2021
          ],
          [
           "Lithuania",
           2022
          ],
          [
           "Luxembourg",
           2011
          ],
          [
           "Luxembourg",
           2012
          ],
          [
           "Luxembourg",
           2013
          ],
          [
           "Luxembourg",
           2014
          ],
          [
           "Luxembourg",
           2015
          ],
          [
           "Luxembourg",
           2016
          ],
          [
           "Luxembourg",
           2017
          ],
          [
           "Luxembourg",
           2018
          ],
          [
           "Luxembourg",
           2019
          ],
          [
           "Luxembourg",
           2020
          ],
          [
           "Luxembourg",
           2021
          ],
          [
           "Luxembourg",
           2022
          ],
          [
           "Malta",
           2011
          ],
          [
           "Malta",
           2012
          ],
          [
           "Malta",
           2013
          ],
          [
           "Malta",
           2014
          ],
          [
           "Malta",
           2015
          ],
          [
           "Malta",
           2016
          ],
          [
           "Malta",
           2017
          ],
          [
           "Malta",
           2018
          ],
          [
           "Malta",
           2019
          ],
          [
           "Malta",
           2020
          ],
          [
           "Malta",
           2021
          ],
          [
           "Malta",
           2022
          ],
          [
           "Netherlands",
           2011
          ],
          [
           "Netherlands",
           2012
          ],
          [
           "Netherlands",
           2013
          ],
          [
           "Netherlands",
           2014
          ],
          [
           "Netherlands",
           2015
          ],
          [
           "Netherlands",
           2016
          ],
          [
           "Netherlands",
           2017
          ],
          [
           "Netherlands",
           2018
          ],
          [
           "Netherlands",
           2019
          ],
          [
           "Netherlands",
           2020
          ],
          [
           "Netherlands",
           2021
          ],
          [
           "Netherlands",
           2022
          ],
          [
           "Poland",
           2011
          ],
          [
           "Poland",
           2012
          ],
          [
           "Poland",
           2013
          ],
          [
           "Poland",
           2014
          ],
          [
           "Poland",
           2015
          ],
          [
           "Poland",
           2016
          ],
          [
           "Poland",
           2017
          ],
          [
           "Poland",
           2018
          ],
          [
           "Poland",
           2019
          ],
          [
           "Poland",
           2020
          ],
          [
           "Poland",
           2021
          ],
          [
           "Poland",
           2022
          ],
          [
           "Portugal",
           2011
          ],
          [
           "Portugal",
           2012
          ],
          [
           "Portugal",
           2013
          ],
          [
           "Portugal",
           2014
          ],
          [
           "Portugal",
           2015
          ],
          [
           "Portugal",
           2016
          ],
          [
           "Portugal",
           2017
          ],
          [
           "Portugal",
           2018
          ],
          [
           "Portugal",
           2019
          ],
          [
           "Portugal",
           2020
          ],
          [
           "Portugal",
           2021
          ],
          [
           "Portugal",
           2022
          ],
          [
           "Romania",
           2011
          ],
          [
           "Romania",
           2012
          ],
          [
           "Romania",
           2013
          ],
          [
           "Romania",
           2014
          ],
          [
           "Romania",
           2015
          ],
          [
           "Romania",
           2016
          ],
          [
           "Romania",
           2017
          ],
          [
           "Romania",
           2018
          ],
          [
           "Romania",
           2019
          ],
          [
           "Romania",
           2020
          ],
          [
           "Romania",
           2021
          ],
          [
           "Romania",
           2022
          ],
          [
           "Slovakia",
           2011
          ],
          [
           "Slovakia",
           2012
          ],
          [
           "Slovakia",
           2013
          ],
          [
           "Slovakia",
           2014
          ],
          [
           "Slovakia",
           2015
          ],
          [
           "Slovakia",
           2016
          ],
          [
           "Slovakia",
           2017
          ],
          [
           "Slovakia",
           2018
          ],
          [
           "Slovakia",
           2019
          ],
          [
           "Slovakia",
           2020
          ],
          [
           "Slovakia",
           2021
          ],
          [
           "Slovakia",
           2022
          ],
          [
           "Slovenia",
           2011
          ],
          [
           "Slovenia",
           2012
          ],
          [
           "Slovenia",
           2013
          ],
          [
           "Slovenia",
           2014
          ],
          [
           "Slovenia",
           2015
          ],
          [
           "Slovenia",
           2016
          ],
          [
           "Slovenia",
           2017
          ],
          [
           "Slovenia",
           2018
          ],
          [
           "Slovenia",
           2019
          ],
          [
           "Slovenia",
           2020
          ],
          [
           "Slovenia",
           2021
          ],
          [
           "Slovenia",
           2022
          ],
          [
           "Spain",
           2011
          ],
          [
           "Spain",
           2012
          ],
          [
           "Spain",
           2013
          ],
          [
           "Spain",
           2014
          ],
          [
           "Spain",
           2015
          ],
          [
           "Spain",
           2016
          ],
          [
           "Spain",
           2017
          ],
          [
           "Spain",
           2018
          ],
          [
           "Spain",
           2019
          ],
          [
           "Spain",
           2020
          ],
          [
           "Spain",
           2021
          ],
          [
           "Spain",
           2022
          ],
          [
           "Sweden",
           2011
          ],
          [
           "Sweden",
           2012
          ],
          [
           "Sweden",
           2013
          ],
          [
           "Sweden",
           2014
          ],
          [
           "Sweden",
           2015
          ],
          [
           "Sweden",
           2016
          ],
          [
           "Sweden",
           2017
          ],
          [
           "Sweden",
           2018
          ],
          [
           "Sweden",
           2019
          ],
          [
           "Sweden",
           2020
          ],
          [
           "Sweden",
           2021
          ],
          [
           "Sweden",
           2022
          ]
         ],
         "hovertemplate": "Controlled Drug Crime=%{x}<br>Quality of Life=%{y}<br>country=%{customdata[0]}<br>year=%{marker.color}<extra></extra>",
         "legendgroup": "",
         "marker": {
          "color": [
           2011,
           2012,
           2013,
           2014,
           2015,
           2016,
           2017,
           2018,
           2019,
           2020,
           2021,
           2022,
           2011,
           2012,
           2013,
           2014,
           2015,
           2016,
           2017,
           2018,
           2019,
           2020,
           2021,
           2022,
           2011,
           2012,
           2013,
           2014,
           2015,
           2016,
           2017,
           2018,
           2019,
           2020,
           2021,
           2022,
           2011,
           2012,
           2013,
           2014,
           2015,
           2016,
           2017,
           2018,
           2019,
           2020,
           2021,
           2022,
           2011,
           2012,
           2013,
           2014,
           2015,
           2016,
           2017,
           2018,
           2019,
           2020,
           2021,
           2022,
           2011,
           2012,
           2013,
           2014,
           2015,
           2016,
           2017,
           2018,
           2019,
           2020,
           2021,
           2022,
           2011,
           2012,
           2013,
           2014,
           2015,
           2016,
           2017,
           2018,
           2019,
           2020,
           2021,
           2022,
           2011,
           2012,
           2013,
           2014,
           2015,
           2016,
           2017,
           2018,
           2019,
           2020,
           2021,
           2022,
           2011,
           2012,
           2013,
           2014,
           2015,
           2016,
           2017,
           2018,
           2019,
           2020,
           2021,
           2022,
           2011,
           2012,
           2013,
           2014,
           2015,
           2016,
           2017,
           2018,
           2019,
           2020,
           2021,
           2022,
           2011,
           2012,
           2013,
           2014,
           2015,
           2016,
           2017,
           2018,
           2019,
           2020,
           2021,
           2022,
           2011,
           2012,
           2013,
           2014,
           2015,
           2016,
           2017,
           2018,
           2019,
           2020,
           2021,
           2022,
           2011,
           2012,
           2013,
           2014,
           2015,
           2016,
           2017,
           2018,
           2019,
           2020,
           2021,
           2022,
           2011,
           2012,
           2013,
           2014,
           2015,
           2016,
           2017,
           2018,
           2019,
           2020,
           2021,
           2022,
           2011,
           2012,
           2013,
           2014,
           2015,
           2016,
           2017,
           2018,
           2019,
           2020,
           2021,
           2022,
           2011,
           2012,
           2013,
           2014,
           2015,
           2016,
           2017,
           2018,
           2019,
           2020,
           2021,
           2022,
           2011,
           2012,
           2013,
           2014,
           2015,
           2016,
           2017,
           2018,
           2019,
           2020,
           2021,
           2022,
           2011,
           2012,
           2013,
           2014,
           2015,
           2016,
           2017,
           2018,
           2019,
           2020,
           2021,
           2022,
           2011,
           2012,
           2013,
           2014,
           2015,
           2016,
           2017,
           2018,
           2019,
           2020,
           2021,
           2022,
           2011,
           2012,
           2013,
           2014,
           2015,
           2016,
           2017,
           2018,
           2019,
           2020,
           2021,
           2022,
           2011,
           2012,
           2013,
           2014,
           2015,
           2016,
           2017,
           2018,
           2019,
           2020,
           2021,
           2022,
           2011,
           2012,
           2013,
           2014,
           2015,
           2016,
           2017,
           2018,
           2019,
           2020,
           2021,
           2022,
           2011,
           2012,
           2013,
           2014,
           2015,
           2016,
           2017,
           2018,
           2019,
           2020,
           2021,
           2022,
           2011,
           2012,
           2013,
           2014,
           2015,
           2016,
           2017,
           2018,
           2019,
           2020,
           2021,
           2022,
           2011,
           2012,
           2013,
           2014,
           2015,
           2016,
           2017,
           2018,
           2019,
           2020,
           2021,
           2022,
           2011,
           2012,
           2013,
           2014,
           2015,
           2016,
           2017,
           2018,
           2019,
           2020,
           2021,
           2022,
           2011,
           2012,
           2013,
           2014,
           2015,
           2016,
           2017,
           2018,
           2019,
           2020,
           2021,
           2022
          ],
          "coloraxis": "coloraxis",
          "opacity": 0.5,
          "symbol": "circle"
         },
         "mode": "markers",
         "name": "",
         "orientation": "v",
         "showlegend": false,
         "type": "scatter",
         "x": [
          -0.44143324682081264,
          -0.44647089828964365,
          -0.06115162336611681,
          -0.031643198247176305,
          0.028136932516285174,
          0.07629993368041207,
          0.1749768400274537,
          0.15174258082878456,
          0.1912805120538523,
          0.14575846150823377,
          0.06448435114442659,
          0.06098852633726809,
          -0.26580239788474924,
          -0.30382903366916764,
          -0.3025314567756809,
          0.3647741755182904,
          0.3269917895020577,
          0.37162843463800294,
          0.4124334115355342,
          0.4358203268393194,
          0.4962568788547801,
          0.46798496818727997,
          0.38851219986384267,
          0.4074720881192612,
          -0.4332050827550553,
          -0.4316632560933828,
          -0.4302588199263147,
          -0.4274041507606438,
          -0.41563436505619317,
          -0.4045210006037417,
          -0.4006893323653278,
          -0.3923390434154776,
          -0.39334657370924375,
          -0.40181898754318685,
          -0.4018342531536985,
          -0.3950868533075672,
          -0.35828146636407754,
          -0.3654868345255571,
          -0.43589183020509853,
          -0.4355254555528199,
          -0.43346459813375265,
          -0.29950886589438225,
          -0.29654733745513007,
          -0.3058898910882349,
          -0.3059051566987465,
          -0.33616159673275586,
          -0.3402069835183323,
          -0.3366348306586157,
          -0.46256085176887973,
          -0.46112588438078844,
          -0.4616449151381832,
          -0.460362603855208,
          -0.4626524454319494,
          -0.4634767883995763,
          -0.4624997893268333,
          -0.45941613600348824,
          -0.46109535315976524,
          -0.4639347567149245,
          -0.4640568815990174,
          -0.4612022124333465,
          -0.4213589689980466,
          -0.41862642471646855,
          -0.3987353342198418,
          -0.3914078411742694,
          -0.39214059047882666,
          -0.3918658094896177,
          -0.3913773099532462,
          -0.39342290176180184,
          -0.40328448615230134,
          -0.41287128955359187,
          -0.41279496150103384,
          -0.4127338990589874,
          -0.1246107662628761,
          -0.12358797035859828,
          -0.08327149299743848,
          -0.047992667105109715,
          -0.09806386958318776,
          -0.11531400946130611,
          -0.05423630180435786,
          -0.016285994072497485,
          0.026213465591822423,
          -0.0002418374247962558,
          -0.03924547228195766,
          0.0004909118797609839,
          -0.41851956544288726,
          -0.406383405086158,
          -0.4060475616549026,
          -0.4149932094147056,
          -0.40079619163890906,
          -0.3905529669856193,
          -0.3881867973563199,
          -0.40807788785294663,
          -0.4158175523823325,
          -0.4203514387042804,
          -0.42158795315572073,
          -0.4255417462782275,
          -0.16552260243398864,
          -0.1699801607033785,
          -0.13099179145672873,
          -0.14434920065438675,
          -0.11913041208920841,
          -0.09336206154561213,
          -0.05492325427738027,
          -0.03146001092103699,
          0.016886177569229225,
          0.08987106142523263,
          -0.04519906038148524,
          -0.09206448465212537,
          -0.3863549240949268,
          -0.3867518299682286,
          -0.37830994735530876,
          -0.3715930787302007,
          -0.36261689974937455,
          3.2157032666138594,
          2.990627105230694,
          3.2954508159265057,
          3.25763789868925,
          2.8489011772409145,
          3.9452315273531497,
          4.58786793306036,
          3.1331315793565655,
          3.143390069620367,
          3.3933644417479667,
          3.747663996111904,
          3.8372731298150495,
          4.142432683942117,
          4.56965605972001,
          4.876220050014146,
          5.014908121512115,
          5.106593378244839,
          5.034768680787718,
          4.723792929055728,
          -0.32746019874113863,
          -0.32199511017798255,
          -0.3169727243196631,
          -0.31114126110422846,
          -0.3121793226190179,
          -0.3076149050760467,
          -0.28152597671170665,
          -0.27033628420669714,
          -0.26931348830241936,
          -0.2810985396173816,
          -0.29399798049969134,
          -0.2932804968056457,
          -0.38542372185371865,
          -0.3972698356107273,
          -0.39429304156096356,
          -0.38337813004516297,
          -0.3848283630437659,
          -0.38895007788190034,
          -0.3782030880817275,
          -0.3544040012941288,
          -0.37698183924079876,
          -0.3775619324402399,
          -0.37043289233131843,
          -0.36360916443262914,
          -0.2086021552977497,
          -0.2267834974170762,
          -0.24288871650682387,
          -0.23469108366208977,
          -0.25468903343229776,
          -0.24313296627500963,
          -0.22852377701539967,
          -0.20612912639486902,
          -0.1624389491106436,
          -0.13847194060741722,
          -0.18407031920559377,
          -0.22272284502098819,
          0.04270032494436032,
          0.03992198383124745,
          0.035739206551066535,
          0.02261078151108266,
          0.008383232514262921,
          0.0603321050852689,
          0.10841877819683776,
          0.11508984999041096,
          0.09863352185889629,
          0.0403341553150609,
          -0.020865677225980234,
          -0.031811119962804,
          -0.44682200733141064,
          -0.4348690343008207,
          -0.4518596588002417,
          -0.43567811165793596,
          -0.42297712371227714,
          -0.4361971424153307,
          -0.4312205533885461,
          -0.4370520166039808,
          -0.44089895045290634,
          -0.4466998824473178,
          -0.45451587502926166,
          -0.45752320030004867,
          -0.4424102458935556,
          -0.43096103800984875,
          -0.4409142160634179,
          -0.43735732881421296,
          -0.43831906227644435,
          -0.4419217463571841,
          -0.43682303244630666,
          -0.4276941973603644,
          -0.42984664844250126,
          -0.43196856830361496,
          -0.4288391181487351,
          -0.4298313828319897,
          -0.43195330269310334,
          -0.4374183912562594,
          -0.42766366613934115,
          -0.4128865551641035,
          -0.40548273406597307,
          -0.4160770677610298,
          -0.43589183020509853,
          -0.4310068348413836,
          -0.41215380585954625,
          -0.4063376082546232,
          -0.4192523147474445,
          -0.42210698391311546,
          -0.47413218453667944,
          -0.47375054427388924,
          -0.47367421622133116,
          -0.4739184659895169,
          -0.47445276235742323,
          -0.47353682572672673,
          -0.47211712394914707,
          -0.4715370307497059,
          -0.47442223113640003,
          -0.47428484064179555,
          -0.4675832376271991,
          -0.47362841938979633,
          -0.23435524023083434,
          -0.23038618149781598,
          -0.23130211812851253,
          -0.2449190427048679,
          -0.26580239788474924,
          -0.28679261233821185,
          -0.29793650801168653,
          -0.28633464402286357,
          -0.2642758368335883,
          -0.2814496486591486,
          -0.29976838127307964,
          -0.29740221164378017,
          0.660972816275043,
          0.6888020242377064,
          0.6213432913869056,
          0.4971880810959883,
          0.363033895919967,
          0.4459414266085163,
          0.5101027875888097,
          0.44020155705615127,
          0.543366552893606,
          0.5390769163398438,
          0.5859881374420187,
          0.593361427319126,
          -0.4125201805118249,
          -0.4060475616549026,
          -0.40586437432876327,
          -0.40432254766709075,
          -0.39597225871724057,
          -0.38913326520803965,
          -0.37791304148200694,
          -0.37701237046182196,
          -0.3890874683765048,
          -0.41630605191870396,
          -0.4090548869256896,
          -0.3782488849132623,
          -0.42409151327962463,
          -0.4330066298184044,
          -0.43931132695969893,
          -0.44010513870630263,
          -0.3997123332925848,
          -0.4085663873893181,
          -0.3832865363820933,
          -0.34730549240623054,
          -0.3531827524532001,
          -0.37594377772600934,
          -0.35748765461747384,
          -0.3357494252489424,
          -0.4652170679978997,
          -0.4652628648294345,
          -0.4473868349203402,
          -0.4522870958945667,
          -0.4501346448124299,
          -0.4540579067139134,
          -0.4542563596505643,
          -0.45283665787298466,
          -0.4505468162962433,
          -0.4540579067139134,
          -0.44979880138117445,
          -0.4537067976721464,
          -0.45387471938777413,
          -0.44998198870731376,
          -0.450714738011871,
          -0.45147801853745145,
          -0.45033309774908076,
          -0.45491278090256354,
          -0.4520581117368926,
          -0.4536915320616348,
          -0.4559050455858181,
          -0.45401210988237856,
          -0.45515703067074925,
          -0.45576765509121364,
          -0.24450687122105444,
          -0.25536072029480855,
          -0.25861229533378133,
          -0.2721223606365554,
          -0.29260880994313493,
          -0.28682314355923505,
          -0.2790376821983144,
          -0.2611005898471736,
          -0.22307395406275518,
          -0.21562433613308993,
          -0.1972903379086473,
          -0.1859327236880101,
          0.9275409070287621,
          1.0097004228022428,
          1.0371174592810928,
          1.0225235356319944,
          0.9971673565722116,
          0.9512026033217563,
          1.0902875806930274,
          1.182293415246496,
          1.284618802505812,
          1.4503575358303529,
          1.3585806854345586,
          1.2920531548249659
         ],
         "xaxis": "x",
         "y": [
          1.07512469036187,
          1.261656080920897,
          1.1506567675248562,
          1.0396574541288153,
          0.9332557454296511,
          0.7848187937876085,
          0.9595277722689514,
          1.1000831158592048,
          1.163135980273523,
          1.1289823453824337,
          0.991054204476111,
          0.9043565159064223,
          0.9253741373778621,
          0.7335883414509734,
          0.7138843213214991,
          0.6941803011920248,
          0.6836714904563049,
          0.6337546394616352,
          0.681044287772374,
          0.6757898824045148,
          0.5982874032285804,
          0.5588793629696307,
          0.5207849240526462,
          0.5917193965187557,
          -3.3096765891172453,
          -3.1888252656564666,
          -3.033163506633616,
          -2.8775017476107654,
          -2.878815348952731,
          -2.225955481996133,
          -1.9382767881058025,
          -1.8358158834325335,
          -1.7162781613137197,
          -1.5008475412314628,
          -1.362919400325139,
          -1.2381272728384658,
          -1.0318918621499635,
          -0.981975011155295,
          -0.9176085453990103,
          -0.8532420796427256,
          -1.209228043315236,
          -1.465380304998408,
          -1.428599467423389,
          -1.282789718465275,
          -1.186896820501832,
          -0.6916691145810335,
          -0.3724639884835421,
          -0.3724639884835421,
          0.00979400202826856,
          0.0754740691265175,
          -0.4348600522268787,
          -0.9451941735802748,
          -1.133039165481267,
          -1.034519064833893,
          -0.8493012756168317,
          -0.4762384944987754,
          -0.3278015428567329,
          -0.24373105697097389,
          -0.24635825965490357,
          -0.3658959817737173,
          -0.06376767312177058,
          -0.15571976705931978,
          -0.014507622798084152,
          0.12670452146315145,
          0.2462422435819652,
          0.26331906102750985,
          0.3973063979079386,
          0.5825241871250012,
          0.6600266663009343,
          0.7309611387670438,
          0.6718490783786196,
          0.5733289777312456,
          1.901379934457844,
          1.6872629157175514,
          1.578234004334458,
          1.4692050929513647,
          1.4678914916093995,
          1.46263708624154,
          1.5059859305263839,
          1.565097990914808,
          1.6255236526451975,
          1.5913700177541081,
          1.612387639225548,
          1.5467075721272991,
          -1.4167770553457038,
          -1.2906713265170653,
          -1.2887009245041177,
          -1.2867305224911703,
          -1.1711336043982516,
          -1.0476550782535439,
          -0.8795141064820259,
          -0.6772194998194185,
          -0.5077649267059351,
          -0.28839350259778307,
          -0.08872609861910542,
          0.061024454364902524,
          1.5375123627335434,
          1.2879281077601972,
          1.2990937191668992,
          1.3102593305736012,
          1.319454539967357,
          1.393016215117396,
          1.6071332338576874,
          1.7870966177068908,
          1.8396406713854903,
          1.882989515670334,
          1.8554038874890695,
          1.8330726646756654,
          0.4432824448767132,
          0.4669272690320826,
          0.34279194221639164,
          0.21865661540070067,
          0.09123728523009673,
          0.043947636919357866,
          0.1056868999917117,
          0.2409878382141047,
          0.3355671348355836,
          0.36972076972667406,
          0.3657799657007789,
          0.33162633080968845,
          0.21471581137480558,
          0.34607594557130344,
          0.397306397907938,
          0.4485368502445725,
          0.7690555776840282,
          0.7125707199795337,
          0.7309611387670438,
          0.757233165606344,
          0.8767708877251567,
          0.9805453937403912,
          0.8215996313626276,
          0.6350682408036006,
          -0.3619551777478222,
          -1.278848914439381,
          -1.6584797022672608,
          -2.0381104900951406,
          -1.8069166539093036,
          -1.5520779935680968,
          -1.3799962177706848,
          -1.4732619130501983,
          -1.1737608070821823,
          -0.9005317279534656,
          -0.6049714260113437,
          -0.6273026488247488,
          -1.925140774686153,
          -2.145825800136269,
          -2.1294057833617073,
          -2.1129857665871454,
          -1.6597933036092263,
          -1.424658663397494,
          -1.0358326661758586,
          -0.854555680984691,
          -0.536664156229165,
          -0.5471729669648849,
          -0.42369444082017604,
          -0.4828065012086002,
          1.1499999668538734,
          0.8767708877251567,
          0.7874459964715383,
          0.6981211052179199,
          0.654772260933075,
          0.7467243548706242,
          0.7467243548706242,
          0.8045228139170829,
          0.9004157118805273,
          0.888593299802842,
          0.8307948407563832,
          0.6600266663009343,
          0.22259741942659578,
          -0.5090785280479004,
          -0.5570249770296221,
          -0.6049714260113437,
          -0.5668769870943592,
          -0.5839538045399039,
          -0.536664156229165,
          -0.24373105697097389,
          -0.02830043688871701,
          0.0978052919399215,
          0.07678767046848176,
          -0.004655612733346416,
          -2.162902617581815,
          -1.7898398364637589,
          -1.7556862015726695,
          -1.7215325666815802,
          -1.1146487466937582,
          -0.7337043575239129,
          -0.6246754461408192,
          -0.6154802367470635,
          -0.602344223327414,
          -0.4946289132862855,
          -0.3002159146754684,
          -0.25686707039062345,
          -1.077867909118738,
          -1.2906713265170653,
          -1.023353453427191,
          -0.756035580337317,
          -0.7823076071766173,
          -0.6653970877417332,
          -0.5997170206434843,
          -0.34093755627638245,
          -0.25423986770669377,
          -0.2016958140280944,
          0.049202042287217224,
          0.4656136676901172,
          0.8439308541760328,
          0.8478716582019279,
          0.7769371857358184,
          0.7060027132697089,
          0.607482612622336,
          0.5969738018866162,
          0.6587130649589701,
          0.8951613065126667,
          1.089574305123485,
          1.202544020532473,
          1.3076321278896716,
          1.0764382917038342,
          -0.5892082099077643,
          -0.5839538045399039,
          -0.3619551777478222,
          -0.13995655095574056,
          0.10437329864974745,
          0.1556037509863814,
          0.2869638851828793,
          0.4170104180374129,
          0.47874968110976673,
          0.2541238516337554,
          0.05051564362918264,
          -0.14258375363967024,
          1.4495010728218893,
          1.4495010728218893,
          1.361489782910236,
          1.2734784929985823,
          1.2222480406619483,
          1.2721648916566168,
          1.3562353775423759,
          1.4179746406147309,
          1.3667441882780957,
          1.3864482084075713,
          1.3220817426512865,
          1.3063185265477062,
          -0.7954436205962668,
          -0.770485195098932,
          -0.7908460158993891,
          -0.8112068366998461,
          -0.7534083776533873,
          -0.5721313924622198,
          -0.37509119116747175,
          -0.2975887119915375,
          -0.2923343066236782,
          -0.3186063334629773,
          -0.37509119116747175,
          -0.19512780731826962,
          -1.420717859371599,
          -1.7175917626556851,
          -1.7169349619847023,
          -1.7162781613137197,
          -1.6886925331324552,
          -1.5941132365109763,
          -1.311688947988505,
          -0.9399397682124154,
          -0.653574675664049,
          -0.6299298515086785,
          -0.5156465347577253,
          -0.5786993991720445,
          -1.6164444593243814,
          -1.8069166539093036,
          -1.7471477928498973,
          -1.6873789317904908,
          -1.1566839896366377,
          -0.7665443910730368,
          -0.6089122300372387,
          -0.4447120622916158,
          -0.3737775898255075,
          -0.35275996835406775,
          0.08992368388813247,
          0.23704703418821074,
          -0.9872294165231543,
          -0.5773857978300792,
          -0.5603089803845345,
          -0.5432321629389898,
          -0.43420325155589595,
          -0.4079312247165968,
          -0.30941112406922283,
          -0.27657109052009776,
          -0.1675421791370051,
          -0.10186211203875498,
          -0.02304603152085649,
          0.0794148731524126,
          -0.6391250609024342,
          -0.4578480757112665,
          -0.5970898179595545,
          -0.7363315602078426,
          -0.8414196675650414,
          -0.854555680984691,
          -0.6049714260113437,
          -0.3816591978772966,
          -0.05982686909587548,
          0.06890606241669273,
          0.2909046892087744,
          0.3171767160480747,
          0.4629864650061875,
          -0.11368452411644028,
          -0.10908691941956306,
          -0.10448931472268583,
          -0.06245407177980632,
          -0.007282815417277259,
          -0.12944774022002067,
          -0.07164928117356077,
          -0.009910018101206937,
          0.10831410267564139,
          0.08861008254616705,
          0.03606602886756767,
          1.2747920943405464,
          1.407465829879011,
          1.3312769520450416,
          1.2550880742110722,
          1.1591951762476291,
          1.1499999668538734,
          1.1894080071128232,
          1.2275024460298076,
          1.2406384594494573,
          1.2537744728691078,
          1.2813601010503723,
          1.2958097158119863
         ],
         "yaxis": "y"
        }
       ],
       "layout": {
        "coloraxis": {
         "colorbar": {
          "title": {
           "text": "year"
          }
         },
         "colorscale": [
          [
           0,
           "#0d0887"
          ],
          [
           0.1111111111111111,
           "#46039f"
          ],
          [
           0.2222222222222222,
           "#7201a8"
          ],
          [
           0.3333333333333333,
           "#9c179e"
          ],
          [
           0.4444444444444444,
           "#bd3786"
          ],
          [
           0.5555555555555556,
           "#d8576b"
          ],
          [
           0.6666666666666666,
           "#ed7953"
          ],
          [
           0.7777777777777778,
           "#fb9f3a"
          ],
          [
           0.8888888888888888,
           "#fdca26"
          ],
          [
           1,
           "#f0f921"
          ]
         ]
        },
        "legend": {
         "tracegroupgap": 0
        },
        "template": {
         "data": {
          "bar": [
           {
            "error_x": {
             "color": "#2a3f5f"
            },
            "error_y": {
             "color": "#2a3f5f"
            },
            "marker": {
             "line": {
              "color": "#E5ECF6",
              "width": 0.5
             },
             "pattern": {
              "fillmode": "overlay",
              "size": 10,
              "solidity": 0.2
             }
            },
            "type": "bar"
           }
          ],
          "barpolar": [
           {
            "marker": {
             "line": {
              "color": "#E5ECF6",
              "width": 0.5
             },
             "pattern": {
              "fillmode": "overlay",
              "size": 10,
              "solidity": 0.2
             }
            },
            "type": "barpolar"
           }
          ],
          "carpet": [
           {
            "aaxis": {
             "endlinecolor": "#2a3f5f",
             "gridcolor": "white",
             "linecolor": "white",
             "minorgridcolor": "white",
             "startlinecolor": "#2a3f5f"
            },
            "baxis": {
             "endlinecolor": "#2a3f5f",
             "gridcolor": "white",
             "linecolor": "white",
             "minorgridcolor": "white",
             "startlinecolor": "#2a3f5f"
            },
            "type": "carpet"
           }
          ],
          "choropleth": [
           {
            "colorbar": {
             "outlinewidth": 0,
             "ticks": ""
            },
            "type": "choropleth"
           }
          ],
          "contour": [
           {
            "colorbar": {
             "outlinewidth": 0,
             "ticks": ""
            },
            "colorscale": [
             [
              0,
              "#0d0887"
             ],
             [
              0.1111111111111111,
              "#46039f"
             ],
             [
              0.2222222222222222,
              "#7201a8"
             ],
             [
              0.3333333333333333,
              "#9c179e"
             ],
             [
              0.4444444444444444,
              "#bd3786"
             ],
             [
              0.5555555555555556,
              "#d8576b"
             ],
             [
              0.6666666666666666,
              "#ed7953"
             ],
             [
              0.7777777777777778,
              "#fb9f3a"
             ],
             [
              0.8888888888888888,
              "#fdca26"
             ],
             [
              1,
              "#f0f921"
             ]
            ],
            "type": "contour"
           }
          ],
          "contourcarpet": [
           {
            "colorbar": {
             "outlinewidth": 0,
             "ticks": ""
            },
            "type": "contourcarpet"
           }
          ],
          "heatmap": [
           {
            "colorbar": {
             "outlinewidth": 0,
             "ticks": ""
            },
            "colorscale": [
             [
              0,
              "#0d0887"
             ],
             [
              0.1111111111111111,
              "#46039f"
             ],
             [
              0.2222222222222222,
              "#7201a8"
             ],
             [
              0.3333333333333333,
              "#9c179e"
             ],
             [
              0.4444444444444444,
              "#bd3786"
             ],
             [
              0.5555555555555556,
              "#d8576b"
             ],
             [
              0.6666666666666666,
              "#ed7953"
             ],
             [
              0.7777777777777778,
              "#fb9f3a"
             ],
             [
              0.8888888888888888,
              "#fdca26"
             ],
             [
              1,
              "#f0f921"
             ]
            ],
            "type": "heatmap"
           }
          ],
          "heatmapgl": [
           {
            "colorbar": {
             "outlinewidth": 0,
             "ticks": ""
            },
            "colorscale": [
             [
              0,
              "#0d0887"
             ],
             [
              0.1111111111111111,
              "#46039f"
             ],
             [
              0.2222222222222222,
              "#7201a8"
             ],
             [
              0.3333333333333333,
              "#9c179e"
             ],
             [
              0.4444444444444444,
              "#bd3786"
             ],
             [
              0.5555555555555556,
              "#d8576b"
             ],
             [
              0.6666666666666666,
              "#ed7953"
             ],
             [
              0.7777777777777778,
              "#fb9f3a"
             ],
             [
              0.8888888888888888,
              "#fdca26"
             ],
             [
              1,
              "#f0f921"
             ]
            ],
            "type": "heatmapgl"
           }
          ],
          "histogram": [
           {
            "marker": {
             "pattern": {
              "fillmode": "overlay",
              "size": 10,
              "solidity": 0.2
             }
            },
            "type": "histogram"
           }
          ],
          "histogram2d": [
           {
            "colorbar": {
             "outlinewidth": 0,
             "ticks": ""
            },
            "colorscale": [
             [
              0,
              "#0d0887"
             ],
             [
              0.1111111111111111,
              "#46039f"
             ],
             [
              0.2222222222222222,
              "#7201a8"
             ],
             [
              0.3333333333333333,
              "#9c179e"
             ],
             [
              0.4444444444444444,
              "#bd3786"
             ],
             [
              0.5555555555555556,
              "#d8576b"
             ],
             [
              0.6666666666666666,
              "#ed7953"
             ],
             [
              0.7777777777777778,
              "#fb9f3a"
             ],
             [
              0.8888888888888888,
              "#fdca26"
             ],
             [
              1,
              "#f0f921"
             ]
            ],
            "type": "histogram2d"
           }
          ],
          "histogram2dcontour": [
           {
            "colorbar": {
             "outlinewidth": 0,
             "ticks": ""
            },
            "colorscale": [
             [
              0,
              "#0d0887"
             ],
             [
              0.1111111111111111,
              "#46039f"
             ],
             [
              0.2222222222222222,
              "#7201a8"
             ],
             [
              0.3333333333333333,
              "#9c179e"
             ],
             [
              0.4444444444444444,
              "#bd3786"
             ],
             [
              0.5555555555555556,
              "#d8576b"
             ],
             [
              0.6666666666666666,
              "#ed7953"
             ],
             [
              0.7777777777777778,
              "#fb9f3a"
             ],
             [
              0.8888888888888888,
              "#fdca26"
             ],
             [
              1,
              "#f0f921"
             ]
            ],
            "type": "histogram2dcontour"
           }
          ],
          "mesh3d": [
           {
            "colorbar": {
             "outlinewidth": 0,
             "ticks": ""
            },
            "type": "mesh3d"
           }
          ],
          "parcoords": [
           {
            "line": {
             "colorbar": {
              "outlinewidth": 0,
              "ticks": ""
             }
            },
            "type": "parcoords"
           }
          ],
          "pie": [
           {
            "automargin": true,
            "type": "pie"
           }
          ],
          "scatter": [
           {
            "fillpattern": {
             "fillmode": "overlay",
             "size": 10,
             "solidity": 0.2
            },
            "type": "scatter"
           }
          ],
          "scatter3d": [
           {
            "line": {
             "colorbar": {
              "outlinewidth": 0,
              "ticks": ""
             }
            },
            "marker": {
             "colorbar": {
              "outlinewidth": 0,
              "ticks": ""
             }
            },
            "type": "scatter3d"
           }
          ],
          "scattercarpet": [
           {
            "marker": {
             "colorbar": {
              "outlinewidth": 0,
              "ticks": ""
             }
            },
            "type": "scattercarpet"
           }
          ],
          "scattergeo": [
           {
            "marker": {
             "colorbar": {
              "outlinewidth": 0,
              "ticks": ""
             }
            },
            "type": "scattergeo"
           }
          ],
          "scattergl": [
           {
            "marker": {
             "colorbar": {
              "outlinewidth": 0,
              "ticks": ""
             }
            },
            "type": "scattergl"
           }
          ],
          "scattermapbox": [
           {
            "marker": {
             "colorbar": {
              "outlinewidth": 0,
              "ticks": ""
             }
            },
            "type": "scattermapbox"
           }
          ],
          "scatterpolar": [
           {
            "marker": {
             "colorbar": {
              "outlinewidth": 0,
              "ticks": ""
             }
            },
            "type": "scatterpolar"
           }
          ],
          "scatterpolargl": [
           {
            "marker": {
             "colorbar": {
              "outlinewidth": 0,
              "ticks": ""
             }
            },
            "type": "scatterpolargl"
           }
          ],
          "scatterternary": [
           {
            "marker": {
             "colorbar": {
              "outlinewidth": 0,
              "ticks": ""
             }
            },
            "type": "scatterternary"
           }
          ],
          "surface": [
           {
            "colorbar": {
             "outlinewidth": 0,
             "ticks": ""
            },
            "colorscale": [
             [
              0,
              "#0d0887"
             ],
             [
              0.1111111111111111,
              "#46039f"
             ],
             [
              0.2222222222222222,
              "#7201a8"
             ],
             [
              0.3333333333333333,
              "#9c179e"
             ],
             [
              0.4444444444444444,
              "#bd3786"
             ],
             [
              0.5555555555555556,
              "#d8576b"
             ],
             [
              0.6666666666666666,
              "#ed7953"
             ],
             [
              0.7777777777777778,
              "#fb9f3a"
             ],
             [
              0.8888888888888888,
              "#fdca26"
             ],
             [
              1,
              "#f0f921"
             ]
            ],
            "type": "surface"
           }
          ],
          "table": [
           {
            "cells": {
             "fill": {
              "color": "#EBF0F8"
             },
             "line": {
              "color": "white"
             }
            },
            "header": {
             "fill": {
              "color": "#C8D4E3"
             },
             "line": {
              "color": "white"
             }
            },
            "type": "table"
           }
          ]
         },
         "layout": {
          "annotationdefaults": {
           "arrowcolor": "#2a3f5f",
           "arrowhead": 0,
           "arrowwidth": 1
          },
          "autotypenumbers": "strict",
          "coloraxis": {
           "colorbar": {
            "outlinewidth": 0,
            "ticks": ""
           }
          },
          "colorscale": {
           "diverging": [
            [
             0,
             "#8e0152"
            ],
            [
             0.1,
             "#c51b7d"
            ],
            [
             0.2,
             "#de77ae"
            ],
            [
             0.3,
             "#f1b6da"
            ],
            [
             0.4,
             "#fde0ef"
            ],
            [
             0.5,
             "#f7f7f7"
            ],
            [
             0.6,
             "#e6f5d0"
            ],
            [
             0.7,
             "#b8e186"
            ],
            [
             0.8,
             "#7fbc41"
            ],
            [
             0.9,
             "#4d9221"
            ],
            [
             1,
             "#276419"
            ]
           ],
           "sequential": [
            [
             0,
             "#0d0887"
            ],
            [
             0.1111111111111111,
             "#46039f"
            ],
            [
             0.2222222222222222,
             "#7201a8"
            ],
            [
             0.3333333333333333,
             "#9c179e"
            ],
            [
             0.4444444444444444,
             "#bd3786"
            ],
            [
             0.5555555555555556,
             "#d8576b"
            ],
            [
             0.6666666666666666,
             "#ed7953"
            ],
            [
             0.7777777777777778,
             "#fb9f3a"
            ],
            [
             0.8888888888888888,
             "#fdca26"
            ],
            [
             1,
             "#f0f921"
            ]
           ],
           "sequentialminus": [
            [
             0,
             "#0d0887"
            ],
            [
             0.1111111111111111,
             "#46039f"
            ],
            [
             0.2222222222222222,
             "#7201a8"
            ],
            [
             0.3333333333333333,
             "#9c179e"
            ],
            [
             0.4444444444444444,
             "#bd3786"
            ],
            [
             0.5555555555555556,
             "#d8576b"
            ],
            [
             0.6666666666666666,
             "#ed7953"
            ],
            [
             0.7777777777777778,
             "#fb9f3a"
            ],
            [
             0.8888888888888888,
             "#fdca26"
            ],
            [
             1,
             "#f0f921"
            ]
           ]
          },
          "colorway": [
           "#636efa",
           "#EF553B",
           "#00cc96",
           "#ab63fa",
           "#FFA15A",
           "#19d3f3",
           "#FF6692",
           "#B6E880",
           "#FF97FF",
           "#FECB52"
          ],
          "font": {
           "color": "#2a3f5f"
          },
          "geo": {
           "bgcolor": "white",
           "lakecolor": "white",
           "landcolor": "#E5ECF6",
           "showlakes": true,
           "showland": true,
           "subunitcolor": "white"
          },
          "hoverlabel": {
           "align": "left"
          },
          "hovermode": "closest",
          "mapbox": {
           "style": "light"
          },
          "paper_bgcolor": "white",
          "plot_bgcolor": "#E5ECF6",
          "polar": {
           "angularaxis": {
            "gridcolor": "white",
            "linecolor": "white",
            "ticks": ""
           },
           "bgcolor": "#E5ECF6",
           "radialaxis": {
            "gridcolor": "white",
            "linecolor": "white",
            "ticks": ""
           }
          },
          "scene": {
           "xaxis": {
            "backgroundcolor": "#E5ECF6",
            "gridcolor": "white",
            "gridwidth": 2,
            "linecolor": "white",
            "showbackground": true,
            "ticks": "",
            "zerolinecolor": "white"
           },
           "yaxis": {
            "backgroundcolor": "#E5ECF6",
            "gridcolor": "white",
            "gridwidth": 2,
            "linecolor": "white",
            "showbackground": true,
            "ticks": "",
            "zerolinecolor": "white"
           },
           "zaxis": {
            "backgroundcolor": "#E5ECF6",
            "gridcolor": "white",
            "gridwidth": 2,
            "linecolor": "white",
            "showbackground": true,
            "ticks": "",
            "zerolinecolor": "white"
           }
          },
          "shapedefaults": {
           "line": {
            "color": "#2a3f5f"
           }
          },
          "ternary": {
           "aaxis": {
            "gridcolor": "white",
            "linecolor": "white",
            "ticks": ""
           },
           "baxis": {
            "gridcolor": "white",
            "linecolor": "white",
            "ticks": ""
           },
           "bgcolor": "#E5ECF6",
           "caxis": {
            "gridcolor": "white",
            "linecolor": "white",
            "ticks": ""
           }
          },
          "title": {
           "x": 0.05
          },
          "xaxis": {
           "automargin": true,
           "gridcolor": "white",
           "linecolor": "white",
           "ticks": "",
           "title": {
            "standoff": 15
           },
           "zerolinecolor": "white",
           "zerolinewidth": 2
          },
          "yaxis": {
           "automargin": true,
           "gridcolor": "white",
           "linecolor": "white",
           "ticks": "",
           "title": {
            "standoff": 15
           },
           "zerolinecolor": "white",
           "zerolinewidth": 2
          }
         }
        },
        "title": {
         "text": "Comparing Relationship of Controlled Drug Crime and Quality of Life in Europe"
        },
        "xaxis": {
         "anchor": "y",
         "domain": [
          0,
          1
         ],
         "title": {
          "text": "Controlled Drug Crime"
         }
        },
        "yaxis": {
         "anchor": "x",
         "domain": [
          0,
          1
         ],
         "title": {
          "text": "Quality of Life"
         }
        }
       }
      }
     },
     "metadata": {},
     "output_type": "display_data"
    }
   ],
   "source": [
    "fig = px.scatter(\n",
    "    combined,\n",
    "    x='safety',\n",
    "    y='qol',\n",
    "    color='year',\n",
    "    opacity=0.5,\n",
    "    labels={'safety': 'Controlled Drug Crime', 'qol': 'Quality of Life'},\n",
    "    title='Comparing Relationship of Controlled Drug Crime and Quality of Life in Europe',\n",
    "    hover_data=['country', 'year']\n",
    ")\n",
    "\n",
    "fig"
   ]
  },
  {
   "cell_type": "code",
   "execution_count": 148,
   "id": "aa6c0501",
   "metadata": {},
   "outputs": [
    {
     "data": {
      "application/vnd.plotly.v1+json": {
       "config": {
        "plotlyServerURL": "https://plot.ly"
       },
       "data": [
        {
         "customdata": [
          [
           "Austria",
           2011
          ],
          [
           "Austria",
           2012
          ],
          [
           "Austria",
           2013
          ],
          [
           "Austria",
           2014
          ],
          [
           "Austria",
           2015
          ],
          [
           "Austria",
           2016
          ],
          [
           "Austria",
           2017
          ],
          [
           "Austria",
           2018
          ],
          [
           "Austria",
           2019
          ],
          [
           "Austria",
           2020
          ],
          [
           "Austria",
           2021
          ],
          [
           "Austria",
           2022
          ],
          [
           "Belgium",
           2011
          ],
          [
           "Belgium",
           2012
          ],
          [
           "Belgium",
           2013
          ],
          [
           "Belgium",
           2014
          ],
          [
           "Belgium",
           2015
          ],
          [
           "Belgium",
           2016
          ],
          [
           "Belgium",
           2017
          ],
          [
           "Belgium",
           2018
          ],
          [
           "Belgium",
           2019
          ],
          [
           "Belgium",
           2020
          ],
          [
           "Belgium",
           2021
          ],
          [
           "Belgium",
           2022
          ],
          [
           "Bulgaria",
           2011
          ],
          [
           "Bulgaria",
           2012
          ],
          [
           "Bulgaria",
           2013
          ],
          [
           "Bulgaria",
           2014
          ],
          [
           "Bulgaria",
           2015
          ],
          [
           "Bulgaria",
           2016
          ],
          [
           "Bulgaria",
           2017
          ],
          [
           "Bulgaria",
           2018
          ],
          [
           "Bulgaria",
           2019
          ],
          [
           "Bulgaria",
           2020
          ],
          [
           "Bulgaria",
           2021
          ],
          [
           "Bulgaria",
           2022
          ],
          [
           "Croatia",
           2011
          ],
          [
           "Croatia",
           2012
          ],
          [
           "Croatia",
           2013
          ],
          [
           "Croatia",
           2014
          ],
          [
           "Croatia",
           2015
          ],
          [
           "Croatia",
           2016
          ],
          [
           "Croatia",
           2017
          ],
          [
           "Croatia",
           2018
          ],
          [
           "Croatia",
           2019
          ],
          [
           "Croatia",
           2020
          ],
          [
           "Croatia",
           2021
          ],
          [
           "Croatia",
           2022
          ],
          [
           "Cyprus",
           2011
          ],
          [
           "Cyprus",
           2012
          ],
          [
           "Cyprus",
           2013
          ],
          [
           "Cyprus",
           2014
          ],
          [
           "Cyprus",
           2015
          ],
          [
           "Cyprus",
           2016
          ],
          [
           "Cyprus",
           2017
          ],
          [
           "Cyprus",
           2018
          ],
          [
           "Cyprus",
           2019
          ],
          [
           "Cyprus",
           2020
          ],
          [
           "Cyprus",
           2021
          ],
          [
           "Cyprus",
           2022
          ],
          [
           "Czechia",
           2011
          ],
          [
           "Czechia",
           2012
          ],
          [
           "Czechia",
           2013
          ],
          [
           "Czechia",
           2014
          ],
          [
           "Czechia",
           2015
          ],
          [
           "Czechia",
           2016
          ],
          [
           "Czechia",
           2017
          ],
          [
           "Czechia",
           2018
          ],
          [
           "Czechia",
           2019
          ],
          [
           "Czechia",
           2020
          ],
          [
           "Czechia",
           2021
          ],
          [
           "Czechia",
           2022
          ],
          [
           "Denmark",
           2011
          ],
          [
           "Denmark",
           2012
          ],
          [
           "Denmark",
           2013
          ],
          [
           "Denmark",
           2014
          ],
          [
           "Denmark",
           2015
          ],
          [
           "Denmark",
           2016
          ],
          [
           "Denmark",
           2017
          ],
          [
           "Denmark",
           2018
          ],
          [
           "Denmark",
           2019
          ],
          [
           "Denmark",
           2020
          ],
          [
           "Denmark",
           2021
          ],
          [
           "Denmark",
           2022
          ],
          [
           "Estonia",
           2011
          ],
          [
           "Estonia",
           2012
          ],
          [
           "Estonia",
           2013
          ],
          [
           "Estonia",
           2014
          ],
          [
           "Estonia",
           2015
          ],
          [
           "Estonia",
           2016
          ],
          [
           "Estonia",
           2017
          ],
          [
           "Estonia",
           2018
          ],
          [
           "Estonia",
           2019
          ],
          [
           "Estonia",
           2020
          ],
          [
           "Estonia",
           2021
          ],
          [
           "Estonia",
           2022
          ],
          [
           "Finland",
           2011
          ],
          [
           "Finland",
           2012
          ],
          [
           "Finland",
           2013
          ],
          [
           "Finland",
           2014
          ],
          [
           "Finland",
           2015
          ],
          [
           "Finland",
           2016
          ],
          [
           "Finland",
           2017
          ],
          [
           "Finland",
           2018
          ],
          [
           "Finland",
           2019
          ],
          [
           "Finland",
           2020
          ],
          [
           "Finland",
           2021
          ],
          [
           "Finland",
           2022
          ],
          [
           "France",
           2011
          ],
          [
           "France",
           2012
          ],
          [
           "France",
           2013
          ],
          [
           "France",
           2014
          ],
          [
           "France",
           2015
          ],
          [
           "France",
           2016
          ],
          [
           "France",
           2017
          ],
          [
           "France",
           2018
          ],
          [
           "France",
           2019
          ],
          [
           "France",
           2020
          ],
          [
           "France",
           2021
          ],
          [
           "France",
           2022
          ],
          [
           "Germany",
           2011
          ],
          [
           "Germany",
           2012
          ],
          [
           "Germany",
           2013
          ],
          [
           "Germany",
           2014
          ],
          [
           "Germany",
           2015
          ],
          [
           "Germany",
           2016
          ],
          [
           "Germany",
           2017
          ],
          [
           "Germany",
           2018
          ],
          [
           "Germany",
           2019
          ],
          [
           "Germany",
           2020
          ],
          [
           "Germany",
           2021
          ],
          [
           "Germany",
           2022
          ],
          [
           "Greece",
           2011
          ],
          [
           "Greece",
           2012
          ],
          [
           "Greece",
           2013
          ],
          [
           "Greece",
           2014
          ],
          [
           "Greece",
           2015
          ],
          [
           "Greece",
           2016
          ],
          [
           "Greece",
           2017
          ],
          [
           "Greece",
           2018
          ],
          [
           "Greece",
           2019
          ],
          [
           "Greece",
           2020
          ],
          [
           "Greece",
           2021
          ],
          [
           "Greece",
           2022
          ],
          [
           "Hungary",
           2011
          ],
          [
           "Hungary",
           2012
          ],
          [
           "Hungary",
           2013
          ],
          [
           "Hungary",
           2014
          ],
          [
           "Hungary",
           2015
          ],
          [
           "Hungary",
           2016
          ],
          [
           "Hungary",
           2017
          ],
          [
           "Hungary",
           2018
          ],
          [
           "Hungary",
           2019
          ],
          [
           "Hungary",
           2020
          ],
          [
           "Hungary",
           2021
          ],
          [
           "Hungary",
           2022
          ],
          [
           "Ireland",
           2011
          ],
          [
           "Ireland",
           2012
          ],
          [
           "Ireland",
           2013
          ],
          [
           "Ireland",
           2014
          ],
          [
           "Ireland",
           2015
          ],
          [
           "Ireland",
           2016
          ],
          [
           "Ireland",
           2017
          ],
          [
           "Ireland",
           2018
          ],
          [
           "Ireland",
           2019
          ],
          [
           "Ireland",
           2020
          ],
          [
           "Ireland",
           2021
          ],
          [
           "Ireland",
           2022
          ],
          [
           "Italy",
           2011
          ],
          [
           "Italy",
           2012
          ],
          [
           "Italy",
           2013
          ],
          [
           "Italy",
           2014
          ],
          [
           "Italy",
           2015
          ],
          [
           "Italy",
           2016
          ],
          [
           "Italy",
           2017
          ],
          [
           "Italy",
           2018
          ],
          [
           "Italy",
           2019
          ],
          [
           "Italy",
           2020
          ],
          [
           "Italy",
           2021
          ],
          [
           "Italy",
           2022
          ],
          [
           "Latvia",
           2011
          ],
          [
           "Latvia",
           2012
          ],
          [
           "Latvia",
           2013
          ],
          [
           "Latvia",
           2014
          ],
          [
           "Latvia",
           2015
          ],
          [
           "Latvia",
           2016
          ],
          [
           "Latvia",
           2017
          ],
          [
           "Latvia",
           2018
          ],
          [
           "Latvia",
           2019
          ],
          [
           "Latvia",
           2020
          ],
          [
           "Latvia",
           2021
          ],
          [
           "Latvia",
           2022
          ],
          [
           "Lithuania",
           2011
          ],
          [
           "Lithuania",
           2012
          ],
          [
           "Lithuania",
           2013
          ],
          [
           "Lithuania",
           2014
          ],
          [
           "Lithuania",
           2015
          ],
          [
           "Lithuania",
           2016
          ],
          [
           "Lithuania",
           2017
          ],
          [
           "Lithuania",
           2018
          ],
          [
           "Lithuania",
           2019
          ],
          [
           "Lithuania",
           2020
          ],
          [
           "Lithuania",
           2021
          ],
          [
           "Lithuania",
           2022
          ],
          [
           "Luxembourg",
           2011
          ],
          [
           "Luxembourg",
           2012
          ],
          [
           "Luxembourg",
           2013
          ],
          [
           "Luxembourg",
           2014
          ],
          [
           "Luxembourg",
           2015
          ],
          [
           "Luxembourg",
           2016
          ],
          [
           "Luxembourg",
           2017
          ],
          [
           "Luxembourg",
           2018
          ],
          [
           "Luxembourg",
           2019
          ],
          [
           "Luxembourg",
           2020
          ],
          [
           "Luxembourg",
           2021
          ],
          [
           "Luxembourg",
           2022
          ],
          [
           "Malta",
           2011
          ],
          [
           "Malta",
           2012
          ],
          [
           "Malta",
           2013
          ],
          [
           "Malta",
           2014
          ],
          [
           "Malta",
           2015
          ],
          [
           "Malta",
           2016
          ],
          [
           "Malta",
           2017
          ],
          [
           "Malta",
           2018
          ],
          [
           "Malta",
           2019
          ],
          [
           "Malta",
           2020
          ],
          [
           "Malta",
           2021
          ],
          [
           "Malta",
           2022
          ],
          [
           "Netherlands",
           2011
          ],
          [
           "Netherlands",
           2012
          ],
          [
           "Netherlands",
           2013
          ],
          [
           "Netherlands",
           2014
          ],
          [
           "Netherlands",
           2015
          ],
          [
           "Netherlands",
           2016
          ],
          [
           "Netherlands",
           2017
          ],
          [
           "Netherlands",
           2018
          ],
          [
           "Netherlands",
           2019
          ],
          [
           "Netherlands",
           2020
          ],
          [
           "Netherlands",
           2021
          ],
          [
           "Netherlands",
           2022
          ],
          [
           "Poland",
           2011
          ],
          [
           "Poland",
           2012
          ],
          [
           "Poland",
           2013
          ],
          [
           "Poland",
           2014
          ],
          [
           "Poland",
           2015
          ],
          [
           "Poland",
           2016
          ],
          [
           "Poland",
           2017
          ],
          [
           "Poland",
           2018
          ],
          [
           "Poland",
           2019
          ],
          [
           "Poland",
           2020
          ],
          [
           "Poland",
           2021
          ],
          [
           "Poland",
           2022
          ],
          [
           "Portugal",
           2011
          ],
          [
           "Portugal",
           2012
          ],
          [
           "Portugal",
           2013
          ],
          [
           "Portugal",
           2014
          ],
          [
           "Portugal",
           2015
          ],
          [
           "Portugal",
           2016
          ],
          [
           "Portugal",
           2017
          ],
          [
           "Portugal",
           2018
          ],
          [
           "Portugal",
           2019
          ],
          [
           "Portugal",
           2020
          ],
          [
           "Portugal",
           2021
          ],
          [
           "Portugal",
           2022
          ],
          [
           "Romania",
           2011
          ],
          [
           "Romania",
           2012
          ],
          [
           "Romania",
           2013
          ],
          [
           "Romania",
           2014
          ],
          [
           "Romania",
           2015
          ],
          [
           "Romania",
           2016
          ],
          [
           "Romania",
           2017
          ],
          [
           "Romania",
           2018
          ],
          [
           "Romania",
           2019
          ],
          [
           "Romania",
           2020
          ],
          [
           "Romania",
           2021
          ],
          [
           "Romania",
           2022
          ],
          [
           "Slovakia",
           2011
          ],
          [
           "Slovakia",
           2012
          ],
          [
           "Slovakia",
           2013
          ],
          [
           "Slovakia",
           2014
          ],
          [
           "Slovakia",
           2015
          ],
          [
           "Slovakia",
           2016
          ],
          [
           "Slovakia",
           2017
          ],
          [
           "Slovakia",
           2018
          ],
          [
           "Slovakia",
           2019
          ],
          [
           "Slovakia",
           2020
          ],
          [
           "Slovakia",
           2021
          ],
          [
           "Slovakia",
           2022
          ],
          [
           "Slovenia",
           2011
          ],
          [
           "Slovenia",
           2012
          ],
          [
           "Slovenia",
           2013
          ],
          [
           "Slovenia",
           2014
          ],
          [
           "Slovenia",
           2015
          ],
          [
           "Slovenia",
           2016
          ],
          [
           "Slovenia",
           2017
          ],
          [
           "Slovenia",
           2018
          ],
          [
           "Slovenia",
           2019
          ],
          [
           "Slovenia",
           2020
          ],
          [
           "Slovenia",
           2021
          ],
          [
           "Slovenia",
           2022
          ],
          [
           "Spain",
           2011
          ],
          [
           "Spain",
           2012
          ],
          [
           "Spain",
           2013
          ],
          [
           "Spain",
           2014
          ],
          [
           "Spain",
           2015
          ],
          [
           "Spain",
           2016
          ],
          [
           "Spain",
           2017
          ],
          [
           "Spain",
           2018
          ],
          [
           "Spain",
           2019
          ],
          [
           "Spain",
           2020
          ],
          [
           "Spain",
           2021
          ],
          [
           "Spain",
           2022
          ],
          [
           "Sweden",
           2011
          ],
          [
           "Sweden",
           2012
          ],
          [
           "Sweden",
           2013
          ],
          [
           "Sweden",
           2014
          ],
          [
           "Sweden",
           2015
          ],
          [
           "Sweden",
           2016
          ],
          [
           "Sweden",
           2017
          ],
          [
           "Sweden",
           2018
          ],
          [
           "Sweden",
           2019
          ],
          [
           "Sweden",
           2020
          ],
          [
           "Sweden",
           2021
          ],
          [
           "Sweden",
           2022
          ]
         ],
         "hovertemplate": "Emissions [Tonnes per capita]=%{x}<br>Quality of Life=%{y}<br>country=%{customdata[0]}<br>year=%{marker.color}<extra></extra>",
         "legendgroup": "",
         "marker": {
          "color": [
           2011,
           2012,
           2013,
           2014,
           2015,
           2016,
           2017,
           2018,
           2019,
           2020,
           2021,
           2022,
           2011,
           2012,
           2013,
           2014,
           2015,
           2016,
           2017,
           2018,
           2019,
           2020,
           2021,
           2022,
           2011,
           2012,
           2013,
           2014,
           2015,
           2016,
           2017,
           2018,
           2019,
           2020,
           2021,
           2022,
           2011,
           2012,
           2013,
           2014,
           2015,
           2016,
           2017,
           2018,
           2019,
           2020,
           2021,
           2022,
           2011,
           2012,
           2013,
           2014,
           2015,
           2016,
           2017,
           2018,
           2019,
           2020,
           2021,
           2022,
           2011,
           2012,
           2013,
           2014,
           2015,
           2016,
           2017,
           2018,
           2019,
           2020,
           2021,
           2022,
           2011,
           2012,
           2013,
           2014,
           2015,
           2016,
           2017,
           2018,
           2019,
           2020,
           2021,
           2022,
           2011,
           2012,
           2013,
           2014,
           2015,
           2016,
           2017,
           2018,
           2019,
           2020,
           2021,
           2022,
           2011,
           2012,
           2013,
           2014,
           2015,
           2016,
           2017,
           2018,
           2019,
           2020,
           2021,
           2022,
           2011,
           2012,
           2013,
           2014,
           2015,
           2016,
           2017,
           2018,
           2019,
           2020,
           2021,
           2022,
           2011,
           2012,
           2013,
           2014,
           2015,
           2016,
           2017,
           2018,
           2019,
           2020,
           2021,
           2022,
           2011,
           2012,
           2013,
           2014,
           2015,
           2016,
           2017,
           2018,
           2019,
           2020,
           2021,
           2022,
           2011,
           2012,
           2013,
           2014,
           2015,
           2016,
           2017,
           2018,
           2019,
           2020,
           2021,
           2022,
           2011,
           2012,
           2013,
           2014,
           2015,
           2016,
           2017,
           2018,
           2019,
           2020,
           2021,
           2022,
           2011,
           2012,
           2013,
           2014,
           2015,
           2016,
           2017,
           2018,
           2019,
           2020,
           2021,
           2022,
           2011,
           2012,
           2013,
           2014,
           2015,
           2016,
           2017,
           2018,
           2019,
           2020,
           2021,
           2022,
           2011,
           2012,
           2013,
           2014,
           2015,
           2016,
           2017,
           2018,
           2019,
           2020,
           2021,
           2022,
           2011,
           2012,
           2013,
           2014,
           2015,
           2016,
           2017,
           2018,
           2019,
           2020,
           2021,
           2022,
           2011,
           2012,
           2013,
           2014,
           2015,
           2016,
           2017,
           2018,
           2019,
           2020,
           2021,
           2022,
           2011,
           2012,
           2013,
           2014,
           2015,
           2016,
           2017,
           2018,
           2019,
           2020,
           2021,
           2022,
           2011,
           2012,
           2013,
           2014,
           2015,
           2016,
           2017,
           2018,
           2019,
           2020,
           2021,
           2022,
           2011,
           2012,
           2013,
           2014,
           2015,
           2016,
           2017,
           2018,
           2019,
           2020,
           2021,
           2022,
           2011,
           2012,
           2013,
           2014,
           2015,
           2016,
           2017,
           2018,
           2019,
           2020,
           2021,
           2022,
           2011,
           2012,
           2013,
           2014,
           2015,
           2016,
           2017,
           2018,
           2019,
           2020,
           2021,
           2022,
           2011,
           2012,
           2013,
           2014,
           2015,
           2016,
           2017,
           2018,
           2019,
           2020,
           2021,
           2022,
           2011,
           2012,
           2013,
           2014,
           2015,
           2016,
           2017,
           2018,
           2019,
           2020,
           2021,
           2022,
           2011,
           2012,
           2013,
           2014,
           2015,
           2016,
           2017,
           2018,
           2019,
           2020,
           2021,
           2022
          ],
          "coloraxis": "coloraxis",
          "opacity": 0.5,
          "symbol": "circle"
         },
         "mode": "markers",
         "name": "",
         "orientation": "v",
         "showlegend": false,
         "type": "scatter",
         "x": [
          0.10314796074460764,
          0.07707122909569004,
          0.18137815569136087,
          -0.07938916079781597,
          0.12922469239352524,
          0.024917765797854863,
          0.18137815569136087,
          0.25960835063811366,
          0.41606874053162013,
          0.024917765797854863,
          0.024917765797854863,
          -0.027235697499980782,
          0.7550662519675497,
          0.676836057020797,
          0.6507593253718789,
          0.4942989354783729,
          0.5986058620740438,
          0.5464523987762085,
          0.5203756671272904,
          0.5203756671272904,
          0.4942989354783729,
          0.25960835063811366,
          0.3117618139359493,
          0.1553014240424433,
          -0.13154262409565137,
          -0.2880030139891576,
          -0.41838667223374604,
          -0.3140797456380752,
          -0.1576193557445692,
          -0.3140797456380752,
          -0.20977281904240438,
          -0.3662332089359106,
          -0.3662332089359106,
          -0.6009237937761697,
          -0.3401564772869928,
          -0.1576193557445692,
          -0.7834609153185935,
          -0.8616911102653465,
          -0.9659980368610173,
          -0.9920747685099349,
          -0.9399213052120997,
          -0.9138445735631819,
          -0.7834609153185935,
          -0.8877678419142643,
          -0.8877678419142643,
          -0.9138445735631819,
          -0.8877678419142643,
          -0.8095376469675113,
          0.5725291304251261,
          0.3639152772337845,
          0.1553014240424433,
          0.3117618139359493,
          0.33783854558486687,
          0.4942989354783729,
          0.4682222038294553,
          0.41606874053162013,
          0.25960835063811366,
          0.12922469239352524,
          0.1553014240424433,
          0.12922469239352524,
          1.0419103001056442,
          0.9376033735099738,
          0.8332964469143029,
          0.7811429836164673,
          0.7811429836164673,
          0.8332964469143029,
          0.8854499102121381,
          0.9376033735099738,
          0.9376033735099738,
          0.7811429836164673,
          0.8854499102121381,
          0.7029127886697145,
          0.7550662519675497,
          0.5203756671272904,
          0.5725291304251261,
          0.3639152772337845,
          0.18137815569136087,
          0.2856850822870317,
          0.1553014240424433,
          0.23353161898919605,
          -0.0011589658510631894,
          -0.13154262409565137,
          -0.1576193557445692,
          -0.2619262823402398,
          1.3287543482437392,
          1.4591380064883275,
          2.0589028344134346,
          2.0589028344134346,
          1.563444933083998,
          2.0589028344134346,
          2.267516687604775,
          2.4500538091471995,
          1.3287543482437392,
          0.3117618139359493,
          0.4942989354783729,
          0.6246825937229613,
          0.1553014240424433,
          -0.20977281904240438,
          0.12922469239352524,
          -0.13154262409565137,
          -0.053312429148898374,
          0.2856850822870317,
          0.3117618139359493,
          0.8593731785632206,
          0.5203756671272904,
          0.20745488734027848,
          0.6507593253718789,
          0.5725291304251261,
          -0.3401564772869928,
          -0.3662332089359106,
          -0.3923099405848282,
          -0.5226935988294167,
          -0.496616867180499,
          -0.47054013553158125,
          -0.44446340388266364,
          -0.5487703304783345,
          -0.574847062127252,
          -0.7573841836696759,
          -0.6530772570740051,
          -0.7313074520207581,
          0.8072197152653854,
          0.8332964469143029,
          0.8854499102121381,
          0.7811429836164673,
          0.7550662519675497,
          0.7289895203186322,
          0.6507593253718789,
          0.8072197152653854,
          0.5986058620740438,
          0.3899920088827021,
          0.44214547218053774,
          0.44214547218053774,
          0.5203756671272904,
          0.44214547218053774,
          0.25960835063811366,
          0.20745488734027848,
          0.10314796074460764,
          -0.0011589658510631894,
          0.10314796074460764,
          -0.0011589658510631894,
          -0.1576193557445692,
          -0.41838667223374604,
          -0.3401564772869928,
          -0.3140797456380752,
          -0.5487703304783345,
          -0.6270005254250874,
          -0.6791539887229229,
          -0.7052307203718404,
          -0.6270005254250874,
          -0.574847062127252,
          -0.5226935988294167,
          -0.5226935988294167,
          -0.5487703304783345,
          -0.6270005254250874,
          -0.6009237937761697,
          -0.7052307203718404,
          1.3809078115415743,
          1.3548310798926566,
          1.3548310798926566,
          1.3548310798926566,
          1.4330612748394094,
          1.4591380064883275,
          1.4852147381372451,
          1.3548310798926566,
          1.1983706899991506,
          1.0940637634034798,
          1.146217226701315,
          0.989756836807809,
          -0.07938916079781597,
          -0.10546589244673378,
          -0.3401564772869928,
          -0.44446340388266364,
          -0.3923099405848282,
          -0.41838667223374604,
          -0.3662332089359106,
          -0.496616867180499,
          -0.5226935988294167,
          -0.6530772570740051,
          -0.496616867180499,
          -0.496616867180499,
          -1.0442282318077702,
          -1.226765353350194,
          -1.0703049634566881,
          -0.5487703304783345,
          -0.6791539887229229,
          -0.9138445735631819,
          -1.0963816951056058,
          -0.6791539887229229,
          -0.9138445735631819,
          -0.6270005254250874,
          -0.3923099405848282,
          0.05099449744677246,
          -1.2789188166480296,
          -1.226765353350194,
          -1.2528420849991118,
          -1.1746118900523588,
          -1.0442282318077702,
          -0.9399213052120997,
          -0.8616911102653465,
          -0.7834609153185935,
          -0.7834609153185935,
          -0.8095376469675113,
          -0.8095376469675113,
          -0.9659980368610173,
          3.779967123242001,
          3.4670463434549887,
          3.0237419054233885,
          2.6847443939874585,
          2.3718236142004465,
          2.1371330293601867,
          2.1371330293601867,
          2.267516687604775,
          2.189286492658023,
          1.3809078115415743,
          1.406984543190492,
          0.8332964469143029,
          -0.2880030139891576,
          -0.18369608739348678,
          -0.3923099405848282,
          -0.41838667223374604,
          -0.8877678419142643,
          -1.0703049634566881,
          -1.0181515001588528,
          -1.0442282318077702,
          -1.0442282318077702,
          -1.0703049634566881,
          -1.0703049634566881,
          -1.0181515001588528,
          1.0679870317545623,
          0.989756836807809,
          0.9636801051588914,
          0.8332964469143029,
          0.9376033735099738,
          0.9376033735099738,
          0.8593731785632206,
          0.7550662519675497,
          0.6507593253718789,
          0.3639152772337845,
          0.3899920088827021,
          0.18137815569136087,
          0.33783854558486687,
          0.2856850822870317,
          0.23353161898919605,
          0.20745488734027848,
          0.25960835063811366,
          0.2856850822870317,
          0.3639152772337845,
          0.3899920088827021,
          0.3639152772337845,
          0.2856850822870317,
          0.4942989354783729,
          0.3117618139359493,
          -0.5487703304783345,
          -0.574847062127252,
          -0.574847062127252,
          -0.6530772570740051,
          -0.496616867180499,
          -0.496616867180499,
          0.024917765797854863,
          -0.5487703304783345,
          -0.6270005254250874,
          -0.7834609153185935,
          -0.8095376469675113,
          -0.7573841836696759,
          -0.8877678419142643,
          -0.9659980368610173,
          -1.0963816951056058,
          -1.226765353350194,
          -1.226765353350194,
          -1.2789188166480296,
          -1.226765353350194,
          -1.1746118900523588,
          -1.226765353350194,
          -1.304995548296947,
          -1.226765353350194,
          -1.2528420849991118,
          -0.2358495506913222,
          -0.41838667223374604,
          -0.47054013553158125,
          -0.47054013553158125,
          -0.44446340388266364,
          -0.41838667223374604,
          -0.3662332089359106,
          -0.3401564772869928,
          -0.47054013553158125,
          -0.7052307203718404,
          -0.5226935988294167,
          -0.7052307203718404,
          -0.5487703304783345,
          -0.6009237937761697,
          -0.496616867180499,
          0.024917765797854863,
          0.05099449744677246,
          0.18137815569136087,
          0.20745488734027848,
          0.18137815569136087,
          -0.574847062127252,
          -0.7052307203718404,
          -0.6791539887229229,
          -0.7313074520207581,
          -0.44446340388266364,
          -0.47054013553158125,
          -0.6009237937761697,
          -0.6009237937761697,
          -0.574847062127252,
          -0.6270005254250874,
          -0.574847062127252,
          -0.6009237937761697,
          -0.7052307203718404,
          -0.9399213052120997,
          -0.8356143786164288,
          -0.8095376469675113,
          -2.1655276927112306,
          -2.1916044243601482,
          -2.243757887657984,
          -2.243757887657984,
          -2.1916044243601482,
          -2.1133742294133957,
          -1.9829905711688072,
          -1.8526069129242186,
          -1.8786836445731363,
          -1.9829905711688072,
          -1.8526069129242186,
          -1.8786836445731363
         ],
         "xaxis": "x",
         "y": [
          1.07512469036187,
          1.261656080920897,
          1.1506567675248562,
          1.0396574541288153,
          0.9332557454296511,
          0.7848187937876085,
          0.9595277722689514,
          1.1000831158592048,
          1.163135980273523,
          1.1289823453824337,
          0.991054204476111,
          0.9043565159064223,
          0.9253741373778621,
          0.7335883414509734,
          0.7138843213214991,
          0.6941803011920248,
          0.6836714904563049,
          0.6337546394616352,
          0.681044287772374,
          0.6757898824045148,
          0.5982874032285804,
          0.5588793629696307,
          0.5207849240526462,
          0.5917193965187557,
          -3.3096765891172453,
          -3.1888252656564666,
          -3.033163506633616,
          -2.8775017476107654,
          -2.878815348952731,
          -2.225955481996133,
          -1.9382767881058025,
          -1.8358158834325335,
          -1.7162781613137197,
          -1.5008475412314628,
          -1.362919400325139,
          -1.2381272728384658,
          -1.0318918621499635,
          -0.981975011155295,
          -0.9176085453990103,
          -0.8532420796427256,
          -1.209228043315236,
          -1.465380304998408,
          -1.428599467423389,
          -1.282789718465275,
          -1.186896820501832,
          -0.6916691145810335,
          -0.3724639884835421,
          -0.3724639884835421,
          0.00979400202826856,
          0.0754740691265175,
          -0.4348600522268787,
          -0.9451941735802748,
          -1.133039165481267,
          -1.034519064833893,
          -0.8493012756168317,
          -0.4762384944987754,
          -0.3278015428567329,
          -0.24373105697097389,
          -0.24635825965490357,
          -0.3658959817737173,
          -0.06376767312177058,
          -0.15571976705931978,
          -0.014507622798084152,
          0.12670452146315145,
          0.2462422435819652,
          0.26331906102750985,
          0.3973063979079386,
          0.5825241871250012,
          0.6600266663009343,
          0.7309611387670438,
          0.6718490783786196,
          0.5733289777312456,
          1.901379934457844,
          1.6872629157175514,
          1.578234004334458,
          1.4692050929513647,
          1.4678914916093995,
          1.46263708624154,
          1.5059859305263839,
          1.565097990914808,
          1.6255236526451975,
          1.5913700177541081,
          1.612387639225548,
          1.5467075721272991,
          -1.4167770553457038,
          -1.2906713265170653,
          -1.2887009245041177,
          -1.2867305224911703,
          -1.1711336043982516,
          -1.0476550782535439,
          -0.8795141064820259,
          -0.6772194998194185,
          -0.5077649267059351,
          -0.28839350259778307,
          -0.08872609861910542,
          0.061024454364902524,
          1.5375123627335434,
          1.2879281077601972,
          1.2990937191668992,
          1.3102593305736012,
          1.319454539967357,
          1.393016215117396,
          1.6071332338576874,
          1.7870966177068908,
          1.8396406713854903,
          1.882989515670334,
          1.8554038874890695,
          1.8330726646756654,
          0.4432824448767132,
          0.4669272690320826,
          0.34279194221639164,
          0.21865661540070067,
          0.09123728523009673,
          0.043947636919357866,
          0.1056868999917117,
          0.2409878382141047,
          0.3355671348355836,
          0.36972076972667406,
          0.3657799657007789,
          0.33162633080968845,
          0.21471581137480558,
          0.34607594557130344,
          0.397306397907938,
          0.4485368502445725,
          0.7690555776840282,
          0.7125707199795337,
          0.7309611387670438,
          0.757233165606344,
          0.8767708877251567,
          0.9805453937403912,
          0.8215996313626276,
          0.6350682408036006,
          -0.3619551777478222,
          -1.278848914439381,
          -1.6584797022672608,
          -2.0381104900951406,
          -1.8069166539093036,
          -1.5520779935680968,
          -1.3799962177706848,
          -1.4732619130501983,
          -1.1737608070821823,
          -0.9005317279534656,
          -0.6049714260113437,
          -0.6273026488247488,
          -1.925140774686153,
          -2.145825800136269,
          -2.1294057833617073,
          -2.1129857665871454,
          -1.6597933036092263,
          -1.424658663397494,
          -1.0358326661758586,
          -0.854555680984691,
          -0.536664156229165,
          -0.5471729669648849,
          -0.42369444082017604,
          -0.4828065012086002,
          1.1499999668538734,
          0.8767708877251567,
          0.7874459964715383,
          0.6981211052179199,
          0.654772260933075,
          0.7467243548706242,
          0.7467243548706242,
          0.8045228139170829,
          0.9004157118805273,
          0.888593299802842,
          0.8307948407563832,
          0.6600266663009343,
          0.22259741942659578,
          -0.5090785280479004,
          -0.5570249770296221,
          -0.6049714260113437,
          -0.5668769870943592,
          -0.5839538045399039,
          -0.536664156229165,
          -0.24373105697097389,
          -0.02830043688871701,
          0.0978052919399215,
          0.07678767046848176,
          -0.004655612733346416,
          -2.162902617581815,
          -1.7898398364637589,
          -1.7556862015726695,
          -1.7215325666815802,
          -1.1146487466937582,
          -0.7337043575239129,
          -0.6246754461408192,
          -0.6154802367470635,
          -0.602344223327414,
          -0.4946289132862855,
          -0.3002159146754684,
          -0.25686707039062345,
          -1.077867909118738,
          -1.2906713265170653,
          -1.023353453427191,
          -0.756035580337317,
          -0.7823076071766173,
          -0.6653970877417332,
          -0.5997170206434843,
          -0.34093755627638245,
          -0.25423986770669377,
          -0.2016958140280944,
          0.049202042287217224,
          0.4656136676901172,
          0.8439308541760328,
          0.8478716582019279,
          0.7769371857358184,
          0.7060027132697089,
          0.607482612622336,
          0.5969738018866162,
          0.6587130649589701,
          0.8951613065126667,
          1.089574305123485,
          1.202544020532473,
          1.3076321278896716,
          1.0764382917038342,
          -0.5892082099077643,
          -0.5839538045399039,
          -0.3619551777478222,
          -0.13995655095574056,
          0.10437329864974745,
          0.1556037509863814,
          0.2869638851828793,
          0.4170104180374129,
          0.47874968110976673,
          0.2541238516337554,
          0.05051564362918264,
          -0.14258375363967024,
          1.4495010728218893,
          1.4495010728218893,
          1.361489782910236,
          1.2734784929985823,
          1.2222480406619483,
          1.2721648916566168,
          1.3562353775423759,
          1.4179746406147309,
          1.3667441882780957,
          1.3864482084075713,
          1.3220817426512865,
          1.3063185265477062,
          -0.7954436205962668,
          -0.770485195098932,
          -0.7908460158993891,
          -0.8112068366998461,
          -0.7534083776533873,
          -0.5721313924622198,
          -0.37509119116747175,
          -0.2975887119915375,
          -0.2923343066236782,
          -0.3186063334629773,
          -0.37509119116747175,
          -0.19512780731826962,
          -1.420717859371599,
          -1.7175917626556851,
          -1.7169349619847023,
          -1.7162781613137197,
          -1.6886925331324552,
          -1.5941132365109763,
          -1.311688947988505,
          -0.9399397682124154,
          -0.653574675664049,
          -0.6299298515086785,
          -0.5156465347577253,
          -0.5786993991720445,
          -1.6164444593243814,
          -1.8069166539093036,
          -1.7471477928498973,
          -1.6873789317904908,
          -1.1566839896366377,
          -0.7665443910730368,
          -0.6089122300372387,
          -0.4447120622916158,
          -0.3737775898255075,
          -0.35275996835406775,
          0.08992368388813247,
          0.23704703418821074,
          -0.9872294165231543,
          -0.5773857978300792,
          -0.5603089803845345,
          -0.5432321629389898,
          -0.43420325155589595,
          -0.4079312247165968,
          -0.30941112406922283,
          -0.27657109052009776,
          -0.1675421791370051,
          -0.10186211203875498,
          -0.02304603152085649,
          0.0794148731524126,
          -0.6391250609024342,
          -0.4578480757112665,
          -0.5970898179595545,
          -0.7363315602078426,
          -0.8414196675650414,
          -0.854555680984691,
          -0.6049714260113437,
          -0.3816591978772966,
          -0.05982686909587548,
          0.06890606241669273,
          0.2909046892087744,
          0.3171767160480747,
          0.4629864650061875,
          -0.11368452411644028,
          -0.10908691941956306,
          -0.10448931472268583,
          -0.06245407177980632,
          -0.007282815417277259,
          -0.12944774022002067,
          -0.07164928117356077,
          -0.009910018101206937,
          0.10831410267564139,
          0.08861008254616705,
          0.03606602886756767,
          1.2747920943405464,
          1.407465829879011,
          1.3312769520450416,
          1.2550880742110722,
          1.1591951762476291,
          1.1499999668538734,
          1.1894080071128232,
          1.2275024460298076,
          1.2406384594494573,
          1.2537744728691078,
          1.2813601010503723,
          1.2958097158119863
         ],
         "yaxis": "y"
        }
       ],
       "layout": {
        "coloraxis": {
         "colorbar": {
          "title": {
           "text": "year"
          }
         },
         "colorscale": [
          [
           0,
           "#0d0887"
          ],
          [
           0.1111111111111111,
           "#46039f"
          ],
          [
           0.2222222222222222,
           "#7201a8"
          ],
          [
           0.3333333333333333,
           "#9c179e"
          ],
          [
           0.4444444444444444,
           "#bd3786"
          ],
          [
           0.5555555555555556,
           "#d8576b"
          ],
          [
           0.6666666666666666,
           "#ed7953"
          ],
          [
           0.7777777777777778,
           "#fb9f3a"
          ],
          [
           0.8888888888888888,
           "#fdca26"
          ],
          [
           1,
           "#f0f921"
          ]
         ]
        },
        "legend": {
         "tracegroupgap": 0
        },
        "template": {
         "data": {
          "bar": [
           {
            "error_x": {
             "color": "#2a3f5f"
            },
            "error_y": {
             "color": "#2a3f5f"
            },
            "marker": {
             "line": {
              "color": "#E5ECF6",
              "width": 0.5
             },
             "pattern": {
              "fillmode": "overlay",
              "size": 10,
              "solidity": 0.2
             }
            },
            "type": "bar"
           }
          ],
          "barpolar": [
           {
            "marker": {
             "line": {
              "color": "#E5ECF6",
              "width": 0.5
             },
             "pattern": {
              "fillmode": "overlay",
              "size": 10,
              "solidity": 0.2
             }
            },
            "type": "barpolar"
           }
          ],
          "carpet": [
           {
            "aaxis": {
             "endlinecolor": "#2a3f5f",
             "gridcolor": "white",
             "linecolor": "white",
             "minorgridcolor": "white",
             "startlinecolor": "#2a3f5f"
            },
            "baxis": {
             "endlinecolor": "#2a3f5f",
             "gridcolor": "white",
             "linecolor": "white",
             "minorgridcolor": "white",
             "startlinecolor": "#2a3f5f"
            },
            "type": "carpet"
           }
          ],
          "choropleth": [
           {
            "colorbar": {
             "outlinewidth": 0,
             "ticks": ""
            },
            "type": "choropleth"
           }
          ],
          "contour": [
           {
            "colorbar": {
             "outlinewidth": 0,
             "ticks": ""
            },
            "colorscale": [
             [
              0,
              "#0d0887"
             ],
             [
              0.1111111111111111,
              "#46039f"
             ],
             [
              0.2222222222222222,
              "#7201a8"
             ],
             [
              0.3333333333333333,
              "#9c179e"
             ],
             [
              0.4444444444444444,
              "#bd3786"
             ],
             [
              0.5555555555555556,
              "#d8576b"
             ],
             [
              0.6666666666666666,
              "#ed7953"
             ],
             [
              0.7777777777777778,
              "#fb9f3a"
             ],
             [
              0.8888888888888888,
              "#fdca26"
             ],
             [
              1,
              "#f0f921"
             ]
            ],
            "type": "contour"
           }
          ],
          "contourcarpet": [
           {
            "colorbar": {
             "outlinewidth": 0,
             "ticks": ""
            },
            "type": "contourcarpet"
           }
          ],
          "heatmap": [
           {
            "colorbar": {
             "outlinewidth": 0,
             "ticks": ""
            },
            "colorscale": [
             [
              0,
              "#0d0887"
             ],
             [
              0.1111111111111111,
              "#46039f"
             ],
             [
              0.2222222222222222,
              "#7201a8"
             ],
             [
              0.3333333333333333,
              "#9c179e"
             ],
             [
              0.4444444444444444,
              "#bd3786"
             ],
             [
              0.5555555555555556,
              "#d8576b"
             ],
             [
              0.6666666666666666,
              "#ed7953"
             ],
             [
              0.7777777777777778,
              "#fb9f3a"
             ],
             [
              0.8888888888888888,
              "#fdca26"
             ],
             [
              1,
              "#f0f921"
             ]
            ],
            "type": "heatmap"
           }
          ],
          "heatmapgl": [
           {
            "colorbar": {
             "outlinewidth": 0,
             "ticks": ""
            },
            "colorscale": [
             [
              0,
              "#0d0887"
             ],
             [
              0.1111111111111111,
              "#46039f"
             ],
             [
              0.2222222222222222,
              "#7201a8"
             ],
             [
              0.3333333333333333,
              "#9c179e"
             ],
             [
              0.4444444444444444,
              "#bd3786"
             ],
             [
              0.5555555555555556,
              "#d8576b"
             ],
             [
              0.6666666666666666,
              "#ed7953"
             ],
             [
              0.7777777777777778,
              "#fb9f3a"
             ],
             [
              0.8888888888888888,
              "#fdca26"
             ],
             [
              1,
              "#f0f921"
             ]
            ],
            "type": "heatmapgl"
           }
          ],
          "histogram": [
           {
            "marker": {
             "pattern": {
              "fillmode": "overlay",
              "size": 10,
              "solidity": 0.2
             }
            },
            "type": "histogram"
           }
          ],
          "histogram2d": [
           {
            "colorbar": {
             "outlinewidth": 0,
             "ticks": ""
            },
            "colorscale": [
             [
              0,
              "#0d0887"
             ],
             [
              0.1111111111111111,
              "#46039f"
             ],
             [
              0.2222222222222222,
              "#7201a8"
             ],
             [
              0.3333333333333333,
              "#9c179e"
             ],
             [
              0.4444444444444444,
              "#bd3786"
             ],
             [
              0.5555555555555556,
              "#d8576b"
             ],
             [
              0.6666666666666666,
              "#ed7953"
             ],
             [
              0.7777777777777778,
              "#fb9f3a"
             ],
             [
              0.8888888888888888,
              "#fdca26"
             ],
             [
              1,
              "#f0f921"
             ]
            ],
            "type": "histogram2d"
           }
          ],
          "histogram2dcontour": [
           {
            "colorbar": {
             "outlinewidth": 0,
             "ticks": ""
            },
            "colorscale": [
             [
              0,
              "#0d0887"
             ],
             [
              0.1111111111111111,
              "#46039f"
             ],
             [
              0.2222222222222222,
              "#7201a8"
             ],
             [
              0.3333333333333333,
              "#9c179e"
             ],
             [
              0.4444444444444444,
              "#bd3786"
             ],
             [
              0.5555555555555556,
              "#d8576b"
             ],
             [
              0.6666666666666666,
              "#ed7953"
             ],
             [
              0.7777777777777778,
              "#fb9f3a"
             ],
             [
              0.8888888888888888,
              "#fdca26"
             ],
             [
              1,
              "#f0f921"
             ]
            ],
            "type": "histogram2dcontour"
           }
          ],
          "mesh3d": [
           {
            "colorbar": {
             "outlinewidth": 0,
             "ticks": ""
            },
            "type": "mesh3d"
           }
          ],
          "parcoords": [
           {
            "line": {
             "colorbar": {
              "outlinewidth": 0,
              "ticks": ""
             }
            },
            "type": "parcoords"
           }
          ],
          "pie": [
           {
            "automargin": true,
            "type": "pie"
           }
          ],
          "scatter": [
           {
            "fillpattern": {
             "fillmode": "overlay",
             "size": 10,
             "solidity": 0.2
            },
            "type": "scatter"
           }
          ],
          "scatter3d": [
           {
            "line": {
             "colorbar": {
              "outlinewidth": 0,
              "ticks": ""
             }
            },
            "marker": {
             "colorbar": {
              "outlinewidth": 0,
              "ticks": ""
             }
            },
            "type": "scatter3d"
           }
          ],
          "scattercarpet": [
           {
            "marker": {
             "colorbar": {
              "outlinewidth": 0,
              "ticks": ""
             }
            },
            "type": "scattercarpet"
           }
          ],
          "scattergeo": [
           {
            "marker": {
             "colorbar": {
              "outlinewidth": 0,
              "ticks": ""
             }
            },
            "type": "scattergeo"
           }
          ],
          "scattergl": [
           {
            "marker": {
             "colorbar": {
              "outlinewidth": 0,
              "ticks": ""
             }
            },
            "type": "scattergl"
           }
          ],
          "scattermapbox": [
           {
            "marker": {
             "colorbar": {
              "outlinewidth": 0,
              "ticks": ""
             }
            },
            "type": "scattermapbox"
           }
          ],
          "scatterpolar": [
           {
            "marker": {
             "colorbar": {
              "outlinewidth": 0,
              "ticks": ""
             }
            },
            "type": "scatterpolar"
           }
          ],
          "scatterpolargl": [
           {
            "marker": {
             "colorbar": {
              "outlinewidth": 0,
              "ticks": ""
             }
            },
            "type": "scatterpolargl"
           }
          ],
          "scatterternary": [
           {
            "marker": {
             "colorbar": {
              "outlinewidth": 0,
              "ticks": ""
             }
            },
            "type": "scatterternary"
           }
          ],
          "surface": [
           {
            "colorbar": {
             "outlinewidth": 0,
             "ticks": ""
            },
            "colorscale": [
             [
              0,
              "#0d0887"
             ],
             [
              0.1111111111111111,
              "#46039f"
             ],
             [
              0.2222222222222222,
              "#7201a8"
             ],
             [
              0.3333333333333333,
              "#9c179e"
             ],
             [
              0.4444444444444444,
              "#bd3786"
             ],
             [
              0.5555555555555556,
              "#d8576b"
             ],
             [
              0.6666666666666666,
              "#ed7953"
             ],
             [
              0.7777777777777778,
              "#fb9f3a"
             ],
             [
              0.8888888888888888,
              "#fdca26"
             ],
             [
              1,
              "#f0f921"
             ]
            ],
            "type": "surface"
           }
          ],
          "table": [
           {
            "cells": {
             "fill": {
              "color": "#EBF0F8"
             },
             "line": {
              "color": "white"
             }
            },
            "header": {
             "fill": {
              "color": "#C8D4E3"
             },
             "line": {
              "color": "white"
             }
            },
            "type": "table"
           }
          ]
         },
         "layout": {
          "annotationdefaults": {
           "arrowcolor": "#2a3f5f",
           "arrowhead": 0,
           "arrowwidth": 1
          },
          "autotypenumbers": "strict",
          "coloraxis": {
           "colorbar": {
            "outlinewidth": 0,
            "ticks": ""
           }
          },
          "colorscale": {
           "diverging": [
            [
             0,
             "#8e0152"
            ],
            [
             0.1,
             "#c51b7d"
            ],
            [
             0.2,
             "#de77ae"
            ],
            [
             0.3,
             "#f1b6da"
            ],
            [
             0.4,
             "#fde0ef"
            ],
            [
             0.5,
             "#f7f7f7"
            ],
            [
             0.6,
             "#e6f5d0"
            ],
            [
             0.7,
             "#b8e186"
            ],
            [
             0.8,
             "#7fbc41"
            ],
            [
             0.9,
             "#4d9221"
            ],
            [
             1,
             "#276419"
            ]
           ],
           "sequential": [
            [
             0,
             "#0d0887"
            ],
            [
             0.1111111111111111,
             "#46039f"
            ],
            [
             0.2222222222222222,
             "#7201a8"
            ],
            [
             0.3333333333333333,
             "#9c179e"
            ],
            [
             0.4444444444444444,
             "#bd3786"
            ],
            [
             0.5555555555555556,
             "#d8576b"
            ],
            [
             0.6666666666666666,
             "#ed7953"
            ],
            [
             0.7777777777777778,
             "#fb9f3a"
            ],
            [
             0.8888888888888888,
             "#fdca26"
            ],
            [
             1,
             "#f0f921"
            ]
           ],
           "sequentialminus": [
            [
             0,
             "#0d0887"
            ],
            [
             0.1111111111111111,
             "#46039f"
            ],
            [
             0.2222222222222222,
             "#7201a8"
            ],
            [
             0.3333333333333333,
             "#9c179e"
            ],
            [
             0.4444444444444444,
             "#bd3786"
            ],
            [
             0.5555555555555556,
             "#d8576b"
            ],
            [
             0.6666666666666666,
             "#ed7953"
            ],
            [
             0.7777777777777778,
             "#fb9f3a"
            ],
            [
             0.8888888888888888,
             "#fdca26"
            ],
            [
             1,
             "#f0f921"
            ]
           ]
          },
          "colorway": [
           "#636efa",
           "#EF553B",
           "#00cc96",
           "#ab63fa",
           "#FFA15A",
           "#19d3f3",
           "#FF6692",
           "#B6E880",
           "#FF97FF",
           "#FECB52"
          ],
          "font": {
           "color": "#2a3f5f"
          },
          "geo": {
           "bgcolor": "white",
           "lakecolor": "white",
           "landcolor": "#E5ECF6",
           "showlakes": true,
           "showland": true,
           "subunitcolor": "white"
          },
          "hoverlabel": {
           "align": "left"
          },
          "hovermode": "closest",
          "mapbox": {
           "style": "light"
          },
          "paper_bgcolor": "white",
          "plot_bgcolor": "#E5ECF6",
          "polar": {
           "angularaxis": {
            "gridcolor": "white",
            "linecolor": "white",
            "ticks": ""
           },
           "bgcolor": "#E5ECF6",
           "radialaxis": {
            "gridcolor": "white",
            "linecolor": "white",
            "ticks": ""
           }
          },
          "scene": {
           "xaxis": {
            "backgroundcolor": "#E5ECF6",
            "gridcolor": "white",
            "gridwidth": 2,
            "linecolor": "white",
            "showbackground": true,
            "ticks": "",
            "zerolinecolor": "white"
           },
           "yaxis": {
            "backgroundcolor": "#E5ECF6",
            "gridcolor": "white",
            "gridwidth": 2,
            "linecolor": "white",
            "showbackground": true,
            "ticks": "",
            "zerolinecolor": "white"
           },
           "zaxis": {
            "backgroundcolor": "#E5ECF6",
            "gridcolor": "white",
            "gridwidth": 2,
            "linecolor": "white",
            "showbackground": true,
            "ticks": "",
            "zerolinecolor": "white"
           }
          },
          "shapedefaults": {
           "line": {
            "color": "#2a3f5f"
           }
          },
          "ternary": {
           "aaxis": {
            "gridcolor": "white",
            "linecolor": "white",
            "ticks": ""
           },
           "baxis": {
            "gridcolor": "white",
            "linecolor": "white",
            "ticks": ""
           },
           "bgcolor": "#E5ECF6",
           "caxis": {
            "gridcolor": "white",
            "linecolor": "white",
            "ticks": ""
           }
          },
          "title": {
           "x": 0.05
          },
          "xaxis": {
           "automargin": true,
           "gridcolor": "white",
           "linecolor": "white",
           "ticks": "",
           "title": {
            "standoff": 15
           },
           "zerolinecolor": "white",
           "zerolinewidth": 2
          },
          "yaxis": {
           "automargin": true,
           "gridcolor": "white",
           "linecolor": "white",
           "ticks": "",
           "title": {
            "standoff": 15
           },
           "zerolinecolor": "white",
           "zerolinewidth": 2
          }
         }
        },
        "title": {
         "text": "Comparing Relationship of Emissions and Quality of Life in Europe"
        },
        "xaxis": {
         "anchor": "y",
         "domain": [
          0,
          1
         ],
         "title": {
          "text": "Emissions [Tonnes per capita]"
         }
        },
        "yaxis": {
         "anchor": "x",
         "domain": [
          0,
          1
         ],
         "title": {
          "text": "Quality of Life"
         }
        }
       }
      }
     },
     "metadata": {},
     "output_type": "display_data"
    }
   ],
   "source": [
    "fig = px.scatter(\n",
    "    combined,\n",
    "    x='environment',\n",
    "    y='qol',\n",
    "    color='year',\n",
    "    opacity=0.5,\n",
    "    labels={'environment': 'Emissions [Tonnes per capita]', 'qol': 'Quality of Life'},\n",
    "    title='Comparing Relationship of Emissions and Quality of Life in Europe',\n",
    "    hover_data=['country', 'year']\n",
    ")\n",
    "\n",
    "fig"
   ]
  },
  {
   "cell_type": "markdown",
   "id": "c21ffc53",
   "metadata": {},
   "source": [
    "Now, I am plotting each factor over time."
   ]
  },
  {
   "cell_type": "code",
   "execution_count": 149,
   "id": "7d5f66c6",
   "metadata": {},
   "outputs": [
    {
     "data": {
      "application/vnd.plotly.v1+json": {
       "config": {
        "plotlyServerURL": "https://plot.ly"
       },
       "data": [
        {
         "customdata": [
          [
           "Austria"
          ],
          [
           "Austria"
          ],
          [
           "Austria"
          ],
          [
           "Austria"
          ],
          [
           "Austria"
          ],
          [
           "Austria"
          ],
          [
           "Austria"
          ],
          [
           "Austria"
          ],
          [
           "Austria"
          ],
          [
           "Austria"
          ],
          [
           "Austria"
          ],
          [
           "Austria"
          ]
         ],
         "hovertemplate": "country=%{customdata[0]}<br>Year=%{x}<br>Quality of Life=%{y}<extra></extra>",
         "legendgroup": "Austria",
         "line": {
          "color": "#636efa",
          "dash": "solid"
         },
         "marker": {
          "symbol": "circle"
         },
         "mode": "lines",
         "name": "Austria",
         "orientation": "v",
         "showlegend": true,
         "type": "scatter",
         "x": [
          2011,
          2012,
          2013,
          2014,
          2015,
          2016,
          2017,
          2018,
          2019,
          2020,
          2021,
          2022
         ],
         "xaxis": "x",
         "y": [
          1.07512469036187,
          1.261656080920897,
          1.1506567675248562,
          1.0396574541288153,
          0.9332557454296511,
          0.7848187937876085,
          0.9595277722689514,
          1.1000831158592048,
          1.163135980273523,
          1.1289823453824337,
          0.991054204476111,
          0.9043565159064223
         ],
         "yaxis": "y"
        },
        {
         "customdata": [
          [
           "Belgium"
          ],
          [
           "Belgium"
          ],
          [
           "Belgium"
          ],
          [
           "Belgium"
          ],
          [
           "Belgium"
          ],
          [
           "Belgium"
          ],
          [
           "Belgium"
          ],
          [
           "Belgium"
          ],
          [
           "Belgium"
          ],
          [
           "Belgium"
          ],
          [
           "Belgium"
          ],
          [
           "Belgium"
          ]
         ],
         "hovertemplate": "country=%{customdata[0]}<br>Year=%{x}<br>Quality of Life=%{y}<extra></extra>",
         "legendgroup": "Belgium",
         "line": {
          "color": "#EF553B",
          "dash": "solid"
         },
         "marker": {
          "symbol": "circle"
         },
         "mode": "lines",
         "name": "Belgium",
         "orientation": "v",
         "showlegend": true,
         "type": "scatter",
         "x": [
          2011,
          2012,
          2013,
          2014,
          2015,
          2016,
          2017,
          2018,
          2019,
          2020,
          2021,
          2022
         ],
         "xaxis": "x",
         "y": [
          0.9253741373778621,
          0.7335883414509734,
          0.7138843213214991,
          0.6941803011920248,
          0.6836714904563049,
          0.6337546394616352,
          0.681044287772374,
          0.6757898824045148,
          0.5982874032285804,
          0.5588793629696307,
          0.5207849240526462,
          0.5917193965187557
         ],
         "yaxis": "y"
        },
        {
         "customdata": [
          [
           "Bulgaria"
          ],
          [
           "Bulgaria"
          ],
          [
           "Bulgaria"
          ],
          [
           "Bulgaria"
          ],
          [
           "Bulgaria"
          ],
          [
           "Bulgaria"
          ],
          [
           "Bulgaria"
          ],
          [
           "Bulgaria"
          ],
          [
           "Bulgaria"
          ],
          [
           "Bulgaria"
          ],
          [
           "Bulgaria"
          ],
          [
           "Bulgaria"
          ]
         ],
         "hovertemplate": "country=%{customdata[0]}<br>Year=%{x}<br>Quality of Life=%{y}<extra></extra>",
         "legendgroup": "Bulgaria",
         "line": {
          "color": "#00cc96",
          "dash": "solid"
         },
         "marker": {
          "symbol": "circle"
         },
         "mode": "lines",
         "name": "Bulgaria",
         "orientation": "v",
         "showlegend": true,
         "type": "scatter",
         "x": [
          2011,
          2012,
          2013,
          2014,
          2015,
          2016,
          2017,
          2018,
          2019,
          2020,
          2021,
          2022
         ],
         "xaxis": "x",
         "y": [
          -3.3096765891172453,
          -3.1888252656564666,
          -3.033163506633616,
          -2.8775017476107654,
          -2.878815348952731,
          -2.225955481996133,
          -1.9382767881058025,
          -1.8358158834325335,
          -1.7162781613137197,
          -1.5008475412314628,
          -1.362919400325139,
          -1.2381272728384658
         ],
         "yaxis": "y"
        },
        {
         "customdata": [
          [
           "Croatia"
          ],
          [
           "Croatia"
          ],
          [
           "Croatia"
          ],
          [
           "Croatia"
          ],
          [
           "Croatia"
          ],
          [
           "Croatia"
          ],
          [
           "Croatia"
          ],
          [
           "Croatia"
          ],
          [
           "Croatia"
          ],
          [
           "Croatia"
          ],
          [
           "Croatia"
          ],
          [
           "Croatia"
          ]
         ],
         "hovertemplate": "country=%{customdata[0]}<br>Year=%{x}<br>Quality of Life=%{y}<extra></extra>",
         "legendgroup": "Croatia",
         "line": {
          "color": "#ab63fa",
          "dash": "solid"
         },
         "marker": {
          "symbol": "circle"
         },
         "mode": "lines",
         "name": "Croatia",
         "orientation": "v",
         "showlegend": true,
         "type": "scatter",
         "x": [
          2011,
          2012,
          2013,
          2014,
          2015,
          2016,
          2017,
          2018,
          2019,
          2020,
          2021,
          2022
         ],
         "xaxis": "x",
         "y": [
          -1.0318918621499635,
          -0.981975011155295,
          -0.9176085453990103,
          -0.8532420796427256,
          -1.209228043315236,
          -1.465380304998408,
          -1.428599467423389,
          -1.282789718465275,
          -1.186896820501832,
          -0.6916691145810335,
          -0.3724639884835421,
          -0.3724639884835421
         ],
         "yaxis": "y"
        },
        {
         "customdata": [
          [
           "Cyprus"
          ],
          [
           "Cyprus"
          ],
          [
           "Cyprus"
          ],
          [
           "Cyprus"
          ],
          [
           "Cyprus"
          ],
          [
           "Cyprus"
          ],
          [
           "Cyprus"
          ],
          [
           "Cyprus"
          ],
          [
           "Cyprus"
          ],
          [
           "Cyprus"
          ],
          [
           "Cyprus"
          ],
          [
           "Cyprus"
          ]
         ],
         "hovertemplate": "country=%{customdata[0]}<br>Year=%{x}<br>Quality of Life=%{y}<extra></extra>",
         "legendgroup": "Cyprus",
         "line": {
          "color": "#FFA15A",
          "dash": "solid"
         },
         "marker": {
          "symbol": "circle"
         },
         "mode": "lines",
         "name": "Cyprus",
         "orientation": "v",
         "showlegend": true,
         "type": "scatter",
         "x": [
          2011,
          2012,
          2013,
          2014,
          2015,
          2016,
          2017,
          2018,
          2019,
          2020,
          2021,
          2022
         ],
         "xaxis": "x",
         "y": [
          0.00979400202826856,
          0.0754740691265175,
          -0.4348600522268787,
          -0.9451941735802748,
          -1.133039165481267,
          -1.034519064833893,
          -0.8493012756168317,
          -0.4762384944987754,
          -0.3278015428567329,
          -0.24373105697097389,
          -0.24635825965490357,
          -0.3658959817737173
         ],
         "yaxis": "y"
        },
        {
         "customdata": [
          [
           "Czechia"
          ],
          [
           "Czechia"
          ],
          [
           "Czechia"
          ],
          [
           "Czechia"
          ],
          [
           "Czechia"
          ],
          [
           "Czechia"
          ],
          [
           "Czechia"
          ],
          [
           "Czechia"
          ],
          [
           "Czechia"
          ],
          [
           "Czechia"
          ],
          [
           "Czechia"
          ],
          [
           "Czechia"
          ]
         ],
         "hovertemplate": "country=%{customdata[0]}<br>Year=%{x}<br>Quality of Life=%{y}<extra></extra>",
         "legendgroup": "Czechia",
         "line": {
          "color": "#19d3f3",
          "dash": "solid"
         },
         "marker": {
          "symbol": "circle"
         },
         "mode": "lines",
         "name": "Czechia",
         "orientation": "v",
         "showlegend": true,
         "type": "scatter",
         "x": [
          2011,
          2012,
          2013,
          2014,
          2015,
          2016,
          2017,
          2018,
          2019,
          2020,
          2021,
          2022
         ],
         "xaxis": "x",
         "y": [
          -0.06376767312177058,
          -0.15571976705931978,
          -0.014507622798084152,
          0.12670452146315145,
          0.2462422435819652,
          0.26331906102750985,
          0.3973063979079386,
          0.5825241871250012,
          0.6600266663009343,
          0.7309611387670438,
          0.6718490783786196,
          0.5733289777312456
         ],
         "yaxis": "y"
        },
        {
         "customdata": [
          [
           "Denmark"
          ],
          [
           "Denmark"
          ],
          [
           "Denmark"
          ],
          [
           "Denmark"
          ],
          [
           "Denmark"
          ],
          [
           "Denmark"
          ],
          [
           "Denmark"
          ],
          [
           "Denmark"
          ],
          [
           "Denmark"
          ],
          [
           "Denmark"
          ],
          [
           "Denmark"
          ],
          [
           "Denmark"
          ]
         ],
         "hovertemplate": "country=%{customdata[0]}<br>Year=%{x}<br>Quality of Life=%{y}<extra></extra>",
         "legendgroup": "Denmark",
         "line": {
          "color": "#FF6692",
          "dash": "solid"
         },
         "marker": {
          "symbol": "circle"
         },
         "mode": "lines",
         "name": "Denmark",
         "orientation": "v",
         "showlegend": true,
         "type": "scatter",
         "x": [
          2011,
          2012,
          2013,
          2014,
          2015,
          2016,
          2017,
          2018,
          2019,
          2020,
          2021,
          2022
         ],
         "xaxis": "x",
         "y": [
          1.901379934457844,
          1.6872629157175514,
          1.578234004334458,
          1.4692050929513647,
          1.4678914916093995,
          1.46263708624154,
          1.5059859305263839,
          1.565097990914808,
          1.6255236526451975,
          1.5913700177541081,
          1.612387639225548,
          1.5467075721272991
         ],
         "yaxis": "y"
        },
        {
         "customdata": [
          [
           "Estonia"
          ],
          [
           "Estonia"
          ],
          [
           "Estonia"
          ],
          [
           "Estonia"
          ],
          [
           "Estonia"
          ],
          [
           "Estonia"
          ],
          [
           "Estonia"
          ],
          [
           "Estonia"
          ],
          [
           "Estonia"
          ],
          [
           "Estonia"
          ],
          [
           "Estonia"
          ],
          [
           "Estonia"
          ]
         ],
         "hovertemplate": "country=%{customdata[0]}<br>Year=%{x}<br>Quality of Life=%{y}<extra></extra>",
         "legendgroup": "Estonia",
         "line": {
          "color": "#B6E880",
          "dash": "solid"
         },
         "marker": {
          "symbol": "circle"
         },
         "mode": "lines",
         "name": "Estonia",
         "orientation": "v",
         "showlegend": true,
         "type": "scatter",
         "x": [
          2011,
          2012,
          2013,
          2014,
          2015,
          2016,
          2017,
          2018,
          2019,
          2020,
          2021,
          2022
         ],
         "xaxis": "x",
         "y": [
          -1.4167770553457038,
          -1.2906713265170653,
          -1.2887009245041177,
          -1.2867305224911703,
          -1.1711336043982516,
          -1.0476550782535439,
          -0.8795141064820259,
          -0.6772194998194185,
          -0.5077649267059351,
          -0.28839350259778307,
          -0.08872609861910542,
          0.061024454364902524
         ],
         "yaxis": "y"
        },
        {
         "customdata": [
          [
           "Finland"
          ],
          [
           "Finland"
          ],
          [
           "Finland"
          ],
          [
           "Finland"
          ],
          [
           "Finland"
          ],
          [
           "Finland"
          ],
          [
           "Finland"
          ],
          [
           "Finland"
          ],
          [
           "Finland"
          ],
          [
           "Finland"
          ],
          [
           "Finland"
          ],
          [
           "Finland"
          ]
         ],
         "hovertemplate": "country=%{customdata[0]}<br>Year=%{x}<br>Quality of Life=%{y}<extra></extra>",
         "legendgroup": "Finland",
         "line": {
          "color": "#FF97FF",
          "dash": "solid"
         },
         "marker": {
          "symbol": "circle"
         },
         "mode": "lines",
         "name": "Finland",
         "orientation": "v",
         "showlegend": true,
         "type": "scatter",
         "x": [
          2011,
          2012,
          2013,
          2014,
          2015,
          2016,
          2017,
          2018,
          2019,
          2020,
          2021,
          2022
         ],
         "xaxis": "x",
         "y": [
          1.5375123627335434,
          1.2879281077601972,
          1.2990937191668992,
          1.3102593305736012,
          1.319454539967357,
          1.393016215117396,
          1.6071332338576874,
          1.7870966177068908,
          1.8396406713854903,
          1.882989515670334,
          1.8554038874890695,
          1.8330726646756654
         ],
         "yaxis": "y"
        },
        {
         "customdata": [
          [
           "France"
          ],
          [
           "France"
          ],
          [
           "France"
          ],
          [
           "France"
          ],
          [
           "France"
          ],
          [
           "France"
          ],
          [
           "France"
          ],
          [
           "France"
          ],
          [
           "France"
          ],
          [
           "France"
          ],
          [
           "France"
          ],
          [
           "France"
          ]
         ],
         "hovertemplate": "country=%{customdata[0]}<br>Year=%{x}<br>Quality of Life=%{y}<extra></extra>",
         "legendgroup": "France",
         "line": {
          "color": "#FECB52",
          "dash": "solid"
         },
         "marker": {
          "symbol": "circle"
         },
         "mode": "lines",
         "name": "France",
         "orientation": "v",
         "showlegend": true,
         "type": "scatter",
         "x": [
          2011,
          2012,
          2013,
          2014,
          2015,
          2016,
          2017,
          2018,
          2019,
          2020,
          2021,
          2022
         ],
         "xaxis": "x",
         "y": [
          0.4432824448767132,
          0.4669272690320826,
          0.34279194221639164,
          0.21865661540070067,
          0.09123728523009673,
          0.043947636919357866,
          0.1056868999917117,
          0.2409878382141047,
          0.3355671348355836,
          0.36972076972667406,
          0.3657799657007789,
          0.33162633080968845
         ],
         "yaxis": "y"
        },
        {
         "customdata": [
          [
           "Germany"
          ],
          [
           "Germany"
          ],
          [
           "Germany"
          ],
          [
           "Germany"
          ],
          [
           "Germany"
          ],
          [
           "Germany"
          ],
          [
           "Germany"
          ],
          [
           "Germany"
          ],
          [
           "Germany"
          ],
          [
           "Germany"
          ],
          [
           "Germany"
          ],
          [
           "Germany"
          ]
         ],
         "hovertemplate": "country=%{customdata[0]}<br>Year=%{x}<br>Quality of Life=%{y}<extra></extra>",
         "legendgroup": "Germany",
         "line": {
          "color": "#636efa",
          "dash": "solid"
         },
         "marker": {
          "symbol": "circle"
         },
         "mode": "lines",
         "name": "Germany",
         "orientation": "v",
         "showlegend": true,
         "type": "scatter",
         "x": [
          2011,
          2012,
          2013,
          2014,
          2015,
          2016,
          2017,
          2018,
          2019,
          2020,
          2021,
          2022
         ],
         "xaxis": "x",
         "y": [
          0.21471581137480558,
          0.34607594557130344,
          0.397306397907938,
          0.4485368502445725,
          0.7690555776840282,
          0.7125707199795337,
          0.7309611387670438,
          0.757233165606344,
          0.8767708877251567,
          0.9805453937403912,
          0.8215996313626276,
          0.6350682408036006
         ],
         "yaxis": "y"
        },
        {
         "customdata": [
          [
           "Greece"
          ],
          [
           "Greece"
          ],
          [
           "Greece"
          ],
          [
           "Greece"
          ],
          [
           "Greece"
          ],
          [
           "Greece"
          ],
          [
           "Greece"
          ],
          [
           "Greece"
          ],
          [
           "Greece"
          ],
          [
           "Greece"
          ],
          [
           "Greece"
          ],
          [
           "Greece"
          ]
         ],
         "hovertemplate": "country=%{customdata[0]}<br>Year=%{x}<br>Quality of Life=%{y}<extra></extra>",
         "legendgroup": "Greece",
         "line": {
          "color": "#EF553B",
          "dash": "solid"
         },
         "marker": {
          "symbol": "circle"
         },
         "mode": "lines",
         "name": "Greece",
         "orientation": "v",
         "showlegend": true,
         "type": "scatter",
         "x": [
          2011,
          2012,
          2013,
          2014,
          2015,
          2016,
          2017,
          2018,
          2019,
          2020,
          2021,
          2022
         ],
         "xaxis": "x",
         "y": [
          -0.3619551777478222,
          -1.278848914439381,
          -1.6584797022672608,
          -2.0381104900951406,
          -1.8069166539093036,
          -1.5520779935680968,
          -1.3799962177706848,
          -1.4732619130501983,
          -1.1737608070821823,
          -0.9005317279534656,
          -0.6049714260113437,
          -0.6273026488247488
         ],
         "yaxis": "y"
        },
        {
         "customdata": [
          [
           "Hungary"
          ],
          [
           "Hungary"
          ],
          [
           "Hungary"
          ],
          [
           "Hungary"
          ],
          [
           "Hungary"
          ],
          [
           "Hungary"
          ],
          [
           "Hungary"
          ],
          [
           "Hungary"
          ],
          [
           "Hungary"
          ],
          [
           "Hungary"
          ],
          [
           "Hungary"
          ],
          [
           "Hungary"
          ]
         ],
         "hovertemplate": "country=%{customdata[0]}<br>Year=%{x}<br>Quality of Life=%{y}<extra></extra>",
         "legendgroup": "Hungary",
         "line": {
          "color": "#00cc96",
          "dash": "solid"
         },
         "marker": {
          "symbol": "circle"
         },
         "mode": "lines",
         "name": "Hungary",
         "orientation": "v",
         "showlegend": true,
         "type": "scatter",
         "x": [
          2011,
          2012,
          2013,
          2014,
          2015,
          2016,
          2017,
          2018,
          2019,
          2020,
          2021,
          2022
         ],
         "xaxis": "x",
         "y": [
          -1.925140774686153,
          -2.145825800136269,
          -2.1294057833617073,
          -2.1129857665871454,
          -1.6597933036092263,
          -1.424658663397494,
          -1.0358326661758586,
          -0.854555680984691,
          -0.536664156229165,
          -0.5471729669648849,
          -0.42369444082017604,
          -0.4828065012086002
         ],
         "yaxis": "y"
        },
        {
         "customdata": [
          [
           "Ireland"
          ],
          [
           "Ireland"
          ],
          [
           "Ireland"
          ],
          [
           "Ireland"
          ],
          [
           "Ireland"
          ],
          [
           "Ireland"
          ],
          [
           "Ireland"
          ],
          [
           "Ireland"
          ],
          [
           "Ireland"
          ],
          [
           "Ireland"
          ],
          [
           "Ireland"
          ],
          [
           "Ireland"
          ]
         ],
         "hovertemplate": "country=%{customdata[0]}<br>Year=%{x}<br>Quality of Life=%{y}<extra></extra>",
         "legendgroup": "Ireland",
         "line": {
          "color": "#ab63fa",
          "dash": "solid"
         },
         "marker": {
          "symbol": "circle"
         },
         "mode": "lines",
         "name": "Ireland",
         "orientation": "v",
         "showlegend": true,
         "type": "scatter",
         "x": [
          2011,
          2012,
          2013,
          2014,
          2015,
          2016,
          2017,
          2018,
          2019,
          2020,
          2021,
          2022
         ],
         "xaxis": "x",
         "y": [
          1.1499999668538734,
          0.8767708877251567,
          0.7874459964715383,
          0.6981211052179199,
          0.654772260933075,
          0.7467243548706242,
          0.7467243548706242,
          0.8045228139170829,
          0.9004157118805273,
          0.888593299802842,
          0.8307948407563832,
          0.6600266663009343
         ],
         "yaxis": "y"
        },
        {
         "customdata": [
          [
           "Italy"
          ],
          [
           "Italy"
          ],
          [
           "Italy"
          ],
          [
           "Italy"
          ],
          [
           "Italy"
          ],
          [
           "Italy"
          ],
          [
           "Italy"
          ],
          [
           "Italy"
          ],
          [
           "Italy"
          ],
          [
           "Italy"
          ],
          [
           "Italy"
          ],
          [
           "Italy"
          ]
         ],
         "hovertemplate": "country=%{customdata[0]}<br>Year=%{x}<br>Quality of Life=%{y}<extra></extra>",
         "legendgroup": "Italy",
         "line": {
          "color": "#FFA15A",
          "dash": "solid"
         },
         "marker": {
          "symbol": "circle"
         },
         "mode": "lines",
         "name": "Italy",
         "orientation": "v",
         "showlegend": true,
         "type": "scatter",
         "x": [
          2011,
          2012,
          2013,
          2014,
          2015,
          2016,
          2017,
          2018,
          2019,
          2020,
          2021,
          2022
         ],
         "xaxis": "x",
         "y": [
          0.22259741942659578,
          -0.5090785280479004,
          -0.5570249770296221,
          -0.6049714260113437,
          -0.5668769870943592,
          -0.5839538045399039,
          -0.536664156229165,
          -0.24373105697097389,
          -0.02830043688871701,
          0.0978052919399215,
          0.07678767046848176,
          -0.004655612733346416
         ],
         "yaxis": "y"
        },
        {
         "customdata": [
          [
           "Latvia"
          ],
          [
           "Latvia"
          ],
          [
           "Latvia"
          ],
          [
           "Latvia"
          ],
          [
           "Latvia"
          ],
          [
           "Latvia"
          ],
          [
           "Latvia"
          ],
          [
           "Latvia"
          ],
          [
           "Latvia"
          ],
          [
           "Latvia"
          ],
          [
           "Latvia"
          ],
          [
           "Latvia"
          ]
         ],
         "hovertemplate": "country=%{customdata[0]}<br>Year=%{x}<br>Quality of Life=%{y}<extra></extra>",
         "legendgroup": "Latvia",
         "line": {
          "color": "#19d3f3",
          "dash": "solid"
         },
         "marker": {
          "symbol": "circle"
         },
         "mode": "lines",
         "name": "Latvia",
         "orientation": "v",
         "showlegend": true,
         "type": "scatter",
         "x": [
          2011,
          2012,
          2013,
          2014,
          2015,
          2016,
          2017,
          2018,
          2019,
          2020,
          2021,
          2022
         ],
         "xaxis": "x",
         "y": [
          -2.162902617581815,
          -1.7898398364637589,
          -1.7556862015726695,
          -1.7215325666815802,
          -1.1146487466937582,
          -0.7337043575239129,
          -0.6246754461408192,
          -0.6154802367470635,
          -0.602344223327414,
          -0.4946289132862855,
          -0.3002159146754684,
          -0.25686707039062345
         ],
         "yaxis": "y"
        },
        {
         "customdata": [
          [
           "Lithuania"
          ],
          [
           "Lithuania"
          ],
          [
           "Lithuania"
          ],
          [
           "Lithuania"
          ],
          [
           "Lithuania"
          ],
          [
           "Lithuania"
          ],
          [
           "Lithuania"
          ],
          [
           "Lithuania"
          ],
          [
           "Lithuania"
          ],
          [
           "Lithuania"
          ],
          [
           "Lithuania"
          ],
          [
           "Lithuania"
          ]
         ],
         "hovertemplate": "country=%{customdata[0]}<br>Year=%{x}<br>Quality of Life=%{y}<extra></extra>",
         "legendgroup": "Lithuania",
         "line": {
          "color": "#FF6692",
          "dash": "solid"
         },
         "marker": {
          "symbol": "circle"
         },
         "mode": "lines",
         "name": "Lithuania",
         "orientation": "v",
         "showlegend": true,
         "type": "scatter",
         "x": [
          2011,
          2012,
          2013,
          2014,
          2015,
          2016,
          2017,
          2018,
          2019,
          2020,
          2021,
          2022
         ],
         "xaxis": "x",
         "y": [
          -1.077867909118738,
          -1.2906713265170653,
          -1.023353453427191,
          -0.756035580337317,
          -0.7823076071766173,
          -0.6653970877417332,
          -0.5997170206434843,
          -0.34093755627638245,
          -0.25423986770669377,
          -0.2016958140280944,
          0.049202042287217224,
          0.4656136676901172
         ],
         "yaxis": "y"
        },
        {
         "customdata": [
          [
           "Luxembourg"
          ],
          [
           "Luxembourg"
          ],
          [
           "Luxembourg"
          ],
          [
           "Luxembourg"
          ],
          [
           "Luxembourg"
          ],
          [
           "Luxembourg"
          ],
          [
           "Luxembourg"
          ],
          [
           "Luxembourg"
          ],
          [
           "Luxembourg"
          ],
          [
           "Luxembourg"
          ],
          [
           "Luxembourg"
          ],
          [
           "Luxembourg"
          ]
         ],
         "hovertemplate": "country=%{customdata[0]}<br>Year=%{x}<br>Quality of Life=%{y}<extra></extra>",
         "legendgroup": "Luxembourg",
         "line": {
          "color": "#B6E880",
          "dash": "solid"
         },
         "marker": {
          "symbol": "circle"
         },
         "mode": "lines",
         "name": "Luxembourg",
         "orientation": "v",
         "showlegend": true,
         "type": "scatter",
         "x": [
          2011,
          2012,
          2013,
          2014,
          2015,
          2016,
          2017,
          2018,
          2019,
          2020,
          2021,
          2022
         ],
         "xaxis": "x",
         "y": [
          0.8439308541760328,
          0.8478716582019279,
          0.7769371857358184,
          0.7060027132697089,
          0.607482612622336,
          0.5969738018866162,
          0.6587130649589701,
          0.8951613065126667,
          1.089574305123485,
          1.202544020532473,
          1.3076321278896716,
          1.0764382917038342
         ],
         "yaxis": "y"
        },
        {
         "customdata": [
          [
           "Malta"
          ],
          [
           "Malta"
          ],
          [
           "Malta"
          ],
          [
           "Malta"
          ],
          [
           "Malta"
          ],
          [
           "Malta"
          ],
          [
           "Malta"
          ],
          [
           "Malta"
          ],
          [
           "Malta"
          ],
          [
           "Malta"
          ],
          [
           "Malta"
          ],
          [
           "Malta"
          ]
         ],
         "hovertemplate": "country=%{customdata[0]}<br>Year=%{x}<br>Quality of Life=%{y}<extra></extra>",
         "legendgroup": "Malta",
         "line": {
          "color": "#FF97FF",
          "dash": "solid"
         },
         "marker": {
          "symbol": "circle"
         },
         "mode": "lines",
         "name": "Malta",
         "orientation": "v",
         "showlegend": true,
         "type": "scatter",
         "x": [
          2011,
          2012,
          2013,
          2014,
          2015,
          2016,
          2017,
          2018,
          2019,
          2020,
          2021,
          2022
         ],
         "xaxis": "x",
         "y": [
          -0.5892082099077643,
          -0.5839538045399039,
          -0.3619551777478222,
          -0.13995655095574056,
          0.10437329864974745,
          0.1556037509863814,
          0.2869638851828793,
          0.4170104180374129,
          0.47874968110976673,
          0.2541238516337554,
          0.05051564362918264,
          -0.14258375363967024
         ],
         "yaxis": "y"
        },
        {
         "customdata": [
          [
           "Netherlands"
          ],
          [
           "Netherlands"
          ],
          [
           "Netherlands"
          ],
          [
           "Netherlands"
          ],
          [
           "Netherlands"
          ],
          [
           "Netherlands"
          ],
          [
           "Netherlands"
          ],
          [
           "Netherlands"
          ],
          [
           "Netherlands"
          ],
          [
           "Netherlands"
          ],
          [
           "Netherlands"
          ],
          [
           "Netherlands"
          ]
         ],
         "hovertemplate": "country=%{customdata[0]}<br>Year=%{x}<br>Quality of Life=%{y}<extra></extra>",
         "legendgroup": "Netherlands",
         "line": {
          "color": "#FECB52",
          "dash": "solid"
         },
         "marker": {
          "symbol": "circle"
         },
         "mode": "lines",
         "name": "Netherlands",
         "orientation": "v",
         "showlegend": true,
         "type": "scatter",
         "x": [
          2011,
          2012,
          2013,
          2014,
          2015,
          2016,
          2017,
          2018,
          2019,
          2020,
          2021,
          2022
         ],
         "xaxis": "x",
         "y": [
          1.4495010728218893,
          1.4495010728218893,
          1.361489782910236,
          1.2734784929985823,
          1.2222480406619483,
          1.2721648916566168,
          1.3562353775423759,
          1.4179746406147309,
          1.3667441882780957,
          1.3864482084075713,
          1.3220817426512865,
          1.3063185265477062
         ],
         "yaxis": "y"
        },
        {
         "customdata": [
          [
           "Poland"
          ],
          [
           "Poland"
          ],
          [
           "Poland"
          ],
          [
           "Poland"
          ],
          [
           "Poland"
          ],
          [
           "Poland"
          ],
          [
           "Poland"
          ],
          [
           "Poland"
          ],
          [
           "Poland"
          ],
          [
           "Poland"
          ],
          [
           "Poland"
          ],
          [
           "Poland"
          ]
         ],
         "hovertemplate": "country=%{customdata[0]}<br>Year=%{x}<br>Quality of Life=%{y}<extra></extra>",
         "legendgroup": "Poland",
         "line": {
          "color": "#636efa",
          "dash": "solid"
         },
         "marker": {
          "symbol": "circle"
         },
         "mode": "lines",
         "name": "Poland",
         "orientation": "v",
         "showlegend": true,
         "type": "scatter",
         "x": [
          2011,
          2012,
          2013,
          2014,
          2015,
          2016,
          2017,
          2018,
          2019,
          2020,
          2021,
          2022
         ],
         "xaxis": "x",
         "y": [
          -0.7954436205962668,
          -0.770485195098932,
          -0.7908460158993891,
          -0.8112068366998461,
          -0.7534083776533873,
          -0.5721313924622198,
          -0.37509119116747175,
          -0.2975887119915375,
          -0.2923343066236782,
          -0.3186063334629773,
          -0.37509119116747175,
          -0.19512780731826962
         ],
         "yaxis": "y"
        },
        {
         "customdata": [
          [
           "Portugal"
          ],
          [
           "Portugal"
          ],
          [
           "Portugal"
          ],
          [
           "Portugal"
          ],
          [
           "Portugal"
          ],
          [
           "Portugal"
          ],
          [
           "Portugal"
          ],
          [
           "Portugal"
          ],
          [
           "Portugal"
          ],
          [
           "Portugal"
          ],
          [
           "Portugal"
          ],
          [
           "Portugal"
          ]
         ],
         "hovertemplate": "country=%{customdata[0]}<br>Year=%{x}<br>Quality of Life=%{y}<extra></extra>",
         "legendgroup": "Portugal",
         "line": {
          "color": "#EF553B",
          "dash": "solid"
         },
         "marker": {
          "symbol": "circle"
         },
         "mode": "lines",
         "name": "Portugal",
         "orientation": "v",
         "showlegend": true,
         "type": "scatter",
         "x": [
          2011,
          2012,
          2013,
          2014,
          2015,
          2016,
          2017,
          2018,
          2019,
          2020,
          2021,
          2022
         ],
         "xaxis": "x",
         "y": [
          -1.420717859371599,
          -1.7175917626556851,
          -1.7169349619847023,
          -1.7162781613137197,
          -1.6886925331324552,
          -1.5941132365109763,
          -1.311688947988505,
          -0.9399397682124154,
          -0.653574675664049,
          -0.6299298515086785,
          -0.5156465347577253,
          -0.5786993991720445
         ],
         "yaxis": "y"
        },
        {
         "customdata": [
          [
           "Romania"
          ],
          [
           "Romania"
          ],
          [
           "Romania"
          ],
          [
           "Romania"
          ],
          [
           "Romania"
          ],
          [
           "Romania"
          ],
          [
           "Romania"
          ],
          [
           "Romania"
          ],
          [
           "Romania"
          ],
          [
           "Romania"
          ],
          [
           "Romania"
          ],
          [
           "Romania"
          ]
         ],
         "hovertemplate": "country=%{customdata[0]}<br>Year=%{x}<br>Quality of Life=%{y}<extra></extra>",
         "legendgroup": "Romania",
         "line": {
          "color": "#00cc96",
          "dash": "solid"
         },
         "marker": {
          "symbol": "circle"
         },
         "mode": "lines",
         "name": "Romania",
         "orientation": "v",
         "showlegend": true,
         "type": "scatter",
         "x": [
          2011,
          2012,
          2013,
          2014,
          2015,
          2016,
          2017,
          2018,
          2019,
          2020,
          2021,
          2022
         ],
         "xaxis": "x",
         "y": [
          -1.6164444593243814,
          -1.8069166539093036,
          -1.7471477928498973,
          -1.6873789317904908,
          -1.1566839896366377,
          -0.7665443910730368,
          -0.6089122300372387,
          -0.4447120622916158,
          -0.3737775898255075,
          -0.35275996835406775,
          0.08992368388813247,
          0.23704703418821074
         ],
         "yaxis": "y"
        },
        {
         "customdata": [
          [
           "Slovakia"
          ],
          [
           "Slovakia"
          ],
          [
           "Slovakia"
          ],
          [
           "Slovakia"
          ],
          [
           "Slovakia"
          ],
          [
           "Slovakia"
          ],
          [
           "Slovakia"
          ],
          [
           "Slovakia"
          ],
          [
           "Slovakia"
          ],
          [
           "Slovakia"
          ],
          [
           "Slovakia"
          ],
          [
           "Slovakia"
          ]
         ],
         "hovertemplate": "country=%{customdata[0]}<br>Year=%{x}<br>Quality of Life=%{y}<extra></extra>",
         "legendgroup": "Slovakia",
         "line": {
          "color": "#ab63fa",
          "dash": "solid"
         },
         "marker": {
          "symbol": "circle"
         },
         "mode": "lines",
         "name": "Slovakia",
         "orientation": "v",
         "showlegend": true,
         "type": "scatter",
         "x": [
          2011,
          2012,
          2013,
          2014,
          2015,
          2016,
          2017,
          2018,
          2019,
          2020,
          2021,
          2022
         ],
         "xaxis": "x",
         "y": [
          -0.9872294165231543,
          -0.5773857978300792,
          -0.5603089803845345,
          -0.5432321629389898,
          -0.43420325155589595,
          -0.4079312247165968,
          -0.30941112406922283,
          -0.27657109052009776,
          -0.1675421791370051,
          -0.10186211203875498,
          -0.02304603152085649,
          0.0794148731524126
         ],
         "yaxis": "y"
        },
        {
         "customdata": [
          [
           "Slovenia"
          ],
          [
           "Slovenia"
          ],
          [
           "Slovenia"
          ],
          [
           "Slovenia"
          ],
          [
           "Slovenia"
          ],
          [
           "Slovenia"
          ],
          [
           "Slovenia"
          ],
          [
           "Slovenia"
          ],
          [
           "Slovenia"
          ],
          [
           "Slovenia"
          ],
          [
           "Slovenia"
          ],
          [
           "Slovenia"
          ]
         ],
         "hovertemplate": "country=%{customdata[0]}<br>Year=%{x}<br>Quality of Life=%{y}<extra></extra>",
         "legendgroup": "Slovenia",
         "line": {
          "color": "#FFA15A",
          "dash": "solid"
         },
         "marker": {
          "symbol": "circle"
         },
         "mode": "lines",
         "name": "Slovenia",
         "orientation": "v",
         "showlegend": true,
         "type": "scatter",
         "x": [
          2011,
          2012,
          2013,
          2014,
          2015,
          2016,
          2017,
          2018,
          2019,
          2020,
          2021,
          2022
         ],
         "xaxis": "x",
         "y": [
          -0.6391250609024342,
          -0.4578480757112665,
          -0.5970898179595545,
          -0.7363315602078426,
          -0.8414196675650414,
          -0.854555680984691,
          -0.6049714260113437,
          -0.3816591978772966,
          -0.05982686909587548,
          0.06890606241669273,
          0.2909046892087744,
          0.3171767160480747
         ],
         "yaxis": "y"
        },
        {
         "customdata": [
          [
           "Spain"
          ],
          [
           "Spain"
          ],
          [
           "Spain"
          ],
          [
           "Spain"
          ],
          [
           "Spain"
          ],
          [
           "Spain"
          ],
          [
           "Spain"
          ],
          [
           "Spain"
          ],
          [
           "Spain"
          ],
          [
           "Spain"
          ],
          [
           "Spain"
          ],
          [
           "Spain"
          ]
         ],
         "hovertemplate": "country=%{customdata[0]}<br>Year=%{x}<br>Quality of Life=%{y}<extra></extra>",
         "legendgroup": "Spain",
         "line": {
          "color": "#19d3f3",
          "dash": "solid"
         },
         "marker": {
          "symbol": "circle"
         },
         "mode": "lines",
         "name": "Spain",
         "orientation": "v",
         "showlegend": true,
         "type": "scatter",
         "x": [
          2011,
          2012,
          2013,
          2014,
          2015,
          2016,
          2017,
          2018,
          2019,
          2020,
          2021,
          2022
         ],
         "xaxis": "x",
         "y": [
          0.4629864650061875,
          -0.11368452411644028,
          -0.10908691941956306,
          -0.10448931472268583,
          -0.06245407177980632,
          -0.007282815417277259,
          -0.12944774022002067,
          -0.07164928117356077,
          -0.009910018101206937,
          0.10831410267564139,
          0.08861008254616705,
          0.03606602886756767
         ],
         "yaxis": "y"
        },
        {
         "customdata": [
          [
           "Sweden"
          ],
          [
           "Sweden"
          ],
          [
           "Sweden"
          ],
          [
           "Sweden"
          ],
          [
           "Sweden"
          ],
          [
           "Sweden"
          ],
          [
           "Sweden"
          ],
          [
           "Sweden"
          ],
          [
           "Sweden"
          ],
          [
           "Sweden"
          ],
          [
           "Sweden"
          ],
          [
           "Sweden"
          ]
         ],
         "hovertemplate": "country=%{customdata[0]}<br>Year=%{x}<br>Quality of Life=%{y}<extra></extra>",
         "legendgroup": "Sweden",
         "line": {
          "color": "#FF6692",
          "dash": "solid"
         },
         "marker": {
          "symbol": "circle"
         },
         "mode": "lines",
         "name": "Sweden",
         "orientation": "v",
         "showlegend": true,
         "type": "scatter",
         "x": [
          2011,
          2012,
          2013,
          2014,
          2015,
          2016,
          2017,
          2018,
          2019,
          2020,
          2021,
          2022
         ],
         "xaxis": "x",
         "y": [
          1.2747920943405464,
          1.407465829879011,
          1.3312769520450416,
          1.2550880742110722,
          1.1591951762476291,
          1.1499999668538734,
          1.1894080071128232,
          1.2275024460298076,
          1.2406384594494573,
          1.2537744728691078,
          1.2813601010503723,
          1.2958097158119863
         ],
         "yaxis": "y"
        }
       ],
       "layout": {
        "legend": {
         "title": {
          "text": "country"
         },
         "tracegroupgap": 0
        },
        "template": {
         "data": {
          "bar": [
           {
            "error_x": {
             "color": "#2a3f5f"
            },
            "error_y": {
             "color": "#2a3f5f"
            },
            "marker": {
             "line": {
              "color": "#E5ECF6",
              "width": 0.5
             },
             "pattern": {
              "fillmode": "overlay",
              "size": 10,
              "solidity": 0.2
             }
            },
            "type": "bar"
           }
          ],
          "barpolar": [
           {
            "marker": {
             "line": {
              "color": "#E5ECF6",
              "width": 0.5
             },
             "pattern": {
              "fillmode": "overlay",
              "size": 10,
              "solidity": 0.2
             }
            },
            "type": "barpolar"
           }
          ],
          "carpet": [
           {
            "aaxis": {
             "endlinecolor": "#2a3f5f",
             "gridcolor": "white",
             "linecolor": "white",
             "minorgridcolor": "white",
             "startlinecolor": "#2a3f5f"
            },
            "baxis": {
             "endlinecolor": "#2a3f5f",
             "gridcolor": "white",
             "linecolor": "white",
             "minorgridcolor": "white",
             "startlinecolor": "#2a3f5f"
            },
            "type": "carpet"
           }
          ],
          "choropleth": [
           {
            "colorbar": {
             "outlinewidth": 0,
             "ticks": ""
            },
            "type": "choropleth"
           }
          ],
          "contour": [
           {
            "colorbar": {
             "outlinewidth": 0,
             "ticks": ""
            },
            "colorscale": [
             [
              0,
              "#0d0887"
             ],
             [
              0.1111111111111111,
              "#46039f"
             ],
             [
              0.2222222222222222,
              "#7201a8"
             ],
             [
              0.3333333333333333,
              "#9c179e"
             ],
             [
              0.4444444444444444,
              "#bd3786"
             ],
             [
              0.5555555555555556,
              "#d8576b"
             ],
             [
              0.6666666666666666,
              "#ed7953"
             ],
             [
              0.7777777777777778,
              "#fb9f3a"
             ],
             [
              0.8888888888888888,
              "#fdca26"
             ],
             [
              1,
              "#f0f921"
             ]
            ],
            "type": "contour"
           }
          ],
          "contourcarpet": [
           {
            "colorbar": {
             "outlinewidth": 0,
             "ticks": ""
            },
            "type": "contourcarpet"
           }
          ],
          "heatmap": [
           {
            "colorbar": {
             "outlinewidth": 0,
             "ticks": ""
            },
            "colorscale": [
             [
              0,
              "#0d0887"
             ],
             [
              0.1111111111111111,
              "#46039f"
             ],
             [
              0.2222222222222222,
              "#7201a8"
             ],
             [
              0.3333333333333333,
              "#9c179e"
             ],
             [
              0.4444444444444444,
              "#bd3786"
             ],
             [
              0.5555555555555556,
              "#d8576b"
             ],
             [
              0.6666666666666666,
              "#ed7953"
             ],
             [
              0.7777777777777778,
              "#fb9f3a"
             ],
             [
              0.8888888888888888,
              "#fdca26"
             ],
             [
              1,
              "#f0f921"
             ]
            ],
            "type": "heatmap"
           }
          ],
          "heatmapgl": [
           {
            "colorbar": {
             "outlinewidth": 0,
             "ticks": ""
            },
            "colorscale": [
             [
              0,
              "#0d0887"
             ],
             [
              0.1111111111111111,
              "#46039f"
             ],
             [
              0.2222222222222222,
              "#7201a8"
             ],
             [
              0.3333333333333333,
              "#9c179e"
             ],
             [
              0.4444444444444444,
              "#bd3786"
             ],
             [
              0.5555555555555556,
              "#d8576b"
             ],
             [
              0.6666666666666666,
              "#ed7953"
             ],
             [
              0.7777777777777778,
              "#fb9f3a"
             ],
             [
              0.8888888888888888,
              "#fdca26"
             ],
             [
              1,
              "#f0f921"
             ]
            ],
            "type": "heatmapgl"
           }
          ],
          "histogram": [
           {
            "marker": {
             "pattern": {
              "fillmode": "overlay",
              "size": 10,
              "solidity": 0.2
             }
            },
            "type": "histogram"
           }
          ],
          "histogram2d": [
           {
            "colorbar": {
             "outlinewidth": 0,
             "ticks": ""
            },
            "colorscale": [
             [
              0,
              "#0d0887"
             ],
             [
              0.1111111111111111,
              "#46039f"
             ],
             [
              0.2222222222222222,
              "#7201a8"
             ],
             [
              0.3333333333333333,
              "#9c179e"
             ],
             [
              0.4444444444444444,
              "#bd3786"
             ],
             [
              0.5555555555555556,
              "#d8576b"
             ],
             [
              0.6666666666666666,
              "#ed7953"
             ],
             [
              0.7777777777777778,
              "#fb9f3a"
             ],
             [
              0.8888888888888888,
              "#fdca26"
             ],
             [
              1,
              "#f0f921"
             ]
            ],
            "type": "histogram2d"
           }
          ],
          "histogram2dcontour": [
           {
            "colorbar": {
             "outlinewidth": 0,
             "ticks": ""
            },
            "colorscale": [
             [
              0,
              "#0d0887"
             ],
             [
              0.1111111111111111,
              "#46039f"
             ],
             [
              0.2222222222222222,
              "#7201a8"
             ],
             [
              0.3333333333333333,
              "#9c179e"
             ],
             [
              0.4444444444444444,
              "#bd3786"
             ],
             [
              0.5555555555555556,
              "#d8576b"
             ],
             [
              0.6666666666666666,
              "#ed7953"
             ],
             [
              0.7777777777777778,
              "#fb9f3a"
             ],
             [
              0.8888888888888888,
              "#fdca26"
             ],
             [
              1,
              "#f0f921"
             ]
            ],
            "type": "histogram2dcontour"
           }
          ],
          "mesh3d": [
           {
            "colorbar": {
             "outlinewidth": 0,
             "ticks": ""
            },
            "type": "mesh3d"
           }
          ],
          "parcoords": [
           {
            "line": {
             "colorbar": {
              "outlinewidth": 0,
              "ticks": ""
             }
            },
            "type": "parcoords"
           }
          ],
          "pie": [
           {
            "automargin": true,
            "type": "pie"
           }
          ],
          "scatter": [
           {
            "fillpattern": {
             "fillmode": "overlay",
             "size": 10,
             "solidity": 0.2
            },
            "type": "scatter"
           }
          ],
          "scatter3d": [
           {
            "line": {
             "colorbar": {
              "outlinewidth": 0,
              "ticks": ""
             }
            },
            "marker": {
             "colorbar": {
              "outlinewidth": 0,
              "ticks": ""
             }
            },
            "type": "scatter3d"
           }
          ],
          "scattercarpet": [
           {
            "marker": {
             "colorbar": {
              "outlinewidth": 0,
              "ticks": ""
             }
            },
            "type": "scattercarpet"
           }
          ],
          "scattergeo": [
           {
            "marker": {
             "colorbar": {
              "outlinewidth": 0,
              "ticks": ""
             }
            },
            "type": "scattergeo"
           }
          ],
          "scattergl": [
           {
            "marker": {
             "colorbar": {
              "outlinewidth": 0,
              "ticks": ""
             }
            },
            "type": "scattergl"
           }
          ],
          "scattermapbox": [
           {
            "marker": {
             "colorbar": {
              "outlinewidth": 0,
              "ticks": ""
             }
            },
            "type": "scattermapbox"
           }
          ],
          "scatterpolar": [
           {
            "marker": {
             "colorbar": {
              "outlinewidth": 0,
              "ticks": ""
             }
            },
            "type": "scatterpolar"
           }
          ],
          "scatterpolargl": [
           {
            "marker": {
             "colorbar": {
              "outlinewidth": 0,
              "ticks": ""
             }
            },
            "type": "scatterpolargl"
           }
          ],
          "scatterternary": [
           {
            "marker": {
             "colorbar": {
              "outlinewidth": 0,
              "ticks": ""
             }
            },
            "type": "scatterternary"
           }
          ],
          "surface": [
           {
            "colorbar": {
             "outlinewidth": 0,
             "ticks": ""
            },
            "colorscale": [
             [
              0,
              "#0d0887"
             ],
             [
              0.1111111111111111,
              "#46039f"
             ],
             [
              0.2222222222222222,
              "#7201a8"
             ],
             [
              0.3333333333333333,
              "#9c179e"
             ],
             [
              0.4444444444444444,
              "#bd3786"
             ],
             [
              0.5555555555555556,
              "#d8576b"
             ],
             [
              0.6666666666666666,
              "#ed7953"
             ],
             [
              0.7777777777777778,
              "#fb9f3a"
             ],
             [
              0.8888888888888888,
              "#fdca26"
             ],
             [
              1,
              "#f0f921"
             ]
            ],
            "type": "surface"
           }
          ],
          "table": [
           {
            "cells": {
             "fill": {
              "color": "#EBF0F8"
             },
             "line": {
              "color": "white"
             }
            },
            "header": {
             "fill": {
              "color": "#C8D4E3"
             },
             "line": {
              "color": "white"
             }
            },
            "type": "table"
           }
          ]
         },
         "layout": {
          "annotationdefaults": {
           "arrowcolor": "#2a3f5f",
           "arrowhead": 0,
           "arrowwidth": 1
          },
          "autotypenumbers": "strict",
          "coloraxis": {
           "colorbar": {
            "outlinewidth": 0,
            "ticks": ""
           }
          },
          "colorscale": {
           "diverging": [
            [
             0,
             "#8e0152"
            ],
            [
             0.1,
             "#c51b7d"
            ],
            [
             0.2,
             "#de77ae"
            ],
            [
             0.3,
             "#f1b6da"
            ],
            [
             0.4,
             "#fde0ef"
            ],
            [
             0.5,
             "#f7f7f7"
            ],
            [
             0.6,
             "#e6f5d0"
            ],
            [
             0.7,
             "#b8e186"
            ],
            [
             0.8,
             "#7fbc41"
            ],
            [
             0.9,
             "#4d9221"
            ],
            [
             1,
             "#276419"
            ]
           ],
           "sequential": [
            [
             0,
             "#0d0887"
            ],
            [
             0.1111111111111111,
             "#46039f"
            ],
            [
             0.2222222222222222,
             "#7201a8"
            ],
            [
             0.3333333333333333,
             "#9c179e"
            ],
            [
             0.4444444444444444,
             "#bd3786"
            ],
            [
             0.5555555555555556,
             "#d8576b"
            ],
            [
             0.6666666666666666,
             "#ed7953"
            ],
            [
             0.7777777777777778,
             "#fb9f3a"
            ],
            [
             0.8888888888888888,
             "#fdca26"
            ],
            [
             1,
             "#f0f921"
            ]
           ],
           "sequentialminus": [
            [
             0,
             "#0d0887"
            ],
            [
             0.1111111111111111,
             "#46039f"
            ],
            [
             0.2222222222222222,
             "#7201a8"
            ],
            [
             0.3333333333333333,
             "#9c179e"
            ],
            [
             0.4444444444444444,
             "#bd3786"
            ],
            [
             0.5555555555555556,
             "#d8576b"
            ],
            [
             0.6666666666666666,
             "#ed7953"
            ],
            [
             0.7777777777777778,
             "#fb9f3a"
            ],
            [
             0.8888888888888888,
             "#fdca26"
            ],
            [
             1,
             "#f0f921"
            ]
           ]
          },
          "colorway": [
           "#636efa",
           "#EF553B",
           "#00cc96",
           "#ab63fa",
           "#FFA15A",
           "#19d3f3",
           "#FF6692",
           "#B6E880",
           "#FF97FF",
           "#FECB52"
          ],
          "font": {
           "color": "#2a3f5f"
          },
          "geo": {
           "bgcolor": "white",
           "lakecolor": "white",
           "landcolor": "#E5ECF6",
           "showlakes": true,
           "showland": true,
           "subunitcolor": "white"
          },
          "hoverlabel": {
           "align": "left"
          },
          "hovermode": "closest",
          "mapbox": {
           "style": "light"
          },
          "paper_bgcolor": "white",
          "plot_bgcolor": "#E5ECF6",
          "polar": {
           "angularaxis": {
            "gridcolor": "white",
            "linecolor": "white",
            "ticks": ""
           },
           "bgcolor": "#E5ECF6",
           "radialaxis": {
            "gridcolor": "white",
            "linecolor": "white",
            "ticks": ""
           }
          },
          "scene": {
           "xaxis": {
            "backgroundcolor": "#E5ECF6",
            "gridcolor": "white",
            "gridwidth": 2,
            "linecolor": "white",
            "showbackground": true,
            "ticks": "",
            "zerolinecolor": "white"
           },
           "yaxis": {
            "backgroundcolor": "#E5ECF6",
            "gridcolor": "white",
            "gridwidth": 2,
            "linecolor": "white",
            "showbackground": true,
            "ticks": "",
            "zerolinecolor": "white"
           },
           "zaxis": {
            "backgroundcolor": "#E5ECF6",
            "gridcolor": "white",
            "gridwidth": 2,
            "linecolor": "white",
            "showbackground": true,
            "ticks": "",
            "zerolinecolor": "white"
           }
          },
          "shapedefaults": {
           "line": {
            "color": "#2a3f5f"
           }
          },
          "ternary": {
           "aaxis": {
            "gridcolor": "white",
            "linecolor": "white",
            "ticks": ""
           },
           "baxis": {
            "gridcolor": "white",
            "linecolor": "white",
            "ticks": ""
           },
           "bgcolor": "#E5ECF6",
           "caxis": {
            "gridcolor": "white",
            "linecolor": "white",
            "ticks": ""
           }
          },
          "title": {
           "x": 0.05
          },
          "xaxis": {
           "automargin": true,
           "gridcolor": "white",
           "linecolor": "white",
           "ticks": "",
           "title": {
            "standoff": 15
           },
           "zerolinecolor": "white",
           "zerolinewidth": 2
          },
          "yaxis": {
           "automargin": true,
           "gridcolor": "white",
           "linecolor": "white",
           "ticks": "",
           "title": {
            "standoff": 15
           },
           "zerolinecolor": "white",
           "zerolinewidth": 2
          }
         }
        },
        "title": {
         "text": "Quality of Life over Time in Europe"
        },
        "xaxis": {
         "anchor": "y",
         "domain": [
          0,
          1
         ],
         "title": {
          "text": "Year"
         }
        },
        "yaxis": {
         "anchor": "x",
         "domain": [
          0,
          1
         ],
         "title": {
          "text": "Quality of Life"
         }
        }
       }
      }
     },
     "metadata": {},
     "output_type": "display_data"
    }
   ],
   "source": [
    "fig = px.line(\n",
    "    combined,\n",
    "    x='year',\n",
    "    y='qol',\n",
    "    color='country',\n",
    "    labels={'year': 'Year', 'qol': 'Quality of Life'},\n",
    "    title='Quality of Life over Time in Europe',\n",
    "    hover_data=['country', 'year']\n",
    ")\n",
    "\n",
    "#plotly.offline.plot(fig, filename='birth_death_EU.html')\n",
    "\n",
    "fig"
   ]
  },
  {
   "cell_type": "code",
   "execution_count": 150,
   "id": "461e3d76",
   "metadata": {},
   "outputs": [
    {
     "data": {
      "application/vnd.plotly.v1+json": {
       "config": {
        "plotlyServerURL": "https://plot.ly"
       },
       "data": [
        {
         "customdata": [
          [
           "Austria"
          ],
          [
           "Austria"
          ],
          [
           "Austria"
          ],
          [
           "Austria"
          ],
          [
           "Austria"
          ],
          [
           "Austria"
          ],
          [
           "Austria"
          ],
          [
           "Austria"
          ],
          [
           "Austria"
          ],
          [
           "Austria"
          ],
          [
           "Austria"
          ],
          [
           "Austria"
          ]
         ],
         "hovertemplate": "country=%{customdata[0]}<br>Year=%{x}<br>Life Expectancy=%{y}<extra></extra>",
         "legendgroup": "Austria",
         "line": {
          "color": "#636efa",
          "dash": "solid"
         },
         "marker": {
          "symbol": "circle"
         },
         "mode": "lines",
         "name": "Austria",
         "orientation": "v",
         "showlegend": true,
         "type": "scatter",
         "x": [
          2011,
          2012,
          2013,
          2014,
          2015,
          2016,
          2017,
          2018,
          2019,
          2020,
          2021,
          2022
         ],
         "xaxis": "x",
         "y": [
          -0.4117565241024149,
          -0.0726371764091414,
          -0.37893852271274214,
          -0.8712085435578153,
          -0.8055725407784728,
          -1.0134198829130598,
          -1.0024805491165034,
          -1.0462378843027311,
          -0.9477838801337158,
          -0.6414825338301151,
          -0.06169784261258484,
          -0.16015184678159852
         ],
         "yaxis": "y"
        },
        {
         "customdata": [
          [
           "Belgium"
          ],
          [
           "Belgium"
          ],
          [
           "Belgium"
          ],
          [
           "Belgium"
          ],
          [
           "Belgium"
          ],
          [
           "Belgium"
          ],
          [
           "Belgium"
          ],
          [
           "Belgium"
          ],
          [
           "Belgium"
          ],
          [
           "Belgium"
          ],
          [
           "Belgium"
          ],
          [
           "Belgium"
          ]
         ],
         "hovertemplate": "country=%{customdata[0]}<br>Year=%{x}<br>Life Expectancy=%{y}<extra></extra>",
         "legendgroup": "Belgium",
         "line": {
          "color": "#EF553B",
          "dash": "solid"
         },
         "marker": {
          "symbol": "circle"
         },
         "mode": "lines",
         "name": "Belgium",
         "orientation": "v",
         "showlegend": true,
         "type": "scatter",
         "x": [
          2011,
          2012,
          2013,
          2014,
          2015,
          2016,
          2017,
          2018,
          2019,
          2020,
          2021,
          2022
         ],
         "xaxis": "x",
         "y": [
          0.39775417684281705,
          0.6384195203670738,
          0.47432951341871765,
          0.5180868486049486,
          0.5509048499946182,
          0.43057217823248983,
          0.4305721782324883,
          0.3868148430462605,
          0.1680281671151169,
          0.46339017962215956,
          0.6384195203670738,
          0.4415115120290449
         ],
         "yaxis": "y"
        },
        {
         "customdata": [
          [
           "Bulgaria"
          ],
          [
           "Bulgaria"
          ],
          [
           "Bulgaria"
          ],
          [
           "Bulgaria"
          ],
          [
           "Bulgaria"
          ],
          [
           "Bulgaria"
          ],
          [
           "Bulgaria"
          ],
          [
           "Bulgaria"
          ],
          [
           "Bulgaria"
          ],
          [
           "Bulgaria"
          ],
          [
           "Bulgaria"
          ],
          [
           "Bulgaria"
          ]
         ],
         "hovertemplate": "country=%{customdata[0]}<br>Year=%{x}<br>Life Expectancy=%{y}<extra></extra>",
         "legendgroup": "Bulgaria",
         "line": {
          "color": "#00cc96",
          "dash": "solid"
         },
         "marker": {
          "symbol": "circle"
         },
         "mode": "lines",
         "name": "Bulgaria",
         "orientation": "v",
         "showlegend": true,
         "type": "scatter",
         "x": [
          2011,
          2012,
          2013,
          2014,
          2015,
          2016,
          2017,
          2018,
          2019,
          2020,
          2021,
          2022
         ],
         "xaxis": "x",
         "y": [
          0.5071475148083889,
          0.48526884721527574,
          0.6165408527739606,
          0.5180868486049455,
          0.34305750786003114,
          0.8900241976878902,
          0.6274801865705173,
          0.9009635314844467,
          1.0322355370431349,
          0.8790848638913337,
          0.3649361754531443,
          1.0978715398224772
         ],
         "yaxis": "y"
        },
        {
         "customdata": [
          [
           "Croatia"
          ],
          [
           "Croatia"
          ],
          [
           "Croatia"
          ],
          [
           "Croatia"
          ],
          [
           "Croatia"
          ],
          [
           "Croatia"
          ],
          [
           "Croatia"
          ],
          [
           "Croatia"
          ],
          [
           "Croatia"
          ],
          [
           "Croatia"
          ],
          [
           "Croatia"
          ],
          [
           "Croatia"
          ]
         ],
         "hovertemplate": "country=%{customdata[0]}<br>Year=%{x}<br>Life Expectancy=%{y}<extra></extra>",
         "legendgroup": "Croatia",
         "line": {
          "color": "#ab63fa",
          "dash": "solid"
         },
         "marker": {
          "symbol": "circle"
         },
         "mode": "lines",
         "name": "Croatia",
         "orientation": "v",
         "showlegend": true,
         "type": "scatter",
         "x": [
          2011,
          2012,
          2013,
          2014,
          2015,
          2016,
          2017,
          2018,
          2019,
          2020,
          2021,
          2022
         ],
         "xaxis": "x",
         "y": [
          -0.20390918196782787,
          0.2993001726738018,
          -0.5867858648473292,
          -0.5211498620679867,
          -1.2322065588442035,
          -0.8274512083715859,
          -0.8821478773543734,
          -0.9149658787440447,
          -0.9259052125406012,
          -0.6852398690163445,
          -0.6743005352197879,
          -0.3133025199333997
         ],
         "yaxis": "y"
        },
        {
         "customdata": [
          [
           "Cyprus"
          ],
          [
           "Cyprus"
          ],
          [
           "Cyprus"
          ],
          [
           "Cyprus"
          ],
          [
           "Cyprus"
          ],
          [
           "Cyprus"
          ],
          [
           "Cyprus"
          ],
          [
           "Cyprus"
          ],
          [
           "Cyprus"
          ],
          [
           "Cyprus"
          ],
          [
           "Cyprus"
          ],
          [
           "Cyprus"
          ]
         ],
         "hovertemplate": "country=%{customdata[0]}<br>Year=%{x}<br>Life Expectancy=%{y}<extra></extra>",
         "legendgroup": "Cyprus",
         "line": {
          "color": "#FFA15A",
          "dash": "solid"
         },
         "marker": {
          "symbol": "circle"
         },
         "mode": "lines",
         "name": "Cyprus",
         "orientation": "v",
         "showlegend": true,
         "type": "scatter",
         "x": [
          2011,
          2012,
          2013,
          2014,
          2015,
          2016,
          2017,
          2018,
          2019,
          2020,
          2021,
          2022
         ],
         "xaxis": "x",
         "y": [
          -0.0835765102056995,
          0.4415115120290464,
          0.6493588541636335,
          0.9337815328741165,
          0.34305750786003114,
          1.4151122199226362,
          0.7806308597223184,
          0.113331498132331,
          0.18990683470823,
          0.2446035036910159,
          0.8681455300947771,
          0.9447208666706761
         ],
         "yaxis": "y"
        },
        {
         "customdata": [
          [
           "Czechia"
          ],
          [
           "Czechia"
          ],
          [
           "Czechia"
          ],
          [
           "Czechia"
          ],
          [
           "Czechia"
          ],
          [
           "Czechia"
          ],
          [
           "Czechia"
          ],
          [
           "Czechia"
          ],
          [
           "Czechia"
          ],
          [
           "Czechia"
          ],
          [
           "Czechia"
          ],
          [
           "Czechia"
          ]
         ],
         "hovertemplate": "country=%{customdata[0]}<br>Year=%{x}<br>Life Expectancy=%{y}<extra></extra>",
         "legendgroup": "Czechia",
         "line": {
          "color": "#19d3f3",
          "dash": "solid"
         },
         "marker": {
          "symbol": "circle"
         },
         "mode": "lines",
         "name": "Czechia",
         "orientation": "v",
         "showlegend": true,
         "type": "scatter",
         "x": [
          2011,
          2012,
          2013,
          2014,
          2015,
          2016,
          2017,
          2018,
          2019,
          2020,
          2021,
          2022
         ],
         "xaxis": "x",
         "y": [
          0.26648217128413215,
          0.33211817406347305,
          0.36493617545314583,
          0.5509048499946182,
          0.2993001726738018,
          0.36493617545314583,
          -0.03981917501947017,
          0.2446035036910159,
          0.10239216433577443,
          0.00393816016675918,
          0.0805134967426582,
          0.025816827759872298
         ],
         "yaxis": "y"
        },
        {
         "customdata": [
          [
           "Denmark"
          ],
          [
           "Denmark"
          ],
          [
           "Denmark"
          ],
          [
           "Denmark"
          ],
          [
           "Denmark"
          ],
          [
           "Denmark"
          ],
          [
           "Denmark"
          ],
          [
           "Denmark"
          ],
          [
           "Denmark"
          ],
          [
           "Denmark"
          ],
          [
           "Denmark"
          ],
          [
           "Denmark"
          ]
         ],
         "hovertemplate": "country=%{customdata[0]}<br>Year=%{x}<br>Life Expectancy=%{y}<extra></extra>",
         "legendgroup": "Denmark",
         "line": {
          "color": "#FF6692",
          "dash": "solid"
         },
         "marker": {
          "symbol": "circle"
         },
         "mode": "lines",
         "name": "Denmark",
         "orientation": "v",
         "showlegend": true,
         "type": "scatter",
         "x": [
          2011,
          2012,
          2013,
          2014,
          2015,
          2016,
          2017,
          2018,
          2019,
          2020,
          2021,
          2022
         ],
         "xaxis": "x",
         "y": [
          0.025816827759872298,
          -0.0726371764091414,
          -0.2804845185437269,
          -0.18203051437471476,
          -0.5867858648473292,
          -0.30236318613684315,
          -0.4226958578989715,
          -0.19296984817127133,
          -0.6086645324404439,
          -0.8274512083715859,
          -1.1337525546751883,
          -1.2759638940304312
         ],
         "yaxis": "y"
        },
        {
         "customdata": [
          [
           "Estonia"
          ],
          [
           "Estonia"
          ],
          [
           "Estonia"
          ],
          [
           "Estonia"
          ],
          [
           "Estonia"
          ],
          [
           "Estonia"
          ],
          [
           "Estonia"
          ],
          [
           "Estonia"
          ],
          [
           "Estonia"
          ],
          [
           "Estonia"
          ],
          [
           "Estonia"
          ],
          [
           "Estonia"
          ]
         ],
         "hovertemplate": "country=%{customdata[0]}<br>Year=%{x}<br>Life Expectancy=%{y}<extra></extra>",
         "legendgroup": "Estonia",
         "line": {
          "color": "#B6E880",
          "dash": "solid"
         },
         "marker": {
          "symbol": "circle"
         },
         "mode": "lines",
         "name": "Estonia",
         "orientation": "v",
         "showlegend": true,
         "type": "scatter",
         "x": [
          2011,
          2012,
          2013,
          2014,
          2015,
          2016,
          2017,
          2018,
          2019,
          2020,
          2021,
          2022
         ],
         "xaxis": "x",
         "y": [
          -1.2322065588442035,
          -1.429114567182231,
          -1.352539230606332,
          -1.429114567182231,
          -1.4619325685719038,
          -1.0899952194889588,
          -1.2540852264373166,
          -1.7135372458927185,
          -1.2869032278269894,
          -0.9040265449474881,
          -1.1446918884717447,
          -0.5211498620679867
         ],
         "yaxis": "y"
        },
        {
         "customdata": [
          [
           "Finland"
          ],
          [
           "Finland"
          ],
          [
           "Finland"
          ],
          [
           "Finland"
          ],
          [
           "Finland"
          ],
          [
           "Finland"
          ],
          [
           "Finland"
          ],
          [
           "Finland"
          ],
          [
           "Finland"
          ],
          [
           "Finland"
          ],
          [
           "Finland"
          ],
          [
           "Finland"
          ]
         ],
         "hovertemplate": "country=%{customdata[0]}<br>Year=%{x}<br>Life Expectancy=%{y}<extra></extra>",
         "legendgroup": "Finland",
         "line": {
          "color": "#FF97FF",
          "dash": "solid"
         },
         "marker": {
          "symbol": "circle"
         },
         "mode": "lines",
         "name": "Finland",
         "orientation": "v",
         "showlegend": true,
         "type": "scatter",
         "x": [
          2011,
          2012,
          2013,
          2014,
          2015,
          2016,
          2017,
          2018,
          2019,
          2020,
          2021,
          2022
         ],
         "xaxis": "x",
         "y": [
          -0.8055725407784728,
          -1.0790558856924024,
          -0.9313748794388803,
          -0.7836938731853582,
          -0.8383905421681456,
          -0.7946332069819163,
          -0.9477838801337174,
          -0.9696625477268306,
          -1.1884492236579742,
          -1.0681165518958458,
          -0.0070011736297973795,
          -0.8274512083715875
         ],
         "yaxis": "y"
        },
        {
         "customdata": [
          [
           "France"
          ],
          [
           "France"
          ],
          [
           "France"
          ],
          [
           "France"
          ],
          [
           "France"
          ],
          [
           "France"
          ],
          [
           "France"
          ],
          [
           "France"
          ],
          [
           "France"
          ],
          [
           "France"
          ],
          [
           "France"
          ],
          [
           "France"
          ]
         ],
         "hovertemplate": "country=%{customdata[0]}<br>Year=%{x}<br>Life Expectancy=%{y}<extra></extra>",
         "legendgroup": "France",
         "line": {
          "color": "#FECB52",
          "dash": "solid"
         },
         "marker": {
          "symbol": "circle"
         },
         "mode": "lines",
         "name": "France",
         "orientation": "v",
         "showlegend": true,
         "type": "scatter",
         "x": [
          2011,
          2012,
          2013,
          2014,
          2015,
          2016,
          2017,
          2018,
          2019,
          2020,
          2021,
          2022
         ],
         "xaxis": "x",
         "y": [
          0.32117884026691806,
          0.3321181740634746,
          0.4305721782324883,
          0.46339017962215956,
          0.4196328444359302,
          0.3649361754531443,
          0.4415115120290464,
          0.49620818101183234,
          0.5399655161980617,
          0.6384195203670738,
          0.9884782018569055,
          0.6056015189774041
         ],
         "yaxis": "y"
        },
        {
         "customdata": [
          [
           "Germany"
          ],
          [
           "Germany"
          ],
          [
           "Germany"
          ],
          [
           "Germany"
          ],
          [
           "Germany"
          ],
          [
           "Germany"
          ],
          [
           "Germany"
          ],
          [
           "Germany"
          ],
          [
           "Germany"
          ],
          [
           "Germany"
          ],
          [
           "Germany"
          ],
          [
           "Germany"
          ]
         ],
         "hovertemplate": "country=%{customdata[0]}<br>Year=%{x}<br>Life Expectancy=%{y}<extra></extra>",
         "legendgroup": "Germany",
         "line": {
          "color": "#636efa",
          "dash": "solid"
         },
         "marker": {
          "symbol": "circle"
         },
         "mode": "lines",
         "name": "Germany",
         "orientation": "v",
         "showlegend": true,
         "type": "scatter",
         "x": [
          2011,
          2012,
          2013,
          2014,
          2015,
          2016,
          2017,
          2018,
          2019,
          2020,
          2021,
          2022
         ],
         "xaxis": "x",
         "y": [
          -0.7618152055922435,
          -0.8930872111509315,
          -0.9477838801337158,
          -1.1446918884717447,
          1.0322355370431349,
          1.0103568694500187,
          0.922842199077563,
          0.8790848638913306,
          0.999417535653462,
          0.8900241976878902,
          0.8572061962982175,
          -0.13827317918848542
         ],
         "yaxis": "y"
        },
        {
         "customdata": [
          [
           "Greece"
          ],
          [
           "Greece"
          ],
          [
           "Greece"
          ],
          [
           "Greece"
          ],
          [
           "Greece"
          ],
          [
           "Greece"
          ],
          [
           "Greece"
          ],
          [
           "Greece"
          ],
          [
           "Greece"
          ],
          [
           "Greece"
          ],
          [
           "Greece"
          ],
          [
           "Greece"
          ]
         ],
         "hovertemplate": "country=%{customdata[0]}<br>Year=%{x}<br>Life Expectancy=%{y}<extra></extra>",
         "legendgroup": "Greece",
         "line": {
          "color": "#EF553B",
          "dash": "solid"
         },
         "marker": {
          "symbol": "circle"
         },
         "mode": "lines",
         "name": "Greece",
         "orientation": "v",
         "showlegend": true,
         "type": "scatter",
         "x": [
          2011,
          2012,
          2013,
          2014,
          2015,
          2016,
          2017,
          2018,
          2019,
          2020,
          2021,
          2022
         ],
         "xaxis": "x",
         "y": [
          1.0650535384328077,
          0.6931161893498597,
          0.7040555231464194,
          0.6165408527739606,
          0.5071475148083889,
          0.5618441837911747,
          0.6712375217567466,
          0.8243881949085478,
          0.9447208666706761,
          0.922842199077563,
          0.8681455300947771,
          1.1635075426018198
         ],
         "yaxis": "y"
        },
        {
         "customdata": [
          [
           "Hungary"
          ],
          [
           "Hungary"
          ],
          [
           "Hungary"
          ],
          [
           "Hungary"
          ],
          [
           "Hungary"
          ],
          [
           "Hungary"
          ],
          [
           "Hungary"
          ],
          [
           "Hungary"
          ],
          [
           "Hungary"
          ],
          [
           "Hungary"
          ],
          [
           "Hungary"
          ],
          [
           "Hungary"
          ]
         ],
         "hovertemplate": "country=%{customdata[0]}<br>Year=%{x}<br>Life Expectancy=%{y}<extra></extra>",
         "legendgroup": "Hungary",
         "line": {
          "color": "#00cc96",
          "dash": "solid"
         },
         "marker": {
          "symbol": "circle"
         },
         "mode": "lines",
         "name": "Hungary",
         "orientation": "v",
         "showlegend": true,
         "type": "scatter",
         "x": [
          2011,
          2012,
          2013,
          2014,
          2015,
          2016,
          2017,
          2018,
          2019,
          2020,
          2021,
          2022
         ],
         "xaxis": "x",
         "y": [
          -0.7071185366094576,
          -0.4226958578989715,
          -0.46645319308520083,
          -0.40081719030585683,
          -0.5539678634576565,
          -0.40081719030585683,
          -0.32424185372995623,
          -0.12733384539192885,
          0.014877493963315738,
          0.18990683470823,
          0.18990683470823,
          0.20084616850478657
         ],
         "yaxis": "y"
        },
        {
         "customdata": [
          [
           "Ireland"
          ],
          [
           "Ireland"
          ],
          [
           "Ireland"
          ],
          [
           "Ireland"
          ],
          [
           "Ireland"
          ],
          [
           "Ireland"
          ],
          [
           "Ireland"
          ],
          [
           "Ireland"
          ],
          [
           "Ireland"
          ],
          [
           "Ireland"
          ],
          [
           "Ireland"
          ],
          [
           "Ireland"
          ]
         ],
         "hovertemplate": "country=%{customdata[0]}<br>Year=%{x}<br>Life Expectancy=%{y}<extra></extra>",
         "legendgroup": "Ireland",
         "line": {
          "color": "#ab63fa",
          "dash": "solid"
         },
         "marker": {
          "symbol": "circle"
         },
         "mode": "lines",
         "name": "Ireland",
         "orientation": "v",
         "showlegend": true,
         "type": "scatter",
         "x": [
          2011,
          2012,
          2013,
          2014,
          2015,
          2016,
          2017,
          2018,
          2019,
          2020,
          2021,
          2022
         ],
         "xaxis": "x",
         "y": [
          1.207264877788046,
          1.2182042115846057,
          1.130689541212147,
          1.1416288750087067,
          1.2182042115846057,
          1.4916875564985352,
          1.5135662240916483,
          1.677656231040006,
          1.7214135662262353,
          0.9884782018569024,
          1.207264877788049,
          0.9447208666706761
         ],
         "yaxis": "y"
        },
        {
         "customdata": [
          [
           "Italy"
          ],
          [
           "Italy"
          ],
          [
           "Italy"
          ],
          [
           "Italy"
          ],
          [
           "Italy"
          ],
          [
           "Italy"
          ],
          [
           "Italy"
          ],
          [
           "Italy"
          ],
          [
           "Italy"
          ],
          [
           "Italy"
          ],
          [
           "Italy"
          ],
          [
           "Italy"
          ]
         ],
         "hovertemplate": "country=%{customdata[0]}<br>Year=%{x}<br>Life Expectancy=%{y}<extra></extra>",
         "legendgroup": "Italy",
         "line": {
          "color": "#FFA15A",
          "dash": "solid"
         },
         "marker": {
          "symbol": "circle"
         },
         "mode": "lines",
         "name": "Italy",
         "orientation": "v",
         "showlegend": true,
         "type": "scatter",
         "x": [
          2011,
          2012,
          2013,
          2014,
          2015,
          2016,
          2017,
          2018,
          2019,
          2020,
          2021,
          2022
         ],
         "xaxis": "x",
         "y": [
          0.2993001726738018,
          0.014877493963315738,
          -0.017940507426355494,
          0.15708883331855877,
          0.21178550230134624,
          1.2510222129742785,
          1.0103568694500218,
          1.130689541212147,
          1.4588695551088624,
          1.3713548847364068,
          1.4041728861260765,
          1.2619615467708318
         ],
         "yaxis": "y"
        },
        {
         "customdata": [
          [
           "Latvia"
          ],
          [
           "Latvia"
          ],
          [
           "Latvia"
          ],
          [
           "Latvia"
          ],
          [
           "Latvia"
          ],
          [
           "Latvia"
          ],
          [
           "Latvia"
          ],
          [
           "Latvia"
          ],
          [
           "Latvia"
          ],
          [
           "Latvia"
          ],
          [
           "Latvia"
          ],
          [
           "Latvia"
          ]
         ],
         "hovertemplate": "country=%{customdata[0]}<br>Year=%{x}<br>Life Expectancy=%{y}<extra></extra>",
         "legendgroup": "Latvia",
         "line": {
          "color": "#19d3f3",
          "dash": "solid"
         },
         "marker": {
          "symbol": "circle"
         },
         "mode": "lines",
         "name": "Latvia",
         "orientation": "v",
         "showlegend": true,
         "type": "scatter",
         "x": [
          2011,
          2012,
          2013,
          2014,
          2015,
          2016,
          2017,
          2018,
          2019,
          2020,
          2021,
          2022
         ],
         "xaxis": "x",
         "y": [
          -1.440053900978789,
          -1.0681165518958458,
          -1.9104452542307475,
          -1.811991250061734,
          -1.9104452542307475,
          -1.768233914875506,
          -2.2495646019240194,
          -2.041717259789434,
          -1.8666879190445183,
          -1.8010519162651757,
          -1.7244765796892767,
          -1.636961909316818
         ],
         "yaxis": "y"
        },
        {
         "customdata": [
          [
           "Lithuania"
          ],
          [
           "Lithuania"
          ],
          [
           "Lithuania"
          ],
          [
           "Lithuania"
          ],
          [
           "Lithuania"
          ],
          [
           "Lithuania"
          ],
          [
           "Lithuania"
          ],
          [
           "Lithuania"
          ],
          [
           "Lithuania"
          ],
          [
           "Lithuania"
          ],
          [
           "Lithuania"
          ],
          [
           "Lithuania"
          ]
         ],
         "hovertemplate": "country=%{customdata[0]}<br>Year=%{x}<br>Life Expectancy=%{y}<extra></extra>",
         "legendgroup": "Lithuania",
         "line": {
          "color": "#FF6692",
          "dash": "solid"
         },
         "marker": {
          "symbol": "circle"
         },
         "mode": "lines",
         "name": "Lithuania",
         "orientation": "v",
         "showlegend": true,
         "type": "scatter",
         "x": [
          2011,
          2012,
          2013,
          2014,
          2015,
          2016,
          2017,
          2018,
          2019,
          2020,
          2021,
          2022
         ],
         "xaxis": "x",
         "y": [
          -0.47739252688175743,
          -0.5649071972542146,
          -0.5430285296610998,
          -0.4445745254920846,
          -1.1446918884717447,
          -0.8493298759647022,
          -0.7836938731853598,
          -0.8712085435578153,
          -0.9040265449474881,
          -1.0462378843027296,
          -0.8930872111509315,
          -0.3133025199333997
         ],
         "yaxis": "y"
        },
        {
         "customdata": [
          [
           "Luxembourg"
          ],
          [
           "Luxembourg"
          ],
          [
           "Luxembourg"
          ],
          [
           "Luxembourg"
          ],
          [
           "Luxembourg"
          ],
          [
           "Luxembourg"
          ],
          [
           "Luxembourg"
          ],
          [
           "Luxembourg"
          ],
          [
           "Luxembourg"
          ],
          [
           "Luxembourg"
          ],
          [
           "Luxembourg"
          ],
          [
           "Luxembourg"
          ]
         ],
         "hovertemplate": "country=%{customdata[0]}<br>Year=%{x}<br>Life Expectancy=%{y}<extra></extra>",
         "legendgroup": "Luxembourg",
         "line": {
          "color": "#B6E880",
          "dash": "solid"
         },
         "marker": {
          "symbol": "circle"
         },
         "mode": "lines",
         "name": "Luxembourg",
         "orientation": "v",
         "showlegend": true,
         "type": "scatter",
         "x": [
          2011,
          2012,
          2013,
          2014,
          2015,
          2016,
          2017,
          2018,
          2019,
          2020,
          2021,
          2022
         ],
         "xaxis": "x",
         "y": [
          1.0431748708396882,
          0.9665995342637892,
          0.3649361754531443,
          0.45245084582560297,
          0.10239216433577443,
          -0.3351811875265144,
          -0.5649071972542146,
          -0.23672718335750068,
          0.18990683470823,
          0.3321181740634746,
          0.058634829149545084,
          -0.357059855119629
         ],
         "yaxis": "y"
        },
        {
         "customdata": [
          [
           "Malta"
          ],
          [
           "Malta"
          ],
          [
           "Malta"
          ],
          [
           "Malta"
          ],
          [
           "Malta"
          ],
          [
           "Malta"
          ],
          [
           "Malta"
          ],
          [
           "Malta"
          ],
          [
           "Malta"
          ],
          [
           "Malta"
          ],
          [
           "Malta"
          ],
          [
           "Malta"
          ]
         ],
         "hovertemplate": "country=%{customdata[0]}<br>Year=%{x}<br>Life Expectancy=%{y}<extra></extra>",
         "legendgroup": "Malta",
         "line": {
          "color": "#FF97FF",
          "dash": "solid"
         },
         "marker": {
          "symbol": "circle"
         },
         "mode": "lines",
         "name": "Malta",
         "orientation": "v",
         "showlegend": true,
         "type": "scatter",
         "x": [
          2011,
          2012,
          2013,
          2014,
          2015,
          2016,
          2017,
          2018,
          2019,
          2020,
          2021,
          2022
         ],
         "xaxis": "x",
         "y": [
          1.8855035731745962,
          2.224622920867865,
          2.290258923647211,
          2.56374226856114,
          2.6074996037473666,
          2.202744253274752,
          2.3996522616127822,
          2.3996522616127822,
          2.5199849333749107,
          1.9183215745642659,
          1.5354448916847645,
          1.8636249055814769
         ],
         "yaxis": "y"
        },
        {
         "customdata": [
          [
           "Netherlands"
          ],
          [
           "Netherlands"
          ],
          [
           "Netherlands"
          ],
          [
           "Netherlands"
          ],
          [
           "Netherlands"
          ],
          [
           "Netherlands"
          ],
          [
           "Netherlands"
          ],
          [
           "Netherlands"
          ],
          [
           "Netherlands"
          ],
          [
           "Netherlands"
          ],
          [
           "Netherlands"
          ],
          [
           "Netherlands"
          ]
         ],
         "hovertemplate": "country=%{customdata[0]}<br>Year=%{x}<br>Life Expectancy=%{y}<extra></extra>",
         "legendgroup": "Netherlands",
         "line": {
          "color": "#FECB52",
          "dash": "solid"
         },
         "marker": {
          "symbol": "circle"
         },
         "mode": "lines",
         "name": "Netherlands",
         "orientation": "v",
         "showlegend": true,
         "type": "scatter",
         "x": [
          2011,
          2012,
          2013,
          2014,
          2015,
          2016,
          2017,
          2018,
          2019,
          2020,
          2021,
          2022
         ],
         "xaxis": "x",
         "y": [
          -0.03981917501947017,
          -0.10545517779881262,
          -0.48833186067831397,
          -0.11639451159537074,
          -0.5539678634576565,
          -0.30236318613684315,
          -0.37893852271274214,
          -0.5539678634576565,
          -0.16015184678159852,
          -0.14921251298504198,
          -0.30236318613684315,
          -0.696179202812901
         ],
         "yaxis": "y"
        },
        {
         "customdata": [
          [
           "Poland"
          ],
          [
           "Poland"
          ],
          [
           "Poland"
          ],
          [
           "Poland"
          ],
          [
           "Poland"
          ],
          [
           "Poland"
          ],
          [
           "Poland"
          ],
          [
           "Poland"
          ],
          [
           "Poland"
          ],
          [
           "Poland"
          ],
          [
           "Poland"
          ],
          [
           "Poland"
          ]
         ],
         "hovertemplate": "country=%{customdata[0]}<br>Year=%{x}<br>Life Expectancy=%{y}<extra></extra>",
         "legendgroup": "Poland",
         "line": {
          "color": "#636efa",
          "dash": "solid"
         },
         "marker": {
          "symbol": "circle"
         },
         "mode": "lines",
         "name": "Poland",
         "orientation": "v",
         "showlegend": true,
         "type": "scatter",
         "x": [
          2011,
          2012,
          2013,
          2014,
          2015,
          2016,
          2017,
          2018,
          2019,
          2020,
          2021,
          2022
         ],
         "xaxis": "x",
         "y": [
          -0.11639451159536919,
          -0.16015184678159852,
          -0.16015184678159852,
          -0.09451584400225607,
          -0.0070011736297973795,
          0.27742150508068714,
          0.0805134967426582,
          0.15708883331855877,
          0.17896750091167346,
          0.13521016572544411,
          0.21178550230134469,
          0.16802816711511534
         ],
         "yaxis": "y"
        },
        {
         "customdata": [
          [
           "Portugal"
          ],
          [
           "Portugal"
          ],
          [
           "Portugal"
          ],
          [
           "Portugal"
          ],
          [
           "Portugal"
          ],
          [
           "Portugal"
          ],
          [
           "Portugal"
          ],
          [
           "Portugal"
          ],
          [
           "Portugal"
          ],
          [
           "Portugal"
          ],
          [
           "Portugal"
          ],
          [
           "Portugal"
          ]
         ],
         "hovertemplate": "country=%{customdata[0]}<br>Year=%{x}<br>Life Expectancy=%{y}<extra></extra>",
         "legendgroup": "Portugal",
         "line": {
          "color": "#EF553B",
          "dash": "solid"
         },
         "marker": {
          "symbol": "circle"
         },
         "mode": "lines",
         "name": "Portugal",
         "orientation": "v",
         "showlegend": true,
         "type": "scatter",
         "x": [
          2011,
          2012,
          2013,
          2014,
          2015,
          2016,
          2017,
          2018,
          2019,
          2020,
          2021,
          2022
         ],
         "xaxis": "x",
         "y": [
          -0.4445745254920846,
          0.40869351063937365,
          0.2993001726738018,
          -1.0462378843027311,
          -1.1118738870820737,
          -0.6633612014232297,
          -0.6852398690163445,
          -0.6633612014232297,
          -0.5430285296610998,
          -0.4226958578989715,
          -0.7289972042025739,
          -0.5649071972542146
         ],
         "yaxis": "y"
        },
        {
         "customdata": [
          [
           "Romania"
          ],
          [
           "Romania"
          ],
          [
           "Romania"
          ],
          [
           "Romania"
          ],
          [
           "Romania"
          ],
          [
           "Romania"
          ],
          [
           "Romania"
          ],
          [
           "Romania"
          ],
          [
           "Romania"
          ],
          [
           "Romania"
          ],
          [
           "Romania"
          ],
          [
           "Romania"
          ]
         ],
         "hovertemplate": "country=%{customdata[0]}<br>Year=%{x}<br>Life Expectancy=%{y}<extra></extra>",
         "legendgroup": "Romania",
         "line": {
          "color": "#00cc96",
          "dash": "solid"
         },
         "marker": {
          "symbol": "circle"
         },
         "mode": "lines",
         "name": "Romania",
         "orientation": "v",
         "showlegend": true,
         "type": "scatter",
         "x": [
          2011,
          2012,
          2013,
          2014,
          2015,
          2016,
          2017,
          2018,
          2019,
          2020,
          2021,
          2022
         ],
         "xaxis": "x",
         "y": [
          -0.9806018815233871,
          -0.8930872111509299,
          -0.7071185366094576,
          -0.5867858648473292,
          -0.553967863457658,
          -0.49927119447487206,
          -0.6524218676266716,
          -0.4992711944748705,
          -0.3133025199333997,
          -0.3898778565093003,
          -0.8602692097612588,
          -0.5867858648473292
         ],
         "yaxis": "y"
        },
        {
         "customdata": [
          [
           "Slovakia"
          ],
          [
           "Slovakia"
          ],
          [
           "Slovakia"
          ],
          [
           "Slovakia"
          ],
          [
           "Slovakia"
          ],
          [
           "Slovakia"
          ],
          [
           "Slovakia"
          ],
          [
           "Slovakia"
          ],
          [
           "Slovakia"
          ],
          [
           "Slovakia"
          ],
          [
           "Slovakia"
          ],
          [
           "Slovakia"
          ]
         ],
         "hovertemplate": "country=%{customdata[0]}<br>Year=%{x}<br>Life Expectancy=%{y}<extra></extra>",
         "legendgroup": "Slovakia",
         "line": {
          "color": "#ab63fa",
          "dash": "solid"
         },
         "marker": {
          "symbol": "circle"
         },
         "mode": "lines",
         "name": "Slovakia",
         "orientation": "v",
         "showlegend": true,
         "type": "scatter",
         "x": [
          2011,
          2012,
          2013,
          2014,
          2015,
          2016,
          2017,
          2018,
          2019,
          2020,
          2021,
          2022
         ],
         "xaxis": "x",
         "y": [
          -2.074535261179105,
          -1.844809251451405,
          -1.5932045741305902,
          -1.4509932347753471,
          -1.4728719023684602,
          -1.0899952194889588,
          -1.3306605630132171,
          -1.2322065588442035,
          -1.2103278912510889,
          -1.0899952194889588,
          -1.0571772180992878,
          -0.958723213930274
         ],
         "yaxis": "y"
        },
        {
         "customdata": [
          [
           "Slovenia"
          ],
          [
           "Slovenia"
          ],
          [
           "Slovenia"
          ],
          [
           "Slovenia"
          ],
          [
           "Slovenia"
          ],
          [
           "Slovenia"
          ],
          [
           "Slovenia"
          ],
          [
           "Slovenia"
          ],
          [
           "Slovenia"
          ],
          [
           "Slovenia"
          ],
          [
           "Slovenia"
          ],
          [
           "Slovenia"
          ]
         ],
         "hovertemplate": "country=%{customdata[0]}<br>Year=%{x}<br>Life Expectancy=%{y}<extra></extra>",
         "legendgroup": "Slovenia",
         "line": {
          "color": "#FFA15A",
          "dash": "solid"
         },
         "marker": {
          "symbol": "circle"
         },
         "mode": "lines",
         "name": "Slovenia",
         "orientation": "v",
         "showlegend": true,
         "type": "scatter",
         "x": [
          2011,
          2012,
          2013,
          2014,
          2015,
          2016,
          2017,
          2018,
          2019,
          2020,
          2021,
          2022
         ],
         "xaxis": "x",
         "y": [
          -1.702597912096162,
          -1.2322065588442035,
          -0.6852398690163445,
          -0.6524218676266716,
          -0.7836938731853582,
          -0.7399365379991304,
          -1.4728719023684602,
          -1.3634785644028884,
          -0.14921251298504198,
          0.7478128583326457,
          0.8353275287051043,
          1.1088108736190339
         ],
         "yaxis": "y"
        },
        {
         "customdata": [
          [
           "Spain"
          ],
          [
           "Spain"
          ],
          [
           "Spain"
          ],
          [
           "Spain"
          ],
          [
           "Spain"
          ],
          [
           "Spain"
          ],
          [
           "Spain"
          ],
          [
           "Spain"
          ],
          [
           "Spain"
          ],
          [
           "Spain"
          ],
          [
           "Spain"
          ],
          [
           "Spain"
          ]
         ],
         "hovertemplate": "country=%{customdata[0]}<br>Year=%{x}<br>Life Expectancy=%{y}<extra></extra>",
         "legendgroup": "Spain",
         "line": {
          "color": "#19d3f3",
          "dash": "solid"
         },
         "marker": {
          "symbol": "circle"
         },
         "mode": "lines",
         "name": "Spain",
         "orientation": "v",
         "showlegend": true,
         "type": "scatter",
         "x": [
          2011,
          2012,
          2013,
          2014,
          2015,
          2016,
          2017,
          2018,
          2019,
          2020,
          2021,
          2022
         ],
         "xaxis": "x",
         "y": [
          0.8353275287051043,
          0.7915701935188749,
          0.5727835175877314,
          0.7259341907395325,
          0.5071475148083889,
          0.9884782018569055,
          1.6995348986331222,
          1.3822942185329634,
          1.7979889028021374,
          1.0103568694500187,
          0.2446035036910159,
          -0.11639451159536919
         ],
         "yaxis": "y"
        },
        {
         "customdata": [
          [
           "Sweden"
          ],
          [
           "Sweden"
          ],
          [
           "Sweden"
          ],
          [
           "Sweden"
          ],
          [
           "Sweden"
          ],
          [
           "Sweden"
          ],
          [
           "Sweden"
          ],
          [
           "Sweden"
          ],
          [
           "Sweden"
          ],
          [
           "Sweden"
          ],
          [
           "Sweden"
          ],
          [
           "Sweden"
          ]
         ],
         "hovertemplate": "country=%{customdata[0]}<br>Year=%{x}<br>Life Expectancy=%{y}<extra></extra>",
         "legendgroup": "Sweden",
         "line": {
          "color": "#FF6692",
          "dash": "solid"
         },
         "marker": {
          "symbol": "circle"
         },
         "mode": "lines",
         "name": "Sweden",
         "orientation": "v",
         "showlegend": true,
         "type": "scatter",
         "x": [
          2011,
          2012,
          2013,
          2014,
          2015,
          2016,
          2017,
          2018,
          2019,
          2020,
          2021,
          2022
         ],
         "xaxis": "x",
         "y": [
          0.8243881949085446,
          0.8517365293999392,
          0.8790848638913337,
          2.454348930595568,
          2.3996522616127822,
          2.509045599578354,
          2.3777735940196694,
          2.443409596799009,
          2.5309242671714673,
          2.4215309292058955,
          1.4698088889054222,
          1.0322355370431349
         ],
         "yaxis": "y"
        }
       ],
       "layout": {
        "legend": {
         "title": {
          "text": "country"
         },
         "tracegroupgap": 0
        },
        "template": {
         "data": {
          "bar": [
           {
            "error_x": {
             "color": "#2a3f5f"
            },
            "error_y": {
             "color": "#2a3f5f"
            },
            "marker": {
             "line": {
              "color": "#E5ECF6",
              "width": 0.5
             },
             "pattern": {
              "fillmode": "overlay",
              "size": 10,
              "solidity": 0.2
             }
            },
            "type": "bar"
           }
          ],
          "barpolar": [
           {
            "marker": {
             "line": {
              "color": "#E5ECF6",
              "width": 0.5
             },
             "pattern": {
              "fillmode": "overlay",
              "size": 10,
              "solidity": 0.2
             }
            },
            "type": "barpolar"
           }
          ],
          "carpet": [
           {
            "aaxis": {
             "endlinecolor": "#2a3f5f",
             "gridcolor": "white",
             "linecolor": "white",
             "minorgridcolor": "white",
             "startlinecolor": "#2a3f5f"
            },
            "baxis": {
             "endlinecolor": "#2a3f5f",
             "gridcolor": "white",
             "linecolor": "white",
             "minorgridcolor": "white",
             "startlinecolor": "#2a3f5f"
            },
            "type": "carpet"
           }
          ],
          "choropleth": [
           {
            "colorbar": {
             "outlinewidth": 0,
             "ticks": ""
            },
            "type": "choropleth"
           }
          ],
          "contour": [
           {
            "colorbar": {
             "outlinewidth": 0,
             "ticks": ""
            },
            "colorscale": [
             [
              0,
              "#0d0887"
             ],
             [
              0.1111111111111111,
              "#46039f"
             ],
             [
              0.2222222222222222,
              "#7201a8"
             ],
             [
              0.3333333333333333,
              "#9c179e"
             ],
             [
              0.4444444444444444,
              "#bd3786"
             ],
             [
              0.5555555555555556,
              "#d8576b"
             ],
             [
              0.6666666666666666,
              "#ed7953"
             ],
             [
              0.7777777777777778,
              "#fb9f3a"
             ],
             [
              0.8888888888888888,
              "#fdca26"
             ],
             [
              1,
              "#f0f921"
             ]
            ],
            "type": "contour"
           }
          ],
          "contourcarpet": [
           {
            "colorbar": {
             "outlinewidth": 0,
             "ticks": ""
            },
            "type": "contourcarpet"
           }
          ],
          "heatmap": [
           {
            "colorbar": {
             "outlinewidth": 0,
             "ticks": ""
            },
            "colorscale": [
             [
              0,
              "#0d0887"
             ],
             [
              0.1111111111111111,
              "#46039f"
             ],
             [
              0.2222222222222222,
              "#7201a8"
             ],
             [
              0.3333333333333333,
              "#9c179e"
             ],
             [
              0.4444444444444444,
              "#bd3786"
             ],
             [
              0.5555555555555556,
              "#d8576b"
             ],
             [
              0.6666666666666666,
              "#ed7953"
             ],
             [
              0.7777777777777778,
              "#fb9f3a"
             ],
             [
              0.8888888888888888,
              "#fdca26"
             ],
             [
              1,
              "#f0f921"
             ]
            ],
            "type": "heatmap"
           }
          ],
          "heatmapgl": [
           {
            "colorbar": {
             "outlinewidth": 0,
             "ticks": ""
            },
            "colorscale": [
             [
              0,
              "#0d0887"
             ],
             [
              0.1111111111111111,
              "#46039f"
             ],
             [
              0.2222222222222222,
              "#7201a8"
             ],
             [
              0.3333333333333333,
              "#9c179e"
             ],
             [
              0.4444444444444444,
              "#bd3786"
             ],
             [
              0.5555555555555556,
              "#d8576b"
             ],
             [
              0.6666666666666666,
              "#ed7953"
             ],
             [
              0.7777777777777778,
              "#fb9f3a"
             ],
             [
              0.8888888888888888,
              "#fdca26"
             ],
             [
              1,
              "#f0f921"
             ]
            ],
            "type": "heatmapgl"
           }
          ],
          "histogram": [
           {
            "marker": {
             "pattern": {
              "fillmode": "overlay",
              "size": 10,
              "solidity": 0.2
             }
            },
            "type": "histogram"
           }
          ],
          "histogram2d": [
           {
            "colorbar": {
             "outlinewidth": 0,
             "ticks": ""
            },
            "colorscale": [
             [
              0,
              "#0d0887"
             ],
             [
              0.1111111111111111,
              "#46039f"
             ],
             [
              0.2222222222222222,
              "#7201a8"
             ],
             [
              0.3333333333333333,
              "#9c179e"
             ],
             [
              0.4444444444444444,
              "#bd3786"
             ],
             [
              0.5555555555555556,
              "#d8576b"
             ],
             [
              0.6666666666666666,
              "#ed7953"
             ],
             [
              0.7777777777777778,
              "#fb9f3a"
             ],
             [
              0.8888888888888888,
              "#fdca26"
             ],
             [
              1,
              "#f0f921"
             ]
            ],
            "type": "histogram2d"
           }
          ],
          "histogram2dcontour": [
           {
            "colorbar": {
             "outlinewidth": 0,
             "ticks": ""
            },
            "colorscale": [
             [
              0,
              "#0d0887"
             ],
             [
              0.1111111111111111,
              "#46039f"
             ],
             [
              0.2222222222222222,
              "#7201a8"
             ],
             [
              0.3333333333333333,
              "#9c179e"
             ],
             [
              0.4444444444444444,
              "#bd3786"
             ],
             [
              0.5555555555555556,
              "#d8576b"
             ],
             [
              0.6666666666666666,
              "#ed7953"
             ],
             [
              0.7777777777777778,
              "#fb9f3a"
             ],
             [
              0.8888888888888888,
              "#fdca26"
             ],
             [
              1,
              "#f0f921"
             ]
            ],
            "type": "histogram2dcontour"
           }
          ],
          "mesh3d": [
           {
            "colorbar": {
             "outlinewidth": 0,
             "ticks": ""
            },
            "type": "mesh3d"
           }
          ],
          "parcoords": [
           {
            "line": {
             "colorbar": {
              "outlinewidth": 0,
              "ticks": ""
             }
            },
            "type": "parcoords"
           }
          ],
          "pie": [
           {
            "automargin": true,
            "type": "pie"
           }
          ],
          "scatter": [
           {
            "fillpattern": {
             "fillmode": "overlay",
             "size": 10,
             "solidity": 0.2
            },
            "type": "scatter"
           }
          ],
          "scatter3d": [
           {
            "line": {
             "colorbar": {
              "outlinewidth": 0,
              "ticks": ""
             }
            },
            "marker": {
             "colorbar": {
              "outlinewidth": 0,
              "ticks": ""
             }
            },
            "type": "scatter3d"
           }
          ],
          "scattercarpet": [
           {
            "marker": {
             "colorbar": {
              "outlinewidth": 0,
              "ticks": ""
             }
            },
            "type": "scattercarpet"
           }
          ],
          "scattergeo": [
           {
            "marker": {
             "colorbar": {
              "outlinewidth": 0,
              "ticks": ""
             }
            },
            "type": "scattergeo"
           }
          ],
          "scattergl": [
           {
            "marker": {
             "colorbar": {
              "outlinewidth": 0,
              "ticks": ""
             }
            },
            "type": "scattergl"
           }
          ],
          "scattermapbox": [
           {
            "marker": {
             "colorbar": {
              "outlinewidth": 0,
              "ticks": ""
             }
            },
            "type": "scattermapbox"
           }
          ],
          "scatterpolar": [
           {
            "marker": {
             "colorbar": {
              "outlinewidth": 0,
              "ticks": ""
             }
            },
            "type": "scatterpolar"
           }
          ],
          "scatterpolargl": [
           {
            "marker": {
             "colorbar": {
              "outlinewidth": 0,
              "ticks": ""
             }
            },
            "type": "scatterpolargl"
           }
          ],
          "scatterternary": [
           {
            "marker": {
             "colorbar": {
              "outlinewidth": 0,
              "ticks": ""
             }
            },
            "type": "scatterternary"
           }
          ],
          "surface": [
           {
            "colorbar": {
             "outlinewidth": 0,
             "ticks": ""
            },
            "colorscale": [
             [
              0,
              "#0d0887"
             ],
             [
              0.1111111111111111,
              "#46039f"
             ],
             [
              0.2222222222222222,
              "#7201a8"
             ],
             [
              0.3333333333333333,
              "#9c179e"
             ],
             [
              0.4444444444444444,
              "#bd3786"
             ],
             [
              0.5555555555555556,
              "#d8576b"
             ],
             [
              0.6666666666666666,
              "#ed7953"
             ],
             [
              0.7777777777777778,
              "#fb9f3a"
             ],
             [
              0.8888888888888888,
              "#fdca26"
             ],
             [
              1,
              "#f0f921"
             ]
            ],
            "type": "surface"
           }
          ],
          "table": [
           {
            "cells": {
             "fill": {
              "color": "#EBF0F8"
             },
             "line": {
              "color": "white"
             }
            },
            "header": {
             "fill": {
              "color": "#C8D4E3"
             },
             "line": {
              "color": "white"
             }
            },
            "type": "table"
           }
          ]
         },
         "layout": {
          "annotationdefaults": {
           "arrowcolor": "#2a3f5f",
           "arrowhead": 0,
           "arrowwidth": 1
          },
          "autotypenumbers": "strict",
          "coloraxis": {
           "colorbar": {
            "outlinewidth": 0,
            "ticks": ""
           }
          },
          "colorscale": {
           "diverging": [
            [
             0,
             "#8e0152"
            ],
            [
             0.1,
             "#c51b7d"
            ],
            [
             0.2,
             "#de77ae"
            ],
            [
             0.3,
             "#f1b6da"
            ],
            [
             0.4,
             "#fde0ef"
            ],
            [
             0.5,
             "#f7f7f7"
            ],
            [
             0.6,
             "#e6f5d0"
            ],
            [
             0.7,
             "#b8e186"
            ],
            [
             0.8,
             "#7fbc41"
            ],
            [
             0.9,
             "#4d9221"
            ],
            [
             1,
             "#276419"
            ]
           ],
           "sequential": [
            [
             0,
             "#0d0887"
            ],
            [
             0.1111111111111111,
             "#46039f"
            ],
            [
             0.2222222222222222,
             "#7201a8"
            ],
            [
             0.3333333333333333,
             "#9c179e"
            ],
            [
             0.4444444444444444,
             "#bd3786"
            ],
            [
             0.5555555555555556,
             "#d8576b"
            ],
            [
             0.6666666666666666,
             "#ed7953"
            ],
            [
             0.7777777777777778,
             "#fb9f3a"
            ],
            [
             0.8888888888888888,
             "#fdca26"
            ],
            [
             1,
             "#f0f921"
            ]
           ],
           "sequentialminus": [
            [
             0,
             "#0d0887"
            ],
            [
             0.1111111111111111,
             "#46039f"
            ],
            [
             0.2222222222222222,
             "#7201a8"
            ],
            [
             0.3333333333333333,
             "#9c179e"
            ],
            [
             0.4444444444444444,
             "#bd3786"
            ],
            [
             0.5555555555555556,
             "#d8576b"
            ],
            [
             0.6666666666666666,
             "#ed7953"
            ],
            [
             0.7777777777777778,
             "#fb9f3a"
            ],
            [
             0.8888888888888888,
             "#fdca26"
            ],
            [
             1,
             "#f0f921"
            ]
           ]
          },
          "colorway": [
           "#636efa",
           "#EF553B",
           "#00cc96",
           "#ab63fa",
           "#FFA15A",
           "#19d3f3",
           "#FF6692",
           "#B6E880",
           "#FF97FF",
           "#FECB52"
          ],
          "font": {
           "color": "#2a3f5f"
          },
          "geo": {
           "bgcolor": "white",
           "lakecolor": "white",
           "landcolor": "#E5ECF6",
           "showlakes": true,
           "showland": true,
           "subunitcolor": "white"
          },
          "hoverlabel": {
           "align": "left"
          },
          "hovermode": "closest",
          "mapbox": {
           "style": "light"
          },
          "paper_bgcolor": "white",
          "plot_bgcolor": "#E5ECF6",
          "polar": {
           "angularaxis": {
            "gridcolor": "white",
            "linecolor": "white",
            "ticks": ""
           },
           "bgcolor": "#E5ECF6",
           "radialaxis": {
            "gridcolor": "white",
            "linecolor": "white",
            "ticks": ""
           }
          },
          "scene": {
           "xaxis": {
            "backgroundcolor": "#E5ECF6",
            "gridcolor": "white",
            "gridwidth": 2,
            "linecolor": "white",
            "showbackground": true,
            "ticks": "",
            "zerolinecolor": "white"
           },
           "yaxis": {
            "backgroundcolor": "#E5ECF6",
            "gridcolor": "white",
            "gridwidth": 2,
            "linecolor": "white",
            "showbackground": true,
            "ticks": "",
            "zerolinecolor": "white"
           },
           "zaxis": {
            "backgroundcolor": "#E5ECF6",
            "gridcolor": "white",
            "gridwidth": 2,
            "linecolor": "white",
            "showbackground": true,
            "ticks": "",
            "zerolinecolor": "white"
           }
          },
          "shapedefaults": {
           "line": {
            "color": "#2a3f5f"
           }
          },
          "ternary": {
           "aaxis": {
            "gridcolor": "white",
            "linecolor": "white",
            "ticks": ""
           },
           "baxis": {
            "gridcolor": "white",
            "linecolor": "white",
            "ticks": ""
           },
           "bgcolor": "#E5ECF6",
           "caxis": {
            "gridcolor": "white",
            "linecolor": "white",
            "ticks": ""
           }
          },
          "title": {
           "x": 0.05
          },
          "xaxis": {
           "automargin": true,
           "gridcolor": "white",
           "linecolor": "white",
           "ticks": "",
           "title": {
            "standoff": 15
           },
           "zerolinecolor": "white",
           "zerolinewidth": 2
          },
          "yaxis": {
           "automargin": true,
           "gridcolor": "white",
           "linecolor": "white",
           "ticks": "",
           "title": {
            "standoff": 15
           },
           "zerolinecolor": "white",
           "zerolinewidth": 2
          }
         }
        },
        "title": {
         "text": "Life Expectancy over Time in Europe"
        },
        "xaxis": {
         "anchor": "y",
         "domain": [
          0,
          1
         ],
         "title": {
          "text": "Year"
         }
        },
        "yaxis": {
         "anchor": "x",
         "domain": [
          0,
          1
         ],
         "title": {
          "text": "Life Expectancy"
         }
        }
       }
      }
     },
     "metadata": {},
     "output_type": "display_data"
    }
   ],
   "source": [
    "fig = px.line(\n",
    "    combined,\n",
    "    x='year',\n",
    "    y='healthcare',\n",
    "    color='country',\n",
    "    labels={'year': 'Year', 'healthcare': 'Life Expectancy'},\n",
    "    title='Life Expectancy over Time in Europe',\n",
    "    hover_data=['country', 'year']\n",
    ")\n",
    "fig"
   ]
  },
  {
   "cell_type": "code",
   "execution_count": 151,
   "id": "3600895d",
   "metadata": {},
   "outputs": [
    {
     "data": {
      "application/vnd.plotly.v1+json": {
       "config": {
        "plotlyServerURL": "https://plot.ly"
       },
       "data": [
        {
         "customdata": [
          [
           "Austria"
          ],
          [
           "Austria"
          ],
          [
           "Austria"
          ],
          [
           "Austria"
          ],
          [
           "Austria"
          ],
          [
           "Austria"
          ],
          [
           "Austria"
          ],
          [
           "Austria"
          ],
          [
           "Austria"
          ],
          [
           "Austria"
          ],
          [
           "Austria"
          ],
          [
           "Austria"
          ]
         ],
         "hovertemplate": "country=%{customdata[0]}<br>Year=%{x}<br>education=%{y}<extra></extra>",
         "legendgroup": "Austria",
         "line": {
          "color": "#636efa",
          "dash": "solid"
         },
         "marker": {
          "symbol": "circle"
         },
         "mode": "lines",
         "name": "Austria",
         "orientation": "v",
         "showlegend": true,
         "type": "scatter",
         "x": [
          2011,
          2012,
          2013,
          2014,
          2015,
          2016,
          2017,
          2018,
          2019,
          2020,
          2021,
          2022
         ],
         "xaxis": "x",
         "y": [
          -1.391591639385606,
          -1.3042268315115002,
          -1.2045571211199142,
          0.20681519763501174,
          0.313867849537086,
          0.4159985404321672,
          0.491058445788794,
          0.5353560948517205,
          0.655944139523022,
          0.6645575712852578,
          0.7433089473971283,
          0.8257517942642427
         ],
         "yaxis": "y"
        },
        {
         "customdata": [
          [
           "Belgium"
          ],
          [
           "Belgium"
          ],
          [
           "Belgium"
          ],
          [
           "Belgium"
          ],
          [
           "Belgium"
          ],
          [
           "Belgium"
          ],
          [
           "Belgium"
          ],
          [
           "Belgium"
          ],
          [
           "Belgium"
          ],
          [
           "Belgium"
          ],
          [
           "Belgium"
          ],
          [
           "Belgium"
          ]
         ],
         "hovertemplate": "country=%{customdata[0]}<br>Year=%{x}<br>education=%{y}<extra></extra>",
         "legendgroup": "Belgium",
         "line": {
          "color": "#EF553B",
          "dash": "solid"
         },
         "marker": {
          "symbol": "circle"
         },
         "mode": "lines",
         "name": "Belgium",
         "orientation": "v",
         "showlegend": true,
         "type": "scatter",
         "x": [
          2011,
          2012,
          2013,
          2014,
          2015,
          2016,
          2017,
          2018,
          2019,
          2020,
          2021,
          2022
         ],
         "xaxis": "x",
         "y": [
          0.5599658998866808,
          0.6854759055649736,
          0.728543064376152,
          0.8651274823201779,
          0.8675884628236734,
          0.9377264071733088,
          1.242887989606805,
          1.2810331874109926,
          1.2982600509354643,
          1.5012909424738798,
          1.7781512491171738,
          1.824909878683597
         ],
         "yaxis": "y"
        },
        {
         "customdata": [
          [
           "Bulgaria"
          ],
          [
           "Bulgaria"
          ],
          [
           "Bulgaria"
          ],
          [
           "Bulgaria"
          ],
          [
           "Bulgaria"
          ],
          [
           "Bulgaria"
          ],
          [
           "Bulgaria"
          ],
          [
           "Bulgaria"
          ],
          [
           "Bulgaria"
          ],
          [
           "Bulgaria"
          ],
          [
           "Bulgaria"
          ],
          [
           "Bulgaria"
          ]
         ],
         "hovertemplate": "country=%{customdata[0]}<br>Year=%{x}<br>education=%{y}<extra></extra>",
         "legendgroup": "Bulgaria",
         "line": {
          "color": "#00cc96",
          "dash": "solid"
         },
         "marker": {
          "symbol": "circle"
         },
         "mode": "lines",
         "name": "Bulgaria",
         "orientation": "v",
         "showlegend": true,
         "type": "scatter",
         "x": [
          2011,
          2012,
          2013,
          2014,
          2015,
          2016,
          2017,
          2018,
          2019,
          2020,
          2021,
          2022
         ],
         "xaxis": "x",
         "y": [
          -0.9264663242248723,
          -0.8612503408822295,
          -0.6877512153857652,
          -0.5240960119032845,
          -0.48102885309210563,
          -0.44657512604316263,
          -0.42934826251869096,
          -0.4035079672319834,
          -0.47241542132986974,
          -0.3370614936375929,
          -0.2878418835676737,
          -0.23000884173551905
         ],
         "yaxis": "y"
        },
        {
         "customdata": [
          [
           "Croatia"
          ],
          [
           "Croatia"
          ],
          [
           "Croatia"
          ],
          [
           "Croatia"
          ],
          [
           "Croatia"
          ],
          [
           "Croatia"
          ],
          [
           "Croatia"
          ],
          [
           "Croatia"
          ],
          [
           "Croatia"
          ],
          [
           "Croatia"
          ],
          [
           "Croatia"
          ],
          [
           "Croatia"
          ]
         ],
         "hovertemplate": "country=%{customdata[0]}<br>Year=%{x}<br>education=%{y}<extra></extra>",
         "legendgroup": "Croatia",
         "line": {
          "color": "#ab63fa",
          "dash": "solid"
         },
         "marker": {
          "symbol": "circle"
         },
         "mode": "lines",
         "name": "Croatia",
         "orientation": "v",
         "showlegend": true,
         "type": "scatter",
         "x": [
          2011,
          2012,
          2013,
          2014,
          2015,
          2016,
          2017,
          2018,
          2019,
          2020,
          2021,
          2022
         ],
         "xaxis": "x",
         "y": [
          -1.4703430154974766,
          -1.2869999679870285,
          -1.0544373104066616,
          -0.975685934294791,
          -0.8624808311339772,
          -0.8329490650920265,
          -0.7640416109941397,
          -0.6176132710361311,
          -0.5757766024766996,
          -0.5523972876934883,
          -0.5536277779452361,
          -0.4834898335956015
         ],
         "yaxis": "y"
        },
        {
         "customdata": [
          [
           "Cyprus"
          ],
          [
           "Cyprus"
          ],
          [
           "Cyprus"
          ],
          [
           "Cyprus"
          ],
          [
           "Cyprus"
          ],
          [
           "Cyprus"
          ],
          [
           "Cyprus"
          ],
          [
           "Cyprus"
          ],
          [
           "Cyprus"
          ],
          [
           "Cyprus"
          ],
          [
           "Cyprus"
          ],
          [
           "Cyprus"
          ]
         ],
         "hovertemplate": "country=%{customdata[0]}<br>Year=%{x}<br>education=%{y}<extra></extra>",
         "legendgroup": "Cyprus",
         "line": {
          "color": "#FFA15A",
          "dash": "solid"
         },
         "marker": {
          "symbol": "circle"
         },
         "mode": "lines",
         "name": "Cyprus",
         "orientation": "v",
         "showlegend": true,
         "type": "scatter",
         "x": [
          2011,
          2012,
          2013,
          2014,
          2015,
          2016,
          2017,
          2018,
          2019,
          2020,
          2021,
          2022
         ],
         "xaxis": "x",
         "y": [
          0.8614360115649339,
          1.0152472930334306,
          1.122299944935505,
          1.267497794641765,
          1.2047427918026186,
          1.322869855970424,
          1.3782419172990823,
          1.5234397670053432,
          1.5554325135507912,
          1.5960386918584741,
          1.785534190627662,
          1.989795572417826
         ],
         "yaxis": "y"
        },
        {
         "customdata": [
          [
           "Czechia"
          ],
          [
           "Czechia"
          ],
          [
           "Czechia"
          ],
          [
           "Czechia"
          ],
          [
           "Czechia"
          ],
          [
           "Czechia"
          ],
          [
           "Czechia"
          ],
          [
           "Czechia"
          ],
          [
           "Czechia"
          ],
          [
           "Czechia"
          ],
          [
           "Czechia"
          ],
          [
           "Czechia"
          ]
         ],
         "hovertemplate": "country=%{customdata[0]}<br>Year=%{x}<br>education=%{y}<extra></extra>",
         "legendgroup": "Czechia",
         "line": {
          "color": "#19d3f3",
          "dash": "solid"
         },
         "marker": {
          "symbol": "circle"
         },
         "mode": "lines",
         "name": "Czechia",
         "orientation": "v",
         "showlegend": true,
         "type": "scatter",
         "x": [
          2011,
          2012,
          2013,
          2014,
          2015,
          2016,
          2017,
          2018,
          2019,
          2020,
          2021,
          2022
         ],
         "xaxis": "x",
         "y": [
          -1.4198929151758095,
          -1.2697731044625569,
          -1.1270362352597918,
          -1.019983583357718,
          -0.9498456390080835,
          -0.8489454383647496,
          -0.7628111207423915,
          -0.7394318059591799,
          -0.7665025914976356,
          -0.7049780789102369,
          -0.5204045411480408,
          -0.47487640183336566
         ],
         "yaxis": "y"
        },
        {
         "customdata": [
          [
           "Denmark"
          ],
          [
           "Denmark"
          ],
          [
           "Denmark"
          ],
          [
           "Denmark"
          ],
          [
           "Denmark"
          ],
          [
           "Denmark"
          ],
          [
           "Denmark"
          ],
          [
           "Denmark"
          ],
          [
           "Denmark"
          ],
          [
           "Denmark"
          ],
          [
           "Denmark"
          ],
          [
           "Denmark"
          ]
         ],
         "hovertemplate": "country=%{customdata[0]}<br>Year=%{x}<br>education=%{y}<extra></extra>",
         "legendgroup": "Denmark",
         "line": {
          "color": "#FF6692",
          "dash": "solid"
         },
         "marker": {
          "symbol": "circle"
         },
         "mode": "lines",
         "name": "Denmark",
         "orientation": "v",
         "showlegend": true,
         "type": "scatter",
         "x": [
          2011,
          2012,
          2013,
          2014,
          2015,
          2016,
          2017,
          2018,
          2019,
          2020,
          2021,
          2022
         ],
         "xaxis": "x",
         "y": [
          0.09114911397070248,
          0.2105066683902558,
          0.27818363223639403,
          0.3310947130615573,
          0.44060834546712657,
          0.551352468124444,
          0.7088552203481848,
          0.7297735546279006,
          0.8282127747677381,
          0.8429786577887135,
          0.9537227804460319,
          0.9721801342222514
         ],
         "yaxis": "y"
        },
        {
         "customdata": [
          [
           "Estonia"
          ],
          [
           "Estonia"
          ],
          [
           "Estonia"
          ],
          [
           "Estonia"
          ],
          [
           "Estonia"
          ],
          [
           "Estonia"
          ],
          [
           "Estonia"
          ],
          [
           "Estonia"
          ],
          [
           "Estonia"
          ],
          [
           "Estonia"
          ],
          [
           "Estonia"
          ],
          [
           "Estonia"
          ]
         ],
         "hovertemplate": "country=%{customdata[0]}<br>Year=%{x}<br>education=%{y}<extra></extra>",
         "legendgroup": "Estonia",
         "line": {
          "color": "#B6E880",
          "dash": "solid"
         },
         "marker": {
          "symbol": "circle"
         },
         "mode": "lines",
         "name": "Estonia",
         "orientation": "v",
         "showlegend": true,
         "type": "scatter",
         "x": [
          2011,
          2012,
          2013,
          2014,
          2015,
          2016,
          2017,
          2018,
          2019,
          2020,
          2021,
          2022
         ],
         "xaxis": "x",
         "y": [
          0.5390475656069642,
          0.6067245294531033,
          0.6067245294531033,
          0.6202599222223308,
          0.4873669750335499,
          0.6325648247398108,
          0.6571746297747706,
          0.6694795322922497,
          0.7999114989775352,
          0.8577445408096898,
          0.9488008194390402,
          1.0447790590753823
         ],
         "yaxis": "y"
        },
        {
         "customdata": [
          [
           "Finland"
          ],
          [
           "Finland"
          ],
          [
           "Finland"
          ],
          [
           "Finland"
          ],
          [
           "Finland"
          ],
          [
           "Finland"
          ],
          [
           "Finland"
          ],
          [
           "Finland"
          ],
          [
           "Finland"
          ],
          [
           "Finland"
          ],
          [
           "Finland"
          ],
          [
           "Finland"
          ]
         ],
         "hovertemplate": "country=%{customdata[0]}<br>Year=%{x}<br>education=%{y}<extra></extra>",
         "legendgroup": "Finland",
         "line": {
          "color": "#FF97FF",
          "dash": "solid"
         },
         "marker": {
          "symbol": "circle"
         },
         "mode": "lines",
         "name": "Finland",
         "orientation": "v",
         "showlegend": true,
         "type": "scatter",
         "x": [
          2011,
          2012,
          2013,
          2014,
          2015,
          2016,
          2017,
          2018,
          2019,
          2020,
          2021,
          2022
         ],
         "xaxis": "x",
         "y": [
          0.6067245294531033,
          0.6473307077607862,
          0.7408479668936329,
          0.8749714043341615,
          0.9660276829635109,
          1.0152472930334306,
          1.058314451844609,
          1.162906123243187,
          1.3044125021942037,
          1.4533018226557095,
          0.9192690533970885,
          0.9820240562362349
         ],
         "yaxis": "y"
        },
        {
         "customdata": [
          [
           "France"
          ],
          [
           "France"
          ],
          [
           "France"
          ],
          [
           "France"
          ],
          [
           "France"
          ],
          [
           "France"
          ],
          [
           "France"
          ],
          [
           "France"
          ],
          [
           "France"
          ],
          [
           "France"
          ],
          [
           "France"
          ],
          [
           "France"
          ]
         ],
         "hovertemplate": "country=%{customdata[0]}<br>Year=%{x}<br>education=%{y}<extra></extra>",
         "legendgroup": "France",
         "line": {
          "color": "#FECB52",
          "dash": "solid"
         },
         "marker": {
          "symbol": "circle"
         },
         "mode": "lines",
         "name": "France",
         "orientation": "v",
         "showlegend": true,
         "type": "scatter",
         "x": [
          2011,
          2012,
          2013,
          2014,
          2015,
          2016,
          2017,
          2018,
          2019,
          2020,
          2021,
          2022
         ],
         "xaxis": "x",
         "y": [
          0.15390411680984847,
          0.288027554250378,
          0.4787535432713141,
          0.6005720781943629,
          0.6842454153132259,
          0.7568443401663559,
          0.8257517942642427,
          1.0103253320264387,
          1.1641366134949356,
          1.3683979952850998,
          1.5062129034808724,
          1.5701983965717665
         ],
         "yaxis": "y"
        },
        {
         "customdata": [
          [
           "Germany"
          ],
          [
           "Germany"
          ],
          [
           "Germany"
          ],
          [
           "Germany"
          ],
          [
           "Germany"
          ],
          [
           "Germany"
          ],
          [
           "Germany"
          ],
          [
           "Germany"
          ],
          [
           "Germany"
          ],
          [
           "Germany"
          ],
          [
           "Germany"
          ],
          [
           "Germany"
          ]
         ],
         "hovertemplate": "country=%{customdata[0]}<br>Year=%{x}<br>education=%{y}<extra></extra>",
         "legendgroup": "Germany",
         "line": {
          "color": "#636efa",
          "dash": "solid"
         },
         "marker": {
          "symbol": "circle"
         },
         "mode": "lines",
         "name": "Germany",
         "orientation": "v",
         "showlegend": true,
         "type": "scatter",
         "x": [
          2011,
          2012,
          2013,
          2014,
          2015,
          2016,
          2017,
          2018,
          2019,
          2020,
          2021,
          2022
         ],
         "xaxis": "x",
         "y": [
          -0.5302484631620245,
          -0.44903610654665854,
          -0.4108909087424711,
          -0.5794680732319436,
          -0.5080996386305613,
          -0.42196532100820283,
          -0.3715152206865363,
          -0.31860413986137304,
          -0.21647344896629098,
          -0.05281824548381067,
          0.050542935663019116,
          0.03946852339728737
         ],
         "yaxis": "y"
        },
        {
         "customdata": [
          [
           "Greece"
          ],
          [
           "Greece"
          ],
          [
           "Greece"
          ],
          [
           "Greece"
          ],
          [
           "Greece"
          ],
          [
           "Greece"
          ],
          [
           "Greece"
          ],
          [
           "Greece"
          ],
          [
           "Greece"
          ],
          [
           "Greece"
          ],
          [
           "Greece"
          ],
          [
           "Greece"
          ]
         ],
         "hovertemplate": "country=%{customdata[0]}<br>Year=%{x}<br>education=%{y}<extra></extra>",
         "legendgroup": "Greece",
         "line": {
          "color": "#EF553B",
          "dash": "solid"
         },
         "marker": {
          "symbol": "circle"
         },
         "mode": "lines",
         "name": "Greece",
         "orientation": "v",
         "showlegend": true,
         "type": "scatter",
         "x": [
          2011,
          2012,
          2013,
          2014,
          2015,
          2016,
          2017,
          2018,
          2019,
          2020,
          2021,
          2022
         ],
         "xaxis": "x",
         "y": [
          -0.6717548421130417,
          -0.5708546414697078,
          -0.4059689477354793,
          -0.3505968864068206,
          -0.2533881565187303,
          -0.14018305335791692,
          -0.02943893070059945,
          0.024702640376311123,
          0.04192950390078326,
          0.15636509731334525,
          0.3815448133832238,
          0.4541437382363547
         ],
         "yaxis": "y"
        },
        {
         "customdata": [
          [
           "Hungary"
          ],
          [
           "Hungary"
          ],
          [
           "Hungary"
          ],
          [
           "Hungary"
          ],
          [
           "Hungary"
          ],
          [
           "Hungary"
          ],
          [
           "Hungary"
          ],
          [
           "Hungary"
          ],
          [
           "Hungary"
          ],
          [
           "Hungary"
          ],
          [
           "Hungary"
          ],
          [
           "Hungary"
          ]
         ],
         "hovertemplate": "country=%{customdata[0]}<br>Year=%{x}<br>education=%{y}<extra></extra>",
         "legendgroup": "Hungary",
         "line": {
          "color": "#00cc96",
          "dash": "solid"
         },
         "marker": {
          "symbol": "circle"
         },
         "mode": "lines",
         "name": "Hungary",
         "orientation": "v",
         "showlegend": true,
         "type": "scatter",
         "x": [
          2011,
          2012,
          2013,
          2014,
          2015,
          2016,
          2017,
          2018,
          2019,
          2020,
          2021,
          2022
         ],
         "xaxis": "x",
         "y": [
          -1.1479545695395077,
          -1.0187530931059703,
          -0.9572285805185716,
          -0.8600198506304818,
          -0.7984953380430831,
          -0.857558870126986,
          -0.8255661235815384,
          -0.746814747469668,
          -0.6705243518612934,
          -0.5487058169382443,
          -0.29645531532990954,
          -0.280458942057186
         ],
         "yaxis": "y"
        },
        {
         "customdata": [
          [
           "Ireland"
          ],
          [
           "Ireland"
          ],
          [
           "Ireland"
          ],
          [
           "Ireland"
          ],
          [
           "Ireland"
          ],
          [
           "Ireland"
          ],
          [
           "Ireland"
          ],
          [
           "Ireland"
          ],
          [
           "Ireland"
          ],
          [
           "Ireland"
          ],
          [
           "Ireland"
          ],
          [
           "Ireland"
          ]
         ],
         "hovertemplate": "country=%{customdata[0]}<br>Year=%{x}<br>education=%{y}<extra></extra>",
         "legendgroup": "Ireland",
         "line": {
          "color": "#ab63fa",
          "dash": "solid"
         },
         "marker": {
          "symbol": "circle"
         },
         "mode": "lines",
         "name": "Ireland",
         "orientation": "v",
         "showlegend": true,
         "type": "scatter",
         "x": [
          2011,
          2012,
          2013,
          2014,
          2015,
          2016,
          2017,
          2018,
          2019,
          2020,
          2021,
          2022
         ],
         "xaxis": "x",
         "y": [
          0.9389568974250556,
          1.1050730814110323,
          1.3437881902501398,
          1.4594542739144492,
          1.6194180066416852,
          1.7043218340122952,
          1.8064525249073777,
          1.813835466417866,
          1.8433672324598167,
          2.1042311658303876,
          2.491835595130999,
          2.537363734445674
         ],
         "yaxis": "y"
        },
        {
         "customdata": [
          [
           "Italy"
          ],
          [
           "Italy"
          ],
          [
           "Italy"
          ],
          [
           "Italy"
          ],
          [
           "Italy"
          ],
          [
           "Italy"
          ],
          [
           "Italy"
          ],
          [
           "Italy"
          ],
          [
           "Italy"
          ],
          [
           "Italy"
          ],
          [
           "Italy"
          ],
          [
           "Italy"
          ]
         ],
         "hovertemplate": "country=%{customdata[0]}<br>Year=%{x}<br>education=%{y}<extra></extra>",
         "legendgroup": "Italy",
         "line": {
          "color": "#FFA15A",
          "dash": "solid"
         },
         "marker": {
          "symbol": "circle"
         },
         "mode": "lines",
         "name": "Italy",
         "orientation": "v",
         "showlegend": true,
         "type": "scatter",
         "x": [
          2011,
          2012,
          2013,
          2014,
          2015,
          2016,
          2017,
          2018,
          2019,
          2020,
          2021,
          2022
         ],
         "xaxis": "x",
         "y": [
          -1.7644301856652422,
          -1.6647604752736567,
          -1.5921615504205262,
          -1.5134101743086557,
          -1.4531161519730047,
          -1.417431934672314,
          -1.299304870504508,
          -1.2033266308681665,
          -1.1491850597912554,
          -1.0975044692178406,
          -1.060589761665401,
          -1.0126006418472304
         ],
         "yaxis": "y"
        },
        {
         "customdata": [
          [
           "Latvia"
          ],
          [
           "Latvia"
          ],
          [
           "Latvia"
          ],
          [
           "Latvia"
          ],
          [
           "Latvia"
          ],
          [
           "Latvia"
          ],
          [
           "Latvia"
          ],
          [
           "Latvia"
          ],
          [
           "Latvia"
          ],
          [
           "Latvia"
          ],
          [
           "Latvia"
          ],
          [
           "Latvia"
          ]
         ],
         "hovertemplate": "country=%{customdata[0]}<br>Year=%{x}<br>education=%{y}<extra></extra>",
         "legendgroup": "Latvia",
         "line": {
          "color": "#19d3f3",
          "dash": "solid"
         },
         "marker": {
          "symbol": "circle"
         },
         "mode": "lines",
         "name": "Latvia",
         "orientation": "v",
         "showlegend": true,
         "type": "scatter",
         "x": [
          2011,
          2012,
          2013,
          2014,
          2015,
          2016,
          2017,
          2018,
          2019,
          2020,
          2021,
          2022
         ],
         "xaxis": "x",
         "y": [
          -0.39366404521799936,
          -0.24354423450474627,
          -0.02943893070059945,
          -0.044204813721574816,
          0.09607107497769383,
          0.19820176587277588,
          0.25603480770493053,
          0.26218725896367046,
          0.376622852376232,
          0.6141074709635914,
          0.7556138499146082,
          0.8368262065299741
         ],
         "yaxis": "y"
        },
        {
         "customdata": [
          [
           "Lithuania"
          ],
          [
           "Lithuania"
          ],
          [
           "Lithuania"
          ],
          [
           "Lithuania"
          ],
          [
           "Lithuania"
          ],
          [
           "Lithuania"
          ],
          [
           "Lithuania"
          ],
          [
           "Lithuania"
          ],
          [
           "Lithuania"
          ],
          [
           "Lithuania"
          ],
          [
           "Lithuania"
          ],
          [
           "Lithuania"
          ]
         ],
         "hovertemplate": "country=%{customdata[0]}<br>Year=%{x}<br>education=%{y}<extra></extra>",
         "legendgroup": "Lithuania",
         "line": {
          "color": "#FF6692",
          "dash": "solid"
         },
         "marker": {
          "symbol": "circle"
         },
         "mode": "lines",
         "name": "Lithuania",
         "orientation": "v",
         "showlegend": true,
         "type": "scatter",
         "x": [
          2011,
          2012,
          2013,
          2014,
          2015,
          2016,
          2017,
          2018,
          2019,
          2020,
          2021,
          2022
         ],
         "xaxis": "x",
         "y": [
          0.20435421713151586,
          0.3064849080265979,
          0.4393778552153784,
          0.668249042040502,
          0.868818953075422,
          0.9278824851593244,
          0.9930984685019671,
          1.1075340619145286,
          1.3720894660403429,
          1.4237700566137579,
          1.5259007475088395,
          1.7498499733269708
         ],
         "yaxis": "y"
        },
        {
         "customdata": [
          [
           "Luxembourg"
          ],
          [
           "Luxembourg"
          ],
          [
           "Luxembourg"
          ],
          [
           "Luxembourg"
          ],
          [
           "Luxembourg"
          ],
          [
           "Luxembourg"
          ],
          [
           "Luxembourg"
          ],
          [
           "Luxembourg"
          ],
          [
           "Luxembourg"
          ],
          [
           "Luxembourg"
          ],
          [
           "Luxembourg"
          ],
          [
           "Luxembourg"
          ]
         ],
         "hovertemplate": "country=%{customdata[0]}<br>Year=%{x}<br>education=%{y}<extra></extra>",
         "legendgroup": "Luxembourg",
         "line": {
          "color": "#B6E880",
          "dash": "solid"
         },
         "marker": {
          "symbol": "circle"
         },
         "mode": "lines",
         "name": "Luxembourg",
         "orientation": "v",
         "showlegend": true,
         "type": "scatter",
         "x": [
          2011,
          2012,
          2013,
          2014,
          2015,
          2016,
          2017,
          2018,
          2019,
          2020,
          2021,
          2022
         ],
         "xaxis": "x",
         "y": [
          0.491058445788794,
          0.6620965907817615,
          0.9488008194390402,
          1.4065431930892862,
          0.9180385631453407,
          1.0890767081383084,
          0.8638969920684302,
          1.3093344632011965,
          1.6834034997325804,
          1.5788118283340025,
          2.0870043023059157,
          2.2568119570471366
         ],
         "yaxis": "y"
        },
        {
         "customdata": [
          [
           "Malta"
          ],
          [
           "Malta"
          ],
          [
           "Malta"
          ],
          [
           "Malta"
          ],
          [
           "Malta"
          ],
          [
           "Malta"
          ],
          [
           "Malta"
          ],
          [
           "Malta"
          ],
          [
           "Malta"
          ],
          [
           "Malta"
          ],
          [
           "Malta"
          ],
          [
           "Malta"
          ]
         ],
         "hovertemplate": "country=%{customdata[0]}<br>Year=%{x}<br>education=%{y}<extra></extra>",
         "legendgroup": "Malta",
         "line": {
          "color": "#FF97FF",
          "dash": "solid"
         },
         "marker": {
          "symbol": "circle"
         },
         "mode": "lines",
         "name": "Malta",
         "orientation": "v",
         "showlegend": true,
         "type": "scatter",
         "x": [
          2011,
          2012,
          2013,
          2014,
          2015,
          2016,
          2017,
          2018,
          2019,
          2020,
          2021,
          2022
         ],
         "xaxis": "x",
         "y": [
          -1.3079183022667444,
          -1.1356496670220277,
          -1.0089091710919862,
          -0.8317185748402779,
          -0.7763465135116192,
          -0.7652721012458878,
          -0.5733156219732036,
          -0.3026077665886495,
          -0.06020118699429879,
          0.07638323094972667,
          0.24126892468395514,
          0.19574078536928
         ],
         "yaxis": "y"
        },
        {
         "customdata": [
          [
           "Netherlands"
          ],
          [
           "Netherlands"
          ],
          [
           "Netherlands"
          ],
          [
           "Netherlands"
          ],
          [
           "Netherlands"
          ],
          [
           "Netherlands"
          ],
          [
           "Netherlands"
          ],
          [
           "Netherlands"
          ],
          [
           "Netherlands"
          ],
          [
           "Netherlands"
          ],
          [
           "Netherlands"
          ],
          [
           "Netherlands"
          ]
         ],
         "hovertemplate": "country=%{customdata[0]}<br>Year=%{x}<br>education=%{y}<extra></extra>",
         "legendgroup": "Netherlands",
         "line": {
          "color": "#FECB52",
          "dash": "solid"
         },
         "marker": {
          "symbol": "circle"
         },
         "mode": "lines",
         "name": "Netherlands",
         "orientation": "v",
         "showlegend": true,
         "type": "scatter",
         "x": [
          2011,
          2012,
          2013,
          2014,
          2015,
          2016,
          2017,
          2018,
          2019,
          2020,
          2021,
          2022
         ],
         "xaxis": "x",
         "y": [
          0.21419813914549987,
          0.294180005509118,
          0.3901582451454601,
          0.45783520899159874,
          0.5624268803901763,
          0.6374867857468026,
          0.7974505184740388,
          0.913116602138349,
          1.1321438669494877,
          1.3573235830193675,
          1.5209787865018478,
          1.663715655704613
         ],
         "yaxis": "y"
        },
        {
         "customdata": [
          [
           "Poland"
          ],
          [
           "Poland"
          ],
          [
           "Poland"
          ],
          [
           "Poland"
          ],
          [
           "Poland"
          ],
          [
           "Poland"
          ],
          [
           "Poland"
          ],
          [
           "Poland"
          ],
          [
           "Poland"
          ],
          [
           "Poland"
          ],
          [
           "Poland"
          ],
          [
           "Poland"
          ]
         ],
         "hovertemplate": "country=%{customdata[0]}<br>Year=%{x}<br>education=%{y}<extra></extra>",
         "legendgroup": "Poland",
         "line": {
          "color": "#636efa",
          "dash": "solid"
         },
         "marker": {
          "symbol": "circle"
         },
         "mode": "lines",
         "name": "Poland",
         "orientation": "v",
         "showlegend": true,
         "type": "scatter",
         "x": [
          2011,
          2012,
          2013,
          2014,
          2015,
          2016,
          2017,
          2018,
          2019,
          2020,
          2021,
          2022
         ],
         "xaxis": "x",
         "y": [
          -0.8144917113158067,
          -0.6680633713577976,
          -0.543783855931252,
          -0.39981649647673934,
          -0.3382919838893406,
          -0.2878418835676737,
          -0.18817217317608753,
          -0.08604148228100635,
          0.07146126994273444,
          0.12929431177488906,
          0.08745764321545842,
          0.16251754857208475
         ],
         "yaxis": "y"
        },
        {
         "customdata": [
          [
           "Portugal"
          ],
          [
           "Portugal"
          ],
          [
           "Portugal"
          ],
          [
           "Portugal"
          ],
          [
           "Portugal"
          ],
          [
           "Portugal"
          ],
          [
           "Portugal"
          ],
          [
           "Portugal"
          ],
          [
           "Portugal"
          ],
          [
           "Portugal"
          ],
          [
           "Portugal"
          ],
          [
           "Portugal"
          ]
         ],
         "hovertemplate": "country=%{customdata[0]}<br>Year=%{x}<br>education=%{y}<extra></extra>",
         "legendgroup": "Portugal",
         "line": {
          "color": "#EF553B",
          "dash": "solid"
         },
         "marker": {
          "symbol": "circle"
         },
         "mode": "lines",
         "name": "Portugal",
         "orientation": "v",
         "showlegend": true,
         "type": "scatter",
         "x": [
          2011,
          2012,
          2013,
          2014,
          2015,
          2016,
          2017,
          2018,
          2019,
          2020,
          2021,
          2022
         ],
         "xaxis": "x",
         "y": [
          -1.3780562466163784,
          -1.210709572378654,
          -1.0716641739311332,
          -0.8071087698053185,
          -0.6545279785885699,
          -0.5696241512179601,
          -0.5056386581270654,
          -0.39366404521799936,
          -0.2029380561970638,
          -0.0688146187565342,
          0.19697127562102815,
          0.2351164734252152
         ],
         "yaxis": "y"
        },
        {
         "customdata": [
          [
           "Romania"
          ],
          [
           "Romania"
          ],
          [
           "Romania"
          ],
          [
           "Romania"
          ],
          [
           "Romania"
          ],
          [
           "Romania"
          ],
          [
           "Romania"
          ],
          [
           "Romania"
          ],
          [
           "Romania"
          ],
          [
           "Romania"
          ],
          [
           "Romania"
          ],
          [
           "Romania"
          ]
         ],
         "hovertemplate": "country=%{customdata[0]}<br>Year=%{x}<br>education=%{y}<extra></extra>",
         "legendgroup": "Romania",
         "line": {
          "color": "#00cc96",
          "dash": "solid"
         },
         "marker": {
          "symbol": "circle"
         },
         "mode": "lines",
         "name": "Romania",
         "orientation": "v",
         "showlegend": true,
         "type": "scatter",
         "x": [
          2011,
          2012,
          2013,
          2014,
          2015,
          2016,
          2017,
          2018,
          2019,
          2020,
          2021,
          2022
         ],
         "xaxis": "x",
         "y": [
          -1.7558167539030067,
          -1.6770653777911362,
          -1.6290762579729652,
          -1.5761651771478022,
          -1.5269455670778833,
          -1.5318675280848753,
          -1.483878408266704,
          -1.4752649765044685,
          -1.4100489931618259,
          -1.3989745808960938,
          -1.3657513440988989,
          -1.2746950654695486
         ],
         "yaxis": "y"
        },
        {
         "customdata": [
          [
           "Slovakia"
          ],
          [
           "Slovakia"
          ],
          [
           "Slovakia"
          ],
          [
           "Slovakia"
          ],
          [
           "Slovakia"
          ],
          [
           "Slovakia"
          ],
          [
           "Slovakia"
          ],
          [
           "Slovakia"
          ],
          [
           "Slovakia"
          ],
          [
           "Slovakia"
          ],
          [
           "Slovakia"
          ],
          [
           "Slovakia"
          ]
         ],
         "hovertemplate": "country=%{customdata[0]}<br>Year=%{x}<br>education=%{y}<extra></extra>",
         "legendgroup": "Slovakia",
         "line": {
          "color": "#ab63fa",
          "dash": "solid"
         },
         "marker": {
          "symbol": "circle"
         },
         "mode": "lines",
         "name": "Slovakia",
         "orientation": "v",
         "showlegend": true,
         "type": "scatter",
         "x": [
          2011,
          2012,
          2013,
          2014,
          2015,
          2016,
          2017,
          2018,
          2019,
          2020,
          2021,
          2022
         ],
         "xaxis": "x",
         "y": [
          -1.2746950654695486,
          -1.1836387868401983,
          -1.118422803497556,
          -1.0975044692178406,
          -1.0089091710919862,
          -0.895704067931173,
          -0.7824989647703591,
          -0.6397620955675941,
          -0.5019471873718214,
          -0.42934826251869096,
          -0.34321394489633245,
          -0.1697148193998681
         ],
         "yaxis": "y"
        },
        {
         "customdata": [
          [
           "Slovenia"
          ],
          [
           "Slovenia"
          ],
          [
           "Slovenia"
          ],
          [
           "Slovenia"
          ],
          [
           "Slovenia"
          ],
          [
           "Slovenia"
          ],
          [
           "Slovenia"
          ],
          [
           "Slovenia"
          ],
          [
           "Slovenia"
          ],
          [
           "Slovenia"
          ],
          [
           "Slovenia"
          ],
          [
           "Slovenia"
          ]
         ],
         "hovertemplate": "country=%{customdata[0]}<br>Year=%{x}<br>education=%{y}<extra></extra>",
         "legendgroup": "Slovenia",
         "line": {
          "color": "#FFA15A",
          "dash": "solid"
         },
         "marker": {
          "symbol": "circle"
         },
         "mode": "lines",
         "name": "Slovenia",
         "orientation": "v",
         "showlegend": true,
         "type": "scatter",
         "x": [
          2011,
          2012,
          2013,
          2014,
          2015,
          2016,
          2017,
          2018,
          2019,
          2020,
          2021,
          2022
         ],
         "xaxis": "x",
         "y": [
          -0.7591196499871479,
          -0.5782375829801955,
          -0.38505061345576397,
          -0.31122119835088535,
          -0.10942079706421758,
          -0.02943893070059945,
          0.125602841019645,
          0.1588260778168407,
          0.2080456878867599,
          0.484905994530054,
          1.0189387637886747,
          1.0029423905159507
         ],
         "yaxis": "y"
        },
        {
         "customdata": [
          [
           "Spain"
          ],
          [
           "Spain"
          ],
          [
           "Spain"
          ],
          [
           "Spain"
          ],
          [
           "Spain"
          ],
          [
           "Spain"
          ],
          [
           "Spain"
          ],
          [
           "Spain"
          ],
          [
           "Spain"
          ],
          [
           "Spain"
          ],
          [
           "Spain"
          ],
          [
           "Spain"
          ]
         ],
         "hovertemplate": "country=%{customdata[0]}<br>Year=%{x}<br>education=%{y}<extra></extra>",
         "legendgroup": "Spain",
         "line": {
          "color": "#19d3f3",
          "dash": "solid"
         },
         "marker": {
          "symbol": "circle"
         },
         "mode": "lines",
         "name": "Spain",
         "orientation": "v",
         "showlegend": true,
         "type": "scatter",
         "x": [
          2011,
          2012,
          2013,
          2014,
          2015,
          2016,
          2017,
          2018,
          2019,
          2020,
          2021,
          2022
         ],
         "xaxis": "x",
         "y": [
          0.17974441209655645,
          0.2572652979566787,
          0.37785334262798015,
          0.459065699243346,
          0.5279731533412328,
          0.6387172759985503,
          0.7211601228656648,
          0.8380566967817227,
          0.9881765074949753,
          1.1284523961942443,
          1.271189265397009,
          1.3425576999983913
         ],
         "yaxis": "y"
        },
        {
         "customdata": [
          [
           "Sweden"
          ],
          [
           "Sweden"
          ],
          [
           "Sweden"
          ],
          [
           "Sweden"
          ],
          [
           "Sweden"
          ],
          [
           "Sweden"
          ],
          [
           "Sweden"
          ],
          [
           "Sweden"
          ],
          [
           "Sweden"
          ],
          [
           "Sweden"
          ],
          [
           "Sweden"
          ],
          [
           "Sweden"
          ]
         ],
         "hovertemplate": "country=%{customdata[0]}<br>Year=%{x}<br>education=%{y}<extra></extra>",
         "legendgroup": "Sweden",
         "line": {
          "color": "#FF6692",
          "dash": "solid"
         },
         "marker": {
          "symbol": "circle"
         },
         "mode": "lines",
         "name": "Sweden",
         "orientation": "v",
         "showlegend": true,
         "type": "scatter",
         "x": [
          2011,
          2012,
          2013,
          2014,
          2015,
          2016,
          2017,
          2018,
          2019,
          2020,
          2021,
          2022
         ],
         "xaxis": "x",
         "y": [
          0.3470910863342808,
          0.4787535432713141,
          0.6497916882642825,
          0.8036029697327792,
          0.9401873876768042,
          1.081693766627821,
          1.1518317109774556,
          1.2810331874109926,
          1.3819333880543263,
          1.4262310371172542,
          1.5332836890193278,
          1.6797120289773364
         ],
         "yaxis": "y"
        }
       ],
       "layout": {
        "legend": {
         "title": {
          "text": "country"
         },
         "tracegroupgap": 0
        },
        "template": {
         "data": {
          "bar": [
           {
            "error_x": {
             "color": "#2a3f5f"
            },
            "error_y": {
             "color": "#2a3f5f"
            },
            "marker": {
             "line": {
              "color": "#E5ECF6",
              "width": 0.5
             },
             "pattern": {
              "fillmode": "overlay",
              "size": 10,
              "solidity": 0.2
             }
            },
            "type": "bar"
           }
          ],
          "barpolar": [
           {
            "marker": {
             "line": {
              "color": "#E5ECF6",
              "width": 0.5
             },
             "pattern": {
              "fillmode": "overlay",
              "size": 10,
              "solidity": 0.2
             }
            },
            "type": "barpolar"
           }
          ],
          "carpet": [
           {
            "aaxis": {
             "endlinecolor": "#2a3f5f",
             "gridcolor": "white",
             "linecolor": "white",
             "minorgridcolor": "white",
             "startlinecolor": "#2a3f5f"
            },
            "baxis": {
             "endlinecolor": "#2a3f5f",
             "gridcolor": "white",
             "linecolor": "white",
             "minorgridcolor": "white",
             "startlinecolor": "#2a3f5f"
            },
            "type": "carpet"
           }
          ],
          "choropleth": [
           {
            "colorbar": {
             "outlinewidth": 0,
             "ticks": ""
            },
            "type": "choropleth"
           }
          ],
          "contour": [
           {
            "colorbar": {
             "outlinewidth": 0,
             "ticks": ""
            },
            "colorscale": [
             [
              0,
              "#0d0887"
             ],
             [
              0.1111111111111111,
              "#46039f"
             ],
             [
              0.2222222222222222,
              "#7201a8"
             ],
             [
              0.3333333333333333,
              "#9c179e"
             ],
             [
              0.4444444444444444,
              "#bd3786"
             ],
             [
              0.5555555555555556,
              "#d8576b"
             ],
             [
              0.6666666666666666,
              "#ed7953"
             ],
             [
              0.7777777777777778,
              "#fb9f3a"
             ],
             [
              0.8888888888888888,
              "#fdca26"
             ],
             [
              1,
              "#f0f921"
             ]
            ],
            "type": "contour"
           }
          ],
          "contourcarpet": [
           {
            "colorbar": {
             "outlinewidth": 0,
             "ticks": ""
            },
            "type": "contourcarpet"
           }
          ],
          "heatmap": [
           {
            "colorbar": {
             "outlinewidth": 0,
             "ticks": ""
            },
            "colorscale": [
             [
              0,
              "#0d0887"
             ],
             [
              0.1111111111111111,
              "#46039f"
             ],
             [
              0.2222222222222222,
              "#7201a8"
             ],
             [
              0.3333333333333333,
              "#9c179e"
             ],
             [
              0.4444444444444444,
              "#bd3786"
             ],
             [
              0.5555555555555556,
              "#d8576b"
             ],
             [
              0.6666666666666666,
              "#ed7953"
             ],
             [
              0.7777777777777778,
              "#fb9f3a"
             ],
             [
              0.8888888888888888,
              "#fdca26"
             ],
             [
              1,
              "#f0f921"
             ]
            ],
            "type": "heatmap"
           }
          ],
          "heatmapgl": [
           {
            "colorbar": {
             "outlinewidth": 0,
             "ticks": ""
            },
            "colorscale": [
             [
              0,
              "#0d0887"
             ],
             [
              0.1111111111111111,
              "#46039f"
             ],
             [
              0.2222222222222222,
              "#7201a8"
             ],
             [
              0.3333333333333333,
              "#9c179e"
             ],
             [
              0.4444444444444444,
              "#bd3786"
             ],
             [
              0.5555555555555556,
              "#d8576b"
             ],
             [
              0.6666666666666666,
              "#ed7953"
             ],
             [
              0.7777777777777778,
              "#fb9f3a"
             ],
             [
              0.8888888888888888,
              "#fdca26"
             ],
             [
              1,
              "#f0f921"
             ]
            ],
            "type": "heatmapgl"
           }
          ],
          "histogram": [
           {
            "marker": {
             "pattern": {
              "fillmode": "overlay",
              "size": 10,
              "solidity": 0.2
             }
            },
            "type": "histogram"
           }
          ],
          "histogram2d": [
           {
            "colorbar": {
             "outlinewidth": 0,
             "ticks": ""
            },
            "colorscale": [
             [
              0,
              "#0d0887"
             ],
             [
              0.1111111111111111,
              "#46039f"
             ],
             [
              0.2222222222222222,
              "#7201a8"
             ],
             [
              0.3333333333333333,
              "#9c179e"
             ],
             [
              0.4444444444444444,
              "#bd3786"
             ],
             [
              0.5555555555555556,
              "#d8576b"
             ],
             [
              0.6666666666666666,
              "#ed7953"
             ],
             [
              0.7777777777777778,
              "#fb9f3a"
             ],
             [
              0.8888888888888888,
              "#fdca26"
             ],
             [
              1,
              "#f0f921"
             ]
            ],
            "type": "histogram2d"
           }
          ],
          "histogram2dcontour": [
           {
            "colorbar": {
             "outlinewidth": 0,
             "ticks": ""
            },
            "colorscale": [
             [
              0,
              "#0d0887"
             ],
             [
              0.1111111111111111,
              "#46039f"
             ],
             [
              0.2222222222222222,
              "#7201a8"
             ],
             [
              0.3333333333333333,
              "#9c179e"
             ],
             [
              0.4444444444444444,
              "#bd3786"
             ],
             [
              0.5555555555555556,
              "#d8576b"
             ],
             [
              0.6666666666666666,
              "#ed7953"
             ],
             [
              0.7777777777777778,
              "#fb9f3a"
             ],
             [
              0.8888888888888888,
              "#fdca26"
             ],
             [
              1,
              "#f0f921"
             ]
            ],
            "type": "histogram2dcontour"
           }
          ],
          "mesh3d": [
           {
            "colorbar": {
             "outlinewidth": 0,
             "ticks": ""
            },
            "type": "mesh3d"
           }
          ],
          "parcoords": [
           {
            "line": {
             "colorbar": {
              "outlinewidth": 0,
              "ticks": ""
             }
            },
            "type": "parcoords"
           }
          ],
          "pie": [
           {
            "automargin": true,
            "type": "pie"
           }
          ],
          "scatter": [
           {
            "fillpattern": {
             "fillmode": "overlay",
             "size": 10,
             "solidity": 0.2
            },
            "type": "scatter"
           }
          ],
          "scatter3d": [
           {
            "line": {
             "colorbar": {
              "outlinewidth": 0,
              "ticks": ""
             }
            },
            "marker": {
             "colorbar": {
              "outlinewidth": 0,
              "ticks": ""
             }
            },
            "type": "scatter3d"
           }
          ],
          "scattercarpet": [
           {
            "marker": {
             "colorbar": {
              "outlinewidth": 0,
              "ticks": ""
             }
            },
            "type": "scattercarpet"
           }
          ],
          "scattergeo": [
           {
            "marker": {
             "colorbar": {
              "outlinewidth": 0,
              "ticks": ""
             }
            },
            "type": "scattergeo"
           }
          ],
          "scattergl": [
           {
            "marker": {
             "colorbar": {
              "outlinewidth": 0,
              "ticks": ""
             }
            },
            "type": "scattergl"
           }
          ],
          "scattermapbox": [
           {
            "marker": {
             "colorbar": {
              "outlinewidth": 0,
              "ticks": ""
             }
            },
            "type": "scattermapbox"
           }
          ],
          "scatterpolar": [
           {
            "marker": {
             "colorbar": {
              "outlinewidth": 0,
              "ticks": ""
             }
            },
            "type": "scatterpolar"
           }
          ],
          "scatterpolargl": [
           {
            "marker": {
             "colorbar": {
              "outlinewidth": 0,
              "ticks": ""
             }
            },
            "type": "scatterpolargl"
           }
          ],
          "scatterternary": [
           {
            "marker": {
             "colorbar": {
              "outlinewidth": 0,
              "ticks": ""
             }
            },
            "type": "scatterternary"
           }
          ],
          "surface": [
           {
            "colorbar": {
             "outlinewidth": 0,
             "ticks": ""
            },
            "colorscale": [
             [
              0,
              "#0d0887"
             ],
             [
              0.1111111111111111,
              "#46039f"
             ],
             [
              0.2222222222222222,
              "#7201a8"
             ],
             [
              0.3333333333333333,
              "#9c179e"
             ],
             [
              0.4444444444444444,
              "#bd3786"
             ],
             [
              0.5555555555555556,
              "#d8576b"
             ],
             [
              0.6666666666666666,
              "#ed7953"
             ],
             [
              0.7777777777777778,
              "#fb9f3a"
             ],
             [
              0.8888888888888888,
              "#fdca26"
             ],
             [
              1,
              "#f0f921"
             ]
            ],
            "type": "surface"
           }
          ],
          "table": [
           {
            "cells": {
             "fill": {
              "color": "#EBF0F8"
             },
             "line": {
              "color": "white"
             }
            },
            "header": {
             "fill": {
              "color": "#C8D4E3"
             },
             "line": {
              "color": "white"
             }
            },
            "type": "table"
           }
          ]
         },
         "layout": {
          "annotationdefaults": {
           "arrowcolor": "#2a3f5f",
           "arrowhead": 0,
           "arrowwidth": 1
          },
          "autotypenumbers": "strict",
          "coloraxis": {
           "colorbar": {
            "outlinewidth": 0,
            "ticks": ""
           }
          },
          "colorscale": {
           "diverging": [
            [
             0,
             "#8e0152"
            ],
            [
             0.1,
             "#c51b7d"
            ],
            [
             0.2,
             "#de77ae"
            ],
            [
             0.3,
             "#f1b6da"
            ],
            [
             0.4,
             "#fde0ef"
            ],
            [
             0.5,
             "#f7f7f7"
            ],
            [
             0.6,
             "#e6f5d0"
            ],
            [
             0.7,
             "#b8e186"
            ],
            [
             0.8,
             "#7fbc41"
            ],
            [
             0.9,
             "#4d9221"
            ],
            [
             1,
             "#276419"
            ]
           ],
           "sequential": [
            [
             0,
             "#0d0887"
            ],
            [
             0.1111111111111111,
             "#46039f"
            ],
            [
             0.2222222222222222,
             "#7201a8"
            ],
            [
             0.3333333333333333,
             "#9c179e"
            ],
            [
             0.4444444444444444,
             "#bd3786"
            ],
            [
             0.5555555555555556,
             "#d8576b"
            ],
            [
             0.6666666666666666,
             "#ed7953"
            ],
            [
             0.7777777777777778,
             "#fb9f3a"
            ],
            [
             0.8888888888888888,
             "#fdca26"
            ],
            [
             1,
             "#f0f921"
            ]
           ],
           "sequentialminus": [
            [
             0,
             "#0d0887"
            ],
            [
             0.1111111111111111,
             "#46039f"
            ],
            [
             0.2222222222222222,
             "#7201a8"
            ],
            [
             0.3333333333333333,
             "#9c179e"
            ],
            [
             0.4444444444444444,
             "#bd3786"
            ],
            [
             0.5555555555555556,
             "#d8576b"
            ],
            [
             0.6666666666666666,
             "#ed7953"
            ],
            [
             0.7777777777777778,
             "#fb9f3a"
            ],
            [
             0.8888888888888888,
             "#fdca26"
            ],
            [
             1,
             "#f0f921"
            ]
           ]
          },
          "colorway": [
           "#636efa",
           "#EF553B",
           "#00cc96",
           "#ab63fa",
           "#FFA15A",
           "#19d3f3",
           "#FF6692",
           "#B6E880",
           "#FF97FF",
           "#FECB52"
          ],
          "font": {
           "color": "#2a3f5f"
          },
          "geo": {
           "bgcolor": "white",
           "lakecolor": "white",
           "landcolor": "#E5ECF6",
           "showlakes": true,
           "showland": true,
           "subunitcolor": "white"
          },
          "hoverlabel": {
           "align": "left"
          },
          "hovermode": "closest",
          "mapbox": {
           "style": "light"
          },
          "paper_bgcolor": "white",
          "plot_bgcolor": "#E5ECF6",
          "polar": {
           "angularaxis": {
            "gridcolor": "white",
            "linecolor": "white",
            "ticks": ""
           },
           "bgcolor": "#E5ECF6",
           "radialaxis": {
            "gridcolor": "white",
            "linecolor": "white",
            "ticks": ""
           }
          },
          "scene": {
           "xaxis": {
            "backgroundcolor": "#E5ECF6",
            "gridcolor": "white",
            "gridwidth": 2,
            "linecolor": "white",
            "showbackground": true,
            "ticks": "",
            "zerolinecolor": "white"
           },
           "yaxis": {
            "backgroundcolor": "#E5ECF6",
            "gridcolor": "white",
            "gridwidth": 2,
            "linecolor": "white",
            "showbackground": true,
            "ticks": "",
            "zerolinecolor": "white"
           },
           "zaxis": {
            "backgroundcolor": "#E5ECF6",
            "gridcolor": "white",
            "gridwidth": 2,
            "linecolor": "white",
            "showbackground": true,
            "ticks": "",
            "zerolinecolor": "white"
           }
          },
          "shapedefaults": {
           "line": {
            "color": "#2a3f5f"
           }
          },
          "ternary": {
           "aaxis": {
            "gridcolor": "white",
            "linecolor": "white",
            "ticks": ""
           },
           "baxis": {
            "gridcolor": "white",
            "linecolor": "white",
            "ticks": ""
           },
           "bgcolor": "#E5ECF6",
           "caxis": {
            "gridcolor": "white",
            "linecolor": "white",
            "ticks": ""
           }
          },
          "title": {
           "x": 0.05
          },
          "xaxis": {
           "automargin": true,
           "gridcolor": "white",
           "linecolor": "white",
           "ticks": "",
           "title": {
            "standoff": 15
           },
           "zerolinecolor": "white",
           "zerolinewidth": 2
          },
          "yaxis": {
           "automargin": true,
           "gridcolor": "white",
           "linecolor": "white",
           "ticks": "",
           "title": {
            "standoff": 15
           },
           "zerolinecolor": "white",
           "zerolinewidth": 2
          }
         }
        },
        "title": {
         "text": "Tertiary Education over Time in Europe"
        },
        "xaxis": {
         "anchor": "y",
         "domain": [
          0,
          1
         ],
         "title": {
          "text": "Year"
         }
        },
        "yaxis": {
         "anchor": "x",
         "domain": [
          0,
          1
         ],
         "title": {
          "text": "education"
         }
        }
       }
      }
     },
     "metadata": {},
     "output_type": "display_data"
    }
   ],
   "source": [
    "fig = px.line(\n",
    "    combined,\n",
    "    x='year',\n",
    "    y='education',\n",
    "    color='country',\n",
    "    labels={'year': 'Year', 'qol': 'Tertiary Education'},\n",
    "    title='Tertiary Education over Time in Europe',\n",
    "    hover_data=['country', 'year']\n",
    ")\n",
    "fig"
   ]
  },
  {
   "cell_type": "code",
   "execution_count": 152,
   "id": "135871c7",
   "metadata": {},
   "outputs": [
    {
     "data": {
      "application/vnd.plotly.v1+json": {
       "config": {
        "plotlyServerURL": "https://plot.ly"
       },
       "data": [
        {
         "customdata": [
          [
           "Austria"
          ],
          [
           "Austria"
          ],
          [
           "Austria"
          ],
          [
           "Austria"
          ],
          [
           "Austria"
          ],
          [
           "Austria"
          ],
          [
           "Austria"
          ],
          [
           "Austria"
          ],
          [
           "Austria"
          ],
          [
           "Austria"
          ],
          [
           "Austria"
          ],
          [
           "Austria"
          ]
         ],
         "hovertemplate": "country=%{customdata[0]}<br>Year=%{x}<br>Controlled Drug Crime=%{y}<extra></extra>",
         "legendgroup": "Austria",
         "line": {
          "color": "#636efa",
          "dash": "solid"
         },
         "marker": {
          "symbol": "circle"
         },
         "mode": "lines",
         "name": "Austria",
         "orientation": "v",
         "showlegend": true,
         "type": "scatter",
         "x": [
          2011,
          2012,
          2013,
          2014,
          2015,
          2016,
          2017,
          2018,
          2019,
          2020,
          2021,
          2022
         ],
         "xaxis": "x",
         "y": [
          -0.44143324682081264,
          -0.44647089828964365,
          -0.06115162336611681,
          -0.031643198247176305,
          0.028136932516285174,
          0.07629993368041207,
          0.1749768400274537,
          0.15174258082878456,
          0.1912805120538523,
          0.14575846150823377,
          0.06448435114442659,
          0.06098852633726809
         ],
         "yaxis": "y"
        },
        {
         "customdata": [
          [
           "Belgium"
          ],
          [
           "Belgium"
          ],
          [
           "Belgium"
          ],
          [
           "Belgium"
          ],
          [
           "Belgium"
          ],
          [
           "Belgium"
          ],
          [
           "Belgium"
          ],
          [
           "Belgium"
          ],
          [
           "Belgium"
          ],
          [
           "Belgium"
          ],
          [
           "Belgium"
          ],
          [
           "Belgium"
          ]
         ],
         "hovertemplate": "country=%{customdata[0]}<br>Year=%{x}<br>Controlled Drug Crime=%{y}<extra></extra>",
         "legendgroup": "Belgium",
         "line": {
          "color": "#EF553B",
          "dash": "solid"
         },
         "marker": {
          "symbol": "circle"
         },
         "mode": "lines",
         "name": "Belgium",
         "orientation": "v",
         "showlegend": true,
         "type": "scatter",
         "x": [
          2011,
          2012,
          2013,
          2014,
          2015,
          2016,
          2017,
          2018,
          2019,
          2020,
          2021,
          2022
         ],
         "xaxis": "x",
         "y": [
          -0.26580239788474924,
          -0.30382903366916764,
          -0.3025314567756809,
          0.3647741755182904,
          0.3269917895020577,
          0.37162843463800294,
          0.4124334115355342,
          0.4358203268393194,
          0.4962568788547801,
          0.46798496818727997,
          0.38851219986384267,
          0.4074720881192612
         ],
         "yaxis": "y"
        },
        {
         "customdata": [
          [
           "Bulgaria"
          ],
          [
           "Bulgaria"
          ],
          [
           "Bulgaria"
          ],
          [
           "Bulgaria"
          ],
          [
           "Bulgaria"
          ],
          [
           "Bulgaria"
          ],
          [
           "Bulgaria"
          ],
          [
           "Bulgaria"
          ],
          [
           "Bulgaria"
          ],
          [
           "Bulgaria"
          ],
          [
           "Bulgaria"
          ],
          [
           "Bulgaria"
          ]
         ],
         "hovertemplate": "country=%{customdata[0]}<br>Year=%{x}<br>Controlled Drug Crime=%{y}<extra></extra>",
         "legendgroup": "Bulgaria",
         "line": {
          "color": "#00cc96",
          "dash": "solid"
         },
         "marker": {
          "symbol": "circle"
         },
         "mode": "lines",
         "name": "Bulgaria",
         "orientation": "v",
         "showlegend": true,
         "type": "scatter",
         "x": [
          2011,
          2012,
          2013,
          2014,
          2015,
          2016,
          2017,
          2018,
          2019,
          2020,
          2021,
          2022
         ],
         "xaxis": "x",
         "y": [
          -0.4332050827550553,
          -0.4316632560933828,
          -0.4302588199263147,
          -0.4274041507606438,
          -0.41563436505619317,
          -0.4045210006037417,
          -0.4006893323653278,
          -0.3923390434154776,
          -0.39334657370924375,
          -0.40181898754318685,
          -0.4018342531536985,
          -0.3950868533075672
         ],
         "yaxis": "y"
        },
        {
         "customdata": [
          [
           "Croatia"
          ],
          [
           "Croatia"
          ],
          [
           "Croatia"
          ],
          [
           "Croatia"
          ],
          [
           "Croatia"
          ],
          [
           "Croatia"
          ],
          [
           "Croatia"
          ],
          [
           "Croatia"
          ],
          [
           "Croatia"
          ],
          [
           "Croatia"
          ],
          [
           "Croatia"
          ],
          [
           "Croatia"
          ]
         ],
         "hovertemplate": "country=%{customdata[0]}<br>Year=%{x}<br>Controlled Drug Crime=%{y}<extra></extra>",
         "legendgroup": "Croatia",
         "line": {
          "color": "#ab63fa",
          "dash": "solid"
         },
         "marker": {
          "symbol": "circle"
         },
         "mode": "lines",
         "name": "Croatia",
         "orientation": "v",
         "showlegend": true,
         "type": "scatter",
         "x": [
          2011,
          2012,
          2013,
          2014,
          2015,
          2016,
          2017,
          2018,
          2019,
          2020,
          2021,
          2022
         ],
         "xaxis": "x",
         "y": [
          -0.35828146636407754,
          -0.3654868345255571,
          -0.43589183020509853,
          -0.4355254555528199,
          -0.43346459813375265,
          -0.29950886589438225,
          -0.29654733745513007,
          -0.3058898910882349,
          -0.3059051566987465,
          -0.33616159673275586,
          -0.3402069835183323,
          -0.3366348306586157
         ],
         "yaxis": "y"
        },
        {
         "customdata": [
          [
           "Cyprus"
          ],
          [
           "Cyprus"
          ],
          [
           "Cyprus"
          ],
          [
           "Cyprus"
          ],
          [
           "Cyprus"
          ],
          [
           "Cyprus"
          ],
          [
           "Cyprus"
          ],
          [
           "Cyprus"
          ],
          [
           "Cyprus"
          ],
          [
           "Cyprus"
          ],
          [
           "Cyprus"
          ],
          [
           "Cyprus"
          ]
         ],
         "hovertemplate": "country=%{customdata[0]}<br>Year=%{x}<br>Controlled Drug Crime=%{y}<extra></extra>",
         "legendgroup": "Cyprus",
         "line": {
          "color": "#FFA15A",
          "dash": "solid"
         },
         "marker": {
          "symbol": "circle"
         },
         "mode": "lines",
         "name": "Cyprus",
         "orientation": "v",
         "showlegend": true,
         "type": "scatter",
         "x": [
          2011,
          2012,
          2013,
          2014,
          2015,
          2016,
          2017,
          2018,
          2019,
          2020,
          2021,
          2022
         ],
         "xaxis": "x",
         "y": [
          -0.46256085176887973,
          -0.46112588438078844,
          -0.4616449151381832,
          -0.460362603855208,
          -0.4626524454319494,
          -0.4634767883995763,
          -0.4624997893268333,
          -0.45941613600348824,
          -0.46109535315976524,
          -0.4639347567149245,
          -0.4640568815990174,
          -0.4612022124333465
         ],
         "yaxis": "y"
        },
        {
         "customdata": [
          [
           "Czechia"
          ],
          [
           "Czechia"
          ],
          [
           "Czechia"
          ],
          [
           "Czechia"
          ],
          [
           "Czechia"
          ],
          [
           "Czechia"
          ],
          [
           "Czechia"
          ],
          [
           "Czechia"
          ],
          [
           "Czechia"
          ],
          [
           "Czechia"
          ],
          [
           "Czechia"
          ],
          [
           "Czechia"
          ]
         ],
         "hovertemplate": "country=%{customdata[0]}<br>Year=%{x}<br>Controlled Drug Crime=%{y}<extra></extra>",
         "legendgroup": "Czechia",
         "line": {
          "color": "#19d3f3",
          "dash": "solid"
         },
         "marker": {
          "symbol": "circle"
         },
         "mode": "lines",
         "name": "Czechia",
         "orientation": "v",
         "showlegend": true,
         "type": "scatter",
         "x": [
          2011,
          2012,
          2013,
          2014,
          2015,
          2016,
          2017,
          2018,
          2019,
          2020,
          2021,
          2022
         ],
         "xaxis": "x",
         "y": [
          -0.4213589689980466,
          -0.41862642471646855,
          -0.3987353342198418,
          -0.3914078411742694,
          -0.39214059047882666,
          -0.3918658094896177,
          -0.3913773099532462,
          -0.39342290176180184,
          -0.40328448615230134,
          -0.41287128955359187,
          -0.41279496150103384,
          -0.4127338990589874
         ],
         "yaxis": "y"
        },
        {
         "customdata": [
          [
           "Denmark"
          ],
          [
           "Denmark"
          ],
          [
           "Denmark"
          ],
          [
           "Denmark"
          ],
          [
           "Denmark"
          ],
          [
           "Denmark"
          ],
          [
           "Denmark"
          ],
          [
           "Denmark"
          ],
          [
           "Denmark"
          ],
          [
           "Denmark"
          ],
          [
           "Denmark"
          ],
          [
           "Denmark"
          ]
         ],
         "hovertemplate": "country=%{customdata[0]}<br>Year=%{x}<br>Controlled Drug Crime=%{y}<extra></extra>",
         "legendgroup": "Denmark",
         "line": {
          "color": "#FF6692",
          "dash": "solid"
         },
         "marker": {
          "symbol": "circle"
         },
         "mode": "lines",
         "name": "Denmark",
         "orientation": "v",
         "showlegend": true,
         "type": "scatter",
         "x": [
          2011,
          2012,
          2013,
          2014,
          2015,
          2016,
          2017,
          2018,
          2019,
          2020,
          2021,
          2022
         ],
         "xaxis": "x",
         "y": [
          -0.1246107662628761,
          -0.12358797035859828,
          -0.08327149299743848,
          -0.047992667105109715,
          -0.09806386958318776,
          -0.11531400946130611,
          -0.05423630180435786,
          -0.016285994072497485,
          0.026213465591822423,
          -0.0002418374247962558,
          -0.03924547228195766,
          0.0004909118797609839
         ],
         "yaxis": "y"
        },
        {
         "customdata": [
          [
           "Estonia"
          ],
          [
           "Estonia"
          ],
          [
           "Estonia"
          ],
          [
           "Estonia"
          ],
          [
           "Estonia"
          ],
          [
           "Estonia"
          ],
          [
           "Estonia"
          ],
          [
           "Estonia"
          ],
          [
           "Estonia"
          ],
          [
           "Estonia"
          ],
          [
           "Estonia"
          ],
          [
           "Estonia"
          ]
         ],
         "hovertemplate": "country=%{customdata[0]}<br>Year=%{x}<br>Controlled Drug Crime=%{y}<extra></extra>",
         "legendgroup": "Estonia",
         "line": {
          "color": "#B6E880",
          "dash": "solid"
         },
         "marker": {
          "symbol": "circle"
         },
         "mode": "lines",
         "name": "Estonia",
         "orientation": "v",
         "showlegend": true,
         "type": "scatter",
         "x": [
          2011,
          2012,
          2013,
          2014,
          2015,
          2016,
          2017,
          2018,
          2019,
          2020,
          2021,
          2022
         ],
         "xaxis": "x",
         "y": [
          -0.41851956544288726,
          -0.406383405086158,
          -0.4060475616549026,
          -0.4149932094147056,
          -0.40079619163890906,
          -0.3905529669856193,
          -0.3881867973563199,
          -0.40807788785294663,
          -0.4158175523823325,
          -0.4203514387042804,
          -0.42158795315572073,
          -0.4255417462782275
         ],
         "yaxis": "y"
        },
        {
         "customdata": [
          [
           "Finland"
          ],
          [
           "Finland"
          ],
          [
           "Finland"
          ],
          [
           "Finland"
          ],
          [
           "Finland"
          ],
          [
           "Finland"
          ],
          [
           "Finland"
          ],
          [
           "Finland"
          ],
          [
           "Finland"
          ],
          [
           "Finland"
          ],
          [
           "Finland"
          ],
          [
           "Finland"
          ]
         ],
         "hovertemplate": "country=%{customdata[0]}<br>Year=%{x}<br>Controlled Drug Crime=%{y}<extra></extra>",
         "legendgroup": "Finland",
         "line": {
          "color": "#FF97FF",
          "dash": "solid"
         },
         "marker": {
          "symbol": "circle"
         },
         "mode": "lines",
         "name": "Finland",
         "orientation": "v",
         "showlegend": true,
         "type": "scatter",
         "x": [
          2011,
          2012,
          2013,
          2014,
          2015,
          2016,
          2017,
          2018,
          2019,
          2020,
          2021,
          2022
         ],
         "xaxis": "x",
         "y": [
          -0.16552260243398864,
          -0.1699801607033785,
          -0.13099179145672873,
          -0.14434920065438675,
          -0.11913041208920841,
          -0.09336206154561213,
          -0.05492325427738027,
          -0.03146001092103699,
          0.016886177569229225,
          0.08987106142523263,
          -0.04519906038148524,
          -0.09206448465212537
         ],
         "yaxis": "y"
        },
        {
         "customdata": [
          [
           "France"
          ],
          [
           "France"
          ],
          [
           "France"
          ],
          [
           "France"
          ],
          [
           "France"
          ],
          [
           "France"
          ],
          [
           "France"
          ],
          [
           "France"
          ],
          [
           "France"
          ],
          [
           "France"
          ],
          [
           "France"
          ],
          [
           "France"
          ]
         ],
         "hovertemplate": "country=%{customdata[0]}<br>Year=%{x}<br>Controlled Drug Crime=%{y}<extra></extra>",
         "legendgroup": "France",
         "line": {
          "color": "#FECB52",
          "dash": "solid"
         },
         "marker": {
          "symbol": "circle"
         },
         "mode": "lines",
         "name": "France",
         "orientation": "v",
         "showlegend": true,
         "type": "scatter",
         "x": [
          2011,
          2012,
          2013,
          2014,
          2015,
          2016,
          2017,
          2018,
          2019,
          2020,
          2021,
          2022
         ],
         "xaxis": "x",
         "y": [
          -0.3863549240949268,
          -0.3867518299682286,
          -0.37830994735530876,
          -0.3715930787302007,
          -0.36261689974937455,
          3.2157032666138594,
          2.990627105230694,
          3.2954508159265057,
          3.25763789868925,
          2.8489011772409145,
          3.9452315273531497,
          4.58786793306036
         ],
         "yaxis": "y"
        },
        {
         "customdata": [
          [
           "Germany"
          ],
          [
           "Germany"
          ],
          [
           "Germany"
          ],
          [
           "Germany"
          ],
          [
           "Germany"
          ],
          [
           "Germany"
          ],
          [
           "Germany"
          ],
          [
           "Germany"
          ],
          [
           "Germany"
          ],
          [
           "Germany"
          ],
          [
           "Germany"
          ],
          [
           "Germany"
          ]
         ],
         "hovertemplate": "country=%{customdata[0]}<br>Year=%{x}<br>Controlled Drug Crime=%{y}<extra></extra>",
         "legendgroup": "Germany",
         "line": {
          "color": "#636efa",
          "dash": "solid"
         },
         "marker": {
          "symbol": "circle"
         },
         "mode": "lines",
         "name": "Germany",
         "orientation": "v",
         "showlegend": true,
         "type": "scatter",
         "x": [
          2011,
          2012,
          2013,
          2014,
          2015,
          2016,
          2017,
          2018,
          2019,
          2020,
          2021,
          2022
         ],
         "xaxis": "x",
         "y": [
          3.1331315793565655,
          3.143390069620367,
          3.3933644417479667,
          3.747663996111904,
          3.8372731298150495,
          4.142432683942117,
          4.56965605972001,
          4.876220050014146,
          5.014908121512115,
          5.106593378244839,
          5.034768680787718,
          4.723792929055728
         ],
         "yaxis": "y"
        },
        {
         "customdata": [
          [
           "Greece"
          ],
          [
           "Greece"
          ],
          [
           "Greece"
          ],
          [
           "Greece"
          ],
          [
           "Greece"
          ],
          [
           "Greece"
          ],
          [
           "Greece"
          ],
          [
           "Greece"
          ],
          [
           "Greece"
          ],
          [
           "Greece"
          ],
          [
           "Greece"
          ],
          [
           "Greece"
          ]
         ],
         "hovertemplate": "country=%{customdata[0]}<br>Year=%{x}<br>Controlled Drug Crime=%{y}<extra></extra>",
         "legendgroup": "Greece",
         "line": {
          "color": "#EF553B",
          "dash": "solid"
         },
         "marker": {
          "symbol": "circle"
         },
         "mode": "lines",
         "name": "Greece",
         "orientation": "v",
         "showlegend": true,
         "type": "scatter",
         "x": [
          2011,
          2012,
          2013,
          2014,
          2015,
          2016,
          2017,
          2018,
          2019,
          2020,
          2021,
          2022
         ],
         "xaxis": "x",
         "y": [
          -0.32746019874113863,
          -0.32199511017798255,
          -0.3169727243196631,
          -0.31114126110422846,
          -0.3121793226190179,
          -0.3076149050760467,
          -0.28152597671170665,
          -0.27033628420669714,
          -0.26931348830241936,
          -0.2810985396173816,
          -0.29399798049969134,
          -0.2932804968056457
         ],
         "yaxis": "y"
        },
        {
         "customdata": [
          [
           "Hungary"
          ],
          [
           "Hungary"
          ],
          [
           "Hungary"
          ],
          [
           "Hungary"
          ],
          [
           "Hungary"
          ],
          [
           "Hungary"
          ],
          [
           "Hungary"
          ],
          [
           "Hungary"
          ],
          [
           "Hungary"
          ],
          [
           "Hungary"
          ],
          [
           "Hungary"
          ],
          [
           "Hungary"
          ]
         ],
         "hovertemplate": "country=%{customdata[0]}<br>Year=%{x}<br>Controlled Drug Crime=%{y}<extra></extra>",
         "legendgroup": "Hungary",
         "line": {
          "color": "#00cc96",
          "dash": "solid"
         },
         "marker": {
          "symbol": "circle"
         },
         "mode": "lines",
         "name": "Hungary",
         "orientation": "v",
         "showlegend": true,
         "type": "scatter",
         "x": [
          2011,
          2012,
          2013,
          2014,
          2015,
          2016,
          2017,
          2018,
          2019,
          2020,
          2021,
          2022
         ],
         "xaxis": "x",
         "y": [
          -0.38542372185371865,
          -0.3972698356107273,
          -0.39429304156096356,
          -0.38337813004516297,
          -0.3848283630437659,
          -0.38895007788190034,
          -0.3782030880817275,
          -0.3544040012941288,
          -0.37698183924079876,
          -0.3775619324402399,
          -0.37043289233131843,
          -0.36360916443262914
         ],
         "yaxis": "y"
        },
        {
         "customdata": [
          [
           "Ireland"
          ],
          [
           "Ireland"
          ],
          [
           "Ireland"
          ],
          [
           "Ireland"
          ],
          [
           "Ireland"
          ],
          [
           "Ireland"
          ],
          [
           "Ireland"
          ],
          [
           "Ireland"
          ],
          [
           "Ireland"
          ],
          [
           "Ireland"
          ],
          [
           "Ireland"
          ],
          [
           "Ireland"
          ]
         ],
         "hovertemplate": "country=%{customdata[0]}<br>Year=%{x}<br>Controlled Drug Crime=%{y}<extra></extra>",
         "legendgroup": "Ireland",
         "line": {
          "color": "#ab63fa",
          "dash": "solid"
         },
         "marker": {
          "symbol": "circle"
         },
         "mode": "lines",
         "name": "Ireland",
         "orientation": "v",
         "showlegend": true,
         "type": "scatter",
         "x": [
          2011,
          2012,
          2013,
          2014,
          2015,
          2016,
          2017,
          2018,
          2019,
          2020,
          2021,
          2022
         ],
         "xaxis": "x",
         "y": [
          -0.2086021552977497,
          -0.2267834974170762,
          -0.24288871650682387,
          -0.23469108366208977,
          -0.25468903343229776,
          -0.24313296627500963,
          -0.22852377701539967,
          -0.20612912639486902,
          -0.1624389491106436,
          -0.13847194060741722,
          -0.18407031920559377,
          -0.22272284502098819
         ],
         "yaxis": "y"
        },
        {
         "customdata": [
          [
           "Italy"
          ],
          [
           "Italy"
          ],
          [
           "Italy"
          ],
          [
           "Italy"
          ],
          [
           "Italy"
          ],
          [
           "Italy"
          ],
          [
           "Italy"
          ],
          [
           "Italy"
          ],
          [
           "Italy"
          ],
          [
           "Italy"
          ],
          [
           "Italy"
          ],
          [
           "Italy"
          ]
         ],
         "hovertemplate": "country=%{customdata[0]}<br>Year=%{x}<br>Controlled Drug Crime=%{y}<extra></extra>",
         "legendgroup": "Italy",
         "line": {
          "color": "#FFA15A",
          "dash": "solid"
         },
         "marker": {
          "symbol": "circle"
         },
         "mode": "lines",
         "name": "Italy",
         "orientation": "v",
         "showlegend": true,
         "type": "scatter",
         "x": [
          2011,
          2012,
          2013,
          2014,
          2015,
          2016,
          2017,
          2018,
          2019,
          2020,
          2021,
          2022
         ],
         "xaxis": "x",
         "y": [
          0.04270032494436032,
          0.03992198383124745,
          0.035739206551066535,
          0.02261078151108266,
          0.008383232514262921,
          0.0603321050852689,
          0.10841877819683776,
          0.11508984999041096,
          0.09863352185889629,
          0.0403341553150609,
          -0.020865677225980234,
          -0.031811119962804
         ],
         "yaxis": "y"
        },
        {
         "customdata": [
          [
           "Latvia"
          ],
          [
           "Latvia"
          ],
          [
           "Latvia"
          ],
          [
           "Latvia"
          ],
          [
           "Latvia"
          ],
          [
           "Latvia"
          ],
          [
           "Latvia"
          ],
          [
           "Latvia"
          ],
          [
           "Latvia"
          ],
          [
           "Latvia"
          ],
          [
           "Latvia"
          ],
          [
           "Latvia"
          ]
         ],
         "hovertemplate": "country=%{customdata[0]}<br>Year=%{x}<br>Controlled Drug Crime=%{y}<extra></extra>",
         "legendgroup": "Latvia",
         "line": {
          "color": "#19d3f3",
          "dash": "solid"
         },
         "marker": {
          "symbol": "circle"
         },
         "mode": "lines",
         "name": "Latvia",
         "orientation": "v",
         "showlegend": true,
         "type": "scatter",
         "x": [
          2011,
          2012,
          2013,
          2014,
          2015,
          2016,
          2017,
          2018,
          2019,
          2020,
          2021,
          2022
         ],
         "xaxis": "x",
         "y": [
          -0.44682200733141064,
          -0.4348690343008207,
          -0.4518596588002417,
          -0.43567811165793596,
          -0.42297712371227714,
          -0.4361971424153307,
          -0.4312205533885461,
          -0.4370520166039808,
          -0.44089895045290634,
          -0.4466998824473178,
          -0.45451587502926166,
          -0.45752320030004867
         ],
         "yaxis": "y"
        },
        {
         "customdata": [
          [
           "Lithuania"
          ],
          [
           "Lithuania"
          ],
          [
           "Lithuania"
          ],
          [
           "Lithuania"
          ],
          [
           "Lithuania"
          ],
          [
           "Lithuania"
          ],
          [
           "Lithuania"
          ],
          [
           "Lithuania"
          ],
          [
           "Lithuania"
          ],
          [
           "Lithuania"
          ],
          [
           "Lithuania"
          ],
          [
           "Lithuania"
          ]
         ],
         "hovertemplate": "country=%{customdata[0]}<br>Year=%{x}<br>Controlled Drug Crime=%{y}<extra></extra>",
         "legendgroup": "Lithuania",
         "line": {
          "color": "#FF6692",
          "dash": "solid"
         },
         "marker": {
          "symbol": "circle"
         },
         "mode": "lines",
         "name": "Lithuania",
         "orientation": "v",
         "showlegend": true,
         "type": "scatter",
         "x": [
          2011,
          2012,
          2013,
          2014,
          2015,
          2016,
          2017,
          2018,
          2019,
          2020,
          2021,
          2022
         ],
         "xaxis": "x",
         "y": [
          -0.4424102458935556,
          -0.43096103800984875,
          -0.4409142160634179,
          -0.43735732881421296,
          -0.43831906227644435,
          -0.4419217463571841,
          -0.43682303244630666,
          -0.4276941973603644,
          -0.42984664844250126,
          -0.43196856830361496,
          -0.4288391181487351,
          -0.4298313828319897
         ],
         "yaxis": "y"
        },
        {
         "customdata": [
          [
           "Luxembourg"
          ],
          [
           "Luxembourg"
          ],
          [
           "Luxembourg"
          ],
          [
           "Luxembourg"
          ],
          [
           "Luxembourg"
          ],
          [
           "Luxembourg"
          ],
          [
           "Luxembourg"
          ],
          [
           "Luxembourg"
          ],
          [
           "Luxembourg"
          ],
          [
           "Luxembourg"
          ],
          [
           "Luxembourg"
          ],
          [
           "Luxembourg"
          ]
         ],
         "hovertemplate": "country=%{customdata[0]}<br>Year=%{x}<br>Controlled Drug Crime=%{y}<extra></extra>",
         "legendgroup": "Luxembourg",
         "line": {
          "color": "#B6E880",
          "dash": "solid"
         },
         "marker": {
          "symbol": "circle"
         },
         "mode": "lines",
         "name": "Luxembourg",
         "orientation": "v",
         "showlegend": true,
         "type": "scatter",
         "x": [
          2011,
          2012,
          2013,
          2014,
          2015,
          2016,
          2017,
          2018,
          2019,
          2020,
          2021,
          2022
         ],
         "xaxis": "x",
         "y": [
          -0.43195330269310334,
          -0.4374183912562594,
          -0.42766366613934115,
          -0.4128865551641035,
          -0.40548273406597307,
          -0.4160770677610298,
          -0.43589183020509853,
          -0.4310068348413836,
          -0.41215380585954625,
          -0.4063376082546232,
          -0.4192523147474445,
          -0.42210698391311546
         ],
         "yaxis": "y"
        },
        {
         "customdata": [
          [
           "Malta"
          ],
          [
           "Malta"
          ],
          [
           "Malta"
          ],
          [
           "Malta"
          ],
          [
           "Malta"
          ],
          [
           "Malta"
          ],
          [
           "Malta"
          ],
          [
           "Malta"
          ],
          [
           "Malta"
          ],
          [
           "Malta"
          ],
          [
           "Malta"
          ],
          [
           "Malta"
          ]
         ],
         "hovertemplate": "country=%{customdata[0]}<br>Year=%{x}<br>Controlled Drug Crime=%{y}<extra></extra>",
         "legendgroup": "Malta",
         "line": {
          "color": "#FF97FF",
          "dash": "solid"
         },
         "marker": {
          "symbol": "circle"
         },
         "mode": "lines",
         "name": "Malta",
         "orientation": "v",
         "showlegend": true,
         "type": "scatter",
         "x": [
          2011,
          2012,
          2013,
          2014,
          2015,
          2016,
          2017,
          2018,
          2019,
          2020,
          2021,
          2022
         ],
         "xaxis": "x",
         "y": [
          -0.47413218453667944,
          -0.47375054427388924,
          -0.47367421622133116,
          -0.4739184659895169,
          -0.47445276235742323,
          -0.47353682572672673,
          -0.47211712394914707,
          -0.4715370307497059,
          -0.47442223113640003,
          -0.47428484064179555,
          -0.4675832376271991,
          -0.47362841938979633
         ],
         "yaxis": "y"
        },
        {
         "customdata": [
          [
           "Netherlands"
          ],
          [
           "Netherlands"
          ],
          [
           "Netherlands"
          ],
          [
           "Netherlands"
          ],
          [
           "Netherlands"
          ],
          [
           "Netherlands"
          ],
          [
           "Netherlands"
          ],
          [
           "Netherlands"
          ],
          [
           "Netherlands"
          ],
          [
           "Netherlands"
          ],
          [
           "Netherlands"
          ],
          [
           "Netherlands"
          ]
         ],
         "hovertemplate": "country=%{customdata[0]}<br>Year=%{x}<br>Controlled Drug Crime=%{y}<extra></extra>",
         "legendgroup": "Netherlands",
         "line": {
          "color": "#FECB52",
          "dash": "solid"
         },
         "marker": {
          "symbol": "circle"
         },
         "mode": "lines",
         "name": "Netherlands",
         "orientation": "v",
         "showlegend": true,
         "type": "scatter",
         "x": [
          2011,
          2012,
          2013,
          2014,
          2015,
          2016,
          2017,
          2018,
          2019,
          2020,
          2021,
          2022
         ],
         "xaxis": "x",
         "y": [
          -0.23435524023083434,
          -0.23038618149781598,
          -0.23130211812851253,
          -0.2449190427048679,
          -0.26580239788474924,
          -0.28679261233821185,
          -0.29793650801168653,
          -0.28633464402286357,
          -0.2642758368335883,
          -0.2814496486591486,
          -0.29976838127307964,
          -0.29740221164378017
         ],
         "yaxis": "y"
        },
        {
         "customdata": [
          [
           "Poland"
          ],
          [
           "Poland"
          ],
          [
           "Poland"
          ],
          [
           "Poland"
          ],
          [
           "Poland"
          ],
          [
           "Poland"
          ],
          [
           "Poland"
          ],
          [
           "Poland"
          ],
          [
           "Poland"
          ],
          [
           "Poland"
          ],
          [
           "Poland"
          ],
          [
           "Poland"
          ]
         ],
         "hovertemplate": "country=%{customdata[0]}<br>Year=%{x}<br>Controlled Drug Crime=%{y}<extra></extra>",
         "legendgroup": "Poland",
         "line": {
          "color": "#636efa",
          "dash": "solid"
         },
         "marker": {
          "symbol": "circle"
         },
         "mode": "lines",
         "name": "Poland",
         "orientation": "v",
         "showlegend": true,
         "type": "scatter",
         "x": [
          2011,
          2012,
          2013,
          2014,
          2015,
          2016,
          2017,
          2018,
          2019,
          2020,
          2021,
          2022
         ],
         "xaxis": "x",
         "y": [
          0.660972816275043,
          0.6888020242377064,
          0.6213432913869056,
          0.4971880810959883,
          0.363033895919967,
          0.4459414266085163,
          0.5101027875888097,
          0.44020155705615127,
          0.543366552893606,
          0.5390769163398438,
          0.5859881374420187,
          0.593361427319126
         ],
         "yaxis": "y"
        },
        {
         "customdata": [
          [
           "Portugal"
          ],
          [
           "Portugal"
          ],
          [
           "Portugal"
          ],
          [
           "Portugal"
          ],
          [
           "Portugal"
          ],
          [
           "Portugal"
          ],
          [
           "Portugal"
          ],
          [
           "Portugal"
          ],
          [
           "Portugal"
          ],
          [
           "Portugal"
          ],
          [
           "Portugal"
          ],
          [
           "Portugal"
          ]
         ],
         "hovertemplate": "country=%{customdata[0]}<br>Year=%{x}<br>Controlled Drug Crime=%{y}<extra></extra>",
         "legendgroup": "Portugal",
         "line": {
          "color": "#EF553B",
          "dash": "solid"
         },
         "marker": {
          "symbol": "circle"
         },
         "mode": "lines",
         "name": "Portugal",
         "orientation": "v",
         "showlegend": true,
         "type": "scatter",
         "x": [
          2011,
          2012,
          2013,
          2014,
          2015,
          2016,
          2017,
          2018,
          2019,
          2020,
          2021,
          2022
         ],
         "xaxis": "x",
         "y": [
          -0.4125201805118249,
          -0.4060475616549026,
          -0.40586437432876327,
          -0.40432254766709075,
          -0.39597225871724057,
          -0.38913326520803965,
          -0.37791304148200694,
          -0.37701237046182196,
          -0.3890874683765048,
          -0.41630605191870396,
          -0.4090548869256896,
          -0.3782488849132623
         ],
         "yaxis": "y"
        },
        {
         "customdata": [
          [
           "Romania"
          ],
          [
           "Romania"
          ],
          [
           "Romania"
          ],
          [
           "Romania"
          ],
          [
           "Romania"
          ],
          [
           "Romania"
          ],
          [
           "Romania"
          ],
          [
           "Romania"
          ],
          [
           "Romania"
          ],
          [
           "Romania"
          ],
          [
           "Romania"
          ],
          [
           "Romania"
          ]
         ],
         "hovertemplate": "country=%{customdata[0]}<br>Year=%{x}<br>Controlled Drug Crime=%{y}<extra></extra>",
         "legendgroup": "Romania",
         "line": {
          "color": "#00cc96",
          "dash": "solid"
         },
         "marker": {
          "symbol": "circle"
         },
         "mode": "lines",
         "name": "Romania",
         "orientation": "v",
         "showlegend": true,
         "type": "scatter",
         "x": [
          2011,
          2012,
          2013,
          2014,
          2015,
          2016,
          2017,
          2018,
          2019,
          2020,
          2021,
          2022
         ],
         "xaxis": "x",
         "y": [
          -0.42409151327962463,
          -0.4330066298184044,
          -0.43931132695969893,
          -0.44010513870630263,
          -0.3997123332925848,
          -0.4085663873893181,
          -0.3832865363820933,
          -0.34730549240623054,
          -0.3531827524532001,
          -0.37594377772600934,
          -0.35748765461747384,
          -0.3357494252489424
         ],
         "yaxis": "y"
        },
        {
         "customdata": [
          [
           "Slovakia"
          ],
          [
           "Slovakia"
          ],
          [
           "Slovakia"
          ],
          [
           "Slovakia"
          ],
          [
           "Slovakia"
          ],
          [
           "Slovakia"
          ],
          [
           "Slovakia"
          ],
          [
           "Slovakia"
          ],
          [
           "Slovakia"
          ],
          [
           "Slovakia"
          ],
          [
           "Slovakia"
          ],
          [
           "Slovakia"
          ]
         ],
         "hovertemplate": "country=%{customdata[0]}<br>Year=%{x}<br>Controlled Drug Crime=%{y}<extra></extra>",
         "legendgroup": "Slovakia",
         "line": {
          "color": "#ab63fa",
          "dash": "solid"
         },
         "marker": {
          "symbol": "circle"
         },
         "mode": "lines",
         "name": "Slovakia",
         "orientation": "v",
         "showlegend": true,
         "type": "scatter",
         "x": [
          2011,
          2012,
          2013,
          2014,
          2015,
          2016,
          2017,
          2018,
          2019,
          2020,
          2021,
          2022
         ],
         "xaxis": "x",
         "y": [
          -0.4652170679978997,
          -0.4652628648294345,
          -0.4473868349203402,
          -0.4522870958945667,
          -0.4501346448124299,
          -0.4540579067139134,
          -0.4542563596505643,
          -0.45283665787298466,
          -0.4505468162962433,
          -0.4540579067139134,
          -0.44979880138117445,
          -0.4537067976721464
         ],
         "yaxis": "y"
        },
        {
         "customdata": [
          [
           "Slovenia"
          ],
          [
           "Slovenia"
          ],
          [
           "Slovenia"
          ],
          [
           "Slovenia"
          ],
          [
           "Slovenia"
          ],
          [
           "Slovenia"
          ],
          [
           "Slovenia"
          ],
          [
           "Slovenia"
          ],
          [
           "Slovenia"
          ],
          [
           "Slovenia"
          ],
          [
           "Slovenia"
          ],
          [
           "Slovenia"
          ]
         ],
         "hovertemplate": "country=%{customdata[0]}<br>Year=%{x}<br>Controlled Drug Crime=%{y}<extra></extra>",
         "legendgroup": "Slovenia",
         "line": {
          "color": "#FFA15A",
          "dash": "solid"
         },
         "marker": {
          "symbol": "circle"
         },
         "mode": "lines",
         "name": "Slovenia",
         "orientation": "v",
         "showlegend": true,
         "type": "scatter",
         "x": [
          2011,
          2012,
          2013,
          2014,
          2015,
          2016,
          2017,
          2018,
          2019,
          2020,
          2021,
          2022
         ],
         "xaxis": "x",
         "y": [
          -0.45387471938777413,
          -0.44998198870731376,
          -0.450714738011871,
          -0.45147801853745145,
          -0.45033309774908076,
          -0.45491278090256354,
          -0.4520581117368926,
          -0.4536915320616348,
          -0.4559050455858181,
          -0.45401210988237856,
          -0.45515703067074925,
          -0.45576765509121364
         ],
         "yaxis": "y"
        },
        {
         "customdata": [
          [
           "Spain"
          ],
          [
           "Spain"
          ],
          [
           "Spain"
          ],
          [
           "Spain"
          ],
          [
           "Spain"
          ],
          [
           "Spain"
          ],
          [
           "Spain"
          ],
          [
           "Spain"
          ],
          [
           "Spain"
          ],
          [
           "Spain"
          ],
          [
           "Spain"
          ],
          [
           "Spain"
          ]
         ],
         "hovertemplate": "country=%{customdata[0]}<br>Year=%{x}<br>Controlled Drug Crime=%{y}<extra></extra>",
         "legendgroup": "Spain",
         "line": {
          "color": "#19d3f3",
          "dash": "solid"
         },
         "marker": {
          "symbol": "circle"
         },
         "mode": "lines",
         "name": "Spain",
         "orientation": "v",
         "showlegend": true,
         "type": "scatter",
         "x": [
          2011,
          2012,
          2013,
          2014,
          2015,
          2016,
          2017,
          2018,
          2019,
          2020,
          2021,
          2022
         ],
         "xaxis": "x",
         "y": [
          -0.24450687122105444,
          -0.25536072029480855,
          -0.25861229533378133,
          -0.2721223606365554,
          -0.29260880994313493,
          -0.28682314355923505,
          -0.2790376821983144,
          -0.2611005898471736,
          -0.22307395406275518,
          -0.21562433613308993,
          -0.1972903379086473,
          -0.1859327236880101
         ],
         "yaxis": "y"
        },
        {
         "customdata": [
          [
           "Sweden"
          ],
          [
           "Sweden"
          ],
          [
           "Sweden"
          ],
          [
           "Sweden"
          ],
          [
           "Sweden"
          ],
          [
           "Sweden"
          ],
          [
           "Sweden"
          ],
          [
           "Sweden"
          ],
          [
           "Sweden"
          ],
          [
           "Sweden"
          ],
          [
           "Sweden"
          ],
          [
           "Sweden"
          ]
         ],
         "hovertemplate": "country=%{customdata[0]}<br>Year=%{x}<br>Controlled Drug Crime=%{y}<extra></extra>",
         "legendgroup": "Sweden",
         "line": {
          "color": "#FF6692",
          "dash": "solid"
         },
         "marker": {
          "symbol": "circle"
         },
         "mode": "lines",
         "name": "Sweden",
         "orientation": "v",
         "showlegend": true,
         "type": "scatter",
         "x": [
          2011,
          2012,
          2013,
          2014,
          2015,
          2016,
          2017,
          2018,
          2019,
          2020,
          2021,
          2022
         ],
         "xaxis": "x",
         "y": [
          0.9275409070287621,
          1.0097004228022428,
          1.0371174592810928,
          1.0225235356319944,
          0.9971673565722116,
          0.9512026033217563,
          1.0902875806930274,
          1.182293415246496,
          1.284618802505812,
          1.4503575358303529,
          1.3585806854345586,
          1.2920531548249659
         ],
         "yaxis": "y"
        }
       ],
       "layout": {
        "legend": {
         "title": {
          "text": "country"
         },
         "tracegroupgap": 0
        },
        "template": {
         "data": {
          "bar": [
           {
            "error_x": {
             "color": "#2a3f5f"
            },
            "error_y": {
             "color": "#2a3f5f"
            },
            "marker": {
             "line": {
              "color": "#E5ECF6",
              "width": 0.5
             },
             "pattern": {
              "fillmode": "overlay",
              "size": 10,
              "solidity": 0.2
             }
            },
            "type": "bar"
           }
          ],
          "barpolar": [
           {
            "marker": {
             "line": {
              "color": "#E5ECF6",
              "width": 0.5
             },
             "pattern": {
              "fillmode": "overlay",
              "size": 10,
              "solidity": 0.2
             }
            },
            "type": "barpolar"
           }
          ],
          "carpet": [
           {
            "aaxis": {
             "endlinecolor": "#2a3f5f",
             "gridcolor": "white",
             "linecolor": "white",
             "minorgridcolor": "white",
             "startlinecolor": "#2a3f5f"
            },
            "baxis": {
             "endlinecolor": "#2a3f5f",
             "gridcolor": "white",
             "linecolor": "white",
             "minorgridcolor": "white",
             "startlinecolor": "#2a3f5f"
            },
            "type": "carpet"
           }
          ],
          "choropleth": [
           {
            "colorbar": {
             "outlinewidth": 0,
             "ticks": ""
            },
            "type": "choropleth"
           }
          ],
          "contour": [
           {
            "colorbar": {
             "outlinewidth": 0,
             "ticks": ""
            },
            "colorscale": [
             [
              0,
              "#0d0887"
             ],
             [
              0.1111111111111111,
              "#46039f"
             ],
             [
              0.2222222222222222,
              "#7201a8"
             ],
             [
              0.3333333333333333,
              "#9c179e"
             ],
             [
              0.4444444444444444,
              "#bd3786"
             ],
             [
              0.5555555555555556,
              "#d8576b"
             ],
             [
              0.6666666666666666,
              "#ed7953"
             ],
             [
              0.7777777777777778,
              "#fb9f3a"
             ],
             [
              0.8888888888888888,
              "#fdca26"
             ],
             [
              1,
              "#f0f921"
             ]
            ],
            "type": "contour"
           }
          ],
          "contourcarpet": [
           {
            "colorbar": {
             "outlinewidth": 0,
             "ticks": ""
            },
            "type": "contourcarpet"
           }
          ],
          "heatmap": [
           {
            "colorbar": {
             "outlinewidth": 0,
             "ticks": ""
            },
            "colorscale": [
             [
              0,
              "#0d0887"
             ],
             [
              0.1111111111111111,
              "#46039f"
             ],
             [
              0.2222222222222222,
              "#7201a8"
             ],
             [
              0.3333333333333333,
              "#9c179e"
             ],
             [
              0.4444444444444444,
              "#bd3786"
             ],
             [
              0.5555555555555556,
              "#d8576b"
             ],
             [
              0.6666666666666666,
              "#ed7953"
             ],
             [
              0.7777777777777778,
              "#fb9f3a"
             ],
             [
              0.8888888888888888,
              "#fdca26"
             ],
             [
              1,
              "#f0f921"
             ]
            ],
            "type": "heatmap"
           }
          ],
          "heatmapgl": [
           {
            "colorbar": {
             "outlinewidth": 0,
             "ticks": ""
            },
            "colorscale": [
             [
              0,
              "#0d0887"
             ],
             [
              0.1111111111111111,
              "#46039f"
             ],
             [
              0.2222222222222222,
              "#7201a8"
             ],
             [
              0.3333333333333333,
              "#9c179e"
             ],
             [
              0.4444444444444444,
              "#bd3786"
             ],
             [
              0.5555555555555556,
              "#d8576b"
             ],
             [
              0.6666666666666666,
              "#ed7953"
             ],
             [
              0.7777777777777778,
              "#fb9f3a"
             ],
             [
              0.8888888888888888,
              "#fdca26"
             ],
             [
              1,
              "#f0f921"
             ]
            ],
            "type": "heatmapgl"
           }
          ],
          "histogram": [
           {
            "marker": {
             "pattern": {
              "fillmode": "overlay",
              "size": 10,
              "solidity": 0.2
             }
            },
            "type": "histogram"
           }
          ],
          "histogram2d": [
           {
            "colorbar": {
             "outlinewidth": 0,
             "ticks": ""
            },
            "colorscale": [
             [
              0,
              "#0d0887"
             ],
             [
              0.1111111111111111,
              "#46039f"
             ],
             [
              0.2222222222222222,
              "#7201a8"
             ],
             [
              0.3333333333333333,
              "#9c179e"
             ],
             [
              0.4444444444444444,
              "#bd3786"
             ],
             [
              0.5555555555555556,
              "#d8576b"
             ],
             [
              0.6666666666666666,
              "#ed7953"
             ],
             [
              0.7777777777777778,
              "#fb9f3a"
             ],
             [
              0.8888888888888888,
              "#fdca26"
             ],
             [
              1,
              "#f0f921"
             ]
            ],
            "type": "histogram2d"
           }
          ],
          "histogram2dcontour": [
           {
            "colorbar": {
             "outlinewidth": 0,
             "ticks": ""
            },
            "colorscale": [
             [
              0,
              "#0d0887"
             ],
             [
              0.1111111111111111,
              "#46039f"
             ],
             [
              0.2222222222222222,
              "#7201a8"
             ],
             [
              0.3333333333333333,
              "#9c179e"
             ],
             [
              0.4444444444444444,
              "#bd3786"
             ],
             [
              0.5555555555555556,
              "#d8576b"
             ],
             [
              0.6666666666666666,
              "#ed7953"
             ],
             [
              0.7777777777777778,
              "#fb9f3a"
             ],
             [
              0.8888888888888888,
              "#fdca26"
             ],
             [
              1,
              "#f0f921"
             ]
            ],
            "type": "histogram2dcontour"
           }
          ],
          "mesh3d": [
           {
            "colorbar": {
             "outlinewidth": 0,
             "ticks": ""
            },
            "type": "mesh3d"
           }
          ],
          "parcoords": [
           {
            "line": {
             "colorbar": {
              "outlinewidth": 0,
              "ticks": ""
             }
            },
            "type": "parcoords"
           }
          ],
          "pie": [
           {
            "automargin": true,
            "type": "pie"
           }
          ],
          "scatter": [
           {
            "fillpattern": {
             "fillmode": "overlay",
             "size": 10,
             "solidity": 0.2
            },
            "type": "scatter"
           }
          ],
          "scatter3d": [
           {
            "line": {
             "colorbar": {
              "outlinewidth": 0,
              "ticks": ""
             }
            },
            "marker": {
             "colorbar": {
              "outlinewidth": 0,
              "ticks": ""
             }
            },
            "type": "scatter3d"
           }
          ],
          "scattercarpet": [
           {
            "marker": {
             "colorbar": {
              "outlinewidth": 0,
              "ticks": ""
             }
            },
            "type": "scattercarpet"
           }
          ],
          "scattergeo": [
           {
            "marker": {
             "colorbar": {
              "outlinewidth": 0,
              "ticks": ""
             }
            },
            "type": "scattergeo"
           }
          ],
          "scattergl": [
           {
            "marker": {
             "colorbar": {
              "outlinewidth": 0,
              "ticks": ""
             }
            },
            "type": "scattergl"
           }
          ],
          "scattermapbox": [
           {
            "marker": {
             "colorbar": {
              "outlinewidth": 0,
              "ticks": ""
             }
            },
            "type": "scattermapbox"
           }
          ],
          "scatterpolar": [
           {
            "marker": {
             "colorbar": {
              "outlinewidth": 0,
              "ticks": ""
             }
            },
            "type": "scatterpolar"
           }
          ],
          "scatterpolargl": [
           {
            "marker": {
             "colorbar": {
              "outlinewidth": 0,
              "ticks": ""
             }
            },
            "type": "scatterpolargl"
           }
          ],
          "scatterternary": [
           {
            "marker": {
             "colorbar": {
              "outlinewidth": 0,
              "ticks": ""
             }
            },
            "type": "scatterternary"
           }
          ],
          "surface": [
           {
            "colorbar": {
             "outlinewidth": 0,
             "ticks": ""
            },
            "colorscale": [
             [
              0,
              "#0d0887"
             ],
             [
              0.1111111111111111,
              "#46039f"
             ],
             [
              0.2222222222222222,
              "#7201a8"
             ],
             [
              0.3333333333333333,
              "#9c179e"
             ],
             [
              0.4444444444444444,
              "#bd3786"
             ],
             [
              0.5555555555555556,
              "#d8576b"
             ],
             [
              0.6666666666666666,
              "#ed7953"
             ],
             [
              0.7777777777777778,
              "#fb9f3a"
             ],
             [
              0.8888888888888888,
              "#fdca26"
             ],
             [
              1,
              "#f0f921"
             ]
            ],
            "type": "surface"
           }
          ],
          "table": [
           {
            "cells": {
             "fill": {
              "color": "#EBF0F8"
             },
             "line": {
              "color": "white"
             }
            },
            "header": {
             "fill": {
              "color": "#C8D4E3"
             },
             "line": {
              "color": "white"
             }
            },
            "type": "table"
           }
          ]
         },
         "layout": {
          "annotationdefaults": {
           "arrowcolor": "#2a3f5f",
           "arrowhead": 0,
           "arrowwidth": 1
          },
          "autotypenumbers": "strict",
          "coloraxis": {
           "colorbar": {
            "outlinewidth": 0,
            "ticks": ""
           }
          },
          "colorscale": {
           "diverging": [
            [
             0,
             "#8e0152"
            ],
            [
             0.1,
             "#c51b7d"
            ],
            [
             0.2,
             "#de77ae"
            ],
            [
             0.3,
             "#f1b6da"
            ],
            [
             0.4,
             "#fde0ef"
            ],
            [
             0.5,
             "#f7f7f7"
            ],
            [
             0.6,
             "#e6f5d0"
            ],
            [
             0.7,
             "#b8e186"
            ],
            [
             0.8,
             "#7fbc41"
            ],
            [
             0.9,
             "#4d9221"
            ],
            [
             1,
             "#276419"
            ]
           ],
           "sequential": [
            [
             0,
             "#0d0887"
            ],
            [
             0.1111111111111111,
             "#46039f"
            ],
            [
             0.2222222222222222,
             "#7201a8"
            ],
            [
             0.3333333333333333,
             "#9c179e"
            ],
            [
             0.4444444444444444,
             "#bd3786"
            ],
            [
             0.5555555555555556,
             "#d8576b"
            ],
            [
             0.6666666666666666,
             "#ed7953"
            ],
            [
             0.7777777777777778,
             "#fb9f3a"
            ],
            [
             0.8888888888888888,
             "#fdca26"
            ],
            [
             1,
             "#f0f921"
            ]
           ],
           "sequentialminus": [
            [
             0,
             "#0d0887"
            ],
            [
             0.1111111111111111,
             "#46039f"
            ],
            [
             0.2222222222222222,
             "#7201a8"
            ],
            [
             0.3333333333333333,
             "#9c179e"
            ],
            [
             0.4444444444444444,
             "#bd3786"
            ],
            [
             0.5555555555555556,
             "#d8576b"
            ],
            [
             0.6666666666666666,
             "#ed7953"
            ],
            [
             0.7777777777777778,
             "#fb9f3a"
            ],
            [
             0.8888888888888888,
             "#fdca26"
            ],
            [
             1,
             "#f0f921"
            ]
           ]
          },
          "colorway": [
           "#636efa",
           "#EF553B",
           "#00cc96",
           "#ab63fa",
           "#FFA15A",
           "#19d3f3",
           "#FF6692",
           "#B6E880",
           "#FF97FF",
           "#FECB52"
          ],
          "font": {
           "color": "#2a3f5f"
          },
          "geo": {
           "bgcolor": "white",
           "lakecolor": "white",
           "landcolor": "#E5ECF6",
           "showlakes": true,
           "showland": true,
           "subunitcolor": "white"
          },
          "hoverlabel": {
           "align": "left"
          },
          "hovermode": "closest",
          "mapbox": {
           "style": "light"
          },
          "paper_bgcolor": "white",
          "plot_bgcolor": "#E5ECF6",
          "polar": {
           "angularaxis": {
            "gridcolor": "white",
            "linecolor": "white",
            "ticks": ""
           },
           "bgcolor": "#E5ECF6",
           "radialaxis": {
            "gridcolor": "white",
            "linecolor": "white",
            "ticks": ""
           }
          },
          "scene": {
           "xaxis": {
            "backgroundcolor": "#E5ECF6",
            "gridcolor": "white",
            "gridwidth": 2,
            "linecolor": "white",
            "showbackground": true,
            "ticks": "",
            "zerolinecolor": "white"
           },
           "yaxis": {
            "backgroundcolor": "#E5ECF6",
            "gridcolor": "white",
            "gridwidth": 2,
            "linecolor": "white",
            "showbackground": true,
            "ticks": "",
            "zerolinecolor": "white"
           },
           "zaxis": {
            "backgroundcolor": "#E5ECF6",
            "gridcolor": "white",
            "gridwidth": 2,
            "linecolor": "white",
            "showbackground": true,
            "ticks": "",
            "zerolinecolor": "white"
           }
          },
          "shapedefaults": {
           "line": {
            "color": "#2a3f5f"
           }
          },
          "ternary": {
           "aaxis": {
            "gridcolor": "white",
            "linecolor": "white",
            "ticks": ""
           },
           "baxis": {
            "gridcolor": "white",
            "linecolor": "white",
            "ticks": ""
           },
           "bgcolor": "#E5ECF6",
           "caxis": {
            "gridcolor": "white",
            "linecolor": "white",
            "ticks": ""
           }
          },
          "title": {
           "x": 0.05
          },
          "xaxis": {
           "automargin": true,
           "gridcolor": "white",
           "linecolor": "white",
           "ticks": "",
           "title": {
            "standoff": 15
           },
           "zerolinecolor": "white",
           "zerolinewidth": 2
          },
          "yaxis": {
           "automargin": true,
           "gridcolor": "white",
           "linecolor": "white",
           "ticks": "",
           "title": {
            "standoff": 15
           },
           "zerolinecolor": "white",
           "zerolinewidth": 2
          }
         }
        },
        "title": {
         "text": "Controlled Drug Crime over Time in Europe"
        },
        "xaxis": {
         "anchor": "y",
         "domain": [
          0,
          1
         ],
         "title": {
          "text": "Year"
         }
        },
        "yaxis": {
         "anchor": "x",
         "domain": [
          0,
          1
         ],
         "title": {
          "text": "Controlled Drug Crime"
         }
        }
       }
      }
     },
     "metadata": {},
     "output_type": "display_data"
    }
   ],
   "source": [
    "fig = px.line(\n",
    "    combined,\n",
    "    x='year',\n",
    "    y='safety',\n",
    "    color='country',\n",
    "    labels={'year': 'Year', 'safety': 'Controlled Drug Crime'},\n",
    "    title= 'Controlled Drug Crime over Time in Europe',\n",
    "    hover_data=['country', 'year']\n",
    ")\n",
    "fig"
   ]
  },
  {
   "cell_type": "code",
   "execution_count": 153,
   "id": "7bc1173f",
   "metadata": {},
   "outputs": [
    {
     "data": {
      "application/vnd.plotly.v1+json": {
       "config": {
        "plotlyServerURL": "https://plot.ly"
       },
       "data": [
        {
         "customdata": [
          [
           "Austria"
          ],
          [
           "Austria"
          ],
          [
           "Austria"
          ],
          [
           "Austria"
          ],
          [
           "Austria"
          ],
          [
           "Austria"
          ],
          [
           "Austria"
          ],
          [
           "Austria"
          ],
          [
           "Austria"
          ],
          [
           "Austria"
          ],
          [
           "Austria"
          ],
          [
           "Austria"
          ]
         ],
         "hovertemplate": "country=%{customdata[0]}<br>Year=%{x}<br>Emissions=%{y}<extra></extra>",
         "legendgroup": "Austria",
         "line": {
          "color": "#636efa",
          "dash": "solid"
         },
         "marker": {
          "symbol": "circle"
         },
         "mode": "lines",
         "name": "Austria",
         "orientation": "v",
         "showlegend": true,
         "type": "scatter",
         "x": [
          2011,
          2012,
          2013,
          2014,
          2015,
          2016,
          2017,
          2018,
          2019,
          2020,
          2021,
          2022
         ],
         "xaxis": "x",
         "y": [
          0.10314796074460764,
          0.07707122909569004,
          0.18137815569136087,
          -0.07938916079781597,
          0.12922469239352524,
          0.024917765797854863,
          0.18137815569136087,
          0.25960835063811366,
          0.41606874053162013,
          0.024917765797854863,
          0.024917765797854863,
          -0.027235697499980782
         ],
         "yaxis": "y"
        },
        {
         "customdata": [
          [
           "Belgium"
          ],
          [
           "Belgium"
          ],
          [
           "Belgium"
          ],
          [
           "Belgium"
          ],
          [
           "Belgium"
          ],
          [
           "Belgium"
          ],
          [
           "Belgium"
          ],
          [
           "Belgium"
          ],
          [
           "Belgium"
          ],
          [
           "Belgium"
          ],
          [
           "Belgium"
          ],
          [
           "Belgium"
          ]
         ],
         "hovertemplate": "country=%{customdata[0]}<br>Year=%{x}<br>Emissions=%{y}<extra></extra>",
         "legendgroup": "Belgium",
         "line": {
          "color": "#EF553B",
          "dash": "solid"
         },
         "marker": {
          "symbol": "circle"
         },
         "mode": "lines",
         "name": "Belgium",
         "orientation": "v",
         "showlegend": true,
         "type": "scatter",
         "x": [
          2011,
          2012,
          2013,
          2014,
          2015,
          2016,
          2017,
          2018,
          2019,
          2020,
          2021,
          2022
         ],
         "xaxis": "x",
         "y": [
          0.7550662519675497,
          0.676836057020797,
          0.6507593253718789,
          0.4942989354783729,
          0.5986058620740438,
          0.5464523987762085,
          0.5203756671272904,
          0.5203756671272904,
          0.4942989354783729,
          0.25960835063811366,
          0.3117618139359493,
          0.1553014240424433
         ],
         "yaxis": "y"
        },
        {
         "customdata": [
          [
           "Bulgaria"
          ],
          [
           "Bulgaria"
          ],
          [
           "Bulgaria"
          ],
          [
           "Bulgaria"
          ],
          [
           "Bulgaria"
          ],
          [
           "Bulgaria"
          ],
          [
           "Bulgaria"
          ],
          [
           "Bulgaria"
          ],
          [
           "Bulgaria"
          ],
          [
           "Bulgaria"
          ],
          [
           "Bulgaria"
          ],
          [
           "Bulgaria"
          ]
         ],
         "hovertemplate": "country=%{customdata[0]}<br>Year=%{x}<br>Emissions=%{y}<extra></extra>",
         "legendgroup": "Bulgaria",
         "line": {
          "color": "#00cc96",
          "dash": "solid"
         },
         "marker": {
          "symbol": "circle"
         },
         "mode": "lines",
         "name": "Bulgaria",
         "orientation": "v",
         "showlegend": true,
         "type": "scatter",
         "x": [
          2011,
          2012,
          2013,
          2014,
          2015,
          2016,
          2017,
          2018,
          2019,
          2020,
          2021,
          2022
         ],
         "xaxis": "x",
         "y": [
          -0.13154262409565137,
          -0.2880030139891576,
          -0.41838667223374604,
          -0.3140797456380752,
          -0.1576193557445692,
          -0.3140797456380752,
          -0.20977281904240438,
          -0.3662332089359106,
          -0.3662332089359106,
          -0.6009237937761697,
          -0.3401564772869928,
          -0.1576193557445692
         ],
         "yaxis": "y"
        },
        {
         "customdata": [
          [
           "Croatia"
          ],
          [
           "Croatia"
          ],
          [
           "Croatia"
          ],
          [
           "Croatia"
          ],
          [
           "Croatia"
          ],
          [
           "Croatia"
          ],
          [
           "Croatia"
          ],
          [
           "Croatia"
          ],
          [
           "Croatia"
          ],
          [
           "Croatia"
          ],
          [
           "Croatia"
          ],
          [
           "Croatia"
          ]
         ],
         "hovertemplate": "country=%{customdata[0]}<br>Year=%{x}<br>Emissions=%{y}<extra></extra>",
         "legendgroup": "Croatia",
         "line": {
          "color": "#ab63fa",
          "dash": "solid"
         },
         "marker": {
          "symbol": "circle"
         },
         "mode": "lines",
         "name": "Croatia",
         "orientation": "v",
         "showlegend": true,
         "type": "scatter",
         "x": [
          2011,
          2012,
          2013,
          2014,
          2015,
          2016,
          2017,
          2018,
          2019,
          2020,
          2021,
          2022
         ],
         "xaxis": "x",
         "y": [
          -0.7834609153185935,
          -0.8616911102653465,
          -0.9659980368610173,
          -0.9920747685099349,
          -0.9399213052120997,
          -0.9138445735631819,
          -0.7834609153185935,
          -0.8877678419142643,
          -0.8877678419142643,
          -0.9138445735631819,
          -0.8877678419142643,
          -0.8095376469675113
         ],
         "yaxis": "y"
        },
        {
         "customdata": [
          [
           "Cyprus"
          ],
          [
           "Cyprus"
          ],
          [
           "Cyprus"
          ],
          [
           "Cyprus"
          ],
          [
           "Cyprus"
          ],
          [
           "Cyprus"
          ],
          [
           "Cyprus"
          ],
          [
           "Cyprus"
          ],
          [
           "Cyprus"
          ],
          [
           "Cyprus"
          ],
          [
           "Cyprus"
          ],
          [
           "Cyprus"
          ]
         ],
         "hovertemplate": "country=%{customdata[0]}<br>Year=%{x}<br>Emissions=%{y}<extra></extra>",
         "legendgroup": "Cyprus",
         "line": {
          "color": "#FFA15A",
          "dash": "solid"
         },
         "marker": {
          "symbol": "circle"
         },
         "mode": "lines",
         "name": "Cyprus",
         "orientation": "v",
         "showlegend": true,
         "type": "scatter",
         "x": [
          2011,
          2012,
          2013,
          2014,
          2015,
          2016,
          2017,
          2018,
          2019,
          2020,
          2021,
          2022
         ],
         "xaxis": "x",
         "y": [
          0.5725291304251261,
          0.3639152772337845,
          0.1553014240424433,
          0.3117618139359493,
          0.33783854558486687,
          0.4942989354783729,
          0.4682222038294553,
          0.41606874053162013,
          0.25960835063811366,
          0.12922469239352524,
          0.1553014240424433,
          0.12922469239352524
         ],
         "yaxis": "y"
        },
        {
         "customdata": [
          [
           "Czechia"
          ],
          [
           "Czechia"
          ],
          [
           "Czechia"
          ],
          [
           "Czechia"
          ],
          [
           "Czechia"
          ],
          [
           "Czechia"
          ],
          [
           "Czechia"
          ],
          [
           "Czechia"
          ],
          [
           "Czechia"
          ],
          [
           "Czechia"
          ],
          [
           "Czechia"
          ],
          [
           "Czechia"
          ]
         ],
         "hovertemplate": "country=%{customdata[0]}<br>Year=%{x}<br>Emissions=%{y}<extra></extra>",
         "legendgroup": "Czechia",
         "line": {
          "color": "#19d3f3",
          "dash": "solid"
         },
         "marker": {
          "symbol": "circle"
         },
         "mode": "lines",
         "name": "Czechia",
         "orientation": "v",
         "showlegend": true,
         "type": "scatter",
         "x": [
          2011,
          2012,
          2013,
          2014,
          2015,
          2016,
          2017,
          2018,
          2019,
          2020,
          2021,
          2022
         ],
         "xaxis": "x",
         "y": [
          1.0419103001056442,
          0.9376033735099738,
          0.8332964469143029,
          0.7811429836164673,
          0.7811429836164673,
          0.8332964469143029,
          0.8854499102121381,
          0.9376033735099738,
          0.9376033735099738,
          0.7811429836164673,
          0.8854499102121381,
          0.7029127886697145
         ],
         "yaxis": "y"
        },
        {
         "customdata": [
          [
           "Denmark"
          ],
          [
           "Denmark"
          ],
          [
           "Denmark"
          ],
          [
           "Denmark"
          ],
          [
           "Denmark"
          ],
          [
           "Denmark"
          ],
          [
           "Denmark"
          ],
          [
           "Denmark"
          ],
          [
           "Denmark"
          ],
          [
           "Denmark"
          ],
          [
           "Denmark"
          ],
          [
           "Denmark"
          ]
         ],
         "hovertemplate": "country=%{customdata[0]}<br>Year=%{x}<br>Emissions=%{y}<extra></extra>",
         "legendgroup": "Denmark",
         "line": {
          "color": "#FF6692",
          "dash": "solid"
         },
         "marker": {
          "symbol": "circle"
         },
         "mode": "lines",
         "name": "Denmark",
         "orientation": "v",
         "showlegend": true,
         "type": "scatter",
         "x": [
          2011,
          2012,
          2013,
          2014,
          2015,
          2016,
          2017,
          2018,
          2019,
          2020,
          2021,
          2022
         ],
         "xaxis": "x",
         "y": [
          0.7550662519675497,
          0.5203756671272904,
          0.5725291304251261,
          0.3639152772337845,
          0.18137815569136087,
          0.2856850822870317,
          0.1553014240424433,
          0.23353161898919605,
          -0.0011589658510631894,
          -0.13154262409565137,
          -0.1576193557445692,
          -0.2619262823402398
         ],
         "yaxis": "y"
        },
        {
         "customdata": [
          [
           "Estonia"
          ],
          [
           "Estonia"
          ],
          [
           "Estonia"
          ],
          [
           "Estonia"
          ],
          [
           "Estonia"
          ],
          [
           "Estonia"
          ],
          [
           "Estonia"
          ],
          [
           "Estonia"
          ],
          [
           "Estonia"
          ],
          [
           "Estonia"
          ],
          [
           "Estonia"
          ],
          [
           "Estonia"
          ]
         ],
         "hovertemplate": "country=%{customdata[0]}<br>Year=%{x}<br>Emissions=%{y}<extra></extra>",
         "legendgroup": "Estonia",
         "line": {
          "color": "#B6E880",
          "dash": "solid"
         },
         "marker": {
          "symbol": "circle"
         },
         "mode": "lines",
         "name": "Estonia",
         "orientation": "v",
         "showlegend": true,
         "type": "scatter",
         "x": [
          2011,
          2012,
          2013,
          2014,
          2015,
          2016,
          2017,
          2018,
          2019,
          2020,
          2021,
          2022
         ],
         "xaxis": "x",
         "y": [
          1.3287543482437392,
          1.4591380064883275,
          2.0589028344134346,
          2.0589028344134346,
          1.563444933083998,
          2.0589028344134346,
          2.267516687604775,
          2.4500538091471995,
          1.3287543482437392,
          0.3117618139359493,
          0.4942989354783729,
          0.6246825937229613
         ],
         "yaxis": "y"
        },
        {
         "customdata": [
          [
           "Finland"
          ],
          [
           "Finland"
          ],
          [
           "Finland"
          ],
          [
           "Finland"
          ],
          [
           "Finland"
          ],
          [
           "Finland"
          ],
          [
           "Finland"
          ],
          [
           "Finland"
          ],
          [
           "Finland"
          ],
          [
           "Finland"
          ],
          [
           "Finland"
          ],
          [
           "Finland"
          ]
         ],
         "hovertemplate": "country=%{customdata[0]}<br>Year=%{x}<br>Emissions=%{y}<extra></extra>",
         "legendgroup": "Finland",
         "line": {
          "color": "#FF97FF",
          "dash": "solid"
         },
         "marker": {
          "symbol": "circle"
         },
         "mode": "lines",
         "name": "Finland",
         "orientation": "v",
         "showlegend": true,
         "type": "scatter",
         "x": [
          2011,
          2012,
          2013,
          2014,
          2015,
          2016,
          2017,
          2018,
          2019,
          2020,
          2021,
          2022
         ],
         "xaxis": "x",
         "y": [
          0.1553014240424433,
          -0.20977281904240438,
          0.12922469239352524,
          -0.13154262409565137,
          -0.053312429148898374,
          0.2856850822870317,
          0.3117618139359493,
          0.8593731785632206,
          0.5203756671272904,
          0.20745488734027848,
          0.6507593253718789,
          0.5725291304251261
         ],
         "yaxis": "y"
        },
        {
         "customdata": [
          [
           "France"
          ],
          [
           "France"
          ],
          [
           "France"
          ],
          [
           "France"
          ],
          [
           "France"
          ],
          [
           "France"
          ],
          [
           "France"
          ],
          [
           "France"
          ],
          [
           "France"
          ],
          [
           "France"
          ],
          [
           "France"
          ],
          [
           "France"
          ]
         ],
         "hovertemplate": "country=%{customdata[0]}<br>Year=%{x}<br>Emissions=%{y}<extra></extra>",
         "legendgroup": "France",
         "line": {
          "color": "#FECB52",
          "dash": "solid"
         },
         "marker": {
          "symbol": "circle"
         },
         "mode": "lines",
         "name": "France",
         "orientation": "v",
         "showlegend": true,
         "type": "scatter",
         "x": [
          2011,
          2012,
          2013,
          2014,
          2015,
          2016,
          2017,
          2018,
          2019,
          2020,
          2021,
          2022
         ],
         "xaxis": "x",
         "y": [
          -0.3401564772869928,
          -0.3662332089359106,
          -0.3923099405848282,
          -0.5226935988294167,
          -0.496616867180499,
          -0.47054013553158125,
          -0.44446340388266364,
          -0.5487703304783345,
          -0.574847062127252,
          -0.7573841836696759,
          -0.6530772570740051,
          -0.7313074520207581
         ],
         "yaxis": "y"
        },
        {
         "customdata": [
          [
           "Germany"
          ],
          [
           "Germany"
          ],
          [
           "Germany"
          ],
          [
           "Germany"
          ],
          [
           "Germany"
          ],
          [
           "Germany"
          ],
          [
           "Germany"
          ],
          [
           "Germany"
          ],
          [
           "Germany"
          ],
          [
           "Germany"
          ],
          [
           "Germany"
          ],
          [
           "Germany"
          ]
         ],
         "hovertemplate": "country=%{customdata[0]}<br>Year=%{x}<br>Emissions=%{y}<extra></extra>",
         "legendgroup": "Germany",
         "line": {
          "color": "#636efa",
          "dash": "solid"
         },
         "marker": {
          "symbol": "circle"
         },
         "mode": "lines",
         "name": "Germany",
         "orientation": "v",
         "showlegend": true,
         "type": "scatter",
         "x": [
          2011,
          2012,
          2013,
          2014,
          2015,
          2016,
          2017,
          2018,
          2019,
          2020,
          2021,
          2022
         ],
         "xaxis": "x",
         "y": [
          0.8072197152653854,
          0.8332964469143029,
          0.8854499102121381,
          0.7811429836164673,
          0.7550662519675497,
          0.7289895203186322,
          0.6507593253718789,
          0.8072197152653854,
          0.5986058620740438,
          0.3899920088827021,
          0.44214547218053774,
          0.44214547218053774
         ],
         "yaxis": "y"
        },
        {
         "customdata": [
          [
           "Greece"
          ],
          [
           "Greece"
          ],
          [
           "Greece"
          ],
          [
           "Greece"
          ],
          [
           "Greece"
          ],
          [
           "Greece"
          ],
          [
           "Greece"
          ],
          [
           "Greece"
          ],
          [
           "Greece"
          ],
          [
           "Greece"
          ],
          [
           "Greece"
          ],
          [
           "Greece"
          ]
         ],
         "hovertemplate": "country=%{customdata[0]}<br>Year=%{x}<br>Emissions=%{y}<extra></extra>",
         "legendgroup": "Greece",
         "line": {
          "color": "#EF553B",
          "dash": "solid"
         },
         "marker": {
          "symbol": "circle"
         },
         "mode": "lines",
         "name": "Greece",
         "orientation": "v",
         "showlegend": true,
         "type": "scatter",
         "x": [
          2011,
          2012,
          2013,
          2014,
          2015,
          2016,
          2017,
          2018,
          2019,
          2020,
          2021,
          2022
         ],
         "xaxis": "x",
         "y": [
          0.5203756671272904,
          0.44214547218053774,
          0.25960835063811366,
          0.20745488734027848,
          0.10314796074460764,
          -0.0011589658510631894,
          0.10314796074460764,
          -0.0011589658510631894,
          -0.1576193557445692,
          -0.41838667223374604,
          -0.3401564772869928,
          -0.3140797456380752
         ],
         "yaxis": "y"
        },
        {
         "customdata": [
          [
           "Hungary"
          ],
          [
           "Hungary"
          ],
          [
           "Hungary"
          ],
          [
           "Hungary"
          ],
          [
           "Hungary"
          ],
          [
           "Hungary"
          ],
          [
           "Hungary"
          ],
          [
           "Hungary"
          ],
          [
           "Hungary"
          ],
          [
           "Hungary"
          ],
          [
           "Hungary"
          ],
          [
           "Hungary"
          ]
         ],
         "hovertemplate": "country=%{customdata[0]}<br>Year=%{x}<br>Emissions=%{y}<extra></extra>",
         "legendgroup": "Hungary",
         "line": {
          "color": "#00cc96",
          "dash": "solid"
         },
         "marker": {
          "symbol": "circle"
         },
         "mode": "lines",
         "name": "Hungary",
         "orientation": "v",
         "showlegend": true,
         "type": "scatter",
         "x": [
          2011,
          2012,
          2013,
          2014,
          2015,
          2016,
          2017,
          2018,
          2019,
          2020,
          2021,
          2022
         ],
         "xaxis": "x",
         "y": [
          -0.5487703304783345,
          -0.6270005254250874,
          -0.6791539887229229,
          -0.7052307203718404,
          -0.6270005254250874,
          -0.574847062127252,
          -0.5226935988294167,
          -0.5226935988294167,
          -0.5487703304783345,
          -0.6270005254250874,
          -0.6009237937761697,
          -0.7052307203718404
         ],
         "yaxis": "y"
        },
        {
         "customdata": [
          [
           "Ireland"
          ],
          [
           "Ireland"
          ],
          [
           "Ireland"
          ],
          [
           "Ireland"
          ],
          [
           "Ireland"
          ],
          [
           "Ireland"
          ],
          [
           "Ireland"
          ],
          [
           "Ireland"
          ],
          [
           "Ireland"
          ],
          [
           "Ireland"
          ],
          [
           "Ireland"
          ],
          [
           "Ireland"
          ]
         ],
         "hovertemplate": "country=%{customdata[0]}<br>Year=%{x}<br>Emissions=%{y}<extra></extra>",
         "legendgroup": "Ireland",
         "line": {
          "color": "#ab63fa",
          "dash": "solid"
         },
         "marker": {
          "symbol": "circle"
         },
         "mode": "lines",
         "name": "Ireland",
         "orientation": "v",
         "showlegend": true,
         "type": "scatter",
         "x": [
          2011,
          2012,
          2013,
          2014,
          2015,
          2016,
          2017,
          2018,
          2019,
          2020,
          2021,
          2022
         ],
         "xaxis": "x",
         "y": [
          1.3809078115415743,
          1.3548310798926566,
          1.3548310798926566,
          1.3548310798926566,
          1.4330612748394094,
          1.4591380064883275,
          1.4852147381372451,
          1.3548310798926566,
          1.1983706899991506,
          1.0940637634034798,
          1.146217226701315,
          0.989756836807809
         ],
         "yaxis": "y"
        },
        {
         "customdata": [
          [
           "Italy"
          ],
          [
           "Italy"
          ],
          [
           "Italy"
          ],
          [
           "Italy"
          ],
          [
           "Italy"
          ],
          [
           "Italy"
          ],
          [
           "Italy"
          ],
          [
           "Italy"
          ],
          [
           "Italy"
          ],
          [
           "Italy"
          ],
          [
           "Italy"
          ],
          [
           "Italy"
          ]
         ],
         "hovertemplate": "country=%{customdata[0]}<br>Year=%{x}<br>Emissions=%{y}<extra></extra>",
         "legendgroup": "Italy",
         "line": {
          "color": "#FFA15A",
          "dash": "solid"
         },
         "marker": {
          "symbol": "circle"
         },
         "mode": "lines",
         "name": "Italy",
         "orientation": "v",
         "showlegend": true,
         "type": "scatter",
         "x": [
          2011,
          2012,
          2013,
          2014,
          2015,
          2016,
          2017,
          2018,
          2019,
          2020,
          2021,
          2022
         ],
         "xaxis": "x",
         "y": [
          -0.07938916079781597,
          -0.10546589244673378,
          -0.3401564772869928,
          -0.44446340388266364,
          -0.3923099405848282,
          -0.41838667223374604,
          -0.3662332089359106,
          -0.496616867180499,
          -0.5226935988294167,
          -0.6530772570740051,
          -0.496616867180499,
          -0.496616867180499
         ],
         "yaxis": "y"
        },
        {
         "customdata": [
          [
           "Latvia"
          ],
          [
           "Latvia"
          ],
          [
           "Latvia"
          ],
          [
           "Latvia"
          ],
          [
           "Latvia"
          ],
          [
           "Latvia"
          ],
          [
           "Latvia"
          ],
          [
           "Latvia"
          ],
          [
           "Latvia"
          ],
          [
           "Latvia"
          ],
          [
           "Latvia"
          ],
          [
           "Latvia"
          ]
         ],
         "hovertemplate": "country=%{customdata[0]}<br>Year=%{x}<br>Emissions=%{y}<extra></extra>",
         "legendgroup": "Latvia",
         "line": {
          "color": "#19d3f3",
          "dash": "solid"
         },
         "marker": {
          "symbol": "circle"
         },
         "mode": "lines",
         "name": "Latvia",
         "orientation": "v",
         "showlegend": true,
         "type": "scatter",
         "x": [
          2011,
          2012,
          2013,
          2014,
          2015,
          2016,
          2017,
          2018,
          2019,
          2020,
          2021,
          2022
         ],
         "xaxis": "x",
         "y": [
          -1.0442282318077702,
          -1.226765353350194,
          -1.0703049634566881,
          -0.5487703304783345,
          -0.6791539887229229,
          -0.9138445735631819,
          -1.0963816951056058,
          -0.6791539887229229,
          -0.9138445735631819,
          -0.6270005254250874,
          -0.3923099405848282,
          0.05099449744677246
         ],
         "yaxis": "y"
        },
        {
         "customdata": [
          [
           "Lithuania"
          ],
          [
           "Lithuania"
          ],
          [
           "Lithuania"
          ],
          [
           "Lithuania"
          ],
          [
           "Lithuania"
          ],
          [
           "Lithuania"
          ],
          [
           "Lithuania"
          ],
          [
           "Lithuania"
          ],
          [
           "Lithuania"
          ],
          [
           "Lithuania"
          ],
          [
           "Lithuania"
          ],
          [
           "Lithuania"
          ]
         ],
         "hovertemplate": "country=%{customdata[0]}<br>Year=%{x}<br>Emissions=%{y}<extra></extra>",
         "legendgroup": "Lithuania",
         "line": {
          "color": "#FF6692",
          "dash": "solid"
         },
         "marker": {
          "symbol": "circle"
         },
         "mode": "lines",
         "name": "Lithuania",
         "orientation": "v",
         "showlegend": true,
         "type": "scatter",
         "x": [
          2011,
          2012,
          2013,
          2014,
          2015,
          2016,
          2017,
          2018,
          2019,
          2020,
          2021,
          2022
         ],
         "xaxis": "x",
         "y": [
          -1.2789188166480296,
          -1.226765353350194,
          -1.2528420849991118,
          -1.1746118900523588,
          -1.0442282318077702,
          -0.9399213052120997,
          -0.8616911102653465,
          -0.7834609153185935,
          -0.7834609153185935,
          -0.8095376469675113,
          -0.8095376469675113,
          -0.9659980368610173
         ],
         "yaxis": "y"
        },
        {
         "customdata": [
          [
           "Luxembourg"
          ],
          [
           "Luxembourg"
          ],
          [
           "Luxembourg"
          ],
          [
           "Luxembourg"
          ],
          [
           "Luxembourg"
          ],
          [
           "Luxembourg"
          ],
          [
           "Luxembourg"
          ],
          [
           "Luxembourg"
          ],
          [
           "Luxembourg"
          ],
          [
           "Luxembourg"
          ],
          [
           "Luxembourg"
          ],
          [
           "Luxembourg"
          ]
         ],
         "hovertemplate": "country=%{customdata[0]}<br>Year=%{x}<br>Emissions=%{y}<extra></extra>",
         "legendgroup": "Luxembourg",
         "line": {
          "color": "#B6E880",
          "dash": "solid"
         },
         "marker": {
          "symbol": "circle"
         },
         "mode": "lines",
         "name": "Luxembourg",
         "orientation": "v",
         "showlegend": true,
         "type": "scatter",
         "x": [
          2011,
          2012,
          2013,
          2014,
          2015,
          2016,
          2017,
          2018,
          2019,
          2020,
          2021,
          2022
         ],
         "xaxis": "x",
         "y": [
          3.779967123242001,
          3.4670463434549887,
          3.0237419054233885,
          2.6847443939874585,
          2.3718236142004465,
          2.1371330293601867,
          2.1371330293601867,
          2.267516687604775,
          2.189286492658023,
          1.3809078115415743,
          1.406984543190492,
          0.8332964469143029
         ],
         "yaxis": "y"
        },
        {
         "customdata": [
          [
           "Malta"
          ],
          [
           "Malta"
          ],
          [
           "Malta"
          ],
          [
           "Malta"
          ],
          [
           "Malta"
          ],
          [
           "Malta"
          ],
          [
           "Malta"
          ],
          [
           "Malta"
          ],
          [
           "Malta"
          ],
          [
           "Malta"
          ],
          [
           "Malta"
          ],
          [
           "Malta"
          ]
         ],
         "hovertemplate": "country=%{customdata[0]}<br>Year=%{x}<br>Emissions=%{y}<extra></extra>",
         "legendgroup": "Malta",
         "line": {
          "color": "#FF97FF",
          "dash": "solid"
         },
         "marker": {
          "symbol": "circle"
         },
         "mode": "lines",
         "name": "Malta",
         "orientation": "v",
         "showlegend": true,
         "type": "scatter",
         "x": [
          2011,
          2012,
          2013,
          2014,
          2015,
          2016,
          2017,
          2018,
          2019,
          2020,
          2021,
          2022
         ],
         "xaxis": "x",
         "y": [
          -0.2880030139891576,
          -0.18369608739348678,
          -0.3923099405848282,
          -0.41838667223374604,
          -0.8877678419142643,
          -1.0703049634566881,
          -1.0181515001588528,
          -1.0442282318077702,
          -1.0442282318077702,
          -1.0703049634566881,
          -1.0703049634566881,
          -1.0181515001588528
         ],
         "yaxis": "y"
        },
        {
         "customdata": [
          [
           "Netherlands"
          ],
          [
           "Netherlands"
          ],
          [
           "Netherlands"
          ],
          [
           "Netherlands"
          ],
          [
           "Netherlands"
          ],
          [
           "Netherlands"
          ],
          [
           "Netherlands"
          ],
          [
           "Netherlands"
          ],
          [
           "Netherlands"
          ],
          [
           "Netherlands"
          ],
          [
           "Netherlands"
          ],
          [
           "Netherlands"
          ]
         ],
         "hovertemplate": "country=%{customdata[0]}<br>Year=%{x}<br>Emissions=%{y}<extra></extra>",
         "legendgroup": "Netherlands",
         "line": {
          "color": "#FECB52",
          "dash": "solid"
         },
         "marker": {
          "symbol": "circle"
         },
         "mode": "lines",
         "name": "Netherlands",
         "orientation": "v",
         "showlegend": true,
         "type": "scatter",
         "x": [
          2011,
          2012,
          2013,
          2014,
          2015,
          2016,
          2017,
          2018,
          2019,
          2020,
          2021,
          2022
         ],
         "xaxis": "x",
         "y": [
          1.0679870317545623,
          0.989756836807809,
          0.9636801051588914,
          0.8332964469143029,
          0.9376033735099738,
          0.9376033735099738,
          0.8593731785632206,
          0.7550662519675497,
          0.6507593253718789,
          0.3639152772337845,
          0.3899920088827021,
          0.18137815569136087
         ],
         "yaxis": "y"
        },
        {
         "customdata": [
          [
           "Poland"
          ],
          [
           "Poland"
          ],
          [
           "Poland"
          ],
          [
           "Poland"
          ],
          [
           "Poland"
          ],
          [
           "Poland"
          ],
          [
           "Poland"
          ],
          [
           "Poland"
          ],
          [
           "Poland"
          ],
          [
           "Poland"
          ],
          [
           "Poland"
          ],
          [
           "Poland"
          ]
         ],
         "hovertemplate": "country=%{customdata[0]}<br>Year=%{x}<br>Emissions=%{y}<extra></extra>",
         "legendgroup": "Poland",
         "line": {
          "color": "#636efa",
          "dash": "solid"
         },
         "marker": {
          "symbol": "circle"
         },
         "mode": "lines",
         "name": "Poland",
         "orientation": "v",
         "showlegend": true,
         "type": "scatter",
         "x": [
          2011,
          2012,
          2013,
          2014,
          2015,
          2016,
          2017,
          2018,
          2019,
          2020,
          2021,
          2022
         ],
         "xaxis": "x",
         "y": [
          0.33783854558486687,
          0.2856850822870317,
          0.23353161898919605,
          0.20745488734027848,
          0.25960835063811366,
          0.2856850822870317,
          0.3639152772337845,
          0.3899920088827021,
          0.3639152772337845,
          0.2856850822870317,
          0.4942989354783729,
          0.3117618139359493
         ],
         "yaxis": "y"
        },
        {
         "customdata": [
          [
           "Portugal"
          ],
          [
           "Portugal"
          ],
          [
           "Portugal"
          ],
          [
           "Portugal"
          ],
          [
           "Portugal"
          ],
          [
           "Portugal"
          ],
          [
           "Portugal"
          ],
          [
           "Portugal"
          ],
          [
           "Portugal"
          ],
          [
           "Portugal"
          ],
          [
           "Portugal"
          ],
          [
           "Portugal"
          ]
         ],
         "hovertemplate": "country=%{customdata[0]}<br>Year=%{x}<br>Emissions=%{y}<extra></extra>",
         "legendgroup": "Portugal",
         "line": {
          "color": "#EF553B",
          "dash": "solid"
         },
         "marker": {
          "symbol": "circle"
         },
         "mode": "lines",
         "name": "Portugal",
         "orientation": "v",
         "showlegend": true,
         "type": "scatter",
         "x": [
          2011,
          2012,
          2013,
          2014,
          2015,
          2016,
          2017,
          2018,
          2019,
          2020,
          2021,
          2022
         ],
         "xaxis": "x",
         "y": [
          -0.5487703304783345,
          -0.574847062127252,
          -0.574847062127252,
          -0.6530772570740051,
          -0.496616867180499,
          -0.496616867180499,
          0.024917765797854863,
          -0.5487703304783345,
          -0.6270005254250874,
          -0.7834609153185935,
          -0.8095376469675113,
          -0.7573841836696759
         ],
         "yaxis": "y"
        },
        {
         "customdata": [
          [
           "Romania"
          ],
          [
           "Romania"
          ],
          [
           "Romania"
          ],
          [
           "Romania"
          ],
          [
           "Romania"
          ],
          [
           "Romania"
          ],
          [
           "Romania"
          ],
          [
           "Romania"
          ],
          [
           "Romania"
          ],
          [
           "Romania"
          ],
          [
           "Romania"
          ],
          [
           "Romania"
          ]
         ],
         "hovertemplate": "country=%{customdata[0]}<br>Year=%{x}<br>Emissions=%{y}<extra></extra>",
         "legendgroup": "Romania",
         "line": {
          "color": "#00cc96",
          "dash": "solid"
         },
         "marker": {
          "symbol": "circle"
         },
         "mode": "lines",
         "name": "Romania",
         "orientation": "v",
         "showlegend": true,
         "type": "scatter",
         "x": [
          2011,
          2012,
          2013,
          2014,
          2015,
          2016,
          2017,
          2018,
          2019,
          2020,
          2021,
          2022
         ],
         "xaxis": "x",
         "y": [
          -0.8877678419142643,
          -0.9659980368610173,
          -1.0963816951056058,
          -1.226765353350194,
          -1.226765353350194,
          -1.2789188166480296,
          -1.226765353350194,
          -1.1746118900523588,
          -1.226765353350194,
          -1.304995548296947,
          -1.226765353350194,
          -1.2528420849991118
         ],
         "yaxis": "y"
        },
        {
         "customdata": [
          [
           "Slovakia"
          ],
          [
           "Slovakia"
          ],
          [
           "Slovakia"
          ],
          [
           "Slovakia"
          ],
          [
           "Slovakia"
          ],
          [
           "Slovakia"
          ],
          [
           "Slovakia"
          ],
          [
           "Slovakia"
          ],
          [
           "Slovakia"
          ],
          [
           "Slovakia"
          ],
          [
           "Slovakia"
          ],
          [
           "Slovakia"
          ]
         ],
         "hovertemplate": "country=%{customdata[0]}<br>Year=%{x}<br>Emissions=%{y}<extra></extra>",
         "legendgroup": "Slovakia",
         "line": {
          "color": "#ab63fa",
          "dash": "solid"
         },
         "marker": {
          "symbol": "circle"
         },
         "mode": "lines",
         "name": "Slovakia",
         "orientation": "v",
         "showlegend": true,
         "type": "scatter",
         "x": [
          2011,
          2012,
          2013,
          2014,
          2015,
          2016,
          2017,
          2018,
          2019,
          2020,
          2021,
          2022
         ],
         "xaxis": "x",
         "y": [
          -0.2358495506913222,
          -0.41838667223374604,
          -0.47054013553158125,
          -0.47054013553158125,
          -0.44446340388266364,
          -0.41838667223374604,
          -0.3662332089359106,
          -0.3401564772869928,
          -0.47054013553158125,
          -0.7052307203718404,
          -0.5226935988294167,
          -0.7052307203718404
         ],
         "yaxis": "y"
        },
        {
         "customdata": [
          [
           "Slovenia"
          ],
          [
           "Slovenia"
          ],
          [
           "Slovenia"
          ],
          [
           "Slovenia"
          ],
          [
           "Slovenia"
          ],
          [
           "Slovenia"
          ],
          [
           "Slovenia"
          ],
          [
           "Slovenia"
          ],
          [
           "Slovenia"
          ],
          [
           "Slovenia"
          ],
          [
           "Slovenia"
          ],
          [
           "Slovenia"
          ]
         ],
         "hovertemplate": "country=%{customdata[0]}<br>Year=%{x}<br>Emissions=%{y}<extra></extra>",
         "legendgroup": "Slovenia",
         "line": {
          "color": "#FFA15A",
          "dash": "solid"
         },
         "marker": {
          "symbol": "circle"
         },
         "mode": "lines",
         "name": "Slovenia",
         "orientation": "v",
         "showlegend": true,
         "type": "scatter",
         "x": [
          2011,
          2012,
          2013,
          2014,
          2015,
          2016,
          2017,
          2018,
          2019,
          2020,
          2021,
          2022
         ],
         "xaxis": "x",
         "y": [
          -0.5487703304783345,
          -0.6009237937761697,
          -0.496616867180499,
          0.024917765797854863,
          0.05099449744677246,
          0.18137815569136087,
          0.20745488734027848,
          0.18137815569136087,
          -0.574847062127252,
          -0.7052307203718404,
          -0.6791539887229229,
          -0.7313074520207581
         ],
         "yaxis": "y"
        },
        {
         "customdata": [
          [
           "Spain"
          ],
          [
           "Spain"
          ],
          [
           "Spain"
          ],
          [
           "Spain"
          ],
          [
           "Spain"
          ],
          [
           "Spain"
          ],
          [
           "Spain"
          ],
          [
           "Spain"
          ],
          [
           "Spain"
          ],
          [
           "Spain"
          ],
          [
           "Spain"
          ],
          [
           "Spain"
          ]
         ],
         "hovertemplate": "country=%{customdata[0]}<br>Year=%{x}<br>Emissions=%{y}<extra></extra>",
         "legendgroup": "Spain",
         "line": {
          "color": "#19d3f3",
          "dash": "solid"
         },
         "marker": {
          "symbol": "circle"
         },
         "mode": "lines",
         "name": "Spain",
         "orientation": "v",
         "showlegend": true,
         "type": "scatter",
         "x": [
          2011,
          2012,
          2013,
          2014,
          2015,
          2016,
          2017,
          2018,
          2019,
          2020,
          2021,
          2022
         ],
         "xaxis": "x",
         "y": [
          -0.44446340388266364,
          -0.47054013553158125,
          -0.6009237937761697,
          -0.6009237937761697,
          -0.574847062127252,
          -0.6270005254250874,
          -0.574847062127252,
          -0.6009237937761697,
          -0.7052307203718404,
          -0.9399213052120997,
          -0.8356143786164288,
          -0.8095376469675113
         ],
         "yaxis": "y"
        },
        {
         "customdata": [
          [
           "Sweden"
          ],
          [
           "Sweden"
          ],
          [
           "Sweden"
          ],
          [
           "Sweden"
          ],
          [
           "Sweden"
          ],
          [
           "Sweden"
          ],
          [
           "Sweden"
          ],
          [
           "Sweden"
          ],
          [
           "Sweden"
          ],
          [
           "Sweden"
          ],
          [
           "Sweden"
          ],
          [
           "Sweden"
          ]
         ],
         "hovertemplate": "country=%{customdata[0]}<br>Year=%{x}<br>Emissions=%{y}<extra></extra>",
         "legendgroup": "Sweden",
         "line": {
          "color": "#FF6692",
          "dash": "solid"
         },
         "marker": {
          "symbol": "circle"
         },
         "mode": "lines",
         "name": "Sweden",
         "orientation": "v",
         "showlegend": true,
         "type": "scatter",
         "x": [
          2011,
          2012,
          2013,
          2014,
          2015,
          2016,
          2017,
          2018,
          2019,
          2020,
          2021,
          2022
         ],
         "xaxis": "x",
         "y": [
          -2.1655276927112306,
          -2.1916044243601482,
          -2.243757887657984,
          -2.243757887657984,
          -2.1916044243601482,
          -2.1133742294133957,
          -1.9829905711688072,
          -1.8526069129242186,
          -1.8786836445731363,
          -1.9829905711688072,
          -1.8526069129242186,
          -1.8786836445731363
         ],
         "yaxis": "y"
        }
       ],
       "layout": {
        "legend": {
         "title": {
          "text": "country"
         },
         "tracegroupgap": 0
        },
        "template": {
         "data": {
          "bar": [
           {
            "error_x": {
             "color": "#2a3f5f"
            },
            "error_y": {
             "color": "#2a3f5f"
            },
            "marker": {
             "line": {
              "color": "#E5ECF6",
              "width": 0.5
             },
             "pattern": {
              "fillmode": "overlay",
              "size": 10,
              "solidity": 0.2
             }
            },
            "type": "bar"
           }
          ],
          "barpolar": [
           {
            "marker": {
             "line": {
              "color": "#E5ECF6",
              "width": 0.5
             },
             "pattern": {
              "fillmode": "overlay",
              "size": 10,
              "solidity": 0.2
             }
            },
            "type": "barpolar"
           }
          ],
          "carpet": [
           {
            "aaxis": {
             "endlinecolor": "#2a3f5f",
             "gridcolor": "white",
             "linecolor": "white",
             "minorgridcolor": "white",
             "startlinecolor": "#2a3f5f"
            },
            "baxis": {
             "endlinecolor": "#2a3f5f",
             "gridcolor": "white",
             "linecolor": "white",
             "minorgridcolor": "white",
             "startlinecolor": "#2a3f5f"
            },
            "type": "carpet"
           }
          ],
          "choropleth": [
           {
            "colorbar": {
             "outlinewidth": 0,
             "ticks": ""
            },
            "type": "choropleth"
           }
          ],
          "contour": [
           {
            "colorbar": {
             "outlinewidth": 0,
             "ticks": ""
            },
            "colorscale": [
             [
              0,
              "#0d0887"
             ],
             [
              0.1111111111111111,
              "#46039f"
             ],
             [
              0.2222222222222222,
              "#7201a8"
             ],
             [
              0.3333333333333333,
              "#9c179e"
             ],
             [
              0.4444444444444444,
              "#bd3786"
             ],
             [
              0.5555555555555556,
              "#d8576b"
             ],
             [
              0.6666666666666666,
              "#ed7953"
             ],
             [
              0.7777777777777778,
              "#fb9f3a"
             ],
             [
              0.8888888888888888,
              "#fdca26"
             ],
             [
              1,
              "#f0f921"
             ]
            ],
            "type": "contour"
           }
          ],
          "contourcarpet": [
           {
            "colorbar": {
             "outlinewidth": 0,
             "ticks": ""
            },
            "type": "contourcarpet"
           }
          ],
          "heatmap": [
           {
            "colorbar": {
             "outlinewidth": 0,
             "ticks": ""
            },
            "colorscale": [
             [
              0,
              "#0d0887"
             ],
             [
              0.1111111111111111,
              "#46039f"
             ],
             [
              0.2222222222222222,
              "#7201a8"
             ],
             [
              0.3333333333333333,
              "#9c179e"
             ],
             [
              0.4444444444444444,
              "#bd3786"
             ],
             [
              0.5555555555555556,
              "#d8576b"
             ],
             [
              0.6666666666666666,
              "#ed7953"
             ],
             [
              0.7777777777777778,
              "#fb9f3a"
             ],
             [
              0.8888888888888888,
              "#fdca26"
             ],
             [
              1,
              "#f0f921"
             ]
            ],
            "type": "heatmap"
           }
          ],
          "heatmapgl": [
           {
            "colorbar": {
             "outlinewidth": 0,
             "ticks": ""
            },
            "colorscale": [
             [
              0,
              "#0d0887"
             ],
             [
              0.1111111111111111,
              "#46039f"
             ],
             [
              0.2222222222222222,
              "#7201a8"
             ],
             [
              0.3333333333333333,
              "#9c179e"
             ],
             [
              0.4444444444444444,
              "#bd3786"
             ],
             [
              0.5555555555555556,
              "#d8576b"
             ],
             [
              0.6666666666666666,
              "#ed7953"
             ],
             [
              0.7777777777777778,
              "#fb9f3a"
             ],
             [
              0.8888888888888888,
              "#fdca26"
             ],
             [
              1,
              "#f0f921"
             ]
            ],
            "type": "heatmapgl"
           }
          ],
          "histogram": [
           {
            "marker": {
             "pattern": {
              "fillmode": "overlay",
              "size": 10,
              "solidity": 0.2
             }
            },
            "type": "histogram"
           }
          ],
          "histogram2d": [
           {
            "colorbar": {
             "outlinewidth": 0,
             "ticks": ""
            },
            "colorscale": [
             [
              0,
              "#0d0887"
             ],
             [
              0.1111111111111111,
              "#46039f"
             ],
             [
              0.2222222222222222,
              "#7201a8"
             ],
             [
              0.3333333333333333,
              "#9c179e"
             ],
             [
              0.4444444444444444,
              "#bd3786"
             ],
             [
              0.5555555555555556,
              "#d8576b"
             ],
             [
              0.6666666666666666,
              "#ed7953"
             ],
             [
              0.7777777777777778,
              "#fb9f3a"
             ],
             [
              0.8888888888888888,
              "#fdca26"
             ],
             [
              1,
              "#f0f921"
             ]
            ],
            "type": "histogram2d"
           }
          ],
          "histogram2dcontour": [
           {
            "colorbar": {
             "outlinewidth": 0,
             "ticks": ""
            },
            "colorscale": [
             [
              0,
              "#0d0887"
             ],
             [
              0.1111111111111111,
              "#46039f"
             ],
             [
              0.2222222222222222,
              "#7201a8"
             ],
             [
              0.3333333333333333,
              "#9c179e"
             ],
             [
              0.4444444444444444,
              "#bd3786"
             ],
             [
              0.5555555555555556,
              "#d8576b"
             ],
             [
              0.6666666666666666,
              "#ed7953"
             ],
             [
              0.7777777777777778,
              "#fb9f3a"
             ],
             [
              0.8888888888888888,
              "#fdca26"
             ],
             [
              1,
              "#f0f921"
             ]
            ],
            "type": "histogram2dcontour"
           }
          ],
          "mesh3d": [
           {
            "colorbar": {
             "outlinewidth": 0,
             "ticks": ""
            },
            "type": "mesh3d"
           }
          ],
          "parcoords": [
           {
            "line": {
             "colorbar": {
              "outlinewidth": 0,
              "ticks": ""
             }
            },
            "type": "parcoords"
           }
          ],
          "pie": [
           {
            "automargin": true,
            "type": "pie"
           }
          ],
          "scatter": [
           {
            "fillpattern": {
             "fillmode": "overlay",
             "size": 10,
             "solidity": 0.2
            },
            "type": "scatter"
           }
          ],
          "scatter3d": [
           {
            "line": {
             "colorbar": {
              "outlinewidth": 0,
              "ticks": ""
             }
            },
            "marker": {
             "colorbar": {
              "outlinewidth": 0,
              "ticks": ""
             }
            },
            "type": "scatter3d"
           }
          ],
          "scattercarpet": [
           {
            "marker": {
             "colorbar": {
              "outlinewidth": 0,
              "ticks": ""
             }
            },
            "type": "scattercarpet"
           }
          ],
          "scattergeo": [
           {
            "marker": {
             "colorbar": {
              "outlinewidth": 0,
              "ticks": ""
             }
            },
            "type": "scattergeo"
           }
          ],
          "scattergl": [
           {
            "marker": {
             "colorbar": {
              "outlinewidth": 0,
              "ticks": ""
             }
            },
            "type": "scattergl"
           }
          ],
          "scattermapbox": [
           {
            "marker": {
             "colorbar": {
              "outlinewidth": 0,
              "ticks": ""
             }
            },
            "type": "scattermapbox"
           }
          ],
          "scatterpolar": [
           {
            "marker": {
             "colorbar": {
              "outlinewidth": 0,
              "ticks": ""
             }
            },
            "type": "scatterpolar"
           }
          ],
          "scatterpolargl": [
           {
            "marker": {
             "colorbar": {
              "outlinewidth": 0,
              "ticks": ""
             }
            },
            "type": "scatterpolargl"
           }
          ],
          "scatterternary": [
           {
            "marker": {
             "colorbar": {
              "outlinewidth": 0,
              "ticks": ""
             }
            },
            "type": "scatterternary"
           }
          ],
          "surface": [
           {
            "colorbar": {
             "outlinewidth": 0,
             "ticks": ""
            },
            "colorscale": [
             [
              0,
              "#0d0887"
             ],
             [
              0.1111111111111111,
              "#46039f"
             ],
             [
              0.2222222222222222,
              "#7201a8"
             ],
             [
              0.3333333333333333,
              "#9c179e"
             ],
             [
              0.4444444444444444,
              "#bd3786"
             ],
             [
              0.5555555555555556,
              "#d8576b"
             ],
             [
              0.6666666666666666,
              "#ed7953"
             ],
             [
              0.7777777777777778,
              "#fb9f3a"
             ],
             [
              0.8888888888888888,
              "#fdca26"
             ],
             [
              1,
              "#f0f921"
             ]
            ],
            "type": "surface"
           }
          ],
          "table": [
           {
            "cells": {
             "fill": {
              "color": "#EBF0F8"
             },
             "line": {
              "color": "white"
             }
            },
            "header": {
             "fill": {
              "color": "#C8D4E3"
             },
             "line": {
              "color": "white"
             }
            },
            "type": "table"
           }
          ]
         },
         "layout": {
          "annotationdefaults": {
           "arrowcolor": "#2a3f5f",
           "arrowhead": 0,
           "arrowwidth": 1
          },
          "autotypenumbers": "strict",
          "coloraxis": {
           "colorbar": {
            "outlinewidth": 0,
            "ticks": ""
           }
          },
          "colorscale": {
           "diverging": [
            [
             0,
             "#8e0152"
            ],
            [
             0.1,
             "#c51b7d"
            ],
            [
             0.2,
             "#de77ae"
            ],
            [
             0.3,
             "#f1b6da"
            ],
            [
             0.4,
             "#fde0ef"
            ],
            [
             0.5,
             "#f7f7f7"
            ],
            [
             0.6,
             "#e6f5d0"
            ],
            [
             0.7,
             "#b8e186"
            ],
            [
             0.8,
             "#7fbc41"
            ],
            [
             0.9,
             "#4d9221"
            ],
            [
             1,
             "#276419"
            ]
           ],
           "sequential": [
            [
             0,
             "#0d0887"
            ],
            [
             0.1111111111111111,
             "#46039f"
            ],
            [
             0.2222222222222222,
             "#7201a8"
            ],
            [
             0.3333333333333333,
             "#9c179e"
            ],
            [
             0.4444444444444444,
             "#bd3786"
            ],
            [
             0.5555555555555556,
             "#d8576b"
            ],
            [
             0.6666666666666666,
             "#ed7953"
            ],
            [
             0.7777777777777778,
             "#fb9f3a"
            ],
            [
             0.8888888888888888,
             "#fdca26"
            ],
            [
             1,
             "#f0f921"
            ]
           ],
           "sequentialminus": [
            [
             0,
             "#0d0887"
            ],
            [
             0.1111111111111111,
             "#46039f"
            ],
            [
             0.2222222222222222,
             "#7201a8"
            ],
            [
             0.3333333333333333,
             "#9c179e"
            ],
            [
             0.4444444444444444,
             "#bd3786"
            ],
            [
             0.5555555555555556,
             "#d8576b"
            ],
            [
             0.6666666666666666,
             "#ed7953"
            ],
            [
             0.7777777777777778,
             "#fb9f3a"
            ],
            [
             0.8888888888888888,
             "#fdca26"
            ],
            [
             1,
             "#f0f921"
            ]
           ]
          },
          "colorway": [
           "#636efa",
           "#EF553B",
           "#00cc96",
           "#ab63fa",
           "#FFA15A",
           "#19d3f3",
           "#FF6692",
           "#B6E880",
           "#FF97FF",
           "#FECB52"
          ],
          "font": {
           "color": "#2a3f5f"
          },
          "geo": {
           "bgcolor": "white",
           "lakecolor": "white",
           "landcolor": "#E5ECF6",
           "showlakes": true,
           "showland": true,
           "subunitcolor": "white"
          },
          "hoverlabel": {
           "align": "left"
          },
          "hovermode": "closest",
          "mapbox": {
           "style": "light"
          },
          "paper_bgcolor": "white",
          "plot_bgcolor": "#E5ECF6",
          "polar": {
           "angularaxis": {
            "gridcolor": "white",
            "linecolor": "white",
            "ticks": ""
           },
           "bgcolor": "#E5ECF6",
           "radialaxis": {
            "gridcolor": "white",
            "linecolor": "white",
            "ticks": ""
           }
          },
          "scene": {
           "xaxis": {
            "backgroundcolor": "#E5ECF6",
            "gridcolor": "white",
            "gridwidth": 2,
            "linecolor": "white",
            "showbackground": true,
            "ticks": "",
            "zerolinecolor": "white"
           },
           "yaxis": {
            "backgroundcolor": "#E5ECF6",
            "gridcolor": "white",
            "gridwidth": 2,
            "linecolor": "white",
            "showbackground": true,
            "ticks": "",
            "zerolinecolor": "white"
           },
           "zaxis": {
            "backgroundcolor": "#E5ECF6",
            "gridcolor": "white",
            "gridwidth": 2,
            "linecolor": "white",
            "showbackground": true,
            "ticks": "",
            "zerolinecolor": "white"
           }
          },
          "shapedefaults": {
           "line": {
            "color": "#2a3f5f"
           }
          },
          "ternary": {
           "aaxis": {
            "gridcolor": "white",
            "linecolor": "white",
            "ticks": ""
           },
           "baxis": {
            "gridcolor": "white",
            "linecolor": "white",
            "ticks": ""
           },
           "bgcolor": "#E5ECF6",
           "caxis": {
            "gridcolor": "white",
            "linecolor": "white",
            "ticks": ""
           }
          },
          "title": {
           "x": 0.05
          },
          "xaxis": {
           "automargin": true,
           "gridcolor": "white",
           "linecolor": "white",
           "ticks": "",
           "title": {
            "standoff": 15
           },
           "zerolinecolor": "white",
           "zerolinewidth": 2
          },
          "yaxis": {
           "automargin": true,
           "gridcolor": "white",
           "linecolor": "white",
           "ticks": "",
           "title": {
            "standoff": 15
           },
           "zerolinecolor": "white",
           "zerolinewidth": 2
          }
         }
        },
        "title": {
         "text": "Emissions over Time in Europe"
        },
        "xaxis": {
         "anchor": "y",
         "domain": [
          0,
          1
         ],
         "title": {
          "text": "Year"
         }
        },
        "yaxis": {
         "anchor": "x",
         "domain": [
          0,
          1
         ],
         "title": {
          "text": "Emissions"
         }
        }
       }
      }
     },
     "metadata": {},
     "output_type": "display_data"
    }
   ],
   "source": [
    "fig = px.line(\n",
    "    combined,\n",
    "    x='year',\n",
    "    y='environment',\n",
    "    color='country',\n",
    "    labels={'year': 'Year', 'environment': 'Emissions'},\n",
    "    title='Emissions over Time in Europe',\n",
    "    hover_data=['country', 'year']\n",
    ")\n",
    "fig"
   ]
  },
  {
   "cell_type": "markdown",
   "id": "bc03dd76",
   "metadata": {},
   "source": [
    "Now, I'm plotting the averages of each feature over the years against quality of life."
   ]
  },
  {
   "cell_type": "code",
   "execution_count": 154,
   "id": "a21e0086",
   "metadata": {},
   "outputs": [
    {
     "data": {
      "application/vnd.plotly.v1+json": {
       "config": {
        "plotlyServerURL": "https://plot.ly"
       },
       "data": [
        {
         "customdata": [
          [
           "Austria"
          ]
         ],
         "hovertemplate": "country=%{customdata[0]}<br>Life Expectancy=%{x}<br>Quality of Life=%{y}<extra></extra>",
         "legendgroup": "Austria",
         "marker": {
          "color": "#636efa",
          "opacity": 1,
          "symbol": "circle"
         },
         "mode": "markers",
         "name": "Austria",
         "orientation": "v",
         "showlegend": true,
         "type": "scatter",
         "x": [
          -0.6177806439375746
         ],
         "xaxis": "x",
         "y": [
          1.0410257888600287
         ],
         "yaxis": "y"
        },
        {
         "customdata": [
          [
           "Belgium"
          ]
         ],
         "hovertemplate": "country=%{customdata[0]}<br>Life Expectancy=%{x}<br>Quality of Life=%{y}<extra></extra>",
         "legendgroup": "Belgium",
         "marker": {
          "color": "#EF553B",
          "opacity": 1,
          "symbol": "circle"
         },
         "mode": "markers",
         "name": "Belgium",
         "orientation": "v",
         "showlegend": true,
         "type": "scatter",
         "x": [
          0.4615669573227341
         ],
         "xaxis": "x",
         "y": [
          0.6675798740172335
         ],
         "yaxis": "y"
        },
        {
         "customdata": [
          [
           "Bulgaria"
          ]
         ],
         "hovertemplate": "country=%{customdata[0]}<br>Life Expectancy=%{x}<br>Quality of Life=%{y}<extra></extra>",
         "legendgroup": "Bulgaria",
         "marker": {
          "color": "#00cc96",
          "opacity": 1,
          "symbol": "circle"
         },
         "mode": "markers",
         "name": "Bulgaria",
         "orientation": "v",
         "showlegend": true,
         "type": "scatter",
         "x": [
          0.6885581336012955
         ],
         "xaxis": "x",
         "y": [
          -2.258850248934507
         ],
         "yaxis": "y"
        },
        {
         "customdata": [
          [
           "Croatia"
          ]
         ],
         "hovertemplate": "country=%{customdata[0]}<br>Life Expectancy=%{x}<br>Quality of Life=%{y}<extra></extra>",
         "legendgroup": "Croatia",
         "marker": {
          "color": "#ab63fa",
          "opacity": 1,
          "symbol": "circle"
         },
         "mode": "markers",
         "name": "Croatia",
         "orientation": "v",
         "showlegend": true,
         "type": "scatter",
         "x": [
          -0.6223386996861403
         ],
         "xaxis": "x",
         "y": [
          -0.982850745383271
         ],
         "yaxis": "y"
        },
        {
         "customdata": [
          [
           "Cyprus"
          ]
         ],
         "hovertemplate": "country=%{customdata[0]}<br>Life Expectancy=%{x}<br>Quality of Life=%{y}<extra></extra>",
         "legendgroup": "Cyprus",
         "marker": {
          "color": "#FFA15A",
          "opacity": 1,
          "symbol": "circle"
         },
         "mode": "markers",
         "name": "Cyprus",
         "orientation": "v",
         "showlegend": true,
         "type": "scatter",
         "x": [
          0.5700486841385928
         ],
         "xaxis": "x",
         "y": [
          -0.49763924969495515
         ],
         "yaxis": "y"
        },
        {
         "customdata": [
          [
           "Czechia"
          ]
         ],
         "hovertemplate": "country=%{customdata[0]}<br>Life Expectancy=%{x}<br>Quality of Life=%{y}<extra></extra>",
         "legendgroup": "Czechia",
         "marker": {
          "color": "#19d3f3",
          "opacity": 1,
          "symbol": "circle"
         },
         "mode": "markers",
         "name": "Czechia",
         "orientation": "v",
         "showlegend": true,
         "type": "scatter",
         "x": [
          0.21634355804991057
         ],
         "xaxis": "x",
         "y": [
          0.3348556007753529
         ],
         "yaxis": "y"
        },
        {
         "customdata": [
          [
           "Denmark"
          ]
         ],
         "hovertemplate": "country=%{customdata[0]}<br>Life Expectancy=%{x}<br>Quality of Life=%{y}<extra></extra>",
         "legendgroup": "Denmark",
         "marker": {
          "color": "#FF6692",
          "opacity": 1,
          "symbol": "circle"
         },
         "mode": "markers",
         "name": "Denmark",
         "orientation": "v",
         "showlegend": true,
         "type": "scatter",
         "x": [
          -0.48833186067831463
         ],
         "xaxis": "x",
         "y": [
          1.5844736107087918
         ],
         "yaxis": "y"
        },
        {
         "customdata": [
          [
           "Estonia"
          ]
         ],
         "hovertemplate": "country=%{customdata[0]}<br>Life Expectancy=%{x}<br>Quality of Life=%{y}<extra></extra>",
         "legendgroup": "Estonia",
         "marker": {
          "color": "#B6E880",
          "opacity": 1,
          "symbol": "circle"
         },
         "mode": "markers",
         "name": "Estonia",
         "orientation": "v",
         "showlegend": true,
         "type": "scatter",
         "x": [
          -1.234941392293342
         ],
         "xaxis": "x",
         "y": [
          -0.8235218492807682
         ],
         "yaxis": "y"
        },
        {
         "customdata": [
          [
           "Finland"
          ]
         ],
         "hovertemplate": "country=%{customdata[0]}<br>Life Expectancy=%{x}<br>Quality of Life=%{y}<extra></extra>",
         "legendgroup": "Finland",
         "marker": {
          "color": "#FF97FF",
          "opacity": 1,
          "symbol": "circle"
         },
         "mode": "markers",
         "name": "Finland",
         "orientation": "v",
         "showlegend": true,
         "type": "scatter",
         "x": [
          -0.8534321261384107
         ],
         "xaxis": "x",
         "y": [
          1.5793834055086775
         ],
         "yaxis": "y"
        },
        {
         "customdata": [
          [
           "France"
          ]
         ],
         "hovertemplate": "country=%{customdata[0]}<br>Life Expectancy=%{x}<br>Quality of Life=%{y}<extra></extra>",
         "legendgroup": "France",
         "marker": {
          "color": "#FECB52",
          "opacity": 1,
          "symbol": "circle"
         },
         "mode": "markers",
         "name": "France",
         "orientation": "v",
         "showlegend": true,
         "type": "scatter",
         "x": [
          0.5035010702095365
         ],
         "xaxis": "x",
         "y": [
          0.2796843444128237
         ],
         "yaxis": "y"
        },
        {
         "customdata": [
          [
           "Germany"
          ]
         ],
         "hovertemplate": "country=%{customdata[0]}<br>Life Expectancy=%{x}<br>Quality of Life=%{y}<extra></extra>",
         "legendgroup": "Germany",
         "marker": {
          "color": "#636efa",
          "opacity": 1,
          "symbol": "circle"
         },
         "mode": "markers",
         "name": "Germany",
         "orientation": "v",
         "showlegend": true,
         "type": "scatter",
         "x": [
          0.22545966954704133
         ],
         "xaxis": "x",
         "y": [
          0.6408699800639455
         ],
         "yaxis": "y"
        },
        {
         "customdata": [
          [
           "Greece"
          ]
         ],
         "hovertemplate": "country=%{customdata[0]}<br>Life Expectancy=%{x}<br>Quality of Life=%{y}<extra></extra>",
         "legendgroup": "Greece",
         "marker": {
          "color": "#EF553B",
          "opacity": 1,
          "symbol": "circle"
         },
         "mode": "markers",
         "name": "Greece",
         "orientation": "v",
         "showlegend": true,
         "type": "scatter",
         "x": [
          0.7952166381177285
         ],
         "xaxis": "x",
         "y": [
          -1.2380178060599691
         ],
         "yaxis": "y"
        },
        {
         "customdata": [
          [
           "Hungary"
          ]
         ],
         "hovertemplate": "country=%{customdata[0]}<br>Life Expectancy=%{x}<br>Quality of Life=%{y}<extra></extra>",
         "legendgroup": "Hungary",
         "marker": {
          "color": "#00cc96",
          "opacity": 1,
          "symbol": "circle"
         },
         "mode": "markers",
         "name": "Hungary",
         "orientation": "v",
         "showlegend": true,
         "type": "scatter",
         "x": [
          -0.23399234990836024
         ],
         "xaxis": "x",
         "y": [
          -1.2732113753467809
         ],
         "yaxis": "y"
        },
        {
         "customdata": [
          [
           "Ireland"
          ]
         ],
         "hovertemplate": "country=%{customdata[0]}<br>Life Expectancy=%{x}<br>Quality of Life=%{y}<extra></extra>",
         "legendgroup": "Ireland",
         "marker": {
          "color": "#ab63fa",
          "opacity": 1,
          "symbol": "circle"
         },
         "mode": "markers",
         "name": "Ireland",
         "orientation": "v",
         "showlegend": true,
         "type": "scatter",
         "x": [
          1.2883982701125136
         ],
         "xaxis": "x",
         "y": [
          0.8120760216333819
         ],
         "yaxis": "y"
        },
        {
         "customdata": [
          [
           "Italy"
          ]
         ],
         "hovertemplate": "country=%{customdata[0]}<br>Life Expectancy=%{x}<br>Quality of Life=%{y}<extra></extra>",
         "legendgroup": "Italy",
         "marker": {
          "color": "#FFA15A",
          "opacity": 1,
          "symbol": "circle"
         },
         "mode": "markers",
         "name": "Italy",
         "orientation": "v",
         "showlegend": true,
         "type": "scatter",
         "x": [
          0.796128249267441
         ],
         "xaxis": "x",
         "y": [
          -0.26983888364252767
         ],
         "yaxis": "y"
        },
        {
         "customdata": [
          [
           "Latvia"
          ]
         ],
         "hovertemplate": "country=%{customdata[0]}<br>Life Expectancy=%{x}<br>Quality of Life=%{y}<extra></extra>",
         "legendgroup": "Latvia",
         "marker": {
          "color": "#19d3f3",
          "opacity": 1,
          "symbol": "circle"
         },
         "mode": "markers",
         "name": "Latvia",
         "orientation": "v",
         "showlegend": true,
         "type": "scatter",
         "x": [
          -1.7691455260252178
         ],
         "xaxis": "x",
         "y": [
          -1.0143771775904307
         ],
         "yaxis": "y"
        },
        {
         "customdata": [
          [
           "Lithuania"
          ]
         ],
         "hovertemplate": "country=%{customdata[0]}<br>Life Expectancy=%{x}<br>Quality of Life=%{y}<extra></extra>",
         "legendgroup": "Lithuania",
         "marker": {
          "color": "#FF6692",
          "opacity": 1,
          "symbol": "circle"
         },
         "mode": "markers",
         "name": "Lithuania",
         "orientation": "v",
         "showlegend": true,
         "type": "scatter",
         "x": [
          -0.7362900934002773
         ],
         "xaxis": "x",
         "y": [
          -0.5397839594163318
         ],
         "yaxis": "y"
        },
        {
         "customdata": [
          [
           "Luxembourg"
          ]
         ],
         "hovertemplate": "country=%{customdata[0]}<br>Life Expectancy=%{x}<br>Quality of Life=%{y}<extra></extra>",
         "legendgroup": "Luxembourg",
         "marker": {
          "color": "#B6E880",
          "opacity": 1,
          "symbol": "circle"
         },
         "mode": "markers",
         "name": "Luxembourg",
         "orientation": "v",
         "showlegend": true,
         "type": "scatter",
         "x": [
          0.16802816711511584
         ],
         "xaxis": "x",
         "y": [
          0.8841051618844618
         ],
         "yaxis": "y"
        },
        {
         "customdata": [
          [
           "Malta"
          ]
         ],
         "hovertemplate": "country=%{customdata[0]}<br>Life Expectancy=%{x}<br>Quality of Life=%{y}<extra></extra>",
         "legendgroup": "Malta",
         "marker": {
          "color": "#FF97FF",
          "opacity": 1,
          "symbol": "circle"
         },
         "mode": "markers",
         "name": "Malta",
         "orientation": "v",
         "showlegend": true,
         "type": "scatter",
         "x": [
          2.200921030975326
         ],
         "xaxis": "x",
         "y": [
          -0.005859747296814617
         ],
         "yaxis": "y"
        },
        {
         "customdata": [
          [
           "Netherlands"
          ]
         ],
         "hovertemplate": "country=%{customdata[0]}<br>Life Expectancy=%{x}<br>Quality of Life=%{y}<extra></extra>",
         "legendgroup": "Netherlands",
         "marker": {
          "color": "#FECB52",
          "opacity": 1,
          "symbol": "circle"
         },
         "mode": "markers",
         "name": "Netherlands",
         "orientation": "v",
         "showlegend": true,
         "type": "scatter",
         "x": [
          -0.32059540913110424
         ],
         "xaxis": "x",
         "y": [
          1.3486821698260776
         ],
         "yaxis": "y"
        },
        {
         "customdata": [
          [
           "Poland"
          ]
         ],
         "hovertemplate": "country=%{customdata[0]}<br>Life Expectancy=%{x}<br>Quality of Life=%{y}<extra></extra>",
         "legendgroup": "Poland",
         "marker": {
          "color": "#636efa",
          "opacity": 1,
          "symbol": "circle"
         },
         "mode": "markers",
         "name": "Poland",
         "orientation": "v",
         "showlegend": true,
         "type": "scatter",
         "x": [
          0.055899995700405165
         ],
         "xaxis": "x",
         "y": [
          -0.5289467483451206
         ],
         "yaxis": "y"
        },
        {
         "customdata": [
          [
           "Portugal"
          ]
         ],
         "hovertemplate": "country=%{customdata[0]}<br>Life Expectancy=%{x}<br>Quality of Life=%{y}<extra></extra>",
         "legendgroup": "Portugal",
         "marker": {
          "color": "#EF553B",
          "opacity": 1,
          "symbol": "circle"
         },
         "mode": "markers",
         "name": "Portugal",
         "orientation": "v",
         "showlegend": true,
         "type": "scatter",
         "x": [
          -0.5138569728702814
         ],
         "xaxis": "x",
         "y": [
          -1.2069839743560462
         ],
         "yaxis": "y"
        },
        {
         "customdata": [
          [
           "Romania"
          ]
         ],
         "hovertemplate": "country=%{customdata[0]}<br>Life Expectancy=%{x}<br>Quality of Life=%{y}<extra></extra>",
         "legendgroup": "Romania",
         "marker": {
          "color": "#00cc96",
          "opacity": 1,
          "symbol": "circle"
         },
         "mode": "markers",
         "name": "Romania",
         "orientation": "v",
         "showlegend": true,
         "type": "scatter",
         "x": [
          -0.6268967554347054
         ],
         "xaxis": "x",
         "y": [
          -0.8528589459179862
         ],
         "yaxis": "y"
        },
        {
         "customdata": [
          [
           "Slovakia"
          ]
         ],
         "hovertemplate": "country=%{customdata[0]}<br>Life Expectancy=%{x}<br>Quality of Life=%{y}<extra></extra>",
         "legendgroup": "Slovakia",
         "marker": {
          "color": "#ab63fa",
          "opacity": 1,
          "symbol": "circle"
         },
         "mode": "markers",
         "name": "Slovakia",
         "orientation": "v",
         "showlegend": true,
         "type": "scatter",
         "x": [
          -1.3671250090017413
         ],
         "xaxis": "x",
         "y": [
          -0.3591090415068979
         ],
         "yaxis": "y"
        },
        {
         "customdata": [
          [
           "Slovenia"
          ]
         ],
         "hovertemplate": "country=%{customdata[0]}<br>Life Expectancy=%{x}<br>Quality of Life=%{y}<extra></extra>",
         "legendgroup": "Slovenia",
         "marker": {
          "color": "#FFA15A",
          "opacity": 1,
          "symbol": "circle"
         },
         "mode": "markers",
         "name": "Slovenia",
         "orientation": "v",
         "showlegend": true,
         "type": "scatter",
         "x": [
          -0.5074756948222897
         ],
         "xaxis": "x",
         "y": [
          -0.37465332405348367
         ],
         "yaxis": "y"
        },
        {
         "customdata": [
          [
           "Spain"
          ]
         ],
         "hovertemplate": "country=%{customdata[0]}<br>Life Expectancy=%{x}<br>Quality of Life=%{y}<extra></extra>",
         "legendgroup": "Spain",
         "marker": {
          "color": "#19d3f3",
          "opacity": 1,
          "symbol": "circle"
         },
         "mode": "markers",
         "name": "Spain",
         "orientation": "v",
         "showlegend": true,
         "type": "scatter",
         "x": [
          0.8699687523942021
         ],
         "xaxis": "x",
         "y": [
          0.007330999512083541
         ],
         "yaxis": "y"
        },
        {
         "customdata": [
          [
           "Sweden"
          ]
         ],
         "hovertemplate": "country=%{customdata[0]}<br>Life Expectancy=%{x}<br>Quality of Life=%{y}<extra></extra>",
         "legendgroup": "Sweden",
         "marker": {
          "color": "#FF6692",
          "opacity": 1,
          "symbol": "circle"
         },
         "mode": "markers",
         "name": "Sweden",
         "orientation": "v",
         "showlegend": true,
         "type": "scatter",
         "x": [
          1.8494949327609265
         ],
         "xaxis": "x",
         "y": [
          1.2555259413250608
         ],
         "yaxis": "y"
        }
       ],
       "layout": {
        "legend": {
         "title": {
          "text": "country"
         },
         "tracegroupgap": 0
        },
        "template": {
         "data": {
          "bar": [
           {
            "error_x": {
             "color": "#2a3f5f"
            },
            "error_y": {
             "color": "#2a3f5f"
            },
            "marker": {
             "line": {
              "color": "#E5ECF6",
              "width": 0.5
             },
             "pattern": {
              "fillmode": "overlay",
              "size": 10,
              "solidity": 0.2
             }
            },
            "type": "bar"
           }
          ],
          "barpolar": [
           {
            "marker": {
             "line": {
              "color": "#E5ECF6",
              "width": 0.5
             },
             "pattern": {
              "fillmode": "overlay",
              "size": 10,
              "solidity": 0.2
             }
            },
            "type": "barpolar"
           }
          ],
          "carpet": [
           {
            "aaxis": {
             "endlinecolor": "#2a3f5f",
             "gridcolor": "white",
             "linecolor": "white",
             "minorgridcolor": "white",
             "startlinecolor": "#2a3f5f"
            },
            "baxis": {
             "endlinecolor": "#2a3f5f",
             "gridcolor": "white",
             "linecolor": "white",
             "minorgridcolor": "white",
             "startlinecolor": "#2a3f5f"
            },
            "type": "carpet"
           }
          ],
          "choropleth": [
           {
            "colorbar": {
             "outlinewidth": 0,
             "ticks": ""
            },
            "type": "choropleth"
           }
          ],
          "contour": [
           {
            "colorbar": {
             "outlinewidth": 0,
             "ticks": ""
            },
            "colorscale": [
             [
              0,
              "#0d0887"
             ],
             [
              0.1111111111111111,
              "#46039f"
             ],
             [
              0.2222222222222222,
              "#7201a8"
             ],
             [
              0.3333333333333333,
              "#9c179e"
             ],
             [
              0.4444444444444444,
              "#bd3786"
             ],
             [
              0.5555555555555556,
              "#d8576b"
             ],
             [
              0.6666666666666666,
              "#ed7953"
             ],
             [
              0.7777777777777778,
              "#fb9f3a"
             ],
             [
              0.8888888888888888,
              "#fdca26"
             ],
             [
              1,
              "#f0f921"
             ]
            ],
            "type": "contour"
           }
          ],
          "contourcarpet": [
           {
            "colorbar": {
             "outlinewidth": 0,
             "ticks": ""
            },
            "type": "contourcarpet"
           }
          ],
          "heatmap": [
           {
            "colorbar": {
             "outlinewidth": 0,
             "ticks": ""
            },
            "colorscale": [
             [
              0,
              "#0d0887"
             ],
             [
              0.1111111111111111,
              "#46039f"
             ],
             [
              0.2222222222222222,
              "#7201a8"
             ],
             [
              0.3333333333333333,
              "#9c179e"
             ],
             [
              0.4444444444444444,
              "#bd3786"
             ],
             [
              0.5555555555555556,
              "#d8576b"
             ],
             [
              0.6666666666666666,
              "#ed7953"
             ],
             [
              0.7777777777777778,
              "#fb9f3a"
             ],
             [
              0.8888888888888888,
              "#fdca26"
             ],
             [
              1,
              "#f0f921"
             ]
            ],
            "type": "heatmap"
           }
          ],
          "heatmapgl": [
           {
            "colorbar": {
             "outlinewidth": 0,
             "ticks": ""
            },
            "colorscale": [
             [
              0,
              "#0d0887"
             ],
             [
              0.1111111111111111,
              "#46039f"
             ],
             [
              0.2222222222222222,
              "#7201a8"
             ],
             [
              0.3333333333333333,
              "#9c179e"
             ],
             [
              0.4444444444444444,
              "#bd3786"
             ],
             [
              0.5555555555555556,
              "#d8576b"
             ],
             [
              0.6666666666666666,
              "#ed7953"
             ],
             [
              0.7777777777777778,
              "#fb9f3a"
             ],
             [
              0.8888888888888888,
              "#fdca26"
             ],
             [
              1,
              "#f0f921"
             ]
            ],
            "type": "heatmapgl"
           }
          ],
          "histogram": [
           {
            "marker": {
             "pattern": {
              "fillmode": "overlay",
              "size": 10,
              "solidity": 0.2
             }
            },
            "type": "histogram"
           }
          ],
          "histogram2d": [
           {
            "colorbar": {
             "outlinewidth": 0,
             "ticks": ""
            },
            "colorscale": [
             [
              0,
              "#0d0887"
             ],
             [
              0.1111111111111111,
              "#46039f"
             ],
             [
              0.2222222222222222,
              "#7201a8"
             ],
             [
              0.3333333333333333,
              "#9c179e"
             ],
             [
              0.4444444444444444,
              "#bd3786"
             ],
             [
              0.5555555555555556,
              "#d8576b"
             ],
             [
              0.6666666666666666,
              "#ed7953"
             ],
             [
              0.7777777777777778,
              "#fb9f3a"
             ],
             [
              0.8888888888888888,
              "#fdca26"
             ],
             [
              1,
              "#f0f921"
             ]
            ],
            "type": "histogram2d"
           }
          ],
          "histogram2dcontour": [
           {
            "colorbar": {
             "outlinewidth": 0,
             "ticks": ""
            },
            "colorscale": [
             [
              0,
              "#0d0887"
             ],
             [
              0.1111111111111111,
              "#46039f"
             ],
             [
              0.2222222222222222,
              "#7201a8"
             ],
             [
              0.3333333333333333,
              "#9c179e"
             ],
             [
              0.4444444444444444,
              "#bd3786"
             ],
             [
              0.5555555555555556,
              "#d8576b"
             ],
             [
              0.6666666666666666,
              "#ed7953"
             ],
             [
              0.7777777777777778,
              "#fb9f3a"
             ],
             [
              0.8888888888888888,
              "#fdca26"
             ],
             [
              1,
              "#f0f921"
             ]
            ],
            "type": "histogram2dcontour"
           }
          ],
          "mesh3d": [
           {
            "colorbar": {
             "outlinewidth": 0,
             "ticks": ""
            },
            "type": "mesh3d"
           }
          ],
          "parcoords": [
           {
            "line": {
             "colorbar": {
              "outlinewidth": 0,
              "ticks": ""
             }
            },
            "type": "parcoords"
           }
          ],
          "pie": [
           {
            "automargin": true,
            "type": "pie"
           }
          ],
          "scatter": [
           {
            "fillpattern": {
             "fillmode": "overlay",
             "size": 10,
             "solidity": 0.2
            },
            "type": "scatter"
           }
          ],
          "scatter3d": [
           {
            "line": {
             "colorbar": {
              "outlinewidth": 0,
              "ticks": ""
             }
            },
            "marker": {
             "colorbar": {
              "outlinewidth": 0,
              "ticks": ""
             }
            },
            "type": "scatter3d"
           }
          ],
          "scattercarpet": [
           {
            "marker": {
             "colorbar": {
              "outlinewidth": 0,
              "ticks": ""
             }
            },
            "type": "scattercarpet"
           }
          ],
          "scattergeo": [
           {
            "marker": {
             "colorbar": {
              "outlinewidth": 0,
              "ticks": ""
             }
            },
            "type": "scattergeo"
           }
          ],
          "scattergl": [
           {
            "marker": {
             "colorbar": {
              "outlinewidth": 0,
              "ticks": ""
             }
            },
            "type": "scattergl"
           }
          ],
          "scattermapbox": [
           {
            "marker": {
             "colorbar": {
              "outlinewidth": 0,
              "ticks": ""
             }
            },
            "type": "scattermapbox"
           }
          ],
          "scatterpolar": [
           {
            "marker": {
             "colorbar": {
              "outlinewidth": 0,
              "ticks": ""
             }
            },
            "type": "scatterpolar"
           }
          ],
          "scatterpolargl": [
           {
            "marker": {
             "colorbar": {
              "outlinewidth": 0,
              "ticks": ""
             }
            },
            "type": "scatterpolargl"
           }
          ],
          "scatterternary": [
           {
            "marker": {
             "colorbar": {
              "outlinewidth": 0,
              "ticks": ""
             }
            },
            "type": "scatterternary"
           }
          ],
          "surface": [
           {
            "colorbar": {
             "outlinewidth": 0,
             "ticks": ""
            },
            "colorscale": [
             [
              0,
              "#0d0887"
             ],
             [
              0.1111111111111111,
              "#46039f"
             ],
             [
              0.2222222222222222,
              "#7201a8"
             ],
             [
              0.3333333333333333,
              "#9c179e"
             ],
             [
              0.4444444444444444,
              "#bd3786"
             ],
             [
              0.5555555555555556,
              "#d8576b"
             ],
             [
              0.6666666666666666,
              "#ed7953"
             ],
             [
              0.7777777777777778,
              "#fb9f3a"
             ],
             [
              0.8888888888888888,
              "#fdca26"
             ],
             [
              1,
              "#f0f921"
             ]
            ],
            "type": "surface"
           }
          ],
          "table": [
           {
            "cells": {
             "fill": {
              "color": "#EBF0F8"
             },
             "line": {
              "color": "white"
             }
            },
            "header": {
             "fill": {
              "color": "#C8D4E3"
             },
             "line": {
              "color": "white"
             }
            },
            "type": "table"
           }
          ]
         },
         "layout": {
          "annotationdefaults": {
           "arrowcolor": "#2a3f5f",
           "arrowhead": 0,
           "arrowwidth": 1
          },
          "autotypenumbers": "strict",
          "coloraxis": {
           "colorbar": {
            "outlinewidth": 0,
            "ticks": ""
           }
          },
          "colorscale": {
           "diverging": [
            [
             0,
             "#8e0152"
            ],
            [
             0.1,
             "#c51b7d"
            ],
            [
             0.2,
             "#de77ae"
            ],
            [
             0.3,
             "#f1b6da"
            ],
            [
             0.4,
             "#fde0ef"
            ],
            [
             0.5,
             "#f7f7f7"
            ],
            [
             0.6,
             "#e6f5d0"
            ],
            [
             0.7,
             "#b8e186"
            ],
            [
             0.8,
             "#7fbc41"
            ],
            [
             0.9,
             "#4d9221"
            ],
            [
             1,
             "#276419"
            ]
           ],
           "sequential": [
            [
             0,
             "#0d0887"
            ],
            [
             0.1111111111111111,
             "#46039f"
            ],
            [
             0.2222222222222222,
             "#7201a8"
            ],
            [
             0.3333333333333333,
             "#9c179e"
            ],
            [
             0.4444444444444444,
             "#bd3786"
            ],
            [
             0.5555555555555556,
             "#d8576b"
            ],
            [
             0.6666666666666666,
             "#ed7953"
            ],
            [
             0.7777777777777778,
             "#fb9f3a"
            ],
            [
             0.8888888888888888,
             "#fdca26"
            ],
            [
             1,
             "#f0f921"
            ]
           ],
           "sequentialminus": [
            [
             0,
             "#0d0887"
            ],
            [
             0.1111111111111111,
             "#46039f"
            ],
            [
             0.2222222222222222,
             "#7201a8"
            ],
            [
             0.3333333333333333,
             "#9c179e"
            ],
            [
             0.4444444444444444,
             "#bd3786"
            ],
            [
             0.5555555555555556,
             "#d8576b"
            ],
            [
             0.6666666666666666,
             "#ed7953"
            ],
            [
             0.7777777777777778,
             "#fb9f3a"
            ],
            [
             0.8888888888888888,
             "#fdca26"
            ],
            [
             1,
             "#f0f921"
            ]
           ]
          },
          "colorway": [
           "#636efa",
           "#EF553B",
           "#00cc96",
           "#ab63fa",
           "#FFA15A",
           "#19d3f3",
           "#FF6692",
           "#B6E880",
           "#FF97FF",
           "#FECB52"
          ],
          "font": {
           "color": "#2a3f5f"
          },
          "geo": {
           "bgcolor": "white",
           "lakecolor": "white",
           "landcolor": "#E5ECF6",
           "showlakes": true,
           "showland": true,
           "subunitcolor": "white"
          },
          "hoverlabel": {
           "align": "left"
          },
          "hovermode": "closest",
          "mapbox": {
           "style": "light"
          },
          "paper_bgcolor": "white",
          "plot_bgcolor": "#E5ECF6",
          "polar": {
           "angularaxis": {
            "gridcolor": "white",
            "linecolor": "white",
            "ticks": ""
           },
           "bgcolor": "#E5ECF6",
           "radialaxis": {
            "gridcolor": "white",
            "linecolor": "white",
            "ticks": ""
           }
          },
          "scene": {
           "xaxis": {
            "backgroundcolor": "#E5ECF6",
            "gridcolor": "white",
            "gridwidth": 2,
            "linecolor": "white",
            "showbackground": true,
            "ticks": "",
            "zerolinecolor": "white"
           },
           "yaxis": {
            "backgroundcolor": "#E5ECF6",
            "gridcolor": "white",
            "gridwidth": 2,
            "linecolor": "white",
            "showbackground": true,
            "ticks": "",
            "zerolinecolor": "white"
           },
           "zaxis": {
            "backgroundcolor": "#E5ECF6",
            "gridcolor": "white",
            "gridwidth": 2,
            "linecolor": "white",
            "showbackground": true,
            "ticks": "",
            "zerolinecolor": "white"
           }
          },
          "shapedefaults": {
           "line": {
            "color": "#2a3f5f"
           }
          },
          "ternary": {
           "aaxis": {
            "gridcolor": "white",
            "linecolor": "white",
            "ticks": ""
           },
           "baxis": {
            "gridcolor": "white",
            "linecolor": "white",
            "ticks": ""
           },
           "bgcolor": "#E5ECF6",
           "caxis": {
            "gridcolor": "white",
            "linecolor": "white",
            "ticks": ""
           }
          },
          "title": {
           "x": 0.05
          },
          "xaxis": {
           "automargin": true,
           "gridcolor": "white",
           "linecolor": "white",
           "ticks": "",
           "title": {
            "standoff": 15
           },
           "zerolinecolor": "white",
           "zerolinewidth": 2
          },
          "yaxis": {
           "automargin": true,
           "gridcolor": "white",
           "linecolor": "white",
           "ticks": "",
           "title": {
            "standoff": 15
           },
           "zerolinecolor": "white",
           "zerolinewidth": 2
          }
         }
        },
        "title": {
         "text": "Comparing Relationship of Life Expectancy and Quality of Life in Europe"
        },
        "xaxis": {
         "anchor": "y",
         "domain": [
          0,
          1
         ],
         "title": {
          "text": "Life Expectancy"
         }
        },
        "yaxis": {
         "anchor": "x",
         "domain": [
          0,
          1
         ],
         "title": {
          "text": "Quality of Life"
         }
        }
       }
      }
     },
     "metadata": {},
     "output_type": "display_data"
    }
   ],
   "source": [
    "fig = px.scatter(\n",
    "    avgs,\n",
    "    x='healthcare',\n",
    "    y='qol',\n",
    "    color='country',\n",
    "    opacity=1,\n",
    "    labels={'healthcare': 'Life Expectancy', 'qol': 'Quality of Life'},\n",
    "    title='Comparing Relationship of Life Expectancy and Quality of Life in Europe',\n",
    "    hover_data=['country']\n",
    ")\n",
    "\n",
    "fig"
   ]
  },
  {
   "cell_type": "code",
   "execution_count": 155,
   "id": "952004e2",
   "metadata": {},
   "outputs": [
    {
     "data": {
      "application/vnd.plotly.v1+json": {
       "config": {
        "plotlyServerURL": "https://plot.ly"
       },
       "data": [
        {
         "customdata": [
          [
           "Austria"
          ]
         ],
         "hovertemplate": "country=%{customdata[0]}<br>Tertiary Education=%{x}<br>Quality of Life=%{y}<extra></extra>",
         "legendgroup": "Austria",
         "marker": {
          "color": "#636efa",
          "opacity": 1,
          "symbol": "circle"
         },
         "mode": "markers",
         "name": "Austria",
         "orientation": "v",
         "showlegend": true,
         "type": "scatter",
         "x": [
          0.07935691572478416
         ],
         "xaxis": "x",
         "y": [
          1.0410257888600287
         ],
         "yaxis": "y"
        },
        {
         "customdata": [
          [
           "Belgium"
          ]
         ],
         "hovertemplate": "country=%{customdata[0]}<br>Tertiary Education=%{x}<br>Quality of Life=%{y}<extra></extra>",
         "legendgroup": "Belgium",
         "marker": {
          "color": "#EF553B",
          "opacity": 1,
          "symbol": "circle"
         },
         "mode": "markers",
         "name": "Belgium",
         "orientation": "v",
         "showlegend": true,
         "type": "scatter",
         "x": [
          1.13091337669774
         ],
         "xaxis": "x",
         "y": [
          0.6675798740172335
         ],
         "yaxis": "y"
        },
        {
         "customdata": [
          [
           "Bulgaria"
          ]
         ],
         "hovertemplate": "country=%{customdata[0]}<br>Tertiary Education=%{x}<br>Quality of Life=%{y}<extra></extra>",
         "legendgroup": "Bulgaria",
         "marker": {
          "color": "#00cc96",
          "opacity": 1,
          "symbol": "circle"
         },
         "mode": "markers",
         "name": "Bulgaria",
         "orientation": "v",
         "showlegend": true,
         "type": "scatter",
         "x": [
          -0.5072793117960624
         ],
         "xaxis": "x",
         "y": [
          -2.258850248934507
         ],
         "yaxis": "y"
        },
        {
         "customdata": [
          [
           "Croatia"
          ]
         ],
         "hovertemplate": "country=%{customdata[0]}<br>Tertiary Education=%{x}<br>Quality of Life=%{y}<extra></extra>",
         "legendgroup": "Croatia",
         "marker": {
          "color": "#ab63fa",
          "opacity": 1,
          "symbol": "circle"
         },
         "mode": "markers",
         "name": "Croatia",
         "orientation": "v",
         "showlegend": true,
         "type": "scatter",
         "x": [
          -0.8358202090127715
         ],
         "xaxis": "x",
         "y": [
          -0.982850745383271
         ],
         "yaxis": "y"
        },
        {
         "customdata": [
          [
           "Cyprus"
          ]
         ],
         "hovertemplate": "country=%{customdata[0]}<br>Tertiary Education=%{x}<br>Quality of Life=%{y}<extra></extra>",
         "legendgroup": "Cyprus",
         "marker": {
          "color": "#FFA15A",
          "opacity": 1,
          "symbol": "circle"
         },
         "mode": "markers",
         "name": "Cyprus",
         "orientation": "v",
         "showlegend": true,
         "type": "scatter",
         "x": [
          1.3852146953923212
         ],
         "xaxis": "x",
         "y": [
          -0.49763924969495515
         ],
         "yaxis": "y"
        },
        {
         "customdata": [
          [
           "Czechia"
          ]
         ],
         "hovertemplate": "country=%{customdata[0]}<br>Tertiary Education=%{x}<br>Quality of Life=%{y}<extra></extra>",
         "legendgroup": "Czechia",
         "marker": {
          "color": "#19d3f3",
          "opacity": 1,
          "symbol": "circle"
         },
         "mode": "markers",
         "name": "Czechia",
         "orientation": "v",
         "showlegend": true,
         "type": "scatter",
         "x": [
          -0.8837067879766299
         ],
         "xaxis": "x",
         "y": [
          0.3348556007753529
         ],
         "yaxis": "y"
        },
        {
         "customdata": [
          [
           "Denmark"
          ]
         ],
         "hovertemplate": "country=%{customdata[0]}<br>Tertiary Education=%{x}<br>Quality of Life=%{y}<extra></extra>",
         "legendgroup": "Denmark",
         "marker": {
          "color": "#FF6692",
          "opacity": 1,
          "symbol": "circle"
         },
         "mode": "markers",
         "name": "Denmark",
         "orientation": "v",
         "showlegend": true,
         "type": "scatter",
         "x": [
          0.578218171954275
         ],
         "xaxis": "x",
         "y": [
          1.5844736107087918
         ],
         "yaxis": "y"
        },
        {
         "customdata": [
          [
           "Estonia"
          ]
         ],
         "hovertemplate": "country=%{customdata[0]}<br>Tertiary Education=%{x}<br>Quality of Life=%{y}<extra></extra>",
         "legendgroup": "Estonia",
         "marker": {
          "color": "#B6E880",
          "opacity": 1,
          "symbol": "circle"
         },
         "mode": "markers",
         "name": "Estonia",
         "orientation": "v",
         "showlegend": true,
         "type": "scatter",
         "x": [
          0.7058815355731275
         ],
         "xaxis": "x",
         "y": [
          -0.8235218492807682
         ],
         "yaxis": "y"
        },
        {
         "customdata": [
          [
           "Finland"
          ]
         ],
         "hovertemplate": "country=%{customdata[0]}<br>Tertiary Education=%{x}<br>Quality of Life=%{y}<extra></extra>",
         "legendgroup": "Finland",
         "marker": {
          "color": "#FF97FF",
          "opacity": 1,
          "symbol": "circle"
         },
         "mode": "markers",
         "name": "Finland",
         "orientation": "v",
         "showlegend": true,
         "type": "scatter",
         "x": [
          0.9776147995008048
         ],
         "xaxis": "x",
         "y": [
          1.5793834055086775
         ],
         "yaxis": "y"
        },
        {
         "customdata": [
          [
           "France"
          ]
         ],
         "hovertemplate": "country=%{customdata[0]}<br>Tertiary Education=%{x}<br>Quality of Life=%{y}<extra></extra>",
         "legendgroup": "France",
         "marker": {
          "color": "#FECB52",
          "opacity": 1,
          "symbol": "circle"
         },
         "mode": "markers",
         "name": "France",
         "orientation": "v",
         "showlegend": true,
         "type": "scatter",
         "x": [
          0.8672808402607367
         ],
         "xaxis": "x",
         "y": [
          0.2796843444128237
         ],
         "yaxis": "y"
        },
        {
         "customdata": [
          [
           "Germany"
          ]
         ],
         "hovertemplate": "country=%{customdata[0]}<br>Tertiary Education=%{x}<br>Quality of Life=%{y}<extra></extra>",
         "legendgroup": "Germany",
         "marker": {
          "color": "#636efa",
          "opacity": 1,
          "symbol": "circle"
         },
         "mode": "markers",
         "name": "Germany",
         "orientation": "v",
         "showlegend": true,
         "type": "scatter",
         "x": [
          -0.3140923422716305
         ],
         "xaxis": "x",
         "y": [
          0.6408699800639455
         ],
         "yaxis": "y"
        },
        {
         "customdata": [
          [
           "Greece"
          ]
         ],
         "hovertemplate": "country=%{customdata[0]}<br>Tertiary Education=%{x}<br>Quality of Life=%{y}<extra></extra>",
         "legendgroup": "Greece",
         "marker": {
          "color": "#EF553B",
          "opacity": 1,
          "symbol": "circle"
         },
         "mode": "markers",
         "name": "Greece",
         "orientation": "v",
         "showlegend": true,
         "type": "scatter",
         "x": [
          -0.11362497209102317
         ],
         "xaxis": "x",
         "y": [
          -1.2380178060599691
         ],
         "yaxis": "y"
        },
        {
         "customdata": [
          [
           "Hungary"
          ]
         ],
         "hovertemplate": "country=%{customdata[0]}<br>Tertiary Education=%{x}<br>Quality of Life=%{y}<extra></extra>",
         "legendgroup": "Hungary",
         "marker": {
          "color": "#00cc96",
          "opacity": 1,
          "symbol": "circle"
         },
         "mode": "markers",
         "name": "Hungary",
         "orientation": "v",
         "showlegend": true,
         "type": "scatter",
         "x": [
          -0.7507112999335367
         ],
         "xaxis": "x",
         "y": [
          -1.2732113753467809
         ],
         "yaxis": "y"
        },
        {
         "customdata": [
          [
           "Ireland"
          ]
         ],
         "hovertemplate": "country=%{customdata[0]}<br>Tertiary Education=%{x}<br>Quality of Life=%{y}<extra></extra>",
         "legendgroup": "Ireland",
         "marker": {
          "color": "#ab63fa",
          "opacity": 1,
          "symbol": "circle"
         },
         "mode": "markers",
         "name": "Ireland",
         "orientation": "v",
         "showlegend": true,
         "type": "scatter",
         "x": [
          1.7306748335705648
         ],
         "xaxis": "x",
         "y": [
          0.8120760216333819
         ],
         "yaxis": "y"
        },
        {
         "customdata": [
          [
           "Italy"
          ]
         ],
         "hovertemplate": "country=%{customdata[0]}<br>Tertiary Education=%{x}<br>Quality of Life=%{y}<extra></extra>",
         "legendgroup": "Italy",
         "marker": {
          "color": "#FFA15A",
          "opacity": 1,
          "symbol": "circle"
         },
         "mode": "markers",
         "name": "Italy",
         "orientation": "v",
         "showlegend": true,
         "type": "scatter",
         "x": [
          -1.3523184921839835
         ],
         "xaxis": "x",
         "y": [
          -0.26983888364252767
         ],
         "yaxis": "y"
        },
        {
         "customdata": [
          [
           "Latvia"
          ]
         ],
         "hovertemplate": "country=%{customdata[0]}<br>Tertiary Education=%{x}<br>Quality of Life=%{y}<extra></extra>",
         "legendgroup": "Latvia",
         "marker": {
          "color": "#19d3f3",
          "opacity": 1,
          "symbol": "circle"
         },
         "mode": "markers",
         "name": "Latvia",
         "orientation": "v",
         "showlegend": true,
         "type": "scatter",
         "x": [
          0.22373443859654638
         ],
         "xaxis": "x",
         "y": [
          -1.0143771775904307
         ],
         "yaxis": "y"
        },
        {
         "customdata": [
          [
           "Lithuania"
          ]
         ],
         "hovertemplate": "country=%{customdata[0]}<br>Tertiary Education=%{x}<br>Quality of Life=%{y}<extra></extra>",
         "legendgroup": "Lithuania",
         "marker": {
          "color": "#FF6692",
          "opacity": 1,
          "symbol": "circle"
         },
         "mode": "markers",
         "name": "Lithuania",
         "orientation": "v",
         "showlegend": true,
         "type": "scatter",
         "x": [
          0.9656175195462623
         ],
         "xaxis": "x",
         "y": [
          -0.5397839594163318
         ],
         "yaxis": "y"
        },
        {
         "customdata": [
          [
           "Luxembourg"
          ]
         ],
         "hovertemplate": "country=%{customdata[0]}<br>Tertiary Education=%{x}<br>Quality of Life=%{y}<extra></extra>",
         "legendgroup": "Luxembourg",
         "marker": {
          "color": "#B6E880",
          "opacity": 1,
          "symbol": "circle"
         },
         "mode": "markers",
         "name": "Luxembourg",
         "orientation": "v",
         "showlegend": true,
         "type": "scatter",
         "x": [
          1.2745731135893161
         ],
         "xaxis": "x",
         "y": [
          0.8841051618844618
         ],
         "yaxis": "y"
        },
        {
         "customdata": [
          [
           "Malta"
          ]
         ],
         "hovertemplate": "country=%{customdata[0]}<br>Tertiary Education=%{x}<br>Quality of Life=%{y}<extra></extra>",
         "legendgroup": "Malta",
         "marker": {
          "color": "#FF97FF",
          "opacity": 1,
          "symbol": "circle"
         },
         "mode": "markers",
         "name": "Malta",
         "orientation": "v",
         "showlegend": true,
         "type": "scatter",
         "x": [
          -0.5207121637109778
         ],
         "xaxis": "x",
         "y": [
          -0.005859747296814617
         ],
         "yaxis": "y"
        },
        {
         "customdata": [
          [
           "Netherlands"
          ]
         ],
         "hovertemplate": "country=%{customdata[0]}<br>Tertiary Education=%{x}<br>Quality of Life=%{y}<extra></extra>",
         "legendgroup": "Netherlands",
         "marker": {
          "color": "#FECB52",
          "opacity": 1,
          "symbol": "circle"
         },
         "mode": "markers",
         "name": "Netherlands",
         "orientation": "v",
         "showlegend": true,
         "type": "scatter",
         "x": [
          0.8284178564763632
         ],
         "xaxis": "x",
         "y": [
          1.3486821698260776
         ],
         "yaxis": "y"
        },
        {
         "customdata": [
          [
           "Poland"
          ]
         ],
         "hovertemplate": "country=%{customdata[0]}<br>Tertiary Education=%{x}<br>Quality of Life=%{y}<extra></extra>",
         "legendgroup": "Poland",
         "marker": {
          "color": "#636efa",
          "opacity": 1,
          "symbol": "circle"
         },
         "mode": "markers",
         "name": "Poland",
         "orientation": "v",
         "showlegend": true,
         "type": "scatter",
         "x": [
          -0.23964768204087808
         ],
         "xaxis": "x",
         "y": [
          -0.5289467483451206
         ],
         "yaxis": "y"
        },
        {
         "customdata": [
          [
           "Portugal"
          ]
         ],
         "hovertemplate": "country=%{customdata[0]}<br>Tertiary Education=%{x}<br>Quality of Life=%{y}<extra></extra>",
         "legendgroup": "Portugal",
         "marker": {
          "color": "#EF553B",
          "opacity": 1,
          "symbol": "circle"
         },
         "mode": "markers",
         "name": "Portugal",
         "orientation": "v",
         "showlegend": true,
         "type": "scatter",
         "x": [
          -0.5358882101492027
         ],
         "xaxis": "x",
         "y": [
          -1.2069839743560462
         ],
         "yaxis": "y"
        },
        {
         "customdata": [
          [
           "Romania"
          ]
         ],
         "hovertemplate": "country=%{customdata[0]}<br>Tertiary Education=%{x}<br>Quality of Life=%{y}<extra></extra>",
         "legendgroup": "Romania",
         "marker": {
          "color": "#00cc96",
          "opacity": 1,
          "symbol": "circle"
         },
         "mode": "markers",
         "name": "Romania",
         "orientation": "v",
         "showlegend": true,
         "type": "scatter",
         "x": [
          -1.5087958358646008
         ],
         "xaxis": "x",
         "y": [
          -0.8528589459179862
         ],
         "yaxis": "y"
        },
        {
         "customdata": [
          [
           "Slovakia"
          ]
         ],
         "hovertemplate": "country=%{customdata[0]}<br>Tertiary Education=%{x}<br>Quality of Life=%{y}<extra></extra>",
         "legendgroup": "Slovakia",
         "marker": {
          "color": "#ab63fa",
          "opacity": 1,
          "symbol": "circle"
         },
         "mode": "markers",
         "name": "Slovakia",
         "orientation": "v",
         "showlegend": true,
         "type": "scatter",
         "x": [
          -0.7871133032144141
         ],
         "xaxis": "x",
         "y": [
          -0.3591090415068979
         ],
         "yaxis": "y"
        },
        {
         "customdata": [
          [
           "Slovenia"
          ]
         ],
         "hovertemplate": "country=%{customdata[0]}<br>Tertiary Education=%{x}<br>Quality of Life=%{y}<extra></extra>",
         "legendgroup": "Slovenia",
         "marker": {
          "color": "#FFA15A",
          "opacity": 1,
          "symbol": "circle"
         },
         "mode": "markers",
         "name": "Slovenia",
         "orientation": "v",
         "showlegend": true,
         "type": "scatter",
         "x": [
          0.06889774858492627
         ],
         "xaxis": "x",
         "y": [
          -0.37465332405348367
         ],
         "yaxis": "y"
        },
        {
         "customdata": [
          [
           "Spain"
          ]
         ],
         "hovertemplate": "country=%{customdata[0]}<br>Tertiary Education=%{x}<br>Quality of Life=%{y}<extra></extra>",
         "legendgroup": "Spain",
         "marker": {
          "color": "#19d3f3",
          "opacity": 1,
          "symbol": "circle"
         },
         "mode": "markers",
         "name": "Spain",
         "orientation": "v",
         "showlegend": true,
         "type": "scatter",
         "x": [
          0.7275176558330293
         ],
         "xaxis": "x",
         "y": [
          0.007330999512083541
         ],
         "yaxis": "y"
        },
        {
         "customdata": [
          [
           "Sweden"
          ]
         ],
         "hovertemplate": "country=%{customdata[0]}<br>Tertiary Education=%{x}<br>Quality of Life=%{y}<extra></extra>",
         "legendgroup": "Sweden",
         "marker": {
          "color": "#FF6692",
          "opacity": 1,
          "symbol": "circle"
         },
         "mode": "markers",
         "name": "Sweden",
         "orientation": "v",
         "showlegend": true,
         "type": "scatter",
         "x": [
          1.0629287902886646
         ],
         "xaxis": "x",
         "y": [
          1.2555259413250608
         ],
         "yaxis": "y"
        }
       ],
       "layout": {
        "legend": {
         "title": {
          "text": "country"
         },
         "tracegroupgap": 0
        },
        "template": {
         "data": {
          "bar": [
           {
            "error_x": {
             "color": "#2a3f5f"
            },
            "error_y": {
             "color": "#2a3f5f"
            },
            "marker": {
             "line": {
              "color": "#E5ECF6",
              "width": 0.5
             },
             "pattern": {
              "fillmode": "overlay",
              "size": 10,
              "solidity": 0.2
             }
            },
            "type": "bar"
           }
          ],
          "barpolar": [
           {
            "marker": {
             "line": {
              "color": "#E5ECF6",
              "width": 0.5
             },
             "pattern": {
              "fillmode": "overlay",
              "size": 10,
              "solidity": 0.2
             }
            },
            "type": "barpolar"
           }
          ],
          "carpet": [
           {
            "aaxis": {
             "endlinecolor": "#2a3f5f",
             "gridcolor": "white",
             "linecolor": "white",
             "minorgridcolor": "white",
             "startlinecolor": "#2a3f5f"
            },
            "baxis": {
             "endlinecolor": "#2a3f5f",
             "gridcolor": "white",
             "linecolor": "white",
             "minorgridcolor": "white",
             "startlinecolor": "#2a3f5f"
            },
            "type": "carpet"
           }
          ],
          "choropleth": [
           {
            "colorbar": {
             "outlinewidth": 0,
             "ticks": ""
            },
            "type": "choropleth"
           }
          ],
          "contour": [
           {
            "colorbar": {
             "outlinewidth": 0,
             "ticks": ""
            },
            "colorscale": [
             [
              0,
              "#0d0887"
             ],
             [
              0.1111111111111111,
              "#46039f"
             ],
             [
              0.2222222222222222,
              "#7201a8"
             ],
             [
              0.3333333333333333,
              "#9c179e"
             ],
             [
              0.4444444444444444,
              "#bd3786"
             ],
             [
              0.5555555555555556,
              "#d8576b"
             ],
             [
              0.6666666666666666,
              "#ed7953"
             ],
             [
              0.7777777777777778,
              "#fb9f3a"
             ],
             [
              0.8888888888888888,
              "#fdca26"
             ],
             [
              1,
              "#f0f921"
             ]
            ],
            "type": "contour"
           }
          ],
          "contourcarpet": [
           {
            "colorbar": {
             "outlinewidth": 0,
             "ticks": ""
            },
            "type": "contourcarpet"
           }
          ],
          "heatmap": [
           {
            "colorbar": {
             "outlinewidth": 0,
             "ticks": ""
            },
            "colorscale": [
             [
              0,
              "#0d0887"
             ],
             [
              0.1111111111111111,
              "#46039f"
             ],
             [
              0.2222222222222222,
              "#7201a8"
             ],
             [
              0.3333333333333333,
              "#9c179e"
             ],
             [
              0.4444444444444444,
              "#bd3786"
             ],
             [
              0.5555555555555556,
              "#d8576b"
             ],
             [
              0.6666666666666666,
              "#ed7953"
             ],
             [
              0.7777777777777778,
              "#fb9f3a"
             ],
             [
              0.8888888888888888,
              "#fdca26"
             ],
             [
              1,
              "#f0f921"
             ]
            ],
            "type": "heatmap"
           }
          ],
          "heatmapgl": [
           {
            "colorbar": {
             "outlinewidth": 0,
             "ticks": ""
            },
            "colorscale": [
             [
              0,
              "#0d0887"
             ],
             [
              0.1111111111111111,
              "#46039f"
             ],
             [
              0.2222222222222222,
              "#7201a8"
             ],
             [
              0.3333333333333333,
              "#9c179e"
             ],
             [
              0.4444444444444444,
              "#bd3786"
             ],
             [
              0.5555555555555556,
              "#d8576b"
             ],
             [
              0.6666666666666666,
              "#ed7953"
             ],
             [
              0.7777777777777778,
              "#fb9f3a"
             ],
             [
              0.8888888888888888,
              "#fdca26"
             ],
             [
              1,
              "#f0f921"
             ]
            ],
            "type": "heatmapgl"
           }
          ],
          "histogram": [
           {
            "marker": {
             "pattern": {
              "fillmode": "overlay",
              "size": 10,
              "solidity": 0.2
             }
            },
            "type": "histogram"
           }
          ],
          "histogram2d": [
           {
            "colorbar": {
             "outlinewidth": 0,
             "ticks": ""
            },
            "colorscale": [
             [
              0,
              "#0d0887"
             ],
             [
              0.1111111111111111,
              "#46039f"
             ],
             [
              0.2222222222222222,
              "#7201a8"
             ],
             [
              0.3333333333333333,
              "#9c179e"
             ],
             [
              0.4444444444444444,
              "#bd3786"
             ],
             [
              0.5555555555555556,
              "#d8576b"
             ],
             [
              0.6666666666666666,
              "#ed7953"
             ],
             [
              0.7777777777777778,
              "#fb9f3a"
             ],
             [
              0.8888888888888888,
              "#fdca26"
             ],
             [
              1,
              "#f0f921"
             ]
            ],
            "type": "histogram2d"
           }
          ],
          "histogram2dcontour": [
           {
            "colorbar": {
             "outlinewidth": 0,
             "ticks": ""
            },
            "colorscale": [
             [
              0,
              "#0d0887"
             ],
             [
              0.1111111111111111,
              "#46039f"
             ],
             [
              0.2222222222222222,
              "#7201a8"
             ],
             [
              0.3333333333333333,
              "#9c179e"
             ],
             [
              0.4444444444444444,
              "#bd3786"
             ],
             [
              0.5555555555555556,
              "#d8576b"
             ],
             [
              0.6666666666666666,
              "#ed7953"
             ],
             [
              0.7777777777777778,
              "#fb9f3a"
             ],
             [
              0.8888888888888888,
              "#fdca26"
             ],
             [
              1,
              "#f0f921"
             ]
            ],
            "type": "histogram2dcontour"
           }
          ],
          "mesh3d": [
           {
            "colorbar": {
             "outlinewidth": 0,
             "ticks": ""
            },
            "type": "mesh3d"
           }
          ],
          "parcoords": [
           {
            "line": {
             "colorbar": {
              "outlinewidth": 0,
              "ticks": ""
             }
            },
            "type": "parcoords"
           }
          ],
          "pie": [
           {
            "automargin": true,
            "type": "pie"
           }
          ],
          "scatter": [
           {
            "fillpattern": {
             "fillmode": "overlay",
             "size": 10,
             "solidity": 0.2
            },
            "type": "scatter"
           }
          ],
          "scatter3d": [
           {
            "line": {
             "colorbar": {
              "outlinewidth": 0,
              "ticks": ""
             }
            },
            "marker": {
             "colorbar": {
              "outlinewidth": 0,
              "ticks": ""
             }
            },
            "type": "scatter3d"
           }
          ],
          "scattercarpet": [
           {
            "marker": {
             "colorbar": {
              "outlinewidth": 0,
              "ticks": ""
             }
            },
            "type": "scattercarpet"
           }
          ],
          "scattergeo": [
           {
            "marker": {
             "colorbar": {
              "outlinewidth": 0,
              "ticks": ""
             }
            },
            "type": "scattergeo"
           }
          ],
          "scattergl": [
           {
            "marker": {
             "colorbar": {
              "outlinewidth": 0,
              "ticks": ""
             }
            },
            "type": "scattergl"
           }
          ],
          "scattermapbox": [
           {
            "marker": {
             "colorbar": {
              "outlinewidth": 0,
              "ticks": ""
             }
            },
            "type": "scattermapbox"
           }
          ],
          "scatterpolar": [
           {
            "marker": {
             "colorbar": {
              "outlinewidth": 0,
              "ticks": ""
             }
            },
            "type": "scatterpolar"
           }
          ],
          "scatterpolargl": [
           {
            "marker": {
             "colorbar": {
              "outlinewidth": 0,
              "ticks": ""
             }
            },
            "type": "scatterpolargl"
           }
          ],
          "scatterternary": [
           {
            "marker": {
             "colorbar": {
              "outlinewidth": 0,
              "ticks": ""
             }
            },
            "type": "scatterternary"
           }
          ],
          "surface": [
           {
            "colorbar": {
             "outlinewidth": 0,
             "ticks": ""
            },
            "colorscale": [
             [
              0,
              "#0d0887"
             ],
             [
              0.1111111111111111,
              "#46039f"
             ],
             [
              0.2222222222222222,
              "#7201a8"
             ],
             [
              0.3333333333333333,
              "#9c179e"
             ],
             [
              0.4444444444444444,
              "#bd3786"
             ],
             [
              0.5555555555555556,
              "#d8576b"
             ],
             [
              0.6666666666666666,
              "#ed7953"
             ],
             [
              0.7777777777777778,
              "#fb9f3a"
             ],
             [
              0.8888888888888888,
              "#fdca26"
             ],
             [
              1,
              "#f0f921"
             ]
            ],
            "type": "surface"
           }
          ],
          "table": [
           {
            "cells": {
             "fill": {
              "color": "#EBF0F8"
             },
             "line": {
              "color": "white"
             }
            },
            "header": {
             "fill": {
              "color": "#C8D4E3"
             },
             "line": {
              "color": "white"
             }
            },
            "type": "table"
           }
          ]
         },
         "layout": {
          "annotationdefaults": {
           "arrowcolor": "#2a3f5f",
           "arrowhead": 0,
           "arrowwidth": 1
          },
          "autotypenumbers": "strict",
          "coloraxis": {
           "colorbar": {
            "outlinewidth": 0,
            "ticks": ""
           }
          },
          "colorscale": {
           "diverging": [
            [
             0,
             "#8e0152"
            ],
            [
             0.1,
             "#c51b7d"
            ],
            [
             0.2,
             "#de77ae"
            ],
            [
             0.3,
             "#f1b6da"
            ],
            [
             0.4,
             "#fde0ef"
            ],
            [
             0.5,
             "#f7f7f7"
            ],
            [
             0.6,
             "#e6f5d0"
            ],
            [
             0.7,
             "#b8e186"
            ],
            [
             0.8,
             "#7fbc41"
            ],
            [
             0.9,
             "#4d9221"
            ],
            [
             1,
             "#276419"
            ]
           ],
           "sequential": [
            [
             0,
             "#0d0887"
            ],
            [
             0.1111111111111111,
             "#46039f"
            ],
            [
             0.2222222222222222,
             "#7201a8"
            ],
            [
             0.3333333333333333,
             "#9c179e"
            ],
            [
             0.4444444444444444,
             "#bd3786"
            ],
            [
             0.5555555555555556,
             "#d8576b"
            ],
            [
             0.6666666666666666,
             "#ed7953"
            ],
            [
             0.7777777777777778,
             "#fb9f3a"
            ],
            [
             0.8888888888888888,
             "#fdca26"
            ],
            [
             1,
             "#f0f921"
            ]
           ],
           "sequentialminus": [
            [
             0,
             "#0d0887"
            ],
            [
             0.1111111111111111,
             "#46039f"
            ],
            [
             0.2222222222222222,
             "#7201a8"
            ],
            [
             0.3333333333333333,
             "#9c179e"
            ],
            [
             0.4444444444444444,
             "#bd3786"
            ],
            [
             0.5555555555555556,
             "#d8576b"
            ],
            [
             0.6666666666666666,
             "#ed7953"
            ],
            [
             0.7777777777777778,
             "#fb9f3a"
            ],
            [
             0.8888888888888888,
             "#fdca26"
            ],
            [
             1,
             "#f0f921"
            ]
           ]
          },
          "colorway": [
           "#636efa",
           "#EF553B",
           "#00cc96",
           "#ab63fa",
           "#FFA15A",
           "#19d3f3",
           "#FF6692",
           "#B6E880",
           "#FF97FF",
           "#FECB52"
          ],
          "font": {
           "color": "#2a3f5f"
          },
          "geo": {
           "bgcolor": "white",
           "lakecolor": "white",
           "landcolor": "#E5ECF6",
           "showlakes": true,
           "showland": true,
           "subunitcolor": "white"
          },
          "hoverlabel": {
           "align": "left"
          },
          "hovermode": "closest",
          "mapbox": {
           "style": "light"
          },
          "paper_bgcolor": "white",
          "plot_bgcolor": "#E5ECF6",
          "polar": {
           "angularaxis": {
            "gridcolor": "white",
            "linecolor": "white",
            "ticks": ""
           },
           "bgcolor": "#E5ECF6",
           "radialaxis": {
            "gridcolor": "white",
            "linecolor": "white",
            "ticks": ""
           }
          },
          "scene": {
           "xaxis": {
            "backgroundcolor": "#E5ECF6",
            "gridcolor": "white",
            "gridwidth": 2,
            "linecolor": "white",
            "showbackground": true,
            "ticks": "",
            "zerolinecolor": "white"
           },
           "yaxis": {
            "backgroundcolor": "#E5ECF6",
            "gridcolor": "white",
            "gridwidth": 2,
            "linecolor": "white",
            "showbackground": true,
            "ticks": "",
            "zerolinecolor": "white"
           },
           "zaxis": {
            "backgroundcolor": "#E5ECF6",
            "gridcolor": "white",
            "gridwidth": 2,
            "linecolor": "white",
            "showbackground": true,
            "ticks": "",
            "zerolinecolor": "white"
           }
          },
          "shapedefaults": {
           "line": {
            "color": "#2a3f5f"
           }
          },
          "ternary": {
           "aaxis": {
            "gridcolor": "white",
            "linecolor": "white",
            "ticks": ""
           },
           "baxis": {
            "gridcolor": "white",
            "linecolor": "white",
            "ticks": ""
           },
           "bgcolor": "#E5ECF6",
           "caxis": {
            "gridcolor": "white",
            "linecolor": "white",
            "ticks": ""
           }
          },
          "title": {
           "x": 0.05
          },
          "xaxis": {
           "automargin": true,
           "gridcolor": "white",
           "linecolor": "white",
           "ticks": "",
           "title": {
            "standoff": 15
           },
           "zerolinecolor": "white",
           "zerolinewidth": 2
          },
          "yaxis": {
           "automargin": true,
           "gridcolor": "white",
           "linecolor": "white",
           "ticks": "",
           "title": {
            "standoff": 15
           },
           "zerolinecolor": "white",
           "zerolinewidth": 2
          }
         }
        },
        "title": {
         "text": "Comparing Relationship of Tertiary Education and Quality of Life in Europe"
        },
        "xaxis": {
         "anchor": "y",
         "domain": [
          0,
          1
         ],
         "title": {
          "text": "Tertiary Education"
         }
        },
        "yaxis": {
         "anchor": "x",
         "domain": [
          0,
          1
         ],
         "title": {
          "text": "Quality of Life"
         }
        }
       }
      }
     },
     "metadata": {},
     "output_type": "display_data"
    }
   ],
   "source": [
    "fig = px.scatter(\n",
    "    avgs,\n",
    "    x='education',\n",
    "    y='qol',\n",
    "    color='country',\n",
    "    opacity=1,\n",
    "    labels={'education': 'Tertiary Education', 'qol': 'Quality of Life'},\n",
    "    title='Comparing Relationship of Tertiary Education and Quality of Life in Europe',\n",
    "    hover_data=['country']\n",
    ")\n",
    "\n",
    "fig"
   ]
  },
  {
   "cell_type": "code",
   "execution_count": 156,
   "id": "cb277d75",
   "metadata": {},
   "outputs": [
    {
     "data": {
      "application/vnd.plotly.v1+json": {
       "config": {
        "plotlyServerURL": "https://plot.ly"
       },
       "data": [
        {
         "customdata": [
          [
           "Austria"
          ],
          [
           "Austria"
          ],
          [
           "Austria"
          ],
          [
           "Austria"
          ],
          [
           "Austria"
          ],
          [
           "Austria"
          ],
          [
           "Austria"
          ],
          [
           "Austria"
          ],
          [
           "Austria"
          ],
          [
           "Austria"
          ],
          [
           "Austria"
          ],
          [
           "Austria"
          ]
         ],
         "hovertemplate": "country=%{customdata[0]}<br>Controlled Drug Crime=%{x}<br>Quality of Life=%{y}<extra></extra>",
         "legendgroup": "Austria",
         "marker": {
          "color": "#636efa",
          "opacity": 1,
          "symbol": "circle"
         },
         "mode": "markers",
         "name": "Austria",
         "orientation": "v",
         "showlegend": true,
         "type": "scatter",
         "x": [
          -0.44143324682081264,
          -0.44647089828964365,
          -0.06115162336611681,
          -0.031643198247176305,
          0.028136932516285174,
          0.07629993368041207,
          0.1749768400274537,
          0.15174258082878456,
          0.1912805120538523,
          0.14575846150823377,
          0.06448435114442659,
          0.06098852633726809
         ],
         "xaxis": "x",
         "y": [
          1.07512469036187,
          1.261656080920897,
          1.1506567675248562,
          1.0396574541288153,
          0.9332557454296511,
          0.7848187937876085,
          0.9595277722689514,
          1.1000831158592048,
          1.163135980273523,
          1.1289823453824337,
          0.991054204476111,
          0.9043565159064223
         ],
         "yaxis": "y"
        },
        {
         "customdata": [
          [
           "Belgium"
          ],
          [
           "Belgium"
          ],
          [
           "Belgium"
          ],
          [
           "Belgium"
          ],
          [
           "Belgium"
          ],
          [
           "Belgium"
          ],
          [
           "Belgium"
          ],
          [
           "Belgium"
          ],
          [
           "Belgium"
          ],
          [
           "Belgium"
          ],
          [
           "Belgium"
          ],
          [
           "Belgium"
          ]
         ],
         "hovertemplate": "country=%{customdata[0]}<br>Controlled Drug Crime=%{x}<br>Quality of Life=%{y}<extra></extra>",
         "legendgroup": "Belgium",
         "marker": {
          "color": "#EF553B",
          "opacity": 1,
          "symbol": "circle"
         },
         "mode": "markers",
         "name": "Belgium",
         "orientation": "v",
         "showlegend": true,
         "type": "scatter",
         "x": [
          -0.26580239788474924,
          -0.30382903366916764,
          -0.3025314567756809,
          0.3647741755182904,
          0.3269917895020577,
          0.37162843463800294,
          0.4124334115355342,
          0.4358203268393194,
          0.4962568788547801,
          0.46798496818727997,
          0.38851219986384267,
          0.4074720881192612
         ],
         "xaxis": "x",
         "y": [
          0.9253741373778621,
          0.7335883414509734,
          0.7138843213214991,
          0.6941803011920248,
          0.6836714904563049,
          0.6337546394616352,
          0.681044287772374,
          0.6757898824045148,
          0.5982874032285804,
          0.5588793629696307,
          0.5207849240526462,
          0.5917193965187557
         ],
         "yaxis": "y"
        },
        {
         "customdata": [
          [
           "Bulgaria"
          ],
          [
           "Bulgaria"
          ],
          [
           "Bulgaria"
          ],
          [
           "Bulgaria"
          ],
          [
           "Bulgaria"
          ],
          [
           "Bulgaria"
          ],
          [
           "Bulgaria"
          ],
          [
           "Bulgaria"
          ],
          [
           "Bulgaria"
          ],
          [
           "Bulgaria"
          ],
          [
           "Bulgaria"
          ],
          [
           "Bulgaria"
          ]
         ],
         "hovertemplate": "country=%{customdata[0]}<br>Controlled Drug Crime=%{x}<br>Quality of Life=%{y}<extra></extra>",
         "legendgroup": "Bulgaria",
         "marker": {
          "color": "#00cc96",
          "opacity": 1,
          "symbol": "circle"
         },
         "mode": "markers",
         "name": "Bulgaria",
         "orientation": "v",
         "showlegend": true,
         "type": "scatter",
         "x": [
          -0.4332050827550553,
          -0.4316632560933828,
          -0.4302588199263147,
          -0.4274041507606438,
          -0.41563436505619317,
          -0.4045210006037417,
          -0.4006893323653278,
          -0.3923390434154776,
          -0.39334657370924375,
          -0.40181898754318685,
          -0.4018342531536985,
          -0.3950868533075672
         ],
         "xaxis": "x",
         "y": [
          -3.3096765891172453,
          -3.1888252656564666,
          -3.033163506633616,
          -2.8775017476107654,
          -2.878815348952731,
          -2.225955481996133,
          -1.9382767881058025,
          -1.8358158834325335,
          -1.7162781613137197,
          -1.5008475412314628,
          -1.362919400325139,
          -1.2381272728384658
         ],
         "yaxis": "y"
        },
        {
         "customdata": [
          [
           "Croatia"
          ],
          [
           "Croatia"
          ],
          [
           "Croatia"
          ],
          [
           "Croatia"
          ],
          [
           "Croatia"
          ],
          [
           "Croatia"
          ],
          [
           "Croatia"
          ],
          [
           "Croatia"
          ],
          [
           "Croatia"
          ],
          [
           "Croatia"
          ],
          [
           "Croatia"
          ],
          [
           "Croatia"
          ]
         ],
         "hovertemplate": "country=%{customdata[0]}<br>Controlled Drug Crime=%{x}<br>Quality of Life=%{y}<extra></extra>",
         "legendgroup": "Croatia",
         "marker": {
          "color": "#ab63fa",
          "opacity": 1,
          "symbol": "circle"
         },
         "mode": "markers",
         "name": "Croatia",
         "orientation": "v",
         "showlegend": true,
         "type": "scatter",
         "x": [
          -0.35828146636407754,
          -0.3654868345255571,
          -0.43589183020509853,
          -0.4355254555528199,
          -0.43346459813375265,
          -0.29950886589438225,
          -0.29654733745513007,
          -0.3058898910882349,
          -0.3059051566987465,
          -0.33616159673275586,
          -0.3402069835183323,
          -0.3366348306586157
         ],
         "xaxis": "x",
         "y": [
          -1.0318918621499635,
          -0.981975011155295,
          -0.9176085453990103,
          -0.8532420796427256,
          -1.209228043315236,
          -1.465380304998408,
          -1.428599467423389,
          -1.282789718465275,
          -1.186896820501832,
          -0.6916691145810335,
          -0.3724639884835421,
          -0.3724639884835421
         ],
         "yaxis": "y"
        },
        {
         "customdata": [
          [
           "Cyprus"
          ],
          [
           "Cyprus"
          ],
          [
           "Cyprus"
          ],
          [
           "Cyprus"
          ],
          [
           "Cyprus"
          ],
          [
           "Cyprus"
          ],
          [
           "Cyprus"
          ],
          [
           "Cyprus"
          ],
          [
           "Cyprus"
          ],
          [
           "Cyprus"
          ],
          [
           "Cyprus"
          ],
          [
           "Cyprus"
          ]
         ],
         "hovertemplate": "country=%{customdata[0]}<br>Controlled Drug Crime=%{x}<br>Quality of Life=%{y}<extra></extra>",
         "legendgroup": "Cyprus",
         "marker": {
          "color": "#FFA15A",
          "opacity": 1,
          "symbol": "circle"
         },
         "mode": "markers",
         "name": "Cyprus",
         "orientation": "v",
         "showlegend": true,
         "type": "scatter",
         "x": [
          -0.46256085176887973,
          -0.46112588438078844,
          -0.4616449151381832,
          -0.460362603855208,
          -0.4626524454319494,
          -0.4634767883995763,
          -0.4624997893268333,
          -0.45941613600348824,
          -0.46109535315976524,
          -0.4639347567149245,
          -0.4640568815990174,
          -0.4612022124333465
         ],
         "xaxis": "x",
         "y": [
          0.00979400202826856,
          0.0754740691265175,
          -0.4348600522268787,
          -0.9451941735802748,
          -1.133039165481267,
          -1.034519064833893,
          -0.8493012756168317,
          -0.4762384944987754,
          -0.3278015428567329,
          -0.24373105697097389,
          -0.24635825965490357,
          -0.3658959817737173
         ],
         "yaxis": "y"
        },
        {
         "customdata": [
          [
           "Czechia"
          ],
          [
           "Czechia"
          ],
          [
           "Czechia"
          ],
          [
           "Czechia"
          ],
          [
           "Czechia"
          ],
          [
           "Czechia"
          ],
          [
           "Czechia"
          ],
          [
           "Czechia"
          ],
          [
           "Czechia"
          ],
          [
           "Czechia"
          ],
          [
           "Czechia"
          ],
          [
           "Czechia"
          ]
         ],
         "hovertemplate": "country=%{customdata[0]}<br>Controlled Drug Crime=%{x}<br>Quality of Life=%{y}<extra></extra>",
         "legendgroup": "Czechia",
         "marker": {
          "color": "#19d3f3",
          "opacity": 1,
          "symbol": "circle"
         },
         "mode": "markers",
         "name": "Czechia",
         "orientation": "v",
         "showlegend": true,
         "type": "scatter",
         "x": [
          -0.4213589689980466,
          -0.41862642471646855,
          -0.3987353342198418,
          -0.3914078411742694,
          -0.39214059047882666,
          -0.3918658094896177,
          -0.3913773099532462,
          -0.39342290176180184,
          -0.40328448615230134,
          -0.41287128955359187,
          -0.41279496150103384,
          -0.4127338990589874
         ],
         "xaxis": "x",
         "y": [
          -0.06376767312177058,
          -0.15571976705931978,
          -0.014507622798084152,
          0.12670452146315145,
          0.2462422435819652,
          0.26331906102750985,
          0.3973063979079386,
          0.5825241871250012,
          0.6600266663009343,
          0.7309611387670438,
          0.6718490783786196,
          0.5733289777312456
         ],
         "yaxis": "y"
        },
        {
         "customdata": [
          [
           "Denmark"
          ],
          [
           "Denmark"
          ],
          [
           "Denmark"
          ],
          [
           "Denmark"
          ],
          [
           "Denmark"
          ],
          [
           "Denmark"
          ],
          [
           "Denmark"
          ],
          [
           "Denmark"
          ],
          [
           "Denmark"
          ],
          [
           "Denmark"
          ],
          [
           "Denmark"
          ],
          [
           "Denmark"
          ]
         ],
         "hovertemplate": "country=%{customdata[0]}<br>Controlled Drug Crime=%{x}<br>Quality of Life=%{y}<extra></extra>",
         "legendgroup": "Denmark",
         "marker": {
          "color": "#FF6692",
          "opacity": 1,
          "symbol": "circle"
         },
         "mode": "markers",
         "name": "Denmark",
         "orientation": "v",
         "showlegend": true,
         "type": "scatter",
         "x": [
          -0.1246107662628761,
          -0.12358797035859828,
          -0.08327149299743848,
          -0.047992667105109715,
          -0.09806386958318776,
          -0.11531400946130611,
          -0.05423630180435786,
          -0.016285994072497485,
          0.026213465591822423,
          -0.0002418374247962558,
          -0.03924547228195766,
          0.0004909118797609839
         ],
         "xaxis": "x",
         "y": [
          1.901379934457844,
          1.6872629157175514,
          1.578234004334458,
          1.4692050929513647,
          1.4678914916093995,
          1.46263708624154,
          1.5059859305263839,
          1.565097990914808,
          1.6255236526451975,
          1.5913700177541081,
          1.612387639225548,
          1.5467075721272991
         ],
         "yaxis": "y"
        },
        {
         "customdata": [
          [
           "Estonia"
          ],
          [
           "Estonia"
          ],
          [
           "Estonia"
          ],
          [
           "Estonia"
          ],
          [
           "Estonia"
          ],
          [
           "Estonia"
          ],
          [
           "Estonia"
          ],
          [
           "Estonia"
          ],
          [
           "Estonia"
          ],
          [
           "Estonia"
          ],
          [
           "Estonia"
          ],
          [
           "Estonia"
          ]
         ],
         "hovertemplate": "country=%{customdata[0]}<br>Controlled Drug Crime=%{x}<br>Quality of Life=%{y}<extra></extra>",
         "legendgroup": "Estonia",
         "marker": {
          "color": "#B6E880",
          "opacity": 1,
          "symbol": "circle"
         },
         "mode": "markers",
         "name": "Estonia",
         "orientation": "v",
         "showlegend": true,
         "type": "scatter",
         "x": [
          -0.41851956544288726,
          -0.406383405086158,
          -0.4060475616549026,
          -0.4149932094147056,
          -0.40079619163890906,
          -0.3905529669856193,
          -0.3881867973563199,
          -0.40807788785294663,
          -0.4158175523823325,
          -0.4203514387042804,
          -0.42158795315572073,
          -0.4255417462782275
         ],
         "xaxis": "x",
         "y": [
          -1.4167770553457038,
          -1.2906713265170653,
          -1.2887009245041177,
          -1.2867305224911703,
          -1.1711336043982516,
          -1.0476550782535439,
          -0.8795141064820259,
          -0.6772194998194185,
          -0.5077649267059351,
          -0.28839350259778307,
          -0.08872609861910542,
          0.061024454364902524
         ],
         "yaxis": "y"
        },
        {
         "customdata": [
          [
           "Finland"
          ],
          [
           "Finland"
          ],
          [
           "Finland"
          ],
          [
           "Finland"
          ],
          [
           "Finland"
          ],
          [
           "Finland"
          ],
          [
           "Finland"
          ],
          [
           "Finland"
          ],
          [
           "Finland"
          ],
          [
           "Finland"
          ],
          [
           "Finland"
          ],
          [
           "Finland"
          ]
         ],
         "hovertemplate": "country=%{customdata[0]}<br>Controlled Drug Crime=%{x}<br>Quality of Life=%{y}<extra></extra>",
         "legendgroup": "Finland",
         "marker": {
          "color": "#FF97FF",
          "opacity": 1,
          "symbol": "circle"
         },
         "mode": "markers",
         "name": "Finland",
         "orientation": "v",
         "showlegend": true,
         "type": "scatter",
         "x": [
          -0.16552260243398864,
          -0.1699801607033785,
          -0.13099179145672873,
          -0.14434920065438675,
          -0.11913041208920841,
          -0.09336206154561213,
          -0.05492325427738027,
          -0.03146001092103699,
          0.016886177569229225,
          0.08987106142523263,
          -0.04519906038148524,
          -0.09206448465212537
         ],
         "xaxis": "x",
         "y": [
          1.5375123627335434,
          1.2879281077601972,
          1.2990937191668992,
          1.3102593305736012,
          1.319454539967357,
          1.393016215117396,
          1.6071332338576874,
          1.7870966177068908,
          1.8396406713854903,
          1.882989515670334,
          1.8554038874890695,
          1.8330726646756654
         ],
         "yaxis": "y"
        },
        {
         "customdata": [
          [
           "France"
          ],
          [
           "France"
          ],
          [
           "France"
          ],
          [
           "France"
          ],
          [
           "France"
          ],
          [
           "France"
          ],
          [
           "France"
          ],
          [
           "France"
          ],
          [
           "France"
          ],
          [
           "France"
          ],
          [
           "France"
          ],
          [
           "France"
          ]
         ],
         "hovertemplate": "country=%{customdata[0]}<br>Controlled Drug Crime=%{x}<br>Quality of Life=%{y}<extra></extra>",
         "legendgroup": "France",
         "marker": {
          "color": "#FECB52",
          "opacity": 1,
          "symbol": "circle"
         },
         "mode": "markers",
         "name": "France",
         "orientation": "v",
         "showlegend": true,
         "type": "scatter",
         "x": [
          -0.3863549240949268,
          -0.3867518299682286,
          -0.37830994735530876,
          -0.3715930787302007,
          -0.36261689974937455,
          3.2157032666138594,
          2.990627105230694,
          3.2954508159265057,
          3.25763789868925,
          2.8489011772409145,
          3.9452315273531497,
          4.58786793306036
         ],
         "xaxis": "x",
         "y": [
          0.4432824448767132,
          0.4669272690320826,
          0.34279194221639164,
          0.21865661540070067,
          0.09123728523009673,
          0.043947636919357866,
          0.1056868999917117,
          0.2409878382141047,
          0.3355671348355836,
          0.36972076972667406,
          0.3657799657007789,
          0.33162633080968845
         ],
         "yaxis": "y"
        },
        {
         "customdata": [
          [
           "Germany"
          ],
          [
           "Germany"
          ],
          [
           "Germany"
          ],
          [
           "Germany"
          ],
          [
           "Germany"
          ],
          [
           "Germany"
          ],
          [
           "Germany"
          ],
          [
           "Germany"
          ],
          [
           "Germany"
          ],
          [
           "Germany"
          ],
          [
           "Germany"
          ],
          [
           "Germany"
          ]
         ],
         "hovertemplate": "country=%{customdata[0]}<br>Controlled Drug Crime=%{x}<br>Quality of Life=%{y}<extra></extra>",
         "legendgroup": "Germany",
         "marker": {
          "color": "#636efa",
          "opacity": 1,
          "symbol": "circle"
         },
         "mode": "markers",
         "name": "Germany",
         "orientation": "v",
         "showlegend": true,
         "type": "scatter",
         "x": [
          3.1331315793565655,
          3.143390069620367,
          3.3933644417479667,
          3.747663996111904,
          3.8372731298150495,
          4.142432683942117,
          4.56965605972001,
          4.876220050014146,
          5.014908121512115,
          5.106593378244839,
          5.034768680787718,
          4.723792929055728
         ],
         "xaxis": "x",
         "y": [
          0.21471581137480558,
          0.34607594557130344,
          0.397306397907938,
          0.4485368502445725,
          0.7690555776840282,
          0.7125707199795337,
          0.7309611387670438,
          0.757233165606344,
          0.8767708877251567,
          0.9805453937403912,
          0.8215996313626276,
          0.6350682408036006
         ],
         "yaxis": "y"
        },
        {
         "customdata": [
          [
           "Greece"
          ],
          [
           "Greece"
          ],
          [
           "Greece"
          ],
          [
           "Greece"
          ],
          [
           "Greece"
          ],
          [
           "Greece"
          ],
          [
           "Greece"
          ],
          [
           "Greece"
          ],
          [
           "Greece"
          ],
          [
           "Greece"
          ],
          [
           "Greece"
          ],
          [
           "Greece"
          ]
         ],
         "hovertemplate": "country=%{customdata[0]}<br>Controlled Drug Crime=%{x}<br>Quality of Life=%{y}<extra></extra>",
         "legendgroup": "Greece",
         "marker": {
          "color": "#EF553B",
          "opacity": 1,
          "symbol": "circle"
         },
         "mode": "markers",
         "name": "Greece",
         "orientation": "v",
         "showlegend": true,
         "type": "scatter",
         "x": [
          -0.32746019874113863,
          -0.32199511017798255,
          -0.3169727243196631,
          -0.31114126110422846,
          -0.3121793226190179,
          -0.3076149050760467,
          -0.28152597671170665,
          -0.27033628420669714,
          -0.26931348830241936,
          -0.2810985396173816,
          -0.29399798049969134,
          -0.2932804968056457
         ],
         "xaxis": "x",
         "y": [
          -0.3619551777478222,
          -1.278848914439381,
          -1.6584797022672608,
          -2.0381104900951406,
          -1.8069166539093036,
          -1.5520779935680968,
          -1.3799962177706848,
          -1.4732619130501983,
          -1.1737608070821823,
          -0.9005317279534656,
          -0.6049714260113437,
          -0.6273026488247488
         ],
         "yaxis": "y"
        },
        {
         "customdata": [
          [
           "Hungary"
          ],
          [
           "Hungary"
          ],
          [
           "Hungary"
          ],
          [
           "Hungary"
          ],
          [
           "Hungary"
          ],
          [
           "Hungary"
          ],
          [
           "Hungary"
          ],
          [
           "Hungary"
          ],
          [
           "Hungary"
          ],
          [
           "Hungary"
          ],
          [
           "Hungary"
          ],
          [
           "Hungary"
          ]
         ],
         "hovertemplate": "country=%{customdata[0]}<br>Controlled Drug Crime=%{x}<br>Quality of Life=%{y}<extra></extra>",
         "legendgroup": "Hungary",
         "marker": {
          "color": "#00cc96",
          "opacity": 1,
          "symbol": "circle"
         },
         "mode": "markers",
         "name": "Hungary",
         "orientation": "v",
         "showlegend": true,
         "type": "scatter",
         "x": [
          -0.38542372185371865,
          -0.3972698356107273,
          -0.39429304156096356,
          -0.38337813004516297,
          -0.3848283630437659,
          -0.38895007788190034,
          -0.3782030880817275,
          -0.3544040012941288,
          -0.37698183924079876,
          -0.3775619324402399,
          -0.37043289233131843,
          -0.36360916443262914
         ],
         "xaxis": "x",
         "y": [
          -1.925140774686153,
          -2.145825800136269,
          -2.1294057833617073,
          -2.1129857665871454,
          -1.6597933036092263,
          -1.424658663397494,
          -1.0358326661758586,
          -0.854555680984691,
          -0.536664156229165,
          -0.5471729669648849,
          -0.42369444082017604,
          -0.4828065012086002
         ],
         "yaxis": "y"
        },
        {
         "customdata": [
          [
           "Ireland"
          ],
          [
           "Ireland"
          ],
          [
           "Ireland"
          ],
          [
           "Ireland"
          ],
          [
           "Ireland"
          ],
          [
           "Ireland"
          ],
          [
           "Ireland"
          ],
          [
           "Ireland"
          ],
          [
           "Ireland"
          ],
          [
           "Ireland"
          ],
          [
           "Ireland"
          ],
          [
           "Ireland"
          ]
         ],
         "hovertemplate": "country=%{customdata[0]}<br>Controlled Drug Crime=%{x}<br>Quality of Life=%{y}<extra></extra>",
         "legendgroup": "Ireland",
         "marker": {
          "color": "#ab63fa",
          "opacity": 1,
          "symbol": "circle"
         },
         "mode": "markers",
         "name": "Ireland",
         "orientation": "v",
         "showlegend": true,
         "type": "scatter",
         "x": [
          -0.2086021552977497,
          -0.2267834974170762,
          -0.24288871650682387,
          -0.23469108366208977,
          -0.25468903343229776,
          -0.24313296627500963,
          -0.22852377701539967,
          -0.20612912639486902,
          -0.1624389491106436,
          -0.13847194060741722,
          -0.18407031920559377,
          -0.22272284502098819
         ],
         "xaxis": "x",
         "y": [
          1.1499999668538734,
          0.8767708877251567,
          0.7874459964715383,
          0.6981211052179199,
          0.654772260933075,
          0.7467243548706242,
          0.7467243548706242,
          0.8045228139170829,
          0.9004157118805273,
          0.888593299802842,
          0.8307948407563832,
          0.6600266663009343
         ],
         "yaxis": "y"
        },
        {
         "customdata": [
          [
           "Italy"
          ],
          [
           "Italy"
          ],
          [
           "Italy"
          ],
          [
           "Italy"
          ],
          [
           "Italy"
          ],
          [
           "Italy"
          ],
          [
           "Italy"
          ],
          [
           "Italy"
          ],
          [
           "Italy"
          ],
          [
           "Italy"
          ],
          [
           "Italy"
          ],
          [
           "Italy"
          ]
         ],
         "hovertemplate": "country=%{customdata[0]}<br>Controlled Drug Crime=%{x}<br>Quality of Life=%{y}<extra></extra>",
         "legendgroup": "Italy",
         "marker": {
          "color": "#FFA15A",
          "opacity": 1,
          "symbol": "circle"
         },
         "mode": "markers",
         "name": "Italy",
         "orientation": "v",
         "showlegend": true,
         "type": "scatter",
         "x": [
          0.04270032494436032,
          0.03992198383124745,
          0.035739206551066535,
          0.02261078151108266,
          0.008383232514262921,
          0.0603321050852689,
          0.10841877819683776,
          0.11508984999041096,
          0.09863352185889629,
          0.0403341553150609,
          -0.020865677225980234,
          -0.031811119962804
         ],
         "xaxis": "x",
         "y": [
          0.22259741942659578,
          -0.5090785280479004,
          -0.5570249770296221,
          -0.6049714260113437,
          -0.5668769870943592,
          -0.5839538045399039,
          -0.536664156229165,
          -0.24373105697097389,
          -0.02830043688871701,
          0.0978052919399215,
          0.07678767046848176,
          -0.004655612733346416
         ],
         "yaxis": "y"
        },
        {
         "customdata": [
          [
           "Latvia"
          ],
          [
           "Latvia"
          ],
          [
           "Latvia"
          ],
          [
           "Latvia"
          ],
          [
           "Latvia"
          ],
          [
           "Latvia"
          ],
          [
           "Latvia"
          ],
          [
           "Latvia"
          ],
          [
           "Latvia"
          ],
          [
           "Latvia"
          ],
          [
           "Latvia"
          ],
          [
           "Latvia"
          ]
         ],
         "hovertemplate": "country=%{customdata[0]}<br>Controlled Drug Crime=%{x}<br>Quality of Life=%{y}<extra></extra>",
         "legendgroup": "Latvia",
         "marker": {
          "color": "#19d3f3",
          "opacity": 1,
          "symbol": "circle"
         },
         "mode": "markers",
         "name": "Latvia",
         "orientation": "v",
         "showlegend": true,
         "type": "scatter",
         "x": [
          -0.44682200733141064,
          -0.4348690343008207,
          -0.4518596588002417,
          -0.43567811165793596,
          -0.42297712371227714,
          -0.4361971424153307,
          -0.4312205533885461,
          -0.4370520166039808,
          -0.44089895045290634,
          -0.4466998824473178,
          -0.45451587502926166,
          -0.45752320030004867
         ],
         "xaxis": "x",
         "y": [
          -2.162902617581815,
          -1.7898398364637589,
          -1.7556862015726695,
          -1.7215325666815802,
          -1.1146487466937582,
          -0.7337043575239129,
          -0.6246754461408192,
          -0.6154802367470635,
          -0.602344223327414,
          -0.4946289132862855,
          -0.3002159146754684,
          -0.25686707039062345
         ],
         "yaxis": "y"
        },
        {
         "customdata": [
          [
           "Lithuania"
          ],
          [
           "Lithuania"
          ],
          [
           "Lithuania"
          ],
          [
           "Lithuania"
          ],
          [
           "Lithuania"
          ],
          [
           "Lithuania"
          ],
          [
           "Lithuania"
          ],
          [
           "Lithuania"
          ],
          [
           "Lithuania"
          ],
          [
           "Lithuania"
          ],
          [
           "Lithuania"
          ],
          [
           "Lithuania"
          ]
         ],
         "hovertemplate": "country=%{customdata[0]}<br>Controlled Drug Crime=%{x}<br>Quality of Life=%{y}<extra></extra>",
         "legendgroup": "Lithuania",
         "marker": {
          "color": "#FF6692",
          "opacity": 1,
          "symbol": "circle"
         },
         "mode": "markers",
         "name": "Lithuania",
         "orientation": "v",
         "showlegend": true,
         "type": "scatter",
         "x": [
          -0.4424102458935556,
          -0.43096103800984875,
          -0.4409142160634179,
          -0.43735732881421296,
          -0.43831906227644435,
          -0.4419217463571841,
          -0.43682303244630666,
          -0.4276941973603644,
          -0.42984664844250126,
          -0.43196856830361496,
          -0.4288391181487351,
          -0.4298313828319897
         ],
         "xaxis": "x",
         "y": [
          -1.077867909118738,
          -1.2906713265170653,
          -1.023353453427191,
          -0.756035580337317,
          -0.7823076071766173,
          -0.6653970877417332,
          -0.5997170206434843,
          -0.34093755627638245,
          -0.25423986770669377,
          -0.2016958140280944,
          0.049202042287217224,
          0.4656136676901172
         ],
         "yaxis": "y"
        },
        {
         "customdata": [
          [
           "Luxembourg"
          ],
          [
           "Luxembourg"
          ],
          [
           "Luxembourg"
          ],
          [
           "Luxembourg"
          ],
          [
           "Luxembourg"
          ],
          [
           "Luxembourg"
          ],
          [
           "Luxembourg"
          ],
          [
           "Luxembourg"
          ],
          [
           "Luxembourg"
          ],
          [
           "Luxembourg"
          ],
          [
           "Luxembourg"
          ],
          [
           "Luxembourg"
          ]
         ],
         "hovertemplate": "country=%{customdata[0]}<br>Controlled Drug Crime=%{x}<br>Quality of Life=%{y}<extra></extra>",
         "legendgroup": "Luxembourg",
         "marker": {
          "color": "#B6E880",
          "opacity": 1,
          "symbol": "circle"
         },
         "mode": "markers",
         "name": "Luxembourg",
         "orientation": "v",
         "showlegend": true,
         "type": "scatter",
         "x": [
          -0.43195330269310334,
          -0.4374183912562594,
          -0.42766366613934115,
          -0.4128865551641035,
          -0.40548273406597307,
          -0.4160770677610298,
          -0.43589183020509853,
          -0.4310068348413836,
          -0.41215380585954625,
          -0.4063376082546232,
          -0.4192523147474445,
          -0.42210698391311546
         ],
         "xaxis": "x",
         "y": [
          0.8439308541760328,
          0.8478716582019279,
          0.7769371857358184,
          0.7060027132697089,
          0.607482612622336,
          0.5969738018866162,
          0.6587130649589701,
          0.8951613065126667,
          1.089574305123485,
          1.202544020532473,
          1.3076321278896716,
          1.0764382917038342
         ],
         "yaxis": "y"
        },
        {
         "customdata": [
          [
           "Malta"
          ],
          [
           "Malta"
          ],
          [
           "Malta"
          ],
          [
           "Malta"
          ],
          [
           "Malta"
          ],
          [
           "Malta"
          ],
          [
           "Malta"
          ],
          [
           "Malta"
          ],
          [
           "Malta"
          ],
          [
           "Malta"
          ],
          [
           "Malta"
          ],
          [
           "Malta"
          ]
         ],
         "hovertemplate": "country=%{customdata[0]}<br>Controlled Drug Crime=%{x}<br>Quality of Life=%{y}<extra></extra>",
         "legendgroup": "Malta",
         "marker": {
          "color": "#FF97FF",
          "opacity": 1,
          "symbol": "circle"
         },
         "mode": "markers",
         "name": "Malta",
         "orientation": "v",
         "showlegend": true,
         "type": "scatter",
         "x": [
          -0.47413218453667944,
          -0.47375054427388924,
          -0.47367421622133116,
          -0.4739184659895169,
          -0.47445276235742323,
          -0.47353682572672673,
          -0.47211712394914707,
          -0.4715370307497059,
          -0.47442223113640003,
          -0.47428484064179555,
          -0.4675832376271991,
          -0.47362841938979633
         ],
         "xaxis": "x",
         "y": [
          -0.5892082099077643,
          -0.5839538045399039,
          -0.3619551777478222,
          -0.13995655095574056,
          0.10437329864974745,
          0.1556037509863814,
          0.2869638851828793,
          0.4170104180374129,
          0.47874968110976673,
          0.2541238516337554,
          0.05051564362918264,
          -0.14258375363967024
         ],
         "yaxis": "y"
        },
        {
         "customdata": [
          [
           "Netherlands"
          ],
          [
           "Netherlands"
          ],
          [
           "Netherlands"
          ],
          [
           "Netherlands"
          ],
          [
           "Netherlands"
          ],
          [
           "Netherlands"
          ],
          [
           "Netherlands"
          ],
          [
           "Netherlands"
          ],
          [
           "Netherlands"
          ],
          [
           "Netherlands"
          ],
          [
           "Netherlands"
          ],
          [
           "Netherlands"
          ]
         ],
         "hovertemplate": "country=%{customdata[0]}<br>Controlled Drug Crime=%{x}<br>Quality of Life=%{y}<extra></extra>",
         "legendgroup": "Netherlands",
         "marker": {
          "color": "#FECB52",
          "opacity": 1,
          "symbol": "circle"
         },
         "mode": "markers",
         "name": "Netherlands",
         "orientation": "v",
         "showlegend": true,
         "type": "scatter",
         "x": [
          -0.23435524023083434,
          -0.23038618149781598,
          -0.23130211812851253,
          -0.2449190427048679,
          -0.26580239788474924,
          -0.28679261233821185,
          -0.29793650801168653,
          -0.28633464402286357,
          -0.2642758368335883,
          -0.2814496486591486,
          -0.29976838127307964,
          -0.29740221164378017
         ],
         "xaxis": "x",
         "y": [
          1.4495010728218893,
          1.4495010728218893,
          1.361489782910236,
          1.2734784929985823,
          1.2222480406619483,
          1.2721648916566168,
          1.3562353775423759,
          1.4179746406147309,
          1.3667441882780957,
          1.3864482084075713,
          1.3220817426512865,
          1.3063185265477062
         ],
         "yaxis": "y"
        },
        {
         "customdata": [
          [
           "Poland"
          ],
          [
           "Poland"
          ],
          [
           "Poland"
          ],
          [
           "Poland"
          ],
          [
           "Poland"
          ],
          [
           "Poland"
          ],
          [
           "Poland"
          ],
          [
           "Poland"
          ],
          [
           "Poland"
          ],
          [
           "Poland"
          ],
          [
           "Poland"
          ],
          [
           "Poland"
          ]
         ],
         "hovertemplate": "country=%{customdata[0]}<br>Controlled Drug Crime=%{x}<br>Quality of Life=%{y}<extra></extra>",
         "legendgroup": "Poland",
         "marker": {
          "color": "#636efa",
          "opacity": 1,
          "symbol": "circle"
         },
         "mode": "markers",
         "name": "Poland",
         "orientation": "v",
         "showlegend": true,
         "type": "scatter",
         "x": [
          0.660972816275043,
          0.6888020242377064,
          0.6213432913869056,
          0.4971880810959883,
          0.363033895919967,
          0.4459414266085163,
          0.5101027875888097,
          0.44020155705615127,
          0.543366552893606,
          0.5390769163398438,
          0.5859881374420187,
          0.593361427319126
         ],
         "xaxis": "x",
         "y": [
          -0.7954436205962668,
          -0.770485195098932,
          -0.7908460158993891,
          -0.8112068366998461,
          -0.7534083776533873,
          -0.5721313924622198,
          -0.37509119116747175,
          -0.2975887119915375,
          -0.2923343066236782,
          -0.3186063334629773,
          -0.37509119116747175,
          -0.19512780731826962
         ],
         "yaxis": "y"
        },
        {
         "customdata": [
          [
           "Portugal"
          ],
          [
           "Portugal"
          ],
          [
           "Portugal"
          ],
          [
           "Portugal"
          ],
          [
           "Portugal"
          ],
          [
           "Portugal"
          ],
          [
           "Portugal"
          ],
          [
           "Portugal"
          ],
          [
           "Portugal"
          ],
          [
           "Portugal"
          ],
          [
           "Portugal"
          ],
          [
           "Portugal"
          ]
         ],
         "hovertemplate": "country=%{customdata[0]}<br>Controlled Drug Crime=%{x}<br>Quality of Life=%{y}<extra></extra>",
         "legendgroup": "Portugal",
         "marker": {
          "color": "#EF553B",
          "opacity": 1,
          "symbol": "circle"
         },
         "mode": "markers",
         "name": "Portugal",
         "orientation": "v",
         "showlegend": true,
         "type": "scatter",
         "x": [
          -0.4125201805118249,
          -0.4060475616549026,
          -0.40586437432876327,
          -0.40432254766709075,
          -0.39597225871724057,
          -0.38913326520803965,
          -0.37791304148200694,
          -0.37701237046182196,
          -0.3890874683765048,
          -0.41630605191870396,
          -0.4090548869256896,
          -0.3782488849132623
         ],
         "xaxis": "x",
         "y": [
          -1.420717859371599,
          -1.7175917626556851,
          -1.7169349619847023,
          -1.7162781613137197,
          -1.6886925331324552,
          -1.5941132365109763,
          -1.311688947988505,
          -0.9399397682124154,
          -0.653574675664049,
          -0.6299298515086785,
          -0.5156465347577253,
          -0.5786993991720445
         ],
         "yaxis": "y"
        },
        {
         "customdata": [
          [
           "Romania"
          ],
          [
           "Romania"
          ],
          [
           "Romania"
          ],
          [
           "Romania"
          ],
          [
           "Romania"
          ],
          [
           "Romania"
          ],
          [
           "Romania"
          ],
          [
           "Romania"
          ],
          [
           "Romania"
          ],
          [
           "Romania"
          ],
          [
           "Romania"
          ],
          [
           "Romania"
          ]
         ],
         "hovertemplate": "country=%{customdata[0]}<br>Controlled Drug Crime=%{x}<br>Quality of Life=%{y}<extra></extra>",
         "legendgroup": "Romania",
         "marker": {
          "color": "#00cc96",
          "opacity": 1,
          "symbol": "circle"
         },
         "mode": "markers",
         "name": "Romania",
         "orientation": "v",
         "showlegend": true,
         "type": "scatter",
         "x": [
          -0.42409151327962463,
          -0.4330066298184044,
          -0.43931132695969893,
          -0.44010513870630263,
          -0.3997123332925848,
          -0.4085663873893181,
          -0.3832865363820933,
          -0.34730549240623054,
          -0.3531827524532001,
          -0.37594377772600934,
          -0.35748765461747384,
          -0.3357494252489424
         ],
         "xaxis": "x",
         "y": [
          -1.6164444593243814,
          -1.8069166539093036,
          -1.7471477928498973,
          -1.6873789317904908,
          -1.1566839896366377,
          -0.7665443910730368,
          -0.6089122300372387,
          -0.4447120622916158,
          -0.3737775898255075,
          -0.35275996835406775,
          0.08992368388813247,
          0.23704703418821074
         ],
         "yaxis": "y"
        },
        {
         "customdata": [
          [
           "Slovakia"
          ],
          [
           "Slovakia"
          ],
          [
           "Slovakia"
          ],
          [
           "Slovakia"
          ],
          [
           "Slovakia"
          ],
          [
           "Slovakia"
          ],
          [
           "Slovakia"
          ],
          [
           "Slovakia"
          ],
          [
           "Slovakia"
          ],
          [
           "Slovakia"
          ],
          [
           "Slovakia"
          ],
          [
           "Slovakia"
          ]
         ],
         "hovertemplate": "country=%{customdata[0]}<br>Controlled Drug Crime=%{x}<br>Quality of Life=%{y}<extra></extra>",
         "legendgroup": "Slovakia",
         "marker": {
          "color": "#ab63fa",
          "opacity": 1,
          "symbol": "circle"
         },
         "mode": "markers",
         "name": "Slovakia",
         "orientation": "v",
         "showlegend": true,
         "type": "scatter",
         "x": [
          -0.4652170679978997,
          -0.4652628648294345,
          -0.4473868349203402,
          -0.4522870958945667,
          -0.4501346448124299,
          -0.4540579067139134,
          -0.4542563596505643,
          -0.45283665787298466,
          -0.4505468162962433,
          -0.4540579067139134,
          -0.44979880138117445,
          -0.4537067976721464
         ],
         "xaxis": "x",
         "y": [
          -0.9872294165231543,
          -0.5773857978300792,
          -0.5603089803845345,
          -0.5432321629389898,
          -0.43420325155589595,
          -0.4079312247165968,
          -0.30941112406922283,
          -0.27657109052009776,
          -0.1675421791370051,
          -0.10186211203875498,
          -0.02304603152085649,
          0.0794148731524126
         ],
         "yaxis": "y"
        },
        {
         "customdata": [
          [
           "Slovenia"
          ],
          [
           "Slovenia"
          ],
          [
           "Slovenia"
          ],
          [
           "Slovenia"
          ],
          [
           "Slovenia"
          ],
          [
           "Slovenia"
          ],
          [
           "Slovenia"
          ],
          [
           "Slovenia"
          ],
          [
           "Slovenia"
          ],
          [
           "Slovenia"
          ],
          [
           "Slovenia"
          ],
          [
           "Slovenia"
          ]
         ],
         "hovertemplate": "country=%{customdata[0]}<br>Controlled Drug Crime=%{x}<br>Quality of Life=%{y}<extra></extra>",
         "legendgroup": "Slovenia",
         "marker": {
          "color": "#FFA15A",
          "opacity": 1,
          "symbol": "circle"
         },
         "mode": "markers",
         "name": "Slovenia",
         "orientation": "v",
         "showlegend": true,
         "type": "scatter",
         "x": [
          -0.45387471938777413,
          -0.44998198870731376,
          -0.450714738011871,
          -0.45147801853745145,
          -0.45033309774908076,
          -0.45491278090256354,
          -0.4520581117368926,
          -0.4536915320616348,
          -0.4559050455858181,
          -0.45401210988237856,
          -0.45515703067074925,
          -0.45576765509121364
         ],
         "xaxis": "x",
         "y": [
          -0.6391250609024342,
          -0.4578480757112665,
          -0.5970898179595545,
          -0.7363315602078426,
          -0.8414196675650414,
          -0.854555680984691,
          -0.6049714260113437,
          -0.3816591978772966,
          -0.05982686909587548,
          0.06890606241669273,
          0.2909046892087744,
          0.3171767160480747
         ],
         "yaxis": "y"
        },
        {
         "customdata": [
          [
           "Spain"
          ],
          [
           "Spain"
          ],
          [
           "Spain"
          ],
          [
           "Spain"
          ],
          [
           "Spain"
          ],
          [
           "Spain"
          ],
          [
           "Spain"
          ],
          [
           "Spain"
          ],
          [
           "Spain"
          ],
          [
           "Spain"
          ],
          [
           "Spain"
          ],
          [
           "Spain"
          ]
         ],
         "hovertemplate": "country=%{customdata[0]}<br>Controlled Drug Crime=%{x}<br>Quality of Life=%{y}<extra></extra>",
         "legendgroup": "Spain",
         "marker": {
          "color": "#19d3f3",
          "opacity": 1,
          "symbol": "circle"
         },
         "mode": "markers",
         "name": "Spain",
         "orientation": "v",
         "showlegend": true,
         "type": "scatter",
         "x": [
          -0.24450687122105444,
          -0.25536072029480855,
          -0.25861229533378133,
          -0.2721223606365554,
          -0.29260880994313493,
          -0.28682314355923505,
          -0.2790376821983144,
          -0.2611005898471736,
          -0.22307395406275518,
          -0.21562433613308993,
          -0.1972903379086473,
          -0.1859327236880101
         ],
         "xaxis": "x",
         "y": [
          0.4629864650061875,
          -0.11368452411644028,
          -0.10908691941956306,
          -0.10448931472268583,
          -0.06245407177980632,
          -0.007282815417277259,
          -0.12944774022002067,
          -0.07164928117356077,
          -0.009910018101206937,
          0.10831410267564139,
          0.08861008254616705,
          0.03606602886756767
         ],
         "yaxis": "y"
        },
        {
         "customdata": [
          [
           "Sweden"
          ],
          [
           "Sweden"
          ],
          [
           "Sweden"
          ],
          [
           "Sweden"
          ],
          [
           "Sweden"
          ],
          [
           "Sweden"
          ],
          [
           "Sweden"
          ],
          [
           "Sweden"
          ],
          [
           "Sweden"
          ],
          [
           "Sweden"
          ],
          [
           "Sweden"
          ],
          [
           "Sweden"
          ]
         ],
         "hovertemplate": "country=%{customdata[0]}<br>Controlled Drug Crime=%{x}<br>Quality of Life=%{y}<extra></extra>",
         "legendgroup": "Sweden",
         "marker": {
          "color": "#FF6692",
          "opacity": 1,
          "symbol": "circle"
         },
         "mode": "markers",
         "name": "Sweden",
         "orientation": "v",
         "showlegend": true,
         "type": "scatter",
         "x": [
          0.9275409070287621,
          1.0097004228022428,
          1.0371174592810928,
          1.0225235356319944,
          0.9971673565722116,
          0.9512026033217563,
          1.0902875806930274,
          1.182293415246496,
          1.284618802505812,
          1.4503575358303529,
          1.3585806854345586,
          1.2920531548249659
         ],
         "xaxis": "x",
         "y": [
          1.2747920943405464,
          1.407465829879011,
          1.3312769520450416,
          1.2550880742110722,
          1.1591951762476291,
          1.1499999668538734,
          1.1894080071128232,
          1.2275024460298076,
          1.2406384594494573,
          1.2537744728691078,
          1.2813601010503723,
          1.2958097158119863
         ],
         "yaxis": "y"
        }
       ],
       "layout": {
        "legend": {
         "title": {
          "text": "country"
         },
         "tracegroupgap": 0
        },
        "template": {
         "data": {
          "bar": [
           {
            "error_x": {
             "color": "#2a3f5f"
            },
            "error_y": {
             "color": "#2a3f5f"
            },
            "marker": {
             "line": {
              "color": "#E5ECF6",
              "width": 0.5
             },
             "pattern": {
              "fillmode": "overlay",
              "size": 10,
              "solidity": 0.2
             }
            },
            "type": "bar"
           }
          ],
          "barpolar": [
           {
            "marker": {
             "line": {
              "color": "#E5ECF6",
              "width": 0.5
             },
             "pattern": {
              "fillmode": "overlay",
              "size": 10,
              "solidity": 0.2
             }
            },
            "type": "barpolar"
           }
          ],
          "carpet": [
           {
            "aaxis": {
             "endlinecolor": "#2a3f5f",
             "gridcolor": "white",
             "linecolor": "white",
             "minorgridcolor": "white",
             "startlinecolor": "#2a3f5f"
            },
            "baxis": {
             "endlinecolor": "#2a3f5f",
             "gridcolor": "white",
             "linecolor": "white",
             "minorgridcolor": "white",
             "startlinecolor": "#2a3f5f"
            },
            "type": "carpet"
           }
          ],
          "choropleth": [
           {
            "colorbar": {
             "outlinewidth": 0,
             "ticks": ""
            },
            "type": "choropleth"
           }
          ],
          "contour": [
           {
            "colorbar": {
             "outlinewidth": 0,
             "ticks": ""
            },
            "colorscale": [
             [
              0,
              "#0d0887"
             ],
             [
              0.1111111111111111,
              "#46039f"
             ],
             [
              0.2222222222222222,
              "#7201a8"
             ],
             [
              0.3333333333333333,
              "#9c179e"
             ],
             [
              0.4444444444444444,
              "#bd3786"
             ],
             [
              0.5555555555555556,
              "#d8576b"
             ],
             [
              0.6666666666666666,
              "#ed7953"
             ],
             [
              0.7777777777777778,
              "#fb9f3a"
             ],
             [
              0.8888888888888888,
              "#fdca26"
             ],
             [
              1,
              "#f0f921"
             ]
            ],
            "type": "contour"
           }
          ],
          "contourcarpet": [
           {
            "colorbar": {
             "outlinewidth": 0,
             "ticks": ""
            },
            "type": "contourcarpet"
           }
          ],
          "heatmap": [
           {
            "colorbar": {
             "outlinewidth": 0,
             "ticks": ""
            },
            "colorscale": [
             [
              0,
              "#0d0887"
             ],
             [
              0.1111111111111111,
              "#46039f"
             ],
             [
              0.2222222222222222,
              "#7201a8"
             ],
             [
              0.3333333333333333,
              "#9c179e"
             ],
             [
              0.4444444444444444,
              "#bd3786"
             ],
             [
              0.5555555555555556,
              "#d8576b"
             ],
             [
              0.6666666666666666,
              "#ed7953"
             ],
             [
              0.7777777777777778,
              "#fb9f3a"
             ],
             [
              0.8888888888888888,
              "#fdca26"
             ],
             [
              1,
              "#f0f921"
             ]
            ],
            "type": "heatmap"
           }
          ],
          "heatmapgl": [
           {
            "colorbar": {
             "outlinewidth": 0,
             "ticks": ""
            },
            "colorscale": [
             [
              0,
              "#0d0887"
             ],
             [
              0.1111111111111111,
              "#46039f"
             ],
             [
              0.2222222222222222,
              "#7201a8"
             ],
             [
              0.3333333333333333,
              "#9c179e"
             ],
             [
              0.4444444444444444,
              "#bd3786"
             ],
             [
              0.5555555555555556,
              "#d8576b"
             ],
             [
              0.6666666666666666,
              "#ed7953"
             ],
             [
              0.7777777777777778,
              "#fb9f3a"
             ],
             [
              0.8888888888888888,
              "#fdca26"
             ],
             [
              1,
              "#f0f921"
             ]
            ],
            "type": "heatmapgl"
           }
          ],
          "histogram": [
           {
            "marker": {
             "pattern": {
              "fillmode": "overlay",
              "size": 10,
              "solidity": 0.2
             }
            },
            "type": "histogram"
           }
          ],
          "histogram2d": [
           {
            "colorbar": {
             "outlinewidth": 0,
             "ticks": ""
            },
            "colorscale": [
             [
              0,
              "#0d0887"
             ],
             [
              0.1111111111111111,
              "#46039f"
             ],
             [
              0.2222222222222222,
              "#7201a8"
             ],
             [
              0.3333333333333333,
              "#9c179e"
             ],
             [
              0.4444444444444444,
              "#bd3786"
             ],
             [
              0.5555555555555556,
              "#d8576b"
             ],
             [
              0.6666666666666666,
              "#ed7953"
             ],
             [
              0.7777777777777778,
              "#fb9f3a"
             ],
             [
              0.8888888888888888,
              "#fdca26"
             ],
             [
              1,
              "#f0f921"
             ]
            ],
            "type": "histogram2d"
           }
          ],
          "histogram2dcontour": [
           {
            "colorbar": {
             "outlinewidth": 0,
             "ticks": ""
            },
            "colorscale": [
             [
              0,
              "#0d0887"
             ],
             [
              0.1111111111111111,
              "#46039f"
             ],
             [
              0.2222222222222222,
              "#7201a8"
             ],
             [
              0.3333333333333333,
              "#9c179e"
             ],
             [
              0.4444444444444444,
              "#bd3786"
             ],
             [
              0.5555555555555556,
              "#d8576b"
             ],
             [
              0.6666666666666666,
              "#ed7953"
             ],
             [
              0.7777777777777778,
              "#fb9f3a"
             ],
             [
              0.8888888888888888,
              "#fdca26"
             ],
             [
              1,
              "#f0f921"
             ]
            ],
            "type": "histogram2dcontour"
           }
          ],
          "mesh3d": [
           {
            "colorbar": {
             "outlinewidth": 0,
             "ticks": ""
            },
            "type": "mesh3d"
           }
          ],
          "parcoords": [
           {
            "line": {
             "colorbar": {
              "outlinewidth": 0,
              "ticks": ""
             }
            },
            "type": "parcoords"
           }
          ],
          "pie": [
           {
            "automargin": true,
            "type": "pie"
           }
          ],
          "scatter": [
           {
            "fillpattern": {
             "fillmode": "overlay",
             "size": 10,
             "solidity": 0.2
            },
            "type": "scatter"
           }
          ],
          "scatter3d": [
           {
            "line": {
             "colorbar": {
              "outlinewidth": 0,
              "ticks": ""
             }
            },
            "marker": {
             "colorbar": {
              "outlinewidth": 0,
              "ticks": ""
             }
            },
            "type": "scatter3d"
           }
          ],
          "scattercarpet": [
           {
            "marker": {
             "colorbar": {
              "outlinewidth": 0,
              "ticks": ""
             }
            },
            "type": "scattercarpet"
           }
          ],
          "scattergeo": [
           {
            "marker": {
             "colorbar": {
              "outlinewidth": 0,
              "ticks": ""
             }
            },
            "type": "scattergeo"
           }
          ],
          "scattergl": [
           {
            "marker": {
             "colorbar": {
              "outlinewidth": 0,
              "ticks": ""
             }
            },
            "type": "scattergl"
           }
          ],
          "scattermapbox": [
           {
            "marker": {
             "colorbar": {
              "outlinewidth": 0,
              "ticks": ""
             }
            },
            "type": "scattermapbox"
           }
          ],
          "scatterpolar": [
           {
            "marker": {
             "colorbar": {
              "outlinewidth": 0,
              "ticks": ""
             }
            },
            "type": "scatterpolar"
           }
          ],
          "scatterpolargl": [
           {
            "marker": {
             "colorbar": {
              "outlinewidth": 0,
              "ticks": ""
             }
            },
            "type": "scatterpolargl"
           }
          ],
          "scatterternary": [
           {
            "marker": {
             "colorbar": {
              "outlinewidth": 0,
              "ticks": ""
             }
            },
            "type": "scatterternary"
           }
          ],
          "surface": [
           {
            "colorbar": {
             "outlinewidth": 0,
             "ticks": ""
            },
            "colorscale": [
             [
              0,
              "#0d0887"
             ],
             [
              0.1111111111111111,
              "#46039f"
             ],
             [
              0.2222222222222222,
              "#7201a8"
             ],
             [
              0.3333333333333333,
              "#9c179e"
             ],
             [
              0.4444444444444444,
              "#bd3786"
             ],
             [
              0.5555555555555556,
              "#d8576b"
             ],
             [
              0.6666666666666666,
              "#ed7953"
             ],
             [
              0.7777777777777778,
              "#fb9f3a"
             ],
             [
              0.8888888888888888,
              "#fdca26"
             ],
             [
              1,
              "#f0f921"
             ]
            ],
            "type": "surface"
           }
          ],
          "table": [
           {
            "cells": {
             "fill": {
              "color": "#EBF0F8"
             },
             "line": {
              "color": "white"
             }
            },
            "header": {
             "fill": {
              "color": "#C8D4E3"
             },
             "line": {
              "color": "white"
             }
            },
            "type": "table"
           }
          ]
         },
         "layout": {
          "annotationdefaults": {
           "arrowcolor": "#2a3f5f",
           "arrowhead": 0,
           "arrowwidth": 1
          },
          "autotypenumbers": "strict",
          "coloraxis": {
           "colorbar": {
            "outlinewidth": 0,
            "ticks": ""
           }
          },
          "colorscale": {
           "diverging": [
            [
             0,
             "#8e0152"
            ],
            [
             0.1,
             "#c51b7d"
            ],
            [
             0.2,
             "#de77ae"
            ],
            [
             0.3,
             "#f1b6da"
            ],
            [
             0.4,
             "#fde0ef"
            ],
            [
             0.5,
             "#f7f7f7"
            ],
            [
             0.6,
             "#e6f5d0"
            ],
            [
             0.7,
             "#b8e186"
            ],
            [
             0.8,
             "#7fbc41"
            ],
            [
             0.9,
             "#4d9221"
            ],
            [
             1,
             "#276419"
            ]
           ],
           "sequential": [
            [
             0,
             "#0d0887"
            ],
            [
             0.1111111111111111,
             "#46039f"
            ],
            [
             0.2222222222222222,
             "#7201a8"
            ],
            [
             0.3333333333333333,
             "#9c179e"
            ],
            [
             0.4444444444444444,
             "#bd3786"
            ],
            [
             0.5555555555555556,
             "#d8576b"
            ],
            [
             0.6666666666666666,
             "#ed7953"
            ],
            [
             0.7777777777777778,
             "#fb9f3a"
            ],
            [
             0.8888888888888888,
             "#fdca26"
            ],
            [
             1,
             "#f0f921"
            ]
           ],
           "sequentialminus": [
            [
             0,
             "#0d0887"
            ],
            [
             0.1111111111111111,
             "#46039f"
            ],
            [
             0.2222222222222222,
             "#7201a8"
            ],
            [
             0.3333333333333333,
             "#9c179e"
            ],
            [
             0.4444444444444444,
             "#bd3786"
            ],
            [
             0.5555555555555556,
             "#d8576b"
            ],
            [
             0.6666666666666666,
             "#ed7953"
            ],
            [
             0.7777777777777778,
             "#fb9f3a"
            ],
            [
             0.8888888888888888,
             "#fdca26"
            ],
            [
             1,
             "#f0f921"
            ]
           ]
          },
          "colorway": [
           "#636efa",
           "#EF553B",
           "#00cc96",
           "#ab63fa",
           "#FFA15A",
           "#19d3f3",
           "#FF6692",
           "#B6E880",
           "#FF97FF",
           "#FECB52"
          ],
          "font": {
           "color": "#2a3f5f"
          },
          "geo": {
           "bgcolor": "white",
           "lakecolor": "white",
           "landcolor": "#E5ECF6",
           "showlakes": true,
           "showland": true,
           "subunitcolor": "white"
          },
          "hoverlabel": {
           "align": "left"
          },
          "hovermode": "closest",
          "mapbox": {
           "style": "light"
          },
          "paper_bgcolor": "white",
          "plot_bgcolor": "#E5ECF6",
          "polar": {
           "angularaxis": {
            "gridcolor": "white",
            "linecolor": "white",
            "ticks": ""
           },
           "bgcolor": "#E5ECF6",
           "radialaxis": {
            "gridcolor": "white",
            "linecolor": "white",
            "ticks": ""
           }
          },
          "scene": {
           "xaxis": {
            "backgroundcolor": "#E5ECF6",
            "gridcolor": "white",
            "gridwidth": 2,
            "linecolor": "white",
            "showbackground": true,
            "ticks": "",
            "zerolinecolor": "white"
           },
           "yaxis": {
            "backgroundcolor": "#E5ECF6",
            "gridcolor": "white",
            "gridwidth": 2,
            "linecolor": "white",
            "showbackground": true,
            "ticks": "",
            "zerolinecolor": "white"
           },
           "zaxis": {
            "backgroundcolor": "#E5ECF6",
            "gridcolor": "white",
            "gridwidth": 2,
            "linecolor": "white",
            "showbackground": true,
            "ticks": "",
            "zerolinecolor": "white"
           }
          },
          "shapedefaults": {
           "line": {
            "color": "#2a3f5f"
           }
          },
          "ternary": {
           "aaxis": {
            "gridcolor": "white",
            "linecolor": "white",
            "ticks": ""
           },
           "baxis": {
            "gridcolor": "white",
            "linecolor": "white",
            "ticks": ""
           },
           "bgcolor": "#E5ECF6",
           "caxis": {
            "gridcolor": "white",
            "linecolor": "white",
            "ticks": ""
           }
          },
          "title": {
           "x": 0.05
          },
          "xaxis": {
           "automargin": true,
           "gridcolor": "white",
           "linecolor": "white",
           "ticks": "",
           "title": {
            "standoff": 15
           },
           "zerolinecolor": "white",
           "zerolinewidth": 2
          },
          "yaxis": {
           "automargin": true,
           "gridcolor": "white",
           "linecolor": "white",
           "ticks": "",
           "title": {
            "standoff": 15
           },
           "zerolinecolor": "white",
           "zerolinewidth": 2
          }
         }
        },
        "title": {
         "text": "Comparing Relationship of Controlled Drug Crime and Quality of Life in Europe"
        },
        "xaxis": {
         "anchor": "y",
         "domain": [
          0,
          1
         ],
         "title": {
          "text": "Controlled Drug Crime"
         }
        },
        "yaxis": {
         "anchor": "x",
         "domain": [
          0,
          1
         ],
         "title": {
          "text": "Quality of Life"
         }
        }
       }
      }
     },
     "metadata": {},
     "output_type": "display_data"
    }
   ],
   "source": [
    "fig = px.scatter(\n",
    "    combined,\n",
    "    x='safety',\n",
    "    y='qol',\n",
    "    color='country',\n",
    "    opacity=1,\n",
    "    labels={'safety': 'Controlled Drug Crime', 'qol': 'Quality of Life'},\n",
    "    title='Comparing Relationship of Controlled Drug Crime and Quality of Life in Europe',\n",
    "    hover_data=['country']\n",
    ")\n",
    "\n",
    "fig"
   ]
  },
  {
   "cell_type": "code",
   "execution_count": 157,
   "id": "d42983fe",
   "metadata": {},
   "outputs": [
    {
     "data": {
      "application/vnd.plotly.v1+json": {
       "config": {
        "plotlyServerURL": "https://plot.ly"
       },
       "data": [
        {
         "customdata": [
          [
           "Austria"
          ]
         ],
         "hovertemplate": "country=%{customdata[0]}<br>Emissions [Tonnes per capita]=%{x}<br>Quality of Life=%{y}<extra></extra>",
         "legendgroup": "Austria",
         "marker": {
          "color": "#636efa",
          "opacity": 1,
          "symbol": "circle"
         },
         "mode": "markers",
         "name": "Austria",
         "orientation": "v",
         "showlegend": true,
         "type": "scatter",
         "x": [
          0.1096671436568372
         ],
         "xaxis": "x",
         "y": [
          1.0410257888600287
         ],
         "yaxis": "y"
        },
        {
         "customdata": [
          [
           "Belgium"
          ]
         ],
         "hovertemplate": "country=%{customdata[0]}<br>Emissions [Tonnes per capita]=%{x}<br>Quality of Life=%{y}<extra></extra>",
         "legendgroup": "Belgium",
         "marker": {
          "color": "#EF553B",
          "opacity": 1,
          "symbol": "circle"
         },
         "mode": "markers",
         "name": "Belgium",
         "orientation": "v",
         "showlegend": true,
         "type": "scatter",
         "x": [
          0.49864505741985926
         ],
         "xaxis": "x",
         "y": [
          0.6675798740172335
         ],
         "yaxis": "y"
        },
        {
         "customdata": [
          [
           "Bulgaria"
          ]
         ],
         "hovertemplate": "country=%{customdata[0]}<br>Emissions [Tonnes per capita]=%{x}<br>Quality of Life=%{y}<extra></extra>",
         "legendgroup": "Bulgaria",
         "marker": {
          "color": "#00cc96",
          "opacity": 1,
          "symbol": "circle"
         },
         "mode": "markers",
         "name": "Bulgaria",
         "orientation": "v",
         "showlegend": true,
         "type": "scatter",
         "x": [
          -0.30538750175510265
         ],
         "xaxis": "x",
         "y": [
          -2.258850248934507
         ],
         "yaxis": "y"
        },
        {
         "customdata": [
          [
           "Croatia"
          ]
         ],
         "hovertemplate": "country=%{customdata[0]}<br>Emissions [Tonnes per capita]=%{x}<br>Quality of Life=%{y}<extra></extra>",
         "legendgroup": "Croatia",
         "marker": {
          "color": "#ab63fa",
          "opacity": 1,
          "symbol": "circle"
         },
         "mode": "markers",
         "name": "Croatia",
         "orientation": "v",
         "showlegend": true,
         "type": "scatter",
         "x": [
          -0.8855947809435212
         ],
         "xaxis": "x",
         "y": [
          -0.982850745383271
         ],
         "yaxis": "y"
        },
        {
         "customdata": [
          [
           "Cyprus"
          ]
         ],
         "hovertemplate": "country=%{customdata[0]}<br>Emissions [Tonnes per capita]=%{x}<br>Quality of Life=%{y}<extra></extra>",
         "legendgroup": "Cyprus",
         "marker": {
          "color": "#FFA15A",
          "opacity": 1,
          "symbol": "circle"
         },
         "mode": "markers",
         "name": "Cyprus",
         "orientation": "v",
         "showlegend": true,
         "type": "scatter",
         "x": [
          0.31610793587743546
         ],
         "xaxis": "x",
         "y": [
          -0.49763924969495515
         ],
         "yaxis": "y"
        },
        {
         "customdata": [
          [
           "Czechia"
          ]
         ],
         "hovertemplate": "country=%{customdata[0]}<br>Emissions [Tonnes per capita]=%{x}<br>Quality of Life=%{y}<extra></extra>",
         "legendgroup": "Czechia",
         "marker": {
          "color": "#19d3f3",
          "opacity": 1,
          "symbol": "circle"
         },
         "mode": "markers",
         "name": "Czechia",
         "orientation": "v",
         "showlegend": true,
         "type": "scatter",
         "x": [
          0.8615462395339636
         ],
         "xaxis": "x",
         "y": [
          0.3348556007753529
         ],
         "yaxis": "y"
        },
        {
         "customdata": [
          [
           "Denmark"
          ]
         ],
         "hovertemplate": "country=%{customdata[0]}<br>Emissions [Tonnes per capita]=%{x}<br>Quality of Life=%{y}<extra></extra>",
         "legendgroup": "Denmark",
         "marker": {
          "color": "#FF6692",
          "opacity": 1,
          "symbol": "circle"
         },
         "mode": "markers",
         "name": "Denmark",
         "orientation": "v",
         "showlegend": true,
         "type": "scatter",
         "x": [
          0.2096279483110216
         ],
         "xaxis": "x",
         "y": [
          1.5844736107087918
         ],
         "yaxis": "y"
        },
        {
         "customdata": [
          [
           "Estonia"
          ]
         ],
         "hovertemplate": "country=%{customdata[0]}<br>Emissions [Tonnes per capita]=%{x}<br>Quality of Life=%{y}<extra></extra>",
         "legendgroup": "Estonia",
         "marker": {
          "color": "#B6E880",
          "opacity": 1,
          "symbol": "circle"
         },
         "mode": "markers",
         "name": "Estonia",
         "orientation": "v",
         "showlegend": true,
         "type": "scatter",
         "x": [
          1.5004261649324473
         ],
         "xaxis": "x",
         "y": [
          -0.8235218492807682
         ],
         "yaxis": "y"
        },
        {
         "customdata": [
          [
           "Finland"
          ]
         ],
         "hovertemplate": "country=%{customdata[0]}<br>Emissions [Tonnes per capita]=%{x}<br>Quality of Life=%{y}<extra></extra>",
         "legendgroup": "Finland",
         "marker": {
          "color": "#FF97FF",
          "opacity": 1,
          "symbol": "circle"
         },
         "mode": "markers",
         "name": "Finland",
         "orientation": "v",
         "showlegend": true,
         "type": "scatter",
         "x": [
          0.2748197774333158
         ],
         "xaxis": "x",
         "y": [
          1.5793834055086775
         ],
         "yaxis": "y"
        },
        {
         "customdata": [
          [
           "France"
          ]
         ],
         "hovertemplate": "country=%{customdata[0]}<br>Emissions [Tonnes per capita]=%{x}<br>Quality of Life=%{y}<extra></extra>",
         "legendgroup": "France",
         "marker": {
          "color": "#FECB52",
          "opacity": 1,
          "symbol": "circle"
         },
         "mode": "markers",
         "name": "France",
         "orientation": "v",
         "showlegend": true,
         "type": "scatter",
         "x": [
          -0.5248666598001598
         ],
         "xaxis": "x",
         "y": [
          0.2796843444128237
         ],
         "yaxis": "y"
        },
        {
         "customdata": [
          [
           "Germany"
          ]
         ],
         "hovertemplate": "country=%{customdata[0]}<br>Emissions [Tonnes per capita]=%{x}<br>Quality of Life=%{y}<extra></extra>",
         "legendgroup": "Germany",
         "marker": {
          "color": "#636efa",
          "opacity": 1,
          "symbol": "circle"
         },
         "mode": "markers",
         "name": "Germany",
         "orientation": "v",
         "showlegend": true,
         "type": "scatter",
         "x": [
          0.6768360570207967
         ],
         "xaxis": "x",
         "y": [
          0.6408699800639455
         ],
         "yaxis": "y"
        },
        {
         "customdata": [
          [
           "Greece"
          ]
         ],
         "hovertemplate": "country=%{customdata[0]}<br>Emissions [Tonnes per capita]=%{x}<br>Quality of Life=%{y}<extra></extra>",
         "legendgroup": "Greece",
         "marker": {
          "color": "#EF553B",
          "opacity": 1,
          "symbol": "circle"
         },
         "mode": "markers",
         "name": "Greece",
         "orientation": "v",
         "showlegend": true,
         "type": "scatter",
         "x": [
          0.03361000968082716
         ],
         "xaxis": "x",
         "y": [
          -1.2380178060599691
         ],
         "yaxis": "y"
        },
        {
         "customdata": [
          [
           "Hungary"
          ]
         ],
         "hovertemplate": "country=%{customdata[0]}<br>Emissions [Tonnes per capita]=%{x}<br>Quality of Life=%{y}<extra></extra>",
         "legendgroup": "Hungary",
         "marker": {
          "color": "#00cc96",
          "opacity": 1,
          "symbol": "circle"
         },
         "mode": "markers",
         "name": "Hungary",
         "orientation": "v",
         "showlegend": true,
         "type": "scatter",
         "x": [
          -0.6074429766883992
         ],
         "xaxis": "x",
         "y": [
          -1.2732113753467809
         ],
         "yaxis": "y"
        },
        {
         "customdata": [
          [
           "Ireland"
          ]
         ],
         "hovertemplate": "country=%{customdata[0]}<br>Emissions [Tonnes per capita]=%{x}<br>Quality of Life=%{y}<extra></extra>",
         "legendgroup": "Ireland",
         "marker": {
          "color": "#ab63fa",
          "opacity": 1,
          "symbol": "circle"
         },
         "mode": "markers",
         "name": "Ireland",
         "orientation": "v",
         "showlegend": true,
         "type": "scatter",
         "x": [
          1.3005045556240782
         ],
         "xaxis": "x",
         "y": [
          0.8120760216333819
         ],
         "yaxis": "y"
        },
        {
         "customdata": [
          [
           "Italy"
          ]
         ],
         "hovertemplate": "country=%{customdata[0]}<br>Emissions [Tonnes per capita]=%{x}<br>Quality of Life=%{y}<extra></extra>",
         "legendgroup": "Italy",
         "marker": {
          "color": "#FFA15A",
          "opacity": 1,
          "symbol": "circle"
         },
         "mode": "markers",
         "name": "Italy",
         "orientation": "v",
         "showlegend": true,
         "type": "scatter",
         "x": [
          -0.40100218446780084
         ],
         "xaxis": "x",
         "y": [
          -0.26983888364252767
         ],
         "yaxis": "y"
        },
        {
         "customdata": [
          [
           "Latvia"
          ]
         ],
         "hovertemplate": "country=%{customdata[0]}<br>Emissions [Tonnes per capita]=%{x}<br>Quality of Life=%{y}<extra></extra>",
         "legendgroup": "Latvia",
         "marker": {
          "color": "#19d3f3",
          "opacity": 1,
          "symbol": "circle"
         },
         "mode": "markers",
         "name": "Latvia",
         "orientation": "v",
         "showlegend": true,
         "type": "scatter",
         "x": [
          -0.7617303056111622
         ],
         "xaxis": "x",
         "y": [
          -1.0143771775904307
         ],
         "yaxis": "y"
        },
        {
         "customdata": [
          [
           "Lithuania"
          ]
         ],
         "hovertemplate": "country=%{customdata[0]}<br>Emissions [Tonnes per capita]=%{x}<br>Quality of Life=%{y}<extra></extra>",
         "legendgroup": "Lithuania",
         "marker": {
          "color": "#FF6692",
          "opacity": 1,
          "symbol": "circle"
         },
         "mode": "markers",
         "name": "Lithuania",
         "orientation": "v",
         "showlegend": true,
         "type": "scatter",
         "x": [
          -0.9942478294806781
         ],
         "xaxis": "x",
         "y": [
          -0.5397839594163318
         ],
         "yaxis": "y"
        },
        {
         "customdata": [
          [
           "Luxembourg"
          ]
         ],
         "hovertemplate": "country=%{customdata[0]}<br>Emissions [Tonnes per capita]=%{x}<br>Quality of Life=%{y}<extra></extra>",
         "legendgroup": "Luxembourg",
         "marker": {
          "color": "#B6E880",
          "opacity": 1,
          "symbol": "circle"
         },
         "mode": "markers",
         "name": "Luxembourg",
         "orientation": "v",
         "showlegend": true,
         "type": "scatter",
         "x": [
          2.3066317850781517
         ],
         "xaxis": "x",
         "y": [
          0.8841051618844618
         ],
         "yaxis": "y"
        },
        {
         "customdata": [
          [
           "Malta"
          ]
         ],
         "hovertemplate": "country=%{customdata[0]}<br>Emissions [Tonnes per capita]=%{x}<br>Quality of Life=%{y}<extra></extra>",
         "legendgroup": "Malta",
         "marker": {
          "color": "#FF97FF",
          "opacity": 1,
          "symbol": "circle"
         },
         "mode": "markers",
         "name": "Malta",
         "orientation": "v",
         "showlegend": true,
         "type": "scatter",
         "x": [
          -0.7921531592015661
         ],
         "xaxis": "x",
         "y": [
          -0.005859747296814617
         ],
         "yaxis": "y"
        },
        {
         "customdata": [
          [
           "Netherlands"
          ]
         ],
         "hovertemplate": "country=%{customdata[0]}<br>Emissions [Tonnes per capita]=%{x}<br>Quality of Life=%{y}<extra></extra>",
         "legendgroup": "Netherlands",
         "marker": {
          "color": "#FECB52",
          "opacity": 1,
          "symbol": "circle"
         },
         "mode": "markers",
         "name": "Netherlands",
         "orientation": "v",
         "showlegend": true,
         "type": "scatter",
         "x": [
          0.7442009471138342
         ],
         "xaxis": "x",
         "y": [
          1.3486821698260776
         ],
         "yaxis": "y"
        },
        {
         "customdata": [
          [
           "Poland"
          ]
         ],
         "hovertemplate": "country=%{customdata[0]}<br>Emissions [Tonnes per capita]=%{x}<br>Quality of Life=%{y}<extra></extra>",
         "legendgroup": "Poland",
         "marker": {
          "color": "#636efa",
          "opacity": 1,
          "symbol": "circle"
         },
         "mode": "markers",
         "name": "Poland",
         "orientation": "v",
         "showlegend": true,
         "type": "scatter",
         "x": [
          0.3182809968481786
         ],
         "xaxis": "x",
         "y": [
          -0.5289467483451206
         ],
         "yaxis": "y"
        },
        {
         "customdata": [
          [
           "Portugal"
          ]
         ],
         "hovertemplate": "country=%{customdata[0]}<br>Emissions [Tonnes per capita]=%{x}<br>Quality of Life=%{y}<extra></extra>",
         "legendgroup": "Portugal",
         "marker": {
          "color": "#EF553B",
          "opacity": 1,
          "symbol": "circle"
         },
         "mode": "markers",
         "name": "Portugal",
         "orientation": "v",
         "showlegend": true,
         "type": "scatter",
         "x": [
          -0.5705009401857658
         ],
         "xaxis": "x",
         "y": [
          -1.2069839743560462
         ],
         "yaxis": "y"
        },
        {
         "customdata": [
          [
           "Romania"
          ]
         ],
         "hovertemplate": "country=%{customdata[0]}<br>Emissions [Tonnes per capita]=%{x}<br>Quality of Life=%{y}<extra></extra>",
         "legendgroup": "Romania",
         "marker": {
          "color": "#00cc96",
          "opacity": 1,
          "symbol": "circle"
         },
         "mode": "markers",
         "name": "Romania",
         "orientation": "v",
         "showlegend": true,
         "type": "scatter",
         "x": [
          -1.1746118900523588
         ],
         "xaxis": "x",
         "y": [
          -0.8528589459179862
         ],
         "yaxis": "y"
        },
        {
         "customdata": [
          [
           "Slovakia"
          ]
         ],
         "hovertemplate": "country=%{customdata[0]}<br>Emissions [Tonnes per capita]=%{x}<br>Quality of Life=%{y}<extra></extra>",
         "legendgroup": "Slovakia",
         "marker": {
          "color": "#ab63fa",
          "opacity": 1,
          "symbol": "circle"
         },
         "mode": "markers",
         "name": "Slovakia",
         "orientation": "v",
         "showlegend": true,
         "type": "scatter",
         "x": [
          -0.4640209526193519
         ],
         "xaxis": "x",
         "y": [
          -0.3591090415068979
         ],
         "yaxis": "y"
        },
        {
         "customdata": [
          [
           "Slovenia"
          ]
         ],
         "hovertemplate": "country=%{customdata[0]}<br>Emissions [Tonnes per capita]=%{x}<br>Quality of Life=%{y}<extra></extra>",
         "legendgroup": "Slovenia",
         "marker": {
          "color": "#FFA15A",
          "opacity": 1,
          "symbol": "circle"
         },
         "mode": "markers",
         "name": "Slovenia",
         "orientation": "v",
         "showlegend": true,
         "type": "scatter",
         "x": [
          -0.30756056272584575
         ],
         "xaxis": "x",
         "y": [
          -0.37465332405348367
         ],
         "yaxis": "y"
        },
        {
         "customdata": [
          [
           "Spain"
          ]
         ],
         "hovertemplate": "country=%{customdata[0]}<br>Emissions [Tonnes per capita]=%{x}<br>Quality of Life=%{y}<extra></extra>",
         "legendgroup": "Spain",
         "marker": {
          "color": "#19d3f3",
          "opacity": 1,
          "symbol": "circle"
         },
         "mode": "markers",
         "name": "Spain",
         "orientation": "v",
         "showlegend": true,
         "type": "scatter",
         "x": [
          -0.6487311351325188
         ],
         "xaxis": "x",
         "y": [
          0.007330999512083541
         ],
         "yaxis": "y"
        },
        {
         "customdata": [
          [
           "Sweden"
          ]
         ],
         "hovertemplate": "country=%{customdata[0]}<br>Emissions [Tonnes per capita]=%{x}<br>Quality of Life=%{y}<extra></extra>",
         "legendgroup": "Sweden",
         "marker": {
          "color": "#FF6692",
          "opacity": 1,
          "symbol": "circle"
         },
         "mode": "markers",
         "name": "Sweden",
         "orientation": "v",
         "showlegend": true,
         "type": "scatter",
         "x": [
          -2.0481824002911013
         ],
         "xaxis": "x",
         "y": [
          1.2555259413250608
         ],
         "yaxis": "y"
        }
       ],
       "layout": {
        "legend": {
         "title": {
          "text": "country"
         },
         "tracegroupgap": 0
        },
        "template": {
         "data": {
          "bar": [
           {
            "error_x": {
             "color": "#2a3f5f"
            },
            "error_y": {
             "color": "#2a3f5f"
            },
            "marker": {
             "line": {
              "color": "#E5ECF6",
              "width": 0.5
             },
             "pattern": {
              "fillmode": "overlay",
              "size": 10,
              "solidity": 0.2
             }
            },
            "type": "bar"
           }
          ],
          "barpolar": [
           {
            "marker": {
             "line": {
              "color": "#E5ECF6",
              "width": 0.5
             },
             "pattern": {
              "fillmode": "overlay",
              "size": 10,
              "solidity": 0.2
             }
            },
            "type": "barpolar"
           }
          ],
          "carpet": [
           {
            "aaxis": {
             "endlinecolor": "#2a3f5f",
             "gridcolor": "white",
             "linecolor": "white",
             "minorgridcolor": "white",
             "startlinecolor": "#2a3f5f"
            },
            "baxis": {
             "endlinecolor": "#2a3f5f",
             "gridcolor": "white",
             "linecolor": "white",
             "minorgridcolor": "white",
             "startlinecolor": "#2a3f5f"
            },
            "type": "carpet"
           }
          ],
          "choropleth": [
           {
            "colorbar": {
             "outlinewidth": 0,
             "ticks": ""
            },
            "type": "choropleth"
           }
          ],
          "contour": [
           {
            "colorbar": {
             "outlinewidth": 0,
             "ticks": ""
            },
            "colorscale": [
             [
              0,
              "#0d0887"
             ],
             [
              0.1111111111111111,
              "#46039f"
             ],
             [
              0.2222222222222222,
              "#7201a8"
             ],
             [
              0.3333333333333333,
              "#9c179e"
             ],
             [
              0.4444444444444444,
              "#bd3786"
             ],
             [
              0.5555555555555556,
              "#d8576b"
             ],
             [
              0.6666666666666666,
              "#ed7953"
             ],
             [
              0.7777777777777778,
              "#fb9f3a"
             ],
             [
              0.8888888888888888,
              "#fdca26"
             ],
             [
              1,
              "#f0f921"
             ]
            ],
            "type": "contour"
           }
          ],
          "contourcarpet": [
           {
            "colorbar": {
             "outlinewidth": 0,
             "ticks": ""
            },
            "type": "contourcarpet"
           }
          ],
          "heatmap": [
           {
            "colorbar": {
             "outlinewidth": 0,
             "ticks": ""
            },
            "colorscale": [
             [
              0,
              "#0d0887"
             ],
             [
              0.1111111111111111,
              "#46039f"
             ],
             [
              0.2222222222222222,
              "#7201a8"
             ],
             [
              0.3333333333333333,
              "#9c179e"
             ],
             [
              0.4444444444444444,
              "#bd3786"
             ],
             [
              0.5555555555555556,
              "#d8576b"
             ],
             [
              0.6666666666666666,
              "#ed7953"
             ],
             [
              0.7777777777777778,
              "#fb9f3a"
             ],
             [
              0.8888888888888888,
              "#fdca26"
             ],
             [
              1,
              "#f0f921"
             ]
            ],
            "type": "heatmap"
           }
          ],
          "heatmapgl": [
           {
            "colorbar": {
             "outlinewidth": 0,
             "ticks": ""
            },
            "colorscale": [
             [
              0,
              "#0d0887"
             ],
             [
              0.1111111111111111,
              "#46039f"
             ],
             [
              0.2222222222222222,
              "#7201a8"
             ],
             [
              0.3333333333333333,
              "#9c179e"
             ],
             [
              0.4444444444444444,
              "#bd3786"
             ],
             [
              0.5555555555555556,
              "#d8576b"
             ],
             [
              0.6666666666666666,
              "#ed7953"
             ],
             [
              0.7777777777777778,
              "#fb9f3a"
             ],
             [
              0.8888888888888888,
              "#fdca26"
             ],
             [
              1,
              "#f0f921"
             ]
            ],
            "type": "heatmapgl"
           }
          ],
          "histogram": [
           {
            "marker": {
             "pattern": {
              "fillmode": "overlay",
              "size": 10,
              "solidity": 0.2
             }
            },
            "type": "histogram"
           }
          ],
          "histogram2d": [
           {
            "colorbar": {
             "outlinewidth": 0,
             "ticks": ""
            },
            "colorscale": [
             [
              0,
              "#0d0887"
             ],
             [
              0.1111111111111111,
              "#46039f"
             ],
             [
              0.2222222222222222,
              "#7201a8"
             ],
             [
              0.3333333333333333,
              "#9c179e"
             ],
             [
              0.4444444444444444,
              "#bd3786"
             ],
             [
              0.5555555555555556,
              "#d8576b"
             ],
             [
              0.6666666666666666,
              "#ed7953"
             ],
             [
              0.7777777777777778,
              "#fb9f3a"
             ],
             [
              0.8888888888888888,
              "#fdca26"
             ],
             [
              1,
              "#f0f921"
             ]
            ],
            "type": "histogram2d"
           }
          ],
          "histogram2dcontour": [
           {
            "colorbar": {
             "outlinewidth": 0,
             "ticks": ""
            },
            "colorscale": [
             [
              0,
              "#0d0887"
             ],
             [
              0.1111111111111111,
              "#46039f"
             ],
             [
              0.2222222222222222,
              "#7201a8"
             ],
             [
              0.3333333333333333,
              "#9c179e"
             ],
             [
              0.4444444444444444,
              "#bd3786"
             ],
             [
              0.5555555555555556,
              "#d8576b"
             ],
             [
              0.6666666666666666,
              "#ed7953"
             ],
             [
              0.7777777777777778,
              "#fb9f3a"
             ],
             [
              0.8888888888888888,
              "#fdca26"
             ],
             [
              1,
              "#f0f921"
             ]
            ],
            "type": "histogram2dcontour"
           }
          ],
          "mesh3d": [
           {
            "colorbar": {
             "outlinewidth": 0,
             "ticks": ""
            },
            "type": "mesh3d"
           }
          ],
          "parcoords": [
           {
            "line": {
             "colorbar": {
              "outlinewidth": 0,
              "ticks": ""
             }
            },
            "type": "parcoords"
           }
          ],
          "pie": [
           {
            "automargin": true,
            "type": "pie"
           }
          ],
          "scatter": [
           {
            "fillpattern": {
             "fillmode": "overlay",
             "size": 10,
             "solidity": 0.2
            },
            "type": "scatter"
           }
          ],
          "scatter3d": [
           {
            "line": {
             "colorbar": {
              "outlinewidth": 0,
              "ticks": ""
             }
            },
            "marker": {
             "colorbar": {
              "outlinewidth": 0,
              "ticks": ""
             }
            },
            "type": "scatter3d"
           }
          ],
          "scattercarpet": [
           {
            "marker": {
             "colorbar": {
              "outlinewidth": 0,
              "ticks": ""
             }
            },
            "type": "scattercarpet"
           }
          ],
          "scattergeo": [
           {
            "marker": {
             "colorbar": {
              "outlinewidth": 0,
              "ticks": ""
             }
            },
            "type": "scattergeo"
           }
          ],
          "scattergl": [
           {
            "marker": {
             "colorbar": {
              "outlinewidth": 0,
              "ticks": ""
             }
            },
            "type": "scattergl"
           }
          ],
          "scattermapbox": [
           {
            "marker": {
             "colorbar": {
              "outlinewidth": 0,
              "ticks": ""
             }
            },
            "type": "scattermapbox"
           }
          ],
          "scatterpolar": [
           {
            "marker": {
             "colorbar": {
              "outlinewidth": 0,
              "ticks": ""
             }
            },
            "type": "scatterpolar"
           }
          ],
          "scatterpolargl": [
           {
            "marker": {
             "colorbar": {
              "outlinewidth": 0,
              "ticks": ""
             }
            },
            "type": "scatterpolargl"
           }
          ],
          "scatterternary": [
           {
            "marker": {
             "colorbar": {
              "outlinewidth": 0,
              "ticks": ""
             }
            },
            "type": "scatterternary"
           }
          ],
          "surface": [
           {
            "colorbar": {
             "outlinewidth": 0,
             "ticks": ""
            },
            "colorscale": [
             [
              0,
              "#0d0887"
             ],
             [
              0.1111111111111111,
              "#46039f"
             ],
             [
              0.2222222222222222,
              "#7201a8"
             ],
             [
              0.3333333333333333,
              "#9c179e"
             ],
             [
              0.4444444444444444,
              "#bd3786"
             ],
             [
              0.5555555555555556,
              "#d8576b"
             ],
             [
              0.6666666666666666,
              "#ed7953"
             ],
             [
              0.7777777777777778,
              "#fb9f3a"
             ],
             [
              0.8888888888888888,
              "#fdca26"
             ],
             [
              1,
              "#f0f921"
             ]
            ],
            "type": "surface"
           }
          ],
          "table": [
           {
            "cells": {
             "fill": {
              "color": "#EBF0F8"
             },
             "line": {
              "color": "white"
             }
            },
            "header": {
             "fill": {
              "color": "#C8D4E3"
             },
             "line": {
              "color": "white"
             }
            },
            "type": "table"
           }
          ]
         },
         "layout": {
          "annotationdefaults": {
           "arrowcolor": "#2a3f5f",
           "arrowhead": 0,
           "arrowwidth": 1
          },
          "autotypenumbers": "strict",
          "coloraxis": {
           "colorbar": {
            "outlinewidth": 0,
            "ticks": ""
           }
          },
          "colorscale": {
           "diverging": [
            [
             0,
             "#8e0152"
            ],
            [
             0.1,
             "#c51b7d"
            ],
            [
             0.2,
             "#de77ae"
            ],
            [
             0.3,
             "#f1b6da"
            ],
            [
             0.4,
             "#fde0ef"
            ],
            [
             0.5,
             "#f7f7f7"
            ],
            [
             0.6,
             "#e6f5d0"
            ],
            [
             0.7,
             "#b8e186"
            ],
            [
             0.8,
             "#7fbc41"
            ],
            [
             0.9,
             "#4d9221"
            ],
            [
             1,
             "#276419"
            ]
           ],
           "sequential": [
            [
             0,
             "#0d0887"
            ],
            [
             0.1111111111111111,
             "#46039f"
            ],
            [
             0.2222222222222222,
             "#7201a8"
            ],
            [
             0.3333333333333333,
             "#9c179e"
            ],
            [
             0.4444444444444444,
             "#bd3786"
            ],
            [
             0.5555555555555556,
             "#d8576b"
            ],
            [
             0.6666666666666666,
             "#ed7953"
            ],
            [
             0.7777777777777778,
             "#fb9f3a"
            ],
            [
             0.8888888888888888,
             "#fdca26"
            ],
            [
             1,
             "#f0f921"
            ]
           ],
           "sequentialminus": [
            [
             0,
             "#0d0887"
            ],
            [
             0.1111111111111111,
             "#46039f"
            ],
            [
             0.2222222222222222,
             "#7201a8"
            ],
            [
             0.3333333333333333,
             "#9c179e"
            ],
            [
             0.4444444444444444,
             "#bd3786"
            ],
            [
             0.5555555555555556,
             "#d8576b"
            ],
            [
             0.6666666666666666,
             "#ed7953"
            ],
            [
             0.7777777777777778,
             "#fb9f3a"
            ],
            [
             0.8888888888888888,
             "#fdca26"
            ],
            [
             1,
             "#f0f921"
            ]
           ]
          },
          "colorway": [
           "#636efa",
           "#EF553B",
           "#00cc96",
           "#ab63fa",
           "#FFA15A",
           "#19d3f3",
           "#FF6692",
           "#B6E880",
           "#FF97FF",
           "#FECB52"
          ],
          "font": {
           "color": "#2a3f5f"
          },
          "geo": {
           "bgcolor": "white",
           "lakecolor": "white",
           "landcolor": "#E5ECF6",
           "showlakes": true,
           "showland": true,
           "subunitcolor": "white"
          },
          "hoverlabel": {
           "align": "left"
          },
          "hovermode": "closest",
          "mapbox": {
           "style": "light"
          },
          "paper_bgcolor": "white",
          "plot_bgcolor": "#E5ECF6",
          "polar": {
           "angularaxis": {
            "gridcolor": "white",
            "linecolor": "white",
            "ticks": ""
           },
           "bgcolor": "#E5ECF6",
           "radialaxis": {
            "gridcolor": "white",
            "linecolor": "white",
            "ticks": ""
           }
          },
          "scene": {
           "xaxis": {
            "backgroundcolor": "#E5ECF6",
            "gridcolor": "white",
            "gridwidth": 2,
            "linecolor": "white",
            "showbackground": true,
            "ticks": "",
            "zerolinecolor": "white"
           },
           "yaxis": {
            "backgroundcolor": "#E5ECF6",
            "gridcolor": "white",
            "gridwidth": 2,
            "linecolor": "white",
            "showbackground": true,
            "ticks": "",
            "zerolinecolor": "white"
           },
           "zaxis": {
            "backgroundcolor": "#E5ECF6",
            "gridcolor": "white",
            "gridwidth": 2,
            "linecolor": "white",
            "showbackground": true,
            "ticks": "",
            "zerolinecolor": "white"
           }
          },
          "shapedefaults": {
           "line": {
            "color": "#2a3f5f"
           }
          },
          "ternary": {
           "aaxis": {
            "gridcolor": "white",
            "linecolor": "white",
            "ticks": ""
           },
           "baxis": {
            "gridcolor": "white",
            "linecolor": "white",
            "ticks": ""
           },
           "bgcolor": "#E5ECF6",
           "caxis": {
            "gridcolor": "white",
            "linecolor": "white",
            "ticks": ""
           }
          },
          "title": {
           "x": 0.05
          },
          "xaxis": {
           "automargin": true,
           "gridcolor": "white",
           "linecolor": "white",
           "ticks": "",
           "title": {
            "standoff": 15
           },
           "zerolinecolor": "white",
           "zerolinewidth": 2
          },
          "yaxis": {
           "automargin": true,
           "gridcolor": "white",
           "linecolor": "white",
           "ticks": "",
           "title": {
            "standoff": 15
           },
           "zerolinecolor": "white",
           "zerolinewidth": 2
          }
         }
        },
        "title": {
         "text": "Comparing Relationship of Emissions and Quality of Life in Europe"
        },
        "xaxis": {
         "anchor": "y",
         "domain": [
          0,
          1
         ],
         "title": {
          "text": "Emissions [Tonnes per capita]"
         }
        },
        "yaxis": {
         "anchor": "x",
         "domain": [
          0,
          1
         ],
         "title": {
          "text": "Quality of Life"
         }
        }
       }
      }
     },
     "metadata": {},
     "output_type": "display_data"
    }
   ],
   "source": [
    "fig = px.scatter(\n",
    "    avgs,\n",
    "    x='environment',\n",
    "    y='qol',\n",
    "    color='country',\n",
    "    opacity=1,\n",
    "    labels={'environment': 'Emissions [Tonnes per capita]', 'qol': 'Quality of Life'},\n",
    "    title='Comparing Relationship of Emissions and Quality of Life in Europe',\n",
    "    hover_data=['country']\n",
    ")\n",
    "\n",
    "fig"
   ]
  },
  {
   "cell_type": "code",
   "execution_count": null,
   "id": "17553e31",
   "metadata": {},
   "outputs": [],
   "source": []
  }
 ],
 "metadata": {
  "kernelspec": {
   "display_name": "base",
   "language": "python",
   "name": "python3"
  },
  "language_info": {
   "codemirror_mode": {
    "name": "ipython",
    "version": 3
   },
   "file_extension": ".py",
   "mimetype": "text/x-python",
   "name": "python",
   "nbconvert_exporter": "python",
   "pygments_lexer": "ipython3",
   "version": "3.12.7"
  }
 },
 "nbformat": 4,
 "nbformat_minor": 5
}
